{
 "cells": [
  {
   "cell_type": "markdown",
   "id": "e261caf5",
   "metadata": {
    "id": "e261caf5",
    "papermill": {
     "duration": 0.108455,
     "end_time": "2022-05-04T04:22:03.356410",
     "exception": false,
     "start_time": "2022-05-04T04:22:03.247955",
     "status": "completed"
    },
    "tags": []
   },
   "source": [
    "<div style=\"color:white;display:fill;border-radius:8px;\n",
    "            background-color:#a7d5ed;font-size:170%;\n",
    "            font-family:Nexa;letter-spacing:4.5px;\">    \n",
    "    <h1 style=\"padding:15px;color:black;text-align: center\"> Ponto de partida (EDA) </h1> \n",
    "</div>\n",
    "\n",
    "![](https://storage.googleapis.com/kaggle-competitions/kaggle/26480/logos/header.png?t=2021-04-09-00-57-05)"
   ]
  },
  {
   "cell_type": "markdown",
   "id": "03ebd368",
   "metadata": {
    "id": "03ebd368",
    "papermill": {
     "duration": 0.10217,
     "end_time": "2022-05-04T04:22:03.766987",
     "exception": false,
     "start_time": "2022-05-04T04:22:03.664817",
     "status": "completed"
    },
    "tags": []
   },
   "source": [
    "<div style=\"color:white;border-radius:8px;background-color:#a7d5ed\">    \n",
    "    <h1 style=\"padding:12px;color:black;\"> OBJETIVO </h1>    \n",
    "</div>"
   ]
  },
  {
   "cell_type": "markdown",
   "id": "175b28f5",
   "metadata": {
    "id": "175b28f5",
    "papermill": {
     "duration": 0.103047,
     "end_time": "2022-05-04T04:22:03.977664",
     "exception": false,
     "start_time": "2022-05-04T04:22:03.874617",
     "status": "completed"
    },
    "tags": []
   },
   "source": [
    "Neste notebook vamos fazer uma análise (EDA) para conhencer os dados e estabelecer uma linha de base, mostrarei as etapas iniciais de uma competição da Flai - a compreensão do conjunto de dados até a preparação dos dados para serem usados em um modelo machine learning, vamos passar pelas seguintes tarefas:\n",
    "\n",
    "- Leitura no conjunto de dados\n",
    "- Calculando estatísticas sobre o conjunto de dados\n",
    "- Visualização univariada\n",
    "- Visualizando multivariada\n",
    "- Pré-processamento \n",
    "\n",
    "\n",
    "<font color=green> **Definição do Problema**\n",
    "\n",
    "Objetivo da Competição é prever o alugél de bicicleta, sendo a métrica de avaliação RMSE (root mean squared error), que  é a medida que calcula \"a raiz quadrática média\" dos erros entre valores observados (reais) e predições (hipóteses)."
   ]
  },
  {
   "cell_type": "markdown",
   "id": "5ccf5dbb",
   "metadata": {
    "id": "5ccf5dbb",
    "papermill": {
     "duration": 0.102474,
     "end_time": "2022-05-04T04:22:04.183305",
     "exception": false,
     "start_time": "2022-05-04T04:22:04.080831",
     "status": "completed"
    },
    "tags": []
   },
   "source": [
    "---"
   ]
  },
  {
   "cell_type": "markdown",
   "id": "6db25f59",
   "metadata": {
    "id": "6db25f59",
    "papermill": {
     "duration": 0.102396,
     "end_time": "2022-05-04T04:22:04.389491",
     "exception": false,
     "start_time": "2022-05-04T04:22:04.287095",
     "status": "completed"
    },
    "tags": []
   },
   "source": [
    "<div style=\"color:white;border-radius:8px;background-color:#a7d5ed\">    \n",
    "    <h1 style=\"padding:12px;color:black;\"> 1. IMPORTAÇÕES </h1>    \n",
    "</div>"
   ]
  },
  {
   "cell_type": "markdown",
   "id": "bada9604",
   "metadata": {
    "id": "bada9604",
    "papermill": {
     "duration": 0.10291,
     "end_time": "2022-05-04T04:22:04.594960",
     "exception": false,
     "start_time": "2022-05-04T04:22:04.492050",
     "status": "completed"
    },
    "tags": []
   },
   "source": [
    "## 1.1. Instalações"
   ]
  },
  {
   "cell_type": "code",
   "execution_count": 1,
   "id": "4453dfb5",
   "metadata": {
    "ExecuteTime": {
     "end_time": "2022-07-01T18:46:28.644098Z",
     "start_time": "2022-07-01T18:46:28.613062Z"
    },
    "code_folding": [],
    "colab": {
     "base_uri": "https://localhost:8080/"
    },
    "execution": {
     "iopub.execute_input": "2022-05-04T04:22:04.813467Z",
     "iopub.status.busy": "2022-05-04T04:22:04.813011Z",
     "iopub.status.idle": "2022-05-04T04:22:04.841347Z",
     "shell.execute_reply": "2022-05-04T04:22:04.840348Z"
    },
    "executionInfo": {
     "elapsed": 121086,
     "status": "ok",
     "timestamp": 1654785031838,
     "user": {
      "displayName": "Rogério Delfim",
      "userId": "04235763959036945343"
     },
     "user_tz": 180
    },
    "id": "4453dfb5",
    "outputId": "d3ae62ce-109a-45b9-c9dc-40e55914c19e",
    "papermill": {
     "duration": 0.147758,
     "end_time": "2022-05-04T04:22:04.844921",
     "exception": false,
     "start_time": "2022-05-04T04:22:04.697163",
     "status": "completed"
    },
    "tags": []
   },
   "outputs": [],
   "source": [
    "# https://pub.towardsai.net/use-google-colab-like-a-pro-39a97184358d\n",
    "COLAB = 'google.colab' in str(get_ipython()) \n",
    "\n",
    "if COLAB:        \n",
    "    !pip install --q scikit-plot\n",
    "    !pip install --q category_encoders\n",
    "    !pip install --q shap\n",
    "    !pip install --q inflection    \n",
    "    !pip install --q optbinning\n",
    "    !pip install --q catboost\n",
    "    !pip install --q pandas-profiling\n",
    "    !pip install --q pycaret\n",
    "        \n",
    "    from google.colab import drive\n",
    "    drive.mount('/content/drive')"
   ]
  },
  {
   "cell_type": "markdown",
   "id": "9beb4215",
   "metadata": {
    "id": "9beb4215",
    "papermill": {
     "duration": 0.172636,
     "end_time": "2022-05-04T04:22:05.203774",
     "exception": false,
     "start_time": "2022-05-04T04:22:05.031138",
     "status": "completed"
    },
    "tags": []
   },
   "source": [
    "## 1.2. Bibliotecas "
   ]
  },
  {
   "cell_type": "code",
   "execution_count": 2,
   "id": "5776912b",
   "metadata": {
    "ExecuteTime": {
     "end_time": "2022-07-01T18:46:31.889188Z",
     "start_time": "2022-07-01T18:46:29.669162Z"
    },
    "execution": {
     "iopub.execute_input": "2022-05-04T04:22:05.476149Z",
     "iopub.status.busy": "2022-05-04T04:22:05.475903Z",
     "iopub.status.idle": "2022-05-04T04:22:08.987621Z",
     "shell.execute_reply": "2022-05-04T04:22:08.986898Z"
    },
    "id": "5776912b",
    "papermill": {
     "duration": 3.621538,
     "end_time": "2022-05-04T04:22:08.989725",
     "exception": false,
     "start_time": "2022-05-04T04:22:05.368187",
     "status": "completed"
    },
    "tags": []
   },
   "outputs": [],
   "source": [
    "import warnings\n",
    "import random\n",
    "import os\n",
    "import gc\n",
    "import torch\n",
    "import sklearn.exceptions\n",
    "import datetime\n",
    "import shap"
   ]
  },
  {
   "cell_type": "code",
   "execution_count": 3,
   "id": "0fa201af",
   "metadata": {
    "ExecuteTime": {
     "end_time": "2022-07-01T18:46:32.427189Z",
     "start_time": "2022-07-01T18:46:31.891208Z"
    },
    "execution": {
     "iopub.execute_input": "2022-05-04T04:22:09.201514Z",
     "iopub.status.busy": "2022-05-04T04:22:09.201277Z",
     "iopub.status.idle": "2022-05-04T04:22:09.324246Z",
     "shell.execute_reply": "2022-05-04T04:22:09.323567Z"
    },
    "id": "0fa201af",
    "papermill": {
     "duration": 0.231612,
     "end_time": "2022-05-04T04:22:09.326572",
     "exception": false,
     "start_time": "2022-05-04T04:22:09.094960",
     "status": "completed"
    },
    "tags": []
   },
   "outputs": [],
   "source": [
    "import pandas            as pd\n",
    "import numpy             as np\n",
    "import matplotlib.pyplot as plt \n",
    "import seaborn           as sns\n",
    "import joblib            as jb\n",
    "import xgboost           as xgb\n",
    "import scipy.stats       as stats\n",
    "import scipy.stats       as stats\n",
    "import statsmodels.api   as sm"
   ]
  },
  {
   "cell_type": "code",
   "execution_count": 4,
   "id": "4f80961a",
   "metadata": {
    "ExecuteTime": {
     "end_time": "2022-07-01T18:46:32.442188Z",
     "start_time": "2022-07-01T18:46:32.430189Z"
    },
    "execution": {
     "iopub.execute_input": "2022-05-04T04:22:09.534782Z",
     "iopub.status.busy": "2022-05-04T04:22:09.534568Z",
     "iopub.status.idle": "2022-05-04T04:22:09.538962Z",
     "shell.execute_reply": "2022-05-04T04:22:09.538308Z"
    },
    "id": "4f80961a",
    "papermill": {
     "duration": 0.110081,
     "end_time": "2022-05-04T04:22:09.540566",
     "exception": false,
     "start_time": "2022-05-04T04:22:09.430485",
     "status": "completed"
    },
    "tags": []
   },
   "outputs": [],
   "source": [
    "from sklearn.model_selection import train_test_split, KFold, StratifiedKFold\n",
    "from sklearn.preprocessing   import StandardScaler, MinMaxScaler, RobustScaler \n",
    "from sklearn.preprocessing   import MaxAbsScaler, QuantileTransformer \n",
    "from sklearn.preprocessing   import PowerTransformer, Normalizer\n",
    "from sklearn.preprocessing   import LabelBinarizer, OneHotEncoder, OrdinalEncoder\n",
    "from sklearn                 import metrics\n",
    "from sklearn.metrics         import ConfusionMatrixDisplay, confusion_matrix"
   ]
  },
  {
   "cell_type": "code",
   "execution_count": 5,
   "id": "aea43fa6",
   "metadata": {
    "ExecuteTime": {
     "end_time": "2022-07-01T18:46:32.457189Z",
     "start_time": "2022-07-01T18:46:32.445189Z"
    },
    "execution": {
     "iopub.execute_input": "2022-05-04T04:22:09.747990Z",
     "iopub.status.busy": "2022-05-04T04:22:09.747477Z",
     "iopub.status.idle": "2022-05-04T04:22:09.750753Z",
     "shell.execute_reply": "2022-05-04T04:22:09.750126Z"
    },
    "id": "aea43fa6",
    "papermill": {
     "duration": 0.10819,
     "end_time": "2022-05-04T04:22:09.752410",
     "exception": false,
     "start_time": "2022-05-04T04:22:09.644220",
     "status": "completed"
    },
    "tags": []
   },
   "outputs": [],
   "source": [
    "from datetime                import datetime\n",
    "from sklearn.ensemble        import VotingRegressor\n",
    "from sklearn.compose         import TransformedTargetRegressor\n",
    "from sklearn.pipeline        import Pipeline\n",
    "from scipy.stats             import skew, norm\n",
    "from scipy.stats             import norm\n",
    "# from matplotlib.colors import ListedColormap"
   ]
  },
  {
   "cell_type": "code",
   "execution_count": 6,
   "id": "d9ae5527",
   "metadata": {
    "ExecuteTime": {
     "end_time": "2022-07-01T18:46:32.536189Z",
     "start_time": "2022-07-01T18:46:32.459189Z"
    }
   },
   "outputs": [],
   "source": [
    "from yellowbrick.regressor       import ResidualsPlot\n",
    "from yellowbrick.regressor       import PredictionError\n",
    "from yellowbrick.model_selection import ValidationCurve"
   ]
  },
  {
   "cell_type": "code",
   "execution_count": 7,
   "id": "ca0e7e2e",
   "metadata": {
    "ExecuteTime": {
     "end_time": "2022-07-01T18:46:33.251078Z",
     "start_time": "2022-07-01T18:46:32.538189Z"
    }
   },
   "outputs": [
    {
     "data": {
      "text/html": [
       "<style type='text/css'>\n",
       ".datatable table.frame { margin-bottom: 0; }\n",
       ".datatable table.frame thead { border-bottom: none; }\n",
       ".datatable table.frame tr.coltypes td {  color: #FFFFFF;  line-height: 6px;  padding: 0 0.5em;}\n",
       ".datatable .bool    { background: #DDDD99; }\n",
       ".datatable .object  { background: #565656; }\n",
       ".datatable .int     { background: #5D9E5D; }\n",
       ".datatable .float   { background: #4040CC; }\n",
       ".datatable .str     { background: #CC4040; }\n",
       ".datatable .time    { background: #40CC40; }\n",
       ".datatable .row_index {  background: var(--jp-border-color3);  border-right: 1px solid var(--jp-border-color0);  color: var(--jp-ui-font-color3);  font-size: 9px;}\n",
       ".datatable .frame tbody td { text-align: left; }\n",
       ".datatable .frame tr.coltypes .row_index {  background: var(--jp-border-color0);}\n",
       ".datatable th:nth-child(2) { padding-left: 12px; }\n",
       ".datatable .hellipsis {  color: var(--jp-cell-editor-border-color);}\n",
       ".datatable .vellipsis {  background: var(--jp-layout-color0);  color: var(--jp-cell-editor-border-color);}\n",
       ".datatable .na {  color: var(--jp-cell-editor-border-color);  font-size: 80%;}\n",
       ".datatable .sp {  opacity: 0.25;}\n",
       ".datatable .footer { font-size: 9px; }\n",
       ".datatable .frame_dimensions {  background: var(--jp-border-color3);  border-top: 1px solid var(--jp-border-color0);  color: var(--jp-ui-font-color3);  display: inline-block;  opacity: 0.6;  padding: 1px 10px 1px 5px;}\n",
       "</style>\n"
      ],
      "text/plain": [
       "<IPython.core.display.HTML object>"
      ]
     },
     "metadata": {},
     "output_type": "display_data"
    }
   ],
   "source": [
    "from lightgbm import LGBMRegressor"
   ]
  },
  {
   "cell_type": "markdown",
   "id": "722643f8",
   "metadata": {
    "id": "722643f8",
    "papermill": {
     "duration": 0.104138,
     "end_time": "2022-05-04T04:22:09.962615",
     "exception": false,
     "start_time": "2022-05-04T04:22:09.858477",
     "status": "completed"
    },
    "tags": []
   },
   "source": [
    "***"
   ]
  },
  {
   "cell_type": "markdown",
   "id": "ecd814f6",
   "metadata": {
    "id": "ecd814f6",
    "papermill": {
     "duration": 0.102595,
     "end_time": "2022-05-04T04:22:10.168779",
     "exception": false,
     "start_time": "2022-05-04T04:22:10.066184",
     "status": "completed"
    },
    "tags": []
   },
   "source": [
    "## 1.3. Funções\n",
    "Aqui centralizamos todas as funções desenvolvidas durante o projeto para melhor organização do código."
   ]
  },
  {
   "cell_type": "code",
   "execution_count": 8,
   "id": "06c4fcba",
   "metadata": {
    "ExecuteTime": {
     "end_time": "2022-07-01T18:46:34.067683Z",
     "start_time": "2022-07-01T18:46:33.965683Z"
    },
    "code_folding": [
     0,
     4,
     7,
     52,
     71,
     116,
     139,
     182,
     221,
     224,
     246,
     254,
     257,
     262,
     275,
     299,
     307,
     315,
     326,
     341,
     383,
     396,
     412,
     431
    ]
   },
   "outputs": [],
   "source": [
    "class Ultil():\n",
    "    \n",
    "    import sklearn.exceptions\n",
    "    \n",
    "    def __init__(self):\n",
    "        pass\n",
    "    \n",
    "    def jupyter_setting():\n",
    "    \n",
    "        %matplotlib inline\n",
    "\n",
    "        #os.environ[\"WANDB_SILENT\"] = \"true\" \n",
    "        #plt.style.use('bmh') \n",
    "        #plt.rcParams['figure.figsize'] = [20,15]\n",
    "        #plt.rcParams['font.size']      = 13\n",
    "\n",
    "        pd.options.display.max_columns = None\n",
    "        #pd.set_option('display.expand_frame_repr', False)\n",
    "\n",
    "        warnings.filterwarnings(action='ignore')\n",
    "        warnings.simplefilter('ignore')\n",
    "        warnings.filterwarnings('ignore')\n",
    "        warnings.filterwarnings('ignore', category=DeprecationWarning)\n",
    "        warnings.filterwarnings('ignore', category=FutureWarning)\n",
    "        warnings.filterwarnings('ignore', category=RuntimeWarning)\n",
    "        warnings.filterwarnings('ignore', category=UserWarning)\n",
    "        warnings.filterwarnings(\"ignore\", category=sklearn.exceptions.UndefinedMetricWarning)\n",
    "        warnings.filterwarnings(\"ignore\", category= sklearn.exceptions.UndefinedMetricWarning)\n",
    "\n",
    "        pd.set_option('display.max_rows', 200)\n",
    "        pd.set_option('display.max_columns', 500)\n",
    "        pd.set_option('display.max_colwidth', None)\n",
    "\n",
    "        icecream = [\"#00008b\", \"#960018\",\"#008b00\", \"#00468b\", \"#8b4500\", \"#582c00\"]\n",
    "        #sns.palplot(sns.color_palette(icecream))\n",
    "\n",
    "        colors = [\"lightcoral\", \"sandybrown\", \"darkorange\", \"mediumseagreen\",\n",
    "              \"lightseagreen\", \"cornflowerblue\", \"mediumpurple\", \"palevioletred\",\n",
    "              \"lightskyblue\", \"sandybrown\", \"yellowgreen\", \"indianred\",\n",
    "              \"lightsteelblue\", \"mediumorchid\", \"deepskyblue\"]\n",
    "\n",
    "        # Colors\n",
    "        dark_red   = \"#b20710\"\n",
    "        black      = \"#221f1f\"\n",
    "        green      = \"#009473\"\n",
    "        myred      = '#CD5C5C'\n",
    "        myblue     = '#6495ED'\n",
    "        mygreen    = '#90EE90'    \n",
    "        color_cols = [myred, myblue,mygreen]\n",
    "\n",
    "        return icecream, colors, color_cols\n",
    "\n",
    "    def missing_zero_values_table(df):\n",
    "        mis_val         = df.isnull().sum()\n",
    "        mis_val_percent = round(df.isnull().mean().mul(100), 2)\n",
    "        mz_table        = pd.concat([mis_val, mis_val_percent], axis=1)\n",
    "        mz_table        = mz_table.rename(columns = {df.index.name:'col_name', \n",
    "                                                     0 : 'Valores ausentes', \n",
    "                                                     1 : '% de valores totais'})\n",
    "        \n",
    "        mz_table['Tipo de dados'] = df.dtypes\n",
    "        mz_table                  = mz_table[mz_table.iloc[:,1] != 0 ]. \\\n",
    "                                     sort_values('% de valores totais', ascending=False)\n",
    "        \n",
    "        msg = \"Seu dataframe selecionado tem {} colunas e {} \" + \\\n",
    "              \"linhas. \\nExistem {} colunas com valores ausentes.\"\n",
    "            \n",
    "        print (msg.format(df.shape[1], df.shape[0], mz_table.shape[0]))\n",
    "        \n",
    "        return mz_table.reset_index()\n",
    "    \n",
    "    def reduce_memory_usage(df, verbose=True):\n",
    "    \n",
    "        numerics = [\"int8\", \"int16\", \"int32\", \"int64\", \"float16\", \"float32\", \"float64\"]\n",
    "        start_mem = df.memory_usage().sum() / 1024 ** 2\n",
    "\n",
    "        for col in df.columns:\n",
    "\n",
    "            col_type = df[col].dtypes\n",
    "\n",
    "            if col_type in numerics:\n",
    "                c_min = df[col].min()\n",
    "                c_max = df[col].max()\n",
    "\n",
    "                if str(col_type)[:3] == \"int\":\n",
    "                    if c_min > np.iinfo(np.int8).min and c_max < np.iinfo(np.int8).max:\n",
    "                        df[col] = df[col].astype(np.int8)\n",
    "                    elif c_min > np.iinfo(np.int16).min and c_max < np.iinfo(np.int16).max:\n",
    "                        df[col] = df[col].astype(np.int16)\n",
    "                    elif c_min > np.iinfo(np.int32).min and c_max < np.iinfo(np.int32).max:\n",
    "                        df[col] = df[col].astype(np.int32)\n",
    "                    elif c_min > np.iinfo(np.int64).min and c_max < np.iinfo(np.int64).max:\n",
    "                        df[col] = df[col].astype(np.int64)\n",
    "                else:\n",
    "                    if (\n",
    "                        c_min > np.finfo(np.float16).min\n",
    "                        and c_max < np.finfo(np.float16).max\n",
    "                    ):\n",
    "                        df[col] = df[col].astype(np.float16)\n",
    "                    elif (\n",
    "                        c_min > np.finfo(np.float32).min\n",
    "                        and c_max < np.finfo(np.float32).max\n",
    "                    ):\n",
    "                        df[col] = df[col].astype(np.float32)\n",
    "                    else:\n",
    "                        df[col] = df[col].astype(np.float64)\n",
    "        end_mem = df.memory_usage().sum() / 1024 ** 2\n",
    "        if verbose:\n",
    "            print(\n",
    "                \"Mem. usage decreased to {:.2f} Mb ({:.1f}% reduction)\".format(\n",
    "                    end_mem, 100 * (start_mem - end_mem) / start_mem\n",
    "                )\n",
    "            )\n",
    "\n",
    "        return df\n",
    "    \n",
    "    def graf_label(ax, total):\n",
    "\n",
    "         for i in ax.patches:\n",
    "            # get_width pulls left or right; get_y pushes up or down\n",
    "            width, height = i.get_width() -.2 , i.get_height()\n",
    "\n",
    "            x, y  = i.get_xy()  \n",
    "            color = 'white'\n",
    "            alt   = .5\n",
    "            soma  = 0 \n",
    "\n",
    "            if height < 70:\n",
    "                color = 'black'\n",
    "                alt   = 1\n",
    "                soma  = 10\n",
    "\n",
    "            ax.annotate(str(round((i.get_height() * 100.0 / total), 1) )+'%', \n",
    "                        (i.get_x()+.3*width, \n",
    "                         i.get_y()+soma + alt*height),\n",
    "                         color   = color,\n",
    "                         weight = 'bold',\n",
    "                         size   = 14)\n",
    "            \n",
    "    def graf_bar(df, col, title, xlabel, ylabel, tol = 0):\n",
    "    \n",
    "        #ax    = df.groupby(['churn_cat'])['churn_cat'].count()\n",
    "        ax     = df    \n",
    "        colors = col\n",
    "\n",
    "        if tol == 0: \n",
    "            total  = sum(ax)\n",
    "            ax = (ax).plot(kind    ='bar',\n",
    "                           stacked = True,\n",
    "                           width   = .5,\n",
    "                           rot     = 0,\n",
    "                           color   = colors, \n",
    "                           grid    = False)\n",
    "        else:\n",
    "            total  = tol     \n",
    "\n",
    "            ax = (ax).plot(kind    ='bar',\n",
    "                           stacked = True,\n",
    "                           width   = .5,\n",
    "                           rot     = 0,\n",
    "                           figsize = (10,6),\n",
    "                           color   = colors,\n",
    "                           grid    = False)\n",
    "\n",
    "        #ax.yaxis.set_major_formatter(mtick.PercentFormatter())\n",
    "\n",
    "        #y_fmt = tick.FormatStrFormatter('%.0f') \n",
    "        #ax.yaxis.set_major_formatter(y_fmt)\n",
    "\n",
    "        title   = title #+ ' \\n'\n",
    "        xlabel  = '\\n ' + xlabel \n",
    "        ylabel  = ylabel + ' \\n'\n",
    "\n",
    "        ax.set_title(title  , fontsize=22)\n",
    "        ax.set_xlabel(xlabel, fontsize=12)\n",
    "        ax.set_ylabel(ylabel, fontsize=12)    \n",
    "\n",
    "        min = [0,23000000]\n",
    "        #ax.set_ylim(min)\n",
    "\n",
    "        graf_label(ax, total)\n",
    "\n",
    "    def graf_fature_corr(df_, annot_=False, threshold_=.8, print_var_=False, \n",
    "                         print_graf_=True, mask_=True, title_=''):\n",
    "\n",
    "        df = df_.corr(method ='pearson').round(5)\n",
    "\n",
    "        if print_graf_: \n",
    "            # Máscara para ocultar a parte superior direita do gráfico, pois é uma duplicata\n",
    "            mask = np.zeros_like(df)\n",
    "            mask[np.triu_indices_from(mask)] = mask_\n",
    "\n",
    "            # Making a plot\n",
    "            ax = sns.heatmap(df, annot=annot_, \n",
    "                             mask=mask, \n",
    "                             cmap=\"RdBu\", \n",
    "                             annot_kws={\"weight\": \"bold\", \"fontsize\":13}\n",
    "                            )\n",
    "\n",
    "            ax.set_title(\"\\n Correlação das variável {} \\n\".format(title_), fontsize=17)\n",
    "\n",
    "            plt.setp(ax.get_xticklabels(), \n",
    "                     rotation      = 90, \n",
    "                     ha            = \"right\",\n",
    "                     rotation_mode = \"anchor\", \n",
    "                     weight        = \"normal\")\n",
    "\n",
    "            plt.setp(ax.get_yticklabels(), \n",
    "                     weight        = \"normal\",\n",
    "                     rotation_mode = \"anchor\", \n",
    "                     rotation      = 0, \n",
    "                     ha            = \"right\")\n",
    "\n",
    "            plt.show();\n",
    "\n",
    "        if print_var_:         \n",
    "            df_corr = df[abs(df)>threshold_][df!=1.0].unstack().dropna().reset_index()\n",
    "            if len(df_corr)>0:            \n",
    "                print('Variáveis autocorrelacionadas threshold={:2.2f}'.format(threshold_))\n",
    "                df_corr.columns =  ['var_1', 'var_2', 'corr']\n",
    "                display(df_corr)\n",
    "            else: \n",
    "                print('Não tem variáveis autocorrelacionadas threshold={:2.2f}'.format(threshold_))\n",
    "                \n",
    "    def describe(df):\n",
    "        var = df.columns\n",
    "\n",
    "        # Medidas de tendência central, média e mediana \n",
    "        ct1 = pd.DataFrame(df[var].apply(np.mean)).T\n",
    "        ct2 = pd.DataFrame(df[var].apply(np.median)).T\n",
    "\n",
    "        # Dispensão - str, min , max range skew, kurtosis\n",
    "        d1 = pd.DataFrame(df[var].apply(np.std)).T\n",
    "        d2 = pd.DataFrame(df[var].apply(min)).T\n",
    "        d3 = pd.DataFrame(df[var].apply(max)).T\n",
    "        d4 = pd.DataFrame(df[var].apply(lambda x: x.max() - x.min())).T\n",
    "        d5 = pd.DataFrame(df[var].apply(lambda x: x.skew())).T\n",
    "        d6 = pd.DataFrame(df[var].apply(lambda x: x.kurtosis())).T\n",
    "        d7 = pd.DataFrame(df[var].apply(lambda x: (3 *( np.mean(x) - np.median(x)) / np.std(x) ))).T\n",
    "\n",
    "        # concatenete \n",
    "        m = pd.concat([d2, d3, d4, ct1, ct2, d1, d5, d6, d7]).T.reset_index()\n",
    "        m.columns = ['attrobutes', 'min', 'max', 'range', 'mean', 'median', 'std','skew', 'kurtosis','coef_as']\n",
    "\n",
    "        return m\n",
    "\n",
    "    def graf_outlier(df, feature):\n",
    "        col = [(0,4), (5,9)]\n",
    "\n",
    "        df_plot = ((df[feature] - df[feature].min())/\n",
    "                   (df[feature].max() - df[feature].min()))\n",
    "\n",
    "        fig, ax = plt.subplots(len(col), 1, figsize=(15,7))\n",
    "\n",
    "        for i, (x) in enumerate(col): \n",
    "            sns.boxplot(data = df_plot.iloc[:, x[0]:x[1] ], ax = ax[i]); \n",
    "\n",
    "    def diff(t_a, t_b):\n",
    "        from dateutil.relativedelta import relativedelta\n",
    "        t_diff = relativedelta(t_b, t_a)  # later/end time comes first!\n",
    "        return '{h}h {m}m {s}s'.format(h=t_diff.hours, m=t_diff.minutes, s=t_diff.seconds)\n",
    "\n",
    "    def free_gpu_cache():\n",
    "\n",
    "        # https://www.kaggle.com/getting-started/140636\n",
    "        #print(\"Initial GPU Usage\")\n",
    "        #gpu_usage()                             \n",
    "\n",
    "        #cuda.select_device(0)\n",
    "        #cuda.close()\n",
    "        #cuda.select_device(0)   \n",
    "\n",
    "        gc.collect()\n",
    "        torch.cuda.empty_cache()\n",
    "\n",
    "    def graf_eval():\n",
    "\n",
    "        results     = model.evals_result()\n",
    "        ntree_limit = model.best_ntree_limit\n",
    "\n",
    "        plt.figure(figsize=(20,7))\n",
    "\n",
    "        for i, error in  enumerate(['mlogloss', 'merror']):#\n",
    "\n",
    "            plt.subplot(1,2,i+1)\n",
    "            plt.plot(results[\"validation_0\"][error], label=\"Treinamento\")\n",
    "            plt.plot(results[\"validation_1\"][error], label=\"Validação\")\n",
    "\n",
    "            plt.axvline(ntree_limit, \n",
    "                        color=\"gray\", \n",
    "                        label=\"N. de árvore ideal {}\".format(ntree_limit))\n",
    "\n",
    "\n",
    "            title_name ='\\n' + error.upper() + ' PLOT \\n'\n",
    "            plt.title(title_name)\n",
    "            plt.xlabel(\"Número de árvores\")\n",
    "            plt.ylabel(error)\n",
    "            plt.legend();\n",
    "\n",
    "    def linear_fit_slope(y):\n",
    "        \"\"\"Return the slope of a linear fit to a series.\"\"\"\n",
    "        y_pure = y.dropna()\n",
    "        length = len(y_pure)\n",
    "        x = np.arange(0, length)\n",
    "        slope, intercept = np.polyfit(x, y_pure.values, deg=1)\n",
    "        return slope\n",
    "\n",
    "    def linear_fit_intercept(y):\n",
    "        \"\"\"Return the intercept of a linear fit to a series.\"\"\"\n",
    "        y_pure = y.dropna()\n",
    "        length = len(y_pure)\n",
    "        x = np.arange(0, length)\n",
    "        slope, intercept = np.polyfit(x, y_pure.values, deg=1)\n",
    "        return intercept\n",
    "\n",
    "    def cromer_v(x, y):\n",
    "        cm       = pd.crosstab(x, y).to_numpy()        \n",
    "        n        = cm.sum()\n",
    "        r, k     = cm.shape\n",
    "        chi2     = stats.chi2_contingency(cm)[0]\n",
    "        chi2corr = max(0, chi2 - (k-1) * (r-1) /(n-1))\n",
    "        kcorr    = k - (k-1) **2/(n-1)\n",
    "        rcorr    = r - (r-1) **2/(n-1)    \n",
    "        v        = np.sqrt((chi2corr/n) / (min(kcorr-1, rcorr-1)))        \n",
    "        return v  \n",
    "\n",
    "    def generate_category_table(data):\n",
    "\n",
    "        cols    = data.select_dtypes(include='object').columns\n",
    "        dataset = pd.DataFrame()\n",
    "\n",
    "        for i in cols:\n",
    "            corr = []\n",
    "            for x in cols: \n",
    "                corr.append(Ultil.cromer_v(data[i],data[x]))\n",
    "\n",
    "            aux     = pd.DataFrame({i:corr})\n",
    "            dataset = pd.concat([dataset, aux], axis=1) \n",
    "\n",
    "        return dataset.set_index(dataset.columns)\n",
    "            \n",
    "    def graf_feature_corr(df_, annot_=False, threshold_=.8, print_var_=False, \n",
    "                          print_graf_=True, mask_=True, title_=''):\n",
    "\n",
    "        df = df_.corr(method ='pearson').round(5)\n",
    "\n",
    "        if print_graf_: \n",
    "            # Máscara para ocultar a parte superior direita do gráfico, pois é uma duplicata\n",
    "            mask = np.zeros_like(df)\n",
    "            mask[np.triu_indices_from(mask)] = mask_\n",
    "\n",
    "            # Making a plot\n",
    "            ax = sns.heatmap(df, annot=annot_, \n",
    "                             mask=mask, \n",
    "                             cmap=\"RdBu\", \n",
    "                             annot_kws={\"weight\": \"bold\", \"fontsize\":13}\n",
    "                            )\n",
    "\n",
    "            ax.set_title(\"\\n Correlação das variável {} \\n\".format(title_), fontsize=17)\n",
    "\n",
    "            plt.setp(ax.get_xticklabels(), \n",
    "                     rotation      = 90, \n",
    "                     ha            = \"right\",\n",
    "                     rotation_mode = \"anchor\", \n",
    "                     weight        = \"normal\")\n",
    "\n",
    "            plt.setp(ax.get_yticklabels(), \n",
    "                     weight        = \"normal\",\n",
    "                     rotation_mode = \"anchor\", \n",
    "                     rotation      = 0, \n",
    "                     ha            = \"right\")\n",
    "\n",
    "            plt.show();\n",
    "\n",
    "        if print_var_:         \n",
    "            df_corr = df[abs(df)>threshold_][df!=1.0].unstack().dropna().reset_index()\n",
    "            if len(df_corr)>0:            \n",
    "                print('Variáveis autocorrelacionadas threshold={:2.2f}'.format(threshold_))\n",
    "                df_corr.columns =  ['var_1', 'var_2', 'corr']\n",
    "                display(df_corr)\n",
    "            else: \n",
    "                print('Não tem variáveis autocorrelacionadas threshold={:2.2f}'.format(threshold_))\n",
    "\n",
    "    def plot_roc_curve(fpr, tpr, label=None):\n",
    "        fig, ax = plt.subplots()\n",
    "        ax.plot(fpr, tpr, \"r-\", label=label)\n",
    "        ax.plot([0, 1], [0, 1], transform=ax.transAxes, ls=\"--\", c=\".3\")\n",
    "        plt.xlim([0.0, 1.0])\n",
    "        plt.ylim([0.0, 1.0])\n",
    "        plt.rcParams['font.size'] = 12\n",
    "        plt.title('ROC curve for FLAI 08')\n",
    "        plt.xlabel('False Positive Rate (1 - Specificity)')\n",
    "        plt.ylabel('True Positive Rate (Sensitivity)')\n",
    "        plt.legend(loc=\"lower right\")\n",
    "        plt.grid(True)\n",
    "\n",
    "    def feature_engineering(df_):\n",
    "\n",
    "        var_f27 = ''\n",
    "        for col in df_['f_27']: \n",
    "            var_f27 +=col\n",
    "\n",
    "        var_f27 = list(set(var_f27))\n",
    "        var_f27.sort()\n",
    "\n",
    "        df_[\"fe_f_27_unique\"] = df_[\"f_27\"].apply(lambda x: len(set(x)))\n",
    "\n",
    "        for letra in var_f27:             \n",
    "            df_['fe_' + letra.lower() + '_count'] = df2_train[\"f_27\"].str.count(letra)\n",
    "\n",
    "        return df_ \n",
    "\n",
    "    def identifies_outliers(df):\n",
    "\n",
    "        cols_num = df.select_dtypes(np.number).columns\n",
    "\n",
    "        for col in cols_num: \n",
    "            if col != 'unnamed':            \n",
    "                Q1  = df[col].quantile(0.25)\n",
    "                Q3  = df[col].quantile(0.75)\n",
    "                IQR = Q3-Q1\n",
    "                lowqe_bound=Q1 - 1.5 * IQR\n",
    "                upper_bound=Q3 + 1.5 * IQR\n",
    "\n",
    "                df['outliers_'+ col] = 0\n",
    "                df['outliers_'+ col][(df[col]<=lowqe_bound)|(df[col]>=upper_bound)] = 1    \n",
    "\n",
    "                df[col] = np.where(df[col] > df[col].quantile(0.95),\n",
    "                                                df[col].median(),\n",
    "                                                df[col])\n",
    "\n",
    "    def evaluation(y_, predictions_):\n",
    "        mae  = metrics.mean_absolute_error(y_, predictions_)\n",
    "        mse  = metrics.mean_squared_error(y_, predictions_)\n",
    "        rmse = metrics.mean_squared_error(y_, predictions_, squared=False) \n",
    "        mape = metrics.mean_absolute_percentage_error(y_, predictions_)\n",
    "        r2   = metrics.r2_score(y_, predictions_)    \n",
    "        return rmse, mae, mse, mape, r2"
   ]
  },
  {
   "cell_type": "code",
   "execution_count": 9,
   "id": "c655eb2b",
   "metadata": {
    "ExecuteTime": {
     "end_time": "2022-07-01T18:46:34.443554Z",
     "start_time": "2022-07-01T18:46:34.436556Z"
    }
   },
   "outputs": [],
   "source": [
    "icecream, colors, color_cols = Ultil.jupyter_setting()"
   ]
  },
  {
   "cell_type": "markdown",
   "id": "7070c99c",
   "metadata": {
    "id": "7070c99c",
    "papermill": {
     "duration": 0.102787,
     "end_time": "2022-05-04T04:22:15.352132",
     "exception": false,
     "start_time": "2022-05-04T04:22:15.249345",
     "status": "completed"
    },
    "tags": []
   },
   "source": [
    "---"
   ]
  },
  {
   "cell_type": "markdown",
   "id": "b28ac5b3",
   "metadata": {
    "id": "b28ac5b3",
    "papermill": {
     "duration": 0.102473,
     "end_time": "2022-05-04T04:22:15.556924",
     "exception": false,
     "start_time": "2022-05-04T04:22:15.454451",
     "status": "completed"
    },
    "tags": []
   },
   "source": [
    "## 1.4. Dataset"
   ]
  },
  {
   "cell_type": "markdown",
   "id": "d1d3e78d",
   "metadata": {
    "id": "d1d3e78d",
    "papermill": {
     "duration": 0.102246,
     "end_time": "2022-05-04T04:22:15.761286",
     "exception": false,
     "start_time": "2022-05-04T04:22:15.659040",
     "status": "completed"
    },
    "tags": []
   },
   "source": [
    "### 1.4.1. Descrição de dados\n",
    "\n",
    "Para este desafio, temos o seguinte conjunto de dados com as seguintes variáveis: \n",
    "\n",
    "- **hora**: horário de aluguél da bicicleta;\t\n",
    "- **dia**: dia da semana \t\n",
    "- **feriado**: indica se é feriado ou não;\n",
    "- **estação**: estação do ano (Outono, Inverno, Primavera e Verão);\n",
    "- **temperatura**: temperatura\n",
    "- **chuva**: volume de chuva;\n",
    "- **umidade**: umidade do ar;\n",
    "- **sol**: sol\n",
    "- **visibilidade**: visibilidade\n",
    "- **vento**: velocidade do vendo \n",
    "- **aluguéis**: valor do aluguél da bicicleta (variável alvo)\n",
    "\n",
    "\n",
    "### 1.4.2. Arquivos\n",
    "- **treino.csv**: conjunto de treinamento;\n",
    "- **teste.csv**: conjunto de teste, a tarefa é prever um o valor de aluguel. "
   ]
  },
  {
   "cell_type": "markdown",
   "id": "665e7319",
   "metadata": {
    "id": "665e7319",
    "papermill": {
     "duration": 0.175883,
     "end_time": "2022-05-04T04:22:16.105234",
     "exception": false,
     "start_time": "2022-05-04T04:22:15.929351",
     "status": "completed"
    },
    "tags": []
   },
   "source": [
    "### 1.4.3. Estrutura de pasta\n",
    "A finalidade é criar um estrutura de pasta para armazenar os artefatos criados no processo de análise e modelagem."
   ]
  },
  {
   "cell_type": "code",
   "execution_count": 10,
   "id": "24fb1e98",
   "metadata": {
    "ExecuteTime": {
     "end_time": "2022-07-01T18:46:37.518159Z",
     "start_time": "2022-07-01T18:46:37.508160Z"
    },
    "execution": {
     "iopub.execute_input": "2022-05-04T04:22:16.839731Z",
     "iopub.status.busy": "2022-05-04T04:22:16.839227Z",
     "iopub.status.idle": "2022-05-04T04:22:16.843111Z",
     "shell.execute_reply": "2022-05-04T04:22:16.842423Z"
    },
    "executionInfo": {
     "elapsed": 355,
     "status": "ok",
     "timestamp": 1654809086754,
     "user": {
      "displayName": "Rogério Delfim",
      "userId": "04235763959036945343"
     },
     "user_tz": 180
    },
    "id": "24fb1e98",
    "papermill": {
     "duration": 0.108611,
     "end_time": "2022-05-04T04:22:16.844982",
     "exception": false,
     "start_time": "2022-05-04T04:22:16.736371",
     "status": "completed"
    },
    "tags": []
   },
   "outputs": [],
   "source": [
    "path        = '/content/drive/MyDrive/Flai/09/' if COLAB else ''   \n",
    "path_data   = 'Data/'  \n",
    "target      = 'aluguéis'\n",
    "path_automl = 'automl/'"
   ]
  },
  {
   "cell_type": "code",
   "execution_count": 11,
   "id": "5edc2674",
   "metadata": {
    "ExecuteTime": {
     "end_time": "2022-07-01T18:46:38.315418Z",
     "start_time": "2022-07-01T18:46:38.308421Z"
    },
    "execution": {
     "iopub.execute_input": "2022-05-04T04:22:16.423195Z",
     "iopub.status.busy": "2022-05-04T04:22:16.422930Z",
     "iopub.status.idle": "2022-05-04T04:22:16.428412Z",
     "shell.execute_reply": "2022-05-04T04:22:16.427742Z"
    },
    "executionInfo": {
     "elapsed": 1,
     "status": "ok",
     "timestamp": 1654809087041,
     "user": {
      "displayName": "Rogério Delfim",
      "userId": "04235763959036945343"
     },
     "user_tz": 180
    },
    "id": "5edc2674",
    "papermill": {
     "duration": 0.156132,
     "end_time": "2022-05-04T04:22:16.430124",
     "exception": false,
     "start_time": "2022-05-04T04:22:16.273992",
     "status": "completed"
    },
    "tags": []
   },
   "outputs": [],
   "source": [
    "paths = ['img', 'Data', 'Data/pkl', 'Data/submission', 'Data/tunning', \n",
    "         'model', 'model/preds', 'model/optuna','model/preds/test', 'Data/shap',\n",
    "         'model/preds/test/n1', 'model/preds/test/n2', 'model/preds/test/n3', \n",
    "         'model/preds/train', 'model/preds/train/n1', 'model/preds/train/n2', \n",
    "         'model/preds/train/n3', 'model/preds/param', 'model/mdl', 'model/preds/folds' ]\n",
    "\n",
    "for p in paths:\n",
    "    try:\n",
    "        os.mkdir(path + p)       \n",
    "    except:\n",
    "        pass "
   ]
  },
  {
   "cell_type": "markdown",
   "id": "3bbb44b6",
   "metadata": {
    "id": "3bbb44b6",
    "papermill": {
     "duration": 0.101695,
     "end_time": "2022-05-04T04:22:16.634117",
     "exception": false,
     "start_time": "2022-05-04T04:22:16.532422",
     "status": "completed"
    },
    "tags": []
   },
   "source": [
    "### 1.4.4. Carrega dados"
   ]
  },
  {
   "cell_type": "code",
   "execution_count": 12,
   "id": "59b7ab9a",
   "metadata": {
    "ExecuteTime": {
     "end_time": "2022-07-01T18:46:39.485145Z",
     "start_time": "2022-07-01T18:46:39.460117Z"
    },
    "colab": {
     "base_uri": "https://localhost:8080/"
    },
    "execution": {
     "iopub.execute_input": "2022-05-04T04:22:17.051332Z",
     "iopub.status.busy": "2022-05-04T04:22:17.050832Z",
     "iopub.status.idle": "2022-05-04T04:22:29.594913Z",
     "shell.execute_reply": "2022-05-04T04:22:29.594130Z"
    },
    "executionInfo": {
     "elapsed": 16,
     "status": "ok",
     "timestamp": 1654809087554,
     "user": {
      "displayName": "Rogério Delfim",
      "userId": "04235763959036945343"
     },
     "user_tz": 180
    },
    "id": "59b7ab9a",
    "outputId": "3ed2dedc-0237-4adc-dca6-faeab372c72e",
    "papermill": {
     "duration": 12.648692,
     "end_time": "2022-05-04T04:22:29.596769",
     "exception": false,
     "start_time": "2022-05-04T04:22:16.948077",
     "status": "completed"
    },
    "tags": []
   },
   "outputs": [
    {
     "data": {
      "text/plain": [
       "((4500, 11), (3000, 10), (3000, 1))"
      ]
     },
     "execution_count": 12,
     "metadata": {},
     "output_type": "execute_result"
    }
   ],
   "source": [
    "df1_train     = pd.read_csv(path + path_data + 'treino.csv')\n",
    "df1_test      = pd.read_csv(path + path_data + 'teste.csv')\n",
    "df_submission = pd.DataFrame({target: np.zeros(df1_test.shape[0])})\n",
    "df1_train.shape, df1_test.shape, df_submission.shape"
   ]
  },
  {
   "cell_type": "code",
   "execution_count": 13,
   "id": "a6cbbc49",
   "metadata": {
    "ExecuteTime": {
     "end_time": "2022-07-01T18:46:40.131686Z",
     "start_time": "2022-07-01T18:46:40.100651Z"
    },
    "colab": {
     "base_uri": "https://localhost:8080/",
     "height": 206
    },
    "execution": {
     "iopub.execute_input": "2022-05-04T04:22:29.806714Z",
     "iopub.status.busy": "2022-05-04T04:22:29.806481Z",
     "iopub.status.idle": "2022-05-04T04:22:29.833198Z",
     "shell.execute_reply": "2022-05-04T04:22:29.832418Z"
    },
    "executionInfo": {
     "elapsed": 13,
     "status": "ok",
     "timestamp": 1654809087555,
     "user": {
      "displayName": "Rogério Delfim",
      "userId": "04235763959036945343"
     },
     "user_tz": 180
    },
    "id": "a6cbbc49",
    "outputId": "5f59a88d-a782-4619-c55b-94bdcc1d0efc",
    "papermill": {
     "duration": 0.133399,
     "end_time": "2022-05-04T04:22:29.835330",
     "exception": false,
     "start_time": "2022-05-04T04:22:29.701931",
     "status": "completed"
    },
    "tags": []
   },
   "outputs": [
    {
     "data": {
      "text/html": [
       "<div>\n",
       "<style scoped>\n",
       "    .dataframe tbody tr th:only-of-type {\n",
       "        vertical-align: middle;\n",
       "    }\n",
       "\n",
       "    .dataframe tbody tr th {\n",
       "        vertical-align: top;\n",
       "    }\n",
       "\n",
       "    .dataframe thead th {\n",
       "        text-align: right;\n",
       "    }\n",
       "</style>\n",
       "<table border=\"1\" class=\"dataframe\">\n",
       "  <thead>\n",
       "    <tr style=\"text-align: right;\">\n",
       "      <th></th>\n",
       "      <th>hora</th>\n",
       "      <th>dia</th>\n",
       "      <th>feriado</th>\n",
       "      <th>estação</th>\n",
       "      <th>temperatura</th>\n",
       "      <th>chuva</th>\n",
       "      <th>umidade</th>\n",
       "      <th>sol</th>\n",
       "      <th>visibilidade</th>\n",
       "      <th>vento</th>\n",
       "      <th>aluguéis</th>\n",
       "    </tr>\n",
       "  </thead>\n",
       "  <tbody>\n",
       "    <tr>\n",
       "      <th>0</th>\n",
       "      <td>16</td>\n",
       "      <td>sábado</td>\n",
       "      <td>não</td>\n",
       "      <td>verão</td>\n",
       "      <td>39.4</td>\n",
       "      <td>0.0</td>\n",
       "      <td>61.1</td>\n",
       "      <td>2.19</td>\n",
       "      <td>92.0%</td>\n",
       "      <td>3.49</td>\n",
       "      <td>1318</td>\n",
       "    </tr>\n",
       "    <tr>\n",
       "      <th>1</th>\n",
       "      <td>21</td>\n",
       "      <td>sexta</td>\n",
       "      <td>não</td>\n",
       "      <td>primavera</td>\n",
       "      <td>22.2</td>\n",
       "      <td>0.0</td>\n",
       "      <td>63.3</td>\n",
       "      <td>0.00</td>\n",
       "      <td>32.0%</td>\n",
       "      <td>2.89</td>\n",
       "      <td>686</td>\n",
       "    </tr>\n",
       "    <tr>\n",
       "      <th>2</th>\n",
       "      <td>16</td>\n",
       "      <td>segunda</td>\n",
       "      <td>não</td>\n",
       "      <td>verão</td>\n",
       "      <td>40.5</td>\n",
       "      <td>0.0</td>\n",
       "      <td>52.8</td>\n",
       "      <td>2.51</td>\n",
       "      <td>93.0%</td>\n",
       "      <td>3.97</td>\n",
       "      <td>831</td>\n",
       "    </tr>\n",
       "    <tr>\n",
       "      <th>3</th>\n",
       "      <td>7</td>\n",
       "      <td>segunda</td>\n",
       "      <td>sim</td>\n",
       "      <td>outono</td>\n",
       "      <td>25.6</td>\n",
       "      <td>0.0</td>\n",
       "      <td>70.9</td>\n",
       "      <td>0.00</td>\n",
       "      <td>97.0%</td>\n",
       "      <td>1.09</td>\n",
       "      <td>15</td>\n",
       "    </tr>\n",
       "    <tr>\n",
       "      <th>4</th>\n",
       "      <td>9</td>\n",
       "      <td>segunda</td>\n",
       "      <td>não</td>\n",
       "      <td>verão</td>\n",
       "      <td>39.9</td>\n",
       "      <td>0.0</td>\n",
       "      <td>58.1</td>\n",
       "      <td>1.69</td>\n",
       "      <td>62.0%</td>\n",
       "      <td>1.09</td>\n",
       "      <td>865</td>\n",
       "    </tr>\n",
       "  </tbody>\n",
       "</table>\n",
       "</div>"
      ],
      "text/plain": [
       "   hora      dia feriado    estação  temperatura  chuva  umidade   sol  \\\n",
       "0    16   sábado     não      verão         39.4    0.0     61.1  2.19   \n",
       "1    21    sexta     não  primavera         22.2    0.0     63.3  0.00   \n",
       "2    16  segunda     não      verão         40.5    0.0     52.8  2.51   \n",
       "3     7  segunda     sim     outono         25.6    0.0     70.9  0.00   \n",
       "4     9  segunda     não      verão         39.9    0.0     58.1  1.69   \n",
       "\n",
       "  visibilidade  vento  aluguéis  \n",
       "0        92.0%   3.49      1318  \n",
       "1        32.0%   2.89       686  \n",
       "2        93.0%   3.97       831  \n",
       "3        97.0%   1.09        15  \n",
       "4        62.0%   1.09       865  "
      ]
     },
     "execution_count": 13,
     "metadata": {},
     "output_type": "execute_result"
    }
   ],
   "source": [
    "df1_train.head()"
   ]
  },
  {
   "cell_type": "code",
   "execution_count": 14,
   "id": "ac7ee10a",
   "metadata": {
    "ExecuteTime": {
     "end_time": "2022-07-01T18:46:40.708949Z",
     "start_time": "2022-07-01T18:46:40.691953Z"
    },
    "colab": {
     "base_uri": "https://localhost:8080/",
     "height": 206
    },
    "execution": {
     "iopub.execute_input": "2022-05-04T04:22:30.044916Z",
     "iopub.status.busy": "2022-05-04T04:22:30.044693Z",
     "iopub.status.idle": "2022-05-04T04:22:30.068352Z",
     "shell.execute_reply": "2022-05-04T04:22:30.067599Z"
    },
    "executionInfo": {
     "elapsed": 12,
     "status": "ok",
     "timestamp": 1654809087556,
     "user": {
      "displayName": "Rogério Delfim",
      "userId": "04235763959036945343"
     },
     "user_tz": 180
    },
    "id": "ac7ee10a",
    "outputId": "a092007b-0a5e-409c-ee51-76d3c78ada81",
    "papermill": {
     "duration": 0.130366,
     "end_time": "2022-05-04T04:22:30.070247",
     "exception": false,
     "start_time": "2022-05-04T04:22:29.939881",
     "status": "completed"
    },
    "tags": []
   },
   "outputs": [
    {
     "data": {
      "text/html": [
       "<div>\n",
       "<style scoped>\n",
       "    .dataframe tbody tr th:only-of-type {\n",
       "        vertical-align: middle;\n",
       "    }\n",
       "\n",
       "    .dataframe tbody tr th {\n",
       "        vertical-align: top;\n",
       "    }\n",
       "\n",
       "    .dataframe thead th {\n",
       "        text-align: right;\n",
       "    }\n",
       "</style>\n",
       "<table border=\"1\" class=\"dataframe\">\n",
       "  <thead>\n",
       "    <tr style=\"text-align: right;\">\n",
       "      <th></th>\n",
       "      <th>hora</th>\n",
       "      <th>dia</th>\n",
       "      <th>feriado</th>\n",
       "      <th>estação</th>\n",
       "      <th>temperatura</th>\n",
       "      <th>chuva</th>\n",
       "      <th>umidade</th>\n",
       "      <th>sol</th>\n",
       "      <th>visibilidade</th>\n",
       "      <th>vento</th>\n",
       "    </tr>\n",
       "  </thead>\n",
       "  <tbody>\n",
       "    <tr>\n",
       "      <th>0</th>\n",
       "      <td>21</td>\n",
       "      <td>quinta</td>\n",
       "      <td>não</td>\n",
       "      <td>verão</td>\n",
       "      <td>33.3</td>\n",
       "      <td>0.12</td>\n",
       "      <td>72.4</td>\n",
       "      <td>0.0</td>\n",
       "      <td>88.0%</td>\n",
       "      <td>2.05</td>\n",
       "    </tr>\n",
       "    <tr>\n",
       "      <th>1</th>\n",
       "      <td>0</td>\n",
       "      <td>segunda</td>\n",
       "      <td>não</td>\n",
       "      <td>outono</td>\n",
       "      <td>25.0</td>\n",
       "      <td>0.00</td>\n",
       "      <td>73.1</td>\n",
       "      <td>0.0</td>\n",
       "      <td>34.0%</td>\n",
       "      <td>0.85</td>\n",
       "    </tr>\n",
       "    <tr>\n",
       "      <th>2</th>\n",
       "      <td>4</td>\n",
       "      <td>segunda</td>\n",
       "      <td>não</td>\n",
       "      <td>outono</td>\n",
       "      <td>22.1</td>\n",
       "      <td>0.00</td>\n",
       "      <td>67.9</td>\n",
       "      <td>0.0</td>\n",
       "      <td>97.0%</td>\n",
       "      <td>1.09</td>\n",
       "    </tr>\n",
       "    <tr>\n",
       "      <th>3</th>\n",
       "      <td>6</td>\n",
       "      <td>terça</td>\n",
       "      <td>não</td>\n",
       "      <td>verão</td>\n",
       "      <td>36.5</td>\n",
       "      <td>0.00</td>\n",
       "      <td>80.7</td>\n",
       "      <td>0.0</td>\n",
       "      <td>53.0%</td>\n",
       "      <td>1.93</td>\n",
       "    </tr>\n",
       "    <tr>\n",
       "      <th>4</th>\n",
       "      <td>21</td>\n",
       "      <td>quinta</td>\n",
       "      <td>não</td>\n",
       "      <td>verão</td>\n",
       "      <td>34.2</td>\n",
       "      <td>0.00</td>\n",
       "      <td>65.6</td>\n",
       "      <td>0.0</td>\n",
       "      <td>71.0%</td>\n",
       "      <td>2.05</td>\n",
       "    </tr>\n",
       "  </tbody>\n",
       "</table>\n",
       "</div>"
      ],
      "text/plain": [
       "   hora      dia feriado estação  temperatura  chuva  umidade  sol  \\\n",
       "0    21   quinta     não   verão         33.3   0.12     72.4  0.0   \n",
       "1     0  segunda     não  outono         25.0   0.00     73.1  0.0   \n",
       "2     4  segunda     não  outono         22.1   0.00     67.9  0.0   \n",
       "3     6    terça     não   verão         36.5   0.00     80.7  0.0   \n",
       "4    21   quinta     não   verão         34.2   0.00     65.6  0.0   \n",
       "\n",
       "  visibilidade  vento  \n",
       "0        88.0%   2.05  \n",
       "1        34.0%   0.85  \n",
       "2        97.0%   1.09  \n",
       "3        53.0%   1.93  \n",
       "4        71.0%   2.05  "
      ]
     },
     "execution_count": 14,
     "metadata": {},
     "output_type": "execute_result"
    }
   ],
   "source": [
    "df1_test.head()"
   ]
  },
  {
   "cell_type": "code",
   "execution_count": 15,
   "id": "1716f931",
   "metadata": {
    "ExecuteTime": {
     "end_time": "2022-07-01T18:46:41.496384Z",
     "start_time": "2022-07-01T18:46:41.492294Z"
    },
    "code_folding": [
     0
    ],
    "executionInfo": {
     "elapsed": 2,
     "status": "ok",
     "timestamp": 1654809087846,
     "user": {
      "displayName": "Rogério Delfim",
      "userId": "04235763959036945343"
     },
     "user_tz": 180
    },
    "id": "1716f931"
   },
   "outputs": [],
   "source": [
    "def convert_visibilidade(df_):    \n",
    "    list_visibilidade = []\n",
    "    for c in df_['visibilidade'].values: \n",
    "        list_visibilidade.append(np.float64( c.replace('%', '')))        \n",
    "    df_['visibilidade']= list_visibilidade    \n",
    "    return df_"
   ]
  },
  {
   "cell_type": "code",
   "execution_count": 16,
   "id": "0908834c",
   "metadata": {
    "ExecuteTime": {
     "end_time": "2022-07-01T18:46:41.965282Z",
     "start_time": "2022-07-01T18:46:41.949249Z"
    },
    "executionInfo": {
     "elapsed": 2,
     "status": "ok",
     "timestamp": 1654809087847,
     "user": {
      "displayName": "Rogério Delfim",
      "userId": "04235763959036945343"
     },
     "user_tz": 180
    },
    "id": "0908834c"
   },
   "outputs": [],
   "source": [
    "df1_train = convert_visibilidade(df1_train.copy())\n",
    "df1_test  = convert_visibilidade(df1_test.copy())"
   ]
  },
  {
   "cell_type": "code",
   "execution_count": 17,
   "id": "0783bb16",
   "metadata": {
    "ExecuteTime": {
     "end_time": "2022-07-01T18:46:42.469214Z",
     "start_time": "2022-07-01T18:46:42.435182Z"
    }
   },
   "outputs": [
    {
     "data": {
      "text/plain": [
       "Int64Index([], dtype='int64')"
      ]
     },
     "execution_count": 17,
     "metadata": {},
     "output_type": "execute_result"
    }
   ],
   "source": [
    "df_dup = df1_train.value_counts().reset_index().iloc[:,-1]\n",
    "indices_duplicados = df1_train.value_counts().reset_index().iloc[:,-1][df_dup>1].index\n",
    "indices_duplicados"
   ]
  },
  {
   "cell_type": "code",
   "execution_count": 18,
   "id": "2dbad217",
   "metadata": {
    "ExecuteTime": {
     "end_time": "2022-07-01T18:46:43.855589Z",
     "start_time": "2022-07-01T18:46:43.005047Z"
    }
   },
   "outputs": [],
   "source": [
    "import lux"
   ]
  },
  {
   "cell_type": "code",
   "execution_count": 20,
   "id": "cac8e846",
   "metadata": {
    "ExecuteTime": {
     "end_time": "2022-07-01T18:49:09.460337Z",
     "start_time": "2022-07-01T18:49:05.852427Z"
    }
   },
   "outputs": [
    {
     "data": {
      "text/html": [
       "<div>\n",
       "<style scoped>\n",
       "    .dataframe tbody tr th:only-of-type {\n",
       "        vertical-align: middle;\n",
       "    }\n",
       "\n",
       "    .dataframe tbody tr th {\n",
       "        vertical-align: top;\n",
       "    }\n",
       "\n",
       "    .dataframe thead th {\n",
       "        text-align: right;\n",
       "    }\n",
       "</style>\n",
       "<table border=\"1\" class=\"dataframe\">\n",
       "  <thead>\n",
       "    <tr style=\"text-align: right;\">\n",
       "      <th></th>\n",
       "      <th>Name</th>\n",
       "      <th>PredominantDegree</th>\n",
       "      <th>HighestDegree</th>\n",
       "      <th>FundingModel</th>\n",
       "      <th>Region</th>\n",
       "      <th>Geography</th>\n",
       "      <th>AdmissionRate</th>\n",
       "      <th>ACTMedian</th>\n",
       "      <th>SATAverage</th>\n",
       "      <th>AverageCost</th>\n",
       "      <th>Expenditure</th>\n",
       "      <th>AverageFacultySalary</th>\n",
       "      <th>MedianDebt</th>\n",
       "      <th>AverageAgeofEntry</th>\n",
       "      <th>MedianFamilyIncome</th>\n",
       "      <th>MedianEarnings</th>\n",
       "    </tr>\n",
       "  </thead>\n",
       "  <tbody>\n",
       "    <tr>\n",
       "      <th>0</th>\n",
       "      <td>Alabama A &amp; M University</td>\n",
       "      <td>Bachelor's</td>\n",
       "      <td>Graduate</td>\n",
       "      <td>Public</td>\n",
       "      <td>Southeast</td>\n",
       "      <td>Mid-size City</td>\n",
       "      <td>0.8989</td>\n",
       "      <td>17</td>\n",
       "      <td>823</td>\n",
       "      <td>18888</td>\n",
       "      <td>7459</td>\n",
       "      <td>7079</td>\n",
       "      <td>19500.0</td>\n",
       "      <td>20.629999</td>\n",
       "      <td>29039.0</td>\n",
       "      <td>27000</td>\n",
       "    </tr>\n",
       "    <tr>\n",
       "      <th>1</th>\n",
       "      <td>University of Alabama at Birmingham</td>\n",
       "      <td>Bachelor's</td>\n",
       "      <td>Graduate</td>\n",
       "      <td>Public</td>\n",
       "      <td>Southeast</td>\n",
       "      <td>Mid-size City</td>\n",
       "      <td>0.8673</td>\n",
       "      <td>25</td>\n",
       "      <td>1146</td>\n",
       "      <td>19990</td>\n",
       "      <td>17208</td>\n",
       "      <td>10170</td>\n",
       "      <td>16250.0</td>\n",
       "      <td>22.670000</td>\n",
       "      <td>34909.0</td>\n",
       "      <td>37200</td>\n",
       "    </tr>\n",
       "    <tr>\n",
       "      <th>2</th>\n",
       "      <td>University of Alabama in Huntsville</td>\n",
       "      <td>Bachelor's</td>\n",
       "      <td>Graduate</td>\n",
       "      <td>Public</td>\n",
       "      <td>Southeast</td>\n",
       "      <td>Mid-size City</td>\n",
       "      <td>0.8062</td>\n",
       "      <td>26</td>\n",
       "      <td>1180</td>\n",
       "      <td>20306</td>\n",
       "      <td>9352</td>\n",
       "      <td>9341</td>\n",
       "      <td>16500.0</td>\n",
       "      <td>23.190001</td>\n",
       "      <td>39766.0</td>\n",
       "      <td>41500</td>\n",
       "    </tr>\n",
       "    <tr>\n",
       "      <th>3</th>\n",
       "      <td>Alabama State University</td>\n",
       "      <td>Bachelor's</td>\n",
       "      <td>Graduate</td>\n",
       "      <td>Public</td>\n",
       "      <td>Southeast</td>\n",
       "      <td>Mid-size City</td>\n",
       "      <td>0.5125</td>\n",
       "      <td>17</td>\n",
       "      <td>830</td>\n",
       "      <td>17400</td>\n",
       "      <td>7393</td>\n",
       "      <td>6557</td>\n",
       "      <td>15854.5</td>\n",
       "      <td>20.889999</td>\n",
       "      <td>24029.5</td>\n",
       "      <td>22400</td>\n",
       "    </tr>\n",
       "    <tr>\n",
       "      <th>4</th>\n",
       "      <td>The University of Alabama</td>\n",
       "      <td>Bachelor's</td>\n",
       "      <td>Graduate</td>\n",
       "      <td>Public</td>\n",
       "      <td>Southeast</td>\n",
       "      <td>Small City</td>\n",
       "      <td>0.5655</td>\n",
       "      <td>26</td>\n",
       "      <td>1171</td>\n",
       "      <td>26717</td>\n",
       "      <td>9817</td>\n",
       "      <td>9605</td>\n",
       "      <td>17750.0</td>\n",
       "      <td>20.770000</td>\n",
       "      <td>58976.0</td>\n",
       "      <td>39200</td>\n",
       "    </tr>\n",
       "    <tr>\n",
       "      <th>...</th>\n",
       "      <td>...</td>\n",
       "      <td>...</td>\n",
       "      <td>...</td>\n",
       "      <td>...</td>\n",
       "      <td>...</td>\n",
       "      <td>...</td>\n",
       "      <td>...</td>\n",
       "      <td>...</td>\n",
       "      <td>...</td>\n",
       "      <td>...</td>\n",
       "      <td>...</td>\n",
       "      <td>...</td>\n",
       "      <td>...</td>\n",
       "      <td>...</td>\n",
       "      <td>...</td>\n",
       "      <td>...</td>\n",
       "    </tr>\n",
       "    <tr>\n",
       "      <th>1289</th>\n",
       "      <td>University of Connecticut-Avery Point</td>\n",
       "      <td>Bachelor's</td>\n",
       "      <td>Graduate</td>\n",
       "      <td>Public</td>\n",
       "      <td>New England</td>\n",
       "      <td>Mid-size Suburb</td>\n",
       "      <td>0.5940</td>\n",
       "      <td>24</td>\n",
       "      <td>1020</td>\n",
       "      <td>12946</td>\n",
       "      <td>11730</td>\n",
       "      <td>14803</td>\n",
       "      <td>18983.0</td>\n",
       "      <td>20.120001</td>\n",
       "      <td>86510.0</td>\n",
       "      <td>49700</td>\n",
       "    </tr>\n",
       "    <tr>\n",
       "      <th>1290</th>\n",
       "      <td>University of Connecticut-Stamford</td>\n",
       "      <td>Bachelor's</td>\n",
       "      <td>Graduate</td>\n",
       "      <td>Public</td>\n",
       "      <td>New England</td>\n",
       "      <td>Mid-size City</td>\n",
       "      <td>0.4107</td>\n",
       "      <td>21</td>\n",
       "      <td>1017</td>\n",
       "      <td>13028</td>\n",
       "      <td>4958</td>\n",
       "      <td>14803</td>\n",
       "      <td>18983.0</td>\n",
       "      <td>20.120001</td>\n",
       "      <td>86510.0</td>\n",
       "      <td>49700</td>\n",
       "    </tr>\n",
       "    <tr>\n",
       "      <th>1291</th>\n",
       "      <td>California State University-Channel Islands</td>\n",
       "      <td>Bachelor's</td>\n",
       "      <td>Graduate</td>\n",
       "      <td>Public</td>\n",
       "      <td>Far West</td>\n",
       "      <td>Mid-size Suburb</td>\n",
       "      <td>0.6443</td>\n",
       "      <td>20</td>\n",
       "      <td>954</td>\n",
       "      <td>22570</td>\n",
       "      <td>12026</td>\n",
       "      <td>8434</td>\n",
       "      <td>12500.0</td>\n",
       "      <td>24.850000</td>\n",
       "      <td>32103.0</td>\n",
       "      <td>35800</td>\n",
       "    </tr>\n",
       "    <tr>\n",
       "      <th>1292</th>\n",
       "      <td>DigiPen Institute of Technology</td>\n",
       "      <td>Bachelor's</td>\n",
       "      <td>Graduate</td>\n",
       "      <td>Private For-Profit</td>\n",
       "      <td>Far West</td>\n",
       "      <td>Small City</td>\n",
       "      <td>0.6635</td>\n",
       "      <td>28</td>\n",
       "      <td>1225</td>\n",
       "      <td>37848</td>\n",
       "      <td>5998</td>\n",
       "      <td>7659</td>\n",
       "      <td>19000.0</td>\n",
       "      <td>21.209999</td>\n",
       "      <td>68233.0</td>\n",
       "      <td>72800</td>\n",
       "    </tr>\n",
       "    <tr>\n",
       "      <th>1293</th>\n",
       "      <td>Neumont University</td>\n",
       "      <td>Bachelor's</td>\n",
       "      <td>Bachelor's</td>\n",
       "      <td>Private For-Profit</td>\n",
       "      <td>Rocky Mountains</td>\n",
       "      <td>Mid-size City</td>\n",
       "      <td>0.7997</td>\n",
       "      <td>25</td>\n",
       "      <td>1104</td>\n",
       "      <td>37379</td>\n",
       "      <td>3298</td>\n",
       "      <td>6991</td>\n",
       "      <td>22313.0</td>\n",
       "      <td>24.750000</td>\n",
       "      <td>39241.0</td>\n",
       "      <td>37300</td>\n",
       "    </tr>\n",
       "  </tbody>\n",
       "</table>\n",
       "<p>1294 rows × 16 columns</p>\n",
       "</div>"
      ],
      "text/plain": [
       "                                             Name PredominantDegree  \\\n",
       "0                        Alabama A & M University        Bachelor's   \n",
       "1             University of Alabama at Birmingham        Bachelor's   \n",
       "2             University of Alabama in Huntsville        Bachelor's   \n",
       "3                        Alabama State University        Bachelor's   \n",
       "4                       The University of Alabama        Bachelor's   \n",
       "...                                           ...               ...   \n",
       "1289        University of Connecticut-Avery Point        Bachelor's   \n",
       "1290           University of Connecticut-Stamford        Bachelor's   \n",
       "1291  California State University-Channel Islands        Bachelor's   \n",
       "1292              DigiPen Institute of Technology        Bachelor's   \n",
       "1293                           Neumont University        Bachelor's   \n",
       "\n",
       "     HighestDegree        FundingModel           Region        Geography  \\\n",
       "0         Graduate              Public        Southeast    Mid-size City   \n",
       "1         Graduate              Public        Southeast    Mid-size City   \n",
       "2         Graduate              Public        Southeast    Mid-size City   \n",
       "3         Graduate              Public        Southeast    Mid-size City   \n",
       "4         Graduate              Public        Southeast       Small City   \n",
       "...            ...                 ...              ...              ...   \n",
       "1289      Graduate              Public      New England  Mid-size Suburb   \n",
       "1290      Graduate              Public      New England    Mid-size City   \n",
       "1291      Graduate              Public         Far West  Mid-size Suburb   \n",
       "1292      Graduate  Private For-Profit         Far West       Small City   \n",
       "1293    Bachelor's  Private For-Profit  Rocky Mountains    Mid-size City   \n",
       "\n",
       "      AdmissionRate  ACTMedian  SATAverage  AverageCost  Expenditure  \\\n",
       "0            0.8989         17         823        18888         7459   \n",
       "1            0.8673         25        1146        19990        17208   \n",
       "2            0.8062         26        1180        20306         9352   \n",
       "3            0.5125         17         830        17400         7393   \n",
       "4            0.5655         26        1171        26717         9817   \n",
       "...             ...        ...         ...          ...          ...   \n",
       "1289         0.5940         24        1020        12946        11730   \n",
       "1290         0.4107         21        1017        13028         4958   \n",
       "1291         0.6443         20         954        22570        12026   \n",
       "1292         0.6635         28        1225        37848         5998   \n",
       "1293         0.7997         25        1104        37379         3298   \n",
       "\n",
       "      AverageFacultySalary  MedianDebt  AverageAgeofEntry  MedianFamilyIncome  \\\n",
       "0                     7079     19500.0          20.629999             29039.0   \n",
       "1                    10170     16250.0          22.670000             34909.0   \n",
       "2                     9341     16500.0          23.190001             39766.0   \n",
       "3                     6557     15854.5          20.889999             24029.5   \n",
       "4                     9605     17750.0          20.770000             58976.0   \n",
       "...                    ...         ...                ...                 ...   \n",
       "1289                 14803     18983.0          20.120001             86510.0   \n",
       "1290                 14803     18983.0          20.120001             86510.0   \n",
       "1291                  8434     12500.0          24.850000             32103.0   \n",
       "1292                  7659     19000.0          21.209999             68233.0   \n",
       "1293                  6991     22313.0          24.750000             39241.0   \n",
       "\n",
       "      MedianEarnings  \n",
       "0              27000  \n",
       "1              37200  \n",
       "2              41500  \n",
       "3              22400  \n",
       "4              39200  \n",
       "...              ...  \n",
       "1289           49700  \n",
       "1290           49700  \n",
       "1291           35800  \n",
       "1292           72800  \n",
       "1293           37300  \n",
       "\n",
       "[1294 rows x 16 columns]"
      ]
     },
     "metadata": {},
     "output_type": "display_data"
    }
   ],
   "source": [
    "df = pd.read_csv(\"https://raw.githubusercontent.com/lux-org/lux-datasets/master/data/college.csv\")\n",
    "df"
   ]
  },
  {
   "cell_type": "code",
   "execution_count": 25,
   "id": "0a834206",
   "metadata": {
    "ExecuteTime": {
     "end_time": "2022-07-01T18:59:07.644244Z",
     "start_time": "2022-07-01T18:59:07.189311Z"
    }
   },
   "outputs": [],
   "source": [
    "df = pd.read_csv(\"https://raw.githubusercontent.com/lux-org/lux-datasets/master/data/hpi.csv\")\n",
    "df.default_display = \"lux\" # Set Lux as default display"
   ]
  },
  {
   "cell_type": "code",
   "execution_count": 27,
   "id": "3cd11218",
   "metadata": {
    "ExecuteTime": {
     "end_time": "2022-07-01T19:00:06.463579Z",
     "start_time": "2022-07-01T19:00:05.920600Z"
    },
    "scrolled": false
   },
   "outputs": [
    {
     "ename": "IndexError",
     "evalue": "list index out of range",
     "output_type": "error",
     "traceback": [
      "\u001b[1;31m---------------------------------------------------------------------------\u001b[0m",
      "\u001b[1;31mIndexError\u001b[0m                                Traceback (most recent call last)",
      "Input \u001b[1;32mIn [27]\u001b[0m, in \u001b[0;36m<cell line: 2>\u001b[1;34m()\u001b[0m\n\u001b[0;32m      1\u001b[0m df\u001b[38;5;241m.\u001b[39mintent \u001b[38;5;241m=\u001b[39m [lux\u001b[38;5;241m.\u001b[39mClause(attribute\u001b[38;5;241m=\u001b[39m\u001b[38;5;124m'\u001b[39m\u001b[38;5;124mAverageCost\u001b[39m\u001b[38;5;124m'\u001b[39m)]\n\u001b[1;32m----> 2\u001b[0m vis \u001b[38;5;241m=\u001b[39m \u001b[43mdf\u001b[49m\u001b[38;5;241;43m.\u001b[39;49m\u001b[43mexported\u001b[49m\u001b[43m[\u001b[49m\u001b[38;5;241;43m0\u001b[39;49m\u001b[43m]\u001b[49m\n\u001b[0;32m      3\u001b[0m vis\n",
      "\u001b[1;31mIndexError\u001b[0m: list index out of range"
     ]
    }
   ],
   "source": [
    "df.intent = [lux.Clause(attribute='AverageCost')]\n",
    "vis = df.exported[0]\n",
    "vis"
   ]
  },
  {
   "cell_type": "markdown",
   "id": "cb126052",
   "metadata": {
    "id": "cb126052",
    "papermill": {
     "duration": 0.1041,
     "end_time": "2022-05-04T04:22:30.282043",
     "exception": false,
     "start_time": "2022-05-04T04:22:30.177943",
     "status": "completed"
    },
    "tags": []
   },
   "source": [
    "***"
   ]
  },
  {
   "cell_type": "markdown",
   "id": "c05a90fc",
   "metadata": {
    "id": "c05a90fc",
    "papermill": {
     "duration": 0.110636,
     "end_time": "2022-05-04T04:22:32.124310",
     "exception": false,
     "start_time": "2022-05-04T04:22:32.013674",
     "status": "completed"
    },
    "tags": []
   },
   "source": [
    "<div style=\"color:white;border-radius:8px;background-color:#a7d5ed\">    \n",
    "    <h1 style=\"padding:12px;color:black;\"> 2. Análise Exploratória de Dados (EDA) </h1>    \n",
    "</div>\n",
    "\n",
    "Antes de trabalhar com qualquer tipo de dados é importante entendê-los. Um passo crucial para esse objetivo é a Análise Exploratória de Dados (EDA): uma combinação de visualizações e análise estatística (uni, bi e multivariada) que nos ajuda a entender melhor os dados com os quais estamos trabalhando e obter insights sobre seus relacionamentos. Então, vamos explorar nossa variável de destino e como as outras variáveis a influenciam."
   ]
  },
  {
   "cell_type": "code",
   "execution_count": null,
   "id": "a82da290",
   "metadata": {
    "ExecuteTime": {
     "end_time": "2022-06-28T00:46:43.109272Z",
     "start_time": "2022-06-28T00:46:43.096238Z"
    },
    "execution": {
     "iopub.execute_input": "2022-05-04T04:22:32.336154Z",
     "iopub.status.busy": "2022-05-04T04:22:32.335454Z",
     "iopub.status.idle": "2022-05-04T04:22:32.398559Z",
     "shell.execute_reply": "2022-05-04T04:22:32.397798Z"
    },
    "executionInfo": {
     "elapsed": 2,
     "status": "ok",
     "timestamp": 1654809088835,
     "user": {
      "displayName": "Rogério Delfim",
      "userId": "04235763959036945343"
     },
     "user_tz": 180
    },
    "id": "a82da290",
    "papermill": {
     "duration": 0.170728,
     "end_time": "2022-05-04T04:22:32.400711",
     "exception": false,
     "start_time": "2022-05-04T04:22:32.229983",
     "status": "completed"
    },
    "tags": []
   },
   "outputs": [],
   "source": [
    "df2_train = df1_train.copy()\n",
    "df2_test  = df1_test.copy()"
   ]
  },
  {
   "cell_type": "markdown",
   "id": "721933bd",
   "metadata": {
    "id": "721933bd",
    "papermill": {
     "duration": 0.105357,
     "end_time": "2022-05-04T04:22:32.611999",
     "exception": false,
     "start_time": "2022-05-04T04:22:32.506642",
     "status": "completed"
    },
    "tags": []
   },
   "source": [
    "## 2.1. Dimensão do DataSet"
   ]
  },
  {
   "cell_type": "code",
   "execution_count": null,
   "id": "cc10a836",
   "metadata": {
    "ExecuteTime": {
     "end_time": "2022-06-28T00:46:43.125240Z",
     "start_time": "2022-06-28T00:46:43.112237Z"
    },
    "colab": {
     "base_uri": "https://localhost:8080/"
    },
    "execution": {
     "iopub.execute_input": "2022-05-04T04:22:32.832387Z",
     "iopub.status.busy": "2022-05-04T04:22:32.832153Z",
     "iopub.status.idle": "2022-05-04T04:22:32.840237Z",
     "shell.execute_reply": "2022-05-04T04:22:32.838174Z"
    },
    "executionInfo": {
     "elapsed": 3,
     "status": "ok",
     "timestamp": 1654809089383,
     "user": {
      "displayName": "Rogério Delfim",
      "userId": "04235763959036945343"
     },
     "user_tz": 180
    },
    "id": "cc10a836",
    "outputId": "d755c499-f1d6-411d-a9f4-2594c0dd75b8",
    "papermill": {
     "duration": 0.124815,
     "end_time": "2022-05-04T04:22:32.842121",
     "exception": false,
     "start_time": "2022-05-04T04:22:32.717306",
     "status": "completed"
    },
    "tags": []
   },
   "outputs": [],
   "source": [
    "print('TREINO')\n",
    "print('Number of Rows: {}'.format(df2_train.shape[0]))\n",
    "print('Number of Columns: {}'.format(df2_train.shape[1]), end='\\n\\n')\n",
    "\n",
    "print('TESTE')\n",
    "print('Number of Rows: {}'.format(df2_test.shape[0]))\n",
    "print('Number of Columns: {}'.format(df2_test.shape[1]))"
   ]
  },
  {
   "cell_type": "markdown",
   "id": "4d099f8e",
   "metadata": {
    "id": "4d099f8e",
    "papermill": {
     "duration": 0.105833,
     "end_time": "2022-05-04T04:22:33.052616",
     "exception": false,
     "start_time": "2022-05-04T04:22:32.946783",
     "status": "completed"
    },
    "tags": []
   },
   "source": [
    "---"
   ]
  },
  {
   "cell_type": "markdown",
   "id": "4a1afc0e",
   "metadata": {
    "id": "4a1afc0e",
    "papermill": {
     "duration": 0.105077,
     "end_time": "2022-05-04T04:22:33.265969",
     "exception": false,
     "start_time": "2022-05-04T04:22:33.160892",
     "status": "completed"
    },
    "tags": []
   },
   "source": [
    "## 2.2. Tipo de dados"
   ]
  },
  {
   "cell_type": "code",
   "execution_count": null,
   "id": "99372dd1",
   "metadata": {
    "ExecuteTime": {
     "end_time": "2022-06-28T00:46:43.141262Z",
     "start_time": "2022-06-28T00:46:43.128243Z"
    },
    "colab": {
     "base_uri": "https://localhost:8080/"
    },
    "execution": {
     "iopub.execute_input": "2022-05-04T04:22:33.476658Z",
     "iopub.status.busy": "2022-05-04T04:22:33.476416Z",
     "iopub.status.idle": "2022-05-04T04:22:33.662974Z",
     "shell.execute_reply": "2022-05-04T04:22:33.662222Z"
    },
    "executionInfo": {
     "elapsed": 2,
     "status": "ok",
     "timestamp": 1654809090386,
     "user": {
      "displayName": "Rogério Delfim",
      "userId": "04235763959036945343"
     },
     "user_tz": 180
    },
    "id": "99372dd1",
    "outputId": "78af5358-e079-4f3f-8916-050acc026277",
    "papermill": {
     "duration": 0.29537,
     "end_time": "2022-05-04T04:22:33.665805",
     "exception": false,
     "start_time": "2022-05-04T04:22:33.370435",
     "status": "completed"
    },
    "tags": []
   },
   "outputs": [],
   "source": [
    "df2_train.info()"
   ]
  },
  {
   "cell_type": "code",
   "execution_count": null,
   "id": "881722ac",
   "metadata": {
    "ExecuteTime": {
     "end_time": "2022-06-28T00:46:43.157272Z",
     "start_time": "2022-06-28T00:46:43.143235Z"
    },
    "colab": {
     "base_uri": "https://localhost:8080/"
    },
    "execution": {
     "iopub.execute_input": "2022-05-04T04:22:33.880861Z",
     "iopub.status.busy": "2022-05-04T04:22:33.880660Z",
     "iopub.status.idle": "2022-05-04T04:22:34.014997Z",
     "shell.execute_reply": "2022-05-04T04:22:34.014046Z"
    },
    "executionInfo": {
     "elapsed": 2,
     "status": "ok",
     "timestamp": 1654809090613,
     "user": {
      "displayName": "Rogério Delfim",
      "userId": "04235763959036945343"
     },
     "user_tz": 180
    },
    "id": "881722ac",
    "outputId": "ce719a83-3b90-4910-926f-657105d28e66",
    "papermill": {
     "duration": 0.244625,
     "end_time": "2022-05-04T04:22:34.017351",
     "exception": false,
     "start_time": "2022-05-04T04:22:33.772726",
     "status": "completed"
    },
    "tags": []
   },
   "outputs": [],
   "source": [
    "df2_test.info()"
   ]
  },
  {
   "cell_type": "code",
   "execution_count": null,
   "id": "8999fba0",
   "metadata": {
    "ExecuteTime": {
     "end_time": "2022-06-28T00:46:43.173273Z",
     "start_time": "2022-06-28T00:46:43.160240Z"
    },
    "colab": {
     "base_uri": "https://localhost:8080/"
    },
    "execution": {
     "iopub.execute_input": "2022-05-04T04:22:34.238396Z",
     "iopub.status.busy": "2022-05-04T04:22:34.238184Z",
     "iopub.status.idle": "2022-05-04T04:22:34.244621Z",
     "shell.execute_reply": "2022-05-04T04:22:34.243902Z"
    },
    "executionInfo": {
     "elapsed": 2,
     "status": "ok",
     "timestamp": 1654809090834,
     "user": {
      "displayName": "Rogério Delfim",
      "userId": "04235763959036945343"
     },
     "user_tz": 180
    },
    "id": "8999fba0",
    "outputId": "0c1b796b-e842-49a2-ed74-5c4cad486184",
    "papermill": {
     "duration": 0.116422,
     "end_time": "2022-05-04T04:22:34.247132",
     "exception": false,
     "start_time": "2022-05-04T04:22:34.130710",
     "status": "completed"
    },
    "tags": []
   },
   "outputs": [],
   "source": [
    "print(f'{3*\"=\"} For Pandas {10*\"=\"}\\n{(df2_train.dtypes).value_counts()}')\n",
    "print(f'\\n{3*\"=\"} For Datatable {7*\"=\"}\\n{(df2_test.dtypes).value_counts()}')"
   ]
  },
  {
   "cell_type": "markdown",
   "id": "3a7cd360",
   "metadata": {
    "id": "3a7cd360",
    "papermill": {
     "duration": 0.108584,
     "end_time": "2022-05-04T04:22:38.930627",
     "exception": false,
     "start_time": "2022-05-04T04:22:38.822043",
     "status": "completed"
    },
    "tags": []
   },
   "source": [
    "---"
   ]
  },
  {
   "cell_type": "markdown",
   "id": "25d714e4",
   "metadata": {
    "id": "25d714e4",
    "papermill": {
     "duration": 0.107266,
     "end_time": "2022-05-04T04:22:39.145057",
     "exception": false,
     "start_time": "2022-05-04T04:22:39.037791",
     "status": "completed"
    },
    "tags": []
   },
   "source": [
    "## 2.3. Identificar NA"
   ]
  },
  {
   "cell_type": "code",
   "execution_count": null,
   "id": "f425ee43",
   "metadata": {
    "ExecuteTime": {
     "end_time": "2022-06-28T00:46:43.364238Z",
     "start_time": "2022-06-28T00:46:43.175239Z"
    },
    "colab": {
     "base_uri": "https://localhost:8080/",
     "height": 84
    },
    "execution": {
     "iopub.execute_input": "2022-05-04T04:22:39.360224Z",
     "iopub.status.busy": "2022-05-04T04:22:39.359453Z",
     "iopub.status.idle": "2022-05-04T04:22:41.980158Z",
     "shell.execute_reply": "2022-05-04T04:22:41.979363Z"
    },
    "executionInfo": {
     "elapsed": 4,
     "status": "ok",
     "timestamp": 1654809091487,
     "user": {
      "displayName": "Rogério Delfim",
      "userId": "04235763959036945343"
     },
     "user_tz": 180
    },
    "id": "f425ee43",
    "outputId": "20fad797-c1f6-4606-eef6-daf8673bf1d2",
    "papermill": {
     "duration": 2.730514,
     "end_time": "2022-05-04T04:22:41.982375",
     "exception": false,
     "start_time": "2022-05-04T04:22:39.251861",
     "status": "completed"
    },
    "tags": []
   },
   "outputs": [],
   "source": [
    "missing = Ultil.missing_zero_values_table(df2_train)\n",
    "missing[:].style.background_gradient(cmap='Reds')"
   ]
  },
  {
   "cell_type": "code",
   "execution_count": null,
   "id": "6c7f7590",
   "metadata": {
    "ExecuteTime": {
     "end_time": "2022-06-28T00:46:43.396239Z",
     "start_time": "2022-06-28T00:46:43.366240Z"
    },
    "colab": {
     "base_uri": "https://localhost:8080/",
     "height": 84
    },
    "execution": {
     "iopub.execute_input": "2022-05-04T04:22:42.204733Z",
     "iopub.status.busy": "2022-05-04T04:22:42.204033Z",
     "iopub.status.idle": "2022-05-04T04:22:44.216939Z",
     "shell.execute_reply": "2022-05-04T04:22:44.216027Z"
    },
    "executionInfo": {
     "elapsed": 4,
     "status": "ok",
     "timestamp": 1654809091689,
     "user": {
      "displayName": "Rogério Delfim",
      "userId": "04235763959036945343"
     },
     "user_tz": 180
    },
    "id": "6c7f7590",
    "outputId": "c3113c6b-8fbd-4111-c04c-f5698cbf8db8",
    "papermill": {
     "duration": 2.124273,
     "end_time": "2022-05-04T04:22:44.218747",
     "exception": false,
     "start_time": "2022-05-04T04:22:42.094474",
     "status": "completed"
    },
    "tags": []
   },
   "outputs": [],
   "source": [
    "missing = Ultil.missing_zero_values_table(df2_test)\n",
    "missing[:].style.background_gradient(cmap='Reds')"
   ]
  },
  {
   "cell_type": "markdown",
   "id": "7725b7ea",
   "metadata": {
    "id": "7725b7ea",
    "papermill": {
     "duration": 0.10922,
     "end_time": "2022-05-04T04:22:44.439110",
     "exception": false,
     "start_time": "2022-05-04T04:22:44.329890",
     "status": "completed"
    },
    "tags": []
   },
   "source": [
    "<div class=\"alert alert-block alert-info\">\n",
    "<p style=\"color: black; font-family: Arial Black\">NOTA:</p>\n",
    "    \n",
    "Não temos valores ausentes. \n",
    "</div>"
   ]
  },
  {
   "cell_type": "markdown",
   "id": "80ee8ed3",
   "metadata": {
    "id": "80ee8ed3",
    "papermill": {
     "duration": 0.109184,
     "end_time": "2022-05-04T04:22:44.657432",
     "exception": false,
     "start_time": "2022-05-04T04:22:44.548248",
     "status": "completed"
    },
    "tags": []
   },
   "source": [
    "## 2.4 Estatística Descritiva\n",
    "Abaixo estão as estatísticas básicas para cada variável que contém informações sobre contagem, média, desvio padrão, mínimo, 1º quartil, mediana, 3º quartil e máximo."
   ]
  },
  {
   "cell_type": "code",
   "execution_count": null,
   "id": "64653307",
   "metadata": {
    "ExecuteTime": {
     "end_time": "2022-06-28T00:46:43.412268Z",
     "start_time": "2022-06-28T00:46:43.398290Z"
    },
    "colab": {
     "base_uri": "https://localhost:8080/"
    },
    "execution": {
     "iopub.execute_input": "2022-05-04T04:22:44.878021Z",
     "iopub.status.busy": "2022-05-04T04:22:44.877805Z",
     "iopub.status.idle": "2022-05-04T04:22:45.263290Z",
     "shell.execute_reply": "2022-05-04T04:22:45.262507Z"
    },
    "executionInfo": {
     "elapsed": 2,
     "status": "ok",
     "timestamp": 1654809092272,
     "user": {
      "displayName": "Rogério Delfim",
      "userId": "04235763959036945343"
     },
     "user_tz": 180
    },
    "id": "64653307",
    "outputId": "b6f90c2a-5681-4a44-aaeb-220914b57cb3",
    "papermill": {
     "duration": 0.498394,
     "end_time": "2022-05-04T04:22:45.265459",
     "exception": false,
     "start_time": "2022-05-04T04:22:44.767065",
     "status": "completed"
    },
    "tags": []
   },
   "outputs": [],
   "source": [
    "feature_float = df2_test.select_dtypes(np.number).columns.to_list()\n",
    "feature_cat   = df2_test.select_dtypes(object).columns.to_list()\n",
    "\n",
    "msg = 'Temos {} variávies numéricas e {} categóricas.'\n",
    "print(msg.format(len(feature_float), len(feature_cat)))"
   ]
  },
  {
   "cell_type": "markdown",
   "id": "e982e578",
   "metadata": {
    "id": "e982e578",
    "papermill": {
     "duration": 0.10941,
     "end_time": "2022-05-04T04:22:45.484842",
     "exception": false,
     "start_time": "2022-05-04T04:22:45.375432",
     "status": "completed"
    },
    "tags": []
   },
   "source": [
    "- Train"
   ]
  },
  {
   "cell_type": "code",
   "execution_count": null,
   "id": "789ea5c4",
   "metadata": {
    "ExecuteTime": {
     "end_time": "2022-06-28T00:46:43.460235Z",
     "start_time": "2022-06-28T00:46:43.414239Z"
    },
    "colab": {
     "base_uri": "https://localhost:8080/",
     "height": 300
    },
    "execution": {
     "iopub.execute_input": "2022-05-04T04:22:45.704866Z",
     "iopub.status.busy": "2022-05-04T04:22:45.704654Z",
     "iopub.status.idle": "2022-05-04T04:22:48.000854Z",
     "shell.execute_reply": "2022-05-04T04:22:48.000179Z"
    },
    "executionInfo": {
     "elapsed": 383,
     "status": "ok",
     "timestamp": 1654809093002,
     "user": {
      "displayName": "Rogério Delfim",
      "userId": "04235763959036945343"
     },
     "user_tz": 180
    },
    "id": "789ea5c4",
    "outputId": "576781f6-f590-4081-f262-67b136cf0670",
    "papermill": {
     "duration": 2.408593,
     "end_time": "2022-05-04T04:22:48.002923",
     "exception": false,
     "start_time": "2022-05-04T04:22:45.594330",
     "status": "completed"
    },
    "tags": []
   },
   "outputs": [],
   "source": [
    "df2_train.describe().style.background_gradient(cmap='YlOrRd')"
   ]
  },
  {
   "cell_type": "markdown",
   "id": "d96b6243",
   "metadata": {},
   "source": [
    "<div class=\"alert alert-block alert-info\">\n",
    "<p style=\"color: black; font-family: Arial Black\">NOTA:</p>\n",
    "\n",
    "- Um ponto que podemos destacar é em relação a variável alvo (aluguéis), com um desvio padrão muito alto muito próximo da média, 50% dos dados estão abaixo de 534.50 com um valor mínimo de 5.00 e o máximo de 3566.00, indicando que temos valores discrepantes, mais a frente vamos fazer uma análise mais detalhada.   <p>\n",
    "    \n",
    "- Um ponto que podemos destacar e que devemos analisar é a variável hora, **tem a caracteristica de discreta**, neste caso podemos transformá-la em categórica, o que pode ajudar os modelos na identificação de novos padrões e melharar a performance. <p> \n",
    "    \n",
    "- Outro ponto são as variáveis contínuas, que pode ser necessário a **discretização**, com o intuito de reduzir a variância e consequentemente ajudar a modelagem, **precisamos fazer alguns testes**, pois algumas variáveis podem conter muitos valores que os algoritmos não podem identificar facilmente os padrões interessantes nos dados os quais são criados os modelos.\n",
    "    \n",
    "</div>"
   ]
  },
  {
   "cell_type": "markdown",
   "id": "d83744ad",
   "metadata": {
    "id": "d83744ad",
    "papermill": {
     "duration": 0.110067,
     "end_time": "2022-05-04T04:22:48.459283",
     "exception": false,
     "start_time": "2022-05-04T04:22:48.349216",
     "status": "completed"
    },
    "tags": []
   },
   "source": [
    "---"
   ]
  },
  {
   "cell_type": "markdown",
   "id": "8317a4fe",
   "metadata": {
    "id": "8317a4fe",
    "papermill": {
     "duration": 0.110304,
     "end_time": "2022-05-04T04:22:48.680215",
     "exception": false,
     "start_time": "2022-05-04T04:22:48.569911",
     "status": "completed"
    },
    "tags": []
   },
   "source": [
    "## 2.6. Distribuição"
   ]
  },
  {
   "cell_type": "markdown",
   "id": "268ccbb9",
   "metadata": {
    "id": "268ccbb9",
    "papermill": {
     "duration": 0.198737,
     "end_time": "2022-05-04T04:22:48.990763",
     "exception": false,
     "start_time": "2022-05-04T04:22:48.792026",
     "status": "completed"
    },
    "tags": []
   },
   "source": [
    "### 2.6.1. Train / Test"
   ]
  },
  {
   "cell_type": "code",
   "execution_count": null,
   "id": "93b33326",
   "metadata": {
    "ExecuteTime": {
     "end_time": "2022-06-28T00:46:43.571272Z",
     "start_time": "2022-06-28T00:46:43.463239Z"
    },
    "colab": {
     "base_uri": "https://localhost:8080/",
     "height": 347
    },
    "execution": {
     "iopub.execute_input": "2022-05-04T04:22:49.357984Z",
     "iopub.status.busy": "2022-05-04T04:22:49.357728Z",
     "iopub.status.idle": "2022-05-04T04:22:49.498086Z",
     "shell.execute_reply": "2022-05-04T04:22:49.497385Z"
    },
    "executionInfo": {
     "elapsed": 454,
     "status": "ok",
     "timestamp": 1654809093794,
     "user": {
      "displayName": "Rogério Delfim",
      "userId": "04235763959036945343"
     },
     "user_tz": 180
    },
    "id": "93b33326",
    "outputId": "78f68421-cab8-4b99-ec3d-bae8b7a46496",
    "papermill": {
     "duration": 0.326788,
     "end_time": "2022-05-04T04:22:49.500507",
     "exception": false,
     "start_time": "2022-05-04T04:22:49.173719",
     "status": "completed"
    },
    "tags": []
   },
   "outputs": [],
   "source": [
    "fig, ax = plt.subplots(figsize=(5, 5))\n",
    "\n",
    "pie = ax.pie([len(df2_train), len(df2_test)],\n",
    "             labels   = [\"Train dataset\", \"Test dataset\"],\n",
    "             #colors   = [\"teal\", \"b\"],\n",
    "             textprops= {\"fontsize\": 15},\n",
    "             autopct  = '%1.1f%%')\n",
    "\n",
    "ax.axis(\"equal\")\n",
    "ax.set_title(\"Comparação de comprimento do conjunto de dados \\n\", fontsize=18)\n",
    "fig.set_facecolor('white')\n",
    "plt.show();"
   ]
  },
  {
   "cell_type": "markdown",
   "id": "802f0a0e",
   "metadata": {
    "id": "802f0a0e",
    "papermill": {
     "duration": 0.110976,
     "end_time": "2022-05-04T04:22:49.759230",
     "exception": false,
     "start_time": "2022-05-04T04:22:49.648254",
     "status": "completed"
    },
    "tags": []
   },
   "source": [
    "---"
   ]
  },
  {
   "cell_type": "markdown",
   "id": "8a3136c7",
   "metadata": {
    "id": "8a3136c7",
    "papermill": {
     "duration": 0.111556,
     "end_time": "2022-05-04T04:22:49.984319",
     "exception": false,
     "start_time": "2022-05-04T04:22:49.872763",
     "status": "completed"
    },
    "tags": []
   },
   "source": [
    "### 2.6.2. Distribuição Train x Test"
   ]
  },
  {
   "cell_type": "code",
   "execution_count": null,
   "id": "44f822a4",
   "metadata": {
    "ExecuteTime": {
     "end_time": "2022-06-28T00:46:52.711600Z",
     "start_time": "2022-06-28T00:46:51.103584Z"
    },
    "colab": {
     "base_uri": "https://localhost:8080/",
     "height": 679
    },
    "executionInfo": {
     "elapsed": 3892,
     "status": "ok",
     "timestamp": 1654809098870,
     "user": {
      "displayName": "Rogério Delfim",
      "userId": "04235763959036945343"
     },
     "user_tz": 180
    },
    "id": "44f822a4",
    "outputId": "19003660-71d6-4915-9fc8-439c518939ee"
   },
   "outputs": [],
   "source": [
    "features = df1_test.select_dtypes(np.number).columns\n",
    "\n",
    "L    = len(features)\n",
    "nrow = int(np.ceil(L/3))\n",
    "ncol = 3\n",
    "\n",
    "remove_last= (nrow * ncol) - L\n",
    "sns.set(style=\"darkgrid\")\n",
    "\n",
    "fig, ax = plt.subplots(nrow, ncol,figsize=(15, 10))\n",
    "fig.subplots_adjust(top=0.95)\n",
    "i = 1\n",
    "\n",
    "for feature in features:    \n",
    "    plt.subplot(nrow, ncol, i)    \n",
    "    ax = sns.kdeplot(df1_train[feature], shade=True, color='salmon',  alpha=0.5, label='train')\n",
    "    ax = sns.kdeplot(df1_test[feature], shade=True, color='teal',  alpha=0.5, label='test')\n",
    "    plt.xlabel(feature, fontsize=9)\n",
    "    plt.legend()    \n",
    "    i += 1\n",
    "    \n",
    "plt.suptitle('DistPlot: train & test data', fontsize=20)\n",
    "plt.show()"
   ]
  },
  {
   "cell_type": "markdown",
   "id": "c2a00a7b",
   "metadata": {
    "id": "c2a00a7b",
    "papermill": {
     "duration": 0.116474,
     "end_time": "2022-05-04T04:24:10.487377",
     "exception": false,
     "start_time": "2022-05-04T04:24:10.370903",
     "status": "completed"
    },
    "tags": []
   },
   "source": [
    "<div class=\"alert alert-block alert-info\">\n",
    "<p style=\"color: black; font-family: Arial Black\">NOTA:</p>\n",
    "\n",
    "Observando os gráficos acima, as variáveis seguem a mesma distribuição em ambos os datasets, podemos destacar os seguintes pontos: \n",
    "- A variável hora tem uma distribuição uniforme, com essa distribuição podemos transformá-la em categórica, o que foi mencionado anteriormente;  <p>\n",
    "    \n",
    "- Outro ponto é a distribuição de cada variável, isto é, cada variável tem um distribuição, o que reforça que um **discretição** pode ajudar alguns algoritmos na modelagem.   \n",
    "\n",
    "</div>"
   ]
  },
  {
   "cell_type": "markdown",
   "id": "5ae6a788",
   "metadata": {
    "id": "5ae6a788",
    "papermill": {
     "duration": 0.116534,
     "end_time": "2022-05-04T04:24:10.720729",
     "exception": false,
     "start_time": "2022-05-04T04:24:10.604195",
     "status": "completed"
    },
    "tags": []
   },
   "source": [
    "### 2.6.3. Proporção de variáveis"
   ]
  },
  {
   "cell_type": "code",
   "execution_count": null,
   "id": "bee76c6c",
   "metadata": {
    "ExecuteTime": {
     "end_time": "2022-06-28T00:46:53.073421Z",
     "start_time": "2022-06-28T00:46:52.975384Z"
    },
    "colab": {
     "base_uri": "https://localhost:8080/",
     "height": 344
    },
    "execution": {
     "iopub.execute_input": "2022-05-04T04:24:10.956998Z",
     "iopub.status.busy": "2022-05-04T04:24:10.956455Z",
     "iopub.status.idle": "2022-05-04T04:24:11.052924Z",
     "shell.execute_reply": "2022-05-04T04:24:11.051907Z"
    },
    "executionInfo": {
     "elapsed": 7,
     "status": "ok",
     "timestamp": 1654809098871,
     "user": {
      "displayName": "Rogério Delfim",
      "userId": "04235763959036945343"
     },
     "user_tz": 180
    },
    "id": "bee76c6c",
    "outputId": "1afcb668-edea-4c12-907a-69db6f3c23bb",
    "papermill": {
     "duration": 0.21758,
     "end_time": "2022-05-04T04:24:11.055761",
     "exception": false,
     "start_time": "2022-05-04T04:24:10.838181",
     "status": "completed"
    },
    "tags": []
   },
   "outputs": [],
   "source": [
    "fig, ax = plt.subplots(figsize=(5, 5))\n",
    "\n",
    "plt.pie([ len(feature_cat), len(feature_float)], \n",
    "        labels=['Categorical', 'Continuos' ],\n",
    "        textprops={'fontsize': 13},\n",
    "        autopct='%1.1f%%')\n",
    "\n",
    "#ax.axis(\"equal\")\n",
    "ax.set_title(\"Comparação variáveis continuas/categóricas \\n Dataset Treino/Teste\", fontsize=18)\n",
    "fig.set_facecolor('white')\n",
    "plt.show()"
   ]
  },
  {
   "cell_type": "markdown",
   "id": "0e3f57ce",
   "metadata": {
    "id": "0e3f57ce",
    "papermill": {
     "duration": 0.119723,
     "end_time": "2022-05-04T04:24:12.255091",
     "exception": false,
     "start_time": "2022-05-04T04:24:12.135368",
     "status": "completed"
    },
    "tags": []
   },
   "source": [
    "## 2.7. Dados Qualitativos\n",
    "\n",
    "Vamos fazer uma contagem das observações e em cada variável categórica, para termos uma noção de como nosso conjunto de dados estar distribuído."
   ]
  },
  {
   "cell_type": "code",
   "execution_count": null,
   "id": "680684bb",
   "metadata": {
    "ExecuteTime": {
     "end_time": "2022-06-28T00:46:53.925007Z",
     "start_time": "2022-06-28T00:46:53.888002Z"
    },
    "colab": {
     "base_uri": "https://localhost:8080/"
    },
    "execution": {
     "iopub.execute_input": "2022-05-04T04:24:12.492860Z",
     "iopub.status.busy": "2022-05-04T04:24:12.492621Z",
     "iopub.status.idle": "2022-05-04T04:24:17.462007Z",
     "shell.execute_reply": "2022-05-04T04:24:17.460516Z"
    },
    "executionInfo": {
     "elapsed": 3,
     "status": "ok",
     "timestamp": 1654809101237,
     "user": {
      "displayName": "Rogério Delfim",
      "userId": "04235763959036945343"
     },
     "user_tz": 180
    },
    "id": "680684bb",
    "outputId": "947c3c11-72c5-45c5-b7be-29d568cfa8e2",
    "papermill": {
     "duration": 5.090797,
     "end_time": "2022-05-04T04:24:17.464236",
     "exception": false,
     "start_time": "2022-05-04T04:24:12.373439",
     "status": "completed"
    },
    "scrolled": false,
    "tags": []
   },
   "outputs": [],
   "source": [
    "for i in feature_cat:\n",
    "    print(\"Coluna: \",i)\n",
    "    print('TREINO:',  df2_train[[i]].value_counts(), '\\n') \n",
    "    print('TESTE :',  df2_test[[i]].value_counts(), \"\\n\")"
   ]
  },
  {
   "cell_type": "markdown",
   "id": "72cc1e10",
   "metadata": {
    "id": "72cc1e10",
    "papermill": {
     "duration": 0.123889,
     "end_time": "2022-05-04T04:24:23.339465",
     "exception": false,
     "start_time": "2022-05-04T04:24:23.215576",
     "status": "completed"
    },
    "tags": []
   },
   "source": [
    "<div class=\"alert alert-block alert-info\">\n",
    "<p style=\"color: black; font-family: Arial Black\">NOTA:</p>\n",
    "    \n",
    "Vamos dar uma olhada na correlação das variaveis categóricas, criamos uma função que calcula a matriz de coeficientes de Cramer, que permite entender a correlação entre duas variáveis categóricas em um conjunto de dados.\n",
    "</div>"
   ]
  },
  {
   "cell_type": "markdown",
   "id": "de56fe2a",
   "metadata": {},
   "source": [
    "### 2.7.1. Correlação\n",
    "Primeira coisa que vamos fazer é criar um novo dataset e transformar a variável **hora** em categórica, assim vamos ter uma ideia da magnetute da variável como categórica. "
   ]
  },
  {
   "cell_type": "code",
   "execution_count": null,
   "id": "809b4759",
   "metadata": {
    "ExecuteTime": {
     "end_time": "2022-06-28T00:46:55.407480Z",
     "start_time": "2022-06-28T00:46:55.393386Z"
    }
   },
   "outputs": [],
   "source": [
    "df_cat         = df2_train.copy()\n",
    "df_cat['hora'] = df_cat['hora'].astype(object)\n",
    "f_cat          = feature_cat.copy()\n",
    "\n",
    "f_cat.append('hora')"
   ]
  },
  {
   "cell_type": "code",
   "execution_count": null,
   "id": "39c40a8f",
   "metadata": {
    "ExecuteTime": {
     "end_time": "2022-06-28T00:46:57.864732Z",
     "start_time": "2022-06-28T00:46:55.944730Z"
    },
    "colab": {
     "base_uri": "https://localhost:8080/",
     "height": 452
    },
    "executionInfo": {
     "elapsed": 2227,
     "status": "ok",
     "timestamp": 1654809118895,
     "user": {
      "displayName": "Rogério Delfim",
      "userId": "04235763959036945343"
     },
     "user_tz": 180
    },
    "id": "39c40a8f",
    "outputId": "dd83a741-00a5-4c6e-db7e-fa573aa61c58"
   },
   "outputs": [],
   "source": [
    "sns.set_theme(style=\"whitegrid\", palette=\"pastel\")\n",
    "\n",
    "plt.figure(figsize=(7,5))\n",
    "\n",
    "df         = df_cat[f_cat].copy()\n",
    "df[target] = df_cat[target].astype(object)\n",
    "\n",
    "corr = Ultil.generate_category_table(df)\n",
    "mask = np.triu(np.ones_like(corr, dtype=bool))\n",
    "sns.heatmap(corr, annot=True, mask= mask). \\\n",
    "         set_title('Correlação das variável categóricas', fontsize=17);\n",
    "\n",
    "del df"
   ]
  },
  {
   "cell_type": "markdown",
   "id": "802f9146",
   "metadata": {
    "id": "802f9146"
   },
   "source": [
    "<div class=\"alert alert-block alert-info\">\n",
    "<p style=\"color: black; font-family: Arial Black\">NOTA:</p>\n",
    "    \n",
    "Temos uma correlação baixa entre as variáveis categóricas, em relação a variável alvo uma razoavel correlação, a variável **estação** tem a maior correlção com a variável algo, é um idicativo que essa variável pode ser significativa para a modelagem. <p>\n",
    "    \n",
    "Vamos fazer uma análise de cada variável.\n",
    "\n",
    "</div>"
   ]
  },
  {
   "cell_type": "markdown",
   "id": "007e2fec",
   "metadata": {},
   "source": [
    "### 2.7.2. Análise univarianda"
   ]
  },
  {
   "cell_type": "code",
   "execution_count": null,
   "id": "e84a19a0",
   "metadata": {
    "ExecuteTime": {
     "end_time": "2022-06-28T00:46:59.643730Z",
     "start_time": "2022-06-28T00:46:57.901759Z"
    }
   },
   "outputs": [],
   "source": [
    "sns.set(style=\"darkgrid\")\n",
    "plt.figure(figsize=(20,10))\n",
    "\n",
    "for i, col in enumerate(f_cat):    \n",
    "    plt.subplot(2, 2, i+1)\n",
    "    sns.barplot(data=df_cat, x=col, y=target)\n",
    "    plt.title('Variável {} '.format(col), fontsize=20)\n",
    "    plt.xlabel('')"
   ]
  },
  {
   "cell_type": "markdown",
   "id": "e2f94923",
   "metadata": {},
   "source": [
    "<div class=\"alert alert-block alert-info\">\n",
    "<p style=\"color: black; font-family: Arial Black\">NOTA:</p>\n",
    "\n",
    "- O dia que tem o menor valor de aluguél de bicicleta é no domingo;\n",
    "- Quando temos feriado, o valor de aluguél é menor; \n",
    "- No verão é onde temos maior valor de aluguél de bicicleta; \n",
    "- No intervalor das 10h até as 18h temos um aumento no aluguél de bicicleta, com uma baixa as 19h até as 4h da manhã. <p>\n",
    "    \n",
    "Vamos fazer uma análise mais detalhada, com o cruzamento dessas variáveis.\n",
    "\n",
    "</div>"
   ]
  },
  {
   "cell_type": "markdown",
   "id": "b9561c17",
   "metadata": {},
   "source": [
    "### 2.7.3. Análise bivariada"
   ]
  },
  {
   "cell_type": "code",
   "execution_count": null,
   "id": "323fbd28",
   "metadata": {
    "ExecuteTime": {
     "end_time": "2022-06-28T00:47:03.516163Z",
     "start_time": "2022-06-28T00:46:59.838168Z"
    }
   },
   "outputs": [],
   "source": [
    "i=1\n",
    "sns.set(style=\"darkgrid\")\n",
    "plt.figure(figsize=(20,20))\n",
    "for col1 in (feature_cat):\n",
    "    for x, col2 in enumerate(feature_cat):\n",
    "        if col1!=col2:            \n",
    "            plt.subplot(3,2, i)    \n",
    "            sns.barplot(data=df2_train, x=col1, y=target, hue=col2);            \n",
    "            plt.title('{} x {}'.format(col1, col2), fontsize=20)\n",
    "            plt.xlabel('')\n",
    "            i+=1"
   ]
  },
  {
   "cell_type": "markdown",
   "id": "ba52d9de",
   "metadata": {},
   "source": [
    "<div class=\"alert alert-block alert-info\">\n",
    "<p style=\"color: black; font-family: Arial Black\">NOTA:</p>\n",
    "\n",
    "- Na sexta no verão temos um aumento no aluguél de bicicleta, isso também acontece no sabado de verão quando é feriado; \n",
    "- O verão é a estação do ano que temos o maior faturamento e no inverno com menor faturamento, o que pode ser um indicativo que a categoria (**inverno**) pode ser relevânte.  \n",
    "    \n",
    "</div>"
   ]
  },
  {
   "cell_type": "markdown",
   "id": "e8512041",
   "metadata": {
    "ExecuteTime": {
     "end_time": "2022-05-02T02:41:58.832609Z",
     "start_time": "2022-05-02T02:41:58.823610Z"
    },
    "id": "e8512041",
    "papermill": {
     "duration": 0.122441,
     "end_time": "2022-05-04T04:24:23.584315",
     "exception": false,
     "start_time": "2022-05-04T04:24:23.461874",
     "status": "completed"
    },
    "tags": []
   },
   "source": [
    "## 2.8. Dados Quantitativos"
   ]
  },
  {
   "cell_type": "markdown",
   "id": "89d4d391",
   "metadata": {
    "ExecuteTime": {
     "end_time": "2022-05-02T02:42:21.060547Z",
     "start_time": "2022-05-02T02:42:21.054549Z"
    },
    "id": "89d4d391",
    "papermill": {
     "duration": 0.121916,
     "end_time": "2022-05-04T04:24:23.828033",
     "exception": false,
     "start_time": "2022-05-04T04:24:23.706117",
     "status": "completed"
    },
    "tags": []
   },
   "source": [
    "### 2.8.1. Correlação\n",
    "Vamos examinar a correlação entre as variáveis."
   ]
  },
  {
   "cell_type": "code",
   "execution_count": null,
   "id": "c5771bdd",
   "metadata": {
    "ExecuteTime": {
     "end_time": "2022-06-28T00:47:27.391411Z",
     "start_time": "2022-06-28T00:47:26.953383Z"
    },
    "colab": {
     "base_uri": "https://localhost:8080/",
     "height": 511
    },
    "execution": {
     "iopub.execute_input": "2022-05-04T04:24:24.076081Z",
     "iopub.status.busy": "2022-05-04T04:24:24.075823Z",
     "iopub.status.idle": "2022-05-04T04:24:25.527308Z",
     "shell.execute_reply": "2022-05-04T04:24:25.526467Z"
    },
    "executionInfo": {
     "elapsed": 817,
     "status": "ok",
     "timestamp": 1654809130604,
     "user": {
      "displayName": "Rogério Delfim",
      "userId": "04235763959036945343"
     },
     "user_tz": 180
    },
    "id": "c5771bdd",
    "outputId": "4512e3be-a874-4055-e554-ed65bbcbf257",
    "papermill": {
     "duration": 1.576759,
     "end_time": "2022-05-04T04:24:25.529135",
     "exception": false,
     "start_time": "2022-05-04T04:24:23.952376",
     "status": "completed"
    },
    "tags": []
   },
   "outputs": [],
   "source": [
    "sns.set(style=\"whitegrid\", palette=\"pastel\")\n",
    "plt.figure(figsize=(10,7))\n",
    "\n",
    "Ultil.graf_feature_corr(df_         = df2_train.copy(), \n",
    "                        annot_      = True, \n",
    "                        threshold_  = .7, \n",
    "                        print_var_  = True, \n",
    "                        print_graf_ = True, \n",
    "                        mask_       = False);"
   ]
  },
  {
   "cell_type": "markdown",
   "id": "badebb9a",
   "metadata": {
    "id": "badebb9a",
    "papermill": {
     "duration": 0.123237,
     "end_time": "2022-05-04T04:24:25.777454",
     "exception": false,
     "start_time": "2022-05-04T04:24:25.654217",
     "status": "completed"
    },
    "tags": []
   },
   "source": [
    "<div class=\"alert alert-block alert-info\">\n",
    "<p style=\"color: black; font-family: Arial Black\">NOTA:</p>\n",
    "    \n",
    "Como podemos observar, a correlação fica entre -0.6 e 0.5%, sendo assim, não temos variáveis autocorrelacionadas, mais a frente com a criação de novas variáveis podemos ter variáveis autocorrelacionadas e voltaremos a fazer essa análise de autocorrelação. <p>\n",
    "    \n",
    "Temos duas variáveis que tem correlação negativa com a variável algo, são elas: **chuva** e **umidade**, outro ponto é a variável dia **hora** com correlação com a variável alvo de 0.41, o que comprova que tranformação para categórica aumenta a correlação com a variável alvo. <p>   \n",
    "\n",
    "    \n",
    "</div>"
   ]
  },
  {
   "cell_type": "markdown",
   "id": "80c3a0f2",
   "metadata": {
    "ExecuteTime": {
     "end_time": "2022-06-10T20:06:12.752062Z",
     "start_time": "2022-06-10T20:06:12.737050Z"
    },
    "executionInfo": {
     "elapsed": 261,
     "status": "ok",
     "timestamp": 1654809136609,
     "user": {
      "displayName": "Rogério Delfim",
      "userId": "04235763959036945343"
     },
     "user_tz": 180
    },
    "id": "0bbgbyDUguZ3"
   },
   "source": [
    "### 2.8.3. Relação linear"
   ]
  },
  {
   "cell_type": "code",
   "execution_count": null,
   "id": "e84950f8",
   "metadata": {
    "ExecuteTime": {
     "end_time": "2022-06-28T00:47:37.242035Z",
     "start_time": "2022-06-28T00:47:34.283379Z"
    },
    "colab": {
     "base_uri": "https://localhost:8080/",
     "height": 1000
    },
    "executionInfo": {
     "elapsed": 6383,
     "status": "ok",
     "timestamp": 1654809143849,
     "user": {
      "displayName": "Rogério Delfim",
      "userId": "04235763959036945343"
     },
     "user_tz": 180
    },
    "id": "e84950f8",
    "outputId": "d58f9f29-c38e-4da0-d1f2-2f2109222a2f"
   },
   "outputs": [],
   "source": [
    "row    = int(len(feature_float)/2+1) \n",
    "fig,ax = plt.subplots(row,2,figsize=(15,15))\n",
    "l      = 0 \n",
    "c      = 0 \n",
    "\n",
    "sns.set(style=\"darkgrid\")\n",
    "\n",
    "for i, col in enumerate(feature_float):\n",
    "    sns.regplot(data        = df2_train, \n",
    "                x           = col, \n",
    "                y           = target,  \n",
    "                scatter_kws = {'alpha':0.2}, \n",
    "                ax          = ax[l][c], \n",
    "                color       = '#3f72af',                 \n",
    "               ) \\\n",
    "    .set_title('{} vs {}'.format(col, target), fontsize = 13)\n",
    "    \n",
    "    c  = 1 if c==0 else 0    \n",
    "    l += 1 if i%2==1 else 0\n",
    "        \n",
    "fig.tight_layout(pad=3.0)"
   ]
  },
  {
   "cell_type": "markdown",
   "id": "9fe30e4e",
   "metadata": {},
   "source": [
    "<div class=\"alert alert-block alert-info\">\n",
    "<p style=\"color: black; font-family: Arial Black\">NOTA:</p>\n",
    "\n",
    "A variável que mais me chamou atenção é a variável **chuva**, que tem uma correlação negativa, mas quando olhamos o gráfico de regressão essa variável pode impactar negativamente os modelos em até -2000, outro ponto é que essa variável tem um concentração de valores com zero. Outra variável que tem um correlção negativa é a umidade, que não tem um padrão definido. \n",
    "    \n",
    "\n",
    "</div>"
   ]
  },
  {
   "cell_type": "code",
   "execution_count": null,
   "id": "f0faf4c9",
   "metadata": {
    "ExecuteTime": {
     "end_time": "2022-06-28T00:47:46.904094Z",
     "start_time": "2022-06-28T00:47:42.440087Z"
    }
   },
   "outputs": [],
   "source": [
    "pd.plotting.scatter_matrix(df2_train, alpha = 0.3, figsize = (20,15), diagonal = 'kde');"
   ]
  },
  {
   "cell_type": "markdown",
   "id": "cf809153",
   "metadata": {},
   "source": [
    "<div class=\"alert alert-block alert-info\">\n",
    "<p style=\"color: black; font-family: Arial Black\">NOTA:</p>\n",
    " \n",
    "Visualmente não consegue-se perceber pelo scatter_matrix uma curva (equação) que consiga descrever o relacionamento inter variáveis (como cada variável se relaciona com outra), visto que os pontos estão  dispersos. \n",
    "    \n",
    "Uma pequena percepção que podemos notar é em relação a variável **chuva** com alguns pontos discrepantes. \n",
    "\n",
    "</div>"
   ]
  },
  {
   "cell_type": "markdown",
   "id": "eedac111",
   "metadata": {},
   "source": [
    "### 2.8.4. Outliers"
   ]
  },
  {
   "cell_type": "code",
   "execution_count": null,
   "id": "2e95be89",
   "metadata": {
    "ExecuteTime": {
     "end_time": "2022-06-28T00:47:52.738877Z",
     "start_time": "2022-06-28T00:47:52.232877Z"
    },
    "scrolled": false
   },
   "outputs": [],
   "source": [
    "plt.figure(figsize=(15, 15))\n",
    "f_flot = feature_float.copy() \n",
    "f_flot.append(target)\n",
    "\n",
    "row = int(len(f_flot)/2)+1\n",
    "\n",
    "for i, col in enumerate(f_flot):   \n",
    "    plt.subplot(row, 2, i+1)\n",
    "    sns.boxplot(y=col, data=df2_train);"
   ]
  },
  {
   "cell_type": "markdown",
   "id": "d03cb27c",
   "metadata": {},
   "source": [
    "<div class=\"alert alert-block alert-info\">\n",
    "<p style=\"color: black; font-family: Arial Black\">NOTA:</p>\n",
    "    \n",
    "Temos quatro variáveis com outliers na parte superior (acima da mediana), entre elas a variável **alvo**, o tratamento dos outliers pode resulta na melhoria do apredizado dos modelos, sendo assim, devemos fazer uma análise e utilizar algumas tecnicas de tratamento de outliers como: \n",
    "- Intervalo interquartil; \n",
    "- Z-score;\n",
    "- Envelope Elíptico;\n",
    "- Isolation Forest.  \n",
    "</div>"
   ]
  },
  {
   "cell_type": "markdown",
   "id": "d9c99ac7",
   "metadata": {
    "ExecuteTime": {
     "end_time": "2022-05-02T02:51:23.699986Z",
     "start_time": "2022-05-02T02:51:23.685019Z"
    },
    "id": "d9c99ac7",
    "papermill": {
     "duration": 0.124984,
     "end_time": "2022-05-04T04:24:26.025993",
     "exception": false,
     "start_time": "2022-05-04T04:24:25.901009",
     "status": "completed"
    },
    "tags": []
   },
   "source": [
    "## 2.9. Variáveis Alvo \n"
   ]
  },
  {
   "cell_type": "markdown",
   "id": "29c1666d",
   "metadata": {
    "ExecuteTime": {
     "end_time": "2022-06-12T01:06:03.060993Z",
     "start_time": "2022-06-12T01:06:03.047964Z"
    }
   },
   "source": [
    "### 2.9.1. Teste de Normalidade\n",
    "Para o teste de normalidade vamos utilizar o **Kolmogorov-Smirnov** da biblioteca do sklearn."
   ]
  },
  {
   "cell_type": "code",
   "execution_count": null,
   "id": "214ae306",
   "metadata": {
    "ExecuteTime": {
     "end_time": "2022-06-28T01:13:07.317045Z",
     "start_time": "2022-06-28T01:13:07.297022Z"
    }
   },
   "outputs": [],
   "source": [
    "test_ks   = stats.kstest(df2_train[target], 'norm')\n",
    "statistic = test_ks[0]\n",
    "pvalue    = test_ks[1]\n",
    "\n",
    "print('Estatística: {:2.8f}'.format(statistic))\n",
    "print('P-value    : {:2.8f}'.format(pvalue))\n",
    "print()\n",
    "\n",
    "msg = 'Com nível de significância de 0.05 e confiança \\nde 95%, os dados {} normalmente distribuidos.'\n",
    "txt = 'são'\n",
    "if pvalue<0.05: \n",
    "    txt = 'não são'\n",
    "    \n",
    "print(msg.format(txt))"
   ]
  },
  {
   "cell_type": "markdown",
   "id": "4641c4a6",
   "metadata": {
    "ExecuteTime": {
     "end_time": "2022-06-12T00:47:17.278427Z",
     "start_time": "2022-06-12T00:47:17.260422Z"
    }
   },
   "source": [
    "### 2.9.2. Transformações "
   ]
  },
  {
   "cell_type": "code",
   "execution_count": null,
   "id": "7c9634ea",
   "metadata": {
    "ExecuteTime": {
     "end_time": "2022-06-28T01:13:11.314971Z",
     "start_time": "2022-06-28T01:13:08.992711Z"
    },
    "colab": {
     "base_uri": "https://localhost:8080/",
     "height": 406
    },
    "executionInfo": {
     "elapsed": 2126,
     "status": "ok",
     "timestamp": 1654809147168,
     "user": {
      "displayName": "Rogério Delfim",
      "userId": "04235763959036945343"
     },
     "user_tz": 180
    },
    "id": "7c9634ea",
    "outputId": "af90669e-34f9-4a23-9719-9f1d1b0d68e4"
   },
   "outputs": [],
   "source": [
    "power  = PowerTransformer(method='box-cox') # \n",
    "y_ori  = df1_train[target] \n",
    "y_log  = np.log1p(y_ori)\n",
    "y_sqr  = np.sqrt(y_ori)\n",
    "y_bcox = pd.DataFrame(power.fit_transform(pd.DataFrame(y_ori)), columns=['y'])['y']\n",
    "label  = ['Sem transformação','Log','Raiz quandrada', 'Box-Cox']\n",
    "\n",
    "list_feature_trans = [y_ori, y_log, y_sqr, y_bcox]\n",
    "\n",
    "plt.figure(figsize=(20,12))\n",
    "\n",
    "msg = 'Normal dist. ($\\mu=$ {:.2f} and $\\sigma=$ {:.2f} )'\n",
    "\n",
    "for i, v in enumerate(list_feature_trans):\n",
    "    plt.subplot(3,4,i+1)\n",
    "    (mu, sigma) = norm.fit(v)        \n",
    "    sns.distplot(v, kde=True, hist=True, fit=norm)\n",
    "    plt.legend([msg.format(mu, sigma)],loc='best')\n",
    "    plt.xlabel('')\n",
    "    plt.title('{}'.format(label[i]), fontsize=16)\n",
    "    \n",
    "    plt.subplot(3,4,i+5)\n",
    "    sns.boxplot(y=v)\n",
    "    \n",
    "    plt.subplot(3,4,i+9)\n",
    "    res = stats.probplot(v, plot=plt)\n",
    "    plt.xlabel('')\n",
    "    plt.title('')\n",
    "\n",
    "plt.suptitle('Transformação da variável alvo ({})'.format(target), fontsize=20)\n",
    "fig.tight_layout(pad=1.0);"
   ]
  },
  {
   "cell_type": "markdown",
   "id": "d0b38548",
   "metadata": {
    "ExecuteTime": {
     "end_time": "2022-06-11T21:54:34.632339Z",
     "start_time": "2022-06-11T21:54:34.613305Z"
    }
   },
   "source": [
    "<div class=\"alert alert-block alert-info\">\n",
    "<p style=\"color: black; font-family: Arial Black\">NOTA:</p>\n",
    "    \n",
    "Acima fizemos três transformações na variável alvo: log, raiz quadrada e box-cox, a primeira coluna é a variável sem tranformação, que tem uma distribuição assimétrica positiva com muitos outliers, no gráfico de probabilidade observamos que os valores não se comportam muito bem, indicado a não normalidade dos dados, em relação as transformações temos:   \n",
    "    \n",
    "- A transformação de log faz com que os dados tem uma distribuição assimétrica a esqueda e não consegue lidar muito bem com os outliers; <p>\n",
    "    \n",
    "- A transformação de raiz quadrada melhara o gráfico de distribuição, consegue lidar com os outliers como podemos observar no gráfico de boxplot com uma média comportada, mas não perfeito do gráfico de probalidade; <p>\n",
    "    \n",
    "- A transformação de box-cox tem uma distribuição boa no gráfico de distribuição, lida muito bem com os outliers, uma observação importante é que a média dos dados fica em torno do zero.\n",
    "    \n",
    "Vamos fazer o teste de normalidade nas transformações da raiz quadrada e box-cox.    \n",
    "</div>"
   ]
  },
  {
   "cell_type": "code",
   "execution_count": null,
   "id": "a7d98ed5",
   "metadata": {
    "ExecuteTime": {
     "end_time": "2022-06-28T20:31:31.295751Z",
     "start_time": "2022-06-28T20:31:31.273754Z"
    }
   },
   "outputs": [],
   "source": [
    "test_ks   = stats.kstest(y_sqr, 'norm')\n",
    "statistic = test_ks[0]\n",
    "pvalue    = test_ks[1]\n",
    "\n",
    "print('Estatística: {:2.8f}'.format(statistic))\n",
    "print('P-value    : {:2.8f}'.format(pvalue))\n",
    "print()\n",
    "\n",
    "msg = 'Com nível de significância de 0.05 e confiança \\nde 95%, os dados {} normalmente distribuidos.'\n",
    "txt = 'são'\n",
    "\n",
    "if pvalue<0.05: \n",
    "    txt = 'não são'\n",
    "    \n",
    "print(msg.format(txt))\n"
   ]
  },
  {
   "cell_type": "code",
   "execution_count": null,
   "id": "56b2b19c",
   "metadata": {
    "ExecuteTime": {
     "end_time": "2022-06-28T20:31:33.173580Z",
     "start_time": "2022-06-28T20:31:33.146586Z"
    }
   },
   "outputs": [],
   "source": [
    "test_ks   = stats.kstest(y_bcox, 'norm')\n",
    "statistic = test_ks[0]\n",
    "pvalue    = test_ks[1]\n",
    "\n",
    "print('Estatística: {:2.8f}'.format(statistic))\n",
    "print('P-value    : {:2.8f}'.format(pvalue))\n",
    "print()\n",
    "\n",
    "msg = 'Com nível de significância de 0.05 e confiança \\nde 95%, os dados {} normalmente distribuidos.'\n",
    "txt = 'são'\n",
    "\n",
    "if pvalue<0.05: \n",
    "    txt = 'não são'\n",
    "    \n",
    "print(msg.format(txt))"
   ]
  },
  {
   "cell_type": "markdown",
   "id": "72d9b767",
   "metadata": {},
   "source": [
    "<div class=\"alert alert-block alert-info\">\n",
    "<p style=\"color: black; font-family: Arial Black\">NOTA:</p>\n",
    "  \n",
    "As transformações utilizadas não foram capazes de normalizar os dados, mas vamos utlizar na modelagem a transformação de raiz quadrada, pois acredito que essa transformação pode ter efeito na modelage.\n",
    "</div>"
   ]
  },
  {
   "cell_type": "markdown",
   "id": "b74cc6ef",
   "metadata": {
    "id": "b74cc6ef",
    "papermill": {
     "duration": 0.1435,
     "end_time": "2022-05-04T04:25:49.703674",
     "exception": false,
     "start_time": "2022-05-04T04:25:49.560174",
     "status": "completed"
    },
    "tags": []
   },
   "source": [
    "---"
   ]
  },
  {
   "cell_type": "markdown",
   "id": "eec66ea5",
   "metadata": {
    "id": "eec66ea5",
    "papermill": {
     "duration": 0.202469,
     "end_time": "2022-05-04T04:25:56.440655",
     "exception": false,
     "start_time": "2022-05-04T04:25:56.238186",
     "status": "completed"
    },
    "tags": []
   },
   "source": [
    "<div style=\"color:white;border-radius:8px;background-color:#a7d5ed\">    \n",
    "    <h1 style=\"padding:12px;color:black;\"> 3. Modelagem </h1>    \n",
    "</div>"
   ]
  },
  {
   "cell_type": "code",
   "execution_count": null,
   "id": "ed6ef16c",
   "metadata": {
    "ExecuteTime": {
     "end_time": "2022-06-28T20:34:12.392808Z",
     "start_time": "2022-06-28T20:34:12.377814Z"
    },
    "execution": {
     "iopub.execute_input": "2022-05-04T04:25:56.967918Z",
     "iopub.status.busy": "2022-05-04T04:25:56.967442Z",
     "iopub.status.idle": "2022-05-04T04:26:00.923854Z",
     "shell.execute_reply": "2022-05-04T04:26:00.923088Z"
    },
    "executionInfo": {
     "elapsed": 5,
     "status": "ok",
     "timestamp": 1654809147169,
     "user": {
      "displayName": "Rogério Delfim",
      "userId": "04235763959036945343"
     },
     "user_tz": 180
    },
    "id": "ed6ef16c",
    "papermill": {
     "duration": 4.0927,
     "end_time": "2022-05-04T04:26:00.926123",
     "exception": false,
     "start_time": "2022-05-04T04:25:56.833423",
     "status": "completed"
    },
    "tags": []
   },
   "outputs": [],
   "source": [
    "df3_train = df2_train.copy()\n",
    "df3_test  = df2_test.copy()\n",
    "\n",
    "df3_train.shape, df3_test.shape"
   ]
  },
  {
   "cell_type": "markdown",
   "id": "20caa1d8",
   "metadata": {
    "ExecuteTime": {
     "end_time": "2022-06-07T02:27:54.772974Z",
     "start_time": "2022-06-07T02:27:54.768974Z"
    },
    "id": "20caa1d8"
   },
   "source": [
    "## 3.1. Processamento "
   ]
  },
  {
   "cell_type": "code",
   "execution_count": null,
   "id": "9c6d46b7",
   "metadata": {
    "ExecuteTime": {
     "end_time": "2022-06-28T20:34:16.831844Z",
     "start_time": "2022-06-28T20:34:16.811873Z"
    },
    "colab": {
     "base_uri": "https://localhost:8080/",
     "height": 206
    },
    "executionInfo": {
     "elapsed": 218,
     "status": "ok",
     "timestamp": 1654809150722,
     "user": {
      "displayName": "Rogério Delfim",
      "userId": "04235763959036945343"
     },
     "user_tz": 180
    },
    "id": "9c6d46b7",
    "outputId": "8e62e390-77bb-4399-8750-39b8d01e1589"
   },
   "outputs": [],
   "source": [
    "df3_train[f_cat].head()"
   ]
  },
  {
   "cell_type": "code",
   "execution_count": null,
   "id": "071025a4",
   "metadata": {
    "ExecuteTime": {
     "end_time": "2022-06-28T20:34:22.131530Z",
     "start_time": "2022-06-28T20:34:22.105498Z"
    },
    "code_folding": [
     0
    ],
    "executionInfo": {
     "elapsed": 2,
     "status": "ok",
     "timestamp": 1654819639027,
     "user": {
      "displayName": "Rogério Delfim",
      "userId": "04235763959036945343"
     },
     "user_tz": 180
    },
    "id": "071025a4"
   },
   "outputs": [],
   "source": [
    "def feature_binarizer(df_tr_, df_vl_, df_ts_, features_ohe_=None, feature_ord_=None):\n",
    "\n",
    "    if features_ohe_ is not None:\n",
    "        for col in features_ohe_:         \n",
    "            lb   = OneHotEncoder(sparse=False) # LabelBinarizer() OneHotEncoder\n",
    "            cols = df_tr_[col].unique().tolist() \n",
    "\n",
    "            cols_fe = []\n",
    "            for x in df_tr_[col].unique().tolist(): \n",
    "                cols_fe.append('fe_'+ col + '_' +str(x) )\n",
    "\n",
    "            df_lb_tr = pd.DataFrame(lb.fit_transform (df_tr_[[col]]), columns=cols_fe)\n",
    "            df_lb_vl = pd.DataFrame(lb.transform (df_vl_[[col]]), columns=cols_fe)\n",
    "            df_lb_ts = pd.DataFrame(lb.transform (df_ts_[[col]]), columns=cols_fe)\n",
    "            \n",
    "            df_lb_tr[cols_fe]= df_lb_tr[cols_fe].astype(int)\n",
    "            df_lb_vl[cols_fe]= df_lb_vl[cols_fe].astype(int)\n",
    "            df_lb_ts[cols_fe]= df_lb_ts[cols_fe].astype(int)\n",
    "\n",
    "            df_lb_tr.index =  df_tr_.index\n",
    "            df_lb_vl.index =  df_vl_.index\n",
    "            df_lb_ts.index =  df_ts_.index\n",
    "\n",
    "            df_tr_ = pd.concat([df_tr_, df_lb_tr], axis=1)\n",
    "            df_vl_ = pd.concat([df_vl_, df_lb_vl], axis=1)\n",
    "            df_ts_ = pd.concat([df_ts_, df_lb_ts], axis=1)\n",
    "\n",
    "            df_tr_.drop(col, axis=1, inplace=True)\n",
    "            df_vl_.drop(col, axis=1, inplace=True)\n",
    "            df_ts_.drop(col, axis=1, inplace=True)\n",
    "\n",
    "    col     = ''\n",
    "    cols_fe = ''\n",
    "\n",
    "    if feature_ord_ is not None:\n",
    "        for col in feature_ord_:\n",
    "            ordEncoder = OrdinalEncoder()            \n",
    "            cols = df_tr_[col].unique().tolist() \n",
    "\n",
    "            cols_fe = []\n",
    "            for x in df_tr_[col].unique().tolist(): \n",
    "                cols_fe.append('fe_'+ col + '_' +str(x) )\n",
    "                \n",
    "            df_tr_[col] = ordEncoder.fit_transform(df_tr_[[col]])\n",
    "            df_vl_[col] = ordEncoder.transform (df_vl_[[col]])\n",
    "            df_ts_[col] = ordEncoder.transform (df_ts_[[col]])\n",
    "\n",
    "    return df_tr_, df_vl_, df_ts_"
   ]
  },
  {
   "cell_type": "markdown",
   "id": "9c35c26d",
   "metadata": {
    "id": "9c35c26d",
    "papermill": {
     "duration": 0.140899,
     "end_time": "2022-05-04T04:26:01.213207",
     "exception": false,
     "start_time": "2022-05-04T04:26:01.072308",
     "status": "completed"
    },
    "tags": []
   },
   "source": [
    "## 3.1. Split Train/Test"
   ]
  },
  {
   "cell_type": "code",
   "execution_count": null,
   "id": "poYq6D-BHvUz",
   "metadata": {
    "ExecuteTime": {
     "end_time": "2022-06-28T20:35:31.301081Z",
     "start_time": "2022-06-28T20:35:31.267080Z"
    },
    "executionInfo": {
     "elapsed": 227,
     "status": "ok",
     "timestamp": 1654810497494,
     "user": {
      "displayName": "Rogério Delfim",
      "userId": "04235763959036945343"
     },
     "user_tz": 180
    },
    "id": "poYq6D-BHvUz"
   },
   "outputs": [],
   "source": [
    "df3_train = Ultil.reduce_memory_usage(df3_train)\n",
    "df3_test  = Ultil.reduce_memory_usage(df3_test)"
   ]
  },
  {
   "cell_type": "code",
   "execution_count": null,
   "id": "443ff2a5",
   "metadata": {
    "ExecuteTime": {
     "end_time": "2022-06-28T20:35:33.991186Z",
     "start_time": "2022-06-28T20:35:33.912202Z"
    },
    "colab": {
     "base_uri": "https://localhost:8080/"
    },
    "execution": {
     "iopub.execute_input": "2022-05-04T04:26:01.477823Z",
     "iopub.status.busy": "2022-05-04T04:26:01.477573Z",
     "iopub.status.idle": "2022-05-04T04:26:02.185095Z",
     "shell.execute_reply": "2022-05-04T04:26:02.184386Z"
    },
    "executionInfo": {
     "elapsed": 338,
     "status": "ok",
     "timestamp": 1654827876245,
     "user": {
      "displayName": "Rogério Delfim",
      "userId": "04235763959036945343"
     },
     "user_tz": 180
    },
    "id": "443ff2a5",
    "outputId": "6a656551-d337-4513-8bb6-12b34ad3ac7b",
    "papermill": {
     "duration": 0.842097,
     "end_time": "2022-05-04T04:26:02.187062",
     "exception": false,
     "start_time": "2022-05-04T04:26:01.344965",
     "status": "completed"
    },
    "tags": []
   },
   "outputs": [],
   "source": [
    "X      = df3_train.drop(target, axis=1)\n",
    "y      = df3_train[target].values\n",
    "X_test = df3_test\n",
    "\n",
    "X_train, X_valid, y_train, y_valid = train_test_split(X, y, \n",
    "                                                      test_size    = 0.2,\n",
    "                                                      shuffle      = True, \n",
    "                                                      random_state = 12359)\n",
    "\n",
    "cols_oho = ['estação', 'feriado',] \n",
    "cols_ord = ['dia']\n",
    "\n",
    "X_train, X_valid, X_test = feature_binarizer(X_train.copy(), X_valid.copy(), X_test.copy(), cols_oho, cols_ord)\n",
    "\n",
    "X_train.shape, y_train.shape, X_valid.shape, y_valid.shape , X_test.shape"
   ]
  },
  {
   "cell_type": "markdown",
   "id": "527946c1",
   "metadata": {
    "id": "527946c1",
    "papermill": {
     "duration": 0.135512,
     "end_time": "2022-05-04T04:26:03.494680",
     "exception": false,
     "start_time": "2022-05-04T04:26:03.359168",
     "status": "completed"
    },
    "tags": []
   },
   "source": [
    "## 3.2. Treinamento"
   ]
  },
  {
   "cell_type": "code",
   "execution_count": null,
   "id": "63a89bb5",
   "metadata": {
    "ExecuteTime": {
     "end_time": "2022-06-28T20:35:36.002883Z",
     "start_time": "2022-06-28T20:35:35.985893Z"
    },
    "code_folding": [
     0
    ]
   },
   "outputs": [],
   "source": [
    "def delete_files(namefile):\n",
    "                \n",
    "        path = ['model/train', 'model/test', 'model/valid', 'model/params', 'model/score',\n",
    "                'model/test_f', 'model/cv_model', 'model/preds', 'model/optuna', \n",
    "                'model/preds/train', 'model/preds/test', 'model/preds/test/n1', \n",
    "                'model/preds/test/n2', 'model/preds/test/n3', 'model/preds/train/n1', \n",
    "                'model/preds/train/n2', 'model/preds/train/n3','model/preds/param', \n",
    "                'Data/submission/tunning', 'Data/submission', 'model/mdl'                \n",
    "               ]\n",
    "\n",
    "        for path_ in path:\n",
    "            for raiz, diretorios, arquivos in os.walk(path_):\n",
    "                for arquivo in arquivos:\n",
    "                    if arquivo.startswith(namefile):\n",
    "                        os.remove(os.path.join(raiz, arquivo))"
   ]
  },
  {
   "cell_type": "code",
   "execution_count": null,
   "id": "7br-XouOv6sK",
   "metadata": {
    "ExecuteTime": {
     "end_time": "2022-06-28T20:35:36.503281Z",
     "start_time": "2022-06-28T20:35:36.489283Z"
    },
    "executionInfo": {
     "elapsed": 3,
     "status": "ok",
     "timestamp": 1654827884231,
     "user": {
      "displayName": "Rogério Delfim",
      "userId": "04235763959036945343"
     },
     "user_tz": 180
    },
    "id": "7br-XouOv6sK"
   },
   "outputs": [],
   "source": [
    "cols = X_valid.columns.to_list()\n",
    "cols_model_1 = cols\n",
    "print(cols)"
   ]
  },
  {
   "cell_type": "code",
   "execution_count": null,
   "id": "2dc9a4fc",
   "metadata": {
    "ExecuteTime": {
     "end_time": "2022-06-28T20:35:56.614320Z",
     "start_time": "2022-06-28T20:35:38.130361Z"
    },
    "colab": {
     "base_uri": "https://localhost:8080/"
    },
    "execution": {
     "iopub.execute_input": "2022-05-04T04:26:03.767094Z",
     "iopub.status.busy": "2022-05-04T04:26:03.766822Z",
     "iopub.status.idle": "2022-05-04T04:26:56.868948Z",
     "shell.execute_reply": "2022-05-04T04:26:56.868173Z"
    },
    "executionInfo": {
     "elapsed": 15303,
     "status": "ok",
     "timestamp": 1654828562439,
     "user": {
      "displayName": "Rogério Delfim",
      "userId": "04235763959036945343"
     },
     "user_tz": 180
    },
    "id": "2dc9a4fc",
    "outputId": "4357ba5e-d6fb-411e-8aaa-19a378d446ce",
    "papermill": {
     "duration": 53.241834,
     "end_time": "2022-05-04T04:26:56.870844",
     "exception": false,
     "start_time": "2022-05-04T04:26:03.629010",
     "status": "completed"
    },
    "scrolled": true,
    "tags": []
   },
   "outputs": [],
   "source": [
    "%%time \n",
    "seed   = 12359\n",
    "params = {'objective'        : 'reg:squarederror', \n",
    "          'eval_metric'      : 'rmse', \n",
    "          'n_estimators'     : 2000,         \n",
    "          'max_depth'        : 7, \n",
    "          'learning_rate'    : .01, \n",
    "          'subsample'        : 0.7, \n",
    "          'colsample_bytree' : 0.8, \n",
    "          'reg_alpha'        : 0.9,    #           \n",
    "          'random_state'     : seed}\n",
    "\n",
    "if torch.cuda.is_available():           \n",
    "    params.update({'tree_method': 'gpu_hist','predictor': 'gpu_predictor'})\n",
    "\n",
    "scalers = [None, \n",
    "           #QuantileTransformer(output_distribution='normal', random_state=0)\n",
    "           #StandardScaler(),\n",
    "           #RobustScaler(), \n",
    "           #MinMaxScaler(), \n",
    "           #MaxAbsScaler(),                     \n",
    "          ]\n",
    "\n",
    "eval_set       = [(X_train[cols], y_train), (X_valid[cols], y_valid)]\n",
    "model_baseline = xgb.XGBRegressor(**params)\n",
    "scaler_best    = None\n",
    "model_best     = None\n",
    "score_best     = np.mean(y)\n",
    "cols           = X_valid.columns\n",
    "n_estimators   = int(model_baseline.get_params()['n_estimators']*.1)\n",
    "\n",
    "for i , scaler in enumerate(scalers): \n",
    "    \n",
    "    X_train_s = X_train[cols].copy() \n",
    "    X_valid_s = X_valid[cols].copy()\n",
    "    X_test_s  = X_test[cols].copy()\n",
    "    \n",
    "    if scaler!=None:                      \n",
    "        X_train_s[cols] = scaler.fit_transform(X_train_s[cols])\n",
    "        X_valid_s[cols] = scaler.transform(X_valid_s[cols])\n",
    "        X_test_s[cols]  = scaler.transform(X_test[cols])\n",
    "    \n",
    "    y_train_nor = y_train\n",
    "    y_valid_nor = y_valid\n",
    "    \n",
    "    model_baseline.fit(X_train_s, \n",
    "                       y_train_nor, \n",
    "                       eval_set  = eval_set,                                               \n",
    "                       verbose   = False, \n",
    "                       early_stopping_rounds = n_estimators\n",
    "                      )\n",
    "\n",
    "    score_tr  = model_baseline.score(X_train_s, y_train_nor)  \n",
    "    y_pred_vl = model_baseline.predict(X_valid_s, ntree_limit=model_baseline.best_ntree_limit)\n",
    "    y_pred_ts = model_baseline.predict(X_test_s,  ntree_limit=model_baseline.best_ntree_limit)\n",
    "    \n",
    "    y_pred_vl = np.int64(y_pred_vl)\n",
    "\n",
    "    rmse, mae, mse, mape, r_squared = Ultil.evaluation(y_valid, y_pred_vl)    \n",
    "    \n",
    "    msg = 'RMSE: {:2.2f} - MAE: {:2.2f} - MSE: {:2.2f} - MAPE: {:2.2f} - R2: {:2.2f} - RMSE Trn: {:2.8f} => {}'     \n",
    "    print(msg.format(rmse, mae, mse, mape, r_squared, score_tr,  scaler))\n",
    "    \n",
    "    if (rmse)<score_best:        \n",
    "        score_best   = (rmse)\n",
    "        scaler_best  = scaler        \n",
    "        #y_valid_best = np.float64(np.expm1(y_valid_nor))\n",
    "        y_valid_best = y_pred_vl\n",
    "        model_best   = model_baseline\n",
    "        \n",
    "    # Gera arquivo de submissão\n",
    "    \n",
    "    delete_files('xgb_01_base_line_score')\n",
    "    \n",
    "    name_file_sub         = 'xgb_01_base_line_score_{:2.2f}_{}.csv'.format(rmse, str(scaler).lower()[:4])\n",
    "    df_submission[target] = np.int64(y_pred_ts)    \n",
    "    df_submission.to_csv(path + 'Data/submission/' + name_file_sub, index=False)\n",
    "\n",
    "df_pred = pd.DataFrame({'y': y_valid, 'y_pred':y_valid_best })\n",
    "df_pred['residuals'] = df_pred['y'] - df_pred['y_pred']\n",
    "\n",
    "print()\n",
    "print('The Best')  \n",
    "print('Scaler: {}'.format(scaler_best))    \n",
    "print('Score : {:2.2f}'.format(score_best))\n",
    "print()\n",
    "\n",
    "# RMSE: 242.81 - MAE: 140.37 - MSE: 58958.17 - MAPE: 1.56 - R2: 0.85 - RMSE Trn: 0.98149293 => None"
   ]
  },
  {
   "cell_type": "markdown",
   "id": "bd3104ed",
   "metadata": {},
   "source": [
    "<div class=\"alert alert-block alert-info\">\n",
    "<p style=\"color: black; font-family: Arial Black\">NOTA:</p>\n",
    "    \n",
    "Podemos destacar um ponto importante no resultado acima, **RMSE** é 42% acima do **MAE**, isso é um indicativo que os outliers estão afetando as previsões, pois a métrica (RMSE) é penalizada com os maiores erro da nossa previsão, sendo assim, temos um trabalho a fazer em relação aos outliers, que mencionamos nas análises.  <p>\n",
    "    \n",
    "Abaixo a submissão das previssões na competição com RMSE de 247.78 que representa um aumento de 0.02%, a minha maior preocupação é ter um modelo robusto, pois estamos sendo avaliado em 30% dos dados de treino, que torna a competição emocionante, pois as colocações podem muda no final.     \n",
    "      \n",
    "</div>"
   ]
  },
  {
   "attachments": {
    "image-2.png": {
     "image/png": "[encoded data removed]"
    }
   },
   "cell_type": "markdown",
   "id": "8358e919",
   "metadata": {},
   "source": [
    "![image-2.png](attachment:image-2.png)"
   ]
  },
  {
   "cell_type": "markdown",
   "id": "b8046726",
   "metadata": {},
   "source": [
    "## 3.3. Anállise\n",
    "Vamos começa plotando os valores real x preditos. "
   ]
  },
  {
   "cell_type": "markdown",
   "id": "e4b341d9",
   "metadata": {},
   "source": [
    "### 3.3.1. Real x Predito"
   ]
  },
  {
   "cell_type": "code",
   "execution_count": null,
   "id": "a21a9155",
   "metadata": {
    "ExecuteTime": {
     "end_time": "2022-06-28T20:37:28.528442Z",
     "start_time": "2022-06-28T20:37:28.003445Z"
    }
   },
   "outputs": [],
   "source": [
    "sample = 200\n",
    "x_ax   = range(len(y_valid[:sample]))\n",
    "\n",
    "y_nor  = df_pred.loc[:sample-1].y\n",
    "y_pred = df_pred.loc[:sample-1].y_pred\n",
    "\n",
    "plt.figure(figsize=(15,10))\n",
    "\n",
    "plt.subplot(3,1,1)\n",
    "plt.plot(x_ax, y_nor,  label=\"original\")\n",
    "plt.plot(x_ax, y_pred, label=\"predicted\")\n",
    "plt.title(\"Previsão em dados de validação\")\n",
    "plt.legend()\n",
    "\n",
    "plt.subplot(3,1,2)\n",
    "plt.scatter(x_ax, y_nor, s=5, color=\"blue\", label=\"original\")\n",
    "plt.plot(x_ax, y_pred, lw=0.8, color=\"red\", label=\"predicted\")\n",
    "plt.legend()\n",
    "\n",
    "plt.subplot(3,1,3)\n",
    "result_tr   = model_best.evals_result()['validation_0']['rmse']\n",
    "result_vl   = model_best.evals_result()['validation_1']['rmse']\n",
    "ntree_limit = model_best.best_ntree_limit\n",
    "\n",
    "#plt.figure(figsize=(12,5))\n",
    "plt.plot(result_tr, label=\"Treinamento\")\n",
    "plt.plot(result_vl, label=\"Validação\")\n",
    "plt.axvline(ntree_limit, color=\"gray\", label=\"N. de árvore ideal {}\".format(ntree_limit))\n",
    "plt.legend();\n",
    "\n",
    "plt.show()"
   ]
  },
  {
   "cell_type": "markdown",
   "id": "bba43988",
   "metadata": {},
   "source": [
    "<div class=\"alert alert-block alert-info\">\n",
    "<p style=\"color: black; font-family: Arial Black\">NOTA:</p>\n",
    "    \n",
    "Observamos nos dois primeiros gráficos, que o modelo tem dificuldade nas previsões acima de 1000, isso é o sinal dos outliers que devemos tratá-los, no terceiro gráfico observamos que na predição o modelo utiliza quase os 1000 estimadores, talvez o aumento de estimadores pode melhorar as previsões, é ponto para tunning de parametros. \n",
    "</div>"
   ]
  },
  {
   "cell_type": "markdown",
   "id": "7396f429",
   "metadata": {},
   "source": [
    "### 3.3.2. Resíduo"
   ]
  },
  {
   "cell_type": "code",
   "execution_count": null,
   "id": "d63eac5d",
   "metadata": {
    "ExecuteTime": {
     "end_time": "2022-06-28T20:39:47.293919Z",
     "start_time": "2022-06-28T20:39:46.522893Z"
    }
   },
   "outputs": [],
   "source": [
    "# https://www.scikit-yb.org/en/latest/api/regressor/index.html\n",
    "plt.figure(figsize=(12,7))\n",
    "visualizer = ResidualsPlot(model_best, hist=True,)\n",
    "visualizer.fit(X_train_s, y_train_nor)  \n",
    "visualizer.score(X_valid_s, y_valid_nor)\n",
    "visualizer.show()   ;"
   ]
  },
  {
   "cell_type": "markdown",
   "id": "1fa07e28",
   "metadata": {
    "ExecuteTime": {
     "end_time": "2022-06-12T02:35:44.946096Z",
     "start_time": "2022-06-12T02:35:44.938066Z"
    }
   },
   "source": [
    "<div class=\"alert alert-block alert-info\">\n",
    "<p style=\"color: black; font-family: Arial Black\">NOTA:</p>\n",
    "    \n",
    "Obsevamos que temos alguma aleatóriedade nos resíduos, isso parece indicar que o modelo é bom, também podemos ver pelo histograma que nossos erros são quase normalmente distribuído em torno de zero, o que geralmente indica que o modelo precisa de ajuste, outro ponto importante é R2 do treinamento em relação ao teste, que é 13% acima indicando um overfiting, o qual podemos trabalhar em melhoria nos dados e parametros dos modelos. \n",
    "    \n",
    "</div>"
   ]
  },
  {
   "cell_type": "markdown",
   "id": "7253fbbe",
   "metadata": {
    "id": "7253fbbe"
   },
   "source": [
    "### 3.3.3. SHAP Values\n",
    "Para uma análise detralhada das previsões vamos utilizar o **SHAP (SHapley Additive exPlanations)**, é uma técnica usada para interpretar os \"black-box models\" para explicar a saída de qualquer modelo de Machine Learning, com ele podemos ter uma maior explicabilidade dos impactos das variáveis nas predições.  <p>\n",
    "        \n",
    "O **SHAP mede o impacto das variáveis, levando em consideração a interação com outras variáveis**, isto é,  os valores de Shapley calculam a importância de uma variável comparando o que um modelo prevê com e sem a variável. No entanto, como a ordem na qual um modelo vê recursos pode afetar suas previsões, isso é feito em todas as ordens possíveis, para que as variáveis sejam comparados de maneira justa.[fonte](https://medium.com/@gabrieltseng/interpreting-complex-models-with-shap-values-1c187db6ec83) <p>\n",
    "        \n",
    "Ele conecta a alocação de crédito ideal com explicações locais usando os valores clássicos de Shapley da teoria dos jogos e suas extensões relacionadas ([ver artigos para detalhes e citações](https://github.com/slundberg/shap#citations) ). <br>\n",
    "\n",
    "Desenvolvido por [Scott M. Lundberg.](https://scottlundberg.com/)\n",
    "\n",
    "referências: <P>\n",
    "- [Kaggle](https://www.kaggle.com/code/franckepeixoto/shap-values-explicando-os-impactos-das-vari-veis/notebook)\n",
    "- Github: [1](https://github.com/slundberg/shap/blob/master/notebooks/tabular_examples/tree_based_models/Census%20income%20classification%20with%20LightGBM.ipynb) [2](https://slundberg.github.io/shap/notebooks/plots/dependence_plot.html)  <p>\n",
    "    "
   ]
  },
  {
   "cell_type": "markdown",
   "id": "b69556f4",
   "metadata": {},
   "source": [
    "#### 3.3.3.1. TreeExplainer \n",
    "Como estamos trabalhando com modelo de arvore vamos utilizar o **TreeExplainer**, sendo o mais apropriado para modelos baseados em arvore, foi otimizado para renderizar de forma mais eficaz os modelos em árvore, existem outras forma de calcular Shaply: \n",
    "\n",
    "- KernelExplainer para modelos lineares; \n",
    "- DeepExplainer no caso de modelos de Deep Learning.\n"
   ]
  },
  {
   "cell_type": "code",
   "execution_count": null,
   "id": "06c1610a",
   "metadata": {
    "ExecuteTime": {
     "end_time": "2022-06-28T21:07:31.297584Z",
     "start_time": "2022-06-28T21:07:24.962325Z"
    }
   },
   "outputs": [],
   "source": [
    "explainer   = shap.TreeExplainer(model_baseline)\n",
    "shap_values = explainer.shap_values(X_train_s)"
   ]
  },
  {
   "cell_type": "markdown",
   "id": "c0b820f7",
   "metadata": {
    "ExecuteTime": {
     "end_time": "2022-05-02T03:24:24.997190Z",
     "start_time": "2022-05-02T03:24:24.984193Z"
    },
    "id": "c0b820f7",
    "papermill": {
     "duration": 0.132574,
     "end_time": "2022-05-04T04:26:57.404241",
     "exception": false,
     "start_time": "2022-05-04T04:26:57.271667",
     "status": "completed"
    },
    "tags": []
   },
   "source": [
    "#### 3.3.3.2. Featuere Importance"
   ]
  },
  {
   "cell_type": "code",
   "execution_count": null,
   "id": "f713967d",
   "metadata": {
    "ExecuteTime": {
     "end_time": "2022-06-28T21:07:31.501486Z",
     "start_time": "2022-06-28T21:07:31.300322Z"
    },
    "scrolled": false
   },
   "outputs": [],
   "source": [
    "shap.summary_plot(shap_values, X_train_s, plot_type=\"bar\")"
   ]
  },
  {
   "cell_type": "markdown",
   "id": "94f18e7f",
   "metadata": {
    "ExecuteTime": {
     "end_time": "2022-06-12T03:08:06.787576Z",
     "start_time": "2022-06-12T03:08:06.152491Z"
    },
    "execution": {
     "iopub.execute_input": "2022-05-04T04:26:57.670520Z",
     "iopub.status.busy": "2022-05-04T04:26:57.670277Z",
     "iopub.status.idle": "2022-05-04T04:26:58.011830Z",
     "shell.execute_reply": "2022-05-04T04:26:58.011148Z"
    },
    "executionInfo": {
     "elapsed": 1068,
     "status": "ok",
     "timestamp": 1651529643225,
     "user": {
      "displayName": "Rogério Delfim",
      "userId": "04235763959036945343"
     },
     "user_tz": 180
    },
    "id": "caee0048",
    "outputId": "806dfb47-6838-4dd3-8a42-2bd86e6db50b",
    "papermill": {
     "duration": 0.47716,
     "end_time": "2022-05-04T04:26:58.013684",
     "exception": false,
     "start_time": "2022-05-04T04:26:57.536524",
     "status": "completed"
    },
    "tags": []
   },
   "source": [
    "<div class=\"alert alert-block alert-info\">\n",
    "<p style=\"color: black; font-family: Arial Black\">NOTA:</p><br>\n",
    "Aqui temos uma visão das variáveis mais importante no treinamento do modelo, percebemos que a tempera e hora são as mais importante, com uma grande diferença em relação as outras variáveis. \n",
    "    \n",
    "Vamos dar uma olhada no efeito de cada variável na predição do modelo. \n",
    "    \n",
    "    \n",
    "</div>"
   ]
  },
  {
   "cell_type": "markdown",
   "id": "b461ff29",
   "metadata": {},
   "source": [
    "#### 3.3.3.3. Impacto da variável "
   ]
  },
  {
   "cell_type": "code",
   "execution_count": null,
   "id": "f4863f8e",
   "metadata": {
    "ExecuteTime": {
     "end_time": "2022-06-28T21:07:32.200350Z",
     "start_time": "2022-06-28T21:07:31.504324Z"
    }
   },
   "outputs": [],
   "source": [
    "shap.summary_plot(shap_values, X_train_s, max_display=15)"
   ]
  },
  {
   "cell_type": "markdown",
   "id": "463cbbe5",
   "metadata": {
    "id": "463cbbe5",
    "papermill": {
     "duration": 0.133776,
     "end_time": "2022-05-04T04:26:58.282051",
     "exception": false,
     "start_time": "2022-05-04T04:26:58.148275",
     "status": "completed"
    },
    "tags": []
   },
   "source": [
    "<div class=\"alert alert-block alert-info\">\n",
    "<p style=\"color: black; font-family: Arial Black\">NOTA:</p><br>  \n",
    "A temperatura e a hora são duas variáveis que tem um auto impacto positivo nas previsões, as variáveis umidade e chuva tem um impacto negativo nas previsões.\n",
    "</div>"
   ]
  },
  {
   "cell_type": "markdown",
   "id": "6c2e9b55",
   "metadata": {},
   "source": [
    "#### 3.3.3.4. Gráfico de força coletiva\n",
    "\n",
    "Cada observação tem seu próprio gráfico de força. Se todos os gráficos de força são combinados, girados 90 graus e empilhados horizontalmente.\n"
   ]
  },
  {
   "cell_type": "code",
   "execution_count": null,
   "id": "126a49c3",
   "metadata": {
    "ExecuteTime": {
     "end_time": "2022-06-27T01:23:07.471681Z",
     "start_time": "2022-06-27T01:12:31.710649Z"
    }
   },
   "outputs": [],
   "source": [
    "shap.initjs()\n",
    "shap.force_plot(explainer.expected_value, shap_values, X_train_s)"
   ]
  },
  {
   "cell_type": "code",
   "execution_count": null,
   "id": "32a2be67",
   "metadata": {
    "ExecuteTime": {
     "end_time": "2022-06-27T01:23:09.750632Z",
     "start_time": "2022-06-27T01:23:07.474672Z"
    },
    "scrolled": false
   },
   "outputs": [],
   "source": [
    "inds = shap.approximate_interactions(\"temperatura\", shap_values, X_train_s)\n",
    "\n",
    "for i in range(10):\n",
    "    shap.dependence_plot(\"temperatura\", shap_values, X_train_s, interaction_index=inds[i])"
   ]
  },
  {
   "cell_type": "code",
   "execution_count": null,
   "id": "60901e2e",
   "metadata": {
    "ExecuteTime": {
     "end_time": "2022-06-28T21:09:26.836447Z",
     "start_time": "2022-06-28T21:09:23.556421Z"
    },
    "scrolled": false
   },
   "outputs": [],
   "source": [
    "feature = X_train_s.columns\n",
    "row     = int(len(feature)/2 )\n",
    "fig, ax = plt.subplots(row, 2, figsize=(15,30))\n",
    "l       = 0\n",
    "c       = 0 \n",
    "\n",
    "for i, name in enumerate(feature):   \n",
    "    shap.dependence_plot(name, \n",
    "                         shap_values[:1000], \n",
    "                         X_train_s[:1000], \n",
    "                         display_features  = X_train_s, \n",
    "                         ax                = ax[l][c], \n",
    "                         #interaction_index = None, \n",
    "                         show              = False\n",
    "                        )\n",
    "    \n",
    "    c  = 1 if c==0 else 0    \n",
    "    l += 1 if i%2==1 else 0    \n",
    "\n",
    "fig.tight_layout(pad=3.0)"
   ]
  },
  {
   "cell_type": "markdown",
   "id": "6a201220",
   "metadata": {
    "id": "6a201220",
    "papermill": {
     "duration": 0.228414,
     "end_time": "2022-05-04T04:27:02.274304",
     "exception": false,
     "start_time": "2022-05-04T04:27:02.045890",
     "status": "completed"
    },
    "tags": []
   },
   "source": [
    "## 3.4. Validação Cruzada"
   ]
  },
  {
   "cell_type": "code",
   "execution_count": null,
   "id": "0192da37",
   "metadata": {
    "ExecuteTime": {
     "end_time": "2022-06-29T00:23:00.421242Z",
     "start_time": "2022-06-29T00:23:00.367218Z"
    }
   },
   "outputs": [],
   "source": [
    "X      = df3_train.drop(target, axis=1)\n",
    "y      = (df3_train[target])\n",
    "X_test = df3_test\n",
    "\n",
    "cols_oho = ['estação', 'feriado',] \n",
    "cols_ord = ['dia']\n",
    "\n",
    "X_train, X_valid, y_train, y_valid = train_test_split(X, y, \n",
    "                                                      test_size    = 0.2,\n",
    "                                                      shuffle      = True, \n",
    "                                                      random_state = 12359)\n",
    "\n",
    "\n",
    "X_train, X_valid, X_test = feature_binarizer(X_train.copy(), X_valid.copy(), X_test.copy(), cols_oho, cols_ord)\n",
    "\n",
    "X_train.shape, y_train.shape, X_valid.shape, y_valid.shape , X_test.shape"
   ]
  },
  {
   "cell_type": "code",
   "execution_count": null,
   "id": "bc505ac4",
   "metadata": {
    "ExecuteTime": {
     "end_time": "2022-06-28T21:10:29.228309Z",
     "start_time": "2022-06-28T21:10:29.204300Z"
    },
    "code_folding": [
     0
    ]
   },
   "outputs": [],
   "source": [
    "def save_data_model(model_, model_name_, path_, df_, y_pred_test_prob_, y_pred_test_subm_, score_, \n",
    "                    seed_, level_='1', target_='target', cutoff_value_=.6, gera_submission_=True):    \n",
    "    \n",
    "    level = 'n' + level_ + '/'\n",
    "\n",
    "    if score_>cutoff_value_:    \n",
    "        \n",
    "        path_name_param = path_ + 'model/preds/param/' + model_name_.format(score_, seed_) + '.pkl.z'\n",
    "        path_name_train = path_ + 'model/preds/train/' + level + model_name_.format(score_, seed_) + '.pkl.z'\n",
    "        path_name_test  = path_ + 'model/preds/test/'  + level + model_name_.format(score_, seed_) + '.pkl.z'   \n",
    "        path_name_model = path_ + 'model/mdl/'         + model_name_.format(score_, seed_) + '.pkl.z'   \n",
    "        \n",
    "        delete_files(model_name_)\n",
    "        \n",
    "        jb.dump(df_, path_name_train)\n",
    "        jb.dump(y_pred_test_prob_, path_name_test)\n",
    "        jb.dump(model_, path_name_model)\n",
    "                \n",
    "        if gera_submission_:\n",
    "            model_name_ = model_name_.format(score_, seed_)\n",
    "            df_submission[target] = y_pred_test_subm_\n",
    "            df_submission.to_csv(path_ + 'Data/submission/' + model_name_+ '.csv', index=False)"
   ]
  },
  {
   "cell_type": "code",
   "execution_count": null,
   "id": "c4298254",
   "metadata": {
    "ExecuteTime": {
     "end_time": "2022-06-28T21:10:29.699695Z",
     "start_time": "2022-06-28T21:10:29.682702Z"
    },
    "code_folding": [
     0
    ]
   },
   "outputs": [],
   "source": [
    "def save_data_model(model_, model_name_, path_, df_, y_pred_test_prob_, y_pred_test_subm_, score_, \n",
    "                    seed_, level_='1', target_='target', cutoff_value_=.6, gera_submission_=True):    \n",
    "    \n",
    "    level = 'n' + level_ + '/'\n",
    "\n",
    "    if score_>cutoff_value_:    \n",
    "        \n",
    "        path_name_param = path_ + 'model/preds/param/' + model_name_.format(score_, seed_) + '.pkl.z'\n",
    "        path_name_train = path_ + 'model/preds/train/' + level + model_name_.format(score_, seed_) + '.pkl.z'\n",
    "        path_name_test  = path_ + 'model/preds/test/'  + level + model_name_.format(score_, seed_) + '.pkl.z'   \n",
    "        path_name_model = path_ + 'model/mdl/'         + model_name_.format(score_, seed_) + '.pkl.z'   \n",
    "        \n",
    "        delete_files(model_name_)\n",
    "        \n",
    "        jb.dump(df_, path_name_train)\n",
    "        jb.dump(y_pred_test_prob_, path_name_test)\n",
    "        jb.dump(model_, path_name_model)\n",
    "                \n",
    "        if gera_submission_:\n",
    "            model_name_ = model_name_.format(score_, seed_)\n",
    "            df_submission[target] = y_pred_test_subm_\n",
    "            df_submission.to_csv(path_ + 'Data/submission/' + model_name_+ '.csv', index=False)"
   ]
  },
  {
   "cell_type": "code",
   "execution_count": null,
   "id": "30efc036",
   "metadata": {
    "ExecuteTime": {
     "end_time": "2022-06-28T21:10:30.185178Z",
     "start_time": "2022-06-28T21:10:30.166216Z"
    },
    "code_folding": [
     0
    ]
   },
   "outputs": [],
   "source": [
    "def df_return_preds_stacking(model_name_=None, path_='', target_='target', level=1): \n",
    "\n",
    "    if level==1: \n",
    "        level_ = 'n1'\n",
    "    else: \n",
    "        if level==2:\n",
    "            level_ = 'n2'\n",
    "        else: \n",
    "            level_ = 'n3'\n",
    "\n",
    "    paths = ['model/preds/test/'+ level_, 'model/preds/train/' + level_ ]    \n",
    "\n",
    "    if model_name_==None: \n",
    "        model_name_=''\n",
    "\n",
    "    for i, p in enumerate(paths): \n",
    "\n",
    "        p = path_ + p \n",
    "\n",
    "        name_file_pkl     = glob.glob(p + '/'+ model_name_ + '*.pkl.z')\n",
    "        dic_preds_mdl_pkl = dict()    \n",
    "\n",
    "        for p_name in name_file_pkl:    \n",
    "            y_model_pkl_name_col  = p_name.replace(p + '\\\\', '').replace('.pkl.z','') \n",
    "            #y_model_pkl           = jb.load(p_name)\n",
    "            df_pkl =jb.load(p_name)\n",
    "\n",
    "            if i==0: \n",
    "                x_proba = df_pkl\n",
    "            else: \n",
    "                x_proba = df_pkl['y_proba']        \n",
    "\n",
    "            dic_preds_mdl_pkl[y_model_pkl_name_col] = x_proba\n",
    "\n",
    "        if i==0:\n",
    "            df_ts = pd.DataFrame(dic_preds_mdl_pkl)\n",
    "        else: \n",
    "            df_tr = pd.DataFrame(dic_preds_mdl_pkl) \n",
    "            df_tr[target_] = df_pkl['y_proba']\n",
    "            \n",
    "    return df_tr, df_ts "
   ]
  },
  {
   "cell_type": "code",
   "execution_count": null,
   "id": "de0e8dad",
   "metadata": {
    "ExecuteTime": {
     "end_time": "2022-06-29T00:12:19.308106Z",
     "start_time": "2022-06-29T00:12:19.280109Z"
    },
    "code_folding": [
     0
    ],
    "run_control": {
     "marked": false
    }
   },
   "outputs": [],
   "source": [
    "def cross_val_model(model_, model_name_, X_, y_, X_test_, target_, scalers_, lb_, fold_=5, path_='',  \n",
    "                    seed_=12359, feature_scaler_=None, print_report_=False, save_submission_=False, \n",
    "                    save_predict_=False, level_='1', cutoff_value_save_=.6, \n",
    "                    train_with_created_folds_=False):\n",
    "    \n",
    "    n_estimators    = model_.get_params()['n_estimators']             \n",
    "    valid_preds     = {}\n",
    "    taco            = 76 \n",
    "    acc_best        = 0  \n",
    "    df_preds        = pd.DataFrame()\n",
    "    feature_imp     = pd.DataFrame()\n",
    "    test_preds      = []\n",
    "    preds           = []\n",
    "    model           = []\n",
    "    folds           = []\n",
    "    cols_sencond_level = ['fold', 'idx_fold', 'y', 'y_pred', 'residuo']\n",
    "    \n",
    "    # Recuperar os indices do kf \n",
    "    if train_with_created_folds_:\n",
    "        for i in range(fold_):         \n",
    "            folds.append(jb.load(path + 'model/preds/folds/kf_folds_{}_{}.pkl.z'.format(fold_, i+1)))\n",
    "    else:\n",
    "        #folds = KFold(n_splits=fold_, shuffle=True, random_state=12359)\n",
    "        folds = StratifiedKFold(n_splits=fold_, shuffle=True, random_state=12359)\n",
    "        folds = folds.split(X_, y_)\n",
    "        \n",
    "\n",
    "    for i, scaler_ in enumerate(scalers_): \n",
    "\n",
    "        time_start  = datetime.now()\n",
    "        score     = [] \n",
    "        score_mae = []\n",
    "                \n",
    "        if scaler_!=None:            \n",
    "            string_scaler = str(scaler_)        \n",
    "            string_scaler = string_scaler[:string_scaler.index('(')]\n",
    "        else:\n",
    "            string_scaler = None \n",
    "            \n",
    "        y_pred_test = np.zeros(len(X_test_))        \n",
    "        \n",
    "        print('='*taco)\n",
    "        print('Scaler: {} - n_estimators: {}'.format(string_scaler, n_estimators))\n",
    "        print('='*taco)\n",
    "        \n",
    "        y_pred_test_oof = 0      \n",
    "        second_level    = np.zeros((X_.shape[0], 5))        \n",
    "\n",
    "        for fold, (trn_idx, val_idx) in enumerate(folds): \n",
    "\n",
    "            time_fold_start = datetime.now()\n",
    "            \n",
    "            if train_with_created_folds_:\n",
    "                trn_idx = folds[fold][trn_idx]\n",
    "                val_idx = folds[fold][val_idx]\n",
    "            \n",
    "            # ---------------------------------------------------- \n",
    "            # Separar dados para treino \n",
    "            # ----------------------------------------------------     \n",
    "            X_trn, X_val = X_.iloc[trn_idx], X_.iloc[val_idx]\n",
    "            y_trn, y_val = y_.iloc[trn_idx], y_.iloc[val_idx] \n",
    "                      \n",
    "            # ---------------------------------------------------- \n",
    "            # Processamento \n",
    "            # ---------------------------------------------------- \n",
    "            X_tst = X_test_.copy()\n",
    "            \n",
    "            if scaler_!=None: \n",
    "                if feature_scaler_!=None:                     \n",
    "                    X_trn[feature_scaler_] = scaler_.fit_transform(X_trn[feature_scaler_])\n",
    "                    X_val[feature_scaler_] = scaler_.transform(X_val[feature_scaler_])                      \n",
    "                    X_tst[feature_scaler_] = scaler_.transform(X_tst[feature_scaler_])\n",
    "                else:            \n",
    "                    X_trn = scaler_.fit_transform(X_trn)\n",
    "                    X_val = scaler_.transform(X_val)\n",
    "                    X_tst = scaler_.transform(X_tst.copy())\n",
    "                \n",
    "            # ---------------------------------------------------- \n",
    "            # Treinar o modelo \n",
    "            # ----------------------------------------------------            \n",
    "            model_.fit(X_trn, y_trn,\n",
    "                       eval_set              = [(X_trn, y_trn), (X_val, y_val)],          \n",
    "                       early_stopping_rounds = int(n_estimators*.1),\n",
    "                       verbose               = False\n",
    "                      )\n",
    "            \n",
    "            # ---------------------------------------------------- \n",
    "            # Predição \n",
    "            # ----------------------------------------------------                 \n",
    "            y_pred_val       = model_.predict(X_val, ntree_limit=model_.best_ntree_limit)\n",
    "            y_pred_test_oof += model_.predict(X_tst, ntree_limit=model_.best_ntree_limit) / fold_\n",
    "                        \n",
    "            second_level[val_idx, 0] = fold+1 \n",
    "            second_level[val_idx, 1] = val_idx \n",
    "            second_level[val_idx, 2] = y_val.values\n",
    "            second_level[val_idx, 3] = y_pred_val \n",
    "            second_level[val_idx, 4] = np.int64(y_val.values - y_pred_val) \n",
    "            \n",
    "            # ---------------------------------------------------- \n",
    "            # Score \n",
    "            # ----------------------------------------------------                         \n",
    "            rmse, mae, mse, mape, r_squared = Ultil.evaluation(y_val, y_pred_val)  \n",
    "                       \n",
    "            score.append(rmse)     \n",
    "            score_mae.append(mae)\n",
    "            \n",
    "            # ---------------------------------------------------- \n",
    "            # Feature Importance\n",
    "            # ----------------------------------------------------             \n",
    "            feat_imp = pd.DataFrame(index   = X_.columns,\n",
    "                                    data    = model_.feature_importances_,\n",
    "                                    columns = ['fold_{}'.format(fold+1)])\n",
    "\n",
    "            feat_imp['rmse_'+str(fold+1)] = rmse\n",
    "            feature_imp = pd.concat([feature_imp, feat_imp], axis=1)\n",
    "            \n",
    "            # ---------------------------------------------------- \n",
    "            # Print resultado  \n",
    "            # ---------------------------------------------------- \n",
    "            time_fold_end = Ultil.diff(time_fold_start, datetime.now())\n",
    "            msg = '[Fold {}] RMSE: {:2.2f} - MAE: {:2.2f} - MAPE: {:2.2f}  - {}'\n",
    "            print(msg.format(fold+1, rmse, mae, mape, time_fold_end))\n",
    "            \n",
    "            # ---------------------------------------------------- \n",
    "            # Salvar o modelo \n",
    "            # ---------------------------------------------------- \n",
    "            dic_model = {'scaler' : scaler_, \n",
    "                         'fold'   : fold+1, \n",
    "                         'model'  : model_ }\n",
    "            \n",
    "            model.append(dic_model)\n",
    "        \n",
    "        df_preds           = pd.DataFrame(second_level, columns=cols_sencond_level)\n",
    "        df_preds['scaler'] = string_scaler\n",
    "        \n",
    "        for col in ['fold', 'idx_fold', 'y', 'y_pred']:\n",
    "            df_preds[col] = df_preds[col].astype(np.int)\n",
    "        \n",
    "        score_mean     = np.mean(score) \n",
    "        score_std      = np.std(score)\n",
    "        score_mae_mean = np.mean(score_mae)\n",
    "        \n",
    "        if score_mean > acc_best:     \n",
    "            acc_best    = score_mean           \n",
    "            model_best  = model_    \n",
    "            scaler_best = scaler_\n",
    "\n",
    "        time_end = Ultil.diff(time_start, datetime.now())   \n",
    "\n",
    "        msg ='[Mean Fold] RMSE: {:2.2f} std: {:2.2f} - MAE {:2.2f} - {}'\n",
    "        \n",
    "        print('-'*taco)        \n",
    "        print(msg.format(score_mean,score_std, score_mae_mean, time_end))\n",
    "        print('='*taco)\n",
    "        print()\n",
    "                                         \n",
    "        # Salvar as predições\n",
    "        if save_submission_:        \n",
    "            y_pred_test_oof = np.int64(y_pred_test_oof)\n",
    "            save_data_model(model_             = model_, \n",
    "                            model_name_        = model_name_+'_score_{:2.5f}_seed_{}_'+str(scaler_).lower()[:4], \n",
    "                            path_              = path_,                             \n",
    "                            df_                = df_preds,          # stacking\n",
    "                            y_pred_test_prob_  = y_pred_test_oof,   # stacking \n",
    "                            y_pred_test_subm_  = y_pred_test_oof,   # sumission \n",
    "                            score_             = score_mean, \n",
    "                            seed_              = seed_, \n",
    "                            level_             = level_, \n",
    "                            target_            = target_, \n",
    "                            cutoff_value_      = cutoff_value_save_) \n",
    "            \n",
    "    print('-'*taco)\n",
    "    print('Scaler Best: {}'.format(scaler_best))\n",
    "    print('Score      : {:2.2f}'.format(acc_best))\n",
    "    print('-'*taco)\n",
    "    print()\n",
    "    \n",
    "    Ultil.free_gpu_cache()\n",
    "    \n",
    "    return model, df_preds , feature_imp , val_idx, y_val"
   ]
  },
  {
   "cell_type": "code",
   "execution_count": null,
   "id": "652c15ce",
   "metadata": {
    "ExecuteTime": {
     "end_time": "2022-06-28T21:18:43.130590Z",
     "start_time": "2022-06-28T21:18:43.115592Z"
    },
    "code_folding": [
     0
    ],
    "run_control": {
     "marked": false
    }
   },
   "outputs": [],
   "source": [
    "def create_kfolds(folds, X_, y_):\n",
    "\n",
    "    kf = StratifiedKFold(n_splits=folds, shuffle=True, random_state=12359)\n",
    "\n",
    "    for fold, (trn_idx, val_idx) in enumerate(kf.split(X_, y_, groups=y_)):   \n",
    "        idx  = {'trn_idx': trn_idx, 'val_idx': val_idx}\n",
    "        file = path + 'model/preds/folds/kf_folds_{}_{}.pkl.z'.format(folds,fold+1)\n",
    "        jb.dump(idx, file)\n",
    "        print('Fold: {}'.format(fold+1))"
   ]
  },
  {
   "cell_type": "markdown",
   "id": "ff02d1cd",
   "metadata": {},
   "source": [
    "### 3.4.1 Treinar com 5 Folds"
   ]
  },
  {
   "cell_type": "code",
   "execution_count": null,
   "id": "8512b559",
   "metadata": {
    "ExecuteTime": {
     "end_time": "2022-06-28T21:18:43.682531Z",
     "start_time": "2022-06-28T21:18:43.636528Z"
    },
    "scrolled": true
   },
   "outputs": [],
   "source": [
    "create_kfolds(5, X, y)"
   ]
  },
  {
   "cell_type": "code",
   "execution_count": null,
   "id": "4421d66f",
   "metadata": {
    "ExecuteTime": {
     "end_time": "2022-06-28T21:31:06.591718Z",
     "start_time": "2022-06-28T21:29:03.700545Z"
    }
   },
   "outputs": [],
   "source": [
    "%%time \n",
    "\n",
    "seed        = 12359\n",
    "eval_metric = ['rmse']                 \n",
    "scalers     = [None]               \n",
    "\n",
    "seed   = 12359\n",
    "params = {'objective'        : 'reg:squarederror', \n",
    "          'eval_metric'      : 'rmse', \n",
    "          'n_estimators'     : 2000,         \n",
    "          'max_depth'        : 7, \n",
    "          'learning_rate'    : .01, \n",
    "          'subsample'        : 0.7, \n",
    "          'colsample_bytree' : 0.8, \n",
    "          'reg_alpha'        : 0.9,    #           \n",
    "          'random_state'     : seed}\n",
    "\n",
    "if torch.cuda.is_available():           \n",
    "    params.update({'tree_method': 'gpu_hist','predictor': 'gpu_predictor'})\n",
    "    \n",
    "model_name = 'xgb_02_cv_05_folds'\n",
    "\n",
    "delete_files(model_name)\n",
    "\n",
    "model, df_preds, feature_imp, val_idx, y_val = \\\n",
    "    cross_val_model(model_           = xgb.XGBRegressor(**params),\n",
    "                    model_name_      = model_name,\n",
    "                    X_               = X,\n",
    "                    y_               = y,\n",
    "                    X_test_          = X_test,\n",
    "                    target_          = target,\n",
    "                    scalers_         = scalers,\n",
    "                    fold_            = 5,\n",
    "                    lb_              = None,\n",
    "                    path_            = path,\n",
    "                    seed_            = seed, \n",
    "                    feature_scaler_  = None,                     \n",
    "                    save_submission_ = True, \n",
    "                    train_with_created_folds_ = True\n",
    "                   )\n",
    "\n",
    "print()"
   ]
  },
  {
   "cell_type": "markdown",
   "id": "38186f91",
   "metadata": {},
   "source": [
    "### 3.4.1 Treinar com 10 Folds"
   ]
  },
  {
   "cell_type": "code",
   "execution_count": null,
   "id": "18d32262",
   "metadata": {
    "ExecuteTime": {
     "end_time": "2022-06-29T00:27:57.866843Z",
     "start_time": "2022-06-29T00:24:36.607165Z"
    },
    "code_folding": [],
    "execution": {
     "iopub.execute_input": "2022-05-04T04:27:02.897974Z",
     "iopub.status.busy": "2022-05-04T04:27:02.897450Z",
     "iopub.status.idle": "2022-05-04T04:28:56.929014Z",
     "shell.execute_reply": "2022-05-04T04:28:56.928083Z"
    },
    "executionInfo": {
     "elapsed": 38014,
     "status": "ok",
     "timestamp": 1651533451520,
     "user": {
      "displayName": "Rogério Delfim",
      "userId": "04235763959036945343"
     },
     "user_tz": 180
    },
    "id": "18d32262",
    "outputId": "13ca4265-d716-4f67-ffc6-bb3cca968573",
    "papermill": {
     "duration": 114.178202,
     "end_time": "2022-05-04T04:28:56.931045",
     "exception": false,
     "start_time": "2022-05-04T04:27:02.752843",
     "status": "completed"
    },
    "tags": []
   },
   "outputs": [],
   "source": [
    "%%time \n",
    "\n",
    "seed        = 12359\n",
    "eval_metric = ['rmse']                 \n",
    "scalers     = [None]               \n",
    "\n",
    "seed   = 12359\n",
    "params = {'objective'        : 'reg:squarederror', \n",
    "          'eval_metric'      : eval_metric, \n",
    "          'n_estimators'     : 2000,         \n",
    "          'max_depth'        : 7, \n",
    "          'learning_rate'    : .01, \n",
    "          'subsample'        : 0.7, \n",
    "          'colsample_bytree' : 0.8, \n",
    "          'reg_alpha'        : 0.9,\n",
    "          'random_state'     : seed}\n",
    "\n",
    "if torch.cuda.is_available():           \n",
    "    params.update({'tree_method': 'gpu_hist','predictor': 'gpu_predictor'})\n",
    "    \n",
    "model_name = 'xgb_03_cv_10_folds'\n",
    "\n",
    "delete_files(model_name)\n",
    "\n",
    "model, df_preds, feature_imp, val_idx, y_val = \\\n",
    "    cross_val_model(model_           = xgb.XGBRegressor(**params),\n",
    "                    model_name_      = model_name,\n",
    "                    X_               = X_train,\n",
    "                    y_               = y_train,\n",
    "                    X_test_          = X_test,\n",
    "                    target_          = target,\n",
    "                    scalers_         = scalers,\n",
    "                    fold_            = 10,\n",
    "                    lb_              = None,\n",
    "                    path_            = path,\n",
    "                    seed_            = seed, \n",
    "                    feature_scaler_  = None,                     \n",
    "                    save_submission_ = True \n",
    "                   )\n",
    "print()"
   ]
  },
  {
   "cell_type": "markdown",
   "id": "187f8d11",
   "metadata": {
    "ExecuteTime": {
     "end_time": "2022-06-12T23:36:00.660280Z",
     "start_time": "2022-06-12T23:36:00.645285Z"
    }
   },
   "source": [
    "<div class=\"alert alert-block alert-info\">\n",
    "<p style=\"color: black; font-family: Arial Black\">NOTA:</p>\n",
    "    \n",
    "Com o aumento de folds o modelo melhora o score, mas a variância duplica. \n",
    "    \n",
    "</div>"
   ]
  },
  {
   "cell_type": "markdown",
   "id": "f082ca3c",
   "metadata": {
    "id": "f082ca3c"
   },
   "source": [
    "## 3.5. Análise do Modelo "
   ]
  },
  {
   "cell_type": "markdown",
   "id": "d9ef4960",
   "metadata": {
    "id": "d9ef4960",
    "papermill": {
     "duration": 0.137917,
     "end_time": "2022-05-04T04:28:57.206506",
     "exception": false,
     "start_time": "2022-05-04T04:28:57.068589",
     "status": "completed"
    },
    "tags": []
   },
   "source": [
    "### 3.5.1. Feature Importances  "
   ]
  },
  {
   "cell_type": "code",
   "execution_count": null,
   "id": "e383a9d7",
   "metadata": {
    "ExecuteTime": {
     "end_time": "2022-06-29T00:28:55.085454Z",
     "start_time": "2022-06-29T00:28:53.117393Z"
    },
    "execution": {
     "iopub.execute_input": "2022-05-04T04:28:57.480582Z",
     "iopub.status.busy": "2022-05-04T04:28:57.480316Z",
     "iopub.status.idle": "2022-05-04T04:28:58.635630Z",
     "shell.execute_reply": "2022-05-04T04:28:58.634909Z"
    },
    "executionInfo": {
     "elapsed": 1967,
     "status": "ok",
     "timestamp": 1651533534323,
     "user": {
      "displayName": "Rogério Delfim",
      "userId": "04235763959036945343"
     },
     "user_tz": 180
    },
    "id": "e383a9d7",
    "outputId": "220d3664-345f-4a16-a340-bd70af253b71",
    "papermill": {
     "duration": 1.295749,
     "end_time": "2022-05-04T04:28:58.638062",
     "exception": false,
     "start_time": "2022-05-04T04:28:57.342313",
     "status": "completed"
    },
    "scrolled": false,
    "tags": []
   },
   "outputs": [],
   "source": [
    "plt.figure(figsize=(15,25))\n",
    "\n",
    "cols  = feature_imp.filter(regex=r'fold').columns.to_list()\n",
    "folds = len(cols)\n",
    "row   = int(folds/2+1)\n",
    "\n",
    "for fold, col in enumerate(cols):            \n",
    "    col_acc = 'rmse_' + str(fold+1)\n",
    "    df_fi = feature_imp.sort_values(by=col, ascending=False).reset_index().iloc[:15]\n",
    "    df_fi = df_fi[['index', col, col_acc]]\n",
    "    df_fi.columns = ['Feature', 'score', col_acc]\n",
    "    plt.subplot(row, 2, fold+1)\n",
    "    sns.barplot(x='score', y='Feature', data=df_fi)    \n",
    "    plt.title('Fold {} - score: {:2.2f}'.format(fold+1, df_fi[col_acc].mean()), \n",
    "              fontdict={'fontsize':18})    \n",
    "\n",
    "plt.suptitle('Feature Importance XGB - {} folds'.format(folds) , y=1.01, fontsize=24);\n",
    "plt.tight_layout(h_pad=3.0); "
   ]
  },
  {
   "cell_type": "markdown",
   "id": "e5a0f9c2",
   "metadata": {
    "id": "e5a0f9c2",
    "papermill": {
     "duration": 0.2294,
     "end_time": "2022-05-04T04:29:37.213554",
     "exception": false,
     "start_time": "2022-05-04T04:29:36.984154",
     "status": "completed"
    },
    "tags": []
   },
   "source": [
    "### 3.1.1. Erro e  número de Estimadores"
   ]
  },
  {
   "cell_type": "code",
   "execution_count": null,
   "id": "8a8ae683",
   "metadata": {
    "ExecuteTime": {
     "end_time": "2022-06-29T00:29:07.208987Z",
     "start_time": "2022-06-29T00:29:05.405118Z"
    },
    "execution": {
     "iopub.execute_input": "2022-05-04T04:29:37.679337Z",
     "iopub.status.busy": "2022-05-04T04:29:37.679043Z",
     "iopub.status.idle": "2022-05-04T04:29:41.108165Z",
     "shell.execute_reply": "2022-05-04T04:29:41.107384Z"
    },
    "executionInfo": {
     "elapsed": 257,
     "status": "error",
     "timestamp": 1651533869561,
     "user": {
      "displayName": "Rogério Delfim",
      "userId": "04235763959036945343"
     },
     "user_tz": 180
    },
    "id": "8a8ae683",
    "outputId": "aa0496ed-7d24-45f9-9188-07a9c08a8793",
    "papermill": {
     "duration": 3.668122,
     "end_time": "2022-05-04T04:29:41.109913",
     "exception": false,
     "start_time": "2022-05-04T04:29:37.441791",
     "status": "completed"
    },
    "tags": []
   },
   "outputs": [],
   "source": [
    "cols  = feature_imp.filter(regex=r'fold').columns.to_list()\n",
    "folds = len(cols)\n",
    "row   = int(folds/2+1)\n",
    "\n",
    "for erro in eval_metric:\n",
    "    plt.figure(figsize=(15,20))\n",
    "\n",
    "    for i in range(len(model)):\n",
    "        results     = model[i]['model'].evals_result() # merror\n",
    "        ntree_limit = model[i]['model'].best_ntree_limit\n",
    "\n",
    "        plt.subplot(row,2,i+1)\n",
    "        plt.plot(results[\"validation_0\"][erro], label=\"Treinamento\")\n",
    "        plt.plot(results[\"validation_1\"][erro], label=\"Validação\")\n",
    "\n",
    "        plt.axvline(ntree_limit, \n",
    "                    color=\"gray\", \n",
    "                    label=\"N. de árvore ideal {}\".format(ntree_limit))\n",
    "\n",
    "       # plt.xlabel('Número de árvores')\n",
    "        plt.ylabel(erro)\n",
    "        plt.legend();\n",
    "\n",
    "    plt.suptitle('Performance XGB - {}'.format(erro), y=1.01, fontsize=24);\n",
    "    plt.tight_layout(h_pad=3.0);"
   ]
  },
  {
   "cell_type": "markdown",
   "id": "6745fb73",
   "metadata": {
    "id": "6745fb73",
    "papermill": {
     "duration": 0.146734,
     "end_time": "2022-05-04T04:29:41.405333",
     "exception": false,
     "start_time": "2022-05-04T04:29:41.258599",
     "status": "completed"
    },
    "tags": []
   },
   "source": [
    "<div class=\"alert alert-block alert-info\">\n",
    "<p style=\"color: black; font-family: Arial Black\">NOTA:</p>\n",
    "   \n",
    "Acima recuperamos as informações de treinamento do nosso modelo, podemos observar que o número de 2000 estimadores é mais que suficiente para o treinamento do modelo, já na predição utilizamos 1621 estimadores que torna as predições mais rápida, outro ponto que destaco é a curva de apredizado do modelo, podemos observa uma lacuna entre o treino e teste. \n",
    "    \n",
    "</div>"
   ]
  },
  {
   "cell_type": "markdown",
   "id": "5a77933a",
   "metadata": {
    "ExecuteTime": {
     "end_time": "2022-05-02T03:53:38.310126Z",
     "start_time": "2022-05-02T03:53:38.298141Z"
    },
    "id": "5a77933a",
    "papermill": {
     "duration": 0.147236,
     "end_time": "2022-05-04T04:29:41.699272",
     "exception": false,
     "start_time": "2022-05-04T04:29:41.552036",
     "status": "completed"
    },
    "tags": []
   },
   "source": [
    "### 3.1.2. Previsão "
   ]
  },
  {
   "cell_type": "code",
   "execution_count": null,
   "id": "ea40eefc",
   "metadata": {
    "ExecuteTime": {
     "end_time": "2022-06-29T00:39:07.738823Z",
     "start_time": "2022-06-29T00:39:07.591827Z"
    },
    "execution": {
     "iopub.execute_input": "2022-05-04T04:29:41.996484Z",
     "iopub.status.busy": "2022-05-04T04:29:41.996203Z",
     "iopub.status.idle": "2022-05-04T04:29:43.214923Z",
     "shell.execute_reply": "2022-05-04T04:29:43.213272Z"
    },
    "id": "ea40eefc",
    "outputId": "b082456e-b033-4d88-f4a3-a9c7cd828910",
    "papermill": {
     "duration": 1.370872,
     "end_time": "2022-05-04T04:29:43.216762",
     "exception": false,
     "start_time": "2022-05-04T04:29:41.845890",
     "status": "completed"
    },
    "scrolled": true,
    "tags": []
   },
   "outputs": [],
   "source": [
    "num_model  = 1\n",
    "scaler_tr  = model[num_model]['scaler']\n",
    "model_tr   = model[num_model]['model']\n",
    "\n",
    "y_pred_val = model_tr.predict(X_valid, ntree_limit=model_tr.best_ntree_limit)\n",
    "\n",
    "rmse, mae, mse, mape, r_squared = Ultil.evaluation(y_valid, y_pred_val)\n",
    "\n",
    "print('RMSE: {:2.2f} - MAE: {:2.2f} - MAPE: {:2.2f}'.format(rmse, mae, mape))"
   ]
  },
  {
   "cell_type": "code",
   "execution_count": null,
   "id": "47573aec",
   "metadata": {
    "ExecuteTime": {
     "end_time": "2022-06-29T00:34:04.265710Z",
     "start_time": "2022-06-29T00:33:58.358695Z"
    }
   },
   "outputs": [],
   "source": [
    "explainer = shap.TreeExplainer(model_tr)\n",
    "shap_values = explainer.shap_values(X_valid)\n",
    "\n",
    "shap.summary_plot(shap_values, X_valid, plot_type=\"bar\")"
   ]
  },
  {
   "cell_type": "markdown",
   "id": "c6719988",
   "metadata": {
    "id": "c6719988"
   },
   "source": [
    "<div style=\"color:white;border-radius:8px;background-color:#a7d5ed\">    \n",
    "    <h1 style=\"padding:12px;color:black;\"> 5. Conclusão </h1>    \n",
    "</div>"
   ]
  },
  {
   "cell_type": "markdown",
   "id": "6b829ffd",
   "metadata": {
    "id": "6b829ffd"
   },
   "source": [
    "<div class=\"alert alert-block alert-info\">\n",
    "<p style=\"color: black; font-family: Arial Black\">NOTA:</p>\n",
    "    \n",
    "Neste notebook criamos novas variáveis utilizando variáveis estatísticas, tratamento de outlirs, transformações de variaveis e uma PCA, em todo o processo de geração das novas variáveis obtive resulto melhores, utilizando o classificador XGB, o qual demostrou uma ótima clalibração principalmente para classificações negativas. Um ponto importante a destacar é que o classificado não foi ajustado, aonde podemos trabalhar para obtermos melhores resultados.  <br>\n",
    "    \n",
    "No treimanto dos modelos, o melhor resultado foi obtido com na validação cruzadas com 10 k folds. <br>\n",
    "    \n",
    "Os próximos passos são: <br> \n",
    "- Testar novos classificadores; \n",
    "- Tunning;\n",
    "- Feature selection. <br><p>\n",
    "    \n",
    "**FERENCIAS**: \n",
    "- https://www.kaggle.com/code/cabaxiom/tps-may-22-visualising-feature-interaction\n",
    "- https://www.kaggle.com/code/cabaxiom/tps-may-22-eda-lgbm-model\n",
    "- https://www.kaggle.com/code/ambrosm/tpsmay22-advanced-keras/notebook   \n",
    "- https://www.bixtecnologia.com.br/como-eu-gostaria-que-alguem-me-explicasse-shap-values/\n",
    "    \n",
    "</div>"
   ]
  }
 ],
 "metadata": {
  "colab": {
   "collapsed_sections": [
    "d1d3e78d",
    "6a201220",
    "d9ef4960",
    "2ae58db0",
    "e5a0f9c2",
    "5a77933a"
   ],
   "name": "01 - EDA.ipynb",
   "provenance": [],
   "toc_visible": true
  },
  "hide_input": false,
  "kernelspec": {
   "display_name": "Python 3 (ipykernel)",
   "language": "python",
   "name": "python3"
  },
  "language_info": {
   "codemirror_mode": {
    "name": "ipython",
    "version": 3
   },
   "file_extension": ".py",
   "mimetype": "text/x-python",
   "name": "python",
   "nbconvert_exporter": "python",
   "pygments_lexer": "ipython3",
   "version": "3.9.7"
  },
  "nbTranslate": {
   "displayLangs": [
    "en",
    "pt-br"
   ],
   "hotkey": "",
   "langInMainMenu": true,
   "sourceLang": "en",
   "targetLang": "pt-br",
   "useGoogleTranslate": true
  },
  "papermill": {
   "default_parameters": {},
   "duration": 471.902672,
   "end_time": "2022-05-04T04:29:46.855613",
   "environment_variables": {},
   "exception": null,
   "input_path": "__notebook__.ipynb",
   "output_path": "__notebook__.ipynb",
   "parameters": {},
   "start_time": "2022-05-04T04:21:54.952941",
   "version": "2.3.4"
  },
  "toc": {
   "base_numbering": 1,
   "nav_menu": {
    "height": "500px",
    "width": "259px"
   },
   "number_sections": false,
   "sideBar": true,
   "skip_h1_title": false,
   "title_cell": "Table of Contents",
   "title_sidebar": "Contents",
   "toc_cell": false,
   "toc_position": {
    "height": "calc(100% - 180px)",
    "left": "10px",
    "top": "150px",
    "width": "304.475px"
   },
   "toc_section_display": true,
   "toc_window_display": true
  }
 },
 "nbformat": 4,
 "nbformat_minor": 5
}
