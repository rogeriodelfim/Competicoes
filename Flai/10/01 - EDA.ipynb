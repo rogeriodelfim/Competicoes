{
 "cells": [
  {
   "cell_type": "markdown",
   "id": "e261caf5",
   "metadata": {
    "id": "e261caf5",
    "papermill": {
     "duration": 0.108455,
     "end_time": "2022-05-04T04:22:03.356410",
     "exception": false,
     "start_time": "2022-05-04T04:22:03.247955",
     "status": "completed"
    },
    "tags": []
   },
   "source": [
    "<div style=\"color:white;display:fill;border-radius:8px;\n",
    "            background-color:#a7d5ed;font-size:170%;\n",
    "            font-family:Nexa;letter-spacing:4.5px;\">    \n",
    "    <h1 style=\"padding:15px;color:black;text-align: center\"> Ponto de partida (EDA) </h1> \n",
    "</div>\n",
    "\n",
    "![](img/header.png?t=2021-04-09-00-57-05)"
   ]
  },
  {
   "cell_type": "markdown",
   "id": "03ebd368",
   "metadata": {
    "id": "03ebd368",
    "papermill": {
     "duration": 0.10217,
     "end_time": "2022-05-04T04:22:03.766987",
     "exception": false,
     "start_time": "2022-05-04T04:22:03.664817",
     "status": "completed"
    },
    "tags": []
   },
   "source": [
    "<div style=\"color:white;border-radius:8px;background-color:#a7d5ed\">    \n",
    "    <h1 style=\"padding:12px;color:black;\"> OBJETIVO </h1>    \n",
    "</div>"
   ]
  },
  {
   "cell_type": "markdown",
   "id": "175b28f5",
   "metadata": {
    "id": "175b28f5",
    "papermill": {
     "duration": 0.103047,
     "end_time": "2022-05-04T04:22:03.977664",
     "exception": false,
     "start_time": "2022-05-04T04:22:03.874617",
     "status": "completed"
    },
    "tags": []
   },
   "source": [
    "Neste notebook vamos fazer uma análise (EDA) para conhencer os dados e estabelecer uma linha de base, mostrarei as etapas iniciais de uma competição da Flai - da compreensão do conjunto de dados até a preparação para serem usados em um modelo machine learning, vamos passar pelas seguintes etapas:\n",
    "\n",
    "- Leitura no conjunto de dados;\n",
    "- Calculando estatísticas sobre o conjunto de dados;\n",
    "- Visualização univariada;\n",
    "- Visualizando multivariada;\n",
    "- Pré-processamento;\n",
    "- Modelagem.\n",
    "\n",
    "<font color=green> <b>Definição do Problema</b> </font>\n",
    "\n",
    "Objetivo da Competição é prever o resultado de vendadas de televendas, isto é, se uma vendas será realizada ou não, a métrica de avaliação é <b> F1-score</b>.\n",
    "\n",
    "# <center> $ \\textbf{F1}\\;=\\;\\textbf{2}*\\frac{\\textbf{precision*recall}}{\\textbf{precision+recall}}$</center>"
   ]
  },
  {
   "cell_type": "markdown",
   "id": "5ccf5dbb",
   "metadata": {
    "id": "5ccf5dbb",
    "papermill": {
     "duration": 0.102474,
     "end_time": "2022-05-04T04:22:04.183305",
     "exception": false,
     "start_time": "2022-05-04T04:22:04.080831",
     "status": "completed"
    },
    "tags": []
   },
   "source": [
    "<p style=\"border-bottom: 2px solid #256B5D\"/>"
   ]
  },
  {
   "cell_type": "markdown",
   "id": "6db25f59",
   "metadata": {
    "id": "6db25f59",
    "papermill": {
     "duration": 0.102396,
     "end_time": "2022-05-04T04:22:04.389491",
     "exception": false,
     "start_time": "2022-05-04T04:22:04.287095",
     "status": "completed"
    },
    "tags": []
   },
   "source": [
    "<div style=\"color:white;border-radius:8px;background-color:#a7d5ed\">    \n",
    "    <h1 style=\"padding:12px;color:black;\"> 1. IMPORTAÇÕES </h1>    \n",
    "</div>"
   ]
  },
  {
   "cell_type": "markdown",
   "id": "bada9604",
   "metadata": {
    "id": "bada9604",
    "papermill": {
     "duration": 0.10291,
     "end_time": "2022-05-04T04:22:04.594960",
     "exception": false,
     "start_time": "2022-05-04T04:22:04.492050",
     "status": "completed"
    },
    "tags": []
   },
   "source": [
    "## 1.1. Instalações"
   ]
  },
  {
   "cell_type": "code",
   "execution_count": 1,
   "id": "4453dfb5",
   "metadata": {
    "ExecuteTime": {
     "end_time": "2022-12-14T19:34:43.626106Z",
     "start_time": "2022-12-14T19:34:43.600106Z"
    },
    "code_folding": [],
    "colab": {
     "base_uri": "https://localhost:8080/"
    },
    "execution": {
     "iopub.execute_input": "2022-05-04T04:22:04.813467Z",
     "iopub.status.busy": "2022-05-04T04:22:04.813011Z",
     "iopub.status.idle": "2022-05-04T04:22:04.841347Z",
     "shell.execute_reply": "2022-05-04T04:22:04.840348Z"
    },
    "executionInfo": {
     "elapsed": 121086,
     "status": "ok",
     "timestamp": 1654785031838,
     "user": {
      "displayName": "Rogério Delfim",
      "userId": "04235763959036945343"
     },
     "user_tz": 180
    },
    "id": "4453dfb5",
    "outputId": "d3ae62ce-109a-45b9-c9dc-40e55914c19e",
    "papermill": {
     "duration": 0.147758,
     "end_time": "2022-05-04T04:22:04.844921",
     "exception": false,
     "start_time": "2022-05-04T04:22:04.697163",
     "status": "completed"
    },
    "tags": []
   },
   "outputs": [],
   "source": [
    "COLAB = 'google.colab' in str(get_ipython()) \n",
    "\n",
    "if COLAB:        \n",
    "    !pip install --q scikit-plot\n",
    "    !pip install --q category_encoders\n",
    "    !pip install --q shap\n",
    "    !pip install --q inflection    \n",
    "    !pip install --q catboost\n",
    "    !pip install --q colorama\n",
    "    !pip install --q tensorflow\n",
    "    !pip install --q wandb\n",
    "    !pip install --q eli5\n",
    "    #!pip install --q optbinning\n",
    "    #!pip install --q catboost\n",
    "    #!pip install --q pandas-profiling\n",
    "    #!pip install --q pycaret\n",
    "        \n",
    "    from google.colab import drive\n",
    "    drive.mount('/content/drive')"
   ]
  },
  {
   "cell_type": "markdown",
   "id": "9beb4215",
   "metadata": {
    "id": "9beb4215",
    "papermill": {
     "duration": 0.172636,
     "end_time": "2022-05-04T04:22:05.203774",
     "exception": false,
     "start_time": "2022-05-04T04:22:05.031138",
     "status": "completed"
    },
    "tags": []
   },
   "source": [
    "## 1.2. Bibliotecas "
   ]
  },
  {
   "cell_type": "code",
   "execution_count": 2,
   "id": "5776912b",
   "metadata": {
    "ExecuteTime": {
     "end_time": "2022-12-14T19:35:47.902682Z",
     "start_time": "2022-12-14T19:34:44.782920Z"
    },
    "execution": {
     "iopub.execute_input": "2022-05-04T04:22:05.476149Z",
     "iopub.status.busy": "2022-05-04T04:22:05.475903Z",
     "iopub.status.idle": "2022-05-04T04:22:08.987621Z",
     "shell.execute_reply": "2022-05-04T04:22:08.986898Z"
    },
    "id": "5776912b",
    "papermill": {
     "duration": 3.621538,
     "end_time": "2022-05-04T04:22:08.989725",
     "exception": false,
     "start_time": "2022-05-04T04:22:05.368187",
     "status": "completed"
    },
    "tags": []
   },
   "outputs": [],
   "source": [
    "import warnings\n",
    "import random\n",
    "import os\n",
    "import gc\n",
    "import torch\n",
    "import sklearn.exceptions\n",
    "import shap\n",
    "import multiprocessing\n",
    "import glob\n",
    "import scipy.optimize \n",
    "import scipy.special"
   ]
  },
  {
   "cell_type": "code",
   "execution_count": null,
   "id": "0fa201af",
   "metadata": {
    "ExecuteTime": {
     "start_time": "2022-12-14T19:34:45.612Z"
    },
    "execution": {
     "iopub.execute_input": "2022-05-04T04:22:09.201514Z",
     "iopub.status.busy": "2022-05-04T04:22:09.201277Z",
     "iopub.status.idle": "2022-05-04T04:22:09.324246Z",
     "shell.execute_reply": "2022-05-04T04:22:09.323567Z"
    },
    "id": "0fa201af",
    "papermill": {
     "duration": 0.231612,
     "end_time": "2022-05-04T04:22:09.326572",
     "exception": false,
     "start_time": "2022-05-04T04:22:09.094960",
     "status": "completed"
    },
    "tags": []
   },
   "outputs": [],
   "source": [
    "import pandas            as pd\n",
    "import numpy             as np\n",
    "import matplotlib.pyplot as plt \n",
    "import seaborn           as sns\n",
    "import joblib            as jb\n",
    "import xgboost           as xgb\n",
    "import scipy.stats       as stats\n",
    "import statsmodels.api   as sm"
   ]
  },
  {
   "cell_type": "code",
   "execution_count": null,
   "id": "4f80961a",
   "metadata": {
    "ExecuteTime": {
     "start_time": "2022-12-14T19:34:46.155Z"
    },
    "execution": {
     "iopub.execute_input": "2022-05-04T04:22:09.534782Z",
     "iopub.status.busy": "2022-05-04T04:22:09.534568Z",
     "iopub.status.idle": "2022-05-04T04:22:09.538962Z",
     "shell.execute_reply": "2022-05-04T04:22:09.538308Z"
    },
    "id": "4f80961a",
    "papermill": {
     "duration": 0.110081,
     "end_time": "2022-05-04T04:22:09.540566",
     "exception": false,
     "start_time": "2022-05-04T04:22:09.430485",
     "status": "completed"
    },
    "tags": []
   },
   "outputs": [],
   "source": [
    "from matplotlib.axes._axes   import _log as matplotlib_axes_logger\n",
    "from sklearn.model_selection import train_test_split, KFold, StratifiedKFold\n",
    "from sklearn.preprocessing   import StandardScaler, MinMaxScaler, RobustScaler \n",
    "from sklearn.preprocessing   import MaxAbsScaler, QuantileTransformer \n",
    "from sklearn.preprocessing   import PowerTransformer, Normalizer\n",
    "from sklearn.preprocessing   import LabelBinarizer, OneHotEncoder, OrdinalEncoder\n",
    "from sklearn                 import metrics"
   ]
  },
  {
   "cell_type": "code",
   "execution_count": null,
   "id": "aea43fa6",
   "metadata": {
    "ExecuteTime": {
     "start_time": "2022-12-14T19:34:46.619Z"
    },
    "execution": {
     "iopub.execute_input": "2022-05-04T04:22:09.747990Z",
     "iopub.status.busy": "2022-05-04T04:22:09.747477Z",
     "iopub.status.idle": "2022-05-04T04:22:09.750753Z",
     "shell.execute_reply": "2022-05-04T04:22:09.750126Z"
    },
    "id": "aea43fa6",
    "papermill": {
     "duration": 0.10819,
     "end_time": "2022-05-04T04:22:09.752410",
     "exception": false,
     "start_time": "2022-05-04T04:22:09.644220",
     "status": "completed"
    },
    "tags": []
   },
   "outputs": [],
   "source": [
    "from datetime                import datetime\n",
    "from scipy.stats             import skew, norm"
   ]
  },
  {
   "cell_type": "markdown",
   "id": "722643f8",
   "metadata": {
    "id": "722643f8",
    "papermill": {
     "duration": 0.104138,
     "end_time": "2022-05-04T04:22:09.962615",
     "exception": false,
     "start_time": "2022-05-04T04:22:09.858477",
     "status": "completed"
    },
    "tags": []
   },
   "source": [
    "***"
   ]
  },
  {
   "cell_type": "markdown",
   "id": "ecd814f6",
   "metadata": {
    "id": "ecd814f6",
    "papermill": {
     "duration": 0.102595,
     "end_time": "2022-05-04T04:22:10.168779",
     "exception": false,
     "start_time": "2022-05-04T04:22:10.066184",
     "status": "completed"
    },
    "tags": []
   },
   "source": [
    "## 1.3. Funções\n",
    "Aqui centralizamos todas as funções desenvolvidas durante o projeto para melhor organização do código."
   ]
  },
  {
   "cell_type": "code",
   "execution_count": null,
   "id": "06c4fcba",
   "metadata": {
    "ExecuteTime": {
     "start_time": "2022-12-14T19:34:48.101Z"
    },
    "code_folding": [
     0,
     5,
     54,
     74,
     119,
     142,
     178,
     190,
     241,
     263,
     274,
     279,
     292,
     316,
     324,
     332,
     343,
     358,
     407,
     420,
     436,
     455,
     465,
     482,
     495,
     522,
     537,
     576,
     634,
     656,
     659,
     665,
     669,
     688,
     699,
     723,
     731,
     739
    ]
   },
   "outputs": [],
   "source": [
    "class Utility():\n",
    "        \n",
    "    def __init__(self):\n",
    "        self.name_ =''\n",
    "       \n",
    "    def jupyter_setting():\n",
    "    \n",
    "        %matplotlib inline\n",
    "\n",
    "        #os.environ[\"WANDB_SILENT\"] = \"true\" \n",
    "        #plt.style.use('bmh') \n",
    "        #plt.rcParams['figure.figsize'] = [20,15]\n",
    "        #plt.rcParams['font.size']      = 13\n",
    "\n",
    "        matplotlib_axes_logger.setLevel('ERROR')\n",
    "\n",
    "        pd.options.display.max_columns = None\n",
    "        #pd.set_option('display.expand_frame_repr', False)\n",
    "\n",
    "        warnings.filterwarnings(action='ignore')\n",
    "        warnings.simplefilter('ignore')\n",
    "        warnings.filterwarnings('ignore')\n",
    "        warnings.filterwarnings('ignore', category=DeprecationWarning)\n",
    "        warnings.filterwarnings('ignore', category=FutureWarning)\n",
    "        warnings.filterwarnings('ignore', category=RuntimeWarning)\n",
    "        warnings.filterwarnings('ignore', category=UserWarning)\n",
    "        warnings.filterwarnings(\"ignore\", category=sklearn.exceptions.UndefinedMetricWarning)\n",
    "        warnings.filterwarnings(\"ignore\", category= sklearn.exceptions.UndefinedMetricWarning)\n",
    "        warnings.simplefilter(action=\"ignore\", category=pd.errors.PerformanceWarning)\n",
    "\n",
    "        pd.options.mode.chained_assignment = None \n",
    "        pd.set_option('display.max_rows', 200)\n",
    "        pd.set_option('display.max_columns', 500)\n",
    "        pd.set_option('display.max_colwidth', 200)\n",
    "\n",
    "        icecream = [\"#00008b\", \"#960018\",\"#008b00\", \"#00468b\", \"#8b4500\", \"#582c00\"]\n",
    "        #sns.palplot(sns.color_palette(icecream))\n",
    "\n",
    "        colors = [\"lightcoral\", \"sandybrown\", \"darkorange\", \"mediumseagreen\",\n",
    "              \"lightseagreen\", \"cornflowerblue\", \"mediumpurple\", \"palevioletred\",\n",
    "              \"lightskyblue\", \"sandybrown\", \"yellowgreen\", \"indianred\",\n",
    "              \"lightsteelblue\", \"mediumorchid\", \"deepskyblue\"]\n",
    "\n",
    "        # Colors\n",
    "        dark_red   = \"#b20710\"\n",
    "        black      = \"#221f1f\"\n",
    "        green      = \"#009473\"\n",
    "        myred      = '#CD5C5C'\n",
    "        myblue     = '#6495ED'\n",
    "        mygreen    = '#90EE90'    \n",
    "        color_cols = [myred, myblue,mygreen]\n",
    "\n",
    "        return icecream, colors, color_cols\n",
    "\n",
    "    def missing_zero_values_table(self, df):\n",
    "        \n",
    "        mis_val         = df.isnull().sum()\n",
    "        mis_val_percent = round(df.isnull().mean().mul(100), 2)\n",
    "        mz_table        = pd.concat([mis_val, mis_val_percent], axis=1)\n",
    "        mz_table        = mz_table.rename(columns = {df.index.name:'col_name', \n",
    "                                                     0 : 'Valores ausentes', \n",
    "                                                     1 : '% de valores totais'})\n",
    "        \n",
    "        mz_table['Tipo de dados'] = df.dtypes\n",
    "        mz_table                  = mz_table[mz_table.iloc[:,1] != 0 ]. \\\n",
    "                                     sort_values('% de valores totais', ascending=False)\n",
    "        \n",
    "        msg = \"Seu dataframe selecionado tem {} colunas e {} \" + \\\n",
    "              \"linhas. \\nExistem {} colunas com valores ausentes.\"\n",
    "            \n",
    "        print (msg.format(df.shape[1], df.shape[0], mz_table.shape[0]))\n",
    "        \n",
    "        return mz_table.reset_index()\n",
    "    \n",
    "    def reduce_memory_usage(self, df, verbose=True):\n",
    "    \n",
    "        numerics = [\"int8\", \"int16\", \"int32\", \"int64\", \"float16\", \"float32\", \"float64\"]\n",
    "        start_mem = df.memory_usage().sum() / 1024 ** 2\n",
    "\n",
    "        for col in df.columns:\n",
    "\n",
    "            col_type = df[col].dtypes\n",
    "\n",
    "            if col_type in numerics:\n",
    "                c_min = df[col].min()\n",
    "                c_max = df[col].max()\n",
    "\n",
    "                if str(col_type)[:3] == \"int\":\n",
    "                    if c_min > np.iinfo(np.int8).min and c_max < np.iinfo(np.int8).max:\n",
    "                        df[col] = df[col].astype(np.int8)\n",
    "                    elif c_min > np.iinfo(np.int16).min and c_max < np.iinfo(np.int16).max:\n",
    "                        df[col] = df[col].astype(np.int16)\n",
    "                    elif c_min > np.iinfo(np.int32).min and c_max < np.iinfo(np.int32).max:\n",
    "                        df[col] = df[col].astype(np.int32)\n",
    "                    elif c_min > np.iinfo(np.int64).min and c_max < np.iinfo(np.int64).max:\n",
    "                        df[col] = df[col].astype(np.int64)\n",
    "                else:\n",
    "                    if (\n",
    "                        c_min > np.finfo(np.float16).min\n",
    "                        and c_max < np.finfo(np.float16).max\n",
    "                    ):\n",
    "                        df[col] = df[col].astype(np.float16)\n",
    "                    elif (\n",
    "                        c_min > np.finfo(np.float32).min\n",
    "                        and c_max < np.finfo(np.float32).max\n",
    "                    ):\n",
    "                        df[col] = df[col].astype(np.float32)\n",
    "                    else:\n",
    "                        df[col] = df[col].astype(np.float64)\n",
    "        end_mem = df.memory_usage().sum() / 1024 ** 2\n",
    "        if verbose:\n",
    "            print(\n",
    "                \"Mem. usage decreased to {:.2f} Mb ({:.1f}% reduction)\".format(\n",
    "                    end_mem, 100 * (start_mem - end_mem) / start_mem\n",
    "                )\n",
    "            )\n",
    "\n",
    "        return df\n",
    "    \n",
    "    def graf_label(self, ax, total):\n",
    "\n",
    "         for i in ax.patches:\n",
    "            # get_width pulls left or right; get_y pushes up or down\n",
    "            width, height = i.get_width() -.2 , i.get_height()\n",
    "\n",
    "            x, y  = i.get_xy()  \n",
    "            color = 'white'\n",
    "            alt   = .5\n",
    "            soma  = 0 \n",
    "\n",
    "            if height < 70:\n",
    "                color = 'black'\n",
    "                alt   = 1\n",
    "                soma  = 10\n",
    "\n",
    "            ax.annotate(str(round((i.get_height() * 100.0 / total), 1) )+'%', \n",
    "                        (i.get_x()+.55*width, \n",
    "                         i.get_y()+soma + alt*height),\n",
    "                         color   = color,\n",
    "                         weight = 'bold',\n",
    "                         size   = 14)\n",
    "            \n",
    "    def graf_bar(self, df, col, title, xlabel, ylabel, tol = 0):\n",
    "    \n",
    "        #ax    = df.groupby(['churn_cat'])['churn_cat'].count()\n",
    "        ax     = df    \n",
    "        colors = col\n",
    "\n",
    "        if tol == 0: \n",
    "            total  = sum(ax)\n",
    "            ax = (ax).plot(kind    ='bar',\n",
    "                           stacked = True,\n",
    "                           width   = .5,\n",
    "                           rot     = 0,\n",
    "                           color   = colors, \n",
    "                           grid    = False)\n",
    "        else:\n",
    "            total  = tol     \n",
    "            ax = (ax).plot(kind    ='bar',\n",
    "                           stacked = True,\n",
    "                           width   = .5,\n",
    "                           rot     = 0,\n",
    "                           figsize = (10,6),\n",
    "                           color   = colors,\n",
    "                           grid    = False)\n",
    "\n",
    "        title   = title #+ ' \\n'\n",
    "        xlabel  = '\\n ' + xlabel \n",
    "        ylabel  = ylabel + ' \\n'\n",
    "\n",
    "        ax.set_title(title  , fontsize=22)\n",
    "        ax.set_xlabel(xlabel, fontsize=12)\n",
    "        ax.set_ylabel(ylabel, fontsize=12)    \n",
    "\n",
    "        min = [0,23000000]\n",
    "        #ax.set_ylim(min)\n",
    "        self.graf_label(ax, total)\n",
    "\n",
    "    def correlation(self, df_, threshold_):\n",
    "        col_corr    = set()  \n",
    "        corr_matrix = df_.corr()\n",
    "        \n",
    "        for i in range(len(corr_matrix.columns)):\n",
    "            for j in range(i):\n",
    "                if abs(corr_matrix.iloc[i, j]) > threshold_: \n",
    "                    colname = corr_matrix.columns[i]  \n",
    "                    col_corr.add(colname)\n",
    "                    \n",
    "        return col_corr\n",
    "\n",
    "    def __graf_fature_corr(df_, annot_=False, threshold_=.8, print_var_=False, \n",
    "                         print_graf_=True, mask_=True, title_='', method_='pearson'):\n",
    "        \n",
    "        msg_title = '\\n Correlação das variável {} -{} \\n'.format(title_, 'method_')\n",
    "        \n",
    "        df = df_.copy().corr(method =method_).round(5)\n",
    "        \n",
    "        if print_graf_: \n",
    "            # Máscara para ocultar a parte superior direita do gráfico, pois é uma duplicata\n",
    "            mask = np.zeros_like(df)\n",
    "            mask[np.triu_indices_from(mask)] = mask_\n",
    "            \n",
    "            # Making a plot\n",
    "            ax = sns.heatmap(df, annot=annot_, \n",
    "                             mask=mask, \n",
    "                             cmap=\"RdBu\", \n",
    "                             annot_kws={\"weight\": \"bold\", \"fontsize\":13}                              \n",
    "                            )\n",
    "\n",
    "            ax.set_title(msg_title, fontsize=17)\n",
    "            \n",
    "            plt.setp(ax.get_xticklabels(), \n",
    "                     rotation      = 90, \n",
    "                     ha            = \"right\",\n",
    "                     rotation_mode = \"anchor\", \n",
    "                     weight        = \"normal\", style = 'whitegrid', palette= 'pastel')\n",
    "\n",
    "            plt.setp(ax.get_yticklabels(), \n",
    "                     weight        = \"normal\",\n",
    "                     rotation_mode = \"anchor\", \n",
    "                     rotation      = 0, \n",
    "                     ha            = \"right\", style = 'whitegrid', palette= 'pastel')\n",
    "            \n",
    "            \n",
    "            \n",
    "            plt.show();\n",
    "            \n",
    "            \n",
    "            \n",
    "        if print_var_:         \n",
    "            df_corr = df[abs(df)>threshold_][df!=1.0].unstack().dropna().reset_index()\n",
    "            if len(df_corr)>0:            \n",
    "                print('Variáveis autocorrelacionadas threshold={:2.2f}'.format(threshold_))\n",
    "                df_corr.columns =  ['var_1', 'var_2', 'corr']\n",
    "                display(df_corr)\n",
    "            else: \n",
    "                print('Não tem variáveis autocorrelacionadas threshold={:2.2f}'.format(threshold_))\n",
    "        \n",
    "        #sns.set(style=\"darkgrid\")\n",
    "        plt.show();\n",
    "                        \n",
    "    def describe(self, df):\n",
    "        var = df.columns\n",
    "\n",
    "        # Medidas de tendência central, média e mediana \n",
    "        ct1 = pd.DataFrame(df[var].apply(np.mean)).T\n",
    "        ct2 = pd.DataFrame(df[var].apply(np.median)).T\n",
    "\n",
    "        # Dispensão - str, min , max range skew, kurtosis\n",
    "        d1 = pd.DataFrame(df[var].apply(np.std)).T\n",
    "        d2 = pd.DataFrame(df[var].apply(min)).T\n",
    "        d3 = pd.DataFrame(df[var].apply(max)).T\n",
    "        d4 = pd.DataFrame(df[var].apply(lambda x: x.max() - x.min())).T\n",
    "        d5 = pd.DataFrame(df[var].apply(lambda x: x.skew())).T\n",
    "        d6 = pd.DataFrame(df[var].apply(lambda x: x.kurtosis())).T\n",
    "        d7 = pd.DataFrame(df[var].apply(lambda x: (3 *( np.mean(x) - np.median(x)) / np.std(x) ))).T\n",
    "\n",
    "        # concatenete \n",
    "        m = pd.concat([d2, d3, d4, ct1, ct2, d1, d5, d6, d7]).T.reset_index()\n",
    "        m.columns = ['attrobutes', 'min', 'max', 'range', 'mean', 'median', 'std','skew', 'kurtosis','coef_as']\n",
    "\n",
    "        return m\n",
    "\n",
    "    def graf_outlier(self, df, feature):\n",
    "        col = [(0,4), (5,9)]\n",
    "\n",
    "        df_plot = ((df[feature] - df[feature].min())/\n",
    "                   (df[feature].max() - df[feature].min()))\n",
    "\n",
    "        fig, ax = plt.subplots(len(col), 1, figsize=(15,7))\n",
    "\n",
    "        for i, (x) in enumerate(col): \n",
    "            sns.boxplot(data = df_plot.iloc[:, x[0]:x[1] ], ax = ax[i]); \n",
    "\n",
    "    def diff(self, t_a, t_b):\n",
    "        from dateutil.relativedelta import relativedelta\n",
    "        t_diff = relativedelta(t_b, t_a)  # later/end time comes first!\n",
    "        return '{h}h {m}m {s}s'.format(h=t_diff.hours, m=t_diff.minutes, s=t_diff.seconds)\n",
    "    \n",
    "    def free_gpu_cache(self):\n",
    "\n",
    "        # https://www.kaggle.com/getting-started/140636\n",
    "        #print(\"Initial GPU Usage\")\n",
    "        #gpu_usage()                             \n",
    "\n",
    "        #cuda.select_device(0)\n",
    "        #cuda.close()\n",
    "        #cuda.select_device(0)   \n",
    "\n",
    "        gc.collect()\n",
    "        torch.cuda.empty_cache()\n",
    "\n",
    "    def graf_eval(self):\n",
    "\n",
    "        results     = model.evals_result()\n",
    "        ntree_limit = model.best_ntree_limit\n",
    "\n",
    "        plt.figure(figsize=(20,7))\n",
    "\n",
    "        for i, error in  enumerate(['mlogloss', 'merror']):#\n",
    "\n",
    "            plt.subplot(1,2,i+1)\n",
    "            plt.plot(results[\"validation_0\"][error], label=\"Treinamento\")\n",
    "            plt.plot(results[\"validation_1\"][error], label=\"Validação\")\n",
    "\n",
    "            plt.axvline(ntree_limit, \n",
    "                        color=\"gray\", \n",
    "                        label=\"N. de árvore ideal {}\".format(ntree_limit))\n",
    "\n",
    "\n",
    "            title_name ='\\n' + error.upper() + ' PLOT \\n'\n",
    "            plt.title(title_name)\n",
    "            plt.xlabel(\"Número de árvores\")\n",
    "            plt.ylabel(error)\n",
    "            plt.legend();\n",
    "\n",
    "    def linear_fit_slope(self, y):\n",
    "        \"\"\"Return the slope of a linear fit to a series.\"\"\"\n",
    "        y_pure = y.dropna()\n",
    "        length = len(y_pure)\n",
    "        x = np.arange(0, length)\n",
    "        slope, intercept = np.polyfit(x, y_pure.values, deg=1)\n",
    "        return slope\n",
    "\n",
    "    def linear_fit_intercept(self, y):\n",
    "        \"\"\"Return the intercept of a linear fit to a series.\"\"\"\n",
    "        y_pure = y.dropna()\n",
    "        length = len(y_pure)\n",
    "        x = np.arange(0, length)\n",
    "        slope, intercept = np.polyfit(x, y_pure.values, deg=1)\n",
    "        return intercept\n",
    "\n",
    "    def cromer_v(self, x, y):\n",
    "        cm       = pd.crosstab(x, y).to_numpy()        \n",
    "        n        = cm.sum()\n",
    "        r, k     = cm.shape\n",
    "        chi2     = stats.chi2_contingency(cm)[0]\n",
    "        chi2corr = max(0, chi2 - (k-1) * (r-1) /(n-1))\n",
    "        kcorr    = k - (k-1) **2/(n-1)\n",
    "        rcorr    = r - (r-1) **2/(n-1)    \n",
    "        v        = np.sqrt((chi2corr/n) / (min(kcorr-1, rcorr-1)))        \n",
    "        return v  \n",
    "\n",
    "    def generate_category_table(self, data):\n",
    "\n",
    "        cols    = data.select_dtypes(include='object').columns\n",
    "        dataset = pd.DataFrame()\n",
    "\n",
    "        for i in cols:\n",
    "            corr = []\n",
    "            for x in cols: \n",
    "                corr.append(self.cromer_v(data[i],data[x]))\n",
    "\n",
    "            aux     = pd.DataFrame({i:corr})\n",
    "            dataset = pd.concat([dataset, aux], axis=1) \n",
    "\n",
    "        return dataset.set_index(dataset.columns)\n",
    "            \n",
    "    def graf_feature_corr(self, df_, annot_=False, threshold_=.8, print_var_=False, \n",
    "                          print_graf_=True, mask_=True, title_='', method_='pearson'):\n",
    "\n",
    "        df = df_.corr(method=method_).round(5)\n",
    "\n",
    "        if print_graf_: \n",
    "            # Máscara para ocultar a parte superior direita do gráfico, pois é uma duplicata\n",
    "            mask = np.zeros_like(df)\n",
    "            mask[np.triu_indices_from(mask)] = mask_\n",
    "\n",
    "            sns.set(style=\"whitegrid\", palette=\"pastel\") \n",
    "            \n",
    "            # Making a plot\n",
    "            ax = sns.heatmap(df, annot = annot_, \n",
    "                             mask      = mask, \n",
    "                             cmap      = \"RdBu\", \n",
    "                             fmt       = \".2f\",\n",
    "                             annot_kws = {\"weight\": \"bold\", \"fontsize\":10}\n",
    "                            )\n",
    "            \n",
    "            ax.set_title(\"\\n Correlação das variável {} - {} \\n\".format(title_, method_.upper()), fontsize=17)\n",
    "\n",
    "            plt.setp(ax.get_xticklabels(), \n",
    "                     rotation      = 90, \n",
    "                     ha            = \"right\",\n",
    "                     rotation_mode = \"anchor\", \n",
    "                     weight        = \"normal\")\n",
    "\n",
    "            plt.setp(ax.get_yticklabels(), \n",
    "                     weight        = \"normal\",\n",
    "                     rotation_mode = \"anchor\", \n",
    "                     rotation      = 0, \n",
    "                     ha            = \"right\")\n",
    "            \n",
    "            sns.set(style=\"darkgrid\")\n",
    "\n",
    "            plt.show();\n",
    "\n",
    "        if print_var_:         \n",
    "            df_corr = df[abs(df)>threshold_][df!=1.0].unstack().dropna().reset_index()\n",
    "            if len(df_corr)>0:            \n",
    "                print('Variáveis autocorrelacionadas threshold={:2.2f}'.format(threshold_))\n",
    "                df_corr.columns =  ['var_1', 'var_2', 'corr']\n",
    "                display(df_corr)\n",
    "            else: \n",
    "                print('Não tem variáveis autocorrelacionadas threshold={:2.2f}'.format(threshold_))\n",
    "                \n",
    "        return self.correlation(df_, threshold_)\n",
    "\n",
    "    def plot_roc_curve(self, fpr, tpr, label=None):\n",
    "        fig, ax = plt.subplots()\n",
    "        ax.plot(fpr, tpr, \"r-\", label=label)\n",
    "        ax.plot([0, 1], [0, 1], transform=ax.transAxes, ls=\"--\", c=\".3\")\n",
    "        plt.xlim([0.0, 1.0])\n",
    "        plt.ylim([0.0, 1.0])\n",
    "        plt.rcParams['font.size'] = 12\n",
    "        plt.title('ROC curve for FLAI 08')\n",
    "        plt.xlabel('False Positive Rate (1 - Specificity)')\n",
    "        plt.ylabel('True Positive Rate (Sensitivity)')\n",
    "        plt.legend(loc=\"lower right\")\n",
    "        plt.grid(True)\n",
    "\n",
    "    def feature_engineering(self, df_):\n",
    "\n",
    "        var_f27 = ''\n",
    "        for col in df_['f_27']: \n",
    "            var_f27 +=col\n",
    "\n",
    "        var_f27 = list(set(var_f27))\n",
    "        var_f27.sort()\n",
    "\n",
    "        df_[\"fe_f_27_unique\"] = df_[\"f_27\"].apply(lambda x: len(set(x)))\n",
    "\n",
    "        for letra in var_f27:             \n",
    "            df_['fe_' + letra.lower() + '_count'] = df2_train[\"f_27\"].str.count(letra)\n",
    "\n",
    "        return df_ \n",
    "\n",
    "    def identifies_outliers(self, df):\n",
    "\n",
    "        cols_num = df.select_dtypes(np.number).columns\n",
    "\n",
    "        for col in cols_num: \n",
    "            if col != 'unnamed':            \n",
    "                Q1  = df[col].quantile(0.25)\n",
    "                Q3  = df[col].quantile(0.75)\n",
    "                IQR = Q3-Q1\n",
    "                lowqe_bound=Q1 - 1.5 * IQR\n",
    "                upper_bound=Q3 + 1.5 * IQR\n",
    "\n",
    "                df['outliers_'+ col] = 0\n",
    "                df['outliers_'+ col][(df[col]<=lowqe_bound)|(df[col]>=upper_bound)] = 1    \n",
    "\n",
    "                df[col] = np.where(df[col] > df[col].quantile(0.95),\n",
    "                                                df[col].median(),\n",
    "                                                df[col])\n",
    "\n",
    "    def evaluation(self, y_, predictions_, smape_base_=100):\n",
    "        from sklearn import metrics\n",
    "        mae   = metrics.mean_absolute_error(y_, predictions_)\n",
    "        mse   = metrics.mean_squared_error(y_, predictions_)\n",
    "        rmse  = metrics.mean_squared_error(y_, predictions_, squared=False) \n",
    "        mape  = metrics.mean_absolute_percentage_error(y_, predictions_)\n",
    "        smape = self.smape(y_, predictions_)\n",
    "        r2    = metrics.r2_score(y_, predictions_)    \n",
    "        return rmse, mae, mse, mape, r2, smape\n",
    "    \n",
    "    def feature_statistic(self, df, feature_float, feature_cat=None):\n",
    "        df['fe_mean']        = df[feature_float].mean(axis=1)   \n",
    "        df['fe_std']         = df[feature_float].std(axis=1)   \n",
    "        df['fe_median']      = df[feature_float].median(axis=1)   \n",
    "        df['fe_var']         = df[feature_float].var(axis=1) \n",
    "        df['fe_min']         = df[feature_float].min(axis=1)   \n",
    "        df['fe_max']         = df[feature_float].max(axis=1)   \n",
    "        df['fe_skew']        = df[feature_float].skew(axis=1)   \n",
    "        df['fe_quantile_25'] = df[feature_float].quantile(q=.25, axis=1)\n",
    "        df['fe_quantile_50'] = df[feature_float].quantile(q=.5, axis=1)\n",
    "        df['fe_quantile_75'] = df[feature_float].quantile(q=.75, axis=1)\n",
    "        \n",
    "        if feature_cat is not None:\n",
    "            df['fe_dammy_count'] = df[feature_cat].sum(axis=1)   \n",
    "        \n",
    "        return df\n",
    "    \n",
    "    def gridSearchCV(self, model_, params_, X_train_, y_train_):\n",
    "        \"\"\"\n",
    "        @param    model: sklearn estimator\n",
    "        @param    params (dict): Dictionary of possible parameters\n",
    "\n",
    "        @return   cv_results (DataFrame)\n",
    "        \"\"\"\n",
    "        model_cv = GridSearchCV(model_, param_grid=params_, scoring='roc_auc', cv=5)\n",
    "        model_cv.fit(X_train_, y_train_)\n",
    "        cv_results = pd.DataFrame(model_cv.cv_results_)[['params', 'mean_test_score']]\n",
    "\n",
    "        return cv_results\n",
    "    \n",
    "    def evaluate(self, model,X_train_, y_train_, X_test_, plotROC=False):\n",
    "\n",
    "        model.fit(X_train_, y_train_)\n",
    "        probs = model.predict_proba(X_train_)\n",
    "        preds = probs[:,1]\n",
    "        fpr, tpr, threshold = roc_curve(y_train_, preds)\n",
    "        roc_auc = auc(fpr, tpr)\n",
    "        print(f'AUC: {roc_auc:.4f}')\n",
    "\n",
    "        rocDf = pd.DataFrame({'fpr': fpr, 'tpr':tpr, 'threshold':threshold})\n",
    "        rocDf['tpr - fpr'] = rocDf.tpr - rocDf.fpr\n",
    "        optimalThreshold = rocDf.threshold[rocDf['tpr - fpr'].idxmax()]\n",
    "\n",
    "        y_pred = np.where(preds >= optimalThreshold, 1, 0)\n",
    "\n",
    "        # Plot ROC AUC\n",
    "        if plotROC:\n",
    "            plt.title('Receiver Operating Characteristic')\n",
    "            plt.plot(fpr, tpr, 'b', label = 'AUC = %0.2f' % roc_auc)\n",
    "            plt.legend(loc = 'lower right')\n",
    "            plt.plot([0, 1], [0, 1],'r--')\n",
    "            plt.xlim([0, 1])\n",
    "            plt.ylim([0, 1])\n",
    "            plt.ylabel('True Positive Rate')\n",
    "            plt.xlabel('False Positive Rate')\n",
    "            plt.show()    \n",
    "\n",
    "    def iqr_outliers(self, df,ft):\n",
    "\n",
    "        q1  = df[ft].quantile(0.25)\n",
    "        q3  = df[ft].quantile(0.75)\n",
    "        iqr = q3-q1\n",
    "        c   = 0 \n",
    "\n",
    "        Lower_tail = q1 - 1.5 * iqr\n",
    "        Upper_tail = q3 + 1.5 * iqr\n",
    "\n",
    "        for i in range(len(df[ft])):\n",
    "            if df[ft][i] > Upper_tail or df[ft][i] < Lower_tail:\n",
    "                c+=1\n",
    "        return c\n",
    "    \n",
    "    def outlier_create_feature_check(self, df_tr_, df_ts_, cols_=[], qt_inferior_=.25, qt_superior_=.75, \n",
    "                                     flg_ts_=True, input_limete_=False, verbose_=True):\n",
    "    \n",
    "        col_oltlier         = 'fe_outlier'\n",
    "        df_tr_[col_oltlier] = 0 \n",
    "        df_ts_[col_oltlier] = 0 \n",
    "\n",
    "        for c in cols_:\n",
    "\n",
    "            percentil25 = df_tr_[c].quantile(qt_inferior_)\n",
    "            percentil75 = df_tr_[c].quantile(qt_superior_)\n",
    "\n",
    "            iqr= percentil75 - percentil25 \n",
    "\n",
    "            limite_inferior = percentil25 - 1.5 * iqr\n",
    "            limite_superior = percentil75 + 1.5 * iqr\n",
    "\n",
    "            df_tr_[col_oltlier][df_tr_[c]>limite_superior] = -1\n",
    "            df_tr_[col_oltlier][df_tr_[c]<limite_inferior] = -1\n",
    "\n",
    "            if input_limete_:\n",
    "                df_tr_[c][df_tr_[c]>limite_superior] = limite_superior\n",
    "                df_tr_[c][df_tr_[c]<limite_inferior] = limite_inferior\n",
    "\n",
    "            if flg_ts_:\n",
    "                df_ts_[col_oltlier][df_ts_[c]>limite_superior] = -1\n",
    "                df_ts_[col_oltlier][df_ts_[c]<limite_inferior] = -1\n",
    "                \n",
    "                if input_limete_:\n",
    "                    df_ts_[c][df_ts_[c]>limite_superior] = limite_superior\n",
    "                    df_ts_[c][df_ts_[c]<limite_inferior] = limite_inferior\n",
    "\n",
    "            if verbose_:\n",
    "                print('Com a variável {}'.format(c))\n",
    "                print(df_tr_[col_oltlier].value_counts())\n",
    "                print()\n",
    "\n",
    "        return df_tr_, df_ts_\n",
    "        \n",
    "    def calibrated_classifier_graf_model(self, mdl_list_, X_, y_, seed_=12359, figsize_=(10, 10), verbose_=False): \n",
    "\n",
    "        fig = plt.figure(1, figsize=figsize_)\n",
    "        ax1 = plt.subplot2grid((3, 1), (0, 0), rowspan=2)\n",
    "        \n",
    "        if verbose_: ax2 = plt.subplot2grid((3, 1), (2, 0))\n",
    "\n",
    "        ax1.plot([0, 1], [0, 1], \"k:\", label=\"Perfeitamente calibrado\")\n",
    "\n",
    "        for name, mdl1 in mdl_list_:  \n",
    "            model_pipeline  = Pipeline(steps=[\n",
    "                ('preprocessor', preprocessor_1),\n",
    "                #('sampler_over', over), \n",
    "                #('sampler_under', under),    \n",
    "                ('variancethreshold', VarianceThreshold(threshold=0.1)),    \n",
    "                ('selectpercentile', SelectPercentile(f_classif, percentile=90)), \n",
    "                ('model', mdl1)\n",
    "                ])\n",
    "\n",
    "            X_train, X_val, y_train, y_val = train_test_split(X_, y_, test_size=0.5, random_state=seed_)\n",
    "\n",
    "            model_calibrated = CalibratedClassifierCV(model_pipeline, method='isotonic', cv=2) \n",
    "            # method='isotonic' sigmoid\n",
    "\n",
    "            model_calibrated.fit(X_train, y_train)\n",
    "\n",
    "            if hasattr(model_calibrated, \"predict_proba\"):\n",
    "                prob_pos = model_calibrated.predict_proba(X_val)[:, 1]\n",
    "            else:  \n",
    "                prob_pos = model_calibrated.decision_function(X_val)\n",
    "                prob_pos = (prob_pos-prob_pos.min()) / (prob_pos.max()-prob_pos.min())\n",
    "\n",
    "            score = brier_score_loss(y_val, prob_pos, pos_label=y_val.max())\n",
    "\n",
    "            frac_of_pos, mean_pred_value = calibration_curve(y_val, prob_pos, n_bins=15, normalize=True)      \n",
    "\n",
    "            ax1.plot(mean_pred_value, frac_of_pos, \"s-\", label=\"%s (%1.3f)\" % (name, score))\n",
    "\n",
    "            ax1.set_ylabel('Fração de positivos')\n",
    "            ax1.set_ylim([-0.05, 1.05])\n",
    "            ax1.legend(loc='upper left' )\n",
    "            ax1.set_title('\\nGráficos de calibração (curva de confiabilidade)\\n', fontsize=18)\n",
    "\n",
    "            if verbose_: \n",
    "                ax2.hist(prob_pos, range=(0, 1), bins=100, label=name, histtype=\"step\", lw=2)    \n",
    "                ax2.set_xlabel('Valor médio previsto')\n",
    "                ax2.set_ylabel('Quantidade')\n",
    "                ax2.legend(loc=\"upper left\", ncol=1)\n",
    "\n",
    "                plt.tight_layout()\n",
    "\n",
    "                msg = 'AUC: {:2.5f} - F1: {:2.5f} - Perda: {:2.3f} -> {}'\n",
    "                auc = roc_auc_score(y_val, prob_pos)\n",
    "                f1  = f1_score(y_val, (prob_pos>.5).astype(int))\n",
    "                print(msg.format(auc,f1, score, name))\n",
    "\n",
    "        plt.show()\n",
    "\n",
    "    def describe(df):\n",
    "        var = df.columns\n",
    "\n",
    "        # Medidas de tendência central, média e mediana \n",
    "        ct1 = pd.DataFrame(df[var].apply(np.mean)).T\n",
    "        ct2 = pd.DataFrame(df[var].apply(np.median)).T\n",
    "\n",
    "        # Dispensão - str, min , max range skew, kurtosis\n",
    "        d1 = pd.DataFrame(df[var].apply(np.std)).T\n",
    "        d2 = pd.DataFrame(df[var].apply(min)).T\n",
    "        d3 = pd.DataFrame(df[var].apply(max)).T\n",
    "        d4 = pd.DataFrame(df[var].apply(lambda x: x.max() - x.min())).T\n",
    "        d5 = pd.DataFrame(df[var].apply(lambda x: x.skew())).T\n",
    "        d6 = pd.DataFrame(df[var].apply(lambda x: x.kurtosis())).T\n",
    "        d7 = pd.DataFrame(df[var].apply(lambda x: (3 *( np.mean(x) - np.median(x)) / np.std(x) ))).T\n",
    "\n",
    "        # concatenete \n",
    "        m = pd.concat([d2, d3, d4, ct1, ct2, d1, d5, d6, d7]).T.reset_index()\n",
    "        m.columns = ['attrobutes', 'min', 'max', 'range', 'mean', 'median', 'std','skew', 'kurtosis','coef_as']\n",
    "        \n",
    "        return m\n",
    "        \n",
    "    def smape(self, a, f):\n",
    "        return 1/len(a) * np.sum(2 * np.abs(f-a) / (np.abs(a) + np.abs(f))*100)\n",
    "\n",
    "    def smape_(self, y_true, y_pred, base_=100.):\n",
    "        denominator          = (np.abs(y_true)+np.abs(y_pred))/base_\n",
    "        diff                 = np.abs(y_true-y_pred)/denominator\n",
    "        diff[denominator==0] = 0.0\n",
    "        return np.nanmean(diff)\n",
    "    \n",
    "    def smape_loss(y_true, y_pred):\n",
    "        \"\"\"SMAPE Loss\"\"\"\n",
    "        return np.abs(y_true - y_pred) / (y_true + np.abs(y_pred)) * 200\n",
    "    \n",
    "    def calc_erro(y, y_pred, outros=True, ruturn_score=False):\n",
    "        erro   = smape(y, y_pred)    \n",
    "        \n",
    "        \n",
    "        if outros:        \n",
    "            rmse = metrics.mean_squared_error(y, y_pred, squared=False)\n",
    "            mape = metrics.mean_absolute_percentage_error(y, y_pred)\n",
    "            mae  = metrics.mean_absolute_error(y, y_pred)\n",
    "            \n",
    "            print('RMSE : {:2.5f}'.format(rmse))\n",
    "            print('MAE  : {:2.5f}'.format(mae))\n",
    "            print('MAPE : {:2.5f}'.format(mape))\n",
    "            \n",
    "            \n",
    "        if ruturn_score: \n",
    "            return erro\n",
    "        else: \n",
    "            print('SMAPE: {:2.5f}'.format(erro))\n",
    "            \n",
    "    def graf_outlier(df, feature):\n",
    "        col = [(0,4), (5,9)]\n",
    "\n",
    "        df_plot = ((df[feature] - df[feature].min())/\n",
    "                (df[feature].max() - df[feature].min()))\n",
    "\n",
    "        fig, ax = plt.subplots(len(col), 1, figsize=(15,7))\n",
    "\n",
    "        for i, (x) in enumerate(col): \n",
    "            sns.boxplot(data = df_plot.iloc[:, x[0]:x[1] ], ax = ax[i]); \n",
    "                    \n",
    "    def graf_eval():\n",
    "\n",
    "        results     = model.evals_result()\n",
    "        ntree_limit = model.best_ntree_limit\n",
    "\n",
    "        plt.figure(figsize=(20,7))\n",
    "\n",
    "        for i, error in  enumerate(['mlogloss', 'merror']):#\n",
    "            \n",
    "            plt.subplot(1,2,i+1)\n",
    "            plt.plot(results[\"validation_0\"][error], label=\"Treinamento\")\n",
    "            plt.plot(results[\"validation_1\"][error], label=\"Validação\")\n",
    "\n",
    "            plt.axvline(ntree_limit, \n",
    "                        color=\"gray\", \n",
    "                        label=\"N. de árvore ideal {}\".format(ntree_limit))\n",
    "                        \n",
    "            \n",
    "            title_name ='\\n' + error.upper() + ' PLOT \\n'\n",
    "            plt.title(title_name)\n",
    "            plt.xlabel(\"Número de árvores\")\n",
    "            plt.ylabel(error)\n",
    "            plt.legend();\n",
    "        \n",
    "    def linear_fit_slope(y):\n",
    "        \"\"\"Return the slope of a linear fit to a series.\"\"\"\n",
    "        y_pure = y.dropna()\n",
    "        length = len(y_pure)\n",
    "        x = np.arange(0, length)\n",
    "        slope, intercept = np.polyfit(x, y_pure.values, deg=1)\n",
    "        return slope\n",
    "        \n",
    "    def linear_fit_intercept(y):\n",
    "        \"\"\"Return the intercept of a linear fit to a series.\"\"\"\n",
    "        y_pure = y.dropna()\n",
    "        length = len(y_pure)\n",
    "        x = np.arange(0, length)\n",
    "        slope, intercept = np.polyfit(x, y_pure.values, deg=1)\n",
    "        return intercept\n",
    "    \n",
    "    def create_fold(self, path_): \n",
    "\n",
    "        paths = ['img', 'Data', 'Data/pkl', 'Data/submission', 'Data/tunning', \n",
    "                 'model', 'model/preds', 'model/optuna','model/preds/test', 'Data/shap',\n",
    "                 'model/preds/test/n1', 'model/preds/test/n2', 'model/preds/test/n3', \n",
    "                 'model/preds/train', 'model/preds/train/n1', 'model/preds/train/n2', \n",
    "                 'model/preds/train/n3', 'model/preds/param', 'model/mdl', 'model/preds/folds' ]\n",
    "\n",
    "        for p in paths:\n",
    "            try:\n",
    "                os.mkdir(path_+p)       \n",
    "            except:\n",
    "                #print('Erro ao criar pasta: {} '.format(path+p))\n",
    "                pass \n",
    "        \n",
    "utility = Utility()"
   ]
  },
  {
   "cell_type": "code",
   "execution_count": null,
   "id": "c655eb2b",
   "metadata": {
    "ExecuteTime": {
     "end_time": "2022-12-09T02:51:10.591248Z",
     "start_time": "2022-12-09T02:51:10.180770Z"
    }
   },
   "outputs": [],
   "source": [
    "icecream, colors, color_cols = Utility.jupyter_setting()\n",
    "n_threads = multiprocessing.cpu_count()"
   ]
  },
  {
   "cell_type": "markdown",
   "id": "7070c99c",
   "metadata": {
    "id": "7070c99c",
    "papermill": {
     "duration": 0.102787,
     "end_time": "2022-05-04T04:22:15.352132",
     "exception": false,
     "start_time": "2022-05-04T04:22:15.249345",
     "status": "completed"
    },
    "tags": []
   },
   "source": [
    "---"
   ]
  },
  {
   "cell_type": "markdown",
   "id": "b28ac5b3",
   "metadata": {
    "id": "b28ac5b3",
    "papermill": {
     "duration": 0.102473,
     "end_time": "2022-05-04T04:22:15.556924",
     "exception": false,
     "start_time": "2022-05-04T04:22:15.454451",
     "status": "completed"
    },
    "tags": []
   },
   "source": [
    "## 1.4. Dataset"
   ]
  },
  {
   "cell_type": "markdown",
   "id": "d1d3e78d",
   "metadata": {
    "id": "d1d3e78d",
    "papermill": {
     "duration": 0.102246,
     "end_time": "2022-05-04T04:22:15.761286",
     "exception": false,
     "start_time": "2022-05-04T04:22:15.659040",
     "status": "completed"
    },
    "tags": []
   },
   "source": [
    "### 1.4.1. Descrição de dados\n",
    "\n",
    "Para este desafio, temos o seguinte conjunto de dados com as seguintes variáveis: \n",
    "- idade: idade do cliente;\n",
    "- trabalho: tipo de trabalho; \n",
    "- estado civil: estado civil;\n",
    "- educação: grau de instrução\n",
    "- atraso: indica se o produto atrasou\n",
    "- casa: \n",
    "- empréstimo: indica se o clíente tem empréstimo ou não;\n",
    "- contato: tipo de contato; \n",
    "- mês: mês da que foi realizado o contato;\n",
    "- dia: dia do contato; \n",
    "- duração: tempo de duração do contato com o cliente;\n",
    "- ncontatos: quantidade de contatos anteriores;\n",
    "- anterior: anterior \n",
    "- produto: variável alvo \n",
    "       \n",
    "### 1.4.2. Arquivos\n",
    "- <b>treino.csv</b>: conjunto de treinamento;\n",
    "- <b>teste.csv</b>: conjunto de teste, a tarefa é prever um o valor de aluguél. "
   ]
  },
  {
   "cell_type": "markdown",
   "id": "665e7319",
   "metadata": {
    "id": "665e7319",
    "papermill": {
     "duration": 0.175883,
     "end_time": "2022-05-04T04:22:16.105234",
     "exception": false,
     "start_time": "2022-05-04T04:22:15.929351",
     "status": "completed"
    },
    "tags": []
   },
   "source": [
    "### 1.4.3. Estrutura de pasta\n",
    "A finalidade é criar um estrutura de pasta para armazenar os artefatos criados no processo de análise e modelagem."
   ]
  },
  {
   "cell_type": "code",
   "execution_count": null,
   "id": "24fb1e98",
   "metadata": {
    "ExecuteTime": {
     "end_time": "2022-12-09T02:51:10.861472Z",
     "start_time": "2022-12-09T02:51:10.689270Z"
    },
    "execution": {
     "iopub.execute_input": "2022-05-04T04:22:16.839731Z",
     "iopub.status.busy": "2022-05-04T04:22:16.839227Z",
     "iopub.status.idle": "2022-05-04T04:22:16.843111Z",
     "shell.execute_reply": "2022-05-04T04:22:16.842423Z"
    },
    "executionInfo": {
     "elapsed": 355,
     "status": "ok",
     "timestamp": 1654809086754,
     "user": {
      "displayName": "Rogério Delfim",
      "userId": "04235763959036945343"
     },
     "user_tz": 180
    },
    "id": "24fb1e98",
    "papermill": {
     "duration": 0.108611,
     "end_time": "2022-05-04T04:22:16.844982",
     "exception": false,
     "start_time": "2022-05-04T04:22:16.736371",
     "status": "completed"
    },
    "tags": []
   },
   "outputs": [],
   "source": [
    "path        = '/content/drive/MyDrive/Flai/10/' if COLAB else ''   \n",
    "path_data   = 'Data/'  \n",
    "target      = 'produto'\n",
    "path_automl = 'automl/'\n",
    "\n",
    "utility.create_fold(path)"
   ]
  },
  {
   "cell_type": "markdown",
   "id": "3bbb44b6",
   "metadata": {
    "id": "3bbb44b6",
    "papermill": {
     "duration": 0.101695,
     "end_time": "2022-05-04T04:22:16.634117",
     "exception": false,
     "start_time": "2022-05-04T04:22:16.532422",
     "status": "completed"
    },
    "tags": []
   },
   "source": [
    "### 1.4.4. Carrega dados"
   ]
  },
  {
   "cell_type": "code",
   "execution_count": null,
   "id": "59b7ab9a",
   "metadata": {
    "ExecuteTime": {
     "end_time": "2022-12-09T02:51:11.251887Z",
     "start_time": "2022-12-09T02:51:10.927254Z"
    },
    "colab": {
     "base_uri": "https://localhost:8080/"
    },
    "execution": {
     "iopub.execute_input": "2022-05-04T04:22:17.051332Z",
     "iopub.status.busy": "2022-05-04T04:22:17.050832Z",
     "iopub.status.idle": "2022-05-04T04:22:29.594913Z",
     "shell.execute_reply": "2022-05-04T04:22:29.594130Z"
    },
    "executionInfo": {
     "elapsed": 16,
     "status": "ok",
     "timestamp": 1654809087554,
     "user": {
      "displayName": "Rogério Delfim",
      "userId": "04235763959036945343"
     },
     "user_tz": 180
    },
    "id": "59b7ab9a",
    "outputId": "3ed2dedc-0237-4adc-dca6-faeab372c72e",
    "papermill": {
     "duration": 12.648692,
     "end_time": "2022-05-04T04:22:29.596769",
     "exception": false,
     "start_time": "2022-05-04T04:22:16.948077",
     "status": "completed"
    },
    "tags": []
   },
   "outputs": [],
   "source": [
    "df1_train     = pd.read_csv(path + path_data + 'treino.csv')\n",
    "df1_test      = pd.read_csv(path + path_data + 'teste.csv')\n",
    "df_submission = pd.DataFrame({target: np.zeros(df1_test.shape[0])})\n",
    "df1_train.shape, df1_test.shape, df_submission.shape"
   ]
  },
  {
   "cell_type": "code",
   "execution_count": null,
   "id": "a6cbbc49",
   "metadata": {
    "ExecuteTime": {
     "end_time": "2022-12-09T02:52:00.770799Z",
     "start_time": "2022-12-09T02:52:00.730768Z"
    },
    "colab": {
     "base_uri": "https://localhost:8080/",
     "height": 206
    },
    "execution": {
     "iopub.execute_input": "2022-05-04T04:22:29.806714Z",
     "iopub.status.busy": "2022-05-04T04:22:29.806481Z",
     "iopub.status.idle": "2022-05-04T04:22:29.833198Z",
     "shell.execute_reply": "2022-05-04T04:22:29.832418Z"
    },
    "executionInfo": {
     "elapsed": 13,
     "status": "ok",
     "timestamp": 1654809087555,
     "user": {
      "displayName": "Rogério Delfim",
      "userId": "04235763959036945343"
     },
     "user_tz": 180
    },
    "id": "a6cbbc49",
    "outputId": "5f59a88d-a782-4619-c55b-94bdcc1d0efc",
    "papermill": {
     "duration": 0.133399,
     "end_time": "2022-05-04T04:22:29.835330",
     "exception": false,
     "start_time": "2022-05-04T04:22:29.701931",
     "status": "completed"
    },
    "tags": []
   },
   "outputs": [],
   "source": [
    "df1_train.head()"
   ]
  },
  {
   "cell_type": "code",
   "execution_count": null,
   "id": "ac7ee10a",
   "metadata": {
    "ExecuteTime": {
     "end_time": "2022-12-09T02:52:31.519444Z",
     "start_time": "2022-12-09T02:52:31.504407Z"
    },
    "colab": {
     "base_uri": "https://localhost:8080/",
     "height": 206
    },
    "execution": {
     "iopub.execute_input": "2022-05-04T04:22:30.044916Z",
     "iopub.status.busy": "2022-05-04T04:22:30.044693Z",
     "iopub.status.idle": "2022-05-04T04:22:30.068352Z",
     "shell.execute_reply": "2022-05-04T04:22:30.067599Z"
    },
    "executionInfo": {
     "elapsed": 12,
     "status": "ok",
     "timestamp": 1654809087556,
     "user": {
      "displayName": "Rogério Delfim",
      "userId": "04235763959036945343"
     },
     "user_tz": 180
    },
    "id": "ac7ee10a",
    "outputId": "a092007b-0a5e-409c-ee51-76d3c78ada81",
    "papermill": {
     "duration": 0.130366,
     "end_time": "2022-05-04T04:22:30.070247",
     "exception": false,
     "start_time": "2022-05-04T04:22:29.939881",
     "status": "completed"
    },
    "tags": []
   },
   "outputs": [],
   "source": [
    "df1_test.head()"
   ]
  },
  {
   "cell_type": "markdown",
   "id": "cb126052",
   "metadata": {
    "id": "cb126052",
    "papermill": {
     "duration": 0.1041,
     "end_time": "2022-05-04T04:22:30.282043",
     "exception": false,
     "start_time": "2022-05-04T04:22:30.177943",
     "status": "completed"
    },
    "tags": []
   },
   "source": [
    "<p style=\"border-bottom: 2px solid #256B5D\"/>"
   ]
  },
  {
   "cell_type": "markdown",
   "id": "c05a90fc",
   "metadata": {
    "id": "c05a90fc",
    "papermill": {
     "duration": 0.110636,
     "end_time": "2022-05-04T04:22:32.124310",
     "exception": false,
     "start_time": "2022-05-04T04:22:32.013674",
     "status": "completed"
    },
    "tags": []
   },
   "source": [
    "<div style=\"color:white;border-radius:8px;background-color:#a7d5ed\">    \n",
    "    <h1 style=\"padding:12px;color:black;\"> 2. Análise Exploratória de Dados (EDA) </h1>    \n",
    "</div>\n",
    "\n",
    "Antes de trabalhar com qualquer tipo de dados é importante entendê-los. Um passo crucial para esse objetivo é a Análise Exploratória de Dados (EDA): uma combinação de visualizações e análise estatística (uni, bi e multivariada) que nos ajuda a entender melhor os dados com os quais estamos trabalhando e obter insights sobre seus relacionamentos.<p>\n",
    "    Então, vamos explorar nossa variável de destino e como as outras variáveis a influenciam."
   ]
  },
  {
   "cell_type": "code",
   "execution_count": null,
   "id": "a82da290",
   "metadata": {
    "ExecuteTime": {
     "end_time": "2022-12-09T02:52:35.593707Z",
     "start_time": "2022-12-09T02:52:35.588727Z"
    },
    "execution": {
     "iopub.execute_input": "2022-05-04T04:22:32.336154Z",
     "iopub.status.busy": "2022-05-04T04:22:32.335454Z",
     "iopub.status.idle": "2022-05-04T04:22:32.398559Z",
     "shell.execute_reply": "2022-05-04T04:22:32.397798Z"
    },
    "executionInfo": {
     "elapsed": 2,
     "status": "ok",
     "timestamp": 1654809088835,
     "user": {
      "displayName": "Rogério Delfim",
      "userId": "04235763959036945343"
     },
     "user_tz": 180
    },
    "id": "a82da290",
    "papermill": {
     "duration": 0.170728,
     "end_time": "2022-05-04T04:22:32.400711",
     "exception": false,
     "start_time": "2022-05-04T04:22:32.229983",
     "status": "completed"
    },
    "tags": []
   },
   "outputs": [],
   "source": [
    "df2_train = df1_train.copy()\n",
    "df2_test  = df1_test.copy()"
   ]
  },
  {
   "cell_type": "markdown",
   "id": "721933bd",
   "metadata": {
    "id": "721933bd",
    "papermill": {
     "duration": 0.105357,
     "end_time": "2022-05-04T04:22:32.611999",
     "exception": false,
     "start_time": "2022-05-04T04:22:32.506642",
     "status": "completed"
    },
    "tags": []
   },
   "source": [
    "## 2.1. Dimensão do DataSet"
   ]
  },
  {
   "cell_type": "code",
   "execution_count": null,
   "id": "cc10a836",
   "metadata": {
    "ExecuteTime": {
     "end_time": "2022-12-09T02:52:38.999862Z",
     "start_time": "2022-12-09T02:52:38.991903Z"
    },
    "colab": {
     "base_uri": "https://localhost:8080/"
    },
    "execution": {
     "iopub.execute_input": "2022-05-04T04:22:32.832387Z",
     "iopub.status.busy": "2022-05-04T04:22:32.832153Z",
     "iopub.status.idle": "2022-05-04T04:22:32.840237Z",
     "shell.execute_reply": "2022-05-04T04:22:32.838174Z"
    },
    "executionInfo": {
     "elapsed": 3,
     "status": "ok",
     "timestamp": 1654809089383,
     "user": {
      "displayName": "Rogério Delfim",
      "userId": "04235763959036945343"
     },
     "user_tz": 180
    },
    "id": "cc10a836",
    "outputId": "d755c499-f1d6-411d-a9f4-2594c0dd75b8",
    "papermill": {
     "duration": 0.124815,
     "end_time": "2022-05-04T04:22:32.842121",
     "exception": false,
     "start_time": "2022-05-04T04:22:32.717306",
     "status": "completed"
    },
    "tags": []
   },
   "outputs": [],
   "source": [
    "print('TREINO')\n",
    "print('Number of Rows: {}'.format(df2_train.shape[0]))\n",
    "print('Number of Columns: {}'.format(df2_train.shape[1]), end='\\n\\n')\n",
    "\n",
    "print('TESTE')\n",
    "print('Number of Rows: {}'.format(df2_test.shape[0]))\n",
    "print('Number of Columns: {}'.format(df2_test.shape[1]))"
   ]
  },
  {
   "cell_type": "markdown",
   "id": "4d099f8e",
   "metadata": {
    "id": "4d099f8e",
    "papermill": {
     "duration": 0.105833,
     "end_time": "2022-05-04T04:22:33.052616",
     "exception": false,
     "start_time": "2022-05-04T04:22:32.946783",
     "status": "completed"
    },
    "tags": []
   },
   "source": [
    "---"
   ]
  },
  {
   "cell_type": "markdown",
   "id": "4a1afc0e",
   "metadata": {
    "id": "4a1afc0e",
    "papermill": {
     "duration": 0.105077,
     "end_time": "2022-05-04T04:22:33.265969",
     "exception": false,
     "start_time": "2022-05-04T04:22:33.160892",
     "status": "completed"
    },
    "tags": []
   },
   "source": [
    "## 2.2. Tipo de dados"
   ]
  },
  {
   "cell_type": "code",
   "execution_count": null,
   "id": "99372dd1",
   "metadata": {
    "ExecuteTime": {
     "end_time": "2022-12-09T02:52:41.475131Z",
     "start_time": "2022-12-09T02:52:41.183711Z"
    },
    "colab": {
     "base_uri": "https://localhost:8080/"
    },
    "execution": {
     "iopub.execute_input": "2022-05-04T04:22:33.476658Z",
     "iopub.status.busy": "2022-05-04T04:22:33.476416Z",
     "iopub.status.idle": "2022-05-04T04:22:33.662974Z",
     "shell.execute_reply": "2022-05-04T04:22:33.662222Z"
    },
    "executionInfo": {
     "elapsed": 2,
     "status": "ok",
     "timestamp": 1654809090386,
     "user": {
      "displayName": "Rogério Delfim",
      "userId": "04235763959036945343"
     },
     "user_tz": 180
    },
    "id": "99372dd1",
    "outputId": "78af5358-e079-4f3f-8916-050acc026277",
    "papermill": {
     "duration": 0.29537,
     "end_time": "2022-05-04T04:22:33.665805",
     "exception": false,
     "start_time": "2022-05-04T04:22:33.370435",
     "status": "completed"
    },
    "tags": []
   },
   "outputs": [],
   "source": [
    "df2_train.info()"
   ]
  },
  {
   "cell_type": "code",
   "execution_count": null,
   "id": "881722ac",
   "metadata": {
    "ExecuteTime": {
     "end_time": "2022-12-09T02:52:44.445098Z",
     "start_time": "2022-12-09T02:52:44.418087Z"
    },
    "colab": {
     "base_uri": "https://localhost:8080/"
    },
    "execution": {
     "iopub.execute_input": "2022-05-04T04:22:33.880861Z",
     "iopub.status.busy": "2022-05-04T04:22:33.880660Z",
     "iopub.status.idle": "2022-05-04T04:22:34.014997Z",
     "shell.execute_reply": "2022-05-04T04:22:34.014046Z"
    },
    "executionInfo": {
     "elapsed": 2,
     "status": "ok",
     "timestamp": 1654809090613,
     "user": {
      "displayName": "Rogério Delfim",
      "userId": "04235763959036945343"
     },
     "user_tz": 180
    },
    "id": "881722ac",
    "outputId": "ce719a83-3b90-4910-926f-657105d28e66",
    "papermill": {
     "duration": 0.244625,
     "end_time": "2022-05-04T04:22:34.017351",
     "exception": false,
     "start_time": "2022-05-04T04:22:33.772726",
     "status": "completed"
    },
    "tags": []
   },
   "outputs": [],
   "source": [
    "df2_test.info()"
   ]
  },
  {
   "cell_type": "code",
   "execution_count": null,
   "id": "8999fba0",
   "metadata": {
    "ExecuteTime": {
     "end_time": "2022-12-09T02:52:45.604020Z",
     "start_time": "2022-12-09T02:52:45.594000Z"
    },
    "colab": {
     "base_uri": "https://localhost:8080/"
    },
    "execution": {
     "iopub.execute_input": "2022-05-04T04:22:34.238396Z",
     "iopub.status.busy": "2022-05-04T04:22:34.238184Z",
     "iopub.status.idle": "2022-05-04T04:22:34.244621Z",
     "shell.execute_reply": "2022-05-04T04:22:34.243902Z"
    },
    "executionInfo": {
     "elapsed": 2,
     "status": "ok",
     "timestamp": 1654809090834,
     "user": {
      "displayName": "Rogério Delfim",
      "userId": "04235763959036945343"
     },
     "user_tz": 180
    },
    "id": "8999fba0",
    "outputId": "0c1b796b-e842-49a2-ed74-5c4cad486184",
    "papermill": {
     "duration": 0.116422,
     "end_time": "2022-05-04T04:22:34.247132",
     "exception": false,
     "start_time": "2022-05-04T04:22:34.130710",
     "status": "completed"
    },
    "tags": []
   },
   "outputs": [],
   "source": [
    "print(f'{3*\"=\"} For Pandas {10*\"=\"}\\n{(df2_train.dtypes).value_counts()}')\n",
    "print(f'\\n{3*\"=\"} For Datatable {7*\"=\"}\\n{(df2_test.dtypes).value_counts()}')"
   ]
  },
  {
   "cell_type": "markdown",
   "id": "3a7cd360",
   "metadata": {
    "id": "3a7cd360",
    "papermill": {
     "duration": 0.108584,
     "end_time": "2022-05-04T04:22:38.930627",
     "exception": false,
     "start_time": "2022-05-04T04:22:38.822043",
     "status": "completed"
    },
    "tags": []
   },
   "source": [
    "---"
   ]
  },
  {
   "cell_type": "markdown",
   "id": "2f06b713",
   "metadata": {
    "ExecuteTime": {
     "end_time": "2022-12-07T21:58:51.909753Z",
     "start_time": "2022-12-07T21:58:51.902715Z"
    }
   },
   "source": [
    "## 2.3. Dados duplicados"
   ]
  },
  {
   "cell_type": "markdown",
   "id": "8a5e1f0d",
   "metadata": {
    "ExecuteTime": {
     "end_time": "2022-12-07T22:02:28.072528Z",
     "start_time": "2022-12-07T22:02:28.058529Z"
    }
   },
   "source": [
    "- Treino"
   ]
  },
  {
   "cell_type": "code",
   "execution_count": null,
   "id": "620f4814",
   "metadata": {
    "ExecuteTime": {
     "end_time": "2022-12-09T02:53:10.788711Z",
     "start_time": "2022-12-09T02:53:10.529540Z"
    }
   },
   "outputs": [],
   "source": [
    "df2_train[df2_train.duplicated(subset=df2_test.columns.to_list())].shape"
   ]
  },
  {
   "cell_type": "markdown",
   "id": "94d0bcda",
   "metadata": {},
   "source": [
    "- Teste"
   ]
  },
  {
   "cell_type": "code",
   "execution_count": null,
   "id": "82f84ea9",
   "metadata": {
    "ExecuteTime": {
     "end_time": "2022-12-09T02:53:14.303787Z",
     "start_time": "2022-12-09T02:53:14.280753Z"
    }
   },
   "outputs": [],
   "source": [
    "df2_test[df2_test.duplicated(subset=df2_test.columns.to_list())].shape"
   ]
  },
  {
   "cell_type": "markdown",
   "id": "25d714e4",
   "metadata": {
    "id": "25d714e4",
    "papermill": {
     "duration": 0.107266,
     "end_time": "2022-05-04T04:22:39.145057",
     "exception": false,
     "start_time": "2022-05-04T04:22:39.037791",
     "status": "completed"
    },
    "tags": []
   },
   "source": [
    "## 2.4. Identificar NA"
   ]
  },
  {
   "cell_type": "code",
   "execution_count": null,
   "id": "f425ee43",
   "metadata": {
    "ExecuteTime": {
     "end_time": "2022-12-09T02:53:16.508472Z",
     "start_time": "2022-12-09T02:53:16.002110Z"
    },
    "colab": {
     "base_uri": "https://localhost:8080/",
     "height": 84
    },
    "execution": {
     "iopub.execute_input": "2022-05-04T04:22:39.360224Z",
     "iopub.status.busy": "2022-05-04T04:22:39.359453Z",
     "iopub.status.idle": "2022-05-04T04:22:41.980158Z",
     "shell.execute_reply": "2022-05-04T04:22:41.979363Z"
    },
    "executionInfo": {
     "elapsed": 4,
     "status": "ok",
     "timestamp": 1654809091487,
     "user": {
      "displayName": "Rogério Delfim",
      "userId": "04235763959036945343"
     },
     "user_tz": 180
    },
    "id": "f425ee43",
    "outputId": "20fad797-c1f6-4606-eef6-daf8673bf1d2",
    "papermill": {
     "duration": 2.730514,
     "end_time": "2022-05-04T04:22:41.982375",
     "exception": false,
     "start_time": "2022-05-04T04:22:39.251861",
     "status": "completed"
    },
    "tags": []
   },
   "outputs": [],
   "source": [
    "missing = utility.missing_zero_values_table(df2_train)\n",
    "missing[:].style.background_gradient(cmap='Reds')"
   ]
  },
  {
   "cell_type": "code",
   "execution_count": null,
   "id": "6c7f7590",
   "metadata": {
    "ExecuteTime": {
     "end_time": "2022-12-09T02:53:19.429365Z",
     "start_time": "2022-12-09T02:53:19.392386Z"
    },
    "colab": {
     "base_uri": "https://localhost:8080/",
     "height": 84
    },
    "execution": {
     "iopub.execute_input": "2022-05-04T04:22:42.204733Z",
     "iopub.status.busy": "2022-05-04T04:22:42.204033Z",
     "iopub.status.idle": "2022-05-04T04:22:44.216939Z",
     "shell.execute_reply": "2022-05-04T04:22:44.216027Z"
    },
    "executionInfo": {
     "elapsed": 4,
     "status": "ok",
     "timestamp": 1654809091689,
     "user": {
      "displayName": "Rogério Delfim",
      "userId": "04235763959036945343"
     },
     "user_tz": 180
    },
    "id": "6c7f7590",
    "outputId": "c3113c6b-8fbd-4111-c04c-f5698cbf8db8",
    "papermill": {
     "duration": 2.124273,
     "end_time": "2022-05-04T04:22:44.218747",
     "exception": false,
     "start_time": "2022-05-04T04:22:42.094474",
     "status": "completed"
    },
    "tags": []
   },
   "outputs": [],
   "source": [
    "missing = utility.missing_zero_values_table(df2_test)\n",
    "missing[:].style.background_gradient(cmap='Reds')"
   ]
  },
  {
   "cell_type": "markdown",
   "id": "7725b7ea",
   "metadata": {
    "id": "7725b7ea",
    "papermill": {
     "duration": 0.10922,
     "end_time": "2022-05-04T04:22:44.439110",
     "exception": false,
     "start_time": "2022-05-04T04:22:44.329890",
     "status": "completed"
    },
    "tags": []
   },
   "source": [
    "<div class=\"alert alert-block alert-info\" style=\"border-radius:15px\">\n",
    "<p style=\"color: black; font-family: Arial Black\">NOTA:</p>\n",
    "\n",
    "Observamos que temos 6 variáveis com valores ausentes, para o modelo de linha de base vamos utilizar a moda para os valores ausentes, neste primeiro momento vou imputar o valor <b>não tem valor (NA)</b> para as análises. \n",
    "    \n",
    "    \n",
    "</div>"
   ]
  },
  {
   "cell_type": "code",
   "execution_count": null,
   "id": "f3a1a224",
   "metadata": {
    "ExecuteTime": {
     "end_time": "2022-12-09T02:53:35.489295Z",
     "start_time": "2022-12-09T02:53:35.473296Z"
    }
   },
   "outputs": [],
   "source": [
    "feature_na = {'atraso'      : 'não tem valor (NA)', \n",
    "              'educação'    : 'não tem valor (NA)', \n",
    "              'trabalho'    : 'não tem valor (NA)', \n",
    "              'casa'        : 'não tem valor (NA)',\n",
    "              'empréstimo'  : 'não tem valor (NA)', \n",
    "              'estado civil': 'não tem valor (NA)'}\n",
    "\n",
    "df2_train = df2_train.fillna(feature_na)\n",
    "df2_test  = df2_test.fillna(feature_na)"
   ]
  },
  {
   "cell_type": "code",
   "execution_count": null,
   "id": "adf49ba0",
   "metadata": {
    "ExecuteTime": {
     "end_time": "2022-12-09T02:53:37.552275Z",
     "start_time": "2022-12-09T02:53:37.514277Z"
    }
   },
   "outputs": [],
   "source": [
    "missing = utility.missing_zero_values_table(df2_train)\n",
    "missing[:].style.background_gradient(cmap='Reds')"
   ]
  },
  {
   "cell_type": "markdown",
   "id": "35a25619",
   "metadata": {
    "ExecuteTime": {
     "end_time": "2022-12-07T03:39:24.828922Z",
     "start_time": "2022-12-07T03:39:24.820924Z"
    }
   },
   "source": [
    "---"
   ]
  },
  {
   "cell_type": "markdown",
   "id": "80ee8ed3",
   "metadata": {
    "id": "80ee8ed3",
    "papermill": {
     "duration": 0.109184,
     "end_time": "2022-05-04T04:22:44.657432",
     "exception": false,
     "start_time": "2022-05-04T04:22:44.548248",
     "status": "completed"
    },
    "tags": []
   },
   "source": [
    "## 2.5. Estatística Descritiva\n",
    "Abaixo estão as estatísticas básicas para cada variável que contém informações sobre contagem, média, desvio padrão, mínimo, 1º quartil, mediana, 3º quartil e máximo."
   ]
  },
  {
   "cell_type": "code",
   "execution_count": null,
   "id": "64653307",
   "metadata": {
    "ExecuteTime": {
     "end_time": "2022-12-09T02:53:41.351684Z",
     "start_time": "2022-12-09T02:53:41.344688Z"
    },
    "colab": {
     "base_uri": "https://localhost:8080/"
    },
    "execution": {
     "iopub.execute_input": "2022-05-04T04:22:44.878021Z",
     "iopub.status.busy": "2022-05-04T04:22:44.877805Z",
     "iopub.status.idle": "2022-05-04T04:22:45.263290Z",
     "shell.execute_reply": "2022-05-04T04:22:45.262507Z"
    },
    "executionInfo": {
     "elapsed": 2,
     "status": "ok",
     "timestamp": 1654809092272,
     "user": {
      "displayName": "Rogério Delfim",
      "userId": "04235763959036945343"
     },
     "user_tz": 180
    },
    "id": "64653307",
    "outputId": "b6f90c2a-5681-4a44-aaeb-220914b57cb3",
    "papermill": {
     "duration": 0.498394,
     "end_time": "2022-05-04T04:22:45.265459",
     "exception": false,
     "start_time": "2022-05-04T04:22:44.767065",
     "status": "completed"
    },
    "tags": []
   },
   "outputs": [],
   "source": [
    "feature_float = df2_test.select_dtypes(np.number).columns.to_list()\n",
    "feature_cat   = df2_test.select_dtypes(object).columns.to_list()\n",
    "\n",
    "msg = 'Temos {} variávies numéricas e {} categóricas.'\n",
    "print(msg.format(len(feature_float), len(feature_cat)))"
   ]
  },
  {
   "cell_type": "markdown",
   "id": "e982e578",
   "metadata": {
    "id": "e982e578",
    "papermill": {
     "duration": 0.10941,
     "end_time": "2022-05-04T04:22:45.484842",
     "exception": false,
     "start_time": "2022-05-04T04:22:45.375432",
     "status": "completed"
    },
    "tags": []
   },
   "source": [
    "- Treino"
   ]
  },
  {
   "cell_type": "code",
   "execution_count": null,
   "id": "789ea5c4",
   "metadata": {
    "ExecuteTime": {
     "end_time": "2022-12-09T02:53:56.747578Z",
     "start_time": "2022-12-09T02:53:56.569186Z"
    },
    "colab": {
     "base_uri": "https://localhost:8080/",
     "height": 300
    },
    "execution": {
     "iopub.execute_input": "2022-05-04T04:22:45.704866Z",
     "iopub.status.busy": "2022-05-04T04:22:45.704654Z",
     "iopub.status.idle": "2022-05-04T04:22:48.000854Z",
     "shell.execute_reply": "2022-05-04T04:22:48.000179Z"
    },
    "executionInfo": {
     "elapsed": 383,
     "status": "ok",
     "timestamp": 1654809093002,
     "user": {
      "displayName": "Rogério Delfim",
      "userId": "04235763959036945343"
     },
     "user_tz": 180
    },
    "id": "789ea5c4",
    "outputId": "576781f6-f590-4081-f262-67b136cf0670",
    "papermill": {
     "duration": 2.408593,
     "end_time": "2022-05-04T04:22:48.002923",
     "exception": false,
     "start_time": "2022-05-04T04:22:45.594330",
     "status": "completed"
    },
    "tags": []
   },
   "outputs": [],
   "source": [
    "df2_train.describe().style.background_gradient(cmap='YlOrRd')"
   ]
  },
  {
   "cell_type": "markdown",
   "id": "099cf4ba",
   "metadata": {},
   "source": [
    "- Teste"
   ]
  },
  {
   "cell_type": "code",
   "execution_count": null,
   "id": "254aa581",
   "metadata": {
    "ExecuteTime": {
     "end_time": "2022-12-09T02:54:08.636619Z",
     "start_time": "2022-12-09T02:54:08.616515Z"
    }
   },
   "outputs": [],
   "source": [
    "df2_test.describe().style.background_gradient(cmap='YlOrRd')"
   ]
  },
  {
   "cell_type": "markdown",
   "id": "d96b6243",
   "metadata": {},
   "source": [
    "<div class=\"alert alert-block alert-info\" style=\"border-radius:15px\">\n",
    "<p style=\"color: black; font-family: Arial Black\">NOTA:</p>\n",
    "    \n",
    "Alguns pontos que podemos destacar: \n",
    "- A variável idade tem um desvio padrão relativamente alto, com 75% das idades abaixo de 49 anos e um valor máximo de 89 anos. \n",
    "    \n",
    "- A variável ncontatos tem um desvio padrão maior que a média, tem entre 1 e 3 número de contatos, porém o valor máximo de contato é 35 no dataset de teste.  \n",
    "    \n",
    "</div>"
   ]
  },
  {
   "cell_type": "markdown",
   "id": "fc521ae4",
   "metadata": {},
   "source": [
    "---"
   ]
  },
  {
   "cell_type": "markdown",
   "id": "8317a4fe",
   "metadata": {
    "id": "8317a4fe",
    "papermill": {
     "duration": 0.110304,
     "end_time": "2022-05-04T04:22:48.680215",
     "exception": false,
     "start_time": "2022-05-04T04:22:48.569911",
     "status": "completed"
    },
    "tags": []
   },
   "source": [
    "## 2.6. Distribuição"
   ]
  },
  {
   "cell_type": "markdown",
   "id": "268ccbb9",
   "metadata": {
    "id": "268ccbb9",
    "papermill": {
     "duration": 0.198737,
     "end_time": "2022-05-04T04:22:48.990763",
     "exception": false,
     "start_time": "2022-05-04T04:22:48.792026",
     "status": "completed"
    },
    "tags": []
   },
   "source": [
    "### 2.6.1. Train / Test"
   ]
  },
  {
   "cell_type": "code",
   "execution_count": null,
   "id": "82a52cd0",
   "metadata": {
    "ExecuteTime": {
     "end_time": "2022-12-09T02:55:42.850333Z",
     "start_time": "2022-12-09T02:55:42.842335Z"
    }
   },
   "outputs": [],
   "source": [
    "sns.set(style=\"darkgrid\")"
   ]
  },
  {
   "cell_type": "code",
   "execution_count": null,
   "id": "93b33326",
   "metadata": {
    "ExecuteTime": {
     "end_time": "2022-12-09T02:55:43.796605Z",
     "start_time": "2022-12-09T02:55:43.481957Z"
    },
    "colab": {
     "base_uri": "https://localhost:8080/",
     "height": 347
    },
    "execution": {
     "iopub.execute_input": "2022-05-04T04:22:49.357984Z",
     "iopub.status.busy": "2022-05-04T04:22:49.357728Z",
     "iopub.status.idle": "2022-05-04T04:22:49.498086Z",
     "shell.execute_reply": "2022-05-04T04:22:49.497385Z"
    },
    "executionInfo": {
     "elapsed": 454,
     "status": "ok",
     "timestamp": 1654809093794,
     "user": {
      "displayName": "Rogério Delfim",
      "userId": "04235763959036945343"
     },
     "user_tz": 180
    },
    "id": "93b33326",
    "outputId": "78f68421-cab8-4b99-ec3d-bae8b7a46496",
    "papermill": {
     "duration": 0.326788,
     "end_time": "2022-05-04T04:22:49.500507",
     "exception": false,
     "start_time": "2022-05-04T04:22:49.173719",
     "status": "completed"
    },
    "tags": []
   },
   "outputs": [],
   "source": [
    "fig, ax = plt.subplots(1,2, figsize=(20, 7))\n",
    "\n",
    "pie = ax[0].pie([len(df2_train), len(df2_test)],\n",
    "             labels   = [\"Train dataset\", \"Test dataset\"],\n",
    "             colors   = [\"teal\", \"blue\"],\n",
    "             textprops= {\"fontsize\": 18},\n",
    "             autopct  = '%1.1f%%')\n",
    "\n",
    "ax[0].axis(\"equal\")\n",
    "ax[0].set_title(\"Comparação de comprimento do conjunto de dados\\n\", fontsize=18)\n",
    "fig.set_facecolor('white')\n",
    "\n",
    "_ = df2_train.groupby([target])[target].count()  \n",
    "\n",
    "ax = _.plot(kind    ='bar',\n",
    "            stacked = True,\n",
    "            width   = .5,\n",
    "            rot     = 0,\n",
    "            color   = colors, \n",
    "            grid    = True,\n",
    "            ax      = ax[1])\n",
    "\n",
    "ax.set_title('Distribuição da variável alvo'  , fontsize=18)\n",
    "ax.set_xlabel('', fontsize=12)\n",
    "ax.set_ylabel('Quantidade', fontsize=12)\n",
    "\n",
    "total = sum(_)\n",
    "\n",
    "for i in ax.patches:\n",
    "    width, height = i.get_width() -.2 , i.get_height()\n",
    "    x, y  = i.get_xy()      \n",
    "    alt   = .5\n",
    "    soma  = 0\n",
    "    color = 'black'\n",
    "    ax.annotate(str(round((i.get_height()*100.0/total),1))+'%', \n",
    "                (i.get_x()+.55*width, \n",
    "                 i.get_y()+soma+alt*height),\n",
    "                 color   = color,\n",
    "                 weight = 'bold',\n",
    "                 size   = 15)            "
   ]
  },
  {
   "cell_type": "markdown",
   "id": "d0fb8011",
   "metadata": {},
   "source": [
    "<div class=\"alert alert-block alert-info\" style=\"border-radius:15px\">\n",
    "<p style=\"color: black; font-family: Arial Black\">NOTA:</p>\n",
    "    \n",
    "Observamos no gráfico da direita, que os dados estão desbalanceados, sendo assim, precisamos utilizar alguma técnica de balanceamento de dados como: <b>oversampling</b> ou <b>undersampling</b>. \n",
    "    \n",
    "</div>"
   ]
  },
  {
   "cell_type": "markdown",
   "id": "b0a3b59e",
   "metadata": {},
   "source": [
    "---"
   ]
  },
  {
   "cell_type": "markdown",
   "id": "8a3136c7",
   "metadata": {
    "id": "8a3136c7",
    "papermill": {
     "duration": 0.111556,
     "end_time": "2022-05-04T04:22:49.984319",
     "exception": false,
     "start_time": "2022-05-04T04:22:49.872763",
     "status": "completed"
    },
    "tags": []
   },
   "source": [
    "### 2.6.2. Distribuição Train x Test"
   ]
  },
  {
   "cell_type": "code",
   "execution_count": null,
   "id": "44f822a4",
   "metadata": {
    "ExecuteTime": {
     "end_time": "2022-12-13T01:39:05.210471Z",
     "start_time": "2022-12-13T01:38:54.941184Z"
    },
    "colab": {
     "base_uri": "https://localhost:8080/",
     "height": 679
    },
    "executionInfo": {
     "elapsed": 3892,
     "status": "ok",
     "timestamp": 1654809098870,
     "user": {
      "displayName": "Rogério Delfim",
      "userId": "04235763959036945343"
     },
     "user_tz": 180
    },
    "id": "44f822a4",
    "outputId": "19003660-71d6-4915-9fc8-439c518939ee"
   },
   "outputs": [],
   "source": [
    "features = df2_test.select_dtypes(np.number).columns\n",
    "\n",
    "sns.set(style=\"darkgrid\")\n",
    "plt.figure(figsize=(10,4))\n",
    "\n",
    "nrow = int(np.ceil(len(features)/2))\n",
    "ncol = 2\n",
    "\n",
    "for i, feature in enumerate(features):    \n",
    "    plt.subplot(nrow, ncol, i+1)    \n",
    "    ax = sns.kdeplot(df2_train[feature], shade=True, color='salmon',  alpha=0.5, label='train')\n",
    "    ax = sns.kdeplot(df2_test[feature], shade=True, color='teal',  alpha=0.5, label='test')\n",
    "    plt.xlabel(feature, fontsize=9)\n",
    "    plt.legend()    \n",
    "    \n",
    "plt.suptitle('Distribuição traino & teste ', fontsize=20)\n",
    "plt.tight_layout(pad=1.5);"
   ]
  },
  {
   "cell_type": "markdown",
   "id": "c2a00a7b",
   "metadata": {
    "id": "c2a00a7b",
    "papermill": {
     "duration": 0.116474,
     "end_time": "2022-05-04T04:24:10.487377",
     "exception": false,
     "start_time": "2022-05-04T04:24:10.370903",
     "status": "completed"
    },
    "tags": []
   },
   "source": [
    "<div class=\"alert alert-block alert-info\" style=\"border-radius:15px\">\n",
    "<p style=\"color: black; font-family: Arial Black\">NOTA:</p>\n",
    "    \n",
    "Observamos nos gráficos acima que as variáveis seguem a mesma distribuição em ambos os datasets com assimetria positiva, vamos dar uma olhada na distribuição dessas variáveis em relação as variáveis categórica. \n",
    "    \n",
    "</div>"
   ]
  },
  {
   "cell_type": "markdown",
   "id": "fea2055f",
   "metadata": {},
   "source": [
    "---"
   ]
  },
  {
   "cell_type": "markdown",
   "id": "e04f5bab",
   "metadata": {},
   "source": [
    "<p style=\"color: black; font-family: Arial Black\">Idade:</p>"
   ]
  },
  {
   "cell_type": "code",
   "execution_count": null,
   "id": "3105d2c4",
   "metadata": {
    "ExecuteTime": {
     "end_time": "2022-12-13T01:39:34.925527Z",
     "start_time": "2022-12-13T01:39:34.873488Z"
    },
    "code_folding": [
     0
    ],
    "scrolled": false
   },
   "outputs": [],
   "source": [
    "def distrib_train_test(df_tr_, df_ts_, feature_): \n",
    "\n",
    "    _  = df_tr_.dropna() \n",
    "    __ = df_ts_.dropna() \n",
    "\n",
    "    for col in feature_cat:     \n",
    "        col_tmp = _[col].unique()     \n",
    "        row     = int(len(col_tmp)/3)+1     \n",
    "\n",
    "        plt.figure(figsize=(20,6*row))\n",
    "\n",
    "        for i, c in enumerate(col_tmp): \n",
    "            plt.subplot(row, 3, i+1)\n",
    "            sns.kdeplot(_[_[col]==c][feature_], shade=True, color='salmon',  alpha=0.5, label='train')\n",
    "            sns.kdeplot(__[__[col]==c][feature_], shade=True, color='teal',  alpha=0.5, label='test')\n",
    "            plt.xlabel(c, fontsize=16)\n",
    "            plt.legend()    \n",
    "\n",
    "        plt.suptitle('Distribuição traino & teste  da variável {}'.format(col), fontsize=20)\n",
    "        plt.tight_layout(pad=2);\n",
    "        plt.show()\n",
    "        print()"
   ]
  },
  {
   "cell_type": "code",
   "execution_count": null,
   "id": "c6ffcb95",
   "metadata": {
    "ExecuteTime": {
     "end_time": "2022-12-13T01:39:52.607987Z",
     "start_time": "2022-12-13T01:39:35.705961Z"
    },
    "scrolled": false
   },
   "outputs": [],
   "source": [
    "distrib_train_test(df2_train, df2_test, 'idade')"
   ]
  },
  {
   "cell_type": "markdown",
   "id": "c434f955",
   "metadata": {
    "ExecuteTime": {
     "end_time": "2022-12-07T22:40:52.728515Z",
     "start_time": "2022-12-07T22:40:52.713471Z"
    }
   },
   "source": [
    "<div class=\"alert alert-block alert-info\" style=\"border-radius:15px\">\n",
    "<p style=\"color: black; font-family: Arial Black\">NOTA:</p>\n",
    "    \n",
    "- Na variável <b>trabalho</b> na classe do <b>do lar</b> tem uma pequena diferença na parte direita dos dataset entre os valores 60 e 100, isso também acontece com os valore que não tem valor; <p>\n",
    "\n",
    "- Na variável <b>estado cívil</b> as variáveis que não tem valores a distribuição é totalmente diferente; <p>\n",
    "\n",
    "</div>"
   ]
  },
  {
   "cell_type": "code",
   "execution_count": null,
   "id": "567f08cc",
   "metadata": {
    "ExecuteTime": {
     "end_time": "2022-12-13T01:40:11.010701Z",
     "start_time": "2022-12-13T01:39:58.314250Z"
    },
    "scrolled": false
   },
   "outputs": [],
   "source": [
    "distrib_train_test(df2_train, df2_test, 'ncontatos')"
   ]
  },
  {
   "cell_type": "markdown",
   "id": "a3102e53",
   "metadata": {},
   "source": [
    "<div class=\"alert alert-block alert-info\" style=\"border-radius:15px\">\n",
    "<p style=\"color: black; font-family: Arial Black\">NOTA:</p>\n",
    "    \n",
    "- Na variável <b>estado cívil</b> a classe que indica os valores ausentes as distribuições são totalmente diferente; <p>\n",
    "\n",
    "- Na variável <b>mês</b> na classe <b>dezembro</b> tem uma pequena diferença no dataset de treino entre 6 e 12, isso é, não tem sobreposição do dataset de teste. <p>\n",
    "    \n",
    "</div>"
   ]
  },
  {
   "cell_type": "markdown",
   "id": "d83744ad",
   "metadata": {
    "id": "d83744ad",
    "papermill": {
     "duration": 0.110067,
     "end_time": "2022-05-04T04:22:48.459283",
     "exception": false,
     "start_time": "2022-05-04T04:22:48.349216",
     "status": "completed"
    },
    "tags": []
   },
   "source": [
    "---"
   ]
  },
  {
   "cell_type": "markdown",
   "id": "f275a911",
   "metadata": {
    "ExecuteTime": {
     "end_time": "2022-12-07T01:38:07.696003Z",
     "start_time": "2022-12-07T01:38:07.678968Z"
    }
   },
   "source": [
    "## 2.6. Outliers"
   ]
  },
  {
   "cell_type": "code",
   "execution_count": null,
   "id": "1060b50d",
   "metadata": {
    "ExecuteTime": {
     "end_time": "2022-12-13T01:40:25.293167Z",
     "start_time": "2022-12-13T01:40:24.938130Z"
    }
   },
   "outputs": [],
   "source": [
    "plt.figure(figsize=(15, 5))\n",
    "f_flot = feature_float.copy() \n",
    "f_flot.append(target)\n",
    " \n",
    "plt.subplot(1, 2, 1)\n",
    "sns.boxplot(data=df2_train, y='idade', x=target);\n",
    "\n",
    "plt.subplot(1, 2, 2)\n",
    "sns.boxplot( data=df2_train, y='ncontatos', x=target);"
   ]
  },
  {
   "cell_type": "markdown",
   "id": "79fdba5e",
   "metadata": {},
   "source": [
    "<div class=\"alert alert-block alert-info\" style=\"border-radius:15px\">\n",
    "<p style=\"color: black; font-family: Arial Black\">NOTA:</p>\n",
    "    \n",
    "Temos os seguintes ponto: \n",
    "- Ambas variáveis tem outliers; \n",
    "- Visualmente a variável idade em ambas classe tem a mesma mediana.  <p>\n",
    "    \n",
    "Vamos fazer os boxplots em relação as variáveis categórica: <p>    \n",
    "\n",
    "</div>"
   ]
  },
  {
   "cell_type": "markdown",
   "id": "bebf6404",
   "metadata": {},
   "source": [
    "<p style=\"color: black; font-family: Arial Black\"> - IDADE</p>"
   ]
  },
  {
   "cell_type": "code",
   "execution_count": null,
   "id": "d74217b0",
   "metadata": {
    "ExecuteTime": {
     "end_time": "2022-12-13T01:40:32.887594Z",
     "start_time": "2022-12-13T01:40:28.689590Z"
    },
    "scrolled": false
   },
   "outputs": [],
   "source": [
    "sns.set(style=\"darkgrid\")\n",
    "plt.figure(figsize=(30,60))\n",
    "row = int(len(feature_cat)/2)+1\n",
    "\n",
    "for i, col in enumerate(feature_cat):    \n",
    "    plt.subplot(row, 2, i+1)        \n",
    "    sns.boxplot(data=df2_train, y='idade', x=col, hue=target)\n",
    "    plt.title(col, fontsize=20)\n",
    "    plt.xlabel('')\n",
    "    plt.ylabel('') \n",
    "    plt.xticks(fontsize=14, rotation=20 if i==0 else 0) ;\n",
    "    plt.yticks(fontsize=14) ;\n",
    "    \n",
    "plt.suptitle('Boxplot da variável Idade x categoricas', y=.90, fontsize=30);\n",
    "fig.tight_layout(pad=1.0);"
   ]
  },
  {
   "cell_type": "markdown",
   "id": "7a6e67af",
   "metadata": {},
   "source": [
    "<div class=\"alert alert-block alert-info\" style=\"border-radius:15px\">\n",
    "<p style=\"color: black; font-family: Arial Black\">NOTA:</p>\n",
    "  \n",
    "\n",
    "</div>"
   ]
  },
  {
   "cell_type": "markdown",
   "id": "dc967fae",
   "metadata": {},
   "source": [
    "---"
   ]
  },
  {
   "cell_type": "markdown",
   "id": "ddcee768",
   "metadata": {
    "ExecuteTime": {
     "end_time": "2022-12-08T02:16:04.127064Z",
     "start_time": "2022-12-08T02:16:04.107444Z"
    }
   },
   "source": [
    "<p style=\"color: black; font-family: Arial Black\"> - NCONTATOS</p>"
   ]
  },
  {
   "cell_type": "code",
   "execution_count": null,
   "id": "6be472f0",
   "metadata": {
    "ExecuteTime": {
     "end_time": "2022-12-13T01:41:47.221635Z",
     "start_time": "2022-12-13T01:41:43.427739Z"
    },
    "scrolled": false
   },
   "outputs": [],
   "source": [
    "sns.set(style=\"darkgrid\")\n",
    "plt.figure(figsize=(30,60))\n",
    "row = int(len(feature_cat)/2)+1\n",
    "\n",
    "for i, col in enumerate(feature_cat):    \n",
    "    plt.subplot(row, 2, i+1)        \n",
    "    sns.boxplot(data=df2_train, y='ncontatos', x=col, hue=target)\n",
    "    plt.title(col, fontsize=20)\n",
    "    plt.xlabel('')\n",
    "    plt.ylabel('') \n",
    "    plt.xticks(fontsize=14, rotation=20 if i==0 else 0) ;\n",
    "    plt.yticks(fontsize=14) ;\n",
    "    \n",
    "plt.suptitle('Boxplot da variável ncontatos x categoricas', y=.90, fontsize=30);\n",
    "fig.tight_layout(pad=1.0);"
   ]
  },
  {
   "cell_type": "markdown",
   "id": "51796445",
   "metadata": {},
   "source": [
    "<div class=\"alert alert-block alert-info\" style=\"border-radius:15px\">\n",
    "<p style=\"color: black; font-family: Arial Black\">NOTA:</p>\n",
    "  \n",
    "\n",
    "</div>"
   ]
  },
  {
   "cell_type": "markdown",
   "id": "f4eab213",
   "metadata": {},
   "source": [
    "---"
   ]
  },
  {
   "cell_type": "markdown",
   "id": "459428ba",
   "metadata": {},
   "source": [
    "## 2.7. Correlação"
   ]
  },
  {
   "cell_type": "code",
   "execution_count": null,
   "id": "dab14795",
   "metadata": {
    "ExecuteTime": {
     "end_time": "2022-12-13T01:41:55.871980Z",
     "start_time": "2022-12-13T01:41:55.387738Z"
    }
   },
   "outputs": [],
   "source": [
    "_ = df2_train.copy()\n",
    "_[target] = _[target].map({'sim':1,'não':0})\n",
    "\n",
    "sns.heatmap(_[['idade', 'ncontatos',  target]].corr(), \n",
    "            annot = True, \n",
    "            mask  = False).set_title('Correlação das variável', fontsize=15);"
   ]
  },
  {
   "cell_type": "markdown",
   "id": "c5b5bcc7",
   "metadata": {},
   "source": [
    "<div class=\"alert alert-block alert-info\" style=\"border-radius:15px\">\n",
    "<p style=\"color: black; font-family: Arial Black\">NOTA:</p>\n",
    " \n",
    "Ambas as variáveis tem baixa correlação com alvo, podemos fazer uma discretização dessas variáveis antes de remové-las da modelagem. Vamos fazer esse teste no processamento. \n",
    "    \n",
    "    \n",
    "</div>"
   ]
  },
  {
   "cell_type": "markdown",
   "id": "63c19c67",
   "metadata": {},
   "source": [
    "## 2.7. Dados Qualitativos"
   ]
  },
  {
   "cell_type": "markdown",
   "id": "5ae6a788",
   "metadata": {
    "id": "5ae6a788",
    "papermill": {
     "duration": 0.116534,
     "end_time": "2022-05-04T04:24:10.720729",
     "exception": false,
     "start_time": "2022-05-04T04:24:10.604195",
     "status": "completed"
    },
    "tags": []
   },
   "source": [
    "### 2.7.1. Proporção de variáveis"
   ]
  },
  {
   "cell_type": "code",
   "execution_count": null,
   "id": "bee76c6c",
   "metadata": {
    "ExecuteTime": {
     "end_time": "2022-12-13T01:42:13.813664Z",
     "start_time": "2022-12-13T01:42:13.697640Z"
    },
    "colab": {
     "base_uri": "https://localhost:8080/",
     "height": 344
    },
    "execution": {
     "iopub.execute_input": "2022-05-04T04:24:10.956998Z",
     "iopub.status.busy": "2022-05-04T04:24:10.956455Z",
     "iopub.status.idle": "2022-05-04T04:24:11.052924Z",
     "shell.execute_reply": "2022-05-04T04:24:11.051907Z"
    },
    "executionInfo": {
     "elapsed": 7,
     "status": "ok",
     "timestamp": 1654809098871,
     "user": {
      "displayName": "Rogério Delfim",
      "userId": "04235763959036945343"
     },
     "user_tz": 180
    },
    "id": "bee76c6c",
    "outputId": "1afcb668-edea-4c12-907a-69db6f3c23bb",
    "papermill": {
     "duration": 0.21758,
     "end_time": "2022-05-04T04:24:11.055761",
     "exception": false,
     "start_time": "2022-05-04T04:24:10.838181",
     "status": "completed"
    },
    "tags": []
   },
   "outputs": [],
   "source": [
    "fig, ax = plt.subplots(figsize=(5, 5))\n",
    "\n",
    "plt.pie([ len(feature_cat), len(feature_float)], \n",
    "        labels=['Categóricos', 'Contínuos' ],\n",
    "        textprops={'fontsize': 13},\n",
    "        autopct='%1.1f%%')\n",
    "\n",
    "#ax.axis(\"equal\")\n",
    "ax.set_title(\"Comparação variáveis continuas/categóricas \\n Dataset Treino/Teste\", fontsize=15)\n",
    "fig.set_facecolor('white')\n",
    "plt.show()"
   ]
  },
  {
   "cell_type": "markdown",
   "id": "0e3f57ce",
   "metadata": {
    "id": "0e3f57ce",
    "papermill": {
     "duration": 0.119723,
     "end_time": "2022-05-04T04:24:12.255091",
     "exception": false,
     "start_time": "2022-05-04T04:24:12.135368",
     "status": "completed"
    },
    "tags": []
   },
   "source": [
    "Vamos fazer uma contagem das observações e em cada variável categórica, para termos uma noção de como nosso conjunto de dados estar distribuído."
   ]
  },
  {
   "cell_type": "code",
   "execution_count": null,
   "id": "680684bb",
   "metadata": {
    "ExecuteTime": {
     "end_time": "2022-12-13T01:42:16.457021Z",
     "start_time": "2022-12-13T01:42:16.337754Z"
    },
    "colab": {
     "base_uri": "https://localhost:8080/"
    },
    "execution": {
     "iopub.execute_input": "2022-05-04T04:24:12.492860Z",
     "iopub.status.busy": "2022-05-04T04:24:12.492621Z",
     "iopub.status.idle": "2022-05-04T04:24:17.462007Z",
     "shell.execute_reply": "2022-05-04T04:24:17.460516Z"
    },
    "executionInfo": {
     "elapsed": 3,
     "status": "ok",
     "timestamp": 1654809101237,
     "user": {
      "displayName": "Rogério Delfim",
      "userId": "04235763959036945343"
     },
     "user_tz": 180
    },
    "id": "680684bb",
    "outputId": "947c3c11-72c5-45c5-b7be-29d568cfa8e2",
    "papermill": {
     "duration": 5.090797,
     "end_time": "2022-05-04T04:24:17.464236",
     "exception": false,
     "start_time": "2022-05-04T04:24:12.373439",
     "status": "completed"
    },
    "scrolled": false,
    "tags": []
   },
   "outputs": [],
   "source": [
    "for i in feature_cat:\n",
    "    print(\"Coluna: \",i)\n",
    "    print('-'*30)\n",
    "    print('TREINO:',  df2_train[[i]].value_counts(), '\\n') \n",
    "    print('TESTE :',  df2_test[[i]].value_counts(), \"\\n\")"
   ]
  },
  {
   "cell_type": "markdown",
   "id": "72cc1e10",
   "metadata": {
    "id": "72cc1e10",
    "papermill": {
     "duration": 0.123889,
     "end_time": "2022-05-04T04:24:23.339465",
     "exception": false,
     "start_time": "2022-05-04T04:24:23.215576",
     "status": "completed"
    },
    "tags": []
   },
   "source": [
    "<div class=\"alert alert-block alert-info\" style=\"border-radius:15px\">\n",
    "<p style=\"color: black; font-family: Arial Black\">NOTA:</p>\n",
    "    \n",
    "- A variável <b>atraso</b> tem apenas uma categorial em ambos dataset, podemos fazer a exclusão dessa variável. \n",
    "    \n",
    "Vamos dar uma olhada na correlação das variaveis categóricas, criamos uma função que calcula a matriz de coeficientes de Cramer, que permite entender a correlação entre duas variáveis categóricas em um conjunto de dados.<p>\n",
    "    \n",
    "</div>"
   ]
  },
  {
   "cell_type": "markdown",
   "id": "de56fe2a",
   "metadata": {},
   "source": [
    "### 2.7.2. Correlação\n",
    "Primeira coisa que vamos fazer é criar um novo dataset e transformar a variável <b>hora</b> em categórica, assim vamos ter uma ideia da magnetute da variável como categórica. "
   ]
  },
  {
   "cell_type": "code",
   "execution_count": null,
   "id": "39c40a8f",
   "metadata": {
    "ExecuteTime": {
     "end_time": "2022-12-13T01:47:18.840159Z",
     "start_time": "2022-12-13T01:47:17.187290Z"
    },
    "colab": {
     "base_uri": "https://localhost:8080/",
     "height": 452
    },
    "executionInfo": {
     "elapsed": 2227,
     "status": "ok",
     "timestamp": 1654809118895,
     "user": {
      "displayName": "Rogério Delfim",
      "userId": "04235763959036945343"
     },
     "user_tz": 180
    },
    "id": "39c40a8f",
    "outputId": "dd83a741-00a5-4c6e-db7e-fa573aa61c58"
   },
   "outputs": [],
   "source": [
    "df_cat         = df2_train.copy()\n",
    "f_cat          = feature_cat.copy()\n",
    "\n",
    "sns.set_theme(style=\"whitegrid\", palette=\"pastel\")\n",
    "\n",
    "plt.figure(figsize=(15,9))\n",
    "\n",
    "df         = df_cat[f_cat]\n",
    "df[target] = df_cat[target].astype(object)\n",
    "\n",
    "corr = utility.generate_category_table(df)\n",
    "mask = np.triu(np.ones_like(corr, dtype=bool))\n",
    "\n",
    "sns.heatmap(corr, annot=True, mask= mask).set_title('Correlação das variável categóricas', fontsize=17);\n",
    "\n",
    "del df"
   ]
  },
  {
   "cell_type": "markdown",
   "id": "802f9146",
   "metadata": {
    "id": "802f9146"
   },
   "source": [
    "<div class=\"alert alert-block alert-info\" style=\"border-radius:15px\">\n",
    "<p style=\"color: black; font-family: Arial Black\">NOTA:</p>\n",
    "        \n",
    "Temos uma correlação baixa entre as variáveis, uma razoavel correlação em relação a variável alvo, a variável <b>duração</b> tem a maior correlção com a variável alvo, é um indicativo que essa variável será significativa para a modelagem. <p>\n",
    "        \n",
    "Vamos fazer uma análise de cada variável. <p>\n",
    "\n",
    "</div>"
   ]
  },
  {
   "cell_type": "markdown",
   "id": "007e2fec",
   "metadata": {},
   "source": [
    "### 2.7.3. Análise univarianda"
   ]
  },
  {
   "cell_type": "code",
   "execution_count": null,
   "id": "447c31c1",
   "metadata": {
    "ExecuteTime": {
     "end_time": "2022-12-13T01:42:53.170745Z",
     "start_time": "2022-12-13T01:42:50.305822Z"
    },
    "scrolled": false
   },
   "outputs": [],
   "source": [
    "sns.set(style=\"darkgrid\")\n",
    "plt.figure(figsize=(20,50))\n",
    "\n",
    "row = int(len(feature_cat)/2)+1\n",
    "\n",
    "for i, col in enumerate(feature_cat):    \n",
    "    plt.subplot(row, 2, i+1)\n",
    "    sns.countplot(data=df2_train, y=col, hue=target, orient='v')\n",
    "    plt.title(col,  fontsize=20)\n",
    "    plt.xlabel('')\n",
    "    plt.ylabel('')\n",
    "fig.tight_layout(pad=3.0);"
   ]
  },
  {
   "cell_type": "markdown",
   "id": "e2f94923",
   "metadata": {},
   "source": [
    "<div class=\"alert alert-block alert-info\" style=\"border-radius:15px\">\n",
    "<p style=\"color: black; font-family: Arial Black\">NOTA:</p>\n",
    "  \n",
    "\n",
    "Vamos fazer uma análise mais detalhada, com o cruzamento dessas variáveis.\n",
    "\n",
    "</div>"
   ]
  },
  {
   "cell_type": "markdown",
   "id": "b9561c17",
   "metadata": {},
   "source": [
    "### 2.7.4. Análise bivariada"
   ]
  },
  {
   "cell_type": "code",
   "execution_count": null,
   "id": "3b536695",
   "metadata": {
    "ExecuteTime": {
     "end_time": "2022-12-13T01:45:10.098627Z",
     "start_time": "2022-12-13T01:45:06.964895Z"
    },
    "scrolled": false
   },
   "outputs": [],
   "source": [
    "sns.set(style=\"darkgrid\")\n",
    "plt.figure(figsize=(30,70))\n",
    "\n",
    "row = int(len(feature_cat)/2)+1\n",
    "\n",
    "for i, col in enumerate(feature_cat):    \n",
    "    plt.subplot(row, 2, i+1)    \n",
    "    sns.barplot(data=df2_train, x=col, y=\"idade\", hue=target, estimator=np.mean, ci='sd')\n",
    "    plt.title(col,  fontsize=20)\n",
    "    plt.xlabel('')\n",
    "    #plt.ylabel('')    \n",
    "    plt.xticks(fontsize=14, rotation=25 if i==0 else 0)    \n",
    "    \n",
    "fig.tight_layout(pad=1.0);"
   ]
  },
  {
   "cell_type": "markdown",
   "id": "ba52d9de",
   "metadata": {},
   "source": [
    "<div class=\"alert alert-block alert-info\" style=\"border-radius:15px\">\n",
    "<p style=\"color: black; font-family: Arial Black\">NOTA:</p>\n",
    "  \n",
    "\n",
    "- No sabado quando temos feriado aumenta a quantidade de aluguél, porém não parece ser muito significativo o feriado neste dia, porém domingo, segunda e quinta temos uma baixa significativa quando é feriado, a criação de uma variável indicando final de semana e quinta pode ser signifincativa para ajudar a identificar padrões; <p>\n",
    "\n",
    "- No inverno temos um baixa nos aluguéis, no verão temos um aumento no número de aluguéis, seguido da primavera, aqui demos um ponto importante que devemos destacar, modelagem para estação do ano pode ser um diferencial, pois podemos identificar diferenças significante visualmente.\n",
    "    \n",
    "Vamos dar uma olhada na variável <b>hora</b> em relação as variaveis categoricas.     \n",
    "</div>"
   ]
  },
  {
   "cell_type": "markdown",
   "id": "e8512041",
   "metadata": {
    "ExecuteTime": {
     "end_time": "2022-05-02T02:41:58.832609Z",
     "start_time": "2022-05-02T02:41:58.823610Z"
    },
    "id": "e8512041",
    "papermill": {
     "duration": 0.122441,
     "end_time": "2022-05-04T04:24:23.584315",
     "exception": false,
     "start_time": "2022-05-04T04:24:23.461874",
     "status": "completed"
    },
    "tags": []
   },
   "source": [
    "## 2.8. Dados Quantitativos"
   ]
  },
  {
   "cell_type": "markdown",
   "id": "89d4d391",
   "metadata": {
    "ExecuteTime": {
     "end_time": "2022-05-02T02:42:21.060547Z",
     "start_time": "2022-05-02T02:42:21.054549Z"
    },
    "id": "89d4d391",
    "papermill": {
     "duration": 0.121916,
     "end_time": "2022-05-04T04:24:23.828033",
     "exception": false,
     "start_time": "2022-05-04T04:24:23.706117",
     "status": "completed"
    },
    "tags": []
   },
   "source": [
    "### 2.8.1. Correlação\n",
    "Vamos examinar a correlação entre as variáveis."
   ]
  },
  {
   "cell_type": "code",
   "execution_count": null,
   "id": "c5771bdd",
   "metadata": {
    "ExecuteTime": {
     "end_time": "2022-12-13T01:49:58.345277Z",
     "start_time": "2022-12-13T01:49:58.105252Z"
    },
    "colab": {
     "base_uri": "https://localhost:8080/",
     "height": 511
    },
    "execution": {
     "iopub.execute_input": "2022-05-04T04:24:24.076081Z",
     "iopub.status.busy": "2022-05-04T04:24:24.075823Z",
     "iopub.status.idle": "2022-05-04T04:24:25.527308Z",
     "shell.execute_reply": "2022-05-04T04:24:25.526467Z"
    },
    "executionInfo": {
     "elapsed": 817,
     "status": "ok",
     "timestamp": 1654809130604,
     "user": {
      "displayName": "Rogério Delfim",
      "userId": "04235763959036945343"
     },
     "user_tz": 180
    },
    "id": "c5771bdd",
    "outputId": "4512e3be-a874-4055-e554-ed65bbcbf257",
    "papermill": {
     "duration": 1.576759,
     "end_time": "2022-05-04T04:24:25.529135",
     "exception": false,
     "start_time": "2022-05-04T04:24:23.952376",
     "status": "completed"
    },
    "tags": []
   },
   "outputs": [],
   "source": [
    "sns.set(style=\"whitegrid\", palette=\"pastel\")\n",
    "plt.figure(figsize=(7,5))\n",
    "_ = df2_train.copy() \n",
    "_[target] = _[target].map({'sim':1, 'não':0})\n",
    "utility.graf_feature_corr(df_         = _, \n",
    "                        annot_      = True, \n",
    "                        threshold_  = .7, \n",
    "                        print_var_  = True, \n",
    "                        print_graf_ = True, \n",
    "                        mask_       = False);"
   ]
  },
  {
   "cell_type": "markdown",
   "id": "badebb9a",
   "metadata": {
    "id": "badebb9a",
    "papermill": {
     "duration": 0.123237,
     "end_time": "2022-05-04T04:24:25.777454",
     "exception": false,
     "start_time": "2022-05-04T04:24:25.654217",
     "status": "completed"
    },
    "tags": []
   },
   "source": [
    "<div class=\"alert alert-block alert-info\">\n",
    "<p style=\"color: black; font-family: Arial Black\">NOTA:</p>\n",
    "    \n",
    "- Como podemos observar, a correlação fica entre -0.6 e 0.5%, sendo assim, não temos variáveis autocorrelacionadas, mais a frente com a criação de novas variáveis podemos ter variáveis autocorrelacionadas e voltaremos a fazer essa análise de autocorrelação. <p>\n",
    "    \n",
    "- Temos duas variáveis que tem correlação negativa com a variável alvo, são elas: <b>chuva</b> e <b>umidade</b>; <p>\n",
    "    \n",
    "- As variáveis <b>temperatua</b> e <b>hora</b> são as variávies que tem maior correlação com a variável alvo, consequentemente são as variáveis mais importantes para explicar o aluguél; <p>\n",
    "    \n",
    "- Fazendo um comparação da variável hora como númerica e quando ela foi transformada em categórica, que tem uma correlação maior. \n",
    "\n",
    "    \n",
    "</div>"
   ]
  },
  {
   "cell_type": "markdown",
   "id": "80c3a0f2",
   "metadata": {
    "ExecuteTime": {
     "end_time": "2022-06-10T20:06:12.752062Z",
     "start_time": "2022-06-10T20:06:12.737050Z"
    },
    "executionInfo": {
     "elapsed": 261,
     "status": "ok",
     "timestamp": 1654809136609,
     "user": {
      "displayName": "Rogério Delfim",
      "userId": "04235763959036945343"
     },
     "user_tz": 180
    },
    "id": "0bbgbyDUguZ3"
   },
   "source": [
    "### 2.8.3. Relação linear"
   ]
  },
  {
   "cell_type": "code",
   "execution_count": null,
   "id": "d2c3f4f3",
   "metadata": {
    "ExecuteTime": {
     "end_time": "2022-12-04T03:55:13.925847Z",
     "start_time": "2022-12-04T03:55:13.910811Z"
    }
   },
   "outputs": [],
   "source": [
    "sns.set(style=\"darkgrid\")"
   ]
  },
  {
   "cell_type": "code",
   "execution_count": null,
   "id": "e84950f8",
   "metadata": {
    "ExecuteTime": {
     "end_time": "2022-12-07T03:48:46.809548Z",
     "start_time": "2022-12-07T03:48:42.222506Z"
    },
    "colab": {
     "base_uri": "https://localhost:8080/",
     "height": 1000
    },
    "executionInfo": {
     "elapsed": 6383,
     "status": "ok",
     "timestamp": 1654809143849,
     "user": {
      "displayName": "Rogério Delfim",
      "userId": "04235763959036945343"
     },
     "user_tz": 180
    },
    "id": "e84950f8",
    "outputId": "d58f9f29-c38e-4da0-d1f2-2f2109222a2f"
   },
   "outputs": [],
   "source": [
    "row    = int(len(feature_float)/2+1) \n",
    "fig,ax = plt.subplots(row,2,figsize=(15,15))\n",
    "l      = 0 \n",
    "c      = 0 \n",
    "\n",
    "for i, col in enumerate(feature_float):\n",
    "    sns.regplot(data        = df2_train, \n",
    "                x           = col, \n",
    "                y           = target,  \n",
    "                scatter_kws = {'alpha':0.1}, \n",
    "                ax          = ax[l][c], \n",
    "                color       = '#3f72af')\n",
    "    \n",
    "    c  = 1 if c==0 else 0    \n",
    "    l += 1 if i%2==1 else 0\n",
    "    \n",
    "plt.suptitle('\\n Análise de Correlação do Aluguél', fontsize=20)\n",
    "fig.tight_layout(pad=3.0)"
   ]
  },
  {
   "cell_type": "markdown",
   "id": "9fe30e4e",
   "metadata": {},
   "source": [
    "<div class=\"alert alert-block alert-info\">\n",
    "<p style=\"color: black; font-family: Arial Black\">NOTA:</p>\n",
    "\n",
    "- No primeiro gráfico, observamos um crescimento do aluguél principlamente entre as 10h até as 18h, temos uma correlação positiva, com essa pequena análise podemos organizar nosso fluxo de trabalha, isto é, redirecinando os funciorários para o fluxo da tarde para um melhor atendimento, um ponto importante a destacar é fluxo alto na parte da manhã entre 6h até as 8h; <p>\n",
    "\n",
    "- Obseservamos no segungo gráfico, quando a temperatura aumenta temos um aumento no aluguél, aqui também temos uma correlação positiva, com essa análise pode nos programar para a temporada do verão que tem maiores temperaturas, sendo assim, podemos contratar mais pessoas para a temporada do verão; <p>\n",
    "\n",
    "- No terceiro e quanto gráfico, temos uma correlação negativa, quanto maior for nivel de chuva e umidade do ar, temos uma baixa na quantidade de aluguém, um ponto importante a destacar é que temos muitos valores com zeros na variável chuva, com essa análise pedemos nos programar melhor para temporada de baixa, que é no inverno onde temos muita chuva e umidade alta, neste caso podemos reduzir o fluxo de contratação de pessoas para o atendimento. <p>\n",
    "\n",
    "- No quinto, sexto e sétimo gráfico, temos uma correlação positiva, quando a variável sol, visibilidade e vento forem altas temos um aumento na quantidade de aluguém, na variável sol podemos destacar uma alta quantidade de zero, 50% de acordo com a estatistica descritiva, isso pode ser um indicativo que os valores ausentes foram preenchidos com zeros, para temos certeza precisamos fazer uma análise junto com a variável temperatura, se a temperatura for alta e a variável sol for zero, vamos comprovar a afimação; <p>\n",
    "\n",
    "- No gráfico de visibilidade, temos pontos discrepante no final do gráfico que merece uma análise aprofundada. <p>\n",
    "  \n",
    "  \n",
    "Vamos nos aprofundar na análise das variáveis: <b>chuva, sol e visibilidade</b>, as quais tem alguns pontos a serem esclarecidos.  \n",
    "\n",
    "</div>"
   ]
  },
  {
   "cell_type": "markdown",
   "id": "0a9cc758",
   "metadata": {},
   "source": [
    "#### Pontos de esclarecimento"
   ]
  },
  {
   "cell_type": "markdown",
   "id": "032f7422",
   "metadata": {
    "ExecuteTime": {
     "end_time": "2022-07-09T22:16:25.189868Z",
     "start_time": "2022-07-09T22:16:25.161873Z"
    }
   },
   "source": [
    "- <p style=\"color: black; font-family: Arial Black\"> Variável Chuva"
   ]
  },
  {
   "cell_type": "code",
   "execution_count": null,
   "id": "00403b04",
   "metadata": {
    "ExecuteTime": {
     "end_time": "2022-12-04T03:55:29.818340Z",
     "start_time": "2022-12-04T03:55:28.665662Z"
    }
   },
   "outputs": [],
   "source": [
    "plt.figure(figsize=(15,10))\n",
    "\n",
    "plt.subplot(2,2,1)\n",
    "sns.regplot(data=df2_train, x='chuva', y=target, color='#3f72af', scatter_kws={'alpha':0.2})\n",
    "plt.title('Gráfico com valores zerados')\n",
    "\n",
    "plt.subplot(2,2,2)\n",
    "_ = df2_train[df2_train['chuva']>0]\n",
    "sns.regplot(data=_, x='chuva', y=target, color='#3f72af', scatter_kws={'alpha':0.2})\n",
    "plt.title('Gráfico sem os valores zerados')\n",
    "\n",
    "plt.subplot(2,2,3)\n",
    "sns.heatmap(df2_train[['aluguéis','chuva']].corr(), annot=True, cmap=\"RdBu\", \n",
    "            annot_kws={\"weight\": \"bold\", \"fontsize\":13})\n",
    "\n",
    "plt.subplot(2,2,4)\n",
    "_ = df2_train[df2_train['chuva']>0][['aluguéis','chuva']].corr()\n",
    "sns.heatmap(_, annot=True, cmap=\"RdBu\", \n",
    "            annot_kws={\"weight\": \"bold\", \"fontsize\":13})\n",
    "\n",
    "plt.suptitle('\\n Análise da variável chuva', fontsize=20)\n",
    "fig.tight_layout(pad=3.0)"
   ]
  },
  {
   "cell_type": "markdown",
   "id": "c06c7c2a",
   "metadata": {
    "ExecuteTime": {
     "end_time": "2022-07-09T22:56:24.157740Z",
     "start_time": "2022-07-09T22:56:23.984770Z"
    }
   },
   "source": [
    "<div class=\"alert alert-block alert-info\">\n",
    "<p style=\"color: black; font-family: Arial Black\">NOTA:</p>\n",
    "\n",
    "Ao remover os da variável chuva, temos um aumento na correção negativamente, agora que sabemos que o zero na variável tem um impacto na variável de mais informações, vamos dar uma olhada nas estações e temperatura. \n",
    "    \n",
    "</div>"
   ]
  },
  {
   "cell_type": "code",
   "execution_count": null,
   "id": "b69b6cfc",
   "metadata": {
    "ExecuteTime": {
     "end_time": "2022-07-14T22:24:37.026973Z",
     "start_time": "2022-07-14T22:24:36.982964Z"
    }
   },
   "outputs": [],
   "source": [
    "filtro = (df2_train['chuva']==0) \n",
    "\n",
    "_ = df2_train[filtro].groupby('estação').agg({'chuva'       : np.mean, \n",
    "                                          'temperatura' : np.mean,\n",
    "                                          'sol'         : np.mean, \n",
    "                                          'umidade'     : np.mean, \n",
    "                                          'estação'     : 'count'})\n",
    "\n",
    "display(_)\n",
    "\n",
    "filtro = (df2_train['chuva']>0) \n",
    "_ = df2_train[filtro].groupby('estação').agg({'chuva'       : np.mean, \n",
    "                                          'temperatura' : np.mean,\n",
    "                                          'sol'         : np.mean, \n",
    "                                          'umidade'     : np.mean, \n",
    "                                          'estação'     : 'count'})\n",
    "\n",
    "display(_)\n",
    "\n",
    "del _"
   ]
  },
  {
   "cell_type": "markdown",
   "id": "60a27a5d",
   "metadata": {
    "ExecuteTime": {
     "end_time": "2022-07-10T00:02:23.030466Z",
     "start_time": "2022-07-10T00:02:23.018467Z"
    }
   },
   "source": [
    "<div class=\"alert alert-block alert-info\">\n",
    "<p style=\"color: black; font-family: Arial Black\">NOTA:</p>\n",
    "\n",
    "Na primeira tabela observamos que temos em média 1050 valores com zero nas estações do ano, na segunda tabela temos as estações do ano com a sua média na variável chuva, um pergunta que eu me fiz: Imputando um valor como a média, max ou outro valor estatatísco na variável chuva tem aumento na correlação? <p> <br>\n",
    "    \n",
    "    \n",
    "Vamos fazer esse teste em apenas no verão.\n",
    "    \n",
    "</div>"
   ]
  },
  {
   "cell_type": "code",
   "execution_count": null,
   "id": "f0106718",
   "metadata": {
    "ExecuteTime": {
     "end_time": "2022-07-14T22:24:37.712994Z",
     "start_time": "2022-07-14T22:24:37.028956Z"
    },
    "scrolled": false
   },
   "outputs": [],
   "source": [
    "df_aux   = df2_train.copy()\n",
    "filtro_1 = (df_aux['chuva']==0) & ((df_aux['estação']=='verão')) \n",
    "filtro_2 = (df_aux['chuva']>0) & ((df_aux['estação']=='verão')) \n",
    "\n",
    "df_aux_min    = df_aux.copy() \n",
    "df_aux_max    = df_aux.copy() \n",
    "df_aux_mean   = df_aux.copy() \n",
    "df_aux_median = df_aux.copy()\n",
    "\n",
    "df_aux_min['chuva'][filtro_1]    = df_aux[filtro_2]['chuva'].min()\n",
    "df_aux_max['chuva'][filtro_1]    = df_aux[filtro_2]['chuva'].max()\n",
    "df_aux_mean['chuva'][filtro_1]   = df_aux[filtro_2]['chuva'].mean()\n",
    "df_aux_median['chuva'][filtro_1] = df_aux[filtro_2]['chuva'].median()\n",
    "\n",
    "plt.figure(figsize=(20,4))\n",
    "\n",
    "plt.subplot(1,4,1)\n",
    "sns.heatmap(df_aux_min[['aluguéis','chuva']].corr(), annot=True, cmap=\"RdBu\", \n",
    "            annot_kws={\"weight\": \"bold\", \"fontsize\":13})\n",
    "plt.title('Min')\n",
    "\n",
    "plt.subplot(1,4,2)\n",
    "sns.heatmap(df_aux_max[['aluguéis','chuva']].corr(), annot=True, cmap=\"RdBu\", \n",
    "            annot_kws={\"weight\": \"bold\", \"fontsize\":13})\n",
    "plt.title('Max')\n",
    "\n",
    "plt.subplot(1,4,3)\n",
    "sns.heatmap(df_aux_mean[['aluguéis','chuva']].corr(), annot=True, cmap=\"RdBu\", \n",
    "            annot_kws={\"weight\": \"bold\", \"fontsize\":13})\n",
    "plt.title('Média')\n",
    "\n",
    "plt.subplot(1,4,4)\n",
    "sns.heatmap(df_aux_median[['aluguéis','chuva']].corr(), annot=True, cmap=\"RdBu\", \n",
    "            annot_kws={\"weight\": \"bold\", \"fontsize\":13})\n",
    "plt.title('Mediana');"
   ]
  },
  {
   "cell_type": "markdown",
   "id": "ef8092fd",
   "metadata": {
    "ExecuteTime": {
     "end_time": "2022-07-10T00:22:58.120330Z",
     "start_time": "2022-07-10T00:22:57.944331Z"
    }
   },
   "source": [
    "<div class=\"alert alert-block alert-info\">\n",
    "<p style=\"color: black; font-family: Arial Black\">NOTA:</p>\n",
    "\n",
    "Acima podemos observar, que ao alterarmos o valor zero na variável chuva quando a estação é verão, passamos a ter uma correlação positiva, saímos de de -0.17 para 0.32, com alteração confirmamos foi imputado na variável chuva.       \n",
    "    \n",
    "</div>"
   ]
  },
  {
   "cell_type": "markdown",
   "id": "ea43d793",
   "metadata": {},
   "source": [
    "- <p style=\"color: black; font-family: Arial Black\"> Variável Sol"
   ]
  },
  {
   "cell_type": "code",
   "execution_count": null,
   "id": "1f102af6",
   "metadata": {
    "ExecuteTime": {
     "end_time": "2022-07-14T22:24:39.180963Z",
     "start_time": "2022-07-14T22:24:37.715985Z"
    }
   },
   "outputs": [],
   "source": [
    "plt.figure(figsize=(15,10))\n",
    "\n",
    "plt.subplot(2,2,1)\n",
    "sns.regplot(data=df2_train, x='sol', y=target, color='#3f72af', scatter_kws={'alpha':0.2})\n",
    "plt.title('Gráfico com valores zerados')\n",
    "\n",
    "plt.subplot(2,2,2)\n",
    "_ = df2_train[df2_train['sol']>0]\n",
    "sns.regplot(data=_, x='sol', y=target, color='#3f72af', scatter_kws={'alpha':0.2})\n",
    "plt.title('Gráfico sem os valores zerados')\n",
    "\n",
    "plt.subplot(2,2,3)\n",
    "sns.heatmap(df2_train[['aluguéis','sol']].corr(), annot=True, cmap=\"RdBu\", \n",
    "            annot_kws={\"weight\": \"bold\", \"fontsize\":13})\n",
    "\n",
    "plt.subplot(2,2,4)\n",
    "_ = df2_train[df2_train['sol']>0][['aluguéis','sol']].corr()\n",
    "sns.heatmap(_, annot=True, cmap=\"RdBu\", \n",
    "            annot_kws={\"weight\": \"bold\", \"fontsize\":13})\n",
    "\n",
    "plt.suptitle('\\n Análise da variável sol', fontsize=20)\n",
    "fig.tight_layout(pad=3.0)"
   ]
  },
  {
   "cell_type": "markdown",
   "id": "691e3ef5",
   "metadata": {},
   "source": [
    "<div class=\"alert alert-block alert-info\">\n",
    "<p style=\"color: black; font-family: Arial Black\">NOTA:</p>\n",
    "\n",
    "Observamos nos gráficos acima, que a remoção do valor zero da variável **sol** tem efeito na correlação, vamos fazer o mesmo teste que fizemos na variável chuva, a imputação de valor estatístico.  \n",
    "    \n",
    "</div>"
   ]
  },
  {
   "cell_type": "code",
   "execution_count": null,
   "id": "e7cdbbfa",
   "metadata": {
    "ExecuteTime": {
     "end_time": "2022-07-14T22:24:39.878993Z",
     "start_time": "2022-07-14T22:24:39.183964Z"
    }
   },
   "outputs": [],
   "source": [
    "df_aux   = df2_train.copy()\n",
    "filtro_1 = (df_aux['sol']==0) & ((df_aux['estação']=='verão')) \n",
    "filtro_2 = (df_aux['sol']>0) & ((df_aux['estação']=='verão')) \n",
    "\n",
    "df_aux_min    = df_aux.copy() \n",
    "df_aux_max    = df_aux.copy() \n",
    "df_aux_mean   = df_aux.copy() \n",
    "df_aux_median = df_aux.copy()\n",
    "\n",
    "df_aux_min['sol'][filtro_1]    = df_aux[filtro_2]['sol'].min()\n",
    "df_aux_max['sol'][filtro_1]    = df_aux[filtro_2]['sol'].max()\n",
    "df_aux_mean['sol'][filtro_1]   = df_aux[filtro_2]['sol'].mean()\n",
    "df_aux_median['sol'][filtro_1] = df_aux[filtro_2]['sol'].median()\n",
    "\n",
    "plt.figure(figsize=(20,4))\n",
    "\n",
    "plt.subplot(1,4,1)\n",
    "sns.heatmap(df_aux_min[['aluguéis','sol']].corr(), annot=True, cmap=\"RdBu\", \n",
    "            annot_kws={\"weight\": \"bold\", \"fontsize\":13})\n",
    "plt.title('Min')\n",
    "\n",
    "plt.subplot(1,4,2)\n",
    "sns.heatmap(df_aux_max[['aluguéis','sol']].corr(), annot=True, cmap=\"RdBu\", \n",
    "            annot_kws={\"weight\": \"bold\", \"fontsize\":13})\n",
    "plt.title('Max')\n",
    "\n",
    "plt.subplot(1,4,3)\n",
    "sns.heatmap(df_aux_mean[['aluguéis','sol']].corr(), annot=True, cmap=\"RdBu\", \n",
    "            annot_kws={\"weight\": \"bold\", \"fontsize\":13})\n",
    "plt.title('Média')\n",
    "\n",
    "plt.subplot(1,4,4)\n",
    "sns.heatmap(df_aux_median[['aluguéis','sol']].corr(), annot=True, cmap=\"RdBu\", \n",
    "            annot_kws={\"weight\": \"bold\", \"fontsize\":13})\n",
    "plt.title('Mediana');"
   ]
  },
  {
   "cell_type": "markdown",
   "id": "dfcd97a0",
   "metadata": {
    "ExecuteTime": {
     "end_time": "2022-07-10T01:09:31.681624Z",
     "start_time": "2022-07-10T01:09:31.669630Z"
    }
   },
   "source": [
    "<div class=\"alert alert-block alert-info\">\n",
    "<p style=\"color: black; font-family: Arial Black\">NOTA:</p>\n",
    "\n",
    "A imputação da média ou mediana aumenta a correlação da variável com o alvo de 0.26 para 0.28.\n",
    "\n",
    "</div>"
   ]
  },
  {
   "cell_type": "markdown",
   "id": "531de316",
   "metadata": {},
   "source": [
    "- Variável Visibilidade"
   ]
  },
  {
   "cell_type": "code",
   "execution_count": null,
   "id": "7663d7ac",
   "metadata": {
    "ExecuteTime": {
     "end_time": "2022-07-14T22:24:39.894956Z",
     "start_time": "2022-07-14T22:24:39.880956Z"
    }
   },
   "outputs": [],
   "source": [
    "df2_train[df2_train['visibilidade']>=.97]['visibilidade'].describe() "
   ]
  },
  {
   "cell_type": "code",
   "execution_count": null,
   "id": "c9feb881",
   "metadata": {
    "ExecuteTime": {
     "end_time": "2022-07-14T22:24:41.580957Z",
     "start_time": "2022-07-14T22:24:39.896959Z"
    },
    "code_folding": [],
    "run_control": {
     "marked": false
    }
   },
   "outputs": [],
   "source": [
    "plt.figure(figsize=(15,10))\n",
    "\n",
    "plt.subplot(2,2,1)\n",
    "sns.regplot(data=df2_train, x='visibilidade', y=target, color='#3f72af', scatter_kws={'alpha':0.2})\n",
    "plt.title('Gráfico com valores zerados')\n",
    "\n",
    "plt.subplot(2,2,2)\n",
    "_ = df2_train[df2_train['visibilidade']<.97]\n",
    "sns.regplot(data=_, x='visibilidade', y=target, color='#3f72af', scatter_kws={'alpha':0.2})\n",
    "plt.title('Gráfico sem os valores zerados')\n",
    "\n",
    "plt.subplot(2,2,3)\n",
    "sns.heatmap(df2_train[['aluguéis','visibilidade']].corr(), annot=True, cmap=\"RdBu\", \n",
    "            annot_kws={\"weight\": \"bold\", \"fontsize\":13})\n",
    "\n",
    "plt.subplot(2,2,4)\n",
    "_ = df2_train[df2_train['visibilidade']<.97][['aluguéis','sol']].corr()\n",
    "sns.heatmap(_, annot=True, cmap=\"RdBu\", \n",
    "            annot_kws={\"weight\": \"bold\", \"fontsize\":13})\n",
    "\n",
    "plt.suptitle('\\n Análise da variável visibilidade', fontsize=20)\n",
    "fig.tight_layout(pad=3.0)  "
   ]
  },
  {
   "cell_type": "markdown",
   "id": "b484d3ff",
   "metadata": {
    "ExecuteTime": {
     "end_time": "2022-07-09T22:02:04.838274Z",
     "start_time": "2022-07-09T22:02:04.816236Z"
    }
   },
   "source": [
    "<div class=\"alert alert-block alert-info\">\n",
    "<p style=\"color: black; font-family: Arial Black\">NOTA:</p>\n",
    "\n",
    "Observamos nos gráficos acima, que a remoção do maior valor da variável <b>visibilidade</b> tem efeito na correlação, vamos fazer o mesmo teste que fizemos na variável chuva, a imputação de valor estatístico.  \n",
    "    \n",
    "</div>"
   ]
  },
  {
   "cell_type": "code",
   "execution_count": null,
   "id": "565861f9",
   "metadata": {
    "ExecuteTime": {
     "end_time": "2022-07-14T22:24:42.290992Z",
     "start_time": "2022-07-14T22:24:41.582957Z"
    }
   },
   "outputs": [],
   "source": [
    "df_aux   = df2_train.copy()\n",
    "filtro_1 = (df_aux['visibilidade']==0) & ((df_aux['estação']=='verão')) \n",
    "filtro_2 = (df_aux['visibilidade']>0) & ((df_aux['estação']=='verão')) \n",
    "\n",
    "df_aux_min    = df_aux.copy() \n",
    "df_aux_max    = df_aux.copy() \n",
    "df_aux_mean   = df_aux.copy() \n",
    "df_aux_median = df_aux.copy()\n",
    "\n",
    "df_aux_min['visibilidade'][filtro_1]    = df_aux[filtro_2]['visibilidade'].min()\n",
    "df_aux_max['visibilidade'][filtro_1]    = df_aux[filtro_2]['visibilidade'].max()\n",
    "df_aux_mean['visibilidade'][filtro_1]   = df_aux[filtro_2]['visibilidade'].mean()\n",
    "df_aux_median['visibilidade'][filtro_1] = df_aux[filtro_2]['visibilidade'].median()\n",
    "\n",
    "plt.figure(figsize=(20,4))\n",
    "\n",
    "plt.subplot(1,4,1)\n",
    "sns.heatmap(df_aux_min[['aluguéis','visibilidade']].corr(), annot=True, cmap=\"RdBu\", \n",
    "            annot_kws={\"weight\": \"bold\", \"fontsize\":13})\n",
    "plt.title('Min')\n",
    "\n",
    "plt.subplot(1,4,2)\n",
    "sns.heatmap(df_aux_max[['aluguéis','visibilidade']].corr(), annot=True, cmap=\"RdBu\", \n",
    "            annot_kws={\"weight\": \"bold\", \"fontsize\":13})\n",
    "plt.title('Max')\n",
    "\n",
    "plt.subplot(1,4,3)\n",
    "sns.heatmap(df_aux_mean[['aluguéis','visibilidade']].corr(), annot=True, cmap=\"RdBu\", \n",
    "            annot_kws={\"weight\": \"bold\", \"fontsize\":13})\n",
    "plt.title('Média')\n",
    "\n",
    "plt.subplot(1,4,4)\n",
    "sns.heatmap(df_aux_median[['aluguéis','visibilidade']].corr(), annot=True, cmap=\"RdBu\", \n",
    "            annot_kws={\"weight\": \"bold\", \"fontsize\":13})\n",
    "plt.title('Mediana');"
   ]
  },
  {
   "cell_type": "markdown",
   "id": "699845a2",
   "metadata": {
    "ExecuteTime": {
     "end_time": "2022-07-10T01:22:23.073303Z",
     "start_time": "2022-07-10T01:22:23.053312Z"
    }
   },
   "source": [
    "<div class=\"alert alert-block alert-info\">\n",
    "<p style=\"color: black; font-family: Arial Black\">NOTA:</p>\n",
    "\n",
    "Não tivemos melhoria com imputação de valores estatístico, outros testes serão feitos no processo de modelagem, pois na remoção obtivemos uma melhoria.  \n",
    "\n",
    "Vamos plotar um gráfico com todas interações entre as variáveis, para tentarmar identificar algum padrão entre elas. \n",
    "    \n",
    "</div>"
   ]
  },
  {
   "cell_type": "code",
   "execution_count": null,
   "id": "f0faf4c9",
   "metadata": {
    "ExecuteTime": {
     "end_time": "2022-07-14T22:24:47.195960Z",
     "start_time": "2022-07-14T22:24:42.293959Z"
    }
   },
   "outputs": [],
   "source": [
    "pd.plotting.scatter_matrix(df2_train, alpha=0.3, figsize=(20,15), diagonal='kde');"
   ]
  },
  {
   "cell_type": "markdown",
   "id": "cf809153",
   "metadata": {},
   "source": [
    "<div class=\"alert alert-block alert-info\">\n",
    "<p style=\"color: black; font-family: Arial Black\">NOTA:</p>\n",
    " \n",
    "- As variáveis sol e hora tem forma diferente dos outros pares de variáveis, a combinação dessas variáveis podem ajudar a identificar algum padrão, no processo de feature engineering vamos fazer alguns combinações com essas variáveis. \n",
    "\n",
    "- Além das correlações lineares que foram abordadas anteriormente, não identifico outros padrões. \n",
    "\n",
    "\n",
    "</div>"
   ]
  },
  {
   "cell_type": "markdown",
   "id": "eedac111",
   "metadata": {},
   "source": [
    "### 2.8.4. Outliers"
   ]
  },
  {
   "cell_type": "code",
   "execution_count": null,
   "id": "2e95be89",
   "metadata": {
    "ExecuteTime": {
     "end_time": "2022-07-14T22:24:47.737290Z",
     "start_time": "2022-07-14T22:24:47.199959Z"
    },
    "scrolled": false
   },
   "outputs": [],
   "source": [
    "plt.figure(figsize=(12, 10))\n",
    "f_flot = feature_float.copy() \n",
    "f_flot.append(target)\n",
    "\n",
    "row = int(len(f_flot)/2)+1\n",
    "\n",
    "for i, col in enumerate(f_flot):   \n",
    "    plt.subplot(row, 2, i+1)\n",
    "    sns.boxplot(y=col, data=df2_train);"
   ]
  },
  {
   "cell_type": "markdown",
   "id": "d03cb27c",
   "metadata": {},
   "source": [
    "<div class=\"alert alert-block alert-info\">\n",
    "<p style=\"color: black; font-family: Arial Black\">NOTA:</p>\n",
    "    \n",
    "Temos quatro variáveis com outliers na parte superior (acima da mediana), entre elas a variável <b>alvo</b>, o tratamento dos outliers pode resulta na melhoria do apredizado dos modelos, sendo assim, devemos fazer uma análise e utilizar algumas tecnicas de tratamento de outliers como: \n",
    "- Intervalo interquartil; \n",
    "- Z-score;\n",
    "- Envelope Elíptico;\n",
    "- Isolation Forest.   <p>\n",
    "    \n",
    "Vamos dar uma olhada nos outliers com as variáveis qualitativas. \n",
    "    \n",
    "    \n",
    "</div>"
   ]
  },
  {
   "cell_type": "code",
   "execution_count": null,
   "id": "3462c71f",
   "metadata": {
    "ExecuteTime": {
     "end_time": "2022-07-14T22:24:51.320308Z",
     "start_time": "2022-07-14T22:24:47.740283Z"
    },
    "scrolled": false
   },
   "outputs": [],
   "source": [
    "plt.figure(figsize=(15, 20))\n",
    "f_flot = feature_float.copy() \n",
    "f_flot.append(target)\n",
    "\n",
    "row = int(len(f_flot)/2)+1\n",
    "\n",
    "for col_x in feature_cat:           \n",
    "    plt.figure(figsize=(20, 20))           \n",
    "    for i, col in enumerate(f_flot):   \n",
    "        plt.subplot(row, 2, i+1)\n",
    "        sns.boxplot(y=col, x=col_x, data=df2_train)\n",
    "        plt.xlabel('')\n",
    "\n",
    "    plt.suptitle('Variável {}'.format(col_x), fontsize=20); \n",
    "    #fig.tight_layout(pad=1.0);"
   ]
  },
  {
   "cell_type": "markdown",
   "id": "61df0ee4",
   "metadata": {},
   "source": [
    "<div class=\"alert alert-block alert-info\">\n",
    "<p style=\"color: black; font-family: Arial Black\">NOTA:</p>\n",
    "    \n",
    "Um ponto importante que podemos destacar em relação as variáveis: <b>chuva, sol e vento</b>, que os outliers dessas variáveis podem ser resolvidos com os testes que forão realizaod no processo anterior, isto é, com a imputação de valores estatatíscos ou a utilização de um algoritmos, em relação a variável <b>alvo</b> precisamos fazer alguns testes de normalização e tratamento dos outliers.  \n",
    "    \n",
    "</div>"
   ]
  },
  {
   "cell_type": "markdown",
   "id": "d9c99ac7",
   "metadata": {
    "ExecuteTime": {
     "end_time": "2022-05-02T02:51:23.699986Z",
     "start_time": "2022-05-02T02:51:23.685019Z"
    },
    "id": "d9c99ac7",
    "papermill": {
     "duration": 0.124984,
     "end_time": "2022-05-04T04:24:26.025993",
     "exception": false,
     "start_time": "2022-05-04T04:24:25.901009",
     "status": "completed"
    },
    "tags": []
   },
   "source": [
    "## 2.9. Variáveis Alvo \n"
   ]
  },
  {
   "cell_type": "markdown",
   "id": "29c1666d",
   "metadata": {
    "ExecuteTime": {
     "end_time": "2022-06-12T01:06:03.060993Z",
     "start_time": "2022-06-12T01:06:03.047964Z"
    }
   },
   "source": [
    "### 2.9.1. Teste de Normalidade\n",
    "Para o teste de normalidade vamos utilizar o **Kolmogorov-Smirnov** da biblioteca do sklearn."
   ]
  },
  {
   "cell_type": "code",
   "execution_count": null,
   "id": "214ae306",
   "metadata": {
    "ExecuteTime": {
     "end_time": "2022-07-14T22:24:51.383316Z",
     "start_time": "2022-07-14T22:24:51.368282Z"
    }
   },
   "outputs": [],
   "source": [
    "test_ks   = stats.kstest(df2_train[target], 'norm')\n",
    "statistic = test_ks[0]\n",
    "pvalue    = test_ks[1]\n",
    "\n",
    "print('Estatística: {:2.8f}'.format(statistic))\n",
    "print('P-value    : {:2.8f}'.format(pvalue))\n",
    "print()\n",
    "\n",
    "msg = 'Com nível de significância de 0.05 e confiança \\nde 95%, os dados {} normalmente distribuidos.'\n",
    "txt = 'são'\n",
    "if pvalue<0.05: \n",
    "    txt = 'não são'\n",
    "    \n",
    "print(msg.format(txt))"
   ]
  },
  {
   "cell_type": "markdown",
   "id": "4641c4a6",
   "metadata": {
    "ExecuteTime": {
     "end_time": "2022-06-12T00:47:17.278427Z",
     "start_time": "2022-06-12T00:47:17.260422Z"
    }
   },
   "source": [
    "### 2.9.2. Transformações "
   ]
  },
  {
   "cell_type": "code",
   "execution_count": null,
   "id": "7c9634ea",
   "metadata": {
    "ExecuteTime": {
     "end_time": "2022-07-14T22:24:57.605752Z",
     "start_time": "2022-07-14T22:24:55.174218Z"
    },
    "colab": {
     "base_uri": "https://localhost:8080/",
     "height": 406
    },
    "executionInfo": {
     "elapsed": 2126,
     "status": "ok",
     "timestamp": 1654809147168,
     "user": {
      "displayName": "Rogério Delfim",
      "userId": "04235763959036945343"
     },
     "user_tz": 180
    },
    "id": "7c9634ea",
    "outputId": "af90669e-34f9-4a23-9719-9f1d1b0d68e4"
   },
   "outputs": [],
   "source": [
    "power  = PowerTransformer(method='box-cox') # \n",
    "y_ori  = df1_train[target] \n",
    "y_log  = np.log1p(y_ori)\n",
    "y_sqr  = np.sqrt(y_ori)\n",
    "y_bcox = pd.DataFrame(power.fit_transform(pd.DataFrame(y_ori)), columns=['y'])['y']\n",
    "label  = ['Sem transformação','Log','Raiz quandrada', 'Box-Cox']\n",
    "\n",
    "list_feature_trans = [y_ori, y_log, y_sqr, y_bcox]\n",
    "\n",
    "plt.figure(figsize=(20,12))\n",
    "\n",
    "msg = 'Normal dist. ($\\mu=$ {:.2f} and $\\sigma=$ {:.2f} )'\n",
    "\n",
    "for i, v in enumerate(list_feature_trans):\n",
    "    plt.subplot(3,4,i+1)\n",
    "    (mu, sigma) = norm.fit(v)        \n",
    "    sns.distplot(v, kde=True, hist=True, fit=norm)\n",
    "    plt.legend([msg.format(mu, sigma)],loc='best')\n",
    "    plt.xlabel('')\n",
    "    plt.title('{}'.format(label[i]), fontsize=16)\n",
    "    \n",
    "    plt.subplot(3,4,i+5)\n",
    "    sns.boxplot(y=v)\n",
    "    \n",
    "    plt.subplot(3,4,i+9)\n",
    "    res = stats.probplot(v, plot=plt)\n",
    "    plt.xlabel('')\n",
    "    plt.title('')\n",
    "\n",
    "plt.suptitle('Transformação da variável alvo ({})'.format(target), fontsize=20)\n",
    "fig.tight_layout(pad=1.0);"
   ]
  },
  {
   "cell_type": "markdown",
   "id": "d0b38548",
   "metadata": {
    "ExecuteTime": {
     "end_time": "2022-06-11T21:54:34.632339Z",
     "start_time": "2022-06-11T21:54:34.613305Z"
    }
   },
   "source": [
    "<div class=\"alert alert-block alert-info\">\n",
    "<p style=\"color: black; font-family: Arial Black\">NOTA:</p>\n",
    "    \n",
    "Acima fizemos três transformações na variável alvo: log, raiz quadrada e box-cox, a primeira coluna é a variável sem tranformação, que tem uma distribuição assimétrica positiva com muitos outliers, no gráfico de probabilidade observamos que os valores não se comportam muito bem, indicado a não normalidade dos dados, em relação as transformações temos:   \n",
    "    \n",
    "- A transformação de log faz com que os dados tem uma distribuição assimétrica a esqueda e não consegue lidar muito bem com os outliers; <p>\n",
    "    \n",
    "- A transformação de raiz quadrada melhara o gráfico de distribuição, consegue lidar com os outliers como podemos observar no gráfico de boxplot com uma médiana comportada, mas não perfeito do gráfico de probalidade; <p>\n",
    "    \n",
    "- A transformação de box-cox tem uma distribuição boa no gráfico de distribuição, lida muito bem com os outliers, uma observação importante, a médiana dos dados fica em torno do zero.\n",
    "    \n",
    "Vamos fazer o teste de normalidade nas transformações da raiz quadrada e box-cox.    \n",
    "</div>"
   ]
  },
  {
   "cell_type": "code",
   "execution_count": null,
   "id": "a7d98ed5",
   "metadata": {
    "ExecuteTime": {
     "end_time": "2022-07-14T22:24:57.621716Z",
     "start_time": "2022-07-14T22:24:57.608740Z"
    }
   },
   "outputs": [],
   "source": [
    "test_ks   = stats.kstest(y_sqr, 'norm')\n",
    "statistic = test_ks[0]\n",
    "pvalue    = test_ks[1]\n",
    "\n",
    "print('Estatística: {:2.8f}'.format(statistic))\n",
    "print('P-value    : {:2.8f}'.format(pvalue))\n",
    "print()\n",
    "\n",
    "msg = 'Com nível de significância de 0.05 e confiança \\nde 95%, os dados {} normalmente distribuidos.'\n",
    "txt = 'são'\n",
    "\n",
    "if pvalue<0.05: \n",
    "    txt = 'não são'\n",
    "    \n",
    "print(msg.format(txt))\n"
   ]
  },
  {
   "cell_type": "code",
   "execution_count": null,
   "id": "56b2b19c",
   "metadata": {
    "ExecuteTime": {
     "end_time": "2022-07-14T22:24:57.653719Z",
     "start_time": "2022-07-14T22:24:57.623726Z"
    }
   },
   "outputs": [],
   "source": [
    "test_ks   = stats.kstest(y_bcox, 'norm')\n",
    "statistic = test_ks[0]\n",
    "pvalue    = test_ks[1]\n",
    "\n",
    "print('Estatística: {:2.8f}'.format(statistic))\n",
    "print('P-value    : {:2.8f}'.format(pvalue))\n",
    "print()\n",
    "\n",
    "msg = 'Com nível de significância de 0.05 e confiança \\nde 95%, os dados {} normalmente distribuidos.'\n",
    "txt = 'são'\n",
    "\n",
    "if pvalue<0.05: \n",
    "    txt = 'não são'\n",
    "    \n",
    "print(msg.format(txt))"
   ]
  },
  {
   "cell_type": "markdown",
   "id": "72d9b767",
   "metadata": {},
   "source": [
    "<div class=\"alert alert-block alert-info\">\n",
    "<p style=\"color: black; font-family: Arial Black\">NOTA:</p>\n",
    "  \n",
    "As transformações utilizadas não foram capazes de normalizar os dados, mas vamos utlizar na modelagem a transformação de raiz quadrada, pois acredito que essa transformação pode ter efeito na modelage e podemos fazer outros testes com outras transformações ou cominações de transformações. \n",
    "    \n",
    "</div>"
   ]
  },
  {
   "cell_type": "markdown",
   "id": "b74cc6ef",
   "metadata": {
    "id": "b74cc6ef",
    "papermill": {
     "duration": 0.1435,
     "end_time": "2022-05-04T04:25:49.703674",
     "exception": false,
     "start_time": "2022-05-04T04:25:49.560174",
     "status": "completed"
    },
    "tags": []
   },
   "source": [
    "---"
   ]
  },
  {
   "cell_type": "markdown",
   "id": "eec66ea5",
   "metadata": {
    "id": "eec66ea5",
    "papermill": {
     "duration": 0.202469,
     "end_time": "2022-05-04T04:25:56.440655",
     "exception": false,
     "start_time": "2022-05-04T04:25:56.238186",
     "status": "completed"
    },
    "tags": []
   },
   "source": [
    "<div style=\"color:white;border-radius:8px;background-color:#a7d5ed\">    \n",
    "    <h1 style=\"padding:12px;color:black;\"> 3. Modelagem </h1>    \n",
    "</div>"
   ]
  },
  {
   "attachments": {
    "image.png": {
     "image/png": "[encoded data removed]"
    }
   },
   "cell_type": "markdown",
   "id": "c88ffca9",
   "metadata": {},
   "source": [
    "![image.png](attachment:image.png)"
   ]
  },
  {
   "cell_type": "code",
   "execution_count": null,
   "id": "ed6ef16c",
   "metadata": {
    "ExecuteTime": {
     "end_time": "2022-07-14T22:25:01.019775Z",
     "start_time": "2022-07-14T22:25:01.005747Z"
    },
    "execution": {
     "iopub.execute_input": "2022-05-04T04:25:56.967918Z",
     "iopub.status.busy": "2022-05-04T04:25:56.967442Z",
     "iopub.status.idle": "2022-05-04T04:26:00.923854Z",
     "shell.execute_reply": "2022-05-04T04:26:00.923088Z"
    },
    "executionInfo": {
     "elapsed": 5,
     "status": "ok",
     "timestamp": 1654809147169,
     "user": {
      "displayName": "Rogério Delfim",
      "userId": "04235763959036945343"
     },
     "user_tz": 180
    },
    "id": "ed6ef16c",
    "papermill": {
     "duration": 4.0927,
     "end_time": "2022-05-04T04:26:00.926123",
     "exception": false,
     "start_time": "2022-05-04T04:25:56.833423",
     "status": "completed"
    },
    "tags": []
   },
   "outputs": [],
   "source": [
    "df3_train = df2_train.copy()\n",
    "df3_test  = df2_test.copy()\n",
    "\n",
    "df3_train.shape, df3_test.shape"
   ]
  },
  {
   "cell_type": "markdown",
   "id": "20caa1d8",
   "metadata": {
    "ExecuteTime": {
     "end_time": "2022-06-07T02:27:54.772974Z",
     "start_time": "2022-06-07T02:27:54.768974Z"
    },
    "id": "20caa1d8"
   },
   "source": [
    "## 3.1. Processamento \n",
    "\n",
    "Neste primeiro momento para linha de base vamos fazer uma binalização das variáveis qualitativas. "
   ]
  },
  {
   "cell_type": "code",
   "execution_count": null,
   "id": "9c6d46b7",
   "metadata": {
    "ExecuteTime": {
     "end_time": "2022-07-14T22:25:03.142994Z",
     "start_time": "2022-07-14T22:25:03.134004Z"
    },
    "colab": {
     "base_uri": "https://localhost:8080/",
     "height": 206
    },
    "executionInfo": {
     "elapsed": 218,
     "status": "ok",
     "timestamp": 1654809150722,
     "user": {
      "displayName": "Rogério Delfim",
      "userId": "04235763959036945343"
     },
     "user_tz": 180
    },
    "id": "9c6d46b7",
    "outputId": "8e62e390-77bb-4399-8750-39b8d01e1589"
   },
   "outputs": [],
   "source": [
    "df3_train[feature_cat].head()"
   ]
  },
  {
   "cell_type": "code",
   "execution_count": null,
   "id": "071025a4",
   "metadata": {
    "ExecuteTime": {
     "end_time": "2022-07-14T22:25:08.207446Z",
     "start_time": "2022-07-14T22:25:08.173413Z"
    },
    "code_folding": [
     0
    ],
    "executionInfo": {
     "elapsed": 2,
     "status": "ok",
     "timestamp": 1654819639027,
     "user": {
      "displayName": "Rogério Delfim",
      "userId": "04235763959036945343"
     },
     "user_tz": 180
    },
    "id": "071025a4"
   },
   "outputs": [],
   "source": [
    "def feature_binarizer(df_tr_, df_vl_, df_ts_, features_ohe_=None, feature_ord_=None):\n",
    "\n",
    "    if features_ohe_ is not None:\n",
    "        for col in features_ohe_:         \n",
    "            lb   = OneHotEncoder(sparse=False) # LabelBinarizer() OneHotEncoder\n",
    "            cols = df_tr_[col].unique().tolist() \n",
    "\n",
    "            cols_fe = []\n",
    "            for x in df_tr_[col].unique().tolist(): \n",
    "                cols_fe.append('fe_'+ col + '_' +str(x) )\n",
    "\n",
    "            df_lb_tr = pd.DataFrame(lb.fit_transform (df_tr_[[col]]), columns=cols_fe)\n",
    "            df_lb_vl = pd.DataFrame(lb.transform (df_vl_[[col]]), columns=cols_fe)\n",
    "            df_lb_ts = pd.DataFrame(lb.transform (df_ts_[[col]]), columns=cols_fe)\n",
    "            \n",
    "            df_lb_tr[cols_fe]= df_lb_tr[cols_fe].astype(int)\n",
    "            df_lb_vl[cols_fe]= df_lb_vl[cols_fe].astype(int)\n",
    "            df_lb_ts[cols_fe]= df_lb_ts[cols_fe].astype(int)\n",
    "\n",
    "            df_lb_tr.index =  df_tr_.index\n",
    "            df_lb_vl.index =  df_vl_.index\n",
    "            df_lb_ts.index =  df_ts_.index\n",
    "\n",
    "            df_tr_ = pd.concat([df_tr_, df_lb_tr], axis=1)\n",
    "            df_vl_ = pd.concat([df_vl_, df_lb_vl], axis=1)\n",
    "            df_ts_ = pd.concat([df_ts_, df_lb_ts], axis=1)\n",
    "\n",
    "            df_tr_.drop(col, axis=1, inplace=True)\n",
    "            df_vl_.drop(col, axis=1, inplace=True)\n",
    "            df_ts_.drop(col, axis=1, inplace=True)\n",
    "\n",
    "    col     = ''\n",
    "    cols_fe = ''\n",
    "\n",
    "    if feature_ord_ is not None:\n",
    "        for col in feature_ord_:\n",
    "            ordEncoder = OrdinalEncoder()            \n",
    "            cols = df_tr_[col].unique().tolist() \n",
    "\n",
    "            cols_fe = []\n",
    "            for x in df_tr_[col].unique().tolist(): \n",
    "                cols_fe.append('fe_'+ col + '_' +str(x) )\n",
    "                \n",
    "            df_tr_[col] = ordEncoder.fit_transform(df_tr_[[col]])\n",
    "            df_vl_[col] = ordEncoder.transform (df_vl_[[col]])\n",
    "            df_ts_[col] = ordEncoder.transform (df_ts_[[col]])\n",
    "\n",
    "    return df_tr_, df_vl_, df_ts_"
   ]
  },
  {
   "cell_type": "markdown",
   "id": "9c35c26d",
   "metadata": {
    "id": "9c35c26d",
    "papermill": {
     "duration": 0.140899,
     "end_time": "2022-05-04T04:26:01.213207",
     "exception": false,
     "start_time": "2022-05-04T04:26:01.072308",
     "status": "completed"
    },
    "tags": []
   },
   "source": [
    "## 3.1. Split Train/Test"
   ]
  },
  {
   "cell_type": "code",
   "execution_count": null,
   "id": "poYq6D-BHvUz",
   "metadata": {
    "ExecuteTime": {
     "end_time": "2022-07-14T22:25:09.585495Z",
     "start_time": "2022-07-14T22:25:09.541482Z"
    },
    "executionInfo": {
     "elapsed": 227,
     "status": "ok",
     "timestamp": 1654810497494,
     "user": {
      "displayName": "Rogério Delfim",
      "userId": "04235763959036945343"
     },
     "user_tz": 180
    },
    "id": "poYq6D-BHvUz"
   },
   "outputs": [],
   "source": [
    "df3_train = Ultil.reduce_memory_usage(df3_train)\n",
    "df3_test  = Ultil.reduce_memory_usage(df3_test)"
   ]
  },
  {
   "cell_type": "code",
   "execution_count": null,
   "id": "443ff2a5",
   "metadata": {
    "ExecuteTime": {
     "end_time": "2022-07-14T22:25:11.580664Z",
     "start_time": "2022-07-14T22:25:11.494666Z"
    },
    "colab": {
     "base_uri": "https://localhost:8080/"
    },
    "execution": {
     "iopub.execute_input": "2022-05-04T04:26:01.477823Z",
     "iopub.status.busy": "2022-05-04T04:26:01.477573Z",
     "iopub.status.idle": "2022-05-04T04:26:02.185095Z",
     "shell.execute_reply": "2022-05-04T04:26:02.184386Z"
    },
    "executionInfo": {
     "elapsed": 338,
     "status": "ok",
     "timestamp": 1654827876245,
     "user": {
      "displayName": "Rogério Delfim",
      "userId": "04235763959036945343"
     },
     "user_tz": 180
    },
    "id": "443ff2a5",
    "outputId": "6a656551-d337-4513-8bb6-12b34ad3ac7b",
    "papermill": {
     "duration": 0.842097,
     "end_time": "2022-05-04T04:26:02.187062",
     "exception": false,
     "start_time": "2022-05-04T04:26:01.344965",
     "status": "completed"
    },
    "tags": []
   },
   "outputs": [],
   "source": [
    "X      = df3_train.drop(target, axis=1)\n",
    "y      = df3_train[target].values\n",
    "X_test = df3_test\n",
    "\n",
    "X_train, X_valid, y_train, y_valid = train_test_split(X, y, \n",
    "                                                      test_size    = 0.2,\n",
    "                                                      shuffle      = True, \n",
    "                                                      random_state = 12359)\n",
    "\n",
    "cols_oho = ['estação', 'feriado',] \n",
    "cols_ord = ['dia']\n",
    "\n",
    "X_train, X_valid, X_test = feature_binarizer(X_train.copy(), X_valid.copy(), X_test.copy(), cols_oho, cols_ord)\n",
    "\n",
    "X_train.shape, y_train.shape, X_valid.shape, y_valid.shape , X_test.shape"
   ]
  },
  {
   "cell_type": "code",
   "execution_count": null,
   "id": "42f06e2f",
   "metadata": {
    "ExecuteTime": {
     "end_time": "2022-07-14T22:25:12.354591Z",
     "start_time": "2022-07-14T22:25:12.318591Z"
    }
   },
   "outputs": [],
   "source": [
    "X_train.head()"
   ]
  },
  {
   "cell_type": "markdown",
   "id": "527946c1",
   "metadata": {
    "id": "527946c1",
    "papermill": {
     "duration": 0.135512,
     "end_time": "2022-05-04T04:26:03.494680",
     "exception": false,
     "start_time": "2022-05-04T04:26:03.359168",
     "status": "completed"
    },
    "tags": []
   },
   "source": [
    "## 3.2. Treinamento"
   ]
  },
  {
   "cell_type": "code",
   "execution_count": null,
   "id": "63a89bb5",
   "metadata": {
    "ExecuteTime": {
     "end_time": "2022-07-14T22:25:16.564776Z",
     "start_time": "2022-07-14T22:25:16.549777Z"
    },
    "code_folding": [
     0
    ]
   },
   "outputs": [],
   "source": [
    "def delete_files(namefile):\n",
    "                \n",
    "        path = ['model/train', 'model/test', 'model/valid', 'model/params', 'model/score',\n",
    "                'model/test_f', 'model/cv_model', 'model/preds', 'model/optuna', \n",
    "                'model/preds/train', 'model/preds/test', 'model/preds/test/n1', \n",
    "                'model/preds/test/n2', 'model/preds/test/n3', 'model/preds/train/n1', \n",
    "                'model/preds/train/n2', 'model/preds/train/n3','model/preds/param', \n",
    "                'Data/submission/tunning', 'Data/submission', 'model/mdl'                \n",
    "               ]\n",
    "\n",
    "        for path_ in path:\n",
    "            for raiz, diretorios, arquivos in os.walk(path_):\n",
    "                for arquivo in arquivos:\n",
    "                    if arquivo.startswith(namefile):\n",
    "                        os.remove(os.path.join(raiz, arquivo))"
   ]
  },
  {
   "cell_type": "code",
   "execution_count": null,
   "id": "7br-XouOv6sK",
   "metadata": {
    "ExecuteTime": {
     "end_time": "2022-07-14T22:25:17.378113Z",
     "start_time": "2022-07-14T22:25:17.367115Z"
    },
    "executionInfo": {
     "elapsed": 3,
     "status": "ok",
     "timestamp": 1654827884231,
     "user": {
      "displayName": "Rogério Delfim",
      "userId": "04235763959036945343"
     },
     "user_tz": 180
    },
    "id": "7br-XouOv6sK"
   },
   "outputs": [],
   "source": [
    "cols = X_valid.columns.to_list()\n",
    "cols_model_1 = cols\n",
    "print(cols)"
   ]
  },
  {
   "cell_type": "code",
   "execution_count": null,
   "id": "2dc9a4fc",
   "metadata": {
    "ExecuteTime": {
     "end_time": "2022-07-14T22:25:57.957810Z",
     "start_time": "2022-07-14T22:25:18.136081Z"
    },
    "code_folding": [],
    "colab": {
     "base_uri": "https://localhost:8080/"
    },
    "execution": {
     "iopub.execute_input": "2022-05-04T04:26:03.767094Z",
     "iopub.status.busy": "2022-05-04T04:26:03.766822Z",
     "iopub.status.idle": "2022-05-04T04:26:56.868948Z",
     "shell.execute_reply": "2022-05-04T04:26:56.868173Z"
    },
    "executionInfo": {
     "elapsed": 15303,
     "status": "ok",
     "timestamp": 1654828562439,
     "user": {
      "displayName": "Rogério Delfim",
      "userId": "04235763959036945343"
     },
     "user_tz": 180
    },
    "id": "2dc9a4fc",
    "outputId": "4357ba5e-d6fb-411e-8aaa-19a378d446ce",
    "papermill": {
     "duration": 53.241834,
     "end_time": "2022-05-04T04:26:56.870844",
     "exception": false,
     "start_time": "2022-05-04T04:26:03.629010",
     "status": "completed"
    },
    "scrolled": true,
    "tags": []
   },
   "outputs": [],
   "source": [
    "%%time \n",
    "seed   = 12359\n",
    "params = {'objective'        : 'reg:squarederror', \n",
    "          'eval_metric'      : 'rmse', \n",
    "          'n_estimators'     : 2000,         \n",
    "          'max_depth'        : 7, \n",
    "          'learning_rate'    : .01, \n",
    "          'subsample'        : 0.7, \n",
    "          'colsample_bytree' : 0.8, \n",
    "          'reg_alpha'        : 0.9,    #           \n",
    "          'random_state'     : seed}\n",
    "\n",
    "if torch.cuda.is_available():           \n",
    "    params.update({'tree_method': 'gpu_hist','predictor': 'gpu_predictor'})\n",
    "\n",
    "scalers = [None, \n",
    "           StandardScaler(),\n",
    "           RobustScaler(), \n",
    "           MinMaxScaler()                     \n",
    "          ]\n",
    "\n",
    "scaler_best    = None\n",
    "model_best     = None\n",
    "score_best     = np.mean(y)\n",
    "cols           = ['hora','dia','temperatura','chuva', 'umidade', 'sol', 'visibilidade','vento']\n",
    "\n",
    "\n",
    "for i , scaler in enumerate(scalers): \n",
    "    \n",
    "    model_baseline = xgb.XGBRegressor(**params)\n",
    "    n_estimators   = int(model_baseline.get_params()['n_estimators']*.1)\n",
    "    \n",
    "    X_train_s = X_train.copy() \n",
    "    X_valid_s = X_valid.copy()\n",
    "    X_test_s  = X_test.copy()\n",
    "    \n",
    "    if scaler!=None:                      \n",
    "        X_train_s[cols] = scaler.fit_transform(X_train_s[cols])\n",
    "        X_valid_s[cols] = scaler.transform(X_valid_s[cols])\n",
    "        X_test_s[cols]  = scaler.transform(X_test[cols])\n",
    "    \n",
    "    y_train_nor = y_train\n",
    "    y_valid_nor = y_valid\n",
    "    eval_set    = [(X_train, y_train), (X_valid, y_valid)]\n",
    "    \n",
    "    model_baseline.fit(X_train_s, \n",
    "                       y_train_nor, \n",
    "                       eval_set  = eval_set,                                               \n",
    "                       verbose   = False, \n",
    "                       early_stopping_rounds = n_estimators)\n",
    "\n",
    "    score_tr  = model_baseline.score(X_train_s, y_train_nor)  \n",
    "    y_pred_vl = model_baseline.predict(X_valid_s, ntree_limit=model_baseline.best_ntree_limit)\n",
    "    y_pred_ts = model_baseline.predict(X_test_s,  ntree_limit=model_baseline.best_ntree_limit)\n",
    "    \n",
    "    y_pred_vl = np.int64(y_pred_vl)\n",
    "\n",
    "    rmse, mae, mse, mape, r_squared = Ultil.evaluation(y_valid, y_pred_vl)    \n",
    "    \n",
    "    msg = 'RMSE: {:2.2f} - MAE: {:2.2f} - MSE: {:2.2f} - MAPE: {:2.2f} - R2: {:2.2f} - RMSE Trn: {:2.8f} => {}'     \n",
    "    print(msg.format(rmse, mae, mse, mape, r_squared, score_tr,  scaler))\n",
    "    \n",
    "    if (rmse)<score_best:        \n",
    "        score_best   = (rmse)\n",
    "        scaler_best  = scaler    \n",
    "        y_valid_best = y_pred_vl\n",
    "        X_train_best = X_train_s.copy()\n",
    "        X_valid_best = X_valid_s.copy()\n",
    "        model_best   = model_baseline\n",
    "                \n",
    "    # Gera arquivo de submissão    \n",
    "    delete_files('xgb_01_base_line_score')\n",
    "    \n",
    "    name_file_sub         = 'xgb_01_base_line_score_{:2.2f}_{}.csv'.format(rmse, str(scaler).lower()[:4])\n",
    "    df_submission[target] = np.int64(y_pred_ts)    \n",
    "    df_submission.to_csv(path + 'Data/submission/' + name_file_sub, index=False)\n",
    "    \n",
    "df_pred = pd.DataFrame({'y': y_valid, 'y_pred': y_valid_best })\n",
    "df_pred['residuals'] = df_pred['y'] - df_pred['y_pred']\n",
    "\n",
    "print()\n",
    "print('The Best')  \n",
    "print('Scaler: {}'.format(scaler_best))    \n",
    "print('Score : {:2.2f}'.format(score_best))\n",
    "print()"
   ]
  },
  {
   "cell_type": "markdown",
   "id": "bd3104ed",
   "metadata": {},
   "source": [
    "<div class=\"alert alert-block alert-info\">\n",
    "<p style=\"color: black; font-family: Arial Black\">NOTA:</p>\n",
    "    \n",
    "- Podemos destacar um ponto importante no resultado acima, <b>RMSE</b> é 42% acima do <b>MAE</b>, isso é um indicativo que os outliers estão afetando as previsões, pois a métrica (RMSE) é penalizada com os maiores erro da nossa previsão, sendo assim, temos um trabalho a fazer em relação aos outliers, que mencionamos nas análises e os tipos de tratamentos que podemos fazer.  <p>\n",
    "    \n",
    "- Abaixo a submissão das previssões na competição com RMSE de 247.78 que representa um aumento de 0.02%, a minha maior preocupação é ter um modelo robusto, pois estamos sendo avaliado em 30% dos dados de teste, que torna a competição emocionante, pois as colocações podem muda no final.     \n",
    "      \n",
    "</div>"
   ]
  },
  {
   "attachments": {
    "image-2.png": {
     "image/png": "[encoded data removed]"
    }
   },
   "cell_type": "markdown",
   "id": "8358e919",
   "metadata": {},
   "source": [
    "![image-2.png](attachment:image-2.png)"
   ]
  },
  {
   "cell_type": "markdown",
   "id": "b8046726",
   "metadata": {},
   "source": [
    "## 3.3. Anállise\n",
    "Vamos começa plotando os valores real x preditos. "
   ]
  },
  {
   "cell_type": "markdown",
   "id": "e4b341d9",
   "metadata": {},
   "source": [
    "### 3.3.1. Real x Predito"
   ]
  },
  {
   "cell_type": "code",
   "execution_count": null,
   "id": "0bb20536",
   "metadata": {
    "ExecuteTime": {
     "end_time": "2022-07-14T22:26:07.246274Z",
     "start_time": "2022-07-14T22:26:07.228273Z"
    },
    "scrolled": true
   },
   "outputs": [],
   "source": [
    "results = model_baseline.evals_result()\n",
    "\n",
    "result_tr = results[\"validation_0\"]['rmse']\n",
    "result_vl = results[\"validation_1\"]['rmse']\n",
    "ntree_limit = model_baseline.best_ntree_limit"
   ]
  },
  {
   "cell_type": "code",
   "execution_count": null,
   "id": "a21a9155",
   "metadata": {
    "ExecuteTime": {
     "end_time": "2022-07-14T22:26:09.243100Z",
     "start_time": "2022-07-14T22:26:07.922101Z"
    },
    "run_control": {
     "marked": false
    },
    "scrolled": false
   },
   "outputs": [],
   "source": [
    "sample = 250\n",
    "x_ax   = range(len(y_valid[:sample]))\n",
    "\n",
    "y_nor  = df_pred.loc[:sample-1].y\n",
    "y_pred = df_pred.loc[:sample-1].y_pred\n",
    "\n",
    "plt.figure(figsize=(15,15))\n",
    "\n",
    "plt.subplot(6,1,1)\n",
    "plt.scatter(x_ax, y_nor, s=5, color=\"blue\", label=\"Real\") \n",
    "plt.scatter(x_ax, y_pred, s=5, color=\"red\" , label=\"Predito\")\n",
    "plt.title(\"\\n Previsão em dados de validação \\n\",  fontsize=20)\n",
    "\n",
    "plt.subplot(6,1,2)\n",
    "plt.scatter(x_ax, y_nor, s=5, color=\"blue\", label=\"Real\")\n",
    "plt.plot(x_ax, y_pred, lw=0.8, color=\"red\", label=\"Predito\")\n",
    "plt.legend()\n",
    "\n",
    "plt.subplot(6,1,3)\n",
    "plt.plot(x_ax, y_nor,  label=\"Real\")\n",
    "plt.plot(x_ax, y_pred, label=\"Predito\")\n",
    "plt.legend()\n",
    "\n",
    "plt.subplot(6,1,4)\n",
    "plt.plot(result_tr, label=\"Treinamento\")\n",
    "plt.plot(result_vl, label=\"Validação\")\n",
    "plt.axvline(ntree_limit, color=\"gray\", label=\"N. de árvore ideal {}\".format(ntree_limit))\n",
    "plt.legend()\n",
    "\n",
    "plt.subplot(6,1,5)\n",
    "plt.hist(df_pred['y'], bins=30, label='Real')\n",
    "plt.legend()\n",
    "\n",
    "plt.subplot(6,1,6)\n",
    "plt.hist(df_pred['y_pred'], bins=30, label='Previsto') \n",
    "plt.legend()\n",
    "\n",
    "plt.tight_layout(pad=2.0);"
   ]
  },
  {
   "cell_type": "code",
   "execution_count": null,
   "id": "10396e92",
   "metadata": {
    "ExecuteTime": {
     "end_time": "2022-07-14T22:26:09.291139Z",
     "start_time": "2022-07-14T22:26:09.247103Z"
    }
   },
   "outputs": [],
   "source": [
    "df_pred[df_pred['y_pred']<=0]"
   ]
  },
  {
   "cell_type": "markdown",
   "id": "bba43988",
   "metadata": {},
   "source": [
    "<div class=\"alert alert-block alert-info\">\n",
    "<p style=\"color: black; font-family: Arial Black\">NOTA:</p>\n",
    "    \n",
    "- Observamos nos três primeiros gráficos, que o modelo tem dificuldade nas previsões acima de 1200, isso  pode ser um  sinal que os outliers estão influenciando nas previsões, é ponto que devemos ter atenção no processamento dos dados; <p> \n",
    "    \n",
    "- No quarto gráfico, observamos o overfitting apartir do ponto 400 (número de estimadores), precisamos fazer ajustes no parametros, principal no número de estimadores; <p> \n",
    "    \n",
    "- No quinto e sexto gráficos, observamos que a distribuição dos dados de previsão seguem a mesma distribuição dos dados de treino, isso é bom, porém o modelo gerou previsões negativas como podemos observar no quinto gráfico e na tabela listada acima, não deveria acontecer isso, pois não temos valores negativos no dados de treino, provavelmente isso é efeito do overfitting, principalmento com o parametros de número de estimadores (<b>n_estimators</b>).\n",
    "    \n",
    "</div>"
   ]
  },
  {
   "cell_type": "markdown",
   "id": "7396f429",
   "metadata": {},
   "source": [
    "### 3.3.2. Resíduo"
   ]
  },
  {
   "cell_type": "code",
   "execution_count": null,
   "id": "d63eac5d",
   "metadata": {
    "ExecuteTime": {
     "end_time": "2022-07-14T22:26:23.618033Z",
     "start_time": "2022-07-14T22:26:22.718035Z"
    }
   },
   "outputs": [],
   "source": [
    "plt.figure(figsize=(12,7))\n",
    "visualizer = ResidualsPlot(model_best, hist=True,)\n",
    "visualizer.fit(X_train_best, y_train_nor)  \n",
    "visualizer.score(X_valid_best, y_valid_nor)\n",
    "visualizer.show();\n",
    "\n",
    "r2_dif_tr_x_tr = (1-visualizer.test_score_ /visualizer.train_score_)*100\n",
    "print('Diferença R2 treino x teste: {:2.2f}%'.format(r2_dif_tr_x_tr))"
   ]
  },
  {
   "cell_type": "markdown",
   "id": "1fa07e28",
   "metadata": {
    "ExecuteTime": {
     "end_time": "2022-06-12T02:35:44.946096Z",
     "start_time": "2022-06-12T02:35:44.938066Z"
    }
   },
   "source": [
    "<div class=\"alert alert-block alert-info\">\n",
    "<p style=\"color: black; font-family: Arial Black\">NOTA:</p>\n",
    "    \n",
    "Obsevamos que temos alguma aleatóriedade nos resíduos, isso parece indicar que o modelo é bom, também podemos ver pelo histograma que nossos erros são quase normalmente distribuído em torno de zero, porém precisamos fazer ajustes no modelo para ganhar robustez, outro ponto importante é <b>R2 (R-quadrado)</b> do treinamento em relação ao teste que é 13% acima indicando um overfiting, o qual podemos trabalhar em melhoria nos dados e parametros dos modelos. <p> <br>\n",
    "    \n",
    "    \n",
    "<b>OBSERVAÇÃO</b>: <p>\n",
    "O <b>R-quadrado</b> é uma medida estatística de quão próximos os dados estão da linha de regressão ajustada. Ele também é conhecido como o coeficiente de determinação ou o coeficiente de determinação múltipla para a regressão múltipla. \n",
    "    \n",
    "</div>"
   ]
  },
  {
   "cell_type": "markdown",
   "id": "7253fbbe",
   "metadata": {
    "id": "7253fbbe"
   },
   "source": [
    "### 3.3.3. SHAP Values\n",
    "Para uma análise detralhada das previsões vamos utilizar o **SHAP (SHapley Additive exPlanations)**, é uma técnica usada para interpretar os \"black-box models\" para explicar a saída de qualquer modelo de Machine Learning, com ele podemos ter uma maior explicabilidade dos impactos das variáveis nas predições.  <p>\n",
    "        \n",
    "O **SHAP mede o impacto das variáveis, levando em consideração a interação com outras variáveis**, é verificado a importância de uma variável comparando o que um modelo prevê com e sem a variável, isso é feito em todas as ordens possíveis, para que as variáveis sejam comparadas de maneira justa. \n",
    "\n",
    "Desenvolvido por [Scott M. Lundberg.](https://scottlundberg.com/)\n",
    "\n",
    "    "
   ]
  },
  {
   "cell_type": "markdown",
   "id": "b69556f4",
   "metadata": {},
   "source": [
    "#### 3.3.3.1. Explainer "
   ]
  },
  {
   "cell_type": "code",
   "execution_count": null,
   "id": "06c1610a",
   "metadata": {
    "ExecuteTime": {
     "end_time": "2022-07-14T22:26:35.647649Z",
     "start_time": "2022-07-14T22:26:31.421852Z"
    }
   },
   "outputs": [],
   "source": [
    "#explainer   = shap.TreeExplainer(model_baseline)\n",
    "#shap_values = explainer(X_train_best)\n",
    "\n",
    "explainer   = shap.Explainer(model_baseline)\n",
    "shap_values = explainer(X_train_best) "
   ]
  },
  {
   "cell_type": "markdown",
   "id": "c0b820f7",
   "metadata": {
    "ExecuteTime": {
     "end_time": "2022-05-02T03:24:24.997190Z",
     "start_time": "2022-05-02T03:24:24.984193Z"
    },
    "id": "c0b820f7",
    "papermill": {
     "duration": 0.132574,
     "end_time": "2022-05-04T04:26:57.404241",
     "exception": false,
     "start_time": "2022-05-04T04:26:57.271667",
     "status": "completed"
    },
    "tags": []
   },
   "source": [
    "#### 3.3.3.2. Featuere Importance"
   ]
  },
  {
   "cell_type": "code",
   "execution_count": null,
   "id": "13c5a07b",
   "metadata": {
    "ExecuteTime": {
     "end_time": "2022-07-14T22:26:36.013511Z",
     "start_time": "2022-07-14T22:26:35.652482Z"
    }
   },
   "outputs": [],
   "source": [
    "shap.plots.bar(shap_values, max_display=50)"
   ]
  },
  {
   "cell_type": "markdown",
   "id": "94f18e7f",
   "metadata": {
    "ExecuteTime": {
     "end_time": "2022-06-12T03:08:06.787576Z",
     "start_time": "2022-06-12T03:08:06.152491Z"
    },
    "execution": {
     "iopub.execute_input": "2022-05-04T04:26:57.670520Z",
     "iopub.status.busy": "2022-05-04T04:26:57.670277Z",
     "iopub.status.idle": "2022-05-04T04:26:58.011830Z",
     "shell.execute_reply": "2022-05-04T04:26:58.011148Z"
    },
    "executionInfo": {
     "elapsed": 1068,
     "status": "ok",
     "timestamp": 1651529643225,
     "user": {
      "displayName": "Rogério Delfim",
      "userId": "04235763959036945343"
     },
     "user_tz": 180
    },
    "id": "caee0048",
    "outputId": "806dfb47-6838-4dd3-8a42-2bd86e6db50b",
    "papermill": {
     "duration": 0.47716,
     "end_time": "2022-05-04T04:26:58.013684",
     "exception": false,
     "start_time": "2022-05-04T04:26:57.536524",
     "status": "completed"
    },
    "tags": []
   },
   "source": [
    "<div class=\"alert alert-block alert-info\">\n",
    "<p style=\"color: black; font-family: Arial Black\">NOTA:</p>\n",
    "    \n",
    "O gráfico de importância das variáveis mostra que as variáveis: <b>umidade, temperatura e sol</b>, são os três principais fatores que impulsionam as previsões do modelo, um destaque maior para <b>umidade</b>. A primeira impressão, parece um resultado que faz sentido, pois nas análises (EDA) que fizemos essas variáveis se mostravam promissoras e se destacam, são três variáveis que podemos trabalhar para melhorar o desempenho dos modelos na <b>Engenharia de Recursos</b>.  <p> <br>       \n",
    "    \n",
    "    \n",
    "Vamos dar uma olhada no comportamento dos grupos de variáveis.     \n",
    "</div>"
   ]
  },
  {
   "cell_type": "code",
   "execution_count": null,
   "id": "ccd7198c",
   "metadata": {
    "ExecuteTime": {
     "end_time": "2022-07-14T22:26:40.164899Z",
     "start_time": "2022-07-14T22:26:37.127901Z"
    }
   },
   "outputs": [],
   "source": [
    "cluster = shap.utils.hclust(X_train_best, y_train, linkage='single') \n",
    "shap.plots.bar(shap_values, clustering=cluster, clustering_cutoff=1, merge_cohorts=True)"
   ]
  },
  {
   "cell_type": "markdown",
   "id": "2bbdedba",
   "metadata": {
    "ExecuteTime": {
     "end_time": "2022-07-10T16:27:37.070685Z",
     "start_time": "2022-07-10T16:27:36.831687Z"
    }
   },
   "source": [
    "<div class=\"alert alert-block alert-info\">\n",
    "<p style=\"color: black; font-family: Arial Black\">NOTA:</p>\n",
    "     \n",
    "No gráfico acima temos alguns clustering de variáveis qua aumentam a participação na predição do modelo, isso nos dar uma idéia de como podemos criar novas variáveis que pondem ajudar no desempenho do modelo, podemos descatar as variáveis <b>fe_feriado_não e fe_feriado_sim</b> que foram transformadas <b>one hot conding</b>, elas individualmente tem um valor baixo em relação a junção dessas variáveis. \n",
    "</div>"
   ]
  },
  {
   "cell_type": "markdown",
   "id": "b461ff29",
   "metadata": {},
   "source": [
    "#### 3.3.3.3. Impacto da variável "
   ]
  },
  {
   "cell_type": "code",
   "execution_count": null,
   "id": "f4863f8e",
   "metadata": {
    "ExecuteTime": {
     "end_time": "2022-07-14T22:26:46.120460Z",
     "start_time": "2022-07-14T22:26:45.384530Z"
    }
   },
   "outputs": [],
   "source": [
    "shap.summary_plot(shap_values, X_train_best, max_display=30)"
   ]
  },
  {
   "cell_type": "markdown",
   "id": "463cbbe5",
   "metadata": {
    "id": "463cbbe5",
    "papermill": {
     "duration": 0.133776,
     "end_time": "2022-05-04T04:26:58.282051",
     "exception": false,
     "start_time": "2022-05-04T04:26:58.148275",
     "status": "completed"
    },
    "tags": []
   },
   "source": [
    "<div class=\"alert alert-block alert-info\">\n",
    "<p style=\"color: black; font-family: Arial Black\">NOTA:</p>\n",
    "\n",
    "Acima observamos que a **umidade** afeta as previsões negativamente, <b>temperatura, sol e hora</b> são variáveis que tem impacto positivo nas previsões, com um destaque para a variável <b>sol</b> que tem uma pequena parcela da amostra que afeta negativamente as previsões, a descritização dessa variável pode ser uma solução de melhoria.     \n",
    "    \n",
    "</div>"
   ]
  },
  {
   "cell_type": "markdown",
   "id": "6c2e9b55",
   "metadata": {},
   "source": [
    "#### 3.3.3.4. Gráfico de força coletiva\n",
    "  \n",
    "O trecho de código abaixo é demorado, em grandes bases de dados devemos trabalhar com uma amostra. "
   ]
  },
  {
   "cell_type": "code",
   "execution_count": null,
   "id": "126a49c3",
   "metadata": {
    "ExecuteTime": {
     "end_time": "2022-07-14T22:34:34.490521Z",
     "start_time": "2022-07-14T22:34:30.006180Z"
    }
   },
   "outputs": [],
   "source": [
    "%%time \n",
    "\n",
    "shap.initjs()\n",
    "shap.force_plot(shap_values, shap_values, X_train_best)"
   ]
  },
  {
   "cell_type": "markdown",
   "id": "ead80a3f",
   "metadata": {},
   "source": [
    "Vamos dar uma olhada na variável temperatura. "
   ]
  },
  {
   "cell_type": "code",
   "execution_count": null,
   "id": "32a2be67",
   "metadata": {
    "ExecuteTime": {
     "end_time": "2022-07-14T22:34:38.852249Z",
     "start_time": "2022-07-14T22:34:34.492486Z"
    },
    "run_control": {
     "marked": false
    },
    "scrolled": false
   },
   "outputs": [],
   "source": [
    "explainer   = shap.TreeExplainer(model_baseline)\n",
    "shap_values = explainer.shap_values(X_train_best)\n",
    "\n",
    "col       = 'hora'\n",
    "inds      = shap.approximate_interactions(col, shap_values, X_train_best)\n",
    "fig, axes = plt.subplots(5,2,figsize=(20,30))\n",
    "axes      = axes.ravel()\n",
    "\n",
    "for i in range(10):    \n",
    "    shap.dependence_plot(col, shap_values, X_train_best, \n",
    "                         interaction_index=inds[i], ax=axes[i], show=False)"
   ]
  },
  {
   "cell_type": "markdown",
   "id": "6a201220",
   "metadata": {
    "id": "6a201220",
    "papermill": {
     "duration": 0.228414,
     "end_time": "2022-05-04T04:27:02.274304",
     "exception": false,
     "start_time": "2022-05-04T04:27:02.045890",
     "status": "completed"
    },
    "tags": []
   },
   "source": [
    "## 3.4. Validação Cruzada\n",
    "\n",
    "<div class=\"alert alert-block alert-info\">\n",
    "\n",
    "Na validação cruzada neste primeiro momento, vamos treinar o modelo com 80% dos dados e 20% será utilizado para medir a performance do modelo em dados não visto no treinamento, vamos fazer o treinamento de 5 e 10 folds e fazer uma pequena análise. \n",
    "    \n",
    "    \n",
    "</div>"
   ]
  },
  {
   "cell_type": "code",
   "execution_count": null,
   "id": "0192da37",
   "metadata": {
    "ExecuteTime": {
     "end_time": "2022-07-14T22:34:38.948227Z",
     "start_time": "2022-07-14T22:34:38.855223Z"
    }
   },
   "outputs": [],
   "source": [
    "X      = df3_train.drop(target, axis=1)\n",
    "y      = df3_train[target]\n",
    "X_test = df3_test\n",
    "\n",
    "cols_oho = ['estação', 'feriado',] \n",
    "cols_ord = ['dia']\n",
    "\n",
    "X_train, X_valid, y_train, y_valid = train_test_split(X, y, \n",
    "                                                      test_size    = 0.2,\n",
    "                                                      shuffle      = True, \n",
    "                                                      stratify     = X['feriado'],                                               \n",
    "                                                      random_state = 12359)\n",
    "\n",
    "\n",
    "X_train, X_valid, X_test = feature_binarizer(X_train.copy(), X_valid.copy(), X_test.copy(), cols_oho, cols_ord)\n",
    "\n",
    "X, _, X_test = feature_binarizer(X.copy(), X.copy(), df3_test.copy(), cols_oho, cols_ord)\n",
    "\n",
    "X_train.shape, y_train.shape, X_valid.shape, y_valid.shape , X_test.shape"
   ]
  },
  {
   "cell_type": "code",
   "execution_count": null,
   "id": "bc505ac4",
   "metadata": {
    "ExecuteTime": {
     "end_time": "2022-07-14T22:27:14.911851Z",
     "start_time": "2022-07-14T22:27:14.903843Z"
    },
    "code_folding": [
     0
    ]
   },
   "outputs": [],
   "source": [
    "def save_data_model(model_, model_name_, path_, df_, y_pred_test_prob_, y_pred_test_subm_, score_, \n",
    "                    seed_, level_='1', target_='target', cutoff_value_=.6, gera_submission_=True):    \n",
    "    \n",
    "    level = 'n' + level_ + '/'\n",
    "\n",
    "    if score_>cutoff_value_:    \n",
    "        \n",
    "        path_name_param = path_ + 'model/preds/param/' + model_name_.format(score_, seed_) + '.pkl.z'\n",
    "        path_name_train = path_ + 'model/preds/train/' + level + model_name_.format(score_, seed_) + '.pkl.z'\n",
    "        path_name_test  = path_ + 'model/preds/test/'  + level + model_name_.format(score_, seed_) + '.pkl.z'   \n",
    "        path_name_model = path_ + 'model/mdl/'         + model_name_.format(score_, seed_) + '.pkl.z'   \n",
    "        \n",
    "        delete_files(model_name_)\n",
    "        \n",
    "        jb.dump(df_, path_name_train)\n",
    "        jb.dump(y_pred_test_prob_, path_name_test)\n",
    "        jb.dump(model_, path_name_model)\n",
    "                \n",
    "        if gera_submission_:\n",
    "            model_name_ = model_name_.format(score_, seed_)\n",
    "            df_submission[target] = y_pred_test_subm_\n",
    "            df_submission.to_csv(path_ + 'Data/submission/' + model_name_+ '.csv', index=False)"
   ]
  },
  {
   "cell_type": "code",
   "execution_count": null,
   "id": "c4298254",
   "metadata": {
    "ExecuteTime": {
     "end_time": "2022-07-14T22:27:15.961658Z",
     "start_time": "2022-07-14T22:27:15.951658Z"
    },
    "code_folding": [
     0
    ]
   },
   "outputs": [],
   "source": [
    "def save_data_model(model_, model_name_, path_, df_, y_pred_test_prob_, y_pred_test_subm_, score_, \n",
    "                    seed_, level_='1', target_='target', cutoff_value_=.6, gera_submission_=True):    \n",
    "    \n",
    "    level = 'n' + level_ + '/'\n",
    "\n",
    "    if score_>cutoff_value_:    \n",
    "        \n",
    "        path_name_param = path_ + 'model/preds/param/' + model_name_.format(score_, seed_) + '.pkl.z'\n",
    "        path_name_train = path_ + 'model/preds/train/' + level + model_name_.format(score_, seed_) + '.pkl.z'\n",
    "        path_name_test  = path_ + 'model/preds/test/'  + level + model_name_.format(score_, seed_) + '.pkl.z'   \n",
    "        path_name_model = path_ + 'model/mdl/'         + model_name_.format(score_, seed_) + '.pkl.z'   \n",
    "        \n",
    "        delete_files(model_name_)\n",
    "        \n",
    "        jb.dump(df_, path_name_train)\n",
    "        jb.dump(y_pred_test_prob_, path_name_test)\n",
    "        jb.dump(model_, path_name_model)\n",
    "                \n",
    "        if gera_submission_:\n",
    "            model_name_ = model_name_.format(score_, seed_)\n",
    "            df_submission[target] = y_pred_test_subm_\n",
    "            df_submission.to_csv(path_ + 'Data/submission/' + model_name_+ '.csv', index=False)"
   ]
  },
  {
   "cell_type": "code",
   "execution_count": null,
   "id": "30efc036",
   "metadata": {
    "ExecuteTime": {
     "end_time": "2022-07-14T22:27:16.405442Z",
     "start_time": "2022-07-14T22:27:16.383444Z"
    },
    "code_folding": [
     0
    ]
   },
   "outputs": [],
   "source": [
    "def df_return_preds_stacking(model_name_=None, path_='', target_='target', level=1): \n",
    "\n",
    "    if level==1: \n",
    "        level_ = 'n1'\n",
    "    else: \n",
    "        if level==2:\n",
    "            level_ = 'n2'\n",
    "        else: \n",
    "            level_ = 'n3'\n",
    "\n",
    "    paths = ['model/preds/test/'+ level_, 'model/preds/train/' + level_ ]    \n",
    "\n",
    "    if model_name_==None: \n",
    "        model_name_=''\n",
    "\n",
    "    for i, p in enumerate(paths): \n",
    "\n",
    "        p = path_ + p \n",
    "\n",
    "        name_file_pkl     = glob.glob(p + '/'+ model_name_ + '*.pkl.z')\n",
    "        dic_preds_mdl_pkl = dict()    \n",
    "\n",
    "        for p_name in name_file_pkl:    \n",
    "            y_model_pkl_name_col  = p_name.replace(p + '\\\\', '').replace('.pkl.z','') \n",
    "            #y_model_pkl           = jb.load(p_name)\n",
    "            df_pkl =jb.load(p_name)\n",
    "\n",
    "            if i==0: \n",
    "                x_proba = df_pkl\n",
    "            else: \n",
    "                x_proba = df_pkl['y_proba']        \n",
    "\n",
    "            dic_preds_mdl_pkl[y_model_pkl_name_col] = x_proba\n",
    "\n",
    "        if i==0:\n",
    "            df_ts = pd.DataFrame(dic_preds_mdl_pkl)\n",
    "        else: \n",
    "            df_tr = pd.DataFrame(dic_preds_mdl_pkl) \n",
    "            df_tr[target_] = df_pkl['y_proba']\n",
    "            \n",
    "    return df_tr, df_ts "
   ]
  },
  {
   "cell_type": "code",
   "execution_count": null,
   "id": "de0e8dad",
   "metadata": {
    "ExecuteTime": {
     "end_time": "2022-07-14T22:27:16.849012Z",
     "start_time": "2022-07-14T22:27:16.812976Z"
    },
    "code_folding": [],
    "run_control": {
     "marked": false
    }
   },
   "outputs": [],
   "source": [
    "def cross_val_model(model_, model_name_, X_, y_, X_test_, target_, scalers_, lb_, fold_=5, path_='',  \n",
    "                    seed_=12359, feature_scaler_=None, print_report_=False, save_submission_=False, \n",
    "                    save_predict_=False, level_='1', cutoff_value_save_=.6, \n",
    "                    train_with_created_folds_=False):\n",
    "    \n",
    "    n_estimators    = model_.get_params()['n_estimators']             \n",
    "    valid_preds     = {}\n",
    "    taco            = 76 \n",
    "    acc_best        = 0  \n",
    "    df_preds        = pd.DataFrame()\n",
    "    feature_imp     = pd.DataFrame()\n",
    "    test_preds      = []\n",
    "    preds           = []\n",
    "    model           = []\n",
    "    folds           = []\n",
    "    cols_sencond_level = ['fold', 'idx_fold', 'y', 'y_pred', 'residuo']\n",
    "    \n",
    "    for i, scaler_ in enumerate(scalers_):\n",
    "        \n",
    "        # Recuperar os indices do kf \n",
    "        if train_with_created_folds_:\n",
    "            for i in range(fold_):         \n",
    "                folds.append(jb.load(path + 'model/preds/folds/kf_folds_{}_{}.pkl.z'.format(fold_, i+1)))\n",
    "        else:\n",
    "            #folds = KFold(n_splits=fold_, shuffle=False, random_state=seed_)\n",
    "            folds = StratifiedKFold(n_splits=fold_, shuffle=True, random_state=seed_)\n",
    "            folds = folds.split(X_, y_)\n",
    "\n",
    "        time_start  = datetime.now()\n",
    "        score     = [] \n",
    "        score_mae = []\n",
    "                \n",
    "        if scaler_!=None:            \n",
    "            string_scaler = str(scaler_)        \n",
    "            string_scaler = string_scaler[:string_scaler.index('(')]\n",
    "        else:\n",
    "            string_scaler = None \n",
    "            \n",
    "        y_pred_test = np.zeros(len(X_test_))        \n",
    "        \n",
    "        print('='*taco)\n",
    "        print('Scaler: {} - n_estimators: {}'.format(string_scaler, n_estimators))\n",
    "        print('='*taco)\n",
    "        \n",
    "        y_pred_test_oof = 0      \n",
    "        second_level    = np.zeros((X_.shape[0], 5))        \n",
    "\n",
    "        for fold, (trn_idx, val_idx) in enumerate(folds): \n",
    "\n",
    "            time_fold_start = datetime.now()\n",
    "            \n",
    "            if train_with_created_folds_:\n",
    "                trn_idx = folds[fold][trn_idx]\n",
    "                val_idx = folds[fold][val_idx]\n",
    "            \n",
    "            # ---------------------------------------------------- \n",
    "            # Separar dados para treino \n",
    "            # ----------------------------------------------------     \n",
    "            X_trn, X_val = X_.iloc[trn_idx], X_.iloc[val_idx]\n",
    "            y_trn, y_val = y_.iloc[trn_idx], y_.iloc[val_idx] \n",
    "                      \n",
    "            # ---------------------------------------------------- \n",
    "            # Processamento \n",
    "            # ---------------------------------------------------- \n",
    "            X_tst = X_test_.copy()\n",
    "            \n",
    "            if scaler_!=None: \n",
    "                if feature_scaler_!=None:                     \n",
    "                    X_trn[feature_scaler_] = scaler_.fit_transform(X_trn[feature_scaler_].values)\n",
    "                    X_val[feature_scaler_] = scaler_.transform(X_val[feature_scaler_].values)                       \n",
    "                    X_tst[feature_scaler_] = scaler_.transform(X_tst[feature_scaler_].values) \n",
    "                else:                               \n",
    "                    X_trn = scaler_.fit_transform(X_trn)\n",
    "                    X_val = scaler_.transform(X_val)\n",
    "                    X_tst = scaler_.transform(X_tst.copy())\n",
    "                \n",
    "            # ---------------------------------------------------- \n",
    "            # Treinar o modelo \n",
    "            # ----------------------------------------------------            \n",
    "            model_.fit(X_trn, y_trn,\n",
    "                       eval_set              = [(X_trn, y_trn), (X_val, y_val)],          \n",
    "                       early_stopping_rounds = int(n_estimators*.1),\n",
    "                       verbose               = False)\n",
    "            \n",
    "            # ---------------------------------------------------- \n",
    "            # Predição \n",
    "            # ----------------------------------------------------                 \n",
    "            y_pred_val       = model_.predict(X_val, ntree_limit=model_.best_ntree_limit)\n",
    "            y_pred_test_oof += model_.predict(X_tst, ntree_limit=model_.best_ntree_limit) / fold_\n",
    "                        \n",
    "            second_level[val_idx, 0] = fold+1 \n",
    "            second_level[val_idx, 1] = val_idx \n",
    "            second_level[val_idx, 2] = y_val.values\n",
    "            second_level[val_idx, 3] = y_pred_val \n",
    "            second_level[val_idx, 4] = np.int64(y_val.values - y_pred_val) \n",
    "            \n",
    "            # ---------------------------------------------------- \n",
    "            # Score \n",
    "            # ----------------------------------------------------                         \n",
    "            rmse, mae, mse, mape, r_squared = Ultil.evaluation(y_val, y_pred_val)  \n",
    "                       \n",
    "            score.append(rmse)     \n",
    "            score_mae.append(mae)\n",
    "            \n",
    "            # ---------------------------------------------------- \n",
    "            # Feature Importance\n",
    "            # ----------------------------------------------------             \n",
    "            feat_imp = pd.DataFrame(index   = X_.columns,\n",
    "                                    data    = model_.feature_importances_,\n",
    "                                    columns = ['fold_{}'.format(fold+1)])\n",
    "\n",
    "            feat_imp['rmse_'+str(fold+1)] = rmse\n",
    "            feature_imp = pd.concat([feature_imp, feat_imp], axis=1)\n",
    "            \n",
    "            # ---------------------------------------------------- \n",
    "            # Print resultado  \n",
    "            # ---------------------------------------------------- \n",
    "            time_fold_end = Ultil.diff(time_fold_start, datetime.now())\n",
    "            msg = '[Fold {}] RMSE: {:2.2f} - MAE: {:2.2f} - MAPE: {:2.2f}  - {}'\n",
    "            print(msg.format(fold+1, rmse, mae, mape, time_fold_end))\n",
    "            \n",
    "            # ---------------------------------------------------- \n",
    "            # Salvar o modelo \n",
    "            # ---------------------------------------------------- \n",
    "            dic_model = {'scaler' : scaler_, \n",
    "                         'fold'   : fold+1, \n",
    "                         'model'  : model_ }\n",
    "            \n",
    "            model.append(dic_model)\n",
    "        \n",
    "        df_preds           = pd.DataFrame(second_level, columns=cols_sencond_level)\n",
    "        df_preds['scaler'] = string_scaler\n",
    "        \n",
    "        for col in ['fold', 'idx_fold', 'y', 'y_pred']:\n",
    "            df_preds[col] = df_preds[col].astype(np.int)\n",
    "        \n",
    "        score_mean     = np.mean(score) \n",
    "        score_std      = np.std(score)\n",
    "        score_mae_mean = np.mean(score_mae)\n",
    "        \n",
    "        if score_mean > acc_best:     \n",
    "            acc_best    = score_mean           \n",
    "            model_best  = model_    \n",
    "            scaler_best = scaler_\n",
    "\n",
    "        time_end = Ultil.diff(time_start, datetime.now())   \n",
    "\n",
    "        msg ='[Mean Fold] RMSE: {:2.2f} std: {:2.2f} - MAE {:2.2f} - {}'\n",
    "        \n",
    "        print('-'*taco)        \n",
    "        print(msg.format(score_mean,score_std, score_mae_mean, time_end))\n",
    "        print('='*taco)\n",
    "        print()\n",
    "                                         \n",
    "        # Salvar as predições\n",
    "        if save_submission_:        \n",
    "            y_pred_test_oof = np.int64(y_pred_test_oof)\n",
    "            save_data_model(model_             = model_, \n",
    "                            model_name_        = model_name_+'_score_{:2.5f}_seed_{}_'+str(scaler_).lower()[:4], \n",
    "                            path_              = path_,                             \n",
    "                            df_                = df_preds,          # stacking\n",
    "                            y_pred_test_prob_  = y_pred_test_oof,   # stacking \n",
    "                            y_pred_test_subm_  = y_pred_test_oof,   # sumission \n",
    "                            score_             = score_mean, \n",
    "                            seed_              = seed_, \n",
    "                            level_             = level_, \n",
    "                            target_            = target_, \n",
    "                            cutoff_value_      = cutoff_value_save_) \n",
    "            \n",
    "    print('-'*taco)\n",
    "    print('Scaler Best: {}'.format(scaler_best))\n",
    "    print('Score      : {:2.2f}'.format(acc_best))\n",
    "    print('-'*taco)\n",
    "    print()\n",
    "    \n",
    "    Ultil.free_gpu_cache()\n",
    "    \n",
    "    return model, df_preds , feature_imp "
   ]
  },
  {
   "cell_type": "code",
   "execution_count": null,
   "id": "652c15ce",
   "metadata": {
    "ExecuteTime": {
     "end_time": "2022-07-14T22:27:17.255486Z",
     "start_time": "2022-07-14T22:27:17.246522Z"
    },
    "code_folding": [
     0
    ],
    "run_control": {
     "marked": false
    }
   },
   "outputs": [],
   "source": [
    "def create_kfolds(folds, X_, y_):\n",
    "\n",
    "    kf = StratifiedKFold(n_splits=folds, shuffle=True, random_state=12359)\n",
    "\n",
    "    for fold, (trn_idx, val_idx) in enumerate(kf.split(X_, y_, groups=y_)):   \n",
    "        idx  = {'trn_idx': trn_idx, 'val_idx': val_idx}\n",
    "        file = path + 'model/preds/folds/kf_folds_{}_{}.pkl.z'.format(folds,fold+1)\n",
    "        jb.dump(idx, file)\n",
    "        print('Fold: {}'.format(fold+1))"
   ]
  },
  {
   "cell_type": "markdown",
   "id": "ff02d1cd",
   "metadata": {},
   "source": [
    "### 3.4.1 Treinar com 5 Folds"
   ]
  },
  {
   "cell_type": "code",
   "execution_count": null,
   "id": "8512b559",
   "metadata": {
    "ExecuteTime": {
     "end_time": "2022-07-14T22:27:18.639777Z",
     "start_time": "2022-07-14T22:27:18.413722Z"
    },
    "scrolled": true
   },
   "outputs": [],
   "source": [
    "create_kfolds(5, X, y)"
   ]
  },
  {
   "cell_type": "code",
   "execution_count": null,
   "id": "4421d66f",
   "metadata": {
    "ExecuteTime": {
     "end_time": "2022-07-14T22:29:41.284176Z",
     "start_time": "2022-07-14T22:27:20.294466Z"
    },
    "scrolled": false
   },
   "outputs": [],
   "source": [
    "%%time \n",
    "\n",
    "seed        = 12359\n",
    "eval_metric = ['rmse']                 \n",
    "scalers     = [StandardScaler()]               \n",
    "\n",
    "seed   = 12359\n",
    "params = {'objective'        : 'reg:squarederror', \n",
    "          'eval_metric'      : 'rmse', \n",
    "          'n_estimators'     : 2000,         \n",
    "          'max_depth'        : 7, \n",
    "          'learning_rate'    : .01, \n",
    "          'subsample'        : 0.7, \n",
    "          'colsample_bytree' : 0.8, \n",
    "          'reg_alpha'        : 0.9,           \n",
    "          'random_state'     : seed}\n",
    "\n",
    "if torch.cuda.is_available():           \n",
    "    params.update({'tree_method': 'gpu_hist','predictor': 'gpu_predictor'})\n",
    "    \n",
    "model_name = 'xgb_02_cv_05_folds'\n",
    "\n",
    "delete_files(model_name)\n",
    "\n",
    "model_kf5, df_preds_kf5, feature_imp_kf5 = \\\n",
    "    cross_val_model(model_           = xgb.XGBRegressor(**params),\n",
    "                    model_name_      = model_name,\n",
    "                    X_               = X_train,\n",
    "                    y_               = y_train,\n",
    "                    X_test_          = X_test,\n",
    "                    target_          = target,\n",
    "                    scalers_         = scalers,\n",
    "                    fold_            = 5,\n",
    "                    lb_              = None,\n",
    "                    path_            = path,\n",
    "                    seed_            = seed, \n",
    "                    feature_scaler_  = None,                     \n",
    "                    save_submission_ = True, \n",
    "                    #train_with_created_folds_ = True\n",
    "                   )\n",
    "\n",
    "print()"
   ]
  },
  {
   "cell_type": "markdown",
   "id": "38186f91",
   "metadata": {},
   "source": [
    "### 3.4.1 Treinar com 10 Folds"
   ]
  },
  {
   "cell_type": "code",
   "execution_count": null,
   "id": "18d32262",
   "metadata": {
    "ExecuteTime": {
     "end_time": "2022-07-14T22:34:14.536260Z",
     "start_time": "2022-07-14T22:29:52.210195Z"
    },
    "code_folding": [],
    "execution": {
     "iopub.execute_input": "2022-05-04T04:27:02.897974Z",
     "iopub.status.busy": "2022-05-04T04:27:02.897450Z",
     "iopub.status.idle": "2022-05-04T04:28:56.929014Z",
     "shell.execute_reply": "2022-05-04T04:28:56.928083Z"
    },
    "executionInfo": {
     "elapsed": 38014,
     "status": "ok",
     "timestamp": 1651533451520,
     "user": {
      "displayName": "Rogério Delfim",
      "userId": "04235763959036945343"
     },
     "user_tz": 180
    },
    "id": "18d32262",
    "outputId": "13ca4265-d716-4f67-ffc6-bb3cca968573",
    "papermill": {
     "duration": 114.178202,
     "end_time": "2022-05-04T04:28:56.931045",
     "exception": false,
     "start_time": "2022-05-04T04:27:02.752843",
     "status": "completed"
    },
    "tags": []
   },
   "outputs": [],
   "source": [
    "%%time \n",
    "\n",
    "seed        = 12359\n",
    "eval_metric = ['rmse']                 \n",
    "scalers     = [StandardScaler()]               \n",
    "\n",
    "seed   = 12359\n",
    "params = {'objective'        : 'reg:squarederror', \n",
    "          'eval_metric'      : eval_metric, \n",
    "          'n_estimators'     : 2000,         \n",
    "          'max_depth'        : 7, \n",
    "          'learning_rate'    : .01, \n",
    "          'subsample'        : 0.7, \n",
    "          'colsample_bytree' : 0.8, \n",
    "          'reg_alpha'        : 0.9,\n",
    "          'random_state'     : seed}\n",
    "\n",
    "if torch.cuda.is_available():           \n",
    "    params.update({'tree_method': 'gpu_hist','predictor': 'gpu_predictor'})\n",
    "    \n",
    "model_name = 'xgb_03_cv_10_folds'\n",
    "\n",
    "delete_files(model_name)\n",
    "\n",
    "model_kf10, df_preds_kf10, feature_imp_kf10 = \\\n",
    "    cross_val_model(model_           = xgb.XGBRegressor(**params),\n",
    "                    model_name_      = model_name,\n",
    "                    X_               = X_train,\n",
    "                    y_               = y_train,\n",
    "                    X_test_          = X_test,\n",
    "                    target_          = target,\n",
    "                    scalers_         = scalers,\n",
    "                    fold_            = 10,\n",
    "                    lb_              = None,\n",
    "                    path_            = path,\n",
    "                    seed_            = seed, \n",
    "                    feature_scaler_  = None,                     \n",
    "                    save_submission_ = True)\n",
    "\n",
    "print()"
   ]
  },
  {
   "cell_type": "markdown",
   "id": "187f8d11",
   "metadata": {
    "ExecuteTime": {
     "end_time": "2022-06-12T23:36:00.660280Z",
     "start_time": "2022-06-12T23:36:00.645285Z"
    }
   },
   "source": [
    "<div class=\"alert alert-block alert-info\">\n",
    "<p style=\"color: black; font-family: Arial Black\">NOTA:</p>\n",
    "     \n",
    "Podemos observar com aumento de dobras (kfolds) para o treinamento do modelo obtivemos um redução no <b>RMSE</b> e uma pequena redução no **MAE**, porém a variância duplicou , sendo assim, acredito que a melhoria no <b>RMSE</b> é muito pequena em relação a variância, e vamos fazer as próximas análise em cima do 5 folds.    \n",
    "    \n",
    "</div>"
   ]
  },
  {
   "cell_type": "markdown",
   "id": "f082ca3c",
   "metadata": {
    "id": "f082ca3c"
   },
   "source": [
    "## 3.5. Análise do Modelo "
   ]
  },
  {
   "cell_type": "markdown",
   "id": "d9ef4960",
   "metadata": {
    "id": "d9ef4960",
    "papermill": {
     "duration": 0.137917,
     "end_time": "2022-05-04T04:28:57.206506",
     "exception": false,
     "start_time": "2022-05-04T04:28:57.068589",
     "status": "completed"
    },
    "tags": []
   },
   "source": [
    "### 3.5.1. Feature Importances  "
   ]
  },
  {
   "cell_type": "code",
   "execution_count": null,
   "id": "e383a9d7",
   "metadata": {
    "ExecuteTime": {
     "end_time": "2022-07-14T22:34:15.739523Z",
     "start_time": "2022-07-14T22:34:14.538261Z"
    },
    "execution": {
     "iopub.execute_input": "2022-05-04T04:28:57.480582Z",
     "iopub.status.busy": "2022-05-04T04:28:57.480316Z",
     "iopub.status.idle": "2022-05-04T04:28:58.635630Z",
     "shell.execute_reply": "2022-05-04T04:28:58.634909Z"
    },
    "executionInfo": {
     "elapsed": 1967,
     "status": "ok",
     "timestamp": 1651533534323,
     "user": {
      "displayName": "Rogério Delfim",
      "userId": "04235763959036945343"
     },
     "user_tz": 180
    },
    "id": "e383a9d7",
    "outputId": "220d3664-345f-4a16-a340-bd70af253b71",
    "papermill": {
     "duration": 1.295749,
     "end_time": "2022-05-04T04:28:58.638062",
     "exception": false,
     "start_time": "2022-05-04T04:28:57.342313",
     "status": "completed"
    },
    "scrolled": false,
    "tags": []
   },
   "outputs": [],
   "source": [
    "plt.figure(figsize=(15,12))\n",
    "\n",
    "cols  = feature_imp_kf5.filter(regex=r'fold').columns.to_list()\n",
    "folds = len(cols)\n",
    "row   = int(folds/2+1)\n",
    "\n",
    "for fold, col in enumerate(cols):            \n",
    "    col_acc = 'rmse_' + str(fold+1)\n",
    "    df_fi = feature_imp_kf5.sort_values(by=col, ascending=False).reset_index().iloc[:15]\n",
    "    df_fi = df_fi[['index', col, col_acc]]\n",
    "    df_fi.columns = ['Feature', 'score', col_acc]\n",
    "    plt.subplot(row, 2, fold+1)\n",
    "    sns.barplot(x='score', y='Feature', data=df_fi)    \n",
    "    plt.title('Fold {} - score: {:2.2f}'.format(fold+1, df_fi[col_acc].mean()), \n",
    "              fontdict={'fontsize':18})    \n",
    "\n",
    "plt.suptitle('Feature Importance XGB - {} folds'.format(folds) , y=1.01, fontsize=24);\n",
    "plt.tight_layout(h_pad=3.0); "
   ]
  },
  {
   "cell_type": "markdown",
   "id": "e5a0f9c2",
   "metadata": {
    "id": "e5a0f9c2",
    "papermill": {
     "duration": 0.2294,
     "end_time": "2022-05-04T04:29:37.213554",
     "exception": false,
     "start_time": "2022-05-04T04:29:36.984154",
     "status": "completed"
    },
    "tags": []
   },
   "source": [
    "### 3.1.1. Erro e  número de Estimadores"
   ]
  },
  {
   "cell_type": "code",
   "execution_count": null,
   "id": "8a8ae683",
   "metadata": {
    "ExecuteTime": {
     "end_time": "2022-07-14T22:34:16.880293Z",
     "start_time": "2022-07-14T22:34:15.742258Z"
    },
    "execution": {
     "iopub.execute_input": "2022-05-04T04:29:37.679337Z",
     "iopub.status.busy": "2022-05-04T04:29:37.679043Z",
     "iopub.status.idle": "2022-05-04T04:29:41.108165Z",
     "shell.execute_reply": "2022-05-04T04:29:41.107384Z"
    },
    "executionInfo": {
     "elapsed": 257,
     "status": "error",
     "timestamp": 1651533869561,
     "user": {
      "displayName": "Rogério Delfim",
      "userId": "04235763959036945343"
     },
     "user_tz": 180
    },
    "id": "8a8ae683",
    "outputId": "aa0496ed-7d24-45f9-9188-07a9c08a8793",
    "papermill": {
     "duration": 3.668122,
     "end_time": "2022-05-04T04:29:41.109913",
     "exception": false,
     "start_time": "2022-05-04T04:29:37.441791",
     "status": "completed"
    },
    "tags": []
   },
   "outputs": [],
   "source": [
    "cols  = feature_imp_kf5.filter(regex=r'fold').columns.to_list()\n",
    "folds = len(cols)\n",
    "row   = int(folds/2+1)\n",
    "\n",
    "for erro in eval_metric:\n",
    "    plt.figure(figsize=(15,12))\n",
    "\n",
    "    for i in range(len(model_kf5)):\n",
    "        results     = model_kf5[i]['model'].evals_result() # merror\n",
    "        ntree_limit = model_kf5[i]['model'].best_ntree_limit\n",
    "\n",
    "        plt.subplot(row,2,i+1)\n",
    "        plt.plot(results[\"validation_0\"][erro], label=\"Treinamento\")\n",
    "        plt.plot(results[\"validation_1\"][erro], label=\"Validação\")\n",
    "\n",
    "        plt.axvline(ntree_limit, \n",
    "                    color=\"gray\", \n",
    "                    label=\"N. de árvore ideal {}\".format(ntree_limit))\n",
    "\n",
    "       # plt.xlabel('Número de árvores')\n",
    "        plt.ylabel(erro)\n",
    "        plt.legend();\n",
    "\n",
    "    plt.suptitle('Performance XGB - {}'.format(erro), y=1.01, fontsize=24);\n",
    "    plt.tight_layout(h_pad=3.0);"
   ]
  },
  {
   "cell_type": "markdown",
   "id": "6745fb73",
   "metadata": {
    "id": "6745fb73",
    "papermill": {
     "duration": 0.146734,
     "end_time": "2022-05-04T04:29:41.405333",
     "exception": false,
     "start_time": "2022-05-04T04:29:41.258599",
     "status": "completed"
    },
    "tags": []
   },
   "source": [
    "<div class=\"alert alert-block alert-info\">\n",
    "<p style=\"color: black; font-family: Arial Black\">NOTA:</p>\n",
    "    \n",
    "Podemos observar acima o overfitting no treinamento do modelo, isso fica claro com a <b>validação cruzada</b> que é robusta em relação a <b>validação  Holdout </b>, que teve melhor resultado tanto na submissão quanto no treino, porém estamos sendo avaliados em 30% dos dados de teste, para resolver esse problema precisamos ajustar os parametros do modelo.\n",
    "        \n",
    "</div>"
   ]
  },
  {
   "cell_type": "markdown",
   "id": "5a77933a",
   "metadata": {
    "ExecuteTime": {
     "end_time": "2022-05-02T03:53:38.310126Z",
     "start_time": "2022-05-02T03:53:38.298141Z"
    },
    "id": "5a77933a",
    "papermill": {
     "duration": 0.147236,
     "end_time": "2022-05-04T04:29:41.699272",
     "exception": false,
     "start_time": "2022-05-04T04:29:41.552036",
     "status": "completed"
    },
    "tags": []
   },
   "source": [
    "### 3.1.2. Previsão \n",
    "\n",
    "Vamos fazer a previsão em dados não vistos no treinamento. \n",
    "    "
   ]
  },
  {
   "cell_type": "code",
   "execution_count": null,
   "id": "ea40eefc",
   "metadata": {
    "ExecuteTime": {
     "end_time": "2022-07-14T22:34:16.958260Z",
     "start_time": "2022-07-14T22:34:16.885258Z"
    },
    "execution": {
     "iopub.execute_input": "2022-05-04T04:29:41.996484Z",
     "iopub.status.busy": "2022-05-04T04:29:41.996203Z",
     "iopub.status.idle": "2022-05-04T04:29:43.214923Z",
     "shell.execute_reply": "2022-05-04T04:29:43.213272Z"
    },
    "id": "ea40eefc",
    "outputId": "b082456e-b033-4d88-f4a3-a9c7cd828910",
    "papermill": {
     "duration": 1.370872,
     "end_time": "2022-05-04T04:29:43.216762",
     "exception": false,
     "start_time": "2022-05-04T04:29:41.845890",
     "status": "completed"
    },
    "scrolled": true,
    "tags": []
   },
   "outputs": [],
   "source": [
    "num_model  = 1\n",
    "scaler_tr  = model_kf5[num_model]['scaler']\n",
    "model_tr   = model_kf5[num_model]['model']\n",
    "X_valid_sc = pd.DataFrame(scaler_tr.transform(X_valid), columns=X_valid.columns)\n",
    "\n",
    "y_pred_val = model_tr.predict(X_valid_sc, ntree_limit=model_tr.best_ntree_limit)\n",
    "\n",
    "rmse, mae, mse, mape, r_squared = Ultil.evaluation(y_valid, y_pred_val)\n",
    "\n",
    "print('RMSE: {:2.2f} - MAE: {:2.2f} - MAPE: {:2.2f}'.format(rmse, mae, mape))"
   ]
  },
  {
   "cell_type": "code",
   "execution_count": null,
   "id": "ef45d967",
   "metadata": {
    "ExecuteTime": {
     "end_time": "2022-07-14T22:34:30.003198Z",
     "start_time": "2022-07-14T22:34:16.960260Z"
    }
   },
   "outputs": [],
   "source": [
    "explainer   = shap.Explainer(model_tr)\n",
    "shap_values = explainer(X_valid_sc) \n",
    "shap.plots.bar(shap_values, max_display=50)"
   ]
  },
  {
   "cell_type": "markdown",
   "id": "666b065a",
   "metadata": {
    "ExecuteTime": {
     "end_time": "2022-07-10T03:33:32.737557Z",
     "start_time": "2022-07-10T03:33:25.960563Z"
    }
   },
   "source": [
    "<div class=\"alert alert-block alert-info\">\n",
    "<p style=\"color: black; font-family: Arial Black\">NOTA:</p>\n",
    "    \n",
    "A previsão em dados não visto no treinamento temos uma previsão de 7% acima do **RMSE** de treinamento, de certa forma o modelo generalizar em dados não visto, mas temos uma oportunidade de melhoria na modelagem.   \n",
    "    \n",
    "    \n",
    "</div>"
   ]
  },
  {
   "cell_type": "markdown",
   "id": "c6719988",
   "metadata": {
    "id": "c6719988"
   },
   "source": [
    "<div style=\"color:white;border-radius:8px;background-color:#a7d5ed\">    \n",
    "    <h1 style=\"padding:12px;color:black;\"> 5. Conclusão </h1>    \n",
    "</div>"
   ]
  },
  {
   "cell_type": "markdown",
   "id": "6b829ffd",
   "metadata": {
    "id": "6b829ffd"
   },
   "source": [
    "<div class=\"alert alert-block alert-info\">\n",
    "<p style=\"color: black; font-family: Arial Black\">NOTA:</p>\n",
    "    \n",
    "Neste notebook fizemos uma análise para conhencer os dados da competição e identificamos diversos insights, os quais foram descritos no decorrer das análise, podemos destacar alguns: \n",
    "    \n",
    "- Temos um aumento do aluguél de bicicleta no período das 10h até as 18, 8h temos um pico representativo;\n",
    "- No verão temos o maior número de aluguéis, caindo no inverto significativamente principalmente quando temos chuva. <p> <br>        \n",
    "    \n",
    "No treimanto dos modelos, o melhor resultado foi obtido com na validação cruzadas com 10 k folds, porém vamos utilizar 5 folds nos próximos notebook, pois a variância nos 10 folds é o doblo.  <br>\n",
    "    \n",
    "Os próximos passos são: <br> \n",
    "- Testar novos classificadores; <br>\n",
    "- Tunning;<br>\n",
    "- Feature selection. <br><p>    \n",
    "    \n",
    "<p style=\"color: black; font-family: Arial Black\">REFERÊNCIAS: </p>\n",
    "    \n",
    "- https://www.kaggle.com/code/cabaxiom/tps-may-22-visualising-feature-interaction <br>\n",
    "- https://www.kaggle.com/code/cabaxiom/tps-may-22-eda-lgbm-model <br>\n",
    "- https://www.kaggle.com/code/ambrosm/tpsmay22-advanced-keras/notebook <br>   \n",
    "- https://www.bixtecnologia.com.br/como-eu-gostaria-que-alguem-me-explicasse-shap-values/ <br>\n",
    "- https://www.scikit-yb.org/en/latest/api/regressor/index.html <br>\n",
    "    \n",
    "</div>"
   ]
  }
 ],
 "metadata": {
  "colab": {
   "collapsed_sections": [
    "d1d3e78d",
    "6a201220",
    "d9ef4960",
    "2ae58db0",
    "e5a0f9c2",
    "5a77933a"
   ],
   "name": "01 - EDA.ipynb",
   "provenance": [],
   "toc_visible": true
  },
  "hide_input": false,
  "kernelspec": {
   "display_name": "Python 3 (ipykernel)",
   "language": "python",
   "name": "python3"
  },
  "language_info": {
   "codemirror_mode": {
    "name": "ipython",
    "version": 3
   },
   "file_extension": ".py",
   "mimetype": "text/x-python",
   "name": "python",
   "nbconvert_exporter": "python",
   "pygments_lexer": "ipython3",
   "version": "3.9.15"
  },
  "nbTranslate": {
   "displayLangs": [
    "en",
    "pt-br"
   ],
   "hotkey": "",
   "langInMainMenu": true,
   "sourceLang": "en",
   "targetLang": "pt-br",
   "useGoogleTranslate": true
  },
  "papermill": {
   "default_parameters": {},
   "duration": 471.902672,
   "end_time": "2022-05-04T04:29:46.855613",
   "environment_variables": {},
   "exception": null,
   "input_path": "__notebook__.ipynb",
   "output_path": "__notebook__.ipynb",
   "parameters": {},
   "start_time": "2022-05-04T04:21:54.952941",
   "version": "2.3.4"
  },
  "toc": {
   "base_numbering": 1,
   "nav_menu": {
    "height": "500px",
    "width": "259px"
   },
   "number_sections": false,
   "sideBar": true,
   "skip_h1_title": false,
   "title_cell": "Table of Contents",
   "title_sidebar": "Contents",
   "toc_cell": false,
   "toc_position": {
    "height": "calc(100% - 180px)",
    "left": "10px",
    "top": "150px",
    "width": "304.46px"
   },
   "toc_section_display": true,
   "toc_window_display": true
  },
  "varInspector": {
   "cols": {
    "lenName": 16,
    "lenType": 16,
    "lenVar": 40
   },
   "kernels_config": {
    "python": {
     "delete_cmd_postfix": "",
     "delete_cmd_prefix": "del ",
     "library": "var_list.py",
     "varRefreshCmd": "print(var_dic_list())"
    },
    "r": {
     "delete_cmd_postfix": ") ",
     "delete_cmd_prefix": "rm(",
     "library": "var_list.r",
     "varRefreshCmd": "cat(var_dic_list()) "
    }
   },
   "types_to_exclude": [
    "module",
    "function",
    "builtin_function_or_method",
    "instance",
    "_Feature"
   ],
   "window_display": false
  }
 },
 "nbformat": 4,
 "nbformat_minor": 5
}
