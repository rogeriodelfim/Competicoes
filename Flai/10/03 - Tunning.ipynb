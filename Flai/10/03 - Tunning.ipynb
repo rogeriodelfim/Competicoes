{
 "cells": [
  {
   "cell_type": "markdown",
   "id": "af7c9db2",
   "metadata": {
    "id": "af7c9db2",
    "papermill": {
     "duration": 0.123947,
     "end_time": "2022-02-13T03:48:50.443026",
     "exception": false,
     "start_time": "2022-02-13T03:48:50.319079",
     "status": "completed"
    },
    "tags": []
   },
   "source": [
    "<div style=\"color:white;display:fill;border-radius:8px;\n",
    "            background-color:#a7d5ed;font-size:170%;\n",
    "            font-family:Nexa;letter-spacing:4.5px;\">    \n",
    "    <h1 style=\"padding:15px;color:black;text-align: center\"> Tunning </h1> \n",
    "</div>\n",
    "\n",
    "![](img/header.png)"
   ]
  },
  {
   "cell_type": "markdown",
   "id": "17df1cf4",
   "metadata": {
    "ExecuteTime": {
     "end_time": "2021-12-17T21:07:28.068848Z",
     "start_time": "2021-12-17T21:07:28.056849Z"
    },
    "id": "17df1cf4",
    "papermill": {
     "duration": 0.072795,
     "end_time": "2022-02-13T03:48:50.607818",
     "exception": false,
     "start_time": "2022-02-13T03:48:50.535023",
     "status": "completed"
    },
    "tags": []
   },
   "source": [
    "<div style=\"color:white;border-radius:8px;background-color:#a7d5ed\">    \n",
    "    <h1 style=\"padding:12px;color:black;\"> OBJETIVO </h1>    \n",
    "</div>"
   ]
  },
  {
   "cell_type": "markdown",
   "id": "95ed77c8",
   "metadata": {
    "id": "95ed77c8",
    "papermill": {
     "duration": 0.072412,
     "end_time": "2022-02-13T03:48:50.753402",
     "exception": false,
     "start_time": "2022-02-13T03:48:50.680990",
     "status": "completed"
    },
    "tags": []
   },
   "source": [
    "O objetivo neste notebook é criação novas variáveis (features) que possam ajudar na identificação de novos padrões, com a finalidade de bater a baseline estabelecida no [notebook anterior](https://github.com/rogeriodelfim/Competicoes/blob/main/Flai/10/02%20-%20Features%20Engineering.ipynb) com XGBoost na competição. \n"
   ]
  },
  {
   "cell_type": "markdown",
   "id": "0c6f8d9e",
   "metadata": {
    "id": "0c6f8d9e",
    "papermill": {
     "duration": 0.072397,
     "end_time": "2022-02-13T03:48:50.897545",
     "exception": false,
     "start_time": "2022-02-13T03:48:50.825148",
     "status": "completed"
    },
    "tags": []
   },
   "source": [
    "\n",
    "<div style=\"color:white;border-radius:8px;background-color:#a7d5ed\">    \n",
    "    <h1 style=\"padding:12px;color:black;\"> 1. IMPORTAÇÕES </h1>    \n",
    "</div>"
   ]
  },
  {
   "cell_type": "markdown",
   "id": "283d25b5",
   "metadata": {
    "ExecuteTime": {
     "end_time": "2021-12-17T20:49:34.792594Z",
     "start_time": "2021-12-17T20:49:34.785596Z"
    },
    "id": "283d25b5",
    "papermill": {
     "duration": 0.071893,
     "end_time": "2022-02-13T03:48:51.042107",
     "exception": false,
     "start_time": "2022-02-13T03:48:50.970214",
     "status": "completed"
    },
    "tags": []
   },
   "source": [
    "## 1.1. Instalações"
   ]
  },
  {
   "cell_type": "code",
   "execution_count": 1,
   "id": "f71a8fd8",
   "metadata": {
    "ExecuteTime": {
     "end_time": "2022-12-21T03:16:42.092245Z",
     "start_time": "2022-12-21T03:16:42.062267Z"
    },
    "code_folding": [
     2
    ],
    "colab": {
     "base_uri": "https://localhost:8080/"
    },
    "execution": {
     "iopub.execute_input": "2022-02-13T03:48:51.210862Z",
     "iopub.status.busy": "2022-02-13T03:48:51.210191Z",
     "iopub.status.idle": "2022-02-13T03:49:00.128309Z",
     "shell.execute_reply": "2022-02-13T03:49:00.127697Z",
     "shell.execute_reply.started": "2022-02-13T00:29:02.882517Z"
    },
    "executionInfo": {
     "elapsed": 74771,
     "status": "ok",
     "timestamp": 1655826420198,
     "user": {
      "displayName": "Rogério Delfim",
      "userId": "04235763959036945343"
     },
     "user_tz": 180
    },
    "id": "f71a8fd8",
    "outputId": "c19202e4-f491-44b6-c667-5a0d1ff5a9a1",
    "papermill": {
     "duration": 9.008148,
     "end_time": "2022-02-13T03:49:00.128456",
     "exception": false,
     "start_time": "2022-02-13T03:48:51.120308",
     "status": "completed"
    },
    "tags": []
   },
   "outputs": [],
   "source": [
    "COLAB = 'google.colab' in str(get_ipython()) \n",
    "\n",
    "if COLAB:        \n",
    "    !pip install --q scikit-plot\n",
    "    !pip install --q category_encoders\n",
    "    !pip install --q shap\n",
    "    !pip install --q inflection    \n",
    "    !pip install --q catboost\n",
    "    !pip install --q colorama\n",
    "    !pip install --q tensorflow\n",
    "    !pip install --q wandb\n",
    "    !pip install --q eli5\n",
    "    #!pip install --q optbinning\n",
    "    #!pip install --q catboost\n",
    "    #!pip install --q pandas-profiling\n",
    "    #!pip install --q pycaret\n",
    "        \n",
    "    from google.colab import drive\n",
    "    drive.mount('/content/drive')"
   ]
  },
  {
   "cell_type": "markdown",
   "id": "2f785108",
   "metadata": {
    "id": "2f785108",
    "papermill": {
     "duration": 0.073951,
     "end_time": "2022-02-13T03:49:00.427074",
     "exception": false,
     "start_time": "2022-02-13T03:49:00.353123",
     "status": "completed"
    },
    "tags": []
   },
   "source": [
    "## 1.2. Bibliotecas "
   ]
  },
  {
   "cell_type": "code",
   "execution_count": 185,
   "id": "dbfa56e0",
   "metadata": {
    "ExecuteTime": {
     "end_time": "2022-12-21T04:41:53.352864Z",
     "start_time": "2022-12-21T04:41:53.336845Z"
    },
    "execution": {
     "iopub.execute_input": "2022-02-13T03:49:00.577906Z",
     "iopub.status.busy": "2022-02-13T03:49:00.577228Z",
     "iopub.status.idle": "2022-02-13T03:49:02.735090Z",
     "shell.execute_reply": "2022-02-13T03:49:02.734379Z",
     "shell.execute_reply.started": "2022-02-13T00:29:11.961770Z"
    },
    "executionInfo": {
     "elapsed": 5547,
     "status": "ok",
     "timestamp": 1655826425739,
     "user": {
      "displayName": "Rogério Delfim",
      "userId": "04235763959036945343"
     },
     "user_tz": 180
    },
    "id": "dbfa56e0",
    "papermill": {
     "duration": 2.23593,
     "end_time": "2022-02-13T03:49:02.735247",
     "exception": false,
     "start_time": "2022-02-13T03:49:00.499317",
     "status": "completed"
    },
    "tags": []
   },
   "outputs": [],
   "source": [
    "import warnings\n",
    "import random\n",
    "import os\n",
    "import gc\n",
    "import torch\n",
    "import sklearn.exceptions\n",
    "import shap\n",
    "import multiprocessing\n",
    "import glob\n",
    "import scipy.optimize \n",
    "import scipy.special\n",
    "import optuna"
   ]
  },
  {
   "cell_type": "code",
   "execution_count": 749,
   "id": "508135c8",
   "metadata": {
    "ExecuteTime": {
     "end_time": "2022-12-22T01:19:36.540224Z",
     "start_time": "2022-12-22T01:19:34.014528Z"
    },
    "execution": {
     "iopub.execute_input": "2022-02-13T03:49:02.900615Z",
     "iopub.status.busy": "2022-02-13T03:49:02.899960Z",
     "iopub.status.idle": "2022-02-13T03:49:03.173267Z",
     "shell.execute_reply": "2022-02-13T03:49:03.172121Z",
     "shell.execute_reply.started": "2022-02-13T00:29:11.971454Z"
    },
    "executionInfo": {
     "elapsed": 251,
     "status": "ok",
     "timestamp": 1655826438292,
     "user": {
      "displayName": "Rogério Delfim",
      "userId": "04235763959036945343"
     },
     "user_tz": 180
    },
    "id": "508135c8",
    "papermill": {
     "duration": 0.357843,
     "end_time": "2022-02-13T03:49:03.173421",
     "exception": false,
     "start_time": "2022-02-13T03:49:02.815578",
     "status": "completed"
    },
    "tags": []
   },
   "outputs": [
    {
     "data": {
      "text/html": [
       "<style type='text/css'>\n",
       ".datatable table.frame { margin-bottom: 0; }\n",
       ".datatable table.frame thead { border-bottom: none; }\n",
       ".datatable table.frame tr.coltypes td {  color: #FFFFFF;  line-height: 6px;  padding: 0 0.5em;}\n",
       ".datatable .bool    { background: #DDDD99; }\n",
       ".datatable .object  { background: #565656; }\n",
       ".datatable .int     { background: #5D9E5D; }\n",
       ".datatable .float   { background: #4040CC; }\n",
       ".datatable .str     { background: #CC4040; }\n",
       ".datatable .time    { background: #40CC40; }\n",
       ".datatable .row_index {  background: var(--jp-border-color3);  border-right: 1px solid var(--jp-border-color0);  color: var(--jp-ui-font-color3);  font-size: 9px;}\n",
       ".datatable .frame tbody td { text-align: left; }\n",
       ".datatable .frame tr.coltypes .row_index {  background: var(--jp-border-color0);}\n",
       ".datatable th:nth-child(2) { padding-left: 12px; }\n",
       ".datatable .hellipsis {  color: var(--jp-cell-editor-border-color);}\n",
       ".datatable .vellipsis {  background: var(--jp-layout-color0);  color: var(--jp-cell-editor-border-color);}\n",
       ".datatable .na {  color: var(--jp-cell-editor-border-color);  font-size: 80%;}\n",
       ".datatable .sp {  opacity: 0.25;}\n",
       ".datatable .footer { font-size: 9px; }\n",
       ".datatable .frame_dimensions {  background: var(--jp-border-color3);  border-top: 1px solid var(--jp-border-color0);  color: var(--jp-ui-font-color3);  display: inline-block;  opacity: 0.6;  padding: 1px 10px 1px 5px;}\n",
       ".datatable .frame thead tr.colnames {  background-image: url('data:image/png;base64,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');  background-repeat: repeat-x;  background-size: 14px;  height: 28px;}\n",
       "</style>\n"
      ],
      "text/plain": [
       "<IPython.core.display.HTML object>"
      ]
     },
     "metadata": {},
     "output_type": "display_data"
    }
   ],
   "source": [
    "import pandas            as pd\n",
    "import numpy             as np\n",
    "import matplotlib.pyplot as plt \n",
    "import seaborn           as sns\n",
    "import joblib            as jb\n",
    "import scipy.stats       as stats\n",
    "import statsmodels.api   as sm\n",
    "import xgboost           as xgb\n",
    "import lightgbm          as lgb\n",
    "import scikitplot        as skplt\n",
    "import category_encoders as ce"
   ]
  },
  {
   "cell_type": "code",
   "execution_count": 187,
   "id": "32ea73f4",
   "metadata": {
    "ExecuteTime": {
     "end_time": "2022-12-21T04:41:59.651354Z",
     "start_time": "2022-12-21T04:41:59.638346Z"
    },
    "execution": {
     "iopub.execute_input": "2022-02-13T03:49:03.342248Z",
     "iopub.status.busy": "2022-02-13T03:49:03.341660Z",
     "iopub.status.idle": "2022-02-13T03:49:03.567639Z",
     "shell.execute_reply": "2022-02-13T03:49:03.568076Z",
     "shell.execute_reply.started": "2022-02-13T00:29:11.983460Z"
    },
    "executionInfo": {
     "elapsed": 3,
     "status": "ok",
     "timestamp": 1655826438589,
     "user": {
      "displayName": "Rogério Delfim",
      "userId": "04235763959036945343"
     },
     "user_tz": 180
    },
    "id": "32ea73f4",
    "papermill": {
     "duration": 0.311288,
     "end_time": "2022-02-13T03:49:03.568250",
     "exception": false,
     "start_time": "2022-02-13T03:49:03.256962",
     "status": "completed"
    },
    "tags": []
   },
   "outputs": [],
   "source": [
    "from matplotlib.axes._axes     import _log as matplotlib_axes_logger\n",
    "from sklearn.model_selection   import train_test_split, KFold, StratifiedKFold\n",
    "from sklearn.preprocessing     import StandardScaler, MinMaxScaler, RobustScaler \n",
    "from sklearn.preprocessing     import MaxAbsScaler, QuantileTransformer \n",
    "from sklearn.preprocessing     import PowerTransformer, Normalizer\n",
    "from sklearn.preprocessing     import LabelBinarizer, OneHotEncoder, OrdinalEncoder\n",
    "from sklearn                   import metrics\n",
    "from sklearn.metrics           import ConfusionMatrixDisplay, confusion_matrix, roc_auc_score\n",
    "from sklearn.metrics           import classification_report, confusion_matrix\n",
    "from datetime                  import datetime\n",
    "from sklearn.feature_selection import SelectPercentile, VarianceThreshold, SelectKBest, f_classif\n",
    "from colorama                  import Fore, Back, Style\n",
    "from collections               import Counter"
   ]
  },
  {
   "cell_type": "code",
   "execution_count": 188,
   "id": "d34372d4",
   "metadata": {
    "ExecuteTime": {
     "end_time": "2022-12-21T04:42:02.804370Z",
     "start_time": "2022-12-21T04:42:02.791218Z"
    }
   },
   "outputs": [],
   "source": [
    "from sklearn.compose            import ColumnTransformer, make_column_transformer\n",
    "from sklearn.pipeline           import Pipeline, make_pipeline, FeatureUnion\n",
    "from sklearn.feature_selection  import VarianceThreshold\n",
    "from sklearn.impute             import SimpleImputer\n",
    "from scipy.stats                import chi2_contingency\n",
    "from plotly.subplots            import make_subplots\n",
    "from sklearn.base               import BaseEstimator, TransformerMixin, clone"
   ]
  },
  {
   "cell_type": "code",
   "execution_count": 189,
   "id": "8d0a4a62",
   "metadata": {
    "ExecuteTime": {
     "end_time": "2022-12-21T04:42:05.888579Z",
     "start_time": "2022-12-21T04:42:05.876349Z"
    }
   },
   "outputs": [],
   "source": [
    "from sklearn.metrics           import precision_score\n",
    "from sklearn.metrics           import accuracy_score\n",
    "from sklearn.metrics           import recall_score\n",
    "from sklearn.metrics           import fbeta_score\n",
    "from sklearn.metrics           import f1_score\n",
    "from sklearn.metrics           import log_loss\n",
    "from sklearn.impute            import SimpleImputer\n",
    "from category_encoders         import TargetEncoder"
   ]
  },
  {
   "cell_type": "code",
   "execution_count": 190,
   "id": "d2f05e20",
   "metadata": {
    "ExecuteTime": {
     "end_time": "2022-12-21T04:42:08.954249Z",
     "start_time": "2022-12-21T04:42:08.941249Z"
    }
   },
   "outputs": [],
   "source": [
    "from imblearn.over_sampling     import SMOTE\n",
    "from imblearn.under_sampling    import RandomUnderSampler\n",
    "from sklearn.ensemble           import RandomForestClassifier"
   ]
  },
  {
   "cell_type": "code",
   "execution_count": 639,
   "id": "5998a093",
   "metadata": {
    "ExecuteTime": {
     "end_time": "2022-12-21T23:16:32.208410Z",
     "start_time": "2022-12-21T23:16:32.194357Z"
    }
   },
   "outputs": [],
   "source": [
    "from optuna.samplers               import TPESampler\n",
    "from optuna.visualization          import plot_edf\n",
    "from optuna.visualization          import plot_optimization_history\n",
    "from optuna.visualization          import plot_parallel_coordinate\n",
    "from optuna.visualization          import plot_param_importances\n",
    "from optuna.visualization          import plot_slice\n",
    "from optuna.visualization          import plot_intermediate_values\n",
    "from optuna.visualization          import plot_contour\n",
    "from optuna.pruners                import MedianPruner\n",
    "from optuna.pruners                import BasePruner\n",
    "from optuna.trial._state           import TrialState\n",
    "from optuna.integration            import XGBoostPruningCallback"
   ]
  },
  {
   "cell_type": "code",
   "execution_count": 859,
   "id": "ebdf0a13",
   "metadata": {
    "ExecuteTime": {
     "end_time": "2022-12-22T03:11:39.364443Z",
     "start_time": "2022-12-22T03:11:39.304443Z"
    }
   },
   "outputs": [],
   "source": [
    "from sklearn.ensemble          import ExtraTreesClassifier  \n",
    "from sklearn.neighbors         import KNeighborsClassifier"
   ]
  },
  {
   "cell_type": "code",
   "execution_count": 638,
   "id": "87075229",
   "metadata": {
    "ExecuteTime": {
     "end_time": "2022-12-21T23:16:06.849813Z",
     "start_time": "2022-12-21T23:16:06.833817Z"
    }
   },
   "outputs": [],
   "source": [
    "#from sklearn.ensemble         import ExtraTreesRegressor, AdaBoostRegressor\n",
    "#from sklearn.ensemble         import RandomForestRegressor, HistGradientBoostingRegressor\n",
    "#from sklearn.linear_model     import LinearRegression, Ridge #, Lasso, ElasticNet,SGDRegressor\n",
    "#from catboost                 import CatBoostRegressor,Pool\n",
    "\n",
    "\n",
    "from feature_engine.selection import DropConstantFeatures, DropDuplicateFeatures\n",
    "\n",
    "\n"
   ]
  },
  {
   "cell_type": "code",
   "execution_count": 233,
   "id": "43ea0552",
   "metadata": {
    "ExecuteTime": {
     "end_time": "2022-12-21T13:17:07.335697Z",
     "start_time": "2022-12-21T13:17:07.322661Z"
    }
   },
   "outputs": [],
   "source": [
    "#from sklearn.ensemble        import VotingRegressor\n",
    "#from sklearn.compose         import TransformedTargetRegressor\n",
    "#from sklearn.pipeline        import Pipeline\n",
    "#from scipy.stats             import skew, norm\n",
    "#from scipy.stats             import norm\n",
    "\n",
    "#from optbinning                 import OptimalBinning\n",
    "\n",
    "#from yellowbrick.regressor       import ResidualsPlot\n",
    "#from yellowbrick.regressor       import PredictionError\n",
    "#from yellowbrick.model_selection import ValidationCurve\n",
    "\n",
    "# from yellowbrick.cluster        import KElbowVisualizer, SilhouetteVisualizer\n",
    "# from sklearn.utils.class_weight import compute_sample_weight\n",
    "# from scipy                      import stats\n",
    "# from scipy.cluster              import hierarchy as hc\n",
    "# from math                       import factorial\n",
    "# from scipy.stats                import mode\n",
    "# from collections                import Counter\n",
    "# from sklearn.neighbors          import KNeighborsClassifier\n",
    "# from sklearn.pipeline     import FeatureUnion, Pipeline, make_pipeline\n",
    "\n",
    "#from sklearn.pipeline          import Pipeline, make_pipeline, FeatureUnion"
   ]
  },
  {
   "cell_type": "code",
   "execution_count": null,
   "id": "f841bc77",
   "metadata": {},
   "outputs": [],
   "source": [
    "# from imblearn.over_sampling     import SMOTE\n",
    "# from imblearn.under_sampling    import RandomUnderSampler\n",
    "# from sklearn.ensemble           import RandomForestClassifier\n",
    "# from imblearn.pipeline import Pipeline  "
   ]
  },
  {
   "cell_type": "markdown",
   "id": "44c25312",
   "metadata": {
    "id": "44c25312",
    "papermill": {
     "duration": 0.071787,
     "end_time": "2022-02-13T03:49:04.073443",
     "exception": false,
     "start_time": "2022-02-13T03:49:04.001656",
     "status": "completed"
    },
    "tags": []
   },
   "source": [
    "## 1.3. Funções\n",
    "\n",
    "Abaixo foi criado uma classe com diversas funções, que será utilizada nos processos e modelagem."
   ]
  },
  {
   "cell_type": "code",
   "execution_count": 17,
   "id": "068c3e54",
   "metadata": {
    "ExecuteTime": {
     "end_time": "2022-12-21T03:27:18.978647Z",
     "start_time": "2022-12-21T03:27:18.799346Z"
    },
    "code_folding": [
     0,
     5,
     54,
     74,
     119,
     142,
     178,
     190,
     241
    ],
    "execution": {
     "iopub.execute_input": "2022-02-13T03:49:04.235486Z",
     "iopub.status.busy": "2022-02-13T03:49:04.233853Z",
     "iopub.status.idle": "2022-02-13T03:49:04.236048Z",
     "shell.execute_reply": "2022-02-13T03:49:04.236480Z",
     "shell.execute_reply.started": "2022-02-13T00:29:12.001803Z"
    },
    "executionInfo": {
     "elapsed": 2,
     "status": "ok",
     "timestamp": 1655826441227,
     "user": {
      "displayName": "Rogério Delfim",
      "userId": "04235763959036945343"
     },
     "user_tz": 180
    },
    "id": "068c3e54",
    "papermill": {
     "duration": 0.091139,
     "end_time": "2022-02-13T03:49:04.236630",
     "exception": false,
     "start_time": "2022-02-13T03:49:04.145491",
     "status": "completed"
    },
    "run_control": {
     "marked": false
    },
    "tags": []
   },
   "outputs": [],
   "source": [
    "class Utility():\n",
    "        \n",
    "    def __init__(self):\n",
    "        self.name_ =''\n",
    "       \n",
    "    def jupyter_setting():\n",
    "    \n",
    "        %matplotlib inline\n",
    "\n",
    "        #os.environ[\"WANDB_SILENT\"] = \"true\" \n",
    "        #plt.style.use('bmh') \n",
    "        #plt.rcParams['figure.figsize'] = [20,15]\n",
    "        #plt.rcParams['font.size']      = 13\n",
    "\n",
    "        matplotlib_axes_logger.setLevel('ERROR')\n",
    "\n",
    "        pd.options.display.max_columns = None\n",
    "        #pd.set_option('display.expand_frame_repr', False)\n",
    "\n",
    "        warnings.filterwarnings(action='ignore')\n",
    "        warnings.simplefilter('ignore')\n",
    "        warnings.filterwarnings('ignore')\n",
    "        warnings.filterwarnings('ignore', category=DeprecationWarning)\n",
    "        warnings.filterwarnings('ignore', category=FutureWarning)\n",
    "        warnings.filterwarnings('ignore', category=RuntimeWarning)\n",
    "        warnings.filterwarnings('ignore', category=UserWarning)\n",
    "        warnings.filterwarnings(\"ignore\", category=sklearn.exceptions.UndefinedMetricWarning)\n",
    "        warnings.filterwarnings(\"ignore\", category= sklearn.exceptions.UndefinedMetricWarning)\n",
    "        warnings.simplefilter(action=\"ignore\", category=pd.errors.PerformanceWarning)\n",
    "\n",
    "        pd.options.mode.chained_assignment = None \n",
    "        pd.set_option('display.max_rows', 200)\n",
    "        pd.set_option('display.max_columns', 500)\n",
    "        pd.set_option('display.max_colwidth', 200)\n",
    "\n",
    "        icecream = [\"#00008b\", \"#960018\",\"#008b00\", \"#00468b\", \"#8b4500\", \"#582c00\"]\n",
    "        #sns.palplot(sns.color_palette(icecream))\n",
    "\n",
    "        colors = [\"lightcoral\", \"sandybrown\", \"darkorange\", \"mediumseagreen\",\n",
    "              \"lightseagreen\", \"cornflowerblue\", \"mediumpurple\", \"palevioletred\",\n",
    "              \"lightskyblue\", \"sandybrown\", \"yellowgreen\", \"indianred\",\n",
    "              \"lightsteelblue\", \"mediumorchid\", \"deepskyblue\"]\n",
    "\n",
    "        # Colors\n",
    "        dark_red   = \"#b20710\"\n",
    "        black      = \"#221f1f\"\n",
    "        green      = \"#009473\"\n",
    "        myred      = '#CD5C5C'\n",
    "        myblue     = '#6495ED'\n",
    "        mygreen    = '#90EE90'    \n",
    "        color_cols = [myred, myblue,mygreen]\n",
    "\n",
    "        return icecream, colors, color_cols\n",
    "\n",
    "    def missing_zero_values_table(self, df):\n",
    "        \n",
    "        mis_val         = df.isnull().sum()\n",
    "        mis_val_percent = round(df.isnull().mean().mul(100), 2)\n",
    "        mz_table        = pd.concat([mis_val, mis_val_percent], axis=1)\n",
    "        mz_table        = mz_table.rename(columns = {df.index.name:'col_name', \n",
    "                                                     0 : 'Valores ausentes', \n",
    "                                                     1 : '% de valores totais'})\n",
    "        \n",
    "        mz_table['Tipo de dados'] = df.dtypes\n",
    "        mz_table                  = mz_table[mz_table.iloc[:,1] != 0 ]. \\\n",
    "                                     sort_values('% de valores totais', ascending=False)\n",
    "        \n",
    "        msg = \"Seu dataframe selecionado tem {} colunas e {} \" + \\\n",
    "              \"linhas. \\nExistem {} colunas com valores ausentes.\"\n",
    "            \n",
    "        print (msg.format(df.shape[1], df.shape[0], mz_table.shape[0]))\n",
    "        \n",
    "        return mz_table.reset_index()\n",
    "    \n",
    "    def reduce_memory_usage(self, df, verbose=True):\n",
    "    \n",
    "        numerics = [\"int8\", \"int16\", \"int32\", \"int64\", \"float16\", \"float32\", \"float64\"]\n",
    "        start_mem = df.memory_usage().sum() / 1024 ** 2\n",
    "\n",
    "        for col in df.columns:\n",
    "\n",
    "            col_type = df[col].dtypes\n",
    "\n",
    "            if col_type in numerics:\n",
    "                c_min = df[col].min()\n",
    "                c_max = df[col].max()\n",
    "\n",
    "                if str(col_type)[:3] == \"int\":\n",
    "                    if c_min > np.iinfo(np.int8).min and c_max < np.iinfo(np.int8).max:\n",
    "                        df[col] = df[col].astype(np.int8)\n",
    "                    elif c_min > np.iinfo(np.int16).min and c_max < np.iinfo(np.int16).max:\n",
    "                        df[col] = df[col].astype(np.int16)\n",
    "                    elif c_min > np.iinfo(np.int32).min and c_max < np.iinfo(np.int32).max:\n",
    "                        df[col] = df[col].astype(np.int32)\n",
    "                    elif c_min > np.iinfo(np.int64).min and c_max < np.iinfo(np.int64).max:\n",
    "                        df[col] = df[col].astype(np.int64)\n",
    "                else:\n",
    "                    if (\n",
    "                        c_min > np.finfo(np.float16).min\n",
    "                        and c_max < np.finfo(np.float16).max\n",
    "                    ):\n",
    "                        df[col] = df[col].astype(np.float16)\n",
    "                    elif (\n",
    "                        c_min > np.finfo(np.float32).min\n",
    "                        and c_max < np.finfo(np.float32).max\n",
    "                    ):\n",
    "                        df[col] = df[col].astype(np.float32)\n",
    "                    else:\n",
    "                        df[col] = df[col].astype(np.float64)\n",
    "        end_mem = df.memory_usage().sum() / 1024 ** 2\n",
    "        if verbose:\n",
    "            print(\n",
    "                \"Mem. usage decreased to {:.2f} Mb ({:.1f}% reduction)\".format(\n",
    "                    end_mem, 100 * (start_mem - end_mem) / start_mem\n",
    "                )\n",
    "            )\n",
    "\n",
    "        return df\n",
    "    \n",
    "    def graf_label(self, ax, total):\n",
    "\n",
    "         for i in ax.patches:\n",
    "            # get_width pulls left or right; get_y pushes up or down\n",
    "            width, height = i.get_width() -.2 , i.get_height()\n",
    "\n",
    "            x, y  = i.get_xy()  \n",
    "            color = 'white'\n",
    "            alt   = .5\n",
    "            soma  = 0 \n",
    "\n",
    "            if height < 70:\n",
    "                color = 'black'\n",
    "                alt   = 1\n",
    "                soma  = 10\n",
    "\n",
    "            ax.annotate(str(round((i.get_height() * 100.0 / total), 1) )+'%', \n",
    "                        (i.get_x()+.55*width, \n",
    "                         i.get_y()+soma + alt*height),\n",
    "                         color   = color,\n",
    "                         weight = 'bold',\n",
    "                         size   = 14)\n",
    "            \n",
    "    def graf_bar(self, df, col, title, xlabel, ylabel, tol = 0):\n",
    "    \n",
    "        #ax    = df.groupby(['churn_cat'])['churn_cat'].count()\n",
    "        ax     = df    \n",
    "        colors = col\n",
    "\n",
    "        if tol == 0: \n",
    "            total  = sum(ax)\n",
    "            ax = (ax).plot(kind    ='bar',\n",
    "                           stacked = True,\n",
    "                           width   = .5,\n",
    "                           rot     = 0,\n",
    "                           color   = colors, \n",
    "                           grid    = False)\n",
    "        else:\n",
    "            total  = tol     \n",
    "            ax = (ax).plot(kind    ='bar',\n",
    "                           stacked = True,\n",
    "                           width   = .5,\n",
    "                           rot     = 0,\n",
    "                           figsize = (10,6),\n",
    "                           color   = colors,\n",
    "                           grid    = False)\n",
    "\n",
    "        title   = title #+ ' \\n'\n",
    "        xlabel  = '\\n ' + xlabel \n",
    "        ylabel  = ylabel + ' \\n'\n",
    "\n",
    "        ax.set_title(title  , fontsize=22)\n",
    "        ax.set_xlabel(xlabel, fontsize=12)\n",
    "        ax.set_ylabel(ylabel, fontsize=12)    \n",
    "\n",
    "        min = [0,23000000]\n",
    "        #ax.set_ylim(min)\n",
    "        self.graf_label(ax, total)\n",
    "\n",
    "    def correlation(self, df_, threshold_):\n",
    "        col_corr    = set()  \n",
    "        corr_matrix = df_.corr()\n",
    "        \n",
    "        for i in range(len(corr_matrix.columns)):\n",
    "            for j in range(i):\n",
    "                if abs(corr_matrix.iloc[i, j]) > threshold_: \n",
    "                    colname = corr_matrix.columns[i]  \n",
    "                    col_corr.add(colname)\n",
    "                    \n",
    "        return col_corr\n",
    "\n",
    "    def __graf_fature_corr(df_, annot_=False, threshold_=.8, print_var_=False, \n",
    "                         print_graf_=True, mask_=True, title_='', method_='pearson'):\n",
    "        \n",
    "        msg_title = '\\n Correlação das variável {} -{} \\n'.format(title_, 'method_')\n",
    "        \n",
    "        df = df_.copy().corr(method =method_).round(5)\n",
    "        \n",
    "        if print_graf_: \n",
    "            # Máscara para ocultar a parte superior direita do gráfico, pois é uma duplicata\n",
    "            mask = np.zeros_like(df)\n",
    "            mask[np.triu_indices_from(mask)] = mask_\n",
    "            \n",
    "            # Making a plot\n",
    "            ax = sns.heatmap(df, annot=annot_, \n",
    "                             mask=mask, \n",
    "                             cmap=\"RdBu\", \n",
    "                             annot_kws={\"weight\": \"bold\", \"fontsize\":13}                              \n",
    "                            )\n",
    "\n",
    "            ax.set_title(msg_title, fontsize=17)\n",
    "            \n",
    "            plt.setp(ax.get_xticklabels(), \n",
    "                     rotation      = 90, \n",
    "                     ha            = \"right\",\n",
    "                     rotation_mode = \"anchor\", \n",
    "                     weight        = \"normal\", style = 'whitegrid', palette= 'pastel')\n",
    "\n",
    "            plt.setp(ax.get_yticklabels(), \n",
    "                     weight        = \"normal\",\n",
    "                     rotation_mode = \"anchor\", \n",
    "                     rotation      = 0, \n",
    "                     ha            = \"right\", style = 'whitegrid', palette= 'pastel')\n",
    "            \n",
    "            \n",
    "            \n",
    "            plt.show();\n",
    "            \n",
    "            \n",
    "            \n",
    "        if print_var_:         \n",
    "            df_corr = df[abs(df)>threshold_][df!=1.0].unstack().dropna().reset_index()\n",
    "            if len(df_corr)>0:            \n",
    "                print('Variáveis autocorrelacionadas threshold={:2.2f}'.format(threshold_))\n",
    "                df_corr.columns =  ['var_1', 'var_2', 'corr']\n",
    "                display(df_corr)\n",
    "            else: \n",
    "                print('Não tem variáveis autocorrelacionadas threshold={:2.2f}'.format(threshold_))\n",
    "        \n",
    "        #sns.set(style=\"darkgrid\")\n",
    "        plt.show();\n",
    "                        \n",
    "    def describe(self, df):\n",
    "        var = df.columns\n",
    "\n",
    "        # Medidas de tendência central, média e mediana \n",
    "        ct1 = pd.DataFrame(df[var].apply(np.mean)).T\n",
    "        ct2 = pd.DataFrame(df[var].apply(np.median)).T\n",
    "\n",
    "        # Dispensão - str, min , max range skew, kurtosis\n",
    "        d1 = pd.DataFrame(df[var].apply(np.std)).T\n",
    "        d2 = pd.DataFrame(df[var].apply(min)).T\n",
    "        d3 = pd.DataFrame(df[var].apply(max)).T\n",
    "        d4 = pd.DataFrame(df[var].apply(lambda x: x.max() - x.min())).T\n",
    "        d5 = pd.DataFrame(df[var].apply(lambda x: x.skew())).T\n",
    "        d6 = pd.DataFrame(df[var].apply(lambda x: x.kurtosis())).T\n",
    "        d7 = pd.DataFrame(df[var].apply(lambda x: (3 *( np.mean(x) - np.median(x)) / np.std(x) ))).T\n",
    "\n",
    "        # concatenete \n",
    "        m = pd.concat([d2, d3, d4, ct1, ct2, d1, d5, d6, d7]).T.reset_index()\n",
    "        m.columns = ['attrobutes', 'min', 'max', 'range', 'mean', 'median', 'std','skew', 'kurtosis','coef_as']\n",
    "\n",
    "        return m\n",
    "\n",
    "    def graf_outlier(self, df, feature):\n",
    "        col = [(0,4), (5,9)]\n",
    "\n",
    "        df_plot = ((df[feature] - df[feature].min())/\n",
    "                   (df[feature].max() - df[feature].min()))\n",
    "\n",
    "        fig, ax = plt.subplots(len(col), 1, figsize=(15,7))\n",
    "\n",
    "        for i, (x) in enumerate(col): \n",
    "            sns.boxplot(data = df_plot.iloc[:, x[0]:x[1] ], ax = ax[i]); \n",
    "\n",
    "    def diff(self, t_a, t_b):\n",
    "        from dateutil.relativedelta import relativedelta\n",
    "        t_diff = relativedelta(t_b, t_a)  # later/end time comes first!\n",
    "        return '{h}h {m}m {s}s'.format(h=t_diff.hours, m=t_diff.minutes, s=t_diff.seconds)\n",
    "    \n",
    "    def free_gpu_cache(self):\n",
    "\n",
    "        # https://www.kaggle.com/getting-started/140636\n",
    "        #print(\"Initial GPU Usage\")\n",
    "        #gpu_usage()                             \n",
    "\n",
    "        #cuda.select_device(0)\n",
    "        #cuda.close()\n",
    "        #cuda.select_device(0)   \n",
    "\n",
    "        gc.collect()\n",
    "        torch.cuda.empty_cache()\n",
    "\n",
    "    def graf_eval(self):\n",
    "\n",
    "        results     = model.evals_result()\n",
    "        ntree_limit = model.best_ntree_limit\n",
    "\n",
    "        plt.figure(figsize=(20,7))\n",
    "\n",
    "        for i, error in  enumerate(['mlogloss', 'merror']):#\n",
    "\n",
    "            plt.subplot(1,2,i+1)\n",
    "            plt.plot(results[\"validation_0\"][error], label=\"Treinamento\")\n",
    "            plt.plot(results[\"validation_1\"][error], label=\"Validação\")\n",
    "\n",
    "            plt.axvline(ntree_limit, \n",
    "                        color=\"gray\", \n",
    "                        label=\"N. de árvore ideal {}\".format(ntree_limit))\n",
    "\n",
    "\n",
    "            title_name ='\\n' + error.upper() + ' PLOT \\n'\n",
    "            plt.title(title_name)\n",
    "            plt.xlabel(\"Número de árvores\")\n",
    "            plt.ylabel(error)\n",
    "            plt.legend();\n",
    "\n",
    "    def linear_fit_slope(self, y):\n",
    "        \"\"\"Return the slope of a linear fit to a series.\"\"\"\n",
    "        y_pure = y.dropna()\n",
    "        length = len(y_pure)\n",
    "        x = np.arange(0, length)\n",
    "        slope, intercept = np.polyfit(x, y_pure.values, deg=1)\n",
    "        return slope\n",
    "\n",
    "    def linear_fit_intercept(self, y):\n",
    "        \"\"\"Return the intercept of a linear fit to a series.\"\"\"\n",
    "        y_pure = y.dropna()\n",
    "        length = len(y_pure)\n",
    "        x = np.arange(0, length)\n",
    "        slope, intercept = np.polyfit(x, y_pure.values, deg=1)\n",
    "        return intercept\n",
    "\n",
    "    def cromer_v(self, x, y):\n",
    "        cm       = pd.crosstab(x, y).to_numpy()        \n",
    "        n        = cm.sum()\n",
    "        r, k     = cm.shape\n",
    "        chi2     = stats.chi2_contingency(cm)[0]\n",
    "        chi2corr = max(0, chi2 - (k-1) * (r-1) /(n-1))\n",
    "        kcorr    = k - (k-1) **2/(n-1)\n",
    "        rcorr    = r - (r-1) **2/(n-1)    \n",
    "        v        = np.sqrt((chi2corr/n) / (min(kcorr-1, rcorr-1)))        \n",
    "        return v  \n",
    "\n",
    "    def generate_category_table(self, data):\n",
    "\n",
    "        cols    = data.select_dtypes(include='object').columns\n",
    "        dataset = pd.DataFrame()\n",
    "\n",
    "        for i in cols:\n",
    "            corr = []\n",
    "            for x in cols: \n",
    "                corr.append(self.cromer_v(data[i],data[x]))\n",
    "\n",
    "            aux     = pd.DataFrame({i:corr})\n",
    "            dataset = pd.concat([dataset, aux], axis=1) \n",
    "\n",
    "        return dataset.set_index(dataset.columns)\n",
    "            \n",
    "    def graf_feature_corr(self, df_, annot_=False, threshold_=.8, print_var_=False, \n",
    "                          print_graf_=True, mask_=True, title_='', method_='pearson'):\n",
    "\n",
    "        df = df_.corr(method=method_).round(5)\n",
    "\n",
    "        if print_graf_: \n",
    "            # Máscara para ocultar a parte superior direita do gráfico, pois é uma duplicata\n",
    "            mask = np.zeros_like(df)\n",
    "            mask[np.triu_indices_from(mask)] = mask_\n",
    "\n",
    "            sns.set(style=\"whitegrid\", palette=\"pastel\") \n",
    "            \n",
    "            # Making a plot\n",
    "            ax = sns.heatmap(df, annot = annot_, \n",
    "                             mask      = mask, \n",
    "                             cmap      = \"RdBu\", \n",
    "                             fmt       = \".2f\",\n",
    "                             annot_kws = {\"weight\": \"bold\", \"fontsize\":10}\n",
    "                            )\n",
    "            \n",
    "            ax.set_title(\"\\n Correlação das variável {} - {} \\n\".format(title_, method_.upper()), fontsize=17)\n",
    "\n",
    "            plt.setp(ax.get_xticklabels(), \n",
    "                     rotation      = 90, \n",
    "                     ha            = \"right\",\n",
    "                     rotation_mode = \"anchor\", \n",
    "                     weight        = \"normal\")\n",
    "\n",
    "            plt.setp(ax.get_yticklabels(), \n",
    "                     weight        = \"normal\",\n",
    "                     rotation_mode = \"anchor\", \n",
    "                     rotation      = 0, \n",
    "                     ha            = \"right\")\n",
    "            \n",
    "            sns.set(style=\"darkgrid\")\n",
    "\n",
    "            plt.show();\n",
    "\n",
    "        if print_var_:         \n",
    "            df_corr = df[abs(df)>threshold_][df!=1.0].unstack().dropna().reset_index()\n",
    "            if len(df_corr)>0:            \n",
    "                print('Variáveis autocorrelacionadas threshold={:2.2f}'.format(threshold_))\n",
    "                df_corr.columns =  ['var_1', 'var_2', 'corr']\n",
    "                display(df_corr)\n",
    "            else: \n",
    "                print('Não tem variáveis autocorrelacionadas threshold={:2.2f}'.format(threshold_))\n",
    "                \n",
    "        return self.correlation(df_, threshold_)\n",
    "\n",
    "    def plot_roc_curve(self, fpr, tpr, label=None):\n",
    "        fig, ax = plt.subplots()\n",
    "        ax.plot(fpr, tpr, \"r-\", label=label)\n",
    "        ax.plot([0, 1], [0, 1], transform=ax.transAxes, ls=\"--\", c=\".3\")\n",
    "        plt.xlim([0.0, 1.0])\n",
    "        plt.ylim([0.0, 1.0])\n",
    "        plt.rcParams['font.size'] = 12\n",
    "        plt.title('ROC curve for FLAI 08')\n",
    "        plt.xlabel('False Positive Rate (1 - Specificity)')\n",
    "        plt.ylabel('True Positive Rate (Sensitivity)')\n",
    "        plt.legend(loc=\"lower right\")\n",
    "        plt.grid(True)\n",
    "\n",
    "    def feature_engineering(self, df_):\n",
    "\n",
    "        var_f27 = ''\n",
    "        for col in df_['f_27']: \n",
    "            var_f27 +=col\n",
    "\n",
    "        var_f27 = list(set(var_f27))\n",
    "        var_f27.sort()\n",
    "\n",
    "        df_[\"fe_f_27_unique\"] = df_[\"f_27\"].apply(lambda x: len(set(x)))\n",
    "\n",
    "        for letra in var_f27:             \n",
    "            df_['fe_' + letra.lower() + '_count'] = df2_train[\"f_27\"].str.count(letra)\n",
    "\n",
    "        return df_ \n",
    "\n",
    "    def identifies_outliers(self, df):\n",
    "\n",
    "        cols_num = df.select_dtypes(np.number).columns\n",
    "\n",
    "        for col in cols_num: \n",
    "            if col != 'unnamed':            \n",
    "                Q1  = df[col].quantile(0.25)\n",
    "                Q3  = df[col].quantile(0.75)\n",
    "                IQR = Q3-Q1\n",
    "                lowqe_bound=Q1 - 1.5 * IQR\n",
    "                upper_bound=Q3 + 1.5 * IQR\n",
    "\n",
    "                df['outliers_'+ col] = 0\n",
    "                df['outliers_'+ col][(df[col]<=lowqe_bound)|(df[col]>=upper_bound)] = 1    \n",
    "\n",
    "                df[col] = np.where(df[col] > df[col].quantile(0.95),\n",
    "                                                df[col].median(),\n",
    "                                                df[col])\n",
    "\n",
    "    def evaluation(self, y_, predictions_, smape_base_=100):\n",
    "        from sklearn import metrics\n",
    "        mae   = metrics.mean_absolute_error(y_, predictions_)\n",
    "        mse   = metrics.mean_squared_error(y_, predictions_)\n",
    "        rmse  = metrics.mean_squared_error(y_, predictions_, squared=False) \n",
    "        mape  = metrics.mean_absolute_percentage_error(y_, predictions_)\n",
    "        smape = self.smape(y_, predictions_)\n",
    "        r2    = metrics.r2_score(y_, predictions_)    \n",
    "        return rmse, mae, mse, mape, r2, smape\n",
    "    \n",
    "    def feature_statistic(self, df, feature_float, feature_cat=None):\n",
    "        df['fe_mean']        = df[feature_float].mean(axis=1)   \n",
    "        df['fe_std']         = df[feature_float].std(axis=1)   \n",
    "        df['fe_median']      = df[feature_float].median(axis=1)   \n",
    "        df['fe_var']         = df[feature_float].var(axis=1) \n",
    "        df['fe_min']         = df[feature_float].min(axis=1)   \n",
    "        df['fe_max']         = df[feature_float].max(axis=1)   \n",
    "        df['fe_skew']        = df[feature_float].skew(axis=1)   \n",
    "        df['fe_quantile_25'] = df[feature_float].quantile(q=.25, axis=1)\n",
    "        df['fe_quantile_50'] = df[feature_float].quantile(q=.5, axis=1)\n",
    "        df['fe_quantile_75'] = df[feature_float].quantile(q=.75, axis=1)\n",
    "        \n",
    "        if feature_cat is not None:\n",
    "            df['fe_dammy_count'] = df[feature_cat].sum(axis=1)   \n",
    "        \n",
    "        return df\n",
    "    \n",
    "    def gridSearchCV(self, model_, params_, X_train_, y_train_):\n",
    "        \"\"\"\n",
    "        @param    model: sklearn estimator\n",
    "        @param    params (dict): Dictionary of possible parameters\n",
    "\n",
    "        @return   cv_results (DataFrame)\n",
    "        \"\"\"\n",
    "        model_cv = GridSearchCV(model_, param_grid=params_, scoring='roc_auc', cv=5)\n",
    "        model_cv.fit(X_train_, y_train_)\n",
    "        cv_results = pd.DataFrame(model_cv.cv_results_)[['params', 'mean_test_score']]\n",
    "\n",
    "        return cv_results\n",
    "    \n",
    "    def evaluate(self, model,X_train_, y_train_, X_test_, plotROC=False):\n",
    "\n",
    "        model.fit(X_train_, y_train_)\n",
    "        probs = model.predict_proba(X_train_)\n",
    "        preds = probs[:,1]\n",
    "        fpr, tpr, threshold = roc_curve(y_train_, preds)\n",
    "        roc_auc = auc(fpr, tpr)\n",
    "        print(f'AUC: {roc_auc:.4f}')\n",
    "\n",
    "        rocDf = pd.DataFrame({'fpr': fpr, 'tpr':tpr, 'threshold':threshold})\n",
    "        rocDf['tpr - fpr'] = rocDf.tpr - rocDf.fpr\n",
    "        optimalThreshold = rocDf.threshold[rocDf['tpr - fpr'].idxmax()]\n",
    "\n",
    "        y_pred = np.where(preds >= optimalThreshold, 1, 0)\n",
    "\n",
    "        # Plot ROC AUC\n",
    "        if plotROC:\n",
    "            plt.title('Receiver Operating Characteristic')\n",
    "            plt.plot(fpr, tpr, 'b', label = 'AUC = %0.2f' % roc_auc)\n",
    "            plt.legend(loc = 'lower right')\n",
    "            plt.plot([0, 1], [0, 1],'r--')\n",
    "            plt.xlim([0, 1])\n",
    "            plt.ylim([0, 1])\n",
    "            plt.ylabel('True Positive Rate')\n",
    "            plt.xlabel('False Positive Rate')\n",
    "            plt.show()    \n",
    "\n",
    "    def iqr_outliers(self, df,ft):\n",
    "\n",
    "        q1  = df[ft].quantile(0.25)\n",
    "        q3  = df[ft].quantile(0.75)\n",
    "        iqr = q3-q1\n",
    "        c   = 0 \n",
    "\n",
    "        Lower_tail = q1 - 1.5 * iqr\n",
    "        Upper_tail = q3 + 1.5 * iqr\n",
    "\n",
    "        for i in range(len(df[ft])):\n",
    "            if df[ft][i] > Upper_tail or df[ft][i] < Lower_tail:\n",
    "                c+=1\n",
    "        return c\n",
    "    \n",
    "    def outlier_create_feature_check(self, df_tr_, df_ts_, cols_=[], qt_inferior_=.25, qt_superior_=.75, \n",
    "                                     flg_ts_=True, input_limete_=False, verbose_=True):\n",
    "    \n",
    "        col_oltlier         = 'fe_outlier'\n",
    "        df_tr_[col_oltlier] = 0 \n",
    "        df_ts_[col_oltlier] = 0 \n",
    "\n",
    "        for c in cols_:\n",
    "\n",
    "            percentil25 = df_tr_[c].quantile(qt_inferior_)\n",
    "            percentil75 = df_tr_[c].quantile(qt_superior_)\n",
    "\n",
    "            iqr= percentil75 - percentil25 \n",
    "\n",
    "            limite_inferior = percentil25 - 1.5 * iqr\n",
    "            limite_superior = percentil75 + 1.5 * iqr\n",
    "\n",
    "            df_tr_[col_oltlier][df_tr_[c]>limite_superior] = 1\n",
    "            df_tr_[col_oltlier][df_tr_[c]<limite_inferior] = 1\n",
    "\n",
    "            if input_limete_:\n",
    "                df_tr_[c][df_tr_[c]>limite_superior] = limite_superior\n",
    "                df_tr_[c][df_tr_[c]<limite_inferior] = limite_inferior\n",
    "\n",
    "            if flg_ts_:\n",
    "                df_ts_[col_oltlier][df_ts_[c]>limite_superior] = 1\n",
    "                df_ts_[col_oltlier][df_ts_[c]<limite_inferior] = 1\n",
    "                \n",
    "                if input_limete_:\n",
    "                    df_ts_[c][df_ts_[c]>limite_superior] = limite_superior\n",
    "                    df_ts_[c][df_ts_[c]<limite_inferior] = limite_inferior\n",
    "\n",
    "            if verbose_:\n",
    "                print('Com a variável {}'.format(c))\n",
    "                print(df_tr_[col_oltlier].value_counts())\n",
    "                print()\n",
    "\n",
    "        return df_tr_, df_ts_\n",
    "        \n",
    "    def calibrated_classifier_graf_model(self, mdl_list_, X_, y_, seed_=12359, figsize_=(10, 10), verbose_=False): \n",
    "\n",
    "        fig = plt.figure(1, figsize=figsize_)\n",
    "        ax1 = plt.subplot2grid((3, 1), (0, 0), rowspan=2)\n",
    "        \n",
    "        if verbose_: ax2 = plt.subplot2grid((3, 1), (2, 0))\n",
    "\n",
    "        ax1.plot([0, 1], [0, 1], \"k:\", label=\"Perfeitamente calibrado\")\n",
    "\n",
    "        for name, mdl1 in mdl_list_:  \n",
    "            model_pipeline  = Pipeline(steps=[\n",
    "                ('preprocessor', preprocessor_1),\n",
    "                #('sampler_over', over), \n",
    "                #('sampler_under', under),    \n",
    "                ('variancethreshold', VarianceThreshold(threshold=0.1)),    \n",
    "                ('selectpercentile', SelectPercentile(f_classif, percentile=90)), \n",
    "                ('model', mdl1)\n",
    "                ])\n",
    "\n",
    "            X_train, X_val, y_train, y_val = train_test_split(X_, y_, test_size=0.5, random_state=seed_)\n",
    "\n",
    "            model_calibrated = CalibratedClassifierCV(model_pipeline, method='isotonic', cv=2) \n",
    "            # method='isotonic' sigmoid\n",
    "\n",
    "            model_calibrated.fit(X_train, y_train)\n",
    "\n",
    "            if hasattr(model_calibrated, \"predict_proba\"):\n",
    "                prob_pos = model_calibrated.predict_proba(X_val)[:, 1]\n",
    "            else:  \n",
    "                prob_pos = model_calibrated.decision_function(X_val)\n",
    "                prob_pos = (prob_pos-prob_pos.min()) / (prob_pos.max()-prob_pos.min())\n",
    "\n",
    "            score = brier_score_loss(y_val, prob_pos, pos_label=y_val.max())\n",
    "\n",
    "            frac_of_pos, mean_pred_value = calibration_curve(y_val, prob_pos, n_bins=15, normalize=True)      \n",
    "\n",
    "            ax1.plot(mean_pred_value, frac_of_pos, \"s-\", label=\"%s (%1.3f)\" % (name, score))\n",
    "\n",
    "            ax1.set_ylabel('Fração de positivos')\n",
    "            ax1.set_ylim([-0.05, 1.05])\n",
    "            ax1.legend(loc='upper left' )\n",
    "            ax1.set_title('\\nGráficos de calibração (curva de confiabilidade)\\n', fontsize=18)\n",
    "\n",
    "            if verbose_: \n",
    "                ax2.hist(prob_pos, range=(0, 1), bins=100, label=name, histtype=\"step\", lw=2)    \n",
    "                ax2.set_xlabel('Valor médio previsto')\n",
    "                ax2.set_ylabel('Quantidade')\n",
    "                ax2.legend(loc=\"upper left\", ncol=1)\n",
    "\n",
    "                plt.tight_layout()\n",
    "\n",
    "                msg = 'AUC: {:2.5f} - F1: {:2.5f} - Perda: {:2.3f} -> {}'\n",
    "                auc = roc_auc_score(y_val, prob_pos)\n",
    "                f1  = f1_score(y_val, (prob_pos>.5).astype(int))\n",
    "                print(msg.format(auc,f1, score, name))\n",
    "\n",
    "        plt.show()\n",
    "\n",
    "    def describe(df):\n",
    "        var = df.columns\n",
    "\n",
    "        # Medidas de tendência central, média e mediana \n",
    "        ct1 = pd.DataFrame(df[var].apply(np.mean)).T\n",
    "        ct2 = pd.DataFrame(df[var].apply(np.median)).T\n",
    "\n",
    "        # Dispensão - str, min , max range skew, kurtosis\n",
    "        d1 = pd.DataFrame(df[var].apply(np.std)).T\n",
    "        d2 = pd.DataFrame(df[var].apply(min)).T\n",
    "        d3 = pd.DataFrame(df[var].apply(max)).T\n",
    "        d4 = pd.DataFrame(df[var].apply(lambda x: x.max() - x.min())).T\n",
    "        d5 = pd.DataFrame(df[var].apply(lambda x: x.skew())).T\n",
    "        d6 = pd.DataFrame(df[var].apply(lambda x: x.kurtosis())).T\n",
    "        d7 = pd.DataFrame(df[var].apply(lambda x: (3 *( np.mean(x) - np.median(x)) / np.std(x) ))).T\n",
    "\n",
    "        # concatenete \n",
    "        m = pd.concat([d2, d3, d4, ct1, ct2, d1, d5, d6, d7]).T.reset_index()\n",
    "        m.columns = ['attrobutes', 'min', 'max', 'range', 'mean', 'median', 'std','skew', 'kurtosis','coef_as']\n",
    "        \n",
    "        return m\n",
    "        \n",
    "    def smape(self, a, f):\n",
    "        return 1/len(a) * np.sum(2 * np.abs(f-a) / (np.abs(a) + np.abs(f))*100)\n",
    "\n",
    "    def smape_(self, y_true, y_pred, base_=100.):\n",
    "        denominator          = (np.abs(y_true)+np.abs(y_pred))/base_\n",
    "        diff                 = np.abs(y_true-y_pred)/denominator\n",
    "        diff[denominator==0] = 0.0\n",
    "        return np.nanmean(diff)\n",
    "    \n",
    "    def smape_loss(y_true, y_pred):\n",
    "        \"\"\"SMAPE Loss\"\"\"\n",
    "        return np.abs(y_true - y_pred) / (y_true + np.abs(y_pred)) * 200\n",
    "    \n",
    "    def calc_erro(y, y_pred, outros=True, ruturn_score=False):\n",
    "        erro   = smape(y, y_pred)    \n",
    "        \n",
    "        \n",
    "        if outros:        \n",
    "            rmse = metrics.mean_squared_error(y, y_pred, squared=False)\n",
    "            mape = metrics.mean_absolute_percentage_error(y, y_pred)\n",
    "            mae  = metrics.mean_absolute_error(y, y_pred)\n",
    "            \n",
    "            print('RMSE : {:2.5f}'.format(rmse))\n",
    "            print('MAE  : {:2.5f}'.format(mae))\n",
    "            print('MAPE : {:2.5f}'.format(mape))\n",
    "            \n",
    "            \n",
    "        if ruturn_score: \n",
    "            return erro\n",
    "        else: \n",
    "            print('SMAPE: {:2.5f}'.format(erro))\n",
    "            \n",
    "    def graf_outlier(df, feature):\n",
    "        col = [(0,4), (5,9)]\n",
    "\n",
    "        df_plot = ((df[feature] - df[feature].min())/\n",
    "                (df[feature].max() - df[feature].min()))\n",
    "\n",
    "        fig, ax = plt.subplots(len(col), 1, figsize=(15,7))\n",
    "\n",
    "        for i, (x) in enumerate(col): \n",
    "            sns.boxplot(data = df_plot.iloc[:, x[0]:x[1] ], ax = ax[i]); \n",
    "                    \n",
    "    def graf_eval():\n",
    "\n",
    "        results     = model.evals_result()\n",
    "        ntree_limit = model.best_ntree_limit\n",
    "\n",
    "        plt.figure(figsize=(20,7))\n",
    "\n",
    "        for i, error in  enumerate(['mlogloss', 'merror']):#\n",
    "            \n",
    "            plt.subplot(1,2,i+1)\n",
    "            plt.plot(results[\"validation_0\"][error], label=\"Treinamento\")\n",
    "            plt.plot(results[\"validation_1\"][error], label=\"Validação\")\n",
    "\n",
    "            plt.axvline(ntree_limit, \n",
    "                        color=\"gray\", \n",
    "                        label=\"N. de árvore ideal {}\".format(ntree_limit))\n",
    "                        \n",
    "            \n",
    "            title_name ='\\n' + error.upper() + ' PLOT \\n'\n",
    "            plt.title(title_name)\n",
    "            plt.xlabel(\"Número de árvores\")\n",
    "            plt.ylabel(error)\n",
    "            plt.legend();\n",
    "        \n",
    "    def linear_fit_slope(y):\n",
    "        \"\"\"Return the slope of a linear fit to a series.\"\"\"\n",
    "        y_pure = y.dropna()\n",
    "        length = len(y_pure)\n",
    "        x = np.arange(0, length)\n",
    "        slope, intercept = np.polyfit(x, y_pure.values, deg=1)\n",
    "        return slope\n",
    "        \n",
    "    def linear_fit_intercept(y):\n",
    "        \"\"\"Return the intercept of a linear fit to a series.\"\"\"\n",
    "        y_pure = y.dropna()\n",
    "        length = len(y_pure)\n",
    "        x = np.arange(0, length)\n",
    "        slope, intercept = np.polyfit(x, y_pure.values, deg=1)\n",
    "        return intercept\n",
    "    \n",
    "    def create_fold(self, path_): \n",
    "\n",
    "        paths = ['img', 'Data', 'Data/pkl', 'Data/submission', 'Data/tunning', \n",
    "                 'model', 'model/preds', 'model/optuna','model/preds/test', 'Data/shap',\n",
    "                 'model/preds/test/n1', 'model/preds/test/n2', 'model/preds/test/n3', \n",
    "                 'model/preds/train', 'model/preds/train/n1', 'model/preds/train/n2', \n",
    "                 'model/preds/train/n3', 'model/preds/param', 'model/mdl', 'model/preds/folds' ]\n",
    "\n",
    "        for p in paths:\n",
    "            try:\n",
    "                os.mkdir(path_+p)       \n",
    "            except:\n",
    "                #print('Erro ao criar pasta: {} '.format(path+p))\n",
    "                pass \n",
    "        \n",
    "utility = Utility()"
   ]
  },
  {
   "cell_type": "code",
   "execution_count": 18,
   "id": "373cc899",
   "metadata": {
    "ExecuteTime": {
     "end_time": "2022-12-21T03:27:20.287723Z",
     "start_time": "2022-12-21T03:27:20.270697Z"
    }
   },
   "outputs": [],
   "source": [
    "icecream, colors, color_cols = Utility.jupyter_setting()\n",
    "n_threads = multiprocessing.cpu_count()"
   ]
  },
  {
   "cell_type": "code",
   "execution_count": 19,
   "id": "972e19b6",
   "metadata": {
    "ExecuteTime": {
     "end_time": "2022-12-21T03:27:22.691199Z",
     "start_time": "2022-12-21T03:27:22.677167Z"
    },
    "code_folding": [
     0
    ]
   },
   "outputs": [],
   "source": [
    "def delete_files(namefile):\n",
    "\n",
    "        path = ['model/train', 'model/test', 'model/valid', 'model/params', 'model/score',\n",
    "                'model/test_f', 'model/cv_model', 'model/preds', 'model/optuna', \n",
    "                'model/preds/train', 'model/preds/test', 'model/preds/test/n1', \n",
    "                'model/preds/test/n2', 'model/preds/test/n3', 'model/preds/train/n1', \n",
    "                'model/preds/train/n2', 'model/preds/train/n3','model/preds/param', \n",
    "                'Data/submission/tunning', 'Data/submission', 'model/mdl'\n",
    "                \n",
    "               ]\n",
    "\n",
    "        for path_ in path:\n",
    "            for raiz, diretorios, arquivos in os.walk(path_):\n",
    "                for arquivo in arquivos:\n",
    "                    if arquivo.startswith(namefile):                    \n",
    "                        os.remove(os.path.join(raiz, arquivo))"
   ]
  },
  {
   "cell_type": "code",
   "execution_count": 20,
   "id": "03a27482",
   "metadata": {
    "ExecuteTime": {
     "end_time": "2022-12-21T03:27:23.581688Z",
     "start_time": "2022-12-21T03:27:23.564688Z"
    },
    "code_folding": [
     0
    ]
   },
   "outputs": [],
   "source": [
    "def save_data_model(model_, model_name_, path_, y_pred_train_prob_, y_pred_test_prob_, y_pred_test_submission_, \n",
    "                    score_, seed_, level_='1', target_='target', cutoff_value_=.6, gera_submission_=True):    \n",
    "    \n",
    "    level = 'n' + level_ + '/'\n",
    "\n",
    "    if score_>cutoff_value_:    \n",
    "        \n",
    "        path_name_param = path_ + 'model/preds/param/' + model_name_.format(score_, seed_) + '.pkl.z'\n",
    "        path_name_train = path_ + 'model/preds/train/' + level + model_name_.format(score_, seed_)  + '.pkl.z'\n",
    "        path_name_test  = path_ + 'model/preds/test/'  + level + model_name_.format(score_, seed_)  + '.pkl.z'   \n",
    "        path_name_model = path_ + 'model/mdl/'         + model_name_.format(score_, seed_)  + '.pkl.z'   \n",
    "        \n",
    "        delete_files(model_name_)\n",
    "        \n",
    "        jb.dump(y_pred_train_prob_, path_name_train)\n",
    "        jb.dump(y_pred_test_prob_, path_name_test)\n",
    "        jb.dump(model_, path_name_model)\n",
    "                \n",
    "        if gera_submission_:\n",
    "            df_submission[target_] = y_pred_test_submission_\n",
    "            df_submission.to_csv(path_ + 'Data/submission/' + model_name_+ '.csv', index=False)"
   ]
  },
  {
   "cell_type": "code",
   "execution_count": 21,
   "id": "4aa2be43",
   "metadata": {
    "ExecuteTime": {
     "end_time": "2022-12-21T03:27:24.309417Z",
     "start_time": "2022-12-21T03:27:24.301431Z"
    },
    "code_folding": [
     0
    ]
   },
   "outputs": [],
   "source": [
    "def plot_metric(result):\n",
    "    plt.figure(figsize=(16, 4))\n",
    "    \n",
    "    for i, metric in enumerate(['logloss']):\n",
    "        plt.subplot(1, 2, i+1)\n",
    "        train_metric = result['train'][metric]\n",
    "        plt.plot(train_metric, label=f'train {metric}')\n",
    "        eval_metric = result['valid'][metric]\n",
    "        plt.plot(eval_metric, label=f'valid {metric}')\n",
    "        plt.grid()\n",
    "        plt.legend()\n",
    "        plt.xlabel('rounds')\n",
    "        plt.ylabel(f'{metric}')\n",
    "    plt.show()"
   ]
  },
  {
   "cell_type": "code",
   "execution_count": 317,
   "id": "5a77f797",
   "metadata": {
    "ExecuteTime": {
     "end_time": "2022-12-21T20:01:05.556762Z",
     "start_time": "2022-12-21T20:01:05.494750Z"
    },
    "code_folding": [
     0
    ]
   },
   "outputs": [],
   "source": [
    "def model_cv_fit(models_, X_, y_, X_test_, path_, target_, seed_=12359, print_report_=False,\n",
    "                 n_splits_=5, print_hist_=False, create_sub_=False, save_ensamble_=True,\n",
    "                 model_feature_=None, is_tunning_=False, callbacks_=None):\n",
    "    \n",
    "    cols         = []\n",
    "    cols_score   = []\n",
    "    mdl_list_fit = []\n",
    "    tag          = 90\n",
    "    oof_train    = np.zeros((len(X_), len(models_)))\n",
    "    score_mdl    = np.zeros(len(models_),)\n",
    "    oof_test     = np.zeros((len(X_test_), len(models_)))\n",
    "    kf           = StratifiedKFold(shuffle=True, n_splits=n_splits_, random_state=seed_)\n",
    "    \n",
    "    for i, m in enumerate(models_):\n",
    "        \n",
    "        time_start       = datetime.now()\n",
    "        model            = m[1]\n",
    "        type_model       = m[2]\n",
    "        name_sub         = m[3]\n",
    "        n_estimators     = m[5]\n",
    "        score_list       = []\n",
    "        score_list_f1    = []\n",
    "        score_list_f1_tr = []\n",
    "        y_ts_pred        = 0 \n",
    "                \n",
    "        \n",
    "        if is_tunning_ is False:\n",
    "            delete_files(name_sub)\n",
    "            print()\n",
    "            print('=> {}'.format(m[0]))\n",
    "            print('='*tag)\n",
    "\n",
    "        for fold, (idx_tr, idx_va) in enumerate(kf.split(X_, y_)):\n",
    "            \n",
    "            time_fold_start = datetime.now()\n",
    "            X_ts            = X_test_.copy()\n",
    "            \n",
    "            X_tr = X_.iloc[idx_tr]\n",
    "            X_va = X_.iloc[idx_va]\n",
    "            y_tr = y_.iloc[idx_tr]\n",
    "            y_va = y_.iloc[idx_va]\n",
    "            \n",
    "            if model_feature_ is not None:\n",
    "                X_tr_ = X_tr.copy()\n",
    "                X_va_ = X_va.copy()\n",
    "                X_ts_ = X_ts.copy()\n",
    "                if model_feature_[1] is not None:\n",
    "                    X_tr_ = model_feature_[1].fit_transform(X_tr, y_tr)\n",
    "                    X_va_ = model_feature_[1].transform(X_va)\n",
    "                    X_ts_ = model_feature_[1].transform(X_ts)\n",
    "                    \n",
    "                model_feature_[0].fit(X_tr_, y_tr)\n",
    "                \n",
    "                X_tr['fe_model'] = model_feature_[0].predict_proba(X_tr_)[:,1]\n",
    "                X_va['fe_model'] = model_feature_[0].predict_proba(X_va_)[:,1]\n",
    "                X_ts['fe_model'] = model_feature_[0].predict_proba(X_ts_)[:,1]\n",
    "            \n",
    "            if type_model==1:\n",
    "                model.fit(X_tr, y_tr)\n",
    "\n",
    "            if type_model==2:\n",
    "                pp_processor = m[4]\n",
    "                X_tr = pp_processor.fit_transform(X_tr, y_tr)\n",
    "                X_va = pp_processor.transform(X_va)\n",
    "                X_ts = pp_processor.transform(X_ts)\n",
    "                \n",
    "                model.fit(X_tr, y_tr,\n",
    "                          model__eval_set=[(X_va, y_va)],\n",
    "                          #model__eval_metric ='binary_logloss',\n",
    "                          #model__callbacks=[early_stopping_rounds=100]\n",
    "                          model__early_stopping_rounds=50,\n",
    "                          model__verbose              = False)\n",
    "            \n",
    "            if type_model==3:\n",
    "                model.fit(X_tr, y_tr,\n",
    "                          eval_set              = [(X_tr, y_tr), (X_va, y_va)],\n",
    "                          early_stopping_rounds = int(n_estimators*.3),\n",
    "                          verbose               = False)\n",
    "                                \n",
    "            if type_model==4:\n",
    "                pp_processor = m[4]\n",
    "                X_tr = pp_processor.fit_transform(X_tr, y_tr)\n",
    "                X_va = pp_processor.transform(X_va)\n",
    "                X_ts = pp_processor.transform(X_test_.copy())\n",
    "                model.fit(X_tr, y_tr,\n",
    "                          eval_set              = [(X_tr, y_tr), (X_va, y_va)],\n",
    "                          early_stopping_rounds = int(n_estimators*.3),\n",
    "                          verbose               = False)\n",
    "                \n",
    "                \n",
    "            if type_model==5:\n",
    "                pp_processor = m[4]\n",
    "                X_tr = pp_processor.fit_transform(X_tr, y_tr)\n",
    "                X_va = pp_processor.transform(X_va)\n",
    "                X_ts = pp_processor.transform(X_test_.copy())\n",
    "                if callbacks_ is not None:\n",
    "                    model.fit(X_tr, y_tr,\n",
    "                              eval_set              = [(X_tr, y_tr), (X_va, y_va)],\n",
    "                              early_stopping_rounds = int(n_estimators*.3),\n",
    "                              callbacks             = callbacks_,\n",
    "                              verbose               = False)\n",
    "                else: \n",
    "                     model.fit(X_tr, y_tr,\n",
    "                              eval_set              = [(X_tr, y_tr), (X_va, y_va)],\n",
    "                              early_stopping_rounds = int(n_estimators*.3),\n",
    "                              verbose               = False)\n",
    "\n",
    "            \n",
    "            y_va_pred  = model.predict_proba(X_va)[:,1]\n",
    "            y_tr_pred  = model.predict_proba(X_tr)[:,1]\n",
    "            y_ts_pred += model.predict_proba(X_ts)[:,1]/kf.n_splits\n",
    "            \n",
    "            logloss    = log_loss(y_va, y_va_pred)\n",
    "            f1         = f1_score(y_va, (y_va_pred>.5).astype(int))\n",
    "            f1_tr      = f1_score(y_tr, (y_tr_pred>.5).astype(int))\n",
    "            roc_auc    = roc_auc_score(y_va, (y_va_pred>.5).astype(int))\n",
    "            \n",
    "            oof_train[idx_va, i] = y_va_pred\n",
    "            \n",
    "            time_fold_end = utility.diff(time_fold_start, datetime.now())\n",
    "            \n",
    "            if is_tunning_ is False:\n",
    "                msg = \"Fold {} => F1-score: {:2.5f} - F1-Train: {:2.5f} - AUC:{:2.5f} - L.Loss: {:2.5f} - {}\"\n",
    "                print(msg.format(fold+1, f1, f1_tr, roc_auc, logloss, time_fold_end))\n",
    "            \n",
    "            score_list_f1.append(f1)\n",
    "            score_list_f1_tr.append(f1_tr)\n",
    "            score_list.append(logloss)\n",
    "            \n",
    "            mdl_list_fit.append ([m[0], fold+1, model])\n",
    "\n",
    "        oof_test[:,i]    = y_ts_pred\n",
    "        score_mean       = np.mean(score_list).round(5)\n",
    "        score_mean_f1    = np.mean(score_list_f1).round(5)\n",
    "        score_mean_f1_tr = np.mean(score_list_f1_tr).round(5)\n",
    "                \n",
    "        if print_hist_: \n",
    "            plot_oof_histogram(m[0], oof_train)\n",
    "        \n",
    "        cols.append(m[0])\n",
    "        cols_score.append(m[0]+'_'+str(score_mean_f1))\n",
    "                \n",
    "        if create_sub_:\n",
    "            random = str(np.random.rand(1)[0]).replace('.','')\n",
    "            \n",
    "            if target_ is None: target_=target\n",
    "                \n",
    "            if is_tunning_ is False:\n",
    "                name_sub = name_sub+'_score_{:5f}_seed_{}_folds_{}_oof'.format(score_mean_f1, seed_, n_splits_)\n",
    "            else: \n",
    "                name_sub = name_sub+'_score_{:5f}_seed_{}_{}'.format(score_mean_f1, seed_, random)\n",
    "                \n",
    "            y_pred_test_sub = (oof_test[:,i]>.5).astype(int)\n",
    "            \n",
    "            y_pred_test_submission_=[]\n",
    "            for num in y_pred_test_sub: \n",
    "                y_pred_test_submission_.append('não' if num==0 else 'sim')\n",
    "\n",
    "            save_data_model(model_                  = model, \n",
    "                            model_name_             = name_sub, \n",
    "                            path_                   = path_, \n",
    "                            y_pred_train_prob_      = oof_train[:, i], \n",
    "                            y_pred_test_prob_       = oof_test[:,i], \n",
    "                            y_pred_test_submission_ = y_pred_test_submission_, \n",
    "                            score_                  = score_mean_f1, \n",
    "                            seed_                   = seed_, \n",
    "                            level_                  = '1', \n",
    "                            target_                 = target_, \n",
    "                            cutoff_value_           = .65, \n",
    "                            gera_submission_        = True)  \n",
    "        \n",
    "        score_mdl[i] = score_mean_f1\n",
    "        \n",
    "        time_end = utility.diff(time_start, datetime.now()) \n",
    "        \n",
    "        msg = '{}{}[Mean] => F1-score: {:.5f} - F1-Train: {:.5f} - L.Loss: {:.5f} - {}{}'\n",
    "        \n",
    "        if is_tunning_ is False:\n",
    "            print('-'*tag)\n",
    "            print(msg.format(Fore.GREEN, Style.BRIGHT, score_mean_f1, score_mean_f1_tr, \n",
    "                             score_mean, time_end, Style.RESET_ALL)) \n",
    "            print('='*tag)\n",
    "\n",
    "            if print_report_: \n",
    "                y_pred = (oof_train[:, i]>.5).astype(int)\n",
    "                print()\n",
    "                print(classification_report(y_, y_pred))\n",
    "                print(confusion_matrix(y_, y_pred))    \n",
    "\n",
    "        utility.free_gpu_cache()\n",
    "    \n",
    "    df_oof_tr    = pd.DataFrame(oof_train, columns=cols_score)\n",
    "    df_oof_ts    = pd.DataFrame(oof_test, columns=cols_score) \n",
    "    df_score_mdl = pd.DataFrame(score_mdl, columns= ['score'])\n",
    "    \n",
    "    df_score_mdl.index = cols\n",
    "    df_score_mdl       = df_score_mdl.sort_values(by='score',ascending=False)\n",
    "    \n",
    "    if is_tunning_ is False:        \n",
    "        if save_ensamble_:\n",
    "            jb.dump(df_oof_tr, path_ + 'Data/pkl/df_pred_tr.pkl.z')\n",
    "            jb.dump(df_oof_ts, path_ + 'Data/pkl/df_pred_ts.pkl.z');\n",
    "\n",
    "\n",
    "        display(df_score_mdl)\n",
    "        print()\n",
    "    \n",
    "    return mdl_list_fit, df_oof_tr, df_oof_ts, df_score_mdl, score_mean_f1"
   ]
  },
  {
   "cell_type": "markdown",
   "id": "a0df6edb",
   "metadata": {
    "id": "a0df6edb",
    "papermill": {
     "duration": 0.071953,
     "end_time": "2022-02-13T03:49:05.424578",
     "exception": false,
     "start_time": "2022-02-13T03:49:05.352625",
     "status": "completed"
    },
    "tags": []
   },
   "source": [
    "## 1.4. Criar estrutura de pasta \n"
   ]
  },
  {
   "cell_type": "code",
   "execution_count": 23,
   "id": "efb822f4",
   "metadata": {
    "ExecuteTime": {
     "end_time": "2022-12-21T03:27:44.096343Z",
     "start_time": "2022-12-21T03:27:44.077356Z"
    },
    "execution": {
     "iopub.execute_input": "2022-02-13T03:49:06.016730Z",
     "iopub.status.busy": "2022-02-13T03:49:06.015877Z",
     "iopub.status.idle": "2022-02-13T03:49:06.017698Z",
     "shell.execute_reply": "2022-02-13T03:49:06.018120Z",
     "shell.execute_reply.started": "2022-02-13T00:29:14.904585Z"
    },
    "executionInfo": {
     "elapsed": 3,
     "status": "ok",
     "timestamp": 1655826446858,
     "user": {
      "displayName": "Rogério Delfim",
      "userId": "04235763959036945343"
     },
     "user_tz": 180
    },
    "id": "efb822f4",
    "papermill": {
     "duration": 0.07893,
     "end_time": "2022-02-13T03:49:06.018259",
     "exception": false,
     "start_time": "2022-02-13T03:49:05.939329",
     "status": "completed"
    },
    "tags": []
   },
   "outputs": [],
   "source": [
    "path        = '/content/drive/MyDrive/Curso/Flai/10/' if COLAB else ''   \n",
    "path_data   = 'Data/'  \n",
    "target      = 'produto'\n",
    "path_automl = 'automl/'\n",
    "\n",
    "utility.create_fold(path)"
   ]
  },
  {
   "cell_type": "markdown",
   "id": "af184251",
   "metadata": {
    "id": "af184251",
    "papermill": {
     "duration": 0.072314,
     "end_time": "2022-02-13T03:49:05.722879",
     "exception": false,
     "start_time": "2022-02-13T03:49:05.650565",
     "status": "completed"
    },
    "tags": []
   },
   "source": [
    "## 1.5. Dataset"
   ]
  },
  {
   "cell_type": "markdown",
   "id": "400e3e7f",
   "metadata": {
    "id": "400e3e7f",
    "papermill": {
     "duration": 0.072353,
     "end_time": "2022-02-13T03:49:05.867236",
     "exception": false,
     "start_time": "2022-02-13T03:49:05.794883",
     "status": "completed"
    },
    "tags": []
   },
   "source": [
    "### 1.5.2. Carregar Dados"
   ]
  },
  {
   "cell_type": "code",
   "execution_count": 39,
   "id": "3d9d2bd0",
   "metadata": {
    "ExecuteTime": {
     "end_time": "2022-12-21T03:42:59.328614Z",
     "start_time": "2022-12-21T03:42:59.310586Z"
    },
    "colab": {
     "base_uri": "https://localhost:8080/"
    },
    "execution": {
     "iopub.execute_input": "2022-02-13T03:49:06.168402Z",
     "iopub.status.busy": "2022-02-13T03:49:06.167889Z",
     "iopub.status.idle": "2022-02-13T03:49:41.715117Z",
     "shell.execute_reply": "2022-02-13T03:49:41.715570Z",
     "shell.execute_reply.started": "2022-02-13T00:29:20.745029Z"
    },
    "executionInfo": {
     "elapsed": 736,
     "status": "ok",
     "timestamp": 1655826451000,
     "user": {
      "displayName": "Rogério Delfim",
      "userId": "04235763959036945343"
     },
     "user_tz": 180
    },
    "id": "3d9d2bd0",
    "outputId": "da741efc-9531-464e-fc6a-df84ccc6ef20",
    "papermill": {
     "duration": 35.625187,
     "end_time": "2022-02-13T03:49:41.715722",
     "exception": false,
     "start_time": "2022-02-13T03:49:06.090535",
     "status": "completed"
    },
    "tags": []
   },
   "outputs": [
    {
     "data": {
      "text/plain": [
       "((5685, 16), (5685, 16), (5685, 1))"
      ]
     },
     "execution_count": 39,
     "metadata": {},
     "output_type": "execute_result"
    }
   ],
   "source": [
    "df1_train     = jb.load(path + path_data + 'pkl/df_train_fe.pkl.z')\n",
    "df1_test      = jb.load(path + path_data + '/pkl/df_test_fe.pkl.z')\n",
    "df_submission = pd.DataFrame({target: np.zeros(df1_test.shape[0])})\n",
    "df1_train.shape, df1_test.shape, df_submission.shape"
   ]
  },
  {
   "cell_type": "markdown",
   "id": "71cfe6b0",
   "metadata": {
    "id": "71cfe6b0",
    "papermill": {
     "duration": 0.072473,
     "end_time": "2022-02-13T03:49:41.860923",
     "exception": false,
     "start_time": "2022-02-13T03:49:41.788450",
     "status": "completed"
    },
    "tags": []
   },
   "source": [
    "### 1.5.3. Visualizar os dados "
   ]
  },
  {
   "cell_type": "code",
   "execution_count": 40,
   "id": "99710704",
   "metadata": {
    "ExecuteTime": {
     "end_time": "2022-12-21T03:43:01.281891Z",
     "start_time": "2022-12-21T03:43:01.261894Z"
    },
    "colab": {
     "base_uri": "https://localhost:8080/",
     "height": 206
    },
    "execution": {
     "iopub.execute_input": "2022-02-13T03:49:42.009378Z",
     "iopub.status.busy": "2022-02-13T03:49:42.008594Z",
     "iopub.status.idle": "2022-02-13T03:49:42.190181Z",
     "shell.execute_reply": "2022-02-13T03:49:42.190682Z",
     "shell.execute_reply.started": "2022-02-13T00:32:36.910466Z"
    },
    "executionInfo": {
     "elapsed": 248,
     "status": "ok",
     "timestamp": 1655826562577,
     "user": {
      "displayName": "Rogério Delfim",
      "userId": "04235763959036945343"
     },
     "user_tz": 180
    },
    "id": "99710704",
    "outputId": "96496413-ae56-412e-e33b-3d1343961dee",
    "papermill": {
     "duration": 0.257336,
     "end_time": "2022-02-13T03:49:42.190857",
     "exception": false,
     "start_time": "2022-02-13T03:49:41.933521",
     "status": "completed"
    },
    "tags": []
   },
   "outputs": [
    {
     "data": {
      "text/html": [
       "<div>\n",
       "<style scoped>\n",
       "    .dataframe tbody tr th:only-of-type {\n",
       "        vertical-align: middle;\n",
       "    }\n",
       "\n",
       "    .dataframe tbody tr th {\n",
       "        vertical-align: top;\n",
       "    }\n",
       "\n",
       "    .dataframe thead th {\n",
       "        text-align: right;\n",
       "    }\n",
       "</style>\n",
       "<table border=\"1\" class=\"dataframe\">\n",
       "  <thead>\n",
       "    <tr style=\"text-align: right;\">\n",
       "      <th></th>\n",
       "      <th>trabalho</th>\n",
       "      <th>estado civil</th>\n",
       "      <th>educação</th>\n",
       "      <th>atraso</th>\n",
       "      <th>casa</th>\n",
       "      <th>empréstimo</th>\n",
       "      <th>contato</th>\n",
       "      <th>mês</th>\n",
       "      <th>dia</th>\n",
       "      <th>duração</th>\n",
       "      <th>ncontatos</th>\n",
       "      <th>anterior</th>\n",
       "      <th>idade_group</th>\n",
       "      <th>fe_pca_0</th>\n",
       "      <th>fe_cluster_bgmm_pca</th>\n",
       "      <th>produto</th>\n",
       "    </tr>\n",
       "  </thead>\n",
       "  <tbody>\n",
       "    <tr>\n",
       "      <th>0</th>\n",
       "      <td>escritório</td>\n",
       "      <td>casado(a)</td>\n",
       "      <td>ensino médio</td>\n",
       "      <td>não</td>\n",
       "      <td>não</td>\n",
       "      <td>não</td>\n",
       "      <td>telefone fixo</td>\n",
       "      <td>junho</td>\n",
       "      <td>quinta-feira</td>\n",
       "      <td>média</td>\n",
       "      <td>1</td>\n",
       "      <td>nenhum</td>\n",
       "      <td>Acima_35_e_Menor_Igual_45</td>\n",
       "      <td>1.339921</td>\n",
       "      <td>1</td>\n",
       "      <td>0</td>\n",
       "    </tr>\n",
       "    <tr>\n",
       "      <th>1</th>\n",
       "      <td>trabalhador manual</td>\n",
       "      <td>casado(a)</td>\n",
       "      <td>básico</td>\n",
       "      <td>NaN</td>\n",
       "      <td>não</td>\n",
       "      <td>não</td>\n",
       "      <td>telefone móvel</td>\n",
       "      <td>julho</td>\n",
       "      <td>terça-feira</td>\n",
       "      <td>média</td>\n",
       "      <td>4</td>\n",
       "      <td>nenhum</td>\n",
       "      <td>Entre_24_35</td>\n",
       "      <td>2.392869</td>\n",
       "      <td>1</td>\n",
       "      <td>0</td>\n",
       "    </tr>\n",
       "    <tr>\n",
       "      <th>2</th>\n",
       "      <td>especialista</td>\n",
       "      <td>casado(a)</td>\n",
       "      <td>NaN</td>\n",
       "      <td>não</td>\n",
       "      <td>sim</td>\n",
       "      <td>não</td>\n",
       "      <td>telefone fixo</td>\n",
       "      <td>maio</td>\n",
       "      <td>segunda-feira</td>\n",
       "      <td>longa</td>\n",
       "      <td>1</td>\n",
       "      <td>nenhum</td>\n",
       "      <td>Acima_45_e_Menor_Igual_55</td>\n",
       "      <td>1.653753</td>\n",
       "      <td>1</td>\n",
       "      <td>0</td>\n",
       "    </tr>\n",
       "    <tr>\n",
       "      <th>3</th>\n",
       "      <td>especialista</td>\n",
       "      <td>solteiro(a)</td>\n",
       "      <td>NaN</td>\n",
       "      <td>não</td>\n",
       "      <td>não</td>\n",
       "      <td>não</td>\n",
       "      <td>telefone móvel</td>\n",
       "      <td>outubro</td>\n",
       "      <td>terça-feira</td>\n",
       "      <td>longa</td>\n",
       "      <td>1</td>\n",
       "      <td>nenhum</td>\n",
       "      <td>Entre_24_35</td>\n",
       "      <td>-0.755758</td>\n",
       "      <td>2</td>\n",
       "      <td>0</td>\n",
       "    </tr>\n",
       "    <tr>\n",
       "      <th>4</th>\n",
       "      <td>escritório</td>\n",
       "      <td>solteiro(a)</td>\n",
       "      <td>ensino técnico</td>\n",
       "      <td>não</td>\n",
       "      <td>NaN</td>\n",
       "      <td>NaN</td>\n",
       "      <td>telefone móvel</td>\n",
       "      <td>junho</td>\n",
       "      <td>quinta-feira</td>\n",
       "      <td>média</td>\n",
       "      <td>1</td>\n",
       "      <td>apenas um</td>\n",
       "      <td>Entre_24_35</td>\n",
       "      <td>-3.335778</td>\n",
       "      <td>0</td>\n",
       "      <td>1</td>\n",
       "    </tr>\n",
       "  </tbody>\n",
       "</table>\n",
       "</div>"
      ],
      "text/plain": [
       "             trabalho estado civil        educação atraso casa empréstimo  \\\n",
       "0          escritório    casado(a)    ensino médio    não  não        não   \n",
       "1  trabalhador manual    casado(a)          básico    NaN  não        não   \n",
       "2        especialista    casado(a)             NaN    não  sim        não   \n",
       "3        especialista  solteiro(a)             NaN    não  não        não   \n",
       "4          escritório  solteiro(a)  ensino técnico    não  NaN        NaN   \n",
       "\n",
       "          contato      mês            dia duração  ncontatos   anterior  \\\n",
       "0   telefone fixo    junho   quinta-feira   média          1     nenhum   \n",
       "1  telefone móvel    julho    terça-feira   média          4     nenhum   \n",
       "2   telefone fixo     maio  segunda-feira   longa          1     nenhum   \n",
       "3  telefone móvel  outubro    terça-feira   longa          1     nenhum   \n",
       "4  telefone móvel    junho   quinta-feira   média          1  apenas um   \n",
       "\n",
       "                 idade_group  fe_pca_0  fe_cluster_bgmm_pca  produto  \n",
       "0  Acima_35_e_Menor_Igual_45  1.339921                    1        0  \n",
       "1                Entre_24_35  2.392869                    1        0  \n",
       "2  Acima_45_e_Menor_Igual_55  1.653753                    1        0  \n",
       "3                Entre_24_35 -0.755758                    2        0  \n",
       "4                Entre_24_35 -3.335778                    0        1  "
      ]
     },
     "execution_count": 40,
     "metadata": {},
     "output_type": "execute_result"
    }
   ],
   "source": [
    "df1_train.head()"
   ]
  },
  {
   "cell_type": "code",
   "execution_count": 41,
   "id": "ec5a9aa6",
   "metadata": {
    "ExecuteTime": {
     "end_time": "2022-12-21T03:43:02.908588Z",
     "start_time": "2022-12-21T03:43:02.887759Z"
    },
    "colab": {
     "base_uri": "https://localhost:8080/",
     "height": 206
    },
    "execution": {
     "iopub.execute_input": "2022-02-13T03:49:42.405284Z",
     "iopub.status.busy": "2022-02-13T03:49:42.395359Z",
     "iopub.status.idle": "2022-02-13T03:49:42.533525Z",
     "shell.execute_reply": "2022-02-13T03:49:42.533939Z",
     "shell.execute_reply.started": "2022-02-13T00:32:37.391051Z"
    },
    "executionInfo": {
     "elapsed": 5,
     "status": "ok",
     "timestamp": 1655826563444,
     "user": {
      "displayName": "Rogério Delfim",
      "userId": "04235763959036945343"
     },
     "user_tz": 180
    },
    "id": "ec5a9aa6",
    "outputId": "179af779-91cd-491a-b647-9e66e150caa5",
    "papermill": {
     "duration": 0.257532,
     "end_time": "2022-02-13T03:49:42.534077",
     "exception": false,
     "start_time": "2022-02-13T03:49:42.276545",
     "status": "completed"
    },
    "tags": []
   },
   "outputs": [
    {
     "data": {
      "text/html": [
       "<div>\n",
       "<style scoped>\n",
       "    .dataframe tbody tr th:only-of-type {\n",
       "        vertical-align: middle;\n",
       "    }\n",
       "\n",
       "    .dataframe tbody tr th {\n",
       "        vertical-align: top;\n",
       "    }\n",
       "\n",
       "    .dataframe thead th {\n",
       "        text-align: right;\n",
       "    }\n",
       "</style>\n",
       "<table border=\"1\" class=\"dataframe\">\n",
       "  <thead>\n",
       "    <tr style=\"text-align: right;\">\n",
       "      <th></th>\n",
       "      <th>trabalho</th>\n",
       "      <th>estado civil</th>\n",
       "      <th>educação</th>\n",
       "      <th>atraso</th>\n",
       "      <th>casa</th>\n",
       "      <th>empréstimo</th>\n",
       "      <th>contato</th>\n",
       "      <th>mês</th>\n",
       "      <th>dia</th>\n",
       "      <th>duração</th>\n",
       "      <th>ncontatos</th>\n",
       "      <th>anterior</th>\n",
       "      <th>idade_group</th>\n",
       "      <th>fe_pca_0</th>\n",
       "      <th>fe_cluster_bgmm_pca</th>\n",
       "      <th>produto</th>\n",
       "    </tr>\n",
       "  </thead>\n",
       "  <tbody>\n",
       "    <tr>\n",
       "      <th>0</th>\n",
       "      <td>escritório</td>\n",
       "      <td>casado(a)</td>\n",
       "      <td>ensino médio</td>\n",
       "      <td>não</td>\n",
       "      <td>não</td>\n",
       "      <td>não</td>\n",
       "      <td>telefone fixo</td>\n",
       "      <td>junho</td>\n",
       "      <td>quinta-feira</td>\n",
       "      <td>média</td>\n",
       "      <td>1</td>\n",
       "      <td>nenhum</td>\n",
       "      <td>Acima_35_e_Menor_Igual_45</td>\n",
       "      <td>1.339921</td>\n",
       "      <td>1</td>\n",
       "      <td>0</td>\n",
       "    </tr>\n",
       "    <tr>\n",
       "      <th>1</th>\n",
       "      <td>trabalhador manual</td>\n",
       "      <td>casado(a)</td>\n",
       "      <td>básico</td>\n",
       "      <td>NaN</td>\n",
       "      <td>não</td>\n",
       "      <td>não</td>\n",
       "      <td>telefone móvel</td>\n",
       "      <td>julho</td>\n",
       "      <td>terça-feira</td>\n",
       "      <td>média</td>\n",
       "      <td>4</td>\n",
       "      <td>nenhum</td>\n",
       "      <td>Entre_24_35</td>\n",
       "      <td>2.392869</td>\n",
       "      <td>1</td>\n",
       "      <td>0</td>\n",
       "    </tr>\n",
       "    <tr>\n",
       "      <th>2</th>\n",
       "      <td>especialista</td>\n",
       "      <td>casado(a)</td>\n",
       "      <td>NaN</td>\n",
       "      <td>não</td>\n",
       "      <td>sim</td>\n",
       "      <td>não</td>\n",
       "      <td>telefone fixo</td>\n",
       "      <td>maio</td>\n",
       "      <td>segunda-feira</td>\n",
       "      <td>longa</td>\n",
       "      <td>1</td>\n",
       "      <td>nenhum</td>\n",
       "      <td>Acima_45_e_Menor_Igual_55</td>\n",
       "      <td>1.653753</td>\n",
       "      <td>1</td>\n",
       "      <td>0</td>\n",
       "    </tr>\n",
       "    <tr>\n",
       "      <th>3</th>\n",
       "      <td>especialista</td>\n",
       "      <td>solteiro(a)</td>\n",
       "      <td>NaN</td>\n",
       "      <td>não</td>\n",
       "      <td>não</td>\n",
       "      <td>não</td>\n",
       "      <td>telefone móvel</td>\n",
       "      <td>outubro</td>\n",
       "      <td>terça-feira</td>\n",
       "      <td>longa</td>\n",
       "      <td>1</td>\n",
       "      <td>nenhum</td>\n",
       "      <td>Entre_24_35</td>\n",
       "      <td>-0.755758</td>\n",
       "      <td>2</td>\n",
       "      <td>0</td>\n",
       "    </tr>\n",
       "    <tr>\n",
       "      <th>4</th>\n",
       "      <td>escritório</td>\n",
       "      <td>solteiro(a)</td>\n",
       "      <td>ensino técnico</td>\n",
       "      <td>não</td>\n",
       "      <td>NaN</td>\n",
       "      <td>NaN</td>\n",
       "      <td>telefone móvel</td>\n",
       "      <td>junho</td>\n",
       "      <td>quinta-feira</td>\n",
       "      <td>média</td>\n",
       "      <td>1</td>\n",
       "      <td>apenas um</td>\n",
       "      <td>Entre_24_35</td>\n",
       "      <td>-3.335778</td>\n",
       "      <td>0</td>\n",
       "      <td>1</td>\n",
       "    </tr>\n",
       "  </tbody>\n",
       "</table>\n",
       "</div>"
      ],
      "text/plain": [
       "             trabalho estado civil        educação atraso casa empréstimo  \\\n",
       "0          escritório    casado(a)    ensino médio    não  não        não   \n",
       "1  trabalhador manual    casado(a)          básico    NaN  não        não   \n",
       "2        especialista    casado(a)             NaN    não  sim        não   \n",
       "3        especialista  solteiro(a)             NaN    não  não        não   \n",
       "4          escritório  solteiro(a)  ensino técnico    não  NaN        NaN   \n",
       "\n",
       "          contato      mês            dia duração  ncontatos   anterior  \\\n",
       "0   telefone fixo    junho   quinta-feira   média          1     nenhum   \n",
       "1  telefone móvel    julho    terça-feira   média          4     nenhum   \n",
       "2   telefone fixo     maio  segunda-feira   longa          1     nenhum   \n",
       "3  telefone móvel  outubro    terça-feira   longa          1     nenhum   \n",
       "4  telefone móvel    junho   quinta-feira   média          1  apenas um   \n",
       "\n",
       "                 idade_group  fe_pca_0  fe_cluster_bgmm_pca  produto  \n",
       "0  Acima_35_e_Menor_Igual_45  1.339921                    1        0  \n",
       "1                Entre_24_35  2.392869                    1        0  \n",
       "2  Acima_45_e_Menor_Igual_55  1.653753                    1        0  \n",
       "3                Entre_24_35 -0.755758                    2        0  \n",
       "4                Entre_24_35 -3.335778                    0        1  "
      ]
     },
     "execution_count": 41,
     "metadata": {},
     "output_type": "execute_result"
    }
   ],
   "source": [
    "df1_test.head()"
   ]
  },
  {
   "cell_type": "code",
   "execution_count": 42,
   "id": "90a18f25",
   "metadata": {
    "ExecuteTime": {
     "end_time": "2022-12-21T03:43:05.061293Z",
     "start_time": "2022-12-21T03:43:05.038275Z"
    },
    "colab": {
     "base_uri": "https://localhost:8080/"
    },
    "executionInfo": {
     "elapsed": 6,
     "status": "ok",
     "timestamp": 1655826564890,
     "user": {
      "displayName": "Rogério Delfim",
      "userId": "04235763959036945343"
     },
     "user_tz": 180
    },
    "id": "90a18f25",
    "outputId": "0a102ced-c806-44cb-a7f0-d019717c5f91"
   },
   "outputs": [
    {
     "name": "stdout",
     "output_type": "stream",
     "text": [
      "<class 'pandas.core.frame.DataFrame'>\n",
      "Int64Index: 5685 entries, 0 to 5699\n",
      "Data columns (total 16 columns):\n",
      " #   Column               Non-Null Count  Dtype  \n",
      "---  ------               --------------  -----  \n",
      " 0   trabalho             5463 non-null   object \n",
      " 1   estado civil         5672 non-null   object \n",
      " 2   educação             5443 non-null   object \n",
      " 3   atraso               4662 non-null   object \n",
      " 4   casa                 5547 non-null   object \n",
      " 5   empréstimo           5547 non-null   object \n",
      " 6   contato              5685 non-null   object \n",
      " 7   mês                  5685 non-null   object \n",
      " 8   dia                  5685 non-null   object \n",
      " 9   duração              5685 non-null   object \n",
      " 10  ncontatos            5685 non-null   int64  \n",
      " 11  anterior             5685 non-null   object \n",
      " 12  idade_group          5685 non-null   object \n",
      " 13  fe_pca_0             5685 non-null   float64\n",
      " 14  fe_cluster_bgmm_pca  5685 non-null   int64  \n",
      " 15  produto              5685 non-null   int64  \n",
      "dtypes: float64(1), int64(3), object(12)\n",
      "memory usage: 755.0+ KB\n"
     ]
    }
   ],
   "source": [
    "df1_train.info()"
   ]
  },
  {
   "cell_type": "markdown",
   "id": "6d549a77",
   "metadata": {
    "id": "6d549a77",
    "papermill": {
     "duration": 0.079208,
     "end_time": "2022-02-13T03:49:42.692351",
     "exception": false,
     "start_time": "2022-02-13T03:49:42.613143",
     "status": "completed"
    },
    "tags": []
   },
   "source": [
    "<div style=\"color:white;border-radius:8px;background-color:#a7d5ed\">    \n",
    "    <h1 style=\"padding:12px;color:black;\"> 2. PROCESSAMENTO </h1>    \n",
    "</div>"
   ]
  },
  {
   "cell_type": "code",
   "execution_count": 72,
   "id": "7643ba74",
   "metadata": {
    "ExecuteTime": {
     "end_time": "2022-12-21T03:52:43.282564Z",
     "start_time": "2022-12-21T03:52:43.255440Z"
    },
    "colab": {
     "base_uri": "https://localhost:8080/"
    },
    "execution": {
     "iopub.execute_input": "2022-02-13T03:49:42.853256Z",
     "iopub.status.busy": "2022-02-13T03:49:42.852120Z",
     "iopub.status.idle": "2022-02-13T03:49:43.099052Z",
     "shell.execute_reply": "2022-02-13T03:49:43.099642Z",
     "shell.execute_reply.started": "2022-02-13T00:32:38.686356Z"
    },
    "executionInfo": {
     "elapsed": 3,
     "status": "ok",
     "timestamp": 1655826565346,
     "user": {
      "displayName": "Rogério Delfim",
      "userId": "04235763959036945343"
     },
     "user_tz": 180
    },
    "id": "7643ba74",
    "outputId": "390fba40-8495-4a1a-fcef-53396905b09c",
    "papermill": {
     "duration": 0.329418,
     "end_time": "2022-02-13T03:49:43.099806",
     "exception": false,
     "start_time": "2022-02-13T03:49:42.770388",
     "status": "completed"
    },
    "tags": []
   },
   "outputs": [
    {
     "data": {
      "text/html": [
       "<div>\n",
       "<style scoped>\n",
       "    .dataframe tbody tr th:only-of-type {\n",
       "        vertical-align: middle;\n",
       "    }\n",
       "\n",
       "    .dataframe tbody tr th {\n",
       "        vertical-align: top;\n",
       "    }\n",
       "\n",
       "    .dataframe thead th {\n",
       "        text-align: right;\n",
       "    }\n",
       "</style>\n",
       "<table border=\"1\" class=\"dataframe\">\n",
       "  <thead>\n",
       "    <tr style=\"text-align: right;\">\n",
       "      <th></th>\n",
       "      <th>trabalho</th>\n",
       "      <th>estado civil</th>\n",
       "      <th>educação</th>\n",
       "      <th>atraso</th>\n",
       "      <th>casa</th>\n",
       "      <th>empréstimo</th>\n",
       "      <th>contato</th>\n",
       "      <th>mês</th>\n",
       "      <th>dia</th>\n",
       "      <th>duração</th>\n",
       "      <th>ncontatos</th>\n",
       "      <th>anterior</th>\n",
       "      <th>idade_group</th>\n",
       "      <th>fe_pca_0</th>\n",
       "      <th>fe_cluster</th>\n",
       "      <th>produto</th>\n",
       "    </tr>\n",
       "  </thead>\n",
       "  <tbody>\n",
       "    <tr>\n",
       "      <th>0</th>\n",
       "      <td>escritório</td>\n",
       "      <td>casado(a)</td>\n",
       "      <td>ensino médio</td>\n",
       "      <td>não</td>\n",
       "      <td>não</td>\n",
       "      <td>não</td>\n",
       "      <td>telefone fixo</td>\n",
       "      <td>junho</td>\n",
       "      <td>quinta-feira</td>\n",
       "      <td>média</td>\n",
       "      <td>1</td>\n",
       "      <td>nenhum</td>\n",
       "      <td>Acima_35_e_Menor_Igual_45</td>\n",
       "      <td>1.339921</td>\n",
       "      <td>cluster_2</td>\n",
       "      <td>0</td>\n",
       "    </tr>\n",
       "    <tr>\n",
       "      <th>1</th>\n",
       "      <td>trabalhador manual</td>\n",
       "      <td>casado(a)</td>\n",
       "      <td>básico</td>\n",
       "      <td>NaN</td>\n",
       "      <td>não</td>\n",
       "      <td>não</td>\n",
       "      <td>telefone móvel</td>\n",
       "      <td>julho</td>\n",
       "      <td>terça-feira</td>\n",
       "      <td>média</td>\n",
       "      <td>4</td>\n",
       "      <td>nenhum</td>\n",
       "      <td>Entre_24_35</td>\n",
       "      <td>2.392869</td>\n",
       "      <td>cluster_2</td>\n",
       "      <td>0</td>\n",
       "    </tr>\n",
       "    <tr>\n",
       "      <th>2</th>\n",
       "      <td>especialista</td>\n",
       "      <td>casado(a)</td>\n",
       "      <td>NaN</td>\n",
       "      <td>não</td>\n",
       "      <td>sim</td>\n",
       "      <td>não</td>\n",
       "      <td>telefone fixo</td>\n",
       "      <td>maio</td>\n",
       "      <td>segunda-feira</td>\n",
       "      <td>longa</td>\n",
       "      <td>1</td>\n",
       "      <td>nenhum</td>\n",
       "      <td>Acima_45_e_Menor_Igual_55</td>\n",
       "      <td>1.653753</td>\n",
       "      <td>cluster_2</td>\n",
       "      <td>0</td>\n",
       "    </tr>\n",
       "    <tr>\n",
       "      <th>3</th>\n",
       "      <td>especialista</td>\n",
       "      <td>solteiro(a)</td>\n",
       "      <td>NaN</td>\n",
       "      <td>não</td>\n",
       "      <td>não</td>\n",
       "      <td>não</td>\n",
       "      <td>telefone móvel</td>\n",
       "      <td>outubro</td>\n",
       "      <td>terça-feira</td>\n",
       "      <td>longa</td>\n",
       "      <td>1</td>\n",
       "      <td>nenhum</td>\n",
       "      <td>Entre_24_35</td>\n",
       "      <td>-0.755758</td>\n",
       "      <td>cluster_3</td>\n",
       "      <td>0</td>\n",
       "    </tr>\n",
       "    <tr>\n",
       "      <th>4</th>\n",
       "      <td>escritório</td>\n",
       "      <td>solteiro(a)</td>\n",
       "      <td>ensino técnico</td>\n",
       "      <td>não</td>\n",
       "      <td>NaN</td>\n",
       "      <td>NaN</td>\n",
       "      <td>telefone móvel</td>\n",
       "      <td>junho</td>\n",
       "      <td>quinta-feira</td>\n",
       "      <td>média</td>\n",
       "      <td>1</td>\n",
       "      <td>apenas um</td>\n",
       "      <td>Entre_24_35</td>\n",
       "      <td>-3.335778</td>\n",
       "      <td>cluster_1</td>\n",
       "      <td>1</td>\n",
       "    </tr>\n",
       "  </tbody>\n",
       "</table>\n",
       "</div>"
      ],
      "text/plain": [
       "             trabalho estado civil        educação atraso casa empréstimo  \\\n",
       "0          escritório    casado(a)    ensino médio    não  não        não   \n",
       "1  trabalhador manual    casado(a)          básico    NaN  não        não   \n",
       "2        especialista    casado(a)             NaN    não  sim        não   \n",
       "3        especialista  solteiro(a)             NaN    não  não        não   \n",
       "4          escritório  solteiro(a)  ensino técnico    não  NaN        NaN   \n",
       "\n",
       "          contato      mês            dia duração  ncontatos   anterior  \\\n",
       "0   telefone fixo    junho   quinta-feira   média          1     nenhum   \n",
       "1  telefone móvel    julho    terça-feira   média          4     nenhum   \n",
       "2   telefone fixo     maio  segunda-feira   longa          1     nenhum   \n",
       "3  telefone móvel  outubro    terça-feira   longa          1     nenhum   \n",
       "4  telefone móvel    junho   quinta-feira   média          1  apenas um   \n",
       "\n",
       "                 idade_group  fe_pca_0 fe_cluster  produto  \n",
       "0  Acima_35_e_Menor_Igual_45  1.339921  cluster_2        0  \n",
       "1                Entre_24_35  2.392869  cluster_2        0  \n",
       "2  Acima_45_e_Menor_Igual_55  1.653753  cluster_2        0  \n",
       "3                Entre_24_35 -0.755758  cluster_3        0  \n",
       "4                Entre_24_35 -3.335778  cluster_1        1  "
      ]
     },
     "execution_count": 72,
     "metadata": {},
     "output_type": "execute_result"
    }
   ],
   "source": [
    "df2_train = df1_train.copy()\n",
    "df2_test  = df1_test.copy()\n",
    "\n",
    "map_cluster = {0:'cluster_1', 1:'cluster_2', 2:'cluster_3', 3:'cluster_4'}\n",
    "df2_train['fe_cluster_bgmm_pca'] = df2_train['fe_cluster_bgmm_pca'].map(map_cluster)\n",
    "df2_test['fe_cluster_bgmm_pca']  = df2_test['fe_cluster_bgmm_pca'].map(map_cluster)\n",
    "\n",
    "df2_train.rename(columns={'fe_cluster_bgmm_pca': 'fe_cluster'},inplace=True)\n",
    "df2_test.rename(columns={'fe_cluster_bgmm_pca': 'fe_cluster'}, inplace=True)\n",
    "\n",
    "df2_test.head()"
   ]
  },
  {
   "cell_type": "code",
   "execution_count": 73,
   "id": "3e9a88b5",
   "metadata": {
    "ExecuteTime": {
     "end_time": "2022-12-21T03:52:43.817350Z",
     "start_time": "2022-12-21T03:52:43.791376Z"
    }
   },
   "outputs": [
    {
     "data": {
      "text/html": [
       "<div>\n",
       "<style scoped>\n",
       "    .dataframe tbody tr th:only-of-type {\n",
       "        vertical-align: middle;\n",
       "    }\n",
       "\n",
       "    .dataframe tbody tr th {\n",
       "        vertical-align: top;\n",
       "    }\n",
       "\n",
       "    .dataframe thead th {\n",
       "        text-align: right;\n",
       "    }\n",
       "</style>\n",
       "<table border=\"1\" class=\"dataframe\">\n",
       "  <thead>\n",
       "    <tr style=\"text-align: right;\">\n",
       "      <th></th>\n",
       "      <th>trabalho</th>\n",
       "      <th>estado civil</th>\n",
       "      <th>educação</th>\n",
       "      <th>atraso</th>\n",
       "      <th>casa</th>\n",
       "      <th>empréstimo</th>\n",
       "      <th>contato</th>\n",
       "      <th>mês</th>\n",
       "      <th>dia</th>\n",
       "      <th>duração</th>\n",
       "      <th>ncontatos</th>\n",
       "      <th>anterior</th>\n",
       "      <th>idade_group</th>\n",
       "      <th>fe_pca_0</th>\n",
       "      <th>fe_cluster</th>\n",
       "      <th>produto</th>\n",
       "    </tr>\n",
       "  </thead>\n",
       "  <tbody>\n",
       "    <tr>\n",
       "      <th>0</th>\n",
       "      <td>escritório</td>\n",
       "      <td>casado(a)</td>\n",
       "      <td>ensino médio</td>\n",
       "      <td>não</td>\n",
       "      <td>não</td>\n",
       "      <td>não</td>\n",
       "      <td>telefone fixo</td>\n",
       "      <td>junho</td>\n",
       "      <td>quinta-feira</td>\n",
       "      <td>média</td>\n",
       "      <td>1</td>\n",
       "      <td>nenhum</td>\n",
       "      <td>Acima_35_e_Menor_Igual_45</td>\n",
       "      <td>1.339921</td>\n",
       "      <td>cluster_2</td>\n",
       "      <td>0</td>\n",
       "    </tr>\n",
       "    <tr>\n",
       "      <th>1</th>\n",
       "      <td>trabalhador manual</td>\n",
       "      <td>casado(a)</td>\n",
       "      <td>básico</td>\n",
       "      <td>NaN</td>\n",
       "      <td>não</td>\n",
       "      <td>não</td>\n",
       "      <td>telefone móvel</td>\n",
       "      <td>julho</td>\n",
       "      <td>terça-feira</td>\n",
       "      <td>média</td>\n",
       "      <td>4</td>\n",
       "      <td>nenhum</td>\n",
       "      <td>Entre_24_35</td>\n",
       "      <td>2.392869</td>\n",
       "      <td>cluster_2</td>\n",
       "      <td>0</td>\n",
       "    </tr>\n",
       "    <tr>\n",
       "      <th>2</th>\n",
       "      <td>especialista</td>\n",
       "      <td>casado(a)</td>\n",
       "      <td>NaN</td>\n",
       "      <td>não</td>\n",
       "      <td>sim</td>\n",
       "      <td>não</td>\n",
       "      <td>telefone fixo</td>\n",
       "      <td>maio</td>\n",
       "      <td>segunda-feira</td>\n",
       "      <td>longa</td>\n",
       "      <td>1</td>\n",
       "      <td>nenhum</td>\n",
       "      <td>Acima_45_e_Menor_Igual_55</td>\n",
       "      <td>1.653753</td>\n",
       "      <td>cluster_2</td>\n",
       "      <td>0</td>\n",
       "    </tr>\n",
       "    <tr>\n",
       "      <th>3</th>\n",
       "      <td>especialista</td>\n",
       "      <td>solteiro(a)</td>\n",
       "      <td>NaN</td>\n",
       "      <td>não</td>\n",
       "      <td>não</td>\n",
       "      <td>não</td>\n",
       "      <td>telefone móvel</td>\n",
       "      <td>outubro</td>\n",
       "      <td>terça-feira</td>\n",
       "      <td>longa</td>\n",
       "      <td>1</td>\n",
       "      <td>nenhum</td>\n",
       "      <td>Entre_24_35</td>\n",
       "      <td>-0.755758</td>\n",
       "      <td>cluster_3</td>\n",
       "      <td>0</td>\n",
       "    </tr>\n",
       "    <tr>\n",
       "      <th>4</th>\n",
       "      <td>escritório</td>\n",
       "      <td>solteiro(a)</td>\n",
       "      <td>ensino técnico</td>\n",
       "      <td>não</td>\n",
       "      <td>NaN</td>\n",
       "      <td>NaN</td>\n",
       "      <td>telefone móvel</td>\n",
       "      <td>junho</td>\n",
       "      <td>quinta-feira</td>\n",
       "      <td>média</td>\n",
       "      <td>1</td>\n",
       "      <td>apenas um</td>\n",
       "      <td>Entre_24_35</td>\n",
       "      <td>-3.335778</td>\n",
       "      <td>cluster_1</td>\n",
       "      <td>1</td>\n",
       "    </tr>\n",
       "  </tbody>\n",
       "</table>\n",
       "</div>"
      ],
      "text/plain": [
       "             trabalho estado civil        educação atraso casa empréstimo  \\\n",
       "0          escritório    casado(a)    ensino médio    não  não        não   \n",
       "1  trabalhador manual    casado(a)          básico    NaN  não        não   \n",
       "2        especialista    casado(a)             NaN    não  sim        não   \n",
       "3        especialista  solteiro(a)             NaN    não  não        não   \n",
       "4          escritório  solteiro(a)  ensino técnico    não  NaN        NaN   \n",
       "\n",
       "          contato      mês            dia duração  ncontatos   anterior  \\\n",
       "0   telefone fixo    junho   quinta-feira   média          1     nenhum   \n",
       "1  telefone móvel    julho    terça-feira   média          4     nenhum   \n",
       "2   telefone fixo     maio  segunda-feira   longa          1     nenhum   \n",
       "3  telefone móvel  outubro    terça-feira   longa          1     nenhum   \n",
       "4  telefone móvel    junho   quinta-feira   média          1  apenas um   \n",
       "\n",
       "                 idade_group  fe_pca_0 fe_cluster  produto  \n",
       "0  Acima_35_e_Menor_Igual_45  1.339921  cluster_2        0  \n",
       "1                Entre_24_35  2.392869  cluster_2        0  \n",
       "2  Acima_45_e_Menor_Igual_55  1.653753  cluster_2        0  \n",
       "3                Entre_24_35 -0.755758  cluster_3        0  \n",
       "4                Entre_24_35 -3.335778  cluster_1        1  "
      ]
     },
     "execution_count": 73,
     "metadata": {},
     "output_type": "execute_result"
    }
   ],
   "source": [
    "df2_train.head()"
   ]
  },
  {
   "cell_type": "markdown",
   "id": "209943d8",
   "metadata": {
    "id": "209943d8",
    "papermill": {
     "duration": 0.078107,
     "end_time": "2022-02-13T03:49:43.257059",
     "exception": false,
     "start_time": "2022-02-13T03:49:43.178952",
     "status": "completed"
    },
    "tags": []
   },
   "source": [
    "## 2.1. Dados duplicados "
   ]
  },
  {
   "cell_type": "code",
   "execution_count": 74,
   "id": "6f13d67c",
   "metadata": {
    "ExecuteTime": {
     "end_time": "2022-12-21T03:52:44.915220Z",
     "start_time": "2022-12-21T03:52:44.887243Z"
    }
   },
   "outputs": [
    {
     "data": {
      "text/plain": [
       "(68, 16)"
      ]
     },
     "execution_count": 74,
     "metadata": {},
     "output_type": "execute_result"
    }
   ],
   "source": [
    "df2_train[df2_train.duplicated()].shape"
   ]
  },
  {
   "cell_type": "code",
   "execution_count": 75,
   "id": "9e41f6c6",
   "metadata": {
    "ExecuteTime": {
     "end_time": "2022-12-21T03:52:45.508981Z",
     "start_time": "2022-12-21T03:52:45.493981Z"
    }
   },
   "outputs": [
    {
     "data": {
      "text/html": [
       "<div>\n",
       "<style scoped>\n",
       "    .dataframe tbody tr th:only-of-type {\n",
       "        vertical-align: middle;\n",
       "    }\n",
       "\n",
       "    .dataframe tbody tr th {\n",
       "        vertical-align: top;\n",
       "    }\n",
       "\n",
       "    .dataframe thead th {\n",
       "        text-align: right;\n",
       "    }\n",
       "</style>\n",
       "<table border=\"1\" class=\"dataframe\">\n",
       "  <thead>\n",
       "    <tr style=\"text-align: right;\">\n",
       "      <th></th>\n",
       "      <th>trabalho</th>\n",
       "      <th>estado civil</th>\n",
       "      <th>educação</th>\n",
       "      <th>atraso</th>\n",
       "      <th>casa</th>\n",
       "      <th>empréstimo</th>\n",
       "      <th>contato</th>\n",
       "      <th>mês</th>\n",
       "      <th>dia</th>\n",
       "      <th>duração</th>\n",
       "      <th>ncontatos</th>\n",
       "      <th>anterior</th>\n",
       "      <th>idade_group</th>\n",
       "      <th>fe_pca_0</th>\n",
       "      <th>fe_cluster</th>\n",
       "      <th>produto</th>\n",
       "    </tr>\n",
       "  </thead>\n",
       "  <tbody>\n",
       "    <tr>\n",
       "      <th>5448</th>\n",
       "      <td>trabalhador manual</td>\n",
       "      <td>solteiro(a)</td>\n",
       "      <td>ensino médio</td>\n",
       "      <td>não</td>\n",
       "      <td>sim</td>\n",
       "      <td>não</td>\n",
       "      <td>telefone móvel</td>\n",
       "      <td>março</td>\n",
       "      <td>quarta-feira</td>\n",
       "      <td>média</td>\n",
       "      <td>4</td>\n",
       "      <td>apenas um</td>\n",
       "      <td>Entre_24_35</td>\n",
       "      <td>-2.374603</td>\n",
       "      <td>cluster_1</td>\n",
       "      <td>1</td>\n",
       "    </tr>\n",
       "    <tr>\n",
       "      <th>1060</th>\n",
       "      <td>trabalhador manual</td>\n",
       "      <td>casado(a)</td>\n",
       "      <td>ensino médio</td>\n",
       "      <td>NaN</td>\n",
       "      <td>NaN</td>\n",
       "      <td>NaN</td>\n",
       "      <td>telefone fixo</td>\n",
       "      <td>maio</td>\n",
       "      <td>quarta-feira</td>\n",
       "      <td>longa</td>\n",
       "      <td>3</td>\n",
       "      <td>nenhum</td>\n",
       "      <td>Acima_35_e_Menor_Igual_45</td>\n",
       "      <td>4.108560</td>\n",
       "      <td>cluster_4</td>\n",
       "      <td>0</td>\n",
       "    </tr>\n",
       "  </tbody>\n",
       "</table>\n",
       "</div>"
      ],
      "text/plain": [
       "                trabalho estado civil      educação atraso casa empréstimo  \\\n",
       "5448  trabalhador manual  solteiro(a)  ensino médio    não  sim        não   \n",
       "1060  trabalhador manual    casado(a)  ensino médio    NaN  NaN        NaN   \n",
       "\n",
       "             contato    mês           dia duração  ncontatos   anterior  \\\n",
       "5448  telefone móvel  março  quarta-feira   média          4  apenas um   \n",
       "1060   telefone fixo   maio  quarta-feira   longa          3     nenhum   \n",
       "\n",
       "                    idade_group  fe_pca_0 fe_cluster  produto  \n",
       "5448                Entre_24_35 -2.374603  cluster_1        1  \n",
       "1060  Acima_35_e_Menor_Igual_45  4.108560  cluster_4        0  "
      ]
     },
     "execution_count": 75,
     "metadata": {},
     "output_type": "execute_result"
    }
   ],
   "source": [
    "df2_train.iloc[[5434, 1059]]"
   ]
  },
  {
   "cell_type": "code",
   "execution_count": 76,
   "id": "636bc3cc",
   "metadata": {
    "ExecuteTime": {
     "end_time": "2022-12-21T03:52:46.024313Z",
     "start_time": "2022-12-21T03:52:46.006276Z"
    }
   },
   "outputs": [
    {
     "data": {
      "text/plain": [
       "(5685, 16)"
      ]
     },
     "execution_count": 76,
     "metadata": {},
     "output_type": "execute_result"
    }
   ],
   "source": [
    "df2_train.shape"
   ]
  },
  {
   "cell_type": "code",
   "execution_count": 77,
   "id": "ae8bc50e",
   "metadata": {
    "ExecuteTime": {
     "end_time": "2022-12-21T03:52:47.017583Z",
     "start_time": "2022-12-21T03:52:46.799403Z"
    }
   },
   "outputs": [
    {
     "data": {
      "image/png": "[encoded data removed]",
      "text/plain": [
       "<Figure size 700x500 with 1 Axes>"
      ]
     },
     "metadata": {},
     "output_type": "display_data"
    }
   ],
   "source": [
    "plt.figure(figsize=(7,5))\n",
    "\n",
    "_ = df2_train.copy() \n",
    "\n",
    "sns.kdeplot(_[_[target]==0]['fe_pca_0'],color='blue', alpha=0.5, label='0', shade=True)\n",
    "sns.kdeplot(_[_[target]==1]['fe_pca_0'],color='teal', alpha=0.5, label='1', shade=True)  \n",
    "plt.xlabel(feature, fontsize=12)\n",
    "plt.legend()\n",
    "\n",
    "plt.suptitle('Variável PCA ', fontsize=16);"
   ]
  },
  {
   "cell_type": "code",
   "execution_count": 78,
   "id": "8a447147",
   "metadata": {
    "ExecuteTime": {
     "end_time": "2022-12-21T03:52:47.956229Z",
     "start_time": "2022-12-21T03:52:47.935219Z"
    },
    "code_folding": [
     0
    ]
   },
   "outputs": [],
   "source": [
    "def grup_pca (df_): \n",
    "    df_['fe_pca_0_group']= np.inf\n",
    "    df_['fe_pca_0_group'][(df_['fe_pca_0']<-2) ]  = 'gr_1'\n",
    "    df_['fe_pca_0_group'][(df_['fe_pca_0']>=-2) & (df_['fe_pca_0']<=0)]= 'gr_2'\n",
    "    df_['fe_pca_0_group'][(df_['fe_pca_0']>0) & (df_['fe_pca_0']<2)]  = 'gr_3'\n",
    "    df_['fe_pca_0_group'][df_['fe_pca_0']>2]  = 'gr_4'\n",
    "    df_.drop('fe_pca_0', axis=1, inplace=True)\n",
    "    return df_"
   ]
  },
  {
   "cell_type": "code",
   "execution_count": 79,
   "id": "cee93679",
   "metadata": {
    "ExecuteTime": {
     "end_time": "2022-12-21T03:52:49.301446Z",
     "start_time": "2022-12-21T03:52:49.262451Z"
    }
   },
   "outputs": [],
   "source": [
    "df2_train = grup_pca(df2_train)\n",
    "df2_test  = grup_pca(df2_test)"
   ]
  },
  {
   "cell_type": "markdown",
   "id": "305b425d",
   "metadata": {
    "id": "305b425d",
    "papermill": {
     "duration": 0.079393,
     "end_time": "2022-02-13T03:50:21.332626",
     "exception": false,
     "start_time": "2022-02-13T03:50:21.253233",
     "status": "completed"
    },
    "tags": []
   },
   "source": [
    "<div style=\"color:white;border-radius:8px;background-color:#a7d5ed\">    \n",
    "    <h1 style=\"padding:12px;color:black;\"> 3. PIPELINE </h1>    \n",
    "</div>"
   ]
  },
  {
   "cell_type": "code",
   "execution_count": 193,
   "id": "dde3eeda",
   "metadata": {
    "ExecuteTime": {
     "end_time": "2022-12-21T04:42:28.613036Z",
     "start_time": "2022-12-21T04:42:28.600003Z"
    },
    "executionInfo": {
     "elapsed": 2,
     "status": "ok",
     "timestamp": 1655826573331,
     "user": {
      "displayName": "Rogério Delfim",
      "userId": "04235763959036945343"
     },
     "user_tz": 180
    },
    "id": "dde3eeda"
   },
   "outputs": [],
   "source": [
    "df3_train = df2_train.copy()\n",
    "df3_test  = df2_test.copy()\n",
    "X         = df2_train.drop(target, axis=1)\n",
    "y         = df2_train[target]\n",
    "X_test    = df2_test.copy()"
   ]
  },
  {
   "cell_type": "code",
   "execution_count": 223,
   "id": "2fedebb7",
   "metadata": {
    "ExecuteTime": {
     "end_time": "2022-12-21T13:15:38.925121Z",
     "start_time": "2022-12-21T13:15:38.907122Z"
    },
    "code_folding": [
     4
    ]
   },
   "outputs": [],
   "source": [
    "seed             = 12359\n",
    "counter          = Counter(y)\n",
    "scale_pos_weight = (counter[0]/counter[1]) \n",
    "\n",
    "params_xgb  = {\n",
    "    'objective'        : 'binary:logistic', \n",
    "    'eval_metric'      : ['error', 'logloss'],\n",
    "    'max_depth'        : 5, \n",
    "    'scale_pos_weight' : scale_pos_weight,\n",
    "    'n_estimators'     : 1000,    \n",
    "    'learning_rate'    : .01,\n",
    "    'colsample_bytree' : .75,    \n",
    "    'subsample'        : .8,\n",
    "    'reg_lambda'       : 30,\n",
    "    'n_jobs'           : -1,    \n",
    "    'seed'             : seed}\n",
    "    \n",
    "if torch.cuda.is_available():           \n",
    "    params_xgb.update({'tree_method': 'gpu_hist','predictor': 'gpu_predictor'})\n",
    "\n",
    "# Classificadores\n",
    "model_xgb  = xgb.XGBClassifier(**params_xgb)"
   ]
  },
  {
   "cell_type": "code",
   "execution_count": 224,
   "id": "80a4763e",
   "metadata": {
    "ExecuteTime": {
     "end_time": "2022-12-21T13:15:43.908674Z",
     "start_time": "2022-12-21T13:15:43.801526Z"
    },
    "code_folding": [
     0
    ]
   },
   "outputs": [],
   "source": [
    "class TargetEncoderCV(TargetEncoder):\n",
    "    \"\"\"Cross-fold target encoder.\n",
    "    \"\"\"\n",
    "    # https://brendanhasz.github.io/2019/03/04/target-encoding.html\n",
    "    \n",
    "    def __init__(self, n_splits=3, shuffle=True, cols=None):\n",
    "        \"\"\"Cross-fold target encoding for categorical features.\n",
    "        \n",
    "        Parameters\n",
    "        ----------\n",
    "        n_splits : int\n",
    "            Number of cross-fold splits. Default = 3.\n",
    "        shuffle : bool\n",
    "            Whether to shuffle the data when splitting into folds.\n",
    "        cols : list of str\n",
    "            Columns to target encode.\n",
    "        \"\"\"\n",
    "        self.n_splits = n_splits\n",
    "        self.shuffle  = shuffle\n",
    "        self.cols     = cols\n",
    "\n",
    "    def fit(self, X, y):\n",
    "        \"\"\"Fit cross-fold target encoder to X and y\n",
    "        \n",
    "        Parameters\n",
    "        ----------\n",
    "        X : pandas DataFrame, shape [n_samples, n_columns]\n",
    "            DataFrame containing columns to encode\n",
    "        y : pandas Series, shape = [n_samples]\n",
    "            Target values.\n",
    "            \n",
    "        Returns\n",
    "        -------\n",
    "        self : encoder\n",
    "            Returns self.\n",
    "        \"\"\"\n",
    "        self._target_encoder = TargetEncoder(cols=self.cols)\n",
    "        self._target_encoder.fit(X, y)        \n",
    "        return self\n",
    "    \n",
    "    def transform(self, X, y=None):\n",
    "        \"\"\"Perform the target encoding transformation.\n",
    "\n",
    "        Uses cross-fold target encoding for the training fold,\n",
    "        and uses normal target encoding for the test fold.\n",
    "\n",
    "        Parameters\n",
    "        ----------\n",
    "        X : pandas DataFrame, shape [n_samples, n_columns]\n",
    "            DataFrame containing columns to encode\n",
    "\n",
    "        Returns\n",
    "        -------\n",
    "        pandas DataFrame\n",
    "            Input DataFrame with transformed columns\n",
    "        \"\"\"\n",
    "\n",
    "        # Use target encoding from fit() if this is test data\n",
    "        if y is None:\n",
    "            return self._target_encoder.transform(X)\n",
    "\n",
    "        # Compute means for each fold\n",
    "        self._train_ix = []\n",
    "        self._test_ix  = []\n",
    "        self._fit_tes  = []\n",
    "        kf             = KFold(n_splits=self.n_splits, shuffle=self.shuffle)\n",
    "        \n",
    "        for train_ix, test_ix in kf.split(X):\n",
    "            self._train_ix.append(train_ix)\n",
    "            self._test_ix.append(test_ix)\n",
    "            te = TargetEncoder(cols=self.cols)\n",
    "            \n",
    "            if isinstance(X, pd.DataFrame):\n",
    "                self._fit_tes.append(te.fit(X.iloc[train_ix,:],\n",
    "                                            y.iloc[train_ix]))\n",
    "            elif isinstance(X, np.ndarray):\n",
    "                self._fit_tes.append(te.fit(X[train_ix,:],\n",
    "                                            y[train_ix]))\n",
    "            else:\n",
    "                raise TypeError('X deve ser DataFrame ou ndarray')\n",
    "\n",
    "        # Aplicar meios nas dobras\n",
    "        Xo = X.copy()\n",
    "        \n",
    "        for ix in range(len(self._test_ix)):\n",
    "            test_ix = self._test_ix[ix]\n",
    "            if isinstance(X, pd.DataFrame):\n",
    "                Xo.iloc[test_ix,:] = \\\n",
    "                    self._fit_tes[ix].transform(X.iloc[test_ix,:])\n",
    "            elif isinstance(X, np.ndarray):\n",
    "                Xo[test_ix,:] = \\\n",
    "                    self._fit_tes[ix].transform(X[test_ix,:])\n",
    "            else:\n",
    "                raise TypeError('X deve ser DataFrame ou ndarray')\n",
    "                \n",
    "        return Xo\n",
    "            \n",
    "    def fit_transform(self, X, y=None):\n",
    "        \"\"\"Fit and transform the data via target encoding.\n",
    "        \n",
    "        Parameters\n",
    "        ----------\n",
    "        X : pandas DataFrame, shape [n_samples, n_columns]\n",
    "            DataFrame containing columns to encode\n",
    "        y : pandas Series, shape = [n_samples]\n",
    "            Target values (required!).\n",
    "\n",
    "        Returns\n",
    "        -------\n",
    "        pandas DataFrame\n",
    "            Input DataFrame with transformed columns\n",
    "        \"\"\"\n",
    "        return self.fit(X, y).transform(X, y)"
   ]
  },
  {
   "cell_type": "code",
   "execution_count": 225,
   "id": "b2841372",
   "metadata": {
    "ExecuteTime": {
     "end_time": "2022-12-21T13:15:48.939934Z",
     "start_time": "2022-12-21T13:15:48.910341Z"
    },
    "code_folding": [
     0
    ]
   },
   "outputs": [],
   "source": [
    "class TargetEncoderLOO(TargetEncoder):\n",
    "    \"\"\"Leave-one-out target encoder.\n",
    "    \"\"\"\n",
    "    \n",
    "    def __init__(self, cols=None):\n",
    "        \"\"\"Leave-one-out target encoding for categorical features.\n",
    "        \n",
    "        Parameters\n",
    "        ----------\n",
    "        cols : list of str\n",
    "            Columns to target encode.\n",
    "        \"\"\"\n",
    "        self.cols = cols\n",
    "        \n",
    "    def fit(self, X, y):\n",
    "        \"\"\"Fit leave-one-out target encoder to X and y\n",
    "        \n",
    "        Parameters\n",
    "        ----------\n",
    "        X : pandas DataFrame, shape [n_samples, n_columns]\n",
    "            DataFrame containing columns to target encode\n",
    "        y : pandas Series, shape = [n_samples]\n",
    "            Target values.\n",
    "            \n",
    "        Returns\n",
    "        -------\n",
    "        self : encoder\n",
    "            Returns self.\n",
    "        \"\"\"\n",
    "        \n",
    "        # Encode all categorical cols by default\n",
    "        if self.cols is None:\n",
    "            self.cols = [col for col in X\n",
    "                         if str(X[col].dtype)=='object']\n",
    "\n",
    "        # Check columns are in X\n",
    "        for col in self.cols:\n",
    "            if col not in X:\n",
    "                raise ValueError('Column \\''+col+'\\' not in X')\n",
    "\n",
    "        # Encode each element of each column\n",
    "        self.sum_count = dict()\n",
    "        for col in self.cols:\n",
    "            self.sum_count[col] = dict()\n",
    "            uniques = X[col].unique()\n",
    "            for unique in uniques:\n",
    "                ix = X[col]==unique\n",
    "                self.sum_count[col][unique] = \\\n",
    "                    (y[ix].sum(),ix.sum())\n",
    "            \n",
    "        # Return the fit object\n",
    "        return self\n",
    "    \n",
    "    def transform(self, X, y=None):\n",
    "        \"\"\"Perform the target encoding transformation.\n",
    "\n",
    "        Uses leave-one-out target encoding for the training fold,\n",
    "        and uses normal target encoding for the test fold.\n",
    "\n",
    "        Parameters\n",
    "        ----------\n",
    "        X : pandas DataFrame, shape [n_samples, n_columns]\n",
    "            DataFrame containing columns to encode\n",
    "\n",
    "        Returns\n",
    "        -------\n",
    "        pandas DataFrame\n",
    "            Input DataFrame with transformed columns\n",
    "        \"\"\"\n",
    "        \n",
    "        # Create output dataframe\n",
    "        Xo = X.copy()\n",
    "\n",
    "        # Use normal target encoding if this is test data\n",
    "        if y is None:\n",
    "            for col in self.sum_count:\n",
    "                vals = np.full(X.shape[0], np.nan)\n",
    "                for cat, sum_count in self.sum_count[col].items():\n",
    "                    vals[X[col]==cat] = sum_count[0]/sum_count[1]\n",
    "                Xo[col] = vals\n",
    "\n",
    "        # LOO target encode each column\n",
    "        else:\n",
    "            for col in self.sum_count:\n",
    "                vals = np.full(X.shape[0], np.nan)\n",
    "                for cat, sum_count in self.sum_count[col].items():\n",
    "                    ix = X[col]==cat\n",
    "                    vals[ix] = (sum_count[0]-y[ix])/(sum_count[1]-1)\n",
    "                Xo[col] = vals\n",
    "            \n",
    "        # Return encoded DataFrame\n",
    "        return Xo\n",
    "            \n",
    "    def fit_transform(self, X, y=None):\n",
    "        \"\"\"Fit and transform the data via target encoding.\n",
    "        \n",
    "        Parameters\n",
    "        ----------\n",
    "        X : pandas DataFrame, shape [n_samples, n_columns]\n",
    "            DataFrame containing columns to encode\n",
    "        y : pandas Series, shape = [n_samples]\n",
    "            Target values (required!).\n",
    "\n",
    "        Returns\n",
    "        -------\n",
    "        pandas DataFrame\n",
    "            Input DataFrame with transformed columns\n",
    "        \"\"\"\n",
    "        return self.fit(X, y).transform(X, y)"
   ]
  },
  {
   "cell_type": "code",
   "execution_count": 226,
   "id": "48244453",
   "metadata": {
    "ExecuteTime": {
     "end_time": "2022-12-21T13:15:54.053301Z",
     "start_time": "2022-12-21T13:15:54.008565Z"
    },
    "code_folding": [
     0
    ]
   },
   "outputs": [],
   "source": [
    "class TargetEncoder(BaseEstimator, TransformerMixin):\n",
    "    \"\"\"Target encoder.\n",
    "    \n",
    "    Replaces categorical column(s) with the mean target value for\n",
    "    each category.\n",
    "\n",
    "    \"\"\"\n",
    "    \n",
    "    def __init__(self, cols=None):\n",
    "        \"\"\"Target encoder\n",
    "        \n",
    "        Parameters\n",
    "        ----------\n",
    "        cols : list of str\n",
    "            Columns to target encode.  Default is to target \n",
    "            encode all categorical columns in the DataFrame.\n",
    "        \"\"\"\n",
    "        if isinstance(cols, str):\n",
    "            self.cols = [cols]\n",
    "        else:\n",
    "            self.cols = cols\n",
    "        \n",
    "        \n",
    "    def fit(self, X, y):\n",
    "        \"\"\"Fit target encoder to X and y\n",
    "        \n",
    "        Parameters\n",
    "        ----------\n",
    "        X : pandas DataFrame, shape [n_samples, n_columns]\n",
    "            DataFrame containing columns to encode\n",
    "        y : pandas Series, shape = [n_samples]\n",
    "            Target values.\n",
    "            \n",
    "        Returns\n",
    "        -------\n",
    "        self : encoder\n",
    "            Returns self.\n",
    "        \"\"\"\n",
    "        \n",
    "        # Encode all categorical cols by default\n",
    "        if self.cols is None:\n",
    "            self.cols = [col for col in X \n",
    "                         if str(X[col].dtype)=='object']\n",
    "\n",
    "        # Check columns are in X\n",
    "        for col in self.cols:\n",
    "            if col not in X:\n",
    "                raise ValueError('Column \\''+col+'\\' not in X')\n",
    "\n",
    "        # Encode each element of each column\n",
    "        self.maps = dict() #dict to store map for each column\n",
    "        for col in self.cols:\n",
    "            tmap = dict()\n",
    "            uniques = X[col].unique()\n",
    "            for unique in uniques:\n",
    "                tmap[unique] = y[X[col]==unique].mean()\n",
    "            self.maps[col] = tmap\n",
    "            \n",
    "        return self\n",
    "\n",
    "        \n",
    "    def transform(self, X, y=None):\n",
    "        \"\"\"Perform the target encoding transformation.\n",
    "        \n",
    "        Parameters\n",
    "        ----------\n",
    "        X : pandas DataFrame, shape [n_samples, n_columns]\n",
    "            DataFrame containing columns to encode\n",
    "            \n",
    "        Returns\n",
    "        -------\n",
    "        pandas DataFrame\n",
    "            Input DataFrame with transformed columns\n",
    "        \"\"\"\n",
    "        Xo = X.copy()\n",
    "        for col, tmap in self.maps.items():\n",
    "            vals = np.full(X.shape[0], np.nan)\n",
    "            for val, mean_target in tmap.items():\n",
    "                vals[X[col]==val] = mean_target\n",
    "            Xo[col] = vals\n",
    "        return Xo\n",
    "            \n",
    "            \n",
    "    def fit_transform(self, X, y=None):\n",
    "        \"\"\"Fit and transform the data via target encoding.\n",
    "        \n",
    "        Parameters\n",
    "        ----------\n",
    "        X : pandas DataFrame, shape [n_samples, n_columns]\n",
    "            DataFrame containing columns to encode\n",
    "        y : pandas Series, shape = [n_samples]\n",
    "            Target values (required!).\n",
    "\n",
    "        Returns\n",
    "        -------\n",
    "        pandas DataFrame\n",
    "            Input DataFrame with transformed columns\n",
    "        \"\"\"\n",
    "        return self.fit(X, y).transform(X, y)"
   ]
  },
  {
   "cell_type": "code",
   "execution_count": 538,
   "id": "c74a8d82",
   "metadata": {
    "ExecuteTime": {
     "end_time": "2022-12-21T22:02:42.902106Z",
     "start_time": "2022-12-21T22:02:42.889113Z"
    }
   },
   "outputs": [],
   "source": [
    "cols_oho    = ['trabalho', 'estado civil', 'atraso', 'casa', 'empréstimo', 'contato', 'anterior', ] \n",
    "cols_ord    = ['educação', 'mês', 'dia', 'duração', 'fe_cluster', 'idade_group' ]\n",
    "cols_woe    = ['fe_pca_0_group']\n",
    "cols_target = []"
   ]
  },
  {
   "cell_type": "code",
   "execution_count": 613,
   "id": "b4f9d36d",
   "metadata": {
    "ExecuteTime": {
     "end_time": "2022-12-21T22:46:46.071414Z",
     "start_time": "2022-12-21T22:46:45.770430Z"
    }
   },
   "outputs": [
    {
     "data": {
      "text/html": [
       "<style>#sk-container-id-23 {color: black;background-color: white;}#sk-container-id-23 pre{padding: 0;}#sk-container-id-23 div.sk-toggleable {background-color: white;}#sk-container-id-23 label.sk-toggleable__label {cursor: pointer;display: block;width: 100%;margin-bottom: 0;padding: 0.3em;box-sizing: border-box;text-align: center;}#sk-container-id-23 label.sk-toggleable__label-arrow:before {content: \"▸\";float: left;margin-right: 0.25em;color: #696969;}#sk-container-id-23 label.sk-toggleable__label-arrow:hover:before {color: black;}#sk-container-id-23 div.sk-estimator:hover label.sk-toggleable__label-arrow:before {color: black;}#sk-container-id-23 div.sk-toggleable__content {max-height: 0;max-width: 0;overflow: hidden;text-align: left;background-color: #f0f8ff;}#sk-container-id-23 div.sk-toggleable__content pre {margin: 0.2em;color: black;border-radius: 0.25em;background-color: #f0f8ff;}#sk-container-id-23 input.sk-toggleable__control:checked~div.sk-toggleable__content {max-height: 200px;max-width: 100%;overflow: auto;}#sk-container-id-23 input.sk-toggleable__control:checked~label.sk-toggleable__label-arrow:before {content: \"▾\";}#sk-container-id-23 div.sk-estimator input.sk-toggleable__control:checked~label.sk-toggleable__label {background-color: #d4ebff;}#sk-container-id-23 div.sk-label input.sk-toggleable__control:checked~label.sk-toggleable__label {background-color: #d4ebff;}#sk-container-id-23 input.sk-hidden--visually {border: 0;clip: rect(1px 1px 1px 1px);clip: rect(1px, 1px, 1px, 1px);height: 1px;margin: -1px;overflow: hidden;padding: 0;position: absolute;width: 1px;}#sk-container-id-23 div.sk-estimator {font-family: monospace;background-color: #f0f8ff;border: 1px dotted black;border-radius: 0.25em;box-sizing: border-box;margin-bottom: 0.5em;}#sk-container-id-23 div.sk-estimator:hover {background-color: #d4ebff;}#sk-container-id-23 div.sk-parallel-item::after {content: \"\";width: 100%;border-bottom: 1px solid gray;flex-grow: 1;}#sk-container-id-23 div.sk-label:hover label.sk-toggleable__label {background-color: #d4ebff;}#sk-container-id-23 div.sk-serial::before {content: \"\";position: absolute;border-left: 1px solid gray;box-sizing: border-box;top: 0;bottom: 0;left: 50%;z-index: 0;}#sk-container-id-23 div.sk-serial {display: flex;flex-direction: column;align-items: center;background-color: white;padding-right: 0.2em;padding-left: 0.2em;position: relative;}#sk-container-id-23 div.sk-item {position: relative;z-index: 1;}#sk-container-id-23 div.sk-parallel {display: flex;align-items: stretch;justify-content: center;background-color: white;position: relative;}#sk-container-id-23 div.sk-item::before, #sk-container-id-23 div.sk-parallel-item::before {content: \"\";position: absolute;border-left: 1px solid gray;box-sizing: border-box;top: 0;bottom: 0;left: 50%;z-index: -1;}#sk-container-id-23 div.sk-parallel-item {display: flex;flex-direction: column;z-index: 1;position: relative;background-color: white;}#sk-container-id-23 div.sk-parallel-item:first-child::after {align-self: flex-end;width: 50%;}#sk-container-id-23 div.sk-parallel-item:last-child::after {align-self: flex-start;width: 50%;}#sk-container-id-23 div.sk-parallel-item:only-child::after {width: 0;}#sk-container-id-23 div.sk-dashed-wrapped {border: 1px dashed gray;margin: 0 0.4em 0.5em 0.4em;box-sizing: border-box;padding-bottom: 0.4em;background-color: white;}#sk-container-id-23 div.sk-label label {font-family: monospace;font-weight: bold;display: inline-block;line-height: 1.2em;}#sk-container-id-23 div.sk-label-container {text-align: center;}#sk-container-id-23 div.sk-container {/* jupyter's `normalize.less` sets `[hidden] { display: none; }` but bootstrap.min.css set `[hidden] { display: none !important; }` so we also need the `!important` here to be able to override the default hidden behavior on the sphinx rendered scikit-learn.org. See: https://github.com/scikit-learn/scikit-learn/issues/21755 */display: inline-block !important;position: relative;}#sk-container-id-23 div.sk-text-repr-fallback {display: none;}</style><div id=\"sk-container-id-23\" class=\"sk-top-container\"><div class=\"sk-text-repr-fallback\"><pre>Pipeline(steps=[(&#x27;processor&#x27;,\n",
       "                 Pipeline(steps=[(&#x27;transform&#x27;,\n",
       "                                  ColumnTransformer(transformers=[(&#x27;ord&#x27;,\n",
       "                                                                   Pipeline(steps=[(&#x27;imp&#x27;,\n",
       "                                                                                    SimpleImputer(fill_value=&#x27;No &#x27;\n",
       "                                                                                                             &#x27;Data&#x27;,\n",
       "                                                                                                  strategy=&#x27;constant&#x27;)),\n",
       "                                                                                   (&#x27;Ord&#x27;,\n",
       "                                                                                    OrdinalEncoder())]),\n",
       "                                                                   [&#x27;educação&#x27;,\n",
       "                                                                    &#x27;mês&#x27;,\n",
       "                                                                    &#x27;dia&#x27;,\n",
       "                                                                    &#x27;duração&#x27;,\n",
       "                                                                    &#x27;fe_cluster&#x27;,\n",
       "                                                                    &#x27;idade_group&#x27;]),\n",
       "                                                                  (&#x27;oho&#x27;,\n",
       "                                                                   Pipeline(steps=[(&#x27;imp&#x27;,\n",
       "                                                                                    SimpleImputer(fill_value=&#x27;No &#x27;\n",
       "                                                                                                             &#x27;Data&#x27;,\n",
       "                                                                                                  strategy=&#x27;consta...\n",
       "                               eval_metric=[&#x27;error&#x27;, &#x27;logloss&#x27;], gamma=0,\n",
       "                               gpu_id=-1, grow_policy=&#x27;depthwise&#x27;,\n",
       "                               importance_type=None, interaction_constraints=&#x27;&#x27;,\n",
       "                               learning_rate=0.01, max_bin=256,\n",
       "                               max_cat_to_onehot=4, max_delta_step=0,\n",
       "                               max_depth=5, max_leaves=0, min_child_weight=1,\n",
       "                               missing=nan, monotone_constraints=&#x27;()&#x27;,\n",
       "                               n_estimators=1000, n_jobs=-1,\n",
       "                               num_parallel_tree=1, predictor=&#x27;auto&#x27;,\n",
       "                               random_state=12359, reg_alpha=0, reg_lambda=30, ...))])</pre><b>In a Jupyter environment, please rerun this cell to show the HTML representation or trust the notebook. <br />On GitHub, the HTML representation is unable to render, please try loading this page with nbviewer.org.</b></div><div class=\"sk-container\" hidden><div class=\"sk-item sk-dashed-wrapped\"><div class=\"sk-label-container\"><div class=\"sk-label sk-toggleable\"><input class=\"sk-toggleable__control sk-hidden--visually\" id=\"sk-estimator-id-259\" type=\"checkbox\" ><label for=\"sk-estimator-id-259\" class=\"sk-toggleable__label sk-toggleable__label-arrow\">Pipeline</label><div class=\"sk-toggleable__content\"><pre>Pipeline(steps=[(&#x27;processor&#x27;,\n",
       "                 Pipeline(steps=[(&#x27;transform&#x27;,\n",
       "                                  ColumnTransformer(transformers=[(&#x27;ord&#x27;,\n",
       "                                                                   Pipeline(steps=[(&#x27;imp&#x27;,\n",
       "                                                                                    SimpleImputer(fill_value=&#x27;No &#x27;\n",
       "                                                                                                             &#x27;Data&#x27;,\n",
       "                                                                                                  strategy=&#x27;constant&#x27;)),\n",
       "                                                                                   (&#x27;Ord&#x27;,\n",
       "                                                                                    OrdinalEncoder())]),\n",
       "                                                                   [&#x27;educação&#x27;,\n",
       "                                                                    &#x27;mês&#x27;,\n",
       "                                                                    &#x27;dia&#x27;,\n",
       "                                                                    &#x27;duração&#x27;,\n",
       "                                                                    &#x27;fe_cluster&#x27;,\n",
       "                                                                    &#x27;idade_group&#x27;]),\n",
       "                                                                  (&#x27;oho&#x27;,\n",
       "                                                                   Pipeline(steps=[(&#x27;imp&#x27;,\n",
       "                                                                                    SimpleImputer(fill_value=&#x27;No &#x27;\n",
       "                                                                                                             &#x27;Data&#x27;,\n",
       "                                                                                                  strategy=&#x27;consta...\n",
       "                               eval_metric=[&#x27;error&#x27;, &#x27;logloss&#x27;], gamma=0,\n",
       "                               gpu_id=-1, grow_policy=&#x27;depthwise&#x27;,\n",
       "                               importance_type=None, interaction_constraints=&#x27;&#x27;,\n",
       "                               learning_rate=0.01, max_bin=256,\n",
       "                               max_cat_to_onehot=4, max_delta_step=0,\n",
       "                               max_depth=5, max_leaves=0, min_child_weight=1,\n",
       "                               missing=nan, monotone_constraints=&#x27;()&#x27;,\n",
       "                               n_estimators=1000, n_jobs=-1,\n",
       "                               num_parallel_tree=1, predictor=&#x27;auto&#x27;,\n",
       "                               random_state=12359, reg_alpha=0, reg_lambda=30, ...))])</pre></div></div></div><div class=\"sk-serial\"><div class=\"sk-item\"><div class=\"sk-label-container\"><div class=\"sk-label sk-toggleable\"><input class=\"sk-toggleable__control sk-hidden--visually\" id=\"sk-estimator-id-260\" type=\"checkbox\" ><label for=\"sk-estimator-id-260\" class=\"sk-toggleable__label sk-toggleable__label-arrow\">processor: Pipeline</label><div class=\"sk-toggleable__content\"><pre>Pipeline(steps=[(&#x27;transform&#x27;,\n",
       "                 ColumnTransformer(transformers=[(&#x27;ord&#x27;,\n",
       "                                                  Pipeline(steps=[(&#x27;imp&#x27;,\n",
       "                                                                   SimpleImputer(fill_value=&#x27;No &#x27;\n",
       "                                                                                            &#x27;Data&#x27;,\n",
       "                                                                                 strategy=&#x27;constant&#x27;)),\n",
       "                                                                  (&#x27;Ord&#x27;,\n",
       "                                                                   OrdinalEncoder())]),\n",
       "                                                  [&#x27;educação&#x27;, &#x27;mês&#x27;, &#x27;dia&#x27;,\n",
       "                                                   &#x27;duração&#x27;, &#x27;fe_cluster&#x27;,\n",
       "                                                   &#x27;idade_group&#x27;]),\n",
       "                                                 (&#x27;oho&#x27;,\n",
       "                                                  Pipeline(steps=[(&#x27;imp&#x27;,\n",
       "                                                                   SimpleImputer(fill_value=&#x27;No &#x27;\n",
       "                                                                                            &#x27;Data&#x27;,\n",
       "                                                                                 strategy=&#x27;constant&#x27;)),\n",
       "                                                                  (&#x27;OHen&#x27;,\n",
       "                                                                   OneHotEncoder(h...\n",
       "                                                   &#x27;anterior&#x27;]),\n",
       "                                                 (&#x27;woe&#x27;,\n",
       "                                                  Pipeline(steps=[(&#x27;imp&#x27;,\n",
       "                                                                   SimpleImputer(fill_value=&#x27;No &#x27;\n",
       "                                                                                            &#x27;Data&#x27;,\n",
       "                                                                                 strategy=&#x27;constant&#x27;)),\n",
       "                                                                  (&#x27;woe&#x27;,\n",
       "                                                                   WOEEncoder(regularization=0))]),\n",
       "                                                  [&#x27;fe_pca_0_group&#x27;])])),\n",
       "                (&#x27;variancethreshold&#x27;, VarianceThreshold(threshold=0.04)),\n",
       "                (&#x27;selectpercentile&#x27;, SelectPercentile(percentile=85)),\n",
       "                (&#x27;dropfeaturecorr&#x27;, DropConstantFeatures(tol=0.96)),\n",
       "                (&#x27;preprocessor&#x27;, StandardScaler())])</pre></div></div></div><div class=\"sk-serial\"><div class=\"sk-item sk-dashed-wrapped\"><div class=\"sk-label-container\"><div class=\"sk-label sk-toggleable\"><input class=\"sk-toggleable__control sk-hidden--visually\" id=\"sk-estimator-id-261\" type=\"checkbox\" ><label for=\"sk-estimator-id-261\" class=\"sk-toggleable__label sk-toggleable__label-arrow\">transform: ColumnTransformer</label><div class=\"sk-toggleable__content\"><pre>ColumnTransformer(transformers=[(&#x27;ord&#x27;,\n",
       "                                 Pipeline(steps=[(&#x27;imp&#x27;,\n",
       "                                                  SimpleImputer(fill_value=&#x27;No &#x27;\n",
       "                                                                           &#x27;Data&#x27;,\n",
       "                                                                strategy=&#x27;constant&#x27;)),\n",
       "                                                 (&#x27;Ord&#x27;, OrdinalEncoder())]),\n",
       "                                 [&#x27;educação&#x27;, &#x27;mês&#x27;, &#x27;dia&#x27;, &#x27;duração&#x27;,\n",
       "                                  &#x27;fe_cluster&#x27;, &#x27;idade_group&#x27;]),\n",
       "                                (&#x27;oho&#x27;,\n",
       "                                 Pipeline(steps=[(&#x27;imp&#x27;,\n",
       "                                                  SimpleImputer(fill_value=&#x27;No &#x27;\n",
       "                                                                           &#x27;Data&#x27;,\n",
       "                                                                strategy=&#x27;constant&#x27;)),\n",
       "                                                 (&#x27;OHen&#x27;,\n",
       "                                                  OneHotEncoder(handle_unknown=&#x27;ignore&#x27;,\n",
       "                                                                sparse=False))]),\n",
       "                                 [&#x27;trabalho&#x27;, &#x27;estado civil&#x27;, &#x27;atraso&#x27;, &#x27;casa&#x27;,\n",
       "                                  &#x27;empréstimo&#x27;, &#x27;contato&#x27;, &#x27;anterior&#x27;]),\n",
       "                                (&#x27;woe&#x27;,\n",
       "                                 Pipeline(steps=[(&#x27;imp&#x27;,\n",
       "                                                  SimpleImputer(fill_value=&#x27;No &#x27;\n",
       "                                                                           &#x27;Data&#x27;,\n",
       "                                                                strategy=&#x27;constant&#x27;)),\n",
       "                                                 (&#x27;woe&#x27;,\n",
       "                                                  WOEEncoder(regularization=0))]),\n",
       "                                 [&#x27;fe_pca_0_group&#x27;])])</pre></div></div></div><div class=\"sk-parallel\"><div class=\"sk-parallel-item\"><div class=\"sk-item\"><div class=\"sk-label-container\"><div class=\"sk-label sk-toggleable\"><input class=\"sk-toggleable__control sk-hidden--visually\" id=\"sk-estimator-id-262\" type=\"checkbox\" ><label for=\"sk-estimator-id-262\" class=\"sk-toggleable__label sk-toggleable__label-arrow\">ord</label><div class=\"sk-toggleable__content\"><pre>[&#x27;educação&#x27;, &#x27;mês&#x27;, &#x27;dia&#x27;, &#x27;duração&#x27;, &#x27;fe_cluster&#x27;, &#x27;idade_group&#x27;]</pre></div></div></div><div class=\"sk-serial\"><div class=\"sk-item\"><div class=\"sk-serial\"><div class=\"sk-item\"><div class=\"sk-estimator sk-toggleable\"><input class=\"sk-toggleable__control sk-hidden--visually\" id=\"sk-estimator-id-263\" type=\"checkbox\" ><label for=\"sk-estimator-id-263\" class=\"sk-toggleable__label sk-toggleable__label-arrow\">SimpleImputer</label><div class=\"sk-toggleable__content\"><pre>SimpleImputer(fill_value=&#x27;No Data&#x27;, strategy=&#x27;constant&#x27;)</pre></div></div></div><div class=\"sk-item\"><div class=\"sk-estimator sk-toggleable\"><input class=\"sk-toggleable__control sk-hidden--visually\" id=\"sk-estimator-id-264\" type=\"checkbox\" ><label for=\"sk-estimator-id-264\" class=\"sk-toggleable__label sk-toggleable__label-arrow\">OrdinalEncoder</label><div class=\"sk-toggleable__content\"><pre>OrdinalEncoder()</pre></div></div></div></div></div></div></div></div><div class=\"sk-parallel-item\"><div class=\"sk-item\"><div class=\"sk-label-container\"><div class=\"sk-label sk-toggleable\"><input class=\"sk-toggleable__control sk-hidden--visually\" id=\"sk-estimator-id-265\" type=\"checkbox\" ><label for=\"sk-estimator-id-265\" class=\"sk-toggleable__label sk-toggleable__label-arrow\">oho</label><div class=\"sk-toggleable__content\"><pre>[&#x27;trabalho&#x27;, &#x27;estado civil&#x27;, &#x27;atraso&#x27;, &#x27;casa&#x27;, &#x27;empréstimo&#x27;, &#x27;contato&#x27;, &#x27;anterior&#x27;]</pre></div></div></div><div class=\"sk-serial\"><div class=\"sk-item\"><div class=\"sk-serial\"><div class=\"sk-item\"><div class=\"sk-estimator sk-toggleable\"><input class=\"sk-toggleable__control sk-hidden--visually\" id=\"sk-estimator-id-266\" type=\"checkbox\" ><label for=\"sk-estimator-id-266\" class=\"sk-toggleable__label sk-toggleable__label-arrow\">SimpleImputer</label><div class=\"sk-toggleable__content\"><pre>SimpleImputer(fill_value=&#x27;No Data&#x27;, strategy=&#x27;constant&#x27;)</pre></div></div></div><div class=\"sk-item\"><div class=\"sk-estimator sk-toggleable\"><input class=\"sk-toggleable__control sk-hidden--visually\" id=\"sk-estimator-id-267\" type=\"checkbox\" ><label for=\"sk-estimator-id-267\" class=\"sk-toggleable__label sk-toggleable__label-arrow\">OneHotEncoder</label><div class=\"sk-toggleable__content\"><pre>OneHotEncoder(handle_unknown=&#x27;ignore&#x27;, sparse=False)</pre></div></div></div></div></div></div></div></div><div class=\"sk-parallel-item\"><div class=\"sk-item\"><div class=\"sk-label-container\"><div class=\"sk-label sk-toggleable\"><input class=\"sk-toggleable__control sk-hidden--visually\" id=\"sk-estimator-id-268\" type=\"checkbox\" ><label for=\"sk-estimator-id-268\" class=\"sk-toggleable__label sk-toggleable__label-arrow\">woe</label><div class=\"sk-toggleable__content\"><pre>[&#x27;fe_pca_0_group&#x27;]</pre></div></div></div><div class=\"sk-serial\"><div class=\"sk-item\"><div class=\"sk-serial\"><div class=\"sk-item\"><div class=\"sk-estimator sk-toggleable\"><input class=\"sk-toggleable__control sk-hidden--visually\" id=\"sk-estimator-id-269\" type=\"checkbox\" ><label for=\"sk-estimator-id-269\" class=\"sk-toggleable__label sk-toggleable__label-arrow\">SimpleImputer</label><div class=\"sk-toggleable__content\"><pre>SimpleImputer(fill_value=&#x27;No Data&#x27;, strategy=&#x27;constant&#x27;)</pre></div></div></div><div class=\"sk-item\"><div class=\"sk-estimator sk-toggleable\"><input class=\"sk-toggleable__control sk-hidden--visually\" id=\"sk-estimator-id-270\" type=\"checkbox\" ><label for=\"sk-estimator-id-270\" class=\"sk-toggleable__label sk-toggleable__label-arrow\">WOEEncoder</label><div class=\"sk-toggleable__content\"><pre>WOEEncoder(regularization=0)</pre></div></div></div></div></div></div></div></div></div></div><div class=\"sk-item\"><div class=\"sk-estimator sk-toggleable\"><input class=\"sk-toggleable__control sk-hidden--visually\" id=\"sk-estimator-id-271\" type=\"checkbox\" ><label for=\"sk-estimator-id-271\" class=\"sk-toggleable__label sk-toggleable__label-arrow\">VarianceThreshold</label><div class=\"sk-toggleable__content\"><pre>VarianceThreshold(threshold=0.04)</pre></div></div></div><div class=\"sk-item\"><div class=\"sk-estimator sk-toggleable\"><input class=\"sk-toggleable__control sk-hidden--visually\" id=\"sk-estimator-id-272\" type=\"checkbox\" ><label for=\"sk-estimator-id-272\" class=\"sk-toggleable__label sk-toggleable__label-arrow\">SelectPercentile</label><div class=\"sk-toggleable__content\"><pre>SelectPercentile(percentile=85)</pre></div></div></div><div class=\"sk-item\"><div class=\"sk-estimator sk-toggleable\"><input class=\"sk-toggleable__control sk-hidden--visually\" id=\"sk-estimator-id-273\" type=\"checkbox\" ><label for=\"sk-estimator-id-273\" class=\"sk-toggleable__label sk-toggleable__label-arrow\">DropConstantFeatures</label><div class=\"sk-toggleable__content\"><pre>DropConstantFeatures(tol=0.96)</pre></div></div></div><div class=\"sk-item\"><div class=\"sk-estimator sk-toggleable\"><input class=\"sk-toggleable__control sk-hidden--visually\" id=\"sk-estimator-id-274\" type=\"checkbox\" ><label for=\"sk-estimator-id-274\" class=\"sk-toggleable__label sk-toggleable__label-arrow\">StandardScaler</label><div class=\"sk-toggleable__content\"><pre>StandardScaler()</pre></div></div></div></div></div><div class=\"sk-item\"><div class=\"sk-estimator sk-toggleable\"><input class=\"sk-toggleable__control sk-hidden--visually\" id=\"sk-estimator-id-275\" type=\"checkbox\" ><label for=\"sk-estimator-id-275\" class=\"sk-toggleable__label sk-toggleable__label-arrow\">XGBClassifier</label><div class=\"sk-toggleable__content\"><pre>XGBClassifier(base_score=0.5, booster=&#x27;gbtree&#x27;, callbacks=None,\n",
       "              colsample_bylevel=1, colsample_bynode=1, colsample_bytree=0.75,\n",
       "              early_stopping_rounds=None, enable_categorical=False,\n",
       "              eval_metric=[&#x27;error&#x27;, &#x27;logloss&#x27;], gamma=0, gpu_id=-1,\n",
       "              grow_policy=&#x27;depthwise&#x27;, importance_type=None,\n",
       "              interaction_constraints=&#x27;&#x27;, learning_rate=0.01, max_bin=256,\n",
       "              max_cat_to_onehot=4, max_delta_step=0, max_depth=5, max_leaves=0,\n",
       "              min_child_weight=1, missing=nan, monotone_constraints=&#x27;()&#x27;,\n",
       "              n_estimators=1000, n_jobs=-1, num_parallel_tree=1,\n",
       "              predictor=&#x27;auto&#x27;, random_state=12359, reg_alpha=0, reg_lambda=30, ...)</pre></div></div></div></div></div></div></div>"
      ],
      "text/plain": [
       "Pipeline(steps=[('processor',\n",
       "                 Pipeline(steps=[('transform',\n",
       "                                  ColumnTransformer(transformers=[('ord',\n",
       "                                                                   Pipeline(steps=[('imp',\n",
       "                                                                                    SimpleImputer(fill_value='No '\n",
       "                                                                                                             'Data',\n",
       "                                                                                                  strategy='constant')),\n",
       "                                                                                   ('Ord',\n",
       "                                                                                    OrdinalEncoder())]),\n",
       "                                                                   ['educação',\n",
       "                                                                    'mês',\n",
       "                                                                    'dia',\n",
       "                                                                    'duração',\n",
       "                                                                    'fe_cluster',\n",
       "                                                                    'idade_group']),\n",
       "                                                                  ('oho',\n",
       "                                                                   Pipeline(steps=[('imp',\n",
       "                                                                                    SimpleImputer(fill_value='No '\n",
       "                                                                                                             'Data',\n",
       "                                                                                                  strategy='consta...\n",
       "                               eval_metric=['error', 'logloss'], gamma=0,\n",
       "                               gpu_id=-1, grow_policy='depthwise',\n",
       "                               importance_type=None, interaction_constraints='',\n",
       "                               learning_rate=0.01, max_bin=256,\n",
       "                               max_cat_to_onehot=4, max_delta_step=0,\n",
       "                               max_depth=5, max_leaves=0, min_child_weight=1,\n",
       "                               missing=nan, monotone_constraints='()',\n",
       "                               n_estimators=1000, n_jobs=-1,\n",
       "                               num_parallel_tree=1, predictor='auto',\n",
       "                               random_state=12359, reg_alpha=0, reg_lambda=30, ...))])"
      ]
     },
     "execution_count": 613,
     "metadata": {},
     "output_type": "execute_result"
    }
   ],
   "source": [
    "# Preprocessing data:\n",
    "numerical_transformer = SimpleImputer(strategy='constant')\n",
    "\n",
    "transformer_ord = Pipeline(steps=[\n",
    "    ('imp',SimpleImputer(strategy='constant', fill_value='No Data')),\n",
    "    ('Ord', OrdinalEncoder())\n",
    "])\n",
    "\n",
    "transformer_nho = Pipeline(steps=[\n",
    "    ('imp',SimpleImputer(strategy='constant', fill_value='No Data')),\n",
    "    ('OHen',OneHotEncoder(handle_unknown='ignore',sparse=False))\n",
    "])\n",
    "\n",
    "transformer_woe = Pipeline(steps=[\n",
    "    ('imp',SimpleImputer(strategy='constant', fill_value='No Data')),    \n",
    "    ('woe', ce.WOEEncoder(regularization=0))\n",
    "])\n",
    "\n",
    "transformer_tar = Pipeline(steps=[    \n",
    "    ('imp',SimpleImputer(strategy='constant', fill_value='No Data')),   \n",
    "    ('imputer', ce.LeaveOneOutEncoder())\n",
    "])\n",
    "    \n",
    "processor=ColumnTransformer(\n",
    "    transformers=[    \n",
    "        ('ord', transformer_ord, cols_ord ),\n",
    "        ('oho', transformer_nho, cols_oho), \n",
    "        ('woe', transformer_woe, cols_woe ),\n",
    "        #('tar', transformer_tar, cols_target ),\n",
    "        ], \n",
    "    remainder='drop', \n",
    "    sparse_threshold=0.3\n",
    ")\n",
    "\n",
    "percentage = .5\n",
    "over       = SMOTE(sampling_strategy=percentage, k_neighbors=5, n_jobs=-1, random_state=seed) \n",
    "under      = RandomUnderSampler(sampling_strategy=percentage, random_state=seed)\n",
    "\n",
    "# Processamento\n",
    "\n",
    "\n",
    "\n",
    "selectKbest      = ('SelectKBest', SelectKBest(score_func=f_classif, k=12))\n",
    "transf_column    = ('transform', processor)\n",
    "var_threshold    = ('variancethreshold', VarianceThreshold(threshold=0.04)) \n",
    "sel_percentile   = ('selectpercentile', SelectPercentile(f_classif, percentile=85))\n",
    "drop_feature_cor = ('dropfeaturecorr', DropConstantFeatures(tol=0.96))\n",
    "scaler           = ('preprocessor', StandardScaler())\n",
    "\n",
    "# Pipelne \n",
    "pipeline_processor = Pipeline(steps=[\n",
    "    transf_column, \n",
    "    var_threshold, \n",
    "    sel_percentile, \n",
    "    drop_feature_cor,\n",
    "    scaler\n",
    "])\n",
    "\n",
    "pipeline_xgb = Pipeline(steps=[('processor', pipeline_processor), ('model', model_xgb)])\n",
    "\n",
    "pipeline_xgb"
   ]
  },
  {
   "cell_type": "code",
   "execution_count": 614,
   "id": "aff6aed2",
   "metadata": {
    "ExecuteTime": {
     "end_time": "2022-12-21T22:46:53.370528Z",
     "start_time": "2022-12-21T22:46:53.230087Z"
    }
   },
   "outputs": [
    {
     "name": "stdout",
     "output_type": "stream",
     "text": [
      "Feature      : 34\n",
      "Feature final: 23\n"
     ]
    }
   ],
   "source": [
    "_ = processor.fit_transform(X,y)\n",
    "col_origen = _.shape[1]\n",
    "_ = pd.DataFrame(pipeline_processor.fit_transform(X,y))\n",
    "col_end = _.shape[1]\n",
    "\n",
    "print('Feature      : {}'.format(col_origen))\n",
    "print('Feature final: {}'.format(col_end))"
   ]
  },
  {
   "cell_type": "code",
   "execution_count": 615,
   "id": "bb157fb2",
   "metadata": {
    "ExecuteTime": {
     "end_time": "2022-12-21T22:47:20.730954Z",
     "start_time": "2022-12-21T22:47:00.514618Z"
    },
    "scrolled": false
   },
   "outputs": [
    {
     "name": "stdout",
     "output_type": "stream",
     "text": [
      "\n",
      "=> XGB-1\n",
      "==========================================================================================\n",
      "Fold 1 => F1-score: 0.75056 - F1-Train: 0.75673 - AUC:0.82469 - L.Loss: 0.41846 - 0h 0m 2s\n",
      "Fold 2 => F1-score: 0.72036 - F1-Train: 0.76016 - AUC:0.79704 - L.Loss: 0.45312 - 0h 0m 1s\n",
      "Fold 3 => F1-score: 0.73303 - F1-Train: 0.75964 - AUC:0.80758 - L.Loss: 0.42840 - 0h 0m 1s\n",
      "Fold 4 => F1-score: 0.74041 - F1-Train: 0.75367 - AUC:0.81416 - L.Loss: 0.41379 - 0h 0m 1s\n",
      "Fold 5 => F1-score: 0.75831 - F1-Train: 0.75526 - AUC:0.83127 - L.Loss: 0.40870 - 0h 0m 2s\n",
      "Fold 6 => F1-score: 0.71930 - F1-Train: 0.76002 - AUC:0.79798 - L.Loss: 0.44178 - 0h 0m 1s\n",
      "Fold 7 => F1-score: 0.76147 - F1-Train: 0.75467 - AUC:0.83229 - L.Loss: 0.39520 - 0h 0m 1s\n",
      "Fold 8 => F1-score: 0.71806 - F1-Train: 0.75703 - AUC:0.79665 - L.Loss: 0.44490 - 0h 0m 2s\n",
      "Fold 9 => F1-score: 0.73733 - F1-Train: 0.75556 - AUC:0.81114 - L.Loss: 0.41633 - 0h 0m 1s\n",
      "Fold 10 => F1-score: 0.76674 - F1-Train: 0.75481 - AUC:0.83625 - L.Loss: 0.40154 - 0h 0m 1s\n",
      "------------------------------------------------------------------------------------------\n",
      "\u001b[32m\u001b[1m[Mean] => F1-score: 0.74056 - F1-Train: 0.75675 - L.Loss: 0.42222 - 0h 0m 19s\u001b[0m\n",
      "==========================================================================================\n",
      "\n",
      "              precision    recall  f1-score   support\n",
      "\n",
      "           0       0.92      0.76      0.83      3791\n",
      "           1       0.65      0.87      0.74      1894\n",
      "\n",
      "    accuracy                           0.80      5685\n",
      "   macro avg       0.78      0.81      0.79      5685\n",
      "weighted avg       0.83      0.80      0.80      5685\n",
      "\n",
      "[[2888  903]\n",
      " [ 250 1644]]\n"
     ]
    },
    {
     "data": {
      "text/html": [
       "<div>\n",
       "<style scoped>\n",
       "    .dataframe tbody tr th:only-of-type {\n",
       "        vertical-align: middle;\n",
       "    }\n",
       "\n",
       "    .dataframe tbody tr th {\n",
       "        vertical-align: top;\n",
       "    }\n",
       "\n",
       "    .dataframe thead th {\n",
       "        text-align: right;\n",
       "    }\n",
       "</style>\n",
       "<table border=\"1\" class=\"dataframe\">\n",
       "  <thead>\n",
       "    <tr style=\"text-align: right;\">\n",
       "      <th></th>\n",
       "      <th>score</th>\n",
       "    </tr>\n",
       "  </thead>\n",
       "  <tbody>\n",
       "    <tr>\n",
       "      <th>XGB-1</th>\n",
       "      <td>0.74056</td>\n",
       "    </tr>\n",
       "  </tbody>\n",
       "</table>\n",
       "</div>"
      ],
      "text/plain": [
       "         score\n",
       "XGB-1  0.74056"
      ]
     },
     "metadata": {},
     "output_type": "display_data"
    },
    {
     "name": "stdout",
     "output_type": "stream",
     "text": [
      "\n",
      "CPU times: total: 2min 28s\n",
      "Wall time: 20.2 s\n"
     ]
    }
   ],
   "source": [
    "%%time \n",
    "\n",
    "models = [('XGB-1', pipeline_xgb, 1, 'xgb_tun_06_pp', pipeline_processor, 15), \n",
    "          #('XGB-2', model_xgb, 4, 'xgb_tun_07_pp', pipeline_processor, 15)\n",
    "         ]\n",
    "    \n",
    "mdl_list_fit, df_pred_tr, df_pred_ts, df_score_mdl, score = \\\n",
    "    model_cv_fit(models_       = models, \n",
    "                 X_            = X,\n",
    "                 y_            = y, \n",
    "                 X_test_       = X_test,                  \n",
    "                 path_         = path, \n",
    "                 seed_         = seed,\n",
    "                 target_       = target,\n",
    "                 create_sub_   = False, \n",
    "                 n_splits_     = 10,\n",
    "                 print_report_ = True)\n",
    "\n",
    "# F1-score: 0.73363 - F1-Train: 0.75822 - L.Loss: 0.42552 - 0h 0m 28s\n",
    "# F1-score: 0.73972 - F1-Train: 0.75625 - L.Loss: 0.42272 - 0h 0m 19s\n",
    "# F1-score: 0.73973 - F1-Train: 0.75601 - L.Loss: 0.42258 - 0h 0m 19s\n",
    "# F1-score: 0.73652 - F1-Train: 0.75693 - L.Loss: 0.42306 - 0h 0m 20s\n",
    "# F1-score: 0.74056 - F1-Train: 0.75675 - L.Loss: 0.42222 - 0h 0m 19s"
   ]
  },
  {
   "cell_type": "markdown",
   "id": "f9081490",
   "metadata": {
    "ExecuteTime": {
     "end_time": "2022-12-20T02:44:50.504349Z",
     "start_time": "2022-12-20T02:44:50.496325Z"
    }
   },
   "source": [
    "<div style=\"color:white;border-radius:8px;background-color:#a7d5ed\">    \n",
    "    <h1 style=\"padding:12px;color:black;\">4. TURNING </h1>    \n",
    "</div>"
   ]
  },
  {
   "cell_type": "markdown",
   "id": "4577fb1c",
   "metadata": {
    "ExecuteTime": {
     "end_time": "2022-12-21T19:30:07.085050Z",
     "start_time": "2022-12-21T19:30:07.078015Z"
    }
   },
   "source": [
    "## 4.1 Classe de turnning"
   ]
  },
  {
   "cell_type": "code",
   "execution_count": 616,
   "id": "b9755101",
   "metadata": {
    "ExecuteTime": {
     "end_time": "2022-12-21T22:47:42.691614Z",
     "start_time": "2022-12-21T22:47:42.672584Z"
    },
    "code_folding": [
     0
    ]
   },
   "outputs": [],
   "source": [
    "class LastPlacePruner(BasePruner):\n",
    "    # https://optuna.readthedocs.io/en/stable/tutorial/20_recipes/006_user_defined_pruner.html#sphx-glr-tutorial-20-recipes-006-user-defined-pruner-py    \n",
    "    def __init__(self, warmup_steps, warmup_trials):\n",
    "        self._warmup_steps = warmup_steps\n",
    "        self._warmup_trials = warmup_trials\n",
    "\n",
    "    def prune(self, study: \"optuna.study.Study\", trial: \"optuna.trial.FrozenTrial\") -> bool:\n",
    "        # Obtenha a pontuação mais recente relatada neste teste\n",
    "        step = trial.last_step\n",
    "\n",
    "        if step:  # trial.last_step == None when no scores have been reported yet\n",
    "            this_score = trial.intermediate_values[step]\n",
    "\n",
    "            # Get scores from other trials in the study reported at the same step\n",
    "            completed_trials = study.get_trials(deepcopy=False, states=(TrialState.COMPLETE,))\n",
    "            other_scores = [\n",
    "                t.intermediate_values[step]\n",
    "                for t in completed_trials\n",
    "                if step in t.intermediate_values\n",
    "            ]\n",
    "            other_scores = sorted(other_scores)\n",
    "\n",
    "            # Prune if this trial at this step has a lower value than all completed trials\n",
    "            # at the same step. Note that steps will begin numbering at 0 in the objective\n",
    "            # function definition below.\n",
    "            if step >= self._warmup_steps and len(other_scores) > self._warmup_trials:\n",
    "                if this_score < other_scores[0]:\n",
    "                    #print(f\"prune() True: Trial {trial.number}, Step {step}, Score {this_score}\")\n",
    "                    return True\n",
    "\n",
    "        return False"
   ]
  },
  {
   "cell_type": "code",
   "execution_count": 909,
   "id": "bdebb38b",
   "metadata": {
    "ExecuteTime": {
     "end_time": "2022-12-22T03:57:57.898197Z",
     "start_time": "2022-12-22T03:57:57.861197Z"
    },
    "code_folding": [
     2,
     19,
     21,
     36,
     100,
     143
    ]
   },
   "outputs": [],
   "source": [
    "class TunningModels(): # nn.Module\n",
    "        \n",
    "    def __init__(self, name_model_, X_trn_, y_trn_, X_ts_, seed_=12359, \n",
    "                 target_='target', path_='', level_='1', sc_second_= None, \n",
    "                 n_splits_=10):\n",
    "        \n",
    "        super(TunningModels,self).__init__() \n",
    "\n",
    "        self.name_clf    = name_model\n",
    "        self.X_trn       = X_trn_\n",
    "        self.y_trn       = y_trn_\n",
    "        self.X_ts        = X_ts_                 \n",
    "        self.seed        = seed_\n",
    "        self.target      = target_\n",
    "        self.path        = path_\n",
    "        self.level       = level_\n",
    "        self.sc_second   = sc_second_\n",
    "        self.n_splits    = n_splits_\n",
    "        \n",
    "    def delete_files(namefile):\n",
    "\n",
    "        path = ['model/train', 'model/test', 'model/valid', 'model/params', 'model/score',\n",
    "                'model/test_f', 'model/cv_model', 'model/preds', 'model/optuna', \n",
    "                'model/preds/train', 'model/preds/test', 'model/preds/test/n1', \n",
    "                'model/preds/test/n2', 'model/preds/test/n3', 'model/preds/train/n1', \n",
    "                'model/preds/train/n2', 'model/preds/train/n3','model/preds/param', \n",
    "                'Data/submission/tunning', 'Data/submission', 'model/mdl'\n",
    "                \n",
    "               ]\n",
    "\n",
    "        for path_ in path:\n",
    "            for raiz, diretorios, arquivos in os.walk(path_):\n",
    "                for arquivo in arquivos:\n",
    "                    if arquivo.startswith(namefile):                    \n",
    "                        os.remove(os.path.join(raiz, arquivo))\n",
    "                        \n",
    "    def xgb(self,  trial):\n",
    "\n",
    "        # https://xgboost.readthedocs.io/en/latest/parameter.html\n",
    "        # https://amangupta16.medium.com/xgboost-hyperparameters-explained-bb6ce580501d     \n",
    "        # https://aetperf.github.io/2021/02/16/Optuna-+-XGBoost-on-a-tabular-dataset.html\n",
    "        # https://www.analyticsvidhya.com/blog/2016/03/complete-guide-parameter-tuning-xgboost-with-codes-python/\n",
    "        # https://github.com/optuna/optuna/issues/2793\n",
    "        # https://programtalk.com/python-more-examples/optuna.integration.XGBoostPruningCallback/\n",
    "        \n",
    "        counter          = Counter(self.y_trn)\n",
    "        scale_pos_weight = (counter[0]/counter[1]) \n",
    "        \n",
    "        params = {\n",
    "            'objective'         : trial.suggest_categorical('objective', ['binary:logistic']),\n",
    "            'eval_metric'       : trial.suggest_categorical('eval_metric', ['error']), \n",
    "            'scale_pos_weight'  : trial.suggest_float('scale_pos_weight', scale_pos_weight, scale_pos_weight),\n",
    "            'max_depth'         : trial.suggest_int('max_depth', 2, 10),                   \n",
    "            'n_estimators'      : trial.suggest_int('n_estimators', 100, 1500, 100),                       \n",
    "            'learning_rate'     : trial.suggest_float('learning_rate', .0001, 0.1),\n",
    "            'colsample_bytree'  : trial.suggest_float('colsample_bytree', 0.6, 1.0),\n",
    "            'subsample'         : trial.suggest_discrete_uniform('subsample', .7, 1.0, .05),\n",
    "            'reg_lambda'        : trial.suggest_int('reg_lambda', 1, 100, 10), \n",
    "            'min_child_weight'  : trial.suggest_int('min_child_weight', 1, 10), \n",
    "            'n_jobs'            : trial.suggest_int('n_jobs', -1, -1 ), \n",
    "            'seed'              : trial.suggest_int('seed', self.seed, self.seed)\n",
    "        }\n",
    "            \n",
    "        if torch.cuda.is_available():           \n",
    "            params.update(\n",
    "                {'tree_method': trial.suggest_categorical('tree_method', ['gpu_hist']),\n",
    "                 'predictor'  : trial.suggest_categorical('predictor', ['gpu_predictor'])}\n",
    "            )\n",
    "                           \n",
    "              \n",
    "        pruning_callback = optuna.integration.XGBoostPruningCallback(trial, 'validation_0-error')\n",
    "        \n",
    "        pruning_callback = XGBoostPruningCallback(trial, 'validation_0-error') # + evalMetric)\n",
    "                \n",
    "        mdl          = xgb.XGBClassifier(**params)        \n",
    "        pipeline_xgb = Pipeline(steps=[('processor', pipeline_processor), ('model', mdl)])                        \n",
    "        models       = [('XGB-1', pipeline_xgb, 1, self.name_clf , pipeline_processor, 15)]\n",
    "        \n",
    "        #models       = [('XGB-1', mdl, 5, self.name_clf , pipeline_processor, 15)]\n",
    "\n",
    "        mdl_list_fit, df_pred_tr, df_pred_ts, df_score_mdl, score = \\\n",
    "            model_cv_fit(models_       = models, \n",
    "                         X_            = self.X_trn,\n",
    "                         y_            = self.y_trn, \n",
    "                         X_test_       = self.X_ts,                  \n",
    "                         path_         = self.path, \n",
    "                         seed_         = self.seed,\n",
    "                         target_       = self.path,\n",
    "                         create_sub_   = True, \n",
    "                         n_splits_     = self.n_splits,\n",
    "                         print_report_ = True, \n",
    "                         is_tunning_   = True, \n",
    "                         callbacks_    = pruning_callback\n",
    "                        )\n",
    "\n",
    "        print('score: {:5f} => param = {}'.format(score, params))\n",
    "        print()\n",
    "\n",
    "        return score\n",
    "    \n",
    "    def lgbm(self,  trial):\n",
    "        \n",
    "        counter          = Counter(self.y_trn)\n",
    "        scale_pos_weight = (counter[0]/counter[1]) \n",
    "        \n",
    "        params = {\n",
    "            'objective'         : trial.suggest_categorical('objective', ['binary']),\n",
    "            'metric'            : trial.suggest_categorical('metric', ['binary_logloss']),             \n",
    "            'scale_pos_weight'  : trial.suggest_float('scale_pos_weight', scale_pos_weight, scale_pos_weight),\n",
    "            'colsample_bytree'  : trial.suggest_float('colsample_bytree', 0.6, 1.0),\n",
    "            'learning_rate'     : trial.suggest_float('learning_rate', .0001, 0.1),\n",
    "            'max_depth'         : trial.suggest_int('max_depth', 2, 10),                   \n",
    "            'n_estimators'      : trial.suggest_int('n_estimators', 100, 1500, 100),                       \n",
    "            'min_child_weight'  : trial.suggest_int('min_child_weight', 1, 10), \n",
    "            'subsample'         : trial.suggest_discrete_uniform('subsample', .7, 1.0, .05),\n",
    "            'reg_lambda'        : trial.suggest_int('reg_lambda', 1, 100, 10), \n",
    "            'n_jobs'            : trial.suggest_int('n_jobs', -1, -1 ), \n",
    "            'random_state'      : trial.suggest_int('seed', self.seed, self.seed)\n",
    "        }\n",
    "                \n",
    "        mdl      = lgb.LGBMClassifier(**params)\n",
    "        pipeline = Pipeline(steps=[('processor', pipeline_processor), ('model', mdl)])                        \n",
    "        models   = [('LGBM-1', pipeline, 1, self.name_clf , pipeline_processor, 15)]\n",
    "       \n",
    "        mdl_list_fit, df_pred_tr, df_pred_ts, df_score_mdl, score = \\\n",
    "            model_cv_fit(models_       = models, \n",
    "                         X_            = self.X_trn,\n",
    "                         y_            = self.y_trn, \n",
    "                         X_test_       = self.X_ts,                  \n",
    "                         path_         = self.path, \n",
    "                         seed_         = self.seed,\n",
    "                         target_       = self.path,\n",
    "                         create_sub_   = True, \n",
    "                         n_splits_     = self.n_splits,\n",
    "                         print_report_ = True, \n",
    "                         is_tunning_   = True\n",
    "                        )\n",
    "\n",
    "        print('score: {:5f} => param = {}'.format(score, params))\n",
    "        print()\n",
    "\n",
    "        return score\n",
    "        \n",
    "    def ext(self,  trial):\n",
    "        # https://www.kaggle.com/code/juanmah/tactic-03-hyperparameter-optimization-xtra-trees\n",
    "        \n",
    "        counter          = Counter(self.y_trn)\n",
    "        scale_pos_weight = (counter[0]/counter[1]) \n",
    "                        \n",
    "        params = {                       \n",
    "            'criterion'         : trial.suggest_int('criterion', ['gini']),\n",
    "            'n_estimators'      : trial.suggest_int('n_estimators', 100, 2000, 100),\n",
    "            'max_depth'         : trial.suggest_int('max_depth', 2, 15),            \n",
    "            'class_weight'      : trial.suggest_categorical('class_weight', ['balanced']),\n",
    "            'bootstrap'         : trial.suggest_categorical('bootstrap', [True]),\n",
    "            'oob_score'         : trial.suggest_categorical('oob_score', [True]),\n",
    "            'warm_start'        : trial.suggest_categorical('warm_start', [True]),            \n",
    "            'n_jobs'            : trial.suggest_int('n_jobs', -1, -1 ), \n",
    "            'random_state'      : trial.suggest_int('seed', self.seed, self.seed)\n",
    "        }\n",
    "                       \n",
    "        mdl      = ExtraTreesClassifier(**params)\n",
    "        pipeline = Pipeline(steps=[('processor', pipeline_processor), ('model', mdl)])                        \n",
    "        models   = [('Extra-Trees', pipeline, 1, self.name_clf , pipeline_processor, 15)]\n",
    "       \n",
    "        mdl_list_fit, df_pred_tr, df_pred_ts, df_score_mdl, score = \\\n",
    "            model_cv_fit(models_       = models, \n",
    "                         X_            = self.X_trn,\n",
    "                         y_            = self.y_trn, \n",
    "                         X_test_       = self.X_ts,                  \n",
    "                         path_         = self.path, \n",
    "                         seed_         = self.seed,\n",
    "                         target_       = self.path,\n",
    "                         create_sub_   = True, \n",
    "                         n_splits_     = self.n_splits,\n",
    "                         print_report_ = True, \n",
    "                         is_tunning_   = True\n",
    "                        )\n",
    "\n",
    "        print('score: {:5f} => param = {}'.format(score, params))\n",
    "        print()\n",
    "\n",
    "        return score\n",
    "    \n",
    "    def hgb(self,  trial):\n",
    "                               \n",
    "        params = {                       \n",
    "            'scoring'             : trial.suggest_categorical('scoring', ['loss']),\n",
    "            'max_depth'           : trial.suggest_int('max_depth', 2, 15),               \n",
    "            'max_iter'            : trial.suggest_int('max_iter', 100, 2000, 100),\n",
    "            'learning_rate'       : trial.suggest_float('learning_rate', .01, 1.),\n",
    "            'validation_fraction' : trial.suggest_float('validation_fraction', .5, .5),\n",
    "            'l2_regularization'   : trial.suggest_float('l2_regularization', .05, .9),\n",
    "            'warm_start'          : trial.suggest_categorical('warm_start', [True]),\n",
    "            'random_state'        : trial.suggest_int('random_state', self.seed, self.seed)\n",
    "        }\n",
    "                      \n",
    "        mdl      = HistGradientBoostingClassifier(**params)\n",
    "        pipeline = Pipeline(steps=[('processor', pipeline_processor), ('model', mdl)])                        \n",
    "        models   = [('Extra-Trees', pipeline, 1, self.name_clf , pipeline_processor, 15)]\n",
    "       \n",
    "        mdl_list_fit, df_pred_tr, df_pred_ts, df_score_mdl, score = \\\n",
    "            model_cv_fit(models_       = models, \n",
    "                         X_            = self.X_trn,\n",
    "                         y_            = self.y_trn, \n",
    "                         X_test_       = self.X_ts,                  \n",
    "                         path_         = self.path, \n",
    "                         seed_         = self.seed,\n",
    "                         target_       = self.path,\n",
    "                         create_sub_   = True, \n",
    "                         n_splits_     = self.n_splits,\n",
    "                         print_report_ = True, \n",
    "                         is_tunning_   = True\n",
    "                        )\n",
    "\n",
    "        print('score: {:5f} => param = {}'.format(score, params))\n",
    "        print()\n",
    "\n",
    "        return score\n",
    "    "
   ]
  },
  {
   "cell_type": "markdown",
   "id": "6fea2c80",
   "metadata": {},
   "source": [
    "## 4.2. Modelo XGB"
   ]
  },
  {
   "cell_type": "code",
   "execution_count": 718,
   "id": "55d3120f",
   "metadata": {
    "ExecuteTime": {
     "end_time": "2022-12-22T00:09:55.228815Z",
     "start_time": "2022-12-22T00:09:55.215841Z"
    }
   },
   "outputs": [],
   "source": [
    "optuna.logging.set_verbosity(optuna.logging.WARNING)"
   ]
  },
  {
   "cell_type": "code",
   "execution_count": 735,
   "id": "871b888a",
   "metadata": {
    "ExecuteTime": {
     "end_time": "2022-12-22T00:45:46.325392Z",
     "start_time": "2022-12-22T00:21:21.636079Z"
    },
    "scrolled": false
   },
   "outputs": [
    {
     "name": "stdout",
     "output_type": "stream",
     "text": [
      "score: 0.732240 => param = {'objective': 'binary:logistic', 'eval_metric': 'error', 'scale_pos_weight': 2.001583949313622, 'max_depth': 4, 'n_estimators': 300, 'learning_rate': 0.03659790922415695, 'colsample_bytree': 0.945175000615857, 'subsample': 0.7999999999999999, 'reg_lambda': 71, 'min_child_weight': 7, 'n_jobs': -1, 'seed': 12359}\n",
      "\n",
      "score: 0.719330 => param = {'objective': 'binary:logistic', 'eval_metric': 'error', 'scale_pos_weight': 2.001583949313622, 'max_depth': 5, 'n_estimators': 1200, 'learning_rate': 0.041670932721309194, 'colsample_bytree': 0.9492144856878898, 'subsample': 0.85, 'reg_lambda': 11, 'min_child_weight': 2, 'n_jobs': -1, 'seed': 12359}\n",
      "\n",
      "score: 0.736880 => param = {'objective': 'binary:logistic', 'eval_metric': 'error', 'scale_pos_weight': 2.001583949313622, 'max_depth': 9, 'n_estimators': 900, 'learning_rate': 0.0053033919968160466, 'colsample_bytree': 0.7244084104880744, 'subsample': 0.95, 'reg_lambda': 11, 'min_child_weight': 8, 'n_jobs': -1, 'seed': 12359}\n",
      "\n",
      "score: 0.735940 => param = {'objective': 'binary:logistic', 'eval_metric': 'error', 'scale_pos_weight': 2.001583949313622, 'max_depth': 4, 'n_estimators': 1100, 'learning_rate': 0.03494746340955236, 'colsample_bytree': 0.9900547460292147, 'subsample': 0.75, 'reg_lambda': 71, 'min_child_weight': 4, 'n_jobs': -1, 'seed': 12359}\n",
      "\n",
      "score: 0.728000 => param = {'objective': 'binary:logistic', 'eval_metric': 'error', 'scale_pos_weight': 2.001583949313622, 'max_depth': 6, 'n_estimators': 1100, 'learning_rate': 0.045040866518459975, 'colsample_bytree': 0.8902258775887049, 'subsample': 0.95, 'reg_lambda': 61, 'min_child_weight': 6, 'n_jobs': -1, 'seed': 12359}\n",
      "\n",
      "score: 0.689330 => param = {'objective': 'binary:logistic', 'eval_metric': 'error', 'scale_pos_weight': 2.001583949313622, 'max_depth': 10, 'n_estimators': 1100, 'learning_rate': 0.0904581803019787, 'colsample_bytree': 0.886023391052349, 'subsample': 0.85, 'reg_lambda': 11, 'min_child_weight': 10, 'n_jobs': -1, 'seed': 12359}\n",
      "\n",
      "score: 0.709140 => param = {'objective': 'binary:logistic', 'eval_metric': 'error', 'scale_pos_weight': 2.001583949313622, 'max_depth': 10, 'n_estimators': 600, 'learning_rate': 0.08241272890478765, 'colsample_bytree': 0.9454638657196617, 'subsample': 0.8999999999999999, 'reg_lambda': 31, 'min_child_weight': 9, 'n_jobs': -1, 'seed': 12359}\n",
      "\n",
      "score: 0.719620 => param = {'objective': 'binary:logistic', 'eval_metric': 'error', 'scale_pos_weight': 2.001583949313622, 'max_depth': 5, 'n_estimators': 100, 'learning_rate': 0.025976715034300633, 'colsample_bytree': 0.818183558589805, 'subsample': 1.0, 'reg_lambda': 11, 'min_child_weight': 6, 'n_jobs': -1, 'seed': 12359}\n",
      "\n",
      "score: 0.736800 => param = {'objective': 'binary:logistic', 'eval_metric': 'error', 'scale_pos_weight': 2.001583949313622, 'max_depth': 5, 'n_estimators': 700, 'learning_rate': 0.01981646682102825, 'colsample_bytree': 0.625031643966948, 'subsample': 0.7, 'reg_lambda': 11, 'min_child_weight': 8, 'n_jobs': -1, 'seed': 12359}\n",
      "\n",
      "score: 0.717000 => param = {'objective': 'binary:logistic', 'eval_metric': 'error', 'scale_pos_weight': 2.001583949313622, 'max_depth': 8, 'n_estimators': 900, 'learning_rate': 0.04093848315917329, 'colsample_bytree': 0.9417702665001773, 'subsample': 0.75, 'reg_lambda': 41, 'min_child_weight': 2, 'n_jobs': -1, 'seed': 12359}\n",
      "\n",
      "score: 0.733230 => param = {'objective': 'binary:logistic', 'eval_metric': 'error', 'scale_pos_weight': 2.001583949313622, 'max_depth': 9, 'n_estimators': 800, 'learning_rate': 0.004515100360714602, 'colsample_bytree': 0.7421825797869762, 'subsample': 1.0, 'reg_lambda': 31, 'min_child_weight': 10, 'n_jobs': -1, 'seed': 12359}\n",
      "\n",
      "score: 0.719930 => param = {'objective': 'binary:logistic', 'eval_metric': 'error', 'scale_pos_weight': 2.001583949313622, 'max_depth': 5, 'n_estimators': 900, 'learning_rate': 0.041202358244443085, 'colsample_bytree': 0.6150173996726871, 'subsample': 0.7, 'reg_lambda': 1, 'min_child_weight': 10, 'n_jobs': -1, 'seed': 12359}\n",
      "\n",
      "score: 0.733590 => param = {'objective': 'binary:logistic', 'eval_metric': 'error', 'scale_pos_weight': 2.001583949313622, 'max_depth': 3, 'n_estimators': 900, 'learning_rate': 0.032279798482565826, 'colsample_bytree': 0.6537701268797618, 'subsample': 0.85, 'reg_lambda': 41, 'min_child_weight': 5, 'n_jobs': -1, 'seed': 12359}\n",
      "\n",
      "score: 0.737790 => param = {'objective': 'binary:logistic', 'eval_metric': 'error', 'scale_pos_weight': 2.001583949313622, 'max_depth': 7, 'n_estimators': 900, 'learning_rate': 0.005381238834873724, 'colsample_bytree': 0.613867928115966, 'subsample': 0.7999999999999999, 'reg_lambda': 11, 'min_child_weight': 6, 'n_jobs': -1, 'seed': 12359}\n",
      "\n",
      "score: 0.738540 => param = {'objective': 'binary:logistic', 'eval_metric': 'error', 'scale_pos_weight': 2.001583949313622, 'max_depth': 7, 'n_estimators': 900, 'learning_rate': 0.00700230706640947, 'colsample_bytree': 0.6640277626278456, 'subsample': 0.8999999999999999, 'reg_lambda': 11, 'min_child_weight': 4, 'n_jobs': -1, 'seed': 12359}\n",
      "\n",
      "score: 0.735650 => param = {'objective': 'binary:logistic', 'eval_metric': 'error', 'scale_pos_weight': 2.001583949313622, 'max_depth': 8, 'n_estimators': 900, 'learning_rate': 0.010794671364863652, 'colsample_bytree': 0.6045617264062145, 'subsample': 0.7999999999999999, 'reg_lambda': 11, 'min_child_weight': 4, 'n_jobs': -1, 'seed': 12359}\n",
      "\n",
      "score: 0.713290 => param = {'objective': 'binary:logistic', 'eval_metric': 'error', 'scale_pos_weight': 2.001583949313622, 'max_depth': 4, 'n_estimators': 700, 'learning_rate': 0.0013044177086841986, 'colsample_bytree': 0.6481228668228063, 'subsample': 0.85, 'reg_lambda': 21, 'min_child_weight': 2, 'n_jobs': -1, 'seed': 12359}\n",
      "\n",
      "score: 0.723390 => param = {'objective': 'binary:logistic', 'eval_metric': 'error', 'scale_pos_weight': 2.001583949313622, 'max_depth': 7, 'n_estimators': 1500, 'learning_rate': 0.03250508535916006, 'colsample_bytree': 0.6557774112436421, 'subsample': 0.7999999999999999, 'reg_lambda': 41, 'min_child_weight': 9, 'n_jobs': -1, 'seed': 12359}\n",
      "\n",
      "score: 0.735520 => param = {'objective': 'binary:logistic', 'eval_metric': 'error', 'scale_pos_weight': 2.001583949313622, 'max_depth': 9, 'n_estimators': 500, 'learning_rate': 0.01968078229975417, 'colsample_bytree': 0.7602877334313254, 'subsample': 0.8999999999999999, 'reg_lambda': 21, 'min_child_weight': 1, 'n_jobs': -1, 'seed': 12359}\n",
      "\n",
      "score: 0.720850 => param = {'objective': 'binary:logistic', 'eval_metric': 'error', 'scale_pos_weight': 2.001583949313622, 'max_depth': 7, 'n_estimators': 1100, 'learning_rate': 0.04011795154326336, 'colsample_bytree': 0.707052133365497, 'subsample': 0.8999999999999999, 'reg_lambda': 41, 'min_child_weight': 2, 'n_jobs': -1, 'seed': 12359}\n",
      "\n",
      "score: 0.736860 => param = {'objective': 'binary:logistic', 'eval_metric': 'error', 'scale_pos_weight': 2.001583949313622, 'max_depth': 10, 'n_estimators': 600, 'learning_rate': 0.013657353267642286, 'colsample_bytree': 0.7269997252336521, 'subsample': 0.7999999999999999, 'reg_lambda': 61, 'min_child_weight': 6, 'n_jobs': -1, 'seed': 12359}\n",
      "\n",
      "score: 0.734700 => param = {'objective': 'binary:logistic', 'eval_metric': 'error', 'scale_pos_weight': 2.001583949313622, 'max_depth': 7, 'n_estimators': 1000, 'learning_rate': 0.014034264356266351, 'colsample_bytree': 0.8005831287879739, 'subsample': 0.95, 'reg_lambda': 11, 'min_child_weight': 7, 'n_jobs': -1, 'seed': 12359}\n",
      "\n",
      "score: 0.728740 => param = {'objective': 'binary:logistic', 'eval_metric': 'error', 'scale_pos_weight': 2.001583949313622, 'max_depth': 10, 'n_estimators': 900, 'learning_rate': 0.010203112419535691, 'colsample_bytree': 0.7235775271311159, 'subsample': 0.7999999999999999, 'reg_lambda': 1, 'min_child_weight': 9, 'n_jobs': -1, 'seed': 12359}\n",
      "\n",
      "score: 0.738540 => param = {'objective': 'binary:logistic', 'eval_metric': 'error', 'scale_pos_weight': 2.001583949313622, 'max_depth': 9, 'n_estimators': 800, 'learning_rate': 0.010788277107177186, 'colsample_bytree': 0.6328538761519631, 'subsample': 0.95, 'reg_lambda': 21, 'min_child_weight': 6, 'n_jobs': -1, 'seed': 12359}\n",
      "\n",
      "score: 0.715550 => param = {'objective': 'binary:logistic', 'eval_metric': 'error', 'scale_pos_weight': 2.001583949313622, 'max_depth': 10, 'n_estimators': 1200, 'learning_rate': 0.027488136331564307, 'colsample_bytree': 0.63567338020531, 'subsample': 0.8999999999999999, 'reg_lambda': 21, 'min_child_weight': 6, 'n_jobs': -1, 'seed': 12359}\n",
      "\n"
     ]
    },
    {
     "name": "stdout",
     "output_type": "stream",
     "text": [
      "score: 0.724300 => param = {'objective': 'binary:logistic', 'eval_metric': 'error', 'scale_pos_weight': 2.001583949313622, 'max_depth': 7, 'n_estimators': 1000, 'learning_rate': 0.01279314383859732, 'colsample_bytree': 0.7050551400203462, 'subsample': 0.95, 'reg_lambda': 1, 'min_child_weight': 2, 'n_jobs': -1, 'seed': 12359}\n",
      "\n",
      "score: 0.737530 => param = {'objective': 'binary:logistic', 'eval_metric': 'error', 'scale_pos_weight': 2.001583949313622, 'max_depth': 7, 'n_estimators': 500, 'learning_rate': 0.009242520707132792, 'colsample_bytree': 0.6084199522553827, 'subsample': 1.0, 'reg_lambda': 11, 'min_child_weight': 4, 'n_jobs': -1, 'seed': 12359}\n",
      "\n",
      "score: 0.733770 => param = {'objective': 'binary:logistic', 'eval_metric': 'error', 'scale_pos_weight': 2.001583949313622, 'max_depth': 3, 'n_estimators': 1200, 'learning_rate': 0.01675180788815271, 'colsample_bytree': 0.6010536702553803, 'subsample': 1.0, 'reg_lambda': 11, 'min_child_weight': 5, 'n_jobs': -1, 'seed': 12359}\n",
      "\n",
      "score: 0.732090 => param = {'objective': 'binary:logistic', 'eval_metric': 'error', 'scale_pos_weight': 2.001583949313622, 'max_depth': 7, 'n_estimators': 700, 'learning_rate': 0.05504271562039689, 'colsample_bytree': 0.6258393823336794, 'subsample': 0.95, 'reg_lambda': 51, 'min_child_weight': 6, 'n_jobs': -1, 'seed': 12359}\n",
      "\n",
      "score: 0.737810 => param = {'objective': 'binary:logistic', 'eval_metric': 'error', 'scale_pos_weight': 2.001583949313622, 'max_depth': 8, 'n_estimators': 800, 'learning_rate': 0.007674734109672982, 'colsample_bytree': 0.6773645298964541, 'subsample': 0.8999999999999999, 'reg_lambda': 41, 'min_child_weight': 4, 'n_jobs': -1, 'seed': 12359}\n",
      "\n",
      "score: 0.724910 => param = {'objective': 'binary:logistic', 'eval_metric': 'error', 'scale_pos_weight': 2.001583949313622, 'max_depth': 7, 'n_estimators': 600, 'learning_rate': 0.0034607643023871646, 'colsample_bytree': 0.7280224533974466, 'subsample': 1.0, 'reg_lambda': 51, 'min_child_weight': 6, 'n_jobs': -1, 'seed': 12359}\n",
      "\n",
      "score: 0.738370 => param = {'objective': 'binary:logistic', 'eval_metric': 'error', 'scale_pos_weight': 2.001583949313622, 'max_depth': 7, 'n_estimators': 800, 'learning_rate': 0.013524297927253803, 'colsample_bytree': 0.6914601943698018, 'subsample': 0.85, 'reg_lambda': 41, 'min_child_weight': 6, 'n_jobs': -1, 'seed': 12359}\n",
      "\n",
      "score: 0.738530 => param = {'objective': 'binary:logistic', 'eval_metric': 'error', 'scale_pos_weight': 2.001583949313622, 'max_depth': 7, 'n_estimators': 900, 'learning_rate': 0.00805635444903045, 'colsample_bytree': 0.7531321531358173, 'subsample': 0.7999999999999999, 'reg_lambda': 41, 'min_child_weight': 6, 'n_jobs': -1, 'seed': 12359}\n",
      "\n",
      "score: 0.731930 => param = {'objective': 'binary:logistic', 'eval_metric': 'error', 'scale_pos_weight': 2.001583949313622, 'max_depth': 7, 'n_estimators': 1000, 'learning_rate': 0.02309351343318462, 'colsample_bytree': 0.7686689646208885, 'subsample': 0.7, 'reg_lambda': 31, 'min_child_weight': 7, 'n_jobs': -1, 'seed': 12359}\n",
      "\n",
      "score: 0.739110 => param = {'objective': 'binary:logistic', 'eval_metric': 'error', 'scale_pos_weight': 2.001583949313622, 'max_depth': 7, 'n_estimators': 1100, 'learning_rate': 0.014628660387959905, 'colsample_bytree': 0.8326987730131528, 'subsample': 0.85, 'reg_lambda': 61, 'min_child_weight': 8, 'n_jobs': -1, 'seed': 12359}\n",
      "\n",
      "score: 0.738140 => param = {'objective': 'binary:logistic', 'eval_metric': 'error', 'scale_pos_weight': 2.001583949313622, 'max_depth': 9, 'n_estimators': 1300, 'learning_rate': 0.012021437889057886, 'colsample_bytree': 0.7906354814193376, 'subsample': 0.8999999999999999, 'reg_lambda': 91, 'min_child_weight': 8, 'n_jobs': -1, 'seed': 12359}\n",
      "\n",
      "score: 0.721930 => param = {'objective': 'binary:logistic', 'eval_metric': 'error', 'scale_pos_weight': 2.001583949313622, 'max_depth': 3, 'n_estimators': 900, 'learning_rate': 0.009752039318684517, 'colsample_bytree': 0.83326466267384, 'subsample': 0.7999999999999999, 'reg_lambda': 61, 'min_child_weight': 7, 'n_jobs': -1, 'seed': 12359}\n",
      "\n",
      "score: 0.710940 => param = {'objective': 'binary:logistic', 'eval_metric': 'error', 'scale_pos_weight': 2.001583949313622, 'max_depth': 6, 'n_estimators': 1000, 'learning_rate': 0.0003800937092533919, 'colsample_bytree': 0.7746950259974548, 'subsample': 0.85, 'reg_lambda': 71, 'min_child_weight': 7, 'n_jobs': -1, 'seed': 12359}\n",
      "\n",
      "score: 0.736440 => param = {'objective': 'binary:logistic', 'eval_metric': 'error', 'scale_pos_weight': 2.001583949313622, 'max_depth': 5, 'n_estimators': 1500, 'learning_rate': 0.012033386792365017, 'colsample_bytree': 0.9530643694126172, 'subsample': 0.85, 'reg_lambda': 61, 'min_child_weight': 7, 'n_jobs': -1, 'seed': 12359}\n",
      "\n",
      "score: 0.727250 => param = {'objective': 'binary:logistic', 'eval_metric': 'error', 'scale_pos_weight': 2.001583949313622, 'max_depth': 8, 'n_estimators': 1200, 'learning_rate': 0.0360012822700511, 'colsample_bytree': 0.8495623279336875, 'subsample': 0.85, 'reg_lambda': 61, 'min_child_weight': 9, 'n_jobs': -1, 'seed': 12359}\n",
      "\n",
      "score: 0.719770 => param = {'objective': 'binary:logistic', 'eval_metric': 'error', 'scale_pos_weight': 2.001583949313622, 'max_depth': 2, 'n_estimators': 300, 'learning_rate': 0.03337937210683125, 'colsample_bytree': 0.7093096883083553, 'subsample': 0.95, 'reg_lambda': 91, 'min_child_weight': 4, 'n_jobs': -1, 'seed': 12359}\n",
      "\n",
      "score: 0.732970 => param = {'objective': 'binary:logistic', 'eval_metric': 'error', 'scale_pos_weight': 2.001583949313622, 'max_depth': 10, 'n_estimators': 700, 'learning_rate': 0.004506415159389139, 'colsample_bytree': 0.6206570657652412, 'subsample': 0.95, 'reg_lambda': 1, 'min_child_weight': 6, 'n_jobs': -1, 'seed': 12359}\n",
      "\n",
      "score: 0.720900 => param = {'objective': 'binary:logistic', 'eval_metric': 'error', 'scale_pos_weight': 2.001583949313622, 'max_depth': 7, 'n_estimators': 800, 'learning_rate': 0.0014499004500881738, 'colsample_bytree': 0.8832217405573765, 'subsample': 0.7999999999999999, 'reg_lambda': 31, 'min_child_weight': 8, 'n_jobs': -1, 'seed': 12359}\n",
      "\n",
      "score: 0.734800 => param = {'objective': 'binary:logistic', 'eval_metric': 'error', 'scale_pos_weight': 2.001583949313622, 'max_depth': 10, 'n_estimators': 700, 'learning_rate': 0.027774446239853194, 'colsample_bytree': 0.6048833220692463, 'subsample': 1.0, 'reg_lambda': 31, 'min_child_weight': 8, 'n_jobs': -1, 'seed': 12359}\n",
      "\n",
      "score: 0.731830 => param = {'objective': 'binary:logistic', 'eval_metric': 'error', 'scale_pos_weight': 2.001583949313622, 'max_depth': 5, 'n_estimators': 800, 'learning_rate': 0.006344586536458653, 'colsample_bytree': 0.741981544814908, 'subsample': 0.8999999999999999, 'reg_lambda': 21, 'min_child_weight': 6, 'n_jobs': -1, 'seed': 12359}\n",
      "\n",
      "score: 0.740430 => param = {'objective': 'binary:logistic', 'eval_metric': 'error', 'scale_pos_weight': 2.001583949313622, 'max_depth': 5, 'n_estimators': 600, 'learning_rate': 0.019556213945346332, 'colsample_bytree': 0.6864703761903883, 'subsample': 0.85, 'reg_lambda': 31, 'min_child_weight': 10, 'n_jobs': -1, 'seed': 12359}\n",
      "\n",
      "score: 0.721180 => param = {'objective': 'binary:logistic', 'eval_metric': 'error', 'scale_pos_weight': 2.001583949313622, 'max_depth': 5, 'n_estimators': 400, 'learning_rate': 0.009495474055978694, 'colsample_bytree': 0.7526106728982511, 'subsample': 0.85, 'reg_lambda': 31, 'min_child_weight': 9, 'n_jobs': -1, 'seed': 12359}\n",
      "\n",
      "score: 0.718240 => param = {'objective': 'binary:logistic', 'eval_metric': 'error', 'scale_pos_weight': 2.001583949313622, 'max_depth': 5, 'n_estimators': 600, 'learning_rate': 0.004703120492604844, 'colsample_bytree': 0.6655511739636871, 'subsample': 0.85, 'reg_lambda': 61, 'min_child_weight': 10, 'n_jobs': -1, 'seed': 12359}\n",
      "\n",
      "score: 0.733800 => param = {'objective': 'binary:logistic', 'eval_metric': 'error', 'scale_pos_weight': 2.001583949313622, 'max_depth': 4, 'n_estimators': 900, 'learning_rate': 0.043058996070819415, 'colsample_bytree': 0.8625033285686781, 'subsample': 0.8999999999999999, 'reg_lambda': 41, 'min_child_weight': 9, 'n_jobs': -1, 'seed': 12359}\n",
      "\n",
      "score: 0.739600 => param = {'objective': 'binary:logistic', 'eval_metric': 'error', 'scale_pos_weight': 2.001583949313622, 'max_depth': 7, 'n_estimators': 200, 'learning_rate': 0.04940749718784734, 'colsample_bytree': 0.6433951327337829, 'subsample': 0.8999999999999999, 'reg_lambda': 51, 'min_child_weight': 10, 'n_jobs': -1, 'seed': 12359}\n",
      "\n"
     ]
    },
    {
     "name": "stdout",
     "output_type": "stream",
     "text": [
      "score: 0.739020 => param = {'objective': 'binary:logistic', 'eval_metric': 'error', 'scale_pos_weight': 2.001583949313622, 'max_depth': 6, 'n_estimators': 300, 'learning_rate': 0.05701297252283363, 'colsample_bytree': 0.6331025390123589, 'subsample': 1.0, 'reg_lambda': 61, 'min_child_weight': 10, 'n_jobs': -1, 'seed': 12359}\n",
      "\n",
      "score: 0.733760 => param = {'objective': 'binary:logistic', 'eval_metric': 'error', 'scale_pos_weight': 2.001583949313622, 'max_depth': 6, 'n_estimators': 100, 'learning_rate': 0.06852920849298372, 'colsample_bytree': 0.6532708274130055, 'subsample': 1.0, 'reg_lambda': 51, 'min_child_weight': 8, 'n_jobs': -1, 'seed': 12359}\n",
      "\n",
      "score: 0.737100 => param = {'objective': 'binary:logistic', 'eval_metric': 'error', 'scale_pos_weight': 2.001583949313622, 'max_depth': 8, 'n_estimators': 100, 'learning_rate': 0.044103104708650386, 'colsample_bytree': 0.6532852341448193, 'subsample': 0.7999999999999999, 'reg_lambda': 31, 'min_child_weight': 10, 'n_jobs': -1, 'seed': 12359}\n",
      "\n",
      "score: 0.736430 => param = {'objective': 'binary:logistic', 'eval_metric': 'error', 'scale_pos_weight': 2.001583949313622, 'max_depth': 6, 'n_estimators': 200, 'learning_rate': 0.0397785455482278, 'colsample_bytree': 0.6419617624022503, 'subsample': 0.8999999999999999, 'reg_lambda': 61, 'min_child_weight': 10, 'n_jobs': -1, 'seed': 12359}\n",
      "\n",
      "score: 0.725460 => param = {'objective': 'binary:logistic', 'eval_metric': 'error', 'scale_pos_weight': 2.001583949313622, 'max_depth': 6, 'n_estimators': 700, 'learning_rate': 0.05161857083586573, 'colsample_bytree': 0.7008190125951047, 'subsample': 0.85, 'reg_lambda': 21, 'min_child_weight': 9, 'n_jobs': -1, 'seed': 12359}\n",
      "\n",
      "score: 0.737090 => param = {'objective': 'binary:logistic', 'eval_metric': 'error', 'scale_pos_weight': 2.001583949313622, 'max_depth': 6, 'n_estimators': 500, 'learning_rate': 0.058023764326603396, 'colsample_bytree': 0.7760190943446852, 'subsample': 0.95, 'reg_lambda': 81, 'min_child_weight': 10, 'n_jobs': -1, 'seed': 12359}\n",
      "\n",
      "score: 0.734730 => param = {'objective': 'binary:logistic', 'eval_metric': 'error', 'scale_pos_weight': 2.001583949313622, 'max_depth': 6, 'n_estimators': 1000, 'learning_rate': 0.017900370467888817, 'colsample_bytree': 0.7261097651838168, 'subsample': 0.85, 'reg_lambda': 31, 'min_child_weight': 10, 'n_jobs': -1, 'seed': 12359}\n",
      "\n",
      "score: 0.736310 => param = {'objective': 'binary:logistic', 'eval_metric': 'error', 'scale_pos_weight': 2.001583949313622, 'max_depth': 5, 'n_estimators': 300, 'learning_rate': 0.06398568647733831, 'colsample_bytree': 0.6527990129269257, 'subsample': 1.0, 'reg_lambda': 81, 'min_child_weight': 10, 'n_jobs': -1, 'seed': 12359}\n",
      "\n",
      "score: 0.721340 => param = {'objective': 'binary:logistic', 'eval_metric': 'error', 'scale_pos_weight': 2.001583949313622, 'max_depth': 9, 'n_estimators': 100, 'learning_rate': 0.024181455296280234, 'colsample_bytree': 0.6509317394691925, 'subsample': 0.8999999999999999, 'reg_lambda': 61, 'min_child_weight': 10, 'n_jobs': -1, 'seed': 12359}\n",
      "\n",
      "score: 0.735560 => param = {'objective': 'binary:logistic', 'eval_metric': 'error', 'scale_pos_weight': 2.001583949313622, 'max_depth': 10, 'n_estimators': 300, 'learning_rate': 0.06122342469462571, 'colsample_bytree': 0.7803566638195765, 'subsample': 0.95, 'reg_lambda': 51, 'min_child_weight': 8, 'n_jobs': -1, 'seed': 12359}\n",
      "\n",
      "score: 0.734950 => param = {'objective': 'binary:logistic', 'eval_metric': 'error', 'scale_pos_weight': 2.001583949313622, 'max_depth': 8, 'n_estimators': 500, 'learning_rate': 0.05895985463115207, 'colsample_bytree': 0.6348106745329977, 'subsample': 0.95, 'reg_lambda': 51, 'min_child_weight': 10, 'n_jobs': -1, 'seed': 12359}\n",
      "\n",
      "score: 0.735280 => param = {'objective': 'binary:logistic', 'eval_metric': 'error', 'scale_pos_weight': 2.001583949313622, 'max_depth': 3, 'n_estimators': 800, 'learning_rate': 0.024692888614707937, 'colsample_bytree': 0.6976103743391576, 'subsample': 0.7999999999999999, 'reg_lambda': 31, 'min_child_weight': 9, 'n_jobs': -1, 'seed': 12359}\n",
      "\n",
      "score: 0.717370 => param = {'objective': 'binary:logistic', 'eval_metric': 'error', 'scale_pos_weight': 2.001583949313622, 'max_depth': 8, 'n_estimators': 1300, 'learning_rate': 0.0007037021846400329, 'colsample_bytree': 0.8678533369088064, 'subsample': 0.85, 'reg_lambda': 61, 'min_child_weight': 9, 'n_jobs': -1, 'seed': 12359}\n",
      "\n",
      "score: 0.732880 => param = {'objective': 'binary:logistic', 'eval_metric': 'error', 'scale_pos_weight': 2.001583949313622, 'max_depth': 5, 'n_estimators': 500, 'learning_rate': 0.07388810668834392, 'colsample_bytree': 0.624531486424559, 'subsample': 0.95, 'reg_lambda': 41, 'min_child_weight': 10, 'n_jobs': -1, 'seed': 12359}\n",
      "\n",
      "score: 0.739580 => param = {'objective': 'binary:logistic', 'eval_metric': 'error', 'scale_pos_weight': 2.001583949313622, 'max_depth': 7, 'n_estimators': 500, 'learning_rate': 0.022622587084418333, 'colsample_bytree': 0.8221357212510154, 'subsample': 0.7999999999999999, 'reg_lambda': 61, 'min_child_weight': 7, 'n_jobs': -1, 'seed': 12359}\n",
      "\n",
      "score: 0.738800 => param = {'objective': 'binary:logistic', 'eval_metric': 'error', 'scale_pos_weight': 2.001583949313622, 'max_depth': 7, 'n_estimators': 200, 'learning_rate': 0.04848999162715016, 'colsample_bytree': 0.7454548829901727, 'subsample': 1.0, 'reg_lambda': 51, 'min_child_weight': 10, 'n_jobs': -1, 'seed': 12359}\n",
      "\n",
      "score: 0.720300 => param = {'objective': 'binary:logistic', 'eval_metric': 'error', 'scale_pos_weight': 2.001583949313622, 'max_depth': 8, 'n_estimators': 200, 'learning_rate': 0.010302361429195788, 'colsample_bytree': 0.9282370250657931, 'subsample': 0.75, 'reg_lambda': 71, 'min_child_weight': 10, 'n_jobs': -1, 'seed': 12359}\n",
      "\n",
      "score: 0.738630 => param = {'objective': 'binary:logistic', 'eval_metric': 'error', 'scale_pos_weight': 2.001583949313622, 'max_depth': 7, 'n_estimators': 100, 'learning_rate': 0.07433205973625567, 'colsample_bytree': 0.8334355240092944, 'subsample': 0.8999999999999999, 'reg_lambda': 41, 'min_child_weight': 10, 'n_jobs': -1, 'seed': 12359}\n",
      "\n",
      "score: 0.738070 => param = {'objective': 'binary:logistic', 'eval_metric': 'error', 'scale_pos_weight': 2.001583949313622, 'max_depth': 6, 'n_estimators': 300, 'learning_rate': 0.05924894109929573, 'colsample_bytree': 0.7781618782345293, 'subsample': 1.0, 'reg_lambda': 31, 'min_child_weight': 10, 'n_jobs': -1, 'seed': 12359}\n",
      "\n",
      "score: 0.734790 => param = {'objective': 'binary:logistic', 'eval_metric': 'error', 'scale_pos_weight': 2.001583949313622, 'max_depth': 8, 'n_estimators': 600, 'learning_rate': 0.04602737035927835, 'colsample_bytree': 0.8026484923532466, 'subsample': 0.75, 'reg_lambda': 71, 'min_child_weight': 5, 'n_jobs': -1, 'seed': 12359}\n",
      "\n",
      "score: 0.739550 => param = {'objective': 'binary:logistic', 'eval_metric': 'error', 'scale_pos_weight': 2.001583949313622, 'max_depth': 6, 'n_estimators': 200, 'learning_rate': 0.06882990667770328, 'colsample_bytree': 0.8495188118767014, 'subsample': 0.85, 'reg_lambda': 51, 'min_child_weight': 9, 'n_jobs': -1, 'seed': 12359}\n",
      "\n",
      "score: 0.740620 => param = {'objective': 'binary:logistic', 'eval_metric': 'error', 'scale_pos_weight': 2.001583949313622, 'max_depth': 6, 'n_estimators': 300, 'learning_rate': 0.041081432775325694, 'colsample_bytree': 0.9087342634354817, 'subsample': 0.85, 'reg_lambda': 31, 'min_child_weight': 10, 'n_jobs': -1, 'seed': 12359}\n",
      "\n",
      "score: 0.736680 => param = {'objective': 'binary:logistic', 'eval_metric': 'error', 'scale_pos_weight': 2.001583949313622, 'max_depth': 7, 'n_estimators': 200, 'learning_rate': 0.04432215248397155, 'colsample_bytree': 0.9798968532311095, 'subsample': 0.8999999999999999, 'reg_lambda': 41, 'min_child_weight': 9, 'n_jobs': -1, 'seed': 12359}\n",
      "\n",
      "score: 0.737110 => param = {'objective': 'binary:logistic', 'eval_metric': 'error', 'scale_pos_weight': 2.001583949313622, 'max_depth': 5, 'n_estimators': 400, 'learning_rate': 0.03462559487467162, 'colsample_bytree': 0.863476179480584, 'subsample': 0.7999999999999999, 'reg_lambda': 51, 'min_child_weight': 10, 'n_jobs': -1, 'seed': 12359}\n",
      "\n",
      "score: 0.729960 => param = {'objective': 'binary:logistic', 'eval_metric': 'error', 'scale_pos_weight': 2.001583949313622, 'max_depth': 4, 'n_estimators': 300, 'learning_rate': 0.01937588766441828, 'colsample_bytree': 0.9060208989150643, 'subsample': 0.85, 'reg_lambda': 11, 'min_child_weight': 10, 'n_jobs': -1, 'seed': 12359}\n",
      "\n"
     ]
    },
    {
     "name": "stdout",
     "output_type": "stream",
     "text": [
      "score: 0.738080 => param = {'objective': 'binary:logistic', 'eval_metric': 'error', 'scale_pos_weight': 2.001583949313622, 'max_depth': 5, 'n_estimators': 300, 'learning_rate': 0.0578021615208021, 'colsample_bytree': 0.881672545745164, 'subsample': 0.85, 'reg_lambda': 31, 'min_child_weight': 6, 'n_jobs': -1, 'seed': 12359}\n",
      "\n",
      "score: 0.719840 => param = {'objective': 'binary:logistic', 'eval_metric': 'error', 'scale_pos_weight': 2.001583949313622, 'max_depth': 7, 'n_estimators': 100, 'learning_rate': 0.009145358039874638, 'colsample_bytree': 0.7831910452005604, 'subsample': 1.0, 'reg_lambda': 41, 'min_child_weight': 10, 'n_jobs': -1, 'seed': 12359}\n",
      "\n",
      "score: 0.736690 => param = {'objective': 'binary:logistic', 'eval_metric': 'error', 'scale_pos_weight': 2.001583949313622, 'max_depth': 8, 'n_estimators': 600, 'learning_rate': 0.03726751928995349, 'colsample_bytree': 0.8578600385638624, 'subsample': 0.8999999999999999, 'reg_lambda': 51, 'min_child_weight': 7, 'n_jobs': -1, 'seed': 12359}\n",
      "\n",
      "score: 0.717790 => param = {'objective': 'binary:logistic', 'eval_metric': 'error', 'scale_pos_weight': 2.001583949313622, 'max_depth': 7, 'n_estimators': 100, 'learning_rate': 0.008846127435849421, 'colsample_bytree': 0.8432753964269883, 'subsample': 0.7999999999999999, 'reg_lambda': 51, 'min_child_weight': 7, 'n_jobs': -1, 'seed': 12359}\n",
      "\n",
      "score: 0.737450 => param = {'objective': 'binary:logistic', 'eval_metric': 'error', 'scale_pos_weight': 2.001583949313622, 'max_depth': 7, 'n_estimators': 500, 'learning_rate': 0.039969541629619805, 'colsample_bytree': 0.7843793015773883, 'subsample': 1.0, 'reg_lambda': 61, 'min_child_weight': 8, 'n_jobs': -1, 'seed': 12359}\n",
      "\n",
      "score: 0.737630 => param = {'objective': 'binary:logistic', 'eval_metric': 'error', 'scale_pos_weight': 2.001583949313622, 'max_depth': 7, 'n_estimators': 400, 'learning_rate': 0.023988508018904085, 'colsample_bytree': 0.8067127594757116, 'subsample': 0.85, 'reg_lambda': 71, 'min_child_weight': 6, 'n_jobs': -1, 'seed': 12359}\n",
      "\n",
      "score: 0.737460 => param = {'objective': 'binary:logistic', 'eval_metric': 'error', 'scale_pos_weight': 2.001583949313622, 'max_depth': 6, 'n_estimators': 200, 'learning_rate': 0.08411204567725405, 'colsample_bytree': 0.8066406297635833, 'subsample': 0.85, 'reg_lambda': 21, 'min_child_weight': 9, 'n_jobs': -1, 'seed': 12359}\n",
      "\n",
      "score: 0.735310 => param = {'objective': 'binary:logistic', 'eval_metric': 'error', 'scale_pos_weight': 2.001583949313622, 'max_depth': 7, 'n_estimators': 100, 'learning_rate': 0.06619267526143635, 'colsample_bytree': 0.840183414348794, 'subsample': 0.7999999999999999, 'reg_lambda': 51, 'min_child_weight': 9, 'n_jobs': -1, 'seed': 12359}\n",
      "\n",
      "score: 0.737050 => param = {'objective': 'binary:logistic', 'eval_metric': 'error', 'scale_pos_weight': 2.001583949313622, 'max_depth': 7, 'n_estimators': 200, 'learning_rate': 0.06222726253180632, 'colsample_bytree': 0.7376187296530563, 'subsample': 0.85, 'reg_lambda': 51, 'min_child_weight': 9, 'n_jobs': -1, 'seed': 12359}\n",
      "\n",
      "score: 0.739220 => param = {'objective': 'binary:logistic', 'eval_metric': 'error', 'scale_pos_weight': 2.001583949313622, 'max_depth': 8, 'n_estimators': 100, 'learning_rate': 0.09431656240255366, 'colsample_bytree': 0.880209807436704, 'subsample': 0.95, 'reg_lambda': 51, 'min_child_weight': 7, 'n_jobs': -1, 'seed': 12359}\n",
      "\n",
      "score: 0.728800 => param = {'objective': 'binary:logistic', 'eval_metric': 'error', 'scale_pos_weight': 2.001583949313622, 'max_depth': 7, 'n_estimators': 100, 'learning_rate': 0.03405390655914106, 'colsample_bytree': 0.9020480090778498, 'subsample': 0.85, 'reg_lambda': 21, 'min_child_weight': 10, 'n_jobs': -1, 'seed': 12359}\n",
      "\n",
      "score: 0.737020 => param = {'objective': 'binary:logistic', 'eval_metric': 'error', 'scale_pos_weight': 2.001583949313622, 'max_depth': 7, 'n_estimators': 300, 'learning_rate': 0.06531423197092213, 'colsample_bytree': 0.8427557771861603, 'subsample': 0.95, 'reg_lambda': 61, 'min_child_weight': 6, 'n_jobs': -1, 'seed': 12359}\n",
      "\n",
      "score: 0.729810 => param = {'objective': 'binary:logistic', 'eval_metric': 'error', 'scale_pos_weight': 2.001583949313622, 'max_depth': 7, 'n_estimators': 100, 'learning_rate': 0.03973022926529115, 'colsample_bytree': 0.6555460761347784, 'subsample': 1.0, 'reg_lambda': 61, 'min_child_weight': 10, 'n_jobs': -1, 'seed': 12359}\n",
      "\n",
      "score: 0.734020 => param = {'objective': 'binary:logistic', 'eval_metric': 'error', 'scale_pos_weight': 2.001583949313622, 'max_depth': 6, 'n_estimators': 100, 'learning_rate': 0.08744536556971481, 'colsample_bytree': 0.9427803162528566, 'subsample': 1.0, 'reg_lambda': 61, 'min_child_weight': 7, 'n_jobs': -1, 'seed': 12359}\n",
      "\n",
      "score: 0.738180 => param = {'objective': 'binary:logistic', 'eval_metric': 'error', 'scale_pos_weight': 2.001583949313622, 'max_depth': 8, 'n_estimators': 100, 'learning_rate': 0.09879951365023681, 'colsample_bytree': 0.7971910072740888, 'subsample': 0.95, 'reg_lambda': 61, 'min_child_weight': 6, 'n_jobs': -1, 'seed': 12359}\n",
      "\n",
      "score: 0.734050 => param = {'objective': 'binary:logistic', 'eval_metric': 'error', 'scale_pos_weight': 2.001583949313622, 'max_depth': 9, 'n_estimators': 400, 'learning_rate': 0.09242225030207558, 'colsample_bytree': 0.9687511015893513, 'subsample': 0.85, 'reg_lambda': 81, 'min_child_weight': 7, 'n_jobs': -1, 'seed': 12359}\n",
      "\n",
      "score: 0.737760 => param = {'objective': 'binary:logistic', 'eval_metric': 'error', 'scale_pos_weight': 2.001583949313622, 'max_depth': 7, 'n_estimators': 200, 'learning_rate': 0.08357025343533526, 'colsample_bytree': 0.8486163061564798, 'subsample': 0.8999999999999999, 'reg_lambda': 61, 'min_child_weight': 10, 'n_jobs': -1, 'seed': 12359}\n",
      "\n",
      "score: 0.737670 => param = {'objective': 'binary:logistic', 'eval_metric': 'error', 'scale_pos_weight': 2.001583949313622, 'max_depth': 8, 'n_estimators': 800, 'learning_rate': 0.016048191473543326, 'colsample_bytree': 0.8845956907378608, 'subsample': 0.7999999999999999, 'reg_lambda': 61, 'min_child_weight': 9, 'n_jobs': -1, 'seed': 12359}\n",
      "\n",
      "score: 0.736420 => param = {'objective': 'binary:logistic', 'eval_metric': 'error', 'scale_pos_weight': 2.001583949313622, 'max_depth': 7, 'n_estimators': 100, 'learning_rate': 0.06375284136666776, 'colsample_bytree': 0.8566506488704101, 'subsample': 0.8999999999999999, 'reg_lambda': 51, 'min_child_weight': 9, 'n_jobs': -1, 'seed': 12359}\n",
      "\n",
      "score: 0.736820 => param = {'objective': 'binary:logistic', 'eval_metric': 'error', 'scale_pos_weight': 2.001583949313622, 'max_depth': 5, 'n_estimators': 200, 'learning_rate': 0.0629012212221286, 'colsample_bytree': 0.9278113892274569, 'subsample': 0.85, 'reg_lambda': 51, 'min_child_weight': 10, 'n_jobs': -1, 'seed': 12359}\n",
      "\n",
      "score: 0.726920 => param = {'objective': 'binary:logistic', 'eval_metric': 'error', 'scale_pos_weight': 2.001583949313622, 'max_depth': 5, 'n_estimators': 400, 'learning_rate': 0.06404775051040908, 'colsample_bytree': 0.9893109529334527, 'subsample': 0.7999999999999999, 'reg_lambda': 1, 'min_child_weight': 10, 'n_jobs': -1, 'seed': 12359}\n",
      "\n",
      "score: 0.724680 => param = {'objective': 'binary:logistic', 'eval_metric': 'error', 'scale_pos_weight': 2.001583949313622, 'max_depth': 8, 'n_estimators': 300, 'learning_rate': 0.09301933841416292, 'colsample_bytree': 0.8833951583403191, 'subsample': 0.95, 'reg_lambda': 31, 'min_child_weight': 8, 'n_jobs': -1, 'seed': 12359}\n",
      "\n",
      "score: 0.735270 => param = {'objective': 'binary:logistic', 'eval_metric': 'error', 'scale_pos_weight': 2.001583949313622, 'max_depth': 4, 'n_estimators': 800, 'learning_rate': 0.0309539441709077, 'colsample_bytree': 0.7416312446413494, 'subsample': 1.0, 'reg_lambda': 31, 'min_child_weight': 10, 'n_jobs': -1, 'seed': 12359}\n",
      "\n",
      "score: 0.737290 => param = {'objective': 'binary:logistic', 'eval_metric': 'error', 'scale_pos_weight': 2.001583949313622, 'max_depth': 10, 'n_estimators': 100, 'learning_rate': 0.09926806012277983, 'colsample_bytree': 0.8542030598182102, 'subsample': 1.0, 'reg_lambda': 41, 'min_child_weight': 7, 'n_jobs': -1, 'seed': 12359}\n",
      "\n",
      "score: 0.721280 => param = {'objective': 'binary:logistic', 'eval_metric': 'error', 'scale_pos_weight': 2.001583949313622, 'max_depth': 6, 'n_estimators': 700, 'learning_rate': 0.07697190566396911, 'colsample_bytree': 0.8750360482926371, 'subsample': 0.7999999999999999, 'reg_lambda': 41, 'min_child_weight': 9, 'n_jobs': -1, 'seed': 12359}\n",
      "\n",
      "\n",
      "--------------------------------------------------------------------------------------------------------------\n",
      "Best score: 0.74062\n",
      "Seed      : 12359\n",
      "Parameters:\n",
      "\n",
      "{'objective': 'binary:logistic', 'eval_metric': 'error', 'scale_pos_weight': 2.001583949313622, 'max_depth': 6, 'n_estimators': 300, 'learning_rate': 0.041081432775325694, 'colsample_bytree': 0.9087342634354817, 'subsample': 0.85, 'reg_lambda': 31, 'min_child_weight': 10, 'n_jobs': -1, 'seed': 12359}\n",
      "\n",
      "CPU times: total: 2h 57min 38s\n",
      "Wall time: 24min 24s\n"
     ]
    }
   ],
   "source": [
    "%%time\n",
    "n_trials_  = 100\n",
    "name_clf   = 'xgb'\n",
    "name_model = '{}_001_turning'.format(name_clf) \n",
    "\n",
    "TunningModels.delete_files(name_model)\n",
    "    \n",
    "modelOpt = TunningModels(name_model_     = name_model, \n",
    "                         X_trn_          = X, \n",
    "                         y_trn_          = y, \n",
    "                         X_ts_           = X_test,   \n",
    "                         seed_           = seed, \n",
    "                         target_         = target, \n",
    "                         path_           = path, \n",
    "                         n_splits_       = 10,\n",
    "                         level_          = '1')\n",
    "\n",
    "pruner = LastPlacePruner(warmup_steps  = 1, warmup_trials=5)\n",
    "\n",
    "study_xgb  = optuna.create_study(direction  = 'maximize',\n",
    "                                 sampler    = optuna.samplers.TPESampler(multivariate=True, seed=seed),\n",
    "                                 pruner     = optuna.pruners.MedianPruner(n_warmup_steps=10),\n",
    "                                 study_name = 'xgb_turning')\n",
    "\n",
    "study_xgb.optimize(modelOpt.xgb, n_trials=n_trials_)\n",
    "\n",
    "score_seed         = study_xgb.best_value \n",
    "params             = study_xgb.best_params \n",
    "path_name          = path + 'model/optuna/' + name_model + '_{:2.5f}.pkl.z'.format(score_seed)   \n",
    "scare_best         = score_seed \n",
    "params_xgb_turning = params\n",
    "\n",
    "print()\n",
    "print('-'*110)\n",
    "print('Best score: {:2.5f}'.format(scare_best))\n",
    "print('Seed      : {}'.format(seed))\n",
    "print('Parameters:\\n\\n{}'.format(params_xgb_turning))\n",
    "print()"
   ]
  },
  {
   "cell_type": "markdown",
   "id": "2b0d38c8",
   "metadata": {},
   "source": [
    "### 4.2.1. Treinar o modelo com os parametros "
   ]
  },
  {
   "cell_type": "code",
   "execution_count": 737,
   "id": "c8f0e5cf",
   "metadata": {
    "ExecuteTime": {
     "end_time": "2022-12-22T01:05:18.399692Z",
     "start_time": "2022-12-22T01:04:52.344004Z"
    }
   },
   "outputs": [
    {
     "name": "stdout",
     "output_type": "stream",
     "text": [
      "\n",
      "=> XGB-1\n",
      "==========================================================================================\n",
      "Fold 1 => F1-score: 0.75057 - F1-Train: 0.76188 - AUC:0.82334 - L.Loss: 0.41562 - 0h 0m 0s\n",
      "Fold 2 => F1-score: 0.71202 - F1-Train: 0.76475 - AUC:0.78915 - L.Loss: 0.45776 - 0h 0m 0s\n",
      "Fold 3 => F1-score: 0.73182 - F1-Train: 0.76100 - AUC:0.80627 - L.Loss: 0.43163 - 0h 0m 0s\n",
      "Fold 4 => F1-score: 0.75168 - F1-Train: 0.75980 - AUC:0.82469 - L.Loss: 0.41406 - 0h 0m 0s\n",
      "Fold 5 => F1-score: 0.76233 - F1-Train: 0.75711 - AUC:0.83391 - L.Loss: 0.40261 - 0h 0m 0s\n",
      "Fold 6 => F1-score: 0.72210 - F1-Train: 0.76373 - AUC:0.80062 - L.Loss: 0.44154 - 0h 0m 0s\n",
      "Fold 7 => F1-score: 0.75576 - F1-Train: 0.75947 - AUC:0.82700 - L.Loss: 0.39642 - 0h 0m 0s\n",
      "Fold 8 => F1-score: 0.72088 - F1-Train: 0.76465 - AUC:0.79930 - L.Loss: 0.44400 - 0h 0m 0s\n",
      "Fold 9 => F1-score: 0.73585 - F1-Train: 0.76377 - AUC:0.80848 - L.Loss: 0.41375 - 0h 0m 0s\n",
      "Fold 10 => F1-score: 0.76322 - F1-Train: 0.75739 - AUC:0.83361 - L.Loss: 0.39659 - 0h 0m 0s\n",
      "------------------------------------------------------------------------------------------\n",
      "\u001b[32m\u001b[1m[Mean] => F1-score: 0.74062 - F1-Train: 0.76135 - L.Loss: 0.42140 - 0h 0m 8s\u001b[0m\n",
      "==========================================================================================\n",
      "\n",
      "              precision    recall  f1-score   support\n",
      "\n",
      "           0       0.92      0.77      0.84      3791\n",
      "           1       0.65      0.86      0.74      1894\n",
      "\n",
      "    accuracy                           0.80      5685\n",
      "   macro avg       0.78      0.81      0.79      5685\n",
      "weighted avg       0.83      0.80      0.80      5685\n",
      "\n",
      "[[2904  887]\n",
      " [ 259 1635]]\n",
      "\n",
      "=> XGB-2\n",
      "==========================================================================================\n",
      "Fold 1 => F1-score: 0.73708 - F1-Train: 0.74826 - AUC:0.81281 - L.Loss: 0.42840 - 0h 0m 1s\n",
      "Fold 2 => F1-score: 0.71429 - F1-Train: 0.74900 - AUC:0.79177 - L.Loss: 0.45842 - 0h 0m 1s\n",
      "Fold 3 => F1-score: 0.72036 - F1-Train: 0.74764 - AUC:0.79704 - L.Loss: 0.43442 - 0h 0m 1s\n",
      "Fold 4 => F1-score: 0.74041 - F1-Train: 0.74596 - AUC:0.81416 - L.Loss: 0.41867 - 0h 0m 1s\n",
      "Fold 5 => F1-score: 0.74725 - F1-Train: 0.74962 - AUC:0.82204 - L.Loss: 0.41376 - 0h 0m 1s\n",
      "Fold 6 => F1-score: 0.70435 - F1-Train: 0.74819 - AUC:0.78477 - L.Loss: 0.45021 - 0h 0m 1s\n",
      "Fold 7 => F1-score: 0.75973 - F1-Train: 0.74510 - AUC:0.83097 - L.Loss: 0.39840 - 0h 0m 1s\n",
      "Fold 8 => F1-score: 0.70742 - F1-Train: 0.74728 - AUC:0.78741 - L.Loss: 0.45561 - 0h 0m 1s\n",
      "Fold 9 => F1-score: 0.72603 - F1-Train: 0.74857 - AUC:0.80190 - L.Loss: 0.42328 - 0h 0m 1s\n",
      "Fold 10 => F1-score: 0.76322 - F1-Train: 0.74862 - AUC:0.83361 - L.Loss: 0.40620 - 0h 0m 1s\n",
      "------------------------------------------------------------------------------------------\n",
      "\u001b[32m\u001b[1m[Mean] => F1-score: 0.73201 - F1-Train: 0.74783 - L.Loss: 0.42874 - 0h 0m 16s\u001b[0m\n",
      "==========================================================================================\n",
      "\n",
      "              precision    recall  f1-score   support\n",
      "\n",
      "           0       0.92      0.75      0.83      3791\n",
      "           1       0.64      0.86      0.73      1894\n",
      "\n",
      "    accuracy                           0.79      5685\n",
      "   macro avg       0.78      0.81      0.78      5685\n",
      "weighted avg       0.82      0.79      0.79      5685\n",
      "\n",
      "[[2853  938]\n",
      " [ 260 1634]]\n"
     ]
    },
    {
     "data": {
      "text/html": [
       "<div>\n",
       "<style scoped>\n",
       "    .dataframe tbody tr th:only-of-type {\n",
       "        vertical-align: middle;\n",
       "    }\n",
       "\n",
       "    .dataframe tbody tr th {\n",
       "        vertical-align: top;\n",
       "    }\n",
       "\n",
       "    .dataframe thead th {\n",
       "        text-align: right;\n",
       "    }\n",
       "</style>\n",
       "<table border=\"1\" class=\"dataframe\">\n",
       "  <thead>\n",
       "    <tr style=\"text-align: right;\">\n",
       "      <th></th>\n",
       "      <th>score</th>\n",
       "    </tr>\n",
       "  </thead>\n",
       "  <tbody>\n",
       "    <tr>\n",
       "      <th>XGB-1</th>\n",
       "      <td>0.74062</td>\n",
       "    </tr>\n",
       "    <tr>\n",
       "      <th>XGB-2</th>\n",
       "      <td>0.73201</td>\n",
       "    </tr>\n",
       "  </tbody>\n",
       "</table>\n",
       "</div>"
      ],
      "text/plain": [
       "         score\n",
       "XGB-1  0.74062\n",
       "XGB-2  0.73201"
      ]
     },
     "metadata": {},
     "output_type": "display_data"
    },
    {
     "name": "stdout",
     "output_type": "stream",
     "text": [
      "\n",
      "CPU times: total: 3min 4s\n",
      "Wall time: 26 s\n"
     ]
    }
   ],
   "source": [
    "%%time \n",
    "\n",
    "pipeline_processor_turning = Pipeline(steps=[\n",
    "    ('processor', processor),   \n",
    "     variancethreshold, \n",
    "     selectpercentile, \n",
    "     scaler])\n",
    "\n",
    "if torch.cuda.is_available():           \n",
    "    params_xgb_turning.update({'tree_method': 'gpu_hist','predictor': 'gpu_predictor'})\n",
    "\n",
    "# Classificadores\n",
    "model_xgb_turning  = xgb.XGBClassifier(**params_xgb_turning)\n",
    "\n",
    "pipeline_xgb_turning = Pipeline(steps=[('processor', pipeline_processor_turning), ('model', model_xgb_turning)])\n",
    "\n",
    "models = [('XGB-1', pipeline_xgb_turning, 1, 'xgb_tun_07_pp', pipeline_xgb_turning, 15), \n",
    "          ('XGB-2', model_xgb, 4, 'xgb_tun_08_pp', pipeline_processor_turning, 15)\n",
    "         ]\n",
    "    \n",
    "mdl_list_fit, df_pred_tr, df_pred_ts, df_score_mdl, score = \\\n",
    "    model_cv_fit(models_       = models, \n",
    "                 X_            = X,\n",
    "                 y_            = y, \n",
    "                 X_test_       = X_test,                  \n",
    "                 path_         = path, \n",
    "                 seed_         = seed,\n",
    "                 target_       = target,\n",
    "                 create_sub_   = True, \n",
    "                 n_splits_     = 10,\n",
    "                 print_report_ = True\n",
    "                )\n",
    "\n",
    "# F1-score: 0.73363 - F1-Train: 0.75822 - L.Loss: 0.42552 - 0h 0m 28s\n",
    "# F1-score: 0.73972 - F1-Train: 0.75625 - L.Loss: 0.42272 - 0h 0m 19s\n",
    "# F1-score: 0.73995 - F1-Train: 0.76116 - L.Loss: 0.42110 - 0h 0m 14s"
   ]
  },
  {
   "cell_type": "markdown",
   "id": "359c31fe",
   "metadata": {},
   "source": [
    "<div class=\"alert alert-block alert-info\" style=\"border-radius:15px\">\n",
    "<p style=\"color: black; font-family: Arial Black\">NOTA:</p>\n",
    "\n",
    "</div>"
   ]
  },
  {
   "cell_type": "markdown",
   "id": "f9b30b69",
   "metadata": {},
   "source": [
    "### 4.4.2. Análise do turning "
   ]
  },
  {
   "cell_type": "markdown",
   "id": "42d268bb",
   "metadata": {
    "heading_collapsed": true
   },
   "source": [
    "#### 4.4.2.1. Visualizações de dados (Análise )\n",
    "\n",
    "Nesta seção, exploraremos várias visualizações disponíveis no Optuna que podem nos ajudar a tomar melhores decisões. Ele nos fornece vários hiperparâmetros e seu impacto no desempenho do modelo.\n",
    "\n",
    "Começaremos verificando se o suporte à visualização está disponível ou não usando a função is_available() . Ele verifica se as versões apropriadas de plotly e matplotlib estão disponíveis ou não para criar visualizações.\n",
    "\n",
    "\n",
    "- https://coderzcolumn.com/tutorials/machine-learning/simple-guide-to-optuna-for-hyperparameters-optimization-tuning"
   ]
  },
  {
   "cell_type": "markdown",
   "id": "fdf2c0f3",
   "metadata": {},
   "source": [
    "#### 4.4.2.2. Gráfico do Histórico de Otimização \n",
    "\n",
    "O primeiro gráfico que apresentaremos é o gráfico do histórico de otimização. Ele plota o número de tentativas que tentamos para encontrar a melhor combinação de hiperparâmetros no eixo Y e um valor objetivo que obtivemos para cada tentativa no eixo Y.\n",
    "\n",
    "Podemos usar este gráfico para verificar se a otimização de hiperparâmetros está indo na direção certa ou não.\n",
    "\n",
    "Abaixo, plotamos o gráfico do histórico de otimização usando o objeto de estudo que criamos na seção perceptron multicamadas. Podemos observar na saída que o valor de MSE está diminuindo com o aumento das tentativas. Isso confirma que a Optuna estava procurando uma combinação de hiperparâmetros na direção certa."
   ]
  },
  {
   "cell_type": "code",
   "execution_count": 915,
   "id": "c1ed4d8d",
   "metadata": {
    "ExecuteTime": {
     "end_time": "2022-12-22T04:04:31.673051Z",
     "start_time": "2022-12-22T04:04:31.627011Z"
    }
   },
   "outputs": [
    {
     "data": {
      "application/vnd.plotly.v1+json": {
       "config": {
        "plotlyServerURL": "https://plot.ly"
       },
       "data": [
        {
         "mode": "markers",
         "name": "F1-score",
         "type": "scatter",
         "x": [
          0,
          1,
          2,
          3,
          4,
          5,
          6,
          7,
          8,
          9,
          10,
          11,
          12,
          13,
          14,
          15,
          16,
          17,
          18,
          19,
          20,
          21,
          22,
          23,
          24,
          25,
          26,
          27,
          28,
          29,
          30,
          31,
          32,
          33,
          34,
          35,
          36,
          37,
          38,
          39,
          40,
          41,
          42,
          43,
          44,
          45,
          46,
          47,
          48,
          49,
          50,
          51,
          52,
          53,
          54,
          55,
          56,
          57,
          58,
          59,
          60,
          61,
          62,
          63,
          64,
          65,
          66,
          67,
          68,
          69,
          70,
          71,
          72,
          73,
          74,
          75,
          76,
          77,
          78,
          79,
          80,
          81,
          82,
          83,
          84,
          85,
          86,
          87,
          88,
          89,
          90,
          91,
          92,
          93,
          94,
          95,
          96,
          97,
          98,
          99,
          101,
          102,
          103,
          104,
          105,
          106,
          107,
          108,
          109,
          110,
          111,
          112,
          113,
          114,
          115,
          116,
          117,
          118
         ],
         "y": [
          0.73224,
          0.71933,
          0.73688,
          0.73594,
          0.728,
          0.68933,
          0.70914,
          0.71962,
          0.7368,
          0.717,
          0.73323,
          0.71993,
          0.73359,
          0.73779,
          0.73854,
          0.73565,
          0.71329,
          0.72339,
          0.73552,
          0.72085,
          0.73686,
          0.7347,
          0.72874,
          0.73854,
          0.71555,
          0.7243,
          0.73753,
          0.73377,
          0.73209,
          0.73781,
          0.72491,
          0.73837,
          0.73853,
          0.73193,
          0.73911,
          0.73814,
          0.72193,
          0.71094,
          0.73644,
          0.72725,
          0.71977,
          0.73297,
          0.7209,
          0.7348,
          0.73183,
          0.74043,
          0.72118,
          0.71824,
          0.7338,
          0.7396,
          0.73902,
          0.73376,
          0.7371,
          0.73643,
          0.72546,
          0.73709,
          0.73473,
          0.73631,
          0.72134,
          0.73556,
          0.73495,
          0.73528,
          0.71737,
          0.73288,
          0.73958,
          0.7388,
          0.7203,
          0.73863,
          0.73807,
          0.73479,
          0.73955,
          0.74062,
          0.73668,
          0.73711,
          0.72996,
          0.73808,
          0.71984,
          0.73669,
          0.71779,
          0.73745,
          0.73763,
          0.73746,
          0.73531,
          0.73705,
          0.73922,
          0.7288,
          0.73702,
          0.72981,
          0.73402,
          0.73818,
          0.73405,
          0.73776,
          0.73767,
          0.73642,
          0.73682,
          0.72692,
          0.72468,
          0.73527,
          0.73729,
          0.72128,
          0.73721,
          0.73511,
          0.73007,
          0.73007,
          0.73007,
          0.73007,
          0.73007,
          0.73007,
          0.73007,
          0.73007,
          0.73007,
          0.73007,
          0.73007,
          0.73007,
          0.73007,
          0.73007,
          0.73007,
          0.73007
         ]
        },
        {
         "name": "Best Value",
         "type": "scatter",
         "x": [
          0,
          1,
          2,
          3,
          4,
          5,
          6,
          7,
          8,
          9,
          10,
          11,
          12,
          13,
          14,
          15,
          16,
          17,
          18,
          19,
          20,
          21,
          22,
          23,
          24,
          25,
          26,
          27,
          28,
          29,
          30,
          31,
          32,
          33,
          34,
          35,
          36,
          37,
          38,
          39,
          40,
          41,
          42,
          43,
          44,
          45,
          46,
          47,
          48,
          49,
          50,
          51,
          52,
          53,
          54,
          55,
          56,
          57,
          58,
          59,
          60,
          61,
          62,
          63,
          64,
          65,
          66,
          67,
          68,
          69,
          70,
          71,
          72,
          73,
          74,
          75,
          76,
          77,
          78,
          79,
          80,
          81,
          82,
          83,
          84,
          85,
          86,
          87,
          88,
          89,
          90,
          91,
          92,
          93,
          94,
          95,
          96,
          97,
          98,
          99,
          101,
          102,
          103,
          104,
          105,
          106,
          107,
          108,
          109,
          110,
          111,
          112,
          113,
          114,
          115,
          116,
          117,
          118
         ],
         "y": [
          0.73224,
          0.73224,
          0.73688,
          0.73688,
          0.73688,
          0.73688,
          0.73688,
          0.73688,
          0.73688,
          0.73688,
          0.73688,
          0.73688,
          0.73688,
          0.73779,
          0.73854,
          0.73854,
          0.73854,
          0.73854,
          0.73854,
          0.73854,
          0.73854,
          0.73854,
          0.73854,
          0.73854,
          0.73854,
          0.73854,
          0.73854,
          0.73854,
          0.73854,
          0.73854,
          0.73854,
          0.73854,
          0.73854,
          0.73854,
          0.73911,
          0.73911,
          0.73911,
          0.73911,
          0.73911,
          0.73911,
          0.73911,
          0.73911,
          0.73911,
          0.73911,
          0.73911,
          0.74043,
          0.74043,
          0.74043,
          0.74043,
          0.74043,
          0.74043,
          0.74043,
          0.74043,
          0.74043,
          0.74043,
          0.74043,
          0.74043,
          0.74043,
          0.74043,
          0.74043,
          0.74043,
          0.74043,
          0.74043,
          0.74043,
          0.74043,
          0.74043,
          0.74043,
          0.74043,
          0.74043,
          0.74043,
          0.74043,
          0.74062,
          0.74062,
          0.74062,
          0.74062,
          0.74062,
          0.74062,
          0.74062,
          0.74062,
          0.74062,
          0.74062,
          0.74062,
          0.74062,
          0.74062,
          0.74062,
          0.74062,
          0.74062,
          0.74062,
          0.74062,
          0.74062,
          0.74062,
          0.74062,
          0.74062,
          0.74062,
          0.74062,
          0.74062,
          0.74062,
          0.74062,
          0.74062,
          0.74062,
          0.74062,
          0.74062,
          0.74062,
          0.74062,
          0.74062,
          0.74062,
          0.74062,
          0.74062,
          0.74062,
          0.74062,
          0.74062,
          0.74062,
          0.74062,
          0.74062,
          0.74062,
          0.74062,
          0.74062,
          0.74062
         ]
        }
       ],
       "layout": {
        "template": {
         "data": {
          "bar": [
           {
            "error_x": {
             "color": "#2a3f5f"
            },
            "error_y": {
             "color": "#2a3f5f"
            },
            "marker": {
             "line": {
              "color": "#E5ECF6",
              "width": 0.5
             },
             "pattern": {
              "fillmode": "overlay",
              "size": 10,
              "solidity": 0.2
             }
            },
            "type": "bar"
           }
          ],
          "barpolar": [
           {
            "marker": {
             "line": {
              "color": "#E5ECF6",
              "width": 0.5
             },
             "pattern": {
              "fillmode": "overlay",
              "size": 10,
              "solidity": 0.2
             }
            },
            "type": "barpolar"
           }
          ],
          "carpet": [
           {
            "aaxis": {
             "endlinecolor": "#2a3f5f",
             "gridcolor": "white",
             "linecolor": "white",
             "minorgridcolor": "white",
             "startlinecolor": "#2a3f5f"
            },
            "baxis": {
             "endlinecolor": "#2a3f5f",
             "gridcolor": "white",
             "linecolor": "white",
             "minorgridcolor": "white",
             "startlinecolor": "#2a3f5f"
            },
            "type": "carpet"
           }
          ],
          "choropleth": [
           {
            "colorbar": {
             "outlinewidth": 0,
             "ticks": ""
            },
            "type": "choropleth"
           }
          ],
          "contour": [
           {
            "colorbar": {
             "outlinewidth": 0,
             "ticks": ""
            },
            "colorscale": [
             [
              0,
              "#0d0887"
             ],
             [
              0.1111111111111111,
              "#46039f"
             ],
             [
              0.2222222222222222,
              "#7201a8"
             ],
             [
              0.3333333333333333,
              "#9c179e"
             ],
             [
              0.4444444444444444,
              "#bd3786"
             ],
             [
              0.5555555555555556,
              "#d8576b"
             ],
             [
              0.6666666666666666,
              "#ed7953"
             ],
             [
              0.7777777777777778,
              "#fb9f3a"
             ],
             [
              0.8888888888888888,
              "#fdca26"
             ],
             [
              1,
              "#f0f921"
             ]
            ],
            "type": "contour"
           }
          ],
          "contourcarpet": [
           {
            "colorbar": {
             "outlinewidth": 0,
             "ticks": ""
            },
            "type": "contourcarpet"
           }
          ],
          "heatmap": [
           {
            "colorbar": {
             "outlinewidth": 0,
             "ticks": ""
            },
            "colorscale": [
             [
              0,
              "#0d0887"
             ],
             [
              0.1111111111111111,
              "#46039f"
             ],
             [
              0.2222222222222222,
              "#7201a8"
             ],
             [
              0.3333333333333333,
              "#9c179e"
             ],
             [
              0.4444444444444444,
              "#bd3786"
             ],
             [
              0.5555555555555556,
              "#d8576b"
             ],
             [
              0.6666666666666666,
              "#ed7953"
             ],
             [
              0.7777777777777778,
              "#fb9f3a"
             ],
             [
              0.8888888888888888,
              "#fdca26"
             ],
             [
              1,
              "#f0f921"
             ]
            ],
            "type": "heatmap"
           }
          ],
          "heatmapgl": [
           {
            "colorbar": {
             "outlinewidth": 0,
             "ticks": ""
            },
            "colorscale": [
             [
              0,
              "#0d0887"
             ],
             [
              0.1111111111111111,
              "#46039f"
             ],
             [
              0.2222222222222222,
              "#7201a8"
             ],
             [
              0.3333333333333333,
              "#9c179e"
             ],
             [
              0.4444444444444444,
              "#bd3786"
             ],
             [
              0.5555555555555556,
              "#d8576b"
             ],
             [
              0.6666666666666666,
              "#ed7953"
             ],
             [
              0.7777777777777778,
              "#fb9f3a"
             ],
             [
              0.8888888888888888,
              "#fdca26"
             ],
             [
              1,
              "#f0f921"
             ]
            ],
            "type": "heatmapgl"
           }
          ],
          "histogram": [
           {
            "marker": {
             "pattern": {
              "fillmode": "overlay",
              "size": 10,
              "solidity": 0.2
             }
            },
            "type": "histogram"
           }
          ],
          "histogram2d": [
           {
            "colorbar": {
             "outlinewidth": 0,
             "ticks": ""
            },
            "colorscale": [
             [
              0,
              "#0d0887"
             ],
             [
              0.1111111111111111,
              "#46039f"
             ],
             [
              0.2222222222222222,
              "#7201a8"
             ],
             [
              0.3333333333333333,
              "#9c179e"
             ],
             [
              0.4444444444444444,
              "#bd3786"
             ],
             [
              0.5555555555555556,
              "#d8576b"
             ],
             [
              0.6666666666666666,
              "#ed7953"
             ],
             [
              0.7777777777777778,
              "#fb9f3a"
             ],
             [
              0.8888888888888888,
              "#fdca26"
             ],
             [
              1,
              "#f0f921"
             ]
            ],
            "type": "histogram2d"
           }
          ],
          "histogram2dcontour": [
           {
            "colorbar": {
             "outlinewidth": 0,
             "ticks": ""
            },
            "colorscale": [
             [
              0,
              "#0d0887"
             ],
             [
              0.1111111111111111,
              "#46039f"
             ],
             [
              0.2222222222222222,
              "#7201a8"
             ],
             [
              0.3333333333333333,
              "#9c179e"
             ],
             [
              0.4444444444444444,
              "#bd3786"
             ],
             [
              0.5555555555555556,
              "#d8576b"
             ],
             [
              0.6666666666666666,
              "#ed7953"
             ],
             [
              0.7777777777777778,
              "#fb9f3a"
             ],
             [
              0.8888888888888888,
              "#fdca26"
             ],
             [
              1,
              "#f0f921"
             ]
            ],
            "type": "histogram2dcontour"
           }
          ],
          "mesh3d": [
           {
            "colorbar": {
             "outlinewidth": 0,
             "ticks": ""
            },
            "type": "mesh3d"
           }
          ],
          "parcoords": [
           {
            "line": {
             "colorbar": {
              "outlinewidth": 0,
              "ticks": ""
             }
            },
            "type": "parcoords"
           }
          ],
          "pie": [
           {
            "automargin": true,
            "type": "pie"
           }
          ],
          "scatter": [
           {
            "fillpattern": {
             "fillmode": "overlay",
             "size": 10,
             "solidity": 0.2
            },
            "type": "scatter"
           }
          ],
          "scatter3d": [
           {
            "line": {
             "colorbar": {
              "outlinewidth": 0,
              "ticks": ""
             }
            },
            "marker": {
             "colorbar": {
              "outlinewidth": 0,
              "ticks": ""
             }
            },
            "type": "scatter3d"
           }
          ],
          "scattercarpet": [
           {
            "marker": {
             "colorbar": {
              "outlinewidth": 0,
              "ticks": ""
             }
            },
            "type": "scattercarpet"
           }
          ],
          "scattergeo": [
           {
            "marker": {
             "colorbar": {
              "outlinewidth": 0,
              "ticks": ""
             }
            },
            "type": "scattergeo"
           }
          ],
          "scattergl": [
           {
            "marker": {
             "colorbar": {
              "outlinewidth": 0,
              "ticks": ""
             }
            },
            "type": "scattergl"
           }
          ],
          "scattermapbox": [
           {
            "marker": {
             "colorbar": {
              "outlinewidth": 0,
              "ticks": ""
             }
            },
            "type": "scattermapbox"
           }
          ],
          "scatterpolar": [
           {
            "marker": {
             "colorbar": {
              "outlinewidth": 0,
              "ticks": ""
             }
            },
            "type": "scatterpolar"
           }
          ],
          "scatterpolargl": [
           {
            "marker": {
             "colorbar": {
              "outlinewidth": 0,
              "ticks": ""
             }
            },
            "type": "scatterpolargl"
           }
          ],
          "scatterternary": [
           {
            "marker": {
             "colorbar": {
              "outlinewidth": 0,
              "ticks": ""
             }
            },
            "type": "scatterternary"
           }
          ],
          "surface": [
           {
            "colorbar": {
             "outlinewidth": 0,
             "ticks": ""
            },
            "colorscale": [
             [
              0,
              "#0d0887"
             ],
             [
              0.1111111111111111,
              "#46039f"
             ],
             [
              0.2222222222222222,
              "#7201a8"
             ],
             [
              0.3333333333333333,
              "#9c179e"
             ],
             [
              0.4444444444444444,
              "#bd3786"
             ],
             [
              0.5555555555555556,
              "#d8576b"
             ],
             [
              0.6666666666666666,
              "#ed7953"
             ],
             [
              0.7777777777777778,
              "#fb9f3a"
             ],
             [
              0.8888888888888888,
              "#fdca26"
             ],
             [
              1,
              "#f0f921"
             ]
            ],
            "type": "surface"
           }
          ],
          "table": [
           {
            "cells": {
             "fill": {
              "color": "#EBF0F8"
             },
             "line": {
              "color": "white"
             }
            },
            "header": {
             "fill": {
              "color": "#C8D4E3"
             },
             "line": {
              "color": "white"
             }
            },
            "type": "table"
           }
          ]
         },
         "layout": {
          "annotationdefaults": {
           "arrowcolor": "#2a3f5f",
           "arrowhead": 0,
           "arrowwidth": 1
          },
          "autotypenumbers": "strict",
          "coloraxis": {
           "colorbar": {
            "outlinewidth": 0,
            "ticks": ""
           }
          },
          "colorscale": {
           "diverging": [
            [
             0,
             "#8e0152"
            ],
            [
             0.1,
             "#c51b7d"
            ],
            [
             0.2,
             "#de77ae"
            ],
            [
             0.3,
             "#f1b6da"
            ],
            [
             0.4,
             "#fde0ef"
            ],
            [
             0.5,
             "#f7f7f7"
            ],
            [
             0.6,
             "#e6f5d0"
            ],
            [
             0.7,
             "#b8e186"
            ],
            [
             0.8,
             "#7fbc41"
            ],
            [
             0.9,
             "#4d9221"
            ],
            [
             1,
             "#276419"
            ]
           ],
           "sequential": [
            [
             0,
             "#0d0887"
            ],
            [
             0.1111111111111111,
             "#46039f"
            ],
            [
             0.2222222222222222,
             "#7201a8"
            ],
            [
             0.3333333333333333,
             "#9c179e"
            ],
            [
             0.4444444444444444,
             "#bd3786"
            ],
            [
             0.5555555555555556,
             "#d8576b"
            ],
            [
             0.6666666666666666,
             "#ed7953"
            ],
            [
             0.7777777777777778,
             "#fb9f3a"
            ],
            [
             0.8888888888888888,
             "#fdca26"
            ],
            [
             1,
             "#f0f921"
            ]
           ],
           "sequentialminus": [
            [
             0,
             "#0d0887"
            ],
            [
             0.1111111111111111,
             "#46039f"
            ],
            [
             0.2222222222222222,
             "#7201a8"
            ],
            [
             0.3333333333333333,
             "#9c179e"
            ],
            [
             0.4444444444444444,
             "#bd3786"
            ],
            [
             0.5555555555555556,
             "#d8576b"
            ],
            [
             0.6666666666666666,
             "#ed7953"
            ],
            [
             0.7777777777777778,
             "#fb9f3a"
            ],
            [
             0.8888888888888888,
             "#fdca26"
            ],
            [
             1,
             "#f0f921"
            ]
           ]
          },
          "colorway": [
           "#636efa",
           "#EF553B",
           "#00cc96",
           "#ab63fa",
           "#FFA15A",
           "#19d3f3",
           "#FF6692",
           "#B6E880",
           "#FF97FF",
           "#FECB52"
          ],
          "font": {
           "color": "#2a3f5f"
          },
          "geo": {
           "bgcolor": "white",
           "lakecolor": "white",
           "landcolor": "#E5ECF6",
           "showlakes": true,
           "showland": true,
           "subunitcolor": "white"
          },
          "hoverlabel": {
           "align": "left"
          },
          "hovermode": "closest",
          "mapbox": {
           "style": "light"
          },
          "paper_bgcolor": "white",
          "plot_bgcolor": "#E5ECF6",
          "polar": {
           "angularaxis": {
            "gridcolor": "white",
            "linecolor": "white",
            "ticks": ""
           },
           "bgcolor": "#E5ECF6",
           "radialaxis": {
            "gridcolor": "white",
            "linecolor": "white",
            "ticks": ""
           }
          },
          "scene": {
           "xaxis": {
            "backgroundcolor": "#E5ECF6",
            "gridcolor": "white",
            "gridwidth": 2,
            "linecolor": "white",
            "showbackground": true,
            "ticks": "",
            "zerolinecolor": "white"
           },
           "yaxis": {
            "backgroundcolor": "#E5ECF6",
            "gridcolor": "white",
            "gridwidth": 2,
            "linecolor": "white",
            "showbackground": true,
            "ticks": "",
            "zerolinecolor": "white"
           },
           "zaxis": {
            "backgroundcolor": "#E5ECF6",
            "gridcolor": "white",
            "gridwidth": 2,
            "linecolor": "white",
            "showbackground": true,
            "ticks": "",
            "zerolinecolor": "white"
           }
          },
          "shapedefaults": {
           "line": {
            "color": "#2a3f5f"
           }
          },
          "ternary": {
           "aaxis": {
            "gridcolor": "white",
            "linecolor": "white",
            "ticks": ""
           },
           "baxis": {
            "gridcolor": "white",
            "linecolor": "white",
            "ticks": ""
           },
           "bgcolor": "#E5ECF6",
           "caxis": {
            "gridcolor": "white",
            "linecolor": "white",
            "ticks": ""
           }
          },
          "title": {
           "x": 0.05
          },
          "xaxis": {
           "automargin": true,
           "gridcolor": "white",
           "linecolor": "white",
           "ticks": "",
           "title": {
            "standoff": 15
           },
           "zerolinecolor": "white",
           "zerolinewidth": 2
          },
          "yaxis": {
           "automargin": true,
           "gridcolor": "white",
           "linecolor": "white",
           "ticks": "",
           "title": {
            "standoff": 15
           },
           "zerolinecolor": "white",
           "zerolinewidth": 2
          }
         }
        },
        "title": {
         "text": "Optimization History Plot"
        },
        "xaxis": {
         "title": {
          "text": "Trial"
         }
        },
        "yaxis": {
         "title": {
          "text": "F1-score"
         }
        }
       }
      },
      "text/html": [
       "<div>                            <div id=\"2f0becf3-d179-4586-9561-a03e1c7332ed\" class=\"plotly-graph-div\" style=\"height:525px; width:100%;\"></div>            <script type=\"text/javascript\">                require([\"plotly\"], function(Plotly) {                    window.PLOTLYENV=window.PLOTLYENV || {};                                    if (document.getElementById(\"2f0becf3-d179-4586-9561-a03e1c7332ed\")) {                    Plotly.newPlot(                        \"2f0becf3-d179-4586-9561-a03e1c7332ed\",                        [{\"mode\":\"markers\",\"name\":\"F1-score\",\"x\":[0,1,2,3,4,5,6,7,8,9,10,11,12,13,14,15,16,17,18,19,20,21,22,23,24,25,26,27,28,29,30,31,32,33,34,35,36,37,38,39,40,41,42,43,44,45,46,47,48,49,50,51,52,53,54,55,56,57,58,59,60,61,62,63,64,65,66,67,68,69,70,71,72,73,74,75,76,77,78,79,80,81,82,83,84,85,86,87,88,89,90,91,92,93,94,95,96,97,98,99,101,102,103,104,105,106,107,108,109,110,111,112,113,114,115,116,117,118],\"y\":[0.73224,0.71933,0.73688,0.73594,0.728,0.68933,0.70914,0.71962,0.7368,0.717,0.73323,0.71993,0.73359,0.73779,0.73854,0.73565,0.71329,0.72339,0.73552,0.72085,0.73686,0.7347,0.72874,0.73854,0.71555,0.7243,0.73753,0.73377,0.73209,0.73781,0.72491,0.73837,0.73853,0.73193,0.73911,0.73814,0.72193,0.71094,0.73644,0.72725,0.71977,0.73297,0.7209,0.7348,0.73183,0.74043,0.72118,0.71824,0.7338,0.7396,0.73902,0.73376,0.7371,0.73643,0.72546,0.73709,0.73473,0.73631,0.72134,0.73556,0.73495,0.73528,0.71737,0.73288,0.73958,0.7388,0.7203,0.73863,0.73807,0.73479,0.73955,0.74062,0.73668,0.73711,0.72996,0.73808,0.71984,0.73669,0.71779,0.73745,0.73763,0.73746,0.73531,0.73705,0.73922,0.7288,0.73702,0.72981,0.73402,0.73818,0.73405,0.73776,0.73767,0.73642,0.73682,0.72692,0.72468,0.73527,0.73729,0.72128,0.73721,0.73511,0.73007,0.73007,0.73007,0.73007,0.73007,0.73007,0.73007,0.73007,0.73007,0.73007,0.73007,0.73007,0.73007,0.73007,0.73007,0.73007],\"type\":\"scatter\"},{\"name\":\"Best Value\",\"x\":[0,1,2,3,4,5,6,7,8,9,10,11,12,13,14,15,16,17,18,19,20,21,22,23,24,25,26,27,28,29,30,31,32,33,34,35,36,37,38,39,40,41,42,43,44,45,46,47,48,49,50,51,52,53,54,55,56,57,58,59,60,61,62,63,64,65,66,67,68,69,70,71,72,73,74,75,76,77,78,79,80,81,82,83,84,85,86,87,88,89,90,91,92,93,94,95,96,97,98,99,101,102,103,104,105,106,107,108,109,110,111,112,113,114,115,116,117,118],\"y\":[0.73224,0.73224,0.73688,0.73688,0.73688,0.73688,0.73688,0.73688,0.73688,0.73688,0.73688,0.73688,0.73688,0.73779,0.73854,0.73854,0.73854,0.73854,0.73854,0.73854,0.73854,0.73854,0.73854,0.73854,0.73854,0.73854,0.73854,0.73854,0.73854,0.73854,0.73854,0.73854,0.73854,0.73854,0.73911,0.73911,0.73911,0.73911,0.73911,0.73911,0.73911,0.73911,0.73911,0.73911,0.73911,0.74043,0.74043,0.74043,0.74043,0.74043,0.74043,0.74043,0.74043,0.74043,0.74043,0.74043,0.74043,0.74043,0.74043,0.74043,0.74043,0.74043,0.74043,0.74043,0.74043,0.74043,0.74043,0.74043,0.74043,0.74043,0.74043,0.74062,0.74062,0.74062,0.74062,0.74062,0.74062,0.74062,0.74062,0.74062,0.74062,0.74062,0.74062,0.74062,0.74062,0.74062,0.74062,0.74062,0.74062,0.74062,0.74062,0.74062,0.74062,0.74062,0.74062,0.74062,0.74062,0.74062,0.74062,0.74062,0.74062,0.74062,0.74062,0.74062,0.74062,0.74062,0.74062,0.74062,0.74062,0.74062,0.74062,0.74062,0.74062,0.74062,0.74062,0.74062,0.74062,0.74062],\"type\":\"scatter\"}],                        {\"title\":{\"text\":\"Optimization History Plot\"},\"xaxis\":{\"title\":{\"text\":\"Trial\"}},\"yaxis\":{\"title\":{\"text\":\"F1-score\"}},\"template\":{\"data\":{\"histogram2dcontour\":[{\"type\":\"histogram2dcontour\",\"colorbar\":{\"outlinewidth\":0,\"ticks\":\"\"},\"colorscale\":[[0.0,\"#0d0887\"],[0.1111111111111111,\"#46039f\"],[0.2222222222222222,\"#7201a8\"],[0.3333333333333333,\"#9c179e\"],[0.4444444444444444,\"#bd3786\"],[0.5555555555555556,\"#d8576b\"],[0.6666666666666666,\"#ed7953\"],[0.7777777777777778,\"#fb9f3a\"],[0.8888888888888888,\"#fdca26\"],[1.0,\"#f0f921\"]]}],\"choropleth\":[{\"type\":\"choropleth\",\"colorbar\":{\"outlinewidth\":0,\"ticks\":\"\"}}],\"histogram2d\":[{\"type\":\"histogram2d\",\"colorbar\":{\"outlinewidth\":0,\"ticks\":\"\"},\"colorscale\":[[0.0,\"#0d0887\"],[0.1111111111111111,\"#46039f\"],[0.2222222222222222,\"#7201a8\"],[0.3333333333333333,\"#9c179e\"],[0.4444444444444444,\"#bd3786\"],[0.5555555555555556,\"#d8576b\"],[0.6666666666666666,\"#ed7953\"],[0.7777777777777778,\"#fb9f3a\"],[0.8888888888888888,\"#fdca26\"],[1.0,\"#f0f921\"]]}],\"heatmap\":[{\"type\":\"heatmap\",\"colorbar\":{\"outlinewidth\":0,\"ticks\":\"\"},\"colorscale\":[[0.0,\"#0d0887\"],[0.1111111111111111,\"#46039f\"],[0.2222222222222222,\"#7201a8\"],[0.3333333333333333,\"#9c179e\"],[0.4444444444444444,\"#bd3786\"],[0.5555555555555556,\"#d8576b\"],[0.6666666666666666,\"#ed7953\"],[0.7777777777777778,\"#fb9f3a\"],[0.8888888888888888,\"#fdca26\"],[1.0,\"#f0f921\"]]}],\"heatmapgl\":[{\"type\":\"heatmapgl\",\"colorbar\":{\"outlinewidth\":0,\"ticks\":\"\"},\"colorscale\":[[0.0,\"#0d0887\"],[0.1111111111111111,\"#46039f\"],[0.2222222222222222,\"#7201a8\"],[0.3333333333333333,\"#9c179e\"],[0.4444444444444444,\"#bd3786\"],[0.5555555555555556,\"#d8576b\"],[0.6666666666666666,\"#ed7953\"],[0.7777777777777778,\"#fb9f3a\"],[0.8888888888888888,\"#fdca26\"],[1.0,\"#f0f921\"]]}],\"contourcarpet\":[{\"type\":\"contourcarpet\",\"colorbar\":{\"outlinewidth\":0,\"ticks\":\"\"}}],\"contour\":[{\"type\":\"contour\",\"colorbar\":{\"outlinewidth\":0,\"ticks\":\"\"},\"colorscale\":[[0.0,\"#0d0887\"],[0.1111111111111111,\"#46039f\"],[0.2222222222222222,\"#7201a8\"],[0.3333333333333333,\"#9c179e\"],[0.4444444444444444,\"#bd3786\"],[0.5555555555555556,\"#d8576b\"],[0.6666666666666666,\"#ed7953\"],[0.7777777777777778,\"#fb9f3a\"],[0.8888888888888888,\"#fdca26\"],[1.0,\"#f0f921\"]]}],\"surface\":[{\"type\":\"surface\",\"colorbar\":{\"outlinewidth\":0,\"ticks\":\"\"},\"colorscale\":[[0.0,\"#0d0887\"],[0.1111111111111111,\"#46039f\"],[0.2222222222222222,\"#7201a8\"],[0.3333333333333333,\"#9c179e\"],[0.4444444444444444,\"#bd3786\"],[0.5555555555555556,\"#d8576b\"],[0.6666666666666666,\"#ed7953\"],[0.7777777777777778,\"#fb9f3a\"],[0.8888888888888888,\"#fdca26\"],[1.0,\"#f0f921\"]]}],\"mesh3d\":[{\"type\":\"mesh3d\",\"colorbar\":{\"outlinewidth\":0,\"ticks\":\"\"}}],\"scatter\":[{\"fillpattern\":{\"fillmode\":\"overlay\",\"size\":10,\"solidity\":0.2},\"type\":\"scatter\"}],\"parcoords\":[{\"type\":\"parcoords\",\"line\":{\"colorbar\":{\"outlinewidth\":0,\"ticks\":\"\"}}}],\"scatterpolargl\":[{\"type\":\"scatterpolargl\",\"marker\":{\"colorbar\":{\"outlinewidth\":0,\"ticks\":\"\"}}}],\"bar\":[{\"error_x\":{\"color\":\"#2a3f5f\"},\"error_y\":{\"color\":\"#2a3f5f\"},\"marker\":{\"line\":{\"color\":\"#E5ECF6\",\"width\":0.5},\"pattern\":{\"fillmode\":\"overlay\",\"size\":10,\"solidity\":0.2}},\"type\":\"bar\"}],\"scattergeo\":[{\"type\":\"scattergeo\",\"marker\":{\"colorbar\":{\"outlinewidth\":0,\"ticks\":\"\"}}}],\"scatterpolar\":[{\"type\":\"scatterpolar\",\"marker\":{\"colorbar\":{\"outlinewidth\":0,\"ticks\":\"\"}}}],\"histogram\":[{\"marker\":{\"pattern\":{\"fillmode\":\"overlay\",\"size\":10,\"solidity\":0.2}},\"type\":\"histogram\"}],\"scattergl\":[{\"type\":\"scattergl\",\"marker\":{\"colorbar\":{\"outlinewidth\":0,\"ticks\":\"\"}}}],\"scatter3d\":[{\"type\":\"scatter3d\",\"line\":{\"colorbar\":{\"outlinewidth\":0,\"ticks\":\"\"}},\"marker\":{\"colorbar\":{\"outlinewidth\":0,\"ticks\":\"\"}}}],\"scattermapbox\":[{\"type\":\"scattermapbox\",\"marker\":{\"colorbar\":{\"outlinewidth\":0,\"ticks\":\"\"}}}],\"scatterternary\":[{\"type\":\"scatterternary\",\"marker\":{\"colorbar\":{\"outlinewidth\":0,\"ticks\":\"\"}}}],\"scattercarpet\":[{\"type\":\"scattercarpet\",\"marker\":{\"colorbar\":{\"outlinewidth\":0,\"ticks\":\"\"}}}],\"carpet\":[{\"aaxis\":{\"endlinecolor\":\"#2a3f5f\",\"gridcolor\":\"white\",\"linecolor\":\"white\",\"minorgridcolor\":\"white\",\"startlinecolor\":\"#2a3f5f\"},\"baxis\":{\"endlinecolor\":\"#2a3f5f\",\"gridcolor\":\"white\",\"linecolor\":\"white\",\"minorgridcolor\":\"white\",\"startlinecolor\":\"#2a3f5f\"},\"type\":\"carpet\"}],\"table\":[{\"cells\":{\"fill\":{\"color\":\"#EBF0F8\"},\"line\":{\"color\":\"white\"}},\"header\":{\"fill\":{\"color\":\"#C8D4E3\"},\"line\":{\"color\":\"white\"}},\"type\":\"table\"}],\"barpolar\":[{\"marker\":{\"line\":{\"color\":\"#E5ECF6\",\"width\":0.5},\"pattern\":{\"fillmode\":\"overlay\",\"size\":10,\"solidity\":0.2}},\"type\":\"barpolar\"}],\"pie\":[{\"automargin\":true,\"type\":\"pie\"}]},\"layout\":{\"autotypenumbers\":\"strict\",\"colorway\":[\"#636efa\",\"#EF553B\",\"#00cc96\",\"#ab63fa\",\"#FFA15A\",\"#19d3f3\",\"#FF6692\",\"#B6E880\",\"#FF97FF\",\"#FECB52\"],\"font\":{\"color\":\"#2a3f5f\"},\"hovermode\":\"closest\",\"hoverlabel\":{\"align\":\"left\"},\"paper_bgcolor\":\"white\",\"plot_bgcolor\":\"#E5ECF6\",\"polar\":{\"bgcolor\":\"#E5ECF6\",\"angularaxis\":{\"gridcolor\":\"white\",\"linecolor\":\"white\",\"ticks\":\"\"},\"radialaxis\":{\"gridcolor\":\"white\",\"linecolor\":\"white\",\"ticks\":\"\"}},\"ternary\":{\"bgcolor\":\"#E5ECF6\",\"aaxis\":{\"gridcolor\":\"white\",\"linecolor\":\"white\",\"ticks\":\"\"},\"baxis\":{\"gridcolor\":\"white\",\"linecolor\":\"white\",\"ticks\":\"\"},\"caxis\":{\"gridcolor\":\"white\",\"linecolor\":\"white\",\"ticks\":\"\"}},\"coloraxis\":{\"colorbar\":{\"outlinewidth\":0,\"ticks\":\"\"}},\"colorscale\":{\"sequential\":[[0.0,\"#0d0887\"],[0.1111111111111111,\"#46039f\"],[0.2222222222222222,\"#7201a8\"],[0.3333333333333333,\"#9c179e\"],[0.4444444444444444,\"#bd3786\"],[0.5555555555555556,\"#d8576b\"],[0.6666666666666666,\"#ed7953\"],[0.7777777777777778,\"#fb9f3a\"],[0.8888888888888888,\"#fdca26\"],[1.0,\"#f0f921\"]],\"sequentialminus\":[[0.0,\"#0d0887\"],[0.1111111111111111,\"#46039f\"],[0.2222222222222222,\"#7201a8\"],[0.3333333333333333,\"#9c179e\"],[0.4444444444444444,\"#bd3786\"],[0.5555555555555556,\"#d8576b\"],[0.6666666666666666,\"#ed7953\"],[0.7777777777777778,\"#fb9f3a\"],[0.8888888888888888,\"#fdca26\"],[1.0,\"#f0f921\"]],\"diverging\":[[0,\"#8e0152\"],[0.1,\"#c51b7d\"],[0.2,\"#de77ae\"],[0.3,\"#f1b6da\"],[0.4,\"#fde0ef\"],[0.5,\"#f7f7f7\"],[0.6,\"#e6f5d0\"],[0.7,\"#b8e186\"],[0.8,\"#7fbc41\"],[0.9,\"#4d9221\"],[1,\"#276419\"]]},\"xaxis\":{\"gridcolor\":\"white\",\"linecolor\":\"white\",\"ticks\":\"\",\"title\":{\"standoff\":15},\"zerolinecolor\":\"white\",\"automargin\":true,\"zerolinewidth\":2},\"yaxis\":{\"gridcolor\":\"white\",\"linecolor\":\"white\",\"ticks\":\"\",\"title\":{\"standoff\":15},\"zerolinecolor\":\"white\",\"automargin\":true,\"zerolinewidth\":2},\"scene\":{\"xaxis\":{\"backgroundcolor\":\"#E5ECF6\",\"gridcolor\":\"white\",\"linecolor\":\"white\",\"showbackground\":true,\"ticks\":\"\",\"zerolinecolor\":\"white\",\"gridwidth\":2},\"yaxis\":{\"backgroundcolor\":\"#E5ECF6\",\"gridcolor\":\"white\",\"linecolor\":\"white\",\"showbackground\":true,\"ticks\":\"\",\"zerolinecolor\":\"white\",\"gridwidth\":2},\"zaxis\":{\"backgroundcolor\":\"#E5ECF6\",\"gridcolor\":\"white\",\"linecolor\":\"white\",\"showbackground\":true,\"ticks\":\"\",\"zerolinecolor\":\"white\",\"gridwidth\":2}},\"shapedefaults\":{\"line\":{\"color\":\"#2a3f5f\"}},\"annotationdefaults\":{\"arrowcolor\":\"#2a3f5f\",\"arrowhead\":0,\"arrowwidth\":1},\"geo\":{\"bgcolor\":\"white\",\"landcolor\":\"#E5ECF6\",\"subunitcolor\":\"white\",\"showland\":true,\"showlakes\":true,\"lakecolor\":\"white\"},\"title\":{\"x\":0.05},\"mapbox\":{\"style\":\"light\"}}}},                        {\"responsive\": true}                    ).then(function(){\n",
       "                            \n",
       "var gd = document.getElementById('2f0becf3-d179-4586-9561-a03e1c7332ed');\n",
       "var x = new MutationObserver(function (mutations, observer) {{\n",
       "        var display = window.getComputedStyle(gd).display;\n",
       "        if (!display || display === 'none') {{\n",
       "            console.log([gd, 'removed!']);\n",
       "            Plotly.purge(gd);\n",
       "            observer.disconnect();\n",
       "        }}\n",
       "}});\n",
       "\n",
       "// Listen for the removal of the full notebook cells\n",
       "var notebookContainer = gd.closest('#notebook-container');\n",
       "if (notebookContainer) {{\n",
       "    x.observe(notebookContainer, {childList: true});\n",
       "}}\n",
       "\n",
       "// Listen for the clearing of the current output cell\n",
       "var outputEl = gd.closest('.output');\n",
       "if (outputEl) {{\n",
       "    x.observe(outputEl, {childList: true});\n",
       "}}\n",
       "\n",
       "                        })                };                });            </script>        </div>"
      ]
     },
     "metadata": {},
     "output_type": "display_data"
    }
   ],
   "source": [
    "optuna.visualization.plot_optimization_history(study_xgb, target_name=\"F1-score\")"
   ]
  },
  {
   "cell_type": "markdown",
   "id": "a5e3a646",
   "metadata": {
    "ExecuteTime": {
     "end_time": "2022-12-21T17:08:20.319664Z",
     "start_time": "2022-12-21T17:08:20.264699Z"
    }
   },
   "source": [
    "#### 4.4.2.3. Gráfico de Importância do Parâmetro "
   ]
  },
  {
   "cell_type": "markdown",
   "id": "0f1d8163",
   "metadata": {},
   "source": [
    "O segundo gráfico que traçaremos é um gráfico de barras que representa a importância dos hiperparâmetros de hiperparâmetros cujas combinações foram tentadas durante o processo de estudo. Isso pode nos ajudar a entender quais hiperparâmetros estão contribuindo mais para minimizar/maximizar o valor objetivo.\n",
    "\n",
    "Abaixo, plotamos o gráfico de importância dos hiperparâmetros usando o objeto de estudo da seção do modelo perceptron multicamada. Podemos notar que a Optuna pensa que learning_rate é o parâmetro mais importante para otimizar, seguido por learning_rate_init , ativação e hidden_layer_sizes ."
   ]
  },
  {
   "cell_type": "code",
   "execution_count": 918,
   "id": "8d5a4807",
   "metadata": {
    "ExecuteTime": {
     "end_time": "2022-12-22T04:05:06.489519Z",
     "start_time": "2022-12-22T04:05:06.466486Z"
    }
   },
   "outputs": [
    {
     "data": {
      "application/vnd.plotly.v1+json": {
       "config": {
        "plotlyServerURL": "https://plot.ly"
       },
       "data": [],
       "layout": {
        "showlegend": false,
        "template": {
         "data": {
          "bar": [
           {
            "error_x": {
             "color": "#2a3f5f"
            },
            "error_y": {
             "color": "#2a3f5f"
            },
            "marker": {
             "line": {
              "color": "#E5ECF6",
              "width": 0.5
             },
             "pattern": {
              "fillmode": "overlay",
              "size": 10,
              "solidity": 0.2
             }
            },
            "type": "bar"
           }
          ],
          "barpolar": [
           {
            "marker": {
             "line": {
              "color": "#E5ECF6",
              "width": 0.5
             },
             "pattern": {
              "fillmode": "overlay",
              "size": 10,
              "solidity": 0.2
             }
            },
            "type": "barpolar"
           }
          ],
          "carpet": [
           {
            "aaxis": {
             "endlinecolor": "#2a3f5f",
             "gridcolor": "white",
             "linecolor": "white",
             "minorgridcolor": "white",
             "startlinecolor": "#2a3f5f"
            },
            "baxis": {
             "endlinecolor": "#2a3f5f",
             "gridcolor": "white",
             "linecolor": "white",
             "minorgridcolor": "white",
             "startlinecolor": "#2a3f5f"
            },
            "type": "carpet"
           }
          ],
          "choropleth": [
           {
            "colorbar": {
             "outlinewidth": 0,
             "ticks": ""
            },
            "type": "choropleth"
           }
          ],
          "contour": [
           {
            "colorbar": {
             "outlinewidth": 0,
             "ticks": ""
            },
            "colorscale": [
             [
              0,
              "#0d0887"
             ],
             [
              0.1111111111111111,
              "#46039f"
             ],
             [
              0.2222222222222222,
              "#7201a8"
             ],
             [
              0.3333333333333333,
              "#9c179e"
             ],
             [
              0.4444444444444444,
              "#bd3786"
             ],
             [
              0.5555555555555556,
              "#d8576b"
             ],
             [
              0.6666666666666666,
              "#ed7953"
             ],
             [
              0.7777777777777778,
              "#fb9f3a"
             ],
             [
              0.8888888888888888,
              "#fdca26"
             ],
             [
              1,
              "#f0f921"
             ]
            ],
            "type": "contour"
           }
          ],
          "contourcarpet": [
           {
            "colorbar": {
             "outlinewidth": 0,
             "ticks": ""
            },
            "type": "contourcarpet"
           }
          ],
          "heatmap": [
           {
            "colorbar": {
             "outlinewidth": 0,
             "ticks": ""
            },
            "colorscale": [
             [
              0,
              "#0d0887"
             ],
             [
              0.1111111111111111,
              "#46039f"
             ],
             [
              0.2222222222222222,
              "#7201a8"
             ],
             [
              0.3333333333333333,
              "#9c179e"
             ],
             [
              0.4444444444444444,
              "#bd3786"
             ],
             [
              0.5555555555555556,
              "#d8576b"
             ],
             [
              0.6666666666666666,
              "#ed7953"
             ],
             [
              0.7777777777777778,
              "#fb9f3a"
             ],
             [
              0.8888888888888888,
              "#fdca26"
             ],
             [
              1,
              "#f0f921"
             ]
            ],
            "type": "heatmap"
           }
          ],
          "heatmapgl": [
           {
            "colorbar": {
             "outlinewidth": 0,
             "ticks": ""
            },
            "colorscale": [
             [
              0,
              "#0d0887"
             ],
             [
              0.1111111111111111,
              "#46039f"
             ],
             [
              0.2222222222222222,
              "#7201a8"
             ],
             [
              0.3333333333333333,
              "#9c179e"
             ],
             [
              0.4444444444444444,
              "#bd3786"
             ],
             [
              0.5555555555555556,
              "#d8576b"
             ],
             [
              0.6666666666666666,
              "#ed7953"
             ],
             [
              0.7777777777777778,
              "#fb9f3a"
             ],
             [
              0.8888888888888888,
              "#fdca26"
             ],
             [
              1,
              "#f0f921"
             ]
            ],
            "type": "heatmapgl"
           }
          ],
          "histogram": [
           {
            "marker": {
             "pattern": {
              "fillmode": "overlay",
              "size": 10,
              "solidity": 0.2
             }
            },
            "type": "histogram"
           }
          ],
          "histogram2d": [
           {
            "colorbar": {
             "outlinewidth": 0,
             "ticks": ""
            },
            "colorscale": [
             [
              0,
              "#0d0887"
             ],
             [
              0.1111111111111111,
              "#46039f"
             ],
             [
              0.2222222222222222,
              "#7201a8"
             ],
             [
              0.3333333333333333,
              "#9c179e"
             ],
             [
              0.4444444444444444,
              "#bd3786"
             ],
             [
              0.5555555555555556,
              "#d8576b"
             ],
             [
              0.6666666666666666,
              "#ed7953"
             ],
             [
              0.7777777777777778,
              "#fb9f3a"
             ],
             [
              0.8888888888888888,
              "#fdca26"
             ],
             [
              1,
              "#f0f921"
             ]
            ],
            "type": "histogram2d"
           }
          ],
          "histogram2dcontour": [
           {
            "colorbar": {
             "outlinewidth": 0,
             "ticks": ""
            },
            "colorscale": [
             [
              0,
              "#0d0887"
             ],
             [
              0.1111111111111111,
              "#46039f"
             ],
             [
              0.2222222222222222,
              "#7201a8"
             ],
             [
              0.3333333333333333,
              "#9c179e"
             ],
             [
              0.4444444444444444,
              "#bd3786"
             ],
             [
              0.5555555555555556,
              "#d8576b"
             ],
             [
              0.6666666666666666,
              "#ed7953"
             ],
             [
              0.7777777777777778,
              "#fb9f3a"
             ],
             [
              0.8888888888888888,
              "#fdca26"
             ],
             [
              1,
              "#f0f921"
             ]
            ],
            "type": "histogram2dcontour"
           }
          ],
          "mesh3d": [
           {
            "colorbar": {
             "outlinewidth": 0,
             "ticks": ""
            },
            "type": "mesh3d"
           }
          ],
          "parcoords": [
           {
            "line": {
             "colorbar": {
              "outlinewidth": 0,
              "ticks": ""
             }
            },
            "type": "parcoords"
           }
          ],
          "pie": [
           {
            "automargin": true,
            "type": "pie"
           }
          ],
          "scatter": [
           {
            "fillpattern": {
             "fillmode": "overlay",
             "size": 10,
             "solidity": 0.2
            },
            "type": "scatter"
           }
          ],
          "scatter3d": [
           {
            "line": {
             "colorbar": {
              "outlinewidth": 0,
              "ticks": ""
             }
            },
            "marker": {
             "colorbar": {
              "outlinewidth": 0,
              "ticks": ""
             }
            },
            "type": "scatter3d"
           }
          ],
          "scattercarpet": [
           {
            "marker": {
             "colorbar": {
              "outlinewidth": 0,
              "ticks": ""
             }
            },
            "type": "scattercarpet"
           }
          ],
          "scattergeo": [
           {
            "marker": {
             "colorbar": {
              "outlinewidth": 0,
              "ticks": ""
             }
            },
            "type": "scattergeo"
           }
          ],
          "scattergl": [
           {
            "marker": {
             "colorbar": {
              "outlinewidth": 0,
              "ticks": ""
             }
            },
            "type": "scattergl"
           }
          ],
          "scattermapbox": [
           {
            "marker": {
             "colorbar": {
              "outlinewidth": 0,
              "ticks": ""
             }
            },
            "type": "scattermapbox"
           }
          ],
          "scatterpolar": [
           {
            "marker": {
             "colorbar": {
              "outlinewidth": 0,
              "ticks": ""
             }
            },
            "type": "scatterpolar"
           }
          ],
          "scatterpolargl": [
           {
            "marker": {
             "colorbar": {
              "outlinewidth": 0,
              "ticks": ""
             }
            },
            "type": "scatterpolargl"
           }
          ],
          "scatterternary": [
           {
            "marker": {
             "colorbar": {
              "outlinewidth": 0,
              "ticks": ""
             }
            },
            "type": "scatterternary"
           }
          ],
          "surface": [
           {
            "colorbar": {
             "outlinewidth": 0,
             "ticks": ""
            },
            "colorscale": [
             [
              0,
              "#0d0887"
             ],
             [
              0.1111111111111111,
              "#46039f"
             ],
             [
              0.2222222222222222,
              "#7201a8"
             ],
             [
              0.3333333333333333,
              "#9c179e"
             ],
             [
              0.4444444444444444,
              "#bd3786"
             ],
             [
              0.5555555555555556,
              "#d8576b"
             ],
             [
              0.6666666666666666,
              "#ed7953"
             ],
             [
              0.7777777777777778,
              "#fb9f3a"
             ],
             [
              0.8888888888888888,
              "#fdca26"
             ],
             [
              1,
              "#f0f921"
             ]
            ],
            "type": "surface"
           }
          ],
          "table": [
           {
            "cells": {
             "fill": {
              "color": "#EBF0F8"
             },
             "line": {
              "color": "white"
             }
            },
            "header": {
             "fill": {
              "color": "#C8D4E3"
             },
             "line": {
              "color": "white"
             }
            },
            "type": "table"
           }
          ]
         },
         "layout": {
          "annotationdefaults": {
           "arrowcolor": "#2a3f5f",
           "arrowhead": 0,
           "arrowwidth": 1
          },
          "autotypenumbers": "strict",
          "coloraxis": {
           "colorbar": {
            "outlinewidth": 0,
            "ticks": ""
           }
          },
          "colorscale": {
           "diverging": [
            [
             0,
             "#8e0152"
            ],
            [
             0.1,
             "#c51b7d"
            ],
            [
             0.2,
             "#de77ae"
            ],
            [
             0.3,
             "#f1b6da"
            ],
            [
             0.4,
             "#fde0ef"
            ],
            [
             0.5,
             "#f7f7f7"
            ],
            [
             0.6,
             "#e6f5d0"
            ],
            [
             0.7,
             "#b8e186"
            ],
            [
             0.8,
             "#7fbc41"
            ],
            [
             0.9,
             "#4d9221"
            ],
            [
             1,
             "#276419"
            ]
           ],
           "sequential": [
            [
             0,
             "#0d0887"
            ],
            [
             0.1111111111111111,
             "#46039f"
            ],
            [
             0.2222222222222222,
             "#7201a8"
            ],
            [
             0.3333333333333333,
             "#9c179e"
            ],
            [
             0.4444444444444444,
             "#bd3786"
            ],
            [
             0.5555555555555556,
             "#d8576b"
            ],
            [
             0.6666666666666666,
             "#ed7953"
            ],
            [
             0.7777777777777778,
             "#fb9f3a"
            ],
            [
             0.8888888888888888,
             "#fdca26"
            ],
            [
             1,
             "#f0f921"
            ]
           ],
           "sequentialminus": [
            [
             0,
             "#0d0887"
            ],
            [
             0.1111111111111111,
             "#46039f"
            ],
            [
             0.2222222222222222,
             "#7201a8"
            ],
            [
             0.3333333333333333,
             "#9c179e"
            ],
            [
             0.4444444444444444,
             "#bd3786"
            ],
            [
             0.5555555555555556,
             "#d8576b"
            ],
            [
             0.6666666666666666,
             "#ed7953"
            ],
            [
             0.7777777777777778,
             "#fb9f3a"
            ],
            [
             0.8888888888888888,
             "#fdca26"
            ],
            [
             1,
             "#f0f921"
            ]
           ]
          },
          "colorway": [
           "#636efa",
           "#EF553B",
           "#00cc96",
           "#ab63fa",
           "#FFA15A",
           "#19d3f3",
           "#FF6692",
           "#B6E880",
           "#FF97FF",
           "#FECB52"
          ],
          "font": {
           "color": "#2a3f5f"
          },
          "geo": {
           "bgcolor": "white",
           "lakecolor": "white",
           "landcolor": "#E5ECF6",
           "showlakes": true,
           "showland": true,
           "subunitcolor": "white"
          },
          "hoverlabel": {
           "align": "left"
          },
          "hovermode": "closest",
          "mapbox": {
           "style": "light"
          },
          "paper_bgcolor": "white",
          "plot_bgcolor": "#E5ECF6",
          "polar": {
           "angularaxis": {
            "gridcolor": "white",
            "linecolor": "white",
            "ticks": ""
           },
           "bgcolor": "#E5ECF6",
           "radialaxis": {
            "gridcolor": "white",
            "linecolor": "white",
            "ticks": ""
           }
          },
          "scene": {
           "xaxis": {
            "backgroundcolor": "#E5ECF6",
            "gridcolor": "white",
            "gridwidth": 2,
            "linecolor": "white",
            "showbackground": true,
            "ticks": "",
            "zerolinecolor": "white"
           },
           "yaxis": {
            "backgroundcolor": "#E5ECF6",
            "gridcolor": "white",
            "gridwidth": 2,
            "linecolor": "white",
            "showbackground": true,
            "ticks": "",
            "zerolinecolor": "white"
           },
           "zaxis": {
            "backgroundcolor": "#E5ECF6",
            "gridcolor": "white",
            "gridwidth": 2,
            "linecolor": "white",
            "showbackground": true,
            "ticks": "",
            "zerolinecolor": "white"
           }
          },
          "shapedefaults": {
           "line": {
            "color": "#2a3f5f"
           }
          },
          "ternary": {
           "aaxis": {
            "gridcolor": "white",
            "linecolor": "white",
            "ticks": ""
           },
           "baxis": {
            "gridcolor": "white",
            "linecolor": "white",
            "ticks": ""
           },
           "bgcolor": "#E5ECF6",
           "caxis": {
            "gridcolor": "white",
            "linecolor": "white",
            "ticks": ""
           }
          },
          "title": {
           "x": 0.05
          },
          "xaxis": {
           "automargin": true,
           "gridcolor": "white",
           "linecolor": "white",
           "ticks": "",
           "title": {
            "standoff": 15
           },
           "zerolinecolor": "white",
           "zerolinewidth": 2
          },
          "yaxis": {
           "automargin": true,
           "gridcolor": "white",
           "linecolor": "white",
           "ticks": "",
           "title": {
            "standoff": 15
           },
           "zerolinecolor": "white",
           "zerolinewidth": 2
          }
         }
        },
        "title": {
         "text": "Hyperparameter Importances"
        },
        "xaxis": {
         "title": {
          "text": "Importance for F1-score"
         }
        },
        "yaxis": {
         "title": {
          "text": "Hyperparameter"
         }
        }
       }
      },
      "text/html": [
       "<div>                            <div id=\"2741416d-e49b-49b6-bd9f-c7d153a14f16\" class=\"plotly-graph-div\" style=\"height:525px; width:100%;\"></div>            <script type=\"text/javascript\">                require([\"plotly\"], function(Plotly) {                    window.PLOTLYENV=window.PLOTLYENV || {};                                    if (document.getElementById(\"2741416d-e49b-49b6-bd9f-c7d153a14f16\")) {                    Plotly.newPlot(                        \"2741416d-e49b-49b6-bd9f-c7d153a14f16\",                        [],                        {\"showlegend\":false,\"title\":{\"text\":\"Hyperparameter Importances\"},\"xaxis\":{\"title\":{\"text\":\"Importance for F1-score\"}},\"yaxis\":{\"title\":{\"text\":\"Hyperparameter\"}},\"template\":{\"data\":{\"histogram2dcontour\":[{\"type\":\"histogram2dcontour\",\"colorbar\":{\"outlinewidth\":0,\"ticks\":\"\"},\"colorscale\":[[0.0,\"#0d0887\"],[0.1111111111111111,\"#46039f\"],[0.2222222222222222,\"#7201a8\"],[0.3333333333333333,\"#9c179e\"],[0.4444444444444444,\"#bd3786\"],[0.5555555555555556,\"#d8576b\"],[0.6666666666666666,\"#ed7953\"],[0.7777777777777778,\"#fb9f3a\"],[0.8888888888888888,\"#fdca26\"],[1.0,\"#f0f921\"]]}],\"choropleth\":[{\"type\":\"choropleth\",\"colorbar\":{\"outlinewidth\":0,\"ticks\":\"\"}}],\"histogram2d\":[{\"type\":\"histogram2d\",\"colorbar\":{\"outlinewidth\":0,\"ticks\":\"\"},\"colorscale\":[[0.0,\"#0d0887\"],[0.1111111111111111,\"#46039f\"],[0.2222222222222222,\"#7201a8\"],[0.3333333333333333,\"#9c179e\"],[0.4444444444444444,\"#bd3786\"],[0.5555555555555556,\"#d8576b\"],[0.6666666666666666,\"#ed7953\"],[0.7777777777777778,\"#fb9f3a\"],[0.8888888888888888,\"#fdca26\"],[1.0,\"#f0f921\"]]}],\"heatmap\":[{\"type\":\"heatmap\",\"colorbar\":{\"outlinewidth\":0,\"ticks\":\"\"},\"colorscale\":[[0.0,\"#0d0887\"],[0.1111111111111111,\"#46039f\"],[0.2222222222222222,\"#7201a8\"],[0.3333333333333333,\"#9c179e\"],[0.4444444444444444,\"#bd3786\"],[0.5555555555555556,\"#d8576b\"],[0.6666666666666666,\"#ed7953\"],[0.7777777777777778,\"#fb9f3a\"],[0.8888888888888888,\"#fdca26\"],[1.0,\"#f0f921\"]]}],\"heatmapgl\":[{\"type\":\"heatmapgl\",\"colorbar\":{\"outlinewidth\":0,\"ticks\":\"\"},\"colorscale\":[[0.0,\"#0d0887\"],[0.1111111111111111,\"#46039f\"],[0.2222222222222222,\"#7201a8\"],[0.3333333333333333,\"#9c179e\"],[0.4444444444444444,\"#bd3786\"],[0.5555555555555556,\"#d8576b\"],[0.6666666666666666,\"#ed7953\"],[0.7777777777777778,\"#fb9f3a\"],[0.8888888888888888,\"#fdca26\"],[1.0,\"#f0f921\"]]}],\"contourcarpet\":[{\"type\":\"contourcarpet\",\"colorbar\":{\"outlinewidth\":0,\"ticks\":\"\"}}],\"contour\":[{\"type\":\"contour\",\"colorbar\":{\"outlinewidth\":0,\"ticks\":\"\"},\"colorscale\":[[0.0,\"#0d0887\"],[0.1111111111111111,\"#46039f\"],[0.2222222222222222,\"#7201a8\"],[0.3333333333333333,\"#9c179e\"],[0.4444444444444444,\"#bd3786\"],[0.5555555555555556,\"#d8576b\"],[0.6666666666666666,\"#ed7953\"],[0.7777777777777778,\"#fb9f3a\"],[0.8888888888888888,\"#fdca26\"],[1.0,\"#f0f921\"]]}],\"surface\":[{\"type\":\"surface\",\"colorbar\":{\"outlinewidth\":0,\"ticks\":\"\"},\"colorscale\":[[0.0,\"#0d0887\"],[0.1111111111111111,\"#46039f\"],[0.2222222222222222,\"#7201a8\"],[0.3333333333333333,\"#9c179e\"],[0.4444444444444444,\"#bd3786\"],[0.5555555555555556,\"#d8576b\"],[0.6666666666666666,\"#ed7953\"],[0.7777777777777778,\"#fb9f3a\"],[0.8888888888888888,\"#fdca26\"],[1.0,\"#f0f921\"]]}],\"mesh3d\":[{\"type\":\"mesh3d\",\"colorbar\":{\"outlinewidth\":0,\"ticks\":\"\"}}],\"scatter\":[{\"fillpattern\":{\"fillmode\":\"overlay\",\"size\":10,\"solidity\":0.2},\"type\":\"scatter\"}],\"parcoords\":[{\"type\":\"parcoords\",\"line\":{\"colorbar\":{\"outlinewidth\":0,\"ticks\":\"\"}}}],\"scatterpolargl\":[{\"type\":\"scatterpolargl\",\"marker\":{\"colorbar\":{\"outlinewidth\":0,\"ticks\":\"\"}}}],\"bar\":[{\"error_x\":{\"color\":\"#2a3f5f\"},\"error_y\":{\"color\":\"#2a3f5f\"},\"marker\":{\"line\":{\"color\":\"#E5ECF6\",\"width\":0.5},\"pattern\":{\"fillmode\":\"overlay\",\"size\":10,\"solidity\":0.2}},\"type\":\"bar\"}],\"scattergeo\":[{\"type\":\"scattergeo\",\"marker\":{\"colorbar\":{\"outlinewidth\":0,\"ticks\":\"\"}}}],\"scatterpolar\":[{\"type\":\"scatterpolar\",\"marker\":{\"colorbar\":{\"outlinewidth\":0,\"ticks\":\"\"}}}],\"histogram\":[{\"marker\":{\"pattern\":{\"fillmode\":\"overlay\",\"size\":10,\"solidity\":0.2}},\"type\":\"histogram\"}],\"scattergl\":[{\"type\":\"scattergl\",\"marker\":{\"colorbar\":{\"outlinewidth\":0,\"ticks\":\"\"}}}],\"scatter3d\":[{\"type\":\"scatter3d\",\"line\":{\"colorbar\":{\"outlinewidth\":0,\"ticks\":\"\"}},\"marker\":{\"colorbar\":{\"outlinewidth\":0,\"ticks\":\"\"}}}],\"scattermapbox\":[{\"type\":\"scattermapbox\",\"marker\":{\"colorbar\":{\"outlinewidth\":0,\"ticks\":\"\"}}}],\"scatterternary\":[{\"type\":\"scatterternary\",\"marker\":{\"colorbar\":{\"outlinewidth\":0,\"ticks\":\"\"}}}],\"scattercarpet\":[{\"type\":\"scattercarpet\",\"marker\":{\"colorbar\":{\"outlinewidth\":0,\"ticks\":\"\"}}}],\"carpet\":[{\"aaxis\":{\"endlinecolor\":\"#2a3f5f\",\"gridcolor\":\"white\",\"linecolor\":\"white\",\"minorgridcolor\":\"white\",\"startlinecolor\":\"#2a3f5f\"},\"baxis\":{\"endlinecolor\":\"#2a3f5f\",\"gridcolor\":\"white\",\"linecolor\":\"white\",\"minorgridcolor\":\"white\",\"startlinecolor\":\"#2a3f5f\"},\"type\":\"carpet\"}],\"table\":[{\"cells\":{\"fill\":{\"color\":\"#EBF0F8\"},\"line\":{\"color\":\"white\"}},\"header\":{\"fill\":{\"color\":\"#C8D4E3\"},\"line\":{\"color\":\"white\"}},\"type\":\"table\"}],\"barpolar\":[{\"marker\":{\"line\":{\"color\":\"#E5ECF6\",\"width\":0.5},\"pattern\":{\"fillmode\":\"overlay\",\"size\":10,\"solidity\":0.2}},\"type\":\"barpolar\"}],\"pie\":[{\"automargin\":true,\"type\":\"pie\"}]},\"layout\":{\"autotypenumbers\":\"strict\",\"colorway\":[\"#636efa\",\"#EF553B\",\"#00cc96\",\"#ab63fa\",\"#FFA15A\",\"#19d3f3\",\"#FF6692\",\"#B6E880\",\"#FF97FF\",\"#FECB52\"],\"font\":{\"color\":\"#2a3f5f\"},\"hovermode\":\"closest\",\"hoverlabel\":{\"align\":\"left\"},\"paper_bgcolor\":\"white\",\"plot_bgcolor\":\"#E5ECF6\",\"polar\":{\"bgcolor\":\"#E5ECF6\",\"angularaxis\":{\"gridcolor\":\"white\",\"linecolor\":\"white\",\"ticks\":\"\"},\"radialaxis\":{\"gridcolor\":\"white\",\"linecolor\":\"white\",\"ticks\":\"\"}},\"ternary\":{\"bgcolor\":\"#E5ECF6\",\"aaxis\":{\"gridcolor\":\"white\",\"linecolor\":\"white\",\"ticks\":\"\"},\"baxis\":{\"gridcolor\":\"white\",\"linecolor\":\"white\",\"ticks\":\"\"},\"caxis\":{\"gridcolor\":\"white\",\"linecolor\":\"white\",\"ticks\":\"\"}},\"coloraxis\":{\"colorbar\":{\"outlinewidth\":0,\"ticks\":\"\"}},\"colorscale\":{\"sequential\":[[0.0,\"#0d0887\"],[0.1111111111111111,\"#46039f\"],[0.2222222222222222,\"#7201a8\"],[0.3333333333333333,\"#9c179e\"],[0.4444444444444444,\"#bd3786\"],[0.5555555555555556,\"#d8576b\"],[0.6666666666666666,\"#ed7953\"],[0.7777777777777778,\"#fb9f3a\"],[0.8888888888888888,\"#fdca26\"],[1.0,\"#f0f921\"]],\"sequentialminus\":[[0.0,\"#0d0887\"],[0.1111111111111111,\"#46039f\"],[0.2222222222222222,\"#7201a8\"],[0.3333333333333333,\"#9c179e\"],[0.4444444444444444,\"#bd3786\"],[0.5555555555555556,\"#d8576b\"],[0.6666666666666666,\"#ed7953\"],[0.7777777777777778,\"#fb9f3a\"],[0.8888888888888888,\"#fdca26\"],[1.0,\"#f0f921\"]],\"diverging\":[[0,\"#8e0152\"],[0.1,\"#c51b7d\"],[0.2,\"#de77ae\"],[0.3,\"#f1b6da\"],[0.4,\"#fde0ef\"],[0.5,\"#f7f7f7\"],[0.6,\"#e6f5d0\"],[0.7,\"#b8e186\"],[0.8,\"#7fbc41\"],[0.9,\"#4d9221\"],[1,\"#276419\"]]},\"xaxis\":{\"gridcolor\":\"white\",\"linecolor\":\"white\",\"ticks\":\"\",\"title\":{\"standoff\":15},\"zerolinecolor\":\"white\",\"automargin\":true,\"zerolinewidth\":2},\"yaxis\":{\"gridcolor\":\"white\",\"linecolor\":\"white\",\"ticks\":\"\",\"title\":{\"standoff\":15},\"zerolinecolor\":\"white\",\"automargin\":true,\"zerolinewidth\":2},\"scene\":{\"xaxis\":{\"backgroundcolor\":\"#E5ECF6\",\"gridcolor\":\"white\",\"linecolor\":\"white\",\"showbackground\":true,\"ticks\":\"\",\"zerolinecolor\":\"white\",\"gridwidth\":2},\"yaxis\":{\"backgroundcolor\":\"#E5ECF6\",\"gridcolor\":\"white\",\"linecolor\":\"white\",\"showbackground\":true,\"ticks\":\"\",\"zerolinecolor\":\"white\",\"gridwidth\":2},\"zaxis\":{\"backgroundcolor\":\"#E5ECF6\",\"gridcolor\":\"white\",\"linecolor\":\"white\",\"showbackground\":true,\"ticks\":\"\",\"zerolinecolor\":\"white\",\"gridwidth\":2}},\"shapedefaults\":{\"line\":{\"color\":\"#2a3f5f\"}},\"annotationdefaults\":{\"arrowcolor\":\"#2a3f5f\",\"arrowhead\":0,\"arrowwidth\":1},\"geo\":{\"bgcolor\":\"white\",\"landcolor\":\"#E5ECF6\",\"subunitcolor\":\"white\",\"showland\":true,\"showlakes\":true,\"lakecolor\":\"white\"},\"title\":{\"x\":0.05},\"mapbox\":{\"style\":\"light\"}}}},                        {\"responsive\": true}                    ).then(function(){\n",
       "                            \n",
       "var gd = document.getElementById('2741416d-e49b-49b6-bd9f-c7d153a14f16');\n",
       "var x = new MutationObserver(function (mutations, observer) {{\n",
       "        var display = window.getComputedStyle(gd).display;\n",
       "        if (!display || display === 'none') {{\n",
       "            console.log([gd, 'removed!']);\n",
       "            Plotly.purge(gd);\n",
       "            observer.disconnect();\n",
       "        }}\n",
       "}});\n",
       "\n",
       "// Listen for the removal of the full notebook cells\n",
       "var notebookContainer = gd.closest('#notebook-container');\n",
       "if (notebookContainer) {{\n",
       "    x.observe(notebookContainer, {childList: true});\n",
       "}}\n",
       "\n",
       "// Listen for the clearing of the current output cell\n",
       "var outputEl = gd.closest('.output');\n",
       "if (outputEl) {{\n",
       "    x.observe(outputEl, {childList: true});\n",
       "}}\n",
       "\n",
       "                        })                };                });            </script>        </div>"
      ]
     },
     "metadata": {},
     "output_type": "display_data"
    }
   ],
   "source": [
    "# optuna.plot_param_importances.plot_slice(study)\n",
    "plot_param_importances(study_xgb, target_name = \"F1-score\" )"
   ]
  },
  {
   "cell_type": "code",
   "execution_count": 919,
   "id": "b79c40b3",
   "metadata": {
    "ExecuteTime": {
     "end_time": "2022-12-22T04:05:17.248080Z",
     "start_time": "2022-12-22T04:05:17.205089Z"
    }
   },
   "outputs": [
    {
     "name": "stderr",
     "output_type": "stream",
     "text": [
      "\u001b[33m[W 2022-12-22 01:05:17,210]\u001b[0m Your study has only completed trials with missing parameters.\u001b[0m\n"
     ]
    },
    {
     "data": {
      "application/vnd.plotly.v1+json": {
       "config": {
        "plotlyServerURL": "https://plot.ly"
       },
       "data": [],
       "layout": {
        "template": {
         "data": {
          "bar": [
           {
            "error_x": {
             "color": "#2a3f5f"
            },
            "error_y": {
             "color": "#2a3f5f"
            },
            "marker": {
             "line": {
              "color": "#E5ECF6",
              "width": 0.5
             },
             "pattern": {
              "fillmode": "overlay",
              "size": 10,
              "solidity": 0.2
             }
            },
            "type": "bar"
           }
          ],
          "barpolar": [
           {
            "marker": {
             "line": {
              "color": "#E5ECF6",
              "width": 0.5
             },
             "pattern": {
              "fillmode": "overlay",
              "size": 10,
              "solidity": 0.2
             }
            },
            "type": "barpolar"
           }
          ],
          "carpet": [
           {
            "aaxis": {
             "endlinecolor": "#2a3f5f",
             "gridcolor": "white",
             "linecolor": "white",
             "minorgridcolor": "white",
             "startlinecolor": "#2a3f5f"
            },
            "baxis": {
             "endlinecolor": "#2a3f5f",
             "gridcolor": "white",
             "linecolor": "white",
             "minorgridcolor": "white",
             "startlinecolor": "#2a3f5f"
            },
            "type": "carpet"
           }
          ],
          "choropleth": [
           {
            "colorbar": {
             "outlinewidth": 0,
             "ticks": ""
            },
            "type": "choropleth"
           }
          ],
          "contour": [
           {
            "colorbar": {
             "outlinewidth": 0,
             "ticks": ""
            },
            "colorscale": [
             [
              0,
              "#0d0887"
             ],
             [
              0.1111111111111111,
              "#46039f"
             ],
             [
              0.2222222222222222,
              "#7201a8"
             ],
             [
              0.3333333333333333,
              "#9c179e"
             ],
             [
              0.4444444444444444,
              "#bd3786"
             ],
             [
              0.5555555555555556,
              "#d8576b"
             ],
             [
              0.6666666666666666,
              "#ed7953"
             ],
             [
              0.7777777777777778,
              "#fb9f3a"
             ],
             [
              0.8888888888888888,
              "#fdca26"
             ],
             [
              1,
              "#f0f921"
             ]
            ],
            "type": "contour"
           }
          ],
          "contourcarpet": [
           {
            "colorbar": {
             "outlinewidth": 0,
             "ticks": ""
            },
            "type": "contourcarpet"
           }
          ],
          "heatmap": [
           {
            "colorbar": {
             "outlinewidth": 0,
             "ticks": ""
            },
            "colorscale": [
             [
              0,
              "#0d0887"
             ],
             [
              0.1111111111111111,
              "#46039f"
             ],
             [
              0.2222222222222222,
              "#7201a8"
             ],
             [
              0.3333333333333333,
              "#9c179e"
             ],
             [
              0.4444444444444444,
              "#bd3786"
             ],
             [
              0.5555555555555556,
              "#d8576b"
             ],
             [
              0.6666666666666666,
              "#ed7953"
             ],
             [
              0.7777777777777778,
              "#fb9f3a"
             ],
             [
              0.8888888888888888,
              "#fdca26"
             ],
             [
              1,
              "#f0f921"
             ]
            ],
            "type": "heatmap"
           }
          ],
          "heatmapgl": [
           {
            "colorbar": {
             "outlinewidth": 0,
             "ticks": ""
            },
            "colorscale": [
             [
              0,
              "#0d0887"
             ],
             [
              0.1111111111111111,
              "#46039f"
             ],
             [
              0.2222222222222222,
              "#7201a8"
             ],
             [
              0.3333333333333333,
              "#9c179e"
             ],
             [
              0.4444444444444444,
              "#bd3786"
             ],
             [
              0.5555555555555556,
              "#d8576b"
             ],
             [
              0.6666666666666666,
              "#ed7953"
             ],
             [
              0.7777777777777778,
              "#fb9f3a"
             ],
             [
              0.8888888888888888,
              "#fdca26"
             ],
             [
              1,
              "#f0f921"
             ]
            ],
            "type": "heatmapgl"
           }
          ],
          "histogram": [
           {
            "marker": {
             "pattern": {
              "fillmode": "overlay",
              "size": 10,
              "solidity": 0.2
             }
            },
            "type": "histogram"
           }
          ],
          "histogram2d": [
           {
            "colorbar": {
             "outlinewidth": 0,
             "ticks": ""
            },
            "colorscale": [
             [
              0,
              "#0d0887"
             ],
             [
              0.1111111111111111,
              "#46039f"
             ],
             [
              0.2222222222222222,
              "#7201a8"
             ],
             [
              0.3333333333333333,
              "#9c179e"
             ],
             [
              0.4444444444444444,
              "#bd3786"
             ],
             [
              0.5555555555555556,
              "#d8576b"
             ],
             [
              0.6666666666666666,
              "#ed7953"
             ],
             [
              0.7777777777777778,
              "#fb9f3a"
             ],
             [
              0.8888888888888888,
              "#fdca26"
             ],
             [
              1,
              "#f0f921"
             ]
            ],
            "type": "histogram2d"
           }
          ],
          "histogram2dcontour": [
           {
            "colorbar": {
             "outlinewidth": 0,
             "ticks": ""
            },
            "colorscale": [
             [
              0,
              "#0d0887"
             ],
             [
              0.1111111111111111,
              "#46039f"
             ],
             [
              0.2222222222222222,
              "#7201a8"
             ],
             [
              0.3333333333333333,
              "#9c179e"
             ],
             [
              0.4444444444444444,
              "#bd3786"
             ],
             [
              0.5555555555555556,
              "#d8576b"
             ],
             [
              0.6666666666666666,
              "#ed7953"
             ],
             [
              0.7777777777777778,
              "#fb9f3a"
             ],
             [
              0.8888888888888888,
              "#fdca26"
             ],
             [
              1,
              "#f0f921"
             ]
            ],
            "type": "histogram2dcontour"
           }
          ],
          "mesh3d": [
           {
            "colorbar": {
             "outlinewidth": 0,
             "ticks": ""
            },
            "type": "mesh3d"
           }
          ],
          "parcoords": [
           {
            "line": {
             "colorbar": {
              "outlinewidth": 0,
              "ticks": ""
             }
            },
            "type": "parcoords"
           }
          ],
          "pie": [
           {
            "automargin": true,
            "type": "pie"
           }
          ],
          "scatter": [
           {
            "fillpattern": {
             "fillmode": "overlay",
             "size": 10,
             "solidity": 0.2
            },
            "type": "scatter"
           }
          ],
          "scatter3d": [
           {
            "line": {
             "colorbar": {
              "outlinewidth": 0,
              "ticks": ""
             }
            },
            "marker": {
             "colorbar": {
              "outlinewidth": 0,
              "ticks": ""
             }
            },
            "type": "scatter3d"
           }
          ],
          "scattercarpet": [
           {
            "marker": {
             "colorbar": {
              "outlinewidth": 0,
              "ticks": ""
             }
            },
            "type": "scattercarpet"
           }
          ],
          "scattergeo": [
           {
            "marker": {
             "colorbar": {
              "outlinewidth": 0,
              "ticks": ""
             }
            },
            "type": "scattergeo"
           }
          ],
          "scattergl": [
           {
            "marker": {
             "colorbar": {
              "outlinewidth": 0,
              "ticks": ""
             }
            },
            "type": "scattergl"
           }
          ],
          "scattermapbox": [
           {
            "marker": {
             "colorbar": {
              "outlinewidth": 0,
              "ticks": ""
             }
            },
            "type": "scattermapbox"
           }
          ],
          "scatterpolar": [
           {
            "marker": {
             "colorbar": {
              "outlinewidth": 0,
              "ticks": ""
             }
            },
            "type": "scatterpolar"
           }
          ],
          "scatterpolargl": [
           {
            "marker": {
             "colorbar": {
              "outlinewidth": 0,
              "ticks": ""
             }
            },
            "type": "scatterpolargl"
           }
          ],
          "scatterternary": [
           {
            "marker": {
             "colorbar": {
              "outlinewidth": 0,
              "ticks": ""
             }
            },
            "type": "scatterternary"
           }
          ],
          "surface": [
           {
            "colorbar": {
             "outlinewidth": 0,
             "ticks": ""
            },
            "colorscale": [
             [
              0,
              "#0d0887"
             ],
             [
              0.1111111111111111,
              "#46039f"
             ],
             [
              0.2222222222222222,
              "#7201a8"
             ],
             [
              0.3333333333333333,
              "#9c179e"
             ],
             [
              0.4444444444444444,
              "#bd3786"
             ],
             [
              0.5555555555555556,
              "#d8576b"
             ],
             [
              0.6666666666666666,
              "#ed7953"
             ],
             [
              0.7777777777777778,
              "#fb9f3a"
             ],
             [
              0.8888888888888888,
              "#fdca26"
             ],
             [
              1,
              "#f0f921"
             ]
            ],
            "type": "surface"
           }
          ],
          "table": [
           {
            "cells": {
             "fill": {
              "color": "#EBF0F8"
             },
             "line": {
              "color": "white"
             }
            },
            "header": {
             "fill": {
              "color": "#C8D4E3"
             },
             "line": {
              "color": "white"
             }
            },
            "type": "table"
           }
          ]
         },
         "layout": {
          "annotationdefaults": {
           "arrowcolor": "#2a3f5f",
           "arrowhead": 0,
           "arrowwidth": 1
          },
          "autotypenumbers": "strict",
          "coloraxis": {
           "colorbar": {
            "outlinewidth": 0,
            "ticks": ""
           }
          },
          "colorscale": {
           "diverging": [
            [
             0,
             "#8e0152"
            ],
            [
             0.1,
             "#c51b7d"
            ],
            [
             0.2,
             "#de77ae"
            ],
            [
             0.3,
             "#f1b6da"
            ],
            [
             0.4,
             "#fde0ef"
            ],
            [
             0.5,
             "#f7f7f7"
            ],
            [
             0.6,
             "#e6f5d0"
            ],
            [
             0.7,
             "#b8e186"
            ],
            [
             0.8,
             "#7fbc41"
            ],
            [
             0.9,
             "#4d9221"
            ],
            [
             1,
             "#276419"
            ]
           ],
           "sequential": [
            [
             0,
             "#0d0887"
            ],
            [
             0.1111111111111111,
             "#46039f"
            ],
            [
             0.2222222222222222,
             "#7201a8"
            ],
            [
             0.3333333333333333,
             "#9c179e"
            ],
            [
             0.4444444444444444,
             "#bd3786"
            ],
            [
             0.5555555555555556,
             "#d8576b"
            ],
            [
             0.6666666666666666,
             "#ed7953"
            ],
            [
             0.7777777777777778,
             "#fb9f3a"
            ],
            [
             0.8888888888888888,
             "#fdca26"
            ],
            [
             1,
             "#f0f921"
            ]
           ],
           "sequentialminus": [
            [
             0,
             "#0d0887"
            ],
            [
             0.1111111111111111,
             "#46039f"
            ],
            [
             0.2222222222222222,
             "#7201a8"
            ],
            [
             0.3333333333333333,
             "#9c179e"
            ],
            [
             0.4444444444444444,
             "#bd3786"
            ],
            [
             0.5555555555555556,
             "#d8576b"
            ],
            [
             0.6666666666666666,
             "#ed7953"
            ],
            [
             0.7777777777777778,
             "#fb9f3a"
            ],
            [
             0.8888888888888888,
             "#fdca26"
            ],
            [
             1,
             "#f0f921"
            ]
           ]
          },
          "colorway": [
           "#636efa",
           "#EF553B",
           "#00cc96",
           "#ab63fa",
           "#FFA15A",
           "#19d3f3",
           "#FF6692",
           "#B6E880",
           "#FF97FF",
           "#FECB52"
          ],
          "font": {
           "color": "#2a3f5f"
          },
          "geo": {
           "bgcolor": "white",
           "lakecolor": "white",
           "landcolor": "#E5ECF6",
           "showlakes": true,
           "showland": true,
           "subunitcolor": "white"
          },
          "hoverlabel": {
           "align": "left"
          },
          "hovermode": "closest",
          "mapbox": {
           "style": "light"
          },
          "paper_bgcolor": "white",
          "plot_bgcolor": "#E5ECF6",
          "polar": {
           "angularaxis": {
            "gridcolor": "white",
            "linecolor": "white",
            "ticks": ""
           },
           "bgcolor": "#E5ECF6",
           "radialaxis": {
            "gridcolor": "white",
            "linecolor": "white",
            "ticks": ""
           }
          },
          "scene": {
           "xaxis": {
            "backgroundcolor": "#E5ECF6",
            "gridcolor": "white",
            "gridwidth": 2,
            "linecolor": "white",
            "showbackground": true,
            "ticks": "",
            "zerolinecolor": "white"
           },
           "yaxis": {
            "backgroundcolor": "#E5ECF6",
            "gridcolor": "white",
            "gridwidth": 2,
            "linecolor": "white",
            "showbackground": true,
            "ticks": "",
            "zerolinecolor": "white"
           },
           "zaxis": {
            "backgroundcolor": "#E5ECF6",
            "gridcolor": "white",
            "gridwidth": 2,
            "linecolor": "white",
            "showbackground": true,
            "ticks": "",
            "zerolinecolor": "white"
           }
          },
          "shapedefaults": {
           "line": {
            "color": "#2a3f5f"
           }
          },
          "ternary": {
           "aaxis": {
            "gridcolor": "white",
            "linecolor": "white",
            "ticks": ""
           },
           "baxis": {
            "gridcolor": "white",
            "linecolor": "white",
            "ticks": ""
           },
           "bgcolor": "#E5ECF6",
           "caxis": {
            "gridcolor": "white",
            "linecolor": "white",
            "ticks": ""
           }
          },
          "title": {
           "x": 0.05
          },
          "xaxis": {
           "automargin": true,
           "gridcolor": "white",
           "linecolor": "white",
           "ticks": "",
           "title": {
            "standoff": 15
           },
           "zerolinecolor": "white",
           "zerolinewidth": 2
          },
          "yaxis": {
           "automargin": true,
           "gridcolor": "white",
           "linecolor": "white",
           "ticks": "",
           "title": {
            "standoff": 15
           },
           "zerolinecolor": "white",
           "zerolinewidth": 2
          }
         }
        },
        "title": {
         "text": "Parallel Coordinate Plot"
        }
       }
      },
      "text/html": [
       "<div>                            <div id=\"8b64edd8-644f-49d1-9381-047f09b6eb91\" class=\"plotly-graph-div\" style=\"height:525px; width:100%;\"></div>            <script type=\"text/javascript\">                require([\"plotly\"], function(Plotly) {                    window.PLOTLYENV=window.PLOTLYENV || {};                                    if (document.getElementById(\"8b64edd8-644f-49d1-9381-047f09b6eb91\")) {                    Plotly.newPlot(                        \"8b64edd8-644f-49d1-9381-047f09b6eb91\",                        [],                        {\"title\":{\"text\":\"Parallel Coordinate Plot\"},\"template\":{\"data\":{\"histogram2dcontour\":[{\"type\":\"histogram2dcontour\",\"colorbar\":{\"outlinewidth\":0,\"ticks\":\"\"},\"colorscale\":[[0.0,\"#0d0887\"],[0.1111111111111111,\"#46039f\"],[0.2222222222222222,\"#7201a8\"],[0.3333333333333333,\"#9c179e\"],[0.4444444444444444,\"#bd3786\"],[0.5555555555555556,\"#d8576b\"],[0.6666666666666666,\"#ed7953\"],[0.7777777777777778,\"#fb9f3a\"],[0.8888888888888888,\"#fdca26\"],[1.0,\"#f0f921\"]]}],\"choropleth\":[{\"type\":\"choropleth\",\"colorbar\":{\"outlinewidth\":0,\"ticks\":\"\"}}],\"histogram2d\":[{\"type\":\"histogram2d\",\"colorbar\":{\"outlinewidth\":0,\"ticks\":\"\"},\"colorscale\":[[0.0,\"#0d0887\"],[0.1111111111111111,\"#46039f\"],[0.2222222222222222,\"#7201a8\"],[0.3333333333333333,\"#9c179e\"],[0.4444444444444444,\"#bd3786\"],[0.5555555555555556,\"#d8576b\"],[0.6666666666666666,\"#ed7953\"],[0.7777777777777778,\"#fb9f3a\"],[0.8888888888888888,\"#fdca26\"],[1.0,\"#f0f921\"]]}],\"heatmap\":[{\"type\":\"heatmap\",\"colorbar\":{\"outlinewidth\":0,\"ticks\":\"\"},\"colorscale\":[[0.0,\"#0d0887\"],[0.1111111111111111,\"#46039f\"],[0.2222222222222222,\"#7201a8\"],[0.3333333333333333,\"#9c179e\"],[0.4444444444444444,\"#bd3786\"],[0.5555555555555556,\"#d8576b\"],[0.6666666666666666,\"#ed7953\"],[0.7777777777777778,\"#fb9f3a\"],[0.8888888888888888,\"#fdca26\"],[1.0,\"#f0f921\"]]}],\"heatmapgl\":[{\"type\":\"heatmapgl\",\"colorbar\":{\"outlinewidth\":0,\"ticks\":\"\"},\"colorscale\":[[0.0,\"#0d0887\"],[0.1111111111111111,\"#46039f\"],[0.2222222222222222,\"#7201a8\"],[0.3333333333333333,\"#9c179e\"],[0.4444444444444444,\"#bd3786\"],[0.5555555555555556,\"#d8576b\"],[0.6666666666666666,\"#ed7953\"],[0.7777777777777778,\"#fb9f3a\"],[0.8888888888888888,\"#fdca26\"],[1.0,\"#f0f921\"]]}],\"contourcarpet\":[{\"type\":\"contourcarpet\",\"colorbar\":{\"outlinewidth\":0,\"ticks\":\"\"}}],\"contour\":[{\"type\":\"contour\",\"colorbar\":{\"outlinewidth\":0,\"ticks\":\"\"},\"colorscale\":[[0.0,\"#0d0887\"],[0.1111111111111111,\"#46039f\"],[0.2222222222222222,\"#7201a8\"],[0.3333333333333333,\"#9c179e\"],[0.4444444444444444,\"#bd3786\"],[0.5555555555555556,\"#d8576b\"],[0.6666666666666666,\"#ed7953\"],[0.7777777777777778,\"#fb9f3a\"],[0.8888888888888888,\"#fdca26\"],[1.0,\"#f0f921\"]]}],\"surface\":[{\"type\":\"surface\",\"colorbar\":{\"outlinewidth\":0,\"ticks\":\"\"},\"colorscale\":[[0.0,\"#0d0887\"],[0.1111111111111111,\"#46039f\"],[0.2222222222222222,\"#7201a8\"],[0.3333333333333333,\"#9c179e\"],[0.4444444444444444,\"#bd3786\"],[0.5555555555555556,\"#d8576b\"],[0.6666666666666666,\"#ed7953\"],[0.7777777777777778,\"#fb9f3a\"],[0.8888888888888888,\"#fdca26\"],[1.0,\"#f0f921\"]]}],\"mesh3d\":[{\"type\":\"mesh3d\",\"colorbar\":{\"outlinewidth\":0,\"ticks\":\"\"}}],\"scatter\":[{\"fillpattern\":{\"fillmode\":\"overlay\",\"size\":10,\"solidity\":0.2},\"type\":\"scatter\"}],\"parcoords\":[{\"type\":\"parcoords\",\"line\":{\"colorbar\":{\"outlinewidth\":0,\"ticks\":\"\"}}}],\"scatterpolargl\":[{\"type\":\"scatterpolargl\",\"marker\":{\"colorbar\":{\"outlinewidth\":0,\"ticks\":\"\"}}}],\"bar\":[{\"error_x\":{\"color\":\"#2a3f5f\"},\"error_y\":{\"color\":\"#2a3f5f\"},\"marker\":{\"line\":{\"color\":\"#E5ECF6\",\"width\":0.5},\"pattern\":{\"fillmode\":\"overlay\",\"size\":10,\"solidity\":0.2}},\"type\":\"bar\"}],\"scattergeo\":[{\"type\":\"scattergeo\",\"marker\":{\"colorbar\":{\"outlinewidth\":0,\"ticks\":\"\"}}}],\"scatterpolar\":[{\"type\":\"scatterpolar\",\"marker\":{\"colorbar\":{\"outlinewidth\":0,\"ticks\":\"\"}}}],\"histogram\":[{\"marker\":{\"pattern\":{\"fillmode\":\"overlay\",\"size\":10,\"solidity\":0.2}},\"type\":\"histogram\"}],\"scattergl\":[{\"type\":\"scattergl\",\"marker\":{\"colorbar\":{\"outlinewidth\":0,\"ticks\":\"\"}}}],\"scatter3d\":[{\"type\":\"scatter3d\",\"line\":{\"colorbar\":{\"outlinewidth\":0,\"ticks\":\"\"}},\"marker\":{\"colorbar\":{\"outlinewidth\":0,\"ticks\":\"\"}}}],\"scattermapbox\":[{\"type\":\"scattermapbox\",\"marker\":{\"colorbar\":{\"outlinewidth\":0,\"ticks\":\"\"}}}],\"scatterternary\":[{\"type\":\"scatterternary\",\"marker\":{\"colorbar\":{\"outlinewidth\":0,\"ticks\":\"\"}}}],\"scattercarpet\":[{\"type\":\"scattercarpet\",\"marker\":{\"colorbar\":{\"outlinewidth\":0,\"ticks\":\"\"}}}],\"carpet\":[{\"aaxis\":{\"endlinecolor\":\"#2a3f5f\",\"gridcolor\":\"white\",\"linecolor\":\"white\",\"minorgridcolor\":\"white\",\"startlinecolor\":\"#2a3f5f\"},\"baxis\":{\"endlinecolor\":\"#2a3f5f\",\"gridcolor\":\"white\",\"linecolor\":\"white\",\"minorgridcolor\":\"white\",\"startlinecolor\":\"#2a3f5f\"},\"type\":\"carpet\"}],\"table\":[{\"cells\":{\"fill\":{\"color\":\"#EBF0F8\"},\"line\":{\"color\":\"white\"}},\"header\":{\"fill\":{\"color\":\"#C8D4E3\"},\"line\":{\"color\":\"white\"}},\"type\":\"table\"}],\"barpolar\":[{\"marker\":{\"line\":{\"color\":\"#E5ECF6\",\"width\":0.5},\"pattern\":{\"fillmode\":\"overlay\",\"size\":10,\"solidity\":0.2}},\"type\":\"barpolar\"}],\"pie\":[{\"automargin\":true,\"type\":\"pie\"}]},\"layout\":{\"autotypenumbers\":\"strict\",\"colorway\":[\"#636efa\",\"#EF553B\",\"#00cc96\",\"#ab63fa\",\"#FFA15A\",\"#19d3f3\",\"#FF6692\",\"#B6E880\",\"#FF97FF\",\"#FECB52\"],\"font\":{\"color\":\"#2a3f5f\"},\"hovermode\":\"closest\",\"hoverlabel\":{\"align\":\"left\"},\"paper_bgcolor\":\"white\",\"plot_bgcolor\":\"#E5ECF6\",\"polar\":{\"bgcolor\":\"#E5ECF6\",\"angularaxis\":{\"gridcolor\":\"white\",\"linecolor\":\"white\",\"ticks\":\"\"},\"radialaxis\":{\"gridcolor\":\"white\",\"linecolor\":\"white\",\"ticks\":\"\"}},\"ternary\":{\"bgcolor\":\"#E5ECF6\",\"aaxis\":{\"gridcolor\":\"white\",\"linecolor\":\"white\",\"ticks\":\"\"},\"baxis\":{\"gridcolor\":\"white\",\"linecolor\":\"white\",\"ticks\":\"\"},\"caxis\":{\"gridcolor\":\"white\",\"linecolor\":\"white\",\"ticks\":\"\"}},\"coloraxis\":{\"colorbar\":{\"outlinewidth\":0,\"ticks\":\"\"}},\"colorscale\":{\"sequential\":[[0.0,\"#0d0887\"],[0.1111111111111111,\"#46039f\"],[0.2222222222222222,\"#7201a8\"],[0.3333333333333333,\"#9c179e\"],[0.4444444444444444,\"#bd3786\"],[0.5555555555555556,\"#d8576b\"],[0.6666666666666666,\"#ed7953\"],[0.7777777777777778,\"#fb9f3a\"],[0.8888888888888888,\"#fdca26\"],[1.0,\"#f0f921\"]],\"sequentialminus\":[[0.0,\"#0d0887\"],[0.1111111111111111,\"#46039f\"],[0.2222222222222222,\"#7201a8\"],[0.3333333333333333,\"#9c179e\"],[0.4444444444444444,\"#bd3786\"],[0.5555555555555556,\"#d8576b\"],[0.6666666666666666,\"#ed7953\"],[0.7777777777777778,\"#fb9f3a\"],[0.8888888888888888,\"#fdca26\"],[1.0,\"#f0f921\"]],\"diverging\":[[0,\"#8e0152\"],[0.1,\"#c51b7d\"],[0.2,\"#de77ae\"],[0.3,\"#f1b6da\"],[0.4,\"#fde0ef\"],[0.5,\"#f7f7f7\"],[0.6,\"#e6f5d0\"],[0.7,\"#b8e186\"],[0.8,\"#7fbc41\"],[0.9,\"#4d9221\"],[1,\"#276419\"]]},\"xaxis\":{\"gridcolor\":\"white\",\"linecolor\":\"white\",\"ticks\":\"\",\"title\":{\"standoff\":15},\"zerolinecolor\":\"white\",\"automargin\":true,\"zerolinewidth\":2},\"yaxis\":{\"gridcolor\":\"white\",\"linecolor\":\"white\",\"ticks\":\"\",\"title\":{\"standoff\":15},\"zerolinecolor\":\"white\",\"automargin\":true,\"zerolinewidth\":2},\"scene\":{\"xaxis\":{\"backgroundcolor\":\"#E5ECF6\",\"gridcolor\":\"white\",\"linecolor\":\"white\",\"showbackground\":true,\"ticks\":\"\",\"zerolinecolor\":\"white\",\"gridwidth\":2},\"yaxis\":{\"backgroundcolor\":\"#E5ECF6\",\"gridcolor\":\"white\",\"linecolor\":\"white\",\"showbackground\":true,\"ticks\":\"\",\"zerolinecolor\":\"white\",\"gridwidth\":2},\"zaxis\":{\"backgroundcolor\":\"#E5ECF6\",\"gridcolor\":\"white\",\"linecolor\":\"white\",\"showbackground\":true,\"ticks\":\"\",\"zerolinecolor\":\"white\",\"gridwidth\":2}},\"shapedefaults\":{\"line\":{\"color\":\"#2a3f5f\"}},\"annotationdefaults\":{\"arrowcolor\":\"#2a3f5f\",\"arrowhead\":0,\"arrowwidth\":1},\"geo\":{\"bgcolor\":\"white\",\"landcolor\":\"#E5ECF6\",\"subunitcolor\":\"white\",\"showland\":true,\"showlakes\":true,\"lakecolor\":\"white\"},\"title\":{\"x\":0.05},\"mapbox\":{\"style\":\"light\"}}}},                        {\"responsive\": true}                    ).then(function(){\n",
       "                            \n",
       "var gd = document.getElementById('8b64edd8-644f-49d1-9381-047f09b6eb91');\n",
       "var x = new MutationObserver(function (mutations, observer) {{\n",
       "        var display = window.getComputedStyle(gd).display;\n",
       "        if (!display || display === 'none') {{\n",
       "            console.log([gd, 'removed!']);\n",
       "            Plotly.purge(gd);\n",
       "            observer.disconnect();\n",
       "        }}\n",
       "}});\n",
       "\n",
       "// Listen for the removal of the full notebook cells\n",
       "var notebookContainer = gd.closest('#notebook-container');\n",
       "if (notebookContainer) {{\n",
       "    x.observe(notebookContainer, {childList: true});\n",
       "}}\n",
       "\n",
       "// Listen for the clearing of the current output cell\n",
       "var outputEl = gd.closest('.output');\n",
       "if (outputEl) {{\n",
       "    x.observe(outputEl, {childList: true});\n",
       "}}\n",
       "\n",
       "                        })                };                });            </script>        </div>"
      ]
     },
     "metadata": {},
     "output_type": "display_data"
    }
   ],
   "source": [
    "plot_parallel_coordinate (study_xgb ,  target_name = \"F1-scaore\" )"
   ]
  },
  {
   "cell_type": "code",
   "execution_count": null,
   "id": "0221399b",
   "metadata": {},
   "outputs": [],
   "source": []
  },
  {
   "cell_type": "code",
   "execution_count": null,
   "id": "e58b33b4",
   "metadata": {},
   "outputs": [],
   "source": []
  },
  {
   "cell_type": "code",
   "execution_count": 744,
   "id": "4c19e595",
   "metadata": {
    "ExecuteTime": {
     "end_time": "2022-12-22T01:08:23.666255Z",
     "start_time": "2022-12-22T01:08:23.439074Z"
    }
   },
   "outputs": [
    {
     "data": {
      "application/vnd.plotly.v1+json": {
       "config": {
        "plotlyServerURL": "https://plot.ly"
       },
       "data": [
        {
         "marker": {
          "color": [
           0,
           1,
           2,
           3,
           4,
           5,
           6,
           7,
           8,
           9,
           10,
           11,
           12,
           13,
           14,
           15,
           16,
           17,
           18,
           19,
           20,
           21,
           22,
           23,
           24,
           25,
           26,
           27,
           28,
           29,
           30,
           31,
           32,
           33,
           34,
           35,
           36,
           37,
           38,
           39,
           40,
           41,
           42,
           43,
           44,
           45,
           46,
           47,
           48,
           49,
           50,
           51,
           52,
           53,
           54,
           55,
           56,
           57,
           58,
           59,
           60,
           61,
           62,
           63,
           64,
           65,
           66,
           67,
           68,
           69,
           70,
           71,
           72,
           73,
           74,
           75,
           76,
           77,
           78,
           79,
           80,
           81,
           82,
           83,
           84,
           85,
           86,
           87,
           88,
           89,
           90,
           91,
           92,
           93,
           94,
           95,
           96,
           97,
           98,
           99
          ],
          "colorbar": {
           "title": {
            "text": "Trial"
           },
           "x": 1,
           "xpad": 40
          },
          "colorscale": [
           [
            0,
            "rgb(247,251,255)"
           ],
           [
            0.125,
            "rgb(222,235,247)"
           ],
           [
            0.25,
            "rgb(198,219,239)"
           ],
           [
            0.375,
            "rgb(158,202,225)"
           ],
           [
            0.5,
            "rgb(107,174,214)"
           ],
           [
            0.625,
            "rgb(66,146,198)"
           ],
           [
            0.75,
            "rgb(33,113,181)"
           ],
           [
            0.875,
            "rgb(8,81,156)"
           ],
           [
            1,
            "rgb(8,48,107)"
           ]
          ],
          "line": {
           "color": "Grey",
           "width": 0.5
          },
          "showscale": true
         },
         "mode": "markers",
         "showlegend": false,
         "type": "scatter",
         "x": [
          0.945175000615857,
          0.9492144856878898,
          0.7244084104880744,
          0.9900547460292147,
          0.8902258775887049,
          0.886023391052349,
          0.9454638657196617,
          0.818183558589805,
          0.625031643966948,
          0.9417702665001773,
          0.7421825797869762,
          0.6150173996726871,
          0.6537701268797618,
          0.613867928115966,
          0.6640277626278456,
          0.6045617264062145,
          0.6481228668228063,
          0.6557774112436421,
          0.7602877334313254,
          0.707052133365497,
          0.7269997252336521,
          0.8005831287879739,
          0.7235775271311159,
          0.6328538761519631,
          0.63567338020531,
          0.7050551400203462,
          0.6084199522553827,
          0.6010536702553803,
          0.6258393823336794,
          0.6773645298964541,
          0.7280224533974466,
          0.6914601943698018,
          0.7531321531358173,
          0.7686689646208885,
          0.8326987730131528,
          0.7906354814193376,
          0.83326466267384,
          0.7746950259974548,
          0.9530643694126172,
          0.8495623279336875,
          0.7093096883083553,
          0.6206570657652412,
          0.8832217405573765,
          0.6048833220692463,
          0.741981544814908,
          0.6864703761903883,
          0.7526106728982511,
          0.6655511739636871,
          0.8625033285686781,
          0.6433951327337829,
          0.6331025390123589,
          0.6532708274130055,
          0.6532852341448193,
          0.6419617624022503,
          0.7008190125951047,
          0.7760190943446852,
          0.7261097651838168,
          0.6527990129269257,
          0.6509317394691925,
          0.7803566638195765,
          0.6348106745329977,
          0.6976103743391576,
          0.8678533369088064,
          0.624531486424559,
          0.8221357212510154,
          0.7454548829901727,
          0.9282370250657931,
          0.8334355240092944,
          0.7781618782345293,
          0.8026484923532466,
          0.8495188118767014,
          0.9087342634354817,
          0.9798968532311095,
          0.863476179480584,
          0.9060208989150643,
          0.881672545745164,
          0.7831910452005604,
          0.8578600385638624,
          0.8432753964269883,
          0.7843793015773883,
          0.8067127594757116,
          0.8066406297635833,
          0.840183414348794,
          0.7376187296530563,
          0.880209807436704,
          0.9020480090778498,
          0.8427557771861603,
          0.6555460761347784,
          0.9427803162528566,
          0.7971910072740888,
          0.9687511015893513,
          0.8486163061564798,
          0.8845956907378608,
          0.8566506488704101,
          0.9278113892274569,
          0.9893109529334527,
          0.8833951583403191,
          0.7416312446413494,
          0.8542030598182102,
          0.8750360482926371
         ],
         "xaxis": "x",
         "y": [
          0.73224,
          0.71933,
          0.73688,
          0.73594,
          0.728,
          0.68933,
          0.70914,
          0.71962,
          0.7368,
          0.717,
          0.73323,
          0.71993,
          0.73359,
          0.73779,
          0.73854,
          0.73565,
          0.71329,
          0.72339,
          0.73552,
          0.72085,
          0.73686,
          0.7347,
          0.72874,
          0.73854,
          0.71555,
          0.7243,
          0.73753,
          0.73377,
          0.73209,
          0.73781,
          0.72491,
          0.73837,
          0.73853,
          0.73193,
          0.73911,
          0.73814,
          0.72193,
          0.71094,
          0.73644,
          0.72725,
          0.71977,
          0.73297,
          0.7209,
          0.7348,
          0.73183,
          0.74043,
          0.72118,
          0.71824,
          0.7338,
          0.7396,
          0.73902,
          0.73376,
          0.7371,
          0.73643,
          0.72546,
          0.73709,
          0.73473,
          0.73631,
          0.72134,
          0.73556,
          0.73495,
          0.73528,
          0.71737,
          0.73288,
          0.73958,
          0.7388,
          0.7203,
          0.73863,
          0.73807,
          0.73479,
          0.73955,
          0.74062,
          0.73668,
          0.73711,
          0.72996,
          0.73808,
          0.71984,
          0.73669,
          0.71779,
          0.73745,
          0.73763,
          0.73746,
          0.73531,
          0.73705,
          0.73922,
          0.7288,
          0.73702,
          0.72981,
          0.73402,
          0.73818,
          0.73405,
          0.73776,
          0.73767,
          0.73642,
          0.73682,
          0.72692,
          0.72468,
          0.73527,
          0.73729,
          0.72128
         ],
         "yaxis": "y"
        },
        {
         "marker": {
          "color": [
           0,
           1,
           2,
           3,
           4,
           5,
           6,
           7,
           8,
           9,
           10,
           11,
           12,
           13,
           14,
           15,
           16,
           17,
           18,
           19,
           20,
           21,
           22,
           23,
           24,
           25,
           26,
           27,
           28,
           29,
           30,
           31,
           32,
           33,
           34,
           35,
           36,
           37,
           38,
           39,
           40,
           41,
           42,
           43,
           44,
           45,
           46,
           47,
           48,
           49,
           50,
           51,
           52,
           53,
           54,
           55,
           56,
           57,
           58,
           59,
           60,
           61,
           62,
           63,
           64,
           65,
           66,
           67,
           68,
           69,
           70,
           71,
           72,
           73,
           74,
           75,
           76,
           77,
           78,
           79,
           80,
           81,
           82,
           83,
           84,
           85,
           86,
           87,
           88,
           89,
           90,
           91,
           92,
           93,
           94,
           95,
           96,
           97,
           98,
           99
          ],
          "colorbar": {
           "title": {
            "text": "Trial"
           },
           "x": 1,
           "xpad": 40
          },
          "colorscale": [
           [
            0,
            "rgb(247,251,255)"
           ],
           [
            0.125,
            "rgb(222,235,247)"
           ],
           [
            0.25,
            "rgb(198,219,239)"
           ],
           [
            0.375,
            "rgb(158,202,225)"
           ],
           [
            0.5,
            "rgb(107,174,214)"
           ],
           [
            0.625,
            "rgb(66,146,198)"
           ],
           [
            0.75,
            "rgb(33,113,181)"
           ],
           [
            0.875,
            "rgb(8,81,156)"
           ],
           [
            1,
            "rgb(8,48,107)"
           ]
          ],
          "line": {
           "color": "Grey",
           "width": 0.5
          },
          "showscale": false
         },
         "mode": "markers",
         "showlegend": false,
         "type": "scatter",
         "x": [
          "error",
          "error",
          "error",
          "error",
          "error",
          "error",
          "error",
          "error",
          "error",
          "error",
          "error",
          "error",
          "error",
          "error",
          "error",
          "error",
          "error",
          "error",
          "error",
          "error",
          "error",
          "error",
          "error",
          "error",
          "error",
          "error",
          "error",
          "error",
          "error",
          "error",
          "error",
          "error",
          "error",
          "error",
          "error",
          "error",
          "error",
          "error",
          "error",
          "error",
          "error",
          "error",
          "error",
          "error",
          "error",
          "error",
          "error",
          "error",
          "error",
          "error",
          "error",
          "error",
          "error",
          "error",
          "error",
          "error",
          "error",
          "error",
          "error",
          "error",
          "error",
          "error",
          "error",
          "error",
          "error",
          "error",
          "error",
          "error",
          "error",
          "error",
          "error",
          "error",
          "error",
          "error",
          "error",
          "error",
          "error",
          "error",
          "error",
          "error",
          "error",
          "error",
          "error",
          "error",
          "error",
          "error",
          "error",
          "error",
          "error",
          "error",
          "error",
          "error",
          "error",
          "error",
          "error",
          "error",
          "error",
          "error",
          "error",
          "error"
         ],
         "xaxis": "x2",
         "y": [
          0.73224,
          0.71933,
          0.73688,
          0.73594,
          0.728,
          0.68933,
          0.70914,
          0.71962,
          0.7368,
          0.717,
          0.73323,
          0.71993,
          0.73359,
          0.73779,
          0.73854,
          0.73565,
          0.71329,
          0.72339,
          0.73552,
          0.72085,
          0.73686,
          0.7347,
          0.72874,
          0.73854,
          0.71555,
          0.7243,
          0.73753,
          0.73377,
          0.73209,
          0.73781,
          0.72491,
          0.73837,
          0.73853,
          0.73193,
          0.73911,
          0.73814,
          0.72193,
          0.71094,
          0.73644,
          0.72725,
          0.71977,
          0.73297,
          0.7209,
          0.7348,
          0.73183,
          0.74043,
          0.72118,
          0.71824,
          0.7338,
          0.7396,
          0.73902,
          0.73376,
          0.7371,
          0.73643,
          0.72546,
          0.73709,
          0.73473,
          0.73631,
          0.72134,
          0.73556,
          0.73495,
          0.73528,
          0.71737,
          0.73288,
          0.73958,
          0.7388,
          0.7203,
          0.73863,
          0.73807,
          0.73479,
          0.73955,
          0.74062,
          0.73668,
          0.73711,
          0.72996,
          0.73808,
          0.71984,
          0.73669,
          0.71779,
          0.73745,
          0.73763,
          0.73746,
          0.73531,
          0.73705,
          0.73922,
          0.7288,
          0.73702,
          0.72981,
          0.73402,
          0.73818,
          0.73405,
          0.73776,
          0.73767,
          0.73642,
          0.73682,
          0.72692,
          0.72468,
          0.73527,
          0.73729,
          0.72128
         ],
         "yaxis": "y2"
        },
        {
         "marker": {
          "color": [
           0,
           1,
           2,
           3,
           4,
           5,
           6,
           7,
           8,
           9,
           10,
           11,
           12,
           13,
           14,
           15,
           16,
           17,
           18,
           19,
           20,
           21,
           22,
           23,
           24,
           25,
           26,
           27,
           28,
           29,
           30,
           31,
           32,
           33,
           34,
           35,
           36,
           37,
           38,
           39,
           40,
           41,
           42,
           43,
           44,
           45,
           46,
           47,
           48,
           49,
           50,
           51,
           52,
           53,
           54,
           55,
           56,
           57,
           58,
           59,
           60,
           61,
           62,
           63,
           64,
           65,
           66,
           67,
           68,
           69,
           70,
           71,
           72,
           73,
           74,
           75,
           76,
           77,
           78,
           79,
           80,
           81,
           82,
           83,
           84,
           85,
           86,
           87,
           88,
           89,
           90,
           91,
           92,
           93,
           94,
           95,
           96,
           97,
           98,
           99
          ],
          "colorbar": {
           "title": {
            "text": "Trial"
           },
           "x": 1,
           "xpad": 40
          },
          "colorscale": [
           [
            0,
            "rgb(247,251,255)"
           ],
           [
            0.125,
            "rgb(222,235,247)"
           ],
           [
            0.25,
            "rgb(198,219,239)"
           ],
           [
            0.375,
            "rgb(158,202,225)"
           ],
           [
            0.5,
            "rgb(107,174,214)"
           ],
           [
            0.625,
            "rgb(66,146,198)"
           ],
           [
            0.75,
            "rgb(33,113,181)"
           ],
           [
            0.875,
            "rgb(8,81,156)"
           ],
           [
            1,
            "rgb(8,48,107)"
           ]
          ],
          "line": {
           "color": "Grey",
           "width": 0.5
          },
          "showscale": false
         },
         "mode": "markers",
         "showlegend": false,
         "type": "scatter",
         "x": [
          0.03659790922415695,
          0.041670932721309194,
          0.0053033919968160466,
          0.03494746340955236,
          0.045040866518459975,
          0.0904581803019787,
          0.08241272890478765,
          0.025976715034300633,
          0.01981646682102825,
          0.04093848315917329,
          0.004515100360714602,
          0.041202358244443085,
          0.032279798482565826,
          0.005381238834873724,
          0.00700230706640947,
          0.010794671364863652,
          0.0013044177086841986,
          0.03250508535916006,
          0.01968078229975417,
          0.04011795154326336,
          0.013657353267642286,
          0.014034264356266351,
          0.010203112419535691,
          0.010788277107177186,
          0.027488136331564307,
          0.01279314383859732,
          0.009242520707132792,
          0.01675180788815271,
          0.05504271562039689,
          0.007674734109672982,
          0.0034607643023871646,
          0.013524297927253803,
          0.00805635444903045,
          0.02309351343318462,
          0.014628660387959905,
          0.012021437889057886,
          0.009752039318684517,
          0.0003800937092533919,
          0.012033386792365017,
          0.0360012822700511,
          0.03337937210683125,
          0.004506415159389139,
          0.0014499004500881738,
          0.027774446239853194,
          0.006344586536458653,
          0.019556213945346332,
          0.009495474055978694,
          0.004703120492604844,
          0.043058996070819415,
          0.04940749718784734,
          0.05701297252283363,
          0.06852920849298372,
          0.044103104708650386,
          0.0397785455482278,
          0.05161857083586573,
          0.058023764326603396,
          0.017900370467888817,
          0.06398568647733831,
          0.024181455296280234,
          0.06122342469462571,
          0.05895985463115207,
          0.024692888614707937,
          0.0007037021846400329,
          0.07388810668834392,
          0.022622587084418333,
          0.04848999162715016,
          0.010302361429195788,
          0.07433205973625567,
          0.05924894109929573,
          0.04602737035927835,
          0.06882990667770328,
          0.041081432775325694,
          0.04432215248397155,
          0.03462559487467162,
          0.01937588766441828,
          0.0578021615208021,
          0.009145358039874638,
          0.03726751928995349,
          0.008846127435849421,
          0.039969541629619805,
          0.023988508018904085,
          0.08411204567725405,
          0.06619267526143635,
          0.06222726253180632,
          0.09431656240255366,
          0.03405390655914106,
          0.06531423197092213,
          0.03973022926529115,
          0.08744536556971481,
          0.09879951365023681,
          0.09242225030207558,
          0.08357025343533526,
          0.016048191473543326,
          0.06375284136666776,
          0.0629012212221286,
          0.06404775051040908,
          0.09301933841416292,
          0.0309539441709077,
          0.09926806012277983,
          0.07697190566396911
         ],
         "xaxis": "x3",
         "y": [
          0.73224,
          0.71933,
          0.73688,
          0.73594,
          0.728,
          0.68933,
          0.70914,
          0.71962,
          0.7368,
          0.717,
          0.73323,
          0.71993,
          0.73359,
          0.73779,
          0.73854,
          0.73565,
          0.71329,
          0.72339,
          0.73552,
          0.72085,
          0.73686,
          0.7347,
          0.72874,
          0.73854,
          0.71555,
          0.7243,
          0.73753,
          0.73377,
          0.73209,
          0.73781,
          0.72491,
          0.73837,
          0.73853,
          0.73193,
          0.73911,
          0.73814,
          0.72193,
          0.71094,
          0.73644,
          0.72725,
          0.71977,
          0.73297,
          0.7209,
          0.7348,
          0.73183,
          0.74043,
          0.72118,
          0.71824,
          0.7338,
          0.7396,
          0.73902,
          0.73376,
          0.7371,
          0.73643,
          0.72546,
          0.73709,
          0.73473,
          0.73631,
          0.72134,
          0.73556,
          0.73495,
          0.73528,
          0.71737,
          0.73288,
          0.73958,
          0.7388,
          0.7203,
          0.73863,
          0.73807,
          0.73479,
          0.73955,
          0.74062,
          0.73668,
          0.73711,
          0.72996,
          0.73808,
          0.71984,
          0.73669,
          0.71779,
          0.73745,
          0.73763,
          0.73746,
          0.73531,
          0.73705,
          0.73922,
          0.7288,
          0.73702,
          0.72981,
          0.73402,
          0.73818,
          0.73405,
          0.73776,
          0.73767,
          0.73642,
          0.73682,
          0.72692,
          0.72468,
          0.73527,
          0.73729,
          0.72128
         ],
         "yaxis": "y3"
        },
        {
         "marker": {
          "color": [
           0,
           1,
           2,
           3,
           4,
           5,
           6,
           7,
           8,
           9,
           10,
           11,
           12,
           13,
           14,
           15,
           16,
           17,
           18,
           19,
           20,
           21,
           22,
           23,
           24,
           25,
           26,
           27,
           28,
           29,
           30,
           31,
           32,
           33,
           34,
           35,
           36,
           37,
           38,
           39,
           40,
           41,
           42,
           43,
           44,
           45,
           46,
           47,
           48,
           49,
           50,
           51,
           52,
           53,
           54,
           55,
           56,
           57,
           58,
           59,
           60,
           61,
           62,
           63,
           64,
           65,
           66,
           67,
           68,
           69,
           70,
           71,
           72,
           73,
           74,
           75,
           76,
           77,
           78,
           79,
           80,
           81,
           82,
           83,
           84,
           85,
           86,
           87,
           88,
           89,
           90,
           91,
           92,
           93,
           94,
           95,
           96,
           97,
           98,
           99
          ],
          "colorbar": {
           "title": {
            "text": "Trial"
           },
           "x": 1,
           "xpad": 40
          },
          "colorscale": [
           [
            0,
            "rgb(247,251,255)"
           ],
           [
            0.125,
            "rgb(222,235,247)"
           ],
           [
            0.25,
            "rgb(198,219,239)"
           ],
           [
            0.375,
            "rgb(158,202,225)"
           ],
           [
            0.5,
            "rgb(107,174,214)"
           ],
           [
            0.625,
            "rgb(66,146,198)"
           ],
           [
            0.75,
            "rgb(33,113,181)"
           ],
           [
            0.875,
            "rgb(8,81,156)"
           ],
           [
            1,
            "rgb(8,48,107)"
           ]
          ],
          "line": {
           "color": "Grey",
           "width": 0.5
          },
          "showscale": false
         },
         "mode": "markers",
         "showlegend": false,
         "type": "scatter",
         "x": [
          4,
          5,
          9,
          4,
          6,
          10,
          10,
          5,
          5,
          8,
          9,
          5,
          3,
          7,
          7,
          8,
          4,
          7,
          9,
          7,
          10,
          7,
          10,
          9,
          10,
          7,
          7,
          3,
          7,
          8,
          7,
          7,
          7,
          7,
          7,
          9,
          3,
          6,
          5,
          8,
          2,
          10,
          7,
          10,
          5,
          5,
          5,
          5,
          4,
          7,
          6,
          6,
          8,
          6,
          6,
          6,
          6,
          5,
          9,
          10,
          8,
          3,
          8,
          5,
          7,
          7,
          8,
          7,
          6,
          8,
          6,
          6,
          7,
          5,
          4,
          5,
          7,
          8,
          7,
          7,
          7,
          6,
          7,
          7,
          8,
          7,
          7,
          7,
          6,
          8,
          9,
          7,
          8,
          7,
          5,
          5,
          8,
          4,
          10,
          6
         ],
         "xaxis": "x4",
         "y": [
          0.73224,
          0.71933,
          0.73688,
          0.73594,
          0.728,
          0.68933,
          0.70914,
          0.71962,
          0.7368,
          0.717,
          0.73323,
          0.71993,
          0.73359,
          0.73779,
          0.73854,
          0.73565,
          0.71329,
          0.72339,
          0.73552,
          0.72085,
          0.73686,
          0.7347,
          0.72874,
          0.73854,
          0.71555,
          0.7243,
          0.73753,
          0.73377,
          0.73209,
          0.73781,
          0.72491,
          0.73837,
          0.73853,
          0.73193,
          0.73911,
          0.73814,
          0.72193,
          0.71094,
          0.73644,
          0.72725,
          0.71977,
          0.73297,
          0.7209,
          0.7348,
          0.73183,
          0.74043,
          0.72118,
          0.71824,
          0.7338,
          0.7396,
          0.73902,
          0.73376,
          0.7371,
          0.73643,
          0.72546,
          0.73709,
          0.73473,
          0.73631,
          0.72134,
          0.73556,
          0.73495,
          0.73528,
          0.71737,
          0.73288,
          0.73958,
          0.7388,
          0.7203,
          0.73863,
          0.73807,
          0.73479,
          0.73955,
          0.74062,
          0.73668,
          0.73711,
          0.72996,
          0.73808,
          0.71984,
          0.73669,
          0.71779,
          0.73745,
          0.73763,
          0.73746,
          0.73531,
          0.73705,
          0.73922,
          0.7288,
          0.73702,
          0.72981,
          0.73402,
          0.73818,
          0.73405,
          0.73776,
          0.73767,
          0.73642,
          0.73682,
          0.72692,
          0.72468,
          0.73527,
          0.73729,
          0.72128
         ],
         "yaxis": "y4"
        },
        {
         "marker": {
          "color": [
           0,
           1,
           2,
           3,
           4,
           5,
           6,
           7,
           8,
           9,
           10,
           11,
           12,
           13,
           14,
           15,
           16,
           17,
           18,
           19,
           20,
           21,
           22,
           23,
           24,
           25,
           26,
           27,
           28,
           29,
           30,
           31,
           32,
           33,
           34,
           35,
           36,
           37,
           38,
           39,
           40,
           41,
           42,
           43,
           44,
           45,
           46,
           47,
           48,
           49,
           50,
           51,
           52,
           53,
           54,
           55,
           56,
           57,
           58,
           59,
           60,
           61,
           62,
           63,
           64,
           65,
           66,
           67,
           68,
           69,
           70,
           71,
           72,
           73,
           74,
           75,
           76,
           77,
           78,
           79,
           80,
           81,
           82,
           83,
           84,
           85,
           86,
           87,
           88,
           89,
           90,
           91,
           92,
           93,
           94,
           95,
           96,
           97,
           98,
           99
          ],
          "colorbar": {
           "title": {
            "text": "Trial"
           },
           "x": 1,
           "xpad": 40
          },
          "colorscale": [
           [
            0,
            "rgb(247,251,255)"
           ],
           [
            0.125,
            "rgb(222,235,247)"
           ],
           [
            0.25,
            "rgb(198,219,239)"
           ],
           [
            0.375,
            "rgb(158,202,225)"
           ],
           [
            0.5,
            "rgb(107,174,214)"
           ],
           [
            0.625,
            "rgb(66,146,198)"
           ],
           [
            0.75,
            "rgb(33,113,181)"
           ],
           [
            0.875,
            "rgb(8,81,156)"
           ],
           [
            1,
            "rgb(8,48,107)"
           ]
          ],
          "line": {
           "color": "Grey",
           "width": 0.5
          },
          "showscale": false
         },
         "mode": "markers",
         "showlegend": false,
         "type": "scatter",
         "x": [
          7,
          2,
          8,
          4,
          6,
          10,
          9,
          6,
          8,
          2,
          10,
          10,
          5,
          6,
          4,
          4,
          2,
          9,
          1,
          2,
          6,
          7,
          9,
          6,
          6,
          2,
          4,
          5,
          6,
          4,
          6,
          6,
          6,
          7,
          8,
          8,
          7,
          7,
          7,
          9,
          4,
          6,
          8,
          8,
          6,
          10,
          9,
          10,
          9,
          10,
          10,
          8,
          10,
          10,
          9,
          10,
          10,
          10,
          10,
          8,
          10,
          9,
          9,
          10,
          7,
          10,
          10,
          10,
          10,
          5,
          9,
          10,
          9,
          10,
          10,
          6,
          10,
          7,
          7,
          8,
          6,
          9,
          9,
          9,
          7,
          10,
          6,
          10,
          7,
          6,
          7,
          10,
          9,
          9,
          10,
          10,
          8,
          10,
          7,
          9
         ],
         "xaxis": "x5",
         "y": [
          0.73224,
          0.71933,
          0.73688,
          0.73594,
          0.728,
          0.68933,
          0.70914,
          0.71962,
          0.7368,
          0.717,
          0.73323,
          0.71993,
          0.73359,
          0.73779,
          0.73854,
          0.73565,
          0.71329,
          0.72339,
          0.73552,
          0.72085,
          0.73686,
          0.7347,
          0.72874,
          0.73854,
          0.71555,
          0.7243,
          0.73753,
          0.73377,
          0.73209,
          0.73781,
          0.72491,
          0.73837,
          0.73853,
          0.73193,
          0.73911,
          0.73814,
          0.72193,
          0.71094,
          0.73644,
          0.72725,
          0.71977,
          0.73297,
          0.7209,
          0.7348,
          0.73183,
          0.74043,
          0.72118,
          0.71824,
          0.7338,
          0.7396,
          0.73902,
          0.73376,
          0.7371,
          0.73643,
          0.72546,
          0.73709,
          0.73473,
          0.73631,
          0.72134,
          0.73556,
          0.73495,
          0.73528,
          0.71737,
          0.73288,
          0.73958,
          0.7388,
          0.7203,
          0.73863,
          0.73807,
          0.73479,
          0.73955,
          0.74062,
          0.73668,
          0.73711,
          0.72996,
          0.73808,
          0.71984,
          0.73669,
          0.71779,
          0.73745,
          0.73763,
          0.73746,
          0.73531,
          0.73705,
          0.73922,
          0.7288,
          0.73702,
          0.72981,
          0.73402,
          0.73818,
          0.73405,
          0.73776,
          0.73767,
          0.73642,
          0.73682,
          0.72692,
          0.72468,
          0.73527,
          0.73729,
          0.72128
         ],
         "yaxis": "y5"
        },
        {
         "marker": {
          "color": [
           0,
           1,
           2,
           3,
           4,
           5,
           6,
           7,
           8,
           9,
           10,
           11,
           12,
           13,
           14,
           15,
           16,
           17,
           18,
           19,
           20,
           21,
           22,
           23,
           24,
           25,
           26,
           27,
           28,
           29,
           30,
           31,
           32,
           33,
           34,
           35,
           36,
           37,
           38,
           39,
           40,
           41,
           42,
           43,
           44,
           45,
           46,
           47,
           48,
           49,
           50,
           51,
           52,
           53,
           54,
           55,
           56,
           57,
           58,
           59,
           60,
           61,
           62,
           63,
           64,
           65,
           66,
           67,
           68,
           69,
           70,
           71,
           72,
           73,
           74,
           75,
           76,
           77,
           78,
           79,
           80,
           81,
           82,
           83,
           84,
           85,
           86,
           87,
           88,
           89,
           90,
           91,
           92,
           93,
           94,
           95,
           96,
           97,
           98,
           99
          ],
          "colorbar": {
           "title": {
            "text": "Trial"
           },
           "x": 1,
           "xpad": 40
          },
          "colorscale": [
           [
            0,
            "rgb(247,251,255)"
           ],
           [
            0.125,
            "rgb(222,235,247)"
           ],
           [
            0.25,
            "rgb(198,219,239)"
           ],
           [
            0.375,
            "rgb(158,202,225)"
           ],
           [
            0.5,
            "rgb(107,174,214)"
           ],
           [
            0.625,
            "rgb(66,146,198)"
           ],
           [
            0.75,
            "rgb(33,113,181)"
           ],
           [
            0.875,
            "rgb(8,81,156)"
           ],
           [
            1,
            "rgb(8,48,107)"
           ]
          ],
          "line": {
           "color": "Grey",
           "width": 0.5
          },
          "showscale": false
         },
         "mode": "markers",
         "showlegend": false,
         "type": "scatter",
         "x": [
          300,
          1200,
          900,
          1100,
          1100,
          1100,
          600,
          100,
          700,
          900,
          800,
          900,
          900,
          900,
          900,
          900,
          700,
          1500,
          500,
          1100,
          600,
          1000,
          900,
          800,
          1200,
          1000,
          500,
          1200,
          700,
          800,
          600,
          800,
          900,
          1000,
          1100,
          1300,
          900,
          1000,
          1500,
          1200,
          300,
          700,
          800,
          700,
          800,
          600,
          400,
          600,
          900,
          200,
          300,
          100,
          100,
          200,
          700,
          500,
          1000,
          300,
          100,
          300,
          500,
          800,
          1300,
          500,
          500,
          200,
          200,
          100,
          300,
          600,
          200,
          300,
          200,
          400,
          300,
          300,
          100,
          600,
          100,
          500,
          400,
          200,
          100,
          200,
          100,
          100,
          300,
          100,
          100,
          100,
          400,
          200,
          800,
          100,
          200,
          400,
          300,
          800,
          100,
          700
         ],
         "xaxis": "x6",
         "y": [
          0.73224,
          0.71933,
          0.73688,
          0.73594,
          0.728,
          0.68933,
          0.70914,
          0.71962,
          0.7368,
          0.717,
          0.73323,
          0.71993,
          0.73359,
          0.73779,
          0.73854,
          0.73565,
          0.71329,
          0.72339,
          0.73552,
          0.72085,
          0.73686,
          0.7347,
          0.72874,
          0.73854,
          0.71555,
          0.7243,
          0.73753,
          0.73377,
          0.73209,
          0.73781,
          0.72491,
          0.73837,
          0.73853,
          0.73193,
          0.73911,
          0.73814,
          0.72193,
          0.71094,
          0.73644,
          0.72725,
          0.71977,
          0.73297,
          0.7209,
          0.7348,
          0.73183,
          0.74043,
          0.72118,
          0.71824,
          0.7338,
          0.7396,
          0.73902,
          0.73376,
          0.7371,
          0.73643,
          0.72546,
          0.73709,
          0.73473,
          0.73631,
          0.72134,
          0.73556,
          0.73495,
          0.73528,
          0.71737,
          0.73288,
          0.73958,
          0.7388,
          0.7203,
          0.73863,
          0.73807,
          0.73479,
          0.73955,
          0.74062,
          0.73668,
          0.73711,
          0.72996,
          0.73808,
          0.71984,
          0.73669,
          0.71779,
          0.73745,
          0.73763,
          0.73746,
          0.73531,
          0.73705,
          0.73922,
          0.7288,
          0.73702,
          0.72981,
          0.73402,
          0.73818,
          0.73405,
          0.73776,
          0.73767,
          0.73642,
          0.73682,
          0.72692,
          0.72468,
          0.73527,
          0.73729,
          0.72128
         ],
         "yaxis": "y6"
        },
        {
         "marker": {
          "color": [
           0,
           1,
           2,
           3,
           4,
           5,
           6,
           7,
           8,
           9,
           10,
           11,
           12,
           13,
           14,
           15,
           16,
           17,
           18,
           19,
           20,
           21,
           22,
           23,
           24,
           25,
           26,
           27,
           28,
           29,
           30,
           31,
           32,
           33,
           34,
           35,
           36,
           37,
           38,
           39,
           40,
           41,
           42,
           43,
           44,
           45,
           46,
           47,
           48,
           49,
           50,
           51,
           52,
           53,
           54,
           55,
           56,
           57,
           58,
           59,
           60,
           61,
           62,
           63,
           64,
           65,
           66,
           67,
           68,
           69,
           70,
           71,
           72,
           73,
           74,
           75,
           76,
           77,
           78,
           79,
           80,
           81,
           82,
           83,
           84,
           85,
           86,
           87,
           88,
           89,
           90,
           91,
           92,
           93,
           94,
           95,
           96,
           97,
           98,
           99
          ],
          "colorbar": {
           "title": {
            "text": "Trial"
           },
           "x": 1,
           "xpad": 40
          },
          "colorscale": [
           [
            0,
            "rgb(247,251,255)"
           ],
           [
            0.125,
            "rgb(222,235,247)"
           ],
           [
            0.25,
            "rgb(198,219,239)"
           ],
           [
            0.375,
            "rgb(158,202,225)"
           ],
           [
            0.5,
            "rgb(107,174,214)"
           ],
           [
            0.625,
            "rgb(66,146,198)"
           ],
           [
            0.75,
            "rgb(33,113,181)"
           ],
           [
            0.875,
            "rgb(8,81,156)"
           ],
           [
            1,
            "rgb(8,48,107)"
           ]
          ],
          "line": {
           "color": "Grey",
           "width": 0.5
          },
          "showscale": false
         },
         "mode": "markers",
         "showlegend": false,
         "type": "scatter",
         "x": [
          -1,
          -1,
          -1,
          -1,
          -1,
          -1,
          -1,
          -1,
          -1,
          -1,
          -1,
          -1,
          -1,
          -1,
          -1,
          -1,
          -1,
          -1,
          -1,
          -1,
          -1,
          -1,
          -1,
          -1,
          -1,
          -1,
          -1,
          -1,
          -1,
          -1,
          -1,
          -1,
          -1,
          -1,
          -1,
          -1,
          -1,
          -1,
          -1,
          -1,
          -1,
          -1,
          -1,
          -1,
          -1,
          -1,
          -1,
          -1,
          -1,
          -1,
          -1,
          -1,
          -1,
          -1,
          -1,
          -1,
          -1,
          -1,
          -1,
          -1,
          -1,
          -1,
          -1,
          -1,
          -1,
          -1,
          -1,
          -1,
          -1,
          -1,
          -1,
          -1,
          -1,
          -1,
          -1,
          -1,
          -1,
          -1,
          -1,
          -1,
          -1,
          -1,
          -1,
          -1,
          -1,
          -1,
          -1,
          -1,
          -1,
          -1,
          -1,
          -1,
          -1,
          -1,
          -1,
          -1,
          -1,
          -1,
          -1,
          -1
         ],
         "xaxis": "x7",
         "y": [
          0.73224,
          0.71933,
          0.73688,
          0.73594,
          0.728,
          0.68933,
          0.70914,
          0.71962,
          0.7368,
          0.717,
          0.73323,
          0.71993,
          0.73359,
          0.73779,
          0.73854,
          0.73565,
          0.71329,
          0.72339,
          0.73552,
          0.72085,
          0.73686,
          0.7347,
          0.72874,
          0.73854,
          0.71555,
          0.7243,
          0.73753,
          0.73377,
          0.73209,
          0.73781,
          0.72491,
          0.73837,
          0.73853,
          0.73193,
          0.73911,
          0.73814,
          0.72193,
          0.71094,
          0.73644,
          0.72725,
          0.71977,
          0.73297,
          0.7209,
          0.7348,
          0.73183,
          0.74043,
          0.72118,
          0.71824,
          0.7338,
          0.7396,
          0.73902,
          0.73376,
          0.7371,
          0.73643,
          0.72546,
          0.73709,
          0.73473,
          0.73631,
          0.72134,
          0.73556,
          0.73495,
          0.73528,
          0.71737,
          0.73288,
          0.73958,
          0.7388,
          0.7203,
          0.73863,
          0.73807,
          0.73479,
          0.73955,
          0.74062,
          0.73668,
          0.73711,
          0.72996,
          0.73808,
          0.71984,
          0.73669,
          0.71779,
          0.73745,
          0.73763,
          0.73746,
          0.73531,
          0.73705,
          0.73922,
          0.7288,
          0.73702,
          0.72981,
          0.73402,
          0.73818,
          0.73405,
          0.73776,
          0.73767,
          0.73642,
          0.73682,
          0.72692,
          0.72468,
          0.73527,
          0.73729,
          0.72128
         ],
         "yaxis": "y7"
        },
        {
         "marker": {
          "color": [
           0,
           1,
           2,
           3,
           4,
           5,
           6,
           7,
           8,
           9,
           10,
           11,
           12,
           13,
           14,
           15,
           16,
           17,
           18,
           19,
           20,
           21,
           22,
           23,
           24,
           25,
           26,
           27,
           28,
           29,
           30,
           31,
           32,
           33,
           34,
           35,
           36,
           37,
           38,
           39,
           40,
           41,
           42,
           43,
           44,
           45,
           46,
           47,
           48,
           49,
           50,
           51,
           52,
           53,
           54,
           55,
           56,
           57,
           58,
           59,
           60,
           61,
           62,
           63,
           64,
           65,
           66,
           67,
           68,
           69,
           70,
           71,
           72,
           73,
           74,
           75,
           76,
           77,
           78,
           79,
           80,
           81,
           82,
           83,
           84,
           85,
           86,
           87,
           88,
           89,
           90,
           91,
           92,
           93,
           94,
           95,
           96,
           97,
           98,
           99
          ],
          "colorbar": {
           "title": {
            "text": "Trial"
           },
           "x": 1,
           "xpad": 40
          },
          "colorscale": [
           [
            0,
            "rgb(247,251,255)"
           ],
           [
            0.125,
            "rgb(222,235,247)"
           ],
           [
            0.25,
            "rgb(198,219,239)"
           ],
           [
            0.375,
            "rgb(158,202,225)"
           ],
           [
            0.5,
            "rgb(107,174,214)"
           ],
           [
            0.625,
            "rgb(66,146,198)"
           ],
           [
            0.75,
            "rgb(33,113,181)"
           ],
           [
            0.875,
            "rgb(8,81,156)"
           ],
           [
            1,
            "rgb(8,48,107)"
           ]
          ],
          "line": {
           "color": "Grey",
           "width": 0.5
          },
          "showscale": false
         },
         "mode": "markers",
         "showlegend": false,
         "type": "scatter",
         "x": [
          "binary:logistic",
          "binary:logistic",
          "binary:logistic",
          "binary:logistic",
          "binary:logistic",
          "binary:logistic",
          "binary:logistic",
          "binary:logistic",
          "binary:logistic",
          "binary:logistic",
          "binary:logistic",
          "binary:logistic",
          "binary:logistic",
          "binary:logistic",
          "binary:logistic",
          "binary:logistic",
          "binary:logistic",
          "binary:logistic",
          "binary:logistic",
          "binary:logistic",
          "binary:logistic",
          "binary:logistic",
          "binary:logistic",
          "binary:logistic",
          "binary:logistic",
          "binary:logistic",
          "binary:logistic",
          "binary:logistic",
          "binary:logistic",
          "binary:logistic",
          "binary:logistic",
          "binary:logistic",
          "binary:logistic",
          "binary:logistic",
          "binary:logistic",
          "binary:logistic",
          "binary:logistic",
          "binary:logistic",
          "binary:logistic",
          "binary:logistic",
          "binary:logistic",
          "binary:logistic",
          "binary:logistic",
          "binary:logistic",
          "binary:logistic",
          "binary:logistic",
          "binary:logistic",
          "binary:logistic",
          "binary:logistic",
          "binary:logistic",
          "binary:logistic",
          "binary:logistic",
          "binary:logistic",
          "binary:logistic",
          "binary:logistic",
          "binary:logistic",
          "binary:logistic",
          "binary:logistic",
          "binary:logistic",
          "binary:logistic",
          "binary:logistic",
          "binary:logistic",
          "binary:logistic",
          "binary:logistic",
          "binary:logistic",
          "binary:logistic",
          "binary:logistic",
          "binary:logistic",
          "binary:logistic",
          "binary:logistic",
          "binary:logistic",
          "binary:logistic",
          "binary:logistic",
          "binary:logistic",
          "binary:logistic",
          "binary:logistic",
          "binary:logistic",
          "binary:logistic",
          "binary:logistic",
          "binary:logistic",
          "binary:logistic",
          "binary:logistic",
          "binary:logistic",
          "binary:logistic",
          "binary:logistic",
          "binary:logistic",
          "binary:logistic",
          "binary:logistic",
          "binary:logistic",
          "binary:logistic",
          "binary:logistic",
          "binary:logistic",
          "binary:logistic",
          "binary:logistic",
          "binary:logistic",
          "binary:logistic",
          "binary:logistic",
          "binary:logistic",
          "binary:logistic",
          "binary:logistic"
         ],
         "xaxis": "x8",
         "y": [
          0.73224,
          0.71933,
          0.73688,
          0.73594,
          0.728,
          0.68933,
          0.70914,
          0.71962,
          0.7368,
          0.717,
          0.73323,
          0.71993,
          0.73359,
          0.73779,
          0.73854,
          0.73565,
          0.71329,
          0.72339,
          0.73552,
          0.72085,
          0.73686,
          0.7347,
          0.72874,
          0.73854,
          0.71555,
          0.7243,
          0.73753,
          0.73377,
          0.73209,
          0.73781,
          0.72491,
          0.73837,
          0.73853,
          0.73193,
          0.73911,
          0.73814,
          0.72193,
          0.71094,
          0.73644,
          0.72725,
          0.71977,
          0.73297,
          0.7209,
          0.7348,
          0.73183,
          0.74043,
          0.72118,
          0.71824,
          0.7338,
          0.7396,
          0.73902,
          0.73376,
          0.7371,
          0.73643,
          0.72546,
          0.73709,
          0.73473,
          0.73631,
          0.72134,
          0.73556,
          0.73495,
          0.73528,
          0.71737,
          0.73288,
          0.73958,
          0.7388,
          0.7203,
          0.73863,
          0.73807,
          0.73479,
          0.73955,
          0.74062,
          0.73668,
          0.73711,
          0.72996,
          0.73808,
          0.71984,
          0.73669,
          0.71779,
          0.73745,
          0.73763,
          0.73746,
          0.73531,
          0.73705,
          0.73922,
          0.7288,
          0.73702,
          0.72981,
          0.73402,
          0.73818,
          0.73405,
          0.73776,
          0.73767,
          0.73642,
          0.73682,
          0.72692,
          0.72468,
          0.73527,
          0.73729,
          0.72128
         ],
         "yaxis": "y8"
        },
        {
         "marker": {
          "color": [
           0,
           1,
           2,
           3,
           4,
           5,
           6,
           7,
           8,
           9,
           10,
           11,
           12,
           13,
           14,
           15,
           16,
           17,
           18,
           19,
           20,
           21,
           22,
           23,
           24,
           25,
           26,
           27,
           28,
           29,
           30,
           31,
           32,
           33,
           34,
           35,
           36,
           37,
           38,
           39,
           40,
           41,
           42,
           43,
           44,
           45,
           46,
           47,
           48,
           49,
           50,
           51,
           52,
           53,
           54,
           55,
           56,
           57,
           58,
           59,
           60,
           61,
           62,
           63,
           64,
           65,
           66,
           67,
           68,
           69,
           70,
           71,
           72,
           73,
           74,
           75,
           76,
           77,
           78,
           79,
           80,
           81,
           82,
           83,
           84,
           85,
           86,
           87,
           88,
           89,
           90,
           91,
           92,
           93,
           94,
           95,
           96,
           97,
           98,
           99
          ],
          "colorbar": {
           "title": {
            "text": "Trial"
           },
           "x": 1,
           "xpad": 40
          },
          "colorscale": [
           [
            0,
            "rgb(247,251,255)"
           ],
           [
            0.125,
            "rgb(222,235,247)"
           ],
           [
            0.25,
            "rgb(198,219,239)"
           ],
           [
            0.375,
            "rgb(158,202,225)"
           ],
           [
            0.5,
            "rgb(107,174,214)"
           ],
           [
            0.625,
            "rgb(66,146,198)"
           ],
           [
            0.75,
            "rgb(33,113,181)"
           ],
           [
            0.875,
            "rgb(8,81,156)"
           ],
           [
            1,
            "rgb(8,48,107)"
           ]
          ],
          "line": {
           "color": "Grey",
           "width": 0.5
          },
          "showscale": false
         },
         "mode": "markers",
         "showlegend": false,
         "type": "scatter",
         "x": [
          71,
          11,
          11,
          71,
          61,
          11,
          31,
          11,
          11,
          41,
          31,
          1,
          41,
          11,
          11,
          11,
          21,
          41,
          21,
          41,
          61,
          11,
          1,
          21,
          21,
          1,
          11,
          11,
          51,
          41,
          51,
          41,
          41,
          31,
          61,
          91,
          61,
          71,
          61,
          61,
          91,
          1,
          31,
          31,
          21,
          31,
          31,
          61,
          41,
          51,
          61,
          51,
          31,
          61,
          21,
          81,
          31,
          81,
          61,
          51,
          51,
          31,
          61,
          41,
          61,
          51,
          71,
          41,
          31,
          71,
          51,
          31,
          41,
          51,
          11,
          31,
          41,
          51,
          51,
          61,
          71,
          21,
          51,
          51,
          51,
          21,
          61,
          61,
          61,
          61,
          81,
          61,
          61,
          51,
          51,
          1,
          31,
          31,
          41,
          41
         ],
         "xaxis": "x9",
         "y": [
          0.73224,
          0.71933,
          0.73688,
          0.73594,
          0.728,
          0.68933,
          0.70914,
          0.71962,
          0.7368,
          0.717,
          0.73323,
          0.71993,
          0.73359,
          0.73779,
          0.73854,
          0.73565,
          0.71329,
          0.72339,
          0.73552,
          0.72085,
          0.73686,
          0.7347,
          0.72874,
          0.73854,
          0.71555,
          0.7243,
          0.73753,
          0.73377,
          0.73209,
          0.73781,
          0.72491,
          0.73837,
          0.73853,
          0.73193,
          0.73911,
          0.73814,
          0.72193,
          0.71094,
          0.73644,
          0.72725,
          0.71977,
          0.73297,
          0.7209,
          0.7348,
          0.73183,
          0.74043,
          0.72118,
          0.71824,
          0.7338,
          0.7396,
          0.73902,
          0.73376,
          0.7371,
          0.73643,
          0.72546,
          0.73709,
          0.73473,
          0.73631,
          0.72134,
          0.73556,
          0.73495,
          0.73528,
          0.71737,
          0.73288,
          0.73958,
          0.7388,
          0.7203,
          0.73863,
          0.73807,
          0.73479,
          0.73955,
          0.74062,
          0.73668,
          0.73711,
          0.72996,
          0.73808,
          0.71984,
          0.73669,
          0.71779,
          0.73745,
          0.73763,
          0.73746,
          0.73531,
          0.73705,
          0.73922,
          0.7288,
          0.73702,
          0.72981,
          0.73402,
          0.73818,
          0.73405,
          0.73776,
          0.73767,
          0.73642,
          0.73682,
          0.72692,
          0.72468,
          0.73527,
          0.73729,
          0.72128
         ],
         "yaxis": "y9"
        },
        {
         "marker": {
          "color": [
           0,
           1,
           2,
           3,
           4,
           5,
           6,
           7,
           8,
           9,
           10,
           11,
           12,
           13,
           14,
           15,
           16,
           17,
           18,
           19,
           20,
           21,
           22,
           23,
           24,
           25,
           26,
           27,
           28,
           29,
           30,
           31,
           32,
           33,
           34,
           35,
           36,
           37,
           38,
           39,
           40,
           41,
           42,
           43,
           44,
           45,
           46,
           47,
           48,
           49,
           50,
           51,
           52,
           53,
           54,
           55,
           56,
           57,
           58,
           59,
           60,
           61,
           62,
           63,
           64,
           65,
           66,
           67,
           68,
           69,
           70,
           71,
           72,
           73,
           74,
           75,
           76,
           77,
           78,
           79,
           80,
           81,
           82,
           83,
           84,
           85,
           86,
           87,
           88,
           89,
           90,
           91,
           92,
           93,
           94,
           95,
           96,
           97,
           98,
           99
          ],
          "colorbar": {
           "title": {
            "text": "Trial"
           },
           "x": 1,
           "xpad": 40
          },
          "colorscale": [
           [
            0,
            "rgb(247,251,255)"
           ],
           [
            0.125,
            "rgb(222,235,247)"
           ],
           [
            0.25,
            "rgb(198,219,239)"
           ],
           [
            0.375,
            "rgb(158,202,225)"
           ],
           [
            0.5,
            "rgb(107,174,214)"
           ],
           [
            0.625,
            "rgb(66,146,198)"
           ],
           [
            0.75,
            "rgb(33,113,181)"
           ],
           [
            0.875,
            "rgb(8,81,156)"
           ],
           [
            1,
            "rgb(8,48,107)"
           ]
          ],
          "line": {
           "color": "Grey",
           "width": 0.5
          },
          "showscale": false
         },
         "mode": "markers",
         "showlegend": false,
         "type": "scatter",
         "x": [
          2.001583949313622,
          2.001583949313622,
          2.001583949313622,
          2.001583949313622,
          2.001583949313622,
          2.001583949313622,
          2.001583949313622,
          2.001583949313622,
          2.001583949313622,
          2.001583949313622,
          2.001583949313622,
          2.001583949313622,
          2.001583949313622,
          2.001583949313622,
          2.001583949313622,
          2.001583949313622,
          2.001583949313622,
          2.001583949313622,
          2.001583949313622,
          2.001583949313622,
          2.001583949313622,
          2.001583949313622,
          2.001583949313622,
          2.001583949313622,
          2.001583949313622,
          2.001583949313622,
          2.001583949313622,
          2.001583949313622,
          2.001583949313622,
          2.001583949313622,
          2.001583949313622,
          2.001583949313622,
          2.001583949313622,
          2.001583949313622,
          2.001583949313622,
          2.001583949313622,
          2.001583949313622,
          2.001583949313622,
          2.001583949313622,
          2.001583949313622,
          2.001583949313622,
          2.001583949313622,
          2.001583949313622,
          2.001583949313622,
          2.001583949313622,
          2.001583949313622,
          2.001583949313622,
          2.001583949313622,
          2.001583949313622,
          2.001583949313622,
          2.001583949313622,
          2.001583949313622,
          2.001583949313622,
          2.001583949313622,
          2.001583949313622,
          2.001583949313622,
          2.001583949313622,
          2.001583949313622,
          2.001583949313622,
          2.001583949313622,
          2.001583949313622,
          2.001583949313622,
          2.001583949313622,
          2.001583949313622,
          2.001583949313622,
          2.001583949313622,
          2.001583949313622,
          2.001583949313622,
          2.001583949313622,
          2.001583949313622,
          2.001583949313622,
          2.001583949313622,
          2.001583949313622,
          2.001583949313622,
          2.001583949313622,
          2.001583949313622,
          2.001583949313622,
          2.001583949313622,
          2.001583949313622,
          2.001583949313622,
          2.001583949313622,
          2.001583949313622,
          2.001583949313622,
          2.001583949313622,
          2.001583949313622,
          2.001583949313622,
          2.001583949313622,
          2.001583949313622,
          2.001583949313622,
          2.001583949313622,
          2.001583949313622,
          2.001583949313622,
          2.001583949313622,
          2.001583949313622,
          2.001583949313622,
          2.001583949313622,
          2.001583949313622,
          2.001583949313622,
          2.001583949313622,
          2.001583949313622
         ],
         "xaxis": "x10",
         "y": [
          0.73224,
          0.71933,
          0.73688,
          0.73594,
          0.728,
          0.68933,
          0.70914,
          0.71962,
          0.7368,
          0.717,
          0.73323,
          0.71993,
          0.73359,
          0.73779,
          0.73854,
          0.73565,
          0.71329,
          0.72339,
          0.73552,
          0.72085,
          0.73686,
          0.7347,
          0.72874,
          0.73854,
          0.71555,
          0.7243,
          0.73753,
          0.73377,
          0.73209,
          0.73781,
          0.72491,
          0.73837,
          0.73853,
          0.73193,
          0.73911,
          0.73814,
          0.72193,
          0.71094,
          0.73644,
          0.72725,
          0.71977,
          0.73297,
          0.7209,
          0.7348,
          0.73183,
          0.74043,
          0.72118,
          0.71824,
          0.7338,
          0.7396,
          0.73902,
          0.73376,
          0.7371,
          0.73643,
          0.72546,
          0.73709,
          0.73473,
          0.73631,
          0.72134,
          0.73556,
          0.73495,
          0.73528,
          0.71737,
          0.73288,
          0.73958,
          0.7388,
          0.7203,
          0.73863,
          0.73807,
          0.73479,
          0.73955,
          0.74062,
          0.73668,
          0.73711,
          0.72996,
          0.73808,
          0.71984,
          0.73669,
          0.71779,
          0.73745,
          0.73763,
          0.73746,
          0.73531,
          0.73705,
          0.73922,
          0.7288,
          0.73702,
          0.72981,
          0.73402,
          0.73818,
          0.73405,
          0.73776,
          0.73767,
          0.73642,
          0.73682,
          0.72692,
          0.72468,
          0.73527,
          0.73729,
          0.72128
         ],
         "yaxis": "y10"
        },
        {
         "marker": {
          "color": [
           0,
           1,
           2,
           3,
           4,
           5,
           6,
           7,
           8,
           9,
           10,
           11,
           12,
           13,
           14,
           15,
           16,
           17,
           18,
           19,
           20,
           21,
           22,
           23,
           24,
           25,
           26,
           27,
           28,
           29,
           30,
           31,
           32,
           33,
           34,
           35,
           36,
           37,
           38,
           39,
           40,
           41,
           42,
           43,
           44,
           45,
           46,
           47,
           48,
           49,
           50,
           51,
           52,
           53,
           54,
           55,
           56,
           57,
           58,
           59,
           60,
           61,
           62,
           63,
           64,
           65,
           66,
           67,
           68,
           69,
           70,
           71,
           72,
           73,
           74,
           75,
           76,
           77,
           78,
           79,
           80,
           81,
           82,
           83,
           84,
           85,
           86,
           87,
           88,
           89,
           90,
           91,
           92,
           93,
           94,
           95,
           96,
           97,
           98,
           99
          ],
          "colorbar": {
           "title": {
            "text": "Trial"
           },
           "x": 1,
           "xpad": 40
          },
          "colorscale": [
           [
            0,
            "rgb(247,251,255)"
           ],
           [
            0.125,
            "rgb(222,235,247)"
           ],
           [
            0.25,
            "rgb(198,219,239)"
           ],
           [
            0.375,
            "rgb(158,202,225)"
           ],
           [
            0.5,
            "rgb(107,174,214)"
           ],
           [
            0.625,
            "rgb(66,146,198)"
           ],
           [
            0.75,
            "rgb(33,113,181)"
           ],
           [
            0.875,
            "rgb(8,81,156)"
           ],
           [
            1,
            "rgb(8,48,107)"
           ]
          ],
          "line": {
           "color": "Grey",
           "width": 0.5
          },
          "showscale": false
         },
         "mode": "markers",
         "showlegend": false,
         "type": "scatter",
         "x": [
          12359,
          12359,
          12359,
          12359,
          12359,
          12359,
          12359,
          12359,
          12359,
          12359,
          12359,
          12359,
          12359,
          12359,
          12359,
          12359,
          12359,
          12359,
          12359,
          12359,
          12359,
          12359,
          12359,
          12359,
          12359,
          12359,
          12359,
          12359,
          12359,
          12359,
          12359,
          12359,
          12359,
          12359,
          12359,
          12359,
          12359,
          12359,
          12359,
          12359,
          12359,
          12359,
          12359,
          12359,
          12359,
          12359,
          12359,
          12359,
          12359,
          12359,
          12359,
          12359,
          12359,
          12359,
          12359,
          12359,
          12359,
          12359,
          12359,
          12359,
          12359,
          12359,
          12359,
          12359,
          12359,
          12359,
          12359,
          12359,
          12359,
          12359,
          12359,
          12359,
          12359,
          12359,
          12359,
          12359,
          12359,
          12359,
          12359,
          12359,
          12359,
          12359,
          12359,
          12359,
          12359,
          12359,
          12359,
          12359,
          12359,
          12359,
          12359,
          12359,
          12359,
          12359,
          12359,
          12359,
          12359,
          12359,
          12359,
          12359
         ],
         "xaxis": "x11",
         "y": [
          0.73224,
          0.71933,
          0.73688,
          0.73594,
          0.728,
          0.68933,
          0.70914,
          0.71962,
          0.7368,
          0.717,
          0.73323,
          0.71993,
          0.73359,
          0.73779,
          0.73854,
          0.73565,
          0.71329,
          0.72339,
          0.73552,
          0.72085,
          0.73686,
          0.7347,
          0.72874,
          0.73854,
          0.71555,
          0.7243,
          0.73753,
          0.73377,
          0.73209,
          0.73781,
          0.72491,
          0.73837,
          0.73853,
          0.73193,
          0.73911,
          0.73814,
          0.72193,
          0.71094,
          0.73644,
          0.72725,
          0.71977,
          0.73297,
          0.7209,
          0.7348,
          0.73183,
          0.74043,
          0.72118,
          0.71824,
          0.7338,
          0.7396,
          0.73902,
          0.73376,
          0.7371,
          0.73643,
          0.72546,
          0.73709,
          0.73473,
          0.73631,
          0.72134,
          0.73556,
          0.73495,
          0.73528,
          0.71737,
          0.73288,
          0.73958,
          0.7388,
          0.7203,
          0.73863,
          0.73807,
          0.73479,
          0.73955,
          0.74062,
          0.73668,
          0.73711,
          0.72996,
          0.73808,
          0.71984,
          0.73669,
          0.71779,
          0.73745,
          0.73763,
          0.73746,
          0.73531,
          0.73705,
          0.73922,
          0.7288,
          0.73702,
          0.72981,
          0.73402,
          0.73818,
          0.73405,
          0.73776,
          0.73767,
          0.73642,
          0.73682,
          0.72692,
          0.72468,
          0.73527,
          0.73729,
          0.72128
         ],
         "yaxis": "y11"
        },
        {
         "marker": {
          "color": [
           0,
           1,
           2,
           3,
           4,
           5,
           6,
           7,
           8,
           9,
           10,
           11,
           12,
           13,
           14,
           15,
           16,
           17,
           18,
           19,
           20,
           21,
           22,
           23,
           24,
           25,
           26,
           27,
           28,
           29,
           30,
           31,
           32,
           33,
           34,
           35,
           36,
           37,
           38,
           39,
           40,
           41,
           42,
           43,
           44,
           45,
           46,
           47,
           48,
           49,
           50,
           51,
           52,
           53,
           54,
           55,
           56,
           57,
           58,
           59,
           60,
           61,
           62,
           63,
           64,
           65,
           66,
           67,
           68,
           69,
           70,
           71,
           72,
           73,
           74,
           75,
           76,
           77,
           78,
           79,
           80,
           81,
           82,
           83,
           84,
           85,
           86,
           87,
           88,
           89,
           90,
           91,
           92,
           93,
           94,
           95,
           96,
           97,
           98,
           99
          ],
          "colorbar": {
           "title": {
            "text": "Trial"
           },
           "x": 1,
           "xpad": 40
          },
          "colorscale": [
           [
            0,
            "rgb(247,251,255)"
           ],
           [
            0.125,
            "rgb(222,235,247)"
           ],
           [
            0.25,
            "rgb(198,219,239)"
           ],
           [
            0.375,
            "rgb(158,202,225)"
           ],
           [
            0.5,
            "rgb(107,174,214)"
           ],
           [
            0.625,
            "rgb(66,146,198)"
           ],
           [
            0.75,
            "rgb(33,113,181)"
           ],
           [
            0.875,
            "rgb(8,81,156)"
           ],
           [
            1,
            "rgb(8,48,107)"
           ]
          ],
          "line": {
           "color": "Grey",
           "width": 0.5
          },
          "showscale": false
         },
         "mode": "markers",
         "showlegend": false,
         "type": "scatter",
         "x": [
          0.7999999999999999,
          0.85,
          0.95,
          0.75,
          0.95,
          0.85,
          0.8999999999999999,
          1,
          0.7,
          0.75,
          1,
          0.7,
          0.85,
          0.7999999999999999,
          0.8999999999999999,
          0.7999999999999999,
          0.85,
          0.7999999999999999,
          0.8999999999999999,
          0.8999999999999999,
          0.7999999999999999,
          0.95,
          0.7999999999999999,
          0.95,
          0.8999999999999999,
          0.95,
          1,
          1,
          0.95,
          0.8999999999999999,
          1,
          0.85,
          0.7999999999999999,
          0.7,
          0.85,
          0.8999999999999999,
          0.7999999999999999,
          0.85,
          0.85,
          0.85,
          0.95,
          0.95,
          0.7999999999999999,
          1,
          0.8999999999999999,
          0.85,
          0.85,
          0.85,
          0.8999999999999999,
          0.8999999999999999,
          1,
          1,
          0.7999999999999999,
          0.8999999999999999,
          0.85,
          0.95,
          0.85,
          1,
          0.8999999999999999,
          0.95,
          0.95,
          0.7999999999999999,
          0.85,
          0.95,
          0.7999999999999999,
          1,
          0.75,
          0.8999999999999999,
          1,
          0.75,
          0.85,
          0.85,
          0.8999999999999999,
          0.7999999999999999,
          0.85,
          0.85,
          1,
          0.8999999999999999,
          0.7999999999999999,
          1,
          0.85,
          0.85,
          0.7999999999999999,
          0.85,
          0.95,
          0.85,
          0.95,
          1,
          1,
          0.95,
          0.85,
          0.8999999999999999,
          0.7999999999999999,
          0.8999999999999999,
          0.85,
          0.7999999999999999,
          0.95,
          1,
          1,
          0.7999999999999999
         ],
         "xaxis": "x12",
         "y": [
          0.73224,
          0.71933,
          0.73688,
          0.73594,
          0.728,
          0.68933,
          0.70914,
          0.71962,
          0.7368,
          0.717,
          0.73323,
          0.71993,
          0.73359,
          0.73779,
          0.73854,
          0.73565,
          0.71329,
          0.72339,
          0.73552,
          0.72085,
          0.73686,
          0.7347,
          0.72874,
          0.73854,
          0.71555,
          0.7243,
          0.73753,
          0.73377,
          0.73209,
          0.73781,
          0.72491,
          0.73837,
          0.73853,
          0.73193,
          0.73911,
          0.73814,
          0.72193,
          0.71094,
          0.73644,
          0.72725,
          0.71977,
          0.73297,
          0.7209,
          0.7348,
          0.73183,
          0.74043,
          0.72118,
          0.71824,
          0.7338,
          0.7396,
          0.73902,
          0.73376,
          0.7371,
          0.73643,
          0.72546,
          0.73709,
          0.73473,
          0.73631,
          0.72134,
          0.73556,
          0.73495,
          0.73528,
          0.71737,
          0.73288,
          0.73958,
          0.7388,
          0.7203,
          0.73863,
          0.73807,
          0.73479,
          0.73955,
          0.74062,
          0.73668,
          0.73711,
          0.72996,
          0.73808,
          0.71984,
          0.73669,
          0.71779,
          0.73745,
          0.73763,
          0.73746,
          0.73531,
          0.73705,
          0.73922,
          0.7288,
          0.73702,
          0.72981,
          0.73402,
          0.73818,
          0.73405,
          0.73776,
          0.73767,
          0.73642,
          0.73682,
          0.72692,
          0.72468,
          0.73527,
          0.73729,
          0.72128
         ],
         "yaxis": "y12"
        }
       ],
       "layout": {
        "template": {
         "data": {
          "bar": [
           {
            "error_x": {
             "color": "#2a3f5f"
            },
            "error_y": {
             "color": "#2a3f5f"
            },
            "marker": {
             "line": {
              "color": "#E5ECF6",
              "width": 0.5
             },
             "pattern": {
              "fillmode": "overlay",
              "size": 10,
              "solidity": 0.2
             }
            },
            "type": "bar"
           }
          ],
          "barpolar": [
           {
            "marker": {
             "line": {
              "color": "#E5ECF6",
              "width": 0.5
             },
             "pattern": {
              "fillmode": "overlay",
              "size": 10,
              "solidity": 0.2
             }
            },
            "type": "barpolar"
           }
          ],
          "carpet": [
           {
            "aaxis": {
             "endlinecolor": "#2a3f5f",
             "gridcolor": "white",
             "linecolor": "white",
             "minorgridcolor": "white",
             "startlinecolor": "#2a3f5f"
            },
            "baxis": {
             "endlinecolor": "#2a3f5f",
             "gridcolor": "white",
             "linecolor": "white",
             "minorgridcolor": "white",
             "startlinecolor": "#2a3f5f"
            },
            "type": "carpet"
           }
          ],
          "choropleth": [
           {
            "colorbar": {
             "outlinewidth": 0,
             "ticks": ""
            },
            "type": "choropleth"
           }
          ],
          "contour": [
           {
            "colorbar": {
             "outlinewidth": 0,
             "ticks": ""
            },
            "colorscale": [
             [
              0,
              "#0d0887"
             ],
             [
              0.1111111111111111,
              "#46039f"
             ],
             [
              0.2222222222222222,
              "#7201a8"
             ],
             [
              0.3333333333333333,
              "#9c179e"
             ],
             [
              0.4444444444444444,
              "#bd3786"
             ],
             [
              0.5555555555555556,
              "#d8576b"
             ],
             [
              0.6666666666666666,
              "#ed7953"
             ],
             [
              0.7777777777777778,
              "#fb9f3a"
             ],
             [
              0.8888888888888888,
              "#fdca26"
             ],
             [
              1,
              "#f0f921"
             ]
            ],
            "type": "contour"
           }
          ],
          "contourcarpet": [
           {
            "colorbar": {
             "outlinewidth": 0,
             "ticks": ""
            },
            "type": "contourcarpet"
           }
          ],
          "heatmap": [
           {
            "colorbar": {
             "outlinewidth": 0,
             "ticks": ""
            },
            "colorscale": [
             [
              0,
              "#0d0887"
             ],
             [
              0.1111111111111111,
              "#46039f"
             ],
             [
              0.2222222222222222,
              "#7201a8"
             ],
             [
              0.3333333333333333,
              "#9c179e"
             ],
             [
              0.4444444444444444,
              "#bd3786"
             ],
             [
              0.5555555555555556,
              "#d8576b"
             ],
             [
              0.6666666666666666,
              "#ed7953"
             ],
             [
              0.7777777777777778,
              "#fb9f3a"
             ],
             [
              0.8888888888888888,
              "#fdca26"
             ],
             [
              1,
              "#f0f921"
             ]
            ],
            "type": "heatmap"
           }
          ],
          "heatmapgl": [
           {
            "colorbar": {
             "outlinewidth": 0,
             "ticks": ""
            },
            "colorscale": [
             [
              0,
              "#0d0887"
             ],
             [
              0.1111111111111111,
              "#46039f"
             ],
             [
              0.2222222222222222,
              "#7201a8"
             ],
             [
              0.3333333333333333,
              "#9c179e"
             ],
             [
              0.4444444444444444,
              "#bd3786"
             ],
             [
              0.5555555555555556,
              "#d8576b"
             ],
             [
              0.6666666666666666,
              "#ed7953"
             ],
             [
              0.7777777777777778,
              "#fb9f3a"
             ],
             [
              0.8888888888888888,
              "#fdca26"
             ],
             [
              1,
              "#f0f921"
             ]
            ],
            "type": "heatmapgl"
           }
          ],
          "histogram": [
           {
            "marker": {
             "pattern": {
              "fillmode": "overlay",
              "size": 10,
              "solidity": 0.2
             }
            },
            "type": "histogram"
           }
          ],
          "histogram2d": [
           {
            "colorbar": {
             "outlinewidth": 0,
             "ticks": ""
            },
            "colorscale": [
             [
              0,
              "#0d0887"
             ],
             [
              0.1111111111111111,
              "#46039f"
             ],
             [
              0.2222222222222222,
              "#7201a8"
             ],
             [
              0.3333333333333333,
              "#9c179e"
             ],
             [
              0.4444444444444444,
              "#bd3786"
             ],
             [
              0.5555555555555556,
              "#d8576b"
             ],
             [
              0.6666666666666666,
              "#ed7953"
             ],
             [
              0.7777777777777778,
              "#fb9f3a"
             ],
             [
              0.8888888888888888,
              "#fdca26"
             ],
             [
              1,
              "#f0f921"
             ]
            ],
            "type": "histogram2d"
           }
          ],
          "histogram2dcontour": [
           {
            "colorbar": {
             "outlinewidth": 0,
             "ticks": ""
            },
            "colorscale": [
             [
              0,
              "#0d0887"
             ],
             [
              0.1111111111111111,
              "#46039f"
             ],
             [
              0.2222222222222222,
              "#7201a8"
             ],
             [
              0.3333333333333333,
              "#9c179e"
             ],
             [
              0.4444444444444444,
              "#bd3786"
             ],
             [
              0.5555555555555556,
              "#d8576b"
             ],
             [
              0.6666666666666666,
              "#ed7953"
             ],
             [
              0.7777777777777778,
              "#fb9f3a"
             ],
             [
              0.8888888888888888,
              "#fdca26"
             ],
             [
              1,
              "#f0f921"
             ]
            ],
            "type": "histogram2dcontour"
           }
          ],
          "mesh3d": [
           {
            "colorbar": {
             "outlinewidth": 0,
             "ticks": ""
            },
            "type": "mesh3d"
           }
          ],
          "parcoords": [
           {
            "line": {
             "colorbar": {
              "outlinewidth": 0,
              "ticks": ""
             }
            },
            "type": "parcoords"
           }
          ],
          "pie": [
           {
            "automargin": true,
            "type": "pie"
           }
          ],
          "scatter": [
           {
            "fillpattern": {
             "fillmode": "overlay",
             "size": 10,
             "solidity": 0.2
            },
            "type": "scatter"
           }
          ],
          "scatter3d": [
           {
            "line": {
             "colorbar": {
              "outlinewidth": 0,
              "ticks": ""
             }
            },
            "marker": {
             "colorbar": {
              "outlinewidth": 0,
              "ticks": ""
             }
            },
            "type": "scatter3d"
           }
          ],
          "scattercarpet": [
           {
            "marker": {
             "colorbar": {
              "outlinewidth": 0,
              "ticks": ""
             }
            },
            "type": "scattercarpet"
           }
          ],
          "scattergeo": [
           {
            "marker": {
             "colorbar": {
              "outlinewidth": 0,
              "ticks": ""
             }
            },
            "type": "scattergeo"
           }
          ],
          "scattergl": [
           {
            "marker": {
             "colorbar": {
              "outlinewidth": 0,
              "ticks": ""
             }
            },
            "type": "scattergl"
           }
          ],
          "scattermapbox": [
           {
            "marker": {
             "colorbar": {
              "outlinewidth": 0,
              "ticks": ""
             }
            },
            "type": "scattermapbox"
           }
          ],
          "scatterpolar": [
           {
            "marker": {
             "colorbar": {
              "outlinewidth": 0,
              "ticks": ""
             }
            },
            "type": "scatterpolar"
           }
          ],
          "scatterpolargl": [
           {
            "marker": {
             "colorbar": {
              "outlinewidth": 0,
              "ticks": ""
             }
            },
            "type": "scatterpolargl"
           }
          ],
          "scatterternary": [
           {
            "marker": {
             "colorbar": {
              "outlinewidth": 0,
              "ticks": ""
             }
            },
            "type": "scatterternary"
           }
          ],
          "surface": [
           {
            "colorbar": {
             "outlinewidth": 0,
             "ticks": ""
            },
            "colorscale": [
             [
              0,
              "#0d0887"
             ],
             [
              0.1111111111111111,
              "#46039f"
             ],
             [
              0.2222222222222222,
              "#7201a8"
             ],
             [
              0.3333333333333333,
              "#9c179e"
             ],
             [
              0.4444444444444444,
              "#bd3786"
             ],
             [
              0.5555555555555556,
              "#d8576b"
             ],
             [
              0.6666666666666666,
              "#ed7953"
             ],
             [
              0.7777777777777778,
              "#fb9f3a"
             ],
             [
              0.8888888888888888,
              "#fdca26"
             ],
             [
              1,
              "#f0f921"
             ]
            ],
            "type": "surface"
           }
          ],
          "table": [
           {
            "cells": {
             "fill": {
              "color": "#EBF0F8"
             },
             "line": {
              "color": "white"
             }
            },
            "header": {
             "fill": {
              "color": "#C8D4E3"
             },
             "line": {
              "color": "white"
             }
            },
            "type": "table"
           }
          ]
         },
         "layout": {
          "annotationdefaults": {
           "arrowcolor": "#2a3f5f",
           "arrowhead": 0,
           "arrowwidth": 1
          },
          "autotypenumbers": "strict",
          "coloraxis": {
           "colorbar": {
            "outlinewidth": 0,
            "ticks": ""
           }
          },
          "colorscale": {
           "diverging": [
            [
             0,
             "#8e0152"
            ],
            [
             0.1,
             "#c51b7d"
            ],
            [
             0.2,
             "#de77ae"
            ],
            [
             0.3,
             "#f1b6da"
            ],
            [
             0.4,
             "#fde0ef"
            ],
            [
             0.5,
             "#f7f7f7"
            ],
            [
             0.6,
             "#e6f5d0"
            ],
            [
             0.7,
             "#b8e186"
            ],
            [
             0.8,
             "#7fbc41"
            ],
            [
             0.9,
             "#4d9221"
            ],
            [
             1,
             "#276419"
            ]
           ],
           "sequential": [
            [
             0,
             "#0d0887"
            ],
            [
             0.1111111111111111,
             "#46039f"
            ],
            [
             0.2222222222222222,
             "#7201a8"
            ],
            [
             0.3333333333333333,
             "#9c179e"
            ],
            [
             0.4444444444444444,
             "#bd3786"
            ],
            [
             0.5555555555555556,
             "#d8576b"
            ],
            [
             0.6666666666666666,
             "#ed7953"
            ],
            [
             0.7777777777777778,
             "#fb9f3a"
            ],
            [
             0.8888888888888888,
             "#fdca26"
            ],
            [
             1,
             "#f0f921"
            ]
           ],
           "sequentialminus": [
            [
             0,
             "#0d0887"
            ],
            [
             0.1111111111111111,
             "#46039f"
            ],
            [
             0.2222222222222222,
             "#7201a8"
            ],
            [
             0.3333333333333333,
             "#9c179e"
            ],
            [
             0.4444444444444444,
             "#bd3786"
            ],
            [
             0.5555555555555556,
             "#d8576b"
            ],
            [
             0.6666666666666666,
             "#ed7953"
            ],
            [
             0.7777777777777778,
             "#fb9f3a"
            ],
            [
             0.8888888888888888,
             "#fdca26"
            ],
            [
             1,
             "#f0f921"
            ]
           ]
          },
          "colorway": [
           "#636efa",
           "#EF553B",
           "#00cc96",
           "#ab63fa",
           "#FFA15A",
           "#19d3f3",
           "#FF6692",
           "#B6E880",
           "#FF97FF",
           "#FECB52"
          ],
          "font": {
           "color": "#2a3f5f"
          },
          "geo": {
           "bgcolor": "white",
           "lakecolor": "white",
           "landcolor": "#E5ECF6",
           "showlakes": true,
           "showland": true,
           "subunitcolor": "white"
          },
          "hoverlabel": {
           "align": "left"
          },
          "hovermode": "closest",
          "mapbox": {
           "style": "light"
          },
          "paper_bgcolor": "white",
          "plot_bgcolor": "#E5ECF6",
          "polar": {
           "angularaxis": {
            "gridcolor": "white",
            "linecolor": "white",
            "ticks": ""
           },
           "bgcolor": "#E5ECF6",
           "radialaxis": {
            "gridcolor": "white",
            "linecolor": "white",
            "ticks": ""
           }
          },
          "scene": {
           "xaxis": {
            "backgroundcolor": "#E5ECF6",
            "gridcolor": "white",
            "gridwidth": 2,
            "linecolor": "white",
            "showbackground": true,
            "ticks": "",
            "zerolinecolor": "white"
           },
           "yaxis": {
            "backgroundcolor": "#E5ECF6",
            "gridcolor": "white",
            "gridwidth": 2,
            "linecolor": "white",
            "showbackground": true,
            "ticks": "",
            "zerolinecolor": "white"
           },
           "zaxis": {
            "backgroundcolor": "#E5ECF6",
            "gridcolor": "white",
            "gridwidth": 2,
            "linecolor": "white",
            "showbackground": true,
            "ticks": "",
            "zerolinecolor": "white"
           }
          },
          "shapedefaults": {
           "line": {
            "color": "#2a3f5f"
           }
          },
          "ternary": {
           "aaxis": {
            "gridcolor": "white",
            "linecolor": "white",
            "ticks": ""
           },
           "baxis": {
            "gridcolor": "white",
            "linecolor": "white",
            "ticks": ""
           },
           "bgcolor": "#E5ECF6",
           "caxis": {
            "gridcolor": "white",
            "linecolor": "white",
            "ticks": ""
           }
          },
          "title": {
           "x": 0.05
          },
          "xaxis": {
           "automargin": true,
           "gridcolor": "white",
           "linecolor": "white",
           "ticks": "",
           "title": {
            "standoff": 15
           },
           "zerolinecolor": "white",
           "zerolinewidth": 2
          },
          "yaxis": {
           "automargin": true,
           "gridcolor": "white",
           "linecolor": "white",
           "ticks": "",
           "title": {
            "standoff": 15
           },
           "zerolinecolor": "white",
           "zerolinewidth": 2
          }
         }
        },
        "title": {
         "text": "Slice Plot"
        },
        "width": 3600,
        "xaxis": {
         "anchor": "y",
         "domain": [
          0,
          0.06805555555555555
         ],
         "title": {
          "text": "colsample_bytree"
         }
        },
        "xaxis10": {
         "anchor": "y10",
         "domain": [
          0.7625,
          0.8305555555555555
         ],
         "title": {
          "text": "scale_pos_weight"
         }
        },
        "xaxis11": {
         "anchor": "y11",
         "domain": [
          0.8472222222222221,
          0.9152777777777776
         ],
         "title": {
          "text": "seed"
         }
        },
        "xaxis12": {
         "anchor": "y12",
         "domain": [
          0.9319444444444444,
          0.9999999999999999
         ],
         "title": {
          "text": "subsample"
         }
        },
        "xaxis2": {
         "anchor": "y2",
         "domain": [
          0.08472222222222221,
          0.15277777777777776
         ],
         "title": {
          "text": "eval_metric"
         }
        },
        "xaxis3": {
         "anchor": "y3",
         "domain": [
          0.16944444444444443,
          0.2375
         ],
         "title": {
          "text": "learning_rate"
         }
        },
        "xaxis4": {
         "anchor": "y4",
         "domain": [
          0.25416666666666665,
          0.3222222222222222
         ],
         "title": {
          "text": "max_depth"
         }
        },
        "xaxis5": {
         "anchor": "y5",
         "domain": [
          0.33888888888888885,
          0.4069444444444444
         ],
         "title": {
          "text": "min_child_weight"
         }
        },
        "xaxis6": {
         "anchor": "y6",
         "domain": [
          0.42361111111111105,
          0.4916666666666666
         ],
         "title": {
          "text": "n_estimators"
         }
        },
        "xaxis7": {
         "anchor": "y7",
         "domain": [
          0.5083333333333333,
          0.5763888888888888
         ],
         "title": {
          "text": "n_jobs"
         }
        },
        "xaxis8": {
         "anchor": "y8",
         "domain": [
          0.5930555555555554,
          0.661111111111111
         ],
         "title": {
          "text": "objective"
         }
        },
        "xaxis9": {
         "anchor": "y9",
         "domain": [
          0.6777777777777777,
          0.7458333333333332
         ],
         "title": {
          "text": "reg_lambda"
         }
        },
        "yaxis": {
         "anchor": "x",
         "domain": [
          0,
          1
         ],
         "title": {
          "text": "Objective Value"
         }
        },
        "yaxis10": {
         "anchor": "x10",
         "domain": [
          0,
          1
         ],
         "matches": "y",
         "showticklabels": false
        },
        "yaxis11": {
         "anchor": "x11",
         "domain": [
          0,
          1
         ],
         "matches": "y",
         "showticklabels": false
        },
        "yaxis12": {
         "anchor": "x12",
         "domain": [
          0,
          1
         ],
         "matches": "y",
         "showticklabels": false
        },
        "yaxis2": {
         "anchor": "x2",
         "domain": [
          0,
          1
         ],
         "matches": "y",
         "showticklabels": false
        },
        "yaxis3": {
         "anchor": "x3",
         "domain": [
          0,
          1
         ],
         "matches": "y",
         "showticklabels": false
        },
        "yaxis4": {
         "anchor": "x4",
         "domain": [
          0,
          1
         ],
         "matches": "y",
         "showticklabels": false
        },
        "yaxis5": {
         "anchor": "x5",
         "domain": [
          0,
          1
         ],
         "matches": "y",
         "showticklabels": false
        },
        "yaxis6": {
         "anchor": "x6",
         "domain": [
          0,
          1
         ],
         "matches": "y",
         "showticklabels": false
        },
        "yaxis7": {
         "anchor": "x7",
         "domain": [
          0,
          1
         ],
         "matches": "y",
         "showticklabels": false
        },
        "yaxis8": {
         "anchor": "x8",
         "domain": [
          0,
          1
         ],
         "matches": "y",
         "showticklabels": false
        },
        "yaxis9": {
         "anchor": "x9",
         "domain": [
          0,
          1
         ],
         "matches": "y",
         "showticklabels": false
        }
       }
      },
      "text/html": [
       "<div>                            <div id=\"50481c6e-17ef-4924-9a37-a1fc773e8233\" class=\"plotly-graph-div\" style=\"height:525px; width:3600px;\"></div>            <script type=\"text/javascript\">                require([\"plotly\"], function(Plotly) {                    window.PLOTLYENV=window.PLOTLYENV || {};                                    if (document.getElementById(\"50481c6e-17ef-4924-9a37-a1fc773e8233\")) {                    Plotly.newPlot(                        \"50481c6e-17ef-4924-9a37-a1fc773e8233\",                        [{\"marker\":{\"color\":[0,1,2,3,4,5,6,7,8,9,10,11,12,13,14,15,16,17,18,19,20,21,22,23,24,25,26,27,28,29,30,31,32,33,34,35,36,37,38,39,40,41,42,43,44,45,46,47,48,49,50,51,52,53,54,55,56,57,58,59,60,61,62,63,64,65,66,67,68,69,70,71,72,73,74,75,76,77,78,79,80,81,82,83,84,85,86,87,88,89,90,91,92,93,94,95,96,97,98,99],\"colorbar\":{\"title\":{\"text\":\"Trial\"},\"x\":1.0,\"xpad\":40},\"colorscale\":[[0.0,\"rgb(247,251,255)\"],[0.125,\"rgb(222,235,247)\"],[0.25,\"rgb(198,219,239)\"],[0.375,\"rgb(158,202,225)\"],[0.5,\"rgb(107,174,214)\"],[0.625,\"rgb(66,146,198)\"],[0.75,\"rgb(33,113,181)\"],[0.875,\"rgb(8,81,156)\"],[1.0,\"rgb(8,48,107)\"]],\"line\":{\"color\":\"Grey\",\"width\":0.5},\"showscale\":true},\"mode\":\"markers\",\"showlegend\":false,\"x\":[0.945175000615857,0.9492144856878898,0.7244084104880744,0.9900547460292147,0.8902258775887049,0.886023391052349,0.9454638657196617,0.818183558589805,0.625031643966948,0.9417702665001773,0.7421825797869762,0.6150173996726871,0.6537701268797618,0.613867928115966,0.6640277626278456,0.6045617264062145,0.6481228668228063,0.6557774112436421,0.7602877334313254,0.707052133365497,0.7269997252336521,0.8005831287879739,0.7235775271311159,0.6328538761519631,0.63567338020531,0.7050551400203462,0.6084199522553827,0.6010536702553803,0.6258393823336794,0.6773645298964541,0.7280224533974466,0.6914601943698018,0.7531321531358173,0.7686689646208885,0.8326987730131528,0.7906354814193376,0.83326466267384,0.7746950259974548,0.9530643694126172,0.8495623279336875,0.7093096883083553,0.6206570657652412,0.8832217405573765,0.6048833220692463,0.741981544814908,0.6864703761903883,0.7526106728982511,0.6655511739636871,0.8625033285686781,0.6433951327337829,0.6331025390123589,0.6532708274130055,0.6532852341448193,0.6419617624022503,0.7008190125951047,0.7760190943446852,0.7261097651838168,0.6527990129269257,0.6509317394691925,0.7803566638195765,0.6348106745329977,0.6976103743391576,0.8678533369088064,0.624531486424559,0.8221357212510154,0.7454548829901727,0.9282370250657931,0.8334355240092944,0.7781618782345293,0.8026484923532466,0.8495188118767014,0.9087342634354817,0.9798968532311095,0.863476179480584,0.9060208989150643,0.881672545745164,0.7831910452005604,0.8578600385638624,0.8432753964269883,0.7843793015773883,0.8067127594757116,0.8066406297635833,0.840183414348794,0.7376187296530563,0.880209807436704,0.9020480090778498,0.8427557771861603,0.6555460761347784,0.9427803162528566,0.7971910072740888,0.9687511015893513,0.8486163061564798,0.8845956907378608,0.8566506488704101,0.9278113892274569,0.9893109529334527,0.8833951583403191,0.7416312446413494,0.8542030598182102,0.8750360482926371],\"y\":[0.73224,0.71933,0.73688,0.73594,0.728,0.68933,0.70914,0.71962,0.7368,0.717,0.73323,0.71993,0.73359,0.73779,0.73854,0.73565,0.71329,0.72339,0.73552,0.72085,0.73686,0.7347,0.72874,0.73854,0.71555,0.7243,0.73753,0.73377,0.73209,0.73781,0.72491,0.73837,0.73853,0.73193,0.73911,0.73814,0.72193,0.71094,0.73644,0.72725,0.71977,0.73297,0.7209,0.7348,0.73183,0.74043,0.72118,0.71824,0.7338,0.7396,0.73902,0.73376,0.7371,0.73643,0.72546,0.73709,0.73473,0.73631,0.72134,0.73556,0.73495,0.73528,0.71737,0.73288,0.73958,0.7388,0.7203,0.73863,0.73807,0.73479,0.73955,0.74062,0.73668,0.73711,0.72996,0.73808,0.71984,0.73669,0.71779,0.73745,0.73763,0.73746,0.73531,0.73705,0.73922,0.7288,0.73702,0.72981,0.73402,0.73818,0.73405,0.73776,0.73767,0.73642,0.73682,0.72692,0.72468,0.73527,0.73729,0.72128],\"type\":\"scatter\",\"xaxis\":\"x\",\"yaxis\":\"y\"},{\"marker\":{\"color\":[0,1,2,3,4,5,6,7,8,9,10,11,12,13,14,15,16,17,18,19,20,21,22,23,24,25,26,27,28,29,30,31,32,33,34,35,36,37,38,39,40,41,42,43,44,45,46,47,48,49,50,51,52,53,54,55,56,57,58,59,60,61,62,63,64,65,66,67,68,69,70,71,72,73,74,75,76,77,78,79,80,81,82,83,84,85,86,87,88,89,90,91,92,93,94,95,96,97,98,99],\"colorbar\":{\"title\":{\"text\":\"Trial\"},\"x\":1.0,\"xpad\":40},\"colorscale\":[[0.0,\"rgb(247,251,255)\"],[0.125,\"rgb(222,235,247)\"],[0.25,\"rgb(198,219,239)\"],[0.375,\"rgb(158,202,225)\"],[0.5,\"rgb(107,174,214)\"],[0.625,\"rgb(66,146,198)\"],[0.75,\"rgb(33,113,181)\"],[0.875,\"rgb(8,81,156)\"],[1.0,\"rgb(8,48,107)\"]],\"line\":{\"color\":\"Grey\",\"width\":0.5},\"showscale\":false},\"mode\":\"markers\",\"showlegend\":false,\"x\":[\"error\",\"error\",\"error\",\"error\",\"error\",\"error\",\"error\",\"error\",\"error\",\"error\",\"error\",\"error\",\"error\",\"error\",\"error\",\"error\",\"error\",\"error\",\"error\",\"error\",\"error\",\"error\",\"error\",\"error\",\"error\",\"error\",\"error\",\"error\",\"error\",\"error\",\"error\",\"error\",\"error\",\"error\",\"error\",\"error\",\"error\",\"error\",\"error\",\"error\",\"error\",\"error\",\"error\",\"error\",\"error\",\"error\",\"error\",\"error\",\"error\",\"error\",\"error\",\"error\",\"error\",\"error\",\"error\",\"error\",\"error\",\"error\",\"error\",\"error\",\"error\",\"error\",\"error\",\"error\",\"error\",\"error\",\"error\",\"error\",\"error\",\"error\",\"error\",\"error\",\"error\",\"error\",\"error\",\"error\",\"error\",\"error\",\"error\",\"error\",\"error\",\"error\",\"error\",\"error\",\"error\",\"error\",\"error\",\"error\",\"error\",\"error\",\"error\",\"error\",\"error\",\"error\",\"error\",\"error\",\"error\",\"error\",\"error\",\"error\"],\"y\":[0.73224,0.71933,0.73688,0.73594,0.728,0.68933,0.70914,0.71962,0.7368,0.717,0.73323,0.71993,0.73359,0.73779,0.73854,0.73565,0.71329,0.72339,0.73552,0.72085,0.73686,0.7347,0.72874,0.73854,0.71555,0.7243,0.73753,0.73377,0.73209,0.73781,0.72491,0.73837,0.73853,0.73193,0.73911,0.73814,0.72193,0.71094,0.73644,0.72725,0.71977,0.73297,0.7209,0.7348,0.73183,0.74043,0.72118,0.71824,0.7338,0.7396,0.73902,0.73376,0.7371,0.73643,0.72546,0.73709,0.73473,0.73631,0.72134,0.73556,0.73495,0.73528,0.71737,0.73288,0.73958,0.7388,0.7203,0.73863,0.73807,0.73479,0.73955,0.74062,0.73668,0.73711,0.72996,0.73808,0.71984,0.73669,0.71779,0.73745,0.73763,0.73746,0.73531,0.73705,0.73922,0.7288,0.73702,0.72981,0.73402,0.73818,0.73405,0.73776,0.73767,0.73642,0.73682,0.72692,0.72468,0.73527,0.73729,0.72128],\"type\":\"scatter\",\"xaxis\":\"x2\",\"yaxis\":\"y2\"},{\"marker\":{\"color\":[0,1,2,3,4,5,6,7,8,9,10,11,12,13,14,15,16,17,18,19,20,21,22,23,24,25,26,27,28,29,30,31,32,33,34,35,36,37,38,39,40,41,42,43,44,45,46,47,48,49,50,51,52,53,54,55,56,57,58,59,60,61,62,63,64,65,66,67,68,69,70,71,72,73,74,75,76,77,78,79,80,81,82,83,84,85,86,87,88,89,90,91,92,93,94,95,96,97,98,99],\"colorbar\":{\"title\":{\"text\":\"Trial\"},\"x\":1.0,\"xpad\":40},\"colorscale\":[[0.0,\"rgb(247,251,255)\"],[0.125,\"rgb(222,235,247)\"],[0.25,\"rgb(198,219,239)\"],[0.375,\"rgb(158,202,225)\"],[0.5,\"rgb(107,174,214)\"],[0.625,\"rgb(66,146,198)\"],[0.75,\"rgb(33,113,181)\"],[0.875,\"rgb(8,81,156)\"],[1.0,\"rgb(8,48,107)\"]],\"line\":{\"color\":\"Grey\",\"width\":0.5},\"showscale\":false},\"mode\":\"markers\",\"showlegend\":false,\"x\":[0.03659790922415695,0.041670932721309194,0.0053033919968160466,0.03494746340955236,0.045040866518459975,0.0904581803019787,0.08241272890478765,0.025976715034300633,0.01981646682102825,0.04093848315917329,0.004515100360714602,0.041202358244443085,0.032279798482565826,0.005381238834873724,0.00700230706640947,0.010794671364863652,0.0013044177086841986,0.03250508535916006,0.01968078229975417,0.04011795154326336,0.013657353267642286,0.014034264356266351,0.010203112419535691,0.010788277107177186,0.027488136331564307,0.01279314383859732,0.009242520707132792,0.01675180788815271,0.05504271562039689,0.007674734109672982,0.0034607643023871646,0.013524297927253803,0.00805635444903045,0.02309351343318462,0.014628660387959905,0.012021437889057886,0.009752039318684517,0.0003800937092533919,0.012033386792365017,0.0360012822700511,0.03337937210683125,0.004506415159389139,0.0014499004500881738,0.027774446239853194,0.006344586536458653,0.019556213945346332,0.009495474055978694,0.004703120492604844,0.043058996070819415,0.04940749718784734,0.05701297252283363,0.06852920849298372,0.044103104708650386,0.0397785455482278,0.05161857083586573,0.058023764326603396,0.017900370467888817,0.06398568647733831,0.024181455296280234,0.06122342469462571,0.05895985463115207,0.024692888614707937,0.0007037021846400329,0.07388810668834392,0.022622587084418333,0.04848999162715016,0.010302361429195788,0.07433205973625567,0.05924894109929573,0.04602737035927835,0.06882990667770328,0.041081432775325694,0.04432215248397155,0.03462559487467162,0.01937588766441828,0.0578021615208021,0.009145358039874638,0.03726751928995349,0.008846127435849421,0.039969541629619805,0.023988508018904085,0.08411204567725405,0.06619267526143635,0.06222726253180632,0.09431656240255366,0.03405390655914106,0.06531423197092213,0.03973022926529115,0.08744536556971481,0.09879951365023681,0.09242225030207558,0.08357025343533526,0.016048191473543326,0.06375284136666776,0.0629012212221286,0.06404775051040908,0.09301933841416292,0.0309539441709077,0.09926806012277983,0.07697190566396911],\"y\":[0.73224,0.71933,0.73688,0.73594,0.728,0.68933,0.70914,0.71962,0.7368,0.717,0.73323,0.71993,0.73359,0.73779,0.73854,0.73565,0.71329,0.72339,0.73552,0.72085,0.73686,0.7347,0.72874,0.73854,0.71555,0.7243,0.73753,0.73377,0.73209,0.73781,0.72491,0.73837,0.73853,0.73193,0.73911,0.73814,0.72193,0.71094,0.73644,0.72725,0.71977,0.73297,0.7209,0.7348,0.73183,0.74043,0.72118,0.71824,0.7338,0.7396,0.73902,0.73376,0.7371,0.73643,0.72546,0.73709,0.73473,0.73631,0.72134,0.73556,0.73495,0.73528,0.71737,0.73288,0.73958,0.7388,0.7203,0.73863,0.73807,0.73479,0.73955,0.74062,0.73668,0.73711,0.72996,0.73808,0.71984,0.73669,0.71779,0.73745,0.73763,0.73746,0.73531,0.73705,0.73922,0.7288,0.73702,0.72981,0.73402,0.73818,0.73405,0.73776,0.73767,0.73642,0.73682,0.72692,0.72468,0.73527,0.73729,0.72128],\"type\":\"scatter\",\"xaxis\":\"x3\",\"yaxis\":\"y3\"},{\"marker\":{\"color\":[0,1,2,3,4,5,6,7,8,9,10,11,12,13,14,15,16,17,18,19,20,21,22,23,24,25,26,27,28,29,30,31,32,33,34,35,36,37,38,39,40,41,42,43,44,45,46,47,48,49,50,51,52,53,54,55,56,57,58,59,60,61,62,63,64,65,66,67,68,69,70,71,72,73,74,75,76,77,78,79,80,81,82,83,84,85,86,87,88,89,90,91,92,93,94,95,96,97,98,99],\"colorbar\":{\"title\":{\"text\":\"Trial\"},\"x\":1.0,\"xpad\":40},\"colorscale\":[[0.0,\"rgb(247,251,255)\"],[0.125,\"rgb(222,235,247)\"],[0.25,\"rgb(198,219,239)\"],[0.375,\"rgb(158,202,225)\"],[0.5,\"rgb(107,174,214)\"],[0.625,\"rgb(66,146,198)\"],[0.75,\"rgb(33,113,181)\"],[0.875,\"rgb(8,81,156)\"],[1.0,\"rgb(8,48,107)\"]],\"line\":{\"color\":\"Grey\",\"width\":0.5},\"showscale\":false},\"mode\":\"markers\",\"showlegend\":false,\"x\":[4,5,9,4,6,10,10,5,5,8,9,5,3,7,7,8,4,7,9,7,10,7,10,9,10,7,7,3,7,8,7,7,7,7,7,9,3,6,5,8,2,10,7,10,5,5,5,5,4,7,6,6,8,6,6,6,6,5,9,10,8,3,8,5,7,7,8,7,6,8,6,6,7,5,4,5,7,8,7,7,7,6,7,7,8,7,7,7,6,8,9,7,8,7,5,5,8,4,10,6],\"y\":[0.73224,0.71933,0.73688,0.73594,0.728,0.68933,0.70914,0.71962,0.7368,0.717,0.73323,0.71993,0.73359,0.73779,0.73854,0.73565,0.71329,0.72339,0.73552,0.72085,0.73686,0.7347,0.72874,0.73854,0.71555,0.7243,0.73753,0.73377,0.73209,0.73781,0.72491,0.73837,0.73853,0.73193,0.73911,0.73814,0.72193,0.71094,0.73644,0.72725,0.71977,0.73297,0.7209,0.7348,0.73183,0.74043,0.72118,0.71824,0.7338,0.7396,0.73902,0.73376,0.7371,0.73643,0.72546,0.73709,0.73473,0.73631,0.72134,0.73556,0.73495,0.73528,0.71737,0.73288,0.73958,0.7388,0.7203,0.73863,0.73807,0.73479,0.73955,0.74062,0.73668,0.73711,0.72996,0.73808,0.71984,0.73669,0.71779,0.73745,0.73763,0.73746,0.73531,0.73705,0.73922,0.7288,0.73702,0.72981,0.73402,0.73818,0.73405,0.73776,0.73767,0.73642,0.73682,0.72692,0.72468,0.73527,0.73729,0.72128],\"type\":\"scatter\",\"xaxis\":\"x4\",\"yaxis\":\"y4\"},{\"marker\":{\"color\":[0,1,2,3,4,5,6,7,8,9,10,11,12,13,14,15,16,17,18,19,20,21,22,23,24,25,26,27,28,29,30,31,32,33,34,35,36,37,38,39,40,41,42,43,44,45,46,47,48,49,50,51,52,53,54,55,56,57,58,59,60,61,62,63,64,65,66,67,68,69,70,71,72,73,74,75,76,77,78,79,80,81,82,83,84,85,86,87,88,89,90,91,92,93,94,95,96,97,98,99],\"colorbar\":{\"title\":{\"text\":\"Trial\"},\"x\":1.0,\"xpad\":40},\"colorscale\":[[0.0,\"rgb(247,251,255)\"],[0.125,\"rgb(222,235,247)\"],[0.25,\"rgb(198,219,239)\"],[0.375,\"rgb(158,202,225)\"],[0.5,\"rgb(107,174,214)\"],[0.625,\"rgb(66,146,198)\"],[0.75,\"rgb(33,113,181)\"],[0.875,\"rgb(8,81,156)\"],[1.0,\"rgb(8,48,107)\"]],\"line\":{\"color\":\"Grey\",\"width\":0.5},\"showscale\":false},\"mode\":\"markers\",\"showlegend\":false,\"x\":[7,2,8,4,6,10,9,6,8,2,10,10,5,6,4,4,2,9,1,2,6,7,9,6,6,2,4,5,6,4,6,6,6,7,8,8,7,7,7,9,4,6,8,8,6,10,9,10,9,10,10,8,10,10,9,10,10,10,10,8,10,9,9,10,7,10,10,10,10,5,9,10,9,10,10,6,10,7,7,8,6,9,9,9,7,10,6,10,7,6,7,10,9,9,10,10,8,10,7,9],\"y\":[0.73224,0.71933,0.73688,0.73594,0.728,0.68933,0.70914,0.71962,0.7368,0.717,0.73323,0.71993,0.73359,0.73779,0.73854,0.73565,0.71329,0.72339,0.73552,0.72085,0.73686,0.7347,0.72874,0.73854,0.71555,0.7243,0.73753,0.73377,0.73209,0.73781,0.72491,0.73837,0.73853,0.73193,0.73911,0.73814,0.72193,0.71094,0.73644,0.72725,0.71977,0.73297,0.7209,0.7348,0.73183,0.74043,0.72118,0.71824,0.7338,0.7396,0.73902,0.73376,0.7371,0.73643,0.72546,0.73709,0.73473,0.73631,0.72134,0.73556,0.73495,0.73528,0.71737,0.73288,0.73958,0.7388,0.7203,0.73863,0.73807,0.73479,0.73955,0.74062,0.73668,0.73711,0.72996,0.73808,0.71984,0.73669,0.71779,0.73745,0.73763,0.73746,0.73531,0.73705,0.73922,0.7288,0.73702,0.72981,0.73402,0.73818,0.73405,0.73776,0.73767,0.73642,0.73682,0.72692,0.72468,0.73527,0.73729,0.72128],\"type\":\"scatter\",\"xaxis\":\"x5\",\"yaxis\":\"y5\"},{\"marker\":{\"color\":[0,1,2,3,4,5,6,7,8,9,10,11,12,13,14,15,16,17,18,19,20,21,22,23,24,25,26,27,28,29,30,31,32,33,34,35,36,37,38,39,40,41,42,43,44,45,46,47,48,49,50,51,52,53,54,55,56,57,58,59,60,61,62,63,64,65,66,67,68,69,70,71,72,73,74,75,76,77,78,79,80,81,82,83,84,85,86,87,88,89,90,91,92,93,94,95,96,97,98,99],\"colorbar\":{\"title\":{\"text\":\"Trial\"},\"x\":1.0,\"xpad\":40},\"colorscale\":[[0.0,\"rgb(247,251,255)\"],[0.125,\"rgb(222,235,247)\"],[0.25,\"rgb(198,219,239)\"],[0.375,\"rgb(158,202,225)\"],[0.5,\"rgb(107,174,214)\"],[0.625,\"rgb(66,146,198)\"],[0.75,\"rgb(33,113,181)\"],[0.875,\"rgb(8,81,156)\"],[1.0,\"rgb(8,48,107)\"]],\"line\":{\"color\":\"Grey\",\"width\":0.5},\"showscale\":false},\"mode\":\"markers\",\"showlegend\":false,\"x\":[300,1200,900,1100,1100,1100,600,100,700,900,800,900,900,900,900,900,700,1500,500,1100,600,1000,900,800,1200,1000,500,1200,700,800,600,800,900,1000,1100,1300,900,1000,1500,1200,300,700,800,700,800,600,400,600,900,200,300,100,100,200,700,500,1000,300,100,300,500,800,1300,500,500,200,200,100,300,600,200,300,200,400,300,300,100,600,100,500,400,200,100,200,100,100,300,100,100,100,400,200,800,100,200,400,300,800,100,700],\"y\":[0.73224,0.71933,0.73688,0.73594,0.728,0.68933,0.70914,0.71962,0.7368,0.717,0.73323,0.71993,0.73359,0.73779,0.73854,0.73565,0.71329,0.72339,0.73552,0.72085,0.73686,0.7347,0.72874,0.73854,0.71555,0.7243,0.73753,0.73377,0.73209,0.73781,0.72491,0.73837,0.73853,0.73193,0.73911,0.73814,0.72193,0.71094,0.73644,0.72725,0.71977,0.73297,0.7209,0.7348,0.73183,0.74043,0.72118,0.71824,0.7338,0.7396,0.73902,0.73376,0.7371,0.73643,0.72546,0.73709,0.73473,0.73631,0.72134,0.73556,0.73495,0.73528,0.71737,0.73288,0.73958,0.7388,0.7203,0.73863,0.73807,0.73479,0.73955,0.74062,0.73668,0.73711,0.72996,0.73808,0.71984,0.73669,0.71779,0.73745,0.73763,0.73746,0.73531,0.73705,0.73922,0.7288,0.73702,0.72981,0.73402,0.73818,0.73405,0.73776,0.73767,0.73642,0.73682,0.72692,0.72468,0.73527,0.73729,0.72128],\"type\":\"scatter\",\"xaxis\":\"x6\",\"yaxis\":\"y6\"},{\"marker\":{\"color\":[0,1,2,3,4,5,6,7,8,9,10,11,12,13,14,15,16,17,18,19,20,21,22,23,24,25,26,27,28,29,30,31,32,33,34,35,36,37,38,39,40,41,42,43,44,45,46,47,48,49,50,51,52,53,54,55,56,57,58,59,60,61,62,63,64,65,66,67,68,69,70,71,72,73,74,75,76,77,78,79,80,81,82,83,84,85,86,87,88,89,90,91,92,93,94,95,96,97,98,99],\"colorbar\":{\"title\":{\"text\":\"Trial\"},\"x\":1.0,\"xpad\":40},\"colorscale\":[[0.0,\"rgb(247,251,255)\"],[0.125,\"rgb(222,235,247)\"],[0.25,\"rgb(198,219,239)\"],[0.375,\"rgb(158,202,225)\"],[0.5,\"rgb(107,174,214)\"],[0.625,\"rgb(66,146,198)\"],[0.75,\"rgb(33,113,181)\"],[0.875,\"rgb(8,81,156)\"],[1.0,\"rgb(8,48,107)\"]],\"line\":{\"color\":\"Grey\",\"width\":0.5},\"showscale\":false},\"mode\":\"markers\",\"showlegend\":false,\"x\":[-1,-1,-1,-1,-1,-1,-1,-1,-1,-1,-1,-1,-1,-1,-1,-1,-1,-1,-1,-1,-1,-1,-1,-1,-1,-1,-1,-1,-1,-1,-1,-1,-1,-1,-1,-1,-1,-1,-1,-1,-1,-1,-1,-1,-1,-1,-1,-1,-1,-1,-1,-1,-1,-1,-1,-1,-1,-1,-1,-1,-1,-1,-1,-1,-1,-1,-1,-1,-1,-1,-1,-1,-1,-1,-1,-1,-1,-1,-1,-1,-1,-1,-1,-1,-1,-1,-1,-1,-1,-1,-1,-1,-1,-1,-1,-1,-1,-1,-1,-1],\"y\":[0.73224,0.71933,0.73688,0.73594,0.728,0.68933,0.70914,0.71962,0.7368,0.717,0.73323,0.71993,0.73359,0.73779,0.73854,0.73565,0.71329,0.72339,0.73552,0.72085,0.73686,0.7347,0.72874,0.73854,0.71555,0.7243,0.73753,0.73377,0.73209,0.73781,0.72491,0.73837,0.73853,0.73193,0.73911,0.73814,0.72193,0.71094,0.73644,0.72725,0.71977,0.73297,0.7209,0.7348,0.73183,0.74043,0.72118,0.71824,0.7338,0.7396,0.73902,0.73376,0.7371,0.73643,0.72546,0.73709,0.73473,0.73631,0.72134,0.73556,0.73495,0.73528,0.71737,0.73288,0.73958,0.7388,0.7203,0.73863,0.73807,0.73479,0.73955,0.74062,0.73668,0.73711,0.72996,0.73808,0.71984,0.73669,0.71779,0.73745,0.73763,0.73746,0.73531,0.73705,0.73922,0.7288,0.73702,0.72981,0.73402,0.73818,0.73405,0.73776,0.73767,0.73642,0.73682,0.72692,0.72468,0.73527,0.73729,0.72128],\"type\":\"scatter\",\"xaxis\":\"x7\",\"yaxis\":\"y7\"},{\"marker\":{\"color\":[0,1,2,3,4,5,6,7,8,9,10,11,12,13,14,15,16,17,18,19,20,21,22,23,24,25,26,27,28,29,30,31,32,33,34,35,36,37,38,39,40,41,42,43,44,45,46,47,48,49,50,51,52,53,54,55,56,57,58,59,60,61,62,63,64,65,66,67,68,69,70,71,72,73,74,75,76,77,78,79,80,81,82,83,84,85,86,87,88,89,90,91,92,93,94,95,96,97,98,99],\"colorbar\":{\"title\":{\"text\":\"Trial\"},\"x\":1.0,\"xpad\":40},\"colorscale\":[[0.0,\"rgb(247,251,255)\"],[0.125,\"rgb(222,235,247)\"],[0.25,\"rgb(198,219,239)\"],[0.375,\"rgb(158,202,225)\"],[0.5,\"rgb(107,174,214)\"],[0.625,\"rgb(66,146,198)\"],[0.75,\"rgb(33,113,181)\"],[0.875,\"rgb(8,81,156)\"],[1.0,\"rgb(8,48,107)\"]],\"line\":{\"color\":\"Grey\",\"width\":0.5},\"showscale\":false},\"mode\":\"markers\",\"showlegend\":false,\"x\":[\"binary:logistic\",\"binary:logistic\",\"binary:logistic\",\"binary:logistic\",\"binary:logistic\",\"binary:logistic\",\"binary:logistic\",\"binary:logistic\",\"binary:logistic\",\"binary:logistic\",\"binary:logistic\",\"binary:logistic\",\"binary:logistic\",\"binary:logistic\",\"binary:logistic\",\"binary:logistic\",\"binary:logistic\",\"binary:logistic\",\"binary:logistic\",\"binary:logistic\",\"binary:logistic\",\"binary:logistic\",\"binary:logistic\",\"binary:logistic\",\"binary:logistic\",\"binary:logistic\",\"binary:logistic\",\"binary:logistic\",\"binary:logistic\",\"binary:logistic\",\"binary:logistic\",\"binary:logistic\",\"binary:logistic\",\"binary:logistic\",\"binary:logistic\",\"binary:logistic\",\"binary:logistic\",\"binary:logistic\",\"binary:logistic\",\"binary:logistic\",\"binary:logistic\",\"binary:logistic\",\"binary:logistic\",\"binary:logistic\",\"binary:logistic\",\"binary:logistic\",\"binary:logistic\",\"binary:logistic\",\"binary:logistic\",\"binary:logistic\",\"binary:logistic\",\"binary:logistic\",\"binary:logistic\",\"binary:logistic\",\"binary:logistic\",\"binary:logistic\",\"binary:logistic\",\"binary:logistic\",\"binary:logistic\",\"binary:logistic\",\"binary:logistic\",\"binary:logistic\",\"binary:logistic\",\"binary:logistic\",\"binary:logistic\",\"binary:logistic\",\"binary:logistic\",\"binary:logistic\",\"binary:logistic\",\"binary:logistic\",\"binary:logistic\",\"binary:logistic\",\"binary:logistic\",\"binary:logistic\",\"binary:logistic\",\"binary:logistic\",\"binary:logistic\",\"binary:logistic\",\"binary:logistic\",\"binary:logistic\",\"binary:logistic\",\"binary:logistic\",\"binary:logistic\",\"binary:logistic\",\"binary:logistic\",\"binary:logistic\",\"binary:logistic\",\"binary:logistic\",\"binary:logistic\",\"binary:logistic\",\"binary:logistic\",\"binary:logistic\",\"binary:logistic\",\"binary:logistic\",\"binary:logistic\",\"binary:logistic\",\"binary:logistic\",\"binary:logistic\",\"binary:logistic\",\"binary:logistic\"],\"y\":[0.73224,0.71933,0.73688,0.73594,0.728,0.68933,0.70914,0.71962,0.7368,0.717,0.73323,0.71993,0.73359,0.73779,0.73854,0.73565,0.71329,0.72339,0.73552,0.72085,0.73686,0.7347,0.72874,0.73854,0.71555,0.7243,0.73753,0.73377,0.73209,0.73781,0.72491,0.73837,0.73853,0.73193,0.73911,0.73814,0.72193,0.71094,0.73644,0.72725,0.71977,0.73297,0.7209,0.7348,0.73183,0.74043,0.72118,0.71824,0.7338,0.7396,0.73902,0.73376,0.7371,0.73643,0.72546,0.73709,0.73473,0.73631,0.72134,0.73556,0.73495,0.73528,0.71737,0.73288,0.73958,0.7388,0.7203,0.73863,0.73807,0.73479,0.73955,0.74062,0.73668,0.73711,0.72996,0.73808,0.71984,0.73669,0.71779,0.73745,0.73763,0.73746,0.73531,0.73705,0.73922,0.7288,0.73702,0.72981,0.73402,0.73818,0.73405,0.73776,0.73767,0.73642,0.73682,0.72692,0.72468,0.73527,0.73729,0.72128],\"type\":\"scatter\",\"xaxis\":\"x8\",\"yaxis\":\"y8\"},{\"marker\":{\"color\":[0,1,2,3,4,5,6,7,8,9,10,11,12,13,14,15,16,17,18,19,20,21,22,23,24,25,26,27,28,29,30,31,32,33,34,35,36,37,38,39,40,41,42,43,44,45,46,47,48,49,50,51,52,53,54,55,56,57,58,59,60,61,62,63,64,65,66,67,68,69,70,71,72,73,74,75,76,77,78,79,80,81,82,83,84,85,86,87,88,89,90,91,92,93,94,95,96,97,98,99],\"colorbar\":{\"title\":{\"text\":\"Trial\"},\"x\":1.0,\"xpad\":40},\"colorscale\":[[0.0,\"rgb(247,251,255)\"],[0.125,\"rgb(222,235,247)\"],[0.25,\"rgb(198,219,239)\"],[0.375,\"rgb(158,202,225)\"],[0.5,\"rgb(107,174,214)\"],[0.625,\"rgb(66,146,198)\"],[0.75,\"rgb(33,113,181)\"],[0.875,\"rgb(8,81,156)\"],[1.0,\"rgb(8,48,107)\"]],\"line\":{\"color\":\"Grey\",\"width\":0.5},\"showscale\":false},\"mode\":\"markers\",\"showlegend\":false,\"x\":[71,11,11,71,61,11,31,11,11,41,31,1,41,11,11,11,21,41,21,41,61,11,1,21,21,1,11,11,51,41,51,41,41,31,61,91,61,71,61,61,91,1,31,31,21,31,31,61,41,51,61,51,31,61,21,81,31,81,61,51,51,31,61,41,61,51,71,41,31,71,51,31,41,51,11,31,41,51,51,61,71,21,51,51,51,21,61,61,61,61,81,61,61,51,51,1,31,31,41,41],\"y\":[0.73224,0.71933,0.73688,0.73594,0.728,0.68933,0.70914,0.71962,0.7368,0.717,0.73323,0.71993,0.73359,0.73779,0.73854,0.73565,0.71329,0.72339,0.73552,0.72085,0.73686,0.7347,0.72874,0.73854,0.71555,0.7243,0.73753,0.73377,0.73209,0.73781,0.72491,0.73837,0.73853,0.73193,0.73911,0.73814,0.72193,0.71094,0.73644,0.72725,0.71977,0.73297,0.7209,0.7348,0.73183,0.74043,0.72118,0.71824,0.7338,0.7396,0.73902,0.73376,0.7371,0.73643,0.72546,0.73709,0.73473,0.73631,0.72134,0.73556,0.73495,0.73528,0.71737,0.73288,0.73958,0.7388,0.7203,0.73863,0.73807,0.73479,0.73955,0.74062,0.73668,0.73711,0.72996,0.73808,0.71984,0.73669,0.71779,0.73745,0.73763,0.73746,0.73531,0.73705,0.73922,0.7288,0.73702,0.72981,0.73402,0.73818,0.73405,0.73776,0.73767,0.73642,0.73682,0.72692,0.72468,0.73527,0.73729,0.72128],\"type\":\"scatter\",\"xaxis\":\"x9\",\"yaxis\":\"y9\"},{\"marker\":{\"color\":[0,1,2,3,4,5,6,7,8,9,10,11,12,13,14,15,16,17,18,19,20,21,22,23,24,25,26,27,28,29,30,31,32,33,34,35,36,37,38,39,40,41,42,43,44,45,46,47,48,49,50,51,52,53,54,55,56,57,58,59,60,61,62,63,64,65,66,67,68,69,70,71,72,73,74,75,76,77,78,79,80,81,82,83,84,85,86,87,88,89,90,91,92,93,94,95,96,97,98,99],\"colorbar\":{\"title\":{\"text\":\"Trial\"},\"x\":1.0,\"xpad\":40},\"colorscale\":[[0.0,\"rgb(247,251,255)\"],[0.125,\"rgb(222,235,247)\"],[0.25,\"rgb(198,219,239)\"],[0.375,\"rgb(158,202,225)\"],[0.5,\"rgb(107,174,214)\"],[0.625,\"rgb(66,146,198)\"],[0.75,\"rgb(33,113,181)\"],[0.875,\"rgb(8,81,156)\"],[1.0,\"rgb(8,48,107)\"]],\"line\":{\"color\":\"Grey\",\"width\":0.5},\"showscale\":false},\"mode\":\"markers\",\"showlegend\":false,\"x\":[2.001583949313622,2.001583949313622,2.001583949313622,2.001583949313622,2.001583949313622,2.001583949313622,2.001583949313622,2.001583949313622,2.001583949313622,2.001583949313622,2.001583949313622,2.001583949313622,2.001583949313622,2.001583949313622,2.001583949313622,2.001583949313622,2.001583949313622,2.001583949313622,2.001583949313622,2.001583949313622,2.001583949313622,2.001583949313622,2.001583949313622,2.001583949313622,2.001583949313622,2.001583949313622,2.001583949313622,2.001583949313622,2.001583949313622,2.001583949313622,2.001583949313622,2.001583949313622,2.001583949313622,2.001583949313622,2.001583949313622,2.001583949313622,2.001583949313622,2.001583949313622,2.001583949313622,2.001583949313622,2.001583949313622,2.001583949313622,2.001583949313622,2.001583949313622,2.001583949313622,2.001583949313622,2.001583949313622,2.001583949313622,2.001583949313622,2.001583949313622,2.001583949313622,2.001583949313622,2.001583949313622,2.001583949313622,2.001583949313622,2.001583949313622,2.001583949313622,2.001583949313622,2.001583949313622,2.001583949313622,2.001583949313622,2.001583949313622,2.001583949313622,2.001583949313622,2.001583949313622,2.001583949313622,2.001583949313622,2.001583949313622,2.001583949313622,2.001583949313622,2.001583949313622,2.001583949313622,2.001583949313622,2.001583949313622,2.001583949313622,2.001583949313622,2.001583949313622,2.001583949313622,2.001583949313622,2.001583949313622,2.001583949313622,2.001583949313622,2.001583949313622,2.001583949313622,2.001583949313622,2.001583949313622,2.001583949313622,2.001583949313622,2.001583949313622,2.001583949313622,2.001583949313622,2.001583949313622,2.001583949313622,2.001583949313622,2.001583949313622,2.001583949313622,2.001583949313622,2.001583949313622,2.001583949313622,2.001583949313622],\"y\":[0.73224,0.71933,0.73688,0.73594,0.728,0.68933,0.70914,0.71962,0.7368,0.717,0.73323,0.71993,0.73359,0.73779,0.73854,0.73565,0.71329,0.72339,0.73552,0.72085,0.73686,0.7347,0.72874,0.73854,0.71555,0.7243,0.73753,0.73377,0.73209,0.73781,0.72491,0.73837,0.73853,0.73193,0.73911,0.73814,0.72193,0.71094,0.73644,0.72725,0.71977,0.73297,0.7209,0.7348,0.73183,0.74043,0.72118,0.71824,0.7338,0.7396,0.73902,0.73376,0.7371,0.73643,0.72546,0.73709,0.73473,0.73631,0.72134,0.73556,0.73495,0.73528,0.71737,0.73288,0.73958,0.7388,0.7203,0.73863,0.73807,0.73479,0.73955,0.74062,0.73668,0.73711,0.72996,0.73808,0.71984,0.73669,0.71779,0.73745,0.73763,0.73746,0.73531,0.73705,0.73922,0.7288,0.73702,0.72981,0.73402,0.73818,0.73405,0.73776,0.73767,0.73642,0.73682,0.72692,0.72468,0.73527,0.73729,0.72128],\"type\":\"scatter\",\"xaxis\":\"x10\",\"yaxis\":\"y10\"},{\"marker\":{\"color\":[0,1,2,3,4,5,6,7,8,9,10,11,12,13,14,15,16,17,18,19,20,21,22,23,24,25,26,27,28,29,30,31,32,33,34,35,36,37,38,39,40,41,42,43,44,45,46,47,48,49,50,51,52,53,54,55,56,57,58,59,60,61,62,63,64,65,66,67,68,69,70,71,72,73,74,75,76,77,78,79,80,81,82,83,84,85,86,87,88,89,90,91,92,93,94,95,96,97,98,99],\"colorbar\":{\"title\":{\"text\":\"Trial\"},\"x\":1.0,\"xpad\":40},\"colorscale\":[[0.0,\"rgb(247,251,255)\"],[0.125,\"rgb(222,235,247)\"],[0.25,\"rgb(198,219,239)\"],[0.375,\"rgb(158,202,225)\"],[0.5,\"rgb(107,174,214)\"],[0.625,\"rgb(66,146,198)\"],[0.75,\"rgb(33,113,181)\"],[0.875,\"rgb(8,81,156)\"],[1.0,\"rgb(8,48,107)\"]],\"line\":{\"color\":\"Grey\",\"width\":0.5},\"showscale\":false},\"mode\":\"markers\",\"showlegend\":false,\"x\":[12359,12359,12359,12359,12359,12359,12359,12359,12359,12359,12359,12359,12359,12359,12359,12359,12359,12359,12359,12359,12359,12359,12359,12359,12359,12359,12359,12359,12359,12359,12359,12359,12359,12359,12359,12359,12359,12359,12359,12359,12359,12359,12359,12359,12359,12359,12359,12359,12359,12359,12359,12359,12359,12359,12359,12359,12359,12359,12359,12359,12359,12359,12359,12359,12359,12359,12359,12359,12359,12359,12359,12359,12359,12359,12359,12359,12359,12359,12359,12359,12359,12359,12359,12359,12359,12359,12359,12359,12359,12359,12359,12359,12359,12359,12359,12359,12359,12359,12359,12359],\"y\":[0.73224,0.71933,0.73688,0.73594,0.728,0.68933,0.70914,0.71962,0.7368,0.717,0.73323,0.71993,0.73359,0.73779,0.73854,0.73565,0.71329,0.72339,0.73552,0.72085,0.73686,0.7347,0.72874,0.73854,0.71555,0.7243,0.73753,0.73377,0.73209,0.73781,0.72491,0.73837,0.73853,0.73193,0.73911,0.73814,0.72193,0.71094,0.73644,0.72725,0.71977,0.73297,0.7209,0.7348,0.73183,0.74043,0.72118,0.71824,0.7338,0.7396,0.73902,0.73376,0.7371,0.73643,0.72546,0.73709,0.73473,0.73631,0.72134,0.73556,0.73495,0.73528,0.71737,0.73288,0.73958,0.7388,0.7203,0.73863,0.73807,0.73479,0.73955,0.74062,0.73668,0.73711,0.72996,0.73808,0.71984,0.73669,0.71779,0.73745,0.73763,0.73746,0.73531,0.73705,0.73922,0.7288,0.73702,0.72981,0.73402,0.73818,0.73405,0.73776,0.73767,0.73642,0.73682,0.72692,0.72468,0.73527,0.73729,0.72128],\"type\":\"scatter\",\"xaxis\":\"x11\",\"yaxis\":\"y11\"},{\"marker\":{\"color\":[0,1,2,3,4,5,6,7,8,9,10,11,12,13,14,15,16,17,18,19,20,21,22,23,24,25,26,27,28,29,30,31,32,33,34,35,36,37,38,39,40,41,42,43,44,45,46,47,48,49,50,51,52,53,54,55,56,57,58,59,60,61,62,63,64,65,66,67,68,69,70,71,72,73,74,75,76,77,78,79,80,81,82,83,84,85,86,87,88,89,90,91,92,93,94,95,96,97,98,99],\"colorbar\":{\"title\":{\"text\":\"Trial\"},\"x\":1.0,\"xpad\":40},\"colorscale\":[[0.0,\"rgb(247,251,255)\"],[0.125,\"rgb(222,235,247)\"],[0.25,\"rgb(198,219,239)\"],[0.375,\"rgb(158,202,225)\"],[0.5,\"rgb(107,174,214)\"],[0.625,\"rgb(66,146,198)\"],[0.75,\"rgb(33,113,181)\"],[0.875,\"rgb(8,81,156)\"],[1.0,\"rgb(8,48,107)\"]],\"line\":{\"color\":\"Grey\",\"width\":0.5},\"showscale\":false},\"mode\":\"markers\",\"showlegend\":false,\"x\":[0.7999999999999999,0.85,0.95,0.75,0.95,0.85,0.8999999999999999,1.0,0.7,0.75,1.0,0.7,0.85,0.7999999999999999,0.8999999999999999,0.7999999999999999,0.85,0.7999999999999999,0.8999999999999999,0.8999999999999999,0.7999999999999999,0.95,0.7999999999999999,0.95,0.8999999999999999,0.95,1.0,1.0,0.95,0.8999999999999999,1.0,0.85,0.7999999999999999,0.7,0.85,0.8999999999999999,0.7999999999999999,0.85,0.85,0.85,0.95,0.95,0.7999999999999999,1.0,0.8999999999999999,0.85,0.85,0.85,0.8999999999999999,0.8999999999999999,1.0,1.0,0.7999999999999999,0.8999999999999999,0.85,0.95,0.85,1.0,0.8999999999999999,0.95,0.95,0.7999999999999999,0.85,0.95,0.7999999999999999,1.0,0.75,0.8999999999999999,1.0,0.75,0.85,0.85,0.8999999999999999,0.7999999999999999,0.85,0.85,1.0,0.8999999999999999,0.7999999999999999,1.0,0.85,0.85,0.7999999999999999,0.85,0.95,0.85,0.95,1.0,1.0,0.95,0.85,0.8999999999999999,0.7999999999999999,0.8999999999999999,0.85,0.7999999999999999,0.95,1.0,1.0,0.7999999999999999],\"y\":[0.73224,0.71933,0.73688,0.73594,0.728,0.68933,0.70914,0.71962,0.7368,0.717,0.73323,0.71993,0.73359,0.73779,0.73854,0.73565,0.71329,0.72339,0.73552,0.72085,0.73686,0.7347,0.72874,0.73854,0.71555,0.7243,0.73753,0.73377,0.73209,0.73781,0.72491,0.73837,0.73853,0.73193,0.73911,0.73814,0.72193,0.71094,0.73644,0.72725,0.71977,0.73297,0.7209,0.7348,0.73183,0.74043,0.72118,0.71824,0.7338,0.7396,0.73902,0.73376,0.7371,0.73643,0.72546,0.73709,0.73473,0.73631,0.72134,0.73556,0.73495,0.73528,0.71737,0.73288,0.73958,0.7388,0.7203,0.73863,0.73807,0.73479,0.73955,0.74062,0.73668,0.73711,0.72996,0.73808,0.71984,0.73669,0.71779,0.73745,0.73763,0.73746,0.73531,0.73705,0.73922,0.7288,0.73702,0.72981,0.73402,0.73818,0.73405,0.73776,0.73767,0.73642,0.73682,0.72692,0.72468,0.73527,0.73729,0.72128],\"type\":\"scatter\",\"xaxis\":\"x12\",\"yaxis\":\"y12\"}],                        {\"template\":{\"data\":{\"histogram2dcontour\":[{\"type\":\"histogram2dcontour\",\"colorbar\":{\"outlinewidth\":0,\"ticks\":\"\"},\"colorscale\":[[0.0,\"#0d0887\"],[0.1111111111111111,\"#46039f\"],[0.2222222222222222,\"#7201a8\"],[0.3333333333333333,\"#9c179e\"],[0.4444444444444444,\"#bd3786\"],[0.5555555555555556,\"#d8576b\"],[0.6666666666666666,\"#ed7953\"],[0.7777777777777778,\"#fb9f3a\"],[0.8888888888888888,\"#fdca26\"],[1.0,\"#f0f921\"]]}],\"choropleth\":[{\"type\":\"choropleth\",\"colorbar\":{\"outlinewidth\":0,\"ticks\":\"\"}}],\"histogram2d\":[{\"type\":\"histogram2d\",\"colorbar\":{\"outlinewidth\":0,\"ticks\":\"\"},\"colorscale\":[[0.0,\"#0d0887\"],[0.1111111111111111,\"#46039f\"],[0.2222222222222222,\"#7201a8\"],[0.3333333333333333,\"#9c179e\"],[0.4444444444444444,\"#bd3786\"],[0.5555555555555556,\"#d8576b\"],[0.6666666666666666,\"#ed7953\"],[0.7777777777777778,\"#fb9f3a\"],[0.8888888888888888,\"#fdca26\"],[1.0,\"#f0f921\"]]}],\"heatmap\":[{\"type\":\"heatmap\",\"colorbar\":{\"outlinewidth\":0,\"ticks\":\"\"},\"colorscale\":[[0.0,\"#0d0887\"],[0.1111111111111111,\"#46039f\"],[0.2222222222222222,\"#7201a8\"],[0.3333333333333333,\"#9c179e\"],[0.4444444444444444,\"#bd3786\"],[0.5555555555555556,\"#d8576b\"],[0.6666666666666666,\"#ed7953\"],[0.7777777777777778,\"#fb9f3a\"],[0.8888888888888888,\"#fdca26\"],[1.0,\"#f0f921\"]]}],\"heatmapgl\":[{\"type\":\"heatmapgl\",\"colorbar\":{\"outlinewidth\":0,\"ticks\":\"\"},\"colorscale\":[[0.0,\"#0d0887\"],[0.1111111111111111,\"#46039f\"],[0.2222222222222222,\"#7201a8\"],[0.3333333333333333,\"#9c179e\"],[0.4444444444444444,\"#bd3786\"],[0.5555555555555556,\"#d8576b\"],[0.6666666666666666,\"#ed7953\"],[0.7777777777777778,\"#fb9f3a\"],[0.8888888888888888,\"#fdca26\"],[1.0,\"#f0f921\"]]}],\"contourcarpet\":[{\"type\":\"contourcarpet\",\"colorbar\":{\"outlinewidth\":0,\"ticks\":\"\"}}],\"contour\":[{\"type\":\"contour\",\"colorbar\":{\"outlinewidth\":0,\"ticks\":\"\"},\"colorscale\":[[0.0,\"#0d0887\"],[0.1111111111111111,\"#46039f\"],[0.2222222222222222,\"#7201a8\"],[0.3333333333333333,\"#9c179e\"],[0.4444444444444444,\"#bd3786\"],[0.5555555555555556,\"#d8576b\"],[0.6666666666666666,\"#ed7953\"],[0.7777777777777778,\"#fb9f3a\"],[0.8888888888888888,\"#fdca26\"],[1.0,\"#f0f921\"]]}],\"surface\":[{\"type\":\"surface\",\"colorbar\":{\"outlinewidth\":0,\"ticks\":\"\"},\"colorscale\":[[0.0,\"#0d0887\"],[0.1111111111111111,\"#46039f\"],[0.2222222222222222,\"#7201a8\"],[0.3333333333333333,\"#9c179e\"],[0.4444444444444444,\"#bd3786\"],[0.5555555555555556,\"#d8576b\"],[0.6666666666666666,\"#ed7953\"],[0.7777777777777778,\"#fb9f3a\"],[0.8888888888888888,\"#fdca26\"],[1.0,\"#f0f921\"]]}],\"mesh3d\":[{\"type\":\"mesh3d\",\"colorbar\":{\"outlinewidth\":0,\"ticks\":\"\"}}],\"scatter\":[{\"fillpattern\":{\"fillmode\":\"overlay\",\"size\":10,\"solidity\":0.2},\"type\":\"scatter\"}],\"parcoords\":[{\"type\":\"parcoords\",\"line\":{\"colorbar\":{\"outlinewidth\":0,\"ticks\":\"\"}}}],\"scatterpolargl\":[{\"type\":\"scatterpolargl\",\"marker\":{\"colorbar\":{\"outlinewidth\":0,\"ticks\":\"\"}}}],\"bar\":[{\"error_x\":{\"color\":\"#2a3f5f\"},\"error_y\":{\"color\":\"#2a3f5f\"},\"marker\":{\"line\":{\"color\":\"#E5ECF6\",\"width\":0.5},\"pattern\":{\"fillmode\":\"overlay\",\"size\":10,\"solidity\":0.2}},\"type\":\"bar\"}],\"scattergeo\":[{\"type\":\"scattergeo\",\"marker\":{\"colorbar\":{\"outlinewidth\":0,\"ticks\":\"\"}}}],\"scatterpolar\":[{\"type\":\"scatterpolar\",\"marker\":{\"colorbar\":{\"outlinewidth\":0,\"ticks\":\"\"}}}],\"histogram\":[{\"marker\":{\"pattern\":{\"fillmode\":\"overlay\",\"size\":10,\"solidity\":0.2}},\"type\":\"histogram\"}],\"scattergl\":[{\"type\":\"scattergl\",\"marker\":{\"colorbar\":{\"outlinewidth\":0,\"ticks\":\"\"}}}],\"scatter3d\":[{\"type\":\"scatter3d\",\"line\":{\"colorbar\":{\"outlinewidth\":0,\"ticks\":\"\"}},\"marker\":{\"colorbar\":{\"outlinewidth\":0,\"ticks\":\"\"}}}],\"scattermapbox\":[{\"type\":\"scattermapbox\",\"marker\":{\"colorbar\":{\"outlinewidth\":0,\"ticks\":\"\"}}}],\"scatterternary\":[{\"type\":\"scatterternary\",\"marker\":{\"colorbar\":{\"outlinewidth\":0,\"ticks\":\"\"}}}],\"scattercarpet\":[{\"type\":\"scattercarpet\",\"marker\":{\"colorbar\":{\"outlinewidth\":0,\"ticks\":\"\"}}}],\"carpet\":[{\"aaxis\":{\"endlinecolor\":\"#2a3f5f\",\"gridcolor\":\"white\",\"linecolor\":\"white\",\"minorgridcolor\":\"white\",\"startlinecolor\":\"#2a3f5f\"},\"baxis\":{\"endlinecolor\":\"#2a3f5f\",\"gridcolor\":\"white\",\"linecolor\":\"white\",\"minorgridcolor\":\"white\",\"startlinecolor\":\"#2a3f5f\"},\"type\":\"carpet\"}],\"table\":[{\"cells\":{\"fill\":{\"color\":\"#EBF0F8\"},\"line\":{\"color\":\"white\"}},\"header\":{\"fill\":{\"color\":\"#C8D4E3\"},\"line\":{\"color\":\"white\"}},\"type\":\"table\"}],\"barpolar\":[{\"marker\":{\"line\":{\"color\":\"#E5ECF6\",\"width\":0.5},\"pattern\":{\"fillmode\":\"overlay\",\"size\":10,\"solidity\":0.2}},\"type\":\"barpolar\"}],\"pie\":[{\"automargin\":true,\"type\":\"pie\"}]},\"layout\":{\"autotypenumbers\":\"strict\",\"colorway\":[\"#636efa\",\"#EF553B\",\"#00cc96\",\"#ab63fa\",\"#FFA15A\",\"#19d3f3\",\"#FF6692\",\"#B6E880\",\"#FF97FF\",\"#FECB52\"],\"font\":{\"color\":\"#2a3f5f\"},\"hovermode\":\"closest\",\"hoverlabel\":{\"align\":\"left\"},\"paper_bgcolor\":\"white\",\"plot_bgcolor\":\"#E5ECF6\",\"polar\":{\"bgcolor\":\"#E5ECF6\",\"angularaxis\":{\"gridcolor\":\"white\",\"linecolor\":\"white\",\"ticks\":\"\"},\"radialaxis\":{\"gridcolor\":\"white\",\"linecolor\":\"white\",\"ticks\":\"\"}},\"ternary\":{\"bgcolor\":\"#E5ECF6\",\"aaxis\":{\"gridcolor\":\"white\",\"linecolor\":\"white\",\"ticks\":\"\"},\"baxis\":{\"gridcolor\":\"white\",\"linecolor\":\"white\",\"ticks\":\"\"},\"caxis\":{\"gridcolor\":\"white\",\"linecolor\":\"white\",\"ticks\":\"\"}},\"coloraxis\":{\"colorbar\":{\"outlinewidth\":0,\"ticks\":\"\"}},\"colorscale\":{\"sequential\":[[0.0,\"#0d0887\"],[0.1111111111111111,\"#46039f\"],[0.2222222222222222,\"#7201a8\"],[0.3333333333333333,\"#9c179e\"],[0.4444444444444444,\"#bd3786\"],[0.5555555555555556,\"#d8576b\"],[0.6666666666666666,\"#ed7953\"],[0.7777777777777778,\"#fb9f3a\"],[0.8888888888888888,\"#fdca26\"],[1.0,\"#f0f921\"]],\"sequentialminus\":[[0.0,\"#0d0887\"],[0.1111111111111111,\"#46039f\"],[0.2222222222222222,\"#7201a8\"],[0.3333333333333333,\"#9c179e\"],[0.4444444444444444,\"#bd3786\"],[0.5555555555555556,\"#d8576b\"],[0.6666666666666666,\"#ed7953\"],[0.7777777777777778,\"#fb9f3a\"],[0.8888888888888888,\"#fdca26\"],[1.0,\"#f0f921\"]],\"diverging\":[[0,\"#8e0152\"],[0.1,\"#c51b7d\"],[0.2,\"#de77ae\"],[0.3,\"#f1b6da\"],[0.4,\"#fde0ef\"],[0.5,\"#f7f7f7\"],[0.6,\"#e6f5d0\"],[0.7,\"#b8e186\"],[0.8,\"#7fbc41\"],[0.9,\"#4d9221\"],[1,\"#276419\"]]},\"xaxis\":{\"gridcolor\":\"white\",\"linecolor\":\"white\",\"ticks\":\"\",\"title\":{\"standoff\":15},\"zerolinecolor\":\"white\",\"automargin\":true,\"zerolinewidth\":2},\"yaxis\":{\"gridcolor\":\"white\",\"linecolor\":\"white\",\"ticks\":\"\",\"title\":{\"standoff\":15},\"zerolinecolor\":\"white\",\"automargin\":true,\"zerolinewidth\":2},\"scene\":{\"xaxis\":{\"backgroundcolor\":\"#E5ECF6\",\"gridcolor\":\"white\",\"linecolor\":\"white\",\"showbackground\":true,\"ticks\":\"\",\"zerolinecolor\":\"white\",\"gridwidth\":2},\"yaxis\":{\"backgroundcolor\":\"#E5ECF6\",\"gridcolor\":\"white\",\"linecolor\":\"white\",\"showbackground\":true,\"ticks\":\"\",\"zerolinecolor\":\"white\",\"gridwidth\":2},\"zaxis\":{\"backgroundcolor\":\"#E5ECF6\",\"gridcolor\":\"white\",\"linecolor\":\"white\",\"showbackground\":true,\"ticks\":\"\",\"zerolinecolor\":\"white\",\"gridwidth\":2}},\"shapedefaults\":{\"line\":{\"color\":\"#2a3f5f\"}},\"annotationdefaults\":{\"arrowcolor\":\"#2a3f5f\",\"arrowhead\":0,\"arrowwidth\":1},\"geo\":{\"bgcolor\":\"white\",\"landcolor\":\"#E5ECF6\",\"subunitcolor\":\"white\",\"showland\":true,\"showlakes\":true,\"lakecolor\":\"white\"},\"title\":{\"x\":0.05},\"mapbox\":{\"style\":\"light\"}}},\"xaxis\":{\"anchor\":\"y\",\"domain\":[0.0,0.06805555555555555],\"title\":{\"text\":\"colsample_bytree\"}},\"yaxis\":{\"anchor\":\"x\",\"domain\":[0.0,1.0],\"title\":{\"text\":\"Objective Value\"}},\"xaxis2\":{\"anchor\":\"y2\",\"domain\":[0.08472222222222221,0.15277777777777776],\"title\":{\"text\":\"eval_metric\"}},\"yaxis2\":{\"anchor\":\"x2\",\"domain\":[0.0,1.0],\"matches\":\"y\",\"showticklabels\":false},\"xaxis3\":{\"anchor\":\"y3\",\"domain\":[0.16944444444444443,0.2375],\"title\":{\"text\":\"learning_rate\"}},\"yaxis3\":{\"anchor\":\"x3\",\"domain\":[0.0,1.0],\"matches\":\"y\",\"showticklabels\":false},\"xaxis4\":{\"anchor\":\"y4\",\"domain\":[0.25416666666666665,0.3222222222222222],\"title\":{\"text\":\"max_depth\"}},\"yaxis4\":{\"anchor\":\"x4\",\"domain\":[0.0,1.0],\"matches\":\"y\",\"showticklabels\":false},\"xaxis5\":{\"anchor\":\"y5\",\"domain\":[0.33888888888888885,0.4069444444444444],\"title\":{\"text\":\"min_child_weight\"}},\"yaxis5\":{\"anchor\":\"x5\",\"domain\":[0.0,1.0],\"matches\":\"y\",\"showticklabels\":false},\"xaxis6\":{\"anchor\":\"y6\",\"domain\":[0.42361111111111105,0.4916666666666666],\"title\":{\"text\":\"n_estimators\"}},\"yaxis6\":{\"anchor\":\"x6\",\"domain\":[0.0,1.0],\"matches\":\"y\",\"showticklabels\":false},\"xaxis7\":{\"anchor\":\"y7\",\"domain\":[0.5083333333333333,0.5763888888888888],\"title\":{\"text\":\"n_jobs\"}},\"yaxis7\":{\"anchor\":\"x7\",\"domain\":[0.0,1.0],\"matches\":\"y\",\"showticklabels\":false},\"xaxis8\":{\"anchor\":\"y8\",\"domain\":[0.5930555555555554,0.661111111111111],\"title\":{\"text\":\"objective\"}},\"yaxis8\":{\"anchor\":\"x8\",\"domain\":[0.0,1.0],\"matches\":\"y\",\"showticklabels\":false},\"xaxis9\":{\"anchor\":\"y9\",\"domain\":[0.6777777777777777,0.7458333333333332],\"title\":{\"text\":\"reg_lambda\"}},\"yaxis9\":{\"anchor\":\"x9\",\"domain\":[0.0,1.0],\"matches\":\"y\",\"showticklabels\":false},\"xaxis10\":{\"anchor\":\"y10\",\"domain\":[0.7625,0.8305555555555555],\"title\":{\"text\":\"scale_pos_weight\"}},\"yaxis10\":{\"anchor\":\"x10\",\"domain\":[0.0,1.0],\"matches\":\"y\",\"showticklabels\":false},\"xaxis11\":{\"anchor\":\"y11\",\"domain\":[0.8472222222222221,0.9152777777777776],\"title\":{\"text\":\"seed\"}},\"yaxis11\":{\"anchor\":\"x11\",\"domain\":[0.0,1.0],\"matches\":\"y\",\"showticklabels\":false},\"xaxis12\":{\"anchor\":\"y12\",\"domain\":[0.9319444444444444,0.9999999999999999],\"title\":{\"text\":\"subsample\"}},\"yaxis12\":{\"anchor\":\"x12\",\"domain\":[0.0,1.0],\"matches\":\"y\",\"showticklabels\":false},\"title\":{\"text\":\"Slice Plot\"},\"width\":3600},                        {\"responsive\": true}                    ).then(function(){\n",
       "                            \n",
       "var gd = document.getElementById('50481c6e-17ef-4924-9a37-a1fc773e8233');\n",
       "var x = new MutationObserver(function (mutations, observer) {{\n",
       "        var display = window.getComputedStyle(gd).display;\n",
       "        if (!display || display === 'none') {{\n",
       "            console.log([gd, 'removed!']);\n",
       "            Plotly.purge(gd);\n",
       "            observer.disconnect();\n",
       "        }}\n",
       "}});\n",
       "\n",
       "// Listen for the removal of the full notebook cells\n",
       "var notebookContainer = gd.closest('#notebook-container');\n",
       "if (notebookContainer) {{\n",
       "    x.observe(notebookContainer, {childList: true});\n",
       "}}\n",
       "\n",
       "// Listen for the clearing of the current output cell\n",
       "var outputEl = gd.closest('.output');\n",
       "if (outputEl) {{\n",
       "    x.observe(outputEl, {childList: true});\n",
       "}}\n",
       "\n",
       "                        })                };                });            </script>        </div>"
      ]
     },
     "metadata": {},
     "output_type": "display_data"
    }
   ],
   "source": [
    "optuna.visualization.plot_slice(study_xgb)"
   ]
  },
  {
   "cell_type": "markdown",
   "id": "1d91fdfd",
   "metadata": {},
   "source": [
    "#### 4.4.2.4. Valores Intermediários de Ensaios\n",
    "\n",
    "Como parte desta seção, apresentaremos um gráfico que mostra o progresso de todas as tentativas no processo de estudo.\n",
    "\n",
    "Este gráfico mostra uma linha por tentativa mostrando como o valor objetivo está progredindo (aumentando/diminuindo) durante o processo de treinamento dessa tentativa.\n",
    "\n",
    "Isso pode ser útil para analisar o andamento do teste e por que um determinado conjunto de testes foi removido. A Optuna fornece um método chamado plot_intermediate_values() para a criação deste gráfico.\n",
    "\n",
    "plot_intermediate_values(study) - Este método toma como entrada a instância do estudo e plota um gráfico de linhas onde cada linha representa o progresso da tentativa individual de estudo. O eixo x do gráfico representa um número de etapas da tentativa e o eixo Y representa o valor objetivo.\n",
    "O gráfico terá linhas diminuindo onde estamos tentando minimizar o valor objetivo (MSE) e aumentando onde estamos tentando maximizar o valor objetivo (Precisão) ao longo do tempo.\n",
    "\n",
    "Terá entrada para algumas provas até o final das etapas e para outras até no meio.\n",
    "\n",
    "A razão por trás de algumas das linhas que não executam todas as etapas do treinamento é porque elas foram consideradas de baixo desempenho pela Optuna e podadas antes da conclusão.\n",
    "\n",
    "Abaixo, criamos um gráfico de valores objetivos intermediários de tentativas usando o objeto de estudo da seção perceptron multicamadas."
   ]
  },
  {
   "cell_type": "code",
   "execution_count": 745,
   "id": "24e54b17",
   "metadata": {
    "ExecuteTime": {
     "end_time": "2022-12-22T01:09:02.893405Z",
     "start_time": "2022-12-22T01:09:02.869406Z"
    },
    "scrolled": false
   },
   "outputs": [
    {
     "name": "stderr",
     "output_type": "stream",
     "text": [
      "\u001b[33m[W 2022-12-21 22:09:02,870]\u001b[0m You need to set up the pruning feature to utilize `plot_intermediate_values()`\u001b[0m\n"
     ]
    },
    {
     "data": {
      "application/vnd.plotly.v1+json": {
       "config": {
        "plotlyServerURL": "https://plot.ly"
       },
       "data": [],
       "layout": {
        "showlegend": false,
        "template": {
         "data": {
          "bar": [
           {
            "error_x": {
             "color": "#2a3f5f"
            },
            "error_y": {
             "color": "#2a3f5f"
            },
            "marker": {
             "line": {
              "color": "#E5ECF6",
              "width": 0.5
             },
             "pattern": {
              "fillmode": "overlay",
              "size": 10,
              "solidity": 0.2
             }
            },
            "type": "bar"
           }
          ],
          "barpolar": [
           {
            "marker": {
             "line": {
              "color": "#E5ECF6",
              "width": 0.5
             },
             "pattern": {
              "fillmode": "overlay",
              "size": 10,
              "solidity": 0.2
             }
            },
            "type": "barpolar"
           }
          ],
          "carpet": [
           {
            "aaxis": {
             "endlinecolor": "#2a3f5f",
             "gridcolor": "white",
             "linecolor": "white",
             "minorgridcolor": "white",
             "startlinecolor": "#2a3f5f"
            },
            "baxis": {
             "endlinecolor": "#2a3f5f",
             "gridcolor": "white",
             "linecolor": "white",
             "minorgridcolor": "white",
             "startlinecolor": "#2a3f5f"
            },
            "type": "carpet"
           }
          ],
          "choropleth": [
           {
            "colorbar": {
             "outlinewidth": 0,
             "ticks": ""
            },
            "type": "choropleth"
           }
          ],
          "contour": [
           {
            "colorbar": {
             "outlinewidth": 0,
             "ticks": ""
            },
            "colorscale": [
             [
              0,
              "#0d0887"
             ],
             [
              0.1111111111111111,
              "#46039f"
             ],
             [
              0.2222222222222222,
              "#7201a8"
             ],
             [
              0.3333333333333333,
              "#9c179e"
             ],
             [
              0.4444444444444444,
              "#bd3786"
             ],
             [
              0.5555555555555556,
              "#d8576b"
             ],
             [
              0.6666666666666666,
              "#ed7953"
             ],
             [
              0.7777777777777778,
              "#fb9f3a"
             ],
             [
              0.8888888888888888,
              "#fdca26"
             ],
             [
              1,
              "#f0f921"
             ]
            ],
            "type": "contour"
           }
          ],
          "contourcarpet": [
           {
            "colorbar": {
             "outlinewidth": 0,
             "ticks": ""
            },
            "type": "contourcarpet"
           }
          ],
          "heatmap": [
           {
            "colorbar": {
             "outlinewidth": 0,
             "ticks": ""
            },
            "colorscale": [
             [
              0,
              "#0d0887"
             ],
             [
              0.1111111111111111,
              "#46039f"
             ],
             [
              0.2222222222222222,
              "#7201a8"
             ],
             [
              0.3333333333333333,
              "#9c179e"
             ],
             [
              0.4444444444444444,
              "#bd3786"
             ],
             [
              0.5555555555555556,
              "#d8576b"
             ],
             [
              0.6666666666666666,
              "#ed7953"
             ],
             [
              0.7777777777777778,
              "#fb9f3a"
             ],
             [
              0.8888888888888888,
              "#fdca26"
             ],
             [
              1,
              "#f0f921"
             ]
            ],
            "type": "heatmap"
           }
          ],
          "heatmapgl": [
           {
            "colorbar": {
             "outlinewidth": 0,
             "ticks": ""
            },
            "colorscale": [
             [
              0,
              "#0d0887"
             ],
             [
              0.1111111111111111,
              "#46039f"
             ],
             [
              0.2222222222222222,
              "#7201a8"
             ],
             [
              0.3333333333333333,
              "#9c179e"
             ],
             [
              0.4444444444444444,
              "#bd3786"
             ],
             [
              0.5555555555555556,
              "#d8576b"
             ],
             [
              0.6666666666666666,
              "#ed7953"
             ],
             [
              0.7777777777777778,
              "#fb9f3a"
             ],
             [
              0.8888888888888888,
              "#fdca26"
             ],
             [
              1,
              "#f0f921"
             ]
            ],
            "type": "heatmapgl"
           }
          ],
          "histogram": [
           {
            "marker": {
             "pattern": {
              "fillmode": "overlay",
              "size": 10,
              "solidity": 0.2
             }
            },
            "type": "histogram"
           }
          ],
          "histogram2d": [
           {
            "colorbar": {
             "outlinewidth": 0,
             "ticks": ""
            },
            "colorscale": [
             [
              0,
              "#0d0887"
             ],
             [
              0.1111111111111111,
              "#46039f"
             ],
             [
              0.2222222222222222,
              "#7201a8"
             ],
             [
              0.3333333333333333,
              "#9c179e"
             ],
             [
              0.4444444444444444,
              "#bd3786"
             ],
             [
              0.5555555555555556,
              "#d8576b"
             ],
             [
              0.6666666666666666,
              "#ed7953"
             ],
             [
              0.7777777777777778,
              "#fb9f3a"
             ],
             [
              0.8888888888888888,
              "#fdca26"
             ],
             [
              1,
              "#f0f921"
             ]
            ],
            "type": "histogram2d"
           }
          ],
          "histogram2dcontour": [
           {
            "colorbar": {
             "outlinewidth": 0,
             "ticks": ""
            },
            "colorscale": [
             [
              0,
              "#0d0887"
             ],
             [
              0.1111111111111111,
              "#46039f"
             ],
             [
              0.2222222222222222,
              "#7201a8"
             ],
             [
              0.3333333333333333,
              "#9c179e"
             ],
             [
              0.4444444444444444,
              "#bd3786"
             ],
             [
              0.5555555555555556,
              "#d8576b"
             ],
             [
              0.6666666666666666,
              "#ed7953"
             ],
             [
              0.7777777777777778,
              "#fb9f3a"
             ],
             [
              0.8888888888888888,
              "#fdca26"
             ],
             [
              1,
              "#f0f921"
             ]
            ],
            "type": "histogram2dcontour"
           }
          ],
          "mesh3d": [
           {
            "colorbar": {
             "outlinewidth": 0,
             "ticks": ""
            },
            "type": "mesh3d"
           }
          ],
          "parcoords": [
           {
            "line": {
             "colorbar": {
              "outlinewidth": 0,
              "ticks": ""
             }
            },
            "type": "parcoords"
           }
          ],
          "pie": [
           {
            "automargin": true,
            "type": "pie"
           }
          ],
          "scatter": [
           {
            "fillpattern": {
             "fillmode": "overlay",
             "size": 10,
             "solidity": 0.2
            },
            "type": "scatter"
           }
          ],
          "scatter3d": [
           {
            "line": {
             "colorbar": {
              "outlinewidth": 0,
              "ticks": ""
             }
            },
            "marker": {
             "colorbar": {
              "outlinewidth": 0,
              "ticks": ""
             }
            },
            "type": "scatter3d"
           }
          ],
          "scattercarpet": [
           {
            "marker": {
             "colorbar": {
              "outlinewidth": 0,
              "ticks": ""
             }
            },
            "type": "scattercarpet"
           }
          ],
          "scattergeo": [
           {
            "marker": {
             "colorbar": {
              "outlinewidth": 0,
              "ticks": ""
             }
            },
            "type": "scattergeo"
           }
          ],
          "scattergl": [
           {
            "marker": {
             "colorbar": {
              "outlinewidth": 0,
              "ticks": ""
             }
            },
            "type": "scattergl"
           }
          ],
          "scattermapbox": [
           {
            "marker": {
             "colorbar": {
              "outlinewidth": 0,
              "ticks": ""
             }
            },
            "type": "scattermapbox"
           }
          ],
          "scatterpolar": [
           {
            "marker": {
             "colorbar": {
              "outlinewidth": 0,
              "ticks": ""
             }
            },
            "type": "scatterpolar"
           }
          ],
          "scatterpolargl": [
           {
            "marker": {
             "colorbar": {
              "outlinewidth": 0,
              "ticks": ""
             }
            },
            "type": "scatterpolargl"
           }
          ],
          "scatterternary": [
           {
            "marker": {
             "colorbar": {
              "outlinewidth": 0,
              "ticks": ""
             }
            },
            "type": "scatterternary"
           }
          ],
          "surface": [
           {
            "colorbar": {
             "outlinewidth": 0,
             "ticks": ""
            },
            "colorscale": [
             [
              0,
              "#0d0887"
             ],
             [
              0.1111111111111111,
              "#46039f"
             ],
             [
              0.2222222222222222,
              "#7201a8"
             ],
             [
              0.3333333333333333,
              "#9c179e"
             ],
             [
              0.4444444444444444,
              "#bd3786"
             ],
             [
              0.5555555555555556,
              "#d8576b"
             ],
             [
              0.6666666666666666,
              "#ed7953"
             ],
             [
              0.7777777777777778,
              "#fb9f3a"
             ],
             [
              0.8888888888888888,
              "#fdca26"
             ],
             [
              1,
              "#f0f921"
             ]
            ],
            "type": "surface"
           }
          ],
          "table": [
           {
            "cells": {
             "fill": {
              "color": "#EBF0F8"
             },
             "line": {
              "color": "white"
             }
            },
            "header": {
             "fill": {
              "color": "#C8D4E3"
             },
             "line": {
              "color": "white"
             }
            },
            "type": "table"
           }
          ]
         },
         "layout": {
          "annotationdefaults": {
           "arrowcolor": "#2a3f5f",
           "arrowhead": 0,
           "arrowwidth": 1
          },
          "autotypenumbers": "strict",
          "coloraxis": {
           "colorbar": {
            "outlinewidth": 0,
            "ticks": ""
           }
          },
          "colorscale": {
           "diverging": [
            [
             0,
             "#8e0152"
            ],
            [
             0.1,
             "#c51b7d"
            ],
            [
             0.2,
             "#de77ae"
            ],
            [
             0.3,
             "#f1b6da"
            ],
            [
             0.4,
             "#fde0ef"
            ],
            [
             0.5,
             "#f7f7f7"
            ],
            [
             0.6,
             "#e6f5d0"
            ],
            [
             0.7,
             "#b8e186"
            ],
            [
             0.8,
             "#7fbc41"
            ],
            [
             0.9,
             "#4d9221"
            ],
            [
             1,
             "#276419"
            ]
           ],
           "sequential": [
            [
             0,
             "#0d0887"
            ],
            [
             0.1111111111111111,
             "#46039f"
            ],
            [
             0.2222222222222222,
             "#7201a8"
            ],
            [
             0.3333333333333333,
             "#9c179e"
            ],
            [
             0.4444444444444444,
             "#bd3786"
            ],
            [
             0.5555555555555556,
             "#d8576b"
            ],
            [
             0.6666666666666666,
             "#ed7953"
            ],
            [
             0.7777777777777778,
             "#fb9f3a"
            ],
            [
             0.8888888888888888,
             "#fdca26"
            ],
            [
             1,
             "#f0f921"
            ]
           ],
           "sequentialminus": [
            [
             0,
             "#0d0887"
            ],
            [
             0.1111111111111111,
             "#46039f"
            ],
            [
             0.2222222222222222,
             "#7201a8"
            ],
            [
             0.3333333333333333,
             "#9c179e"
            ],
            [
             0.4444444444444444,
             "#bd3786"
            ],
            [
             0.5555555555555556,
             "#d8576b"
            ],
            [
             0.6666666666666666,
             "#ed7953"
            ],
            [
             0.7777777777777778,
             "#fb9f3a"
            ],
            [
             0.8888888888888888,
             "#fdca26"
            ],
            [
             1,
             "#f0f921"
            ]
           ]
          },
          "colorway": [
           "#636efa",
           "#EF553B",
           "#00cc96",
           "#ab63fa",
           "#FFA15A",
           "#19d3f3",
           "#FF6692",
           "#B6E880",
           "#FF97FF",
           "#FECB52"
          ],
          "font": {
           "color": "#2a3f5f"
          },
          "geo": {
           "bgcolor": "white",
           "lakecolor": "white",
           "landcolor": "#E5ECF6",
           "showlakes": true,
           "showland": true,
           "subunitcolor": "white"
          },
          "hoverlabel": {
           "align": "left"
          },
          "hovermode": "closest",
          "mapbox": {
           "style": "light"
          },
          "paper_bgcolor": "white",
          "plot_bgcolor": "#E5ECF6",
          "polar": {
           "angularaxis": {
            "gridcolor": "white",
            "linecolor": "white",
            "ticks": ""
           },
           "bgcolor": "#E5ECF6",
           "radialaxis": {
            "gridcolor": "white",
            "linecolor": "white",
            "ticks": ""
           }
          },
          "scene": {
           "xaxis": {
            "backgroundcolor": "#E5ECF6",
            "gridcolor": "white",
            "gridwidth": 2,
            "linecolor": "white",
            "showbackground": true,
            "ticks": "",
            "zerolinecolor": "white"
           },
           "yaxis": {
            "backgroundcolor": "#E5ECF6",
            "gridcolor": "white",
            "gridwidth": 2,
            "linecolor": "white",
            "showbackground": true,
            "ticks": "",
            "zerolinecolor": "white"
           },
           "zaxis": {
            "backgroundcolor": "#E5ECF6",
            "gridcolor": "white",
            "gridwidth": 2,
            "linecolor": "white",
            "showbackground": true,
            "ticks": "",
            "zerolinecolor": "white"
           }
          },
          "shapedefaults": {
           "line": {
            "color": "#2a3f5f"
           }
          },
          "ternary": {
           "aaxis": {
            "gridcolor": "white",
            "linecolor": "white",
            "ticks": ""
           },
           "baxis": {
            "gridcolor": "white",
            "linecolor": "white",
            "ticks": ""
           },
           "bgcolor": "#E5ECF6",
           "caxis": {
            "gridcolor": "white",
            "linecolor": "white",
            "ticks": ""
           }
          },
          "title": {
           "x": 0.05
          },
          "xaxis": {
           "automargin": true,
           "gridcolor": "white",
           "linecolor": "white",
           "ticks": "",
           "title": {
            "standoff": 15
           },
           "zerolinecolor": "white",
           "zerolinewidth": 2
          },
          "yaxis": {
           "automargin": true,
           "gridcolor": "white",
           "linecolor": "white",
           "ticks": "",
           "title": {
            "standoff": 15
           },
           "zerolinecolor": "white",
           "zerolinewidth": 2
          }
         }
        },
        "title": {
         "text": "Intermediate Values Plot"
        },
        "xaxis": {
         "title": {
          "text": "Step"
         }
        },
        "yaxis": {
         "title": {
          "text": "Intermediate Value"
         }
        }
       }
      },
      "text/html": [
       "<div>                            <div id=\"b03e14f5-58a6-454d-bd34-f950b676f115\" class=\"plotly-graph-div\" style=\"height:525px; width:100%;\"></div>            <script type=\"text/javascript\">                require([\"plotly\"], function(Plotly) {                    window.PLOTLYENV=window.PLOTLYENV || {};                                    if (document.getElementById(\"b03e14f5-58a6-454d-bd34-f950b676f115\")) {                    Plotly.newPlot(                        \"b03e14f5-58a6-454d-bd34-f950b676f115\",                        [],                        {\"showlegend\":false,\"title\":{\"text\":\"Intermediate Values Plot\"},\"xaxis\":{\"title\":{\"text\":\"Step\"}},\"yaxis\":{\"title\":{\"text\":\"Intermediate Value\"}},\"template\":{\"data\":{\"histogram2dcontour\":[{\"type\":\"histogram2dcontour\",\"colorbar\":{\"outlinewidth\":0,\"ticks\":\"\"},\"colorscale\":[[0.0,\"#0d0887\"],[0.1111111111111111,\"#46039f\"],[0.2222222222222222,\"#7201a8\"],[0.3333333333333333,\"#9c179e\"],[0.4444444444444444,\"#bd3786\"],[0.5555555555555556,\"#d8576b\"],[0.6666666666666666,\"#ed7953\"],[0.7777777777777778,\"#fb9f3a\"],[0.8888888888888888,\"#fdca26\"],[1.0,\"#f0f921\"]]}],\"choropleth\":[{\"type\":\"choropleth\",\"colorbar\":{\"outlinewidth\":0,\"ticks\":\"\"}}],\"histogram2d\":[{\"type\":\"histogram2d\",\"colorbar\":{\"outlinewidth\":0,\"ticks\":\"\"},\"colorscale\":[[0.0,\"#0d0887\"],[0.1111111111111111,\"#46039f\"],[0.2222222222222222,\"#7201a8\"],[0.3333333333333333,\"#9c179e\"],[0.4444444444444444,\"#bd3786\"],[0.5555555555555556,\"#d8576b\"],[0.6666666666666666,\"#ed7953\"],[0.7777777777777778,\"#fb9f3a\"],[0.8888888888888888,\"#fdca26\"],[1.0,\"#f0f921\"]]}],\"heatmap\":[{\"type\":\"heatmap\",\"colorbar\":{\"outlinewidth\":0,\"ticks\":\"\"},\"colorscale\":[[0.0,\"#0d0887\"],[0.1111111111111111,\"#46039f\"],[0.2222222222222222,\"#7201a8\"],[0.3333333333333333,\"#9c179e\"],[0.4444444444444444,\"#bd3786\"],[0.5555555555555556,\"#d8576b\"],[0.6666666666666666,\"#ed7953\"],[0.7777777777777778,\"#fb9f3a\"],[0.8888888888888888,\"#fdca26\"],[1.0,\"#f0f921\"]]}],\"heatmapgl\":[{\"type\":\"heatmapgl\",\"colorbar\":{\"outlinewidth\":0,\"ticks\":\"\"},\"colorscale\":[[0.0,\"#0d0887\"],[0.1111111111111111,\"#46039f\"],[0.2222222222222222,\"#7201a8\"],[0.3333333333333333,\"#9c179e\"],[0.4444444444444444,\"#bd3786\"],[0.5555555555555556,\"#d8576b\"],[0.6666666666666666,\"#ed7953\"],[0.7777777777777778,\"#fb9f3a\"],[0.8888888888888888,\"#fdca26\"],[1.0,\"#f0f921\"]]}],\"contourcarpet\":[{\"type\":\"contourcarpet\",\"colorbar\":{\"outlinewidth\":0,\"ticks\":\"\"}}],\"contour\":[{\"type\":\"contour\",\"colorbar\":{\"outlinewidth\":0,\"ticks\":\"\"},\"colorscale\":[[0.0,\"#0d0887\"],[0.1111111111111111,\"#46039f\"],[0.2222222222222222,\"#7201a8\"],[0.3333333333333333,\"#9c179e\"],[0.4444444444444444,\"#bd3786\"],[0.5555555555555556,\"#d8576b\"],[0.6666666666666666,\"#ed7953\"],[0.7777777777777778,\"#fb9f3a\"],[0.8888888888888888,\"#fdca26\"],[1.0,\"#f0f921\"]]}],\"surface\":[{\"type\":\"surface\",\"colorbar\":{\"outlinewidth\":0,\"ticks\":\"\"},\"colorscale\":[[0.0,\"#0d0887\"],[0.1111111111111111,\"#46039f\"],[0.2222222222222222,\"#7201a8\"],[0.3333333333333333,\"#9c179e\"],[0.4444444444444444,\"#bd3786\"],[0.5555555555555556,\"#d8576b\"],[0.6666666666666666,\"#ed7953\"],[0.7777777777777778,\"#fb9f3a\"],[0.8888888888888888,\"#fdca26\"],[1.0,\"#f0f921\"]]}],\"mesh3d\":[{\"type\":\"mesh3d\",\"colorbar\":{\"outlinewidth\":0,\"ticks\":\"\"}}],\"scatter\":[{\"fillpattern\":{\"fillmode\":\"overlay\",\"size\":10,\"solidity\":0.2},\"type\":\"scatter\"}],\"parcoords\":[{\"type\":\"parcoords\",\"line\":{\"colorbar\":{\"outlinewidth\":0,\"ticks\":\"\"}}}],\"scatterpolargl\":[{\"type\":\"scatterpolargl\",\"marker\":{\"colorbar\":{\"outlinewidth\":0,\"ticks\":\"\"}}}],\"bar\":[{\"error_x\":{\"color\":\"#2a3f5f\"},\"error_y\":{\"color\":\"#2a3f5f\"},\"marker\":{\"line\":{\"color\":\"#E5ECF6\",\"width\":0.5},\"pattern\":{\"fillmode\":\"overlay\",\"size\":10,\"solidity\":0.2}},\"type\":\"bar\"}],\"scattergeo\":[{\"type\":\"scattergeo\",\"marker\":{\"colorbar\":{\"outlinewidth\":0,\"ticks\":\"\"}}}],\"scatterpolar\":[{\"type\":\"scatterpolar\",\"marker\":{\"colorbar\":{\"outlinewidth\":0,\"ticks\":\"\"}}}],\"histogram\":[{\"marker\":{\"pattern\":{\"fillmode\":\"overlay\",\"size\":10,\"solidity\":0.2}},\"type\":\"histogram\"}],\"scattergl\":[{\"type\":\"scattergl\",\"marker\":{\"colorbar\":{\"outlinewidth\":0,\"ticks\":\"\"}}}],\"scatter3d\":[{\"type\":\"scatter3d\",\"line\":{\"colorbar\":{\"outlinewidth\":0,\"ticks\":\"\"}},\"marker\":{\"colorbar\":{\"outlinewidth\":0,\"ticks\":\"\"}}}],\"scattermapbox\":[{\"type\":\"scattermapbox\",\"marker\":{\"colorbar\":{\"outlinewidth\":0,\"ticks\":\"\"}}}],\"scatterternary\":[{\"type\":\"scatterternary\",\"marker\":{\"colorbar\":{\"outlinewidth\":0,\"ticks\":\"\"}}}],\"scattercarpet\":[{\"type\":\"scattercarpet\",\"marker\":{\"colorbar\":{\"outlinewidth\":0,\"ticks\":\"\"}}}],\"carpet\":[{\"aaxis\":{\"endlinecolor\":\"#2a3f5f\",\"gridcolor\":\"white\",\"linecolor\":\"white\",\"minorgridcolor\":\"white\",\"startlinecolor\":\"#2a3f5f\"},\"baxis\":{\"endlinecolor\":\"#2a3f5f\",\"gridcolor\":\"white\",\"linecolor\":\"white\",\"minorgridcolor\":\"white\",\"startlinecolor\":\"#2a3f5f\"},\"type\":\"carpet\"}],\"table\":[{\"cells\":{\"fill\":{\"color\":\"#EBF0F8\"},\"line\":{\"color\":\"white\"}},\"header\":{\"fill\":{\"color\":\"#C8D4E3\"},\"line\":{\"color\":\"white\"}},\"type\":\"table\"}],\"barpolar\":[{\"marker\":{\"line\":{\"color\":\"#E5ECF6\",\"width\":0.5},\"pattern\":{\"fillmode\":\"overlay\",\"size\":10,\"solidity\":0.2}},\"type\":\"barpolar\"}],\"pie\":[{\"automargin\":true,\"type\":\"pie\"}]},\"layout\":{\"autotypenumbers\":\"strict\",\"colorway\":[\"#636efa\",\"#EF553B\",\"#00cc96\",\"#ab63fa\",\"#FFA15A\",\"#19d3f3\",\"#FF6692\",\"#B6E880\",\"#FF97FF\",\"#FECB52\"],\"font\":{\"color\":\"#2a3f5f\"},\"hovermode\":\"closest\",\"hoverlabel\":{\"align\":\"left\"},\"paper_bgcolor\":\"white\",\"plot_bgcolor\":\"#E5ECF6\",\"polar\":{\"bgcolor\":\"#E5ECF6\",\"angularaxis\":{\"gridcolor\":\"white\",\"linecolor\":\"white\",\"ticks\":\"\"},\"radialaxis\":{\"gridcolor\":\"white\",\"linecolor\":\"white\",\"ticks\":\"\"}},\"ternary\":{\"bgcolor\":\"#E5ECF6\",\"aaxis\":{\"gridcolor\":\"white\",\"linecolor\":\"white\",\"ticks\":\"\"},\"baxis\":{\"gridcolor\":\"white\",\"linecolor\":\"white\",\"ticks\":\"\"},\"caxis\":{\"gridcolor\":\"white\",\"linecolor\":\"white\",\"ticks\":\"\"}},\"coloraxis\":{\"colorbar\":{\"outlinewidth\":0,\"ticks\":\"\"}},\"colorscale\":{\"sequential\":[[0.0,\"#0d0887\"],[0.1111111111111111,\"#46039f\"],[0.2222222222222222,\"#7201a8\"],[0.3333333333333333,\"#9c179e\"],[0.4444444444444444,\"#bd3786\"],[0.5555555555555556,\"#d8576b\"],[0.6666666666666666,\"#ed7953\"],[0.7777777777777778,\"#fb9f3a\"],[0.8888888888888888,\"#fdca26\"],[1.0,\"#f0f921\"]],\"sequentialminus\":[[0.0,\"#0d0887\"],[0.1111111111111111,\"#46039f\"],[0.2222222222222222,\"#7201a8\"],[0.3333333333333333,\"#9c179e\"],[0.4444444444444444,\"#bd3786\"],[0.5555555555555556,\"#d8576b\"],[0.6666666666666666,\"#ed7953\"],[0.7777777777777778,\"#fb9f3a\"],[0.8888888888888888,\"#fdca26\"],[1.0,\"#f0f921\"]],\"diverging\":[[0,\"#8e0152\"],[0.1,\"#c51b7d\"],[0.2,\"#de77ae\"],[0.3,\"#f1b6da\"],[0.4,\"#fde0ef\"],[0.5,\"#f7f7f7\"],[0.6,\"#e6f5d0\"],[0.7,\"#b8e186\"],[0.8,\"#7fbc41\"],[0.9,\"#4d9221\"],[1,\"#276419\"]]},\"xaxis\":{\"gridcolor\":\"white\",\"linecolor\":\"white\",\"ticks\":\"\",\"title\":{\"standoff\":15},\"zerolinecolor\":\"white\",\"automargin\":true,\"zerolinewidth\":2},\"yaxis\":{\"gridcolor\":\"white\",\"linecolor\":\"white\",\"ticks\":\"\",\"title\":{\"standoff\":15},\"zerolinecolor\":\"white\",\"automargin\":true,\"zerolinewidth\":2},\"scene\":{\"xaxis\":{\"backgroundcolor\":\"#E5ECF6\",\"gridcolor\":\"white\",\"linecolor\":\"white\",\"showbackground\":true,\"ticks\":\"\",\"zerolinecolor\":\"white\",\"gridwidth\":2},\"yaxis\":{\"backgroundcolor\":\"#E5ECF6\",\"gridcolor\":\"white\",\"linecolor\":\"white\",\"showbackground\":true,\"ticks\":\"\",\"zerolinecolor\":\"white\",\"gridwidth\":2},\"zaxis\":{\"backgroundcolor\":\"#E5ECF6\",\"gridcolor\":\"white\",\"linecolor\":\"white\",\"showbackground\":true,\"ticks\":\"\",\"zerolinecolor\":\"white\",\"gridwidth\":2}},\"shapedefaults\":{\"line\":{\"color\":\"#2a3f5f\"}},\"annotationdefaults\":{\"arrowcolor\":\"#2a3f5f\",\"arrowhead\":0,\"arrowwidth\":1},\"geo\":{\"bgcolor\":\"white\",\"landcolor\":\"#E5ECF6\",\"subunitcolor\":\"white\",\"showland\":true,\"showlakes\":true,\"lakecolor\":\"white\"},\"title\":{\"x\":0.05},\"mapbox\":{\"style\":\"light\"}}}},                        {\"responsive\": true}                    ).then(function(){\n",
       "                            \n",
       "var gd = document.getElementById('b03e14f5-58a6-454d-bd34-f950b676f115');\n",
       "var x = new MutationObserver(function (mutations, observer) {{\n",
       "        var display = window.getComputedStyle(gd).display;\n",
       "        if (!display || display === 'none') {{\n",
       "            console.log([gd, 'removed!']);\n",
       "            Plotly.purge(gd);\n",
       "            observer.disconnect();\n",
       "        }}\n",
       "}});\n",
       "\n",
       "// Listen for the removal of the full notebook cells\n",
       "var notebookContainer = gd.closest('#notebook-container');\n",
       "if (notebookContainer) {{\n",
       "    x.observe(notebookContainer, {childList: true});\n",
       "}}\n",
       "\n",
       "// Listen for the clearing of the current output cell\n",
       "var outputEl = gd.closest('.output');\n",
       "if (outputEl) {{\n",
       "    x.observe(outputEl, {childList: true});\n",
       "}}\n",
       "\n",
       "                        })                };                });            </script>        </div>"
      ]
     },
     "metadata": {},
     "output_type": "display_data"
    }
   ],
   "source": [
    "#optuna.visualization.plot_intermediate_values(study)\n",
    "\n",
    "optuna.visualization.plot_intermediate_values(study_xgb)"
   ]
  },
  {
   "cell_type": "markdown",
   "id": "3bf55e77",
   "metadata": {
    "ExecuteTime": {
     "end_time": "2022-12-21T16:49:49.371032Z",
     "start_time": "2022-12-21T16:49:49.342033Z"
    }
   },
   "source": [
    "#### 4.5.2.5. Gráfico da função de distribuição empírica "
   ]
  },
  {
   "cell_type": "code",
   "execution_count": 746,
   "id": "b136c909",
   "metadata": {
    "ExecuteTime": {
     "end_time": "2022-12-22T01:09:11.040422Z",
     "start_time": "2022-12-22T01:09:11.012874Z"
    }
   },
   "outputs": [
    {
     "data": {
      "application/vnd.plotly.v1+json": {
       "config": {
        "plotlyServerURL": "https://plot.ly"
       },
       "data": [
        {
         "mode": "lines",
         "name": "xgb_turning",
         "type": "scatter",
         "x": [
          0.68933,
          0.6898480808080808,
          0.6903661616161616,
          0.6908842424242424,
          0.6914023232323232,
          0.691920404040404,
          0.6924384848484848,
          0.6929565656565656,
          0.6934746464646464,
          0.6939927272727273,
          0.6945108080808081,
          0.6950288888888889,
          0.6955469696969697,
          0.6960650505050505,
          0.6965831313131313,
          0.6971012121212121,
          0.6976192929292929,
          0.6981373737373737,
          0.6986554545454545,
          0.6991735353535353,
          0.6996916161616161,
          0.7002096969696969,
          0.7007277777777777,
          0.7012458585858585,
          0.7017639393939393,
          0.7022820202020202,
          0.702800101010101,
          0.7033181818181818,
          0.7038362626262626,
          0.7043543434343434,
          0.7048724242424242,
          0.705390505050505,
          0.7059085858585858,
          0.7064266666666666,
          0.7069447474747474,
          0.7074628282828282,
          0.707980909090909,
          0.7084989898989899,
          0.7090170707070707,
          0.7095351515151515,
          0.7100532323232323,
          0.710571313131313,
          0.711089393939394,
          0.7116074747474748,
          0.7121255555555556,
          0.7126436363636364,
          0.7131617171717172,
          0.713679797979798,
          0.7141978787878788,
          0.7147159595959596,
          0.7152340404040404,
          0.7157521212121212,
          0.716270202020202,
          0.7167882828282828,
          0.7173063636363636,
          0.7178244444444444,
          0.7183425252525252,
          0.718860606060606,
          0.7193786868686869,
          0.7198967676767677,
          0.7204148484848485,
          0.7209329292929293,
          0.7214510101010101,
          0.7219690909090909,
          0.7224871717171717,
          0.7230052525252525,
          0.7235233333333333,
          0.7240414141414141,
          0.7245594949494949,
          0.7250775757575757,
          0.7255956565656565,
          0.7261137373737373,
          0.7266318181818181,
          0.7271498989898989,
          0.7276679797979797,
          0.7281860606060606,
          0.7287041414141414,
          0.7292222222222222,
          0.729740303030303,
          0.7302583838383838,
          0.7307764646464646,
          0.7312945454545454,
          0.7318126262626262,
          0.732330707070707,
          0.7328487878787878,
          0.7333668686868686,
          0.7338849494949494,
          0.7344030303030302,
          0.734921111111111,
          0.7354391919191918,
          0.7359572727272726,
          0.7364753535353534,
          0.7369934343434343,
          0.7375115151515151,
          0.7380295959595959,
          0.7385476767676767,
          0.7390657575757575,
          0.7395838383838383,
          0.7401019191919191,
          0.74062
         ],
         "y": [
          0.01,
          0.01,
          0.01,
          0.01,
          0.01,
          0.01,
          0.01,
          0.01,
          0.01,
          0.01,
          0.01,
          0.01,
          0.01,
          0.01,
          0.01,
          0.01,
          0.01,
          0.01,
          0.01,
          0.01,
          0.01,
          0.01,
          0.01,
          0.01,
          0.01,
          0.01,
          0.01,
          0.01,
          0.01,
          0.01,
          0.01,
          0.01,
          0.01,
          0.01,
          0.01,
          0.01,
          0.01,
          0.01,
          0.01,
          0.02,
          0.02,
          0.02,
          0.03,
          0.03,
          0.03,
          0.03,
          0.03,
          0.04,
          0.04,
          0.04,
          0.04,
          0.05,
          0.05,
          0.05,
          0.06,
          0.08,
          0.09,
          0.09,
          0.1,
          0.13,
          0.15,
          0.17,
          0.2,
          0.21,
          0.21,
          0.21,
          0.22,
          0.22,
          0.23,
          0.25,
          0.26,
          0.26,
          0.26,
          0.27,
          0.28,
          0.29,
          0.29,
          0.31,
          0.31,
          0.33,
          0.33,
          0.33,
          0.33,
          0.37,
          0.37,
          0.4,
          0.44,
          0.46,
          0.5,
          0.54,
          0.58,
          0.62,
          0.68,
          0.76,
          0.82,
          0.9,
          0.93,
          0.97,
          0.98,
          1
         ]
        }
       ],
       "layout": {
        "template": {
         "data": {
          "bar": [
           {
            "error_x": {
             "color": "#2a3f5f"
            },
            "error_y": {
             "color": "#2a3f5f"
            },
            "marker": {
             "line": {
              "color": "#E5ECF6",
              "width": 0.5
             },
             "pattern": {
              "fillmode": "overlay",
              "size": 10,
              "solidity": 0.2
             }
            },
            "type": "bar"
           }
          ],
          "barpolar": [
           {
            "marker": {
             "line": {
              "color": "#E5ECF6",
              "width": 0.5
             },
             "pattern": {
              "fillmode": "overlay",
              "size": 10,
              "solidity": 0.2
             }
            },
            "type": "barpolar"
           }
          ],
          "carpet": [
           {
            "aaxis": {
             "endlinecolor": "#2a3f5f",
             "gridcolor": "white",
             "linecolor": "white",
             "minorgridcolor": "white",
             "startlinecolor": "#2a3f5f"
            },
            "baxis": {
             "endlinecolor": "#2a3f5f",
             "gridcolor": "white",
             "linecolor": "white",
             "minorgridcolor": "white",
             "startlinecolor": "#2a3f5f"
            },
            "type": "carpet"
           }
          ],
          "choropleth": [
           {
            "colorbar": {
             "outlinewidth": 0,
             "ticks": ""
            },
            "type": "choropleth"
           }
          ],
          "contour": [
           {
            "colorbar": {
             "outlinewidth": 0,
             "ticks": ""
            },
            "colorscale": [
             [
              0,
              "#0d0887"
             ],
             [
              0.1111111111111111,
              "#46039f"
             ],
             [
              0.2222222222222222,
              "#7201a8"
             ],
             [
              0.3333333333333333,
              "#9c179e"
             ],
             [
              0.4444444444444444,
              "#bd3786"
             ],
             [
              0.5555555555555556,
              "#d8576b"
             ],
             [
              0.6666666666666666,
              "#ed7953"
             ],
             [
              0.7777777777777778,
              "#fb9f3a"
             ],
             [
              0.8888888888888888,
              "#fdca26"
             ],
             [
              1,
              "#f0f921"
             ]
            ],
            "type": "contour"
           }
          ],
          "contourcarpet": [
           {
            "colorbar": {
             "outlinewidth": 0,
             "ticks": ""
            },
            "type": "contourcarpet"
           }
          ],
          "heatmap": [
           {
            "colorbar": {
             "outlinewidth": 0,
             "ticks": ""
            },
            "colorscale": [
             [
              0,
              "#0d0887"
             ],
             [
              0.1111111111111111,
              "#46039f"
             ],
             [
              0.2222222222222222,
              "#7201a8"
             ],
             [
              0.3333333333333333,
              "#9c179e"
             ],
             [
              0.4444444444444444,
              "#bd3786"
             ],
             [
              0.5555555555555556,
              "#d8576b"
             ],
             [
              0.6666666666666666,
              "#ed7953"
             ],
             [
              0.7777777777777778,
              "#fb9f3a"
             ],
             [
              0.8888888888888888,
              "#fdca26"
             ],
             [
              1,
              "#f0f921"
             ]
            ],
            "type": "heatmap"
           }
          ],
          "heatmapgl": [
           {
            "colorbar": {
             "outlinewidth": 0,
             "ticks": ""
            },
            "colorscale": [
             [
              0,
              "#0d0887"
             ],
             [
              0.1111111111111111,
              "#46039f"
             ],
             [
              0.2222222222222222,
              "#7201a8"
             ],
             [
              0.3333333333333333,
              "#9c179e"
             ],
             [
              0.4444444444444444,
              "#bd3786"
             ],
             [
              0.5555555555555556,
              "#d8576b"
             ],
             [
              0.6666666666666666,
              "#ed7953"
             ],
             [
              0.7777777777777778,
              "#fb9f3a"
             ],
             [
              0.8888888888888888,
              "#fdca26"
             ],
             [
              1,
              "#f0f921"
             ]
            ],
            "type": "heatmapgl"
           }
          ],
          "histogram": [
           {
            "marker": {
             "pattern": {
              "fillmode": "overlay",
              "size": 10,
              "solidity": 0.2
             }
            },
            "type": "histogram"
           }
          ],
          "histogram2d": [
           {
            "colorbar": {
             "outlinewidth": 0,
             "ticks": ""
            },
            "colorscale": [
             [
              0,
              "#0d0887"
             ],
             [
              0.1111111111111111,
              "#46039f"
             ],
             [
              0.2222222222222222,
              "#7201a8"
             ],
             [
              0.3333333333333333,
              "#9c179e"
             ],
             [
              0.4444444444444444,
              "#bd3786"
             ],
             [
              0.5555555555555556,
              "#d8576b"
             ],
             [
              0.6666666666666666,
              "#ed7953"
             ],
             [
              0.7777777777777778,
              "#fb9f3a"
             ],
             [
              0.8888888888888888,
              "#fdca26"
             ],
             [
              1,
              "#f0f921"
             ]
            ],
            "type": "histogram2d"
           }
          ],
          "histogram2dcontour": [
           {
            "colorbar": {
             "outlinewidth": 0,
             "ticks": ""
            },
            "colorscale": [
             [
              0,
              "#0d0887"
             ],
             [
              0.1111111111111111,
              "#46039f"
             ],
             [
              0.2222222222222222,
              "#7201a8"
             ],
             [
              0.3333333333333333,
              "#9c179e"
             ],
             [
              0.4444444444444444,
              "#bd3786"
             ],
             [
              0.5555555555555556,
              "#d8576b"
             ],
             [
              0.6666666666666666,
              "#ed7953"
             ],
             [
              0.7777777777777778,
              "#fb9f3a"
             ],
             [
              0.8888888888888888,
              "#fdca26"
             ],
             [
              1,
              "#f0f921"
             ]
            ],
            "type": "histogram2dcontour"
           }
          ],
          "mesh3d": [
           {
            "colorbar": {
             "outlinewidth": 0,
             "ticks": ""
            },
            "type": "mesh3d"
           }
          ],
          "parcoords": [
           {
            "line": {
             "colorbar": {
              "outlinewidth": 0,
              "ticks": ""
             }
            },
            "type": "parcoords"
           }
          ],
          "pie": [
           {
            "automargin": true,
            "type": "pie"
           }
          ],
          "scatter": [
           {
            "fillpattern": {
             "fillmode": "overlay",
             "size": 10,
             "solidity": 0.2
            },
            "type": "scatter"
           }
          ],
          "scatter3d": [
           {
            "line": {
             "colorbar": {
              "outlinewidth": 0,
              "ticks": ""
             }
            },
            "marker": {
             "colorbar": {
              "outlinewidth": 0,
              "ticks": ""
             }
            },
            "type": "scatter3d"
           }
          ],
          "scattercarpet": [
           {
            "marker": {
             "colorbar": {
              "outlinewidth": 0,
              "ticks": ""
             }
            },
            "type": "scattercarpet"
           }
          ],
          "scattergeo": [
           {
            "marker": {
             "colorbar": {
              "outlinewidth": 0,
              "ticks": ""
             }
            },
            "type": "scattergeo"
           }
          ],
          "scattergl": [
           {
            "marker": {
             "colorbar": {
              "outlinewidth": 0,
              "ticks": ""
             }
            },
            "type": "scattergl"
           }
          ],
          "scattermapbox": [
           {
            "marker": {
             "colorbar": {
              "outlinewidth": 0,
              "ticks": ""
             }
            },
            "type": "scattermapbox"
           }
          ],
          "scatterpolar": [
           {
            "marker": {
             "colorbar": {
              "outlinewidth": 0,
              "ticks": ""
             }
            },
            "type": "scatterpolar"
           }
          ],
          "scatterpolargl": [
           {
            "marker": {
             "colorbar": {
              "outlinewidth": 0,
              "ticks": ""
             }
            },
            "type": "scatterpolargl"
           }
          ],
          "scatterternary": [
           {
            "marker": {
             "colorbar": {
              "outlinewidth": 0,
              "ticks": ""
             }
            },
            "type": "scatterternary"
           }
          ],
          "surface": [
           {
            "colorbar": {
             "outlinewidth": 0,
             "ticks": ""
            },
            "colorscale": [
             [
              0,
              "#0d0887"
             ],
             [
              0.1111111111111111,
              "#46039f"
             ],
             [
              0.2222222222222222,
              "#7201a8"
             ],
             [
              0.3333333333333333,
              "#9c179e"
             ],
             [
              0.4444444444444444,
              "#bd3786"
             ],
             [
              0.5555555555555556,
              "#d8576b"
             ],
             [
              0.6666666666666666,
              "#ed7953"
             ],
             [
              0.7777777777777778,
              "#fb9f3a"
             ],
             [
              0.8888888888888888,
              "#fdca26"
             ],
             [
              1,
              "#f0f921"
             ]
            ],
            "type": "surface"
           }
          ],
          "table": [
           {
            "cells": {
             "fill": {
              "color": "#EBF0F8"
             },
             "line": {
              "color": "white"
             }
            },
            "header": {
             "fill": {
              "color": "#C8D4E3"
             },
             "line": {
              "color": "white"
             }
            },
            "type": "table"
           }
          ]
         },
         "layout": {
          "annotationdefaults": {
           "arrowcolor": "#2a3f5f",
           "arrowhead": 0,
           "arrowwidth": 1
          },
          "autotypenumbers": "strict",
          "coloraxis": {
           "colorbar": {
            "outlinewidth": 0,
            "ticks": ""
           }
          },
          "colorscale": {
           "diverging": [
            [
             0,
             "#8e0152"
            ],
            [
             0.1,
             "#c51b7d"
            ],
            [
             0.2,
             "#de77ae"
            ],
            [
             0.3,
             "#f1b6da"
            ],
            [
             0.4,
             "#fde0ef"
            ],
            [
             0.5,
             "#f7f7f7"
            ],
            [
             0.6,
             "#e6f5d0"
            ],
            [
             0.7,
             "#b8e186"
            ],
            [
             0.8,
             "#7fbc41"
            ],
            [
             0.9,
             "#4d9221"
            ],
            [
             1,
             "#276419"
            ]
           ],
           "sequential": [
            [
             0,
             "#0d0887"
            ],
            [
             0.1111111111111111,
             "#46039f"
            ],
            [
             0.2222222222222222,
             "#7201a8"
            ],
            [
             0.3333333333333333,
             "#9c179e"
            ],
            [
             0.4444444444444444,
             "#bd3786"
            ],
            [
             0.5555555555555556,
             "#d8576b"
            ],
            [
             0.6666666666666666,
             "#ed7953"
            ],
            [
             0.7777777777777778,
             "#fb9f3a"
            ],
            [
             0.8888888888888888,
             "#fdca26"
            ],
            [
             1,
             "#f0f921"
            ]
           ],
           "sequentialminus": [
            [
             0,
             "#0d0887"
            ],
            [
             0.1111111111111111,
             "#46039f"
            ],
            [
             0.2222222222222222,
             "#7201a8"
            ],
            [
             0.3333333333333333,
             "#9c179e"
            ],
            [
             0.4444444444444444,
             "#bd3786"
            ],
            [
             0.5555555555555556,
             "#d8576b"
            ],
            [
             0.6666666666666666,
             "#ed7953"
            ],
            [
             0.7777777777777778,
             "#fb9f3a"
            ],
            [
             0.8888888888888888,
             "#fdca26"
            ],
            [
             1,
             "#f0f921"
            ]
           ]
          },
          "colorway": [
           "#636efa",
           "#EF553B",
           "#00cc96",
           "#ab63fa",
           "#FFA15A",
           "#19d3f3",
           "#FF6692",
           "#B6E880",
           "#FF97FF",
           "#FECB52"
          ],
          "font": {
           "color": "#2a3f5f"
          },
          "geo": {
           "bgcolor": "white",
           "lakecolor": "white",
           "landcolor": "#E5ECF6",
           "showlakes": true,
           "showland": true,
           "subunitcolor": "white"
          },
          "hoverlabel": {
           "align": "left"
          },
          "hovermode": "closest",
          "mapbox": {
           "style": "light"
          },
          "paper_bgcolor": "white",
          "plot_bgcolor": "#E5ECF6",
          "polar": {
           "angularaxis": {
            "gridcolor": "white",
            "linecolor": "white",
            "ticks": ""
           },
           "bgcolor": "#E5ECF6",
           "radialaxis": {
            "gridcolor": "white",
            "linecolor": "white",
            "ticks": ""
           }
          },
          "scene": {
           "xaxis": {
            "backgroundcolor": "#E5ECF6",
            "gridcolor": "white",
            "gridwidth": 2,
            "linecolor": "white",
            "showbackground": true,
            "ticks": "",
            "zerolinecolor": "white"
           },
           "yaxis": {
            "backgroundcolor": "#E5ECF6",
            "gridcolor": "white",
            "gridwidth": 2,
            "linecolor": "white",
            "showbackground": true,
            "ticks": "",
            "zerolinecolor": "white"
           },
           "zaxis": {
            "backgroundcolor": "#E5ECF6",
            "gridcolor": "white",
            "gridwidth": 2,
            "linecolor": "white",
            "showbackground": true,
            "ticks": "",
            "zerolinecolor": "white"
           }
          },
          "shapedefaults": {
           "line": {
            "color": "#2a3f5f"
           }
          },
          "ternary": {
           "aaxis": {
            "gridcolor": "white",
            "linecolor": "white",
            "ticks": ""
           },
           "baxis": {
            "gridcolor": "white",
            "linecolor": "white",
            "ticks": ""
           },
           "bgcolor": "#E5ECF6",
           "caxis": {
            "gridcolor": "white",
            "linecolor": "white",
            "ticks": ""
           }
          },
          "title": {
           "x": 0.05
          },
          "xaxis": {
           "automargin": true,
           "gridcolor": "white",
           "linecolor": "white",
           "ticks": "",
           "title": {
            "standoff": 15
           },
           "zerolinecolor": "white",
           "zerolinewidth": 2
          },
          "yaxis": {
           "automargin": true,
           "gridcolor": "white",
           "linecolor": "white",
           "ticks": "",
           "title": {
            "standoff": 15
           },
           "zerolinecolor": "white",
           "zerolinewidth": 2
          }
         }
        },
        "title": {
         "text": "Empirical Distribution Function Plot"
        },
        "xaxis": {
         "title": {
          "text": "F1-score média de previsões"
         }
        },
        "yaxis": {
         "range": [
          0,
          1
         ],
         "title": {
          "text": "Cumulative Probability"
         }
        }
       }
      },
      "text/html": [
       "<div>                            <div id=\"0407eb26-5286-41f4-a364-50aae05e66fa\" class=\"plotly-graph-div\" style=\"height:525px; width:100%;\"></div>            <script type=\"text/javascript\">                require([\"plotly\"], function(Plotly) {                    window.PLOTLYENV=window.PLOTLYENV || {};                                    if (document.getElementById(\"0407eb26-5286-41f4-a364-50aae05e66fa\")) {                    Plotly.newPlot(                        \"0407eb26-5286-41f4-a364-50aae05e66fa\",                        [{\"mode\":\"lines\",\"name\":\"xgb_turning\",\"x\":[0.68933,0.6898480808080808,0.6903661616161616,0.6908842424242424,0.6914023232323232,0.691920404040404,0.6924384848484848,0.6929565656565656,0.6934746464646464,0.6939927272727273,0.6945108080808081,0.6950288888888889,0.6955469696969697,0.6960650505050505,0.6965831313131313,0.6971012121212121,0.6976192929292929,0.6981373737373737,0.6986554545454545,0.6991735353535353,0.6996916161616161,0.7002096969696969,0.7007277777777777,0.7012458585858585,0.7017639393939393,0.7022820202020202,0.702800101010101,0.7033181818181818,0.7038362626262626,0.7043543434343434,0.7048724242424242,0.705390505050505,0.7059085858585858,0.7064266666666666,0.7069447474747474,0.7074628282828282,0.707980909090909,0.7084989898989899,0.7090170707070707,0.7095351515151515,0.7100532323232323,0.710571313131313,0.711089393939394,0.7116074747474748,0.7121255555555556,0.7126436363636364,0.7131617171717172,0.713679797979798,0.7141978787878788,0.7147159595959596,0.7152340404040404,0.7157521212121212,0.716270202020202,0.7167882828282828,0.7173063636363636,0.7178244444444444,0.7183425252525252,0.718860606060606,0.7193786868686869,0.7198967676767677,0.7204148484848485,0.7209329292929293,0.7214510101010101,0.7219690909090909,0.7224871717171717,0.7230052525252525,0.7235233333333333,0.7240414141414141,0.7245594949494949,0.7250775757575757,0.7255956565656565,0.7261137373737373,0.7266318181818181,0.7271498989898989,0.7276679797979797,0.7281860606060606,0.7287041414141414,0.7292222222222222,0.729740303030303,0.7302583838383838,0.7307764646464646,0.7312945454545454,0.7318126262626262,0.732330707070707,0.7328487878787878,0.7333668686868686,0.7338849494949494,0.7344030303030302,0.734921111111111,0.7354391919191918,0.7359572727272726,0.7364753535353534,0.7369934343434343,0.7375115151515151,0.7380295959595959,0.7385476767676767,0.7390657575757575,0.7395838383838383,0.7401019191919191,0.74062],\"y\":[0.01,0.01,0.01,0.01,0.01,0.01,0.01,0.01,0.01,0.01,0.01,0.01,0.01,0.01,0.01,0.01,0.01,0.01,0.01,0.01,0.01,0.01,0.01,0.01,0.01,0.01,0.01,0.01,0.01,0.01,0.01,0.01,0.01,0.01,0.01,0.01,0.01,0.01,0.01,0.02,0.02,0.02,0.03,0.03,0.03,0.03,0.03,0.04,0.04,0.04,0.04,0.05,0.05,0.05,0.06,0.08,0.09,0.09,0.1,0.13,0.15,0.17,0.2,0.21,0.21,0.21,0.22,0.22,0.23,0.25,0.26,0.26,0.26,0.27,0.28,0.29,0.29,0.31,0.31,0.33,0.33,0.33,0.33,0.37,0.37,0.4,0.44,0.46,0.5,0.54,0.58,0.62,0.68,0.76,0.82,0.9,0.93,0.97,0.98,1.0],\"type\":\"scatter\"}],                        {\"title\":{\"text\":\"Empirical Distribution Function Plot\"},\"xaxis\":{\"title\":{\"text\":\"F1-score m\\u00e9dia de previs\\u00f5es\"}},\"yaxis\":{\"title\":{\"text\":\"Cumulative Probability\"},\"range\":[0,1]},\"template\":{\"data\":{\"histogram2dcontour\":[{\"type\":\"histogram2dcontour\",\"colorbar\":{\"outlinewidth\":0,\"ticks\":\"\"},\"colorscale\":[[0.0,\"#0d0887\"],[0.1111111111111111,\"#46039f\"],[0.2222222222222222,\"#7201a8\"],[0.3333333333333333,\"#9c179e\"],[0.4444444444444444,\"#bd3786\"],[0.5555555555555556,\"#d8576b\"],[0.6666666666666666,\"#ed7953\"],[0.7777777777777778,\"#fb9f3a\"],[0.8888888888888888,\"#fdca26\"],[1.0,\"#f0f921\"]]}],\"choropleth\":[{\"type\":\"choropleth\",\"colorbar\":{\"outlinewidth\":0,\"ticks\":\"\"}}],\"histogram2d\":[{\"type\":\"histogram2d\",\"colorbar\":{\"outlinewidth\":0,\"ticks\":\"\"},\"colorscale\":[[0.0,\"#0d0887\"],[0.1111111111111111,\"#46039f\"],[0.2222222222222222,\"#7201a8\"],[0.3333333333333333,\"#9c179e\"],[0.4444444444444444,\"#bd3786\"],[0.5555555555555556,\"#d8576b\"],[0.6666666666666666,\"#ed7953\"],[0.7777777777777778,\"#fb9f3a\"],[0.8888888888888888,\"#fdca26\"],[1.0,\"#f0f921\"]]}],\"heatmap\":[{\"type\":\"heatmap\",\"colorbar\":{\"outlinewidth\":0,\"ticks\":\"\"},\"colorscale\":[[0.0,\"#0d0887\"],[0.1111111111111111,\"#46039f\"],[0.2222222222222222,\"#7201a8\"],[0.3333333333333333,\"#9c179e\"],[0.4444444444444444,\"#bd3786\"],[0.5555555555555556,\"#d8576b\"],[0.6666666666666666,\"#ed7953\"],[0.7777777777777778,\"#fb9f3a\"],[0.8888888888888888,\"#fdca26\"],[1.0,\"#f0f921\"]]}],\"heatmapgl\":[{\"type\":\"heatmapgl\",\"colorbar\":{\"outlinewidth\":0,\"ticks\":\"\"},\"colorscale\":[[0.0,\"#0d0887\"],[0.1111111111111111,\"#46039f\"],[0.2222222222222222,\"#7201a8\"],[0.3333333333333333,\"#9c179e\"],[0.4444444444444444,\"#bd3786\"],[0.5555555555555556,\"#d8576b\"],[0.6666666666666666,\"#ed7953\"],[0.7777777777777778,\"#fb9f3a\"],[0.8888888888888888,\"#fdca26\"],[1.0,\"#f0f921\"]]}],\"contourcarpet\":[{\"type\":\"contourcarpet\",\"colorbar\":{\"outlinewidth\":0,\"ticks\":\"\"}}],\"contour\":[{\"type\":\"contour\",\"colorbar\":{\"outlinewidth\":0,\"ticks\":\"\"},\"colorscale\":[[0.0,\"#0d0887\"],[0.1111111111111111,\"#46039f\"],[0.2222222222222222,\"#7201a8\"],[0.3333333333333333,\"#9c179e\"],[0.4444444444444444,\"#bd3786\"],[0.5555555555555556,\"#d8576b\"],[0.6666666666666666,\"#ed7953\"],[0.7777777777777778,\"#fb9f3a\"],[0.8888888888888888,\"#fdca26\"],[1.0,\"#f0f921\"]]}],\"surface\":[{\"type\":\"surface\",\"colorbar\":{\"outlinewidth\":0,\"ticks\":\"\"},\"colorscale\":[[0.0,\"#0d0887\"],[0.1111111111111111,\"#46039f\"],[0.2222222222222222,\"#7201a8\"],[0.3333333333333333,\"#9c179e\"],[0.4444444444444444,\"#bd3786\"],[0.5555555555555556,\"#d8576b\"],[0.6666666666666666,\"#ed7953\"],[0.7777777777777778,\"#fb9f3a\"],[0.8888888888888888,\"#fdca26\"],[1.0,\"#f0f921\"]]}],\"mesh3d\":[{\"type\":\"mesh3d\",\"colorbar\":{\"outlinewidth\":0,\"ticks\":\"\"}}],\"scatter\":[{\"fillpattern\":{\"fillmode\":\"overlay\",\"size\":10,\"solidity\":0.2},\"type\":\"scatter\"}],\"parcoords\":[{\"type\":\"parcoords\",\"line\":{\"colorbar\":{\"outlinewidth\":0,\"ticks\":\"\"}}}],\"scatterpolargl\":[{\"type\":\"scatterpolargl\",\"marker\":{\"colorbar\":{\"outlinewidth\":0,\"ticks\":\"\"}}}],\"bar\":[{\"error_x\":{\"color\":\"#2a3f5f\"},\"error_y\":{\"color\":\"#2a3f5f\"},\"marker\":{\"line\":{\"color\":\"#E5ECF6\",\"width\":0.5},\"pattern\":{\"fillmode\":\"overlay\",\"size\":10,\"solidity\":0.2}},\"type\":\"bar\"}],\"scattergeo\":[{\"type\":\"scattergeo\",\"marker\":{\"colorbar\":{\"outlinewidth\":0,\"ticks\":\"\"}}}],\"scatterpolar\":[{\"type\":\"scatterpolar\",\"marker\":{\"colorbar\":{\"outlinewidth\":0,\"ticks\":\"\"}}}],\"histogram\":[{\"marker\":{\"pattern\":{\"fillmode\":\"overlay\",\"size\":10,\"solidity\":0.2}},\"type\":\"histogram\"}],\"scattergl\":[{\"type\":\"scattergl\",\"marker\":{\"colorbar\":{\"outlinewidth\":0,\"ticks\":\"\"}}}],\"scatter3d\":[{\"type\":\"scatter3d\",\"line\":{\"colorbar\":{\"outlinewidth\":0,\"ticks\":\"\"}},\"marker\":{\"colorbar\":{\"outlinewidth\":0,\"ticks\":\"\"}}}],\"scattermapbox\":[{\"type\":\"scattermapbox\",\"marker\":{\"colorbar\":{\"outlinewidth\":0,\"ticks\":\"\"}}}],\"scatterternary\":[{\"type\":\"scatterternary\",\"marker\":{\"colorbar\":{\"outlinewidth\":0,\"ticks\":\"\"}}}],\"scattercarpet\":[{\"type\":\"scattercarpet\",\"marker\":{\"colorbar\":{\"outlinewidth\":0,\"ticks\":\"\"}}}],\"carpet\":[{\"aaxis\":{\"endlinecolor\":\"#2a3f5f\",\"gridcolor\":\"white\",\"linecolor\":\"white\",\"minorgridcolor\":\"white\",\"startlinecolor\":\"#2a3f5f\"},\"baxis\":{\"endlinecolor\":\"#2a3f5f\",\"gridcolor\":\"white\",\"linecolor\":\"white\",\"minorgridcolor\":\"white\",\"startlinecolor\":\"#2a3f5f\"},\"type\":\"carpet\"}],\"table\":[{\"cells\":{\"fill\":{\"color\":\"#EBF0F8\"},\"line\":{\"color\":\"white\"}},\"header\":{\"fill\":{\"color\":\"#C8D4E3\"},\"line\":{\"color\":\"white\"}},\"type\":\"table\"}],\"barpolar\":[{\"marker\":{\"line\":{\"color\":\"#E5ECF6\",\"width\":0.5},\"pattern\":{\"fillmode\":\"overlay\",\"size\":10,\"solidity\":0.2}},\"type\":\"barpolar\"}],\"pie\":[{\"automargin\":true,\"type\":\"pie\"}]},\"layout\":{\"autotypenumbers\":\"strict\",\"colorway\":[\"#636efa\",\"#EF553B\",\"#00cc96\",\"#ab63fa\",\"#FFA15A\",\"#19d3f3\",\"#FF6692\",\"#B6E880\",\"#FF97FF\",\"#FECB52\"],\"font\":{\"color\":\"#2a3f5f\"},\"hovermode\":\"closest\",\"hoverlabel\":{\"align\":\"left\"},\"paper_bgcolor\":\"white\",\"plot_bgcolor\":\"#E5ECF6\",\"polar\":{\"bgcolor\":\"#E5ECF6\",\"angularaxis\":{\"gridcolor\":\"white\",\"linecolor\":\"white\",\"ticks\":\"\"},\"radialaxis\":{\"gridcolor\":\"white\",\"linecolor\":\"white\",\"ticks\":\"\"}},\"ternary\":{\"bgcolor\":\"#E5ECF6\",\"aaxis\":{\"gridcolor\":\"white\",\"linecolor\":\"white\",\"ticks\":\"\"},\"baxis\":{\"gridcolor\":\"white\",\"linecolor\":\"white\",\"ticks\":\"\"},\"caxis\":{\"gridcolor\":\"white\",\"linecolor\":\"white\",\"ticks\":\"\"}},\"coloraxis\":{\"colorbar\":{\"outlinewidth\":0,\"ticks\":\"\"}},\"colorscale\":{\"sequential\":[[0.0,\"#0d0887\"],[0.1111111111111111,\"#46039f\"],[0.2222222222222222,\"#7201a8\"],[0.3333333333333333,\"#9c179e\"],[0.4444444444444444,\"#bd3786\"],[0.5555555555555556,\"#d8576b\"],[0.6666666666666666,\"#ed7953\"],[0.7777777777777778,\"#fb9f3a\"],[0.8888888888888888,\"#fdca26\"],[1.0,\"#f0f921\"]],\"sequentialminus\":[[0.0,\"#0d0887\"],[0.1111111111111111,\"#46039f\"],[0.2222222222222222,\"#7201a8\"],[0.3333333333333333,\"#9c179e\"],[0.4444444444444444,\"#bd3786\"],[0.5555555555555556,\"#d8576b\"],[0.6666666666666666,\"#ed7953\"],[0.7777777777777778,\"#fb9f3a\"],[0.8888888888888888,\"#fdca26\"],[1.0,\"#f0f921\"]],\"diverging\":[[0,\"#8e0152\"],[0.1,\"#c51b7d\"],[0.2,\"#de77ae\"],[0.3,\"#f1b6da\"],[0.4,\"#fde0ef\"],[0.5,\"#f7f7f7\"],[0.6,\"#e6f5d0\"],[0.7,\"#b8e186\"],[0.8,\"#7fbc41\"],[0.9,\"#4d9221\"],[1,\"#276419\"]]},\"xaxis\":{\"gridcolor\":\"white\",\"linecolor\":\"white\",\"ticks\":\"\",\"title\":{\"standoff\":15},\"zerolinecolor\":\"white\",\"automargin\":true,\"zerolinewidth\":2},\"yaxis\":{\"gridcolor\":\"white\",\"linecolor\":\"white\",\"ticks\":\"\",\"title\":{\"standoff\":15},\"zerolinecolor\":\"white\",\"automargin\":true,\"zerolinewidth\":2},\"scene\":{\"xaxis\":{\"backgroundcolor\":\"#E5ECF6\",\"gridcolor\":\"white\",\"linecolor\":\"white\",\"showbackground\":true,\"ticks\":\"\",\"zerolinecolor\":\"white\",\"gridwidth\":2},\"yaxis\":{\"backgroundcolor\":\"#E5ECF6\",\"gridcolor\":\"white\",\"linecolor\":\"white\",\"showbackground\":true,\"ticks\":\"\",\"zerolinecolor\":\"white\",\"gridwidth\":2},\"zaxis\":{\"backgroundcolor\":\"#E5ECF6\",\"gridcolor\":\"white\",\"linecolor\":\"white\",\"showbackground\":true,\"ticks\":\"\",\"zerolinecolor\":\"white\",\"gridwidth\":2}},\"shapedefaults\":{\"line\":{\"color\":\"#2a3f5f\"}},\"annotationdefaults\":{\"arrowcolor\":\"#2a3f5f\",\"arrowhead\":0,\"arrowwidth\":1},\"geo\":{\"bgcolor\":\"white\",\"landcolor\":\"#E5ECF6\",\"subunitcolor\":\"white\",\"showland\":true,\"showlakes\":true,\"lakecolor\":\"white\"},\"title\":{\"x\":0.05},\"mapbox\":{\"style\":\"light\"}}}},                        {\"responsive\": true}                    ).then(function(){\n",
       "                            \n",
       "var gd = document.getElementById('0407eb26-5286-41f4-a364-50aae05e66fa');\n",
       "var x = new MutationObserver(function (mutations, observer) {{\n",
       "        var display = window.getComputedStyle(gd).display;\n",
       "        if (!display || display === 'none') {{\n",
       "            console.log([gd, 'removed!']);\n",
       "            Plotly.purge(gd);\n",
       "            observer.disconnect();\n",
       "        }}\n",
       "}});\n",
       "\n",
       "// Listen for the removal of the full notebook cells\n",
       "var notebookContainer = gd.closest('#notebook-container');\n",
       "if (notebookContainer) {{\n",
       "    x.observe(notebookContainer, {childList: true});\n",
       "}}\n",
       "\n",
       "// Listen for the clearing of the current output cell\n",
       "var outputEl = gd.closest('.output');\n",
       "if (outputEl) {{\n",
       "    x.observe(outputEl, {childList: true});\n",
       "}}\n",
       "\n",
       "                        })                };                });            </script>        </div>"
      ]
     },
     "metadata": {},
     "output_type": "display_data"
    }
   ],
   "source": [
    "optuna.visualization.plot_edf(study_xgb, target_name=\"F1-score média de previsões\", )"
   ]
  },
  {
   "cell_type": "markdown",
   "id": "56e4cf2a",
   "metadata": {},
   "source": [
    "Como parte desta seção, apresentaremos a função de distribuição cumulativa empírica do valor objetivo.\n",
    "\n",
    "O gráfico consiste em uma linha de etapa única.\n",
    "\n",
    "O valor no eixo X representa um valor objetivo que estamos tentando minimizar/maximizar e o eixo Y representa a probabilidade cumulativa.\n",
    "\n",
    "A probabilidade cumulativa em qualquer ponto da linha representa a porcentagem de tentativas cujo valor objetivo é menor que o valor objetivo naquele ponto.\n",
    "\n",
    "Para explicar com um exemplo, digamos que tomamos um ponto na linha onde a probabilidade cumulativa é 0,80 e o valor objetivo é 2,7 . Então, de todas as tentativas que tentamos como parte do processo de estudo, 80% terão um valor objetivo inferior a 2,7 "
   ]
  },
  {
   "cell_type": "markdown",
   "id": "e8a38a77",
   "metadata": {},
   "source": [
    "## 4.3. Modelo LBGM"
   ]
  },
  {
   "cell_type": "code",
   "execution_count": null,
   "id": "bac561b1",
   "metadata": {
    "ExecuteTime": {
     "start_time": "2022-12-22T04:07:45.961Z"
    }
   },
   "outputs": [],
   "source": [
    "%%time \n",
    "\n",
    "param_lgbm  = {\n",
    "    'objective'         : 'binary',\n",
    "    'metric'            : 'binary_logloss',\n",
    "    'colsample_bytree'  : 0.8,\n",
    "    'learning_rate'     : 0.1,\n",
    "    'max_depth'         : 6,\n",
    "    'min_child_samples' : 219,\n",
    "    'min_child_weight'  : 1e-05,\n",
    "    'n_estimators'      : 300,\n",
    "    'num_leaves'        : 128,\n",
    "    'reg_alpha'         : 1,\n",
    "    'reg_lambda'        : 0,\n",
    "    'subsample'         : 0.8116483602711031,         \n",
    "    #'device'            : 'gpu',    \n",
    "    'random_state'      : seed}\n",
    "\n",
    "model_lgbm   = lgb.LGBMClassifier(**param_lgbm)\n",
    "pipeline_lgbm = Pipeline(steps=[('processor', pipeline_processor), ('model', model_lgbm)])\n",
    "\n",
    "models = [('LBGM-1', pipeline_lgbm, 1, 'lgbm_tun_07_pp', pipeline_processor, 15) ]\n",
    "    \n",
    "mdl_list_fit, df_pred_tr, df_pred_ts, df_score_mdl, score = \\\n",
    "    model_cv_fit(models_       = models, \n",
    "                 X_            = X,\n",
    "                 y_            = y, \n",
    "                 X_test_       = X_test,                  \n",
    "                 path_         = path, \n",
    "                 seed_         = seed,\n",
    "                 target_       = target,\n",
    "                 create_sub_   = False, \n",
    "                 n_splits_     = 10,\n",
    "                 print_report_ = True)"
   ]
  },
  {
   "cell_type": "markdown",
   "id": "6eb6a25b",
   "metadata": {
    "ExecuteTime": {
     "end_time": "2022-12-22T01:32:53.987191Z",
     "start_time": "2022-12-22T01:32:53.974203Z"
    }
   },
   "source": [
    "### 4.3.2. Turning"
   ]
  },
  {
   "cell_type": "code",
   "execution_count": null,
   "id": "f7ae19b8",
   "metadata": {
    "ExecuteTime": {
     "start_time": "2022-12-22T04:07:47.610Z"
    }
   },
   "outputs": [],
   "source": [
    "%%time\n",
    "n_trials_  = 50\n",
    "name_clf   = 'lgbm'\n",
    "name_model = '{}_001_turning'.format(name_clf) \n",
    "\n",
    "TunningModels.delete_files(name_model)\n",
    "    \n",
    "modelOpt = TunningModels(name_model_     = name_model, \n",
    "                         X_trn_          = X, \n",
    "                         y_trn_          = y, \n",
    "                         X_ts_           = X_test,   \n",
    "                         seed_           = seed, \n",
    "                         target_         = target, \n",
    "                         path_           = path, \n",
    "                         n_splits_       = 10,\n",
    "                         level_          = '1')\n",
    "\n",
    "study_lbgm  = optuna.create_study(direction  = 'maximize',\n",
    "                                  sampler    = optuna.samplers.TPESampler(multivariate=True, seed=seed),\n",
    "                                  pruner     = optuna.pruners.MedianPruner(n_warmup_steps=10),\n",
    "                                  study_name = 'lbgm_turning')\n",
    "\n",
    "study_lbgm.optimize(modelOpt.lgbm, n_trials=n_trials_)\n",
    "\n",
    "score_seed          = study_lbgm.best_value \n",
    "params              = study_lbgm.best_params \n",
    "path_name           = path + 'model/optuna/' + name_model + '_{:2.5f}.pkl.z'.format(score_seed)   \n",
    "scare_best          = score_seed \n",
    "params_lbgm_turning = params\n",
    "\n",
    "print()\n",
    "print('-'*110)\n",
    "print('Best score: {:2.5f}'.format(scare_best))\n",
    "print('Seed      : {}'.format(seed))\n",
    "print('Parameters:\\n\\n{}'.format(params_lbgm_turning))\n",
    "print()"
   ]
  },
  {
   "cell_type": "markdown",
   "id": "fd0a64cc",
   "metadata": {
    "ExecuteTime": {
     "end_time": "2022-12-22T01:42:35.006913Z",
     "start_time": "2022-12-22T01:42:34.957961Z"
    }
   },
   "source": [
    "## 4.4. Modelo ExTrees"
   ]
  },
  {
   "cell_type": "code",
   "execution_count": null,
   "id": "377c1f08",
   "metadata": {
    "ExecuteTime": {
     "start_time": "2022-12-22T04:07:48.991Z"
    }
   },
   "outputs": [],
   "source": [
    "%%time \n",
    "\n",
    "param_ext   = {\n",
    "    'criterion'        : 'gini', \n",
    "    'n_estimators'     : 600,\n",
    "    'max_depth'        : 14, \n",
    "    'class_weight'     : 'balanced', \n",
    "    'bootstrap'        : True, \n",
    "    'oob_score'        : True,\n",
    "    'warm_start'       : True,\n",
    "    'n_jobs'           : -1,    \n",
    "    'random_state'     : seed}\n",
    "\n",
    "model_ext    = ExtraTreesClassifier(**param_ext)\n",
    "pipeline_ext = Pipeline(steps=[('processor', pipeline_processor), ('model', model_ext)])\n",
    "\n",
    "models = [('ExTrees', pipeline_ext, 1, 'etrees_tun_08_pp', pipeline_processor, 15) ]\n",
    "    \n",
    "mdl_list_fit, df_pred_tr, df_pred_ts, df_score_mdl, score = \\\n",
    "    model_cv_fit(models_       = models, \n",
    "                 X_            = X,\n",
    "                 y_            = y, \n",
    "                 X_test_       = X_test,                  \n",
    "                 path_         = path, \n",
    "                 seed_         = seed,\n",
    "                 target_       = target,\n",
    "                 create_sub_   = True, \n",
    "                 n_splits_     = 10,\n",
    "                 print_report_ = True)\n",
    "\n",
    "# F1-score: 0.81119 - F1-Train: 0.81341 - L.Loss: 0.33908 - 0h 0m 15s"
   ]
  },
  {
   "cell_type": "markdown",
   "id": "d07e4390",
   "metadata": {},
   "source": [
    "### 4.4.1. Turning "
   ]
  },
  {
   "cell_type": "code",
   "execution_count": null,
   "id": "d32b49ed",
   "metadata": {
    "ExecuteTime": {
     "start_time": "2022-12-22T04:07:50.431Z"
    }
   },
   "outputs": [],
   "source": [
    "%%time\n",
    "n_trials_  = 100\n",
    "name_clf   = 'ext'\n",
    "name_model = '{}_001_turning'.format(name_clf) \n",
    "\n",
    "TunningModels.delete_files(name_model)\n",
    "    \n",
    "modelOpt = TunningModels(name_model_     = name_model, \n",
    "                         X_trn_          = X, \n",
    "                         y_trn_          = y, \n",
    "                         X_ts_           = X_test,   \n",
    "                         seed_           = seed, \n",
    "                         target_         = target, \n",
    "                         path_           = path, \n",
    "                         n_splits_       = 10,\n",
    "                         level_          = '1')\n",
    "\n",
    "study_ext  = optuna.create_study(direction  = 'maximize',\n",
    "                                  sampler    = optuna.samplers.TPESampler(multivariate=True, seed=seed),\n",
    "                                  pruner     = optuna.pruners.MedianPruner(n_warmup_steps=10),\n",
    "                                  study_name = 'ext_turning')\n",
    "\n",
    "study_ext.optimize(modelOpt.ext, n_trials=n_trials_)\n",
    "\n",
    "score_seed          = study_ext.best_value \n",
    "params              = study_ext.best_params \n",
    "path_name           = path + 'model/optuna/' + name_model + '_{:2.5f}.pkl.z'.format(score_seed)   \n",
    "scare_best          = score_seed \n",
    "params_ext_turning = params\n",
    "\n",
    "print()\n",
    "print('-'*110)\n",
    "print('Best score: {:2.5f}'.format(scare_best))\n",
    "print('Seed      : {}'.format(seed))\n",
    "print('Parameters:\\n\\n{}'.format(params_ext_turning))\n",
    "print()"
   ]
  },
  {
   "cell_type": "markdown",
   "id": "7b314d3f",
   "metadata": {},
   "source": [
    "## 4.5. Modelo HistGradientBoosting"
   ]
  },
  {
   "cell_type": "code",
   "execution_count": null,
   "id": "919c21b1",
   "metadata": {
    "ExecuteTime": {
     "start_time": "2022-12-22T04:07:52.624Z"
    }
   },
   "outputs": [],
   "source": [
    "%%time \n",
    "from sklearn.ensemble          import HistGradientBoostingClassifier\n",
    "param_hbc   = {\n",
    "    'scoring'             : 'loss',\n",
    "    'max_depth'           : 5, \n",
    "    'max_iter'            : 1000,\n",
    "    'learning_rate'       : .1,    \n",
    "    'validation_fraction' : .5,\n",
    "    'l2_regularization'   : .10,\n",
    "    'warm_start'          : True,\n",
    "    'random_state'        : seed}\n",
    "\n",
    "model_hbc    = HistGradientBoostingClassifier(**param_hbc)\n",
    "pipeline_hbc = Pipeline(steps=[('processor', pipeline_processor), ('model', model_hbc)])\n",
    "\n",
    "models = [('HGB', pipeline_hbc, 1, 'hbc_tun_09_pp', pipeline_processor, 15) ]\n",
    "    \n",
    "mdl_list_fit, df_pred_tr, df_pred_ts, df_score_mdl, score = \\\n",
    "    model_cv_fit(models_       = models, \n",
    "                 X_            = X,\n",
    "                 y_            = y, \n",
    "                 X_test_       = X_test,                  \n",
    "                 path_         = path, \n",
    "                 seed_         = seed,\n",
    "                 target_       = target,\n",
    "                 create_sub_   = True, \n",
    "                 n_splits_     = 10,\n",
    "                 print_report_ = True)"
   ]
  },
  {
   "cell_type": "markdown",
   "id": "0576573f",
   "metadata": {},
   "source": [
    "### 4.4.2. Turning "
   ]
  },
  {
   "cell_type": "code",
   "execution_count": null,
   "id": "1dd074ed",
   "metadata": {
    "ExecuteTime": {
     "start_time": "2022-12-22T04:07:54.272Z"
    }
   },
   "outputs": [],
   "source": [
    "%%time\n",
    "n_trials_  = 100\n",
    "name_clf   = 'hgb'\n",
    "name_model = '{}_001_turning'.format(name_clf) \n",
    "\n",
    "TunningModels.delete_files(name_model)\n",
    "    \n",
    "modelOpt = TunningModels(name_model_     = name_model, \n",
    "                         X_trn_          = X, \n",
    "                         y_trn_          = y, \n",
    "                         X_ts_           = X_test,   \n",
    "                         seed_           = seed, \n",
    "                         target_         = target, \n",
    "                         path_           = path, \n",
    "                         n_splits_       = 10,\n",
    "                         level_          = '1')\n",
    "\n",
    "study_hgb = optuna.create_study(direction  = 'maximize',\n",
    "                                sampler    = optuna.samplers.TPESampler(multivariate=True, seed=seed),\n",
    "                                pruner     = optuna.pruners.MedianPruner(n_warmup_steps=10),\n",
    "                                study_name = 'ext_turning')\n",
    "\n",
    "study_hgb.optimize(modelOpt.hgb, n_trials=n_trials_)\n",
    "\n",
    "score_seed          = study_hgb.best_value \n",
    "params              = study_hgb.best_params \n",
    "path_name           = path + 'model/optuna/' + name_model + '_{:2.5f}.pkl.z'.format(score_seed)   \n",
    "scare_best          = score_seed \n",
    "params_hgb_turning = params\n",
    "\n",
    "print()\n",
    "print('-'*110)\n",
    "print('Best score: {:2.5f}'.format(scare_best))\n",
    "print('Seed      : {}'.format(seed))\n",
    "print('Parameters:\\n\\n{}'.format(params_hgb_turning))\n",
    "print()"
   ]
  },
  {
   "cell_type": "markdown",
   "id": "b9cbdbd1",
   "metadata": {},
   "source": [
    "### 4.2.1. Treinar o modelo com os parametros "
   ]
  },
  {
   "cell_type": "code",
   "execution_count": null,
   "id": "5584f106",
   "metadata": {
    "ExecuteTime": {
     "start_time": "2022-12-22T04:07:34.535Z"
    }
   },
   "outputs": [],
   "source": [
    "model_hgb_turning    = HistGradientBoostingClassifier(**params_hgb_turning)\n",
    "pipeline_hgb_turning = Pipeline(steps=[('processor', pipeline_processor), ('model', model_hgb_turning)])\n",
    "\n",
    "models = [('HGB', pipeline_hgb_turning, 1, 'hbc_tun_10_pp', pipeline_processor, 15) ]\n",
    "    \n",
    "mdl_list_fit, df_pred_tr, df_pred_ts, df_score_mdl, score = \\\n",
    "    model_cv_fit(models_       = models, \n",
    "                 X_            = X,\n",
    "                 y_            = y, \n",
    "                 X_test_       = X_test,                  \n",
    "                 path_         = path, \n",
    "                 seed_         = seed,\n",
    "                 target_       = target,\n",
    "                 create_sub_   = True, \n",
    "                 n_splits_     = 10,\n",
    "                 print_report_ = True)"
   ]
  },
  {
   "cell_type": "markdown",
   "id": "f64a81e6",
   "metadata": {},
   "source": [
    "<div style=\"color:white;border-radius:8px;background-color:#a7d5ed\">    \n",
    "    <h1 style=\"padding:12px;color:black;\"> 5. Conclusão </h1>    \n",
    "</div>"
   ]
  }
 ],
 "metadata": {
  "accelerator": "GPU",
  "colab": {
   "collapsed_sections": [
    "8fbfb0dc",
    "4e0c4c3e",
    "e403ddc8",
    "3bb4d222",
    "6ccf4873",
    "87f37535",
    "8f3f951a",
    "94e98bd9",
    "a2a11987",
    "8119e582",
    "df14f604",
    "3d85ab20",
    "f1aa2d3d",
    "602980ad",
    "e4f16aa2",
    "4ab4607b",
    "ae48fe99",
    "544e5ba5",
    "1695b88b",
    "fcccc9c4",
    "12c44033"
   ],
   "machine_shape": "hm",
   "name": "02 - Features Engineering.ipynb",
   "provenance": [],
   "toc_visible": true
  },
  "gpuClass": "standard",
  "hide_input": false,
  "kernelspec": {
   "display_name": "Python 3 (ipykernel)",
   "language": "python",
   "name": "python3"
  },
  "language_info": {
   "codemirror_mode": {
    "name": "ipython",
    "version": 3
   },
   "file_extension": ".py",
   "mimetype": "text/x-python",
   "name": "python",
   "nbconvert_exporter": "python",
   "pygments_lexer": "ipython3",
   "version": "3.9.15"
  },
  "nbTranslate": {
   "displayLangs": [
    "en",
    "pt-br"
   ],
   "hotkey": "",
   "langInMainMenu": true,
   "sourceLang": "en",
   "targetLang": "pt-br",
   "useGoogleTranslate": true
  },
  "papermill": {
   "default_parameters": {},
   "duration": 1855.87013,
   "end_time": "2022-02-13T04:19:37.763339",
   "environment_variables": {},
   "exception": null,
   "input_path": "__notebook__.ipynb",
   "output_path": "__notebook__.ipynb",
   "parameters": {},
   "start_time": "2022-02-13T03:48:41.893209",
   "version": "2.3.3"
  },
  "toc": {
   "base_numbering": 1,
   "nav_menu": {},
   "number_sections": false,
   "sideBar": true,
   "skip_h1_title": false,
   "title_cell": "Table of Contents",
   "title_sidebar": "Contents",
   "toc_cell": false,
   "toc_position": {
    "height": "calc(100% - 180px)",
    "left": "10px",
    "top": "150px",
    "width": "302px"
   },
   "toc_section_display": true,
   "toc_window_display": true
  },
  "varInspector": {
   "cols": {
    "lenName": 16,
    "lenType": 16,
    "lenVar": 40
   },
   "kernels_config": {
    "python": {
     "delete_cmd_postfix": "",
     "delete_cmd_prefix": "del ",
     "library": "var_list.py",
     "varRefreshCmd": "print(var_dic_list())"
    },
    "r": {
     "delete_cmd_postfix": ") ",
     "delete_cmd_prefix": "rm(",
     "library": "var_list.r",
     "varRefreshCmd": "cat(var_dic_list()) "
    }
   },
   "types_to_exclude": [
    "module",
    "function",
    "builtin_function_or_method",
    "instance",
    "_Feature"
   ],
   "window_display": false
  }
 },
 "nbformat": 4,
 "nbformat_minor": 5
}
