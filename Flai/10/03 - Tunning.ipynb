{
 "cells": [
  {
   "cell_type": "markdown",
   "id": "af7c9db2",
   "metadata": {
    "id": "af7c9db2",
    "papermill": {
     "duration": 0.123947,
     "end_time": "2022-02-13T03:48:50.443026",
     "exception": false,
     "start_time": "2022-02-13T03:48:50.319079",
     "status": "completed"
    },
    "tags": []
   },
   "source": [
    "<div style=\"color:white;display:fill;border-radius:8px;\n",
    "            background-color:#a7d5ed;font-size:170%;\n",
    "            font-family:Nexa;letter-spacing:4.5px;\">    \n",
    "    <h1 style=\"padding:15px;color:black;text-align: center\"> Tunning </h1> \n",
    "</div>\n",
    "\n",
    "![](img/header.png)"
   ]
  },
  {
   "cell_type": "markdown",
   "id": "17df1cf4",
   "metadata": {
    "ExecuteTime": {
     "end_time": "2021-12-17T21:07:28.068848Z",
     "start_time": "2021-12-17T21:07:28.056849Z"
    },
    "id": "17df1cf4",
    "papermill": {
     "duration": 0.072795,
     "end_time": "2022-02-13T03:48:50.607818",
     "exception": false,
     "start_time": "2022-02-13T03:48:50.535023",
     "status": "completed"
    },
    "tags": []
   },
   "source": [
    "<div style=\"color:white;border-radius:8px;background-color:#a7d5ed\">    \n",
    "    <h1 style=\"padding:12px;color:black;\"> OBJETIVO </h1>    \n",
    "</div>"
   ]
  },
  {
   "cell_type": "markdown",
   "id": "95ed77c8",
   "metadata": {
    "id": "95ed77c8",
    "papermill": {
     "duration": 0.072412,
     "end_time": "2022-02-13T03:48:50.753402",
     "exception": false,
     "start_time": "2022-02-13T03:48:50.680990",
     "status": "completed"
    },
    "tags": []
   },
   "source": [
    "O objetivo neste notebook é criação novas variáveis (features) que possam ajudar na identificação de novos padrões, com a finalidade de bater a baseline estabelecida no [notebook anterior](https://github.com/rogeriodelfim/Competicoes/blob/main/Flai/10/02%20-%20Features%20Engineering.ipynb) com XGBoost na competição. \n"
   ]
  },
  {
   "cell_type": "markdown",
   "id": "0c6f8d9e",
   "metadata": {
    "id": "0c6f8d9e",
    "papermill": {
     "duration": 0.072397,
     "end_time": "2022-02-13T03:48:50.897545",
     "exception": false,
     "start_time": "2022-02-13T03:48:50.825148",
     "status": "completed"
    },
    "tags": []
   },
   "source": [
    "\n",
    "<div style=\"color:white;border-radius:8px;background-color:#a7d5ed\">    \n",
    "    <h1 style=\"padding:12px;color:black;\"> 1. IMPORTAÇÕES </h1>    \n",
    "</div>"
   ]
  },
  {
   "cell_type": "markdown",
   "id": "283d25b5",
   "metadata": {
    "ExecuteTime": {
     "end_time": "2021-12-17T20:49:34.792594Z",
     "start_time": "2021-12-17T20:49:34.785596Z"
    },
    "id": "283d25b5",
    "papermill": {
     "duration": 0.071893,
     "end_time": "2022-02-13T03:48:51.042107",
     "exception": false,
     "start_time": "2022-02-13T03:48:50.970214",
     "status": "completed"
    },
    "tags": []
   },
   "source": [
    "## 1.1. Instalações"
   ]
  },
  {
   "cell_type": "code",
   "execution_count": 1,
   "id": "f71a8fd8",
   "metadata": {
    "ExecuteTime": {
     "end_time": "2022-12-27T01:27:58.656942Z",
     "start_time": "2022-12-27T01:27:58.636907Z"
    },
    "code_folding": [],
    "colab": {
     "base_uri": "https://localhost:8080/"
    },
    "execution": {
     "iopub.execute_input": "2022-02-13T03:48:51.210862Z",
     "iopub.status.busy": "2022-02-13T03:48:51.210191Z",
     "iopub.status.idle": "2022-02-13T03:49:00.128309Z",
     "shell.execute_reply": "2022-02-13T03:49:00.127697Z",
     "shell.execute_reply.started": "2022-02-13T00:29:02.882517Z"
    },
    "executionInfo": {
     "elapsed": 74771,
     "status": "ok",
     "timestamp": 1655826420198,
     "user": {
      "displayName": "Rogério Delfim",
      "userId": "04235763959036945343"
     },
     "user_tz": 180
    },
    "id": "f71a8fd8",
    "outputId": "c19202e4-f491-44b6-c667-5a0d1ff5a9a1",
    "papermill": {
     "duration": 9.008148,
     "end_time": "2022-02-13T03:49:00.128456",
     "exception": false,
     "start_time": "2022-02-13T03:48:51.120308",
     "status": "completed"
    },
    "tags": []
   },
   "outputs": [],
   "source": [
    "COLAB = 'google.colab' in str(get_ipython()) \n",
    "\n",
    "if COLAB:        \n",
    "    !pip install --q scikit-plot\n",
    "    !pip install --q category_encoders\n",
    "    !pip install --q shap\n",
    "    !pip install --q inflection    \n",
    "    !pip install --q catboost\n",
    "    !pip install --q colorama\n",
    "    !pip install --q tensorflow\n",
    "    !pip install --q wandb\n",
    "    !pip install --q eli5\n",
    "    #!pip install --q optbinning\n",
    "    #!pip install --q catboost\n",
    "    #!pip install --q pandas-profiling\n",
    "    #!pip install --q pycaret\n",
    "        \n",
    "    from google.colab import drive\n",
    "    drive.mount('/content/drive')"
   ]
  },
  {
   "cell_type": "markdown",
   "id": "2f785108",
   "metadata": {
    "id": "2f785108",
    "papermill": {
     "duration": 0.073951,
     "end_time": "2022-02-13T03:49:00.427074",
     "exception": false,
     "start_time": "2022-02-13T03:49:00.353123",
     "status": "completed"
    },
    "tags": []
   },
   "source": [
    "## 1.2. Bibliotecas "
   ]
  },
  {
   "cell_type": "code",
   "execution_count": 2,
   "id": "dbfa56e0",
   "metadata": {
    "ExecuteTime": {
     "end_time": "2022-12-27T01:28:40.920166Z",
     "start_time": "2022-12-27T01:27:59.523272Z"
    },
    "execution": {
     "iopub.execute_input": "2022-02-13T03:49:00.577906Z",
     "iopub.status.busy": "2022-02-13T03:49:00.577228Z",
     "iopub.status.idle": "2022-02-13T03:49:02.735090Z",
     "shell.execute_reply": "2022-02-13T03:49:02.734379Z",
     "shell.execute_reply.started": "2022-02-13T00:29:11.961770Z"
    },
    "executionInfo": {
     "elapsed": 5547,
     "status": "ok",
     "timestamp": 1655826425739,
     "user": {
      "displayName": "Rogério Delfim",
      "userId": "04235763959036945343"
     },
     "user_tz": 180
    },
    "id": "dbfa56e0",
    "papermill": {
     "duration": 2.23593,
     "end_time": "2022-02-13T03:49:02.735247",
     "exception": false,
     "start_time": "2022-02-13T03:49:00.499317",
     "status": "completed"
    },
    "tags": []
   },
   "outputs": [],
   "source": [
    "import warnings\n",
    "import random\n",
    "import os\n",
    "import gc\n",
    "import torch\n",
    "import sklearn.exceptions\n",
    "import shap\n",
    "import multiprocessing\n",
    "import glob\n",
    "import scipy.optimize \n",
    "import scipy.special\n",
    "import optuna"
   ]
  },
  {
   "cell_type": "code",
   "execution_count": 3,
   "id": "508135c8",
   "metadata": {
    "ExecuteTime": {
     "end_time": "2022-12-27T01:28:49.442959Z",
     "start_time": "2022-12-27T01:28:40.970812Z"
    },
    "execution": {
     "iopub.execute_input": "2022-02-13T03:49:02.900615Z",
     "iopub.status.busy": "2022-02-13T03:49:02.899960Z",
     "iopub.status.idle": "2022-02-13T03:49:03.173267Z",
     "shell.execute_reply": "2022-02-13T03:49:03.172121Z",
     "shell.execute_reply.started": "2022-02-13T00:29:11.971454Z"
    },
    "executionInfo": {
     "elapsed": 251,
     "status": "ok",
     "timestamp": 1655826438292,
     "user": {
      "displayName": "Rogério Delfim",
      "userId": "04235763959036945343"
     },
     "user_tz": 180
    },
    "id": "508135c8",
    "papermill": {
     "duration": 0.357843,
     "end_time": "2022-02-13T03:49:03.173421",
     "exception": false,
     "start_time": "2022-02-13T03:49:02.815578",
     "status": "completed"
    },
    "tags": []
   },
   "outputs": [
    {
     "data": {
      "text/html": [
       "<style type='text/css'>\n",
       ".datatable table.frame { margin-bottom: 0; }\n",
       ".datatable table.frame thead { border-bottom: none; }\n",
       ".datatable table.frame tr.coltypes td {  color: #FFFFFF;  line-height: 6px;  padding: 0 0.5em;}\n",
       ".datatable .bool    { background: #DDDD99; }\n",
       ".datatable .object  { background: #565656; }\n",
       ".datatable .int     { background: #5D9E5D; }\n",
       ".datatable .float   { background: #4040CC; }\n",
       ".datatable .str     { background: #CC4040; }\n",
       ".datatable .time    { background: #40CC40; }\n",
       ".datatable .row_index {  background: var(--jp-border-color3);  border-right: 1px solid var(--jp-border-color0);  color: var(--jp-ui-font-color3);  font-size: 9px;}\n",
       ".datatable .frame tbody td { text-align: left; }\n",
       ".datatable .frame tr.coltypes .row_index {  background: var(--jp-border-color0);}\n",
       ".datatable th:nth-child(2) { padding-left: 12px; }\n",
       ".datatable .hellipsis {  color: var(--jp-cell-editor-border-color);}\n",
       ".datatable .vellipsis {  background: var(--jp-layout-color0);  color: var(--jp-cell-editor-border-color);}\n",
       ".datatable .na {  color: var(--jp-cell-editor-border-color);  font-size: 80%;}\n",
       ".datatable .sp {  opacity: 0.25;}\n",
       ".datatable .footer { font-size: 9px; }\n",
       ".datatable .frame_dimensions {  background: var(--jp-border-color3);  border-top: 1px solid var(--jp-border-color0);  color: var(--jp-ui-font-color3);  display: inline-block;  opacity: 0.6;  padding: 1px 10px 1px 5px;}\n",
       ".datatable .frame thead tr.colnames {  background-image: url('data:image/png;base64,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');  background-repeat: repeat-x;  background-size: 14px;  height: 28px;}\n",
       "</style>\n"
      ],
      "text/plain": [
       "<IPython.core.display.HTML object>"
      ]
     },
     "metadata": {},
     "output_type": "display_data"
    }
   ],
   "source": [
    "import pandas            as pd\n",
    "import numpy             as np\n",
    "import matplotlib.pyplot as plt \n",
    "import seaborn           as sns\n",
    "import joblib            as jb\n",
    "import scipy.stats       as stats\n",
    "import statsmodels.api   as sm\n",
    "import xgboost           as xgb\n",
    "import lightgbm          as lgb\n",
    "import scikitplot        as skplt\n",
    "import category_encoders as ce"
   ]
  },
  {
   "cell_type": "code",
   "execution_count": 4,
   "id": "32ea73f4",
   "metadata": {
    "ExecuteTime": {
     "end_time": "2022-12-27T01:28:49.708543Z",
     "start_time": "2022-12-27T01:28:49.492256Z"
    },
    "execution": {
     "iopub.execute_input": "2022-02-13T03:49:03.342248Z",
     "iopub.status.busy": "2022-02-13T03:49:03.341660Z",
     "iopub.status.idle": "2022-02-13T03:49:03.567639Z",
     "shell.execute_reply": "2022-02-13T03:49:03.568076Z",
     "shell.execute_reply.started": "2022-02-13T00:29:11.983460Z"
    },
    "executionInfo": {
     "elapsed": 3,
     "status": "ok",
     "timestamp": 1655826438589,
     "user": {
      "displayName": "Rogério Delfim",
      "userId": "04235763959036945343"
     },
     "user_tz": 180
    },
    "id": "32ea73f4",
    "papermill": {
     "duration": 0.311288,
     "end_time": "2022-02-13T03:49:03.568250",
     "exception": false,
     "start_time": "2022-02-13T03:49:03.256962",
     "status": "completed"
    },
    "tags": []
   },
   "outputs": [],
   "source": [
    "from matplotlib.axes._axes      import _log as matplotlib_axes_logger\n",
    "from sklearn.model_selection    import train_test_split, KFold, StratifiedKFold\n",
    "from sklearn.preprocessing      import StandardScaler, MinMaxScaler, RobustScaler \n",
    "from sklearn.preprocessing      import MaxAbsScaler, QuantileTransformer \n",
    "from sklearn.preprocessing      import PowerTransformer, Normalizer\n",
    "from sklearn.preprocessing      import LabelBinarizer, OneHotEncoder, OrdinalEncoder\n",
    "from sklearn                    import metrics\n",
    "from sklearn.metrics            import ConfusionMatrixDisplay, confusion_matrix, roc_auc_score\n",
    "from sklearn.metrics            import classification_report, confusion_matrix\n",
    "from datetime                   import datetime\n",
    "from sklearn.feature_selection  import SelectPercentile, VarianceThreshold, SelectKBest, f_classif\n",
    "from colorama                   import Fore, Back, Style\n",
    "from collections                import Counter\n",
    "from sklearn                    import base"
   ]
  },
  {
   "cell_type": "code",
   "execution_count": 5,
   "id": "d34372d4",
   "metadata": {
    "ExecuteTime": {
     "end_time": "2022-12-27T01:28:50.194683Z",
     "start_time": "2022-12-27T01:28:49.758448Z"
    }
   },
   "outputs": [],
   "source": [
    "from sklearn.compose            import ColumnTransformer, make_column_transformer\n",
    "from sklearn.pipeline           import Pipeline, make_pipeline, FeatureUnion\n",
    "from sklearn.feature_selection  import VarianceThreshold\n",
    "from sklearn.impute             import SimpleImputer\n",
    "from scipy.stats                import chi2_contingency\n",
    "from plotly.subplots            import make_subplots\n",
    "from sklearn.base               import BaseEstimator, TransformerMixin, clone"
   ]
  },
  {
   "cell_type": "code",
   "execution_count": 6,
   "id": "8d0a4a62",
   "metadata": {
    "ExecuteTime": {
     "end_time": "2022-12-27T01:28:50.258183Z",
     "start_time": "2022-12-27T01:28:50.244182Z"
    }
   },
   "outputs": [],
   "source": [
    "from sklearn.metrics            import precision_score\n",
    "from sklearn.metrics            import accuracy_score\n",
    "from sklearn.metrics            import recall_score\n",
    "from sklearn.metrics            import fbeta_score\n",
    "from sklearn.metrics            import f1_score\n",
    "from sklearn.metrics            import log_loss\n",
    "from sklearn.impute             import SimpleImputer\n",
    "from category_encoders          import TargetEncoder"
   ]
  },
  {
   "cell_type": "code",
   "execution_count": 7,
   "id": "d2f05e20",
   "metadata": {
    "ExecuteTime": {
     "end_time": "2022-12-27T01:28:51.971709Z",
     "start_time": "2022-12-27T01:28:50.307440Z"
    }
   },
   "outputs": [],
   "source": [
    "from imblearn.over_sampling     import SMOTE\n",
    "from imblearn.under_sampling    import RandomUnderSampler\n",
    "from sklearn.ensemble           import RandomForestClassifier"
   ]
  },
  {
   "cell_type": "code",
   "execution_count": 8,
   "id": "68b2f935",
   "metadata": {
    "ExecuteTime": {
     "end_time": "2022-12-27T01:28:53.270230Z",
     "start_time": "2022-12-27T01:28:52.039645Z"
    }
   },
   "outputs": [],
   "source": [
    "from optuna.samplers            import TPESampler\n",
    "from optuna.visualization       import plot_edf\n",
    "from optuna.visualization       import plot_optimization_history\n",
    "from optuna.visualization       import plot_parallel_coordinate\n",
    "from optuna.visualization       import plot_param_importances\n",
    "from optuna.visualization       import plot_slice\n",
    "from optuna.visualization       import plot_intermediate_values\n",
    "from optuna.visualization       import plot_contour\n",
    "from optuna.pruners             import MedianPruner\n",
    "from optuna.pruners             import BasePruner\n",
    "from optuna.trial._state        import TrialState\n",
    "from optuna.integration         import XGBoostPruningCallback\n",
    "from feature_engine.selection   import DropConstantFeatures, DropDuplicateFeatures\n",
    "from sklearn.calibration        import CalibrationDisplay"
   ]
  },
  {
   "cell_type": "code",
   "execution_count": 9,
   "id": "8e41b87c",
   "metadata": {
    "ExecuteTime": {
     "end_time": "2022-12-27T01:28:53.534215Z",
     "start_time": "2022-12-27T01:28:53.319679Z"
    }
   },
   "outputs": [],
   "source": [
    "from sklearn.ensemble           import ExtraTreesClassifier  \n",
    "from sklearn.neighbors          import KNeighborsClassifier\n",
    "from sklearn.ensemble           import HistGradientBoostingClassifier\n",
    "from sklearn.neural_network     import MLPClassifier\n",
    "from sklearn.linear_model       import LogisticRegression\n",
    "from sklearn                    import set_config"
   ]
  },
  {
   "cell_type": "markdown",
   "id": "44c25312",
   "metadata": {
    "id": "44c25312",
    "papermill": {
     "duration": 0.071787,
     "end_time": "2022-02-13T03:49:04.073443",
     "exception": false,
     "start_time": "2022-02-13T03:49:04.001656",
     "status": "completed"
    },
    "tags": []
   },
   "source": [
    "## 1.3. Funções\n",
    "\n",
    "Abaixo foi criado uma classe com diversas funções, que será utilizada nos processos e modelagem."
   ]
  },
  {
   "cell_type": "code",
   "execution_count": 19,
   "id": "068c3e54",
   "metadata": {
    "ExecuteTime": {
     "end_time": "2022-12-27T01:40:01.435638Z",
     "start_time": "2022-12-27T01:40:01.175963Z"
    },
    "code_folding": [
     0,
     5,
     54,
     74,
     119,
     142,
     178,
     190,
     241
    ],
    "execution": {
     "iopub.execute_input": "2022-02-13T03:49:04.235486Z",
     "iopub.status.busy": "2022-02-13T03:49:04.233853Z",
     "iopub.status.idle": "2022-02-13T03:49:04.236048Z",
     "shell.execute_reply": "2022-02-13T03:49:04.236480Z",
     "shell.execute_reply.started": "2022-02-13T00:29:12.001803Z"
    },
    "executionInfo": {
     "elapsed": 2,
     "status": "ok",
     "timestamp": 1655826441227,
     "user": {
      "displayName": "Rogério Delfim",
      "userId": "04235763959036945343"
     },
     "user_tz": 180
    },
    "id": "068c3e54",
    "papermill": {
     "duration": 0.091139,
     "end_time": "2022-02-13T03:49:04.236630",
     "exception": false,
     "start_time": "2022-02-13T03:49:04.145491",
     "status": "completed"
    },
    "run_control": {
     "marked": false
    },
    "tags": []
   },
   "outputs": [],
   "source": [
    "class Utility():\n",
    "        \n",
    "    def __init__(self):\n",
    "        self.name_ =''\n",
    "       \n",
    "    def jupyter_setting():\n",
    "    \n",
    "        %matplotlib inline\n",
    "\n",
    "        #os.environ[\"WANDB_SILENT\"] = \"true\" \n",
    "        #plt.style.use('bmh') \n",
    "        #plt.rcParams['figure.figsize'] = [20,15]\n",
    "        #plt.rcParams['font.size']      = 13\n",
    "\n",
    "        matplotlib_axes_logger.setLevel('ERROR')\n",
    "\n",
    "        pd.options.display.max_columns = None\n",
    "        #pd.set_option('display.expand_frame_repr', False)\n",
    "\n",
    "        warnings.filterwarnings(action='ignore')\n",
    "        warnings.simplefilter('ignore')\n",
    "        warnings.filterwarnings('ignore')\n",
    "        warnings.filterwarnings('ignore', category=DeprecationWarning)\n",
    "        warnings.filterwarnings('ignore', category=FutureWarning)\n",
    "        warnings.filterwarnings('ignore', category=RuntimeWarning)\n",
    "        warnings.filterwarnings('ignore', category=UserWarning)\n",
    "        warnings.filterwarnings(\"ignore\", category=sklearn.exceptions.UndefinedMetricWarning)\n",
    "        warnings.filterwarnings(\"ignore\", category= sklearn.exceptions.UndefinedMetricWarning)\n",
    "        warnings.simplefilter(action=\"ignore\", category=pd.errors.PerformanceWarning)\n",
    "\n",
    "        pd.options.mode.chained_assignment = None \n",
    "        pd.set_option('display.max_rows', 200)\n",
    "        pd.set_option('display.max_columns', 500)\n",
    "        pd.set_option('display.max_colwidth', 200)\n",
    "\n",
    "        icecream = [\"#00008b\", \"#960018\",\"#008b00\", \"#00468b\", \"#8b4500\", \"#582c00\"]\n",
    "        #sns.palplot(sns.color_palette(icecream))\n",
    "\n",
    "        colors = [\"lightcoral\", \"sandybrown\", \"darkorange\", \"mediumseagreen\",\n",
    "              \"lightseagreen\", \"cornflowerblue\", \"mediumpurple\", \"palevioletred\",\n",
    "              \"lightskyblue\", \"sandybrown\", \"yellowgreen\", \"indianred\",\n",
    "              \"lightsteelblue\", \"mediumorchid\", \"deepskyblue\"]\n",
    "\n",
    "        # Colors\n",
    "        dark_red   = \"#b20710\"\n",
    "        black      = \"#221f1f\"\n",
    "        green      = \"#009473\"\n",
    "        myred      = '#CD5C5C'\n",
    "        myblue     = '#6495ED'\n",
    "        mygreen    = '#90EE90'    \n",
    "        color_cols = [myred, myblue,mygreen]\n",
    "\n",
    "        return icecream, colors, color_cols\n",
    "\n",
    "    def missing_zero_values_table(self, df):\n",
    "        \n",
    "        mis_val         = df.isnull().sum()\n",
    "        mis_val_percent = round(df.isnull().mean().mul(100), 2)\n",
    "        mz_table        = pd.concat([mis_val, mis_val_percent], axis=1)\n",
    "        mz_table        = mz_table.rename(columns = {df.index.name:'col_name', \n",
    "                                                     0 : 'Valores ausentes', \n",
    "                                                     1 : '% de valores totais'})\n",
    "        \n",
    "        mz_table['Tipo de dados'] = df.dtypes\n",
    "        mz_table                  = mz_table[mz_table.iloc[:,1] != 0 ]. \\\n",
    "                                     sort_values('% de valores totais', ascending=False)\n",
    "        \n",
    "        msg = \"Seu dataframe selecionado tem {} colunas e {} \" + \\\n",
    "              \"linhas. \\nExistem {} colunas com valores ausentes.\"\n",
    "            \n",
    "        print (msg.format(df.shape[1], df.shape[0], mz_table.shape[0]))\n",
    "        \n",
    "        return mz_table.reset_index()\n",
    "    \n",
    "    def reduce_memory_usage(self, df, verbose=True):\n",
    "    \n",
    "        numerics = [\"int8\", \"int16\", \"int32\", \"int64\", \"float16\", \"float32\", \"float64\"]\n",
    "        start_mem = df.memory_usage().sum() / 1024 ** 2\n",
    "\n",
    "        for col in df.columns:\n",
    "\n",
    "            col_type = df[col].dtypes\n",
    "\n",
    "            if col_type in numerics:\n",
    "                c_min = df[col].min()\n",
    "                c_max = df[col].max()\n",
    "\n",
    "                if str(col_type)[:3] == \"int\":\n",
    "                    if c_min > np.iinfo(np.int8).min and c_max < np.iinfo(np.int8).max:\n",
    "                        df[col] = df[col].astype(np.int8)\n",
    "                    elif c_min > np.iinfo(np.int16).min and c_max < np.iinfo(np.int16).max:\n",
    "                        df[col] = df[col].astype(np.int16)\n",
    "                    elif c_min > np.iinfo(np.int32).min and c_max < np.iinfo(np.int32).max:\n",
    "                        df[col] = df[col].astype(np.int32)\n",
    "                    elif c_min > np.iinfo(np.int64).min and c_max < np.iinfo(np.int64).max:\n",
    "                        df[col] = df[col].astype(np.int64)\n",
    "                else:\n",
    "                    if (\n",
    "                        c_min > np.finfo(np.float16).min\n",
    "                        and c_max < np.finfo(np.float16).max\n",
    "                    ):\n",
    "                        df[col] = df[col].astype(np.float16)\n",
    "                    elif (\n",
    "                        c_min > np.finfo(np.float32).min\n",
    "                        and c_max < np.finfo(np.float32).max\n",
    "                    ):\n",
    "                        df[col] = df[col].astype(np.float32)\n",
    "                    else:\n",
    "                        df[col] = df[col].astype(np.float64)\n",
    "        end_mem = df.memory_usage().sum() / 1024 ** 2\n",
    "        if verbose:\n",
    "            print(\n",
    "                \"Mem. usage decreased to {:.2f} Mb ({:.1f}% reduction)\".format(\n",
    "                    end_mem, 100 * (start_mem - end_mem) / start_mem\n",
    "                )\n",
    "            )\n",
    "\n",
    "        return df\n",
    "    \n",
    "    def graf_label(self, ax, total):\n",
    "\n",
    "         for i in ax.patches:\n",
    "            # get_width pulls left or right; get_y pushes up or down\n",
    "            width, height = i.get_width() -.2 , i.get_height()\n",
    "\n",
    "            x, y  = i.get_xy()  \n",
    "            color = 'white'\n",
    "            alt   = .5\n",
    "            soma  = 0 \n",
    "\n",
    "            if height < 70:\n",
    "                color = 'black'\n",
    "                alt   = 1\n",
    "                soma  = 10\n",
    "\n",
    "            ax.annotate(str(round((i.get_height() * 100.0 / total), 1) )+'%', \n",
    "                        (i.get_x()+.55*width, \n",
    "                         i.get_y()+soma + alt*height),\n",
    "                         color   = color,\n",
    "                         weight = 'bold',\n",
    "                         size   = 14)\n",
    "            \n",
    "    def graf_bar(self, df, col, title, xlabel, ylabel, tol = 0):\n",
    "    \n",
    "        #ax    = df.groupby(['churn_cat'])['churn_cat'].count()\n",
    "        ax     = df    \n",
    "        colors = col\n",
    "\n",
    "        if tol == 0: \n",
    "            total  = sum(ax)\n",
    "            ax = (ax).plot(kind    ='bar',\n",
    "                           stacked = True,\n",
    "                           width   = .5,\n",
    "                           rot     = 0,\n",
    "                           color   = colors, \n",
    "                           grid    = False)\n",
    "        else:\n",
    "            total  = tol     \n",
    "            ax = (ax).plot(kind    ='bar',\n",
    "                           stacked = True,\n",
    "                           width   = .5,\n",
    "                           rot     = 0,\n",
    "                           figsize = (10,6),\n",
    "                           color   = colors,\n",
    "                           grid    = False)\n",
    "\n",
    "        title   = title #+ ' \\n'\n",
    "        xlabel  = '\\n ' + xlabel \n",
    "        ylabel  = ylabel + ' \\n'\n",
    "\n",
    "        ax.set_title(title  , fontsize=22)\n",
    "        ax.set_xlabel(xlabel, fontsize=12)\n",
    "        ax.set_ylabel(ylabel, fontsize=12)    \n",
    "\n",
    "        min = [0,23000000]\n",
    "        #ax.set_ylim(min)\n",
    "        self.graf_label(ax, total)\n",
    "\n",
    "    def correlation(self, df_, threshold_):\n",
    "        col_corr    = set()  \n",
    "        corr_matrix = df_.corr()\n",
    "        \n",
    "        for i in range(len(corr_matrix.columns)):\n",
    "            for j in range(i):\n",
    "                if abs(corr_matrix.iloc[i, j]) > threshold_: \n",
    "                    colname = corr_matrix.columns[i]  \n",
    "                    col_corr.add(colname)\n",
    "                    \n",
    "        return col_corr\n",
    "\n",
    "    def __graf_fature_corr(df_, annot_=False, threshold_=.8, print_var_=False, \n",
    "                         print_graf_=True, mask_=True, title_='', method_='pearson'):\n",
    "        \n",
    "        msg_title = '\\n Correlação das variável {} -{} \\n'.format(title_, 'method_')\n",
    "        \n",
    "        df = df_.copy().corr(method =method_).round(5)\n",
    "        \n",
    "        if print_graf_: \n",
    "            # Máscara para ocultar a parte superior direita do gráfico, pois é uma duplicata\n",
    "            mask = np.zeros_like(df)\n",
    "            mask[np.triu_indices_from(mask)] = mask_\n",
    "            \n",
    "            # Making a plot\n",
    "            ax = sns.heatmap(df, annot=annot_, \n",
    "                             mask=mask, \n",
    "                             cmap=\"RdBu\", \n",
    "                             annot_kws={\"weight\": \"bold\", \"fontsize\":13}                              \n",
    "                            )\n",
    "\n",
    "            ax.set_title(msg_title, fontsize=17)\n",
    "            \n",
    "            plt.setp(ax.get_xticklabels(), \n",
    "                     rotation      = 90, \n",
    "                     ha            = \"right\",\n",
    "                     rotation_mode = \"anchor\", \n",
    "                     weight        = \"normal\", style = 'whitegrid', palette= 'pastel')\n",
    "\n",
    "            plt.setp(ax.get_yticklabels(), \n",
    "                     weight        = \"normal\",\n",
    "                     rotation_mode = \"anchor\", \n",
    "                     rotation      = 0, \n",
    "                     ha            = \"right\", style = 'whitegrid', palette= 'pastel')\n",
    "            \n",
    "            \n",
    "            \n",
    "            plt.show();\n",
    "            \n",
    "            \n",
    "            \n",
    "        if print_var_:         \n",
    "            df_corr = df[abs(df)>threshold_][df!=1.0].unstack().dropna().reset_index()\n",
    "            if len(df_corr)>0:            \n",
    "                print('Variáveis autocorrelacionadas threshold={:2.2f}'.format(threshold_))\n",
    "                df_corr.columns =  ['var_1', 'var_2', 'corr']\n",
    "                display(df_corr)\n",
    "            else: \n",
    "                print('Não tem variáveis autocorrelacionadas threshold={:2.2f}'.format(threshold_))\n",
    "        \n",
    "        #sns.set(style=\"darkgrid\")\n",
    "        plt.show();\n",
    "                        \n",
    "    def describe(self, df):\n",
    "        var = df.columns\n",
    "\n",
    "        # Medidas de tendência central, média e mediana \n",
    "        ct1 = pd.DataFrame(df[var].apply(np.mean)).T\n",
    "        ct2 = pd.DataFrame(df[var].apply(np.median)).T\n",
    "\n",
    "        # Dispensão - str, min , max range skew, kurtosis\n",
    "        d1 = pd.DataFrame(df[var].apply(np.std)).T\n",
    "        d2 = pd.DataFrame(df[var].apply(min)).T\n",
    "        d3 = pd.DataFrame(df[var].apply(max)).T\n",
    "        d4 = pd.DataFrame(df[var].apply(lambda x: x.max() - x.min())).T\n",
    "        d5 = pd.DataFrame(df[var].apply(lambda x: x.skew())).T\n",
    "        d6 = pd.DataFrame(df[var].apply(lambda x: x.kurtosis())).T\n",
    "        d7 = pd.DataFrame(df[var].apply(lambda x: (3 *( np.mean(x) - np.median(x)) / np.std(x) ))).T\n",
    "\n",
    "        # concatenete \n",
    "        m = pd.concat([d2, d3, d4, ct1, ct2, d1, d5, d6, d7]).T.reset_index()\n",
    "        m.columns = ['attrobutes', 'min', 'max', 'range', 'mean', 'median', 'std','skew', 'kurtosis','coef_as']\n",
    "\n",
    "        return m\n",
    "\n",
    "    def graf_outlier(self, df, feature):\n",
    "        col = [(0,4), (5,9)]\n",
    "\n",
    "        df_plot = ((df[feature] - df[feature].min())/\n",
    "                   (df[feature].max() - df[feature].min()))\n",
    "\n",
    "        fig, ax = plt.subplots(len(col), 1, figsize=(15,7))\n",
    "\n",
    "        for i, (x) in enumerate(col): \n",
    "            sns.boxplot(data = df_plot.iloc[:, x[0]:x[1] ], ax = ax[i]); \n",
    "\n",
    "    def diff(self, t_a, t_b):\n",
    "        from dateutil.relativedelta import relativedelta\n",
    "        t_diff = relativedelta(t_b, t_a)  # later/end time comes first!\n",
    "        return '{h}h {m}m {s}s'.format(h=t_diff.hours, m=t_diff.minutes, s=t_diff.seconds)\n",
    "    \n",
    "    def free_gpu_cache(self):\n",
    "\n",
    "        # https://www.kaggle.com/getting-started/140636\n",
    "        #print(\"Initial GPU Usage\")\n",
    "        #gpu_usage()                             \n",
    "\n",
    "        #cuda.select_device(0)\n",
    "        #cuda.close()\n",
    "        #cuda.select_device(0)   \n",
    "\n",
    "        gc.collect()\n",
    "        torch.cuda.empty_cache()\n",
    "\n",
    "    def graf_eval(self):\n",
    "\n",
    "        results     = model.evals_result()\n",
    "        ntree_limit = model.best_ntree_limit\n",
    "\n",
    "        plt.figure(figsize=(20,7))\n",
    "\n",
    "        for i, error in  enumerate(['mlogloss', 'merror']):#\n",
    "\n",
    "            plt.subplot(1,2,i+1)\n",
    "            plt.plot(results[\"validation_0\"][error], label=\"Treinamento\")\n",
    "            plt.plot(results[\"validation_1\"][error], label=\"Validação\")\n",
    "\n",
    "            plt.axvline(ntree_limit, \n",
    "                        color=\"gray\", \n",
    "                        label=\"N. de árvore ideal {}\".format(ntree_limit))\n",
    "\n",
    "\n",
    "            title_name ='\\n' + error.upper() + ' PLOT \\n'\n",
    "            plt.title(title_name)\n",
    "            plt.xlabel(\"Número de árvores\")\n",
    "            plt.ylabel(error)\n",
    "            plt.legend();\n",
    "\n",
    "    def linear_fit_slope(self, y):\n",
    "        \"\"\"Return the slope of a linear fit to a series.\"\"\"\n",
    "        y_pure = y.dropna()\n",
    "        length = len(y_pure)\n",
    "        x = np.arange(0, length)\n",
    "        slope, intercept = np.polyfit(x, y_pure.values, deg=1)\n",
    "        return slope\n",
    "\n",
    "    def linear_fit_intercept(self, y):\n",
    "        \"\"\"Return the intercept of a linear fit to a series.\"\"\"\n",
    "        y_pure = y.dropna()\n",
    "        length = len(y_pure)\n",
    "        x = np.arange(0, length)\n",
    "        slope, intercept = np.polyfit(x, y_pure.values, deg=1)\n",
    "        return intercept\n",
    "\n",
    "    def cromer_v(self, x, y):\n",
    "        cm       = pd.crosstab(x, y).to_numpy()        \n",
    "        n        = cm.sum()\n",
    "        r, k     = cm.shape\n",
    "        chi2     = stats.chi2_contingency(cm)[0]\n",
    "        chi2corr = max(0, chi2 - (k-1) * (r-1) /(n-1))\n",
    "        kcorr    = k - (k-1) **2/(n-1)\n",
    "        rcorr    = r - (r-1) **2/(n-1)    \n",
    "        v        = np.sqrt((chi2corr/n) / (min(kcorr-1, rcorr-1)))        \n",
    "        return v  \n",
    "\n",
    "    def generate_category_table(self, data):\n",
    "\n",
    "        cols    = data.select_dtypes(include='object').columns\n",
    "        dataset = pd.DataFrame()\n",
    "\n",
    "        for i in cols:\n",
    "            corr = []\n",
    "            for x in cols: \n",
    "                corr.append(self.cromer_v(data[i],data[x]))\n",
    "\n",
    "            aux     = pd.DataFrame({i:corr})\n",
    "            dataset = pd.concat([dataset, aux], axis=1) \n",
    "\n",
    "        return dataset.set_index(dataset.columns)\n",
    "            \n",
    "    def graf_feature_corr(self, df_, annot_=False, threshold_=.8, print_var_=False, \n",
    "                          print_graf_=True, mask_=True, title_='', method_='pearson'):\n",
    "\n",
    "        df = df_.corr(method=method_).round(5)\n",
    "\n",
    "        if print_graf_: \n",
    "            # Máscara para ocultar a parte superior direita do gráfico, pois é uma duplicata\n",
    "            mask = np.zeros_like(df)\n",
    "            mask[np.triu_indices_from(mask)] = mask_\n",
    "\n",
    "            sns.set(style=\"whitegrid\", palette=\"pastel\") \n",
    "            \n",
    "            # Making a plot\n",
    "            ax = sns.heatmap(df, annot = annot_, \n",
    "                             mask      = mask, \n",
    "                             cmap      = \"RdBu\", \n",
    "                             fmt       = \".2f\",\n",
    "                             annot_kws = {\"weight\": \"bold\", \"fontsize\":10}\n",
    "                            )\n",
    "            \n",
    "            ax.set_title(\"\\n Correlação das variável {} - {} \\n\".format(title_, method_.upper()), fontsize=17)\n",
    "\n",
    "            plt.setp(ax.get_xticklabels(), \n",
    "                     rotation      = 90, \n",
    "                     ha            = \"right\",\n",
    "                     rotation_mode = \"anchor\", \n",
    "                     weight        = \"normal\")\n",
    "\n",
    "            plt.setp(ax.get_yticklabels(), \n",
    "                     weight        = \"normal\",\n",
    "                     rotation_mode = \"anchor\", \n",
    "                     rotation      = 0, \n",
    "                     ha            = \"right\")\n",
    "            \n",
    "            sns.set(style=\"darkgrid\")\n",
    "\n",
    "            plt.show();\n",
    "\n",
    "        if print_var_:         \n",
    "            df_corr = df[abs(df)>threshold_][df!=1.0].unstack().dropna().reset_index()\n",
    "            if len(df_corr)>0:            \n",
    "                print('Variáveis autocorrelacionadas threshold={:2.2f}'.format(threshold_))\n",
    "                df_corr.columns =  ['var_1', 'var_2', 'corr']\n",
    "                display(df_corr)\n",
    "            else: \n",
    "                print('Não tem variáveis autocorrelacionadas threshold={:2.2f}'.format(threshold_))\n",
    "                \n",
    "        return self.correlation(df_, threshold_)\n",
    "\n",
    "    def plot_roc_curve(self, fpr, tpr, label=None):\n",
    "        fig, ax = plt.subplots()\n",
    "        ax.plot(fpr, tpr, \"r-\", label=label)\n",
    "        ax.plot([0, 1], [0, 1], transform=ax.transAxes, ls=\"--\", c=\".3\")\n",
    "        plt.xlim([0.0, 1.0])\n",
    "        plt.ylim([0.0, 1.0])\n",
    "        plt.rcParams['font.size'] = 12\n",
    "        plt.title('ROC curve for FLAI 08')\n",
    "        plt.xlabel('False Positive Rate (1 - Specificity)')\n",
    "        plt.ylabel('True Positive Rate (Sensitivity)')\n",
    "        plt.legend(loc=\"lower right\")\n",
    "        plt.grid(True)\n",
    "\n",
    "    def feature_engineering(self, df_):\n",
    "\n",
    "        var_f27 = ''\n",
    "        for col in df_['f_27']: \n",
    "            var_f27 +=col\n",
    "\n",
    "        var_f27 = list(set(var_f27))\n",
    "        var_f27.sort()\n",
    "\n",
    "        df_[\"fe_f_27_unique\"] = df_[\"f_27\"].apply(lambda x: len(set(x)))\n",
    "\n",
    "        for letra in var_f27:             \n",
    "            df_['fe_' + letra.lower() + '_count'] = df2_train[\"f_27\"].str.count(letra)\n",
    "\n",
    "        return df_ \n",
    "\n",
    "    def identifies_outliers(self, df):\n",
    "\n",
    "        cols_num = df.select_dtypes(np.number).columns\n",
    "\n",
    "        for col in cols_num: \n",
    "            if col != 'unnamed':            \n",
    "                Q1  = df[col].quantile(0.25)\n",
    "                Q3  = df[col].quantile(0.75)\n",
    "                IQR = Q3-Q1\n",
    "                lowqe_bound=Q1 - 1.5 * IQR\n",
    "                upper_bound=Q3 + 1.5 * IQR\n",
    "\n",
    "                df['outliers_'+ col] = 0\n",
    "                df['outliers_'+ col][(df[col]<=lowqe_bound)|(df[col]>=upper_bound)] = 1    \n",
    "\n",
    "                df[col] = np.where(df[col] > df[col].quantile(0.95),\n",
    "                                                df[col].median(),\n",
    "                                                df[col])\n",
    "\n",
    "    def evaluation(self, y_, predictions_, smape_base_=100):\n",
    "        from sklearn import metrics\n",
    "        mae   = metrics.mean_absolute_error(y_, predictions_)\n",
    "        mse   = metrics.mean_squared_error(y_, predictions_)\n",
    "        rmse  = metrics.mean_squared_error(y_, predictions_, squared=False) \n",
    "        mape  = metrics.mean_absolute_percentage_error(y_, predictions_)\n",
    "        smape = self.smape(y_, predictions_)\n",
    "        r2    = metrics.r2_score(y_, predictions_)    \n",
    "        return rmse, mae, mse, mape, r2, smape\n",
    "    \n",
    "    def feature_statistic(self, df, feature_float, feature_cat=None):\n",
    "        df['fe_mean']        = df[feature_float].mean(axis=1)   \n",
    "        df['fe_std']         = df[feature_float].std(axis=1)   \n",
    "        df['fe_median']      = df[feature_float].median(axis=1)   \n",
    "        df['fe_var']         = df[feature_float].var(axis=1) \n",
    "        df['fe_min']         = df[feature_float].min(axis=1)   \n",
    "        df['fe_max']         = df[feature_float].max(axis=1)   \n",
    "        df['fe_skew']        = df[feature_float].skew(axis=1)   \n",
    "        df['fe_quantile_25'] = df[feature_float].quantile(q=.25, axis=1)\n",
    "        df['fe_quantile_50'] = df[feature_float].quantile(q=.5, axis=1)\n",
    "        df['fe_quantile_75'] = df[feature_float].quantile(q=.75, axis=1)\n",
    "        \n",
    "        if feature_cat is not None:\n",
    "            df['fe_dammy_count'] = df[feature_cat].sum(axis=1)   \n",
    "        \n",
    "        return df\n",
    "    \n",
    "    def gridSearchCV(self, model_, params_, X_train_, y_train_):\n",
    "        \"\"\"\n",
    "        @param    model: sklearn estimator\n",
    "        @param    params (dict): Dictionary of possible parameters\n",
    "\n",
    "        @return   cv_results (DataFrame)\n",
    "        \"\"\"\n",
    "        model_cv = GridSearchCV(model_, param_grid=params_, scoring='roc_auc', cv=5)\n",
    "        model_cv.fit(X_train_, y_train_)\n",
    "        cv_results = pd.DataFrame(model_cv.cv_results_)[['params', 'mean_test_score']]\n",
    "\n",
    "        return cv_results\n",
    "    \n",
    "    def evaluate(self, model,X_train_, y_train_, X_test_, plotROC=False):\n",
    "\n",
    "        model.fit(X_train_, y_train_)\n",
    "        probs = model.predict_proba(X_train_)\n",
    "        preds = probs[:,1]\n",
    "        fpr, tpr, threshold = roc_curve(y_train_, preds)\n",
    "        roc_auc = auc(fpr, tpr)\n",
    "        print(f'AUC: {roc_auc:.4f}')\n",
    "\n",
    "        rocDf = pd.DataFrame({'fpr': fpr, 'tpr':tpr, 'threshold':threshold})\n",
    "        rocDf['tpr - fpr'] = rocDf.tpr - rocDf.fpr\n",
    "        optimalThreshold = rocDf.threshold[rocDf['tpr - fpr'].idxmax()]\n",
    "\n",
    "        y_pred = np.where(preds >= optimalThreshold, 1, 0)\n",
    "\n",
    "        # Plot ROC AUC\n",
    "        if plotROC:\n",
    "            plt.title('Receiver Operating Characteristic')\n",
    "            plt.plot(fpr, tpr, 'b', label = 'AUC = %0.2f' % roc_auc)\n",
    "            plt.legend(loc = 'lower right')\n",
    "            plt.plot([0, 1], [0, 1],'r--')\n",
    "            plt.xlim([0, 1])\n",
    "            plt.ylim([0, 1])\n",
    "            plt.ylabel('True Positive Rate')\n",
    "            plt.xlabel('False Positive Rate')\n",
    "            plt.show()    \n",
    "\n",
    "    def iqr_outliers(self, df,ft):\n",
    "\n",
    "        q1  = df[ft].quantile(0.25)\n",
    "        q3  = df[ft].quantile(0.75)\n",
    "        iqr = q3-q1\n",
    "        c   = 0 \n",
    "\n",
    "        Lower_tail = q1 - 1.5 * iqr\n",
    "        Upper_tail = q3 + 1.5 * iqr\n",
    "\n",
    "        for i in range(len(df[ft])):\n",
    "            if df[ft][i] > Upper_tail or df[ft][i] < Lower_tail:\n",
    "                c+=1\n",
    "        return c\n",
    "    \n",
    "    def outlier_create_feature_check(self, df_tr_, df_ts_, cols_=[], qt_inferior_=.25, qt_superior_=.75, \n",
    "                                     flg_ts_=True, input_limete_=False, verbose_=True):\n",
    "    \n",
    "        col_oltlier         = 'fe_outlier'\n",
    "        df_tr_[col_oltlier] = 0 \n",
    "        df_ts_[col_oltlier] = 0 \n",
    "\n",
    "        for c in cols_:\n",
    "\n",
    "            percentil25 = df_tr_[c].quantile(qt_inferior_)\n",
    "            percentil75 = df_tr_[c].quantile(qt_superior_)\n",
    "\n",
    "            iqr= percentil75 - percentil25 \n",
    "\n",
    "            limite_inferior = percentil25 - 1.5 * iqr\n",
    "            limite_superior = percentil75 + 1.5 * iqr\n",
    "\n",
    "            df_tr_[col_oltlier][df_tr_[c]>limite_superior] = 1\n",
    "            df_tr_[col_oltlier][df_tr_[c]<limite_inferior] = 1\n",
    "\n",
    "            if input_limete_:\n",
    "                df_tr_[c][df_tr_[c]>limite_superior] = limite_superior\n",
    "                df_tr_[c][df_tr_[c]<limite_inferior] = limite_inferior\n",
    "\n",
    "            if flg_ts_:\n",
    "                df_ts_[col_oltlier][df_ts_[c]>limite_superior] = 1\n",
    "                df_ts_[col_oltlier][df_ts_[c]<limite_inferior] = 1\n",
    "                \n",
    "                if input_limete_:\n",
    "                    df_ts_[c][df_ts_[c]>limite_superior] = limite_superior\n",
    "                    df_ts_[c][df_ts_[c]<limite_inferior] = limite_inferior\n",
    "\n",
    "            if verbose_:\n",
    "                print('Com a variável {}'.format(c))\n",
    "                print(df_tr_[col_oltlier].value_counts())\n",
    "                print()\n",
    "\n",
    "        return df_tr_, df_ts_\n",
    "        \n",
    "    def calibrated_classifier_graf_model(self, mdl_list_, X_, y_, seed_=12359, figsize_=(10, 10), verbose_=False): \n",
    "\n",
    "        fig = plt.figure(1, figsize=figsize_)\n",
    "        ax1 = plt.subplot2grid((3, 1), (0, 0), rowspan=2)\n",
    "        \n",
    "        if verbose_: ax2 = plt.subplot2grid((3, 1), (2, 0))\n",
    "\n",
    "        ax1.plot([0, 1], [0, 1], \"k:\", label=\"Perfeitamente calibrado\")\n",
    "\n",
    "        for name, mdl1 in mdl_list_:  \n",
    "            model_pipeline  = Pipeline(steps=[\n",
    "                ('preprocessor', preprocessor_1),\n",
    "                #('sampler_over', over), \n",
    "                #('sampler_under', under),    \n",
    "                ('variancethreshold', VarianceThreshold(threshold=0.1)),    \n",
    "                ('selectpercentile', SelectPercentile(f_classif, percentile=90)), \n",
    "                ('model', mdl1)\n",
    "                ])\n",
    "\n",
    "            X_train, X_val, y_train, y_val = train_test_split(X_, y_, test_size=0.5, random_state=seed_)\n",
    "\n",
    "            model_calibrated = CalibratedClassifierCV(model_pipeline, method='isotonic', cv=2) \n",
    "            # method='isotonic' sigmoid\n",
    "\n",
    "            model_calibrated.fit(X_train, y_train)\n",
    "\n",
    "            if hasattr(model_calibrated, \"predict_proba\"):\n",
    "                prob_pos = model_calibrated.predict_proba(X_val)[:, 1]\n",
    "            else:  \n",
    "                prob_pos = model_calibrated.decision_function(X_val)\n",
    "                prob_pos = (prob_pos-prob_pos.min()) / (prob_pos.max()-prob_pos.min())\n",
    "\n",
    "            score = brier_score_loss(y_val, prob_pos, pos_label=y_val.max())\n",
    "\n",
    "            frac_of_pos, mean_pred_value = calibration_curve(y_val, prob_pos, n_bins=15, normalize=True)      \n",
    "\n",
    "            ax1.plot(mean_pred_value, frac_of_pos, \"s-\", label=\"%s (%1.3f)\" % (name, score))\n",
    "\n",
    "            ax1.set_ylabel('Fração de positivos')\n",
    "            ax1.set_ylim([-0.05, 1.05])\n",
    "            ax1.legend(loc='upper left' )\n",
    "            ax1.set_title('\\nGráficos de calibração (curva de confiabilidade)\\n', fontsize=18)\n",
    "\n",
    "            if verbose_: \n",
    "                ax2.hist(prob_pos, range=(0, 1), bins=100, label=name, histtype=\"step\", lw=2)    \n",
    "                ax2.set_xlabel('Valor médio previsto')\n",
    "                ax2.set_ylabel('Quantidade')\n",
    "                ax2.legend(loc=\"upper left\", ncol=1)\n",
    "\n",
    "                plt.tight_layout()\n",
    "\n",
    "                msg = 'AUC: {:2.5f} - F1: {:2.5f} - Perda: {:2.3f} -> {}'\n",
    "                auc = roc_auc_score(y_val, prob_pos)\n",
    "                f1  = f1_score(y_val, (prob_pos>.5).astype(int))\n",
    "                print(msg.format(auc,f1, score, name))\n",
    "\n",
    "        plt.show()\n",
    "\n",
    "    def describe(df):\n",
    "        var = df.columns\n",
    "\n",
    "        # Medidas de tendência central, média e mediana \n",
    "        ct1 = pd.DataFrame(df[var].apply(np.mean)).T\n",
    "        ct2 = pd.DataFrame(df[var].apply(np.median)).T\n",
    "\n",
    "        # Dispensão - str, min , max range skew, kurtosis\n",
    "        d1 = pd.DataFrame(df[var].apply(np.std)).T\n",
    "        d2 = pd.DataFrame(df[var].apply(min)).T\n",
    "        d3 = pd.DataFrame(df[var].apply(max)).T\n",
    "        d4 = pd.DataFrame(df[var].apply(lambda x: x.max() - x.min())).T\n",
    "        d5 = pd.DataFrame(df[var].apply(lambda x: x.skew())).T\n",
    "        d6 = pd.DataFrame(df[var].apply(lambda x: x.kurtosis())).T\n",
    "        d7 = pd.DataFrame(df[var].apply(lambda x: (3 *( np.mean(x) - np.median(x)) / np.std(x) ))).T\n",
    "\n",
    "        # concatenete \n",
    "        m = pd.concat([d2, d3, d4, ct1, ct2, d1, d5, d6, d7]).T.reset_index()\n",
    "        m.columns = ['attrobutes', 'min', 'max', 'range', 'mean', 'median', 'std','skew', 'kurtosis','coef_as']\n",
    "        \n",
    "        return m\n",
    "        \n",
    "    def smape(self, a, f):\n",
    "        return 1/len(a) * np.sum(2 * np.abs(f-a) / (np.abs(a) + np.abs(f))*100)\n",
    "\n",
    "    def smape_(self, y_true, y_pred, base_=100.):\n",
    "        denominator          = (np.abs(y_true)+np.abs(y_pred))/base_\n",
    "        diff                 = np.abs(y_true-y_pred)/denominator\n",
    "        diff[denominator==0] = 0.0\n",
    "        return np.nanmean(diff)\n",
    "    \n",
    "    def smape_loss(y_true, y_pred):\n",
    "        \"\"\"SMAPE Loss\"\"\"\n",
    "        return np.abs(y_true - y_pred) / (y_true + np.abs(y_pred)) * 200\n",
    "    \n",
    "    def calc_erro(y, y_pred, outros=True, ruturn_score=False):\n",
    "        erro   = smape(y, y_pred)    \n",
    "        \n",
    "        \n",
    "        if outros:        \n",
    "            rmse = metrics.mean_squared_error(y, y_pred, squared=False)\n",
    "            mape = metrics.mean_absolute_percentage_error(y, y_pred)\n",
    "            mae  = metrics.mean_absolute_error(y, y_pred)\n",
    "            \n",
    "            print('RMSE : {:2.5f}'.format(rmse))\n",
    "            print('MAE  : {:2.5f}'.format(mae))\n",
    "            print('MAPE : {:2.5f}'.format(mape))\n",
    "            \n",
    "            \n",
    "        if ruturn_score: \n",
    "            return erro\n",
    "        else: \n",
    "            print('SMAPE: {:2.5f}'.format(erro))\n",
    "            \n",
    "    def graf_outlier(df, feature):\n",
    "        col = [(0,4), (5,9)]\n",
    "\n",
    "        df_plot = ((df[feature] - df[feature].min())/\n",
    "                (df[feature].max() - df[feature].min()))\n",
    "\n",
    "        fig, ax = plt.subplots(len(col), 1, figsize=(15,7))\n",
    "\n",
    "        for i, (x) in enumerate(col): \n",
    "            sns.boxplot(data = df_plot.iloc[:, x[0]:x[1] ], ax = ax[i]); \n",
    "                    \n",
    "    def graf_eval():\n",
    "\n",
    "        results     = model.evals_result()\n",
    "        ntree_limit = model.best_ntree_limit\n",
    "\n",
    "        plt.figure(figsize=(20,7))\n",
    "\n",
    "        for i, error in  enumerate(['mlogloss', 'merror']):#\n",
    "            \n",
    "            plt.subplot(1,2,i+1)\n",
    "            plt.plot(results[\"validation_0\"][error], label=\"Treinamento\")\n",
    "            plt.plot(results[\"validation_1\"][error], label=\"Validação\")\n",
    "\n",
    "            plt.axvline(ntree_limit, \n",
    "                        color=\"gray\", \n",
    "                        label=\"N. de árvore ideal {}\".format(ntree_limit))\n",
    "                        \n",
    "            \n",
    "            title_name ='\\n' + error.upper() + ' PLOT \\n'\n",
    "            plt.title(title_name)\n",
    "            plt.xlabel(\"Número de árvores\")\n",
    "            plt.ylabel(error)\n",
    "            plt.legend();\n",
    "        \n",
    "    def linear_fit_slope(y):\n",
    "        \"\"\"Return the slope of a linear fit to a series.\"\"\"\n",
    "        y_pure = y.dropna()\n",
    "        length = len(y_pure)\n",
    "        x = np.arange(0, length)\n",
    "        slope, intercept = np.polyfit(x, y_pure.values, deg=1)\n",
    "        return slope\n",
    "        \n",
    "    def linear_fit_intercept(y):\n",
    "        \"\"\"Return the intercept of a linear fit to a series.\"\"\"\n",
    "        y_pure = y.dropna()\n",
    "        length = len(y_pure)\n",
    "        x = np.arange(0, length)\n",
    "        slope, intercept = np.polyfit(x, y_pure.values, deg=1)\n",
    "        return intercept\n",
    "    \n",
    "    def create_fold(self, path_): \n",
    "\n",
    "        paths = ['img', 'Data', 'Data/pkl', 'Data/submission', 'Data/tunning', \n",
    "                 'model', 'model/preds', 'model/optuna','model/preds/test', 'Data/shap',\n",
    "                 'model/preds/test/n1', 'model/preds/test/n2', 'model/preds/test/n3', \n",
    "                 'model/preds/train', 'model/preds/train/n1', 'model/preds/train/n2', \n",
    "                 'model/preds/train/n3', 'model/preds/param', 'model/mdl', 'model/preds/folds' ]\n",
    "\n",
    "        for p in paths:\n",
    "            try:\n",
    "                os.mkdir(path_+p)       \n",
    "            except:\n",
    "                #print('Erro ao criar pasta: {} '.format(path+p))\n",
    "                pass \n",
    "        \n",
    "utility = Utility()"
   ]
  },
  {
   "cell_type": "code",
   "execution_count": 20,
   "id": "373cc899",
   "metadata": {
    "ExecuteTime": {
     "end_time": "2022-12-27T01:40:01.591841Z",
     "start_time": "2022-12-27T01:40:01.573831Z"
    }
   },
   "outputs": [],
   "source": [
    "icecream, colors, color_cols = Utility.jupyter_setting()\n",
    "n_threads = multiprocessing.cpu_count()"
   ]
  },
  {
   "cell_type": "code",
   "execution_count": 21,
   "id": "972e19b6",
   "metadata": {
    "ExecuteTime": {
     "end_time": "2022-12-27T01:40:01.844951Z",
     "start_time": "2022-12-27T01:40:01.837948Z"
    },
    "code_folding": [
     0
    ]
   },
   "outputs": [],
   "source": [
    "def delete_files(namefile):\n",
    "\n",
    "        path = ['model/train', 'model/test', 'model/valid', 'model/params', 'model/score',\n",
    "                'model/test_f', 'model/cv_model', 'model/preds', 'model/optuna', \n",
    "                'model/preds/train', 'model/preds/test', 'model/preds/test/n1', \n",
    "                'model/preds/test/n2', 'model/preds/test/n3', 'model/preds/train/n1', \n",
    "                'model/preds/train/n2', 'model/preds/train/n3','model/preds/param', \n",
    "                'Data/submission/tunning', 'Data/submission', 'model/mdl'\n",
    "                \n",
    "               ]\n",
    "\n",
    "        for path_ in path:\n",
    "            for raiz, diretorios, arquivos in os.walk(path_):\n",
    "                for arquivo in arquivos:\n",
    "                    if arquivo.startswith(namefile):                    \n",
    "                        os.remove(os.path.join(raiz, arquivo))"
   ]
  },
  {
   "cell_type": "code",
   "execution_count": 22,
   "id": "03a27482",
   "metadata": {
    "ExecuteTime": {
     "end_time": "2022-12-27T01:40:02.099436Z",
     "start_time": "2022-12-27T01:40:02.086405Z"
    },
    "code_folding": [
     0
    ]
   },
   "outputs": [],
   "source": [
    "def save_data_model(model_, model_name_, path_, y_pred_train_prob_, y_pred_test_prob_, y_pred_test_submission_, \n",
    "                    score_, seed_, target_, level_='1', cutoff_value_save_=.6, gera_submission_=True, \n",
    "                    is_tunning_=False):    \n",
    "    \n",
    "    level = 'n' + level_ + '/'\n",
    "\n",
    "    if score_>cutoff_value_save_:    \n",
    "        \n",
    "        path_name_param = path_ + 'model/preds/param/' + model_name_.format(score_, seed_) + '.pkl.z'\n",
    "        path_name_train = path_ + 'model/preds/train/' + level + model_name_.format(score_, seed_)  + '.pkl.z'\n",
    "        path_name_test  = path_ + 'model/preds/test/'  + level + model_name_.format(score_, seed_)  + '.pkl.z'   \n",
    "        path_name_model = path_ + 'model/mdl/'         + model_name_.format(score_, seed_)  + '.pkl.z'   \n",
    "        \n",
    "        delete_files(model_name_)\n",
    "        \n",
    "        jb.dump(y_pred_train_prob_, path_name_train)\n",
    "        jb.dump(y_pred_test_prob_, path_name_test)\n",
    "        jb.dump(model_, path_name_model)\n",
    "                \n",
    "        if gera_submission_:            \n",
    "            if is_tunning_==False:\n",
    "                df_sub = pd.DataFrame({target_: np.zeros(len(y_pred_test_submission_))})\n",
    "                df_sub[target_] = y_pred_test_submission_\n",
    "                df_sub.to_csv(path_ + 'Data/submission/' + model_name_+ '.csv', index=False)"
   ]
  },
  {
   "cell_type": "code",
   "execution_count": 23,
   "id": "4aa2be43",
   "metadata": {
    "ExecuteTime": {
     "end_time": "2022-12-27T01:40:02.351219Z",
     "start_time": "2022-12-27T01:40:02.335221Z"
    },
    "code_folding": [
     0
    ]
   },
   "outputs": [],
   "source": [
    "def plot_metric(result):\n",
    "    plt.figure(figsize=(16, 4))\n",
    "    \n",
    "    for i, metric in enumerate(['logloss']):\n",
    "        plt.subplot(1, 2, i+1)\n",
    "        train_metric = result['train'][metric]\n",
    "        plt.plot(train_metric, label=f'train {metric}')\n",
    "        eval_metric = result['valid'][metric]\n",
    "        plt.plot(eval_metric, label=f'valid {metric}')\n",
    "        plt.grid()\n",
    "        plt.legend()\n",
    "        plt.xlabel('rounds')\n",
    "        plt.ylabel(f'{metric}')\n",
    "    plt.show()"
   ]
  },
  {
   "cell_type": "code",
   "execution_count": 72,
   "id": "54f4440f",
   "metadata": {
    "ExecuteTime": {
     "end_time": "2022-12-27T01:46:23.051798Z",
     "start_time": "2022-12-27T01:46:23.036800Z"
    },
    "code_folding": [
     14
    ]
   },
   "outputs": [],
   "source": [
    "class Kfold():\n",
    "    \n",
    "    def __init__(self, kf_=StratifiedKFold(n_splits=10, shuffle=True, random_state=12359), verbose_=False):\n",
    "        self.verbose = verbose_\n",
    "        self.kf      = kf_\n",
    "    \n",
    "    def get_idx(self, n_splits_=5):\n",
    "        kf=[]\n",
    "        \n",
    "        for i in range(n_splits_):         \n",
    "            kf.append(jb.load(path + 'model/preds/folds/kf_folds_{}_{}.pkl.z'.format(n_splits_, i+1)))\n",
    "        \n",
    "        return kf #[0]['trn_idx'].tolist() \n",
    "    \n",
    "    def create(self, folds, X_, y_):\n",
    "        \n",
    "        msg = 'Folds criados com sucesso.' if ~self.verbose else ''\n",
    "        \n",
    "        for fold, (trn_idx, val_idx) in enumerate(self.kf.split(X_, y_, groups=y_)):   \n",
    "            idx  = {'trn_idx': trn_idx, 'val_idx': val_idx}\n",
    "            file = path + 'model/preds/folds/kf_folds_{}_{}.pkl.z'.format(folds,fold+1)\n",
    "            jb.dump(idx, file)\n",
    "            \n",
    "            \n",
    "            if self.verbose:\n",
    "                msg = 'Fold: {} => tran: {} - valid: {}'.format(fold+1, len(trn_idx), len(val_idx))\n",
    "                print(msg)\n",
    "                \n",
    "        print(msg)       "
   ]
  },
  {
   "cell_type": "code",
   "execution_count": 25,
   "id": "5a77f797",
   "metadata": {
    "ExecuteTime": {
     "end_time": "2022-12-27T01:40:02.854860Z",
     "start_time": "2022-12-27T01:40:02.821851Z"
    },
    "code_folding": [
     0
    ]
   },
   "outputs": [],
   "source": [
    "def model_cv_fit(models_, X_, y_, X_test_, path_, target_, seed_=12359, print_report_=False,threshold_=.5,\n",
    "                 n_splits_=5, print_hist_=False, create_sub_=False, save_ensamble_=True, cutoff_value_save_=.6,\n",
    "                 model_feature_=None, is_tunning_=False, callbacks_=None, train_with_created_folds_=False):\n",
    "    \n",
    "    cols         = []\n",
    "    cols_score   = []\n",
    "    mdl_list_fit = []\n",
    "    tag          = 90\n",
    "    oof_train    = np.zeros((len(X_), len(models_)))\n",
    "    score_mdl    = np.zeros(len(models_),)\n",
    "    oof_test     = np.zeros((len(X_test_), len(models_)))\n",
    "    kf           = [] \n",
    "    \n",
    "    # Recuperar os indices do kf \n",
    "    if train_with_created_folds_:\n",
    "        #my_folds = Kfold()\n",
    "        kf = Kfold().get_idx(10)\n",
    "    else:        \n",
    "        kf = StratifiedKFold(shuffle=True, n_splits=n_splits_, random_state=seed_)\n",
    "        kf = kf.split(X_, y_)\n",
    "\n",
    "    for i, m in enumerate(models_):\n",
    "        \n",
    "        time_start       = datetime.now()\n",
    "        model            = m[1]\n",
    "        type_model       = m[2]\n",
    "        name_sub         = m[3]\n",
    "        n_estimators     = m[5]\n",
    "        score_list       = []\n",
    "        score_list_f1    = []\n",
    "        score_list_f1_tr = []\n",
    "        y_ts_pred        = 0 \n",
    "                        \n",
    "        if is_tunning_ is False:\n",
    "            delete_files(name_sub)\n",
    "            print()\n",
    "            print('=> {}'.format(m[0]))\n",
    "            print('='*tag)\n",
    "\n",
    "        for fold, (idx_tr, idx_va) in enumerate(kf): #enumerate(kf.split(X_, y_)):\n",
    "            \n",
    "            time_fold_start = datetime.now()\n",
    "            X_ts            = X_test_.copy()\n",
    "            \n",
    "            if train_with_created_folds_:\n",
    "                idx_tr = kf[fold]['trn_idx']\n",
    "                idx_va = kf[fold]['val_idx']\n",
    "                \n",
    "            X_tr = X_.iloc[idx_tr]\n",
    "            X_va = X_.iloc[idx_va]\n",
    "            y_tr = y_.iloc[idx_tr]\n",
    "            y_va = y_.iloc[idx_va]\n",
    "            \n",
    "            if model_feature_ is not None:\n",
    "                X_tr_ = X_tr.copy()\n",
    "                X_va_ = X_va.copy()\n",
    "                X_ts_ = X_ts.copy()\n",
    "                if model_feature_[1] is not None:\n",
    "                    X_tr_ = model_feature_[1].fit_transform(X_tr, y_tr)\n",
    "                    X_va_ = model_feature_[1].transform(X_va)\n",
    "                    X_ts_ = model_feature_[1].transform(X_ts)\n",
    "                    \n",
    "                model_feature_[0].fit(X_tr_, y_tr)\n",
    "                \n",
    "                X_tr['fe_model'] = model_feature_[0].predict_proba(X_tr_)[:,1]\n",
    "                X_va['fe_model'] = model_feature_[0].predict_proba(X_va_)[:,1]\n",
    "                X_ts['fe_model'] = model_feature_[0].predict_proba(X_ts_)[:,1]\n",
    "            \n",
    "            if type_model==1:\n",
    "                model.fit(X_tr, y_tr)\n",
    "\n",
    "            if type_model==2:\n",
    "                pp_processor = m[4]\n",
    "                X_tr = pp_processor.fit_transform(X_tr, y_tr)\n",
    "                X_va = pp_processor.transform(X_va)\n",
    "                X_ts = pp_processor.transform(X_ts)\n",
    "                \n",
    "                model.fit(X_tr, y_tr,\n",
    "                          model__eval_set=[(X_va, y_va)],\n",
    "                          #model__eval_metric ='binary_logloss',\n",
    "                          #model__callbacks=[early_stopping_rounds=100]\n",
    "                          model__early_stopping_rounds=50,\n",
    "                          model__verbose              = False)\n",
    "            \n",
    "            if type_model==3:\n",
    "                model.fit(X_tr, y_tr,\n",
    "                          eval_set              = [(X_tr, y_tr), (X_va, y_va)],\n",
    "                          early_stopping_rounds = int(n_estimators*.3),\n",
    "                          verbose               = False)\n",
    "                                \n",
    "            if type_model==4:\n",
    "                pp_processor = m[4]\n",
    "                X_tr = pp_processor.fit_transform(X_tr, y_tr)\n",
    "                X_va = pp_processor.transform(X_va)\n",
    "                X_ts = pp_processor.transform(X_test_.copy())\n",
    "                model.fit(X_tr, y_tr,\n",
    "                          eval_set              = [(X_tr, y_tr), (X_va, y_va)],\n",
    "                          early_stopping_rounds = int(n_estimators*.3),\n",
    "                          verbose               = False)\n",
    "                \n",
    "                \n",
    "            if type_model==5:\n",
    "                pp_processor = m[4]\n",
    "                X_tr_ = pp_processor.fit_transform(X_tr, y_tr)\n",
    "                X_va_ = pp_processor.transform(X_va)\n",
    "                X_ts_ = pp_processor.transform(X_test_.copy())\n",
    "                if callbacks_ is not None:\n",
    "                    model.fit(X_tr, y_tr,\n",
    "                              model__eval_set              = [(X_tr_, y_tr), (X_va_, y_va)],\n",
    "                              model__early_stopping_rounds = int(n_estimators*.3),\n",
    "                              model__callbacks             = [callbacks_] ,\n",
    "                              model__verbose               = False)\n",
    "                else: \n",
    "                     model.fit(X_tr, y_tr,\n",
    "                              eval_set              = [(X_tr, y_tr), (X_va, y_va)],\n",
    "                              early_stopping_rounds = int(n_estimators*.3),\n",
    "                              verbose               = False)\n",
    "\n",
    "                    \n",
    "            y_va_pred  = model.predict_proba(X_va)[:,1]\n",
    "            y_tr_pred  = model.predict_proba(X_tr)[:,1]\n",
    "            y_ts_pred += model.predict_proba(X_ts)[:,1]/n_splits_ #kf.n_splits\n",
    "            \n",
    "            logloss    = log_loss(y_va, y_va_pred)\n",
    "            f1         = f1_score(y_va, (y_va_pred>threshold_).astype(int))\n",
    "            f1_tr      = f1_score(y_tr, (y_tr_pred>threshold_).astype(int))\n",
    "            roc_auc    = roc_auc_score(y_va, (y_va_pred>threshold_).astype(int))\n",
    "            \n",
    "            oof_train[idx_va, i] = y_va_pred\n",
    "            \n",
    "            time_fold_end = utility.diff(time_fold_start, datetime.now())\n",
    "            \n",
    "            if is_tunning_ is False:\n",
    "                msg = \"Fold {} => F1-score: {:2.5f} - F1-Train: {:2.5f} - AUC:{:2.5f} - L.Loss: {:2.5f} - {}\"\n",
    "                print(msg.format(fold+1, f1, f1_tr, roc_auc, logloss, time_fold_end))\n",
    "            \n",
    "            score_list_f1.append(f1)\n",
    "            score_list_f1_tr.append(f1_tr)\n",
    "            score_list.append(logloss)\n",
    "            \n",
    "            mdl_list_fit.append ([m[0], fold+1, model])\n",
    "\n",
    "        oof_test[:,i]     = y_ts_pred\n",
    "        score_mean        = np.mean(score_list).round(5)\n",
    "        score_mean_f1     = np.mean(score_list_f1).round(5)\n",
    "        score_mean_f1_tr  = np.mean(score_list_f1_tr).round(5)        \n",
    "        score_mean_f1_std = np.std(score_list_f1).round(5)\n",
    "                \n",
    "        if print_hist_: \n",
    "            plot_oof_histogram(m[0], oof_train)\n",
    "        \n",
    "        cols.append(m[0])\n",
    "        cols_score.append(m[0]+'_'+str(score_mean_f1))\n",
    "    \n",
    "        if create_sub_:\n",
    "            random = str(np.random.rand(1)[0]).replace('.','')\n",
    "            \n",
    "            if target_ is None: target_=target\n",
    "                \n",
    "            if is_tunning_ is False:\n",
    "                name_sub = name_sub+'_score_{:5f}_seed_{}_folds_{}_oof'.format(score_mean_f1, seed_, n_splits_)\n",
    "            else: \n",
    "                name_sub = name_sub+'_score_{:5f}_seed_{}_{}'.format(score_mean_f1, seed_, random)\n",
    "                \n",
    "            y_pred_test_sub = (oof_test[:,i]>threshold_).astype(int)\n",
    "            \n",
    "            y_pred_test_submission_=[]\n",
    "            for num in y_pred_test_sub: \n",
    "                y_pred_test_submission_.append('não' if num==0 else 'sim')\n",
    "            \n",
    "            save_data_model(model_                  = model, \n",
    "                            model_name_             = name_sub, \n",
    "                            path_                   = path_, \n",
    "                            y_pred_train_prob_      = oof_train[:, i], \n",
    "                            y_pred_test_prob_       = oof_test[:,i], \n",
    "                            y_pred_test_submission_ = y_pred_test_submission_, \n",
    "                            score_                  = score_mean_f1, \n",
    "                            seed_                   = seed_, \n",
    "                            level_                  = '1', \n",
    "                            target_                 = target_, \n",
    "                            cutoff_value_save_      = cutoff_value_save_, \n",
    "                            is_tunning_             = is_tunning_,\n",
    "                            gera_submission_        = True)  \n",
    "        \n",
    "        \n",
    "        score_mdl[i] = score_mean_f1\n",
    "        \n",
    "        time_end = utility.diff(time_start, datetime.now()) \n",
    "        \n",
    "        msg = '{}{}[Mean] => F1-score: {:.5f} (+-{}) - F1-Train: {:.5f} - L.Loss: {:.5f} - {}{}'\n",
    "        \n",
    "        if is_tunning_ is False:\n",
    "            print('-'*tag)\n",
    "            print(msg.format(Fore.GREEN, Style.BRIGHT, score_mean_f1, score_mean_f1_std, \n",
    "                             score_mean_f1_tr, score_mean, time_end, Style.RESET_ALL)) \n",
    "            print('='*tag)\n",
    "\n",
    "            if print_report_: \n",
    "                y_pred = (oof_train[:, i]>.5).astype(int)\n",
    "                print()\n",
    "                print(classification_report(y_, y_pred))\n",
    "                print(confusion_matrix(y_, y_pred))    \n",
    "\n",
    "        utility.free_gpu_cache()\n",
    "    \n",
    "    df_oof_tr    = pd.DataFrame(oof_train, columns=cols_score)\n",
    "    df_oof_ts    = pd.DataFrame(oof_test, columns=cols_score) \n",
    "    df_score_mdl = pd.DataFrame(score_mdl, columns= ['score'])\n",
    "    \n",
    "    df_score_mdl.index = cols\n",
    "    df_score_mdl       = df_score_mdl.sort_values(by='score',ascending=False)\n",
    "    \n",
    "    if is_tunning_ is False:        \n",
    "        if save_ensamble_:\n",
    "            jb.dump(df_oof_tr, path_ + 'Data/pkl/df_pred_tr.pkl.z')\n",
    "            jb.dump(df_oof_ts, path_ + 'Data/pkl/df_pred_ts.pkl.z');\n",
    "\n",
    "        print()\n",
    "    \n",
    "        display(df_score_mdl)\n",
    "    \n",
    "    return mdl_list_fit, df_oof_tr, df_oof_ts, df_score_mdl, score_mean_f1 "
   ]
  },
  {
   "cell_type": "markdown",
   "id": "a0df6edb",
   "metadata": {
    "id": "a0df6edb",
    "papermill": {
     "duration": 0.071953,
     "end_time": "2022-02-13T03:49:05.424578",
     "exception": false,
     "start_time": "2022-02-13T03:49:05.352625",
     "status": "completed"
    },
    "tags": []
   },
   "source": [
    "## 1.4. Criar estrutura de pasta \n"
   ]
  },
  {
   "cell_type": "code",
   "execution_count": 26,
   "id": "efb822f4",
   "metadata": {
    "ExecuteTime": {
     "end_time": "2022-12-27T01:40:04.096913Z",
     "start_time": "2022-12-27T01:40:04.084918Z"
    },
    "execution": {
     "iopub.execute_input": "2022-02-13T03:49:06.016730Z",
     "iopub.status.busy": "2022-02-13T03:49:06.015877Z",
     "iopub.status.idle": "2022-02-13T03:49:06.017698Z",
     "shell.execute_reply": "2022-02-13T03:49:06.018120Z",
     "shell.execute_reply.started": "2022-02-13T00:29:14.904585Z"
    },
    "executionInfo": {
     "elapsed": 3,
     "status": "ok",
     "timestamp": 1655826446858,
     "user": {
      "displayName": "Rogério Delfim",
      "userId": "04235763959036945343"
     },
     "user_tz": 180
    },
    "id": "efb822f4",
    "papermill": {
     "duration": 0.07893,
     "end_time": "2022-02-13T03:49:06.018259",
     "exception": false,
     "start_time": "2022-02-13T03:49:05.939329",
     "status": "completed"
    },
    "tags": []
   },
   "outputs": [],
   "source": [
    "path        = '/content/drive/MyDrive/Curso/Flai/10/' if COLAB else ''   \n",
    "path_data   = 'Data/'  \n",
    "target      = 'produto'\n",
    "path_automl = 'automl/'\n",
    "\n",
    "utility.create_fold(path)\n",
    "\n",
    "set_config(display=\"diagram\")"
   ]
  },
  {
   "cell_type": "markdown",
   "id": "af184251",
   "metadata": {
    "id": "af184251",
    "papermill": {
     "duration": 0.072314,
     "end_time": "2022-02-13T03:49:05.722879",
     "exception": false,
     "start_time": "2022-02-13T03:49:05.650565",
     "status": "completed"
    },
    "tags": []
   },
   "source": [
    "## 1.5. Dataset"
   ]
  },
  {
   "cell_type": "markdown",
   "id": "400e3e7f",
   "metadata": {
    "id": "400e3e7f",
    "papermill": {
     "duration": 0.072353,
     "end_time": "2022-02-13T03:49:05.867236",
     "exception": false,
     "start_time": "2022-02-13T03:49:05.794883",
     "status": "completed"
    },
    "tags": []
   },
   "source": [
    "### 1.5.2. Carregar Dados"
   ]
  },
  {
   "cell_type": "code",
   "execution_count": 27,
   "id": "3d9d2bd0",
   "metadata": {
    "ExecuteTime": {
     "end_time": "2022-12-27T01:40:07.120627Z",
     "start_time": "2022-12-27T01:40:07.093591Z"
    },
    "colab": {
     "base_uri": "https://localhost:8080/"
    },
    "execution": {
     "iopub.execute_input": "2022-02-13T03:49:06.168402Z",
     "iopub.status.busy": "2022-02-13T03:49:06.167889Z",
     "iopub.status.idle": "2022-02-13T03:49:41.715117Z",
     "shell.execute_reply": "2022-02-13T03:49:41.715570Z",
     "shell.execute_reply.started": "2022-02-13T00:29:20.745029Z"
    },
    "executionInfo": {
     "elapsed": 736,
     "status": "ok",
     "timestamp": 1655826451000,
     "user": {
      "displayName": "Rogério Delfim",
      "userId": "04235763959036945343"
     },
     "user_tz": 180
    },
    "id": "3d9d2bd0",
    "outputId": "da741efc-9531-464e-fc6a-df84ccc6ef20",
    "papermill": {
     "duration": 35.625187,
     "end_time": "2022-02-13T03:49:41.715722",
     "exception": false,
     "start_time": "2022-02-13T03:49:06.090535",
     "status": "completed"
    },
    "tags": []
   },
   "outputs": [
    {
     "data": {
      "text/plain": [
       "((5685, 16), (3300, 15), (3300, 1))"
      ]
     },
     "execution_count": 27,
     "metadata": {},
     "output_type": "execute_result"
    }
   ],
   "source": [
    "df1_train     = jb.load(path + path_data + 'pkl/df_train_fe.pkl.z')\n",
    "df1_test      = jb.load(path + path_data + '/pkl/df_test_fe.pkl.z')\n",
    "df_submission = pd.DataFrame({target: np.zeros(df1_test.shape[0])})\n",
    "df1_train.shape, df1_test.shape, df_submission.shape"
   ]
  },
  {
   "cell_type": "markdown",
   "id": "71cfe6b0",
   "metadata": {
    "id": "71cfe6b0",
    "papermill": {
     "duration": 0.072473,
     "end_time": "2022-02-13T03:49:41.860923",
     "exception": false,
     "start_time": "2022-02-13T03:49:41.788450",
     "status": "completed"
    },
    "tags": []
   },
   "source": [
    "### 1.5.3. Visualizar os dados "
   ]
  },
  {
   "cell_type": "code",
   "execution_count": 28,
   "id": "99710704",
   "metadata": {
    "ExecuteTime": {
     "end_time": "2022-12-27T01:40:08.312154Z",
     "start_time": "2022-12-27T01:40:08.286121Z"
    },
    "colab": {
     "base_uri": "https://localhost:8080/",
     "height": 206
    },
    "execution": {
     "iopub.execute_input": "2022-02-13T03:49:42.009378Z",
     "iopub.status.busy": "2022-02-13T03:49:42.008594Z",
     "iopub.status.idle": "2022-02-13T03:49:42.190181Z",
     "shell.execute_reply": "2022-02-13T03:49:42.190682Z",
     "shell.execute_reply.started": "2022-02-13T00:32:36.910466Z"
    },
    "executionInfo": {
     "elapsed": 248,
     "status": "ok",
     "timestamp": 1655826562577,
     "user": {
      "displayName": "Rogério Delfim",
      "userId": "04235763959036945343"
     },
     "user_tz": 180
    },
    "id": "99710704",
    "outputId": "96496413-ae56-412e-e33b-3d1343961dee",
    "papermill": {
     "duration": 0.257336,
     "end_time": "2022-02-13T03:49:42.190857",
     "exception": false,
     "start_time": "2022-02-13T03:49:41.933521",
     "status": "completed"
    },
    "tags": []
   },
   "outputs": [
    {
     "data": {
      "text/html": [
       "<div>\n",
       "<style scoped>\n",
       "    .dataframe tbody tr th:only-of-type {\n",
       "        vertical-align: middle;\n",
       "    }\n",
       "\n",
       "    .dataframe tbody tr th {\n",
       "        vertical-align: top;\n",
       "    }\n",
       "\n",
       "    .dataframe thead th {\n",
       "        text-align: right;\n",
       "    }\n",
       "</style>\n",
       "<table border=\"1\" class=\"dataframe\">\n",
       "  <thead>\n",
       "    <tr style=\"text-align: right;\">\n",
       "      <th></th>\n",
       "      <th>trabalho</th>\n",
       "      <th>estado civil</th>\n",
       "      <th>educação</th>\n",
       "      <th>atraso</th>\n",
       "      <th>casa</th>\n",
       "      <th>empréstimo</th>\n",
       "      <th>contato</th>\n",
       "      <th>mês</th>\n",
       "      <th>dia</th>\n",
       "      <th>duração</th>\n",
       "      <th>ncontatos</th>\n",
       "      <th>anterior</th>\n",
       "      <th>idade_group</th>\n",
       "      <th>fe_pca_0</th>\n",
       "      <th>fe_cluster_bgmm_pca</th>\n",
       "      <th>produto</th>\n",
       "    </tr>\n",
       "  </thead>\n",
       "  <tbody>\n",
       "    <tr>\n",
       "      <th>0</th>\n",
       "      <td>escritório</td>\n",
       "      <td>casado(a)</td>\n",
       "      <td>ensino médio</td>\n",
       "      <td>não</td>\n",
       "      <td>não</td>\n",
       "      <td>não</td>\n",
       "      <td>telefone fixo</td>\n",
       "      <td>junho</td>\n",
       "      <td>quinta-feira</td>\n",
       "      <td>média</td>\n",
       "      <td>1</td>\n",
       "      <td>nenhum</td>\n",
       "      <td>Acima_35_e_Menor_Igual_45</td>\n",
       "      <td>1.304234</td>\n",
       "      <td>1</td>\n",
       "      <td>0</td>\n",
       "    </tr>\n",
       "    <tr>\n",
       "      <th>1</th>\n",
       "      <td>trabalhador manual</td>\n",
       "      <td>casado(a)</td>\n",
       "      <td>básico</td>\n",
       "      <td>NaN</td>\n",
       "      <td>não</td>\n",
       "      <td>não</td>\n",
       "      <td>telefone móvel</td>\n",
       "      <td>julho</td>\n",
       "      <td>terça-feira</td>\n",
       "      <td>média</td>\n",
       "      <td>4</td>\n",
       "      <td>nenhum</td>\n",
       "      <td>Entre_29_35</td>\n",
       "      <td>2.471609</td>\n",
       "      <td>1</td>\n",
       "      <td>0</td>\n",
       "    </tr>\n",
       "    <tr>\n",
       "      <th>2</th>\n",
       "      <td>especialista</td>\n",
       "      <td>casado(a)</td>\n",
       "      <td>NaN</td>\n",
       "      <td>não</td>\n",
       "      <td>sim</td>\n",
       "      <td>não</td>\n",
       "      <td>telefone fixo</td>\n",
       "      <td>maio</td>\n",
       "      <td>segunda-feira</td>\n",
       "      <td>longa</td>\n",
       "      <td>1</td>\n",
       "      <td>nenhum</td>\n",
       "      <td>Acima_45_e_Menor_Igual_55</td>\n",
       "      <td>1.660721</td>\n",
       "      <td>1</td>\n",
       "      <td>0</td>\n",
       "    </tr>\n",
       "    <tr>\n",
       "      <th>3</th>\n",
       "      <td>especialista</td>\n",
       "      <td>solteiro(a)</td>\n",
       "      <td>NaN</td>\n",
       "      <td>não</td>\n",
       "      <td>não</td>\n",
       "      <td>não</td>\n",
       "      <td>telefone móvel</td>\n",
       "      <td>outubro</td>\n",
       "      <td>terça-feira</td>\n",
       "      <td>longa</td>\n",
       "      <td>1</td>\n",
       "      <td>nenhum</td>\n",
       "      <td>Menor_29</td>\n",
       "      <td>-0.945126</td>\n",
       "      <td>0</td>\n",
       "      <td>0</td>\n",
       "    </tr>\n",
       "    <tr>\n",
       "      <th>4</th>\n",
       "      <td>escritório</td>\n",
       "      <td>solteiro(a)</td>\n",
       "      <td>ensino técnico</td>\n",
       "      <td>não</td>\n",
       "      <td>NaN</td>\n",
       "      <td>NaN</td>\n",
       "      <td>telefone móvel</td>\n",
       "      <td>junho</td>\n",
       "      <td>quinta-feira</td>\n",
       "      <td>média</td>\n",
       "      <td>1</td>\n",
       "      <td>apenas um</td>\n",
       "      <td>Entre_29_35</td>\n",
       "      <td>-3.310529</td>\n",
       "      <td>0</td>\n",
       "      <td>1</td>\n",
       "    </tr>\n",
       "  </tbody>\n",
       "</table>\n",
       "</div>"
      ],
      "text/plain": [
       "             trabalho estado civil        educação atraso casa empréstimo  \\\n",
       "0          escritório    casado(a)    ensino médio    não  não        não   \n",
       "1  trabalhador manual    casado(a)          básico    NaN  não        não   \n",
       "2        especialista    casado(a)             NaN    não  sim        não   \n",
       "3        especialista  solteiro(a)             NaN    não  não        não   \n",
       "4          escritório  solteiro(a)  ensino técnico    não  NaN        NaN   \n",
       "\n",
       "          contato      mês            dia duração  ncontatos   anterior  \\\n",
       "0   telefone fixo    junho   quinta-feira   média          1     nenhum   \n",
       "1  telefone móvel    julho    terça-feira   média          4     nenhum   \n",
       "2   telefone fixo     maio  segunda-feira   longa          1     nenhum   \n",
       "3  telefone móvel  outubro    terça-feira   longa          1     nenhum   \n",
       "4  telefone móvel    junho   quinta-feira   média          1  apenas um   \n",
       "\n",
       "                 idade_group  fe_pca_0  fe_cluster_bgmm_pca  produto  \n",
       "0  Acima_35_e_Menor_Igual_45  1.304234                    1        0  \n",
       "1                Entre_29_35  2.471609                    1        0  \n",
       "2  Acima_45_e_Menor_Igual_55  1.660721                    1        0  \n",
       "3                   Menor_29 -0.945126                    0        0  \n",
       "4                Entre_29_35 -3.310529                    0        1  "
      ]
     },
     "execution_count": 28,
     "metadata": {},
     "output_type": "execute_result"
    }
   ],
   "source": [
    "df1_train.head()"
   ]
  },
  {
   "cell_type": "code",
   "execution_count": 29,
   "id": "ec5a9aa6",
   "metadata": {
    "ExecuteTime": {
     "end_time": "2022-12-27T01:40:08.732734Z",
     "start_time": "2022-12-27T01:40:08.710693Z"
    },
    "colab": {
     "base_uri": "https://localhost:8080/",
     "height": 206
    },
    "execution": {
     "iopub.execute_input": "2022-02-13T03:49:42.405284Z",
     "iopub.status.busy": "2022-02-13T03:49:42.395359Z",
     "iopub.status.idle": "2022-02-13T03:49:42.533525Z",
     "shell.execute_reply": "2022-02-13T03:49:42.533939Z",
     "shell.execute_reply.started": "2022-02-13T00:32:37.391051Z"
    },
    "executionInfo": {
     "elapsed": 5,
     "status": "ok",
     "timestamp": 1655826563444,
     "user": {
      "displayName": "Rogério Delfim",
      "userId": "04235763959036945343"
     },
     "user_tz": 180
    },
    "id": "ec5a9aa6",
    "outputId": "179af779-91cd-491a-b647-9e66e150caa5",
    "papermill": {
     "duration": 0.257532,
     "end_time": "2022-02-13T03:49:42.534077",
     "exception": false,
     "start_time": "2022-02-13T03:49:42.276545",
     "status": "completed"
    },
    "tags": []
   },
   "outputs": [
    {
     "data": {
      "text/html": [
       "<div>\n",
       "<style scoped>\n",
       "    .dataframe tbody tr th:only-of-type {\n",
       "        vertical-align: middle;\n",
       "    }\n",
       "\n",
       "    .dataframe tbody tr th {\n",
       "        vertical-align: top;\n",
       "    }\n",
       "\n",
       "    .dataframe thead th {\n",
       "        text-align: right;\n",
       "    }\n",
       "</style>\n",
       "<table border=\"1\" class=\"dataframe\">\n",
       "  <thead>\n",
       "    <tr style=\"text-align: right;\">\n",
       "      <th></th>\n",
       "      <th>trabalho</th>\n",
       "      <th>estado civil</th>\n",
       "      <th>educação</th>\n",
       "      <th>atraso</th>\n",
       "      <th>casa</th>\n",
       "      <th>empréstimo</th>\n",
       "      <th>contato</th>\n",
       "      <th>mês</th>\n",
       "      <th>dia</th>\n",
       "      <th>duração</th>\n",
       "      <th>ncontatos</th>\n",
       "      <th>anterior</th>\n",
       "      <th>idade_group</th>\n",
       "      <th>fe_pca_0</th>\n",
       "      <th>fe_cluster_bgmm_pca</th>\n",
       "    </tr>\n",
       "  </thead>\n",
       "  <tbody>\n",
       "    <tr>\n",
       "      <th>0</th>\n",
       "      <td>trabalhador manual</td>\n",
       "      <td>casado(a)</td>\n",
       "      <td>ensino médio</td>\n",
       "      <td>NaN</td>\n",
       "      <td>sim</td>\n",
       "      <td>não</td>\n",
       "      <td>telefone fixo</td>\n",
       "      <td>maio</td>\n",
       "      <td>sexta-feira</td>\n",
       "      <td>curta</td>\n",
       "      <td>1</td>\n",
       "      <td>nenhum</td>\n",
       "      <td>Entre_29_35</td>\n",
       "      <td>3.622882</td>\n",
       "      <td>2</td>\n",
       "    </tr>\n",
       "    <tr>\n",
       "      <th>1</th>\n",
       "      <td>escritório</td>\n",
       "      <td>casado(a)</td>\n",
       "      <td>graduação</td>\n",
       "      <td>NaN</td>\n",
       "      <td>sim</td>\n",
       "      <td>não</td>\n",
       "      <td>telefone fixo</td>\n",
       "      <td>maio</td>\n",
       "      <td>segunda-feira</td>\n",
       "      <td>média</td>\n",
       "      <td>1</td>\n",
       "      <td>nenhum</td>\n",
       "      <td>Acima_35_e_Menor_Igual_45</td>\n",
       "      <td>2.455987</td>\n",
       "      <td>1</td>\n",
       "    </tr>\n",
       "    <tr>\n",
       "      <th>2</th>\n",
       "      <td>terceirizados</td>\n",
       "      <td>solteiro(a)</td>\n",
       "      <td>ensino médio</td>\n",
       "      <td>NaN</td>\n",
       "      <td>sim</td>\n",
       "      <td>não</td>\n",
       "      <td>telefone móvel</td>\n",
       "      <td>novembro</td>\n",
       "      <td>quinta-feira</td>\n",
       "      <td>longa</td>\n",
       "      <td>1</td>\n",
       "      <td>nenhum</td>\n",
       "      <td>Acima_35_e_Menor_Igual_45</td>\n",
       "      <td>0.896218</td>\n",
       "      <td>1</td>\n",
       "    </tr>\n",
       "    <tr>\n",
       "      <th>3</th>\n",
       "      <td>empreendedor</td>\n",
       "      <td>casado(a)</td>\n",
       "      <td>básico</td>\n",
       "      <td>NaN</td>\n",
       "      <td>sim</td>\n",
       "      <td>sim</td>\n",
       "      <td>telefone fixo</td>\n",
       "      <td>novembro</td>\n",
       "      <td>segunda-feira</td>\n",
       "      <td>média</td>\n",
       "      <td>1</td>\n",
       "      <td>nenhum</td>\n",
       "      <td>Entre_29_35</td>\n",
       "      <td>3.160864</td>\n",
       "      <td>2</td>\n",
       "    </tr>\n",
       "    <tr>\n",
       "      <th>4</th>\n",
       "      <td>trabalhador manual</td>\n",
       "      <td>casado(a)</td>\n",
       "      <td>básico</td>\n",
       "      <td>não</td>\n",
       "      <td>sim</td>\n",
       "      <td>não</td>\n",
       "      <td>telefone móvel</td>\n",
       "      <td>julho</td>\n",
       "      <td>quinta-feira</td>\n",
       "      <td>curta</td>\n",
       "      <td>14</td>\n",
       "      <td>nenhum</td>\n",
       "      <td>Entre_29_35</td>\n",
       "      <td>0.396104</td>\n",
       "      <td>1</td>\n",
       "    </tr>\n",
       "  </tbody>\n",
       "</table>\n",
       "</div>"
      ],
      "text/plain": [
       "             trabalho estado civil      educação atraso casa empréstimo  \\\n",
       "0  trabalhador manual    casado(a)  ensino médio    NaN  sim        não   \n",
       "1          escritório    casado(a)     graduação    NaN  sim        não   \n",
       "2       terceirizados  solteiro(a)  ensino médio    NaN  sim        não   \n",
       "3        empreendedor    casado(a)        básico    NaN  sim        sim   \n",
       "4  trabalhador manual    casado(a)        básico    não  sim        não   \n",
       "\n",
       "          contato       mês            dia duração  ncontatos anterior  \\\n",
       "0   telefone fixo      maio    sexta-feira   curta          1   nenhum   \n",
       "1   telefone fixo      maio  segunda-feira   média          1   nenhum   \n",
       "2  telefone móvel  novembro   quinta-feira   longa          1   nenhum   \n",
       "3   telefone fixo  novembro  segunda-feira   média          1   nenhum   \n",
       "4  telefone móvel     julho   quinta-feira   curta         14   nenhum   \n",
       "\n",
       "                 idade_group  fe_pca_0  fe_cluster_bgmm_pca  \n",
       "0                Entre_29_35  3.622882                    2  \n",
       "1  Acima_35_e_Menor_Igual_45  2.455987                    1  \n",
       "2  Acima_35_e_Menor_Igual_45  0.896218                    1  \n",
       "3                Entre_29_35  3.160864                    2  \n",
       "4                Entre_29_35  0.396104                    1  "
      ]
     },
     "execution_count": 29,
     "metadata": {},
     "output_type": "execute_result"
    }
   ],
   "source": [
    "df1_test.head()"
   ]
  },
  {
   "cell_type": "code",
   "execution_count": 30,
   "id": "90a18f25",
   "metadata": {
    "ExecuteTime": {
     "end_time": "2022-12-27T01:40:09.124984Z",
     "start_time": "2022-12-27T01:40:09.102996Z"
    },
    "colab": {
     "base_uri": "https://localhost:8080/"
    },
    "executionInfo": {
     "elapsed": 6,
     "status": "ok",
     "timestamp": 1655826564890,
     "user": {
      "displayName": "Rogério Delfim",
      "userId": "04235763959036945343"
     },
     "user_tz": 180
    },
    "id": "90a18f25",
    "outputId": "0a102ced-c806-44cb-a7f0-d019717c5f91"
   },
   "outputs": [
    {
     "name": "stdout",
     "output_type": "stream",
     "text": [
      "<class 'pandas.core.frame.DataFrame'>\n",
      "Int64Index: 5685 entries, 0 to 5699\n",
      "Data columns (total 16 columns):\n",
      " #   Column               Non-Null Count  Dtype  \n",
      "---  ------               --------------  -----  \n",
      " 0   trabalho             5463 non-null   object \n",
      " 1   estado civil         5672 non-null   object \n",
      " 2   educação             5443 non-null   object \n",
      " 3   atraso               4662 non-null   object \n",
      " 4   casa                 5547 non-null   object \n",
      " 5   empréstimo           5547 non-null   object \n",
      " 6   contato              5685 non-null   object \n",
      " 7   mês                  5685 non-null   object \n",
      " 8   dia                  5685 non-null   object \n",
      " 9   duração              5685 non-null   object \n",
      " 10  ncontatos            5685 non-null   int64  \n",
      " 11  anterior             5685 non-null   object \n",
      " 12  idade_group          5685 non-null   object \n",
      " 13  fe_pca_0             5685 non-null   float64\n",
      " 14  fe_cluster_bgmm_pca  5685 non-null   int64  \n",
      " 15  produto              5685 non-null   int64  \n",
      "dtypes: float64(1), int64(3), object(12)\n",
      "memory usage: 755.0+ KB\n"
     ]
    }
   ],
   "source": [
    "df1_train.info()"
   ]
  },
  {
   "cell_type": "markdown",
   "id": "6d549a77",
   "metadata": {
    "id": "6d549a77",
    "papermill": {
     "duration": 0.079208,
     "end_time": "2022-02-13T03:49:42.692351",
     "exception": false,
     "start_time": "2022-02-13T03:49:42.613143",
     "status": "completed"
    },
    "tags": []
   },
   "source": [
    "<div style=\"color:white;border-radius:8px;background-color:#a7d5ed\">    \n",
    "    <h1 style=\"padding:12px;color:black;\"> 2. PROCESSAMENTO </h1>    \n",
    "</div>"
   ]
  },
  {
   "cell_type": "code",
   "execution_count": 31,
   "id": "7643ba74",
   "metadata": {
    "ExecuteTime": {
     "end_time": "2022-12-27T01:40:09.974783Z",
     "start_time": "2022-12-27T01:40:09.948763Z"
    },
    "colab": {
     "base_uri": "https://localhost:8080/"
    },
    "execution": {
     "iopub.execute_input": "2022-02-13T03:49:42.853256Z",
     "iopub.status.busy": "2022-02-13T03:49:42.852120Z",
     "iopub.status.idle": "2022-02-13T03:49:43.099052Z",
     "shell.execute_reply": "2022-02-13T03:49:43.099642Z",
     "shell.execute_reply.started": "2022-02-13T00:32:38.686356Z"
    },
    "executionInfo": {
     "elapsed": 3,
     "status": "ok",
     "timestamp": 1655826565346,
     "user": {
      "displayName": "Rogério Delfim",
      "userId": "04235763959036945343"
     },
     "user_tz": 180
    },
    "id": "7643ba74",
    "outputId": "390fba40-8495-4a1a-fcef-53396905b09c",
    "papermill": {
     "duration": 0.329418,
     "end_time": "2022-02-13T03:49:43.099806",
     "exception": false,
     "start_time": "2022-02-13T03:49:42.770388",
     "status": "completed"
    },
    "tags": []
   },
   "outputs": [
    {
     "data": {
      "text/html": [
       "<div>\n",
       "<style scoped>\n",
       "    .dataframe tbody tr th:only-of-type {\n",
       "        vertical-align: middle;\n",
       "    }\n",
       "\n",
       "    .dataframe tbody tr th {\n",
       "        vertical-align: top;\n",
       "    }\n",
       "\n",
       "    .dataframe thead th {\n",
       "        text-align: right;\n",
       "    }\n",
       "</style>\n",
       "<table border=\"1\" class=\"dataframe\">\n",
       "  <thead>\n",
       "    <tr style=\"text-align: right;\">\n",
       "      <th></th>\n",
       "      <th>trabalho</th>\n",
       "      <th>estado civil</th>\n",
       "      <th>educação</th>\n",
       "      <th>atraso</th>\n",
       "      <th>casa</th>\n",
       "      <th>empréstimo</th>\n",
       "      <th>contato</th>\n",
       "      <th>mês</th>\n",
       "      <th>dia</th>\n",
       "      <th>duração</th>\n",
       "      <th>ncontatos</th>\n",
       "      <th>anterior</th>\n",
       "      <th>idade_group</th>\n",
       "      <th>fe_pca_0</th>\n",
       "      <th>fe_cluster</th>\n",
       "    </tr>\n",
       "  </thead>\n",
       "  <tbody>\n",
       "    <tr>\n",
       "      <th>0</th>\n",
       "      <td>trabalhador manual</td>\n",
       "      <td>casado(a)</td>\n",
       "      <td>ensino médio</td>\n",
       "      <td>NaN</td>\n",
       "      <td>sim</td>\n",
       "      <td>não</td>\n",
       "      <td>telefone fixo</td>\n",
       "      <td>maio</td>\n",
       "      <td>sexta-feira</td>\n",
       "      <td>curta</td>\n",
       "      <td>1</td>\n",
       "      <td>nenhum</td>\n",
       "      <td>Entre_29_35</td>\n",
       "      <td>3.622882</td>\n",
       "      <td>cluster_3</td>\n",
       "    </tr>\n",
       "    <tr>\n",
       "      <th>1</th>\n",
       "      <td>escritório</td>\n",
       "      <td>casado(a)</td>\n",
       "      <td>graduação</td>\n",
       "      <td>NaN</td>\n",
       "      <td>sim</td>\n",
       "      <td>não</td>\n",
       "      <td>telefone fixo</td>\n",
       "      <td>maio</td>\n",
       "      <td>segunda-feira</td>\n",
       "      <td>média</td>\n",
       "      <td>1</td>\n",
       "      <td>nenhum</td>\n",
       "      <td>Acima_35_e_Menor_Igual_45</td>\n",
       "      <td>2.455987</td>\n",
       "      <td>cluster_2</td>\n",
       "    </tr>\n",
       "    <tr>\n",
       "      <th>2</th>\n",
       "      <td>terceirizados</td>\n",
       "      <td>solteiro(a)</td>\n",
       "      <td>ensino médio</td>\n",
       "      <td>NaN</td>\n",
       "      <td>sim</td>\n",
       "      <td>não</td>\n",
       "      <td>telefone móvel</td>\n",
       "      <td>novembro</td>\n",
       "      <td>quinta-feira</td>\n",
       "      <td>longa</td>\n",
       "      <td>1</td>\n",
       "      <td>nenhum</td>\n",
       "      <td>Acima_35_e_Menor_Igual_45</td>\n",
       "      <td>0.896218</td>\n",
       "      <td>cluster_2</td>\n",
       "    </tr>\n",
       "    <tr>\n",
       "      <th>3</th>\n",
       "      <td>empreendedor</td>\n",
       "      <td>casado(a)</td>\n",
       "      <td>básico</td>\n",
       "      <td>NaN</td>\n",
       "      <td>sim</td>\n",
       "      <td>sim</td>\n",
       "      <td>telefone fixo</td>\n",
       "      <td>novembro</td>\n",
       "      <td>segunda-feira</td>\n",
       "      <td>média</td>\n",
       "      <td>1</td>\n",
       "      <td>nenhum</td>\n",
       "      <td>Entre_29_35</td>\n",
       "      <td>3.160864</td>\n",
       "      <td>cluster_3</td>\n",
       "    </tr>\n",
       "    <tr>\n",
       "      <th>4</th>\n",
       "      <td>trabalhador manual</td>\n",
       "      <td>casado(a)</td>\n",
       "      <td>básico</td>\n",
       "      <td>não</td>\n",
       "      <td>sim</td>\n",
       "      <td>não</td>\n",
       "      <td>telefone móvel</td>\n",
       "      <td>julho</td>\n",
       "      <td>quinta-feira</td>\n",
       "      <td>curta</td>\n",
       "      <td>14</td>\n",
       "      <td>nenhum</td>\n",
       "      <td>Entre_29_35</td>\n",
       "      <td>0.396104</td>\n",
       "      <td>cluster_2</td>\n",
       "    </tr>\n",
       "  </tbody>\n",
       "</table>\n",
       "</div>"
      ],
      "text/plain": [
       "             trabalho estado civil      educação atraso casa empréstimo  \\\n",
       "0  trabalhador manual    casado(a)  ensino médio    NaN  sim        não   \n",
       "1          escritório    casado(a)     graduação    NaN  sim        não   \n",
       "2       terceirizados  solteiro(a)  ensino médio    NaN  sim        não   \n",
       "3        empreendedor    casado(a)        básico    NaN  sim        sim   \n",
       "4  trabalhador manual    casado(a)        básico    não  sim        não   \n",
       "\n",
       "          contato       mês            dia duração  ncontatos anterior  \\\n",
       "0   telefone fixo      maio    sexta-feira   curta          1   nenhum   \n",
       "1   telefone fixo      maio  segunda-feira   média          1   nenhum   \n",
       "2  telefone móvel  novembro   quinta-feira   longa          1   nenhum   \n",
       "3   telefone fixo  novembro  segunda-feira   média          1   nenhum   \n",
       "4  telefone móvel     julho   quinta-feira   curta         14   nenhum   \n",
       "\n",
       "                 idade_group  fe_pca_0 fe_cluster  \n",
       "0                Entre_29_35  3.622882  cluster_3  \n",
       "1  Acima_35_e_Menor_Igual_45  2.455987  cluster_2  \n",
       "2  Acima_35_e_Menor_Igual_45  0.896218  cluster_2  \n",
       "3                Entre_29_35  3.160864  cluster_3  \n",
       "4                Entre_29_35  0.396104  cluster_2  "
      ]
     },
     "execution_count": 31,
     "metadata": {},
     "output_type": "execute_result"
    }
   ],
   "source": [
    "df2_train = df1_train.copy()\n",
    "df2_test  = df1_test.copy()\n",
    "\n",
    "map_cluster = {0:'cluster_1', 1:'cluster_2', 2:'cluster_3', 3:'cluster_4'}\n",
    "df2_train['fe_cluster_bgmm_pca'] = df2_train['fe_cluster_bgmm_pca'].map(map_cluster)\n",
    "df2_test['fe_cluster_bgmm_pca']  = df2_test['fe_cluster_bgmm_pca'].map(map_cluster)\n",
    "\n",
    "df2_train.rename(columns={'fe_cluster_bgmm_pca': 'fe_cluster'},inplace=True)\n",
    "df2_test.rename(columns={'fe_cluster_bgmm_pca': 'fe_cluster'}, inplace=True)\n",
    "\n",
    "df2_test.head()"
   ]
  },
  {
   "cell_type": "code",
   "execution_count": 32,
   "id": "7a453749",
   "metadata": {
    "ExecuteTime": {
     "end_time": "2022-12-27T01:40:10.399847Z",
     "start_time": "2022-12-27T01:40:10.380805Z"
    }
   },
   "outputs": [
    {
     "data": {
      "text/html": [
       "<div>\n",
       "<style scoped>\n",
       "    .dataframe tbody tr th:only-of-type {\n",
       "        vertical-align: middle;\n",
       "    }\n",
       "\n",
       "    .dataframe tbody tr th {\n",
       "        vertical-align: top;\n",
       "    }\n",
       "\n",
       "    .dataframe thead th {\n",
       "        text-align: right;\n",
       "    }\n",
       "</style>\n",
       "<table border=\"1\" class=\"dataframe\">\n",
       "  <thead>\n",
       "    <tr style=\"text-align: right;\">\n",
       "      <th></th>\n",
       "      <th>trabalho</th>\n",
       "      <th>estado civil</th>\n",
       "      <th>educação</th>\n",
       "      <th>atraso</th>\n",
       "      <th>casa</th>\n",
       "      <th>empréstimo</th>\n",
       "      <th>contato</th>\n",
       "      <th>mês</th>\n",
       "      <th>dia</th>\n",
       "      <th>duração</th>\n",
       "      <th>ncontatos</th>\n",
       "      <th>anterior</th>\n",
       "      <th>idade_group</th>\n",
       "      <th>fe_pca_0</th>\n",
       "      <th>fe_cluster</th>\n",
       "      <th>produto</th>\n",
       "    </tr>\n",
       "  </thead>\n",
       "  <tbody>\n",
       "    <tr>\n",
       "      <th>0</th>\n",
       "      <td>escritório</td>\n",
       "      <td>casado(a)</td>\n",
       "      <td>ensino médio</td>\n",
       "      <td>não</td>\n",
       "      <td>não</td>\n",
       "      <td>não</td>\n",
       "      <td>telefone fixo</td>\n",
       "      <td>junho</td>\n",
       "      <td>quinta-feira</td>\n",
       "      <td>média</td>\n",
       "      <td>1</td>\n",
       "      <td>nenhum</td>\n",
       "      <td>Acima_35_e_Menor_Igual_45</td>\n",
       "      <td>1.304234</td>\n",
       "      <td>cluster_2</td>\n",
       "      <td>0</td>\n",
       "    </tr>\n",
       "    <tr>\n",
       "      <th>1</th>\n",
       "      <td>trabalhador manual</td>\n",
       "      <td>casado(a)</td>\n",
       "      <td>básico</td>\n",
       "      <td>NaN</td>\n",
       "      <td>não</td>\n",
       "      <td>não</td>\n",
       "      <td>telefone móvel</td>\n",
       "      <td>julho</td>\n",
       "      <td>terça-feira</td>\n",
       "      <td>média</td>\n",
       "      <td>4</td>\n",
       "      <td>nenhum</td>\n",
       "      <td>Entre_29_35</td>\n",
       "      <td>2.471609</td>\n",
       "      <td>cluster_2</td>\n",
       "      <td>0</td>\n",
       "    </tr>\n",
       "    <tr>\n",
       "      <th>2</th>\n",
       "      <td>especialista</td>\n",
       "      <td>casado(a)</td>\n",
       "      <td>NaN</td>\n",
       "      <td>não</td>\n",
       "      <td>sim</td>\n",
       "      <td>não</td>\n",
       "      <td>telefone fixo</td>\n",
       "      <td>maio</td>\n",
       "      <td>segunda-feira</td>\n",
       "      <td>longa</td>\n",
       "      <td>1</td>\n",
       "      <td>nenhum</td>\n",
       "      <td>Acima_45_e_Menor_Igual_55</td>\n",
       "      <td>1.660721</td>\n",
       "      <td>cluster_2</td>\n",
       "      <td>0</td>\n",
       "    </tr>\n",
       "    <tr>\n",
       "      <th>3</th>\n",
       "      <td>especialista</td>\n",
       "      <td>solteiro(a)</td>\n",
       "      <td>NaN</td>\n",
       "      <td>não</td>\n",
       "      <td>não</td>\n",
       "      <td>não</td>\n",
       "      <td>telefone móvel</td>\n",
       "      <td>outubro</td>\n",
       "      <td>terça-feira</td>\n",
       "      <td>longa</td>\n",
       "      <td>1</td>\n",
       "      <td>nenhum</td>\n",
       "      <td>Menor_29</td>\n",
       "      <td>-0.945126</td>\n",
       "      <td>cluster_1</td>\n",
       "      <td>0</td>\n",
       "    </tr>\n",
       "    <tr>\n",
       "      <th>4</th>\n",
       "      <td>escritório</td>\n",
       "      <td>solteiro(a)</td>\n",
       "      <td>ensino técnico</td>\n",
       "      <td>não</td>\n",
       "      <td>NaN</td>\n",
       "      <td>NaN</td>\n",
       "      <td>telefone móvel</td>\n",
       "      <td>junho</td>\n",
       "      <td>quinta-feira</td>\n",
       "      <td>média</td>\n",
       "      <td>1</td>\n",
       "      <td>apenas um</td>\n",
       "      <td>Entre_29_35</td>\n",
       "      <td>-3.310529</td>\n",
       "      <td>cluster_1</td>\n",
       "      <td>1</td>\n",
       "    </tr>\n",
       "  </tbody>\n",
       "</table>\n",
       "</div>"
      ],
      "text/plain": [
       "             trabalho estado civil        educação atraso casa empréstimo  \\\n",
       "0          escritório    casado(a)    ensino médio    não  não        não   \n",
       "1  trabalhador manual    casado(a)          básico    NaN  não        não   \n",
       "2        especialista    casado(a)             NaN    não  sim        não   \n",
       "3        especialista  solteiro(a)             NaN    não  não        não   \n",
       "4          escritório  solteiro(a)  ensino técnico    não  NaN        NaN   \n",
       "\n",
       "          contato      mês            dia duração  ncontatos   anterior  \\\n",
       "0   telefone fixo    junho   quinta-feira   média          1     nenhum   \n",
       "1  telefone móvel    julho    terça-feira   média          4     nenhum   \n",
       "2   telefone fixo     maio  segunda-feira   longa          1     nenhum   \n",
       "3  telefone móvel  outubro    terça-feira   longa          1     nenhum   \n",
       "4  telefone móvel    junho   quinta-feira   média          1  apenas um   \n",
       "\n",
       "                 idade_group  fe_pca_0 fe_cluster  produto  \n",
       "0  Acima_35_e_Menor_Igual_45  1.304234  cluster_2        0  \n",
       "1                Entre_29_35  2.471609  cluster_2        0  \n",
       "2  Acima_45_e_Menor_Igual_55  1.660721  cluster_2        0  \n",
       "3                   Menor_29 -0.945126  cluster_1        0  \n",
       "4                Entre_29_35 -3.310529  cluster_1        1  "
      ]
     },
     "execution_count": 32,
     "metadata": {},
     "output_type": "execute_result"
    }
   ],
   "source": [
    "df2_train.head()"
   ]
  },
  {
   "cell_type": "markdown",
   "id": "209943d8",
   "metadata": {
    "id": "209943d8",
    "papermill": {
     "duration": 0.078107,
     "end_time": "2022-02-13T03:49:43.257059",
     "exception": false,
     "start_time": "2022-02-13T03:49:43.178952",
     "status": "completed"
    },
    "tags": []
   },
   "source": [
    "## 2.1. Dados duplicados "
   ]
  },
  {
   "cell_type": "code",
   "execution_count": 33,
   "id": "6f13d67c",
   "metadata": {
    "ExecuteTime": {
     "end_time": "2022-12-27T01:40:11.228674Z",
     "start_time": "2022-12-27T01:40:11.205686Z"
    }
   },
   "outputs": [
    {
     "data": {
      "text/plain": [
       "(60, 16)"
      ]
     },
     "execution_count": 33,
     "metadata": {},
     "output_type": "execute_result"
    }
   ],
   "source": [
    "df2_train[df2_train.duplicated()].shape"
   ]
  },
  {
   "cell_type": "code",
   "execution_count": 34,
   "id": "9e41f6c6",
   "metadata": {
    "ExecuteTime": {
     "end_time": "2022-12-27T01:40:11.664149Z",
     "start_time": "2022-12-27T01:40:11.645108Z"
    }
   },
   "outputs": [
    {
     "data": {
      "text/html": [
       "<div>\n",
       "<style scoped>\n",
       "    .dataframe tbody tr th:only-of-type {\n",
       "        vertical-align: middle;\n",
       "    }\n",
       "\n",
       "    .dataframe tbody tr th {\n",
       "        vertical-align: top;\n",
       "    }\n",
       "\n",
       "    .dataframe thead th {\n",
       "        text-align: right;\n",
       "    }\n",
       "</style>\n",
       "<table border=\"1\" class=\"dataframe\">\n",
       "  <thead>\n",
       "    <tr style=\"text-align: right;\">\n",
       "      <th></th>\n",
       "      <th>trabalho</th>\n",
       "      <th>estado civil</th>\n",
       "      <th>educação</th>\n",
       "      <th>atraso</th>\n",
       "      <th>casa</th>\n",
       "      <th>empréstimo</th>\n",
       "      <th>contato</th>\n",
       "      <th>mês</th>\n",
       "      <th>dia</th>\n",
       "      <th>duração</th>\n",
       "      <th>ncontatos</th>\n",
       "      <th>anterior</th>\n",
       "      <th>idade_group</th>\n",
       "      <th>fe_pca_0</th>\n",
       "      <th>fe_cluster</th>\n",
       "      <th>produto</th>\n",
       "    </tr>\n",
       "  </thead>\n",
       "  <tbody>\n",
       "    <tr>\n",
       "      <th>5448</th>\n",
       "      <td>trabalhador manual</td>\n",
       "      <td>solteiro(a)</td>\n",
       "      <td>ensino médio</td>\n",
       "      <td>não</td>\n",
       "      <td>sim</td>\n",
       "      <td>não</td>\n",
       "      <td>telefone móvel</td>\n",
       "      <td>março</td>\n",
       "      <td>quarta-feira</td>\n",
       "      <td>média</td>\n",
       "      <td>4</td>\n",
       "      <td>apenas um</td>\n",
       "      <td>Entre_29_35</td>\n",
       "      <td>-2.326887</td>\n",
       "      <td>cluster_1</td>\n",
       "      <td>1</td>\n",
       "    </tr>\n",
       "    <tr>\n",
       "      <th>1060</th>\n",
       "      <td>trabalhador manual</td>\n",
       "      <td>casado(a)</td>\n",
       "      <td>ensino médio</td>\n",
       "      <td>NaN</td>\n",
       "      <td>NaN</td>\n",
       "      <td>NaN</td>\n",
       "      <td>telefone fixo</td>\n",
       "      <td>maio</td>\n",
       "      <td>quarta-feira</td>\n",
       "      <td>longa</td>\n",
       "      <td>3</td>\n",
       "      <td>nenhum</td>\n",
       "      <td>Acima_35_e_Menor_Igual_45</td>\n",
       "      <td>4.087146</td>\n",
       "      <td>cluster_3</td>\n",
       "      <td>0</td>\n",
       "    </tr>\n",
       "  </tbody>\n",
       "</table>\n",
       "</div>"
      ],
      "text/plain": [
       "                trabalho estado civil      educação atraso casa empréstimo  \\\n",
       "5448  trabalhador manual  solteiro(a)  ensino médio    não  sim        não   \n",
       "1060  trabalhador manual    casado(a)  ensino médio    NaN  NaN        NaN   \n",
       "\n",
       "             contato    mês           dia duração  ncontatos   anterior  \\\n",
       "5448  telefone móvel  março  quarta-feira   média          4  apenas um   \n",
       "1060   telefone fixo   maio  quarta-feira   longa          3     nenhum   \n",
       "\n",
       "                    idade_group  fe_pca_0 fe_cluster  produto  \n",
       "5448                Entre_29_35 -2.326887  cluster_1        1  \n",
       "1060  Acima_35_e_Menor_Igual_45  4.087146  cluster_3        0  "
      ]
     },
     "execution_count": 34,
     "metadata": {},
     "output_type": "execute_result"
    }
   ],
   "source": [
    "df2_train.iloc[[5434, 1059]]"
   ]
  },
  {
   "cell_type": "code",
   "execution_count": 35,
   "id": "636bc3cc",
   "metadata": {
    "ExecuteTime": {
     "end_time": "2022-12-27T01:40:12.102559Z",
     "start_time": "2022-12-27T01:40:12.095522Z"
    }
   },
   "outputs": [
    {
     "data": {
      "text/plain": [
       "(5685, 16)"
      ]
     },
     "execution_count": 35,
     "metadata": {},
     "output_type": "execute_result"
    }
   ],
   "source": [
    "df2_train.shape"
   ]
  },
  {
   "cell_type": "code",
   "execution_count": 36,
   "id": "57c3dfb7",
   "metadata": {
    "ExecuteTime": {
     "end_time": "2022-12-27T01:40:12.913886Z",
     "start_time": "2022-12-27T01:40:12.686043Z"
    }
   },
   "outputs": [
    {
     "data": {
      "image/png": "[encoded data removed]",
      "text/plain": [
       "<Figure size 500x400 with 1 Axes>"
      ]
     },
     "metadata": {},
     "output_type": "display_data"
    }
   ],
   "source": [
    "plt.figure(figsize=(5,4))\n",
    "\n",
    "_ = df2_train.copy() \n",
    "\n",
    "sns.kdeplot(_[_[target]==0]['fe_pca_0'],color='blue', alpha=0.5, label='0', shade=True)\n",
    "sns.kdeplot(_[_[target]==1]['fe_pca_0'],color='teal', alpha=0.5, label='1', shade=True)  \n",
    "#plt.xlabel(feature, fontsize=12)\n",
    "plt.legend()\n",
    "\n",
    "plt.suptitle('Variável PCA ', fontsize=16);"
   ]
  },
  {
   "cell_type": "code",
   "execution_count": 37,
   "id": "0d432d8a",
   "metadata": {
    "ExecuteTime": {
     "end_time": "2022-12-27T01:40:13.740657Z",
     "start_time": "2022-12-27T01:40:13.725670Z"
    },
    "code_folding": [
     0
    ]
   },
   "outputs": [],
   "source": [
    "def grup_pca (df_): \n",
    "    df_['fe_pca_0_group']= np.inf\n",
    "    df_['fe_pca_0_group'][(df_['fe_pca_0']<-2) ]  = 'gr_1'\n",
    "    df_['fe_pca_0_group'][(df_['fe_pca_0']>=-2) & (df_['fe_pca_0']<=0)]= 'gr_2'\n",
    "    df_['fe_pca_0_group'][(df_['fe_pca_0']>0) & (df_['fe_pca_0']<2)]  = 'gr_3'\n",
    "    df_['fe_pca_0_group'][df_['fe_pca_0']>2]  = 'gr_4'\n",
    "    df_.drop('fe_pca_0', axis=1, inplace=True)\n",
    "    return df_"
   ]
  },
  {
   "cell_type": "code",
   "execution_count": 38,
   "id": "d84eb417",
   "metadata": {
    "ExecuteTime": {
     "end_time": "2022-12-27T01:40:14.227343Z",
     "start_time": "2022-12-27T01:40:14.189331Z"
    },
    "code_folding": [
     0
    ]
   },
   "outputs": [],
   "source": [
    "class AnalysisWoe():\n",
    "    \n",
    "    import numpy as np\n",
    "    \n",
    "    def __init__(self): \n",
    "        pass\n",
    "\n",
    "    def iv_woe(self, data, target, bins=10, show_woe=False):\n",
    "\n",
    "        newDF,woeDF = pd.DataFrame(), pd.DataFrame()\n",
    "\n",
    "        cols = data.columns\n",
    "\n",
    "        print()\n",
    "\n",
    "\n",
    "        # Execute WOE e IV em todas as variáveis independentes\n",
    "        for ivars in cols[~cols.isin([target])]:\n",
    "\n",
    "            if (data[ivars].dtype.kind in 'bifc') and (len(np.unique(data[ivars]))>10):\n",
    "                binned_x = pd.qcut(data[ivars], bins,  duplicates='drop')\n",
    "                d0 = pd.DataFrame({'x': binned_x, 'y': data[target]})\n",
    "            else:\n",
    "                d0 = pd.DataFrame({'x': data[ivars], 'y': data[target]})\n",
    "\n",
    "\n",
    "            # Calcule o número de eventos em cada grupo (bin)\n",
    "            d = d0.groupby(\"x\", as_index=False).agg({\"y\": [\"count\", \"sum\"]})\n",
    "            d.columns = ['Cutoff', 'N', 'Events']\n",
    "\n",
    "            # Calcule % de eventos em cada grupo.\n",
    "            d['% of Events'] = np.maximum(d['Events'], 0.5) / d['Events'].sum()\n",
    "\n",
    "            # alcule os não eventos em cada grupo.\n",
    "            d['Non-Events'] = d['N'] - d['Events']\n",
    "            # Calculate % of non events in each group.\n",
    "            d['% of Non-Events'] = np.maximum(d['Non-Events'], 0.5) / d['Non-Events'].sum()\n",
    "\n",
    "            # Calcule WOE tomando o log natural da divisão de % de não eventos e % de eventos\n",
    "            d['WoE'] = np.log(d['% of Events']/d['% of Non-Events'])\n",
    "            d['IV'] = d['WoE'] * (d['% of Events'] - d['% of Non-Events'])\n",
    "            d.insert(loc=0, column='Variable', value=ivars)\n",
    "\n",
    "            print(\"Valor da informação de \" + ivars + \" é \" + str(round(d['IV'].sum(),6)))\n",
    "\n",
    "            temp =pd.DataFrame({\"Variable\" : [ivars], \"IV\" : [d['IV'].sum()]}, columns = [\"Variable\", \"IV\"])\n",
    "            newDF=pd.concat([newDF,temp], axis=0)\n",
    "            woeDF=pd.concat([woeDF,d], axis=0)\n",
    "\n",
    "            #Show WOE Table\n",
    "            if show_woe == True:\n",
    "                display(d)\n",
    "                print('\\n\\n\\n')\n",
    "\n",
    "        return newDF, woeDF\n",
    "\n",
    "    def woe_categorical(self, df, cat_feature, good_bad_df):\n",
    "        \n",
    "        df = pd.concat([df[cat_feature], good_bad_df], axis=1)\n",
    "        df = pd.concat([df.groupby(df.columns.values[0], as_index = False)[df.columns.values[1]].count(),\n",
    "                        df.groupby(df.columns.values[0], as_index = False)[df.columns.values[1]].mean()], axis = 1)\n",
    "        df = df.iloc[:, [0, 1, 3]]\n",
    "        df.columns = [df.columns.values[0], 'n_obs', 'prop_good']\n",
    "        df['prop_n_obs'] = df['n_obs'] / df['n_obs'].sum()\n",
    "        df['n_good'] = df['prop_good'] * df['n_obs']\n",
    "        df['n_bad'] = (1 - df['prop_good']) * df['n_obs']\n",
    "        df['prop_n_good'] = df['n_good'] / df['n_good'].sum()\n",
    "        df['prop_n_bad'] = df['n_bad'] / df['n_bad'].sum()\n",
    "        df['WoE'] = np.log(df['prop_n_good'] / df['prop_n_bad'])\n",
    "        df = df.sort_values(['WoE'])\n",
    "        df = df.reset_index(drop = True)\n",
    "        df['diff_prop_good'] = df['prop_good'].diff().abs()\n",
    "        df['diff_WoE'] = df['WoE'].diff().abs()\n",
    "        df['IV'] = (df['prop_n_good'] - df['prop_n_bad']) * df['WoE']\n",
    "        df['IV'] = df['IV'].sum()\n",
    "        return df\n",
    "\n",
    "    def woe_continous(df, cat_feature, good_bad_df):\n",
    "        df = pd.concat([df[cat_feature], good_bad_df], axis=1)\n",
    "        df = pd.concat([df.groupby(df.columns.values[0], as_index = False)[df.columns.values[1]].count(),\n",
    "                        df.groupby(df.columns.values[0], as_index = False)[df.columns.values[1]].mean()], axis = 1)\n",
    "        df = df.iloc[:, [0, 1, 3]]\n",
    "        df.columns = [df.columns.values[0], 'n_obs', 'prop_good']\n",
    "        df['prop_n_obs'] = df['n_obs'] / df['n_obs'].sum()\n",
    "        df['n_good'] = df['prop_good'] * df['n_obs']\n",
    "        df['n_bad'] = (1 - df['prop_good']) * df['n_obs']\n",
    "        df['prop_n_good'] = df['n_good'] / df['n_good'].sum()\n",
    "        df['prop_n_bad'] = df['n_bad'] / df['n_bad'].sum()\n",
    "        df['WoE'] = np.log(df['prop_n_good'] / df['prop_n_bad'])\n",
    "        df['diff_prop_good'] = df['prop_good'].diff().abs()\n",
    "        df['diff_WoE'] = df['WoE'].diff().abs()\n",
    "        df['IV'] = (df['prop_n_good'] - df['prop_n_bad']) * df['WoE']\n",
    "        df['IV'] = df['IV'].sum()\n",
    "        return df\n",
    "    \n",
    "    def plot_by_woe(df_WoE, rotation_of_x_axis_labels = 0):\n",
    "        \n",
    "        import numpy as np\n",
    "        \n",
    "        x = np.array(df_WoE.iloc[:, 0].apply(str))\n",
    "        y = df_WoE['WoE']\n",
    "        plt.figure(figsize=(18, 12))\n",
    "        plt.plot(x, y, marker = 'o', color = 'hotpink', linestyle = 'dashed', linewidth = 3, markersize = 18, markeredgecolor = 'cyan', markerfacecolor = 'black')\n",
    "        plt.xlabel(df_WoE.columns[0])\n",
    "        plt.ylabel('Weight of Evidence')\n",
    "        plt.title(str('Weight of Evidence by ' + df_WoE.columns[0]))\n",
    "        plt.xticks(rotation = rotation_of_x_axis_labels) \n",
    "        plt.xticks(fontsize=14)\n",
    "        plt.yticks(fontsize=14)\n",
    "        plt.show()"
   ]
  },
  {
   "cell_type": "code",
   "execution_count": 39,
   "id": "90391411",
   "metadata": {
    "ExecuteTime": {
     "end_time": "2022-12-27T01:40:14.795610Z",
     "start_time": "2022-12-27T01:40:14.653602Z"
    }
   },
   "outputs": [
    {
     "name": "stdout",
     "output_type": "stream",
     "text": [
      "\n",
      "Valor da informação de trabalho é 0.140748\n",
      "Valor da informação de estado civil é 0.026986\n",
      "Valor da informação de educação é 0.042039\n",
      "Valor da informação de atraso é 0.0\n",
      "Valor da informação de casa é 0.003543\n",
      "Valor da informação de empréstimo é 0.005874\n",
      "Valor da informação de contato é 0.298627\n",
      "Valor da informação de mês é 0.506185\n",
      "Valor da informação de dia é 0.014075\n",
      "Valor da informação de duração é 1.217434\n",
      "Valor da informação de ncontatos é 0.04608\n",
      "Valor da informação de anterior é 0.399224\n",
      "Valor da informação de idade_group é 0.13026\n",
      "Valor da informação de fe_pca_0 é 0.509156\n",
      "Valor da informação de fe_cluster é 0.450502\n"
     ]
    }
   ],
   "source": [
    "my_woe = AnalysisWoe()\n",
    "_, _   = my_woe.iv_woe(df2_train, target, show_woe=False)"
   ]
  },
  {
   "cell_type": "code",
   "execution_count": 40,
   "id": "3518405d",
   "metadata": {
    "ExecuteTime": {
     "end_time": "2022-12-27T01:40:15.171163Z",
     "start_time": "2022-12-27T01:40:15.136170Z"
    }
   },
   "outputs": [
    {
     "name": "stdout",
     "output_type": "stream",
     "text": [
      "\n",
      "Valor da informação de fe_pca_0 é 0.509156\n"
     ]
    },
    {
     "data": {
      "text/html": [
       "<div>\n",
       "<style scoped>\n",
       "    .dataframe tbody tr th:only-of-type {\n",
       "        vertical-align: middle;\n",
       "    }\n",
       "\n",
       "    .dataframe tbody tr th {\n",
       "        vertical-align: top;\n",
       "    }\n",
       "\n",
       "    .dataframe thead th {\n",
       "        text-align: right;\n",
       "    }\n",
       "</style>\n",
       "<table border=\"1\" class=\"dataframe\">\n",
       "  <thead>\n",
       "    <tr style=\"text-align: right;\">\n",
       "      <th></th>\n",
       "      <th>Variable</th>\n",
       "      <th>Cutoff</th>\n",
       "      <th>N</th>\n",
       "      <th>Events</th>\n",
       "      <th>% of Events</th>\n",
       "      <th>Non-Events</th>\n",
       "      <th>% of Non-Events</th>\n",
       "      <th>WoE</th>\n",
       "      <th>IV</th>\n",
       "    </tr>\n",
       "  </thead>\n",
       "  <tbody>\n",
       "    <tr>\n",
       "      <th>0</th>\n",
       "      <td>fe_pca_0</td>\n",
       "      <td>(-4.041, -2.16]</td>\n",
       "      <td>569</td>\n",
       "      <td>356</td>\n",
       "      <td>0.187962</td>\n",
       "      <td>213</td>\n",
       "      <td>0.056186</td>\n",
       "      <td>1.207577</td>\n",
       "      <td>0.159130</td>\n",
       "    </tr>\n",
       "    <tr>\n",
       "      <th>1</th>\n",
       "      <td>fe_pca_0</td>\n",
       "      <td>(-2.16, -1.657]</td>\n",
       "      <td>568</td>\n",
       "      <td>290</td>\n",
       "      <td>0.153115</td>\n",
       "      <td>278</td>\n",
       "      <td>0.073332</td>\n",
       "      <td>0.736199</td>\n",
       "      <td>0.058737</td>\n",
       "    </tr>\n",
       "    <tr>\n",
       "      <th>2</th>\n",
       "      <td>fe_pca_0</td>\n",
       "      <td>(-1.657, -1.043]</td>\n",
       "      <td>569</td>\n",
       "      <td>266</td>\n",
       "      <td>0.140444</td>\n",
       "      <td>303</td>\n",
       "      <td>0.079926</td>\n",
       "      <td>0.563702</td>\n",
       "      <td>0.034114</td>\n",
       "    </tr>\n",
       "    <tr>\n",
       "      <th>3</th>\n",
       "      <td>fe_pca_0</td>\n",
       "      <td>(-1.043, -0.571]</td>\n",
       "      <td>568</td>\n",
       "      <td>217</td>\n",
       "      <td>0.114572</td>\n",
       "      <td>351</td>\n",
       "      <td>0.092588</td>\n",
       "      <td>0.213050</td>\n",
       "      <td>0.004684</td>\n",
       "    </tr>\n",
       "    <tr>\n",
       "      <th>4</th>\n",
       "      <td>fe_pca_0</td>\n",
       "      <td>(-0.571, -0.169]</td>\n",
       "      <td>570</td>\n",
       "      <td>186</td>\n",
       "      <td>0.098205</td>\n",
       "      <td>384</td>\n",
       "      <td>0.101293</td>\n",
       "      <td>-0.030957</td>\n",
       "      <td>0.000096</td>\n",
       "    </tr>\n",
       "    <tr>\n",
       "      <th>5</th>\n",
       "      <td>fe_pca_0</td>\n",
       "      <td>(-0.169, 0.313]</td>\n",
       "      <td>567</td>\n",
       "      <td>169</td>\n",
       "      <td>0.089229</td>\n",
       "      <td>398</td>\n",
       "      <td>0.104985</td>\n",
       "      <td>-0.162614</td>\n",
       "      <td>0.002562</td>\n",
       "    </tr>\n",
       "    <tr>\n",
       "      <th>6</th>\n",
       "      <td>fe_pca_0</td>\n",
       "      <td>(0.313, 0.942]</td>\n",
       "      <td>568</td>\n",
       "      <td>129</td>\n",
       "      <td>0.068110</td>\n",
       "      <td>439</td>\n",
       "      <td>0.115801</td>\n",
       "      <td>-0.530748</td>\n",
       "      <td>0.025312</td>\n",
       "    </tr>\n",
       "    <tr>\n",
       "      <th>7</th>\n",
       "      <td>fe_pca_0</td>\n",
       "      <td>(0.942, 1.556]</td>\n",
       "      <td>569</td>\n",
       "      <td>114</td>\n",
       "      <td>0.060190</td>\n",
       "      <td>455</td>\n",
       "      <td>0.120021</td>\n",
       "      <td>-0.690160</td>\n",
       "      <td>0.041293</td>\n",
       "    </tr>\n",
       "    <tr>\n",
       "      <th>8</th>\n",
       "      <td>fe_pca_0</td>\n",
       "      <td>(1.556, 2.415]</td>\n",
       "      <td>568</td>\n",
       "      <td>95</td>\n",
       "      <td>0.050158</td>\n",
       "      <td>473</td>\n",
       "      <td>0.124769</td>\n",
       "      <td>-0.911280</td>\n",
       "      <td>0.067991</td>\n",
       "    </tr>\n",
       "    <tr>\n",
       "      <th>9</th>\n",
       "      <td>fe_pca_0</td>\n",
       "      <td>(2.415, 4.654]</td>\n",
       "      <td>569</td>\n",
       "      <td>72</td>\n",
       "      <td>0.038015</td>\n",
       "      <td>497</td>\n",
       "      <td>0.131100</td>\n",
       "      <td>-1.237985</td>\n",
       "      <td>0.115238</td>\n",
       "    </tr>\n",
       "  </tbody>\n",
       "</table>\n",
       "</div>"
      ],
      "text/plain": [
       "   Variable            Cutoff    N  Events  % of Events  Non-Events  \\\n",
       "0  fe_pca_0   (-4.041, -2.16]  569     356     0.187962         213   \n",
       "1  fe_pca_0   (-2.16, -1.657]  568     290     0.153115         278   \n",
       "2  fe_pca_0  (-1.657, -1.043]  569     266     0.140444         303   \n",
       "3  fe_pca_0  (-1.043, -0.571]  568     217     0.114572         351   \n",
       "4  fe_pca_0  (-0.571, -0.169]  570     186     0.098205         384   \n",
       "5  fe_pca_0   (-0.169, 0.313]  567     169     0.089229         398   \n",
       "6  fe_pca_0    (0.313, 0.942]  568     129     0.068110         439   \n",
       "7  fe_pca_0    (0.942, 1.556]  569     114     0.060190         455   \n",
       "8  fe_pca_0    (1.556, 2.415]  568      95     0.050158         473   \n",
       "9  fe_pca_0    (2.415, 4.654]  569      72     0.038015         497   \n",
       "\n",
       "   % of Non-Events       WoE        IV  \n",
       "0         0.056186  1.207577  0.159130  \n",
       "1         0.073332  0.736199  0.058737  \n",
       "2         0.079926  0.563702  0.034114  \n",
       "3         0.092588  0.213050  0.004684  \n",
       "4         0.101293 -0.030957  0.000096  \n",
       "5         0.104985 -0.162614  0.002562  \n",
       "6         0.115801 -0.530748  0.025312  \n",
       "7         0.120021 -0.690160  0.041293  \n",
       "8         0.124769 -0.911280  0.067991  \n",
       "9         0.131100 -1.237985  0.115238  "
      ]
     },
     "metadata": {},
     "output_type": "display_data"
    },
    {
     "name": "stdout",
     "output_type": "stream",
     "text": [
      "\n",
      "\n",
      "\n",
      "\n"
     ]
    }
   ],
   "source": [
    "_, __ = my_woe.iv_woe(df2_train[['fe_pca_0', target]], target, show_woe=True)"
   ]
  },
  {
   "cell_type": "code",
   "execution_count": 41,
   "id": "0b947a66",
   "metadata": {
    "ExecuteTime": {
     "end_time": "2022-12-27T01:40:16.881283Z",
     "start_time": "2022-12-27T01:40:16.853591Z"
    }
   },
   "outputs": [
    {
     "name": "stdout",
     "output_type": "stream",
     "text": [
      "\n",
      "Valor da informação de fe_cluster é 0.450502\n"
     ]
    },
    {
     "data": {
      "text/html": [
       "<div>\n",
       "<style scoped>\n",
       "    .dataframe tbody tr th:only-of-type {\n",
       "        vertical-align: middle;\n",
       "    }\n",
       "\n",
       "    .dataframe tbody tr th {\n",
       "        vertical-align: top;\n",
       "    }\n",
       "\n",
       "    .dataframe thead th {\n",
       "        text-align: right;\n",
       "    }\n",
       "</style>\n",
       "<table border=\"1\" class=\"dataframe\">\n",
       "  <thead>\n",
       "    <tr style=\"text-align: right;\">\n",
       "      <th></th>\n",
       "      <th>Variable</th>\n",
       "      <th>Cutoff</th>\n",
       "      <th>N</th>\n",
       "      <th>Events</th>\n",
       "      <th>% of Events</th>\n",
       "      <th>Non-Events</th>\n",
       "      <th>% of Non-Events</th>\n",
       "      <th>WoE</th>\n",
       "      <th>IV</th>\n",
       "    </tr>\n",
       "  </thead>\n",
       "  <tbody>\n",
       "    <tr>\n",
       "      <th>0</th>\n",
       "      <td>fe_cluster</td>\n",
       "      <td>cluster_1</td>\n",
       "      <td>2096</td>\n",
       "      <td>1063</td>\n",
       "      <td>0.561246</td>\n",
       "      <td>1033</td>\n",
       "      <td>0.272487</td>\n",
       "      <td>0.722567</td>\n",
       "      <td>0.208647</td>\n",
       "    </tr>\n",
       "    <tr>\n",
       "      <th>1</th>\n",
       "      <td>fe_cluster</td>\n",
       "      <td>cluster_2</td>\n",
       "      <td>1818</td>\n",
       "      <td>350</td>\n",
       "      <td>0.184794</td>\n",
       "      <td>1468</td>\n",
       "      <td>0.387233</td>\n",
       "      <td>-0.739784</td>\n",
       "      <td>0.149761</td>\n",
       "    </tr>\n",
       "    <tr>\n",
       "      <th>2</th>\n",
       "      <td>fe_cluster</td>\n",
       "      <td>cluster_3</td>\n",
       "      <td>411</td>\n",
       "      <td>49</td>\n",
       "      <td>0.025871</td>\n",
       "      <td>362</td>\n",
       "      <td>0.095489</td>\n",
       "      <td>-1.305885</td>\n",
       "      <td>0.090913</td>\n",
       "    </tr>\n",
       "    <tr>\n",
       "      <th>3</th>\n",
       "      <td>fe_cluster</td>\n",
       "      <td>cluster_4</td>\n",
       "      <td>1360</td>\n",
       "      <td>432</td>\n",
       "      <td>0.228089</td>\n",
       "      <td>928</td>\n",
       "      <td>0.244790</td>\n",
       "      <td>-0.070667</td>\n",
       "      <td>0.001180</td>\n",
       "    </tr>\n",
       "  </tbody>\n",
       "</table>\n",
       "</div>"
      ],
      "text/plain": [
       "     Variable     Cutoff     N  Events  % of Events  Non-Events  \\\n",
       "0  fe_cluster  cluster_1  2096    1063     0.561246        1033   \n",
       "1  fe_cluster  cluster_2  1818     350     0.184794        1468   \n",
       "2  fe_cluster  cluster_3   411      49     0.025871         362   \n",
       "3  fe_cluster  cluster_4  1360     432     0.228089         928   \n",
       "\n",
       "   % of Non-Events       WoE        IV  \n",
       "0         0.272487  0.722567  0.208647  \n",
       "1         0.387233 -0.739784  0.149761  \n",
       "2         0.095489 -1.305885  0.090913  \n",
       "3         0.244790 -0.070667  0.001180  "
      ]
     },
     "metadata": {},
     "output_type": "display_data"
    },
    {
     "name": "stdout",
     "output_type": "stream",
     "text": [
      "\n",
      "\n",
      "\n",
      "\n"
     ]
    }
   ],
   "source": [
    "_, __ = my_woe.iv_woe(df2_train[['fe_cluster', target]], target, show_woe=True)"
   ]
  },
  {
   "cell_type": "code",
   "execution_count": 42,
   "id": "00286b6e",
   "metadata": {
    "ExecuteTime": {
     "end_time": "2022-12-27T01:40:17.713463Z",
     "start_time": "2022-12-27T01:40:17.693464Z"
    }
   },
   "outputs": [],
   "source": [
    "df2_train = grup_pca(df2_train)\n",
    "df2_test  = grup_pca(df2_test)"
   ]
  },
  {
   "cell_type": "markdown",
   "id": "305b425d",
   "metadata": {
    "id": "305b425d",
    "papermill": {
     "duration": 0.079393,
     "end_time": "2022-02-13T03:50:21.332626",
     "exception": false,
     "start_time": "2022-02-13T03:50:21.253233",
     "status": "completed"
    },
    "tags": []
   },
   "source": [
    "<div style=\"color:white;border-radius:8px;background-color:#a7d5ed\">    \n",
    "    <h1 style=\"padding:12px;color:black;\"> 3. PIPELINE </h1>    \n",
    "</div>"
   ]
  },
  {
   "cell_type": "markdown",
   "id": "c44d1100",
   "metadata": {},
   "source": [
    "## 3.1. Split train/test"
   ]
  },
  {
   "cell_type": "code",
   "execution_count": 43,
   "id": "1665069d",
   "metadata": {
    "ExecuteTime": {
     "end_time": "2022-12-27T01:40:19.212784Z",
     "start_time": "2022-12-27T01:40:19.204755Z"
    }
   },
   "outputs": [
    {
     "data": {
      "text/plain": [
       "(3300, 15)"
      ]
     },
     "execution_count": 43,
     "metadata": {},
     "output_type": "execute_result"
    }
   ],
   "source": [
    "df2_test.shape"
   ]
  },
  {
   "cell_type": "code",
   "execution_count": 44,
   "id": "dde3eeda",
   "metadata": {
    "ExecuteTime": {
     "end_time": "2022-12-27T01:40:19.884080Z",
     "start_time": "2022-12-27T01:40:19.870031Z"
    },
    "code_folding": [],
    "executionInfo": {
     "elapsed": 2,
     "status": "ok",
     "timestamp": 1655826573331,
     "user": {
      "displayName": "Rogério Delfim",
      "userId": "04235763959036945343"
     },
     "user_tz": 180
    },
    "id": "dde3eeda"
   },
   "outputs": [
    {
     "data": {
      "text/plain": [
       "((3979, 15), (3979,), (1706, 15), (1706,), (3300, 15))"
      ]
     },
     "execution_count": 44,
     "metadata": {},
     "output_type": "execute_result"
    }
   ],
   "source": [
    "seed      = 12359\n",
    "df3_train = df2_train.copy()\n",
    "df3_test  = df2_test.copy()\n",
    "X         = df2_train.drop(target, axis=1)\n",
    "y         = df2_train[target]\n",
    "X_test    = df2_test.copy()\n",
    "\n",
    "X_train, X_valid, y_train, y_valid = \\\n",
    "    train_test_split(X, y, \n",
    "                     test_size    = 0.3,\n",
    "                     shuffle      = True, \n",
    "                     random_state = seed)\n",
    "\n",
    "X_train.shape, y_train.shape, X_valid.shape, y_valid.shape , X_test.shape"
   ]
  },
  {
   "cell_type": "markdown",
   "id": "2e597607",
   "metadata": {},
   "source": [
    "## 3.2. Criar folds \n",
    "Para o treinamento dos classificadore vamos utilizar 10 folds, sendo que neste caso vamos criar os indices do folds manualmente, o motivo é que eu vou criar uma stacking, sendo assim, temos que ter sempre os mesmos indices nos níveis de treinamento.  <p>\n",
    "\n",
    "Foi desenvolvido uma classe para a criação dos folds, que serão utilizados na função de treinamento, sendo necessário utilizar o parametro \"<b>train_with_created_folds_=True</b>\" da função model_cv_fit.  <p>\n",
    "    \n",
    "Um ponto importante que devo destacar, os folds são criados no dataset  <b>X</b>, sendo assim, para os treinamentos do utilizando o <b>X_train</b>, não vamos utilizar os folds criados.       \n",
    "    \n",
    "Abaixo criamos os folds:\n",
    "    "
   ]
  },
  {
   "cell_type": "code",
   "execution_count": 45,
   "id": "cbd09a70",
   "metadata": {
    "ExecuteTime": {
     "end_time": "2022-12-27T01:40:21.593636Z",
     "start_time": "2022-12-27T01:40:21.549795Z"
    }
   },
   "outputs": [
    {
     "name": "stdout",
     "output_type": "stream",
     "text": [
      "Fold: 1 => tran: 5116 - valid: 569\n",
      "Fold: 2 => tran: 5116 - valid: 569\n",
      "Fold: 3 => tran: 5116 - valid: 569\n",
      "Fold: 4 => tran: 5116 - valid: 569\n",
      "Fold: 5 => tran: 5116 - valid: 569\n",
      "Fold: 6 => tran: 5117 - valid: 568\n",
      "Fold: 7 => tran: 5117 - valid: 568\n",
      "Fold: 8 => tran: 5117 - valid: 568\n",
      "Fold: 9 => tran: 5117 - valid: 568\n",
      "Fold: 10 => tran: 5117 - valid: 568\n",
      "Fold: 10 => tran: 5117 - valid: 568\n"
     ]
    }
   ],
   "source": [
    "my_folds = Kfold(verbose_=True)\n",
    "my_folds.create(10, X, y)"
   ]
  },
  {
   "cell_type": "markdown",
   "id": "1bbf2482",
   "metadata": {},
   "source": [
    "## 3.3. Criar pipeline"
   ]
  },
  {
   "cell_type": "code",
   "execution_count": 46,
   "id": "2fedebb7",
   "metadata": {
    "ExecuteTime": {
     "end_time": "2022-12-27T01:40:23.189039Z",
     "start_time": "2022-12-27T01:40:23.173041Z"
    },
    "code_folding": [
     3
    ]
   },
   "outputs": [],
   "source": [
    "counter          = Counter(y)\n",
    "scale_pos_weight = (counter[0]/counter[1]) \n",
    "\n",
    "params_xgb  = {\n",
    "    'objective'        : 'binary:logistic', \n",
    "    'eval_metric'      : ['error', 'logloss'],\n",
    "    'max_depth'        : 5, \n",
    "    'scale_pos_weight' : scale_pos_weight,\n",
    "    'n_estimators'     : 1000,    \n",
    "    'learning_rate'    : .01,\n",
    "    'colsample_bytree' : .75,    \n",
    "    'subsample'        : .8,\n",
    "    'reg_lambda'       : 30,\n",
    "    'n_jobs'           : -1,    \n",
    "    'seed'             : seed}\n",
    "    \n",
    "if torch.cuda.is_available():           \n",
    "    params_xgb.update({'tree_method': 'gpu_hist','predictor': 'gpu_predictor'})\n",
    "\n",
    "# Classificadores\n",
    "model_xgb  = xgb.XGBClassifier(**params_xgb)"
   ]
  },
  {
   "cell_type": "code",
   "execution_count": 47,
   "id": "1bbf7a37",
   "metadata": {
    "ExecuteTime": {
     "end_time": "2022-12-27T01:40:23.737645Z",
     "start_time": "2022-12-27T01:40:23.717645Z"
    },
    "code_folding": [
     1
    ]
   },
   "outputs": [],
   "source": [
    "class KFoldTargetEncoderTrain(base.BaseEstimator,base.TransformerMixin):\n",
    "    # https://medium.com/@pouryaayria/k-fold-target-encoding-dfe9a594874b\n",
    "    \n",
    "    def __init__(self,colnames,targetName,\n",
    "                  n_fold=5, verbosity=True,\n",
    "                  discardOriginal_col=False):\n",
    "        \n",
    "        self.colnames = colnames\n",
    "        self.targetName = targetName\n",
    "        self.n_fold = n_fold\n",
    "        self.verbosity = verbosity\n",
    "        self.discardOriginal_col = discardOriginal_col\n",
    "        \n",
    "    def fit(self, X, y=None):\n",
    "        return self\n",
    "    \n",
    "    def transform(self,X):\n",
    "        \n",
    "        assert(type(self.targetName) == str)\n",
    "        assert(type(self.colnames) == str)\n",
    "        assert(self.colnames in X.columns)\n",
    "        assert(self.targetName in X.columns)\n",
    "        \n",
    "        mean_of_target = X[self.targetName].mean()\n",
    "        \n",
    "        kf = KFold(n_splits = self.n_fold,shuffle = False, random_state=2019)\n",
    "        col_mean_name = self.colnames + '_' + 'Kfold_Target_Enc'\n",
    "        X[col_mean_name] = np.nan\n",
    "        \n",
    "        for tr_ind, val_ind in kf.split(X):\n",
    "            \n",
    "            X_tr, X_val = X.iloc[tr_ind], X.iloc[val_ind]\n",
    "            X.loc[X.index[val_ind], col_mean_name] = \\\n",
    "            X_val[self.colnames].map(X_tr.groupby(self.colnames)\n",
    "                                     [self.targetName].mean())\n",
    "            X[col_mean_name].fillna(mean_of_target, inplace = True)\n",
    "        \n",
    "        if self.verbosity:\n",
    "            encoded_feature = X[col_mean_name].values\n",
    "            print('Correlation between the new feature, {} and, {} is {}.' \\\n",
    "                    .format(col_mean_name,\n",
    "                    self.targetName,   \n",
    "                    np.corrcoef(X[self.targetName].values,\n",
    "                    encoded_feature)[0][1]))\n",
    "            \n",
    "        if self.discardOriginal_col:\n",
    "            X = X.drop(self.targetName, axis=1)\n",
    "        \n",
    "        return X"
   ]
  },
  {
   "cell_type": "code",
   "execution_count": 48,
   "id": "80a4763e",
   "metadata": {
    "ExecuteTime": {
     "end_time": "2022-12-27T01:40:24.164908Z",
     "start_time": "2022-12-27T01:40:24.150909Z"
    },
    "code_folding": [
     0
    ]
   },
   "outputs": [],
   "source": [
    "class TargetEncoderCV(TargetEncoder):\n",
    "    \"\"\"Cross-fold target encoder.\n",
    "    \"\"\"\n",
    "    # https://brendanhasz.github.io/2019/03/04/target-encoding.html\n",
    "    \n",
    "    def __init__(self, n_splits=3, shuffle=True, cols=None):\n",
    "        \"\"\"Cross-fold target encoding for categorical features.\n",
    "        \n",
    "        Parameters\n",
    "        ----------\n",
    "        n_splits : int\n",
    "            Number of cross-fold splits. Default = 3.\n",
    "        shuffle : bool\n",
    "            Whether to shuffle the data when splitting into folds.\n",
    "        cols : list of str\n",
    "            Columns to target encode.\n",
    "        \"\"\"\n",
    "        self.n_splits = n_splits\n",
    "        self.shuffle  = shuffle\n",
    "        self.cols     = cols\n",
    "\n",
    "    def fit(self, X, y):\n",
    "        \"\"\"Fit cross-fold target encoder to X and y\n",
    "        \n",
    "        Parameters\n",
    "        ----------\n",
    "        X : pandas DataFrame, shape [n_samples, n_columns]\n",
    "            DataFrame containing columns to encode\n",
    "        y : pandas Series, shape = [n_samples]\n",
    "            Target values.\n",
    "            \n",
    "        Returns\n",
    "        -------\n",
    "        self : encoder\n",
    "            Returns self.\n",
    "        \"\"\"\n",
    "        self._target_encoder = TargetEncoder(cols=self.cols)\n",
    "        self._target_encoder.fit(X, y)        \n",
    "        return self\n",
    "    \n",
    "    def transform(self, X, y=None):\n",
    "        \"\"\"Perform the target encoding transformation.\n",
    "\n",
    "        Uses cross-fold target encoding for the training fold,\n",
    "        and uses normal target encoding for the test fold.\n",
    "\n",
    "        Parameters\n",
    "        ----------\n",
    "        X : pandas DataFrame, shape [n_samples, n_columns]\n",
    "            DataFrame containing columns to encode\n",
    "\n",
    "        Returns\n",
    "        -------\n",
    "        pandas DataFrame\n",
    "            Input DataFrame with transformed columns\n",
    "        \"\"\"\n",
    "\n",
    "        # Use target encoding from fit() if this is test data\n",
    "        if y is None:\n",
    "            return self._target_encoder.transform(X)\n",
    "\n",
    "        # Compute means for each fold\n",
    "        self._train_ix = []\n",
    "        self._test_ix  = []\n",
    "        self._fit_tes  = []\n",
    "        kf             = KFold(n_splits=self.n_splits, shuffle=self.shuffle)\n",
    "        \n",
    "        for train_ix, test_ix in kf.split(X):\n",
    "            self._train_ix.append(train_ix)\n",
    "            self._test_ix.append(test_ix)\n",
    "            te = TargetEncoder(cols=self.cols)\n",
    "            \n",
    "            if isinstance(X, pd.DataFrame):\n",
    "                self._fit_tes.append(te.fit(X.iloc[train_ix,:],\n",
    "                                            y.iloc[train_ix]))\n",
    "            elif isinstance(X, np.ndarray):\n",
    "                self._fit_tes.append(te.fit(X[train_ix,:],\n",
    "                                            y[train_ix]))\n",
    "            else:\n",
    "                raise TypeError('X deve ser DataFrame ou ndarray')\n",
    "\n",
    "        # Aplicar meios nas dobras\n",
    "        Xo = X.copy()\n",
    "        \n",
    "        for ix in range(len(self._test_ix)):\n",
    "            test_ix = self._test_ix[ix]\n",
    "            if isinstance(X, pd.DataFrame):\n",
    "                Xo.iloc[test_ix,:] = \\\n",
    "                    self._fit_tes[ix].transform(X.iloc[test_ix,:])\n",
    "            elif isinstance(X, np.ndarray):\n",
    "                Xo[test_ix,:] = \\\n",
    "                    self._fit_tes[ix].transform(X[test_ix,:])\n",
    "            else:\n",
    "                raise TypeError('X deve ser DataFrame ou ndarray')\n",
    "                \n",
    "        return Xo\n",
    "            \n",
    "    def fit_transform(self, X, y=None):\n",
    "        \"\"\"Fit and transform the data via target encoding.\n",
    "        \n",
    "        Parameters\n",
    "        ----------\n",
    "        X : pandas DataFrame, shape [n_samples, n_columns]\n",
    "            DataFrame containing columns to encode\n",
    "        y : pandas Series, shape = [n_samples]\n",
    "            Target values (required!).\n",
    "\n",
    "        Returns\n",
    "        -------\n",
    "        pandas DataFrame\n",
    "            Input DataFrame with transformed columns\n",
    "        \"\"\"\n",
    "        return self.fit(X, y).transform(X, y)"
   ]
  },
  {
   "cell_type": "code",
   "execution_count": 49,
   "id": "b2841372",
   "metadata": {
    "ExecuteTime": {
     "end_time": "2022-12-27T01:40:24.543312Z",
     "start_time": "2022-12-27T01:40:24.525279Z"
    },
    "code_folding": [
     0
    ]
   },
   "outputs": [],
   "source": [
    "class TargetEncoderLOO(TargetEncoder):\n",
    "    \"\"\"Leave-one-out target encoder.\n",
    "    \"\"\"\n",
    "    \n",
    "    def __init__(self, cols=None):\n",
    "        \"\"\"Leave-one-out target encoding for categorical features.\n",
    "        \n",
    "        Parameters\n",
    "        ----------\n",
    "        cols : list of str\n",
    "            Columns to target encode.\n",
    "        \"\"\"\n",
    "        self.cols = cols\n",
    "        \n",
    "    def fit(self, X, y):\n",
    "        \"\"\"Fit leave-one-out target encoder to X and y\n",
    "        \n",
    "        Parameters\n",
    "        ----------\n",
    "        X : pandas DataFrame, shape [n_samples, n_columns]\n",
    "            DataFrame containing columns to target encode\n",
    "        y : pandas Series, shape = [n_samples]\n",
    "            Target values.\n",
    "            \n",
    "        Returns\n",
    "        -------\n",
    "        self : encoder\n",
    "            Returns self.\n",
    "        \"\"\"\n",
    "        \n",
    "        # Encode all categorical cols by default\n",
    "        if self.cols is None:\n",
    "            self.cols = [col for col in X\n",
    "                         if str(X[col].dtype)=='object']\n",
    "\n",
    "        # Check columns are in X\n",
    "        for col in self.cols:\n",
    "            if col not in X:\n",
    "                raise ValueError('Column \\''+col+'\\' not in X')\n",
    "\n",
    "        # Encode each element of each column\n",
    "        self.sum_count = dict()\n",
    "        for col in self.cols:\n",
    "            self.sum_count[col] = dict()\n",
    "            uniques = X[col].unique()\n",
    "            for unique in uniques:\n",
    "                ix = X[col]==unique\n",
    "                self.sum_count[col][unique] = \\\n",
    "                    (y[ix].sum(),ix.sum())\n",
    "            \n",
    "        # Return the fit object\n",
    "        return self\n",
    "    \n",
    "    def transform(self, X, y=None):\n",
    "        \"\"\"Perform the target encoding transformation.\n",
    "\n",
    "        Uses leave-one-out target encoding for the training fold,\n",
    "        and uses normal target encoding for the test fold.\n",
    "\n",
    "        Parameters\n",
    "        ----------\n",
    "        X : pandas DataFrame, shape [n_samples, n_columns]\n",
    "            DataFrame containing columns to encode\n",
    "\n",
    "        Returns\n",
    "        -------\n",
    "        pandas DataFrame\n",
    "            Input DataFrame with transformed columns\n",
    "        \"\"\"\n",
    "        \n",
    "        # Create output dataframe\n",
    "        Xo = X.copy()\n",
    "\n",
    "        # Use normal target encoding if this is test data\n",
    "        if y is None:\n",
    "            for col in self.sum_count:\n",
    "                vals = np.full(X.shape[0], np.nan)\n",
    "                for cat, sum_count in self.sum_count[col].items():\n",
    "                    vals[X[col]==cat] = sum_count[0]/sum_count[1]\n",
    "                Xo[col] = vals\n",
    "\n",
    "        # LOO target encode each column\n",
    "        else:\n",
    "            for col in self.sum_count:\n",
    "                vals = np.full(X.shape[0], np.nan)\n",
    "                for cat, sum_count in self.sum_count[col].items():\n",
    "                    ix = X[col]==cat\n",
    "                    vals[ix] = (sum_count[0]-y[ix])/(sum_count[1]-1)\n",
    "                Xo[col] = vals\n",
    "            \n",
    "        # Return encoded DataFrame\n",
    "        return Xo\n",
    "            \n",
    "    def fit_transform(self, X, y=None):\n",
    "        \"\"\"Fit and transform the data via target encoding.\n",
    "        \n",
    "        Parameters\n",
    "        ----------\n",
    "        X : pandas DataFrame, shape [n_samples, n_columns]\n",
    "            DataFrame containing columns to encode\n",
    "        y : pandas Series, shape = [n_samples]\n",
    "            Target values (required!).\n",
    "\n",
    "        Returns\n",
    "        -------\n",
    "        pandas DataFrame\n",
    "            Input DataFrame with transformed columns\n",
    "        \"\"\"\n",
    "        return self.fit(X, y).transform(X, y)"
   ]
  },
  {
   "cell_type": "code",
   "execution_count": 50,
   "id": "48244453",
   "metadata": {
    "ExecuteTime": {
     "end_time": "2022-12-27T01:40:24.905313Z",
     "start_time": "2022-12-27T01:40:24.893308Z"
    },
    "code_folding": [
     0
    ]
   },
   "outputs": [],
   "source": [
    "class TargetEncoder(BaseEstimator, TransformerMixin):\n",
    "    \"\"\"Target encoder.\n",
    "    \n",
    "    Replaces categorical column(s) with the mean target value for\n",
    "    each category.\n",
    "\n",
    "    \"\"\"\n",
    "    \n",
    "    def __init__(self, cols=None):\n",
    "        \"\"\"Target encoder\n",
    "        \n",
    "        Parameters\n",
    "        ----------\n",
    "        cols : list of str\n",
    "            Columns to target encode.  Default is to target \n",
    "            encode all categorical columns in the DataFrame.\n",
    "        \"\"\"\n",
    "        if isinstance(cols, str):\n",
    "            self.cols = [cols]\n",
    "        else:\n",
    "            self.cols = cols\n",
    "        \n",
    "        \n",
    "    def fit(self, X, y):\n",
    "        \"\"\"Fit target encoder to X and y\n",
    "        \n",
    "        Parameters\n",
    "        ----------\n",
    "        X : pandas DataFrame, shape [n_samples, n_columns]\n",
    "            DataFrame containing columns to encode\n",
    "        y : pandas Series, shape = [n_samples]\n",
    "            Target values.\n",
    "            \n",
    "        Returns\n",
    "        -------\n",
    "        self : encoder\n",
    "            Returns self.\n",
    "        \"\"\"\n",
    "        \n",
    "        # Encode all categorical cols by default\n",
    "        if self.cols is None:\n",
    "            self.cols = [col for col in X \n",
    "                         if str(X[col].dtype)=='object']\n",
    "\n",
    "        # Check columns are in X\n",
    "        for col in self.cols:\n",
    "            if col not in X:\n",
    "                raise ValueError('Column \\''+col+'\\' not in X')\n",
    "\n",
    "        # Encode each element of each column\n",
    "        self.maps = dict() #dict to store map for each column\n",
    "        for col in self.cols:\n",
    "            tmap = dict()\n",
    "            uniques = X[col].unique()\n",
    "            for unique in uniques:\n",
    "                tmap[unique] = y[X[col]==unique].mean()\n",
    "            self.maps[col] = tmap\n",
    "            \n",
    "        return self\n",
    "\n",
    "        \n",
    "    def transform(self, X, y=None):\n",
    "        \"\"\"Perform the target encoding transformation.\n",
    "        \n",
    "        Parameters\n",
    "        ----------\n",
    "        X : pandas DataFrame, shape [n_samples, n_columns]\n",
    "            DataFrame containing columns to encode\n",
    "            \n",
    "        Returns\n",
    "        -------\n",
    "        pandas DataFrame\n",
    "            Input DataFrame with transformed columns\n",
    "        \"\"\"\n",
    "        Xo = X.copy()\n",
    "        for col, tmap in self.maps.items():\n",
    "            vals = np.full(X.shape[0], np.nan)\n",
    "            for val, mean_target in tmap.items():\n",
    "                vals[X[col]==val] = mean_target\n",
    "            Xo[col] = vals\n",
    "        return Xo\n",
    "            \n",
    "            \n",
    "    def fit_transform(self, X, y=None):\n",
    "        \"\"\"Fit and transform the data via target encoding.\n",
    "        \n",
    "        Parameters\n",
    "        ----------\n",
    "        X : pandas DataFrame, shape [n_samples, n_columns]\n",
    "            DataFrame containing columns to encode\n",
    "        y : pandas Series, shape = [n_samples]\n",
    "            Target values (required!).\n",
    "\n",
    "        Returns\n",
    "        -------\n",
    "        pandas DataFrame\n",
    "            Input DataFrame with transformed columns\n",
    "        \"\"\"\n",
    "        return self.fit(X, y).transform(X, y)"
   ]
  },
  {
   "cell_type": "code",
   "execution_count": 51,
   "id": "cfb5d809",
   "metadata": {
    "ExecuteTime": {
     "end_time": "2022-12-27T01:40:25.283561Z",
     "start_time": "2022-12-27T01:40:25.261562Z"
    },
    "code_folding": [
     0
    ]
   },
   "outputs": [],
   "source": [
    "def calculate_woe_iv(dataset, feature, target):\n",
    "    lst = []\n",
    "    for i in range(dataset[feature].nunique()):\n",
    "        val = list(dataset[feature].unique())[i]\n",
    "        lst.append({\n",
    "            'Value': val,\n",
    "            'All': dataset[dataset[feature] == val].count()[feature],\n",
    "            'Good': dataset[(dataset[feature] == val) & (dataset[target] == 0)].count()[feature],\n",
    "            'Bad': dataset[(dataset[feature] == val) & (dataset[target] == 1)].count()[feature]\n",
    "        })\n",
    "        \n",
    "    dset = pd.DataFrame(lst)\n",
    "    dset['Distr_Good'] = dset['Good'] / dset['Good'].sum()\n",
    "    dset['Distr_Bad'] = dset['Bad'] / dset['Bad'].sum()\n",
    "    dset['WoE'] = np.log(dset['Distr_Good'] / dset['Distr_Bad'])\n",
    "    dset = dset.replace({'WoE': {np.inf: 0, -np.inf: 0}})\n",
    "    dset['IV'] = (dset['Distr_Good'] - dset['Distr_Bad']) * dset['WoE']\n",
    "    iv = dset['IV'].sum()\n",
    "    \n",
    "    dset = dset.sort_values(by='WoE')\n",
    "    \n",
    "    return dset, iv"
   ]
  },
  {
   "cell_type": "code",
   "execution_count": 52,
   "id": "8ff7bcf3",
   "metadata": {
    "ExecuteTime": {
     "end_time": "2022-12-27T01:40:25.756127Z",
     "start_time": "2022-12-27T01:40:25.736130Z"
    },
    "code_folding": [
     0
    ]
   },
   "outputs": [],
   "source": [
    "class ReduceVIF(BaseEstimator, TransformerMixin):    \n",
    "    # https://www.kaggle.com/code/ffisegydd/sklearn-multicollinearity-class\n",
    "    \n",
    "    def __init__(self, thresh=5.0, impute=True, impute_strategy=\"median\"):\n",
    "        # Observando a documentação, valores entre 5 e 10 estão \"ok\".\n",
    "        # Acima de 10 é muito alto e por isso deve ser removido.\n",
    "        self.thresh = thresh\n",
    "\n",
    "        # A função statsmodel falhará com valores NaN, como tal, temos que imputá-los.\n",
    "        # Por padrão, imputamos usando o valor mediano.\n",
    "        # Esta imputação pode ser retirada e adicionada como parte de um Pipeline sklearn.\n",
    "        if impute:\n",
    "            self.imputer = SimpleImputer(strategy='median') # Imputer(strategy=impute_strategy)\n",
    "\n",
    "    def fit(self, X, y=None):        \n",
    "        if hasattr(self, \"imputer\"):\n",
    "            self.imputer.fit(X)\n",
    "        return self\n",
    "\n",
    "    def transform(self, X, y=None):        \n",
    "        columns = X.columns.tolist()\n",
    "        if hasattr(self, \"imputer\"):\n",
    "            X = pd.DataFrame(self.imputer.transform(X), columns=columns)\n",
    "        return ReduceVIF.calculate_vif(X, self.thresh)\n",
    "\n",
    "    @staticmethod\n",
    "    def calculate_vif(X, thresh=5.0):\n",
    "        # Taken from https://stats.stackexchange.com/a/253620/53565 and modified\n",
    "        iter    = 0\n",
    "        dropped = True\n",
    "        \n",
    "        while dropped:\n",
    "            variables = X.columns\n",
    "            dropped   = False\n",
    "            exog      = X[variables].values\n",
    "            exog_idx  = X.columns            \n",
    "            vif       = [variance_inflation_factor(exog, exog_idx.get_loc(var))\n",
    "                         for var in X.columns]\n",
    "        \n",
    "            iter    = iter + 1\n",
    "            max_vif = max(vif)\n",
    "            \n",
    "            if max_vif>thresh:\n",
    "                maxloc  = vif.index(max_vif)                \n",
    "                X       = X.drop([X.columns.tolist()[maxloc]], axis=1)\n",
    "                dropped = True\n",
    "                \n",
    "        return X"
   ]
  },
  {
   "cell_type": "code",
   "execution_count": 53,
   "id": "5ac0c6ab",
   "metadata": {
    "ExecuteTime": {
     "end_time": "2022-12-27T01:40:26.212213Z",
     "start_time": "2022-12-27T01:40:26.189159Z"
    },
    "code_folding": [
     0
    ]
   },
   "outputs": [],
   "source": [
    "class Kimputer():\n",
    "    \n",
    "    def __init__(self, n_=10, weights_=\"uniform\"):\n",
    "        self.n       = n_\n",
    "        self.weights = weights_\n",
    "        self.cats    = [\"product_code\", \"attribute_0\", \"attribute_1\", \"attribute_2\", \"attribute_3\"]\n",
    "        self.ints    = [\"measurement_0\", \"measurement_1\", \"measurement_2\"]\n",
    "        \n",
    "    def __imputer(self, X):\n",
    "        knn_imp = KNNImputer(n_neighbors=self.n, weights=self.weights).fit_transform(X)        \n",
    "        return pd.DataFrame(knn_imp, index=X.index, columns=X.columns)\n",
    "    \n",
    "    def fit(self, X, y=None):\n",
    "        cats  = self.cats\n",
    "        ints  = self.ints         \n",
    "        right = pd.concat([self.__imputer(gdf.drop(columns=cats)) \\\n",
    "                           for g, gdf in X.groupby(\"product_code\")], axis=\"rows\")\n",
    "        \n",
    "        right[ints] = right[ints].round().astype(int)\n",
    "        df = pd.concat([X[cats], right], axis=\"columns\").reindex(columns=X.columns)\n",
    "        return df\n",
    "    \n",
    "    def transform(self, X, y=None):\n",
    "        return self.fit(X)        \n",
    "        \n",
    "    def fit_transform(self, X, y=None):\n",
    "        return self.fit(X, y)    "
   ]
  },
  {
   "cell_type": "code",
   "execution_count": 54,
   "id": "c34a4b62",
   "metadata": {
    "ExecuteTime": {
     "end_time": "2022-12-27T01:40:26.869233Z",
     "start_time": "2022-12-27T01:40:26.854193Z"
    },
    "code_folding": [
     0,
     9,
     17
    ]
   },
   "outputs": [],
   "source": [
    "class KFoldTargetEncoderTrain(base.BaseEstimator, base.TransformerMixin):\n",
    "    \n",
    "    # https://github.com/pourya-ir/Medium/blob/master/K-fold-target-enc/K-fold-Target-Encoding.ipynb\n",
    "    # https://medium.com/@pouryaayria/k-fold-target-encoding-dfe9a594874b\n",
    "    \n",
    "    from sklearn.model_selection import KFold \n",
    "    \n",
    "    \n",
    "    \n",
    "    def __init__(self, colnames,targetName,n_fold=5,verbosity=True,discardOriginal_col=False):\n",
    "\n",
    "        self.colnames = colnames\n",
    "        self.targetName = targetName\n",
    "        self.n_fold = n_fold\n",
    "        self.verbosity = verbosity\n",
    "        self.discardOriginal_col = discardOriginal_col\n",
    "\n",
    "    def fit(self, X, y=None):\n",
    "        return self\n",
    "\n",
    "    def transform(self,X):\n",
    "\n",
    "        assert(type(self.targetName) == str)\n",
    "        assert(type(self.colnames) == str)\n",
    "        assert(self.colnames in X.columns)\n",
    "        assert(self.targetName in X.columns)\n",
    "\n",
    "        mean_of_target = X[self.targetName].mean()\n",
    "        kf = KFold(n_splits = self.n_fold, shuffle = False, random_state=2019)\n",
    "\n",
    "        col_mean_name = self.colnames + '_' + 'Kfold_Target_Enc'\n",
    "        X[col_mean_name] = np.nan\n",
    "\n",
    "        for tr_ind, val_ind in kf.split(X):\n",
    "            X_tr, X_val = X.iloc[tr_ind], X.iloc[val_ind]\n",
    "#             print(tr_ind,val_ind)\n",
    "            X.loc[X.index[val_ind], col_mean_name] = X_val[self.colnames].\\\n",
    "               map(X_tr.groupby(self.colnames)[self.targetName].mean())\n",
    "\n",
    "        X[col_mean_name].fillna(mean_of_target, inplace = True)\n",
    "\n",
    "        if self.verbosity:\n",
    "\n",
    "            encoded_feature = X[col_mean_name].values\n",
    "            print('Correlation between the new feature, {} and, {} is {}.'.\\\n",
    "                  format(col_mean_name,\n",
    "                          self.targetName,\n",
    "                          np.corrcoef(X[self.targetName].values, encoded_feature)[0][1]))\n",
    "            \n",
    "        if self.discardOriginal_col:\n",
    "            X = X.drop(self.targetName, axis=1)\n",
    "            \n",
    "\n",
    "        return X"
   ]
  },
  {
   "cell_type": "code",
   "execution_count": 55,
   "id": "c74a8d82",
   "metadata": {
    "ExecuteTime": {
     "end_time": "2022-12-27T01:40:27.404849Z",
     "start_time": "2022-12-27T01:40:27.390811Z"
    }
   },
   "outputs": [],
   "source": [
    "cols_oho    = ['trabalho', 'estado civil', 'atraso', 'casa', 'empréstimo', 'anterior', 'contato'] \n",
    "cols_ord    = ['educação', 'mês', 'dia', 'duração', 'fe_cluster', 'idade_group' ] \n",
    "cols_woe    = ['fe_pca_0_group']\n",
    "cols_num    = ['ncontatos' ]"
   ]
  },
  {
   "cell_type": "code",
   "execution_count": 56,
   "id": "b4f9d36d",
   "metadata": {
    "ExecuteTime": {
     "end_time": "2022-12-27T01:40:28.755769Z",
     "start_time": "2022-12-27T01:40:28.469106Z"
    }
   },
   "outputs": [
    {
     "data": {
      "text/html": [
       "<style>#sk-container-id-1 {color: black;background-color: white;}#sk-container-id-1 pre{padding: 0;}#sk-container-id-1 div.sk-toggleable {background-color: white;}#sk-container-id-1 label.sk-toggleable__label {cursor: pointer;display: block;width: 100%;margin-bottom: 0;padding: 0.3em;box-sizing: border-box;text-align: center;}#sk-container-id-1 label.sk-toggleable__label-arrow:before {content: \"▸\";float: left;margin-right: 0.25em;color: #696969;}#sk-container-id-1 label.sk-toggleable__label-arrow:hover:before {color: black;}#sk-container-id-1 div.sk-estimator:hover label.sk-toggleable__label-arrow:before {color: black;}#sk-container-id-1 div.sk-toggleable__content {max-height: 0;max-width: 0;overflow: hidden;text-align: left;background-color: #f0f8ff;}#sk-container-id-1 div.sk-toggleable__content pre {margin: 0.2em;color: black;border-radius: 0.25em;background-color: #f0f8ff;}#sk-container-id-1 input.sk-toggleable__control:checked~div.sk-toggleable__content {max-height: 200px;max-width: 100%;overflow: auto;}#sk-container-id-1 input.sk-toggleable__control:checked~label.sk-toggleable__label-arrow:before {content: \"▾\";}#sk-container-id-1 div.sk-estimator input.sk-toggleable__control:checked~label.sk-toggleable__label {background-color: #d4ebff;}#sk-container-id-1 div.sk-label input.sk-toggleable__control:checked~label.sk-toggleable__label {background-color: #d4ebff;}#sk-container-id-1 input.sk-hidden--visually {border: 0;clip: rect(1px 1px 1px 1px);clip: rect(1px, 1px, 1px, 1px);height: 1px;margin: -1px;overflow: hidden;padding: 0;position: absolute;width: 1px;}#sk-container-id-1 div.sk-estimator {font-family: monospace;background-color: #f0f8ff;border: 1px dotted black;border-radius: 0.25em;box-sizing: border-box;margin-bottom: 0.5em;}#sk-container-id-1 div.sk-estimator:hover {background-color: #d4ebff;}#sk-container-id-1 div.sk-parallel-item::after {content: \"\";width: 100%;border-bottom: 1px solid gray;flex-grow: 1;}#sk-container-id-1 div.sk-label:hover label.sk-toggleable__label {background-color: #d4ebff;}#sk-container-id-1 div.sk-serial::before {content: \"\";position: absolute;border-left: 1px solid gray;box-sizing: border-box;top: 0;bottom: 0;left: 50%;z-index: 0;}#sk-container-id-1 div.sk-serial {display: flex;flex-direction: column;align-items: center;background-color: white;padding-right: 0.2em;padding-left: 0.2em;position: relative;}#sk-container-id-1 div.sk-item {position: relative;z-index: 1;}#sk-container-id-1 div.sk-parallel {display: flex;align-items: stretch;justify-content: center;background-color: white;position: relative;}#sk-container-id-1 div.sk-item::before, #sk-container-id-1 div.sk-parallel-item::before {content: \"\";position: absolute;border-left: 1px solid gray;box-sizing: border-box;top: 0;bottom: 0;left: 50%;z-index: -1;}#sk-container-id-1 div.sk-parallel-item {display: flex;flex-direction: column;z-index: 1;position: relative;background-color: white;}#sk-container-id-1 div.sk-parallel-item:first-child::after {align-self: flex-end;width: 50%;}#sk-container-id-1 div.sk-parallel-item:last-child::after {align-self: flex-start;width: 50%;}#sk-container-id-1 div.sk-parallel-item:only-child::after {width: 0;}#sk-container-id-1 div.sk-dashed-wrapped {border: 1px dashed gray;margin: 0 0.4em 0.5em 0.4em;box-sizing: border-box;padding-bottom: 0.4em;background-color: white;}#sk-container-id-1 div.sk-label label {font-family: monospace;font-weight: bold;display: inline-block;line-height: 1.2em;}#sk-container-id-1 div.sk-label-container {text-align: center;}#sk-container-id-1 div.sk-container {/* jupyter's `normalize.less` sets `[hidden] { display: none; }` but bootstrap.min.css set `[hidden] { display: none !important; }` so we also need the `!important` here to be able to override the default hidden behavior on the sphinx rendered scikit-learn.org. See: https://github.com/scikit-learn/scikit-learn/issues/21755 */display: inline-block !important;position: relative;}#sk-container-id-1 div.sk-text-repr-fallback {display: none;}</style><div id=\"sk-container-id-1\" class=\"sk-top-container\"><div class=\"sk-text-repr-fallback\"><pre>Pipeline(steps=[(&#x27;processor&#x27;,\n",
       "                 Pipeline(steps=[(&#x27;transform&#x27;,\n",
       "                                  ColumnTransformer(transformers=[(&#x27;ord&#x27;,\n",
       "                                                                   Pipeline(steps=[(&#x27;imp&#x27;,\n",
       "                                                                                    SimpleImputer(fill_value=&#x27;No &#x27;\n",
       "                                                                                                             &#x27;Data&#x27;,\n",
       "                                                                                                  strategy=&#x27;constant&#x27;)),\n",
       "                                                                                   (&#x27;Ord&#x27;,\n",
       "                                                                                    OrdinalEncoder())]),\n",
       "                                                                   [&#x27;educação&#x27;,\n",
       "                                                                    &#x27;mês&#x27;,\n",
       "                                                                    &#x27;dia&#x27;,\n",
       "                                                                    &#x27;duração&#x27;,\n",
       "                                                                    &#x27;fe_cluster&#x27;,\n",
       "                                                                    &#x27;idade_group&#x27;]),\n",
       "                                                                  (&#x27;oho&#x27;,\n",
       "                                                                   Pipeline(steps=[(&#x27;imp&#x27;,\n",
       "                                                                                    SimpleImputer(fill_value=&#x27;No &#x27;\n",
       "                                                                                                             &#x27;Data&#x27;,\n",
       "                                                                                                  strategy=&#x27;consta...\n",
       "                               gpu_id=None, grow_policy=None,\n",
       "                               importance_type=None,\n",
       "                               interaction_constraints=None, learning_rate=0.01,\n",
       "                               max_bin=None, max_cat_to_onehot=None,\n",
       "                               max_delta_step=None, max_depth=5,\n",
       "                               max_leaves=None, min_child_weight=None,\n",
       "                               missing=nan, monotone_constraints=None,\n",
       "                               n_estimators=1000, n_jobs=-1,\n",
       "                               num_parallel_tree=None, predictor=None,\n",
       "                               random_state=None, reg_alpha=None, reg_lambda=30, ...))])</pre><b>In a Jupyter environment, please rerun this cell to show the HTML representation or trust the notebook. <br />On GitHub, the HTML representation is unable to render, please try loading this page with nbviewer.org.</b></div><div class=\"sk-container\" hidden><div class=\"sk-item sk-dashed-wrapped\"><div class=\"sk-label-container\"><div class=\"sk-label sk-toggleable\"><input class=\"sk-toggleable__control sk-hidden--visually\" id=\"sk-estimator-id-1\" type=\"checkbox\" ><label for=\"sk-estimator-id-1\" class=\"sk-toggleable__label sk-toggleable__label-arrow\">Pipeline</label><div class=\"sk-toggleable__content\"><pre>Pipeline(steps=[(&#x27;processor&#x27;,\n",
       "                 Pipeline(steps=[(&#x27;transform&#x27;,\n",
       "                                  ColumnTransformer(transformers=[(&#x27;ord&#x27;,\n",
       "                                                                   Pipeline(steps=[(&#x27;imp&#x27;,\n",
       "                                                                                    SimpleImputer(fill_value=&#x27;No &#x27;\n",
       "                                                                                                             &#x27;Data&#x27;,\n",
       "                                                                                                  strategy=&#x27;constant&#x27;)),\n",
       "                                                                                   (&#x27;Ord&#x27;,\n",
       "                                                                                    OrdinalEncoder())]),\n",
       "                                                                   [&#x27;educação&#x27;,\n",
       "                                                                    &#x27;mês&#x27;,\n",
       "                                                                    &#x27;dia&#x27;,\n",
       "                                                                    &#x27;duração&#x27;,\n",
       "                                                                    &#x27;fe_cluster&#x27;,\n",
       "                                                                    &#x27;idade_group&#x27;]),\n",
       "                                                                  (&#x27;oho&#x27;,\n",
       "                                                                   Pipeline(steps=[(&#x27;imp&#x27;,\n",
       "                                                                                    SimpleImputer(fill_value=&#x27;No &#x27;\n",
       "                                                                                                             &#x27;Data&#x27;,\n",
       "                                                                                                  strategy=&#x27;consta...\n",
       "                               gpu_id=None, grow_policy=None,\n",
       "                               importance_type=None,\n",
       "                               interaction_constraints=None, learning_rate=0.01,\n",
       "                               max_bin=None, max_cat_to_onehot=None,\n",
       "                               max_delta_step=None, max_depth=5,\n",
       "                               max_leaves=None, min_child_weight=None,\n",
       "                               missing=nan, monotone_constraints=None,\n",
       "                               n_estimators=1000, n_jobs=-1,\n",
       "                               num_parallel_tree=None, predictor=None,\n",
       "                               random_state=None, reg_alpha=None, reg_lambda=30, ...))])</pre></div></div></div><div class=\"sk-serial\"><div class=\"sk-item\"><div class=\"sk-label-container\"><div class=\"sk-label sk-toggleable\"><input class=\"sk-toggleable__control sk-hidden--visually\" id=\"sk-estimator-id-2\" type=\"checkbox\" ><label for=\"sk-estimator-id-2\" class=\"sk-toggleable__label sk-toggleable__label-arrow\">processor: Pipeline</label><div class=\"sk-toggleable__content\"><pre>Pipeline(steps=[(&#x27;transform&#x27;,\n",
       "                 ColumnTransformer(transformers=[(&#x27;ord&#x27;,\n",
       "                                                  Pipeline(steps=[(&#x27;imp&#x27;,\n",
       "                                                                   SimpleImputer(fill_value=&#x27;No &#x27;\n",
       "                                                                                            &#x27;Data&#x27;,\n",
       "                                                                                 strategy=&#x27;constant&#x27;)),\n",
       "                                                                  (&#x27;Ord&#x27;,\n",
       "                                                                   OrdinalEncoder())]),\n",
       "                                                  [&#x27;educação&#x27;, &#x27;mês&#x27;, &#x27;dia&#x27;,\n",
       "                                                   &#x27;duração&#x27;, &#x27;fe_cluster&#x27;,\n",
       "                                                   &#x27;idade_group&#x27;]),\n",
       "                                                 (&#x27;oho&#x27;,\n",
       "                                                  Pipeline(steps=[(&#x27;imp&#x27;,\n",
       "                                                                   SimpleImputer(fill_value=&#x27;No &#x27;\n",
       "                                                                                            &#x27;Data&#x27;,\n",
       "                                                                                 strategy=&#x27;constant&#x27;)),\n",
       "                                                                  (&#x27;OHen&#x27;,\n",
       "                                                                   OneHotEncoder(h...\n",
       "                                                                   WOEEncoder(regularization=0))]),\n",
       "                                                  [&#x27;fe_pca_0_group&#x27;]),\n",
       "                                                 (&#x27;num&#x27;,\n",
       "                                                  Pipeline(steps=[(&#x27;imp&#x27;,\n",
       "                                                                   SimpleImputer(missing_values=0)),\n",
       "                                                                  (&#x27;min&#x27;,\n",
       "                                                                   MaxAbsScaler())]),\n",
       "                                                  [&#x27;ncontatos&#x27;])])),\n",
       "                (&#x27;variancethreshold&#x27;, VarianceThreshold(threshold=0.04)),\n",
       "                (&#x27;selectpercentile&#x27;, SelectPercentile(percentile=85)),\n",
       "                (&#x27;dropfeaturecorr&#x27;, DropConstantFeatures(tol=0.85)),\n",
       "                (&#x27;preprocessor&#x27;, StandardScaler())])</pre></div></div></div><div class=\"sk-serial\"><div class=\"sk-item sk-dashed-wrapped\"><div class=\"sk-label-container\"><div class=\"sk-label sk-toggleable\"><input class=\"sk-toggleable__control sk-hidden--visually\" id=\"sk-estimator-id-3\" type=\"checkbox\" ><label for=\"sk-estimator-id-3\" class=\"sk-toggleable__label sk-toggleable__label-arrow\">transform: ColumnTransformer</label><div class=\"sk-toggleable__content\"><pre>ColumnTransformer(transformers=[(&#x27;ord&#x27;,\n",
       "                                 Pipeline(steps=[(&#x27;imp&#x27;,\n",
       "                                                  SimpleImputer(fill_value=&#x27;No &#x27;\n",
       "                                                                           &#x27;Data&#x27;,\n",
       "                                                                strategy=&#x27;constant&#x27;)),\n",
       "                                                 (&#x27;Ord&#x27;, OrdinalEncoder())]),\n",
       "                                 [&#x27;educação&#x27;, &#x27;mês&#x27;, &#x27;dia&#x27;, &#x27;duração&#x27;,\n",
       "                                  &#x27;fe_cluster&#x27;, &#x27;idade_group&#x27;]),\n",
       "                                (&#x27;oho&#x27;,\n",
       "                                 Pipeline(steps=[(&#x27;imp&#x27;,\n",
       "                                                  SimpleImputer(fill_value=&#x27;No &#x27;\n",
       "                                                                           &#x27;Data&#x27;,\n",
       "                                                                strategy=&#x27;constant&#x27;)),\n",
       "                                                 (&#x27;OHen&#x27;,\n",
       "                                                  OneHotEncoder(handle_unknown=&#x27;ignore&#x27;,\n",
       "                                                                sparse=False))]),\n",
       "                                 [&#x27;trabalho&#x27;, &#x27;estado civil&#x27;, &#x27;atraso&#x27;, &#x27;casa&#x27;,\n",
       "                                  &#x27;empréstimo&#x27;, &#x27;anterior&#x27;, &#x27;contato&#x27;]),\n",
       "                                (&#x27;woe&#x27;,\n",
       "                                 Pipeline(steps=[(&#x27;imp&#x27;,\n",
       "                                                  SimpleImputer(fill_value=&#x27;No &#x27;\n",
       "                                                                           &#x27;Data&#x27;,\n",
       "                                                                strategy=&#x27;constant&#x27;)),\n",
       "                                                 (&#x27;woe&#x27;,\n",
       "                                                  WOEEncoder(regularization=0))]),\n",
       "                                 [&#x27;fe_pca_0_group&#x27;]),\n",
       "                                (&#x27;num&#x27;,\n",
       "                                 Pipeline(steps=[(&#x27;imp&#x27;,\n",
       "                                                  SimpleImputer(missing_values=0)),\n",
       "                                                 (&#x27;min&#x27;, MaxAbsScaler())]),\n",
       "                                 [&#x27;ncontatos&#x27;])])</pre></div></div></div><div class=\"sk-parallel\"><div class=\"sk-parallel-item\"><div class=\"sk-item\"><div class=\"sk-label-container\"><div class=\"sk-label sk-toggleable\"><input class=\"sk-toggleable__control sk-hidden--visually\" id=\"sk-estimator-id-4\" type=\"checkbox\" ><label for=\"sk-estimator-id-4\" class=\"sk-toggleable__label sk-toggleable__label-arrow\">ord</label><div class=\"sk-toggleable__content\"><pre>[&#x27;educação&#x27;, &#x27;mês&#x27;, &#x27;dia&#x27;, &#x27;duração&#x27;, &#x27;fe_cluster&#x27;, &#x27;idade_group&#x27;]</pre></div></div></div><div class=\"sk-serial\"><div class=\"sk-item\"><div class=\"sk-serial\"><div class=\"sk-item\"><div class=\"sk-estimator sk-toggleable\"><input class=\"sk-toggleable__control sk-hidden--visually\" id=\"sk-estimator-id-5\" type=\"checkbox\" ><label for=\"sk-estimator-id-5\" class=\"sk-toggleable__label sk-toggleable__label-arrow\">SimpleImputer</label><div class=\"sk-toggleable__content\"><pre>SimpleImputer(fill_value=&#x27;No Data&#x27;, strategy=&#x27;constant&#x27;)</pre></div></div></div><div class=\"sk-item\"><div class=\"sk-estimator sk-toggleable\"><input class=\"sk-toggleable__control sk-hidden--visually\" id=\"sk-estimator-id-6\" type=\"checkbox\" ><label for=\"sk-estimator-id-6\" class=\"sk-toggleable__label sk-toggleable__label-arrow\">OrdinalEncoder</label><div class=\"sk-toggleable__content\"><pre>OrdinalEncoder()</pre></div></div></div></div></div></div></div></div><div class=\"sk-parallel-item\"><div class=\"sk-item\"><div class=\"sk-label-container\"><div class=\"sk-label sk-toggleable\"><input class=\"sk-toggleable__control sk-hidden--visually\" id=\"sk-estimator-id-7\" type=\"checkbox\" ><label for=\"sk-estimator-id-7\" class=\"sk-toggleable__label sk-toggleable__label-arrow\">oho</label><div class=\"sk-toggleable__content\"><pre>[&#x27;trabalho&#x27;, &#x27;estado civil&#x27;, &#x27;atraso&#x27;, &#x27;casa&#x27;, &#x27;empréstimo&#x27;, &#x27;anterior&#x27;, &#x27;contato&#x27;]</pre></div></div></div><div class=\"sk-serial\"><div class=\"sk-item\"><div class=\"sk-serial\"><div class=\"sk-item\"><div class=\"sk-estimator sk-toggleable\"><input class=\"sk-toggleable__control sk-hidden--visually\" id=\"sk-estimator-id-8\" type=\"checkbox\" ><label for=\"sk-estimator-id-8\" class=\"sk-toggleable__label sk-toggleable__label-arrow\">SimpleImputer</label><div class=\"sk-toggleable__content\"><pre>SimpleImputer(fill_value=&#x27;No Data&#x27;, strategy=&#x27;constant&#x27;)</pre></div></div></div><div class=\"sk-item\"><div class=\"sk-estimator sk-toggleable\"><input class=\"sk-toggleable__control sk-hidden--visually\" id=\"sk-estimator-id-9\" type=\"checkbox\" ><label for=\"sk-estimator-id-9\" class=\"sk-toggleable__label sk-toggleable__label-arrow\">OneHotEncoder</label><div class=\"sk-toggleable__content\"><pre>OneHotEncoder(handle_unknown=&#x27;ignore&#x27;, sparse=False)</pre></div></div></div></div></div></div></div></div><div class=\"sk-parallel-item\"><div class=\"sk-item\"><div class=\"sk-label-container\"><div class=\"sk-label sk-toggleable\"><input class=\"sk-toggleable__control sk-hidden--visually\" id=\"sk-estimator-id-10\" type=\"checkbox\" ><label for=\"sk-estimator-id-10\" class=\"sk-toggleable__label sk-toggleable__label-arrow\">woe</label><div class=\"sk-toggleable__content\"><pre>[&#x27;fe_pca_0_group&#x27;]</pre></div></div></div><div class=\"sk-serial\"><div class=\"sk-item\"><div class=\"sk-serial\"><div class=\"sk-item\"><div class=\"sk-estimator sk-toggleable\"><input class=\"sk-toggleable__control sk-hidden--visually\" id=\"sk-estimator-id-11\" type=\"checkbox\" ><label for=\"sk-estimator-id-11\" class=\"sk-toggleable__label sk-toggleable__label-arrow\">SimpleImputer</label><div class=\"sk-toggleable__content\"><pre>SimpleImputer(fill_value=&#x27;No Data&#x27;, strategy=&#x27;constant&#x27;)</pre></div></div></div><div class=\"sk-item\"><div class=\"sk-estimator sk-toggleable\"><input class=\"sk-toggleable__control sk-hidden--visually\" id=\"sk-estimator-id-12\" type=\"checkbox\" ><label for=\"sk-estimator-id-12\" class=\"sk-toggleable__label sk-toggleable__label-arrow\">WOEEncoder</label><div class=\"sk-toggleable__content\"><pre>WOEEncoder(regularization=0)</pre></div></div></div></div></div></div></div></div><div class=\"sk-parallel-item\"><div class=\"sk-item\"><div class=\"sk-label-container\"><div class=\"sk-label sk-toggleable\"><input class=\"sk-toggleable__control sk-hidden--visually\" id=\"sk-estimator-id-13\" type=\"checkbox\" ><label for=\"sk-estimator-id-13\" class=\"sk-toggleable__label sk-toggleable__label-arrow\">num</label><div class=\"sk-toggleable__content\"><pre>[&#x27;ncontatos&#x27;]</pre></div></div></div><div class=\"sk-serial\"><div class=\"sk-item\"><div class=\"sk-serial\"><div class=\"sk-item\"><div class=\"sk-estimator sk-toggleable\"><input class=\"sk-toggleable__control sk-hidden--visually\" id=\"sk-estimator-id-14\" type=\"checkbox\" ><label for=\"sk-estimator-id-14\" class=\"sk-toggleable__label sk-toggleable__label-arrow\">SimpleImputer</label><div class=\"sk-toggleable__content\"><pre>SimpleImputer(missing_values=0)</pre></div></div></div><div class=\"sk-item\"><div class=\"sk-estimator sk-toggleable\"><input class=\"sk-toggleable__control sk-hidden--visually\" id=\"sk-estimator-id-15\" type=\"checkbox\" ><label for=\"sk-estimator-id-15\" class=\"sk-toggleable__label sk-toggleable__label-arrow\">MaxAbsScaler</label><div class=\"sk-toggleable__content\"><pre>MaxAbsScaler()</pre></div></div></div></div></div></div></div></div></div></div><div class=\"sk-item\"><div class=\"sk-estimator sk-toggleable\"><input class=\"sk-toggleable__control sk-hidden--visually\" id=\"sk-estimator-id-16\" type=\"checkbox\" ><label for=\"sk-estimator-id-16\" class=\"sk-toggleable__label sk-toggleable__label-arrow\">VarianceThreshold</label><div class=\"sk-toggleable__content\"><pre>VarianceThreshold(threshold=0.04)</pre></div></div></div><div class=\"sk-item\"><div class=\"sk-estimator sk-toggleable\"><input class=\"sk-toggleable__control sk-hidden--visually\" id=\"sk-estimator-id-17\" type=\"checkbox\" ><label for=\"sk-estimator-id-17\" class=\"sk-toggleable__label sk-toggleable__label-arrow\">SelectPercentile</label><div class=\"sk-toggleable__content\"><pre>SelectPercentile(percentile=85)</pre></div></div></div><div class=\"sk-item\"><div class=\"sk-estimator sk-toggleable\"><input class=\"sk-toggleable__control sk-hidden--visually\" id=\"sk-estimator-id-18\" type=\"checkbox\" ><label for=\"sk-estimator-id-18\" class=\"sk-toggleable__label sk-toggleable__label-arrow\">DropConstantFeatures</label><div class=\"sk-toggleable__content\"><pre>DropConstantFeatures(tol=0.85)</pre></div></div></div><div class=\"sk-item\"><div class=\"sk-estimator sk-toggleable\"><input class=\"sk-toggleable__control sk-hidden--visually\" id=\"sk-estimator-id-19\" type=\"checkbox\" ><label for=\"sk-estimator-id-19\" class=\"sk-toggleable__label sk-toggleable__label-arrow\">StandardScaler</label><div class=\"sk-toggleable__content\"><pre>StandardScaler()</pre></div></div></div></div></div><div class=\"sk-item\"><div class=\"sk-estimator sk-toggleable\"><input class=\"sk-toggleable__control sk-hidden--visually\" id=\"sk-estimator-id-20\" type=\"checkbox\" ><label for=\"sk-estimator-id-20\" class=\"sk-toggleable__label sk-toggleable__label-arrow\">XGBClassifier</label><div class=\"sk-toggleable__content\"><pre>XGBClassifier(base_score=None, booster=None, callbacks=None,\n",
       "              colsample_bylevel=None, colsample_bynode=None,\n",
       "              colsample_bytree=0.75, early_stopping_rounds=None,\n",
       "              enable_categorical=False, eval_metric=[&#x27;error&#x27;, &#x27;logloss&#x27;],\n",
       "              gamma=None, gpu_id=None, grow_policy=None, importance_type=None,\n",
       "              interaction_constraints=None, learning_rate=0.01, max_bin=None,\n",
       "              max_cat_to_onehot=None, max_delta_step=None, max_depth=5,\n",
       "              max_leaves=None, min_child_weight=None, missing=nan,\n",
       "              monotone_constraints=None, n_estimators=1000, n_jobs=-1,\n",
       "              num_parallel_tree=None, predictor=None, random_state=None,\n",
       "              reg_alpha=None, reg_lambda=30, ...)</pre></div></div></div></div></div></div></div>"
      ],
      "text/plain": [
       "Pipeline(steps=[('processor',\n",
       "                 Pipeline(steps=[('transform',\n",
       "                                  ColumnTransformer(transformers=[('ord',\n",
       "                                                                   Pipeline(steps=[('imp',\n",
       "                                                                                    SimpleImputer(fill_value='No '\n",
       "                                                                                                             'Data',\n",
       "                                                                                                  strategy='constant')),\n",
       "                                                                                   ('Ord',\n",
       "                                                                                    OrdinalEncoder())]),\n",
       "                                                                   ['educação',\n",
       "                                                                    'mês',\n",
       "                                                                    'dia',\n",
       "                                                                    'duração',\n",
       "                                                                    'fe_cluster',\n",
       "                                                                    'idade_group']),\n",
       "                                                                  ('oho',\n",
       "                                                                   Pipeline(steps=[('imp',\n",
       "                                                                                    SimpleImputer(fill_value='No '\n",
       "                                                                                                             'Data',\n",
       "                                                                                                  strategy='consta...\n",
       "                               gpu_id=None, grow_policy=None,\n",
       "                               importance_type=None,\n",
       "                               interaction_constraints=None, learning_rate=0.01,\n",
       "                               max_bin=None, max_cat_to_onehot=None,\n",
       "                               max_delta_step=None, max_depth=5,\n",
       "                               max_leaves=None, min_child_weight=None,\n",
       "                               missing=nan, monotone_constraints=None,\n",
       "                               n_estimators=1000, n_jobs=-1,\n",
       "                               num_parallel_tree=None, predictor=None,\n",
       "                               random_state=None, reg_alpha=None, reg_lambda=30, ...))])"
      ]
     },
     "execution_count": 56,
     "metadata": {},
     "output_type": "execute_result"
    }
   ],
   "source": [
    "# Preprocessing data:\n",
    "numerical_transformer = SimpleImputer(strategy='constant')\n",
    "\n",
    "transformer_ord = Pipeline(steps=[\n",
    "    ('imp',SimpleImputer(strategy='constant', fill_value='No Data')),\n",
    "    ('Ord', OrdinalEncoder())\n",
    "])\n",
    "\n",
    "transformer_nho = Pipeline(steps=[\n",
    "    ('imp',SimpleImputer(strategy='constant', fill_value='No Data')),\n",
    "    ('OHen',OneHotEncoder(handle_unknown='ignore',sparse=False))\n",
    "])\n",
    "\n",
    "transformer_woe = Pipeline(steps=[\n",
    "    ('imp',SimpleImputer(strategy='constant', fill_value='No Data')),    \n",
    "    ('woe', ce.WOEEncoder(regularization=0))\n",
    "])\n",
    "\n",
    "transformer_tar = Pipeline(steps=[    \n",
    "    ('imp',SimpleImputer(strategy='constant', fill_value='No Data')),   \n",
    "    ('imputer', ce.LeaveOneOutEncoder())\n",
    "])\n",
    "\n",
    "transformer_num = Pipeline(steps=[    \n",
    "    ('imp',SimpleImputer(strategy='mean',  missing_values=0)),\n",
    "    ('min', MaxAbsScaler())\n",
    "])\n",
    "    \n",
    "processor=ColumnTransformer(\n",
    "    transformers=[    \n",
    "        ('ord', transformer_ord, cols_ord ),\n",
    "        ('oho', transformer_nho, cols_oho), \n",
    "        ('woe', transformer_woe, cols_woe ),\n",
    "        ('num', transformer_num, cols_num ),\n",
    "        ], \n",
    "    remainder='drop', \n",
    "    sparse_threshold=0.3\n",
    ")\n",
    "\n",
    "percentage = .5\n",
    "over       = SMOTE(sampling_strategy=percentage, k_neighbors=5, n_jobs=-1, random_state=seed) \n",
    "under      = RandomUnderSampler(sampling_strategy=percentage, random_state=seed)\n",
    "\n",
    "# Processamento\n",
    "selectKbest      = ('SelectKBest', SelectKBest(score_func=f_classif, k=12))\n",
    "transf_column    = ('transform', processor)\n",
    "var_threshold    = ('variancethreshold', VarianceThreshold(threshold=0.04)) \n",
    "sel_percentile   = ('selectpercentile', SelectPercentile(f_classif, percentile=85))\n",
    "drop_feature_cor = ('dropfeaturecorr', DropConstantFeatures(tol=0.85))\n",
    "scaler           = ('preprocessor', StandardScaler())\n",
    "\n",
    "# Pipelne final\n",
    "pipeline_processor = Pipeline(steps=[\n",
    "    transf_column, \n",
    "    var_threshold, \n",
    "    sel_percentile, \n",
    "    drop_feature_cor,\n",
    "    scaler\n",
    "])\n",
    "\n",
    "pipeline_xgb = Pipeline(steps=[('processor', pipeline_processor), ('model', model_xgb)])\n",
    "\n",
    "pipeline_xgb"
   ]
  },
  {
   "cell_type": "code",
   "execution_count": 57,
   "id": "abc5171b",
   "metadata": {
    "ExecuteTime": {
     "end_time": "2022-12-27T01:40:29.829776Z",
     "start_time": "2022-12-27T01:40:29.673780Z"
    }
   },
   "outputs": [
    {
     "name": "stdout",
     "output_type": "stream",
     "text": [
      "Feature      : 35\n",
      "Feature final: 19\n"
     ]
    }
   ],
   "source": [
    "_ = processor.fit_transform(X,y)\n",
    "col_origen = _.shape[1]\n",
    "_ = pd.DataFrame(pipeline_processor.fit_transform(X,y))\n",
    "col_end = _.shape[1]\n",
    "\n",
    "print('Feature      : {}'.format(col_origen))\n",
    "print('Feature final: {}'.format(col_end))"
   ]
  },
  {
   "cell_type": "markdown",
   "id": "4bdbe8aa",
   "metadata": {
    "ExecuteTime": {
     "end_time": "2022-12-20T02:44:50.504349Z",
     "start_time": "2022-12-20T02:44:50.496325Z"
    }
   },
   "source": [
    "<div style=\"color:white;border-radius:8px;background-color:#a7d5ed\">    \n",
    "    <h1 style=\"padding:12px;color:black;\">4. TURNNING </h1>    \n",
    "</div>"
   ]
  },
  {
   "cell_type": "markdown",
   "id": "3f1729a8",
   "metadata": {},
   "source": [
    "No turning dos parametros dos modelos, vamos utilizar todos os dadas para encontrar os melhores parametros para cadas modelo, para termos certeza que os parametros são bons, vamos treinar navamente o modelo com amostra de 50% dos dados e validar em nos outros 50% dos dados, assim vamos ter uma noção se o modelo com os parametros tunados são bons, isto é, se o modelo tem overfitting ou underfitting. Observe que neste momento a maior precupação é ter um modelo que consiga generalizar para dados não visto no treinamento. <p>\n",
    "    \n",
    "Um ponto importante nesta fase é que estamos salvado todas a previsões em uma estrutura de nível, nesta etapa estamos no primeiro nível. O meu objetivo neste caso é criar no final uma <b>stacking</b> com essas previsões. \n"
   ]
  },
  {
   "cell_type": "markdown",
   "id": "8b7cc249",
   "metadata": {
    "ExecuteTime": {
     "end_time": "2022-12-21T19:30:07.085050Z",
     "start_time": "2022-12-21T19:30:07.078015Z"
    }
   },
   "source": [
    "## 4.1 Classe de turnning"
   ]
  },
  {
   "cell_type": "code",
   "execution_count": 58,
   "id": "8140a2d3",
   "metadata": {
    "ExecuteTime": {
     "end_time": "2022-12-27T01:40:34.011401Z",
     "start_time": "2022-12-27T01:40:33.997395Z"
    }
   },
   "outputs": [],
   "source": [
    "optuna.logging.set_verbosity(optuna.logging.WARNING)"
   ]
  },
  {
   "cell_type": "code",
   "execution_count": 59,
   "id": "634e3ec4",
   "metadata": {
    "ExecuteTime": {
     "end_time": "2022-12-27T01:40:34.930985Z",
     "start_time": "2022-12-27T01:40:34.917983Z"
    },
    "code_folding": [
     0,
     2
    ]
   },
   "outputs": [],
   "source": [
    "class LastPlacePruner(BasePruner):\n",
    "    # https://optuna.readthedocs.io/en/stable/tutorial/20_recipes/006_user_defined_pruner.html#sphx-glr-tutorial-20-recipes-006-user-defined-pruner-py    \n",
    "    def __init__(self, warmup_steps, warmup_trials):\n",
    "        self._warmup_steps = warmup_steps\n",
    "        self._warmup_trials = warmup_trials\n",
    "\n",
    "    def prune(self, study: \"optuna.study.Study\", trial: \"optuna.trial.FrozenTrial\") -> bool:\n",
    "        # Obtenha a pontuação mais recente relatada neste teste\n",
    "        step = trial.last_step\n",
    "\n",
    "        if step:  # trial.last_step == None when no scores have been reported yet\n",
    "            this_score = trial.intermediate_values[step]\n",
    "\n",
    "            # Get scores from other trials in the study reported at the same step\n",
    "            completed_trials = study.get_trials(deepcopy=False, states=(TrialState.COMPLETE,))\n",
    "            other_scores = [\n",
    "                t.intermediate_values[step]\n",
    "                for t in completed_trials\n",
    "                if step in t.intermediate_values\n",
    "            ]\n",
    "            other_scores = sorted(other_scores)\n",
    "\n",
    "            # Prune if this trial at this step has a lower value than all completed trials\n",
    "            # at the same step. Note that steps will begin numbering at 0 in the objective\n",
    "            # function definition below.\n",
    "            if step >= self._warmup_steps and len(other_scores) > self._warmup_trials:\n",
    "                if this_score < other_scores[0]:\n",
    "                    #print(f\"prune() True: Trial {trial.number}, Step {step}, Score {this_score}\")\n",
    "                    return True\n",
    "\n",
    "        return False"
   ]
  },
  {
   "cell_type": "code",
   "execution_count": 68,
   "id": "13d42ebe",
   "metadata": {
    "ExecuteTime": {
     "end_time": "2022-12-27T01:43:07.799484Z",
     "start_time": "2022-12-27T01:43:07.750484Z"
    },
    "code_folding": [
     2,
     23,
     25,
     107,
     153,
     197,
     239
    ]
   },
   "outputs": [],
   "source": [
    "class TunningModels(): # nn.Module\n",
    "        \n",
    "    def __init__(self, name_model_, X_trn_, y_trn_, X_ts_, target_,\n",
    "                 seed_=12359, path_='', level_='1', sc_second_= None, \n",
    "                 n_splits_=10, verbose_=False, cutoff_value_save_=.6, \n",
    "                 train_with_created_folds_=False):\n",
    "        \n",
    "        super(TunningModels,self).__init__() \n",
    "\n",
    "        self.name_clf                 = name_model\n",
    "        self.X_trn                    = X_trn_\n",
    "        self.y_trn                    = y_trn_\n",
    "        self.X_ts                     = X_ts_                 \n",
    "        self.seed                     = seed_\n",
    "        self.target                   = target_\n",
    "        self.path                     = path_\n",
    "        self.level                    = level_\n",
    "        self.sc_second                = sc_second_\n",
    "        self.n_splits                 = n_splits_\n",
    "        self.verbose                  = verbose_ \n",
    "        self.cutoff_value_save        = cutoff_value_save_\n",
    "        self.train_with_created_folds = train_with_created_folds_\n",
    "        \n",
    "    def delete_files(namefile):\n",
    "\n",
    "        path = ['model/train', 'model/test', 'model/valid', 'model/params', 'model/score',\n",
    "                'model/test_f', 'model/cv_model', 'model/preds', 'model/optuna', \n",
    "                'model/preds/train', 'model/preds/test', 'model/preds/test/n1', \n",
    "                'model/preds/test/n2', 'model/preds/test/n3', 'model/preds/train/n1', \n",
    "                'model/preds/train/n2', 'model/preds/train/n3','model/preds/param', \n",
    "                'Data/submission/tunning', 'Data/submission', 'model/mdl'\n",
    "                \n",
    "               ]\n",
    "\n",
    "        for path_ in path:\n",
    "            for raiz, diretorios, arquivos in os.walk(path_):\n",
    "                for arquivo in arquivos:\n",
    "                    if arquivo.startswith(namefile):                    \n",
    "                        os.remove(os.path.join(raiz, arquivo))\n",
    "                        \n",
    "    def xgb(self, trial):\n",
    "\n",
    "        # https://xgboost.readthedocs.io/en/latest/parameter.html\n",
    "        # https://amangupta16.medium.com/xgboost-hyperparameters-explained-bb6ce580501d     \n",
    "        # https://aetperf.github.io/2021/02/16/Optuna-+-XGBoost-on-a-tabular-dataset.html\n",
    "        # https://www.analyticsvidhya.com/blog/2016/03/complete-guide-parameter-tuning-xgboost-with-codes-python/\n",
    "        # https://github.com/optuna/optuna/issues/2793\n",
    "        # https://programtalk.com/python-more-examples/optuna.integration.XGBoostPruningCallback/\n",
    "        \n",
    "        counter          = Counter(self.y_trn)\n",
    "        scale_pos_weight = (counter[0]/counter[1]) \n",
    "        \n",
    "        params = {\n",
    "            'objective'         : trial.suggest_categorical('objective', ['binary:logistic']),\n",
    "            'eval_metric'       : trial.suggest_categorical('eval_metric', ['error']), \n",
    "            'scale_pos_weight'  : trial.suggest_float('scale_pos_weight', scale_pos_weight, scale_pos_weight),\n",
    "            'max_depth'         : trial.suggest_int('max_depth', 2, 10),                   \n",
    "            'n_estimators'      : trial.suggest_int('n_estimators', 100, 1500, 100),                       \n",
    "            'learning_rate'     : trial.suggest_float('learning_rate', .0001, 0.1),\n",
    "            'colsample_bytree'  : trial.suggest_float('colsample_bytree', 0.6, 1.0),\n",
    "            'subsample'         : trial.suggest_discrete_uniform('subsample', .7, 1.0, .05),\n",
    "            'reg_lambda'        : trial.suggest_int('reg_lambda', 1, 100, 10), \n",
    "            'min_child_weight'  : trial.suggest_int('min_child_weight', 1, 10), \n",
    "            'n_jobs'            : trial.suggest_int('n_jobs', -1, -1 ), \n",
    "            'seed'              : trial.suggest_int('seed', self.seed, self.seed)\n",
    "        }\n",
    "            \n",
    "        if torch.cuda.is_available():           \n",
    "            params.update(\n",
    "                {'tree_method': trial.suggest_categorical('tree_method', ['gpu_hist']),\n",
    "                 'predictor'  : trial.suggest_categorical('predictor', ['gpu_predictor'])}\n",
    "            )\n",
    "                           \n",
    "              \n",
    "        pruning_callback = optuna.integration.XGBoostPruningCallback(trial, 'validation_0-error')\n",
    "        \n",
    "        pruning_callback = XGBoostPruningCallback(trial, 'validation_0-error') # + evalMetric)\n",
    "                \n",
    "        mdl          = xgb.XGBClassifier(**params)        \n",
    "        pipeline_xgb = Pipeline(steps=[('processor', pipeline_processor), ('model', mdl)])                        \n",
    "        models       = [('XGB', pipeline_xgb, 1, self.name_clf , pipeline_processor, 15)]\n",
    "        \n",
    "        #models       = [('XGB-1', mdl, 5, self.name_clf , pipeline_processor, 15)]\n",
    "\n",
    "        mdl_list_fit, df_pred_tr, df_pred_ts, df_score_mdl, score = \\\n",
    "            model_cv_fit(models_                   = models, \n",
    "                         X_                        = self.X_trn,\n",
    "                         y_                        = self.y_trn, \n",
    "                         X_test_                   = self.X_ts,                  \n",
    "                         path_                     = self.path, \n",
    "                         seed_                     = self.seed,\n",
    "                         target_                   = self.target,\n",
    "                         create_sub_               = True, \n",
    "                         n_splits_                 = self.n_splits,\n",
    "                         print_report_             = True, \n",
    "                         is_tunning_               = True, \n",
    "                         cutoff_value_save_        = self.cutoff_value_save,\n",
    "                         train_with_created_folds_ = self.train_with_created_folds\n",
    "                         #callbacks_        = pruning_callback\n",
    "                        )\n",
    "\n",
    "        if self.verbose:\n",
    "            print('score: {:5f} => param = {}'.format(score, params))            \n",
    "            print()\n",
    "\n",
    "        return score\n",
    "    \n",
    "    def lgbm(self, trial):\n",
    "        \n",
    "        counter          = Counter(self.y_trn)\n",
    "        scale_pos_weight = (counter[0]/counter[1]) \n",
    "        \n",
    "        params = {\n",
    "            'objective'         : trial.suggest_categorical('objective', ['binary']),\n",
    "            'metric'            : trial.suggest_categorical('metric', ['binary_logloss']),             \n",
    "            'scale_pos_weight'  : trial.suggest_float('scale_pos_weight', scale_pos_weight, scale_pos_weight),\n",
    "            'colsample_bytree'  : trial.suggest_float('colsample_bytree', 0.6, 1.0),\n",
    "            'learning_rate'     : trial.suggest_float('learning_rate', .00001, 0.1),\n",
    "            'max_depth'         : trial.suggest_int('max_depth', 2, 10),                   \n",
    "            'n_estimators'      : trial.suggest_int('n_estimators', 100, 2500, 100),                       \n",
    "            'min_child_weight'  : trial.suggest_int('min_child_weight', 1, 20), \n",
    "            'subsample'         : trial.suggest_discrete_uniform('subsample', .7, 1.0, .05),\n",
    "            'reg_lambda'        : trial.suggest_int('reg_lambda', 1, 100, 10), \n",
    "            'n_jobs'            : trial.suggest_int('n_jobs', -1, -1 ), \n",
    "            'random_state'      : trial.suggest_int('seed', self.seed, self.seed)\n",
    "        }\n",
    "                \n",
    "        mdl      = lgb.LGBMClassifier(**params)\n",
    "        pipeline = Pipeline(steps=[('processor', pipeline_processor), ('model', mdl)])                        \n",
    "        models   = [('LGBM-1', pipeline, 1, self.name_clf , pipeline_processor, 15)]\n",
    "       \n",
    "        mdl_list_fit, df_pred_tr, df_pred_ts, df_score_mdl, score = \\\n",
    "            model_cv_fit(models_                   = models, \n",
    "                         X_                        = self.X_trn,\n",
    "                         y_                        = self.y_trn, \n",
    "                         X_test_                   = self.X_ts,                  \n",
    "                         path_                     = self.path, \n",
    "                         seed_                     = self.seed,\n",
    "                         target_                   = self.target,\n",
    "                         create_sub_               = True, \n",
    "                         n_splits_                 = self.n_splits,\n",
    "                         print_report_             = True, \n",
    "                         cutoff_value_save_        = self.cutoff_value_save,\n",
    "                         is_tunning_               = True, \n",
    "                         train_with_created_folds_ = self.train_with_created_folds\n",
    "                        )\n",
    "\n",
    "        if self.verbose:\n",
    "            print('score: {:5f} => param = {}'.format(score, params))            \n",
    "            print()\n",
    "\n",
    "        return score\n",
    "        \n",
    "    def ext(self, trial):\n",
    "        # https://www.kaggle.com/code/juanmah/tactic-03-hyperparameter-optimization-xtra-trees\n",
    "        \n",
    "        counter          = Counter(self.y_trn)\n",
    "        scale_pos_weight = (counter[0]/counter[1]) \n",
    "                        \n",
    "        params = {                 \n",
    "            'criterion'         : trial.suggest_categorical('criterion', ['gini']),\n",
    "            'n_estimators'      : trial.suggest_int('n_estimators', 100, 2000, 100),\n",
    "            'max_depth'         : trial.suggest_int('max_depth', 2, 15),            \n",
    "            'class_weight'      : trial.suggest_categorical('class_weight', ['balanced']),\n",
    "            'bootstrap'         : trial.suggest_categorical('bootstrap', [True]),\n",
    "            'oob_score'         : trial.suggest_categorical('oob_score', [True]),\n",
    "            'warm_start'        : trial.suggest_categorical('warm_start', [True]),            \n",
    "            'n_jobs'            : trial.suggest_int('n_jobs', -1, -1 ), \n",
    "            'random_state'      : trial.suggest_int('seed', self.seed, self.seed)\n",
    "        }\n",
    "                       \n",
    "        mdl      = ExtraTreesClassifier(**params)\n",
    "        pipeline = Pipeline(steps=[('processor', pipeline_processor), ('model', mdl)])                        \n",
    "        models   = [('Extra-Trees', pipeline, 1, self.name_clf , pipeline_processor, 15)]\n",
    "\n",
    "        mdl_list_fit, df_pred_tr, df_pred_ts, df_score_mdl, score = \\\n",
    "            model_cv_fit(models_                   = models, \n",
    "                         X_                        = self.X_trn,\n",
    "                         y_                        = self.y_trn, \n",
    "                         X_test_                   = self.X_ts,                  \n",
    "                         path_                     = self.path, \n",
    "                         seed_                     = self.seed,\n",
    "                         target_                   = self.target,\n",
    "                         create_sub_               = True, \n",
    "                         n_splits_                 = self.n_splits,\n",
    "                         print_report_             = True, \n",
    "                         cutoff_value_save_        = self.cutoff_value_save,\n",
    "                         is_tunning_               = True, \n",
    "                         train_with_created_folds_ = self.train_with_created_folds\n",
    "                        )\n",
    "\n",
    "        if self.verbose:\n",
    "            print('score: {:5f} => param = {}'.format(score, params))            \n",
    "            print()\n",
    "\n",
    "        return score\n",
    "    \n",
    "    def hgb(self, trial):\n",
    "                               \n",
    "        params = {                       \n",
    "            'scoring'             : trial.suggest_categorical('scoring', ['loss']),\n",
    "            'max_depth'           : trial.suggest_int('max_depth', 2, 7),               \n",
    "            'max_iter'            : trial.suggest_int('max_iter', 100, 1000, 50),\n",
    "            'learning_rate'       : trial.suggest_float('learning_rate', .001, 1.),\n",
    "            'early_stopping'      : trial.suggest_int('early_stopping', 30, 30),\n",
    "            'validation_fraction' : trial.suggest_float('validation_fraction', .5, .5),\n",
    "            'l2_regularization'   : trial.suggest_float('l2_regularization', .05, 1),\n",
    "            #'warm_start'          : trial.suggest_categorical('warm_start', [True]),\n",
    "            'random_state'        : trial.suggest_int('random_state', self.seed, self.seed)\n",
    "        }\n",
    "                      \n",
    "        mdl      = HistGradientBoostingClassifier(**params)\n",
    "        pipeline = Pipeline(steps=[('processor', pipeline_processor), ('model', mdl)])                        \n",
    "        models   = [('Extra-Trees', pipeline, 1, self.name_clf , pipeline_processor, 15)]\n",
    "               \n",
    "        mdl_list_fit, df_pred_tr, df_pred_ts, df_score_mdl, score = \\\n",
    "            model_cv_fit(models_                   = models, \n",
    "                         X_                        = self.X_trn,\n",
    "                         y_                        = self.y_trn, \n",
    "                         X_test_                   = self.X_ts,                  \n",
    "                         path_                     = self.path, \n",
    "                         seed_                     = self.seed,\n",
    "                         target_                   = self.target,\n",
    "                         create_sub_               = True, \n",
    "                         n_splits_                 = self.n_splits,\n",
    "                         print_report_             = True, \n",
    "                         cutoff_value_save_        = self.cutoff_value_save,\n",
    "                         is_tunning_               = True, \n",
    "                         train_with_created_folds_ = self.train_with_created_folds\n",
    "                         #callbacks_    = pruning_callback\n",
    "                        )\n",
    "                        \n",
    "\n",
    "        if self.verbose:\n",
    "            print('score: {:5f} => param = {}'.format(score, params))            \n",
    "            print()\n",
    "\n",
    "        return score\n",
    "    \n",
    "    def mlp(self, trial):\n",
    "         \n",
    "        hidden_layers = [(10,15),(10,20),(10,25),(10,50),(10,20,30),(25,50,50,75)]\n",
    "        \n",
    "        params = {\n",
    "            'hidden_layer_sizes' : trial.suggest_categorical('hidden_layer_sizes', hidden_layers),\n",
    "            'activation'         : trial.suggest_categorical('activation', [\"relu\", \"identity\"]),\n",
    "            'learning_rate'      : trial.suggest_categorical('learning_rate', ['constant','invscaling','adaptive']),\n",
    "            'learning_rate_init' : trial.suggest_float('learning_rate_init', 0.001, 0.01),\n",
    "            'random_state'       : trial.suggest_int('random_state', self.seed, self.seed)\n",
    "        }\n",
    "                \n",
    "        mdl          = MLPClassifier(**params)       \n",
    "        pipeline_xgb = Pipeline(steps=[('processor', pipeline_processor), ('model', mdl)])                        \n",
    "        models       = [('MLP', pipeline_xgb, 1, self.name_clf , pipeline_processor, 15)]\n",
    "\n",
    "        mdl_list_fit, df_pred_tr, df_pred_ts, df_score_mdl, score = \\\n",
    "            model_cv_fit(models_                   = models, \n",
    "                         X_                        = self.X_trn,\n",
    "                         y_                        = self.y_trn, \n",
    "                         X_test_                   = self.X_ts,                  \n",
    "                         path_                     = self.path, \n",
    "                         seed_                     = self.seed,\n",
    "                         target_                   = self.target,\n",
    "                         create_sub_               = True, \n",
    "                         n_splits_                 = self.n_splits,\n",
    "                         print_report_             = True, \n",
    "                         cutoff_value_save_        = self.cutoff_value_save,\n",
    "                         is_tunning_               = True, \n",
    "                         train_with_created_folds_ = self.train_with_created_folds\n",
    "                        )\n",
    "\n",
    "        if self.verbose:\n",
    "            print('score: {:5f} => param = {}'.format(score, params))            \n",
    "            print()\n",
    "\n",
    "        return score    "
   ]
  },
  {
   "cell_type": "markdown",
   "id": "a438a7ea",
   "metadata": {},
   "source": [
    "## 4.2. Modelo XGB"
   ]
  },
  {
   "cell_type": "code",
   "execution_count": 61,
   "id": "2930d133",
   "metadata": {
    "ExecuteTime": {
     "end_time": "2022-12-27T01:40:50.692889Z",
     "start_time": "2022-12-27T01:40:36.689695Z"
    }
   },
   "outputs": [
    {
     "name": "stdout",
     "output_type": "stream",
     "text": [
      "\n",
      "=> XGB\n",
      "==========================================================================================\n",
      "Fold 1 => F1-score: 0.72615 - F1-Train: 0.75894 - AUC:0.80399 - L.Loss: 0.42332 - 0h 0m 1s\n",
      "Fold 2 => F1-score: 0.72054 - F1-Train: 0.76400 - AUC:0.79471 - L.Loss: 0.40491 - 0h 0m 1s\n",
      "Fold 3 => F1-score: 0.76094 - F1-Train: 0.75966 - AUC:0.82859 - L.Loss: 0.38150 - 0h 0m 1s\n",
      "Fold 4 => F1-score: 0.74006 - F1-Train: 0.76300 - AUC:0.81715 - L.Loss: 0.43793 - 0h 0m 1s\n",
      "Fold 5 => F1-score: 0.71924 - F1-Train: 0.75830 - AUC:0.79650 - L.Loss: 0.42558 - 0h 0m 1s\n",
      "Fold 6 => F1-score: 0.74359 - F1-Train: 0.76000 - AUC:0.81722 - L.Loss: 0.39939 - 0h 0m 1s\n",
      "Fold 7 => F1-score: 0.75083 - F1-Train: 0.76064 - AUC:0.82104 - L.Loss: 0.39119 - 0h 0m 1s\n",
      "Fold 8 => F1-score: 0.69707 - F1-Train: 0.76636 - AUC:0.77584 - L.Loss: 0.48320 - 0h 0m 1s\n",
      "Fold 9 => F1-score: 0.70740 - F1-Train: 0.76214 - AUC:0.78523 - L.Loss: 0.44873 - 0h 0m 1s\n",
      "Fold 10 => F1-score: 0.70032 - F1-Train: 0.76454 - AUC:0.78083 - L.Loss: 0.47319 - 0h 0m 1s\n",
      "------------------------------------------------------------------------------------------\n",
      "\u001b[32m\u001b[1m[Mean] => F1-score: 0.72661 (+-0.02064) - F1-Train: 0.76176 - L.Loss: 0.42689 - 0h 0m 13s\u001b[0m\n",
      "==========================================================================================\n",
      "\n",
      "              precision    recall  f1-score   support\n",
      "\n",
      "           0       0.91      0.75      0.82      2650\n",
      "           1       0.63      0.85      0.73      1329\n",
      "\n",
      "    accuracy                           0.79      3979\n",
      "   macro avg       0.77      0.80      0.78      3979\n",
      "weighted avg       0.82      0.79      0.79      3979\n",
      "\n",
      "[[1998  652]\n",
      " [ 199 1130]]\n",
      "\n"
     ]
    },
    {
     "data": {
      "text/html": [
       "<div>\n",
       "<style scoped>\n",
       "    .dataframe tbody tr th:only-of-type {\n",
       "        vertical-align: middle;\n",
       "    }\n",
       "\n",
       "    .dataframe tbody tr th {\n",
       "        vertical-align: top;\n",
       "    }\n",
       "\n",
       "    .dataframe thead th {\n",
       "        text-align: right;\n",
       "    }\n",
       "</style>\n",
       "<table border=\"1\" class=\"dataframe\">\n",
       "  <thead>\n",
       "    <tr style=\"text-align: right;\">\n",
       "      <th></th>\n",
       "      <th>score</th>\n",
       "    </tr>\n",
       "  </thead>\n",
       "  <tbody>\n",
       "    <tr>\n",
       "      <th>XGB</th>\n",
       "      <td>0.72661</td>\n",
       "    </tr>\n",
       "  </tbody>\n",
       "</table>\n",
       "</div>"
      ],
      "text/plain": [
       "       score\n",
       "XGB  0.72661"
      ]
     },
     "metadata": {},
     "output_type": "display_data"
    },
    {
     "name": "stdout",
     "output_type": "stream",
     "text": [
      "CPU times: total: 1min 47s\n",
      "Wall time: 14 s\n"
     ]
    }
   ],
   "source": [
    "%%time \n",
    "\n",
    "models = [('XGB', pipeline_xgb, 1, 'xgb_tun_06_pp', pipeline_processor, 15)]\n",
    "    \n",
    "mdl_list_fit, df_pred_tr, df_pred_ts, df_score_mdl, score = \\\n",
    "    model_cv_fit(models_       = models, \n",
    "                 X_            = X_train,\n",
    "                 y_            = y_train, \n",
    "                 X_test_       = X_test,                  \n",
    "                 path_         = path, \n",
    "                 seed_         = seed,\n",
    "                 target_       = target,\n",
    "                 create_sub_   = False, \n",
    "                 n_splits_     = 10,\n",
    "                 print_report_ = True\n",
    "                )\n",
    "\n",
    "# F1-score: 0.72893 (+-0.02073) - F1-Train: 0.75391 - L.Loss: 0.42741 - 0h 0m 17s"
   ]
  },
  {
   "cell_type": "code",
   "execution_count": 75,
   "id": "35250874",
   "metadata": {
    "ExecuteTime": {
     "end_time": "2022-12-27T02:17:31.397799Z",
     "start_time": "2022-12-27T01:47:11.455223Z"
    },
    "code_folding": [],
    "scrolled": false
   },
   "outputs": [
    {
     "name": "stdout",
     "output_type": "stream",
     "text": [
      "\n",
      "--------------------------------------------------------------------------------------------------------------\n",
      "Best score: 0.73565\n",
      "Seed      : 12359\n",
      "Parameters:\n",
      "\n",
      "{'objective': 'binary:logistic', 'eval_metric': 'error', 'scale_pos_weight': 2.001583949313622, 'max_depth': 4, 'n_estimators': 1000, 'learning_rate': 0.04017754383444285, 'colsample_bytree': 0.9005970989016857, 'subsample': 0.75, 'reg_lambda': 91, 'min_child_weight': 6, 'n_jobs': -1, 'seed': 12359}\n",
      "\n",
      "CPU times: total: 3h 53min 27s\n",
      "Wall time: 30min 19s\n"
     ]
    }
   ],
   "source": [
    "%%time\n",
    "n_trials_  = 100\n",
    "name_clf   = 'xgb'\n",
    "name_model = '{}_001_turning'.format(name_clf) \n",
    "\n",
    "TunningModels.delete_files(name_model)\n",
    "    \n",
    "modelOpt = TunningModels(name_model_              = name_model, \n",
    "                         X_trn_                   = X, \n",
    "                         y_trn_                   = y, \n",
    "                         X_ts_                    = X_test,   \n",
    "                         seed_                    = seed, \n",
    "                         target_                  = target, \n",
    "                         path_                    = path, \n",
    "                         n_splits_                = 10,\n",
    "                         level_                   = '1',\n",
    "                         train_with_created_folds_= True)\n",
    "\n",
    "pruner = LastPlacePruner(warmup_steps  = 1, warmup_trials=5)\n",
    "\n",
    "study_xgb  = optuna.create_study(direction  = 'maximize',\n",
    "                                 sampler    = optuna.samplers.TPESampler(multivariate=True, seed=seed),\n",
    "                                 pruner     = optuna.pruners.MedianPruner(n_warmup_steps=10),\n",
    "                                 study_name = 'xgb_turning')\n",
    "\n",
    "study_xgb.optimize(modelOpt.xgb, n_trials=n_trials_)\n",
    "\n",
    "score_seed         = study_xgb.best_value \n",
    "params_xgb_turning = study_xgb.best_params \n",
    "path_name          = path + 'model/optuna/' + name_model + '_{:2.5f}.pkl.z'.format(score_seed)   \n",
    "scare_best         = score_seed \n",
    "\n",
    "jb.dump(study_xgb, path_name)\n",
    "\n",
    "print()\n",
    "print('-'*110)\n",
    "print('Best score: {:2.5f}'.format(scare_best))\n",
    "print('Seed      : {}'.format(seed))\n",
    "print('Parameters:\\n\\n{}'.format(params_xgb_turning))\n",
    "print()"
   ]
  },
  {
   "cell_type": "markdown",
   "id": "eebba47d",
   "metadata": {},
   "source": [
    "### 4.2.1. Treinar o modelo com novos parametros "
   ]
  },
  {
   "cell_type": "code",
   "execution_count": 76,
   "id": "4634a309",
   "metadata": {
    "ExecuteTime": {
     "end_time": "2022-12-27T02:17:49.446581Z",
     "start_time": "2022-12-27T02:17:35.989137Z"
    }
   },
   "outputs": [
    {
     "name": "stdout",
     "output_type": "stream",
     "text": [
      "\n",
      "=> XGB\n",
      "==========================================================================================\n",
      "Fold 1 => F1-score: 0.71565 - F1-Train: 0.76623 - AUC:0.79275 - L.Loss: 0.42163 - 0h 0m 1s\n",
      "Fold 2 => F1-score: 0.72789 - F1-Train: 0.76818 - AUC:0.80037 - L.Loss: 0.40025 - 0h 0m 1s\n",
      "Fold 3 => F1-score: 0.76094 - F1-Train: 0.76739 - AUC:0.82859 - L.Loss: 0.39023 - 0h 0m 1s\n",
      "Fold 4 => F1-score: 0.74534 - F1-Train: 0.77052 - AUC:0.82094 - L.Loss: 0.43801 - 0h 0m 1s\n",
      "Fold 5 => F1-score: 0.74286 - F1-Train: 0.76513 - AUC:0.81721 - L.Loss: 0.41910 - 0h 0m 1s\n",
      "Fold 6 => F1-score: 0.76375 - F1-Train: 0.76473 - AUC:0.83418 - L.Loss: 0.40077 - 0h 0m 1s\n",
      "Fold 7 => F1-score: 0.75333 - F1-Train: 0.76411 - AUC:0.82293 - L.Loss: 0.39268 - 0h 0m 1s\n",
      "Fold 8 => F1-score: 0.70199 - F1-Train: 0.77471 - AUC:0.77963 - L.Loss: 0.49024 - 0h 0m 1s\n",
      "Fold 9 => F1-score: 0.71010 - F1-Train: 0.76717 - AUC:0.78713 - L.Loss: 0.44121 - 0h 0m 1s\n",
      "Fold 10 => F1-score: 0.70701 - F1-Train: 0.77169 - AUC:0.78649 - L.Loss: 0.47381 - 0h 0m 1s\n",
      "------------------------------------------------------------------------------------------\n",
      "\u001b[32m\u001b[1m[Mean] => F1-score: 0.73289 (+-0.02209) - F1-Train: 0.76799 - L.Loss: 0.42679 - 0h 0m 12s\u001b[0m\n",
      "==========================================================================================\n",
      "\n",
      "              precision    recall  f1-score   support\n",
      "\n",
      "           0       0.91      0.77      0.83      2650\n",
      "           1       0.65      0.85      0.73      1329\n",
      "\n",
      "    accuracy                           0.79      3979\n",
      "   macro avg       0.78      0.81      0.78      3979\n",
      "weighted avg       0.82      0.79      0.80      3979\n",
      "\n",
      "[[2032  618]\n",
      " [ 203 1126]]\n",
      "\n"
     ]
    },
    {
     "data": {
      "text/html": [
       "<div>\n",
       "<style scoped>\n",
       "    .dataframe tbody tr th:only-of-type {\n",
       "        vertical-align: middle;\n",
       "    }\n",
       "\n",
       "    .dataframe tbody tr th {\n",
       "        vertical-align: top;\n",
       "    }\n",
       "\n",
       "    .dataframe thead th {\n",
       "        text-align: right;\n",
       "    }\n",
       "</style>\n",
       "<table border=\"1\" class=\"dataframe\">\n",
       "  <thead>\n",
       "    <tr style=\"text-align: right;\">\n",
       "      <th></th>\n",
       "      <th>score</th>\n",
       "    </tr>\n",
       "  </thead>\n",
       "  <tbody>\n",
       "    <tr>\n",
       "      <th>XGB</th>\n",
       "      <td>0.73289</td>\n",
       "    </tr>\n",
       "  </tbody>\n",
       "</table>\n",
       "</div>"
      ],
      "text/plain": [
       "       score\n",
       "XGB  0.73289"
      ]
     },
     "metadata": {},
     "output_type": "display_data"
    },
    {
     "data": {
      "text/html": [
       "<style>#sk-container-id-2 {color: black;background-color: white;}#sk-container-id-2 pre{padding: 0;}#sk-container-id-2 div.sk-toggleable {background-color: white;}#sk-container-id-2 label.sk-toggleable__label {cursor: pointer;display: block;width: 100%;margin-bottom: 0;padding: 0.3em;box-sizing: border-box;text-align: center;}#sk-container-id-2 label.sk-toggleable__label-arrow:before {content: \"▸\";float: left;margin-right: 0.25em;color: #696969;}#sk-container-id-2 label.sk-toggleable__label-arrow:hover:before {color: black;}#sk-container-id-2 div.sk-estimator:hover label.sk-toggleable__label-arrow:before {color: black;}#sk-container-id-2 div.sk-toggleable__content {max-height: 0;max-width: 0;overflow: hidden;text-align: left;background-color: #f0f8ff;}#sk-container-id-2 div.sk-toggleable__content pre {margin: 0.2em;color: black;border-radius: 0.25em;background-color: #f0f8ff;}#sk-container-id-2 input.sk-toggleable__control:checked~div.sk-toggleable__content {max-height: 200px;max-width: 100%;overflow: auto;}#sk-container-id-2 input.sk-toggleable__control:checked~label.sk-toggleable__label-arrow:before {content: \"▾\";}#sk-container-id-2 div.sk-estimator input.sk-toggleable__control:checked~label.sk-toggleable__label {background-color: #d4ebff;}#sk-container-id-2 div.sk-label input.sk-toggleable__control:checked~label.sk-toggleable__label {background-color: #d4ebff;}#sk-container-id-2 input.sk-hidden--visually {border: 0;clip: rect(1px 1px 1px 1px);clip: rect(1px, 1px, 1px, 1px);height: 1px;margin: -1px;overflow: hidden;padding: 0;position: absolute;width: 1px;}#sk-container-id-2 div.sk-estimator {font-family: monospace;background-color: #f0f8ff;border: 1px dotted black;border-radius: 0.25em;box-sizing: border-box;margin-bottom: 0.5em;}#sk-container-id-2 div.sk-estimator:hover {background-color: #d4ebff;}#sk-container-id-2 div.sk-parallel-item::after {content: \"\";width: 100%;border-bottom: 1px solid gray;flex-grow: 1;}#sk-container-id-2 div.sk-label:hover label.sk-toggleable__label {background-color: #d4ebff;}#sk-container-id-2 div.sk-serial::before {content: \"\";position: absolute;border-left: 1px solid gray;box-sizing: border-box;top: 0;bottom: 0;left: 50%;z-index: 0;}#sk-container-id-2 div.sk-serial {display: flex;flex-direction: column;align-items: center;background-color: white;padding-right: 0.2em;padding-left: 0.2em;position: relative;}#sk-container-id-2 div.sk-item {position: relative;z-index: 1;}#sk-container-id-2 div.sk-parallel {display: flex;align-items: stretch;justify-content: center;background-color: white;position: relative;}#sk-container-id-2 div.sk-item::before, #sk-container-id-2 div.sk-parallel-item::before {content: \"\";position: absolute;border-left: 1px solid gray;box-sizing: border-box;top: 0;bottom: 0;left: 50%;z-index: -1;}#sk-container-id-2 div.sk-parallel-item {display: flex;flex-direction: column;z-index: 1;position: relative;background-color: white;}#sk-container-id-2 div.sk-parallel-item:first-child::after {align-self: flex-end;width: 50%;}#sk-container-id-2 div.sk-parallel-item:last-child::after {align-self: flex-start;width: 50%;}#sk-container-id-2 div.sk-parallel-item:only-child::after {width: 0;}#sk-container-id-2 div.sk-dashed-wrapped {border: 1px dashed gray;margin: 0 0.4em 0.5em 0.4em;box-sizing: border-box;padding-bottom: 0.4em;background-color: white;}#sk-container-id-2 div.sk-label label {font-family: monospace;font-weight: bold;display: inline-block;line-height: 1.2em;}#sk-container-id-2 div.sk-label-container {text-align: center;}#sk-container-id-2 div.sk-container {/* jupyter's `normalize.less` sets `[hidden] { display: none; }` but bootstrap.min.css set `[hidden] { display: none !important; }` so we also need the `!important` here to be able to override the default hidden behavior on the sphinx rendered scikit-learn.org. See: https://github.com/scikit-learn/scikit-learn/issues/21755 */display: inline-block !important;position: relative;}#sk-container-id-2 div.sk-text-repr-fallback {display: none;}</style><div id=\"sk-container-id-2\" class=\"sk-top-container\"><div class=\"sk-text-repr-fallback\"><pre>Pipeline(steps=[(&#x27;processor&#x27;,\n",
       "                 Pipeline(steps=[(&#x27;transform&#x27;,\n",
       "                                  ColumnTransformer(transformers=[(&#x27;ord&#x27;,\n",
       "                                                                   Pipeline(steps=[(&#x27;imp&#x27;,\n",
       "                                                                                    SimpleImputer(fill_value=&#x27;No &#x27;\n",
       "                                                                                                             &#x27;Data&#x27;,\n",
       "                                                                                                  strategy=&#x27;constant&#x27;)),\n",
       "                                                                                   (&#x27;Ord&#x27;,\n",
       "                                                                                    OrdinalEncoder())]),\n",
       "                                                                   [&#x27;educação&#x27;,\n",
       "                                                                    &#x27;mês&#x27;,\n",
       "                                                                    &#x27;dia&#x27;,\n",
       "                                                                    &#x27;duração&#x27;,\n",
       "                                                                    &#x27;fe_cluster&#x27;,\n",
       "                                                                    &#x27;idade_group&#x27;]),\n",
       "                                                                  (&#x27;oho&#x27;,\n",
       "                                                                   Pipeline(steps=[(&#x27;imp&#x27;,\n",
       "                                                                                    SimpleImputer(fill_value=&#x27;No &#x27;\n",
       "                                                                                                             &#x27;Data&#x27;,\n",
       "                                                                                                  strategy=&#x27;consta...\n",
       "                               gamma=0, gpu_id=-1, grow_policy=&#x27;depthwise&#x27;,\n",
       "                               importance_type=None, interaction_constraints=&#x27;&#x27;,\n",
       "                               learning_rate=0.04017754383444285, max_bin=256,\n",
       "                               max_cat_to_onehot=4, max_delta_step=0,\n",
       "                               max_depth=4, max_leaves=0, min_child_weight=6,\n",
       "                               missing=nan, monotone_constraints=&#x27;()&#x27;,\n",
       "                               n_estimators=1000, n_jobs=-1,\n",
       "                               num_parallel_tree=1, predictor=&#x27;auto&#x27;,\n",
       "                               random_state=12359, reg_alpha=0, reg_lambda=91, ...))])</pre><b>In a Jupyter environment, please rerun this cell to show the HTML representation or trust the notebook. <br />On GitHub, the HTML representation is unable to render, please try loading this page with nbviewer.org.</b></div><div class=\"sk-container\" hidden><div class=\"sk-item sk-dashed-wrapped\"><div class=\"sk-label-container\"><div class=\"sk-label sk-toggleable\"><input class=\"sk-toggleable__control sk-hidden--visually\" id=\"sk-estimator-id-21\" type=\"checkbox\" ><label for=\"sk-estimator-id-21\" class=\"sk-toggleable__label sk-toggleable__label-arrow\">Pipeline</label><div class=\"sk-toggleable__content\"><pre>Pipeline(steps=[(&#x27;processor&#x27;,\n",
       "                 Pipeline(steps=[(&#x27;transform&#x27;,\n",
       "                                  ColumnTransformer(transformers=[(&#x27;ord&#x27;,\n",
       "                                                                   Pipeline(steps=[(&#x27;imp&#x27;,\n",
       "                                                                                    SimpleImputer(fill_value=&#x27;No &#x27;\n",
       "                                                                                                             &#x27;Data&#x27;,\n",
       "                                                                                                  strategy=&#x27;constant&#x27;)),\n",
       "                                                                                   (&#x27;Ord&#x27;,\n",
       "                                                                                    OrdinalEncoder())]),\n",
       "                                                                   [&#x27;educação&#x27;,\n",
       "                                                                    &#x27;mês&#x27;,\n",
       "                                                                    &#x27;dia&#x27;,\n",
       "                                                                    &#x27;duração&#x27;,\n",
       "                                                                    &#x27;fe_cluster&#x27;,\n",
       "                                                                    &#x27;idade_group&#x27;]),\n",
       "                                                                  (&#x27;oho&#x27;,\n",
       "                                                                   Pipeline(steps=[(&#x27;imp&#x27;,\n",
       "                                                                                    SimpleImputer(fill_value=&#x27;No &#x27;\n",
       "                                                                                                             &#x27;Data&#x27;,\n",
       "                                                                                                  strategy=&#x27;consta...\n",
       "                               gamma=0, gpu_id=-1, grow_policy=&#x27;depthwise&#x27;,\n",
       "                               importance_type=None, interaction_constraints=&#x27;&#x27;,\n",
       "                               learning_rate=0.04017754383444285, max_bin=256,\n",
       "                               max_cat_to_onehot=4, max_delta_step=0,\n",
       "                               max_depth=4, max_leaves=0, min_child_weight=6,\n",
       "                               missing=nan, monotone_constraints=&#x27;()&#x27;,\n",
       "                               n_estimators=1000, n_jobs=-1,\n",
       "                               num_parallel_tree=1, predictor=&#x27;auto&#x27;,\n",
       "                               random_state=12359, reg_alpha=0, reg_lambda=91, ...))])</pre></div></div></div><div class=\"sk-serial\"><div class=\"sk-item\"><div class=\"sk-label-container\"><div class=\"sk-label sk-toggleable\"><input class=\"sk-toggleable__control sk-hidden--visually\" id=\"sk-estimator-id-22\" type=\"checkbox\" ><label for=\"sk-estimator-id-22\" class=\"sk-toggleable__label sk-toggleable__label-arrow\">processor: Pipeline</label><div class=\"sk-toggleable__content\"><pre>Pipeline(steps=[(&#x27;transform&#x27;,\n",
       "                 ColumnTransformer(transformers=[(&#x27;ord&#x27;,\n",
       "                                                  Pipeline(steps=[(&#x27;imp&#x27;,\n",
       "                                                                   SimpleImputer(fill_value=&#x27;No &#x27;\n",
       "                                                                                            &#x27;Data&#x27;,\n",
       "                                                                                 strategy=&#x27;constant&#x27;)),\n",
       "                                                                  (&#x27;Ord&#x27;,\n",
       "                                                                   OrdinalEncoder())]),\n",
       "                                                  [&#x27;educação&#x27;, &#x27;mês&#x27;, &#x27;dia&#x27;,\n",
       "                                                   &#x27;duração&#x27;, &#x27;fe_cluster&#x27;,\n",
       "                                                   &#x27;idade_group&#x27;]),\n",
       "                                                 (&#x27;oho&#x27;,\n",
       "                                                  Pipeline(steps=[(&#x27;imp&#x27;,\n",
       "                                                                   SimpleImputer(fill_value=&#x27;No &#x27;\n",
       "                                                                                            &#x27;Data&#x27;,\n",
       "                                                                                 strategy=&#x27;constant&#x27;)),\n",
       "                                                                  (&#x27;OHen&#x27;,\n",
       "                                                                   OneHotEncoder(h...\n",
       "                                                                   WOEEncoder(regularization=0))]),\n",
       "                                                  [&#x27;fe_pca_0_group&#x27;]),\n",
       "                                                 (&#x27;num&#x27;,\n",
       "                                                  Pipeline(steps=[(&#x27;imp&#x27;,\n",
       "                                                                   SimpleImputer(missing_values=0)),\n",
       "                                                                  (&#x27;min&#x27;,\n",
       "                                                                   MaxAbsScaler())]),\n",
       "                                                  [&#x27;ncontatos&#x27;])])),\n",
       "                (&#x27;variancethreshold&#x27;, VarianceThreshold(threshold=0.04)),\n",
       "                (&#x27;selectpercentile&#x27;, SelectPercentile(percentile=85)),\n",
       "                (&#x27;dropfeaturecorr&#x27;, DropConstantFeatures(tol=0.85)),\n",
       "                (&#x27;preprocessor&#x27;, StandardScaler())])</pre></div></div></div><div class=\"sk-serial\"><div class=\"sk-item sk-dashed-wrapped\"><div class=\"sk-label-container\"><div class=\"sk-label sk-toggleable\"><input class=\"sk-toggleable__control sk-hidden--visually\" id=\"sk-estimator-id-23\" type=\"checkbox\" ><label for=\"sk-estimator-id-23\" class=\"sk-toggleable__label sk-toggleable__label-arrow\">transform: ColumnTransformer</label><div class=\"sk-toggleable__content\"><pre>ColumnTransformer(transformers=[(&#x27;ord&#x27;,\n",
       "                                 Pipeline(steps=[(&#x27;imp&#x27;,\n",
       "                                                  SimpleImputer(fill_value=&#x27;No &#x27;\n",
       "                                                                           &#x27;Data&#x27;,\n",
       "                                                                strategy=&#x27;constant&#x27;)),\n",
       "                                                 (&#x27;Ord&#x27;, OrdinalEncoder())]),\n",
       "                                 [&#x27;educação&#x27;, &#x27;mês&#x27;, &#x27;dia&#x27;, &#x27;duração&#x27;,\n",
       "                                  &#x27;fe_cluster&#x27;, &#x27;idade_group&#x27;]),\n",
       "                                (&#x27;oho&#x27;,\n",
       "                                 Pipeline(steps=[(&#x27;imp&#x27;,\n",
       "                                                  SimpleImputer(fill_value=&#x27;No &#x27;\n",
       "                                                                           &#x27;Data&#x27;,\n",
       "                                                                strategy=&#x27;constant&#x27;)),\n",
       "                                                 (&#x27;OHen&#x27;,\n",
       "                                                  OneHotEncoder(handle_unknown=&#x27;ignore&#x27;,\n",
       "                                                                sparse=False))]),\n",
       "                                 [&#x27;trabalho&#x27;, &#x27;estado civil&#x27;, &#x27;atraso&#x27;, &#x27;casa&#x27;,\n",
       "                                  &#x27;empréstimo&#x27;, &#x27;anterior&#x27;, &#x27;contato&#x27;]),\n",
       "                                (&#x27;woe&#x27;,\n",
       "                                 Pipeline(steps=[(&#x27;imp&#x27;,\n",
       "                                                  SimpleImputer(fill_value=&#x27;No &#x27;\n",
       "                                                                           &#x27;Data&#x27;,\n",
       "                                                                strategy=&#x27;constant&#x27;)),\n",
       "                                                 (&#x27;woe&#x27;,\n",
       "                                                  WOEEncoder(regularization=0))]),\n",
       "                                 [&#x27;fe_pca_0_group&#x27;]),\n",
       "                                (&#x27;num&#x27;,\n",
       "                                 Pipeline(steps=[(&#x27;imp&#x27;,\n",
       "                                                  SimpleImputer(missing_values=0)),\n",
       "                                                 (&#x27;min&#x27;, MaxAbsScaler())]),\n",
       "                                 [&#x27;ncontatos&#x27;])])</pre></div></div></div><div class=\"sk-parallel\"><div class=\"sk-parallel-item\"><div class=\"sk-item\"><div class=\"sk-label-container\"><div class=\"sk-label sk-toggleable\"><input class=\"sk-toggleable__control sk-hidden--visually\" id=\"sk-estimator-id-24\" type=\"checkbox\" ><label for=\"sk-estimator-id-24\" class=\"sk-toggleable__label sk-toggleable__label-arrow\">ord</label><div class=\"sk-toggleable__content\"><pre>[&#x27;educação&#x27;, &#x27;mês&#x27;, &#x27;dia&#x27;, &#x27;duração&#x27;, &#x27;fe_cluster&#x27;, &#x27;idade_group&#x27;]</pre></div></div></div><div class=\"sk-serial\"><div class=\"sk-item\"><div class=\"sk-serial\"><div class=\"sk-item\"><div class=\"sk-estimator sk-toggleable\"><input class=\"sk-toggleable__control sk-hidden--visually\" id=\"sk-estimator-id-25\" type=\"checkbox\" ><label for=\"sk-estimator-id-25\" class=\"sk-toggleable__label sk-toggleable__label-arrow\">SimpleImputer</label><div class=\"sk-toggleable__content\"><pre>SimpleImputer(fill_value=&#x27;No Data&#x27;, strategy=&#x27;constant&#x27;)</pre></div></div></div><div class=\"sk-item\"><div class=\"sk-estimator sk-toggleable\"><input class=\"sk-toggleable__control sk-hidden--visually\" id=\"sk-estimator-id-26\" type=\"checkbox\" ><label for=\"sk-estimator-id-26\" class=\"sk-toggleable__label sk-toggleable__label-arrow\">OrdinalEncoder</label><div class=\"sk-toggleable__content\"><pre>OrdinalEncoder()</pre></div></div></div></div></div></div></div></div><div class=\"sk-parallel-item\"><div class=\"sk-item\"><div class=\"sk-label-container\"><div class=\"sk-label sk-toggleable\"><input class=\"sk-toggleable__control sk-hidden--visually\" id=\"sk-estimator-id-27\" type=\"checkbox\" ><label for=\"sk-estimator-id-27\" class=\"sk-toggleable__label sk-toggleable__label-arrow\">oho</label><div class=\"sk-toggleable__content\"><pre>[&#x27;trabalho&#x27;, &#x27;estado civil&#x27;, &#x27;atraso&#x27;, &#x27;casa&#x27;, &#x27;empréstimo&#x27;, &#x27;anterior&#x27;, &#x27;contato&#x27;]</pre></div></div></div><div class=\"sk-serial\"><div class=\"sk-item\"><div class=\"sk-serial\"><div class=\"sk-item\"><div class=\"sk-estimator sk-toggleable\"><input class=\"sk-toggleable__control sk-hidden--visually\" id=\"sk-estimator-id-28\" type=\"checkbox\" ><label for=\"sk-estimator-id-28\" class=\"sk-toggleable__label sk-toggleable__label-arrow\">SimpleImputer</label><div class=\"sk-toggleable__content\"><pre>SimpleImputer(fill_value=&#x27;No Data&#x27;, strategy=&#x27;constant&#x27;)</pre></div></div></div><div class=\"sk-item\"><div class=\"sk-estimator sk-toggleable\"><input class=\"sk-toggleable__control sk-hidden--visually\" id=\"sk-estimator-id-29\" type=\"checkbox\" ><label for=\"sk-estimator-id-29\" class=\"sk-toggleable__label sk-toggleable__label-arrow\">OneHotEncoder</label><div class=\"sk-toggleable__content\"><pre>OneHotEncoder(handle_unknown=&#x27;ignore&#x27;, sparse=False)</pre></div></div></div></div></div></div></div></div><div class=\"sk-parallel-item\"><div class=\"sk-item\"><div class=\"sk-label-container\"><div class=\"sk-label sk-toggleable\"><input class=\"sk-toggleable__control sk-hidden--visually\" id=\"sk-estimator-id-30\" type=\"checkbox\" ><label for=\"sk-estimator-id-30\" class=\"sk-toggleable__label sk-toggleable__label-arrow\">woe</label><div class=\"sk-toggleable__content\"><pre>[&#x27;fe_pca_0_group&#x27;]</pre></div></div></div><div class=\"sk-serial\"><div class=\"sk-item\"><div class=\"sk-serial\"><div class=\"sk-item\"><div class=\"sk-estimator sk-toggleable\"><input class=\"sk-toggleable__control sk-hidden--visually\" id=\"sk-estimator-id-31\" type=\"checkbox\" ><label for=\"sk-estimator-id-31\" class=\"sk-toggleable__label sk-toggleable__label-arrow\">SimpleImputer</label><div class=\"sk-toggleable__content\"><pre>SimpleImputer(fill_value=&#x27;No Data&#x27;, strategy=&#x27;constant&#x27;)</pre></div></div></div><div class=\"sk-item\"><div class=\"sk-estimator sk-toggleable\"><input class=\"sk-toggleable__control sk-hidden--visually\" id=\"sk-estimator-id-32\" type=\"checkbox\" ><label for=\"sk-estimator-id-32\" class=\"sk-toggleable__label sk-toggleable__label-arrow\">WOEEncoder</label><div class=\"sk-toggleable__content\"><pre>WOEEncoder(regularization=0)</pre></div></div></div></div></div></div></div></div><div class=\"sk-parallel-item\"><div class=\"sk-item\"><div class=\"sk-label-container\"><div class=\"sk-label sk-toggleable\"><input class=\"sk-toggleable__control sk-hidden--visually\" id=\"sk-estimator-id-33\" type=\"checkbox\" ><label for=\"sk-estimator-id-33\" class=\"sk-toggleable__label sk-toggleable__label-arrow\">num</label><div class=\"sk-toggleable__content\"><pre>[&#x27;ncontatos&#x27;]</pre></div></div></div><div class=\"sk-serial\"><div class=\"sk-item\"><div class=\"sk-serial\"><div class=\"sk-item\"><div class=\"sk-estimator sk-toggleable\"><input class=\"sk-toggleable__control sk-hidden--visually\" id=\"sk-estimator-id-34\" type=\"checkbox\" ><label for=\"sk-estimator-id-34\" class=\"sk-toggleable__label sk-toggleable__label-arrow\">SimpleImputer</label><div class=\"sk-toggleable__content\"><pre>SimpleImputer(missing_values=0)</pre></div></div></div><div class=\"sk-item\"><div class=\"sk-estimator sk-toggleable\"><input class=\"sk-toggleable__control sk-hidden--visually\" id=\"sk-estimator-id-35\" type=\"checkbox\" ><label for=\"sk-estimator-id-35\" class=\"sk-toggleable__label sk-toggleable__label-arrow\">MaxAbsScaler</label><div class=\"sk-toggleable__content\"><pre>MaxAbsScaler()</pre></div></div></div></div></div></div></div></div></div></div><div class=\"sk-item\"><div class=\"sk-estimator sk-toggleable\"><input class=\"sk-toggleable__control sk-hidden--visually\" id=\"sk-estimator-id-36\" type=\"checkbox\" ><label for=\"sk-estimator-id-36\" class=\"sk-toggleable__label sk-toggleable__label-arrow\">VarianceThreshold</label><div class=\"sk-toggleable__content\"><pre>VarianceThreshold(threshold=0.04)</pre></div></div></div><div class=\"sk-item\"><div class=\"sk-estimator sk-toggleable\"><input class=\"sk-toggleable__control sk-hidden--visually\" id=\"sk-estimator-id-37\" type=\"checkbox\" ><label for=\"sk-estimator-id-37\" class=\"sk-toggleable__label sk-toggleable__label-arrow\">SelectPercentile</label><div class=\"sk-toggleable__content\"><pre>SelectPercentile(percentile=85)</pre></div></div></div><div class=\"sk-item\"><div class=\"sk-estimator sk-toggleable\"><input class=\"sk-toggleable__control sk-hidden--visually\" id=\"sk-estimator-id-38\" type=\"checkbox\" ><label for=\"sk-estimator-id-38\" class=\"sk-toggleable__label sk-toggleable__label-arrow\">DropConstantFeatures</label><div class=\"sk-toggleable__content\"><pre>DropConstantFeatures(tol=0.85)</pre></div></div></div><div class=\"sk-item\"><div class=\"sk-estimator sk-toggleable\"><input class=\"sk-toggleable__control sk-hidden--visually\" id=\"sk-estimator-id-39\" type=\"checkbox\" ><label for=\"sk-estimator-id-39\" class=\"sk-toggleable__label sk-toggleable__label-arrow\">StandardScaler</label><div class=\"sk-toggleable__content\"><pre>StandardScaler()</pre></div></div></div></div></div><div class=\"sk-item\"><div class=\"sk-estimator sk-toggleable\"><input class=\"sk-toggleable__control sk-hidden--visually\" id=\"sk-estimator-id-40\" type=\"checkbox\" ><label for=\"sk-estimator-id-40\" class=\"sk-toggleable__label sk-toggleable__label-arrow\">XGBClassifier</label><div class=\"sk-toggleable__content\"><pre>XGBClassifier(base_score=0.5, booster=&#x27;gbtree&#x27;, callbacks=None,\n",
       "              colsample_bylevel=1, colsample_bynode=1,\n",
       "              colsample_bytree=0.9005970989016857, early_stopping_rounds=None,\n",
       "              enable_categorical=False, eval_metric=&#x27;error&#x27;, gamma=0, gpu_id=-1,\n",
       "              grow_policy=&#x27;depthwise&#x27;, importance_type=None,\n",
       "              interaction_constraints=&#x27;&#x27;, learning_rate=0.04017754383444285,\n",
       "              max_bin=256, max_cat_to_onehot=4, max_delta_step=0, max_depth=4,\n",
       "              max_leaves=0, min_child_weight=6, missing=nan,\n",
       "              monotone_constraints=&#x27;()&#x27;, n_estimators=1000, n_jobs=-1,\n",
       "              num_parallel_tree=1, predictor=&#x27;auto&#x27;, random_state=12359,\n",
       "              reg_alpha=0, reg_lambda=91, ...)</pre></div></div></div></div></div></div></div>"
      ],
      "text/plain": [
       "Pipeline(steps=[('processor',\n",
       "                 Pipeline(steps=[('transform',\n",
       "                                  ColumnTransformer(transformers=[('ord',\n",
       "                                                                   Pipeline(steps=[('imp',\n",
       "                                                                                    SimpleImputer(fill_value='No '\n",
       "                                                                                                             'Data',\n",
       "                                                                                                  strategy='constant')),\n",
       "                                                                                   ('Ord',\n",
       "                                                                                    OrdinalEncoder())]),\n",
       "                                                                   ['educação',\n",
       "                                                                    'mês',\n",
       "                                                                    'dia',\n",
       "                                                                    'duração',\n",
       "                                                                    'fe_cluster',\n",
       "                                                                    'idade_group']),\n",
       "                                                                  ('oho',\n",
       "                                                                   Pipeline(steps=[('imp',\n",
       "                                                                                    SimpleImputer(fill_value='No '\n",
       "                                                                                                             'Data',\n",
       "                                                                                                  strategy='consta...\n",
       "                               gamma=0, gpu_id=-1, grow_policy='depthwise',\n",
       "                               importance_type=None, interaction_constraints='',\n",
       "                               learning_rate=0.04017754383444285, max_bin=256,\n",
       "                               max_cat_to_onehot=4, max_delta_step=0,\n",
       "                               max_depth=4, max_leaves=0, min_child_weight=6,\n",
       "                               missing=nan, monotone_constraints='()',\n",
       "                               n_estimators=1000, n_jobs=-1,\n",
       "                               num_parallel_tree=1, predictor='auto',\n",
       "                               random_state=12359, reg_alpha=0, reg_lambda=91, ...))])"
      ]
     },
     "metadata": {},
     "output_type": "display_data"
    },
    {
     "name": "stdout",
     "output_type": "stream",
     "text": [
      "F1-score valid: 0.720984\n",
      "\n",
      "CPU times: total: 1min 42s\n",
      "Wall time: 13.4 s\n"
     ]
    }
   ],
   "source": [
    "%%time \n",
    "\n",
    "# Pipelne \n",
    "pipeline_processor_turning = Pipeline(steps=[\n",
    "    transf_column, \n",
    "    var_threshold, \n",
    "    sel_percentile, \n",
    "    drop_feature_cor,\n",
    "    scaler\n",
    "])\n",
    "\n",
    "if torch.cuda.is_available():           \n",
    "    params_xgb_turning.update({'tree_method': 'gpu_hist','predictor': 'gpu_predictor'})\n",
    "\n",
    "# Classificadores\n",
    "model_xgb_turning  = xgb.XGBClassifier(**params_xgb_turning)\n",
    "\n",
    "pipeline_xgb_turning = Pipeline(steps=[('processor', pipeline_processor_turning), ('model', model_xgb_turning)])\n",
    "\n",
    "models = [('XGB', pipeline_xgb_turning, 1, 'xgb_tun_07_pp', pipeline_xgb_turning, 15)]\n",
    "    \n",
    "mdl_list_fit, df_pred_tr, df_pred_ts, df_score_mdl, score = \\\n",
    "    model_cv_fit(models_       = models, \n",
    "                 X_            = X_train,\n",
    "                 y_            = y_train, \n",
    "                 X_test_       = X_test,                  \n",
    "                 path_         = path, \n",
    "                 seed_         = seed,\n",
    "                 target_       = target,\n",
    "                 create_sub_   = False, \n",
    "                 n_splits_     = 10,\n",
    "                 print_report_ = True\n",
    "                )\n",
    "\n",
    "\n",
    "_ = mdl_list_fit[0][2]\n",
    "display(_)\n",
    "\n",
    "print('F1-score valid: {:5f}'.format(f1_score(y_valid, _.predict(X_valid))))\n",
    "print()\n",
    "\n",
    "\n",
    "# F1-score: 0.72668 (+-0.02589) - F1-Train: 0.75722 - L.Loss: 0.42986 - 0h 0m 8s"
   ]
  },
  {
   "cell_type": "markdown",
   "id": "f0e8be1d",
   "metadata": {},
   "source": [
    "Acima treinamos o modelo com os novos parametros, agora vamos fazer um teste com os dados que não foram utilizados no treinamento. Vamos recupara um dos modelos que foi aramzenado em <b>mdl_list_fit</b>. "
   ]
  },
  {
   "cell_type": "markdown",
   "id": "d5d925e8",
   "metadata": {},
   "source": [
    "<div class=\"alert alert-block alert-info\" style=\"border-radius:15px\">\n",
    "<p style=\"color: black; font-family: Arial Black\">NOTA:</p>\n",
    "\n",
    "Não tivemos um overfitting significativos com o ajustes dos parametros, quando olhamos para as previsões feitas nos daos que o modelo não viu no treinamento.  \n",
    "    \n",
    "</div>"
   ]
  },
  {
   "cell_type": "markdown",
   "id": "533af93c",
   "metadata": {},
   "source": [
    "### 4.4.2. Análise do turning \n",
    "\n",
    "Nesta seção, exploraremos várias visualizações disponíveis no Optuna que podem nos ajudar a tomar melhores decisões. Ele nos fornece vários hiperparâmetros e seu impacto no desempenho do modelo.\n",
    "\n",
    "\n",
    "Começaremos verificando se o suporte à visualização está disponível ou não usando a função is_available(). Ele verifica se as versões apropriadas de plotly e matplotlib estão disponíveis ou não para criar visualizações."
   ]
  },
  {
   "cell_type": "markdown",
   "id": "167eceb1",
   "metadata": {
    "heading_collapsed": true
   },
   "source": [
    "#### 4.4.2.1. Visualizações de dados "
   ]
  },
  {
   "cell_type": "markdown",
   "id": "3534768a",
   "metadata": {},
   "source": [
    "#### 4.4.2.2. Histórico de Otimização \n",
    "\n",
    "O primeiro gráfico que apresentaremos é o gráfico do histórico de otimização. Ele plota o número de tentativas que tentamos para encontrar a melhor combinação de hiperparâmetros no eixo Y e um valor objetivo que obtivemos para cada tentativa no eixo Y.\n",
    "\n",
    "Podemos usar este gráfico para verificar se a otimização de hiperparâmetros está indo na direção certa ou não.\n"
   ]
  },
  {
   "cell_type": "code",
   "execution_count": 77,
   "id": "42a373ac",
   "metadata": {
    "ExecuteTime": {
     "end_time": "2022-12-27T02:17:54.732997Z",
     "start_time": "2022-12-27T02:17:54.485819Z"
    }
   },
   "outputs": [
    {
     "data": {
      "application/vnd.plotly.v1+json": {
       "config": {
        "plotlyServerURL": "https://plot.ly"
       },
       "data": [
        {
         "mode": "markers",
         "name": "F1-score",
         "type": "scatter",
         "x": [
          0,
          1,
          2,
          3,
          4,
          5,
          6,
          7,
          8,
          9,
          10,
          11,
          12,
          13,
          14,
          15,
          16,
          17,
          18,
          19,
          20,
          21,
          22,
          23,
          24,
          25,
          26,
          27,
          28,
          29,
          30,
          31,
          32,
          33,
          34,
          35,
          36,
          37,
          38,
          39,
          40,
          41,
          42,
          43,
          44,
          45,
          46,
          47,
          48,
          49,
          50,
          51,
          52,
          53,
          54,
          55,
          56,
          57,
          58,
          59,
          60,
          61,
          62,
          63,
          64,
          65,
          66,
          67,
          68,
          69,
          70,
          71,
          72,
          73,
          74,
          75,
          76,
          77,
          78,
          79,
          80,
          81,
          82,
          83,
          84,
          85,
          86,
          87,
          88,
          89,
          90,
          91,
          92,
          93,
          94,
          95,
          96,
          97,
          98,
          99
         ],
         "y": [
          0.72987,
          0.71494,
          0.72712,
          0.73368,
          0.72742,
          0.68532,
          0.71349,
          0.71549,
          0.73141,
          0.71858,
          0.7334,
          0.71851,
          0.73156,
          0.73315,
          0.73142,
          0.73325,
          0.70755,
          0.71923,
          0.69787,
          0.70384,
          0.73053,
          0.72889,
          0.73229,
          0.7297,
          0.73351,
          0.72611,
          0.72722,
          0.72427,
          0.72955,
          0.73224,
          0.72823,
          0.73148,
          0.73339,
          0.72156,
          0.72677,
          0.73279,
          0.73112,
          0.73095,
          0.71726,
          0.73306,
          0.67971,
          0.73406,
          0.73159,
          0.73285,
          0.72349,
          0.71908,
          0.72597,
          0.73,
          0.73256,
          0.73159,
          0.72481,
          0.73219,
          0.73217,
          0.73191,
          0.72622,
          0.72374,
          0.72463,
          0.72773,
          0.72815,
          0.72919,
          0.73166,
          0.73107,
          0.7272,
          0.7328,
          0.73292,
          0.72235,
          0.72549,
          0.73197,
          0.73329,
          0.72371,
          0.7269,
          0.71914,
          0.73136,
          0.73277,
          0.73527,
          0.72947,
          0.73242,
          0.73045,
          0.73331,
          0.72988,
          0.69652,
          0.73462,
          0.73318,
          0.72911,
          0.73261,
          0.73245,
          0.73104,
          0.72569,
          0.72578,
          0.73108,
          0.73129,
          0.72675,
          0.73565,
          0.7315,
          0.72855,
          0.7309,
          0.71737,
          0.7289,
          0.73211,
          0.72846
         ]
        },
        {
         "name": "Best Value",
         "type": "scatter",
         "x": [
          0,
          1,
          2,
          3,
          4,
          5,
          6,
          7,
          8,
          9,
          10,
          11,
          12,
          13,
          14,
          15,
          16,
          17,
          18,
          19,
          20,
          21,
          22,
          23,
          24,
          25,
          26,
          27,
          28,
          29,
          30,
          31,
          32,
          33,
          34,
          35,
          36,
          37,
          38,
          39,
          40,
          41,
          42,
          43,
          44,
          45,
          46,
          47,
          48,
          49,
          50,
          51,
          52,
          53,
          54,
          55,
          56,
          57,
          58,
          59,
          60,
          61,
          62,
          63,
          64,
          65,
          66,
          67,
          68,
          69,
          70,
          71,
          72,
          73,
          74,
          75,
          76,
          77,
          78,
          79,
          80,
          81,
          82,
          83,
          84,
          85,
          86,
          87,
          88,
          89,
          90,
          91,
          92,
          93,
          94,
          95,
          96,
          97,
          98,
          99
         ],
         "y": [
          0.72987,
          0.72987,
          0.72987,
          0.73368,
          0.73368,
          0.73368,
          0.73368,
          0.73368,
          0.73368,
          0.73368,
          0.73368,
          0.73368,
          0.73368,
          0.73368,
          0.73368,
          0.73368,
          0.73368,
          0.73368,
          0.73368,
          0.73368,
          0.73368,
          0.73368,
          0.73368,
          0.73368,
          0.73368,
          0.73368,
          0.73368,
          0.73368,
          0.73368,
          0.73368,
          0.73368,
          0.73368,
          0.73368,
          0.73368,
          0.73368,
          0.73368,
          0.73368,
          0.73368,
          0.73368,
          0.73368,
          0.73368,
          0.73406,
          0.73406,
          0.73406,
          0.73406,
          0.73406,
          0.73406,
          0.73406,
          0.73406,
          0.73406,
          0.73406,
          0.73406,
          0.73406,
          0.73406,
          0.73406,
          0.73406,
          0.73406,
          0.73406,
          0.73406,
          0.73406,
          0.73406,
          0.73406,
          0.73406,
          0.73406,
          0.73406,
          0.73406,
          0.73406,
          0.73406,
          0.73406,
          0.73406,
          0.73406,
          0.73406,
          0.73406,
          0.73406,
          0.73527,
          0.73527,
          0.73527,
          0.73527,
          0.73527,
          0.73527,
          0.73527,
          0.73527,
          0.73527,
          0.73527,
          0.73527,
          0.73527,
          0.73527,
          0.73527,
          0.73527,
          0.73527,
          0.73527,
          0.73527,
          0.73565,
          0.73565,
          0.73565,
          0.73565,
          0.73565,
          0.73565,
          0.73565,
          0.73565
         ]
        }
       ],
       "layout": {
        "template": {
         "data": {
          "bar": [
           {
            "error_x": {
             "color": "#2a3f5f"
            },
            "error_y": {
             "color": "#2a3f5f"
            },
            "marker": {
             "line": {
              "color": "#E5ECF6",
              "width": 0.5
             },
             "pattern": {
              "fillmode": "overlay",
              "size": 10,
              "solidity": 0.2
             }
            },
            "type": "bar"
           }
          ],
          "barpolar": [
           {
            "marker": {
             "line": {
              "color": "#E5ECF6",
              "width": 0.5
             },
             "pattern": {
              "fillmode": "overlay",
              "size": 10,
              "solidity": 0.2
             }
            },
            "type": "barpolar"
           }
          ],
          "carpet": [
           {
            "aaxis": {
             "endlinecolor": "#2a3f5f",
             "gridcolor": "white",
             "linecolor": "white",
             "minorgridcolor": "white",
             "startlinecolor": "#2a3f5f"
            },
            "baxis": {
             "endlinecolor": "#2a3f5f",
             "gridcolor": "white",
             "linecolor": "white",
             "minorgridcolor": "white",
             "startlinecolor": "#2a3f5f"
            },
            "type": "carpet"
           }
          ],
          "choropleth": [
           {
            "colorbar": {
             "outlinewidth": 0,
             "ticks": ""
            },
            "type": "choropleth"
           }
          ],
          "contour": [
           {
            "colorbar": {
             "outlinewidth": 0,
             "ticks": ""
            },
            "colorscale": [
             [
              0,
              "#0d0887"
             ],
             [
              0.1111111111111111,
              "#46039f"
             ],
             [
              0.2222222222222222,
              "#7201a8"
             ],
             [
              0.3333333333333333,
              "#9c179e"
             ],
             [
              0.4444444444444444,
              "#bd3786"
             ],
             [
              0.5555555555555556,
              "#d8576b"
             ],
             [
              0.6666666666666666,
              "#ed7953"
             ],
             [
              0.7777777777777778,
              "#fb9f3a"
             ],
             [
              0.8888888888888888,
              "#fdca26"
             ],
             [
              1,
              "#f0f921"
             ]
            ],
            "type": "contour"
           }
          ],
          "contourcarpet": [
           {
            "colorbar": {
             "outlinewidth": 0,
             "ticks": ""
            },
            "type": "contourcarpet"
           }
          ],
          "heatmap": [
           {
            "colorbar": {
             "outlinewidth": 0,
             "ticks": ""
            },
            "colorscale": [
             [
              0,
              "#0d0887"
             ],
             [
              0.1111111111111111,
              "#46039f"
             ],
             [
              0.2222222222222222,
              "#7201a8"
             ],
             [
              0.3333333333333333,
              "#9c179e"
             ],
             [
              0.4444444444444444,
              "#bd3786"
             ],
             [
              0.5555555555555556,
              "#d8576b"
             ],
             [
              0.6666666666666666,
              "#ed7953"
             ],
             [
              0.7777777777777778,
              "#fb9f3a"
             ],
             [
              0.8888888888888888,
              "#fdca26"
             ],
             [
              1,
              "#f0f921"
             ]
            ],
            "type": "heatmap"
           }
          ],
          "heatmapgl": [
           {
            "colorbar": {
             "outlinewidth": 0,
             "ticks": ""
            },
            "colorscale": [
             [
              0,
              "#0d0887"
             ],
             [
              0.1111111111111111,
              "#46039f"
             ],
             [
              0.2222222222222222,
              "#7201a8"
             ],
             [
              0.3333333333333333,
              "#9c179e"
             ],
             [
              0.4444444444444444,
              "#bd3786"
             ],
             [
              0.5555555555555556,
              "#d8576b"
             ],
             [
              0.6666666666666666,
              "#ed7953"
             ],
             [
              0.7777777777777778,
              "#fb9f3a"
             ],
             [
              0.8888888888888888,
              "#fdca26"
             ],
             [
              1,
              "#f0f921"
             ]
            ],
            "type": "heatmapgl"
           }
          ],
          "histogram": [
           {
            "marker": {
             "pattern": {
              "fillmode": "overlay",
              "size": 10,
              "solidity": 0.2
             }
            },
            "type": "histogram"
           }
          ],
          "histogram2d": [
           {
            "colorbar": {
             "outlinewidth": 0,
             "ticks": ""
            },
            "colorscale": [
             [
              0,
              "#0d0887"
             ],
             [
              0.1111111111111111,
              "#46039f"
             ],
             [
              0.2222222222222222,
              "#7201a8"
             ],
             [
              0.3333333333333333,
              "#9c179e"
             ],
             [
              0.4444444444444444,
              "#bd3786"
             ],
             [
              0.5555555555555556,
              "#d8576b"
             ],
             [
              0.6666666666666666,
              "#ed7953"
             ],
             [
              0.7777777777777778,
              "#fb9f3a"
             ],
             [
              0.8888888888888888,
              "#fdca26"
             ],
             [
              1,
              "#f0f921"
             ]
            ],
            "type": "histogram2d"
           }
          ],
          "histogram2dcontour": [
           {
            "colorbar": {
             "outlinewidth": 0,
             "ticks": ""
            },
            "colorscale": [
             [
              0,
              "#0d0887"
             ],
             [
              0.1111111111111111,
              "#46039f"
             ],
             [
              0.2222222222222222,
              "#7201a8"
             ],
             [
              0.3333333333333333,
              "#9c179e"
             ],
             [
              0.4444444444444444,
              "#bd3786"
             ],
             [
              0.5555555555555556,
              "#d8576b"
             ],
             [
              0.6666666666666666,
              "#ed7953"
             ],
             [
              0.7777777777777778,
              "#fb9f3a"
             ],
             [
              0.8888888888888888,
              "#fdca26"
             ],
             [
              1,
              "#f0f921"
             ]
            ],
            "type": "histogram2dcontour"
           }
          ],
          "mesh3d": [
           {
            "colorbar": {
             "outlinewidth": 0,
             "ticks": ""
            },
            "type": "mesh3d"
           }
          ],
          "parcoords": [
           {
            "line": {
             "colorbar": {
              "outlinewidth": 0,
              "ticks": ""
             }
            },
            "type": "parcoords"
           }
          ],
          "pie": [
           {
            "automargin": true,
            "type": "pie"
           }
          ],
          "scatter": [
           {
            "fillpattern": {
             "fillmode": "overlay",
             "size": 10,
             "solidity": 0.2
            },
            "type": "scatter"
           }
          ],
          "scatter3d": [
           {
            "line": {
             "colorbar": {
              "outlinewidth": 0,
              "ticks": ""
             }
            },
            "marker": {
             "colorbar": {
              "outlinewidth": 0,
              "ticks": ""
             }
            },
            "type": "scatter3d"
           }
          ],
          "scattercarpet": [
           {
            "marker": {
             "colorbar": {
              "outlinewidth": 0,
              "ticks": ""
             }
            },
            "type": "scattercarpet"
           }
          ],
          "scattergeo": [
           {
            "marker": {
             "colorbar": {
              "outlinewidth": 0,
              "ticks": ""
             }
            },
            "type": "scattergeo"
           }
          ],
          "scattergl": [
           {
            "marker": {
             "colorbar": {
              "outlinewidth": 0,
              "ticks": ""
             }
            },
            "type": "scattergl"
           }
          ],
          "scattermapbox": [
           {
            "marker": {
             "colorbar": {
              "outlinewidth": 0,
              "ticks": ""
             }
            },
            "type": "scattermapbox"
           }
          ],
          "scatterpolar": [
           {
            "marker": {
             "colorbar": {
              "outlinewidth": 0,
              "ticks": ""
             }
            },
            "type": "scatterpolar"
           }
          ],
          "scatterpolargl": [
           {
            "marker": {
             "colorbar": {
              "outlinewidth": 0,
              "ticks": ""
             }
            },
            "type": "scatterpolargl"
           }
          ],
          "scatterternary": [
           {
            "marker": {
             "colorbar": {
              "outlinewidth": 0,
              "ticks": ""
             }
            },
            "type": "scatterternary"
           }
          ],
          "surface": [
           {
            "colorbar": {
             "outlinewidth": 0,
             "ticks": ""
            },
            "colorscale": [
             [
              0,
              "#0d0887"
             ],
             [
              0.1111111111111111,
              "#46039f"
             ],
             [
              0.2222222222222222,
              "#7201a8"
             ],
             [
              0.3333333333333333,
              "#9c179e"
             ],
             [
              0.4444444444444444,
              "#bd3786"
             ],
             [
              0.5555555555555556,
              "#d8576b"
             ],
             [
              0.6666666666666666,
              "#ed7953"
             ],
             [
              0.7777777777777778,
              "#fb9f3a"
             ],
             [
              0.8888888888888888,
              "#fdca26"
             ],
             [
              1,
              "#f0f921"
             ]
            ],
            "type": "surface"
           }
          ],
          "table": [
           {
            "cells": {
             "fill": {
              "color": "#EBF0F8"
             },
             "line": {
              "color": "white"
             }
            },
            "header": {
             "fill": {
              "color": "#C8D4E3"
             },
             "line": {
              "color": "white"
             }
            },
            "type": "table"
           }
          ]
         },
         "layout": {
          "annotationdefaults": {
           "arrowcolor": "#2a3f5f",
           "arrowhead": 0,
           "arrowwidth": 1
          },
          "autotypenumbers": "strict",
          "coloraxis": {
           "colorbar": {
            "outlinewidth": 0,
            "ticks": ""
           }
          },
          "colorscale": {
           "diverging": [
            [
             0,
             "#8e0152"
            ],
            [
             0.1,
             "#c51b7d"
            ],
            [
             0.2,
             "#de77ae"
            ],
            [
             0.3,
             "#f1b6da"
            ],
            [
             0.4,
             "#fde0ef"
            ],
            [
             0.5,
             "#f7f7f7"
            ],
            [
             0.6,
             "#e6f5d0"
            ],
            [
             0.7,
             "#b8e186"
            ],
            [
             0.8,
             "#7fbc41"
            ],
            [
             0.9,
             "#4d9221"
            ],
            [
             1,
             "#276419"
            ]
           ],
           "sequential": [
            [
             0,
             "#0d0887"
            ],
            [
             0.1111111111111111,
             "#46039f"
            ],
            [
             0.2222222222222222,
             "#7201a8"
            ],
            [
             0.3333333333333333,
             "#9c179e"
            ],
            [
             0.4444444444444444,
             "#bd3786"
            ],
            [
             0.5555555555555556,
             "#d8576b"
            ],
            [
             0.6666666666666666,
             "#ed7953"
            ],
            [
             0.7777777777777778,
             "#fb9f3a"
            ],
            [
             0.8888888888888888,
             "#fdca26"
            ],
            [
             1,
             "#f0f921"
            ]
           ],
           "sequentialminus": [
            [
             0,
             "#0d0887"
            ],
            [
             0.1111111111111111,
             "#46039f"
            ],
            [
             0.2222222222222222,
             "#7201a8"
            ],
            [
             0.3333333333333333,
             "#9c179e"
            ],
            [
             0.4444444444444444,
             "#bd3786"
            ],
            [
             0.5555555555555556,
             "#d8576b"
            ],
            [
             0.6666666666666666,
             "#ed7953"
            ],
            [
             0.7777777777777778,
             "#fb9f3a"
            ],
            [
             0.8888888888888888,
             "#fdca26"
            ],
            [
             1,
             "#f0f921"
            ]
           ]
          },
          "colorway": [
           "#636efa",
           "#EF553B",
           "#00cc96",
           "#ab63fa",
           "#FFA15A",
           "#19d3f3",
           "#FF6692",
           "#B6E880",
           "#FF97FF",
           "#FECB52"
          ],
          "font": {
           "color": "#2a3f5f"
          },
          "geo": {
           "bgcolor": "white",
           "lakecolor": "white",
           "landcolor": "#E5ECF6",
           "showlakes": true,
           "showland": true,
           "subunitcolor": "white"
          },
          "hoverlabel": {
           "align": "left"
          },
          "hovermode": "closest",
          "mapbox": {
           "style": "light"
          },
          "paper_bgcolor": "white",
          "plot_bgcolor": "#E5ECF6",
          "polar": {
           "angularaxis": {
            "gridcolor": "white",
            "linecolor": "white",
            "ticks": ""
           },
           "bgcolor": "#E5ECF6",
           "radialaxis": {
            "gridcolor": "white",
            "linecolor": "white",
            "ticks": ""
           }
          },
          "scene": {
           "xaxis": {
            "backgroundcolor": "#E5ECF6",
            "gridcolor": "white",
            "gridwidth": 2,
            "linecolor": "white",
            "showbackground": true,
            "ticks": "",
            "zerolinecolor": "white"
           },
           "yaxis": {
            "backgroundcolor": "#E5ECF6",
            "gridcolor": "white",
            "gridwidth": 2,
            "linecolor": "white",
            "showbackground": true,
            "ticks": "",
            "zerolinecolor": "white"
           },
           "zaxis": {
            "backgroundcolor": "#E5ECF6",
            "gridcolor": "white",
            "gridwidth": 2,
            "linecolor": "white",
            "showbackground": true,
            "ticks": "",
            "zerolinecolor": "white"
           }
          },
          "shapedefaults": {
           "line": {
            "color": "#2a3f5f"
           }
          },
          "ternary": {
           "aaxis": {
            "gridcolor": "white",
            "linecolor": "white",
            "ticks": ""
           },
           "baxis": {
            "gridcolor": "white",
            "linecolor": "white",
            "ticks": ""
           },
           "bgcolor": "#E5ECF6",
           "caxis": {
            "gridcolor": "white",
            "linecolor": "white",
            "ticks": ""
           }
          },
          "title": {
           "x": 0.05
          },
          "xaxis": {
           "automargin": true,
           "gridcolor": "white",
           "linecolor": "white",
           "ticks": "",
           "title": {
            "standoff": 15
           },
           "zerolinecolor": "white",
           "zerolinewidth": 2
          },
          "yaxis": {
           "automargin": true,
           "gridcolor": "white",
           "linecolor": "white",
           "ticks": "",
           "title": {
            "standoff": 15
           },
           "zerolinecolor": "white",
           "zerolinewidth": 2
          }
         }
        },
        "title": {
         "text": "Optimization History Plot"
        },
        "xaxis": {
         "title": {
          "text": "Trial"
         }
        },
        "yaxis": {
         "title": {
          "text": "F1-score"
         }
        }
       }
      },
      "text/html": [
       "<div>                            <div id=\"20edbccc-713c-4569-80d3-b064c4958835\" class=\"plotly-graph-div\" style=\"height:525px; width:100%;\"></div>            <script type=\"text/javascript\">                require([\"plotly\"], function(Plotly) {                    window.PLOTLYENV=window.PLOTLYENV || {};                                    if (document.getElementById(\"20edbccc-713c-4569-80d3-b064c4958835\")) {                    Plotly.newPlot(                        \"20edbccc-713c-4569-80d3-b064c4958835\",                        [{\"mode\":\"markers\",\"name\":\"F1-score\",\"x\":[0,1,2,3,4,5,6,7,8,9,10,11,12,13,14,15,16,17,18,19,20,21,22,23,24,25,26,27,28,29,30,31,32,33,34,35,36,37,38,39,40,41,42,43,44,45,46,47,48,49,50,51,52,53,54,55,56,57,58,59,60,61,62,63,64,65,66,67,68,69,70,71,72,73,74,75,76,77,78,79,80,81,82,83,84,85,86,87,88,89,90,91,92,93,94,95,96,97,98,99],\"y\":[0.72987,0.71494,0.72712,0.73368,0.72742,0.68532,0.71349,0.71549,0.73141,0.71858,0.7334,0.71851,0.73156,0.73315,0.73142,0.73325,0.70755,0.71923,0.69787,0.70384,0.73053,0.72889,0.73229,0.7297,0.73351,0.72611,0.72722,0.72427,0.72955,0.73224,0.72823,0.73148,0.73339,0.72156,0.72677,0.73279,0.73112,0.73095,0.71726,0.73306,0.67971,0.73406,0.73159,0.73285,0.72349,0.71908,0.72597,0.73,0.73256,0.73159,0.72481,0.73219,0.73217,0.73191,0.72622,0.72374,0.72463,0.72773,0.72815,0.72919,0.73166,0.73107,0.7272,0.7328,0.73292,0.72235,0.72549,0.73197,0.73329,0.72371,0.7269,0.71914,0.73136,0.73277,0.73527,0.72947,0.73242,0.73045,0.73331,0.72988,0.69652,0.73462,0.73318,0.72911,0.73261,0.73245,0.73104,0.72569,0.72578,0.73108,0.73129,0.72675,0.73565,0.7315,0.72855,0.7309,0.71737,0.7289,0.73211,0.72846],\"type\":\"scatter\"},{\"name\":\"Best Value\",\"x\":[0,1,2,3,4,5,6,7,8,9,10,11,12,13,14,15,16,17,18,19,20,21,22,23,24,25,26,27,28,29,30,31,32,33,34,35,36,37,38,39,40,41,42,43,44,45,46,47,48,49,50,51,52,53,54,55,56,57,58,59,60,61,62,63,64,65,66,67,68,69,70,71,72,73,74,75,76,77,78,79,80,81,82,83,84,85,86,87,88,89,90,91,92,93,94,95,96,97,98,99],\"y\":[0.72987,0.72987,0.72987,0.73368,0.73368,0.73368,0.73368,0.73368,0.73368,0.73368,0.73368,0.73368,0.73368,0.73368,0.73368,0.73368,0.73368,0.73368,0.73368,0.73368,0.73368,0.73368,0.73368,0.73368,0.73368,0.73368,0.73368,0.73368,0.73368,0.73368,0.73368,0.73368,0.73368,0.73368,0.73368,0.73368,0.73368,0.73368,0.73368,0.73368,0.73368,0.73406,0.73406,0.73406,0.73406,0.73406,0.73406,0.73406,0.73406,0.73406,0.73406,0.73406,0.73406,0.73406,0.73406,0.73406,0.73406,0.73406,0.73406,0.73406,0.73406,0.73406,0.73406,0.73406,0.73406,0.73406,0.73406,0.73406,0.73406,0.73406,0.73406,0.73406,0.73406,0.73406,0.73527,0.73527,0.73527,0.73527,0.73527,0.73527,0.73527,0.73527,0.73527,0.73527,0.73527,0.73527,0.73527,0.73527,0.73527,0.73527,0.73527,0.73527,0.73565,0.73565,0.73565,0.73565,0.73565,0.73565,0.73565,0.73565],\"type\":\"scatter\"}],                        {\"title\":{\"text\":\"Optimization History Plot\"},\"xaxis\":{\"title\":{\"text\":\"Trial\"}},\"yaxis\":{\"title\":{\"text\":\"F1-score\"}},\"template\":{\"data\":{\"histogram2dcontour\":[{\"type\":\"histogram2dcontour\",\"colorbar\":{\"outlinewidth\":0,\"ticks\":\"\"},\"colorscale\":[[0.0,\"#0d0887\"],[0.1111111111111111,\"#46039f\"],[0.2222222222222222,\"#7201a8\"],[0.3333333333333333,\"#9c179e\"],[0.4444444444444444,\"#bd3786\"],[0.5555555555555556,\"#d8576b\"],[0.6666666666666666,\"#ed7953\"],[0.7777777777777778,\"#fb9f3a\"],[0.8888888888888888,\"#fdca26\"],[1.0,\"#f0f921\"]]}],\"choropleth\":[{\"type\":\"choropleth\",\"colorbar\":{\"outlinewidth\":0,\"ticks\":\"\"}}],\"histogram2d\":[{\"type\":\"histogram2d\",\"colorbar\":{\"outlinewidth\":0,\"ticks\":\"\"},\"colorscale\":[[0.0,\"#0d0887\"],[0.1111111111111111,\"#46039f\"],[0.2222222222222222,\"#7201a8\"],[0.3333333333333333,\"#9c179e\"],[0.4444444444444444,\"#bd3786\"],[0.5555555555555556,\"#d8576b\"],[0.6666666666666666,\"#ed7953\"],[0.7777777777777778,\"#fb9f3a\"],[0.8888888888888888,\"#fdca26\"],[1.0,\"#f0f921\"]]}],\"heatmap\":[{\"type\":\"heatmap\",\"colorbar\":{\"outlinewidth\":0,\"ticks\":\"\"},\"colorscale\":[[0.0,\"#0d0887\"],[0.1111111111111111,\"#46039f\"],[0.2222222222222222,\"#7201a8\"],[0.3333333333333333,\"#9c179e\"],[0.4444444444444444,\"#bd3786\"],[0.5555555555555556,\"#d8576b\"],[0.6666666666666666,\"#ed7953\"],[0.7777777777777778,\"#fb9f3a\"],[0.8888888888888888,\"#fdca26\"],[1.0,\"#f0f921\"]]}],\"heatmapgl\":[{\"type\":\"heatmapgl\",\"colorbar\":{\"outlinewidth\":0,\"ticks\":\"\"},\"colorscale\":[[0.0,\"#0d0887\"],[0.1111111111111111,\"#46039f\"],[0.2222222222222222,\"#7201a8\"],[0.3333333333333333,\"#9c179e\"],[0.4444444444444444,\"#bd3786\"],[0.5555555555555556,\"#d8576b\"],[0.6666666666666666,\"#ed7953\"],[0.7777777777777778,\"#fb9f3a\"],[0.8888888888888888,\"#fdca26\"],[1.0,\"#f0f921\"]]}],\"contourcarpet\":[{\"type\":\"contourcarpet\",\"colorbar\":{\"outlinewidth\":0,\"ticks\":\"\"}}],\"contour\":[{\"type\":\"contour\",\"colorbar\":{\"outlinewidth\":0,\"ticks\":\"\"},\"colorscale\":[[0.0,\"#0d0887\"],[0.1111111111111111,\"#46039f\"],[0.2222222222222222,\"#7201a8\"],[0.3333333333333333,\"#9c179e\"],[0.4444444444444444,\"#bd3786\"],[0.5555555555555556,\"#d8576b\"],[0.6666666666666666,\"#ed7953\"],[0.7777777777777778,\"#fb9f3a\"],[0.8888888888888888,\"#fdca26\"],[1.0,\"#f0f921\"]]}],\"surface\":[{\"type\":\"surface\",\"colorbar\":{\"outlinewidth\":0,\"ticks\":\"\"},\"colorscale\":[[0.0,\"#0d0887\"],[0.1111111111111111,\"#46039f\"],[0.2222222222222222,\"#7201a8\"],[0.3333333333333333,\"#9c179e\"],[0.4444444444444444,\"#bd3786\"],[0.5555555555555556,\"#d8576b\"],[0.6666666666666666,\"#ed7953\"],[0.7777777777777778,\"#fb9f3a\"],[0.8888888888888888,\"#fdca26\"],[1.0,\"#f0f921\"]]}],\"mesh3d\":[{\"type\":\"mesh3d\",\"colorbar\":{\"outlinewidth\":0,\"ticks\":\"\"}}],\"scatter\":[{\"fillpattern\":{\"fillmode\":\"overlay\",\"size\":10,\"solidity\":0.2},\"type\":\"scatter\"}],\"parcoords\":[{\"type\":\"parcoords\",\"line\":{\"colorbar\":{\"outlinewidth\":0,\"ticks\":\"\"}}}],\"scatterpolargl\":[{\"type\":\"scatterpolargl\",\"marker\":{\"colorbar\":{\"outlinewidth\":0,\"ticks\":\"\"}}}],\"bar\":[{\"error_x\":{\"color\":\"#2a3f5f\"},\"error_y\":{\"color\":\"#2a3f5f\"},\"marker\":{\"line\":{\"color\":\"#E5ECF6\",\"width\":0.5},\"pattern\":{\"fillmode\":\"overlay\",\"size\":10,\"solidity\":0.2}},\"type\":\"bar\"}],\"scattergeo\":[{\"type\":\"scattergeo\",\"marker\":{\"colorbar\":{\"outlinewidth\":0,\"ticks\":\"\"}}}],\"scatterpolar\":[{\"type\":\"scatterpolar\",\"marker\":{\"colorbar\":{\"outlinewidth\":0,\"ticks\":\"\"}}}],\"histogram\":[{\"marker\":{\"pattern\":{\"fillmode\":\"overlay\",\"size\":10,\"solidity\":0.2}},\"type\":\"histogram\"}],\"scattergl\":[{\"type\":\"scattergl\",\"marker\":{\"colorbar\":{\"outlinewidth\":0,\"ticks\":\"\"}}}],\"scatter3d\":[{\"type\":\"scatter3d\",\"line\":{\"colorbar\":{\"outlinewidth\":0,\"ticks\":\"\"}},\"marker\":{\"colorbar\":{\"outlinewidth\":0,\"ticks\":\"\"}}}],\"scattermapbox\":[{\"type\":\"scattermapbox\",\"marker\":{\"colorbar\":{\"outlinewidth\":0,\"ticks\":\"\"}}}],\"scatterternary\":[{\"type\":\"scatterternary\",\"marker\":{\"colorbar\":{\"outlinewidth\":0,\"ticks\":\"\"}}}],\"scattercarpet\":[{\"type\":\"scattercarpet\",\"marker\":{\"colorbar\":{\"outlinewidth\":0,\"ticks\":\"\"}}}],\"carpet\":[{\"aaxis\":{\"endlinecolor\":\"#2a3f5f\",\"gridcolor\":\"white\",\"linecolor\":\"white\",\"minorgridcolor\":\"white\",\"startlinecolor\":\"#2a3f5f\"},\"baxis\":{\"endlinecolor\":\"#2a3f5f\",\"gridcolor\":\"white\",\"linecolor\":\"white\",\"minorgridcolor\":\"white\",\"startlinecolor\":\"#2a3f5f\"},\"type\":\"carpet\"}],\"table\":[{\"cells\":{\"fill\":{\"color\":\"#EBF0F8\"},\"line\":{\"color\":\"white\"}},\"header\":{\"fill\":{\"color\":\"#C8D4E3\"},\"line\":{\"color\":\"white\"}},\"type\":\"table\"}],\"barpolar\":[{\"marker\":{\"line\":{\"color\":\"#E5ECF6\",\"width\":0.5},\"pattern\":{\"fillmode\":\"overlay\",\"size\":10,\"solidity\":0.2}},\"type\":\"barpolar\"}],\"pie\":[{\"automargin\":true,\"type\":\"pie\"}]},\"layout\":{\"autotypenumbers\":\"strict\",\"colorway\":[\"#636efa\",\"#EF553B\",\"#00cc96\",\"#ab63fa\",\"#FFA15A\",\"#19d3f3\",\"#FF6692\",\"#B6E880\",\"#FF97FF\",\"#FECB52\"],\"font\":{\"color\":\"#2a3f5f\"},\"hovermode\":\"closest\",\"hoverlabel\":{\"align\":\"left\"},\"paper_bgcolor\":\"white\",\"plot_bgcolor\":\"#E5ECF6\",\"polar\":{\"bgcolor\":\"#E5ECF6\",\"angularaxis\":{\"gridcolor\":\"white\",\"linecolor\":\"white\",\"ticks\":\"\"},\"radialaxis\":{\"gridcolor\":\"white\",\"linecolor\":\"white\",\"ticks\":\"\"}},\"ternary\":{\"bgcolor\":\"#E5ECF6\",\"aaxis\":{\"gridcolor\":\"white\",\"linecolor\":\"white\",\"ticks\":\"\"},\"baxis\":{\"gridcolor\":\"white\",\"linecolor\":\"white\",\"ticks\":\"\"},\"caxis\":{\"gridcolor\":\"white\",\"linecolor\":\"white\",\"ticks\":\"\"}},\"coloraxis\":{\"colorbar\":{\"outlinewidth\":0,\"ticks\":\"\"}},\"colorscale\":{\"sequential\":[[0.0,\"#0d0887\"],[0.1111111111111111,\"#46039f\"],[0.2222222222222222,\"#7201a8\"],[0.3333333333333333,\"#9c179e\"],[0.4444444444444444,\"#bd3786\"],[0.5555555555555556,\"#d8576b\"],[0.6666666666666666,\"#ed7953\"],[0.7777777777777778,\"#fb9f3a\"],[0.8888888888888888,\"#fdca26\"],[1.0,\"#f0f921\"]],\"sequentialminus\":[[0.0,\"#0d0887\"],[0.1111111111111111,\"#46039f\"],[0.2222222222222222,\"#7201a8\"],[0.3333333333333333,\"#9c179e\"],[0.4444444444444444,\"#bd3786\"],[0.5555555555555556,\"#d8576b\"],[0.6666666666666666,\"#ed7953\"],[0.7777777777777778,\"#fb9f3a\"],[0.8888888888888888,\"#fdca26\"],[1.0,\"#f0f921\"]],\"diverging\":[[0,\"#8e0152\"],[0.1,\"#c51b7d\"],[0.2,\"#de77ae\"],[0.3,\"#f1b6da\"],[0.4,\"#fde0ef\"],[0.5,\"#f7f7f7\"],[0.6,\"#e6f5d0\"],[0.7,\"#b8e186\"],[0.8,\"#7fbc41\"],[0.9,\"#4d9221\"],[1,\"#276419\"]]},\"xaxis\":{\"gridcolor\":\"white\",\"linecolor\":\"white\",\"ticks\":\"\",\"title\":{\"standoff\":15},\"zerolinecolor\":\"white\",\"automargin\":true,\"zerolinewidth\":2},\"yaxis\":{\"gridcolor\":\"white\",\"linecolor\":\"white\",\"ticks\":\"\",\"title\":{\"standoff\":15},\"zerolinecolor\":\"white\",\"automargin\":true,\"zerolinewidth\":2},\"scene\":{\"xaxis\":{\"backgroundcolor\":\"#E5ECF6\",\"gridcolor\":\"white\",\"linecolor\":\"white\",\"showbackground\":true,\"ticks\":\"\",\"zerolinecolor\":\"white\",\"gridwidth\":2},\"yaxis\":{\"backgroundcolor\":\"#E5ECF6\",\"gridcolor\":\"white\",\"linecolor\":\"white\",\"showbackground\":true,\"ticks\":\"\",\"zerolinecolor\":\"white\",\"gridwidth\":2},\"zaxis\":{\"backgroundcolor\":\"#E5ECF6\",\"gridcolor\":\"white\",\"linecolor\":\"white\",\"showbackground\":true,\"ticks\":\"\",\"zerolinecolor\":\"white\",\"gridwidth\":2}},\"shapedefaults\":{\"line\":{\"color\":\"#2a3f5f\"}},\"annotationdefaults\":{\"arrowcolor\":\"#2a3f5f\",\"arrowhead\":0,\"arrowwidth\":1},\"geo\":{\"bgcolor\":\"white\",\"landcolor\":\"#E5ECF6\",\"subunitcolor\":\"white\",\"showland\":true,\"showlakes\":true,\"lakecolor\":\"white\"},\"title\":{\"x\":0.05},\"mapbox\":{\"style\":\"light\"}}}},                        {\"responsive\": true}                    ).then(function(){\n",
       "                            \n",
       "var gd = document.getElementById('20edbccc-713c-4569-80d3-b064c4958835');\n",
       "var x = new MutationObserver(function (mutations, observer) {{\n",
       "        var display = window.getComputedStyle(gd).display;\n",
       "        if (!display || display === 'none') {{\n",
       "            console.log([gd, 'removed!']);\n",
       "            Plotly.purge(gd);\n",
       "            observer.disconnect();\n",
       "        }}\n",
       "}});\n",
       "\n",
       "// Listen for the removal of the full notebook cells\n",
       "var notebookContainer = gd.closest('#notebook-container');\n",
       "if (notebookContainer) {{\n",
       "    x.observe(notebookContainer, {childList: true});\n",
       "}}\n",
       "\n",
       "// Listen for the clearing of the current output cell\n",
       "var outputEl = gd.closest('.output');\n",
       "if (outputEl) {{\n",
       "    x.observe(outputEl, {childList: true});\n",
       "}}\n",
       "\n",
       "                        })                };                });            </script>        </div>"
      ]
     },
     "metadata": {},
     "output_type": "display_data"
    }
   ],
   "source": [
    "plot_optimization_history(study_xgb, target_name=\"F1-score\")"
   ]
  },
  {
   "cell_type": "markdown",
   "id": "94708c7b",
   "metadata": {},
   "source": [
    "<div class=\"alert alert-block alert-info\" style=\"border-radius:15px\">\n",
    "<p style=\"color: black; font-family: Arial Black\">NOTA:</p>\n",
    "    \n",
    "Podemos observar no gráfico acima que o valor de F1-score aumenta com o aumento das tentativas, isso confirma que a Optuna estava procurando uma combinação de hiperparâmetros na direção certa. No nosso caso o númro de tentativas ideais seria em torno de 60.\n",
    "\n",
    "</div>"
   ]
  },
  {
   "cell_type": "markdown",
   "id": "6e9cf0e6",
   "metadata": {
    "ExecuteTime": {
     "end_time": "2022-12-21T17:08:20.319664Z",
     "start_time": "2022-12-21T17:08:20.264699Z"
    }
   },
   "source": [
    "#### 4.4.2.3. Importância de prâmetros"
   ]
  },
  {
   "cell_type": "markdown",
   "id": "12d92dbc",
   "metadata": {},
   "source": [
    "O segundo gráfico que traçaremos é um gráfico de barras que representa a importância dos hiperparâmetros de hiperparâmetros cujas combinações foram tentadas durante o processo de otinização. Isso pode nos ajudar a entender quais hiperparâmetros estão contribuindo mais para minimizar/maximizar o valor objetivo."
   ]
  },
  {
   "cell_type": "code",
   "execution_count": 78,
   "id": "8fd87ee8",
   "metadata": {
    "ExecuteTime": {
     "end_time": "2022-12-27T02:18:01.994694Z",
     "start_time": "2022-12-27T02:17:59.784739Z"
    }
   },
   "outputs": [
    {
     "data": {
      "application/vnd.plotly.v1+json": {
       "config": {
        "plotlyServerURL": "https://plot.ly"
       },
       "data": [
        {
         "cliponaxis": false,
         "hovertemplate": [
          "colsample_bytree (FloatDistribution): 0.012850420144235371<extra></extra>",
          "subsample (FloatDistribution): 0.02104684702614693<extra></extra>",
          "n_estimators (IntDistribution): 0.0311940833914762<extra></extra>",
          "min_child_weight (IntDistribution): 0.080751110705808<extra></extra>",
          "reg_lambda (IntDistribution): 0.18896142094525478<extra></extra>",
          "max_depth (IntDistribution): 0.26783446158329066<extra></extra>",
          "learning_rate (FloatDistribution): 0.39736165620378805<extra></extra>"
         ],
         "marker": {
          "color": "rgb(66,146,198)"
         },
         "orientation": "h",
         "text": [
          "0.01",
          "0.02",
          "0.03",
          "0.08",
          "0.19",
          "0.27",
          "0.40"
         ],
         "textposition": "outside",
         "type": "bar",
         "x": [
          0.012850420144235371,
          0.02104684702614693,
          0.0311940833914762,
          0.080751110705808,
          0.18896142094525478,
          0.26783446158329066,
          0.39736165620378805
         ],
         "y": [
          "colsample_bytree",
          "subsample",
          "n_estimators",
          "min_child_weight",
          "reg_lambda",
          "max_depth",
          "learning_rate"
         ]
        }
       ],
       "layout": {
        "showlegend": false,
        "template": {
         "data": {
          "bar": [
           {
            "error_x": {
             "color": "#2a3f5f"
            },
            "error_y": {
             "color": "#2a3f5f"
            },
            "marker": {
             "line": {
              "color": "#E5ECF6",
              "width": 0.5
             },
             "pattern": {
              "fillmode": "overlay",
              "size": 10,
              "solidity": 0.2
             }
            },
            "type": "bar"
           }
          ],
          "barpolar": [
           {
            "marker": {
             "line": {
              "color": "#E5ECF6",
              "width": 0.5
             },
             "pattern": {
              "fillmode": "overlay",
              "size": 10,
              "solidity": 0.2
             }
            },
            "type": "barpolar"
           }
          ],
          "carpet": [
           {
            "aaxis": {
             "endlinecolor": "#2a3f5f",
             "gridcolor": "white",
             "linecolor": "white",
             "minorgridcolor": "white",
             "startlinecolor": "#2a3f5f"
            },
            "baxis": {
             "endlinecolor": "#2a3f5f",
             "gridcolor": "white",
             "linecolor": "white",
             "minorgridcolor": "white",
             "startlinecolor": "#2a3f5f"
            },
            "type": "carpet"
           }
          ],
          "choropleth": [
           {
            "colorbar": {
             "outlinewidth": 0,
             "ticks": ""
            },
            "type": "choropleth"
           }
          ],
          "contour": [
           {
            "colorbar": {
             "outlinewidth": 0,
             "ticks": ""
            },
            "colorscale": [
             [
              0,
              "#0d0887"
             ],
             [
              0.1111111111111111,
              "#46039f"
             ],
             [
              0.2222222222222222,
              "#7201a8"
             ],
             [
              0.3333333333333333,
              "#9c179e"
             ],
             [
              0.4444444444444444,
              "#bd3786"
             ],
             [
              0.5555555555555556,
              "#d8576b"
             ],
             [
              0.6666666666666666,
              "#ed7953"
             ],
             [
              0.7777777777777778,
              "#fb9f3a"
             ],
             [
              0.8888888888888888,
              "#fdca26"
             ],
             [
              1,
              "#f0f921"
             ]
            ],
            "type": "contour"
           }
          ],
          "contourcarpet": [
           {
            "colorbar": {
             "outlinewidth": 0,
             "ticks": ""
            },
            "type": "contourcarpet"
           }
          ],
          "heatmap": [
           {
            "colorbar": {
             "outlinewidth": 0,
             "ticks": ""
            },
            "colorscale": [
             [
              0,
              "#0d0887"
             ],
             [
              0.1111111111111111,
              "#46039f"
             ],
             [
              0.2222222222222222,
              "#7201a8"
             ],
             [
              0.3333333333333333,
              "#9c179e"
             ],
             [
              0.4444444444444444,
              "#bd3786"
             ],
             [
              0.5555555555555556,
              "#d8576b"
             ],
             [
              0.6666666666666666,
              "#ed7953"
             ],
             [
              0.7777777777777778,
              "#fb9f3a"
             ],
             [
              0.8888888888888888,
              "#fdca26"
             ],
             [
              1,
              "#f0f921"
             ]
            ],
            "type": "heatmap"
           }
          ],
          "heatmapgl": [
           {
            "colorbar": {
             "outlinewidth": 0,
             "ticks": ""
            },
            "colorscale": [
             [
              0,
              "#0d0887"
             ],
             [
              0.1111111111111111,
              "#46039f"
             ],
             [
              0.2222222222222222,
              "#7201a8"
             ],
             [
              0.3333333333333333,
              "#9c179e"
             ],
             [
              0.4444444444444444,
              "#bd3786"
             ],
             [
              0.5555555555555556,
              "#d8576b"
             ],
             [
              0.6666666666666666,
              "#ed7953"
             ],
             [
              0.7777777777777778,
              "#fb9f3a"
             ],
             [
              0.8888888888888888,
              "#fdca26"
             ],
             [
              1,
              "#f0f921"
             ]
            ],
            "type": "heatmapgl"
           }
          ],
          "histogram": [
           {
            "marker": {
             "pattern": {
              "fillmode": "overlay",
              "size": 10,
              "solidity": 0.2
             }
            },
            "type": "histogram"
           }
          ],
          "histogram2d": [
           {
            "colorbar": {
             "outlinewidth": 0,
             "ticks": ""
            },
            "colorscale": [
             [
              0,
              "#0d0887"
             ],
             [
              0.1111111111111111,
              "#46039f"
             ],
             [
              0.2222222222222222,
              "#7201a8"
             ],
             [
              0.3333333333333333,
              "#9c179e"
             ],
             [
              0.4444444444444444,
              "#bd3786"
             ],
             [
              0.5555555555555556,
              "#d8576b"
             ],
             [
              0.6666666666666666,
              "#ed7953"
             ],
             [
              0.7777777777777778,
              "#fb9f3a"
             ],
             [
              0.8888888888888888,
              "#fdca26"
             ],
             [
              1,
              "#f0f921"
             ]
            ],
            "type": "histogram2d"
           }
          ],
          "histogram2dcontour": [
           {
            "colorbar": {
             "outlinewidth": 0,
             "ticks": ""
            },
            "colorscale": [
             [
              0,
              "#0d0887"
             ],
             [
              0.1111111111111111,
              "#46039f"
             ],
             [
              0.2222222222222222,
              "#7201a8"
             ],
             [
              0.3333333333333333,
              "#9c179e"
             ],
             [
              0.4444444444444444,
              "#bd3786"
             ],
             [
              0.5555555555555556,
              "#d8576b"
             ],
             [
              0.6666666666666666,
              "#ed7953"
             ],
             [
              0.7777777777777778,
              "#fb9f3a"
             ],
             [
              0.8888888888888888,
              "#fdca26"
             ],
             [
              1,
              "#f0f921"
             ]
            ],
            "type": "histogram2dcontour"
           }
          ],
          "mesh3d": [
           {
            "colorbar": {
             "outlinewidth": 0,
             "ticks": ""
            },
            "type": "mesh3d"
           }
          ],
          "parcoords": [
           {
            "line": {
             "colorbar": {
              "outlinewidth": 0,
              "ticks": ""
             }
            },
            "type": "parcoords"
           }
          ],
          "pie": [
           {
            "automargin": true,
            "type": "pie"
           }
          ],
          "scatter": [
           {
            "fillpattern": {
             "fillmode": "overlay",
             "size": 10,
             "solidity": 0.2
            },
            "type": "scatter"
           }
          ],
          "scatter3d": [
           {
            "line": {
             "colorbar": {
              "outlinewidth": 0,
              "ticks": ""
             }
            },
            "marker": {
             "colorbar": {
              "outlinewidth": 0,
              "ticks": ""
             }
            },
            "type": "scatter3d"
           }
          ],
          "scattercarpet": [
           {
            "marker": {
             "colorbar": {
              "outlinewidth": 0,
              "ticks": ""
             }
            },
            "type": "scattercarpet"
           }
          ],
          "scattergeo": [
           {
            "marker": {
             "colorbar": {
              "outlinewidth": 0,
              "ticks": ""
             }
            },
            "type": "scattergeo"
           }
          ],
          "scattergl": [
           {
            "marker": {
             "colorbar": {
              "outlinewidth": 0,
              "ticks": ""
             }
            },
            "type": "scattergl"
           }
          ],
          "scattermapbox": [
           {
            "marker": {
             "colorbar": {
              "outlinewidth": 0,
              "ticks": ""
             }
            },
            "type": "scattermapbox"
           }
          ],
          "scatterpolar": [
           {
            "marker": {
             "colorbar": {
              "outlinewidth": 0,
              "ticks": ""
             }
            },
            "type": "scatterpolar"
           }
          ],
          "scatterpolargl": [
           {
            "marker": {
             "colorbar": {
              "outlinewidth": 0,
              "ticks": ""
             }
            },
            "type": "scatterpolargl"
           }
          ],
          "scatterternary": [
           {
            "marker": {
             "colorbar": {
              "outlinewidth": 0,
              "ticks": ""
             }
            },
            "type": "scatterternary"
           }
          ],
          "surface": [
           {
            "colorbar": {
             "outlinewidth": 0,
             "ticks": ""
            },
            "colorscale": [
             [
              0,
              "#0d0887"
             ],
             [
              0.1111111111111111,
              "#46039f"
             ],
             [
              0.2222222222222222,
              "#7201a8"
             ],
             [
              0.3333333333333333,
              "#9c179e"
             ],
             [
              0.4444444444444444,
              "#bd3786"
             ],
             [
              0.5555555555555556,
              "#d8576b"
             ],
             [
              0.6666666666666666,
              "#ed7953"
             ],
             [
              0.7777777777777778,
              "#fb9f3a"
             ],
             [
              0.8888888888888888,
              "#fdca26"
             ],
             [
              1,
              "#f0f921"
             ]
            ],
            "type": "surface"
           }
          ],
          "table": [
           {
            "cells": {
             "fill": {
              "color": "#EBF0F8"
             },
             "line": {
              "color": "white"
             }
            },
            "header": {
             "fill": {
              "color": "#C8D4E3"
             },
             "line": {
              "color": "white"
             }
            },
            "type": "table"
           }
          ]
         },
         "layout": {
          "annotationdefaults": {
           "arrowcolor": "#2a3f5f",
           "arrowhead": 0,
           "arrowwidth": 1
          },
          "autotypenumbers": "strict",
          "coloraxis": {
           "colorbar": {
            "outlinewidth": 0,
            "ticks": ""
           }
          },
          "colorscale": {
           "diverging": [
            [
             0,
             "#8e0152"
            ],
            [
             0.1,
             "#c51b7d"
            ],
            [
             0.2,
             "#de77ae"
            ],
            [
             0.3,
             "#f1b6da"
            ],
            [
             0.4,
             "#fde0ef"
            ],
            [
             0.5,
             "#f7f7f7"
            ],
            [
             0.6,
             "#e6f5d0"
            ],
            [
             0.7,
             "#b8e186"
            ],
            [
             0.8,
             "#7fbc41"
            ],
            [
             0.9,
             "#4d9221"
            ],
            [
             1,
             "#276419"
            ]
           ],
           "sequential": [
            [
             0,
             "#0d0887"
            ],
            [
             0.1111111111111111,
             "#46039f"
            ],
            [
             0.2222222222222222,
             "#7201a8"
            ],
            [
             0.3333333333333333,
             "#9c179e"
            ],
            [
             0.4444444444444444,
             "#bd3786"
            ],
            [
             0.5555555555555556,
             "#d8576b"
            ],
            [
             0.6666666666666666,
             "#ed7953"
            ],
            [
             0.7777777777777778,
             "#fb9f3a"
            ],
            [
             0.8888888888888888,
             "#fdca26"
            ],
            [
             1,
             "#f0f921"
            ]
           ],
           "sequentialminus": [
            [
             0,
             "#0d0887"
            ],
            [
             0.1111111111111111,
             "#46039f"
            ],
            [
             0.2222222222222222,
             "#7201a8"
            ],
            [
             0.3333333333333333,
             "#9c179e"
            ],
            [
             0.4444444444444444,
             "#bd3786"
            ],
            [
             0.5555555555555556,
             "#d8576b"
            ],
            [
             0.6666666666666666,
             "#ed7953"
            ],
            [
             0.7777777777777778,
             "#fb9f3a"
            ],
            [
             0.8888888888888888,
             "#fdca26"
            ],
            [
             1,
             "#f0f921"
            ]
           ]
          },
          "colorway": [
           "#636efa",
           "#EF553B",
           "#00cc96",
           "#ab63fa",
           "#FFA15A",
           "#19d3f3",
           "#FF6692",
           "#B6E880",
           "#FF97FF",
           "#FECB52"
          ],
          "font": {
           "color": "#2a3f5f"
          },
          "geo": {
           "bgcolor": "white",
           "lakecolor": "white",
           "landcolor": "#E5ECF6",
           "showlakes": true,
           "showland": true,
           "subunitcolor": "white"
          },
          "hoverlabel": {
           "align": "left"
          },
          "hovermode": "closest",
          "mapbox": {
           "style": "light"
          },
          "paper_bgcolor": "white",
          "plot_bgcolor": "#E5ECF6",
          "polar": {
           "angularaxis": {
            "gridcolor": "white",
            "linecolor": "white",
            "ticks": ""
           },
           "bgcolor": "#E5ECF6",
           "radialaxis": {
            "gridcolor": "white",
            "linecolor": "white",
            "ticks": ""
           }
          },
          "scene": {
           "xaxis": {
            "backgroundcolor": "#E5ECF6",
            "gridcolor": "white",
            "gridwidth": 2,
            "linecolor": "white",
            "showbackground": true,
            "ticks": "",
            "zerolinecolor": "white"
           },
           "yaxis": {
            "backgroundcolor": "#E5ECF6",
            "gridcolor": "white",
            "gridwidth": 2,
            "linecolor": "white",
            "showbackground": true,
            "ticks": "",
            "zerolinecolor": "white"
           },
           "zaxis": {
            "backgroundcolor": "#E5ECF6",
            "gridcolor": "white",
            "gridwidth": 2,
            "linecolor": "white",
            "showbackground": true,
            "ticks": "",
            "zerolinecolor": "white"
           }
          },
          "shapedefaults": {
           "line": {
            "color": "#2a3f5f"
           }
          },
          "ternary": {
           "aaxis": {
            "gridcolor": "white",
            "linecolor": "white",
            "ticks": ""
           },
           "baxis": {
            "gridcolor": "white",
            "linecolor": "white",
            "ticks": ""
           },
           "bgcolor": "#E5ECF6",
           "caxis": {
            "gridcolor": "white",
            "linecolor": "white",
            "ticks": ""
           }
          },
          "title": {
           "x": 0.05
          },
          "xaxis": {
           "automargin": true,
           "gridcolor": "white",
           "linecolor": "white",
           "ticks": "",
           "title": {
            "standoff": 15
           },
           "zerolinecolor": "white",
           "zerolinewidth": 2
          },
          "yaxis": {
           "automargin": true,
           "gridcolor": "white",
           "linecolor": "white",
           "ticks": "",
           "title": {
            "standoff": 15
           },
           "zerolinecolor": "white",
           "zerolinewidth": 2
          }
         }
        },
        "title": {
         "text": "Hyperparameter Importances"
        },
        "xaxis": {
         "title": {
          "text": "Importance for F1-score"
         }
        },
        "yaxis": {
         "title": {
          "text": "Hyperparameter"
         }
        }
       }
      },
      "text/html": [
       "<div>                            <div id=\"17853c08-0d8a-49de-a240-3f3873921254\" class=\"plotly-graph-div\" style=\"height:525px; width:100%;\"></div>            <script type=\"text/javascript\">                require([\"plotly\"], function(Plotly) {                    window.PLOTLYENV=window.PLOTLYENV || {};                                    if (document.getElementById(\"17853c08-0d8a-49de-a240-3f3873921254\")) {                    Plotly.newPlot(                        \"17853c08-0d8a-49de-a240-3f3873921254\",                        [{\"cliponaxis\":false,\"hovertemplate\":[\"colsample_bytree (FloatDistribution): 0.012850420144235371<extra></extra>\",\"subsample (FloatDistribution): 0.02104684702614693<extra></extra>\",\"n_estimators (IntDistribution): 0.0311940833914762<extra></extra>\",\"min_child_weight (IntDistribution): 0.080751110705808<extra></extra>\",\"reg_lambda (IntDistribution): 0.18896142094525478<extra></extra>\",\"max_depth (IntDistribution): 0.26783446158329066<extra></extra>\",\"learning_rate (FloatDistribution): 0.39736165620378805<extra></extra>\"],\"marker\":{\"color\":\"rgb(66,146,198)\"},\"orientation\":\"h\",\"text\":[\"0.01\",\"0.02\",\"0.03\",\"0.08\",\"0.19\",\"0.27\",\"0.40\"],\"textposition\":\"outside\",\"x\":[0.012850420144235371,0.02104684702614693,0.0311940833914762,0.080751110705808,0.18896142094525478,0.26783446158329066,0.39736165620378805],\"y\":[\"colsample_bytree\",\"subsample\",\"n_estimators\",\"min_child_weight\",\"reg_lambda\",\"max_depth\",\"learning_rate\"],\"type\":\"bar\"}],                        {\"showlegend\":false,\"title\":{\"text\":\"Hyperparameter Importances\"},\"xaxis\":{\"title\":{\"text\":\"Importance for F1-score\"}},\"yaxis\":{\"title\":{\"text\":\"Hyperparameter\"}},\"template\":{\"data\":{\"histogram2dcontour\":[{\"type\":\"histogram2dcontour\",\"colorbar\":{\"outlinewidth\":0,\"ticks\":\"\"},\"colorscale\":[[0.0,\"#0d0887\"],[0.1111111111111111,\"#46039f\"],[0.2222222222222222,\"#7201a8\"],[0.3333333333333333,\"#9c179e\"],[0.4444444444444444,\"#bd3786\"],[0.5555555555555556,\"#d8576b\"],[0.6666666666666666,\"#ed7953\"],[0.7777777777777778,\"#fb9f3a\"],[0.8888888888888888,\"#fdca26\"],[1.0,\"#f0f921\"]]}],\"choropleth\":[{\"type\":\"choropleth\",\"colorbar\":{\"outlinewidth\":0,\"ticks\":\"\"}}],\"histogram2d\":[{\"type\":\"histogram2d\",\"colorbar\":{\"outlinewidth\":0,\"ticks\":\"\"},\"colorscale\":[[0.0,\"#0d0887\"],[0.1111111111111111,\"#46039f\"],[0.2222222222222222,\"#7201a8\"],[0.3333333333333333,\"#9c179e\"],[0.4444444444444444,\"#bd3786\"],[0.5555555555555556,\"#d8576b\"],[0.6666666666666666,\"#ed7953\"],[0.7777777777777778,\"#fb9f3a\"],[0.8888888888888888,\"#fdca26\"],[1.0,\"#f0f921\"]]}],\"heatmap\":[{\"type\":\"heatmap\",\"colorbar\":{\"outlinewidth\":0,\"ticks\":\"\"},\"colorscale\":[[0.0,\"#0d0887\"],[0.1111111111111111,\"#46039f\"],[0.2222222222222222,\"#7201a8\"],[0.3333333333333333,\"#9c179e\"],[0.4444444444444444,\"#bd3786\"],[0.5555555555555556,\"#d8576b\"],[0.6666666666666666,\"#ed7953\"],[0.7777777777777778,\"#fb9f3a\"],[0.8888888888888888,\"#fdca26\"],[1.0,\"#f0f921\"]]}],\"heatmapgl\":[{\"type\":\"heatmapgl\",\"colorbar\":{\"outlinewidth\":0,\"ticks\":\"\"},\"colorscale\":[[0.0,\"#0d0887\"],[0.1111111111111111,\"#46039f\"],[0.2222222222222222,\"#7201a8\"],[0.3333333333333333,\"#9c179e\"],[0.4444444444444444,\"#bd3786\"],[0.5555555555555556,\"#d8576b\"],[0.6666666666666666,\"#ed7953\"],[0.7777777777777778,\"#fb9f3a\"],[0.8888888888888888,\"#fdca26\"],[1.0,\"#f0f921\"]]}],\"contourcarpet\":[{\"type\":\"contourcarpet\",\"colorbar\":{\"outlinewidth\":0,\"ticks\":\"\"}}],\"contour\":[{\"type\":\"contour\",\"colorbar\":{\"outlinewidth\":0,\"ticks\":\"\"},\"colorscale\":[[0.0,\"#0d0887\"],[0.1111111111111111,\"#46039f\"],[0.2222222222222222,\"#7201a8\"],[0.3333333333333333,\"#9c179e\"],[0.4444444444444444,\"#bd3786\"],[0.5555555555555556,\"#d8576b\"],[0.6666666666666666,\"#ed7953\"],[0.7777777777777778,\"#fb9f3a\"],[0.8888888888888888,\"#fdca26\"],[1.0,\"#f0f921\"]]}],\"surface\":[{\"type\":\"surface\",\"colorbar\":{\"outlinewidth\":0,\"ticks\":\"\"},\"colorscale\":[[0.0,\"#0d0887\"],[0.1111111111111111,\"#46039f\"],[0.2222222222222222,\"#7201a8\"],[0.3333333333333333,\"#9c179e\"],[0.4444444444444444,\"#bd3786\"],[0.5555555555555556,\"#d8576b\"],[0.6666666666666666,\"#ed7953\"],[0.7777777777777778,\"#fb9f3a\"],[0.8888888888888888,\"#fdca26\"],[1.0,\"#f0f921\"]]}],\"mesh3d\":[{\"type\":\"mesh3d\",\"colorbar\":{\"outlinewidth\":0,\"ticks\":\"\"}}],\"scatter\":[{\"fillpattern\":{\"fillmode\":\"overlay\",\"size\":10,\"solidity\":0.2},\"type\":\"scatter\"}],\"parcoords\":[{\"type\":\"parcoords\",\"line\":{\"colorbar\":{\"outlinewidth\":0,\"ticks\":\"\"}}}],\"scatterpolargl\":[{\"type\":\"scatterpolargl\",\"marker\":{\"colorbar\":{\"outlinewidth\":0,\"ticks\":\"\"}}}],\"bar\":[{\"error_x\":{\"color\":\"#2a3f5f\"},\"error_y\":{\"color\":\"#2a3f5f\"},\"marker\":{\"line\":{\"color\":\"#E5ECF6\",\"width\":0.5},\"pattern\":{\"fillmode\":\"overlay\",\"size\":10,\"solidity\":0.2}},\"type\":\"bar\"}],\"scattergeo\":[{\"type\":\"scattergeo\",\"marker\":{\"colorbar\":{\"outlinewidth\":0,\"ticks\":\"\"}}}],\"scatterpolar\":[{\"type\":\"scatterpolar\",\"marker\":{\"colorbar\":{\"outlinewidth\":0,\"ticks\":\"\"}}}],\"histogram\":[{\"marker\":{\"pattern\":{\"fillmode\":\"overlay\",\"size\":10,\"solidity\":0.2}},\"type\":\"histogram\"}],\"scattergl\":[{\"type\":\"scattergl\",\"marker\":{\"colorbar\":{\"outlinewidth\":0,\"ticks\":\"\"}}}],\"scatter3d\":[{\"type\":\"scatter3d\",\"line\":{\"colorbar\":{\"outlinewidth\":0,\"ticks\":\"\"}},\"marker\":{\"colorbar\":{\"outlinewidth\":0,\"ticks\":\"\"}}}],\"scattermapbox\":[{\"type\":\"scattermapbox\",\"marker\":{\"colorbar\":{\"outlinewidth\":0,\"ticks\":\"\"}}}],\"scatterternary\":[{\"type\":\"scatterternary\",\"marker\":{\"colorbar\":{\"outlinewidth\":0,\"ticks\":\"\"}}}],\"scattercarpet\":[{\"type\":\"scattercarpet\",\"marker\":{\"colorbar\":{\"outlinewidth\":0,\"ticks\":\"\"}}}],\"carpet\":[{\"aaxis\":{\"endlinecolor\":\"#2a3f5f\",\"gridcolor\":\"white\",\"linecolor\":\"white\",\"minorgridcolor\":\"white\",\"startlinecolor\":\"#2a3f5f\"},\"baxis\":{\"endlinecolor\":\"#2a3f5f\",\"gridcolor\":\"white\",\"linecolor\":\"white\",\"minorgridcolor\":\"white\",\"startlinecolor\":\"#2a3f5f\"},\"type\":\"carpet\"}],\"table\":[{\"cells\":{\"fill\":{\"color\":\"#EBF0F8\"},\"line\":{\"color\":\"white\"}},\"header\":{\"fill\":{\"color\":\"#C8D4E3\"},\"line\":{\"color\":\"white\"}},\"type\":\"table\"}],\"barpolar\":[{\"marker\":{\"line\":{\"color\":\"#E5ECF6\",\"width\":0.5},\"pattern\":{\"fillmode\":\"overlay\",\"size\":10,\"solidity\":0.2}},\"type\":\"barpolar\"}],\"pie\":[{\"automargin\":true,\"type\":\"pie\"}]},\"layout\":{\"autotypenumbers\":\"strict\",\"colorway\":[\"#636efa\",\"#EF553B\",\"#00cc96\",\"#ab63fa\",\"#FFA15A\",\"#19d3f3\",\"#FF6692\",\"#B6E880\",\"#FF97FF\",\"#FECB52\"],\"font\":{\"color\":\"#2a3f5f\"},\"hovermode\":\"closest\",\"hoverlabel\":{\"align\":\"left\"},\"paper_bgcolor\":\"white\",\"plot_bgcolor\":\"#E5ECF6\",\"polar\":{\"bgcolor\":\"#E5ECF6\",\"angularaxis\":{\"gridcolor\":\"white\",\"linecolor\":\"white\",\"ticks\":\"\"},\"radialaxis\":{\"gridcolor\":\"white\",\"linecolor\":\"white\",\"ticks\":\"\"}},\"ternary\":{\"bgcolor\":\"#E5ECF6\",\"aaxis\":{\"gridcolor\":\"white\",\"linecolor\":\"white\",\"ticks\":\"\"},\"baxis\":{\"gridcolor\":\"white\",\"linecolor\":\"white\",\"ticks\":\"\"},\"caxis\":{\"gridcolor\":\"white\",\"linecolor\":\"white\",\"ticks\":\"\"}},\"coloraxis\":{\"colorbar\":{\"outlinewidth\":0,\"ticks\":\"\"}},\"colorscale\":{\"sequential\":[[0.0,\"#0d0887\"],[0.1111111111111111,\"#46039f\"],[0.2222222222222222,\"#7201a8\"],[0.3333333333333333,\"#9c179e\"],[0.4444444444444444,\"#bd3786\"],[0.5555555555555556,\"#d8576b\"],[0.6666666666666666,\"#ed7953\"],[0.7777777777777778,\"#fb9f3a\"],[0.8888888888888888,\"#fdca26\"],[1.0,\"#f0f921\"]],\"sequentialminus\":[[0.0,\"#0d0887\"],[0.1111111111111111,\"#46039f\"],[0.2222222222222222,\"#7201a8\"],[0.3333333333333333,\"#9c179e\"],[0.4444444444444444,\"#bd3786\"],[0.5555555555555556,\"#d8576b\"],[0.6666666666666666,\"#ed7953\"],[0.7777777777777778,\"#fb9f3a\"],[0.8888888888888888,\"#fdca26\"],[1.0,\"#f0f921\"]],\"diverging\":[[0,\"#8e0152\"],[0.1,\"#c51b7d\"],[0.2,\"#de77ae\"],[0.3,\"#f1b6da\"],[0.4,\"#fde0ef\"],[0.5,\"#f7f7f7\"],[0.6,\"#e6f5d0\"],[0.7,\"#b8e186\"],[0.8,\"#7fbc41\"],[0.9,\"#4d9221\"],[1,\"#276419\"]]},\"xaxis\":{\"gridcolor\":\"white\",\"linecolor\":\"white\",\"ticks\":\"\",\"title\":{\"standoff\":15},\"zerolinecolor\":\"white\",\"automargin\":true,\"zerolinewidth\":2},\"yaxis\":{\"gridcolor\":\"white\",\"linecolor\":\"white\",\"ticks\":\"\",\"title\":{\"standoff\":15},\"zerolinecolor\":\"white\",\"automargin\":true,\"zerolinewidth\":2},\"scene\":{\"xaxis\":{\"backgroundcolor\":\"#E5ECF6\",\"gridcolor\":\"white\",\"linecolor\":\"white\",\"showbackground\":true,\"ticks\":\"\",\"zerolinecolor\":\"white\",\"gridwidth\":2},\"yaxis\":{\"backgroundcolor\":\"#E5ECF6\",\"gridcolor\":\"white\",\"linecolor\":\"white\",\"showbackground\":true,\"ticks\":\"\",\"zerolinecolor\":\"white\",\"gridwidth\":2},\"zaxis\":{\"backgroundcolor\":\"#E5ECF6\",\"gridcolor\":\"white\",\"linecolor\":\"white\",\"showbackground\":true,\"ticks\":\"\",\"zerolinecolor\":\"white\",\"gridwidth\":2}},\"shapedefaults\":{\"line\":{\"color\":\"#2a3f5f\"}},\"annotationdefaults\":{\"arrowcolor\":\"#2a3f5f\",\"arrowhead\":0,\"arrowwidth\":1},\"geo\":{\"bgcolor\":\"white\",\"landcolor\":\"#E5ECF6\",\"subunitcolor\":\"white\",\"showland\":true,\"showlakes\":true,\"lakecolor\":\"white\"},\"title\":{\"x\":0.05},\"mapbox\":{\"style\":\"light\"}}}},                        {\"responsive\": true}                    ).then(function(){\n",
       "                            \n",
       "var gd = document.getElementById('17853c08-0d8a-49de-a240-3f3873921254');\n",
       "var x = new MutationObserver(function (mutations, observer) {{\n",
       "        var display = window.getComputedStyle(gd).display;\n",
       "        if (!display || display === 'none') {{\n",
       "            console.log([gd, 'removed!']);\n",
       "            Plotly.purge(gd);\n",
       "            observer.disconnect();\n",
       "        }}\n",
       "}});\n",
       "\n",
       "// Listen for the removal of the full notebook cells\n",
       "var notebookContainer = gd.closest('#notebook-container');\n",
       "if (notebookContainer) {{\n",
       "    x.observe(notebookContainer, {childList: true});\n",
       "}}\n",
       "\n",
       "// Listen for the clearing of the current output cell\n",
       "var outputEl = gd.closest('.output');\n",
       "if (outputEl) {{\n",
       "    x.observe(outputEl, {childList: true});\n",
       "}}\n",
       "\n",
       "                        })                };                });            </script>        </div>"
      ]
     },
     "metadata": {},
     "output_type": "display_data"
    }
   ],
   "source": [
    "params_optuna =['learning_rate', 'reg_lambda', 'min_child_weight','max_depth', \n",
    "                'colsample_bytree', 'n_estimators', 'subsample']\n",
    "                \n",
    "plot_param_importances(study_xgb, params=params_optuna, target_name='F1-score')"
   ]
  },
  {
   "cell_type": "markdown",
   "id": "8ffd1bf3",
   "metadata": {},
   "source": [
    "<div class=\"alert alert-block alert-info\" style=\"border-radius:15px\">\n",
    "<p style=\"color: black; font-family: Arial Black\">NOTA:</p>\n",
    "    \n",
    "Podemos notar que learning_rate é o parâmetro mais importante para otimizar, seguido por reg_lambda.\n",
    "\n",
    "</div>"
   ]
  },
  {
   "cell_type": "markdown",
   "id": "03e6aa13",
   "metadata": {},
   "source": [
    "#### 4.4.2.4. Coordenadas Paralelas de Relacionamento"
   ]
  },
  {
   "cell_type": "code",
   "execution_count": 79,
   "id": "f2a1a54c",
   "metadata": {
    "ExecuteTime": {
     "end_time": "2022-12-27T02:18:07.430119Z",
     "start_time": "2022-12-27T02:18:06.951096Z"
    }
   },
   "outputs": [
    {
     "data": {
      "application/vnd.plotly.v1+json": {
       "config": {
        "plotlyServerURL": "https://plot.ly"
       },
       "data": [
        {
         "dimensions": [
          {
           "label": "F1-scaore",
           "range": [
            0.67971,
            0.73565
           ],
           "values": [
            0.72987,
            0.71494,
            0.72712,
            0.73368,
            0.72742,
            0.68532,
            0.71349,
            0.71549,
            0.73141,
            0.71858,
            0.7334,
            0.71851,
            0.73156,
            0.73315,
            0.73142,
            0.73325,
            0.70755,
            0.71923,
            0.69787,
            0.70384,
            0.73053,
            0.72889,
            0.73229,
            0.7297,
            0.73351,
            0.72611,
            0.72722,
            0.72427,
            0.72955,
            0.73224,
            0.72823,
            0.73148,
            0.73339,
            0.72156,
            0.72677,
            0.73279,
            0.73112,
            0.73095,
            0.71726,
            0.73306,
            0.67971,
            0.73406,
            0.73159,
            0.73285,
            0.72349,
            0.71908,
            0.72597,
            0.73,
            0.73256,
            0.73159,
            0.72481,
            0.73219,
            0.73217,
            0.73191,
            0.72622,
            0.72374,
            0.72463,
            0.72773,
            0.72815,
            0.72919,
            0.73166,
            0.73107,
            0.7272,
            0.7328,
            0.73292,
            0.72235,
            0.72549,
            0.73197,
            0.73329,
            0.72371,
            0.7269,
            0.71914,
            0.73136,
            0.73277,
            0.73527,
            0.72947,
            0.73242,
            0.73045,
            0.73331,
            0.72988,
            0.69652,
            0.73462,
            0.73318,
            0.72911,
            0.73261,
            0.73245,
            0.73104,
            0.72569,
            0.72578,
            0.73108,
            0.73129,
            0.72675,
            0.73565,
            0.7315,
            0.72855,
            0.7309,
            0.71737,
            0.7289,
            0.73211,
            0.72846
           ]
          },
          {
           "label": "colsample_bytree",
           "range": [
            0.6217315306723024,
            0.9961188290872411
           ],
           "values": [
            0.945175000615857,
            0.9492144856878898,
            0.7244084104880744,
            0.9900547460292147,
            0.8902258775887049,
            0.886023391052349,
            0.9454638657196617,
            0.818183558589805,
            0.625031643966948,
            0.9417702665001773,
            0.8835768082978053,
            0.9040018268626967,
            0.9722924723258759,
            0.6988445536978487,
            0.9550758252001157,
            0.8176701971544899,
            0.8031776310018893,
            0.8972726620145751,
            0.8910954542892452,
            0.9763787746364055,
            0.8999001563905645,
            0.7872060587172288,
            0.9320661431499814,
            0.8585115607683038,
            0.8392960429874745,
            0.7840132469347667,
            0.8843986158090766,
            0.9221011686002707,
            0.9727274296384445,
            0.7013266037220139,
            0.8743201519710306,
            0.8405572511920459,
            0.8828655334222892,
            0.9304304641387872,
            0.7301460941799093,
            0.8941271914078034,
            0.9945886460074292,
            0.9680593025175112,
            0.7016284998546016,
            0.7613617552206225,
            0.8573589664357735,
            0.9834585935818371,
            0.9947293067528858,
            0.9386789354743136,
            0.8342691999780015,
            0.9492383949278986,
            0.9803513226159325,
            0.9016774074856413,
            0.8030238493594875,
            0.8540388982044086,
            0.8751846306007437,
            0.8162436532490109,
            0.8109590127380296,
            0.9171074262759432,
            0.7412058809516764,
            0.9339641285005421,
            0.8118763442188397,
            0.7450184018586005,
            0.7568894823700033,
            0.9293935406526378,
            0.6217315306723024,
            0.6366891412497057,
            0.752348602278309,
            0.7598994424849475,
            0.7003362580711987,
            0.930614694721275,
            0.7899890197618186,
            0.9961188290872411,
            0.9497106900196843,
            0.9604131443305634,
            0.8739075479336352,
            0.9733591703654814,
            0.9898369186795176,
            0.9639737828626035,
            0.9947721032530025,
            0.9900639656563281,
            0.9888549127683707,
            0.8939095373393713,
            0.9291752622518553,
            0.9463133427218728,
            0.9396987857432993,
            0.8916808229897895,
            0.8197770130333082,
            0.9511205300167233,
            0.9768025024167647,
            0.9627053954420787,
            0.8451617074559115,
            0.9556644327948511,
            0.8930988638496724,
            0.7903155272169804,
            0.9827884983955866,
            0.870973689373158,
            0.9005970989016857,
            0.8734919842988108,
            0.8339093101798695,
            0.8717815589843483,
            0.8415669267349939,
            0.9355381523390522,
            0.8030213174687396,
            0.8687223791974625
           ]
          },
          {
           "label": "learning_rate",
           "range": [
            0.0022621741457816823,
            0.09477869059711955
           ],
           "values": [
            0.03659790922415695,
            0.041670932721309194,
            0.0053033919968160466,
            0.03494746340955236,
            0.045040866518459975,
            0.0904581803019787,
            0.08241272890478765,
            0.025976715034300633,
            0.01981646682102825,
            0.04093848315917329,
            0.0337001027781866,
            0.05582265368697277,
            0.017285550922676175,
            0.039570186936004614,
            0.033496273343671036,
            0.03564544421486991,
            0.003978569996681898,
            0.08674148627586609,
            0.002611579514176572,
            0.004586387981613937,
            0.027882598227264736,
            0.04059296125690702,
            0.02988464732194323,
            0.045669368741249584,
            0.047921311490394136,
            0.07046854921402948,
            0.04441382862970776,
            0.034675209761109105,
            0.04082611351447395,
            0.06940593028330533,
            0.023001119236121723,
            0.04553309289015701,
            0.020952139923950616,
            0.004790988043046104,
            0.045084379143784055,
            0.02278908005081572,
            0.044505416062110476,
            0.07773655760759315,
            0.030619276057152995,
            0.04961807060959877,
            0.045312720501704935,
            0.023696113255248348,
            0.01685484831855927,
            0.04199434518953738,
            0.003895727177681215,
            0.03716175427786571,
            0.011701919175020732,
            0.06089295239316899,
            0.01649197726748369,
            0.013946800271713987,
            0.014173301742689961,
            0.044552351355456606,
            0.031163975589989627,
            0.04084813970839316,
            0.04846494743654127,
            0.013379404517962133,
            0.005757493701421788,
            0.029268598428752055,
            0.04329825960692519,
            0.02744847248414115,
            0.09477869059711955,
            0.03856187193055798,
            0.06720651998290826,
            0.04346058707246492,
            0.03730977551594309,
            0.05743784636617606,
            0.0501546286839637,
            0.03286199823767391,
            0.014054185358229401,
            0.03634644010516433,
            0.028023153990873337,
            0.0022621741457816823,
            0.020863360461924073,
            0.008681891828315075,
            0.03243373842072315,
            0.042971035556634826,
            0.030868819316067584,
            0.04118562519734574,
            0.04414434438082075,
            0.03192829751278366,
            0.030517883893701594,
            0.054624802753671826,
            0.059109620414515535,
            0.009481408998056703,
            0.03570933100692026,
            0.061655251794408714,
            0.06045684416864827,
            0.04315484526616363,
            0.06261816842024615,
            0.03822021107069848,
            0.03239408322071944,
            0.04135591354085698,
            0.04017754383444285,
            0.06044170482622295,
            0.05617691342435817,
            0.04669426290180978,
            0.0427800538064946,
            0.026543269814963813,
            0.024303580595147197,
            0.019479320156996917
           ]
          },
          {
           "label": "max_depth",
           "range": [
            2,
            10
           ],
           "values": [
            4,
            5,
            9,
            4,
            6,
            10,
            10,
            5,
            5,
            8,
            6,
            6,
            5,
            6,
            3,
            9,
            4,
            6,
            2,
            2,
            9,
            8,
            5,
            10,
            4,
            2,
            6,
            6,
            3,
            3,
            4,
            3,
            8,
            9,
            2,
            6,
            4,
            3,
            8,
            5,
            10,
            4,
            5,
            2,
            10,
            5,
            4,
            6,
            9,
            8,
            6,
            7,
            7,
            8,
            9,
            7,
            6,
            9,
            10,
            2,
            3,
            5,
            6,
            4,
            6,
            6,
            6,
            6,
            9,
            9,
            10,
            9,
            9,
            7,
            3,
            4,
            3,
            2,
            2,
            2,
            6,
            2,
            2,
            8,
            2,
            2,
            2,
            3,
            3,
            2,
            5,
            9,
            4,
            3,
            5,
            3,
            9,
            3,
            5,
            9
           ]
          },
          {
           "label": "min_child_weight",
           "range": [
            1,
            10
           ],
           "values": [
            7,
            2,
            8,
            4,
            6,
            10,
            9,
            6,
            8,
            2,
            7,
            7,
            9,
            8,
            1,
            8,
            4,
            4,
            6,
            2,
            8,
            7,
            5,
            9,
            6,
            7,
            8,
            1,
            5,
            1,
            8,
            8,
            7,
            6,
            4,
            7,
            4,
            2,
            1,
            4,
            6,
            4,
            2,
            5,
            9,
            5,
            4,
            7,
            9,
            6,
            7,
            5,
            9,
            5,
            6,
            10,
            6,
            8,
            9,
            2,
            1,
            7,
            9,
            3,
            9,
            1,
            6,
            6,
            5,
            7,
            4,
            7,
            5,
            3,
            2,
            4,
            2,
            2,
            3,
            2,
            2,
            5,
            5,
            5,
            7,
            5,
            3,
            1,
            2,
            10,
            6,
            7,
            6,
            5,
            7,
            4,
            6,
            4,
            7,
            8
           ]
          },
          {
           "label": "n_estimators",
           "range": [
            100,
            1500
           ],
           "values": [
            300,
            1200,
            900,
            1100,
            1100,
            1100,
            600,
            100,
            700,
            900,
            1100,
            1400,
            1300,
            1100,
            1100,
            600,
            800,
            1100,
            1300,
            900,
            800,
            800,
            1200,
            300,
            900,
            700,
            1300,
            300,
            800,
            1000,
            700,
            900,
            800,
            700,
            1300,
            800,
            1200,
            1300,
            700,
            800,
            1000,
            1200,
            1400,
            1500,
            1100,
            1500,
            1000,
            700,
            1500,
            900,
            600,
            900,
            400,
            400,
            500,
            400,
            1400,
            400,
            800,
            1300,
            1400,
            700,
            1200,
            800,
            900,
            1200,
            1400,
            1100,
            1200,
            200,
            1300,
            1200,
            900,
            1100,
            1100,
            700,
            900,
            900,
            1100,
            1000,
            1100,
            1300,
            1200,
            1200,
            1100,
            1400,
            1400,
            1400,
            800,
            900,
            800,
            700,
            1000,
            700,
            1000,
            1300,
            900,
            1300,
            1000,
            1500
           ]
          },
          {
           "label": "reg_lambda",
           "range": [
            1,
            91
           ],
           "values": [
            71,
            11,
            11,
            71,
            61,
            11,
            31,
            11,
            11,
            41,
            91,
            51,
            91,
            91,
            81,
            51,
            71,
            91,
            51,
            41,
            91,
            51,
            71,
            51,
            91,
            81,
            91,
            91,
            81,
            91,
            91,
            81,
            41,
            31,
            91,
            31,
            81,
            51,
            11,
            71,
            1,
            41,
            51,
            41,
            41,
            21,
            41,
            81,
            91,
            51,
            91,
            91,
            31,
            61,
            31,
            51,
            91,
            71,
            51,
            1,
            41,
            91,
            91,
            81,
            91,
            81,
            91,
            91,
            61,
            91,
            71,
            41,
            71,
            51,
            21,
            1,
            21,
            41,
            1,
            11,
            1,
            11,
            11,
            81,
            21,
            1,
            1,
            1,
            1,
            21,
            61,
            41,
            91,
            91,
            91,
            21,
            41,
            91,
            91,
            61
           ]
          },
          {
           "label": "subsample",
           "range": [
            0.7,
            1
           ],
           "values": [
            0.7999999999999999,
            0.85,
            0.95,
            0.75,
            0.95,
            0.85,
            0.8999999999999999,
            1,
            0.7,
            0.75,
            0.7,
            0.7,
            0.7,
            0.7,
            0.85,
            0.7,
            0.7,
            0.75,
            0.7999999999999999,
            0.7,
            0.7,
            0.75,
            0.7,
            0.7,
            0.7,
            0.7,
            0.75,
            0.7,
            0.75,
            0.7999999999999999,
            0.85,
            0.7,
            0.7,
            0.75,
            0.7,
            0.7,
            0.7999999999999999,
            0.7,
            1,
            0.7,
            0.75,
            0.7999999999999999,
            0.7999999999999999,
            0.7,
            0.75,
            0.7999999999999999,
            0.7999999999999999,
            0.7,
            0.7,
            0.7,
            0.7,
            0.7,
            0.75,
            0.7,
            0.7,
            0.7,
            0.75,
            0.7,
            0.7,
            1,
            1,
            0.7,
            0.7,
            1,
            0.7,
            0.7,
            0.7,
            0.7,
            0.8999999999999999,
            0.8999999999999999,
            0.85,
            0.8999999999999999,
            0.95,
            0.8999999999999999,
            0.7999999999999999,
            0.7999999999999999,
            0.8999999999999999,
            0.75,
            0.7999999999999999,
            0.7999999999999999,
            0.75,
            0.75,
            0.75,
            0.85,
            0.85,
            0.7,
            0.8999999999999999,
            0.7999999999999999,
            0.7999999999999999,
            0.75,
            0.85,
            0.7,
            0.75,
            0.7999999999999999,
            0.75,
            0.7999999999999999,
            0.8999999999999999,
            0.75,
            0.7,
            0.95
           ]
          }
         ],
         "labelangle": 30,
         "labelside": "bottom",
         "line": {
          "color": [
           0.72987,
           0.71494,
           0.72712,
           0.73368,
           0.72742,
           0.68532,
           0.71349,
           0.71549,
           0.73141,
           0.71858,
           0.7334,
           0.71851,
           0.73156,
           0.73315,
           0.73142,
           0.73325,
           0.70755,
           0.71923,
           0.69787,
           0.70384,
           0.73053,
           0.72889,
           0.73229,
           0.7297,
           0.73351,
           0.72611,
           0.72722,
           0.72427,
           0.72955,
           0.73224,
           0.72823,
           0.73148,
           0.73339,
           0.72156,
           0.72677,
           0.73279,
           0.73112,
           0.73095,
           0.71726,
           0.73306,
           0.67971,
           0.73406,
           0.73159,
           0.73285,
           0.72349,
           0.71908,
           0.72597,
           0.73,
           0.73256,
           0.73159,
           0.72481,
           0.73219,
           0.73217,
           0.73191,
           0.72622,
           0.72374,
           0.72463,
           0.72773,
           0.72815,
           0.72919,
           0.73166,
           0.73107,
           0.7272,
           0.7328,
           0.73292,
           0.72235,
           0.72549,
           0.73197,
           0.73329,
           0.72371,
           0.7269,
           0.71914,
           0.73136,
           0.73277,
           0.73527,
           0.72947,
           0.73242,
           0.73045,
           0.73331,
           0.72988,
           0.69652,
           0.73462,
           0.73318,
           0.72911,
           0.73261,
           0.73245,
           0.73104,
           0.72569,
           0.72578,
           0.73108,
           0.73129,
           0.72675,
           0.73565,
           0.7315,
           0.72855,
           0.7309,
           0.71737,
           0.7289,
           0.73211,
           0.72846
          ],
          "colorbar": {
           "title": {
            "text": "F1-scaore"
           }
          },
          "colorscale": [
           [
            0,
            "rgb(247,251,255)"
           ],
           [
            0.125,
            "rgb(222,235,247)"
           ],
           [
            0.25,
            "rgb(198,219,239)"
           ],
           [
            0.375,
            "rgb(158,202,225)"
           ],
           [
            0.5,
            "rgb(107,174,214)"
           ],
           [
            0.625,
            "rgb(66,146,198)"
           ],
           [
            0.75,
            "rgb(33,113,181)"
           ],
           [
            0.875,
            "rgb(8,81,156)"
           ],
           [
            1,
            "rgb(8,48,107)"
           ]
          ],
          "reversescale": false,
          "showscale": true
         },
         "type": "parcoords"
        }
       ],
       "layout": {
        "template": {
         "data": {
          "bar": [
           {
            "error_x": {
             "color": "#2a3f5f"
            },
            "error_y": {
             "color": "#2a3f5f"
            },
            "marker": {
             "line": {
              "color": "#E5ECF6",
              "width": 0.5
             },
             "pattern": {
              "fillmode": "overlay",
              "size": 10,
              "solidity": 0.2
             }
            },
            "type": "bar"
           }
          ],
          "barpolar": [
           {
            "marker": {
             "line": {
              "color": "#E5ECF6",
              "width": 0.5
             },
             "pattern": {
              "fillmode": "overlay",
              "size": 10,
              "solidity": 0.2
             }
            },
            "type": "barpolar"
           }
          ],
          "carpet": [
           {
            "aaxis": {
             "endlinecolor": "#2a3f5f",
             "gridcolor": "white",
             "linecolor": "white",
             "minorgridcolor": "white",
             "startlinecolor": "#2a3f5f"
            },
            "baxis": {
             "endlinecolor": "#2a3f5f",
             "gridcolor": "white",
             "linecolor": "white",
             "minorgridcolor": "white",
             "startlinecolor": "#2a3f5f"
            },
            "type": "carpet"
           }
          ],
          "choropleth": [
           {
            "colorbar": {
             "outlinewidth": 0,
             "ticks": ""
            },
            "type": "choropleth"
           }
          ],
          "contour": [
           {
            "colorbar": {
             "outlinewidth": 0,
             "ticks": ""
            },
            "colorscale": [
             [
              0,
              "#0d0887"
             ],
             [
              0.1111111111111111,
              "#46039f"
             ],
             [
              0.2222222222222222,
              "#7201a8"
             ],
             [
              0.3333333333333333,
              "#9c179e"
             ],
             [
              0.4444444444444444,
              "#bd3786"
             ],
             [
              0.5555555555555556,
              "#d8576b"
             ],
             [
              0.6666666666666666,
              "#ed7953"
             ],
             [
              0.7777777777777778,
              "#fb9f3a"
             ],
             [
              0.8888888888888888,
              "#fdca26"
             ],
             [
              1,
              "#f0f921"
             ]
            ],
            "type": "contour"
           }
          ],
          "contourcarpet": [
           {
            "colorbar": {
             "outlinewidth": 0,
             "ticks": ""
            },
            "type": "contourcarpet"
           }
          ],
          "heatmap": [
           {
            "colorbar": {
             "outlinewidth": 0,
             "ticks": ""
            },
            "colorscale": [
             [
              0,
              "#0d0887"
             ],
             [
              0.1111111111111111,
              "#46039f"
             ],
             [
              0.2222222222222222,
              "#7201a8"
             ],
             [
              0.3333333333333333,
              "#9c179e"
             ],
             [
              0.4444444444444444,
              "#bd3786"
             ],
             [
              0.5555555555555556,
              "#d8576b"
             ],
             [
              0.6666666666666666,
              "#ed7953"
             ],
             [
              0.7777777777777778,
              "#fb9f3a"
             ],
             [
              0.8888888888888888,
              "#fdca26"
             ],
             [
              1,
              "#f0f921"
             ]
            ],
            "type": "heatmap"
           }
          ],
          "heatmapgl": [
           {
            "colorbar": {
             "outlinewidth": 0,
             "ticks": ""
            },
            "colorscale": [
             [
              0,
              "#0d0887"
             ],
             [
              0.1111111111111111,
              "#46039f"
             ],
             [
              0.2222222222222222,
              "#7201a8"
             ],
             [
              0.3333333333333333,
              "#9c179e"
             ],
             [
              0.4444444444444444,
              "#bd3786"
             ],
             [
              0.5555555555555556,
              "#d8576b"
             ],
             [
              0.6666666666666666,
              "#ed7953"
             ],
             [
              0.7777777777777778,
              "#fb9f3a"
             ],
             [
              0.8888888888888888,
              "#fdca26"
             ],
             [
              1,
              "#f0f921"
             ]
            ],
            "type": "heatmapgl"
           }
          ],
          "histogram": [
           {
            "marker": {
             "pattern": {
              "fillmode": "overlay",
              "size": 10,
              "solidity": 0.2
             }
            },
            "type": "histogram"
           }
          ],
          "histogram2d": [
           {
            "colorbar": {
             "outlinewidth": 0,
             "ticks": ""
            },
            "colorscale": [
             [
              0,
              "#0d0887"
             ],
             [
              0.1111111111111111,
              "#46039f"
             ],
             [
              0.2222222222222222,
              "#7201a8"
             ],
             [
              0.3333333333333333,
              "#9c179e"
             ],
             [
              0.4444444444444444,
              "#bd3786"
             ],
             [
              0.5555555555555556,
              "#d8576b"
             ],
             [
              0.6666666666666666,
              "#ed7953"
             ],
             [
              0.7777777777777778,
              "#fb9f3a"
             ],
             [
              0.8888888888888888,
              "#fdca26"
             ],
             [
              1,
              "#f0f921"
             ]
            ],
            "type": "histogram2d"
           }
          ],
          "histogram2dcontour": [
           {
            "colorbar": {
             "outlinewidth": 0,
             "ticks": ""
            },
            "colorscale": [
             [
              0,
              "#0d0887"
             ],
             [
              0.1111111111111111,
              "#46039f"
             ],
             [
              0.2222222222222222,
              "#7201a8"
             ],
             [
              0.3333333333333333,
              "#9c179e"
             ],
             [
              0.4444444444444444,
              "#bd3786"
             ],
             [
              0.5555555555555556,
              "#d8576b"
             ],
             [
              0.6666666666666666,
              "#ed7953"
             ],
             [
              0.7777777777777778,
              "#fb9f3a"
             ],
             [
              0.8888888888888888,
              "#fdca26"
             ],
             [
              1,
              "#f0f921"
             ]
            ],
            "type": "histogram2dcontour"
           }
          ],
          "mesh3d": [
           {
            "colorbar": {
             "outlinewidth": 0,
             "ticks": ""
            },
            "type": "mesh3d"
           }
          ],
          "parcoords": [
           {
            "line": {
             "colorbar": {
              "outlinewidth": 0,
              "ticks": ""
             }
            },
            "type": "parcoords"
           }
          ],
          "pie": [
           {
            "automargin": true,
            "type": "pie"
           }
          ],
          "scatter": [
           {
            "fillpattern": {
             "fillmode": "overlay",
             "size": 10,
             "solidity": 0.2
            },
            "type": "scatter"
           }
          ],
          "scatter3d": [
           {
            "line": {
             "colorbar": {
              "outlinewidth": 0,
              "ticks": ""
             }
            },
            "marker": {
             "colorbar": {
              "outlinewidth": 0,
              "ticks": ""
             }
            },
            "type": "scatter3d"
           }
          ],
          "scattercarpet": [
           {
            "marker": {
             "colorbar": {
              "outlinewidth": 0,
              "ticks": ""
             }
            },
            "type": "scattercarpet"
           }
          ],
          "scattergeo": [
           {
            "marker": {
             "colorbar": {
              "outlinewidth": 0,
              "ticks": ""
             }
            },
            "type": "scattergeo"
           }
          ],
          "scattergl": [
           {
            "marker": {
             "colorbar": {
              "outlinewidth": 0,
              "ticks": ""
             }
            },
            "type": "scattergl"
           }
          ],
          "scattermapbox": [
           {
            "marker": {
             "colorbar": {
              "outlinewidth": 0,
              "ticks": ""
             }
            },
            "type": "scattermapbox"
           }
          ],
          "scatterpolar": [
           {
            "marker": {
             "colorbar": {
              "outlinewidth": 0,
              "ticks": ""
             }
            },
            "type": "scatterpolar"
           }
          ],
          "scatterpolargl": [
           {
            "marker": {
             "colorbar": {
              "outlinewidth": 0,
              "ticks": ""
             }
            },
            "type": "scatterpolargl"
           }
          ],
          "scatterternary": [
           {
            "marker": {
             "colorbar": {
              "outlinewidth": 0,
              "ticks": ""
             }
            },
            "type": "scatterternary"
           }
          ],
          "surface": [
           {
            "colorbar": {
             "outlinewidth": 0,
             "ticks": ""
            },
            "colorscale": [
             [
              0,
              "#0d0887"
             ],
             [
              0.1111111111111111,
              "#46039f"
             ],
             [
              0.2222222222222222,
              "#7201a8"
             ],
             [
              0.3333333333333333,
              "#9c179e"
             ],
             [
              0.4444444444444444,
              "#bd3786"
             ],
             [
              0.5555555555555556,
              "#d8576b"
             ],
             [
              0.6666666666666666,
              "#ed7953"
             ],
             [
              0.7777777777777778,
              "#fb9f3a"
             ],
             [
              0.8888888888888888,
              "#fdca26"
             ],
             [
              1,
              "#f0f921"
             ]
            ],
            "type": "surface"
           }
          ],
          "table": [
           {
            "cells": {
             "fill": {
              "color": "#EBF0F8"
             },
             "line": {
              "color": "white"
             }
            },
            "header": {
             "fill": {
              "color": "#C8D4E3"
             },
             "line": {
              "color": "white"
             }
            },
            "type": "table"
           }
          ]
         },
         "layout": {
          "annotationdefaults": {
           "arrowcolor": "#2a3f5f",
           "arrowhead": 0,
           "arrowwidth": 1
          },
          "autotypenumbers": "strict",
          "coloraxis": {
           "colorbar": {
            "outlinewidth": 0,
            "ticks": ""
           }
          },
          "colorscale": {
           "diverging": [
            [
             0,
             "#8e0152"
            ],
            [
             0.1,
             "#c51b7d"
            ],
            [
             0.2,
             "#de77ae"
            ],
            [
             0.3,
             "#f1b6da"
            ],
            [
             0.4,
             "#fde0ef"
            ],
            [
             0.5,
             "#f7f7f7"
            ],
            [
             0.6,
             "#e6f5d0"
            ],
            [
             0.7,
             "#b8e186"
            ],
            [
             0.8,
             "#7fbc41"
            ],
            [
             0.9,
             "#4d9221"
            ],
            [
             1,
             "#276419"
            ]
           ],
           "sequential": [
            [
             0,
             "#0d0887"
            ],
            [
             0.1111111111111111,
             "#46039f"
            ],
            [
             0.2222222222222222,
             "#7201a8"
            ],
            [
             0.3333333333333333,
             "#9c179e"
            ],
            [
             0.4444444444444444,
             "#bd3786"
            ],
            [
             0.5555555555555556,
             "#d8576b"
            ],
            [
             0.6666666666666666,
             "#ed7953"
            ],
            [
             0.7777777777777778,
             "#fb9f3a"
            ],
            [
             0.8888888888888888,
             "#fdca26"
            ],
            [
             1,
             "#f0f921"
            ]
           ],
           "sequentialminus": [
            [
             0,
             "#0d0887"
            ],
            [
             0.1111111111111111,
             "#46039f"
            ],
            [
             0.2222222222222222,
             "#7201a8"
            ],
            [
             0.3333333333333333,
             "#9c179e"
            ],
            [
             0.4444444444444444,
             "#bd3786"
            ],
            [
             0.5555555555555556,
             "#d8576b"
            ],
            [
             0.6666666666666666,
             "#ed7953"
            ],
            [
             0.7777777777777778,
             "#fb9f3a"
            ],
            [
             0.8888888888888888,
             "#fdca26"
            ],
            [
             1,
             "#f0f921"
            ]
           ]
          },
          "colorway": [
           "#636efa",
           "#EF553B",
           "#00cc96",
           "#ab63fa",
           "#FFA15A",
           "#19d3f3",
           "#FF6692",
           "#B6E880",
           "#FF97FF",
           "#FECB52"
          ],
          "font": {
           "color": "#2a3f5f"
          },
          "geo": {
           "bgcolor": "white",
           "lakecolor": "white",
           "landcolor": "#E5ECF6",
           "showlakes": true,
           "showland": true,
           "subunitcolor": "white"
          },
          "hoverlabel": {
           "align": "left"
          },
          "hovermode": "closest",
          "mapbox": {
           "style": "light"
          },
          "paper_bgcolor": "white",
          "plot_bgcolor": "#E5ECF6",
          "polar": {
           "angularaxis": {
            "gridcolor": "white",
            "linecolor": "white",
            "ticks": ""
           },
           "bgcolor": "#E5ECF6",
           "radialaxis": {
            "gridcolor": "white",
            "linecolor": "white",
            "ticks": ""
           }
          },
          "scene": {
           "xaxis": {
            "backgroundcolor": "#E5ECF6",
            "gridcolor": "white",
            "gridwidth": 2,
            "linecolor": "white",
            "showbackground": true,
            "ticks": "",
            "zerolinecolor": "white"
           },
           "yaxis": {
            "backgroundcolor": "#E5ECF6",
            "gridcolor": "white",
            "gridwidth": 2,
            "linecolor": "white",
            "showbackground": true,
            "ticks": "",
            "zerolinecolor": "white"
           },
           "zaxis": {
            "backgroundcolor": "#E5ECF6",
            "gridcolor": "white",
            "gridwidth": 2,
            "linecolor": "white",
            "showbackground": true,
            "ticks": "",
            "zerolinecolor": "white"
           }
          },
          "shapedefaults": {
           "line": {
            "color": "#2a3f5f"
           }
          },
          "ternary": {
           "aaxis": {
            "gridcolor": "white",
            "linecolor": "white",
            "ticks": ""
           },
           "baxis": {
            "gridcolor": "white",
            "linecolor": "white",
            "ticks": ""
           },
           "bgcolor": "#E5ECF6",
           "caxis": {
            "gridcolor": "white",
            "linecolor": "white",
            "ticks": ""
           }
          },
          "title": {
           "x": 0.05
          },
          "xaxis": {
           "automargin": true,
           "gridcolor": "white",
           "linecolor": "white",
           "ticks": "",
           "title": {
            "standoff": 15
           },
           "zerolinecolor": "white",
           "zerolinewidth": 2
          },
          "yaxis": {
           "automargin": true,
           "gridcolor": "white",
           "linecolor": "white",
           "ticks": "",
           "title": {
            "standoff": 15
           },
           "zerolinecolor": "white",
           "zerolinewidth": 2
          }
         }
        },
        "title": {
         "text": "Parallel Coordinate Plot"
        }
       }
      },
      "text/html": [
       "<div>                            <div id=\"2026611d-7de7-4bb4-9329-d59734e0b93e\" class=\"plotly-graph-div\" style=\"height:525px; width:100%;\"></div>            <script type=\"text/javascript\">                require([\"plotly\"], function(Plotly) {                    window.PLOTLYENV=window.PLOTLYENV || {};                                    if (document.getElementById(\"2026611d-7de7-4bb4-9329-d59734e0b93e\")) {                    Plotly.newPlot(                        \"2026611d-7de7-4bb4-9329-d59734e0b93e\",                        [{\"dimensions\":[{\"label\":\"F1-scaore\",\"range\":[0.67971,0.73565],\"values\":[0.72987,0.71494,0.72712,0.73368,0.72742,0.68532,0.71349,0.71549,0.73141,0.71858,0.7334,0.71851,0.73156,0.73315,0.73142,0.73325,0.70755,0.71923,0.69787,0.70384,0.73053,0.72889,0.73229,0.7297,0.73351,0.72611,0.72722,0.72427,0.72955,0.73224,0.72823,0.73148,0.73339,0.72156,0.72677,0.73279,0.73112,0.73095,0.71726,0.73306,0.67971,0.73406,0.73159,0.73285,0.72349,0.71908,0.72597,0.73,0.73256,0.73159,0.72481,0.73219,0.73217,0.73191,0.72622,0.72374,0.72463,0.72773,0.72815,0.72919,0.73166,0.73107,0.7272,0.7328,0.73292,0.72235,0.72549,0.73197,0.73329,0.72371,0.7269,0.71914,0.73136,0.73277,0.73527,0.72947,0.73242,0.73045,0.73331,0.72988,0.69652,0.73462,0.73318,0.72911,0.73261,0.73245,0.73104,0.72569,0.72578,0.73108,0.73129,0.72675,0.73565,0.7315,0.72855,0.7309,0.71737,0.7289,0.73211,0.72846]},{\"label\":\"colsample_bytree\",\"range\":[0.6217315306723024,0.9961188290872411],\"values\":[0.945175000615857,0.9492144856878898,0.7244084104880744,0.9900547460292147,0.8902258775887049,0.886023391052349,0.9454638657196617,0.818183558589805,0.625031643966948,0.9417702665001773,0.8835768082978053,0.9040018268626967,0.9722924723258759,0.6988445536978487,0.9550758252001157,0.8176701971544899,0.8031776310018893,0.8972726620145751,0.8910954542892452,0.9763787746364055,0.8999001563905645,0.7872060587172288,0.9320661431499814,0.8585115607683038,0.8392960429874745,0.7840132469347667,0.8843986158090766,0.9221011686002707,0.9727274296384445,0.7013266037220139,0.8743201519710306,0.8405572511920459,0.8828655334222892,0.9304304641387872,0.7301460941799093,0.8941271914078034,0.9945886460074292,0.9680593025175112,0.7016284998546016,0.7613617552206225,0.8573589664357735,0.9834585935818371,0.9947293067528858,0.9386789354743136,0.8342691999780015,0.9492383949278986,0.9803513226159325,0.9016774074856413,0.8030238493594875,0.8540388982044086,0.8751846306007437,0.8162436532490109,0.8109590127380296,0.9171074262759432,0.7412058809516764,0.9339641285005421,0.8118763442188397,0.7450184018586005,0.7568894823700033,0.9293935406526378,0.6217315306723024,0.6366891412497057,0.752348602278309,0.7598994424849475,0.7003362580711987,0.930614694721275,0.7899890197618186,0.9961188290872411,0.9497106900196843,0.9604131443305634,0.8739075479336352,0.9733591703654814,0.9898369186795176,0.9639737828626035,0.9947721032530025,0.9900639656563281,0.9888549127683707,0.8939095373393713,0.9291752622518553,0.9463133427218728,0.9396987857432993,0.8916808229897895,0.8197770130333082,0.9511205300167233,0.9768025024167647,0.9627053954420787,0.8451617074559115,0.9556644327948511,0.8930988638496724,0.7903155272169804,0.9827884983955866,0.870973689373158,0.9005970989016857,0.8734919842988108,0.8339093101798695,0.8717815589843483,0.8415669267349939,0.9355381523390522,0.8030213174687396,0.8687223791974625]},{\"label\":\"learning_rate\",\"range\":[0.0022621741457816823,0.09477869059711955],\"values\":[0.03659790922415695,0.041670932721309194,0.0053033919968160466,0.03494746340955236,0.045040866518459975,0.0904581803019787,0.08241272890478765,0.025976715034300633,0.01981646682102825,0.04093848315917329,0.0337001027781866,0.05582265368697277,0.017285550922676175,0.039570186936004614,0.033496273343671036,0.03564544421486991,0.003978569996681898,0.08674148627586609,0.002611579514176572,0.004586387981613937,0.027882598227264736,0.04059296125690702,0.02988464732194323,0.045669368741249584,0.047921311490394136,0.07046854921402948,0.04441382862970776,0.034675209761109105,0.04082611351447395,0.06940593028330533,0.023001119236121723,0.04553309289015701,0.020952139923950616,0.004790988043046104,0.045084379143784055,0.02278908005081572,0.044505416062110476,0.07773655760759315,0.030619276057152995,0.04961807060959877,0.045312720501704935,0.023696113255248348,0.01685484831855927,0.04199434518953738,0.003895727177681215,0.03716175427786571,0.011701919175020732,0.06089295239316899,0.01649197726748369,0.013946800271713987,0.014173301742689961,0.044552351355456606,0.031163975589989627,0.04084813970839316,0.04846494743654127,0.013379404517962133,0.005757493701421788,0.029268598428752055,0.04329825960692519,0.02744847248414115,0.09477869059711955,0.03856187193055798,0.06720651998290826,0.04346058707246492,0.03730977551594309,0.05743784636617606,0.0501546286839637,0.03286199823767391,0.014054185358229401,0.03634644010516433,0.028023153990873337,0.0022621741457816823,0.020863360461924073,0.008681891828315075,0.03243373842072315,0.042971035556634826,0.030868819316067584,0.04118562519734574,0.04414434438082075,0.03192829751278366,0.030517883893701594,0.054624802753671826,0.059109620414515535,0.009481408998056703,0.03570933100692026,0.061655251794408714,0.06045684416864827,0.04315484526616363,0.06261816842024615,0.03822021107069848,0.03239408322071944,0.04135591354085698,0.04017754383444285,0.06044170482622295,0.05617691342435817,0.04669426290180978,0.0427800538064946,0.026543269814963813,0.024303580595147197,0.019479320156996917]},{\"label\":\"max_depth\",\"range\":[2,10],\"values\":[4,5,9,4,6,10,10,5,5,8,6,6,5,6,3,9,4,6,2,2,9,8,5,10,4,2,6,6,3,3,4,3,8,9,2,6,4,3,8,5,10,4,5,2,10,5,4,6,9,8,6,7,7,8,9,7,6,9,10,2,3,5,6,4,6,6,6,6,9,9,10,9,9,7,3,4,3,2,2,2,6,2,2,8,2,2,2,3,3,2,5,9,4,3,5,3,9,3,5,9]},{\"label\":\"min_child_weight\",\"range\":[1,10],\"values\":[7,2,8,4,6,10,9,6,8,2,7,7,9,8,1,8,4,4,6,2,8,7,5,9,6,7,8,1,5,1,8,8,7,6,4,7,4,2,1,4,6,4,2,5,9,5,4,7,9,6,7,5,9,5,6,10,6,8,9,2,1,7,9,3,9,1,6,6,5,7,4,7,5,3,2,4,2,2,3,2,2,5,5,5,7,5,3,1,2,10,6,7,6,5,7,4,6,4,7,8]},{\"label\":\"n_estimators\",\"range\":[100,1500],\"values\":[300,1200,900,1100,1100,1100,600,100,700,900,1100,1400,1300,1100,1100,600,800,1100,1300,900,800,800,1200,300,900,700,1300,300,800,1000,700,900,800,700,1300,800,1200,1300,700,800,1000,1200,1400,1500,1100,1500,1000,700,1500,900,600,900,400,400,500,400,1400,400,800,1300,1400,700,1200,800,900,1200,1400,1100,1200,200,1300,1200,900,1100,1100,700,900,900,1100,1000,1100,1300,1200,1200,1100,1400,1400,1400,800,900,800,700,1000,700,1000,1300,900,1300,1000,1500]},{\"label\":\"reg_lambda\",\"range\":[1,91],\"values\":[71,11,11,71,61,11,31,11,11,41,91,51,91,91,81,51,71,91,51,41,91,51,71,51,91,81,91,91,81,91,91,81,41,31,91,31,81,51,11,71,1,41,51,41,41,21,41,81,91,51,91,91,31,61,31,51,91,71,51,1,41,91,91,81,91,81,91,91,61,91,71,41,71,51,21,1,21,41,1,11,1,11,11,81,21,1,1,1,1,21,61,41,91,91,91,21,41,91,91,61]},{\"label\":\"subsample\",\"range\":[0.7,1.0],\"values\":[0.7999999999999999,0.85,0.95,0.75,0.95,0.85,0.8999999999999999,1.0,0.7,0.75,0.7,0.7,0.7,0.7,0.85,0.7,0.7,0.75,0.7999999999999999,0.7,0.7,0.75,0.7,0.7,0.7,0.7,0.75,0.7,0.75,0.7999999999999999,0.85,0.7,0.7,0.75,0.7,0.7,0.7999999999999999,0.7,1.0,0.7,0.75,0.7999999999999999,0.7999999999999999,0.7,0.75,0.7999999999999999,0.7999999999999999,0.7,0.7,0.7,0.7,0.7,0.75,0.7,0.7,0.7,0.75,0.7,0.7,1.0,1.0,0.7,0.7,1.0,0.7,0.7,0.7,0.7,0.8999999999999999,0.8999999999999999,0.85,0.8999999999999999,0.95,0.8999999999999999,0.7999999999999999,0.7999999999999999,0.8999999999999999,0.75,0.7999999999999999,0.7999999999999999,0.75,0.75,0.75,0.85,0.85,0.7,0.8999999999999999,0.7999999999999999,0.7999999999999999,0.75,0.85,0.7,0.75,0.7999999999999999,0.75,0.7999999999999999,0.8999999999999999,0.75,0.7,0.95]}],\"labelangle\":30,\"labelside\":\"bottom\",\"line\":{\"color\":[0.72987,0.71494,0.72712,0.73368,0.72742,0.68532,0.71349,0.71549,0.73141,0.71858,0.7334,0.71851,0.73156,0.73315,0.73142,0.73325,0.70755,0.71923,0.69787,0.70384,0.73053,0.72889,0.73229,0.7297,0.73351,0.72611,0.72722,0.72427,0.72955,0.73224,0.72823,0.73148,0.73339,0.72156,0.72677,0.73279,0.73112,0.73095,0.71726,0.73306,0.67971,0.73406,0.73159,0.73285,0.72349,0.71908,0.72597,0.73,0.73256,0.73159,0.72481,0.73219,0.73217,0.73191,0.72622,0.72374,0.72463,0.72773,0.72815,0.72919,0.73166,0.73107,0.7272,0.7328,0.73292,0.72235,0.72549,0.73197,0.73329,0.72371,0.7269,0.71914,0.73136,0.73277,0.73527,0.72947,0.73242,0.73045,0.73331,0.72988,0.69652,0.73462,0.73318,0.72911,0.73261,0.73245,0.73104,0.72569,0.72578,0.73108,0.73129,0.72675,0.73565,0.7315,0.72855,0.7309,0.71737,0.7289,0.73211,0.72846],\"colorbar\":{\"title\":{\"text\":\"F1-scaore\"}},\"colorscale\":[[0.0,\"rgb(247,251,255)\"],[0.125,\"rgb(222,235,247)\"],[0.25,\"rgb(198,219,239)\"],[0.375,\"rgb(158,202,225)\"],[0.5,\"rgb(107,174,214)\"],[0.625,\"rgb(66,146,198)\"],[0.75,\"rgb(33,113,181)\"],[0.875,\"rgb(8,81,156)\"],[1.0,\"rgb(8,48,107)\"]],\"reversescale\":false,\"showscale\":true},\"type\":\"parcoords\"}],                        {\"title\":{\"text\":\"Parallel Coordinate Plot\"},\"template\":{\"data\":{\"histogram2dcontour\":[{\"type\":\"histogram2dcontour\",\"colorbar\":{\"outlinewidth\":0,\"ticks\":\"\"},\"colorscale\":[[0.0,\"#0d0887\"],[0.1111111111111111,\"#46039f\"],[0.2222222222222222,\"#7201a8\"],[0.3333333333333333,\"#9c179e\"],[0.4444444444444444,\"#bd3786\"],[0.5555555555555556,\"#d8576b\"],[0.6666666666666666,\"#ed7953\"],[0.7777777777777778,\"#fb9f3a\"],[0.8888888888888888,\"#fdca26\"],[1.0,\"#f0f921\"]]}],\"choropleth\":[{\"type\":\"choropleth\",\"colorbar\":{\"outlinewidth\":0,\"ticks\":\"\"}}],\"histogram2d\":[{\"type\":\"histogram2d\",\"colorbar\":{\"outlinewidth\":0,\"ticks\":\"\"},\"colorscale\":[[0.0,\"#0d0887\"],[0.1111111111111111,\"#46039f\"],[0.2222222222222222,\"#7201a8\"],[0.3333333333333333,\"#9c179e\"],[0.4444444444444444,\"#bd3786\"],[0.5555555555555556,\"#d8576b\"],[0.6666666666666666,\"#ed7953\"],[0.7777777777777778,\"#fb9f3a\"],[0.8888888888888888,\"#fdca26\"],[1.0,\"#f0f921\"]]}],\"heatmap\":[{\"type\":\"heatmap\",\"colorbar\":{\"outlinewidth\":0,\"ticks\":\"\"},\"colorscale\":[[0.0,\"#0d0887\"],[0.1111111111111111,\"#46039f\"],[0.2222222222222222,\"#7201a8\"],[0.3333333333333333,\"#9c179e\"],[0.4444444444444444,\"#bd3786\"],[0.5555555555555556,\"#d8576b\"],[0.6666666666666666,\"#ed7953\"],[0.7777777777777778,\"#fb9f3a\"],[0.8888888888888888,\"#fdca26\"],[1.0,\"#f0f921\"]]}],\"heatmapgl\":[{\"type\":\"heatmapgl\",\"colorbar\":{\"outlinewidth\":0,\"ticks\":\"\"},\"colorscale\":[[0.0,\"#0d0887\"],[0.1111111111111111,\"#46039f\"],[0.2222222222222222,\"#7201a8\"],[0.3333333333333333,\"#9c179e\"],[0.4444444444444444,\"#bd3786\"],[0.5555555555555556,\"#d8576b\"],[0.6666666666666666,\"#ed7953\"],[0.7777777777777778,\"#fb9f3a\"],[0.8888888888888888,\"#fdca26\"],[1.0,\"#f0f921\"]]}],\"contourcarpet\":[{\"type\":\"contourcarpet\",\"colorbar\":{\"outlinewidth\":0,\"ticks\":\"\"}}],\"contour\":[{\"type\":\"contour\",\"colorbar\":{\"outlinewidth\":0,\"ticks\":\"\"},\"colorscale\":[[0.0,\"#0d0887\"],[0.1111111111111111,\"#46039f\"],[0.2222222222222222,\"#7201a8\"],[0.3333333333333333,\"#9c179e\"],[0.4444444444444444,\"#bd3786\"],[0.5555555555555556,\"#d8576b\"],[0.6666666666666666,\"#ed7953\"],[0.7777777777777778,\"#fb9f3a\"],[0.8888888888888888,\"#fdca26\"],[1.0,\"#f0f921\"]]}],\"surface\":[{\"type\":\"surface\",\"colorbar\":{\"outlinewidth\":0,\"ticks\":\"\"},\"colorscale\":[[0.0,\"#0d0887\"],[0.1111111111111111,\"#46039f\"],[0.2222222222222222,\"#7201a8\"],[0.3333333333333333,\"#9c179e\"],[0.4444444444444444,\"#bd3786\"],[0.5555555555555556,\"#d8576b\"],[0.6666666666666666,\"#ed7953\"],[0.7777777777777778,\"#fb9f3a\"],[0.8888888888888888,\"#fdca26\"],[1.0,\"#f0f921\"]]}],\"mesh3d\":[{\"type\":\"mesh3d\",\"colorbar\":{\"outlinewidth\":0,\"ticks\":\"\"}}],\"scatter\":[{\"fillpattern\":{\"fillmode\":\"overlay\",\"size\":10,\"solidity\":0.2},\"type\":\"scatter\"}],\"parcoords\":[{\"type\":\"parcoords\",\"line\":{\"colorbar\":{\"outlinewidth\":0,\"ticks\":\"\"}}}],\"scatterpolargl\":[{\"type\":\"scatterpolargl\",\"marker\":{\"colorbar\":{\"outlinewidth\":0,\"ticks\":\"\"}}}],\"bar\":[{\"error_x\":{\"color\":\"#2a3f5f\"},\"error_y\":{\"color\":\"#2a3f5f\"},\"marker\":{\"line\":{\"color\":\"#E5ECF6\",\"width\":0.5},\"pattern\":{\"fillmode\":\"overlay\",\"size\":10,\"solidity\":0.2}},\"type\":\"bar\"}],\"scattergeo\":[{\"type\":\"scattergeo\",\"marker\":{\"colorbar\":{\"outlinewidth\":0,\"ticks\":\"\"}}}],\"scatterpolar\":[{\"type\":\"scatterpolar\",\"marker\":{\"colorbar\":{\"outlinewidth\":0,\"ticks\":\"\"}}}],\"histogram\":[{\"marker\":{\"pattern\":{\"fillmode\":\"overlay\",\"size\":10,\"solidity\":0.2}},\"type\":\"histogram\"}],\"scattergl\":[{\"type\":\"scattergl\",\"marker\":{\"colorbar\":{\"outlinewidth\":0,\"ticks\":\"\"}}}],\"scatter3d\":[{\"type\":\"scatter3d\",\"line\":{\"colorbar\":{\"outlinewidth\":0,\"ticks\":\"\"}},\"marker\":{\"colorbar\":{\"outlinewidth\":0,\"ticks\":\"\"}}}],\"scattermapbox\":[{\"type\":\"scattermapbox\",\"marker\":{\"colorbar\":{\"outlinewidth\":0,\"ticks\":\"\"}}}],\"scatterternary\":[{\"type\":\"scatterternary\",\"marker\":{\"colorbar\":{\"outlinewidth\":0,\"ticks\":\"\"}}}],\"scattercarpet\":[{\"type\":\"scattercarpet\",\"marker\":{\"colorbar\":{\"outlinewidth\":0,\"ticks\":\"\"}}}],\"carpet\":[{\"aaxis\":{\"endlinecolor\":\"#2a3f5f\",\"gridcolor\":\"white\",\"linecolor\":\"white\",\"minorgridcolor\":\"white\",\"startlinecolor\":\"#2a3f5f\"},\"baxis\":{\"endlinecolor\":\"#2a3f5f\",\"gridcolor\":\"white\",\"linecolor\":\"white\",\"minorgridcolor\":\"white\",\"startlinecolor\":\"#2a3f5f\"},\"type\":\"carpet\"}],\"table\":[{\"cells\":{\"fill\":{\"color\":\"#EBF0F8\"},\"line\":{\"color\":\"white\"}},\"header\":{\"fill\":{\"color\":\"#C8D4E3\"},\"line\":{\"color\":\"white\"}},\"type\":\"table\"}],\"barpolar\":[{\"marker\":{\"line\":{\"color\":\"#E5ECF6\",\"width\":0.5},\"pattern\":{\"fillmode\":\"overlay\",\"size\":10,\"solidity\":0.2}},\"type\":\"barpolar\"}],\"pie\":[{\"automargin\":true,\"type\":\"pie\"}]},\"layout\":{\"autotypenumbers\":\"strict\",\"colorway\":[\"#636efa\",\"#EF553B\",\"#00cc96\",\"#ab63fa\",\"#FFA15A\",\"#19d3f3\",\"#FF6692\",\"#B6E880\",\"#FF97FF\",\"#FECB52\"],\"font\":{\"color\":\"#2a3f5f\"},\"hovermode\":\"closest\",\"hoverlabel\":{\"align\":\"left\"},\"paper_bgcolor\":\"white\",\"plot_bgcolor\":\"#E5ECF6\",\"polar\":{\"bgcolor\":\"#E5ECF6\",\"angularaxis\":{\"gridcolor\":\"white\",\"linecolor\":\"white\",\"ticks\":\"\"},\"radialaxis\":{\"gridcolor\":\"white\",\"linecolor\":\"white\",\"ticks\":\"\"}},\"ternary\":{\"bgcolor\":\"#E5ECF6\",\"aaxis\":{\"gridcolor\":\"white\",\"linecolor\":\"white\",\"ticks\":\"\"},\"baxis\":{\"gridcolor\":\"white\",\"linecolor\":\"white\",\"ticks\":\"\"},\"caxis\":{\"gridcolor\":\"white\",\"linecolor\":\"white\",\"ticks\":\"\"}},\"coloraxis\":{\"colorbar\":{\"outlinewidth\":0,\"ticks\":\"\"}},\"colorscale\":{\"sequential\":[[0.0,\"#0d0887\"],[0.1111111111111111,\"#46039f\"],[0.2222222222222222,\"#7201a8\"],[0.3333333333333333,\"#9c179e\"],[0.4444444444444444,\"#bd3786\"],[0.5555555555555556,\"#d8576b\"],[0.6666666666666666,\"#ed7953\"],[0.7777777777777778,\"#fb9f3a\"],[0.8888888888888888,\"#fdca26\"],[1.0,\"#f0f921\"]],\"sequentialminus\":[[0.0,\"#0d0887\"],[0.1111111111111111,\"#46039f\"],[0.2222222222222222,\"#7201a8\"],[0.3333333333333333,\"#9c179e\"],[0.4444444444444444,\"#bd3786\"],[0.5555555555555556,\"#d8576b\"],[0.6666666666666666,\"#ed7953\"],[0.7777777777777778,\"#fb9f3a\"],[0.8888888888888888,\"#fdca26\"],[1.0,\"#f0f921\"]],\"diverging\":[[0,\"#8e0152\"],[0.1,\"#c51b7d\"],[0.2,\"#de77ae\"],[0.3,\"#f1b6da\"],[0.4,\"#fde0ef\"],[0.5,\"#f7f7f7\"],[0.6,\"#e6f5d0\"],[0.7,\"#b8e186\"],[0.8,\"#7fbc41\"],[0.9,\"#4d9221\"],[1,\"#276419\"]]},\"xaxis\":{\"gridcolor\":\"white\",\"linecolor\":\"white\",\"ticks\":\"\",\"title\":{\"standoff\":15},\"zerolinecolor\":\"white\",\"automargin\":true,\"zerolinewidth\":2},\"yaxis\":{\"gridcolor\":\"white\",\"linecolor\":\"white\",\"ticks\":\"\",\"title\":{\"standoff\":15},\"zerolinecolor\":\"white\",\"automargin\":true,\"zerolinewidth\":2},\"scene\":{\"xaxis\":{\"backgroundcolor\":\"#E5ECF6\",\"gridcolor\":\"white\",\"linecolor\":\"white\",\"showbackground\":true,\"ticks\":\"\",\"zerolinecolor\":\"white\",\"gridwidth\":2},\"yaxis\":{\"backgroundcolor\":\"#E5ECF6\",\"gridcolor\":\"white\",\"linecolor\":\"white\",\"showbackground\":true,\"ticks\":\"\",\"zerolinecolor\":\"white\",\"gridwidth\":2},\"zaxis\":{\"backgroundcolor\":\"#E5ECF6\",\"gridcolor\":\"white\",\"linecolor\":\"white\",\"showbackground\":true,\"ticks\":\"\",\"zerolinecolor\":\"white\",\"gridwidth\":2}},\"shapedefaults\":{\"line\":{\"color\":\"#2a3f5f\"}},\"annotationdefaults\":{\"arrowcolor\":\"#2a3f5f\",\"arrowhead\":0,\"arrowwidth\":1},\"geo\":{\"bgcolor\":\"white\",\"landcolor\":\"#E5ECF6\",\"subunitcolor\":\"white\",\"showland\":true,\"showlakes\":true,\"lakecolor\":\"white\"},\"title\":{\"x\":0.05},\"mapbox\":{\"style\":\"light\"}}}},                        {\"responsive\": true}                    ).then(function(){\n",
       "                            \n",
       "var gd = document.getElementById('2026611d-7de7-4bb4-9329-d59734e0b93e');\n",
       "var x = new MutationObserver(function (mutations, observer) {{\n",
       "        var display = window.getComputedStyle(gd).display;\n",
       "        if (!display || display === 'none') {{\n",
       "            console.log([gd, 'removed!']);\n",
       "            Plotly.purge(gd);\n",
       "            observer.disconnect();\n",
       "        }}\n",
       "}});\n",
       "\n",
       "// Listen for the removal of the full notebook cells\n",
       "var notebookContainer = gd.closest('#notebook-container');\n",
       "if (notebookContainer) {{\n",
       "    x.observe(notebookContainer, {childList: true});\n",
       "}}\n",
       "\n",
       "// Listen for the clearing of the current output cell\n",
       "var outputEl = gd.closest('.output');\n",
       "if (outputEl) {{\n",
       "    x.observe(outputEl, {childList: true});\n",
       "}}\n",
       "\n",
       "                        })                };                });            </script>        </div>"
      ]
     },
     "metadata": {},
     "output_type": "display_data"
    }
   ],
   "source": [
    "plot_parallel_coordinate(study_xgb, params=params_optuna, target_name = \"F1-scaore\" )"
   ]
  },
  {
   "cell_type": "code",
   "execution_count": 80,
   "id": "cc16107e",
   "metadata": {
    "ExecuteTime": {
     "end_time": "2022-12-27T02:18:13.627981Z",
     "start_time": "2022-12-27T02:18:12.657976Z"
    }
   },
   "outputs": [
    {
     "data": {
      "application/vnd.plotly.v1+json": {
       "config": {
        "plotlyServerURL": "https://plot.ly"
       },
       "data": [
        {
         "marker": {
          "color": [
           0,
           1,
           2,
           3,
           4,
           5,
           6,
           7,
           8,
           9,
           10,
           11,
           12,
           13,
           14,
           15,
           16,
           17,
           18,
           19,
           20,
           21,
           22,
           23,
           24,
           25,
           26,
           27,
           28,
           29,
           30,
           31,
           32,
           33,
           34,
           35,
           36,
           37,
           38,
           39,
           40,
           41,
           42,
           43,
           44,
           45,
           46,
           47,
           48,
           49,
           50,
           51,
           52,
           53,
           54,
           55,
           56,
           57,
           58,
           59,
           60,
           61,
           62,
           63,
           64,
           65,
           66,
           67,
           68,
           69,
           70,
           71,
           72,
           73,
           74,
           75,
           76,
           77,
           78,
           79,
           80,
           81,
           82,
           83,
           84,
           85,
           86,
           87,
           88,
           89,
           90,
           91,
           92,
           93,
           94,
           95,
           96,
           97,
           98,
           99
          ],
          "colorbar": {
           "title": {
            "text": "Trial"
           },
           "x": 1,
           "xpad": 40
          },
          "colorscale": [
           [
            0,
            "rgb(247,251,255)"
           ],
           [
            0.125,
            "rgb(222,235,247)"
           ],
           [
            0.25,
            "rgb(198,219,239)"
           ],
           [
            0.375,
            "rgb(158,202,225)"
           ],
           [
            0.5,
            "rgb(107,174,214)"
           ],
           [
            0.625,
            "rgb(66,146,198)"
           ],
           [
            0.75,
            "rgb(33,113,181)"
           ],
           [
            0.875,
            "rgb(8,81,156)"
           ],
           [
            1,
            "rgb(8,48,107)"
           ]
          ],
          "line": {
           "color": "Grey",
           "width": 0.5
          },
          "showscale": true
         },
         "mode": "markers",
         "showlegend": false,
         "type": "scatter",
         "x": [
          0.945175000615857,
          0.9492144856878898,
          0.7244084104880744,
          0.9900547460292147,
          0.8902258775887049,
          0.886023391052349,
          0.9454638657196617,
          0.818183558589805,
          0.625031643966948,
          0.9417702665001773,
          0.8835768082978053,
          0.9040018268626967,
          0.9722924723258759,
          0.6988445536978487,
          0.9550758252001157,
          0.8176701971544899,
          0.8031776310018893,
          0.8972726620145751,
          0.8910954542892452,
          0.9763787746364055,
          0.8999001563905645,
          0.7872060587172288,
          0.9320661431499814,
          0.8585115607683038,
          0.8392960429874745,
          0.7840132469347667,
          0.8843986158090766,
          0.9221011686002707,
          0.9727274296384445,
          0.7013266037220139,
          0.8743201519710306,
          0.8405572511920459,
          0.8828655334222892,
          0.9304304641387872,
          0.7301460941799093,
          0.8941271914078034,
          0.9945886460074292,
          0.9680593025175112,
          0.7016284998546016,
          0.7613617552206225,
          0.8573589664357735,
          0.9834585935818371,
          0.9947293067528858,
          0.9386789354743136,
          0.8342691999780015,
          0.9492383949278986,
          0.9803513226159325,
          0.9016774074856413,
          0.8030238493594875,
          0.8540388982044086,
          0.8751846306007437,
          0.8162436532490109,
          0.8109590127380296,
          0.9171074262759432,
          0.7412058809516764,
          0.9339641285005421,
          0.8118763442188397,
          0.7450184018586005,
          0.7568894823700033,
          0.9293935406526378,
          0.6217315306723024,
          0.6366891412497057,
          0.752348602278309,
          0.7598994424849475,
          0.7003362580711987,
          0.930614694721275,
          0.7899890197618186,
          0.9961188290872411,
          0.9497106900196843,
          0.9604131443305634,
          0.8739075479336352,
          0.9733591703654814,
          0.9898369186795176,
          0.9639737828626035,
          0.9947721032530025,
          0.9900639656563281,
          0.9888549127683707,
          0.8939095373393713,
          0.9291752622518553,
          0.9463133427218728,
          0.9396987857432993,
          0.8916808229897895,
          0.8197770130333082,
          0.9511205300167233,
          0.9768025024167647,
          0.9627053954420787,
          0.8451617074559115,
          0.9556644327948511,
          0.8930988638496724,
          0.7903155272169804,
          0.9827884983955866,
          0.870973689373158,
          0.9005970989016857,
          0.8734919842988108,
          0.8339093101798695,
          0.8717815589843483,
          0.8415669267349939,
          0.9355381523390522,
          0.8030213174687396,
          0.8687223791974625
         ],
         "xaxis": "x",
         "y": [
          0.72987,
          0.71494,
          0.72712,
          0.73368,
          0.72742,
          0.68532,
          0.71349,
          0.71549,
          0.73141,
          0.71858,
          0.7334,
          0.71851,
          0.73156,
          0.73315,
          0.73142,
          0.73325,
          0.70755,
          0.71923,
          0.69787,
          0.70384,
          0.73053,
          0.72889,
          0.73229,
          0.7297,
          0.73351,
          0.72611,
          0.72722,
          0.72427,
          0.72955,
          0.73224,
          0.72823,
          0.73148,
          0.73339,
          0.72156,
          0.72677,
          0.73279,
          0.73112,
          0.73095,
          0.71726,
          0.73306,
          0.67971,
          0.73406,
          0.73159,
          0.73285,
          0.72349,
          0.71908,
          0.72597,
          0.73,
          0.73256,
          0.73159,
          0.72481,
          0.73219,
          0.73217,
          0.73191,
          0.72622,
          0.72374,
          0.72463,
          0.72773,
          0.72815,
          0.72919,
          0.73166,
          0.73107,
          0.7272,
          0.7328,
          0.73292,
          0.72235,
          0.72549,
          0.73197,
          0.73329,
          0.72371,
          0.7269,
          0.71914,
          0.73136,
          0.73277,
          0.73527,
          0.72947,
          0.73242,
          0.73045,
          0.73331,
          0.72988,
          0.69652,
          0.73462,
          0.73318,
          0.72911,
          0.73261,
          0.73245,
          0.73104,
          0.72569,
          0.72578,
          0.73108,
          0.73129,
          0.72675,
          0.73565,
          0.7315,
          0.72855,
          0.7309,
          0.71737,
          0.7289,
          0.73211,
          0.72846
         ],
         "yaxis": "y"
        },
        {
         "marker": {
          "color": [
           0,
           1,
           2,
           3,
           4,
           5,
           6,
           7,
           8,
           9,
           10,
           11,
           12,
           13,
           14,
           15,
           16,
           17,
           18,
           19,
           20,
           21,
           22,
           23,
           24,
           25,
           26,
           27,
           28,
           29,
           30,
           31,
           32,
           33,
           34,
           35,
           36,
           37,
           38,
           39,
           40,
           41,
           42,
           43,
           44,
           45,
           46,
           47,
           48,
           49,
           50,
           51,
           52,
           53,
           54,
           55,
           56,
           57,
           58,
           59,
           60,
           61,
           62,
           63,
           64,
           65,
           66,
           67,
           68,
           69,
           70,
           71,
           72,
           73,
           74,
           75,
           76,
           77,
           78,
           79,
           80,
           81,
           82,
           83,
           84,
           85,
           86,
           87,
           88,
           89,
           90,
           91,
           92,
           93,
           94,
           95,
           96,
           97,
           98,
           99
          ],
          "colorbar": {
           "title": {
            "text": "Trial"
           },
           "x": 1,
           "xpad": 40
          },
          "colorscale": [
           [
            0,
            "rgb(247,251,255)"
           ],
           [
            0.125,
            "rgb(222,235,247)"
           ],
           [
            0.25,
            "rgb(198,219,239)"
           ],
           [
            0.375,
            "rgb(158,202,225)"
           ],
           [
            0.5,
            "rgb(107,174,214)"
           ],
           [
            0.625,
            "rgb(66,146,198)"
           ],
           [
            0.75,
            "rgb(33,113,181)"
           ],
           [
            0.875,
            "rgb(8,81,156)"
           ],
           [
            1,
            "rgb(8,48,107)"
           ]
          ],
          "line": {
           "color": "Grey",
           "width": 0.5
          },
          "showscale": false
         },
         "mode": "markers",
         "showlegend": false,
         "type": "scatter",
         "x": [
          0.03659790922415695,
          0.041670932721309194,
          0.0053033919968160466,
          0.03494746340955236,
          0.045040866518459975,
          0.0904581803019787,
          0.08241272890478765,
          0.025976715034300633,
          0.01981646682102825,
          0.04093848315917329,
          0.0337001027781866,
          0.05582265368697277,
          0.017285550922676175,
          0.039570186936004614,
          0.033496273343671036,
          0.03564544421486991,
          0.003978569996681898,
          0.08674148627586609,
          0.002611579514176572,
          0.004586387981613937,
          0.027882598227264736,
          0.04059296125690702,
          0.02988464732194323,
          0.045669368741249584,
          0.047921311490394136,
          0.07046854921402948,
          0.04441382862970776,
          0.034675209761109105,
          0.04082611351447395,
          0.06940593028330533,
          0.023001119236121723,
          0.04553309289015701,
          0.020952139923950616,
          0.004790988043046104,
          0.045084379143784055,
          0.02278908005081572,
          0.044505416062110476,
          0.07773655760759315,
          0.030619276057152995,
          0.04961807060959877,
          0.045312720501704935,
          0.023696113255248348,
          0.01685484831855927,
          0.04199434518953738,
          0.003895727177681215,
          0.03716175427786571,
          0.011701919175020732,
          0.06089295239316899,
          0.01649197726748369,
          0.013946800271713987,
          0.014173301742689961,
          0.044552351355456606,
          0.031163975589989627,
          0.04084813970839316,
          0.04846494743654127,
          0.013379404517962133,
          0.005757493701421788,
          0.029268598428752055,
          0.04329825960692519,
          0.02744847248414115,
          0.09477869059711955,
          0.03856187193055798,
          0.06720651998290826,
          0.04346058707246492,
          0.03730977551594309,
          0.05743784636617606,
          0.0501546286839637,
          0.03286199823767391,
          0.014054185358229401,
          0.03634644010516433,
          0.028023153990873337,
          0.0022621741457816823,
          0.020863360461924073,
          0.008681891828315075,
          0.03243373842072315,
          0.042971035556634826,
          0.030868819316067584,
          0.04118562519734574,
          0.04414434438082075,
          0.03192829751278366,
          0.030517883893701594,
          0.054624802753671826,
          0.059109620414515535,
          0.009481408998056703,
          0.03570933100692026,
          0.061655251794408714,
          0.06045684416864827,
          0.04315484526616363,
          0.06261816842024615,
          0.03822021107069848,
          0.03239408322071944,
          0.04135591354085698,
          0.04017754383444285,
          0.06044170482622295,
          0.05617691342435817,
          0.04669426290180978,
          0.0427800538064946,
          0.026543269814963813,
          0.024303580595147197,
          0.019479320156996917
         ],
         "xaxis": "x2",
         "y": [
          0.72987,
          0.71494,
          0.72712,
          0.73368,
          0.72742,
          0.68532,
          0.71349,
          0.71549,
          0.73141,
          0.71858,
          0.7334,
          0.71851,
          0.73156,
          0.73315,
          0.73142,
          0.73325,
          0.70755,
          0.71923,
          0.69787,
          0.70384,
          0.73053,
          0.72889,
          0.73229,
          0.7297,
          0.73351,
          0.72611,
          0.72722,
          0.72427,
          0.72955,
          0.73224,
          0.72823,
          0.73148,
          0.73339,
          0.72156,
          0.72677,
          0.73279,
          0.73112,
          0.73095,
          0.71726,
          0.73306,
          0.67971,
          0.73406,
          0.73159,
          0.73285,
          0.72349,
          0.71908,
          0.72597,
          0.73,
          0.73256,
          0.73159,
          0.72481,
          0.73219,
          0.73217,
          0.73191,
          0.72622,
          0.72374,
          0.72463,
          0.72773,
          0.72815,
          0.72919,
          0.73166,
          0.73107,
          0.7272,
          0.7328,
          0.73292,
          0.72235,
          0.72549,
          0.73197,
          0.73329,
          0.72371,
          0.7269,
          0.71914,
          0.73136,
          0.73277,
          0.73527,
          0.72947,
          0.73242,
          0.73045,
          0.73331,
          0.72988,
          0.69652,
          0.73462,
          0.73318,
          0.72911,
          0.73261,
          0.73245,
          0.73104,
          0.72569,
          0.72578,
          0.73108,
          0.73129,
          0.72675,
          0.73565,
          0.7315,
          0.72855,
          0.7309,
          0.71737,
          0.7289,
          0.73211,
          0.72846
         ],
         "yaxis": "y2"
        },
        {
         "marker": {
          "color": [
           0,
           1,
           2,
           3,
           4,
           5,
           6,
           7,
           8,
           9,
           10,
           11,
           12,
           13,
           14,
           15,
           16,
           17,
           18,
           19,
           20,
           21,
           22,
           23,
           24,
           25,
           26,
           27,
           28,
           29,
           30,
           31,
           32,
           33,
           34,
           35,
           36,
           37,
           38,
           39,
           40,
           41,
           42,
           43,
           44,
           45,
           46,
           47,
           48,
           49,
           50,
           51,
           52,
           53,
           54,
           55,
           56,
           57,
           58,
           59,
           60,
           61,
           62,
           63,
           64,
           65,
           66,
           67,
           68,
           69,
           70,
           71,
           72,
           73,
           74,
           75,
           76,
           77,
           78,
           79,
           80,
           81,
           82,
           83,
           84,
           85,
           86,
           87,
           88,
           89,
           90,
           91,
           92,
           93,
           94,
           95,
           96,
           97,
           98,
           99
          ],
          "colorbar": {
           "title": {
            "text": "Trial"
           },
           "x": 1,
           "xpad": 40
          },
          "colorscale": [
           [
            0,
            "rgb(247,251,255)"
           ],
           [
            0.125,
            "rgb(222,235,247)"
           ],
           [
            0.25,
            "rgb(198,219,239)"
           ],
           [
            0.375,
            "rgb(158,202,225)"
           ],
           [
            0.5,
            "rgb(107,174,214)"
           ],
           [
            0.625,
            "rgb(66,146,198)"
           ],
           [
            0.75,
            "rgb(33,113,181)"
           ],
           [
            0.875,
            "rgb(8,81,156)"
           ],
           [
            1,
            "rgb(8,48,107)"
           ]
          ],
          "line": {
           "color": "Grey",
           "width": 0.5
          },
          "showscale": false
         },
         "mode": "markers",
         "showlegend": false,
         "type": "scatter",
         "x": [
          4,
          5,
          9,
          4,
          6,
          10,
          10,
          5,
          5,
          8,
          6,
          6,
          5,
          6,
          3,
          9,
          4,
          6,
          2,
          2,
          9,
          8,
          5,
          10,
          4,
          2,
          6,
          6,
          3,
          3,
          4,
          3,
          8,
          9,
          2,
          6,
          4,
          3,
          8,
          5,
          10,
          4,
          5,
          2,
          10,
          5,
          4,
          6,
          9,
          8,
          6,
          7,
          7,
          8,
          9,
          7,
          6,
          9,
          10,
          2,
          3,
          5,
          6,
          4,
          6,
          6,
          6,
          6,
          9,
          9,
          10,
          9,
          9,
          7,
          3,
          4,
          3,
          2,
          2,
          2,
          6,
          2,
          2,
          8,
          2,
          2,
          2,
          3,
          3,
          2,
          5,
          9,
          4,
          3,
          5,
          3,
          9,
          3,
          5,
          9
         ],
         "xaxis": "x3",
         "y": [
          0.72987,
          0.71494,
          0.72712,
          0.73368,
          0.72742,
          0.68532,
          0.71349,
          0.71549,
          0.73141,
          0.71858,
          0.7334,
          0.71851,
          0.73156,
          0.73315,
          0.73142,
          0.73325,
          0.70755,
          0.71923,
          0.69787,
          0.70384,
          0.73053,
          0.72889,
          0.73229,
          0.7297,
          0.73351,
          0.72611,
          0.72722,
          0.72427,
          0.72955,
          0.73224,
          0.72823,
          0.73148,
          0.73339,
          0.72156,
          0.72677,
          0.73279,
          0.73112,
          0.73095,
          0.71726,
          0.73306,
          0.67971,
          0.73406,
          0.73159,
          0.73285,
          0.72349,
          0.71908,
          0.72597,
          0.73,
          0.73256,
          0.73159,
          0.72481,
          0.73219,
          0.73217,
          0.73191,
          0.72622,
          0.72374,
          0.72463,
          0.72773,
          0.72815,
          0.72919,
          0.73166,
          0.73107,
          0.7272,
          0.7328,
          0.73292,
          0.72235,
          0.72549,
          0.73197,
          0.73329,
          0.72371,
          0.7269,
          0.71914,
          0.73136,
          0.73277,
          0.73527,
          0.72947,
          0.73242,
          0.73045,
          0.73331,
          0.72988,
          0.69652,
          0.73462,
          0.73318,
          0.72911,
          0.73261,
          0.73245,
          0.73104,
          0.72569,
          0.72578,
          0.73108,
          0.73129,
          0.72675,
          0.73565,
          0.7315,
          0.72855,
          0.7309,
          0.71737,
          0.7289,
          0.73211,
          0.72846
         ],
         "yaxis": "y3"
        },
        {
         "marker": {
          "color": [
           0,
           1,
           2,
           3,
           4,
           5,
           6,
           7,
           8,
           9,
           10,
           11,
           12,
           13,
           14,
           15,
           16,
           17,
           18,
           19,
           20,
           21,
           22,
           23,
           24,
           25,
           26,
           27,
           28,
           29,
           30,
           31,
           32,
           33,
           34,
           35,
           36,
           37,
           38,
           39,
           40,
           41,
           42,
           43,
           44,
           45,
           46,
           47,
           48,
           49,
           50,
           51,
           52,
           53,
           54,
           55,
           56,
           57,
           58,
           59,
           60,
           61,
           62,
           63,
           64,
           65,
           66,
           67,
           68,
           69,
           70,
           71,
           72,
           73,
           74,
           75,
           76,
           77,
           78,
           79,
           80,
           81,
           82,
           83,
           84,
           85,
           86,
           87,
           88,
           89,
           90,
           91,
           92,
           93,
           94,
           95,
           96,
           97,
           98,
           99
          ],
          "colorbar": {
           "title": {
            "text": "Trial"
           },
           "x": 1,
           "xpad": 40
          },
          "colorscale": [
           [
            0,
            "rgb(247,251,255)"
           ],
           [
            0.125,
            "rgb(222,235,247)"
           ],
           [
            0.25,
            "rgb(198,219,239)"
           ],
           [
            0.375,
            "rgb(158,202,225)"
           ],
           [
            0.5,
            "rgb(107,174,214)"
           ],
           [
            0.625,
            "rgb(66,146,198)"
           ],
           [
            0.75,
            "rgb(33,113,181)"
           ],
           [
            0.875,
            "rgb(8,81,156)"
           ],
           [
            1,
            "rgb(8,48,107)"
           ]
          ],
          "line": {
           "color": "Grey",
           "width": 0.5
          },
          "showscale": false
         },
         "mode": "markers",
         "showlegend": false,
         "type": "scatter",
         "x": [
          7,
          2,
          8,
          4,
          6,
          10,
          9,
          6,
          8,
          2,
          7,
          7,
          9,
          8,
          1,
          8,
          4,
          4,
          6,
          2,
          8,
          7,
          5,
          9,
          6,
          7,
          8,
          1,
          5,
          1,
          8,
          8,
          7,
          6,
          4,
          7,
          4,
          2,
          1,
          4,
          6,
          4,
          2,
          5,
          9,
          5,
          4,
          7,
          9,
          6,
          7,
          5,
          9,
          5,
          6,
          10,
          6,
          8,
          9,
          2,
          1,
          7,
          9,
          3,
          9,
          1,
          6,
          6,
          5,
          7,
          4,
          7,
          5,
          3,
          2,
          4,
          2,
          2,
          3,
          2,
          2,
          5,
          5,
          5,
          7,
          5,
          3,
          1,
          2,
          10,
          6,
          7,
          6,
          5,
          7,
          4,
          6,
          4,
          7,
          8
         ],
         "xaxis": "x4",
         "y": [
          0.72987,
          0.71494,
          0.72712,
          0.73368,
          0.72742,
          0.68532,
          0.71349,
          0.71549,
          0.73141,
          0.71858,
          0.7334,
          0.71851,
          0.73156,
          0.73315,
          0.73142,
          0.73325,
          0.70755,
          0.71923,
          0.69787,
          0.70384,
          0.73053,
          0.72889,
          0.73229,
          0.7297,
          0.73351,
          0.72611,
          0.72722,
          0.72427,
          0.72955,
          0.73224,
          0.72823,
          0.73148,
          0.73339,
          0.72156,
          0.72677,
          0.73279,
          0.73112,
          0.73095,
          0.71726,
          0.73306,
          0.67971,
          0.73406,
          0.73159,
          0.73285,
          0.72349,
          0.71908,
          0.72597,
          0.73,
          0.73256,
          0.73159,
          0.72481,
          0.73219,
          0.73217,
          0.73191,
          0.72622,
          0.72374,
          0.72463,
          0.72773,
          0.72815,
          0.72919,
          0.73166,
          0.73107,
          0.7272,
          0.7328,
          0.73292,
          0.72235,
          0.72549,
          0.73197,
          0.73329,
          0.72371,
          0.7269,
          0.71914,
          0.73136,
          0.73277,
          0.73527,
          0.72947,
          0.73242,
          0.73045,
          0.73331,
          0.72988,
          0.69652,
          0.73462,
          0.73318,
          0.72911,
          0.73261,
          0.73245,
          0.73104,
          0.72569,
          0.72578,
          0.73108,
          0.73129,
          0.72675,
          0.73565,
          0.7315,
          0.72855,
          0.7309,
          0.71737,
          0.7289,
          0.73211,
          0.72846
         ],
         "yaxis": "y4"
        },
        {
         "marker": {
          "color": [
           0,
           1,
           2,
           3,
           4,
           5,
           6,
           7,
           8,
           9,
           10,
           11,
           12,
           13,
           14,
           15,
           16,
           17,
           18,
           19,
           20,
           21,
           22,
           23,
           24,
           25,
           26,
           27,
           28,
           29,
           30,
           31,
           32,
           33,
           34,
           35,
           36,
           37,
           38,
           39,
           40,
           41,
           42,
           43,
           44,
           45,
           46,
           47,
           48,
           49,
           50,
           51,
           52,
           53,
           54,
           55,
           56,
           57,
           58,
           59,
           60,
           61,
           62,
           63,
           64,
           65,
           66,
           67,
           68,
           69,
           70,
           71,
           72,
           73,
           74,
           75,
           76,
           77,
           78,
           79,
           80,
           81,
           82,
           83,
           84,
           85,
           86,
           87,
           88,
           89,
           90,
           91,
           92,
           93,
           94,
           95,
           96,
           97,
           98,
           99
          ],
          "colorbar": {
           "title": {
            "text": "Trial"
           },
           "x": 1,
           "xpad": 40
          },
          "colorscale": [
           [
            0,
            "rgb(247,251,255)"
           ],
           [
            0.125,
            "rgb(222,235,247)"
           ],
           [
            0.25,
            "rgb(198,219,239)"
           ],
           [
            0.375,
            "rgb(158,202,225)"
           ],
           [
            0.5,
            "rgb(107,174,214)"
           ],
           [
            0.625,
            "rgb(66,146,198)"
           ],
           [
            0.75,
            "rgb(33,113,181)"
           ],
           [
            0.875,
            "rgb(8,81,156)"
           ],
           [
            1,
            "rgb(8,48,107)"
           ]
          ],
          "line": {
           "color": "Grey",
           "width": 0.5
          },
          "showscale": false
         },
         "mode": "markers",
         "showlegend": false,
         "type": "scatter",
         "x": [
          300,
          1200,
          900,
          1100,
          1100,
          1100,
          600,
          100,
          700,
          900,
          1100,
          1400,
          1300,
          1100,
          1100,
          600,
          800,
          1100,
          1300,
          900,
          800,
          800,
          1200,
          300,
          900,
          700,
          1300,
          300,
          800,
          1000,
          700,
          900,
          800,
          700,
          1300,
          800,
          1200,
          1300,
          700,
          800,
          1000,
          1200,
          1400,
          1500,
          1100,
          1500,
          1000,
          700,
          1500,
          900,
          600,
          900,
          400,
          400,
          500,
          400,
          1400,
          400,
          800,
          1300,
          1400,
          700,
          1200,
          800,
          900,
          1200,
          1400,
          1100,
          1200,
          200,
          1300,
          1200,
          900,
          1100,
          1100,
          700,
          900,
          900,
          1100,
          1000,
          1100,
          1300,
          1200,
          1200,
          1100,
          1400,
          1400,
          1400,
          800,
          900,
          800,
          700,
          1000,
          700,
          1000,
          1300,
          900,
          1300,
          1000,
          1500
         ],
         "xaxis": "x5",
         "y": [
          0.72987,
          0.71494,
          0.72712,
          0.73368,
          0.72742,
          0.68532,
          0.71349,
          0.71549,
          0.73141,
          0.71858,
          0.7334,
          0.71851,
          0.73156,
          0.73315,
          0.73142,
          0.73325,
          0.70755,
          0.71923,
          0.69787,
          0.70384,
          0.73053,
          0.72889,
          0.73229,
          0.7297,
          0.73351,
          0.72611,
          0.72722,
          0.72427,
          0.72955,
          0.73224,
          0.72823,
          0.73148,
          0.73339,
          0.72156,
          0.72677,
          0.73279,
          0.73112,
          0.73095,
          0.71726,
          0.73306,
          0.67971,
          0.73406,
          0.73159,
          0.73285,
          0.72349,
          0.71908,
          0.72597,
          0.73,
          0.73256,
          0.73159,
          0.72481,
          0.73219,
          0.73217,
          0.73191,
          0.72622,
          0.72374,
          0.72463,
          0.72773,
          0.72815,
          0.72919,
          0.73166,
          0.73107,
          0.7272,
          0.7328,
          0.73292,
          0.72235,
          0.72549,
          0.73197,
          0.73329,
          0.72371,
          0.7269,
          0.71914,
          0.73136,
          0.73277,
          0.73527,
          0.72947,
          0.73242,
          0.73045,
          0.73331,
          0.72988,
          0.69652,
          0.73462,
          0.73318,
          0.72911,
          0.73261,
          0.73245,
          0.73104,
          0.72569,
          0.72578,
          0.73108,
          0.73129,
          0.72675,
          0.73565,
          0.7315,
          0.72855,
          0.7309,
          0.71737,
          0.7289,
          0.73211,
          0.72846
         ],
         "yaxis": "y5"
        },
        {
         "marker": {
          "color": [
           0,
           1,
           2,
           3,
           4,
           5,
           6,
           7,
           8,
           9,
           10,
           11,
           12,
           13,
           14,
           15,
           16,
           17,
           18,
           19,
           20,
           21,
           22,
           23,
           24,
           25,
           26,
           27,
           28,
           29,
           30,
           31,
           32,
           33,
           34,
           35,
           36,
           37,
           38,
           39,
           40,
           41,
           42,
           43,
           44,
           45,
           46,
           47,
           48,
           49,
           50,
           51,
           52,
           53,
           54,
           55,
           56,
           57,
           58,
           59,
           60,
           61,
           62,
           63,
           64,
           65,
           66,
           67,
           68,
           69,
           70,
           71,
           72,
           73,
           74,
           75,
           76,
           77,
           78,
           79,
           80,
           81,
           82,
           83,
           84,
           85,
           86,
           87,
           88,
           89,
           90,
           91,
           92,
           93,
           94,
           95,
           96,
           97,
           98,
           99
          ],
          "colorbar": {
           "title": {
            "text": "Trial"
           },
           "x": 1,
           "xpad": 40
          },
          "colorscale": [
           [
            0,
            "rgb(247,251,255)"
           ],
           [
            0.125,
            "rgb(222,235,247)"
           ],
           [
            0.25,
            "rgb(198,219,239)"
           ],
           [
            0.375,
            "rgb(158,202,225)"
           ],
           [
            0.5,
            "rgb(107,174,214)"
           ],
           [
            0.625,
            "rgb(66,146,198)"
           ],
           [
            0.75,
            "rgb(33,113,181)"
           ],
           [
            0.875,
            "rgb(8,81,156)"
           ],
           [
            1,
            "rgb(8,48,107)"
           ]
          ],
          "line": {
           "color": "Grey",
           "width": 0.5
          },
          "showscale": false
         },
         "mode": "markers",
         "showlegend": false,
         "type": "scatter",
         "x": [
          71,
          11,
          11,
          71,
          61,
          11,
          31,
          11,
          11,
          41,
          91,
          51,
          91,
          91,
          81,
          51,
          71,
          91,
          51,
          41,
          91,
          51,
          71,
          51,
          91,
          81,
          91,
          91,
          81,
          91,
          91,
          81,
          41,
          31,
          91,
          31,
          81,
          51,
          11,
          71,
          1,
          41,
          51,
          41,
          41,
          21,
          41,
          81,
          91,
          51,
          91,
          91,
          31,
          61,
          31,
          51,
          91,
          71,
          51,
          1,
          41,
          91,
          91,
          81,
          91,
          81,
          91,
          91,
          61,
          91,
          71,
          41,
          71,
          51,
          21,
          1,
          21,
          41,
          1,
          11,
          1,
          11,
          11,
          81,
          21,
          1,
          1,
          1,
          1,
          21,
          61,
          41,
          91,
          91,
          91,
          21,
          41,
          91,
          91,
          61
         ],
         "xaxis": "x6",
         "y": [
          0.72987,
          0.71494,
          0.72712,
          0.73368,
          0.72742,
          0.68532,
          0.71349,
          0.71549,
          0.73141,
          0.71858,
          0.7334,
          0.71851,
          0.73156,
          0.73315,
          0.73142,
          0.73325,
          0.70755,
          0.71923,
          0.69787,
          0.70384,
          0.73053,
          0.72889,
          0.73229,
          0.7297,
          0.73351,
          0.72611,
          0.72722,
          0.72427,
          0.72955,
          0.73224,
          0.72823,
          0.73148,
          0.73339,
          0.72156,
          0.72677,
          0.73279,
          0.73112,
          0.73095,
          0.71726,
          0.73306,
          0.67971,
          0.73406,
          0.73159,
          0.73285,
          0.72349,
          0.71908,
          0.72597,
          0.73,
          0.73256,
          0.73159,
          0.72481,
          0.73219,
          0.73217,
          0.73191,
          0.72622,
          0.72374,
          0.72463,
          0.72773,
          0.72815,
          0.72919,
          0.73166,
          0.73107,
          0.7272,
          0.7328,
          0.73292,
          0.72235,
          0.72549,
          0.73197,
          0.73329,
          0.72371,
          0.7269,
          0.71914,
          0.73136,
          0.73277,
          0.73527,
          0.72947,
          0.73242,
          0.73045,
          0.73331,
          0.72988,
          0.69652,
          0.73462,
          0.73318,
          0.72911,
          0.73261,
          0.73245,
          0.73104,
          0.72569,
          0.72578,
          0.73108,
          0.73129,
          0.72675,
          0.73565,
          0.7315,
          0.72855,
          0.7309,
          0.71737,
          0.7289,
          0.73211,
          0.72846
         ],
         "yaxis": "y6"
        },
        {
         "marker": {
          "color": [
           0,
           1,
           2,
           3,
           4,
           5,
           6,
           7,
           8,
           9,
           10,
           11,
           12,
           13,
           14,
           15,
           16,
           17,
           18,
           19,
           20,
           21,
           22,
           23,
           24,
           25,
           26,
           27,
           28,
           29,
           30,
           31,
           32,
           33,
           34,
           35,
           36,
           37,
           38,
           39,
           40,
           41,
           42,
           43,
           44,
           45,
           46,
           47,
           48,
           49,
           50,
           51,
           52,
           53,
           54,
           55,
           56,
           57,
           58,
           59,
           60,
           61,
           62,
           63,
           64,
           65,
           66,
           67,
           68,
           69,
           70,
           71,
           72,
           73,
           74,
           75,
           76,
           77,
           78,
           79,
           80,
           81,
           82,
           83,
           84,
           85,
           86,
           87,
           88,
           89,
           90,
           91,
           92,
           93,
           94,
           95,
           96,
           97,
           98,
           99
          ],
          "colorbar": {
           "title": {
            "text": "Trial"
           },
           "x": 1,
           "xpad": 40
          },
          "colorscale": [
           [
            0,
            "rgb(247,251,255)"
           ],
           [
            0.125,
            "rgb(222,235,247)"
           ],
           [
            0.25,
            "rgb(198,219,239)"
           ],
           [
            0.375,
            "rgb(158,202,225)"
           ],
           [
            0.5,
            "rgb(107,174,214)"
           ],
           [
            0.625,
            "rgb(66,146,198)"
           ],
           [
            0.75,
            "rgb(33,113,181)"
           ],
           [
            0.875,
            "rgb(8,81,156)"
           ],
           [
            1,
            "rgb(8,48,107)"
           ]
          ],
          "line": {
           "color": "Grey",
           "width": 0.5
          },
          "showscale": false
         },
         "mode": "markers",
         "showlegend": false,
         "type": "scatter",
         "x": [
          0.7999999999999999,
          0.85,
          0.95,
          0.75,
          0.95,
          0.85,
          0.8999999999999999,
          1,
          0.7,
          0.75,
          0.7,
          0.7,
          0.7,
          0.7,
          0.85,
          0.7,
          0.7,
          0.75,
          0.7999999999999999,
          0.7,
          0.7,
          0.75,
          0.7,
          0.7,
          0.7,
          0.7,
          0.75,
          0.7,
          0.75,
          0.7999999999999999,
          0.85,
          0.7,
          0.7,
          0.75,
          0.7,
          0.7,
          0.7999999999999999,
          0.7,
          1,
          0.7,
          0.75,
          0.7999999999999999,
          0.7999999999999999,
          0.7,
          0.75,
          0.7999999999999999,
          0.7999999999999999,
          0.7,
          0.7,
          0.7,
          0.7,
          0.7,
          0.75,
          0.7,
          0.7,
          0.7,
          0.75,
          0.7,
          0.7,
          1,
          1,
          0.7,
          0.7,
          1,
          0.7,
          0.7,
          0.7,
          0.7,
          0.8999999999999999,
          0.8999999999999999,
          0.85,
          0.8999999999999999,
          0.95,
          0.8999999999999999,
          0.7999999999999999,
          0.7999999999999999,
          0.8999999999999999,
          0.75,
          0.7999999999999999,
          0.7999999999999999,
          0.75,
          0.75,
          0.75,
          0.85,
          0.85,
          0.7,
          0.8999999999999999,
          0.7999999999999999,
          0.7999999999999999,
          0.75,
          0.85,
          0.7,
          0.75,
          0.7999999999999999,
          0.75,
          0.7999999999999999,
          0.8999999999999999,
          0.75,
          0.7,
          0.95
         ],
         "xaxis": "x7",
         "y": [
          0.72987,
          0.71494,
          0.72712,
          0.73368,
          0.72742,
          0.68532,
          0.71349,
          0.71549,
          0.73141,
          0.71858,
          0.7334,
          0.71851,
          0.73156,
          0.73315,
          0.73142,
          0.73325,
          0.70755,
          0.71923,
          0.69787,
          0.70384,
          0.73053,
          0.72889,
          0.73229,
          0.7297,
          0.73351,
          0.72611,
          0.72722,
          0.72427,
          0.72955,
          0.73224,
          0.72823,
          0.73148,
          0.73339,
          0.72156,
          0.72677,
          0.73279,
          0.73112,
          0.73095,
          0.71726,
          0.73306,
          0.67971,
          0.73406,
          0.73159,
          0.73285,
          0.72349,
          0.71908,
          0.72597,
          0.73,
          0.73256,
          0.73159,
          0.72481,
          0.73219,
          0.73217,
          0.73191,
          0.72622,
          0.72374,
          0.72463,
          0.72773,
          0.72815,
          0.72919,
          0.73166,
          0.73107,
          0.7272,
          0.7328,
          0.73292,
          0.72235,
          0.72549,
          0.73197,
          0.73329,
          0.72371,
          0.7269,
          0.71914,
          0.73136,
          0.73277,
          0.73527,
          0.72947,
          0.73242,
          0.73045,
          0.73331,
          0.72988,
          0.69652,
          0.73462,
          0.73318,
          0.72911,
          0.73261,
          0.73245,
          0.73104,
          0.72569,
          0.72578,
          0.73108,
          0.73129,
          0.72675,
          0.73565,
          0.7315,
          0.72855,
          0.7309,
          0.71737,
          0.7289,
          0.73211,
          0.72846
         ],
         "yaxis": "y7"
        }
       ],
       "layout": {
        "template": {
         "data": {
          "bar": [
           {
            "error_x": {
             "color": "#2a3f5f"
            },
            "error_y": {
             "color": "#2a3f5f"
            },
            "marker": {
             "line": {
              "color": "#E5ECF6",
              "width": 0.5
             },
             "pattern": {
              "fillmode": "overlay",
              "size": 10,
              "solidity": 0.2
             }
            },
            "type": "bar"
           }
          ],
          "barpolar": [
           {
            "marker": {
             "line": {
              "color": "#E5ECF6",
              "width": 0.5
             },
             "pattern": {
              "fillmode": "overlay",
              "size": 10,
              "solidity": 0.2
             }
            },
            "type": "barpolar"
           }
          ],
          "carpet": [
           {
            "aaxis": {
             "endlinecolor": "#2a3f5f",
             "gridcolor": "white",
             "linecolor": "white",
             "minorgridcolor": "white",
             "startlinecolor": "#2a3f5f"
            },
            "baxis": {
             "endlinecolor": "#2a3f5f",
             "gridcolor": "white",
             "linecolor": "white",
             "minorgridcolor": "white",
             "startlinecolor": "#2a3f5f"
            },
            "type": "carpet"
           }
          ],
          "choropleth": [
           {
            "colorbar": {
             "outlinewidth": 0,
             "ticks": ""
            },
            "type": "choropleth"
           }
          ],
          "contour": [
           {
            "colorbar": {
             "outlinewidth": 0,
             "ticks": ""
            },
            "colorscale": [
             [
              0,
              "#0d0887"
             ],
             [
              0.1111111111111111,
              "#46039f"
             ],
             [
              0.2222222222222222,
              "#7201a8"
             ],
             [
              0.3333333333333333,
              "#9c179e"
             ],
             [
              0.4444444444444444,
              "#bd3786"
             ],
             [
              0.5555555555555556,
              "#d8576b"
             ],
             [
              0.6666666666666666,
              "#ed7953"
             ],
             [
              0.7777777777777778,
              "#fb9f3a"
             ],
             [
              0.8888888888888888,
              "#fdca26"
             ],
             [
              1,
              "#f0f921"
             ]
            ],
            "type": "contour"
           }
          ],
          "contourcarpet": [
           {
            "colorbar": {
             "outlinewidth": 0,
             "ticks": ""
            },
            "type": "contourcarpet"
           }
          ],
          "heatmap": [
           {
            "colorbar": {
             "outlinewidth": 0,
             "ticks": ""
            },
            "colorscale": [
             [
              0,
              "#0d0887"
             ],
             [
              0.1111111111111111,
              "#46039f"
             ],
             [
              0.2222222222222222,
              "#7201a8"
             ],
             [
              0.3333333333333333,
              "#9c179e"
             ],
             [
              0.4444444444444444,
              "#bd3786"
             ],
             [
              0.5555555555555556,
              "#d8576b"
             ],
             [
              0.6666666666666666,
              "#ed7953"
             ],
             [
              0.7777777777777778,
              "#fb9f3a"
             ],
             [
              0.8888888888888888,
              "#fdca26"
             ],
             [
              1,
              "#f0f921"
             ]
            ],
            "type": "heatmap"
           }
          ],
          "heatmapgl": [
           {
            "colorbar": {
             "outlinewidth": 0,
             "ticks": ""
            },
            "colorscale": [
             [
              0,
              "#0d0887"
             ],
             [
              0.1111111111111111,
              "#46039f"
             ],
             [
              0.2222222222222222,
              "#7201a8"
             ],
             [
              0.3333333333333333,
              "#9c179e"
             ],
             [
              0.4444444444444444,
              "#bd3786"
             ],
             [
              0.5555555555555556,
              "#d8576b"
             ],
             [
              0.6666666666666666,
              "#ed7953"
             ],
             [
              0.7777777777777778,
              "#fb9f3a"
             ],
             [
              0.8888888888888888,
              "#fdca26"
             ],
             [
              1,
              "#f0f921"
             ]
            ],
            "type": "heatmapgl"
           }
          ],
          "histogram": [
           {
            "marker": {
             "pattern": {
              "fillmode": "overlay",
              "size": 10,
              "solidity": 0.2
             }
            },
            "type": "histogram"
           }
          ],
          "histogram2d": [
           {
            "colorbar": {
             "outlinewidth": 0,
             "ticks": ""
            },
            "colorscale": [
             [
              0,
              "#0d0887"
             ],
             [
              0.1111111111111111,
              "#46039f"
             ],
             [
              0.2222222222222222,
              "#7201a8"
             ],
             [
              0.3333333333333333,
              "#9c179e"
             ],
             [
              0.4444444444444444,
              "#bd3786"
             ],
             [
              0.5555555555555556,
              "#d8576b"
             ],
             [
              0.6666666666666666,
              "#ed7953"
             ],
             [
              0.7777777777777778,
              "#fb9f3a"
             ],
             [
              0.8888888888888888,
              "#fdca26"
             ],
             [
              1,
              "#f0f921"
             ]
            ],
            "type": "histogram2d"
           }
          ],
          "histogram2dcontour": [
           {
            "colorbar": {
             "outlinewidth": 0,
             "ticks": ""
            },
            "colorscale": [
             [
              0,
              "#0d0887"
             ],
             [
              0.1111111111111111,
              "#46039f"
             ],
             [
              0.2222222222222222,
              "#7201a8"
             ],
             [
              0.3333333333333333,
              "#9c179e"
             ],
             [
              0.4444444444444444,
              "#bd3786"
             ],
             [
              0.5555555555555556,
              "#d8576b"
             ],
             [
              0.6666666666666666,
              "#ed7953"
             ],
             [
              0.7777777777777778,
              "#fb9f3a"
             ],
             [
              0.8888888888888888,
              "#fdca26"
             ],
             [
              1,
              "#f0f921"
             ]
            ],
            "type": "histogram2dcontour"
           }
          ],
          "mesh3d": [
           {
            "colorbar": {
             "outlinewidth": 0,
             "ticks": ""
            },
            "type": "mesh3d"
           }
          ],
          "parcoords": [
           {
            "line": {
             "colorbar": {
              "outlinewidth": 0,
              "ticks": ""
             }
            },
            "type": "parcoords"
           }
          ],
          "pie": [
           {
            "automargin": true,
            "type": "pie"
           }
          ],
          "scatter": [
           {
            "fillpattern": {
             "fillmode": "overlay",
             "size": 10,
             "solidity": 0.2
            },
            "type": "scatter"
           }
          ],
          "scatter3d": [
           {
            "line": {
             "colorbar": {
              "outlinewidth": 0,
              "ticks": ""
             }
            },
            "marker": {
             "colorbar": {
              "outlinewidth": 0,
              "ticks": ""
             }
            },
            "type": "scatter3d"
           }
          ],
          "scattercarpet": [
           {
            "marker": {
             "colorbar": {
              "outlinewidth": 0,
              "ticks": ""
             }
            },
            "type": "scattercarpet"
           }
          ],
          "scattergeo": [
           {
            "marker": {
             "colorbar": {
              "outlinewidth": 0,
              "ticks": ""
             }
            },
            "type": "scattergeo"
           }
          ],
          "scattergl": [
           {
            "marker": {
             "colorbar": {
              "outlinewidth": 0,
              "ticks": ""
             }
            },
            "type": "scattergl"
           }
          ],
          "scattermapbox": [
           {
            "marker": {
             "colorbar": {
              "outlinewidth": 0,
              "ticks": ""
             }
            },
            "type": "scattermapbox"
           }
          ],
          "scatterpolar": [
           {
            "marker": {
             "colorbar": {
              "outlinewidth": 0,
              "ticks": ""
             }
            },
            "type": "scatterpolar"
           }
          ],
          "scatterpolargl": [
           {
            "marker": {
             "colorbar": {
              "outlinewidth": 0,
              "ticks": ""
             }
            },
            "type": "scatterpolargl"
           }
          ],
          "scatterternary": [
           {
            "marker": {
             "colorbar": {
              "outlinewidth": 0,
              "ticks": ""
             }
            },
            "type": "scatterternary"
           }
          ],
          "surface": [
           {
            "colorbar": {
             "outlinewidth": 0,
             "ticks": ""
            },
            "colorscale": [
             [
              0,
              "#0d0887"
             ],
             [
              0.1111111111111111,
              "#46039f"
             ],
             [
              0.2222222222222222,
              "#7201a8"
             ],
             [
              0.3333333333333333,
              "#9c179e"
             ],
             [
              0.4444444444444444,
              "#bd3786"
             ],
             [
              0.5555555555555556,
              "#d8576b"
             ],
             [
              0.6666666666666666,
              "#ed7953"
             ],
             [
              0.7777777777777778,
              "#fb9f3a"
             ],
             [
              0.8888888888888888,
              "#fdca26"
             ],
             [
              1,
              "#f0f921"
             ]
            ],
            "type": "surface"
           }
          ],
          "table": [
           {
            "cells": {
             "fill": {
              "color": "#EBF0F8"
             },
             "line": {
              "color": "white"
             }
            },
            "header": {
             "fill": {
              "color": "#C8D4E3"
             },
             "line": {
              "color": "white"
             }
            },
            "type": "table"
           }
          ]
         },
         "layout": {
          "annotationdefaults": {
           "arrowcolor": "#2a3f5f",
           "arrowhead": 0,
           "arrowwidth": 1
          },
          "autotypenumbers": "strict",
          "coloraxis": {
           "colorbar": {
            "outlinewidth": 0,
            "ticks": ""
           }
          },
          "colorscale": {
           "diverging": [
            [
             0,
             "#8e0152"
            ],
            [
             0.1,
             "#c51b7d"
            ],
            [
             0.2,
             "#de77ae"
            ],
            [
             0.3,
             "#f1b6da"
            ],
            [
             0.4,
             "#fde0ef"
            ],
            [
             0.5,
             "#f7f7f7"
            ],
            [
             0.6,
             "#e6f5d0"
            ],
            [
             0.7,
             "#b8e186"
            ],
            [
             0.8,
             "#7fbc41"
            ],
            [
             0.9,
             "#4d9221"
            ],
            [
             1,
             "#276419"
            ]
           ],
           "sequential": [
            [
             0,
             "#0d0887"
            ],
            [
             0.1111111111111111,
             "#46039f"
            ],
            [
             0.2222222222222222,
             "#7201a8"
            ],
            [
             0.3333333333333333,
             "#9c179e"
            ],
            [
             0.4444444444444444,
             "#bd3786"
            ],
            [
             0.5555555555555556,
             "#d8576b"
            ],
            [
             0.6666666666666666,
             "#ed7953"
            ],
            [
             0.7777777777777778,
             "#fb9f3a"
            ],
            [
             0.8888888888888888,
             "#fdca26"
            ],
            [
             1,
             "#f0f921"
            ]
           ],
           "sequentialminus": [
            [
             0,
             "#0d0887"
            ],
            [
             0.1111111111111111,
             "#46039f"
            ],
            [
             0.2222222222222222,
             "#7201a8"
            ],
            [
             0.3333333333333333,
             "#9c179e"
            ],
            [
             0.4444444444444444,
             "#bd3786"
            ],
            [
             0.5555555555555556,
             "#d8576b"
            ],
            [
             0.6666666666666666,
             "#ed7953"
            ],
            [
             0.7777777777777778,
             "#fb9f3a"
            ],
            [
             0.8888888888888888,
             "#fdca26"
            ],
            [
             1,
             "#f0f921"
            ]
           ]
          },
          "colorway": [
           "#636efa",
           "#EF553B",
           "#00cc96",
           "#ab63fa",
           "#FFA15A",
           "#19d3f3",
           "#FF6692",
           "#B6E880",
           "#FF97FF",
           "#FECB52"
          ],
          "font": {
           "color": "#2a3f5f"
          },
          "geo": {
           "bgcolor": "white",
           "lakecolor": "white",
           "landcolor": "#E5ECF6",
           "showlakes": true,
           "showland": true,
           "subunitcolor": "white"
          },
          "hoverlabel": {
           "align": "left"
          },
          "hovermode": "closest",
          "mapbox": {
           "style": "light"
          },
          "paper_bgcolor": "white",
          "plot_bgcolor": "#E5ECF6",
          "polar": {
           "angularaxis": {
            "gridcolor": "white",
            "linecolor": "white",
            "ticks": ""
           },
           "bgcolor": "#E5ECF6",
           "radialaxis": {
            "gridcolor": "white",
            "linecolor": "white",
            "ticks": ""
           }
          },
          "scene": {
           "xaxis": {
            "backgroundcolor": "#E5ECF6",
            "gridcolor": "white",
            "gridwidth": 2,
            "linecolor": "white",
            "showbackground": true,
            "ticks": "",
            "zerolinecolor": "white"
           },
           "yaxis": {
            "backgroundcolor": "#E5ECF6",
            "gridcolor": "white",
            "gridwidth": 2,
            "linecolor": "white",
            "showbackground": true,
            "ticks": "",
            "zerolinecolor": "white"
           },
           "zaxis": {
            "backgroundcolor": "#E5ECF6",
            "gridcolor": "white",
            "gridwidth": 2,
            "linecolor": "white",
            "showbackground": true,
            "ticks": "",
            "zerolinecolor": "white"
           }
          },
          "shapedefaults": {
           "line": {
            "color": "#2a3f5f"
           }
          },
          "ternary": {
           "aaxis": {
            "gridcolor": "white",
            "linecolor": "white",
            "ticks": ""
           },
           "baxis": {
            "gridcolor": "white",
            "linecolor": "white",
            "ticks": ""
           },
           "bgcolor": "#E5ECF6",
           "caxis": {
            "gridcolor": "white",
            "linecolor": "white",
            "ticks": ""
           }
          },
          "title": {
           "x": 0.05
          },
          "xaxis": {
           "automargin": true,
           "gridcolor": "white",
           "linecolor": "white",
           "ticks": "",
           "title": {
            "standoff": 15
           },
           "zerolinecolor": "white",
           "zerolinewidth": 2
          },
          "yaxis": {
           "automargin": true,
           "gridcolor": "white",
           "linecolor": "white",
           "ticks": "",
           "title": {
            "standoff": 15
           },
           "zerolinecolor": "white",
           "zerolinewidth": 2
          }
         }
        },
        "title": {
         "text": "Slice Plot"
        },
        "width": 2100,
        "xaxis": {
         "anchor": "y",
         "domain": [
          0,
          0.1183673469387755
         ],
         "title": {
          "text": "colsample_bytree"
         }
        },
        "xaxis2": {
         "anchor": "y2",
         "domain": [
          0.14693877551020407,
          0.26530612244897955
         ],
         "title": {
          "text": "learning_rate"
         }
        },
        "xaxis3": {
         "anchor": "y3",
         "domain": [
          0.29387755102040813,
          0.4122448979591836
         ],
         "title": {
          "text": "max_depth"
         }
        },
        "xaxis4": {
         "anchor": "y4",
         "domain": [
          0.4408163265306122,
          0.5591836734693877
         ],
         "title": {
          "text": "min_child_weight"
         }
        },
        "xaxis5": {
         "anchor": "y5",
         "domain": [
          0.5877551020408163,
          0.7061224489795918
         ],
         "title": {
          "text": "n_estimators"
         }
        },
        "xaxis6": {
         "anchor": "y6",
         "domain": [
          0.7346938775510204,
          0.8530612244897959
         ],
         "title": {
          "text": "reg_lambda"
         }
        },
        "xaxis7": {
         "anchor": "y7",
         "domain": [
          0.8816326530612244,
          0.9999999999999999
         ],
         "title": {
          "text": "subsample"
         }
        },
        "yaxis": {
         "anchor": "x",
         "domain": [
          0,
          1
         ],
         "title": {
          "text": "Objective Value"
         }
        },
        "yaxis2": {
         "anchor": "x2",
         "domain": [
          0,
          1
         ],
         "matches": "y",
         "showticklabels": false
        },
        "yaxis3": {
         "anchor": "x3",
         "domain": [
          0,
          1
         ],
         "matches": "y",
         "showticklabels": false
        },
        "yaxis4": {
         "anchor": "x4",
         "domain": [
          0,
          1
         ],
         "matches": "y",
         "showticklabels": false
        },
        "yaxis5": {
         "anchor": "x5",
         "domain": [
          0,
          1
         ],
         "matches": "y",
         "showticklabels": false
        },
        "yaxis6": {
         "anchor": "x6",
         "domain": [
          0,
          1
         ],
         "matches": "y",
         "showticklabels": false
        },
        "yaxis7": {
         "anchor": "x7",
         "domain": [
          0,
          1
         ],
         "matches": "y",
         "showticklabels": false
        }
       }
      },
      "text/html": [
       "<div>                            <div id=\"d1452eda-16a5-4cbe-aa3f-f96e7ba434b7\" class=\"plotly-graph-div\" style=\"height:525px; width:2100px;\"></div>            <script type=\"text/javascript\">                require([\"plotly\"], function(Plotly) {                    window.PLOTLYENV=window.PLOTLYENV || {};                                    if (document.getElementById(\"d1452eda-16a5-4cbe-aa3f-f96e7ba434b7\")) {                    Plotly.newPlot(                        \"d1452eda-16a5-4cbe-aa3f-f96e7ba434b7\",                        [{\"marker\":{\"color\":[0,1,2,3,4,5,6,7,8,9,10,11,12,13,14,15,16,17,18,19,20,21,22,23,24,25,26,27,28,29,30,31,32,33,34,35,36,37,38,39,40,41,42,43,44,45,46,47,48,49,50,51,52,53,54,55,56,57,58,59,60,61,62,63,64,65,66,67,68,69,70,71,72,73,74,75,76,77,78,79,80,81,82,83,84,85,86,87,88,89,90,91,92,93,94,95,96,97,98,99],\"colorbar\":{\"title\":{\"text\":\"Trial\"},\"x\":1.0,\"xpad\":40},\"colorscale\":[[0.0,\"rgb(247,251,255)\"],[0.125,\"rgb(222,235,247)\"],[0.25,\"rgb(198,219,239)\"],[0.375,\"rgb(158,202,225)\"],[0.5,\"rgb(107,174,214)\"],[0.625,\"rgb(66,146,198)\"],[0.75,\"rgb(33,113,181)\"],[0.875,\"rgb(8,81,156)\"],[1.0,\"rgb(8,48,107)\"]],\"line\":{\"color\":\"Grey\",\"width\":0.5},\"showscale\":true},\"mode\":\"markers\",\"showlegend\":false,\"x\":[0.945175000615857,0.9492144856878898,0.7244084104880744,0.9900547460292147,0.8902258775887049,0.886023391052349,0.9454638657196617,0.818183558589805,0.625031643966948,0.9417702665001773,0.8835768082978053,0.9040018268626967,0.9722924723258759,0.6988445536978487,0.9550758252001157,0.8176701971544899,0.8031776310018893,0.8972726620145751,0.8910954542892452,0.9763787746364055,0.8999001563905645,0.7872060587172288,0.9320661431499814,0.8585115607683038,0.8392960429874745,0.7840132469347667,0.8843986158090766,0.9221011686002707,0.9727274296384445,0.7013266037220139,0.8743201519710306,0.8405572511920459,0.8828655334222892,0.9304304641387872,0.7301460941799093,0.8941271914078034,0.9945886460074292,0.9680593025175112,0.7016284998546016,0.7613617552206225,0.8573589664357735,0.9834585935818371,0.9947293067528858,0.9386789354743136,0.8342691999780015,0.9492383949278986,0.9803513226159325,0.9016774074856413,0.8030238493594875,0.8540388982044086,0.8751846306007437,0.8162436532490109,0.8109590127380296,0.9171074262759432,0.7412058809516764,0.9339641285005421,0.8118763442188397,0.7450184018586005,0.7568894823700033,0.9293935406526378,0.6217315306723024,0.6366891412497057,0.752348602278309,0.7598994424849475,0.7003362580711987,0.930614694721275,0.7899890197618186,0.9961188290872411,0.9497106900196843,0.9604131443305634,0.8739075479336352,0.9733591703654814,0.9898369186795176,0.9639737828626035,0.9947721032530025,0.9900639656563281,0.9888549127683707,0.8939095373393713,0.9291752622518553,0.9463133427218728,0.9396987857432993,0.8916808229897895,0.8197770130333082,0.9511205300167233,0.9768025024167647,0.9627053954420787,0.8451617074559115,0.9556644327948511,0.8930988638496724,0.7903155272169804,0.9827884983955866,0.870973689373158,0.9005970989016857,0.8734919842988108,0.8339093101798695,0.8717815589843483,0.8415669267349939,0.9355381523390522,0.8030213174687396,0.8687223791974625],\"y\":[0.72987,0.71494,0.72712,0.73368,0.72742,0.68532,0.71349,0.71549,0.73141,0.71858,0.7334,0.71851,0.73156,0.73315,0.73142,0.73325,0.70755,0.71923,0.69787,0.70384,0.73053,0.72889,0.73229,0.7297,0.73351,0.72611,0.72722,0.72427,0.72955,0.73224,0.72823,0.73148,0.73339,0.72156,0.72677,0.73279,0.73112,0.73095,0.71726,0.73306,0.67971,0.73406,0.73159,0.73285,0.72349,0.71908,0.72597,0.73,0.73256,0.73159,0.72481,0.73219,0.73217,0.73191,0.72622,0.72374,0.72463,0.72773,0.72815,0.72919,0.73166,0.73107,0.7272,0.7328,0.73292,0.72235,0.72549,0.73197,0.73329,0.72371,0.7269,0.71914,0.73136,0.73277,0.73527,0.72947,0.73242,0.73045,0.73331,0.72988,0.69652,0.73462,0.73318,0.72911,0.73261,0.73245,0.73104,0.72569,0.72578,0.73108,0.73129,0.72675,0.73565,0.7315,0.72855,0.7309,0.71737,0.7289,0.73211,0.72846],\"type\":\"scatter\",\"xaxis\":\"x\",\"yaxis\":\"y\"},{\"marker\":{\"color\":[0,1,2,3,4,5,6,7,8,9,10,11,12,13,14,15,16,17,18,19,20,21,22,23,24,25,26,27,28,29,30,31,32,33,34,35,36,37,38,39,40,41,42,43,44,45,46,47,48,49,50,51,52,53,54,55,56,57,58,59,60,61,62,63,64,65,66,67,68,69,70,71,72,73,74,75,76,77,78,79,80,81,82,83,84,85,86,87,88,89,90,91,92,93,94,95,96,97,98,99],\"colorbar\":{\"title\":{\"text\":\"Trial\"},\"x\":1.0,\"xpad\":40},\"colorscale\":[[0.0,\"rgb(247,251,255)\"],[0.125,\"rgb(222,235,247)\"],[0.25,\"rgb(198,219,239)\"],[0.375,\"rgb(158,202,225)\"],[0.5,\"rgb(107,174,214)\"],[0.625,\"rgb(66,146,198)\"],[0.75,\"rgb(33,113,181)\"],[0.875,\"rgb(8,81,156)\"],[1.0,\"rgb(8,48,107)\"]],\"line\":{\"color\":\"Grey\",\"width\":0.5},\"showscale\":false},\"mode\":\"markers\",\"showlegend\":false,\"x\":[0.03659790922415695,0.041670932721309194,0.0053033919968160466,0.03494746340955236,0.045040866518459975,0.0904581803019787,0.08241272890478765,0.025976715034300633,0.01981646682102825,0.04093848315917329,0.0337001027781866,0.05582265368697277,0.017285550922676175,0.039570186936004614,0.033496273343671036,0.03564544421486991,0.003978569996681898,0.08674148627586609,0.002611579514176572,0.004586387981613937,0.027882598227264736,0.04059296125690702,0.02988464732194323,0.045669368741249584,0.047921311490394136,0.07046854921402948,0.04441382862970776,0.034675209761109105,0.04082611351447395,0.06940593028330533,0.023001119236121723,0.04553309289015701,0.020952139923950616,0.004790988043046104,0.045084379143784055,0.02278908005081572,0.044505416062110476,0.07773655760759315,0.030619276057152995,0.04961807060959877,0.045312720501704935,0.023696113255248348,0.01685484831855927,0.04199434518953738,0.003895727177681215,0.03716175427786571,0.011701919175020732,0.06089295239316899,0.01649197726748369,0.013946800271713987,0.014173301742689961,0.044552351355456606,0.031163975589989627,0.04084813970839316,0.04846494743654127,0.013379404517962133,0.005757493701421788,0.029268598428752055,0.04329825960692519,0.02744847248414115,0.09477869059711955,0.03856187193055798,0.06720651998290826,0.04346058707246492,0.03730977551594309,0.05743784636617606,0.0501546286839637,0.03286199823767391,0.014054185358229401,0.03634644010516433,0.028023153990873337,0.0022621741457816823,0.020863360461924073,0.008681891828315075,0.03243373842072315,0.042971035556634826,0.030868819316067584,0.04118562519734574,0.04414434438082075,0.03192829751278366,0.030517883893701594,0.054624802753671826,0.059109620414515535,0.009481408998056703,0.03570933100692026,0.061655251794408714,0.06045684416864827,0.04315484526616363,0.06261816842024615,0.03822021107069848,0.03239408322071944,0.04135591354085698,0.04017754383444285,0.06044170482622295,0.05617691342435817,0.04669426290180978,0.0427800538064946,0.026543269814963813,0.024303580595147197,0.019479320156996917],\"y\":[0.72987,0.71494,0.72712,0.73368,0.72742,0.68532,0.71349,0.71549,0.73141,0.71858,0.7334,0.71851,0.73156,0.73315,0.73142,0.73325,0.70755,0.71923,0.69787,0.70384,0.73053,0.72889,0.73229,0.7297,0.73351,0.72611,0.72722,0.72427,0.72955,0.73224,0.72823,0.73148,0.73339,0.72156,0.72677,0.73279,0.73112,0.73095,0.71726,0.73306,0.67971,0.73406,0.73159,0.73285,0.72349,0.71908,0.72597,0.73,0.73256,0.73159,0.72481,0.73219,0.73217,0.73191,0.72622,0.72374,0.72463,0.72773,0.72815,0.72919,0.73166,0.73107,0.7272,0.7328,0.73292,0.72235,0.72549,0.73197,0.73329,0.72371,0.7269,0.71914,0.73136,0.73277,0.73527,0.72947,0.73242,0.73045,0.73331,0.72988,0.69652,0.73462,0.73318,0.72911,0.73261,0.73245,0.73104,0.72569,0.72578,0.73108,0.73129,0.72675,0.73565,0.7315,0.72855,0.7309,0.71737,0.7289,0.73211,0.72846],\"type\":\"scatter\",\"xaxis\":\"x2\",\"yaxis\":\"y2\"},{\"marker\":{\"color\":[0,1,2,3,4,5,6,7,8,9,10,11,12,13,14,15,16,17,18,19,20,21,22,23,24,25,26,27,28,29,30,31,32,33,34,35,36,37,38,39,40,41,42,43,44,45,46,47,48,49,50,51,52,53,54,55,56,57,58,59,60,61,62,63,64,65,66,67,68,69,70,71,72,73,74,75,76,77,78,79,80,81,82,83,84,85,86,87,88,89,90,91,92,93,94,95,96,97,98,99],\"colorbar\":{\"title\":{\"text\":\"Trial\"},\"x\":1.0,\"xpad\":40},\"colorscale\":[[0.0,\"rgb(247,251,255)\"],[0.125,\"rgb(222,235,247)\"],[0.25,\"rgb(198,219,239)\"],[0.375,\"rgb(158,202,225)\"],[0.5,\"rgb(107,174,214)\"],[0.625,\"rgb(66,146,198)\"],[0.75,\"rgb(33,113,181)\"],[0.875,\"rgb(8,81,156)\"],[1.0,\"rgb(8,48,107)\"]],\"line\":{\"color\":\"Grey\",\"width\":0.5},\"showscale\":false},\"mode\":\"markers\",\"showlegend\":false,\"x\":[4,5,9,4,6,10,10,5,5,8,6,6,5,6,3,9,4,6,2,2,9,8,5,10,4,2,6,6,3,3,4,3,8,9,2,6,4,3,8,5,10,4,5,2,10,5,4,6,9,8,6,7,7,8,9,7,6,9,10,2,3,5,6,4,6,6,6,6,9,9,10,9,9,7,3,4,3,2,2,2,6,2,2,8,2,2,2,3,3,2,5,9,4,3,5,3,9,3,5,9],\"y\":[0.72987,0.71494,0.72712,0.73368,0.72742,0.68532,0.71349,0.71549,0.73141,0.71858,0.7334,0.71851,0.73156,0.73315,0.73142,0.73325,0.70755,0.71923,0.69787,0.70384,0.73053,0.72889,0.73229,0.7297,0.73351,0.72611,0.72722,0.72427,0.72955,0.73224,0.72823,0.73148,0.73339,0.72156,0.72677,0.73279,0.73112,0.73095,0.71726,0.73306,0.67971,0.73406,0.73159,0.73285,0.72349,0.71908,0.72597,0.73,0.73256,0.73159,0.72481,0.73219,0.73217,0.73191,0.72622,0.72374,0.72463,0.72773,0.72815,0.72919,0.73166,0.73107,0.7272,0.7328,0.73292,0.72235,0.72549,0.73197,0.73329,0.72371,0.7269,0.71914,0.73136,0.73277,0.73527,0.72947,0.73242,0.73045,0.73331,0.72988,0.69652,0.73462,0.73318,0.72911,0.73261,0.73245,0.73104,0.72569,0.72578,0.73108,0.73129,0.72675,0.73565,0.7315,0.72855,0.7309,0.71737,0.7289,0.73211,0.72846],\"type\":\"scatter\",\"xaxis\":\"x3\",\"yaxis\":\"y3\"},{\"marker\":{\"color\":[0,1,2,3,4,5,6,7,8,9,10,11,12,13,14,15,16,17,18,19,20,21,22,23,24,25,26,27,28,29,30,31,32,33,34,35,36,37,38,39,40,41,42,43,44,45,46,47,48,49,50,51,52,53,54,55,56,57,58,59,60,61,62,63,64,65,66,67,68,69,70,71,72,73,74,75,76,77,78,79,80,81,82,83,84,85,86,87,88,89,90,91,92,93,94,95,96,97,98,99],\"colorbar\":{\"title\":{\"text\":\"Trial\"},\"x\":1.0,\"xpad\":40},\"colorscale\":[[0.0,\"rgb(247,251,255)\"],[0.125,\"rgb(222,235,247)\"],[0.25,\"rgb(198,219,239)\"],[0.375,\"rgb(158,202,225)\"],[0.5,\"rgb(107,174,214)\"],[0.625,\"rgb(66,146,198)\"],[0.75,\"rgb(33,113,181)\"],[0.875,\"rgb(8,81,156)\"],[1.0,\"rgb(8,48,107)\"]],\"line\":{\"color\":\"Grey\",\"width\":0.5},\"showscale\":false},\"mode\":\"markers\",\"showlegend\":false,\"x\":[7,2,8,4,6,10,9,6,8,2,7,7,9,8,1,8,4,4,6,2,8,7,5,9,6,7,8,1,5,1,8,8,7,6,4,7,4,2,1,4,6,4,2,5,9,5,4,7,9,6,7,5,9,5,6,10,6,8,9,2,1,7,9,3,9,1,6,6,5,7,4,7,5,3,2,4,2,2,3,2,2,5,5,5,7,5,3,1,2,10,6,7,6,5,7,4,6,4,7,8],\"y\":[0.72987,0.71494,0.72712,0.73368,0.72742,0.68532,0.71349,0.71549,0.73141,0.71858,0.7334,0.71851,0.73156,0.73315,0.73142,0.73325,0.70755,0.71923,0.69787,0.70384,0.73053,0.72889,0.73229,0.7297,0.73351,0.72611,0.72722,0.72427,0.72955,0.73224,0.72823,0.73148,0.73339,0.72156,0.72677,0.73279,0.73112,0.73095,0.71726,0.73306,0.67971,0.73406,0.73159,0.73285,0.72349,0.71908,0.72597,0.73,0.73256,0.73159,0.72481,0.73219,0.73217,0.73191,0.72622,0.72374,0.72463,0.72773,0.72815,0.72919,0.73166,0.73107,0.7272,0.7328,0.73292,0.72235,0.72549,0.73197,0.73329,0.72371,0.7269,0.71914,0.73136,0.73277,0.73527,0.72947,0.73242,0.73045,0.73331,0.72988,0.69652,0.73462,0.73318,0.72911,0.73261,0.73245,0.73104,0.72569,0.72578,0.73108,0.73129,0.72675,0.73565,0.7315,0.72855,0.7309,0.71737,0.7289,0.73211,0.72846],\"type\":\"scatter\",\"xaxis\":\"x4\",\"yaxis\":\"y4\"},{\"marker\":{\"color\":[0,1,2,3,4,5,6,7,8,9,10,11,12,13,14,15,16,17,18,19,20,21,22,23,24,25,26,27,28,29,30,31,32,33,34,35,36,37,38,39,40,41,42,43,44,45,46,47,48,49,50,51,52,53,54,55,56,57,58,59,60,61,62,63,64,65,66,67,68,69,70,71,72,73,74,75,76,77,78,79,80,81,82,83,84,85,86,87,88,89,90,91,92,93,94,95,96,97,98,99],\"colorbar\":{\"title\":{\"text\":\"Trial\"},\"x\":1.0,\"xpad\":40},\"colorscale\":[[0.0,\"rgb(247,251,255)\"],[0.125,\"rgb(222,235,247)\"],[0.25,\"rgb(198,219,239)\"],[0.375,\"rgb(158,202,225)\"],[0.5,\"rgb(107,174,214)\"],[0.625,\"rgb(66,146,198)\"],[0.75,\"rgb(33,113,181)\"],[0.875,\"rgb(8,81,156)\"],[1.0,\"rgb(8,48,107)\"]],\"line\":{\"color\":\"Grey\",\"width\":0.5},\"showscale\":false},\"mode\":\"markers\",\"showlegend\":false,\"x\":[300,1200,900,1100,1100,1100,600,100,700,900,1100,1400,1300,1100,1100,600,800,1100,1300,900,800,800,1200,300,900,700,1300,300,800,1000,700,900,800,700,1300,800,1200,1300,700,800,1000,1200,1400,1500,1100,1500,1000,700,1500,900,600,900,400,400,500,400,1400,400,800,1300,1400,700,1200,800,900,1200,1400,1100,1200,200,1300,1200,900,1100,1100,700,900,900,1100,1000,1100,1300,1200,1200,1100,1400,1400,1400,800,900,800,700,1000,700,1000,1300,900,1300,1000,1500],\"y\":[0.72987,0.71494,0.72712,0.73368,0.72742,0.68532,0.71349,0.71549,0.73141,0.71858,0.7334,0.71851,0.73156,0.73315,0.73142,0.73325,0.70755,0.71923,0.69787,0.70384,0.73053,0.72889,0.73229,0.7297,0.73351,0.72611,0.72722,0.72427,0.72955,0.73224,0.72823,0.73148,0.73339,0.72156,0.72677,0.73279,0.73112,0.73095,0.71726,0.73306,0.67971,0.73406,0.73159,0.73285,0.72349,0.71908,0.72597,0.73,0.73256,0.73159,0.72481,0.73219,0.73217,0.73191,0.72622,0.72374,0.72463,0.72773,0.72815,0.72919,0.73166,0.73107,0.7272,0.7328,0.73292,0.72235,0.72549,0.73197,0.73329,0.72371,0.7269,0.71914,0.73136,0.73277,0.73527,0.72947,0.73242,0.73045,0.73331,0.72988,0.69652,0.73462,0.73318,0.72911,0.73261,0.73245,0.73104,0.72569,0.72578,0.73108,0.73129,0.72675,0.73565,0.7315,0.72855,0.7309,0.71737,0.7289,0.73211,0.72846],\"type\":\"scatter\",\"xaxis\":\"x5\",\"yaxis\":\"y5\"},{\"marker\":{\"color\":[0,1,2,3,4,5,6,7,8,9,10,11,12,13,14,15,16,17,18,19,20,21,22,23,24,25,26,27,28,29,30,31,32,33,34,35,36,37,38,39,40,41,42,43,44,45,46,47,48,49,50,51,52,53,54,55,56,57,58,59,60,61,62,63,64,65,66,67,68,69,70,71,72,73,74,75,76,77,78,79,80,81,82,83,84,85,86,87,88,89,90,91,92,93,94,95,96,97,98,99],\"colorbar\":{\"title\":{\"text\":\"Trial\"},\"x\":1.0,\"xpad\":40},\"colorscale\":[[0.0,\"rgb(247,251,255)\"],[0.125,\"rgb(222,235,247)\"],[0.25,\"rgb(198,219,239)\"],[0.375,\"rgb(158,202,225)\"],[0.5,\"rgb(107,174,214)\"],[0.625,\"rgb(66,146,198)\"],[0.75,\"rgb(33,113,181)\"],[0.875,\"rgb(8,81,156)\"],[1.0,\"rgb(8,48,107)\"]],\"line\":{\"color\":\"Grey\",\"width\":0.5},\"showscale\":false},\"mode\":\"markers\",\"showlegend\":false,\"x\":[71,11,11,71,61,11,31,11,11,41,91,51,91,91,81,51,71,91,51,41,91,51,71,51,91,81,91,91,81,91,91,81,41,31,91,31,81,51,11,71,1,41,51,41,41,21,41,81,91,51,91,91,31,61,31,51,91,71,51,1,41,91,91,81,91,81,91,91,61,91,71,41,71,51,21,1,21,41,1,11,1,11,11,81,21,1,1,1,1,21,61,41,91,91,91,21,41,91,91,61],\"y\":[0.72987,0.71494,0.72712,0.73368,0.72742,0.68532,0.71349,0.71549,0.73141,0.71858,0.7334,0.71851,0.73156,0.73315,0.73142,0.73325,0.70755,0.71923,0.69787,0.70384,0.73053,0.72889,0.73229,0.7297,0.73351,0.72611,0.72722,0.72427,0.72955,0.73224,0.72823,0.73148,0.73339,0.72156,0.72677,0.73279,0.73112,0.73095,0.71726,0.73306,0.67971,0.73406,0.73159,0.73285,0.72349,0.71908,0.72597,0.73,0.73256,0.73159,0.72481,0.73219,0.73217,0.73191,0.72622,0.72374,0.72463,0.72773,0.72815,0.72919,0.73166,0.73107,0.7272,0.7328,0.73292,0.72235,0.72549,0.73197,0.73329,0.72371,0.7269,0.71914,0.73136,0.73277,0.73527,0.72947,0.73242,0.73045,0.73331,0.72988,0.69652,0.73462,0.73318,0.72911,0.73261,0.73245,0.73104,0.72569,0.72578,0.73108,0.73129,0.72675,0.73565,0.7315,0.72855,0.7309,0.71737,0.7289,0.73211,0.72846],\"type\":\"scatter\",\"xaxis\":\"x6\",\"yaxis\":\"y6\"},{\"marker\":{\"color\":[0,1,2,3,4,5,6,7,8,9,10,11,12,13,14,15,16,17,18,19,20,21,22,23,24,25,26,27,28,29,30,31,32,33,34,35,36,37,38,39,40,41,42,43,44,45,46,47,48,49,50,51,52,53,54,55,56,57,58,59,60,61,62,63,64,65,66,67,68,69,70,71,72,73,74,75,76,77,78,79,80,81,82,83,84,85,86,87,88,89,90,91,92,93,94,95,96,97,98,99],\"colorbar\":{\"title\":{\"text\":\"Trial\"},\"x\":1.0,\"xpad\":40},\"colorscale\":[[0.0,\"rgb(247,251,255)\"],[0.125,\"rgb(222,235,247)\"],[0.25,\"rgb(198,219,239)\"],[0.375,\"rgb(158,202,225)\"],[0.5,\"rgb(107,174,214)\"],[0.625,\"rgb(66,146,198)\"],[0.75,\"rgb(33,113,181)\"],[0.875,\"rgb(8,81,156)\"],[1.0,\"rgb(8,48,107)\"]],\"line\":{\"color\":\"Grey\",\"width\":0.5},\"showscale\":false},\"mode\":\"markers\",\"showlegend\":false,\"x\":[0.7999999999999999,0.85,0.95,0.75,0.95,0.85,0.8999999999999999,1.0,0.7,0.75,0.7,0.7,0.7,0.7,0.85,0.7,0.7,0.75,0.7999999999999999,0.7,0.7,0.75,0.7,0.7,0.7,0.7,0.75,0.7,0.75,0.7999999999999999,0.85,0.7,0.7,0.75,0.7,0.7,0.7999999999999999,0.7,1.0,0.7,0.75,0.7999999999999999,0.7999999999999999,0.7,0.75,0.7999999999999999,0.7999999999999999,0.7,0.7,0.7,0.7,0.7,0.75,0.7,0.7,0.7,0.75,0.7,0.7,1.0,1.0,0.7,0.7,1.0,0.7,0.7,0.7,0.7,0.8999999999999999,0.8999999999999999,0.85,0.8999999999999999,0.95,0.8999999999999999,0.7999999999999999,0.7999999999999999,0.8999999999999999,0.75,0.7999999999999999,0.7999999999999999,0.75,0.75,0.75,0.85,0.85,0.7,0.8999999999999999,0.7999999999999999,0.7999999999999999,0.75,0.85,0.7,0.75,0.7999999999999999,0.75,0.7999999999999999,0.8999999999999999,0.75,0.7,0.95],\"y\":[0.72987,0.71494,0.72712,0.73368,0.72742,0.68532,0.71349,0.71549,0.73141,0.71858,0.7334,0.71851,0.73156,0.73315,0.73142,0.73325,0.70755,0.71923,0.69787,0.70384,0.73053,0.72889,0.73229,0.7297,0.73351,0.72611,0.72722,0.72427,0.72955,0.73224,0.72823,0.73148,0.73339,0.72156,0.72677,0.73279,0.73112,0.73095,0.71726,0.73306,0.67971,0.73406,0.73159,0.73285,0.72349,0.71908,0.72597,0.73,0.73256,0.73159,0.72481,0.73219,0.73217,0.73191,0.72622,0.72374,0.72463,0.72773,0.72815,0.72919,0.73166,0.73107,0.7272,0.7328,0.73292,0.72235,0.72549,0.73197,0.73329,0.72371,0.7269,0.71914,0.73136,0.73277,0.73527,0.72947,0.73242,0.73045,0.73331,0.72988,0.69652,0.73462,0.73318,0.72911,0.73261,0.73245,0.73104,0.72569,0.72578,0.73108,0.73129,0.72675,0.73565,0.7315,0.72855,0.7309,0.71737,0.7289,0.73211,0.72846],\"type\":\"scatter\",\"xaxis\":\"x7\",\"yaxis\":\"y7\"}],                        {\"template\":{\"data\":{\"histogram2dcontour\":[{\"type\":\"histogram2dcontour\",\"colorbar\":{\"outlinewidth\":0,\"ticks\":\"\"},\"colorscale\":[[0.0,\"#0d0887\"],[0.1111111111111111,\"#46039f\"],[0.2222222222222222,\"#7201a8\"],[0.3333333333333333,\"#9c179e\"],[0.4444444444444444,\"#bd3786\"],[0.5555555555555556,\"#d8576b\"],[0.6666666666666666,\"#ed7953\"],[0.7777777777777778,\"#fb9f3a\"],[0.8888888888888888,\"#fdca26\"],[1.0,\"#f0f921\"]]}],\"choropleth\":[{\"type\":\"choropleth\",\"colorbar\":{\"outlinewidth\":0,\"ticks\":\"\"}}],\"histogram2d\":[{\"type\":\"histogram2d\",\"colorbar\":{\"outlinewidth\":0,\"ticks\":\"\"},\"colorscale\":[[0.0,\"#0d0887\"],[0.1111111111111111,\"#46039f\"],[0.2222222222222222,\"#7201a8\"],[0.3333333333333333,\"#9c179e\"],[0.4444444444444444,\"#bd3786\"],[0.5555555555555556,\"#d8576b\"],[0.6666666666666666,\"#ed7953\"],[0.7777777777777778,\"#fb9f3a\"],[0.8888888888888888,\"#fdca26\"],[1.0,\"#f0f921\"]]}],\"heatmap\":[{\"type\":\"heatmap\",\"colorbar\":{\"outlinewidth\":0,\"ticks\":\"\"},\"colorscale\":[[0.0,\"#0d0887\"],[0.1111111111111111,\"#46039f\"],[0.2222222222222222,\"#7201a8\"],[0.3333333333333333,\"#9c179e\"],[0.4444444444444444,\"#bd3786\"],[0.5555555555555556,\"#d8576b\"],[0.6666666666666666,\"#ed7953\"],[0.7777777777777778,\"#fb9f3a\"],[0.8888888888888888,\"#fdca26\"],[1.0,\"#f0f921\"]]}],\"heatmapgl\":[{\"type\":\"heatmapgl\",\"colorbar\":{\"outlinewidth\":0,\"ticks\":\"\"},\"colorscale\":[[0.0,\"#0d0887\"],[0.1111111111111111,\"#46039f\"],[0.2222222222222222,\"#7201a8\"],[0.3333333333333333,\"#9c179e\"],[0.4444444444444444,\"#bd3786\"],[0.5555555555555556,\"#d8576b\"],[0.6666666666666666,\"#ed7953\"],[0.7777777777777778,\"#fb9f3a\"],[0.8888888888888888,\"#fdca26\"],[1.0,\"#f0f921\"]]}],\"contourcarpet\":[{\"type\":\"contourcarpet\",\"colorbar\":{\"outlinewidth\":0,\"ticks\":\"\"}}],\"contour\":[{\"type\":\"contour\",\"colorbar\":{\"outlinewidth\":0,\"ticks\":\"\"},\"colorscale\":[[0.0,\"#0d0887\"],[0.1111111111111111,\"#46039f\"],[0.2222222222222222,\"#7201a8\"],[0.3333333333333333,\"#9c179e\"],[0.4444444444444444,\"#bd3786\"],[0.5555555555555556,\"#d8576b\"],[0.6666666666666666,\"#ed7953\"],[0.7777777777777778,\"#fb9f3a\"],[0.8888888888888888,\"#fdca26\"],[1.0,\"#f0f921\"]]}],\"surface\":[{\"type\":\"surface\",\"colorbar\":{\"outlinewidth\":0,\"ticks\":\"\"},\"colorscale\":[[0.0,\"#0d0887\"],[0.1111111111111111,\"#46039f\"],[0.2222222222222222,\"#7201a8\"],[0.3333333333333333,\"#9c179e\"],[0.4444444444444444,\"#bd3786\"],[0.5555555555555556,\"#d8576b\"],[0.6666666666666666,\"#ed7953\"],[0.7777777777777778,\"#fb9f3a\"],[0.8888888888888888,\"#fdca26\"],[1.0,\"#f0f921\"]]}],\"mesh3d\":[{\"type\":\"mesh3d\",\"colorbar\":{\"outlinewidth\":0,\"ticks\":\"\"}}],\"scatter\":[{\"fillpattern\":{\"fillmode\":\"overlay\",\"size\":10,\"solidity\":0.2},\"type\":\"scatter\"}],\"parcoords\":[{\"type\":\"parcoords\",\"line\":{\"colorbar\":{\"outlinewidth\":0,\"ticks\":\"\"}}}],\"scatterpolargl\":[{\"type\":\"scatterpolargl\",\"marker\":{\"colorbar\":{\"outlinewidth\":0,\"ticks\":\"\"}}}],\"bar\":[{\"error_x\":{\"color\":\"#2a3f5f\"},\"error_y\":{\"color\":\"#2a3f5f\"},\"marker\":{\"line\":{\"color\":\"#E5ECF6\",\"width\":0.5},\"pattern\":{\"fillmode\":\"overlay\",\"size\":10,\"solidity\":0.2}},\"type\":\"bar\"}],\"scattergeo\":[{\"type\":\"scattergeo\",\"marker\":{\"colorbar\":{\"outlinewidth\":0,\"ticks\":\"\"}}}],\"scatterpolar\":[{\"type\":\"scatterpolar\",\"marker\":{\"colorbar\":{\"outlinewidth\":0,\"ticks\":\"\"}}}],\"histogram\":[{\"marker\":{\"pattern\":{\"fillmode\":\"overlay\",\"size\":10,\"solidity\":0.2}},\"type\":\"histogram\"}],\"scattergl\":[{\"type\":\"scattergl\",\"marker\":{\"colorbar\":{\"outlinewidth\":0,\"ticks\":\"\"}}}],\"scatter3d\":[{\"type\":\"scatter3d\",\"line\":{\"colorbar\":{\"outlinewidth\":0,\"ticks\":\"\"}},\"marker\":{\"colorbar\":{\"outlinewidth\":0,\"ticks\":\"\"}}}],\"scattermapbox\":[{\"type\":\"scattermapbox\",\"marker\":{\"colorbar\":{\"outlinewidth\":0,\"ticks\":\"\"}}}],\"scatterternary\":[{\"type\":\"scatterternary\",\"marker\":{\"colorbar\":{\"outlinewidth\":0,\"ticks\":\"\"}}}],\"scattercarpet\":[{\"type\":\"scattercarpet\",\"marker\":{\"colorbar\":{\"outlinewidth\":0,\"ticks\":\"\"}}}],\"carpet\":[{\"aaxis\":{\"endlinecolor\":\"#2a3f5f\",\"gridcolor\":\"white\",\"linecolor\":\"white\",\"minorgridcolor\":\"white\",\"startlinecolor\":\"#2a3f5f\"},\"baxis\":{\"endlinecolor\":\"#2a3f5f\",\"gridcolor\":\"white\",\"linecolor\":\"white\",\"minorgridcolor\":\"white\",\"startlinecolor\":\"#2a3f5f\"},\"type\":\"carpet\"}],\"table\":[{\"cells\":{\"fill\":{\"color\":\"#EBF0F8\"},\"line\":{\"color\":\"white\"}},\"header\":{\"fill\":{\"color\":\"#C8D4E3\"},\"line\":{\"color\":\"white\"}},\"type\":\"table\"}],\"barpolar\":[{\"marker\":{\"line\":{\"color\":\"#E5ECF6\",\"width\":0.5},\"pattern\":{\"fillmode\":\"overlay\",\"size\":10,\"solidity\":0.2}},\"type\":\"barpolar\"}],\"pie\":[{\"automargin\":true,\"type\":\"pie\"}]},\"layout\":{\"autotypenumbers\":\"strict\",\"colorway\":[\"#636efa\",\"#EF553B\",\"#00cc96\",\"#ab63fa\",\"#FFA15A\",\"#19d3f3\",\"#FF6692\",\"#B6E880\",\"#FF97FF\",\"#FECB52\"],\"font\":{\"color\":\"#2a3f5f\"},\"hovermode\":\"closest\",\"hoverlabel\":{\"align\":\"left\"},\"paper_bgcolor\":\"white\",\"plot_bgcolor\":\"#E5ECF6\",\"polar\":{\"bgcolor\":\"#E5ECF6\",\"angularaxis\":{\"gridcolor\":\"white\",\"linecolor\":\"white\",\"ticks\":\"\"},\"radialaxis\":{\"gridcolor\":\"white\",\"linecolor\":\"white\",\"ticks\":\"\"}},\"ternary\":{\"bgcolor\":\"#E5ECF6\",\"aaxis\":{\"gridcolor\":\"white\",\"linecolor\":\"white\",\"ticks\":\"\"},\"baxis\":{\"gridcolor\":\"white\",\"linecolor\":\"white\",\"ticks\":\"\"},\"caxis\":{\"gridcolor\":\"white\",\"linecolor\":\"white\",\"ticks\":\"\"}},\"coloraxis\":{\"colorbar\":{\"outlinewidth\":0,\"ticks\":\"\"}},\"colorscale\":{\"sequential\":[[0.0,\"#0d0887\"],[0.1111111111111111,\"#46039f\"],[0.2222222222222222,\"#7201a8\"],[0.3333333333333333,\"#9c179e\"],[0.4444444444444444,\"#bd3786\"],[0.5555555555555556,\"#d8576b\"],[0.6666666666666666,\"#ed7953\"],[0.7777777777777778,\"#fb9f3a\"],[0.8888888888888888,\"#fdca26\"],[1.0,\"#f0f921\"]],\"sequentialminus\":[[0.0,\"#0d0887\"],[0.1111111111111111,\"#46039f\"],[0.2222222222222222,\"#7201a8\"],[0.3333333333333333,\"#9c179e\"],[0.4444444444444444,\"#bd3786\"],[0.5555555555555556,\"#d8576b\"],[0.6666666666666666,\"#ed7953\"],[0.7777777777777778,\"#fb9f3a\"],[0.8888888888888888,\"#fdca26\"],[1.0,\"#f0f921\"]],\"diverging\":[[0,\"#8e0152\"],[0.1,\"#c51b7d\"],[0.2,\"#de77ae\"],[0.3,\"#f1b6da\"],[0.4,\"#fde0ef\"],[0.5,\"#f7f7f7\"],[0.6,\"#e6f5d0\"],[0.7,\"#b8e186\"],[0.8,\"#7fbc41\"],[0.9,\"#4d9221\"],[1,\"#276419\"]]},\"xaxis\":{\"gridcolor\":\"white\",\"linecolor\":\"white\",\"ticks\":\"\",\"title\":{\"standoff\":15},\"zerolinecolor\":\"white\",\"automargin\":true,\"zerolinewidth\":2},\"yaxis\":{\"gridcolor\":\"white\",\"linecolor\":\"white\",\"ticks\":\"\",\"title\":{\"standoff\":15},\"zerolinecolor\":\"white\",\"automargin\":true,\"zerolinewidth\":2},\"scene\":{\"xaxis\":{\"backgroundcolor\":\"#E5ECF6\",\"gridcolor\":\"white\",\"linecolor\":\"white\",\"showbackground\":true,\"ticks\":\"\",\"zerolinecolor\":\"white\",\"gridwidth\":2},\"yaxis\":{\"backgroundcolor\":\"#E5ECF6\",\"gridcolor\":\"white\",\"linecolor\":\"white\",\"showbackground\":true,\"ticks\":\"\",\"zerolinecolor\":\"white\",\"gridwidth\":2},\"zaxis\":{\"backgroundcolor\":\"#E5ECF6\",\"gridcolor\":\"white\",\"linecolor\":\"white\",\"showbackground\":true,\"ticks\":\"\",\"zerolinecolor\":\"white\",\"gridwidth\":2}},\"shapedefaults\":{\"line\":{\"color\":\"#2a3f5f\"}},\"annotationdefaults\":{\"arrowcolor\":\"#2a3f5f\",\"arrowhead\":0,\"arrowwidth\":1},\"geo\":{\"bgcolor\":\"white\",\"landcolor\":\"#E5ECF6\",\"subunitcolor\":\"white\",\"showland\":true,\"showlakes\":true,\"lakecolor\":\"white\"},\"title\":{\"x\":0.05},\"mapbox\":{\"style\":\"light\"}}},\"xaxis\":{\"anchor\":\"y\",\"domain\":[0.0,0.1183673469387755],\"title\":{\"text\":\"colsample_bytree\"}},\"yaxis\":{\"anchor\":\"x\",\"domain\":[0.0,1.0],\"title\":{\"text\":\"Objective Value\"}},\"xaxis2\":{\"anchor\":\"y2\",\"domain\":[0.14693877551020407,0.26530612244897955],\"title\":{\"text\":\"learning_rate\"}},\"yaxis2\":{\"anchor\":\"x2\",\"domain\":[0.0,1.0],\"matches\":\"y\",\"showticklabels\":false},\"xaxis3\":{\"anchor\":\"y3\",\"domain\":[0.29387755102040813,0.4122448979591836],\"title\":{\"text\":\"max_depth\"}},\"yaxis3\":{\"anchor\":\"x3\",\"domain\":[0.0,1.0],\"matches\":\"y\",\"showticklabels\":false},\"xaxis4\":{\"anchor\":\"y4\",\"domain\":[0.4408163265306122,0.5591836734693877],\"title\":{\"text\":\"min_child_weight\"}},\"yaxis4\":{\"anchor\":\"x4\",\"domain\":[0.0,1.0],\"matches\":\"y\",\"showticklabels\":false},\"xaxis5\":{\"anchor\":\"y5\",\"domain\":[0.5877551020408163,0.7061224489795918],\"title\":{\"text\":\"n_estimators\"}},\"yaxis5\":{\"anchor\":\"x5\",\"domain\":[0.0,1.0],\"matches\":\"y\",\"showticklabels\":false},\"xaxis6\":{\"anchor\":\"y6\",\"domain\":[0.7346938775510204,0.8530612244897959],\"title\":{\"text\":\"reg_lambda\"}},\"yaxis6\":{\"anchor\":\"x6\",\"domain\":[0.0,1.0],\"matches\":\"y\",\"showticklabels\":false},\"xaxis7\":{\"anchor\":\"y7\",\"domain\":[0.8816326530612244,0.9999999999999999],\"title\":{\"text\":\"subsample\"}},\"yaxis7\":{\"anchor\":\"x7\",\"domain\":[0.0,1.0],\"matches\":\"y\",\"showticklabels\":false},\"title\":{\"text\":\"Slice Plot\"},\"width\":2100},                        {\"responsive\": true}                    ).then(function(){\n",
       "                            \n",
       "var gd = document.getElementById('d1452eda-16a5-4cbe-aa3f-f96e7ba434b7');\n",
       "var x = new MutationObserver(function (mutations, observer) {{\n",
       "        var display = window.getComputedStyle(gd).display;\n",
       "        if (!display || display === 'none') {{\n",
       "            console.log([gd, 'removed!']);\n",
       "            Plotly.purge(gd);\n",
       "            observer.disconnect();\n",
       "        }}\n",
       "}});\n",
       "\n",
       "// Listen for the removal of the full notebook cells\n",
       "var notebookContainer = gd.closest('#notebook-container');\n",
       "if (notebookContainer) {{\n",
       "    x.observe(notebookContainer, {childList: true});\n",
       "}}\n",
       "\n",
       "// Listen for the clearing of the current output cell\n",
       "var outputEl = gd.closest('.output');\n",
       "if (outputEl) {{\n",
       "    x.observe(outputEl, {childList: true});\n",
       "}}\n",
       "\n",
       "                        })                };                });            </script>        </div>"
      ]
     },
     "metadata": {},
     "output_type": "display_data"
    }
   ],
   "source": [
    "plot_slice(study_xgb,  params=params_optuna)"
   ]
  },
  {
   "cell_type": "markdown",
   "id": "f992c132",
   "metadata": {
    "ExecuteTime": {
     "end_time": "2022-12-21T16:49:49.371032Z",
     "start_time": "2022-12-21T16:49:49.342033Z"
    }
   },
   "source": [
    "#### 4.5.2.5. Distribuição empírica "
   ]
  },
  {
   "cell_type": "code",
   "execution_count": 81,
   "id": "53137458",
   "metadata": {
    "ExecuteTime": {
     "end_time": "2022-12-27T02:18:18.692533Z",
     "start_time": "2022-12-27T02:18:18.633216Z"
    }
   },
   "outputs": [
    {
     "data": {
      "application/vnd.plotly.v1+json": {
       "config": {
        "plotlyServerURL": "https://plot.ly"
       },
       "data": [
        {
         "mode": "lines",
         "name": "xgb_turning",
         "type": "scatter",
         "x": [
          0.67971,
          0.6802750505050505,
          0.6808401010101011,
          0.6814051515151516,
          0.6819702020202021,
          0.6825352525252526,
          0.6831003030303031,
          0.6836653535353536,
          0.684230404040404,
          0.6847954545454545,
          0.685360505050505,
          0.6859255555555556,
          0.6864906060606061,
          0.6870556565656566,
          0.6876207070707071,
          0.6881857575757576,
          0.6887508080808081,
          0.6893158585858586,
          0.6898809090909092,
          0.6904459595959597,
          0.6910110101010102,
          0.6915760606060607,
          0.6921411111111111,
          0.6927061616161616,
          0.6932712121212121,
          0.6938362626262626,
          0.6944013131313131,
          0.6949663636363637,
          0.6955314141414142,
          0.6960964646464647,
          0.6966615151515152,
          0.6972265656565657,
          0.6977916161616162,
          0.6983566666666667,
          0.6989217171717172,
          0.6994867676767678,
          0.7000518181818182,
          0.7006168686868687,
          0.7011819191919192,
          0.7017469696969697,
          0.7023120202020202,
          0.7028770707070707,
          0.7034421212121212,
          0.7040071717171718,
          0.7045722222222223,
          0.7051372727272728,
          0.7057023232323233,
          0.7062673737373738,
          0.7068324242424243,
          0.7073974747474748,
          0.7079625252525252,
          0.7085275757575757,
          0.7090926262626263,
          0.7096576767676768,
          0.7102227272727273,
          0.7107877777777778,
          0.7113528282828283,
          0.7119178787878788,
          0.7124829292929293,
          0.7130479797979798,
          0.7136130303030304,
          0.7141780808080809,
          0.7147431313131314,
          0.7153081818181819,
          0.7158732323232324,
          0.7164382828282828,
          0.7170033333333333,
          0.7175683838383838,
          0.7181334343434344,
          0.7186984848484849,
          0.7192635353535354,
          0.7198285858585859,
          0.7203936363636364,
          0.7209586868686869,
          0.7215237373737374,
          0.7220887878787879,
          0.7226538383838385,
          0.723218888888889,
          0.7237839393939394,
          0.7243489898989899,
          0.7249140404040404,
          0.7254790909090909,
          0.7260441414141414,
          0.7266091919191919,
          0.7271742424242424,
          0.727739292929293,
          0.7283043434343435,
          0.728869393939394,
          0.7294344444444445,
          0.729999494949495,
          0.7305645454545455,
          0.731129595959596,
          0.7316946464646465,
          0.732259696969697,
          0.7328247474747475,
          0.733389797979798,
          0.7339548484848485,
          0.734519898989899,
          0.7350849494949495,
          0.73565
         ],
         "y": [
          0.01,
          0.01,
          0.01,
          0.01,
          0.01,
          0.01,
          0.01,
          0.01,
          0.01,
          0.01,
          0.02,
          0.02,
          0.02,
          0.02,
          0.02,
          0.02,
          0.02,
          0.02,
          0.02,
          0.02,
          0.02,
          0.02,
          0.02,
          0.02,
          0.02,
          0.02,
          0.02,
          0.02,
          0.02,
          0.02,
          0.03,
          0.03,
          0.03,
          0.04,
          0.04,
          0.04,
          0.04,
          0.04,
          0.04,
          0.04,
          0.04,
          0.04,
          0.04,
          0.05,
          0.05,
          0.05,
          0.05,
          0.05,
          0.05,
          0.05,
          0.06,
          0.06,
          0.06,
          0.06,
          0.06,
          0.06,
          0.06,
          0.06,
          0.06,
          0.06,
          0.07,
          0.07,
          0.07,
          0.08,
          0.09,
          0.09,
          0.09,
          0.11,
          0.11,
          0.13,
          0.16,
          0.16,
          0.16,
          0.16,
          0.16,
          0.17,
          0.18,
          0.18,
          0.21,
          0.22,
          0.24,
          0.24,
          0.28,
          0.3,
          0.34,
          0.38,
          0.4,
          0.42,
          0.46,
          0.51,
          0.54,
          0.6,
          0.7,
          0.76,
          0.84,
          0.92,
          0.96,
          0.97,
          0.98,
          1
         ]
        }
       ],
       "layout": {
        "template": {
         "data": {
          "bar": [
           {
            "error_x": {
             "color": "#2a3f5f"
            },
            "error_y": {
             "color": "#2a3f5f"
            },
            "marker": {
             "line": {
              "color": "#E5ECF6",
              "width": 0.5
             },
             "pattern": {
              "fillmode": "overlay",
              "size": 10,
              "solidity": 0.2
             }
            },
            "type": "bar"
           }
          ],
          "barpolar": [
           {
            "marker": {
             "line": {
              "color": "#E5ECF6",
              "width": 0.5
             },
             "pattern": {
              "fillmode": "overlay",
              "size": 10,
              "solidity": 0.2
             }
            },
            "type": "barpolar"
           }
          ],
          "carpet": [
           {
            "aaxis": {
             "endlinecolor": "#2a3f5f",
             "gridcolor": "white",
             "linecolor": "white",
             "minorgridcolor": "white",
             "startlinecolor": "#2a3f5f"
            },
            "baxis": {
             "endlinecolor": "#2a3f5f",
             "gridcolor": "white",
             "linecolor": "white",
             "minorgridcolor": "white",
             "startlinecolor": "#2a3f5f"
            },
            "type": "carpet"
           }
          ],
          "choropleth": [
           {
            "colorbar": {
             "outlinewidth": 0,
             "ticks": ""
            },
            "type": "choropleth"
           }
          ],
          "contour": [
           {
            "colorbar": {
             "outlinewidth": 0,
             "ticks": ""
            },
            "colorscale": [
             [
              0,
              "#0d0887"
             ],
             [
              0.1111111111111111,
              "#46039f"
             ],
             [
              0.2222222222222222,
              "#7201a8"
             ],
             [
              0.3333333333333333,
              "#9c179e"
             ],
             [
              0.4444444444444444,
              "#bd3786"
             ],
             [
              0.5555555555555556,
              "#d8576b"
             ],
             [
              0.6666666666666666,
              "#ed7953"
             ],
             [
              0.7777777777777778,
              "#fb9f3a"
             ],
             [
              0.8888888888888888,
              "#fdca26"
             ],
             [
              1,
              "#f0f921"
             ]
            ],
            "type": "contour"
           }
          ],
          "contourcarpet": [
           {
            "colorbar": {
             "outlinewidth": 0,
             "ticks": ""
            },
            "type": "contourcarpet"
           }
          ],
          "heatmap": [
           {
            "colorbar": {
             "outlinewidth": 0,
             "ticks": ""
            },
            "colorscale": [
             [
              0,
              "#0d0887"
             ],
             [
              0.1111111111111111,
              "#46039f"
             ],
             [
              0.2222222222222222,
              "#7201a8"
             ],
             [
              0.3333333333333333,
              "#9c179e"
             ],
             [
              0.4444444444444444,
              "#bd3786"
             ],
             [
              0.5555555555555556,
              "#d8576b"
             ],
             [
              0.6666666666666666,
              "#ed7953"
             ],
             [
              0.7777777777777778,
              "#fb9f3a"
             ],
             [
              0.8888888888888888,
              "#fdca26"
             ],
             [
              1,
              "#f0f921"
             ]
            ],
            "type": "heatmap"
           }
          ],
          "heatmapgl": [
           {
            "colorbar": {
             "outlinewidth": 0,
             "ticks": ""
            },
            "colorscale": [
             [
              0,
              "#0d0887"
             ],
             [
              0.1111111111111111,
              "#46039f"
             ],
             [
              0.2222222222222222,
              "#7201a8"
             ],
             [
              0.3333333333333333,
              "#9c179e"
             ],
             [
              0.4444444444444444,
              "#bd3786"
             ],
             [
              0.5555555555555556,
              "#d8576b"
             ],
             [
              0.6666666666666666,
              "#ed7953"
             ],
             [
              0.7777777777777778,
              "#fb9f3a"
             ],
             [
              0.8888888888888888,
              "#fdca26"
             ],
             [
              1,
              "#f0f921"
             ]
            ],
            "type": "heatmapgl"
           }
          ],
          "histogram": [
           {
            "marker": {
             "pattern": {
              "fillmode": "overlay",
              "size": 10,
              "solidity": 0.2
             }
            },
            "type": "histogram"
           }
          ],
          "histogram2d": [
           {
            "colorbar": {
             "outlinewidth": 0,
             "ticks": ""
            },
            "colorscale": [
             [
              0,
              "#0d0887"
             ],
             [
              0.1111111111111111,
              "#46039f"
             ],
             [
              0.2222222222222222,
              "#7201a8"
             ],
             [
              0.3333333333333333,
              "#9c179e"
             ],
             [
              0.4444444444444444,
              "#bd3786"
             ],
             [
              0.5555555555555556,
              "#d8576b"
             ],
             [
              0.6666666666666666,
              "#ed7953"
             ],
             [
              0.7777777777777778,
              "#fb9f3a"
             ],
             [
              0.8888888888888888,
              "#fdca26"
             ],
             [
              1,
              "#f0f921"
             ]
            ],
            "type": "histogram2d"
           }
          ],
          "histogram2dcontour": [
           {
            "colorbar": {
             "outlinewidth": 0,
             "ticks": ""
            },
            "colorscale": [
             [
              0,
              "#0d0887"
             ],
             [
              0.1111111111111111,
              "#46039f"
             ],
             [
              0.2222222222222222,
              "#7201a8"
             ],
             [
              0.3333333333333333,
              "#9c179e"
             ],
             [
              0.4444444444444444,
              "#bd3786"
             ],
             [
              0.5555555555555556,
              "#d8576b"
             ],
             [
              0.6666666666666666,
              "#ed7953"
             ],
             [
              0.7777777777777778,
              "#fb9f3a"
             ],
             [
              0.8888888888888888,
              "#fdca26"
             ],
             [
              1,
              "#f0f921"
             ]
            ],
            "type": "histogram2dcontour"
           }
          ],
          "mesh3d": [
           {
            "colorbar": {
             "outlinewidth": 0,
             "ticks": ""
            },
            "type": "mesh3d"
           }
          ],
          "parcoords": [
           {
            "line": {
             "colorbar": {
              "outlinewidth": 0,
              "ticks": ""
             }
            },
            "type": "parcoords"
           }
          ],
          "pie": [
           {
            "automargin": true,
            "type": "pie"
           }
          ],
          "scatter": [
           {
            "fillpattern": {
             "fillmode": "overlay",
             "size": 10,
             "solidity": 0.2
            },
            "type": "scatter"
           }
          ],
          "scatter3d": [
           {
            "line": {
             "colorbar": {
              "outlinewidth": 0,
              "ticks": ""
             }
            },
            "marker": {
             "colorbar": {
              "outlinewidth": 0,
              "ticks": ""
             }
            },
            "type": "scatter3d"
           }
          ],
          "scattercarpet": [
           {
            "marker": {
             "colorbar": {
              "outlinewidth": 0,
              "ticks": ""
             }
            },
            "type": "scattercarpet"
           }
          ],
          "scattergeo": [
           {
            "marker": {
             "colorbar": {
              "outlinewidth": 0,
              "ticks": ""
             }
            },
            "type": "scattergeo"
           }
          ],
          "scattergl": [
           {
            "marker": {
             "colorbar": {
              "outlinewidth": 0,
              "ticks": ""
             }
            },
            "type": "scattergl"
           }
          ],
          "scattermapbox": [
           {
            "marker": {
             "colorbar": {
              "outlinewidth": 0,
              "ticks": ""
             }
            },
            "type": "scattermapbox"
           }
          ],
          "scatterpolar": [
           {
            "marker": {
             "colorbar": {
              "outlinewidth": 0,
              "ticks": ""
             }
            },
            "type": "scatterpolar"
           }
          ],
          "scatterpolargl": [
           {
            "marker": {
             "colorbar": {
              "outlinewidth": 0,
              "ticks": ""
             }
            },
            "type": "scatterpolargl"
           }
          ],
          "scatterternary": [
           {
            "marker": {
             "colorbar": {
              "outlinewidth": 0,
              "ticks": ""
             }
            },
            "type": "scatterternary"
           }
          ],
          "surface": [
           {
            "colorbar": {
             "outlinewidth": 0,
             "ticks": ""
            },
            "colorscale": [
             [
              0,
              "#0d0887"
             ],
             [
              0.1111111111111111,
              "#46039f"
             ],
             [
              0.2222222222222222,
              "#7201a8"
             ],
             [
              0.3333333333333333,
              "#9c179e"
             ],
             [
              0.4444444444444444,
              "#bd3786"
             ],
             [
              0.5555555555555556,
              "#d8576b"
             ],
             [
              0.6666666666666666,
              "#ed7953"
             ],
             [
              0.7777777777777778,
              "#fb9f3a"
             ],
             [
              0.8888888888888888,
              "#fdca26"
             ],
             [
              1,
              "#f0f921"
             ]
            ],
            "type": "surface"
           }
          ],
          "table": [
           {
            "cells": {
             "fill": {
              "color": "#EBF0F8"
             },
             "line": {
              "color": "white"
             }
            },
            "header": {
             "fill": {
              "color": "#C8D4E3"
             },
             "line": {
              "color": "white"
             }
            },
            "type": "table"
           }
          ]
         },
         "layout": {
          "annotationdefaults": {
           "arrowcolor": "#2a3f5f",
           "arrowhead": 0,
           "arrowwidth": 1
          },
          "autotypenumbers": "strict",
          "coloraxis": {
           "colorbar": {
            "outlinewidth": 0,
            "ticks": ""
           }
          },
          "colorscale": {
           "diverging": [
            [
             0,
             "#8e0152"
            ],
            [
             0.1,
             "#c51b7d"
            ],
            [
             0.2,
             "#de77ae"
            ],
            [
             0.3,
             "#f1b6da"
            ],
            [
             0.4,
             "#fde0ef"
            ],
            [
             0.5,
             "#f7f7f7"
            ],
            [
             0.6,
             "#e6f5d0"
            ],
            [
             0.7,
             "#b8e186"
            ],
            [
             0.8,
             "#7fbc41"
            ],
            [
             0.9,
             "#4d9221"
            ],
            [
             1,
             "#276419"
            ]
           ],
           "sequential": [
            [
             0,
             "#0d0887"
            ],
            [
             0.1111111111111111,
             "#46039f"
            ],
            [
             0.2222222222222222,
             "#7201a8"
            ],
            [
             0.3333333333333333,
             "#9c179e"
            ],
            [
             0.4444444444444444,
             "#bd3786"
            ],
            [
             0.5555555555555556,
             "#d8576b"
            ],
            [
             0.6666666666666666,
             "#ed7953"
            ],
            [
             0.7777777777777778,
             "#fb9f3a"
            ],
            [
             0.8888888888888888,
             "#fdca26"
            ],
            [
             1,
             "#f0f921"
            ]
           ],
           "sequentialminus": [
            [
             0,
             "#0d0887"
            ],
            [
             0.1111111111111111,
             "#46039f"
            ],
            [
             0.2222222222222222,
             "#7201a8"
            ],
            [
             0.3333333333333333,
             "#9c179e"
            ],
            [
             0.4444444444444444,
             "#bd3786"
            ],
            [
             0.5555555555555556,
             "#d8576b"
            ],
            [
             0.6666666666666666,
             "#ed7953"
            ],
            [
             0.7777777777777778,
             "#fb9f3a"
            ],
            [
             0.8888888888888888,
             "#fdca26"
            ],
            [
             1,
             "#f0f921"
            ]
           ]
          },
          "colorway": [
           "#636efa",
           "#EF553B",
           "#00cc96",
           "#ab63fa",
           "#FFA15A",
           "#19d3f3",
           "#FF6692",
           "#B6E880",
           "#FF97FF",
           "#FECB52"
          ],
          "font": {
           "color": "#2a3f5f"
          },
          "geo": {
           "bgcolor": "white",
           "lakecolor": "white",
           "landcolor": "#E5ECF6",
           "showlakes": true,
           "showland": true,
           "subunitcolor": "white"
          },
          "hoverlabel": {
           "align": "left"
          },
          "hovermode": "closest",
          "mapbox": {
           "style": "light"
          },
          "paper_bgcolor": "white",
          "plot_bgcolor": "#E5ECF6",
          "polar": {
           "angularaxis": {
            "gridcolor": "white",
            "linecolor": "white",
            "ticks": ""
           },
           "bgcolor": "#E5ECF6",
           "radialaxis": {
            "gridcolor": "white",
            "linecolor": "white",
            "ticks": ""
           }
          },
          "scene": {
           "xaxis": {
            "backgroundcolor": "#E5ECF6",
            "gridcolor": "white",
            "gridwidth": 2,
            "linecolor": "white",
            "showbackground": true,
            "ticks": "",
            "zerolinecolor": "white"
           },
           "yaxis": {
            "backgroundcolor": "#E5ECF6",
            "gridcolor": "white",
            "gridwidth": 2,
            "linecolor": "white",
            "showbackground": true,
            "ticks": "",
            "zerolinecolor": "white"
           },
           "zaxis": {
            "backgroundcolor": "#E5ECF6",
            "gridcolor": "white",
            "gridwidth": 2,
            "linecolor": "white",
            "showbackground": true,
            "ticks": "",
            "zerolinecolor": "white"
           }
          },
          "shapedefaults": {
           "line": {
            "color": "#2a3f5f"
           }
          },
          "ternary": {
           "aaxis": {
            "gridcolor": "white",
            "linecolor": "white",
            "ticks": ""
           },
           "baxis": {
            "gridcolor": "white",
            "linecolor": "white",
            "ticks": ""
           },
           "bgcolor": "#E5ECF6",
           "caxis": {
            "gridcolor": "white",
            "linecolor": "white",
            "ticks": ""
           }
          },
          "title": {
           "x": 0.05
          },
          "xaxis": {
           "automargin": true,
           "gridcolor": "white",
           "linecolor": "white",
           "ticks": "",
           "title": {
            "standoff": 15
           },
           "zerolinecolor": "white",
           "zerolinewidth": 2
          },
          "yaxis": {
           "automargin": true,
           "gridcolor": "white",
           "linecolor": "white",
           "ticks": "",
           "title": {
            "standoff": 15
           },
           "zerolinecolor": "white",
           "zerolinewidth": 2
          }
         }
        },
        "title": {
         "text": "Empirical Distribution Function Plot"
        },
        "xaxis": {
         "title": {
          "text": "F1-score"
         }
        },
        "yaxis": {
         "range": [
          0,
          1
         ],
         "title": {
          "text": "Cumulative Probability"
         }
        }
       }
      },
      "text/html": [
       "<div>                            <div id=\"5ee30b17-e971-4920-8c21-4c4579d38e7a\" class=\"plotly-graph-div\" style=\"height:525px; width:100%;\"></div>            <script type=\"text/javascript\">                require([\"plotly\"], function(Plotly) {                    window.PLOTLYENV=window.PLOTLYENV || {};                                    if (document.getElementById(\"5ee30b17-e971-4920-8c21-4c4579d38e7a\")) {                    Plotly.newPlot(                        \"5ee30b17-e971-4920-8c21-4c4579d38e7a\",                        [{\"mode\":\"lines\",\"name\":\"xgb_turning\",\"x\":[0.67971,0.6802750505050505,0.6808401010101011,0.6814051515151516,0.6819702020202021,0.6825352525252526,0.6831003030303031,0.6836653535353536,0.684230404040404,0.6847954545454545,0.685360505050505,0.6859255555555556,0.6864906060606061,0.6870556565656566,0.6876207070707071,0.6881857575757576,0.6887508080808081,0.6893158585858586,0.6898809090909092,0.6904459595959597,0.6910110101010102,0.6915760606060607,0.6921411111111111,0.6927061616161616,0.6932712121212121,0.6938362626262626,0.6944013131313131,0.6949663636363637,0.6955314141414142,0.6960964646464647,0.6966615151515152,0.6972265656565657,0.6977916161616162,0.6983566666666667,0.6989217171717172,0.6994867676767678,0.7000518181818182,0.7006168686868687,0.7011819191919192,0.7017469696969697,0.7023120202020202,0.7028770707070707,0.7034421212121212,0.7040071717171718,0.7045722222222223,0.7051372727272728,0.7057023232323233,0.7062673737373738,0.7068324242424243,0.7073974747474748,0.7079625252525252,0.7085275757575757,0.7090926262626263,0.7096576767676768,0.7102227272727273,0.7107877777777778,0.7113528282828283,0.7119178787878788,0.7124829292929293,0.7130479797979798,0.7136130303030304,0.7141780808080809,0.7147431313131314,0.7153081818181819,0.7158732323232324,0.7164382828282828,0.7170033333333333,0.7175683838383838,0.7181334343434344,0.7186984848484849,0.7192635353535354,0.7198285858585859,0.7203936363636364,0.7209586868686869,0.7215237373737374,0.7220887878787879,0.7226538383838385,0.723218888888889,0.7237839393939394,0.7243489898989899,0.7249140404040404,0.7254790909090909,0.7260441414141414,0.7266091919191919,0.7271742424242424,0.727739292929293,0.7283043434343435,0.728869393939394,0.7294344444444445,0.729999494949495,0.7305645454545455,0.731129595959596,0.7316946464646465,0.732259696969697,0.7328247474747475,0.733389797979798,0.7339548484848485,0.734519898989899,0.7350849494949495,0.73565],\"y\":[0.01,0.01,0.01,0.01,0.01,0.01,0.01,0.01,0.01,0.01,0.02,0.02,0.02,0.02,0.02,0.02,0.02,0.02,0.02,0.02,0.02,0.02,0.02,0.02,0.02,0.02,0.02,0.02,0.02,0.02,0.03,0.03,0.03,0.04,0.04,0.04,0.04,0.04,0.04,0.04,0.04,0.04,0.04,0.05,0.05,0.05,0.05,0.05,0.05,0.05,0.06,0.06,0.06,0.06,0.06,0.06,0.06,0.06,0.06,0.06,0.07,0.07,0.07,0.08,0.09,0.09,0.09,0.11,0.11,0.13,0.16,0.16,0.16,0.16,0.16,0.17,0.18,0.18,0.21,0.22,0.24,0.24,0.28,0.3,0.34,0.38,0.4,0.42,0.46,0.51,0.54,0.6,0.7,0.76,0.84,0.92,0.96,0.97,0.98,1.0],\"type\":\"scatter\"}],                        {\"title\":{\"text\":\"Empirical Distribution Function Plot\"},\"xaxis\":{\"title\":{\"text\":\"F1-score\"}},\"yaxis\":{\"title\":{\"text\":\"Cumulative Probability\"},\"range\":[0,1]},\"template\":{\"data\":{\"histogram2dcontour\":[{\"type\":\"histogram2dcontour\",\"colorbar\":{\"outlinewidth\":0,\"ticks\":\"\"},\"colorscale\":[[0.0,\"#0d0887\"],[0.1111111111111111,\"#46039f\"],[0.2222222222222222,\"#7201a8\"],[0.3333333333333333,\"#9c179e\"],[0.4444444444444444,\"#bd3786\"],[0.5555555555555556,\"#d8576b\"],[0.6666666666666666,\"#ed7953\"],[0.7777777777777778,\"#fb9f3a\"],[0.8888888888888888,\"#fdca26\"],[1.0,\"#f0f921\"]]}],\"choropleth\":[{\"type\":\"choropleth\",\"colorbar\":{\"outlinewidth\":0,\"ticks\":\"\"}}],\"histogram2d\":[{\"type\":\"histogram2d\",\"colorbar\":{\"outlinewidth\":0,\"ticks\":\"\"},\"colorscale\":[[0.0,\"#0d0887\"],[0.1111111111111111,\"#46039f\"],[0.2222222222222222,\"#7201a8\"],[0.3333333333333333,\"#9c179e\"],[0.4444444444444444,\"#bd3786\"],[0.5555555555555556,\"#d8576b\"],[0.6666666666666666,\"#ed7953\"],[0.7777777777777778,\"#fb9f3a\"],[0.8888888888888888,\"#fdca26\"],[1.0,\"#f0f921\"]]}],\"heatmap\":[{\"type\":\"heatmap\",\"colorbar\":{\"outlinewidth\":0,\"ticks\":\"\"},\"colorscale\":[[0.0,\"#0d0887\"],[0.1111111111111111,\"#46039f\"],[0.2222222222222222,\"#7201a8\"],[0.3333333333333333,\"#9c179e\"],[0.4444444444444444,\"#bd3786\"],[0.5555555555555556,\"#d8576b\"],[0.6666666666666666,\"#ed7953\"],[0.7777777777777778,\"#fb9f3a\"],[0.8888888888888888,\"#fdca26\"],[1.0,\"#f0f921\"]]}],\"heatmapgl\":[{\"type\":\"heatmapgl\",\"colorbar\":{\"outlinewidth\":0,\"ticks\":\"\"},\"colorscale\":[[0.0,\"#0d0887\"],[0.1111111111111111,\"#46039f\"],[0.2222222222222222,\"#7201a8\"],[0.3333333333333333,\"#9c179e\"],[0.4444444444444444,\"#bd3786\"],[0.5555555555555556,\"#d8576b\"],[0.6666666666666666,\"#ed7953\"],[0.7777777777777778,\"#fb9f3a\"],[0.8888888888888888,\"#fdca26\"],[1.0,\"#f0f921\"]]}],\"contourcarpet\":[{\"type\":\"contourcarpet\",\"colorbar\":{\"outlinewidth\":0,\"ticks\":\"\"}}],\"contour\":[{\"type\":\"contour\",\"colorbar\":{\"outlinewidth\":0,\"ticks\":\"\"},\"colorscale\":[[0.0,\"#0d0887\"],[0.1111111111111111,\"#46039f\"],[0.2222222222222222,\"#7201a8\"],[0.3333333333333333,\"#9c179e\"],[0.4444444444444444,\"#bd3786\"],[0.5555555555555556,\"#d8576b\"],[0.6666666666666666,\"#ed7953\"],[0.7777777777777778,\"#fb9f3a\"],[0.8888888888888888,\"#fdca26\"],[1.0,\"#f0f921\"]]}],\"surface\":[{\"type\":\"surface\",\"colorbar\":{\"outlinewidth\":0,\"ticks\":\"\"},\"colorscale\":[[0.0,\"#0d0887\"],[0.1111111111111111,\"#46039f\"],[0.2222222222222222,\"#7201a8\"],[0.3333333333333333,\"#9c179e\"],[0.4444444444444444,\"#bd3786\"],[0.5555555555555556,\"#d8576b\"],[0.6666666666666666,\"#ed7953\"],[0.7777777777777778,\"#fb9f3a\"],[0.8888888888888888,\"#fdca26\"],[1.0,\"#f0f921\"]]}],\"mesh3d\":[{\"type\":\"mesh3d\",\"colorbar\":{\"outlinewidth\":0,\"ticks\":\"\"}}],\"scatter\":[{\"fillpattern\":{\"fillmode\":\"overlay\",\"size\":10,\"solidity\":0.2},\"type\":\"scatter\"}],\"parcoords\":[{\"type\":\"parcoords\",\"line\":{\"colorbar\":{\"outlinewidth\":0,\"ticks\":\"\"}}}],\"scatterpolargl\":[{\"type\":\"scatterpolargl\",\"marker\":{\"colorbar\":{\"outlinewidth\":0,\"ticks\":\"\"}}}],\"bar\":[{\"error_x\":{\"color\":\"#2a3f5f\"},\"error_y\":{\"color\":\"#2a3f5f\"},\"marker\":{\"line\":{\"color\":\"#E5ECF6\",\"width\":0.5},\"pattern\":{\"fillmode\":\"overlay\",\"size\":10,\"solidity\":0.2}},\"type\":\"bar\"}],\"scattergeo\":[{\"type\":\"scattergeo\",\"marker\":{\"colorbar\":{\"outlinewidth\":0,\"ticks\":\"\"}}}],\"scatterpolar\":[{\"type\":\"scatterpolar\",\"marker\":{\"colorbar\":{\"outlinewidth\":0,\"ticks\":\"\"}}}],\"histogram\":[{\"marker\":{\"pattern\":{\"fillmode\":\"overlay\",\"size\":10,\"solidity\":0.2}},\"type\":\"histogram\"}],\"scattergl\":[{\"type\":\"scattergl\",\"marker\":{\"colorbar\":{\"outlinewidth\":0,\"ticks\":\"\"}}}],\"scatter3d\":[{\"type\":\"scatter3d\",\"line\":{\"colorbar\":{\"outlinewidth\":0,\"ticks\":\"\"}},\"marker\":{\"colorbar\":{\"outlinewidth\":0,\"ticks\":\"\"}}}],\"scattermapbox\":[{\"type\":\"scattermapbox\",\"marker\":{\"colorbar\":{\"outlinewidth\":0,\"ticks\":\"\"}}}],\"scatterternary\":[{\"type\":\"scatterternary\",\"marker\":{\"colorbar\":{\"outlinewidth\":0,\"ticks\":\"\"}}}],\"scattercarpet\":[{\"type\":\"scattercarpet\",\"marker\":{\"colorbar\":{\"outlinewidth\":0,\"ticks\":\"\"}}}],\"carpet\":[{\"aaxis\":{\"endlinecolor\":\"#2a3f5f\",\"gridcolor\":\"white\",\"linecolor\":\"white\",\"minorgridcolor\":\"white\",\"startlinecolor\":\"#2a3f5f\"},\"baxis\":{\"endlinecolor\":\"#2a3f5f\",\"gridcolor\":\"white\",\"linecolor\":\"white\",\"minorgridcolor\":\"white\",\"startlinecolor\":\"#2a3f5f\"},\"type\":\"carpet\"}],\"table\":[{\"cells\":{\"fill\":{\"color\":\"#EBF0F8\"},\"line\":{\"color\":\"white\"}},\"header\":{\"fill\":{\"color\":\"#C8D4E3\"},\"line\":{\"color\":\"white\"}},\"type\":\"table\"}],\"barpolar\":[{\"marker\":{\"line\":{\"color\":\"#E5ECF6\",\"width\":0.5},\"pattern\":{\"fillmode\":\"overlay\",\"size\":10,\"solidity\":0.2}},\"type\":\"barpolar\"}],\"pie\":[{\"automargin\":true,\"type\":\"pie\"}]},\"layout\":{\"autotypenumbers\":\"strict\",\"colorway\":[\"#636efa\",\"#EF553B\",\"#00cc96\",\"#ab63fa\",\"#FFA15A\",\"#19d3f3\",\"#FF6692\",\"#B6E880\",\"#FF97FF\",\"#FECB52\"],\"font\":{\"color\":\"#2a3f5f\"},\"hovermode\":\"closest\",\"hoverlabel\":{\"align\":\"left\"},\"paper_bgcolor\":\"white\",\"plot_bgcolor\":\"#E5ECF6\",\"polar\":{\"bgcolor\":\"#E5ECF6\",\"angularaxis\":{\"gridcolor\":\"white\",\"linecolor\":\"white\",\"ticks\":\"\"},\"radialaxis\":{\"gridcolor\":\"white\",\"linecolor\":\"white\",\"ticks\":\"\"}},\"ternary\":{\"bgcolor\":\"#E5ECF6\",\"aaxis\":{\"gridcolor\":\"white\",\"linecolor\":\"white\",\"ticks\":\"\"},\"baxis\":{\"gridcolor\":\"white\",\"linecolor\":\"white\",\"ticks\":\"\"},\"caxis\":{\"gridcolor\":\"white\",\"linecolor\":\"white\",\"ticks\":\"\"}},\"coloraxis\":{\"colorbar\":{\"outlinewidth\":0,\"ticks\":\"\"}},\"colorscale\":{\"sequential\":[[0.0,\"#0d0887\"],[0.1111111111111111,\"#46039f\"],[0.2222222222222222,\"#7201a8\"],[0.3333333333333333,\"#9c179e\"],[0.4444444444444444,\"#bd3786\"],[0.5555555555555556,\"#d8576b\"],[0.6666666666666666,\"#ed7953\"],[0.7777777777777778,\"#fb9f3a\"],[0.8888888888888888,\"#fdca26\"],[1.0,\"#f0f921\"]],\"sequentialminus\":[[0.0,\"#0d0887\"],[0.1111111111111111,\"#46039f\"],[0.2222222222222222,\"#7201a8\"],[0.3333333333333333,\"#9c179e\"],[0.4444444444444444,\"#bd3786\"],[0.5555555555555556,\"#d8576b\"],[0.6666666666666666,\"#ed7953\"],[0.7777777777777778,\"#fb9f3a\"],[0.8888888888888888,\"#fdca26\"],[1.0,\"#f0f921\"]],\"diverging\":[[0,\"#8e0152\"],[0.1,\"#c51b7d\"],[0.2,\"#de77ae\"],[0.3,\"#f1b6da\"],[0.4,\"#fde0ef\"],[0.5,\"#f7f7f7\"],[0.6,\"#e6f5d0\"],[0.7,\"#b8e186\"],[0.8,\"#7fbc41\"],[0.9,\"#4d9221\"],[1,\"#276419\"]]},\"xaxis\":{\"gridcolor\":\"white\",\"linecolor\":\"white\",\"ticks\":\"\",\"title\":{\"standoff\":15},\"zerolinecolor\":\"white\",\"automargin\":true,\"zerolinewidth\":2},\"yaxis\":{\"gridcolor\":\"white\",\"linecolor\":\"white\",\"ticks\":\"\",\"title\":{\"standoff\":15},\"zerolinecolor\":\"white\",\"automargin\":true,\"zerolinewidth\":2},\"scene\":{\"xaxis\":{\"backgroundcolor\":\"#E5ECF6\",\"gridcolor\":\"white\",\"linecolor\":\"white\",\"showbackground\":true,\"ticks\":\"\",\"zerolinecolor\":\"white\",\"gridwidth\":2},\"yaxis\":{\"backgroundcolor\":\"#E5ECF6\",\"gridcolor\":\"white\",\"linecolor\":\"white\",\"showbackground\":true,\"ticks\":\"\",\"zerolinecolor\":\"white\",\"gridwidth\":2},\"zaxis\":{\"backgroundcolor\":\"#E5ECF6\",\"gridcolor\":\"white\",\"linecolor\":\"white\",\"showbackground\":true,\"ticks\":\"\",\"zerolinecolor\":\"white\",\"gridwidth\":2}},\"shapedefaults\":{\"line\":{\"color\":\"#2a3f5f\"}},\"annotationdefaults\":{\"arrowcolor\":\"#2a3f5f\",\"arrowhead\":0,\"arrowwidth\":1},\"geo\":{\"bgcolor\":\"white\",\"landcolor\":\"#E5ECF6\",\"subunitcolor\":\"white\",\"showland\":true,\"showlakes\":true,\"lakecolor\":\"white\"},\"title\":{\"x\":0.05},\"mapbox\":{\"style\":\"light\"}}}},                        {\"responsive\": true}                    ).then(function(){\n",
       "                            \n",
       "var gd = document.getElementById('5ee30b17-e971-4920-8c21-4c4579d38e7a');\n",
       "var x = new MutationObserver(function (mutations, observer) {{\n",
       "        var display = window.getComputedStyle(gd).display;\n",
       "        if (!display || display === 'none') {{\n",
       "            console.log([gd, 'removed!']);\n",
       "            Plotly.purge(gd);\n",
       "            observer.disconnect();\n",
       "        }}\n",
       "}});\n",
       "\n",
       "// Listen for the removal of the full notebook cells\n",
       "var notebookContainer = gd.closest('#notebook-container');\n",
       "if (notebookContainer) {{\n",
       "    x.observe(notebookContainer, {childList: true});\n",
       "}}\n",
       "\n",
       "// Listen for the clearing of the current output cell\n",
       "var outputEl = gd.closest('.output');\n",
       "if (outputEl) {{\n",
       "    x.observe(outputEl, {childList: true});\n",
       "}}\n",
       "\n",
       "                        })                };                });            </script>        </div>"
      ]
     },
     "metadata": {},
     "output_type": "display_data"
    }
   ],
   "source": [
    "optuna.visualization.plot_edf(study_xgb, target_name=\"F1-score\", )"
   ]
  },
  {
   "cell_type": "markdown",
   "id": "76a558c8",
   "metadata": {},
   "source": [
    "## 4.3. Modelo LBGM"
   ]
  },
  {
   "cell_type": "code",
   "execution_count": 82,
   "id": "6438ec52",
   "metadata": {
    "ExecuteTime": {
     "end_time": "2022-12-27T02:18:26.849580Z",
     "start_time": "2022-12-27T02:18:23.855569Z"
    }
   },
   "outputs": [
    {
     "name": "stdout",
     "output_type": "stream",
     "text": [
      "\n",
      "=> LBGM\n",
      "==========================================================================================\n",
      "Fold 1 => F1-score: 0.72202 - F1-Train: 0.74241 - AUC:0.79292 - L.Loss: 0.38105 - 0h 0m 0s\n",
      "Fold 2 => F1-score: 0.68750 - F1-Train: 0.74025 - AUC:0.76479 - L.Loss: 0.38690 - 0h 0m 0s\n",
      "Fold 3 => F1-score: 0.70817 - F1-Train: 0.73175 - AUC:0.77984 - L.Loss: 0.37671 - 0h 0m 0s\n",
      "Fold 4 => F1-score: 0.72982 - F1-Train: 0.73575 - AUC:0.80041 - L.Loss: 0.39680 - 0h 0m 0s\n",
      "Fold 5 => F1-score: 0.71273 - F1-Train: 0.72682 - AUC:0.78540 - L.Loss: 0.38760 - 0h 0m 0s\n",
      "Fold 6 => F1-score: 0.71886 - F1-Train: 0.73606 - AUC:0.79102 - L.Loss: 0.37895 - 0h 0m 0s\n",
      "Fold 7 => F1-score: 0.72031 - F1-Train: 0.73632 - AUC:0.78923 - L.Loss: 0.36730 - 0h 0m 0s\n",
      "Fold 8 => F1-score: 0.67433 - F1-Train: 0.74050 - AUC:0.75536 - L.Loss: 0.48249 - 0h 0m 0s\n",
      "Fold 9 => F1-score: 0.65098 - F1-Train: 0.74269 - AUC:0.73845 - L.Loss: 0.42166 - 0h 0m 0s\n",
      "Fold 10 => F1-score: 0.64706 - F1-Train: 0.74836 - AUC:0.73522 - L.Loss: 0.44210 - 0h 0m 0s\n",
      "------------------------------------------------------------------------------------------\n",
      "\u001b[32m\u001b[1m[Mean] => F1-score: 0.69718 (+-0.02883) - F1-Train: 0.73809 - L.Loss: 0.40216 - 0h 0m 2s\u001b[0m\n",
      "==========================================================================================\n",
      "\n",
      "              precision    recall  f1-score   support\n",
      "\n",
      "           0       0.85      0.84      0.85      2650\n",
      "           1       0.69      0.70      0.70      1329\n",
      "\n",
      "    accuracy                           0.80      3979\n",
      "   macro avg       0.77      0.77      0.77      3979\n",
      "weighted avg       0.80      0.80      0.80      3979\n",
      "\n",
      "[[2234  416]\n",
      " [ 394  935]]\n",
      "\n"
     ]
    },
    {
     "data": {
      "text/html": [
       "<div>\n",
       "<style scoped>\n",
       "    .dataframe tbody tr th:only-of-type {\n",
       "        vertical-align: middle;\n",
       "    }\n",
       "\n",
       "    .dataframe tbody tr th {\n",
       "        vertical-align: top;\n",
       "    }\n",
       "\n",
       "    .dataframe thead th {\n",
       "        text-align: right;\n",
       "    }\n",
       "</style>\n",
       "<table border=\"1\" class=\"dataframe\">\n",
       "  <thead>\n",
       "    <tr style=\"text-align: right;\">\n",
       "      <th></th>\n",
       "      <th>score</th>\n",
       "    </tr>\n",
       "  </thead>\n",
       "  <tbody>\n",
       "    <tr>\n",
       "      <th>LBGM</th>\n",
       "      <td>0.69718</td>\n",
       "    </tr>\n",
       "  </tbody>\n",
       "</table>\n",
       "</div>"
      ],
      "text/plain": [
       "        score\n",
       "LBGM  0.69718"
      ]
     },
     "metadata": {},
     "output_type": "display_data"
    },
    {
     "name": "stdout",
     "output_type": "stream",
     "text": [
      "CPU times: total: 22.3 s\n",
      "Wall time: 2.98 s\n"
     ]
    }
   ],
   "source": [
    "%%time \n",
    "\n",
    "param_lgbm  = {\n",
    "    'objective'         : 'binary',\n",
    "    'metric'            : 'binary_logloss',\n",
    "    'colsample_bytree'  : 0.8,\n",
    "    'learning_rate'     : 0.1,\n",
    "    'max_depth'         : 6,\n",
    "    'min_child_samples' : 219,\n",
    "    'min_child_weight'  : 1e-05,\n",
    "    'n_estimators'      : 300,\n",
    "    'num_leaves'        : 128,\n",
    "    'reg_alpha'         : 1,\n",
    "    'reg_lambda'        : 0,\n",
    "    'subsample'         : 0.8116483602711031,         \n",
    "    #'device'            : 'gpu',    \n",
    "    'random_state'      : seed}\n",
    "\n",
    "model_lgbm   = lgb.LGBMClassifier(**param_lgbm)\n",
    "pipeline_lgbm = Pipeline(steps=[('processor', pipeline_processor), ('model', model_lgbm)])\n",
    "\n",
    "models = [('LBGM', pipeline_lgbm, 1, 'lgbm_tun_08_pp', pipeline_processor, 15) ]\n",
    "    \n",
    "mdl_list_fit, df_pred_tr, df_pred_ts, df_score_mdl, score = \\\n",
    "    model_cv_fit(models_       = models, \n",
    "                 X_            = X_train,\n",
    "                 y_            = y_train, \n",
    "                 X_test_       = X_test,                  \n",
    "                 path_         = path, \n",
    "                 seed_         = seed,\n",
    "                 target_       = target,\n",
    "                 create_sub_   = False, \n",
    "                 n_splits_     = 10,\n",
    "                 print_report_ = True)\n",
    "# F1-score: 0.69877 (+-0.02086) - F1-Train: 0.73286 - L.Loss: 0.40569 - 0h 0m 3s"
   ]
  },
  {
   "cell_type": "markdown",
   "id": "8747ebb0",
   "metadata": {
    "ExecuteTime": {
     "end_time": "2022-12-22T01:32:53.987191Z",
     "start_time": "2022-12-22T01:32:53.974203Z"
    }
   },
   "source": [
    "### 4.3.2. Turning"
   ]
  },
  {
   "cell_type": "code",
   "execution_count": 83,
   "id": "e5deb584",
   "metadata": {
    "ExecuteTime": {
     "end_time": "2022-12-27T02:30:43.378585Z",
     "start_time": "2022-12-27T02:18:31.691732Z"
    }
   },
   "outputs": [
    {
     "name": "stdout",
     "output_type": "stream",
     "text": [
      "\n",
      "--------------------------------------------------------------------------------------------------------------\n",
      "Best score: 0.73589\n",
      "Seed      : 12359\n",
      "Parameters:\n",
      "\n",
      "{'objective': 'binary', 'metric': 'binary_logloss', 'scale_pos_weight': 2.001583949313622, 'colsample_bytree': 0.6850608596183964, 'learning_rate': 0.05319157985374922, 'max_depth': 4, 'n_estimators': 1100, 'min_child_weight': 11, 'subsample': 0.95, 'reg_lambda': 61, 'n_jobs': -1, 'seed': 12359}\n",
      "\n",
      "CPU times: total: 1h 32min 18s\n",
      "Wall time: 12min 11s\n"
     ]
    }
   ],
   "source": [
    "%%time\n",
    "n_trials_  = 100\n",
    "name_clf   = 'lgbm'\n",
    "name_model = '{}_001_turning'.format(name_clf) \n",
    "\n",
    "TunningModels.delete_files(name_model)\n",
    "    \n",
    "modelOpt = TunningModels(name_model_              = name_model, \n",
    "                         X_trn_                   = X, \n",
    "                         y_trn_                   = y, \n",
    "                         X_ts_                    = X_test,   \n",
    "                         seed_                    = seed, \n",
    "                         target_                  = target, \n",
    "                         path_                    = path, \n",
    "                         n_splits_                = 10,\n",
    "                         level_                   = '1',\n",
    "                         train_with_created_folds_= True)\n",
    "\n",
    "study_lbgm  = optuna.create_study(direction  = 'maximize',\n",
    "                                  sampler    = optuna.samplers.TPESampler(multivariate=True, seed=seed),\n",
    "                                  pruner     = optuna.pruners.MedianPruner(n_warmup_steps=10),\n",
    "                                  study_name = 'lbgm_turning')\n",
    "\n",
    "study_lbgm.optimize(modelOpt.lgbm, n_trials=n_trials_)\n",
    "\n",
    "score_seed         = study_lbgm.best_value \n",
    "params_lgb_turning = study_lbgm.best_params \n",
    "path_name          = path + 'model/optuna/' + name_model + '_{:2.5f}.pkl.z'.format(score_seed)   \n",
    "scare_best         = score_seed \n",
    "\n",
    "jb.dump(study_lbgm, path_name)\n",
    "\n",
    "print()\n",
    "print('-'*110)\n",
    "print('Best score: {:2.5f}'.format(scare_best))\n",
    "print('Seed      : {}'.format(seed))\n",
    "print('Parameters:\\n\\n{}'.format(params_lgb_turning))\n",
    "print()"
   ]
  },
  {
   "cell_type": "markdown",
   "id": "33d668cd",
   "metadata": {},
   "source": [
    "### 4.3.2. Treinar o modelo com novos parametros "
   ]
  },
  {
   "cell_type": "code",
   "execution_count": 84,
   "id": "dd217f9f",
   "metadata": {
    "ExecuteTime": {
     "end_time": "2022-12-27T02:30:54.479111Z",
     "start_time": "2022-12-27T02:30:48.379323Z"
    }
   },
   "outputs": [
    {
     "name": "stdout",
     "output_type": "stream",
     "text": [
      "\n",
      "=> LGBM\n",
      "==========================================================================================\n",
      "Fold 1 => F1-score: 0.73418 - F1-Train: 0.77433 - AUC:0.80968 - L.Loss: 0.42423 - 0h 0m 0s\n",
      "Fold 2 => F1-score: 0.73038 - F1-Train: 0.77452 - AUC:0.80226 - L.Loss: 0.40282 - 0h 0m 0s\n",
      "Fold 3 => F1-score: 0.77288 - F1-Train: 0.77188 - AUC:0.83801 - L.Loss: 0.38414 - 0h 0m 0s\n",
      "Fold 4 => F1-score: 0.73750 - F1-Train: 0.77499 - AUC:0.81342 - L.Loss: 0.44186 - 0h 0m 0s\n",
      "Fold 5 => F1-score: 0.72903 - F1-Train: 0.77378 - AUC:0.80406 - L.Loss: 0.42375 - 0h 0m 0s\n",
      "Fold 6 => F1-score: 0.74434 - F1-Train: 0.77179 - AUC:0.81724 - L.Loss: 0.41136 - 0h 0m 0s\n",
      "Fold 7 => F1-score: 0.73579 - F1-Train: 0.77513 - AUC:0.80787 - L.Loss: 0.39732 - 0h 0m 0s\n",
      "Fold 8 => F1-score: 0.69307 - F1-Train: 0.78264 - AUC:0.77210 - L.Loss: 0.50724 - 0h 0m 0s\n",
      "Fold 9 => F1-score: 0.72903 - F1-Train: 0.77452 - AUC:0.80406 - L.Loss: 0.44086 - 0h 0m 0s\n",
      "Fold 10 => F1-score: 0.70064 - F1-Train: 0.77412 - AUC:0.78082 - L.Loss: 0.48339 - 0h 0m 0s\n",
      "------------------------------------------------------------------------------------------\n",
      "\u001b[32m\u001b[1m[Mean] => F1-score: 0.73068 (+-0.02092) - F1-Train: 0.77477 - L.Loss: 0.43170 - 0h 0m 5s\u001b[0m\n",
      "==========================================================================================\n",
      "\n",
      "              precision    recall  f1-score   support\n",
      "\n",
      "           0       0.91      0.77      0.83      2650\n",
      "           1       0.64      0.84      0.73      1329\n",
      "\n",
      "    accuracy                           0.79      3979\n",
      "   macro avg       0.78      0.80      0.78      3979\n",
      "weighted avg       0.82      0.79      0.80      3979\n",
      "\n",
      "[[2031  619]\n",
      " [ 208 1121]]\n",
      "\n"
     ]
    },
    {
     "data": {
      "text/html": [
       "<div>\n",
       "<style scoped>\n",
       "    .dataframe tbody tr th:only-of-type {\n",
       "        vertical-align: middle;\n",
       "    }\n",
       "\n",
       "    .dataframe tbody tr th {\n",
       "        vertical-align: top;\n",
       "    }\n",
       "\n",
       "    .dataframe thead th {\n",
       "        text-align: right;\n",
       "    }\n",
       "</style>\n",
       "<table border=\"1\" class=\"dataframe\">\n",
       "  <thead>\n",
       "    <tr style=\"text-align: right;\">\n",
       "      <th></th>\n",
       "      <th>score</th>\n",
       "    </tr>\n",
       "  </thead>\n",
       "  <tbody>\n",
       "    <tr>\n",
       "      <th>LGBM</th>\n",
       "      <td>0.73068</td>\n",
       "    </tr>\n",
       "  </tbody>\n",
       "</table>\n",
       "</div>"
      ],
      "text/plain": [
       "        score\n",
       "LGBM  0.73068"
      ]
     },
     "metadata": {},
     "output_type": "display_data"
    },
    {
     "data": {
      "text/html": [
       "<style>#sk-container-id-3 {color: black;background-color: white;}#sk-container-id-3 pre{padding: 0;}#sk-container-id-3 div.sk-toggleable {background-color: white;}#sk-container-id-3 label.sk-toggleable__label {cursor: pointer;display: block;width: 100%;margin-bottom: 0;padding: 0.3em;box-sizing: border-box;text-align: center;}#sk-container-id-3 label.sk-toggleable__label-arrow:before {content: \"▸\";float: left;margin-right: 0.25em;color: #696969;}#sk-container-id-3 label.sk-toggleable__label-arrow:hover:before {color: black;}#sk-container-id-3 div.sk-estimator:hover label.sk-toggleable__label-arrow:before {color: black;}#sk-container-id-3 div.sk-toggleable__content {max-height: 0;max-width: 0;overflow: hidden;text-align: left;background-color: #f0f8ff;}#sk-container-id-3 div.sk-toggleable__content pre {margin: 0.2em;color: black;border-radius: 0.25em;background-color: #f0f8ff;}#sk-container-id-3 input.sk-toggleable__control:checked~div.sk-toggleable__content {max-height: 200px;max-width: 100%;overflow: auto;}#sk-container-id-3 input.sk-toggleable__control:checked~label.sk-toggleable__label-arrow:before {content: \"▾\";}#sk-container-id-3 div.sk-estimator input.sk-toggleable__control:checked~label.sk-toggleable__label {background-color: #d4ebff;}#sk-container-id-3 div.sk-label input.sk-toggleable__control:checked~label.sk-toggleable__label {background-color: #d4ebff;}#sk-container-id-3 input.sk-hidden--visually {border: 0;clip: rect(1px 1px 1px 1px);clip: rect(1px, 1px, 1px, 1px);height: 1px;margin: -1px;overflow: hidden;padding: 0;position: absolute;width: 1px;}#sk-container-id-3 div.sk-estimator {font-family: monospace;background-color: #f0f8ff;border: 1px dotted black;border-radius: 0.25em;box-sizing: border-box;margin-bottom: 0.5em;}#sk-container-id-3 div.sk-estimator:hover {background-color: #d4ebff;}#sk-container-id-3 div.sk-parallel-item::after {content: \"\";width: 100%;border-bottom: 1px solid gray;flex-grow: 1;}#sk-container-id-3 div.sk-label:hover label.sk-toggleable__label {background-color: #d4ebff;}#sk-container-id-3 div.sk-serial::before {content: \"\";position: absolute;border-left: 1px solid gray;box-sizing: border-box;top: 0;bottom: 0;left: 50%;z-index: 0;}#sk-container-id-3 div.sk-serial {display: flex;flex-direction: column;align-items: center;background-color: white;padding-right: 0.2em;padding-left: 0.2em;position: relative;}#sk-container-id-3 div.sk-item {position: relative;z-index: 1;}#sk-container-id-3 div.sk-parallel {display: flex;align-items: stretch;justify-content: center;background-color: white;position: relative;}#sk-container-id-3 div.sk-item::before, #sk-container-id-3 div.sk-parallel-item::before {content: \"\";position: absolute;border-left: 1px solid gray;box-sizing: border-box;top: 0;bottom: 0;left: 50%;z-index: -1;}#sk-container-id-3 div.sk-parallel-item {display: flex;flex-direction: column;z-index: 1;position: relative;background-color: white;}#sk-container-id-3 div.sk-parallel-item:first-child::after {align-self: flex-end;width: 50%;}#sk-container-id-3 div.sk-parallel-item:last-child::after {align-self: flex-start;width: 50%;}#sk-container-id-3 div.sk-parallel-item:only-child::after {width: 0;}#sk-container-id-3 div.sk-dashed-wrapped {border: 1px dashed gray;margin: 0 0.4em 0.5em 0.4em;box-sizing: border-box;padding-bottom: 0.4em;background-color: white;}#sk-container-id-3 div.sk-label label {font-family: monospace;font-weight: bold;display: inline-block;line-height: 1.2em;}#sk-container-id-3 div.sk-label-container {text-align: center;}#sk-container-id-3 div.sk-container {/* jupyter's `normalize.less` sets `[hidden] { display: none; }` but bootstrap.min.css set `[hidden] { display: none !important; }` so we also need the `!important` here to be able to override the default hidden behavior on the sphinx rendered scikit-learn.org. See: https://github.com/scikit-learn/scikit-learn/issues/21755 */display: inline-block !important;position: relative;}#sk-container-id-3 div.sk-text-repr-fallback {display: none;}</style><div id=\"sk-container-id-3\" class=\"sk-top-container\"><div class=\"sk-text-repr-fallback\"><pre>Pipeline(steps=[(&#x27;processor&#x27;,\n",
       "                 Pipeline(steps=[(&#x27;transform&#x27;,\n",
       "                                  ColumnTransformer(transformers=[(&#x27;ord&#x27;,\n",
       "                                                                   Pipeline(steps=[(&#x27;imp&#x27;,\n",
       "                                                                                    SimpleImputer(fill_value=&#x27;No &#x27;\n",
       "                                                                                                             &#x27;Data&#x27;,\n",
       "                                                                                                  strategy=&#x27;constant&#x27;)),\n",
       "                                                                                   (&#x27;Ord&#x27;,\n",
       "                                                                                    OrdinalEncoder())]),\n",
       "                                                                   [&#x27;educação&#x27;,\n",
       "                                                                    &#x27;mês&#x27;,\n",
       "                                                                    &#x27;dia&#x27;,\n",
       "                                                                    &#x27;duração&#x27;,\n",
       "                                                                    &#x27;fe_cluster&#x27;,\n",
       "                                                                    &#x27;idade_group&#x27;]),\n",
       "                                                                  (&#x27;oho&#x27;,\n",
       "                                                                   Pipeline(steps=[(&#x27;imp&#x27;,\n",
       "                                                                                    SimpleImputer(fill_value=&#x27;No &#x27;\n",
       "                                                                                                             &#x27;Data&#x27;,\n",
       "                                                                                                  strategy=&#x27;consta...\n",
       "                                 (&#x27;dropfeaturecorr&#x27;,\n",
       "                                  DropConstantFeatures(tol=0.85)),\n",
       "                                 (&#x27;preprocessor&#x27;, StandardScaler())])),\n",
       "                (&#x27;model&#x27;,\n",
       "                 LGBMClassifier(colsample_bytree=0.6850608596183964,\n",
       "                                learning_rate=0.05319157985374922, max_depth=4,\n",
       "                                metric=&#x27;binary_logloss&#x27;, min_child_weight=11,\n",
       "                                n_estimators=1100, objective=&#x27;binary&#x27;,\n",
       "                                reg_lambda=61,\n",
       "                                scale_pos_weight=2.001583949313622, seed=12359,\n",
       "                                subsample=0.95))])</pre><b>In a Jupyter environment, please rerun this cell to show the HTML representation or trust the notebook. <br />On GitHub, the HTML representation is unable to render, please try loading this page with nbviewer.org.</b></div><div class=\"sk-container\" hidden><div class=\"sk-item sk-dashed-wrapped\"><div class=\"sk-label-container\"><div class=\"sk-label sk-toggleable\"><input class=\"sk-toggleable__control sk-hidden--visually\" id=\"sk-estimator-id-41\" type=\"checkbox\" ><label for=\"sk-estimator-id-41\" class=\"sk-toggleable__label sk-toggleable__label-arrow\">Pipeline</label><div class=\"sk-toggleable__content\"><pre>Pipeline(steps=[(&#x27;processor&#x27;,\n",
       "                 Pipeline(steps=[(&#x27;transform&#x27;,\n",
       "                                  ColumnTransformer(transformers=[(&#x27;ord&#x27;,\n",
       "                                                                   Pipeline(steps=[(&#x27;imp&#x27;,\n",
       "                                                                                    SimpleImputer(fill_value=&#x27;No &#x27;\n",
       "                                                                                                             &#x27;Data&#x27;,\n",
       "                                                                                                  strategy=&#x27;constant&#x27;)),\n",
       "                                                                                   (&#x27;Ord&#x27;,\n",
       "                                                                                    OrdinalEncoder())]),\n",
       "                                                                   [&#x27;educação&#x27;,\n",
       "                                                                    &#x27;mês&#x27;,\n",
       "                                                                    &#x27;dia&#x27;,\n",
       "                                                                    &#x27;duração&#x27;,\n",
       "                                                                    &#x27;fe_cluster&#x27;,\n",
       "                                                                    &#x27;idade_group&#x27;]),\n",
       "                                                                  (&#x27;oho&#x27;,\n",
       "                                                                   Pipeline(steps=[(&#x27;imp&#x27;,\n",
       "                                                                                    SimpleImputer(fill_value=&#x27;No &#x27;\n",
       "                                                                                                             &#x27;Data&#x27;,\n",
       "                                                                                                  strategy=&#x27;consta...\n",
       "                                 (&#x27;dropfeaturecorr&#x27;,\n",
       "                                  DropConstantFeatures(tol=0.85)),\n",
       "                                 (&#x27;preprocessor&#x27;, StandardScaler())])),\n",
       "                (&#x27;model&#x27;,\n",
       "                 LGBMClassifier(colsample_bytree=0.6850608596183964,\n",
       "                                learning_rate=0.05319157985374922, max_depth=4,\n",
       "                                metric=&#x27;binary_logloss&#x27;, min_child_weight=11,\n",
       "                                n_estimators=1100, objective=&#x27;binary&#x27;,\n",
       "                                reg_lambda=61,\n",
       "                                scale_pos_weight=2.001583949313622, seed=12359,\n",
       "                                subsample=0.95))])</pre></div></div></div><div class=\"sk-serial\"><div class=\"sk-item\"><div class=\"sk-label-container\"><div class=\"sk-label sk-toggleable\"><input class=\"sk-toggleable__control sk-hidden--visually\" id=\"sk-estimator-id-42\" type=\"checkbox\" ><label for=\"sk-estimator-id-42\" class=\"sk-toggleable__label sk-toggleable__label-arrow\">processor: Pipeline</label><div class=\"sk-toggleable__content\"><pre>Pipeline(steps=[(&#x27;transform&#x27;,\n",
       "                 ColumnTransformer(transformers=[(&#x27;ord&#x27;,\n",
       "                                                  Pipeline(steps=[(&#x27;imp&#x27;,\n",
       "                                                                   SimpleImputer(fill_value=&#x27;No &#x27;\n",
       "                                                                                            &#x27;Data&#x27;,\n",
       "                                                                                 strategy=&#x27;constant&#x27;)),\n",
       "                                                                  (&#x27;Ord&#x27;,\n",
       "                                                                   OrdinalEncoder())]),\n",
       "                                                  [&#x27;educação&#x27;, &#x27;mês&#x27;, &#x27;dia&#x27;,\n",
       "                                                   &#x27;duração&#x27;, &#x27;fe_cluster&#x27;,\n",
       "                                                   &#x27;idade_group&#x27;]),\n",
       "                                                 (&#x27;oho&#x27;,\n",
       "                                                  Pipeline(steps=[(&#x27;imp&#x27;,\n",
       "                                                                   SimpleImputer(fill_value=&#x27;No &#x27;\n",
       "                                                                                            &#x27;Data&#x27;,\n",
       "                                                                                 strategy=&#x27;constant&#x27;)),\n",
       "                                                                  (&#x27;OHen&#x27;,\n",
       "                                                                   OneHotEncoder(h...\n",
       "                                                                   WOEEncoder(regularization=0))]),\n",
       "                                                  [&#x27;fe_pca_0_group&#x27;]),\n",
       "                                                 (&#x27;num&#x27;,\n",
       "                                                  Pipeline(steps=[(&#x27;imp&#x27;,\n",
       "                                                                   SimpleImputer(missing_values=0)),\n",
       "                                                                  (&#x27;min&#x27;,\n",
       "                                                                   MaxAbsScaler())]),\n",
       "                                                  [&#x27;ncontatos&#x27;])])),\n",
       "                (&#x27;variancethreshold&#x27;, VarianceThreshold(threshold=0.04)),\n",
       "                (&#x27;selectpercentile&#x27;, SelectPercentile(percentile=85)),\n",
       "                (&#x27;dropfeaturecorr&#x27;, DropConstantFeatures(tol=0.85)),\n",
       "                (&#x27;preprocessor&#x27;, StandardScaler())])</pre></div></div></div><div class=\"sk-serial\"><div class=\"sk-item sk-dashed-wrapped\"><div class=\"sk-label-container\"><div class=\"sk-label sk-toggleable\"><input class=\"sk-toggleable__control sk-hidden--visually\" id=\"sk-estimator-id-43\" type=\"checkbox\" ><label for=\"sk-estimator-id-43\" class=\"sk-toggleable__label sk-toggleable__label-arrow\">transform: ColumnTransformer</label><div class=\"sk-toggleable__content\"><pre>ColumnTransformer(transformers=[(&#x27;ord&#x27;,\n",
       "                                 Pipeline(steps=[(&#x27;imp&#x27;,\n",
       "                                                  SimpleImputer(fill_value=&#x27;No &#x27;\n",
       "                                                                           &#x27;Data&#x27;,\n",
       "                                                                strategy=&#x27;constant&#x27;)),\n",
       "                                                 (&#x27;Ord&#x27;, OrdinalEncoder())]),\n",
       "                                 [&#x27;educação&#x27;, &#x27;mês&#x27;, &#x27;dia&#x27;, &#x27;duração&#x27;,\n",
       "                                  &#x27;fe_cluster&#x27;, &#x27;idade_group&#x27;]),\n",
       "                                (&#x27;oho&#x27;,\n",
       "                                 Pipeline(steps=[(&#x27;imp&#x27;,\n",
       "                                                  SimpleImputer(fill_value=&#x27;No &#x27;\n",
       "                                                                           &#x27;Data&#x27;,\n",
       "                                                                strategy=&#x27;constant&#x27;)),\n",
       "                                                 (&#x27;OHen&#x27;,\n",
       "                                                  OneHotEncoder(handle_unknown=&#x27;ignore&#x27;,\n",
       "                                                                sparse=False))]),\n",
       "                                 [&#x27;trabalho&#x27;, &#x27;estado civil&#x27;, &#x27;atraso&#x27;, &#x27;casa&#x27;,\n",
       "                                  &#x27;empréstimo&#x27;, &#x27;anterior&#x27;, &#x27;contato&#x27;]),\n",
       "                                (&#x27;woe&#x27;,\n",
       "                                 Pipeline(steps=[(&#x27;imp&#x27;,\n",
       "                                                  SimpleImputer(fill_value=&#x27;No &#x27;\n",
       "                                                                           &#x27;Data&#x27;,\n",
       "                                                                strategy=&#x27;constant&#x27;)),\n",
       "                                                 (&#x27;woe&#x27;,\n",
       "                                                  WOEEncoder(regularization=0))]),\n",
       "                                 [&#x27;fe_pca_0_group&#x27;]),\n",
       "                                (&#x27;num&#x27;,\n",
       "                                 Pipeline(steps=[(&#x27;imp&#x27;,\n",
       "                                                  SimpleImputer(missing_values=0)),\n",
       "                                                 (&#x27;min&#x27;, MaxAbsScaler())]),\n",
       "                                 [&#x27;ncontatos&#x27;])])</pre></div></div></div><div class=\"sk-parallel\"><div class=\"sk-parallel-item\"><div class=\"sk-item\"><div class=\"sk-label-container\"><div class=\"sk-label sk-toggleable\"><input class=\"sk-toggleable__control sk-hidden--visually\" id=\"sk-estimator-id-44\" type=\"checkbox\" ><label for=\"sk-estimator-id-44\" class=\"sk-toggleable__label sk-toggleable__label-arrow\">ord</label><div class=\"sk-toggleable__content\"><pre>[&#x27;educação&#x27;, &#x27;mês&#x27;, &#x27;dia&#x27;, &#x27;duração&#x27;, &#x27;fe_cluster&#x27;, &#x27;idade_group&#x27;]</pre></div></div></div><div class=\"sk-serial\"><div class=\"sk-item\"><div class=\"sk-serial\"><div class=\"sk-item\"><div class=\"sk-estimator sk-toggleable\"><input class=\"sk-toggleable__control sk-hidden--visually\" id=\"sk-estimator-id-45\" type=\"checkbox\" ><label for=\"sk-estimator-id-45\" class=\"sk-toggleable__label sk-toggleable__label-arrow\">SimpleImputer</label><div class=\"sk-toggleable__content\"><pre>SimpleImputer(fill_value=&#x27;No Data&#x27;, strategy=&#x27;constant&#x27;)</pre></div></div></div><div class=\"sk-item\"><div class=\"sk-estimator sk-toggleable\"><input class=\"sk-toggleable__control sk-hidden--visually\" id=\"sk-estimator-id-46\" type=\"checkbox\" ><label for=\"sk-estimator-id-46\" class=\"sk-toggleable__label sk-toggleable__label-arrow\">OrdinalEncoder</label><div class=\"sk-toggleable__content\"><pre>OrdinalEncoder()</pre></div></div></div></div></div></div></div></div><div class=\"sk-parallel-item\"><div class=\"sk-item\"><div class=\"sk-label-container\"><div class=\"sk-label sk-toggleable\"><input class=\"sk-toggleable__control sk-hidden--visually\" id=\"sk-estimator-id-47\" type=\"checkbox\" ><label for=\"sk-estimator-id-47\" class=\"sk-toggleable__label sk-toggleable__label-arrow\">oho</label><div class=\"sk-toggleable__content\"><pre>[&#x27;trabalho&#x27;, &#x27;estado civil&#x27;, &#x27;atraso&#x27;, &#x27;casa&#x27;, &#x27;empréstimo&#x27;, &#x27;anterior&#x27;, &#x27;contato&#x27;]</pre></div></div></div><div class=\"sk-serial\"><div class=\"sk-item\"><div class=\"sk-serial\"><div class=\"sk-item\"><div class=\"sk-estimator sk-toggleable\"><input class=\"sk-toggleable__control sk-hidden--visually\" id=\"sk-estimator-id-48\" type=\"checkbox\" ><label for=\"sk-estimator-id-48\" class=\"sk-toggleable__label sk-toggleable__label-arrow\">SimpleImputer</label><div class=\"sk-toggleable__content\"><pre>SimpleImputer(fill_value=&#x27;No Data&#x27;, strategy=&#x27;constant&#x27;)</pre></div></div></div><div class=\"sk-item\"><div class=\"sk-estimator sk-toggleable\"><input class=\"sk-toggleable__control sk-hidden--visually\" id=\"sk-estimator-id-49\" type=\"checkbox\" ><label for=\"sk-estimator-id-49\" class=\"sk-toggleable__label sk-toggleable__label-arrow\">OneHotEncoder</label><div class=\"sk-toggleable__content\"><pre>OneHotEncoder(handle_unknown=&#x27;ignore&#x27;, sparse=False)</pre></div></div></div></div></div></div></div></div><div class=\"sk-parallel-item\"><div class=\"sk-item\"><div class=\"sk-label-container\"><div class=\"sk-label sk-toggleable\"><input class=\"sk-toggleable__control sk-hidden--visually\" id=\"sk-estimator-id-50\" type=\"checkbox\" ><label for=\"sk-estimator-id-50\" class=\"sk-toggleable__label sk-toggleable__label-arrow\">woe</label><div class=\"sk-toggleable__content\"><pre>[&#x27;fe_pca_0_group&#x27;]</pre></div></div></div><div class=\"sk-serial\"><div class=\"sk-item\"><div class=\"sk-serial\"><div class=\"sk-item\"><div class=\"sk-estimator sk-toggleable\"><input class=\"sk-toggleable__control sk-hidden--visually\" id=\"sk-estimator-id-51\" type=\"checkbox\" ><label for=\"sk-estimator-id-51\" class=\"sk-toggleable__label sk-toggleable__label-arrow\">SimpleImputer</label><div class=\"sk-toggleable__content\"><pre>SimpleImputer(fill_value=&#x27;No Data&#x27;, strategy=&#x27;constant&#x27;)</pre></div></div></div><div class=\"sk-item\"><div class=\"sk-estimator sk-toggleable\"><input class=\"sk-toggleable__control sk-hidden--visually\" id=\"sk-estimator-id-52\" type=\"checkbox\" ><label for=\"sk-estimator-id-52\" class=\"sk-toggleable__label sk-toggleable__label-arrow\">WOEEncoder</label><div class=\"sk-toggleable__content\"><pre>WOEEncoder(regularization=0)</pre></div></div></div></div></div></div></div></div><div class=\"sk-parallel-item\"><div class=\"sk-item\"><div class=\"sk-label-container\"><div class=\"sk-label sk-toggleable\"><input class=\"sk-toggleable__control sk-hidden--visually\" id=\"sk-estimator-id-53\" type=\"checkbox\" ><label for=\"sk-estimator-id-53\" class=\"sk-toggleable__label sk-toggleable__label-arrow\">num</label><div class=\"sk-toggleable__content\"><pre>[&#x27;ncontatos&#x27;]</pre></div></div></div><div class=\"sk-serial\"><div class=\"sk-item\"><div class=\"sk-serial\"><div class=\"sk-item\"><div class=\"sk-estimator sk-toggleable\"><input class=\"sk-toggleable__control sk-hidden--visually\" id=\"sk-estimator-id-54\" type=\"checkbox\" ><label for=\"sk-estimator-id-54\" class=\"sk-toggleable__label sk-toggleable__label-arrow\">SimpleImputer</label><div class=\"sk-toggleable__content\"><pre>SimpleImputer(missing_values=0)</pre></div></div></div><div class=\"sk-item\"><div class=\"sk-estimator sk-toggleable\"><input class=\"sk-toggleable__control sk-hidden--visually\" id=\"sk-estimator-id-55\" type=\"checkbox\" ><label for=\"sk-estimator-id-55\" class=\"sk-toggleable__label sk-toggleable__label-arrow\">MaxAbsScaler</label><div class=\"sk-toggleable__content\"><pre>MaxAbsScaler()</pre></div></div></div></div></div></div></div></div></div></div><div class=\"sk-item\"><div class=\"sk-estimator sk-toggleable\"><input class=\"sk-toggleable__control sk-hidden--visually\" id=\"sk-estimator-id-56\" type=\"checkbox\" ><label for=\"sk-estimator-id-56\" class=\"sk-toggleable__label sk-toggleable__label-arrow\">VarianceThreshold</label><div class=\"sk-toggleable__content\"><pre>VarianceThreshold(threshold=0.04)</pre></div></div></div><div class=\"sk-item\"><div class=\"sk-estimator sk-toggleable\"><input class=\"sk-toggleable__control sk-hidden--visually\" id=\"sk-estimator-id-57\" type=\"checkbox\" ><label for=\"sk-estimator-id-57\" class=\"sk-toggleable__label sk-toggleable__label-arrow\">SelectPercentile</label><div class=\"sk-toggleable__content\"><pre>SelectPercentile(percentile=85)</pre></div></div></div><div class=\"sk-item\"><div class=\"sk-estimator sk-toggleable\"><input class=\"sk-toggleable__control sk-hidden--visually\" id=\"sk-estimator-id-58\" type=\"checkbox\" ><label for=\"sk-estimator-id-58\" class=\"sk-toggleable__label sk-toggleable__label-arrow\">DropConstantFeatures</label><div class=\"sk-toggleable__content\"><pre>DropConstantFeatures(tol=0.85)</pre></div></div></div><div class=\"sk-item\"><div class=\"sk-estimator sk-toggleable\"><input class=\"sk-toggleable__control sk-hidden--visually\" id=\"sk-estimator-id-59\" type=\"checkbox\" ><label for=\"sk-estimator-id-59\" class=\"sk-toggleable__label sk-toggleable__label-arrow\">StandardScaler</label><div class=\"sk-toggleable__content\"><pre>StandardScaler()</pre></div></div></div></div></div><div class=\"sk-item\"><div class=\"sk-estimator sk-toggleable\"><input class=\"sk-toggleable__control sk-hidden--visually\" id=\"sk-estimator-id-60\" type=\"checkbox\" ><label for=\"sk-estimator-id-60\" class=\"sk-toggleable__label sk-toggleable__label-arrow\">LGBMClassifier</label><div class=\"sk-toggleable__content\"><pre>LGBMClassifier(colsample_bytree=0.6850608596183964,\n",
       "               learning_rate=0.05319157985374922, max_depth=4,\n",
       "               metric=&#x27;binary_logloss&#x27;, min_child_weight=11, n_estimators=1100,\n",
       "               objective=&#x27;binary&#x27;, reg_lambda=61,\n",
       "               scale_pos_weight=2.001583949313622, seed=12359, subsample=0.95)</pre></div></div></div></div></div></div></div>"
      ],
      "text/plain": [
       "Pipeline(steps=[('processor',\n",
       "                 Pipeline(steps=[('transform',\n",
       "                                  ColumnTransformer(transformers=[('ord',\n",
       "                                                                   Pipeline(steps=[('imp',\n",
       "                                                                                    SimpleImputer(fill_value='No '\n",
       "                                                                                                             'Data',\n",
       "                                                                                                  strategy='constant')),\n",
       "                                                                                   ('Ord',\n",
       "                                                                                    OrdinalEncoder())]),\n",
       "                                                                   ['educação',\n",
       "                                                                    'mês',\n",
       "                                                                    'dia',\n",
       "                                                                    'duração',\n",
       "                                                                    'fe_cluster',\n",
       "                                                                    'idade_group']),\n",
       "                                                                  ('oho',\n",
       "                                                                   Pipeline(steps=[('imp',\n",
       "                                                                                    SimpleImputer(fill_value='No '\n",
       "                                                                                                             'Data',\n",
       "                                                                                                  strategy='consta...\n",
       "                                 ('dropfeaturecorr',\n",
       "                                  DropConstantFeatures(tol=0.85)),\n",
       "                                 ('preprocessor', StandardScaler())])),\n",
       "                ('model',\n",
       "                 LGBMClassifier(colsample_bytree=0.6850608596183964,\n",
       "                                learning_rate=0.05319157985374922, max_depth=4,\n",
       "                                metric='binary_logloss', min_child_weight=11,\n",
       "                                n_estimators=1100, objective='binary',\n",
       "                                reg_lambda=61,\n",
       "                                scale_pos_weight=2.001583949313622, seed=12359,\n",
       "                                subsample=0.95))])"
      ]
     },
     "metadata": {},
     "output_type": "display_data"
    },
    {
     "name": "stdout",
     "output_type": "stream",
     "text": [
      "F1-score valid: 0.717039\n"
     ]
    }
   ],
   "source": [
    "# Classificadores\n",
    "model_lgb_turning  = lgb.LGBMClassifier(**params_lgb_turning)\n",
    "\n",
    "pipeline_lgb_turning = Pipeline(steps=[('processor', pipeline_processor_turning), ('model', model_lgb_turning)])\n",
    "\n",
    "models = [('LGBM', pipeline_lgb_turning, 1, 'lgbm_tun', pipeline_processor_turning, 15)]\n",
    "    \n",
    "mdl_list_fit, df_pred_tr, df_pred_ts, df_score_mdl, score = \\\n",
    "    model_cv_fit(models_       = models, \n",
    "                 X_            = X_train,\n",
    "                 y_            = y_train, \n",
    "                 X_test_       = X_test,                  \n",
    "                 path_         = path, \n",
    "                 seed_         = seed,\n",
    "                 target_       = target,\n",
    "                 create_sub_   = False, \n",
    "                 n_splits_     = 10,\n",
    "                 print_report_ = True)\n",
    "\n",
    "_ = mdl_list_fit[0][2]\n",
    "display(_)\n",
    "\n",
    "print('F1-score valid: {:5f}'.format(f1_score(y_valid, _.predict(X_valid))))\n",
    "\n",
    "# F1-score: 0.72952 (+-0.02214) - F1-Train: 0.75473 - L.Loss: 0.43057 - 0h 0m 6s"
   ]
  },
  {
   "cell_type": "markdown",
   "id": "8cb26ac2",
   "metadata": {},
   "source": [
    "## 4.5. Modelo HistGradientBoosting"
   ]
  },
  {
   "cell_type": "code",
   "execution_count": 85,
   "id": "47eabe5d",
   "metadata": {
    "ExecuteTime": {
     "end_time": "2022-12-27T02:31:03.901239Z",
     "start_time": "2022-12-27T02:30:59.682774Z"
    }
   },
   "outputs": [
    {
     "name": "stdout",
     "output_type": "stream",
     "text": [
      "\n",
      "=> HGB\n",
      "==========================================================================================\n",
      "Fold 1 => F1-score: 0.71223 - F1-Train: 0.74710 - AUC:0.78539 - L.Loss: 0.42021 - 0h 0m 0s\n",
      "Fold 2 => F1-score: 0.68462 - F1-Train: 0.72562 - AUC:0.76289 - L.Loss: 0.39881 - 0h 0m 0s\n",
      "Fold 3 => F1-score: 0.72031 - F1-Train: 0.72720 - AUC:0.78923 - L.Loss: 0.39486 - 0h 0m 0s\n",
      "Fold 4 => F1-score: 0.71918 - F1-Train: 0.73786 - AUC:0.79285 - L.Loss: 0.39423 - 0h 0m 0s\n",
      "Fold 5 => F1-score: 0.66914 - F1-Train: 0.73499 - AUC:0.75155 - L.Loss: 0.40053 - 0h 0m 0s\n",
      "Fold 6 => F1-score: 0.71642 - F1-Train: 0.71931 - AUC:0.78732 - L.Loss: 0.38031 - 0h 0m 0s\n",
      "Fold 7 => F1-score: 0.71815 - F1-Train: 0.74394 - AUC:0.78736 - L.Loss: 0.37296 - 0h 0m 0s\n",
      "Fold 8 => F1-score: 0.67159 - F1-Train: 0.75153 - AUC:0.75343 - L.Loss: 0.50702 - 0h 0m 0s\n",
      "Fold 9 => F1-score: 0.68382 - F1-Train: 0.73360 - AUC:0.76283 - L.Loss: 0.43664 - 0h 0m 0s\n",
      "Fold 10 => F1-score: 0.66667 - F1-Train: 0.73650 - AUC:0.75037 - L.Loss: 0.45500 - 0h 0m 0s\n",
      "------------------------------------------------------------------------------------------\n",
      "\u001b[32m\u001b[1m[Mean] => F1-score: 0.69621 (+-0.0218) - F1-Train: 0.73577 - L.Loss: 0.41606 - 0h 0m 4s\u001b[0m\n",
      "==========================================================================================\n",
      "\n",
      "              precision    recall  f1-score   support\n",
      "\n",
      "           0       0.85      0.84      0.84      2650\n",
      "           1       0.68      0.71      0.70      1329\n",
      "\n",
      "    accuracy                           0.79      3979\n",
      "   macro avg       0.77      0.77      0.77      3979\n",
      "weighted avg       0.80      0.79      0.79      3979\n",
      "\n",
      "[[2215  435]\n",
      " [ 387  942]]\n",
      "\n"
     ]
    },
    {
     "data": {
      "text/html": [
       "<div>\n",
       "<style scoped>\n",
       "    .dataframe tbody tr th:only-of-type {\n",
       "        vertical-align: middle;\n",
       "    }\n",
       "\n",
       "    .dataframe tbody tr th {\n",
       "        vertical-align: top;\n",
       "    }\n",
       "\n",
       "    .dataframe thead th {\n",
       "        text-align: right;\n",
       "    }\n",
       "</style>\n",
       "<table border=\"1\" class=\"dataframe\">\n",
       "  <thead>\n",
       "    <tr style=\"text-align: right;\">\n",
       "      <th></th>\n",
       "      <th>score</th>\n",
       "    </tr>\n",
       "  </thead>\n",
       "  <tbody>\n",
       "    <tr>\n",
       "      <th>HGB</th>\n",
       "      <td>0.69621</td>\n",
       "    </tr>\n",
       "  </tbody>\n",
       "</table>\n",
       "</div>"
      ],
      "text/plain": [
       "       score\n",
       "HGB  0.69621"
      ]
     },
     "metadata": {},
     "output_type": "display_data"
    },
    {
     "name": "stdout",
     "output_type": "stream",
     "text": [
      "CPU times: total: 30.4 s\n",
      "Wall time: 4.21 s\n"
     ]
    }
   ],
   "source": [
    "%%time \n",
    "\n",
    "param_hbc   = {\n",
    "    'scoring'             : 'loss',\n",
    "    'max_depth'           : 5, \n",
    "    'max_iter'            : 500,\n",
    "    'learning_rate'       : .1,    \n",
    "    'validation_fraction' : .5,\n",
    "    'l2_regularization'   : .10,\n",
    "    'early_stopping'      : 30,\n",
    "    #'warm_start'          : True,\n",
    "    'random_state'        : seed}\n",
    "\n",
    "model_hbc    = HistGradientBoostingClassifier(**param_hbc)\n",
    "pipeline_hbc = Pipeline(steps=[('processor', pipeline_processor), ('model', model_hbc)])\n",
    "\n",
    "models = [('HGB', pipeline_hbc, 1, 'hbc_tun_09_pp', pipeline_processor, 15) ]\n",
    "    \n",
    "mdl_list_fit, df_pred_tr, df_pred_ts, df_score_mdl, score = \\\n",
    "    model_cv_fit(models_       = models, \n",
    "                 X_            = X_train,\n",
    "                 y_            = y_train, \n",
    "                 X_test_       = X_test,                  \n",
    "                 path_         = path, \n",
    "                 seed_         = seed,\n",
    "                 target_       = target,\n",
    "                 create_sub_   = False, \n",
    "                 n_splits_     = 10,\n",
    "                 print_report_ = True)\n",
    "\n",
    "# F1-score: 0.68764 (+-0.0268) - F1-Train: 0.72712 - L.Loss: 0.42191 - 0h 0m 4s"
   ]
  },
  {
   "cell_type": "markdown",
   "id": "c7a21efd",
   "metadata": {},
   "source": [
    "### 4.4.2. Turning "
   ]
  },
  {
   "cell_type": "code",
   "execution_count": 86,
   "id": "d8d9a881",
   "metadata": {
    "ExecuteTime": {
     "end_time": "2022-12-27T02:35:32.072578Z",
     "start_time": "2022-12-27T02:31:09.460010Z"
    },
    "scrolled": false
   },
   "outputs": [
    {
     "name": "stdout",
     "output_type": "stream",
     "text": [
      "\n",
      "--------------------------------------------------------------------------------------------------------------\n",
      "Best score: 0.70148\n",
      "Seed      : 12359\n",
      "Parameters:\n",
      "\n",
      "{'scoring': 'loss', 'max_depth': 3, 'max_iter': 1000, 'learning_rate': 0.05760297831068223, 'early_stopping': 30, 'validation_fraction': 0.5, 'l2_regularization': 0.24102948813920363, 'random_state': 12359}\n",
      "\n",
      "CPU times: total: 31min 21s\n",
      "Wall time: 4min 22s\n"
     ]
    }
   ],
   "source": [
    "%%time\n",
    "n_trials_  = 50\n",
    "name_clf   = 'hgb'\n",
    "name_model = '{}_001_turning'.format(name_clf) \n",
    "\n",
    "TunningModels.delete_files(name_model)\n",
    "    \n",
    "modelOpt = TunningModels(name_model_              = name_model, \n",
    "                         X_trn_                   = X, \n",
    "                         y_trn_                   = y, \n",
    "                         X_ts_                    = X_test,   \n",
    "                         seed_                    = seed, \n",
    "                         target_                  = target, \n",
    "                         path_                    = path, \n",
    "                         n_splits_                = 10,\n",
    "                         level_                   = '1',\n",
    "                         train_with_created_folds_= True)\n",
    "\n",
    "study_hgb = optuna.create_study(direction  = 'maximize',\n",
    "                                sampler    = optuna.samplers.TPESampler(multivariate=True, seed=seed),\n",
    "                                pruner     = optuna.pruners.MedianPruner(n_warmup_steps=10),\n",
    "                                study_name = 'ext_turning')\n",
    "\n",
    "study_hgb.optimize(modelOpt.hgb, n_trials=n_trials_)\n",
    "\n",
    "score_seed          = study_hgb.best_value \n",
    "params_hgb_turning  = study_hgb.best_params \n",
    "path_name           = path + 'model/optuna/' + name_model + '_{:2.5f}.pkl.z'.format(score_seed)   \n",
    "scare_best          = score_seed \n",
    "\n",
    "jb.dump(study_hgb, path_name)\n",
    "\n",
    "print()\n",
    "print('-'*110)\n",
    "print('Best score: {:2.5f}'.format(scare_best))\n",
    "print('Seed      : {}'.format(seed))\n",
    "print('Parameters:\\n\\n{}'.format(params_hgb_turning))\n",
    "print()"
   ]
  },
  {
   "cell_type": "markdown",
   "id": "cd44b5c4",
   "metadata": {},
   "source": [
    "### 4.2.1. Treinar o modelo com os parametros "
   ]
  },
  {
   "cell_type": "code",
   "execution_count": 87,
   "id": "9ab8f2eb",
   "metadata": {
    "ExecuteTime": {
     "end_time": "2022-12-27T02:35:42.657840Z",
     "start_time": "2022-12-27T02:35:37.527959Z"
    }
   },
   "outputs": [
    {
     "name": "stdout",
     "output_type": "stream",
     "text": [
      "\n",
      "=> HGB\n",
      "==========================================================================================\n",
      "Fold 1 => F1-score: 0.71480 - F1-Train: 0.72870 - AUC:0.78727 - L.Loss: 0.40001 - 0h 0m 0s\n",
      "Fold 2 => F1-score: 0.69231 - F1-Train: 0.70451 - AUC:0.76853 - L.Loss: 0.39290 - 0h 0m 0s\n",
      "Fold 3 => F1-score: 0.73004 - F1-Train: 0.71712 - AUC:0.79675 - L.Loss: 0.39029 - 0h 0m 0s\n",
      "Fold 4 => F1-score: 0.71329 - F1-Train: 0.72772 - AUC:0.78723 - L.Loss: 0.40238 - 0h 0m 0s\n",
      "Fold 5 => F1-score: 0.72000 - F1-Train: 0.72167 - AUC:0.79105 - L.Loss: 0.39457 - 0h 0m 0s\n",
      "Fold 6 => F1-score: 0.70588 - F1-Train: 0.71186 - AUC:0.77977 - L.Loss: 0.38750 - 0h 0m 0s\n",
      "Fold 7 => F1-score: 0.71875 - F1-Train: 0.72425 - AUC:0.78737 - L.Loss: 0.37781 - 0h 0m 0s\n",
      "Fold 8 => F1-score: 0.65704 - F1-Train: 0.73769 - AUC:0.74211 - L.Loss: 0.48262 - 0h 0m 0s\n",
      "Fold 9 => F1-score: 0.71062 - F1-Train: 0.72993 - AUC:0.78353 - L.Loss: 0.43240 - 0h 0m 0s\n",
      "Fold 10 => F1-score: 0.69258 - F1-Train: 0.73731 - AUC:0.77121 - L.Loss: 0.44766 - 0h 0m 0s\n",
      "------------------------------------------------------------------------------------------\n",
      "\u001b[32m\u001b[1m[Mean] => F1-score: 0.70553 (+-0.01962) - F1-Train: 0.72408 - L.Loss: 0.41081 - 0h 0m 4s\u001b[0m\n",
      "==========================================================================================\n",
      "\n",
      "              precision    recall  f1-score   support\n",
      "\n",
      "           0       0.86      0.84      0.85      2650\n",
      "           1       0.69      0.72      0.71      1329\n",
      "\n",
      "    accuracy                           0.80      3979\n",
      "   macro avg       0.77      0.78      0.78      3979\n",
      "weighted avg       0.80      0.80      0.80      3979\n",
      "\n",
      "[[2217  433]\n",
      " [ 369  960]]\n",
      "\n"
     ]
    },
    {
     "data": {
      "text/html": [
       "<div>\n",
       "<style scoped>\n",
       "    .dataframe tbody tr th:only-of-type {\n",
       "        vertical-align: middle;\n",
       "    }\n",
       "\n",
       "    .dataframe tbody tr th {\n",
       "        vertical-align: top;\n",
       "    }\n",
       "\n",
       "    .dataframe thead th {\n",
       "        text-align: right;\n",
       "    }\n",
       "</style>\n",
       "<table border=\"1\" class=\"dataframe\">\n",
       "  <thead>\n",
       "    <tr style=\"text-align: right;\">\n",
       "      <th></th>\n",
       "      <th>score</th>\n",
       "    </tr>\n",
       "  </thead>\n",
       "  <tbody>\n",
       "    <tr>\n",
       "      <th>HGB</th>\n",
       "      <td>0.70553</td>\n",
       "    </tr>\n",
       "  </tbody>\n",
       "</table>\n",
       "</div>"
      ],
      "text/plain": [
       "       score\n",
       "HGB  0.70553"
      ]
     },
     "metadata": {},
     "output_type": "display_data"
    },
    {
     "data": {
      "text/html": [
       "<style>#sk-container-id-4 {color: black;background-color: white;}#sk-container-id-4 pre{padding: 0;}#sk-container-id-4 div.sk-toggleable {background-color: white;}#sk-container-id-4 label.sk-toggleable__label {cursor: pointer;display: block;width: 100%;margin-bottom: 0;padding: 0.3em;box-sizing: border-box;text-align: center;}#sk-container-id-4 label.sk-toggleable__label-arrow:before {content: \"▸\";float: left;margin-right: 0.25em;color: #696969;}#sk-container-id-4 label.sk-toggleable__label-arrow:hover:before {color: black;}#sk-container-id-4 div.sk-estimator:hover label.sk-toggleable__label-arrow:before {color: black;}#sk-container-id-4 div.sk-toggleable__content {max-height: 0;max-width: 0;overflow: hidden;text-align: left;background-color: #f0f8ff;}#sk-container-id-4 div.sk-toggleable__content pre {margin: 0.2em;color: black;border-radius: 0.25em;background-color: #f0f8ff;}#sk-container-id-4 input.sk-toggleable__control:checked~div.sk-toggleable__content {max-height: 200px;max-width: 100%;overflow: auto;}#sk-container-id-4 input.sk-toggleable__control:checked~label.sk-toggleable__label-arrow:before {content: \"▾\";}#sk-container-id-4 div.sk-estimator input.sk-toggleable__control:checked~label.sk-toggleable__label {background-color: #d4ebff;}#sk-container-id-4 div.sk-label input.sk-toggleable__control:checked~label.sk-toggleable__label {background-color: #d4ebff;}#sk-container-id-4 input.sk-hidden--visually {border: 0;clip: rect(1px 1px 1px 1px);clip: rect(1px, 1px, 1px, 1px);height: 1px;margin: -1px;overflow: hidden;padding: 0;position: absolute;width: 1px;}#sk-container-id-4 div.sk-estimator {font-family: monospace;background-color: #f0f8ff;border: 1px dotted black;border-radius: 0.25em;box-sizing: border-box;margin-bottom: 0.5em;}#sk-container-id-4 div.sk-estimator:hover {background-color: #d4ebff;}#sk-container-id-4 div.sk-parallel-item::after {content: \"\";width: 100%;border-bottom: 1px solid gray;flex-grow: 1;}#sk-container-id-4 div.sk-label:hover label.sk-toggleable__label {background-color: #d4ebff;}#sk-container-id-4 div.sk-serial::before {content: \"\";position: absolute;border-left: 1px solid gray;box-sizing: border-box;top: 0;bottom: 0;left: 50%;z-index: 0;}#sk-container-id-4 div.sk-serial {display: flex;flex-direction: column;align-items: center;background-color: white;padding-right: 0.2em;padding-left: 0.2em;position: relative;}#sk-container-id-4 div.sk-item {position: relative;z-index: 1;}#sk-container-id-4 div.sk-parallel {display: flex;align-items: stretch;justify-content: center;background-color: white;position: relative;}#sk-container-id-4 div.sk-item::before, #sk-container-id-4 div.sk-parallel-item::before {content: \"\";position: absolute;border-left: 1px solid gray;box-sizing: border-box;top: 0;bottom: 0;left: 50%;z-index: -1;}#sk-container-id-4 div.sk-parallel-item {display: flex;flex-direction: column;z-index: 1;position: relative;background-color: white;}#sk-container-id-4 div.sk-parallel-item:first-child::after {align-self: flex-end;width: 50%;}#sk-container-id-4 div.sk-parallel-item:last-child::after {align-self: flex-start;width: 50%;}#sk-container-id-4 div.sk-parallel-item:only-child::after {width: 0;}#sk-container-id-4 div.sk-dashed-wrapped {border: 1px dashed gray;margin: 0 0.4em 0.5em 0.4em;box-sizing: border-box;padding-bottom: 0.4em;background-color: white;}#sk-container-id-4 div.sk-label label {font-family: monospace;font-weight: bold;display: inline-block;line-height: 1.2em;}#sk-container-id-4 div.sk-label-container {text-align: center;}#sk-container-id-4 div.sk-container {/* jupyter's `normalize.less` sets `[hidden] { display: none; }` but bootstrap.min.css set `[hidden] { display: none !important; }` so we also need the `!important` here to be able to override the default hidden behavior on the sphinx rendered scikit-learn.org. See: https://github.com/scikit-learn/scikit-learn/issues/21755 */display: inline-block !important;position: relative;}#sk-container-id-4 div.sk-text-repr-fallback {display: none;}</style><div id=\"sk-container-id-4\" class=\"sk-top-container\"><div class=\"sk-text-repr-fallback\"><pre>Pipeline(steps=[(&#x27;processor&#x27;,\n",
       "                 Pipeline(steps=[(&#x27;transform&#x27;,\n",
       "                                  ColumnTransformer(transformers=[(&#x27;ord&#x27;,\n",
       "                                                                   Pipeline(steps=[(&#x27;imp&#x27;,\n",
       "                                                                                    SimpleImputer(fill_value=&#x27;No &#x27;\n",
       "                                                                                                             &#x27;Data&#x27;,\n",
       "                                                                                                  strategy=&#x27;constant&#x27;)),\n",
       "                                                                                   (&#x27;Ord&#x27;,\n",
       "                                                                                    OrdinalEncoder())]),\n",
       "                                                                   [&#x27;educação&#x27;,\n",
       "                                                                    &#x27;mês&#x27;,\n",
       "                                                                    &#x27;dia&#x27;,\n",
       "                                                                    &#x27;duração&#x27;,\n",
       "                                                                    &#x27;fe_cluster&#x27;,\n",
       "                                                                    &#x27;idade_group&#x27;]),\n",
       "                                                                  (&#x27;oho&#x27;,\n",
       "                                                                   Pipeline(steps=[(&#x27;imp&#x27;,\n",
       "                                                                                    SimpleImputer(fill_value=&#x27;No &#x27;\n",
       "                                                                                                             &#x27;Data&#x27;,\n",
       "                                                                                                  strategy=&#x27;consta...\n",
       "                                  VarianceThreshold(threshold=0.04)),\n",
       "                                 (&#x27;selectpercentile&#x27;,\n",
       "                                  SelectPercentile(percentile=85)),\n",
       "                                 (&#x27;dropfeaturecorr&#x27;,\n",
       "                                  DropConstantFeatures(tol=0.85)),\n",
       "                                 (&#x27;preprocessor&#x27;, StandardScaler())])),\n",
       "                (&#x27;model&#x27;,\n",
       "                 HistGradientBoostingClassifier(early_stopping=30,\n",
       "                                                l2_regularization=0.24102948813920363,\n",
       "                                                learning_rate=0.05760297831068223,\n",
       "                                                max_depth=3, max_iter=1000,\n",
       "                                                random_state=12359,\n",
       "                                                validation_fraction=0.5))])</pre><b>In a Jupyter environment, please rerun this cell to show the HTML representation or trust the notebook. <br />On GitHub, the HTML representation is unable to render, please try loading this page with nbviewer.org.</b></div><div class=\"sk-container\" hidden><div class=\"sk-item sk-dashed-wrapped\"><div class=\"sk-label-container\"><div class=\"sk-label sk-toggleable\"><input class=\"sk-toggleable__control sk-hidden--visually\" id=\"sk-estimator-id-61\" type=\"checkbox\" ><label for=\"sk-estimator-id-61\" class=\"sk-toggleable__label sk-toggleable__label-arrow\">Pipeline</label><div class=\"sk-toggleable__content\"><pre>Pipeline(steps=[(&#x27;processor&#x27;,\n",
       "                 Pipeline(steps=[(&#x27;transform&#x27;,\n",
       "                                  ColumnTransformer(transformers=[(&#x27;ord&#x27;,\n",
       "                                                                   Pipeline(steps=[(&#x27;imp&#x27;,\n",
       "                                                                                    SimpleImputer(fill_value=&#x27;No &#x27;\n",
       "                                                                                                             &#x27;Data&#x27;,\n",
       "                                                                                                  strategy=&#x27;constant&#x27;)),\n",
       "                                                                                   (&#x27;Ord&#x27;,\n",
       "                                                                                    OrdinalEncoder())]),\n",
       "                                                                   [&#x27;educação&#x27;,\n",
       "                                                                    &#x27;mês&#x27;,\n",
       "                                                                    &#x27;dia&#x27;,\n",
       "                                                                    &#x27;duração&#x27;,\n",
       "                                                                    &#x27;fe_cluster&#x27;,\n",
       "                                                                    &#x27;idade_group&#x27;]),\n",
       "                                                                  (&#x27;oho&#x27;,\n",
       "                                                                   Pipeline(steps=[(&#x27;imp&#x27;,\n",
       "                                                                                    SimpleImputer(fill_value=&#x27;No &#x27;\n",
       "                                                                                                             &#x27;Data&#x27;,\n",
       "                                                                                                  strategy=&#x27;consta...\n",
       "                                  VarianceThreshold(threshold=0.04)),\n",
       "                                 (&#x27;selectpercentile&#x27;,\n",
       "                                  SelectPercentile(percentile=85)),\n",
       "                                 (&#x27;dropfeaturecorr&#x27;,\n",
       "                                  DropConstantFeatures(tol=0.85)),\n",
       "                                 (&#x27;preprocessor&#x27;, StandardScaler())])),\n",
       "                (&#x27;model&#x27;,\n",
       "                 HistGradientBoostingClassifier(early_stopping=30,\n",
       "                                                l2_regularization=0.24102948813920363,\n",
       "                                                learning_rate=0.05760297831068223,\n",
       "                                                max_depth=3, max_iter=1000,\n",
       "                                                random_state=12359,\n",
       "                                                validation_fraction=0.5))])</pre></div></div></div><div class=\"sk-serial\"><div class=\"sk-item\"><div class=\"sk-label-container\"><div class=\"sk-label sk-toggleable\"><input class=\"sk-toggleable__control sk-hidden--visually\" id=\"sk-estimator-id-62\" type=\"checkbox\" ><label for=\"sk-estimator-id-62\" class=\"sk-toggleable__label sk-toggleable__label-arrow\">processor: Pipeline</label><div class=\"sk-toggleable__content\"><pre>Pipeline(steps=[(&#x27;transform&#x27;,\n",
       "                 ColumnTransformer(transformers=[(&#x27;ord&#x27;,\n",
       "                                                  Pipeline(steps=[(&#x27;imp&#x27;,\n",
       "                                                                   SimpleImputer(fill_value=&#x27;No &#x27;\n",
       "                                                                                            &#x27;Data&#x27;,\n",
       "                                                                                 strategy=&#x27;constant&#x27;)),\n",
       "                                                                  (&#x27;Ord&#x27;,\n",
       "                                                                   OrdinalEncoder())]),\n",
       "                                                  [&#x27;educação&#x27;, &#x27;mês&#x27;, &#x27;dia&#x27;,\n",
       "                                                   &#x27;duração&#x27;, &#x27;fe_cluster&#x27;,\n",
       "                                                   &#x27;idade_group&#x27;]),\n",
       "                                                 (&#x27;oho&#x27;,\n",
       "                                                  Pipeline(steps=[(&#x27;imp&#x27;,\n",
       "                                                                   SimpleImputer(fill_value=&#x27;No &#x27;\n",
       "                                                                                            &#x27;Data&#x27;,\n",
       "                                                                                 strategy=&#x27;constant&#x27;)),\n",
       "                                                                  (&#x27;OHen&#x27;,\n",
       "                                                                   OneHotEncoder(h...\n",
       "                                                                   WOEEncoder(regularization=0))]),\n",
       "                                                  [&#x27;fe_pca_0_group&#x27;]),\n",
       "                                                 (&#x27;num&#x27;,\n",
       "                                                  Pipeline(steps=[(&#x27;imp&#x27;,\n",
       "                                                                   SimpleImputer(missing_values=0)),\n",
       "                                                                  (&#x27;min&#x27;,\n",
       "                                                                   MaxAbsScaler())]),\n",
       "                                                  [&#x27;ncontatos&#x27;])])),\n",
       "                (&#x27;variancethreshold&#x27;, VarianceThreshold(threshold=0.04)),\n",
       "                (&#x27;selectpercentile&#x27;, SelectPercentile(percentile=85)),\n",
       "                (&#x27;dropfeaturecorr&#x27;, DropConstantFeatures(tol=0.85)),\n",
       "                (&#x27;preprocessor&#x27;, StandardScaler())])</pre></div></div></div><div class=\"sk-serial\"><div class=\"sk-item sk-dashed-wrapped\"><div class=\"sk-label-container\"><div class=\"sk-label sk-toggleable\"><input class=\"sk-toggleable__control sk-hidden--visually\" id=\"sk-estimator-id-63\" type=\"checkbox\" ><label for=\"sk-estimator-id-63\" class=\"sk-toggleable__label sk-toggleable__label-arrow\">transform: ColumnTransformer</label><div class=\"sk-toggleable__content\"><pre>ColumnTransformer(transformers=[(&#x27;ord&#x27;,\n",
       "                                 Pipeline(steps=[(&#x27;imp&#x27;,\n",
       "                                                  SimpleImputer(fill_value=&#x27;No &#x27;\n",
       "                                                                           &#x27;Data&#x27;,\n",
       "                                                                strategy=&#x27;constant&#x27;)),\n",
       "                                                 (&#x27;Ord&#x27;, OrdinalEncoder())]),\n",
       "                                 [&#x27;educação&#x27;, &#x27;mês&#x27;, &#x27;dia&#x27;, &#x27;duração&#x27;,\n",
       "                                  &#x27;fe_cluster&#x27;, &#x27;idade_group&#x27;]),\n",
       "                                (&#x27;oho&#x27;,\n",
       "                                 Pipeline(steps=[(&#x27;imp&#x27;,\n",
       "                                                  SimpleImputer(fill_value=&#x27;No &#x27;\n",
       "                                                                           &#x27;Data&#x27;,\n",
       "                                                                strategy=&#x27;constant&#x27;)),\n",
       "                                                 (&#x27;OHen&#x27;,\n",
       "                                                  OneHotEncoder(handle_unknown=&#x27;ignore&#x27;,\n",
       "                                                                sparse=False))]),\n",
       "                                 [&#x27;trabalho&#x27;, &#x27;estado civil&#x27;, &#x27;atraso&#x27;, &#x27;casa&#x27;,\n",
       "                                  &#x27;empréstimo&#x27;, &#x27;anterior&#x27;, &#x27;contato&#x27;]),\n",
       "                                (&#x27;woe&#x27;,\n",
       "                                 Pipeline(steps=[(&#x27;imp&#x27;,\n",
       "                                                  SimpleImputer(fill_value=&#x27;No &#x27;\n",
       "                                                                           &#x27;Data&#x27;,\n",
       "                                                                strategy=&#x27;constant&#x27;)),\n",
       "                                                 (&#x27;woe&#x27;,\n",
       "                                                  WOEEncoder(regularization=0))]),\n",
       "                                 [&#x27;fe_pca_0_group&#x27;]),\n",
       "                                (&#x27;num&#x27;,\n",
       "                                 Pipeline(steps=[(&#x27;imp&#x27;,\n",
       "                                                  SimpleImputer(missing_values=0)),\n",
       "                                                 (&#x27;min&#x27;, MaxAbsScaler())]),\n",
       "                                 [&#x27;ncontatos&#x27;])])</pre></div></div></div><div class=\"sk-parallel\"><div class=\"sk-parallel-item\"><div class=\"sk-item\"><div class=\"sk-label-container\"><div class=\"sk-label sk-toggleable\"><input class=\"sk-toggleable__control sk-hidden--visually\" id=\"sk-estimator-id-64\" type=\"checkbox\" ><label for=\"sk-estimator-id-64\" class=\"sk-toggleable__label sk-toggleable__label-arrow\">ord</label><div class=\"sk-toggleable__content\"><pre>[&#x27;educação&#x27;, &#x27;mês&#x27;, &#x27;dia&#x27;, &#x27;duração&#x27;, &#x27;fe_cluster&#x27;, &#x27;idade_group&#x27;]</pre></div></div></div><div class=\"sk-serial\"><div class=\"sk-item\"><div class=\"sk-serial\"><div class=\"sk-item\"><div class=\"sk-estimator sk-toggleable\"><input class=\"sk-toggleable__control sk-hidden--visually\" id=\"sk-estimator-id-65\" type=\"checkbox\" ><label for=\"sk-estimator-id-65\" class=\"sk-toggleable__label sk-toggleable__label-arrow\">SimpleImputer</label><div class=\"sk-toggleable__content\"><pre>SimpleImputer(fill_value=&#x27;No Data&#x27;, strategy=&#x27;constant&#x27;)</pre></div></div></div><div class=\"sk-item\"><div class=\"sk-estimator sk-toggleable\"><input class=\"sk-toggleable__control sk-hidden--visually\" id=\"sk-estimator-id-66\" type=\"checkbox\" ><label for=\"sk-estimator-id-66\" class=\"sk-toggleable__label sk-toggleable__label-arrow\">OrdinalEncoder</label><div class=\"sk-toggleable__content\"><pre>OrdinalEncoder()</pre></div></div></div></div></div></div></div></div><div class=\"sk-parallel-item\"><div class=\"sk-item\"><div class=\"sk-label-container\"><div class=\"sk-label sk-toggleable\"><input class=\"sk-toggleable__control sk-hidden--visually\" id=\"sk-estimator-id-67\" type=\"checkbox\" ><label for=\"sk-estimator-id-67\" class=\"sk-toggleable__label sk-toggleable__label-arrow\">oho</label><div class=\"sk-toggleable__content\"><pre>[&#x27;trabalho&#x27;, &#x27;estado civil&#x27;, &#x27;atraso&#x27;, &#x27;casa&#x27;, &#x27;empréstimo&#x27;, &#x27;anterior&#x27;, &#x27;contato&#x27;]</pre></div></div></div><div class=\"sk-serial\"><div class=\"sk-item\"><div class=\"sk-serial\"><div class=\"sk-item\"><div class=\"sk-estimator sk-toggleable\"><input class=\"sk-toggleable__control sk-hidden--visually\" id=\"sk-estimator-id-68\" type=\"checkbox\" ><label for=\"sk-estimator-id-68\" class=\"sk-toggleable__label sk-toggleable__label-arrow\">SimpleImputer</label><div class=\"sk-toggleable__content\"><pre>SimpleImputer(fill_value=&#x27;No Data&#x27;, strategy=&#x27;constant&#x27;)</pre></div></div></div><div class=\"sk-item\"><div class=\"sk-estimator sk-toggleable\"><input class=\"sk-toggleable__control sk-hidden--visually\" id=\"sk-estimator-id-69\" type=\"checkbox\" ><label for=\"sk-estimator-id-69\" class=\"sk-toggleable__label sk-toggleable__label-arrow\">OneHotEncoder</label><div class=\"sk-toggleable__content\"><pre>OneHotEncoder(handle_unknown=&#x27;ignore&#x27;, sparse=False)</pre></div></div></div></div></div></div></div></div><div class=\"sk-parallel-item\"><div class=\"sk-item\"><div class=\"sk-label-container\"><div class=\"sk-label sk-toggleable\"><input class=\"sk-toggleable__control sk-hidden--visually\" id=\"sk-estimator-id-70\" type=\"checkbox\" ><label for=\"sk-estimator-id-70\" class=\"sk-toggleable__label sk-toggleable__label-arrow\">woe</label><div class=\"sk-toggleable__content\"><pre>[&#x27;fe_pca_0_group&#x27;]</pre></div></div></div><div class=\"sk-serial\"><div class=\"sk-item\"><div class=\"sk-serial\"><div class=\"sk-item\"><div class=\"sk-estimator sk-toggleable\"><input class=\"sk-toggleable__control sk-hidden--visually\" id=\"sk-estimator-id-71\" type=\"checkbox\" ><label for=\"sk-estimator-id-71\" class=\"sk-toggleable__label sk-toggleable__label-arrow\">SimpleImputer</label><div class=\"sk-toggleable__content\"><pre>SimpleImputer(fill_value=&#x27;No Data&#x27;, strategy=&#x27;constant&#x27;)</pre></div></div></div><div class=\"sk-item\"><div class=\"sk-estimator sk-toggleable\"><input class=\"sk-toggleable__control sk-hidden--visually\" id=\"sk-estimator-id-72\" type=\"checkbox\" ><label for=\"sk-estimator-id-72\" class=\"sk-toggleable__label sk-toggleable__label-arrow\">WOEEncoder</label><div class=\"sk-toggleable__content\"><pre>WOEEncoder(regularization=0)</pre></div></div></div></div></div></div></div></div><div class=\"sk-parallel-item\"><div class=\"sk-item\"><div class=\"sk-label-container\"><div class=\"sk-label sk-toggleable\"><input class=\"sk-toggleable__control sk-hidden--visually\" id=\"sk-estimator-id-73\" type=\"checkbox\" ><label for=\"sk-estimator-id-73\" class=\"sk-toggleable__label sk-toggleable__label-arrow\">num</label><div class=\"sk-toggleable__content\"><pre>[&#x27;ncontatos&#x27;]</pre></div></div></div><div class=\"sk-serial\"><div class=\"sk-item\"><div class=\"sk-serial\"><div class=\"sk-item\"><div class=\"sk-estimator sk-toggleable\"><input class=\"sk-toggleable__control sk-hidden--visually\" id=\"sk-estimator-id-74\" type=\"checkbox\" ><label for=\"sk-estimator-id-74\" class=\"sk-toggleable__label sk-toggleable__label-arrow\">SimpleImputer</label><div class=\"sk-toggleable__content\"><pre>SimpleImputer(missing_values=0)</pre></div></div></div><div class=\"sk-item\"><div class=\"sk-estimator sk-toggleable\"><input class=\"sk-toggleable__control sk-hidden--visually\" id=\"sk-estimator-id-75\" type=\"checkbox\" ><label for=\"sk-estimator-id-75\" class=\"sk-toggleable__label sk-toggleable__label-arrow\">MaxAbsScaler</label><div class=\"sk-toggleable__content\"><pre>MaxAbsScaler()</pre></div></div></div></div></div></div></div></div></div></div><div class=\"sk-item\"><div class=\"sk-estimator sk-toggleable\"><input class=\"sk-toggleable__control sk-hidden--visually\" id=\"sk-estimator-id-76\" type=\"checkbox\" ><label for=\"sk-estimator-id-76\" class=\"sk-toggleable__label sk-toggleable__label-arrow\">VarianceThreshold</label><div class=\"sk-toggleable__content\"><pre>VarianceThreshold(threshold=0.04)</pre></div></div></div><div class=\"sk-item\"><div class=\"sk-estimator sk-toggleable\"><input class=\"sk-toggleable__control sk-hidden--visually\" id=\"sk-estimator-id-77\" type=\"checkbox\" ><label for=\"sk-estimator-id-77\" class=\"sk-toggleable__label sk-toggleable__label-arrow\">SelectPercentile</label><div class=\"sk-toggleable__content\"><pre>SelectPercentile(percentile=85)</pre></div></div></div><div class=\"sk-item\"><div class=\"sk-estimator sk-toggleable\"><input class=\"sk-toggleable__control sk-hidden--visually\" id=\"sk-estimator-id-78\" type=\"checkbox\" ><label for=\"sk-estimator-id-78\" class=\"sk-toggleable__label sk-toggleable__label-arrow\">DropConstantFeatures</label><div class=\"sk-toggleable__content\"><pre>DropConstantFeatures(tol=0.85)</pre></div></div></div><div class=\"sk-item\"><div class=\"sk-estimator sk-toggleable\"><input class=\"sk-toggleable__control sk-hidden--visually\" id=\"sk-estimator-id-79\" type=\"checkbox\" ><label for=\"sk-estimator-id-79\" class=\"sk-toggleable__label sk-toggleable__label-arrow\">StandardScaler</label><div class=\"sk-toggleable__content\"><pre>StandardScaler()</pre></div></div></div></div></div><div class=\"sk-item\"><div class=\"sk-estimator sk-toggleable\"><input class=\"sk-toggleable__control sk-hidden--visually\" id=\"sk-estimator-id-80\" type=\"checkbox\" ><label for=\"sk-estimator-id-80\" class=\"sk-toggleable__label sk-toggleable__label-arrow\">HistGradientBoostingClassifier</label><div class=\"sk-toggleable__content\"><pre>HistGradientBoostingClassifier(early_stopping=30,\n",
       "                               l2_regularization=0.24102948813920363,\n",
       "                               learning_rate=0.05760297831068223, max_depth=3,\n",
       "                               max_iter=1000, random_state=12359,\n",
       "                               validation_fraction=0.5)</pre></div></div></div></div></div></div></div>"
      ],
      "text/plain": [
       "Pipeline(steps=[('processor',\n",
       "                 Pipeline(steps=[('transform',\n",
       "                                  ColumnTransformer(transformers=[('ord',\n",
       "                                                                   Pipeline(steps=[('imp',\n",
       "                                                                                    SimpleImputer(fill_value='No '\n",
       "                                                                                                             'Data',\n",
       "                                                                                                  strategy='constant')),\n",
       "                                                                                   ('Ord',\n",
       "                                                                                    OrdinalEncoder())]),\n",
       "                                                                   ['educação',\n",
       "                                                                    'mês',\n",
       "                                                                    'dia',\n",
       "                                                                    'duração',\n",
       "                                                                    'fe_cluster',\n",
       "                                                                    'idade_group']),\n",
       "                                                                  ('oho',\n",
       "                                                                   Pipeline(steps=[('imp',\n",
       "                                                                                    SimpleImputer(fill_value='No '\n",
       "                                                                                                             'Data',\n",
       "                                                                                                  strategy='consta...\n",
       "                                  VarianceThreshold(threshold=0.04)),\n",
       "                                 ('selectpercentile',\n",
       "                                  SelectPercentile(percentile=85)),\n",
       "                                 ('dropfeaturecorr',\n",
       "                                  DropConstantFeatures(tol=0.85)),\n",
       "                                 ('preprocessor', StandardScaler())])),\n",
       "                ('model',\n",
       "                 HistGradientBoostingClassifier(early_stopping=30,\n",
       "                                                l2_regularization=0.24102948813920363,\n",
       "                                                learning_rate=0.05760297831068223,\n",
       "                                                max_depth=3, max_iter=1000,\n",
       "                                                random_state=12359,\n",
       "                                                validation_fraction=0.5))])"
      ]
     },
     "metadata": {},
     "output_type": "display_data"
    },
    {
     "name": "stdout",
     "output_type": "stream",
     "text": [
      "F1-score valid: 0.683700\n"
     ]
    }
   ],
   "source": [
    "model_hgb_turning    = HistGradientBoostingClassifier(**params_hgb_turning)\n",
    "pipeline_hgb_turning = Pipeline(steps=[('processor', pipeline_processor), ('model', model_hgb_turning)])\n",
    "\n",
    "models = [('HGB', pipeline_hgb_turning, 1, 'hbc_tun', pipeline_processor, 15) ]\n",
    "    \n",
    "mdl_list_fit, df_pred_tr, df_pred_ts, df_score_mdl, score = \\\n",
    "    model_cv_fit(models_       = models, \n",
    "                 X_            = X_train,\n",
    "                 y_            = y_train, \n",
    "                 X_test_       = X_test,                  \n",
    "                 path_         = path, \n",
    "                 seed_         = seed,\n",
    "                 target_       = target,\n",
    "                 create_sub_   = False, \n",
    "                 n_splits_     = 10,\n",
    "                 print_report_ = True)\n",
    "\n",
    "_ = mdl_list_fit[0][2]\n",
    "display(_)\n",
    "\n",
    "print('F1-score valid: {:5f}'.format(f1_score(y_valid, _.predict(X_valid))))\n",
    "\n",
    "# F1-score: 0.68655 (+-0.02429) - F1-Train: 0.71730 - L.Loss: 0.41509 - 0h 0m 5s"
   ]
  },
  {
   "cell_type": "markdown",
   "id": "00b3897a",
   "metadata": {},
   "source": [
    "## 4.6. Modelo MLP"
   ]
  },
  {
   "cell_type": "code",
   "execution_count": 88,
   "id": "dbb4a016",
   "metadata": {
    "ExecuteTime": {
     "end_time": "2022-12-27T02:35:48.402834Z",
     "start_time": "2022-12-27T02:35:48.388813Z"
    },
    "code_folding": [
     1
    ]
   },
   "outputs": [],
   "source": [
    "def objective(trial):\n",
    "    hidden_layers = trial.suggest_categorical(\"hidden_layer_sizes\", [(50,100),(100,100),(50,75,100),(25,50,75,100)])\n",
    "    activation = trial.suggest_categorical(\"activation\", [\"relu\", \"identity\"])\n",
    "    #solver = trial.suggest_categorical(\"solver\", [\"sgd\", \"adam\"])\n",
    "    learning_rate = trial.suggest_categorical(\"learning_rate\", ['constant', 'invscaling', 'adaptive'])\n",
    "    learning_rate_init = trial.suggest_float(\"learning_rate_init\", 0.001, 0.01)\n",
    "\n",
    "    ## Create Model\n",
    "    mlp_regressor = MLPRegressor(\n",
    "                            hidden_layer_sizes=hidden_layers,\n",
    "                            activation=activation,\n",
    "                            #solver=solver,\n",
    "                            learning_rate=learning_rate,\n",
    "                            learning_rate_init=learning_rate_init,\n",
    "                            #early_stopping=True\n",
    "                            )\n",
    "    ## Fit Model\n",
    "    for i, (X_batch, Y_batch) in enumerate(zip(X_train_batched,Y_train_batched)):\n",
    "        mlp_regressor.partial_fit(X_batch, Y_batch)\n",
    "\n",
    "        mse = mean_squared_error(Y_test, mlp_regressor.predict(X_test))\n",
    "\n",
    "        trial.report(mse, i+1)\n",
    "\n",
    "        if trial.should_prune():\n",
    "            raise optuna.TrialPruned()\n",
    "\n",
    "    return mse"
   ]
  },
  {
   "cell_type": "code",
   "execution_count": 89,
   "id": "797c1b41",
   "metadata": {
    "ExecuteTime": {
     "end_time": "2022-12-27T02:36:16.575115Z",
     "start_time": "2022-12-27T02:35:54.014045Z"
    }
   },
   "outputs": [
    {
     "name": "stdout",
     "output_type": "stream",
     "text": [
      "\n",
      "=> MLP\n",
      "==========================================================================================\n",
      "Fold 1 => F1-score: 0.66667 - F1-Train: 0.73043 - AUC:0.74964 - L.Loss: 0.45896 - 0h 0m 2s\n",
      "Fold 2 => F1-score: 0.67910 - F1-Train: 0.73667 - AUC:0.75909 - L.Loss: 0.46603 - 0h 0m 2s\n",
      "Fold 3 => F1-score: 0.65414 - F1-Train: 0.72903 - AUC:0.74028 - L.Loss: 0.46775 - 0h 0m 2s\n",
      "Fold 4 => F1-score: 0.68551 - F1-Train: 0.74614 - AUC:0.76466 - L.Loss: 0.46816 - 0h 0m 2s\n",
      "Fold 5 => F1-score: 0.62257 - F1-Train: 0.72538 - AUC:0.71773 - L.Loss: 0.46760 - 0h 0m 2s\n",
      "Fold 6 => F1-score: 0.65134 - F1-Train: 0.71367 - AUC:0.73842 - L.Loss: 0.44339 - 0h 0m 2s\n",
      "Fold 7 => F1-score: 0.63813 - F1-Train: 0.73847 - AUC:0.72903 - L.Loss: 0.46126 - 0h 0m 2s\n",
      "Fold 8 => F1-score: 0.63704 - F1-Train: 0.73481 - AUC:0.72708 - L.Loss: 0.53264 - 0h 0m 2s\n",
      "Fold 9 => F1-score: 0.61240 - F1-Train: 0.74159 - AUC:0.71020 - L.Loss: 0.53560 - 0h 0m 2s\n",
      "Fold 10 => F1-score: 0.62094 - F1-Train: 0.73773 - AUC:0.71444 - L.Loss: 0.50822 - 0h 0m 2s\n",
      "------------------------------------------------------------------------------------------\n",
      "\u001b[32m\u001b[1m[Mean] => F1-score: 0.64678 (+-0.02371) - F1-Train: 0.73339 - L.Loss: 0.48096 - 0h 0m 22s\u001b[0m\n",
      "==========================================================================================\n",
      "\n",
      "              precision    recall  f1-score   support\n",
      "\n",
      "           0       0.82      0.82      0.82      2650\n",
      "           1       0.64      0.65      0.65      1329\n",
      "\n",
      "    accuracy                           0.76      3979\n",
      "   macro avg       0.73      0.74      0.73      3979\n",
      "weighted avg       0.76      0.76      0.76      3979\n",
      "\n",
      "[[2171  479]\n",
      " [ 464  865]]\n",
      "\n"
     ]
    },
    {
     "data": {
      "text/html": [
       "<div>\n",
       "<style scoped>\n",
       "    .dataframe tbody tr th:only-of-type {\n",
       "        vertical-align: middle;\n",
       "    }\n",
       "\n",
       "    .dataframe tbody tr th {\n",
       "        vertical-align: top;\n",
       "    }\n",
       "\n",
       "    .dataframe thead th {\n",
       "        text-align: right;\n",
       "    }\n",
       "</style>\n",
       "<table border=\"1\" class=\"dataframe\">\n",
       "  <thead>\n",
       "    <tr style=\"text-align: right;\">\n",
       "      <th></th>\n",
       "      <th>score</th>\n",
       "    </tr>\n",
       "  </thead>\n",
       "  <tbody>\n",
       "    <tr>\n",
       "      <th>MLP</th>\n",
       "      <td>0.64678</td>\n",
       "    </tr>\n",
       "  </tbody>\n",
       "</table>\n",
       "</div>"
      ],
      "text/plain": [
       "       score\n",
       "MLP  0.64678"
      ]
     },
     "metadata": {},
     "output_type": "display_data"
    }
   ],
   "source": [
    "params_mlp ={'hidden_layer_sizes': (10, 30), \n",
    "             'activation'        : 'relu', \n",
    "             'learning_rate'     : 'adaptive', \n",
    "             'learning_rate_init': 0.002328157655827371, \n",
    "             'random_state'      : 12359} \n",
    "\n",
    "model_mlp    = MLPClassifier(**params_mlp)    \n",
    "pipeline_mlp = Pipeline(steps=[('processor', pipeline_processor), ('model', model_mlp)])\n",
    "\n",
    "models = [('MLP', pipeline_mlp, 1, 'mlp_tun', pipeline_processor, 15) ]\n",
    "    \n",
    "mdl_list_fit, df_pred_tr, df_pred_ts, df_score_mdl, score = \\\n",
    "    model_cv_fit(models_       = models, \n",
    "                 X_            = X_train,\n",
    "                 y_            = y_train, \n",
    "                 X_test_       = X_test,                  \n",
    "                 path_         = path, \n",
    "                 seed_         = seed,\n",
    "                 target_       = target,\n",
    "                 create_sub_   = False, \n",
    "                 n_splits_     = 10,\n",
    "                 print_report_ = True)\n",
    "\n",
    "# F1-score: 0.66065 (+-0.02277) - F1-Train: 0.73841 - L.Loss: 0.47225 - 0h 0m 26s"
   ]
  },
  {
   "cell_type": "markdown",
   "id": "5c8fccdf",
   "metadata": {},
   "source": [
    "### 4.2.1. Turnning"
   ]
  },
  {
   "cell_type": "code",
   "execution_count": 90,
   "id": "55158dfe",
   "metadata": {
    "ExecuteTime": {
     "end_time": "2022-12-27T02:40:25.975931Z",
     "start_time": "2022-12-27T02:36:22.621795Z"
    }
   },
   "outputs": [
    {
     "name": "stdout",
     "output_type": "stream",
     "text": [
      "\n",
      "--------------------------------------------------------------------------------------------------------------\n",
      "Best score: 0.65778\n",
      "Seed      : 12359\n",
      "Parameters:\n",
      "\n",
      "{'hidden_layer_sizes': (10, 25), 'activation': 'relu', 'learning_rate': 'constant', 'learning_rate_init': 0.00413941111797769, 'random_state': 12359}\n",
      "\n",
      "CPU times: total: 16min 10s\n",
      "Wall time: 4min 3s\n"
     ]
    }
   ],
   "source": [
    "%%time\n",
    "\n",
    "n_trials_  = 10\n",
    "name_clf   = 'mlp'\n",
    "name_model = '{}_001_turning'.format(name_clf) \n",
    "\n",
    "TunningModels.delete_files(name_model)\n",
    "    \n",
    "modelOpt = TunningModels(name_model_               = name_model, \n",
    "                         X_trn_                    = X, \n",
    "                         y_trn_                    = y, \n",
    "                         X_ts_                     = X_test,   \n",
    "                         seed_                     = seed, \n",
    "                         target_                   = target, \n",
    "                         path_                     = path, \n",
    "                         n_splits_                 = 10,\n",
    "                         level_                    = '1',\n",
    "                         cutoff_value_save_        = .6,\n",
    "                         train_with_created_folds_ = True)\n",
    "\n",
    "study_mlp = optuna.create_study(direction  = 'maximize',\n",
    "                                sampler    = optuna.samplers.TPESampler(multivariate=True, seed=seed),\n",
    "                                pruner     = optuna.pruners.MedianPruner(n_warmup_steps=10),\n",
    "                                study_name = 'ext_turning')\n",
    "\n",
    "study_mlp.optimize(modelOpt.mlp, n_trials=n_trials_)\n",
    "\n",
    "score_seed          = study_mlp.best_value \n",
    "params_mlp_turning  = study_mlp.best_params \n",
    "path_name           = path + 'model/optuna/' + name_model + '_{:2.5f}.pkl.z'.format(score_seed)   \n",
    "scare_best          = score_seed \n",
    "\n",
    "jb.dump(study_mlp, path_name)\n",
    "\n",
    "print()\n",
    "print('-'*110)\n",
    "print('Best score: {:2.5f}'.format(scare_best))\n",
    "print('Seed      : {}'.format(seed))\n",
    "print('Parameters:\\n\\n{}'.format(params_mlp_turning))\n",
    "print()"
   ]
  },
  {
   "cell_type": "markdown",
   "id": "5670629e",
   "metadata": {},
   "source": [
    "### 4.2.2. Treinar o modelo com novos parametros "
   ]
  },
  {
   "cell_type": "code",
   "execution_count": 91,
   "id": "eb3383ca",
   "metadata": {
    "ExecuteTime": {
     "end_time": "2022-12-27T02:40:53.588857Z",
     "start_time": "2022-12-27T02:40:32.049811Z"
    }
   },
   "outputs": [
    {
     "name": "stdout",
     "output_type": "stream",
     "text": [
      "\n",
      "=> MLP\n",
      "==========================================================================================\n",
      "Fold 1 => F1-score: 0.67820 - F1-Train: 0.77207 - AUC:0.75899 - L.Loss: 0.49890 - 0h 0m 2s\n",
      "Fold 2 => F1-score: 0.64368 - F1-Train: 0.75442 - AUC:0.73277 - L.Loss: 0.52085 - 0h 0m 2s\n",
      "Fold 3 => F1-score: 0.66148 - F1-Train: 0.75528 - AUC:0.74596 - L.Loss: 0.48610 - 0h 0m 2s\n",
      "Fold 4 => F1-score: 0.62545 - F1-Train: 0.75483 - AUC:0.71765 - L.Loss: 0.49893 - 0h 0m 2s\n",
      "Fold 5 => F1-score: 0.63035 - F1-Train: 0.73772 - AUC:0.72338 - L.Loss: 0.48539 - 0h 0m 2s\n",
      "Fold 6 => F1-score: 0.66426 - F1-Train: 0.74895 - AUC:0.74775 - L.Loss: 0.46984 - 0h 0m 1s\n",
      "Fold 7 => F1-score: 0.64286 - F1-Train: 0.73367 - AUC:0.73281 - L.Loss: 0.43133 - 0h 0m 1s\n",
      "Fold 8 => F1-score: 0.61364 - F1-Train: 0.75323 - AUC:0.71017 - L.Loss: 0.57144 - 0h 0m 2s\n",
      "Fold 9 => F1-score: 0.63878 - F1-Train: 0.75687 - AUC:0.72900 - L.Loss: 0.55287 - 0h 0m 2s\n",
      "Fold 10 => F1-score: 0.60650 - F1-Train: 0.76095 - AUC:0.70309 - L.Loss: 0.56264 - 0h 0m 2s\n",
      "------------------------------------------------------------------------------------------\n",
      "\u001b[32m\u001b[1m[Mean] => F1-score: 0.64052 (+-0.02157) - F1-Train: 0.75280 - L.Loss: 0.50783 - 0h 0m 21s\u001b[0m\n",
      "==========================================================================================\n",
      "\n",
      "              precision    recall  f1-score   support\n",
      "\n",
      "           0       0.82      0.82      0.82      2650\n",
      "           1       0.64      0.64      0.64      1329\n",
      "\n",
      "    accuracy                           0.76      3979\n",
      "   macro avg       0.73      0.73      0.73      3979\n",
      "weighted avg       0.76      0.76      0.76      3979\n",
      "\n",
      "[[2163  487]\n",
      " [ 473  856]]\n",
      "\n"
     ]
    },
    {
     "data": {
      "text/html": [
       "<div>\n",
       "<style scoped>\n",
       "    .dataframe tbody tr th:only-of-type {\n",
       "        vertical-align: middle;\n",
       "    }\n",
       "\n",
       "    .dataframe tbody tr th {\n",
       "        vertical-align: top;\n",
       "    }\n",
       "\n",
       "    .dataframe thead th {\n",
       "        text-align: right;\n",
       "    }\n",
       "</style>\n",
       "<table border=\"1\" class=\"dataframe\">\n",
       "  <thead>\n",
       "    <tr style=\"text-align: right;\">\n",
       "      <th></th>\n",
       "      <th>score</th>\n",
       "    </tr>\n",
       "  </thead>\n",
       "  <tbody>\n",
       "    <tr>\n",
       "      <th>MLP</th>\n",
       "      <td>0.64052</td>\n",
       "    </tr>\n",
       "  </tbody>\n",
       "</table>\n",
       "</div>"
      ],
      "text/plain": [
       "       score\n",
       "MLP  0.64052"
      ]
     },
     "metadata": {},
     "output_type": "display_data"
    },
    {
     "data": {
      "text/html": [
       "<style>#sk-container-id-5 {color: black;background-color: white;}#sk-container-id-5 pre{padding: 0;}#sk-container-id-5 div.sk-toggleable {background-color: white;}#sk-container-id-5 label.sk-toggleable__label {cursor: pointer;display: block;width: 100%;margin-bottom: 0;padding: 0.3em;box-sizing: border-box;text-align: center;}#sk-container-id-5 label.sk-toggleable__label-arrow:before {content: \"▸\";float: left;margin-right: 0.25em;color: #696969;}#sk-container-id-5 label.sk-toggleable__label-arrow:hover:before {color: black;}#sk-container-id-5 div.sk-estimator:hover label.sk-toggleable__label-arrow:before {color: black;}#sk-container-id-5 div.sk-toggleable__content {max-height: 0;max-width: 0;overflow: hidden;text-align: left;background-color: #f0f8ff;}#sk-container-id-5 div.sk-toggleable__content pre {margin: 0.2em;color: black;border-radius: 0.25em;background-color: #f0f8ff;}#sk-container-id-5 input.sk-toggleable__control:checked~div.sk-toggleable__content {max-height: 200px;max-width: 100%;overflow: auto;}#sk-container-id-5 input.sk-toggleable__control:checked~label.sk-toggleable__label-arrow:before {content: \"▾\";}#sk-container-id-5 div.sk-estimator input.sk-toggleable__control:checked~label.sk-toggleable__label {background-color: #d4ebff;}#sk-container-id-5 div.sk-label input.sk-toggleable__control:checked~label.sk-toggleable__label {background-color: #d4ebff;}#sk-container-id-5 input.sk-hidden--visually {border: 0;clip: rect(1px 1px 1px 1px);clip: rect(1px, 1px, 1px, 1px);height: 1px;margin: -1px;overflow: hidden;padding: 0;position: absolute;width: 1px;}#sk-container-id-5 div.sk-estimator {font-family: monospace;background-color: #f0f8ff;border: 1px dotted black;border-radius: 0.25em;box-sizing: border-box;margin-bottom: 0.5em;}#sk-container-id-5 div.sk-estimator:hover {background-color: #d4ebff;}#sk-container-id-5 div.sk-parallel-item::after {content: \"\";width: 100%;border-bottom: 1px solid gray;flex-grow: 1;}#sk-container-id-5 div.sk-label:hover label.sk-toggleable__label {background-color: #d4ebff;}#sk-container-id-5 div.sk-serial::before {content: \"\";position: absolute;border-left: 1px solid gray;box-sizing: border-box;top: 0;bottom: 0;left: 50%;z-index: 0;}#sk-container-id-5 div.sk-serial {display: flex;flex-direction: column;align-items: center;background-color: white;padding-right: 0.2em;padding-left: 0.2em;position: relative;}#sk-container-id-5 div.sk-item {position: relative;z-index: 1;}#sk-container-id-5 div.sk-parallel {display: flex;align-items: stretch;justify-content: center;background-color: white;position: relative;}#sk-container-id-5 div.sk-item::before, #sk-container-id-5 div.sk-parallel-item::before {content: \"\";position: absolute;border-left: 1px solid gray;box-sizing: border-box;top: 0;bottom: 0;left: 50%;z-index: -1;}#sk-container-id-5 div.sk-parallel-item {display: flex;flex-direction: column;z-index: 1;position: relative;background-color: white;}#sk-container-id-5 div.sk-parallel-item:first-child::after {align-self: flex-end;width: 50%;}#sk-container-id-5 div.sk-parallel-item:last-child::after {align-self: flex-start;width: 50%;}#sk-container-id-5 div.sk-parallel-item:only-child::after {width: 0;}#sk-container-id-5 div.sk-dashed-wrapped {border: 1px dashed gray;margin: 0 0.4em 0.5em 0.4em;box-sizing: border-box;padding-bottom: 0.4em;background-color: white;}#sk-container-id-5 div.sk-label label {font-family: monospace;font-weight: bold;display: inline-block;line-height: 1.2em;}#sk-container-id-5 div.sk-label-container {text-align: center;}#sk-container-id-5 div.sk-container {/* jupyter's `normalize.less` sets `[hidden] { display: none; }` but bootstrap.min.css set `[hidden] { display: none !important; }` so we also need the `!important` here to be able to override the default hidden behavior on the sphinx rendered scikit-learn.org. See: https://github.com/scikit-learn/scikit-learn/issues/21755 */display: inline-block !important;position: relative;}#sk-container-id-5 div.sk-text-repr-fallback {display: none;}</style><div id=\"sk-container-id-5\" class=\"sk-top-container\"><div class=\"sk-text-repr-fallback\"><pre>Pipeline(steps=[(&#x27;processor&#x27;,\n",
       "                 Pipeline(steps=[(&#x27;transform&#x27;,\n",
       "                                  ColumnTransformer(transformers=[(&#x27;ord&#x27;,\n",
       "                                                                   Pipeline(steps=[(&#x27;imp&#x27;,\n",
       "                                                                                    SimpleImputer(fill_value=&#x27;No &#x27;\n",
       "                                                                                                             &#x27;Data&#x27;,\n",
       "                                                                                                  strategy=&#x27;constant&#x27;)),\n",
       "                                                                                   (&#x27;Ord&#x27;,\n",
       "                                                                                    OrdinalEncoder())]),\n",
       "                                                                   [&#x27;educação&#x27;,\n",
       "                                                                    &#x27;mês&#x27;,\n",
       "                                                                    &#x27;dia&#x27;,\n",
       "                                                                    &#x27;duração&#x27;,\n",
       "                                                                    &#x27;fe_cluster&#x27;,\n",
       "                                                                    &#x27;idade_group&#x27;]),\n",
       "                                                                  (&#x27;oho&#x27;,\n",
       "                                                                   Pipeline(steps=[(&#x27;imp&#x27;,\n",
       "                                                                                    SimpleImputer(fill_value=&#x27;No &#x27;\n",
       "                                                                                                             &#x27;Data&#x27;,\n",
       "                                                                                                  strategy=&#x27;consta...\n",
       "                                                                                   (&#x27;min&#x27;,\n",
       "                                                                                    MaxAbsScaler())]),\n",
       "                                                                   [&#x27;ncontatos&#x27;])])),\n",
       "                                 (&#x27;variancethreshold&#x27;,\n",
       "                                  VarianceThreshold(threshold=0.04)),\n",
       "                                 (&#x27;selectpercentile&#x27;,\n",
       "                                  SelectPercentile(percentile=85)),\n",
       "                                 (&#x27;dropfeaturecorr&#x27;,\n",
       "                                  DropConstantFeatures(tol=0.85)),\n",
       "                                 (&#x27;preprocessor&#x27;, StandardScaler())])),\n",
       "                (&#x27;model&#x27;,\n",
       "                 MLPClassifier(hidden_layer_sizes=(10, 25),\n",
       "                               learning_rate_init=0.00413941111797769,\n",
       "                               random_state=12359))])</pre><b>In a Jupyter environment, please rerun this cell to show the HTML representation or trust the notebook. <br />On GitHub, the HTML representation is unable to render, please try loading this page with nbviewer.org.</b></div><div class=\"sk-container\" hidden><div class=\"sk-item sk-dashed-wrapped\"><div class=\"sk-label-container\"><div class=\"sk-label sk-toggleable\"><input class=\"sk-toggleable__control sk-hidden--visually\" id=\"sk-estimator-id-81\" type=\"checkbox\" ><label for=\"sk-estimator-id-81\" class=\"sk-toggleable__label sk-toggleable__label-arrow\">Pipeline</label><div class=\"sk-toggleable__content\"><pre>Pipeline(steps=[(&#x27;processor&#x27;,\n",
       "                 Pipeline(steps=[(&#x27;transform&#x27;,\n",
       "                                  ColumnTransformer(transformers=[(&#x27;ord&#x27;,\n",
       "                                                                   Pipeline(steps=[(&#x27;imp&#x27;,\n",
       "                                                                                    SimpleImputer(fill_value=&#x27;No &#x27;\n",
       "                                                                                                             &#x27;Data&#x27;,\n",
       "                                                                                                  strategy=&#x27;constant&#x27;)),\n",
       "                                                                                   (&#x27;Ord&#x27;,\n",
       "                                                                                    OrdinalEncoder())]),\n",
       "                                                                   [&#x27;educação&#x27;,\n",
       "                                                                    &#x27;mês&#x27;,\n",
       "                                                                    &#x27;dia&#x27;,\n",
       "                                                                    &#x27;duração&#x27;,\n",
       "                                                                    &#x27;fe_cluster&#x27;,\n",
       "                                                                    &#x27;idade_group&#x27;]),\n",
       "                                                                  (&#x27;oho&#x27;,\n",
       "                                                                   Pipeline(steps=[(&#x27;imp&#x27;,\n",
       "                                                                                    SimpleImputer(fill_value=&#x27;No &#x27;\n",
       "                                                                                                             &#x27;Data&#x27;,\n",
       "                                                                                                  strategy=&#x27;consta...\n",
       "                                                                                   (&#x27;min&#x27;,\n",
       "                                                                                    MaxAbsScaler())]),\n",
       "                                                                   [&#x27;ncontatos&#x27;])])),\n",
       "                                 (&#x27;variancethreshold&#x27;,\n",
       "                                  VarianceThreshold(threshold=0.04)),\n",
       "                                 (&#x27;selectpercentile&#x27;,\n",
       "                                  SelectPercentile(percentile=85)),\n",
       "                                 (&#x27;dropfeaturecorr&#x27;,\n",
       "                                  DropConstantFeatures(tol=0.85)),\n",
       "                                 (&#x27;preprocessor&#x27;, StandardScaler())])),\n",
       "                (&#x27;model&#x27;,\n",
       "                 MLPClassifier(hidden_layer_sizes=(10, 25),\n",
       "                               learning_rate_init=0.00413941111797769,\n",
       "                               random_state=12359))])</pre></div></div></div><div class=\"sk-serial\"><div class=\"sk-item\"><div class=\"sk-label-container\"><div class=\"sk-label sk-toggleable\"><input class=\"sk-toggleable__control sk-hidden--visually\" id=\"sk-estimator-id-82\" type=\"checkbox\" ><label for=\"sk-estimator-id-82\" class=\"sk-toggleable__label sk-toggleable__label-arrow\">processor: Pipeline</label><div class=\"sk-toggleable__content\"><pre>Pipeline(steps=[(&#x27;transform&#x27;,\n",
       "                 ColumnTransformer(transformers=[(&#x27;ord&#x27;,\n",
       "                                                  Pipeline(steps=[(&#x27;imp&#x27;,\n",
       "                                                                   SimpleImputer(fill_value=&#x27;No &#x27;\n",
       "                                                                                            &#x27;Data&#x27;,\n",
       "                                                                                 strategy=&#x27;constant&#x27;)),\n",
       "                                                                  (&#x27;Ord&#x27;,\n",
       "                                                                   OrdinalEncoder())]),\n",
       "                                                  [&#x27;educação&#x27;, &#x27;mês&#x27;, &#x27;dia&#x27;,\n",
       "                                                   &#x27;duração&#x27;, &#x27;fe_cluster&#x27;,\n",
       "                                                   &#x27;idade_group&#x27;]),\n",
       "                                                 (&#x27;oho&#x27;,\n",
       "                                                  Pipeline(steps=[(&#x27;imp&#x27;,\n",
       "                                                                   SimpleImputer(fill_value=&#x27;No &#x27;\n",
       "                                                                                            &#x27;Data&#x27;,\n",
       "                                                                                 strategy=&#x27;constant&#x27;)),\n",
       "                                                                  (&#x27;OHen&#x27;,\n",
       "                                                                   OneHotEncoder(h...\n",
       "                                                                   WOEEncoder(regularization=0))]),\n",
       "                                                  [&#x27;fe_pca_0_group&#x27;]),\n",
       "                                                 (&#x27;num&#x27;,\n",
       "                                                  Pipeline(steps=[(&#x27;imp&#x27;,\n",
       "                                                                   SimpleImputer(missing_values=0)),\n",
       "                                                                  (&#x27;min&#x27;,\n",
       "                                                                   MaxAbsScaler())]),\n",
       "                                                  [&#x27;ncontatos&#x27;])])),\n",
       "                (&#x27;variancethreshold&#x27;, VarianceThreshold(threshold=0.04)),\n",
       "                (&#x27;selectpercentile&#x27;, SelectPercentile(percentile=85)),\n",
       "                (&#x27;dropfeaturecorr&#x27;, DropConstantFeatures(tol=0.85)),\n",
       "                (&#x27;preprocessor&#x27;, StandardScaler())])</pre></div></div></div><div class=\"sk-serial\"><div class=\"sk-item sk-dashed-wrapped\"><div class=\"sk-label-container\"><div class=\"sk-label sk-toggleable\"><input class=\"sk-toggleable__control sk-hidden--visually\" id=\"sk-estimator-id-83\" type=\"checkbox\" ><label for=\"sk-estimator-id-83\" class=\"sk-toggleable__label sk-toggleable__label-arrow\">transform: ColumnTransformer</label><div class=\"sk-toggleable__content\"><pre>ColumnTransformer(transformers=[(&#x27;ord&#x27;,\n",
       "                                 Pipeline(steps=[(&#x27;imp&#x27;,\n",
       "                                                  SimpleImputer(fill_value=&#x27;No &#x27;\n",
       "                                                                           &#x27;Data&#x27;,\n",
       "                                                                strategy=&#x27;constant&#x27;)),\n",
       "                                                 (&#x27;Ord&#x27;, OrdinalEncoder())]),\n",
       "                                 [&#x27;educação&#x27;, &#x27;mês&#x27;, &#x27;dia&#x27;, &#x27;duração&#x27;,\n",
       "                                  &#x27;fe_cluster&#x27;, &#x27;idade_group&#x27;]),\n",
       "                                (&#x27;oho&#x27;,\n",
       "                                 Pipeline(steps=[(&#x27;imp&#x27;,\n",
       "                                                  SimpleImputer(fill_value=&#x27;No &#x27;\n",
       "                                                                           &#x27;Data&#x27;,\n",
       "                                                                strategy=&#x27;constant&#x27;)),\n",
       "                                                 (&#x27;OHen&#x27;,\n",
       "                                                  OneHotEncoder(handle_unknown=&#x27;ignore&#x27;,\n",
       "                                                                sparse=False))]),\n",
       "                                 [&#x27;trabalho&#x27;, &#x27;estado civil&#x27;, &#x27;atraso&#x27;, &#x27;casa&#x27;,\n",
       "                                  &#x27;empréstimo&#x27;, &#x27;anterior&#x27;, &#x27;contato&#x27;]),\n",
       "                                (&#x27;woe&#x27;,\n",
       "                                 Pipeline(steps=[(&#x27;imp&#x27;,\n",
       "                                                  SimpleImputer(fill_value=&#x27;No &#x27;\n",
       "                                                                           &#x27;Data&#x27;,\n",
       "                                                                strategy=&#x27;constant&#x27;)),\n",
       "                                                 (&#x27;woe&#x27;,\n",
       "                                                  WOEEncoder(regularization=0))]),\n",
       "                                 [&#x27;fe_pca_0_group&#x27;]),\n",
       "                                (&#x27;num&#x27;,\n",
       "                                 Pipeline(steps=[(&#x27;imp&#x27;,\n",
       "                                                  SimpleImputer(missing_values=0)),\n",
       "                                                 (&#x27;min&#x27;, MaxAbsScaler())]),\n",
       "                                 [&#x27;ncontatos&#x27;])])</pre></div></div></div><div class=\"sk-parallel\"><div class=\"sk-parallel-item\"><div class=\"sk-item\"><div class=\"sk-label-container\"><div class=\"sk-label sk-toggleable\"><input class=\"sk-toggleable__control sk-hidden--visually\" id=\"sk-estimator-id-84\" type=\"checkbox\" ><label for=\"sk-estimator-id-84\" class=\"sk-toggleable__label sk-toggleable__label-arrow\">ord</label><div class=\"sk-toggleable__content\"><pre>[&#x27;educação&#x27;, &#x27;mês&#x27;, &#x27;dia&#x27;, &#x27;duração&#x27;, &#x27;fe_cluster&#x27;, &#x27;idade_group&#x27;]</pre></div></div></div><div class=\"sk-serial\"><div class=\"sk-item\"><div class=\"sk-serial\"><div class=\"sk-item\"><div class=\"sk-estimator sk-toggleable\"><input class=\"sk-toggleable__control sk-hidden--visually\" id=\"sk-estimator-id-85\" type=\"checkbox\" ><label for=\"sk-estimator-id-85\" class=\"sk-toggleable__label sk-toggleable__label-arrow\">SimpleImputer</label><div class=\"sk-toggleable__content\"><pre>SimpleImputer(fill_value=&#x27;No Data&#x27;, strategy=&#x27;constant&#x27;)</pre></div></div></div><div class=\"sk-item\"><div class=\"sk-estimator sk-toggleable\"><input class=\"sk-toggleable__control sk-hidden--visually\" id=\"sk-estimator-id-86\" type=\"checkbox\" ><label for=\"sk-estimator-id-86\" class=\"sk-toggleable__label sk-toggleable__label-arrow\">OrdinalEncoder</label><div class=\"sk-toggleable__content\"><pre>OrdinalEncoder()</pre></div></div></div></div></div></div></div></div><div class=\"sk-parallel-item\"><div class=\"sk-item\"><div class=\"sk-label-container\"><div class=\"sk-label sk-toggleable\"><input class=\"sk-toggleable__control sk-hidden--visually\" id=\"sk-estimator-id-87\" type=\"checkbox\" ><label for=\"sk-estimator-id-87\" class=\"sk-toggleable__label sk-toggleable__label-arrow\">oho</label><div class=\"sk-toggleable__content\"><pre>[&#x27;trabalho&#x27;, &#x27;estado civil&#x27;, &#x27;atraso&#x27;, &#x27;casa&#x27;, &#x27;empréstimo&#x27;, &#x27;anterior&#x27;, &#x27;contato&#x27;]</pre></div></div></div><div class=\"sk-serial\"><div class=\"sk-item\"><div class=\"sk-serial\"><div class=\"sk-item\"><div class=\"sk-estimator sk-toggleable\"><input class=\"sk-toggleable__control sk-hidden--visually\" id=\"sk-estimator-id-88\" type=\"checkbox\" ><label for=\"sk-estimator-id-88\" class=\"sk-toggleable__label sk-toggleable__label-arrow\">SimpleImputer</label><div class=\"sk-toggleable__content\"><pre>SimpleImputer(fill_value=&#x27;No Data&#x27;, strategy=&#x27;constant&#x27;)</pre></div></div></div><div class=\"sk-item\"><div class=\"sk-estimator sk-toggleable\"><input class=\"sk-toggleable__control sk-hidden--visually\" id=\"sk-estimator-id-89\" type=\"checkbox\" ><label for=\"sk-estimator-id-89\" class=\"sk-toggleable__label sk-toggleable__label-arrow\">OneHotEncoder</label><div class=\"sk-toggleable__content\"><pre>OneHotEncoder(handle_unknown=&#x27;ignore&#x27;, sparse=False)</pre></div></div></div></div></div></div></div></div><div class=\"sk-parallel-item\"><div class=\"sk-item\"><div class=\"sk-label-container\"><div class=\"sk-label sk-toggleable\"><input class=\"sk-toggleable__control sk-hidden--visually\" id=\"sk-estimator-id-90\" type=\"checkbox\" ><label for=\"sk-estimator-id-90\" class=\"sk-toggleable__label sk-toggleable__label-arrow\">woe</label><div class=\"sk-toggleable__content\"><pre>[&#x27;fe_pca_0_group&#x27;]</pre></div></div></div><div class=\"sk-serial\"><div class=\"sk-item\"><div class=\"sk-serial\"><div class=\"sk-item\"><div class=\"sk-estimator sk-toggleable\"><input class=\"sk-toggleable__control sk-hidden--visually\" id=\"sk-estimator-id-91\" type=\"checkbox\" ><label for=\"sk-estimator-id-91\" class=\"sk-toggleable__label sk-toggleable__label-arrow\">SimpleImputer</label><div class=\"sk-toggleable__content\"><pre>SimpleImputer(fill_value=&#x27;No Data&#x27;, strategy=&#x27;constant&#x27;)</pre></div></div></div><div class=\"sk-item\"><div class=\"sk-estimator sk-toggleable\"><input class=\"sk-toggleable__control sk-hidden--visually\" id=\"sk-estimator-id-92\" type=\"checkbox\" ><label for=\"sk-estimator-id-92\" class=\"sk-toggleable__label sk-toggleable__label-arrow\">WOEEncoder</label><div class=\"sk-toggleable__content\"><pre>WOEEncoder(regularization=0)</pre></div></div></div></div></div></div></div></div><div class=\"sk-parallel-item\"><div class=\"sk-item\"><div class=\"sk-label-container\"><div class=\"sk-label sk-toggleable\"><input class=\"sk-toggleable__control sk-hidden--visually\" id=\"sk-estimator-id-93\" type=\"checkbox\" ><label for=\"sk-estimator-id-93\" class=\"sk-toggleable__label sk-toggleable__label-arrow\">num</label><div class=\"sk-toggleable__content\"><pre>[&#x27;ncontatos&#x27;]</pre></div></div></div><div class=\"sk-serial\"><div class=\"sk-item\"><div class=\"sk-serial\"><div class=\"sk-item\"><div class=\"sk-estimator sk-toggleable\"><input class=\"sk-toggleable__control sk-hidden--visually\" id=\"sk-estimator-id-94\" type=\"checkbox\" ><label for=\"sk-estimator-id-94\" class=\"sk-toggleable__label sk-toggleable__label-arrow\">SimpleImputer</label><div class=\"sk-toggleable__content\"><pre>SimpleImputer(missing_values=0)</pre></div></div></div><div class=\"sk-item\"><div class=\"sk-estimator sk-toggleable\"><input class=\"sk-toggleable__control sk-hidden--visually\" id=\"sk-estimator-id-95\" type=\"checkbox\" ><label for=\"sk-estimator-id-95\" class=\"sk-toggleable__label sk-toggleable__label-arrow\">MaxAbsScaler</label><div class=\"sk-toggleable__content\"><pre>MaxAbsScaler()</pre></div></div></div></div></div></div></div></div></div></div><div class=\"sk-item\"><div class=\"sk-estimator sk-toggleable\"><input class=\"sk-toggleable__control sk-hidden--visually\" id=\"sk-estimator-id-96\" type=\"checkbox\" ><label for=\"sk-estimator-id-96\" class=\"sk-toggleable__label sk-toggleable__label-arrow\">VarianceThreshold</label><div class=\"sk-toggleable__content\"><pre>VarianceThreshold(threshold=0.04)</pre></div></div></div><div class=\"sk-item\"><div class=\"sk-estimator sk-toggleable\"><input class=\"sk-toggleable__control sk-hidden--visually\" id=\"sk-estimator-id-97\" type=\"checkbox\" ><label for=\"sk-estimator-id-97\" class=\"sk-toggleable__label sk-toggleable__label-arrow\">SelectPercentile</label><div class=\"sk-toggleable__content\"><pre>SelectPercentile(percentile=85)</pre></div></div></div><div class=\"sk-item\"><div class=\"sk-estimator sk-toggleable\"><input class=\"sk-toggleable__control sk-hidden--visually\" id=\"sk-estimator-id-98\" type=\"checkbox\" ><label for=\"sk-estimator-id-98\" class=\"sk-toggleable__label sk-toggleable__label-arrow\">DropConstantFeatures</label><div class=\"sk-toggleable__content\"><pre>DropConstantFeatures(tol=0.85)</pre></div></div></div><div class=\"sk-item\"><div class=\"sk-estimator sk-toggleable\"><input class=\"sk-toggleable__control sk-hidden--visually\" id=\"sk-estimator-id-99\" type=\"checkbox\" ><label for=\"sk-estimator-id-99\" class=\"sk-toggleable__label sk-toggleable__label-arrow\">StandardScaler</label><div class=\"sk-toggleable__content\"><pre>StandardScaler()</pre></div></div></div></div></div><div class=\"sk-item\"><div class=\"sk-estimator sk-toggleable\"><input class=\"sk-toggleable__control sk-hidden--visually\" id=\"sk-estimator-id-100\" type=\"checkbox\" ><label for=\"sk-estimator-id-100\" class=\"sk-toggleable__label sk-toggleable__label-arrow\">MLPClassifier</label><div class=\"sk-toggleable__content\"><pre>MLPClassifier(hidden_layer_sizes=(10, 25),\n",
       "              learning_rate_init=0.00413941111797769, random_state=12359)</pre></div></div></div></div></div></div></div>"
      ],
      "text/plain": [
       "Pipeline(steps=[('processor',\n",
       "                 Pipeline(steps=[('transform',\n",
       "                                  ColumnTransformer(transformers=[('ord',\n",
       "                                                                   Pipeline(steps=[('imp',\n",
       "                                                                                    SimpleImputer(fill_value='No '\n",
       "                                                                                                             'Data',\n",
       "                                                                                                  strategy='constant')),\n",
       "                                                                                   ('Ord',\n",
       "                                                                                    OrdinalEncoder())]),\n",
       "                                                                   ['educação',\n",
       "                                                                    'mês',\n",
       "                                                                    'dia',\n",
       "                                                                    'duração',\n",
       "                                                                    'fe_cluster',\n",
       "                                                                    'idade_group']),\n",
       "                                                                  ('oho',\n",
       "                                                                   Pipeline(steps=[('imp',\n",
       "                                                                                    SimpleImputer(fill_value='No '\n",
       "                                                                                                             'Data',\n",
       "                                                                                                  strategy='consta...\n",
       "                                                                                   ('min',\n",
       "                                                                                    MaxAbsScaler())]),\n",
       "                                                                   ['ncontatos'])])),\n",
       "                                 ('variancethreshold',\n",
       "                                  VarianceThreshold(threshold=0.04)),\n",
       "                                 ('selectpercentile',\n",
       "                                  SelectPercentile(percentile=85)),\n",
       "                                 ('dropfeaturecorr',\n",
       "                                  DropConstantFeatures(tol=0.85)),\n",
       "                                 ('preprocessor', StandardScaler())])),\n",
       "                ('model',\n",
       "                 MLPClassifier(hidden_layer_sizes=(10, 25),\n",
       "                               learning_rate_init=0.00413941111797769,\n",
       "                               random_state=12359))])"
      ]
     },
     "metadata": {},
     "output_type": "display_data"
    },
    {
     "name": "stdout",
     "output_type": "stream",
     "text": [
      "F1-score: 0.640760\n"
     ]
    }
   ],
   "source": [
    "model_mlp_turning    = MLPClassifier(**params_mlp_turning)\n",
    "pipeline_mlp_turning = Pipeline(steps=[('processor', pipeline_processor), ('model', model_mlp_turning)])\n",
    "\n",
    "models = [('MLP', pipeline_mlp_turning, 1, 'mlp_tun', pipeline_processor, 15) ]\n",
    "    \n",
    "mdl_list_fit, df_pred_tr, df_pred_ts, df_score_mdl, score = \\\n",
    "    model_cv_fit(models_       = models, \n",
    "                 X_            = X_train,\n",
    "                 y_            = y_train, \n",
    "                 X_test_       = X_test,                  \n",
    "                 path_         = path, \n",
    "                 seed_         = seed,\n",
    "                 target_       = target,\n",
    "                 create_sub_   = False, \n",
    "                 n_splits_     = 10,\n",
    "                 print_report_ = True)\n",
    "\n",
    "_ = mdl_list_fit[0][2]\n",
    "display(_)\n",
    "\n",
    "print('F1-score: {:5f}'.format(f1_score(y_valid, _.predict(X_valid))))"
   ]
  },
  {
   "cell_type": "markdown",
   "id": "16049457",
   "metadata": {},
   "source": [
    "<div style=\"color:white;border-radius:8px;background-color:#a7d5ed\">    \n",
    "    <h1 style=\"padding:12px;color:black;\">5. TREINA MODELO COM NOVOS PARAMETROS </h1>    \n",
    "</div>"
   ]
  },
  {
   "cell_type": "code",
   "execution_count": 92,
   "id": "39c53be8",
   "metadata": {
    "ExecuteTime": {
     "end_time": "2022-12-27T02:41:56.726662Z",
     "start_time": "2022-12-27T02:40:59.959603Z"
    },
    "scrolled": false
   },
   "outputs": [
    {
     "name": "stdout",
     "output_type": "stream",
     "text": [
      "\n",
      "=> XGB\n",
      "==========================================================================================\n",
      "Fold 1 => F1-score: 0.74142 - F1-Train: 0.76243 - AUC:0.81541 - L.Loss: 0.41404 - 0h 0m 1s\n",
      "Fold 2 => F1-score: 0.71461 - F1-Train: 0.76210 - AUC:0.79177 - L.Loss: 0.46463 - 0h 0m 1s\n",
      "Fold 3 => F1-score: 0.71560 - F1-Train: 0.76088 - AUC:0.79179 - L.Loss: 0.43895 - 0h 0m 1s\n",
      "Fold 4 => F1-score: 0.73423 - F1-Train: 0.75942 - AUC:0.80889 - L.Loss: 0.42269 - 0h 0m 1s\n",
      "Fold 5 => F1-score: 0.75893 - F1-Train: 0.75632 - AUC:0.83127 - L.Loss: 0.39778 - 0h 0m 1s\n",
      "Fold 6 => F1-score: 0.72124 - F1-Train: 0.76116 - AUC:0.79929 - L.Loss: 0.45529 - 0h 0m 1s\n",
      "Fold 7 => F1-score: 0.75058 - F1-Train: 0.75958 - AUC:0.82170 - L.Loss: 0.40261 - 0h 0m 1s\n",
      "Fold 8 => F1-score: 0.71622 - F1-Train: 0.76395 - AUC:0.79399 - L.Loss: 0.45435 - 0h 0m 1s\n",
      "Fold 9 => F1-score: 0.73412 - F1-Train: 0.75987 - AUC:0.80716 - L.Loss: 0.41979 - 0h 0m 1s\n",
      "Fold 10 => F1-score: 0.76959 - F1-Train: 0.75691 - AUC:0.83890 - L.Loss: 0.40110 - 0h 0m 1s\n",
      "------------------------------------------------------------------------------------------\n",
      "\u001b[32m\u001b[1m[Mean] => F1-score: 0.73565 (+-0.0184) - F1-Train: 0.76026 - L.Loss: 0.42712 - 0h 0m 16s\u001b[0m\n",
      "==========================================================================================\n",
      "\n",
      "              precision    recall  f1-score   support\n",
      "\n",
      "           0       0.91      0.77      0.83      3791\n",
      "           1       0.65      0.85      0.74      1894\n",
      "\n",
      "    accuracy                           0.80      5685\n",
      "   macro avg       0.78      0.81      0.78      5685\n",
      "weighted avg       0.82      0.80      0.80      5685\n",
      "\n",
      "[[2907  884]\n",
      " [ 278 1616]]\n",
      "\n",
      "=> LGBM\n",
      "==========================================================================================\n",
      "Fold 1 => F1-score: 0.74886 - F1-Train: 0.76147 - AUC:0.82202 - L.Loss: 0.41437 - 0h 0m 0s\n",
      "Fold 2 => F1-score: 0.70824 - F1-Train: 0.76399 - AUC:0.78649 - L.Loss: 0.46778 - 0h 0m 0s\n",
      "Fold 3 => F1-score: 0.71818 - F1-Train: 0.76460 - AUC:0.79442 - L.Loss: 0.44472 - 0h 0m 0s\n",
      "Fold 4 => F1-score: 0.74439 - F1-Train: 0.76683 - AUC:0.81811 - L.Loss: 0.42483 - 0h 0m 0s\n",
      "Fold 5 => F1-score: 0.76615 - F1-Train: 0.75712 - AUC:0.83786 - L.Loss: 0.39979 - 0h 0m 0s\n",
      "Fold 6 => F1-score: 0.70510 - F1-Train: 0.76325 - AUC:0.78475 - L.Loss: 0.45583 - 0h 0m 0s\n",
      "Fold 7 => F1-score: 0.74005 - F1-Train: 0.76377 - AUC:0.81245 - L.Loss: 0.40207 - 0h 0m 0s\n",
      "Fold 8 => F1-score: 0.72606 - F1-Train: 0.76811 - AUC:0.80325 - L.Loss: 0.46053 - 0h 0m 0s\n",
      "Fold 9 => F1-score: 0.73159 - F1-Train: 0.76372 - AUC:0.80451 - L.Loss: 0.42252 - 0h 0m 0s\n",
      "Fold 10 => F1-score: 0.77030 - F1-Train: 0.75703 - AUC:0.83889 - L.Loss: 0.40473 - 0h 0m 0s\n",
      "------------------------------------------------------------------------------------------\n",
      "\u001b[32m\u001b[1m[Mean] => F1-score: 0.73589 (+-0.02121) - F1-Train: 0.76299 - L.Loss: 0.42972 - 0h 0m 6s\u001b[0m\n",
      "==========================================================================================\n",
      "\n",
      "              precision    recall  f1-score   support\n",
      "\n",
      "           0       0.91      0.77      0.83      3791\n",
      "           1       0.65      0.85      0.74      1894\n",
      "\n",
      "    accuracy                           0.80      5685\n",
      "   macro avg       0.78      0.81      0.78      5685\n",
      "weighted avg       0.82      0.80      0.80      5685\n",
      "\n",
      "[[2903  888]\n",
      " [ 275 1619]]\n",
      "\n",
      "=> HGB\n",
      "==========================================================================================\n",
      "Fold 1 => F1-score: 0.70241 - F1-Train: 0.71769 - AUC:0.77682 - L.Loss: 0.40109 - 0h 0m 0s\n",
      "Fold 2 => F1-score: 0.67200 - F1-Train: 0.72032 - AUC:0.75374 - L.Loss: 0.43802 - 0h 0m 0s\n",
      "Fold 3 => F1-score: 0.69377 - F1-Train: 0.71407 - AUC:0.76956 - L.Loss: 0.42486 - 0h 0m 0s\n",
      "Fold 4 => F1-score: 0.69474 - F1-Train: 0.71627 - AUC:0.77085 - L.Loss: 0.41387 - 0h 0m 0s\n",
      "Fold 5 => F1-score: 0.75253 - F1-Train: 0.71713 - AUC:0.81691 - L.Loss: 0.36894 - 0h 0m 0s\n",
      "Fold 6 => F1-score: 0.69479 - F1-Train: 0.71700 - AUC:0.77275 - L.Loss: 0.42226 - 0h 0m 0s\n",
      "Fold 7 => F1-score: 0.68280 - F1-Train: 0.71333 - AUC:0.76210 - L.Loss: 0.39396 - 0h 0m 0s\n",
      "Fold 8 => F1-score: 0.67176 - F1-Train: 0.72240 - AUC:0.75422 - L.Loss: 0.41410 - 0h 0m 0s\n",
      "Fold 9 => F1-score: 0.71892 - F1-Train: 0.70619 - AUC:0.78853 - L.Loss: 0.40377 - 0h 0m 0s\n",
      "Fold 10 => F1-score: 0.73107 - F1-Train: 0.71416 - AUC:0.79913 - L.Loss: 0.39223 - 0h 0m 0s\n",
      "------------------------------------------------------------------------------------------\n",
      "\u001b[32m\u001b[1m[Mean] => F1-score: 0.70148 (+-0.02457) - F1-Train: 0.71586 - L.Loss: 0.40731 - 0h 0m 5s\u001b[0m\n",
      "==========================================================================================\n",
      "\n",
      "              precision    recall  f1-score   support\n",
      "\n",
      "           0       0.85      0.85      0.85      3791\n",
      "           1       0.70      0.71      0.70      1894\n",
      "\n",
      "    accuracy                           0.80      5685\n",
      "   macro avg       0.77      0.78      0.78      5685\n",
      "weighted avg       0.80      0.80      0.80      5685\n",
      "\n",
      "[[3209  582]\n",
      " [ 556 1338]]\n",
      "\n",
      "=> MLP\n",
      "==========================================================================================\n",
      "Fold 1 => F1-score: 0.66319 - F1-Train: 0.74251 - AUC:0.74782 - L.Loss: 0.47263 - 0h 0m 3s\n",
      "Fold 2 => F1-score: 0.64516 - F1-Train: 0.74450 - AUC:0.73261 - L.Loss: 0.51858 - 0h 0m 3s\n",
      "Fold 3 => F1-score: 0.66319 - F1-Train: 0.73744 - AUC:0.74714 - L.Loss: 0.48391 - 0h 0m 2s\n",
      "Fold 4 => F1-score: 0.60335 - F1-Train: 0.72848 - AUC:0.70505 - L.Loss: 0.49400 - 0h 0m 3s\n",
      "Fold 5 => F1-score: 0.69192 - F1-Train: 0.73529 - AUC:0.76950 - L.Loss: 0.45144 - 0h 0m 3s\n",
      "Fold 6 => F1-score: 0.62887 - F1-Train: 0.72188 - AUC:0.72117 - L.Loss: 0.53477 - 0h 0m 2s\n",
      "Fold 7 => F1-score: 0.68718 - F1-Train: 0.73050 - AUC:0.76611 - L.Loss: 0.46565 - 0h 0m 2s\n",
      "Fold 8 => F1-score: 0.66015 - F1-Train: 0.74074 - AUC:0.74501 - L.Loss: 0.47704 - 0h 0m 2s\n",
      "Fold 9 => F1-score: 0.67157 - F1-Train: 0.74607 - AUC:0.75425 - L.Loss: 0.50426 - 0h 0m 3s\n",
      "Fold 10 => F1-score: 0.66324 - F1-Train: 0.72798 - AUC:0.74760 - L.Loss: 0.45623 - 0h 0m 1s\n",
      "------------------------------------------------------------------------------------------\n",
      "\u001b[32m\u001b[1m[Mean] => F1-score: 0.65778 (+-0.02504) - F1-Train: 0.73554 - L.Loss: 0.48585 - 0h 0m 28s\u001b[0m\n",
      "==========================================================================================\n",
      "\n",
      "              precision    recall  f1-score   support\n",
      "\n",
      "           0       0.83      0.81      0.82      3791\n",
      "           1       0.64      0.68      0.66      1894\n",
      "\n",
      "    accuracy                           0.77      5685\n",
      "   macro avg       0.74      0.74      0.74      5685\n",
      "weighted avg       0.77      0.77      0.77      5685\n",
      "\n",
      "[[3064  727]\n",
      " [ 608 1286]]\n",
      "\n"
     ]
    },
    {
     "data": {
      "text/html": [
       "<div>\n",
       "<style scoped>\n",
       "    .dataframe tbody tr th:only-of-type {\n",
       "        vertical-align: middle;\n",
       "    }\n",
       "\n",
       "    .dataframe tbody tr th {\n",
       "        vertical-align: top;\n",
       "    }\n",
       "\n",
       "    .dataframe thead th {\n",
       "        text-align: right;\n",
       "    }\n",
       "</style>\n",
       "<table border=\"1\" class=\"dataframe\">\n",
       "  <thead>\n",
       "    <tr style=\"text-align: right;\">\n",
       "      <th></th>\n",
       "      <th>score</th>\n",
       "    </tr>\n",
       "  </thead>\n",
       "  <tbody>\n",
       "    <tr>\n",
       "      <th>LGBM</th>\n",
       "      <td>0.73589</td>\n",
       "    </tr>\n",
       "    <tr>\n",
       "      <th>XGB</th>\n",
       "      <td>0.73565</td>\n",
       "    </tr>\n",
       "    <tr>\n",
       "      <th>HGB</th>\n",
       "      <td>0.70148</td>\n",
       "    </tr>\n",
       "    <tr>\n",
       "      <th>MLP</th>\n",
       "      <td>0.65778</td>\n",
       "    </tr>\n",
       "  </tbody>\n",
       "</table>\n",
       "</div>"
      ],
      "text/plain": [
       "        score\n",
       "LGBM  0.73589\n",
       "XGB   0.73565\n",
       "HGB   0.70148\n",
       "MLP   0.65778"
      ]
     },
     "metadata": {},
     "output_type": "display_data"
    }
   ],
   "source": [
    "pipeline_processor_turning = Pipeline(steps=[\n",
    "    transf_column, \n",
    "    var_threshold, \n",
    "    sel_percentile, \n",
    "    drop_feature_cor,\n",
    "    scaler\n",
    "])\n",
    "\n",
    "if torch.cuda.is_available():           \n",
    "    params_xgb_turning.update({'tree_method': 'gpu_hist','predictor': 'gpu_predictor'})\n",
    "\n",
    "# Classificadores\n",
    "model_xgb_turning  = xgb.XGBClassifier(**params_xgb_turning)\n",
    "model_lgbm_turning = lgb.LGBMClassifier(**params_lgb_turning)\n",
    "model_hgb_turning  = HistGradientBoostingClassifier(**params_hgb_turning)\n",
    "model_mlp_turning  = MLPClassifier(**params_mlp_turning)\n",
    "\n",
    "# Pipeline\n",
    "pipeline_xgb_turning  = Pipeline(steps=[('processor', pipeline_processor_turning), ('model', model_xgb_turning)])\n",
    "pipeline_hgb_turning  = Pipeline(steps=[('processor', pipeline_processor_turning), ('model', model_hgb_turning)])\n",
    "pipeline_lgbm_turning = Pipeline(steps=[('processor', pipeline_processor), ('model', model_lgbm_turning)])\n",
    "\n",
    "models = [\n",
    "    ('XGB', pipeline_xgb_turning, 1, 'xgb_tun_end_pp', pipeline_processor, 15),     \n",
    "    ('LGBM', pipeline_lgbm_turning, 1, 'lgbm_tun_end_pp', pipeline_processor, 15), \n",
    "    ('HGB', pipeline_hgb_turning, 1, 'hbc_tun_end_pp', pipeline_processor, 15), \n",
    "    ('MLP', pipeline_mlp_turning, 1, 'mlp_tun_end_pp', pipeline_processor, 15)\n",
    "]\n",
    "   \n",
    "mdl_list_fit, df_pred_tr_average, df_pred_ts_average, df_score_mdl, score = \\\n",
    "    model_cv_fit(models_                   = models, \n",
    "                 X_                        = X,\n",
    "                 y_                        = y, \n",
    "                 X_test_                   = X_test,                  \n",
    "                 path_                     = path, \n",
    "                 seed_                     = seed,\n",
    "                 target_                   = target,\n",
    "                 create_sub_               = False, \n",
    "                 n_splits_                 = 10,\n",
    "                 print_report_             = True, \n",
    "                 cutoff_value_save_        = .6,\n",
    "                 train_with_created_folds_ = True)"
   ]
  },
  {
   "cell_type": "markdown",
   "id": "f5b6e304",
   "metadata": {},
   "source": [
    "## 5.1. Modelo de media"
   ]
  },
  {
   "cell_type": "code",
   "execution_count": 93,
   "id": "e37774b0",
   "metadata": {
    "ExecuteTime": {
     "end_time": "2022-12-27T02:42:13.460277Z",
     "start_time": "2022-12-27T02:42:13.447275Z"
    }
   },
   "outputs": [
    {
     "data": {
      "text/html": [
       "<div>\n",
       "<style scoped>\n",
       "    .dataframe tbody tr th:only-of-type {\n",
       "        vertical-align: middle;\n",
       "    }\n",
       "\n",
       "    .dataframe tbody tr th {\n",
       "        vertical-align: top;\n",
       "    }\n",
       "\n",
       "    .dataframe thead th {\n",
       "        text-align: right;\n",
       "    }\n",
       "</style>\n",
       "<table border=\"1\" class=\"dataframe\">\n",
       "  <thead>\n",
       "    <tr style=\"text-align: right;\">\n",
       "      <th></th>\n",
       "      <th>MLP_0.64052</th>\n",
       "    </tr>\n",
       "  </thead>\n",
       "  <tbody>\n",
       "    <tr>\n",
       "      <th>0</th>\n",
       "      <td>0.000231</td>\n",
       "    </tr>\n",
       "    <tr>\n",
       "      <th>1</th>\n",
       "      <td>0.073064</td>\n",
       "    </tr>\n",
       "    <tr>\n",
       "      <th>2</th>\n",
       "      <td>0.124189</td>\n",
       "    </tr>\n",
       "    <tr>\n",
       "      <th>3</th>\n",
       "      <td>0.000268</td>\n",
       "    </tr>\n",
       "    <tr>\n",
       "      <th>4</th>\n",
       "      <td>0.978491</td>\n",
       "    </tr>\n",
       "  </tbody>\n",
       "</table>\n",
       "</div>"
      ],
      "text/plain": [
       "   MLP_0.64052\n",
       "0     0.000231\n",
       "1     0.073064\n",
       "2     0.124189\n",
       "3     0.000268\n",
       "4     0.978491"
      ]
     },
     "execution_count": 93,
     "metadata": {},
     "output_type": "execute_result"
    }
   ],
   "source": [
    "df_pred_tr.head()"
   ]
  },
  {
   "cell_type": "code",
   "execution_count": 94,
   "id": "1cf97cee",
   "metadata": {
    "ExecuteTime": {
     "end_time": "2022-12-27T02:42:33.653961Z",
     "start_time": "2022-12-27T02:42:30.204207Z"
    }
   },
   "outputs": [
    {
     "ename": "ValueError",
     "evalue": "Found input variables with inconsistent numbers of samples: [5685, 3979]",
     "output_type": "error",
     "traceback": [
      "\u001b[1;31m---------------------------------------------------------------------------\u001b[0m",
      "\u001b[1;31mValueError\u001b[0m                                Traceback (most recent call last)",
      "Cell \u001b[1;32mIn [94], line 6\u001b[0m\n\u001b[0;32m      4\u001b[0m th \u001b[38;5;241m=\u001b[39m \u001b[38;5;241m.5\u001b[39m\n\u001b[0;32m      5\u001b[0m \u001b[38;5;28;01mfor\u001b[39;00m mdl \u001b[38;5;129;01min\u001b[39;00m df_pred_tr\u001b[38;5;241m.\u001b[39mcolumns\u001b[38;5;241m.\u001b[39mto_list():\n\u001b[1;32m----> 6\u001b[0m     f1 \u001b[38;5;241m=\u001b[39m \u001b[43mf1_score\u001b[49m\u001b[43m(\u001b[49m\u001b[43my\u001b[49m\u001b[43m,\u001b[49m\u001b[43m \u001b[49m\u001b[43m(\u001b[49m\u001b[43mdf_pred_tr\u001b[49m\u001b[43m[\u001b[49m\u001b[43mmdl\u001b[49m\u001b[43m]\u001b[49m\u001b[38;5;241;43m>\u001b[39;49m\u001b[43mth\u001b[49m\u001b[43m)\u001b[49m\u001b[38;5;241;43m.\u001b[39;49m\u001b[43mastype\u001b[49m\u001b[43m(\u001b[49m\u001b[38;5;28;43mint\u001b[39;49m\u001b[43m)\u001b[49m\u001b[43m \u001b[49m\u001b[43m)\u001b[49m\n\u001b[0;32m      7\u001b[0m     \u001b[38;5;28mprint\u001b[39m(\u001b[38;5;124m'\u001b[39m\u001b[38;5;124mF1-score: \u001b[39m\u001b[38;5;132;01m{:5f}\u001b[39;00m\u001b[38;5;124m => \u001b[39m\u001b[38;5;132;01m{}\u001b[39;00m\u001b[38;5;124m'\u001b[39m\u001b[38;5;241m.\u001b[39mformat(f1, mdl))\n",
      "File \u001b[1;32md:\\virtualenv\\dev\\lib\\site-packages\\sklearn\\metrics\\_classification.py:1136\u001b[0m, in \u001b[0;36mf1_score\u001b[1;34m(y_true, y_pred, labels, pos_label, average, sample_weight, zero_division)\u001b[0m\n\u001b[0;32m   1001\u001b[0m \u001b[38;5;28;01mdef\u001b[39;00m \u001b[38;5;21mf1_score\u001b[39m(\n\u001b[0;32m   1002\u001b[0m     y_true,\n\u001b[0;32m   1003\u001b[0m     y_pred,\n\u001b[1;32m   (...)\u001b[0m\n\u001b[0;32m   1009\u001b[0m     zero_division\u001b[38;5;241m=\u001b[39m\u001b[38;5;124m\"\u001b[39m\u001b[38;5;124mwarn\u001b[39m\u001b[38;5;124m\"\u001b[39m,\n\u001b[0;32m   1010\u001b[0m ):\n\u001b[0;32m   1011\u001b[0m     \u001b[38;5;124;03m\"\"\"Compute the F1 score, also known as balanced F-score or F-measure.\u001b[39;00m\n\u001b[0;32m   1012\u001b[0m \n\u001b[0;32m   1013\u001b[0m \u001b[38;5;124;03m    The F1 score can be interpreted as a harmonic mean of the precision and\u001b[39;00m\n\u001b[1;32m   (...)\u001b[0m\n\u001b[0;32m   1134\u001b[0m \u001b[38;5;124;03m    array([0.66666667, 1.        , 0.66666667])\u001b[39;00m\n\u001b[0;32m   1135\u001b[0m \u001b[38;5;124;03m    \"\"\"\u001b[39;00m\n\u001b[1;32m-> 1136\u001b[0m     \u001b[38;5;28;01mreturn\u001b[39;00m \u001b[43mfbeta_score\u001b[49m\u001b[43m(\u001b[49m\n\u001b[0;32m   1137\u001b[0m \u001b[43m        \u001b[49m\u001b[43my_true\u001b[49m\u001b[43m,\u001b[49m\n\u001b[0;32m   1138\u001b[0m \u001b[43m        \u001b[49m\u001b[43my_pred\u001b[49m\u001b[43m,\u001b[49m\n\u001b[0;32m   1139\u001b[0m \u001b[43m        \u001b[49m\u001b[43mbeta\u001b[49m\u001b[38;5;241;43m=\u001b[39;49m\u001b[38;5;241;43m1\u001b[39;49m\u001b[43m,\u001b[49m\n\u001b[0;32m   1140\u001b[0m \u001b[43m        \u001b[49m\u001b[43mlabels\u001b[49m\u001b[38;5;241;43m=\u001b[39;49m\u001b[43mlabels\u001b[49m\u001b[43m,\u001b[49m\n\u001b[0;32m   1141\u001b[0m \u001b[43m        \u001b[49m\u001b[43mpos_label\u001b[49m\u001b[38;5;241;43m=\u001b[39;49m\u001b[43mpos_label\u001b[49m\u001b[43m,\u001b[49m\n\u001b[0;32m   1142\u001b[0m \u001b[43m        \u001b[49m\u001b[43maverage\u001b[49m\u001b[38;5;241;43m=\u001b[39;49m\u001b[43maverage\u001b[49m\u001b[43m,\u001b[49m\n\u001b[0;32m   1143\u001b[0m \u001b[43m        \u001b[49m\u001b[43msample_weight\u001b[49m\u001b[38;5;241;43m=\u001b[39;49m\u001b[43msample_weight\u001b[49m\u001b[43m,\u001b[49m\n\u001b[0;32m   1144\u001b[0m \u001b[43m        \u001b[49m\u001b[43mzero_division\u001b[49m\u001b[38;5;241;43m=\u001b[39;49m\u001b[43mzero_division\u001b[49m\u001b[43m,\u001b[49m\n\u001b[0;32m   1145\u001b[0m \u001b[43m    \u001b[49m\u001b[43m)\u001b[49m\n",
      "File \u001b[1;32md:\\virtualenv\\dev\\lib\\site-packages\\sklearn\\metrics\\_classification.py:1277\u001b[0m, in \u001b[0;36mfbeta_score\u001b[1;34m(y_true, y_pred, beta, labels, pos_label, average, sample_weight, zero_division)\u001b[0m\n\u001b[0;32m   1148\u001b[0m \u001b[38;5;28;01mdef\u001b[39;00m \u001b[38;5;21mfbeta_score\u001b[39m(\n\u001b[0;32m   1149\u001b[0m     y_true,\n\u001b[0;32m   1150\u001b[0m     y_pred,\n\u001b[1;32m   (...)\u001b[0m\n\u001b[0;32m   1157\u001b[0m     zero_division\u001b[38;5;241m=\u001b[39m\u001b[38;5;124m\"\u001b[39m\u001b[38;5;124mwarn\u001b[39m\u001b[38;5;124m\"\u001b[39m,\n\u001b[0;32m   1158\u001b[0m ):\n\u001b[0;32m   1159\u001b[0m     \u001b[38;5;124;03m\"\"\"Compute the F-beta score.\u001b[39;00m\n\u001b[0;32m   1160\u001b[0m \n\u001b[0;32m   1161\u001b[0m \u001b[38;5;124;03m    The F-beta score is the weighted harmonic mean of precision and recall,\u001b[39;00m\n\u001b[1;32m   (...)\u001b[0m\n\u001b[0;32m   1274\u001b[0m \u001b[38;5;124;03m    array([0.71..., 0.        , 0.        ])\u001b[39;00m\n\u001b[0;32m   1275\u001b[0m \u001b[38;5;124;03m    \"\"\"\u001b[39;00m\n\u001b[1;32m-> 1277\u001b[0m     _, _, f, _ \u001b[38;5;241m=\u001b[39m \u001b[43mprecision_recall_fscore_support\u001b[49m\u001b[43m(\u001b[49m\n\u001b[0;32m   1278\u001b[0m \u001b[43m        \u001b[49m\u001b[43my_true\u001b[49m\u001b[43m,\u001b[49m\n\u001b[0;32m   1279\u001b[0m \u001b[43m        \u001b[49m\u001b[43my_pred\u001b[49m\u001b[43m,\u001b[49m\n\u001b[0;32m   1280\u001b[0m \u001b[43m        \u001b[49m\u001b[43mbeta\u001b[49m\u001b[38;5;241;43m=\u001b[39;49m\u001b[43mbeta\u001b[49m\u001b[43m,\u001b[49m\n\u001b[0;32m   1281\u001b[0m \u001b[43m        \u001b[49m\u001b[43mlabels\u001b[49m\u001b[38;5;241;43m=\u001b[39;49m\u001b[43mlabels\u001b[49m\u001b[43m,\u001b[49m\n\u001b[0;32m   1282\u001b[0m \u001b[43m        \u001b[49m\u001b[43mpos_label\u001b[49m\u001b[38;5;241;43m=\u001b[39;49m\u001b[43mpos_label\u001b[49m\u001b[43m,\u001b[49m\n\u001b[0;32m   1283\u001b[0m \u001b[43m        \u001b[49m\u001b[43maverage\u001b[49m\u001b[38;5;241;43m=\u001b[39;49m\u001b[43maverage\u001b[49m\u001b[43m,\u001b[49m\n\u001b[0;32m   1284\u001b[0m \u001b[43m        \u001b[49m\u001b[43mwarn_for\u001b[49m\u001b[38;5;241;43m=\u001b[39;49m\u001b[43m(\u001b[49m\u001b[38;5;124;43m\"\u001b[39;49m\u001b[38;5;124;43mf-score\u001b[39;49m\u001b[38;5;124;43m\"\u001b[39;49m\u001b[43m,\u001b[49m\u001b[43m)\u001b[49m\u001b[43m,\u001b[49m\n\u001b[0;32m   1285\u001b[0m \u001b[43m        \u001b[49m\u001b[43msample_weight\u001b[49m\u001b[38;5;241;43m=\u001b[39;49m\u001b[43msample_weight\u001b[49m\u001b[43m,\u001b[49m\n\u001b[0;32m   1286\u001b[0m \u001b[43m        \u001b[49m\u001b[43mzero_division\u001b[49m\u001b[38;5;241;43m=\u001b[39;49m\u001b[43mzero_division\u001b[49m\u001b[43m,\u001b[49m\n\u001b[0;32m   1287\u001b[0m \u001b[43m    \u001b[49m\u001b[43m)\u001b[49m\n\u001b[0;32m   1288\u001b[0m     \u001b[38;5;28;01mreturn\u001b[39;00m f\n",
      "File \u001b[1;32md:\\virtualenv\\dev\\lib\\site-packages\\sklearn\\metrics\\_classification.py:1563\u001b[0m, in \u001b[0;36mprecision_recall_fscore_support\u001b[1;34m(y_true, y_pred, beta, labels, pos_label, average, warn_for, sample_weight, zero_division)\u001b[0m\n\u001b[0;32m   1561\u001b[0m \u001b[38;5;28;01mif\u001b[39;00m beta \u001b[38;5;241m<\u001b[39m \u001b[38;5;241m0\u001b[39m:\n\u001b[0;32m   1562\u001b[0m     \u001b[38;5;28;01mraise\u001b[39;00m \u001b[38;5;167;01mValueError\u001b[39;00m(\u001b[38;5;124m\"\u001b[39m\u001b[38;5;124mbeta should be >=0 in the F-beta score\u001b[39m\u001b[38;5;124m\"\u001b[39m)\n\u001b[1;32m-> 1563\u001b[0m labels \u001b[38;5;241m=\u001b[39m \u001b[43m_check_set_wise_labels\u001b[49m\u001b[43m(\u001b[49m\u001b[43my_true\u001b[49m\u001b[43m,\u001b[49m\u001b[43m \u001b[49m\u001b[43my_pred\u001b[49m\u001b[43m,\u001b[49m\u001b[43m \u001b[49m\u001b[43maverage\u001b[49m\u001b[43m,\u001b[49m\u001b[43m \u001b[49m\u001b[43mlabels\u001b[49m\u001b[43m,\u001b[49m\u001b[43m \u001b[49m\u001b[43mpos_label\u001b[49m\u001b[43m)\u001b[49m\n\u001b[0;32m   1565\u001b[0m \u001b[38;5;66;03m# Calculate tp_sum, pred_sum, true_sum ###\u001b[39;00m\n\u001b[0;32m   1566\u001b[0m samplewise \u001b[38;5;241m=\u001b[39m average \u001b[38;5;241m==\u001b[39m \u001b[38;5;124m\"\u001b[39m\u001b[38;5;124msamples\u001b[39m\u001b[38;5;124m\"\u001b[39m\n",
      "File \u001b[1;32md:\\virtualenv\\dev\\lib\\site-packages\\sklearn\\metrics\\_classification.py:1364\u001b[0m, in \u001b[0;36m_check_set_wise_labels\u001b[1;34m(y_true, y_pred, average, labels, pos_label)\u001b[0m\n\u001b[0;32m   1361\u001b[0m \u001b[38;5;28;01mif\u001b[39;00m average \u001b[38;5;129;01mnot\u001b[39;00m \u001b[38;5;129;01min\u001b[39;00m average_options \u001b[38;5;129;01mand\u001b[39;00m average \u001b[38;5;241m!=\u001b[39m \u001b[38;5;124m\"\u001b[39m\u001b[38;5;124mbinary\u001b[39m\u001b[38;5;124m\"\u001b[39m:\n\u001b[0;32m   1362\u001b[0m     \u001b[38;5;28;01mraise\u001b[39;00m \u001b[38;5;167;01mValueError\u001b[39;00m(\u001b[38;5;124m\"\u001b[39m\u001b[38;5;124maverage has to be one of \u001b[39m\u001b[38;5;124m\"\u001b[39m \u001b[38;5;241m+\u001b[39m \u001b[38;5;28mstr\u001b[39m(average_options))\n\u001b[1;32m-> 1364\u001b[0m y_type, y_true, y_pred \u001b[38;5;241m=\u001b[39m \u001b[43m_check_targets\u001b[49m\u001b[43m(\u001b[49m\u001b[43my_true\u001b[49m\u001b[43m,\u001b[49m\u001b[43m \u001b[49m\u001b[43my_pred\u001b[49m\u001b[43m)\u001b[49m\n\u001b[0;32m   1365\u001b[0m \u001b[38;5;66;03m# Convert to Python primitive type to avoid NumPy type / Python str\u001b[39;00m\n\u001b[0;32m   1366\u001b[0m \u001b[38;5;66;03m# comparison. See https://github.com/numpy/numpy/issues/6784\u001b[39;00m\n\u001b[0;32m   1367\u001b[0m present_labels \u001b[38;5;241m=\u001b[39m unique_labels(y_true, y_pred)\u001b[38;5;241m.\u001b[39mtolist()\n",
      "File \u001b[1;32md:\\virtualenv\\dev\\lib\\site-packages\\sklearn\\metrics\\_classification.py:84\u001b[0m, in \u001b[0;36m_check_targets\u001b[1;34m(y_true, y_pred)\u001b[0m\n\u001b[0;32m     57\u001b[0m \u001b[38;5;28;01mdef\u001b[39;00m \u001b[38;5;21m_check_targets\u001b[39m(y_true, y_pred):\n\u001b[0;32m     58\u001b[0m     \u001b[38;5;124;03m\"\"\"Check that y_true and y_pred belong to the same classification task.\u001b[39;00m\n\u001b[0;32m     59\u001b[0m \n\u001b[0;32m     60\u001b[0m \u001b[38;5;124;03m    This converts multiclass or binary types to a common shape, and raises a\u001b[39;00m\n\u001b[1;32m   (...)\u001b[0m\n\u001b[0;32m     82\u001b[0m \u001b[38;5;124;03m    y_pred : array or indicator matrix\u001b[39;00m\n\u001b[0;32m     83\u001b[0m \u001b[38;5;124;03m    \"\"\"\u001b[39;00m\n\u001b[1;32m---> 84\u001b[0m     \u001b[43mcheck_consistent_length\u001b[49m\u001b[43m(\u001b[49m\u001b[43my_true\u001b[49m\u001b[43m,\u001b[49m\u001b[43m \u001b[49m\u001b[43my_pred\u001b[49m\u001b[43m)\u001b[49m\n\u001b[0;32m     85\u001b[0m     type_true \u001b[38;5;241m=\u001b[39m type_of_target(y_true, input_name\u001b[38;5;241m=\u001b[39m\u001b[38;5;124m\"\u001b[39m\u001b[38;5;124my_true\u001b[39m\u001b[38;5;124m\"\u001b[39m)\n\u001b[0;32m     86\u001b[0m     type_pred \u001b[38;5;241m=\u001b[39m type_of_target(y_pred, input_name\u001b[38;5;241m=\u001b[39m\u001b[38;5;124m\"\u001b[39m\u001b[38;5;124my_pred\u001b[39m\u001b[38;5;124m\"\u001b[39m)\n",
      "File \u001b[1;32md:\\virtualenv\\dev\\lib\\site-packages\\sklearn\\utils\\validation.py:387\u001b[0m, in \u001b[0;36mcheck_consistent_length\u001b[1;34m(*arrays)\u001b[0m\n\u001b[0;32m    385\u001b[0m uniques \u001b[38;5;241m=\u001b[39m np\u001b[38;5;241m.\u001b[39munique(lengths)\n\u001b[0;32m    386\u001b[0m \u001b[38;5;28;01mif\u001b[39;00m \u001b[38;5;28mlen\u001b[39m(uniques) \u001b[38;5;241m>\u001b[39m \u001b[38;5;241m1\u001b[39m:\n\u001b[1;32m--> 387\u001b[0m     \u001b[38;5;28;01mraise\u001b[39;00m \u001b[38;5;167;01mValueError\u001b[39;00m(\n\u001b[0;32m    388\u001b[0m         \u001b[38;5;124m\"\u001b[39m\u001b[38;5;124mFound input variables with inconsistent numbers of samples: \u001b[39m\u001b[38;5;132;01m%r\u001b[39;00m\u001b[38;5;124m\"\u001b[39m\n\u001b[0;32m    389\u001b[0m         \u001b[38;5;241m%\u001b[39m [\u001b[38;5;28mint\u001b[39m(l) \u001b[38;5;28;01mfor\u001b[39;00m l \u001b[38;5;129;01min\u001b[39;00m lengths]\n\u001b[0;32m    390\u001b[0m     )\n",
      "\u001b[1;31mValueError\u001b[0m: Found input variables with inconsistent numbers of samples: [5685, 3979]"
     ]
    }
   ],
   "source": [
    "df_pred_tr['model_mean'] = df_pred_tr.mean(axis=1)\n",
    "df_pred_ts['model_mean'] = df_pred_ts.mean(axis=1)\n",
    "\n",
    "th = .5\n",
    "for mdl in df_pred_tr.columns.to_list():\n",
    "    f1 = f1_score(y, (df_pred_tr[mdl]>th).astype(int) )\n",
    "    print('F1-score: {:5f} => {}'.format(f1, mdl))"
   ]
  },
  {
   "cell_type": "markdown",
   "id": "b249459a",
   "metadata": {},
   "source": [
    "## 5.2. Análise da distribuição\n",
    "Antes de gerar os gráficos vamos criar uma coluna com a média dos modelos "
   ]
  },
  {
   "cell_type": "code",
   "execution_count": null,
   "id": "b5449613",
   "metadata": {
    "ExecuteTime": {
     "end_time": "2022-12-27T02:42:33.665931Z",
     "start_time": "2022-12-27T02:42:33.665931Z"
    },
    "code_folding": [
     5
    ]
   },
   "outputs": [],
   "source": [
    "cols = df_pred_tr.columns\n",
    "rows  = int((len(cols)))\n",
    "\n",
    "fig, axs = plt.subplots(rows, 2, figsize=(20, 20))  \n",
    "\n",
    "for i, col in enumerate(cols): \n",
    "\n",
    "    y_pred_tr_proba = df_pred_tr[col]\n",
    "    y_pred_vl_proba = df_pred_ts[col]\n",
    "\n",
    "    axs[i][0].hist(y_pred_tr_proba, range=(0, 1), bins=100, density=True, color='#ffd700', label='Traino')\n",
    "    axs[i][0].hist(y_pred_vl_proba, range=(0, 1), bins=100, density=True, color='#0057b8', label='Teste')\n",
    "    axs[i][0].set_title(col, fontsize=16)\n",
    "    axs[i][0].legend()\n",
    "\n",
    "    CalibrationDisplay.from_predictions(y, y_pred_tr_proba, ax=axs[i][1], n_bins=20, strategy='quantile', color='b')\n",
    "    axs[i][1].set_title('Probability calibration')\n",
    "    axs[i][0].set_xlabel('')\n",
    "    axs[i][0].set_ylabel('')\n",
    "\n",
    "    plt.suptitle('Distribuição e calibração dos modelos', fontsize=20)\n",
    "    plt.tight_layout(pad=3.0);"
   ]
  },
  {
   "cell_type": "markdown",
   "id": "36529efb",
   "metadata": {},
   "source": [
    "<div class=\"alert alert-block alert-info\" style=\"border-radius:15px\">\n",
    "<p style=\"color: black; font-family: Arial Black\">NOTA:</p>\n",
    "  \n",
    "Podemos observar que a média das probabilidades prevista dos modelos tem o melhor ajuste na calibração.  \n",
    "    \n",
    "</div>"
   ]
  },
  {
   "cell_type": "code",
   "execution_count": null,
   "id": "97148fff",
   "metadata": {
    "ExecuteTime": {
     "end_time": "2022-12-27T02:42:33.674946Z",
     "start_time": "2022-12-27T02:42:33.674946Z"
    }
   },
   "outputs": [],
   "source": [
    "plt.figure(figsize=(12,7))\n",
    "_ = df_pred_tr.copy() \n",
    "_[target] = y\n",
    "feature_corr = \\\n",
    "    utility.graf_feature_corr(df_         = _,                             \n",
    "                              annot_      = True, \n",
    "                              threshold_  = .8, \n",
    "                              print_var_  = False, \n",
    "                              print_graf_ = True, \n",
    "                              mask_       = True, \n",
    "                              #method_     = 'spearman'\n",
    "                              );\n",
    "utility.free_gpu_cache()"
   ]
  },
  {
   "cell_type": "markdown",
   "id": "a86e7969",
   "metadata": {},
   "source": [
    "## 5.3. Média ponderada"
   ]
  },
  {
   "cell_type": "code",
   "execution_count": null,
   "id": "7b39254c",
   "metadata": {
    "ExecuteTime": {
     "end_time": "2022-12-27T02:42:33.681924Z",
     "start_time": "2022-12-27T02:42:33.681924Z"
    },
    "code_folding": [
     0
    ]
   },
   "outputs": [],
   "source": [
    "def average_score(df_tr_, y_, df_ts_, target_, path_, name_sub_): \n",
    "    \n",
    "    def get_score_weight(df_, y_, weight_, pred_model1_, pred_model2_):\n",
    "        blend_pred = (df_[pred_model1_]*weight_)+(df_[pred_model2_]*(1 - weight_))\n",
    "        score      = log_loss(y_, blend_pred)\n",
    "        return score\n",
    "    \n",
    "    feature_mdl      = df_tr_.columns.to_list()\n",
    "    myscores_mdl     = []\n",
    "    best_mdl_score_1 = []\n",
    "\n",
    "    for mdl_1 in feature_mdl:     \n",
    "        f = feature_mdl.copy() \n",
    "        f.remove(mdl_1)   \n",
    "        for mdl_2 in f: \n",
    "            myscores    = {}\n",
    "            best        = 1.\n",
    "            best_weight = 0.\n",
    "\n",
    "            for weight in range(100):            \n",
    "                weight /= 100.\n",
    "                score = get_score_weight(df_          = df_tr_, \n",
    "                                         y_           = y_,\n",
    "                                         weight_      = weight, \n",
    "                                         pred_model1_ = mdl_1,  \n",
    "                                         pred_model2_ = mdl_2)\n",
    "\n",
    "                if score < best:\n",
    "                    best        = score\n",
    "                    best_weight = weight                \n",
    "\n",
    "                myscores[weight] = score\n",
    "\n",
    "        best_mdl_score_1.append({'model_1' : mdl_1, \n",
    "                                 'model_2' : mdl_2, \n",
    "                                 'score'   : round(best, 5), \n",
    "                                 'weight'  : best_weight})\n",
    "\n",
    "        msg = 'Best Weight: {:2.5f} - Score: {:2.5f} => {} - {}'\n",
    "        print(msg.format(best_weight, best, mdl_1, mdl_2))  \n",
    "\n",
    "    _ = pd.DataFrame(best_mdl_score_1).sort_values('score')\n",
    "\n",
    "    # Gera submissão\n",
    "    mdl_1 = str(_[:1].values[:,:1]).replace(\"[\", '').replace(\"'\",'').replace(\"]\", '').replace(\"'\",'')\n",
    "    mdl_2 = str(_[:1].values[:,1:2]).replace(\"[\", '').replace(\"'\",'').replace(\"]\", '').replace(\"'\",'')\n",
    "    weight = np.float64(str(_[:1].values[:,3:4]).replace(\"[\", '').replace(\"'\",'').replace(\"]\", '').replace(\"'\",''))\n",
    "\n",
    "    name = '{}_{}_w1_{}_{}.csv'.format(name_sub_, mdl_1, weight, mdl_2)\n",
    "    df_sub          = pd.DataFrame({target_: np.zeros(len(y_))})\n",
    "    df_sub[target_] = df_ts_[mdl_1]*weight + df_ts_[mdl_2]*(1-weight)\n",
    "    df_sub.to_csv(path_ + 'Data/submission/' + name+ '.csv', index=False)\n",
    "\n",
    "    print()\n",
    "    display(_)\n",
    "\n",
    "    print()    "
   ]
  },
  {
   "cell_type": "code",
   "execution_count": null,
   "id": "f9385a73",
   "metadata": {
    "ExecuteTime": {
     "end_time": "2022-12-27T02:42:33.693925Z",
     "start_time": "2022-12-27T02:42:33.693925Z"
    }
   },
   "outputs": [],
   "source": [
    "average_score(df_pred_tr_average,y, df_pred_ts_average, target, path, 'emsable_average')"
   ]
  },
  {
   "cell_type": "code",
   "execution_count": null,
   "id": "840a8957",
   "metadata": {
    "ExecuteTime": {
     "end_time": "2022-12-27T02:42:33.703959Z",
     "start_time": "2022-12-27T02:42:33.703959Z"
    },
    "code_folding": [
     0
    ]
   },
   "outputs": [],
   "source": [
    "def df_return_preds_tunning(target_, y_, model_name=None, level=1, train_shape_row=0, test_shape_row=0): \n",
    "\n",
    "    # model_name='xgb'\n",
    "    # level=1 \n",
    "    # target_='target', \n",
    "    # train_shape_row=X.shape[0]\n",
    "    # test_shape_row=X_test.shape[0]\n",
    "\n",
    "    if level==1: \n",
    "        level_ = 'n1'\n",
    "    else: \n",
    "        if level==2:\n",
    "            level_ = 'n2'\n",
    "        else: \n",
    "            level_ = 'n3'\n",
    "\n",
    "    paths = ['model/preds/test/'+ level_, 'model/preds/train/' + level_ ]    \n",
    "\n",
    "    if model_name==None: \n",
    "        model_name=''\n",
    "\n",
    "    for i, path in enumerate(paths): \n",
    "\n",
    "        name_file_pkl     = glob.glob(path + '/'+ model_name + '*.pkl.z')\n",
    "        dic_preds_mdl_pkl = dict()\n",
    "\n",
    "        for p_name in name_file_pkl:    \n",
    "            y_model_pkl_name_col  = p_name.replace(path + '/', '') \\\n",
    "                                    .replace('.pkl.z','').replace(path,'') \\\n",
    "                                    .replace('.csv','').replace('\\\\','') \n",
    "\n",
    "            y_model_pkl = jb.load(p_name)   \n",
    "\n",
    "            if i==0:\n",
    "                if len(y_model_pkl)==test_shape_row:\n",
    "                    dic_preds_mdl_pkl[y_model_pkl_name_col] = y_model_pkl\n",
    "\n",
    "            if i==1:\n",
    "                if len(y_model_pkl)==train_shape_row:                        \n",
    "                    dic_preds_mdl_pkl[y_model_pkl_name_col] = y_model_pkl\n",
    "\n",
    "            gc.collect()\n",
    "\n",
    "        if i==0:         \n",
    "            X_test_pred_nivel_1 = pd.DataFrame(dic_preds_mdl_pkl)\n",
    "        else:\n",
    "            X_train_pred_nivel_1 = pd.DataFrame(dic_preds_mdl_pkl)\n",
    "\n",
    "        gc.collect()\n",
    "\n",
    "    print(target_)\n",
    "    \n",
    "    X_train_pred_nivel_1[target_] = y_\n",
    "    #X_train_pred_nivel_1[target_] = X_train_pred_nivel_1[target_].astype(int)\n",
    "\n",
    "    return X_train_pred_nivel_1, X_test_pred_nivel_1"
   ]
  },
  {
   "cell_type": "code",
   "execution_count": null,
   "id": "44cb89f0",
   "metadata": {
    "ExecuteTime": {
     "end_time": "2022-12-27T02:42:33.711926Z",
     "start_time": "2022-12-27T02:42:33.711926Z"
    }
   },
   "outputs": [],
   "source": [
    "X_test.shape[0]"
   ]
  },
  {
   "cell_type": "code",
   "execution_count": null,
   "id": "f2049134",
   "metadata": {
    "ExecuteTime": {
     "end_time": "2022-12-27T02:42:33.721927Z",
     "start_time": "2022-12-27T02:42:33.721927Z"
    }
   },
   "outputs": [],
   "source": [
    "%%time \n",
    "df_train_xgb, df_test_xgb = df_return_preds_tunning(target, y, 'xgb',\n",
    "                                                    train_shape_row=X.shape[0],\n",
    "                                                    test_shape_row =X_test.shape[0])\n",
    "print(df_train_xgb.shape, df_test_xgb.shape)\n",
    "print()"
   ]
  },
  {
   "cell_type": "code",
   "execution_count": null,
   "id": "1fa36c77",
   "metadata": {
    "ExecuteTime": {
     "end_time": "2022-12-27T02:42:33.728926Z",
     "start_time": "2022-12-27T02:42:33.728926Z"
    }
   },
   "outputs": [],
   "source": [
    "df_train_xgb[target] = y\n",
    "df_train_xgb.shape, y.shape, df_test_xgb.shape"
   ]
  },
  {
   "cell_type": "code",
   "execution_count": null,
   "id": "fcfa4a06",
   "metadata": {
    "ExecuteTime": {
     "end_time": "2022-12-27T02:42:33.737925Z",
     "start_time": "2022-12-27T02:42:33.737925Z"
    }
   },
   "outputs": [],
   "source": [
    "df_train_xgb[target].unique()"
   ]
  },
  {
   "cell_type": "code",
   "execution_count": null,
   "id": "898368c6",
   "metadata": {
    "ExecuteTime": {
     "end_time": "2022-12-27T02:42:33.744926Z",
     "start_time": "2022-12-27T02:42:33.744926Z"
    }
   },
   "outputs": [],
   "source": [
    "df_train_xgb[target].count()"
   ]
  },
  {
   "cell_type": "markdown",
   "id": "f64a81e6",
   "metadata": {},
   "source": [
    "<div style=\"color:white;border-radius:8px;background-color:#a7d5ed\">    \n",
    "    <h1 style=\"padding:12px;color:black;\"> 5. Conclusão </h1>    \n",
    "</div>"
   ]
  },
  {
   "cell_type": "markdown",
   "id": "220e2ae9",
   "metadata": {},
   "source": [
    "![](img/rank_final.jpg)"
   ]
  },
  {
   "cell_type": "markdown",
   "id": "4efa9b1c",
   "metadata": {},
   "source": [
    "![](img/subs.jpg)"
   ]
  },
  {
   "cell_type": "code",
   "execution_count": null,
   "id": "6ff6aec1",
   "metadata": {
    "code_folding": [
     1,
     6,
     27,
     63,
     80,
     86,
     131,
     152,
     177,
     204,
     287,
     364,
     387,
     394,
     404,
     603,
     778
    ]
   },
   "outputs": [],
   "source": [
    "#from operator import le\n",
    "class TunningModels(nn.Module):\n",
    "\n",
    "    from sklearn.preprocessing  import StandardScaler\n",
    "    from sklearn.linear_model   import RidgeClassifier\n",
    "    \n",
    "    def __init__(self, name_model_, X_trn_, y_trn_, X_ts_, feature_=None, \n",
    "                 seed_=12359, scaler_=StandardScaler(), feature_bin_=None, \n",
    "                 target_='target', path_='', level_='1', sc_second_= None, \n",
    "                 n_splits_=5):\n",
    "        \n",
    "        super(TunningModels,self).__init__() \n",
    "\n",
    "        self.name_clf    = name_model\n",
    "        self.X_trn       = X_trn_\n",
    "        self.y_trn       = y_trn_\n",
    "        self.X_ts        = X_ts_         \n",
    "        self.feature     = feature_\n",
    "        self.seed        = seed_\n",
    "        self.scaler      = scaler_\n",
    "        self.feature_bin = feature_bin_ \n",
    "        self.target      = target_\n",
    "        self.path        = path_\n",
    "        self.level       = level_\n",
    "        self.sc_second   = sc_second_\n",
    "        self.n_splits    = n_splits_\n",
    "\n",
    "    def recover_prediction_first_level():\n",
    "        \n",
    "        preds_train1 = glob.glob(\"model/train/*.pkl.z\")\n",
    "        preds_test   = glob.glob(\"model/test/*.pkl.z\")\n",
    "        preds_val1   = glob.glob(\"model/valid/*.pkl.z\")\n",
    "\n",
    "        df_train1     = []\n",
    "        scores_traint = dict()\n",
    "\n",
    "        for p_name in preds_train1:    \n",
    "            p    = jb.load(p_name)\n",
    "            p_df = pd.DataFrame(p, columns=[p_name.replace('model/train\\\\', '')])    \n",
    "            df_train1.append(p_df)    \n",
    "            scores_traint[p_name] = f1_score(y_train1, (p_df>.5))\n",
    "\n",
    "        df_val1     = [] \n",
    "        scores_val1 = dict()\n",
    "        for p_name in preds_val1:    \n",
    "            p    = jb.load(p_name)\n",
    "            p_df = pd.DataFrame(p, columns=[p_name.replace('model/valid\\\\', '')])    \n",
    "            df_val1.append(p_df)    \n",
    "            scores_val1[p_name] = f1_score(y_val1, (p_df>.5))\n",
    "\n",
    "        df_test     = [] \n",
    "        scores_test = dict()\n",
    "        for p_name in preds_test:    \n",
    "            p         = jb.load(p_name)\n",
    "            p_df_test = pd.DataFrame(p, columns=[p_name.replace('model/test\\\\', '')])    \n",
    "            df_test.append(p_df_test)\n",
    "\n",
    "        df_train1 = pd.concat(df_train1, axis=1)\n",
    "        df_val1   = pd.concat(df_val1, axis=1)\n",
    "        df_test   = pd.concat(df_test, axis=1)\n",
    "\n",
    "        return df_train1, df_val1, df_test.shape\n",
    "        \n",
    "    def delete_files(namefile):\n",
    "\n",
    "        path = ['model/train', 'model/test', 'model/valid', 'model/params', 'model/score',\n",
    "                'model/test_f', 'model/cv_model', 'model/preds', 'model/optuna', \n",
    "                'model/preds/train', 'model/preds/test', 'model/preds/test/n1', \n",
    "                'model/preds/test/n2', 'model/preds/test/n3', 'model/preds/train/n1', \n",
    "                'model/preds/train/n2', 'model/preds/train/n3','model/preds/param', \n",
    "                'Data/submission/tunning', 'Data/submission', 'model/mdl'\n",
    "                \n",
    "               ]\n",
    "\n",
    "        for path_ in path:\n",
    "            for raiz, diretorios, arquivos in os.walk(path_):\n",
    "                for arquivo in arquivos:\n",
    "                    if arquivo.startswith(namefile):\n",
    "                        os.remove(os.path.join(raiz, arquivo))\n",
    " \n",
    "    def logging_callback(study, frozen_trail):\n",
    "        prev_best = study.user_attrs.get('prev_best', None)\n",
    "        if prev_best != study.best_value:\n",
    "            study.set_user_attr('prev_best', study.best_value)\n",
    "            print(f\"Trail {frozen_trail.number} finished with best value {frozen_trail.value}\")\n",
    "\n",
    "    def df_return_preds_tunning(model_name=None, level=1, target_='target', train_shape_row=0, test_shape_row=0): \n",
    "\n",
    "        if level==1: \n",
    "            level_ = 'n1'\n",
    "        else: \n",
    "            if level==2:\n",
    "                level_ = 'n2'\n",
    "            else: \n",
    "                level_ = 'n3'\n",
    "\n",
    "        paths = ['model/preds/test/'+ level_, 'model/preds/train/' + level_ ]    \n",
    "\n",
    "        if model_name==None: \n",
    "            model_name=''\n",
    "\n",
    "        for i, path in enumerate(paths): \n",
    "\n",
    "            name_file_pkl     = glob.glob(path + '/'+ model_name + '*.pkl.z')\n",
    "            dic_preds_mdl_pkl = dict()\n",
    "\n",
    "            for p_name in name_file_pkl:    \n",
    "                y_model_pkl_name_col  = p_name.replace(path + '/', '').replace('.pkl.z','') \n",
    "                y_model_pkl           = jb.load(p_name)   \n",
    "\n",
    "                if i==0:\n",
    "                    if len(y_model_pkl)==test_shape_row:\n",
    "                        dic_preds_mdl_pkl[y_model_pkl_name_col] = y_model_pkl\n",
    "\n",
    "                if i==1:\n",
    "                    if len(y_model_pkl)==train_shape_row:                        \n",
    "                        dic_preds_mdl_pkl[y_model_pkl_name_col] = y_model_pkl\n",
    "\n",
    "                gc.collect()\n",
    "\n",
    "            if i==0:         \n",
    "                X_test_pred_nivel_1 = pd.DataFrame(dic_preds_mdl_pkl)\n",
    "            else:\n",
    "                X_train_pred_nivel_1 = pd.DataFrame(dic_preds_mdl_pkl)\n",
    "\n",
    "            gc.collect()\n",
    "\n",
    "        X_train_pred_nivel_1[target_] = y\n",
    "\n",
    "        return X_train_pred_nivel_1, X_test_pred_nivel_1\n",
    "    \n",
    "    def feature_select(mdl, feature=[], best_score=0):\n",
    "    \n",
    "        best_feature = ''\n",
    "\n",
    "        for col in df_train1.columns:\n",
    "\n",
    "            if col not in feature:\n",
    "                Xtr  = df_train1[feature+[col]].copy()\n",
    "                Xval = df_val1[feature+[col]].copy()                \n",
    "\n",
    "                mdl.fit(Xtr, y_train1)\n",
    "\n",
    "                p = mdl.predict(Xval)\n",
    "                c = f1_score(y_val1, p)\n",
    "\n",
    "                if c > best_score:\n",
    "                    best_score = c\n",
    "                    best_feature = col \n",
    "\n",
    "        return best_score, best_feature\n",
    "\n",
    "    def permutation_test(mdl, feature_selected):\n",
    "\n",
    "        dist = []\n",
    "\n",
    "        for seed in range(100):\n",
    "\n",
    "            Xtr  = df_train1[feature_selected].copy()\n",
    "            Xval = df_val1[feature_selected].copy()\n",
    "\n",
    "            np.random.seed(seed)\n",
    "\n",
    "            Xtr['random']  = np.random.permutation(Xtr.iloc[:, -1].values)\n",
    "            Xval['random'] = np.random.permutation(Xval.iloc[:, -1].values)\n",
    "\n",
    "            mdl.fit(Xtr, y_train1)\n",
    "\n",
    "            p = mdl.predict(Xval)\n",
    "            c = f1_score(y_val1, p)\n",
    "\n",
    "            dist.append(c)\n",
    "\n",
    "        dist = np.array(dist)\n",
    "\n",
    "        return dist.max()\n",
    "\n",
    "    def feature_selected_model(model = RidgeClassifier(alpha=1.) ):\n",
    "   \n",
    "        score_feature, best_feature =  TunningModels.feature_select(model)\n",
    "        print('Score: {:2.4f} => Feature: {}'. format(score_feature*100 , best_feature))\n",
    "\n",
    "        feature_selected = []\n",
    "        feature_selected.append(best_feature)\n",
    "\n",
    "        loop = True\n",
    "\n",
    "        while loop:\n",
    "\n",
    "            best_score = TunningModels.permutation_test(model, feature_selected) \n",
    "            best_score = best_score + 1e-4\n",
    "\n",
    "            score_feature, best_feature = TunningModels.feature_select(model, feature=feature_selected, best_score=best_score)\n",
    "            \n",
    "\n",
    "            if score_feature <= best_score:  \n",
    "                print('Fim')\n",
    "                loop= False\n",
    "            else: \n",
    "                feature_selected.append(best_feature)\n",
    "                print('Score: {:2.4f} => Feature: {}'. format(score_feature*100 , best_feature))\n",
    "\n",
    "        return feature_selected\n",
    "    \n",
    "    def model_of_diversity_feature_group(model_, name_model, X_, y_, X_ts_, sc_, target_, feature_imp_num=5, \n",
    "                                         seed_=12359, path_=''):\n",
    "\n",
    "        TunningModels.delete_files(name_model)\n",
    "\n",
    "        cols_tr = X_.columns.to_list() \n",
    "        cols_ts = cols_tr.copy()\n",
    "        cols_ts.remove('sample_weight')\n",
    "\n",
    "        model = model_\n",
    "        model = model.fit(X_[cols_ts], y_)\n",
    "\n",
    "        df               = pd.DataFrame()\n",
    "        df[\"feature\"]    = cols_ts\n",
    "        df[\"importance\"] = model.feature_importances_\n",
    "\n",
    "        df.sort_values(\"importance\", axis=0, ascending=False, inplace=True)\n",
    "\n",
    "        feature_import = df[:feature_imp_num]['feature'].to_list()\n",
    "\n",
    "        for feature_imp in  feature_import:\n",
    "\n",
    "            score_                =  0.09\n",
    "            feature_best          = []\n",
    "            feature               = X_ts_.columns            \n",
    "            feature               = [s for s in feature if s not in feature_import]\n",
    "            feature_number        = len(feature)\n",
    "            feature_select_number = np.round(np.sqrt(len(feature)))\n",
    "            feature_number_sample = int(np.round((feature_number/feature_select_number)))\n",
    "            feature_sample        = []\n",
    "\n",
    "            print('='*60)\n",
    "            print(' Divercidade de Grupos de Features => ({})'.format(feature_imp))\n",
    "            print('='*60)\n",
    "\n",
    "\n",
    "            for i in  range(0,5):\n",
    "\n",
    "                feature            = [s for s in feature if s not in feature_sample]\n",
    "                feature_sample     = pd.Series(feature).sample(feature_number_sample).to_list() \n",
    "                name_model_xgb_div = name_model + 'group_fe_' + str(i)   \n",
    "\n",
    "                feature_sample.append(feature_imp)\n",
    "                feature_sample_ts = feature_sample.copy()\n",
    "\n",
    "                feature_sample.append('sample_weight')\n",
    "\n",
    "                model, score, df_feature_imp , df_preds_prob, y_pred_test = \\\n",
    "                TunningModels.train_model_cv(model_         = model_, \n",
    "                                             X_             = X_[feature_sample], \n",
    "                                             y_             = y_, \n",
    "                                             X_test_        = X_ts_[feature_sample_ts], \n",
    "                                             target_        = target_, \n",
    "                                             model_name_    = name_model_xgb_div, \n",
    "                                             sc_            = sc_, \n",
    "                                             sc_second_     = None, \n",
    "                                             n_splits_      = 3, \n",
    "                                             seed_          = seed_,\n",
    "                                             path_          = path_, \n",
    "                                             save_predict_  = True, \n",
    "                                             level_         = '1', \n",
    "                                             print_result_  = False, \n",
    "                                             feature_       = None, \n",
    "                                             trial_         = None)\n",
    "\n",
    "                if score >.59:\n",
    "                    create = '*'\n",
    "                else: \n",
    "                    create = ' '\n",
    "\n",
    "                if score > score_:\n",
    "                    # score_ = np.abs(score)\n",
    "                    feature_best.append(feature)\n",
    "                    print('Score: {:2.5f} =>{} Gr.Feature: {} {}'.format(score, create, i,''))\n",
    "\n",
    "                gc.collect()\n",
    "\n",
    "            print('')\n",
    "\n",
    "        print('')\n",
    "        print('FIM')\n",
    "        print('')\n",
    "\n",
    "    def model_of_diversity_feature_one_(model, name_model, seed_=12359):\n",
    "\n",
    "        score_       =  0.09\n",
    "        feature_best = []\n",
    "\n",
    "        print('')\n",
    "        print('Feature apenas uma')\n",
    "        print('-'*20)\n",
    "\n",
    "        TunningModels.delete_files(name_model)\n",
    "\n",
    "        for feature in X_train.columns:\n",
    "\n",
    "            name_model_xgb_div = name_model + feature \n",
    "\n",
    "            score = TunningModels.cross_valid(model       = model, \n",
    "                                              model_name_ = name_model_xgb_div, \n",
    "                                              X_          = X, \n",
    "                                              y_          = y, \n",
    "                                              X_test_     = X_test_sc_qt, \n",
    "                                              type_model  = 2, \n",
    "                                              feature     = feature,\n",
    "                                              seed        = seed_, \n",
    "                                              tunning     = 1, \n",
    "                                              print_result= False, \n",
    "                                              n_splits    = 2\n",
    "                                              )\n",
    "            if score >.59:\n",
    "                create = '*'\n",
    "            else: \n",
    "                create = ' '\n",
    "\n",
    "            if score > score_:\n",
    "                score_ = np.abs(score)\n",
    "                feature_best.append(feature)\n",
    "                print('F1-score: {:2.5f} => {} feature: {}'.format(score, create, feature ))        \n",
    "\n",
    "        print('')\n",
    "        print('Feature dupla')\n",
    "        print('-'*20)\n",
    "\n",
    "        for feature in feature_best:\n",
    "\n",
    "            for feature_ in feature_best:\n",
    "                if feature != feature_:            \n",
    "                    name_model_xgb_div = name_model + feature + '_' + feature_     \n",
    "\n",
    "                    score = TunningModels.cross_valid(model       = model, \n",
    "                                                      model_name_ = name_model_xgb_div, \n",
    "                                                      X_          = X, \n",
    "                                                      y_          = y, \n",
    "                                                      X_test_     = X_test_sc_qt, \n",
    "                                                      type_model  = 2, \n",
    "                                                      feature     = [feature, feature_],\n",
    "                                                      seed        = seed_, \n",
    "                                                      tunning     = 1, \n",
    "                                                      print_result= False, \n",
    "                                                      n_splits    = 2\n",
    "                                                      )\n",
    "\n",
    "                    if score >.59:\n",
    "                        create = '*'\n",
    "                    else: \n",
    "                        create = ' '\n",
    "\n",
    "                    print('F1-score: {:.4f} => {} feature: {} | {}'.format(score*100, create,  feature, feature_ )) \n",
    "\n",
    "        print('')\n",
    "        print('FIM')\n",
    "        print('')\n",
    "    \n",
    "\n",
    "\n",
    "        from dateutil.relativedelta import relativedelta\n",
    "        t_diff = relativedelta(t_b, t_a)  # later/end time comes first!\n",
    "        return '{h}h {m}m {s}s'.format(h=t_diff.hours, m=t_diff.minutes, s=t_diff.seconds)\n",
    "        \n",
    "    def save_data_model(model_, model_name_, path_, y_pred_train_prob_, y_pred_test_prob_,\n",
    "                        y_pred_test_, score_, seed_, level_='1', target_='target'):\n",
    "        \n",
    "        level_ = 'n'+ level_ + '/'\n",
    "\n",
    "        if score_>.6:          \n",
    "\n",
    "            path_name_param = path_ + 'model/preds/param/' + model_name_.format(score_, seed_)\n",
    "            path_name_train = path_ + 'model/preds/train/' + level_ + model_name_.format(score_, seed_)\n",
    "            path_name_test  = path_ + 'model/preds/test/'  + level_ + model_name_.format(score_, seed_)    \n",
    "            path_name_model = path_ + 'model/mdl/'         + model_name_.format(score_, seed_)    \n",
    "\n",
    "            jb.dump(y_pred_train_prob_, path_name_train)\n",
    "            jb.dump(y_pred_test_prob_, path_name_test)\n",
    "            jb.dump(model_, path_name_model)\n",
    "            #jb.dump(pd.DataFrame([model_[0][0]['model'].get_params()]), path_name_param)   \n",
    "\n",
    "            if score_>.7:                \n",
    "                # Gerar o arquivo de submissão \n",
    "                df_submission[target_] = y_pred_test_\n",
    "                name_file_sub =  path_ + 'Data/submission/tunning/' + model_name_.format(score_, seed_) + '.csv'\n",
    "                df_submission.to_csv(name_file_sub, index = False)\n",
    "                \n",
    "    def diff(t_a, t_b):\n",
    "        from dateutil.relativedelta import relativedelta\n",
    "        t_diff = relativedelta(t_b, t_a)  # later/end time comes first!\n",
    "        return '{h}h {m}m {s}s'.format(h=t_diff.hours, m=t_diff.minutes, s=t_diff.seconds)\n",
    "        \n",
    "    def feature_scaler(df_, scaler_=None, feature_bin_=None):\n",
    "    \n",
    "        if scaler_!=None: \n",
    "            \n",
    "            #if feature_bin_!=None:\n",
    "            #    disc = KBinsDiscretizer(n_bins=50, encode='ordinal', strategy='uniform')\n",
    "            #    df_[feature_bin_] = disc.fit_transform(df_[feature_bin_])\n",
    "\n",
    "            df_ = pd.DataFrame(scaler_.fit_transform(df_), columns=df_.columns)\n",
    "    \n",
    "        return df_\n",
    "\n",
    "    def cross_valid(model_, model_name_, X_train_, y_train_, X_test_, fold_=5, target_='target', \n",
    "            path_='', level_='1', save_predict_=True, print_result_=True, seed_=12359, \n",
    "            feature_=None, feature_bin=None, scaler_=StandardScaler(), threshold=.5, print_report_=False \n",
    "            ):\n",
    "\n",
    "        if feature_!=None: \n",
    "            X_train_ = X_train_[feature_]\n",
    "            X_test_  = X_test_[feature_]\n",
    "\n",
    "        #--------------------------------------------------------  \n",
    "        # Escorpo de variáveis\n",
    "        #--------------------------------------------------------\n",
    "\n",
    "        time_pred_start    = datetime.now()\n",
    "        preds_valid_f      = {}\n",
    "        preds_test         = []\n",
    "        total_auc          = []\n",
    "        f_scores           = []\n",
    "        auc_mean           = []\n",
    "        f1_mean            = []\n",
    "        lloss_mean         = []\n",
    "        preds_test         = 0  \n",
    "        pred_test_prob     = 0\n",
    "        df_score_history   = pd.DataFrame()\n",
    "        df_train_pred_fold = pd.DataFrame()\n",
    "        df_pred_fold       = pd.DataFrame()\n",
    "        random             = str(np.random.rand(1)[0]).replace('.','')\n",
    "        model_name_        = model_name_ + '_score_{:2.5f}_{}_' + random + '.pkl.z'\n",
    "        clf_name           = model_.__class__.__name__\n",
    "        pri_result         = 92\n",
    "        learning_rate      = model_.learning_rate         \n",
    "        le                 = LabelEncoder()\n",
    "        y_train_           = pd.DataFrame(le.fit_transform(y_train_), columns=[target_])\n",
    "                                                   \n",
    "        #--------------------------------------------------------  \n",
    "        # Início do process de varilidação\n",
    "        #--------------------------------------------------------\n",
    "        have_observation=''\n",
    "\n",
    "        if print_result_:\n",
    "            num_parallel_tree = 1 #model_.get_params()['num_parallel_tree']\n",
    "            learning_rate     = model_.learning_rate\n",
    "            n_estimators      = model_.n_estimators * num_parallel_tree  \n",
    "            max_depth         = model_.max_depth \n",
    "            msg               = 'Training model: {} - seed {} - n_estimators: {} - learning_rate: {} {:2.5f}'\n",
    "\n",
    "            print('='*pri_result)            \n",
    "            print(msg.format(clf_name, seed_, n_estimators, max_depth, learning_rate))\n",
    "            print('='*pri_result)\n",
    "\n",
    "        kf = StratifiedKFold(n_splits=fold_, random_state=42, shuffle=True)\n",
    "\n",
    "        for fold,(idx_train, idx_val) in enumerate(kf.split(X_train_, y_train_, groups=y_train_)):\n",
    "\n",
    "            time_fold_start = datetime.now()\n",
    "\n",
    "            #--------------------------------------------------------  \n",
    "            # Seleção dos dados\n",
    "            #--------------------------------------------------------\n",
    "            X_trn, X_val = X_train_.iloc[idx_train], X_train_.iloc[idx_val]\n",
    "            y_trn, y_val = y_train_.iloc[idx_train], y_train_.iloc[idx_val]\n",
    "            index_valid  = idx_train\n",
    "\n",
    "             \n",
    "        \n",
    "            #--------------------------------------------------------  \n",
    "            # Processamento\n",
    "            #--------------------------------------------------------        \n",
    "            X_trn = TunningModels.feature_scaler(X_trn, scaler_, feature_bin) \n",
    "            X_val = TunningModels.feature_scaler(X_val, scaler_, feature_bin) \n",
    "\n",
    "            #--------------------------------------------------------  \n",
    "            # Modelo\n",
    "            #--------------------------------------------------------\n",
    "            model = model_.fit(X_trn, y_trn,\n",
    "                               eval_set              = [(X_trn, y_trn), (X_val, y_val)],          \n",
    "                               early_stopping_rounds = int(n_estimators*.1),\n",
    "                               verbose               = False)\n",
    "\n",
    "            #--------------------------------------------------------  \n",
    "            # oof\n",
    "            #--------------------------------------------------------\n",
    "            preds_valid_proba = model.predict_proba(X_val, ntree_limit=model_.best_ntree_limit)\n",
    "            y_pred_valid      = le.inverse_transform(np.argmax(preds_valid_proba, axis=1))\n",
    "            \n",
    "            #--------------------------------------------------------  \n",
    "            # Obtenha os valores médios de cada fold para a previsão\n",
    "            #--------------------------------------------------------  \n",
    "            y_pred_test_prob = model.predict_proba(X_test_, ntree_limit=model_.best_ntree_limit)\n",
    "            pred_test_prob  += np.max(y_pred_test_prob, axis=1) / fold_\n",
    "            preds_test      += le.inverse_transform(np.argmax(y_pred_test_prob, axis=1)) / fold_\n",
    "\n",
    "            #--------------------------------------------------------  \n",
    "            # Métricas \n",
    "            #-------------------------------------------------------- \n",
    "            y_val = le.inverse_transform(y_val)\n",
    "            acc   = metrics.accuracy_score(y_val, y_pred_valid)\n",
    "            f1    = metrics.f1_score(y_val, y_pred_valid, average='weighted')\n",
    "            prec  = metrics.precision_score(y_val, y_pred_valid, average='macro')\n",
    "\n",
    "            #--------------------------------------------------------  \n",
    "            # Concatenar validação e predição\n",
    "            #--------------------------------------------------------        \n",
    "            df_val_pred_fold = pd.DataFrame({'fold'     : fold+1,\n",
    "                                             'index'    : idx_val, \n",
    "                                             'acc'      : acc, \n",
    "                                             'f1'       : f1,\n",
    "                                             'prec'     : prec,                                              \n",
    "                                             'target'   : y_val, \n",
    "                                             'y_pred'   : y_pred_valid, \n",
    "                                             'pred_val' : np.max(preds_valid_proba, axis=1)\n",
    "                                             })\n",
    "\n",
    "            df_train_pred_fold = pd.concat([df_train_pred_fold, df_val_pred_fold], axis=0)\n",
    "\n",
    "            col_name        = le.inverse_transform(list(model.classes_))\n",
    "            df_prob_temp    = pd.DataFrame(preds_valid_proba, columns=col_name)\n",
    "            y_pred_pbro_max = df_prob_temp.max(axis=1)\n",
    "\n",
    "            \n",
    "            df_prob_temp['y_val']     = y_val\n",
    "            df_prob_temp['y_pred']    = y_pred_valid \n",
    "            df_prob_temp['y_proba']   = np.max(preds_valid_proba, axis=1)            \n",
    "            df_prob_temp['acc']       = acc   \n",
    "            df_prob_temp['f1']        = f1 \n",
    "            df_prob_temp['precision'] = prec              \n",
    "            df_prob_temp['fold']      = fold+1\n",
    "            df_prob_temp['index']     = idx_val   \n",
    "            \n",
    "            df_pred_fold = pd.concat([df_pred_fold, df_prob_temp], axis=0)\n",
    "            \n",
    "            del df_prob_temp\n",
    "            \n",
    "            #df_prob_temp['scaler']  = str(string_scaler)\n",
    "            \n",
    "            #preds_valid_proba = np.max(preds_valid_proba, axis=1)\n",
    "            \n",
    "            \n",
    "            auc_mean.append(acc)   \n",
    "            f1_mean.append(f1)    \n",
    "            lloss_mean.append(prec) \n",
    "\n",
    "            #--------------------------------------------------------  \n",
    "            # Print resultado Fold\n",
    "            #--------------------------------------------------------\n",
    "            if print_result_:\n",
    "                msg = 'Fold: {} - ACC: {:2.5f} - F1-score: {:2.5f} - Precision: {:2.5f} - {}'\n",
    "                time_fold_start_end = TunningModels.diff(time_fold_start, datetime.now())\n",
    "                print(msg.format(fold+1, acc, f1, prec, time_fold_start_end))\n",
    "\n",
    "            free_gpu_cache() \n",
    "        \n",
    "        \n",
    "\n",
    "        del X_trn, y_trn, X_val, y_val \n",
    "\n",
    "        df_train_pred_fold.sort_values(\"index\", axis=0, ascending=True, inplace=True)\n",
    "\n",
    "        #--------------------------------------------------------  \n",
    "        # Salvar predição em disco\n",
    "        #--------------------------------------------------------\n",
    "        X_train_prob      = df_train_pred_fold['pred_val'].to_list()\n",
    "        score             = np.mean(auc_mean)\n",
    "        y_pred_test       = np.int32(preds_test)\n",
    "\n",
    "        if save_predict_:\n",
    "            TunningModels.save_data_model(model_             = model_, \n",
    "                                          model_name_        = model_name_, \n",
    "                                          path_              = path_, \n",
    "                                          y_pred_train_prob_ = X_train_prob, \n",
    "                                          y_pred_test_prob_  = pred_test_prob, \n",
    "                                          y_pred_test_       = y_pred_test,\n",
    "                                          score_             = score, \n",
    "                                          seed_              = seed_, \n",
    "                                          level_             = level_, \n",
    "                                          target_            = target_\n",
    "                                          )  \n",
    "\n",
    "        #--------------------------------------------------------  \n",
    "        # Print média dos Folds\n",
    "        #--------------------------------------------------------\n",
    "        time_pred_end = TunningModels.diff(time_pred_start, datetime.now())\n",
    "\n",
    "        if print_result_:\n",
    "            msg = '[Mean Fold]  ACC: {:.5f}(Std:{:.5f}) - F1: {:.5f} - Precision: {:.5f}  {}'        \n",
    "            print('-'*pri_result)            \n",
    "            print(msg.format(np.mean(auc_mean),np.std(auc_mean) , np.mean(f1_mean), np.mean(lloss_mean), time_pred_end))\n",
    "            print('='*pri_result)\n",
    "            print()\n",
    "            \n",
    "            if print_report_: \n",
    "                y_pred = df_train_pred_fold['y_pred']\n",
    "                y_vl   = df_train_pred_fold['target']\n",
    "                print(metrics.classification_report(y_vl, y_pred))\n",
    "\n",
    "        free_gpu_cache() \n",
    "\n",
    "        return model, score, y_pred_test, df_pred_fold        \n",
    "    \n",
    "    def train_model_cv(model_, X_, y_, X_test_, target_, model_name_, sc_=MinMaxScaler(), sc_second_=None, \n",
    "                       n_splits_=5, seed_=12359, path_='', save_predict_=True, level_='1', \n",
    "                       print_result_=True, feature_=None, trial_=None):\n",
    "            \n",
    "        if feature_!=None: \n",
    "            X_      = X_[feature_]\n",
    "            X_test_ = X_test_[feature_]\n",
    "            \n",
    "        taco              = 52 \n",
    "        y_preds_test      = []\n",
    "        y_preds_val_prob  = [] \n",
    "        y_preds_test_prob = []\n",
    "        score             = []\n",
    "        mdl               = []\n",
    "        random            = str(np.random.rand(1)[0]).replace('.','')\n",
    "        model_name_       = model_name_ + '_score_{:2.5f}_{}_' + random + '.pkl.z'    \n",
    "        clf_name          = model_.__class__.__name__        \n",
    "        df_preds_prob     = pd.DataFrame()\n",
    "        df_feature_imp    = pd.DataFrame()\n",
    "        time_start        = datetime.now()    \n",
    "        n_estimators      = model_.get_params()['n_estimators']\n",
    "        dub_scaler        = '=> Double Scaler' if sc_second_!=None else ''        \n",
    "        lb                = LabelEncoder()\n",
    "        y_                = pd.DataFrame(lb.fit_transform(y_), columns=[target_])\n",
    "        col_prob          = y_[target_].sort_values().unique()\n",
    "        vies              = np.array([0, 0, 0.03, 0.036, 0, 0, 0, 0, 0, 0]) \n",
    "        \n",
    "        if print_result_:\n",
    "            print('='*taco)\n",
    "            print('{} - n_estimators: {} seed: {}  {}'.format(clf_name, n_estimators, seed_, dub_scaler))\n",
    "            print('='*taco)\n",
    "\n",
    "        folds = StratifiedKFold(n_splits=n_splits_, shuffle=True, random_state=seed_)\n",
    "\n",
    "        for fold, (trn_idx, val_idx) in enumerate(folds.split(X_, y_)): #, groups=y\n",
    "\n",
    "            time_fold_start = datetime.now()\n",
    "\n",
    "            # ----------------------------------------------------\n",
    "            # Separar dados para treino \n",
    "            # ----------------------------------------------------\n",
    "            X_trn, X_val, sample_weight_train = X_.iloc[trn_idx], X_.iloc[val_idx], X_.iloc[trn_idx]['sample_weight']\n",
    "            y_trn, y_val, sample_weight_valid = y_.iloc[trn_idx], y_.iloc[val_idx], X_.iloc[val_idx]['sample_weight'] \n",
    "\n",
    "            # ----------------------------------------------------\n",
    "            # Processamento\n",
    "            # ----------------------------------------------------        \n",
    "            X_trn.drop('sample_weight', axis=1, inplace=True)\n",
    "            X_val.drop('sample_weight', axis=1, inplace=True)\n",
    "\n",
    "            X_trn = pd.DataFrame(sc_.fit_transform(X_trn), columns=X_trn.columns)\n",
    "            X_val = pd.DataFrame(sc_.transform(X_val), columns=X_val.columns)\n",
    "            X_tst = pd.DataFrame(sc_.transform(X_test_), columns=X_test_.columns)\n",
    "\n",
    "            if sc_second_ is not None: \n",
    "                X_trn = pd.DataFrame(sc_second_.fit_transform(X_trn), columns=X_trn.columns)\n",
    "                X_val = pd.DataFrame(sc_second_.transform(X_val), columns=X_val.columns)\n",
    "                X_tst = pd.DataFrame(sc_second_.transform(X_tst), columns=X_tst.columns)\n",
    "\n",
    "            # ---------------------------------------------------- \n",
    "            # Treinar o modelo \n",
    "            # ----------------------------------------------------     \n",
    "            model_.fit(X_trn, \n",
    "                       y_trn,\n",
    "                       sample_weight_train,\n",
    "                       eval_set              = [(X_trn, y_trn), (X_val, y_val)],          \n",
    "                       early_stopping_rounds = int(n_estimators*.1),\n",
    "                       verbose               = False)\n",
    "\n",
    "            # ---------------------------------------------------- \n",
    "            # Predição \n",
    "            # ----------------------------------------------------     \n",
    "            #y_pred_val       = model_.predict(X_val, ntree_limit=model_.best_ntree_limit)    \n",
    "            y_pred_val_prob  = model_.predict_proba(X_val, ntree_limit=model_.best_ntree_limit) \n",
    "            y_pred_test_prob = model_.predict_proba(X_tst, ntree_limit=model_.best_ntree_limit)\n",
    "\n",
    "            y_pred_val_prob += vies         \n",
    "            y_pred_val       = np.argmax(y_pred_val_prob, axis=1)\n",
    "\n",
    "            y_preds_test.append(model_.predict(X_tst))\n",
    "            y_preds_test_prob.append(y_pred_test_prob)\n",
    "\n",
    "            df_prob_temp    = pd.DataFrame(y_pred_val_prob, columns=col_prob)\n",
    "            y_pred_pbro_max = df_prob_temp.max(axis=1)\n",
    "\n",
    "            df_prob_temp['fold']    = fold+1\n",
    "            df_prob_temp['id']      = val_idx        \n",
    "            df_prob_temp['y_val']   = y_val.values        \n",
    "            df_prob_temp['y_pred']  = y_pred_val\n",
    "            df_prob_temp['y_proba'] = np.max(y_pred_val_prob, axis=1)\n",
    "\n",
    "            df_preds_prob = pd.concat([df_preds_prob, df_prob_temp], axis=0)\n",
    "\n",
    "            # ---------------------------------------------------- \n",
    "            # Score \n",
    "            # ---------------------------------------------------- \n",
    "            acc = metrics.accuracy_score(y_val, y_pred_val, sample_weight=sample_weight_valid)\n",
    "            score.append(acc)     \n",
    "\n",
    "            # ---------------------------------------------------- \n",
    "            # Print resultado  \n",
    "            # ---------------------------------------------------- \n",
    "            time_fold_end = diff(time_fold_start, datetime.now())        \n",
    "            msg = '[Fold {}] ACC: {:2.5f} -  {}'\n",
    "            \n",
    "            if print_result_:\n",
    "                print(msg.format(fold+1, acc, time_fold_end))\n",
    "\n",
    "            # ---------------------------------------------------- \n",
    "            # Feature Importance\n",
    "            # ----------------------------------------------------             \n",
    "            feat_imp = pd.DataFrame(index   = X_trn.columns,\n",
    "                                    data    = model_.feature_importances_,                            \n",
    "                                    columns = ['fold_{}'.format(fold+1)])\n",
    "\n",
    "            feat_imp['acc_'+str(fold+1)] = acc\n",
    "            df_feature_imp = pd.concat([df_feature_imp, feat_imp], axis=1)\n",
    "\n",
    "            # ---------------------------------------------------- \n",
    "            # Salva o modelo \n",
    "            # ---------------------------------------------------- \n",
    "            dic_model = {'scaler': sc_, \n",
    "                         'scaler_second': sc_second_,\n",
    "                         'fold': fold+1,\n",
    "                         'model': model_,                         \n",
    "                         'vies': vies}\n",
    "\n",
    "            mdl.append(dic_model)\n",
    "            \n",
    "            if trial_ is not None:\n",
    "                trial_.report(acc, fold)\n",
    "                if trial_.should_prune():\n",
    "                    raise optuna.TrialPruned()\n",
    "\n",
    "            time_end = diff(time_start, datetime.now())   \n",
    "\n",
    "        acc_mean = np.mean(score) \n",
    "        acc_std  = np.std(score)\n",
    "        \n",
    "        df_preds_prob.sort_values(\"id\", axis=0, ascending=True, inplace=True)\n",
    "\n",
    "        # ------------------------------\n",
    "        # Pós-processamento\n",
    "        # referencia: https://www.kaggle.com/ambrosm/tpsfeb22-02-postprocessing-against-the-mutants\n",
    "        # -------------------------------        \n",
    "        y_proba  = sum(y_preds_test_prob) / len(y_preds_test_prob)\n",
    "        y_proba += vies          \n",
    "\n",
    "        y_pred_test       = np.argmax(y_proba, axis=1)\n",
    "        y_pred_tuned      = lb.inverse_transform(y_pred_test)\n",
    "        y_pred_tuned_prob = np.max(y_proba, axis=1)\n",
    "\n",
    "        if save_predict_:                 \n",
    "            TunningModels.save_data_model(model_             = mdl, \n",
    "                                          model_name_        = model_name_, \n",
    "                                          path_              = path_, \n",
    "                                          y_pred_train_prob_ = df_preds_prob['y_proba'], \n",
    "                                          y_pred_test_prob_  = y_pred_tuned_prob, \n",
    "                                          y_pred_test_       = y_pred_tuned,\n",
    "                                          score_             = acc_mean, \n",
    "                                          seed_              = seed_, \n",
    "                                          level_             = level_, \n",
    "                                          target_            = target_\n",
    "                                          ) \n",
    "\n",
    "        if print_result_:\n",
    "            print('-'*taco)\n",
    "            print('[Mean Fold] ACC: {:2.5f} std: {:2.5f} - {}'.format(acc_mean, acc_std, time_end))    \n",
    "            print('='*taco)\n",
    "            print()\n",
    "\n",
    "        del X_trn, X_val, y_trn, y_val, feat_imp\n",
    "\n",
    "        return mdl, acc_mean , df_feature_imp , df_preds_prob, y_pred_test\n",
    "   \n",
    "    def xgb(self, trial):\n",
    "           \n",
    "        # https://xgboost.readthedocs.io/en/latest/parameter.html\n",
    "        # https://amangupta16.medium.com/xgboost-hyperparameters-explained-bb6ce580501d     \n",
    "        \n",
    "        eval_metric = ['mlogloss']\n",
    "                \n",
    "        params = {'objective'         : trial.suggest_categorical('objective', ['multi:softprob']), \n",
    "                  'booster'           : trial.suggest_categorical('booster', ['gbtree']),                 \n",
    "                  'eval_metric'       : trial.suggest_categorical('eval_metric', ['mlogloss']), \n",
    "                  'use_label_encoder' : trial.suggest_categorical('use_label_encoder', ['False']),                   \n",
    "                  'n_estimators'      : trial.suggest_int('n_estimators', 550, 1500, 100),                  \n",
    "                  'max_depth'         : trial.suggest_int('max_depth', 5, 15),\n",
    "                  'subsample'         : trial.suggest_discrete_uniform('subsample', .7, 1.0, .05), \n",
    "                  'learning_rate'     : trial.suggest_discrete_uniform('learning_rate', .01, 0.19, 0.01),\n",
    "                  'reg_alpha'         : trial.suggest_int('reg_alpha', 1, 10), \n",
    "                  'reg_lambda'        : trial.suggest_int('reg_lambda', 5, 50),\n",
    "                  'min_child_weight'  : trial.suggest_int('min_child_weight', 5, 25),  \n",
    "                  'colsample_bytree'  : trial.suggest_float('colsample_bytree', 0.8, 1.0),   \n",
    "                  'sampling_method'   : trial.suggest_categorical('sampling_method', ['gradient_based']), \n",
    "                 }\n",
    "             \n",
    "        if torch.cuda.is_available():           \n",
    "            params.update({'predictor'  : trial.suggest_categorical('predictor', ['gpu_predictor']), \n",
    "                           'tree_method': trial.suggest_categorical('tree_method', ['gpu_hist']) , \n",
    "                           'gpu_id'     : trial.suggest_int('gpu_id', 0,0)})\n",
    "                \n",
    "        #pruning_callback = optuna.integration.XGBoostPruningCallback(trial, \"validation-auc\")\n",
    "        \n",
    "        mdl = xgb.XGBClassifier(**params) #, callbacks=[pruning_callback])\n",
    "        \n",
    "        _, score, _, _, _  = TunningModels.train_model_cv(model_        = mdl, \n",
    "                                                          X_            = self.X_trn, \n",
    "                                                          y_            = self.y_trn, \n",
    "                                                          X_test_       = self.X_ts, \n",
    "                                                          target_       = self.target, \n",
    "                                                          model_name_   = self.name_clf, \n",
    "                                                          sc_           = self.scaler, \n",
    "                                                          sc_second_    = self.sc_second, \n",
    "                                                          feature_      = self.feature,\n",
    "                                                          n_splits_     = self.n_splits, \n",
    "                                                          seed_         = self.seed,\n",
    "                                                          path_         = self.path,\n",
    "                                                          level_        = self.level, \n",
    "                                                          trial_        = trial\n",
    "                                                      )\n",
    "            \n",
    "        print('param = {}'.format(params))\n",
    "        print()\n",
    "\n",
    "        return score\n",
    "    "
   ]
  }
 ],
 "metadata": {
  "accelerator": "GPU",
  "colab": {
   "collapsed_sections": [
    "8fbfb0dc",
    "4e0c4c3e",
    "e403ddc8",
    "3bb4d222",
    "6ccf4873",
    "87f37535",
    "8f3f951a",
    "94e98bd9",
    "a2a11987",
    "8119e582",
    "df14f604",
    "3d85ab20",
    "f1aa2d3d",
    "602980ad",
    "e4f16aa2",
    "4ab4607b",
    "ae48fe99",
    "544e5ba5",
    "1695b88b",
    "fcccc9c4",
    "12c44033"
   ],
   "machine_shape": "hm",
   "name": "02 - Features Engineering.ipynb",
   "provenance": [],
   "toc_visible": true
  },
  "gpuClass": "standard",
  "hide_input": false,
  "kernelspec": {
   "display_name": "Python 3 (ipykernel)",
   "language": "python",
   "name": "python3"
  },
  "language_info": {
   "codemirror_mode": {
    "name": "ipython",
    "version": 3
   },
   "file_extension": ".py",
   "mimetype": "text/x-python",
   "name": "python",
   "nbconvert_exporter": "python",
   "pygments_lexer": "ipython3",
   "version": "3.9.15"
  },
  "nbTranslate": {
   "displayLangs": [
    "en",
    "pt-br"
   ],
   "hotkey": "",
   "langInMainMenu": true,
   "sourceLang": "en",
   "targetLang": "pt-br",
   "useGoogleTranslate": true
  },
  "papermill": {
   "default_parameters": {},
   "duration": 1855.87013,
   "end_time": "2022-02-13T04:19:37.763339",
   "environment_variables": {},
   "exception": null,
   "input_path": "__notebook__.ipynb",
   "output_path": "__notebook__.ipynb",
   "parameters": {},
   "start_time": "2022-02-13T03:48:41.893209",
   "version": "2.3.3"
  },
  "toc": {
   "base_numbering": 1,
   "nav_menu": {},
   "number_sections": false,
   "sideBar": true,
   "skip_h1_title": false,
   "title_cell": "Table of Contents",
   "title_sidebar": "Contents",
   "toc_cell": false,
   "toc_position": {
    "height": "calc(100% - 180px)",
    "left": "10px",
    "top": "150px",
    "width": "236px"
   },
   "toc_section_display": true,
   "toc_window_display": true
  },
  "varInspector": {
   "cols": {
    "lenName": 16,
    "lenType": 16,
    "lenVar": 40
   },
   "kernels_config": {
    "python": {
     "delete_cmd_postfix": "",
     "delete_cmd_prefix": "del ",
     "library": "var_list.py",
     "varRefreshCmd": "print(var_dic_list())"
    },
    "r": {
     "delete_cmd_postfix": ") ",
     "delete_cmd_prefix": "rm(",
     "library": "var_list.r",
     "varRefreshCmd": "cat(var_dic_list()) "
    }
   },
   "types_to_exclude": [
    "module",
    "function",
    "builtin_function_or_method",
    "instance",
    "_Feature"
   ],
   "window_display": false
  }
 },
 "nbformat": 4,
 "nbformat_minor": 5
}
