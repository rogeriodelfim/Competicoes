{
 "cells": [
  {
   "cell_type": "markdown",
   "id": "579f8468",
   "metadata": {
    "papermill": {
     "duration": 0.033977,
     "end_time": "2022-04-28T05:42:43.910715",
     "exception": false,
     "start_time": "2022-04-28T05:42:43.876738",
     "status": "completed"
    },
    "tags": []
   },
   "source": [
    "# Prepare Data "
   ]
  },
  {
   "cell_type": "code",
   "execution_count": 1,
   "id": "5c39958e",
   "metadata": {
    "execution": {
     "iopub.execute_input": "2022-04-28T05:42:43.979497Z",
     "iopub.status.busy": "2022-04-28T05:42:43.978283Z",
     "iopub.status.idle": "2022-04-28T05:42:45.156216Z",
     "shell.execute_reply": "2022-04-28T05:42:45.155127Z",
     "shell.execute_reply.started": "2022-04-28T05:22:32.272595Z"
    },
    "id": "Kkl1xQV_WjOy",
    "papermill": {
     "duration": 1.212614,
     "end_time": "2022-04-28T05:42:45.156397",
     "exception": false,
     "start_time": "2022-04-28T05:42:43.943783",
     "status": "completed"
    },
    "tags": []
   },
   "outputs": [
    {
     "name": "stdout",
     "output_type": "stream",
     "text": [
      "/kaggle/input/flight-price-prediction/business.csv\n",
      "/kaggle/input/flight-price-prediction/economy.csv\n",
      "/kaggle/input/flight-price-prediction/Clean_Dataset.csv\n"
     ]
    }
   ],
   "source": [
    "import os\n",
    "for dirname, _, filenames in os.walk('/kaggle/input'):\n",
    "    for filename in filenames:\n",
    "        print(os.path.join(dirname, filename))\n",
    "        \n",
    "%matplotlib inline\n",
    "import pandas as pd \n",
    "import matplotlib.pyplot as plt \n",
    "import numpy as np \n",
    "import seaborn as sns "
   ]
  },
  {
   "cell_type": "code",
   "execution_count": 2,
   "id": "42f63b76",
   "metadata": {
    "execution": {
     "iopub.execute_input": "2022-04-28T05:42:45.225927Z",
     "iopub.status.busy": "2022-04-28T05:42:45.225297Z",
     "iopub.status.idle": "2022-04-28T05:42:46.016838Z",
     "shell.execute_reply": "2022-04-28T05:42:46.018152Z",
     "shell.execute_reply.started": "2022-04-28T05:22:33.396208Z"
    },
    "id": "tE00yCckXKeL",
    "outputId": "b234642f-4e9f-487f-daaf-6b531eb6fa57",
    "papermill": {
     "duration": 0.827993,
     "end_time": "2022-04-28T05:42:46.018506",
     "exception": false,
     "start_time": "2022-04-28T05:42:45.190513",
     "status": "completed"
    },
    "tags": []
   },
   "outputs": [
    {
     "data": {
      "text/html": [
       "<div>\n",
       "<style scoped>\n",
       "    .dataframe tbody tr th:only-of-type {\n",
       "        vertical-align: middle;\n",
       "    }\n",
       "\n",
       "    .dataframe tbody tr th {\n",
       "        vertical-align: top;\n",
       "    }\n",
       "\n",
       "    .dataframe thead th {\n",
       "        text-align: right;\n",
       "    }\n",
       "</style>\n",
       "<table border=\"1\" class=\"dataframe\">\n",
       "  <thead>\n",
       "    <tr style=\"text-align: right;\">\n",
       "      <th></th>\n",
       "      <th>Unnamed: 0</th>\n",
       "      <th>airline</th>\n",
       "      <th>flight</th>\n",
       "      <th>source_city</th>\n",
       "      <th>departure_time</th>\n",
       "      <th>stops</th>\n",
       "      <th>arrival_time</th>\n",
       "      <th>destination_city</th>\n",
       "      <th>class</th>\n",
       "      <th>duration</th>\n",
       "      <th>days_left</th>\n",
       "      <th>price</th>\n",
       "    </tr>\n",
       "  </thead>\n",
       "  <tbody>\n",
       "    <tr>\n",
       "      <th>0</th>\n",
       "      <td>0</td>\n",
       "      <td>SpiceJet</td>\n",
       "      <td>SG-8709</td>\n",
       "      <td>Delhi</td>\n",
       "      <td>Evening</td>\n",
       "      <td>zero</td>\n",
       "      <td>Night</td>\n",
       "      <td>Mumbai</td>\n",
       "      <td>Economy</td>\n",
       "      <td>2.17</td>\n",
       "      <td>1</td>\n",
       "      <td>5953</td>\n",
       "    </tr>\n",
       "    <tr>\n",
       "      <th>1</th>\n",
       "      <td>1</td>\n",
       "      <td>SpiceJet</td>\n",
       "      <td>SG-8157</td>\n",
       "      <td>Delhi</td>\n",
       "      <td>Early_Morning</td>\n",
       "      <td>zero</td>\n",
       "      <td>Morning</td>\n",
       "      <td>Mumbai</td>\n",
       "      <td>Economy</td>\n",
       "      <td>2.33</td>\n",
       "      <td>1</td>\n",
       "      <td>5953</td>\n",
       "    </tr>\n",
       "    <tr>\n",
       "      <th>2</th>\n",
       "      <td>2</td>\n",
       "      <td>AirAsia</td>\n",
       "      <td>I5-764</td>\n",
       "      <td>Delhi</td>\n",
       "      <td>Early_Morning</td>\n",
       "      <td>zero</td>\n",
       "      <td>Early_Morning</td>\n",
       "      <td>Mumbai</td>\n",
       "      <td>Economy</td>\n",
       "      <td>2.17</td>\n",
       "      <td>1</td>\n",
       "      <td>5956</td>\n",
       "    </tr>\n",
       "    <tr>\n",
       "      <th>3</th>\n",
       "      <td>3</td>\n",
       "      <td>Vistara</td>\n",
       "      <td>UK-995</td>\n",
       "      <td>Delhi</td>\n",
       "      <td>Morning</td>\n",
       "      <td>zero</td>\n",
       "      <td>Afternoon</td>\n",
       "      <td>Mumbai</td>\n",
       "      <td>Economy</td>\n",
       "      <td>2.25</td>\n",
       "      <td>1</td>\n",
       "      <td>5955</td>\n",
       "    </tr>\n",
       "    <tr>\n",
       "      <th>4</th>\n",
       "      <td>4</td>\n",
       "      <td>Vistara</td>\n",
       "      <td>UK-963</td>\n",
       "      <td>Delhi</td>\n",
       "      <td>Morning</td>\n",
       "      <td>zero</td>\n",
       "      <td>Morning</td>\n",
       "      <td>Mumbai</td>\n",
       "      <td>Economy</td>\n",
       "      <td>2.33</td>\n",
       "      <td>1</td>\n",
       "      <td>5955</td>\n",
       "    </tr>\n",
       "  </tbody>\n",
       "</table>\n",
       "</div>"
      ],
      "text/plain": [
       "   Unnamed: 0   airline   flight source_city departure_time stops  \\\n",
       "0           0  SpiceJet  SG-8709       Delhi        Evening  zero   \n",
       "1           1  SpiceJet  SG-8157       Delhi  Early_Morning  zero   \n",
       "2           2   AirAsia   I5-764       Delhi  Early_Morning  zero   \n",
       "3           3   Vistara   UK-995       Delhi        Morning  zero   \n",
       "4           4   Vistara   UK-963       Delhi        Morning  zero   \n",
       "\n",
       "    arrival_time destination_city    class  duration  days_left  price  \n",
       "0          Night           Mumbai  Economy      2.17          1   5953  \n",
       "1        Morning           Mumbai  Economy      2.33          1   5953  \n",
       "2  Early_Morning           Mumbai  Economy      2.17          1   5956  \n",
       "3      Afternoon           Mumbai  Economy      2.25          1   5955  \n",
       "4        Morning           Mumbai  Economy      2.33          1   5955  "
      ]
     },
     "execution_count": 2,
     "metadata": {},
     "output_type": "execute_result"
    }
   ],
   "source": [
    "df = pd.read_csv('/kaggle/input/flight-price-prediction/Clean_Dataset.csv')\n",
    "df.head(5)"
   ]
  },
  {
   "cell_type": "markdown",
   "id": "f973cbed",
   "metadata": {
    "id": "uewzMacSY4xs",
    "papermill": {
     "duration": 0.032178,
     "end_time": "2022-04-28T05:42:46.083306",
     "exception": false,
     "start_time": "2022-04-28T05:42:46.051128",
     "status": "completed"
    },
    "tags": []
   },
   "source": [
    "# EDA"
   ]
  },
  {
   "cell_type": "code",
   "execution_count": 3,
   "id": "6c92847f",
   "metadata": {
    "execution": {
     "iopub.execute_input": "2022-04-28T05:42:46.152154Z",
     "iopub.status.busy": "2022-04-28T05:42:46.151463Z",
     "iopub.status.idle": "2022-04-28T05:42:46.415762Z",
     "shell.execute_reply": "2022-04-28T05:42:46.415118Z",
     "shell.execute_reply.started": "2022-04-28T05:22:34.141051Z"
    },
    "id": "vQeRyHmLY53X",
    "outputId": "0429672f-803b-4372-c8e2-333d1fb28da2",
    "papermill": {
     "duration": 0.299178,
     "end_time": "2022-04-28T05:42:46.415900",
     "exception": false,
     "start_time": "2022-04-28T05:42:46.116722",
     "status": "completed"
    },
    "tags": []
   },
   "outputs": [
    {
     "data": {
      "text/plain": [
       "Unnamed: 0          0\n",
       "airline             0\n",
       "flight              0\n",
       "source_city         0\n",
       "departure_time      0\n",
       "stops               0\n",
       "arrival_time        0\n",
       "destination_city    0\n",
       "class               0\n",
       "duration            0\n",
       "days_left           0\n",
       "price               0\n",
       "dtype: int64"
      ]
     },
     "execution_count": 3,
     "metadata": {},
     "output_type": "execute_result"
    }
   ],
   "source": [
    "#Clean data.\n",
    "df.isna().sum()\n",
    "#No missing data."
   ]
  },
  {
   "cell_type": "code",
   "execution_count": 4,
   "id": "58b8513e",
   "metadata": {
    "execution": {
     "iopub.execute_input": "2022-04-28T05:42:46.489286Z",
     "iopub.status.busy": "2022-04-28T05:42:46.488645Z",
     "iopub.status.idle": "2022-04-28T05:42:46.520060Z",
     "shell.execute_reply": "2022-04-28T05:42:46.520569Z",
     "shell.execute_reply.started": "2022-04-28T05:22:34.409501Z"
    },
    "id": "tOqUs6UjZRx9",
    "papermill": {
     "duration": 0.072341,
     "end_time": "2022-04-28T05:42:46.520755",
     "exception": false,
     "start_time": "2022-04-28T05:42:46.448414",
     "status": "completed"
    },
    "tags": []
   },
   "outputs": [],
   "source": [
    "#Drop Unnamed value:\n",
    "df.drop(columns = ['Unnamed: 0'],inplace = True)"
   ]
  },
  {
   "cell_type": "code",
   "execution_count": 5,
   "id": "2bf22d23",
   "metadata": {
    "execution": {
     "iopub.execute_input": "2022-04-28T05:42:46.590087Z",
     "iopub.status.busy": "2022-04-28T05:42:46.589470Z",
     "iopub.status.idle": "2022-04-28T05:42:46.605725Z",
     "shell.execute_reply": "2022-04-28T05:42:46.605094Z",
     "shell.execute_reply.started": "2022-04-28T05:22:34.447728Z"
    },
    "id": "_mkO3D94apGU",
    "outputId": "93509ba7-df8c-4b33-c00b-8f256cfe2c58",
    "papermill": {
     "duration": 0.051004,
     "end_time": "2022-04-28T05:42:46.605860",
     "exception": false,
     "start_time": "2022-04-28T05:42:46.554856",
     "status": "completed"
    },
    "tags": []
   },
   "outputs": [
    {
     "data": {
      "text/html": [
       "<div>\n",
       "<style scoped>\n",
       "    .dataframe tbody tr th:only-of-type {\n",
       "        vertical-align: middle;\n",
       "    }\n",
       "\n",
       "    .dataframe tbody tr th {\n",
       "        vertical-align: top;\n",
       "    }\n",
       "\n",
       "    .dataframe thead th {\n",
       "        text-align: right;\n",
       "    }\n",
       "</style>\n",
       "<table border=\"1\" class=\"dataframe\">\n",
       "  <thead>\n",
       "    <tr style=\"text-align: right;\">\n",
       "      <th></th>\n",
       "      <th>airline</th>\n",
       "      <th>flight</th>\n",
       "      <th>source_city</th>\n",
       "      <th>departure_time</th>\n",
       "      <th>stops</th>\n",
       "      <th>arrival_time</th>\n",
       "      <th>destination_city</th>\n",
       "      <th>class</th>\n",
       "      <th>duration</th>\n",
       "      <th>days_left</th>\n",
       "      <th>price</th>\n",
       "    </tr>\n",
       "  </thead>\n",
       "  <tbody>\n",
       "    <tr>\n",
       "      <th>0</th>\n",
       "      <td>SpiceJet</td>\n",
       "      <td>SG-8709</td>\n",
       "      <td>Delhi</td>\n",
       "      <td>Evening</td>\n",
       "      <td>zero</td>\n",
       "      <td>Night</td>\n",
       "      <td>Mumbai</td>\n",
       "      <td>Economy</td>\n",
       "      <td>2.17</td>\n",
       "      <td>1</td>\n",
       "      <td>5953</td>\n",
       "    </tr>\n",
       "    <tr>\n",
       "      <th>1</th>\n",
       "      <td>SpiceJet</td>\n",
       "      <td>SG-8157</td>\n",
       "      <td>Delhi</td>\n",
       "      <td>Early_Morning</td>\n",
       "      <td>zero</td>\n",
       "      <td>Morning</td>\n",
       "      <td>Mumbai</td>\n",
       "      <td>Economy</td>\n",
       "      <td>2.33</td>\n",
       "      <td>1</td>\n",
       "      <td>5953</td>\n",
       "    </tr>\n",
       "    <tr>\n",
       "      <th>2</th>\n",
       "      <td>AirAsia</td>\n",
       "      <td>I5-764</td>\n",
       "      <td>Delhi</td>\n",
       "      <td>Early_Morning</td>\n",
       "      <td>zero</td>\n",
       "      <td>Early_Morning</td>\n",
       "      <td>Mumbai</td>\n",
       "      <td>Economy</td>\n",
       "      <td>2.17</td>\n",
       "      <td>1</td>\n",
       "      <td>5956</td>\n",
       "    </tr>\n",
       "    <tr>\n",
       "      <th>3</th>\n",
       "      <td>Vistara</td>\n",
       "      <td>UK-995</td>\n",
       "      <td>Delhi</td>\n",
       "      <td>Morning</td>\n",
       "      <td>zero</td>\n",
       "      <td>Afternoon</td>\n",
       "      <td>Mumbai</td>\n",
       "      <td>Economy</td>\n",
       "      <td>2.25</td>\n",
       "      <td>1</td>\n",
       "      <td>5955</td>\n",
       "    </tr>\n",
       "    <tr>\n",
       "      <th>4</th>\n",
       "      <td>Vistara</td>\n",
       "      <td>UK-963</td>\n",
       "      <td>Delhi</td>\n",
       "      <td>Morning</td>\n",
       "      <td>zero</td>\n",
       "      <td>Morning</td>\n",
       "      <td>Mumbai</td>\n",
       "      <td>Economy</td>\n",
       "      <td>2.33</td>\n",
       "      <td>1</td>\n",
       "      <td>5955</td>\n",
       "    </tr>\n",
       "  </tbody>\n",
       "</table>\n",
       "</div>"
      ],
      "text/plain": [
       "    airline   flight source_city departure_time stops   arrival_time  \\\n",
       "0  SpiceJet  SG-8709       Delhi        Evening  zero          Night   \n",
       "1  SpiceJet  SG-8157       Delhi  Early_Morning  zero        Morning   \n",
       "2   AirAsia   I5-764       Delhi  Early_Morning  zero  Early_Morning   \n",
       "3   Vistara   UK-995       Delhi        Morning  zero      Afternoon   \n",
       "4   Vistara   UK-963       Delhi        Morning  zero        Morning   \n",
       "\n",
       "  destination_city    class  duration  days_left  price  \n",
       "0           Mumbai  Economy      2.17          1   5953  \n",
       "1           Mumbai  Economy      2.33          1   5953  \n",
       "2           Mumbai  Economy      2.17          1   5956  \n",
       "3           Mumbai  Economy      2.25          1   5955  \n",
       "4           Mumbai  Economy      2.33          1   5955  "
      ]
     },
     "execution_count": 5,
     "metadata": {},
     "output_type": "execute_result"
    }
   ],
   "source": [
    "df.head()"
   ]
  },
  {
   "cell_type": "markdown",
   "id": "25c953ce",
   "metadata": {
    "id": "H-zuWw-HcR0Z",
    "papermill": {
     "duration": 0.033019,
     "end_time": "2022-04-28T05:42:46.672124",
     "exception": false,
     "start_time": "2022-04-28T05:42:46.639105",
     "status": "completed"
    },
    "tags": []
   },
   "source": [
    "**Descriptive**"
   ]
  },
  {
   "cell_type": "code",
   "execution_count": 6,
   "id": "a189c456",
   "metadata": {
    "execution": {
     "iopub.execute_input": "2022-04-28T05:42:46.743439Z",
     "iopub.status.busy": "2022-04-28T05:42:46.742753Z",
     "iopub.status.idle": "2022-04-28T05:42:46.794115Z",
     "shell.execute_reply": "2022-04-28T05:42:46.794714Z",
     "shell.execute_reply.started": "2022-04-28T05:22:34.464682Z"
    },
    "id": "FT4MZ-iWayFh",
    "outputId": "45c70d32-5b1b-4217-f9c4-73aa760815eb",
    "papermill": {
     "duration": 0.089397,
     "end_time": "2022-04-28T05:42:46.794877",
     "exception": false,
     "start_time": "2022-04-28T05:42:46.705480",
     "status": "completed"
    },
    "tags": []
   },
   "outputs": [
    {
     "data": {
      "text/html": [
       "<div>\n",
       "<style scoped>\n",
       "    .dataframe tbody tr th:only-of-type {\n",
       "        vertical-align: middle;\n",
       "    }\n",
       "\n",
       "    .dataframe tbody tr th {\n",
       "        vertical-align: top;\n",
       "    }\n",
       "\n",
       "    .dataframe thead th {\n",
       "        text-align: right;\n",
       "    }\n",
       "</style>\n",
       "<table border=\"1\" class=\"dataframe\">\n",
       "  <thead>\n",
       "    <tr style=\"text-align: right;\">\n",
       "      <th></th>\n",
       "      <th>duration</th>\n",
       "      <th>days_left</th>\n",
       "      <th>price</th>\n",
       "    </tr>\n",
       "  </thead>\n",
       "  <tbody>\n",
       "    <tr>\n",
       "      <th>count</th>\n",
       "      <td>300153.000000</td>\n",
       "      <td>300153.000000</td>\n",
       "      <td>300153.000000</td>\n",
       "    </tr>\n",
       "    <tr>\n",
       "      <th>mean</th>\n",
       "      <td>12.221021</td>\n",
       "      <td>26.004751</td>\n",
       "      <td>20889.660523</td>\n",
       "    </tr>\n",
       "    <tr>\n",
       "      <th>std</th>\n",
       "      <td>7.191997</td>\n",
       "      <td>13.561004</td>\n",
       "      <td>22697.767366</td>\n",
       "    </tr>\n",
       "    <tr>\n",
       "      <th>min</th>\n",
       "      <td>0.830000</td>\n",
       "      <td>1.000000</td>\n",
       "      <td>1105.000000</td>\n",
       "    </tr>\n",
       "    <tr>\n",
       "      <th>25%</th>\n",
       "      <td>6.830000</td>\n",
       "      <td>15.000000</td>\n",
       "      <td>4783.000000</td>\n",
       "    </tr>\n",
       "    <tr>\n",
       "      <th>50%</th>\n",
       "      <td>11.250000</td>\n",
       "      <td>26.000000</td>\n",
       "      <td>7425.000000</td>\n",
       "    </tr>\n",
       "    <tr>\n",
       "      <th>75%</th>\n",
       "      <td>16.170000</td>\n",
       "      <td>38.000000</td>\n",
       "      <td>42521.000000</td>\n",
       "    </tr>\n",
       "    <tr>\n",
       "      <th>max</th>\n",
       "      <td>49.830000</td>\n",
       "      <td>49.000000</td>\n",
       "      <td>123071.000000</td>\n",
       "    </tr>\n",
       "  </tbody>\n",
       "</table>\n",
       "</div>"
      ],
      "text/plain": [
       "            duration      days_left          price\n",
       "count  300153.000000  300153.000000  300153.000000\n",
       "mean       12.221021      26.004751   20889.660523\n",
       "std         7.191997      13.561004   22697.767366\n",
       "min         0.830000       1.000000    1105.000000\n",
       "25%         6.830000      15.000000    4783.000000\n",
       "50%        11.250000      26.000000    7425.000000\n",
       "75%        16.170000      38.000000   42521.000000\n",
       "max        49.830000      49.000000  123071.000000"
      ]
     },
     "execution_count": 6,
     "metadata": {},
     "output_type": "execute_result"
    }
   ],
   "source": [
    "df.describe()"
   ]
  },
  {
   "cell_type": "code",
   "execution_count": 7,
   "id": "0499b68f",
   "metadata": {
    "execution": {
     "iopub.execute_input": "2022-04-28T05:42:46.971366Z",
     "iopub.status.busy": "2022-04-28T05:42:46.891935Z",
     "iopub.status.idle": "2022-04-28T05:42:47.531599Z",
     "shell.execute_reply": "2022-04-28T05:42:47.530975Z",
     "shell.execute_reply.started": "2022-04-28T05:22:34.520498Z"
    },
    "id": "W7A5OJeScH3w",
    "outputId": "50c8f71d-b6fe-47da-c475-6521edb47aa3",
    "papermill": {
     "duration": 0.703201,
     "end_time": "2022-04-28T05:42:47.531753",
     "exception": false,
     "start_time": "2022-04-28T05:42:46.828552",
     "status": "completed"
    },
    "tags": []
   },
   "outputs": [
    {
     "data": {
      "text/html": [
       "<div>\n",
       "<style scoped>\n",
       "    .dataframe tbody tr th:only-of-type {\n",
       "        vertical-align: middle;\n",
       "    }\n",
       "\n",
       "    .dataframe tbody tr th {\n",
       "        vertical-align: top;\n",
       "    }\n",
       "\n",
       "    .dataframe thead th {\n",
       "        text-align: right;\n",
       "    }\n",
       "</style>\n",
       "<table border=\"1\" class=\"dataframe\">\n",
       "  <thead>\n",
       "    <tr style=\"text-align: right;\">\n",
       "      <th></th>\n",
       "      <th>airline</th>\n",
       "      <th>flight</th>\n",
       "      <th>source_city</th>\n",
       "      <th>departure_time</th>\n",
       "      <th>stops</th>\n",
       "      <th>arrival_time</th>\n",
       "      <th>destination_city</th>\n",
       "      <th>class</th>\n",
       "    </tr>\n",
       "  </thead>\n",
       "  <tbody>\n",
       "    <tr>\n",
       "      <th>count</th>\n",
       "      <td>300153</td>\n",
       "      <td>300153</td>\n",
       "      <td>300153</td>\n",
       "      <td>300153</td>\n",
       "      <td>300153</td>\n",
       "      <td>300153</td>\n",
       "      <td>300153</td>\n",
       "      <td>300153</td>\n",
       "    </tr>\n",
       "    <tr>\n",
       "      <th>unique</th>\n",
       "      <td>6</td>\n",
       "      <td>1561</td>\n",
       "      <td>6</td>\n",
       "      <td>6</td>\n",
       "      <td>3</td>\n",
       "      <td>6</td>\n",
       "      <td>6</td>\n",
       "      <td>2</td>\n",
       "    </tr>\n",
       "    <tr>\n",
       "      <th>top</th>\n",
       "      <td>Vistara</td>\n",
       "      <td>UK-706</td>\n",
       "      <td>Delhi</td>\n",
       "      <td>Morning</td>\n",
       "      <td>one</td>\n",
       "      <td>Night</td>\n",
       "      <td>Mumbai</td>\n",
       "      <td>Economy</td>\n",
       "    </tr>\n",
       "    <tr>\n",
       "      <th>freq</th>\n",
       "      <td>127859</td>\n",
       "      <td>3235</td>\n",
       "      <td>61343</td>\n",
       "      <td>71146</td>\n",
       "      <td>250863</td>\n",
       "      <td>91538</td>\n",
       "      <td>59097</td>\n",
       "      <td>206666</td>\n",
       "    </tr>\n",
       "  </tbody>\n",
       "</table>\n",
       "</div>"
      ],
      "text/plain": [
       "        airline  flight source_city departure_time   stops arrival_time  \\\n",
       "count    300153  300153      300153         300153  300153       300153   \n",
       "unique        6    1561           6              6       3            6   \n",
       "top     Vistara  UK-706       Delhi        Morning     one        Night   \n",
       "freq     127859    3235       61343          71146  250863        91538   \n",
       "\n",
       "       destination_city    class  \n",
       "count            300153   300153  \n",
       "unique                6        2  \n",
       "top              Mumbai  Economy  \n",
       "freq              59097   206666  "
      ]
     },
     "execution_count": 7,
     "metadata": {},
     "output_type": "execute_result"
    }
   ],
   "source": [
    "df.describe(include='object')"
   ]
  },
  {
   "cell_type": "markdown",
   "id": "928ff69d",
   "metadata": {
    "id": "7RZACmlRgHLD",
    "papermill": {
     "duration": 0.033886,
     "end_time": "2022-04-28T05:42:47.599802",
     "exception": false,
     "start_time": "2022-04-28T05:42:47.565916",
     "status": "completed"
    },
    "tags": []
   },
   "source": [
    "**visualization**"
   ]
  },
  {
   "cell_type": "code",
   "execution_count": 8,
   "id": "49b6dd5d",
   "metadata": {
    "execution": {
     "iopub.execute_input": "2022-04-28T05:42:47.678325Z",
     "iopub.status.busy": "2022-04-28T05:42:47.677684Z",
     "iopub.status.idle": "2022-04-28T05:42:51.824858Z",
     "shell.execute_reply": "2022-04-28T05:42:51.825349Z",
     "shell.execute_reply.started": "2022-04-28T05:28:50.735144Z"
    },
    "id": "lZRHMNHVcMt2",
    "outputId": "31e85d4f-19bf-4275-fc46-028d347d2cda",
    "papermill": {
     "duration": 4.19165,
     "end_time": "2022-04-28T05:42:51.825514",
     "exception": false,
     "start_time": "2022-04-28T05:42:47.633864",
     "status": "completed"
    },
    "tags": []
   },
   "outputs": [
    {
     "data": {
      "text/plain": [
       "<AxesSubplot:title={'center':'Price variation with airlines'}, xlabel='airline', ylabel='price'>"
      ]
     },
     "execution_count": 8,
     "metadata": {},
     "output_type": "execute_result"
    },
    {
     "data": {
      "image/png": "[encoded data removed]",
      "text/plain": [
       "<Figure size 864x576 with 1 Axes>"
      ]
     },
     "metadata": {
      "needs_background": "light"
     },
     "output_type": "display_data"
    }
   ],
   "source": [
    "plt.rcParams['figure.figsize'] = (12,8)\n",
    "plt.title('Price variation with airlines')\n",
    "sns.barplot(x='airline',y= 'price', data=df)"
   ]
  },
  {
   "cell_type": "markdown",
   "id": "8b6eba2b",
   "metadata": {
    "id": "iT6az0mGgUMi",
    "papermill": {
     "duration": 0.035056,
     "end_time": "2022-04-28T05:42:51.896360",
     "exception": false,
     "start_time": "2022-04-28T05:42:51.861304",
     "status": "completed"
    },
    "tags": []
   },
   "source": [
    "**Question B)** How is the price affected when tickets are bought in just 1 or 2 days before departure?\n",
    "**Answer**: From above if bought ticket before departure just 1-2 days price will higher"
   ]
  },
  {
   "cell_type": "code",
   "execution_count": 9,
   "id": "573ac14c",
   "metadata": {
    "execution": {
     "iopub.execute_input": "2022-04-28T05:42:51.986869Z",
     "iopub.status.busy": "2022-04-28T05:42:51.976583Z",
     "iopub.status.idle": "2022-04-28T05:42:57.480043Z",
     "shell.execute_reply": "2022-04-28T05:42:57.480514Z",
     "shell.execute_reply.started": "2022-04-28T05:31:29.096283Z"
    },
    "id": "JuwI2DpUedKc",
    "outputId": "d8f72105-ff44-49f4-c9f2-8daa7521462f",
    "papermill": {
     "duration": 5.548865,
     "end_time": "2022-04-28T05:42:57.480723",
     "exception": false,
     "start_time": "2022-04-28T05:42:51.931858",
     "status": "completed"
    },
    "tags": []
   },
   "outputs": [
    {
     "data": {
      "text/plain": [
       "<AxesSubplot:title={'center':'Price affect when book 1 or 2 days before departure'}, xlabel='days_left', ylabel='price'>"
      ]
     },
     "execution_count": 9,
     "metadata": {},
     "output_type": "execute_result"
    },
    {
     "data": {
      "image/png": "[encoded data removed]",
      "text/plain": [
       "<Figure size 864x576 with 1 Axes>"
      ]
     },
     "metadata": {
      "needs_background": "light"
     },
     "output_type": "display_data"
    }
   ],
   "source": [
    "plt.rcParams['figure.figsize'] = (12,8)\n",
    "plt.title('Price affect when book 1 or 2 days before departure')\n",
    "sns.barplot(x='days_left',y= 'price', data=df)"
   ]
  },
  {
   "cell_type": "markdown",
   "id": "151cf60d",
   "metadata": {
    "id": "U8ReNkuArPhq",
    "papermill": {
     "duration": 0.036975,
     "end_time": "2022-04-28T05:42:57.555565",
     "exception": false,
     "start_time": "2022-04-28T05:42:57.518590",
     "status": "completed"
    },
    "tags": []
   },
   "source": [
    "**Question C)** Does ticket price change based on the departure time and arrival time? **Answer:** Yes ticket price change based on the departure time and arrival time *ie. depature_time = Evening and Arrivaltime = night* this made price lower  "
   ]
  },
  {
   "cell_type": "code",
   "execution_count": 10,
   "id": "dd6be368",
   "metadata": {
    "execution": {
     "iopub.execute_input": "2022-04-28T05:42:57.638611Z",
     "iopub.status.busy": "2022-04-28T05:42:57.637977Z",
     "iopub.status.idle": "2022-04-28T05:43:05.681947Z",
     "shell.execute_reply": "2022-04-28T05:43:05.681375Z",
     "shell.execute_reply.started": "2022-04-28T05:32:52.037080Z"
    },
    "id": "IxQVX2S-jWFs",
    "outputId": "d59737b2-5349-4611-ffeb-66d6b26b14ef",
    "papermill": {
     "duration": 8.089191,
     "end_time": "2022-04-28T05:43:05.682106",
     "exception": false,
     "start_time": "2022-04-28T05:42:57.592915",
     "status": "completed"
    },
    "tags": []
   },
   "outputs": [
    {
     "data": {
      "text/plain": [
       "Text(0.5, 1.0, 'Price variation with arrival time')"
      ]
     },
     "execution_count": 10,
     "metadata": {},
     "output_type": "execute_result"
    },
    {
     "data": {
      "image/png": "[encoded data removed]",
      "text/plain": [
       "<Figure size 1152x432 with 2 Axes>"
      ]
     },
     "metadata": {
      "needs_background": "light"
     },
     "output_type": "display_data"
    }
   ],
   "source": [
    "fig, axes= plt.subplots(1,2,figsize= (16,6))\n",
    "plt.tight_layout(pad=2)\n",
    "sns.barplot(x='departure_time',y='price',data=df,ax=axes[0])\n",
    "axes[0].set_title('Price variation with departure time')\n",
    "\n",
    "\n",
    "sns.barplot(x='arrival_time',y='price',data=df,ax=axes[1])\n",
    "axes[1].set_title('Price variation with arrival time')\n",
    "\n"
   ]
  },
  {
   "cell_type": "code",
   "execution_count": null,
   "id": "100820bd",
   "metadata": {
    "execution": {
     "iopub.execute_input": "2022-04-28T05:33:44.768123Z",
     "iopub.status.busy": "2022-04-28T05:33:44.767805Z",
     "iopub.status.idle": "2022-04-28T05:33:49.286540Z",
     "shell.execute_reply": "2022-04-28T05:33:49.285413Z",
     "shell.execute_reply.started": "2022-04-28T05:33:44.768091Z"
    },
    "papermill": {
     "duration": 0.038482,
     "end_time": "2022-04-28T05:43:05.760555",
     "exception": false,
     "start_time": "2022-04-28T05:43:05.722073",
     "status": "completed"
    },
    "tags": []
   },
   "outputs": [],
   "source": []
  },
  {
   "cell_type": "markdown",
   "id": "6b516f8a",
   "metadata": {
    "id": "jZc0Z0jHK7-L",
    "papermill": {
     "duration": 0.038354,
     "end_time": "2022-04-28T05:43:05.837327",
     "exception": false,
     "start_time": "2022-04-28T05:43:05.798973",
     "status": "completed"
    },
    "tags": []
   },
   "source": [
    "**Question** d) How the price changes with change in Source and Destination?  **Ans:** if source is Delhi price will be high if your destination is bangalore etc. you can see the changed price from above. "
   ]
  },
  {
   "cell_type": "code",
   "execution_count": 11,
   "id": "261eb3c7",
   "metadata": {
    "execution": {
     "iopub.execute_input": "2022-04-28T05:43:05.917505Z",
     "iopub.status.busy": "2022-04-28T05:43:05.916822Z",
     "iopub.status.idle": "2022-04-28T05:43:13.809002Z",
     "shell.execute_reply": "2022-04-28T05:43:13.809549Z",
     "shell.execute_reply.started": "2022-04-28T05:34:19.163454Z"
    },
    "id": "obThtb1jJwsG",
    "outputId": "d15b246b-7fe3-4ec4-d762-00dc74a6877c",
    "papermill": {
     "duration": 7.934171,
     "end_time": "2022-04-28T05:43:13.809751",
     "exception": false,
     "start_time": "2022-04-28T05:43:05.875580",
     "status": "completed"
    },
    "tags": []
   },
   "outputs": [
    {
     "data": {
      "text/plain": [
       "Text(0.5, 1.0, 'Price variation with destination')"
      ]
     },
     "execution_count": 11,
     "metadata": {},
     "output_type": "execute_result"
    },
    {
     "data": {
      "image/png": "[encoded data removed]",
      "text/plain": [
       "<Figure size 1152x432 with 2 Axes>"
      ]
     },
     "metadata": {
      "needs_background": "light"
     },
     "output_type": "display_data"
    }
   ],
   "source": [
    "fig, axes= plt.subplots(1,2,figsize= (16,6))\n",
    "plt.tight_layout(pad=2)\n",
    "sns.barplot(x='source_city',y='price',data=df,ax=axes[0])\n",
    "axes[0].set_title('Price variation with source')\n",
    "\n",
    "\n",
    "sns.barplot(x='destination_city',y='price',data=df,ax=axes[1])\n",
    "axes[1].set_title('Price variation with destination')\n"
   ]
  },
  {
   "cell_type": "code",
   "execution_count": null,
   "id": "53509b6a",
   "metadata": {
    "papermill": {
     "duration": 0.041412,
     "end_time": "2022-04-28T05:43:13.892680",
     "exception": false,
     "start_time": "2022-04-28T05:43:13.851268",
     "status": "completed"
    },
    "tags": []
   },
   "outputs": [],
   "source": []
  },
  {
   "cell_type": "markdown",
   "id": "4f56dfc2",
   "metadata": {
    "id": "2WK13Dg6_52T",
    "papermill": {
     "duration": 0.039541,
     "end_time": "2022-04-28T05:43:13.973346",
     "exception": false,
     "start_time": "2022-04-28T05:43:13.933805",
     "status": "completed"
    },
    "tags": []
   },
   "source": [
    "**Question:**e) How does the ticket price vary between Economy and Business class? **Ans:** There are only two airlines that do have business class and  Business class is more expensive than Economy class too much."
   ]
  },
  {
   "cell_type": "code",
   "execution_count": 12,
   "id": "cbf7f893",
   "metadata": {
    "execution": {
     "iopub.execute_input": "2022-04-28T05:43:14.058845Z",
     "iopub.status.busy": "2022-04-28T05:43:14.057854Z",
     "iopub.status.idle": "2022-04-28T05:43:18.637113Z",
     "shell.execute_reply": "2022-04-28T05:43:18.637649Z",
     "shell.execute_reply.started": "2022-04-28T05:34:59.610596Z"
    },
    "papermill": {
     "duration": 4.623849,
     "end_time": "2022-04-28T05:43:18.637850",
     "exception": false,
     "start_time": "2022-04-28T05:43:14.014001",
     "status": "completed"
    },
    "tags": []
   },
   "outputs": [
    {
     "data": {
      "text/plain": [
       "<AxesSubplot:title={'center':'Price vary between the class'}, xlabel='class', ylabel='price'>"
      ]
     },
     "execution_count": 12,
     "metadata": {},
     "output_type": "execute_result"
    },
    {
     "data": {
      "image/png": "[encoded data removed]",
      "text/plain": [
       "<Figure size 864x576 with 1 Axes>"
      ]
     },
     "metadata": {
      "needs_background": "light"
     },
     "output_type": "display_data"
    }
   ],
   "source": [
    "plt.rcParams['figure.figsize'] = (12,8)\n",
    "plt.title('Price vary between the class')\n",
    "sns.barplot(x = 'class',y='price',data=df)"
   ]
  },
  {
   "cell_type": "markdown",
   "id": "dcebf84b",
   "metadata": {
    "id": "SZNqKqCU28Hx",
    "papermill": {
     "duration": 0.041577,
     "end_time": "2022-04-28T05:43:18.721021",
     "exception": false,
     "start_time": "2022-04-28T05:43:18.679444",
     "status": "completed"
    },
    "tags": []
   },
   "source": [
    "# Modeling"
   ]
  },
  {
   "cell_type": "code",
   "execution_count": 13,
   "id": "5792a3d1",
   "metadata": {
    "execution": {
     "iopub.execute_input": "2022-04-28T05:43:18.807052Z",
     "iopub.status.busy": "2022-04-28T05:43:18.806390Z",
     "iopub.status.idle": "2022-04-28T05:43:19.246819Z",
     "shell.execute_reply": "2022-04-28T05:43:19.246145Z",
     "shell.execute_reply.started": "2022-04-28T05:23:09.602700Z"
    },
    "id": "XF98CP2m59-w",
    "papermill": {
     "duration": 0.484785,
     "end_time": "2022-04-28T05:43:19.246965",
     "exception": false,
     "start_time": "2022-04-28T05:43:18.762180",
     "status": "completed"
    },
    "tags": []
   },
   "outputs": [],
   "source": [
    "from sklearn.model_selection import train_test_split\n",
    "from sklearn.linear_model import LinearRegression\n",
    "from sklearn.metrics import mean_squared_error,r2_score\n",
    "from sklearn.preprocessing import LabelEncoder,OrdinalEncoder,MinMaxScaler"
   ]
  },
  {
   "cell_type": "markdown",
   "id": "46f68d14",
   "metadata": {
    "id": "cTSUbxOCEiDE",
    "papermill": {
     "duration": 0.041078,
     "end_time": "2022-04-28T05:43:19.329943",
     "exception": false,
     "start_time": "2022-04-28T05:43:19.288865",
     "status": "completed"
    },
    "tags": []
   },
   "source": [
    "**Preprocessing**"
   ]
  },
  {
   "cell_type": "code",
   "execution_count": 14,
   "id": "454f747b",
   "metadata": {
    "execution": {
     "iopub.execute_input": "2022-04-28T05:43:19.432073Z",
     "iopub.status.busy": "2022-04-28T05:43:19.431336Z",
     "iopub.status.idle": "2022-04-28T05:43:19.434162Z",
     "shell.execute_reply": "2022-04-28T05:43:19.434641Z",
     "shell.execute_reply.started": "2022-04-28T05:35:26.143515Z"
    },
    "id": "EbL8SbyYDttQ",
    "outputId": "8b2fe436-d0f9-493b-aafc-b86e0d9d5504",
    "papermill": {
     "duration": 0.061568,
     "end_time": "2022-04-28T05:43:19.434831",
     "exception": false,
     "start_time": "2022-04-28T05:43:19.373263",
     "status": "completed"
    },
    "tags": []
   },
   "outputs": [
    {
     "data": {
      "text/html": [
       "<div>\n",
       "<style scoped>\n",
       "    .dataframe tbody tr th:only-of-type {\n",
       "        vertical-align: middle;\n",
       "    }\n",
       "\n",
       "    .dataframe tbody tr th {\n",
       "        vertical-align: top;\n",
       "    }\n",
       "\n",
       "    .dataframe thead th {\n",
       "        text-align: right;\n",
       "    }\n",
       "</style>\n",
       "<table border=\"1\" class=\"dataframe\">\n",
       "  <thead>\n",
       "    <tr style=\"text-align: right;\">\n",
       "      <th></th>\n",
       "      <th>airline</th>\n",
       "      <th>flight</th>\n",
       "      <th>source_city</th>\n",
       "      <th>departure_time</th>\n",
       "      <th>stops</th>\n",
       "      <th>arrival_time</th>\n",
       "      <th>destination_city</th>\n",
       "      <th>class</th>\n",
       "      <th>duration</th>\n",
       "      <th>days_left</th>\n",
       "      <th>price</th>\n",
       "    </tr>\n",
       "  </thead>\n",
       "  <tbody>\n",
       "    <tr>\n",
       "      <th>0</th>\n",
       "      <td>SpiceJet</td>\n",
       "      <td>SG-8709</td>\n",
       "      <td>Delhi</td>\n",
       "      <td>Evening</td>\n",
       "      <td>zero</td>\n",
       "      <td>Night</td>\n",
       "      <td>Mumbai</td>\n",
       "      <td>Economy</td>\n",
       "      <td>2.17</td>\n",
       "      <td>1</td>\n",
       "      <td>5953</td>\n",
       "    </tr>\n",
       "    <tr>\n",
       "      <th>1</th>\n",
       "      <td>SpiceJet</td>\n",
       "      <td>SG-8157</td>\n",
       "      <td>Delhi</td>\n",
       "      <td>Early_Morning</td>\n",
       "      <td>zero</td>\n",
       "      <td>Morning</td>\n",
       "      <td>Mumbai</td>\n",
       "      <td>Economy</td>\n",
       "      <td>2.33</td>\n",
       "      <td>1</td>\n",
       "      <td>5953</td>\n",
       "    </tr>\n",
       "    <tr>\n",
       "      <th>2</th>\n",
       "      <td>AirAsia</td>\n",
       "      <td>I5-764</td>\n",
       "      <td>Delhi</td>\n",
       "      <td>Early_Morning</td>\n",
       "      <td>zero</td>\n",
       "      <td>Early_Morning</td>\n",
       "      <td>Mumbai</td>\n",
       "      <td>Economy</td>\n",
       "      <td>2.17</td>\n",
       "      <td>1</td>\n",
       "      <td>5956</td>\n",
       "    </tr>\n",
       "    <tr>\n",
       "      <th>3</th>\n",
       "      <td>Vistara</td>\n",
       "      <td>UK-995</td>\n",
       "      <td>Delhi</td>\n",
       "      <td>Morning</td>\n",
       "      <td>zero</td>\n",
       "      <td>Afternoon</td>\n",
       "      <td>Mumbai</td>\n",
       "      <td>Economy</td>\n",
       "      <td>2.25</td>\n",
       "      <td>1</td>\n",
       "      <td>5955</td>\n",
       "    </tr>\n",
       "    <tr>\n",
       "      <th>4</th>\n",
       "      <td>Vistara</td>\n",
       "      <td>UK-963</td>\n",
       "      <td>Delhi</td>\n",
       "      <td>Morning</td>\n",
       "      <td>zero</td>\n",
       "      <td>Morning</td>\n",
       "      <td>Mumbai</td>\n",
       "      <td>Economy</td>\n",
       "      <td>2.33</td>\n",
       "      <td>1</td>\n",
       "      <td>5955</td>\n",
       "    </tr>\n",
       "  </tbody>\n",
       "</table>\n",
       "</div>"
      ],
      "text/plain": [
       "    airline   flight source_city departure_time stops   arrival_time  \\\n",
       "0  SpiceJet  SG-8709       Delhi        Evening  zero          Night   \n",
       "1  SpiceJet  SG-8157       Delhi  Early_Morning  zero        Morning   \n",
       "2   AirAsia   I5-764       Delhi  Early_Morning  zero  Early_Morning   \n",
       "3   Vistara   UK-995       Delhi        Morning  zero      Afternoon   \n",
       "4   Vistara   UK-963       Delhi        Morning  zero        Morning   \n",
       "\n",
       "  destination_city    class  duration  days_left  price  \n",
       "0           Mumbai  Economy      2.17          1   5953  \n",
       "1           Mumbai  Economy      2.33          1   5953  \n",
       "2           Mumbai  Economy      2.17          1   5956  \n",
       "3           Mumbai  Economy      2.25          1   5955  \n",
       "4           Mumbai  Economy      2.33          1   5955  "
      ]
     },
     "execution_count": 14,
     "metadata": {},
     "output_type": "execute_result"
    }
   ],
   "source": [
    "df.head()"
   ]
  },
  {
   "cell_type": "code",
   "execution_count": 15,
   "id": "8162985f",
   "metadata": {
    "execution": {
     "iopub.execute_input": "2022-04-28T05:43:19.523207Z",
     "iopub.status.busy": "2022-04-28T05:43:19.522521Z",
     "iopub.status.idle": "2022-04-28T05:43:19.526265Z",
     "shell.execute_reply": "2022-04-28T05:43:19.526860Z",
     "shell.execute_reply.started": "2022-04-28T05:35:31.749429Z"
    },
    "id": "r_71fFuALszl",
    "papermill": {
     "duration": 0.049756,
     "end_time": "2022-04-28T05:43:19.527028",
     "exception": false,
     "start_time": "2022-04-28T05:43:19.477272",
     "status": "completed"
    },
    "tags": []
   },
   "outputs": [],
   "source": [
    "cat_columns = ['airline','flight','source_city','departure_time','stops','arrival_time','destination_city','class',]\n",
    "num_columns = ['duration','days_left']"
   ]
  },
  {
   "cell_type": "code",
   "execution_count": 16,
   "id": "aff1f887",
   "metadata": {
    "execution": {
     "iopub.execute_input": "2022-04-28T05:43:19.614477Z",
     "iopub.status.busy": "2022-04-28T05:43:19.613818Z",
     "iopub.status.idle": "2022-04-28T05:43:20.521109Z",
     "shell.execute_reply": "2022-04-28T05:43:20.520534Z",
     "shell.execute_reply.started": "2022-04-28T05:35:35.980790Z"
    },
    "id": "UfjwSS1kOpff",
    "papermill": {
     "duration": 0.952106,
     "end_time": "2022-04-28T05:43:20.521263",
     "exception": false,
     "start_time": "2022-04-28T05:43:19.569157",
     "status": "completed"
    },
    "tags": []
   },
   "outputs": [],
   "source": [
    "encoder = OrdinalEncoder().fit_transform(df[cat_columns])\n",
    "encoder = pd.DataFrame(encoder,columns = cat_columns)"
   ]
  },
  {
   "cell_type": "code",
   "execution_count": 17,
   "id": "e77da38f",
   "metadata": {
    "execution": {
     "iopub.execute_input": "2022-04-28T05:43:20.617180Z",
     "iopub.status.busy": "2022-04-28T05:43:20.615522Z",
     "iopub.status.idle": "2022-04-28T05:43:20.632974Z",
     "shell.execute_reply": "2022-04-28T05:43:20.632393Z",
     "shell.execute_reply.started": "2022-04-28T05:35:47.988460Z"
    },
    "id": "0y9IXhl1PCMD",
    "papermill": {
     "duration": 0.068571,
     "end_time": "2022-04-28T05:43:20.633158",
     "exception": false,
     "start_time": "2022-04-28T05:43:20.564587",
     "status": "completed"
    },
    "tags": []
   },
   "outputs": [],
   "source": [
    "X = pd.concat([encoder,df[num_columns]],axis=1)\n",
    "Y= df['price']"
   ]
  },
  {
   "cell_type": "code",
   "execution_count": 18,
   "id": "b6aad25d",
   "metadata": {
    "execution": {
     "iopub.execute_input": "2022-04-28T05:43:20.725296Z",
     "iopub.status.busy": "2022-04-28T05:43:20.724416Z",
     "iopub.status.idle": "2022-04-28T05:43:20.801104Z",
     "shell.execute_reply": "2022-04-28T05:43:20.800172Z",
     "shell.execute_reply.started": "2022-04-28T05:23:10.855196Z"
    },
    "id": "5AORgYUgQll_",
    "papermill": {
     "duration": 0.124501,
     "end_time": "2022-04-28T05:43:20.801271",
     "exception": false,
     "start_time": "2022-04-28T05:43:20.676770",
     "status": "completed"
    },
    "tags": []
   },
   "outputs": [],
   "source": [
    "x_train,x_test,y_train,y_test = train_test_split(X,Y,test_size=0.2,random_state = 42)"
   ]
  },
  {
   "cell_type": "code",
   "execution_count": 19,
   "id": "7a9d4cd2",
   "metadata": {
    "execution": {
     "iopub.execute_input": "2022-04-28T05:43:20.897928Z",
     "iopub.status.busy": "2022-04-28T05:43:20.896316Z",
     "iopub.status.idle": "2022-04-28T05:43:21.024492Z",
     "shell.execute_reply": "2022-04-28T05:43:21.025725Z",
     "shell.execute_reply.started": "2022-04-28T05:37:48.582892Z"
    },
    "id": "F5byuaujRbkd",
    "papermill": {
     "duration": 0.180355,
     "end_time": "2022-04-28T05:43:21.026023",
     "exception": false,
     "start_time": "2022-04-28T05:43:20.845668",
     "status": "completed"
    },
    "tags": []
   },
   "outputs": [
    {
     "name": "stdout",
     "output_type": "stream",
     "text": [
      "ML model Accuracy is 90.45747930770209 %\n"
     ]
    }
   ],
   "source": [
    "model = LinearRegression()\n",
    "model.fit(x_train,y_train)\n",
    "y_pred = model.predict(x_test)\n",
    "accuracy = model.score(x_test,y_test)*100\n",
    "print(\"ML model Accuracy is\",accuracy,'%')"
   ]
  },
  {
   "cell_type": "code",
   "execution_count": 20,
   "id": "ed9f04c7",
   "metadata": {
    "execution": {
     "iopub.execute_input": "2022-04-28T05:43:21.178829Z",
     "iopub.status.busy": "2022-04-28T05:43:21.177624Z",
     "iopub.status.idle": "2022-04-28T05:43:21.181302Z",
     "shell.execute_reply": "2022-04-28T05:43:21.181844Z",
     "shell.execute_reply.started": "2022-04-28T05:36:06.798154Z"
    },
    "id": "CYBYWjH1RxrW",
    "outputId": "aa48b10f-f85e-43c1-ea19-496ddfb7265f",
    "papermill": {
     "duration": 0.052975,
     "end_time": "2022-04-28T05:43:21.182025",
     "exception": false,
     "start_time": "2022-04-28T05:43:21.129050",
     "status": "completed"
    },
    "tags": []
   },
   "outputs": [
    {
     "name": "stdout",
     "output_type": "stream",
     "text": [
      "r2_score:  0.9045747930770209\n"
     ]
    }
   ],
   "source": [
    "print(\"r2_score: \",r2_score(y_test,y_pred))"
   ]
  },
  {
   "cell_type": "code",
   "execution_count": 21,
   "id": "7d7a2598",
   "metadata": {
    "execution": {
     "iopub.execute_input": "2022-04-28T05:43:21.273231Z",
     "iopub.status.busy": "2022-04-28T05:43:21.272246Z",
     "iopub.status.idle": "2022-04-28T05:43:21.276773Z",
     "shell.execute_reply": "2022-04-28T05:43:21.277380Z",
     "shell.execute_reply.started": "2022-04-28T05:39:02.658324Z"
    },
    "papermill": {
     "duration": 0.051025,
     "end_time": "2022-04-28T05:43:21.277559",
     "exception": false,
     "start_time": "2022-04-28T05:43:21.226534",
     "status": "completed"
    },
    "tags": []
   },
   "outputs": [],
   "source": [
    "def display_scores(scores):\n",
    "    print(\"Scores:\", scores)\n",
    "    print(\"Mean:\", scores.mean())\n",
    "    print(\"Standard Deviation:\", scores.std())"
   ]
  },
  {
   "cell_type": "code",
   "execution_count": 22,
   "id": "1bb79ace",
   "metadata": {
    "execution": {
     "iopub.execute_input": "2022-04-28T05:43:21.368990Z",
     "iopub.status.busy": "2022-04-28T05:43:21.367983Z",
     "iopub.status.idle": "2022-04-28T05:43:21.372454Z",
     "shell.execute_reply": "2022-04-28T05:43:21.373070Z",
     "shell.execute_reply.started": "2022-04-28T05:40:43.304276Z"
    },
    "papermill": {
     "duration": 0.053081,
     "end_time": "2022-04-28T05:43:21.373281",
     "exception": false,
     "start_time": "2022-04-28T05:43:21.320200",
     "status": "completed"
    },
    "tags": []
   },
   "outputs": [],
   "source": [
    "def rmse(y_pred, y_actual):\n",
    "    return np.sqrt(np.sum((y_pred-y_actual)**2)/y_actual.shape[0])"
   ]
  },
  {
   "cell_type": "code",
   "execution_count": 23,
   "id": "c6d13a4a",
   "metadata": {
    "execution": {
     "iopub.execute_input": "2022-04-28T05:43:21.463608Z",
     "iopub.status.busy": "2022-04-28T05:43:21.462636Z",
     "iopub.status.idle": "2022-04-28T05:43:21.476882Z",
     "shell.execute_reply": "2022-04-28T05:43:21.477879Z",
     "shell.execute_reply.started": "2022-04-28T05:40:24.674504Z"
    },
    "papermill": {
     "duration": 0.061265,
     "end_time": "2022-04-28T05:43:21.478184",
     "exception": false,
     "start_time": "2022-04-28T05:43:21.416919",
     "status": "completed"
    },
    "tags": []
   },
   "outputs": [
    {
     "name": "stdout",
     "output_type": "stream",
     "text": [
      "7013.558484851851\n"
     ]
    }
   ],
   "source": [
    "y_pred = model.predict(x_test)\n",
    "print(rmse(y_pred, y_test))"
   ]
  }
 ],
 "metadata": {
  "kernelspec": {
   "display_name": "Python 3",
   "language": "python",
   "name": "python3"
  },
  "language_info": {
   "codemirror_mode": {
    "name": "ipython",
    "version": 3
   },
   "file_extension": ".py",
   "mimetype": "text/x-python",
   "name": "python",
   "nbconvert_exporter": "python",
   "pygments_lexer": "ipython3",
   "version": "3.7.12"
  },
  "papermill": {
   "default_parameters": {},
   "duration": 48.843438,
   "end_time": "2022-04-28T05:43:22.472318",
   "environment_variables": {},
   "exception": null,
   "input_path": "__notebook__.ipynb",
   "output_path": "__notebook__.ipynb",
   "parameters": {},
   "start_time": "2022-04-28T05:42:33.628880",
   "version": "2.3.3"
  }
 },
 "nbformat": 4,
 "nbformat_minor": 5
}
