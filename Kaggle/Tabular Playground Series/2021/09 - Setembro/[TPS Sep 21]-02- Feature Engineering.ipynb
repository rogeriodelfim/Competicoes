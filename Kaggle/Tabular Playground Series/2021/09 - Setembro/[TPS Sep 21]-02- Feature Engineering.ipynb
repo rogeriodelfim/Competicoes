{
 "cells": [
  {
   "cell_type": "markdown",
   "id": "3836a421",
   "metadata": {
    "ExecuteTime": {
     "end_time": "2021-09-03T02:54:45.753398Z",
     "start_time": "2021-09-03T02:54:45.745397Z"
    },
    "papermill": {
     "duration": 0.04007,
     "end_time": "2021-09-07T03:25:29.071604",
     "exception": false,
     "start_time": "2021-09-07T03:25:29.031534",
     "status": "completed"
    },
    "tags": []
   },
   "source": [
    "<h1 div class='alert alert-success'><center> TPS-Set: Feature Engineering</center></h1>\n",
    "\n",
    "![](https://storage.googleapis.com/kaggle-competitions/kaggle/26480/logos/header.png?t=2021-04-09-00-57-05)"
   ]
  },
  {
   "cell_type": "markdown",
   "id": "c9b611a3",
   "metadata": {
    "papermill": {
     "duration": 0.039251,
     "end_time": "2021-09-07T03:25:29.149414",
     "exception": false,
     "start_time": "2021-09-07T03:25:29.110163",
     "status": "completed"
    },
    "tags": []
   },
   "source": [
    "# <div class=\"alert alert-success\">  0. IMPORTAÇÕES </div>"
   ]
  },
  {
   "cell_type": "code",
   "execution_count": 1,
   "id": "137d2a85",
   "metadata": {
    "ExecuteTime": {
     "end_time": "2021-09-22T11:53:42.995323Z",
     "start_time": "2021-09-22T11:53:29.770792Z"
    },
    "execution": {
     "iopub.execute_input": "2021-09-07T03:25:29.236936Z",
     "iopub.status.busy": "2021-09-07T03:25:29.236285Z",
     "iopub.status.idle": "2021-09-07T03:25:36.532028Z",
     "shell.execute_reply": "2021-09-07T03:25:36.530818Z",
     "shell.execute_reply.started": "2021-09-07T03:06:03.893336Z"
    },
    "papermill": {
     "duration": 7.344564,
     "end_time": "2021-09-07T03:25:36.532198",
     "exception": false,
     "start_time": "2021-09-07T03:25:29.187634",
     "status": "completed"
    },
    "tags": []
   },
   "outputs": [],
   "source": [
    "import warnings\n",
    "import random\n",
    "import os\n",
    "import gc\n",
    "import shap"
   ]
  },
  {
   "cell_type": "code",
   "execution_count": 2,
   "id": "9200ffb6",
   "metadata": {
    "ExecuteTime": {
     "end_time": "2021-09-22T11:53:43.075151Z",
     "start_time": "2021-09-22T11:53:43.001324Z"
    },
    "execution": {
     "iopub.execute_input": "2021-09-07T03:25:36.614169Z",
     "iopub.status.busy": "2021-09-07T03:25:36.613630Z",
     "iopub.status.idle": "2021-09-07T03:25:36.663242Z",
     "shell.execute_reply": "2021-09-07T03:25:36.662784Z",
     "shell.execute_reply.started": "2021-09-07T03:06:09.363789Z"
    },
    "papermill": {
     "duration": 0.092081,
     "end_time": "2021-09-07T03:25:36.663359",
     "exception": false,
     "start_time": "2021-09-07T03:25:36.571278",
     "status": "completed"
    },
    "tags": []
   },
   "outputs": [],
   "source": [
    "import pandas            as pd\n",
    "import numpy             as np\n",
    "import matplotlib.pyplot as plt \n",
    "import seaborn           as sns\n",
    "import joblib            as jb\n",
    "import matplotlib.pyplot as plt"
   ]
  },
  {
   "cell_type": "code",
   "execution_count": 3,
   "id": "8fa7bfc7",
   "metadata": {
    "ExecuteTime": {
     "end_time": "2021-09-22T11:53:43.995467Z",
     "start_time": "2021-09-22T11:53:43.077111Z"
    },
    "execution": {
     "iopub.execute_input": "2021-09-07T03:25:36.744779Z",
     "iopub.status.busy": "2021-09-07T03:25:36.744148Z",
     "iopub.status.idle": "2021-09-07T03:25:36.868622Z",
     "shell.execute_reply": "2021-09-07T03:25:36.868182Z",
     "shell.execute_reply.started": "2021-09-07T03:06:09.413532Z"
    },
    "papermill": {
     "duration": 0.167592,
     "end_time": "2021-09-07T03:25:36.868742",
     "exception": false,
     "start_time": "2021-09-07T03:25:36.701150",
     "status": "completed"
    },
    "tags": []
   },
   "outputs": [],
   "source": [
    "from sklearn.model_selection   import train_test_split\n",
    "from sklearn.preprocessing     import QuantileTransformer\n",
    "from sklearn.cluster           import KMeans\n",
    "from yellowbrick.cluster       import KElbowVisualizer, SilhouetteVisualizer\n",
    "from scipy.stats.mstats        import winsorize\n",
    "from sklearn.decomposition     import PCA\n",
    "from sklearn.impute            import SimpleImputer\n",
    "from sklearn.metrics           import silhouette_samples, silhouette_score\n",
    "from sklearn.model_selection   import train_test_split, KFold, RepeatedStratifiedKFold, StratifiedKFold  \n",
    "from sklearn                   import metrics\n",
    "from prettytable               import PrettyTable\n",
    "from sklearn.neighbors         import KNeighborsClassifier\n",
    "from sklearn.tree              import DecisionTreeClassifier, export_graphviz"
   ]
  },
  {
   "cell_type": "code",
   "execution_count": 4,
   "id": "eb557d3f",
   "metadata": {
    "ExecuteTime": {
     "end_time": "2021-09-22T11:53:44.122084Z",
     "start_time": "2021-09-22T11:53:43.997462Z"
    },
    "execution": {
     "iopub.execute_input": "2021-09-07T03:25:36.949744Z",
     "iopub.status.busy": "2021-09-07T03:25:36.949098Z",
     "iopub.status.idle": "2021-09-07T03:25:37.014952Z",
     "shell.execute_reply": "2021-09-07T03:25:37.014540Z",
     "shell.execute_reply.started": "2021-09-07T03:06:09.518709Z"
    },
    "papermill": {
     "duration": 0.107468,
     "end_time": "2021-09-07T03:25:37.015085",
     "exception": false,
     "start_time": "2021-09-07T03:25:36.907617",
     "status": "completed"
    },
    "tags": []
   },
   "outputs": [],
   "source": [
    "import xgboost                 as xgb"
   ]
  },
  {
   "cell_type": "markdown",
   "id": "71b282bc",
   "metadata": {
    "ExecuteTime": {
     "end_time": "2021-09-03T02:58:45.163478Z",
     "start_time": "2021-09-03T02:58:45.15543Z"
    },
    "papermill": {
     "duration": 0.038897,
     "end_time": "2021-09-07T03:25:37.092489",
     "exception": false,
     "start_time": "2021-09-07T03:25:37.053592",
     "status": "completed"
    },
    "tags": []
   },
   "source": [
    "## 0.2. Funções"
   ]
  },
  {
   "cell_type": "code",
   "execution_count": 5,
   "id": "c9cf63a4",
   "metadata": {
    "ExecuteTime": {
     "end_time": "2021-09-22T11:53:44.154161Z",
     "start_time": "2021-09-22T11:53:44.124087Z"
    },
    "code_folding": [
     0
    ],
    "execution": {
     "iopub.execute_input": "2021-09-07T03:25:37.179537Z",
     "iopub.status.busy": "2021-09-07T03:25:37.178738Z",
     "iopub.status.idle": "2021-09-07T03:25:37.181250Z",
     "shell.execute_reply": "2021-09-07T03:25:37.180720Z",
     "shell.execute_reply.started": "2021-09-07T03:06:09.555374Z"
    },
    "papermill": {
     "duration": 0.050507,
     "end_time": "2021-09-07T03:25:37.181354",
     "exception": false,
     "start_time": "2021-09-07T03:25:37.130847",
     "status": "completed"
    },
    "tags": []
   },
   "outputs": [],
   "source": [
    "def jupyter_setting():\n",
    "    \n",
    "    %matplotlib inline\n",
    "      \n",
    "    #os.environ[\"WANDB_SILENT\"] = \"true\" \n",
    "    #plt.style.use('bmh') \n",
    "    #plt.rcParams['figure.figsize'] = [20,15]\n",
    "    #plt.rcParams['font.size']      = 13\n",
    "     \n",
    "    pd.options.display.max_columns = None\n",
    "    #pd.set_option('display.expand_frame_repr', False)\n",
    "\n",
    "    warnings.filterwarnings(action='ignore')\n",
    "    warnings.simplefilter('ignore')\n",
    "    warnings.filterwarnings('ignore')\n",
    "    #warnings.filterwarnings(category=UserWarning)\n",
    "    \n",
    "    #pd.set_option('display.max_rows', 5)\n",
    "    #pd.set_option('display.max_columns', 500)\n",
    "    #pd.set_option('display.max_colwidth', None)\n",
    "\n",
    "    icecream = [\"#00008b\", \"#960018\",\"#008b00\", \"#00468b\", \"#8b4500\", \"#582c00\"]\n",
    "    #sns.palplot(sns.color_palette(icecream))\n",
    "    \n",
    "    return icecream\n",
    "\n",
    "icecream = jupyter_setting()\n",
    "\n",
    "warnings.filterwarnings('ignore', category=DeprecationWarning)\n",
    "warnings.filterwarnings('ignore', category=FutureWarning)\n",
    "warnings.filterwarnings('ignore', category=RuntimeWarning)\n",
    "warnings.filterwarnings('ignore', category=UserWarning)\n",
    "#warnings.filterwarnings(\"ignore\", category=sklearn.exceptions.UndefinedMetricWarning)"
   ]
  },
  {
   "cell_type": "code",
   "execution_count": 6,
   "id": "46e8cad4",
   "metadata": {
    "ExecuteTime": {
     "end_time": "2021-09-22T11:53:44.169921Z",
     "start_time": "2021-09-22T11:53:44.154957Z"
    },
    "code_folding": [
     0
    ],
    "execution": {
     "iopub.execute_input": "2021-09-07T03:25:37.265461Z",
     "iopub.status.busy": "2021-09-07T03:25:37.264756Z",
     "iopub.status.idle": "2021-09-07T03:25:37.267442Z",
     "shell.execute_reply": "2021-09-07T03:25:37.267004Z",
     "shell.execute_reply.started": "2021-09-07T03:06:09.567088Z"
    },
    "papermill": {
     "duration": 0.048044,
     "end_time": "2021-09-07T03:25:37.267553",
     "exception": false,
     "start_time": "2021-09-07T03:25:37.219509",
     "status": "completed"
    },
    "tags": []
   },
   "outputs": [],
   "source": [
    "def missing_zero_values_table(df):\n",
    "        mis_val         = df.isnull().sum()\n",
    "        mis_val_percent = round(df.isnull().mean().mul(100), 2)\n",
    "        mz_table        = pd.concat([mis_val, mis_val_percent], axis=1)\n",
    "        mz_table        = mz_table.rename(columns = {df.index.name:'col_name', \n",
    "                                                     0 : 'Valores ausentes', \n",
    "                                                     1 : '% de valores totais'})\n",
    "        \n",
    "        mz_table['Tipo de dados'] = df.dtypes\n",
    "        mz_table                  = mz_table[mz_table.iloc[:,1] != 0 ]. \\\n",
    "                                     sort_values('% de valores totais', ascending=False)\n",
    "        \n",
    "        msg = \"Seu dataframe selecionado tem {} colunas e {} \" + \\\n",
    "              \"linhas. \\nExistem {} colunas com valores ausentes.\"\n",
    "            \n",
    "        print (msg.format(df.shape[1], df.shape[0], mz_table.shape[0]))\n",
    "        \n",
    "        return mz_table.reset_index()"
   ]
  },
  {
   "cell_type": "code",
   "execution_count": 7,
   "id": "805d3b97",
   "metadata": {
    "ExecuteTime": {
     "end_time": "2021-09-22T11:53:44.185879Z",
     "start_time": "2021-09-22T11:53:44.171914Z"
    }
   },
   "outputs": [],
   "source": [
    "def reduce_memory_usage(df, verbose=True):\n",
    "    numerics = [\"int8\", \"int16\", \"int32\", \"int64\", \"float16\", \"float32\", \"float64\"]\n",
    "    start_mem = df.memory_usage().sum() / 1024 ** 2\n",
    "    for col in df.columns:\n",
    "        col_type = df[col].dtypes\n",
    "        if col_type in numerics:\n",
    "            c_min = df[col].min()\n",
    "            c_max = df[col].max()\n",
    "            if str(col_type)[:3] == \"int\":\n",
    "                if c_min > np.iinfo(np.int8).min and c_max < np.iinfo(np.int8).max:\n",
    "                    df[col] = df[col].astype(np.int8)\n",
    "                elif c_min > np.iinfo(np.int16).min and c_max < np.iinfo(np.int16).max:\n",
    "                    df[col] = df[col].astype(np.int16)\n",
    "                elif c_min > np.iinfo(np.int32).min and c_max < np.iinfo(np.int32).max:\n",
    "                    df[col] = df[col].astype(np.int32)\n",
    "                elif c_min > np.iinfo(np.int64).min and c_max < np.iinfo(np.int64).max:\n",
    "                    df[col] = df[col].astype(np.int64)\n",
    "            else:\n",
    "                if (\n",
    "                    c_min > np.finfo(np.float16).min\n",
    "                    and c_max < np.finfo(np.float16).max\n",
    "                ):\n",
    "                    df[col] = df[col].astype(np.float16)\n",
    "                elif (\n",
    "                    c_min > np.finfo(np.float32).min\n",
    "                    and c_max < np.finfo(np.float32).max\n",
    "                ):\n",
    "                    df[col] = df[col].astype(np.float32)\n",
    "                else:\n",
    "                    df[col] = df[col].astype(np.float64)\n",
    "    end_mem = df.memory_usage().sum() / 1024 ** 2\n",
    "    if verbose:\n",
    "        print(\n",
    "            \"Mem. usage decreased to {:.2f} Mb ({:.1f}% reduction)\".format(\n",
    "                end_mem, 100 * (start_mem - end_mem) / start_mem\n",
    "            )\n",
    "        )\n",
    "        \n",
    "    return df"
   ]
  },
  {
   "cell_type": "code",
   "execution_count": 8,
   "id": "11880ba6",
   "metadata": {
    "ExecuteTime": {
     "end_time": "2021-09-22T11:53:44.201586Z",
     "start_time": "2021-09-22T11:53:44.187873Z"
    }
   },
   "outputs": [],
   "source": [
    "def plot_precision_recall_vs_threshold(precisions, recalls, thresholds):\n",
    "    \n",
    "    plt.plot(thresholds, precisions[:-1], \"b--\", label=\"Precision\")\n",
    "    plt.plot(thresholds, recalls[:-1], \"g-\", label=\"Recall\")\n",
    "    plt.rcParams['font.size'] = 12\n",
    "    plt.title('Precision Recall vs threshold')\n",
    "    plt.xlabel('Threshold')\n",
    "    plt.legend(loc=\"lower left\")\n",
    "    \n",
    "    plt.grid(True)"
   ]
  },
  {
   "cell_type": "code",
   "execution_count": 9,
   "id": "d8a5a63e",
   "metadata": {
    "ExecuteTime": {
     "end_time": "2021-09-22T11:53:44.216743Z",
     "start_time": "2021-09-22T11:53:44.202543Z"
    }
   },
   "outputs": [],
   "source": [
    "def plot_precision_vs_recall(precisions, recalls):\n",
    "    plt.plot(recalls[:-1], precisions[:-1], \"b-\", label=\"Precision\")\n",
    "    \n",
    "    plt.rcParams['font.size'] = 12\n",
    "    plt.title('Precision vs recall')\n",
    "    plt.xlabel('Recall')\n",
    "    plt.ylabel('Precision')\n",
    "    # plt.legend(loc=\"lower left\")\n",
    "    \n",
    "    plt.grid(True)"
   ]
  },
  {
   "cell_type": "code",
   "execution_count": 10,
   "id": "3565fea9",
   "metadata": {
    "ExecuteTime": {
     "end_time": "2021-09-22T11:53:44.232660Z",
     "start_time": "2021-09-22T11:53:44.219695Z"
    }
   },
   "outputs": [],
   "source": [
    "def plot_roc_curve(fpr, tpr, label=None):\n",
    "    fig, ax = plt.subplots()\n",
    "    ax.plot(fpr, tpr, \"r-\", label=label)\n",
    "    ax.plot([0, 1], [0, 1], transform=ax.transAxes, ls=\"--\", c=\".3\")\n",
    "    plt.xlim([0.0, 1.0])\n",
    "    plt.ylim([0.0, 1.0])\n",
    "    plt.rcParams['font.size'] = 12\n",
    "    plt.title('XGBR ROC curve for TPS 09')\n",
    "    plt.xlabel('False Positive Rate (1 - Specificity)')\n",
    "    plt.ylabel('True Positive Rate (Sensitivity)')\n",
    "    plt.legend(loc=\"lower right\")\n",
    "    plt.grid(True)"
   ]
  },
  {
   "cell_type": "markdown",
   "id": "e2f6d331",
   "metadata": {
    "papermill": {
     "duration": 0.037872,
     "end_time": "2021-09-07T03:25:37.343153",
     "exception": false,
     "start_time": "2021-09-07T03:25:37.305281",
     "status": "completed"
    },
    "tags": []
   },
   "source": [
    "## 0.3. Carregar Dados"
   ]
  },
  {
   "cell_type": "code",
   "execution_count": 11,
   "id": "5ae4e995",
   "metadata": {
    "ExecuteTime": {
     "end_time": "2021-09-22T11:53:44.247872Z",
     "start_time": "2021-09-22T11:53:44.233657Z"
    },
    "execution": {
     "iopub.execute_input": "2021-09-07T03:25:37.423492Z",
     "iopub.status.busy": "2021-09-07T03:25:37.422783Z",
     "iopub.status.idle": "2021-09-07T03:25:37.425144Z",
     "shell.execute_reply": "2021-09-07T03:25:37.425546Z",
     "shell.execute_reply.started": "2021-09-07T03:06:09.577629Z"
    },
    "papermill": {
     "duration": 0.044207,
     "end_time": "2021-09-07T03:25:37.425666",
     "exception": false,
     "start_time": "2021-09-07T03:25:37.381459",
     "status": "completed"
    },
    "tags": []
   },
   "outputs": [],
   "source": [
    "path = '/content/drive/MyDrive/kaggle/07. Tabular Playground Series - Ago 2021/'\n",
    "path = '../input/tabular-playground-series-sep-2021/'\n",
    "path = 'Data/'"
   ]
  },
  {
   "cell_type": "code",
   "execution_count": 12,
   "id": "40d06ad7",
   "metadata": {
    "ExecuteTime": {
     "end_time": "2021-09-22T11:54:14.549129Z",
     "start_time": "2021-09-22T11:53:44.249708Z"
    },
    "execution": {
     "iopub.execute_input": "2021-09-07T03:25:38.241584Z",
     "iopub.status.busy": "2021-09-07T03:25:38.241036Z",
     "iopub.status.idle": "2021-09-07T03:26:19.201263Z",
     "shell.execute_reply": "2021-09-07T03:26:19.201714Z",
     "shell.execute_reply.started": "2021-09-07T03:06:10.249775Z"
    },
    "papermill": {
     "duration": 41.004582,
     "end_time": "2021-09-07T03:26:19.201867",
     "exception": false,
     "start_time": "2021-09-07T03:25:38.197285",
     "status": "completed"
    },
    "tags": []
   },
   "outputs": [
    {
     "data": {
      "text/plain": [
       "((957919, 119), (493474, 118), (493474, 2))"
      ]
     },
     "execution_count": 12,
     "metadata": {},
     "output_type": "execute_result"
    }
   ],
   "source": [
    "df1_train     = pd.read_csv(path + 'train.csv', index_col='id')\n",
    "df1_test      = pd.read_csv(path + 'test.csv',index_col='id')\n",
    "df_submission = pd.read_csv(path + 'sample_solution.csv')\n",
    "\n",
    "df1_train.shape, df1_test.shape, df_submission.shape"
   ]
  },
  {
   "cell_type": "code",
   "execution_count": 13,
   "id": "42c4361b",
   "metadata": {
    "ExecuteTime": {
     "end_time": "2021-09-22T11:54:14.657451Z",
     "start_time": "2021-09-22T11:54:14.551120Z"
    },
    "execution": {
     "iopub.execute_input": "2021-09-07T03:26:19.288066Z",
     "iopub.status.busy": "2021-09-07T03:26:19.287290Z",
     "iopub.status.idle": "2021-09-07T03:26:19.400982Z",
     "shell.execute_reply": "2021-09-07T03:26:19.401426Z",
     "shell.execute_reply.started": "2021-09-07T03:06:51.584114Z"
    },
    "papermill": {
     "duration": 0.159441,
     "end_time": "2021-09-07T03:26:19.401579",
     "exception": false,
     "start_time": "2021-09-07T03:26:19.242138",
     "status": "completed"
    },
    "tags": []
   },
   "outputs": [
    {
     "data": {
      "text/html": [
       "<div>\n",
       "<style scoped>\n",
       "    .dataframe tbody tr th:only-of-type {\n",
       "        vertical-align: middle;\n",
       "    }\n",
       "\n",
       "    .dataframe tbody tr th {\n",
       "        vertical-align: top;\n",
       "    }\n",
       "\n",
       "    .dataframe thead th {\n",
       "        text-align: right;\n",
       "    }\n",
       "</style>\n",
       "<table border=\"1\" class=\"dataframe\">\n",
       "  <thead>\n",
       "    <tr style=\"text-align: right;\">\n",
       "      <th></th>\n",
       "      <th>f1</th>\n",
       "      <th>f2</th>\n",
       "      <th>f3</th>\n",
       "      <th>f4</th>\n",
       "      <th>f5</th>\n",
       "      <th>f6</th>\n",
       "      <th>f7</th>\n",
       "      <th>f8</th>\n",
       "      <th>f9</th>\n",
       "      <th>f10</th>\n",
       "      <th>f11</th>\n",
       "      <th>f12</th>\n",
       "      <th>f13</th>\n",
       "      <th>f14</th>\n",
       "      <th>f15</th>\n",
       "      <th>f16</th>\n",
       "      <th>f17</th>\n",
       "      <th>f18</th>\n",
       "      <th>f19</th>\n",
       "      <th>f20</th>\n",
       "      <th>f21</th>\n",
       "      <th>f22</th>\n",
       "      <th>f23</th>\n",
       "      <th>f24</th>\n",
       "      <th>f25</th>\n",
       "      <th>f26</th>\n",
       "      <th>f27</th>\n",
       "      <th>f28</th>\n",
       "      <th>f29</th>\n",
       "      <th>f30</th>\n",
       "      <th>f31</th>\n",
       "      <th>f32</th>\n",
       "      <th>f33</th>\n",
       "      <th>f34</th>\n",
       "      <th>f35</th>\n",
       "      <th>f36</th>\n",
       "      <th>f37</th>\n",
       "      <th>f38</th>\n",
       "      <th>f39</th>\n",
       "      <th>f40</th>\n",
       "      <th>f41</th>\n",
       "      <th>f42</th>\n",
       "      <th>f43</th>\n",
       "      <th>f44</th>\n",
       "      <th>f45</th>\n",
       "      <th>f46</th>\n",
       "      <th>f47</th>\n",
       "      <th>f48</th>\n",
       "      <th>f49</th>\n",
       "      <th>f50</th>\n",
       "      <th>f51</th>\n",
       "      <th>f52</th>\n",
       "      <th>f53</th>\n",
       "      <th>f54</th>\n",
       "      <th>f55</th>\n",
       "      <th>f56</th>\n",
       "      <th>f57</th>\n",
       "      <th>f58</th>\n",
       "      <th>f59</th>\n",
       "      <th>f60</th>\n",
       "      <th>f61</th>\n",
       "      <th>f62</th>\n",
       "      <th>f63</th>\n",
       "      <th>f64</th>\n",
       "      <th>f65</th>\n",
       "      <th>f66</th>\n",
       "      <th>f67</th>\n",
       "      <th>f68</th>\n",
       "      <th>f69</th>\n",
       "      <th>f70</th>\n",
       "      <th>f71</th>\n",
       "      <th>f72</th>\n",
       "      <th>f73</th>\n",
       "      <th>f74</th>\n",
       "      <th>f75</th>\n",
       "      <th>f76</th>\n",
       "      <th>f77</th>\n",
       "      <th>f78</th>\n",
       "      <th>f79</th>\n",
       "      <th>f80</th>\n",
       "      <th>f81</th>\n",
       "      <th>f82</th>\n",
       "      <th>f83</th>\n",
       "      <th>f84</th>\n",
       "      <th>f85</th>\n",
       "      <th>f86</th>\n",
       "      <th>f87</th>\n",
       "      <th>f88</th>\n",
       "      <th>f89</th>\n",
       "      <th>f90</th>\n",
       "      <th>f91</th>\n",
       "      <th>f92</th>\n",
       "      <th>f93</th>\n",
       "      <th>f94</th>\n",
       "      <th>f95</th>\n",
       "      <th>f96</th>\n",
       "      <th>f97</th>\n",
       "      <th>f98</th>\n",
       "      <th>f99</th>\n",
       "      <th>f100</th>\n",
       "      <th>f101</th>\n",
       "      <th>f102</th>\n",
       "      <th>f103</th>\n",
       "      <th>f104</th>\n",
       "      <th>f105</th>\n",
       "      <th>f106</th>\n",
       "      <th>f107</th>\n",
       "      <th>f108</th>\n",
       "      <th>f109</th>\n",
       "      <th>f110</th>\n",
       "      <th>f111</th>\n",
       "      <th>f112</th>\n",
       "      <th>f113</th>\n",
       "      <th>f114</th>\n",
       "      <th>f115</th>\n",
       "      <th>f116</th>\n",
       "      <th>f117</th>\n",
       "      <th>f118</th>\n",
       "    </tr>\n",
       "    <tr>\n",
       "      <th>id</th>\n",
       "      <th></th>\n",
       "      <th></th>\n",
       "      <th></th>\n",
       "      <th></th>\n",
       "      <th></th>\n",
       "      <th></th>\n",
       "      <th></th>\n",
       "      <th></th>\n",
       "      <th></th>\n",
       "      <th></th>\n",
       "      <th></th>\n",
       "      <th></th>\n",
       "      <th></th>\n",
       "      <th></th>\n",
       "      <th></th>\n",
       "      <th></th>\n",
       "      <th></th>\n",
       "      <th></th>\n",
       "      <th></th>\n",
       "      <th></th>\n",
       "      <th></th>\n",
       "      <th></th>\n",
       "      <th></th>\n",
       "      <th></th>\n",
       "      <th></th>\n",
       "      <th></th>\n",
       "      <th></th>\n",
       "      <th></th>\n",
       "      <th></th>\n",
       "      <th></th>\n",
       "      <th></th>\n",
       "      <th></th>\n",
       "      <th></th>\n",
       "      <th></th>\n",
       "      <th></th>\n",
       "      <th></th>\n",
       "      <th></th>\n",
       "      <th></th>\n",
       "      <th></th>\n",
       "      <th></th>\n",
       "      <th></th>\n",
       "      <th></th>\n",
       "      <th></th>\n",
       "      <th></th>\n",
       "      <th></th>\n",
       "      <th></th>\n",
       "      <th></th>\n",
       "      <th></th>\n",
       "      <th></th>\n",
       "      <th></th>\n",
       "      <th></th>\n",
       "      <th></th>\n",
       "      <th></th>\n",
       "      <th></th>\n",
       "      <th></th>\n",
       "      <th></th>\n",
       "      <th></th>\n",
       "      <th></th>\n",
       "      <th></th>\n",
       "      <th></th>\n",
       "      <th></th>\n",
       "      <th></th>\n",
       "      <th></th>\n",
       "      <th></th>\n",
       "      <th></th>\n",
       "      <th></th>\n",
       "      <th></th>\n",
       "      <th></th>\n",
       "      <th></th>\n",
       "      <th></th>\n",
       "      <th></th>\n",
       "      <th></th>\n",
       "      <th></th>\n",
       "      <th></th>\n",
       "      <th></th>\n",
       "      <th></th>\n",
       "      <th></th>\n",
       "      <th></th>\n",
       "      <th></th>\n",
       "      <th></th>\n",
       "      <th></th>\n",
       "      <th></th>\n",
       "      <th></th>\n",
       "      <th></th>\n",
       "      <th></th>\n",
       "      <th></th>\n",
       "      <th></th>\n",
       "      <th></th>\n",
       "      <th></th>\n",
       "      <th></th>\n",
       "      <th></th>\n",
       "      <th></th>\n",
       "      <th></th>\n",
       "      <th></th>\n",
       "      <th></th>\n",
       "      <th></th>\n",
       "      <th></th>\n",
       "      <th></th>\n",
       "      <th></th>\n",
       "      <th></th>\n",
       "      <th></th>\n",
       "      <th></th>\n",
       "      <th></th>\n",
       "      <th></th>\n",
       "      <th></th>\n",
       "      <th></th>\n",
       "      <th></th>\n",
       "      <th></th>\n",
       "      <th></th>\n",
       "      <th></th>\n",
       "      <th></th>\n",
       "      <th></th>\n",
       "      <th></th>\n",
       "      <th></th>\n",
       "      <th></th>\n",
       "      <th></th>\n",
       "      <th></th>\n",
       "      <th></th>\n",
       "    </tr>\n",
       "  </thead>\n",
       "  <tbody>\n",
       "    <tr>\n",
       "      <th>957919</th>\n",
       "      <td>0.165850</td>\n",
       "      <td>0.487050</td>\n",
       "      <td>1295.00</td>\n",
       "      <td>0.02310</td>\n",
       "      <td>0.31900</td>\n",
       "      <td>0.90188</td>\n",
       "      <td>573.29</td>\n",
       "      <td>3743.7</td>\n",
       "      <td>2.705700e+12</td>\n",
       "      <td>6221.000</td>\n",
       "      <td>1.17200</td>\n",
       "      <td>5.175000e+09</td>\n",
       "      <td>0.25831</td>\n",
       "      <td>3.42050</td>\n",
       "      <td>0.044983</td>\n",
       "      <td>1001.600</td>\n",
       "      <td>10.1040</td>\n",
       "      <td>10.5360</td>\n",
       "      <td>19.517</td>\n",
       "      <td>-1.1209</td>\n",
       "      <td>1577.60</td>\n",
       "      <td>2.18470</td>\n",
       "      <td>96.109</td>\n",
       "      <td>1.1535</td>\n",
       "      <td>95.865</td>\n",
       "      <td>2.847100e+12</td>\n",
       "      <td>9.642100e+10</td>\n",
       "      <td>6406000.0</td>\n",
       "      <td>0.002990</td>\n",
       "      <td>6.6353</td>\n",
       "      <td>-0.015913</td>\n",
       "      <td>21723.0</td>\n",
       "      <td>67604.0</td>\n",
       "      <td>-0.000227</td>\n",
       "      <td>6.046200e+16</td>\n",
       "      <td>203.580</td>\n",
       "      <td>301.790</td>\n",
       "      <td>1.3461</td>\n",
       "      <td>5524.60</td>\n",
       "      <td>-0.003163</td>\n",
       "      <td>21.8830</td>\n",
       "      <td>0.027383</td>\n",
       "      <td>7.2113</td>\n",
       "      <td>24.82500</td>\n",
       "      <td>-0.001420</td>\n",
       "      <td>4.8950</td>\n",
       "      <td>-1.087100</td>\n",
       "      <td>7.0561</td>\n",
       "      <td>-1.061500</td>\n",
       "      <td>0.00010</td>\n",
       "      <td>1.85600</td>\n",
       "      <td>449.99</td>\n",
       "      <td>-0.36286</td>\n",
       "      <td>160.63</td>\n",
       "      <td>0.24801</td>\n",
       "      <td>0.62300</td>\n",
       "      <td>0.000116</td>\n",
       "      <td>-0.39384</td>\n",
       "      <td>1.9038</td>\n",
       "      <td>0.068588</td>\n",
       "      <td>0.020439</td>\n",
       "      <td>2.506500e+09</td>\n",
       "      <td>48.1640</td>\n",
       "      <td>-0.002272</td>\n",
       "      <td>78643.0</td>\n",
       "      <td>112.3600</td>\n",
       "      <td>1021.900</td>\n",
       "      <td>11.481</td>\n",
       "      <td>1.1573</td>\n",
       "      <td>0.002995</td>\n",
       "      <td>1.8192</td>\n",
       "      <td>1096.80</td>\n",
       "      <td>3.004100e+14</td>\n",
       "      <td>2.042300e+09</td>\n",
       "      <td>0.085500</td>\n",
       "      <td>4.6312</td>\n",
       "      <td>1683.10</td>\n",
       "      <td>9833.6</td>\n",
       "      <td>NaN</td>\n",
       "      <td>0.510410</td>\n",
       "      <td>4.0322</td>\n",
       "      <td>2.477900e+11</td>\n",
       "      <td>69.2640</td>\n",
       "      <td>5494800.0</td>\n",
       "      <td>1239.00</td>\n",
       "      <td>5.349300e+08</td>\n",
       "      <td>5.3086</td>\n",
       "      <td>182.590</td>\n",
       "      <td>829.17</td>\n",
       "      <td>5.2319</td>\n",
       "      <td>0.010301</td>\n",
       "      <td>3640.800</td>\n",
       "      <td>112.120</td>\n",
       "      <td>-0.43442</td>\n",
       "      <td>11.16100</td>\n",
       "      <td>3755.700</td>\n",
       "      <td>0.99926</td>\n",
       "      <td>5.338200e+10</td>\n",
       "      <td>1.3867</td>\n",
       "      <td>-0.001878</td>\n",
       "      <td>58.7940</td>\n",
       "      <td>75657.0</td>\n",
       "      <td>187.240</td>\n",
       "      <td>1258.90</td>\n",
       "      <td>0.163340</td>\n",
       "      <td>0.055398</td>\n",
       "      <td>0.020002</td>\n",
       "      <td>7.956400e+08</td>\n",
       "      <td>0.16253</td>\n",
       "      <td>-22.1890</td>\n",
       "      <td>2.0655</td>\n",
       "      <td>0.430880</td>\n",
       "      <td>-10.7410</td>\n",
       "      <td>81606.0</td>\n",
       "      <td>1.1940</td>\n",
       "      <td>1.980400e+14</td>\n",
       "      <td>2017.1</td>\n",
       "      <td>0.46357</td>\n",
       "    </tr>\n",
       "    <tr>\n",
       "      <th>957920</th>\n",
       "      <td>0.129650</td>\n",
       "      <td>0.373480</td>\n",
       "      <td>1763.00</td>\n",
       "      <td>0.72884</td>\n",
       "      <td>0.33247</td>\n",
       "      <td>-1.26310</td>\n",
       "      <td>875.55</td>\n",
       "      <td>554370.0</td>\n",
       "      <td>5.955700e+14</td>\n",
       "      <td>934.430</td>\n",
       "      <td>1.89790</td>\n",
       "      <td>4.905100e+09</td>\n",
       "      <td>0.28471</td>\n",
       "      <td>2.13870</td>\n",
       "      <td>-0.034328</td>\n",
       "      <td>35.223</td>\n",
       "      <td>6.5873</td>\n",
       "      <td>12.7340</td>\n",
       "      <td>29.590</td>\n",
       "      <td>4.1639</td>\n",
       "      <td>31915.00</td>\n",
       "      <td>3.11580</td>\n",
       "      <td>109.430</td>\n",
       "      <td>-0.8522</td>\n",
       "      <td>991.370</td>\n",
       "      <td>4.700100e+09</td>\n",
       "      <td>1.618200e+12</td>\n",
       "      <td>967810.0</td>\n",
       "      <td>1.021500</td>\n",
       "      <td>2.9617</td>\n",
       "      <td>0.810310</td>\n",
       "      <td>415570.0</td>\n",
       "      <td>384720.0</td>\n",
       "      <td>0.002243</td>\n",
       "      <td>6.712900e+15</td>\n",
       "      <td>228.590</td>\n",
       "      <td>33.952</td>\n",
       "      <td>1.4938</td>\n",
       "      <td>2067.50</td>\n",
       "      <td>-0.002343</td>\n",
       "      <td>32.7720</td>\n",
       "      <td>0.092283</td>\n",
       "      <td>6.5363</td>\n",
       "      <td>2.07730</td>\n",
       "      <td>0.046237</td>\n",
       "      <td>4.4590</td>\n",
       "      <td>-0.840920</td>\n",
       "      <td>4.4473</td>\n",
       "      <td>-1.001200</td>\n",
       "      <td>0.00375</td>\n",
       "      <td>99.64700</td>\n",
       "      <td>8146.80</td>\n",
       "      <td>22.50400</td>\n",
       "      <td>153.40</td>\n",
       "      <td>0.43076</td>\n",
       "      <td>0.74301</td>\n",
       "      <td>-0.000047</td>\n",
       "      <td>-0.11692</td>\n",
       "      <td>1.6544</td>\n",
       "      <td>0.467440</td>\n",
       "      <td>0.129650</td>\n",
       "      <td>4.442800e+08</td>\n",
       "      <td>38.5060</td>\n",
       "      <td>0.396220</td>\n",
       "      <td>74296.0</td>\n",
       "      <td>93.6290</td>\n",
       "      <td>-15.691</td>\n",
       "      <td>30.655</td>\n",
       "      <td>1.2311</td>\n",
       "      <td>1.004400</td>\n",
       "      <td>2.2484</td>\n",
       "      <td>780.87</td>\n",
       "      <td>1.213600e+14</td>\n",
       "      <td>3.488200e+11</td>\n",
       "      <td>-0.000792</td>\n",
       "      <td>6.9993</td>\n",
       "      <td>2451.60</td>\n",
       "      <td>10483.0</td>\n",
       "      <td>-5.3544</td>\n",
       "      <td>0.067286</td>\n",
       "      <td>5.4044</td>\n",
       "      <td>2.462600e+11</td>\n",
       "      <td>810.3000</td>\n",
       "      <td>860670.0</td>\n",
       "      <td>2165.20</td>\n",
       "      <td>2.711500e+08</td>\n",
       "      <td>10.2320</td>\n",
       "      <td>515.410</td>\n",
       "      <td>262.71</td>\n",
       "      <td>5.6357</td>\n",
       "      <td>0.374220</td>\n",
       "      <td>420.160</td>\n",
       "      <td>116.230</td>\n",
       "      <td>1.26980</td>\n",
       "      <td>0.78619</td>\n",
       "      <td>1207.000</td>\n",
       "      <td>1.00070</td>\n",
       "      <td>2.065000e+13</td>\n",
       "      <td>1.2888</td>\n",
       "      <td>0.248850</td>\n",
       "      <td>9.9857</td>\n",
       "      <td>16323.0</td>\n",
       "      <td>244.460</td>\n",
       "      <td>647.58</td>\n",
       "      <td>0.253820</td>\n",
       "      <td>0.008800</td>\n",
       "      <td>0.018479</td>\n",
       "      <td>1.120600e+08</td>\n",
       "      <td>0.81528</td>\n",
       "      <td>-1.6342</td>\n",
       "      <td>1.5736</td>\n",
       "      <td>-1.071200</td>\n",
       "      <td>11.8320</td>\n",
       "      <td>90114.0</td>\n",
       "      <td>1.1507</td>\n",
       "      <td>4.388000e+16</td>\n",
       "      <td>6638.9</td>\n",
       "      <td>0.28125</td>\n",
       "    </tr>\n",
       "    <tr>\n",
       "      <th>957921</th>\n",
       "      <td>0.120190</td>\n",
       "      <td>0.445210</td>\n",
       "      <td>736.26</td>\n",
       "      <td>0.04615</td>\n",
       "      <td>0.29605</td>\n",
       "      <td>0.31665</td>\n",
       "      <td>2659.50</td>\n",
       "      <td>317140.0</td>\n",
       "      <td>3.977800e+14</td>\n",
       "      <td>131.810</td>\n",
       "      <td>-0.48404</td>\n",
       "      <td>3.800000e+06</td>\n",
       "      <td>0.37173</td>\n",
       "      <td>0.40245</td>\n",
       "      <td>0.015119</td>\n",
       "      <td>1991.600</td>\n",
       "      <td>6.0050</td>\n",
       "      <td>0.9919</td>\n",
       "      <td>11.949</td>\n",
       "      <td>888.0700</td>\n",
       "      <td>887.70</td>\n",
       "      <td>3.52370</td>\n",
       "      <td>108.140</td>\n",
       "      <td>-1.6542</td>\n",
       "      <td>528.140</td>\n",
       "      <td>2.463600e+12</td>\n",
       "      <td>9.005900e+09</td>\n",
       "      <td>7259.3</td>\n",
       "      <td>1.007400</td>\n",
       "      <td>2.6123</td>\n",
       "      <td>1.062500</td>\n",
       "      <td>-208010.0</td>\n",
       "      <td>65708.0</td>\n",
       "      <td>0.001391</td>\n",
       "      <td>8.129800e+13</td>\n",
       "      <td>-84.032</td>\n",
       "      <td>NaN</td>\n",
       "      <td>1.7556</td>\n",
       "      <td>4729.20</td>\n",
       "      <td>0.003527</td>\n",
       "      <td>861.6600</td>\n",
       "      <td>0.902670</td>\n",
       "      <td>9.3934</td>\n",
       "      <td>58.78500</td>\n",
       "      <td>0.007244</td>\n",
       "      <td>5.6645</td>\n",
       "      <td>-0.627470</td>\n",
       "      <td>6.5806</td>\n",
       "      <td>-1.128200</td>\n",
       "      <td>0.38650</td>\n",
       "      <td>56.54700</td>\n",
       "      <td>125.36</td>\n",
       "      <td>12.70300</td>\n",
       "      <td>147.38</td>\n",
       "      <td>0.41437</td>\n",
       "      <td>0.51998</td>\n",
       "      <td>0.000857</td>\n",
       "      <td>-0.12065</td>\n",
       "      <td>5.4115</td>\n",
       "      <td>0.772530</td>\n",
       "      <td>0.128850</td>\n",
       "      <td>5.664900e+09</td>\n",
       "      <td>50.8940</td>\n",
       "      <td>0.378710</td>\n",
       "      <td>80045.0</td>\n",
       "      <td>65.2240</td>\n",
       "      <td>780.210</td>\n",
       "      <td>14.125</td>\n",
       "      <td>1.1657</td>\n",
       "      <td>-0.001285</td>\n",
       "      <td>1.0663</td>\n",
       "      <td>432.01</td>\n",
       "      <td>-5.953100e+11</td>\n",
       "      <td>1.383400e+12</td>\n",
       "      <td>-0.006236</td>\n",
       "      <td>5.6052</td>\n",
       "      <td>866.39</td>\n",
       "      <td>1065.2</td>\n",
       "      <td>-1.4805</td>\n",
       "      <td>0.064203</td>\n",
       "      <td>3.0197</td>\n",
       "      <td>1.684400e+11</td>\n",
       "      <td>212.8300</td>\n",
       "      <td>7891000.0</td>\n",
       "      <td>277.16</td>\n",
       "      <td>4.047900e+10</td>\n",
       "      <td>1.1170</td>\n",
       "      <td>393.510</td>\n",
       "      <td>8859.10</td>\n",
       "      <td>8.8098</td>\n",
       "      <td>0.405350</td>\n",
       "      <td>393.650</td>\n",
       "      <td>305.140</td>\n",
       "      <td>1.32660</td>\n",
       "      <td>30.85200</td>\n",
       "      <td>2803.700</td>\n",
       "      <td>0.99925</td>\n",
       "      <td>4.722600e+12</td>\n",
       "      <td>1.5003</td>\n",
       "      <td>0.493380</td>\n",
       "      <td>37.0470</td>\n",
       "      <td>139070.0</td>\n",
       "      <td>2464.000</td>\n",
       "      <td>4724.80</td>\n",
       "      <td>0.299160</td>\n",
       "      <td>0.093046</td>\n",
       "      <td>0.018516</td>\n",
       "      <td>6.519300e+07</td>\n",
       "      <td>0.81831</td>\n",
       "      <td>-32.7800</td>\n",
       "      <td>2.1364</td>\n",
       "      <td>-1.931200</td>\n",
       "      <td>-3.2804</td>\n",
       "      <td>37739.0</td>\n",
       "      <td>1.1548</td>\n",
       "      <td>1.718100e+14</td>\n",
       "      <td>5844.0</td>\n",
       "      <td>0.13797</td>\n",
       "    </tr>\n",
       "    <tr>\n",
       "      <th>957922</th>\n",
       "      <td>0.054008</td>\n",
       "      <td>0.395960</td>\n",
       "      <td>996.14</td>\n",
       "      <td>0.85934</td>\n",
       "      <td>0.36678</td>\n",
       "      <td>-0.17060</td>\n",
       "      <td>386.56</td>\n",
       "      <td>325680.0</td>\n",
       "      <td>-3.432200e+13</td>\n",
       "      <td>-26.473</td>\n",
       "      <td>-2.12930</td>\n",
       "      <td>4.675400e+09</td>\n",
       "      <td>0.26659</td>\n",
       "      <td>1.09680</td>\n",
       "      <td>-0.083571</td>\n",
       "      <td>1987.500</td>\n",
       "      <td>6.8989</td>\n",
       "      <td>11.1230</td>\n",
       "      <td>23.164</td>\n",
       "      <td>133.5700</td>\n",
       "      <td>-815.32</td>\n",
       "      <td>2.72950</td>\n",
       "      <td>82.011</td>\n",
       "      <td>3.8374</td>\n",
       "      <td>304.570</td>\n",
       "      <td>-1.315900e+10</td>\n",
       "      <td>-8.324500e+09</td>\n",
       "      <td>2297700.0</td>\n",
       "      <td>0.099522</td>\n",
       "      <td>4.9249</td>\n",
       "      <td>0.659900</td>\n",
       "      <td>48773.0</td>\n",
       "      <td>199560.0</td>\n",
       "      <td>-0.000621</td>\n",
       "      <td>3.993800e+16</td>\n",
       "      <td>1400.400</td>\n",
       "      <td>503.660</td>\n",
       "      <td>1.9131</td>\n",
       "      <td>2811.60</td>\n",
       "      <td>0.002362</td>\n",
       "      <td>278.2000</td>\n",
       "      <td>0.989190</td>\n",
       "      <td>7.4646</td>\n",
       "      <td>33.62400</td>\n",
       "      <td>0.025889</td>\n",
       "      <td>4.1921</td>\n",
       "      <td>0.096508</td>\n",
       "      <td>4.8219</td>\n",
       "      <td>-0.010526</td>\n",
       "      <td>0.34624</td>\n",
       "      <td>0.92399</td>\n",
       "      <td>1392.10</td>\n",
       "      <td>1.38660</td>\n",
       "      <td>144.19</td>\n",
       "      <td>0.14750</td>\n",
       "      <td>0.26398</td>\n",
       "      <td>-0.000571</td>\n",
       "      <td>-0.14971</td>\n",
       "      <td>4.8384</td>\n",
       "      <td>0.357740</td>\n",
       "      <td>0.124860</td>\n",
       "      <td>-9.254400e+07</td>\n",
       "      <td>18.4720</td>\n",
       "      <td>0.045596</td>\n",
       "      <td>86713.0</td>\n",
       "      <td>1.0519</td>\n",
       "      <td>1447.800</td>\n",
       "      <td>28.947</td>\n",
       "      <td>1.3372</td>\n",
       "      <td>1.004100</td>\n",
       "      <td>1.4836</td>\n",
       "      <td>483.92</td>\n",
       "      <td>4.156700e+15</td>\n",
       "      <td>1.125400e+10</td>\n",
       "      <td>0.010409</td>\n",
       "      <td>7.2680</td>\n",
       "      <td>13656.00</td>\n",
       "      <td>1893.2</td>\n",
       "      <td>-2.3828</td>\n",
       "      <td>0.128580</td>\n",
       "      <td>1.4494</td>\n",
       "      <td>2.681000e+11</td>\n",
       "      <td>66.5990</td>\n",
       "      <td>-733900.0</td>\n",
       "      <td>843.42</td>\n",
       "      <td>1.216700e+10</td>\n",
       "      <td>3.6871</td>\n",
       "      <td>243.590</td>\n",
       "      <td>1199.70</td>\n",
       "      <td>4.5092</td>\n",
       "      <td>0.377030</td>\n",
       "      <td>-36.886</td>\n",
       "      <td>11.401</td>\n",
       "      <td>0.97205</td>\n",
       "      <td>23.64200</td>\n",
       "      <td>1882.700</td>\n",
       "      <td>0.99922</td>\n",
       "      <td>1.568000e+13</td>\n",
       "      <td>1.0456</td>\n",
       "      <td>0.548180</td>\n",
       "      <td>27.6650</td>\n",
       "      <td>813040.0</td>\n",
       "      <td>1332.000</td>\n",
       "      <td>359.17</td>\n",
       "      <td>0.026553</td>\n",
       "      <td>0.668620</td>\n",
       "      <td>-0.001260</td>\n",
       "      <td>1.995100e+09</td>\n",
       "      <td>0.86559</td>\n",
       "      <td>-2.4162</td>\n",
       "      <td>1.5199</td>\n",
       "      <td>-0.011633</td>\n",
       "      <td>1.3840</td>\n",
       "      <td>26849.0</td>\n",
       "      <td>1.1490</td>\n",
       "      <td>2.138800e+17</td>\n",
       "      <td>6173.3</td>\n",
       "      <td>0.32910</td>\n",
       "    </tr>\n",
       "    <tr>\n",
       "      <th>957923</th>\n",
       "      <td>0.079947</td>\n",
       "      <td>-0.006919</td>\n",
       "      <td>10574.00</td>\n",
       "      <td>0.34845</td>\n",
       "      <td>0.45008</td>\n",
       "      <td>-1.84200</td>\n",
       "      <td>3027.00</td>\n",
       "      <td>428150.0</td>\n",
       "      <td>9.291500e+11</td>\n",
       "      <td>5999.400</td>\n",
       "      <td>1.87380</td>\n",
       "      <td>1.857300e+09</td>\n",
       "      <td>0.32259</td>\n",
       "      <td>2.21150</td>\n",
       "      <td>-0.107200</td>\n",
       "      <td>661.070</td>\n",
       "      <td>6.5391</td>\n",
       "      <td>6.8495</td>\n",
       "      <td>7.258</td>\n",
       "      <td>468.7400</td>\n",
       "      <td>10316.00</td>\n",
       "      <td>0.79638</td>\n",
       "      <td>111.520</td>\n",
       "      <td>1.4098</td>\n",
       "      <td>429.790</td>\n",
       "      <td>4.121700e+12</td>\n",
       "      <td>-3.945700e+08</td>\n",
       "      <td>7119.4</td>\n",
       "      <td>1.027700</td>\n",
       "      <td>16.1210</td>\n",
       "      <td>0.994510</td>\n",
       "      <td>372800.0</td>\n",
       "      <td>12042.0</td>\n",
       "      <td>-0.000659</td>\n",
       "      <td>1.869200e+14</td>\n",
       "      <td>-129.580</td>\n",
       "      <td>933.150</td>\n",
       "      <td>2.7392</td>\n",
       "      <td>490.84</td>\n",
       "      <td>0.012809</td>\n",
       "      <td>5.2358</td>\n",
       "      <td>0.009404</td>\n",
       "      <td>1.3044</td>\n",
       "      <td>0.29176</td>\n",
       "      <td>0.001332</td>\n",
       "      <td>4.0513</td>\n",
       "      <td>0.846520</td>\n",
       "      <td>4.9508</td>\n",
       "      <td>-0.670400</td>\n",
       "      <td>0.43678</td>\n",
       "      <td>36.11000</td>\n",
       "      <td>961.45</td>\n",
       "      <td>0.47044</td>\n",
       "      <td>108.67</td>\n",
       "      <td>0.25482</td>\n",
       "      <td>0.27473</td>\n",
       "      <td>-0.001589</td>\n",
       "      <td>-0.99328</td>\n",
       "      <td>2.5776</td>\n",
       "      <td>0.903620</td>\n",
       "      <td>0.247530</td>\n",
       "      <td>1.251000e+09</td>\n",
       "      <td>1.1726</td>\n",
       "      <td>0.184560</td>\n",
       "      <td>7429.8</td>\n",
       "      <td>88.7900</td>\n",
       "      <td>654.250</td>\n",
       "      <td>27.426</td>\n",
       "      <td>1.0843</td>\n",
       "      <td>-0.004769</td>\n",
       "      <td>1.2764</td>\n",
       "      <td>208.61</td>\n",
       "      <td>3.823400e+14</td>\n",
       "      <td>6.267300e+12</td>\n",
       "      <td>-0.004554</td>\n",
       "      <td>7.0114</td>\n",
       "      <td>45952.00</td>\n",
       "      <td>3695.5</td>\n",
       "      <td>-3.2187</td>\n",
       "      <td>0.502290</td>\n",
       "      <td>6.9219</td>\n",
       "      <td>1.487300e+11</td>\n",
       "      <td>9.9686</td>\n",
       "      <td>-35362.0</td>\n",
       "      <td>854.84</td>\n",
       "      <td>2.603900e+10</td>\n",
       "      <td>13.9430</td>\n",
       "      <td>14.552</td>\n",
       "      <td>675.62</td>\n",
       "      <td>6.8424</td>\n",
       "      <td>0.376850</td>\n",
       "      <td>3452.100</td>\n",
       "      <td>35.434</td>\n",
       "      <td>0.94128</td>\n",
       "      <td>0.95142</td>\n",
       "      <td>-56.004</td>\n",
       "      <td>0.99969</td>\n",
       "      <td>2.009700e+13</td>\n",
       "      <td>1.2255</td>\n",
       "      <td>0.713930</td>\n",
       "      <td>14.1820</td>\n",
       "      <td>4362.6</td>\n",
       "      <td>12.007</td>\n",
       "      <td>10653.00</td>\n",
       "      <td>0.165300</td>\n",
       "      <td>0.227090</td>\n",
       "      <td>0.020485</td>\n",
       "      <td>-1.050400e+07</td>\n",
       "      <td>0.25190</td>\n",
       "      <td>-18.6300</td>\n",
       "      <td>3.7387</td>\n",
       "      <td>0.757080</td>\n",
       "      <td>-4.9405</td>\n",
       "      <td>50336.0</td>\n",
       "      <td>1.2488</td>\n",
       "      <td>2.151300e+17</td>\n",
       "      <td>2250.1</td>\n",
       "      <td>0.33796</td>\n",
       "    </tr>\n",
       "  </tbody>\n",
       "</table>\n",
       "</div>"
      ],
      "text/plain": [
       "              f1        f2        f3       f4       f5       f6       f7  \\\n",
       "id                                                                         \n",
       "957919  0.165850  0.487050   1295.00  0.02310  0.31900  0.90188   573.29   \n",
       "957920  0.129650  0.373480   1763.00  0.72884  0.33247 -1.26310   875.55   \n",
       "957921  0.120190  0.445210    736.26  0.04615  0.29605  0.31665  2659.50   \n",
       "957922  0.054008  0.395960    996.14  0.85934  0.36678 -0.17060   386.56   \n",
       "957923  0.079947 -0.006919  10574.00  0.34845  0.45008 -1.84200  3027.00   \n",
       "\n",
       "              f8            f9       f10      f11           f12      f13  \\\n",
       "id                                                                         \n",
       "957919    3743.7  2.705700e+12  6221.000  1.17200  5.175000e+09  0.25831   \n",
       "957920  554370.0  5.955700e+14   934.430  1.89790  4.905100e+09  0.28471   \n",
       "957921  317140.0  3.977800e+14   131.810 -0.48404  3.800000e+06  0.37173   \n",
       "957922  325680.0 -3.432200e+13   -26.473 -2.12930  4.675400e+09  0.26659   \n",
       "957923  428150.0  9.291500e+11  5999.400  1.87380  1.857300e+09  0.32259   \n",
       "\n",
       "            f14       f15       f16      f17      f18     f19       f20  \\\n",
       "id                                                                        \n",
       "957919  3.42050  0.044983  1001.600  10.1040  10.5360  19.517   -1.1209   \n",
       "957920  2.13870 -0.034328    35.223   6.5873  12.7340  29.590    4.1639   \n",
       "957921  0.40245  0.015119  1991.600   6.0050   0.9919  11.949  888.0700   \n",
       "957922  1.09680 -0.083571  1987.500   6.8989  11.1230  23.164  133.5700   \n",
       "957923  2.21150 -0.107200   661.070   6.5391   6.8495   7.258  468.7400   \n",
       "\n",
       "             f21      f22      f23     f24      f25           f26  \\\n",
       "id                                                                  \n",
       "957919   1577.60  2.18470   96.109  1.1535   95.865  2.847100e+12   \n",
       "957920  31915.00  3.11580  109.430 -0.8522  991.370  4.700100e+09   \n",
       "957921    887.70  3.52370  108.140 -1.6542  528.140  2.463600e+12   \n",
       "957922   -815.32  2.72950   82.011  3.8374  304.570 -1.315900e+10   \n",
       "957923  10316.00  0.79638  111.520  1.4098  429.790  4.121700e+12   \n",
       "\n",
       "                 f27        f28       f29      f30       f31       f32  \\\n",
       "id                                                                       \n",
       "957919  9.642100e+10  6406000.0  0.002990   6.6353 -0.015913   21723.0   \n",
       "957920  1.618200e+12   967810.0  1.021500   2.9617  0.810310  415570.0   \n",
       "957921  9.005900e+09     7259.3  1.007400   2.6123  1.062500 -208010.0   \n",
       "957922 -8.324500e+09  2297700.0  0.099522   4.9249  0.659900   48773.0   \n",
       "957923 -3.945700e+08     7119.4  1.027700  16.1210  0.994510  372800.0   \n",
       "\n",
       "             f33       f34           f35       f36      f37     f38      f39  \\\n",
       "id                                                                             \n",
       "957919   67604.0 -0.000227  6.046200e+16   203.580  301.790  1.3461  5524.60   \n",
       "957920  384720.0  0.002243  6.712900e+15   228.590   33.952  1.4938  2067.50   \n",
       "957921   65708.0  0.001391  8.129800e+13   -84.032      NaN  1.7556  4729.20   \n",
       "957922  199560.0 -0.000621  3.993800e+16  1400.400  503.660  1.9131  2811.60   \n",
       "957923   12042.0 -0.000659  1.869200e+14  -129.580  933.150  2.7392   490.84   \n",
       "\n",
       "             f40       f41       f42     f43       f44       f45     f46  \\\n",
       "id                                                                         \n",
       "957919 -0.003163   21.8830  0.027383  7.2113  24.82500 -0.001420  4.8950   \n",
       "957920 -0.002343   32.7720  0.092283  6.5363   2.07730  0.046237  4.4590   \n",
       "957921  0.003527  861.6600  0.902670  9.3934  58.78500  0.007244  5.6645   \n",
       "957922  0.002362  278.2000  0.989190  7.4646  33.62400  0.025889  4.1921   \n",
       "957923  0.012809    5.2358  0.009404  1.3044   0.29176  0.001332  4.0513   \n",
       "\n",
       "             f47     f48       f49      f50       f51      f52       f53  \\\n",
       "id                                                                         \n",
       "957919 -1.087100  7.0561 -1.061500  0.00010   1.85600   449.99  -0.36286   \n",
       "957920 -0.840920  4.4473 -1.001200  0.00375  99.64700  8146.80  22.50400   \n",
       "957921 -0.627470  6.5806 -1.128200  0.38650  56.54700   125.36  12.70300   \n",
       "957922  0.096508  4.8219 -0.010526  0.34624   0.92399  1392.10   1.38660   \n",
       "957923  0.846520  4.9508 -0.670400  0.43678  36.11000   961.45   0.47044   \n",
       "\n",
       "           f54      f55      f56       f57      f58     f59       f60  \\\n",
       "id                                                                      \n",
       "957919  160.63  0.24801  0.62300  0.000116 -0.39384  1.9038  0.068588   \n",
       "957920  153.40  0.43076  0.74301 -0.000047 -0.11692  1.6544  0.467440   \n",
       "957921  147.38  0.41437  0.51998  0.000857 -0.12065  5.4115  0.772530   \n",
       "957922  144.19  0.14750  0.26398 -0.000571 -0.14971  4.8384  0.357740   \n",
       "957923  108.67  0.25482  0.27473 -0.001589 -0.99328  2.5776  0.903620   \n",
       "\n",
       "             f61           f62      f63       f64      f65       f66  \\\n",
       "id                                                                     \n",
       "957919  0.020439  2.506500e+09  48.1640 -0.002272  78643.0  112.3600   \n",
       "957920  0.129650  4.442800e+08  38.5060  0.396220  74296.0   93.6290   \n",
       "957921  0.128850  5.664900e+09  50.8940  0.378710  80045.0   65.2240   \n",
       "957922  0.124860 -9.254400e+07  18.4720  0.045596  86713.0    1.0519   \n",
       "957923  0.247530  1.251000e+09   1.1726  0.184560   7429.8   88.7900   \n",
       "\n",
       "             f67     f68     f69       f70     f71      f72           f73  \\\n",
       "id                                                                          \n",
       "957919  1021.900  11.481  1.1573  0.002995  1.8192  1096.80  3.004100e+14   \n",
       "957920   -15.691  30.655  1.2311  1.004400  2.2484   780.87  1.213600e+14   \n",
       "957921   780.210  14.125  1.1657 -0.001285  1.0663   432.01 -5.953100e+11   \n",
       "957922  1447.800  28.947  1.3372  1.004100  1.4836   483.92  4.156700e+15   \n",
       "957923   654.250  27.426  1.0843 -0.004769  1.2764   208.61  3.823400e+14   \n",
       "\n",
       "                 f74       f75     f76       f77      f78     f79       f80  \\\n",
       "id                                                                            \n",
       "957919  2.042300e+09  0.085500  4.6312   1683.10   9833.6     NaN  0.510410   \n",
       "957920  3.488200e+11 -0.000792  6.9993   2451.60  10483.0 -5.3544  0.067286   \n",
       "957921  1.383400e+12 -0.006236  5.6052    866.39   1065.2 -1.4805  0.064203   \n",
       "957922  1.125400e+10  0.010409  7.2680  13656.00   1893.2 -2.3828  0.128580   \n",
       "957923  6.267300e+12 -0.004554  7.0114  45952.00   3695.5 -3.2187  0.502290   \n",
       "\n",
       "           f81           f82       f83        f84      f85           f86  \\\n",
       "id                                                                         \n",
       "957919  4.0322  2.477900e+11   69.2640  5494800.0  1239.00  5.349300e+08   \n",
       "957920  5.4044  2.462600e+11  810.3000   860670.0  2165.20  2.711500e+08   \n",
       "957921  3.0197  1.684400e+11  212.8300  7891000.0   277.16  4.047900e+10   \n",
       "957922  1.4494  2.681000e+11   66.5990  -733900.0   843.42  1.216700e+10   \n",
       "957923  6.9219  1.487300e+11    9.9686   -35362.0   854.84  2.603900e+10   \n",
       "\n",
       "            f87      f88      f89     f90       f91       f92      f93  \\\n",
       "id                                                                       \n",
       "957919   5.3086  182.590   829.17  5.2319  0.010301  3640.800  112.120   \n",
       "957920  10.2320  515.410   262.71  5.6357  0.374220   420.160  116.230   \n",
       "957921   1.1170  393.510  8859.10  8.8098  0.405350   393.650  305.140   \n",
       "957922   3.6871  243.590  1199.70  4.5092  0.377030   -36.886   11.401   \n",
       "957923  13.9430   14.552   675.62  6.8424  0.376850  3452.100   35.434   \n",
       "\n",
       "            f94       f95       f96      f97           f98     f99      f100  \\\n",
       "id                                                                             \n",
       "957919 -0.43442  11.16100  3755.700  0.99926  5.338200e+10  1.3867 -0.001878   \n",
       "957920  1.26980   0.78619  1207.000  1.00070  2.065000e+13  1.2888  0.248850   \n",
       "957921  1.32660  30.85200  2803.700  0.99925  4.722600e+12  1.5003  0.493380   \n",
       "957922  0.97205  23.64200  1882.700  0.99922  1.568000e+13  1.0456  0.548180   \n",
       "957923  0.94128   0.95142   -56.004  0.99969  2.009700e+13  1.2255  0.713930   \n",
       "\n",
       "           f101      f102      f103      f104      f105      f106      f107  \\\n",
       "id                                                                            \n",
       "957919  58.7940   75657.0   187.240   1258.90  0.163340  0.055398  0.020002   \n",
       "957920   9.9857   16323.0   244.460    647.58  0.253820  0.008800  0.018479   \n",
       "957921  37.0470  139070.0  2464.000   4724.80  0.299160  0.093046  0.018516   \n",
       "957922  27.6650  813040.0  1332.000    359.17  0.026553  0.668620 -0.001260   \n",
       "957923  14.1820    4362.6    12.007  10653.00  0.165300  0.227090  0.020485   \n",
       "\n",
       "                f108     f109     f110    f111      f112     f113     f114  \\\n",
       "id                                                                           \n",
       "957919  7.956400e+08  0.16253 -22.1890  2.0655  0.430880 -10.7410  81606.0   \n",
       "957920  1.120600e+08  0.81528  -1.6342  1.5736 -1.071200  11.8320  90114.0   \n",
       "957921  6.519300e+07  0.81831 -32.7800  2.1364 -1.931200  -3.2804  37739.0   \n",
       "957922  1.995100e+09  0.86559  -2.4162  1.5199 -0.011633   1.3840  26849.0   \n",
       "957923 -1.050400e+07  0.25190 -18.6300  3.7387  0.757080  -4.9405  50336.0   \n",
       "\n",
       "          f115          f116    f117     f118  \n",
       "id                                             \n",
       "957919  1.1940  1.980400e+14  2017.1  0.46357  \n",
       "957920  1.1507  4.388000e+16  6638.9  0.28125  \n",
       "957921  1.1548  1.718100e+14  5844.0  0.13797  \n",
       "957922  1.1490  2.138800e+17  6173.3  0.32910  \n",
       "957923  1.2488  2.151300e+17  2250.1  0.33796  "
      ]
     },
     "execution_count": 13,
     "metadata": {},
     "output_type": "execute_result"
    }
   ],
   "source": [
    "df1_test.head()"
   ]
  },
  {
   "cell_type": "code",
   "execution_count": 14,
   "id": "ecddcfdb",
   "metadata": {
    "ExecuteTime": {
     "end_time": "2021-09-22T11:54:41.382117Z",
     "start_time": "2021-09-22T11:54:14.658414Z"
    }
   },
   "outputs": [
    {
     "name": "stdout",
     "output_type": "stream",
     "text": [
      "Mem. usage decreased to 265.84 Mb (69.7% reduction)\n",
      "Mem. usage decreased to 136.48 Mb (69.5% reduction)\n"
     ]
    },
    {
     "data": {
      "text/plain": [
       "((957919, 119), (493474, 118))"
      ]
     },
     "execution_count": 14,
     "metadata": {},
     "output_type": "execute_result"
    }
   ],
   "source": [
    "df1_train = reduce_memory_usage(df1_train)\n",
    "df1_test  = reduce_memory_usage(df1_test)\n",
    "\n",
    "df1_train.shape, df1_test.shape"
   ]
  },
  {
   "cell_type": "code",
   "execution_count": null,
   "id": "dda9d78a",
   "metadata": {},
   "outputs": [],
   "source": [
    "jb.dump(df1_train, 'df1_train')"
   ]
  },
  {
   "cell_type": "markdown",
   "id": "b02741e9",
   "metadata": {
    "papermill": {
     "duration": 0.040419,
     "end_time": "2021-09-07T03:26:19.484639",
     "exception": false,
     "start_time": "2021-09-07T03:26:19.444220",
     "status": "completed"
    },
    "tags": []
   },
   "source": [
    "# <div class=\"alert alert-success\"> 1. Feature Engineering </div>"
   ]
  },
  {
   "cell_type": "code",
   "execution_count": 24,
   "id": "49a43ddc",
   "metadata": {
    "execution": {
     "iopub.execute_input": "2021-09-07T03:26:19.568741Z",
     "iopub.status.busy": "2021-09-07T03:26:19.568257Z",
     "iopub.status.idle": "2021-09-07T03:26:19.571614Z",
     "shell.execute_reply": "2021-09-07T03:26:19.572013Z",
     "shell.execute_reply.started": "2021-09-07T03:06:51.706885Z"
    },
    "papermill": {
     "duration": 0.047395,
     "end_time": "2021-09-07T03:26:19.572148",
     "exception": false,
     "start_time": "2021-09-07T03:26:19.524753",
     "status": "completed"
    },
    "tags": []
   },
   "outputs": [],
   "source": [
    "features_df = df1_train.columns.to_list()\n",
    "features_df.remove('claim')"
   ]
  },
  {
   "cell_type": "markdown",
   "id": "12fc2fe5",
   "metadata": {
    "papermill": {
     "duration": 0.040512,
     "end_time": "2021-09-07T03:26:19.652851",
     "exception": false,
     "start_time": "2021-09-07T03:26:19.612339",
     "status": "completed"
    },
    "tags": []
   },
   "source": [
    "## 1.1. Step 01"
   ]
  },
  {
   "cell_type": "markdown",
   "id": "7f21b5b1",
   "metadata": {
    "papermill": {
     "duration": 0.0402,
     "end_time": "2021-09-07T03:26:19.733482",
     "exception": false,
     "start_time": "2021-09-07T03:26:19.693282",
     "status": "completed"
    },
    "tags": []
   },
   "source": [
    "A ideia de adicionar o recurso \"n_missing\" abaixo foi tirada deste [bloco notas](https://www.kaggle.com/maximkazantsev/tps-09-21-eda-lightgbm-with-folds) de por [BIZEN](https://www.kaggle.com/hiro5299834) ."
   ]
  },
  {
   "cell_type": "code",
   "execution_count": 25,
   "id": "b7c4bc98",
   "metadata": {
    "execution": {
     "iopub.execute_input": "2021-09-07T03:26:20.079134Z",
     "iopub.status.busy": "2021-09-07T03:26:20.078057Z",
     "iopub.status.idle": "2021-09-07T03:26:20.487965Z",
     "shell.execute_reply": "2021-09-07T03:26:20.488398Z",
     "shell.execute_reply.started": "2021-09-07T03:06:51.713413Z"
    },
    "papermill": {
     "duration": 0.714804,
     "end_time": "2021-09-07T03:26:20.488546",
     "exception": false,
     "start_time": "2021-09-07T03:26:19.773742",
     "status": "completed"
    },
    "tags": []
   },
   "outputs": [
    {
     "data": {
      "text/plain": [
       "((957919, 120), (493474, 119))"
      ]
     },
     "execution_count": 25,
     "metadata": {},
     "output_type": "execute_result"
    }
   ],
   "source": [
    "df1_train['fe_n_missing'] = df1_train[features_df].isna().sum(axis=1)\n",
    "df1_test['fe_n_missing']  = df1_test[features_df].isna().sum(axis=1)\n",
    "\n",
    "df1_train.shape, df1_test.shape"
   ]
  },
  {
   "cell_type": "code",
   "execution_count": 26,
   "id": "08af785f",
   "metadata": {
    "execution": {
     "iopub.execute_input": "2021-09-07T03:26:20.573972Z",
     "iopub.status.busy": "2021-09-07T03:26:20.573482Z",
     "iopub.status.idle": "2021-09-07T03:26:20.577237Z",
     "shell.execute_reply": "2021-09-07T03:26:20.576825Z",
     "shell.execute_reply.started": "2021-09-07T03:06:52.382768Z"
    },
    "papermill": {
     "duration": 0.047498,
     "end_time": "2021-09-07T03:26:20.577340",
     "exception": false,
     "start_time": "2021-09-07T03:26:20.529842",
     "status": "completed"
    },
    "tags": []
   },
   "outputs": [],
   "source": [
    "features_df.append('fe_n_missing')"
   ]
  },
  {
   "cell_type": "markdown",
   "id": "dab2e98c",
   "metadata": {
    "papermill": {
     "duration": 0.04052,
     "end_time": "2021-09-07T03:26:20.658398",
     "exception": false,
     "start_time": "2021-09-07T03:26:20.617878",
     "status": "completed"
    },
    "tags": []
   },
   "source": [
    "## 2.1. Step 02 \n",
    "Tratamento de valores faltantes, para os valores faltantes vamos imputar a mediana. "
   ]
  },
  {
   "cell_type": "code",
   "execution_count": 27,
   "id": "1bcadebd",
   "metadata": {
    "ExecuteTime": {
     "end_time": "2021-09-03T03:18:25.993971Z",
     "start_time": "2021-09-03T03:18:22.611432Z"
    },
    "execution": {
     "iopub.execute_input": "2021-09-07T03:26:20.748844Z",
     "iopub.status.busy": "2021-09-07T03:26:20.747346Z",
     "iopub.status.idle": "2021-09-07T03:26:59.424552Z",
     "shell.execute_reply": "2021-09-07T03:26:59.424960Z",
     "shell.execute_reply.started": "2021-09-07T03:06:52.389008Z"
    },
    "papermill": {
     "duration": 38.726024,
     "end_time": "2021-09-07T03:26:59.425156",
     "exception": false,
     "start_time": "2021-09-07T03:26:20.699132",
     "status": "completed"
    },
    "tags": []
   },
   "outputs": [],
   "source": [
    "imputer   = SimpleImputer(missing_values=np.nan, strategy='median')\n",
    "df1_train = pd.DataFrame(imputer.fit_transform(df1_train), columns=df1_train.columns)\n",
    "df1_test  = pd.DataFrame(imputer.fit_transform(df1_test),  columns=df1_test.columns)"
   ]
  },
  {
   "cell_type": "code",
   "execution_count": 28,
   "id": "9e66504e",
   "metadata": {
    "execution": {
     "iopub.execute_input": "2021-09-07T03:26:59.511720Z",
     "iopub.status.busy": "2021-09-07T03:26:59.510758Z",
     "iopub.status.idle": "2021-09-07T03:26:59.891040Z",
     "shell.execute_reply": "2021-09-07T03:26:59.891460Z",
     "shell.execute_reply.started": "2021-09-07T03:07:31.323202Z"
    },
    "papermill": {
     "duration": 0.424719,
     "end_time": "2021-09-07T03:26:59.891617",
     "exception": false,
     "start_time": "2021-09-07T03:26:59.466898",
     "status": "completed"
    },
    "tags": []
   },
   "outputs": [
    {
     "name": "stdout",
     "output_type": "stream",
     "text": [
      "Seu dataframe selecionado tem 120 colunas e 957919 linhas. \n",
      "Existem 0 colunas com valores ausentes.\n"
     ]
    },
    {
     "data": {
      "text/html": [
       "<div>\n",
       "<style scoped>\n",
       "    .dataframe tbody tr th:only-of-type {\n",
       "        vertical-align: middle;\n",
       "    }\n",
       "\n",
       "    .dataframe tbody tr th {\n",
       "        vertical-align: top;\n",
       "    }\n",
       "\n",
       "    .dataframe thead th {\n",
       "        text-align: right;\n",
       "    }\n",
       "</style>\n",
       "<table border=\"1\" class=\"dataframe\">\n",
       "  <thead>\n",
       "    <tr style=\"text-align: right;\">\n",
       "      <th></th>\n",
       "      <th>index</th>\n",
       "      <th>Valores ausentes</th>\n",
       "      <th>% de valores totais</th>\n",
       "      <th>Tipo de dados</th>\n",
       "    </tr>\n",
       "  </thead>\n",
       "  <tbody>\n",
       "  </tbody>\n",
       "</table>\n",
       "</div>"
      ],
      "text/plain": [
       "Empty DataFrame\n",
       "Columns: [index, Valores ausentes, % de valores totais, Tipo de dados]\n",
       "Index: []"
      ]
     },
     "execution_count": 28,
     "metadata": {},
     "output_type": "execute_result"
    }
   ],
   "source": [
    "missing_zero_values_table(df1_train)"
   ]
  },
  {
   "cell_type": "code",
   "execution_count": 29,
   "id": "55c69fcf",
   "metadata": {
    "execution": {
     "iopub.execute_input": "2021-09-07T03:26:59.978728Z",
     "iopub.status.busy": "2021-09-07T03:26:59.977881Z",
     "iopub.status.idle": "2021-09-07T03:27:00.171069Z",
     "shell.execute_reply": "2021-09-07T03:27:00.171464Z",
     "shell.execute_reply.started": "2021-09-07T03:07:31.702363Z"
    },
    "papermill": {
     "duration": 0.238348,
     "end_time": "2021-09-07T03:27:00.171594",
     "exception": false,
     "start_time": "2021-09-07T03:26:59.933246",
     "status": "completed"
    },
    "tags": []
   },
   "outputs": [
    {
     "name": "stdout",
     "output_type": "stream",
     "text": [
      "Seu dataframe selecionado tem 119 colunas e 493474 linhas. \n",
      "Existem 0 colunas com valores ausentes.\n"
     ]
    },
    {
     "data": {
      "text/html": [
       "<div>\n",
       "<style scoped>\n",
       "    .dataframe tbody tr th:only-of-type {\n",
       "        vertical-align: middle;\n",
       "    }\n",
       "\n",
       "    .dataframe tbody tr th {\n",
       "        vertical-align: top;\n",
       "    }\n",
       "\n",
       "    .dataframe thead th {\n",
       "        text-align: right;\n",
       "    }\n",
       "</style>\n",
       "<table border=\"1\" class=\"dataframe\">\n",
       "  <thead>\n",
       "    <tr style=\"text-align: right;\">\n",
       "      <th></th>\n",
       "      <th>index</th>\n",
       "      <th>Valores ausentes</th>\n",
       "      <th>% de valores totais</th>\n",
       "      <th>Tipo de dados</th>\n",
       "    </tr>\n",
       "  </thead>\n",
       "  <tbody>\n",
       "  </tbody>\n",
       "</table>\n",
       "</div>"
      ],
      "text/plain": [
       "Empty DataFrame\n",
       "Columns: [index, Valores ausentes, % de valores totais, Tipo de dados]\n",
       "Index: []"
      ]
     },
     "execution_count": 29,
     "metadata": {},
     "output_type": "execute_result"
    }
   ],
   "source": [
    "missing_zero_values_table(df1_test)"
   ]
  },
  {
   "cell_type": "markdown",
   "id": "43685587",
   "metadata": {
    "papermill": {
     "duration": 0.042712,
     "end_time": "2021-09-07T03:27:00.261964",
     "exception": false,
     "start_time": "2021-09-07T03:27:00.219252",
     "status": "completed"
    },
    "tags": []
   },
   "source": [
    "## 2.3. Step 03\n",
    "Aqui vamos criar duas variáveis que indica os valores estão próximo de zero ou não. "
   ]
  },
  {
   "cell_type": "code",
   "execution_count": 30,
   "id": "e443d787",
   "metadata": {
    "execution": {
     "iopub.execute_input": "2021-09-07T03:27:00.354598Z",
     "iopub.status.busy": "2021-09-07T03:27:00.353729Z",
     "iopub.status.idle": "2021-09-07T03:27:00.368901Z",
     "shell.execute_reply": "2021-09-07T03:27:00.367935Z",
     "shell.execute_reply.started": "2021-09-07T03:07:31.900360Z"
    },
    "papermill": {
     "duration": 0.063728,
     "end_time": "2021-09-07T03:27:00.369016",
     "exception": false,
     "start_time": "2021-09-07T03:27:00.305288",
     "status": "completed"
    },
    "tags": []
   },
   "outputs": [],
   "source": [
    "df1_train['fe_f5_zero']  = (df1_train['f5'] < 0.02).astype(int)\n",
    "df1_test['fe_f5_zero']   = (df1_test['f5'] < 0.02).astype(int)\n",
    "df1_train['fe_f50_zero'] = (df1_train['f50'] < 0.02).astype(int)\n",
    "df1_test['fe_f50_zero']  = (df1_test['f50'] < 0.02).astype(int)"
   ]
  },
  {
   "cell_type": "markdown",
   "id": "71f92695",
   "metadata": {
    "papermill": {
     "duration": 0.041203,
     "end_time": "2021-09-07T03:27:00.451976",
     "exception": false,
     "start_time": "2021-09-07T03:27:00.410773",
     "status": "completed"
    },
    "tags": []
   },
   "source": [
    "Agora vamos criar algumas variáveis de estatística descritiva. "
   ]
  },
  {
   "cell_type": "code",
   "execution_count": 32,
   "id": "fd5ee747",
   "metadata": {
    "execution": {
     "iopub.execute_input": "2021-09-07T03:27:00.544515Z",
     "iopub.status.busy": "2021-09-07T03:27:00.542965Z",
     "iopub.status.idle": "2021-09-07T03:27:08.633988Z",
     "shell.execute_reply": "2021-09-07T03:27:08.633566Z",
     "shell.execute_reply.started": "2021-09-07T03:07:31.926733Z"
    },
    "papermill": {
     "duration": 8.139572,
     "end_time": "2021-09-07T03:27:08.634129",
     "exception": false,
     "start_time": "2021-09-07T03:27:00.494557",
     "status": "completed"
    },
    "tags": []
   },
   "outputs": [
    {
     "data": {
      "text/plain": [
       "((957919, 128), (493474, 127))"
      ]
     },
     "execution_count": 32,
     "metadata": {},
     "output_type": "execute_result"
    }
   ],
   "source": [
    "df1_train['fe_mean']    = df1_train.mean(axis=1)\n",
    "df1_test['fe_mean']     = df1_test.mean(axis=1)\n",
    "df1_train['fe_median']  = df1_train.median(axis=1)\n",
    "df1_test['fe_median']   = df1_test.median(axis=1)\n",
    "df1_train['fe_std']     = df1_train.std(axis=1)\n",
    "df1_test['fe_std']      = df1_test.std(axis=1)\n",
    "df1_train['fe_min']     = df1_train.min(axis=1)\n",
    "df1_test['fe_min']      = df1_test.min(axis=1)\n",
    "df1_train['fe_max']     = df1_train.max(axis=1)\n",
    "df1_test['fe_max']      = df1_test.max(axis=1)\n",
    "df1_train['fe_skew']    = df1_train.skew(axis=1)\n",
    "df1_test['fe_skew']     = df1_test.skew(axis=1)\n",
    "\n",
    "df1_train.shape, df1_test.shape"
   ]
  },
  {
   "cell_type": "markdown",
   "id": "66278a6e",
   "metadata": {
    "papermill": {
     "duration": 0.041688,
     "end_time": "2021-09-07T03:27:08.717902",
     "exception": false,
     "start_time": "2021-09-07T03:27:08.676214",
     "status": "completed"
    },
    "tags": []
   },
   "source": [
    "## 2.4. Step 04 \n",
    "Neste step vamos criar uma nova variável com o algoritmo `kmeans`, para quem conhence o algoritmo vamos fazer uma clusterização, mas em primeiro lugar vamos criar algumas variáveis com uma PCD com as 40 principais componentes para a clusterização."
   ]
  },
  {
   "cell_type": "markdown",
   "id": "5c1cd994",
   "metadata": {
    "papermill": {
     "duration": 0.041318,
     "end_time": "2021-09-07T03:27:08.801088",
     "exception": false,
     "start_time": "2021-09-07T03:27:08.759770",
     "status": "completed"
    },
    "tags": []
   },
   "source": [
    "### 2.4.1. Scaler "
   ]
  },
  {
   "cell_type": "markdown",
   "id": "b1588d6f",
   "metadata": {
    "papermill": {
     "duration": 0.041576,
     "end_time": "2021-09-07T03:27:08.884273",
     "exception": false,
     "start_time": "2021-09-07T03:27:08.842697",
     "status": "completed"
    },
    "tags": []
   },
   "source": [
    "Vamos fazer o scaler dos datasets com o `QuatileTransforme` que teve melhor resultado na validação cruzada e no kaggle com AUC de 0.74479 com XGB, que se encontra no [notebook anterior](https://www.kaggle.com/rogeriodelfim/01-tps-set-ponto-de-partida-eda-e-linha-de-base?scriptVersionId=73995146).  "
   ]
  },
  {
   "cell_type": "code",
   "execution_count": 33,
   "id": "d99d3eca",
   "metadata": {
    "execution": {
     "iopub.execute_input": "2021-09-07T03:27:08.974551Z",
     "iopub.status.busy": "2021-09-07T03:27:08.973338Z",
     "iopub.status.idle": "2021-09-07T03:28:02.094319Z",
     "shell.execute_reply": "2021-09-07T03:28:02.093811Z",
     "shell.execute_reply.started": "2021-09-07T03:07:40.170989Z"
    },
    "papermill": {
     "duration": 53.168046,
     "end_time": "2021-09-07T03:28:02.094470",
     "exception": false,
     "start_time": "2021-09-07T03:27:08.926424",
     "status": "completed"
    },
    "tags": []
   },
   "outputs": [
    {
     "name": "stdout",
     "output_type": "stream",
     "text": [
      "Wall time: 45.7 s\n"
     ]
    }
   ],
   "source": [
    "%%time\n",
    "scaler        = QuantileTransformer(output_distribution='normal', random_state=0)\n",
    "df1_train_qt  = df1_train.copy().drop('claim', axis=1) \n",
    "cols_quantile = df1_train_qt.columns\n",
    "df1_train_qt  = pd.DataFrame(scaler.fit_transform(df1_train_qt), columns=cols_quantile)\n",
    "df1_test_qt   = pd.DataFrame(scaler.fit_transform(df1_test), columns=cols_quantile )"
   ]
  },
  {
   "cell_type": "markdown",
   "id": "3cf3b963",
   "metadata": {
    "papermill": {
     "duration": 0.041815,
     "end_time": "2021-09-07T03:28:02.179557",
     "exception": false,
     "start_time": "2021-09-07T03:28:02.137742",
     "status": "completed"
    },
    "tags": []
   },
   "source": [
    "### 2.4.2. Gerar PCA\n",
    "Nesta etapa vamos criar 20 componente principal que serão serão utilizadas na clusterização, normalmente as primeiras componentes de uma PCA resumem a maior parte da variância dos dados, no caso desse conjunto de dados vamos precisamos de 20 à 40 compontes para termos uma melhor explicabilidade da variância dos dados.  "
   ]
  },
  {
   "cell_type": "code",
   "execution_count": 34,
   "id": "8493cefb",
   "metadata": {
    "execution": {
     "iopub.execute_input": "2021-09-07T03:28:02.271138Z",
     "iopub.status.busy": "2021-09-07T03:28:02.270024Z",
     "iopub.status.idle": "2021-09-07T03:28:12.172182Z",
     "shell.execute_reply": "2021-09-07T03:28:12.171544Z",
     "shell.execute_reply.started": "2021-09-07T03:08:33.100974Z"
    },
    "papermill": {
     "duration": 9.950958,
     "end_time": "2021-09-07T03:28:12.172354",
     "exception": false,
     "start_time": "2021-09-07T03:28:02.221396",
     "status": "completed"
    },
    "tags": []
   },
   "outputs": [
    {
     "name": "stdout",
     "output_type": "stream",
     "text": [
      "Wall time: 7.85 s\n"
     ]
    }
   ],
   "source": [
    "%%time\n",
    "pca           = PCA(random_state=123)\n",
    "df1_train_pca = pd.DataFrame(pca.fit_transform(df1_train_qt))"
   ]
  },
  {
   "cell_type": "code",
   "execution_count": 35,
   "id": "80307094",
   "metadata": {
    "execution": {
     "iopub.execute_input": "2021-09-07T03:28:12.282190Z",
     "iopub.status.busy": "2021-09-07T03:28:12.280979Z",
     "iopub.status.idle": "2021-09-07T03:28:12.946864Z",
     "shell.execute_reply": "2021-09-07T03:28:12.946460Z",
     "shell.execute_reply.started": "2021-09-07T03:08:43.144556Z"
    },
    "papermill": {
     "duration": 0.731974,
     "end_time": "2021-09-07T03:28:12.946987",
     "exception": false,
     "start_time": "2021-09-07T03:28:12.215013",
     "status": "completed"
    },
    "scrolled": false,
    "tags": []
   },
   "outputs": [
    {
     "data": {
      "image/png": "[encoded data removed]",
      "text/plain": [
       "<Figure size 864x576 with 2 Axes>"
      ]
     },
     "metadata": {
      "needs_background": "light"
     },
     "output_type": "display_data"
    },
    {
     "name": "stdout",
     "output_type": "stream",
     "text": [
      "+------------+-----------------------+--------------------------------+\n",
      "| Componente |  Variância explicada  | Variância explicada cumulativa |\n",
      "+------------+-----------------------+--------------------------------+\n",
      "|     1      |  0.07936398088448679  |      0.07936398088448679       |\n",
      "|     2      |  0.07769648779528623  |      0.15706046867977302       |\n",
      "|     3      |  0.05247548144003627  |       0.2095359501198093       |\n",
      "|     4      |  0.025893925004446393 |       0.2354298751242557       |\n",
      "|     5      |  0.01164641748667519  |       0.2470762926109309       |\n",
      "|     6      |  0.008564754462973511 |       0.2556410470739044       |\n",
      "|     7      |  0.007416136972220991 |       0.2630571840461254       |\n",
      "|     8      |  0.007360740566667732 |       0.2704179246127931       |\n",
      "|     9      |  0.007202398504416154 |       0.2776203231172093       |\n",
      "|     10     | 0.0071712502220260925 |       0.2847915733392354       |\n",
      "|     11     |  0.007119774501104958 |      0.29191134784034034       |\n",
      "|     12     |  0.007105221137325647 |       0.299016568977666        |\n",
      "|     13     |  0.007073757753191557 |      0.30609032673085756       |\n",
      "|     14     |  0.006993473243359821 |      0.31308379997421737       |\n",
      "|     15     |  0.006982391077673816 |      0.32006619105189116       |\n",
      "|     16     |  0.006938559906301899 |      0.32700475095819304       |\n",
      "|     17     |  0.006915989359984323 |      0.33392074031817737       |\n",
      "|     18     |  0.00689453999826873  |       0.3408152803164461       |\n",
      "|     19     |  0.006883063825696656 |      0.34769834414214273       |\n",
      "|     20     |  0.006849638632178073 |       0.3545479827743208       |\n",
      "|     21     |  0.006844524759196148 |       0.361392507533517        |\n",
      "|     22     | 0.0068270262083828135 |       0.3682195337418998       |\n",
      "|     23     |  0.006790818614905865 |       0.3750103523568057       |\n",
      "|     24     |  0.006774523073834565 |      0.38178487543064027       |\n",
      "|     25     |  0.006763313475723861 |       0.3885481889063641       |\n",
      "|     26     |  0.00675227986242561  |       0.3953004687687897       |\n",
      "|     27     |  0.006737364349193816 |       0.4020378331179835       |\n",
      "|     28     |  0.006713182174728609 |       0.4087510152927121       |\n",
      "|     29     |  0.00671030858156752  |      0.41546132387427964       |\n",
      "|     30     |  0.006706517177459979 |       0.4221678410517396       |\n",
      "|     31     |  0.006679209341433553 |      0.42884705039317317       |\n",
      "|     32     |  0.006672702393046467 |       0.4355197527862196       |\n",
      "|     33     |  0.006666969224835959 |       0.4421867220110556       |\n",
      "|     34     | 0.0066485651772029385 |       0.4488352871882585       |\n",
      "|     35     | 0.0066424164476943945 |       0.4554777036359529       |\n",
      "|     36     |  0.006630460409313421 |      0.46210816404526633       |\n",
      "|     37     | 0.0066154478015602895 |      0.46872361184682665       |\n",
      "|     38     |  0.006609534549921553 |       0.4753331463967482       |\n",
      "|     39     |  0.006598875630031489 |      0.48193202202677965       |\n",
      "|     40     |  0.006585251051550443 |       0.4885172730783301       |\n",
      "|     41     | 0.0065742690617931745 |      0.49509154214012324       |\n",
      "|     42     |  0.006554277005708251 |       0.5016458191458315       |\n",
      "|     43     |  0.006550449180318046 |       0.5081962683261495       |\n",
      "|     44     |  0.006539490669171292 |       0.5147357589953208       |\n",
      "|     45     |  0.006530738060067643 |       0.5212664970553884       |\n",
      "|     46     |  0.006521298945926573 |       0.527787796001315        |\n",
      "|     47     |  0.006513258331439901 |       0.5343010543327549       |\n",
      "|     48     |  0.006509284215908017 |       0.5408103385486629       |\n",
      "|     49     |  0.006504703823002041 |       0.547315042371665        |\n",
      "|     50     |  0.006490524171519564 |       0.5538055665431845       |\n",
      "|     51     |  0.006483748551084959 |       0.5602893150942694       |\n",
      "|     52     |  0.00648283000166625  |       0.5667721450959357       |\n",
      "|     53     | 0.0064769463182482445 |       0.5732490914141839       |\n",
      "|     54     |  0.006462868682886964 |       0.5797119600970708       |\n",
      "|     55     |  0.006457772351243444 |       0.5861697324483143       |\n",
      "|     56     |  0.006450351121203605 |       0.5926200835695179       |\n",
      "|     57     | 0.0064388345037427065 |       0.5990589180732606       |\n",
      "|     58     |  0.00642491325922459  |       0.6054838313324852       |\n",
      "|     59     |  0.00641939644192289  |       0.6119032277744081       |\n",
      "|     60     |  0.006409856963413902 |       0.618313084737822        |\n",
      "|     61     |  0.006409129520569041 |       0.624722214258391        |\n",
      "|     62     |  0.006394547727956953 |       0.631116761986348        |\n",
      "|     63     |  0.006393130692941467 |       0.6375098926792895       |\n",
      "|     64     |  0.006384569909083395 |       0.6438944625883729       |\n",
      "|     65     |  0.006372476007488334 |       0.6502669385958613       |\n",
      "|     66     |  0.006366986390435254 |       0.6566339249862965       |\n",
      "|     67     |  0.00636292339671766  |       0.6629968483830141       |\n",
      "|     68     |  0.006352026931274449 |       0.6693488753142885       |\n",
      "|     69     |  0.006347649902837761 |       0.6756965252171263       |\n",
      "|     70     | 0.0063425812707111635 |       0.6820391064878375       |\n",
      "|     71     |  0.006322971674309552 |       0.688362078162147        |\n",
      "|     72     |  0.006322113295040839 |       0.6946841914571878       |\n",
      "|     73     | 0.0063163327199499365 |       0.7010005241771378       |\n",
      "|     74     |  0.006299174264674056 |       0.7072996984418118       |\n",
      "|     75     |  0.006290550106342471 |       0.7135902485481543       |\n",
      "|     76     |  0.006281930183305111 |       0.7198721787314595       |\n",
      "|     77     |  0.006276860186079674 |       0.7261490389175391       |\n",
      "|     78     |  0.006268046222800895 |        0.73241708514034        |\n",
      "|     79     |  0.006265490798057215 |       0.7386825759383971       |\n",
      "|     80     |  0.006258135210656766 |       0.7449407111490539       |\n",
      "|     81     |  0.006249186286980423 |       0.7511898974360344       |\n",
      "|     82     |  0.006243592988731297 |       0.7574334904247657       |\n",
      "|     83     |  0.006223216118554874 |       0.7636567065433206       |\n",
      "|     84     |  0.006220212108190652 |       0.7698769186515113       |\n",
      "|     85     |  0.006215330488823042 |       0.7760922491403344       |\n",
      "|     86     |  0.006207710690752195 |       0.7822999598310866       |\n",
      "|     87     |  0.006197119042535482 |       0.7884970788736221       |\n",
      "|     88     |  0.00619506098920709  |       0.7946921398628292       |\n",
      "|     89     |  0.006190472528023886 |       0.800882612390853        |\n",
      "|     90     |  0.006187008514931764 |       0.8070696209057848       |\n",
      "|     91     |  0.006183678639274216 |       0.8132532995450591       |\n",
      "|     92     |  0.006173474434477311 |       0.8194267739795364       |\n",
      "|     93     | 0.0061653235328506155 |       0.825592097512387        |\n",
      "|     94     |  0.006158287358096071 |       0.8317503848704831       |\n",
      "|     95     |  0.006146909765973788 |       0.8378972946364569       |\n",
      "|     96     | 0.0061332677470830035 |       0.8440305623835399       |\n",
      "|     97     |  0.006119777909839106 |       0.850150340293379        |\n",
      "|     98     |  0.006113368553471774 |       0.8562637088468508       |\n",
      "|     99     |  0.006110080681686658 |       0.8623737895285374       |\n",
      "|    100     |  0.006106960237358556 |       0.868480749765896        |\n",
      "|    101     | 0.0060962624775115345 |       0.8745770122434074       |\n",
      "|    102     |  0.006082555425928301 |       0.8806595676693357       |\n",
      "|    103     |  0.006065546821930111 |       0.8867251144912658       |\n",
      "|    104     |  0.006060771455740689 |       0.8927858859470065       |\n",
      "|    105     |  0.006051793269789143 |       0.8988376792167956       |\n",
      "|    106     |  0.006048050410929284 |       0.9048857296277248       |\n",
      "|    107     |  0.006024996530135688 |       0.9109107261578605       |\n",
      "|    108     |  0.006000780792535484 |       0.916911506950396        |\n",
      "|    109     |  0.00598294439875935  |       0.9228944513491554       |\n",
      "|    110     |  0.005965063794965248 |       0.9288595151441206       |\n",
      "|    111     |  0.005951534226098101 |       0.9348110493702186       |\n",
      "|    112     | 0.0059428855049852465 |       0.9407539348752039       |\n",
      "|    113     |  0.005918339646418516 |       0.9466722745216224       |\n",
      "|    114     |  0.005885941623958242 |       0.9525582161455807       |\n",
      "|    115     |  0.005838538595501742 |       0.9583967547410824       |\n",
      "|    116     | 0.0057246767706279865 |       0.9641214315117104       |\n",
      "|    117     |  0.005678646067559621 |        0.96980007757927        |\n",
      "|    118     |  0.005620090386990448 |       0.9754201679662604       |\n",
      "|    119     |   0.0054800276293246  |       0.9809001955955851       |\n",
      "|    120     |  0.004792669523991356 |       0.9856928651195764       |\n",
      "|    121     |  0.004320756376886291 |       0.9900136214964628       |\n",
      "|    122     | 0.0038037737352434454 |       0.9938173952317062       |\n",
      "|    123     | 0.0037440647559672273 |       0.9975614599876734       |\n",
      "|    124     |  0.001956365281937075 |       0.9995178252696105       |\n",
      "|    125     | 0.0003886266386477829 |       0.9999064519082583       |\n",
      "|    126     | 7.863130831807845e-05 |       0.9999850832165764       |\n",
      "|    127     | 1.491678342328467e-05 |       0.9999999999999997       |\n",
      "+------------+-----------------------+--------------------------------+\n"
     ]
    }
   ],
   "source": [
    "fig = plt.figure(figsize=(12,8))\n",
    "fig.subplots_adjust(wspace=.4, hspace=.4)\n",
    "\n",
    "ax = fig.add_subplot(2, 1, 1)\n",
    "\n",
    "ax.bar(range(1, 1+pca.n_components_),\n",
    "       pca.explained_variance_ratio_,\n",
    "       color='#FFB13F')\n",
    "\n",
    "ax.set(xticks=[1, 2, 3, 4])\n",
    "plt.yticks(np.arange(0, 1.1, 0.1))\n",
    "plt.title('Variância explicada', fontsize=15)\n",
    "plt.xlabel('Componentes principais', fontsize=13)\n",
    "plt.ylabel('% de variância explicada', fontsize=13)\n",
    "\n",
    "ax = fig.add_subplot(2, 1, 2)\n",
    "ax.bar(range(1, 1+pca.n_components_),\n",
    "       np.cumsum(pca.explained_variance_ratio_),\n",
    "       color='#FFB13F')\n",
    "\n",
    "ax.set(xticks=[1, 2, 3, 4])\n",
    "plt.yticks(np.arange(0, 1.1, 0.1))\n",
    "plt.title('Variância explicada cumulativa', fontsize=15)\n",
    "plt.xlabel('Componentes principais', fontsize=13)\n",
    "plt.ylabel('% de variância explicada', fontsize=13)\n",
    "plt.show()\n",
    "\n",
    "t = PrettyTable(['Componente',\n",
    "                 'Variância explicada',\n",
    "                 'Variância explicada cumulativa'])\n",
    "\n",
    "principal_component = 1\n",
    "cum_explained_var   = 0\n",
    "\n",
    "for explained_var in pca.explained_variance_ratio_:\n",
    "    cum_explained_var += explained_var\n",
    "    t.add_row([principal_component, explained_var, cum_explained_var])\n",
    "    principal_component += 1\n",
    "\n",
    "print(t)"
   ]
  },
  {
   "cell_type": "code",
   "execution_count": null,
   "id": "6ae1b513",
   "metadata": {},
   "outputs": [],
   "source": []
  },
  {
   "cell_type": "code",
   "execution_count": null,
   "id": "e247de48",
   "metadata": {},
   "outputs": [],
   "source": []
  },
  {
   "cell_type": "code",
   "execution_count": null,
   "id": "202453e7",
   "metadata": {},
   "outputs": [],
   "source": []
  },
  {
   "cell_type": "code",
   "execution_count": null,
   "id": "d16c0003",
   "metadata": {},
   "outputs": [],
   "source": []
  },
  {
   "cell_type": "code",
   "execution_count": null,
   "id": "3ee9c5a4",
   "metadata": {},
   "outputs": [],
   "source": []
  },
  {
   "cell_type": "markdown",
   "id": "e8518ae6",
   "metadata": {
    "papermill": {
     "duration": 0.043394,
     "end_time": "2021-09-07T03:28:13.034328",
     "exception": false,
     "start_time": "2021-09-07T03:28:12.990934",
     "status": "completed"
    },
    "tags": []
   },
   "source": [
    "**`NOTA:`**\n",
    "\n",
    "No primeiro gráfico observamos que os quatros primeiro compontes são pouco relevantes, com pouca explicabilidade, como podemos observar no segundo gráfico e na tabela de variância acumulada, sendo assim, vou selecionar 20 componeste para a clusterização, pois a explicabilidade chega à  35.45%."
   ]
  },
  {
   "cell_type": "code",
   "execution_count": 36,
   "id": "615338ac",
   "metadata": {
    "execution": {
     "iopub.execute_input": "2021-09-07T03:28:13.134481Z",
     "iopub.status.busy": "2021-09-07T03:28:13.133602Z",
     "iopub.status.idle": "2021-09-07T03:28:32.585953Z",
     "shell.execute_reply": "2021-09-07T03:28:32.585514Z",
     "shell.execute_reply.started": "2021-09-07T03:08:43.840009Z"
    },
    "papermill": {
     "duration": 19.50547,
     "end_time": "2021-09-07T03:28:32.586093",
     "exception": false,
     "start_time": "2021-09-07T03:28:13.080623",
     "status": "completed"
    },
    "tags": []
   },
   "outputs": [
    {
     "data": {
      "text/html": [
       "<div>\n",
       "<style scoped>\n",
       "    .dataframe tbody tr th:only-of-type {\n",
       "        vertical-align: middle;\n",
       "    }\n",
       "\n",
       "    .dataframe tbody tr th {\n",
       "        vertical-align: top;\n",
       "    }\n",
       "\n",
       "    .dataframe thead th {\n",
       "        text-align: right;\n",
       "    }\n",
       "</style>\n",
       "<table border=\"1\" class=\"dataframe\">\n",
       "  <thead>\n",
       "    <tr style=\"text-align: right;\">\n",
       "      <th></th>\n",
       "      <th>feature_pca_0</th>\n",
       "      <th>feature_pca_1</th>\n",
       "      <th>feature_pca_2</th>\n",
       "      <th>feature_pca_3</th>\n",
       "      <th>feature_pca_4</th>\n",
       "      <th>feature_pca_5</th>\n",
       "      <th>feature_pca_6</th>\n",
       "      <th>feature_pca_7</th>\n",
       "      <th>feature_pca_8</th>\n",
       "      <th>feature_pca_9</th>\n",
       "      <th>feature_pca_10</th>\n",
       "      <th>feature_pca_11</th>\n",
       "      <th>feature_pca_12</th>\n",
       "      <th>feature_pca_13</th>\n",
       "      <th>feature_pca_14</th>\n",
       "      <th>feature_pca_15</th>\n",
       "      <th>feature_pca_16</th>\n",
       "      <th>feature_pca_17</th>\n",
       "      <th>feature_pca_18</th>\n",
       "      <th>feature_pca_19</th>\n",
       "    </tr>\n",
       "  </thead>\n",
       "  <tbody>\n",
       "    <tr>\n",
       "      <th>0</th>\n",
       "      <td>-1.201321</td>\n",
       "      <td>-1.225153</td>\n",
       "      <td>1.464130</td>\n",
       "      <td>-0.765775</td>\n",
       "      <td>-2.001419</td>\n",
       "      <td>-0.781431</td>\n",
       "      <td>-0.711500</td>\n",
       "      <td>0.951499</td>\n",
       "      <td>-0.199096</td>\n",
       "      <td>-0.493300</td>\n",
       "      <td>0.706417</td>\n",
       "      <td>0.097788</td>\n",
       "      <td>-0.149404</td>\n",
       "      <td>-0.489678</td>\n",
       "      <td>0.513572</td>\n",
       "      <td>1.495774</td>\n",
       "      <td>0.105053</td>\n",
       "      <td>0.601123</td>\n",
       "      <td>1.325714</td>\n",
       "      <td>0.633780</td>\n",
       "    </tr>\n",
       "    <tr>\n",
       "      <th>1</th>\n",
       "      <td>-1.320482</td>\n",
       "      <td>-1.419039</td>\n",
       "      <td>-3.622983</td>\n",
       "      <td>0.179211</td>\n",
       "      <td>-1.518451</td>\n",
       "      <td>-1.613655</td>\n",
       "      <td>0.661807</td>\n",
       "      <td>1.212870</td>\n",
       "      <td>0.782905</td>\n",
       "      <td>0.256358</td>\n",
       "      <td>-1.650197</td>\n",
       "      <td>2.123962</td>\n",
       "      <td>-0.087455</td>\n",
       "      <td>0.189753</td>\n",
       "      <td>-0.401726</td>\n",
       "      <td>-0.801874</td>\n",
       "      <td>-0.903875</td>\n",
       "      <td>-0.751179</td>\n",
       "      <td>0.260221</td>\n",
       "      <td>0.226010</td>\n",
       "    </tr>\n",
       "    <tr>\n",
       "      <th>2</th>\n",
       "      <td>-1.369659</td>\n",
       "      <td>-1.510758</td>\n",
       "      <td>2.819807</td>\n",
       "      <td>-4.024183</td>\n",
       "      <td>1.437131</td>\n",
       "      <td>0.496665</td>\n",
       "      <td>0.228546</td>\n",
       "      <td>-0.085420</td>\n",
       "      <td>-1.119523</td>\n",
       "      <td>0.727864</td>\n",
       "      <td>-0.367244</td>\n",
       "      <td>-1.460071</td>\n",
       "      <td>-0.400057</td>\n",
       "      <td>0.175578</td>\n",
       "      <td>1.674786</td>\n",
       "      <td>-3.205345</td>\n",
       "      <td>-0.030795</td>\n",
       "      <td>-0.117788</td>\n",
       "      <td>-0.641917</td>\n",
       "      <td>-0.928241</td>\n",
       "    </tr>\n",
       "    <tr>\n",
       "      <th>3</th>\n",
       "      <td>9.137447</td>\n",
       "      <td>-1.811831</td>\n",
       "      <td>1.869690</td>\n",
       "      <td>-3.352152</td>\n",
       "      <td>0.544484</td>\n",
       "      <td>1.180905</td>\n",
       "      <td>0.806815</td>\n",
       "      <td>0.080109</td>\n",
       "      <td>1.670777</td>\n",
       "      <td>0.548846</td>\n",
       "      <td>0.826737</td>\n",
       "      <td>0.391045</td>\n",
       "      <td>0.203888</td>\n",
       "      <td>-0.001879</td>\n",
       "      <td>1.971691</td>\n",
       "      <td>0.038188</td>\n",
       "      <td>-0.516648</td>\n",
       "      <td>-0.951563</td>\n",
       "      <td>1.006999</td>\n",
       "      <td>0.901696</td>\n",
       "    </tr>\n",
       "    <tr>\n",
       "      <th>4</th>\n",
       "      <td>-1.266770</td>\n",
       "      <td>-1.338862</td>\n",
       "      <td>3.967814</td>\n",
       "      <td>-1.538199</td>\n",
       "      <td>-0.694879</td>\n",
       "      <td>-0.560324</td>\n",
       "      <td>0.171174</td>\n",
       "      <td>-0.649582</td>\n",
       "      <td>-0.584217</td>\n",
       "      <td>0.084925</td>\n",
       "      <td>-0.181628</td>\n",
       "      <td>-0.395653</td>\n",
       "      <td>-0.455139</td>\n",
       "      <td>0.856909</td>\n",
       "      <td>-1.245117</td>\n",
       "      <td>-0.116585</td>\n",
       "      <td>0.726469</td>\n",
       "      <td>-1.130695</td>\n",
       "      <td>1.198612</td>\n",
       "      <td>1.238702</td>\n",
       "    </tr>\n",
       "  </tbody>\n",
       "</table>\n",
       "</div>"
      ],
      "text/plain": [
       "   feature_pca_0  feature_pca_1  feature_pca_2  feature_pca_3  feature_pca_4  \\\n",
       "0      -1.201321      -1.225153       1.464130      -0.765775      -2.001419   \n",
       "1      -1.320482      -1.419039      -3.622983       0.179211      -1.518451   \n",
       "2      -1.369659      -1.510758       2.819807      -4.024183       1.437131   \n",
       "3       9.137447      -1.811831       1.869690      -3.352152       0.544484   \n",
       "4      -1.266770      -1.338862       3.967814      -1.538199      -0.694879   \n",
       "\n",
       "   feature_pca_5  feature_pca_6  feature_pca_7  feature_pca_8  feature_pca_9  \\\n",
       "0      -0.781431      -0.711500       0.951499      -0.199096      -0.493300   \n",
       "1      -1.613655       0.661807       1.212870       0.782905       0.256358   \n",
       "2       0.496665       0.228546      -0.085420      -1.119523       0.727864   \n",
       "3       1.180905       0.806815       0.080109       1.670777       0.548846   \n",
       "4      -0.560324       0.171174      -0.649582      -0.584217       0.084925   \n",
       "\n",
       "   feature_pca_10  feature_pca_11  feature_pca_12  feature_pca_13  \\\n",
       "0        0.706417        0.097788       -0.149404       -0.489678   \n",
       "1       -1.650197        2.123962       -0.087455        0.189753   \n",
       "2       -0.367244       -1.460071       -0.400057        0.175578   \n",
       "3        0.826737        0.391045        0.203888       -0.001879   \n",
       "4       -0.181628       -0.395653       -0.455139        0.856909   \n",
       "\n",
       "   feature_pca_14  feature_pca_15  feature_pca_16  feature_pca_17  \\\n",
       "0        0.513572        1.495774        0.105053        0.601123   \n",
       "1       -0.401726       -0.801874       -0.903875       -0.751179   \n",
       "2        1.674786       -3.205345       -0.030795       -0.117788   \n",
       "3        1.971691        0.038188       -0.516648       -0.951563   \n",
       "4       -1.245117       -0.116585        0.726469       -1.130695   \n",
       "\n",
       "   feature_pca_18  feature_pca_19  \n",
       "0        1.325714        0.633780  \n",
       "1        0.260221        0.226010  \n",
       "2       -0.641917       -0.928241  \n",
       "3        1.006999        0.901696  \n",
       "4        1.198612        1.238702  "
      ]
     },
     "execution_count": 36,
     "metadata": {},
     "output_type": "execute_result"
    }
   ],
   "source": [
    "n_components  = 20 \n",
    "pca           = PCA(n_components=n_components, random_state=123)\n",
    "pca_feats     = [f'feature_pca_{i}' for i in range(n_components)]\n",
    "df1_train_pca = pd.DataFrame(pca.fit_transform(df1_train_qt), columns=pca_feats)\n",
    "df1_test_pca  = pd.DataFrame(pca.fit_transform(df1_test_qt) , columns=pca_feats)\n",
    "\n",
    "df1_train_pca.head()"
   ]
  },
  {
   "cell_type": "markdown",
   "id": "26c7e40f",
   "metadata": {
    "papermill": {
     "duration": 0.044374,
     "end_time": "2021-09-07T03:28:32.676103",
     "exception": false,
     "start_time": "2021-09-07T03:28:32.631729",
     "status": "completed"
    },
    "tags": []
   },
   "source": [
    "Pronto agora vamos para a próxima etapa que é gerar a variável de clusterização. "
   ]
  },
  {
   "cell_type": "markdown",
   "id": "f2ffbf45",
   "metadata": {
    "papermill": {
     "duration": 0.044466,
     "end_time": "2021-09-07T03:28:32.764630",
     "exception": false,
     "start_time": "2021-09-07T03:28:32.720164",
     "status": "completed"
    },
    "tags": []
   },
   "source": [
    "### 2.1.2. Clusterização\n",
    "\n",
    "Nesta etapa vamos cria uma nova variável com utilização do algoritmo `kmeams`, que tem a finalidade de criar clusters, vamos utilizar as variáveis criadas no processo anterior `2.4.2. Gerar PCA`."
   ]
  },
  {
   "cell_type": "code",
   "execution_count": 37,
   "id": "278b92df",
   "metadata": {
    "execution": {
     "iopub.execute_input": "2021-09-07T03:28:32.858175Z",
     "iopub.status.busy": "2021-09-07T03:28:32.857022Z",
     "iopub.status.idle": "2021-09-07T03:28:33.383595Z",
     "shell.execute_reply": "2021-09-07T03:28:33.384014Z",
     "shell.execute_reply.started": "2021-09-07T03:09:01.464842Z"
    },
    "papermill": {
     "duration": 0.57501,
     "end_time": "2021-09-07T03:28:33.384187",
     "exception": false,
     "start_time": "2021-09-07T03:28:32.809177",
     "status": "completed"
    },
    "tags": []
   },
   "outputs": [
    {
     "data": {
      "text/plain": [
       "((957919, 128), (493474, 127))"
      ]
     },
     "execution_count": 37,
     "metadata": {},
     "output_type": "execute_result"
    }
   ],
   "source": [
    "df1_train  = df1_train.copy()\n",
    "df1_test   = df1_test.copy()\n",
    "df1_train.shape, df1_test.shape"
   ]
  },
  {
   "cell_type": "code",
   "execution_count": 38,
   "id": "2a47a30d",
   "metadata": {
    "execution": {
     "iopub.execute_input": "2021-09-07T03:28:33.693550Z",
     "iopub.status.busy": "2021-09-07T03:28:33.692464Z",
     "iopub.status.idle": "2021-09-07T03:31:41.297971Z",
     "shell.execute_reply": "2021-09-07T03:31:41.296707Z",
     "shell.execute_reply.started": "2021-09-07T03:09:02.050920Z"
    },
    "papermill": {
     "duration": 187.869218,
     "end_time": "2021-09-07T03:31:41.298105",
     "exception": false,
     "start_time": "2021-09-07T03:28:33.428887",
     "status": "completed"
    },
    "tags": []
   },
   "outputs": [
    {
     "data": {
      "image/png": "[encoded data removed]",
      "text/plain": [
       "<Figure size 864x504 with 2 Axes>"
      ]
     },
     "metadata": {},
     "output_type": "display_data"
    },
    {
     "name": "stdout",
     "output_type": "stream",
     "text": [
      "Wall time: 2min 31s\n"
     ]
    },
    {
     "data": {
      "text/plain": [
       "<AxesSubplot:title={'center':'Distortion Score Elbow for KMeans Clustering'}, xlabel='k', ylabel='distortion score'>"
      ]
     },
     "execution_count": 38,
     "metadata": {},
     "output_type": "execute_result"
    }
   ],
   "source": [
    "%%time \n",
    "gc.collect()\n",
    "\n",
    "plt.figure(figsize=(12, 7))\n",
    "visualizer_1 = KElbowVisualizer(KMeans(random_state=59), k=(2,12))\n",
    "visualizer_1.fit(df1_train_pca);\n",
    "visualizer_1.poof();"
   ]
  },
  {
   "cell_type": "markdown",
   "id": "6d8c5c56",
   "metadata": {
    "papermill": {
     "duration": 0.047028,
     "end_time": "2021-09-07T03:31:41.391938",
     "exception": false,
     "start_time": "2021-09-07T03:31:41.344910",
     "status": "completed"
    },
    "tags": []
   },
   "source": [
    "Como podemos observar no gráfico acima, precisamos criar um modelo para clusterização de 4 clusters, então vamos fazer isso agora nos dados de treino e replicar para os dados de teste. "
   ]
  },
  {
   "cell_type": "code",
   "execution_count": 39,
   "id": "95659d43",
   "metadata": {
    "execution": {
     "iopub.execute_input": "2021-09-07T03:31:41.684390Z",
     "iopub.status.busy": "2021-09-07T03:31:41.683485Z",
     "iopub.status.idle": "2021-09-07T03:31:49.406945Z",
     "shell.execute_reply": "2021-09-07T03:31:49.407576Z",
     "shell.execute_reply.started": "2021-09-07T03:12:06.591732Z"
    },
    "papermill": {
     "duration": 7.969221,
     "end_time": "2021-09-07T03:31:49.407732",
     "exception": false,
     "start_time": "2021-09-07T03:31:41.438511",
     "status": "completed"
    },
    "tags": []
   },
   "outputs": [
    {
     "data": {
      "text/plain": [
       "((957919, 129), (493474, 128))"
      ]
     },
     "execution_count": 39,
     "metadata": {},
     "output_type": "execute_result"
    }
   ],
   "source": [
    "gc.collect()\n",
    "\n",
    "model_kmeans = KMeans(n_clusters=4, random_state=59)\n",
    "model_kmeans.fit(df1_train_pca);\n",
    "\n",
    "clusters_train = model_kmeans.predict(df1_train_pca)\n",
    "clusters_test  = model_kmeans.predict(df1_test_pca)\n",
    "\n",
    "df1_train['cluster'] = clusters_train\n",
    "df1_test['cluster']  = clusters_test\n",
    "\n",
    "df1_train.shape, df1_test.shape"
   ]
  },
  {
   "cell_type": "markdown",
   "id": "d9219e5f",
   "metadata": {
    "papermill": {
     "duration": 0.047022,
     "end_time": "2021-09-07T03:31:49.502604",
     "exception": false,
     "start_time": "2021-09-07T03:31:49.455582",
     "status": "completed"
    },
    "tags": []
   },
   "source": [
    "Vamos salvar os dataset, caso seja necessário refazer o processo podemos partir desse ponto. "
   ]
  },
  {
   "cell_type": "code",
   "execution_count": 40,
   "id": "9902bf92",
   "metadata": {
    "execution": {
     "iopub.execute_input": "2021-09-07T03:31:49.602809Z",
     "iopub.status.busy": "2021-09-07T03:31:49.602111Z",
     "iopub.status.idle": "2021-09-07T03:31:51.603497Z",
     "shell.execute_reply": "2021-09-07T03:31:51.603024Z",
     "shell.execute_reply.started": "2021-09-07T03:12:14.559092Z"
    },
    "papermill": {
     "duration": 2.053184,
     "end_time": "2021-09-07T03:31:51.603618",
     "exception": false,
     "start_time": "2021-09-07T03:31:49.550434",
     "status": "completed"
    },
    "tags": []
   },
   "outputs": [],
   "source": [
    "#!mkdir Data\n",
    "#!mkdir Data/pkl\n",
    "#!mkdir Data/sumbmission"
   ]
  },
  {
   "cell_type": "code",
   "execution_count": 41,
   "id": "8928e208",
   "metadata": {
    "execution": {
     "iopub.execute_input": "2021-09-07T03:31:51.712358Z",
     "iopub.status.busy": "2021-09-07T03:31:51.711145Z",
     "iopub.status.idle": "2021-09-07T03:33:30.056675Z",
     "shell.execute_reply": "2021-09-07T03:33:30.057180Z",
     "shell.execute_reply.started": "2021-09-07T03:12:16.550632Z"
    },
    "papermill": {
     "duration": 98.40597,
     "end_time": "2021-09-07T03:33:30.057336",
     "exception": false,
     "start_time": "2021-09-07T03:31:51.651366",
     "status": "completed"
    },
    "tags": []
   },
   "outputs": [
    {
     "data": {
      "text/plain": [
       "['Data/pkl/df2_test.pkl.z']"
      ]
     },
     "execution_count": 41,
     "metadata": {},
     "output_type": "execute_result"
    }
   ],
   "source": [
    "jb.dump(df1_train,  \"Data/pkl/df2_train.pkl.z\")\n",
    "jb.dump(df1_test,  \"Data/pkl/df2_test.pkl.z\")"
   ]
  },
  {
   "cell_type": "code",
   "execution_count": 43,
   "id": "8e1f350f",
   "metadata": {
    "execution": {
     "iopub.execute_input": "2021-09-07T03:33:30.377584Z",
     "iopub.status.busy": "2021-09-07T03:33:30.376333Z",
     "iopub.status.idle": "2021-09-07T03:33:30.379686Z",
     "shell.execute_reply": "2021-09-07T03:33:30.380097Z",
     "shell.execute_reply.started": "2021-09-07T03:13:56.024419Z"
    },
    "papermill": {
     "duration": 0.275331,
     "end_time": "2021-09-07T03:33:30.380242",
     "exception": false,
     "start_time": "2021-09-07T03:33:30.104911",
     "status": "completed"
    },
    "tags": []
   },
   "outputs": [
    {
     "data": {
      "text/plain": [
       "0"
      ]
     },
     "execution_count": 43,
     "metadata": {},
     "output_type": "execute_result"
    }
   ],
   "source": [
    "gc.collect()"
   ]
  },
  {
   "cell_type": "markdown",
   "id": "1a094145",
   "metadata": {
    "papermill": {
     "duration": 0.04712,
     "end_time": "2021-09-07T03:33:30.511949",
     "exception": false,
     "start_time": "2021-09-07T03:33:30.464829",
     "status": "completed"
    },
    "tags": []
   },
   "source": [
    "# <div class=\"alert alert-success\"> 2. Split Train/Test </div>"
   ]
  },
  {
   "cell_type": "code",
   "execution_count": 44,
   "id": "78beea7e",
   "metadata": {
    "execution": {
     "iopub.execute_input": "2021-09-07T03:33:30.611616Z",
     "iopub.status.busy": "2021-09-07T03:33:30.610530Z",
     "iopub.status.idle": "2021-09-07T03:33:31.139339Z",
     "shell.execute_reply": "2021-09-07T03:33:31.138854Z",
     "shell.execute_reply.started": "2021-09-07T03:13:56.275169Z"
    },
    "papermill": {
     "duration": 0.580141,
     "end_time": "2021-09-07T03:33:31.139468",
     "exception": false,
     "start_time": "2021-09-07T03:33:30.559327",
     "status": "completed"
    },
    "tags": []
   },
   "outputs": [],
   "source": [
    "df2_train = df1_train.copy()\n",
    "df2_test  = df1_test.copy() "
   ]
  },
  {
   "cell_type": "code",
   "execution_count": 45,
   "id": "72e57a81",
   "metadata": {
    "execution": {
     "iopub.execute_input": "2021-09-07T03:33:31.251426Z",
     "iopub.status.busy": "2021-09-07T03:33:31.250376Z",
     "iopub.status.idle": "2021-09-07T03:33:33.891302Z",
     "shell.execute_reply": "2021-09-07T03:33:33.891707Z",
     "shell.execute_reply.started": "2021-09-07T03:13:56.813899Z"
    },
    "papermill": {
     "duration": 2.70451,
     "end_time": "2021-09-07T03:33:33.891867",
     "exception": false,
     "start_time": "2021-09-07T03:33:31.187357",
     "status": "completed"
    },
    "tags": []
   },
   "outputs": [
    {
     "data": {
      "text/plain": [
       "((862127, 128), (862127,), (95792, 128), (95792,))"
      ]
     },
     "execution_count": 45,
     "metadata": {},
     "output_type": "execute_result"
    }
   ],
   "source": [
    "X      = df2_train.drop(['claim'], axis=1)\n",
    "y      = df2_train['claim']\n",
    "cols   = X.columns\n",
    "X_test = df2_test\n",
    "\n",
    "X_train, X_valid, y_train, y_valid = train_test_split(X, y, \n",
    "                                                      test_size    = 0.1,\n",
    "                                                      shuffle      = True, \n",
    "                                                      stratify     = y,\n",
    "                                                      random_state = 0)\n",
    "\n",
    "X_train.shape, y_train.shape, X_valid.shape, y_valid.shape "
   ]
  },
  {
   "cell_type": "markdown",
   "id": "e66a4950",
   "metadata": {
    "papermill": {
     "duration": 0.048072,
     "end_time": "2021-09-07T03:33:33.988163",
     "exception": false,
     "start_time": "2021-09-07T03:33:33.940091",
     "status": "completed"
    },
    "tags": []
   },
   "source": [
    "# <div class=\"alert alert-success\"> 3. Modelagem </div>"
   ]
  },
  {
   "cell_type": "markdown",
   "id": "864c514c",
   "metadata": {
    "papermill": {
     "duration": 0.047823,
     "end_time": "2021-09-07T03:33:34.083284",
     "exception": false,
     "start_time": "2021-09-07T03:33:34.035461",
     "status": "completed"
    },
    "tags": []
   },
   "source": [
    "Parametros do algoritmo"
   ]
  },
  {
   "cell_type": "code",
   "execution_count": 73,
   "id": "48bbf7f9",
   "metadata": {
    "execution": {
     "iopub.execute_input": "2021-09-07T03:33:34.183238Z",
     "iopub.status.busy": "2021-09-07T03:33:34.182638Z",
     "iopub.status.idle": "2021-09-07T03:33:34.186319Z",
     "shell.execute_reply": "2021-09-07T03:33:34.185864Z",
     "shell.execute_reply.started": "2021-09-07T03:13:59.457845Z"
    },
    "papermill": {
     "duration": 0.0553,
     "end_time": "2021-09-07T03:33:34.186423",
     "exception": false,
     "start_time": "2021-09-07T03:33:34.131123",
     "status": "completed"
    },
    "tags": []
   },
   "outputs": [],
   "source": [
    "params = {'random_state': 0,          \n",
    "          'predictor'   : 'gpu_predictor',\n",
    "          'tree_method' : 'gpu_hist',\n",
    "          'eval_metric' : 'auc'}"
   ]
  },
  {
   "cell_type": "code",
   "execution_count": 47,
   "id": "f6974aaa",
   "metadata": {
    "execution": {
     "iopub.execute_input": "2021-09-07T03:33:34.287924Z",
     "iopub.status.busy": "2021-09-07T03:33:34.287433Z",
     "iopub.status.idle": "2021-09-07T03:33:43.742640Z",
     "shell.execute_reply": "2021-09-07T03:33:43.743187Z",
     "shell.execute_reply.started": "2021-09-07T03:13:59.464162Z"
    },
    "papermill": {
     "duration": 9.508661,
     "end_time": "2021-09-07T03:33:43.743387",
     "exception": false,
     "start_time": "2021-09-07T03:33:34.234726",
     "status": "completed"
    },
    "tags": []
   },
   "outputs": [
    {
     "name": "stdout",
     "output_type": "stream",
     "text": [
      "AUC: 0.81071 - F1: 0.79390 - L. LOSS: 0.51046\n",
      "\n"
     ]
    }
   ],
   "source": [
    "model_xgb = xgb.XGBClassifier(**params)\n",
    "model_xgb.fit(X_train, y_train)\n",
    "\n",
    "y_hat_prob = model_xgb.predict_proba(X_valid)[:, 1]\n",
    "y_hat      = (y_hat_prob >.5).astype(int)\n",
    "\n",
    "fpr, tpr, thresholds = metrics.roc_curve(y_valid, y_hat_prob)\n",
    "log_loss_     = metrics.log_loss(y_valid, y_hat_prob)                \n",
    "f1_score_     = metrics.f1_score(y_valid, y_hat)        \n",
    "auc_          = metrics.auc(fpr, tpr)    \n",
    "\n",
    "print('AUC: {:.5f} - F1: {:.5f} - L. LOSS: {:.5f}'.format(auc_, f1_score_, log_loss_))\n",
    "print('')"
   ]
  },
  {
   "cell_type": "markdown",
   "id": "8e293952",
   "metadata": {
    "papermill": {
     "duration": 0.048049,
     "end_time": "2021-09-07T03:33:43.842441",
     "exception": false,
     "start_time": "2021-09-07T03:33:43.794392",
     "status": "completed"
    },
    "tags": []
   },
   "source": [
    "Obtivemos uma `AUC` de `0.81062`, isso que dizer que o acrescimo de novas variáveis nos dataset ajudou, porém precisams fazer uma validação mais robusta (validação cruzada) em vez de uma separação simples (Holdout), na validação cruzada vamos ter uma estimativa mais consistente.  "
   ]
  },
  {
   "cell_type": "code",
   "execution_count": 48,
   "id": "9db4390b",
   "metadata": {},
   "outputs": [
    {
     "name": "stdout",
     "output_type": "stream",
     "text": [
      "              precision    recall  f1-score   support\n",
      "\n",
      "         0.0       0.86      0.65      0.74     48040\n",
      "         1.0       0.72      0.90      0.80     47752\n",
      "\n",
      "    accuracy                           0.77     95792\n",
      "   macro avg       0.79      0.77      0.77     95792\n",
      "weighted avg       0.79      0.77      0.77     95792\n",
      "\n"
     ]
    }
   ],
   "source": [
    "print(metrics.classification_report(y_valid, (y_hat_prob >.35).astype(int)))"
   ]
  },
  {
   "cell_type": "code",
   "execution_count": 49,
   "id": "85024407",
   "metadata": {},
   "outputs": [
    {
     "data": {
      "image/png": "[encoded data removed]",
      "text/plain": [
       "<Figure size 432x288 with 2 Axes>"
      ]
     },
     "metadata": {
      "needs_background": "light"
     },
     "output_type": "display_data"
    }
   ],
   "source": [
    "metrics.plot_confusion_matrix(model_xgb, X_valid, y_valid, cmap='inferno')\n",
    "plt.title('Confusion matrix')\n",
    "plt.grid(False)\n",
    "plt.show()"
   ]
  },
  {
   "cell_type": "code",
   "execution_count": 50,
   "id": "2b21078e",
   "metadata": {},
   "outputs": [
    {
     "data": {
      "image/png": "[encoded data removed]",
      "text/plain": [
       "<Figure size 432x288 with 1 Axes>"
      ]
     },
     "metadata": {
      "needs_background": "light"
     },
     "output_type": "display_data"
    }
   ],
   "source": [
    "precisions, recalls, thresholds = metrics.precision_recall_curve(y_valid, (y_hat_prob >.45).astype(int))\n",
    "\n",
    "plot_precision_recall_vs_threshold(precisions, recalls, thresholds)\n",
    "plt.show()"
   ]
  },
  {
   "cell_type": "code",
   "execution_count": 51,
   "id": "2be7b6bc",
   "metadata": {},
   "outputs": [
    {
     "data": {
      "image/png": "[encoded data removed]",
      "text/plain": [
       "<Figure size 432x288 with 1 Axes>"
      ]
     },
     "metadata": {
      "needs_background": "light"
     },
     "output_type": "display_data"
    }
   ],
   "source": [
    "plot_precision_vs_recall(precisions, recalls)\n",
    "plt.show()"
   ]
  },
  {
   "cell_type": "code",
   "execution_count": 52,
   "id": "3c2d1cc8",
   "metadata": {},
   "outputs": [
    {
     "data": {
      "image/png": "[encoded data removed]",
      "text/plain": [
       "<Figure size 432x288 with 1 Axes>"
      ]
     },
     "metadata": {
      "needs_background": "light"
     },
     "output_type": "display_data"
    },
    {
     "name": "stdout",
     "output_type": "stream",
     "text": [
      "F1-score: 0.79390\n",
      "F1-score: 0.79791 threshold(0.37)\n"
     ]
    }
   ],
   "source": [
    "threshold = .37\n",
    "y_hat_threshold = (y_hat_prob>threshold).astype(int)\n",
    "fpr, tpr, thresholds = metrics. roc_curve(y_valid, y_hat_threshold)\n",
    "\n",
    "plot_roc_curve(fpr, tpr, label=\"XGB\")\n",
    "plt.show()\n",
    "\n",
    "print('F1-score: {:2.5f}'.format(metrics.f1_score(y_valid, y_hat)))\n",
    "print('F1-score: {:2.5f} threshold({:2.2f})'.format(metrics.f1_score(y_valid, y_hat_threshold), threshold))"
   ]
  },
  {
   "cell_type": "markdown",
   "id": "dca2f2b7",
   "metadata": {
    "papermill": {
     "duration": 0.048252,
     "end_time": "2021-09-07T03:33:43.939526",
     "exception": false,
     "start_time": "2021-09-07T03:33:43.891274",
     "status": "completed"
    },
    "tags": []
   },
   "source": [
    "## 4.1. Validação Cruzada"
   ]
  },
  {
   "cell_type": "code",
   "execution_count": 53,
   "id": "b81ef7ce",
   "metadata": {
    "execution": {
     "iopub.execute_input": "2021-09-07T03:33:44.342308Z",
     "iopub.status.busy": "2021-09-07T03:33:44.341602Z",
     "iopub.status.idle": "2021-09-07T03:33:44.344852Z",
     "shell.execute_reply": "2021-09-07T03:33:44.344412Z",
     "shell.execute_reply.started": "2021-09-07T03:14:06.903374Z"
    },
    "papermill": {
     "duration": 0.356176,
     "end_time": "2021-09-07T03:33:44.344969",
     "exception": false,
     "start_time": "2021-09-07T03:33:43.988793",
     "status": "completed"
    },
    "tags": []
   },
   "outputs": [],
   "source": [
    "X_train     = df2_train.drop(['claim'], axis=1)\n",
    "y_train     = df2_train['claim']"
   ]
  },
  {
   "cell_type": "code",
   "execution_count": 102,
   "id": "d98314af",
   "metadata": {},
   "outputs": [
    {
     "name": "stdout",
     "output_type": "stream",
     "text": [
      "Wall time: 15.7 s\n"
     ]
    }
   ],
   "source": [
    "%%time\n",
    "\n",
    "params = {'random_state': 0,          \n",
    "          'predictor'   : 'gpu_predictor',\n",
    "          'tree_method' : 'gpu_hist',\n",
    "          'eval_metric' : 'auc'}\n",
    "\n",
    "gc.collect()\n",
    "\n",
    "X_train_oof_shap = np.zeros((X_train.shape[0],X_train.shape[1]+1))\n",
    "feature          = X_test.columns.to_list()\n",
    "scalers          = [#QuantileTransformer(output_distribution='uniform', random_state=0),\n",
    "                    QuantileTransformer(output_distribution='normal' , random_state=0)]\n",
    "\n",
    "feature.append('claim')\n",
    "\n",
    "X_ts = pd.DataFrame(scaler.fit_transform(X_test.copy()), columns=X_test.columns)\n",
    "\n",
    "SEED = 59 \n",
    "\n",
    "gc.collect()\n",
    "\n",
    "X_train_oof_shap = np.zeros((X_train.shape[0],X_train.shape[1]+2))\n",
    "feature          = X_test.columns.to_list()\n",
    "scalers          = [#QuantileTransformer(output_distribution='uniform', random_state=0),\n",
    "                    QuantileTransformer(output_distribution='normal' , random_state=0)]\n",
    "\n",
    "feature.append('claim')"
   ]
  },
  {
   "cell_type": "code",
   "execution_count": 117,
   "id": "a1d6cec3",
   "metadata": {
    "execution": {
     "iopub.execute_input": "2021-09-07T03:33:44.655865Z",
     "iopub.status.busy": "2021-09-07T03:33:44.654802Z",
     "iopub.status.idle": "2021-09-07T03:37:37.685611Z",
     "shell.execute_reply": "2021-09-07T03:37:37.684928Z",
     "shell.execute_reply.started": "2021-09-07T03:14:07.188077Z"
    },
    "papermill": {
     "duration": 233.292639,
     "end_time": "2021-09-07T03:37:37.685800",
     "exception": false,
     "start_time": "2021-09-07T03:33:44.393161",
     "status": "completed"
    },
    "tags": []
   },
   "outputs": [
    {
     "name": "stdout",
     "output_type": "stream",
     "text": [
      "================================================================================\n",
      "Scaler: QuantileTransformer(output_distribution='normal', random_state=0) => NORMAL\n",
      "================================================================================\n",
      "[Fold 1] AUC: 0.81276 - F1: 0.79421 - L. LOSS: 0.51012\n",
      "[Fold 2] AUC: 0.76507 - F1: 0.73254 - L. LOSS: 0.60219\n",
      "[Fold 3] AUC: 0.78500 - F1: 0.74433 - L. LOSS: 0.57829\n",
      "[Fold 4] AUC: 0.78205 - F1: 0.73746 - L. LOSS: 0.58555\n",
      "[Fold 5] AUC: 0.81193 - F1: 0.79410 - L. LOSS: 0.50994\n",
      "--------------------------------------------------------------------------------\n",
      "[Mean Fold] AUC: 0.79136(Std:0.01844) - F1: 0.76053 - L. LOSS: 0.55722\n",
      "================================================================================\n",
      "\n",
      "Wall time: 9min 17s\n"
     ]
    }
   ],
   "source": [
    "%%time\n",
    "\n",
    "for scaler in scalers: \n",
    "\n",
    "    FOLDS               = 5\n",
    "    df_submission.claim = 0\n",
    "    auc                 = []\n",
    "    lloss               = []\n",
    "    f1                  = []\n",
    "    model_feature_imp   = 0 \n",
    "    scale_distribution  = str.upper(scaler.get_params(True)['output_distribution']) \n",
    "    \n",
    "    kfold               = KFold(n_splits = FOLDS, random_state = 0, shuffle = True)\n",
    " \n",
    "    print('='*80)\n",
    "    print('Scaler: {} => {}'.format(scaler, scale_distribution))\n",
    "    print('='*80)\n",
    "\n",
    "    cols_model_base = ['fe_f50_zero', 'fe_f5_zero', 'fe_n_missing', 'cluster', \n",
    "                       'fe_std', 'f105', 'f102', 'f22', 'f79', 'f106', 'f71', \n",
    "                       'f77', 'f69', #'f38','f57','f40', 'f1', 'f26', 'f82'\n",
    "                      ]\n",
    "    \n",
    "    for i, (train_idx, test_idx) in enumerate(kfold.split(X_train)):\n",
    "\n",
    "        i+=1\n",
    "        \n",
    "        X_tr, y_tr = X_train.iloc[train_idx], y_train.iloc[train_idx]\n",
    "        X_vl, y_vl = X_train.iloc[test_idx], y_train.iloc[test_idx]\n",
    "        \n",
    "        X_tr = pd.DataFrame(scaler.fit_transform(X_tr), columns=cols) \n",
    "        X_vl = pd.DataFrame(scaler.fit_transform(X_vl), columns=cols)                \n",
    "        \n",
    "        # # Treinar o modelo baseline\n",
    "        model_base = xgb.XGBClassifier(**params)\n",
    "        model_base.fit(X_tr[cols_model_base], y_tr)\n",
    "        \n",
    "        threshold = .5\n",
    "        \n",
    "        y_hat_prob_tr_mb = (model_base.predict_proba(X_tr[cols_model_base])[:, 1]>threshold).astype(int) \n",
    "        y_hat_prob_vl_mb = (model_base.predict_proba(X_vl[cols_model_base])[:, 1]>threshold).astype(int) \n",
    "        y_hat_prob_ts_mb = (model_base.predict_proba(X_ts[cols_model_base])[:, 1]>threshold).astype(int) \n",
    "        \n",
    "        X_tr['fe_md_baseline'] = y_hat_prob_tr_mb \n",
    "        X_vl['fe_md_baseline'] = y_hat_prob_vl_mb\n",
    "        X_ts['fe_md_baseline'] = y_hat_prob_ts_mb\n",
    "        \n",
    "        params_xgb = {#'n_estimators'    : 500,\n",
    "                      'max_depth'        : 7,\n",
    "                      'min_child_weight' : 40,\n",
    "                      'subsample'        : 0.662776837991846,\n",
    "                      'colsample_bynode' : 0.7392362752914446,\n",
    "                      'learning_rate'    : 0.18833941612449953,\n",
    "                      'colsample_bytree' : 0.6094875461582554,\n",
    "                      'reg_lambda'       : 10,\n",
    "                      'reg_alpha'        : 42,\n",
    "                      'eta'              : 0.07162137592923906,\n",
    "                      'alpha'            : 0.5197749697495789}\n",
    "\n",
    "        # Treinar XGB com a variável fe_md_baseline \n",
    "        model = xgb.XGBClassifier(**params_xgb, \n",
    "                                  objective         = 'binary:logistic',                  \n",
    "                                  predictor         = 'gpu_predictor',\n",
    "                                  tree_method       = 'gpu_hist',\n",
    "                                  eval_metric       = 'auc', \n",
    "                                  random_state      = 59 \n",
    "                                 ) \n",
    "\n",
    "        model.fit(X_tr, y_tr)\n",
    "\n",
    "        y_hat_prob = model.predict_proba(X_vl)[:, 1]\n",
    "        y_hat      = (y_hat_prob >.5).astype(int) \n",
    "        \n",
    "        fpr, tpr, thresholds = metrics.roc_curve(y_vl, y_hat_prob)\n",
    "                 \n",
    "        log_loss_     = metrics.log_loss(y_vl, y_hat_prob)                \n",
    "        f1_score_     = metrics.f1_score(y_vl, y_hat)        \n",
    "        auc_          = metrics.auc(fpr, tpr)    \n",
    "                \n",
    "        msg = '[Fold {}] AUC: {:.5f} - F1: {:.5f} - L. LOSS: {:.5f}'\n",
    "        print(msg.format(i, auc_, f1_score_, log_loss_))\n",
    "\n",
    "        df_submission.claim += model.predict_proba(X_ts)[:, 1]/FOLDS\n",
    "        model_feature_imp   += model.feature_importances_/ FOLDS\n",
    "        \n",
    "        X_train_oof_shap[test_idx,:] = np.hstack([X_vl , y_hat.reshape(-1, 1)])\n",
    "                \n",
    "        f1.append(f1_score_)\n",
    "        lloss.append(log_loss_)\n",
    "        auc.append(auc_)\n",
    "        \n",
    "    auc_mean   = np.mean(auc)\n",
    "    auc_std    = np.std(auc)\n",
    "    lloss_mean = np.mean(lloss)\n",
    "    f1_mean    = np.mean(f1)\n",
    "    \n",
    "    print('-'*80)\n",
    "    msg = '[Mean Fold] AUC: {:.5f}(Std:{:.5f}) - F1: {:.5f} - L. LOSS: {:.5f}'\n",
    "    print(msg.format(auc_mean, auc_std, f1_mean, lloss_mean))\n",
    "    print('='*80)\n",
    "    print('')\n",
    "    \n",
    "    # Gerar o arquivo de submissão \n",
    "    name_file_subm = str(scaler).lower()[:4] + '_' + scale_distribution \n",
    "    name_file_subm = 'Data/sumbmission/001_xgb_feature_engineering_' + name_file_subm + '.csv'\n",
    "    \n",
    "    df_submission.to_csv(name_file_subm, index=False)\n",
    "    \n",
    "    gc.collect()"
   ]
  },
  {
   "cell_type": "code",
   "execution_count": null,
   "id": "6d458e40",
   "metadata": {},
   "outputs": [],
   "source": [
    "# ================================================================================\n",
    "# Scaler: QuantileTransformer(0.80883) => NORMAL\n",
    "# ================================================================================\n",
    "# [Fold 1] AUC: 0.81276 - F1: 0.79421 - L. LOSS: 0.51012\n",
    "# [Fold 2] AUC: 0.76507 - F1: 0.73254 - L. LOSS: 0.60219\n",
    "# [Fold 3] AUC: 0.78500 - F1: 0.74433 - L. LOSS: 0.57829\n",
    "# [Fold 4] AUC: 0.78205 - F1: 0.73746 - L. LOSS: 0.58555\n",
    "# [Fold 5] AUC: 0.81193 - F1: 0.79410 - L. LOSS: 0.50994\n",
    "# --------------------------------------------------------------------------------\n",
    "# [Mean Fold] AUC: 0.79136(Std:0.01844) - F1: 0.76053 - L. LOSS: 0.55722\n",
    "# ================================================================================\n",
    "# \n",
    "# Wall time: 6min 1s"
   ]
  },
  {
   "cell_type": "markdown",
   "id": "eb3a23e9",
   "metadata": {
    "papermill": {
     "duration": 0.069147,
     "end_time": "2021-09-07T03:37:37.805905",
     "exception": false,
     "start_time": "2021-09-07T03:37:37.736758",
     "status": "completed"
    },
    "tags": []
   },
   "source": [
    "<div class=\"alert alert-info\" role=\"alert\">\n",
    "    \n",
    "**`NOTA:`**\n",
    "\n",
    "Como podemos obsevar acima, a média de AUC na validação cruzada foi de 0.78552 e na submissão do kaggle foi uma AUC de 0.80771, sem ajustes nos parametros do XGB.  "
   ]
  },
  {
   "cell_type": "code",
   "execution_count": null,
   "id": "d9b3f793",
   "metadata": {},
   "outputs": [],
   "source": []
  },
  {
   "cell_type": "markdown",
   "id": "4c3362b8",
   "metadata": {
    "papermill": {
     "duration": 0.077846,
     "end_time": "2021-09-07T03:37:37.965495",
     "exception": false,
     "start_time": "2021-09-07T03:37:37.887649",
     "status": "completed"
    },
    "tags": []
   },
   "source": [
    "## 4.2. Feature importances"
   ]
  },
  {
   "cell_type": "markdown",
   "id": "4647986f",
   "metadata": {
    "papermill": {
     "duration": 0.07929,
     "end_time": "2021-09-07T03:37:38.123550",
     "exception": false,
     "start_time": "2021-09-07T03:37:38.044260",
     "status": "completed"
    },
    "tags": []
   },
   "source": [
    "Nesta etapa vamos utilizar duas formas de verificar a importância das variáveis para o modelo: \n",
    "- As feature importance (feature_importances_) do próprio modelo \n",
    "- Shap"
   ]
  },
  {
   "cell_type": "markdown",
   "id": "fbb5d8b3",
   "metadata": {
    "papermill": {
     "duration": 0.081279,
     "end_time": "2021-09-07T03:37:38.301412",
     "exception": false,
     "start_time": "2021-09-07T03:37:38.220133",
     "status": "completed"
    },
    "tags": []
   },
   "source": [
    "### 4.2.1. Feature_importances_ "
   ]
  },
  {
   "cell_type": "code",
   "execution_count": 189,
   "id": "58f9429c",
   "metadata": {
    "execution": {
     "iopub.execute_input": "2021-09-07T03:37:38.476610Z",
     "iopub.status.busy": "2021-09-07T03:37:38.475724Z",
     "iopub.status.idle": "2021-09-07T03:37:40.938121Z",
     "shell.execute_reply": "2021-09-07T03:37:40.938574Z",
     "shell.execute_reply.started": "2021-09-07T03:18:01.313452Z"
    },
    "papermill": {
     "duration": 2.555072,
     "end_time": "2021-09-07T03:37:40.938722",
     "exception": false,
     "start_time": "2021-09-07T03:37:38.383650",
     "status": "completed"
    },
    "scrolled": false,
    "tags": []
   },
   "outputs": [
    {
     "data": {
      "image/png": "[encoded data removed]",
      "text/plain": [
       "<Figure size 720x2160 with 1 Axes>"
      ]
     },
     "metadata": {
      "needs_background": "light"
     },
     "output_type": "display_data"
    }
   ],
   "source": [
    "cols_feature    = X.columns.to_list()\n",
    "cols_feature.append('fe_md_baseline')\n",
    "\n",
    "df               = pd.DataFrame()\n",
    "df[\"Feature\"]    = cols_feature\n",
    "df[\"Importance\"] = model_feature_imp / model_feature_imp.sum()\n",
    "\n",
    "df.sort_values(\"Importance\", axis=0, ascending=False, inplace=True)\n",
    "\n",
    "fig, ax = plt.subplots(figsize=(10, 30))\n",
    "bars = ax.barh(df[\"Feature\"], df[\"Importance\"], \n",
    "               height    = 0.8,\n",
    "               color     = \"blue\",  # mediumorchid\n",
    "               edgecolor = \"black\")\n",
    "\n",
    "ax.set_title(\"Feature importances \\n\", fontsize=30, pad=15)\n",
    "ax.set_ylabel(\"Feature name\", fontsize=20, labelpad=15)\n",
    "ax.set_xlabel(\"Importance\", fontsize=15, labelpad=15)\n",
    "ax.set_yticks(df[\"Feature\"])\n",
    "ax.set_yticklabels(df[\"Feature\"], fontsize=15)\n",
    "ax.tick_params(axis=\"x\", labelsize=15)\n",
    "ax.grid(axis=\"x\")\n",
    "\n",
    "# Adding labels on top\n",
    "ax2 = ax.secondary_xaxis('top')\n",
    "#ax2.set_xlabel(\"Feature importance\", fontsize=20, labelpad=15)\n",
    "ax2.tick_params(axis=\"x\", labelsize=15)\n",
    "\n",
    "# Inverting y axis direction so the values are decreasing\n",
    "plt.gca().invert_yaxis()"
   ]
  },
  {
   "cell_type": "markdown",
   "id": "3d7cfb5c",
   "metadata": {
    "papermill": {
     "duration": 0.052472,
     "end_time": "2021-09-07T03:37:41.045070",
     "exception": false,
     "start_time": "2021-09-07T03:37:40.992598",
     "status": "completed"
    },
    "tags": []
   },
   "source": [
    "Acima podemos observar que algumas das variáveis que criamos estão entre as 25 variáveis mais importantes para o modelo, porém não gosto muito de jeito de analisar a importância das variáveis, vamos utilizar o `Shap` que utilza vários métodos diferentes para encontrar as variáveis importantes. "
   ]
  },
  {
   "cell_type": "markdown",
   "id": "cfad23de",
   "metadata": {
    "papermill": {
     "duration": 0.052339,
     "end_time": "2021-09-07T03:37:41.149896",
     "exception": false,
     "start_time": "2021-09-07T03:37:41.097557",
     "status": "completed"
    },
    "tags": []
   },
   "source": [
    "## Shap\n",
    "\n",
    "SHAP (SHapley Additive exPlanations) é uma abordagem teórica de jogos para explicar a saída de qualquer modelo de aprendizado de máquina, ver o  [artigos](https://github.com/slundberg/shap#citations) para detalhes e citações."
   ]
  },
  {
   "cell_type": "code",
   "execution_count": 153,
   "id": "d2abaace",
   "metadata": {
    "execution": {
     "iopub.execute_input": "2021-09-07T03:37:41.269111Z",
     "iopub.status.busy": "2021-09-07T03:37:41.267971Z",
     "iopub.status.idle": "2021-09-07T03:40:13.712226Z",
     "shell.execute_reply": "2021-09-07T03:40:13.712891Z",
     "shell.execute_reply.started": "2021-09-07T03:18:03.462606Z"
    },
    "papermill": {
     "duration": 152.503489,
     "end_time": "2021-09-07T03:40:13.713128",
     "exception": false,
     "start_time": "2021-09-07T03:37:41.209639",
     "status": "completed"
    },
    "tags": []
   },
   "outputs": [
    {
     "data": {
      "image/png": "[encoded data removed]",
      "text/plain": [
       "<Figure size 576x684 with 1 Axes>"
      ]
     },
     "metadata": {
      "needs_background": "light"
     },
     "output_type": "display_data"
    }
   ],
   "source": [
    "# resumir os efeitos de todos os recursos\n",
    "shap.summary_plot(X_train_oof_shap[:,:-1], cols_feature,)"
   ]
  },
  {
   "cell_type": "markdown",
   "id": "a7bd6ee0",
   "metadata": {
    "papermill": {
     "duration": 0.054827,
     "end_time": "2021-09-07T03:40:13.843192",
     "exception": false,
     "start_time": "2021-09-07T03:40:13.788365",
     "status": "completed"
    },
    "tags": []
   },
   "source": [
    "Como podemo observar a ordem das variáveis importantes para o modelo mudarão, agora temos as 4 primeira variáveis que foram criadas como principais, no notebook de feature select vou utilizar o `Shap` para analise da seleção das variáveis. "
   ]
  },
  {
   "cell_type": "markdown",
   "id": "115699d6",
   "metadata": {
    "papermill": {
     "duration": 0.054978,
     "end_time": "2021-09-07T03:40:13.953192",
     "exception": false,
     "start_time": "2021-09-07T03:40:13.898214",
     "status": "completed"
    },
    "tags": []
   },
   "source": [
    "Vamos salvar o dataset para o próximo notebook, que será a tunagem de parametros. "
   ]
  },
  {
   "cell_type": "code",
   "execution_count": 154,
   "id": "a6da1c14",
   "metadata": {
    "execution": {
     "iopub.execute_input": "2021-09-07T03:40:14.080861Z",
     "iopub.status.busy": "2021-09-07T03:40:14.071556Z",
     "iopub.status.idle": "2021-09-07T03:41:54.763131Z",
     "shell.execute_reply": "2021-09-07T03:41:54.763592Z",
     "shell.execute_reply.started": "2021-09-07T03:18:03.469358Z"
    },
    "papermill": {
     "duration": 100.755506,
     "end_time": "2021-09-07T03:41:54.763746",
     "exception": false,
     "start_time": "2021-09-07T03:40:14.008240",
     "status": "completed"
    },
    "tags": []
   },
   "outputs": [
    {
     "data": {
      "text/plain": [
       "28535"
      ]
     },
     "execution_count": 154,
     "metadata": {},
     "output_type": "execute_result"
    }
   ],
   "source": [
    "jb.dump(df2_train,  \"Data/pkl/df3_train.pkl.z\")\n",
    "jb.dump(df2_test,  \"Data/pkl/df3_test.pkl.z\")\n",
    "\n",
    "gc.collect()"
   ]
  },
  {
   "cell_type": "markdown",
   "id": "d0092ba5",
   "metadata": {
    "papermill": {
     "duration": 0.058744,
     "end_time": "2021-09-07T03:41:54.881541",
     "exception": false,
     "start_time": "2021-09-07T03:41:54.822797",
     "status": "completed"
    },
    "tags": []
   },
   "source": [
    "- "
   ]
  }
 ],
 "metadata": {
  "hide_input": false,
  "kernelspec": {
   "display_name": "Python 3 (ipykernel)",
   "language": "python",
   "name": "python3"
  },
  "language_info": {
   "codemirror_mode": {
    "name": "ipython",
    "version": 3
   },
   "file_extension": ".py",
   "mimetype": "text/x-python",
   "name": "python",
   "nbconvert_exporter": "python",
   "pygments_lexer": "ipython3",
   "version": "3.9.7"
  },
  "nbTranslate": {
   "displayLangs": [
    "en",
    "pt-br"
   ],
   "hotkey": "",
   "langInMainMenu": true,
   "sourceLang": "en",
   "targetLang": "pt-br",
   "useGoogleTranslate": true
  },
  "papermill": {
   "default_parameters": {},
   "duration": 996.10106,
   "end_time": "2021-09-07T03:41:58.363313",
   "environment_variables": {},
   "exception": null,
   "input_path": "__notebook__.ipynb",
   "output_path": "__notebook__.ipynb",
   "parameters": {},
   "start_time": "2021-09-07T03:25:22.262253",
   "version": "2.3.3"
  },
  "toc": {
   "base_numbering": 1,
   "nav_menu": {},
   "number_sections": false,
   "sideBar": true,
   "skip_h1_title": false,
   "title_cell": "Table of Contents",
   "title_sidebar": "Contents",
   "toc_cell": false,
   "toc_position": {
    "height": "calc(100% - 180px)",
    "left": "10px",
    "top": "150px",
    "width": "223px"
   },
   "toc_section_display": true,
   "toc_window_display": true
  }
 },
 "nbformat": 4,
 "nbformat_minor": 5
}
