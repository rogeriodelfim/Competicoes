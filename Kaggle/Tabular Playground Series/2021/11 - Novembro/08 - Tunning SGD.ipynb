{
 "cells": [
  {
   "cell_type": "markdown",
   "metadata": {
    "id": "xFogj-Cdi34f"
   },
   "source": [
    "<h1 div class='alert alert-success'><center> Tunning Hyperparameters Classificador SGD\n",
    "\n",
    " </center></h1>\n",
    "\n",
    "![](https://storage.googleapis.com/kaggle-competitions/kaggle/26480/logos/header.png?t=2021-04-09-00-57-05)"
   ]
  },
  {
   "cell_type": "markdown",
   "metadata": {
    "id": "sKJFMrjqi34j"
   },
   "source": [
    "# <div class=\"alert alert-success\">  0. IMPORTAÇÕES </div>"
   ]
  },
  {
   "cell_type": "code",
   "execution_count": 58,
   "metadata": {
    "ExecuteTime": {
     "end_time": "2021-11-15T02:39:28.518290Z",
     "start_time": "2021-11-15T02:39:23.523403Z"
    },
    "colab": {
     "base_uri": "https://localhost:8080/"
    },
    "executionInfo": {
     "elapsed": 12409,
     "status": "ok",
     "timestamp": 1635613273843,
     "user": {
      "displayName": "Rogério Delfim",
      "photoUrl": "https://lh3.googleusercontent.com/a-/AOh14Gj8lDYWTfZHU0U0sMojRPio71Ec7YDcSEpCaOEE=s64",
      "userId": "04235763959036945343"
     },
     "user_tz": 180
    },
    "id": "U2CKimxvi34k",
    "outputId": "8c678855-bb48-4e17-e163-d337a38f8e40"
   },
   "outputs": [],
   "source": [
    "!pip install --quiet optuna\n",
    "!pip install --q GPUtil\n",
    "#!pip install --q pytorch-tabnet"
   ]
  },
  {
   "cell_type": "markdown",
   "metadata": {
    "id": "ckrEOEuUi34l"
   },
   "source": [
    "## 0.1. Bibliotecas"
   ]
  },
  {
   "cell_type": "code",
   "execution_count": 1,
   "metadata": {
    "ExecuteTime": {
     "end_time": "2021-11-24T20:40:42.994090Z",
     "start_time": "2021-11-24T20:40:38.875710Z"
    },
    "executionInfo": {
     "elapsed": 2708,
     "status": "ok",
     "timestamp": 1635613282505,
     "user": {
      "displayName": "Rogério Delfim",
      "photoUrl": "https://lh3.googleusercontent.com/a-/AOh14Gj8lDYWTfZHU0U0sMojRPio71Ec7YDcSEpCaOEE=s64",
      "userId": "04235763959036945343"
     },
     "user_tz": 180
    },
    "id": "icBhRH0Si34m"
   },
   "outputs": [],
   "source": [
    "import warnings\n",
    "import os\n",
    "import gc\n",
    "import random\n",
    "import glob\n",
    "import optuna"
   ]
  },
  {
   "cell_type": "code",
   "execution_count": 25,
   "metadata": {
    "ExecuteTime": {
     "end_time": "2021-11-15T23:03:25.754104Z",
     "start_time": "2021-11-15T23:03:25.748107Z"
    },
    "executionInfo": {
     "elapsed": 5,
     "status": "ok",
     "timestamp": 1635613282506,
     "user": {
      "displayName": "Rogério Delfim",
      "photoUrl": "https://lh3.googleusercontent.com/a-/AOh14Gj8lDYWTfZHU0U0sMojRPio71Ec7YDcSEpCaOEE=s64",
      "userId": "04235763959036945343"
     },
     "user_tz": 180
    },
    "id": "OjwX36f3i34m"
   },
   "outputs": [],
   "source": [
    "import pandas               as pd\n",
    "import numpy                as np\n",
    "import matplotlib.pyplot    as plt \n",
    "import seaborn              as sns\n",
    "import joblib               as jb"
   ]
  },
  {
   "cell_type": "code",
   "execution_count": 26,
   "metadata": {
    "ExecuteTime": {
     "end_time": "2021-11-15T23:03:26.259715Z",
     "start_time": "2021-11-15T23:03:26.252688Z"
    },
    "executionInfo": {
     "elapsed": 12714,
     "status": "ok",
     "timestamp": 1635613295216,
     "user": {
      "displayName": "Rogério Delfim",
      "photoUrl": "https://lh3.googleusercontent.com/a-/AOh14Gj8lDYWTfZHU0U0sMojRPio71Ec7YDcSEpCaOEE=s64",
      "userId": "04235763959036945343"
     },
     "user_tz": 180
    },
    "id": "xyxT1_-ei34n"
   },
   "outputs": [],
   "source": [
    "import torch\n",
    "import torch.nn             as nn"
   ]
  },
  {
   "cell_type": "code",
   "execution_count": 27,
   "metadata": {
    "ExecuteTime": {
     "end_time": "2021-11-15T23:03:27.135104Z",
     "start_time": "2021-11-15T23:03:27.123114Z"
    },
    "executionInfo": {
     "elapsed": 5,
     "status": "ok",
     "timestamp": 1635613295217,
     "user": {
      "displayName": "Rogério Delfim",
      "photoUrl": "https://lh3.googleusercontent.com/a-/AOh14Gj8lDYWTfZHU0U0sMojRPio71Ec7YDcSEpCaOEE=s64",
      "userId": "04235763959036945343"
     },
     "user_tz": 180
    },
    "id": "me4iqeW8i34o"
   },
   "outputs": [],
   "source": [
    "from sklearn.linear_model import SGDClassifier"
   ]
  },
  {
   "cell_type": "code",
   "execution_count": 28,
   "metadata": {
    "ExecuteTime": {
     "end_time": "2021-11-15T23:03:28.993298Z",
     "start_time": "2021-11-15T23:03:28.981262Z"
    },
    "executionInfo": {
     "elapsed": 5,
     "status": "ok",
     "timestamp": 1635613295218,
     "user": {
      "displayName": "Rogério Delfim",
      "photoUrl": "https://lh3.googleusercontent.com/a-/AOh14Gj8lDYWTfZHU0U0sMojRPio71Ec7YDcSEpCaOEE=s64",
      "userId": "04235763959036945343"
     },
     "user_tz": 180
    },
    "id": "RM2RI3_ti34p"
   },
   "outputs": [],
   "source": [
    "from sklearn.model_selection       import train_test_split, KFold, StratifiedKFold\n",
    "from sklearn.preprocessing         import QuantileTransformer,  KBinsDiscretizer, StandardScaler\n",
    "from sklearn.preprocessing         import RobustScaler, MinMaxScaler, MaxAbsScaler\n",
    "from sklearn                       import metrics\n",
    "from sklearn.feature_selection     import SelectKBest, SelectPercentile, f_classif"
   ]
  },
  {
   "cell_type": "code",
   "execution_count": 29,
   "metadata": {
    "ExecuteTime": {
     "end_time": "2021-11-15T23:03:29.867401Z",
     "start_time": "2021-11-15T23:03:29.853409Z"
    },
    "executionInfo": {
     "elapsed": 5,
     "status": "ok",
     "timestamp": 1635613295218,
     "user": {
      "displayName": "Rogério Delfim",
      "photoUrl": "https://lh3.googleusercontent.com/a-/AOh14Gj8lDYWTfZHU0U0sMojRPio71Ec7YDcSEpCaOEE=s64",
      "userId": "04235763959036945343"
     },
     "user_tz": 180
    },
    "id": "IMnB1bcOi34p"
   },
   "outputs": [],
   "source": [
    "from optuna.samplers               import TPESampler\n",
    "from optuna.visualization          import plot_edf\n",
    "from optuna.visualization          import plot_optimization_history\n",
    "from optuna.visualization          import plot_parallel_coordinate\n",
    "from optuna.visualization          import plot_param_importances\n",
    "from optuna.visualization          import plot_slice\n",
    "from optuna.visualization          import plot_intermediate_values\n",
    "from optuna.visualization          import plot_contour\n",
    "from optuna.pruners                import MedianPruner"
   ]
  },
  {
   "cell_type": "code",
   "execution_count": 30,
   "metadata": {
    "ExecuteTime": {
     "end_time": "2021-11-15T23:03:30.541583Z",
     "start_time": "2021-11-15T23:03:30.532587Z"
    },
    "executionInfo": {
     "elapsed": 1102,
     "status": "ok",
     "timestamp": 1635613296315,
     "user": {
      "displayName": "Rogério Delfim",
      "photoUrl": "https://lh3.googleusercontent.com/a-/AOh14Gj8lDYWTfZHU0U0sMojRPio71Ec7YDcSEpCaOEE=s64",
      "userId": "04235763959036945343"
     },
     "user_tz": 180
    },
    "id": "rxIrWu38i34q"
   },
   "outputs": [],
   "source": [
    "from GPUtil                        import showUtilization as gpu_usage\n",
    "from numba                         import cuda\n",
    "from sklearn.ensemble              import IsolationForest\n",
    "from psutil                        import virtual_memory\n",
    "from datetime                      import datetime\n",
    "from BorutaShap                    import BorutaShap"
   ]
  },
  {
   "cell_type": "markdown",
   "metadata": {
    "id": "LwyizAfdi34r"
   },
   "source": [
    "## 0.2. Funções"
   ]
  },
  {
   "cell_type": "code",
   "execution_count": 31,
   "metadata": {
    "ExecuteTime": {
     "end_time": "2021-11-15T23:03:31.794576Z",
     "start_time": "2021-11-15T23:03:31.779578Z"
    },
    "code_folding": [
     0
    ],
    "executionInfo": {
     "elapsed": 8,
     "status": "ok",
     "timestamp": 1635613296316,
     "user": {
      "displayName": "Rogério Delfim",
      "photoUrl": "https://lh3.googleusercontent.com/a-/AOh14Gj8lDYWTfZHU0U0sMojRPio71Ec7YDcSEpCaOEE=s64",
      "userId": "04235763959036945343"
     },
     "user_tz": 180
    },
    "id": "1vHZjDzgi34r"
   },
   "outputs": [],
   "source": [
    "def jupyter_setting():\n",
    "    \n",
    "    %matplotlib inline\n",
    "     \n",
    "    pd.options.display.max_columns = None\n",
    "    \n",
    "    optuna.logging.set_verbosity(optuna.logging.WARNING)\n",
    "      \n",
    "    warnings.filterwarnings(action='ignore')\n",
    "    warnings.simplefilter('ignore')\n",
    "    warnings.filterwarnings('ignore')\n",
    "    warnings.filterwarnings('ignore', category=DeprecationWarning)\n",
    "    warnings.filterwarnings('ignore', category=FutureWarning)\n",
    "    warnings.filterwarnings('ignore', category=RuntimeWarning)\n",
    "    warnings.filterwarnings('ignore', category=UserWarning)\n",
    "    #pd.set_option('display.max_rows', 150)\n",
    "    pd.set_option('display.max_columns', 500)\n",
    "    pd.set_option('display.max_colwidth', None)\n",
    "\n",
    "    icecream = [\"#00008b\", \"#960018\",\"#008b00\", \"#00468b\", \"#8b4500\", \"#582c00\"]\n",
    "    #sns.palplot(sns.color_palette(icecream))\n",
    "    \n",
    "    return icecream\n",
    "\n",
    "icecream = jupyter_setting()"
   ]
  },
  {
   "cell_type": "code",
   "execution_count": 32,
   "metadata": {
    "ExecuteTime": {
     "end_time": "2021-11-15T23:03:32.233143Z",
     "start_time": "2021-11-15T23:03:32.220143Z"
    },
    "code_folding": [
     0
    ],
    "executionInfo": {
     "elapsed": 7,
     "status": "ok",
     "timestamp": 1635613296316,
     "user": {
      "displayName": "Rogério Delfim",
      "photoUrl": "https://lh3.googleusercontent.com/a-/AOh14Gj8lDYWTfZHU0U0sMojRPio71Ec7YDcSEpCaOEE=s64",
      "userId": "04235763959036945343"
     },
     "user_tz": 180
    },
    "id": "m-u-wKS5i34s"
   },
   "outputs": [],
   "source": [
    "def reduce_memory_usage(df, verbose=True):\n",
    "    numerics = [\"int8\", \"int16\", \"int32\", \"int64\", \"float16\", \"float32\", \"float64\"]\n",
    "    start_mem = df.memory_usage().sum() / 1024 ** 2\n",
    "    for col in df.columns:\n",
    "        col_type = df[col].dtypes\n",
    "        if col_type in numerics:\n",
    "            c_min = df[col].min()\n",
    "            c_max = df[col].max()\n",
    "            if str(col_type)[:3] == \"int\":\n",
    "                if c_min > np.iinfo(np.int8).min and c_max < np.iinfo(np.int8).max:\n",
    "                    df[col] = df[col].astype(np.int8)\n",
    "                elif c_min > np.iinfo(np.int16).min and c_max < np.iinfo(np.int16).max:\n",
    "                    df[col] = df[col].astype(np.int16)\n",
    "                elif c_min > np.iinfo(np.int32).min and c_max < np.iinfo(np.int32).max:\n",
    "                    df[col] = df[col].astype(np.int32)\n",
    "                elif c_min > np.iinfo(np.int64).min and c_max < np.iinfo(np.int64).max:\n",
    "                    df[col] = df[col].astype(np.int64)\n",
    "            else:\n",
    "                if (\n",
    "                    c_min > np.finfo(np.float16).min\n",
    "                    and c_max < np.finfo(np.float16).max\n",
    "                ):\n",
    "                    df[col] = df[col].astype(np.float16)\n",
    "                elif (\n",
    "                    c_min > np.finfo(np.float32).min\n",
    "                    and c_max < np.finfo(np.float32).max\n",
    "                ):\n",
    "                    df[col] = df[col].astype(np.float32)\n",
    "                else:\n",
    "                    df[col] = df[col].astype(np.float64)\n",
    "    end_mem = df.memory_usage().sum() / 1024 ** 2\n",
    "    if verbose:\n",
    "        print(\n",
    "            \"Mem. usage decreased to {:.2f} Mb ({:.1f}% reduction)\".format(\n",
    "                end_mem, 100 * (start_mem - end_mem) / start_mem\n",
    "            )\n",
    "        )\n",
    "    return df"
   ]
  },
  {
   "cell_type": "code",
   "execution_count": 33,
   "metadata": {
    "ExecuteTime": {
     "end_time": "2021-11-15T23:03:32.638795Z",
     "start_time": "2021-11-15T23:03:32.629762Z"
    },
    "code_folding": [
     0
    ],
    "executionInfo": {
     "elapsed": 7,
     "status": "ok",
     "timestamp": 1635613296316,
     "user": {
      "displayName": "Rogério Delfim",
      "photoUrl": "https://lh3.googleusercontent.com/a-/AOh14Gj8lDYWTfZHU0U0sMojRPio71Ec7YDcSEpCaOEE=s64",
      "userId": "04235763959036945343"
     },
     "user_tz": 180
    },
    "id": "oT4xvNQxi34t"
   },
   "outputs": [],
   "source": [
    "def plot_precision_recall_vs_threshold(precisions, recalls, thresholds):\n",
    "    plt.plot(thresholds, precisions[:-1], \"b--\", label=\"Precision\")\n",
    "    plt.plot(thresholds, recalls[:-1], \"g-\", label=\"Recall\")\n",
    "    plt.rcParams['font.size'] = 12\n",
    "    plt.title('Precision Recall vs threshold')\n",
    "    plt.xlabel('Threshold')\n",
    "    plt.legend(loc=\"lower left\")\n",
    "    \n",
    "    plt.grid(True)"
   ]
  },
  {
   "cell_type": "code",
   "execution_count": 34,
   "metadata": {
    "ExecuteTime": {
     "end_time": "2021-11-15T23:03:33.075522Z",
     "start_time": "2021-11-15T23:03:33.063569Z"
    },
    "code_folding": [
     0
    ],
    "executionInfo": {
     "elapsed": 7,
     "status": "ok",
     "timestamp": 1635613296317,
     "user": {
      "displayName": "Rogério Delfim",
      "photoUrl": "https://lh3.googleusercontent.com/a-/AOh14Gj8lDYWTfZHU0U0sMojRPio71Ec7YDcSEpCaOEE=s64",
      "userId": "04235763959036945343"
     },
     "user_tz": 180
    },
    "id": "OzJVgUuTi34u"
   },
   "outputs": [],
   "source": [
    "def plot_precision_vs_recall(precisions, recalls):\n",
    "    plt.plot(recalls[:-1], precisions[:-1], \"b-\", label=\"Precision\")\n",
    "    \n",
    "    plt.rcParams['font.size'] = 12\n",
    "    plt.title('Precision vs recall')\n",
    "    plt.xlabel('Recall')\n",
    "    plt.ylabel('Precision')\n",
    "    # plt.legend(loc=\"lower left\")\n",
    "    \n",
    "    plt.grid(True)"
   ]
  },
  {
   "cell_type": "code",
   "execution_count": 35,
   "metadata": {
    "ExecuteTime": {
     "end_time": "2021-11-15T23:03:33.575697Z",
     "start_time": "2021-11-15T23:03:33.555714Z"
    },
    "code_folding": [
     0
    ],
    "executionInfo": {
     "elapsed": 8,
     "status": "ok",
     "timestamp": 1635613296318,
     "user": {
      "displayName": "Rogério Delfim",
      "photoUrl": "https://lh3.googleusercontent.com/a-/AOh14Gj8lDYWTfZHU0U0sMojRPio71Ec7YDcSEpCaOEE=s64",
      "userId": "04235763959036945343"
     },
     "user_tz": 180
    },
    "id": "51KsDDGLi34u"
   },
   "outputs": [],
   "source": [
    "def plot_roc_curve(fpr, tpr, label=None):\n",
    "    fig, ax = plt.subplots()\n",
    "    ax.plot(fpr, tpr, \"r-\", label=label)\n",
    "    ax.plot([0, 1], [0, 1], transform=ax.transAxes, ls=\"--\", c=\".3\")\n",
    "    plt.xlim([0.0, 1.0])\n",
    "    plt.ylim([0.0, 1.0])\n",
    "    plt.rcParams['font.size'] = 12\n",
    "    plt.title('ROC curve for TPS 09')\n",
    "    plt.xlabel('False Positive Rate (1 - Specificity)')\n",
    "    plt.ylabel('True Positive Rate (Sensitivity)')\n",
    "    plt.legend(loc=\"lower right\")\n",
    "    plt.grid(True)"
   ]
  },
  {
   "cell_type": "code",
   "execution_count": 36,
   "metadata": {
    "ExecuteTime": {
     "end_time": "2021-11-15T23:03:34.202933Z",
     "start_time": "2021-11-15T23:03:34.195930Z"
    },
    "code_folding": [
     0
    ],
    "executionInfo": {
     "elapsed": 7,
     "status": "ok",
     "timestamp": 1635613296318,
     "user": {
      "displayName": "Rogério Delfim",
      "photoUrl": "https://lh3.googleusercontent.com/a-/AOh14Gj8lDYWTfZHU0U0sMojRPio71Ec7YDcSEpCaOEE=s64",
      "userId": "04235763959036945343"
     },
     "user_tz": 180
    },
    "id": "3gf0D8QLi34u"
   },
   "outputs": [],
   "source": [
    "def graf_corr(df):\n",
    "    \n",
    "    df = df.corr().round(5)\n",
    "\n",
    "    # Máscara para ocultar a parte superior direita do gráfico, pois é uma duplicata\n",
    "    mask = np.zeros_like(df)\n",
    "    mask[np.triu_indices_from(mask)] = True\n",
    "\n",
    "    # Making a plot\n",
    "    plt.figure(figsize=(16,16))\n",
    "    ax = sns.heatmap(df, annot=True, mask=mask, cmap=\"RdBu\", annot_kws={\"weight\": \"bold\", \"fontsize\":13})\n",
    "\n",
    "    ax.set_title(\"Mapa de calor de correlação das variável\", fontsize=17)\n",
    "\n",
    "    plt.setp(ax.get_xticklabels(), \n",
    "             rotation      = 90, \n",
    "             ha            = \"right\",\n",
    "             rotation_mode = \"anchor\", \n",
    "             weight        = \"normal\")\n",
    "\n",
    "    plt.setp(ax.get_yticklabels(), \n",
    "             weight        = \"normal\",\n",
    "             rotation_mode = \"anchor\", \n",
    "             rotation      = 0, \n",
    "             ha            = \"right\");"
   ]
  },
  {
   "cell_type": "code",
   "execution_count": 37,
   "metadata": {
    "ExecuteTime": {
     "end_time": "2021-11-15T23:03:34.591850Z",
     "start_time": "2021-11-15T23:03:34.586852Z"
    },
    "code_folding": [
     0
    ],
    "executionInfo": {
     "elapsed": 8,
     "status": "ok",
     "timestamp": 1635613296319,
     "user": {
      "displayName": "Rogério Delfim",
      "photoUrl": "https://lh3.googleusercontent.com/a-/AOh14Gj8lDYWTfZHU0U0sMojRPio71Ec7YDcSEpCaOEE=s64",
      "userId": "04235763959036945343"
     },
     "user_tz": 180
    },
    "id": "YYXsmuJwi34u"
   },
   "outputs": [],
   "source": [
    "def correlation(dataset, threshold):\n",
    "\n",
    "    col_corr    = set()  # Conjunto de todos os nomes de colunas correlacionadas\n",
    "    corr_matrix = dataset.corr()\n",
    "    \n",
    "    for i in range(len(corr_matrix.columns)):\n",
    "        for j in range(i):\n",
    "            if abs(corr_matrix.iloc[i, j]) >= threshold: # estamos interessados no valor coeficiente absoluto\n",
    "                colname = corr_matrix.columns[i]        # obtendo o nome da coluna\n",
    "                col_corr.add(colname)\n",
    "    \n",
    "    return col_corr"
   ]
  },
  {
   "cell_type": "code",
   "execution_count": 38,
   "metadata": {
    "ExecuteTime": {
     "end_time": "2021-11-15T23:03:34.969238Z",
     "start_time": "2021-11-15T23:03:34.956241Z"
    },
    "code_folding": [
     0
    ],
    "executionInfo": {
     "elapsed": 7,
     "status": "ok",
     "timestamp": 1635613296319,
     "user": {
      "displayName": "Rogério Delfim",
      "photoUrl": "https://lh3.googleusercontent.com/a-/AOh14Gj8lDYWTfZHU0U0sMojRPio71Ec7YDcSEpCaOEE=s64",
      "userId": "04235763959036945343"
     },
     "user_tz": 180
    },
    "id": "GuS0Lh52i34v"
   },
   "outputs": [],
   "source": [
    "def free_gpu_cache():\n",
    "    \n",
    "    # https://www.kaggle.com/getting-started/140636\n",
    "    #print(\"Initial GPU Usage\")\n",
    "    #gpu_usage()                             \n",
    "\n",
    "    #cuda.select_device(0)\n",
    "    #cuda.close()\n",
    "    #cuda.select_device(0)   \n",
    "    \n",
    "    gc.collect()\n",
    "    torch.cuda.empty_cache()"
   ]
  },
  {
   "cell_type": "markdown",
   "metadata": {
    "id": "puAI82JpDOJO"
   },
   "source": [
    "## 0.3. GPU"
   ]
  },
  {
   "cell_type": "markdown",
   "metadata": {
    "id": "iISld6GaDyRM"
   },
   "source": [
    "### 0.3.1. Informações"
   ]
  },
  {
   "cell_type": "code",
   "execution_count": 16,
   "metadata": {
    "ExecuteTime": {
     "end_time": "2021-11-15T23:02:46.993467Z",
     "start_time": "2021-11-15T23:02:46.860404Z"
    },
    "colab": {
     "base_uri": "https://localhost:8080/"
    },
    "executionInfo": {
     "elapsed": 253,
     "status": "ok",
     "timestamp": 1635613299643,
     "user": {
      "displayName": "Rogério Delfim",
      "photoUrl": "https://lh3.googleusercontent.com/a-/AOh14Gj8lDYWTfZHU0U0sMojRPio71Ec7YDcSEpCaOEE=s64",
      "userId": "04235763959036945343"
     },
     "user_tz": 180
    },
    "id": "Je1LG7eeDL1s",
    "outputId": "e2051dd9-0bd1-4417-fac4-e0939803e6bc"
   },
   "outputs": [
    {
     "name": "stdout",
     "output_type": "stream",
     "text": [
      "Mon Nov 15 20:02:46 2021       \n",
      "+-----------------------------------------------------------------------------+\n",
      "| NVIDIA-SMI 510.06       Driver Version: 510.06       CUDA Version: 11.6     |\n",
      "|-------------------------------+----------------------+----------------------+\n",
      "| GPU  Name            TCC/WDDM | Bus-Id        Disp.A | Volatile Uncorr. ECC |\n",
      "| Fan  Temp  Perf  Pwr:Usage/Cap|         Memory-Usage | GPU-Util  Compute M. |\n",
      "|                               |                      |               MIG M. |\n",
      "|===============================+======================+======================|\n",
      "|   0  NVIDIA GeForce ... WDDM  | 00000000:01:00.0  On |                  N/A |\n",
      "| N/A   55C    P8    N/A /  N/A |    702MiB /  4096MiB |      0%      Default |\n",
      "|                               |                      |                  N/A |\n",
      "+-------------------------------+----------------------+----------------------+\n",
      "                                                                               \n",
      "+-----------------------------------------------------------------------------+\n",
      "| Processes:                                                                  |\n",
      "|  GPU   GI   CI        PID   Type   Process name                  GPU Memory |\n",
      "|        ID   ID                                                   Usage      |\n",
      "|=============================================================================|\n",
      "|    0   N/A  N/A      1228    C+G   C:\\Windows\\System32\\dwm.exe     N/A      |\n",
      "|    0   N/A  N/A      4352    C+G   ...perience\\NVIDIA Share.exe    N/A      |\n",
      "|    0   N/A  N/A      5884    C+G   ...afe Family\\SafeFamily.exe    N/A      |\n",
      "|    0   N/A  N/A     10768    C+G   C:\\Windows\\explorer.exe         N/A      |\n",
      "|    0   N/A  N/A     11648    C+G   ...bbwe\\Microsoft.Photos.exe    N/A      |\n",
      "|    0   N/A  N/A     11696    C+G   ...artMenuExperienceHost.exe    N/A      |\n",
      "|    0   N/A  N/A     11744    C+G   ...me\\Application\\chrome.exe    N/A      |\n",
      "|    0   N/A  N/A     11872    C+G   ...b3d8bbwe\\WinStore.App.exe    N/A      |\n",
      "|    0   N/A  N/A     11944    C+G   ...5n1h2txyewy\\SearchApp.exe    N/A      |\n",
      "|    0   N/A  N/A     12300    C+G   ...ekyb3d8bbwe\\YourPhone.exe    N/A      |\n",
      "|    0   N/A  N/A     14364    C+G   ...zilla Firefox\\firefox.exe    N/A      |\n",
      "|    0   N/A  N/A     14816    C+G   ...nputApp\\TextInputHost.exe    N/A      |\n",
      "|    0   N/A  N/A     21772    C+G   ...zilla Firefox\\firefox.exe    N/A      |\n",
      "|    0   N/A  N/A     34236    C+G   ...y\\ShellExperienceHost.exe    N/A      |\n",
      "|    0   N/A  N/A     39148    C+G   ...cw5n1h2txyewy\\LockApp.exe    N/A      |\n",
      "|    0   N/A  N/A     44072    C+G   ...5n1h2txyewy\\SearchApp.exe    N/A      |\n",
      "+-----------------------------------------------------------------------------+\n"
     ]
    }
   ],
   "source": [
    "gpu_info = !nvidia-smi\n",
    "gpu_info = '\\n'.join(gpu_info)\n",
    "\n",
    "if gpu_info.find('failed') >= 0:\n",
    "  print('Not connected to a GPU')\n",
    "else:\n",
    "  print(gpu_info)"
   ]
  },
  {
   "cell_type": "markdown",
   "metadata": {
    "id": "RWJ4r84ZEAIM"
   },
   "source": [
    "## 0.3.2. Memória"
   ]
  },
  {
   "cell_type": "code",
   "execution_count": 17,
   "metadata": {
    "ExecuteTime": {
     "end_time": "2021-11-15T23:02:48.121764Z",
     "start_time": "2021-11-15T23:02:48.115772Z"
    },
    "colab": {
     "base_uri": "https://localhost:8080/"
    },
    "executionInfo": {
     "elapsed": 297,
     "status": "ok",
     "timestamp": 1635613318223,
     "user": {
      "displayName": "Rogério Delfim",
      "photoUrl": "https://lh3.googleusercontent.com/a-/AOh14Gj8lDYWTfZHU0U0sMojRPio71Ec7YDcSEpCaOEE=s64",
      "userId": "04235763959036945343"
     },
     "user_tz": 180
    },
    "id": "OVohZ_xSD33t",
    "outputId": "68136d3c-48b8-4adf-df6a-3313686a4588"
   },
   "outputs": [
    {
     "name": "stdout",
     "output_type": "stream",
     "text": [
      "Your runtime has 17.0 gigabytes of available RAM\n",
      "\n",
      "Not using a high-RAM runtime\n"
     ]
    }
   ],
   "source": [
    "ram_gb = virtual_memory().total / 1e9\n",
    "\n",
    "print('Your runtime has {:.1f} gigabytes of available RAM\\n'.format(ram_gb))\n",
    "\n",
    "if ram_gb < 20:\n",
    "  print('Not using a high-RAM runtime')\n",
    "else:\n",
    "  print('You are using a high-RAM runtime!')"
   ]
  },
  {
   "cell_type": "markdown",
   "metadata": {
    "id": "8_PfcxeGi34v"
   },
   "source": [
    "## 0.4. Carregar Dados"
   ]
  },
  {
   "cell_type": "code",
   "execution_count": null,
   "metadata": {
    "ExecuteTime": {
     "end_time": "2021-11-15T01:49:15.992934Z",
     "start_time": "2021-11-15T01:49:15.321893Z"
    },
    "colab": {
     "base_uri": "https://localhost:8080/"
    },
    "executionInfo": {
     "elapsed": 34024,
     "status": "ok",
     "timestamp": 1635613354999,
     "user": {
      "displayName": "Rogério Delfim",
      "photoUrl": "https://lh3.googleusercontent.com/a-/AOh14Gj8lDYWTfZHU0U0sMojRPio71Ec7YDcSEpCaOEE=s64",
      "userId": "04235763959036945343"
     },
     "user_tz": 180
    },
    "id": "D_QC_2_bprhF",
    "outputId": "05ac6294-b989-4ad5-936a-1d878ca06c53"
   },
   "outputs": [],
   "source": [
    "from google.colab import drive\n",
    "drive.mount('/content/drive')"
   ]
  },
  {
   "cell_type": "code",
   "execution_count": 18,
   "metadata": {
    "ExecuteTime": {
     "end_time": "2021-11-15T23:02:52.790031Z",
     "start_time": "2021-11-15T23:02:52.771045Z"
    },
    "executionInfo": {
     "elapsed": 6,
     "status": "ok",
     "timestamp": 1635613355000,
     "user": {
      "displayName": "Rogério Delfim",
      "photoUrl": "https://lh3.googleusercontent.com/a-/AOh14Gj8lDYWTfZHU0U0sMojRPio71Ec7YDcSEpCaOEE=s64",
      "userId": "04235763959036945343"
     },
     "user_tz": 180
    },
    "id": "UaT5Rgjli34v"
   },
   "outputs": [],
   "source": [
    "path   = '/content/drive/MyDrive/kaggle/10 - Outubro/'\n",
    "path   = ''\n",
    "target = 'target'"
   ]
  },
  {
   "cell_type": "code",
   "execution_count": 19,
   "metadata": {
    "ExecuteTime": {
     "end_time": "2021-11-15T23:03:04.026779Z",
     "start_time": "2021-11-15T23:03:00.292782Z"
    },
    "colab": {
     "base_uri": "https://localhost:8080/"
    },
    "executionInfo": {
     "elapsed": 22098,
     "status": "ok",
     "timestamp": 1635613377093,
     "user": {
      "displayName": "Rogério Delfim",
      "photoUrl": "https://lh3.googleusercontent.com/a-/AOh14Gj8lDYWTfZHU0U0sMojRPio71Ec7YDcSEpCaOEE=s64",
      "userId": "04235763959036945343"
     },
     "user_tz": 180
    },
    "id": "Ar5Fty2Ei34v",
    "outputId": "f5610e74-ef99-4890-9171-9595fe09d9aa"
   },
   "outputs": [
    {
     "data": {
      "text/plain": [
       "((600000, 111), (540000, 110), (540000, 2))"
      ]
     },
     "execution_count": 19,
     "metadata": {},
     "output_type": "execute_result"
    }
   ],
   "source": [
    "df3_train     = jb.load(path + 'Data/pkl/df2_nb_02_train.pkl.z')\n",
    "df3_test      = jb.load(path + 'Data/pkl/df2_nb_02_test.pkl.z')\n",
    "df_submission = pd.read_csv(path + 'Data/sample_submission.csv')\n",
    "\n",
    "df3_train.shape, df3_test.shape, df_submission.shape"
   ]
  },
  {
   "cell_type": "code",
   "execution_count": 20,
   "metadata": {
    "ExecuteTime": {
     "end_time": "2021-11-15T23:03:04.119810Z",
     "start_time": "2021-11-15T23:03:04.028775Z"
    },
    "colab": {
     "base_uri": "https://localhost:8080/",
     "height": 222
    },
    "executionInfo": {
     "elapsed": 562,
     "status": "ok",
     "timestamp": 1635613377652,
     "user": {
      "displayName": "Rogério Delfim",
      "photoUrl": "https://lh3.googleusercontent.com/a-/AOh14Gj8lDYWTfZHU0U0sMojRPio71Ec7YDcSEpCaOEE=s64",
      "userId": "04235763959036945343"
     },
     "user_tz": 180
    },
    "id": "-qfjHtY0i34w",
    "outputId": "76e44b9f-5ce0-49d7-a1f3-9ee26e8b0746"
   },
   "outputs": [
    {
     "data": {
      "text/html": [
       "<div>\n",
       "<style scoped>\n",
       "    .dataframe tbody tr th:only-of-type {\n",
       "        vertical-align: middle;\n",
       "    }\n",
       "\n",
       "    .dataframe tbody tr th {\n",
       "        vertical-align: top;\n",
       "    }\n",
       "\n",
       "    .dataframe thead th {\n",
       "        text-align: right;\n",
       "    }\n",
       "</style>\n",
       "<table border=\"1\" class=\"dataframe\">\n",
       "  <thead>\n",
       "    <tr style=\"text-align: right;\">\n",
       "      <th></th>\n",
       "      <th>f0</th>\n",
       "      <th>f1</th>\n",
       "      <th>f2</th>\n",
       "      <th>f3</th>\n",
       "      <th>f4</th>\n",
       "      <th>f5</th>\n",
       "      <th>f6</th>\n",
       "      <th>f7</th>\n",
       "      <th>f8</th>\n",
       "      <th>f9</th>\n",
       "      <th>f10</th>\n",
       "      <th>f11</th>\n",
       "      <th>f12</th>\n",
       "      <th>f13</th>\n",
       "      <th>f14</th>\n",
       "      <th>f15</th>\n",
       "      <th>f16</th>\n",
       "      <th>f17</th>\n",
       "      <th>f18</th>\n",
       "      <th>f19</th>\n",
       "      <th>f20</th>\n",
       "      <th>f21</th>\n",
       "      <th>f22</th>\n",
       "      <th>f23</th>\n",
       "      <th>f24</th>\n",
       "      <th>f25</th>\n",
       "      <th>f26</th>\n",
       "      <th>f27</th>\n",
       "      <th>f28</th>\n",
       "      <th>f29</th>\n",
       "      <th>f30</th>\n",
       "      <th>f31</th>\n",
       "      <th>f32</th>\n",
       "      <th>f33</th>\n",
       "      <th>f34</th>\n",
       "      <th>f35</th>\n",
       "      <th>f36</th>\n",
       "      <th>f37</th>\n",
       "      <th>f38</th>\n",
       "      <th>f39</th>\n",
       "      <th>f40</th>\n",
       "      <th>f41</th>\n",
       "      <th>f42</th>\n",
       "      <th>f43</th>\n",
       "      <th>f44</th>\n",
       "      <th>f45</th>\n",
       "      <th>f46</th>\n",
       "      <th>f47</th>\n",
       "      <th>f48</th>\n",
       "      <th>f49</th>\n",
       "      <th>f50</th>\n",
       "      <th>f51</th>\n",
       "      <th>f52</th>\n",
       "      <th>f53</th>\n",
       "      <th>f54</th>\n",
       "      <th>f55</th>\n",
       "      <th>f56</th>\n",
       "      <th>f57</th>\n",
       "      <th>f58</th>\n",
       "      <th>f59</th>\n",
       "      <th>f60</th>\n",
       "      <th>f61</th>\n",
       "      <th>f62</th>\n",
       "      <th>f63</th>\n",
       "      <th>f64</th>\n",
       "      <th>f65</th>\n",
       "      <th>f66</th>\n",
       "      <th>f67</th>\n",
       "      <th>f68</th>\n",
       "      <th>f69</th>\n",
       "      <th>f70</th>\n",
       "      <th>f71</th>\n",
       "      <th>f72</th>\n",
       "      <th>f73</th>\n",
       "      <th>f74</th>\n",
       "      <th>f75</th>\n",
       "      <th>f76</th>\n",
       "      <th>f77</th>\n",
       "      <th>f78</th>\n",
       "      <th>f79</th>\n",
       "      <th>f80</th>\n",
       "      <th>f81</th>\n",
       "      <th>f82</th>\n",
       "      <th>f83</th>\n",
       "      <th>f84</th>\n",
       "      <th>f85</th>\n",
       "      <th>f86</th>\n",
       "      <th>f87</th>\n",
       "      <th>f88</th>\n",
       "      <th>f89</th>\n",
       "      <th>f90</th>\n",
       "      <th>f91</th>\n",
       "      <th>f92</th>\n",
       "      <th>f93</th>\n",
       "      <th>f94</th>\n",
       "      <th>f95</th>\n",
       "      <th>f96</th>\n",
       "      <th>f97</th>\n",
       "      <th>f98</th>\n",
       "      <th>f99</th>\n",
       "      <th>target</th>\n",
       "      <th>fe_cluster_0</th>\n",
       "      <th>fe_cluster_1</th>\n",
       "      <th>fe_cluster_2</th>\n",
       "      <th>fe_cluster_3</th>\n",
       "      <th>fe_cluster_4</th>\n",
       "      <th>fe_mean</th>\n",
       "      <th>fe_median</th>\n",
       "      <th>fe_min</th>\n",
       "      <th>fe_max</th>\n",
       "      <th>fe_skew</th>\n",
       "    </tr>\n",
       "  </thead>\n",
       "  <tbody>\n",
       "    <tr>\n",
       "      <th>0</th>\n",
       "      <td>0.106628</td>\n",
       "      <td>3.593750</td>\n",
       "      <td>132.7500</td>\n",
       "      <td>3.183594</td>\n",
       "      <td>0.081970</td>\n",
       "      <td>1.188477</td>\n",
       "      <td>3.732422</td>\n",
       "      <td>2.265625</td>\n",
       "      <td>2.099609</td>\n",
       "      <td>0.012329</td>\n",
       "      <td>1.607422</td>\n",
       "      <td>-0.318115</td>\n",
       "      <td>0.560059</td>\n",
       "      <td>2.806641</td>\n",
       "      <td>1.351562</td>\n",
       "      <td>2.535156</td>\n",
       "      <td>0.197510</td>\n",
       "      <td>0.676270</td>\n",
       "      <td>1.990234</td>\n",
       "      <td>-3.841797</td>\n",
       "      <td>0.037384</td>\n",
       "      <td>0.230347</td>\n",
       "      <td>3.330078</td>\n",
       "      <td>0.009399</td>\n",
       "      <td>0.144775</td>\n",
       "      <td>3.050781</td>\n",
       "      <td>1.303711</td>\n",
       "      <td>0.033234</td>\n",
       "      <td>-0.018280</td>\n",
       "      <td>2.748047</td>\n",
       "      <td>-0.009293</td>\n",
       "      <td>-0.036285</td>\n",
       "      <td>-0.049866</td>\n",
       "      <td>0.019485</td>\n",
       "      <td>3.898438</td>\n",
       "      <td>11.289062</td>\n",
       "      <td>1.137695</td>\n",
       "      <td>3.367188</td>\n",
       "      <td>4.945312</td>\n",
       "      <td>-0.105774</td>\n",
       "      <td>2.113281</td>\n",
       "      <td>3.453125</td>\n",
       "      <td>0.789551</td>\n",
       "      <td>1.113281</td>\n",
       "      <td>1.491211</td>\n",
       "      <td>2.439453</td>\n",
       "      <td>0.041809</td>\n",
       "      <td>3.355469</td>\n",
       "      <td>0.053680</td>\n",
       "      <td>1.701172</td>\n",
       "      <td>0.908691</td>\n",
       "      <td>0.094910</td>\n",
       "      <td>0.030212</td>\n",
       "      <td>0.597168</td>\n",
       "      <td>4.445312</td>\n",
       "      <td>1.586914</td>\n",
       "      <td>-0.068665</td>\n",
       "      <td>-0.108276</td>\n",
       "      <td>0.061035</td>\n",
       "      <td>0.046112</td>\n",
       "      <td>0.017105</td>\n",
       "      <td>-0.027557</td>\n",
       "      <td>0.019485</td>\n",
       "      <td>-0.048828</td>\n",
       "      <td>0.050751</td>\n",
       "      <td>3.728516</td>\n",
       "      <td>5.015625</td>\n",
       "      <td>4.187500</td>\n",
       "      <td>0.063354</td>\n",
       "      <td>0.121033</td>\n",
       "      <td>1.372070</td>\n",
       "      <td>4.015625</td>\n",
       "      <td>0.167603</td>\n",
       "      <td>0.039764</td>\n",
       "      <td>2.042969</td>\n",
       "      <td>-0.016617</td>\n",
       "      <td>0.107666</td>\n",
       "      <td>3.507812</td>\n",
       "      <td>0.013657</td>\n",
       "      <td>-0.097046</td>\n",
       "      <td>5.394531</td>\n",
       "      <td>0.244507</td>\n",
       "      <td>3.492188</td>\n",
       "      <td>0.113098</td>\n",
       "      <td>-0.015472</td>\n",
       "      <td>4.207031</td>\n",
       "      <td>4.105469</td>\n",
       "      <td>0.037231</td>\n",
       "      <td>-0.118835</td>\n",
       "      <td>0.067078</td>\n",
       "      <td>0.010742</td>\n",
       "      <td>1.098633</td>\n",
       "      <td>0.013329</td>\n",
       "      <td>-0.011719</td>\n",
       "      <td>0.052765</td>\n",
       "      <td>0.065430</td>\n",
       "      <td>4.210938</td>\n",
       "      <td>1.978516</td>\n",
       "      <td>0.085999</td>\n",
       "      <td>0.240479</td>\n",
       "      <td>0</td>\n",
       "      <td>1</td>\n",
       "      <td>0</td>\n",
       "      <td>0</td>\n",
       "      <td>0</td>\n",
       "      <td>0</td>\n",
       "      <td>2.650391</td>\n",
       "      <td>0.242432</td>\n",
       "      <td>-3.841797</td>\n",
       "      <td>132.7500</td>\n",
       "      <td>9.687500</td>\n",
       "    </tr>\n",
       "    <tr>\n",
       "      <th>1</th>\n",
       "      <td>0.125000</td>\n",
       "      <td>1.673828</td>\n",
       "      <td>76.5625</td>\n",
       "      <td>3.378906</td>\n",
       "      <td>0.099426</td>\n",
       "      <td>5.093750</td>\n",
       "      <td>1.275391</td>\n",
       "      <td>-0.471436</td>\n",
       "      <td>4.546875</td>\n",
       "      <td>0.037720</td>\n",
       "      <td>0.331787</td>\n",
       "      <td>0.325195</td>\n",
       "      <td>0.062042</td>\n",
       "      <td>2.261719</td>\n",
       "      <td>4.339844</td>\n",
       "      <td>-0.224976</td>\n",
       "      <td>0.233643</td>\n",
       "      <td>3.380859</td>\n",
       "      <td>1.903320</td>\n",
       "      <td>0.067871</td>\n",
       "      <td>-0.051270</td>\n",
       "      <td>0.006134</td>\n",
       "      <td>2.603516</td>\n",
       "      <td>0.103455</td>\n",
       "      <td>0.067627</td>\n",
       "      <td>4.753906</td>\n",
       "      <td>1.855469</td>\n",
       "      <td>-0.181885</td>\n",
       "      <td>0.008362</td>\n",
       "      <td>3.166016</td>\n",
       "      <td>0.011848</td>\n",
       "      <td>0.022293</td>\n",
       "      <td>0.069336</td>\n",
       "      <td>0.117126</td>\n",
       "      <td>0.315186</td>\n",
       "      <td>24.484375</td>\n",
       "      <td>1.671875</td>\n",
       "      <td>-0.409180</td>\n",
       "      <td>4.953125</td>\n",
       "      <td>0.092346</td>\n",
       "      <td>2.603516</td>\n",
       "      <td>1.955078</td>\n",
       "      <td>0.005898</td>\n",
       "      <td>3.289062</td>\n",
       "      <td>2.564453</td>\n",
       "      <td>0.817871</td>\n",
       "      <td>0.026001</td>\n",
       "      <td>4.617188</td>\n",
       "      <td>1.575195</td>\n",
       "      <td>0.066101</td>\n",
       "      <td>0.681641</td>\n",
       "      <td>0.025253</td>\n",
       "      <td>0.183472</td>\n",
       "      <td>0.110046</td>\n",
       "      <td>2.746094</td>\n",
       "      <td>0.835449</td>\n",
       "      <td>0.188232</td>\n",
       "      <td>4.960938</td>\n",
       "      <td>0.136108</td>\n",
       "      <td>-0.008492</td>\n",
       "      <td>-0.015266</td>\n",
       "      <td>-0.010841</td>\n",
       "      <td>0.064575</td>\n",
       "      <td>0.102539</td>\n",
       "      <td>0.093628</td>\n",
       "      <td>0.963867</td>\n",
       "      <td>0.630371</td>\n",
       "      <td>4.308594</td>\n",
       "      <td>0.091309</td>\n",
       "      <td>-0.036346</td>\n",
       "      <td>3.617188</td>\n",
       "      <td>3.103516</td>\n",
       "      <td>0.000657</td>\n",
       "      <td>0.051300</td>\n",
       "      <td>1.924805</td>\n",
       "      <td>0.123291</td>\n",
       "      <td>-0.022675</td>\n",
       "      <td>1.547852</td>\n",
       "      <td>-0.010399</td>\n",
       "      <td>0.058319</td>\n",
       "      <td>3.662109</td>\n",
       "      <td>-0.118408</td>\n",
       "      <td>2.357422</td>\n",
       "      <td>-0.009109</td>\n",
       "      <td>0.178711</td>\n",
       "      <td>4.097656</td>\n",
       "      <td>3.533203</td>\n",
       "      <td>0.005245</td>\n",
       "      <td>0.121399</td>\n",
       "      <td>0.109985</td>\n",
       "      <td>0.135864</td>\n",
       "      <td>3.460938</td>\n",
       "      <td>0.017059</td>\n",
       "      <td>0.124878</td>\n",
       "      <td>0.154053</td>\n",
       "      <td>0.606934</td>\n",
       "      <td>-0.267822</td>\n",
       "      <td>2.578125</td>\n",
       "      <td>-0.020874</td>\n",
       "      <td>0.024719</td>\n",
       "      <td>0</td>\n",
       "      <td>1</td>\n",
       "      <td>0</td>\n",
       "      <td>0</td>\n",
       "      <td>0</td>\n",
       "      <td>0</td>\n",
       "      <td>2.136719</td>\n",
       "      <td>0.145020</td>\n",
       "      <td>-0.471436</td>\n",
       "      <td>76.5625</td>\n",
       "      <td>8.429688</td>\n",
       "    </tr>\n",
       "    <tr>\n",
       "      <th>2</th>\n",
       "      <td>0.036316</td>\n",
       "      <td>1.497070</td>\n",
       "      <td>233.5000</td>\n",
       "      <td>2.195312</td>\n",
       "      <td>0.026917</td>\n",
       "      <td>3.126953</td>\n",
       "      <td>5.058594</td>\n",
       "      <td>3.849609</td>\n",
       "      <td>1.801758</td>\n",
       "      <td>0.057007</td>\n",
       "      <td>0.328613</td>\n",
       "      <td>2.968750</td>\n",
       "      <td>0.105225</td>\n",
       "      <td>2.070312</td>\n",
       "      <td>5.308594</td>\n",
       "      <td>1.354492</td>\n",
       "      <td>-0.261963</td>\n",
       "      <td>1.378906</td>\n",
       "      <td>1.480469</td>\n",
       "      <td>0.020538</td>\n",
       "      <td>-0.008804</td>\n",
       "      <td>0.109375</td>\n",
       "      <td>1.683594</td>\n",
       "      <td>0.038177</td>\n",
       "      <td>0.123718</td>\n",
       "      <td>1.112305</td>\n",
       "      <td>3.572266</td>\n",
       "      <td>0.120605</td>\n",
       "      <td>0.082092</td>\n",
       "      <td>2.234375</td>\n",
       "      <td>0.002270</td>\n",
       "      <td>0.045197</td>\n",
       "      <td>0.014404</td>\n",
       "      <td>0.011597</td>\n",
       "      <td>-0.502930</td>\n",
       "      <td>33.750000</td>\n",
       "      <td>1.417969</td>\n",
       "      <td>1.071289</td>\n",
       "      <td>3.222656</td>\n",
       "      <td>2.121094</td>\n",
       "      <td>3.082031</td>\n",
       "      <td>0.637695</td>\n",
       "      <td>-0.006821</td>\n",
       "      <td>-0.390869</td>\n",
       "      <td>17.343750</td>\n",
       "      <td>3.701172</td>\n",
       "      <td>-0.033600</td>\n",
       "      <td>1.578125</td>\n",
       "      <td>0.051971</td>\n",
       "      <td>-0.002005</td>\n",
       "      <td>2.691406</td>\n",
       "      <td>0.018372</td>\n",
       "      <td>-0.030472</td>\n",
       "      <td>0.111389</td>\n",
       "      <td>2.187500</td>\n",
       "      <td>-0.324951</td>\n",
       "      <td>-0.019943</td>\n",
       "      <td>3.455078</td>\n",
       "      <td>0.068115</td>\n",
       "      <td>-0.009811</td>\n",
       "      <td>-0.010628</td>\n",
       "      <td>0.027573</td>\n",
       "      <td>-0.007122</td>\n",
       "      <td>-0.048920</td>\n",
       "      <td>-0.002575</td>\n",
       "      <td>1.865234</td>\n",
       "      <td>2.404297</td>\n",
       "      <td>0.411621</td>\n",
       "      <td>0.057739</td>\n",
       "      <td>0.525391</td>\n",
       "      <td>2.167969</td>\n",
       "      <td>0.828125</td>\n",
       "      <td>0.089844</td>\n",
       "      <td>0.093750</td>\n",
       "      <td>4.949219</td>\n",
       "      <td>-0.010979</td>\n",
       "      <td>0.076660</td>\n",
       "      <td>0.266846</td>\n",
       "      <td>0.038696</td>\n",
       "      <td>0.382812</td>\n",
       "      <td>3.847656</td>\n",
       "      <td>-0.121460</td>\n",
       "      <td>3.740234</td>\n",
       "      <td>0.147095</td>\n",
       "      <td>-0.016571</td>\n",
       "      <td>0.614746</td>\n",
       "      <td>2.125000</td>\n",
       "      <td>0.078857</td>\n",
       "      <td>0.979980</td>\n",
       "      <td>0.026764</td>\n",
       "      <td>0.117310</td>\n",
       "      <td>4.882812</td>\n",
       "      <td>0.085205</td>\n",
       "      <td>0.032410</td>\n",
       "      <td>0.116089</td>\n",
       "      <td>-0.001689</td>\n",
       "      <td>-0.520020</td>\n",
       "      <td>2.140625</td>\n",
       "      <td>0.124451</td>\n",
       "      <td>0.148193</td>\n",
       "      <td>0</td>\n",
       "      <td>0</td>\n",
       "      <td>0</td>\n",
       "      <td>0</td>\n",
       "      <td>0</td>\n",
       "      <td>1</td>\n",
       "      <td>3.814453</td>\n",
       "      <td>0.124084</td>\n",
       "      <td>-0.520020</td>\n",
       "      <td>233.5000</td>\n",
       "      <td>9.609375</td>\n",
       "    </tr>\n",
       "    <tr>\n",
       "      <th>3</th>\n",
       "      <td>-0.014076</td>\n",
       "      <td>0.245972</td>\n",
       "      <td>780.0000</td>\n",
       "      <td>1.890625</td>\n",
       "      <td>0.006947</td>\n",
       "      <td>1.531250</td>\n",
       "      <td>2.697266</td>\n",
       "      <td>4.515625</td>\n",
       "      <td>4.503906</td>\n",
       "      <td>0.123474</td>\n",
       "      <td>1.002930</td>\n",
       "      <td>4.871094</td>\n",
       "      <td>0.058411</td>\n",
       "      <td>2.498047</td>\n",
       "      <td>1.238281</td>\n",
       "      <td>2.347656</td>\n",
       "      <td>0.175415</td>\n",
       "      <td>1.609375</td>\n",
       "      <td>2.029297</td>\n",
       "      <td>0.042084</td>\n",
       "      <td>0.005142</td>\n",
       "      <td>0.076477</td>\n",
       "      <td>1.651367</td>\n",
       "      <td>0.111816</td>\n",
       "      <td>0.121643</td>\n",
       "      <td>0.589355</td>\n",
       "      <td>4.238281</td>\n",
       "      <td>-0.032837</td>\n",
       "      <td>0.058167</td>\n",
       "      <td>0.712891</td>\n",
       "      <td>0.097473</td>\n",
       "      <td>0.072754</td>\n",
       "      <td>0.000324</td>\n",
       "      <td>0.063354</td>\n",
       "      <td>4.062500</td>\n",
       "      <td>25.375000</td>\n",
       "      <td>0.576660</td>\n",
       "      <td>2.025391</td>\n",
       "      <td>2.968750</td>\n",
       "      <td>1.085938</td>\n",
       "      <td>1.710938</td>\n",
       "      <td>1.372070</td>\n",
       "      <td>0.034637</td>\n",
       "      <td>0.722656</td>\n",
       "      <td>71.437500</td>\n",
       "      <td>3.035156</td>\n",
       "      <td>0.092224</td>\n",
       "      <td>3.453125</td>\n",
       "      <td>0.044830</td>\n",
       "      <td>0.027191</td>\n",
       "      <td>4.082031</td>\n",
       "      <td>0.046967</td>\n",
       "      <td>0.063721</td>\n",
       "      <td>0.029221</td>\n",
       "      <td>0.671875</td>\n",
       "      <td>0.185303</td>\n",
       "      <td>0.164307</td>\n",
       "      <td>3.804688</td>\n",
       "      <td>0.062317</td>\n",
       "      <td>-0.021408</td>\n",
       "      <td>0.009468</td>\n",
       "      <td>0.110901</td>\n",
       "      <td>0.026840</td>\n",
       "      <td>2.931641</td>\n",
       "      <td>0.068115</td>\n",
       "      <td>-0.495117</td>\n",
       "      <td>1.345703</td>\n",
       "      <td>2.242188</td>\n",
       "      <td>0.035614</td>\n",
       "      <td>-0.139282</td>\n",
       "      <td>4.742188</td>\n",
       "      <td>3.292969</td>\n",
       "      <td>0.117859</td>\n",
       "      <td>0.065613</td>\n",
       "      <td>0.556641</td>\n",
       "      <td>-0.058044</td>\n",
       "      <td>0.070496</td>\n",
       "      <td>1.101562</td>\n",
       "      <td>0.068542</td>\n",
       "      <td>0.162964</td>\n",
       "      <td>4.070312</td>\n",
       "      <td>-0.008835</td>\n",
       "      <td>3.896484</td>\n",
       "      <td>0.913574</td>\n",
       "      <td>-0.163208</td>\n",
       "      <td>3.074219</td>\n",
       "      <td>4.355469</td>\n",
       "      <td>-0.048889</td>\n",
       "      <td>4.917969</td>\n",
       "      <td>0.069946</td>\n",
       "      <td>-0.015350</td>\n",
       "      <td>3.474609</td>\n",
       "      <td>-0.017105</td>\n",
       "      <td>-0.008102</td>\n",
       "      <td>0.062012</td>\n",
       "      <td>0.041199</td>\n",
       "      <td>0.511719</td>\n",
       "      <td>1.968750</td>\n",
       "      <td>0.040009</td>\n",
       "      <td>0.044861</td>\n",
       "      <td>0</td>\n",
       "      <td>0</td>\n",
       "      <td>0</td>\n",
       "      <td>1</td>\n",
       "      <td>0</td>\n",
       "      <td>0</td>\n",
       "      <td>9.859375</td>\n",
       "      <td>0.180420</td>\n",
       "      <td>-0.495117</td>\n",
       "      <td>780.0000</td>\n",
       "      <td>9.867188</td>\n",
       "    </tr>\n",
       "    <tr>\n",
       "      <th>4</th>\n",
       "      <td>-0.003260</td>\n",
       "      <td>3.714844</td>\n",
       "      <td>156.1250</td>\n",
       "      <td>2.148438</td>\n",
       "      <td>0.018280</td>\n",
       "      <td>2.097656</td>\n",
       "      <td>4.156250</td>\n",
       "      <td>-0.038239</td>\n",
       "      <td>3.371094</td>\n",
       "      <td>0.034180</td>\n",
       "      <td>0.711426</td>\n",
       "      <td>0.770020</td>\n",
       "      <td>0.057556</td>\n",
       "      <td>0.957031</td>\n",
       "      <td>3.710938</td>\n",
       "      <td>5.464844</td>\n",
       "      <td>0.287109</td>\n",
       "      <td>2.617188</td>\n",
       "      <td>1.383789</td>\n",
       "      <td>0.074890</td>\n",
       "      <td>-0.010544</td>\n",
       "      <td>0.109131</td>\n",
       "      <td>2.275391</td>\n",
       "      <td>0.008026</td>\n",
       "      <td>0.045227</td>\n",
       "      <td>4.359375</td>\n",
       "      <td>5.074219</td>\n",
       "      <td>-0.009377</td>\n",
       "      <td>0.528809</td>\n",
       "      <td>4.054688</td>\n",
       "      <td>0.020004</td>\n",
       "      <td>0.106812</td>\n",
       "      <td>0.051300</td>\n",
       "      <td>0.045929</td>\n",
       "      <td>3.402344</td>\n",
       "      <td>15.562500</td>\n",
       "      <td>1.635742</td>\n",
       "      <td>0.047028</td>\n",
       "      <td>4.019531</td>\n",
       "      <td>0.155762</td>\n",
       "      <td>5.289062</td>\n",
       "      <td>4.117188</td>\n",
       "      <td>0.072144</td>\n",
       "      <td>2.751953</td>\n",
       "      <td>3.171875</td>\n",
       "      <td>0.693359</td>\n",
       "      <td>-0.105835</td>\n",
       "      <td>3.320312</td>\n",
       "      <td>0.090698</td>\n",
       "      <td>0.112915</td>\n",
       "      <td>4.621094</td>\n",
       "      <td>0.126831</td>\n",
       "      <td>0.142700</td>\n",
       "      <td>0.055725</td>\n",
       "      <td>4.707031</td>\n",
       "      <td>-0.055115</td>\n",
       "      <td>0.523926</td>\n",
       "      <td>2.972656</td>\n",
       "      <td>0.115356</td>\n",
       "      <td>0.125244</td>\n",
       "      <td>0.067444</td>\n",
       "      <td>0.075562</td>\n",
       "      <td>0.032104</td>\n",
       "      <td>-0.042297</td>\n",
       "      <td>0.047974</td>\n",
       "      <td>-0.294189</td>\n",
       "      <td>5.066406</td>\n",
       "      <td>1.049805</td>\n",
       "      <td>0.034027</td>\n",
       "      <td>0.024612</td>\n",
       "      <td>3.125000</td>\n",
       "      <td>2.263672</td>\n",
       "      <td>0.082458</td>\n",
       "      <td>-0.023300</td>\n",
       "      <td>5.617188</td>\n",
       "      <td>0.086243</td>\n",
       "      <td>0.157593</td>\n",
       "      <td>3.726562</td>\n",
       "      <td>0.061249</td>\n",
       "      <td>0.086609</td>\n",
       "      <td>0.607422</td>\n",
       "      <td>1.411133</td>\n",
       "      <td>2.060547</td>\n",
       "      <td>-0.023148</td>\n",
       "      <td>0.011238</td>\n",
       "      <td>2.156250</td>\n",
       "      <td>0.914551</td>\n",
       "      <td>0.044525</td>\n",
       "      <td>0.375732</td>\n",
       "      <td>0.134399</td>\n",
       "      <td>0.013779</td>\n",
       "      <td>1.910156</td>\n",
       "      <td>-0.042938</td>\n",
       "      <td>0.105591</td>\n",
       "      <td>0.125122</td>\n",
       "      <td>0.037506</td>\n",
       "      <td>1.043945</td>\n",
       "      <td>1.075195</td>\n",
       "      <td>-0.012817</td>\n",
       "      <td>0.072815</td>\n",
       "      <td>1</td>\n",
       "      <td>1</td>\n",
       "      <td>0</td>\n",
       "      <td>0</td>\n",
       "      <td>0</td>\n",
       "      <td>0</td>\n",
       "      <td>2.949219</td>\n",
       "      <td>0.149170</td>\n",
       "      <td>-0.294189</td>\n",
       "      <td>156.1250</td>\n",
       "      <td>9.710938</td>\n",
       "    </tr>\n",
       "  </tbody>\n",
       "</table>\n",
       "</div>"
      ],
      "text/plain": [
       "         f0        f1        f2        f3        f4        f5        f6  \\\n",
       "0  0.106628  3.593750  132.7500  3.183594  0.081970  1.188477  3.732422   \n",
       "1  0.125000  1.673828   76.5625  3.378906  0.099426  5.093750  1.275391   \n",
       "2  0.036316  1.497070  233.5000  2.195312  0.026917  3.126953  5.058594   \n",
       "3 -0.014076  0.245972  780.0000  1.890625  0.006947  1.531250  2.697266   \n",
       "4 -0.003260  3.714844  156.1250  2.148438  0.018280  2.097656  4.156250   \n",
       "\n",
       "         f7        f8        f9       f10       f11       f12       f13  \\\n",
       "0  2.265625  2.099609  0.012329  1.607422 -0.318115  0.560059  2.806641   \n",
       "1 -0.471436  4.546875  0.037720  0.331787  0.325195  0.062042  2.261719   \n",
       "2  3.849609  1.801758  0.057007  0.328613  2.968750  0.105225  2.070312   \n",
       "3  4.515625  4.503906  0.123474  1.002930  4.871094  0.058411  2.498047   \n",
       "4 -0.038239  3.371094  0.034180  0.711426  0.770020  0.057556  0.957031   \n",
       "\n",
       "        f14       f15       f16       f17       f18       f19       f20  \\\n",
       "0  1.351562  2.535156  0.197510  0.676270  1.990234 -3.841797  0.037384   \n",
       "1  4.339844 -0.224976  0.233643  3.380859  1.903320  0.067871 -0.051270   \n",
       "2  5.308594  1.354492 -0.261963  1.378906  1.480469  0.020538 -0.008804   \n",
       "3  1.238281  2.347656  0.175415  1.609375  2.029297  0.042084  0.005142   \n",
       "4  3.710938  5.464844  0.287109  2.617188  1.383789  0.074890 -0.010544   \n",
       "\n",
       "        f21       f22       f23       f24       f25       f26       f27  \\\n",
       "0  0.230347  3.330078  0.009399  0.144775  3.050781  1.303711  0.033234   \n",
       "1  0.006134  2.603516  0.103455  0.067627  4.753906  1.855469 -0.181885   \n",
       "2  0.109375  1.683594  0.038177  0.123718  1.112305  3.572266  0.120605   \n",
       "3  0.076477  1.651367  0.111816  0.121643  0.589355  4.238281 -0.032837   \n",
       "4  0.109131  2.275391  0.008026  0.045227  4.359375  5.074219 -0.009377   \n",
       "\n",
       "        f28       f29       f30       f31       f32       f33       f34  \\\n",
       "0 -0.018280  2.748047 -0.009293 -0.036285 -0.049866  0.019485  3.898438   \n",
       "1  0.008362  3.166016  0.011848  0.022293  0.069336  0.117126  0.315186   \n",
       "2  0.082092  2.234375  0.002270  0.045197  0.014404  0.011597 -0.502930   \n",
       "3  0.058167  0.712891  0.097473  0.072754  0.000324  0.063354  4.062500   \n",
       "4  0.528809  4.054688  0.020004  0.106812  0.051300  0.045929  3.402344   \n",
       "\n",
       "         f35       f36       f37       f38       f39       f40       f41  \\\n",
       "0  11.289062  1.137695  3.367188  4.945312 -0.105774  2.113281  3.453125   \n",
       "1  24.484375  1.671875 -0.409180  4.953125  0.092346  2.603516  1.955078   \n",
       "2  33.750000  1.417969  1.071289  3.222656  2.121094  3.082031  0.637695   \n",
       "3  25.375000  0.576660  2.025391  2.968750  1.085938  1.710938  1.372070   \n",
       "4  15.562500  1.635742  0.047028  4.019531  0.155762  5.289062  4.117188   \n",
       "\n",
       "        f42       f43        f44       f45       f46       f47       f48  \\\n",
       "0  0.789551  1.113281   1.491211  2.439453  0.041809  3.355469  0.053680   \n",
       "1  0.005898  3.289062   2.564453  0.817871  0.026001  4.617188  1.575195   \n",
       "2 -0.006821 -0.390869  17.343750  3.701172 -0.033600  1.578125  0.051971   \n",
       "3  0.034637  0.722656  71.437500  3.035156  0.092224  3.453125  0.044830   \n",
       "4  0.072144  2.751953   3.171875  0.693359 -0.105835  3.320312  0.090698   \n",
       "\n",
       "        f49       f50       f51       f52       f53       f54       f55  \\\n",
       "0  1.701172  0.908691  0.094910  0.030212  0.597168  4.445312  1.586914   \n",
       "1  0.066101  0.681641  0.025253  0.183472  0.110046  2.746094  0.835449   \n",
       "2 -0.002005  2.691406  0.018372 -0.030472  0.111389  2.187500 -0.324951   \n",
       "3  0.027191  4.082031  0.046967  0.063721  0.029221  0.671875  0.185303   \n",
       "4  0.112915  4.621094  0.126831  0.142700  0.055725  4.707031 -0.055115   \n",
       "\n",
       "        f56       f57       f58       f59       f60       f61       f62  \\\n",
       "0 -0.068665 -0.108276  0.061035  0.046112  0.017105 -0.027557  0.019485   \n",
       "1  0.188232  4.960938  0.136108 -0.008492 -0.015266 -0.010841  0.064575   \n",
       "2 -0.019943  3.455078  0.068115 -0.009811 -0.010628  0.027573 -0.007122   \n",
       "3  0.164307  3.804688  0.062317 -0.021408  0.009468  0.110901  0.026840   \n",
       "4  0.523926  2.972656  0.115356  0.125244  0.067444  0.075562  0.032104   \n",
       "\n",
       "        f63       f64       f65       f66       f67       f68       f69  \\\n",
       "0 -0.048828  0.050751  3.728516  5.015625  4.187500  0.063354  0.121033   \n",
       "1  0.102539  0.093628  0.963867  0.630371  4.308594  0.091309 -0.036346   \n",
       "2 -0.048920 -0.002575  1.865234  2.404297  0.411621  0.057739  0.525391   \n",
       "3  2.931641  0.068115 -0.495117  1.345703  2.242188  0.035614 -0.139282   \n",
       "4 -0.042297  0.047974 -0.294189  5.066406  1.049805  0.034027  0.024612   \n",
       "\n",
       "        f70       f71       f72       f73       f74       f75       f76  \\\n",
       "0  1.372070  4.015625  0.167603  0.039764  2.042969 -0.016617  0.107666   \n",
       "1  3.617188  3.103516  0.000657  0.051300  1.924805  0.123291 -0.022675   \n",
       "2  2.167969  0.828125  0.089844  0.093750  4.949219 -0.010979  0.076660   \n",
       "3  4.742188  3.292969  0.117859  0.065613  0.556641 -0.058044  0.070496   \n",
       "4  3.125000  2.263672  0.082458 -0.023300  5.617188  0.086243  0.157593   \n",
       "\n",
       "        f77       f78       f79       f80       f81       f82       f83  \\\n",
       "0  3.507812  0.013657 -0.097046  5.394531  0.244507  3.492188  0.113098   \n",
       "1  1.547852 -0.010399  0.058319  3.662109 -0.118408  2.357422 -0.009109   \n",
       "2  0.266846  0.038696  0.382812  3.847656 -0.121460  3.740234  0.147095   \n",
       "3  1.101562  0.068542  0.162964  4.070312 -0.008835  3.896484  0.913574   \n",
       "4  3.726562  0.061249  0.086609  0.607422  1.411133  2.060547 -0.023148   \n",
       "\n",
       "        f84       f85       f86       f87       f88       f89       f90  \\\n",
       "0 -0.015472  4.207031  4.105469  0.037231 -0.118835  0.067078  0.010742   \n",
       "1  0.178711  4.097656  3.533203  0.005245  0.121399  0.109985  0.135864   \n",
       "2 -0.016571  0.614746  2.125000  0.078857  0.979980  0.026764  0.117310   \n",
       "3 -0.163208  3.074219  4.355469 -0.048889  4.917969  0.069946 -0.015350   \n",
       "4  0.011238  2.156250  0.914551  0.044525  0.375732  0.134399  0.013779   \n",
       "\n",
       "        f91       f92       f93       f94       f95       f96       f97  \\\n",
       "0  1.098633  0.013329 -0.011719  0.052765  0.065430  4.210938  1.978516   \n",
       "1  3.460938  0.017059  0.124878  0.154053  0.606934 -0.267822  2.578125   \n",
       "2  4.882812  0.085205  0.032410  0.116089 -0.001689 -0.520020  2.140625   \n",
       "3  3.474609 -0.017105 -0.008102  0.062012  0.041199  0.511719  1.968750   \n",
       "4  1.910156 -0.042938  0.105591  0.125122  0.037506  1.043945  1.075195   \n",
       "\n",
       "        f98       f99  target  fe_cluster_0  fe_cluster_1  fe_cluster_2  \\\n",
       "0  0.085999  0.240479       0             1             0             0   \n",
       "1 -0.020874  0.024719       0             1             0             0   \n",
       "2  0.124451  0.148193       0             0             0             0   \n",
       "3  0.040009  0.044861       0             0             0             1   \n",
       "4 -0.012817  0.072815       1             1             0             0   \n",
       "\n",
       "   fe_cluster_3  fe_cluster_4   fe_mean  fe_median    fe_min    fe_max  \\\n",
       "0             0             0  2.650391   0.242432 -3.841797  132.7500   \n",
       "1             0             0  2.136719   0.145020 -0.471436   76.5625   \n",
       "2             0             1  3.814453   0.124084 -0.520020  233.5000   \n",
       "3             0             0  9.859375   0.180420 -0.495117  780.0000   \n",
       "4             0             0  2.949219   0.149170 -0.294189  156.1250   \n",
       "\n",
       "    fe_skew  \n",
       "0  9.687500  \n",
       "1  8.429688  \n",
       "2  9.609375  \n",
       "3  9.867188  \n",
       "4  9.710938  "
      ]
     },
     "execution_count": 20,
     "metadata": {},
     "output_type": "execute_result"
    }
   ],
   "source": [
    "df3_train.head()"
   ]
  },
  {
   "cell_type": "code",
   "execution_count": 21,
   "metadata": {
    "ExecuteTime": {
     "end_time": "2021-11-15T23:03:04.199813Z",
     "start_time": "2021-11-15T23:03:04.122780Z"
    },
    "colab": {
     "base_uri": "https://localhost:8080/",
     "height": 222
    },
    "executionInfo": {
     "elapsed": 483,
     "status": "ok",
     "timestamp": 1635613378132,
     "user": {
      "displayName": "Rogério Delfim",
      "photoUrl": "https://lh3.googleusercontent.com/a-/AOh14Gj8lDYWTfZHU0U0sMojRPio71Ec7YDcSEpCaOEE=s64",
      "userId": "04235763959036945343"
     },
     "user_tz": 180
    },
    "id": "_JUntp99QiWX",
    "outputId": "3f412e71-2d53-4a82-8bfc-475048a758fc"
   },
   "outputs": [
    {
     "data": {
      "text/html": [
       "<div>\n",
       "<style scoped>\n",
       "    .dataframe tbody tr th:only-of-type {\n",
       "        vertical-align: middle;\n",
       "    }\n",
       "\n",
       "    .dataframe tbody tr th {\n",
       "        vertical-align: top;\n",
       "    }\n",
       "\n",
       "    .dataframe thead th {\n",
       "        text-align: right;\n",
       "    }\n",
       "</style>\n",
       "<table border=\"1\" class=\"dataframe\">\n",
       "  <thead>\n",
       "    <tr style=\"text-align: right;\">\n",
       "      <th></th>\n",
       "      <th>f0</th>\n",
       "      <th>f1</th>\n",
       "      <th>f2</th>\n",
       "      <th>f3</th>\n",
       "      <th>f4</th>\n",
       "      <th>f5</th>\n",
       "      <th>f6</th>\n",
       "      <th>f7</th>\n",
       "      <th>f8</th>\n",
       "      <th>f9</th>\n",
       "      <th>f10</th>\n",
       "      <th>f11</th>\n",
       "      <th>f12</th>\n",
       "      <th>f13</th>\n",
       "      <th>f14</th>\n",
       "      <th>f15</th>\n",
       "      <th>f16</th>\n",
       "      <th>f17</th>\n",
       "      <th>f18</th>\n",
       "      <th>f19</th>\n",
       "      <th>f20</th>\n",
       "      <th>f21</th>\n",
       "      <th>f22</th>\n",
       "      <th>f23</th>\n",
       "      <th>f24</th>\n",
       "      <th>f25</th>\n",
       "      <th>f26</th>\n",
       "      <th>f27</th>\n",
       "      <th>f28</th>\n",
       "      <th>f29</th>\n",
       "      <th>f30</th>\n",
       "      <th>f31</th>\n",
       "      <th>f32</th>\n",
       "      <th>f33</th>\n",
       "      <th>f34</th>\n",
       "      <th>f35</th>\n",
       "      <th>f36</th>\n",
       "      <th>f37</th>\n",
       "      <th>f38</th>\n",
       "      <th>f39</th>\n",
       "      <th>f40</th>\n",
       "      <th>f41</th>\n",
       "      <th>f42</th>\n",
       "      <th>f43</th>\n",
       "      <th>f44</th>\n",
       "      <th>f45</th>\n",
       "      <th>f46</th>\n",
       "      <th>f47</th>\n",
       "      <th>f48</th>\n",
       "      <th>f49</th>\n",
       "      <th>f50</th>\n",
       "      <th>f51</th>\n",
       "      <th>f52</th>\n",
       "      <th>f53</th>\n",
       "      <th>f54</th>\n",
       "      <th>f55</th>\n",
       "      <th>f56</th>\n",
       "      <th>f57</th>\n",
       "      <th>f58</th>\n",
       "      <th>f59</th>\n",
       "      <th>f60</th>\n",
       "      <th>f61</th>\n",
       "      <th>f62</th>\n",
       "      <th>f63</th>\n",
       "      <th>f64</th>\n",
       "      <th>f65</th>\n",
       "      <th>f66</th>\n",
       "      <th>f67</th>\n",
       "      <th>f68</th>\n",
       "      <th>f69</th>\n",
       "      <th>f70</th>\n",
       "      <th>f71</th>\n",
       "      <th>f72</th>\n",
       "      <th>f73</th>\n",
       "      <th>f74</th>\n",
       "      <th>f75</th>\n",
       "      <th>f76</th>\n",
       "      <th>f77</th>\n",
       "      <th>f78</th>\n",
       "      <th>f79</th>\n",
       "      <th>f80</th>\n",
       "      <th>f81</th>\n",
       "      <th>f82</th>\n",
       "      <th>f83</th>\n",
       "      <th>f84</th>\n",
       "      <th>f85</th>\n",
       "      <th>f86</th>\n",
       "      <th>f87</th>\n",
       "      <th>f88</th>\n",
       "      <th>f89</th>\n",
       "      <th>f90</th>\n",
       "      <th>f91</th>\n",
       "      <th>f92</th>\n",
       "      <th>f93</th>\n",
       "      <th>f94</th>\n",
       "      <th>f95</th>\n",
       "      <th>f96</th>\n",
       "      <th>f97</th>\n",
       "      <th>f98</th>\n",
       "      <th>f99</th>\n",
       "      <th>target</th>\n",
       "      <th>fe_cluster_0</th>\n",
       "      <th>fe_cluster_1</th>\n",
       "      <th>fe_cluster_2</th>\n",
       "      <th>fe_cluster_3</th>\n",
       "      <th>fe_cluster_4</th>\n",
       "      <th>fe_mean</th>\n",
       "      <th>fe_median</th>\n",
       "      <th>fe_min</th>\n",
       "      <th>fe_max</th>\n",
       "      <th>fe_skew</th>\n",
       "    </tr>\n",
       "  </thead>\n",
       "  <tbody>\n",
       "    <tr>\n",
       "      <th>0</th>\n",
       "      <td>0.106628</td>\n",
       "      <td>3.593750</td>\n",
       "      <td>132.7500</td>\n",
       "      <td>3.183594</td>\n",
       "      <td>0.081970</td>\n",
       "      <td>1.188477</td>\n",
       "      <td>3.732422</td>\n",
       "      <td>2.265625</td>\n",
       "      <td>2.099609</td>\n",
       "      <td>0.012329</td>\n",
       "      <td>1.607422</td>\n",
       "      <td>-0.318115</td>\n",
       "      <td>0.560059</td>\n",
       "      <td>2.806641</td>\n",
       "      <td>1.351562</td>\n",
       "      <td>2.535156</td>\n",
       "      <td>0.197510</td>\n",
       "      <td>0.676270</td>\n",
       "      <td>1.990234</td>\n",
       "      <td>-3.841797</td>\n",
       "      <td>0.037384</td>\n",
       "      <td>0.230347</td>\n",
       "      <td>3.330078</td>\n",
       "      <td>0.009399</td>\n",
       "      <td>0.144775</td>\n",
       "      <td>3.050781</td>\n",
       "      <td>1.303711</td>\n",
       "      <td>0.033234</td>\n",
       "      <td>-0.018280</td>\n",
       "      <td>2.748047</td>\n",
       "      <td>-0.009293</td>\n",
       "      <td>-0.036285</td>\n",
       "      <td>-0.049866</td>\n",
       "      <td>0.019485</td>\n",
       "      <td>3.898438</td>\n",
       "      <td>11.289062</td>\n",
       "      <td>1.137695</td>\n",
       "      <td>3.367188</td>\n",
       "      <td>4.945312</td>\n",
       "      <td>-0.105774</td>\n",
       "      <td>2.113281</td>\n",
       "      <td>3.453125</td>\n",
       "      <td>0.789551</td>\n",
       "      <td>1.113281</td>\n",
       "      <td>1.491211</td>\n",
       "      <td>2.439453</td>\n",
       "      <td>0.041809</td>\n",
       "      <td>3.355469</td>\n",
       "      <td>0.053680</td>\n",
       "      <td>1.701172</td>\n",
       "      <td>0.908691</td>\n",
       "      <td>0.094910</td>\n",
       "      <td>0.030212</td>\n",
       "      <td>0.597168</td>\n",
       "      <td>4.445312</td>\n",
       "      <td>1.586914</td>\n",
       "      <td>-0.068665</td>\n",
       "      <td>-0.108276</td>\n",
       "      <td>0.061035</td>\n",
       "      <td>0.046112</td>\n",
       "      <td>0.017105</td>\n",
       "      <td>-0.027557</td>\n",
       "      <td>0.019485</td>\n",
       "      <td>-0.048828</td>\n",
       "      <td>0.050751</td>\n",
       "      <td>3.728516</td>\n",
       "      <td>5.015625</td>\n",
       "      <td>4.187500</td>\n",
       "      <td>0.063354</td>\n",
       "      <td>0.121033</td>\n",
       "      <td>1.372070</td>\n",
       "      <td>4.015625</td>\n",
       "      <td>0.167603</td>\n",
       "      <td>0.039764</td>\n",
       "      <td>2.042969</td>\n",
       "      <td>-0.016617</td>\n",
       "      <td>0.107666</td>\n",
       "      <td>3.507812</td>\n",
       "      <td>0.013657</td>\n",
       "      <td>-0.097046</td>\n",
       "      <td>5.394531</td>\n",
       "      <td>0.244507</td>\n",
       "      <td>3.492188</td>\n",
       "      <td>0.113098</td>\n",
       "      <td>-0.015472</td>\n",
       "      <td>4.207031</td>\n",
       "      <td>4.105469</td>\n",
       "      <td>0.037231</td>\n",
       "      <td>-0.118835</td>\n",
       "      <td>0.067078</td>\n",
       "      <td>0.010742</td>\n",
       "      <td>1.098633</td>\n",
       "      <td>0.013329</td>\n",
       "      <td>-0.011719</td>\n",
       "      <td>0.052765</td>\n",
       "      <td>0.065430</td>\n",
       "      <td>4.210938</td>\n",
       "      <td>1.978516</td>\n",
       "      <td>0.085999</td>\n",
       "      <td>0.240479</td>\n",
       "      <td>0</td>\n",
       "      <td>1</td>\n",
       "      <td>0</td>\n",
       "      <td>0</td>\n",
       "      <td>0</td>\n",
       "      <td>0</td>\n",
       "      <td>2.650391</td>\n",
       "      <td>0.242432</td>\n",
       "      <td>-3.841797</td>\n",
       "      <td>132.7500</td>\n",
       "      <td>9.687500</td>\n",
       "    </tr>\n",
       "    <tr>\n",
       "      <th>1</th>\n",
       "      <td>0.125000</td>\n",
       "      <td>1.673828</td>\n",
       "      <td>76.5625</td>\n",
       "      <td>3.378906</td>\n",
       "      <td>0.099426</td>\n",
       "      <td>5.093750</td>\n",
       "      <td>1.275391</td>\n",
       "      <td>-0.471436</td>\n",
       "      <td>4.546875</td>\n",
       "      <td>0.037720</td>\n",
       "      <td>0.331787</td>\n",
       "      <td>0.325195</td>\n",
       "      <td>0.062042</td>\n",
       "      <td>2.261719</td>\n",
       "      <td>4.339844</td>\n",
       "      <td>-0.224976</td>\n",
       "      <td>0.233643</td>\n",
       "      <td>3.380859</td>\n",
       "      <td>1.903320</td>\n",
       "      <td>0.067871</td>\n",
       "      <td>-0.051270</td>\n",
       "      <td>0.006134</td>\n",
       "      <td>2.603516</td>\n",
       "      <td>0.103455</td>\n",
       "      <td>0.067627</td>\n",
       "      <td>4.753906</td>\n",
       "      <td>1.855469</td>\n",
       "      <td>-0.181885</td>\n",
       "      <td>0.008362</td>\n",
       "      <td>3.166016</td>\n",
       "      <td>0.011848</td>\n",
       "      <td>0.022293</td>\n",
       "      <td>0.069336</td>\n",
       "      <td>0.117126</td>\n",
       "      <td>0.315186</td>\n",
       "      <td>24.484375</td>\n",
       "      <td>1.671875</td>\n",
       "      <td>-0.409180</td>\n",
       "      <td>4.953125</td>\n",
       "      <td>0.092346</td>\n",
       "      <td>2.603516</td>\n",
       "      <td>1.955078</td>\n",
       "      <td>0.005898</td>\n",
       "      <td>3.289062</td>\n",
       "      <td>2.564453</td>\n",
       "      <td>0.817871</td>\n",
       "      <td>0.026001</td>\n",
       "      <td>4.617188</td>\n",
       "      <td>1.575195</td>\n",
       "      <td>0.066101</td>\n",
       "      <td>0.681641</td>\n",
       "      <td>0.025253</td>\n",
       "      <td>0.183472</td>\n",
       "      <td>0.110046</td>\n",
       "      <td>2.746094</td>\n",
       "      <td>0.835449</td>\n",
       "      <td>0.188232</td>\n",
       "      <td>4.960938</td>\n",
       "      <td>0.136108</td>\n",
       "      <td>-0.008492</td>\n",
       "      <td>-0.015266</td>\n",
       "      <td>-0.010841</td>\n",
       "      <td>0.064575</td>\n",
       "      <td>0.102539</td>\n",
       "      <td>0.093628</td>\n",
       "      <td>0.963867</td>\n",
       "      <td>0.630371</td>\n",
       "      <td>4.308594</td>\n",
       "      <td>0.091309</td>\n",
       "      <td>-0.036346</td>\n",
       "      <td>3.617188</td>\n",
       "      <td>3.103516</td>\n",
       "      <td>0.000657</td>\n",
       "      <td>0.051300</td>\n",
       "      <td>1.924805</td>\n",
       "      <td>0.123291</td>\n",
       "      <td>-0.022675</td>\n",
       "      <td>1.547852</td>\n",
       "      <td>-0.010399</td>\n",
       "      <td>0.058319</td>\n",
       "      <td>3.662109</td>\n",
       "      <td>-0.118408</td>\n",
       "      <td>2.357422</td>\n",
       "      <td>-0.009109</td>\n",
       "      <td>0.178711</td>\n",
       "      <td>4.097656</td>\n",
       "      <td>3.533203</td>\n",
       "      <td>0.005245</td>\n",
       "      <td>0.121399</td>\n",
       "      <td>0.109985</td>\n",
       "      <td>0.135864</td>\n",
       "      <td>3.460938</td>\n",
       "      <td>0.017059</td>\n",
       "      <td>0.124878</td>\n",
       "      <td>0.154053</td>\n",
       "      <td>0.606934</td>\n",
       "      <td>-0.267822</td>\n",
       "      <td>2.578125</td>\n",
       "      <td>-0.020874</td>\n",
       "      <td>0.024719</td>\n",
       "      <td>0</td>\n",
       "      <td>1</td>\n",
       "      <td>0</td>\n",
       "      <td>0</td>\n",
       "      <td>0</td>\n",
       "      <td>0</td>\n",
       "      <td>2.136719</td>\n",
       "      <td>0.145020</td>\n",
       "      <td>-0.471436</td>\n",
       "      <td>76.5625</td>\n",
       "      <td>8.429688</td>\n",
       "    </tr>\n",
       "    <tr>\n",
       "      <th>2</th>\n",
       "      <td>0.036316</td>\n",
       "      <td>1.497070</td>\n",
       "      <td>233.5000</td>\n",
       "      <td>2.195312</td>\n",
       "      <td>0.026917</td>\n",
       "      <td>3.126953</td>\n",
       "      <td>5.058594</td>\n",
       "      <td>3.849609</td>\n",
       "      <td>1.801758</td>\n",
       "      <td>0.057007</td>\n",
       "      <td>0.328613</td>\n",
       "      <td>2.968750</td>\n",
       "      <td>0.105225</td>\n",
       "      <td>2.070312</td>\n",
       "      <td>5.308594</td>\n",
       "      <td>1.354492</td>\n",
       "      <td>-0.261963</td>\n",
       "      <td>1.378906</td>\n",
       "      <td>1.480469</td>\n",
       "      <td>0.020538</td>\n",
       "      <td>-0.008804</td>\n",
       "      <td>0.109375</td>\n",
       "      <td>1.683594</td>\n",
       "      <td>0.038177</td>\n",
       "      <td>0.123718</td>\n",
       "      <td>1.112305</td>\n",
       "      <td>3.572266</td>\n",
       "      <td>0.120605</td>\n",
       "      <td>0.082092</td>\n",
       "      <td>2.234375</td>\n",
       "      <td>0.002270</td>\n",
       "      <td>0.045197</td>\n",
       "      <td>0.014404</td>\n",
       "      <td>0.011597</td>\n",
       "      <td>-0.502930</td>\n",
       "      <td>33.750000</td>\n",
       "      <td>1.417969</td>\n",
       "      <td>1.071289</td>\n",
       "      <td>3.222656</td>\n",
       "      <td>2.121094</td>\n",
       "      <td>3.082031</td>\n",
       "      <td>0.637695</td>\n",
       "      <td>-0.006821</td>\n",
       "      <td>-0.390869</td>\n",
       "      <td>17.343750</td>\n",
       "      <td>3.701172</td>\n",
       "      <td>-0.033600</td>\n",
       "      <td>1.578125</td>\n",
       "      <td>0.051971</td>\n",
       "      <td>-0.002005</td>\n",
       "      <td>2.691406</td>\n",
       "      <td>0.018372</td>\n",
       "      <td>-0.030472</td>\n",
       "      <td>0.111389</td>\n",
       "      <td>2.187500</td>\n",
       "      <td>-0.324951</td>\n",
       "      <td>-0.019943</td>\n",
       "      <td>3.455078</td>\n",
       "      <td>0.068115</td>\n",
       "      <td>-0.009811</td>\n",
       "      <td>-0.010628</td>\n",
       "      <td>0.027573</td>\n",
       "      <td>-0.007122</td>\n",
       "      <td>-0.048920</td>\n",
       "      <td>-0.002575</td>\n",
       "      <td>1.865234</td>\n",
       "      <td>2.404297</td>\n",
       "      <td>0.411621</td>\n",
       "      <td>0.057739</td>\n",
       "      <td>0.525391</td>\n",
       "      <td>2.167969</td>\n",
       "      <td>0.828125</td>\n",
       "      <td>0.089844</td>\n",
       "      <td>0.093750</td>\n",
       "      <td>4.949219</td>\n",
       "      <td>-0.010979</td>\n",
       "      <td>0.076660</td>\n",
       "      <td>0.266846</td>\n",
       "      <td>0.038696</td>\n",
       "      <td>0.382812</td>\n",
       "      <td>3.847656</td>\n",
       "      <td>-0.121460</td>\n",
       "      <td>3.740234</td>\n",
       "      <td>0.147095</td>\n",
       "      <td>-0.016571</td>\n",
       "      <td>0.614746</td>\n",
       "      <td>2.125000</td>\n",
       "      <td>0.078857</td>\n",
       "      <td>0.979980</td>\n",
       "      <td>0.026764</td>\n",
       "      <td>0.117310</td>\n",
       "      <td>4.882812</td>\n",
       "      <td>0.085205</td>\n",
       "      <td>0.032410</td>\n",
       "      <td>0.116089</td>\n",
       "      <td>-0.001689</td>\n",
       "      <td>-0.520020</td>\n",
       "      <td>2.140625</td>\n",
       "      <td>0.124451</td>\n",
       "      <td>0.148193</td>\n",
       "      <td>0</td>\n",
       "      <td>0</td>\n",
       "      <td>0</td>\n",
       "      <td>0</td>\n",
       "      <td>0</td>\n",
       "      <td>1</td>\n",
       "      <td>3.814453</td>\n",
       "      <td>0.124084</td>\n",
       "      <td>-0.520020</td>\n",
       "      <td>233.5000</td>\n",
       "      <td>9.609375</td>\n",
       "    </tr>\n",
       "    <tr>\n",
       "      <th>3</th>\n",
       "      <td>-0.014076</td>\n",
       "      <td>0.245972</td>\n",
       "      <td>780.0000</td>\n",
       "      <td>1.890625</td>\n",
       "      <td>0.006947</td>\n",
       "      <td>1.531250</td>\n",
       "      <td>2.697266</td>\n",
       "      <td>4.515625</td>\n",
       "      <td>4.503906</td>\n",
       "      <td>0.123474</td>\n",
       "      <td>1.002930</td>\n",
       "      <td>4.871094</td>\n",
       "      <td>0.058411</td>\n",
       "      <td>2.498047</td>\n",
       "      <td>1.238281</td>\n",
       "      <td>2.347656</td>\n",
       "      <td>0.175415</td>\n",
       "      <td>1.609375</td>\n",
       "      <td>2.029297</td>\n",
       "      <td>0.042084</td>\n",
       "      <td>0.005142</td>\n",
       "      <td>0.076477</td>\n",
       "      <td>1.651367</td>\n",
       "      <td>0.111816</td>\n",
       "      <td>0.121643</td>\n",
       "      <td>0.589355</td>\n",
       "      <td>4.238281</td>\n",
       "      <td>-0.032837</td>\n",
       "      <td>0.058167</td>\n",
       "      <td>0.712891</td>\n",
       "      <td>0.097473</td>\n",
       "      <td>0.072754</td>\n",
       "      <td>0.000324</td>\n",
       "      <td>0.063354</td>\n",
       "      <td>4.062500</td>\n",
       "      <td>25.375000</td>\n",
       "      <td>0.576660</td>\n",
       "      <td>2.025391</td>\n",
       "      <td>2.968750</td>\n",
       "      <td>1.085938</td>\n",
       "      <td>1.710938</td>\n",
       "      <td>1.372070</td>\n",
       "      <td>0.034637</td>\n",
       "      <td>0.722656</td>\n",
       "      <td>71.437500</td>\n",
       "      <td>3.035156</td>\n",
       "      <td>0.092224</td>\n",
       "      <td>3.453125</td>\n",
       "      <td>0.044830</td>\n",
       "      <td>0.027191</td>\n",
       "      <td>4.082031</td>\n",
       "      <td>0.046967</td>\n",
       "      <td>0.063721</td>\n",
       "      <td>0.029221</td>\n",
       "      <td>0.671875</td>\n",
       "      <td>0.185303</td>\n",
       "      <td>0.164307</td>\n",
       "      <td>3.804688</td>\n",
       "      <td>0.062317</td>\n",
       "      <td>-0.021408</td>\n",
       "      <td>0.009468</td>\n",
       "      <td>0.110901</td>\n",
       "      <td>0.026840</td>\n",
       "      <td>2.931641</td>\n",
       "      <td>0.068115</td>\n",
       "      <td>-0.495117</td>\n",
       "      <td>1.345703</td>\n",
       "      <td>2.242188</td>\n",
       "      <td>0.035614</td>\n",
       "      <td>-0.139282</td>\n",
       "      <td>4.742188</td>\n",
       "      <td>3.292969</td>\n",
       "      <td>0.117859</td>\n",
       "      <td>0.065613</td>\n",
       "      <td>0.556641</td>\n",
       "      <td>-0.058044</td>\n",
       "      <td>0.070496</td>\n",
       "      <td>1.101562</td>\n",
       "      <td>0.068542</td>\n",
       "      <td>0.162964</td>\n",
       "      <td>4.070312</td>\n",
       "      <td>-0.008835</td>\n",
       "      <td>3.896484</td>\n",
       "      <td>0.913574</td>\n",
       "      <td>-0.163208</td>\n",
       "      <td>3.074219</td>\n",
       "      <td>4.355469</td>\n",
       "      <td>-0.048889</td>\n",
       "      <td>4.917969</td>\n",
       "      <td>0.069946</td>\n",
       "      <td>-0.015350</td>\n",
       "      <td>3.474609</td>\n",
       "      <td>-0.017105</td>\n",
       "      <td>-0.008102</td>\n",
       "      <td>0.062012</td>\n",
       "      <td>0.041199</td>\n",
       "      <td>0.511719</td>\n",
       "      <td>1.968750</td>\n",
       "      <td>0.040009</td>\n",
       "      <td>0.044861</td>\n",
       "      <td>0</td>\n",
       "      <td>0</td>\n",
       "      <td>0</td>\n",
       "      <td>1</td>\n",
       "      <td>0</td>\n",
       "      <td>0</td>\n",
       "      <td>9.859375</td>\n",
       "      <td>0.180420</td>\n",
       "      <td>-0.495117</td>\n",
       "      <td>780.0000</td>\n",
       "      <td>9.867188</td>\n",
       "    </tr>\n",
       "    <tr>\n",
       "      <th>4</th>\n",
       "      <td>-0.003260</td>\n",
       "      <td>3.714844</td>\n",
       "      <td>156.1250</td>\n",
       "      <td>2.148438</td>\n",
       "      <td>0.018280</td>\n",
       "      <td>2.097656</td>\n",
       "      <td>4.156250</td>\n",
       "      <td>-0.038239</td>\n",
       "      <td>3.371094</td>\n",
       "      <td>0.034180</td>\n",
       "      <td>0.711426</td>\n",
       "      <td>0.770020</td>\n",
       "      <td>0.057556</td>\n",
       "      <td>0.957031</td>\n",
       "      <td>3.710938</td>\n",
       "      <td>5.464844</td>\n",
       "      <td>0.287109</td>\n",
       "      <td>2.617188</td>\n",
       "      <td>1.383789</td>\n",
       "      <td>0.074890</td>\n",
       "      <td>-0.010544</td>\n",
       "      <td>0.109131</td>\n",
       "      <td>2.275391</td>\n",
       "      <td>0.008026</td>\n",
       "      <td>0.045227</td>\n",
       "      <td>4.359375</td>\n",
       "      <td>5.074219</td>\n",
       "      <td>-0.009377</td>\n",
       "      <td>0.528809</td>\n",
       "      <td>4.054688</td>\n",
       "      <td>0.020004</td>\n",
       "      <td>0.106812</td>\n",
       "      <td>0.051300</td>\n",
       "      <td>0.045929</td>\n",
       "      <td>3.402344</td>\n",
       "      <td>15.562500</td>\n",
       "      <td>1.635742</td>\n",
       "      <td>0.047028</td>\n",
       "      <td>4.019531</td>\n",
       "      <td>0.155762</td>\n",
       "      <td>5.289062</td>\n",
       "      <td>4.117188</td>\n",
       "      <td>0.072144</td>\n",
       "      <td>2.751953</td>\n",
       "      <td>3.171875</td>\n",
       "      <td>0.693359</td>\n",
       "      <td>-0.105835</td>\n",
       "      <td>3.320312</td>\n",
       "      <td>0.090698</td>\n",
       "      <td>0.112915</td>\n",
       "      <td>4.621094</td>\n",
       "      <td>0.126831</td>\n",
       "      <td>0.142700</td>\n",
       "      <td>0.055725</td>\n",
       "      <td>4.707031</td>\n",
       "      <td>-0.055115</td>\n",
       "      <td>0.523926</td>\n",
       "      <td>2.972656</td>\n",
       "      <td>0.115356</td>\n",
       "      <td>0.125244</td>\n",
       "      <td>0.067444</td>\n",
       "      <td>0.075562</td>\n",
       "      <td>0.032104</td>\n",
       "      <td>-0.042297</td>\n",
       "      <td>0.047974</td>\n",
       "      <td>-0.294189</td>\n",
       "      <td>5.066406</td>\n",
       "      <td>1.049805</td>\n",
       "      <td>0.034027</td>\n",
       "      <td>0.024612</td>\n",
       "      <td>3.125000</td>\n",
       "      <td>2.263672</td>\n",
       "      <td>0.082458</td>\n",
       "      <td>-0.023300</td>\n",
       "      <td>5.617188</td>\n",
       "      <td>0.086243</td>\n",
       "      <td>0.157593</td>\n",
       "      <td>3.726562</td>\n",
       "      <td>0.061249</td>\n",
       "      <td>0.086609</td>\n",
       "      <td>0.607422</td>\n",
       "      <td>1.411133</td>\n",
       "      <td>2.060547</td>\n",
       "      <td>-0.023148</td>\n",
       "      <td>0.011238</td>\n",
       "      <td>2.156250</td>\n",
       "      <td>0.914551</td>\n",
       "      <td>0.044525</td>\n",
       "      <td>0.375732</td>\n",
       "      <td>0.134399</td>\n",
       "      <td>0.013779</td>\n",
       "      <td>1.910156</td>\n",
       "      <td>-0.042938</td>\n",
       "      <td>0.105591</td>\n",
       "      <td>0.125122</td>\n",
       "      <td>0.037506</td>\n",
       "      <td>1.043945</td>\n",
       "      <td>1.075195</td>\n",
       "      <td>-0.012817</td>\n",
       "      <td>0.072815</td>\n",
       "      <td>1</td>\n",
       "      <td>1</td>\n",
       "      <td>0</td>\n",
       "      <td>0</td>\n",
       "      <td>0</td>\n",
       "      <td>0</td>\n",
       "      <td>2.949219</td>\n",
       "      <td>0.149170</td>\n",
       "      <td>-0.294189</td>\n",
       "      <td>156.1250</td>\n",
       "      <td>9.710938</td>\n",
       "    </tr>\n",
       "  </tbody>\n",
       "</table>\n",
       "</div>"
      ],
      "text/plain": [
       "         f0        f1        f2        f3        f4        f5        f6  \\\n",
       "0  0.106628  3.593750  132.7500  3.183594  0.081970  1.188477  3.732422   \n",
       "1  0.125000  1.673828   76.5625  3.378906  0.099426  5.093750  1.275391   \n",
       "2  0.036316  1.497070  233.5000  2.195312  0.026917  3.126953  5.058594   \n",
       "3 -0.014076  0.245972  780.0000  1.890625  0.006947  1.531250  2.697266   \n",
       "4 -0.003260  3.714844  156.1250  2.148438  0.018280  2.097656  4.156250   \n",
       "\n",
       "         f7        f8        f9       f10       f11       f12       f13  \\\n",
       "0  2.265625  2.099609  0.012329  1.607422 -0.318115  0.560059  2.806641   \n",
       "1 -0.471436  4.546875  0.037720  0.331787  0.325195  0.062042  2.261719   \n",
       "2  3.849609  1.801758  0.057007  0.328613  2.968750  0.105225  2.070312   \n",
       "3  4.515625  4.503906  0.123474  1.002930  4.871094  0.058411  2.498047   \n",
       "4 -0.038239  3.371094  0.034180  0.711426  0.770020  0.057556  0.957031   \n",
       "\n",
       "        f14       f15       f16       f17       f18       f19       f20  \\\n",
       "0  1.351562  2.535156  0.197510  0.676270  1.990234 -3.841797  0.037384   \n",
       "1  4.339844 -0.224976  0.233643  3.380859  1.903320  0.067871 -0.051270   \n",
       "2  5.308594  1.354492 -0.261963  1.378906  1.480469  0.020538 -0.008804   \n",
       "3  1.238281  2.347656  0.175415  1.609375  2.029297  0.042084  0.005142   \n",
       "4  3.710938  5.464844  0.287109  2.617188  1.383789  0.074890 -0.010544   \n",
       "\n",
       "        f21       f22       f23       f24       f25       f26       f27  \\\n",
       "0  0.230347  3.330078  0.009399  0.144775  3.050781  1.303711  0.033234   \n",
       "1  0.006134  2.603516  0.103455  0.067627  4.753906  1.855469 -0.181885   \n",
       "2  0.109375  1.683594  0.038177  0.123718  1.112305  3.572266  0.120605   \n",
       "3  0.076477  1.651367  0.111816  0.121643  0.589355  4.238281 -0.032837   \n",
       "4  0.109131  2.275391  0.008026  0.045227  4.359375  5.074219 -0.009377   \n",
       "\n",
       "        f28       f29       f30       f31       f32       f33       f34  \\\n",
       "0 -0.018280  2.748047 -0.009293 -0.036285 -0.049866  0.019485  3.898438   \n",
       "1  0.008362  3.166016  0.011848  0.022293  0.069336  0.117126  0.315186   \n",
       "2  0.082092  2.234375  0.002270  0.045197  0.014404  0.011597 -0.502930   \n",
       "3  0.058167  0.712891  0.097473  0.072754  0.000324  0.063354  4.062500   \n",
       "4  0.528809  4.054688  0.020004  0.106812  0.051300  0.045929  3.402344   \n",
       "\n",
       "         f35       f36       f37       f38       f39       f40       f41  \\\n",
       "0  11.289062  1.137695  3.367188  4.945312 -0.105774  2.113281  3.453125   \n",
       "1  24.484375  1.671875 -0.409180  4.953125  0.092346  2.603516  1.955078   \n",
       "2  33.750000  1.417969  1.071289  3.222656  2.121094  3.082031  0.637695   \n",
       "3  25.375000  0.576660  2.025391  2.968750  1.085938  1.710938  1.372070   \n",
       "4  15.562500  1.635742  0.047028  4.019531  0.155762  5.289062  4.117188   \n",
       "\n",
       "        f42       f43        f44       f45       f46       f47       f48  \\\n",
       "0  0.789551  1.113281   1.491211  2.439453  0.041809  3.355469  0.053680   \n",
       "1  0.005898  3.289062   2.564453  0.817871  0.026001  4.617188  1.575195   \n",
       "2 -0.006821 -0.390869  17.343750  3.701172 -0.033600  1.578125  0.051971   \n",
       "3  0.034637  0.722656  71.437500  3.035156  0.092224  3.453125  0.044830   \n",
       "4  0.072144  2.751953   3.171875  0.693359 -0.105835  3.320312  0.090698   \n",
       "\n",
       "        f49       f50       f51       f52       f53       f54       f55  \\\n",
       "0  1.701172  0.908691  0.094910  0.030212  0.597168  4.445312  1.586914   \n",
       "1  0.066101  0.681641  0.025253  0.183472  0.110046  2.746094  0.835449   \n",
       "2 -0.002005  2.691406  0.018372 -0.030472  0.111389  2.187500 -0.324951   \n",
       "3  0.027191  4.082031  0.046967  0.063721  0.029221  0.671875  0.185303   \n",
       "4  0.112915  4.621094  0.126831  0.142700  0.055725  4.707031 -0.055115   \n",
       "\n",
       "        f56       f57       f58       f59       f60       f61       f62  \\\n",
       "0 -0.068665 -0.108276  0.061035  0.046112  0.017105 -0.027557  0.019485   \n",
       "1  0.188232  4.960938  0.136108 -0.008492 -0.015266 -0.010841  0.064575   \n",
       "2 -0.019943  3.455078  0.068115 -0.009811 -0.010628  0.027573 -0.007122   \n",
       "3  0.164307  3.804688  0.062317 -0.021408  0.009468  0.110901  0.026840   \n",
       "4  0.523926  2.972656  0.115356  0.125244  0.067444  0.075562  0.032104   \n",
       "\n",
       "        f63       f64       f65       f66       f67       f68       f69  \\\n",
       "0 -0.048828  0.050751  3.728516  5.015625  4.187500  0.063354  0.121033   \n",
       "1  0.102539  0.093628  0.963867  0.630371  4.308594  0.091309 -0.036346   \n",
       "2 -0.048920 -0.002575  1.865234  2.404297  0.411621  0.057739  0.525391   \n",
       "3  2.931641  0.068115 -0.495117  1.345703  2.242188  0.035614 -0.139282   \n",
       "4 -0.042297  0.047974 -0.294189  5.066406  1.049805  0.034027  0.024612   \n",
       "\n",
       "        f70       f71       f72       f73       f74       f75       f76  \\\n",
       "0  1.372070  4.015625  0.167603  0.039764  2.042969 -0.016617  0.107666   \n",
       "1  3.617188  3.103516  0.000657  0.051300  1.924805  0.123291 -0.022675   \n",
       "2  2.167969  0.828125  0.089844  0.093750  4.949219 -0.010979  0.076660   \n",
       "3  4.742188  3.292969  0.117859  0.065613  0.556641 -0.058044  0.070496   \n",
       "4  3.125000  2.263672  0.082458 -0.023300  5.617188  0.086243  0.157593   \n",
       "\n",
       "        f77       f78       f79       f80       f81       f82       f83  \\\n",
       "0  3.507812  0.013657 -0.097046  5.394531  0.244507  3.492188  0.113098   \n",
       "1  1.547852 -0.010399  0.058319  3.662109 -0.118408  2.357422 -0.009109   \n",
       "2  0.266846  0.038696  0.382812  3.847656 -0.121460  3.740234  0.147095   \n",
       "3  1.101562  0.068542  0.162964  4.070312 -0.008835  3.896484  0.913574   \n",
       "4  3.726562  0.061249  0.086609  0.607422  1.411133  2.060547 -0.023148   \n",
       "\n",
       "        f84       f85       f86       f87       f88       f89       f90  \\\n",
       "0 -0.015472  4.207031  4.105469  0.037231 -0.118835  0.067078  0.010742   \n",
       "1  0.178711  4.097656  3.533203  0.005245  0.121399  0.109985  0.135864   \n",
       "2 -0.016571  0.614746  2.125000  0.078857  0.979980  0.026764  0.117310   \n",
       "3 -0.163208  3.074219  4.355469 -0.048889  4.917969  0.069946 -0.015350   \n",
       "4  0.011238  2.156250  0.914551  0.044525  0.375732  0.134399  0.013779   \n",
       "\n",
       "        f91       f92       f93       f94       f95       f96       f97  \\\n",
       "0  1.098633  0.013329 -0.011719  0.052765  0.065430  4.210938  1.978516   \n",
       "1  3.460938  0.017059  0.124878  0.154053  0.606934 -0.267822  2.578125   \n",
       "2  4.882812  0.085205  0.032410  0.116089 -0.001689 -0.520020  2.140625   \n",
       "3  3.474609 -0.017105 -0.008102  0.062012  0.041199  0.511719  1.968750   \n",
       "4  1.910156 -0.042938  0.105591  0.125122  0.037506  1.043945  1.075195   \n",
       "\n",
       "        f98       f99  target  fe_cluster_0  fe_cluster_1  fe_cluster_2  \\\n",
       "0  0.085999  0.240479       0             1             0             0   \n",
       "1 -0.020874  0.024719       0             1             0             0   \n",
       "2  0.124451  0.148193       0             0             0             0   \n",
       "3  0.040009  0.044861       0             0             0             1   \n",
       "4 -0.012817  0.072815       1             1             0             0   \n",
       "\n",
       "   fe_cluster_3  fe_cluster_4   fe_mean  fe_median    fe_min    fe_max  \\\n",
       "0             0             0  2.650391   0.242432 -3.841797  132.7500   \n",
       "1             0             0  2.136719   0.145020 -0.471436   76.5625   \n",
       "2             0             1  3.814453   0.124084 -0.520020  233.5000   \n",
       "3             0             0  9.859375   0.180420 -0.495117  780.0000   \n",
       "4             0             0  2.949219   0.149170 -0.294189  156.1250   \n",
       "\n",
       "    fe_skew  \n",
       "0  9.687500  \n",
       "1  8.429688  \n",
       "2  9.609375  \n",
       "3  9.867188  \n",
       "4  9.710938  "
      ]
     },
     "execution_count": 21,
     "metadata": {},
     "output_type": "execute_result"
    }
   ],
   "source": [
    "df3_train.head()"
   ]
  },
  {
   "cell_type": "markdown",
   "metadata": {
    "id": "gQ6DBwBLi34z"
   },
   "source": [
    "# <div class=\"alert alert-success\"> 1.  TUNNING </div>"
   ]
  },
  {
   "cell_type": "markdown",
   "metadata": {
    "id": "9cJfauA3i34z"
   },
   "source": [
    "## 1.0. Split Train/Test"
   ]
  },
  {
   "cell_type": "code",
   "execution_count": 40,
   "metadata": {
    "ExecuteTime": {
     "end_time": "2021-11-15T23:04:27.378488Z",
     "start_time": "2021-11-15T23:04:26.617491Z"
    }
   },
   "outputs": [
    {
     "data": {
      "text/plain": [
       "((480000, 110), (480000,), (120000, 110), (120000,))"
      ]
     },
     "execution_count": 40,
     "metadata": {},
     "output_type": "execute_result"
    }
   ],
   "source": [
    "X      = df3_train.drop([target], axis=1)    \n",
    "y      = df3_train[target].copy()\n",
    "X_test = df3_test\n",
    "\n",
    "X_train, X_valid, y_train, y_valid = train_test_split(X, y, \n",
    "                                                      test_size    = 0.2,\n",
    "                                                      shuffle      = True, \n",
    "                                                      stratify     = y,\n",
    "                                                      random_state = 0)\n",
    "\n",
    "del df3_train , df3_test\n",
    "\n",
    "free_gpu_cache() \n",
    "\n",
    "X_train.shape, y_train.shape, X_valid.shape, y_valid.shape "
   ]
  },
  {
   "cell_type": "markdown",
   "metadata": {
    "id": "8l1vmUmRi340"
   },
   "source": [
    "## 1.1. Classe Tunning "
   ]
  },
  {
   "cell_type": "code",
   "execution_count": 168,
   "metadata": {
    "ExecuteTime": {
     "end_time": "2021-11-16T01:53:19.023800Z",
     "start_time": "2021-11-16T01:53:18.954775Z"
    },
    "code_folding": [
     5,
     19,
     55,
     72,
     78,
     124,
     145,
     170,
     197,
     291,
     370,
     392,
     397,
     537
    ],
    "executionInfo": {
     "elapsed": 2396,
     "status": "ok",
     "timestamp": 1635613381087,
     "user": {
      "displayName": "Rogério Delfim",
      "photoUrl": "https://lh3.googleusercontent.com/a-/AOh14Gj8lDYWTfZHU0U0sMojRPio71Ec7YDcSEpCaOEE=s64",
      "userId": "04235763959036945343"
     },
     "user_tz": 180
    },
    "id": "LpYUOrRpi340"
   },
   "outputs": [],
   "source": [
    "class TunningModels(nn.Module):\n",
    "\n",
    "    from sklearn.preprocessing  import StandardScaler\n",
    "    from sklearn.linear_model import RidgeClassifier\n",
    "    \n",
    "    def __init__(self, name_model, X_trn_, y_trn_, X_ts_, feature_=None, \n",
    "                 seed_=12359, scaler_=StandardScaler(), feature_bin_=None):\n",
    "        \n",
    "        super(TunningModels,self).__init__() \n",
    "\n",
    "        self.name_clf    = name_model\n",
    "        self.X_trn       = X_trn_\n",
    "        self.y_trn       = y_trn_\n",
    "        self.X_ts        = X_ts_         \n",
    "        self.feature     = feature_\n",
    "        self.seed        = seed_\n",
    "        self.scaler      = scaler_\n",
    "        self.feature_bin = feature_bin_\n",
    "\n",
    "    def recover_prediction_first_level():\n",
    "        \n",
    "        preds_train1 = glob.glob(\"model/train/*.pkl.z\")\n",
    "        preds_test   = glob.glob(\"model/test/*.pkl.z\")\n",
    "        preds_val1   = glob.glob(\"model/valid/*.pkl.z\")\n",
    "\n",
    "        df_train1     = []\n",
    "        scores_traint = dict()\n",
    "\n",
    "        for p_name in preds_train1:    \n",
    "            p    = jb.load(p_name)\n",
    "            p_df = pd.DataFrame(p, columns=[p_name.replace('model/train\\\\', '')])    \n",
    "            df_train1.append(p_df)    \n",
    "            scores_traint[p_name] = f1_score(y_train1, (p_df>.5))\n",
    "\n",
    "        df_val1     = [] \n",
    "        scores_val1 = dict()\n",
    "        for p_name in preds_val1:    \n",
    "            p    = jb.load(p_name)\n",
    "            p_df = pd.DataFrame(p, columns=[p_name.replace('model/valid\\\\', '')])    \n",
    "            df_val1.append(p_df)    \n",
    "            scores_val1[p_name] = f1_score(y_val1, (p_df>.5))\n",
    "\n",
    "        df_test     = [] \n",
    "        scores_test = dict()\n",
    "        for p_name in preds_test:    \n",
    "            p         = jb.load(p_name)\n",
    "            p_df_test = pd.DataFrame(p, columns=[p_name.replace('model/test\\\\', '')])    \n",
    "            df_test.append(p_df_test)\n",
    "\n",
    "        df_train1 = pd.concat(df_train1, axis=1)\n",
    "        df_val1   = pd.concat(df_val1, axis=1)\n",
    "        df_test   = pd.concat(df_test, axis=1)\n",
    "\n",
    "        return df_train1, df_val1, df_test.shape\n",
    "        \n",
    "    def delete_files(namefile):\n",
    "\n",
    "        path = ['model/train', 'model/test', 'model/valid', 'model/params', 'model/score',\n",
    "                'model/test_f', 'model/cv_model', 'model/preds', 'model/optuna', \n",
    "                'model/preds/train', 'model/preds/test', 'model/preds/test/n1', \n",
    "                'model/preds/test/n2', 'model/preds/test/n3', 'model/preds/train/n1', \n",
    "                'model/preds/train/n2', 'model/preds/train/n3','model/preds/param', \n",
    "                'Data/submission/tunning', 'Data/submission', 'model/mdl'\n",
    "                \n",
    "               ]\n",
    "\n",
    "        for path_ in path:\n",
    "            for raiz, diretorios, arquivos in os.walk(path_):\n",
    "                for arquivo in arquivos:\n",
    "                    if arquivo.startswith(namefile):\n",
    "                        os.remove(os.path.join(raiz, arquivo))\n",
    " \n",
    "    def logging_callback(study, frozen_trail):\n",
    "        prev_best = study.user_attrs.get('prev_best', None)\n",
    "        if prev_best != study.best_value:\n",
    "            study.set_user_attr('prev_best', study.best_value)\n",
    "            print(f\"Trail {frozen_trail.number} finished with best value {frozen_trail.value}\")\n",
    "\n",
    "    def df_return_preds_tunning(model_name=None, level=1, target_='target', \n",
    "                                train_shape_row=0, test_shape_row=0): \n",
    "    \n",
    "        if level==1: \n",
    "            level_ = 'n1'\n",
    "        else: \n",
    "            if level==2:\n",
    "                level_ = 'n2'\n",
    "            else: \n",
    "                level_ = 'n3'\n",
    "        \n",
    "        paths = ['model/preds/test/n1', 'model/preds/train/' + level_ ]    \n",
    "\n",
    "        if model_name==None: \n",
    "            model_name=''\n",
    "            \n",
    "        for i, path in enumerate(paths): \n",
    "\n",
    "            name_file_pkl     = glob.glob(path + '/'+ model_name + '*.pkl.z')\n",
    "            dic_preds_mdl_pkl = dict()\n",
    "\n",
    "            for p_name in name_file_pkl:    \n",
    "                y_model_pkl_name_col  = p_name.replace(path + '\\\\', '').replace('.pkl.z','') \n",
    "                y_model_pkl           = jb.load(p_name)   \n",
    "\n",
    "                if i==0:\n",
    "                    if len(y_model_pkl)==test_shape_row:\n",
    "                        dic_preds_mdl_pkl[y_model_pkl_name_col] = y_model_pkl\n",
    "                        \n",
    "                if i==1:\n",
    "                    if len(y_model_pkl)==train_shape_row:                        \n",
    "                        dic_preds_mdl_pkl[y_model_pkl_name_col] = y_model_pkl\n",
    "                \n",
    "                gc.collect()\n",
    "\n",
    "            if i==0:         \n",
    "                X_test_pred_nivel_1 = pd.DataFrame(dic_preds_mdl_pkl)\n",
    "            else:\n",
    "                X_train_pred_nivel_1 = pd.DataFrame(dic_preds_mdl_pkl)\n",
    "\n",
    "            gc.collect()\n",
    "\n",
    "        X_train_pred_nivel_1[target_] = y\n",
    "        \n",
    "        return X_train_pred_nivel_1, X_test_pred_nivel_1\n",
    "    \n",
    "    def feature_select(mdl, feature=[], best_score=0):\n",
    "    \n",
    "        best_feature = ''\n",
    "\n",
    "        for col in df_train1.columns:\n",
    "\n",
    "            if col not in feature:\n",
    "                Xtr  = df_train1[feature+[col]].copy()\n",
    "                Xval = df_val1[feature+[col]].copy()                \n",
    "\n",
    "                mdl.fit(Xtr, y_train1)\n",
    "\n",
    "                p = mdl.predict(Xval)\n",
    "                c = f1_score(y_val1, p)\n",
    "\n",
    "                if c > best_score:\n",
    "                    best_score = c\n",
    "                    best_feature = col \n",
    "\n",
    "        return best_score, best_feature\n",
    "\n",
    "    def permutation_test(mdl, feature_selected):\n",
    "\n",
    "        dist = []\n",
    "\n",
    "        for seed in range(100):\n",
    "\n",
    "            Xtr  = df_train1[feature_selected].copy()\n",
    "            Xval = df_val1[feature_selected].copy()\n",
    "\n",
    "            np.random.seed(seed)\n",
    "\n",
    "            Xtr['random']  = np.random.permutation(Xtr.iloc[:, -1].values)\n",
    "            Xval['random'] = np.random.permutation(Xval.iloc[:, -1].values)\n",
    "\n",
    "            mdl.fit(Xtr, y_train1)\n",
    "\n",
    "            p = mdl.predict(Xval)\n",
    "            c = f1_score(y_val1, p)\n",
    "\n",
    "            dist.append(c)\n",
    "\n",
    "        dist = np.array(dist)\n",
    "\n",
    "        return dist.max()\n",
    "\n",
    "    def feature_selected_model(model = RidgeClassifier(alpha=1.) ):\n",
    "   \n",
    "        score_feature, best_feature =  TunningModels.feature_select(model)\n",
    "        print('Score: {:2.4f} => Feature: {}'. format(score_feature*100 , best_feature))\n",
    "\n",
    "        feature_selected = []\n",
    "        feature_selected.append(best_feature)\n",
    "\n",
    "        loop = True\n",
    "\n",
    "        while loop:\n",
    "\n",
    "            best_score = TunningModels.permutation_test(model, feature_selected) \n",
    "            best_score = best_score + 1e-4\n",
    "\n",
    "            score_feature, best_feature = TunningModels.feature_select(model, feature=feature_selected, best_score=best_score)\n",
    "            \n",
    "\n",
    "            if score_feature <= best_score:  \n",
    "                print('Fim')\n",
    "                loop= False\n",
    "            else: \n",
    "                feature_selected.append(best_feature)\n",
    "                print('Score: {:2.4f} => Feature: {}'. format(score_feature*100 , best_feature))\n",
    "\n",
    "        return feature_selected\n",
    "    \n",
    "    def model_of_diversity_feature_group(model, name_model_, X_, y_, X_ts_, scaler_=None, feature_bin_= None, \n",
    "                                         feature_imp_num=5, seed_=12359):\n",
    "\n",
    "        TunningModels.delete_files(name_model_)\n",
    "    \n",
    "        mdl ,score , y_hat = TunningModels.cross_valid( model        = model, \n",
    "                                                        model_name_  = name_model_, \n",
    "                                                        X_           = X_, \n",
    "                                                        y_           = y_, \n",
    "                                                        X_test_      = X_ts_, \n",
    "                                                        type_model   = 1, \n",
    "                                                        feature      = None,\n",
    "                                                        seed         = seed_, \n",
    "                                                        tunning      = 1, \n",
    "                                                        scaler       = scaler_,\n",
    "                                                        print_result = False, \n",
    "                                                        feature_bin  = feature_bin_, \n",
    "                                                        save_predict = False,\n",
    "                                                        n_splits     = 2\n",
    "                                                        )\n",
    "        \n",
    "        df               = pd.DataFrame()\n",
    "        df[\"feature\"]    = X_.columns.to_list()\n",
    "        df[\"importance\"] = mdl.feature_importances_\n",
    "        \n",
    "        df.sort_values(\"importance\", axis=0, ascending=False, inplace=True)\n",
    "\n",
    "        feature_import = df[:feature_imp_num]['feature'].to_list()\n",
    "        \n",
    "        print(feature_import)\n",
    "        print()\n",
    "\n",
    "        for feature_imp in  feature_import:\n",
    "\n",
    "            score_                =  0.09\n",
    "            feature_best          = []\n",
    "            feature               = X_ts_.columns            \n",
    "            feature               = [s for s in feature if s not in feature_import]\n",
    "            feature_number        = len(feature)\n",
    "            feature_select_number = np.round(np.sqrt(len(feature)))\n",
    "            feature_number_sample = int(np.round((feature_number/feature_select_number)))\n",
    "            feature_sample        = []\n",
    "\n",
    "            print('='*60)\n",
    "            print(' Divercidade de Grupos de Features => ({})'.format(feature_imp))\n",
    "            print('='*60)\n",
    "\n",
    "            for i in  range(0,5):\n",
    "\n",
    "                feature            = [s for s in feature if s not in feature_sample]\n",
    "                feature_sample     = pd.Series(feature).sample(feature_number_sample).to_list() \n",
    "                name_model_xgb_div = name_model_ + '_' + str(i+1)   \n",
    "\n",
    "                feature_sample.append(feature_imp)\n",
    "\n",
    "                feature_sample_bin = []\n",
    "\n",
    "                for x in feature_sample: \n",
    "                    if x in feature_bin_: \n",
    "                        feature_sample_bin.append(x)\n",
    "\n",
    "                if len(feature_sample_bin)==0:\n",
    "                    feature_sample_bin = None\n",
    "                \n",
    "                mdl ,score , y_hat = TunningModels.cross_valid( model        = model, \n",
    "                                                                model_name_  = name_model_xgb_div, \n",
    "                                                                X_           = X_, \n",
    "                                                                y_           = y_, \n",
    "                                                                X_test_      = X_ts_, \n",
    "                                                                type_model   = 2, \n",
    "                                                                feature      = feature_sample,\n",
    "                                                                seed         = seed_, \n",
    "                                                                tunning      = 1, \n",
    "                                                                scaler       = scaler_,\n",
    "                                                                print_result = False, \n",
    "                                                                feature_bin  = feature_sample_bin, \n",
    "                                                                save_predict = True,\n",
    "                                                                n_splits     = 3\n",
    "                                                                )\n",
    "                \n",
    "                if score >=.6:\n",
    "                    create = '*'\n",
    "                else: \n",
    "                    create = ' '\n",
    "            \n",
    "                feature_best.append(feature)\n",
    "                print('Score: {:2.5f} => {} Gr.Feature: {} {}'.format(score, create, i+1, feature_sample))\n",
    "\n",
    "            print('')\n",
    "            \n",
    "        print('')\n",
    "        print('FIM')\n",
    "        print('')\n",
    "        \n",
    "    def model_of_diversity_feature_one_(model, name_model,  X_, y_, X_test_,  scaler_=None, feature_bin_=None, seed_=12359):\n",
    "\n",
    "        score_       =  0.09\n",
    "        feature_best = []\n",
    "\n",
    "        print('')\n",
    "        print('Feature apenas uma')\n",
    "        print('-'*20)\n",
    "        print()\n",
    "\n",
    "        TunningModels.delete_files(name_model)\n",
    "\n",
    "        for feature in X_train.columns:\n",
    "\n",
    "            name_model_xgb_div = name_model + feature \n",
    "\n",
    "            mdl ,score , y_hat = TunningModels.cross_valid(model       = model, \n",
    "                                              model_name_  = name_model_xgb_div, \n",
    "                                              X_           = X_, \n",
    "                                              y_           = y_, \n",
    "                                              X_test_      = X_test_, \n",
    "                                              type_model   = 1, \n",
    "                                              feature      = feature,\n",
    "                                              seed         = seed_, \n",
    "                                              tunning      = 1, \n",
    "                                              scaler       = scaler_,\n",
    "                                              print_result = False, \n",
    "                                              feature_bin  = feature_bin_, \n",
    "                                              save_predict = True,\n",
    "                                              n_splits     = 3\n",
    "                                              )\n",
    "    \n",
    "            if score >.6:\n",
    "                create = '*'\n",
    "            else: \n",
    "                create = ' '\n",
    "                \n",
    "            if score > score_:\n",
    "                score_ = np.abs(score)\n",
    "                feature_best.append(feature)\n",
    "                print('F1-score: {:2.5f} => {} feature: {}'.format(score, create, feature ))        \n",
    "\n",
    "        print('')\n",
    "        print('Feature dupla')\n",
    "        print('-'*20)\n",
    "\n",
    "        for feature in feature_best:\n",
    "\n",
    "            for feature_ in feature_best:\n",
    "                if feature != feature_:            \n",
    "                    name_model_xgb_div = name_model + feature + '_' + feature_     \n",
    "                            \n",
    "                    mdl ,score , y_hat = TunningModels.cross_valid( model       = model, \n",
    "                                                                    model_name_  = name_model_xgb_div, \n",
    "                                                                    X_           = X_, \n",
    "                                                                    y_           = y_, \n",
    "                                                                    X_test_      = X_test_, \n",
    "                                                                    type_model   = 1, \n",
    "                                                                    feature      = [feature, feature_],\n",
    "                                                                    seed         = seed_, \n",
    "                                                                    tunning      = 1, \n",
    "                                                                    scaler       = scaler_,\n",
    "                                                                    print_result = False, \n",
    "                                                                    feature_bin  = feature_bin_, \n",
    "                                                                    save_predict = True,\n",
    "                                                                    n_splits     = 3\n",
    "                                                                    )\n",
    "            \n",
    "                    if score >.59:\n",
    "                        create = '*'\n",
    "                    else: \n",
    "                        create = ' '\n",
    "\n",
    "                    print('F1-score: {:.4f} => {} feature: {} | {}'.format(score*100, create,  feature, feature_ )) \n",
    "\n",
    "        print('')\n",
    "        print('FIM')\n",
    "        print('')\n",
    "    \n",
    "    def save_data_model(model_, model_name_, path_, X_train_prob_, y_hat_test_, score_, seed_, level_='1'):\n",
    "        \n",
    "        level_ = 'n'+ level_ + '/'\n",
    "        \n",
    "        if score_>=.6:          \n",
    "\n",
    "            path_name_param = path_ + 'model/preds/param/' + model_name_.format(score_, seed_)\n",
    "            path_name_train = path_ + 'model/preds/train/' + level_ + model_name_.format(score_, seed_)\n",
    "            path_name_test  = path_ + 'model/preds/test/'  + level_ + model_name_.format(score_, seed_)    \n",
    "            path_name_model = path_ + 'model/mdl/'         + model_name_.format(score_, seed_)    \n",
    "\n",
    "            jb.dump(X_train_prob_, path_name_train)\n",
    "            jb.dump(y_hat_test_, path_name_test)\n",
    "            jb.dump(model_, path_name_model)\n",
    "            jb.dump(pd.DataFrame([model_.get_params()]), path_name_param)   \n",
    "            \n",
    "            if score_>=.6:\n",
    "                # Gerar o arquivo de submissão \n",
    "                df_submission['target'] = y_hat_test_\n",
    "                name_file_sub =  path_ + 'Data/submission/tunning/' + model_name_.format(score_, seed_) + '.csv'\n",
    "                df_submission.to_csv(name_file_sub, index = False)\n",
    "\n",
    "    def diff(t_a, t_b):\n",
    "        from dateutil.relativedelta import relativedelta\n",
    "        t_diff = relativedelta(t_b, t_a)  # later/end time comes first!\n",
    "        return '{h}h {m}m {s}s'.format(h=t_diff.hours, m=t_diff.minutes, s=t_diff.seconds)\n",
    "\n",
    "    def cross_valid(model, model_name_, X_, y_, X_test_, type_model=1, feature=None, \n",
    "                    seed=None, tunning=1, save_predict=False, threshold=.5, n_splits=5, \n",
    "                    scaler=StandardScaler(), level_='1', feature_bin=None, print_result=True):\n",
    "\n",
    "        time_s = datetime.now()\n",
    "    \n",
    "        n_repeats    = 1\n",
    "        y_hat_test   = None\n",
    "        X_train_prob = []\n",
    "        auc          = []\n",
    "        lloss        = []\n",
    "        f1           = []\n",
    "        best_ntree   = []\n",
    "        n_estimators = 1\n",
    "        random       = str(np.random.rand(1)[0]).replace('.','')\n",
    "        model_name_  = model_name_ + '_score_{:2.5f}_{}_' + random + '.pkl.z'  \n",
    "        \n",
    "        if feature!=None:         \n",
    "            X_      = X_[feature]\n",
    "            X_test_ = X_test_[feature]\n",
    "        \n",
    "        # https://stackoverflow.com/questions/65318931/stratifiedkfold-vs-kfold-in-scikit-learn        \n",
    "        kf = KFold(n_splits=n_splits, random_state=seed, shuffle=True)\n",
    "           \n",
    "        clf_name     = model.__class__.__name__\n",
    "\n",
    "        num_parallel_tree = 1  \n",
    "        n_estimators      = 1 * num_parallel_tree\n",
    "        max_depth         = model.get_params()['max_iter'] \n",
    "        learning_rate     = 1 \n",
    "                        \n",
    "        if print_result:\n",
    "            msg = 'Training model: {} seed {} - n_estimators: {} - max_iter: {} - {:2.5f} - {}'\n",
    "            print('='*100)            \n",
    "            print(msg.format(clf_name, seed, n_estimators, max_depth, learning_rate, contador))\n",
    "            print('='*100)\n",
    "        \n",
    "        score = 0 \n",
    "        \n",
    "        free_gpu_cache()        \n",
    "\n",
    "        for fold, (train_idx, valid_idx) in enumerate(kf.split(X_, y_, groups=y_)): \n",
    "            \n",
    "            time_start = datetime.now()\n",
    "\n",
    "            # Obtenha os dados de treino e \n",
    "            # validação através de indice\n",
    "            X_trn, y_trn = X_.iloc[train_idx], y_.iloc[train_idx]\n",
    "            X_val, y_val = X_.iloc[valid_idx], y_.iloc[valid_idx]\n",
    "        \n",
    "            if feature_bin!=None: \n",
    "                disc = KBinsDiscretizer(n_bins=50, encode='ordinal',strategy='uniform')\n",
    "                X_trn[feature_bin]   = disc.fit_transform(pd.DataFrame(X_trn[feature_bin]))\n",
    "                X_val[feature_bin]   = disc.fit_transform(pd.DataFrame(X_val[feature_bin]))\n",
    "\n",
    "            # Scaler       \n",
    "            if scaler!=None:                \n",
    "                X_trn  = pd.DataFrame(scaler.fit_transform(pd.DataFrame(X_trn)), columns=X_trn.columns) \n",
    "                X_val  = pd.DataFrame(scaler.fit_transform(pd.DataFrame(X_val)), columns=X_trn.columns)\n",
    "                \n",
    "            model = model.fit(X_trn, y_trn)\n",
    "        \n",
    "            best_ntree_ = 1\n",
    "            best_ntree.append(best_ntree_)\n",
    "                \n",
    "            # Predição na validação\n",
    "            y_hat_val_prob = model.predict_proba(X_val)[:, 1] #   \n",
    "            y_hat_val      = (y_hat_val_prob > threshold).astype(int) \n",
    "\n",
    "            X_train_prob.extend(y_hat_val_prob)\n",
    "                        \n",
    "            # Métricas \n",
    "            auc_      = metrics.roc_auc_score(y_val, y_hat_val_prob)                    \n",
    "            f1_score_ = metrics.f1_score(y_val, y_hat_val)        \n",
    "            log_loss_ = metrics.log_loss(y_val, y_hat_val_prob)\n",
    "            \n",
    "            # Salvar as métricas\n",
    "            auc.append(auc_)\n",
    "            f1.append(f1_score_)\n",
    "            lloss.append(log_loss_)\n",
    "                        \n",
    "            # 1 / n_splits das previsões de saída.\n",
    "            if y_hat_test is None:                    \n",
    "                y_hat_test   = model.predict_proba(pd.DataFrame(X_test_))[:, 1]        \n",
    "            else:        \n",
    "                y_hat_test  += model.predict_proba(pd.DataFrame(X_test_))[:, 1]\n",
    "\n",
    "            stop = ' '\n",
    "            \n",
    "            if n_estimators > best_ntree_: \n",
    "                stop = '*'               \n",
    "            \n",
    "            elapsed  = TunningModels.diff(time_start, datetime.now())\n",
    "\n",
    "            if print_result:\n",
    "                best_ntree_s = str(best_ntree_) + ((5-len(str(best_ntree_))) * ' ')  \n",
    "                msg = 'Fold {}/{} AUC: {:2.5f} - F1: {:2.5f} - L. loss: {:2.5f} {} {} {}'\n",
    "                print(msg.format(fold+1, n_splits*n_repeats, auc_, f1_score_, log_loss_, \n",
    "                                 stop, best_ntree_s, elapsed))\n",
    "            \n",
    "            del X_trn, y_trn, X_val, y_val              \n",
    "            gc.collect()\n",
    "          \n",
    "        del  X_, y_, X_test_ \n",
    "        gc.collect()\n",
    "        \n",
    "        y_hat_test      /= (n_splits*n_repeats)\n",
    "        score           = np.mean(auc)\n",
    "        auc_mean        = np.mean(auc)\n",
    "        auc_std         = np.std(auc)\n",
    "        lloss_mean      = np.mean(lloss)\n",
    "        f1_mean         = np.mean(f1)\n",
    "        f1_std          = np.std(f1)\n",
    "        best_ntree_mean = int(np.mean(best_ntree))\n",
    "        msg             = '[Mean Fold]  AUC: {:.5f}(Std:{:.5f}) - F1: {:.5f} - L. Loss: {:.5f} * {} {}'\n",
    "        \n",
    "        if save_predict:\n",
    "            TunningModels.save_data_model(model_        = model, \n",
    "                                          model_name_   = model_name_, \n",
    "                                          path_         = path, \n",
    "                                          X_train_prob_ = X_train_prob, \n",
    "                                          y_hat_test_   = y_hat_test, \n",
    "                                          score_        = score, \n",
    "                                          seed_         = seed, \n",
    "                                          level_        = level_ \n",
    "                                          )                \n",
    "\n",
    "        elapsed  = TunningModels.diff(time_s, datetime.now())\n",
    "\n",
    "        if print_result:\n",
    "            print('-'*100)\n",
    "            print(msg.format(auc_mean, auc_std, f1_mean, lloss_mean, best_ntree_mean, elapsed))\n",
    "            print('='*100)\n",
    "            print('')\n",
    "\n",
    "        del X_train_prob, \n",
    "        free_gpu_cache()\n",
    "        \n",
    "        return model, score, y_hat_test\n",
    "       \n",
    "    def sgb(self, trial):\n",
    "                       \n",
    "        params = {'loss'             : trial.suggest_categorical('loss', ['modified_huber', 'log']),  \n",
    "                  'penalty'          : trial.suggest_categorical('penalty', ['l2', 'l2']),                   \n",
    "                  'max_iter'         : trial.suggest_int('max_iter', 700, 1000), \n",
    "                  'tol'              : trial.suggest_float('tol', 0.0001, 0.005),                                                       \n",
    "                  'random_state'     : trial.suggest_int('random_state', self.seed, self.seed)\n",
    "                }\n",
    "         \n",
    "        #if params.get('penalty')== 'l1': \n",
    "        #    params.update({'loss': trial.suggest_categorical('loss', ['None'])})\n",
    "        #    params.update({'dual': trial.suggest_categorical('dual', ['False'])})\n",
    "            \n",
    "        mdl = SGDClassifier(**params) \n",
    "        \n",
    "        _,score,_ = TunningModels.cross_valid(model            = mdl, \n",
    "                                              model_name_      = self.name_clf,\n",
    "                                              X_               = self.X_trn, \n",
    "                                              y_               = self.y_trn,  \n",
    "                                              X_test_          = self.X_ts,\n",
    "                                              type_model       = 3, \n",
    "                                              feature          = self.feature,\n",
    "                                              seed             = self.seed,\n",
    "                                              scaler           = self.scaler,\n",
    "                                              level_           = '1', \n",
    "                                              n_splits         = 5, \n",
    "                                              save_predict     = True,\n",
    "                                              feature_bin      = self.feature_bin\n",
    "                                             )\n",
    "        \n",
    "        print(params)\n",
    "        print()\n",
    "\n",
    "        return score"
   ]
  },
  {
   "cell_type": "markdown",
   "metadata": {
    "id": "RDUypJOfi345"
   },
   "source": [
    "## 1.2. Classificador SGD\n",
    "Neste primeiro momento vamos testar diversos scalers.  "
   ]
  },
  {
   "cell_type": "code",
   "execution_count": 107,
   "metadata": {
    "ExecuteTime": {
     "end_time": "2021-11-16T01:14:12.690629Z",
     "start_time": "2021-11-16T01:14:12.511457Z"
    }
   },
   "outputs": [],
   "source": [
    "feature_int = X_test.filter(regex=r'f[0-9]').columns.to_list()\n",
    "idx_sample  = X.sample(frac=.1,random_state=12359,replace=False).index.to_list()"
   ]
  },
  {
   "cell_type": "code",
   "execution_count": 101,
   "metadata": {
    "ExecuteTime": {
     "end_time": "2021-11-16T00:41:06.401972Z",
     "start_time": "2021-11-16T00:28:03.136366Z"
    }
   },
   "outputs": [
    {
     "name": "stdout",
     "output_type": "stream",
     "text": [
      "StandardScaler()\n",
      "====================================================================================================\n",
      "Training model: SGDClassifier seed 12359 - n_estimators: 1 - max_depth: 500 - 1.00000 - 1\n",
      "====================================================================================================\n",
      "Fold 1/5 AUC: 0.72680 - F1: 0.68964 - L. loss: 0.95594   1     0h 0m 23s\n",
      "Fold 2/5 AUC: 0.72070 - F1: 0.67570 - L. loss: 0.81091   1     0h 0m 23s\n",
      "Fold 3/5 AUC: 0.72665 - F1: 0.69322 - L. loss: 0.75607   1     0h 0m 27s\n",
      "Fold 4/5 AUC: 0.72746 - F1: 0.68959 - L. loss: 0.86538   1     0h 0m 26s\n",
      "Fold 5/5 AUC: 0.72568 - F1: 0.68888 - L. loss: 0.84305   1     0h 0m 23s\n",
      "----------------------------------------------------------------------------------------------------\n",
      "[Mean Fold]  AUC: 0.72546(Std:0.00245) - F1: 0.68741 - L. Loss: 0.84627 * 1 0h 2m 18s\n",
      "====================================================================================================\n",
      "\n",
      "RobustScaler()\n",
      "====================================================================================================\n",
      "Training model: SGDClassifier seed 12359 - n_estimators: 1 - max_depth: 500 - 1.00000 - 1\n",
      "====================================================================================================\n",
      "Fold 1/5 AUC: 0.71395 - F1: 0.58456 - L. loss: 1.16353   1     0h 0m 41s\n",
      "Fold 2/5 AUC: 0.70201 - F1: 0.67140 - L. loss: 1.11522   1     0h 0m 29s\n",
      "Fold 3/5 AUC: 0.69431 - F1: 0.67647 - L. loss: 1.31645   1     0h 0m 35s\n",
      "Fold 4/5 AUC: 0.71780 - F1: 0.69038 - L. loss: 1.01619   1     0h 0m 35s\n",
      "Fold 5/5 AUC: 0.71759 - F1: 0.69736 - L. loss: 1.14315   1     0h 0m 37s\n",
      "----------------------------------------------------------------------------------------------------\n",
      "[Mean Fold]  AUC: 0.70913(Std:0.00938) - F1: 0.66403 - L. Loss: 1.15091 * 1 0h 3m 15s\n",
      "====================================================================================================\n",
      "\n",
      "MinMaxScaler()\n",
      "====================================================================================================\n",
      "Training model: SGDClassifier seed 12359 - n_estimators: 1 - max_depth: 500 - 1.00000 - 1\n",
      "====================================================================================================\n",
      "Fold 1/5 AUC: 0.74527 - F1: 0.50332 - L. loss: 1.01431   1     0h 0m 15s\n",
      "Fold 2/5 AUC: 0.74512 - F1: 0.54586 - L. loss: 0.90412   1     0h 0m 15s\n",
      "Fold 3/5 AUC: 0.74786 - F1: 0.62433 - L. loss: 0.78598   1     0h 0m 15s\n",
      "Fold 4/5 AUC: 0.74496 - F1: 0.68816 - L. loss: 0.77193   1     0h 0m 15s\n",
      "Fold 5/5 AUC: 0.74684 - F1: 0.55713 - L. loss: 0.93029   1     0h 0m 14s\n",
      "----------------------------------------------------------------------------------------------------\n",
      "[Mean Fold]  AUC: 0.74601(Std:0.00114) - F1: 0.58376 - L. Loss: 0.88132 * 1 0h 1m 30s\n",
      "====================================================================================================\n",
      "\n",
      "MaxAbsScaler()\n",
      "====================================================================================================\n",
      "Training model: SGDClassifier seed 12359 - n_estimators: 1 - max_depth: 500 - 1.00000 - 1\n",
      "====================================================================================================\n",
      "Fold 1/5 AUC: 0.74525 - F1: 0.49990 - L. loss: 1.01952   1     0h 0m 14s\n",
      "Fold 2/5 AUC: 0.74544 - F1: 0.48655 - L. loss: 1.06446   1     0h 0m 14s\n",
      "Fold 3/5 AUC: 0.74789 - F1: 0.61870 - L. loss: 0.79201   1     0h 0m 15s\n",
      "Fold 4/5 AUC: 0.74547 - F1: 0.58698 - L. loss: 0.86291   1     0h 0m 14s\n",
      "Fold 5/5 AUC: 0.74678 - F1: 0.55531 - L. loss: 0.93236   1     0h 0m 14s\n",
      "----------------------------------------------------------------------------------------------------\n",
      "[Mean Fold]  AUC: 0.74617(Std:0.00102) - F1: 0.54949 - L. Loss: 0.93425 * 1 0h 1m 29s\n",
      "====================================================================================================\n",
      "\n",
      "QuantileTransformer(output_distribution='normal', random_state=12359)\n",
      "====================================================================================================\n",
      "Training model: SGDClassifier seed 12359 - n_estimators: 1 - max_depth: 500 - 1.00000 - 1\n",
      "====================================================================================================\n",
      "Fold 1/5 AUC: 0.69259 - F1: 0.62761 - L. loss: 0.99945   1     0h 0m 41s\n",
      "Fold 2/5 AUC: 0.71523 - F1: 0.67750 - L. loss: 0.97897   1     0h 0m 42s\n",
      "Fold 3/5 AUC: 0.71346 - F1: 0.68445 - L. loss: 0.81864   1     0h 0m 39s\n",
      "Fold 4/5 AUC: 0.70752 - F1: 0.67609 - L. loss: 0.77805   1     0h 0m 41s\n",
      "Fold 5/5 AUC: 0.71711 - F1: 0.66566 - L. loss: 0.89881   1     0h 0m 40s\n",
      "----------------------------------------------------------------------------------------------------\n",
      "[Mean Fold]  AUC: 0.70918(Std:0.00890) - F1: 0.66626 - L. Loss: 0.89478 * 1 0h 3m 39s\n",
      "====================================================================================================\n",
      "\n",
      "\n",
      "Scaler best: MaxAbsScaler()\n",
      "Score      : 0.74617\n",
      "Wall time: 13min 3s\n"
     ]
    }
   ],
   "source": [
    "%%time \n",
    "\n",
    "SEED   = 12359  \n",
    "params = {'loss'          : 'modified_huber',\n",
    "          'penalty'       : 'l2',          \n",
    "          'max_iter'      : 500,\n",
    "          'random_state'  : SEED, \n",
    "          'n_jobs'        : -1\n",
    "        }\n",
    "\n",
    "scalers = [#None, \n",
    "           StandardScaler(), \n",
    "           RobustScaler(), \n",
    "           MinMaxScaler(), \n",
    "           MaxAbsScaler(), \n",
    "           QuantileTransformer(output_distribution='normal', random_state=SEED)]\n",
    "\n",
    "score_bast = 0 \n",
    "score_bast = 0 \n",
    "\n",
    "name_model_clf = 'sgb_' \n",
    "name_model     = name_model_clf + '001_scaler_' \n",
    "\n",
    "TunningModels.delete_files(name_model)\n",
    "\n",
    "for scaler in scalers: \n",
    "    \n",
    "    X_test_scaler = X_test.copy()\n",
    "    \n",
    "    if scaler!=None:\n",
    "        disc = KBinsDiscretizer(n_bins=50, encode='ordinal', strategy='uniform')\n",
    "        X_test_scaler[feature_int] = disc.fit_transform(X_test_scaler[feature_int])\n",
    "        X_test_scaler = pd.DataFrame(scaler.fit_transform(X_test_scaler), columns=X_test.columns)\n",
    "        \n",
    "    mdl = SGDClassifier(**params) \n",
    "        \n",
    "    print(scaler)\n",
    "    name_model_          = name_model + str(scaler).lower()[:4]\n",
    "    model_002, score, _  = TunningModels.cross_valid(model          = mdl, \n",
    "                                                     model_name_    = name_model_, \n",
    "                                                     X_             = X, \n",
    "                                                     y_             = y, \n",
    "                                                     X_test_        = X_test_scaler, \n",
    "                                                     type_model     = 1, \n",
    "                                                     feature        = None,\n",
    "                                                     seed           = SEED, \n",
    "                                                     tunning        = 3, # retorna modelo                   \n",
    "                                                     scaler         = scaler,\n",
    "                                                     feature_bin    = feature_int, \n",
    "                                                     save_predict   = True\n",
    "                                                     )\n",
    "\n",
    "    if score > score_bast: \n",
    "        score_bast  = score\n",
    "        scaler_name = scaler\n",
    "       \n",
    "print()\n",
    "print('Scaler best: {}'.format(scaler_name))\n",
    "print('Score      : {:2.5f}'.format(score_bast))"
   ]
  },
  {
   "cell_type": "code",
   "execution_count": 103,
   "metadata": {
    "ExecuteTime": {
     "end_time": "2021-11-16T01:01:29.016555Z",
     "start_time": "2021-11-16T00:49:21.551547Z"
    },
    "scrolled": false
   },
   "outputs": [
    {
     "name": "stdout",
     "output_type": "stream",
     "text": [
      "StandardScaler()\n",
      "====================================================================================================\n",
      "Training model: SGDClassifier seed 12359 - n_estimators: 1 - max_depth: 500 - 1.00000 - 1\n",
      "====================================================================================================\n",
      "Fold 1/5 AUC: 0.72188 - F1: 0.68664 - L. loss: 0.89761   1     0h 0m 16s\n",
      "Fold 2/5 AUC: 0.73467 - F1: 0.71407 - L. loss: 0.97825   1     0h 0m 19s\n",
      "Fold 3/5 AUC: 0.72526 - F1: 0.69579 - L. loss: 0.81621   1     0h 0m 17s\n",
      "Fold 4/5 AUC: 0.71441 - F1: 0.66665 - L. loss: 0.80065   1     0h 0m 15s\n",
      "Fold 5/5 AUC: 0.72690 - F1: 0.69159 - L. loss: 0.84907   1     0h 0m 16s\n",
      "----------------------------------------------------------------------------------------------------\n",
      "[Mean Fold]  AUC: 0.72462(Std:0.00661) - F1: 0.69095 - L. Loss: 0.86836 * 1 0h 1m 38s\n",
      "====================================================================================================\n",
      "\n",
      "RobustScaler()\n",
      "====================================================================================================\n",
      "Training model: SGDClassifier seed 12359 - n_estimators: 1 - max_depth: 500 - 1.00000 - 1\n",
      "====================================================================================================\n",
      "Fold 1/5 AUC: 0.69713 - F1: 0.67516 - L. loss: 1.28053   1     0h 0m 52s\n",
      "Fold 2/5 AUC: 0.69897 - F1: 0.68559 - L. loss: 1.35556   1     0h 0m 46s\n",
      "Fold 3/5 AUC: 0.70161 - F1: 0.67157 - L. loss: 1.32584   1     0h 0m 48s\n",
      "Fold 4/5 AUC: 0.66618 - F1: 0.66487 - L. loss: 2.35179   1     0h 0m 56s\n",
      "Fold 5/5 AUC: 0.69287 - F1: 0.66965 - L. loss: 1.48285   1     0h 0m 47s\n",
      "----------------------------------------------------------------------------------------------------\n",
      "[Mean Fold]  AUC: 0.69135(Std:0.01291) - F1: 0.67337 - L. Loss: 1.55931 * 1 0h 4m 25s\n",
      "====================================================================================================\n",
      "\n",
      "MinMaxScaler()\n",
      "====================================================================================================\n",
      "Training model: SGDClassifier seed 12359 - n_estimators: 1 - max_depth: 500 - 1.00000 - 1\n",
      "====================================================================================================\n",
      "Fold 1/5 AUC: 0.74634 - F1: 0.47265 - L. loss: 1.07839   1     0h 0m 9s\n",
      "Fold 2/5 AUC: 0.74604 - F1: 0.47258 - L. loss: 1.04173   1     0h 0m 9s\n",
      "Fold 3/5 AUC: 0.74887 - F1: 0.59418 - L. loss: 0.82209   1     0h 0m 9s\n",
      "Fold 4/5 AUC: 0.74609 - F1: 0.66949 - L. loss: 0.78786   1     0h 0m 9s\n",
      "Fold 5/5 AUC: 0.74796 - F1: 0.51624 - L. loss: 1.00433   1     0h 0m 9s\n",
      "----------------------------------------------------------------------------------------------------\n",
      "[Mean Fold]  AUC: 0.74706(Std:0.00115) - F1: 0.54503 - L. Loss: 0.94688 * 1 0h 1m 1s\n",
      "====================================================================================================\n",
      "\n",
      "MaxAbsScaler()\n",
      "====================================================================================================\n",
      "Training model: SGDClassifier seed 12359 - n_estimators: 1 - max_depth: 500 - 1.00000 - 1\n",
      "====================================================================================================\n",
      "Fold 1/5 AUC: 0.74482 - F1: 0.71283 - L. loss: 0.73242   1     0h 0m 7s\n",
      "Fold 2/5 AUC: 0.74480 - F1: 0.73024 - L. loss: 0.73811   1     0h 0m 7s\n",
      "Fold 3/5 AUC: 0.74785 - F1: 0.73173 - L. loss: 0.73609   1     0h 0m 7s\n",
      "Fold 4/5 AUC: 0.74605 - F1: 0.73443 - L. loss: 0.80421   1     0h 0m 7s\n",
      "Fold 5/5 AUC: 0.74754 - F1: 0.73532 - L. loss: 0.76300   1     0h 0m 7s\n",
      "----------------------------------------------------------------------------------------------------\n",
      "[Mean Fold]  AUC: 0.74621(Std:0.00129) - F1: 0.72891 - L. Loss: 0.75477 * 1 0h 0m 53s\n",
      "====================================================================================================\n",
      "\n",
      "QuantileTransformer(output_distribution='normal', random_state=12359)\n",
      "====================================================================================================\n",
      "Training model: SGDClassifier seed 12359 - n_estimators: 1 - max_depth: 500 - 1.00000 - 1\n",
      "====================================================================================================\n",
      "Fold 1/5 AUC: 0.71505 - F1: 0.67710 - L. loss: 0.74908   1     0h 0m 42s\n",
      "Fold 2/5 AUC: 0.70782 - F1: 0.65275 - L. loss: 0.88263   1     0h 0m 39s\n",
      "Fold 3/5 AUC: 0.69232 - F1: 0.67823 - L. loss: 0.88510   1     0h 0m 39s\n",
      "Fold 4/5 AUC: 0.71824 - F1: 0.65470 - L. loss: 0.85747   1     0h 0m 40s\n",
      "Fold 5/5 AUC: 0.70948 - F1: 0.66690 - L. loss: 0.73054   1     0h 0m 42s\n",
      "----------------------------------------------------------------------------------------------------\n",
      "[Mean Fold]  AUC: 0.70858(Std:0.00895) - F1: 0.66594 - L. Loss: 0.82096 * 1 0h 3m 39s\n",
      "====================================================================================================\n",
      "\n",
      "\n",
      "Scaler best: MinMaxScaler()\n",
      "Score      : 0.74706\n",
      "Wall time: 12min 7s\n"
     ]
    }
   ],
   "source": [
    "%%time \n",
    "\n",
    "scalers = [StandardScaler(), \n",
    "           RobustScaler(), \n",
    "           MinMaxScaler(), \n",
    "           MaxAbsScaler(), \n",
    "           QuantileTransformer(output_distribution='normal', random_state=SEED)]\n",
    "\n",
    "score_bast = 0 \n",
    "name_model = name_model_clf + '002_scaler_' \n",
    "TunningModels.delete_files(name_model)\n",
    "\n",
    "for scaler in scalers: \n",
    "    \n",
    "    X_test_scaler = X_test.copy()\n",
    "    \n",
    "    if scaler!=None:        \n",
    "        X_test_scaler = pd.DataFrame(scaler.fit_transform(X_test_scaler), columns=X_test.columns)\n",
    "        \n",
    "    mdl = SGDClassifier(**params)  \n",
    "    \n",
    "    print(scaler) \n",
    "    name_model_          = name_model + str(scaler).lower()[:4]\n",
    "    model_002, score, _  = TunningModels.cross_valid(model          = mdl, \n",
    "                                                     model_name_    = name_model_, \n",
    "                                                     X_             = X, \n",
    "                                                     y_             = y, \n",
    "                                                     X_test_        = X_test_scaler, \n",
    "                                                     type_model     = 1, \n",
    "                                                     feature        = None,\n",
    "                                                     seed           = SEED, \n",
    "                                                     tunning        = 3, # retorna modelo                   \n",
    "                                                     scaler         = scaler, \n",
    "                                                     save_predict   = True\n",
    "                                                     )\n",
    "\n",
    "    if score > score_bast: \n",
    "        score_bast  = score\n",
    "        scaler_name = scaler\n",
    "       \n",
    "print()\n",
    "print('Scaler best: {}'.format(scaler_name))\n",
    "print('Score      : {:2.5f}'.format(score_bast))"
   ]
  },
  {
   "cell_type": "markdown",
   "metadata": {},
   "source": [
    "<div class=\"alert alert-info\" role=\"alert\">\n",
    "\n",
    "**`NOTA:`** <br>\n",
    "    \n",
    "</div>"
   ]
  },
  {
   "cell_type": "markdown",
   "metadata": {
    "id": "S5fsZ-O5i345"
   },
   "source": [
    "### 1.2.1. Tunning \n",
    "Nesta etapa de modelagem, vamos criar 20 modelos e salvá-los para a nossa `Stacking`."
   ]
  },
  {
   "cell_type": "code",
   "execution_count": 106,
   "metadata": {
    "ExecuteTime": {
     "end_time": "2021-11-16T01:13:13.052905Z",
     "start_time": "2021-11-16T01:13:11.020876Z"
    },
    "colab": {
     "base_uri": "https://localhost:8080/",
     "height": 222
    },
    "executionInfo": {
     "elapsed": 86933,
     "status": "ok",
     "timestamp": 1635613475208,
     "user": {
      "displayName": "Rogério Delfim",
      "photoUrl": "https://lh3.googleusercontent.com/a-/AOh14Gj8lDYWTfZHU0U0sMojRPio71Ec7YDcSEpCaOEE=s64",
      "userId": "04235763959036945343"
     },
     "user_tz": 180
    },
    "id": "S9NigdA4SGX8",
    "outputId": "6ad42ba5-deeb-40f1-eb49-a328e1ccbc0a"
   },
   "outputs": [
    {
     "data": {
      "text/plain": [
       "(540000, 110)"
      ]
     },
     "execution_count": 106,
     "metadata": {},
     "output_type": "execute_result"
    }
   ],
   "source": [
    "SEED_  = [12359]\n",
    "score_ = 0 \n",
    "sc     = MinMaxScaler()\n",
    "\n",
    "X_test_scaler = X_test.copy()\n",
    "X_test_scaler = pd.DataFrame(sc.fit_transform(X_test), columns=X_test.columns)\n",
    "\n",
    "X_test_scaler.shape"
   ]
  },
  {
   "cell_type": "code",
   "execution_count": 208,
   "metadata": {
    "ExecuteTime": {
     "end_time": "2021-11-16T02:38:47.417074Z",
     "start_time": "2021-11-16T02:19:49.143269Z"
    },
    "colab": {
     "base_uri": "https://localhost:8080/"
    },
    "executionInfo": {
     "elapsed": 23099461,
     "status": "ok",
     "timestamp": 1635585753854,
     "user": {
      "displayName": "Rogério Delfim",
      "photoUrl": "https://lh3.googleusercontent.com/a-/AOh14Gj8lDYWTfZHU0U0sMojRPio71Ec7YDcSEpCaOEE=s64",
      "userId": "04235763959036945343"
     },
     "user_tz": 180
    },
    "id": "-yNlljM6i345",
    "outputId": "9d20ca60-027b-4bc1-ee2e-a98e0b953aef",
    "scrolled": false
   },
   "outputs": [
    {
     "name": "stdout",
     "output_type": "stream",
     "text": [
      "====================================================================================================\n",
      "Training model: SGDClassifier seed 12359 - n_estimators: 1 - max_iter: 825 - 1.00000 - 1\n",
      "====================================================================================================\n",
      "Fold 1/5 AUC: 0.74484 - F1: 0.71262 - L. loss: 0.75739   1     0h 0m 7s\n",
      "Fold 2/5 AUC: 0.74498 - F1: 0.70765 - L. loss: 0.77314   1     0h 0m 7s\n",
      "Fold 3/5 AUC: 0.74818 - F1: 0.70042 - L. loss: 0.73403   1     0h 0m 7s\n",
      "Fold 4/5 AUC: 0.74573 - F1: 0.46235 - L. loss: 1.17367   1     0h 0m 7s\n",
      "Fold 5/5 AUC: 0.74728 - F1: 0.73596 - L. loss: 0.73759   1     0h 0m 7s\n",
      "----------------------------------------------------------------------------------------------------\n",
      "[Mean Fold]  AUC: 0.74620(Std:0.00131) - F1: 0.66380 - L. Loss: 0.83516 * 1 0h 0m 50s\n",
      "====================================================================================================\n",
      "\n",
      "{'loss': 'modified_huber', 'penalty': 'l2', 'max_iter': 825, 'tol': 0.003830623154276751, 'random_state': 12359}\n",
      "\n",
      "====================================================================================================\n",
      "Training model: SGDClassifier seed 12359 - n_estimators: 1 - max_iter: 962 - 1.00000 - 1\n",
      "====================================================================================================\n",
      "Fold 1/5 AUC: 0.74601 - F1: 0.52670 - L. loss: 0.96386   1     0h 0m 7s\n",
      "Fold 2/5 AUC: 0.74560 - F1: 0.28383 - L. loss: 1.69132   1     0h 0m 7s\n",
      "Fold 3/5 AUC: 0.74889 - F1: 0.44943 - L. loss: 1.04121   1     0h 0m 8s\n",
      "Fold 4/5 AUC: 0.74681 - F1: 0.65767 - L. loss: 0.76453   1     0h 0m 8s\n",
      "Fold 5/5 AUC: 0.74702 - F1: 0.71523 - L. loss: 0.74247   1     0h 0m 8s\n",
      "----------------------------------------------------------------------------------------------------\n",
      "[Mean Fold]  AUC: 0.74687(Std:0.00114) - F1: 0.52657 - L. Loss: 1.04068 * 1 0h 0m 54s\n",
      "====================================================================================================\n",
      "\n",
      "{'loss': 'modified_huber', 'penalty': 'l2', 'max_iter': 962, 'tol': 0.0024733434165152184, 'random_state': 12359}\n",
      "\n",
      "====================================================================================================\n",
      "Training model: SGDClassifier seed 12359 - n_estimators: 1 - max_iter: 715 - 1.00000 - 1\n",
      "====================================================================================================\n",
      "Fold 1/5 AUC: 0.74363 - F1: 0.63217 - L. loss: 0.62145   1     0h 0m 6s\n",
      "Fold 2/5 AUC: 0.74355 - F1: 0.72776 - L. loss: 0.60992   1     0h 0m 5s\n",
      "Fold 3/5 AUC: 0.74672 - F1: 0.70167 - L. loss: 0.60909   1     0h 0m 5s\n",
      "Fold 4/5 AUC: 0.74402 - F1: 0.61020 - L. loss: 0.62652   1     0h 0m 5s\n",
      "Fold 5/5 AUC: 0.74522 - F1: 0.65725 - L. loss: 0.61550   1     0h 0m 5s\n",
      "----------------------------------------------------------------------------------------------------\n",
      "[Mean Fold]  AUC: 0.74463(Std:0.00120) - F1: 0.66581 - L. Loss: 0.61650 * 1 0h 0m 44s\n",
      "====================================================================================================\n",
      "\n",
      "{'loss': 'log', 'penalty': 'l2', 'max_iter': 715, 'tol': 0.001624003028478911, 'random_state': 12359}\n",
      "\n",
      "====================================================================================================\n",
      "Training model: SGDClassifier seed 12359 - n_estimators: 1 - max_iter: 912 - 1.00000 - 1\n",
      "====================================================================================================\n",
      "Fold 1/5 AUC: 0.74525 - F1: 0.34606 - L. loss: 1.35243   1     0h 0m 8s\n",
      "Fold 2/5 AUC: 0.74559 - F1: 0.48830 - L. loss: 1.08837   1     0h 0m 8s\n",
      "Fold 3/5 AUC: 0.74869 - F1: 0.55116 - L. loss: 0.90909   1     0h 0m 8s\n",
      "Fold 4/5 AUC: 0.74598 - F1: 0.66032 - L. loss: 0.83399   1     0h 0m 8s\n",
      "Fold 5/5 AUC: 0.74801 - F1: 0.73642 - L. loss: 0.76384   1     0h 0m 8s\n",
      "----------------------------------------------------------------------------------------------------\n",
      "[Mean Fold]  AUC: 0.74670(Std:0.00138) - F1: 0.55645 - L. Loss: 0.98955 * 1 0h 0m 58s\n",
      "====================================================================================================\n",
      "\n",
      "{'loss': 'modified_huber', 'penalty': 'l2', 'max_iter': 912, 'tol': 0.0018092349420100755, 'random_state': 12359}\n",
      "\n",
      "====================================================================================================\n",
      "Training model: SGDClassifier seed 12359 - n_estimators: 1 - max_iter: 854 - 1.00000 - 1\n",
      "====================================================================================================\n",
      "Fold 1/5 AUC: 0.74484 - F1: 0.71262 - L. loss: 0.75739   1     0h 0m 7s\n",
      "Fold 2/5 AUC: 0.74439 - F1: 0.61398 - L. loss: 0.81368   1     0h 0m 8s\n",
      "Fold 3/5 AUC: 0.74818 - F1: 0.70042 - L. loss: 0.73403   1     0h 0m 7s\n",
      "Fold 4/5 AUC: 0.74572 - F1: 0.67345 - L. loss: 0.78106   1     0h 0m 7s\n",
      "Fold 5/5 AUC: 0.74728 - F1: 0.73596 - L. loss: 0.73759   1     0h 0m 7s\n",
      "----------------------------------------------------------------------------------------------------\n",
      "[Mean Fold]  AUC: 0.74608(Std:0.00144) - F1: 0.68729 - L. Loss: 0.76475 * 1 0h 0m 53s\n",
      "====================================================================================================\n",
      "\n",
      "{'loss': 'modified_huber', 'penalty': 'l2', 'max_iter': 854, 'tol': 0.0034193171408126773, 'random_state': 12359}\n",
      "\n",
      "====================================================================================================\n",
      "Training model: SGDClassifier seed 12359 - n_estimators: 1 - max_iter: 861 - 1.00000 - 1\n",
      "====================================================================================================\n",
      "Fold 1/5 AUC: 0.74369 - F1: 0.66628 - L. loss: 0.61580   1     0h 0m 5s\n",
      "Fold 2/5 AUC: 0.74360 - F1: 0.59398 - L. loss: 0.63182   1     0h 0m 5s\n",
      "Fold 3/5 AUC: 0.74644 - F1: 0.73276 - L. loss: 0.60980   1     0h 0m 5s\n",
      "Fold 4/5 AUC: 0.74398 - F1: 0.58864 - L. loss: 0.63056   1     0h 0m 5s\n",
      "Fold 5/5 AUC: 0.74569 - F1: 0.70407 - L. loss: 0.60907   1     0h 0m 6s\n",
      "----------------------------------------------------------------------------------------------------\n",
      "[Mean Fold]  AUC: 0.74468(Std:0.00116) - F1: 0.65714 - L. Loss: 0.61941 * 1 0h 0m 44s\n",
      "====================================================================================================\n",
      "\n",
      "{'loss': 'log', 'penalty': 'l2', 'max_iter': 861, 'tol': 0.00460485031904171, 'random_state': 12359}\n",
      "\n",
      "====================================================================================================\n",
      "Training model: SGDClassifier seed 12359 - n_estimators: 1 - max_iter: 755 - 1.00000 - 1\n",
      "====================================================================================================\n",
      "Fold 1/5 AUC: 0.74369 - F1: 0.66628 - L. loss: 0.61580   1     0h 0m 5s\n",
      "Fold 2/5 AUC: 0.74360 - F1: 0.59398 - L. loss: 0.63182   1     0h 0m 5s\n",
      "Fold 3/5 AUC: 0.74644 - F1: 0.73276 - L. loss: 0.60980   1     0h 0m 5s\n",
      "Fold 4/5 AUC: 0.74398 - F1: 0.58864 - L. loss: 0.63056   1     0h 0m 5s\n",
      "Fold 5/5 AUC: 0.74569 - F1: 0.70407 - L. loss: 0.60907   1     0h 0m 5s\n",
      "----------------------------------------------------------------------------------------------------\n",
      "[Mean Fold]  AUC: 0.74468(Std:0.00116) - F1: 0.65714 - L. Loss: 0.61941 * 1 0h 0m 43s\n",
      "====================================================================================================\n",
      "\n",
      "{'loss': 'log', 'penalty': 'l2', 'max_iter': 755, 'tol': 0.004676446785153434, 'random_state': 12359}\n",
      "\n",
      "====================================================================================================\n",
      "Training model: SGDClassifier seed 12359 - n_estimators: 1 - max_iter: 898 - 1.00000 - 1\n",
      "====================================================================================================\n",
      "Fold 1/5 AUC: 0.74368 - F1: 0.68917 - L. loss: 0.76356   1     0h 0m 9s\n",
      "Fold 2/5 AUC: 0.74559 - F1: 0.48830 - L. loss: 1.08837   1     0h 0m 8s\n",
      "Fold 3/5 AUC: 0.74869 - F1: 0.55116 - L. loss: 0.90909   1     0h 0m 8s\n",
      "Fold 4/5 AUC: 0.74727 - F1: 0.60333 - L. loss: 0.82335   1     0h 0m 8s\n",
      "Fold 5/5 AUC: 0.74790 - F1: 0.66307 - L. loss: 0.79015   1     0h 0m 8s\n",
      "----------------------------------------------------------------------------------------------------\n",
      "[Mean Fold]  AUC: 0.74663(Std:0.00179) - F1: 0.59901 - L. Loss: 0.87490 * 1 0h 0m 58s\n",
      "====================================================================================================\n",
      "\n",
      "{'loss': 'modified_huber', 'penalty': 'l2', 'max_iter': 898, 'tol': 0.001721587814127942, 'random_state': 12359}\n",
      "\n",
      "====================================================================================================\n",
      "Training model: SGDClassifier seed 12359 - n_estimators: 1 - max_iter: 864 - 1.00000 - 1\n",
      "====================================================================================================\n"
     ]
    },
    {
     "name": "stdout",
     "output_type": "stream",
     "text": [
      "Fold 1/5 AUC: 0.74441 - F1: 0.53548 - L. loss: 0.99035   1     0h 0m 7s\n",
      "Fold 2/5 AUC: 0.74512 - F1: 0.68080 - L. loss: 0.79430   1     0h 0m 7s\n",
      "Fold 3/5 AUC: 0.74762 - F1: 0.73601 - L. loss: 0.72658   1     0h 0m 7s\n",
      "Fold 4/5 AUC: 0.74627 - F1: 0.71936 - L. loss: 0.73212   1     0h 0m 7s\n",
      "Fold 5/5 AUC: 0.74664 - F1: 0.72217 - L. loss: 0.84286   1     0h 0m 7s\n",
      "----------------------------------------------------------------------------------------------------\n",
      "[Mean Fold]  AUC: 0.74601(Std:0.00113) - F1: 0.67877 - L. Loss: 0.81724 * 1 0h 0m 51s\n",
      "====================================================================================================\n",
      "\n",
      "{'loss': 'modified_huber', 'penalty': 'l2', 'max_iter': 864, 'tol': 0.00453507321892875, 'random_state': 12359}\n",
      "\n",
      "====================================================================================================\n",
      "Training model: SGDClassifier seed 12359 - n_estimators: 1 - max_iter: 759 - 1.00000 - 1\n",
      "====================================================================================================\n",
      "Fold 1/5 AUC: 0.74407 - F1: 0.66945 - L. loss: 0.61495   1     0h 0m 7s\n",
      "Fold 2/5 AUC: 0.74381 - F1: 0.69537 - L. loss: 0.61269   1     0h 0m 7s\n",
      "Fold 3/5 AUC: 0.74690 - F1: 0.67968 - L. loss: 0.61210   1     0h 0m 6s\n",
      "Fold 4/5 AUC: 0.74431 - F1: 0.67118 - L. loss: 0.61477   1     0h 0m 8s\n",
      "Fold 5/5 AUC: 0.74579 - F1: 0.71972 - L. loss: 0.60783   1     0h 0m 7s\n",
      "----------------------------------------------------------------------------------------------------\n",
      "[Mean Fold]  AUC: 0.74498(Std:0.00118) - F1: 0.68708 - L. Loss: 0.61247 * 1 0h 0m 51s\n",
      "====================================================================================================\n",
      "\n",
      "{'loss': 'log', 'penalty': 'l2', 'max_iter': 759, 'tol': 0.0004066376385951137, 'random_state': 12359}\n",
      "\n",
      "====================================================================================================\n",
      "Training model: SGDClassifier seed 12359 - n_estimators: 1 - max_iter: 983 - 1.00000 - 1\n",
      "====================================================================================================\n",
      "Fold 1/5 AUC: 0.74601 - F1: 0.52670 - L. loss: 0.96386   1     0h 0m 8s\n",
      "Fold 2/5 AUC: 0.74439 - F1: 0.61398 - L. loss: 0.81368   1     0h 0m 7s\n",
      "Fold 3/5 AUC: 0.74809 - F1: 0.39904 - L. loss: 1.25105   1     0h 0m 8s\n",
      "Fold 4/5 AUC: 0.74606 - F1: 0.63669 - L. loss: 0.83404   1     0h 0m 8s\n",
      "Fold 5/5 AUC: 0.74702 - F1: 0.71523 - L. loss: 0.74247   1     0h 0m 8s\n",
      "----------------------------------------------------------------------------------------------------\n",
      "[Mean Fold]  AUC: 0.74631(Std:0.00122) - F1: 0.57833 - L. Loss: 0.92102 * 1 0h 0m 57s\n",
      "====================================================================================================\n",
      "\n",
      "{'loss': 'modified_huber', 'penalty': 'l2', 'max_iter': 983, 'tol': 0.0028140591225261193, 'random_state': 12359}\n",
      "\n",
      "====================================================================================================\n",
      "Training model: SGDClassifier seed 12359 - n_estimators: 1 - max_iter: 961 - 1.00000 - 1\n",
      "====================================================================================================\n",
      "Fold 1/5 AUC: 0.74525 - F1: 0.34606 - L. loss: 1.35243   1     0h 0m 8s\n",
      "Fold 2/5 AUC: 0.74560 - F1: 0.28383 - L. loss: 1.69132   1     0h 0m 8s\n",
      "Fold 3/5 AUC: 0.74869 - F1: 0.55116 - L. loss: 0.90909   1     0h 0m 8s\n",
      "Fold 4/5 AUC: 0.74598 - F1: 0.66032 - L. loss: 0.83399   1     0h 0m 8s\n",
      "Fold 5/5 AUC: 0.74801 - F1: 0.73642 - L. loss: 0.76384   1     0h 0m 8s\n",
      "----------------------------------------------------------------------------------------------------\n",
      "[Mean Fold]  AUC: 0.74671(Std:0.00138) - F1: 0.51556 - L. Loss: 1.11014 * 1 0h 0m 56s\n",
      "====================================================================================================\n",
      "\n",
      "{'loss': 'modified_huber', 'penalty': 'l2', 'max_iter': 961, 'tol': 0.002007131748076453, 'random_state': 12359}\n",
      "\n",
      "====================================================================================================\n",
      "Training model: SGDClassifier seed 12359 - n_estimators: 1 - max_iter: 992 - 1.00000 - 1\n",
      "====================================================================================================\n",
      "Fold 1/5 AUC: 0.74601 - F1: 0.52670 - L. loss: 0.96386   1     0h 0m 7s\n",
      "Fold 2/5 AUC: 0.74560 - F1: 0.28383 - L. loss: 1.69132   1     0h 0m 7s\n",
      "Fold 3/5 AUC: 0.74889 - F1: 0.44943 - L. loss: 1.04121   1     0h 0m 8s\n",
      "Fold 4/5 AUC: 0.74681 - F1: 0.65767 - L. loss: 0.76453   1     0h 0m 7s\n",
      "Fold 5/5 AUC: 0.74702 - F1: 0.71523 - L. loss: 0.74247   1     0h 0m 8s\n",
      "----------------------------------------------------------------------------------------------------\n",
      "[Mean Fold]  AUC: 0.74687(Std:0.00114) - F1: 0.52657 - L. Loss: 1.04068 * 1 0h 0m 56s\n",
      "====================================================================================================\n",
      "\n",
      "{'loss': 'modified_huber', 'penalty': 'l2', 'max_iter': 992, 'tol': 0.0025058648042042726, 'random_state': 12359}\n",
      "\n",
      "====================================================================================================\n",
      "Training model: SGDClassifier seed 12359 - n_estimators: 1 - max_iter: 997 - 1.00000 - 1\n",
      "====================================================================================================\n",
      "Fold 1/5 AUC: 0.74601 - F1: 0.52670 - L. loss: 0.96386   1     0h 0m 7s\n",
      "Fold 2/5 AUC: 0.74439 - F1: 0.61398 - L. loss: 0.81368   1     0h 0m 7s\n",
      "Fold 3/5 AUC: 0.74809 - F1: 0.39904 - L. loss: 1.25105   1     0h 0m 7s\n",
      "Fold 4/5 AUC: 0.74606 - F1: 0.63669 - L. loss: 0.83404   1     0h 0m 7s\n",
      "Fold 5/5 AUC: 0.74702 - F1: 0.71523 - L. loss: 0.74247   1     0h 0m 7s\n",
      "----------------------------------------------------------------------------------------------------\n",
      "[Mean Fold]  AUC: 0.74631(Std:0.00122) - F1: 0.57833 - L. Loss: 0.92102 * 1 0h 0m 53s\n",
      "====================================================================================================\n",
      "\n",
      "{'loss': 'modified_huber', 'penalty': 'l2', 'max_iter': 997, 'tol': 0.002727784199164067, 'random_state': 12359}\n",
      "\n",
      "====================================================================================================\n",
      "Training model: SGDClassifier seed 12359 - n_estimators: 1 - max_iter: 943 - 1.00000 - 1\n",
      "====================================================================================================\n",
      "Fold 1/5 AUC: 0.74603 - F1: 0.67950 - L. loss: 0.74838   1     0h 0m 9s\n",
      "Fold 2/5 AUC: 0.74578 - F1: 0.52604 - L. loss: 0.93932   1     0h 0m 9s\n",
      "Fold 3/5 AUC: 0.74932 - F1: 0.52582 - L. loss: 0.94421   1     0h 0m 10s\n",
      "Fold 4/5 AUC: 0.74722 - F1: 0.49332 - L. loss: 1.07860   1     0h 0m 10s\n",
      "Fold 5/5 AUC: 0.74743 - F1: 0.65271 - L. loss: 0.80007   1     0h 0m 10s\n",
      "----------------------------------------------------------------------------------------------------\n",
      "[Mean Fold]  AUC: 0.74716(Std:0.00126) - F1: 0.57548 - L. Loss: 0.90212 * 1 0h 1m 5s\n",
      "====================================================================================================\n",
      "\n",
      "{'loss': 'modified_huber', 'penalty': 'l2', 'max_iter': 943, 'tol': 0.0008203131460502856, 'random_state': 12359}\n",
      "\n",
      "====================================================================================================\n",
      "Training model: SGDClassifier seed 12359 - n_estimators: 1 - max_iter: 935 - 1.00000 - 1\n",
      "====================================================================================================\n",
      "Fold 1/5 AUC: 0.74666 - F1: 0.57925 - L. loss: 0.86683   1     0h 0m 11s\n",
      "Fold 2/5 AUC: 0.74643 - F1: 0.68580 - L. loss: 0.77321   1     0h 0m 12s\n",
      "Fold 3/5 AUC: 0.74951 - F1: 0.66277 - L. loss: 0.76787   1     0h 0m 11s\n",
      "Fold 4/5 AUC: 0.74718 - F1: 0.57990 - L. loss: 0.89106   1     0h 0m 12s\n",
      "Fold 5/5 AUC: 0.74743 - F1: 0.65271 - L. loss: 0.80007   1     0h 0m 10s\n",
      "----------------------------------------------------------------------------------------------------\n",
      "[Mean Fold]  AUC: 0.74744(Std:0.00109) - F1: 0.63209 - L. Loss: 0.81981 * 1 0h 1m 14s\n",
      "====================================================================================================\n",
      "\n",
      "{'loss': 'modified_huber', 'penalty': 'l2', 'max_iter': 935, 'tol': 0.0006022076122239066, 'random_state': 12359}\n",
      "\n",
      "====================================================================================================\n",
      "Training model: SGDClassifier seed 12359 - n_estimators: 1 - max_iter: 926 - 1.00000 - 1\n",
      "====================================================================================================\n"
     ]
    },
    {
     "name": "stdout",
     "output_type": "stream",
     "text": [
      "Fold 1/5 AUC: 0.74558 - F1: 0.51146 - L. loss: 0.97956   1     0h 0m 12s\n",
      "Fold 2/5 AUC: 0.74648 - F1: 0.50742 - L. loss: 1.00720   1     0h 0m 12s\n",
      "Fold 3/5 AUC: 0.74962 - F1: 0.56013 - L. loss: 0.85382   1     0h 0m 14s\n",
      "Fold 4/5 AUC: 0.74749 - F1: 0.51658 - L. loss: 1.01234   1     0h 0m 13s\n",
      "Fold 5/5 AUC: 0.74859 - F1: 0.72974 - L. loss: 0.75127   1     0h 0m 12s\n",
      "----------------------------------------------------------------------------------------------------\n",
      "[Mean Fold]  AUC: 0.74755(Std:0.00144) - F1: 0.56507 - L. Loss: 0.92084 * 1 0h 1m 19s\n",
      "====================================================================================================\n",
      "\n",
      "{'loss': 'modified_huber', 'penalty': 'l2', 'max_iter': 926, 'tol': 0.0003923834338699613, 'random_state': 12359}\n",
      "\n",
      "====================================================================================================\n",
      "Training model: SGDClassifier seed 12359 - n_estimators: 1 - max_iter: 914 - 1.00000 - 1\n",
      "====================================================================================================\n",
      "Fold 1/5 AUC: 0.74603 - F1: 0.67950 - L. loss: 0.74838   1     0h 0m 9s\n",
      "Fold 2/5 AUC: 0.74604 - F1: 0.47258 - L. loss: 1.04173   1     0h 0m 9s\n",
      "Fold 3/5 AUC: 0.74887 - F1: 0.59418 - L. loss: 0.82209   1     0h 0m 9s\n",
      "Fold 4/5 AUC: 0.74622 - F1: 0.67853 - L. loss: 0.79305   1     0h 0m 9s\n",
      "Fold 5/5 AUC: 0.74743 - F1: 0.65271 - L. loss: 0.80007   1     0h 0m 10s\n",
      "----------------------------------------------------------------------------------------------------\n",
      "[Mean Fold]  AUC: 0.74692(Std:0.00110) - F1: 0.61550 - L. Loss: 0.84107 * 1 0h 1m 2s\n",
      "====================================================================================================\n",
      "\n",
      "{'loss': 'modified_huber', 'penalty': 'l2', 'max_iter': 914, 'tol': 0.0009531861269208458, 'random_state': 12359}\n",
      "\n",
      "====================================================================================================\n",
      "Training model: SGDClassifier seed 12359 - n_estimators: 1 - max_iter: 827 - 1.00000 - 1\n",
      "====================================================================================================\n",
      "Fold 1/5 AUC: 0.74421 - F1: 0.69862 - L. loss: 0.61131   1     0h 0m 8s\n",
      "Fold 2/5 AUC: 0.74413 - F1: 0.70228 - L. loss: 0.61177   1     0h 0m 8s\n",
      "Fold 3/5 AUC: 0.74666 - F1: 0.62094 - L. loss: 0.62222   1     0h 0m 8s\n",
      "Fold 4/5 AUC: 0.74413 - F1: 0.57344 - L. loss: 0.63438   1     0h 0m 7s\n",
      "Fold 5/5 AUC: 0.74552 - F1: 0.72165 - L. loss: 0.60771   1     0h 0m 8s\n",
      "----------------------------------------------------------------------------------------------------\n",
      "[Mean Fold]  AUC: 0.74493(Std:0.00102) - F1: 0.66338 - L. Loss: 0.61748 * 1 0h 0m 55s\n",
      "====================================================================================================\n",
      "\n",
      "{'loss': 'log', 'penalty': 'l2', 'max_iter': 827, 'tol': 0.0001831589739233248, 'random_state': 12359}\n",
      "\n",
      "====================================================================================================\n",
      "Training model: SGDClassifier seed 12359 - n_estimators: 1 - max_iter: 889 - 1.00000 - 1\n",
      "====================================================================================================\n",
      "Fold 1/5 AUC: 0.74634 - F1: 0.47265 - L. loss: 1.07839   1     0h 0m 10s\n",
      "Fold 2/5 AUC: 0.74574 - F1: 0.66189 - L. loss: 0.76951   1     0h 0m 9s\n",
      "Fold 3/5 AUC: 0.74893 - F1: 0.65889 - L. loss: 0.73796   1     0h 0m 9s\n",
      "Fold 4/5 AUC: 0.74651 - F1: 0.54840 - L. loss: 0.92598   1     0h 0m 9s\n",
      "Fold 5/5 AUC: 0.74796 - F1: 0.51624 - L. loss: 1.00433   1     0h 0m 9s\n",
      "----------------------------------------------------------------------------------------------------\n",
      "[Mean Fold]  AUC: 0.74710(Std:0.00117) - F1: 0.57161 - L. Loss: 0.90323 * 1 0h 1m 2s\n",
      "====================================================================================================\n",
      "\n",
      "{'loss': 'modified_huber', 'penalty': 'l2', 'max_iter': 889, 'tol': 0.0011254664032060617, 'random_state': 12359}\n",
      "\n",
      "\n",
      "Score     : 0.74755\n",
      "Seed      : 12359\n",
      "Parameters:\n",
      "\n",
      "{'loss': 'modified_huber', 'penalty': 'l2', 'max_iter': 926, 'tol': 0.0003923834338699613, 'random_state': 12359}\n",
      "\n",
      "Wall time: 18min 58s\n"
     ]
    }
   ],
   "source": [
    "%%time\n",
    "SEED       = 12359  \n",
    "name_model = name_model_clf + '003_tun_'\n",
    "n_trials_  = 20\n",
    "\n",
    "TunningModels.delete_files(name_model)\n",
    "\n",
    "# Inicialize a classe do modelo de otimização\n",
    "modelOpt = TunningModels(name_model      = name_model, \n",
    "                            X_trn_          = X, \n",
    "                            y_trn_          = y, \n",
    "                            X_ts_           = X_test_scaler,                                     \n",
    "                            feature_        = None,  \n",
    "                            scaler_         = sc, \n",
    "                            seed_           = SEED, \n",
    "                            #feature_bin_    = feature_int\n",
    "                        )\n",
    "\n",
    "pruner = MedianPruner(n_startup_trials = 5,\n",
    "                      n_warmup_steps   = 0,\n",
    "                      interval_steps   = 1,\n",
    "                      n_min_trials     = 5,\n",
    "                      )\n",
    "\n",
    "study = optuna.create_study(direction = 'maximize',\n",
    "                            sampler   = optuna.samplers.TPESampler(seed=SEED),\n",
    "                            pruner    = optuna.pruners.MedianPruner(n_warmup_steps=10),\n",
    "                            #pruner    = pruner,\n",
    "                            study_name= 'lsvn_tun'\n",
    "                            ) \n",
    "\n",
    "study.optimize(modelOpt.sgb, n_trials=n_trials_)\n",
    "\n",
    "score_seed = study.best_value \n",
    "params     = study.best_params \n",
    "path_name  = path + 'model/optuna/' + name_model + '_best_score_{:2.5f}.pkl.z'.format(score_seed) \n",
    "\n",
    "jb.dump(study, path_name)\n",
    "\n",
    "if params.get('penalty')== 'l1': \n",
    "    params.update({'solver': 'liblinear'}) \n",
    "\n",
    "print('')    \n",
    "print('Score     : {:2.5f}'.format(score_seed))\n",
    "print('Seed      : {}'.format(SEED))\n",
    "print('Parameters:\\n\\n{}'.format(params))\n",
    "print('')\n",
    "\n",
    "seed_best   = SEED\n",
    "scare_best  = score_seed \n",
    "params_best = params"
   ]
  },
  {
   "cell_type": "markdown",
   "metadata": {},
   "source": [
    "<div class=\"alert alert-info\" role=\"alert\">\n",
    "\n",
    "**`NOTA:`** <br>\n",
    "    \n",
    "Com os melhores parametros gerei uma nova submissão e obtive a AUC de 0.68785.\n",
    "    \n",
    "</div>"
   ]
  },
  {
   "cell_type": "markdown",
   "metadata": {
    "id": "KEQa44wEi346"
   },
   "source": [
    "### Análise "
   ]
  },
  {
   "cell_type": "code",
   "execution_count": 209,
   "metadata": {
    "ExecuteTime": {
     "end_time": "2021-11-16T02:38:47.433083Z",
     "start_time": "2021-11-16T02:38:47.419075Z"
    },
    "id": "RD2yIoWTi346"
   },
   "outputs": [
    {
     "data": {
      "application/vnd.plotly.v1+json": {
       "config": {
        "plotlyServerURL": "https://plot.ly"
       },
       "data": [
        {
         "mode": "markers",
         "name": "Objective Value",
         "type": "scatter",
         "x": [
          0,
          1,
          2,
          3,
          4,
          5,
          6,
          7,
          8,
          9,
          10,
          11,
          12,
          13,
          14,
          15,
          16,
          17,
          18,
          19
         ],
         "y": [
          0.7462028568026117,
          0.7468671356226879,
          0.7446271602328614,
          0.7467031975302494,
          0.7460829627711654,
          0.7446776105491562,
          0.7446776105491562,
          0.7466252832370771,
          0.7460107552750637,
          0.7449768066194079,
          0.746314622221222,
          0.7467053268797834,
          0.7468671356226879,
          0.746314622221222,
          0.7471556398039434,
          0.7474407544986015,
          0.7475508276908519,
          0.7469177955534857,
          0.7449300593738986,
          0.7470960920899555
         ]
        },
        {
         "name": "Best Value",
         "type": "scatter",
         "x": [
          0,
          1,
          2,
          3,
          4,
          5,
          6,
          7,
          8,
          9,
          10,
          11,
          12,
          13,
          14,
          15,
          16,
          17,
          18,
          19
         ],
         "y": [
          0.7462028568026117,
          0.7468671356226879,
          0.7468671356226879,
          0.7468671356226879,
          0.7468671356226879,
          0.7468671356226879,
          0.7468671356226879,
          0.7468671356226879,
          0.7468671356226879,
          0.7468671356226879,
          0.7468671356226879,
          0.7468671356226879,
          0.7468671356226879,
          0.7468671356226879,
          0.7471556398039434,
          0.7474407544986015,
          0.7475508276908519,
          0.7475508276908519,
          0.7475508276908519,
          0.7475508276908519
         ]
        }
       ],
       "layout": {
        "template": {
         "data": {
          "bar": [
           {
            "error_x": {
             "color": "#2a3f5f"
            },
            "error_y": {
             "color": "#2a3f5f"
            },
            "marker": {
             "line": {
              "color": "#E5ECF6",
              "width": 0.5
             },
             "pattern": {
              "fillmode": "overlay",
              "size": 10,
              "solidity": 0.2
             }
            },
            "type": "bar"
           }
          ],
          "barpolar": [
           {
            "marker": {
             "line": {
              "color": "#E5ECF6",
              "width": 0.5
             },
             "pattern": {
              "fillmode": "overlay",
              "size": 10,
              "solidity": 0.2
             }
            },
            "type": "barpolar"
           }
          ],
          "carpet": [
           {
            "aaxis": {
             "endlinecolor": "#2a3f5f",
             "gridcolor": "white",
             "linecolor": "white",
             "minorgridcolor": "white",
             "startlinecolor": "#2a3f5f"
            },
            "baxis": {
             "endlinecolor": "#2a3f5f",
             "gridcolor": "white",
             "linecolor": "white",
             "minorgridcolor": "white",
             "startlinecolor": "#2a3f5f"
            },
            "type": "carpet"
           }
          ],
          "choropleth": [
           {
            "colorbar": {
             "outlinewidth": 0,
             "ticks": ""
            },
            "type": "choropleth"
           }
          ],
          "contour": [
           {
            "colorbar": {
             "outlinewidth": 0,
             "ticks": ""
            },
            "colorscale": [
             [
              0,
              "#0d0887"
             ],
             [
              0.1111111111111111,
              "#46039f"
             ],
             [
              0.2222222222222222,
              "#7201a8"
             ],
             [
              0.3333333333333333,
              "#9c179e"
             ],
             [
              0.4444444444444444,
              "#bd3786"
             ],
             [
              0.5555555555555556,
              "#d8576b"
             ],
             [
              0.6666666666666666,
              "#ed7953"
             ],
             [
              0.7777777777777778,
              "#fb9f3a"
             ],
             [
              0.8888888888888888,
              "#fdca26"
             ],
             [
              1,
              "#f0f921"
             ]
            ],
            "type": "contour"
           }
          ],
          "contourcarpet": [
           {
            "colorbar": {
             "outlinewidth": 0,
             "ticks": ""
            },
            "type": "contourcarpet"
           }
          ],
          "heatmap": [
           {
            "colorbar": {
             "outlinewidth": 0,
             "ticks": ""
            },
            "colorscale": [
             [
              0,
              "#0d0887"
             ],
             [
              0.1111111111111111,
              "#46039f"
             ],
             [
              0.2222222222222222,
              "#7201a8"
             ],
             [
              0.3333333333333333,
              "#9c179e"
             ],
             [
              0.4444444444444444,
              "#bd3786"
             ],
             [
              0.5555555555555556,
              "#d8576b"
             ],
             [
              0.6666666666666666,
              "#ed7953"
             ],
             [
              0.7777777777777778,
              "#fb9f3a"
             ],
             [
              0.8888888888888888,
              "#fdca26"
             ],
             [
              1,
              "#f0f921"
             ]
            ],
            "type": "heatmap"
           }
          ],
          "heatmapgl": [
           {
            "colorbar": {
             "outlinewidth": 0,
             "ticks": ""
            },
            "colorscale": [
             [
              0,
              "#0d0887"
             ],
             [
              0.1111111111111111,
              "#46039f"
             ],
             [
              0.2222222222222222,
              "#7201a8"
             ],
             [
              0.3333333333333333,
              "#9c179e"
             ],
             [
              0.4444444444444444,
              "#bd3786"
             ],
             [
              0.5555555555555556,
              "#d8576b"
             ],
             [
              0.6666666666666666,
              "#ed7953"
             ],
             [
              0.7777777777777778,
              "#fb9f3a"
             ],
             [
              0.8888888888888888,
              "#fdca26"
             ],
             [
              1,
              "#f0f921"
             ]
            ],
            "type": "heatmapgl"
           }
          ],
          "histogram": [
           {
            "marker": {
             "pattern": {
              "fillmode": "overlay",
              "size": 10,
              "solidity": 0.2
             }
            },
            "type": "histogram"
           }
          ],
          "histogram2d": [
           {
            "colorbar": {
             "outlinewidth": 0,
             "ticks": ""
            },
            "colorscale": [
             [
              0,
              "#0d0887"
             ],
             [
              0.1111111111111111,
              "#46039f"
             ],
             [
              0.2222222222222222,
              "#7201a8"
             ],
             [
              0.3333333333333333,
              "#9c179e"
             ],
             [
              0.4444444444444444,
              "#bd3786"
             ],
             [
              0.5555555555555556,
              "#d8576b"
             ],
             [
              0.6666666666666666,
              "#ed7953"
             ],
             [
              0.7777777777777778,
              "#fb9f3a"
             ],
             [
              0.8888888888888888,
              "#fdca26"
             ],
             [
              1,
              "#f0f921"
             ]
            ],
            "type": "histogram2d"
           }
          ],
          "histogram2dcontour": [
           {
            "colorbar": {
             "outlinewidth": 0,
             "ticks": ""
            },
            "colorscale": [
             [
              0,
              "#0d0887"
             ],
             [
              0.1111111111111111,
              "#46039f"
             ],
             [
              0.2222222222222222,
              "#7201a8"
             ],
             [
              0.3333333333333333,
              "#9c179e"
             ],
             [
              0.4444444444444444,
              "#bd3786"
             ],
             [
              0.5555555555555556,
              "#d8576b"
             ],
             [
              0.6666666666666666,
              "#ed7953"
             ],
             [
              0.7777777777777778,
              "#fb9f3a"
             ],
             [
              0.8888888888888888,
              "#fdca26"
             ],
             [
              1,
              "#f0f921"
             ]
            ],
            "type": "histogram2dcontour"
           }
          ],
          "mesh3d": [
           {
            "colorbar": {
             "outlinewidth": 0,
             "ticks": ""
            },
            "type": "mesh3d"
           }
          ],
          "parcoords": [
           {
            "line": {
             "colorbar": {
              "outlinewidth": 0,
              "ticks": ""
             }
            },
            "type": "parcoords"
           }
          ],
          "pie": [
           {
            "automargin": true,
            "type": "pie"
           }
          ],
          "scatter": [
           {
            "marker": {
             "colorbar": {
              "outlinewidth": 0,
              "ticks": ""
             }
            },
            "type": "scatter"
           }
          ],
          "scatter3d": [
           {
            "line": {
             "colorbar": {
              "outlinewidth": 0,
              "ticks": ""
             }
            },
            "marker": {
             "colorbar": {
              "outlinewidth": 0,
              "ticks": ""
             }
            },
            "type": "scatter3d"
           }
          ],
          "scattercarpet": [
           {
            "marker": {
             "colorbar": {
              "outlinewidth": 0,
              "ticks": ""
             }
            },
            "type": "scattercarpet"
           }
          ],
          "scattergeo": [
           {
            "marker": {
             "colorbar": {
              "outlinewidth": 0,
              "ticks": ""
             }
            },
            "type": "scattergeo"
           }
          ],
          "scattergl": [
           {
            "marker": {
             "colorbar": {
              "outlinewidth": 0,
              "ticks": ""
             }
            },
            "type": "scattergl"
           }
          ],
          "scattermapbox": [
           {
            "marker": {
             "colorbar": {
              "outlinewidth": 0,
              "ticks": ""
             }
            },
            "type": "scattermapbox"
           }
          ],
          "scatterpolar": [
           {
            "marker": {
             "colorbar": {
              "outlinewidth": 0,
              "ticks": ""
             }
            },
            "type": "scatterpolar"
           }
          ],
          "scatterpolargl": [
           {
            "marker": {
             "colorbar": {
              "outlinewidth": 0,
              "ticks": ""
             }
            },
            "type": "scatterpolargl"
           }
          ],
          "scatterternary": [
           {
            "marker": {
             "colorbar": {
              "outlinewidth": 0,
              "ticks": ""
             }
            },
            "type": "scatterternary"
           }
          ],
          "surface": [
           {
            "colorbar": {
             "outlinewidth": 0,
             "ticks": ""
            },
            "colorscale": [
             [
              0,
              "#0d0887"
             ],
             [
              0.1111111111111111,
              "#46039f"
             ],
             [
              0.2222222222222222,
              "#7201a8"
             ],
             [
              0.3333333333333333,
              "#9c179e"
             ],
             [
              0.4444444444444444,
              "#bd3786"
             ],
             [
              0.5555555555555556,
              "#d8576b"
             ],
             [
              0.6666666666666666,
              "#ed7953"
             ],
             [
              0.7777777777777778,
              "#fb9f3a"
             ],
             [
              0.8888888888888888,
              "#fdca26"
             ],
             [
              1,
              "#f0f921"
             ]
            ],
            "type": "surface"
           }
          ],
          "table": [
           {
            "cells": {
             "fill": {
              "color": "#EBF0F8"
             },
             "line": {
              "color": "white"
             }
            },
            "header": {
             "fill": {
              "color": "#C8D4E3"
             },
             "line": {
              "color": "white"
             }
            },
            "type": "table"
           }
          ]
         },
         "layout": {
          "annotationdefaults": {
           "arrowcolor": "#2a3f5f",
           "arrowhead": 0,
           "arrowwidth": 1
          },
          "autotypenumbers": "strict",
          "coloraxis": {
           "colorbar": {
            "outlinewidth": 0,
            "ticks": ""
           }
          },
          "colorscale": {
           "diverging": [
            [
             0,
             "#8e0152"
            ],
            [
             0.1,
             "#c51b7d"
            ],
            [
             0.2,
             "#de77ae"
            ],
            [
             0.3,
             "#f1b6da"
            ],
            [
             0.4,
             "#fde0ef"
            ],
            [
             0.5,
             "#f7f7f7"
            ],
            [
             0.6,
             "#e6f5d0"
            ],
            [
             0.7,
             "#b8e186"
            ],
            [
             0.8,
             "#7fbc41"
            ],
            [
             0.9,
             "#4d9221"
            ],
            [
             1,
             "#276419"
            ]
           ],
           "sequential": [
            [
             0,
             "#0d0887"
            ],
            [
             0.1111111111111111,
             "#46039f"
            ],
            [
             0.2222222222222222,
             "#7201a8"
            ],
            [
             0.3333333333333333,
             "#9c179e"
            ],
            [
             0.4444444444444444,
             "#bd3786"
            ],
            [
             0.5555555555555556,
             "#d8576b"
            ],
            [
             0.6666666666666666,
             "#ed7953"
            ],
            [
             0.7777777777777778,
             "#fb9f3a"
            ],
            [
             0.8888888888888888,
             "#fdca26"
            ],
            [
             1,
             "#f0f921"
            ]
           ],
           "sequentialminus": [
            [
             0,
             "#0d0887"
            ],
            [
             0.1111111111111111,
             "#46039f"
            ],
            [
             0.2222222222222222,
             "#7201a8"
            ],
            [
             0.3333333333333333,
             "#9c179e"
            ],
            [
             0.4444444444444444,
             "#bd3786"
            ],
            [
             0.5555555555555556,
             "#d8576b"
            ],
            [
             0.6666666666666666,
             "#ed7953"
            ],
            [
             0.7777777777777778,
             "#fb9f3a"
            ],
            [
             0.8888888888888888,
             "#fdca26"
            ],
            [
             1,
             "#f0f921"
            ]
           ]
          },
          "colorway": [
           "#636efa",
           "#EF553B",
           "#00cc96",
           "#ab63fa",
           "#FFA15A",
           "#19d3f3",
           "#FF6692",
           "#B6E880",
           "#FF97FF",
           "#FECB52"
          ],
          "font": {
           "color": "#2a3f5f"
          },
          "geo": {
           "bgcolor": "white",
           "lakecolor": "white",
           "landcolor": "#E5ECF6",
           "showlakes": true,
           "showland": true,
           "subunitcolor": "white"
          },
          "hoverlabel": {
           "align": "left"
          },
          "hovermode": "closest",
          "mapbox": {
           "style": "light"
          },
          "paper_bgcolor": "white",
          "plot_bgcolor": "#E5ECF6",
          "polar": {
           "angularaxis": {
            "gridcolor": "white",
            "linecolor": "white",
            "ticks": ""
           },
           "bgcolor": "#E5ECF6",
           "radialaxis": {
            "gridcolor": "white",
            "linecolor": "white",
            "ticks": ""
           }
          },
          "scene": {
           "xaxis": {
            "backgroundcolor": "#E5ECF6",
            "gridcolor": "white",
            "gridwidth": 2,
            "linecolor": "white",
            "showbackground": true,
            "ticks": "",
            "zerolinecolor": "white"
           },
           "yaxis": {
            "backgroundcolor": "#E5ECF6",
            "gridcolor": "white",
            "gridwidth": 2,
            "linecolor": "white",
            "showbackground": true,
            "ticks": "",
            "zerolinecolor": "white"
           },
           "zaxis": {
            "backgroundcolor": "#E5ECF6",
            "gridcolor": "white",
            "gridwidth": 2,
            "linecolor": "white",
            "showbackground": true,
            "ticks": "",
            "zerolinecolor": "white"
           }
          },
          "shapedefaults": {
           "line": {
            "color": "#2a3f5f"
           }
          },
          "ternary": {
           "aaxis": {
            "gridcolor": "white",
            "linecolor": "white",
            "ticks": ""
           },
           "baxis": {
            "gridcolor": "white",
            "linecolor": "white",
            "ticks": ""
           },
           "bgcolor": "#E5ECF6",
           "caxis": {
            "gridcolor": "white",
            "linecolor": "white",
            "ticks": ""
           }
          },
          "title": {
           "x": 0.05
          },
          "xaxis": {
           "automargin": true,
           "gridcolor": "white",
           "linecolor": "white",
           "ticks": "",
           "title": {
            "standoff": 15
           },
           "zerolinecolor": "white",
           "zerolinewidth": 2
          },
          "yaxis": {
           "automargin": true,
           "gridcolor": "white",
           "linecolor": "white",
           "ticks": "",
           "title": {
            "standoff": 15
           },
           "zerolinecolor": "white",
           "zerolinewidth": 2
          }
         }
        },
        "title": {
         "text": "Optimization History Plot"
        },
        "xaxis": {
         "title": {
          "text": "#Trials"
         }
        },
        "yaxis": {
         "title": {
          "text": "Objective Value"
         }
        }
       }
      },
      "text/html": [
       "<div>                            <div id=\"8caaf5ab-5b19-491a-a9b5-c05eb7301e8c\" class=\"plotly-graph-div\" style=\"height:525px; width:100%;\"></div>            <script type=\"text/javascript\">                require([\"plotly\"], function(Plotly) {                    window.PLOTLYENV=window.PLOTLYENV || {};                                    if (document.getElementById(\"8caaf5ab-5b19-491a-a9b5-c05eb7301e8c\")) {                    Plotly.newPlot(                        \"8caaf5ab-5b19-491a-a9b5-c05eb7301e8c\",                        [{\"mode\":\"markers\",\"name\":\"Objective Value\",\"type\":\"scatter\",\"x\":[0,1,2,3,4,5,6,7,8,9,10,11,12,13,14,15,16,17,18,19],\"y\":[0.7462028568026117,0.7468671356226879,0.7446271602328614,0.7467031975302494,0.7460829627711654,0.7446776105491562,0.7446776105491562,0.7466252832370771,0.7460107552750637,0.7449768066194079,0.746314622221222,0.7467053268797834,0.7468671356226879,0.746314622221222,0.7471556398039434,0.7474407544986015,0.7475508276908519,0.7469177955534857,0.7449300593738986,0.7470960920899555]},{\"name\":\"Best Value\",\"type\":\"scatter\",\"x\":[0,1,2,3,4,5,6,7,8,9,10,11,12,13,14,15,16,17,18,19],\"y\":[0.7462028568026117,0.7468671356226879,0.7468671356226879,0.7468671356226879,0.7468671356226879,0.7468671356226879,0.7468671356226879,0.7468671356226879,0.7468671356226879,0.7468671356226879,0.7468671356226879,0.7468671356226879,0.7468671356226879,0.7468671356226879,0.7471556398039434,0.7474407544986015,0.7475508276908519,0.7475508276908519,0.7475508276908519,0.7475508276908519]}],                        {\"template\":{\"data\":{\"bar\":[{\"error_x\":{\"color\":\"#2a3f5f\"},\"error_y\":{\"color\":\"#2a3f5f\"},\"marker\":{\"line\":{\"color\":\"#E5ECF6\",\"width\":0.5},\"pattern\":{\"fillmode\":\"overlay\",\"size\":10,\"solidity\":0.2}},\"type\":\"bar\"}],\"barpolar\":[{\"marker\":{\"line\":{\"color\":\"#E5ECF6\",\"width\":0.5},\"pattern\":{\"fillmode\":\"overlay\",\"size\":10,\"solidity\":0.2}},\"type\":\"barpolar\"}],\"carpet\":[{\"aaxis\":{\"endlinecolor\":\"#2a3f5f\",\"gridcolor\":\"white\",\"linecolor\":\"white\",\"minorgridcolor\":\"white\",\"startlinecolor\":\"#2a3f5f\"},\"baxis\":{\"endlinecolor\":\"#2a3f5f\",\"gridcolor\":\"white\",\"linecolor\":\"white\",\"minorgridcolor\":\"white\",\"startlinecolor\":\"#2a3f5f\"},\"type\":\"carpet\"}],\"choropleth\":[{\"colorbar\":{\"outlinewidth\":0,\"ticks\":\"\"},\"type\":\"choropleth\"}],\"contour\":[{\"colorbar\":{\"outlinewidth\":0,\"ticks\":\"\"},\"colorscale\":[[0.0,\"#0d0887\"],[0.1111111111111111,\"#46039f\"],[0.2222222222222222,\"#7201a8\"],[0.3333333333333333,\"#9c179e\"],[0.4444444444444444,\"#bd3786\"],[0.5555555555555556,\"#d8576b\"],[0.6666666666666666,\"#ed7953\"],[0.7777777777777778,\"#fb9f3a\"],[0.8888888888888888,\"#fdca26\"],[1.0,\"#f0f921\"]],\"type\":\"contour\"}],\"contourcarpet\":[{\"colorbar\":{\"outlinewidth\":0,\"ticks\":\"\"},\"type\":\"contourcarpet\"}],\"heatmap\":[{\"colorbar\":{\"outlinewidth\":0,\"ticks\":\"\"},\"colorscale\":[[0.0,\"#0d0887\"],[0.1111111111111111,\"#46039f\"],[0.2222222222222222,\"#7201a8\"],[0.3333333333333333,\"#9c179e\"],[0.4444444444444444,\"#bd3786\"],[0.5555555555555556,\"#d8576b\"],[0.6666666666666666,\"#ed7953\"],[0.7777777777777778,\"#fb9f3a\"],[0.8888888888888888,\"#fdca26\"],[1.0,\"#f0f921\"]],\"type\":\"heatmap\"}],\"heatmapgl\":[{\"colorbar\":{\"outlinewidth\":0,\"ticks\":\"\"},\"colorscale\":[[0.0,\"#0d0887\"],[0.1111111111111111,\"#46039f\"],[0.2222222222222222,\"#7201a8\"],[0.3333333333333333,\"#9c179e\"],[0.4444444444444444,\"#bd3786\"],[0.5555555555555556,\"#d8576b\"],[0.6666666666666666,\"#ed7953\"],[0.7777777777777778,\"#fb9f3a\"],[0.8888888888888888,\"#fdca26\"],[1.0,\"#f0f921\"]],\"type\":\"heatmapgl\"}],\"histogram\":[{\"marker\":{\"pattern\":{\"fillmode\":\"overlay\",\"size\":10,\"solidity\":0.2}},\"type\":\"histogram\"}],\"histogram2d\":[{\"colorbar\":{\"outlinewidth\":0,\"ticks\":\"\"},\"colorscale\":[[0.0,\"#0d0887\"],[0.1111111111111111,\"#46039f\"],[0.2222222222222222,\"#7201a8\"],[0.3333333333333333,\"#9c179e\"],[0.4444444444444444,\"#bd3786\"],[0.5555555555555556,\"#d8576b\"],[0.6666666666666666,\"#ed7953\"],[0.7777777777777778,\"#fb9f3a\"],[0.8888888888888888,\"#fdca26\"],[1.0,\"#f0f921\"]],\"type\":\"histogram2d\"}],\"histogram2dcontour\":[{\"colorbar\":{\"outlinewidth\":0,\"ticks\":\"\"},\"colorscale\":[[0.0,\"#0d0887\"],[0.1111111111111111,\"#46039f\"],[0.2222222222222222,\"#7201a8\"],[0.3333333333333333,\"#9c179e\"],[0.4444444444444444,\"#bd3786\"],[0.5555555555555556,\"#d8576b\"],[0.6666666666666666,\"#ed7953\"],[0.7777777777777778,\"#fb9f3a\"],[0.8888888888888888,\"#fdca26\"],[1.0,\"#f0f921\"]],\"type\":\"histogram2dcontour\"}],\"mesh3d\":[{\"colorbar\":{\"outlinewidth\":0,\"ticks\":\"\"},\"type\":\"mesh3d\"}],\"parcoords\":[{\"line\":{\"colorbar\":{\"outlinewidth\":0,\"ticks\":\"\"}},\"type\":\"parcoords\"}],\"pie\":[{\"automargin\":true,\"type\":\"pie\"}],\"scatter\":[{\"marker\":{\"colorbar\":{\"outlinewidth\":0,\"ticks\":\"\"}},\"type\":\"scatter\"}],\"scatter3d\":[{\"line\":{\"colorbar\":{\"outlinewidth\":0,\"ticks\":\"\"}},\"marker\":{\"colorbar\":{\"outlinewidth\":0,\"ticks\":\"\"}},\"type\":\"scatter3d\"}],\"scattercarpet\":[{\"marker\":{\"colorbar\":{\"outlinewidth\":0,\"ticks\":\"\"}},\"type\":\"scattercarpet\"}],\"scattergeo\":[{\"marker\":{\"colorbar\":{\"outlinewidth\":0,\"ticks\":\"\"}},\"type\":\"scattergeo\"}],\"scattergl\":[{\"marker\":{\"colorbar\":{\"outlinewidth\":0,\"ticks\":\"\"}},\"type\":\"scattergl\"}],\"scattermapbox\":[{\"marker\":{\"colorbar\":{\"outlinewidth\":0,\"ticks\":\"\"}},\"type\":\"scattermapbox\"}],\"scatterpolar\":[{\"marker\":{\"colorbar\":{\"outlinewidth\":0,\"ticks\":\"\"}},\"type\":\"scatterpolar\"}],\"scatterpolargl\":[{\"marker\":{\"colorbar\":{\"outlinewidth\":0,\"ticks\":\"\"}},\"type\":\"scatterpolargl\"}],\"scatterternary\":[{\"marker\":{\"colorbar\":{\"outlinewidth\":0,\"ticks\":\"\"}},\"type\":\"scatterternary\"}],\"surface\":[{\"colorbar\":{\"outlinewidth\":0,\"ticks\":\"\"},\"colorscale\":[[0.0,\"#0d0887\"],[0.1111111111111111,\"#46039f\"],[0.2222222222222222,\"#7201a8\"],[0.3333333333333333,\"#9c179e\"],[0.4444444444444444,\"#bd3786\"],[0.5555555555555556,\"#d8576b\"],[0.6666666666666666,\"#ed7953\"],[0.7777777777777778,\"#fb9f3a\"],[0.8888888888888888,\"#fdca26\"],[1.0,\"#f0f921\"]],\"type\":\"surface\"}],\"table\":[{\"cells\":{\"fill\":{\"color\":\"#EBF0F8\"},\"line\":{\"color\":\"white\"}},\"header\":{\"fill\":{\"color\":\"#C8D4E3\"},\"line\":{\"color\":\"white\"}},\"type\":\"table\"}]},\"layout\":{\"annotationdefaults\":{\"arrowcolor\":\"#2a3f5f\",\"arrowhead\":0,\"arrowwidth\":1},\"autotypenumbers\":\"strict\",\"coloraxis\":{\"colorbar\":{\"outlinewidth\":0,\"ticks\":\"\"}},\"colorscale\":{\"diverging\":[[0,\"#8e0152\"],[0.1,\"#c51b7d\"],[0.2,\"#de77ae\"],[0.3,\"#f1b6da\"],[0.4,\"#fde0ef\"],[0.5,\"#f7f7f7\"],[0.6,\"#e6f5d0\"],[0.7,\"#b8e186\"],[0.8,\"#7fbc41\"],[0.9,\"#4d9221\"],[1,\"#276419\"]],\"sequential\":[[0.0,\"#0d0887\"],[0.1111111111111111,\"#46039f\"],[0.2222222222222222,\"#7201a8\"],[0.3333333333333333,\"#9c179e\"],[0.4444444444444444,\"#bd3786\"],[0.5555555555555556,\"#d8576b\"],[0.6666666666666666,\"#ed7953\"],[0.7777777777777778,\"#fb9f3a\"],[0.8888888888888888,\"#fdca26\"],[1.0,\"#f0f921\"]],\"sequentialminus\":[[0.0,\"#0d0887\"],[0.1111111111111111,\"#46039f\"],[0.2222222222222222,\"#7201a8\"],[0.3333333333333333,\"#9c179e\"],[0.4444444444444444,\"#bd3786\"],[0.5555555555555556,\"#d8576b\"],[0.6666666666666666,\"#ed7953\"],[0.7777777777777778,\"#fb9f3a\"],[0.8888888888888888,\"#fdca26\"],[1.0,\"#f0f921\"]]},\"colorway\":[\"#636efa\",\"#EF553B\",\"#00cc96\",\"#ab63fa\",\"#FFA15A\",\"#19d3f3\",\"#FF6692\",\"#B6E880\",\"#FF97FF\",\"#FECB52\"],\"font\":{\"color\":\"#2a3f5f\"},\"geo\":{\"bgcolor\":\"white\",\"lakecolor\":\"white\",\"landcolor\":\"#E5ECF6\",\"showlakes\":true,\"showland\":true,\"subunitcolor\":\"white\"},\"hoverlabel\":{\"align\":\"left\"},\"hovermode\":\"closest\",\"mapbox\":{\"style\":\"light\"},\"paper_bgcolor\":\"white\",\"plot_bgcolor\":\"#E5ECF6\",\"polar\":{\"angularaxis\":{\"gridcolor\":\"white\",\"linecolor\":\"white\",\"ticks\":\"\"},\"bgcolor\":\"#E5ECF6\",\"radialaxis\":{\"gridcolor\":\"white\",\"linecolor\":\"white\",\"ticks\":\"\"}},\"scene\":{\"xaxis\":{\"backgroundcolor\":\"#E5ECF6\",\"gridcolor\":\"white\",\"gridwidth\":2,\"linecolor\":\"white\",\"showbackground\":true,\"ticks\":\"\",\"zerolinecolor\":\"white\"},\"yaxis\":{\"backgroundcolor\":\"#E5ECF6\",\"gridcolor\":\"white\",\"gridwidth\":2,\"linecolor\":\"white\",\"showbackground\":true,\"ticks\":\"\",\"zerolinecolor\":\"white\"},\"zaxis\":{\"backgroundcolor\":\"#E5ECF6\",\"gridcolor\":\"white\",\"gridwidth\":2,\"linecolor\":\"white\",\"showbackground\":true,\"ticks\":\"\",\"zerolinecolor\":\"white\"}},\"shapedefaults\":{\"line\":{\"color\":\"#2a3f5f\"}},\"ternary\":{\"aaxis\":{\"gridcolor\":\"white\",\"linecolor\":\"white\",\"ticks\":\"\"},\"baxis\":{\"gridcolor\":\"white\",\"linecolor\":\"white\",\"ticks\":\"\"},\"bgcolor\":\"#E5ECF6\",\"caxis\":{\"gridcolor\":\"white\",\"linecolor\":\"white\",\"ticks\":\"\"}},\"title\":{\"x\":0.05},\"xaxis\":{\"automargin\":true,\"gridcolor\":\"white\",\"linecolor\":\"white\",\"ticks\":\"\",\"title\":{\"standoff\":15},\"zerolinecolor\":\"white\",\"zerolinewidth\":2},\"yaxis\":{\"automargin\":true,\"gridcolor\":\"white\",\"linecolor\":\"white\",\"ticks\":\"\",\"title\":{\"standoff\":15},\"zerolinecolor\":\"white\",\"zerolinewidth\":2}}},\"title\":{\"text\":\"Optimization History Plot\"},\"xaxis\":{\"title\":{\"text\":\"#Trials\"}},\"yaxis\":{\"title\":{\"text\":\"Objective Value\"}}},                        {\"responsive\": true}                    ).then(function(){\n",
       "                            \n",
       "var gd = document.getElementById('8caaf5ab-5b19-491a-a9b5-c05eb7301e8c');\n",
       "var x = new MutationObserver(function (mutations, observer) {{\n",
       "        var display = window.getComputedStyle(gd).display;\n",
       "        if (!display || display === 'none') {{\n",
       "            console.log([gd, 'removed!']);\n",
       "            Plotly.purge(gd);\n",
       "            observer.disconnect();\n",
       "        }}\n",
       "}});\n",
       "\n",
       "// Listen for the removal of the full notebook cells\n",
       "var notebookContainer = gd.closest('#notebook-container');\n",
       "if (notebookContainer) {{\n",
       "    x.observe(notebookContainer, {childList: true});\n",
       "}}\n",
       "\n",
       "// Listen for the clearing of the current output cell\n",
       "var outputEl = gd.closest('.output');\n",
       "if (outputEl) {{\n",
       "    x.observe(outputEl, {childList: true});\n",
       "}}\n",
       "\n",
       "                        })                };                });            </script>        </div>"
      ]
     },
     "metadata": {},
     "output_type": "display_data"
    }
   ],
   "source": [
    "###################################################################################################\n",
    "# Plot functions\n",
    "# --------------\n",
    "# Visualize the optimization history. See :func:`~optuna.visualization.plot_optimization_history` for the details.\n",
    "plot_optimization_history(study)"
   ]
  },
  {
   "cell_type": "code",
   "execution_count": 210,
   "metadata": {
    "ExecuteTime": {
     "end_time": "2021-11-16T02:38:47.449077Z",
     "start_time": "2021-11-16T02:38:47.435074Z"
    },
    "executionInfo": {
     "elapsed": 6,
     "status": "ok",
     "timestamp": 1635585757338,
     "user": {
      "displayName": "Rogério Delfim",
      "photoUrl": "https://lh3.googleusercontent.com/a-/AOh14Gj8lDYWTfZHU0U0sMojRPio71Ec7YDcSEpCaOEE=s64",
      "userId": "04235763959036945343"
     },
     "user_tz": 180
    },
    "id": "XbL1Cd57i347"
   },
   "outputs": [],
   "source": [
    "#plot_intermediate_values(study)\n",
    "###################################################################################################\n",
    "# Visualize the learning curves of the trials. See :func:`~optuna.visualization.plot_intermediate_values` for the details.\n",
    "#plot_intermediate_values(study)"
   ]
  },
  {
   "cell_type": "code",
   "execution_count": 211,
   "metadata": {
    "ExecuteTime": {
     "end_time": "2021-11-16T02:38:47.481115Z",
     "start_time": "2021-11-16T02:38:47.452078Z"
    },
    "colab": {
     "base_uri": "https://localhost:8080/",
     "height": 542
    },
    "executionInfo": {
     "elapsed": 567,
     "status": "ok",
     "timestamp": 1635585757900,
     "user": {
      "displayName": "Rogério Delfim",
      "photoUrl": "https://lh3.googleusercontent.com/a-/AOh14Gj8lDYWTfZHU0U0sMojRPio71Ec7YDcSEpCaOEE=s64",
      "userId": "04235763959036945343"
     },
     "user_tz": 180
    },
    "id": "nIOk6e4Li347",
    "outputId": "650843ce-5958-4671-d88c-65272b074fd1"
   },
   "outputs": [
    {
     "data": {
      "application/vnd.plotly.v1+json": {
       "config": {
        "plotlyServerURL": "https://plot.ly"
       },
       "data": [
        {
         "dimensions": [
          {
           "label": "Objective Value",
           "range": [
            0.7446271602328614,
            0.7475508276908519
           ],
           "values": [
            0.7462028568026117,
            0.7468671356226879,
            0.7446271602328614,
            0.7467031975302494,
            0.7460829627711654,
            0.7446776105491562,
            0.7446776105491562,
            0.7466252832370771,
            0.7460107552750637,
            0.7449768066194079,
            0.746314622221222,
            0.7467053268797834,
            0.7468671356226879,
            0.746314622221222,
            0.7471556398039434,
            0.7474407544986015,
            0.7475508276908519,
            0.7469177955534857,
            0.7449300593738986,
            0.7470960920899555
           ]
          },
          {
           "label": "loss",
           "range": [
            0,
            1
           ],
           "ticktext": [
            "modified_huber",
            "log"
           ],
           "tickvals": [
            0,
            1
           ],
           "values": [
            0,
            0,
            1,
            0,
            0,
            1,
            1,
            0,
            0,
            1,
            0,
            0,
            0,
            0,
            0,
            0,
            0,
            0,
            1,
            0
           ]
          },
          {
           "label": "max_iter",
           "range": [
            715,
            997
           ],
           "values": [
            825,
            962,
            715,
            912,
            854,
            861,
            755,
            898,
            864,
            759,
            983,
            961,
            992,
            997,
            943,
            935,
            926,
            914,
            827,
            889
           ]
          },
          {
           "label": "penalty",
           "range": [
            0,
            0
           ],
           "ticktext": [
            "l2"
           ],
           "tickvals": [
            0
           ],
           "values": [
            0,
            0,
            0,
            0,
            0,
            0,
            0,
            0,
            0,
            0,
            0,
            0,
            0,
            0,
            0,
            0,
            0,
            0,
            0,
            0
           ]
          },
          {
           "label": "random_state",
           "range": [
            12359,
            12359
           ],
           "values": [
            12359,
            12359,
            12359,
            12359,
            12359,
            12359,
            12359,
            12359,
            12359,
            12359,
            12359,
            12359,
            12359,
            12359,
            12359,
            12359,
            12359,
            12359,
            12359,
            12359
           ]
          },
          {
           "label": "tol",
           "range": [
            0.0001831589739233248,
            0.004676446785153434
           ],
           "values": [
            0.003830623154276751,
            0.0024733434165152184,
            0.001624003028478911,
            0.0018092349420100755,
            0.0034193171408126773,
            0.00460485031904171,
            0.004676446785153434,
            0.001721587814127942,
            0.00453507321892875,
            0.0004066376385951137,
            0.0028140591225261193,
            0.002007131748076453,
            0.0025058648042042726,
            0.002727784199164067,
            0.0008203131460502856,
            0.0006022076122239066,
            0.0003923834338699613,
            0.0009531861269208458,
            0.0001831589739233248,
            0.0011254664032060617
           ]
          }
         ],
         "labelangle": 30,
         "labelside": "bottom",
         "line": {
          "color": [
           0.7462028568026117,
           0.7468671356226879,
           0.7446271602328614,
           0.7467031975302494,
           0.7460829627711654,
           0.7446776105491562,
           0.7446776105491562,
           0.7466252832370771,
           0.7460107552750637,
           0.7449768066194079,
           0.746314622221222,
           0.7467053268797834,
           0.7468671356226879,
           0.746314622221222,
           0.7471556398039434,
           0.7474407544986015,
           0.7475508276908519,
           0.7469177955534857,
           0.7449300593738986,
           0.7470960920899555
          ],
          "colorbar": {
           "title": {
            "text": "Objective Value"
           }
          },
          "colorscale": [
           [
            0,
            "rgb(247,251,255)"
           ],
           [
            0.125,
            "rgb(222,235,247)"
           ],
           [
            0.25,
            "rgb(198,219,239)"
           ],
           [
            0.375,
            "rgb(158,202,225)"
           ],
           [
            0.5,
            "rgb(107,174,214)"
           ],
           [
            0.625,
            "rgb(66,146,198)"
           ],
           [
            0.75,
            "rgb(33,113,181)"
           ],
           [
            0.875,
            "rgb(8,81,156)"
           ],
           [
            1,
            "rgb(8,48,107)"
           ]
          ],
          "reversescale": false,
          "showscale": true
         },
         "type": "parcoords"
        }
       ],
       "layout": {
        "template": {
         "data": {
          "bar": [
           {
            "error_x": {
             "color": "#2a3f5f"
            },
            "error_y": {
             "color": "#2a3f5f"
            },
            "marker": {
             "line": {
              "color": "#E5ECF6",
              "width": 0.5
             },
             "pattern": {
              "fillmode": "overlay",
              "size": 10,
              "solidity": 0.2
             }
            },
            "type": "bar"
           }
          ],
          "barpolar": [
           {
            "marker": {
             "line": {
              "color": "#E5ECF6",
              "width": 0.5
             },
             "pattern": {
              "fillmode": "overlay",
              "size": 10,
              "solidity": 0.2
             }
            },
            "type": "barpolar"
           }
          ],
          "carpet": [
           {
            "aaxis": {
             "endlinecolor": "#2a3f5f",
             "gridcolor": "white",
             "linecolor": "white",
             "minorgridcolor": "white",
             "startlinecolor": "#2a3f5f"
            },
            "baxis": {
             "endlinecolor": "#2a3f5f",
             "gridcolor": "white",
             "linecolor": "white",
             "minorgridcolor": "white",
             "startlinecolor": "#2a3f5f"
            },
            "type": "carpet"
           }
          ],
          "choropleth": [
           {
            "colorbar": {
             "outlinewidth": 0,
             "ticks": ""
            },
            "type": "choropleth"
           }
          ],
          "contour": [
           {
            "colorbar": {
             "outlinewidth": 0,
             "ticks": ""
            },
            "colorscale": [
             [
              0,
              "#0d0887"
             ],
             [
              0.1111111111111111,
              "#46039f"
             ],
             [
              0.2222222222222222,
              "#7201a8"
             ],
             [
              0.3333333333333333,
              "#9c179e"
             ],
             [
              0.4444444444444444,
              "#bd3786"
             ],
             [
              0.5555555555555556,
              "#d8576b"
             ],
             [
              0.6666666666666666,
              "#ed7953"
             ],
             [
              0.7777777777777778,
              "#fb9f3a"
             ],
             [
              0.8888888888888888,
              "#fdca26"
             ],
             [
              1,
              "#f0f921"
             ]
            ],
            "type": "contour"
           }
          ],
          "contourcarpet": [
           {
            "colorbar": {
             "outlinewidth": 0,
             "ticks": ""
            },
            "type": "contourcarpet"
           }
          ],
          "heatmap": [
           {
            "colorbar": {
             "outlinewidth": 0,
             "ticks": ""
            },
            "colorscale": [
             [
              0,
              "#0d0887"
             ],
             [
              0.1111111111111111,
              "#46039f"
             ],
             [
              0.2222222222222222,
              "#7201a8"
             ],
             [
              0.3333333333333333,
              "#9c179e"
             ],
             [
              0.4444444444444444,
              "#bd3786"
             ],
             [
              0.5555555555555556,
              "#d8576b"
             ],
             [
              0.6666666666666666,
              "#ed7953"
             ],
             [
              0.7777777777777778,
              "#fb9f3a"
             ],
             [
              0.8888888888888888,
              "#fdca26"
             ],
             [
              1,
              "#f0f921"
             ]
            ],
            "type": "heatmap"
           }
          ],
          "heatmapgl": [
           {
            "colorbar": {
             "outlinewidth": 0,
             "ticks": ""
            },
            "colorscale": [
             [
              0,
              "#0d0887"
             ],
             [
              0.1111111111111111,
              "#46039f"
             ],
             [
              0.2222222222222222,
              "#7201a8"
             ],
             [
              0.3333333333333333,
              "#9c179e"
             ],
             [
              0.4444444444444444,
              "#bd3786"
             ],
             [
              0.5555555555555556,
              "#d8576b"
             ],
             [
              0.6666666666666666,
              "#ed7953"
             ],
             [
              0.7777777777777778,
              "#fb9f3a"
             ],
             [
              0.8888888888888888,
              "#fdca26"
             ],
             [
              1,
              "#f0f921"
             ]
            ],
            "type": "heatmapgl"
           }
          ],
          "histogram": [
           {
            "marker": {
             "pattern": {
              "fillmode": "overlay",
              "size": 10,
              "solidity": 0.2
             }
            },
            "type": "histogram"
           }
          ],
          "histogram2d": [
           {
            "colorbar": {
             "outlinewidth": 0,
             "ticks": ""
            },
            "colorscale": [
             [
              0,
              "#0d0887"
             ],
             [
              0.1111111111111111,
              "#46039f"
             ],
             [
              0.2222222222222222,
              "#7201a8"
             ],
             [
              0.3333333333333333,
              "#9c179e"
             ],
             [
              0.4444444444444444,
              "#bd3786"
             ],
             [
              0.5555555555555556,
              "#d8576b"
             ],
             [
              0.6666666666666666,
              "#ed7953"
             ],
             [
              0.7777777777777778,
              "#fb9f3a"
             ],
             [
              0.8888888888888888,
              "#fdca26"
             ],
             [
              1,
              "#f0f921"
             ]
            ],
            "type": "histogram2d"
           }
          ],
          "histogram2dcontour": [
           {
            "colorbar": {
             "outlinewidth": 0,
             "ticks": ""
            },
            "colorscale": [
             [
              0,
              "#0d0887"
             ],
             [
              0.1111111111111111,
              "#46039f"
             ],
             [
              0.2222222222222222,
              "#7201a8"
             ],
             [
              0.3333333333333333,
              "#9c179e"
             ],
             [
              0.4444444444444444,
              "#bd3786"
             ],
             [
              0.5555555555555556,
              "#d8576b"
             ],
             [
              0.6666666666666666,
              "#ed7953"
             ],
             [
              0.7777777777777778,
              "#fb9f3a"
             ],
             [
              0.8888888888888888,
              "#fdca26"
             ],
             [
              1,
              "#f0f921"
             ]
            ],
            "type": "histogram2dcontour"
           }
          ],
          "mesh3d": [
           {
            "colorbar": {
             "outlinewidth": 0,
             "ticks": ""
            },
            "type": "mesh3d"
           }
          ],
          "parcoords": [
           {
            "line": {
             "colorbar": {
              "outlinewidth": 0,
              "ticks": ""
             }
            },
            "type": "parcoords"
           }
          ],
          "pie": [
           {
            "automargin": true,
            "type": "pie"
           }
          ],
          "scatter": [
           {
            "marker": {
             "colorbar": {
              "outlinewidth": 0,
              "ticks": ""
             }
            },
            "type": "scatter"
           }
          ],
          "scatter3d": [
           {
            "line": {
             "colorbar": {
              "outlinewidth": 0,
              "ticks": ""
             }
            },
            "marker": {
             "colorbar": {
              "outlinewidth": 0,
              "ticks": ""
             }
            },
            "type": "scatter3d"
           }
          ],
          "scattercarpet": [
           {
            "marker": {
             "colorbar": {
              "outlinewidth": 0,
              "ticks": ""
             }
            },
            "type": "scattercarpet"
           }
          ],
          "scattergeo": [
           {
            "marker": {
             "colorbar": {
              "outlinewidth": 0,
              "ticks": ""
             }
            },
            "type": "scattergeo"
           }
          ],
          "scattergl": [
           {
            "marker": {
             "colorbar": {
              "outlinewidth": 0,
              "ticks": ""
             }
            },
            "type": "scattergl"
           }
          ],
          "scattermapbox": [
           {
            "marker": {
             "colorbar": {
              "outlinewidth": 0,
              "ticks": ""
             }
            },
            "type": "scattermapbox"
           }
          ],
          "scatterpolar": [
           {
            "marker": {
             "colorbar": {
              "outlinewidth": 0,
              "ticks": ""
             }
            },
            "type": "scatterpolar"
           }
          ],
          "scatterpolargl": [
           {
            "marker": {
             "colorbar": {
              "outlinewidth": 0,
              "ticks": ""
             }
            },
            "type": "scatterpolargl"
           }
          ],
          "scatterternary": [
           {
            "marker": {
             "colorbar": {
              "outlinewidth": 0,
              "ticks": ""
             }
            },
            "type": "scatterternary"
           }
          ],
          "surface": [
           {
            "colorbar": {
             "outlinewidth": 0,
             "ticks": ""
            },
            "colorscale": [
             [
              0,
              "#0d0887"
             ],
             [
              0.1111111111111111,
              "#46039f"
             ],
             [
              0.2222222222222222,
              "#7201a8"
             ],
             [
              0.3333333333333333,
              "#9c179e"
             ],
             [
              0.4444444444444444,
              "#bd3786"
             ],
             [
              0.5555555555555556,
              "#d8576b"
             ],
             [
              0.6666666666666666,
              "#ed7953"
             ],
             [
              0.7777777777777778,
              "#fb9f3a"
             ],
             [
              0.8888888888888888,
              "#fdca26"
             ],
             [
              1,
              "#f0f921"
             ]
            ],
            "type": "surface"
           }
          ],
          "table": [
           {
            "cells": {
             "fill": {
              "color": "#EBF0F8"
             },
             "line": {
              "color": "white"
             }
            },
            "header": {
             "fill": {
              "color": "#C8D4E3"
             },
             "line": {
              "color": "white"
             }
            },
            "type": "table"
           }
          ]
         },
         "layout": {
          "annotationdefaults": {
           "arrowcolor": "#2a3f5f",
           "arrowhead": 0,
           "arrowwidth": 1
          },
          "autotypenumbers": "strict",
          "coloraxis": {
           "colorbar": {
            "outlinewidth": 0,
            "ticks": ""
           }
          },
          "colorscale": {
           "diverging": [
            [
             0,
             "#8e0152"
            ],
            [
             0.1,
             "#c51b7d"
            ],
            [
             0.2,
             "#de77ae"
            ],
            [
             0.3,
             "#f1b6da"
            ],
            [
             0.4,
             "#fde0ef"
            ],
            [
             0.5,
             "#f7f7f7"
            ],
            [
             0.6,
             "#e6f5d0"
            ],
            [
             0.7,
             "#b8e186"
            ],
            [
             0.8,
             "#7fbc41"
            ],
            [
             0.9,
             "#4d9221"
            ],
            [
             1,
             "#276419"
            ]
           ],
           "sequential": [
            [
             0,
             "#0d0887"
            ],
            [
             0.1111111111111111,
             "#46039f"
            ],
            [
             0.2222222222222222,
             "#7201a8"
            ],
            [
             0.3333333333333333,
             "#9c179e"
            ],
            [
             0.4444444444444444,
             "#bd3786"
            ],
            [
             0.5555555555555556,
             "#d8576b"
            ],
            [
             0.6666666666666666,
             "#ed7953"
            ],
            [
             0.7777777777777778,
             "#fb9f3a"
            ],
            [
             0.8888888888888888,
             "#fdca26"
            ],
            [
             1,
             "#f0f921"
            ]
           ],
           "sequentialminus": [
            [
             0,
             "#0d0887"
            ],
            [
             0.1111111111111111,
             "#46039f"
            ],
            [
             0.2222222222222222,
             "#7201a8"
            ],
            [
             0.3333333333333333,
             "#9c179e"
            ],
            [
             0.4444444444444444,
             "#bd3786"
            ],
            [
             0.5555555555555556,
             "#d8576b"
            ],
            [
             0.6666666666666666,
             "#ed7953"
            ],
            [
             0.7777777777777778,
             "#fb9f3a"
            ],
            [
             0.8888888888888888,
             "#fdca26"
            ],
            [
             1,
             "#f0f921"
            ]
           ]
          },
          "colorway": [
           "#636efa",
           "#EF553B",
           "#00cc96",
           "#ab63fa",
           "#FFA15A",
           "#19d3f3",
           "#FF6692",
           "#B6E880",
           "#FF97FF",
           "#FECB52"
          ],
          "font": {
           "color": "#2a3f5f"
          },
          "geo": {
           "bgcolor": "white",
           "lakecolor": "white",
           "landcolor": "#E5ECF6",
           "showlakes": true,
           "showland": true,
           "subunitcolor": "white"
          },
          "hoverlabel": {
           "align": "left"
          },
          "hovermode": "closest",
          "mapbox": {
           "style": "light"
          },
          "paper_bgcolor": "white",
          "plot_bgcolor": "#E5ECF6",
          "polar": {
           "angularaxis": {
            "gridcolor": "white",
            "linecolor": "white",
            "ticks": ""
           },
           "bgcolor": "#E5ECF6",
           "radialaxis": {
            "gridcolor": "white",
            "linecolor": "white",
            "ticks": ""
           }
          },
          "scene": {
           "xaxis": {
            "backgroundcolor": "#E5ECF6",
            "gridcolor": "white",
            "gridwidth": 2,
            "linecolor": "white",
            "showbackground": true,
            "ticks": "",
            "zerolinecolor": "white"
           },
           "yaxis": {
            "backgroundcolor": "#E5ECF6",
            "gridcolor": "white",
            "gridwidth": 2,
            "linecolor": "white",
            "showbackground": true,
            "ticks": "",
            "zerolinecolor": "white"
           },
           "zaxis": {
            "backgroundcolor": "#E5ECF6",
            "gridcolor": "white",
            "gridwidth": 2,
            "linecolor": "white",
            "showbackground": true,
            "ticks": "",
            "zerolinecolor": "white"
           }
          },
          "shapedefaults": {
           "line": {
            "color": "#2a3f5f"
           }
          },
          "ternary": {
           "aaxis": {
            "gridcolor": "white",
            "linecolor": "white",
            "ticks": ""
           },
           "baxis": {
            "gridcolor": "white",
            "linecolor": "white",
            "ticks": ""
           },
           "bgcolor": "#E5ECF6",
           "caxis": {
            "gridcolor": "white",
            "linecolor": "white",
            "ticks": ""
           }
          },
          "title": {
           "x": 0.05
          },
          "xaxis": {
           "automargin": true,
           "gridcolor": "white",
           "linecolor": "white",
           "ticks": "",
           "title": {
            "standoff": 15
           },
           "zerolinecolor": "white",
           "zerolinewidth": 2
          },
          "yaxis": {
           "automargin": true,
           "gridcolor": "white",
           "linecolor": "white",
           "ticks": "",
           "title": {
            "standoff": 15
           },
           "zerolinecolor": "white",
           "zerolinewidth": 2
          }
         }
        },
        "title": {
         "text": "Parallel Coordinate Plot"
        }
       }
      },
      "text/html": [
       "<div>                            <div id=\"d7070b9c-fd0b-433a-be30-e12f716c10f9\" class=\"plotly-graph-div\" style=\"height:525px; width:100%;\"></div>            <script type=\"text/javascript\">                require([\"plotly\"], function(Plotly) {                    window.PLOTLYENV=window.PLOTLYENV || {};                                    if (document.getElementById(\"d7070b9c-fd0b-433a-be30-e12f716c10f9\")) {                    Plotly.newPlot(                        \"d7070b9c-fd0b-433a-be30-e12f716c10f9\",                        [{\"dimensions\":[{\"label\":\"Objective Value\",\"range\":[0.7446271602328614,0.7475508276908519],\"values\":[0.7462028568026117,0.7468671356226879,0.7446271602328614,0.7467031975302494,0.7460829627711654,0.7446776105491562,0.7446776105491562,0.7466252832370771,0.7460107552750637,0.7449768066194079,0.746314622221222,0.7467053268797834,0.7468671356226879,0.746314622221222,0.7471556398039434,0.7474407544986015,0.7475508276908519,0.7469177955534857,0.7449300593738986,0.7470960920899555]},{\"label\":\"loss\",\"range\":[0,1],\"ticktext\":[\"modified_huber\",\"log\"],\"tickvals\":[0,1],\"values\":[0,0,1,0,0,1,1,0,0,1,0,0,0,0,0,0,0,0,1,0]},{\"label\":\"max_iter\",\"range\":[715,997],\"values\":[825,962,715,912,854,861,755,898,864,759,983,961,992,997,943,935,926,914,827,889]},{\"label\":\"penalty\",\"range\":[0,0],\"ticktext\":[\"l2\"],\"tickvals\":[0],\"values\":[0,0,0,0,0,0,0,0,0,0,0,0,0,0,0,0,0,0,0,0]},{\"label\":\"random_state\",\"range\":[12359,12359],\"values\":[12359,12359,12359,12359,12359,12359,12359,12359,12359,12359,12359,12359,12359,12359,12359,12359,12359,12359,12359,12359]},{\"label\":\"tol\",\"range\":[0.0001831589739233248,0.004676446785153434],\"values\":[0.003830623154276751,0.0024733434165152184,0.001624003028478911,0.0018092349420100755,0.0034193171408126773,0.00460485031904171,0.004676446785153434,0.001721587814127942,0.00453507321892875,0.0004066376385951137,0.0028140591225261193,0.002007131748076453,0.0025058648042042726,0.002727784199164067,0.0008203131460502856,0.0006022076122239066,0.0003923834338699613,0.0009531861269208458,0.0001831589739233248,0.0011254664032060617]}],\"labelangle\":30,\"labelside\":\"bottom\",\"line\":{\"color\":[0.7462028568026117,0.7468671356226879,0.7446271602328614,0.7467031975302494,0.7460829627711654,0.7446776105491562,0.7446776105491562,0.7466252832370771,0.7460107552750637,0.7449768066194079,0.746314622221222,0.7467053268797834,0.7468671356226879,0.746314622221222,0.7471556398039434,0.7474407544986015,0.7475508276908519,0.7469177955534857,0.7449300593738986,0.7470960920899555],\"colorbar\":{\"title\":{\"text\":\"Objective Value\"}},\"colorscale\":[[0.0,\"rgb(247,251,255)\"],[0.125,\"rgb(222,235,247)\"],[0.25,\"rgb(198,219,239)\"],[0.375,\"rgb(158,202,225)\"],[0.5,\"rgb(107,174,214)\"],[0.625,\"rgb(66,146,198)\"],[0.75,\"rgb(33,113,181)\"],[0.875,\"rgb(8,81,156)\"],[1.0,\"rgb(8,48,107)\"]],\"reversescale\":false,\"showscale\":true},\"type\":\"parcoords\"}],                        {\"template\":{\"data\":{\"bar\":[{\"error_x\":{\"color\":\"#2a3f5f\"},\"error_y\":{\"color\":\"#2a3f5f\"},\"marker\":{\"line\":{\"color\":\"#E5ECF6\",\"width\":0.5},\"pattern\":{\"fillmode\":\"overlay\",\"size\":10,\"solidity\":0.2}},\"type\":\"bar\"}],\"barpolar\":[{\"marker\":{\"line\":{\"color\":\"#E5ECF6\",\"width\":0.5},\"pattern\":{\"fillmode\":\"overlay\",\"size\":10,\"solidity\":0.2}},\"type\":\"barpolar\"}],\"carpet\":[{\"aaxis\":{\"endlinecolor\":\"#2a3f5f\",\"gridcolor\":\"white\",\"linecolor\":\"white\",\"minorgridcolor\":\"white\",\"startlinecolor\":\"#2a3f5f\"},\"baxis\":{\"endlinecolor\":\"#2a3f5f\",\"gridcolor\":\"white\",\"linecolor\":\"white\",\"minorgridcolor\":\"white\",\"startlinecolor\":\"#2a3f5f\"},\"type\":\"carpet\"}],\"choropleth\":[{\"colorbar\":{\"outlinewidth\":0,\"ticks\":\"\"},\"type\":\"choropleth\"}],\"contour\":[{\"colorbar\":{\"outlinewidth\":0,\"ticks\":\"\"},\"colorscale\":[[0.0,\"#0d0887\"],[0.1111111111111111,\"#46039f\"],[0.2222222222222222,\"#7201a8\"],[0.3333333333333333,\"#9c179e\"],[0.4444444444444444,\"#bd3786\"],[0.5555555555555556,\"#d8576b\"],[0.6666666666666666,\"#ed7953\"],[0.7777777777777778,\"#fb9f3a\"],[0.8888888888888888,\"#fdca26\"],[1.0,\"#f0f921\"]],\"type\":\"contour\"}],\"contourcarpet\":[{\"colorbar\":{\"outlinewidth\":0,\"ticks\":\"\"},\"type\":\"contourcarpet\"}],\"heatmap\":[{\"colorbar\":{\"outlinewidth\":0,\"ticks\":\"\"},\"colorscale\":[[0.0,\"#0d0887\"],[0.1111111111111111,\"#46039f\"],[0.2222222222222222,\"#7201a8\"],[0.3333333333333333,\"#9c179e\"],[0.4444444444444444,\"#bd3786\"],[0.5555555555555556,\"#d8576b\"],[0.6666666666666666,\"#ed7953\"],[0.7777777777777778,\"#fb9f3a\"],[0.8888888888888888,\"#fdca26\"],[1.0,\"#f0f921\"]],\"type\":\"heatmap\"}],\"heatmapgl\":[{\"colorbar\":{\"outlinewidth\":0,\"ticks\":\"\"},\"colorscale\":[[0.0,\"#0d0887\"],[0.1111111111111111,\"#46039f\"],[0.2222222222222222,\"#7201a8\"],[0.3333333333333333,\"#9c179e\"],[0.4444444444444444,\"#bd3786\"],[0.5555555555555556,\"#d8576b\"],[0.6666666666666666,\"#ed7953\"],[0.7777777777777778,\"#fb9f3a\"],[0.8888888888888888,\"#fdca26\"],[1.0,\"#f0f921\"]],\"type\":\"heatmapgl\"}],\"histogram\":[{\"marker\":{\"pattern\":{\"fillmode\":\"overlay\",\"size\":10,\"solidity\":0.2}},\"type\":\"histogram\"}],\"histogram2d\":[{\"colorbar\":{\"outlinewidth\":0,\"ticks\":\"\"},\"colorscale\":[[0.0,\"#0d0887\"],[0.1111111111111111,\"#46039f\"],[0.2222222222222222,\"#7201a8\"],[0.3333333333333333,\"#9c179e\"],[0.4444444444444444,\"#bd3786\"],[0.5555555555555556,\"#d8576b\"],[0.6666666666666666,\"#ed7953\"],[0.7777777777777778,\"#fb9f3a\"],[0.8888888888888888,\"#fdca26\"],[1.0,\"#f0f921\"]],\"type\":\"histogram2d\"}],\"histogram2dcontour\":[{\"colorbar\":{\"outlinewidth\":0,\"ticks\":\"\"},\"colorscale\":[[0.0,\"#0d0887\"],[0.1111111111111111,\"#46039f\"],[0.2222222222222222,\"#7201a8\"],[0.3333333333333333,\"#9c179e\"],[0.4444444444444444,\"#bd3786\"],[0.5555555555555556,\"#d8576b\"],[0.6666666666666666,\"#ed7953\"],[0.7777777777777778,\"#fb9f3a\"],[0.8888888888888888,\"#fdca26\"],[1.0,\"#f0f921\"]],\"type\":\"histogram2dcontour\"}],\"mesh3d\":[{\"colorbar\":{\"outlinewidth\":0,\"ticks\":\"\"},\"type\":\"mesh3d\"}],\"parcoords\":[{\"line\":{\"colorbar\":{\"outlinewidth\":0,\"ticks\":\"\"}},\"type\":\"parcoords\"}],\"pie\":[{\"automargin\":true,\"type\":\"pie\"}],\"scatter\":[{\"marker\":{\"colorbar\":{\"outlinewidth\":0,\"ticks\":\"\"}},\"type\":\"scatter\"}],\"scatter3d\":[{\"line\":{\"colorbar\":{\"outlinewidth\":0,\"ticks\":\"\"}},\"marker\":{\"colorbar\":{\"outlinewidth\":0,\"ticks\":\"\"}},\"type\":\"scatter3d\"}],\"scattercarpet\":[{\"marker\":{\"colorbar\":{\"outlinewidth\":0,\"ticks\":\"\"}},\"type\":\"scattercarpet\"}],\"scattergeo\":[{\"marker\":{\"colorbar\":{\"outlinewidth\":0,\"ticks\":\"\"}},\"type\":\"scattergeo\"}],\"scattergl\":[{\"marker\":{\"colorbar\":{\"outlinewidth\":0,\"ticks\":\"\"}},\"type\":\"scattergl\"}],\"scattermapbox\":[{\"marker\":{\"colorbar\":{\"outlinewidth\":0,\"ticks\":\"\"}},\"type\":\"scattermapbox\"}],\"scatterpolar\":[{\"marker\":{\"colorbar\":{\"outlinewidth\":0,\"ticks\":\"\"}},\"type\":\"scatterpolar\"}],\"scatterpolargl\":[{\"marker\":{\"colorbar\":{\"outlinewidth\":0,\"ticks\":\"\"}},\"type\":\"scatterpolargl\"}],\"scatterternary\":[{\"marker\":{\"colorbar\":{\"outlinewidth\":0,\"ticks\":\"\"}},\"type\":\"scatterternary\"}],\"surface\":[{\"colorbar\":{\"outlinewidth\":0,\"ticks\":\"\"},\"colorscale\":[[0.0,\"#0d0887\"],[0.1111111111111111,\"#46039f\"],[0.2222222222222222,\"#7201a8\"],[0.3333333333333333,\"#9c179e\"],[0.4444444444444444,\"#bd3786\"],[0.5555555555555556,\"#d8576b\"],[0.6666666666666666,\"#ed7953\"],[0.7777777777777778,\"#fb9f3a\"],[0.8888888888888888,\"#fdca26\"],[1.0,\"#f0f921\"]],\"type\":\"surface\"}],\"table\":[{\"cells\":{\"fill\":{\"color\":\"#EBF0F8\"},\"line\":{\"color\":\"white\"}},\"header\":{\"fill\":{\"color\":\"#C8D4E3\"},\"line\":{\"color\":\"white\"}},\"type\":\"table\"}]},\"layout\":{\"annotationdefaults\":{\"arrowcolor\":\"#2a3f5f\",\"arrowhead\":0,\"arrowwidth\":1},\"autotypenumbers\":\"strict\",\"coloraxis\":{\"colorbar\":{\"outlinewidth\":0,\"ticks\":\"\"}},\"colorscale\":{\"diverging\":[[0,\"#8e0152\"],[0.1,\"#c51b7d\"],[0.2,\"#de77ae\"],[0.3,\"#f1b6da\"],[0.4,\"#fde0ef\"],[0.5,\"#f7f7f7\"],[0.6,\"#e6f5d0\"],[0.7,\"#b8e186\"],[0.8,\"#7fbc41\"],[0.9,\"#4d9221\"],[1,\"#276419\"]],\"sequential\":[[0.0,\"#0d0887\"],[0.1111111111111111,\"#46039f\"],[0.2222222222222222,\"#7201a8\"],[0.3333333333333333,\"#9c179e\"],[0.4444444444444444,\"#bd3786\"],[0.5555555555555556,\"#d8576b\"],[0.6666666666666666,\"#ed7953\"],[0.7777777777777778,\"#fb9f3a\"],[0.8888888888888888,\"#fdca26\"],[1.0,\"#f0f921\"]],\"sequentialminus\":[[0.0,\"#0d0887\"],[0.1111111111111111,\"#46039f\"],[0.2222222222222222,\"#7201a8\"],[0.3333333333333333,\"#9c179e\"],[0.4444444444444444,\"#bd3786\"],[0.5555555555555556,\"#d8576b\"],[0.6666666666666666,\"#ed7953\"],[0.7777777777777778,\"#fb9f3a\"],[0.8888888888888888,\"#fdca26\"],[1.0,\"#f0f921\"]]},\"colorway\":[\"#636efa\",\"#EF553B\",\"#00cc96\",\"#ab63fa\",\"#FFA15A\",\"#19d3f3\",\"#FF6692\",\"#B6E880\",\"#FF97FF\",\"#FECB52\"],\"font\":{\"color\":\"#2a3f5f\"},\"geo\":{\"bgcolor\":\"white\",\"lakecolor\":\"white\",\"landcolor\":\"#E5ECF6\",\"showlakes\":true,\"showland\":true,\"subunitcolor\":\"white\"},\"hoverlabel\":{\"align\":\"left\"},\"hovermode\":\"closest\",\"mapbox\":{\"style\":\"light\"},\"paper_bgcolor\":\"white\",\"plot_bgcolor\":\"#E5ECF6\",\"polar\":{\"angularaxis\":{\"gridcolor\":\"white\",\"linecolor\":\"white\",\"ticks\":\"\"},\"bgcolor\":\"#E5ECF6\",\"radialaxis\":{\"gridcolor\":\"white\",\"linecolor\":\"white\",\"ticks\":\"\"}},\"scene\":{\"xaxis\":{\"backgroundcolor\":\"#E5ECF6\",\"gridcolor\":\"white\",\"gridwidth\":2,\"linecolor\":\"white\",\"showbackground\":true,\"ticks\":\"\",\"zerolinecolor\":\"white\"},\"yaxis\":{\"backgroundcolor\":\"#E5ECF6\",\"gridcolor\":\"white\",\"gridwidth\":2,\"linecolor\":\"white\",\"showbackground\":true,\"ticks\":\"\",\"zerolinecolor\":\"white\"},\"zaxis\":{\"backgroundcolor\":\"#E5ECF6\",\"gridcolor\":\"white\",\"gridwidth\":2,\"linecolor\":\"white\",\"showbackground\":true,\"ticks\":\"\",\"zerolinecolor\":\"white\"}},\"shapedefaults\":{\"line\":{\"color\":\"#2a3f5f\"}},\"ternary\":{\"aaxis\":{\"gridcolor\":\"white\",\"linecolor\":\"white\",\"ticks\":\"\"},\"baxis\":{\"gridcolor\":\"white\",\"linecolor\":\"white\",\"ticks\":\"\"},\"bgcolor\":\"#E5ECF6\",\"caxis\":{\"gridcolor\":\"white\",\"linecolor\":\"white\",\"ticks\":\"\"}},\"title\":{\"x\":0.05},\"xaxis\":{\"automargin\":true,\"gridcolor\":\"white\",\"linecolor\":\"white\",\"ticks\":\"\",\"title\":{\"standoff\":15},\"zerolinecolor\":\"white\",\"zerolinewidth\":2},\"yaxis\":{\"automargin\":true,\"gridcolor\":\"white\",\"linecolor\":\"white\",\"ticks\":\"\",\"title\":{\"standoff\":15},\"zerolinecolor\":\"white\",\"zerolinewidth\":2}}},\"title\":{\"text\":\"Parallel Coordinate Plot\"}},                        {\"responsive\": true}                    ).then(function(){\n",
       "                            \n",
       "var gd = document.getElementById('d7070b9c-fd0b-433a-be30-e12f716c10f9');\n",
       "var x = new MutationObserver(function (mutations, observer) {{\n",
       "        var display = window.getComputedStyle(gd).display;\n",
       "        if (!display || display === 'none') {{\n",
       "            console.log([gd, 'removed!']);\n",
       "            Plotly.purge(gd);\n",
       "            observer.disconnect();\n",
       "        }}\n",
       "}});\n",
       "\n",
       "// Listen for the removal of the full notebook cells\n",
       "var notebookContainer = gd.closest('#notebook-container');\n",
       "if (notebookContainer) {{\n",
       "    x.observe(notebookContainer, {childList: true});\n",
       "}}\n",
       "\n",
       "// Listen for the clearing of the current output cell\n",
       "var outputEl = gd.closest('.output');\n",
       "if (outputEl) {{\n",
       "    x.observe(outputEl, {childList: true});\n",
       "}}\n",
       "\n",
       "                        })                };                });            </script>        </div>"
      ]
     },
     "metadata": {},
     "output_type": "display_data"
    }
   ],
   "source": [
    "###################################################################################################\n",
    "# Visualize high-dimensional parameter relationships. See :func:`~optuna.visualization.plot_parallel_coordinate` for the details.\n",
    "plot_parallel_coordinate(study)"
   ]
  },
  {
   "cell_type": "code",
   "execution_count": 212,
   "metadata": {
    "ExecuteTime": {
     "end_time": "2021-11-16T02:38:47.513076Z",
     "start_time": "2021-11-16T02:38:47.483087Z"
    },
    "colab": {
     "base_uri": "https://localhost:8080/",
     "height": 542
    },
    "executionInfo": {
     "elapsed": 16,
     "status": "ok",
     "timestamp": 1635585757900,
     "user": {
      "displayName": "Rogério Delfim",
      "photoUrl": "https://lh3.googleusercontent.com/a-/AOh14Gj8lDYWTfZHU0U0sMojRPio71Ec7YDcSEpCaOEE=s64",
      "userId": "04235763959036945343"
     },
     "user_tz": 180
    },
    "id": "EgZlJAMvi347",
    "outputId": "ac4fca79-1c3b-4322-decc-35b2e92dcf0c"
   },
   "outputs": [
    {
     "data": {
      "application/vnd.plotly.v1+json": {
       "config": {
        "plotlyServerURL": "https://plot.ly"
       },
       "data": [
        {
         "dimensions": [
          {
           "label": "Objective Value",
           "range": [
            0.7446271602328614,
            0.7475508276908519
           ],
           "values": [
            0.7462028568026117,
            0.7468671356226879,
            0.7446271602328614,
            0.7467031975302494,
            0.7460829627711654,
            0.7446776105491562,
            0.7446776105491562,
            0.7466252832370771,
            0.7460107552750637,
            0.7449768066194079,
            0.746314622221222,
            0.7467053268797834,
            0.7468671356226879,
            0.746314622221222,
            0.7471556398039434,
            0.7474407544986015,
            0.7475508276908519,
            0.7469177955534857,
            0.7449300593738986,
            0.7470960920899555
           ]
          },
          {
           "label": "loss",
           "range": [
            0,
            1
           ],
           "ticktext": [
            "modified_huber",
            "log"
           ],
           "tickvals": [
            0,
            1
           ],
           "values": [
            0,
            0,
            1,
            0,
            0,
            1,
            1,
            0,
            0,
            1,
            0,
            0,
            0,
            0,
            0,
            0,
            0,
            0,
            1,
            0
           ]
          },
          {
           "label": "max_iter",
           "range": [
            715,
            997
           ],
           "values": [
            825,
            962,
            715,
            912,
            854,
            861,
            755,
            898,
            864,
            759,
            983,
            961,
            992,
            997,
            943,
            935,
            926,
            914,
            827,
            889
           ]
          },
          {
           "label": "tol",
           "range": [
            0.0001831589739233248,
            0.004676446785153434
           ],
           "values": [
            0.003830623154276751,
            0.0024733434165152184,
            0.001624003028478911,
            0.0018092349420100755,
            0.0034193171408126773,
            0.00460485031904171,
            0.004676446785153434,
            0.001721587814127942,
            0.00453507321892875,
            0.0004066376385951137,
            0.0028140591225261193,
            0.002007131748076453,
            0.0025058648042042726,
            0.002727784199164067,
            0.0008203131460502856,
            0.0006022076122239066,
            0.0003923834338699613,
            0.0009531861269208458,
            0.0001831589739233248,
            0.0011254664032060617
           ]
          }
         ],
         "labelangle": 30,
         "labelside": "bottom",
         "line": {
          "color": [
           0.7462028568026117,
           0.7468671356226879,
           0.7446271602328614,
           0.7467031975302494,
           0.7460829627711654,
           0.7446776105491562,
           0.7446776105491562,
           0.7466252832370771,
           0.7460107552750637,
           0.7449768066194079,
           0.746314622221222,
           0.7467053268797834,
           0.7468671356226879,
           0.746314622221222,
           0.7471556398039434,
           0.7474407544986015,
           0.7475508276908519,
           0.7469177955534857,
           0.7449300593738986,
           0.7470960920899555
          ],
          "colorbar": {
           "title": {
            "text": "Objective Value"
           }
          },
          "colorscale": [
           [
            0,
            "rgb(247,251,255)"
           ],
           [
            0.125,
            "rgb(222,235,247)"
           ],
           [
            0.25,
            "rgb(198,219,239)"
           ],
           [
            0.375,
            "rgb(158,202,225)"
           ],
           [
            0.5,
            "rgb(107,174,214)"
           ],
           [
            0.625,
            "rgb(66,146,198)"
           ],
           [
            0.75,
            "rgb(33,113,181)"
           ],
           [
            0.875,
            "rgb(8,81,156)"
           ],
           [
            1,
            "rgb(8,48,107)"
           ]
          ],
          "reversescale": false,
          "showscale": true
         },
         "type": "parcoords"
        }
       ],
       "layout": {
        "template": {
         "data": {
          "bar": [
           {
            "error_x": {
             "color": "#2a3f5f"
            },
            "error_y": {
             "color": "#2a3f5f"
            },
            "marker": {
             "line": {
              "color": "#E5ECF6",
              "width": 0.5
             },
             "pattern": {
              "fillmode": "overlay",
              "size": 10,
              "solidity": 0.2
             }
            },
            "type": "bar"
           }
          ],
          "barpolar": [
           {
            "marker": {
             "line": {
              "color": "#E5ECF6",
              "width": 0.5
             },
             "pattern": {
              "fillmode": "overlay",
              "size": 10,
              "solidity": 0.2
             }
            },
            "type": "barpolar"
           }
          ],
          "carpet": [
           {
            "aaxis": {
             "endlinecolor": "#2a3f5f",
             "gridcolor": "white",
             "linecolor": "white",
             "minorgridcolor": "white",
             "startlinecolor": "#2a3f5f"
            },
            "baxis": {
             "endlinecolor": "#2a3f5f",
             "gridcolor": "white",
             "linecolor": "white",
             "minorgridcolor": "white",
             "startlinecolor": "#2a3f5f"
            },
            "type": "carpet"
           }
          ],
          "choropleth": [
           {
            "colorbar": {
             "outlinewidth": 0,
             "ticks": ""
            },
            "type": "choropleth"
           }
          ],
          "contour": [
           {
            "colorbar": {
             "outlinewidth": 0,
             "ticks": ""
            },
            "colorscale": [
             [
              0,
              "#0d0887"
             ],
             [
              0.1111111111111111,
              "#46039f"
             ],
             [
              0.2222222222222222,
              "#7201a8"
             ],
             [
              0.3333333333333333,
              "#9c179e"
             ],
             [
              0.4444444444444444,
              "#bd3786"
             ],
             [
              0.5555555555555556,
              "#d8576b"
             ],
             [
              0.6666666666666666,
              "#ed7953"
             ],
             [
              0.7777777777777778,
              "#fb9f3a"
             ],
             [
              0.8888888888888888,
              "#fdca26"
             ],
             [
              1,
              "#f0f921"
             ]
            ],
            "type": "contour"
           }
          ],
          "contourcarpet": [
           {
            "colorbar": {
             "outlinewidth": 0,
             "ticks": ""
            },
            "type": "contourcarpet"
           }
          ],
          "heatmap": [
           {
            "colorbar": {
             "outlinewidth": 0,
             "ticks": ""
            },
            "colorscale": [
             [
              0,
              "#0d0887"
             ],
             [
              0.1111111111111111,
              "#46039f"
             ],
             [
              0.2222222222222222,
              "#7201a8"
             ],
             [
              0.3333333333333333,
              "#9c179e"
             ],
             [
              0.4444444444444444,
              "#bd3786"
             ],
             [
              0.5555555555555556,
              "#d8576b"
             ],
             [
              0.6666666666666666,
              "#ed7953"
             ],
             [
              0.7777777777777778,
              "#fb9f3a"
             ],
             [
              0.8888888888888888,
              "#fdca26"
             ],
             [
              1,
              "#f0f921"
             ]
            ],
            "type": "heatmap"
           }
          ],
          "heatmapgl": [
           {
            "colorbar": {
             "outlinewidth": 0,
             "ticks": ""
            },
            "colorscale": [
             [
              0,
              "#0d0887"
             ],
             [
              0.1111111111111111,
              "#46039f"
             ],
             [
              0.2222222222222222,
              "#7201a8"
             ],
             [
              0.3333333333333333,
              "#9c179e"
             ],
             [
              0.4444444444444444,
              "#bd3786"
             ],
             [
              0.5555555555555556,
              "#d8576b"
             ],
             [
              0.6666666666666666,
              "#ed7953"
             ],
             [
              0.7777777777777778,
              "#fb9f3a"
             ],
             [
              0.8888888888888888,
              "#fdca26"
             ],
             [
              1,
              "#f0f921"
             ]
            ],
            "type": "heatmapgl"
           }
          ],
          "histogram": [
           {
            "marker": {
             "pattern": {
              "fillmode": "overlay",
              "size": 10,
              "solidity": 0.2
             }
            },
            "type": "histogram"
           }
          ],
          "histogram2d": [
           {
            "colorbar": {
             "outlinewidth": 0,
             "ticks": ""
            },
            "colorscale": [
             [
              0,
              "#0d0887"
             ],
             [
              0.1111111111111111,
              "#46039f"
             ],
             [
              0.2222222222222222,
              "#7201a8"
             ],
             [
              0.3333333333333333,
              "#9c179e"
             ],
             [
              0.4444444444444444,
              "#bd3786"
             ],
             [
              0.5555555555555556,
              "#d8576b"
             ],
             [
              0.6666666666666666,
              "#ed7953"
             ],
             [
              0.7777777777777778,
              "#fb9f3a"
             ],
             [
              0.8888888888888888,
              "#fdca26"
             ],
             [
              1,
              "#f0f921"
             ]
            ],
            "type": "histogram2d"
           }
          ],
          "histogram2dcontour": [
           {
            "colorbar": {
             "outlinewidth": 0,
             "ticks": ""
            },
            "colorscale": [
             [
              0,
              "#0d0887"
             ],
             [
              0.1111111111111111,
              "#46039f"
             ],
             [
              0.2222222222222222,
              "#7201a8"
             ],
             [
              0.3333333333333333,
              "#9c179e"
             ],
             [
              0.4444444444444444,
              "#bd3786"
             ],
             [
              0.5555555555555556,
              "#d8576b"
             ],
             [
              0.6666666666666666,
              "#ed7953"
             ],
             [
              0.7777777777777778,
              "#fb9f3a"
             ],
             [
              0.8888888888888888,
              "#fdca26"
             ],
             [
              1,
              "#f0f921"
             ]
            ],
            "type": "histogram2dcontour"
           }
          ],
          "mesh3d": [
           {
            "colorbar": {
             "outlinewidth": 0,
             "ticks": ""
            },
            "type": "mesh3d"
           }
          ],
          "parcoords": [
           {
            "line": {
             "colorbar": {
              "outlinewidth": 0,
              "ticks": ""
             }
            },
            "type": "parcoords"
           }
          ],
          "pie": [
           {
            "automargin": true,
            "type": "pie"
           }
          ],
          "scatter": [
           {
            "marker": {
             "colorbar": {
              "outlinewidth": 0,
              "ticks": ""
             }
            },
            "type": "scatter"
           }
          ],
          "scatter3d": [
           {
            "line": {
             "colorbar": {
              "outlinewidth": 0,
              "ticks": ""
             }
            },
            "marker": {
             "colorbar": {
              "outlinewidth": 0,
              "ticks": ""
             }
            },
            "type": "scatter3d"
           }
          ],
          "scattercarpet": [
           {
            "marker": {
             "colorbar": {
              "outlinewidth": 0,
              "ticks": ""
             }
            },
            "type": "scattercarpet"
           }
          ],
          "scattergeo": [
           {
            "marker": {
             "colorbar": {
              "outlinewidth": 0,
              "ticks": ""
             }
            },
            "type": "scattergeo"
           }
          ],
          "scattergl": [
           {
            "marker": {
             "colorbar": {
              "outlinewidth": 0,
              "ticks": ""
             }
            },
            "type": "scattergl"
           }
          ],
          "scattermapbox": [
           {
            "marker": {
             "colorbar": {
              "outlinewidth": 0,
              "ticks": ""
             }
            },
            "type": "scattermapbox"
           }
          ],
          "scatterpolar": [
           {
            "marker": {
             "colorbar": {
              "outlinewidth": 0,
              "ticks": ""
             }
            },
            "type": "scatterpolar"
           }
          ],
          "scatterpolargl": [
           {
            "marker": {
             "colorbar": {
              "outlinewidth": 0,
              "ticks": ""
             }
            },
            "type": "scatterpolargl"
           }
          ],
          "scatterternary": [
           {
            "marker": {
             "colorbar": {
              "outlinewidth": 0,
              "ticks": ""
             }
            },
            "type": "scatterternary"
           }
          ],
          "surface": [
           {
            "colorbar": {
             "outlinewidth": 0,
             "ticks": ""
            },
            "colorscale": [
             [
              0,
              "#0d0887"
             ],
             [
              0.1111111111111111,
              "#46039f"
             ],
             [
              0.2222222222222222,
              "#7201a8"
             ],
             [
              0.3333333333333333,
              "#9c179e"
             ],
             [
              0.4444444444444444,
              "#bd3786"
             ],
             [
              0.5555555555555556,
              "#d8576b"
             ],
             [
              0.6666666666666666,
              "#ed7953"
             ],
             [
              0.7777777777777778,
              "#fb9f3a"
             ],
             [
              0.8888888888888888,
              "#fdca26"
             ],
             [
              1,
              "#f0f921"
             ]
            ],
            "type": "surface"
           }
          ],
          "table": [
           {
            "cells": {
             "fill": {
              "color": "#EBF0F8"
             },
             "line": {
              "color": "white"
             }
            },
            "header": {
             "fill": {
              "color": "#C8D4E3"
             },
             "line": {
              "color": "white"
             }
            },
            "type": "table"
           }
          ]
         },
         "layout": {
          "annotationdefaults": {
           "arrowcolor": "#2a3f5f",
           "arrowhead": 0,
           "arrowwidth": 1
          },
          "autotypenumbers": "strict",
          "coloraxis": {
           "colorbar": {
            "outlinewidth": 0,
            "ticks": ""
           }
          },
          "colorscale": {
           "diverging": [
            [
             0,
             "#8e0152"
            ],
            [
             0.1,
             "#c51b7d"
            ],
            [
             0.2,
             "#de77ae"
            ],
            [
             0.3,
             "#f1b6da"
            ],
            [
             0.4,
             "#fde0ef"
            ],
            [
             0.5,
             "#f7f7f7"
            ],
            [
             0.6,
             "#e6f5d0"
            ],
            [
             0.7,
             "#b8e186"
            ],
            [
             0.8,
             "#7fbc41"
            ],
            [
             0.9,
             "#4d9221"
            ],
            [
             1,
             "#276419"
            ]
           ],
           "sequential": [
            [
             0,
             "#0d0887"
            ],
            [
             0.1111111111111111,
             "#46039f"
            ],
            [
             0.2222222222222222,
             "#7201a8"
            ],
            [
             0.3333333333333333,
             "#9c179e"
            ],
            [
             0.4444444444444444,
             "#bd3786"
            ],
            [
             0.5555555555555556,
             "#d8576b"
            ],
            [
             0.6666666666666666,
             "#ed7953"
            ],
            [
             0.7777777777777778,
             "#fb9f3a"
            ],
            [
             0.8888888888888888,
             "#fdca26"
            ],
            [
             1,
             "#f0f921"
            ]
           ],
           "sequentialminus": [
            [
             0,
             "#0d0887"
            ],
            [
             0.1111111111111111,
             "#46039f"
            ],
            [
             0.2222222222222222,
             "#7201a8"
            ],
            [
             0.3333333333333333,
             "#9c179e"
            ],
            [
             0.4444444444444444,
             "#bd3786"
            ],
            [
             0.5555555555555556,
             "#d8576b"
            ],
            [
             0.6666666666666666,
             "#ed7953"
            ],
            [
             0.7777777777777778,
             "#fb9f3a"
            ],
            [
             0.8888888888888888,
             "#fdca26"
            ],
            [
             1,
             "#f0f921"
            ]
           ]
          },
          "colorway": [
           "#636efa",
           "#EF553B",
           "#00cc96",
           "#ab63fa",
           "#FFA15A",
           "#19d3f3",
           "#FF6692",
           "#B6E880",
           "#FF97FF",
           "#FECB52"
          ],
          "font": {
           "color": "#2a3f5f"
          },
          "geo": {
           "bgcolor": "white",
           "lakecolor": "white",
           "landcolor": "#E5ECF6",
           "showlakes": true,
           "showland": true,
           "subunitcolor": "white"
          },
          "hoverlabel": {
           "align": "left"
          },
          "hovermode": "closest",
          "mapbox": {
           "style": "light"
          },
          "paper_bgcolor": "white",
          "plot_bgcolor": "#E5ECF6",
          "polar": {
           "angularaxis": {
            "gridcolor": "white",
            "linecolor": "white",
            "ticks": ""
           },
           "bgcolor": "#E5ECF6",
           "radialaxis": {
            "gridcolor": "white",
            "linecolor": "white",
            "ticks": ""
           }
          },
          "scene": {
           "xaxis": {
            "backgroundcolor": "#E5ECF6",
            "gridcolor": "white",
            "gridwidth": 2,
            "linecolor": "white",
            "showbackground": true,
            "ticks": "",
            "zerolinecolor": "white"
           },
           "yaxis": {
            "backgroundcolor": "#E5ECF6",
            "gridcolor": "white",
            "gridwidth": 2,
            "linecolor": "white",
            "showbackground": true,
            "ticks": "",
            "zerolinecolor": "white"
           },
           "zaxis": {
            "backgroundcolor": "#E5ECF6",
            "gridcolor": "white",
            "gridwidth": 2,
            "linecolor": "white",
            "showbackground": true,
            "ticks": "",
            "zerolinecolor": "white"
           }
          },
          "shapedefaults": {
           "line": {
            "color": "#2a3f5f"
           }
          },
          "ternary": {
           "aaxis": {
            "gridcolor": "white",
            "linecolor": "white",
            "ticks": ""
           },
           "baxis": {
            "gridcolor": "white",
            "linecolor": "white",
            "ticks": ""
           },
           "bgcolor": "#E5ECF6",
           "caxis": {
            "gridcolor": "white",
            "linecolor": "white",
            "ticks": ""
           }
          },
          "title": {
           "x": 0.05
          },
          "xaxis": {
           "automargin": true,
           "gridcolor": "white",
           "linecolor": "white",
           "ticks": "",
           "title": {
            "standoff": 15
           },
           "zerolinecolor": "white",
           "zerolinewidth": 2
          },
          "yaxis": {
           "automargin": true,
           "gridcolor": "white",
           "linecolor": "white",
           "ticks": "",
           "title": {
            "standoff": 15
           },
           "zerolinecolor": "white",
           "zerolinewidth": 2
          }
         }
        },
        "title": {
         "text": "Parallel Coordinate Plot"
        }
       }
      },
      "text/html": [
       "<div>                            <div id=\"09ac0de5-695b-4770-b688-f640fbbb44a1\" class=\"plotly-graph-div\" style=\"height:525px; width:100%;\"></div>            <script type=\"text/javascript\">                require([\"plotly\"], function(Plotly) {                    window.PLOTLYENV=window.PLOTLYENV || {};                                    if (document.getElementById(\"09ac0de5-695b-4770-b688-f640fbbb44a1\")) {                    Plotly.newPlot(                        \"09ac0de5-695b-4770-b688-f640fbbb44a1\",                        [{\"dimensions\":[{\"label\":\"Objective Value\",\"range\":[0.7446271602328614,0.7475508276908519],\"values\":[0.7462028568026117,0.7468671356226879,0.7446271602328614,0.7467031975302494,0.7460829627711654,0.7446776105491562,0.7446776105491562,0.7466252832370771,0.7460107552750637,0.7449768066194079,0.746314622221222,0.7467053268797834,0.7468671356226879,0.746314622221222,0.7471556398039434,0.7474407544986015,0.7475508276908519,0.7469177955534857,0.7449300593738986,0.7470960920899555]},{\"label\":\"loss\",\"range\":[0,1],\"ticktext\":[\"modified_huber\",\"log\"],\"tickvals\":[0,1],\"values\":[0,0,1,0,0,1,1,0,0,1,0,0,0,0,0,0,0,0,1,0]},{\"label\":\"max_iter\",\"range\":[715,997],\"values\":[825,962,715,912,854,861,755,898,864,759,983,961,992,997,943,935,926,914,827,889]},{\"label\":\"tol\",\"range\":[0.0001831589739233248,0.004676446785153434],\"values\":[0.003830623154276751,0.0024733434165152184,0.001624003028478911,0.0018092349420100755,0.0034193171408126773,0.00460485031904171,0.004676446785153434,0.001721587814127942,0.00453507321892875,0.0004066376385951137,0.0028140591225261193,0.002007131748076453,0.0025058648042042726,0.002727784199164067,0.0008203131460502856,0.0006022076122239066,0.0003923834338699613,0.0009531861269208458,0.0001831589739233248,0.0011254664032060617]}],\"labelangle\":30,\"labelside\":\"bottom\",\"line\":{\"color\":[0.7462028568026117,0.7468671356226879,0.7446271602328614,0.7467031975302494,0.7460829627711654,0.7446776105491562,0.7446776105491562,0.7466252832370771,0.7460107552750637,0.7449768066194079,0.746314622221222,0.7467053268797834,0.7468671356226879,0.746314622221222,0.7471556398039434,0.7474407544986015,0.7475508276908519,0.7469177955534857,0.7449300593738986,0.7470960920899555],\"colorbar\":{\"title\":{\"text\":\"Objective Value\"}},\"colorscale\":[[0.0,\"rgb(247,251,255)\"],[0.125,\"rgb(222,235,247)\"],[0.25,\"rgb(198,219,239)\"],[0.375,\"rgb(158,202,225)\"],[0.5,\"rgb(107,174,214)\"],[0.625,\"rgb(66,146,198)\"],[0.75,\"rgb(33,113,181)\"],[0.875,\"rgb(8,81,156)\"],[1.0,\"rgb(8,48,107)\"]],\"reversescale\":false,\"showscale\":true},\"type\":\"parcoords\"}],                        {\"template\":{\"data\":{\"bar\":[{\"error_x\":{\"color\":\"#2a3f5f\"},\"error_y\":{\"color\":\"#2a3f5f\"},\"marker\":{\"line\":{\"color\":\"#E5ECF6\",\"width\":0.5},\"pattern\":{\"fillmode\":\"overlay\",\"size\":10,\"solidity\":0.2}},\"type\":\"bar\"}],\"barpolar\":[{\"marker\":{\"line\":{\"color\":\"#E5ECF6\",\"width\":0.5},\"pattern\":{\"fillmode\":\"overlay\",\"size\":10,\"solidity\":0.2}},\"type\":\"barpolar\"}],\"carpet\":[{\"aaxis\":{\"endlinecolor\":\"#2a3f5f\",\"gridcolor\":\"white\",\"linecolor\":\"white\",\"minorgridcolor\":\"white\",\"startlinecolor\":\"#2a3f5f\"},\"baxis\":{\"endlinecolor\":\"#2a3f5f\",\"gridcolor\":\"white\",\"linecolor\":\"white\",\"minorgridcolor\":\"white\",\"startlinecolor\":\"#2a3f5f\"},\"type\":\"carpet\"}],\"choropleth\":[{\"colorbar\":{\"outlinewidth\":0,\"ticks\":\"\"},\"type\":\"choropleth\"}],\"contour\":[{\"colorbar\":{\"outlinewidth\":0,\"ticks\":\"\"},\"colorscale\":[[0.0,\"#0d0887\"],[0.1111111111111111,\"#46039f\"],[0.2222222222222222,\"#7201a8\"],[0.3333333333333333,\"#9c179e\"],[0.4444444444444444,\"#bd3786\"],[0.5555555555555556,\"#d8576b\"],[0.6666666666666666,\"#ed7953\"],[0.7777777777777778,\"#fb9f3a\"],[0.8888888888888888,\"#fdca26\"],[1.0,\"#f0f921\"]],\"type\":\"contour\"}],\"contourcarpet\":[{\"colorbar\":{\"outlinewidth\":0,\"ticks\":\"\"},\"type\":\"contourcarpet\"}],\"heatmap\":[{\"colorbar\":{\"outlinewidth\":0,\"ticks\":\"\"},\"colorscale\":[[0.0,\"#0d0887\"],[0.1111111111111111,\"#46039f\"],[0.2222222222222222,\"#7201a8\"],[0.3333333333333333,\"#9c179e\"],[0.4444444444444444,\"#bd3786\"],[0.5555555555555556,\"#d8576b\"],[0.6666666666666666,\"#ed7953\"],[0.7777777777777778,\"#fb9f3a\"],[0.8888888888888888,\"#fdca26\"],[1.0,\"#f0f921\"]],\"type\":\"heatmap\"}],\"heatmapgl\":[{\"colorbar\":{\"outlinewidth\":0,\"ticks\":\"\"},\"colorscale\":[[0.0,\"#0d0887\"],[0.1111111111111111,\"#46039f\"],[0.2222222222222222,\"#7201a8\"],[0.3333333333333333,\"#9c179e\"],[0.4444444444444444,\"#bd3786\"],[0.5555555555555556,\"#d8576b\"],[0.6666666666666666,\"#ed7953\"],[0.7777777777777778,\"#fb9f3a\"],[0.8888888888888888,\"#fdca26\"],[1.0,\"#f0f921\"]],\"type\":\"heatmapgl\"}],\"histogram\":[{\"marker\":{\"pattern\":{\"fillmode\":\"overlay\",\"size\":10,\"solidity\":0.2}},\"type\":\"histogram\"}],\"histogram2d\":[{\"colorbar\":{\"outlinewidth\":0,\"ticks\":\"\"},\"colorscale\":[[0.0,\"#0d0887\"],[0.1111111111111111,\"#46039f\"],[0.2222222222222222,\"#7201a8\"],[0.3333333333333333,\"#9c179e\"],[0.4444444444444444,\"#bd3786\"],[0.5555555555555556,\"#d8576b\"],[0.6666666666666666,\"#ed7953\"],[0.7777777777777778,\"#fb9f3a\"],[0.8888888888888888,\"#fdca26\"],[1.0,\"#f0f921\"]],\"type\":\"histogram2d\"}],\"histogram2dcontour\":[{\"colorbar\":{\"outlinewidth\":0,\"ticks\":\"\"},\"colorscale\":[[0.0,\"#0d0887\"],[0.1111111111111111,\"#46039f\"],[0.2222222222222222,\"#7201a8\"],[0.3333333333333333,\"#9c179e\"],[0.4444444444444444,\"#bd3786\"],[0.5555555555555556,\"#d8576b\"],[0.6666666666666666,\"#ed7953\"],[0.7777777777777778,\"#fb9f3a\"],[0.8888888888888888,\"#fdca26\"],[1.0,\"#f0f921\"]],\"type\":\"histogram2dcontour\"}],\"mesh3d\":[{\"colorbar\":{\"outlinewidth\":0,\"ticks\":\"\"},\"type\":\"mesh3d\"}],\"parcoords\":[{\"line\":{\"colorbar\":{\"outlinewidth\":0,\"ticks\":\"\"}},\"type\":\"parcoords\"}],\"pie\":[{\"automargin\":true,\"type\":\"pie\"}],\"scatter\":[{\"marker\":{\"colorbar\":{\"outlinewidth\":0,\"ticks\":\"\"}},\"type\":\"scatter\"}],\"scatter3d\":[{\"line\":{\"colorbar\":{\"outlinewidth\":0,\"ticks\":\"\"}},\"marker\":{\"colorbar\":{\"outlinewidth\":0,\"ticks\":\"\"}},\"type\":\"scatter3d\"}],\"scattercarpet\":[{\"marker\":{\"colorbar\":{\"outlinewidth\":0,\"ticks\":\"\"}},\"type\":\"scattercarpet\"}],\"scattergeo\":[{\"marker\":{\"colorbar\":{\"outlinewidth\":0,\"ticks\":\"\"}},\"type\":\"scattergeo\"}],\"scattergl\":[{\"marker\":{\"colorbar\":{\"outlinewidth\":0,\"ticks\":\"\"}},\"type\":\"scattergl\"}],\"scattermapbox\":[{\"marker\":{\"colorbar\":{\"outlinewidth\":0,\"ticks\":\"\"}},\"type\":\"scattermapbox\"}],\"scatterpolar\":[{\"marker\":{\"colorbar\":{\"outlinewidth\":0,\"ticks\":\"\"}},\"type\":\"scatterpolar\"}],\"scatterpolargl\":[{\"marker\":{\"colorbar\":{\"outlinewidth\":0,\"ticks\":\"\"}},\"type\":\"scatterpolargl\"}],\"scatterternary\":[{\"marker\":{\"colorbar\":{\"outlinewidth\":0,\"ticks\":\"\"}},\"type\":\"scatterternary\"}],\"surface\":[{\"colorbar\":{\"outlinewidth\":0,\"ticks\":\"\"},\"colorscale\":[[0.0,\"#0d0887\"],[0.1111111111111111,\"#46039f\"],[0.2222222222222222,\"#7201a8\"],[0.3333333333333333,\"#9c179e\"],[0.4444444444444444,\"#bd3786\"],[0.5555555555555556,\"#d8576b\"],[0.6666666666666666,\"#ed7953\"],[0.7777777777777778,\"#fb9f3a\"],[0.8888888888888888,\"#fdca26\"],[1.0,\"#f0f921\"]],\"type\":\"surface\"}],\"table\":[{\"cells\":{\"fill\":{\"color\":\"#EBF0F8\"},\"line\":{\"color\":\"white\"}},\"header\":{\"fill\":{\"color\":\"#C8D4E3\"},\"line\":{\"color\":\"white\"}},\"type\":\"table\"}]},\"layout\":{\"annotationdefaults\":{\"arrowcolor\":\"#2a3f5f\",\"arrowhead\":0,\"arrowwidth\":1},\"autotypenumbers\":\"strict\",\"coloraxis\":{\"colorbar\":{\"outlinewidth\":0,\"ticks\":\"\"}},\"colorscale\":{\"diverging\":[[0,\"#8e0152\"],[0.1,\"#c51b7d\"],[0.2,\"#de77ae\"],[0.3,\"#f1b6da\"],[0.4,\"#fde0ef\"],[0.5,\"#f7f7f7\"],[0.6,\"#e6f5d0\"],[0.7,\"#b8e186\"],[0.8,\"#7fbc41\"],[0.9,\"#4d9221\"],[1,\"#276419\"]],\"sequential\":[[0.0,\"#0d0887\"],[0.1111111111111111,\"#46039f\"],[0.2222222222222222,\"#7201a8\"],[0.3333333333333333,\"#9c179e\"],[0.4444444444444444,\"#bd3786\"],[0.5555555555555556,\"#d8576b\"],[0.6666666666666666,\"#ed7953\"],[0.7777777777777778,\"#fb9f3a\"],[0.8888888888888888,\"#fdca26\"],[1.0,\"#f0f921\"]],\"sequentialminus\":[[0.0,\"#0d0887\"],[0.1111111111111111,\"#46039f\"],[0.2222222222222222,\"#7201a8\"],[0.3333333333333333,\"#9c179e\"],[0.4444444444444444,\"#bd3786\"],[0.5555555555555556,\"#d8576b\"],[0.6666666666666666,\"#ed7953\"],[0.7777777777777778,\"#fb9f3a\"],[0.8888888888888888,\"#fdca26\"],[1.0,\"#f0f921\"]]},\"colorway\":[\"#636efa\",\"#EF553B\",\"#00cc96\",\"#ab63fa\",\"#FFA15A\",\"#19d3f3\",\"#FF6692\",\"#B6E880\",\"#FF97FF\",\"#FECB52\"],\"font\":{\"color\":\"#2a3f5f\"},\"geo\":{\"bgcolor\":\"white\",\"lakecolor\":\"white\",\"landcolor\":\"#E5ECF6\",\"showlakes\":true,\"showland\":true,\"subunitcolor\":\"white\"},\"hoverlabel\":{\"align\":\"left\"},\"hovermode\":\"closest\",\"mapbox\":{\"style\":\"light\"},\"paper_bgcolor\":\"white\",\"plot_bgcolor\":\"#E5ECF6\",\"polar\":{\"angularaxis\":{\"gridcolor\":\"white\",\"linecolor\":\"white\",\"ticks\":\"\"},\"bgcolor\":\"#E5ECF6\",\"radialaxis\":{\"gridcolor\":\"white\",\"linecolor\":\"white\",\"ticks\":\"\"}},\"scene\":{\"xaxis\":{\"backgroundcolor\":\"#E5ECF6\",\"gridcolor\":\"white\",\"gridwidth\":2,\"linecolor\":\"white\",\"showbackground\":true,\"ticks\":\"\",\"zerolinecolor\":\"white\"},\"yaxis\":{\"backgroundcolor\":\"#E5ECF6\",\"gridcolor\":\"white\",\"gridwidth\":2,\"linecolor\":\"white\",\"showbackground\":true,\"ticks\":\"\",\"zerolinecolor\":\"white\"},\"zaxis\":{\"backgroundcolor\":\"#E5ECF6\",\"gridcolor\":\"white\",\"gridwidth\":2,\"linecolor\":\"white\",\"showbackground\":true,\"ticks\":\"\",\"zerolinecolor\":\"white\"}},\"shapedefaults\":{\"line\":{\"color\":\"#2a3f5f\"}},\"ternary\":{\"aaxis\":{\"gridcolor\":\"white\",\"linecolor\":\"white\",\"ticks\":\"\"},\"baxis\":{\"gridcolor\":\"white\",\"linecolor\":\"white\",\"ticks\":\"\"},\"bgcolor\":\"#E5ECF6\",\"caxis\":{\"gridcolor\":\"white\",\"linecolor\":\"white\",\"ticks\":\"\"}},\"title\":{\"x\":0.05},\"xaxis\":{\"automargin\":true,\"gridcolor\":\"white\",\"linecolor\":\"white\",\"ticks\":\"\",\"title\":{\"standoff\":15},\"zerolinecolor\":\"white\",\"zerolinewidth\":2},\"yaxis\":{\"automargin\":true,\"gridcolor\":\"white\",\"linecolor\":\"white\",\"ticks\":\"\",\"title\":{\"standoff\":15},\"zerolinecolor\":\"white\",\"zerolinewidth\":2}}},\"title\":{\"text\":\"Parallel Coordinate Plot\"}},                        {\"responsive\": true}                    ).then(function(){\n",
       "                            \n",
       "var gd = document.getElementById('09ac0de5-695b-4770-b688-f640fbbb44a1');\n",
       "var x = new MutationObserver(function (mutations, observer) {{\n",
       "        var display = window.getComputedStyle(gd).display;\n",
       "        if (!display || display === 'none') {{\n",
       "            console.log([gd, 'removed!']);\n",
       "            Plotly.purge(gd);\n",
       "            observer.disconnect();\n",
       "        }}\n",
       "}});\n",
       "\n",
       "// Listen for the removal of the full notebook cells\n",
       "var notebookContainer = gd.closest('#notebook-container');\n",
       "if (notebookContainer) {{\n",
       "    x.observe(notebookContainer, {childList: true});\n",
       "}}\n",
       "\n",
       "// Listen for the clearing of the current output cell\n",
       "var outputEl = gd.closest('.output');\n",
       "if (outputEl) {{\n",
       "    x.observe(outputEl, {childList: true});\n",
       "}}\n",
       "\n",
       "                        })                };                });            </script>        </div>"
      ]
     },
     "metadata": {},
     "output_type": "display_data"
    }
   ],
   "source": [
    "###################################################################################################\n",
    "# Select parameters to visualize.\n",
    "plot_parallel_coordinate(study, params=[\"loss\", \"max_iter\",'tol'])"
   ]
  },
  {
   "cell_type": "code",
   "execution_count": 213,
   "metadata": {
    "ExecuteTime": {
     "end_time": "2021-11-16T02:38:47.528072Z",
     "start_time": "2021-11-16T02:38:47.515089Z"
    },
    "executionInfo": {
     "elapsed": 15,
     "status": "ok",
     "timestamp": 1635585757901,
     "user": {
      "displayName": "Rogério Delfim",
      "photoUrl": "https://lh3.googleusercontent.com/a-/AOh14Gj8lDYWTfZHU0U0sMojRPio71Ec7YDcSEpCaOEE=s64",
      "userId": "04235763959036945343"
     },
     "user_tz": 180
    },
    "id": "T3DA8PfAmSZY"
   },
   "outputs": [],
   "source": [
    "###################################################################################################\n",
    "# Visualize hyperparameter relationships. See :func:`~optuna.visualization.plot_contour` for the details.\n",
    "#plot_contour(study)"
   ]
  },
  {
   "cell_type": "code",
   "execution_count": 214,
   "metadata": {
    "ExecuteTime": {
     "end_time": "2021-11-16T02:38:47.717115Z",
     "start_time": "2021-11-16T02:38:47.530073Z"
    },
    "colab": {
     "base_uri": "https://localhost:8080/",
     "height": 542
    },
    "executionInfo": {
     "elapsed": 304,
     "status": "ok",
     "timestamp": 1635585758190,
     "user": {
      "displayName": "Rogério Delfim",
      "photoUrl": "https://lh3.googleusercontent.com/a-/AOh14Gj8lDYWTfZHU0U0sMojRPio71Ec7YDcSEpCaOEE=s64",
      "userId": "04235763959036945343"
     },
     "user_tz": 180
    },
    "id": "sYBgMW9OmVVc",
    "outputId": "90075ef7-5c41-4bae-ccfe-21289ebec478"
   },
   "outputs": [
    {
     "data": {
      "application/vnd.plotly.v1+json": {
       "config": {
        "plotlyServerURL": "https://plot.ly"
       },
       "data": [
        {
         "type": "scatter",
         "xaxis": "x",
         "yaxis": "y"
        },
        {
         "colorbar": {
          "title": {
           "text": "Objective Value"
          }
         },
         "colorscale": [
          [
           0,
           "rgb(5,10,172)"
          ],
          [
           0.35,
           "rgb(40,60,190)"
          ],
          [
           0.5,
           "rgb(70,100,245)"
          ],
          [
           0.6,
           "rgb(90,120,245)"
          ],
          [
           0.7,
           "rgb(106,137,247)"
          ],
          [
           1,
           "rgb(220,220,220)"
          ]
         ],
         "connectgaps": true,
         "contours": {
          "coloring": "heatmap"
         },
         "hoverinfo": "none",
         "line": {
          "smoothing": 1.3
         },
         "reversescale": false,
         "showscale": true,
         "type": "contour",
         "x": [
          "log",
          "modified_huber"
         ],
         "xaxis": "x4",
         "y": [
          700.9,
          715,
          755,
          759,
          825,
          827,
          854,
          861,
          864,
          889,
          898,
          912,
          914,
          926,
          935,
          943,
          961,
          962,
          983,
          992,
          997,
          1011.1
         ],
         "yaxis": "y4",
         "z": [
          [
           null,
           null
          ],
          [
           0.7446271602328614,
           null
          ],
          [
           0.7446776105491562,
           null
          ],
          [
           0.7449768066194079,
           null
          ],
          [
           null,
           0.7462028568026117
          ],
          [
           0.7449300593738986,
           null
          ],
          [
           null,
           0.7460829627711654
          ],
          [
           0.7446776105491562,
           null
          ],
          [
           null,
           0.7460107552750637
          ],
          [
           null,
           0.7470960920899555
          ],
          [
           null,
           0.7466252832370771
          ],
          [
           null,
           0.7467031975302494
          ],
          [
           null,
           0.7469177955534857
          ],
          [
           null,
           0.7475508276908519
          ],
          [
           null,
           0.7474407544986015
          ],
          [
           null,
           0.7471556398039434
          ],
          [
           null,
           0.7467053268797834
          ],
          [
           null,
           0.7468671356226879
          ],
          [
           null,
           0.746314622221222
          ],
          [
           null,
           0.7468671356226879
          ],
          [
           null,
           0.746314622221222
          ],
          [
           null,
           null
          ]
         ]
        },
        {
         "marker": {
          "color": "black",
          "line": {
           "color": "Grey",
           "width": 0.5
          }
         },
         "mode": "markers",
         "showlegend": false,
         "type": "scatter",
         "x": [
          "modified_huber",
          "modified_huber",
          "log",
          "modified_huber",
          "modified_huber",
          "log",
          "log",
          "modified_huber",
          "modified_huber",
          "log",
          "modified_huber",
          "modified_huber",
          "modified_huber",
          "modified_huber",
          "modified_huber",
          "modified_huber",
          "modified_huber",
          "modified_huber",
          "log",
          "modified_huber"
         ],
         "xaxis": "x4",
         "y": [
          825,
          962,
          715,
          912,
          854,
          861,
          755,
          898,
          864,
          759,
          983,
          961,
          992,
          997,
          943,
          935,
          926,
          914,
          827,
          889
         ],
         "yaxis": "y4"
        },
        {
         "colorbar": {
          "title": {
           "text": "Objective Value"
          }
         },
         "colorscale": [
          [
           0,
           "rgb(5,10,172)"
          ],
          [
           0.35,
           "rgb(40,60,190)"
          ],
          [
           0.5,
           "rgb(70,100,245)"
          ],
          [
           0.6,
           "rgb(90,120,245)"
          ],
          [
           0.7,
           "rgb(106,137,247)"
          ],
          [
           1,
           "rgb(220,220,220)"
          ]
         ],
         "connectgaps": true,
         "contours": {
          "coloring": "heatmap"
         },
         "hoverinfo": "none",
         "line": {
          "smoothing": 1.3
         },
         "reversescale": false,
         "showscale": false,
         "type": "contour",
         "x": [
          "log",
          "modified_huber"
         ],
         "xaxis": "x7",
         "y": [
          -4.150541663818069e-05,
          0.0001831589739233248,
          0.0003923834338699613,
          0.0004066376385951137,
          0.0006022076122239066,
          0.0008203131460502856,
          0.0009531861269208458,
          0.0011254664032060617,
          0.001624003028478911,
          0.001721587814127942,
          0.0018092349420100755,
          0.002007131748076453,
          0.0024733434165152184,
          0.0025058648042042726,
          0.002727784199164067,
          0.0028140591225261193,
          0.0034193171408126773,
          0.003830623154276751,
          0.00453507321892875,
          0.00460485031904171,
          0.004676446785153434,
          0.00490111117571494
         ],
         "yaxis": "y7",
         "z": [
          [
           null,
           null
          ],
          [
           0.7449300593738986,
           null
          ],
          [
           null,
           0.7475508276908519
          ],
          [
           0.7449768066194079,
           null
          ],
          [
           null,
           0.7474407544986015
          ],
          [
           null,
           0.7471556398039434
          ],
          [
           null,
           0.7469177955534857
          ],
          [
           null,
           0.7470960920899555
          ],
          [
           0.7446271602328614,
           null
          ],
          [
           null,
           0.7466252832370771
          ],
          [
           null,
           0.7467031975302494
          ],
          [
           null,
           0.7467053268797834
          ],
          [
           null,
           0.7468671356226879
          ],
          [
           null,
           0.7468671356226879
          ],
          [
           null,
           0.746314622221222
          ],
          [
           null,
           0.746314622221222
          ],
          [
           null,
           0.7460829627711654
          ],
          [
           null,
           0.7462028568026117
          ],
          [
           null,
           0.7460107552750637
          ],
          [
           0.7446776105491562,
           null
          ],
          [
           0.7446776105491562,
           null
          ],
          [
           null,
           null
          ]
         ]
        },
        {
         "marker": {
          "color": "black",
          "line": {
           "color": "Grey",
           "width": 0.5
          }
         },
         "mode": "markers",
         "showlegend": false,
         "type": "scatter",
         "x": [
          "modified_huber",
          "modified_huber",
          "log",
          "modified_huber",
          "modified_huber",
          "log",
          "log",
          "modified_huber",
          "modified_huber",
          "log",
          "modified_huber",
          "modified_huber",
          "modified_huber",
          "modified_huber",
          "modified_huber",
          "modified_huber",
          "modified_huber",
          "modified_huber",
          "log",
          "modified_huber"
         ],
         "xaxis": "x7",
         "y": [
          0.003830623154276751,
          0.0024733434165152184,
          0.001624003028478911,
          0.0018092349420100755,
          0.0034193171408126773,
          0.00460485031904171,
          0.004676446785153434,
          0.001721587814127942,
          0.00453507321892875,
          0.0004066376385951137,
          0.0028140591225261193,
          0.002007131748076453,
          0.0025058648042042726,
          0.002727784199164067,
          0.0008203131460502856,
          0.0006022076122239066,
          0.0003923834338699613,
          0.0009531861269208458,
          0.0001831589739233248,
          0.0011254664032060617
         ],
         "yaxis": "y7"
        },
        {
         "colorbar": {
          "title": {
           "text": "Objective Value"
          }
         },
         "colorscale": [
          [
           0,
           "rgb(5,10,172)"
          ],
          [
           0.35,
           "rgb(40,60,190)"
          ],
          [
           0.5,
           "rgb(70,100,245)"
          ],
          [
           0.6,
           "rgb(90,120,245)"
          ],
          [
           0.7,
           "rgb(106,137,247)"
          ],
          [
           1,
           "rgb(220,220,220)"
          ]
         ],
         "connectgaps": true,
         "contours": {
          "coloring": "heatmap"
         },
         "hoverinfo": "none",
         "line": {
          "smoothing": 1.3
         },
         "reversescale": false,
         "showscale": false,
         "type": "contour",
         "x": [
          700.9,
          715,
          755,
          759,
          825,
          827,
          854,
          861,
          864,
          889,
          898,
          912,
          914,
          926,
          935,
          943,
          961,
          962,
          983,
          992,
          997,
          1011.1
         ],
         "xaxis": "x2",
         "y": [
          "log",
          "modified_huber"
         ],
         "yaxis": "y2",
         "z": [
          [
           null,
           0.7446271602328614,
           0.7446776105491562,
           0.7449768066194079,
           null,
           0.7449300593738986,
           null,
           0.7446776105491562,
           null,
           null,
           null,
           null,
           null,
           null,
           null,
           null,
           null,
           null,
           null,
           null,
           null,
           null
          ],
          [
           null,
           null,
           null,
           null,
           0.7462028568026117,
           null,
           0.7460829627711654,
           null,
           0.7460107552750637,
           0.7470960920899555,
           0.7466252832370771,
           0.7467031975302494,
           0.7469177955534857,
           0.7475508276908519,
           0.7474407544986015,
           0.7471556398039434,
           0.7467053268797834,
           0.7468671356226879,
           0.746314622221222,
           0.7468671356226879,
           0.746314622221222,
           null
          ]
         ]
        },
        {
         "marker": {
          "color": "black",
          "line": {
           "color": "Grey",
           "width": 0.5
          }
         },
         "mode": "markers",
         "showlegend": false,
         "type": "scatter",
         "x": [
          825,
          962,
          715,
          912,
          854,
          861,
          755,
          898,
          864,
          759,
          983,
          961,
          992,
          997,
          943,
          935,
          926,
          914,
          827,
          889
         ],
         "xaxis": "x2",
         "y": [
          "modified_huber",
          "modified_huber",
          "log",
          "modified_huber",
          "modified_huber",
          "log",
          "log",
          "modified_huber",
          "modified_huber",
          "log",
          "modified_huber",
          "modified_huber",
          "modified_huber",
          "modified_huber",
          "modified_huber",
          "modified_huber",
          "modified_huber",
          "modified_huber",
          "log",
          "modified_huber"
         ],
         "yaxis": "y2"
        },
        {
         "type": "scatter",
         "xaxis": "x5",
         "yaxis": "y5"
        },
        {
         "colorbar": {
          "title": {
           "text": "Objective Value"
          }
         },
         "colorscale": [
          [
           0,
           "rgb(5,10,172)"
          ],
          [
           0.35,
           "rgb(40,60,190)"
          ],
          [
           0.5,
           "rgb(70,100,245)"
          ],
          [
           0.6,
           "rgb(90,120,245)"
          ],
          [
           0.7,
           "rgb(106,137,247)"
          ],
          [
           1,
           "rgb(220,220,220)"
          ]
         ],
         "connectgaps": true,
         "contours": {
          "coloring": "heatmap"
         },
         "hoverinfo": "none",
         "line": {
          "smoothing": 1.3
         },
         "reversescale": false,
         "showscale": false,
         "type": "contour",
         "x": [
          700.9,
          715,
          755,
          759,
          825,
          827,
          854,
          861,
          864,
          889,
          898,
          912,
          914,
          926,
          935,
          943,
          961,
          962,
          983,
          992,
          997,
          1011.1
         ],
         "xaxis": "x8",
         "y": [
          -4.150541663818069e-05,
          0.0001831589739233248,
          0.0003923834338699613,
          0.0004066376385951137,
          0.0006022076122239066,
          0.0008203131460502856,
          0.0009531861269208458,
          0.0011254664032060617,
          0.001624003028478911,
          0.001721587814127942,
          0.0018092349420100755,
          0.002007131748076453,
          0.0024733434165152184,
          0.0025058648042042726,
          0.002727784199164067,
          0.0028140591225261193,
          0.0034193171408126773,
          0.003830623154276751,
          0.00453507321892875,
          0.00460485031904171,
          0.004676446785153434,
          0.00490111117571494
         ],
         "yaxis": "y8",
         "z": [
          [
           null,
           null,
           null,
           null,
           null,
           null,
           null,
           null,
           null,
           null,
           null,
           null,
           null,
           null,
           null,
           null,
           null,
           null,
           null,
           null,
           null,
           null
          ],
          [
           null,
           null,
           null,
           null,
           null,
           0.7449300593738986,
           null,
           null,
           null,
           null,
           null,
           null,
           null,
           null,
           null,
           null,
           null,
           null,
           null,
           null,
           null,
           null
          ],
          [
           null,
           null,
           null,
           null,
           null,
           null,
           null,
           null,
           null,
           null,
           null,
           null,
           null,
           0.7475508276908519,
           null,
           null,
           null,
           null,
           null,
           null,
           null,
           null
          ],
          [
           null,
           null,
           null,
           0.7449768066194079,
           null,
           null,
           null,
           null,
           null,
           null,
           null,
           null,
           null,
           null,
           null,
           null,
           null,
           null,
           null,
           null,
           null,
           null
          ],
          [
           null,
           null,
           null,
           null,
           null,
           null,
           null,
           null,
           null,
           null,
           null,
           null,
           null,
           null,
           0.7474407544986015,
           null,
           null,
           null,
           null,
           null,
           null,
           null
          ],
          [
           null,
           null,
           null,
           null,
           null,
           null,
           null,
           null,
           null,
           null,
           null,
           null,
           null,
           null,
           null,
           0.7471556398039434,
           null,
           null,
           null,
           null,
           null,
           null
          ],
          [
           null,
           null,
           null,
           null,
           null,
           null,
           null,
           null,
           null,
           null,
           null,
           null,
           0.7469177955534857,
           null,
           null,
           null,
           null,
           null,
           null,
           null,
           null,
           null
          ],
          [
           null,
           null,
           null,
           null,
           null,
           null,
           null,
           null,
           null,
           0.7470960920899555,
           null,
           null,
           null,
           null,
           null,
           null,
           null,
           null,
           null,
           null,
           null,
           null
          ],
          [
           null,
           0.7446271602328614,
           null,
           null,
           null,
           null,
           null,
           null,
           null,
           null,
           null,
           null,
           null,
           null,
           null,
           null,
           null,
           null,
           null,
           null,
           null,
           null
          ],
          [
           null,
           null,
           null,
           null,
           null,
           null,
           null,
           null,
           null,
           null,
           0.7466252832370771,
           null,
           null,
           null,
           null,
           null,
           null,
           null,
           null,
           null,
           null,
           null
          ],
          [
           null,
           null,
           null,
           null,
           null,
           null,
           null,
           null,
           null,
           null,
           null,
           0.7467031975302494,
           null,
           null,
           null,
           null,
           null,
           null,
           null,
           null,
           null,
           null
          ],
          [
           null,
           null,
           null,
           null,
           null,
           null,
           null,
           null,
           null,
           null,
           null,
           null,
           null,
           null,
           null,
           null,
           0.7467053268797834,
           null,
           null,
           null,
           null,
           null
          ],
          [
           null,
           null,
           null,
           null,
           null,
           null,
           null,
           null,
           null,
           null,
           null,
           null,
           null,
           null,
           null,
           null,
           null,
           0.7468671356226879,
           null,
           null,
           null,
           null
          ],
          [
           null,
           null,
           null,
           null,
           null,
           null,
           null,
           null,
           null,
           null,
           null,
           null,
           null,
           null,
           null,
           null,
           null,
           null,
           null,
           0.7468671356226879,
           null,
           null
          ],
          [
           null,
           null,
           null,
           null,
           null,
           null,
           null,
           null,
           null,
           null,
           null,
           null,
           null,
           null,
           null,
           null,
           null,
           null,
           null,
           null,
           0.746314622221222,
           null
          ],
          [
           null,
           null,
           null,
           null,
           null,
           null,
           null,
           null,
           null,
           null,
           null,
           null,
           null,
           null,
           null,
           null,
           null,
           null,
           0.746314622221222,
           null,
           null,
           null
          ],
          [
           null,
           null,
           null,
           null,
           null,
           null,
           0.7460829627711654,
           null,
           null,
           null,
           null,
           null,
           null,
           null,
           null,
           null,
           null,
           null,
           null,
           null,
           null,
           null
          ],
          [
           null,
           null,
           null,
           null,
           0.7462028568026117,
           null,
           null,
           null,
           null,
           null,
           null,
           null,
           null,
           null,
           null,
           null,
           null,
           null,
           null,
           null,
           null,
           null
          ],
          [
           null,
           null,
           null,
           null,
           null,
           null,
           null,
           null,
           0.7460107552750637,
           null,
           null,
           null,
           null,
           null,
           null,
           null,
           null,
           null,
           null,
           null,
           null,
           null
          ],
          [
           null,
           null,
           null,
           null,
           null,
           null,
           null,
           0.7446776105491562,
           null,
           null,
           null,
           null,
           null,
           null,
           null,
           null,
           null,
           null,
           null,
           null,
           null,
           null
          ],
          [
           null,
           null,
           0.7446776105491562,
           null,
           null,
           null,
           null,
           null,
           null,
           null,
           null,
           null,
           null,
           null,
           null,
           null,
           null,
           null,
           null,
           null,
           null,
           null
          ],
          [
           null,
           null,
           null,
           null,
           null,
           null,
           null,
           null,
           null,
           null,
           null,
           null,
           null,
           null,
           null,
           null,
           null,
           null,
           null,
           null,
           null,
           null
          ]
         ]
        },
        {
         "marker": {
          "color": "black",
          "line": {
           "color": "Grey",
           "width": 0.5
          }
         },
         "mode": "markers",
         "showlegend": false,
         "type": "scatter",
         "x": [
          825,
          962,
          715,
          912,
          854,
          861,
          755,
          898,
          864,
          759,
          983,
          961,
          992,
          997,
          943,
          935,
          926,
          914,
          827,
          889
         ],
         "xaxis": "x8",
         "y": [
          0.003830623154276751,
          0.0024733434165152184,
          0.001624003028478911,
          0.0018092349420100755,
          0.0034193171408126773,
          0.00460485031904171,
          0.004676446785153434,
          0.001721587814127942,
          0.00453507321892875,
          0.0004066376385951137,
          0.0028140591225261193,
          0.002007131748076453,
          0.0025058648042042726,
          0.002727784199164067,
          0.0008203131460502856,
          0.0006022076122239066,
          0.0003923834338699613,
          0.0009531861269208458,
          0.0001831589739233248,
          0.0011254664032060617
         ],
         "yaxis": "y8"
        },
        {
         "colorbar": {
          "title": {
           "text": "Objective Value"
          }
         },
         "colorscale": [
          [
           0,
           "rgb(5,10,172)"
          ],
          [
           0.35,
           "rgb(40,60,190)"
          ],
          [
           0.5,
           "rgb(70,100,245)"
          ],
          [
           0.6,
           "rgb(90,120,245)"
          ],
          [
           0.7,
           "rgb(106,137,247)"
          ],
          [
           1,
           "rgb(220,220,220)"
          ]
         ],
         "connectgaps": true,
         "contours": {
          "coloring": "heatmap"
         },
         "hoverinfo": "none",
         "line": {
          "smoothing": 1.3
         },
         "reversescale": false,
         "showscale": false,
         "type": "contour",
         "x": [
          -4.150541663818069e-05,
          0.0001831589739233248,
          0.0003923834338699613,
          0.0004066376385951137,
          0.0006022076122239066,
          0.0008203131460502856,
          0.0009531861269208458,
          0.0011254664032060617,
          0.001624003028478911,
          0.001721587814127942,
          0.0018092349420100755,
          0.002007131748076453,
          0.0024733434165152184,
          0.0025058648042042726,
          0.002727784199164067,
          0.0028140591225261193,
          0.0034193171408126773,
          0.003830623154276751,
          0.00453507321892875,
          0.00460485031904171,
          0.004676446785153434,
          0.00490111117571494
         ],
         "xaxis": "x3",
         "y": [
          "log",
          "modified_huber"
         ],
         "yaxis": "y3",
         "z": [
          [
           null,
           0.7449300593738986,
           null,
           0.7449768066194079,
           null,
           null,
           null,
           null,
           0.7446271602328614,
           null,
           null,
           null,
           null,
           null,
           null,
           null,
           null,
           null,
           null,
           0.7446776105491562,
           0.7446776105491562,
           null
          ],
          [
           null,
           null,
           0.7475508276908519,
           null,
           0.7474407544986015,
           0.7471556398039434,
           0.7469177955534857,
           0.7470960920899555,
           null,
           0.7466252832370771,
           0.7467031975302494,
           0.7467053268797834,
           0.7468671356226879,
           0.7468671356226879,
           0.746314622221222,
           0.746314622221222,
           0.7460829627711654,
           0.7462028568026117,
           0.7460107552750637,
           null,
           null,
           null
          ]
         ]
        },
        {
         "marker": {
          "color": "black",
          "line": {
           "color": "Grey",
           "width": 0.5
          }
         },
         "mode": "markers",
         "showlegend": false,
         "type": "scatter",
         "x": [
          0.003830623154276751,
          0.0024733434165152184,
          0.001624003028478911,
          0.0018092349420100755,
          0.0034193171408126773,
          0.00460485031904171,
          0.004676446785153434,
          0.001721587814127942,
          0.00453507321892875,
          0.0004066376385951137,
          0.0028140591225261193,
          0.002007131748076453,
          0.0025058648042042726,
          0.002727784199164067,
          0.0008203131460502856,
          0.0006022076122239066,
          0.0003923834338699613,
          0.0009531861269208458,
          0.0001831589739233248,
          0.0011254664032060617
         ],
         "xaxis": "x3",
         "y": [
          "modified_huber",
          "modified_huber",
          "log",
          "modified_huber",
          "modified_huber",
          "log",
          "log",
          "modified_huber",
          "modified_huber",
          "log",
          "modified_huber",
          "modified_huber",
          "modified_huber",
          "modified_huber",
          "modified_huber",
          "modified_huber",
          "modified_huber",
          "modified_huber",
          "log",
          "modified_huber"
         ],
         "yaxis": "y3"
        },
        {
         "colorbar": {
          "title": {
           "text": "Objective Value"
          }
         },
         "colorscale": [
          [
           0,
           "rgb(5,10,172)"
          ],
          [
           0.35,
           "rgb(40,60,190)"
          ],
          [
           0.5,
           "rgb(70,100,245)"
          ],
          [
           0.6,
           "rgb(90,120,245)"
          ],
          [
           0.7,
           "rgb(106,137,247)"
          ],
          [
           1,
           "rgb(220,220,220)"
          ]
         ],
         "connectgaps": true,
         "contours": {
          "coloring": "heatmap"
         },
         "hoverinfo": "none",
         "line": {
          "smoothing": 1.3
         },
         "reversescale": false,
         "showscale": false,
         "type": "contour",
         "x": [
          -4.150541663818069e-05,
          0.0001831589739233248,
          0.0003923834338699613,
          0.0004066376385951137,
          0.0006022076122239066,
          0.0008203131460502856,
          0.0009531861269208458,
          0.0011254664032060617,
          0.001624003028478911,
          0.001721587814127942,
          0.0018092349420100755,
          0.002007131748076453,
          0.0024733434165152184,
          0.0025058648042042726,
          0.002727784199164067,
          0.0028140591225261193,
          0.0034193171408126773,
          0.003830623154276751,
          0.00453507321892875,
          0.00460485031904171,
          0.004676446785153434,
          0.00490111117571494
         ],
         "xaxis": "x6",
         "y": [
          700.9,
          715,
          755,
          759,
          825,
          827,
          854,
          861,
          864,
          889,
          898,
          912,
          914,
          926,
          935,
          943,
          961,
          962,
          983,
          992,
          997,
          1011.1
         ],
         "yaxis": "y6",
         "z": [
          [
           null,
           null,
           null,
           null,
           null,
           null,
           null,
           null,
           null,
           null,
           null,
           null,
           null,
           null,
           null,
           null,
           null,
           null,
           null,
           null,
           null,
           null
          ],
          [
           null,
           null,
           null,
           null,
           null,
           null,
           null,
           null,
           0.7446271602328614,
           null,
           null,
           null,
           null,
           null,
           null,
           null,
           null,
           null,
           null,
           null,
           null,
           null
          ],
          [
           null,
           null,
           null,
           null,
           null,
           null,
           null,
           null,
           null,
           null,
           null,
           null,
           null,
           null,
           null,
           null,
           null,
           null,
           null,
           null,
           0.7446776105491562,
           null
          ],
          [
           null,
           null,
           null,
           0.7449768066194079,
           null,
           null,
           null,
           null,
           null,
           null,
           null,
           null,
           null,
           null,
           null,
           null,
           null,
           null,
           null,
           null,
           null,
           null
          ],
          [
           null,
           null,
           null,
           null,
           null,
           null,
           null,
           null,
           null,
           null,
           null,
           null,
           null,
           null,
           null,
           null,
           null,
           0.7462028568026117,
           null,
           null,
           null,
           null
          ],
          [
           null,
           0.7449300593738986,
           null,
           null,
           null,
           null,
           null,
           null,
           null,
           null,
           null,
           null,
           null,
           null,
           null,
           null,
           null,
           null,
           null,
           null,
           null,
           null
          ],
          [
           null,
           null,
           null,
           null,
           null,
           null,
           null,
           null,
           null,
           null,
           null,
           null,
           null,
           null,
           null,
           null,
           0.7460829627711654,
           null,
           null,
           null,
           null,
           null
          ],
          [
           null,
           null,
           null,
           null,
           null,
           null,
           null,
           null,
           null,
           null,
           null,
           null,
           null,
           null,
           null,
           null,
           null,
           null,
           null,
           0.7446776105491562,
           null,
           null
          ],
          [
           null,
           null,
           null,
           null,
           null,
           null,
           null,
           null,
           null,
           null,
           null,
           null,
           null,
           null,
           null,
           null,
           null,
           null,
           0.7460107552750637,
           null,
           null,
           null
          ],
          [
           null,
           null,
           null,
           null,
           null,
           null,
           null,
           0.7470960920899555,
           null,
           null,
           null,
           null,
           null,
           null,
           null,
           null,
           null,
           null,
           null,
           null,
           null,
           null
          ],
          [
           null,
           null,
           null,
           null,
           null,
           null,
           null,
           null,
           null,
           0.7466252832370771,
           null,
           null,
           null,
           null,
           null,
           null,
           null,
           null,
           null,
           null,
           null,
           null
          ],
          [
           null,
           null,
           null,
           null,
           null,
           null,
           null,
           null,
           null,
           null,
           0.7467031975302494,
           null,
           null,
           null,
           null,
           null,
           null,
           null,
           null,
           null,
           null,
           null
          ],
          [
           null,
           null,
           null,
           null,
           null,
           null,
           0.7469177955534857,
           null,
           null,
           null,
           null,
           null,
           null,
           null,
           null,
           null,
           null,
           null,
           null,
           null,
           null,
           null
          ],
          [
           null,
           null,
           0.7475508276908519,
           null,
           null,
           null,
           null,
           null,
           null,
           null,
           null,
           null,
           null,
           null,
           null,
           null,
           null,
           null,
           null,
           null,
           null,
           null
          ],
          [
           null,
           null,
           null,
           null,
           0.7474407544986015,
           null,
           null,
           null,
           null,
           null,
           null,
           null,
           null,
           null,
           null,
           null,
           null,
           null,
           null,
           null,
           null,
           null
          ],
          [
           null,
           null,
           null,
           null,
           null,
           0.7471556398039434,
           null,
           null,
           null,
           null,
           null,
           null,
           null,
           null,
           null,
           null,
           null,
           null,
           null,
           null,
           null,
           null
          ],
          [
           null,
           null,
           null,
           null,
           null,
           null,
           null,
           null,
           null,
           null,
           null,
           0.7467053268797834,
           null,
           null,
           null,
           null,
           null,
           null,
           null,
           null,
           null,
           null
          ],
          [
           null,
           null,
           null,
           null,
           null,
           null,
           null,
           null,
           null,
           null,
           null,
           null,
           0.7468671356226879,
           null,
           null,
           null,
           null,
           null,
           null,
           null,
           null,
           null
          ],
          [
           null,
           null,
           null,
           null,
           null,
           null,
           null,
           null,
           null,
           null,
           null,
           null,
           null,
           null,
           null,
           0.746314622221222,
           null,
           null,
           null,
           null,
           null,
           null
          ],
          [
           null,
           null,
           null,
           null,
           null,
           null,
           null,
           null,
           null,
           null,
           null,
           null,
           null,
           0.7468671356226879,
           null,
           null,
           null,
           null,
           null,
           null,
           null,
           null
          ],
          [
           null,
           null,
           null,
           null,
           null,
           null,
           null,
           null,
           null,
           null,
           null,
           null,
           null,
           null,
           0.746314622221222,
           null,
           null,
           null,
           null,
           null,
           null,
           null
          ],
          [
           null,
           null,
           null,
           null,
           null,
           null,
           null,
           null,
           null,
           null,
           null,
           null,
           null,
           null,
           null,
           null,
           null,
           null,
           null,
           null,
           null,
           null
          ]
         ]
        },
        {
         "marker": {
          "color": "black",
          "line": {
           "color": "Grey",
           "width": 0.5
          }
         },
         "mode": "markers",
         "showlegend": false,
         "type": "scatter",
         "x": [
          0.003830623154276751,
          0.0024733434165152184,
          0.001624003028478911,
          0.0018092349420100755,
          0.0034193171408126773,
          0.00460485031904171,
          0.004676446785153434,
          0.001721587814127942,
          0.00453507321892875,
          0.0004066376385951137,
          0.0028140591225261193,
          0.002007131748076453,
          0.0025058648042042726,
          0.002727784199164067,
          0.0008203131460502856,
          0.0006022076122239066,
          0.0003923834338699613,
          0.0009531861269208458,
          0.0001831589739233248,
          0.0011254664032060617
         ],
         "xaxis": "x6",
         "y": [
          825,
          962,
          715,
          912,
          854,
          861,
          755,
          898,
          864,
          759,
          983,
          961,
          992,
          997,
          943,
          935,
          926,
          914,
          827,
          889
         ],
         "yaxis": "y6"
        },
        {
         "type": "scatter",
         "xaxis": "x9",
         "yaxis": "y9"
        }
       ],
       "layout": {
        "template": {
         "data": {
          "bar": [
           {
            "error_x": {
             "color": "#2a3f5f"
            },
            "error_y": {
             "color": "#2a3f5f"
            },
            "marker": {
             "line": {
              "color": "#E5ECF6",
              "width": 0.5
             },
             "pattern": {
              "fillmode": "overlay",
              "size": 10,
              "solidity": 0.2
             }
            },
            "type": "bar"
           }
          ],
          "barpolar": [
           {
            "marker": {
             "line": {
              "color": "#E5ECF6",
              "width": 0.5
             },
             "pattern": {
              "fillmode": "overlay",
              "size": 10,
              "solidity": 0.2
             }
            },
            "type": "barpolar"
           }
          ],
          "carpet": [
           {
            "aaxis": {
             "endlinecolor": "#2a3f5f",
             "gridcolor": "white",
             "linecolor": "white",
             "minorgridcolor": "white",
             "startlinecolor": "#2a3f5f"
            },
            "baxis": {
             "endlinecolor": "#2a3f5f",
             "gridcolor": "white",
             "linecolor": "white",
             "minorgridcolor": "white",
             "startlinecolor": "#2a3f5f"
            },
            "type": "carpet"
           }
          ],
          "choropleth": [
           {
            "colorbar": {
             "outlinewidth": 0,
             "ticks": ""
            },
            "type": "choropleth"
           }
          ],
          "contour": [
           {
            "colorbar": {
             "outlinewidth": 0,
             "ticks": ""
            },
            "colorscale": [
             [
              0,
              "#0d0887"
             ],
             [
              0.1111111111111111,
              "#46039f"
             ],
             [
              0.2222222222222222,
              "#7201a8"
             ],
             [
              0.3333333333333333,
              "#9c179e"
             ],
             [
              0.4444444444444444,
              "#bd3786"
             ],
             [
              0.5555555555555556,
              "#d8576b"
             ],
             [
              0.6666666666666666,
              "#ed7953"
             ],
             [
              0.7777777777777778,
              "#fb9f3a"
             ],
             [
              0.8888888888888888,
              "#fdca26"
             ],
             [
              1,
              "#f0f921"
             ]
            ],
            "type": "contour"
           }
          ],
          "contourcarpet": [
           {
            "colorbar": {
             "outlinewidth": 0,
             "ticks": ""
            },
            "type": "contourcarpet"
           }
          ],
          "heatmap": [
           {
            "colorbar": {
             "outlinewidth": 0,
             "ticks": ""
            },
            "colorscale": [
             [
              0,
              "#0d0887"
             ],
             [
              0.1111111111111111,
              "#46039f"
             ],
             [
              0.2222222222222222,
              "#7201a8"
             ],
             [
              0.3333333333333333,
              "#9c179e"
             ],
             [
              0.4444444444444444,
              "#bd3786"
             ],
             [
              0.5555555555555556,
              "#d8576b"
             ],
             [
              0.6666666666666666,
              "#ed7953"
             ],
             [
              0.7777777777777778,
              "#fb9f3a"
             ],
             [
              0.8888888888888888,
              "#fdca26"
             ],
             [
              1,
              "#f0f921"
             ]
            ],
            "type": "heatmap"
           }
          ],
          "heatmapgl": [
           {
            "colorbar": {
             "outlinewidth": 0,
             "ticks": ""
            },
            "colorscale": [
             [
              0,
              "#0d0887"
             ],
             [
              0.1111111111111111,
              "#46039f"
             ],
             [
              0.2222222222222222,
              "#7201a8"
             ],
             [
              0.3333333333333333,
              "#9c179e"
             ],
             [
              0.4444444444444444,
              "#bd3786"
             ],
             [
              0.5555555555555556,
              "#d8576b"
             ],
             [
              0.6666666666666666,
              "#ed7953"
             ],
             [
              0.7777777777777778,
              "#fb9f3a"
             ],
             [
              0.8888888888888888,
              "#fdca26"
             ],
             [
              1,
              "#f0f921"
             ]
            ],
            "type": "heatmapgl"
           }
          ],
          "histogram": [
           {
            "marker": {
             "pattern": {
              "fillmode": "overlay",
              "size": 10,
              "solidity": 0.2
             }
            },
            "type": "histogram"
           }
          ],
          "histogram2d": [
           {
            "colorbar": {
             "outlinewidth": 0,
             "ticks": ""
            },
            "colorscale": [
             [
              0,
              "#0d0887"
             ],
             [
              0.1111111111111111,
              "#46039f"
             ],
             [
              0.2222222222222222,
              "#7201a8"
             ],
             [
              0.3333333333333333,
              "#9c179e"
             ],
             [
              0.4444444444444444,
              "#bd3786"
             ],
             [
              0.5555555555555556,
              "#d8576b"
             ],
             [
              0.6666666666666666,
              "#ed7953"
             ],
             [
              0.7777777777777778,
              "#fb9f3a"
             ],
             [
              0.8888888888888888,
              "#fdca26"
             ],
             [
              1,
              "#f0f921"
             ]
            ],
            "type": "histogram2d"
           }
          ],
          "histogram2dcontour": [
           {
            "colorbar": {
             "outlinewidth": 0,
             "ticks": ""
            },
            "colorscale": [
             [
              0,
              "#0d0887"
             ],
             [
              0.1111111111111111,
              "#46039f"
             ],
             [
              0.2222222222222222,
              "#7201a8"
             ],
             [
              0.3333333333333333,
              "#9c179e"
             ],
             [
              0.4444444444444444,
              "#bd3786"
             ],
             [
              0.5555555555555556,
              "#d8576b"
             ],
             [
              0.6666666666666666,
              "#ed7953"
             ],
             [
              0.7777777777777778,
              "#fb9f3a"
             ],
             [
              0.8888888888888888,
              "#fdca26"
             ],
             [
              1,
              "#f0f921"
             ]
            ],
            "type": "histogram2dcontour"
           }
          ],
          "mesh3d": [
           {
            "colorbar": {
             "outlinewidth": 0,
             "ticks": ""
            },
            "type": "mesh3d"
           }
          ],
          "parcoords": [
           {
            "line": {
             "colorbar": {
              "outlinewidth": 0,
              "ticks": ""
             }
            },
            "type": "parcoords"
           }
          ],
          "pie": [
           {
            "automargin": true,
            "type": "pie"
           }
          ],
          "scatter": [
           {
            "marker": {
             "colorbar": {
              "outlinewidth": 0,
              "ticks": ""
             }
            },
            "type": "scatter"
           }
          ],
          "scatter3d": [
           {
            "line": {
             "colorbar": {
              "outlinewidth": 0,
              "ticks": ""
             }
            },
            "marker": {
             "colorbar": {
              "outlinewidth": 0,
              "ticks": ""
             }
            },
            "type": "scatter3d"
           }
          ],
          "scattercarpet": [
           {
            "marker": {
             "colorbar": {
              "outlinewidth": 0,
              "ticks": ""
             }
            },
            "type": "scattercarpet"
           }
          ],
          "scattergeo": [
           {
            "marker": {
             "colorbar": {
              "outlinewidth": 0,
              "ticks": ""
             }
            },
            "type": "scattergeo"
           }
          ],
          "scattergl": [
           {
            "marker": {
             "colorbar": {
              "outlinewidth": 0,
              "ticks": ""
             }
            },
            "type": "scattergl"
           }
          ],
          "scattermapbox": [
           {
            "marker": {
             "colorbar": {
              "outlinewidth": 0,
              "ticks": ""
             }
            },
            "type": "scattermapbox"
           }
          ],
          "scatterpolar": [
           {
            "marker": {
             "colorbar": {
              "outlinewidth": 0,
              "ticks": ""
             }
            },
            "type": "scatterpolar"
           }
          ],
          "scatterpolargl": [
           {
            "marker": {
             "colorbar": {
              "outlinewidth": 0,
              "ticks": ""
             }
            },
            "type": "scatterpolargl"
           }
          ],
          "scatterternary": [
           {
            "marker": {
             "colorbar": {
              "outlinewidth": 0,
              "ticks": ""
             }
            },
            "type": "scatterternary"
           }
          ],
          "surface": [
           {
            "colorbar": {
             "outlinewidth": 0,
             "ticks": ""
            },
            "colorscale": [
             [
              0,
              "#0d0887"
             ],
             [
              0.1111111111111111,
              "#46039f"
             ],
             [
              0.2222222222222222,
              "#7201a8"
             ],
             [
              0.3333333333333333,
              "#9c179e"
             ],
             [
              0.4444444444444444,
              "#bd3786"
             ],
             [
              0.5555555555555556,
              "#d8576b"
             ],
             [
              0.6666666666666666,
              "#ed7953"
             ],
             [
              0.7777777777777778,
              "#fb9f3a"
             ],
             [
              0.8888888888888888,
              "#fdca26"
             ],
             [
              1,
              "#f0f921"
             ]
            ],
            "type": "surface"
           }
          ],
          "table": [
           {
            "cells": {
             "fill": {
              "color": "#EBF0F8"
             },
             "line": {
              "color": "white"
             }
            },
            "header": {
             "fill": {
              "color": "#C8D4E3"
             },
             "line": {
              "color": "white"
             }
            },
            "type": "table"
           }
          ]
         },
         "layout": {
          "annotationdefaults": {
           "arrowcolor": "#2a3f5f",
           "arrowhead": 0,
           "arrowwidth": 1
          },
          "autotypenumbers": "strict",
          "coloraxis": {
           "colorbar": {
            "outlinewidth": 0,
            "ticks": ""
           }
          },
          "colorscale": {
           "diverging": [
            [
             0,
             "#8e0152"
            ],
            [
             0.1,
             "#c51b7d"
            ],
            [
             0.2,
             "#de77ae"
            ],
            [
             0.3,
             "#f1b6da"
            ],
            [
             0.4,
             "#fde0ef"
            ],
            [
             0.5,
             "#f7f7f7"
            ],
            [
             0.6,
             "#e6f5d0"
            ],
            [
             0.7,
             "#b8e186"
            ],
            [
             0.8,
             "#7fbc41"
            ],
            [
             0.9,
             "#4d9221"
            ],
            [
             1,
             "#276419"
            ]
           ],
           "sequential": [
            [
             0,
             "#0d0887"
            ],
            [
             0.1111111111111111,
             "#46039f"
            ],
            [
             0.2222222222222222,
             "#7201a8"
            ],
            [
             0.3333333333333333,
             "#9c179e"
            ],
            [
             0.4444444444444444,
             "#bd3786"
            ],
            [
             0.5555555555555556,
             "#d8576b"
            ],
            [
             0.6666666666666666,
             "#ed7953"
            ],
            [
             0.7777777777777778,
             "#fb9f3a"
            ],
            [
             0.8888888888888888,
             "#fdca26"
            ],
            [
             1,
             "#f0f921"
            ]
           ],
           "sequentialminus": [
            [
             0,
             "#0d0887"
            ],
            [
             0.1111111111111111,
             "#46039f"
            ],
            [
             0.2222222222222222,
             "#7201a8"
            ],
            [
             0.3333333333333333,
             "#9c179e"
            ],
            [
             0.4444444444444444,
             "#bd3786"
            ],
            [
             0.5555555555555556,
             "#d8576b"
            ],
            [
             0.6666666666666666,
             "#ed7953"
            ],
            [
             0.7777777777777778,
             "#fb9f3a"
            ],
            [
             0.8888888888888888,
             "#fdca26"
            ],
            [
             1,
             "#f0f921"
            ]
           ]
          },
          "colorway": [
           "#636efa",
           "#EF553B",
           "#00cc96",
           "#ab63fa",
           "#FFA15A",
           "#19d3f3",
           "#FF6692",
           "#B6E880",
           "#FF97FF",
           "#FECB52"
          ],
          "font": {
           "color": "#2a3f5f"
          },
          "geo": {
           "bgcolor": "white",
           "lakecolor": "white",
           "landcolor": "#E5ECF6",
           "showlakes": true,
           "showland": true,
           "subunitcolor": "white"
          },
          "hoverlabel": {
           "align": "left"
          },
          "hovermode": "closest",
          "mapbox": {
           "style": "light"
          },
          "paper_bgcolor": "white",
          "plot_bgcolor": "#E5ECF6",
          "polar": {
           "angularaxis": {
            "gridcolor": "white",
            "linecolor": "white",
            "ticks": ""
           },
           "bgcolor": "#E5ECF6",
           "radialaxis": {
            "gridcolor": "white",
            "linecolor": "white",
            "ticks": ""
           }
          },
          "scene": {
           "xaxis": {
            "backgroundcolor": "#E5ECF6",
            "gridcolor": "white",
            "gridwidth": 2,
            "linecolor": "white",
            "showbackground": true,
            "ticks": "",
            "zerolinecolor": "white"
           },
           "yaxis": {
            "backgroundcolor": "#E5ECF6",
            "gridcolor": "white",
            "gridwidth": 2,
            "linecolor": "white",
            "showbackground": true,
            "ticks": "",
            "zerolinecolor": "white"
           },
           "zaxis": {
            "backgroundcolor": "#E5ECF6",
            "gridcolor": "white",
            "gridwidth": 2,
            "linecolor": "white",
            "showbackground": true,
            "ticks": "",
            "zerolinecolor": "white"
           }
          },
          "shapedefaults": {
           "line": {
            "color": "#2a3f5f"
           }
          },
          "ternary": {
           "aaxis": {
            "gridcolor": "white",
            "linecolor": "white",
            "ticks": ""
           },
           "baxis": {
            "gridcolor": "white",
            "linecolor": "white",
            "ticks": ""
           },
           "bgcolor": "#E5ECF6",
           "caxis": {
            "gridcolor": "white",
            "linecolor": "white",
            "ticks": ""
           }
          },
          "title": {
           "x": 0.05
          },
          "xaxis": {
           "automargin": true,
           "gridcolor": "white",
           "linecolor": "white",
           "ticks": "",
           "title": {
            "standoff": 15
           },
           "zerolinecolor": "white",
           "zerolinewidth": 2
          },
          "yaxis": {
           "automargin": true,
           "gridcolor": "white",
           "linecolor": "white",
           "ticks": "",
           "title": {
            "standoff": 15
           },
           "zerolinecolor": "white",
           "zerolinewidth": 2
          }
         }
        },
        "title": {
         "text": "Contour Plot"
        },
        "xaxis": {
         "anchor": "y",
         "domain": [
          0,
          0.2888888888888889
         ],
         "matches": "x7",
         "range": [
          -0.05,
          1.05
         ],
         "showticklabels": false,
         "type": "category"
        },
        "xaxis2": {
         "anchor": "y2",
         "domain": [
          0.35555555555555557,
          0.6444444444444445
         ],
         "matches": "x8",
         "range": [
          700.9,
          1011.1
         ],
         "showticklabels": false
        },
        "xaxis3": {
         "anchor": "y3",
         "domain": [
          0.7111111111111111,
          1
         ],
         "matches": "x9",
         "range": [
          -4.150541663818069e-05,
          0.00490111117571494
         ],
         "showticklabels": false
        },
        "xaxis4": {
         "anchor": "y4",
         "domain": [
          0,
          0.2888888888888889
         ],
         "matches": "x7",
         "range": [
          -0.05,
          1.05
         ],
         "showticklabels": false,
         "type": "category"
        },
        "xaxis5": {
         "anchor": "y5",
         "domain": [
          0.35555555555555557,
          0.6444444444444445
         ],
         "matches": "x8",
         "range": [
          700.9,
          1011.1
         ],
         "showticklabels": false
        },
        "xaxis6": {
         "anchor": "y6",
         "domain": [
          0.7111111111111111,
          1
         ],
         "matches": "x9",
         "range": [
          -4.150541663818069e-05,
          0.00490111117571494
         ],
         "showticklabels": false
        },
        "xaxis7": {
         "anchor": "y7",
         "domain": [
          0,
          0.2888888888888889
         ],
         "range": [
          -0.05,
          1.05
         ],
         "title": {
          "text": "loss"
         },
         "type": "category"
        },
        "xaxis8": {
         "anchor": "y8",
         "domain": [
          0.35555555555555557,
          0.6444444444444445
         ],
         "range": [
          700.9,
          1011.1
         ],
         "title": {
          "text": "max_iter"
         }
        },
        "xaxis9": {
         "anchor": "y9",
         "domain": [
          0.7111111111111111,
          1
         ],
         "range": [
          -4.150541663818069e-05,
          0.00490111117571494
         ],
         "title": {
          "text": "tol"
         }
        },
        "yaxis": {
         "anchor": "x",
         "domain": [
          0.7333333333333333,
          1
         ],
         "range": [
          -0.05,
          1.05
         ],
         "title": {
          "text": "loss"
         },
         "type": "category"
        },
        "yaxis2": {
         "anchor": "x2",
         "domain": [
          0.7333333333333333,
          1
         ],
         "matches": "y",
         "range": [
          -0.05,
          1.05
         ],
         "showticklabels": false,
         "type": "category"
        },
        "yaxis3": {
         "anchor": "x3",
         "domain": [
          0.7333333333333333,
          1
         ],
         "matches": "y",
         "range": [
          -0.05,
          1.05
         ],
         "showticklabels": false,
         "type": "category"
        },
        "yaxis4": {
         "anchor": "x4",
         "domain": [
          0.36666666666666664,
          0.6333333333333333
         ],
         "range": [
          700.9,
          1011.1
         ],
         "title": {
          "text": "max_iter"
         }
        },
        "yaxis5": {
         "anchor": "x5",
         "domain": [
          0.36666666666666664,
          0.6333333333333333
         ],
         "matches": "y4",
         "range": [
          700.9,
          1011.1
         ],
         "showticklabels": false
        },
        "yaxis6": {
         "anchor": "x6",
         "domain": [
          0.36666666666666664,
          0.6333333333333333
         ],
         "matches": "y4",
         "range": [
          700.9,
          1011.1
         ],
         "showticklabels": false
        },
        "yaxis7": {
         "anchor": "x7",
         "domain": [
          0,
          0.26666666666666666
         ],
         "range": [
          -4.150541663818069e-05,
          0.00490111117571494
         ],
         "title": {
          "text": "tol"
         }
        },
        "yaxis8": {
         "anchor": "x8",
         "domain": [
          0,
          0.26666666666666666
         ],
         "matches": "y7",
         "range": [
          -4.150541663818069e-05,
          0.00490111117571494
         ],
         "showticklabels": false
        },
        "yaxis9": {
         "anchor": "x9",
         "domain": [
          0,
          0.26666666666666666
         ],
         "matches": "y7",
         "range": [
          -4.150541663818069e-05,
          0.00490111117571494
         ],
         "showticklabels": false
        }
       }
      },
      "text/html": [
       "<div>                            <div id=\"4a9a1196-bfff-43f6-80d8-c58bca02cc1d\" class=\"plotly-graph-div\" style=\"height:525px; width:100%;\"></div>            <script type=\"text/javascript\">                require([\"plotly\"], function(Plotly) {                    window.PLOTLYENV=window.PLOTLYENV || {};                                    if (document.getElementById(\"4a9a1196-bfff-43f6-80d8-c58bca02cc1d\")) {                    Plotly.newPlot(                        \"4a9a1196-bfff-43f6-80d8-c58bca02cc1d\",                        [{\"type\":\"scatter\",\"xaxis\":\"x\",\"yaxis\":\"y\"},{\"colorbar\":{\"title\":{\"text\":\"Objective Value\"}},\"colorscale\":[[0,\"rgb(5,10,172)\"],[0.35,\"rgb(40,60,190)\"],[0.5,\"rgb(70,100,245)\"],[0.6,\"rgb(90,120,245)\"],[0.7,\"rgb(106,137,247)\"],[1,\"rgb(220,220,220)\"]],\"connectgaps\":true,\"contours\":{\"coloring\":\"heatmap\"},\"hoverinfo\":\"none\",\"line\":{\"smoothing\":1.3},\"reversescale\":false,\"showscale\":true,\"type\":\"contour\",\"x\":[\"log\",\"modified_huber\"],\"xaxis\":\"x4\",\"y\":[700.9,715,755,759,825,827,854,861,864,889,898,912,914,926,935,943,961,962,983,992,997,1011.1],\"yaxis\":\"y4\",\"z\":[[null,null],[0.7446271602328614,null],[0.7446776105491562,null],[0.7449768066194079,null],[null,0.7462028568026117],[0.7449300593738986,null],[null,0.7460829627711654],[0.7446776105491562,null],[null,0.7460107552750637],[null,0.7470960920899555],[null,0.7466252832370771],[null,0.7467031975302494],[null,0.7469177955534857],[null,0.7475508276908519],[null,0.7474407544986015],[null,0.7471556398039434],[null,0.7467053268797834],[null,0.7468671356226879],[null,0.746314622221222],[null,0.7468671356226879],[null,0.746314622221222],[null,null]]},{\"marker\":{\"color\":\"black\",\"line\":{\"color\":\"Grey\",\"width\":0.5}},\"mode\":\"markers\",\"showlegend\":false,\"type\":\"scatter\",\"x\":[\"modified_huber\",\"modified_huber\",\"log\",\"modified_huber\",\"modified_huber\",\"log\",\"log\",\"modified_huber\",\"modified_huber\",\"log\",\"modified_huber\",\"modified_huber\",\"modified_huber\",\"modified_huber\",\"modified_huber\",\"modified_huber\",\"modified_huber\",\"modified_huber\",\"log\",\"modified_huber\"],\"xaxis\":\"x4\",\"y\":[825,962,715,912,854,861,755,898,864,759,983,961,992,997,943,935,926,914,827,889],\"yaxis\":\"y4\"},{\"colorbar\":{\"title\":{\"text\":\"Objective Value\"}},\"colorscale\":[[0,\"rgb(5,10,172)\"],[0.35,\"rgb(40,60,190)\"],[0.5,\"rgb(70,100,245)\"],[0.6,\"rgb(90,120,245)\"],[0.7,\"rgb(106,137,247)\"],[1,\"rgb(220,220,220)\"]],\"connectgaps\":true,\"contours\":{\"coloring\":\"heatmap\"},\"hoverinfo\":\"none\",\"line\":{\"smoothing\":1.3},\"reversescale\":false,\"showscale\":false,\"type\":\"contour\",\"x\":[\"log\",\"modified_huber\"],\"xaxis\":\"x7\",\"y\":[-4.150541663818069e-05,0.0001831589739233248,0.0003923834338699613,0.0004066376385951137,0.0006022076122239066,0.0008203131460502856,0.0009531861269208458,0.0011254664032060617,0.001624003028478911,0.001721587814127942,0.0018092349420100755,0.002007131748076453,0.0024733434165152184,0.0025058648042042726,0.002727784199164067,0.0028140591225261193,0.0034193171408126773,0.003830623154276751,0.00453507321892875,0.00460485031904171,0.004676446785153434,0.00490111117571494],\"yaxis\":\"y7\",\"z\":[[null,null],[0.7449300593738986,null],[null,0.7475508276908519],[0.7449768066194079,null],[null,0.7474407544986015],[null,0.7471556398039434],[null,0.7469177955534857],[null,0.7470960920899555],[0.7446271602328614,null],[null,0.7466252832370771],[null,0.7467031975302494],[null,0.7467053268797834],[null,0.7468671356226879],[null,0.7468671356226879],[null,0.746314622221222],[null,0.746314622221222],[null,0.7460829627711654],[null,0.7462028568026117],[null,0.7460107552750637],[0.7446776105491562,null],[0.7446776105491562,null],[null,null]]},{\"marker\":{\"color\":\"black\",\"line\":{\"color\":\"Grey\",\"width\":0.5}},\"mode\":\"markers\",\"showlegend\":false,\"type\":\"scatter\",\"x\":[\"modified_huber\",\"modified_huber\",\"log\",\"modified_huber\",\"modified_huber\",\"log\",\"log\",\"modified_huber\",\"modified_huber\",\"log\",\"modified_huber\",\"modified_huber\",\"modified_huber\",\"modified_huber\",\"modified_huber\",\"modified_huber\",\"modified_huber\",\"modified_huber\",\"log\",\"modified_huber\"],\"xaxis\":\"x7\",\"y\":[0.003830623154276751,0.0024733434165152184,0.001624003028478911,0.0018092349420100755,0.0034193171408126773,0.00460485031904171,0.004676446785153434,0.001721587814127942,0.00453507321892875,0.0004066376385951137,0.0028140591225261193,0.002007131748076453,0.0025058648042042726,0.002727784199164067,0.0008203131460502856,0.0006022076122239066,0.0003923834338699613,0.0009531861269208458,0.0001831589739233248,0.0011254664032060617],\"yaxis\":\"y7\"},{\"colorbar\":{\"title\":{\"text\":\"Objective Value\"}},\"colorscale\":[[0,\"rgb(5,10,172)\"],[0.35,\"rgb(40,60,190)\"],[0.5,\"rgb(70,100,245)\"],[0.6,\"rgb(90,120,245)\"],[0.7,\"rgb(106,137,247)\"],[1,\"rgb(220,220,220)\"]],\"connectgaps\":true,\"contours\":{\"coloring\":\"heatmap\"},\"hoverinfo\":\"none\",\"line\":{\"smoothing\":1.3},\"reversescale\":false,\"showscale\":false,\"type\":\"contour\",\"x\":[700.9,715,755,759,825,827,854,861,864,889,898,912,914,926,935,943,961,962,983,992,997,1011.1],\"xaxis\":\"x2\",\"y\":[\"log\",\"modified_huber\"],\"yaxis\":\"y2\",\"z\":[[null,0.7446271602328614,0.7446776105491562,0.7449768066194079,null,0.7449300593738986,null,0.7446776105491562,null,null,null,null,null,null,null,null,null,null,null,null,null,null],[null,null,null,null,0.7462028568026117,null,0.7460829627711654,null,0.7460107552750637,0.7470960920899555,0.7466252832370771,0.7467031975302494,0.7469177955534857,0.7475508276908519,0.7474407544986015,0.7471556398039434,0.7467053268797834,0.7468671356226879,0.746314622221222,0.7468671356226879,0.746314622221222,null]]},{\"marker\":{\"color\":\"black\",\"line\":{\"color\":\"Grey\",\"width\":0.5}},\"mode\":\"markers\",\"showlegend\":false,\"type\":\"scatter\",\"x\":[825,962,715,912,854,861,755,898,864,759,983,961,992,997,943,935,926,914,827,889],\"xaxis\":\"x2\",\"y\":[\"modified_huber\",\"modified_huber\",\"log\",\"modified_huber\",\"modified_huber\",\"log\",\"log\",\"modified_huber\",\"modified_huber\",\"log\",\"modified_huber\",\"modified_huber\",\"modified_huber\",\"modified_huber\",\"modified_huber\",\"modified_huber\",\"modified_huber\",\"modified_huber\",\"log\",\"modified_huber\"],\"yaxis\":\"y2\"},{\"type\":\"scatter\",\"xaxis\":\"x5\",\"yaxis\":\"y5\"},{\"colorbar\":{\"title\":{\"text\":\"Objective Value\"}},\"colorscale\":[[0,\"rgb(5,10,172)\"],[0.35,\"rgb(40,60,190)\"],[0.5,\"rgb(70,100,245)\"],[0.6,\"rgb(90,120,245)\"],[0.7,\"rgb(106,137,247)\"],[1,\"rgb(220,220,220)\"]],\"connectgaps\":true,\"contours\":{\"coloring\":\"heatmap\"},\"hoverinfo\":\"none\",\"line\":{\"smoothing\":1.3},\"reversescale\":false,\"showscale\":false,\"type\":\"contour\",\"x\":[700.9,715,755,759,825,827,854,861,864,889,898,912,914,926,935,943,961,962,983,992,997,1011.1],\"xaxis\":\"x8\",\"y\":[-4.150541663818069e-05,0.0001831589739233248,0.0003923834338699613,0.0004066376385951137,0.0006022076122239066,0.0008203131460502856,0.0009531861269208458,0.0011254664032060617,0.001624003028478911,0.001721587814127942,0.0018092349420100755,0.002007131748076453,0.0024733434165152184,0.0025058648042042726,0.002727784199164067,0.0028140591225261193,0.0034193171408126773,0.003830623154276751,0.00453507321892875,0.00460485031904171,0.004676446785153434,0.00490111117571494],\"yaxis\":\"y8\",\"z\":[[null,null,null,null,null,null,null,null,null,null,null,null,null,null,null,null,null,null,null,null,null,null],[null,null,null,null,null,0.7449300593738986,null,null,null,null,null,null,null,null,null,null,null,null,null,null,null,null],[null,null,null,null,null,null,null,null,null,null,null,null,null,0.7475508276908519,null,null,null,null,null,null,null,null],[null,null,null,0.7449768066194079,null,null,null,null,null,null,null,null,null,null,null,null,null,null,null,null,null,null],[null,null,null,null,null,null,null,null,null,null,null,null,null,null,0.7474407544986015,null,null,null,null,null,null,null],[null,null,null,null,null,null,null,null,null,null,null,null,null,null,null,0.7471556398039434,null,null,null,null,null,null],[null,null,null,null,null,null,null,null,null,null,null,null,0.7469177955534857,null,null,null,null,null,null,null,null,null],[null,null,null,null,null,null,null,null,null,0.7470960920899555,null,null,null,null,null,null,null,null,null,null,null,null],[null,0.7446271602328614,null,null,null,null,null,null,null,null,null,null,null,null,null,null,null,null,null,null,null,null],[null,null,null,null,null,null,null,null,null,null,0.7466252832370771,null,null,null,null,null,null,null,null,null,null,null],[null,null,null,null,null,null,null,null,null,null,null,0.7467031975302494,null,null,null,null,null,null,null,null,null,null],[null,null,null,null,null,null,null,null,null,null,null,null,null,null,null,null,0.7467053268797834,null,null,null,null,null],[null,null,null,null,null,null,null,null,null,null,null,null,null,null,null,null,null,0.7468671356226879,null,null,null,null],[null,null,null,null,null,null,null,null,null,null,null,null,null,null,null,null,null,null,null,0.7468671356226879,null,null],[null,null,null,null,null,null,null,null,null,null,null,null,null,null,null,null,null,null,null,null,0.746314622221222,null],[null,null,null,null,null,null,null,null,null,null,null,null,null,null,null,null,null,null,0.746314622221222,null,null,null],[null,null,null,null,null,null,0.7460829627711654,null,null,null,null,null,null,null,null,null,null,null,null,null,null,null],[null,null,null,null,0.7462028568026117,null,null,null,null,null,null,null,null,null,null,null,null,null,null,null,null,null],[null,null,null,null,null,null,null,null,0.7460107552750637,null,null,null,null,null,null,null,null,null,null,null,null,null],[null,null,null,null,null,null,null,0.7446776105491562,null,null,null,null,null,null,null,null,null,null,null,null,null,null],[null,null,0.7446776105491562,null,null,null,null,null,null,null,null,null,null,null,null,null,null,null,null,null,null,null],[null,null,null,null,null,null,null,null,null,null,null,null,null,null,null,null,null,null,null,null,null,null]]},{\"marker\":{\"color\":\"black\",\"line\":{\"color\":\"Grey\",\"width\":0.5}},\"mode\":\"markers\",\"showlegend\":false,\"type\":\"scatter\",\"x\":[825,962,715,912,854,861,755,898,864,759,983,961,992,997,943,935,926,914,827,889],\"xaxis\":\"x8\",\"y\":[0.003830623154276751,0.0024733434165152184,0.001624003028478911,0.0018092349420100755,0.0034193171408126773,0.00460485031904171,0.004676446785153434,0.001721587814127942,0.00453507321892875,0.0004066376385951137,0.0028140591225261193,0.002007131748076453,0.0025058648042042726,0.002727784199164067,0.0008203131460502856,0.0006022076122239066,0.0003923834338699613,0.0009531861269208458,0.0001831589739233248,0.0011254664032060617],\"yaxis\":\"y8\"},{\"colorbar\":{\"title\":{\"text\":\"Objective Value\"}},\"colorscale\":[[0,\"rgb(5,10,172)\"],[0.35,\"rgb(40,60,190)\"],[0.5,\"rgb(70,100,245)\"],[0.6,\"rgb(90,120,245)\"],[0.7,\"rgb(106,137,247)\"],[1,\"rgb(220,220,220)\"]],\"connectgaps\":true,\"contours\":{\"coloring\":\"heatmap\"},\"hoverinfo\":\"none\",\"line\":{\"smoothing\":1.3},\"reversescale\":false,\"showscale\":false,\"type\":\"contour\",\"x\":[-4.150541663818069e-05,0.0001831589739233248,0.0003923834338699613,0.0004066376385951137,0.0006022076122239066,0.0008203131460502856,0.0009531861269208458,0.0011254664032060617,0.001624003028478911,0.001721587814127942,0.0018092349420100755,0.002007131748076453,0.0024733434165152184,0.0025058648042042726,0.002727784199164067,0.0028140591225261193,0.0034193171408126773,0.003830623154276751,0.00453507321892875,0.00460485031904171,0.004676446785153434,0.00490111117571494],\"xaxis\":\"x3\",\"y\":[\"log\",\"modified_huber\"],\"yaxis\":\"y3\",\"z\":[[null,0.7449300593738986,null,0.7449768066194079,null,null,null,null,0.7446271602328614,null,null,null,null,null,null,null,null,null,null,0.7446776105491562,0.7446776105491562,null],[null,null,0.7475508276908519,null,0.7474407544986015,0.7471556398039434,0.7469177955534857,0.7470960920899555,null,0.7466252832370771,0.7467031975302494,0.7467053268797834,0.7468671356226879,0.7468671356226879,0.746314622221222,0.746314622221222,0.7460829627711654,0.7462028568026117,0.7460107552750637,null,null,null]]},{\"marker\":{\"color\":\"black\",\"line\":{\"color\":\"Grey\",\"width\":0.5}},\"mode\":\"markers\",\"showlegend\":false,\"type\":\"scatter\",\"x\":[0.003830623154276751,0.0024733434165152184,0.001624003028478911,0.0018092349420100755,0.0034193171408126773,0.00460485031904171,0.004676446785153434,0.001721587814127942,0.00453507321892875,0.0004066376385951137,0.0028140591225261193,0.002007131748076453,0.0025058648042042726,0.002727784199164067,0.0008203131460502856,0.0006022076122239066,0.0003923834338699613,0.0009531861269208458,0.0001831589739233248,0.0011254664032060617],\"xaxis\":\"x3\",\"y\":[\"modified_huber\",\"modified_huber\",\"log\",\"modified_huber\",\"modified_huber\",\"log\",\"log\",\"modified_huber\",\"modified_huber\",\"log\",\"modified_huber\",\"modified_huber\",\"modified_huber\",\"modified_huber\",\"modified_huber\",\"modified_huber\",\"modified_huber\",\"modified_huber\",\"log\",\"modified_huber\"],\"yaxis\":\"y3\"},{\"colorbar\":{\"title\":{\"text\":\"Objective Value\"}},\"colorscale\":[[0,\"rgb(5,10,172)\"],[0.35,\"rgb(40,60,190)\"],[0.5,\"rgb(70,100,245)\"],[0.6,\"rgb(90,120,245)\"],[0.7,\"rgb(106,137,247)\"],[1,\"rgb(220,220,220)\"]],\"connectgaps\":true,\"contours\":{\"coloring\":\"heatmap\"},\"hoverinfo\":\"none\",\"line\":{\"smoothing\":1.3},\"reversescale\":false,\"showscale\":false,\"type\":\"contour\",\"x\":[-4.150541663818069e-05,0.0001831589739233248,0.0003923834338699613,0.0004066376385951137,0.0006022076122239066,0.0008203131460502856,0.0009531861269208458,0.0011254664032060617,0.001624003028478911,0.001721587814127942,0.0018092349420100755,0.002007131748076453,0.0024733434165152184,0.0025058648042042726,0.002727784199164067,0.0028140591225261193,0.0034193171408126773,0.003830623154276751,0.00453507321892875,0.00460485031904171,0.004676446785153434,0.00490111117571494],\"xaxis\":\"x6\",\"y\":[700.9,715,755,759,825,827,854,861,864,889,898,912,914,926,935,943,961,962,983,992,997,1011.1],\"yaxis\":\"y6\",\"z\":[[null,null,null,null,null,null,null,null,null,null,null,null,null,null,null,null,null,null,null,null,null,null],[null,null,null,null,null,null,null,null,0.7446271602328614,null,null,null,null,null,null,null,null,null,null,null,null,null],[null,null,null,null,null,null,null,null,null,null,null,null,null,null,null,null,null,null,null,null,0.7446776105491562,null],[null,null,null,0.7449768066194079,null,null,null,null,null,null,null,null,null,null,null,null,null,null,null,null,null,null],[null,null,null,null,null,null,null,null,null,null,null,null,null,null,null,null,null,0.7462028568026117,null,null,null,null],[null,0.7449300593738986,null,null,null,null,null,null,null,null,null,null,null,null,null,null,null,null,null,null,null,null],[null,null,null,null,null,null,null,null,null,null,null,null,null,null,null,null,0.7460829627711654,null,null,null,null,null],[null,null,null,null,null,null,null,null,null,null,null,null,null,null,null,null,null,null,null,0.7446776105491562,null,null],[null,null,null,null,null,null,null,null,null,null,null,null,null,null,null,null,null,null,0.7460107552750637,null,null,null],[null,null,null,null,null,null,null,0.7470960920899555,null,null,null,null,null,null,null,null,null,null,null,null,null,null],[null,null,null,null,null,null,null,null,null,0.7466252832370771,null,null,null,null,null,null,null,null,null,null,null,null],[null,null,null,null,null,null,null,null,null,null,0.7467031975302494,null,null,null,null,null,null,null,null,null,null,null],[null,null,null,null,null,null,0.7469177955534857,null,null,null,null,null,null,null,null,null,null,null,null,null,null,null],[null,null,0.7475508276908519,null,null,null,null,null,null,null,null,null,null,null,null,null,null,null,null,null,null,null],[null,null,null,null,0.7474407544986015,null,null,null,null,null,null,null,null,null,null,null,null,null,null,null,null,null],[null,null,null,null,null,0.7471556398039434,null,null,null,null,null,null,null,null,null,null,null,null,null,null,null,null],[null,null,null,null,null,null,null,null,null,null,null,0.7467053268797834,null,null,null,null,null,null,null,null,null,null],[null,null,null,null,null,null,null,null,null,null,null,null,0.7468671356226879,null,null,null,null,null,null,null,null,null],[null,null,null,null,null,null,null,null,null,null,null,null,null,null,null,0.746314622221222,null,null,null,null,null,null],[null,null,null,null,null,null,null,null,null,null,null,null,null,0.7468671356226879,null,null,null,null,null,null,null,null],[null,null,null,null,null,null,null,null,null,null,null,null,null,null,0.746314622221222,null,null,null,null,null,null,null],[null,null,null,null,null,null,null,null,null,null,null,null,null,null,null,null,null,null,null,null,null,null]]},{\"marker\":{\"color\":\"black\",\"line\":{\"color\":\"Grey\",\"width\":0.5}},\"mode\":\"markers\",\"showlegend\":false,\"type\":\"scatter\",\"x\":[0.003830623154276751,0.0024733434165152184,0.001624003028478911,0.0018092349420100755,0.0034193171408126773,0.00460485031904171,0.004676446785153434,0.001721587814127942,0.00453507321892875,0.0004066376385951137,0.0028140591225261193,0.002007131748076453,0.0025058648042042726,0.002727784199164067,0.0008203131460502856,0.0006022076122239066,0.0003923834338699613,0.0009531861269208458,0.0001831589739233248,0.0011254664032060617],\"xaxis\":\"x6\",\"y\":[825,962,715,912,854,861,755,898,864,759,983,961,992,997,943,935,926,914,827,889],\"yaxis\":\"y6\"},{\"type\":\"scatter\",\"xaxis\":\"x9\",\"yaxis\":\"y9\"}],                        {\"template\":{\"data\":{\"bar\":[{\"error_x\":{\"color\":\"#2a3f5f\"},\"error_y\":{\"color\":\"#2a3f5f\"},\"marker\":{\"line\":{\"color\":\"#E5ECF6\",\"width\":0.5},\"pattern\":{\"fillmode\":\"overlay\",\"size\":10,\"solidity\":0.2}},\"type\":\"bar\"}],\"barpolar\":[{\"marker\":{\"line\":{\"color\":\"#E5ECF6\",\"width\":0.5},\"pattern\":{\"fillmode\":\"overlay\",\"size\":10,\"solidity\":0.2}},\"type\":\"barpolar\"}],\"carpet\":[{\"aaxis\":{\"endlinecolor\":\"#2a3f5f\",\"gridcolor\":\"white\",\"linecolor\":\"white\",\"minorgridcolor\":\"white\",\"startlinecolor\":\"#2a3f5f\"},\"baxis\":{\"endlinecolor\":\"#2a3f5f\",\"gridcolor\":\"white\",\"linecolor\":\"white\",\"minorgridcolor\":\"white\",\"startlinecolor\":\"#2a3f5f\"},\"type\":\"carpet\"}],\"choropleth\":[{\"colorbar\":{\"outlinewidth\":0,\"ticks\":\"\"},\"type\":\"choropleth\"}],\"contour\":[{\"colorbar\":{\"outlinewidth\":0,\"ticks\":\"\"},\"colorscale\":[[0.0,\"#0d0887\"],[0.1111111111111111,\"#46039f\"],[0.2222222222222222,\"#7201a8\"],[0.3333333333333333,\"#9c179e\"],[0.4444444444444444,\"#bd3786\"],[0.5555555555555556,\"#d8576b\"],[0.6666666666666666,\"#ed7953\"],[0.7777777777777778,\"#fb9f3a\"],[0.8888888888888888,\"#fdca26\"],[1.0,\"#f0f921\"]],\"type\":\"contour\"}],\"contourcarpet\":[{\"colorbar\":{\"outlinewidth\":0,\"ticks\":\"\"},\"type\":\"contourcarpet\"}],\"heatmap\":[{\"colorbar\":{\"outlinewidth\":0,\"ticks\":\"\"},\"colorscale\":[[0.0,\"#0d0887\"],[0.1111111111111111,\"#46039f\"],[0.2222222222222222,\"#7201a8\"],[0.3333333333333333,\"#9c179e\"],[0.4444444444444444,\"#bd3786\"],[0.5555555555555556,\"#d8576b\"],[0.6666666666666666,\"#ed7953\"],[0.7777777777777778,\"#fb9f3a\"],[0.8888888888888888,\"#fdca26\"],[1.0,\"#f0f921\"]],\"type\":\"heatmap\"}],\"heatmapgl\":[{\"colorbar\":{\"outlinewidth\":0,\"ticks\":\"\"},\"colorscale\":[[0.0,\"#0d0887\"],[0.1111111111111111,\"#46039f\"],[0.2222222222222222,\"#7201a8\"],[0.3333333333333333,\"#9c179e\"],[0.4444444444444444,\"#bd3786\"],[0.5555555555555556,\"#d8576b\"],[0.6666666666666666,\"#ed7953\"],[0.7777777777777778,\"#fb9f3a\"],[0.8888888888888888,\"#fdca26\"],[1.0,\"#f0f921\"]],\"type\":\"heatmapgl\"}],\"histogram\":[{\"marker\":{\"pattern\":{\"fillmode\":\"overlay\",\"size\":10,\"solidity\":0.2}},\"type\":\"histogram\"}],\"histogram2d\":[{\"colorbar\":{\"outlinewidth\":0,\"ticks\":\"\"},\"colorscale\":[[0.0,\"#0d0887\"],[0.1111111111111111,\"#46039f\"],[0.2222222222222222,\"#7201a8\"],[0.3333333333333333,\"#9c179e\"],[0.4444444444444444,\"#bd3786\"],[0.5555555555555556,\"#d8576b\"],[0.6666666666666666,\"#ed7953\"],[0.7777777777777778,\"#fb9f3a\"],[0.8888888888888888,\"#fdca26\"],[1.0,\"#f0f921\"]],\"type\":\"histogram2d\"}],\"histogram2dcontour\":[{\"colorbar\":{\"outlinewidth\":0,\"ticks\":\"\"},\"colorscale\":[[0.0,\"#0d0887\"],[0.1111111111111111,\"#46039f\"],[0.2222222222222222,\"#7201a8\"],[0.3333333333333333,\"#9c179e\"],[0.4444444444444444,\"#bd3786\"],[0.5555555555555556,\"#d8576b\"],[0.6666666666666666,\"#ed7953\"],[0.7777777777777778,\"#fb9f3a\"],[0.8888888888888888,\"#fdca26\"],[1.0,\"#f0f921\"]],\"type\":\"histogram2dcontour\"}],\"mesh3d\":[{\"colorbar\":{\"outlinewidth\":0,\"ticks\":\"\"},\"type\":\"mesh3d\"}],\"parcoords\":[{\"line\":{\"colorbar\":{\"outlinewidth\":0,\"ticks\":\"\"}},\"type\":\"parcoords\"}],\"pie\":[{\"automargin\":true,\"type\":\"pie\"}],\"scatter\":[{\"marker\":{\"colorbar\":{\"outlinewidth\":0,\"ticks\":\"\"}},\"type\":\"scatter\"}],\"scatter3d\":[{\"line\":{\"colorbar\":{\"outlinewidth\":0,\"ticks\":\"\"}},\"marker\":{\"colorbar\":{\"outlinewidth\":0,\"ticks\":\"\"}},\"type\":\"scatter3d\"}],\"scattercarpet\":[{\"marker\":{\"colorbar\":{\"outlinewidth\":0,\"ticks\":\"\"}},\"type\":\"scattercarpet\"}],\"scattergeo\":[{\"marker\":{\"colorbar\":{\"outlinewidth\":0,\"ticks\":\"\"}},\"type\":\"scattergeo\"}],\"scattergl\":[{\"marker\":{\"colorbar\":{\"outlinewidth\":0,\"ticks\":\"\"}},\"type\":\"scattergl\"}],\"scattermapbox\":[{\"marker\":{\"colorbar\":{\"outlinewidth\":0,\"ticks\":\"\"}},\"type\":\"scattermapbox\"}],\"scatterpolar\":[{\"marker\":{\"colorbar\":{\"outlinewidth\":0,\"ticks\":\"\"}},\"type\":\"scatterpolar\"}],\"scatterpolargl\":[{\"marker\":{\"colorbar\":{\"outlinewidth\":0,\"ticks\":\"\"}},\"type\":\"scatterpolargl\"}],\"scatterternary\":[{\"marker\":{\"colorbar\":{\"outlinewidth\":0,\"ticks\":\"\"}},\"type\":\"scatterternary\"}],\"surface\":[{\"colorbar\":{\"outlinewidth\":0,\"ticks\":\"\"},\"colorscale\":[[0.0,\"#0d0887\"],[0.1111111111111111,\"#46039f\"],[0.2222222222222222,\"#7201a8\"],[0.3333333333333333,\"#9c179e\"],[0.4444444444444444,\"#bd3786\"],[0.5555555555555556,\"#d8576b\"],[0.6666666666666666,\"#ed7953\"],[0.7777777777777778,\"#fb9f3a\"],[0.8888888888888888,\"#fdca26\"],[1.0,\"#f0f921\"]],\"type\":\"surface\"}],\"table\":[{\"cells\":{\"fill\":{\"color\":\"#EBF0F8\"},\"line\":{\"color\":\"white\"}},\"header\":{\"fill\":{\"color\":\"#C8D4E3\"},\"line\":{\"color\":\"white\"}},\"type\":\"table\"}]},\"layout\":{\"annotationdefaults\":{\"arrowcolor\":\"#2a3f5f\",\"arrowhead\":0,\"arrowwidth\":1},\"autotypenumbers\":\"strict\",\"coloraxis\":{\"colorbar\":{\"outlinewidth\":0,\"ticks\":\"\"}},\"colorscale\":{\"diverging\":[[0,\"#8e0152\"],[0.1,\"#c51b7d\"],[0.2,\"#de77ae\"],[0.3,\"#f1b6da\"],[0.4,\"#fde0ef\"],[0.5,\"#f7f7f7\"],[0.6,\"#e6f5d0\"],[0.7,\"#b8e186\"],[0.8,\"#7fbc41\"],[0.9,\"#4d9221\"],[1,\"#276419\"]],\"sequential\":[[0.0,\"#0d0887\"],[0.1111111111111111,\"#46039f\"],[0.2222222222222222,\"#7201a8\"],[0.3333333333333333,\"#9c179e\"],[0.4444444444444444,\"#bd3786\"],[0.5555555555555556,\"#d8576b\"],[0.6666666666666666,\"#ed7953\"],[0.7777777777777778,\"#fb9f3a\"],[0.8888888888888888,\"#fdca26\"],[1.0,\"#f0f921\"]],\"sequentialminus\":[[0.0,\"#0d0887\"],[0.1111111111111111,\"#46039f\"],[0.2222222222222222,\"#7201a8\"],[0.3333333333333333,\"#9c179e\"],[0.4444444444444444,\"#bd3786\"],[0.5555555555555556,\"#d8576b\"],[0.6666666666666666,\"#ed7953\"],[0.7777777777777778,\"#fb9f3a\"],[0.8888888888888888,\"#fdca26\"],[1.0,\"#f0f921\"]]},\"colorway\":[\"#636efa\",\"#EF553B\",\"#00cc96\",\"#ab63fa\",\"#FFA15A\",\"#19d3f3\",\"#FF6692\",\"#B6E880\",\"#FF97FF\",\"#FECB52\"],\"font\":{\"color\":\"#2a3f5f\"},\"geo\":{\"bgcolor\":\"white\",\"lakecolor\":\"white\",\"landcolor\":\"#E5ECF6\",\"showlakes\":true,\"showland\":true,\"subunitcolor\":\"white\"},\"hoverlabel\":{\"align\":\"left\"},\"hovermode\":\"closest\",\"mapbox\":{\"style\":\"light\"},\"paper_bgcolor\":\"white\",\"plot_bgcolor\":\"#E5ECF6\",\"polar\":{\"angularaxis\":{\"gridcolor\":\"white\",\"linecolor\":\"white\",\"ticks\":\"\"},\"bgcolor\":\"#E5ECF6\",\"radialaxis\":{\"gridcolor\":\"white\",\"linecolor\":\"white\",\"ticks\":\"\"}},\"scene\":{\"xaxis\":{\"backgroundcolor\":\"#E5ECF6\",\"gridcolor\":\"white\",\"gridwidth\":2,\"linecolor\":\"white\",\"showbackground\":true,\"ticks\":\"\",\"zerolinecolor\":\"white\"},\"yaxis\":{\"backgroundcolor\":\"#E5ECF6\",\"gridcolor\":\"white\",\"gridwidth\":2,\"linecolor\":\"white\",\"showbackground\":true,\"ticks\":\"\",\"zerolinecolor\":\"white\"},\"zaxis\":{\"backgroundcolor\":\"#E5ECF6\",\"gridcolor\":\"white\",\"gridwidth\":2,\"linecolor\":\"white\",\"showbackground\":true,\"ticks\":\"\",\"zerolinecolor\":\"white\"}},\"shapedefaults\":{\"line\":{\"color\":\"#2a3f5f\"}},\"ternary\":{\"aaxis\":{\"gridcolor\":\"white\",\"linecolor\":\"white\",\"ticks\":\"\"},\"baxis\":{\"gridcolor\":\"white\",\"linecolor\":\"white\",\"ticks\":\"\"},\"bgcolor\":\"#E5ECF6\",\"caxis\":{\"gridcolor\":\"white\",\"linecolor\":\"white\",\"ticks\":\"\"}},\"title\":{\"x\":0.05},\"xaxis\":{\"automargin\":true,\"gridcolor\":\"white\",\"linecolor\":\"white\",\"ticks\":\"\",\"title\":{\"standoff\":15},\"zerolinecolor\":\"white\",\"zerolinewidth\":2},\"yaxis\":{\"automargin\":true,\"gridcolor\":\"white\",\"linecolor\":\"white\",\"ticks\":\"\",\"title\":{\"standoff\":15},\"zerolinecolor\":\"white\",\"zerolinewidth\":2}}},\"title\":{\"text\":\"Contour Plot\"},\"xaxis\":{\"anchor\":\"y\",\"domain\":[0.0,0.2888888888888889],\"matches\":\"x7\",\"range\":[-0.05,1.05],\"showticklabels\":false,\"type\":\"category\"},\"xaxis2\":{\"anchor\":\"y2\",\"domain\":[0.35555555555555557,0.6444444444444445],\"matches\":\"x8\",\"range\":[700.9,1011.1],\"showticklabels\":false},\"xaxis3\":{\"anchor\":\"y3\",\"domain\":[0.7111111111111111,1.0],\"matches\":\"x9\",\"range\":[-4.150541663818069e-05,0.00490111117571494],\"showticklabels\":false},\"xaxis4\":{\"anchor\":\"y4\",\"domain\":[0.0,0.2888888888888889],\"matches\":\"x7\",\"range\":[-0.05,1.05],\"showticklabels\":false,\"type\":\"category\"},\"xaxis5\":{\"anchor\":\"y5\",\"domain\":[0.35555555555555557,0.6444444444444445],\"matches\":\"x8\",\"range\":[700.9,1011.1],\"showticklabels\":false},\"xaxis6\":{\"anchor\":\"y6\",\"domain\":[0.7111111111111111,1.0],\"matches\":\"x9\",\"range\":[-4.150541663818069e-05,0.00490111117571494],\"showticklabels\":false},\"xaxis7\":{\"anchor\":\"y7\",\"domain\":[0.0,0.2888888888888889],\"range\":[-0.05,1.05],\"title\":{\"text\":\"loss\"},\"type\":\"category\"},\"xaxis8\":{\"anchor\":\"y8\",\"domain\":[0.35555555555555557,0.6444444444444445],\"range\":[700.9,1011.1],\"title\":{\"text\":\"max_iter\"}},\"xaxis9\":{\"anchor\":\"y9\",\"domain\":[0.7111111111111111,1.0],\"range\":[-4.150541663818069e-05,0.00490111117571494],\"title\":{\"text\":\"tol\"}},\"yaxis\":{\"anchor\":\"x\",\"domain\":[0.7333333333333333,1.0],\"range\":[-0.05,1.05],\"title\":{\"text\":\"loss\"},\"type\":\"category\"},\"yaxis2\":{\"anchor\":\"x2\",\"domain\":[0.7333333333333333,1.0],\"matches\":\"y\",\"range\":[-0.05,1.05],\"showticklabels\":false,\"type\":\"category\"},\"yaxis3\":{\"anchor\":\"x3\",\"domain\":[0.7333333333333333,1.0],\"matches\":\"y\",\"range\":[-0.05,1.05],\"showticklabels\":false,\"type\":\"category\"},\"yaxis4\":{\"anchor\":\"x4\",\"domain\":[0.36666666666666664,0.6333333333333333],\"range\":[700.9,1011.1],\"title\":{\"text\":\"max_iter\"}},\"yaxis5\":{\"anchor\":\"x5\",\"domain\":[0.36666666666666664,0.6333333333333333],\"matches\":\"y4\",\"range\":[700.9,1011.1],\"showticklabels\":false},\"yaxis6\":{\"anchor\":\"x6\",\"domain\":[0.36666666666666664,0.6333333333333333],\"matches\":\"y4\",\"range\":[700.9,1011.1],\"showticklabels\":false},\"yaxis7\":{\"anchor\":\"x7\",\"domain\":[0.0,0.26666666666666666],\"range\":[-4.150541663818069e-05,0.00490111117571494],\"title\":{\"text\":\"tol\"}},\"yaxis8\":{\"anchor\":\"x8\",\"domain\":[0.0,0.26666666666666666],\"matches\":\"y7\",\"range\":[-4.150541663818069e-05,0.00490111117571494],\"showticklabels\":false},\"yaxis9\":{\"anchor\":\"x9\",\"domain\":[0.0,0.26666666666666666],\"matches\":\"y7\",\"range\":[-4.150541663818069e-05,0.00490111117571494],\"showticklabels\":false}},                        {\"responsive\": true}                    ).then(function(){\n",
       "                            \n",
       "var gd = document.getElementById('4a9a1196-bfff-43f6-80d8-c58bca02cc1d');\n",
       "var x = new MutationObserver(function (mutations, observer) {{\n",
       "        var display = window.getComputedStyle(gd).display;\n",
       "        if (!display || display === 'none') {{\n",
       "            console.log([gd, 'removed!']);\n",
       "            Plotly.purge(gd);\n",
       "            observer.disconnect();\n",
       "        }}\n",
       "}});\n",
       "\n",
       "// Listen for the removal of the full notebook cells\n",
       "var notebookContainer = gd.closest('#notebook-container');\n",
       "if (notebookContainer) {{\n",
       "    x.observe(notebookContainer, {childList: true});\n",
       "}}\n",
       "\n",
       "// Listen for the clearing of the current output cell\n",
       "var outputEl = gd.closest('.output');\n",
       "if (outputEl) {{\n",
       "    x.observe(outputEl, {childList: true});\n",
       "}}\n",
       "\n",
       "                        })                };                });            </script>        </div>"
      ]
     },
     "metadata": {},
     "output_type": "display_data"
    }
   ],
   "source": [
    "###################################################################################################\n",
    "# Select parameters to visualize.\n",
    "plot_contour(study, params=[ 'loss', 'tol', 'max_iter'])"
   ]
  },
  {
   "cell_type": "code",
   "execution_count": 215,
   "metadata": {
    "ExecuteTime": {
     "end_time": "2021-11-16T02:38:47.828075Z",
     "start_time": "2021-11-16T02:38:47.719087Z"
    },
    "colab": {
     "base_uri": "https://localhost:8080/",
     "height": 562
    },
    "executionInfo": {
     "elapsed": 707,
     "status": "ok",
     "timestamp": 1635585758893,
     "user": {
      "displayName": "Rogério Delfim",
      "photoUrl": "https://lh3.googleusercontent.com/a-/AOh14Gj8lDYWTfZHU0U0sMojRPio71Ec7YDcSEpCaOEE=s64",
      "userId": "04235763959036945343"
     },
     "user_tz": 180
    },
    "id": "-7ssQ77NmXBQ",
    "outputId": "d82818bd-be8d-455f-b7f1-49eee1a04731"
   },
   "outputs": [
    {
     "data": {
      "application/vnd.plotly.v1+json": {
       "config": {
        "plotlyServerURL": "https://plot.ly"
       },
       "data": [
        {
         "marker": {
          "color": [
           0,
           1,
           2,
           3,
           4,
           5,
           6,
           7,
           8,
           9,
           10,
           11,
           12,
           13,
           14,
           15,
           16,
           17,
           18,
           19
          ],
          "colorbar": {
           "title": {
            "text": "#Trials"
           },
           "x": 1,
           "xpad": 40
          },
          "colorscale": [
           [
            0,
            "rgb(247,251,255)"
           ],
           [
            0.125,
            "rgb(222,235,247)"
           ],
           [
            0.25,
            "rgb(198,219,239)"
           ],
           [
            0.375,
            "rgb(158,202,225)"
           ],
           [
            0.5,
            "rgb(107,174,214)"
           ],
           [
            0.625,
            "rgb(66,146,198)"
           ],
           [
            0.75,
            "rgb(33,113,181)"
           ],
           [
            0.875,
            "rgb(8,81,156)"
           ],
           [
            1,
            "rgb(8,48,107)"
           ]
          ],
          "line": {
           "color": "Grey",
           "width": 0.5
          },
          "showscale": true
         },
         "mode": "markers",
         "showlegend": false,
         "type": "scatter",
         "x": [
          "modified_huber",
          "modified_huber",
          "log",
          "modified_huber",
          "modified_huber",
          "log",
          "log",
          "modified_huber",
          "modified_huber",
          "log",
          "modified_huber",
          "modified_huber",
          "modified_huber",
          "modified_huber",
          "modified_huber",
          "modified_huber",
          "modified_huber",
          "modified_huber",
          "log",
          "modified_huber"
         ],
         "xaxis": "x",
         "y": [
          0.7462028568026117,
          0.7468671356226879,
          0.7446271602328614,
          0.7467031975302494,
          0.7460829627711654,
          0.7446776105491562,
          0.7446776105491562,
          0.7466252832370771,
          0.7460107552750637,
          0.7449768066194079,
          0.746314622221222,
          0.7467053268797834,
          0.7468671356226879,
          0.746314622221222,
          0.7471556398039434,
          0.7474407544986015,
          0.7475508276908519,
          0.7469177955534857,
          0.7449300593738986,
          0.7470960920899555
         ],
         "yaxis": "y"
        },
        {
         "marker": {
          "color": [
           0,
           1,
           2,
           3,
           4,
           5,
           6,
           7,
           8,
           9,
           10,
           11,
           12,
           13,
           14,
           15,
           16,
           17,
           18,
           19
          ],
          "colorbar": {
           "title": {
            "text": "#Trials"
           },
           "x": 1,
           "xpad": 40
          },
          "colorscale": [
           [
            0,
            "rgb(247,251,255)"
           ],
           [
            0.125,
            "rgb(222,235,247)"
           ],
           [
            0.25,
            "rgb(198,219,239)"
           ],
           [
            0.375,
            "rgb(158,202,225)"
           ],
           [
            0.5,
            "rgb(107,174,214)"
           ],
           [
            0.625,
            "rgb(66,146,198)"
           ],
           [
            0.75,
            "rgb(33,113,181)"
           ],
           [
            0.875,
            "rgb(8,81,156)"
           ],
           [
            1,
            "rgb(8,48,107)"
           ]
          ],
          "line": {
           "color": "Grey",
           "width": 0.5
          },
          "showscale": false
         },
         "mode": "markers",
         "showlegend": false,
         "type": "scatter",
         "x": [
          825,
          962,
          715,
          912,
          854,
          861,
          755,
          898,
          864,
          759,
          983,
          961,
          992,
          997,
          943,
          935,
          926,
          914,
          827,
          889
         ],
         "xaxis": "x2",
         "y": [
          0.7462028568026117,
          0.7468671356226879,
          0.7446271602328614,
          0.7467031975302494,
          0.7460829627711654,
          0.7446776105491562,
          0.7446776105491562,
          0.7466252832370771,
          0.7460107552750637,
          0.7449768066194079,
          0.746314622221222,
          0.7467053268797834,
          0.7468671356226879,
          0.746314622221222,
          0.7471556398039434,
          0.7474407544986015,
          0.7475508276908519,
          0.7469177955534857,
          0.7449300593738986,
          0.7470960920899555
         ],
         "yaxis": "y2"
        },
        {
         "marker": {
          "color": [
           0,
           1,
           2,
           3,
           4,
           5,
           6,
           7,
           8,
           9,
           10,
           11,
           12,
           13,
           14,
           15,
           16,
           17,
           18,
           19
          ],
          "colorbar": {
           "title": {
            "text": "#Trials"
           },
           "x": 1,
           "xpad": 40
          },
          "colorscale": [
           [
            0,
            "rgb(247,251,255)"
           ],
           [
            0.125,
            "rgb(222,235,247)"
           ],
           [
            0.25,
            "rgb(198,219,239)"
           ],
           [
            0.375,
            "rgb(158,202,225)"
           ],
           [
            0.5,
            "rgb(107,174,214)"
           ],
           [
            0.625,
            "rgb(66,146,198)"
           ],
           [
            0.75,
            "rgb(33,113,181)"
           ],
           [
            0.875,
            "rgb(8,81,156)"
           ],
           [
            1,
            "rgb(8,48,107)"
           ]
          ],
          "line": {
           "color": "Grey",
           "width": 0.5
          },
          "showscale": false
         },
         "mode": "markers",
         "showlegend": false,
         "type": "scatter",
         "x": [
          "l2",
          "l2",
          "l2",
          "l2",
          "l2",
          "l2",
          "l2",
          "l2",
          "l2",
          "l2",
          "l2",
          "l2",
          "l2",
          "l2",
          "l2",
          "l2",
          "l2",
          "l2",
          "l2",
          "l2"
         ],
         "xaxis": "x3",
         "y": [
          0.7462028568026117,
          0.7468671356226879,
          0.7446271602328614,
          0.7467031975302494,
          0.7460829627711654,
          0.7446776105491562,
          0.7446776105491562,
          0.7466252832370771,
          0.7460107552750637,
          0.7449768066194079,
          0.746314622221222,
          0.7467053268797834,
          0.7468671356226879,
          0.746314622221222,
          0.7471556398039434,
          0.7474407544986015,
          0.7475508276908519,
          0.7469177955534857,
          0.7449300593738986,
          0.7470960920899555
         ],
         "yaxis": "y3"
        },
        {
         "marker": {
          "color": [
           0,
           1,
           2,
           3,
           4,
           5,
           6,
           7,
           8,
           9,
           10,
           11,
           12,
           13,
           14,
           15,
           16,
           17,
           18,
           19
          ],
          "colorbar": {
           "title": {
            "text": "#Trials"
           },
           "x": 1,
           "xpad": 40
          },
          "colorscale": [
           [
            0,
            "rgb(247,251,255)"
           ],
           [
            0.125,
            "rgb(222,235,247)"
           ],
           [
            0.25,
            "rgb(198,219,239)"
           ],
           [
            0.375,
            "rgb(158,202,225)"
           ],
           [
            0.5,
            "rgb(107,174,214)"
           ],
           [
            0.625,
            "rgb(66,146,198)"
           ],
           [
            0.75,
            "rgb(33,113,181)"
           ],
           [
            0.875,
            "rgb(8,81,156)"
           ],
           [
            1,
            "rgb(8,48,107)"
           ]
          ],
          "line": {
           "color": "Grey",
           "width": 0.5
          },
          "showscale": false
         },
         "mode": "markers",
         "showlegend": false,
         "type": "scatter",
         "x": [
          12359,
          12359,
          12359,
          12359,
          12359,
          12359,
          12359,
          12359,
          12359,
          12359,
          12359,
          12359,
          12359,
          12359,
          12359,
          12359,
          12359,
          12359,
          12359,
          12359
         ],
         "xaxis": "x4",
         "y": [
          0.7462028568026117,
          0.7468671356226879,
          0.7446271602328614,
          0.7467031975302494,
          0.7460829627711654,
          0.7446776105491562,
          0.7446776105491562,
          0.7466252832370771,
          0.7460107552750637,
          0.7449768066194079,
          0.746314622221222,
          0.7467053268797834,
          0.7468671356226879,
          0.746314622221222,
          0.7471556398039434,
          0.7474407544986015,
          0.7475508276908519,
          0.7469177955534857,
          0.7449300593738986,
          0.7470960920899555
         ],
         "yaxis": "y4"
        },
        {
         "marker": {
          "color": [
           0,
           1,
           2,
           3,
           4,
           5,
           6,
           7,
           8,
           9,
           10,
           11,
           12,
           13,
           14,
           15,
           16,
           17,
           18,
           19
          ],
          "colorbar": {
           "title": {
            "text": "#Trials"
           },
           "x": 1,
           "xpad": 40
          },
          "colorscale": [
           [
            0,
            "rgb(247,251,255)"
           ],
           [
            0.125,
            "rgb(222,235,247)"
           ],
           [
            0.25,
            "rgb(198,219,239)"
           ],
           [
            0.375,
            "rgb(158,202,225)"
           ],
           [
            0.5,
            "rgb(107,174,214)"
           ],
           [
            0.625,
            "rgb(66,146,198)"
           ],
           [
            0.75,
            "rgb(33,113,181)"
           ],
           [
            0.875,
            "rgb(8,81,156)"
           ],
           [
            1,
            "rgb(8,48,107)"
           ]
          ],
          "line": {
           "color": "Grey",
           "width": 0.5
          },
          "showscale": false
         },
         "mode": "markers",
         "showlegend": false,
         "type": "scatter",
         "x": [
          0.003830623154276751,
          0.0024733434165152184,
          0.001624003028478911,
          0.0018092349420100755,
          0.0034193171408126773,
          0.00460485031904171,
          0.004676446785153434,
          0.001721587814127942,
          0.00453507321892875,
          0.0004066376385951137,
          0.0028140591225261193,
          0.002007131748076453,
          0.0025058648042042726,
          0.002727784199164067,
          0.0008203131460502856,
          0.0006022076122239066,
          0.0003923834338699613,
          0.0009531861269208458,
          0.0001831589739233248,
          0.0011254664032060617
         ],
         "xaxis": "x5",
         "y": [
          0.7462028568026117,
          0.7468671356226879,
          0.7446271602328614,
          0.7467031975302494,
          0.7460829627711654,
          0.7446776105491562,
          0.7446776105491562,
          0.7466252832370771,
          0.7460107552750637,
          0.7449768066194079,
          0.746314622221222,
          0.7467053268797834,
          0.7468671356226879,
          0.746314622221222,
          0.7471556398039434,
          0.7474407544986015,
          0.7475508276908519,
          0.7469177955534857,
          0.7449300593738986,
          0.7470960920899555
         ],
         "yaxis": "y5"
        }
       ],
       "layout": {
        "template": {
         "data": {
          "bar": [
           {
            "error_x": {
             "color": "#2a3f5f"
            },
            "error_y": {
             "color": "#2a3f5f"
            },
            "marker": {
             "line": {
              "color": "#E5ECF6",
              "width": 0.5
             },
             "pattern": {
              "fillmode": "overlay",
              "size": 10,
              "solidity": 0.2
             }
            },
            "type": "bar"
           }
          ],
          "barpolar": [
           {
            "marker": {
             "line": {
              "color": "#E5ECF6",
              "width": 0.5
             },
             "pattern": {
              "fillmode": "overlay",
              "size": 10,
              "solidity": 0.2
             }
            },
            "type": "barpolar"
           }
          ],
          "carpet": [
           {
            "aaxis": {
             "endlinecolor": "#2a3f5f",
             "gridcolor": "white",
             "linecolor": "white",
             "minorgridcolor": "white",
             "startlinecolor": "#2a3f5f"
            },
            "baxis": {
             "endlinecolor": "#2a3f5f",
             "gridcolor": "white",
             "linecolor": "white",
             "minorgridcolor": "white",
             "startlinecolor": "#2a3f5f"
            },
            "type": "carpet"
           }
          ],
          "choropleth": [
           {
            "colorbar": {
             "outlinewidth": 0,
             "ticks": ""
            },
            "type": "choropleth"
           }
          ],
          "contour": [
           {
            "colorbar": {
             "outlinewidth": 0,
             "ticks": ""
            },
            "colorscale": [
             [
              0,
              "#0d0887"
             ],
             [
              0.1111111111111111,
              "#46039f"
             ],
             [
              0.2222222222222222,
              "#7201a8"
             ],
             [
              0.3333333333333333,
              "#9c179e"
             ],
             [
              0.4444444444444444,
              "#bd3786"
             ],
             [
              0.5555555555555556,
              "#d8576b"
             ],
             [
              0.6666666666666666,
              "#ed7953"
             ],
             [
              0.7777777777777778,
              "#fb9f3a"
             ],
             [
              0.8888888888888888,
              "#fdca26"
             ],
             [
              1,
              "#f0f921"
             ]
            ],
            "type": "contour"
           }
          ],
          "contourcarpet": [
           {
            "colorbar": {
             "outlinewidth": 0,
             "ticks": ""
            },
            "type": "contourcarpet"
           }
          ],
          "heatmap": [
           {
            "colorbar": {
             "outlinewidth": 0,
             "ticks": ""
            },
            "colorscale": [
             [
              0,
              "#0d0887"
             ],
             [
              0.1111111111111111,
              "#46039f"
             ],
             [
              0.2222222222222222,
              "#7201a8"
             ],
             [
              0.3333333333333333,
              "#9c179e"
             ],
             [
              0.4444444444444444,
              "#bd3786"
             ],
             [
              0.5555555555555556,
              "#d8576b"
             ],
             [
              0.6666666666666666,
              "#ed7953"
             ],
             [
              0.7777777777777778,
              "#fb9f3a"
             ],
             [
              0.8888888888888888,
              "#fdca26"
             ],
             [
              1,
              "#f0f921"
             ]
            ],
            "type": "heatmap"
           }
          ],
          "heatmapgl": [
           {
            "colorbar": {
             "outlinewidth": 0,
             "ticks": ""
            },
            "colorscale": [
             [
              0,
              "#0d0887"
             ],
             [
              0.1111111111111111,
              "#46039f"
             ],
             [
              0.2222222222222222,
              "#7201a8"
             ],
             [
              0.3333333333333333,
              "#9c179e"
             ],
             [
              0.4444444444444444,
              "#bd3786"
             ],
             [
              0.5555555555555556,
              "#d8576b"
             ],
             [
              0.6666666666666666,
              "#ed7953"
             ],
             [
              0.7777777777777778,
              "#fb9f3a"
             ],
             [
              0.8888888888888888,
              "#fdca26"
             ],
             [
              1,
              "#f0f921"
             ]
            ],
            "type": "heatmapgl"
           }
          ],
          "histogram": [
           {
            "marker": {
             "pattern": {
              "fillmode": "overlay",
              "size": 10,
              "solidity": 0.2
             }
            },
            "type": "histogram"
           }
          ],
          "histogram2d": [
           {
            "colorbar": {
             "outlinewidth": 0,
             "ticks": ""
            },
            "colorscale": [
             [
              0,
              "#0d0887"
             ],
             [
              0.1111111111111111,
              "#46039f"
             ],
             [
              0.2222222222222222,
              "#7201a8"
             ],
             [
              0.3333333333333333,
              "#9c179e"
             ],
             [
              0.4444444444444444,
              "#bd3786"
             ],
             [
              0.5555555555555556,
              "#d8576b"
             ],
             [
              0.6666666666666666,
              "#ed7953"
             ],
             [
              0.7777777777777778,
              "#fb9f3a"
             ],
             [
              0.8888888888888888,
              "#fdca26"
             ],
             [
              1,
              "#f0f921"
             ]
            ],
            "type": "histogram2d"
           }
          ],
          "histogram2dcontour": [
           {
            "colorbar": {
             "outlinewidth": 0,
             "ticks": ""
            },
            "colorscale": [
             [
              0,
              "#0d0887"
             ],
             [
              0.1111111111111111,
              "#46039f"
             ],
             [
              0.2222222222222222,
              "#7201a8"
             ],
             [
              0.3333333333333333,
              "#9c179e"
             ],
             [
              0.4444444444444444,
              "#bd3786"
             ],
             [
              0.5555555555555556,
              "#d8576b"
             ],
             [
              0.6666666666666666,
              "#ed7953"
             ],
             [
              0.7777777777777778,
              "#fb9f3a"
             ],
             [
              0.8888888888888888,
              "#fdca26"
             ],
             [
              1,
              "#f0f921"
             ]
            ],
            "type": "histogram2dcontour"
           }
          ],
          "mesh3d": [
           {
            "colorbar": {
             "outlinewidth": 0,
             "ticks": ""
            },
            "type": "mesh3d"
           }
          ],
          "parcoords": [
           {
            "line": {
             "colorbar": {
              "outlinewidth": 0,
              "ticks": ""
             }
            },
            "type": "parcoords"
           }
          ],
          "pie": [
           {
            "automargin": true,
            "type": "pie"
           }
          ],
          "scatter": [
           {
            "marker": {
             "colorbar": {
              "outlinewidth": 0,
              "ticks": ""
             }
            },
            "type": "scatter"
           }
          ],
          "scatter3d": [
           {
            "line": {
             "colorbar": {
              "outlinewidth": 0,
              "ticks": ""
             }
            },
            "marker": {
             "colorbar": {
              "outlinewidth": 0,
              "ticks": ""
             }
            },
            "type": "scatter3d"
           }
          ],
          "scattercarpet": [
           {
            "marker": {
             "colorbar": {
              "outlinewidth": 0,
              "ticks": ""
             }
            },
            "type": "scattercarpet"
           }
          ],
          "scattergeo": [
           {
            "marker": {
             "colorbar": {
              "outlinewidth": 0,
              "ticks": ""
             }
            },
            "type": "scattergeo"
           }
          ],
          "scattergl": [
           {
            "marker": {
             "colorbar": {
              "outlinewidth": 0,
              "ticks": ""
             }
            },
            "type": "scattergl"
           }
          ],
          "scattermapbox": [
           {
            "marker": {
             "colorbar": {
              "outlinewidth": 0,
              "ticks": ""
             }
            },
            "type": "scattermapbox"
           }
          ],
          "scatterpolar": [
           {
            "marker": {
             "colorbar": {
              "outlinewidth": 0,
              "ticks": ""
             }
            },
            "type": "scatterpolar"
           }
          ],
          "scatterpolargl": [
           {
            "marker": {
             "colorbar": {
              "outlinewidth": 0,
              "ticks": ""
             }
            },
            "type": "scatterpolargl"
           }
          ],
          "scatterternary": [
           {
            "marker": {
             "colorbar": {
              "outlinewidth": 0,
              "ticks": ""
             }
            },
            "type": "scatterternary"
           }
          ],
          "surface": [
           {
            "colorbar": {
             "outlinewidth": 0,
             "ticks": ""
            },
            "colorscale": [
             [
              0,
              "#0d0887"
             ],
             [
              0.1111111111111111,
              "#46039f"
             ],
             [
              0.2222222222222222,
              "#7201a8"
             ],
             [
              0.3333333333333333,
              "#9c179e"
             ],
             [
              0.4444444444444444,
              "#bd3786"
             ],
             [
              0.5555555555555556,
              "#d8576b"
             ],
             [
              0.6666666666666666,
              "#ed7953"
             ],
             [
              0.7777777777777778,
              "#fb9f3a"
             ],
             [
              0.8888888888888888,
              "#fdca26"
             ],
             [
              1,
              "#f0f921"
             ]
            ],
            "type": "surface"
           }
          ],
          "table": [
           {
            "cells": {
             "fill": {
              "color": "#EBF0F8"
             },
             "line": {
              "color": "white"
             }
            },
            "header": {
             "fill": {
              "color": "#C8D4E3"
             },
             "line": {
              "color": "white"
             }
            },
            "type": "table"
           }
          ]
         },
         "layout": {
          "annotationdefaults": {
           "arrowcolor": "#2a3f5f",
           "arrowhead": 0,
           "arrowwidth": 1
          },
          "autotypenumbers": "strict",
          "coloraxis": {
           "colorbar": {
            "outlinewidth": 0,
            "ticks": ""
           }
          },
          "colorscale": {
           "diverging": [
            [
             0,
             "#8e0152"
            ],
            [
             0.1,
             "#c51b7d"
            ],
            [
             0.2,
             "#de77ae"
            ],
            [
             0.3,
             "#f1b6da"
            ],
            [
             0.4,
             "#fde0ef"
            ],
            [
             0.5,
             "#f7f7f7"
            ],
            [
             0.6,
             "#e6f5d0"
            ],
            [
             0.7,
             "#b8e186"
            ],
            [
             0.8,
             "#7fbc41"
            ],
            [
             0.9,
             "#4d9221"
            ],
            [
             1,
             "#276419"
            ]
           ],
           "sequential": [
            [
             0,
             "#0d0887"
            ],
            [
             0.1111111111111111,
             "#46039f"
            ],
            [
             0.2222222222222222,
             "#7201a8"
            ],
            [
             0.3333333333333333,
             "#9c179e"
            ],
            [
             0.4444444444444444,
             "#bd3786"
            ],
            [
             0.5555555555555556,
             "#d8576b"
            ],
            [
             0.6666666666666666,
             "#ed7953"
            ],
            [
             0.7777777777777778,
             "#fb9f3a"
            ],
            [
             0.8888888888888888,
             "#fdca26"
            ],
            [
             1,
             "#f0f921"
            ]
           ],
           "sequentialminus": [
            [
             0,
             "#0d0887"
            ],
            [
             0.1111111111111111,
             "#46039f"
            ],
            [
             0.2222222222222222,
             "#7201a8"
            ],
            [
             0.3333333333333333,
             "#9c179e"
            ],
            [
             0.4444444444444444,
             "#bd3786"
            ],
            [
             0.5555555555555556,
             "#d8576b"
            ],
            [
             0.6666666666666666,
             "#ed7953"
            ],
            [
             0.7777777777777778,
             "#fb9f3a"
            ],
            [
             0.8888888888888888,
             "#fdca26"
            ],
            [
             1,
             "#f0f921"
            ]
           ]
          },
          "colorway": [
           "#636efa",
           "#EF553B",
           "#00cc96",
           "#ab63fa",
           "#FFA15A",
           "#19d3f3",
           "#FF6692",
           "#B6E880",
           "#FF97FF",
           "#FECB52"
          ],
          "font": {
           "color": "#2a3f5f"
          },
          "geo": {
           "bgcolor": "white",
           "lakecolor": "white",
           "landcolor": "#E5ECF6",
           "showlakes": true,
           "showland": true,
           "subunitcolor": "white"
          },
          "hoverlabel": {
           "align": "left"
          },
          "hovermode": "closest",
          "mapbox": {
           "style": "light"
          },
          "paper_bgcolor": "white",
          "plot_bgcolor": "#E5ECF6",
          "polar": {
           "angularaxis": {
            "gridcolor": "white",
            "linecolor": "white",
            "ticks": ""
           },
           "bgcolor": "#E5ECF6",
           "radialaxis": {
            "gridcolor": "white",
            "linecolor": "white",
            "ticks": ""
           }
          },
          "scene": {
           "xaxis": {
            "backgroundcolor": "#E5ECF6",
            "gridcolor": "white",
            "gridwidth": 2,
            "linecolor": "white",
            "showbackground": true,
            "ticks": "",
            "zerolinecolor": "white"
           },
           "yaxis": {
            "backgroundcolor": "#E5ECF6",
            "gridcolor": "white",
            "gridwidth": 2,
            "linecolor": "white",
            "showbackground": true,
            "ticks": "",
            "zerolinecolor": "white"
           },
           "zaxis": {
            "backgroundcolor": "#E5ECF6",
            "gridcolor": "white",
            "gridwidth": 2,
            "linecolor": "white",
            "showbackground": true,
            "ticks": "",
            "zerolinecolor": "white"
           }
          },
          "shapedefaults": {
           "line": {
            "color": "#2a3f5f"
           }
          },
          "ternary": {
           "aaxis": {
            "gridcolor": "white",
            "linecolor": "white",
            "ticks": ""
           },
           "baxis": {
            "gridcolor": "white",
            "linecolor": "white",
            "ticks": ""
           },
           "bgcolor": "#E5ECF6",
           "caxis": {
            "gridcolor": "white",
            "linecolor": "white",
            "ticks": ""
           }
          },
          "title": {
           "x": 0.05
          },
          "xaxis": {
           "automargin": true,
           "gridcolor": "white",
           "linecolor": "white",
           "ticks": "",
           "title": {
            "standoff": 15
           },
           "zerolinecolor": "white",
           "zerolinewidth": 2
          },
          "yaxis": {
           "automargin": true,
           "gridcolor": "white",
           "linecolor": "white",
           "ticks": "",
           "title": {
            "standoff": 15
           },
           "zerolinecolor": "white",
           "zerolinewidth": 2
          }
         }
        },
        "title": {
         "text": "Slice Plot"
        },
        "width": 1500,
        "xaxis": {
         "anchor": "y",
         "domain": [
          0,
          0.16799999999999998
         ],
         "title": {
          "text": "loss"
         }
        },
        "xaxis2": {
         "anchor": "y2",
         "domain": [
          0.208,
          0.376
         ],
         "title": {
          "text": "max_iter"
         }
        },
        "xaxis3": {
         "anchor": "y3",
         "domain": [
          0.416,
          0.584
         ],
         "title": {
          "text": "penalty"
         }
        },
        "xaxis4": {
         "anchor": "y4",
         "domain": [
          0.624,
          0.792
         ],
         "title": {
          "text": "random_state"
         }
        },
        "xaxis5": {
         "anchor": "y5",
         "domain": [
          0.832,
          1
         ],
         "title": {
          "text": "tol"
         }
        },
        "yaxis": {
         "anchor": "x",
         "domain": [
          0,
          1
         ],
         "title": {
          "text": "Objective Value"
         }
        },
        "yaxis2": {
         "anchor": "x2",
         "domain": [
          0,
          1
         ],
         "matches": "y",
         "showticklabels": false
        },
        "yaxis3": {
         "anchor": "x3",
         "domain": [
          0,
          1
         ],
         "matches": "y",
         "showticklabels": false
        },
        "yaxis4": {
         "anchor": "x4",
         "domain": [
          0,
          1
         ],
         "matches": "y",
         "showticklabels": false
        },
        "yaxis5": {
         "anchor": "x5",
         "domain": [
          0,
          1
         ],
         "matches": "y",
         "showticklabels": false
        }
       }
      },
      "text/html": [
       "<div>                            <div id=\"947bdc77-2fa4-4c1f-acec-4174a34686e9\" class=\"plotly-graph-div\" style=\"height:525px; width:1500px;\"></div>            <script type=\"text/javascript\">                require([\"plotly\"], function(Plotly) {                    window.PLOTLYENV=window.PLOTLYENV || {};                                    if (document.getElementById(\"947bdc77-2fa4-4c1f-acec-4174a34686e9\")) {                    Plotly.newPlot(                        \"947bdc77-2fa4-4c1f-acec-4174a34686e9\",                        [{\"marker\":{\"color\":[0,1,2,3,4,5,6,7,8,9,10,11,12,13,14,15,16,17,18,19],\"colorbar\":{\"title\":{\"text\":\"#Trials\"},\"x\":1.0,\"xpad\":40},\"colorscale\":[[0.0,\"rgb(247,251,255)\"],[0.125,\"rgb(222,235,247)\"],[0.25,\"rgb(198,219,239)\"],[0.375,\"rgb(158,202,225)\"],[0.5,\"rgb(107,174,214)\"],[0.625,\"rgb(66,146,198)\"],[0.75,\"rgb(33,113,181)\"],[0.875,\"rgb(8,81,156)\"],[1.0,\"rgb(8,48,107)\"]],\"line\":{\"color\":\"Grey\",\"width\":0.5},\"showscale\":true},\"mode\":\"markers\",\"showlegend\":false,\"type\":\"scatter\",\"x\":[\"modified_huber\",\"modified_huber\",\"log\",\"modified_huber\",\"modified_huber\",\"log\",\"log\",\"modified_huber\",\"modified_huber\",\"log\",\"modified_huber\",\"modified_huber\",\"modified_huber\",\"modified_huber\",\"modified_huber\",\"modified_huber\",\"modified_huber\",\"modified_huber\",\"log\",\"modified_huber\"],\"xaxis\":\"x\",\"y\":[0.7462028568026117,0.7468671356226879,0.7446271602328614,0.7467031975302494,0.7460829627711654,0.7446776105491562,0.7446776105491562,0.7466252832370771,0.7460107552750637,0.7449768066194079,0.746314622221222,0.7467053268797834,0.7468671356226879,0.746314622221222,0.7471556398039434,0.7474407544986015,0.7475508276908519,0.7469177955534857,0.7449300593738986,0.7470960920899555],\"yaxis\":\"y\"},{\"marker\":{\"color\":[0,1,2,3,4,5,6,7,8,9,10,11,12,13,14,15,16,17,18,19],\"colorbar\":{\"title\":{\"text\":\"#Trials\"},\"x\":1.0,\"xpad\":40},\"colorscale\":[[0.0,\"rgb(247,251,255)\"],[0.125,\"rgb(222,235,247)\"],[0.25,\"rgb(198,219,239)\"],[0.375,\"rgb(158,202,225)\"],[0.5,\"rgb(107,174,214)\"],[0.625,\"rgb(66,146,198)\"],[0.75,\"rgb(33,113,181)\"],[0.875,\"rgb(8,81,156)\"],[1.0,\"rgb(8,48,107)\"]],\"line\":{\"color\":\"Grey\",\"width\":0.5},\"showscale\":false},\"mode\":\"markers\",\"showlegend\":false,\"type\":\"scatter\",\"x\":[825,962,715,912,854,861,755,898,864,759,983,961,992,997,943,935,926,914,827,889],\"xaxis\":\"x2\",\"y\":[0.7462028568026117,0.7468671356226879,0.7446271602328614,0.7467031975302494,0.7460829627711654,0.7446776105491562,0.7446776105491562,0.7466252832370771,0.7460107552750637,0.7449768066194079,0.746314622221222,0.7467053268797834,0.7468671356226879,0.746314622221222,0.7471556398039434,0.7474407544986015,0.7475508276908519,0.7469177955534857,0.7449300593738986,0.7470960920899555],\"yaxis\":\"y2\"},{\"marker\":{\"color\":[0,1,2,3,4,5,6,7,8,9,10,11,12,13,14,15,16,17,18,19],\"colorbar\":{\"title\":{\"text\":\"#Trials\"},\"x\":1.0,\"xpad\":40},\"colorscale\":[[0.0,\"rgb(247,251,255)\"],[0.125,\"rgb(222,235,247)\"],[0.25,\"rgb(198,219,239)\"],[0.375,\"rgb(158,202,225)\"],[0.5,\"rgb(107,174,214)\"],[0.625,\"rgb(66,146,198)\"],[0.75,\"rgb(33,113,181)\"],[0.875,\"rgb(8,81,156)\"],[1.0,\"rgb(8,48,107)\"]],\"line\":{\"color\":\"Grey\",\"width\":0.5},\"showscale\":false},\"mode\":\"markers\",\"showlegend\":false,\"type\":\"scatter\",\"x\":[\"l2\",\"l2\",\"l2\",\"l2\",\"l2\",\"l2\",\"l2\",\"l2\",\"l2\",\"l2\",\"l2\",\"l2\",\"l2\",\"l2\",\"l2\",\"l2\",\"l2\",\"l2\",\"l2\",\"l2\"],\"xaxis\":\"x3\",\"y\":[0.7462028568026117,0.7468671356226879,0.7446271602328614,0.7467031975302494,0.7460829627711654,0.7446776105491562,0.7446776105491562,0.7466252832370771,0.7460107552750637,0.7449768066194079,0.746314622221222,0.7467053268797834,0.7468671356226879,0.746314622221222,0.7471556398039434,0.7474407544986015,0.7475508276908519,0.7469177955534857,0.7449300593738986,0.7470960920899555],\"yaxis\":\"y3\"},{\"marker\":{\"color\":[0,1,2,3,4,5,6,7,8,9,10,11,12,13,14,15,16,17,18,19],\"colorbar\":{\"title\":{\"text\":\"#Trials\"},\"x\":1.0,\"xpad\":40},\"colorscale\":[[0.0,\"rgb(247,251,255)\"],[0.125,\"rgb(222,235,247)\"],[0.25,\"rgb(198,219,239)\"],[0.375,\"rgb(158,202,225)\"],[0.5,\"rgb(107,174,214)\"],[0.625,\"rgb(66,146,198)\"],[0.75,\"rgb(33,113,181)\"],[0.875,\"rgb(8,81,156)\"],[1.0,\"rgb(8,48,107)\"]],\"line\":{\"color\":\"Grey\",\"width\":0.5},\"showscale\":false},\"mode\":\"markers\",\"showlegend\":false,\"type\":\"scatter\",\"x\":[12359,12359,12359,12359,12359,12359,12359,12359,12359,12359,12359,12359,12359,12359,12359,12359,12359,12359,12359,12359],\"xaxis\":\"x4\",\"y\":[0.7462028568026117,0.7468671356226879,0.7446271602328614,0.7467031975302494,0.7460829627711654,0.7446776105491562,0.7446776105491562,0.7466252832370771,0.7460107552750637,0.7449768066194079,0.746314622221222,0.7467053268797834,0.7468671356226879,0.746314622221222,0.7471556398039434,0.7474407544986015,0.7475508276908519,0.7469177955534857,0.7449300593738986,0.7470960920899555],\"yaxis\":\"y4\"},{\"marker\":{\"color\":[0,1,2,3,4,5,6,7,8,9,10,11,12,13,14,15,16,17,18,19],\"colorbar\":{\"title\":{\"text\":\"#Trials\"},\"x\":1.0,\"xpad\":40},\"colorscale\":[[0.0,\"rgb(247,251,255)\"],[0.125,\"rgb(222,235,247)\"],[0.25,\"rgb(198,219,239)\"],[0.375,\"rgb(158,202,225)\"],[0.5,\"rgb(107,174,214)\"],[0.625,\"rgb(66,146,198)\"],[0.75,\"rgb(33,113,181)\"],[0.875,\"rgb(8,81,156)\"],[1.0,\"rgb(8,48,107)\"]],\"line\":{\"color\":\"Grey\",\"width\":0.5},\"showscale\":false},\"mode\":\"markers\",\"showlegend\":false,\"type\":\"scatter\",\"x\":[0.003830623154276751,0.0024733434165152184,0.001624003028478911,0.0018092349420100755,0.0034193171408126773,0.00460485031904171,0.004676446785153434,0.001721587814127942,0.00453507321892875,0.0004066376385951137,0.0028140591225261193,0.002007131748076453,0.0025058648042042726,0.002727784199164067,0.0008203131460502856,0.0006022076122239066,0.0003923834338699613,0.0009531861269208458,0.0001831589739233248,0.0011254664032060617],\"xaxis\":\"x5\",\"y\":[0.7462028568026117,0.7468671356226879,0.7446271602328614,0.7467031975302494,0.7460829627711654,0.7446776105491562,0.7446776105491562,0.7466252832370771,0.7460107552750637,0.7449768066194079,0.746314622221222,0.7467053268797834,0.7468671356226879,0.746314622221222,0.7471556398039434,0.7474407544986015,0.7475508276908519,0.7469177955534857,0.7449300593738986,0.7470960920899555],\"yaxis\":\"y5\"}],                        {\"template\":{\"data\":{\"bar\":[{\"error_x\":{\"color\":\"#2a3f5f\"},\"error_y\":{\"color\":\"#2a3f5f\"},\"marker\":{\"line\":{\"color\":\"#E5ECF6\",\"width\":0.5},\"pattern\":{\"fillmode\":\"overlay\",\"size\":10,\"solidity\":0.2}},\"type\":\"bar\"}],\"barpolar\":[{\"marker\":{\"line\":{\"color\":\"#E5ECF6\",\"width\":0.5},\"pattern\":{\"fillmode\":\"overlay\",\"size\":10,\"solidity\":0.2}},\"type\":\"barpolar\"}],\"carpet\":[{\"aaxis\":{\"endlinecolor\":\"#2a3f5f\",\"gridcolor\":\"white\",\"linecolor\":\"white\",\"minorgridcolor\":\"white\",\"startlinecolor\":\"#2a3f5f\"},\"baxis\":{\"endlinecolor\":\"#2a3f5f\",\"gridcolor\":\"white\",\"linecolor\":\"white\",\"minorgridcolor\":\"white\",\"startlinecolor\":\"#2a3f5f\"},\"type\":\"carpet\"}],\"choropleth\":[{\"colorbar\":{\"outlinewidth\":0,\"ticks\":\"\"},\"type\":\"choropleth\"}],\"contour\":[{\"colorbar\":{\"outlinewidth\":0,\"ticks\":\"\"},\"colorscale\":[[0.0,\"#0d0887\"],[0.1111111111111111,\"#46039f\"],[0.2222222222222222,\"#7201a8\"],[0.3333333333333333,\"#9c179e\"],[0.4444444444444444,\"#bd3786\"],[0.5555555555555556,\"#d8576b\"],[0.6666666666666666,\"#ed7953\"],[0.7777777777777778,\"#fb9f3a\"],[0.8888888888888888,\"#fdca26\"],[1.0,\"#f0f921\"]],\"type\":\"contour\"}],\"contourcarpet\":[{\"colorbar\":{\"outlinewidth\":0,\"ticks\":\"\"},\"type\":\"contourcarpet\"}],\"heatmap\":[{\"colorbar\":{\"outlinewidth\":0,\"ticks\":\"\"},\"colorscale\":[[0.0,\"#0d0887\"],[0.1111111111111111,\"#46039f\"],[0.2222222222222222,\"#7201a8\"],[0.3333333333333333,\"#9c179e\"],[0.4444444444444444,\"#bd3786\"],[0.5555555555555556,\"#d8576b\"],[0.6666666666666666,\"#ed7953\"],[0.7777777777777778,\"#fb9f3a\"],[0.8888888888888888,\"#fdca26\"],[1.0,\"#f0f921\"]],\"type\":\"heatmap\"}],\"heatmapgl\":[{\"colorbar\":{\"outlinewidth\":0,\"ticks\":\"\"},\"colorscale\":[[0.0,\"#0d0887\"],[0.1111111111111111,\"#46039f\"],[0.2222222222222222,\"#7201a8\"],[0.3333333333333333,\"#9c179e\"],[0.4444444444444444,\"#bd3786\"],[0.5555555555555556,\"#d8576b\"],[0.6666666666666666,\"#ed7953\"],[0.7777777777777778,\"#fb9f3a\"],[0.8888888888888888,\"#fdca26\"],[1.0,\"#f0f921\"]],\"type\":\"heatmapgl\"}],\"histogram\":[{\"marker\":{\"pattern\":{\"fillmode\":\"overlay\",\"size\":10,\"solidity\":0.2}},\"type\":\"histogram\"}],\"histogram2d\":[{\"colorbar\":{\"outlinewidth\":0,\"ticks\":\"\"},\"colorscale\":[[0.0,\"#0d0887\"],[0.1111111111111111,\"#46039f\"],[0.2222222222222222,\"#7201a8\"],[0.3333333333333333,\"#9c179e\"],[0.4444444444444444,\"#bd3786\"],[0.5555555555555556,\"#d8576b\"],[0.6666666666666666,\"#ed7953\"],[0.7777777777777778,\"#fb9f3a\"],[0.8888888888888888,\"#fdca26\"],[1.0,\"#f0f921\"]],\"type\":\"histogram2d\"}],\"histogram2dcontour\":[{\"colorbar\":{\"outlinewidth\":0,\"ticks\":\"\"},\"colorscale\":[[0.0,\"#0d0887\"],[0.1111111111111111,\"#46039f\"],[0.2222222222222222,\"#7201a8\"],[0.3333333333333333,\"#9c179e\"],[0.4444444444444444,\"#bd3786\"],[0.5555555555555556,\"#d8576b\"],[0.6666666666666666,\"#ed7953\"],[0.7777777777777778,\"#fb9f3a\"],[0.8888888888888888,\"#fdca26\"],[1.0,\"#f0f921\"]],\"type\":\"histogram2dcontour\"}],\"mesh3d\":[{\"colorbar\":{\"outlinewidth\":0,\"ticks\":\"\"},\"type\":\"mesh3d\"}],\"parcoords\":[{\"line\":{\"colorbar\":{\"outlinewidth\":0,\"ticks\":\"\"}},\"type\":\"parcoords\"}],\"pie\":[{\"automargin\":true,\"type\":\"pie\"}],\"scatter\":[{\"marker\":{\"colorbar\":{\"outlinewidth\":0,\"ticks\":\"\"}},\"type\":\"scatter\"}],\"scatter3d\":[{\"line\":{\"colorbar\":{\"outlinewidth\":0,\"ticks\":\"\"}},\"marker\":{\"colorbar\":{\"outlinewidth\":0,\"ticks\":\"\"}},\"type\":\"scatter3d\"}],\"scattercarpet\":[{\"marker\":{\"colorbar\":{\"outlinewidth\":0,\"ticks\":\"\"}},\"type\":\"scattercarpet\"}],\"scattergeo\":[{\"marker\":{\"colorbar\":{\"outlinewidth\":0,\"ticks\":\"\"}},\"type\":\"scattergeo\"}],\"scattergl\":[{\"marker\":{\"colorbar\":{\"outlinewidth\":0,\"ticks\":\"\"}},\"type\":\"scattergl\"}],\"scattermapbox\":[{\"marker\":{\"colorbar\":{\"outlinewidth\":0,\"ticks\":\"\"}},\"type\":\"scattermapbox\"}],\"scatterpolar\":[{\"marker\":{\"colorbar\":{\"outlinewidth\":0,\"ticks\":\"\"}},\"type\":\"scatterpolar\"}],\"scatterpolargl\":[{\"marker\":{\"colorbar\":{\"outlinewidth\":0,\"ticks\":\"\"}},\"type\":\"scatterpolargl\"}],\"scatterternary\":[{\"marker\":{\"colorbar\":{\"outlinewidth\":0,\"ticks\":\"\"}},\"type\":\"scatterternary\"}],\"surface\":[{\"colorbar\":{\"outlinewidth\":0,\"ticks\":\"\"},\"colorscale\":[[0.0,\"#0d0887\"],[0.1111111111111111,\"#46039f\"],[0.2222222222222222,\"#7201a8\"],[0.3333333333333333,\"#9c179e\"],[0.4444444444444444,\"#bd3786\"],[0.5555555555555556,\"#d8576b\"],[0.6666666666666666,\"#ed7953\"],[0.7777777777777778,\"#fb9f3a\"],[0.8888888888888888,\"#fdca26\"],[1.0,\"#f0f921\"]],\"type\":\"surface\"}],\"table\":[{\"cells\":{\"fill\":{\"color\":\"#EBF0F8\"},\"line\":{\"color\":\"white\"}},\"header\":{\"fill\":{\"color\":\"#C8D4E3\"},\"line\":{\"color\":\"white\"}},\"type\":\"table\"}]},\"layout\":{\"annotationdefaults\":{\"arrowcolor\":\"#2a3f5f\",\"arrowhead\":0,\"arrowwidth\":1},\"autotypenumbers\":\"strict\",\"coloraxis\":{\"colorbar\":{\"outlinewidth\":0,\"ticks\":\"\"}},\"colorscale\":{\"diverging\":[[0,\"#8e0152\"],[0.1,\"#c51b7d\"],[0.2,\"#de77ae\"],[0.3,\"#f1b6da\"],[0.4,\"#fde0ef\"],[0.5,\"#f7f7f7\"],[0.6,\"#e6f5d0\"],[0.7,\"#b8e186\"],[0.8,\"#7fbc41\"],[0.9,\"#4d9221\"],[1,\"#276419\"]],\"sequential\":[[0.0,\"#0d0887\"],[0.1111111111111111,\"#46039f\"],[0.2222222222222222,\"#7201a8\"],[0.3333333333333333,\"#9c179e\"],[0.4444444444444444,\"#bd3786\"],[0.5555555555555556,\"#d8576b\"],[0.6666666666666666,\"#ed7953\"],[0.7777777777777778,\"#fb9f3a\"],[0.8888888888888888,\"#fdca26\"],[1.0,\"#f0f921\"]],\"sequentialminus\":[[0.0,\"#0d0887\"],[0.1111111111111111,\"#46039f\"],[0.2222222222222222,\"#7201a8\"],[0.3333333333333333,\"#9c179e\"],[0.4444444444444444,\"#bd3786\"],[0.5555555555555556,\"#d8576b\"],[0.6666666666666666,\"#ed7953\"],[0.7777777777777778,\"#fb9f3a\"],[0.8888888888888888,\"#fdca26\"],[1.0,\"#f0f921\"]]},\"colorway\":[\"#636efa\",\"#EF553B\",\"#00cc96\",\"#ab63fa\",\"#FFA15A\",\"#19d3f3\",\"#FF6692\",\"#B6E880\",\"#FF97FF\",\"#FECB52\"],\"font\":{\"color\":\"#2a3f5f\"},\"geo\":{\"bgcolor\":\"white\",\"lakecolor\":\"white\",\"landcolor\":\"#E5ECF6\",\"showlakes\":true,\"showland\":true,\"subunitcolor\":\"white\"},\"hoverlabel\":{\"align\":\"left\"},\"hovermode\":\"closest\",\"mapbox\":{\"style\":\"light\"},\"paper_bgcolor\":\"white\",\"plot_bgcolor\":\"#E5ECF6\",\"polar\":{\"angularaxis\":{\"gridcolor\":\"white\",\"linecolor\":\"white\",\"ticks\":\"\"},\"bgcolor\":\"#E5ECF6\",\"radialaxis\":{\"gridcolor\":\"white\",\"linecolor\":\"white\",\"ticks\":\"\"}},\"scene\":{\"xaxis\":{\"backgroundcolor\":\"#E5ECF6\",\"gridcolor\":\"white\",\"gridwidth\":2,\"linecolor\":\"white\",\"showbackground\":true,\"ticks\":\"\",\"zerolinecolor\":\"white\"},\"yaxis\":{\"backgroundcolor\":\"#E5ECF6\",\"gridcolor\":\"white\",\"gridwidth\":2,\"linecolor\":\"white\",\"showbackground\":true,\"ticks\":\"\",\"zerolinecolor\":\"white\"},\"zaxis\":{\"backgroundcolor\":\"#E5ECF6\",\"gridcolor\":\"white\",\"gridwidth\":2,\"linecolor\":\"white\",\"showbackground\":true,\"ticks\":\"\",\"zerolinecolor\":\"white\"}},\"shapedefaults\":{\"line\":{\"color\":\"#2a3f5f\"}},\"ternary\":{\"aaxis\":{\"gridcolor\":\"white\",\"linecolor\":\"white\",\"ticks\":\"\"},\"baxis\":{\"gridcolor\":\"white\",\"linecolor\":\"white\",\"ticks\":\"\"},\"bgcolor\":\"#E5ECF6\",\"caxis\":{\"gridcolor\":\"white\",\"linecolor\":\"white\",\"ticks\":\"\"}},\"title\":{\"x\":0.05},\"xaxis\":{\"automargin\":true,\"gridcolor\":\"white\",\"linecolor\":\"white\",\"ticks\":\"\",\"title\":{\"standoff\":15},\"zerolinecolor\":\"white\",\"zerolinewidth\":2},\"yaxis\":{\"automargin\":true,\"gridcolor\":\"white\",\"linecolor\":\"white\",\"ticks\":\"\",\"title\":{\"standoff\":15},\"zerolinecolor\":\"white\",\"zerolinewidth\":2}}},\"title\":{\"text\":\"Slice Plot\"},\"width\":1500,\"xaxis\":{\"anchor\":\"y\",\"domain\":[0.0,0.16799999999999998],\"title\":{\"text\":\"loss\"}},\"xaxis2\":{\"anchor\":\"y2\",\"domain\":[0.208,0.376],\"title\":{\"text\":\"max_iter\"}},\"xaxis3\":{\"anchor\":\"y3\",\"domain\":[0.416,0.584],\"title\":{\"text\":\"penalty\"}},\"xaxis4\":{\"anchor\":\"y4\",\"domain\":[0.624,0.792],\"title\":{\"text\":\"random_state\"}},\"xaxis5\":{\"anchor\":\"y5\",\"domain\":[0.832,1.0],\"title\":{\"text\":\"tol\"}},\"yaxis\":{\"anchor\":\"x\",\"domain\":[0.0,1.0],\"title\":{\"text\":\"Objective Value\"}},\"yaxis2\":{\"anchor\":\"x2\",\"domain\":[0.0,1.0],\"matches\":\"y\",\"showticklabels\":false},\"yaxis3\":{\"anchor\":\"x3\",\"domain\":[0.0,1.0],\"matches\":\"y\",\"showticklabels\":false},\"yaxis4\":{\"anchor\":\"x4\",\"domain\":[0.0,1.0],\"matches\":\"y\",\"showticklabels\":false},\"yaxis5\":{\"anchor\":\"x5\",\"domain\":[0.0,1.0],\"matches\":\"y\",\"showticklabels\":false}},                        {\"responsive\": true}                    ).then(function(){\n",
       "                            \n",
       "var gd = document.getElementById('947bdc77-2fa4-4c1f-acec-4174a34686e9');\n",
       "var x = new MutationObserver(function (mutations, observer) {{\n",
       "        var display = window.getComputedStyle(gd).display;\n",
       "        if (!display || display === 'none') {{\n",
       "            console.log([gd, 'removed!']);\n",
       "            Plotly.purge(gd);\n",
       "            observer.disconnect();\n",
       "        }}\n",
       "}});\n",
       "\n",
       "// Listen for the removal of the full notebook cells\n",
       "var notebookContainer = gd.closest('#notebook-container');\n",
       "if (notebookContainer) {{\n",
       "    x.observe(notebookContainer, {childList: true});\n",
       "}}\n",
       "\n",
       "// Listen for the clearing of the current output cell\n",
       "var outputEl = gd.closest('.output');\n",
       "if (outputEl) {{\n",
       "    x.observe(outputEl, {childList: true});\n",
       "}}\n",
       "\n",
       "                        })                };                });            </script>        </div>"
      ]
     },
     "metadata": {},
     "output_type": "display_data"
    }
   ],
   "source": [
    "###################################################################################################\n",
    "# Visualize individual hyperparameters as slice plot. See :func:`~optuna.visualization.plot_slice` for the details.\n",
    "plot_slice(study)"
   ]
  },
  {
   "cell_type": "code",
   "execution_count": 216,
   "metadata": {
    "ExecuteTime": {
     "end_time": "2021-11-16T02:38:47.890074Z",
     "start_time": "2021-11-16T02:38:47.831075Z"
    },
    "colab": {
     "base_uri": "https://localhost:8080/",
     "height": 542
    },
    "executionInfo": {
     "elapsed": 7,
     "status": "ok",
     "timestamp": 1635585758894,
     "user": {
      "displayName": "Rogério Delfim",
      "photoUrl": "https://lh3.googleusercontent.com/a-/AOh14Gj8lDYWTfZHU0U0sMojRPio71Ec7YDcSEpCaOEE=s64",
      "userId": "04235763959036945343"
     },
     "user_tz": 180
    },
    "id": "bRiuCit3ndh0",
    "outputId": "8bf92b46-9707-4647-d047-32e1526b2d72"
   },
   "outputs": [
    {
     "data": {
      "application/vnd.plotly.v1+json": {
       "config": {
        "plotlyServerURL": "https://plot.ly"
       },
       "data": [
        {
         "marker": {
          "color": [
           0,
           1,
           2,
           3,
           4,
           5,
           6,
           7,
           8,
           9,
           10,
           11,
           12,
           13,
           14,
           15,
           16,
           17,
           18,
           19
          ],
          "colorbar": {
           "title": {
            "text": "#Trials"
           },
           "x": 1,
           "xpad": 40
          },
          "colorscale": [
           [
            0,
            "rgb(247,251,255)"
           ],
           [
            0.125,
            "rgb(222,235,247)"
           ],
           [
            0.25,
            "rgb(198,219,239)"
           ],
           [
            0.375,
            "rgb(158,202,225)"
           ],
           [
            0.5,
            "rgb(107,174,214)"
           ],
           [
            0.625,
            "rgb(66,146,198)"
           ],
           [
            0.75,
            "rgb(33,113,181)"
           ],
           [
            0.875,
            "rgb(8,81,156)"
           ],
           [
            1,
            "rgb(8,48,107)"
           ]
          ],
          "line": {
           "color": "Grey",
           "width": 0.5
          },
          "showscale": true
         },
         "mode": "markers",
         "showlegend": false,
         "type": "scatter",
         "x": [
          825,
          962,
          715,
          912,
          854,
          861,
          755,
          898,
          864,
          759,
          983,
          961,
          992,
          997,
          943,
          935,
          926,
          914,
          827,
          889
         ],
         "xaxis": "x",
         "y": [
          0.7462028568026117,
          0.7468671356226879,
          0.7446271602328614,
          0.7467031975302494,
          0.7460829627711654,
          0.7446776105491562,
          0.7446776105491562,
          0.7466252832370771,
          0.7460107552750637,
          0.7449768066194079,
          0.746314622221222,
          0.7467053268797834,
          0.7468671356226879,
          0.746314622221222,
          0.7471556398039434,
          0.7474407544986015,
          0.7475508276908519,
          0.7469177955534857,
          0.7449300593738986,
          0.7470960920899555
         ],
         "yaxis": "y"
        },
        {
         "marker": {
          "color": [
           0,
           1,
           2,
           3,
           4,
           5,
           6,
           7,
           8,
           9,
           10,
           11,
           12,
           13,
           14,
           15,
           16,
           17,
           18,
           19
          ],
          "colorbar": {
           "title": {
            "text": "#Trials"
           },
           "x": 1,
           "xpad": 40
          },
          "colorscale": [
           [
            0,
            "rgb(247,251,255)"
           ],
           [
            0.125,
            "rgb(222,235,247)"
           ],
           [
            0.25,
            "rgb(198,219,239)"
           ],
           [
            0.375,
            "rgb(158,202,225)"
           ],
           [
            0.5,
            "rgb(107,174,214)"
           ],
           [
            0.625,
            "rgb(66,146,198)"
           ],
           [
            0.75,
            "rgb(33,113,181)"
           ],
           [
            0.875,
            "rgb(8,81,156)"
           ],
           [
            1,
            "rgb(8,48,107)"
           ]
          ],
          "line": {
           "color": "Grey",
           "width": 0.5
          },
          "showscale": false
         },
         "mode": "markers",
         "showlegend": false,
         "type": "scatter",
         "x": [
          0.003830623154276751,
          0.0024733434165152184,
          0.001624003028478911,
          0.0018092349420100755,
          0.0034193171408126773,
          0.00460485031904171,
          0.004676446785153434,
          0.001721587814127942,
          0.00453507321892875,
          0.0004066376385951137,
          0.0028140591225261193,
          0.002007131748076453,
          0.0025058648042042726,
          0.002727784199164067,
          0.0008203131460502856,
          0.0006022076122239066,
          0.0003923834338699613,
          0.0009531861269208458,
          0.0001831589739233248,
          0.0011254664032060617
         ],
         "xaxis": "x2",
         "y": [
          0.7462028568026117,
          0.7468671356226879,
          0.7446271602328614,
          0.7467031975302494,
          0.7460829627711654,
          0.7446776105491562,
          0.7446776105491562,
          0.7466252832370771,
          0.7460107552750637,
          0.7449768066194079,
          0.746314622221222,
          0.7467053268797834,
          0.7468671356226879,
          0.746314622221222,
          0.7471556398039434,
          0.7474407544986015,
          0.7475508276908519,
          0.7469177955534857,
          0.7449300593738986,
          0.7470960920899555
         ],
         "yaxis": "y2"
        }
       ],
       "layout": {
        "template": {
         "data": {
          "bar": [
           {
            "error_x": {
             "color": "#2a3f5f"
            },
            "error_y": {
             "color": "#2a3f5f"
            },
            "marker": {
             "line": {
              "color": "#E5ECF6",
              "width": 0.5
             },
             "pattern": {
              "fillmode": "overlay",
              "size": 10,
              "solidity": 0.2
             }
            },
            "type": "bar"
           }
          ],
          "barpolar": [
           {
            "marker": {
             "line": {
              "color": "#E5ECF6",
              "width": 0.5
             },
             "pattern": {
              "fillmode": "overlay",
              "size": 10,
              "solidity": 0.2
             }
            },
            "type": "barpolar"
           }
          ],
          "carpet": [
           {
            "aaxis": {
             "endlinecolor": "#2a3f5f",
             "gridcolor": "white",
             "linecolor": "white",
             "minorgridcolor": "white",
             "startlinecolor": "#2a3f5f"
            },
            "baxis": {
             "endlinecolor": "#2a3f5f",
             "gridcolor": "white",
             "linecolor": "white",
             "minorgridcolor": "white",
             "startlinecolor": "#2a3f5f"
            },
            "type": "carpet"
           }
          ],
          "choropleth": [
           {
            "colorbar": {
             "outlinewidth": 0,
             "ticks": ""
            },
            "type": "choropleth"
           }
          ],
          "contour": [
           {
            "colorbar": {
             "outlinewidth": 0,
             "ticks": ""
            },
            "colorscale": [
             [
              0,
              "#0d0887"
             ],
             [
              0.1111111111111111,
              "#46039f"
             ],
             [
              0.2222222222222222,
              "#7201a8"
             ],
             [
              0.3333333333333333,
              "#9c179e"
             ],
             [
              0.4444444444444444,
              "#bd3786"
             ],
             [
              0.5555555555555556,
              "#d8576b"
             ],
             [
              0.6666666666666666,
              "#ed7953"
             ],
             [
              0.7777777777777778,
              "#fb9f3a"
             ],
             [
              0.8888888888888888,
              "#fdca26"
             ],
             [
              1,
              "#f0f921"
             ]
            ],
            "type": "contour"
           }
          ],
          "contourcarpet": [
           {
            "colorbar": {
             "outlinewidth": 0,
             "ticks": ""
            },
            "type": "contourcarpet"
           }
          ],
          "heatmap": [
           {
            "colorbar": {
             "outlinewidth": 0,
             "ticks": ""
            },
            "colorscale": [
             [
              0,
              "#0d0887"
             ],
             [
              0.1111111111111111,
              "#46039f"
             ],
             [
              0.2222222222222222,
              "#7201a8"
             ],
             [
              0.3333333333333333,
              "#9c179e"
             ],
             [
              0.4444444444444444,
              "#bd3786"
             ],
             [
              0.5555555555555556,
              "#d8576b"
             ],
             [
              0.6666666666666666,
              "#ed7953"
             ],
             [
              0.7777777777777778,
              "#fb9f3a"
             ],
             [
              0.8888888888888888,
              "#fdca26"
             ],
             [
              1,
              "#f0f921"
             ]
            ],
            "type": "heatmap"
           }
          ],
          "heatmapgl": [
           {
            "colorbar": {
             "outlinewidth": 0,
             "ticks": ""
            },
            "colorscale": [
             [
              0,
              "#0d0887"
             ],
             [
              0.1111111111111111,
              "#46039f"
             ],
             [
              0.2222222222222222,
              "#7201a8"
             ],
             [
              0.3333333333333333,
              "#9c179e"
             ],
             [
              0.4444444444444444,
              "#bd3786"
             ],
             [
              0.5555555555555556,
              "#d8576b"
             ],
             [
              0.6666666666666666,
              "#ed7953"
             ],
             [
              0.7777777777777778,
              "#fb9f3a"
             ],
             [
              0.8888888888888888,
              "#fdca26"
             ],
             [
              1,
              "#f0f921"
             ]
            ],
            "type": "heatmapgl"
           }
          ],
          "histogram": [
           {
            "marker": {
             "pattern": {
              "fillmode": "overlay",
              "size": 10,
              "solidity": 0.2
             }
            },
            "type": "histogram"
           }
          ],
          "histogram2d": [
           {
            "colorbar": {
             "outlinewidth": 0,
             "ticks": ""
            },
            "colorscale": [
             [
              0,
              "#0d0887"
             ],
             [
              0.1111111111111111,
              "#46039f"
             ],
             [
              0.2222222222222222,
              "#7201a8"
             ],
             [
              0.3333333333333333,
              "#9c179e"
             ],
             [
              0.4444444444444444,
              "#bd3786"
             ],
             [
              0.5555555555555556,
              "#d8576b"
             ],
             [
              0.6666666666666666,
              "#ed7953"
             ],
             [
              0.7777777777777778,
              "#fb9f3a"
             ],
             [
              0.8888888888888888,
              "#fdca26"
             ],
             [
              1,
              "#f0f921"
             ]
            ],
            "type": "histogram2d"
           }
          ],
          "histogram2dcontour": [
           {
            "colorbar": {
             "outlinewidth": 0,
             "ticks": ""
            },
            "colorscale": [
             [
              0,
              "#0d0887"
             ],
             [
              0.1111111111111111,
              "#46039f"
             ],
             [
              0.2222222222222222,
              "#7201a8"
             ],
             [
              0.3333333333333333,
              "#9c179e"
             ],
             [
              0.4444444444444444,
              "#bd3786"
             ],
             [
              0.5555555555555556,
              "#d8576b"
             ],
             [
              0.6666666666666666,
              "#ed7953"
             ],
             [
              0.7777777777777778,
              "#fb9f3a"
             ],
             [
              0.8888888888888888,
              "#fdca26"
             ],
             [
              1,
              "#f0f921"
             ]
            ],
            "type": "histogram2dcontour"
           }
          ],
          "mesh3d": [
           {
            "colorbar": {
             "outlinewidth": 0,
             "ticks": ""
            },
            "type": "mesh3d"
           }
          ],
          "parcoords": [
           {
            "line": {
             "colorbar": {
              "outlinewidth": 0,
              "ticks": ""
             }
            },
            "type": "parcoords"
           }
          ],
          "pie": [
           {
            "automargin": true,
            "type": "pie"
           }
          ],
          "scatter": [
           {
            "marker": {
             "colorbar": {
              "outlinewidth": 0,
              "ticks": ""
             }
            },
            "type": "scatter"
           }
          ],
          "scatter3d": [
           {
            "line": {
             "colorbar": {
              "outlinewidth": 0,
              "ticks": ""
             }
            },
            "marker": {
             "colorbar": {
              "outlinewidth": 0,
              "ticks": ""
             }
            },
            "type": "scatter3d"
           }
          ],
          "scattercarpet": [
           {
            "marker": {
             "colorbar": {
              "outlinewidth": 0,
              "ticks": ""
             }
            },
            "type": "scattercarpet"
           }
          ],
          "scattergeo": [
           {
            "marker": {
             "colorbar": {
              "outlinewidth": 0,
              "ticks": ""
             }
            },
            "type": "scattergeo"
           }
          ],
          "scattergl": [
           {
            "marker": {
             "colorbar": {
              "outlinewidth": 0,
              "ticks": ""
             }
            },
            "type": "scattergl"
           }
          ],
          "scattermapbox": [
           {
            "marker": {
             "colorbar": {
              "outlinewidth": 0,
              "ticks": ""
             }
            },
            "type": "scattermapbox"
           }
          ],
          "scatterpolar": [
           {
            "marker": {
             "colorbar": {
              "outlinewidth": 0,
              "ticks": ""
             }
            },
            "type": "scatterpolar"
           }
          ],
          "scatterpolargl": [
           {
            "marker": {
             "colorbar": {
              "outlinewidth": 0,
              "ticks": ""
             }
            },
            "type": "scatterpolargl"
           }
          ],
          "scatterternary": [
           {
            "marker": {
             "colorbar": {
              "outlinewidth": 0,
              "ticks": ""
             }
            },
            "type": "scatterternary"
           }
          ],
          "surface": [
           {
            "colorbar": {
             "outlinewidth": 0,
             "ticks": ""
            },
            "colorscale": [
             [
              0,
              "#0d0887"
             ],
             [
              0.1111111111111111,
              "#46039f"
             ],
             [
              0.2222222222222222,
              "#7201a8"
             ],
             [
              0.3333333333333333,
              "#9c179e"
             ],
             [
              0.4444444444444444,
              "#bd3786"
             ],
             [
              0.5555555555555556,
              "#d8576b"
             ],
             [
              0.6666666666666666,
              "#ed7953"
             ],
             [
              0.7777777777777778,
              "#fb9f3a"
             ],
             [
              0.8888888888888888,
              "#fdca26"
             ],
             [
              1,
              "#f0f921"
             ]
            ],
            "type": "surface"
           }
          ],
          "table": [
           {
            "cells": {
             "fill": {
              "color": "#EBF0F8"
             },
             "line": {
              "color": "white"
             }
            },
            "header": {
             "fill": {
              "color": "#C8D4E3"
             },
             "line": {
              "color": "white"
             }
            },
            "type": "table"
           }
          ]
         },
         "layout": {
          "annotationdefaults": {
           "arrowcolor": "#2a3f5f",
           "arrowhead": 0,
           "arrowwidth": 1
          },
          "autotypenumbers": "strict",
          "coloraxis": {
           "colorbar": {
            "outlinewidth": 0,
            "ticks": ""
           }
          },
          "colorscale": {
           "diverging": [
            [
             0,
             "#8e0152"
            ],
            [
             0.1,
             "#c51b7d"
            ],
            [
             0.2,
             "#de77ae"
            ],
            [
             0.3,
             "#f1b6da"
            ],
            [
             0.4,
             "#fde0ef"
            ],
            [
             0.5,
             "#f7f7f7"
            ],
            [
             0.6,
             "#e6f5d0"
            ],
            [
             0.7,
             "#b8e186"
            ],
            [
             0.8,
             "#7fbc41"
            ],
            [
             0.9,
             "#4d9221"
            ],
            [
             1,
             "#276419"
            ]
           ],
           "sequential": [
            [
             0,
             "#0d0887"
            ],
            [
             0.1111111111111111,
             "#46039f"
            ],
            [
             0.2222222222222222,
             "#7201a8"
            ],
            [
             0.3333333333333333,
             "#9c179e"
            ],
            [
             0.4444444444444444,
             "#bd3786"
            ],
            [
             0.5555555555555556,
             "#d8576b"
            ],
            [
             0.6666666666666666,
             "#ed7953"
            ],
            [
             0.7777777777777778,
             "#fb9f3a"
            ],
            [
             0.8888888888888888,
             "#fdca26"
            ],
            [
             1,
             "#f0f921"
            ]
           ],
           "sequentialminus": [
            [
             0,
             "#0d0887"
            ],
            [
             0.1111111111111111,
             "#46039f"
            ],
            [
             0.2222222222222222,
             "#7201a8"
            ],
            [
             0.3333333333333333,
             "#9c179e"
            ],
            [
             0.4444444444444444,
             "#bd3786"
            ],
            [
             0.5555555555555556,
             "#d8576b"
            ],
            [
             0.6666666666666666,
             "#ed7953"
            ],
            [
             0.7777777777777778,
             "#fb9f3a"
            ],
            [
             0.8888888888888888,
             "#fdca26"
            ],
            [
             1,
             "#f0f921"
            ]
           ]
          },
          "colorway": [
           "#636efa",
           "#EF553B",
           "#00cc96",
           "#ab63fa",
           "#FFA15A",
           "#19d3f3",
           "#FF6692",
           "#B6E880",
           "#FF97FF",
           "#FECB52"
          ],
          "font": {
           "color": "#2a3f5f"
          },
          "geo": {
           "bgcolor": "white",
           "lakecolor": "white",
           "landcolor": "#E5ECF6",
           "showlakes": true,
           "showland": true,
           "subunitcolor": "white"
          },
          "hoverlabel": {
           "align": "left"
          },
          "hovermode": "closest",
          "mapbox": {
           "style": "light"
          },
          "paper_bgcolor": "white",
          "plot_bgcolor": "#E5ECF6",
          "polar": {
           "angularaxis": {
            "gridcolor": "white",
            "linecolor": "white",
            "ticks": ""
           },
           "bgcolor": "#E5ECF6",
           "radialaxis": {
            "gridcolor": "white",
            "linecolor": "white",
            "ticks": ""
           }
          },
          "scene": {
           "xaxis": {
            "backgroundcolor": "#E5ECF6",
            "gridcolor": "white",
            "gridwidth": 2,
            "linecolor": "white",
            "showbackground": true,
            "ticks": "",
            "zerolinecolor": "white"
           },
           "yaxis": {
            "backgroundcolor": "#E5ECF6",
            "gridcolor": "white",
            "gridwidth": 2,
            "linecolor": "white",
            "showbackground": true,
            "ticks": "",
            "zerolinecolor": "white"
           },
           "zaxis": {
            "backgroundcolor": "#E5ECF6",
            "gridcolor": "white",
            "gridwidth": 2,
            "linecolor": "white",
            "showbackground": true,
            "ticks": "",
            "zerolinecolor": "white"
           }
          },
          "shapedefaults": {
           "line": {
            "color": "#2a3f5f"
           }
          },
          "ternary": {
           "aaxis": {
            "gridcolor": "white",
            "linecolor": "white",
            "ticks": ""
           },
           "baxis": {
            "gridcolor": "white",
            "linecolor": "white",
            "ticks": ""
           },
           "bgcolor": "#E5ECF6",
           "caxis": {
            "gridcolor": "white",
            "linecolor": "white",
            "ticks": ""
           }
          },
          "title": {
           "x": 0.05
          },
          "xaxis": {
           "automargin": true,
           "gridcolor": "white",
           "linecolor": "white",
           "ticks": "",
           "title": {
            "standoff": 15
           },
           "zerolinecolor": "white",
           "zerolinewidth": 2
          },
          "yaxis": {
           "automargin": true,
           "gridcolor": "white",
           "linecolor": "white",
           "ticks": "",
           "title": {
            "standoff": 15
           },
           "zerolinecolor": "white",
           "zerolinewidth": 2
          }
         }
        },
        "title": {
         "text": "Slice Plot"
        },
        "xaxis": {
         "anchor": "y",
         "domain": [
          0,
          0.45
         ],
         "title": {
          "text": "max_iter"
         }
        },
        "xaxis2": {
         "anchor": "y2",
         "domain": [
          0.55,
          1
         ],
         "title": {
          "text": "tol"
         }
        },
        "yaxis": {
         "anchor": "x",
         "domain": [
          0,
          1
         ],
         "title": {
          "text": "Objective Value"
         }
        },
        "yaxis2": {
         "anchor": "x2",
         "domain": [
          0,
          1
         ],
         "matches": "y",
         "showticklabels": false
        }
       }
      },
      "text/html": [
       "<div>                            <div id=\"83a1dd69-043b-4c47-8c08-a8ba3466df87\" class=\"plotly-graph-div\" style=\"height:525px; width:100%;\"></div>            <script type=\"text/javascript\">                require([\"plotly\"], function(Plotly) {                    window.PLOTLYENV=window.PLOTLYENV || {};                                    if (document.getElementById(\"83a1dd69-043b-4c47-8c08-a8ba3466df87\")) {                    Plotly.newPlot(                        \"83a1dd69-043b-4c47-8c08-a8ba3466df87\",                        [{\"marker\":{\"color\":[0,1,2,3,4,5,6,7,8,9,10,11,12,13,14,15,16,17,18,19],\"colorbar\":{\"title\":{\"text\":\"#Trials\"},\"x\":1.0,\"xpad\":40},\"colorscale\":[[0.0,\"rgb(247,251,255)\"],[0.125,\"rgb(222,235,247)\"],[0.25,\"rgb(198,219,239)\"],[0.375,\"rgb(158,202,225)\"],[0.5,\"rgb(107,174,214)\"],[0.625,\"rgb(66,146,198)\"],[0.75,\"rgb(33,113,181)\"],[0.875,\"rgb(8,81,156)\"],[1.0,\"rgb(8,48,107)\"]],\"line\":{\"color\":\"Grey\",\"width\":0.5},\"showscale\":true},\"mode\":\"markers\",\"showlegend\":false,\"type\":\"scatter\",\"x\":[825,962,715,912,854,861,755,898,864,759,983,961,992,997,943,935,926,914,827,889],\"xaxis\":\"x\",\"y\":[0.7462028568026117,0.7468671356226879,0.7446271602328614,0.7467031975302494,0.7460829627711654,0.7446776105491562,0.7446776105491562,0.7466252832370771,0.7460107552750637,0.7449768066194079,0.746314622221222,0.7467053268797834,0.7468671356226879,0.746314622221222,0.7471556398039434,0.7474407544986015,0.7475508276908519,0.7469177955534857,0.7449300593738986,0.7470960920899555],\"yaxis\":\"y\"},{\"marker\":{\"color\":[0,1,2,3,4,5,6,7,8,9,10,11,12,13,14,15,16,17,18,19],\"colorbar\":{\"title\":{\"text\":\"#Trials\"},\"x\":1.0,\"xpad\":40},\"colorscale\":[[0.0,\"rgb(247,251,255)\"],[0.125,\"rgb(222,235,247)\"],[0.25,\"rgb(198,219,239)\"],[0.375,\"rgb(158,202,225)\"],[0.5,\"rgb(107,174,214)\"],[0.625,\"rgb(66,146,198)\"],[0.75,\"rgb(33,113,181)\"],[0.875,\"rgb(8,81,156)\"],[1.0,\"rgb(8,48,107)\"]],\"line\":{\"color\":\"Grey\",\"width\":0.5},\"showscale\":false},\"mode\":\"markers\",\"showlegend\":false,\"type\":\"scatter\",\"x\":[0.003830623154276751,0.0024733434165152184,0.001624003028478911,0.0018092349420100755,0.0034193171408126773,0.00460485031904171,0.004676446785153434,0.001721587814127942,0.00453507321892875,0.0004066376385951137,0.0028140591225261193,0.002007131748076453,0.0025058648042042726,0.002727784199164067,0.0008203131460502856,0.0006022076122239066,0.0003923834338699613,0.0009531861269208458,0.0001831589739233248,0.0011254664032060617],\"xaxis\":\"x2\",\"y\":[0.7462028568026117,0.7468671356226879,0.7446271602328614,0.7467031975302494,0.7460829627711654,0.7446776105491562,0.7446776105491562,0.7466252832370771,0.7460107552750637,0.7449768066194079,0.746314622221222,0.7467053268797834,0.7468671356226879,0.746314622221222,0.7471556398039434,0.7474407544986015,0.7475508276908519,0.7469177955534857,0.7449300593738986,0.7470960920899555],\"yaxis\":\"y2\"}],                        {\"template\":{\"data\":{\"bar\":[{\"error_x\":{\"color\":\"#2a3f5f\"},\"error_y\":{\"color\":\"#2a3f5f\"},\"marker\":{\"line\":{\"color\":\"#E5ECF6\",\"width\":0.5},\"pattern\":{\"fillmode\":\"overlay\",\"size\":10,\"solidity\":0.2}},\"type\":\"bar\"}],\"barpolar\":[{\"marker\":{\"line\":{\"color\":\"#E5ECF6\",\"width\":0.5},\"pattern\":{\"fillmode\":\"overlay\",\"size\":10,\"solidity\":0.2}},\"type\":\"barpolar\"}],\"carpet\":[{\"aaxis\":{\"endlinecolor\":\"#2a3f5f\",\"gridcolor\":\"white\",\"linecolor\":\"white\",\"minorgridcolor\":\"white\",\"startlinecolor\":\"#2a3f5f\"},\"baxis\":{\"endlinecolor\":\"#2a3f5f\",\"gridcolor\":\"white\",\"linecolor\":\"white\",\"minorgridcolor\":\"white\",\"startlinecolor\":\"#2a3f5f\"},\"type\":\"carpet\"}],\"choropleth\":[{\"colorbar\":{\"outlinewidth\":0,\"ticks\":\"\"},\"type\":\"choropleth\"}],\"contour\":[{\"colorbar\":{\"outlinewidth\":0,\"ticks\":\"\"},\"colorscale\":[[0.0,\"#0d0887\"],[0.1111111111111111,\"#46039f\"],[0.2222222222222222,\"#7201a8\"],[0.3333333333333333,\"#9c179e\"],[0.4444444444444444,\"#bd3786\"],[0.5555555555555556,\"#d8576b\"],[0.6666666666666666,\"#ed7953\"],[0.7777777777777778,\"#fb9f3a\"],[0.8888888888888888,\"#fdca26\"],[1.0,\"#f0f921\"]],\"type\":\"contour\"}],\"contourcarpet\":[{\"colorbar\":{\"outlinewidth\":0,\"ticks\":\"\"},\"type\":\"contourcarpet\"}],\"heatmap\":[{\"colorbar\":{\"outlinewidth\":0,\"ticks\":\"\"},\"colorscale\":[[0.0,\"#0d0887\"],[0.1111111111111111,\"#46039f\"],[0.2222222222222222,\"#7201a8\"],[0.3333333333333333,\"#9c179e\"],[0.4444444444444444,\"#bd3786\"],[0.5555555555555556,\"#d8576b\"],[0.6666666666666666,\"#ed7953\"],[0.7777777777777778,\"#fb9f3a\"],[0.8888888888888888,\"#fdca26\"],[1.0,\"#f0f921\"]],\"type\":\"heatmap\"}],\"heatmapgl\":[{\"colorbar\":{\"outlinewidth\":0,\"ticks\":\"\"},\"colorscale\":[[0.0,\"#0d0887\"],[0.1111111111111111,\"#46039f\"],[0.2222222222222222,\"#7201a8\"],[0.3333333333333333,\"#9c179e\"],[0.4444444444444444,\"#bd3786\"],[0.5555555555555556,\"#d8576b\"],[0.6666666666666666,\"#ed7953\"],[0.7777777777777778,\"#fb9f3a\"],[0.8888888888888888,\"#fdca26\"],[1.0,\"#f0f921\"]],\"type\":\"heatmapgl\"}],\"histogram\":[{\"marker\":{\"pattern\":{\"fillmode\":\"overlay\",\"size\":10,\"solidity\":0.2}},\"type\":\"histogram\"}],\"histogram2d\":[{\"colorbar\":{\"outlinewidth\":0,\"ticks\":\"\"},\"colorscale\":[[0.0,\"#0d0887\"],[0.1111111111111111,\"#46039f\"],[0.2222222222222222,\"#7201a8\"],[0.3333333333333333,\"#9c179e\"],[0.4444444444444444,\"#bd3786\"],[0.5555555555555556,\"#d8576b\"],[0.6666666666666666,\"#ed7953\"],[0.7777777777777778,\"#fb9f3a\"],[0.8888888888888888,\"#fdca26\"],[1.0,\"#f0f921\"]],\"type\":\"histogram2d\"}],\"histogram2dcontour\":[{\"colorbar\":{\"outlinewidth\":0,\"ticks\":\"\"},\"colorscale\":[[0.0,\"#0d0887\"],[0.1111111111111111,\"#46039f\"],[0.2222222222222222,\"#7201a8\"],[0.3333333333333333,\"#9c179e\"],[0.4444444444444444,\"#bd3786\"],[0.5555555555555556,\"#d8576b\"],[0.6666666666666666,\"#ed7953\"],[0.7777777777777778,\"#fb9f3a\"],[0.8888888888888888,\"#fdca26\"],[1.0,\"#f0f921\"]],\"type\":\"histogram2dcontour\"}],\"mesh3d\":[{\"colorbar\":{\"outlinewidth\":0,\"ticks\":\"\"},\"type\":\"mesh3d\"}],\"parcoords\":[{\"line\":{\"colorbar\":{\"outlinewidth\":0,\"ticks\":\"\"}},\"type\":\"parcoords\"}],\"pie\":[{\"automargin\":true,\"type\":\"pie\"}],\"scatter\":[{\"marker\":{\"colorbar\":{\"outlinewidth\":0,\"ticks\":\"\"}},\"type\":\"scatter\"}],\"scatter3d\":[{\"line\":{\"colorbar\":{\"outlinewidth\":0,\"ticks\":\"\"}},\"marker\":{\"colorbar\":{\"outlinewidth\":0,\"ticks\":\"\"}},\"type\":\"scatter3d\"}],\"scattercarpet\":[{\"marker\":{\"colorbar\":{\"outlinewidth\":0,\"ticks\":\"\"}},\"type\":\"scattercarpet\"}],\"scattergeo\":[{\"marker\":{\"colorbar\":{\"outlinewidth\":0,\"ticks\":\"\"}},\"type\":\"scattergeo\"}],\"scattergl\":[{\"marker\":{\"colorbar\":{\"outlinewidth\":0,\"ticks\":\"\"}},\"type\":\"scattergl\"}],\"scattermapbox\":[{\"marker\":{\"colorbar\":{\"outlinewidth\":0,\"ticks\":\"\"}},\"type\":\"scattermapbox\"}],\"scatterpolar\":[{\"marker\":{\"colorbar\":{\"outlinewidth\":0,\"ticks\":\"\"}},\"type\":\"scatterpolar\"}],\"scatterpolargl\":[{\"marker\":{\"colorbar\":{\"outlinewidth\":0,\"ticks\":\"\"}},\"type\":\"scatterpolargl\"}],\"scatterternary\":[{\"marker\":{\"colorbar\":{\"outlinewidth\":0,\"ticks\":\"\"}},\"type\":\"scatterternary\"}],\"surface\":[{\"colorbar\":{\"outlinewidth\":0,\"ticks\":\"\"},\"colorscale\":[[0.0,\"#0d0887\"],[0.1111111111111111,\"#46039f\"],[0.2222222222222222,\"#7201a8\"],[0.3333333333333333,\"#9c179e\"],[0.4444444444444444,\"#bd3786\"],[0.5555555555555556,\"#d8576b\"],[0.6666666666666666,\"#ed7953\"],[0.7777777777777778,\"#fb9f3a\"],[0.8888888888888888,\"#fdca26\"],[1.0,\"#f0f921\"]],\"type\":\"surface\"}],\"table\":[{\"cells\":{\"fill\":{\"color\":\"#EBF0F8\"},\"line\":{\"color\":\"white\"}},\"header\":{\"fill\":{\"color\":\"#C8D4E3\"},\"line\":{\"color\":\"white\"}},\"type\":\"table\"}]},\"layout\":{\"annotationdefaults\":{\"arrowcolor\":\"#2a3f5f\",\"arrowhead\":0,\"arrowwidth\":1},\"autotypenumbers\":\"strict\",\"coloraxis\":{\"colorbar\":{\"outlinewidth\":0,\"ticks\":\"\"}},\"colorscale\":{\"diverging\":[[0,\"#8e0152\"],[0.1,\"#c51b7d\"],[0.2,\"#de77ae\"],[0.3,\"#f1b6da\"],[0.4,\"#fde0ef\"],[0.5,\"#f7f7f7\"],[0.6,\"#e6f5d0\"],[0.7,\"#b8e186\"],[0.8,\"#7fbc41\"],[0.9,\"#4d9221\"],[1,\"#276419\"]],\"sequential\":[[0.0,\"#0d0887\"],[0.1111111111111111,\"#46039f\"],[0.2222222222222222,\"#7201a8\"],[0.3333333333333333,\"#9c179e\"],[0.4444444444444444,\"#bd3786\"],[0.5555555555555556,\"#d8576b\"],[0.6666666666666666,\"#ed7953\"],[0.7777777777777778,\"#fb9f3a\"],[0.8888888888888888,\"#fdca26\"],[1.0,\"#f0f921\"]],\"sequentialminus\":[[0.0,\"#0d0887\"],[0.1111111111111111,\"#46039f\"],[0.2222222222222222,\"#7201a8\"],[0.3333333333333333,\"#9c179e\"],[0.4444444444444444,\"#bd3786\"],[0.5555555555555556,\"#d8576b\"],[0.6666666666666666,\"#ed7953\"],[0.7777777777777778,\"#fb9f3a\"],[0.8888888888888888,\"#fdca26\"],[1.0,\"#f0f921\"]]},\"colorway\":[\"#636efa\",\"#EF553B\",\"#00cc96\",\"#ab63fa\",\"#FFA15A\",\"#19d3f3\",\"#FF6692\",\"#B6E880\",\"#FF97FF\",\"#FECB52\"],\"font\":{\"color\":\"#2a3f5f\"},\"geo\":{\"bgcolor\":\"white\",\"lakecolor\":\"white\",\"landcolor\":\"#E5ECF6\",\"showlakes\":true,\"showland\":true,\"subunitcolor\":\"white\"},\"hoverlabel\":{\"align\":\"left\"},\"hovermode\":\"closest\",\"mapbox\":{\"style\":\"light\"},\"paper_bgcolor\":\"white\",\"plot_bgcolor\":\"#E5ECF6\",\"polar\":{\"angularaxis\":{\"gridcolor\":\"white\",\"linecolor\":\"white\",\"ticks\":\"\"},\"bgcolor\":\"#E5ECF6\",\"radialaxis\":{\"gridcolor\":\"white\",\"linecolor\":\"white\",\"ticks\":\"\"}},\"scene\":{\"xaxis\":{\"backgroundcolor\":\"#E5ECF6\",\"gridcolor\":\"white\",\"gridwidth\":2,\"linecolor\":\"white\",\"showbackground\":true,\"ticks\":\"\",\"zerolinecolor\":\"white\"},\"yaxis\":{\"backgroundcolor\":\"#E5ECF6\",\"gridcolor\":\"white\",\"gridwidth\":2,\"linecolor\":\"white\",\"showbackground\":true,\"ticks\":\"\",\"zerolinecolor\":\"white\"},\"zaxis\":{\"backgroundcolor\":\"#E5ECF6\",\"gridcolor\":\"white\",\"gridwidth\":2,\"linecolor\":\"white\",\"showbackground\":true,\"ticks\":\"\",\"zerolinecolor\":\"white\"}},\"shapedefaults\":{\"line\":{\"color\":\"#2a3f5f\"}},\"ternary\":{\"aaxis\":{\"gridcolor\":\"white\",\"linecolor\":\"white\",\"ticks\":\"\"},\"baxis\":{\"gridcolor\":\"white\",\"linecolor\":\"white\",\"ticks\":\"\"},\"bgcolor\":\"#E5ECF6\",\"caxis\":{\"gridcolor\":\"white\",\"linecolor\":\"white\",\"ticks\":\"\"}},\"title\":{\"x\":0.05},\"xaxis\":{\"automargin\":true,\"gridcolor\":\"white\",\"linecolor\":\"white\",\"ticks\":\"\",\"title\":{\"standoff\":15},\"zerolinecolor\":\"white\",\"zerolinewidth\":2},\"yaxis\":{\"automargin\":true,\"gridcolor\":\"white\",\"linecolor\":\"white\",\"ticks\":\"\",\"title\":{\"standoff\":15},\"zerolinecolor\":\"white\",\"zerolinewidth\":2}}},\"title\":{\"text\":\"Slice Plot\"},\"xaxis\":{\"anchor\":\"y\",\"domain\":[0.0,0.45],\"title\":{\"text\":\"max_iter\"}},\"xaxis2\":{\"anchor\":\"y2\",\"domain\":[0.55,1.0],\"title\":{\"text\":\"tol\"}},\"yaxis\":{\"anchor\":\"x\",\"domain\":[0.0,1.0],\"title\":{\"text\":\"Objective Value\"}},\"yaxis2\":{\"anchor\":\"x2\",\"domain\":[0.0,1.0],\"matches\":\"y\",\"showticklabels\":false}},                        {\"responsive\": true}                    ).then(function(){\n",
       "                            \n",
       "var gd = document.getElementById('83a1dd69-043b-4c47-8c08-a8ba3466df87');\n",
       "var x = new MutationObserver(function (mutations, observer) {{\n",
       "        var display = window.getComputedStyle(gd).display;\n",
       "        if (!display || display === 'none') {{\n",
       "            console.log([gd, 'removed!']);\n",
       "            Plotly.purge(gd);\n",
       "            observer.disconnect();\n",
       "        }}\n",
       "}});\n",
       "\n",
       "// Listen for the removal of the full notebook cells\n",
       "var notebookContainer = gd.closest('#notebook-container');\n",
       "if (notebookContainer) {{\n",
       "    x.observe(notebookContainer, {childList: true});\n",
       "}}\n",
       "\n",
       "// Listen for the clearing of the current output cell\n",
       "var outputEl = gd.closest('.output');\n",
       "if (outputEl) {{\n",
       "    x.observe(outputEl, {childList: true});\n",
       "}}\n",
       "\n",
       "                        })                };                });            </script>        </div>"
      ]
     },
     "metadata": {},
     "output_type": "display_data"
    }
   ],
   "source": [
    "###################################################################################################\n",
    "# Select parameters to visualize.\n",
    "plot_slice(study, params=['max_iter', 'tol'])"
   ]
  },
  {
   "cell_type": "code",
   "execution_count": 217,
   "metadata": {
    "ExecuteTime": {
     "end_time": "2021-11-16T02:38:47.906073Z",
     "start_time": "2021-11-16T02:38:47.893074Z"
    },
    "executionInfo": {
     "elapsed": 290,
     "status": "ok",
     "timestamp": 1635585759178,
     "user": {
      "displayName": "Rogério Delfim",
      "photoUrl": "https://lh3.googleusercontent.com/a-/AOh14Gj8lDYWTfZHU0U0sMojRPio71Ec7YDcSEpCaOEE=s64",
      "userId": "04235763959036945343"
     },
     "user_tz": 180
    },
    "id": "bX5_TJENmXMh"
   },
   "outputs": [],
   "source": [
    "###################################################################################################\n",
    "# Visualize parameter importances. See :func:`~optuna.visualization.plot_param_importances` for the details.\n",
    "#plot_param_importances(study)"
   ]
  },
  {
   "cell_type": "code",
   "execution_count": 218,
   "metadata": {
    "ExecuteTime": {
     "end_time": "2021-11-16T02:38:47.922073Z",
     "start_time": "2021-11-16T02:38:47.908075Z"
    },
    "executionInfo": {
     "elapsed": 4,
     "status": "ok",
     "timestamp": 1635585759179,
     "user": {
      "displayName": "Rogério Delfim",
      "photoUrl": "https://lh3.googleusercontent.com/a-/AOh14Gj8lDYWTfZHU0U0sMojRPio71Ec7YDcSEpCaOEE=s64",
      "userId": "04235763959036945343"
     },
     "user_tz": 180
    },
    "id": "Wqbcq1HvoaDp"
   },
   "outputs": [],
   "source": [
    "###################################################################################################\n",
    "# Learn which hyperparameters are affecting the trial duration with hyperparameter importance.\n",
    "# optuna.visualization.plot_param_importances( study, target=lambda t: t.duration.total_seconds(), target_name=\"duration\")"
   ]
  },
  {
   "cell_type": "code",
   "execution_count": 219,
   "metadata": {
    "ExecuteTime": {
     "end_time": "2021-11-16T02:38:47.937084Z",
     "start_time": "2021-11-16T02:38:47.924074Z"
    },
    "colab": {
     "base_uri": "https://localhost:8080/",
     "height": 542
    },
    "executionInfo": {
     "elapsed": 316,
     "status": "ok",
     "timestamp": 1635585759491,
     "user": {
      "displayName": "Rogério Delfim",
      "photoUrl": "https://lh3.googleusercontent.com/a-/AOh14Gj8lDYWTfZHU0U0sMojRPio71Ec7YDcSEpCaOEE=s64",
      "userId": "04235763959036945343"
     },
     "user_tz": 180
    },
    "id": "23-nvgOFoaN8",
    "outputId": "8c89de70-4f5f-42a0-9f02-e83addd6cad6"
   },
   "outputs": [
    {
     "data": {
      "application/vnd.plotly.v1+json": {
       "config": {
        "plotlyServerURL": "https://plot.ly"
       },
       "data": [
        {
         "mode": "lines",
         "name": "lsvn_tun",
         "type": "scatter",
         "x": [
          0.7446271602328614,
          0.7446566922273865,
          0.7446862242219117,
          0.7447157562164368,
          0.744745288210962,
          0.7447748202054871,
          0.7448043522000123,
          0.7448338841945374,
          0.7448634161890626,
          0.7448929481835878,
          0.7449224801781129,
          0.7449520121726381,
          0.7449815441671632,
          0.7450110761616884,
          0.7450406081562135,
          0.7450701401507387,
          0.7450996721452638,
          0.745129204139789,
          0.7451587361343142,
          0.7451882681288393,
          0.7452178001233645,
          0.7452473321178896,
          0.7452768641124148,
          0.7453063961069399,
          0.7453359281014651,
          0.7453654600959903,
          0.7453949920905154,
          0.7454245240850406,
          0.7454540560795657,
          0.7454835880740909,
          0.745513120068616,
          0.7455426520631412,
          0.7455721840576663,
          0.7456017160521915,
          0.7456312480467167,
          0.7456607800412418,
          0.745690312035767,
          0.7457198440302921,
          0.7457493760248173,
          0.7457789080193424,
          0.7458084400138676,
          0.7458379720083927,
          0.7458675040029179,
          0.7458970359974431,
          0.7459265679919682,
          0.7459560999864934,
          0.7459856319810185,
          0.7460151639755437,
          0.7460446959700688,
          0.746074227964594,
          0.7461037599591193,
          0.7461332919536444,
          0.7461628239481696,
          0.7461923559426947,
          0.7462218879372199,
          0.746251419931745,
          0.7462809519262702,
          0.7463104839207954,
          0.7463400159153205,
          0.7463695479098457,
          0.7463990799043708,
          0.746428611898896,
          0.7464581438934211,
          0.7464876758879463,
          0.7465172078824714,
          0.7465467398769966,
          0.7465762718715218,
          0.7466058038660469,
          0.7466353358605721,
          0.7466648678550972,
          0.7466943998496224,
          0.7467239318441475,
          0.7467534638386727,
          0.7467829958331978,
          0.746812527827723,
          0.7468420598222482,
          0.7468715918167733,
          0.7469011238112985,
          0.7469306558058236,
          0.7469601878003488,
          0.7469897197948739,
          0.7470192517893991,
          0.7470487837839243,
          0.7470783157784494,
          0.7471078477729746,
          0.7471373797674997,
          0.7471669117620249,
          0.74719644375655,
          0.7472259757510752,
          0.7472555077456003,
          0.7472850397401255,
          0.7473145717346507,
          0.7473441037291758,
          0.747373635723701,
          0.7474031677182261,
          0.7474326997127513,
          0.7474622317072764,
          0.7474917637018016,
          0.7475212956963267,
          0.7475508276908519
         ],
         "y": [
          0.05,
          0.05,
          0.15,
          0.15,
          0.15,
          0.15,
          0.15,
          0.15,
          0.15,
          0.15,
          0.15,
          0.2,
          0.25,
          0.25,
          0.25,
          0.25,
          0.25,
          0.25,
          0.25,
          0.25,
          0.25,
          0.25,
          0.25,
          0.25,
          0.25,
          0.25,
          0.25,
          0.25,
          0.25,
          0.25,
          0.25,
          0.25,
          0.25,
          0.25,
          0.25,
          0.25,
          0.25,
          0.25,
          0.25,
          0.25,
          0.25,
          0.25,
          0.25,
          0.25,
          0.25,
          0.25,
          0.25,
          0.3,
          0.3,
          0.3,
          0.35,
          0.35,
          0.35,
          0.35,
          0.4,
          0.4,
          0.4,
          0.4,
          0.5,
          0.5,
          0.5,
          0.5,
          0.5,
          0.5,
          0.5,
          0.5,
          0.5,
          0.5,
          0.55,
          0.55,
          0.55,
          0.65,
          0.65,
          0.65,
          0.65,
          0.65,
          0.75,
          0.75,
          0.8,
          0.8,
          0.8,
          0.8,
          0.8,
          0.8,
          0.85,
          0.85,
          0.9,
          0.9,
          0.9,
          0.9,
          0.9,
          0.9,
          0.9,
          0.9,
          0.9,
          0.9,
          0.95,
          0.95,
          0.95,
          1
         ]
        }
       ],
       "layout": {
        "template": {
         "data": {
          "bar": [
           {
            "error_x": {
             "color": "#2a3f5f"
            },
            "error_y": {
             "color": "#2a3f5f"
            },
            "marker": {
             "line": {
              "color": "#E5ECF6",
              "width": 0.5
             },
             "pattern": {
              "fillmode": "overlay",
              "size": 10,
              "solidity": 0.2
             }
            },
            "type": "bar"
           }
          ],
          "barpolar": [
           {
            "marker": {
             "line": {
              "color": "#E5ECF6",
              "width": 0.5
             },
             "pattern": {
              "fillmode": "overlay",
              "size": 10,
              "solidity": 0.2
             }
            },
            "type": "barpolar"
           }
          ],
          "carpet": [
           {
            "aaxis": {
             "endlinecolor": "#2a3f5f",
             "gridcolor": "white",
             "linecolor": "white",
             "minorgridcolor": "white",
             "startlinecolor": "#2a3f5f"
            },
            "baxis": {
             "endlinecolor": "#2a3f5f",
             "gridcolor": "white",
             "linecolor": "white",
             "minorgridcolor": "white",
             "startlinecolor": "#2a3f5f"
            },
            "type": "carpet"
           }
          ],
          "choropleth": [
           {
            "colorbar": {
             "outlinewidth": 0,
             "ticks": ""
            },
            "type": "choropleth"
           }
          ],
          "contour": [
           {
            "colorbar": {
             "outlinewidth": 0,
             "ticks": ""
            },
            "colorscale": [
             [
              0,
              "#0d0887"
             ],
             [
              0.1111111111111111,
              "#46039f"
             ],
             [
              0.2222222222222222,
              "#7201a8"
             ],
             [
              0.3333333333333333,
              "#9c179e"
             ],
             [
              0.4444444444444444,
              "#bd3786"
             ],
             [
              0.5555555555555556,
              "#d8576b"
             ],
             [
              0.6666666666666666,
              "#ed7953"
             ],
             [
              0.7777777777777778,
              "#fb9f3a"
             ],
             [
              0.8888888888888888,
              "#fdca26"
             ],
             [
              1,
              "#f0f921"
             ]
            ],
            "type": "contour"
           }
          ],
          "contourcarpet": [
           {
            "colorbar": {
             "outlinewidth": 0,
             "ticks": ""
            },
            "type": "contourcarpet"
           }
          ],
          "heatmap": [
           {
            "colorbar": {
             "outlinewidth": 0,
             "ticks": ""
            },
            "colorscale": [
             [
              0,
              "#0d0887"
             ],
             [
              0.1111111111111111,
              "#46039f"
             ],
             [
              0.2222222222222222,
              "#7201a8"
             ],
             [
              0.3333333333333333,
              "#9c179e"
             ],
             [
              0.4444444444444444,
              "#bd3786"
             ],
             [
              0.5555555555555556,
              "#d8576b"
             ],
             [
              0.6666666666666666,
              "#ed7953"
             ],
             [
              0.7777777777777778,
              "#fb9f3a"
             ],
             [
              0.8888888888888888,
              "#fdca26"
             ],
             [
              1,
              "#f0f921"
             ]
            ],
            "type": "heatmap"
           }
          ],
          "heatmapgl": [
           {
            "colorbar": {
             "outlinewidth": 0,
             "ticks": ""
            },
            "colorscale": [
             [
              0,
              "#0d0887"
             ],
             [
              0.1111111111111111,
              "#46039f"
             ],
             [
              0.2222222222222222,
              "#7201a8"
             ],
             [
              0.3333333333333333,
              "#9c179e"
             ],
             [
              0.4444444444444444,
              "#bd3786"
             ],
             [
              0.5555555555555556,
              "#d8576b"
             ],
             [
              0.6666666666666666,
              "#ed7953"
             ],
             [
              0.7777777777777778,
              "#fb9f3a"
             ],
             [
              0.8888888888888888,
              "#fdca26"
             ],
             [
              1,
              "#f0f921"
             ]
            ],
            "type": "heatmapgl"
           }
          ],
          "histogram": [
           {
            "marker": {
             "pattern": {
              "fillmode": "overlay",
              "size": 10,
              "solidity": 0.2
             }
            },
            "type": "histogram"
           }
          ],
          "histogram2d": [
           {
            "colorbar": {
             "outlinewidth": 0,
             "ticks": ""
            },
            "colorscale": [
             [
              0,
              "#0d0887"
             ],
             [
              0.1111111111111111,
              "#46039f"
             ],
             [
              0.2222222222222222,
              "#7201a8"
             ],
             [
              0.3333333333333333,
              "#9c179e"
             ],
             [
              0.4444444444444444,
              "#bd3786"
             ],
             [
              0.5555555555555556,
              "#d8576b"
             ],
             [
              0.6666666666666666,
              "#ed7953"
             ],
             [
              0.7777777777777778,
              "#fb9f3a"
             ],
             [
              0.8888888888888888,
              "#fdca26"
             ],
             [
              1,
              "#f0f921"
             ]
            ],
            "type": "histogram2d"
           }
          ],
          "histogram2dcontour": [
           {
            "colorbar": {
             "outlinewidth": 0,
             "ticks": ""
            },
            "colorscale": [
             [
              0,
              "#0d0887"
             ],
             [
              0.1111111111111111,
              "#46039f"
             ],
             [
              0.2222222222222222,
              "#7201a8"
             ],
             [
              0.3333333333333333,
              "#9c179e"
             ],
             [
              0.4444444444444444,
              "#bd3786"
             ],
             [
              0.5555555555555556,
              "#d8576b"
             ],
             [
              0.6666666666666666,
              "#ed7953"
             ],
             [
              0.7777777777777778,
              "#fb9f3a"
             ],
             [
              0.8888888888888888,
              "#fdca26"
             ],
             [
              1,
              "#f0f921"
             ]
            ],
            "type": "histogram2dcontour"
           }
          ],
          "mesh3d": [
           {
            "colorbar": {
             "outlinewidth": 0,
             "ticks": ""
            },
            "type": "mesh3d"
           }
          ],
          "parcoords": [
           {
            "line": {
             "colorbar": {
              "outlinewidth": 0,
              "ticks": ""
             }
            },
            "type": "parcoords"
           }
          ],
          "pie": [
           {
            "automargin": true,
            "type": "pie"
           }
          ],
          "scatter": [
           {
            "marker": {
             "colorbar": {
              "outlinewidth": 0,
              "ticks": ""
             }
            },
            "type": "scatter"
           }
          ],
          "scatter3d": [
           {
            "line": {
             "colorbar": {
              "outlinewidth": 0,
              "ticks": ""
             }
            },
            "marker": {
             "colorbar": {
              "outlinewidth": 0,
              "ticks": ""
             }
            },
            "type": "scatter3d"
           }
          ],
          "scattercarpet": [
           {
            "marker": {
             "colorbar": {
              "outlinewidth": 0,
              "ticks": ""
             }
            },
            "type": "scattercarpet"
           }
          ],
          "scattergeo": [
           {
            "marker": {
             "colorbar": {
              "outlinewidth": 0,
              "ticks": ""
             }
            },
            "type": "scattergeo"
           }
          ],
          "scattergl": [
           {
            "marker": {
             "colorbar": {
              "outlinewidth": 0,
              "ticks": ""
             }
            },
            "type": "scattergl"
           }
          ],
          "scattermapbox": [
           {
            "marker": {
             "colorbar": {
              "outlinewidth": 0,
              "ticks": ""
             }
            },
            "type": "scattermapbox"
           }
          ],
          "scatterpolar": [
           {
            "marker": {
             "colorbar": {
              "outlinewidth": 0,
              "ticks": ""
             }
            },
            "type": "scatterpolar"
           }
          ],
          "scatterpolargl": [
           {
            "marker": {
             "colorbar": {
              "outlinewidth": 0,
              "ticks": ""
             }
            },
            "type": "scatterpolargl"
           }
          ],
          "scatterternary": [
           {
            "marker": {
             "colorbar": {
              "outlinewidth": 0,
              "ticks": ""
             }
            },
            "type": "scatterternary"
           }
          ],
          "surface": [
           {
            "colorbar": {
             "outlinewidth": 0,
             "ticks": ""
            },
            "colorscale": [
             [
              0,
              "#0d0887"
             ],
             [
              0.1111111111111111,
              "#46039f"
             ],
             [
              0.2222222222222222,
              "#7201a8"
             ],
             [
              0.3333333333333333,
              "#9c179e"
             ],
             [
              0.4444444444444444,
              "#bd3786"
             ],
             [
              0.5555555555555556,
              "#d8576b"
             ],
             [
              0.6666666666666666,
              "#ed7953"
             ],
             [
              0.7777777777777778,
              "#fb9f3a"
             ],
             [
              0.8888888888888888,
              "#fdca26"
             ],
             [
              1,
              "#f0f921"
             ]
            ],
            "type": "surface"
           }
          ],
          "table": [
           {
            "cells": {
             "fill": {
              "color": "#EBF0F8"
             },
             "line": {
              "color": "white"
             }
            },
            "header": {
             "fill": {
              "color": "#C8D4E3"
             },
             "line": {
              "color": "white"
             }
            },
            "type": "table"
           }
          ]
         },
         "layout": {
          "annotationdefaults": {
           "arrowcolor": "#2a3f5f",
           "arrowhead": 0,
           "arrowwidth": 1
          },
          "autotypenumbers": "strict",
          "coloraxis": {
           "colorbar": {
            "outlinewidth": 0,
            "ticks": ""
           }
          },
          "colorscale": {
           "diverging": [
            [
             0,
             "#8e0152"
            ],
            [
             0.1,
             "#c51b7d"
            ],
            [
             0.2,
             "#de77ae"
            ],
            [
             0.3,
             "#f1b6da"
            ],
            [
             0.4,
             "#fde0ef"
            ],
            [
             0.5,
             "#f7f7f7"
            ],
            [
             0.6,
             "#e6f5d0"
            ],
            [
             0.7,
             "#b8e186"
            ],
            [
             0.8,
             "#7fbc41"
            ],
            [
             0.9,
             "#4d9221"
            ],
            [
             1,
             "#276419"
            ]
           ],
           "sequential": [
            [
             0,
             "#0d0887"
            ],
            [
             0.1111111111111111,
             "#46039f"
            ],
            [
             0.2222222222222222,
             "#7201a8"
            ],
            [
             0.3333333333333333,
             "#9c179e"
            ],
            [
             0.4444444444444444,
             "#bd3786"
            ],
            [
             0.5555555555555556,
             "#d8576b"
            ],
            [
             0.6666666666666666,
             "#ed7953"
            ],
            [
             0.7777777777777778,
             "#fb9f3a"
            ],
            [
             0.8888888888888888,
             "#fdca26"
            ],
            [
             1,
             "#f0f921"
            ]
           ],
           "sequentialminus": [
            [
             0,
             "#0d0887"
            ],
            [
             0.1111111111111111,
             "#46039f"
            ],
            [
             0.2222222222222222,
             "#7201a8"
            ],
            [
             0.3333333333333333,
             "#9c179e"
            ],
            [
             0.4444444444444444,
             "#bd3786"
            ],
            [
             0.5555555555555556,
             "#d8576b"
            ],
            [
             0.6666666666666666,
             "#ed7953"
            ],
            [
             0.7777777777777778,
             "#fb9f3a"
            ],
            [
             0.8888888888888888,
             "#fdca26"
            ],
            [
             1,
             "#f0f921"
            ]
           ]
          },
          "colorway": [
           "#636efa",
           "#EF553B",
           "#00cc96",
           "#ab63fa",
           "#FFA15A",
           "#19d3f3",
           "#FF6692",
           "#B6E880",
           "#FF97FF",
           "#FECB52"
          ],
          "font": {
           "color": "#2a3f5f"
          },
          "geo": {
           "bgcolor": "white",
           "lakecolor": "white",
           "landcolor": "#E5ECF6",
           "showlakes": true,
           "showland": true,
           "subunitcolor": "white"
          },
          "hoverlabel": {
           "align": "left"
          },
          "hovermode": "closest",
          "mapbox": {
           "style": "light"
          },
          "paper_bgcolor": "white",
          "plot_bgcolor": "#E5ECF6",
          "polar": {
           "angularaxis": {
            "gridcolor": "white",
            "linecolor": "white",
            "ticks": ""
           },
           "bgcolor": "#E5ECF6",
           "radialaxis": {
            "gridcolor": "white",
            "linecolor": "white",
            "ticks": ""
           }
          },
          "scene": {
           "xaxis": {
            "backgroundcolor": "#E5ECF6",
            "gridcolor": "white",
            "gridwidth": 2,
            "linecolor": "white",
            "showbackground": true,
            "ticks": "",
            "zerolinecolor": "white"
           },
           "yaxis": {
            "backgroundcolor": "#E5ECF6",
            "gridcolor": "white",
            "gridwidth": 2,
            "linecolor": "white",
            "showbackground": true,
            "ticks": "",
            "zerolinecolor": "white"
           },
           "zaxis": {
            "backgroundcolor": "#E5ECF6",
            "gridcolor": "white",
            "gridwidth": 2,
            "linecolor": "white",
            "showbackground": true,
            "ticks": "",
            "zerolinecolor": "white"
           }
          },
          "shapedefaults": {
           "line": {
            "color": "#2a3f5f"
           }
          },
          "ternary": {
           "aaxis": {
            "gridcolor": "white",
            "linecolor": "white",
            "ticks": ""
           },
           "baxis": {
            "gridcolor": "white",
            "linecolor": "white",
            "ticks": ""
           },
           "bgcolor": "#E5ECF6",
           "caxis": {
            "gridcolor": "white",
            "linecolor": "white",
            "ticks": ""
           }
          },
          "title": {
           "x": 0.05
          },
          "xaxis": {
           "automargin": true,
           "gridcolor": "white",
           "linecolor": "white",
           "ticks": "",
           "title": {
            "standoff": 15
           },
           "zerolinecolor": "white",
           "zerolinewidth": 2
          },
          "yaxis": {
           "automargin": true,
           "gridcolor": "white",
           "linecolor": "white",
           "ticks": "",
           "title": {
            "standoff": 15
           },
           "zerolinecolor": "white",
           "zerolinewidth": 2
          }
         }
        },
        "title": {
         "text": "Empirical Distribution Function Plot"
        },
        "xaxis": {
         "title": {
          "text": "Objective Value"
         }
        },
        "yaxis": {
         "range": [
          0,
          1
         ],
         "title": {
          "text": "Cumulative Probability"
         }
        }
       }
      },
      "text/html": [
       "<div>                            <div id=\"61f8be4a-06ea-4550-9939-c81af39a678c\" class=\"plotly-graph-div\" style=\"height:525px; width:100%;\"></div>            <script type=\"text/javascript\">                require([\"plotly\"], function(Plotly) {                    window.PLOTLYENV=window.PLOTLYENV || {};                                    if (document.getElementById(\"61f8be4a-06ea-4550-9939-c81af39a678c\")) {                    Plotly.newPlot(                        \"61f8be4a-06ea-4550-9939-c81af39a678c\",                        [{\"mode\":\"lines\",\"name\":\"lsvn_tun\",\"type\":\"scatter\",\"x\":[0.7446271602328614,0.7446566922273865,0.7446862242219117,0.7447157562164368,0.744745288210962,0.7447748202054871,0.7448043522000123,0.7448338841945374,0.7448634161890626,0.7448929481835878,0.7449224801781129,0.7449520121726381,0.7449815441671632,0.7450110761616884,0.7450406081562135,0.7450701401507387,0.7450996721452638,0.745129204139789,0.7451587361343142,0.7451882681288393,0.7452178001233645,0.7452473321178896,0.7452768641124148,0.7453063961069399,0.7453359281014651,0.7453654600959903,0.7453949920905154,0.7454245240850406,0.7454540560795657,0.7454835880740909,0.745513120068616,0.7455426520631412,0.7455721840576663,0.7456017160521915,0.7456312480467167,0.7456607800412418,0.745690312035767,0.7457198440302921,0.7457493760248173,0.7457789080193424,0.7458084400138676,0.7458379720083927,0.7458675040029179,0.7458970359974431,0.7459265679919682,0.7459560999864934,0.7459856319810185,0.7460151639755437,0.7460446959700688,0.746074227964594,0.7461037599591193,0.7461332919536444,0.7461628239481696,0.7461923559426947,0.7462218879372199,0.746251419931745,0.7462809519262702,0.7463104839207954,0.7463400159153205,0.7463695479098457,0.7463990799043708,0.746428611898896,0.7464581438934211,0.7464876758879463,0.7465172078824714,0.7465467398769966,0.7465762718715218,0.7466058038660469,0.7466353358605721,0.7466648678550972,0.7466943998496224,0.7467239318441475,0.7467534638386727,0.7467829958331978,0.746812527827723,0.7468420598222482,0.7468715918167733,0.7469011238112985,0.7469306558058236,0.7469601878003488,0.7469897197948739,0.7470192517893991,0.7470487837839243,0.7470783157784494,0.7471078477729746,0.7471373797674997,0.7471669117620249,0.74719644375655,0.7472259757510752,0.7472555077456003,0.7472850397401255,0.7473145717346507,0.7473441037291758,0.747373635723701,0.7474031677182261,0.7474326997127513,0.7474622317072764,0.7474917637018016,0.7475212956963267,0.7475508276908519],\"y\":[0.05,0.05,0.15,0.15,0.15,0.15,0.15,0.15,0.15,0.15,0.15,0.2,0.25,0.25,0.25,0.25,0.25,0.25,0.25,0.25,0.25,0.25,0.25,0.25,0.25,0.25,0.25,0.25,0.25,0.25,0.25,0.25,0.25,0.25,0.25,0.25,0.25,0.25,0.25,0.25,0.25,0.25,0.25,0.25,0.25,0.25,0.25,0.3,0.3,0.3,0.35,0.35,0.35,0.35,0.4,0.4,0.4,0.4,0.5,0.5,0.5,0.5,0.5,0.5,0.5,0.5,0.5,0.5,0.55,0.55,0.55,0.65,0.65,0.65,0.65,0.65,0.75,0.75,0.8,0.8,0.8,0.8,0.8,0.8,0.85,0.85,0.9,0.9,0.9,0.9,0.9,0.9,0.9,0.9,0.9,0.9,0.95,0.95,0.95,1.0]}],                        {\"template\":{\"data\":{\"bar\":[{\"error_x\":{\"color\":\"#2a3f5f\"},\"error_y\":{\"color\":\"#2a3f5f\"},\"marker\":{\"line\":{\"color\":\"#E5ECF6\",\"width\":0.5},\"pattern\":{\"fillmode\":\"overlay\",\"size\":10,\"solidity\":0.2}},\"type\":\"bar\"}],\"barpolar\":[{\"marker\":{\"line\":{\"color\":\"#E5ECF6\",\"width\":0.5},\"pattern\":{\"fillmode\":\"overlay\",\"size\":10,\"solidity\":0.2}},\"type\":\"barpolar\"}],\"carpet\":[{\"aaxis\":{\"endlinecolor\":\"#2a3f5f\",\"gridcolor\":\"white\",\"linecolor\":\"white\",\"minorgridcolor\":\"white\",\"startlinecolor\":\"#2a3f5f\"},\"baxis\":{\"endlinecolor\":\"#2a3f5f\",\"gridcolor\":\"white\",\"linecolor\":\"white\",\"minorgridcolor\":\"white\",\"startlinecolor\":\"#2a3f5f\"},\"type\":\"carpet\"}],\"choropleth\":[{\"colorbar\":{\"outlinewidth\":0,\"ticks\":\"\"},\"type\":\"choropleth\"}],\"contour\":[{\"colorbar\":{\"outlinewidth\":0,\"ticks\":\"\"},\"colorscale\":[[0.0,\"#0d0887\"],[0.1111111111111111,\"#46039f\"],[0.2222222222222222,\"#7201a8\"],[0.3333333333333333,\"#9c179e\"],[0.4444444444444444,\"#bd3786\"],[0.5555555555555556,\"#d8576b\"],[0.6666666666666666,\"#ed7953\"],[0.7777777777777778,\"#fb9f3a\"],[0.8888888888888888,\"#fdca26\"],[1.0,\"#f0f921\"]],\"type\":\"contour\"}],\"contourcarpet\":[{\"colorbar\":{\"outlinewidth\":0,\"ticks\":\"\"},\"type\":\"contourcarpet\"}],\"heatmap\":[{\"colorbar\":{\"outlinewidth\":0,\"ticks\":\"\"},\"colorscale\":[[0.0,\"#0d0887\"],[0.1111111111111111,\"#46039f\"],[0.2222222222222222,\"#7201a8\"],[0.3333333333333333,\"#9c179e\"],[0.4444444444444444,\"#bd3786\"],[0.5555555555555556,\"#d8576b\"],[0.6666666666666666,\"#ed7953\"],[0.7777777777777778,\"#fb9f3a\"],[0.8888888888888888,\"#fdca26\"],[1.0,\"#f0f921\"]],\"type\":\"heatmap\"}],\"heatmapgl\":[{\"colorbar\":{\"outlinewidth\":0,\"ticks\":\"\"},\"colorscale\":[[0.0,\"#0d0887\"],[0.1111111111111111,\"#46039f\"],[0.2222222222222222,\"#7201a8\"],[0.3333333333333333,\"#9c179e\"],[0.4444444444444444,\"#bd3786\"],[0.5555555555555556,\"#d8576b\"],[0.6666666666666666,\"#ed7953\"],[0.7777777777777778,\"#fb9f3a\"],[0.8888888888888888,\"#fdca26\"],[1.0,\"#f0f921\"]],\"type\":\"heatmapgl\"}],\"histogram\":[{\"marker\":{\"pattern\":{\"fillmode\":\"overlay\",\"size\":10,\"solidity\":0.2}},\"type\":\"histogram\"}],\"histogram2d\":[{\"colorbar\":{\"outlinewidth\":0,\"ticks\":\"\"},\"colorscale\":[[0.0,\"#0d0887\"],[0.1111111111111111,\"#46039f\"],[0.2222222222222222,\"#7201a8\"],[0.3333333333333333,\"#9c179e\"],[0.4444444444444444,\"#bd3786\"],[0.5555555555555556,\"#d8576b\"],[0.6666666666666666,\"#ed7953\"],[0.7777777777777778,\"#fb9f3a\"],[0.8888888888888888,\"#fdca26\"],[1.0,\"#f0f921\"]],\"type\":\"histogram2d\"}],\"histogram2dcontour\":[{\"colorbar\":{\"outlinewidth\":0,\"ticks\":\"\"},\"colorscale\":[[0.0,\"#0d0887\"],[0.1111111111111111,\"#46039f\"],[0.2222222222222222,\"#7201a8\"],[0.3333333333333333,\"#9c179e\"],[0.4444444444444444,\"#bd3786\"],[0.5555555555555556,\"#d8576b\"],[0.6666666666666666,\"#ed7953\"],[0.7777777777777778,\"#fb9f3a\"],[0.8888888888888888,\"#fdca26\"],[1.0,\"#f0f921\"]],\"type\":\"histogram2dcontour\"}],\"mesh3d\":[{\"colorbar\":{\"outlinewidth\":0,\"ticks\":\"\"},\"type\":\"mesh3d\"}],\"parcoords\":[{\"line\":{\"colorbar\":{\"outlinewidth\":0,\"ticks\":\"\"}},\"type\":\"parcoords\"}],\"pie\":[{\"automargin\":true,\"type\":\"pie\"}],\"scatter\":[{\"marker\":{\"colorbar\":{\"outlinewidth\":0,\"ticks\":\"\"}},\"type\":\"scatter\"}],\"scatter3d\":[{\"line\":{\"colorbar\":{\"outlinewidth\":0,\"ticks\":\"\"}},\"marker\":{\"colorbar\":{\"outlinewidth\":0,\"ticks\":\"\"}},\"type\":\"scatter3d\"}],\"scattercarpet\":[{\"marker\":{\"colorbar\":{\"outlinewidth\":0,\"ticks\":\"\"}},\"type\":\"scattercarpet\"}],\"scattergeo\":[{\"marker\":{\"colorbar\":{\"outlinewidth\":0,\"ticks\":\"\"}},\"type\":\"scattergeo\"}],\"scattergl\":[{\"marker\":{\"colorbar\":{\"outlinewidth\":0,\"ticks\":\"\"}},\"type\":\"scattergl\"}],\"scattermapbox\":[{\"marker\":{\"colorbar\":{\"outlinewidth\":0,\"ticks\":\"\"}},\"type\":\"scattermapbox\"}],\"scatterpolar\":[{\"marker\":{\"colorbar\":{\"outlinewidth\":0,\"ticks\":\"\"}},\"type\":\"scatterpolar\"}],\"scatterpolargl\":[{\"marker\":{\"colorbar\":{\"outlinewidth\":0,\"ticks\":\"\"}},\"type\":\"scatterpolargl\"}],\"scatterternary\":[{\"marker\":{\"colorbar\":{\"outlinewidth\":0,\"ticks\":\"\"}},\"type\":\"scatterternary\"}],\"surface\":[{\"colorbar\":{\"outlinewidth\":0,\"ticks\":\"\"},\"colorscale\":[[0.0,\"#0d0887\"],[0.1111111111111111,\"#46039f\"],[0.2222222222222222,\"#7201a8\"],[0.3333333333333333,\"#9c179e\"],[0.4444444444444444,\"#bd3786\"],[0.5555555555555556,\"#d8576b\"],[0.6666666666666666,\"#ed7953\"],[0.7777777777777778,\"#fb9f3a\"],[0.8888888888888888,\"#fdca26\"],[1.0,\"#f0f921\"]],\"type\":\"surface\"}],\"table\":[{\"cells\":{\"fill\":{\"color\":\"#EBF0F8\"},\"line\":{\"color\":\"white\"}},\"header\":{\"fill\":{\"color\":\"#C8D4E3\"},\"line\":{\"color\":\"white\"}},\"type\":\"table\"}]},\"layout\":{\"annotationdefaults\":{\"arrowcolor\":\"#2a3f5f\",\"arrowhead\":0,\"arrowwidth\":1},\"autotypenumbers\":\"strict\",\"coloraxis\":{\"colorbar\":{\"outlinewidth\":0,\"ticks\":\"\"}},\"colorscale\":{\"diverging\":[[0,\"#8e0152\"],[0.1,\"#c51b7d\"],[0.2,\"#de77ae\"],[0.3,\"#f1b6da\"],[0.4,\"#fde0ef\"],[0.5,\"#f7f7f7\"],[0.6,\"#e6f5d0\"],[0.7,\"#b8e186\"],[0.8,\"#7fbc41\"],[0.9,\"#4d9221\"],[1,\"#276419\"]],\"sequential\":[[0.0,\"#0d0887\"],[0.1111111111111111,\"#46039f\"],[0.2222222222222222,\"#7201a8\"],[0.3333333333333333,\"#9c179e\"],[0.4444444444444444,\"#bd3786\"],[0.5555555555555556,\"#d8576b\"],[0.6666666666666666,\"#ed7953\"],[0.7777777777777778,\"#fb9f3a\"],[0.8888888888888888,\"#fdca26\"],[1.0,\"#f0f921\"]],\"sequentialminus\":[[0.0,\"#0d0887\"],[0.1111111111111111,\"#46039f\"],[0.2222222222222222,\"#7201a8\"],[0.3333333333333333,\"#9c179e\"],[0.4444444444444444,\"#bd3786\"],[0.5555555555555556,\"#d8576b\"],[0.6666666666666666,\"#ed7953\"],[0.7777777777777778,\"#fb9f3a\"],[0.8888888888888888,\"#fdca26\"],[1.0,\"#f0f921\"]]},\"colorway\":[\"#636efa\",\"#EF553B\",\"#00cc96\",\"#ab63fa\",\"#FFA15A\",\"#19d3f3\",\"#FF6692\",\"#B6E880\",\"#FF97FF\",\"#FECB52\"],\"font\":{\"color\":\"#2a3f5f\"},\"geo\":{\"bgcolor\":\"white\",\"lakecolor\":\"white\",\"landcolor\":\"#E5ECF6\",\"showlakes\":true,\"showland\":true,\"subunitcolor\":\"white\"},\"hoverlabel\":{\"align\":\"left\"},\"hovermode\":\"closest\",\"mapbox\":{\"style\":\"light\"},\"paper_bgcolor\":\"white\",\"plot_bgcolor\":\"#E5ECF6\",\"polar\":{\"angularaxis\":{\"gridcolor\":\"white\",\"linecolor\":\"white\",\"ticks\":\"\"},\"bgcolor\":\"#E5ECF6\",\"radialaxis\":{\"gridcolor\":\"white\",\"linecolor\":\"white\",\"ticks\":\"\"}},\"scene\":{\"xaxis\":{\"backgroundcolor\":\"#E5ECF6\",\"gridcolor\":\"white\",\"gridwidth\":2,\"linecolor\":\"white\",\"showbackground\":true,\"ticks\":\"\",\"zerolinecolor\":\"white\"},\"yaxis\":{\"backgroundcolor\":\"#E5ECF6\",\"gridcolor\":\"white\",\"gridwidth\":2,\"linecolor\":\"white\",\"showbackground\":true,\"ticks\":\"\",\"zerolinecolor\":\"white\"},\"zaxis\":{\"backgroundcolor\":\"#E5ECF6\",\"gridcolor\":\"white\",\"gridwidth\":2,\"linecolor\":\"white\",\"showbackground\":true,\"ticks\":\"\",\"zerolinecolor\":\"white\"}},\"shapedefaults\":{\"line\":{\"color\":\"#2a3f5f\"}},\"ternary\":{\"aaxis\":{\"gridcolor\":\"white\",\"linecolor\":\"white\",\"ticks\":\"\"},\"baxis\":{\"gridcolor\":\"white\",\"linecolor\":\"white\",\"ticks\":\"\"},\"bgcolor\":\"#E5ECF6\",\"caxis\":{\"gridcolor\":\"white\",\"linecolor\":\"white\",\"ticks\":\"\"}},\"title\":{\"x\":0.05},\"xaxis\":{\"automargin\":true,\"gridcolor\":\"white\",\"linecolor\":\"white\",\"ticks\":\"\",\"title\":{\"standoff\":15},\"zerolinecolor\":\"white\",\"zerolinewidth\":2},\"yaxis\":{\"automargin\":true,\"gridcolor\":\"white\",\"linecolor\":\"white\",\"ticks\":\"\",\"title\":{\"standoff\":15},\"zerolinecolor\":\"white\",\"zerolinewidth\":2}}},\"title\":{\"text\":\"Empirical Distribution Function Plot\"},\"xaxis\":{\"title\":{\"text\":\"Objective Value\"}},\"yaxis\":{\"range\":[0,1],\"title\":{\"text\":\"Cumulative Probability\"}}},                        {\"responsive\": true}                    ).then(function(){\n",
       "                            \n",
       "var gd = document.getElementById('61f8be4a-06ea-4550-9939-c81af39a678c');\n",
       "var x = new MutationObserver(function (mutations, observer) {{\n",
       "        var display = window.getComputedStyle(gd).display;\n",
       "        if (!display || display === 'none') {{\n",
       "            console.log([gd, 'removed!']);\n",
       "            Plotly.purge(gd);\n",
       "            observer.disconnect();\n",
       "        }}\n",
       "}});\n",
       "\n",
       "// Listen for the removal of the full notebook cells\n",
       "var notebookContainer = gd.closest('#notebook-container');\n",
       "if (notebookContainer) {{\n",
       "    x.observe(notebookContainer, {childList: true});\n",
       "}}\n",
       "\n",
       "// Listen for the clearing of the current output cell\n",
       "var outputEl = gd.closest('.output');\n",
       "if (outputEl) {{\n",
       "    x.observe(outputEl, {childList: true});\n",
       "}}\n",
       "\n",
       "                        })                };                });            </script>        </div>"
      ]
     },
     "metadata": {},
     "output_type": "display_data"
    }
   ],
   "source": [
    "###################################################################################################\n",
    "# Visualize empirical distribution function. See :func:`~optuna.visualization.plot_edf` for the details.\n",
    "plot_edf(study)"
   ]
  },
  {
   "cell_type": "markdown",
   "metadata": {
    "id": "5nVNrHHSi347"
   },
   "source": [
    "### 1.2.3. Modelo Final\n",
    "Agora que temos os melhores parametros, vamos treinar uma modelo com esse parametros e fazer algumas análises, para o treinamento vamos utilizar o dataset de treino (train)  e validar a performance do modelo em dados que não foram utlizados no treinamento e  vamos fazer uma pequena análise. "
   ]
  },
  {
   "cell_type": "code",
   "execution_count": 220,
   "metadata": {
    "ExecuteTime": {
     "end_time": "2021-11-16T02:38:47.953097Z",
     "start_time": "2021-11-16T02:38:47.939078Z"
    }
   },
   "outputs": [
    {
     "data": {
      "text/plain": [
       "{'loss': 'modified_huber',\n",
       " 'penalty': 'l2',\n",
       " 'max_iter': 926,\n",
       " 'tol': 0.0003923834338699613,\n",
       " 'random_state': 12359}"
      ]
     },
     "execution_count": 220,
     "metadata": {},
     "output_type": "execute_result"
    }
   ],
   "source": [
    "params_best"
   ]
  },
  {
   "cell_type": "code",
   "execution_count": 221,
   "metadata": {
    "ExecuteTime": {
     "end_time": "2021-11-16T02:39:46.349394Z",
     "start_time": "2021-11-16T02:38:47.955081Z"
    },
    "colab": {
     "base_uri": "https://localhost:8080/"
    },
    "executionInfo": {
     "elapsed": 2705952,
     "status": "ok",
     "timestamp": 1635588469525,
     "user": {
      "displayName": "Rogério Delfim",
      "photoUrl": "https://lh3.googleusercontent.com/a-/AOh14Gj8lDYWTfZHU0U0sMojRPio71Ec7YDcSEpCaOEE=s64",
      "userId": "04235763959036945343"
     },
     "user_tz": 180
    },
    "id": "52gsbtwyi348",
    "outputId": "49ffe4c3-f118-453b-890e-6eae8aa222cf",
    "scrolled": true
   },
   "outputs": [
    {
     "name": "stdout",
     "output_type": "stream",
     "text": [
      "====================================================================================================\n",
      "Training model: SGDClassifier seed 12359 - n_estimators: 1 - max_iter: 926 - 1.00000 - 1\n",
      "====================================================================================================\n",
      "Fold 1/5 AUC: 0.74817 - F1: 0.60798 - L. loss: 0.85927   1     0h 0m 13s\n",
      "Fold 2/5 AUC: 0.74574 - F1: 0.32103 - L. loss: 1.59674   1     0h 0m 10s\n",
      "Fold 3/5 AUC: 0.74914 - F1: 0.61967 - L. loss: 0.80486   1     0h 0m 10s\n",
      "Fold 4/5 AUC: 0.74555 - F1: 0.60038 - L. loss: 0.83858   1     0h 0m 11s\n",
      "Fold 5/5 AUC: 0.74907 - F1: 0.62819 - L. loss: 0.80764   1     0h 0m 10s\n",
      "----------------------------------------------------------------------------------------------------\n",
      "[Mean Fold]  AUC: 0.74753(Std:0.00158) - F1: 0.55545 - L. Loss: 0.98142 * 1 0h 0m 58s\n",
      "====================================================================================================\n",
      "\n",
      "Wall time: 58.4 s\n"
     ]
    }
   ],
   "source": [
    "%%time\n",
    "\n",
    "name_model = name_model_clf  + '004_tun'\n",
    "\n",
    "mdl = SGDClassifier(**params_best)\n",
    "    \n",
    "model_002, score, y_pre_test = TunningModels.cross_valid(model          = mdl, \n",
    "                                                         model_name_    = name_model, \n",
    "                                                         X_             = X_train, \n",
    "                                                         y_             = y_train, \n",
    "                                                         X_test_        = X_test_scaler, \n",
    "                                                         type_model     = 1, \n",
    "                                                         feature        = None,\n",
    "                                                         seed           = SEED, \n",
    "                                                         tunning        = 3, # retorna modelo                   \n",
    "                                                         scaler         = sc,\n",
    "                                                         save_predict   = False\n",
    "                                                         )\n",
    "\n"
   ]
  },
  {
   "cell_type": "markdown",
   "metadata": {
    "id": "kmA6tODli348"
   },
   "source": [
    "<div class=\"alert alert-info\" role=\"alert\"> \n",
    "    \n",
    "**`NOTA:`** <br>\n",
    "Observando os dados acima do treinamento, a AUC está na média em relação ao processo de tunning que foi realizado na etapa anterior, vamos fazer a predição em dados que o modelo não viu no treinamento e continuar com a análise, primeito vamos transformar os dados de validação.\n",
    "    \n",
    "</div>"
   ]
  },
  {
   "cell_type": "code",
   "execution_count": 222,
   "metadata": {
    "ExecuteTime": {
     "end_time": "2021-11-16T02:39:46.856396Z",
     "start_time": "2021-11-16T02:39:46.351206Z"
    }
   },
   "outputs": [
    {
     "data": {
      "text/html": [
       "<div>\n",
       "<style scoped>\n",
       "    .dataframe tbody tr th:only-of-type {\n",
       "        vertical-align: middle;\n",
       "    }\n",
       "\n",
       "    .dataframe tbody tr th {\n",
       "        vertical-align: top;\n",
       "    }\n",
       "\n",
       "    .dataframe thead th {\n",
       "        text-align: right;\n",
       "    }\n",
       "</style>\n",
       "<table border=\"1\" class=\"dataframe\">\n",
       "  <thead>\n",
       "    <tr style=\"text-align: right;\">\n",
       "      <th></th>\n",
       "      <th>f0</th>\n",
       "      <th>f1</th>\n",
       "      <th>f2</th>\n",
       "      <th>f3</th>\n",
       "      <th>f4</th>\n",
       "      <th>f5</th>\n",
       "      <th>f6</th>\n",
       "      <th>f7</th>\n",
       "      <th>f8</th>\n",
       "      <th>f9</th>\n",
       "      <th>f10</th>\n",
       "      <th>f11</th>\n",
       "      <th>f12</th>\n",
       "      <th>f13</th>\n",
       "      <th>f14</th>\n",
       "      <th>f15</th>\n",
       "      <th>f16</th>\n",
       "      <th>f17</th>\n",
       "      <th>f18</th>\n",
       "      <th>f19</th>\n",
       "      <th>f20</th>\n",
       "      <th>f21</th>\n",
       "      <th>f22</th>\n",
       "      <th>f23</th>\n",
       "      <th>f24</th>\n",
       "      <th>f25</th>\n",
       "      <th>f26</th>\n",
       "      <th>f27</th>\n",
       "      <th>f28</th>\n",
       "      <th>f29</th>\n",
       "      <th>f30</th>\n",
       "      <th>f31</th>\n",
       "      <th>f32</th>\n",
       "      <th>f33</th>\n",
       "      <th>f34</th>\n",
       "      <th>f35</th>\n",
       "      <th>f36</th>\n",
       "      <th>f37</th>\n",
       "      <th>f38</th>\n",
       "      <th>f39</th>\n",
       "      <th>f40</th>\n",
       "      <th>f41</th>\n",
       "      <th>f42</th>\n",
       "      <th>f43</th>\n",
       "      <th>f44</th>\n",
       "      <th>f45</th>\n",
       "      <th>f46</th>\n",
       "      <th>f47</th>\n",
       "      <th>f48</th>\n",
       "      <th>f49</th>\n",
       "      <th>f50</th>\n",
       "      <th>f51</th>\n",
       "      <th>f52</th>\n",
       "      <th>f53</th>\n",
       "      <th>f54</th>\n",
       "      <th>f55</th>\n",
       "      <th>f56</th>\n",
       "      <th>f57</th>\n",
       "      <th>f58</th>\n",
       "      <th>f59</th>\n",
       "      <th>f60</th>\n",
       "      <th>f61</th>\n",
       "      <th>f62</th>\n",
       "      <th>f63</th>\n",
       "      <th>f64</th>\n",
       "      <th>f65</th>\n",
       "      <th>f66</th>\n",
       "      <th>f67</th>\n",
       "      <th>f68</th>\n",
       "      <th>f69</th>\n",
       "      <th>f70</th>\n",
       "      <th>f71</th>\n",
       "      <th>f72</th>\n",
       "      <th>f73</th>\n",
       "      <th>f74</th>\n",
       "      <th>f75</th>\n",
       "      <th>f76</th>\n",
       "      <th>f77</th>\n",
       "      <th>f78</th>\n",
       "      <th>f79</th>\n",
       "      <th>f80</th>\n",
       "      <th>f81</th>\n",
       "      <th>f82</th>\n",
       "      <th>f83</th>\n",
       "      <th>f84</th>\n",
       "      <th>f85</th>\n",
       "      <th>f86</th>\n",
       "      <th>f87</th>\n",
       "      <th>f88</th>\n",
       "      <th>f89</th>\n",
       "      <th>f90</th>\n",
       "      <th>f91</th>\n",
       "      <th>f92</th>\n",
       "      <th>f93</th>\n",
       "      <th>f94</th>\n",
       "      <th>f95</th>\n",
       "      <th>f96</th>\n",
       "      <th>f97</th>\n",
       "      <th>f98</th>\n",
       "      <th>f99</th>\n",
       "      <th>fe_cluster_0</th>\n",
       "      <th>fe_cluster_1</th>\n",
       "      <th>fe_cluster_2</th>\n",
       "      <th>fe_cluster_3</th>\n",
       "      <th>fe_cluster_4</th>\n",
       "      <th>fe_mean</th>\n",
       "      <th>fe_median</th>\n",
       "      <th>fe_min</th>\n",
       "      <th>fe_max</th>\n",
       "      <th>fe_skew</th>\n",
       "    </tr>\n",
       "  </thead>\n",
       "  <tbody>\n",
       "    <tr>\n",
       "      <th>0</th>\n",
       "      <td>0.230957</td>\n",
       "      <td>0.726074</td>\n",
       "      <td>0.240479</td>\n",
       "      <td>0.130615</td>\n",
       "      <td>0.263916</td>\n",
       "      <td>0.484375</td>\n",
       "      <td>0.656250</td>\n",
       "      <td>0.582031</td>\n",
       "      <td>0.531738</td>\n",
       "      <td>0.221436</td>\n",
       "      <td>0.601074</td>\n",
       "      <td>0.616211</td>\n",
       "      <td>0.271729</td>\n",
       "      <td>0.439209</td>\n",
       "      <td>0.579102</td>\n",
       "      <td>0.353516</td>\n",
       "      <td>0.303711</td>\n",
       "      <td>0.668945</td>\n",
       "      <td>0.605469</td>\n",
       "      <td>0.304443</td>\n",
       "      <td>0.266113</td>\n",
       "      <td>0.204468</td>\n",
       "      <td>0.394287</td>\n",
       "      <td>0.242554</td>\n",
       "      <td>0.267090</td>\n",
       "      <td>0.465088</td>\n",
       "      <td>0.289062</td>\n",
       "      <td>0.399414</td>\n",
       "      <td>0.327148</td>\n",
       "      <td>0.631348</td>\n",
       "      <td>0.273926</td>\n",
       "      <td>0.263672</td>\n",
       "      <td>0.246460</td>\n",
       "      <td>0.384521</td>\n",
       "      <td>0.445312</td>\n",
       "      <td>0.224243</td>\n",
       "      <td>0.194580</td>\n",
       "      <td>0.901367</td>\n",
       "      <td>0.807129</td>\n",
       "      <td>0.303467</td>\n",
       "      <td>0.508789</td>\n",
       "      <td>0.821289</td>\n",
       "      <td>0.270508</td>\n",
       "      <td>0.491455</td>\n",
       "      <td>0.256836</td>\n",
       "      <td>0.404297</td>\n",
       "      <td>0.200684</td>\n",
       "      <td>0.766113</td>\n",
       "      <td>0.308105</td>\n",
       "      <td>0.225464</td>\n",
       "      <td>0.445312</td>\n",
       "      <td>0.303223</td>\n",
       "      <td>0.439453</td>\n",
       "      <td>0.218262</td>\n",
       "      <td>0.305664</td>\n",
       "      <td>0.652832</td>\n",
       "      <td>0.204102</td>\n",
       "      <td>0.359375</td>\n",
       "      <td>0.360840</td>\n",
       "      <td>0.273193</td>\n",
       "      <td>0.441895</td>\n",
       "      <td>0.255859</td>\n",
       "      <td>0.232178</td>\n",
       "      <td>0.349121</td>\n",
       "      <td>0.290039</td>\n",
       "      <td>0.601562</td>\n",
       "      <td>0.890625</td>\n",
       "      <td>0.257324</td>\n",
       "      <td>0.252930</td>\n",
       "      <td>0.305420</td>\n",
       "      <td>0.438477</td>\n",
       "      <td>0.794922</td>\n",
       "      <td>0.295410</td>\n",
       "      <td>0.221924</td>\n",
       "      <td>0.585938</td>\n",
       "      <td>0.321533</td>\n",
       "      <td>0.285400</td>\n",
       "      <td>0.849121</td>\n",
       "      <td>0.268555</td>\n",
       "      <td>0.242432</td>\n",
       "      <td>0.722656</td>\n",
       "      <td>0.321533</td>\n",
       "      <td>0.806641</td>\n",
       "      <td>0.261963</td>\n",
       "      <td>0.203857</td>\n",
       "      <td>0.412109</td>\n",
       "      <td>0.771484</td>\n",
       "      <td>0.200806</td>\n",
       "      <td>0.327393</td>\n",
       "      <td>0.156494</td>\n",
       "      <td>0.358887</td>\n",
       "      <td>0.351562</td>\n",
       "      <td>0.331543</td>\n",
       "      <td>0.343262</td>\n",
       "      <td>0.323730</td>\n",
       "      <td>0.280029</td>\n",
       "      <td>0.296387</td>\n",
       "      <td>0.146606</td>\n",
       "      <td>0.273193</td>\n",
       "      <td>0.294189</td>\n",
       "      <td>0.0</td>\n",
       "      <td>1.0</td>\n",
       "      <td>0.0</td>\n",
       "      <td>0.0</td>\n",
       "      <td>0.0</td>\n",
       "      <td>0.240723</td>\n",
       "      <td>0.171997</td>\n",
       "      <td>1.000000</td>\n",
       "      <td>0.011238</td>\n",
       "      <td>0.847656</td>\n",
       "    </tr>\n",
       "    <tr>\n",
       "      <th>1</th>\n",
       "      <td>0.270752</td>\n",
       "      <td>0.630859</td>\n",
       "      <td>0.284912</td>\n",
       "      <td>0.195923</td>\n",
       "      <td>0.278320</td>\n",
       "      <td>0.373047</td>\n",
       "      <td>0.340332</td>\n",
       "      <td>0.558594</td>\n",
       "      <td>0.247070</td>\n",
       "      <td>0.225098</td>\n",
       "      <td>0.811035</td>\n",
       "      <td>0.319092</td>\n",
       "      <td>0.234253</td>\n",
       "      <td>0.904785</td>\n",
       "      <td>0.481445</td>\n",
       "      <td>0.482666</td>\n",
       "      <td>0.301758</td>\n",
       "      <td>0.783203</td>\n",
       "      <td>0.107483</td>\n",
       "      <td>0.301270</td>\n",
       "      <td>0.271973</td>\n",
       "      <td>0.272461</td>\n",
       "      <td>0.537598</td>\n",
       "      <td>0.237549</td>\n",
       "      <td>0.267578</td>\n",
       "      <td>0.217773</td>\n",
       "      <td>0.331299</td>\n",
       "      <td>0.377441</td>\n",
       "      <td>0.359863</td>\n",
       "      <td>0.882812</td>\n",
       "      <td>0.275146</td>\n",
       "      <td>0.356689</td>\n",
       "      <td>0.264404</td>\n",
       "      <td>0.380371</td>\n",
       "      <td>0.305176</td>\n",
       "      <td>0.207886</td>\n",
       "      <td>0.171021</td>\n",
       "      <td>0.477051</td>\n",
       "      <td>0.550781</td>\n",
       "      <td>0.237305</td>\n",
       "      <td>0.645508</td>\n",
       "      <td>0.388672</td>\n",
       "      <td>0.260010</td>\n",
       "      <td>0.685547</td>\n",
       "      <td>0.298096</td>\n",
       "      <td>0.237061</td>\n",
       "      <td>0.199097</td>\n",
       "      <td>0.449707</td>\n",
       "      <td>0.316895</td>\n",
       "      <td>0.349609</td>\n",
       "      <td>0.246582</td>\n",
       "      <td>0.300293</td>\n",
       "      <td>0.208252</td>\n",
       "      <td>0.219971</td>\n",
       "      <td>0.260254</td>\n",
       "      <td>0.855469</td>\n",
       "      <td>0.294434</td>\n",
       "      <td>0.398438</td>\n",
       "      <td>0.361084</td>\n",
       "      <td>0.276611</td>\n",
       "      <td>0.258545</td>\n",
       "      <td>0.243408</td>\n",
       "      <td>0.229980</td>\n",
       "      <td>0.348877</td>\n",
       "      <td>0.283691</td>\n",
       "      <td>0.570312</td>\n",
       "      <td>0.726074</td>\n",
       "      <td>0.801758</td>\n",
       "      <td>0.250488</td>\n",
       "      <td>0.301270</td>\n",
       "      <td>0.789551</td>\n",
       "      <td>0.342285</td>\n",
       "      <td>0.299316</td>\n",
       "      <td>0.250732</td>\n",
       "      <td>0.276611</td>\n",
       "      <td>0.313477</td>\n",
       "      <td>0.293701</td>\n",
       "      <td>0.594238</td>\n",
       "      <td>0.287109</td>\n",
       "      <td>0.282471</td>\n",
       "      <td>0.575195</td>\n",
       "      <td>0.317871</td>\n",
       "      <td>0.147217</td>\n",
       "      <td>0.256348</td>\n",
       "      <td>0.138184</td>\n",
       "      <td>0.631348</td>\n",
       "      <td>0.701172</td>\n",
       "      <td>0.199341</td>\n",
       "      <td>0.378906</td>\n",
       "      <td>0.150879</td>\n",
       "      <td>0.370850</td>\n",
       "      <td>0.532715</td>\n",
       "      <td>0.334961</td>\n",
       "      <td>0.339355</td>\n",
       "      <td>0.273193</td>\n",
       "      <td>0.268066</td>\n",
       "      <td>0.514648</td>\n",
       "      <td>0.522461</td>\n",
       "      <td>0.272461</td>\n",
       "      <td>0.283691</td>\n",
       "      <td>0.0</td>\n",
       "      <td>0.0</td>\n",
       "      <td>0.0</td>\n",
       "      <td>0.0</td>\n",
       "      <td>1.0</td>\n",
       "      <td>0.279297</td>\n",
       "      <td>0.184082</td>\n",
       "      <td>1.000000</td>\n",
       "      <td>0.069092</td>\n",
       "      <td>0.997559</td>\n",
       "    </tr>\n",
       "    <tr>\n",
       "      <th>2</th>\n",
       "      <td>0.257812</td>\n",
       "      <td>0.411133</td>\n",
       "      <td>0.261475</td>\n",
       "      <td>0.641113</td>\n",
       "      <td>0.270264</td>\n",
       "      <td>0.500977</td>\n",
       "      <td>0.593750</td>\n",
       "      <td>0.281494</td>\n",
       "      <td>0.239868</td>\n",
       "      <td>0.219849</td>\n",
       "      <td>0.682129</td>\n",
       "      <td>0.441162</td>\n",
       "      <td>0.327881</td>\n",
       "      <td>0.654297</td>\n",
       "      <td>0.519531</td>\n",
       "      <td>0.322266</td>\n",
       "      <td>0.302734</td>\n",
       "      <td>0.160645</td>\n",
       "      <td>0.691406</td>\n",
       "      <td>0.305664</td>\n",
       "      <td>0.265869</td>\n",
       "      <td>0.191284</td>\n",
       "      <td>0.666504</td>\n",
       "      <td>0.208374</td>\n",
       "      <td>0.339600</td>\n",
       "      <td>0.532227</td>\n",
       "      <td>0.709961</td>\n",
       "      <td>0.349609</td>\n",
       "      <td>0.325439</td>\n",
       "      <td>0.833496</td>\n",
       "      <td>0.272705</td>\n",
       "      <td>0.268799</td>\n",
       "      <td>0.263672</td>\n",
       "      <td>0.378662</td>\n",
       "      <td>0.495605</td>\n",
       "      <td>0.212158</td>\n",
       "      <td>0.394043</td>\n",
       "      <td>0.508789</td>\n",
       "      <td>0.083435</td>\n",
       "      <td>0.312988</td>\n",
       "      <td>0.472168</td>\n",
       "      <td>0.524414</td>\n",
       "      <td>0.260498</td>\n",
       "      <td>0.514648</td>\n",
       "      <td>0.238647</td>\n",
       "      <td>0.282471</td>\n",
       "      <td>0.200073</td>\n",
       "      <td>0.598633</td>\n",
       "      <td>0.315674</td>\n",
       "      <td>0.224365</td>\n",
       "      <td>0.252197</td>\n",
       "      <td>0.296631</td>\n",
       "      <td>0.211914</td>\n",
       "      <td>0.927246</td>\n",
       "      <td>0.798828</td>\n",
       "      <td>0.407715</td>\n",
       "      <td>0.206787</td>\n",
       "      <td>0.646973</td>\n",
       "      <td>0.361084</td>\n",
       "      <td>0.270508</td>\n",
       "      <td>0.258545</td>\n",
       "      <td>0.247681</td>\n",
       "      <td>0.270508</td>\n",
       "      <td>0.339844</td>\n",
       "      <td>0.287842</td>\n",
       "      <td>0.417969</td>\n",
       "      <td>0.816406</td>\n",
       "      <td>0.314941</td>\n",
       "      <td>0.257080</td>\n",
       "      <td>0.302002</td>\n",
       "      <td>0.303223</td>\n",
       "      <td>0.319824</td>\n",
       "      <td>0.301270</td>\n",
       "      <td>0.255371</td>\n",
       "      <td>0.193115</td>\n",
       "      <td>0.320068</td>\n",
       "      <td>0.293213</td>\n",
       "      <td>0.403320</td>\n",
       "      <td>0.279053</td>\n",
       "      <td>0.249390</td>\n",
       "      <td>0.391357</td>\n",
       "      <td>0.318115</td>\n",
       "      <td>0.572754</td>\n",
       "      <td>0.252441</td>\n",
       "      <td>0.138062</td>\n",
       "      <td>0.314453</td>\n",
       "      <td>0.840820</td>\n",
       "      <td>0.195435</td>\n",
       "      <td>0.327393</td>\n",
       "      <td>0.151367</td>\n",
       "      <td>0.360596</td>\n",
       "      <td>0.426758</td>\n",
       "      <td>0.336182</td>\n",
       "      <td>0.346924</td>\n",
       "      <td>0.273682</td>\n",
       "      <td>0.265381</td>\n",
       "      <td>0.543945</td>\n",
       "      <td>0.418945</td>\n",
       "      <td>0.278809</td>\n",
       "      <td>0.280518</td>\n",
       "      <td>0.0</td>\n",
       "      <td>0.0</td>\n",
       "      <td>1.0</td>\n",
       "      <td>0.0</td>\n",
       "      <td>0.0</td>\n",
       "      <td>0.255371</td>\n",
       "      <td>0.133179</td>\n",
       "      <td>0.999512</td>\n",
       "      <td>0.038452</td>\n",
       "      <td>0.989258</td>\n",
       "    </tr>\n",
       "    <tr>\n",
       "      <th>3</th>\n",
       "      <td>0.253906</td>\n",
       "      <td>0.483887</td>\n",
       "      <td>0.247559</td>\n",
       "      <td>0.568359</td>\n",
       "      <td>0.269531</td>\n",
       "      <td>0.293457</td>\n",
       "      <td>0.608887</td>\n",
       "      <td>0.418457</td>\n",
       "      <td>0.786621</td>\n",
       "      <td>0.215088</td>\n",
       "      <td>0.142212</td>\n",
       "      <td>0.401855</td>\n",
       "      <td>0.235229</td>\n",
       "      <td>0.523438</td>\n",
       "      <td>0.336182</td>\n",
       "      <td>0.802734</td>\n",
       "      <td>0.297607</td>\n",
       "      <td>0.158569</td>\n",
       "      <td>0.729980</td>\n",
       "      <td>0.306885</td>\n",
       "      <td>0.272705</td>\n",
       "      <td>0.228027</td>\n",
       "      <td>0.651367</td>\n",
       "      <td>0.238525</td>\n",
       "      <td>0.269531</td>\n",
       "      <td>0.215454</td>\n",
       "      <td>0.704102</td>\n",
       "      <td>0.367676</td>\n",
       "      <td>0.422363</td>\n",
       "      <td>0.264648</td>\n",
       "      <td>0.289551</td>\n",
       "      <td>0.267578</td>\n",
       "      <td>0.244385</td>\n",
       "      <td>0.383545</td>\n",
       "      <td>0.536621</td>\n",
       "      <td>0.208862</td>\n",
       "      <td>0.230591</td>\n",
       "      <td>0.287109</td>\n",
       "      <td>0.332275</td>\n",
       "      <td>0.281494</td>\n",
       "      <td>0.236816</td>\n",
       "      <td>0.279785</td>\n",
       "      <td>0.267090</td>\n",
       "      <td>0.687500</td>\n",
       "      <td>0.234009</td>\n",
       "      <td>0.625488</td>\n",
       "      <td>0.198853</td>\n",
       "      <td>0.602051</td>\n",
       "      <td>0.312012</td>\n",
       "      <td>0.225464</td>\n",
       "      <td>0.530762</td>\n",
       "      <td>0.304443</td>\n",
       "      <td>0.323730</td>\n",
       "      <td>0.223022</td>\n",
       "      <td>0.417969</td>\n",
       "      <td>0.547852</td>\n",
       "      <td>0.208130</td>\n",
       "      <td>0.418945</td>\n",
       "      <td>0.360107</td>\n",
       "      <td>0.274658</td>\n",
       "      <td>0.347656</td>\n",
       "      <td>0.237671</td>\n",
       "      <td>0.237305</td>\n",
       "      <td>0.402832</td>\n",
       "      <td>0.291748</td>\n",
       "      <td>0.747070</td>\n",
       "      <td>0.533691</td>\n",
       "      <td>0.543945</td>\n",
       "      <td>0.252686</td>\n",
       "      <td>0.304688</td>\n",
       "      <td>0.569336</td>\n",
       "      <td>0.854492</td>\n",
       "      <td>0.300537</td>\n",
       "      <td>0.245850</td>\n",
       "      <td>0.631348</td>\n",
       "      <td>0.315674</td>\n",
       "      <td>0.316406</td>\n",
       "      <td>0.278076</td>\n",
       "      <td>0.284424</td>\n",
       "      <td>0.324219</td>\n",
       "      <td>0.788086</td>\n",
       "      <td>0.324951</td>\n",
       "      <td>0.703613</td>\n",
       "      <td>0.318115</td>\n",
       "      <td>0.132202</td>\n",
       "      <td>0.378418</td>\n",
       "      <td>0.688477</td>\n",
       "      <td>0.194092</td>\n",
       "      <td>0.330566</td>\n",
       "      <td>0.156006</td>\n",
       "      <td>0.358643</td>\n",
       "      <td>0.581543</td>\n",
       "      <td>0.331055</td>\n",
       "      <td>0.347656</td>\n",
       "      <td>0.273926</td>\n",
       "      <td>0.279541</td>\n",
       "      <td>0.794922</td>\n",
       "      <td>0.360840</td>\n",
       "      <td>0.280273</td>\n",
       "      <td>0.283203</td>\n",
       "      <td>0.0</td>\n",
       "      <td>0.0</td>\n",
       "      <td>0.0</td>\n",
       "      <td>0.0</td>\n",
       "      <td>1.0</td>\n",
       "      <td>0.242432</td>\n",
       "      <td>0.290283</td>\n",
       "      <td>0.999512</td>\n",
       "      <td>0.020523</td>\n",
       "      <td>0.974121</td>\n",
       "    </tr>\n",
       "    <tr>\n",
       "      <th>4</th>\n",
       "      <td>0.252197</td>\n",
       "      <td>0.555176</td>\n",
       "      <td>0.275635</td>\n",
       "      <td>0.830078</td>\n",
       "      <td>0.266113</td>\n",
       "      <td>0.609863</td>\n",
       "      <td>0.635254</td>\n",
       "      <td>0.322510</td>\n",
       "      <td>0.252930</td>\n",
       "      <td>0.221802</td>\n",
       "      <td>0.279541</td>\n",
       "      <td>0.779297</td>\n",
       "      <td>0.216431</td>\n",
       "      <td>0.647461</td>\n",
       "      <td>0.536133</td>\n",
       "      <td>0.665527</td>\n",
       "      <td>0.304199</td>\n",
       "      <td>0.228027</td>\n",
       "      <td>0.843750</td>\n",
       "      <td>0.304932</td>\n",
       "      <td>0.271973</td>\n",
       "      <td>0.217529</td>\n",
       "      <td>0.849121</td>\n",
       "      <td>0.239624</td>\n",
       "      <td>0.264404</td>\n",
       "      <td>0.246826</td>\n",
       "      <td>0.481445</td>\n",
       "      <td>0.387451</td>\n",
       "      <td>0.310547</td>\n",
       "      <td>0.631836</td>\n",
       "      <td>0.263672</td>\n",
       "      <td>0.256104</td>\n",
       "      <td>0.258789</td>\n",
       "      <td>0.385986</td>\n",
       "      <td>0.692871</td>\n",
       "      <td>0.223633</td>\n",
       "      <td>0.351562</td>\n",
       "      <td>0.782227</td>\n",
       "      <td>0.577148</td>\n",
       "      <td>0.384277</td>\n",
       "      <td>0.434570</td>\n",
       "      <td>0.564453</td>\n",
       "      <td>0.263916</td>\n",
       "      <td>0.609375</td>\n",
       "      <td>0.239624</td>\n",
       "      <td>0.339355</td>\n",
       "      <td>0.192871</td>\n",
       "      <td>0.754883</td>\n",
       "      <td>0.313477</td>\n",
       "      <td>0.230591</td>\n",
       "      <td>0.425781</td>\n",
       "      <td>0.303223</td>\n",
       "      <td>0.221802</td>\n",
       "      <td>0.275635</td>\n",
       "      <td>0.437012</td>\n",
       "      <td>0.395508</td>\n",
       "      <td>0.225464</td>\n",
       "      <td>0.522949</td>\n",
       "      <td>0.359131</td>\n",
       "      <td>0.270264</td>\n",
       "      <td>0.267578</td>\n",
       "      <td>0.239746</td>\n",
       "      <td>0.243896</td>\n",
       "      <td>0.343994</td>\n",
       "      <td>0.294678</td>\n",
       "      <td>0.347900</td>\n",
       "      <td>0.900391</td>\n",
       "      <td>0.385742</td>\n",
       "      <td>0.264648</td>\n",
       "      <td>0.307617</td>\n",
       "      <td>0.157471</td>\n",
       "      <td>0.294922</td>\n",
       "      <td>0.302734</td>\n",
       "      <td>0.261719</td>\n",
       "      <td>0.684082</td>\n",
       "      <td>0.319336</td>\n",
       "      <td>0.314697</td>\n",
       "      <td>0.595215</td>\n",
       "      <td>0.279541</td>\n",
       "      <td>0.247437</td>\n",
       "      <td>0.225342</td>\n",
       "      <td>0.344727</td>\n",
       "      <td>0.707031</td>\n",
       "      <td>0.241333</td>\n",
       "      <td>0.143555</td>\n",
       "      <td>0.243774</td>\n",
       "      <td>0.677734</td>\n",
       "      <td>0.196655</td>\n",
       "      <td>0.340088</td>\n",
       "      <td>0.152588</td>\n",
       "      <td>0.362793</td>\n",
       "      <td>0.388672</td>\n",
       "      <td>0.333008</td>\n",
       "      <td>0.346680</td>\n",
       "      <td>0.266846</td>\n",
       "      <td>0.259033</td>\n",
       "      <td>0.828125</td>\n",
       "      <td>0.780273</td>\n",
       "      <td>0.277100</td>\n",
       "      <td>0.290771</td>\n",
       "      <td>0.0</td>\n",
       "      <td>0.0</td>\n",
       "      <td>1.0</td>\n",
       "      <td>0.0</td>\n",
       "      <td>0.0</td>\n",
       "      <td>0.274658</td>\n",
       "      <td>0.209717</td>\n",
       "      <td>1.000000</td>\n",
       "      <td>0.057037</td>\n",
       "      <td>0.986328</td>\n",
       "    </tr>\n",
       "  </tbody>\n",
       "</table>\n",
       "</div>"
      ],
      "text/plain": [
       "         f0        f1        f2        f3        f4        f5        f6  \\\n",
       "0  0.230957  0.726074  0.240479  0.130615  0.263916  0.484375  0.656250   \n",
       "1  0.270752  0.630859  0.284912  0.195923  0.278320  0.373047  0.340332   \n",
       "2  0.257812  0.411133  0.261475  0.641113  0.270264  0.500977  0.593750   \n",
       "3  0.253906  0.483887  0.247559  0.568359  0.269531  0.293457  0.608887   \n",
       "4  0.252197  0.555176  0.275635  0.830078  0.266113  0.609863  0.635254   \n",
       "\n",
       "         f7        f8        f9       f10       f11       f12       f13  \\\n",
       "0  0.582031  0.531738  0.221436  0.601074  0.616211  0.271729  0.439209   \n",
       "1  0.558594  0.247070  0.225098  0.811035  0.319092  0.234253  0.904785   \n",
       "2  0.281494  0.239868  0.219849  0.682129  0.441162  0.327881  0.654297   \n",
       "3  0.418457  0.786621  0.215088  0.142212  0.401855  0.235229  0.523438   \n",
       "4  0.322510  0.252930  0.221802  0.279541  0.779297  0.216431  0.647461   \n",
       "\n",
       "        f14       f15       f16       f17       f18       f19       f20  \\\n",
       "0  0.579102  0.353516  0.303711  0.668945  0.605469  0.304443  0.266113   \n",
       "1  0.481445  0.482666  0.301758  0.783203  0.107483  0.301270  0.271973   \n",
       "2  0.519531  0.322266  0.302734  0.160645  0.691406  0.305664  0.265869   \n",
       "3  0.336182  0.802734  0.297607  0.158569  0.729980  0.306885  0.272705   \n",
       "4  0.536133  0.665527  0.304199  0.228027  0.843750  0.304932  0.271973   \n",
       "\n",
       "        f21       f22       f23       f24       f25       f26       f27  \\\n",
       "0  0.204468  0.394287  0.242554  0.267090  0.465088  0.289062  0.399414   \n",
       "1  0.272461  0.537598  0.237549  0.267578  0.217773  0.331299  0.377441   \n",
       "2  0.191284  0.666504  0.208374  0.339600  0.532227  0.709961  0.349609   \n",
       "3  0.228027  0.651367  0.238525  0.269531  0.215454  0.704102  0.367676   \n",
       "4  0.217529  0.849121  0.239624  0.264404  0.246826  0.481445  0.387451   \n",
       "\n",
       "        f28       f29       f30       f31       f32       f33       f34  \\\n",
       "0  0.327148  0.631348  0.273926  0.263672  0.246460  0.384521  0.445312   \n",
       "1  0.359863  0.882812  0.275146  0.356689  0.264404  0.380371  0.305176   \n",
       "2  0.325439  0.833496  0.272705  0.268799  0.263672  0.378662  0.495605   \n",
       "3  0.422363  0.264648  0.289551  0.267578  0.244385  0.383545  0.536621   \n",
       "4  0.310547  0.631836  0.263672  0.256104  0.258789  0.385986  0.692871   \n",
       "\n",
       "        f35       f36       f37       f38       f39       f40       f41  \\\n",
       "0  0.224243  0.194580  0.901367  0.807129  0.303467  0.508789  0.821289   \n",
       "1  0.207886  0.171021  0.477051  0.550781  0.237305  0.645508  0.388672   \n",
       "2  0.212158  0.394043  0.508789  0.083435  0.312988  0.472168  0.524414   \n",
       "3  0.208862  0.230591  0.287109  0.332275  0.281494  0.236816  0.279785   \n",
       "4  0.223633  0.351562  0.782227  0.577148  0.384277  0.434570  0.564453   \n",
       "\n",
       "        f42       f43       f44       f45       f46       f47       f48  \\\n",
       "0  0.270508  0.491455  0.256836  0.404297  0.200684  0.766113  0.308105   \n",
       "1  0.260010  0.685547  0.298096  0.237061  0.199097  0.449707  0.316895   \n",
       "2  0.260498  0.514648  0.238647  0.282471  0.200073  0.598633  0.315674   \n",
       "3  0.267090  0.687500  0.234009  0.625488  0.198853  0.602051  0.312012   \n",
       "4  0.263916  0.609375  0.239624  0.339355  0.192871  0.754883  0.313477   \n",
       "\n",
       "        f49       f50       f51       f52       f53       f54       f55  \\\n",
       "0  0.225464  0.445312  0.303223  0.439453  0.218262  0.305664  0.652832   \n",
       "1  0.349609  0.246582  0.300293  0.208252  0.219971  0.260254  0.855469   \n",
       "2  0.224365  0.252197  0.296631  0.211914  0.927246  0.798828  0.407715   \n",
       "3  0.225464  0.530762  0.304443  0.323730  0.223022  0.417969  0.547852   \n",
       "4  0.230591  0.425781  0.303223  0.221802  0.275635  0.437012  0.395508   \n",
       "\n",
       "        f56       f57       f58       f59       f60       f61       f62  \\\n",
       "0  0.204102  0.359375  0.360840  0.273193  0.441895  0.255859  0.232178   \n",
       "1  0.294434  0.398438  0.361084  0.276611  0.258545  0.243408  0.229980   \n",
       "2  0.206787  0.646973  0.361084  0.270508  0.258545  0.247681  0.270508   \n",
       "3  0.208130  0.418945  0.360107  0.274658  0.347656  0.237671  0.237305   \n",
       "4  0.225464  0.522949  0.359131  0.270264  0.267578  0.239746  0.243896   \n",
       "\n",
       "        f63       f64       f65       f66       f67       f68       f69  \\\n",
       "0  0.349121  0.290039  0.601562  0.890625  0.257324  0.252930  0.305420   \n",
       "1  0.348877  0.283691  0.570312  0.726074  0.801758  0.250488  0.301270   \n",
       "2  0.339844  0.287842  0.417969  0.816406  0.314941  0.257080  0.302002   \n",
       "3  0.402832  0.291748  0.747070  0.533691  0.543945  0.252686  0.304688   \n",
       "4  0.343994  0.294678  0.347900  0.900391  0.385742  0.264648  0.307617   \n",
       "\n",
       "        f70       f71       f72       f73       f74       f75       f76  \\\n",
       "0  0.438477  0.794922  0.295410  0.221924  0.585938  0.321533  0.285400   \n",
       "1  0.789551  0.342285  0.299316  0.250732  0.276611  0.313477  0.293701   \n",
       "2  0.303223  0.319824  0.301270  0.255371  0.193115  0.320068  0.293213   \n",
       "3  0.569336  0.854492  0.300537  0.245850  0.631348  0.315674  0.316406   \n",
       "4  0.157471  0.294922  0.302734  0.261719  0.684082  0.319336  0.314697   \n",
       "\n",
       "        f77       f78       f79       f80       f81       f82       f83  \\\n",
       "0  0.849121  0.268555  0.242432  0.722656  0.321533  0.806641  0.261963   \n",
       "1  0.594238  0.287109  0.282471  0.575195  0.317871  0.147217  0.256348   \n",
       "2  0.403320  0.279053  0.249390  0.391357  0.318115  0.572754  0.252441   \n",
       "3  0.278076  0.284424  0.324219  0.788086  0.324951  0.703613  0.318115   \n",
       "4  0.595215  0.279541  0.247437  0.225342  0.344727  0.707031  0.241333   \n",
       "\n",
       "        f84       f85       f86       f87       f88       f89       f90  \\\n",
       "0  0.203857  0.412109  0.771484  0.200806  0.327393  0.156494  0.358887   \n",
       "1  0.138184  0.631348  0.701172  0.199341  0.378906  0.150879  0.370850   \n",
       "2  0.138062  0.314453  0.840820  0.195435  0.327393  0.151367  0.360596   \n",
       "3  0.132202  0.378418  0.688477  0.194092  0.330566  0.156006  0.358643   \n",
       "4  0.143555  0.243774  0.677734  0.196655  0.340088  0.152588  0.362793   \n",
       "\n",
       "        f91       f92       f93       f94       f95       f96       f97  \\\n",
       "0  0.351562  0.331543  0.343262  0.323730  0.280029  0.296387  0.146606   \n",
       "1  0.532715  0.334961  0.339355  0.273193  0.268066  0.514648  0.522461   \n",
       "2  0.426758  0.336182  0.346924  0.273682  0.265381  0.543945  0.418945   \n",
       "3  0.581543  0.331055  0.347656  0.273926  0.279541  0.794922  0.360840   \n",
       "4  0.388672  0.333008  0.346680  0.266846  0.259033  0.828125  0.780273   \n",
       "\n",
       "        f98       f99  fe_cluster_0  fe_cluster_1  fe_cluster_2  fe_cluster_3  \\\n",
       "0  0.273193  0.294189           0.0           1.0           0.0           0.0   \n",
       "1  0.272461  0.283691           0.0           0.0           0.0           0.0   \n",
       "2  0.278809  0.280518           0.0           0.0           1.0           0.0   \n",
       "3  0.280273  0.283203           0.0           0.0           0.0           0.0   \n",
       "4  0.277100  0.290771           0.0           0.0           1.0           0.0   \n",
       "\n",
       "   fe_cluster_4   fe_mean  fe_median    fe_min    fe_max   fe_skew  \n",
       "0           0.0  0.240723   0.171997  1.000000  0.011238  0.847656  \n",
       "1           1.0  0.279297   0.184082  1.000000  0.069092  0.997559  \n",
       "2           0.0  0.255371   0.133179  0.999512  0.038452  0.989258  \n",
       "3           1.0  0.242432   0.290283  0.999512  0.020523  0.974121  \n",
       "4           0.0  0.274658   0.209717  1.000000  0.057037  0.986328  "
      ]
     },
     "execution_count": 222,
     "metadata": {},
     "output_type": "execute_result"
    }
   ],
   "source": [
    "SEED_  = [12359]\n",
    "score_ = 0 \n",
    "\n",
    "X_valid_scaler = X_valid.copy()\n",
    "X_valid_scaler = pd.DataFrame(sc.fit_transform(X_valid_scaler), columns=X_valid_scaler.columns)\n",
    "\n",
    "X_valid_scaler.head()"
   ]
  },
  {
   "cell_type": "code",
   "execution_count": 223,
   "metadata": {
    "ExecuteTime": {
     "end_time": "2021-11-16T02:39:46.967918Z",
     "start_time": "2021-11-16T02:39:46.858369Z"
    }
   },
   "outputs": [
    {
     "data": {
      "text/plain": [
       "0.7303333333333333"
      ]
     },
     "execution_count": 223,
     "metadata": {},
     "output_type": "execute_result"
    }
   ],
   "source": [
    "model_002.score(X_valid_scaler, y_valid)"
   ]
  },
  {
   "cell_type": "code",
   "execution_count": 224,
   "metadata": {
    "ExecuteTime": {
     "end_time": "2021-11-16T02:39:47.061896Z",
     "start_time": "2021-11-16T02:39:46.969710Z"
    },
    "executionInfo": {
     "elapsed": 2694,
     "status": "ok",
     "timestamp": 1635588472207,
     "user": {
      "displayName": "Rogério Delfim",
      "photoUrl": "https://lh3.googleusercontent.com/a-/AOh14Gj8lDYWTfZHU0U0sMojRPio71Ec7YDcSEpCaOEE=s64",
      "userId": "04235763959036945343"
     },
     "user_tz": 180
    },
    "id": "UgWX08Pfi349"
   },
   "outputs": [],
   "source": [
    "y_hat_002 = model_002.predict_proba(X_valid_scaler)"
   ]
  },
  {
   "cell_type": "markdown",
   "metadata": {
    "id": "S2p1olpsi349"
   },
   "source": [
    "#### 1.2.3.1. Analise do Modelo"
   ]
  },
  {
   "cell_type": "markdown",
   "metadata": {
    "id": "j7HbJ8Tei349"
   },
   "source": [
    "#### 1.2.3.1.1. Curva Roc"
   ]
  },
  {
   "cell_type": "code",
   "execution_count": 225,
   "metadata": {
    "ExecuteTime": {
     "end_time": "2021-11-16T02:39:47.220707Z",
     "start_time": "2021-11-16T02:39:47.064716Z"
    },
    "colab": {
     "base_uri": "https://localhost:8080/",
     "height": 302
    },
    "executionInfo": {
     "elapsed": 7,
     "status": "ok",
     "timestamp": 1635588472208,
     "user": {
      "displayName": "Rogério Delfim",
      "photoUrl": "https://lh3.googleusercontent.com/a-/AOh14Gj8lDYWTfZHU0U0sMojRPio71Ec7YDcSEpCaOEE=s64",
      "userId": "04235763959036945343"
     },
     "user_tz": 180
    },
    "id": "ftidKrDUi34-",
    "outputId": "b689cfa1-a165-48ba-9344-996bc905236a"
   },
   "outputs": [
    {
     "data": {
      "image/png": "[encoded data removed]",
      "text/plain": [
       "<Figure size 432x288 with 1 Axes>"
      ]
     },
     "metadata": {
      "needs_background": "light"
     },
     "output_type": "display_data"
    }
   ],
   "source": [
    "fpr, tpr, thresholds = metrics.roc_curve(y_valid, y_hat_002[:,1])\n",
    "plot_roc_curve(fpr, tpr, label=\"SGB\")\n",
    "plt.show()"
   ]
  },
  {
   "cell_type": "markdown",
   "metadata": {
    "id": "Vm2gsRY3i34-"
   },
   "source": [
    "<div class=\"alert alert-info\" role=\"alert\"> \n",
    "    \n",
    "**`NOTA:`** <br>\n",
    "Observando o gráfico acima, podemos concluir que o melhor ponto de corte (threshold) fica em torno de .4 à .45, isto é, esse ponto de corte melhora o F1-score,  vamos fazer esse teste.  \n",
    "\n",
    "</div>\n"
   ]
  },
  {
   "cell_type": "markdown",
   "metadata": {},
   "source": [
    "- **SEM PONTO DE CORTE**"
   ]
  },
  {
   "cell_type": "code",
   "execution_count": 226,
   "metadata": {
    "ExecuteTime": {
     "end_time": "2021-11-16T02:39:47.457803Z",
     "start_time": "2021-11-16T02:39:47.222709Z"
    },
    "colab": {
     "base_uri": "https://localhost:8080/"
    },
    "executionInfo": {
     "elapsed": 766,
     "status": "ok",
     "timestamp": 1635588472967,
     "user": {
      "displayName": "Rogério Delfim",
      "photoUrl": "https://lh3.googleusercontent.com/a-/AOh14Gj8lDYWTfZHU0U0sMojRPio71Ec7YDcSEpCaOEE=s64",
      "userId": "04235763959036945343"
     },
     "user_tz": 180
    },
    "id": "8BcpHgTNi34-",
    "outputId": "9a0e8ba5-7190-46b7-dcf8-38df49d58b9d"
   },
   "outputs": [
    {
     "name": "stdout",
     "output_type": "stream",
     "text": [
      "              precision    recall  f1-score   support\n",
      "\n",
      "           0       0.73      0.72      0.73     59279\n",
      "           1       0.73      0.74      0.73     60721\n",
      "\n",
      "    accuracy                           0.73    120000\n",
      "   macro avg       0.73      0.73      0.73    120000\n",
      "weighted avg       0.73      0.73      0.73    120000\n",
      "\n",
      "\n",
      "F1-score: 0.73431\n",
      "AUC     : 0.74797\n"
     ]
    }
   ],
   "source": [
    "threshold = .5\n",
    "\n",
    "f1_002  = metrics.f1_score (y_valid, (y_hat_002[:,1] > threshold))\n",
    "auc_002 = metrics.roc_auc_score(y_valid, y_hat_002[:,1] )\n",
    "print(metrics.classification_report(y_valid, (y_hat_002 > threshold)[:,1].astype(int) ))\n",
    "print('')\n",
    "print('F1-score: {:2.5f}'.format(f1_002))\n",
    "print('AUC     : {:2.5f}'.format(auc_002))"
   ]
  },
  {
   "cell_type": "markdown",
   "metadata": {},
   "source": [
    "- **COM PONTO DE CORTE**"
   ]
  },
  {
   "cell_type": "code",
   "execution_count": 253,
   "metadata": {
    "ExecuteTime": {
     "end_time": "2021-11-17T22:46:33.130167Z",
     "start_time": "2021-11-17T22:46:32.901188Z"
    }
   },
   "outputs": [
    {
     "name": "stdout",
     "output_type": "stream",
     "text": [
      "              precision    recall  f1-score   support\n",
      "\n",
      "           0       0.73      0.72      0.73     59279\n",
      "           1       0.73      0.74      0.73     60721\n",
      "\n",
      "    accuracy                           0.73    120000\n",
      "   macro avg       0.73      0.73      0.73    120000\n",
      "weighted avg       0.73      0.73      0.73    120000\n",
      "\n",
      "\n",
      "F1-score: 0.73431\n",
      "AUC     : 0.73026\n"
     ]
    }
   ],
   "source": [
    "threshold = .5\n",
    "y_hat     = (y_hat_002[:,1] > threshold).astype(int)\n",
    "\n",
    "f1_002  = metrics.f1_score (y_valid, y_hat )\n",
    "auc_002 = metrics.roc_auc_score(y_valid, y_hat)\n",
    "print(metrics.classification_report(y_valid, y_hat))\n",
    "print('')\n",
    "print('F1-score: {:2.5f}'.format(f1_002))\n",
    "print('AUC     : {:2.5f}'.format(auc_002))"
   ]
  },
  {
   "cell_type": "markdown",
   "metadata": {
    "ExecuteTime": {
     "end_time": "2021-11-12T11:54:31.146535Z",
     "start_time": "2021-11-12T11:54:31.140502Z"
    }
   },
   "source": [
    "<div class=\"alert alert-info\" role=\"alert\"> \n",
    "    \n",
    "**`NOTA:`** <br>\n",
    "Podemos observar acima, com um ponto de corte de .45 obtivemos um F1-score de 0.69162 em relação ao ponto de corte padrão de .5 que gerou um F1-score de 0.66127, uma observação importante que tenho que destacar é que o ponto de corte ideal depende muito do entendimento do negócio que estamos modelando.\n",
    " \n",
    "</div>"
   ]
  },
  {
   "cell_type": "code",
   "execution_count": 228,
   "metadata": {
    "ExecuteTime": {
     "end_time": "2021-11-16T02:39:48.156811Z",
     "start_time": "2021-11-16T02:39:47.698811Z"
    },
    "colab": {
     "base_uri": "https://localhost:8080/",
     "height": 357
    },
    "executionInfo": {
     "elapsed": 18445,
     "status": "ok",
     "timestamp": 1635588491409,
     "user": {
      "displayName": "Rogério Delfim",
      "photoUrl": "https://lh3.googleusercontent.com/a-/AOh14Gj8lDYWTfZHU0U0sMojRPio71Ec7YDcSEpCaOEE=s64",
      "userId": "04235763959036945343"
     },
     "user_tz": 180
    },
    "id": "m1_DxLR-i34-",
    "outputId": "6fbdadce-c28c-4850-b18c-3c6287a603b2"
   },
   "outputs": [
    {
     "data": {
      "image/png": "[encoded data removed]",
      "text/plain": [
       "<Figure size 1080x360 with 4 Axes>"
      ]
     },
     "metadata": {
      "needs_background": "light"
     },
     "output_type": "display_data"
    }
   ],
   "source": [
    "plt.figure(figsize=(15,5))\n",
    "ax = plt.subplot(1,2,1)\n",
    "\n",
    "metrics.plot_confusion_matrix(model_002, \n",
    "                              X_valid_scaler, \n",
    "                              y_valid, \n",
    "                              cmap          = 'inferno', \n",
    "                              values_format = 'd', \n",
    "                              ax            = ax) #true’, ‘pred’, ‘all’\n",
    "\n",
    "plt.title('Confusion matrix')\n",
    "\n",
    "ax= plt.subplot(1,2,2)\n",
    "metrics.plot_confusion_matrix(model_002, X_valid_scaler, y_valid, cmap='inferno', normalize='all', ax=ax) \n",
    "plt.title('Confusion matrix');"
   ]
  },
  {
   "cell_type": "markdown",
   "metadata": {
    "ExecuteTime": {
     "end_time": "2021-11-12T12:35:22.412596Z",
     "start_time": "2021-11-12T12:35:22.397563Z"
    }
   },
   "source": [
    "<div class=\"alert alert-info\" role=\"alert\"> \n",
    "    \n",
    "**`NOTA:`** <br>\n",
    "com as matrizes de confusão acima podemos ter uma melhor noção para dos número que o modelo consegue gerar na predição, podemos obeservar que o modelo de Random Forest para esse conjunto de dados tem uma taxa razoavel na predição, principalmente na predição de verdadeiro positivo com um percentual de erro de 23%, isto é, o modelo classifica erradamente falsos positivos com sendo verdadeiro posito e acerta 33%, em relação ao falso positivo tem um erro de 17% com certo de 28%.\n",
    "    \n",
    "</div>"
   ]
  },
  {
   "cell_type": "markdown",
   "metadata": {
    "id": "SddO5fbXi34_"
   },
   "source": [
    "### 1.2.4. Divercidade"
   ]
  },
  {
   "cell_type": "markdown",
   "metadata": {},
   "source": [
    "#### 1.2.4.1. Feature Select"
   ]
  },
  {
   "cell_type": "code",
   "execution_count": 229,
   "metadata": {
    "ExecuteTime": {
     "end_time": "2021-11-16T03:29:17.769643Z",
     "start_time": "2021-11-16T02:39:48.158809Z"
    },
    "scrolled": false
   },
   "outputs": [
    {
     "name": "stdout",
     "output_type": "stream",
     "text": [
      "k: 2 => AUC: 0.60638\n",
      "k: 4 => AUC: 0.62990\n",
      "k: 6 => AUC: 0.65228\n",
      "k: 8 => AUC: 0.66672\n",
      "k: 10 => AUC: 0.68364\n",
      "k: 12 => AUC: 0.69399\n",
      "k: 14 => AUC: 0.70271\n",
      "k: 16 => AUC: 0.70907\n",
      "k: 18 => AUC: 0.71502\n",
      "k: 20 => AUC: 0.71960\n",
      "k: 22 => AUC: 0.72323\n",
      "k: 24 => AUC: 0.72578\n",
      "k: 26 => AUC: 0.72752\n",
      "k: 28 => AUC: 0.72840\n",
      "k: 30 => AUC: 0.72985\n",
      "k: 32 => AUC: 0.73208\n",
      "k: 34 => AUC: 0.73351\n",
      "k: 36 => AUC: 0.73461\n",
      "k: 38 => AUC: 0.73569\n",
      "k: 40 => AUC: 0.73673\n",
      "k: 42 => AUC: 0.73698\n",
      "k: 44 => AUC: 0.73824\n",
      "k: 46 => AUC: 0.73919\n",
      "k: 48 => AUC: 0.74026\n",
      "k: 50 => AUC: 0.74083\n",
      "k: 52 => AUC: 0.74129\n",
      "k: 54 => AUC: 0.74208\n",
      "k: 56 => AUC: 0.74273\n",
      "k: 58 => AUC: 0.74329\n",
      "k: 60 => AUC: 0.74343\n",
      "k: 62 => AUC: 0.74383\n",
      "k: 64 => AUC: 0.74375\n",
      "k: 66 => AUC: 0.74412\n",
      "k: 68 => AUC: 0.74462\n",
      "k: 70 => AUC: 0.74493\n",
      "k: 72 => AUC: 0.74529\n",
      "k: 74 => AUC: 0.74547\n",
      "k: 76 => AUC: 0.74561\n",
      "k: 78 => AUC: 0.74595\n",
      "k: 80 => AUC: 0.74613\n",
      "k: 82 => AUC: 0.74668\n",
      "k: 84 => AUC: 0.74674\n",
      "k: 86 => AUC: 0.74694\n",
      "k: 88 => AUC: 0.74702\n",
      "k: 90 => AUC: 0.74711\n",
      "k: 92 => AUC: 0.74722\n",
      "k: 94 => AUC: 0.74730\n",
      "k: 96 => AUC: 0.74735\n",
      "k: 98 => AUC: 0.74734\n",
      "k: 100 => AUC: 0.74737\n",
      "k: 102 => AUC: 0.74737\n",
      "k: 104 => AUC: 0.74743\n",
      "k: 106 => AUC: 0.74745\n",
      "k: 108 => AUC: 0.74746\n"
     ]
    }
   ],
   "source": [
    "k_vs_score  = []\n",
    "num_feature = X_train.shape[1]\n",
    "name_model  = name_model_clf + '006_feature_select'\n",
    "\n",
    "TunningModels.delete_files(name_model)\n",
    "\n",
    "mdl = SGDClassifier(**params_best) \n",
    "\n",
    "for k in range(2, num_feature, 2):\n",
    "\n",
    "    selector         = SelectKBest(score_func=f_classif, k=k)\n",
    "    X_train_selKBest = pd.DataFrame(selector.fit_transform(X, y))\n",
    "    X_test_selKBest  = pd.DataFrame(selector.transform(X_test_scaler))    \n",
    "    \n",
    "    model_006, score, y_pre_test = TunningModels.cross_valid(model          = mdl, \n",
    "                                                             model_name_    = name_model, \n",
    "                                                             X_             = X_train_selKBest, \n",
    "                                                             y_             = y, \n",
    "                                                             X_test_        = X_test_selKBest,                                                              \n",
    "                                                             feature        = None,\n",
    "                                                             seed           = SEED,                                                                                \n",
    "                                                             scaler         = sc,\n",
    "                                                             save_predict   = True, \n",
    "                                                             print_result   = False\n",
    "                                                             )\n",
    "    \n",
    "    print(\"k: {} => AUC: {:2.5F}\".format(k, score))\n",
    "\n",
    "    k_vs_score.append(score)"
   ]
  },
  {
   "cell_type": "code",
   "execution_count": 232,
   "metadata": {
    "ExecuteTime": {
     "end_time": "2021-11-17T22:30:02.366839Z",
     "start_time": "2021-11-17T22:30:01.977840Z"
    }
   },
   "outputs": [
    {
     "data": {
      "image/png": "[encoded data removed]",
      "text/plain": [
       "<Figure size 720x504 with 1 Axes>"
      ]
     },
     "metadata": {
      "needs_background": "light"
     },
     "output_type": "display_data"
    }
   ],
   "source": [
    "pd.Series(k_vs_score, index=range(2,X_train.shape[1],2)).plot(figsize=(10,7));"
   ]
  },
  {
   "cell_type": "code",
   "execution_count": 233,
   "metadata": {
    "ExecuteTime": {
     "end_time": "2021-11-17T22:30:17.807490Z",
     "start_time": "2021-11-17T22:30:16.879277Z"
    }
   },
   "outputs": [
    {
     "data": {
      "text/plain": [
       "SelectKBest(k=70)"
      ]
     },
     "execution_count": 233,
     "metadata": {},
     "output_type": "execute_result"
    }
   ],
   "source": [
    "selector = SelectKBest(score_func=f_classif, k=70)\n",
    "selector.fit(X_train, y_train)"
   ]
  },
  {
   "cell_type": "code",
   "execution_count": 238,
   "metadata": {
    "ExecuteTime": {
     "end_time": "2021-11-17T22:37:41.581995Z",
     "start_time": "2021-11-17T22:37:41.565958Z"
    }
   },
   "outputs": [
    {
     "data": {
      "text/plain": [
       "SelectKBest(k=70)"
      ]
     },
     "execution_count": 238,
     "metadata": {},
     "output_type": "execute_result"
    }
   ],
   "source": [
    "selector"
   ]
  },
  {
   "cell_type": "code",
   "execution_count": 234,
   "metadata": {
    "ExecuteTime": {
     "end_time": "2021-11-17T22:30:19.437814Z",
     "start_time": "2021-11-17T22:30:19.382817Z"
    }
   },
   "outputs": [],
   "source": [
    "mask = selector.get_support()\n",
    "feature_select = X_train.iloc[:, mask].columns.to_list()"
   ]
  },
  {
   "cell_type": "code",
   "execution_count": 239,
   "metadata": {
    "ExecuteTime": {
     "end_time": "2021-11-17T22:38:30.472623Z",
     "start_time": "2021-11-17T22:38:29.830606Z"
    }
   },
   "outputs": [
    {
     "data": {
      "image/png": "[encoded data removed]",
      "text/plain": [
       "<Figure size 1080x1440 with 1 Axes>"
      ]
     },
     "metadata": {
      "needs_background": "light"
     },
     "output_type": "display_data"
    }
   ],
   "source": [
    "plt.figure(figsize=(15,20))\n",
    "pd.Series(selector.scores_, index=X_train.columns).sort_values().tail(70).plot.barh();"
   ]
  },
  {
   "cell_type": "markdown",
   "metadata": {
    "id": "OGAddqK5i34_"
   },
   "source": [
    "#### 1.2.4.1. SEED\n",
    "Nesta etapa vamos utilizar os melhores parametros, que encontramos na tunagem acima, com `seed` diferentes. "
   ]
  },
  {
   "cell_type": "code",
   "execution_count": 230,
   "metadata": {
    "ExecuteTime": {
     "end_time": "2021-11-16T03:44:16.928153Z",
     "start_time": "2021-11-16T03:29:17.772642Z"
    },
    "colab": {
     "base_uri": "https://localhost:8080/"
    },
    "id": "aD5OMGA2gzKH",
    "outputId": "8cde9c55-12c9-4c20-fd13-0f024dec7fdd",
    "scrolled": false
   },
   "outputs": [
    {
     "name": "stdout",
     "output_type": "stream",
     "text": [
      "====================================================================================================\n",
      "Training model: SGDClassifier seed 42 - n_estimators: 1 - max_iter: 926 - 1.00000 - 1\n",
      "====================================================================================================\n",
      "Fold 1/5 AUC: 0.74915 - F1: 0.63529 - L. loss: 0.81474   1     0h 0m 12s\n",
      "Fold 2/5 AUC: 0.74956 - F1: 0.46352 - L. loss: 1.12556   1     0h 0m 12s\n",
      "Fold 3/5 AUC: 0.74730 - F1: 0.32498 - L. loss: 1.44435   1     0h 0m 12s\n",
      "Fold 4/5 AUC: 0.74759 - F1: 0.69652 - L. loss: 1.18865   1     0h 0m 12s\n",
      "Fold 5/5 AUC: 0.74511 - F1: 0.46253 - L. loss: 1.09825   1     0h 0m 14s\n",
      "----------------------------------------------------------------------------------------------------\n",
      "[Mean Fold]  AUC: 0.74774(Std:0.00158) - F1: 0.51657 - L. Loss: 1.13431 * 1 0h 1m 18s\n",
      "====================================================================================================\n",
      "\n",
      "====================================================================================================\n",
      "Training model: SGDClassifier seed 59 - n_estimators: 1 - max_iter: 926 - 1.00000 - 1\n",
      "====================================================================================================\n",
      "Fold 1/5 AUC: 0.74816 - F1: 0.59562 - L. loss: 0.85645   1     0h 0m 12s\n",
      "Fold 2/5 AUC: 0.74833 - F1: 0.72510 - L. loss: 0.76534   1     0h 0m 12s\n",
      "Fold 3/5 AUC: 0.74673 - F1: 0.43852 - L. loss: 1.11828   1     0h 0m 13s\n",
      "Fold 4/5 AUC: 0.74602 - F1: 0.34660 - L. loss: 1.42805   1     0h 0m 13s\n",
      "Fold 5/5 AUC: 0.74734 - F1: 0.73836 - L. loss: 0.76960   1     0h 0m 12s\n",
      "----------------------------------------------------------------------------------------------------\n",
      "[Mean Fold]  AUC: 0.74732(Std:0.00087) - F1: 0.56884 - L. Loss: 0.98754 * 1 0h 1m 18s\n",
      "====================================================================================================\n",
      "\n",
      "====================================================================================================\n",
      "Training model: SGDClassifier seed 100 - n_estimators: 1 - max_iter: 926 - 1.00000 - 1\n",
      "====================================================================================================\n",
      "Fold 1/5 AUC: 0.74891 - F1: 0.72594 - L. loss: 0.74565   1     0h 0m 13s\n",
      "Fold 2/5 AUC: 0.74759 - F1: 0.23041 - L. loss: 1.95721   1     0h 0m 13s\n",
      "Fold 3/5 AUC: 0.74936 - F1: 0.73606 - L. loss: 0.75702   1     0h 0m 13s\n",
      "Fold 4/5 AUC: 0.74725 - F1: 0.09982 - L. loss: 3.09833   1     0h 0m 12s\n",
      "Fold 5/5 AUC: 0.74668 - F1: 0.73699 - L. loss: 0.73251   1     0h 0m 12s\n",
      "----------------------------------------------------------------------------------------------------\n",
      "[Mean Fold]  AUC: 0.74796(Std:0.00101) - F1: 0.50584 - L. Loss: 1.45815 * 1 0h 1m 20s\n",
      "====================================================================================================\n",
      "\n",
      "====================================================================================================\n",
      "Training model: SGDClassifier seed 200 - n_estimators: 1 - max_iter: 926 - 1.00000 - 1\n",
      "====================================================================================================\n",
      "Fold 1/5 AUC: 0.74789 - F1: 0.36425 - L. loss: 1.36292   1     0h 0m 13s\n",
      "Fold 2/5 AUC: 0.74735 - F1: 0.67886 - L. loss: 0.75969   1     0h 0m 13s\n",
      "Fold 3/5 AUC: 0.74787 - F1: 0.70269 - L. loss: 0.78341   1     0h 0m 13s\n",
      "Fold 4/5 AUC: 0.74919 - F1: 0.72029 - L. loss: 0.82388   1     0h 0m 14s\n",
      "Fold 5/5 AUC: 0.74585 - F1: 0.21290 - L. loss: 2.03527   1     0h 0m 13s\n",
      "----------------------------------------------------------------------------------------------------\n",
      "[Mean Fold]  AUC: 0.74763(Std:0.00108) - F1: 0.53580 - L. Loss: 1.15304 * 1 0h 1m 23s\n",
      "====================================================================================================\n",
      "\n",
      "====================================================================================================\n",
      "Training model: SGDClassifier seed 1000 - n_estimators: 1 - max_iter: 926 - 1.00000 - 1\n",
      "====================================================================================================\n",
      "Fold 1/5 AUC: 0.74875 - F1: 0.73910 - L. loss: 0.74112   1     0h 0m 14s\n",
      "Fold 2/5 AUC: 0.74800 - F1: 0.62068 - L. loss: 0.84891   1     0h 0m 13s\n",
      "Fold 3/5 AUC: 0.74603 - F1: 0.30045 - L. loss: 1.56340   1     0h 0m 11s\n",
      "Fold 4/5 AUC: 0.74824 - F1: 0.40758 - L. loss: 1.28237   1     0h 0m 15s\n",
      "Fold 5/5 AUC: 0.74678 - F1: 0.73214 - L. loss: 0.74134   1     0h 0m 15s\n",
      "----------------------------------------------------------------------------------------------------\n",
      "[Mean Fold]  AUC: 0.74756(Std:0.00100) - F1: 0.55999 - L. Loss: 1.03543 * 1 0h 1m 25s\n",
      "====================================================================================================\n",
      "\n",
      "====================================================================================================\n",
      "Training model: SGDClassifier seed 1500 - n_estimators: 1 - max_iter: 926 - 1.00000 - 1\n",
      "====================================================================================================\n",
      "Fold 1/5 AUC: 0.74879 - F1: 0.68044 - L. loss: 0.76774   1     0h 0m 13s\n",
      "Fold 2/5 AUC: 0.74716 - F1: 0.64739 - L. loss: 0.78147   1     0h 0m 13s\n",
      "Fold 3/5 AUC: 0.74569 - F1: 0.55714 - L. loss: 1.00138   1     0h 0m 12s\n",
      "Fold 4/5 AUC: 0.74797 - F1: 0.54916 - L. loss: 0.90863   1     0h 0m 13s\n",
      "Fold 5/5 AUC: 0.74757 - F1: 0.72980 - L. loss: 0.77124   1     0h 0m 12s\n",
      "----------------------------------------------------------------------------------------------------\n",
      "[Mean Fold]  AUC: 0.74744(Std:0.00103) - F1: 0.63279 - L. Loss: 0.84609 * 1 0h 1m 20s\n",
      "====================================================================================================\n",
      "\n",
      "====================================================================================================\n",
      "Training model: SGDClassifier seed 2020 - n_estimators: 1 - max_iter: 926 - 1.00000 - 1\n",
      "====================================================================================================\n",
      "Fold 1/5 AUC: 0.74839 - F1: 0.62688 - L. loss: 0.81115   1     0h 0m 12s\n",
      "Fold 2/5 AUC: 0.74698 - F1: 0.63556 - L. loss: 0.79200   1     0h 0m 14s\n",
      "Fold 3/5 AUC: 0.74832 - F1: 0.50261 - L. loss: 1.03204   1     0h 0m 14s\n",
      "Fold 4/5 AUC: 0.74909 - F1: 0.42533 - L. loss: 1.15447   1     0h 0m 11s\n",
      "Fold 5/5 AUC: 0.74582 - F1: 0.71103 - L. loss: 0.88937   1     0h 0m 12s\n",
      "----------------------------------------------------------------------------------------------------\n",
      "[Mean Fold]  AUC: 0.74772(Std:0.00117) - F1: 0.58028 - L. Loss: 0.93581 * 1 0h 1m 20s\n",
      "====================================================================================================\n",
      "\n",
      "====================================================================================================\n",
      "Training model: SGDClassifier seed 2021 - n_estimators: 1 - max_iter: 926 - 1.00000 - 1\n",
      "====================================================================================================\n",
      "Fold 1/5 AUC: 0.74799 - F1: 0.57140 - L. loss: 0.87803   1     0h 0m 14s\n",
      "Fold 2/5 AUC: 0.74764 - F1: 0.73811 - L. loss: 0.72094   1     0h 0m 12s\n",
      "Fold 3/5 AUC: 0.74749 - F1: 0.62249 - L. loss: 0.84753   1     0h 0m 13s\n",
      "Fold 4/5 AUC: 0.74920 - F1: 0.73156 - L. loss: 0.70759   1     0h 0m 13s\n",
      "Fold 5/5 AUC: 0.74612 - F1: 0.29549 - L. loss: 1.57443   1     0h 0m 15s\n",
      "----------------------------------------------------------------------------------------------------\n",
      "[Mean Fold]  AUC: 0.74769(Std:0.00099) - F1: 0.59181 - L. Loss: 0.94570 * 1 0h 1m 23s\n",
      "====================================================================================================\n",
      "\n",
      "====================================================================================================\n",
      "Training model: SGDClassifier seed 5000 - n_estimators: 1 - max_iter: 926 - 1.00000 - 1\n",
      "====================================================================================================\n",
      "Fold 1/5 AUC: 0.74833 - F1: 0.67574 - L. loss: 0.75380   1     0h 0m 12s\n",
      "Fold 2/5 AUC: 0.74680 - F1: 0.41875 - L. loss: 1.12417   1     0h 0m 14s\n",
      "Fold 3/5 AUC: 0.74673 - F1: 0.68589 - L. loss: 0.81050   1     0h 0m 14s\n",
      "Fold 4/5 AUC: 0.74885 - F1: 0.72365 - L. loss: 0.80366   1     0h 0m 13s\n",
      "Fold 5/5 AUC: 0.74666 - F1: 0.72443 - L. loss: 0.80198   1     0h 0m 13s\n"
     ]
    },
    {
     "name": "stdout",
     "output_type": "stream",
     "text": [
      "----------------------------------------------------------------------------------------------------\n",
      "[Mean Fold]  AUC: 0.74747(Std:0.00093) - F1: 0.64569 - L. Loss: 0.85882 * 1 0h 1m 21s\n",
      "====================================================================================================\n",
      "\n",
      "====================================================================================================\n",
      "Training model: SGDClassifier seed 10000 - n_estimators: 1 - max_iter: 926 - 1.00000 - 1\n",
      "====================================================================================================\n",
      "Fold 1/5 AUC: 0.74605 - F1: 0.52801 - L. loss: 0.96746   1     0h 0m 14s\n",
      "Fold 2/5 AUC: 0.74839 - F1: 0.73107 - L. loss: 0.77106   1     0h 0m 13s\n",
      "Fold 3/5 AUC: 0.74730 - F1: 0.73866 - L. loss: 0.73853   1     0h 0m 13s\n",
      "Fold 4/5 AUC: 0.74827 - F1: 0.39311 - L. loss: 1.25411   1     0h 0m 14s\n",
      "Fold 5/5 AUC: 0.74745 - F1: 0.48531 - L. loss: 0.99375   1     0h 0m 14s\n",
      "----------------------------------------------------------------------------------------------------\n",
      "[Mean Fold]  AUC: 0.74749(Std:0.00084) - F1: 0.57523 - L. Loss: 0.94498 * 1 0h 1m 24s\n",
      "====================================================================================================\n",
      "\n",
      "====================================================================================================\n",
      "Training model: SGDClassifier seed 12359 - n_estimators: 1 - max_iter: 926 - 1.00000 - 1\n",
      "====================================================================================================\n",
      "Fold 1/5 AUC: 0.74558 - F1: 0.51146 - L. loss: 0.97956   1     0h 0m 12s\n",
      "Fold 2/5 AUC: 0.74648 - F1: 0.50742 - L. loss: 1.00720   1     0h 0m 12s\n",
      "Fold 3/5 AUC: 0.74962 - F1: 0.56013 - L. loss: 0.85382   1     0h 0m 14s\n",
      "Fold 4/5 AUC: 0.74749 - F1: 0.51658 - L. loss: 1.01234   1     0h 0m 13s\n",
      "Fold 5/5 AUC: 0.74859 - F1: 0.72974 - L. loss: 0.75127   1     0h 0m 12s\n",
      "----------------------------------------------------------------------------------------------------\n",
      "[Mean Fold]  AUC: 0.74755(Std:0.00144) - F1: 0.56507 - L. Loss: 0.92084 * 1 0h 1m 19s\n",
      "====================================================================================================\n",
      "\n",
      "Seed best: 100\n",
      "Score    : 0.74796\n",
      "Wall time: 14min 59s\n"
     ]
    }
   ],
   "source": [
    "%%time \n",
    "\n",
    "SEED_       = [42, 59, 100, 200, 1000, 1500, 2020, 2021, 5000, 10000, 12359 ]\n",
    "name_model  = name_model_clf + '005_div_seed'\n",
    "df_seed     = pd.DataFrame()\n",
    "seed_best   = seed_best\n",
    "score_best  = 0 \n",
    "params_seed = params_best.copy()\n",
    "\n",
    "TunningModels.delete_files(name_model)\n",
    "\n",
    "\n",
    "mdl = SGDClassifier(**params_best) \n",
    "\n",
    "for i, seed_ in  enumerate (SEED_):     \n",
    "    \n",
    "    params_seed.update({'random_state': seed_})\n",
    "\n",
    "    _, score , y_hat = TunningModels.cross_valid(model          = mdl,  \n",
    "                                                 model_name_    = name_model, \n",
    "                                                 X_             = X, \n",
    "                                                 y_             = y, \n",
    "                                                 X_test_        = X_test_scaler, \n",
    "                                                 type_model     = 1, \n",
    "                                                 feature        = None,\n",
    "                                                 seed           = seed_, \n",
    "                                                 tunning        = 2, # \n",
    "                                                 scaler         = sc, \n",
    "                                                 save_predict   = True\n",
    "                                                 )\n",
    "        \n",
    "    if score > score_best: \n",
    "        seed_best  = seed_\n",
    "        score_best = score\n",
    "\n",
    "    df_seed['seed_' + str(seed_)] = y_hat \n",
    "   \n",
    "print('Seed best: {}'.format(seed_best))\n",
    "print('Score    : {:2.5f}'.format(score_best))"
   ]
  },
  {
   "cell_type": "code",
   "execution_count": 236,
   "metadata": {
    "ExecuteTime": {
     "end_time": "2021-11-17T22:30:42.830677Z",
     "start_time": "2021-11-17T22:30:42.798680Z"
    },
    "id": "B_Ul_1SEA1Wu"
   },
   "outputs": [
    {
     "data": {
      "text/html": [
       "<div>\n",
       "<style scoped>\n",
       "    .dataframe tbody tr th:only-of-type {\n",
       "        vertical-align: middle;\n",
       "    }\n",
       "\n",
       "    .dataframe tbody tr th {\n",
       "        vertical-align: top;\n",
       "    }\n",
       "\n",
       "    .dataframe thead th {\n",
       "        text-align: right;\n",
       "    }\n",
       "</style>\n",
       "<table border=\"1\" class=\"dataframe\">\n",
       "  <thead>\n",
       "    <tr style=\"text-align: right;\">\n",
       "      <th></th>\n",
       "      <th>seed_42</th>\n",
       "      <th>seed_59</th>\n",
       "      <th>seed_100</th>\n",
       "      <th>seed_200</th>\n",
       "      <th>seed_1000</th>\n",
       "      <th>seed_1500</th>\n",
       "      <th>seed_2020</th>\n",
       "      <th>seed_2021</th>\n",
       "      <th>seed_5000</th>\n",
       "      <th>seed_10000</th>\n",
       "      <th>seed_12359</th>\n",
       "    </tr>\n",
       "  </thead>\n",
       "  <tbody>\n",
       "    <tr>\n",
       "      <th>0</th>\n",
       "      <td>0.554407</td>\n",
       "      <td>0.541155</td>\n",
       "      <td>0.514359</td>\n",
       "      <td>0.576736</td>\n",
       "      <td>0.533809</td>\n",
       "      <td>0.546888</td>\n",
       "      <td>0.563893</td>\n",
       "      <td>0.516517</td>\n",
       "      <td>0.565402</td>\n",
       "      <td>0.569756</td>\n",
       "      <td>0.532919</td>\n",
       "    </tr>\n",
       "    <tr>\n",
       "      <th>1</th>\n",
       "      <td>0.538987</td>\n",
       "      <td>0.520527</td>\n",
       "      <td>0.479898</td>\n",
       "      <td>0.537832</td>\n",
       "      <td>0.496073</td>\n",
       "      <td>0.523662</td>\n",
       "      <td>0.539426</td>\n",
       "      <td>0.504510</td>\n",
       "      <td>0.549122</td>\n",
       "      <td>0.540153</td>\n",
       "      <td>0.507684</td>\n",
       "    </tr>\n",
       "    <tr>\n",
       "      <th>2</th>\n",
       "      <td>0.704748</td>\n",
       "      <td>0.700788</td>\n",
       "      <td>0.647878</td>\n",
       "      <td>0.697504</td>\n",
       "      <td>0.667615</td>\n",
       "      <td>0.688181</td>\n",
       "      <td>0.711358</td>\n",
       "      <td>0.655269</td>\n",
       "      <td>0.707348</td>\n",
       "      <td>0.707761</td>\n",
       "      <td>0.687231</td>\n",
       "    </tr>\n",
       "    <tr>\n",
       "      <th>3</th>\n",
       "      <td>0.383504</td>\n",
       "      <td>0.355730</td>\n",
       "      <td>0.342406</td>\n",
       "      <td>0.382940</td>\n",
       "      <td>0.346044</td>\n",
       "      <td>0.363745</td>\n",
       "      <td>0.397098</td>\n",
       "      <td>0.349695</td>\n",
       "      <td>0.385820</td>\n",
       "      <td>0.390442</td>\n",
       "      <td>0.360871</td>\n",
       "    </tr>\n",
       "    <tr>\n",
       "      <th>4</th>\n",
       "      <td>0.468867</td>\n",
       "      <td>0.462363</td>\n",
       "      <td>0.423970</td>\n",
       "      <td>0.467968</td>\n",
       "      <td>0.445082</td>\n",
       "      <td>0.451747</td>\n",
       "      <td>0.469408</td>\n",
       "      <td>0.421819</td>\n",
       "      <td>0.486495</td>\n",
       "      <td>0.465304</td>\n",
       "      <td>0.459281</td>\n",
       "    </tr>\n",
       "  </tbody>\n",
       "</table>\n",
       "</div>"
      ],
      "text/plain": [
       "    seed_42   seed_59  seed_100  seed_200  seed_1000  seed_1500  seed_2020  \\\n",
       "0  0.554407  0.541155  0.514359  0.576736   0.533809   0.546888   0.563893   \n",
       "1  0.538987  0.520527  0.479898  0.537832   0.496073   0.523662   0.539426   \n",
       "2  0.704748  0.700788  0.647878  0.697504   0.667615   0.688181   0.711358   \n",
       "3  0.383504  0.355730  0.342406  0.382940   0.346044   0.363745   0.397098   \n",
       "4  0.468867  0.462363  0.423970  0.467968   0.445082   0.451747   0.469408   \n",
       "\n",
       "   seed_2021  seed_5000  seed_10000  seed_12359  \n",
       "0   0.516517   0.565402    0.569756    0.532919  \n",
       "1   0.504510   0.549122    0.540153    0.507684  \n",
       "2   0.655269   0.707348    0.707761    0.687231  \n",
       "3   0.349695   0.385820    0.390442    0.360871  \n",
       "4   0.421819   0.486495    0.465304    0.459281  "
      ]
     },
     "execution_count": 236,
     "metadata": {},
     "output_type": "execute_result"
    }
   ],
   "source": [
    " df_seed.head()"
   ]
  },
  {
   "cell_type": "code",
   "execution_count": 237,
   "metadata": {
    "ExecuteTime": {
     "end_time": "2021-11-17T22:30:53.109304Z",
     "start_time": "2021-11-17T22:30:51.904591Z"
    }
   },
   "outputs": [],
   "source": [
    "submission = pd.DataFrame({'id': df_submission.id, target: df_seed.sum(axis=1)})\n",
    "submission.to_csv(path + 'Data/submission/logr_005_div_seed.csv', index=False)\n",
    "# kaggle 0.74514"
   ]
  },
  {
   "cell_type": "code",
   "execution_count": 254,
   "metadata": {
    "ExecuteTime": {
     "end_time": "2021-11-17T22:47:48.067793Z",
     "start_time": "2021-11-17T22:47:48.054796Z"
    },
    "id": "jQmZCcWOi35D"
   },
   "outputs": [],
   "source": [
    "feature_best = pd.Series(selector.scores_, index=X_train.columns).sort_values().tail(80).index.to_list()"
   ]
  },
  {
   "cell_type": "code",
   "execution_count": null,
   "metadata": {
    "ExecuteTime": {
     "start_time": "2021-11-17T22:47:48.853Z"
    }
   },
   "outputs": [
    {
     "name": "stdout",
     "output_type": "stream",
     "text": [
      "====================================================================================================\n",
      "Training model: SGDClassifier seed 100 - n_estimators: 1 - max_iter: 926 - 1.00000 - 1\n",
      "====================================================================================================\n"
     ]
    }
   ],
   "source": [
    "name_model  = name_model_clf + '006_features_best_seeed'\n",
    "\n",
    "TunningModels.delete_files(name_model)\n",
    "\n",
    "mdl, score , y_hat = TunningModels.cross_valid(model          = mdl,  \n",
    "                                             model_name_    = name_model, \n",
    "                                             X_             = X, \n",
    "                                             y_             = y, \n",
    "                                             X_test_        = X_test_scaler, \n",
    "                                             type_model     = 1, \n",
    "                                             feature        = feature_best,\n",
    "                                             seed           = seed_best, \n",
    "                                             tunning        = 2, # \n",
    "                                             scaler         = sc, \n",
    "                                             save_predict   = True\n",
    "                                             )"
   ]
  },
  {
   "cell_type": "code",
   "execution_count": null,
   "metadata": {},
   "outputs": [],
   "source": []
  }
 ],
 "metadata": {
  "accelerator": "GPU",
  "colab": {
   "collapsed_sections": [],
   "machine_shape": "hm",
   "name": "[TPS Sep 21]-10-Tunning Random Forest.ipynb",
   "provenance": [],
   "toc_visible": true
  },
  "hide_input": false,
  "kernelspec": {
   "display_name": "Python 3 (ipykernel)",
   "language": "python",
   "name": "python3"
  },
  "language_info": {
   "codemirror_mode": {
    "name": "ipython",
    "version": 3
   },
   "file_extension": ".py",
   "mimetype": "text/x-python",
   "name": "python",
   "nbconvert_exporter": "python",
   "pygments_lexer": "ipython3",
   "version": "3.9.7"
  },
  "latex_envs": {
   "LaTeX_envs_menu_present": true,
   "autoclose": false,
   "autocomplete": true,
   "bibliofile": "biblio.bib",
   "cite_by": "apalike",
   "current_citInitial": 1,
   "eqLabelWithNumbers": true,
   "eqNumInitial": 1,
   "hotkeys": {
    "equation": "Ctrl-E",
    "itemize": "Ctrl-I"
   },
   "labels_anchors": false,
   "latex_user_defs": false,
   "report_style_numbering": false,
   "user_envs_cfg": false
  },
  "nbTranslate": {
   "displayLangs": [
    "*"
   ],
   "hotkey": "alt-t",
   "langInMainMenu": true,
   "sourceLang": "en",
   "targetLang": "fr",
   "useGoogleTranslate": true
  },
  "toc": {
   "base_numbering": 1,
   "nav_menu": {},
   "number_sections": false,
   "sideBar": true,
   "skip_h1_title": false,
   "title_cell": "Table of Contents",
   "title_sidebar": "Contents",
   "toc_cell": false,
   "toc_position": {
    "height": "552.8px",
    "left": "21px",
    "top": "111.6px",
    "width": "264px"
   },
   "toc_section_display": true,
   "toc_window_display": true
  },
  "varInspector": {
   "cols": {
    "lenName": 16,
    "lenType": 16,
    "lenVar": 40
   },
   "kernels_config": {
    "python": {
     "delete_cmd_postfix": "",
     "delete_cmd_prefix": "del ",
     "library": "var_list.py",
     "varRefreshCmd": "print(var_dic_list())"
    },
    "r": {
     "delete_cmd_postfix": ") ",
     "delete_cmd_prefix": "rm(",
     "library": "var_list.r",
     "varRefreshCmd": "cat(var_dic_list()) "
    }
   },
   "types_to_exclude": [
    "module",
    "function",
    "builtin_function_or_method",
    "instance",
    "_Feature"
   ],
   "window_display": false
  }
 },
 "nbformat": 4,
 "nbformat_minor": 1
}
