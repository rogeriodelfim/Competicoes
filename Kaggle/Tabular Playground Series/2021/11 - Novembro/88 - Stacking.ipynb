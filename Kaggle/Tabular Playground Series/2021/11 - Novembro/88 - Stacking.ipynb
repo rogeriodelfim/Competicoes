{
 "cells": [
  {
   "cell_type": "markdown",
   "id": "5dc2249d",
   "metadata": {},
   "source": [
    "<h1 div class='alert alert-success'><center> Stacking \n",
    " </center></h1>\n",
    "\n",
    "![](https://storage.googleapis.com/kaggle-competitions/kaggle/26480/logos/header.png?t=2021-04-09-00-57-05)"
   ]
  },
  {
   "cell_type": "code",
   "execution_count": null,
   "id": "6fd61cf8",
   "metadata": {},
   "outputs": [],
   "source": []
  },
  {
   "cell_type": "code",
   "execution_count": 1,
   "id": "12816d0e",
   "metadata": {
    "ExecuteTime": {
     "end_time": "2021-11-30T23:26:41.374234Z",
     "start_time": "2021-11-30T23:26:33.884283Z"
    }
   },
   "outputs": [],
   "source": [
    "import time\n",
    "import warnings\n",
    "import os\n",
    "import gc\n",
    "import random\n",
    "import glob\n",
    "import optuna"
   ]
  },
  {
   "cell_type": "code",
   "execution_count": 2,
   "id": "19782330",
   "metadata": {
    "ExecuteTime": {
     "end_time": "2021-11-30T23:26:41.530672Z",
     "start_time": "2021-11-30T23:26:41.377987Z"
    }
   },
   "outputs": [],
   "source": [
    "import pandas               as pd\n",
    "import numpy                as np\n",
    "import matplotlib.pyplot    as plt \n",
    "import seaborn              as sns\n",
    "import joblib               as jb"
   ]
  },
  {
   "cell_type": "code",
   "execution_count": 3,
   "id": "be02ff52",
   "metadata": {
    "ExecuteTime": {
     "end_time": "2021-11-30T23:26:42.710188Z",
     "start_time": "2021-11-30T23:26:41.535638Z"
    }
   },
   "outputs": [],
   "source": [
    "from GPUtil                        import showUtilization as gpu_usage\n",
    "from numba                         import cuda\n",
    "from psutil                        import virtual_memory\n",
    "from datetime                      import datetime"
   ]
  },
  {
   "cell_type": "code",
   "execution_count": 4,
   "id": "431d3cbb",
   "metadata": {
    "ExecuteTime": {
     "end_time": "2021-11-30T23:26:44.077785Z",
     "start_time": "2021-11-30T23:26:43.875077Z"
    }
   },
   "outputs": [],
   "source": [
    "path = 'Data/'\n",
    "df_submission = pd.read_csv(path + 'sample_submission.csv')"
   ]
  },
  {
   "cell_type": "code",
   "execution_count": 15,
   "id": "382d092d",
   "metadata": {
    "ExecuteTime": {
     "end_time": "2021-11-30T23:29:42.815548Z",
     "start_time": "2021-11-30T23:29:41.778586Z"
    }
   },
   "outputs": [],
   "source": [
    "name_file_csv = glob.glob(path + '/submission/*.csv')\n",
    "\n",
    "dic_preds_mdl_pkl = dict()\n",
    "    \n",
    "for p_name in name_file_csv:    \n",
    "    y_model_pkl_name_col  = p_name.replace('Data//submission\\\\', '').replace('.csv','')  \n",
    "    y_model_pkl           = pd.read_csv(p_name) \n",
    "    \n",
    "    dic_preds_mdl_pkl[y_model_pkl_name_col] = y_model_pkl['target']\n",
    "\n",
    "            "
   ]
  },
  {
   "cell_type": "code",
   "execution_count": 17,
   "id": "415cdf19",
   "metadata": {
    "ExecuteTime": {
     "end_time": "2021-11-30T23:29:49.996733Z",
     "start_time": "2021-11-30T23:29:49.979722Z"
    }
   },
   "outputs": [
    {
     "data": {
      "text/plain": [
       "['0.74811_rnn_02_tunning_score_0.74468_12342_06685268427567358.pkl.z',\n",
       " '0.74812_xgb_stacking_01_score_0.74466_42_07080725777960455.pkl.z',\n",
       " '0.74935',\n",
       " '0.74940',\n",
       " '0.74940_stacking_001',\n",
       " '0.74951',\n",
       " '0.74966',\n",
       " '0.74988']"
      ]
     },
     "execution_count": 17,
     "metadata": {},
     "output_type": "execute_result"
    }
   ],
   "source": [
    "df_stacking =pd.DataFrame(dic_preds_mdl_pkl)\n",
    "df_stacking.columns.to_list()"
   ]
  },
  {
   "cell_type": "code",
   "execution_count": 22,
   "id": "a4737447",
   "metadata": {
    "ExecuteTime": {
     "end_time": "2021-11-30T23:34:38.949229Z",
     "start_time": "2021-11-30T23:34:38.915550Z"
    }
   },
   "outputs": [
    {
     "data": {
      "text/plain": [
       "0         0.737125\n",
       "1         0.753974\n",
       "2         0.756775\n",
       "3         0.430131\n",
       "4         0.715157\n",
       "            ...   \n",
       "539995    0.755433\n",
       "539996    0.743434\n",
       "539997    0.656537\n",
       "539998    0.726534\n",
       "539999    0.746746\n",
       "Length: 540000, dtype: float64"
      ]
     },
     "execution_count": 22,
     "metadata": {},
     "output_type": "execute_result"
    }
   ],
   "source": []
  },
  {
   "cell_type": "code",
   "execution_count": 53,
   "id": "d8260c82",
   "metadata": {
    "ExecuteTime": {
     "end_time": "2021-11-27T23:26:45.989465Z",
     "start_time": "2021-11-27T23:26:45.938482Z"
    }
   },
   "outputs": [
    {
     "data": {
      "text/plain": [
       "0         0.633281\n",
       "1         0.665441\n",
       "2         0.661355\n",
       "3         0.465857\n",
       "4         0.631074\n",
       "            ...   \n",
       "539995    0.673551\n",
       "539996    0.670049\n",
       "539997    0.542110\n",
       "539998    0.647143\n",
       "539999    0.654693\n",
       "Length: 540000, dtype: float64"
      ]
     },
     "execution_count": 53,
     "metadata": {},
     "output_type": "execute_result"
    }
   ],
   "source": [
    "xgb = df_stacking[['0.73705_xgb' ,  '0.74049_xgb']].mean(axis=1) *.0 \n",
    "svn = df_stacking[[ '0.74510_rl', ]].mean(axis=1)*.05\n",
    "nn  = df_stacking[['0.74940_nn']].mean(axis=1) * .95\n",
    "\n",
    "y_pred =pd.DataFrame({'xgb': xgb,'svn':svn,'nn':nn  }).sum(axis=1)\n",
    "y_pred # 0.631371"
   ]
  },
  {
   "cell_type": "code",
   "execution_count": null,
   "id": "132199b6",
   "metadata": {},
   "outputs": [],
   "source": [
    " (sub1.target*170 + \n",
    "  sub2.target*15 + \n",
    "  sub3.target*13 + \n",
    "  sub4.target*12 + \n",
    "  sub5.target*6 + \n",
    "  sub6.target*4) /220"
   ]
  },
  {
   "cell_type": "code",
   "execution_count": 50,
   "id": "a748f7f1",
   "metadata": {
    "ExecuteTime": {
     "end_time": "2021-11-30T23:58:03.902308Z",
     "start_time": "2021-11-30T23:58:03.894304Z"
    }
   },
   "outputs": [
    {
     "data": {
      "text/plain": [
       "1.0"
      ]
     },
     "execution_count": 50,
     "metadata": {},
     "output_type": "execute_result"
    }
   ],
   "source": [
    " .05 + .05 + .15 + .75"
   ]
  },
  {
   "cell_type": "code",
   "execution_count": 53,
   "id": "f8bd9364",
   "metadata": {
    "ExecuteTime": {
     "end_time": "2021-11-30T23:59:03.532401Z",
     "start_time": "2021-11-30T23:59:03.508399Z"
    }
   },
   "outputs": [],
   "source": [
    "y_pred = df_stacking['0.74935'] * .05 + df_stacking['0.74951'] * \\\n",
    ".05 + df_stacking['0.74966'] * .2 + + df_stacking['0.74988'] * .70"
   ]
  },
  {
   "cell_type": "code",
   "execution_count": 54,
   "id": "97fcb9d5",
   "metadata": {
    "ExecuteTime": {
     "end_time": "2021-11-30T23:59:05.785522Z",
     "start_time": "2021-11-30T23:59:04.565884Z"
    }
   },
   "outputs": [],
   "source": [
    "#y_pred = df_stacking['0.74935'] *.1 + df_stacking['0.74951'],'0.74966', '0.74988']].mean(axis=1)\n",
    "\n",
    "\n",
    "submission = pd.DataFrame({'id': df_submission.id, 'target': y_pred})\n",
    "submission.to_csv(path + 'submission/stacking_001.csv', index=False)\n",
    "# score kaggle: 0.85633"
   ]
  },
  {
   "cell_type": "code",
   "execution_count": 100,
   "id": "e049cb41",
   "metadata": {
    "ExecuteTime": {
     "end_time": "2021-11-20T00:03:32.914248Z",
     "start_time": "2021-11-20T00:03:32.904250Z"
    }
   },
   "outputs": [],
   "source": [
    "import pandas as pd\n",
    "import numpy as np\n",
    "from sklearn.preprocessing import StandardScaler, RobustScaler\n",
    "from sklearn.svm import LinearSVC\n",
    "from sklearn.pipeline import make_pipeline\n",
    "from sklearn.metrics import roc_auc_score, accuracy_score"
   ]
  },
  {
   "cell_type": "code",
   "execution_count": 101,
   "id": "446be834",
   "metadata": {
    "ExecuteTime": {
     "end_time": "2021-11-20T00:03:33.493396Z",
     "start_time": "2021-11-20T00:03:33.326374Z"
    }
   },
   "outputs": [],
   "source": [
    "def postprocess_separate(submission_df, test_df=None, pure_df=None):\n",
    "    \"\"\"Update submission_df so that the predictions for the two sides of the hyperplane don't overlap.\n",
    "    \n",
    "    Parameters\n",
    "    ----------\n",
    "    submission_df : pandas DataFrame with columns 'id' and 'target'\n",
    "    test_df : the competition's test data\n",
    "    pure_df : the competition's original training data\n",
    "    \n",
    "    From https://www.kaggle.com/ambrosm/tpsnov21-007-postprocessing\n",
    "    \"\"\"\n",
    "    if pure_df is None: pure_df = pd.read_csv('../input/november21/train.csv')\n",
    "    if pure_df.shape != (600000, 102): raise ValueError(\"pure_df has the wrong shape\")\n",
    "    if test_df is None: test_df = pd.read_csv('../input/tabular-playground-series-nov-2021/test.csv')\n",
    "    if test_df.shape[0] != submission_df.shape[0] or test_df.shape[1] != 101: raise ValueError(\"test_df has the wrong shape\")\n",
    "\n",
    "    # Find the separating hyperplane for pure_df, step 1\n",
    "    # Use an SVM with almost no regularization\n",
    "    model1 = make_pipeline(StandardScaler(), \n",
    "                           LinearSVC(C=1e5, tol=1e-7, penalty='l2', dual=False, max_iter=2000, random_state=1))\n",
    "    \n",
    "    model1.fit(pure_df.drop(columns=['id', 'target']), pure_df.target)\n",
    "    pure_pred = model1.predict(pure_df.drop(columns=['id', 'target']))\n",
    "    print((pure_pred != pure_df.target).sum(), (pure_pred == pure_df.target).sum()) # 1 599999\n",
    "    \n",
    "    # Find the separating hyperplane for pure_df, step 2\n",
    "    # Fit a second SVM to a subset of the points which contains the support vectors\n",
    "    pure_pred = model1.decision_function(pure_df.drop(columns=['id', 'target']))\n",
    "    \n",
    "    subset_df = pure_df[(pure_pred > -5) & (pure_pred < 0.9)]\n",
    "    model2 = make_pipeline(StandardScaler(), LinearSVC(C=1e5, tol=1e-7, penalty='l2', dual=False, max_iter=2000, random_state=1))\n",
    "    model2.fit(subset_df.drop(columns=['id', 'target']), subset_df.target)\n",
    "    pure_pred = model2.predict(pure_df.drop(columns=['id', 'target']))\n",
    "    print((pure_pred != pure_df.target).sum(), (pure_pred == pure_df.target).sum()) # 0 600000\n",
    "    # model2 is perfect: it predicts the correct class for all 600000 training samples\n",
    "    \n",
    "    pure_test_pred = model2.predict(test_df.drop(columns=['id', 'target'], errors='ignore'))\n",
    "    lmax, rmin = submission_df[pure_test_pred == 0].target.max(), submission_df[pure_test_pred == 1].target.min()\n",
    "    if lmax < rmin:\n",
    "        print(\"There is no overlap. No postprocessing needed.\")\n",
    "        return\n",
    "    # There is overlap. Remove this overlap\n",
    "    submission_df.loc[pure_test_pred == 0, 'target'] -= lmax + 1\n",
    "    submission_df.loc[pure_test_pred == 1, 'target'] -= rmin - 1\n",
    "    print(submission_df[pure_test_pred == 0].target.min(), submission_df[pure_test_pred == 0].target.max(),\n",
    "          submission_df[pure_test_pred == 1].target.min(), submission_df[pure_test_pred == 1].target.max())"
   ]
  },
  {
   "cell_type": "code",
   "execution_count": 102,
   "id": "05239414",
   "metadata": {
    "ExecuteTime": {
     "end_time": "2021-11-20T00:03:37.786254Z",
     "start_time": "2021-11-20T00:03:34.206265Z"
    }
   },
   "outputs": [],
   "source": [
    "df3_train     = jb.load('Data/pkl/df2_nb_02_train.pkl.z')\n",
    "df3_test      = jb.load('Data/pkl/df2_nb_02_test.pkl.z')"
   ]
  },
  {
   "cell_type": "code",
   "execution_count": 103,
   "id": "1a3d2e9f",
   "metadata": {
    "ExecuteTime": {
     "end_time": "2021-11-20T00:03:37.817223Z",
     "start_time": "2021-11-20T00:03:37.788224Z"
    }
   },
   "outputs": [
    {
     "ename": "NameError",
     "evalue": "name 'X_test' is not defined",
     "output_type": "error",
     "traceback": [
      "\u001b[1;31m---------------------------------------------------------------------------\u001b[0m",
      "\u001b[1;31mNameError\u001b[0m                                 Traceback (most recent call last)",
      "\u001b[1;32m~\\AppData\\Local\\Temp/ipykernel_25964/458330630.py\u001b[0m in \u001b[0;36m<module>\u001b[1;34m\u001b[0m\n\u001b[0;32m      3\u001b[0m \u001b[0msc\u001b[0m     \u001b[1;33m=\u001b[0m \u001b[0mRobustScaler\u001b[0m\u001b[1;33m(\u001b[0m\u001b[1;33m)\u001b[0m\u001b[1;33m\u001b[0m\u001b[1;33m\u001b[0m\u001b[0m\n\u001b[0;32m      4\u001b[0m \u001b[1;33m\u001b[0m\u001b[0m\n\u001b[1;32m----> 5\u001b[1;33m \u001b[0mX_test_scaler\u001b[0m \u001b[1;33m=\u001b[0m \u001b[0mX_test\u001b[0m\u001b[1;33m.\u001b[0m\u001b[0mcopy\u001b[0m\u001b[1;33m(\u001b[0m\u001b[1;33m)\u001b[0m\u001b[1;33m\u001b[0m\u001b[1;33m\u001b[0m\u001b[0m\n\u001b[0m\u001b[0;32m      6\u001b[0m \u001b[0mX_test_scaler\u001b[0m \u001b[1;33m=\u001b[0m \u001b[0mpd\u001b[0m\u001b[1;33m.\u001b[0m\u001b[0mDataFrame\u001b[0m\u001b[1;33m(\u001b[0m\u001b[0msc\u001b[0m\u001b[1;33m.\u001b[0m\u001b[0mfit_transform\u001b[0m\u001b[1;33m(\u001b[0m\u001b[0mX_test\u001b[0m\u001b[1;33m)\u001b[0m\u001b[1;33m,\u001b[0m \u001b[0mcolumns\u001b[0m\u001b[1;33m=\u001b[0m\u001b[0mX_test\u001b[0m\u001b[1;33m.\u001b[0m\u001b[0mcolumns\u001b[0m\u001b[1;33m)\u001b[0m\u001b[1;33m\u001b[0m\u001b[1;33m\u001b[0m\u001b[0m\n",
      "\u001b[1;31mNameError\u001b[0m: name 'X_test' is not defined"
     ]
    }
   ],
   "source": [
    "SEED_  = [12359]\n",
    "score_ = 0 \n",
    "sc     = RobustScaler()\n"
   ]
  },
  {
   "cell_type": "code",
   "execution_count": null,
   "id": "36d8cd0f",
   "metadata": {
    "ExecuteTime": {
     "end_time": "2021-11-20T00:03:37.819224Z",
     "start_time": "2021-11-20T00:03:37.819224Z"
    }
   },
   "outputs": [],
   "source": [
    "model = LinearSVC(C=1e5, tol=1e-7, penalty='l2', dual=False, max_iter=2000, random_state=1)\n",
    "model = make_pipeline(sc, model)"
   ]
  },
  {
   "cell_type": "code",
   "execution_count": null,
   "id": "a9d9f60d",
   "metadata": {
    "ExecuteTime": {
     "end_time": "2021-11-20T00:03:37.821226Z",
     "start_time": "2021-11-20T00:03:37.821226Z"
    }
   },
   "outputs": [],
   "source": [
    "X = df3_train.drop('target', axis=1)\n",
    "y = df3_train['target']\n",
    "X_tes = df3_test"
   ]
  },
  {
   "cell_type": "code",
   "execution_count": 104,
   "id": "05af967c",
   "metadata": {
    "ExecuteTime": {
     "end_time": "2021-11-20T00:03:39.808012Z",
     "start_time": "2021-11-20T00:03:39.791012Z"
    }
   },
   "outputs": [
    {
     "data": {
      "text/plain": [
       "((600000, 110), (600000,))"
      ]
     },
     "execution_count": 104,
     "metadata": {},
     "output_type": "execute_result"
    }
   ],
   "source": [
    "X.shape, y.shape"
   ]
  },
  {
   "cell_type": "code",
   "execution_count": null,
   "id": "6ac50886",
   "metadata": {
    "ExecuteTime": {
     "start_time": "2021-11-20T00:03:44.334Z"
    },
    "run_control": {
     "marked": false
    }
   },
   "outputs": [],
   "source": [
    "model.fit(X, y)\n"
   ]
  },
  {
   "cell_type": "code",
   "execution_count": 85,
   "id": "80541a4c",
   "metadata": {
    "ExecuteTime": {
     "end_time": "2021-11-19T23:50:18.115584Z",
     "start_time": "2021-11-19T23:50:18.096537Z"
    },
    "run_control": {
     "marked": true
    }
   },
   "outputs": [],
   "source": [
    "param = {'penalty': 'l2',\n",
    " 'tol': 0.001697218299300974,\n",
    " 'C': 0.09607999391084766,\n",
    " 'max_iter': 869,\n",
    " 'random_state': 12359}"
   ]
  },
  {
   "cell_type": "code",
   "execution_count": null,
   "id": "5c858906",
   "metadata": {},
   "outputs": [],
   "source": []
  }
 ],
 "metadata": {
  "hide_input": false,
  "kernelspec": {
   "display_name": "Python 3 (ipykernel)",
   "language": "python",
   "name": "python3"
  },
  "language_info": {
   "codemirror_mode": {
    "name": "ipython",
    "version": 3
   },
   "file_extension": ".py",
   "mimetype": "text/x-python",
   "name": "python",
   "nbconvert_exporter": "python",
   "pygments_lexer": "ipython3",
   "version": "3.9.7"
  },
  "nbTranslate": {
   "displayLangs": [
    "en",
    "pt-br"
   ],
   "hotkey": "",
   "langInMainMenu": true,
   "sourceLang": "en",
   "targetLang": "pt-br",
   "useGoogleTranslate": true
  },
  "toc": {
   "base_numbering": 1,
   "nav_menu": {},
   "number_sections": false,
   "sideBar": true,
   "skip_h1_title": false,
   "title_cell": "Table of Contents",
   "title_sidebar": "Contents",
   "toc_cell": false,
   "toc_position": {
    "height": "calc(100% - 180px)",
    "left": "10px",
    "top": "150px",
    "width": "304.475px"
   },
   "toc_section_display": true,
   "toc_window_display": true
  }
 },
 "nbformat": 4,
 "nbformat_minor": 5
}
