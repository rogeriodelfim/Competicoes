{
 "cells": [
  {
   "cell_type": "markdown",
   "metadata": {
    "id": "dyZU8TQF3EC_"
   },
   "source": [
    "<h1 div class='alert alert-success'><center> Ponto de partida (EDA)</center></h1>\n",
    "\n",
    "![](https://storage.googleapis.com/kaggle-competitions/kaggle/26480/logos/header.png?t=2021-04-09-00-57-05)"
   ]
  },
  {
   "cell_type": "markdown",
   "metadata": {
    "id": "MhoTTWqXTluy"
   },
   "source": [
    "# <div class=\"alert alert-success\">  OBJETIVO </div> "
   ]
  },
  {
   "cell_type": "markdown",
   "metadata": {
    "id": "Q0e0UrygTkr4"
   },
   "source": [
    "Neste notebook vamos fazer uma análise (EDA) para conhencer os dados dos datasets e estabelecer uma linha de base."
   ]
  },
  {
   "cell_type": "markdown",
   "metadata": {
    "id": "BVBGntvGT4r4"
   },
   "source": [
    "---"
   ]
  },
  {
   "cell_type": "markdown",
   "metadata": {
    "id": "Cjx0CaVr3EDF"
   },
   "source": [
    "# <div class=\"alert alert-success\">  1. IMPORTAÇÕES </div> "
   ]
  },
  {
   "cell_type": "markdown",
   "metadata": {
    "id": "HkllrkTTeqs5"
   },
   "source": [
    "## 1.1. Instalações"
   ]
  },
  {
   "cell_type": "code",
   "execution_count": 1,
   "metadata": {
    "colab": {
     "base_uri": "https://localhost:8080/"
    },
    "executionInfo": {
     "elapsed": 25816,
     "status": "ok",
     "timestamp": 1639880559445,
     "user": {
      "displayName": "Rogério Delfim",
      "photoUrl": "https://lh3.googleusercontent.com/a-/AOh14Gj8lDYWTfZHU0U0sMojRPio71Ec7YDcSEpCaOEE=s64",
      "userId": "04235763959036945343"
     },
     "user_tz": 180
    },
    "id": "_O4QLmfE3VfS",
    "outputId": "5231f3e1-6ce9-4f5a-b7f3-41a06b30689f"
   },
   "outputs": [
    {
     "name": "stdout",
     "output_type": "stream",
     "text": [
      "Mounted at /content/drive\n"
     ]
    }
   ],
   "source": [
    "from google.colab import drive\n",
    "drive.mount('/content/drive')"
   ]
  },
  {
   "cell_type": "markdown",
   "metadata": {
    "id": "2TUVX7H53EDG"
   },
   "source": [
    "## 1.2. Bibliotecas "
   ]
  },
  {
   "cell_type": "code",
   "execution_count": null,
   "metadata": {
    "id": "7CkqtXYc3EDG"
   },
   "outputs": [],
   "source": [
    "import warnings\n",
    "import random\n",
    "import os\n",
    "import gc\n",
    "import torch"
   ]
  },
  {
   "cell_type": "code",
   "execution_count": null,
   "metadata": {
    "id": "wlxzri_03EDH"
   },
   "outputs": [],
   "source": [
    "import pandas            as pd\n",
    "import numpy             as np\n",
    "import matplotlib.pyplot as plt \n",
    "import seaborn           as sns\n",
    "import joblib            as jb\n",
    "import xgboost           as xgb"
   ]
  },
  {
   "cell_type": "code",
   "execution_count": null,
   "metadata": {
    "id": "MvrdO4I53EDI"
   },
   "outputs": [],
   "source": [
    "from sklearn.model_selection import train_test_split,  KFold, StratifiedKFold\n",
    "from sklearn.preprocessing   import StandardScaler, MinMaxScaler, RobustScaler\n",
    "from sklearn.preprocessing   import MaxAbsScaler, QuantileTransformer, LabelEncoder,normalize\n",
    "from sklearn.impute          import SimpleImputer\n",
    "from sklearn                 import metrics\n",
    "from datetime                import datetime"
   ]
  },
  {
   "cell_type": "code",
   "execution_count": null,
   "metadata": {
    "id": "SXm53Jc5lB5K"
   },
   "outputs": [],
   "source": [
    "from sklearn.utils.class_weight import compute_sample_weight"
   ]
  },
  {
   "cell_type": "markdown",
   "metadata": {
    "id": "e0gRHehq3EDJ"
   },
   "source": [
    "## 1.3. Funções\n",
    "Aqui centralizamos todas as funções desenvolvidas durante o projeto para melhor organização do código."
   ]
  },
  {
   "cell_type": "code",
   "execution_count": null,
   "metadata": {
    "id": "yTX8NxEj3EDK"
   },
   "outputs": [],
   "source": [
    "def jupyter_setting():\n",
    "    \n",
    "    %matplotlib inline\n",
    "      \n",
    "    #os.environ[\"WANDB_SILENT\"] = \"true\" \n",
    "    #plt.style.use('bmh') \n",
    "    #plt.rcParams['figure.figsize'] = [20,15]\n",
    "    #plt.rcParams['font.size']      = 13\n",
    "     \n",
    "    pd.options.display.max_columns = None\n",
    "    #pd.set_option('display.expand_frame_repr', False)\n",
    "\n",
    "    warnings.filterwarnings(action='ignore')\n",
    "    warnings.simplefilter('ignore')\n",
    "    warnings.filterwarnings('ignore')\n",
    "    #warnings.filterwarnings(category=UserWarning)\n",
    "\n",
    "    warnings.filterwarnings('ignore', category=DeprecationWarning)\n",
    "    warnings.filterwarnings('ignore', category=FutureWarning)\n",
    "    warnings.filterwarnings('ignore', category=RuntimeWarning)\n",
    "    warnings.filterwarnings('ignore', category=UserWarning)\n",
    "    #warnings.filterwarnings(\"ignore\", category=sklearn.exceptions.UndefinedMetricWarning)\n",
    "\n",
    "    pd.set_option('display.max_rows', 150)\n",
    "    pd.set_option('display.max_columns', 500)\n",
    "    pd.set_option('display.max_colwidth', None)\n",
    "\n",
    "    icecream = [\"#00008b\", \"#960018\",\"#008b00\", \"#00468b\", \"#8b4500\", \"#582c00\"]\n",
    "    #sns.palplot(sns.color_palette(icecream))\n",
    "    \n",
    "    return icecream\n",
    "\n",
    "icecream = jupyter_setting()\n",
    "\n",
    "# Colors\n",
    "dark_red = \"#b20710\"\n",
    "black    = \"#221f1f\"\n",
    "green    = \"#009473\"\n",
    "myred    = '#CD5C5C'\n",
    "myblue   = '#6495ED'\n",
    "mygreen  = '#90EE90'\n",
    "\n",
    "cols= [myred, myblue,mygreen]"
   ]
  },
  {
   "cell_type": "code",
   "execution_count": null,
   "metadata": {
    "id": "cYJ5_hPT3EDM"
   },
   "outputs": [],
   "source": [
    "colors = [\"lightcoral\", \"sandybrown\", \"darkorange\", \"mediumseagreen\",\n",
    "          \"lightseagreen\", \"cornflowerblue\", \"mediumpurple\", \"palevioletred\",\n",
    "          \"lightskyblue\", \"sandybrown\", \"yellowgreen\", \"indianred\",\n",
    "          \"lightsteelblue\", \"mediumorchid\", \"deepskyblue\"]"
   ]
  },
  {
   "cell_type": "code",
   "execution_count": null,
   "metadata": {
    "id": "RSJsVIJL3EDM"
   },
   "outputs": [],
   "source": [
    "def missing_zero_values_table(df):\n",
    "        mis_val         = df.isnull().sum()\n",
    "        mis_val_percent = round(df.isnull().mean().mul(100), 2)\n",
    "        mz_table        = pd.concat([mis_val, mis_val_percent], axis=1)\n",
    "        mz_table        = mz_table.rename(columns = {df.index.name:'col_name', \n",
    "                                                     0 : 'Valores ausentes', \n",
    "                                                     1 : '% de valores totais'})\n",
    "        \n",
    "        mz_table['Tipo de dados'] = df.dtypes\n",
    "        mz_table                  = mz_table[mz_table.iloc[:,1] != 0 ]. \\\n",
    "                                     sort_values('% de valores totais', ascending=False)\n",
    "        \n",
    "        msg = \"Seu dataframe selecionado tem {} colunas e {} \" + \\\n",
    "              \"linhas. \\nExistem {} colunas com valores ausentes.\"\n",
    "            \n",
    "        print (msg.format(df.shape[1], df.shape[0], mz_table.shape[0]))\n",
    "        \n",
    "        return mz_table.reset_index()"
   ]
  },
  {
   "cell_type": "code",
   "execution_count": null,
   "metadata": {
    "id": "b0kN2eT93EDN"
   },
   "outputs": [],
   "source": [
    "def reduce_memory_usage(df, verbose=True):\n",
    "    \n",
    "    numerics = [\"int8\", \"int16\", \"int32\", \"int64\", \"float16\", \"float32\", \"float64\"]\n",
    "    start_mem = df.memory_usage().sum() / 1024 ** 2\n",
    "    \n",
    "    for col in df.columns:\n",
    "        \n",
    "        col_type = df[col].dtypes\n",
    "        \n",
    "        if col_type in numerics:\n",
    "            c_min = df[col].min()\n",
    "            c_max = df[col].max()\n",
    "            \n",
    "            if str(col_type)[:3] == \"int\":\n",
    "                if c_min > np.iinfo(np.int8).min and c_max < np.iinfo(np.int8).max:\n",
    "                    df[col] = df[col].astype(np.int8)\n",
    "                elif c_min > np.iinfo(np.int16).min and c_max < np.iinfo(np.int16).max:\n",
    "                    df[col] = df[col].astype(np.int16)\n",
    "                elif c_min > np.iinfo(np.int32).min and c_max < np.iinfo(np.int32).max:\n",
    "                    df[col] = df[col].astype(np.int32)\n",
    "                elif c_min > np.iinfo(np.int64).min and c_max < np.iinfo(np.int64).max:\n",
    "                    df[col] = df[col].astype(np.int64)\n",
    "            else:\n",
    "                if (\n",
    "                    c_min > np.finfo(np.float16).min\n",
    "                    and c_max < np.finfo(np.float16).max\n",
    "                ):\n",
    "                    df[col] = df[col].astype(np.float16)\n",
    "                elif (\n",
    "                    c_min > np.finfo(np.float32).min\n",
    "                    and c_max < np.finfo(np.float32).max\n",
    "                ):\n",
    "                    df[col] = df[col].astype(np.float32)\n",
    "                else:\n",
    "                    df[col] = df[col].astype(np.float64)\n",
    "    end_mem = df.memory_usage().sum() / 1024 ** 2\n",
    "    if verbose:\n",
    "        print(\n",
    "            \"Mem. usage decreased to {:.2f} Mb ({:.1f}% reduction)\".format(\n",
    "                end_mem, 100 * (start_mem - end_mem) / start_mem\n",
    "            )\n",
    "        )\n",
    "        \n",
    "    return df"
   ]
  },
  {
   "cell_type": "code",
   "execution_count": null,
   "metadata": {
    "id": "thQyW6AF3EDP"
   },
   "outputs": [],
   "source": [
    "def df_corr(df, annot_=False):\n",
    "    \n",
    "    df = df.corr(method ='pearson').round(5)\n",
    "\n",
    "    # Máscara para ocultar a parte superior direita do gráfico, pois é uma duplicata\n",
    "    mask = np.zeros_like(df)\n",
    "    mask[np.triu_indices_from(mask)] = True\n",
    "\n",
    "    # Making a plot\n",
    "    plt.figure(figsize=(15,12))\n",
    "    ax = sns.heatmap(df, annot=annot_, mask=mask, cmap=\"RdBu\", annot_kws={\"weight\": \"bold\", \"fontsize\":13})\n",
    "\n",
    "    ax.set_title(\"Mapa de calor de correlação das variável\", fontsize=17)\n",
    "\n",
    "    plt.setp(ax.get_xticklabels(), \n",
    "             rotation      = 90, \n",
    "             ha            = \"right\",\n",
    "             rotation_mode = \"anchor\", \n",
    "             weight        = \"normal\")\n",
    "\n",
    "    plt.setp(ax.get_yticklabels(), \n",
    "             weight        = \"normal\",\n",
    "             rotation_mode = \"anchor\", \n",
    "             rotation      = 0, \n",
    "             ha            = \"right\");"
   ]
  },
  {
   "cell_type": "code",
   "execution_count": null,
   "metadata": {
    "id": "bb_8Biqh3EDN"
   },
   "outputs": [],
   "source": [
    "def describe(df):\n",
    "    var = df.columns\n",
    "\n",
    "    # Medidas de tendência central, média e mediana \n",
    "    ct1 = pd.DataFrame(df[var].apply(np.mean)).T\n",
    "    ct2 = pd.DataFrame(df[var].apply(np.median)).T\n",
    "\n",
    "    # Dispensão - str, min , max range skew, kurtosis\n",
    "    d1 = pd.DataFrame(df[var].apply(np.std)).T\n",
    "    d2 = pd.DataFrame(df[var].apply(min)).T\n",
    "    d3 = pd.DataFrame(df[var].apply(max)).T\n",
    "    d4 = pd.DataFrame(df[var].apply(lambda x: x.max() - x.min())).T\n",
    "    d5 = pd.DataFrame(df[var].apply(lambda x: x.skew())).T\n",
    "    d6 = pd.DataFrame(df[var].apply(lambda x: x.kurtosis())).T\n",
    "    d7 = pd.DataFrame(df[var].apply(lambda x: (3 *( np.mean(x) - np.median(x)) / np.std(x) ))).T\n",
    "\n",
    "    # concatenete \n",
    "    m = pd.concat([d2, d3, d4, ct1, ct2, d1, d5, d6, d7]).T.reset_index()\n",
    "    m.columns = ['attrobutes', 'min', 'max', 'range', 'mean', 'median', 'std','skew', 'kurtosis','coef_as']\n",
    "    \n",
    "    return m"
   ]
  },
  {
   "cell_type": "code",
   "execution_count": null,
   "metadata": {
    "id": "ElhGo3lt3EDO"
   },
   "outputs": [],
   "source": [
    "def plot_roc_curve(fpr, tpr, label=None):\n",
    "    fig, ax = plt.subplots()\n",
    "    ax.plot(fpr, tpr, \"r-\", label=label)\n",
    "    ax.plot([0, 1], [0, 1], transform=ax.transAxes, ls=\"--\", c=\".3\")\n",
    "    plt.xlim([0.0, 1.0])\n",
    "    plt.ylim([0.0, 1.0])\n",
    "    plt.rcParams['font.size'] = 12\n",
    "    plt.title('ROC curve for TPS 09')\n",
    "    plt.xlabel('False Positive Rate (1 - Specificity)')\n",
    "    plt.ylabel('True Positive Rate (Sensitivity)')\n",
    "    plt.legend(loc=\"lower right\")\n",
    "    plt.grid(True)"
   ]
  },
  {
   "cell_type": "code",
   "execution_count": null,
   "metadata": {
    "id": "AMWLIJ6O3EDO"
   },
   "outputs": [],
   "source": [
    "def confusion_plot(matrix, labels = None, title = None):\n",
    "        \n",
    "    labels = labels if labels else ['Negative (0)', 'Positive (1)']    \n",
    "    \n",
    "    fig, ax = plt.subplots(nrows=1, ncols=1)\n",
    "    \n",
    "    sns.heatmap(data        = matrix, \n",
    "                cmap        = 'Blues', \n",
    "                annot       = True, \n",
    "                fmt         = 'd',\n",
    "                xticklabels = labels, \n",
    "                yticklabels = labels, \n",
    "                ax          = ax);\n",
    "    \n",
    "    ax.set_xlabel('\\n PREVISTO', fontsize=15)\n",
    "    ax.set_ylabel('REAL \\n', fontsize=15)\n",
    "    ax.set_title(title)\n",
    "    \n",
    "    plt.close();\n",
    "    \n",
    "    return fig;"
   ]
  },
  {
   "cell_type": "code",
   "execution_count": null,
   "metadata": {
    "id": "wtEel0-T3EDP"
   },
   "outputs": [],
   "source": [
    "def graf_outlier(df, feature):\n",
    "    col = [(0,4), (5,9)]\n",
    "\n",
    "    df_plot = ((df[feature] - df[feature].min())/\n",
    "               (df[feature].max() - df[feature].min()))\n",
    "\n",
    "    fig, ax = plt.subplots(len(col), 1, figsize=(15,7))\n",
    "\n",
    "    for i, (x) in enumerate(col): \n",
    "        sns.boxplot(data = df_plot.iloc[:, x[0]:x[1] ], ax = ax[i]); "
   ]
  },
  {
   "cell_type": "code",
   "execution_count": null,
   "metadata": {
    "id": "TxcXdVQ53EDP"
   },
   "outputs": [],
   "source": [
    "def diff(t_a, t_b):\n",
    "    from dateutil.relativedelta import relativedelta\n",
    "    t_diff = relativedelta(t_b, t_a)  # later/end time comes first!\n",
    "    return '{h}h {m}m {s}s'.format(h=t_diff.hours, m=t_diff.minutes, s=t_diff.seconds)"
   ]
  },
  {
   "cell_type": "code",
   "execution_count": null,
   "metadata": {
    "id": "ITXjrwHDJvZ7"
   },
   "outputs": [],
   "source": [
    "def free_gpu_cache():\n",
    "    \n",
    "    # https://www.kaggle.com/getting-started/140636\n",
    "    #print(\"Initial GPU Usage\")\n",
    "    #gpu_usage()                             \n",
    "\n",
    "    #cuda.select_device(0)\n",
    "    #cuda.close()\n",
    "    #cuda.select_device(0)   \n",
    "    \n",
    "    gc.collect()\n",
    "    torch.cuda.empty_cache()"
   ]
  },
  {
   "cell_type": "code",
   "execution_count": null,
   "metadata": {
    "id": "ntOS4C8DntcL"
   },
   "outputs": [],
   "source": [
    "def graf_eval():\n",
    "\n",
    "    results     = model.evals_result()\n",
    "    ntree_limit = model.best_ntree_limit\n",
    "\n",
    "    plt.figure(figsize=(20,7))\n",
    "\n",
    "    for i, error in  enumerate(['mlogloss', 'merror']):#\n",
    "        \n",
    "        plt.subplot(1,2,i+1)\n",
    "        plt.plot(results[\"validation_0\"][error], label=\"Treinamento\")\n",
    "        plt.plot(results[\"validation_1\"][error], label=\"Validação\")\n",
    "\n",
    "        plt.axvline(ntree_limit, \n",
    "                    color=\"gray\", \n",
    "                    label=\"N. de árvore ideal {}\".format(ntree_limit))\n",
    "                    \n",
    "        \n",
    "        title_name ='\\n' + error.upper() + ' PLOT \\n'\n",
    "        plt.title(title_name)\n",
    "        plt.xlabel(\"Número de árvores\")\n",
    "        plt.ylabel(error)\n",
    "        plt.legend();"
   ]
  },
  {
   "cell_type": "markdown",
   "metadata": {
    "id": "MocWXt1J3EDP"
   },
   "source": [
    "## 1.4. Dataset"
   ]
  },
  {
   "cell_type": "markdown",
   "metadata": {
    "id": "tye_0Gh23EDQ"
   },
   "source": [
    "### 1.4.1. Descrição de dados\n",
    "\n",
    "A área de estudo inclui quatro áreas selvagens localizadas na Floresta Nacional Roosevelt, no norte do Colorado. Cada observação é um patch de 30m x 30m. \n",
    "\n",
    "O conjunto de treinamento (train.csv) tem 4.000.000 observações e 55 variáveis, a variáveis que vamos prever é `Cover_Type` para o conjunto de teste (test.csv) que tem 1.000.000 observações.\n",
    "\n",
    "Os sete tipos que contém a variável `Cover_Type` são:\n",
    "\n",
    "1. Spruce/Fir\n",
    "2. Lodgepole Pine\n",
    "3. Ponderosa Pine\n",
    "4. Cottonwood/Willow\n",
    "5. Aspen\n",
    "6. Douglas-fir\n",
    "7. Krummholz\n",
    "\n",
    "Variáveis do dataset:\n",
    "\n",
    "- **Elevation**: Elevação em metros;\n",
    "- **Aspect**: Aspecto em graus azimuth;\n",
    "- **Slope**: Inclinação em graus;\n",
    "- **Horizontal_Distance_To_Hydrology**: Horz Dist para variável de água de superfície mais próximos;\n",
    "- **Vertical_Distance_To_Hydrology**: Vert Dist para recursos de água de superfície mais próximos;\n",
    "- **Horizontal_Distance_To_Roadways**: Horz Dist para a estrada mais próxima;\n",
    "- **Hillshade_9am**: índice Hillshade às 9h com valores entre 0 e 255;\n",
    "- **Hillshade_Noon**: índice Hillshade ao meio-dia com valores entre 0 e 255;\n",
    "- **Hillshade_3pm**: índice Hillshade às 3pm com valores entre 0 e 255;\n",
    "- **Horizontal_Distance_To_Fire_Points**: Horz Dist para os pontos de ignição do incêndio florestal mais próximos;\n",
    "- **Wilderness_Area**: (4 colunas binárias, 0 = ausência ou 1 = presença) - Designação de área selvagem;\n",
    "- **Soil_Type**: (40 colunas binárias, 0 = ausência ou 1 = presença) - Designação do tipo de solo;\n",
    "- **Cover_Type**: (7 tipos, inteiros 1 a 7) Designação do tipo de cobertura florestal.\n"
   ]
  },
  {
   "cell_type": "code",
   "execution_count": null,
   "metadata": {
    "id": "vaTHvoMk3EDQ"
   },
   "outputs": [],
   "source": [
    "path   = '/content/drive/MyDrive/kaggle/Tabular Playground Series/2021/12 - Dezembro/'\n",
    "target = 'Cover_Type'"
   ]
  },
  {
   "cell_type": "code",
   "execution_count": null,
   "metadata": {
    "colab": {
     "background_save": true,
     "base_uri": "https://localhost:8080/"
    },
    "executionInfo": {
     "elapsed": 13850,
     "status": "ok",
     "timestamp": 1639798296834,
     "user": {
      "displayName": "Rogério Delfim",
      "photoUrl": "https://lh3.googleusercontent.com/a-/AOh14Gj8lDYWTfZHU0U0sMojRPio71Ec7YDcSEpCaOEE=s64",
      "userId": "04235763959036945343"
     },
     "user_tz": 180
    },
    "id": "BZO_GBDb3EDQ"
   },
   "outputs": [
    {
     "data": {
      "text/plain": [
       "((4000000, 55), (1000000, 54), (1000000, 2))"
      ]
     },
     "execution_count": null,
     "metadata": {},
     "output_type": "execute_result"
    }
   ],
   "source": [
    "df1_train     = pd.read_csv(path + 'Data/train.csv')\n",
    "df1_test      = pd.read_csv(path + 'Data/test.csv')\n",
    "df_submission = pd.read_csv(path + 'Data/sample_submission.csv')\n",
    "\n",
    "df1_train.drop('Id', axis=1, inplace=True)\n",
    "df1_test.drop('Id', axis=1, inplace=True)\n",
    "\n",
    "df1_train.shape, df1_test.shape, df_submission.shape"
   ]
  },
  {
   "cell_type": "code",
   "execution_count": null,
   "metadata": {
    "colab": {
     "base_uri": "https://localhost:8080/",
     "height": 270
    },
    "executionInfo": {
     "elapsed": 52,
     "status": "ok",
     "timestamp": 1639798296835,
     "user": {
      "displayName": "Rogério Delfim",
      "photoUrl": "https://lh3.googleusercontent.com/a-/AOh14Gj8lDYWTfZHU0U0sMojRPio71Ec7YDcSEpCaOEE=s64",
      "userId": "04235763959036945343"
     },
     "user_tz": 180
    },
    "id": "15l3Wg3O3EDQ",
    "outputId": "2216cbd7-6ab9-4056-c84b-2a690b4c1c26"
   },
   "outputs": [
    {
     "data": {
      "text/html": [
       "\n",
       "  <div id=\"df-baca745d-2b7e-4278-831a-65863ed0ab2f\">\n",
       "    <div class=\"colab-df-container\">\n",
       "      <div>\n",
       "<style scoped>\n",
       "    .dataframe tbody tr th:only-of-type {\n",
       "        vertical-align: middle;\n",
       "    }\n",
       "\n",
       "    .dataframe tbody tr th {\n",
       "        vertical-align: top;\n",
       "    }\n",
       "\n",
       "    .dataframe thead th {\n",
       "        text-align: right;\n",
       "    }\n",
       "</style>\n",
       "<table border=\"1\" class=\"dataframe\">\n",
       "  <thead>\n",
       "    <tr style=\"text-align: right;\">\n",
       "      <th></th>\n",
       "      <th>Elevation</th>\n",
       "      <th>Aspect</th>\n",
       "      <th>Slope</th>\n",
       "      <th>Horizontal_Distance_To_Hydrology</th>\n",
       "      <th>Vertical_Distance_To_Hydrology</th>\n",
       "      <th>Horizontal_Distance_To_Roadways</th>\n",
       "      <th>Hillshade_9am</th>\n",
       "      <th>Hillshade_Noon</th>\n",
       "      <th>Hillshade_3pm</th>\n",
       "      <th>Horizontal_Distance_To_Fire_Points</th>\n",
       "      <th>Wilderness_Area1</th>\n",
       "      <th>Wilderness_Area2</th>\n",
       "      <th>Wilderness_Area3</th>\n",
       "      <th>Wilderness_Area4</th>\n",
       "      <th>Soil_Type1</th>\n",
       "      <th>Soil_Type2</th>\n",
       "      <th>Soil_Type3</th>\n",
       "      <th>Soil_Type4</th>\n",
       "      <th>Soil_Type5</th>\n",
       "      <th>Soil_Type6</th>\n",
       "      <th>Soil_Type7</th>\n",
       "      <th>Soil_Type8</th>\n",
       "      <th>Soil_Type9</th>\n",
       "      <th>Soil_Type10</th>\n",
       "      <th>Soil_Type11</th>\n",
       "      <th>Soil_Type12</th>\n",
       "      <th>Soil_Type13</th>\n",
       "      <th>Soil_Type14</th>\n",
       "      <th>Soil_Type15</th>\n",
       "      <th>Soil_Type16</th>\n",
       "      <th>Soil_Type17</th>\n",
       "      <th>Soil_Type18</th>\n",
       "      <th>Soil_Type19</th>\n",
       "      <th>Soil_Type20</th>\n",
       "      <th>Soil_Type21</th>\n",
       "      <th>Soil_Type22</th>\n",
       "      <th>Soil_Type23</th>\n",
       "      <th>Soil_Type24</th>\n",
       "      <th>Soil_Type25</th>\n",
       "      <th>Soil_Type26</th>\n",
       "      <th>Soil_Type27</th>\n",
       "      <th>Soil_Type28</th>\n",
       "      <th>Soil_Type29</th>\n",
       "      <th>Soil_Type30</th>\n",
       "      <th>Soil_Type31</th>\n",
       "      <th>Soil_Type32</th>\n",
       "      <th>Soil_Type33</th>\n",
       "      <th>Soil_Type34</th>\n",
       "      <th>Soil_Type35</th>\n",
       "      <th>Soil_Type36</th>\n",
       "      <th>Soil_Type37</th>\n",
       "      <th>Soil_Type38</th>\n",
       "      <th>Soil_Type39</th>\n",
       "      <th>Soil_Type40</th>\n",
       "      <th>Cover_Type</th>\n",
       "    </tr>\n",
       "  </thead>\n",
       "  <tbody>\n",
       "    <tr>\n",
       "      <th>0</th>\n",
       "      <td>3189</td>\n",
       "      <td>40</td>\n",
       "      <td>8</td>\n",
       "      <td>30</td>\n",
       "      <td>13</td>\n",
       "      <td>3270</td>\n",
       "      <td>206</td>\n",
       "      <td>234</td>\n",
       "      <td>193</td>\n",
       "      <td>4873</td>\n",
       "      <td>1</td>\n",
       "      <td>0</td>\n",
       "      <td>0</td>\n",
       "      <td>0</td>\n",
       "      <td>0</td>\n",
       "      <td>0</td>\n",
       "      <td>0</td>\n",
       "      <td>0</td>\n",
       "      <td>0</td>\n",
       "      <td>0</td>\n",
       "      <td>0</td>\n",
       "      <td>0</td>\n",
       "      <td>0</td>\n",
       "      <td>0</td>\n",
       "      <td>0</td>\n",
       "      <td>0</td>\n",
       "      <td>0</td>\n",
       "      <td>0</td>\n",
       "      <td>0</td>\n",
       "      <td>0</td>\n",
       "      <td>0</td>\n",
       "      <td>0</td>\n",
       "      <td>0</td>\n",
       "      <td>0</td>\n",
       "      <td>0</td>\n",
       "      <td>0</td>\n",
       "      <td>0</td>\n",
       "      <td>0</td>\n",
       "      <td>0</td>\n",
       "      <td>0</td>\n",
       "      <td>0</td>\n",
       "      <td>0</td>\n",
       "      <td>1</td>\n",
       "      <td>0</td>\n",
       "      <td>0</td>\n",
       "      <td>0</td>\n",
       "      <td>0</td>\n",
       "      <td>0</td>\n",
       "      <td>0</td>\n",
       "      <td>0</td>\n",
       "      <td>0</td>\n",
       "      <td>0</td>\n",
       "      <td>0</td>\n",
       "      <td>0</td>\n",
       "      <td>1</td>\n",
       "    </tr>\n",
       "    <tr>\n",
       "      <th>1</th>\n",
       "      <td>3026</td>\n",
       "      <td>182</td>\n",
       "      <td>5</td>\n",
       "      <td>280</td>\n",
       "      <td>29</td>\n",
       "      <td>3270</td>\n",
       "      <td>233</td>\n",
       "      <td>240</td>\n",
       "      <td>106</td>\n",
       "      <td>5423</td>\n",
       "      <td>1</td>\n",
       "      <td>0</td>\n",
       "      <td>0</td>\n",
       "      <td>0</td>\n",
       "      <td>0</td>\n",
       "      <td>0</td>\n",
       "      <td>0</td>\n",
       "      <td>0</td>\n",
       "      <td>0</td>\n",
       "      <td>0</td>\n",
       "      <td>0</td>\n",
       "      <td>0</td>\n",
       "      <td>0</td>\n",
       "      <td>0</td>\n",
       "      <td>0</td>\n",
       "      <td>0</td>\n",
       "      <td>0</td>\n",
       "      <td>0</td>\n",
       "      <td>0</td>\n",
       "      <td>0</td>\n",
       "      <td>0</td>\n",
       "      <td>0</td>\n",
       "      <td>0</td>\n",
       "      <td>0</td>\n",
       "      <td>0</td>\n",
       "      <td>0</td>\n",
       "      <td>0</td>\n",
       "      <td>0</td>\n",
       "      <td>0</td>\n",
       "      <td>0</td>\n",
       "      <td>0</td>\n",
       "      <td>0</td>\n",
       "      <td>1</td>\n",
       "      <td>0</td>\n",
       "      <td>0</td>\n",
       "      <td>0</td>\n",
       "      <td>0</td>\n",
       "      <td>0</td>\n",
       "      <td>0</td>\n",
       "      <td>0</td>\n",
       "      <td>0</td>\n",
       "      <td>0</td>\n",
       "      <td>0</td>\n",
       "      <td>0</td>\n",
       "      <td>2</td>\n",
       "    </tr>\n",
       "    <tr>\n",
       "      <th>2</th>\n",
       "      <td>3106</td>\n",
       "      <td>13</td>\n",
       "      <td>7</td>\n",
       "      <td>351</td>\n",
       "      <td>37</td>\n",
       "      <td>2914</td>\n",
       "      <td>208</td>\n",
       "      <td>234</td>\n",
       "      <td>137</td>\n",
       "      <td>5269</td>\n",
       "      <td>1</td>\n",
       "      <td>0</td>\n",
       "      <td>0</td>\n",
       "      <td>0</td>\n",
       "      <td>0</td>\n",
       "      <td>0</td>\n",
       "      <td>0</td>\n",
       "      <td>0</td>\n",
       "      <td>0</td>\n",
       "      <td>0</td>\n",
       "      <td>0</td>\n",
       "      <td>0</td>\n",
       "      <td>0</td>\n",
       "      <td>0</td>\n",
       "      <td>0</td>\n",
       "      <td>0</td>\n",
       "      <td>0</td>\n",
       "      <td>0</td>\n",
       "      <td>0</td>\n",
       "      <td>0</td>\n",
       "      <td>0</td>\n",
       "      <td>0</td>\n",
       "      <td>0</td>\n",
       "      <td>0</td>\n",
       "      <td>0</td>\n",
       "      <td>0</td>\n",
       "      <td>0</td>\n",
       "      <td>0</td>\n",
       "      <td>0</td>\n",
       "      <td>0</td>\n",
       "      <td>0</td>\n",
       "      <td>0</td>\n",
       "      <td>1</td>\n",
       "      <td>0</td>\n",
       "      <td>0</td>\n",
       "      <td>0</td>\n",
       "      <td>0</td>\n",
       "      <td>0</td>\n",
       "      <td>0</td>\n",
       "      <td>0</td>\n",
       "      <td>0</td>\n",
       "      <td>0</td>\n",
       "      <td>0</td>\n",
       "      <td>0</td>\n",
       "      <td>1</td>\n",
       "    </tr>\n",
       "    <tr>\n",
       "      <th>3</th>\n",
       "      <td>3022</td>\n",
       "      <td>276</td>\n",
       "      <td>13</td>\n",
       "      <td>192</td>\n",
       "      <td>16</td>\n",
       "      <td>3034</td>\n",
       "      <td>207</td>\n",
       "      <td>238</td>\n",
       "      <td>156</td>\n",
       "      <td>2866</td>\n",
       "      <td>1</td>\n",
       "      <td>0</td>\n",
       "      <td>0</td>\n",
       "      <td>0</td>\n",
       "      <td>0</td>\n",
       "      <td>0</td>\n",
       "      <td>0</td>\n",
       "      <td>0</td>\n",
       "      <td>0</td>\n",
       "      <td>0</td>\n",
       "      <td>0</td>\n",
       "      <td>0</td>\n",
       "      <td>0</td>\n",
       "      <td>0</td>\n",
       "      <td>0</td>\n",
       "      <td>0</td>\n",
       "      <td>0</td>\n",
       "      <td>0</td>\n",
       "      <td>0</td>\n",
       "      <td>0</td>\n",
       "      <td>0</td>\n",
       "      <td>0</td>\n",
       "      <td>0</td>\n",
       "      <td>0</td>\n",
       "      <td>0</td>\n",
       "      <td>0</td>\n",
       "      <td>0</td>\n",
       "      <td>0</td>\n",
       "      <td>0</td>\n",
       "      <td>0</td>\n",
       "      <td>0</td>\n",
       "      <td>0</td>\n",
       "      <td>1</td>\n",
       "      <td>0</td>\n",
       "      <td>0</td>\n",
       "      <td>0</td>\n",
       "      <td>0</td>\n",
       "      <td>0</td>\n",
       "      <td>0</td>\n",
       "      <td>0</td>\n",
       "      <td>0</td>\n",
       "      <td>0</td>\n",
       "      <td>0</td>\n",
       "      <td>0</td>\n",
       "      <td>2</td>\n",
       "    </tr>\n",
       "    <tr>\n",
       "      <th>4</th>\n",
       "      <td>2906</td>\n",
       "      <td>186</td>\n",
       "      <td>13</td>\n",
       "      <td>266</td>\n",
       "      <td>22</td>\n",
       "      <td>2916</td>\n",
       "      <td>231</td>\n",
       "      <td>231</td>\n",
       "      <td>154</td>\n",
       "      <td>2642</td>\n",
       "      <td>1</td>\n",
       "      <td>0</td>\n",
       "      <td>0</td>\n",
       "      <td>0</td>\n",
       "      <td>0</td>\n",
       "      <td>0</td>\n",
       "      <td>0</td>\n",
       "      <td>0</td>\n",
       "      <td>0</td>\n",
       "      <td>0</td>\n",
       "      <td>0</td>\n",
       "      <td>0</td>\n",
       "      <td>0</td>\n",
       "      <td>0</td>\n",
       "      <td>0</td>\n",
       "      <td>0</td>\n",
       "      <td>0</td>\n",
       "      <td>0</td>\n",
       "      <td>0</td>\n",
       "      <td>0</td>\n",
       "      <td>0</td>\n",
       "      <td>0</td>\n",
       "      <td>0</td>\n",
       "      <td>0</td>\n",
       "      <td>0</td>\n",
       "      <td>0</td>\n",
       "      <td>0</td>\n",
       "      <td>0</td>\n",
       "      <td>0</td>\n",
       "      <td>0</td>\n",
       "      <td>0</td>\n",
       "      <td>0</td>\n",
       "      <td>1</td>\n",
       "      <td>0</td>\n",
       "      <td>0</td>\n",
       "      <td>0</td>\n",
       "      <td>0</td>\n",
       "      <td>0</td>\n",
       "      <td>0</td>\n",
       "      <td>0</td>\n",
       "      <td>0</td>\n",
       "      <td>0</td>\n",
       "      <td>0</td>\n",
       "      <td>0</td>\n",
       "      <td>2</td>\n",
       "    </tr>\n",
       "  </tbody>\n",
       "</table>\n",
       "</div>\n",
       "      <button class=\"colab-df-convert\" onclick=\"convertToInteractive('df-baca745d-2b7e-4278-831a-65863ed0ab2f')\"\n",
       "              title=\"Convert this dataframe to an interactive table.\"\n",
       "              style=\"display:none;\">\n",
       "        \n",
       "  <svg xmlns=\"http://www.w3.org/2000/svg\" height=\"24px\"viewBox=\"0 0 24 24\"\n",
       "       width=\"24px\">\n",
       "    <path d=\"M0 0h24v24H0V0z\" fill=\"none\"/>\n",
       "    <path d=\"M18.56 5.44l.94 2.06.94-2.06 2.06-.94-2.06-.94-.94-2.06-.94 2.06-2.06.94zm-11 1L8.5 8.5l.94-2.06 2.06-.94-2.06-.94L8.5 2.5l-.94 2.06-2.06.94zm10 10l.94 2.06.94-2.06 2.06-.94-2.06-.94-.94-2.06-.94 2.06-2.06.94z\"/><path d=\"M17.41 7.96l-1.37-1.37c-.4-.4-.92-.59-1.43-.59-.52 0-1.04.2-1.43.59L10.3 9.45l-7.72 7.72c-.78.78-.78 2.05 0 2.83L4 21.41c.39.39.9.59 1.41.59.51 0 1.02-.2 1.41-.59l7.78-7.78 2.81-2.81c.8-.78.8-2.07 0-2.86zM5.41 20L4 18.59l7.72-7.72 1.47 1.35L5.41 20z\"/>\n",
       "  </svg>\n",
       "      </button>\n",
       "      \n",
       "  <style>\n",
       "    .colab-df-container {\n",
       "      display:flex;\n",
       "      flex-wrap:wrap;\n",
       "      gap: 12px;\n",
       "    }\n",
       "\n",
       "    .colab-df-convert {\n",
       "      background-color: #E8F0FE;\n",
       "      border: none;\n",
       "      border-radius: 50%;\n",
       "      cursor: pointer;\n",
       "      display: none;\n",
       "      fill: #1967D2;\n",
       "      height: 32px;\n",
       "      padding: 0 0 0 0;\n",
       "      width: 32px;\n",
       "    }\n",
       "\n",
       "    .colab-df-convert:hover {\n",
       "      background-color: #E2EBFA;\n",
       "      box-shadow: 0px 1px 2px rgba(60, 64, 67, 0.3), 0px 1px 3px 1px rgba(60, 64, 67, 0.15);\n",
       "      fill: #174EA6;\n",
       "    }\n",
       "\n",
       "    [theme=dark] .colab-df-convert {\n",
       "      background-color: #3B4455;\n",
       "      fill: #D2E3FC;\n",
       "    }\n",
       "\n",
       "    [theme=dark] .colab-df-convert:hover {\n",
       "      background-color: #434B5C;\n",
       "      box-shadow: 0px 1px 3px 1px rgba(0, 0, 0, 0.15);\n",
       "      filter: drop-shadow(0px 1px 2px rgba(0, 0, 0, 0.3));\n",
       "      fill: #FFFFFF;\n",
       "    }\n",
       "  </style>\n",
       "\n",
       "      <script>\n",
       "        const buttonEl =\n",
       "          document.querySelector('#df-baca745d-2b7e-4278-831a-65863ed0ab2f button.colab-df-convert');\n",
       "        buttonEl.style.display =\n",
       "          google.colab.kernel.accessAllowed ? 'block' : 'none';\n",
       "\n",
       "        async function convertToInteractive(key) {\n",
       "          const element = document.querySelector('#df-baca745d-2b7e-4278-831a-65863ed0ab2f');\n",
       "          const dataTable =\n",
       "            await google.colab.kernel.invokeFunction('convertToInteractive',\n",
       "                                                     [key], {});\n",
       "          if (!dataTable) return;\n",
       "\n",
       "          const docLinkHtml = 'Like what you see? Visit the ' +\n",
       "            '<a target=\"_blank\" href=https://colab.research.google.com/notebooks/data_table.ipynb>data table notebook</a>'\n",
       "            + ' to learn more about interactive tables.';\n",
       "          element.innerHTML = '';\n",
       "          dataTable['output_type'] = 'display_data';\n",
       "          await google.colab.output.renderOutput(dataTable, element);\n",
       "          const docLink = document.createElement('div');\n",
       "          docLink.innerHTML = docLinkHtml;\n",
       "          element.appendChild(docLink);\n",
       "        }\n",
       "      </script>\n",
       "    </div>\n",
       "  </div>\n",
       "  "
      ],
      "text/plain": [
       "   Elevation  Aspect  Slope  Horizontal_Distance_To_Hydrology  \\\n",
       "0       3189      40      8                                30   \n",
       "1       3026     182      5                               280   \n",
       "2       3106      13      7                               351   \n",
       "3       3022     276     13                               192   \n",
       "4       2906     186     13                               266   \n",
       "\n",
       "   Vertical_Distance_To_Hydrology  Horizontal_Distance_To_Roadways  \\\n",
       "0                              13                             3270   \n",
       "1                              29                             3270   \n",
       "2                              37                             2914   \n",
       "3                              16                             3034   \n",
       "4                              22                             2916   \n",
       "\n",
       "   Hillshade_9am  Hillshade_Noon  Hillshade_3pm  \\\n",
       "0            206             234            193   \n",
       "1            233             240            106   \n",
       "2            208             234            137   \n",
       "3            207             238            156   \n",
       "4            231             231            154   \n",
       "\n",
       "   Horizontal_Distance_To_Fire_Points  Wilderness_Area1  Wilderness_Area2  \\\n",
       "0                                4873                 1                 0   \n",
       "1                                5423                 1                 0   \n",
       "2                                5269                 1                 0   \n",
       "3                                2866                 1                 0   \n",
       "4                                2642                 1                 0   \n",
       "\n",
       "   Wilderness_Area3  Wilderness_Area4  Soil_Type1  Soil_Type2  Soil_Type3  \\\n",
       "0                 0                 0           0           0           0   \n",
       "1                 0                 0           0           0           0   \n",
       "2                 0                 0           0           0           0   \n",
       "3                 0                 0           0           0           0   \n",
       "4                 0                 0           0           0           0   \n",
       "\n",
       "   Soil_Type4  Soil_Type5  Soil_Type6  Soil_Type7  Soil_Type8  Soil_Type9  \\\n",
       "0           0           0           0           0           0           0   \n",
       "1           0           0           0           0           0           0   \n",
       "2           0           0           0           0           0           0   \n",
       "3           0           0           0           0           0           0   \n",
       "4           0           0           0           0           0           0   \n",
       "\n",
       "   Soil_Type10  Soil_Type11  Soil_Type12  Soil_Type13  Soil_Type14  \\\n",
       "0            0            0            0            0            0   \n",
       "1            0            0            0            0            0   \n",
       "2            0            0            0            0            0   \n",
       "3            0            0            0            0            0   \n",
       "4            0            0            0            0            0   \n",
       "\n",
       "   Soil_Type15  Soil_Type16  Soil_Type17  Soil_Type18  Soil_Type19  \\\n",
       "0            0            0            0            0            0   \n",
       "1            0            0            0            0            0   \n",
       "2            0            0            0            0            0   \n",
       "3            0            0            0            0            0   \n",
       "4            0            0            0            0            0   \n",
       "\n",
       "   Soil_Type20  Soil_Type21  Soil_Type22  Soil_Type23  Soil_Type24  \\\n",
       "0            0            0            0            0            0   \n",
       "1            0            0            0            0            0   \n",
       "2            0            0            0            0            0   \n",
       "3            0            0            0            0            0   \n",
       "4            0            0            0            0            0   \n",
       "\n",
       "   Soil_Type25  Soil_Type26  Soil_Type27  Soil_Type28  Soil_Type29  \\\n",
       "0            0            0            0            0            1   \n",
       "1            0            0            0            0            1   \n",
       "2            0            0            0            0            1   \n",
       "3            0            0            0            0            1   \n",
       "4            0            0            0            0            1   \n",
       "\n",
       "   Soil_Type30  Soil_Type31  Soil_Type32  Soil_Type33  Soil_Type34  \\\n",
       "0            0            0            0            0            0   \n",
       "1            0            0            0            0            0   \n",
       "2            0            0            0            0            0   \n",
       "3            0            0            0            0            0   \n",
       "4            0            0            0            0            0   \n",
       "\n",
       "   Soil_Type35  Soil_Type36  Soil_Type37  Soil_Type38  Soil_Type39  \\\n",
       "0            0            0            0            0            0   \n",
       "1            0            0            0            0            0   \n",
       "2            0            0            0            0            0   \n",
       "3            0            0            0            0            0   \n",
       "4            0            0            0            0            0   \n",
       "\n",
       "   Soil_Type40  Cover_Type  \n",
       "0            0           1  \n",
       "1            0           2  \n",
       "2            0           1  \n",
       "3            0           2  \n",
       "4            0           2  "
      ]
     },
     "execution_count": 20,
     "metadata": {},
     "output_type": "execute_result"
    }
   ],
   "source": [
    "df1_train.head()"
   ]
  },
  {
   "cell_type": "code",
   "execution_count": null,
   "metadata": {
    "colab": {
     "base_uri": "https://localhost:8080/",
     "height": 270
    },
    "executionInfo": {
     "elapsed": 49,
     "status": "ok",
     "timestamp": 1639798296836,
     "user": {
      "displayName": "Rogério Delfim",
      "photoUrl": "https://lh3.googleusercontent.com/a-/AOh14Gj8lDYWTfZHU0U0sMojRPio71Ec7YDcSEpCaOEE=s64",
      "userId": "04235763959036945343"
     },
     "user_tz": 180
    },
    "id": "W71Ikz803EDR",
    "outputId": "95895db2-0f5c-4775-967e-2d784c2d7798"
   },
   "outputs": [
    {
     "data": {
      "text/html": [
       "\n",
       "  <div id=\"df-915d861d-2b41-4c8d-a767-2236c3c27a03\">\n",
       "    <div class=\"colab-df-container\">\n",
       "      <div>\n",
       "<style scoped>\n",
       "    .dataframe tbody tr th:only-of-type {\n",
       "        vertical-align: middle;\n",
       "    }\n",
       "\n",
       "    .dataframe tbody tr th {\n",
       "        vertical-align: top;\n",
       "    }\n",
       "\n",
       "    .dataframe thead th {\n",
       "        text-align: right;\n",
       "    }\n",
       "</style>\n",
       "<table border=\"1\" class=\"dataframe\">\n",
       "  <thead>\n",
       "    <tr style=\"text-align: right;\">\n",
       "      <th></th>\n",
       "      <th>Elevation</th>\n",
       "      <th>Aspect</th>\n",
       "      <th>Slope</th>\n",
       "      <th>Horizontal_Distance_To_Hydrology</th>\n",
       "      <th>Vertical_Distance_To_Hydrology</th>\n",
       "      <th>Horizontal_Distance_To_Roadways</th>\n",
       "      <th>Hillshade_9am</th>\n",
       "      <th>Hillshade_Noon</th>\n",
       "      <th>Hillshade_3pm</th>\n",
       "      <th>Horizontal_Distance_To_Fire_Points</th>\n",
       "      <th>Wilderness_Area1</th>\n",
       "      <th>Wilderness_Area2</th>\n",
       "      <th>Wilderness_Area3</th>\n",
       "      <th>Wilderness_Area4</th>\n",
       "      <th>Soil_Type1</th>\n",
       "      <th>Soil_Type2</th>\n",
       "      <th>Soil_Type3</th>\n",
       "      <th>Soil_Type4</th>\n",
       "      <th>Soil_Type5</th>\n",
       "      <th>Soil_Type6</th>\n",
       "      <th>Soil_Type7</th>\n",
       "      <th>Soil_Type8</th>\n",
       "      <th>Soil_Type9</th>\n",
       "      <th>Soil_Type10</th>\n",
       "      <th>Soil_Type11</th>\n",
       "      <th>Soil_Type12</th>\n",
       "      <th>Soil_Type13</th>\n",
       "      <th>Soil_Type14</th>\n",
       "      <th>Soil_Type15</th>\n",
       "      <th>Soil_Type16</th>\n",
       "      <th>Soil_Type17</th>\n",
       "      <th>Soil_Type18</th>\n",
       "      <th>Soil_Type19</th>\n",
       "      <th>Soil_Type20</th>\n",
       "      <th>Soil_Type21</th>\n",
       "      <th>Soil_Type22</th>\n",
       "      <th>Soil_Type23</th>\n",
       "      <th>Soil_Type24</th>\n",
       "      <th>Soil_Type25</th>\n",
       "      <th>Soil_Type26</th>\n",
       "      <th>Soil_Type27</th>\n",
       "      <th>Soil_Type28</th>\n",
       "      <th>Soil_Type29</th>\n",
       "      <th>Soil_Type30</th>\n",
       "      <th>Soil_Type31</th>\n",
       "      <th>Soil_Type32</th>\n",
       "      <th>Soil_Type33</th>\n",
       "      <th>Soil_Type34</th>\n",
       "      <th>Soil_Type35</th>\n",
       "      <th>Soil_Type36</th>\n",
       "      <th>Soil_Type37</th>\n",
       "      <th>Soil_Type38</th>\n",
       "      <th>Soil_Type39</th>\n",
       "      <th>Soil_Type40</th>\n",
       "    </tr>\n",
       "  </thead>\n",
       "  <tbody>\n",
       "    <tr>\n",
       "      <th>0</th>\n",
       "      <td>2763</td>\n",
       "      <td>78</td>\n",
       "      <td>20</td>\n",
       "      <td>377</td>\n",
       "      <td>88</td>\n",
       "      <td>3104</td>\n",
       "      <td>218</td>\n",
       "      <td>213</td>\n",
       "      <td>195</td>\n",
       "      <td>1931</td>\n",
       "      <td>0</td>\n",
       "      <td>0</td>\n",
       "      <td>0</td>\n",
       "      <td>0</td>\n",
       "      <td>0</td>\n",
       "      <td>0</td>\n",
       "      <td>0</td>\n",
       "      <td>0</td>\n",
       "      <td>0</td>\n",
       "      <td>0</td>\n",
       "      <td>0</td>\n",
       "      <td>0</td>\n",
       "      <td>0</td>\n",
       "      <td>0</td>\n",
       "      <td>0</td>\n",
       "      <td>0</td>\n",
       "      <td>0</td>\n",
       "      <td>0</td>\n",
       "      <td>0</td>\n",
       "      <td>0</td>\n",
       "      <td>0</td>\n",
       "      <td>0</td>\n",
       "      <td>0</td>\n",
       "      <td>0</td>\n",
       "      <td>0</td>\n",
       "      <td>0</td>\n",
       "      <td>0</td>\n",
       "      <td>0</td>\n",
       "      <td>0</td>\n",
       "      <td>0</td>\n",
       "      <td>0</td>\n",
       "      <td>0</td>\n",
       "      <td>0</td>\n",
       "      <td>0</td>\n",
       "      <td>0</td>\n",
       "      <td>0</td>\n",
       "      <td>0</td>\n",
       "      <td>0</td>\n",
       "      <td>0</td>\n",
       "      <td>0</td>\n",
       "      <td>0</td>\n",
       "      <td>0</td>\n",
       "      <td>0</td>\n",
       "      <td>0</td>\n",
       "    </tr>\n",
       "    <tr>\n",
       "      <th>1</th>\n",
       "      <td>2826</td>\n",
       "      <td>153</td>\n",
       "      <td>11</td>\n",
       "      <td>264</td>\n",
       "      <td>39</td>\n",
       "      <td>295</td>\n",
       "      <td>219</td>\n",
       "      <td>238</td>\n",
       "      <td>148</td>\n",
       "      <td>2557</td>\n",
       "      <td>0</td>\n",
       "      <td>0</td>\n",
       "      <td>0</td>\n",
       "      <td>0</td>\n",
       "      <td>0</td>\n",
       "      <td>0</td>\n",
       "      <td>0</td>\n",
       "      <td>0</td>\n",
       "      <td>0</td>\n",
       "      <td>0</td>\n",
       "      <td>0</td>\n",
       "      <td>0</td>\n",
       "      <td>0</td>\n",
       "      <td>0</td>\n",
       "      <td>0</td>\n",
       "      <td>0</td>\n",
       "      <td>0</td>\n",
       "      <td>0</td>\n",
       "      <td>0</td>\n",
       "      <td>0</td>\n",
       "      <td>0</td>\n",
       "      <td>0</td>\n",
       "      <td>0</td>\n",
       "      <td>0</td>\n",
       "      <td>0</td>\n",
       "      <td>1</td>\n",
       "      <td>0</td>\n",
       "      <td>0</td>\n",
       "      <td>0</td>\n",
       "      <td>0</td>\n",
       "      <td>0</td>\n",
       "      <td>0</td>\n",
       "      <td>0</td>\n",
       "      <td>0</td>\n",
       "      <td>0</td>\n",
       "      <td>0</td>\n",
       "      <td>0</td>\n",
       "      <td>0</td>\n",
       "      <td>0</td>\n",
       "      <td>0</td>\n",
       "      <td>0</td>\n",
       "      <td>0</td>\n",
       "      <td>0</td>\n",
       "      <td>0</td>\n",
       "    </tr>\n",
       "    <tr>\n",
       "      <th>2</th>\n",
       "      <td>2948</td>\n",
       "      <td>57</td>\n",
       "      <td>19</td>\n",
       "      <td>56</td>\n",
       "      <td>44</td>\n",
       "      <td>852</td>\n",
       "      <td>202</td>\n",
       "      <td>217</td>\n",
       "      <td>163</td>\n",
       "      <td>1803</td>\n",
       "      <td>0</td>\n",
       "      <td>0</td>\n",
       "      <td>0</td>\n",
       "      <td>0</td>\n",
       "      <td>0</td>\n",
       "      <td>0</td>\n",
       "      <td>0</td>\n",
       "      <td>0</td>\n",
       "      <td>0</td>\n",
       "      <td>0</td>\n",
       "      <td>0</td>\n",
       "      <td>0</td>\n",
       "      <td>0</td>\n",
       "      <td>0</td>\n",
       "      <td>0</td>\n",
       "      <td>0</td>\n",
       "      <td>0</td>\n",
       "      <td>0</td>\n",
       "      <td>0</td>\n",
       "      <td>0</td>\n",
       "      <td>0</td>\n",
       "      <td>0</td>\n",
       "      <td>0</td>\n",
       "      <td>0</td>\n",
       "      <td>0</td>\n",
       "      <td>0</td>\n",
       "      <td>0</td>\n",
       "      <td>0</td>\n",
       "      <td>0</td>\n",
       "      <td>0</td>\n",
       "      <td>0</td>\n",
       "      <td>0</td>\n",
       "      <td>0</td>\n",
       "      <td>0</td>\n",
       "      <td>0</td>\n",
       "      <td>0</td>\n",
       "      <td>1</td>\n",
       "      <td>0</td>\n",
       "      <td>0</td>\n",
       "      <td>0</td>\n",
       "      <td>0</td>\n",
       "      <td>0</td>\n",
       "      <td>0</td>\n",
       "      <td>0</td>\n",
       "    </tr>\n",
       "    <tr>\n",
       "      <th>3</th>\n",
       "      <td>2926</td>\n",
       "      <td>119</td>\n",
       "      <td>6</td>\n",
       "      <td>158</td>\n",
       "      <td>134</td>\n",
       "      <td>2136</td>\n",
       "      <td>234</td>\n",
       "      <td>240</td>\n",
       "      <td>142</td>\n",
       "      <td>857</td>\n",
       "      <td>1</td>\n",
       "      <td>0</td>\n",
       "      <td>1</td>\n",
       "      <td>0</td>\n",
       "      <td>0</td>\n",
       "      <td>0</td>\n",
       "      <td>0</td>\n",
       "      <td>0</td>\n",
       "      <td>0</td>\n",
       "      <td>0</td>\n",
       "      <td>0</td>\n",
       "      <td>0</td>\n",
       "      <td>0</td>\n",
       "      <td>0</td>\n",
       "      <td>0</td>\n",
       "      <td>0</td>\n",
       "      <td>0</td>\n",
       "      <td>0</td>\n",
       "      <td>0</td>\n",
       "      <td>0</td>\n",
       "      <td>0</td>\n",
       "      <td>0</td>\n",
       "      <td>0</td>\n",
       "      <td>0</td>\n",
       "      <td>0</td>\n",
       "      <td>0</td>\n",
       "      <td>0</td>\n",
       "      <td>0</td>\n",
       "      <td>0</td>\n",
       "      <td>0</td>\n",
       "      <td>0</td>\n",
       "      <td>0</td>\n",
       "      <td>0</td>\n",
       "      <td>0</td>\n",
       "      <td>0</td>\n",
       "      <td>0</td>\n",
       "      <td>0</td>\n",
       "      <td>0</td>\n",
       "      <td>0</td>\n",
       "      <td>0</td>\n",
       "      <td>0</td>\n",
       "      <td>0</td>\n",
       "      <td>0</td>\n",
       "      <td>0</td>\n",
       "    </tr>\n",
       "    <tr>\n",
       "      <th>4</th>\n",
       "      <td>2690</td>\n",
       "      <td>10</td>\n",
       "      <td>4</td>\n",
       "      <td>38</td>\n",
       "      <td>108</td>\n",
       "      <td>3589</td>\n",
       "      <td>213</td>\n",
       "      <td>221</td>\n",
       "      <td>229</td>\n",
       "      <td>431</td>\n",
       "      <td>1</td>\n",
       "      <td>0</td>\n",
       "      <td>0</td>\n",
       "      <td>0</td>\n",
       "      <td>0</td>\n",
       "      <td>0</td>\n",
       "      <td>0</td>\n",
       "      <td>0</td>\n",
       "      <td>1</td>\n",
       "      <td>0</td>\n",
       "      <td>0</td>\n",
       "      <td>0</td>\n",
       "      <td>0</td>\n",
       "      <td>0</td>\n",
       "      <td>0</td>\n",
       "      <td>0</td>\n",
       "      <td>0</td>\n",
       "      <td>0</td>\n",
       "      <td>0</td>\n",
       "      <td>0</td>\n",
       "      <td>0</td>\n",
       "      <td>0</td>\n",
       "      <td>0</td>\n",
       "      <td>0</td>\n",
       "      <td>0</td>\n",
       "      <td>0</td>\n",
       "      <td>0</td>\n",
       "      <td>0</td>\n",
       "      <td>0</td>\n",
       "      <td>0</td>\n",
       "      <td>0</td>\n",
       "      <td>0</td>\n",
       "      <td>0</td>\n",
       "      <td>0</td>\n",
       "      <td>0</td>\n",
       "      <td>0</td>\n",
       "      <td>0</td>\n",
       "      <td>0</td>\n",
       "      <td>0</td>\n",
       "      <td>0</td>\n",
       "      <td>0</td>\n",
       "      <td>0</td>\n",
       "      <td>0</td>\n",
       "      <td>0</td>\n",
       "    </tr>\n",
       "  </tbody>\n",
       "</table>\n",
       "</div>\n",
       "      <button class=\"colab-df-convert\" onclick=\"convertToInteractive('df-915d861d-2b41-4c8d-a767-2236c3c27a03')\"\n",
       "              title=\"Convert this dataframe to an interactive table.\"\n",
       "              style=\"display:none;\">\n",
       "        \n",
       "  <svg xmlns=\"http://www.w3.org/2000/svg\" height=\"24px\"viewBox=\"0 0 24 24\"\n",
       "       width=\"24px\">\n",
       "    <path d=\"M0 0h24v24H0V0z\" fill=\"none\"/>\n",
       "    <path d=\"M18.56 5.44l.94 2.06.94-2.06 2.06-.94-2.06-.94-.94-2.06-.94 2.06-2.06.94zm-11 1L8.5 8.5l.94-2.06 2.06-.94-2.06-.94L8.5 2.5l-.94 2.06-2.06.94zm10 10l.94 2.06.94-2.06 2.06-.94-2.06-.94-.94-2.06-.94 2.06-2.06.94z\"/><path d=\"M17.41 7.96l-1.37-1.37c-.4-.4-.92-.59-1.43-.59-.52 0-1.04.2-1.43.59L10.3 9.45l-7.72 7.72c-.78.78-.78 2.05 0 2.83L4 21.41c.39.39.9.59 1.41.59.51 0 1.02-.2 1.41-.59l7.78-7.78 2.81-2.81c.8-.78.8-2.07 0-2.86zM5.41 20L4 18.59l7.72-7.72 1.47 1.35L5.41 20z\"/>\n",
       "  </svg>\n",
       "      </button>\n",
       "      \n",
       "  <style>\n",
       "    .colab-df-container {\n",
       "      display:flex;\n",
       "      flex-wrap:wrap;\n",
       "      gap: 12px;\n",
       "    }\n",
       "\n",
       "    .colab-df-convert {\n",
       "      background-color: #E8F0FE;\n",
       "      border: none;\n",
       "      border-radius: 50%;\n",
       "      cursor: pointer;\n",
       "      display: none;\n",
       "      fill: #1967D2;\n",
       "      height: 32px;\n",
       "      padding: 0 0 0 0;\n",
       "      width: 32px;\n",
       "    }\n",
       "\n",
       "    .colab-df-convert:hover {\n",
       "      background-color: #E2EBFA;\n",
       "      box-shadow: 0px 1px 2px rgba(60, 64, 67, 0.3), 0px 1px 3px 1px rgba(60, 64, 67, 0.15);\n",
       "      fill: #174EA6;\n",
       "    }\n",
       "\n",
       "    [theme=dark] .colab-df-convert {\n",
       "      background-color: #3B4455;\n",
       "      fill: #D2E3FC;\n",
       "    }\n",
       "\n",
       "    [theme=dark] .colab-df-convert:hover {\n",
       "      background-color: #434B5C;\n",
       "      box-shadow: 0px 1px 3px 1px rgba(0, 0, 0, 0.15);\n",
       "      filter: drop-shadow(0px 1px 2px rgba(0, 0, 0, 0.3));\n",
       "      fill: #FFFFFF;\n",
       "    }\n",
       "  </style>\n",
       "\n",
       "      <script>\n",
       "        const buttonEl =\n",
       "          document.querySelector('#df-915d861d-2b41-4c8d-a767-2236c3c27a03 button.colab-df-convert');\n",
       "        buttonEl.style.display =\n",
       "          google.colab.kernel.accessAllowed ? 'block' : 'none';\n",
       "\n",
       "        async function convertToInteractive(key) {\n",
       "          const element = document.querySelector('#df-915d861d-2b41-4c8d-a767-2236c3c27a03');\n",
       "          const dataTable =\n",
       "            await google.colab.kernel.invokeFunction('convertToInteractive',\n",
       "                                                     [key], {});\n",
       "          if (!dataTable) return;\n",
       "\n",
       "          const docLinkHtml = 'Like what you see? Visit the ' +\n",
       "            '<a target=\"_blank\" href=https://colab.research.google.com/notebooks/data_table.ipynb>data table notebook</a>'\n",
       "            + ' to learn more about interactive tables.';\n",
       "          element.innerHTML = '';\n",
       "          dataTable['output_type'] = 'display_data';\n",
       "          await google.colab.output.renderOutput(dataTable, element);\n",
       "          const docLink = document.createElement('div');\n",
       "          docLink.innerHTML = docLinkHtml;\n",
       "          element.appendChild(docLink);\n",
       "        }\n",
       "      </script>\n",
       "    </div>\n",
       "  </div>\n",
       "  "
      ],
      "text/plain": [
       "   Elevation  Aspect  Slope  Horizontal_Distance_To_Hydrology  \\\n",
       "0       2763      78     20                               377   \n",
       "1       2826     153     11                               264   \n",
       "2       2948      57     19                                56   \n",
       "3       2926     119      6                               158   \n",
       "4       2690      10      4                                38   \n",
       "\n",
       "   Vertical_Distance_To_Hydrology  Horizontal_Distance_To_Roadways  \\\n",
       "0                              88                             3104   \n",
       "1                              39                              295   \n",
       "2                              44                              852   \n",
       "3                             134                             2136   \n",
       "4                             108                             3589   \n",
       "\n",
       "   Hillshade_9am  Hillshade_Noon  Hillshade_3pm  \\\n",
       "0            218             213            195   \n",
       "1            219             238            148   \n",
       "2            202             217            163   \n",
       "3            234             240            142   \n",
       "4            213             221            229   \n",
       "\n",
       "   Horizontal_Distance_To_Fire_Points  Wilderness_Area1  Wilderness_Area2  \\\n",
       "0                                1931                 0                 0   \n",
       "1                                2557                 0                 0   \n",
       "2                                1803                 0                 0   \n",
       "3                                 857                 1                 0   \n",
       "4                                 431                 1                 0   \n",
       "\n",
       "   Wilderness_Area3  Wilderness_Area4  Soil_Type1  Soil_Type2  Soil_Type3  \\\n",
       "0                 0                 0           0           0           0   \n",
       "1                 0                 0           0           0           0   \n",
       "2                 0                 0           0           0           0   \n",
       "3                 1                 0           0           0           0   \n",
       "4                 0                 0           0           0           0   \n",
       "\n",
       "   Soil_Type4  Soil_Type5  Soil_Type6  Soil_Type7  Soil_Type8  Soil_Type9  \\\n",
       "0           0           0           0           0           0           0   \n",
       "1           0           0           0           0           0           0   \n",
       "2           0           0           0           0           0           0   \n",
       "3           0           0           0           0           0           0   \n",
       "4           0           1           0           0           0           0   \n",
       "\n",
       "   Soil_Type10  Soil_Type11  Soil_Type12  Soil_Type13  Soil_Type14  \\\n",
       "0            0            0            0            0            0   \n",
       "1            0            0            0            0            0   \n",
       "2            0            0            0            0            0   \n",
       "3            0            0            0            0            0   \n",
       "4            0            0            0            0            0   \n",
       "\n",
       "   Soil_Type15  Soil_Type16  Soil_Type17  Soil_Type18  Soil_Type19  \\\n",
       "0            0            0            0            0            0   \n",
       "1            0            0            0            0            0   \n",
       "2            0            0            0            0            0   \n",
       "3            0            0            0            0            0   \n",
       "4            0            0            0            0            0   \n",
       "\n",
       "   Soil_Type20  Soil_Type21  Soil_Type22  Soil_Type23  Soil_Type24  \\\n",
       "0            0            0            0            0            0   \n",
       "1            0            0            1            0            0   \n",
       "2            0            0            0            0            0   \n",
       "3            0            0            0            0            0   \n",
       "4            0            0            0            0            0   \n",
       "\n",
       "   Soil_Type25  Soil_Type26  Soil_Type27  Soil_Type28  Soil_Type29  \\\n",
       "0            0            0            0            0            0   \n",
       "1            0            0            0            0            0   \n",
       "2            0            0            0            0            0   \n",
       "3            0            0            0            0            0   \n",
       "4            0            0            0            0            0   \n",
       "\n",
       "   Soil_Type30  Soil_Type31  Soil_Type32  Soil_Type33  Soil_Type34  \\\n",
       "0            0            0            0            0            0   \n",
       "1            0            0            0            0            0   \n",
       "2            0            0            0            1            0   \n",
       "3            0            0            0            0            0   \n",
       "4            0            0            0            0            0   \n",
       "\n",
       "   Soil_Type35  Soil_Type36  Soil_Type37  Soil_Type38  Soil_Type39  \\\n",
       "0            0            0            0            0            0   \n",
       "1            0            0            0            0            0   \n",
       "2            0            0            0            0            0   \n",
       "3            0            0            0            0            0   \n",
       "4            0            0            0            0            0   \n",
       "\n",
       "   Soil_Type40  \n",
       "0            0  \n",
       "1            0  \n",
       "2            0  \n",
       "3            0  \n",
       "4            0  "
      ]
     },
     "execution_count": 21,
     "metadata": {},
     "output_type": "execute_result"
    }
   ],
   "source": [
    "df1_test.head()"
   ]
  },
  {
   "cell_type": "markdown",
   "metadata": {
    "id": "gxurR4Ok3EDR"
   },
   "source": [
    "### 1.3.1. Redução dos datasets"
   ]
  },
  {
   "cell_type": "code",
   "execution_count": null,
   "metadata": {
    "colab": {
     "base_uri": "https://localhost:8080/"
    },
    "executionInfo": {
     "elapsed": 13369,
     "status": "ok",
     "timestamp": 1639798310158,
     "user": {
      "displayName": "Rogério Delfim",
      "photoUrl": "https://lh3.googleusercontent.com/a-/AOh14Gj8lDYWTfZHU0U0sMojRPio71Ec7YDcSEpCaOEE=s64",
      "userId": "04235763959036945343"
     },
     "user_tz": 180
    },
    "id": "2-cXTiT03EDR",
    "outputId": "e1c6d2b0-37c4-4430-fa45-9e0d01c7326e"
   },
   "outputs": [
    {
     "name": "stdout",
     "output_type": "stream",
     "text": [
      "Mem. usage decreased to 244.14 Mb (85.5% reduction)\n",
      "Mem. usage decreased to 60.08 Mb (85.4% reduction)\n"
     ]
    }
   ],
   "source": [
    "df1_train = reduce_memory_usage(df1_train)\n",
    "df1_test  = reduce_memory_usage(df1_test)"
   ]
  },
  {
   "cell_type": "markdown",
   "metadata": {
    "id": "jLQdvpWg3EDR"
   },
   "source": [
    "<div class=\"alert alert-info\" role=\"alert\"> \n",
    " \n",
    "**`NOTA:`** <br>\n",
    "Tivemos uma redução de 85% em ambos os datasets.\n",
    "    \n",
    "</div>"
   ]
  },
  {
   "cell_type": "markdown",
   "metadata": {
    "id": "WoOaHaA53EDS"
   },
   "source": [
    "# <div class=\"alert alert-success\"> 2. Análise Exploratória de Dados (EDA)  </div> "
   ]
  },
  {
   "cell_type": "markdown",
   "metadata": {
    "id": "pFqhznWa3EDS"
   },
   "source": [
    "## 2.1. Dimensão do DataSet"
   ]
  },
  {
   "cell_type": "code",
   "execution_count": null,
   "metadata": {
    "colab": {
     "base_uri": "https://localhost:8080/"
    },
    "executionInfo": {
     "elapsed": 17,
     "status": "ok",
     "timestamp": 1639798310159,
     "user": {
      "displayName": "Rogério Delfim",
      "photoUrl": "https://lh3.googleusercontent.com/a-/AOh14Gj8lDYWTfZHU0U0sMojRPio71Ec7YDcSEpCaOEE=s64",
      "userId": "04235763959036945343"
     },
     "user_tz": 180
    },
    "id": "Xh7IbAi93EDS",
    "outputId": "cc6c44bb-67f0-4c79-c915-397bb8f7e583"
   },
   "outputs": [
    {
     "name": "stdout",
     "output_type": "stream",
     "text": [
      "TREINO\n",
      "Number of Rows: 4000000\n",
      "Number of Columns: 55\n",
      "\n",
      "TESTE\n",
      "Number of Rows: 1000000\n",
      "Number of Columns: 54\n"
     ]
    }
   ],
   "source": [
    "print('TREINO')\n",
    "print('Number of Rows: {}'.format(df1_train.shape[0]))\n",
    "print('Number of Columns: {}'.format(df1_train.shape[1]), end='\\n\\n')\n",
    "\n",
    "print('TESTE')\n",
    "print('Number of Rows: {}'.format(df1_test.shape[0]))\n",
    "print('Number of Columns: {}'.format(df1_test.shape[1]))"
   ]
  },
  {
   "cell_type": "markdown",
   "metadata": {
    "id": "IbVYbhUO3EDS"
   },
   "source": [
    "## 2.2. Tipo de dados"
   ]
  },
  {
   "cell_type": "code",
   "execution_count": null,
   "metadata": {
    "colab": {
     "base_uri": "https://localhost:8080/"
    },
    "executionInfo": {
     "elapsed": 15,
     "status": "ok",
     "timestamp": 1639798310159,
     "user": {
      "displayName": "Rogério Delfim",
      "photoUrl": "https://lh3.googleusercontent.com/a-/AOh14Gj8lDYWTfZHU0U0sMojRPio71Ec7YDcSEpCaOEE=s64",
      "userId": "04235763959036945343"
     },
     "user_tz": 180
    },
    "id": "qWJZ4EgA3EDS",
    "outputId": "b1294878-94eb-4743-f283-6a8e01f65b88"
   },
   "outputs": [
    {
     "name": "stdout",
     "output_type": "stream",
     "text": [
      "<class 'pandas.core.frame.DataFrame'>\n",
      "RangeIndex: 4000000 entries, 0 to 3999999\n",
      "Data columns (total 55 columns):\n",
      " #   Column                              Dtype\n",
      "---  ------                              -----\n",
      " 0   Elevation                           int16\n",
      " 1   Aspect                              int16\n",
      " 2   Slope                               int8 \n",
      " 3   Horizontal_Distance_To_Hydrology    int16\n",
      " 4   Vertical_Distance_To_Hydrology      int16\n",
      " 5   Horizontal_Distance_To_Roadways     int16\n",
      " 6   Hillshade_9am                       int16\n",
      " 7   Hillshade_Noon                      int16\n",
      " 8   Hillshade_3pm                       int16\n",
      " 9   Horizontal_Distance_To_Fire_Points  int16\n",
      " 10  Wilderness_Area1                    int8 \n",
      " 11  Wilderness_Area2                    int8 \n",
      " 12  Wilderness_Area3                    int8 \n",
      " 13  Wilderness_Area4                    int8 \n",
      " 14  Soil_Type1                          int8 \n",
      " 15  Soil_Type2                          int8 \n",
      " 16  Soil_Type3                          int8 \n",
      " 17  Soil_Type4                          int8 \n",
      " 18  Soil_Type5                          int8 \n",
      " 19  Soil_Type6                          int8 \n",
      " 20  Soil_Type7                          int8 \n",
      " 21  Soil_Type8                          int8 \n",
      " 22  Soil_Type9                          int8 \n",
      " 23  Soil_Type10                         int8 \n",
      " 24  Soil_Type11                         int8 \n",
      " 25  Soil_Type12                         int8 \n",
      " 26  Soil_Type13                         int8 \n",
      " 27  Soil_Type14                         int8 \n",
      " 28  Soil_Type15                         int8 \n",
      " 29  Soil_Type16                         int8 \n",
      " 30  Soil_Type17                         int8 \n",
      " 31  Soil_Type18                         int8 \n",
      " 32  Soil_Type19                         int8 \n",
      " 33  Soil_Type20                         int8 \n",
      " 34  Soil_Type21                         int8 \n",
      " 35  Soil_Type22                         int8 \n",
      " 36  Soil_Type23                         int8 \n",
      " 37  Soil_Type24                         int8 \n",
      " 38  Soil_Type25                         int8 \n",
      " 39  Soil_Type26                         int8 \n",
      " 40  Soil_Type27                         int8 \n",
      " 41  Soil_Type28                         int8 \n",
      " 42  Soil_Type29                         int8 \n",
      " 43  Soil_Type30                         int8 \n",
      " 44  Soil_Type31                         int8 \n",
      " 45  Soil_Type32                         int8 \n",
      " 46  Soil_Type33                         int8 \n",
      " 47  Soil_Type34                         int8 \n",
      " 48  Soil_Type35                         int8 \n",
      " 49  Soil_Type36                         int8 \n",
      " 50  Soil_Type37                         int8 \n",
      " 51  Soil_Type38                         int8 \n",
      " 52  Soil_Type39                         int8 \n",
      " 53  Soil_Type40                         int8 \n",
      " 54  Cover_Type                          int8 \n",
      "dtypes: int16(9), int8(46)\n",
      "memory usage: 244.1 MB\n"
     ]
    }
   ],
   "source": [
    "df1_train.info()"
   ]
  },
  {
   "cell_type": "code",
   "execution_count": null,
   "metadata": {
    "colab": {
     "base_uri": "https://localhost:8080/"
    },
    "executionInfo": {
     "elapsed": 13,
     "status": "ok",
     "timestamp": 1639798310160,
     "user": {
      "displayName": "Rogério Delfim",
      "photoUrl": "https://lh3.googleusercontent.com/a-/AOh14Gj8lDYWTfZHU0U0sMojRPio71Ec7YDcSEpCaOEE=s64",
      "userId": "04235763959036945343"
     },
     "user_tz": 180
    },
    "id": "PfwT0U0g3EDS",
    "outputId": "05a88a3e-a22b-440b-9ff7-a9559a387e5d"
   },
   "outputs": [
    {
     "name": "stdout",
     "output_type": "stream",
     "text": [
      "<class 'pandas.core.frame.DataFrame'>\n",
      "RangeIndex: 4000000 entries, 0 to 3999999\n",
      "Data columns (total 55 columns):\n",
      " #   Column                              Dtype\n",
      "---  ------                              -----\n",
      " 0   Elevation                           int16\n",
      " 1   Aspect                              int16\n",
      " 2   Slope                               int8 \n",
      " 3   Horizontal_Distance_To_Hydrology    int16\n",
      " 4   Vertical_Distance_To_Hydrology      int16\n",
      " 5   Horizontal_Distance_To_Roadways     int16\n",
      " 6   Hillshade_9am                       int16\n",
      " 7   Hillshade_Noon                      int16\n",
      " 8   Hillshade_3pm                       int16\n",
      " 9   Horizontal_Distance_To_Fire_Points  int16\n",
      " 10  Wilderness_Area1                    int8 \n",
      " 11  Wilderness_Area2                    int8 \n",
      " 12  Wilderness_Area3                    int8 \n",
      " 13  Wilderness_Area4                    int8 \n",
      " 14  Soil_Type1                          int8 \n",
      " 15  Soil_Type2                          int8 \n",
      " 16  Soil_Type3                          int8 \n",
      " 17  Soil_Type4                          int8 \n",
      " 18  Soil_Type5                          int8 \n",
      " 19  Soil_Type6                          int8 \n",
      " 20  Soil_Type7                          int8 \n",
      " 21  Soil_Type8                          int8 \n",
      " 22  Soil_Type9                          int8 \n",
      " 23  Soil_Type10                         int8 \n",
      " 24  Soil_Type11                         int8 \n",
      " 25  Soil_Type12                         int8 \n",
      " 26  Soil_Type13                         int8 \n",
      " 27  Soil_Type14                         int8 \n",
      " 28  Soil_Type15                         int8 \n",
      " 29  Soil_Type16                         int8 \n",
      " 30  Soil_Type17                         int8 \n",
      " 31  Soil_Type18                         int8 \n",
      " 32  Soil_Type19                         int8 \n",
      " 33  Soil_Type20                         int8 \n",
      " 34  Soil_Type21                         int8 \n",
      " 35  Soil_Type22                         int8 \n",
      " 36  Soil_Type23                         int8 \n",
      " 37  Soil_Type24                         int8 \n",
      " 38  Soil_Type25                         int8 \n",
      " 39  Soil_Type26                         int8 \n",
      " 40  Soil_Type27                         int8 \n",
      " 41  Soil_Type28                         int8 \n",
      " 42  Soil_Type29                         int8 \n",
      " 43  Soil_Type30                         int8 \n",
      " 44  Soil_Type31                         int8 \n",
      " 45  Soil_Type32                         int8 \n",
      " 46  Soil_Type33                         int8 \n",
      " 47  Soil_Type34                         int8 \n",
      " 48  Soil_Type35                         int8 \n",
      " 49  Soil_Type36                         int8 \n",
      " 50  Soil_Type37                         int8 \n",
      " 51  Soil_Type38                         int8 \n",
      " 52  Soil_Type39                         int8 \n",
      " 53  Soil_Type40                         int8 \n",
      " 54  Cover_Type                          int8 \n",
      "dtypes: int16(9), int8(46)\n",
      "memory usage: 244.1 MB\n"
     ]
    }
   ],
   "source": [
    "df1_train.info()"
   ]
  },
  {
   "cell_type": "code",
   "execution_count": null,
   "metadata": {
    "colab": {
     "base_uri": "https://localhost:8080/"
    },
    "executionInfo": {
     "elapsed": 9,
     "status": "ok",
     "timestamp": 1639798310160,
     "user": {
      "displayName": "Rogério Delfim",
      "photoUrl": "https://lh3.googleusercontent.com/a-/AOh14Gj8lDYWTfZHU0U0sMojRPio71Ec7YDcSEpCaOEE=s64",
      "userId": "04235763959036945343"
     },
     "user_tz": 180
    },
    "id": "WasdxyY83EDT",
    "outputId": "46616e32-a2b2-4781-a7ca-04b147b388b9"
   },
   "outputs": [
    {
     "name": "stdout",
     "output_type": "stream",
     "text": [
      "=== For Pandas ==========\n",
      "int8     46\n",
      "int16     9\n",
      "dtype: int64\n",
      "\n",
      "=== For Datatable =======\n",
      "int8     45\n",
      "int16     9\n",
      "dtype: int64\n"
     ]
    }
   ],
   "source": [
    "print(f'{3*\"=\"} For Pandas {10*\"=\"}\\n{(df1_train.dtypes).value_counts()}')\n",
    "print(f'\\n{3*\"=\"} For Datatable {7*\"=\"}\\n{(df1_test.dtypes).value_counts()}')"
   ]
  },
  {
   "cell_type": "markdown",
   "metadata": {
    "id": "v9eqrfLE3EDT"
   },
   "source": [
    "## 2.3. Identificar NA"
   ]
  },
  {
   "cell_type": "code",
   "execution_count": null,
   "metadata": {
    "colab": {
     "base_uri": "https://localhost:8080/",
     "height": 84
    },
    "executionInfo": {
     "elapsed": 1025,
     "status": "ok",
     "timestamp": 1639798312810,
     "user": {
      "displayName": "Rogério Delfim",
      "photoUrl": "https://lh3.googleusercontent.com/a-/AOh14Gj8lDYWTfZHU0U0sMojRPio71Ec7YDcSEpCaOEE=s64",
      "userId": "04235763959036945343"
     },
     "user_tz": 180
    },
    "id": "x2fit_153EDT",
    "outputId": "df9d7b19-cfba-4e1c-83b6-93a5b895a66d"
   },
   "outputs": [
    {
     "name": "stdout",
     "output_type": "stream",
     "text": [
      "Seu dataframe selecionado tem 55 colunas e 4000000 linhas. \n",
      "Existem 0 colunas com valores ausentes.\n"
     ]
    },
    {
     "data": {
      "text/html": [
       "<style  type=\"text/css\" >\n",
       "</style><table id=\"T_0a07cae6_5fb3_11ec_beaa_0242ac1c0002\" class=\"dataframe\"><thead>    <tr>        <th class=\"blank level0\" ></th>        <th class=\"col_heading level0 col0\" >index</th>        <th class=\"col_heading level0 col1\" >Valores ausentes</th>        <th class=\"col_heading level0 col2\" >% de valores totais</th>        <th class=\"col_heading level0 col3\" >Tipo de dados</th>    </tr></thead><tbody>\n",
       "        </tbody></table>"
      ],
      "text/plain": [
       "<pandas.io.formats.style.Styler at 0x7f4b9b7a81d0>"
      ]
     },
     "execution_count": 27,
     "metadata": {},
     "output_type": "execute_result"
    }
   ],
   "source": [
    "missing = missing_zero_values_table(df1_train)\n",
    "missing[:].style.background_gradient(cmap='Reds')"
   ]
  },
  {
   "cell_type": "code",
   "execution_count": null,
   "metadata": {
    "colab": {
     "base_uri": "https://localhost:8080/",
     "height": 84
    },
    "executionInfo": {
     "elapsed": 21,
     "status": "ok",
     "timestamp": 1639798312812,
     "user": {
      "displayName": "Rogério Delfim",
      "photoUrl": "https://lh3.googleusercontent.com/a-/AOh14Gj8lDYWTfZHU0U0sMojRPio71Ec7YDcSEpCaOEE=s64",
      "userId": "04235763959036945343"
     },
     "user_tz": 180
    },
    "id": "KPKe5ZiJ3EDW",
    "outputId": "014d71c4-7cd1-4b84-f066-2e5d1473c377"
   },
   "outputs": [
    {
     "name": "stdout",
     "output_type": "stream",
     "text": [
      "Seu dataframe selecionado tem 54 colunas e 1000000 linhas. \n",
      "Existem 0 colunas com valores ausentes.\n"
     ]
    },
    {
     "data": {
      "text/html": [
       "<style  type=\"text/css\" >\n",
       "</style><table id=\"T_0a29e1bc_5fb3_11ec_beaa_0242ac1c0002\" class=\"dataframe\"><thead>    <tr>        <th class=\"blank level0\" ></th>        <th class=\"col_heading level0 col0\" >index</th>        <th class=\"col_heading level0 col1\" >Valores ausentes</th>        <th class=\"col_heading level0 col2\" >% de valores totais</th>        <th class=\"col_heading level0 col3\" >Tipo de dados</th>    </tr></thead><tbody>\n",
       "        </tbody></table>"
      ],
      "text/plain": [
       "<pandas.io.formats.style.Styler at 0x7f4b9a68c750>"
      ]
     },
     "execution_count": 28,
     "metadata": {},
     "output_type": "execute_result"
    }
   ],
   "source": [
    "missing = missing_zero_values_table(df1_test)\n",
    "missing[:].style.background_gradient(cmap='Reds')"
   ]
  },
  {
   "cell_type": "markdown",
   "metadata": {
    "id": "qB6Pwjd_3EDW"
   },
   "source": [
    "<div class=\"alert alert-info\" role=\"alert\"> \n",
    "    \n",
    "**`NOTA:`** <br>\n",
    "\n",
    "Não temos dados faltantes.\n",
    "    \n",
    "</div>"
   ]
  },
  {
   "cell_type": "markdown",
   "metadata": {
    "id": "5rLwDaIx3EDW"
   },
   "source": [
    "## 2.4 Estatística Descritiva\n",
    "Abaixo estão as estatísticas básicas para cada variável que contém informações sobre contagem, média, desvio padrão, mínimo, 1º quartil, mediana, 3º quartil e máximo."
   ]
  },
  {
   "cell_type": "code",
   "execution_count": null,
   "metadata": {
    "colab": {
     "base_uri": "https://localhost:8080/"
    },
    "executionInfo": {
     "elapsed": 4,
     "status": "ok",
     "timestamp": 1639798315134,
     "user": {
      "displayName": "Rogério Delfim",
      "photoUrl": "https://lh3.googleusercontent.com/a-/AOh14Gj8lDYWTfZHU0U0sMojRPio71Ec7YDcSEpCaOEE=s64",
      "userId": "04235763959036945343"
     },
     "user_tz": 180
    },
    "id": "UBRPqEjVveGv",
    "outputId": "7c21dc6c-f423-4be1-cce5-8b29450e04fb"
   },
   "outputs": [
    {
     "name": "stdout",
     "output_type": "stream",
     "text": [
      "Temos 11 variávies numéricas e 44 categóricas.\n"
     ]
    }
   ],
   "source": [
    "feature_float = []\n",
    "feature_cat   = df1_test.filter(regex=r'Wilderness_Area').columns.to_list() + \\\n",
    "                df1_test.filter(regex=r'Soil_Type').columns.to_list()\n",
    "\n",
    "for col in df1_test.columns:\n",
    "    if col not in feature_cat: \n",
    "        feature_float.append(col)   \n",
    "\n",
    "feature_float_test = feature_float.copy()\n",
    "feature_float.append('Cover_Type')\n",
    "\n",
    "msg = 'Temos {} variávies numéricas e {} categóricas.'\n",
    "print(msg.format(len(feature_float), len(feature_cat)))"
   ]
  },
  {
   "cell_type": "markdown",
   "metadata": {
    "id": "7qwxDFBv3EDX"
   },
   "source": [
    "### 2.4.1 Atributos numéricos"
   ]
  },
  {
   "cell_type": "markdown",
   "metadata": {
    "id": "9PKbyD_p3EDX"
   },
   "source": [
    "- Train"
   ]
  },
  {
   "cell_type": "code",
   "execution_count": null,
   "metadata": {
    "colab": {
     "base_uri": "https://localhost:8080/",
     "height": 394
    },
    "executionInfo": {
     "elapsed": 1532,
     "status": "ok",
     "timestamp": 1639796525507,
     "user": {
      "displayName": "Rogério Delfim",
      "photoUrl": "https://lh3.googleusercontent.com/a-/AOh14Gj8lDYWTfZHU0U0sMojRPio71Ec7YDcSEpCaOEE=s64",
      "userId": "04235763959036945343"
     },
     "user_tz": 180
    },
    "id": "6NTHpUNo3EDX",
    "outputId": "b3bc3ca6-73bf-484f-bc3d-abdc8c04fb65"
   },
   "outputs": [
    {
     "data": {
      "text/html": [
       "<style  type=\"text/css\" >\n",
       "#T_e0b178a8_5fae_11ec_acfa_0242ac1c0002row0_col0,#T_e0b178a8_5fae_11ec_acfa_0242ac1c0002row1_col0,#T_e0b178a8_5fae_11ec_acfa_0242ac1c0002row2_col0,#T_e0b178a8_5fae_11ec_acfa_0242ac1c0002row2_col4,#T_e0b178a8_5fae_11ec_acfa_0242ac1c0002row3_col0,#T_e0b178a8_5fae_11ec_acfa_0242ac1c0002row4_col0,#T_e0b178a8_5fae_11ec_acfa_0242ac1c0002row4_col3,#T_e0b178a8_5fae_11ec_acfa_0242ac1c0002row4_col4,#T_e0b178a8_5fae_11ec_acfa_0242ac1c0002row5_col0,#T_e0b178a8_5fae_11ec_acfa_0242ac1c0002row6_col0,#T_e0b178a8_5fae_11ec_acfa_0242ac1c0002row7_col0,#T_e0b178a8_5fae_11ec_acfa_0242ac1c0002row8_col0,#T_e0b178a8_5fae_11ec_acfa_0242ac1c0002row9_col0,#T_e0b178a8_5fae_11ec_acfa_0242ac1c0002row10_col0,#T_e0b178a8_5fae_11ec_acfa_0242ac1c0002row10_col1,#T_e0b178a8_5fae_11ec_acfa_0242ac1c0002row10_col2,#T_e0b178a8_5fae_11ec_acfa_0242ac1c0002row10_col4,#T_e0b178a8_5fae_11ec_acfa_0242ac1c0002row10_col5,#T_e0b178a8_5fae_11ec_acfa_0242ac1c0002row10_col6,#T_e0b178a8_5fae_11ec_acfa_0242ac1c0002row10_col7{\n",
       "            background-color:  #ffffcc;\n",
       "            color:  #000000;\n",
       "        }#T_e0b178a8_5fae_11ec_acfa_0242ac1c0002row0_col1,#T_e0b178a8_5fae_11ec_acfa_0242ac1c0002row0_col3,#T_e0b178a8_5fae_11ec_acfa_0242ac1c0002row0_col4,#T_e0b178a8_5fae_11ec_acfa_0242ac1c0002row0_col5,#T_e0b178a8_5fae_11ec_acfa_0242ac1c0002row0_col6,#T_e0b178a8_5fae_11ec_acfa_0242ac1c0002row5_col2,#T_e0b178a8_5fae_11ec_acfa_0242ac1c0002row9_col7{\n",
       "            background-color:  #800026;\n",
       "            color:  #f1f1f1;\n",
       "        }#T_e0b178a8_5fae_11ec_acfa_0242ac1c0002row0_col2{\n",
       "            background-color:  #fede80;\n",
       "            color:  #000000;\n",
       "        }#T_e0b178a8_5fae_11ec_acfa_0242ac1c0002row0_col7{\n",
       "            background-color:  #fd7836;\n",
       "            color:  #000000;\n",
       "        }#T_e0b178a8_5fae_11ec_acfa_0242ac1c0002row1_col1,#T_e0b178a8_5fae_11ec_acfa_0242ac1c0002row1_col7,#T_e0b178a8_5fae_11ec_acfa_0242ac1c0002row8_col5{\n",
       "            background-color:  #fff8bb;\n",
       "            color:  #000000;\n",
       "        }#T_e0b178a8_5fae_11ec_acfa_0242ac1c0002row1_col2{\n",
       "            background-color:  #fff3af;\n",
       "            color:  #000000;\n",
       "        }#T_e0b178a8_5fae_11ec_acfa_0242ac1c0002row1_col3{\n",
       "            background-color:  #ffec9d;\n",
       "            color:  #000000;\n",
       "        }#T_e0b178a8_5fae_11ec_acfa_0242ac1c0002row1_col4,#T_e0b178a8_5fae_11ec_acfa_0242ac1c0002row6_col2{\n",
       "            background-color:  #fffcc5;\n",
       "            color:  #000000;\n",
       "        }#T_e0b178a8_5fae_11ec_acfa_0242ac1c0002row1_col5,#T_e0b178a8_5fae_11ec_acfa_0242ac1c0002row3_col4,#T_e0b178a8_5fae_11ec_acfa_0242ac1c0002row8_col4{\n",
       "            background-color:  #fff9be;\n",
       "            color:  #000000;\n",
       "        }#T_e0b178a8_5fae_11ec_acfa_0242ac1c0002row1_col6,#T_e0b178a8_5fae_11ec_acfa_0242ac1c0002row7_col4,#T_e0b178a8_5fae_11ec_acfa_0242ac1c0002row7_col5{\n",
       "            background-color:  #fff4b2;\n",
       "            color:  #000000;\n",
       "        }#T_e0b178a8_5fae_11ec_acfa_0242ac1c0002row2_col1,#T_e0b178a8_5fae_11ec_acfa_0242ac1c0002row2_col2,#T_e0b178a8_5fae_11ec_acfa_0242ac1c0002row2_col5,#T_e0b178a8_5fae_11ec_acfa_0242ac1c0002row2_col6,#T_e0b178a8_5fae_11ec_acfa_0242ac1c0002row2_col7{\n",
       "            background-color:  #fffecb;\n",
       "            color:  #000000;\n",
       "        }#T_e0b178a8_5fae_11ec_acfa_0242ac1c0002row2_col3,#T_e0b178a8_5fae_11ec_acfa_0242ac1c0002row6_col3,#T_e0b178a8_5fae_11ec_acfa_0242ac1c0002row10_col3{\n",
       "            background-color:  #ffe998;\n",
       "            color:  #000000;\n",
       "        }#T_e0b178a8_5fae_11ec_acfa_0242ac1c0002row3_col1{\n",
       "            background-color:  #fff2ac;\n",
       "            color:  #000000;\n",
       "        }#T_e0b178a8_5fae_11ec_acfa_0242ac1c0002row3_col2{\n",
       "            background-color:  #ffe691;\n",
       "            color:  #000000;\n",
       "        }#T_e0b178a8_5fae_11ec_acfa_0242ac1c0002row3_col3{\n",
       "            background-color:  #fff0a7;\n",
       "            color:  #000000;\n",
       "        }#T_e0b178a8_5fae_11ec_acfa_0242ac1c0002row3_col5,#T_e0b178a8_5fae_11ec_acfa_0242ac1c0002row6_col1,#T_e0b178a8_5fae_11ec_acfa_0242ac1c0002row6_col4,#T_e0b178a8_5fae_11ec_acfa_0242ac1c0002row6_col5,#T_e0b178a8_5fae_11ec_acfa_0242ac1c0002row6_col6,#T_e0b178a8_5fae_11ec_acfa_0242ac1c0002row7_col1,#T_e0b178a8_5fae_11ec_acfa_0242ac1c0002row7_col6{\n",
       "            background-color:  #fff5b3;\n",
       "            color:  #000000;\n",
       "        }#T_e0b178a8_5fae_11ec_acfa_0242ac1c0002row3_col6{\n",
       "            background-color:  #ffefa5;\n",
       "            color:  #000000;\n",
       "        }#T_e0b178a8_5fae_11ec_acfa_0242ac1c0002row3_col7{\n",
       "            background-color:  #fee288;\n",
       "            color:  #000000;\n",
       "        }#T_e0b178a8_5fae_11ec_acfa_0242ac1c0002row4_col1,#T_e0b178a8_5fae_11ec_acfa_0242ac1c0002row7_col2,#T_e0b178a8_5fae_11ec_acfa_0242ac1c0002row9_col3{\n",
       "            background-color:  #fffdc6;\n",
       "            color:  #000000;\n",
       "        }#T_e0b178a8_5fae_11ec_acfa_0242ac1c0002row4_col2,#T_e0b178a8_5fae_11ec_acfa_0242ac1c0002row8_col6{\n",
       "            background-color:  #fff8ba;\n",
       "            color:  #000000;\n",
       "        }#T_e0b178a8_5fae_11ec_acfa_0242ac1c0002row4_col5{\n",
       "            background-color:  #fffec9;\n",
       "            color:  #000000;\n",
       "        }#T_e0b178a8_5fae_11ec_acfa_0242ac1c0002row4_col6{\n",
       "            background-color:  #fffcc4;\n",
       "            color:  #000000;\n",
       "        }#T_e0b178a8_5fae_11ec_acfa_0242ac1c0002row4_col7{\n",
       "            background-color:  #fff4b0;\n",
       "            color:  #000000;\n",
       "        }#T_e0b178a8_5fae_11ec_acfa_0242ac1c0002row5_col1{\n",
       "            background-color:  #fc5f2f;\n",
       "            color:  #000000;\n",
       "        }#T_e0b178a8_5fae_11ec_acfa_0242ac1c0002row5_col3{\n",
       "            background-color:  #fffdc8;\n",
       "            color:  #000000;\n",
       "        }#T_e0b178a8_5fae_11ec_acfa_0242ac1c0002row5_col4{\n",
       "            background-color:  #feca66;\n",
       "            color:  #000000;\n",
       "        }#T_e0b178a8_5fae_11ec_acfa_0242ac1c0002row5_col5{\n",
       "            background-color:  #fd923e;\n",
       "            color:  #000000;\n",
       "        }#T_e0b178a8_5fae_11ec_acfa_0242ac1c0002row5_col6{\n",
       "            background-color:  #e61f1d;\n",
       "            color:  #f1f1f1;\n",
       "        }#T_e0b178a8_5fae_11ec_acfa_0242ac1c0002row5_col7{\n",
       "            background-color:  #970026;\n",
       "            color:  #f1f1f1;\n",
       "        }#T_e0b178a8_5fae_11ec_acfa_0242ac1c0002row6_col7{\n",
       "            background-color:  #fffac0;\n",
       "            color:  #000000;\n",
       "        }#T_e0b178a8_5fae_11ec_acfa_0242ac1c0002row7_col3{\n",
       "            background-color:  #ffe590;\n",
       "            color:  #000000;\n",
       "        }#T_e0b178a8_5fae_11ec_acfa_0242ac1c0002row7_col7,#T_e0b178a8_5fae_11ec_acfa_0242ac1c0002row8_col2,#T_e0b178a8_5fae_11ec_acfa_0242ac1c0002row8_col7{\n",
       "            background-color:  #fffac1;\n",
       "            color:  #000000;\n",
       "        }#T_e0b178a8_5fae_11ec_acfa_0242ac1c0002row8_col1{\n",
       "            background-color:  #fff9bd;\n",
       "            color:  #000000;\n",
       "        }#T_e0b178a8_5fae_11ec_acfa_0242ac1c0002row8_col3{\n",
       "            background-color:  #ffeda0;\n",
       "            color:  #000000;\n",
       "        }#T_e0b178a8_5fae_11ec_acfa_0242ac1c0002row9_col1{\n",
       "            background-color:  #fd7e38;\n",
       "            color:  #000000;\n",
       "        }#T_e0b178a8_5fae_11ec_acfa_0242ac1c0002row9_col2{\n",
       "            background-color:  #c20325;\n",
       "            color:  #f1f1f1;\n",
       "        }#T_e0b178a8_5fae_11ec_acfa_0242ac1c0002row9_col4{\n",
       "            background-color:  #fecf6b;\n",
       "            color:  #000000;\n",
       "        }#T_e0b178a8_5fae_11ec_acfa_0242ac1c0002row9_col5{\n",
       "            background-color:  #fd9941;\n",
       "            color:  #000000;\n",
       "        }#T_e0b178a8_5fae_11ec_acfa_0242ac1c0002row9_col6{\n",
       "            background-color:  #f84528;\n",
       "            color:  #000000;\n",
       "        }</style><table id=\"T_e0b178a8_5fae_11ec_acfa_0242ac1c0002\" class=\"dataframe\"><thead>    <tr>        <th class=\"blank level0\" ></th>        <th class=\"col_heading level0 col0\" >count</th>        <th class=\"col_heading level0 col1\" >mean</th>        <th class=\"col_heading level0 col2\" >std</th>        <th class=\"col_heading level0 col3\" >min</th>        <th class=\"col_heading level0 col4\" >25%</th>        <th class=\"col_heading level0 col5\" >50%</th>        <th class=\"col_heading level0 col6\" >75%</th>        <th class=\"col_heading level0 col7\" >max</th>    </tr></thead><tbody>\n",
       "                <tr>\n",
       "                        <th id=\"T_e0b178a8_5fae_11ec_acfa_0242ac1c0002level0_row0\" class=\"row_heading level0 row0\" >Elevation</th>\n",
       "                        <td id=\"T_e0b178a8_5fae_11ec_acfa_0242ac1c0002row0_col0\" class=\"data row0 col0\" >4000000.000000</td>\n",
       "                        <td id=\"T_e0b178a8_5fae_11ec_acfa_0242ac1c0002row0_col1\" class=\"data row0 col1\" >2980.191660</td>\n",
       "                        <td id=\"T_e0b178a8_5fae_11ec_acfa_0242ac1c0002row0_col2\" class=\"data row0 col2\" >289.048167</td>\n",
       "                        <td id=\"T_e0b178a8_5fae_11ec_acfa_0242ac1c0002row0_col3\" class=\"data row0 col3\" >1773.000000</td>\n",
       "                        <td id=\"T_e0b178a8_5fae_11ec_acfa_0242ac1c0002row0_col4\" class=\"data row0 col4\" >2760.000000</td>\n",
       "                        <td id=\"T_e0b178a8_5fae_11ec_acfa_0242ac1c0002row0_col5\" class=\"data row0 col5\" >2966.000000</td>\n",
       "                        <td id=\"T_e0b178a8_5fae_11ec_acfa_0242ac1c0002row0_col6\" class=\"data row0 col6\" >3217.000000</td>\n",
       "                        <td id=\"T_e0b178a8_5fae_11ec_acfa_0242ac1c0002row0_col7\" class=\"data row0 col7\" >4383.000000</td>\n",
       "            </tr>\n",
       "            <tr>\n",
       "                        <th id=\"T_e0b178a8_5fae_11ec_acfa_0242ac1c0002level0_row1\" class=\"row_heading level0 row1\" >Aspect</th>\n",
       "                        <td id=\"T_e0b178a8_5fae_11ec_acfa_0242ac1c0002row1_col0\" class=\"data row1 col0\" >4000000.000000</td>\n",
       "                        <td id=\"T_e0b178a8_5fae_11ec_acfa_0242ac1c0002row1_col1\" class=\"data row1 col1\" >151.585671</td>\n",
       "                        <td id=\"T_e0b178a8_5fae_11ec_acfa_0242ac1c0002row1_col2\" class=\"data row1 col2\" >109.961122</td>\n",
       "                        <td id=\"T_e0b178a8_5fae_11ec_acfa_0242ac1c0002row1_col3\" class=\"data row1 col3\" >-33.000000</td>\n",
       "                        <td id=\"T_e0b178a8_5fae_11ec_acfa_0242ac1c0002row1_col4\" class=\"data row1 col4\" >60.000000</td>\n",
       "                        <td id=\"T_e0b178a8_5fae_11ec_acfa_0242ac1c0002row1_col5\" class=\"data row1 col5\" >123.000000</td>\n",
       "                        <td id=\"T_e0b178a8_5fae_11ec_acfa_0242ac1c0002row1_col6\" class=\"data row1 col6\" >247.000000</td>\n",
       "                        <td id=\"T_e0b178a8_5fae_11ec_acfa_0242ac1c0002row1_col7\" class=\"data row1 col7\" >407.000000</td>\n",
       "            </tr>\n",
       "            <tr>\n",
       "                        <th id=\"T_e0b178a8_5fae_11ec_acfa_0242ac1c0002level0_row2\" class=\"row_heading level0 row2\" >Slope</th>\n",
       "                        <td id=\"T_e0b178a8_5fae_11ec_acfa_0242ac1c0002row2_col0\" class=\"data row2 col0\" >4000000.000000</td>\n",
       "                        <td id=\"T_e0b178a8_5fae_11ec_acfa_0242ac1c0002row2_col1\" class=\"data row2 col1\" >15.097537</td>\n",
       "                        <td id=\"T_e0b178a8_5fae_11ec_acfa_0242ac1c0002row2_col2\" class=\"data row2 col2\" >8.546731</td>\n",
       "                        <td id=\"T_e0b178a8_5fae_11ec_acfa_0242ac1c0002row2_col3\" class=\"data row2 col3\" >-3.000000</td>\n",
       "                        <td id=\"T_e0b178a8_5fae_11ec_acfa_0242ac1c0002row2_col4\" class=\"data row2 col4\" >9.000000</td>\n",
       "                        <td id=\"T_e0b178a8_5fae_11ec_acfa_0242ac1c0002row2_col5\" class=\"data row2 col5\" >14.000000</td>\n",
       "                        <td id=\"T_e0b178a8_5fae_11ec_acfa_0242ac1c0002row2_col6\" class=\"data row2 col6\" >20.000000</td>\n",
       "                        <td id=\"T_e0b178a8_5fae_11ec_acfa_0242ac1c0002row2_col7\" class=\"data row2 col7\" >64.000000</td>\n",
       "            </tr>\n",
       "            <tr>\n",
       "                        <th id=\"T_e0b178a8_5fae_11ec_acfa_0242ac1c0002level0_row3\" class=\"row_heading level0 row3\" >Horizontal_Distance_To_Hydrology</th>\n",
       "                        <td id=\"T_e0b178a8_5fae_11ec_acfa_0242ac1c0002row3_col0\" class=\"data row3 col0\" >4000000.000000</td>\n",
       "                        <td id=\"T_e0b178a8_5fae_11ec_acfa_0242ac1c0002row3_col1\" class=\"data row3 col1\" >271.315436</td>\n",
       "                        <td id=\"T_e0b178a8_5fae_11ec_acfa_0242ac1c0002row3_col2\" class=\"data row3 col2\" >226.549680</td>\n",
       "                        <td id=\"T_e0b178a8_5fae_11ec_acfa_0242ac1c0002row3_col3\" class=\"data row3 col3\" >-92.000000</td>\n",
       "                        <td id=\"T_e0b178a8_5fae_11ec_acfa_0242ac1c0002row3_col4\" class=\"data row3 col4\" >110.000000</td>\n",
       "                        <td id=\"T_e0b178a8_5fae_11ec_acfa_0242ac1c0002row3_col5\" class=\"data row3 col5\" >213.000000</td>\n",
       "                        <td id=\"T_e0b178a8_5fae_11ec_acfa_0242ac1c0002row3_col6\" class=\"data row3 col6\" >361.000000</td>\n",
       "                        <td id=\"T_e0b178a8_5fae_11ec_acfa_0242ac1c0002row3_col7\" class=\"data row3 col7\" >1602.000000</td>\n",
       "            </tr>\n",
       "            <tr>\n",
       "                        <th id=\"T_e0b178a8_5fae_11ec_acfa_0242ac1c0002level0_row4\" class=\"row_heading level0 row4\" >Vertical_Distance_To_Hydrology</th>\n",
       "                        <td id=\"T_e0b178a8_5fae_11ec_acfa_0242ac1c0002row4_col0\" class=\"data row4 col0\" >4000000.000000</td>\n",
       "                        <td id=\"T_e0b178a8_5fae_11ec_acfa_0242ac1c0002row4_col1\" class=\"data row4 col1\" >51.662621</td>\n",
       "                        <td id=\"T_e0b178a8_5fae_11ec_acfa_0242ac1c0002row4_col2\" class=\"data row4 col2\" >68.215966</td>\n",
       "                        <td id=\"T_e0b178a8_5fae_11ec_acfa_0242ac1c0002row4_col3\" class=\"data row4 col3\" >-317.000000</td>\n",
       "                        <td id=\"T_e0b178a8_5fae_11ec_acfa_0242ac1c0002row4_col4\" class=\"data row4 col4\" >4.000000</td>\n",
       "                        <td id=\"T_e0b178a8_5fae_11ec_acfa_0242ac1c0002row4_col5\" class=\"data row4 col5\" >31.000000</td>\n",
       "                        <td id=\"T_e0b178a8_5fae_11ec_acfa_0242ac1c0002row4_col6\" class=\"data row4 col6\" >78.000000</td>\n",
       "                        <td id=\"T_e0b178a8_5fae_11ec_acfa_0242ac1c0002row4_col7\" class=\"data row4 col7\" >647.000000</td>\n",
       "            </tr>\n",
       "            <tr>\n",
       "                        <th id=\"T_e0b178a8_5fae_11ec_acfa_0242ac1c0002level0_row5\" class=\"row_heading level0 row5\" >Horizontal_Distance_To_Roadways</th>\n",
       "                        <td id=\"T_e0b178a8_5fae_11ec_acfa_0242ac1c0002row5_col0\" class=\"data row5 col0\" >4000000.000000</td>\n",
       "                        <td id=\"T_e0b178a8_5fae_11ec_acfa_0242ac1c0002row5_col1\" class=\"data row5 col1\" >1766.641630</td>\n",
       "                        <td id=\"T_e0b178a8_5fae_11ec_acfa_0242ac1c0002row5_col2\" class=\"data row5 col2\" >1315.609890</td>\n",
       "                        <td id=\"T_e0b178a8_5fae_11ec_acfa_0242ac1c0002row5_col3\" class=\"data row5 col3\" >-287.000000</td>\n",
       "                        <td id=\"T_e0b178a8_5fae_11ec_acfa_0242ac1c0002row5_col4\" class=\"data row5 col4\" >822.000000</td>\n",
       "                        <td id=\"T_e0b178a8_5fae_11ec_acfa_0242ac1c0002row5_col5\" class=\"data row5 col5\" >1436.000000</td>\n",
       "                        <td id=\"T_e0b178a8_5fae_11ec_acfa_0242ac1c0002row5_col6\" class=\"data row5 col6\" >2365.000000</td>\n",
       "                        <td id=\"T_e0b178a8_5fae_11ec_acfa_0242ac1c0002row5_col7\" class=\"data row5 col7\" >7666.000000</td>\n",
       "            </tr>\n",
       "            <tr>\n",
       "                        <th id=\"T_e0b178a8_5fae_11ec_acfa_0242ac1c0002level0_row6\" class=\"row_heading level0 row6\" >Hillshade_9am</th>\n",
       "                        <td id=\"T_e0b178a8_5fae_11ec_acfa_0242ac1c0002row6_col0\" class=\"data row6 col0\" >4000000.000000</td>\n",
       "                        <td id=\"T_e0b178a8_5fae_11ec_acfa_0242ac1c0002row6_col1\" class=\"data row6 col1\" >211.837542</td>\n",
       "                        <td id=\"T_e0b178a8_5fae_11ec_acfa_0242ac1c0002row6_col2\" class=\"data row6 col2\" >30.759956</td>\n",
       "                        <td id=\"T_e0b178a8_5fae_11ec_acfa_0242ac1c0002row6_col3\" class=\"data row6 col3\" >-4.000000</td>\n",
       "                        <td id=\"T_e0b178a8_5fae_11ec_acfa_0242ac1c0002row6_col4\" class=\"data row6 col4\" >198.000000</td>\n",
       "                        <td id=\"T_e0b178a8_5fae_11ec_acfa_0242ac1c0002row6_col5\" class=\"data row6 col5\" >218.000000</td>\n",
       "                        <td id=\"T_e0b178a8_5fae_11ec_acfa_0242ac1c0002row6_col6\" class=\"data row6 col6\" >233.000000</td>\n",
       "                        <td id=\"T_e0b178a8_5fae_11ec_acfa_0242ac1c0002row6_col7\" class=\"data row6 col7\" >301.000000</td>\n",
       "            </tr>\n",
       "            <tr>\n",
       "                        <th id=\"T_e0b178a8_5fae_11ec_acfa_0242ac1c0002level0_row7\" class=\"row_heading level0 row7\" >Hillshade_Noon</th>\n",
       "                        <td id=\"T_e0b178a8_5fae_11ec_acfa_0242ac1c0002row7_col0\" class=\"data row7 col0\" >4000000.000000</td>\n",
       "                        <td id=\"T_e0b178a8_5fae_11ec_acfa_0242ac1c0002row7_col1\" class=\"data row7 col1\" >221.061441</td>\n",
       "                        <td id=\"T_e0b178a8_5fae_11ec_acfa_0242ac1c0002row7_col2\" class=\"data row7 col2\" >22.231335</td>\n",
       "                        <td id=\"T_e0b178a8_5fae_11ec_acfa_0242ac1c0002row7_col3\" class=\"data row7 col3\" >49.000000</td>\n",
       "                        <td id=\"T_e0b178a8_5fae_11ec_acfa_0242ac1c0002row7_col4\" class=\"data row7 col4\" >210.000000</td>\n",
       "                        <td id=\"T_e0b178a8_5fae_11ec_acfa_0242ac1c0002row7_col5\" class=\"data row7 col5\" >224.000000</td>\n",
       "                        <td id=\"T_e0b178a8_5fae_11ec_acfa_0242ac1c0002row7_col6\" class=\"data row7 col6\" >237.000000</td>\n",
       "                        <td id=\"T_e0b178a8_5fae_11ec_acfa_0242ac1c0002row7_col7\" class=\"data row7 col7\" >279.000000</td>\n",
       "            </tr>\n",
       "            <tr>\n",
       "                        <th id=\"T_e0b178a8_5fae_11ec_acfa_0242ac1c0002level0_row8\" class=\"row_heading level0 row8\" >Hillshade_3pm</th>\n",
       "                        <td id=\"T_e0b178a8_5fae_11ec_acfa_0242ac1c0002row8_col0\" class=\"data row8 col0\" >4000000.000000</td>\n",
       "                        <td id=\"T_e0b178a8_5fae_11ec_acfa_0242ac1c0002row8_col1\" class=\"data row8 col1\" >140.810874</td>\n",
       "                        <td id=\"T_e0b178a8_5fae_11ec_acfa_0242ac1c0002row8_col2\" class=\"data row8 col2\" >43.698639</td>\n",
       "                        <td id=\"T_e0b178a8_5fae_11ec_acfa_0242ac1c0002row8_col3\" class=\"data row8 col3\" >-53.000000</td>\n",
       "                        <td id=\"T_e0b178a8_5fae_11ec_acfa_0242ac1c0002row8_col4\" class=\"data row8 col4\" >115.000000</td>\n",
       "                        <td id=\"T_e0b178a8_5fae_11ec_acfa_0242ac1c0002row8_col5\" class=\"data row8 col5\" >142.000000</td>\n",
       "                        <td id=\"T_e0b178a8_5fae_11ec_acfa_0242ac1c0002row8_col6\" class=\"data row8 col6\" >169.000000</td>\n",
       "                        <td id=\"T_e0b178a8_5fae_11ec_acfa_0242ac1c0002row8_col7\" class=\"data row8 col7\" >272.000000</td>\n",
       "            </tr>\n",
       "            <tr>\n",
       "                        <th id=\"T_e0b178a8_5fae_11ec_acfa_0242ac1c0002level0_row9\" class=\"row_heading level0 row9\" >Horizontal_Distance_To_Fire_Points</th>\n",
       "                        <td id=\"T_e0b178a8_5fae_11ec_acfa_0242ac1c0002row9_col0\" class=\"data row9 col0\" >4000000.000000</td>\n",
       "                        <td id=\"T_e0b178a8_5fae_11ec_acfa_0242ac1c0002row9_col1\" class=\"data row9 col1\" >1581.406810</td>\n",
       "                        <td id=\"T_e0b178a8_5fae_11ec_acfa_0242ac1c0002row9_col2\" class=\"data row9 col2\" >1127.616169</td>\n",
       "                        <td id=\"T_e0b178a8_5fae_11ec_acfa_0242ac1c0002row9_col3\" class=\"data row9 col3\" >-277.000000</td>\n",
       "                        <td id=\"T_e0b178a8_5fae_11ec_acfa_0242ac1c0002row9_col4\" class=\"data row9 col4\" >781.000000</td>\n",
       "                        <td id=\"T_e0b178a8_5fae_11ec_acfa_0242ac1c0002row9_col5\" class=\"data row9 col5\" >1361.000000</td>\n",
       "                        <td id=\"T_e0b178a8_5fae_11ec_acfa_0242ac1c0002row9_col6\" class=\"data row9 col6\" >2084.000000</td>\n",
       "                        <td id=\"T_e0b178a8_5fae_11ec_acfa_0242ac1c0002row9_col7\" class=\"data row9 col7\" >8075.000000</td>\n",
       "            </tr>\n",
       "            <tr>\n",
       "                        <th id=\"T_e0b178a8_5fae_11ec_acfa_0242ac1c0002level0_row10\" class=\"row_heading level0 row10\" >Cover_Type</th>\n",
       "                        <td id=\"T_e0b178a8_5fae_11ec_acfa_0242ac1c0002row10_col0\" class=\"data row10 col0\" >4000000.000000</td>\n",
       "                        <td id=\"T_e0b178a8_5fae_11ec_acfa_0242ac1c0002row10_col1\" class=\"data row10 col1\" >1.771335</td>\n",
       "                        <td id=\"T_e0b178a8_5fae_11ec_acfa_0242ac1c0002row10_col2\" class=\"data row10 col2\" >0.893806</td>\n",
       "                        <td id=\"T_e0b178a8_5fae_11ec_acfa_0242ac1c0002row10_col3\" class=\"data row10 col3\" >1.000000</td>\n",
       "                        <td id=\"T_e0b178a8_5fae_11ec_acfa_0242ac1c0002row10_col4\" class=\"data row10 col4\" >1.000000</td>\n",
       "                        <td id=\"T_e0b178a8_5fae_11ec_acfa_0242ac1c0002row10_col5\" class=\"data row10 col5\" >2.000000</td>\n",
       "                        <td id=\"T_e0b178a8_5fae_11ec_acfa_0242ac1c0002row10_col6\" class=\"data row10 col6\" >2.000000</td>\n",
       "                        <td id=\"T_e0b178a8_5fae_11ec_acfa_0242ac1c0002row10_col7\" class=\"data row10 col7\" >7.000000</td>\n",
       "            </tr>\n",
       "    </tbody></table>"
      ],
      "text/plain": [
       "<pandas.io.formats.style.Styler at 0x7f2f31176150>"
      ]
     },
     "execution_count": 24,
     "metadata": {},
     "output_type": "execute_result"
    }
   ],
   "source": [
    "df1_train[feature_float].describe().T.style.background_gradient(cmap='YlOrRd')"
   ]
  },
  {
   "cell_type": "markdown",
   "metadata": {
    "id": "qkNzyFUE3EDX"
   },
   "source": [
    "- Test"
   ]
  },
  {
   "cell_type": "code",
   "execution_count": null,
   "metadata": {
    "colab": {
     "base_uri": "https://localhost:8080/",
     "height": 363
    },
    "executionInfo": {
     "elapsed": 548,
     "status": "ok",
     "timestamp": 1639796532919,
     "user": {
      "displayName": "Rogério Delfim",
      "photoUrl": "https://lh3.googleusercontent.com/a-/AOh14Gj8lDYWTfZHU0U0sMojRPio71Ec7YDcSEpCaOEE=s64",
      "userId": "04235763959036945343"
     },
     "user_tz": 180
    },
    "id": "KjAKOeFi3EDX",
    "outputId": "5b6c061d-89d8-48b4-c158-574be71acf45"
   },
   "outputs": [
    {
     "data": {
      "text/html": [
       "<style  type=\"text/css\" >\n",
       "#T_e531e340_5fae_11ec_acfa_0242ac1c0002row0_col0,#T_e531e340_5fae_11ec_acfa_0242ac1c0002row1_col0,#T_e531e340_5fae_11ec_acfa_0242ac1c0002row2_col0,#T_e531e340_5fae_11ec_acfa_0242ac1c0002row2_col1,#T_e531e340_5fae_11ec_acfa_0242ac1c0002row2_col2,#T_e531e340_5fae_11ec_acfa_0242ac1c0002row2_col4,#T_e531e340_5fae_11ec_acfa_0242ac1c0002row2_col5,#T_e531e340_5fae_11ec_acfa_0242ac1c0002row2_col6,#T_e531e340_5fae_11ec_acfa_0242ac1c0002row2_col7,#T_e531e340_5fae_11ec_acfa_0242ac1c0002row3_col0,#T_e531e340_5fae_11ec_acfa_0242ac1c0002row4_col0,#T_e531e340_5fae_11ec_acfa_0242ac1c0002row4_col3,#T_e531e340_5fae_11ec_acfa_0242ac1c0002row4_col4,#T_e531e340_5fae_11ec_acfa_0242ac1c0002row5_col0,#T_e531e340_5fae_11ec_acfa_0242ac1c0002row6_col0,#T_e531e340_5fae_11ec_acfa_0242ac1c0002row7_col0,#T_e531e340_5fae_11ec_acfa_0242ac1c0002row8_col0,#T_e531e340_5fae_11ec_acfa_0242ac1c0002row9_col0{\n",
       "            background-color:  #ffffcc;\n",
       "            color:  #000000;\n",
       "        }#T_e531e340_5fae_11ec_acfa_0242ac1c0002row0_col1,#T_e531e340_5fae_11ec_acfa_0242ac1c0002row0_col3,#T_e531e340_5fae_11ec_acfa_0242ac1c0002row0_col4,#T_e531e340_5fae_11ec_acfa_0242ac1c0002row0_col5,#T_e531e340_5fae_11ec_acfa_0242ac1c0002row0_col6,#T_e531e340_5fae_11ec_acfa_0242ac1c0002row5_col2,#T_e531e340_5fae_11ec_acfa_0242ac1c0002row9_col7{\n",
       "            background-color:  #800026;\n",
       "            color:  #f1f1f1;\n",
       "        }#T_e531e340_5fae_11ec_acfa_0242ac1c0002row0_col2{\n",
       "            background-color:  #feda78;\n",
       "            color:  #000000;\n",
       "        }#T_e531e340_5fae_11ec_acfa_0242ac1c0002row0_col7{\n",
       "            background-color:  #fd7836;\n",
       "            color:  #000000;\n",
       "        }#T_e531e340_5fae_11ec_acfa_0242ac1c0002row1_col1,#T_e531e340_5fae_11ec_acfa_0242ac1c0002row4_col2,#T_e531e340_5fae_11ec_acfa_0242ac1c0002row8_col5,#T_e531e340_5fae_11ec_acfa_0242ac1c0002row8_col6{\n",
       "            background-color:  #fff9bd;\n",
       "            color:  #000000;\n",
       "        }#T_e531e340_5fae_11ec_acfa_0242ac1c0002row1_col2,#T_e531e340_5fae_11ec_acfa_0242ac1c0002row7_col4{\n",
       "            background-color:  #fff4b2;\n",
       "            color:  #000000;\n",
       "        }#T_e531e340_5fae_11ec_acfa_0242ac1c0002row1_col3{\n",
       "            background-color:  #ffeb9c;\n",
       "            color:  #000000;\n",
       "        }#T_e531e340_5fae_11ec_acfa_0242ac1c0002row1_col4{\n",
       "            background-color:  #fffcc5;\n",
       "            color:  #000000;\n",
       "        }#T_e531e340_5fae_11ec_acfa_0242ac1c0002row1_col5,#T_e531e340_5fae_11ec_acfa_0242ac1c0002row3_col4{\n",
       "            background-color:  #fffac0;\n",
       "            color:  #000000;\n",
       "        }#T_e531e340_5fae_11ec_acfa_0242ac1c0002row1_col6,#T_e531e340_5fae_11ec_acfa_0242ac1c0002row4_col7,#T_e531e340_5fae_11ec_acfa_0242ac1c0002row6_col4,#T_e531e340_5fae_11ec_acfa_0242ac1c0002row7_col5{\n",
       "            background-color:  #fff5b3;\n",
       "            color:  #000000;\n",
       "        }#T_e531e340_5fae_11ec_acfa_0242ac1c0002row1_col7,#T_e531e340_5fae_11ec_acfa_0242ac1c0002row8_col1,#T_e531e340_5fae_11ec_acfa_0242ac1c0002row8_col4{\n",
       "            background-color:  #fff9be;\n",
       "            color:  #000000;\n",
       "        }#T_e531e340_5fae_11ec_acfa_0242ac1c0002row2_col3{\n",
       "            background-color:  #ffe997;\n",
       "            color:  #000000;\n",
       "        }#T_e531e340_5fae_11ec_acfa_0242ac1c0002row3_col1{\n",
       "            background-color:  #fff3af;\n",
       "            color:  #000000;\n",
       "        }#T_e531e340_5fae_11ec_acfa_0242ac1c0002row3_col2{\n",
       "            background-color:  #ffe794;\n",
       "            color:  #000000;\n",
       "        }#T_e531e340_5fae_11ec_acfa_0242ac1c0002row3_col3{\n",
       "            background-color:  #fff2ac;\n",
       "            color:  #000000;\n",
       "        }#T_e531e340_5fae_11ec_acfa_0242ac1c0002row3_col5,#T_e531e340_5fae_11ec_acfa_0242ac1c0002row6_col6{\n",
       "            background-color:  #fff6b6;\n",
       "            color:  #000000;\n",
       "        }#T_e531e340_5fae_11ec_acfa_0242ac1c0002row3_col6{\n",
       "            background-color:  #fff0a8;\n",
       "            color:  #000000;\n",
       "        }#T_e531e340_5fae_11ec_acfa_0242ac1c0002row3_col7{\n",
       "            background-color:  #fee38b;\n",
       "            color:  #000000;\n",
       "        }#T_e531e340_5fae_11ec_acfa_0242ac1c0002row4_col1{\n",
       "            background-color:  #fffdc8;\n",
       "            color:  #000000;\n",
       "        }#T_e531e340_5fae_11ec_acfa_0242ac1c0002row4_col5{\n",
       "            background-color:  #fffecb;\n",
       "            color:  #000000;\n",
       "        }#T_e531e340_5fae_11ec_acfa_0242ac1c0002row4_col6,#T_e531e340_5fae_11ec_acfa_0242ac1c0002row6_col2{\n",
       "            background-color:  #fffdc6;\n",
       "            color:  #000000;\n",
       "        }#T_e531e340_5fae_11ec_acfa_0242ac1c0002row5_col1{\n",
       "            background-color:  #fc6631;\n",
       "            color:  #000000;\n",
       "        }#T_e531e340_5fae_11ec_acfa_0242ac1c0002row5_col3,#T_e531e340_5fae_11ec_acfa_0242ac1c0002row6_col7,#T_e531e340_5fae_11ec_acfa_0242ac1c0002row9_col3{\n",
       "            background-color:  #fffbc2;\n",
       "            color:  #000000;\n",
       "        }#T_e531e340_5fae_11ec_acfa_0242ac1c0002row5_col4{\n",
       "            background-color:  #fed16e;\n",
       "            color:  #000000;\n",
       "        }#T_e531e340_5fae_11ec_acfa_0242ac1c0002row5_col5{\n",
       "            background-color:  #fd9e43;\n",
       "            color:  #000000;\n",
       "        }#T_e531e340_5fae_11ec_acfa_0242ac1c0002row5_col6{\n",
       "            background-color:  #ee3122;\n",
       "            color:  #f1f1f1;\n",
       "        }#T_e531e340_5fae_11ec_acfa_0242ac1c0002row5_col7{\n",
       "            background-color:  #950026;\n",
       "            color:  #f1f1f1;\n",
       "        }#T_e531e340_5fae_11ec_acfa_0242ac1c0002row6_col1,#T_e531e340_5fae_11ec_acfa_0242ac1c0002row6_col5,#T_e531e340_5fae_11ec_acfa_0242ac1c0002row7_col1,#T_e531e340_5fae_11ec_acfa_0242ac1c0002row7_col6{\n",
       "            background-color:  #fff5b5;\n",
       "            color:  #000000;\n",
       "        }#T_e531e340_5fae_11ec_acfa_0242ac1c0002row6_col3{\n",
       "            background-color:  #ffe895;\n",
       "            color:  #000000;\n",
       "        }#T_e531e340_5fae_11ec_acfa_0242ac1c0002row7_col2{\n",
       "            background-color:  #fffec9;\n",
       "            color:  #000000;\n",
       "        }#T_e531e340_5fae_11ec_acfa_0242ac1c0002row7_col3{\n",
       "            background-color:  #ffe48d;\n",
       "            color:  #000000;\n",
       "        }#T_e531e340_5fae_11ec_acfa_0242ac1c0002row7_col7,#T_e531e340_5fae_11ec_acfa_0242ac1c0002row8_col2,#T_e531e340_5fae_11ec_acfa_0242ac1c0002row8_col7{\n",
       "            background-color:  #fffcc4;\n",
       "            color:  #000000;\n",
       "        }#T_e531e340_5fae_11ec_acfa_0242ac1c0002row8_col3{\n",
       "            background-color:  #ffec9f;\n",
       "            color:  #000000;\n",
       "        }#T_e531e340_5fae_11ec_acfa_0242ac1c0002row9_col1{\n",
       "            background-color:  #fd7034;\n",
       "            color:  #000000;\n",
       "        }#T_e531e340_5fae_11ec_acfa_0242ac1c0002row9_col2{\n",
       "            background-color:  #b90026;\n",
       "            color:  #f1f1f1;\n",
       "        }#T_e531e340_5fae_11ec_acfa_0242ac1c0002row9_col4{\n",
       "            background-color:  #feca66;\n",
       "            color:  #000000;\n",
       "        }#T_e531e340_5fae_11ec_acfa_0242ac1c0002row9_col5{\n",
       "            background-color:  #fd953f;\n",
       "            color:  #000000;\n",
       "        }#T_e531e340_5fae_11ec_acfa_0242ac1c0002row9_col6{\n",
       "            background-color:  #f54026;\n",
       "            color:  #f1f1f1;\n",
       "        }</style><table id=\"T_e531e340_5fae_11ec_acfa_0242ac1c0002\" class=\"dataframe\"><thead>    <tr>        <th class=\"blank level0\" ></th>        <th class=\"col_heading level0 col0\" >count</th>        <th class=\"col_heading level0 col1\" >mean</th>        <th class=\"col_heading level0 col2\" >std</th>        <th class=\"col_heading level0 col3\" >min</th>        <th class=\"col_heading level0 col4\" >25%</th>        <th class=\"col_heading level0 col5\" >50%</th>        <th class=\"col_heading level0 col6\" >75%</th>        <th class=\"col_heading level0 col7\" >max</th>    </tr></thead><tbody>\n",
       "                <tr>\n",
       "                        <th id=\"T_e531e340_5fae_11ec_acfa_0242ac1c0002level0_row0\" class=\"row_heading level0 row0\" >Elevation</th>\n",
       "                        <td id=\"T_e531e340_5fae_11ec_acfa_0242ac1c0002row0_col0\" class=\"data row0 col0\" >1000000.000000</td>\n",
       "                        <td id=\"T_e531e340_5fae_11ec_acfa_0242ac1c0002row0_col1\" class=\"data row0 col1\" >2969.602410</td>\n",
       "                        <td id=\"T_e531e340_5fae_11ec_acfa_0242ac1c0002row0_col2\" class=\"data row0 col2\" >342.676046</td>\n",
       "                        <td id=\"T_e531e340_5fae_11ec_acfa_0242ac1c0002row0_col3\" class=\"data row0 col3\" >1782.000000</td>\n",
       "                        <td id=\"T_e531e340_5fae_11ec_acfa_0242ac1c0002row0_col4\" class=\"data row0 col4\" >2725.000000</td>\n",
       "                        <td id=\"T_e531e340_5fae_11ec_acfa_0242ac1c0002row0_col5\" class=\"data row0 col5\" >2968.000000</td>\n",
       "                        <td id=\"T_e531e340_5fae_11ec_acfa_0242ac1c0002row0_col6\" class=\"data row0 col6\" >3245.000000</td>\n",
       "                        <td id=\"T_e531e340_5fae_11ec_acfa_0242ac1c0002row0_col7\" class=\"data row0 col7\" >4359.000000</td>\n",
       "            </tr>\n",
       "            <tr>\n",
       "                        <th id=\"T_e531e340_5fae_11ec_acfa_0242ac1c0002level0_row1\" class=\"row_heading level0 row1\" >Aspect</th>\n",
       "                        <td id=\"T_e531e340_5fae_11ec_acfa_0242ac1c0002row1_col0\" class=\"data row1 col0\" >1000000.000000</td>\n",
       "                        <td id=\"T_e531e340_5fae_11ec_acfa_0242ac1c0002row1_col1\" class=\"data row1 col1\" >152.231636</td>\n",
       "                        <td id=\"T_e531e340_5fae_11ec_acfa_0242ac1c0002row1_col2\" class=\"data row1 col2\" >111.629725</td>\n",
       "                        <td id=\"T_e531e340_5fae_11ec_acfa_0242ac1c0002row1_col3\" class=\"data row1 col3\" >-33.000000</td>\n",
       "                        <td id=\"T_e531e340_5fae_11ec_acfa_0242ac1c0002row1_col4\" class=\"data row1 col4\" >59.000000</td>\n",
       "                        <td id=\"T_e531e340_5fae_11ec_acfa_0242ac1c0002row1_col5\" class=\"data row1 col5\" >124.000000</td>\n",
       "                        <td id=\"T_e531e340_5fae_11ec_acfa_0242ac1c0002row1_col6\" class=\"data row1 col6\" >251.000000</td>\n",
       "                        <td id=\"T_e531e340_5fae_11ec_acfa_0242ac1c0002row1_col7\" class=\"data row1 col7\" >400.000000</td>\n",
       "            </tr>\n",
       "            <tr>\n",
       "                        <th id=\"T_e531e340_5fae_11ec_acfa_0242ac1c0002level0_row2\" class=\"row_heading level0 row2\" >Slope</th>\n",
       "                        <td id=\"T_e531e340_5fae_11ec_acfa_0242ac1c0002row2_col0\" class=\"data row2 col0\" >1000000.000000</td>\n",
       "                        <td id=\"T_e531e340_5fae_11ec_acfa_0242ac1c0002row2_col1\" class=\"data row2 col1\" >14.923460</td>\n",
       "                        <td id=\"T_e531e340_5fae_11ec_acfa_0242ac1c0002row2_col2\" class=\"data row2 col2\" >8.457005</td>\n",
       "                        <td id=\"T_e531e340_5fae_11ec_acfa_0242ac1c0002row2_col3\" class=\"data row2 col3\" >-3.000000</td>\n",
       "                        <td id=\"T_e531e340_5fae_11ec_acfa_0242ac1c0002row2_col4\" class=\"data row2 col4\" >9.000000</td>\n",
       "                        <td id=\"T_e531e340_5fae_11ec_acfa_0242ac1c0002row2_col5\" class=\"data row2 col5\" >14.000000</td>\n",
       "                        <td id=\"T_e531e340_5fae_11ec_acfa_0242ac1c0002row2_col6\" class=\"data row2 col6\" >20.000000</td>\n",
       "                        <td id=\"T_e531e340_5fae_11ec_acfa_0242ac1c0002row2_col7\" class=\"data row2 col7\" >63.000000</td>\n",
       "            </tr>\n",
       "            <tr>\n",
       "                        <th id=\"T_e531e340_5fae_11ec_acfa_0242ac1c0002level0_row3\" class=\"row_heading level0 row3\" >Horizontal_Distance_To_Hydrology</th>\n",
       "                        <td id=\"T_e531e340_5fae_11ec_acfa_0242ac1c0002row3_col0\" class=\"data row3 col0\" >1000000.000000</td>\n",
       "                        <td id=\"T_e531e340_5fae_11ec_acfa_0242ac1c0002row3_col1\" class=\"data row3 col1\" >264.368149</td>\n",
       "                        <td id=\"T_e531e340_5fae_11ec_acfa_0242ac1c0002row3_col2\" class=\"data row3 col2\" >227.971753</td>\n",
       "                        <td id=\"T_e531e340_5fae_11ec_acfa_0242ac1c0002row3_col3\" class=\"data row3 col3\" >-136.000000</td>\n",
       "                        <td id=\"T_e531e340_5fae_11ec_acfa_0242ac1c0002row3_col4\" class=\"data row3 col4\" >102.000000</td>\n",
       "                        <td id=\"T_e531e340_5fae_11ec_acfa_0242ac1c0002row3_col5\" class=\"data row3 col5\" >206.000000</td>\n",
       "                        <td id=\"T_e531e340_5fae_11ec_acfa_0242ac1c0002row3_col6\" class=\"data row3 col6\" >356.000000</td>\n",
       "                        <td id=\"T_e531e340_5fae_11ec_acfa_0242ac1c0002row3_col7\" class=\"data row3 col7\" >1583.000000</td>\n",
       "            </tr>\n",
       "            <tr>\n",
       "                        <th id=\"T_e531e340_5fae_11ec_acfa_0242ac1c0002level0_row4\" class=\"row_heading level0 row4\" >Vertical_Distance_To_Hydrology</th>\n",
       "                        <td id=\"T_e531e340_5fae_11ec_acfa_0242ac1c0002row4_col0\" class=\"data row4 col0\" >1000000.000000</td>\n",
       "                        <td id=\"T_e531e340_5fae_11ec_acfa_0242ac1c0002row4_col1\" class=\"data row4 col1\" >51.480362</td>\n",
       "                        <td id=\"T_e531e340_5fae_11ec_acfa_0242ac1c0002row4_col2\" class=\"data row4 col2\" >68.520188</td>\n",
       "                        <td id=\"T_e531e340_5fae_11ec_acfa_0242ac1c0002row4_col3\" class=\"data row4 col3\" >-329.000000</td>\n",
       "                        <td id=\"T_e531e340_5fae_11ec_acfa_0242ac1c0002row4_col4\" class=\"data row4 col4\" >3.000000</td>\n",
       "                        <td id=\"T_e531e340_5fae_11ec_acfa_0242ac1c0002row4_col5\" class=\"data row4 col5\" >31.000000</td>\n",
       "                        <td id=\"T_e531e340_5fae_11ec_acfa_0242ac1c0002row4_col6\" class=\"data row4 col6\" >78.000000</td>\n",
       "                        <td id=\"T_e531e340_5fae_11ec_acfa_0242ac1c0002row4_col7\" class=\"data row4 col7\" >634.000000</td>\n",
       "            </tr>\n",
       "            <tr>\n",
       "                        <th id=\"T_e531e340_5fae_11ec_acfa_0242ac1c0002level0_row5\" class=\"row_heading level0 row5\" >Horizontal_Distance_To_Roadways</th>\n",
       "                        <td id=\"T_e531e340_5fae_11ec_acfa_0242ac1c0002row5_col0\" class=\"data row5 col0\" >1000000.000000</td>\n",
       "                        <td id=\"T_e531e340_5fae_11ec_acfa_0242ac1c0002row5_col1\" class=\"data row5 col1\" >1713.507869</td>\n",
       "                        <td id=\"T_e531e340_5fae_11ec_acfa_0242ac1c0002row5_col2\" class=\"data row5 col2\" >1374.922218</td>\n",
       "                        <td id=\"T_e531e340_5fae_11ec_acfa_0242ac1c0002row5_col3\" class=\"data row5 col3\" >-264.000000</td>\n",
       "                        <td id=\"T_e531e340_5fae_11ec_acfa_0242ac1c0002row5_col4\" class=\"data row5 col4\" >751.000000</td>\n",
       "                        <td id=\"T_e531e340_5fae_11ec_acfa_0242ac1c0002row5_col5\" class=\"data row5 col5\" >1320.000000</td>\n",
       "                        <td id=\"T_e531e340_5fae_11ec_acfa_0242ac1c0002row5_col6\" class=\"data row5 col6\" >2261.000000</td>\n",
       "                        <td id=\"T_e531e340_5fae_11ec_acfa_0242ac1c0002row5_col7\" class=\"data row5 col7\" >7653.000000</td>\n",
       "            </tr>\n",
       "            <tr>\n",
       "                        <th id=\"T_e531e340_5fae_11ec_acfa_0242ac1c0002level0_row6\" class=\"row_heading level0 row6\" >Hillshade_9am</th>\n",
       "                        <td id=\"T_e531e340_5fae_11ec_acfa_0242ac1c0002row6_col0\" class=\"data row6 col0\" >1000000.000000</td>\n",
       "                        <td id=\"T_e531e340_5fae_11ec_acfa_0242ac1c0002row6_col1\" class=\"data row6 col1\" >211.659709</td>\n",
       "                        <td id=\"T_e531e340_5fae_11ec_acfa_0242ac1c0002row6_col2\" class=\"data row6 col2\" >31.280435</td>\n",
       "                        <td id=\"T_e531e340_5fae_11ec_acfa_0242ac1c0002row6_col3\" class=\"data row6 col3\" >1.000000</td>\n",
       "                        <td id=\"T_e531e340_5fae_11ec_acfa_0242ac1c0002row6_col4\" class=\"data row6 col4\" >197.000000</td>\n",
       "                        <td id=\"T_e531e340_5fae_11ec_acfa_0242ac1c0002row6_col5\" class=\"data row6 col5\" >218.000000</td>\n",
       "                        <td id=\"T_e531e340_5fae_11ec_acfa_0242ac1c0002row6_col6\" class=\"data row6 col6\" >234.000000</td>\n",
       "                        <td id=\"T_e531e340_5fae_11ec_acfa_0242ac1c0002row6_col7\" class=\"data row6 col7\" >296.000000</td>\n",
       "            </tr>\n",
       "            <tr>\n",
       "                        <th id=\"T_e531e340_5fae_11ec_acfa_0242ac1c0002level0_row7\" class=\"row_heading level0 row7\" >Hillshade_Noon</th>\n",
       "                        <td id=\"T_e531e340_5fae_11ec_acfa_0242ac1c0002row7_col0\" class=\"data row7 col0\" >1000000.000000</td>\n",
       "                        <td id=\"T_e531e340_5fae_11ec_acfa_0242ac1c0002row7_col1\" class=\"data row7 col1\" >221.476154</td>\n",
       "                        <td id=\"T_e531e340_5fae_11ec_acfa_0242ac1c0002row7_col2\" class=\"data row7 col2\" >21.951950</td>\n",
       "                        <td id=\"T_e531e340_5fae_11ec_acfa_0242ac1c0002row7_col3\" class=\"data row7 col3\" >53.000000</td>\n",
       "                        <td id=\"T_e531e340_5fae_11ec_acfa_0242ac1c0002row7_col4\" class=\"data row7 col4\" >210.000000</td>\n",
       "                        <td id=\"T_e531e340_5fae_11ec_acfa_0242ac1c0002row7_col5\" class=\"data row7 col5\" >224.000000</td>\n",
       "                        <td id=\"T_e531e340_5fae_11ec_acfa_0242ac1c0002row7_col6\" class=\"data row7 col6\" >237.000000</td>\n",
       "                        <td id=\"T_e531e340_5fae_11ec_acfa_0242ac1c0002row7_col7\" class=\"data row7 col7\" >276.000000</td>\n",
       "            </tr>\n",
       "            <tr>\n",
       "                        <th id=\"T_e531e340_5fae_11ec_acfa_0242ac1c0002level0_row8\" class=\"row_heading level0 row8\" >Hillshade_3pm</th>\n",
       "                        <td id=\"T_e531e340_5fae_11ec_acfa_0242ac1c0002row8_col0\" class=\"data row8 col0\" >1000000.000000</td>\n",
       "                        <td id=\"T_e531e340_5fae_11ec_acfa_0242ac1c0002row8_col1\" class=\"data row8 col1\" >139.861454</td>\n",
       "                        <td id=\"T_e531e340_5fae_11ec_acfa_0242ac1c0002row8_col2\" class=\"data row8 col2\" >45.398002</td>\n",
       "                        <td id=\"T_e531e340_5fae_11ec_acfa_0242ac1c0002row8_col3\" class=\"data row8 col3\" >-51.000000</td>\n",
       "                        <td id=\"T_e531e340_5fae_11ec_acfa_0242ac1c0002row8_col4\" class=\"data row8 col4\" >114.000000</td>\n",
       "                        <td id=\"T_e531e340_5fae_11ec_acfa_0242ac1c0002row8_col5\" class=\"data row8 col5\" >142.000000</td>\n",
       "                        <td id=\"T_e531e340_5fae_11ec_acfa_0242ac1c0002row8_col6\" class=\"data row8 col6\" >169.000000</td>\n",
       "                        <td id=\"T_e531e340_5fae_11ec_acfa_0242ac1c0002row8_col7\" class=\"data row8 col7\" >270.000000</td>\n",
       "            </tr>\n",
       "            <tr>\n",
       "                        <th id=\"T_e531e340_5fae_11ec_acfa_0242ac1c0002level0_row9\" class=\"row_heading level0 row9\" >Horizontal_Distance_To_Fire_Points</th>\n",
       "                        <td id=\"T_e531e340_5fae_11ec_acfa_0242ac1c0002row9_col0\" class=\"data row9 col0\" >1000000.000000</td>\n",
       "                        <td id=\"T_e531e340_5fae_11ec_acfa_0242ac1c0002row9_col1\" class=\"data row9 col1\" >1665.384311</td>\n",
       "                        <td id=\"T_e531e340_5fae_11ec_acfa_0242ac1c0002row9_col2\" class=\"data row9 col2\" >1212.225118</td>\n",
       "                        <td id=\"T_e531e340_5fae_11ec_acfa_0242ac1c0002row9_col3\" class=\"data row9 col3\" >-267.000000</td>\n",
       "                        <td id=\"T_e531e340_5fae_11ec_acfa_0242ac1c0002row9_col4\" class=\"data row9 col4\" >820.000000</td>\n",
       "                        <td id=\"T_e531e340_5fae_11ec_acfa_0242ac1c0002row9_col5\" class=\"data row9 col5\" >1416.000000</td>\n",
       "                        <td id=\"T_e531e340_5fae_11ec_acfa_0242ac1c0002row9_col6\" class=\"data row9 col6\" >2149.000000</td>\n",
       "                        <td id=\"T_e531e340_5fae_11ec_acfa_0242ac1c0002row9_col7\" class=\"data row9 col7\" >8007.000000</td>\n",
       "            </tr>\n",
       "    </tbody></table>"
      ],
      "text/plain": [
       "<pandas.io.formats.style.Styler at 0x7f2f2eb1be50>"
      ]
     },
     "execution_count": 25,
     "metadata": {},
     "output_type": "execute_result"
    }
   ],
   "source": [
    "df1_test[feature_float_test].describe().T.style.background_gradient(cmap='YlOrRd')"
   ]
  },
  {
   "cell_type": "markdown",
   "metadata": {
    "id": "ZTpYmZ6t3EDX"
   },
   "source": [
    "<div class=\"alert alert-info\" role=\"alert\"> \n",
    "    \n",
    "**`NOTA:`** <br>\n",
    "\n",
    "O que me chamou atenção é valor negativo para a maioria das variáveis exceto para `Hillshade_Noon` em ambos os dataset e para a variável `Hillshade_9am` apenas no dataset de test, pode ser um indicativo de algum problema na coleta de informações, mas com se trata de informações de `Cobertura Florestal` pode fazer sentido. É um ponto que temos que levar em consideração no processamento de dados.  \n",
    "    \n",
    "</div>"
   ]
  },
  {
   "cell_type": "markdown",
   "metadata": {
    "id": "3AryIRLz3EDX"
   },
   "source": [
    "### 2.4.2. Atributos categóricos"
   ]
  },
  {
   "cell_type": "code",
   "execution_count": null,
   "metadata": {
    "colab": {
     "base_uri": "https://localhost:8080/"
    },
    "executionInfo": {
     "elapsed": 800,
     "status": "ok",
     "timestamp": 1639796536645,
     "user": {
      "displayName": "Rogério Delfim",
      "photoUrl": "https://lh3.googleusercontent.com/a-/AOh14Gj8lDYWTfZHU0U0sMojRPio71Ec7YDcSEpCaOEE=s64",
      "userId": "04235763959036945343"
     },
     "user_tz": 180
    },
    "id": "_clyBJb53EDY",
    "outputId": "53a6db34-0711-4e85-dd36-c3efb77ce498"
   },
   "outputs": [
    {
     "data": {
      "text/plain": [
       "Index(['Wilderness_Area1', 'Wilderness_Area2', 'Wilderness_Area3',\n",
       "       'Wilderness_Area4', 'Soil_Type1', 'Soil_Type2', 'Soil_Type3',\n",
       "       'Soil_Type4', 'Soil_Type5', 'Soil_Type6', 'Soil_Type7', 'Soil_Type8',\n",
       "       'Soil_Type9', 'Soil_Type10', 'Soil_Type11', 'Soil_Type12',\n",
       "       'Soil_Type13', 'Soil_Type14', 'Soil_Type15', 'Soil_Type16',\n",
       "       'Soil_Type17', 'Soil_Type18', 'Soil_Type19', 'Soil_Type20',\n",
       "       'Soil_Type21', 'Soil_Type22', 'Soil_Type23', 'Soil_Type24',\n",
       "       'Soil_Type25', 'Soil_Type26', 'Soil_Type27', 'Soil_Type28',\n",
       "       'Soil_Type29', 'Soil_Type30', 'Soil_Type31', 'Soil_Type32',\n",
       "       'Soil_Type33', 'Soil_Type34', 'Soil_Type35', 'Soil_Type36',\n",
       "       'Soil_Type37', 'Soil_Type38', 'Soil_Type39', 'Soil_Type40'],\n",
       "      dtype='object')"
      ]
     },
     "execution_count": 26,
     "metadata": {},
     "output_type": "execute_result"
    }
   ],
   "source": [
    "df1_train[feature_cat].columns"
   ]
  },
  {
   "cell_type": "code",
   "execution_count": null,
   "metadata": {
    "colab": {
     "base_uri": "https://localhost:8080/",
     "height": 206
    },
    "executionInfo": {
     "elapsed": 6,
     "status": "ok",
     "timestamp": 1639796538551,
     "user": {
      "displayName": "Rogério Delfim",
      "photoUrl": "https://lh3.googleusercontent.com/a-/AOh14Gj8lDYWTfZHU0U0sMojRPio71Ec7YDcSEpCaOEE=s64",
      "userId": "04235763959036945343"
     },
     "user_tz": 180
    },
    "id": "kSjIsC2B3EDY",
    "outputId": "4c3f1ee2-34a2-4464-8961-77decb279ed5"
   },
   "outputs": [
    {
     "data": {
      "text/html": [
       "\n",
       "  <div id=\"df-7a79c8e3-9d3e-43b1-9ab8-0017d5669599\">\n",
       "    <div class=\"colab-df-container\">\n",
       "      <div>\n",
       "<style scoped>\n",
       "    .dataframe tbody tr th:only-of-type {\n",
       "        vertical-align: middle;\n",
       "    }\n",
       "\n",
       "    .dataframe tbody tr th {\n",
       "        vertical-align: top;\n",
       "    }\n",
       "\n",
       "    .dataframe thead th {\n",
       "        text-align: right;\n",
       "    }\n",
       "</style>\n",
       "<table border=\"1\" class=\"dataframe\">\n",
       "  <thead>\n",
       "    <tr style=\"text-align: right;\">\n",
       "      <th></th>\n",
       "      <th>Wilderness_Area1</th>\n",
       "      <th>Wilderness_Area2</th>\n",
       "      <th>Wilderness_Area3</th>\n",
       "      <th>Wilderness_Area4</th>\n",
       "    </tr>\n",
       "  </thead>\n",
       "  <tbody>\n",
       "    <tr>\n",
       "      <th>0</th>\n",
       "      <td>1</td>\n",
       "      <td>0</td>\n",
       "      <td>0</td>\n",
       "      <td>0</td>\n",
       "    </tr>\n",
       "    <tr>\n",
       "      <th>1</th>\n",
       "      <td>1</td>\n",
       "      <td>0</td>\n",
       "      <td>0</td>\n",
       "      <td>0</td>\n",
       "    </tr>\n",
       "    <tr>\n",
       "      <th>2</th>\n",
       "      <td>1</td>\n",
       "      <td>0</td>\n",
       "      <td>0</td>\n",
       "      <td>0</td>\n",
       "    </tr>\n",
       "    <tr>\n",
       "      <th>3</th>\n",
       "      <td>1</td>\n",
       "      <td>0</td>\n",
       "      <td>0</td>\n",
       "      <td>0</td>\n",
       "    </tr>\n",
       "    <tr>\n",
       "      <th>4</th>\n",
       "      <td>1</td>\n",
       "      <td>0</td>\n",
       "      <td>0</td>\n",
       "      <td>0</td>\n",
       "    </tr>\n",
       "  </tbody>\n",
       "</table>\n",
       "</div>\n",
       "      <button class=\"colab-df-convert\" onclick=\"convertToInteractive('df-7a79c8e3-9d3e-43b1-9ab8-0017d5669599')\"\n",
       "              title=\"Convert this dataframe to an interactive table.\"\n",
       "              style=\"display:none;\">\n",
       "        \n",
       "  <svg xmlns=\"http://www.w3.org/2000/svg\" height=\"24px\"viewBox=\"0 0 24 24\"\n",
       "       width=\"24px\">\n",
       "    <path d=\"M0 0h24v24H0V0z\" fill=\"none\"/>\n",
       "    <path d=\"M18.56 5.44l.94 2.06.94-2.06 2.06-.94-2.06-.94-.94-2.06-.94 2.06-2.06.94zm-11 1L8.5 8.5l.94-2.06 2.06-.94-2.06-.94L8.5 2.5l-.94 2.06-2.06.94zm10 10l.94 2.06.94-2.06 2.06-.94-2.06-.94-.94-2.06-.94 2.06-2.06.94z\"/><path d=\"M17.41 7.96l-1.37-1.37c-.4-.4-.92-.59-1.43-.59-.52 0-1.04.2-1.43.59L10.3 9.45l-7.72 7.72c-.78.78-.78 2.05 0 2.83L4 21.41c.39.39.9.59 1.41.59.51 0 1.02-.2 1.41-.59l7.78-7.78 2.81-2.81c.8-.78.8-2.07 0-2.86zM5.41 20L4 18.59l7.72-7.72 1.47 1.35L5.41 20z\"/>\n",
       "  </svg>\n",
       "      </button>\n",
       "      \n",
       "  <style>\n",
       "    .colab-df-container {\n",
       "      display:flex;\n",
       "      flex-wrap:wrap;\n",
       "      gap: 12px;\n",
       "    }\n",
       "\n",
       "    .colab-df-convert {\n",
       "      background-color: #E8F0FE;\n",
       "      border: none;\n",
       "      border-radius: 50%;\n",
       "      cursor: pointer;\n",
       "      display: none;\n",
       "      fill: #1967D2;\n",
       "      height: 32px;\n",
       "      padding: 0 0 0 0;\n",
       "      width: 32px;\n",
       "    }\n",
       "\n",
       "    .colab-df-convert:hover {\n",
       "      background-color: #E2EBFA;\n",
       "      box-shadow: 0px 1px 2px rgba(60, 64, 67, 0.3), 0px 1px 3px 1px rgba(60, 64, 67, 0.15);\n",
       "      fill: #174EA6;\n",
       "    }\n",
       "\n",
       "    [theme=dark] .colab-df-convert {\n",
       "      background-color: #3B4455;\n",
       "      fill: #D2E3FC;\n",
       "    }\n",
       "\n",
       "    [theme=dark] .colab-df-convert:hover {\n",
       "      background-color: #434B5C;\n",
       "      box-shadow: 0px 1px 3px 1px rgba(0, 0, 0, 0.15);\n",
       "      filter: drop-shadow(0px 1px 2px rgba(0, 0, 0, 0.3));\n",
       "      fill: #FFFFFF;\n",
       "    }\n",
       "  </style>\n",
       "\n",
       "      <script>\n",
       "        const buttonEl =\n",
       "          document.querySelector('#df-7a79c8e3-9d3e-43b1-9ab8-0017d5669599 button.colab-df-convert');\n",
       "        buttonEl.style.display =\n",
       "          google.colab.kernel.accessAllowed ? 'block' : 'none';\n",
       "\n",
       "        async function convertToInteractive(key) {\n",
       "          const element = document.querySelector('#df-7a79c8e3-9d3e-43b1-9ab8-0017d5669599');\n",
       "          const dataTable =\n",
       "            await google.colab.kernel.invokeFunction('convertToInteractive',\n",
       "                                                     [key], {});\n",
       "          if (!dataTable) return;\n",
       "\n",
       "          const docLinkHtml = 'Like what you see? Visit the ' +\n",
       "            '<a target=\"_blank\" href=https://colab.research.google.com/notebooks/data_table.ipynb>data table notebook</a>'\n",
       "            + ' to learn more about interactive tables.';\n",
       "          element.innerHTML = '';\n",
       "          dataTable['output_type'] = 'display_data';\n",
       "          await google.colab.output.renderOutput(dataTable, element);\n",
       "          const docLink = document.createElement('div');\n",
       "          docLink.innerHTML = docLinkHtml;\n",
       "          element.appendChild(docLink);\n",
       "        }\n",
       "      </script>\n",
       "    </div>\n",
       "  </div>\n",
       "  "
      ],
      "text/plain": [
       "   Wilderness_Area1  Wilderness_Area2  Wilderness_Area3  Wilderness_Area4\n",
       "0                 1                 0                 0                 0\n",
       "1                 1                 0                 0                 0\n",
       "2                 1                 0                 0                 0\n",
       "3                 1                 0                 0                 0\n",
       "4                 1                 0                 0                 0"
      ]
     },
     "execution_count": 27,
     "metadata": {},
     "output_type": "execute_result"
    }
   ],
   "source": [
    "df1_train.filter(regex=r'Wil').head()"
   ]
  },
  {
   "cell_type": "markdown",
   "metadata": {
    "id": "MZVV4trX3EDY"
   },
   "source": [
    "<div class=\"alert alert-info\" role=\"alert\"> \n",
    "    \n",
    "**`NOTA:`** <br>\n",
    "    \n",
    "Temos quatros variáveis que podemos transformar em dammy, isso pode ajudar a melhor a performance dos modelos. \n",
    "\n",
    "    \n",
    "</div> "
   ]
  },
  {
   "cell_type": "markdown",
   "metadata": {
    "id": "Ow5FpnML3EDY"
   },
   "source": [
    "## 2.5. Correlação\n",
    "Vamos examinar a correlação entre as variáveis."
   ]
  },
  {
   "cell_type": "code",
   "execution_count": null,
   "metadata": {
    "colab": {
     "base_uri": "https://localhost:8080/",
     "height": 884
    },
    "executionInfo": {
     "elapsed": 2845,
     "status": "ok",
     "timestamp": 1639796544973,
     "user": {
      "displayName": "Rogério Delfim",
      "photoUrl": "https://lh3.googleusercontent.com/a-/AOh14Gj8lDYWTfZHU0U0sMojRPio71Ec7YDcSEpCaOEE=s64",
      "userId": "04235763959036945343"
     },
     "user_tz": 180
    },
    "id": "hOwEz5Gc3EDY",
    "outputId": "86af4f56-39ba-4181-be63-6af9d018534e"
   },
   "outputs": [
    {
     "data": {
      "image/png": "[encoded data removed]",
      "text/plain": [
       "<Figure size 1080x864 with 2 Axes>"
      ]
     },
     "metadata": {},
     "output_type": "display_data"
    }
   ],
   "source": [
    "df_corr(df1_train[feature_float], annot_=True)"
   ]
  },
  {
   "cell_type": "code",
   "execution_count": null,
   "metadata": {
    "colab": {
     "base_uri": "https://localhost:8080/",
     "height": 884
    },
    "executionInfo": {
     "elapsed": 26190,
     "status": "ok",
     "timestamp": 1639001600322,
     "user": {
      "displayName": "Rogério Delfim",
      "photoUrl": "https://lh3.googleusercontent.com/a-/AOh14Gj8lDYWTfZHU0U0sMojRPio71Ec7YDcSEpCaOEE=s64",
      "userId": "04235763959036945343"
     },
     "user_tz": 180
    },
    "id": "W2_2Sisq3EDY",
    "outputId": "b44e59da-301f-412e-d246-b864eb110db6"
   },
   "outputs": [
    {
     "data": {
      "image/png": "[encoded data removed]",
      "text/plain": [
       "<Figure size 1080x864 with 2 Axes>"
      ]
     },
     "metadata": {},
     "output_type": "display_data"
    }
   ],
   "source": [
    "df_corr(df1_train)"
   ]
  },
  {
   "cell_type": "markdown",
   "metadata": {
    "id": "pqdSJmX33EDY"
   },
   "source": [
    "<div class=\"alert alert-info\" role=\"alert\"> \n",
    " \n",
    "**`NOTA:`** <br>\n",
    "    \n",
    "Como podemos observar, a correlação está entre -0.6 e 0.2, o que é muito pequeno, portanto, as variáveis são fracamente correlacionados.\n",
    "    \n",
    "</div>"
   ]
  },
  {
   "cell_type": "markdown",
   "metadata": {
    "id": "syDsQKks3EDZ"
   },
   "source": [
    "## 2.6. Distribuição"
   ]
  },
  {
   "cell_type": "markdown",
   "metadata": {
    "id": "wSrmasit3EDZ"
   },
   "source": [
    "### 2.6.1. Train / Test"
   ]
  },
  {
   "cell_type": "code",
   "execution_count": null,
   "metadata": {
    "colab": {
     "base_uri": "https://localhost:8080/",
     "height": 343
    },
    "executionInfo": {
     "elapsed": 473,
     "status": "ok",
     "timestamp": 1639796555496,
     "user": {
      "displayName": "Rogério Delfim",
      "photoUrl": "https://lh3.googleusercontent.com/a-/AOh14Gj8lDYWTfZHU0U0sMojRPio71Ec7YDcSEpCaOEE=s64",
      "userId": "04235763959036945343"
     },
     "user_tz": 180
    },
    "id": "k59gjrzG3EDZ",
    "outputId": "44805272-bd00-4da1-b7b7-e4e430d27182"
   },
   "outputs": [
    {
     "data": {
      "image/png": "[encoded data removed]",
      "text/plain": [
       "<Figure size 360x360 with 1 Axes>"
      ]
     },
     "metadata": {},
     "output_type": "display_data"
    }
   ],
   "source": [
    "fig, ax = plt.subplots(figsize=(5, 5))\n",
    "\n",
    "pie = ax.pie([len(df1_train), len(df1_test)],\n",
    "             labels   = [\"Train dataset\", \"Test dataset\"],\n",
    "             colors   = [\"salmon\", \"teal\"],\n",
    "             textprops= {\"fontsize\": 15},\n",
    "             autopct  = '%1.1f%%')\n",
    "\n",
    "ax.axis(\"equal\")\n",
    "ax.set_title(\"Comparação de comprimento do conjunto de dados \\n\", fontsize=18)\n",
    "fig.set_facecolor('white')\n",
    "plt.show();"
   ]
  },
  {
   "cell_type": "markdown",
   "metadata": {
    "id": "BJ_GV_Y13EDZ"
   },
   "source": [
    "### 2.6.2. Proporção de variáveis"
   ]
  },
  {
   "cell_type": "code",
   "execution_count": null,
   "metadata": {
    "colab": {
     "base_uri": "https://localhost:8080/",
     "height": 344
    },
    "executionInfo": {
     "elapsed": 642,
     "status": "ok",
     "timestamp": 1639796559944,
     "user": {
      "displayName": "Rogério Delfim",
      "photoUrl": "https://lh3.googleusercontent.com/a-/AOh14Gj8lDYWTfZHU0U0sMojRPio71Ec7YDcSEpCaOEE=s64",
      "userId": "04235763959036945343"
     },
     "user_tz": 180
    },
    "id": "a_ncE_eG3EDZ",
    "outputId": "06dde019-ff8c-4d75-8bc6-a2aaee2ce404"
   },
   "outputs": [
    {
     "data": {
      "image/png": "[encoded data removed]",
      "text/plain": [
       "<Figure size 360x360 with 1 Axes>"
      ]
     },
     "metadata": {},
     "output_type": "display_data"
    }
   ],
   "source": [
    "fig, ax = plt.subplots(figsize=(5, 5))\n",
    "\n",
    "plt.pie([ len(feature_cat), len(feature_float)], \n",
    "        labels=['Categorical', 'Continuos' ],\n",
    "        textprops={'fontsize': 13},\n",
    "        autopct='%1.1f%%')\n",
    "\n",
    "#ax.axis(\"equal\")\n",
    "ax.set_title(\"Comparação variáveis continuas/categóricas \\n Dataset Treino/Teste\", fontsize=18)\n",
    "fig.set_facecolor('white')\n",
    "plt.show()"
   ]
  },
  {
   "cell_type": "markdown",
   "metadata": {
    "id": "RhAwufEc3EDa"
   },
   "source": [
    "### 2.6.3. Variável predidora"
   ]
  },
  {
   "cell_type": "code",
   "execution_count": null,
   "metadata": {
    "colab": {
     "base_uri": "https://localhost:8080/",
     "height": 323
    },
    "executionInfo": {
     "elapsed": 950,
     "status": "ok",
     "timestamp": 1639796562853,
     "user": {
      "displayName": "Rogério Delfim",
      "photoUrl": "https://lh3.googleusercontent.com/a-/AOh14Gj8lDYWTfZHU0U0sMojRPio71Ec7YDcSEpCaOEE=s64",
      "userId": "04235763959036945343"
     },
     "user_tz": 180
    },
    "id": "cMhkj0S_3EDa",
    "outputId": "3f9968f8-dc89-4aff-d72c-0d82db9e2349"
   },
   "outputs": [
    {
     "data": {
      "image/png": "[encoded data removed]",
      "text/plain": [
       "<Figure size 576x288 with 1 Axes>"
      ]
     },
     "metadata": {},
     "output_type": "display_data"
    }
   ],
   "source": [
    "plt.figure(figsize=(8, 4))\n",
    "ax = sns.countplot(x=df1_train['Cover_Type'], palette='viridis')\n",
    "ax.set_title('Distribuição da variável Cover_Type', fontsize=20, y=1.05)\n",
    "\n",
    "sns.despine(right=True)\n",
    "sns.despine(offset=10, trim=True)"
   ]
  },
  {
   "cell_type": "code",
   "execution_count": null,
   "metadata": {
    "colab": {
     "base_uri": "https://localhost:8080/",
     "height": 269
    },
    "executionInfo": {
     "elapsed": 406,
     "status": "ok",
     "timestamp": 1639798328164,
     "user": {
      "displayName": "Rogério Delfim",
      "photoUrl": "https://lh3.googleusercontent.com/a-/AOh14Gj8lDYWTfZHU0U0sMojRPio71Ec7YDcSEpCaOEE=s64",
      "userId": "04235763959036945343"
     },
     "user_tz": 180
    },
    "id": "v_ZABJEvjz-T",
    "outputId": "1207eeee-74ed-4e59-e593-72d9537469a1"
   },
   "outputs": [
    {
     "data": {
      "text/html": [
       "<style  type=\"text/css\" >\n",
       "#T_1332b036_5fb3_11ec_beaa_0242ac1c0002row0_col1{\n",
       "            width:  10em;\n",
       "             height:  80%;\n",
       "            background:  linear-gradient(90deg,orange 100.0%, transparent 100.0%);\n",
       "        }#T_1332b036_5fb3_11ec_beaa_0242ac1c0002row1_col1{\n",
       "            width:  10em;\n",
       "             height:  80%;\n",
       "            background:  linear-gradient(90deg,orange 64.9%, transparent 64.9%);\n",
       "        }#T_1332b036_5fb3_11ec_beaa_0242ac1c0002row2_col1{\n",
       "            width:  10em;\n",
       "             height:  80%;\n",
       "            background:  linear-gradient(90deg,orange 8.7%, transparent 8.7%);\n",
       "        }#T_1332b036_5fb3_11ec_beaa_0242ac1c0002row3_col1{\n",
       "            width:  10em;\n",
       "             height:  80%;\n",
       "            background:  linear-gradient(90deg,orange 2.8%, transparent 2.8%);\n",
       "        }#T_1332b036_5fb3_11ec_beaa_0242ac1c0002row4_col1{\n",
       "            width:  10em;\n",
       "             height:  80%;\n",
       "            background:  linear-gradient(90deg,orange 0.5%, transparent 0.5%);\n",
       "        }#T_1332b036_5fb3_11ec_beaa_0242ac1c0002row5_col1{\n",
       "            width:  10em;\n",
       "             height:  80%;\n",
       "            background:  linear-gradient(90deg,orange 0.0%, transparent 0.0%);\n",
       "        }#T_1332b036_5fb3_11ec_beaa_0242ac1c0002row6_col1{\n",
       "            width:  10em;\n",
       "             height:  80%;\n",
       "        }</style><table id=\"T_1332b036_5fb3_11ec_beaa_0242ac1c0002\" class=\"dataframe\"><thead>    <tr>        <th class=\"blank level0\" ></th>        <th class=\"col_heading level0 col0\" >Cover_Type</th>        <th class=\"col_heading level0 col1\" >percent_type</th>    </tr></thead><tbody>\n",
       "                <tr>\n",
       "                        <th id=\"T_1332b036_5fb3_11ec_beaa_0242ac1c0002level0_row0\" class=\"row_heading level0 row0\" >2</th>\n",
       "                        <td id=\"T_1332b036_5fb3_11ec_beaa_0242ac1c0002row0_col0\" class=\"data row0 col0\" >2262087</td>\n",
       "                        <td id=\"T_1332b036_5fb3_11ec_beaa_0242ac1c0002row0_col1\" class=\"data row0 col1\" >56.55%</td>\n",
       "            </tr>\n",
       "            <tr>\n",
       "                        <th id=\"T_1332b036_5fb3_11ec_beaa_0242ac1c0002level0_row1\" class=\"row_heading level0 row1\" >1</th>\n",
       "                        <td id=\"T_1332b036_5fb3_11ec_beaa_0242ac1c0002row1_col0\" class=\"data row1 col0\" >1468136</td>\n",
       "                        <td id=\"T_1332b036_5fb3_11ec_beaa_0242ac1c0002row1_col1\" class=\"data row1 col1\" >36.70%</td>\n",
       "            </tr>\n",
       "            <tr>\n",
       "                        <th id=\"T_1332b036_5fb3_11ec_beaa_0242ac1c0002level0_row2\" class=\"row_heading level0 row2\" >3</th>\n",
       "                        <td id=\"T_1332b036_5fb3_11ec_beaa_0242ac1c0002row2_col0\" class=\"data row2 col0\" >195712</td>\n",
       "                        <td id=\"T_1332b036_5fb3_11ec_beaa_0242ac1c0002row2_col1\" class=\"data row2 col1\" >4.89%</td>\n",
       "            </tr>\n",
       "            <tr>\n",
       "                        <th id=\"T_1332b036_5fb3_11ec_beaa_0242ac1c0002level0_row3\" class=\"row_heading level0 row3\" >7</th>\n",
       "                        <td id=\"T_1332b036_5fb3_11ec_beaa_0242ac1c0002row3_col0\" class=\"data row3 col0\" >62261</td>\n",
       "                        <td id=\"T_1332b036_5fb3_11ec_beaa_0242ac1c0002row3_col1\" class=\"data row3 col1\" >1.56%</td>\n",
       "            </tr>\n",
       "            <tr>\n",
       "                        <th id=\"T_1332b036_5fb3_11ec_beaa_0242ac1c0002level0_row4\" class=\"row_heading level0 row4\" >6</th>\n",
       "                        <td id=\"T_1332b036_5fb3_11ec_beaa_0242ac1c0002row4_col0\" class=\"data row4 col0\" >11426</td>\n",
       "                        <td id=\"T_1332b036_5fb3_11ec_beaa_0242ac1c0002row4_col1\" class=\"data row4 col1\" >0.29%</td>\n",
       "            </tr>\n",
       "            <tr>\n",
       "                        <th id=\"T_1332b036_5fb3_11ec_beaa_0242ac1c0002level0_row5\" class=\"row_heading level0 row5\" >4</th>\n",
       "                        <td id=\"T_1332b036_5fb3_11ec_beaa_0242ac1c0002row5_col0\" class=\"data row5 col0\" >377</td>\n",
       "                        <td id=\"T_1332b036_5fb3_11ec_beaa_0242ac1c0002row5_col1\" class=\"data row5 col1\" >0.01%</td>\n",
       "            </tr>\n",
       "            <tr>\n",
       "                        <th id=\"T_1332b036_5fb3_11ec_beaa_0242ac1c0002level0_row6\" class=\"row_heading level0 row6\" >5</th>\n",
       "                        <td id=\"T_1332b036_5fb3_11ec_beaa_0242ac1c0002row6_col0\" class=\"data row6 col0\" >1</td>\n",
       "                        <td id=\"T_1332b036_5fb3_11ec_beaa_0242ac1c0002row6_col1\" class=\"data row6 col1\" >0.00%</td>\n",
       "            </tr>\n",
       "    </tbody></table>"
      ],
      "text/plain": [
       "<pandas.io.formats.style.Styler at 0x7f4cb866fd10>"
      ]
     },
     "execution_count": 30,
     "metadata": {},
     "output_type": "execute_result"
    }
   ],
   "source": [
    "stat = pd.DataFrame(df1_train['Cover_Type'].value_counts())\n",
    "stat['percent_type'] = stat['Cover_Type'] / stat['Cover_Type'].sum()\n",
    "\n",
    "stat.style.bar(subset=[\"percent_type\"], color='orange').format('{:.2%}', subset=[\"percent_type\"])"
   ]
  },
  {
   "cell_type": "markdown",
   "metadata": {
    "id": "ClNzFCB03EDa"
   },
   "source": [
    "<div class=\"alert alert-info\" role=\"alert\"> \n",
    " \n",
    "**`NOTA:`** <br>\n",
    "Observamos no gráfico acima que a classe 2 é a mais representativa, seguida pela classe 1. As classes raras são 4, 5 e 6, a classe 5 com apenas um único exemplo podemos fazer a exclusão ou associá-la a outra classe, mas para isso devemos analisar a associação dessa classe, pois terá um impacto mínimo na classificação.     \n",
    "\n",
    "    \n",
    "</div>"
   ]
  },
  {
   "cell_type": "markdown",
   "metadata": {
    "id": "6T9ItYRp3EDb"
   },
   "source": [
    "### 2.6.4. Distribuição Train x Test"
   ]
  },
  {
   "cell_type": "code",
   "execution_count": null,
   "metadata": {
    "colab": {
     "base_uri": "https://localhost:8080/",
     "height": 1000
    },
    "executionInfo": {
     "elapsed": 28151,
     "status": "ok",
     "timestamp": 1639796596086,
     "user": {
      "displayName": "Rogério Delfim",
      "photoUrl": "https://lh3.googleusercontent.com/a-/AOh14Gj8lDYWTfZHU0U0sMojRPio71Ec7YDcSEpCaOEE=s64",
      "userId": "04235763959036945343"
     },
     "user_tz": 180
    },
    "id": "-R23IuOLdFPg",
    "outputId": "21b796ad-9400-489f-f591-8884912271aa"
   },
   "outputs": [
    {
     "data": {
      "image/png": "[encoded data removed]",
      "text/plain": [
       "<Figure size 1440x1440 with 10 Axes>"
      ]
     },
     "metadata": {},
     "output_type": "display_data"
    }
   ],
   "source": [
    "fig, ax = plt.subplots(5,2 ,figsize=(20,20))\n",
    "for i,feature in enumerate(feature_float_test):\n",
    "    plt.subplot(5,2,i+1)\n",
    "    sns.histplot(data=df1_train,x=df1_train[feature],color='salmon', alpha=0.5, label='train')\n",
    "    sns.histplot(data=df1_test ,x=df1_test[feature],color='teal', alpha=0.5, label='test')     \n",
    "    plt.xlabel(feature, fontsize=12)\n",
    "    plt.legend()\n",
    "         \n",
    "plt.suptitle('DistPlot: train & test data', fontsize=20);"
   ]
  },
  {
   "cell_type": "markdown",
   "metadata": {
    "id": "hlKugVKb3EDb"
   },
   "source": [
    "### 2.6.5.  Variáveis categoricas"
   ]
  },
  {
   "cell_type": "code",
   "execution_count": null,
   "metadata": {
    "colab": {
     "base_uri": "https://localhost:8080/",
     "height": 864
    },
    "executionInfo": {
     "elapsed": 5869,
     "status": "ok",
     "timestamp": 1639002608200,
     "user": {
      "displayName": "Rogério Delfim",
      "photoUrl": "https://lh3.googleusercontent.com/a-/AOh14Gj8lDYWTfZHU0U0sMojRPio71Ec7YDcSEpCaOEE=s64",
      "userId": "04235763959036945343"
     },
     "user_tz": 180
    },
    "id": "e4A7fqtT3EDb",
    "outputId": "9babf5e4-d5fb-4040-977e-8a69e154be0f"
   },
   "outputs": [
    {
     "data": {
      "image/png": "[encoded data removed]",
      "text/plain": [
       "<Figure size 1440x1152 with 40 Axes>"
      ]
     },
     "metadata": {},
     "output_type": "display_data"
    }
   ],
   "source": [
    "fig, axes = plt.subplots(10, 4, figsize=(20, 16))\n",
    "\n",
    "target_order = sorted(df1_train['Cover_Type'].unique())\n",
    "mean         = df1_train.groupby('Cover_Type').mean().sort_index()\n",
    "std          = df1_train.groupby('Cover_Type').std().sort_index()\n",
    "\n",
    "for idx, ax in zip(range(1,40), axes.flatten()):\n",
    "    \n",
    "    ax.bar(mean[f'Soil_Type{idx}'].index, \n",
    "           mean[f'Soil_Type{idx}'],           \n",
    "           width=0.6)\n",
    "    \n",
    "    ax.set_xticks([])\n",
    "    ax.set_yticks([])\n",
    "    ax.set_xlabel('')\n",
    "    ax.set_ylabel('')\n",
    "    ax.margins(0.1)\n",
    "    \n",
    "    ax.spines['left'].set_visible(False)\n",
    "    ax.set_title(f'Soil_Type_{idx}', loc='center', weight='bold', fontsize=11)\n",
    "\n",
    "axes.flatten()[-1].axis('off')    \n",
    "axes.flatten()[-2].axis('off')\n",
    "\n",
    "#fig.supxlabel('Média por classe (por variável)', ha='center', fontweight='bold')\n",
    "\n",
    "fig.tight_layout()\n",
    "plt.show()"
   ]
  },
  {
   "cell_type": "markdown",
   "metadata": {
    "id": "Ltt-Q2Ya3EDc"
   },
   "source": [
    "<div class=\"alert alert-info\" role=\"alert\"> \n",
    " \n",
    "**`NOTA:`** <br>\n",
    "Variáveis `Soil_Type_7` e `Soil_Type_15` não tem informações, neste caso podemos excluí-las.    \n",
    "    \n",
    "</div>"
   ]
  },
  {
   "cell_type": "markdown",
   "metadata": {
    "id": "4FJIj-SE3EDc"
   },
   "source": [
    "## 2.6.6. Detecção de Outlier"
   ]
  },
  {
   "cell_type": "code",
   "execution_count": null,
   "metadata": {
    "id": "XqdpklqER0F4"
   },
   "outputs": [],
   "source": [
    "def graf_outlier(df, feature_, target_):\n",
    "    \n",
    "    fig_out, axes_out=plt.subplots(3, 4, figsize=(20,15))\n",
    "    j=0\n",
    "    i=0\n",
    "    \n",
    "    for col in feature_:\n",
    "        if j==4:\n",
    "            i+=1\n",
    "            j=0\n",
    "\n",
    "        sns.boxplot(y    = col,\n",
    "                    x    = target_,\n",
    "                    data = df,\n",
    "                    ax   = axes_out[i,j])\n",
    "\n",
    "        plt.gca().set_title(f\"{col}\")\n",
    "\n",
    "        j+=1"
   ]
  },
  {
   "cell_type": "markdown",
   "metadata": {
    "id": "wWkvBk323EDc"
   },
   "source": [
    "### 2.6.6.1. Data Train "
   ]
  },
  {
   "cell_type": "code",
   "execution_count": null,
   "metadata": {
    "colab": {
     "base_uri": "https://localhost:8080/",
     "height": 881
    },
    "executionInfo": {
     "elapsed": 10570,
     "status": "ok",
     "timestamp": 1639796629429,
     "user": {
      "displayName": "Rogério Delfim",
      "photoUrl": "https://lh3.googleusercontent.com/a-/AOh14Gj8lDYWTfZHU0U0sMojRPio71Ec7YDcSEpCaOEE=s64",
      "userId": "04235763959036945343"
     },
     "user_tz": 180
    },
    "id": "uyryFw3ieqtN",
    "outputId": "057bc5af-1f7d-441a-88dd-45fb52aa83f2"
   },
   "outputs": [
    {
     "data": {
      "image/png": "[encoded data removed]",
      "text/plain": [
       "<Figure size 1440x1080 with 12 Axes>"
      ]
     },
     "metadata": {},
     "output_type": "display_data"
    }
   ],
   "source": [
    "graf_outlier(df1_train,feature_float_test, target)"
   ]
  },
  {
   "cell_type": "markdown",
   "metadata": {
    "id": "CxBVLkRY3EDd"
   },
   "source": [
    "<div class=\"alert alert-info\" role=\"alert\"> \n",
    " \n",
    "**`NOTA:`** <br>\n",
    "    \n",
    "Acima observamos que temos que fazer um tratamento de outliers em algumas variáveis, na etapa de processamento vamos fazer o tramento ou remoção dos outliers para ajudar na previsão dos modelos. \n",
    "\n",
    "</div>"
   ]
  },
  {
   "cell_type": "markdown",
   "metadata": {
    "id": "hGXn1sXU3EDd"
   },
   "source": [
    "# <div class=\"alert alert-success\"> 3. Modelagem (baseline) </div> "
   ]
  },
  {
   "cell_type": "markdown",
   "metadata": {
    "id": "EIKN30d83EDd"
   },
   "source": [
    "## 3.1. Split Train/Test"
   ]
  },
  {
   "cell_type": "code",
   "execution_count": null,
   "metadata": {
    "colab": {
     "base_uri": "https://localhost:8080/"
    },
    "executionInfo": {
     "elapsed": 383,
     "status": "ok",
     "timestamp": 1639796639871,
     "user": {
      "displayName": "Rogério Delfim",
      "photoUrl": "https://lh3.googleusercontent.com/a-/AOh14Gj8lDYWTfZHU0U0sMojRPio71Ec7YDcSEpCaOEE=s64",
      "userId": "04235763959036945343"
     },
     "user_tz": 180
    },
    "id": "1jbN8G7Uf3gJ",
    "outputId": "a96ce307-26bf-45a3-c7fd-15eb5beec273"
   },
   "outputs": [
    {
     "data": {
      "text/plain": [
       "2    2262087\n",
       "1    1468136\n",
       "3     195712\n",
       "7      62261\n",
       "6      11426\n",
       "4        377\n",
       "5          1\n",
       "Name: Cover_Type, dtype: int64"
      ]
     },
     "execution_count": 35,
     "metadata": {},
     "output_type": "execute_result"
    }
   ],
   "source": [
    "df1_train[target].value_counts()"
   ]
  },
  {
   "cell_type": "code",
   "execution_count": null,
   "metadata": {
    "id": "Azs0tlc6dCNy"
   },
   "outputs": [],
   "source": [
    "df1_train.drop(df1_train[df1_train[target]==5].index, inplace=True)"
   ]
  },
  {
   "cell_type": "code",
   "execution_count": null,
   "metadata": {
    "colab": {
     "base_uri": "https://localhost:8080/"
    },
    "executionInfo": {
     "elapsed": 3268,
     "status": "ok",
     "timestamp": 1639798387775,
     "user": {
      "displayName": "Rogério Delfim",
      "photoUrl": "https://lh3.googleusercontent.com/a-/AOh14Gj8lDYWTfZHU0U0sMojRPio71Ec7YDcSEpCaOEE=s64",
      "userId": "04235763959036945343"
     },
     "user_tz": 180
    },
    "id": "cUhounlm83eU",
    "outputId": "e5937bbd-3b6e-4287-dbd0-fcfca556237f"
   },
   "outputs": [
    {
     "name": "stdout",
     "output_type": "stream",
     "text": [
      "CPU times: user 3.02 s, sys: 113 ms, total: 3.13 s\n",
      "Wall time: 3.11 s\n"
     ]
    }
   ],
   "source": [
    "%%time\n",
    "\n",
    "X      = df1_train.drop([target], axis=1)\n",
    "y      = df1_train[target].astype(int)\n",
    "X_test = df1_test\n",
    "\n",
    "X_train, X_valid, y_train, y_valid = train_test_split(X, y, \n",
    "                                                      test_size    = 0.3,\n",
    "                                                      shuffle      = True, \n",
    "                                                      stratify     = y, \n",
    "                                                      random_state = 12359)\n",
    "\n",
    "#del df1_train,df1_test\n",
    "\n",
    "X_train.shape, y_train.shape, X_valid.shape, y_valid.shape , X_test.shape"
   ]
  },
  {
   "cell_type": "markdown",
   "metadata": {
    "id": "FqM7C76Z3EDd"
   },
   "source": [
    "## 3.2. Parametros do modelo"
   ]
  },
  {
   "cell_type": "code",
   "execution_count": null,
   "metadata": {
    "colab": {
     "base_uri": "https://localhost:8080/"
    },
    "executionInfo": {
     "elapsed": 14,
     "status": "ok",
     "timestamp": 1639531256266,
     "user": {
      "displayName": "Rogério Delfim",
      "photoUrl": "https://lh3.googleusercontent.com/a-/AOh14Gj8lDYWTfZHU0U0sMojRPio71Ec7YDcSEpCaOEE=s64",
      "userId": "04235763959036945343"
     },
     "user_tz": 180
    },
    "id": "1lbuKVmV3EDd",
    "outputId": "dd339112-3d91-4579-8ebe-2a274f5aa22b"
   },
   "outputs": [
    {
     "data": {
      "text/plain": [
       "{'objective': 'multi:softmax',\n",
       " 'eval_metric': 'mlogloss',\n",
       " 'random_state': 12359,\n",
       " 'n_jobs': -1,\n",
       " 'tree_method': 'gpu_hist',\n",
       " 'predictor': 'gpu_predictor'}"
      ]
     },
     "execution_count": 55,
     "metadata": {},
     "output_type": "execute_result"
    }
   ],
   "source": [
    "seed   = 12359\n",
    "params = {\"objective\"     : 'multi:softmax',    \n",
    "          'eval_metric'   : 'mlogloss',         \n",
    "          'random_state'  : seed, \n",
    "          'n_jobs'        : -1}\n",
    "\n",
    "if torch.cuda.is_available():           \n",
    "    params.update({'tree_method' : 'gpu_hist',                    \n",
    "                   'predictor'   : 'gpu_predictor'\n",
    "                   })\n",
    "params"
   ]
  },
  {
   "cell_type": "markdown",
   "metadata": {
    "id": "7rXW-J5R3EDd"
   },
   "source": [
    "## 3.2. Seleção de Scaler"
   ]
  },
  {
   "cell_type": "code",
   "execution_count": null,
   "metadata": {
    "colab": {
     "base_uri": "https://localhost:8080/"
    },
    "executionInfo": {
     "elapsed": 38348,
     "status": "ok",
     "timestamp": 1639103200689,
     "user": {
      "displayName": "Rogério Delfim",
      "photoUrl": "https://lh3.googleusercontent.com/a-/AOh14Gj8lDYWTfZHU0U0sMojRPio71Ec7YDcSEpCaOEE=s64",
      "userId": "04235763959036945343"
     },
     "user_tz": 180
    },
    "id": "KFMl9LWK3EDe",
    "outputId": "6abc3486-8e3e-4d00-8843-0f3a2694c690"
   },
   "outputs": [
    {
     "name": "stdout",
     "output_type": "stream",
     "text": [
      "Validaçao ACC: 0.92854 => StandardScaler()\n",
      "\n",
      "CPU times: user 38.1 s, sys: 219 ms, total: 38.3 s\n",
      "Wall time: 38.1 s\n"
     ]
    }
   ],
   "source": [
    "%%time \n",
    "\n",
    "model_baseline = xgb.XGBClassifier(**params)\n",
    "\n",
    "scalers = [None, \n",
    "           StandardScaler(), \n",
    "           RobustScaler(), \n",
    "           MinMaxScaler(), \n",
    "           MaxAbsScaler(), \n",
    "           QuantileTransformer(output_distribution='normal', random_state=0)\n",
    "           ]\n",
    "\n",
    "for scaler in scalers: \n",
    "    \n",
    "    if scaler!=None:\n",
    "        X_train_s = scaler.fit_transform(X_train)\n",
    "        X_valid_s = scaler.fit_transform(X_valid)\n",
    "    else:\n",
    "        X_train_s = X_train\n",
    "        X_valid_s = X_valid\n",
    "                \n",
    "    model_baseline.fit(X_train_s, y_train, verbose=False)\n",
    "\n",
    "    y_pred = model_baseline.predict(X_valid_s)  \n",
    "    acc    = metrics.accuracy_score(y_valid, y_pred)    \n",
    "        \n",
    "    print('Validaçao ACC: {:2.5f} => {}'.format(acc, scaler))\n",
    "\n",
    "    free_gpu_cache()\n",
    "\n",
    "print()"
   ]
  },
  {
   "cell_type": "markdown",
   "metadata": {
    "id": "xxRnZCNk3EDe"
   },
   "source": [
    "<div class=\"alert alert-info\" role=\"alert\"> \n",
    " \n",
    "**`NOTA:`** <br>\n",
    "    \n",
    "Com scaler  RobustScaler obtivemos uma ACC de 0.92970, como estamos fazer apenas uma validação simples, neste caso a pontuação do score pode ser afetada por aleatoriedade dos dados, sendo assim, vamos fazer uma validação cruzada para termos uma estimativa robusta.  <br>\n",
    "    \n",
    "</div>"
   ]
  },
  {
   "cell_type": "code",
   "execution_count": null,
   "metadata": {
    "code_folding": [
     0
    ],
    "id": "N7kMcHrWtXtu"
   },
   "outputs": [],
   "source": [
    "def cross_val_model(model_, model_name_, X_, y_, X_test_, target_, scalers_, fold_=5, path_='', \n",
    "                    seed_=12359, feature_scaler_=None, print_report_=False):\n",
    "    \n",
    "    n_estimators = model_.get_params()['n_estimators']\n",
    "         \n",
    "    \n",
    "    valid_preds  = {}\n",
    "    taco         = 76 \n",
    "    acc_best     = 0\n",
    "    col_prob     = y_.unique()    \n",
    "    df_proba     = pd.DataFrame()\n",
    "    test_preds   = []\n",
    "    test_pred_proba = np.zeros((1, 1))\n",
    "\n",
    "    for scaler_ in scalers_: \n",
    "\n",
    "        time_start   = datetime.now()\n",
    "        score        = []\n",
    "        \n",
    "                \n",
    "        if scaler_!=None:\n",
    "            string_scaler = str(scaler_)        \n",
    "            string_scaler = string_scaler[:string_scaler.index('(')]\n",
    "            if feature_scaler_!=None:\n",
    "                X_tst = X_test_.copy()\n",
    "                X_tst[feature_scaler_] = scaler_.fit_transform(X_tst[feature_scaler_].copy())\n",
    "            else: \n",
    "                X_tst = scaler_.fit_transform(X_test_.copy())\n",
    "        else:\n",
    "            string_scaler = None \n",
    "            X_tst = X_test_.copy()\n",
    "            \n",
    "        y_pred_test = np.zeros(len(X_test_))\n",
    "\n",
    "        folds = KFold(n_splits=fold_, shuffle=True, random_state=seed_)\n",
    "        folds = StratifiedKFold(n_splits=fold_, shuffle=True, random_state=seed_)\n",
    "        #folds = StratifiedShuffleSplit(n_splits=fold_, test_size=0.5, random_state=seed_)\n",
    "                \n",
    "        print('='*taco)\n",
    "        print('Scaler: {} - n_estimators: {}'.format(string_scaler, n_estimators))\n",
    "        print('='*taco)\n",
    "\n",
    "        for fold, (trn_idx, val_idx) in enumerate(folds.split(X_, y_, groups=y_)): \n",
    "\n",
    "            time_fold_start = datetime.now()\n",
    "\n",
    "            # ---------------------------------------------------- \n",
    "            # Separar dados para treino \n",
    "            # ----------------------------------------------------     \n",
    "            X_trn, X_val = X_.iloc[trn_idx], X_.iloc[val_idx]\n",
    "            y_trn, y_val = y_.iloc[trn_idx], y_.iloc[val_idx] \n",
    "            \n",
    "            # ---------------------------------------------------- \n",
    "            # Processamento \n",
    "            # ----------------------------------------------------     \n",
    "            if scaler_!=None: \n",
    "                if feature_scaler_!=None: \n",
    "                    X_trn[feature_scaler_] = scaler_.fit_transform(X_trn[feature_scaler_])\n",
    "                    X_val[feature_scaler_] = scaler_.fit_transform(X_val[feature_scaler_])  \n",
    "                else:            \n",
    "                    X_trn = scaler_.fit_transform(X_trn)\n",
    "                    X_val = scaler_.fit_transform(X_val)\n",
    "            \n",
    "            # ---------------------------------------------------- \n",
    "            # Treinar o modelo \n",
    "            # ----------------------------------------------------            \n",
    "            model_.fit(X_trn, y_trn,\n",
    "                       eval_set              = [(X_trn, y_trn), (X_val, y_val)],          \n",
    "                       early_stopping_rounds = int(n_estimators*.1),\n",
    "                       verbose               = False)\n",
    "            \n",
    "            # ---------------------------------------------------- \n",
    "            # Predição \n",
    "            # ----------------------------------------------------     \n",
    "            y_pred_val      = model_.predict(X_val, ntree_limit=model_.best_ntree_limit)    \n",
    "            y_pred_val_prob = model_.predict_proba(X_val, ntree_limit=model_.best_ntree_limit)    \n",
    "            y_pred_test    += model_.predict(X_tst) / folds.n_splits\n",
    "\n",
    "            test_preds.append(model_.predict(X_tst))\n",
    "            \n",
    "            df_prob_temp    = pd.DataFrame(y_pred_val_prob, columns=col_prob)\n",
    "            y_pred_pbro_max = df_prob_temp.max(axis=1)\n",
    "\n",
    "            df_prob_temp['fold']    = fold+1\n",
    "            df_prob_temp['id']      = val_idx\n",
    "            df_prob_temp['y_val']   = y_val.values\n",
    "            df_prob_temp['y_pred']  = y_pred_val            \n",
    "            df_prob_temp['y_proba'] = np.max(y_pred_val_prob, axis=1)\n",
    "            df_prob_temp['scaler']  = str(string_scaler)\n",
    "                        \n",
    "            # ---------------------------------------------------- \n",
    "            # Score \n",
    "            # ---------------------------------------------------- \n",
    "            acc   = metrics.accuracy_score(y_val, y_pred_val)\n",
    "            f1    = metrics.f1_score(y_val, y_pred_val, average='weighted')\n",
    "            prec  = metrics.precision_score(y_val, y_pred_val, average='macro')\n",
    "            \n",
    "            score.append(acc)            \n",
    "\n",
    "            # ---------------------------------------------------- \n",
    "            # Print resultado  \n",
    "            # ---------------------------------------------------- \n",
    "            time_fold_end = diff(time_fold_start, datetime.now())\n",
    "            msg = '[Fold {}] ACC: {:2.5f} - F1-macro: {:2.5f} - Precision: {:2.5f}  - {}'\n",
    "            print(msg.format(fold+1, acc, f1, prec, time_fold_end))\n",
    "\n",
    "        acc_mean = np.mean(score) \n",
    "        acc_std  = np.std(score)\n",
    "\n",
    "        if acc_mean > acc_best:     \n",
    "            acc_best    = acc_mean           \n",
    "            model_best  = model_    \n",
    "            scaler_best = scaler_\n",
    "\n",
    "        time_end = diff(time_start, datetime.now())   \n",
    "\n",
    "        print('-'*taco)\n",
    "        print('[Mean Fold] ACC: {:2.5f} std: {:2.5f} - {}'.format(acc_mean, acc_std, time_end))\n",
    "        print('='*taco)\n",
    "        print()\n",
    "\n",
    "        df_submission[target_] = y_pred_test.astype('int')\n",
    "        name_file_sub = 'Data/submission/' + model_name_ + '_' + str(scaler_).lower()[:4] + '.csv'\n",
    "        df_submission.to_csv(path_ + name_file_sub.format(acc_mean), index = False)\n",
    "\n",
    "        if print_report_:\n",
    "            y_pred = df_prob_temp[df_prob_temp['scaler']==str(string_scaler)]['y_pred']\n",
    "            y_vl   = df_prob_temp[df_prob_temp['scaler']==str(string_scaler)]['y_val']\n",
    "            print(metrics.classification_report(y_vl,y_pred))\n",
    "\n",
    "    print('-'*taco)\n",
    "    print('Scaler Best: {}'.format(scaler_best))\n",
    "    print('Score      : {:2.5f}'.format(acc_best))\n",
    "    print('-'*taco)\n",
    "    print()\n",
    "\n",
    "    return model_ , df_prob_temp.sort_values(by=['scaler','id'])"
   ]
  },
  {
   "cell_type": "code",
   "execution_count": null,
   "metadata": {
    "colab": {
     "base_uri": "https://localhost:8080/"
    },
    "executionInfo": {
     "elapsed": 4071,
     "status": "ok",
     "timestamp": 1639799845130,
     "user": {
      "displayName": "Rogério Delfim",
      "photoUrl": "https://lh3.googleusercontent.com/a-/AOh14Gj8lDYWTfZHU0U0sMojRPio71Ec7YDcSEpCaOEE=s64",
      "userId": "04235763959036945343"
     },
     "user_tz": 180
    },
    "id": "mBbCuCddkzeQ",
    "outputId": "5be1b2b4-d7a8-4888-f050-5bcba7b65bd6"
   },
   "outputs": [
    {
     "data": {
      "text/plain": [
       "2    2262087\n",
       "1    1468136\n",
       "3     195712\n",
       "7      72261\n",
       "6      18426\n",
       "4      10377\n",
       "Name: Cover_Type, dtype: int64"
      ]
     },
     "execution_count": 44,
     "metadata": {},
     "output_type": "execute_result"
    }
   ],
   "source": [
    "from imblearn.over_sampling import RandomOverSampler\n",
    "from imblearn.under_sampling import RandomUnderSampler\n",
    "sampling_strategy =  {1: 1468136, \n",
    "                      2: 2262087, \n",
    "                      3: 195712, \n",
    "                      4: 377    + 10000, \n",
    "                      6: 11426  + 7000, \n",
    "                      7: 62261  + 10000\n",
    "                      \n",
    "                      }\n",
    "\n",
    "oversample = RandomOverSampler(sampling_strategy=sampling_strategy,  random_state=12359)\n",
    "\n",
    "X_over, y_over = oversample.fit_resample(X, y)\n",
    "\n",
    "# 1\t1468136\t0,38565\n",
    "# 2\t2262087\t0,51259\n",
    "# 3\t 195712\t0,07817\n",
    "\n",
    "y_over.value_counts()"
   ]
  },
  {
   "cell_type": "code",
   "execution_count": null,
   "metadata": {
    "colab": {
     "base_uri": "https://localhost:8080/"
    },
    "executionInfo": {
     "elapsed": 1811669,
     "status": "ok",
     "timestamp": 1639802348439,
     "user": {
      "displayName": "Rogério Delfim",
      "photoUrl": "https://lh3.googleusercontent.com/a-/AOh14Gj8lDYWTfZHU0U0sMojRPio71Ec7YDcSEpCaOEE=s64",
      "userId": "04235763959036945343"
     },
     "user_tz": 180
    },
    "id": "K4ZmbBh71V3N",
    "outputId": "f6044a76-e2ee-46eb-b573-82f57bf628df"
   },
   "outputs": [
    {
     "name": "stdout",
     "output_type": "stream",
     "text": [
      "============================================================================\n",
      "Scaler: None - n_estimators: 100\n",
      "============================================================================\n",
      "[Fold 1] ACC: 0.95068 - F1-macro: 0.94955 - Precision: 0.79367  - 0h 0m 51s\n",
      "[Fold 2] ACC: 0.95085 - F1-macro: 0.94970 - Precision: 0.83290  - 0h 0m 51s\n",
      "[Fold 3] ACC: 0.95039 - F1-macro: 0.94914 - Precision: 0.77931  - 0h 0m 51s\n",
      "[Fold 4] ACC: 0.95076 - F1-macro: 0.94958 - Precision: 0.77377  - 0h 0m 51s\n",
      "[Fold 5] ACC: 0.95101 - F1-macro: 0.94990 - Precision: 0.79678  - 0h 0m 51s\n",
      "----------------------------------------------------------------------------\n",
      "[Mean Fold] ACC: 0.95074 std: 0.00021 - 0h 4m 18s\n",
      "============================================================================\n",
      "\n",
      "              precision    recall  f1-score   support\n",
      "\n",
      "           1       0.94      0.96      0.95    293627\n",
      "           2       0.96      0.97      0.97    452417\n",
      "           3       0.90      0.82      0.86     39143\n",
      "           4       0.50      0.36      0.42        75\n",
      "           6       0.66      0.38      0.48      2285\n",
      "           7       0.82      0.59      0.68     12452\n",
      "\n",
      "    accuracy                           0.95    799999\n",
      "   macro avg       0.80      0.68      0.73    799999\n",
      "weighted avg       0.95      0.95      0.95    799999\n",
      "\n",
      "============================================================================\n",
      "Scaler: StandardScaler - n_estimators: 100\n",
      "============================================================================\n",
      "[Fold 1] ACC: 0.95066 - F1-macro: 0.94953 - Precision: 0.79331  - 0h 0m 58s\n",
      "[Fold 2] ACC: 0.95101 - F1-macro: 0.94989 - Precision: 0.81837  - 0h 0m 58s\n",
      "[Fold 3] ACC: 0.95013 - F1-macro: 0.94889 - Precision: 0.78090  - 0h 0m 57s\n",
      "[Fold 4] ACC: 0.95076 - F1-macro: 0.94960 - Precision: 0.78194  - 0h 0m 57s\n",
      "[Fold 5] ACC: 0.95100 - F1-macro: 0.94988 - Precision: 0.79568  - 0h 0m 58s\n",
      "----------------------------------------------------------------------------\n",
      "[Mean Fold] ACC: 0.95071 std: 0.00032 - 0h 4m 52s\n",
      "============================================================================\n",
      "\n",
      "              precision    recall  f1-score   support\n",
      "\n",
      "           1       0.95      0.96      0.95    293627\n",
      "           2       0.96      0.97      0.97    452417\n",
      "           3       0.90      0.82      0.86     39143\n",
      "           4       0.49      0.36      0.42        75\n",
      "           6       0.66      0.38      0.48      2285\n",
      "           7       0.82      0.58      0.68     12452\n",
      "\n",
      "    accuracy                           0.95    799999\n",
      "   macro avg       0.80      0.68      0.73    799999\n",
      "weighted avg       0.95      0.95      0.95    799999\n",
      "\n",
      "============================================================================\n",
      "Scaler: RobustScaler - n_estimators: 100\n",
      "============================================================================\n",
      "[Fold 1] ACC: 0.95069 - F1-macro: 0.94956 - Precision: 0.79354  - 0h 0m 59s\n",
      "[Fold 2] ACC: 0.95087 - F1-macro: 0.94971 - Precision: 0.83534  - 0h 0m 59s\n",
      "[Fold 3] ACC: 0.95036 - F1-macro: 0.94914 - Precision: 0.79118  - 0h 0m 59s\n",
      "[Fold 4] ACC: 0.95079 - F1-macro: 0.94963 - Precision: 0.77057  - 0h 0m 59s\n",
      "[Fold 5] ACC: 0.95105 - F1-macro: 0.94995 - Precision: 0.79676  - 0h 0m 59s\n",
      "----------------------------------------------------------------------------\n",
      "[Mean Fold] ACC: 0.95075 std: 0.00023 - 0h 4m 59s\n",
      "============================================================================\n",
      "\n",
      "              precision    recall  f1-score   support\n",
      "\n",
      "           1       0.95      0.96      0.95    293627\n",
      "           2       0.96      0.97      0.97    452417\n",
      "           3       0.90      0.82      0.86     39143\n",
      "           4       0.50      0.36      0.42        75\n",
      "           6       0.66      0.37      0.48      2285\n",
      "           7       0.82      0.59      0.68     12452\n",
      "\n",
      "    accuracy                           0.95    799999\n",
      "   macro avg       0.80      0.68      0.73    799999\n",
      "weighted avg       0.95      0.95      0.95    799999\n",
      "\n",
      "============================================================================\n",
      "Scaler: MinMaxScaler - n_estimators: 100\n",
      "============================================================================\n",
      "[Fold 1] ACC: 0.94724 - F1-macro: 0.94640 - Precision: 0.78143  - 0h 0m 58s\n",
      "[Fold 2] ACC: 0.93625 - F1-macro: 0.93490 - Precision: 0.72216  - 0h 0m 58s\n",
      "[Fold 3] ACC: 0.94900 - F1-macro: 0.94800 - Precision: 0.77072  - 0h 0m 58s\n",
      "[Fold 4] ACC: 0.94167 - F1-macro: 0.94078 - Precision: 0.76295  - 0h 0m 58s\n",
      "[Fold 5] ACC: 0.94236 - F1-macro: 0.94150 - Precision: 0.73524  - 0h 0m 58s\n",
      "----------------------------------------------------------------------------\n",
      "[Mean Fold] ACC: 0.94330 std: 0.00450 - 0h 4m 53s\n",
      "============================================================================\n",
      "\n",
      "              precision    recall  f1-score   support\n",
      "\n",
      "           1       0.92      0.97      0.94    293627\n",
      "           2       0.97      0.95      0.96    452417\n",
      "           3       0.92      0.78      0.84     39143\n",
      "           4       0.19      0.44      0.26        75\n",
      "           6       0.65      0.41      0.50      2285\n",
      "           7       0.78      0.63      0.69     12452\n",
      "\n",
      "    accuracy                           0.94    799999\n",
      "   macro avg       0.74      0.70      0.70    799999\n",
      "weighted avg       0.94      0.94      0.94    799999\n",
      "\n",
      "============================================================================\n",
      "Scaler: MaxAbsScaler - n_estimators: 100\n",
      "============================================================================\n",
      "[Fold 1] ACC: 0.93193 - F1-macro: 0.93097 - Precision: 0.78589  - 0h 0m 58s\n",
      "[Fold 2] ACC: 0.94375 - F1-macro: 0.94235 - Precision: 0.81118  - 0h 0m 58s\n",
      "[Fold 3] ACC: 0.94300 - F1-macro: 0.94187 - Precision: 0.78596  - 0h 0m 58s\n",
      "[Fold 4] ACC: 0.93011 - F1-macro: 0.92915 - Precision: 0.76254  - 0h 0m 58s\n",
      "[Fold 5] ACC: 0.94279 - F1-macro: 0.94183 - Precision: 0.79604  - 0h 0m 58s\n",
      "----------------------------------------------------------------------------\n",
      "[Mean Fold] ACC: 0.93832 std: 0.00599 - 0h 4m 53s\n",
      "============================================================================\n",
      "\n",
      "              precision    recall  f1-score   support\n",
      "\n",
      "           1       0.92      0.97      0.94    293627\n",
      "           2       0.97      0.95      0.96    452417\n",
      "           3       0.92      0.77      0.84     39143\n",
      "           4       0.53      0.36      0.43        75\n",
      "           6       0.68      0.37      0.47      2285\n",
      "           7       0.77      0.64      0.70     12452\n",
      "\n",
      "    accuracy                           0.94    799999\n",
      "   macro avg       0.80      0.68      0.72    799999\n",
      "weighted avg       0.94      0.94      0.94    799999\n",
      "\n",
      "============================================================================\n",
      "Scaler: QuantileTransformer - n_estimators: 100\n",
      "============================================================================\n",
      "[Fold 1] ACC: 0.95015 - F1-macro: 0.94910 - Precision: 0.80707  - 0h 1m 10s\n",
      "[Fold 2] ACC: 0.95127 - F1-macro: 0.95020 - Precision: 0.81744  - 0h 1m 9s\n",
      "[Fold 3] ACC: 0.95007 - F1-macro: 0.94890 - Precision: 0.78414  - 0h 1m 10s\n",
      "[Fold 4] ACC: 0.95078 - F1-macro: 0.94962 - Precision: 0.77731  - 0h 1m 10s\n",
      "[Fold 5] ACC: 0.95067 - F1-macro: 0.94952 - Precision: 0.79864  - 0h 1m 9s\n",
      "----------------------------------------------------------------------------\n",
      "[Mean Fold] ACC: 0.95059 std: 0.00044 - 0h 5m 55s\n",
      "============================================================================\n",
      "\n",
      "              precision    recall  f1-score   support\n",
      "\n",
      "           1       0.94      0.96      0.95    293627\n",
      "           2       0.96      0.97      0.97    452417\n",
      "           3       0.90      0.82      0.86     39143\n",
      "           4       0.51      0.33      0.40        75\n",
      "           6       0.66      0.39      0.49      2285\n",
      "           7       0.82      0.57      0.67     12452\n",
      "\n",
      "    accuracy                           0.95    799999\n",
      "   macro avg       0.80      0.67      0.72    799999\n",
      "weighted avg       0.95      0.95      0.95    799999\n",
      "\n",
      "----------------------------------------------------------------------------\n",
      "Scaler Best: RobustScaler()\n",
      "Score      : 0.95075\n",
      "----------------------------------------------------------------------------\n",
      "\n",
      "\n",
      "CPU times: user 36min 19s, sys: 26.6 s, total: 36min 46s\n",
      "Wall time: 30min 11s\n"
     ]
    }
   ],
   "source": [
    "%%time \n",
    "scalers = [None,\n",
    "           StandardScaler(), \n",
    "           RobustScaler(), \n",
    "           MinMaxScaler(), \n",
    "           MaxAbsScaler(), \n",
    "           QuantileTransformer(output_distribution='normal', random_state=0)\n",
    "          ] \n",
    "\n",
    "seed     = 12359\n",
    "y_unique = y.unique()\n",
    "\n",
    "sample_weights = compute_sample_weight(class_weight='balanced', y=y)\n",
    "                 \n",
    "eval_metric = ['mlogloss','merror']\n",
    "        \n",
    "params = {\"objective\"        : 'multi:softmax', # multi:softprob', #,    \n",
    "          'eval_metric'      : eval_metric, \n",
    "          'learning_rate'    : 0.4,  \n",
    "          'sample_weight'    : sample_weights, \n",
    "          'num_class'        : len(y.unique()),\n",
    "          'random_state'     : seed, \n",
    "          'n_jobs'           : -1}\n",
    "\n",
    "if torch.cuda.is_available():           \n",
    "    params.update({'tree_method' : 'gpu_hist',                    \n",
    "                   'predictor'   : 'gpu_predictor'})\n",
    "\n",
    "model, df_proba = cross_val_model(model_         = xgb.XGBClassifier(**params),\n",
    "                                  model_name_    = 'xgb_baseline_score_{:2.5f}',\n",
    "                                  X_             = X,\n",
    "                                  y_             = y,\n",
    "                                  X_test_        = X_test,\n",
    "                                  target_        = target,\n",
    "                                  scalers_       = scalers,\n",
    "                                  fold_          = 5, \n",
    "                                  path_          = path,\n",
    "                                  seed_          = seed, \n",
    "                                  feature_scaler_= feature_float_test, \n",
    "                                  print_report_  = True\n",
    "                                  )\n",
    "\n",
    "#graf_eval()\n",
    "print()"
   ]
  },
  {
   "cell_type": "code",
   "execution_count": null,
   "metadata": {
    "colab": {
     "base_uri": "https://localhost:8080/",
     "height": 716
    },
    "executionInfo": {
     "elapsed": 1357,
     "status": "ok",
     "timestamp": 1639802349777,
     "user": {
      "displayName": "Rogério Delfim",
      "photoUrl": "https://lh3.googleusercontent.com/a-/AOh14Gj8lDYWTfZHU0U0sMojRPio71Ec7YDcSEpCaOEE=s64",
      "userId": "04235763959036945343"
     },
     "user_tz": 180
    },
    "id": "O9Mlgzn4ugJs",
    "outputId": "3000f7cc-5296-4af3-aac4-5be62d994eb4"
   },
   "outputs": [
    {
     "data": {
      "image/png": "[encoded data removed]",
      "text/plain": [
       "<Figure size 1440x864 with 1 Axes>"
      ]
     },
     "metadata": {},
     "output_type": "display_data"
    }
   ],
   "source": [
    "from xgboost import plot_importance\n",
    "fig, ax = plt.subplots(1,1,figsize=(20,12))\n",
    "plot_importance(model,ax=ax, xlabel=None)\n",
    "plt.show()"
   ]
  },
  {
   "cell_type": "markdown",
   "metadata": {
    "id": "TSkoZ0bh3EDe"
   },
   "source": [
    "<div class=\"alert alert-info\" role=\"alert\"> \n",
    " \n",
    "**`CONCLUSÃO:`** <br>\n",
    "    \n",
    "1. Verificar os valores negativos identificados na análise descritiva dos dados; \n",
    "2. Transformação das variáveis `Wilderness_Area` em dammy;\n",
    "3. Tratamento de outliers; \n",
    "4. Exclusão das variáveis `Soil_Type_7` e `Soil_Type_15` sem informações para modelagem. \n",
    "    \n",
    "    \n",
    "</div>"
   ]
  }
 ],
 "metadata": {
  "accelerator": "GPU",
  "colab": {
   "collapsed_sections": [],
   "machine_shape": "hm",
   "name": "01 - EDA.ipynb",
   "toc_visible": true,
   "version": ""
  },
  "hide_input": false,
  "kernelspec": {
   "display_name": "Python 3 (ipykernel)",
   "language": "python",
   "name": "python3"
  },
  "language_info": {
   "codemirror_mode": {
    "name": "ipython",
    "version": 3
   },
   "file_extension": ".py",
   "mimetype": "text/x-python",
   "name": "python",
   "nbconvert_exporter": "python",
   "pygments_lexer": "ipython3",
   "version": "3.9.7"
  },
  "nbTranslate": {
   "displayLangs": [
    "en",
    "pt-br"
   ],
   "hotkey": "",
   "langInMainMenu": true,
   "sourceLang": "en",
   "targetLang": "pt-br",
   "useGoogleTranslate": true
  },
  "toc": {
   "base_numbering": 1,
   "nav_menu": {},
   "number_sections": false,
   "sideBar": true,
   "skip_h1_title": false,
   "title_cell": "Table of Contents",
   "title_sidebar": "Contents",
   "toc_cell": false,
   "toc_position": {
    "height": "calc(100% - 180px)",
    "left": "10px",
    "top": "150px",
    "width": "211.717px"
   },
   "toc_section_display": true,
   "toc_window_display": true
  }
 },
 "nbformat": 4,
 "nbformat_minor": 1
}
