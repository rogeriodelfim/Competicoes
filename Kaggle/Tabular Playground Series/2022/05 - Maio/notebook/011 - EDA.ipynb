{
 "cells": [
  {
   "cell_type": "markdown",
   "metadata": {
    "id": "dyZU8TQF3EC_"
   },
   "source": [
    "<h1 div class='alert alert-info alert-dismissible'><center> Ponto de partida (EDA)</center></h1>\n",
    "\n",
    "![](https://storage.googleapis.com/kaggle-competitions/kaggle/26480/logos/header.png?t=2021-04-09-00-57-05)"
   ]
  },
  {
   "cell_type": "markdown",
   "metadata": {
    "id": "_63OYyaQFle4"
   },
   "source": [
    "A edição de maio do problema de classificação binária da série Tabular Playground de 2022 que inclui várias interações de recursos diferentes. Esta competição é uma oportunidade para explorar vários métodos para identificar e explorar essas interações de recursos. "
   ]
  },
  {
   "cell_type": "markdown",
   "metadata": {
    "id": "MhoTTWqXTluy"
   },
   "source": [
    "# <div class=\"alert alert-info alert-dismissible\">  OBJETIVO </div> "
   ]
  },
  {
   "cell_type": "markdown",
   "metadata": {
    "id": "Q0e0UrygTkr4"
   },
   "source": [
    "Neste notebook vamos fazer uma análise (EDA) para conhencer os dados e estabelecer uma linha de base.\n",
    "\n"
   ]
  },
  {
   "cell_type": "markdown",
   "metadata": {
    "id": "BVBGntvGT4r4"
   },
   "source": [
    "---"
   ]
  },
  {
   "cell_type": "markdown",
   "metadata": {
    "id": "Cjx0CaVr3EDF"
   },
   "source": [
    "# <div class=\"alert alert-info alert-dismissible\">  1. IMPORTAÇÕES </div> "
   ]
  },
  {
   "cell_type": "markdown",
   "metadata": {
    "id": "HkllrkTTeqs5"
   },
   "source": [
    "## 1.1. Instalações"
   ]
  },
  {
   "cell_type": "code",
   "execution_count": 1,
   "metadata": {
    "ExecuteTime": {
     "end_time": "2022-05-03T21:45:12.093636Z",
     "start_time": "2022-05-03T21:45:12.068640Z"
    },
    "colab": {
     "base_uri": "https://localhost:8080/"
    },
    "executionInfo": {
     "elapsed": 8633,
     "status": "ok",
     "timestamp": 1651533974650,
     "user": {
      "displayName": "Rogério Delfim",
      "userId": "04235763959036945343"
     },
     "user_tz": 180
    },
    "id": "_O4QLmfE3VfS",
    "outputId": "d0a40c48-15d4-478d-c092-b8f227cfbeb2"
   },
   "outputs": [],
   "source": [
    "# https://pub.towardsai.net/use-google-colab-like-a-pro-39a97184358d\n",
    "COLAB = 'google.colab' in str(get_ipython()) \n",
    "\n",
    "if COLAB:        \n",
    "    !pip install --q scikit-plot\n",
    "    !pip install --q category_encoders\n",
    "    !pip install --q shap\n",
    "    !pip install --q inflection    \n",
    "    #!pip install --q pycaret\n",
    "\n",
    "    from google.colab import drive\n",
    "    drive.mount('/content/drive')"
   ]
  },
  {
   "cell_type": "markdown",
   "metadata": {
    "id": "2TUVX7H53EDG"
   },
   "source": [
    "## 1.2. Bibliotecas "
   ]
  },
  {
   "cell_type": "code",
   "execution_count": 2,
   "metadata": {
    "ExecuteTime": {
     "end_time": "2022-05-03T21:45:57.364048Z",
     "start_time": "2022-05-03T21:45:17.213782Z"
    },
    "executionInfo": {
     "elapsed": 5375,
     "status": "ok",
     "timestamp": 1651517147077,
     "user": {
      "displayName": "Rogério Delfim",
      "userId": "04235763959036945343"
     },
     "user_tz": 180
    },
    "id": "7CkqtXYc3EDG"
   },
   "outputs": [],
   "source": [
    "import warnings\n",
    "import random\n",
    "import os\n",
    "import gc\n",
    "import torch\n",
    "import sklearn.exceptions\n",
    "import datetime\n",
    "import shap"
   ]
  },
  {
   "cell_type": "code",
   "execution_count": 194,
   "metadata": {
    "ExecuteTime": {
     "end_time": "2022-05-04T19:08:57.255977Z",
     "start_time": "2022-05-04T19:08:57.237988Z"
    },
    "colab": {
     "base_uri": "https://localhost:8080/"
    },
    "executionInfo": {
     "elapsed": 635,
     "status": "ok",
     "timestamp": 1651517147709,
     "user": {
      "displayName": "Rogério Delfim",
      "userId": "04235763959036945343"
     },
     "user_tz": 180
    },
    "id": "wlxzri_03EDH",
    "outputId": "ee0bb97d-14c9-4425-dcb7-e2f19d82478c"
   },
   "outputs": [],
   "source": [
    "import pandas            as pd\n",
    "import numpy             as np\n",
    "import matplotlib.pyplot as plt \n",
    "import seaborn           as sns\n",
    "import joblib            as jb\n",
    "import xgboost           as xgb\n",
    "import scipy.stats       as stats\n",
    "#import statsmodels.api   as sm\n",
    "#import dateutil.easter   as easter"
   ]
  },
  {
   "cell_type": "code",
   "execution_count": 4,
   "metadata": {
    "ExecuteTime": {
     "end_time": "2022-05-03T21:45:57.902230Z",
     "start_time": "2022-05-03T21:45:57.888232Z"
    },
    "executionInfo": {
     "elapsed": 261,
     "status": "ok",
     "timestamp": 1651522243969,
     "user": {
      "displayName": "Rogério Delfim",
      "userId": "04235763959036945343"
     },
     "user_tz": 180
    },
    "id": "EQ1kIGrLFle-"
   },
   "outputs": [],
   "source": [
    "from sklearn.model_selection import train_test_split, KFold, StratifiedKFold\n",
    "from sklearn.preprocessing   import StandardScaler, MinMaxScaler, power_transform\n",
    "from sklearn.preprocessing   import PowerTransformer, RobustScaler, Normalizer\n",
    "from sklearn.preprocessing   import MaxAbsScaler, QuantileTransformer, LabelEncoder\n",
    "from sklearn                 import metrics\n",
    "from sklearn.metrics         import ConfusionMatrixDisplay, confusion_matrix"
   ]
  },
  {
   "cell_type": "code",
   "execution_count": 5,
   "metadata": {
    "ExecuteTime": {
     "end_time": "2022-05-03T21:46:11.248861Z",
     "start_time": "2022-05-03T21:46:11.230858Z"
    },
    "executionInfo": {
     "elapsed": 2,
     "status": "ok",
     "timestamp": 1651517148896,
     "user": {
      "displayName": "Rogério Delfim",
      "userId": "04235763959036945343"
     },
     "user_tz": 180
    },
    "id": "MvrdO4I53EDI"
   },
   "outputs": [],
   "source": [
    "from datetime                import datetime\n",
    "#from pylab                   import rcParams\n",
    "#from matplotlib.ticker       import MaxNLocator, FormatStrFormatter, PercentFormatter"
   ]
  },
  {
   "cell_type": "markdown",
   "metadata": {
    "id": "H4ae2YzqFle_"
   },
   "source": [
    "---"
   ]
  },
  {
   "cell_type": "markdown",
   "metadata": {
    "id": "e0gRHehq3EDJ"
   },
   "source": [
    "## 1.3. Funções\n",
    "Aqui centralizamos todas as funções desenvolvidas durante o projeto para melhor organização do código."
   ]
  },
  {
   "cell_type": "code",
   "execution_count": 6,
   "metadata": {
    "ExecuteTime": {
     "end_time": "2022-05-03T21:46:13.674435Z",
     "start_time": "2022-05-03T21:46:13.652446Z"
    },
    "code_folding": [
     0
    ],
    "executionInfo": {
     "elapsed": 349,
     "status": "ok",
     "timestamp": 1651517154610,
     "user": {
      "displayName": "Rogério Delfim",
      "userId": "04235763959036945343"
     },
     "user_tz": 180
    },
    "id": "yTX8NxEj3EDK"
   },
   "outputs": [],
   "source": [
    "def jupyter_setting():\n",
    "    \n",
    "    %matplotlib inline\n",
    "      \n",
    "    #os.environ[\"WANDB_SILENT\"] = \"true\" \n",
    "    #plt.style.use('bmh') \n",
    "    #plt.rcParams['figure.figsize'] = [20,15]\n",
    "    #plt.rcParams['font.size']      = 13\n",
    "     \n",
    "    pd.options.display.max_columns = None\n",
    "    #pd.set_option('display.expand_frame_repr', False)\n",
    "\n",
    "    warnings.filterwarnings(action='ignore')\n",
    "    warnings.simplefilter('ignore')\n",
    "    warnings.filterwarnings('ignore')\n",
    "    warnings.filterwarnings('ignore', category=DeprecationWarning)\n",
    "    warnings.filterwarnings('ignore', category=FutureWarning)\n",
    "    warnings.filterwarnings('ignore', category=RuntimeWarning)\n",
    "    warnings.filterwarnings('ignore', category=UserWarning)\n",
    "    warnings.filterwarnings(\"ignore\", category=sklearn.exceptions.UndefinedMetricWarning)\n",
    "    warnings.filterwarnings(\"ignore\", category= sklearn.exceptions.UndefinedMetricWarning)\n",
    "\n",
    "    pd.set_option('display.max_rows', 200)\n",
    "    pd.set_option('display.max_columns', 500)\n",
    "    pd.set_option('display.max_colwidth', None)\n",
    "\n",
    "    icecream = [\"#00008b\", \"#960018\",\"#008b00\", \"#00468b\", \"#8b4500\", \"#582c00\"]\n",
    "    #sns.palplot(sns.color_palette(icecream))\n",
    "    \n",
    "    colors = [\"lightcoral\", \"sandybrown\", \"darkorange\", \"mediumseagreen\",\n",
    "          \"lightseagreen\", \"cornflowerblue\", \"mediumpurple\", \"palevioletred\",\n",
    "          \"lightskyblue\", \"sandybrown\", \"yellowgreen\", \"indianred\",\n",
    "          \"lightsteelblue\", \"mediumorchid\", \"deepskyblue\"]\n",
    "    \n",
    "    # Colors\n",
    "    dark_red   = \"#b20710\"\n",
    "    black      = \"#221f1f\"\n",
    "    green      = \"#009473\"\n",
    "    myred      = '#CD5C5C'\n",
    "    myblue     = '#6495ED'\n",
    "    mygreen    = '#90EE90'    \n",
    "    color_cols = [myred, myblue,mygreen]\n",
    "    \n",
    "    return icecream, colors, color_cols\n",
    "\n",
    "icecream, colors, color_cols = jupyter_setting()"
   ]
  },
  {
   "cell_type": "code",
   "execution_count": 7,
   "metadata": {
    "ExecuteTime": {
     "end_time": "2022-05-03T21:46:14.546462Z",
     "start_time": "2022-05-03T21:46:14.540435Z"
    },
    "code_folding": [
     0
    ],
    "executionInfo": {
     "elapsed": 2,
     "status": "ok",
     "timestamp": 1651517155495,
     "user": {
      "displayName": "Rogério Delfim",
      "userId": "04235763959036945343"
     },
     "user_tz": 180
    },
    "id": "RSJsVIJL3EDM"
   },
   "outputs": [],
   "source": [
    "def missing_zero_values_table(df):\n",
    "        mis_val         = df.isnull().sum()\n",
    "        mis_val_percent = round(df.isnull().mean().mul(100), 2)\n",
    "        mz_table        = pd.concat([mis_val, mis_val_percent], axis=1)\n",
    "        mz_table        = mz_table.rename(columns = {df.index.name:'col_name', \n",
    "                                                     0 : 'Valores ausentes', \n",
    "                                                     1 : '% de valores totais'})\n",
    "        \n",
    "        mz_table['Tipo de dados'] = df.dtypes\n",
    "        mz_table                  = mz_table[mz_table.iloc[:,1] != 0 ]. \\\n",
    "                                     sort_values('% de valores totais', ascending=False)\n",
    "        \n",
    "        msg = \"Seu dataframe selecionado tem {} colunas e {} \" + \\\n",
    "              \"linhas. \\nExistem {} colunas com valores ausentes.\"\n",
    "            \n",
    "        print (msg.format(df.shape[1], df.shape[0], mz_table.shape[0]))\n",
    "        \n",
    "        return mz_table.reset_index()"
   ]
  },
  {
   "cell_type": "code",
   "execution_count": 8,
   "metadata": {
    "ExecuteTime": {
     "end_time": "2022-05-03T21:46:15.112898Z",
     "start_time": "2022-05-03T21:46:15.100901Z"
    },
    "code_folding": [
     0
    ],
    "executionInfo": {
     "elapsed": 2,
     "status": "ok",
     "timestamp": 1651517155912,
     "user": {
      "displayName": "Rogério Delfim",
      "userId": "04235763959036945343"
     },
     "user_tz": 180
    },
    "id": "b0kN2eT93EDN"
   },
   "outputs": [],
   "source": [
    "def reduce_memory_usage(df, verbose=True):\n",
    "    \n",
    "    numerics = [\"int8\", \"int16\", \"int32\", \"int64\", \"float16\", \"float32\", \"float64\"]\n",
    "    start_mem = df.memory_usage().sum() / 1024 ** 2\n",
    "    \n",
    "    for col in df.columns:\n",
    "        \n",
    "        col_type = df[col].dtypes\n",
    "        \n",
    "        if col_type in numerics:\n",
    "            c_min = df[col].min()\n",
    "            c_max = df[col].max()\n",
    "            \n",
    "            if str(col_type)[:3] == \"int\":\n",
    "                if c_min > np.iinfo(np.int8).min and c_max < np.iinfo(np.int8).max:\n",
    "                    df[col] = df[col].astype(np.int8)\n",
    "                elif c_min > np.iinfo(np.int16).min and c_max < np.iinfo(np.int16).max:\n",
    "                    df[col] = df[col].astype(np.int16)\n",
    "                elif c_min > np.iinfo(np.int32).min and c_max < np.iinfo(np.int32).max:\n",
    "                    df[col] = df[col].astype(np.int32)\n",
    "                elif c_min > np.iinfo(np.int64).min and c_max < np.iinfo(np.int64).max:\n",
    "                    df[col] = df[col].astype(np.int64)\n",
    "            else:\n",
    "                if (\n",
    "                    c_min > np.finfo(np.float16).min\n",
    "                    and c_max < np.finfo(np.float16).max\n",
    "                ):\n",
    "                    df[col] = df[col].astype(np.float16)\n",
    "                elif (\n",
    "                    c_min > np.finfo(np.float32).min\n",
    "                    and c_max < np.finfo(np.float32).max\n",
    "                ):\n",
    "                    df[col] = df[col].astype(np.float32)\n",
    "                else:\n",
    "                    df[col] = df[col].astype(np.float64)\n",
    "    end_mem = df.memory_usage().sum() / 1024 ** 2\n",
    "    if verbose:\n",
    "        print(\n",
    "            \"Mem. usage decreased to {:.2f} Mb ({:.1f}% reduction)\".format(\n",
    "                end_mem, 100 * (start_mem - end_mem) / start_mem\n",
    "            )\n",
    "        )\n",
    "        \n",
    "    return df"
   ]
  },
  {
   "cell_type": "code",
   "execution_count": 9,
   "metadata": {
    "ExecuteTime": {
     "end_time": "2022-05-03T21:46:15.568898Z",
     "start_time": "2022-05-03T21:46:15.549867Z"
    },
    "code_folding": [
     0
    ],
    "executionInfo": {
     "elapsed": 3,
     "status": "ok",
     "timestamp": 1651517156571,
     "user": {
      "displayName": "Rogério Delfim",
      "userId": "04235763959036945343"
     },
     "user_tz": 180
    },
    "id": "C7tsJwqFFlfC"
   },
   "outputs": [],
   "source": [
    "def graf_label(ax, total):\n",
    "    \n",
    "     for i in ax.patches:\n",
    "        # get_width pulls left or right; get_y pushes up or down\n",
    "        width, height = i.get_width() -.2 , i.get_height()\n",
    "        \n",
    "        x, y  = i.get_xy()  \n",
    "        color = 'white'\n",
    "        alt   = .5\n",
    "        soma  = 0 \n",
    "\n",
    "        if height < 70:\n",
    "            color = 'black'\n",
    "            alt   = 1\n",
    "            soma  = 10\n",
    "\n",
    "        ax.annotate(str(round((i.get_height() * 100.0 / total), 1) )+'%', \n",
    "                    (i.get_x()+.3*width, \n",
    "                     i.get_y()+soma + alt*height),\n",
    "                     color   = color,\n",
    "                     weight = 'bold',\n",
    "                     size   = 14)"
   ]
  },
  {
   "cell_type": "code",
   "execution_count": 10,
   "metadata": {
    "ExecuteTime": {
     "end_time": "2022-05-03T21:46:16.039068Z",
     "start_time": "2022-05-03T21:46:16.021029Z"
    },
    "code_folding": [
     0
    ],
    "executionInfo": {
     "elapsed": 2,
     "status": "ok",
     "timestamp": 1651517157255,
     "user": {
      "displayName": "Rogério Delfim",
      "userId": "04235763959036945343"
     },
     "user_tz": 180
    },
    "id": "d73V6WXqFlfC"
   },
   "outputs": [],
   "source": [
    "def graf_bar(df, col, title, xlabel, ylabel, tol = 0):\n",
    "    \n",
    "    #ax    = df.groupby(['churn_cat'])['churn_cat'].count()\n",
    "    ax     = df    \n",
    "    colors = col\n",
    "    \n",
    "    if tol == 0: \n",
    "        total  = sum(ax)\n",
    "        ax = (ax).plot(kind    ='bar',\n",
    "                       stacked = True,\n",
    "                       width   = .5,\n",
    "                       rot     = 0,\n",
    "                       color   = colors, \n",
    "                       grid    = False)\n",
    "    else:\n",
    "        total  = tol     \n",
    "        \n",
    "        ax = (ax).plot(kind    ='bar',\n",
    "                       stacked = True,\n",
    "                       width   = .5,\n",
    "                       rot     = 0,\n",
    "                       figsize = (10,6),\n",
    "                       color   = colors,\n",
    "                       grid    = False)\n",
    "\n",
    "    #ax.yaxis.set_major_formatter(mtick.PercentFormatter())\n",
    "    \n",
    "    #y_fmt = tick.FormatStrFormatter('%.0f') \n",
    "    #ax.yaxis.set_major_formatter(y_fmt)\n",
    "\n",
    "    title   = title #+ ' \\n'\n",
    "    xlabel  = '\\n ' + xlabel \n",
    "    ylabel  = ylabel + ' \\n'\n",
    "    \n",
    "    ax.set_title(title  , fontsize=22)\n",
    "    ax.set_xlabel(xlabel, fontsize=12)\n",
    "    ax.set_ylabel(ylabel, fontsize=12)    \n",
    "\n",
    "    min = [0,23000000]\n",
    "    #ax.set_ylim(min)\n",
    "    \n",
    "    graf_label(ax, total)"
   ]
  },
  {
   "cell_type": "code",
   "execution_count": 11,
   "metadata": {
    "ExecuteTime": {
     "end_time": "2022-05-03T21:46:16.510316Z",
     "start_time": "2022-05-03T21:46:16.491317Z"
    },
    "code_folding": [
     0
    ],
    "executionInfo": {
     "elapsed": 1,
     "status": "ok",
     "timestamp": 1651517157970,
     "user": {
      "displayName": "Rogério Delfim",
      "userId": "04235763959036945343"
     },
     "user_tz": 180
    },
    "id": "TdxGbtceFlfC"
   },
   "outputs": [],
   "source": [
    "def smape(pred, obs):\n",
    "    pred = np.array(pred)\n",
    "    obs = np.array(obs)   \n",
    "    return 100 * np.mean(2 * abs(pred-obs)/(abs(obs)+abs(pred)))"
   ]
  },
  {
   "cell_type": "code",
   "execution_count": 12,
   "metadata": {
    "ExecuteTime": {
     "end_time": "2022-05-03T21:46:17.012500Z",
     "start_time": "2022-05-03T21:46:16.996491Z"
    },
    "code_folding": [
     0
    ],
    "executionInfo": {
     "elapsed": 2,
     "status": "ok",
     "timestamp": 1651517158525,
     "user": {
      "displayName": "Rogério Delfim",
      "userId": "04235763959036945343"
     },
     "user_tz": 180
    },
    "id": "9xPs_YrKFlfC"
   },
   "outputs": [],
   "source": [
    "def smape_loss(y_true, y_pred):\n",
    "    \"\"\"SMAPE Loss\"\"\"\n",
    "    return np.abs(y_true - y_pred) / (y_true + np.abs(y_pred)) * 200"
   ]
  },
  {
   "cell_type": "code",
   "execution_count": 13,
   "metadata": {
    "ExecuteTime": {
     "end_time": "2022-05-03T21:46:17.687648Z",
     "start_time": "2022-05-03T21:46:17.677660Z"
    },
    "code_folding": [
     0
    ],
    "executionInfo": {
     "elapsed": 2,
     "status": "ok",
     "timestamp": 1651517159551,
     "user": {
      "displayName": "Rogério Delfim",
      "userId": "04235763959036945343"
     },
     "user_tz": 180
    },
    "id": "fJBA6uxUFlfD"
   },
   "outputs": [],
   "source": [
    "def SMAPE(y_true, y_pred):\n",
    "    denominator = (y_true + np.abs(y_pred)) / 200.0\n",
    "    diff = np.abs(y_true - y_pred) / denominator\n",
    "    diff[denominator == 0] = 0.0\n",
    "    return np.mean(diff)"
   ]
  },
  {
   "cell_type": "code",
   "execution_count": 14,
   "metadata": {
    "ExecuteTime": {
     "end_time": "2022-05-03T21:46:18.189342Z",
     "start_time": "2022-05-03T21:46:18.172341Z"
    },
    "code_folding": [
     0
    ],
    "executionInfo": {
     "elapsed": 2,
     "status": "ok",
     "timestamp": 1651517160908,
     "user": {
      "displayName": "Rogério Delfim",
      "userId": "04235763959036945343"
     },
     "user_tz": 180
    },
    "id": "ljFBLf4UFlfD"
   },
   "outputs": [],
   "source": [
    "def calc_erro(y, y_pred, outros=True, ruturn_score=False):\n",
    "    erro   = smape(y, y_pred)    \n",
    "      \n",
    "    \n",
    "    if outros:        \n",
    "        rmse = metrics.mean_squared_error(y, y_pred, squared=False)\n",
    "        mape = metrics.mean_absolute_percentage_error(y, y_pred)\n",
    "        mae  = metrics.mean_absolute_error(y, y_pred)\n",
    "        \n",
    "        print('RMSE : {:2.5f}'.format(rmse))\n",
    "        print('MAE  : {:2.5f}'.format(mae))\n",
    "        print('MAPE : {:2.5f}'.format(mape))\n",
    "        \n",
    "        \n",
    "    if ruturn_score: \n",
    "        return erro\n",
    "    else: \n",
    "        print('SMAPE: {:2.5f}'.format(erro))"
   ]
  },
  {
   "cell_type": "code",
   "execution_count": 15,
   "metadata": {
    "ExecuteTime": {
     "end_time": "2022-05-03T21:46:18.674291Z",
     "start_time": "2022-05-03T21:46:18.662275Z"
    },
    "code_folding": [
     0
    ],
    "executionInfo": {
     "elapsed": 2,
     "status": "ok",
     "timestamp": 1651517161619,
     "user": {
      "displayName": "Rogério Delfim",
      "userId": "04235763959036945343"
     },
     "user_tz": 180
    },
    "id": "thQyW6AF3EDP"
   },
   "outputs": [],
   "source": [
    "def df_corr(df, annot_=False):\n",
    "    \n",
    "    df = df.corr(method ='pearson').round(5)\n",
    "\n",
    "    # Máscara para ocultar a parte superior direita do gráfico, pois é uma duplicata\n",
    "    mask = np.zeros_like(df)\n",
    "    mask[np.triu_indices_from(mask)] = True\n",
    "\n",
    "    # Making a plot\n",
    "    plt.figure(figsize=(15,12))\n",
    "    ax = sns.heatmap(df, annot=annot_, mask=mask, cmap=\"RdBu\", annot_kws={\"weight\": \"bold\", \"fontsize\":13})\n",
    "\n",
    "    ax.set_title(\"Mapa de calor de correlação das variável\", fontsize=17)\n",
    "\n",
    "    plt.setp(ax.get_xticklabels(), \n",
    "             rotation      = 90, \n",
    "             ha            = \"right\",\n",
    "             rotation_mode = \"anchor\", \n",
    "             weight        = \"normal\")\n",
    "\n",
    "    plt.setp(ax.get_yticklabels(), \n",
    "             weight        = \"normal\",\n",
    "             rotation_mode = \"anchor\", \n",
    "             rotation      = 0, \n",
    "             ha            = \"right\");"
   ]
  },
  {
   "cell_type": "code",
   "execution_count": 16,
   "metadata": {
    "ExecuteTime": {
     "end_time": "2022-05-03T21:46:19.146335Z",
     "start_time": "2022-05-03T21:46:19.132311Z"
    },
    "code_folding": [
     0
    ],
    "executionInfo": {
     "elapsed": 1,
     "status": "ok",
     "timestamp": 1651517162306,
     "user": {
      "displayName": "Rogério Delfim",
      "userId": "04235763959036945343"
     },
     "user_tz": 180
    },
    "id": "bb_8Biqh3EDN"
   },
   "outputs": [],
   "source": [
    "def describe(df):\n",
    "    var = df.columns\n",
    "\n",
    "    # Medidas de tendência central, média e mediana \n",
    "    ct1 = pd.DataFrame(df[var].apply(np.mean)).T\n",
    "    ct2 = pd.DataFrame(df[var].apply(np.median)).T\n",
    "\n",
    "    # Dispensão - str, min , max range skew, kurtosis\n",
    "    d1 = pd.DataFrame(df[var].apply(np.std)).T\n",
    "    d2 = pd.DataFrame(df[var].apply(min)).T\n",
    "    d3 = pd.DataFrame(df[var].apply(max)).T\n",
    "    d4 = pd.DataFrame(df[var].apply(lambda x: x.max() - x.min())).T\n",
    "    d5 = pd.DataFrame(df[var].apply(lambda x: x.skew())).T\n",
    "    d6 = pd.DataFrame(df[var].apply(lambda x: x.kurtosis())).T\n",
    "    d7 = pd.DataFrame(df[var].apply(lambda x: (3 *( np.mean(x) - np.median(x)) / np.std(x) ))).T\n",
    "\n",
    "    # concatenete \n",
    "    m = pd.concat([d2, d3, d4, ct1, ct2, d1, d5, d6, d7]).T.reset_index()\n",
    "    m.columns = ['attrobutes', 'min', 'max', 'range', 'mean', 'median', 'std','skew', 'kurtosis','coef_as']\n",
    "    \n",
    "    return m"
   ]
  },
  {
   "cell_type": "code",
   "execution_count": 17,
   "metadata": {
    "ExecuteTime": {
     "end_time": "2022-05-03T21:46:19.633993Z",
     "start_time": "2022-05-03T21:46:19.623029Z"
    },
    "code_folding": [
     0
    ],
    "executionInfo": {
     "elapsed": 2,
     "status": "ok",
     "timestamp": 1651517162935,
     "user": {
      "displayName": "Rogério Delfim",
      "userId": "04235763959036945343"
     },
     "user_tz": 180
    },
    "id": "wtEel0-T3EDP",
    "run_control": {
     "marked": false
    }
   },
   "outputs": [],
   "source": [
    "def graf_outlier(df, feature):\n",
    "    col = [(0,4), (5,9)]\n",
    "\n",
    "    df_plot = ((df[feature] - df[feature].min())/\n",
    "               (df[feature].max() - df[feature].min()))\n",
    "\n",
    "    fig, ax = plt.subplots(len(col), 1, figsize=(15,7))\n",
    "\n",
    "    for i, (x) in enumerate(col): \n",
    "        sns.boxplot(data = df_plot.iloc[:, x[0]:x[1] ], ax = ax[i]); "
   ]
  },
  {
   "cell_type": "code",
   "execution_count": 18,
   "metadata": {
    "ExecuteTime": {
     "end_time": "2022-05-03T21:46:20.148984Z",
     "start_time": "2022-05-03T21:46:20.131981Z"
    },
    "code_folding": [
     0
    ],
    "executionInfo": {
     "elapsed": 248,
     "status": "ok",
     "timestamp": 1651517164387,
     "user": {
      "displayName": "Rogério Delfim",
      "userId": "04235763959036945343"
     },
     "user_tz": 180
    },
    "id": "TxcXdVQ53EDP"
   },
   "outputs": [],
   "source": [
    "def diff(t_a, t_b):\n",
    "    from dateutil.relativedelta import relativedelta\n",
    "    t_diff = relativedelta(t_b, t_a)  # later/end time comes first!\n",
    "    return '{h}h {m}m {s}s'.format(h=t_diff.hours, m=t_diff.minutes, s=t_diff.seconds)"
   ]
  },
  {
   "cell_type": "code",
   "execution_count": 19,
   "metadata": {
    "ExecuteTime": {
     "end_time": "2022-05-03T21:46:20.990813Z",
     "start_time": "2022-05-03T21:46:20.972815Z"
    },
    "code_folding": [
     0
    ],
    "executionInfo": {
     "elapsed": 1,
     "status": "ok",
     "timestamp": 1651517165335,
     "user": {
      "displayName": "Rogério Delfim",
      "userId": "04235763959036945343"
     },
     "user_tz": 180
    },
    "id": "ITXjrwHDJvZ7"
   },
   "outputs": [],
   "source": [
    "def free_gpu_cache():\n",
    "    \n",
    "    # https://www.kaggle.com/getting-started/140636\n",
    "    #print(\"Initial GPU Usage\")\n",
    "    #gpu_usage()                             \n",
    "\n",
    "    #cuda.select_device(0)\n",
    "    #cuda.close()\n",
    "    #cuda.select_device(0)   \n",
    "    \n",
    "    gc.collect()\n",
    "    torch.cuda.empty_cache()"
   ]
  },
  {
   "cell_type": "code",
   "execution_count": 20,
   "metadata": {
    "ExecuteTime": {
     "end_time": "2022-05-03T21:46:21.694353Z",
     "start_time": "2022-05-03T21:46:21.677350Z"
    },
    "code_folding": [
     0
    ],
    "executionInfo": {
     "elapsed": 2,
     "status": "ok",
     "timestamp": 1651517166041,
     "user": {
      "displayName": "Rogério Delfim",
      "userId": "04235763959036945343"
     },
     "user_tz": 180
    },
    "id": "ntOS4C8DntcL"
   },
   "outputs": [],
   "source": [
    "def graf_eval():\n",
    "\n",
    "    results     = model.evals_result()\n",
    "    ntree_limit = model.best_ntree_limit\n",
    "\n",
    "    plt.figure(figsize=(20,7))\n",
    "\n",
    "    for i, error in  enumerate(['mlogloss', 'merror']):#\n",
    "        \n",
    "        plt.subplot(1,2,i+1)\n",
    "        plt.plot(results[\"validation_0\"][error], label=\"Treinamento\")\n",
    "        plt.plot(results[\"validation_1\"][error], label=\"Validação\")\n",
    "\n",
    "        plt.axvline(ntree_limit, \n",
    "                    color=\"gray\", \n",
    "                    label=\"N. de árvore ideal {}\".format(ntree_limit))\n",
    "                    \n",
    "        \n",
    "        title_name ='\\n' + error.upper() + ' PLOT \\n'\n",
    "        plt.title(title_name)\n",
    "        plt.xlabel(\"Número de árvores\")\n",
    "        plt.ylabel(error)\n",
    "        plt.legend();"
   ]
  },
  {
   "cell_type": "code",
   "execution_count": 21,
   "metadata": {
    "ExecuteTime": {
     "end_time": "2022-05-03T21:46:22.212047Z",
     "start_time": "2022-05-03T21:46:22.196011Z"
    },
    "code_folding": [
     0
    ],
    "executionInfo": {
     "elapsed": 1,
     "status": "ok",
     "timestamp": 1651517166955,
     "user": {
      "displayName": "Rogério Delfim",
      "userId": "04235763959036945343"
     },
     "user_tz": 180
    },
    "id": "yJn6wX2cFlfE"
   },
   "outputs": [],
   "source": [
    "#define the smape function\n",
    "def smape(y_true, y_pred):\n",
    "    denominator = (np.abs(y_true) + np.abs(y_pred)) / 200.0\n",
    "    diff = np.abs(y_true - y_pred) / denominator\n",
    "    diff[denominator == 0] = 0.0\n",
    "    return np.nanmean(diff)"
   ]
  },
  {
   "cell_type": "code",
   "execution_count": 22,
   "metadata": {
    "ExecuteTime": {
     "end_time": "2022-05-03T21:46:22.773467Z",
     "start_time": "2022-05-03T21:46:22.766466Z"
    },
    "code_folding": [
     0
    ],
    "executionInfo": {
     "elapsed": 1,
     "status": "ok",
     "timestamp": 1651517167558,
     "user": {
      "displayName": "Rogério Delfim",
      "userId": "04235763959036945343"
     },
     "user_tz": 180
    },
    "id": "r6nTObT_FlfF"
   },
   "outputs": [],
   "source": [
    "def linear_fit_slope(y):\n",
    "    \"\"\"Return the slope of a linear fit to a series.\"\"\"\n",
    "    y_pure = y.dropna()\n",
    "    length = len(y_pure)\n",
    "    x = np.arange(0, length)\n",
    "    slope, intercept = np.polyfit(x, y_pure.values, deg=1)\n",
    "    return slope"
   ]
  },
  {
   "cell_type": "code",
   "execution_count": 23,
   "metadata": {
    "ExecuteTime": {
     "end_time": "2022-05-03T21:46:23.337459Z",
     "start_time": "2022-05-03T21:46:23.325429Z"
    },
    "code_folding": [
     0
    ],
    "executionInfo": {
     "elapsed": 1,
     "status": "ok",
     "timestamp": 1651517168399,
     "user": {
      "displayName": "Rogério Delfim",
      "userId": "04235763959036945343"
     },
     "user_tz": 180
    },
    "id": "qLfA1ozEFlfF"
   },
   "outputs": [],
   "source": [
    "def linear_fit_intercept(y):\n",
    "    \"\"\"Return the intercept of a linear fit to a series.\"\"\"\n",
    "    y_pure = y.dropna()\n",
    "    length = len(y_pure)\n",
    "    x = np.arange(0, length)\n",
    "    slope, intercept = np.polyfit(x, y_pure.values, deg=1)\n",
    "    return intercept"
   ]
  },
  {
   "cell_type": "code",
   "execution_count": 24,
   "metadata": {
    "ExecuteTime": {
     "end_time": "2022-05-03T21:46:23.874261Z",
     "start_time": "2022-05-03T21:46:23.861259Z"
    },
    "code_folding": [
     0
    ],
    "executionInfo": {
     "elapsed": 2,
     "status": "ok",
     "timestamp": 1651517168752,
     "user": {
      "displayName": "Rogério Delfim",
      "userId": "04235763959036945343"
     },
     "user_tz": 180
    },
    "id": "D84HkQaKFlfF"
   },
   "outputs": [],
   "source": [
    "def cromer_v(x, y):\n",
    "    cm       = pd.crosstab(x, y).to_numpy()        \n",
    "    n        = cm.sum()\n",
    "    r, k     = cm.shape\n",
    "    chi2     = stats.chi2_contingency(cm)[0]\n",
    "    chi2corr = max(0, chi2 - (k-1) * (r-1) /(n-1))\n",
    "    kcorr    = k - (k-1) **2/(n-1)\n",
    "    rcorr    = r - (r-1) **2/(n-1)    \n",
    "    v        = np.sqrt((chi2corr/n) / (min(kcorr-1, rcorr-1)))        \n",
    "    return v  \n"
   ]
  },
  {
   "cell_type": "code",
   "execution_count": 25,
   "metadata": {
    "ExecuteTime": {
     "end_time": "2022-05-03T21:46:24.632849Z",
     "start_time": "2022-05-03T21:46:24.611850Z"
    },
    "code_folding": [
     0
    ],
    "executionInfo": {
     "elapsed": 2,
     "status": "ok",
     "timestamp": 1651517169848,
     "user": {
      "displayName": "Rogério Delfim",
      "userId": "04235763959036945343"
     },
     "user_tz": 180
    },
    "id": "nDITCHl8FlfF"
   },
   "outputs": [],
   "source": [
    "def generate_category_table(data):\n",
    "\n",
    "    cols    = data.select_dtypes(include='object').columns\n",
    "    dataset = pd.DataFrame()\n",
    "\n",
    "    for i in cols:\n",
    "        corr = []\n",
    "        for x in cols: \n",
    "            corr.append(cromer_v(data[i],data[x]))\n",
    "\n",
    "        aux     = pd.DataFrame({i:corr})\n",
    "        dataset = pd.concat([dataset, aux], axis=1) \n",
    "\n",
    "    return dataset.set_index(dataset.columns)"
   ]
  },
  {
   "cell_type": "code",
   "execution_count": 26,
   "metadata": {
    "ExecuteTime": {
     "end_time": "2022-05-03T21:46:25.181835Z",
     "start_time": "2022-05-03T21:46:25.165800Z"
    },
    "code_folding": [
     0
    ],
    "executionInfo": {
     "elapsed": 2,
     "status": "ok",
     "timestamp": 1651517170239,
     "user": {
      "displayName": "Rogério Delfim",
      "userId": "04235763959036945343"
     },
     "user_tz": 180
    },
    "id": "ysi8nyu8FlfF"
   },
   "outputs": [],
   "source": [
    "def graf_feature_corr(df, annot_=False, threshold=.8, print_var=False):\n",
    "    \n",
    "    df = df.corr(method ='pearson').round(5)\n",
    "\n",
    "    # Máscara para ocultar a parte superior direita do gráfico, pois é uma duplicata\n",
    "    mask = np.zeros_like(df)\n",
    "    mask[np.triu_indices_from(mask)] = True\n",
    "\n",
    "    # Making a plot\n",
    "    ax = sns.heatmap(df, annot=annot_, mask=mask, cmap=\"RdBu\", annot_kws={\"weight\": \"bold\", \"fontsize\":13})\n",
    "\n",
    "    ax.set_title(\"Mapa de calor de correlação das variável\", fontsize=17)\n",
    "\n",
    "    plt.setp(ax.get_xticklabels(), \n",
    "             rotation      = 90, \n",
    "             ha            = \"right\",\n",
    "             rotation_mode = \"anchor\", \n",
    "             weight        = \"normal\")\n",
    "\n",
    "    plt.setp(ax.get_yticklabels(), \n",
    "             weight        = \"normal\",\n",
    "             rotation_mode = \"anchor\", \n",
    "             rotation      = 0, \n",
    "             ha            = \"right\");\n",
    "    \n",
    "    if print_var: \n",
    "        print('Variáveis autocorrelacionadas threshold={:2.2f}'.format(threshold))\n",
    "        df_corr = df[abs(df)>threshold][df!=1.0].unstack().dropna().reset_index()\n",
    "        df_corr.columns =  ['var_1', 'var_2', 'corr']\n",
    "        display(df_corr)"
   ]
  },
  {
   "cell_type": "code",
   "execution_count": 27,
   "metadata": {
    "ExecuteTime": {
     "end_time": "2022-05-03T21:46:25.621655Z",
     "start_time": "2022-05-03T21:46:25.612657Z"
    },
    "code_folding": [
     0
    ]
   },
   "outputs": [],
   "source": [
    "def plot_roc_curve(fpr, tpr, label=None):\n",
    "    fig, ax = plt.subplots()\n",
    "    ax.plot(fpr, tpr, \"r-\", label=label)\n",
    "    ax.plot([0, 1], [0, 1], transform=ax.transAxes, ls=\"--\", c=\".3\")\n",
    "    plt.xlim([0.0, 1.0])\n",
    "    plt.ylim([0.0, 1.0])\n",
    "    plt.rcParams['font.size'] = 12\n",
    "    plt.title('ROC curve for FLAI 08')\n",
    "    plt.xlabel('False Positive Rate (1 - Specificity)')\n",
    "    plt.ylabel('True Positive Rate (Sensitivity)')\n",
    "    plt.legend(loc=\"lower right\")\n",
    "    plt.grid(True)"
   ]
  },
  {
   "cell_type": "code",
   "execution_count": 28,
   "metadata": {
    "ExecuteTime": {
     "end_time": "2022-05-03T21:46:26.094873Z",
     "start_time": "2022-05-03T21:46:26.075907Z"
    },
    "code_folding": [
     0
    ],
    "executionInfo": {
     "elapsed": 2,
     "status": "ok",
     "timestamp": 1651517170887,
     "user": {
      "displayName": "Rogério Delfim",
      "userId": "04235763959036945343"
     },
     "user_tz": 180
    },
    "id": "BTy3Pk6NFlfG"
   },
   "outputs": [],
   "source": [
    "def feature_engineering(df_):\n",
    "    \n",
    "    var_f27 = ''\n",
    "    for col in df_['f_27']: \n",
    "        var_f27 +=col\n",
    "\n",
    "    var_f27 = list(set(var_f27))\n",
    "    var_f27.sort()\n",
    "    \n",
    "    df_[\"fe_f_27_unique\"] = df_[\"f_27\"].apply(lambda x: len(set(x)))\n",
    "    \n",
    "    for letra in var_f27:             \n",
    "        df_['fe_' + letra.lower() + '_count'] = df2_train[\"f_27\"].str.count(letra)\n",
    "        \n",
    "    return df_ "
   ]
  },
  {
   "cell_type": "markdown",
   "metadata": {
    "id": "zB4XYQAXFlfG"
   },
   "source": [
    "---"
   ]
  },
  {
   "cell_type": "markdown",
   "metadata": {
    "id": "MocWXt1J3EDP"
   },
   "source": [
    "## 1.4. Dataset"
   ]
  },
  {
   "cell_type": "markdown",
   "metadata": {
    "id": "tye_0Gh23EDQ"
   },
   "source": [
    "### 1.4.1. Descrição de dados\n",
    "\n",
    "Para este desafio, temos um conjunto de dados de controle de fabricação (simulados) e temos a tarefa de prever se a máquina está em estado 0 ou estado 1, os dados têm várias interações de variáveis que podem ser importantes na determinação do estado da máquina, o qual devemos identificar para uma boa tareja de previsão. \n",
    "\n",
    "\n",
    "### 1.4.2. Arquivos\n",
    "- **treino.csv**: conjunto de treinamento, que incluem dados contínuos normalizados e dados categóricos;\n",
    "- **teste.csv**: conjunto de teste, a tarefa é prever um binário para target que representa o estado de um processo de fabricação\n",
    "- **sample_submission.csv**: um arquivo de envio de amostra no formato correto"
   ]
  },
  {
   "cell_type": "markdown",
   "metadata": {
    "id": "ZJiYmMHZFlfG"
   },
   "source": [
    "### 1.4.3. Estrutura de pasta\n",
    "A finalidade é criar um estrutura de pasta para armazenar os artefatos criados no processo de análise e modelagem."
   ]
  },
  {
   "cell_type": "code",
   "execution_count": 30,
   "metadata": {
    "ExecuteTime": {
     "end_time": "2022-05-03T21:52:01.729743Z",
     "start_time": "2022-05-03T21:52:01.709749Z"
    },
    "executionInfo": {
     "elapsed": 277,
     "status": "ok",
     "timestamp": 1651517176821,
     "user": {
      "displayName": "Rogério Delfim",
      "userId": "04235763959036945343"
     },
     "user_tz": 180
    },
    "id": "vaTHvoMk3EDQ"
   },
   "outputs": [],
   "source": [
    "paths = ['img', 'Data', 'Data/pkl', 'Data/submission', 'Data/tunning', \n",
    "         'model', 'model/preds', 'model/optuna','model/preds/test', \n",
    "         'model/preds/test/n1', 'model/preds/test/n2', 'model/preds/test/n3', \n",
    "         'model/preds/train', 'model/preds/train/n1', 'model/preds/train/n2', \n",
    "         'model/preds/train/n3', 'model/preds/param']\n",
    "\n",
    "for path in paths:\n",
    "    try:\n",
    "        os.mkdir(path)       \n",
    "    except:\n",
    "        pass  "
   ]
  },
  {
   "cell_type": "markdown",
   "metadata": {
    "id": "5EmEWgvYFlfH"
   },
   "source": [
    "### 1.4.4. Carrega dados"
   ]
  },
  {
   "cell_type": "code",
   "execution_count": 105,
   "metadata": {
    "ExecuteTime": {
     "end_time": "2022-05-04T01:13:05.814335Z",
     "start_time": "2022-05-04T01:13:05.796304Z"
    },
    "executionInfo": {
     "elapsed": 249,
     "status": "ok",
     "timestamp": 1651517278947,
     "user": {
      "displayName": "Rogério Delfim",
      "userId": "04235763959036945343"
     },
     "user_tz": 180
    },
    "id": "UMukCbedFlfH"
   },
   "outputs": [],
   "source": [
    "path        = '/content/drive/MyDrive/kaggle/Tabular Playground Series/05 - Maio/' if COLAB else ''   \n",
    "path_data   = 'Data/'  \n",
    "target      = 'target'\n",
    "path_automl = 'automl/'"
   ]
  },
  {
   "cell_type": "code",
   "execution_count": 32,
   "metadata": {
    "ExecuteTime": {
     "end_time": "2022-05-03T21:52:23.234616Z",
     "start_time": "2022-05-03T21:52:10.597546Z"
    },
    "colab": {
     "base_uri": "https://localhost:8080/"
    },
    "executionInfo": {
     "elapsed": 12975,
     "status": "ok",
     "timestamp": 1651517346987,
     "user": {
      "displayName": "Rogério Delfim",
      "userId": "04235763959036945343"
     },
     "user_tz": 180
    },
    "id": "BZO_GBDb3EDQ",
    "outputId": "0583f64e-3968-45fa-8523-2e0ca256f79e"
   },
   "outputs": [
    {
     "data": {
      "text/plain": [
       "((900000, 33), (700000, 32), (700000, 2))"
      ]
     },
     "execution_count": 32,
     "metadata": {},
     "output_type": "execute_result"
    }
   ],
   "source": [
    "df1_train     = pd.read_csv(path + path_data + 'train.csv')\n",
    "df1_test      = pd.read_csv(path + path_data + 'test.csv')\n",
    "df_submission = pd.read_csv(path + path_data + 'sample_submission.csv')\n",
    "\n",
    "df1_train.shape, df1_test.shape, df_submission.shape"
   ]
  },
  {
   "cell_type": "code",
   "execution_count": 33,
   "metadata": {
    "ExecuteTime": {
     "end_time": "2022-05-03T21:52:28.272805Z",
     "start_time": "2022-05-03T21:52:28.237796Z"
    },
    "colab": {
     "base_uri": "https://localhost:8080/",
     "height": 270
    },
    "executionInfo": {
     "elapsed": 261,
     "status": "ok",
     "timestamp": 1651517351546,
     "user": {
      "displayName": "Rogério Delfim",
      "userId": "04235763959036945343"
     },
     "user_tz": 180
    },
    "id": "15l3Wg3O3EDQ",
    "outputId": "29a5a6fa-7d8b-4e6c-b12d-def887699427"
   },
   "outputs": [
    {
     "data": {
      "text/html": [
       "<div>\n",
       "<style scoped>\n",
       "    .dataframe tbody tr th:only-of-type {\n",
       "        vertical-align: middle;\n",
       "    }\n",
       "\n",
       "    .dataframe tbody tr th {\n",
       "        vertical-align: top;\n",
       "    }\n",
       "\n",
       "    .dataframe thead th {\n",
       "        text-align: right;\n",
       "    }\n",
       "</style>\n",
       "<table border=\"1\" class=\"dataframe\">\n",
       "  <thead>\n",
       "    <tr style=\"text-align: right;\">\n",
       "      <th></th>\n",
       "      <th>id</th>\n",
       "      <th>f_00</th>\n",
       "      <th>f_01</th>\n",
       "      <th>f_02</th>\n",
       "      <th>f_03</th>\n",
       "      <th>f_04</th>\n",
       "      <th>f_05</th>\n",
       "      <th>f_06</th>\n",
       "      <th>f_07</th>\n",
       "      <th>f_08</th>\n",
       "      <th>f_09</th>\n",
       "      <th>f_10</th>\n",
       "      <th>f_11</th>\n",
       "      <th>f_12</th>\n",
       "      <th>f_13</th>\n",
       "      <th>f_14</th>\n",
       "      <th>f_15</th>\n",
       "      <th>f_16</th>\n",
       "      <th>f_17</th>\n",
       "      <th>f_18</th>\n",
       "      <th>f_19</th>\n",
       "      <th>f_20</th>\n",
       "      <th>f_21</th>\n",
       "      <th>f_22</th>\n",
       "      <th>f_23</th>\n",
       "      <th>f_24</th>\n",
       "      <th>f_25</th>\n",
       "      <th>f_26</th>\n",
       "      <th>f_27</th>\n",
       "      <th>f_28</th>\n",
       "      <th>f_29</th>\n",
       "      <th>f_30</th>\n",
       "      <th>target</th>\n",
       "    </tr>\n",
       "  </thead>\n",
       "  <tbody>\n",
       "    <tr>\n",
       "      <th>0</th>\n",
       "      <td>0</td>\n",
       "      <td>-1.373246</td>\n",
       "      <td>0.238887</td>\n",
       "      <td>-0.243376</td>\n",
       "      <td>0.567405</td>\n",
       "      <td>-0.647715</td>\n",
       "      <td>0.839326</td>\n",
       "      <td>0.113133</td>\n",
       "      <td>1</td>\n",
       "      <td>5</td>\n",
       "      <td>1</td>\n",
       "      <td>3</td>\n",
       "      <td>3</td>\n",
       "      <td>3</td>\n",
       "      <td>1</td>\n",
       "      <td>6</td>\n",
       "      <td>1</td>\n",
       "      <td>0</td>\n",
       "      <td>7</td>\n",
       "      <td>4</td>\n",
       "      <td>0.298218</td>\n",
       "      <td>-0.919717</td>\n",
       "      <td>3.058541</td>\n",
       "      <td>-2.540739</td>\n",
       "      <td>0.766952</td>\n",
       "      <td>-2.730628</td>\n",
       "      <td>-0.208177</td>\n",
       "      <td>1.363402</td>\n",
       "      <td>ABABDADBAB</td>\n",
       "      <td>67.609153</td>\n",
       "      <td>0</td>\n",
       "      <td>0</td>\n",
       "      <td>0</td>\n",
       "    </tr>\n",
       "    <tr>\n",
       "      <th>1</th>\n",
       "      <td>1</td>\n",
       "      <td>1.697021</td>\n",
       "      <td>-1.710322</td>\n",
       "      <td>-2.230332</td>\n",
       "      <td>-0.545661</td>\n",
       "      <td>1.113173</td>\n",
       "      <td>-1.552175</td>\n",
       "      <td>0.447825</td>\n",
       "      <td>1</td>\n",
       "      <td>3</td>\n",
       "      <td>4</td>\n",
       "      <td>0</td>\n",
       "      <td>2</td>\n",
       "      <td>3</td>\n",
       "      <td>0</td>\n",
       "      <td>1</td>\n",
       "      <td>0</td>\n",
       "      <td>4</td>\n",
       "      <td>6</td>\n",
       "      <td>0</td>\n",
       "      <td>-3.147667</td>\n",
       "      <td>-1.075434</td>\n",
       "      <td>2.179050</td>\n",
       "      <td>2.278315</td>\n",
       "      <td>-0.633658</td>\n",
       "      <td>-1.217077</td>\n",
       "      <td>-3.782194</td>\n",
       "      <td>-0.058316</td>\n",
       "      <td>ACACCADCEB</td>\n",
       "      <td>377.096415</td>\n",
       "      <td>0</td>\n",
       "      <td>0</td>\n",
       "      <td>1</td>\n",
       "    </tr>\n",
       "    <tr>\n",
       "      <th>2</th>\n",
       "      <td>2</td>\n",
       "      <td>1.681726</td>\n",
       "      <td>0.616746</td>\n",
       "      <td>-1.027689</td>\n",
       "      <td>0.810492</td>\n",
       "      <td>-0.609086</td>\n",
       "      <td>0.113965</td>\n",
       "      <td>-0.708660</td>\n",
       "      <td>1</td>\n",
       "      <td>0</td>\n",
       "      <td>2</td>\n",
       "      <td>6</td>\n",
       "      <td>6</td>\n",
       "      <td>4</td>\n",
       "      <td>3</td>\n",
       "      <td>1</td>\n",
       "      <td>2</td>\n",
       "      <td>2</td>\n",
       "      <td>1</td>\n",
       "      <td>4</td>\n",
       "      <td>2.820733</td>\n",
       "      <td>-3.485342</td>\n",
       "      <td>-0.784235</td>\n",
       "      <td>-1.385775</td>\n",
       "      <td>-0.520558</td>\n",
       "      <td>-0.009121</td>\n",
       "      <td>2.788536</td>\n",
       "      <td>-3.703488</td>\n",
       "      <td>AAAEABCKAD</td>\n",
       "      <td>-195.599702</td>\n",
       "      <td>0</td>\n",
       "      <td>2</td>\n",
       "      <td>1</td>\n",
       "    </tr>\n",
       "    <tr>\n",
       "      <th>3</th>\n",
       "      <td>3</td>\n",
       "      <td>-0.118172</td>\n",
       "      <td>-0.587835</td>\n",
       "      <td>-0.804638</td>\n",
       "      <td>2.086822</td>\n",
       "      <td>0.371005</td>\n",
       "      <td>-0.128831</td>\n",
       "      <td>-0.282575</td>\n",
       "      <td>3</td>\n",
       "      <td>2</td>\n",
       "      <td>1</td>\n",
       "      <td>0</td>\n",
       "      <td>1</td>\n",
       "      <td>6</td>\n",
       "      <td>4</td>\n",
       "      <td>2</td>\n",
       "      <td>3</td>\n",
       "      <td>3</td>\n",
       "      <td>0</td>\n",
       "      <td>3</td>\n",
       "      <td>1.081084</td>\n",
       "      <td>-2.100177</td>\n",
       "      <td>-2.343819</td>\n",
       "      <td>0.572594</td>\n",
       "      <td>-1.653213</td>\n",
       "      <td>1.686035</td>\n",
       "      <td>-2.533098</td>\n",
       "      <td>-0.608601</td>\n",
       "      <td>BDBBAACBCB</td>\n",
       "      <td>210.826205</td>\n",
       "      <td>0</td>\n",
       "      <td>0</td>\n",
       "      <td>1</td>\n",
       "    </tr>\n",
       "    <tr>\n",
       "      <th>4</th>\n",
       "      <td>4</td>\n",
       "      <td>1.148481</td>\n",
       "      <td>-0.176567</td>\n",
       "      <td>-0.664871</td>\n",
       "      <td>-1.101343</td>\n",
       "      <td>0.467875</td>\n",
       "      <td>0.500117</td>\n",
       "      <td>0.407515</td>\n",
       "      <td>3</td>\n",
       "      <td>3</td>\n",
       "      <td>0</td>\n",
       "      <td>4</td>\n",
       "      <td>3</td>\n",
       "      <td>0</td>\n",
       "      <td>6</td>\n",
       "      <td>0</td>\n",
       "      <td>3</td>\n",
       "      <td>3</td>\n",
       "      <td>1</td>\n",
       "      <td>0</td>\n",
       "      <td>-0.126179</td>\n",
       "      <td>0.605033</td>\n",
       "      <td>1.133665</td>\n",
       "      <td>-3.912929</td>\n",
       "      <td>-1.430366</td>\n",
       "      <td>2.127649</td>\n",
       "      <td>-3.306784</td>\n",
       "      <td>4.371371</td>\n",
       "      <td>BDBCBBCHFE</td>\n",
       "      <td>-217.211798</td>\n",
       "      <td>0</td>\n",
       "      <td>1</td>\n",
       "      <td>1</td>\n",
       "    </tr>\n",
       "  </tbody>\n",
       "</table>\n",
       "</div>"
      ],
      "text/plain": [
       "   id      f_00      f_01      f_02      f_03      f_04      f_05      f_06  \\\n",
       "0   0 -1.373246  0.238887 -0.243376  0.567405 -0.647715  0.839326  0.113133   \n",
       "1   1  1.697021 -1.710322 -2.230332 -0.545661  1.113173 -1.552175  0.447825   \n",
       "2   2  1.681726  0.616746 -1.027689  0.810492 -0.609086  0.113965 -0.708660   \n",
       "3   3 -0.118172 -0.587835 -0.804638  2.086822  0.371005 -0.128831 -0.282575   \n",
       "4   4  1.148481 -0.176567 -0.664871 -1.101343  0.467875  0.500117  0.407515   \n",
       "\n",
       "   f_07  f_08  f_09  f_10  f_11  f_12  f_13  f_14  f_15  f_16  f_17  f_18  \\\n",
       "0     1     5     1     3     3     3     1     6     1     0     7     4   \n",
       "1     1     3     4     0     2     3     0     1     0     4     6     0   \n",
       "2     1     0     2     6     6     4     3     1     2     2     1     4   \n",
       "3     3     2     1     0     1     6     4     2     3     3     0     3   \n",
       "4     3     3     0     4     3     0     6     0     3     3     1     0   \n",
       "\n",
       "       f_19      f_20      f_21      f_22      f_23      f_24      f_25  \\\n",
       "0  0.298218 -0.919717  3.058541 -2.540739  0.766952 -2.730628 -0.208177   \n",
       "1 -3.147667 -1.075434  2.179050  2.278315 -0.633658 -1.217077 -3.782194   \n",
       "2  2.820733 -3.485342 -0.784235 -1.385775 -0.520558 -0.009121  2.788536   \n",
       "3  1.081084 -2.100177 -2.343819  0.572594 -1.653213  1.686035 -2.533098   \n",
       "4 -0.126179  0.605033  1.133665 -3.912929 -1.430366  2.127649 -3.306784   \n",
       "\n",
       "       f_26        f_27        f_28  f_29  f_30  target  \n",
       "0  1.363402  ABABDADBAB   67.609153     0     0       0  \n",
       "1 -0.058316  ACACCADCEB  377.096415     0     0       1  \n",
       "2 -3.703488  AAAEABCKAD -195.599702     0     2       1  \n",
       "3 -0.608601  BDBBAACBCB  210.826205     0     0       1  \n",
       "4  4.371371  BDBCBBCHFE -217.211798     0     1       1  "
      ]
     },
     "execution_count": 33,
     "metadata": {},
     "output_type": "execute_result"
    }
   ],
   "source": [
    "df1_train.head()"
   ]
  },
  {
   "cell_type": "code",
   "execution_count": 34,
   "metadata": {
    "ExecuteTime": {
     "end_time": "2022-05-03T21:52:37.987415Z",
     "start_time": "2022-05-03T21:52:37.957418Z"
    },
    "colab": {
     "base_uri": "https://localhost:8080/",
     "height": 270
    },
    "executionInfo": {
     "elapsed": 4,
     "status": "ok",
     "timestamp": 1651517353990,
     "user": {
      "displayName": "Rogério Delfim",
      "userId": "04235763959036945343"
     },
     "user_tz": 180
    },
    "id": "W71Ikz803EDR",
    "outputId": "2d1fa1e3-f36f-422f-cb92-970e883a74af"
   },
   "outputs": [
    {
     "data": {
      "text/html": [
       "<div>\n",
       "<style scoped>\n",
       "    .dataframe tbody tr th:only-of-type {\n",
       "        vertical-align: middle;\n",
       "    }\n",
       "\n",
       "    .dataframe tbody tr th {\n",
       "        vertical-align: top;\n",
       "    }\n",
       "\n",
       "    .dataframe thead th {\n",
       "        text-align: right;\n",
       "    }\n",
       "</style>\n",
       "<table border=\"1\" class=\"dataframe\">\n",
       "  <thead>\n",
       "    <tr style=\"text-align: right;\">\n",
       "      <th></th>\n",
       "      <th>id</th>\n",
       "      <th>f_00</th>\n",
       "      <th>f_01</th>\n",
       "      <th>f_02</th>\n",
       "      <th>f_03</th>\n",
       "      <th>f_04</th>\n",
       "      <th>f_05</th>\n",
       "      <th>f_06</th>\n",
       "      <th>f_07</th>\n",
       "      <th>f_08</th>\n",
       "      <th>f_09</th>\n",
       "      <th>f_10</th>\n",
       "      <th>f_11</th>\n",
       "      <th>f_12</th>\n",
       "      <th>f_13</th>\n",
       "      <th>f_14</th>\n",
       "      <th>f_15</th>\n",
       "      <th>f_16</th>\n",
       "      <th>f_17</th>\n",
       "      <th>f_18</th>\n",
       "      <th>f_19</th>\n",
       "      <th>f_20</th>\n",
       "      <th>f_21</th>\n",
       "      <th>f_22</th>\n",
       "      <th>f_23</th>\n",
       "      <th>f_24</th>\n",
       "      <th>f_25</th>\n",
       "      <th>f_26</th>\n",
       "      <th>f_27</th>\n",
       "      <th>f_28</th>\n",
       "      <th>f_29</th>\n",
       "      <th>f_30</th>\n",
       "    </tr>\n",
       "  </thead>\n",
       "  <tbody>\n",
       "    <tr>\n",
       "      <th>0</th>\n",
       "      <td>900000</td>\n",
       "      <td>0.442517</td>\n",
       "      <td>0.174380</td>\n",
       "      <td>-0.999816</td>\n",
       "      <td>0.762741</td>\n",
       "      <td>0.186778</td>\n",
       "      <td>-1.074775</td>\n",
       "      <td>0.501888</td>\n",
       "      <td>6</td>\n",
       "      <td>6</td>\n",
       "      <td>0</td>\n",
       "      <td>0</td>\n",
       "      <td>0</td>\n",
       "      <td>5</td>\n",
       "      <td>1</td>\n",
       "      <td>1</td>\n",
       "      <td>2</td>\n",
       "      <td>2</td>\n",
       "      <td>0</td>\n",
       "      <td>1</td>\n",
       "      <td>-1.128371</td>\n",
       "      <td>2.749347</td>\n",
       "      <td>-1.006400</td>\n",
       "      <td>-1.193879</td>\n",
       "      <td>-2.435736</td>\n",
       "      <td>-2.427430</td>\n",
       "      <td>-1.966887</td>\n",
       "      <td>5.734205</td>\n",
       "      <td>BAAABADLAC</td>\n",
       "      <td>99.478419</td>\n",
       "      <td>0</td>\n",
       "      <td>0</td>\n",
       "    </tr>\n",
       "    <tr>\n",
       "      <th>1</th>\n",
       "      <td>900001</td>\n",
       "      <td>-0.605598</td>\n",
       "      <td>-0.305715</td>\n",
       "      <td>0.627667</td>\n",
       "      <td>-0.578898</td>\n",
       "      <td>-1.750931</td>\n",
       "      <td>1.355550</td>\n",
       "      <td>-0.190911</td>\n",
       "      <td>1</td>\n",
       "      <td>3</td>\n",
       "      <td>4</td>\n",
       "      <td>0</td>\n",
       "      <td>2</td>\n",
       "      <td>1</td>\n",
       "      <td>3</td>\n",
       "      <td>0</td>\n",
       "      <td>0</td>\n",
       "      <td>0</td>\n",
       "      <td>2</td>\n",
       "      <td>0</td>\n",
       "      <td>-4.424098</td>\n",
       "      <td>1.080762</td>\n",
       "      <td>2.382405</td>\n",
       "      <td>0.149442</td>\n",
       "      <td>1.883322</td>\n",
       "      <td>-2.848714</td>\n",
       "      <td>-0.725155</td>\n",
       "      <td>3.194219</td>\n",
       "      <td>AFABBAEGCB</td>\n",
       "      <td>-65.993825</td>\n",
       "      <td>1</td>\n",
       "      <td>0</td>\n",
       "    </tr>\n",
       "    <tr>\n",
       "      <th>2</th>\n",
       "      <td>900002</td>\n",
       "      <td>0.303990</td>\n",
       "      <td>2.445110</td>\n",
       "      <td>0.246515</td>\n",
       "      <td>0.818248</td>\n",
       "      <td>0.359731</td>\n",
       "      <td>-1.331845</td>\n",
       "      <td>1.358622</td>\n",
       "      <td>3</td>\n",
       "      <td>3</td>\n",
       "      <td>4</td>\n",
       "      <td>1</td>\n",
       "      <td>1</td>\n",
       "      <td>3</td>\n",
       "      <td>2</td>\n",
       "      <td>2</td>\n",
       "      <td>4</td>\n",
       "      <td>1</td>\n",
       "      <td>0</td>\n",
       "      <td>3</td>\n",
       "      <td>-1.523864</td>\n",
       "      <td>-1.406712</td>\n",
       "      <td>-7.026098</td>\n",
       "      <td>1.312277</td>\n",
       "      <td>-5.157192</td>\n",
       "      <td>1.714005</td>\n",
       "      <td>0.585032</td>\n",
       "      <td>0.066898</td>\n",
       "      <td>BBACABBKEE</td>\n",
       "      <td>-87.405622</td>\n",
       "      <td>0</td>\n",
       "      <td>1</td>\n",
       "    </tr>\n",
       "    <tr>\n",
       "      <th>3</th>\n",
       "      <td>900003</td>\n",
       "      <td>0.154053</td>\n",
       "      <td>0.260126</td>\n",
       "      <td>-1.367092</td>\n",
       "      <td>-0.093175</td>\n",
       "      <td>-1.111034</td>\n",
       "      <td>-0.948481</td>\n",
       "      <td>1.119220</td>\n",
       "      <td>0</td>\n",
       "      <td>0</td>\n",
       "      <td>4</td>\n",
       "      <td>2</td>\n",
       "      <td>1</td>\n",
       "      <td>5</td>\n",
       "      <td>0</td>\n",
       "      <td>3</td>\n",
       "      <td>3</td>\n",
       "      <td>1</td>\n",
       "      <td>4</td>\n",
       "      <td>2</td>\n",
       "      <td>-1.404597</td>\n",
       "      <td>3.011085</td>\n",
       "      <td>-0.594532</td>\n",
       "      <td>-3.939475</td>\n",
       "      <td>1.754570</td>\n",
       "      <td>-2.364007</td>\n",
       "      <td>-1.003320</td>\n",
       "      <td>3.893099</td>\n",
       "      <td>AEBEAACQCC</td>\n",
       "      <td>-281.293460</td>\n",
       "      <td>0</td>\n",
       "      <td>0</td>\n",
       "    </tr>\n",
       "    <tr>\n",
       "      <th>4</th>\n",
       "      <td>900004</td>\n",
       "      <td>-1.651904</td>\n",
       "      <td>-0.424266</td>\n",
       "      <td>-0.667356</td>\n",
       "      <td>-0.322124</td>\n",
       "      <td>-0.089462</td>\n",
       "      <td>0.181705</td>\n",
       "      <td>1.784983</td>\n",
       "      <td>2</td>\n",
       "      <td>2</td>\n",
       "      <td>2</td>\n",
       "      <td>0</td>\n",
       "      <td>0</td>\n",
       "      <td>3</td>\n",
       "      <td>0</td>\n",
       "      <td>1</td>\n",
       "      <td>2</td>\n",
       "      <td>0</td>\n",
       "      <td>2</td>\n",
       "      <td>2</td>\n",
       "      <td>-1.968516</td>\n",
       "      <td>0.100594</td>\n",
       "      <td>0.084906</td>\n",
       "      <td>-0.985736</td>\n",
       "      <td>-0.130467</td>\n",
       "      <td>-3.557893</td>\n",
       "      <td>1.210687</td>\n",
       "      <td>1.861884</td>\n",
       "      <td>AEBBBBDABF</td>\n",
       "      <td>25.629415</td>\n",
       "      <td>0</td>\n",
       "      <td>2</td>\n",
       "    </tr>\n",
       "  </tbody>\n",
       "</table>\n",
       "</div>"
      ],
      "text/plain": [
       "       id      f_00      f_01      f_02      f_03      f_04      f_05  \\\n",
       "0  900000  0.442517  0.174380 -0.999816  0.762741  0.186778 -1.074775   \n",
       "1  900001 -0.605598 -0.305715  0.627667 -0.578898 -1.750931  1.355550   \n",
       "2  900002  0.303990  2.445110  0.246515  0.818248  0.359731 -1.331845   \n",
       "3  900003  0.154053  0.260126 -1.367092 -0.093175 -1.111034 -0.948481   \n",
       "4  900004 -1.651904 -0.424266 -0.667356 -0.322124 -0.089462  0.181705   \n",
       "\n",
       "       f_06  f_07  f_08  f_09  f_10  f_11  f_12  f_13  f_14  f_15  f_16  f_17  \\\n",
       "0  0.501888     6     6     0     0     0     5     1     1     2     2     0   \n",
       "1 -0.190911     1     3     4     0     2     1     3     0     0     0     2   \n",
       "2  1.358622     3     3     4     1     1     3     2     2     4     1     0   \n",
       "3  1.119220     0     0     4     2     1     5     0     3     3     1     4   \n",
       "4  1.784983     2     2     2     0     0     3     0     1     2     0     2   \n",
       "\n",
       "   f_18      f_19      f_20      f_21      f_22      f_23      f_24      f_25  \\\n",
       "0     1 -1.128371  2.749347 -1.006400 -1.193879 -2.435736 -2.427430 -1.966887   \n",
       "1     0 -4.424098  1.080762  2.382405  0.149442  1.883322 -2.848714 -0.725155   \n",
       "2     3 -1.523864 -1.406712 -7.026098  1.312277 -5.157192  1.714005  0.585032   \n",
       "3     2 -1.404597  3.011085 -0.594532 -3.939475  1.754570 -2.364007 -1.003320   \n",
       "4     2 -1.968516  0.100594  0.084906 -0.985736 -0.130467 -3.557893  1.210687   \n",
       "\n",
       "       f_26        f_27        f_28  f_29  f_30  \n",
       "0  5.734205  BAAABADLAC   99.478419     0     0  \n",
       "1  3.194219  AFABBAEGCB  -65.993825     1     0  \n",
       "2  0.066898  BBACABBKEE  -87.405622     0     1  \n",
       "3  3.893099  AEBEAACQCC -281.293460     0     0  \n",
       "4  1.861884  AEBBBBDABF   25.629415     0     2  "
      ]
     },
     "execution_count": 34,
     "metadata": {},
     "output_type": "execute_result"
    }
   ],
   "source": [
    "df1_test.head()"
   ]
  },
  {
   "cell_type": "code",
   "execution_count": 91,
   "metadata": {
    "ExecuteTime": {
     "end_time": "2022-05-04T01:00:59.113904Z",
     "start_time": "2022-05-04T01:00:59.081870Z"
    }
   },
   "outputs": [
    {
     "data": {
      "text/plain": [
       "700000"
      ]
     },
     "execution_count": 91,
     "metadata": {},
     "output_type": "execute_result"
    }
   ],
   "source": [
    "df1_test['id'].nunique()"
   ]
  },
  {
   "cell_type": "code",
   "execution_count": 87,
   "metadata": {
    "ExecuteTime": {
     "end_time": "2022-05-04T00:57:54.212379Z",
     "start_time": "2022-05-04T00:57:53.513381Z"
    },
    "scrolled": true
   },
   "outputs": [
    {
     "name": "stdout",
     "output_type": "stream",
     "text": [
      "Columns having 1 unique value are :n []\n"
     ]
    }
   ],
   "source": [
    "#Checking the unique value counts in columns\n",
    "featureValues={}\n",
    "for d in df1_test.columns.tolist():\n",
    "    count=df1_test[d].nunique()\n",
    "    if count==1:\n",
    "        featureValues[d]=count\n",
    "# List of columns having same 1 unique value        \n",
    "cols_to_drop= list(featureValues.keys())\n",
    "print(\"Columns having 1 unique value are :n\",cols_to_drop)"
   ]
  },
  {
   "cell_type": "markdown",
   "metadata": {
    "id": "qi1l4r05FlfI"
   },
   "source": [
    "---"
   ]
  },
  {
   "cell_type": "markdown",
   "metadata": {
    "id": "gxurR4Ok3EDR"
   },
   "source": [
    "### 1.3.1. Redução dos datasets"
   ]
  },
  {
   "cell_type": "code",
   "execution_count": 35,
   "metadata": {
    "ExecuteTime": {
     "end_time": "2022-05-03T21:52:48.239556Z",
     "start_time": "2022-05-03T21:52:47.070554Z"
    },
    "colab": {
     "base_uri": "https://localhost:8080/"
    },
    "executionInfo": {
     "elapsed": 1023,
     "status": "ok",
     "timestamp": 1651517358353,
     "user": {
      "displayName": "Rogério Delfim",
      "userId": "04235763959036945343"
     },
     "user_tz": 180
    },
    "id": "2-cXTiT03EDR",
    "outputId": "630562bb-03a2-49d9-b5c9-56d30f5e7438"
   },
   "outputs": [
    {
     "name": "stdout",
     "output_type": "stream",
     "text": [
      "Mem. usage decreased to 50.64 Mb (77.7% reduction)\n",
      "Mem. usage decreased to 38.72 Mb (77.3% reduction)\n"
     ]
    }
   ],
   "source": [
    "df1_train = reduce_memory_usage(df1_train)\n",
    "df1_test  = reduce_memory_usage(df1_test)"
   ]
  },
  {
   "cell_type": "markdown",
   "metadata": {
    "id": "WoOaHaA53EDS"
   },
   "source": [
    "# <div class=\"alert alert-info alert-dismissible\">2. Análise Exploratória de Dados (EDA)  </div> "
   ]
  },
  {
   "cell_type": "code",
   "execution_count": 39,
   "metadata": {
    "ExecuteTime": {
     "end_time": "2022-05-03T21:53:47.434187Z",
     "start_time": "2022-05-03T21:53:47.311185Z"
    },
    "executionInfo": {
     "elapsed": 260,
     "status": "ok",
     "timestamp": 1651517362329,
     "user": {
      "displayName": "Rogério Delfim",
      "userId": "04235763959036945343"
     },
     "user_tz": 180
    },
    "id": "LhBEAJI4FlfJ"
   },
   "outputs": [],
   "source": [
    "df2_train = df1_train.copy()\n",
    "df2_test  = df1_test.copy()"
   ]
  },
  {
   "cell_type": "markdown",
   "metadata": {
    "id": "pFqhznWa3EDS"
   },
   "source": [
    "## 2.1. Dimensão do DataSet"
   ]
  },
  {
   "cell_type": "code",
   "execution_count": 40,
   "metadata": {
    "ExecuteTime": {
     "end_time": "2022-05-03T21:53:52.919415Z",
     "start_time": "2022-05-03T21:53:52.901421Z"
    },
    "colab": {
     "base_uri": "https://localhost:8080/"
    },
    "executionInfo": {
     "elapsed": 260,
     "status": "ok",
     "timestamp": 1651517364891,
     "user": {
      "displayName": "Rogério Delfim",
      "userId": "04235763959036945343"
     },
     "user_tz": 180
    },
    "id": "Xh7IbAi93EDS",
    "outputId": "7e40557f-000e-4e90-dca5-e09b27254985"
   },
   "outputs": [
    {
     "name": "stdout",
     "output_type": "stream",
     "text": [
      "TREINO\n",
      "Number of Rows: 900000\n",
      "Number of Columns: 33\n",
      "\n",
      "TESTE\n",
      "Number of Rows: 700000\n",
      "Number of Columns: 32\n"
     ]
    }
   ],
   "source": [
    "print('TREINO')\n",
    "print('Number of Rows: {}'.format(df2_train.shape[0]))\n",
    "print('Number of Columns: {}'.format(df2_train.shape[1]), end='\\n\\n')\n",
    "\n",
    "print('TESTE')\n",
    "print('Number of Rows: {}'.format(df2_test.shape[0]))\n",
    "print('Number of Columns: {}'.format(df2_test.shape[1]))"
   ]
  },
  {
   "cell_type": "markdown",
   "metadata": {
    "id": "chdM7_XIFlfJ"
   },
   "source": [
    "---"
   ]
  },
  {
   "cell_type": "markdown",
   "metadata": {
    "id": "IbVYbhUO3EDS"
   },
   "source": [
    "## 2.2. Tipo de dados"
   ]
  },
  {
   "cell_type": "code",
   "execution_count": 41,
   "metadata": {
    "ExecuteTime": {
     "end_time": "2022-05-03T21:54:01.561482Z",
     "start_time": "2022-05-03T21:54:01.436487Z"
    },
    "colab": {
     "base_uri": "https://localhost:8080/"
    },
    "executionInfo": {
     "elapsed": 249,
     "status": "ok",
     "timestamp": 1651517368083,
     "user": {
      "displayName": "Rogério Delfim",
      "userId": "04235763959036945343"
     },
     "user_tz": 180
    },
    "id": "qWJZ4EgA3EDS",
    "outputId": "f77e577f-0509-42f7-943a-9ff68b1454b7"
   },
   "outputs": [
    {
     "name": "stdout",
     "output_type": "stream",
     "text": [
      "<class 'pandas.core.frame.DataFrame'>\n",
      "RangeIndex: 900000 entries, 0 to 899999\n",
      "Data columns (total 33 columns):\n",
      " #   Column  Non-Null Count   Dtype  \n",
      "---  ------  --------------   -----  \n",
      " 0   id      900000 non-null  int32  \n",
      " 1   f_00    900000 non-null  float16\n",
      " 2   f_01    900000 non-null  float16\n",
      " 3   f_02    900000 non-null  float16\n",
      " 4   f_03    900000 non-null  float16\n",
      " 5   f_04    900000 non-null  float16\n",
      " 6   f_05    900000 non-null  float16\n",
      " 7   f_06    900000 non-null  float16\n",
      " 8   f_07    900000 non-null  int8   \n",
      " 9   f_08    900000 non-null  int8   \n",
      " 10  f_09    900000 non-null  int8   \n",
      " 11  f_10    900000 non-null  int8   \n",
      " 12  f_11    900000 non-null  int8   \n",
      " 13  f_12    900000 non-null  int8   \n",
      " 14  f_13    900000 non-null  int8   \n",
      " 15  f_14    900000 non-null  int8   \n",
      " 16  f_15    900000 non-null  int8   \n",
      " 17  f_16    900000 non-null  int8   \n",
      " 18  f_17    900000 non-null  int8   \n",
      " 19  f_18    900000 non-null  int8   \n",
      " 20  f_19    900000 non-null  float16\n",
      " 21  f_20    900000 non-null  float16\n",
      " 22  f_21    900000 non-null  float16\n",
      " 23  f_22    900000 non-null  float16\n",
      " 24  f_23    900000 non-null  float16\n",
      " 25  f_24    900000 non-null  float16\n",
      " 26  f_25    900000 non-null  float16\n",
      " 27  f_26    900000 non-null  float16\n",
      " 28  f_27    900000 non-null  object \n",
      " 29  f_28    900000 non-null  float16\n",
      " 30  f_29    900000 non-null  int8   \n",
      " 31  f_30    900000 non-null  int8   \n",
      " 32  target  900000 non-null  int8   \n",
      "dtypes: float16(16), int32(1), int8(15), object(1)\n",
      "memory usage: 50.6+ MB\n"
     ]
    }
   ],
   "source": [
    "df2_train.info()"
   ]
  },
  {
   "cell_type": "code",
   "execution_count": 42,
   "metadata": {
    "ExecuteTime": {
     "end_time": "2022-05-03T21:54:06.423114Z",
     "start_time": "2022-05-03T21:54:06.309147Z"
    },
    "colab": {
     "base_uri": "https://localhost:8080/"
    },
    "executionInfo": {
     "elapsed": 273,
     "status": "ok",
     "timestamp": 1651517369731,
     "user": {
      "displayName": "Rogério Delfim",
      "userId": "04235763959036945343"
     },
     "user_tz": 180
    },
    "id": "PfwT0U0g3EDS",
    "outputId": "040f78e5-03cc-469c-db49-b8dd8421afd5"
   },
   "outputs": [
    {
     "name": "stdout",
     "output_type": "stream",
     "text": [
      "<class 'pandas.core.frame.DataFrame'>\n",
      "RangeIndex: 700000 entries, 0 to 699999\n",
      "Data columns (total 32 columns):\n",
      " #   Column  Non-Null Count   Dtype  \n",
      "---  ------  --------------   -----  \n",
      " 0   id      700000 non-null  int32  \n",
      " 1   f_00    700000 non-null  float16\n",
      " 2   f_01    700000 non-null  float16\n",
      " 3   f_02    700000 non-null  float16\n",
      " 4   f_03    700000 non-null  float16\n",
      " 5   f_04    700000 non-null  float16\n",
      " 6   f_05    700000 non-null  float16\n",
      " 7   f_06    700000 non-null  float16\n",
      " 8   f_07    700000 non-null  int8   \n",
      " 9   f_08    700000 non-null  int8   \n",
      " 10  f_09    700000 non-null  int8   \n",
      " 11  f_10    700000 non-null  int8   \n",
      " 12  f_11    700000 non-null  int8   \n",
      " 13  f_12    700000 non-null  int8   \n",
      " 14  f_13    700000 non-null  int8   \n",
      " 15  f_14    700000 non-null  int8   \n",
      " 16  f_15    700000 non-null  int8   \n",
      " 17  f_16    700000 non-null  int8   \n",
      " 18  f_17    700000 non-null  int8   \n",
      " 19  f_18    700000 non-null  int8   \n",
      " 20  f_19    700000 non-null  float16\n",
      " 21  f_20    700000 non-null  float16\n",
      " 22  f_21    700000 non-null  float16\n",
      " 23  f_22    700000 non-null  float16\n",
      " 24  f_23    700000 non-null  float16\n",
      " 25  f_24    700000 non-null  float16\n",
      " 26  f_25    700000 non-null  float16\n",
      " 27  f_26    700000 non-null  float16\n",
      " 28  f_27    700000 non-null  object \n",
      " 29  f_28    700000 non-null  float16\n",
      " 30  f_29    700000 non-null  int8   \n",
      " 31  f_30    700000 non-null  int8   \n",
      "dtypes: float16(16), int32(1), int8(14), object(1)\n",
      "memory usage: 38.7+ MB\n"
     ]
    }
   ],
   "source": [
    "df2_test.info()"
   ]
  },
  {
   "cell_type": "code",
   "execution_count": 43,
   "metadata": {
    "ExecuteTime": {
     "end_time": "2022-05-03T21:54:11.456411Z",
     "start_time": "2022-05-03T21:54:11.436412Z"
    },
    "colab": {
     "base_uri": "https://localhost:8080/"
    },
    "executionInfo": {
     "elapsed": 3,
     "status": "ok",
     "timestamp": 1651517371986,
     "user": {
      "displayName": "Rogério Delfim",
      "userId": "04235763959036945343"
     },
     "user_tz": 180
    },
    "id": "WasdxyY83EDT",
    "outputId": "0d9e3a12-0439-47de-9b7b-76ecc07ac7d7"
   },
   "outputs": [
    {
     "name": "stdout",
     "output_type": "stream",
     "text": [
      "=== For Pandas ==========\n",
      "float16    16\n",
      "int8       15\n",
      "int32       1\n",
      "object      1\n",
      "dtype: int64\n",
      "\n",
      "=== For Datatable =======\n",
      "float16    16\n",
      "int8       14\n",
      "int32       1\n",
      "object      1\n",
      "dtype: int64\n"
     ]
    }
   ],
   "source": [
    "print(f'{3*\"=\"} For Pandas {10*\"=\"}\\n{(df2_train.dtypes).value_counts()}')\n",
    "print(f'\\n{3*\"=\"} For Datatable {7*\"=\"}\\n{(df2_test.dtypes).value_counts()}')"
   ]
  },
  {
   "cell_type": "markdown",
   "metadata": {
    "ExecuteTime": {
     "end_time": "2022-05-02T00:10:59.293786Z",
     "start_time": "2022-05-02T00:10:59.273751Z"
    },
    "id": "PdczFQmPFlfK"
   },
   "source": [
    "Vamos dar uma olhada nas variáveis do tipo int8.  "
   ]
  },
  {
   "cell_type": "code",
   "execution_count": 44,
   "metadata": {
    "ExecuteTime": {
     "end_time": "2022-05-03T21:54:33.187134Z",
     "start_time": "2022-05-03T21:54:33.053135Z"
    },
    "colab": {
     "base_uri": "https://localhost:8080/"
    },
    "executionInfo": {
     "elapsed": 277,
     "status": "ok",
     "timestamp": 1651517376183,
     "user": {
      "displayName": "Rogério Delfim",
      "userId": "04235763959036945343"
     },
     "user_tz": 180
    },
    "id": "tuK-oyKkFlfK",
    "outputId": "06c2a9f8-e9da-4cd2-d22f-4ceaac6dd165"
   },
   "outputs": [
    {
     "name": "stdout",
     "output_type": "stream",
     "text": [
      "----------------------------------------------------------------------\n",
      "f_07 unique: [0, 1, 2, 3, 4, 5, 6, 7, 8, 9, 10, 11, 12, 13, 14, 15]\n",
      "----------------------------------------------------------------------\n",
      "\n",
      "----------------------------------------------------------------------\n",
      "f_08 unique: [0, 1, 2, 3, 4, 5, 6, 7, 8, 9, 10, 11, 12, 13, 14, 16]\n",
      "----------------------------------------------------------------------\n",
      "\n",
      "----------------------------------------------------------------------\n",
      "f_09 unique: [0, 1, 2, 3, 4, 5, 6, 7, 8, 9, 10, 11, 12, 13, 14]\n",
      "----------------------------------------------------------------------\n",
      "\n",
      "----------------------------------------------------------------------\n",
      "f_10 unique: [0, 1, 2, 3, 4, 5, 6, 7, 8, 9, 10, 11, 12, 13, 14]\n",
      "----------------------------------------------------------------------\n",
      "\n",
      "----------------------------------------------------------------------\n",
      "f_11 unique: [0, 1, 2, 3, 4, 5, 6, 7, 8, 9, 10, 11, 12, 13]\n",
      "----------------------------------------------------------------------\n",
      "\n",
      "----------------------------------------------------------------------\n",
      "f_12 unique: [0, 1, 2, 3, 4, 5, 6, 7, 8, 9, 10, 11, 12, 13, 14, 16]\n",
      "----------------------------------------------------------------------\n",
      "\n",
      "----------------------------------------------------------------------\n",
      "f_13 unique: [0, 1, 2, 3, 4, 5, 6, 7, 8, 9, 10, 11, 12]\n",
      "----------------------------------------------------------------------\n",
      "\n",
      "----------------------------------------------------------------------\n",
      "f_14 unique: [0, 1, 2, 3, 4, 5, 6, 7, 8, 9, 10, 11, 12, 14]\n",
      "----------------------------------------------------------------------\n",
      "\n",
      "----------------------------------------------------------------------\n",
      "f_15 unique: [0, 1, 2, 3, 4, 5, 6, 7, 8, 9, 10, 11, 12, 13, 14]\n",
      "----------------------------------------------------------------------\n",
      "\n",
      "----------------------------------------------------------------------\n",
      "f_16 unique: [0, 1, 2, 3, 4, 5, 6, 7, 8, 9, 10, 11, 12, 13, 14, 15]\n",
      "----------------------------------------------------------------------\n",
      "\n",
      "----------------------------------------------------------------------\n",
      "f_17 unique: [0, 1, 2, 3, 4, 5, 6, 7, 8, 9, 10, 11, 12, 14]\n",
      "----------------------------------------------------------------------\n",
      "\n",
      "----------------------------------------------------------------------\n",
      "f_18 unique: [0, 1, 2, 3, 4, 5, 6, 7, 8, 9, 10, 11, 12, 13]\n",
      "----------------------------------------------------------------------\n",
      "\n",
      "----------------------------------------------------------------------\n",
      "f_29 unique: [0, 1]\n",
      "----------------------------------------------------------------------\n",
      "\n",
      "----------------------------------------------------------------------\n",
      "f_30 unique: [0, 1, 2]\n",
      "----------------------------------------------------------------------\n",
      "\n"
     ]
    }
   ],
   "source": [
    "for col in df2_train.select_dtypes(np.int8).columns.drop(target):   \n",
    "    num = df2_train[col].unique().tolist()\n",
    "    num.sort()\n",
    "    print('-'* 70)\n",
    "    print('{} unique: {}'.format(col, num))    \n",
    "    print('-'* 70)\n",
    "    print()"
   ]
  },
  {
   "cell_type": "markdown",
   "metadata": {
    "id": "8UhDTTV5FlfK"
   },
   "source": [
    "<div class=\"alert alert-info\" role=\"alert\"> \n",
    "    \n",
    "**`NOTA:`** <br>\n",
    "Podemos observar que as variáveis acima segue um ordem, provavelmente foram transformadas em ordinal no processo de geração dos datasets, sendo assim, vamos transformá-las em categóricas para as nossas análises.\n",
    "    \n",
    "</div>"
   ]
  },
  {
   "cell_type": "code",
   "execution_count": 45,
   "metadata": {
    "ExecuteTime": {
     "end_time": "2022-05-03T21:55:43.183673Z",
     "start_time": "2022-05-03T21:55:42.877668Z"
    },
    "executionInfo": {
     "elapsed": 704,
     "status": "ok",
     "timestamp": 1651517379292,
     "user": {
      "displayName": "Rogério Delfim",
      "userId": "04235763959036945343"
     },
     "user_tz": 180
    },
    "id": "uKeXNPUmFlfL"
   },
   "outputs": [],
   "source": [
    "for col in df2_train.select_dtypes(np.int8).columns.drop(target):   \n",
    "    df2_train[col] = df2_train[col].astype(object)   \n",
    "    df2_test[col]  = df2_test[col].astype(object)    "
   ]
  },
  {
   "cell_type": "code",
   "execution_count": 46,
   "metadata": {
    "ExecuteTime": {
     "end_time": "2022-05-03T21:55:53.458916Z",
     "start_time": "2022-05-03T21:55:52.900954Z"
    },
    "colab": {
     "base_uri": "https://localhost:8080/"
    },
    "executionInfo": {
     "elapsed": 691,
     "status": "ok",
     "timestamp": 1651517389233,
     "user": {
      "displayName": "Rogério Delfim",
      "userId": "04235763959036945343"
     },
     "user_tz": 180
    },
    "id": "nDZywo2zFlfL",
    "outputId": "e6c9ba70-0206-4d06-a97a-78ad63e80e1b"
   },
   "outputs": [
    {
     "name": "stdout",
     "output_type": "stream",
     "text": [
      "<class 'pandas.core.frame.DataFrame'>\n",
      "RangeIndex: 900000 entries, 0 to 899999\n",
      "Data columns (total 33 columns):\n",
      " #   Column  Non-Null Count   Dtype  \n",
      "---  ------  --------------   -----  \n",
      " 0   id      900000 non-null  int32  \n",
      " 1   f_00    900000 non-null  float16\n",
      " 2   f_01    900000 non-null  float16\n",
      " 3   f_02    900000 non-null  float16\n",
      " 4   f_03    900000 non-null  float16\n",
      " 5   f_04    900000 non-null  float16\n",
      " 6   f_05    900000 non-null  float16\n",
      " 7   f_06    900000 non-null  float16\n",
      " 8   f_07    900000 non-null  object \n",
      " 9   f_08    900000 non-null  object \n",
      " 10  f_09    900000 non-null  object \n",
      " 11  f_10    900000 non-null  object \n",
      " 12  f_11    900000 non-null  object \n",
      " 13  f_12    900000 non-null  object \n",
      " 14  f_13    900000 non-null  object \n",
      " 15  f_14    900000 non-null  object \n",
      " 16  f_15    900000 non-null  object \n",
      " 17  f_16    900000 non-null  object \n",
      " 18  f_17    900000 non-null  object \n",
      " 19  f_18    900000 non-null  object \n",
      " 20  f_19    900000 non-null  float16\n",
      " 21  f_20    900000 non-null  float16\n",
      " 22  f_21    900000 non-null  float16\n",
      " 23  f_22    900000 non-null  float16\n",
      " 24  f_23    900000 non-null  float16\n",
      " 25  f_24    900000 non-null  float16\n",
      " 26  f_25    900000 non-null  float16\n",
      " 27  f_26    900000 non-null  float16\n",
      " 28  f_27    900000 non-null  object \n",
      " 29  f_28    900000 non-null  float16\n",
      " 30  f_29    900000 non-null  object \n",
      " 31  f_30    900000 non-null  object \n",
      " 32  target  900000 non-null  int8   \n",
      "dtypes: float16(16), int32(1), int8(1), object(15)\n",
      "memory usage: 134.8+ MB\n"
     ]
    }
   ],
   "source": [
    "df2_train.info()"
   ]
  },
  {
   "cell_type": "code",
   "execution_count": 47,
   "metadata": {
    "ExecuteTime": {
     "end_time": "2022-05-03T21:55:57.352690Z",
     "start_time": "2022-05-03T21:55:56.893694Z"
    },
    "colab": {
     "base_uri": "https://localhost:8080/"
    },
    "executionInfo": {
     "elapsed": 735,
     "status": "ok",
     "timestamp": 1651517392098,
     "user": {
      "displayName": "Rogério Delfim",
      "userId": "04235763959036945343"
     },
     "user_tz": 180
    },
    "id": "ZYShL37-FlfL",
    "outputId": "322f6374-b7ce-4bbb-b8d3-301312b55b89"
   },
   "outputs": [
    {
     "name": "stdout",
     "output_type": "stream",
     "text": [
      "<class 'pandas.core.frame.DataFrame'>\n",
      "RangeIndex: 700000 entries, 0 to 699999\n",
      "Data columns (total 32 columns):\n",
      " #   Column  Non-Null Count   Dtype  \n",
      "---  ------  --------------   -----  \n",
      " 0   id      700000 non-null  int32  \n",
      " 1   f_00    700000 non-null  float16\n",
      " 2   f_01    700000 non-null  float16\n",
      " 3   f_02    700000 non-null  float16\n",
      " 4   f_03    700000 non-null  float16\n",
      " 5   f_04    700000 non-null  float16\n",
      " 6   f_05    700000 non-null  float16\n",
      " 7   f_06    700000 non-null  float16\n",
      " 8   f_07    700000 non-null  object \n",
      " 9   f_08    700000 non-null  object \n",
      " 10  f_09    700000 non-null  object \n",
      " 11  f_10    700000 non-null  object \n",
      " 12  f_11    700000 non-null  object \n",
      " 13  f_12    700000 non-null  object \n",
      " 14  f_13    700000 non-null  object \n",
      " 15  f_14    700000 non-null  object \n",
      " 16  f_15    700000 non-null  object \n",
      " 17  f_16    700000 non-null  object \n",
      " 18  f_17    700000 non-null  object \n",
      " 19  f_18    700000 non-null  object \n",
      " 20  f_19    700000 non-null  float16\n",
      " 21  f_20    700000 non-null  float16\n",
      " 22  f_21    700000 non-null  float16\n",
      " 23  f_22    700000 non-null  float16\n",
      " 24  f_23    700000 non-null  float16\n",
      " 25  f_24    700000 non-null  float16\n",
      " 26  f_25    700000 non-null  float16\n",
      " 27  f_26    700000 non-null  float16\n",
      " 28  f_27    700000 non-null  object \n",
      " 29  f_28    700000 non-null  float16\n",
      " 30  f_29    700000 non-null  object \n",
      " 31  f_30    700000 non-null  object \n",
      "dtypes: float16(16), int32(1), object(15)\n",
      "memory usage: 104.1+ MB\n"
     ]
    }
   ],
   "source": [
    "df2_test.info()"
   ]
  },
  {
   "cell_type": "markdown",
   "metadata": {
    "id": "QmmQYqi2FlfL"
   },
   "source": [
    "---"
   ]
  },
  {
   "cell_type": "markdown",
   "metadata": {
    "id": "v9eqrfLE3EDT"
   },
   "source": [
    "## 2.3. Identificar NA"
   ]
  },
  {
   "cell_type": "code",
   "execution_count": 48,
   "metadata": {
    "ExecuteTime": {
     "end_time": "2022-05-03T21:56:04.455485Z",
     "start_time": "2022-05-03T21:56:03.285516Z"
    },
    "colab": {
     "base_uri": "https://localhost:8080/",
     "height": 87
    },
    "executionInfo": {
     "elapsed": 1393,
     "status": "ok",
     "timestamp": 1651517401163,
     "user": {
      "displayName": "Rogério Delfim",
      "userId": "04235763959036945343"
     },
     "user_tz": 180
    },
    "id": "x2fit_153EDT",
    "outputId": "32800401-4fcd-42ae-81b0-4e6015c5bf60"
   },
   "outputs": [
    {
     "name": "stdout",
     "output_type": "stream",
     "text": [
      "Seu dataframe selecionado tem 33 colunas e 900000 linhas. \n",
      "Existem 0 colunas com valores ausentes.\n"
     ]
    },
    {
     "data": {
      "text/html": [
       "<style type=\"text/css\">\n",
       "</style>\n",
       "<table id=\"T_c70d1_\">\n",
       "  <thead>\n",
       "    <tr>\n",
       "      <th class=\"blank level0\" >&nbsp;</th>\n",
       "      <th class=\"col_heading level0 col0\" >index</th>\n",
       "      <th class=\"col_heading level0 col1\" >Valores ausentes</th>\n",
       "      <th class=\"col_heading level0 col2\" >% de valores totais</th>\n",
       "      <th class=\"col_heading level0 col3\" >Tipo de dados</th>\n",
       "    </tr>\n",
       "  </thead>\n",
       "  <tbody>\n",
       "  </tbody>\n",
       "</table>\n"
      ],
      "text/plain": [
       "<pandas.io.formats.style.Styler at 0x1ba3a95b910>"
      ]
     },
     "execution_count": 48,
     "metadata": {},
     "output_type": "execute_result"
    }
   ],
   "source": [
    "missing = missing_zero_values_table(df2_train)\n",
    "missing[:].style.background_gradient(cmap='Reds')"
   ]
  },
  {
   "cell_type": "code",
   "execution_count": 49,
   "metadata": {
    "ExecuteTime": {
     "end_time": "2022-05-03T21:56:07.747636Z",
     "start_time": "2022-05-03T21:56:06.892638Z"
    },
    "colab": {
     "base_uri": "https://localhost:8080/",
     "height": 87
    },
    "executionInfo": {
     "elapsed": 1123,
     "status": "ok",
     "timestamp": 1651517404018,
     "user": {
      "displayName": "Rogério Delfim",
      "userId": "04235763959036945343"
     },
     "user_tz": 180
    },
    "id": "KPKe5ZiJ3EDW",
    "outputId": "5c76fa98-4448-4d78-9151-857da4c2ebcf"
   },
   "outputs": [
    {
     "name": "stdout",
     "output_type": "stream",
     "text": [
      "Seu dataframe selecionado tem 32 colunas e 700000 linhas. \n",
      "Existem 0 colunas com valores ausentes.\n"
     ]
    },
    {
     "data": {
      "text/html": [
       "<style type=\"text/css\">\n",
       "</style>\n",
       "<table id=\"T_17925_\">\n",
       "  <thead>\n",
       "    <tr>\n",
       "      <th class=\"blank level0\" >&nbsp;</th>\n",
       "      <th class=\"col_heading level0 col0\" >index</th>\n",
       "      <th class=\"col_heading level0 col1\" >Valores ausentes</th>\n",
       "      <th class=\"col_heading level0 col2\" >% de valores totais</th>\n",
       "      <th class=\"col_heading level0 col3\" >Tipo de dados</th>\n",
       "    </tr>\n",
       "  </thead>\n",
       "  <tbody>\n",
       "  </tbody>\n",
       "</table>\n"
      ],
      "text/plain": [
       "<pandas.io.formats.style.Styler at 0x1ba3a95ba00>"
      ]
     },
     "execution_count": 49,
     "metadata": {},
     "output_type": "execute_result"
    }
   ],
   "source": [
    "missing = missing_zero_values_table(df2_test)\n",
    "missing[:].style.background_gradient(cmap='Reds')"
   ]
  },
  {
   "cell_type": "markdown",
   "metadata": {
    "id": "qB6Pwjd_3EDW"
   },
   "source": [
    "<div class=\"alert alert-info\" role=\"alert\"> \n",
    "    \n",
    "**`NOTA:`** <br>\n",
    "\n",
    "Não temos valores ausentes. \n",
    "    \n",
    "</div>"
   ]
  },
  {
   "cell_type": "markdown",
   "metadata": {
    "id": "5rLwDaIx3EDW"
   },
   "source": [
    "## 2.4 Estatística Descritiva\n",
    "Abaixo estão as estatísticas básicas para cada variável que contém informações sobre contagem, média, desvio padrão, mínimo, 1º quartil, mediana, 3º quartil e máximo."
   ]
  },
  {
   "cell_type": "code",
   "execution_count": 50,
   "metadata": {
    "ExecuteTime": {
     "end_time": "2022-05-03T21:57:02.721814Z",
     "start_time": "2022-05-03T21:57:02.493791Z"
    },
    "colab": {
     "base_uri": "https://localhost:8080/"
    },
    "executionInfo": {
     "elapsed": 243,
     "status": "ok",
     "timestamp": 1651517407701,
     "user": {
      "displayName": "Rogério Delfim",
      "userId": "04235763959036945343"
     },
     "user_tz": 180
    },
    "id": "7rFBiM5rFlfM",
    "outputId": "2a693313-e782-435e-d6ba-daa8f315d43d"
   },
   "outputs": [
    {
     "name": "stdout",
     "output_type": "stream",
     "text": [
      "Temos 16 variávies numéricas e 15 categóricas.\n"
     ]
    }
   ],
   "source": [
    "feature_float = df2_test.select_dtypes(np.number).columns.to_list()\n",
    "feature_cat   = df2_test.select_dtypes(object).columns.to_list()\n",
    "\n",
    "feature_float.remove('id')\n",
    "\n",
    "msg = 'Temos {} variávies numéricas e {} categóricas.'\n",
    "print(msg.format(len(feature_float), len(feature_cat)))"
   ]
  },
  {
   "cell_type": "markdown",
   "metadata": {
    "id": "9PKbyD_p3EDX"
   },
   "source": [
    "- Train"
   ]
  },
  {
   "cell_type": "code",
   "execution_count": 51,
   "metadata": {
    "ExecuteTime": {
     "end_time": "2022-05-03T21:57:12.907251Z",
     "start_time": "2022-05-03T21:57:11.126291Z"
    },
    "colab": {
     "base_uri": "https://localhost:8080/",
     "height": 551
    },
    "executionInfo": {
     "elapsed": 2893,
     "status": "ok",
     "timestamp": 1651517413954,
     "user": {
      "displayName": "Rogério Delfim",
      "userId": "04235763959036945343"
     },
     "user_tz": 180
    },
    "id": "6NTHpUNo3EDX",
    "outputId": "27c68a8f-d460-4422-95c8-0b017eac5040"
   },
   "outputs": [
    {
     "data": {
      "text/html": [
       "<style type=\"text/css\">\n",
       "#T_1de02_row0_col0, #T_1de02_row0_col2, #T_1de02_row0_col6, #T_1de02_row0_col7, #T_1de02_row1_col0, #T_1de02_row1_col2, #T_1de02_row1_col6, #T_1de02_row1_col7, #T_1de02_row2_col0, #T_1de02_row2_col2, #T_1de02_row2_col6, #T_1de02_row2_col7, #T_1de02_row3_col0, #T_1de02_row3_col2, #T_1de02_row3_col6, #T_1de02_row3_col7, #T_1de02_row4_col0, #T_1de02_row4_col2, #T_1de02_row4_col6, #T_1de02_row4_col7, #T_1de02_row5_col0, #T_1de02_row5_col2, #T_1de02_row5_col6, #T_1de02_row5_col7, #T_1de02_row6_col0, #T_1de02_row6_col2, #T_1de02_row6_col6, #T_1de02_row6_col7, #T_1de02_row7_col0, #T_1de02_row7_col2, #T_1de02_row8_col0, #T_1de02_row8_col2, #T_1de02_row9_col0, #T_1de02_row9_col2, #T_1de02_row10_col0, #T_1de02_row10_col1, #T_1de02_row10_col2, #T_1de02_row11_col0, #T_1de02_row11_col2, #T_1de02_row11_col6, #T_1de02_row12_col0, #T_1de02_row12_col2, #T_1de02_row12_col6, #T_1de02_row13_col0, #T_1de02_row13_col2, #T_1de02_row14_col0, #T_1de02_row14_col2, #T_1de02_row15_col0, #T_1de02_row15_col2, #T_1de02_row15_col3, #T_1de02_row15_col4, #T_1de02_row15_col5 {\n",
       "  background-color: #ffffcc;\n",
       "  color: #000000;\n",
       "}\n",
       "#T_1de02_row0_col1 {\n",
       "  background-color: #c10325;\n",
       "  color: #f1f1f1;\n",
       "}\n",
       "#T_1de02_row0_col3, #T_1de02_row0_col4, #T_1de02_row1_col1, #T_1de02_row1_col3, #T_1de02_row1_col4, #T_1de02_row2_col1, #T_1de02_row2_col3, #T_1de02_row2_col4, #T_1de02_row3_col3, #T_1de02_row3_col4, #T_1de02_row4_col3, #T_1de02_row4_col4, #T_1de02_row5_col3, #T_1de02_row5_col4, #T_1de02_row6_col3, #T_1de02_row6_col4, #T_1de02_row7_col4, #T_1de02_row14_col4, #T_1de02_row14_col5, #T_1de02_row15_col6, #T_1de02_row15_col7 {\n",
       "  background-color: #800026;\n",
       "  color: #f1f1f1;\n",
       "}\n",
       "#T_1de02_row0_col5, #T_1de02_row1_col5, #T_1de02_row2_col5 {\n",
       "  background-color: #fc6c33;\n",
       "  color: #f1f1f1;\n",
       "}\n",
       "#T_1de02_row3_col1 {\n",
       "  background-color: #e1191d;\n",
       "  color: #f1f1f1;\n",
       "}\n",
       "#T_1de02_row3_col5, #T_1de02_row4_col5, #T_1de02_row5_col5, #T_1de02_row6_col5 {\n",
       "  background-color: #fd6e33;\n",
       "  color: #f1f1f1;\n",
       "}\n",
       "#T_1de02_row4_col1 {\n",
       "  background-color: #c90823;\n",
       "  color: #f1f1f1;\n",
       "}\n",
       "#T_1de02_row5_col1 {\n",
       "  background-color: #a80026;\n",
       "  color: #f1f1f1;\n",
       "}\n",
       "#T_1de02_row6_col1 {\n",
       "  background-color: #ce0c22;\n",
       "  color: #f1f1f1;\n",
       "}\n",
       "#T_1de02_row7_col1, #T_1de02_row8_col1, #T_1de02_row9_col1, #T_1de02_row11_col1, #T_1de02_row12_col1, #T_1de02_row13_col1, #T_1de02_row14_col1, #T_1de02_row15_col1 {\n",
       "  background-color: #000000;\n",
       "  color: #f1f1f1;\n",
       "}\n",
       "#T_1de02_row7_col3, #T_1de02_row8_col3, #T_1de02_row8_col4, #T_1de02_row9_col3, #T_1de02_row9_col4, #T_1de02_row10_col3, #T_1de02_row10_col4, #T_1de02_row11_col3, #T_1de02_row12_col3, #T_1de02_row13_col3, #T_1de02_row13_col4 {\n",
       "  background-color: #820026;\n",
       "  color: #f1f1f1;\n",
       "}\n",
       "#T_1de02_row7_col5 {\n",
       "  background-color: #a60026;\n",
       "  color: #f1f1f1;\n",
       "}\n",
       "#T_1de02_row7_col6, #T_1de02_row7_col7, #T_1de02_row8_col6, #T_1de02_row8_col7, #T_1de02_row9_col6, #T_1de02_row10_col6, #T_1de02_row10_col7, #T_1de02_row11_col7, #T_1de02_row12_col7, #T_1de02_row13_col6, #T_1de02_row13_col7, #T_1de02_row14_col7 {\n",
       "  background-color: #fffecb;\n",
       "  color: #000000;\n",
       "}\n",
       "#T_1de02_row8_col5 {\n",
       "  background-color: #feb852;\n",
       "  color: #000000;\n",
       "}\n",
       "#T_1de02_row9_col5 {\n",
       "  background-color: #feac49;\n",
       "  color: #000000;\n",
       "}\n",
       "#T_1de02_row9_col7, #T_1de02_row14_col6 {\n",
       "  background-color: #fffec9;\n",
       "  color: #000000;\n",
       "}\n",
       "#T_1de02_row10_col5 {\n",
       "  background-color: #fc5d2e;\n",
       "  color: #f1f1f1;\n",
       "}\n",
       "#T_1de02_row11_col4, #T_1de02_row12_col4, #T_1de02_row14_col3 {\n",
       "  background-color: #840026;\n",
       "  color: #f1f1f1;\n",
       "}\n",
       "#T_1de02_row11_col5 {\n",
       "  background-color: #ffeb9c;\n",
       "  color: #000000;\n",
       "}\n",
       "#T_1de02_row12_col5 {\n",
       "  background-color: #fee289;\n",
       "  color: #000000;\n",
       "}\n",
       "#T_1de02_row13_col5 {\n",
       "  background-color: #e61f1d;\n",
       "  color: #f1f1f1;\n",
       "}\n",
       "</style>\n",
       "<table id=\"T_1de02_\">\n",
       "  <thead>\n",
       "    <tr>\n",
       "      <th class=\"blank level0\" >&nbsp;</th>\n",
       "      <th class=\"col_heading level0 col0\" >count</th>\n",
       "      <th class=\"col_heading level0 col1\" >mean</th>\n",
       "      <th class=\"col_heading level0 col2\" >std</th>\n",
       "      <th class=\"col_heading level0 col3\" >min</th>\n",
       "      <th class=\"col_heading level0 col4\" >25%</th>\n",
       "      <th class=\"col_heading level0 col5\" >50%</th>\n",
       "      <th class=\"col_heading level0 col6\" >75%</th>\n",
       "      <th class=\"col_heading level0 col7\" >max</th>\n",
       "    </tr>\n",
       "  </thead>\n",
       "  <tbody>\n",
       "    <tr>\n",
       "      <th id=\"T_1de02_level0_row0\" class=\"row_heading level0 row0\" >f_00</th>\n",
       "      <td id=\"T_1de02_row0_col0\" class=\"data row0 col0\" >900000.000000</td>\n",
       "      <td id=\"T_1de02_row0_col1\" class=\"data row0 col1\" >-0.000286</td>\n",
       "      <td id=\"T_1de02_row0_col2\" class=\"data row0 col2\" >0.000000</td>\n",
       "      <td id=\"T_1de02_row0_col3\" class=\"data row0 col3\" >-4.601562</td>\n",
       "      <td id=\"T_1de02_row0_col4\" class=\"data row0 col4\" >-0.675293</td>\n",
       "      <td id=\"T_1de02_row0_col5\" class=\"data row0 col5\" >0.001144</td>\n",
       "      <td id=\"T_1de02_row0_col6\" class=\"data row0 col6\" >0.674316</td>\n",
       "      <td id=\"T_1de02_row0_col7\" class=\"data row0 col7\" >4.750000</td>\n",
       "    </tr>\n",
       "    <tr>\n",
       "      <th id=\"T_1de02_level0_row1\" class=\"row_heading level0 row1\" >f_01</th>\n",
       "      <td id=\"T_1de02_row1_col0\" class=\"data row1 col0\" >900000.000000</td>\n",
       "      <td id=\"T_1de02_row1_col1\" class=\"data row1 col1\" >0.001165</td>\n",
       "      <td id=\"T_1de02_row1_col2\" class=\"data row1 col2\" >0.000000</td>\n",
       "      <td id=\"T_1de02_row1_col3\" class=\"data row1 col3\" >-4.683594</td>\n",
       "      <td id=\"T_1de02_row1_col4\" class=\"data row1 col4\" >-0.675293</td>\n",
       "      <td id=\"T_1de02_row1_col5\" class=\"data row1 col5\" >0.002014</td>\n",
       "      <td id=\"T_1de02_row1_col6\" class=\"data row1 col6\" >0.674805</td>\n",
       "      <td id=\"T_1de02_row1_col7\" class=\"data row1 col7\" >4.816406</td>\n",
       "    </tr>\n",
       "    <tr>\n",
       "      <th id=\"T_1de02_level0_row2\" class=\"row_heading level0 row2\" >f_02</th>\n",
       "      <td id=\"T_1de02_row2_col0\" class=\"data row2 col0\" >900000.000000</td>\n",
       "      <td id=\"T_1de02_row2_col1\" class=\"data row2 col1\" >0.001173</td>\n",
       "      <td id=\"T_1de02_row2_col2\" class=\"data row2 col2\" >0.000000</td>\n",
       "      <td id=\"T_1de02_row2_col3\" class=\"data row2 col3\" >-4.644531</td>\n",
       "      <td id=\"T_1de02_row2_col4\" class=\"data row2 col4\" >-0.674316</td>\n",
       "      <td id=\"T_1de02_row2_col5\" class=\"data row2 col5\" >0.002218</td>\n",
       "      <td id=\"T_1de02_row2_col6\" class=\"data row2 col6\" >0.677734</td>\n",
       "      <td id=\"T_1de02_row2_col7\" class=\"data row2 col7\" >4.960938</td>\n",
       "    </tr>\n",
       "    <tr>\n",
       "      <th id=\"T_1de02_level0_row3\" class=\"row_heading level0 row3\" >f_03</th>\n",
       "      <td id=\"T_1de02_row3_col0\" class=\"data row3 col0\" >900000.000000</td>\n",
       "      <td id=\"T_1de02_row3_col1\" class=\"data row3 col1\" >-0.001369</td>\n",
       "      <td id=\"T_1de02_row3_col2\" class=\"data row3 col2\" >0.000000</td>\n",
       "      <td id=\"T_1de02_row3_col3\" class=\"data row3 col3\" >-4.660156</td>\n",
       "      <td id=\"T_1de02_row3_col4\" class=\"data row3 col4\" >-0.676270</td>\n",
       "      <td id=\"T_1de02_row3_col5\" class=\"data row3 col5\" >-0.002228</td>\n",
       "      <td id=\"T_1de02_row3_col6\" class=\"data row3 col6\" >0.672363</td>\n",
       "      <td id=\"T_1de02_row3_col7\" class=\"data row3 col7\" >4.453125</td>\n",
       "    </tr>\n",
       "    <tr>\n",
       "      <th id=\"T_1de02_level0_row4\" class=\"row_heading level0 row4\" >f_04</th>\n",
       "      <td id=\"T_1de02_row4_col0\" class=\"data row4 col0\" >900000.000000</td>\n",
       "      <td id=\"T_1de02_row4_col1\" class=\"data row4 col1\" >-0.000573</td>\n",
       "      <td id=\"T_1de02_row4_col2\" class=\"data row4 col2\" >0.000000</td>\n",
       "      <td id=\"T_1de02_row4_col3\" class=\"data row4 col3\" >-4.750000</td>\n",
       "      <td id=\"T_1de02_row4_col4\" class=\"data row4 col4\" >-0.675781</td>\n",
       "      <td id=\"T_1de02_row4_col5\" class=\"data row4 col5\" >-0.001662</td>\n",
       "      <td id=\"T_1de02_row4_col6\" class=\"data row4 col6\" >0.673828</td>\n",
       "      <td id=\"T_1de02_row4_col7\" class=\"data row4 col7\" >4.949219</td>\n",
       "    </tr>\n",
       "    <tr>\n",
       "      <th id=\"T_1de02_level0_row5\" class=\"row_heading level0 row5\" >f_05</th>\n",
       "      <td id=\"T_1de02_row5_col0\" class=\"data row5 col0\" >900000.000000</td>\n",
       "      <td id=\"T_1de02_row5_col1\" class=\"data row5 col1\" >0.000285</td>\n",
       "      <td id=\"T_1de02_row5_col2\" class=\"data row5 col2\" >0.000000</td>\n",
       "      <td id=\"T_1de02_row5_col3\" class=\"data row5 col3\" >-4.750000</td>\n",
       "      <td id=\"T_1de02_row5_col4\" class=\"data row5 col4\" >-0.673340</td>\n",
       "      <td id=\"T_1de02_row5_col5\" class=\"data row5 col5\" >-0.000437</td>\n",
       "      <td id=\"T_1de02_row5_col6\" class=\"data row5 col6\" >0.674805</td>\n",
       "      <td id=\"T_1de02_row5_col7\" class=\"data row5 col7\" >4.972656</td>\n",
       "    </tr>\n",
       "    <tr>\n",
       "      <th id=\"T_1de02_level0_row6\" class=\"row_heading level0 row6\" >f_06</th>\n",
       "      <td id=\"T_1de02_row6_col0\" class=\"data row6 col0\" >900000.000000</td>\n",
       "      <td id=\"T_1de02_row6_col1\" class=\"data row6 col1\" >-0.000711</td>\n",
       "      <td id=\"T_1de02_row6_col2\" class=\"data row6 col2\" >0.000000</td>\n",
       "      <td id=\"T_1de02_row6_col3\" class=\"data row6 col3\" >-4.843750</td>\n",
       "      <td id=\"T_1de02_row6_col4\" class=\"data row6 col4\" >-0.674805</td>\n",
       "      <td id=\"T_1de02_row6_col5\" class=\"data row6 col5\" >-0.001492</td>\n",
       "      <td id=\"T_1de02_row6_col6\" class=\"data row6 col6\" >0.674805</td>\n",
       "      <td id=\"T_1de02_row6_col7\" class=\"data row6 col7\" >4.824219</td>\n",
       "    </tr>\n",
       "    <tr>\n",
       "      <th id=\"T_1de02_level0_row7\" class=\"row_heading level0 row7\" >f_19</th>\n",
       "      <td id=\"T_1de02_row7_col0\" class=\"data row7 col0\" >900000.000000</td>\n",
       "      <td id=\"T_1de02_row7_col1\" class=\"data row7 col1\" >nan</td>\n",
       "      <td id=\"T_1de02_row7_col2\" class=\"data row7 col2\" >0.000000</td>\n",
       "      <td id=\"T_1de02_row7_col3\" class=\"data row7 col3\" >-11.281250</td>\n",
       "      <td id=\"T_1de02_row7_col4\" class=\"data row7 col4\" >-1.236328</td>\n",
       "      <td id=\"T_1de02_row7_col5\" class=\"data row7 col5\" >0.330322</td>\n",
       "      <td id=\"T_1de02_row7_col6\" class=\"data row7 col6\" >1.880859</td>\n",
       "      <td id=\"T_1de02_row7_col7\" class=\"data row7 col7\" >12.078125</td>\n",
       "    </tr>\n",
       "    <tr>\n",
       "      <th id=\"T_1de02_level0_row8\" class=\"row_heading level0 row8\" >f_20</th>\n",
       "      <td id=\"T_1de02_row8_col0\" class=\"data row8 col0\" >900000.000000</td>\n",
       "      <td id=\"T_1de02_row8_col1\" class=\"data row8 col1\" >nan</td>\n",
       "      <td id=\"T_1de02_row8_col2\" class=\"data row8 col2\" >0.000000</td>\n",
       "      <td id=\"T_1de02_row8_col3\" class=\"data row8 col3\" >-11.257812</td>\n",
       "      <td id=\"T_1de02_row8_col4\" class=\"data row8 col4\" >-1.804688</td>\n",
       "      <td id=\"T_1de02_row8_col5\" class=\"data row8 col5\" >-0.190552</td>\n",
       "      <td id=\"T_1de02_row8_col6\" class=\"data row8 col6\" >1.444336</td>\n",
       "      <td id=\"T_1de02_row8_col7\" class=\"data row8 col7\" >11.476562</td>\n",
       "    </tr>\n",
       "    <tr>\n",
       "      <th id=\"T_1de02_level0_row9\" class=\"row_heading level0 row9\" >f_21</th>\n",
       "      <td id=\"T_1de02_row9_col0\" class=\"data row9 col0\" >900000.000000</td>\n",
       "      <td id=\"T_1de02_row9_col1\" class=\"data row9 col1\" >nan</td>\n",
       "      <td id=\"T_1de02_row9_col2\" class=\"data row9 col2\" >0.000000</td>\n",
       "      <td id=\"T_1de02_row9_col3\" class=\"data row9 col3\" >-13.312500</td>\n",
       "      <td id=\"T_1de02_row9_col4\" class=\"data row9 col4\" >-1.820312</td>\n",
       "      <td id=\"T_1de02_row9_col5\" class=\"data row9 col5\" >-0.152710</td>\n",
       "      <td id=\"T_1de02_row9_col6\" class=\"data row9 col6\" >1.506836</td>\n",
       "      <td id=\"T_1de02_row9_col7\" class=\"data row9 col7\" >14.453125</td>\n",
       "    </tr>\n",
       "    <tr>\n",
       "      <th id=\"T_1de02_level0_row10\" class=\"row_heading level0 row10\" >f_22</th>\n",
       "      <td id=\"T_1de02_row10_col0\" class=\"data row10 col0\" >900000.000000</td>\n",
       "      <td id=\"T_1de02_row10_col1\" class=\"data row10 col1\" >-0.009277</td>\n",
       "      <td id=\"T_1de02_row10_col2\" class=\"data row10 col2\" >0.000000</td>\n",
       "      <td id=\"T_1de02_row10_col3\" class=\"data row10 col3\" >-11.851562</td>\n",
       "      <td id=\"T_1de02_row10_col4\" class=\"data row10 col4\" >-1.645508</td>\n",
       "      <td id=\"T_1de02_row10_col5\" class=\"data row10 col5\" >0.030853</td>\n",
       "      <td id=\"T_1de02_row10_col6\" class=\"data row10 col6\" >1.662109</td>\n",
       "      <td id=\"T_1de02_row10_col7\" class=\"data row10 col7\" >11.343750</td>\n",
       "    </tr>\n",
       "    <tr>\n",
       "      <th id=\"T_1de02_level0_row11\" class=\"row_heading level0 row11\" >f_23</th>\n",
       "      <td id=\"T_1de02_row11_col0\" class=\"data row11 col0\" >900000.000000</td>\n",
       "      <td id=\"T_1de02_row11_col1\" class=\"data row11 col1\" >nan</td>\n",
       "      <td id=\"T_1de02_row11_col2\" class=\"data row11 col2\" >0.000000</td>\n",
       "      <td id=\"T_1de02_row11_col3\" class=\"data row11 col3\" >-12.304688</td>\n",
       "      <td id=\"T_1de02_row11_col4\" class=\"data row11 col4\" >-2.019531</td>\n",
       "      <td id=\"T_1de02_row11_col5\" class=\"data row11 col5\" >-0.390869</td>\n",
       "      <td id=\"T_1de02_row11_col6\" class=\"data row11 col6\" >1.255859</td>\n",
       "      <td id=\"T_1de02_row11_col7\" class=\"data row11 col7\" >12.250000</td>\n",
       "    </tr>\n",
       "    <tr>\n",
       "      <th id=\"T_1de02_level0_row12\" class=\"row_heading level0 row12\" >f_24</th>\n",
       "      <td id=\"T_1de02_row12_col0\" class=\"data row12 col0\" >900000.000000</td>\n",
       "      <td id=\"T_1de02_row12_col1\" class=\"data row12 col1\" >nan</td>\n",
       "      <td id=\"T_1de02_row12_col2\" class=\"data row12 col2\" >0.000000</td>\n",
       "      <td id=\"T_1de02_row12_col3\" class=\"data row12 col3\" >-11.414062</td>\n",
       "      <td id=\"T_1de02_row12_col4\" class=\"data row12 col4\" >-1.956055</td>\n",
       "      <td id=\"T_1de02_row12_col5\" class=\"data row12 col5\" >-0.340820</td>\n",
       "      <td id=\"T_1de02_row12_col6\" class=\"data row12 col6\" >1.266602</td>\n",
       "      <td id=\"T_1de02_row12_col7\" class=\"data row12 col7\" >12.390625</td>\n",
       "    </tr>\n",
       "    <tr>\n",
       "      <th id=\"T_1de02_level0_row13\" class=\"row_heading level0 row13\" >f_25</th>\n",
       "      <td id=\"T_1de02_row13_col0\" class=\"data row13 col0\" >900000.000000</td>\n",
       "      <td id=\"T_1de02_row13_col1\" class=\"data row13 col1\" >nan</td>\n",
       "      <td id=\"T_1de02_row13_col2\" class=\"data row13 col2\" >0.000000</td>\n",
       "      <td id=\"T_1de02_row13_col3\" class=\"data row13 col3\" >-11.921875</td>\n",
       "      <td id=\"T_1de02_row13_col4\" class=\"data row13 col4\" >-1.440430</td>\n",
       "      <td id=\"T_1de02_row13_col5\" class=\"data row13 col5\" >0.160889</td>\n",
       "      <td id=\"T_1de02_row13_col6\" class=\"data row13 col6\" >1.795898</td>\n",
       "      <td id=\"T_1de02_row13_col7\" class=\"data row13 col7\" >12.531250</td>\n",
       "    </tr>\n",
       "    <tr>\n",
       "      <th id=\"T_1de02_level0_row14\" class=\"row_heading level0 row14\" >f_26</th>\n",
       "      <td id=\"T_1de02_row14_col0\" class=\"data row14 col0\" >900000.000000</td>\n",
       "      <td id=\"T_1de02_row14_col1\" class=\"data row14 col1\" >nan</td>\n",
       "      <td id=\"T_1de02_row14_col2\" class=\"data row14 col2\" >0.000000</td>\n",
       "      <td id=\"T_1de02_row14_col3\" class=\"data row14 col3\" >-14.296875</td>\n",
       "      <td id=\"T_1de02_row14_col4\" class=\"data row14 col4\" >-1.261719</td>\n",
       "      <td id=\"T_1de02_row14_col5\" class=\"data row14 col5\" >0.404297</td>\n",
       "      <td id=\"T_1de02_row14_col6\" class=\"data row14 col6\" >2.027344</td>\n",
       "      <td id=\"T_1de02_row14_col7\" class=\"data row14 col7\" >12.914062</td>\n",
       "    </tr>\n",
       "    <tr>\n",
       "      <th id=\"T_1de02_level0_row15\" class=\"row_heading level0 row15\" >f_28</th>\n",
       "      <td id=\"T_1de02_row15_col0\" class=\"data row15 col0\" >900000.000000</td>\n",
       "      <td id=\"T_1de02_row15_col1\" class=\"data row15 col1\" >nan</td>\n",
       "      <td id=\"T_1de02_row15_col2\" class=\"data row15 col2\" >nan</td>\n",
       "      <td id=\"T_1de02_row15_col3\" class=\"data row15 col3\" >-1230.000000</td>\n",
       "      <td id=\"T_1de02_row15_col4\" class=\"data row15 col4\" >-159.375000</td>\n",
       "      <td id=\"T_1de02_row15_col5\" class=\"data row15 col5\" >-0.519775</td>\n",
       "      <td id=\"T_1de02_row15_col6\" class=\"data row15 col6\" >159.000000</td>\n",
       "      <td id=\"T_1de02_row15_col7\" class=\"data row15 col7\" >1230.000000</td>\n",
       "    </tr>\n",
       "  </tbody>\n",
       "</table>\n"
      ],
      "text/plain": [
       "<pandas.io.formats.style.Styler at 0x1ba3a954550>"
      ]
     },
     "execution_count": 51,
     "metadata": {},
     "output_type": "execute_result"
    }
   ],
   "source": [
    "df2_train.drop([target, 'id'], axis=1).describe().T.style.background_gradient(cmap='YlOrRd')"
   ]
  },
  {
   "cell_type": "markdown",
   "metadata": {
    "id": "_MPplFrXFlfN"
   },
   "source": [
    "<div class=\"alert alert-info\" role=\"alert\"> \n",
    "    \n",
    "**`NOTA:`** <br>\n",
    "Podemos observar que a maioria  das variáveis tem desvio padrão igual a zero, exceto a variável **f_28**, sendo assim, tem uma baixa variância.\n",
    "\n",
    "Outro ponto em relação a variáveil **f_28** são os altos valores negativo e positivo nas estatísticas mínimo e  máximo, o interessante é que o valor mínimo e máximo são iguais e os valores de 25% e 75% são guase iguais.   \n",
    "    \n",
    "<div>"
   ]
  },
  {
   "cell_type": "markdown",
   "metadata": {
    "id": "Qw-DiwyOFlfN"
   },
   "source": [
    "---"
   ]
  },
  {
   "cell_type": "markdown",
   "metadata": {
    "id": "syDsQKks3EDZ"
   },
   "source": [
    "## 2.6. Distribuição"
   ]
  },
  {
   "cell_type": "markdown",
   "metadata": {
    "id": "wSrmasit3EDZ"
   },
   "source": [
    "### 2.6.1. Train / Test"
   ]
  },
  {
   "cell_type": "code",
   "execution_count": 52,
   "metadata": {
    "ExecuteTime": {
     "end_time": "2022-05-03T21:59:26.651233Z",
     "start_time": "2022-05-03T21:59:26.533045Z"
    },
    "colab": {
     "base_uri": "https://localhost:8080/",
     "height": 350
    },
    "executionInfo": {
     "elapsed": 461,
     "status": "ok",
     "timestamp": 1651517435192,
     "user": {
      "displayName": "Rogério Delfim",
      "userId": "04235763959036945343"
     },
     "user_tz": 180
    },
    "id": "k59gjrzG3EDZ",
    "outputId": "5d246c9a-f9ff-4956-a484-30d7faebf282"
   },
   "outputs": [
    {
     "data": {
      "image/png": "[encoded data removed]",
      "text/plain": [
       "<Figure size 360x360 with 1 Axes>"
      ]
     },
     "metadata": {},
     "output_type": "display_data"
    }
   ],
   "source": [
    "fig, ax = plt.subplots(figsize=(5, 5))\n",
    "\n",
    "pie = ax.pie([len(df2_train), len(df2_test)],\n",
    "             labels   = [\"Train dataset\", \"Test dataset\"],\n",
    "             #colors   = [\"teal\", \"b\"],\n",
    "             textprops= {\"fontsize\": 15},\n",
    "             autopct  = '%1.1f%%')\n",
    "\n",
    "ax.axis(\"equal\")\n",
    "ax.set_title(\"Comparação de comprimento do conjunto de dados \\n\", fontsize=18)\n",
    "fig.set_facecolor('white')\n",
    "plt.show();"
   ]
  },
  {
   "cell_type": "markdown",
   "metadata": {
    "id": "oF_x1XP3FlfN"
   },
   "source": [
    "---"
   ]
  },
  {
   "cell_type": "markdown",
   "metadata": {},
   "source": [
    "### 2.6.2. Distribuição Train x Test"
   ]
  },
  {
   "cell_type": "code",
   "execution_count": 185,
   "metadata": {
    "ExecuteTime": {
     "end_time": "2022-05-04T16:49:26.957988Z",
     "start_time": "2022-05-04T16:46:16.418952Z"
    }
   },
   "outputs": [
    {
     "data": {
      "image/png": "[encoded data removed]",
      "text/plain": [
       "<Figure size 1440x1440 with 16 Axes>"
      ]
     },
     "metadata": {
      "needs_background": "light"
     },
     "output_type": "display_data"
    }
   ],
   "source": [
    "lines   = int(len(feature_float)/2)\n",
    "fig, ax = plt.subplots(lines,2 ,figsize=(20,20))\n",
    "\n",
    "for i,feature in enumerate(feature_float):\n",
    "    plt.subplot(lines,2,i+1)\n",
    "    sns.kdeplot(df2_train[feature], color=\"red\", label=\"data\", shade = True) #ax=ax)\n",
    "    sns.kdeplot(df2_test[feature],  color=\"blue\", label=\"test\",shade = True) # ax=ax)    \n",
    "    plt.xlabel(feature, fontsize=12)\n",
    "    plt.legend()\n",
    "         \n",
    "plt.suptitle('DistPlot: train & test data', fontsize=20);"
   ]
  },
  {
   "cell_type": "markdown",
   "metadata": {},
   "source": [
    "<div class=\"alert alert-info\" role=\"alert\"> \n",
    "    \n",
    "**`NOTA:`** <br>\n",
    "Ambos os datasets seguem a mesma distribuição.\n",
    "<div>"
   ]
  },
  {
   "cell_type": "markdown",
   "metadata": {},
   "source": [
    "### 2.6.3. Proporção de variáveis"
   ]
  },
  {
   "cell_type": "code",
   "execution_count": 54,
   "metadata": {
    "ExecuteTime": {
     "end_time": "2022-05-03T22:01:00.079825Z",
     "start_time": "2022-05-03T22:00:59.964793Z"
    }
   },
   "outputs": [
    {
     "data": {
      "image/png": "[encoded data removed]",
      "text/plain": [
       "<Figure size 360x360 with 1 Axes>"
      ]
     },
     "metadata": {},
     "output_type": "display_data"
    }
   ],
   "source": [
    "fig, ax = plt.subplots(figsize=(5, 5))\n",
    "\n",
    "plt.pie([ len(feature_cat), len(feature_float)], \n",
    "        labels=['Categorical', 'Continuos' ],\n",
    "        textprops={'fontsize': 13},\n",
    "        autopct='%1.1f%%')\n",
    "\n",
    "#ax.axis(\"equal\")\n",
    "ax.set_title(\"Comparação variáveis continuas/categóricas \\n Dataset Treino/Teste\", fontsize=18)\n",
    "fig.set_facecolor('white')\n",
    "plt.show()"
   ]
  },
  {
   "cell_type": "markdown",
   "metadata": {
    "id": "9V1DpLGZFlfO"
   },
   "source": [
    "### 2.6.4. Distribuição da target"
   ]
  },
  {
   "cell_type": "code",
   "execution_count": 55,
   "metadata": {
    "ExecuteTime": {
     "end_time": "2022-05-03T22:01:10.604589Z",
     "start_time": "2022-05-03T22:01:10.423085Z"
    },
    "colab": {
     "base_uri": "https://localhost:8080/",
     "height": 375
    },
    "executionInfo": {
     "elapsed": 335,
     "status": "ok",
     "timestamp": 1651517443313,
     "user": {
      "displayName": "Rogério Delfim",
      "userId": "04235763959036945343"
     },
     "user_tz": 180
    },
    "id": "yNHHML98FlfO",
    "outputId": "0d0a3d47-dc3d-43b3-a8aa-3a128765762e"
   },
   "outputs": [
    {
     "data": {
      "image/png": "[encoded data removed]",
      "text/plain": [
       "<Figure size 504x360 with 1 Axes>"
      ]
     },
     "metadata": {
      "needs_background": "light"
     },
     "output_type": "display_data"
    }
   ],
   "source": [
    "plt.figure(figsize=(7,5))    \n",
    "\n",
    "graf_bar(df2_train.groupby([target])[target].count() , \n",
    "         icecream, \n",
    "         'Distribuição da variável preditora', \n",
    "         target, \n",
    "         'Quantidade pessoas');"
   ]
  },
  {
   "cell_type": "markdown",
   "metadata": {
    "id": "6zZXuuZbFlfO"
   },
   "source": [
    "<div class=\"alert alert-info\" role=\"alert\"> \n",
    "    \n",
    "**`NOTA:`** <br>\n",
    "    \n",
    "Não temos desbalanceamento nos dados. \n",
    "                                                       \n",
    "</div>"
   ]
  },
  {
   "cell_type": "markdown",
   "metadata": {
    "id": "C6unbhVWFlfO"
   },
   "source": [
    "## 2.7. Dados Categóricas\n",
    "\n",
    "Vamos fazer uma contagem das observações e em cada variável categórica, para termos uma noção de como nosso conjunto de dados estar distribuído."
   ]
  },
  {
   "cell_type": "code",
   "execution_count": 56,
   "metadata": {
    "ExecuteTime": {
     "end_time": "2022-05-03T22:03:49.121331Z",
     "start_time": "2022-05-03T22:03:44.823216Z"
    },
    "colab": {
     "base_uri": "https://localhost:8080/"
    },
    "executionInfo": {
     "elapsed": 3909,
     "status": "ok",
     "timestamp": 1651517451276,
     "user": {
      "displayName": "Rogério Delfim",
      "userId": "04235763959036945343"
     },
     "user_tz": 180
    },
    "id": "3VSHgpP9FlfO",
    "outputId": "1b89bd96-38c3-47a8-b00b-055464b3177f",
    "scrolled": false
   },
   "outputs": [
    {
     "name": "stdout",
     "output_type": "stream",
     "text": [
      "Coluna:  f_07\n",
      "f_07\n",
      "1       229008\n",
      "2       205821\n",
      "0       164173\n",
      "3       144005\n",
      "4        82936\n",
      "5        41560\n",
      "6        19221\n",
      "7         8172\n",
      "8         3322\n",
      "9         1121\n",
      "10         450\n",
      "11         148\n",
      "12          46\n",
      "13          11\n",
      "14           3\n",
      "15           3\n",
      "dtype: int64 \n",
      "\n",
      "Coluna:  f_08\n",
      "f_08\n",
      "1       233896\n",
      "2       217894\n",
      "3       151369\n",
      "0       143142\n",
      "4        84719\n",
      "5        40930\n",
      "6        17385\n",
      "7         6762\n",
      "8         2565\n",
      "9          883\n",
      "10         321\n",
      "11          88\n",
      "12          20\n",
      "13          16\n",
      "14           8\n",
      "16           2\n",
      "dtype: int64 \n",
      "\n",
      "Coluna:  f_09\n",
      "f_09\n",
      "2       223321\n",
      "1       202211\n",
      "3       173809\n",
      "4       106760\n",
      "0       100154\n",
      "5        55154\n",
      "6        24233\n",
      "7         9383\n",
      "8         3413\n",
      "9         1084\n",
      "10         342\n",
      "11         103\n",
      "12          24\n",
      "13           8\n",
      "14           1\n",
      "dtype: int64 \n",
      "\n",
      "Coluna:  f_10\n",
      "f_10\n",
      "2       214324\n",
      "1       213454\n",
      "3       158311\n",
      "0       136995\n",
      "4        95041\n",
      "5        47814\n",
      "6        21210\n",
      "7         8453\n",
      "8         2995\n",
      "9          966\n",
      "10         314\n",
      "11         103\n",
      "12          15\n",
      "13           4\n",
      "14           1\n",
      "dtype: int64 \n",
      "\n",
      "Coluna:  f_11\n",
      "f_11\n",
      "1       246048\n",
      "2       206459\n",
      "0       194874\n",
      "3       130757\n",
      "4        69316\n",
      "5        31969\n",
      "6        13041\n",
      "7         4967\n",
      "8         1753\n",
      "9          570\n",
      "10         187\n",
      "11          42\n",
      "12          15\n",
      "13           2\n",
      "dtype: int64 \n",
      "\n",
      "Coluna:  f_12\n",
      "f_12\n",
      "2       204542\n",
      "3       190452\n",
      "1       152334\n",
      "4       139164\n",
      "5        81701\n",
      "0        62432\n",
      "6        40997\n",
      "7        17856\n",
      "8         6973\n",
      "9         2462\n",
      "10         791\n",
      "11         214\n",
      "12          55\n",
      "13          19\n",
      "14           7\n",
      "16           1\n",
      "dtype: int64 \n",
      "\n",
      "Coluna:  f_13\n",
      "f_13\n",
      "2       233926\n",
      "1       215260\n",
      "3       174680\n",
      "0       102521\n",
      "4        99712\n",
      "5        46471\n",
      "6        18316\n",
      "7         6378\n",
      "8         1934\n",
      "9          626\n",
      "10         145\n",
      "11          25\n",
      "12           6\n",
      "dtype: int64 \n",
      "\n",
      "Coluna:  f_14\n",
      "f_14\n",
      "1       275545\n",
      "0       233674\n",
      "2       203142\n",
      "3       110887\n",
      "4        48401\n",
      "5        18991\n",
      "6         6504\n",
      "7         2032\n",
      "8          586\n",
      "9          173\n",
      "10          45\n",
      "11          17\n",
      "12           2\n",
      "14           1\n",
      "dtype: int64 \n",
      "\n",
      "Coluna:  f_15\n",
      "f_15\n",
      "1       228888\n",
      "2       223116\n",
      "3       158594\n",
      "0       132017\n",
      "4        88706\n",
      "5        41396\n",
      "6        17511\n",
      "7         6466\n",
      "8         2229\n",
      "9          754\n",
      "10         225\n",
      "11          67\n",
      "12          24\n",
      "13           6\n",
      "14           1\n",
      "dtype: int64 \n",
      "\n",
      "Coluna:  f_16\n",
      "f_16\n",
      "1       225526\n",
      "2       224001\n",
      "3       158796\n",
      "0       134084\n",
      "4        89882\n",
      "5        41526\n",
      "6        17165\n",
      "7         6232\n",
      "8         2016\n",
      "9          565\n",
      "10         153\n",
      "11          43\n",
      "12           8\n",
      "13           1\n",
      "14           1\n",
      "15           1\n",
      "dtype: int64 \n",
      "\n",
      "Coluna:  f_17\n",
      "f_17\n",
      "1       250162\n",
      "2       222588\n",
      "0       165267\n",
      "3       141767\n",
      "4        72740\n",
      "5        30968\n",
      "6        11269\n",
      "7         3815\n",
      "8         1034\n",
      "9          304\n",
      "10          55\n",
      "11          24\n",
      "12           6\n",
      "14           1\n",
      "dtype: int64 \n",
      "\n",
      "Coluna:  f_18\n",
      "f_18\n",
      "1       229391\n",
      "2       221254\n",
      "3       155042\n",
      "0       140442\n",
      "4        86773\n",
      "5        41094\n",
      "6        16993\n",
      "7         6190\n",
      "8         1985\n",
      "9          583\n",
      "10         186\n",
      "11          54\n",
      "12           7\n",
      "13           6\n",
      "dtype: int64 \n",
      "\n",
      "Coluna:  f_27\n",
      "f_27      \n",
      "BBBBBBCJBC    12\n",
      "BCBBBBCLBC    12\n",
      "BBBBBABLCB    10\n",
      "ACBABAAJDC    10\n",
      "BBBBBBDPCB    10\n",
      "              ..\n",
      "ADBBBAFEBE     1\n",
      "ADBBBAFEDD     1\n",
      "ADBBBAFEEB     1\n",
      "ADBBBAFEED     1\n",
      "BMBDEADPAC     1\n",
      "Length: 741354, dtype: int64 \n",
      "\n",
      "Coluna:  f_29\n",
      "f_29\n",
      "0       588905\n",
      "1       311095\n",
      "dtype: int64 \n",
      "\n",
      "Coluna:  f_30\n",
      "f_30\n",
      "2       303032\n",
      "0       300643\n",
      "1       296325\n",
      "dtype: int64 \n",
      "\n"
     ]
    }
   ],
   "source": [
    "for i in feature_cat:\n",
    "    print(\"Coluna: \",i)\n",
    "    print(df2_train[[i]].value_counts(), \"\\n\")"
   ]
  },
  {
   "cell_type": "markdown",
   "metadata": {
    "id": "RD88DzTaFlfO"
   },
   "source": [
    "<div class=\"alert alert-info\" role=\"alert\"> \n",
    "    \n",
    "**`NOTA:`** <br>\n",
    "    \n",
    "A variável **f_27** precisa ser transformada, pois temos 741354 elementos únicos, isto é, criar novas variáveis apartir dessa variável, sendo assim, vamos excluí-la das análises neste primeiro momento e na parte de feature engineering vamos tratá-la.     <br>    \n",
    "Agora temos uma noção de como estão distribuídas as categorias, temos colunas apresentam uma pequena concentração em uma única categoria, vamos fazer uma análise gráfica para tirar mais algumas informações.\n",
    "    \n",
    "</div>"
   ]
  },
  {
   "cell_type": "code",
   "execution_count": 57,
   "metadata": {
    "ExecuteTime": {
     "end_time": "2022-05-03T22:06:25.919154Z",
     "start_time": "2022-05-03T22:06:25.911158Z"
    },
    "code_folding": [
     0
    ],
    "colab": {
     "base_uri": "https://localhost:8080/"
    },
    "executionInfo": {
     "elapsed": 291,
     "status": "ok",
     "timestamp": 1651517456751,
     "user": {
      "displayName": "Rogério Delfim",
      "userId": "04235763959036945343"
     },
     "user_tz": 180
    },
    "id": "b7LR3hPWFlfP",
    "outputId": "279478de-177e-475e-bfa1-c0138e443458"
   },
   "outputs": [
    {
     "name": "stdout",
     "output_type": "stream",
     "text": [
      "['f_07', 'f_08', 'f_09', 'f_10', 'f_11', 'f_12', 'f_13', 'f_14', 'f_15', 'f_16', 'f_17', 'f_18', 'f_29', 'f_30']\n"
     ]
    }
   ],
   "source": [
    "feature_cat.remove('f_27')\n",
    "print(feature_cat)"
   ]
  },
  {
   "cell_type": "code",
   "execution_count": 58,
   "metadata": {
    "ExecuteTime": {
     "end_time": "2022-05-03T22:06:42.772583Z",
     "start_time": "2022-05-03T22:06:38.246624Z"
    },
    "colab": {
     "base_uri": "https://localhost:8080/",
     "height": 1000
    },
    "executionInfo": {
     "elapsed": 5125,
     "status": "ok",
     "timestamp": 1651517464410,
     "user": {
      "displayName": "Rogério Delfim",
      "userId": "04235763959036945343"
     },
     "user_tz": 180
    },
    "id": "oof3QwnkFlfP",
    "outputId": "ed816247-68f7-42ee-c80b-0c6bdb91aa36"
   },
   "outputs": [
    {
     "data": {
      "image/png": "[encoded data removed]",
      "text/plain": [
       "<Figure size 1440x2880 with 14 Axes>"
      ]
     },
     "metadata": {
      "needs_background": "light"
     },
     "output_type": "display_data"
    }
   ],
   "source": [
    "plt.figure(figsize=(20,40))\n",
    "\n",
    "for i, col in enumerate(feature_cat):\n",
    "    plt.subplot(int(len(feature_cat)/2) + 1,2,i+1)\n",
    "    ax = sns.countplot(data=df1_train, y=col, hue=target)    "
   ]
  },
  {
   "cell_type": "markdown",
   "metadata": {
    "id": "xdWC5Vd6HhsW"
   },
   "source": [
    "<div class=\"alert alert-info\" role=\"alert\"> \n",
    " \n",
    "**`NOTA:`** <br>\n",
    " \n",
    "Observando os gráficos acima, as variáveis com numeração de  17 à 18 tem pouca quantidade nas ultimas classe, sendo assim, podemos fazer um junção desses classes em outras classas, assim podemos reduzir o ruído na modelagem, outra abordagem que podemos implementar é a transformação **Target Encoding**. \n",
    " \n",
    "    \n",
    "</div>\n"
   ]
  },
  {
   "cell_type": "code",
   "execution_count": 198,
   "metadata": {
    "ExecuteTime": {
     "end_time": "2022-05-04T19:10:13.300468Z",
     "start_time": "2022-05-04T19:10:13.215470Z"
    }
   },
   "outputs": [
    {
     "name": "stdout",
     "output_type": "stream",
     "text": [
      "<class 'pandas.core.frame.DataFrame'>\n",
      "RangeIndex: 900000 entries, 0 to 899999\n",
      "Data columns (total 15 columns):\n",
      " #   Column  Non-Null Count   Dtype \n",
      "---  ------  --------------   ----- \n",
      " 0   f_07    900000 non-null  int8  \n",
      " 1   f_08    900000 non-null  int8  \n",
      " 2   f_09    900000 non-null  int8  \n",
      " 3   f_10    900000 non-null  int8  \n",
      " 4   f_11    900000 non-null  int8  \n",
      " 5   f_12    900000 non-null  int8  \n",
      " 6   f_13    900000 non-null  int8  \n",
      " 7   f_14    900000 non-null  int8  \n",
      " 8   f_15    900000 non-null  int8  \n",
      " 9   f_16    900000 non-null  int8  \n",
      " 10  f_17    900000 non-null  int8  \n",
      " 11  f_18    900000 non-null  int8  \n",
      " 12  f_29    900000 non-null  int8  \n",
      " 13  f_30    900000 non-null  int8  \n",
      " 14  target  900000 non-null  object\n",
      "dtypes: int8(14), object(1)\n",
      "memory usage: 18.9+ MB\n"
     ]
    }
   ],
   "source": [
    "df.info()"
   ]
  },
  {
   "cell_type": "code",
   "execution_count": 196,
   "metadata": {
    "ExecuteTime": {
     "end_time": "2022-05-04T19:09:43.367962Z",
     "start_time": "2022-05-04T19:09:42.965963Z"
    }
   },
   "outputs": [
    {
     "data": {
      "image/png": "[encoded data removed]",
      "text/plain": [
       "<Figure size 1440x1440 with 2 Axes>"
      ]
     },
     "metadata": {
      "needs_background": "light"
     },
     "output_type": "display_data"
    }
   ],
   "source": [
    "plt.figure(figsize=(20,20))\n",
    "\n",
    "df         = df1_train[feature_cat].copy()\n",
    "df[target] = df1_train[target].astype(object)\n",
    "\n",
    "corr = generate_category_table(df)\n",
    "mask = np.triu(np.ones_like(corr, dtype=bool))\n",
    "sns.heatmap(corr, annot=True, mask= mask);\n",
    "\n",
    "#del df\n"
   ]
  },
  {
   "cell_type": "markdown",
   "metadata": {
    "ExecuteTime": {
     "end_time": "2022-05-02T02:41:58.832609Z",
     "start_time": "2022-05-02T02:41:58.823610Z"
    },
    "id": "QsdWcChoFlfP"
   },
   "source": [
    "## 2.8. Dados Númericos"
   ]
  },
  {
   "cell_type": "markdown",
   "metadata": {
    "ExecuteTime": {
     "end_time": "2022-05-02T02:42:21.060547Z",
     "start_time": "2022-05-02T02:42:21.054549Z"
    },
    "id": "Hd0_u8dRFlfP"
   },
   "source": [
    "### 2.8.1. Correlação\n",
    "Vamos examinar a correlação entre as variáveis."
   ]
  },
  {
   "cell_type": "code",
   "execution_count": 59,
   "metadata": {
    "ExecuteTime": {
     "end_time": "2022-05-03T22:26:39.775726Z",
     "start_time": "2022-05-03T22:26:38.446760Z"
    },
    "colab": {
     "base_uri": "https://localhost:8080/",
     "height": 904
    },
    "executionInfo": {
     "elapsed": 1954,
     "status": "ok",
     "timestamp": 1651517950347,
     "user": {
      "displayName": "Rogério Delfim",
      "userId": "04235763959036945343"
     },
     "user_tz": 180
    },
    "id": "8Uy6J51YFlfP",
    "outputId": "071b0242-ae2f-40a9-9fbf-814459cd928a"
   },
   "outputs": [
    {
     "data": {
      "image/png": "[encoded data removed]",
      "text/plain": [
       "<Figure size 1440x1080 with 2 Axes>"
      ]
     },
     "metadata": {
      "needs_background": "light"
     },
     "output_type": "display_data"
    }
   ],
   "source": [
    "plt.figure(figsize=(20,15))\n",
    "graf_feature_corr(df=df2_train.copy().drop('id', axis=1), annot_=False, threshold=.5, print_var=False)"
   ]
  },
  {
   "cell_type": "markdown",
   "metadata": {
    "id": "nxFtCqAqFlfQ"
   },
   "source": [
    "<div class=\"alert alert-info\" role=\"alert\"> \n",
    " \n",
    "**`NOTA:`** <br>\n",
    "    \n",
    "Como podemos observar, a correlação fica entre -0.2 e 0.3%, sendo assim, não temos variáveis autocorrelacionadas, mais a frente com a criação de novas variáveis podemos ter variáveis autocorrelacionadas e voltaremos a fazer essa análise de autocorrelação.\n",
    "\n",
    "    \n",
    "</div>"
   ]
  },
  {
   "cell_type": "markdown",
   "metadata": {
    "ExecuteTime": {
     "end_time": "2022-05-02T02:51:23.699986Z",
     "start_time": "2022-05-02T02:51:23.685019Z"
    },
    "id": "MSiARrovFlfQ"
   },
   "source": [
    "### 2.8.2. Histograma"
   ]
  },
  {
   "cell_type": "code",
   "execution_count": 60,
   "metadata": {
    "ExecuteTime": {
     "end_time": "2022-05-03T22:29:12.703854Z",
     "start_time": "2022-05-03T22:27:32.568483Z"
    },
    "colab": {
     "base_uri": "https://localhost:8080/",
     "height": 826
    },
    "executionInfo": {
     "elapsed": 78388,
     "status": "ok",
     "timestamp": 1651518090777,
     "user": {
      "displayName": "Rogério Delfim",
      "userId": "04235763959036945343"
     },
     "user_tz": 180
    },
    "id": "Et365dgPFlfQ",
    "outputId": "112ffa89-95fe-4d7a-f378-38486734b049"
   },
   "outputs": [
    {
     "data": {
      "image/png": "[encoded data removed]",
      "text/plain": [
       "<Figure size 1440x1080 with 16 Axes>"
      ]
     },
     "metadata": {
      "needs_background": "light"
     },
     "output_type": "display_data"
    }
   ],
   "source": [
    "plt.subplots(figsize=(20, 15))\n",
    "\n",
    "for i, col in enumerate(feature_float):    \n",
    "    plt.subplot(int(len(feature_float)/3 +1),3,i+1)\n",
    "    sns.kdeplot(data=df2_train, x=col, hue=target, legend=True, shade=True, multiple='stack');  "
   ]
  },
  {
   "cell_type": "markdown",
   "metadata": {
    "id": "pXS0c3pkFlfQ"
   },
   "source": [
    "<div class=\"alert alert-info\" role=\"alert\"> \n",
    " \n",
    "**`NOTA:`** <br>\n",
    "- A distribuição das variáveis parecem ser bem comportadas, igual a uma distribuição normal.   \n",
    "     \n",
    "<br> \n",
    "Vamos dar uma olhda nos outliers dessas variáveis. \n",
    "    \n",
    "</div>"
   ]
  },
  {
   "cell_type": "markdown",
   "metadata": {},
   "source": [
    "---"
   ]
  },
  {
   "cell_type": "markdown",
   "metadata": {
    "id": "HCNjqWhcFlfQ"
   },
   "source": [
    "### 2.8.3. Outliers"
   ]
  },
  {
   "cell_type": "code",
   "execution_count": 61,
   "metadata": {
    "ExecuteTime": {
     "end_time": "2022-05-03T22:34:30.212441Z",
     "start_time": "2022-05-03T22:34:26.280404Z"
    },
    "colab": {
     "base_uri": "https://localhost:8080/",
     "height": 1000
    },
    "executionInfo": {
     "elapsed": 5609,
     "status": "ok",
     "timestamp": 1651518288040,
     "user": {
      "displayName": "Rogério Delfim",
      "userId": "04235763959036945343"
     },
     "user_tz": 180
    },
    "id": "_Yu0BtkpFlfR",
    "outputId": "e0383791-53dd-4007-bc20-7c3a8414dbf1"
   },
   "outputs": [
    {
     "data": {
      "image/png": "[encoded data removed]",
      "text/plain": [
       "<Figure size 1440x1440 with 16 Axes>"
      ]
     },
     "metadata": {
      "needs_background": "light"
     },
     "output_type": "display_data"
    }
   ],
   "source": [
    "f, ax = plt.subplots(figsize=(20, 20))\n",
    "\n",
    "for i, col in enumerate(feature_float): \n",
    "    plt.subplot(int(len(feature_float)/3 +1),3,i+1)\n",
    "    sns.boxplot(data=df2_train, x=target, y=col)    "
   ]
  },
  {
   "cell_type": "markdown",
   "metadata": {
    "id": "rZe2nX__FlfR"
   },
   "source": [
    "<div class=\"alert alert-info\" role=\"alert\"> \n",
    " \n",
    "**`NOTA:`** <br>\n",
    "- Todas variáveis tem outliers, o bom é que todas as mediana são iguais a zero, provavelmente os modelos de arvosres podem ter melhor desempenho, podemos tentar alguma técnica que identifique os outliers para as variáveis com maior importancia, por exemplo criando uma nova variável que identifique as amostras com outliers.  \n",
    "    \n",
    "</div>\n"
   ]
  },
  {
   "cell_type": "markdown",
   "metadata": {
    "id": "wXr6ZlxXFlfR"
   },
   "source": [
    "\n",
    "# <div class=\"alert alert-info alert-dismissible\">3. Modelagem (baseline)  </div> \n"
   ]
  },
  {
   "cell_type": "markdown",
   "metadata": {},
   "source": [
    "Vamos excluir a variável **f_27** neste primeiro momento, no próximo notebook vamos tratar essa variável.  "
   ]
  },
  {
   "cell_type": "code",
   "execution_count": 63,
   "metadata": {
    "ExecuteTime": {
     "end_time": "2022-05-03T22:39:11.899553Z",
     "start_time": "2022-05-03T22:39:09.782558Z"
    },
    "executionInfo": {
     "elapsed": 2039,
     "status": "ok",
     "timestamp": 1651518654558,
     "user": {
      "displayName": "Rogério Delfim",
      "userId": "04235763959036945343"
     },
     "user_tz": 180
    },
    "id": "k7JnKhSbFlfR"
   },
   "outputs": [],
   "source": [
    "df3_train = df2_train.copy()\n",
    "df3_test  = df2_test.copy()\n",
    "\n",
    "df3_train.drop(['f_27'], axis=1 , inplace=True)\n",
    "df3_test.drop(['f_27'], axis=1 , inplace=True)\n",
    "\n",
    "for col in df3_train.select_dtypes(object).columns: \n",
    "    df3_train[col] = df3_train[col].astype(np.int32)\n",
    "    df3_test[col] = df3_test[col].astype(np.int32)    "
   ]
  },
  {
   "cell_type": "markdown",
   "metadata": {
    "id": "G_fX6J4-FlfR"
   },
   "source": [
    "## 3.1. Split Train/Test"
   ]
  },
  {
   "cell_type": "code",
   "execution_count": 64,
   "metadata": {
    "ExecuteTime": {
     "end_time": "2022-05-03T22:39:18.796869Z",
     "start_time": "2022-05-03T22:39:18.167837Z"
    },
    "colab": {
     "base_uri": "https://localhost:8080/"
    },
    "executionInfo": {
     "elapsed": 624,
     "status": "ok",
     "timestamp": 1651524702383,
     "user": {
      "displayName": "Rogério Delfim",
      "userId": "04235763959036945343"
     },
     "user_tz": 180
    },
    "id": "ZjO3rZd_FlfR",
    "outputId": "ed607f76-0c74-4933-852f-bc899c5ac6f0"
   },
   "outputs": [
    {
     "data": {
      "text/plain": [
       "((630000, 30), (630000,), (270000, 30), (270000,), (700000, 30))"
      ]
     },
     "execution_count": 64,
     "metadata": {},
     "output_type": "execute_result"
    }
   ],
   "source": [
    "X      = df3_train.drop([target, 'id'], axis=1)\n",
    "y      = df3_train[target]\n",
    "X_test = df3_test.drop(['id'], axis=1)\n",
    "\n",
    "X_train, X_valid, y_train, y_valid = train_test_split(X, y, \n",
    "                                                      test_size    = 0.3,\n",
    "                                                      shuffle      = True, \n",
    "                                                      stratify     = y, \n",
    "                                                      random_state = 12359)\n",
    "\n",
    "X_train.shape, y_train.shape, X_valid.shape, y_valid.shape , X_test.shape"
   ]
  },
  {
   "cell_type": "code",
   "execution_count": 65,
   "metadata": {
    "ExecuteTime": {
     "end_time": "2022-05-03T22:39:56.531728Z",
     "start_time": "2022-05-03T22:39:56.382774Z"
    },
    "colab": {
     "base_uri": "https://localhost:8080/"
    },
    "executionInfo": {
     "elapsed": 250,
     "status": "ok",
     "timestamp": 1651525513032,
     "user": {
      "displayName": "Rogério Delfim",
      "userId": "04235763959036945343"
     },
     "user_tz": 180
    },
    "id": "hQYqJ29Diwuy",
    "outputId": "ab1058fc-0fca-455c-bfda-f4fc31cf36b1"
   },
   "outputs": [
    {
     "data": {
      "text/plain": [
       "((189000, 30), (189000,), (81000, 30), (81000,))"
      ]
     },
     "execution_count": 65,
     "metadata": {},
     "output_type": "execute_result"
    }
   ],
   "source": [
    "X_valid, X_test_final, y_valid, y_test_final = train_test_split(X_valid, \n",
    "                                                                y_valid, \n",
    "                                                                test_size    = 0.3,\n",
    "                                                                shuffle      = True, \n",
    "                                                                stratify     = y_valid, \n",
    "                                                                random_state = 12359)\n",
    "\n",
    "X_valid.shape, y_valid.shape, X_test_final.shape, y_test_final.shape"
   ]
  },
  {
   "cell_type": "markdown",
   "metadata": {
    "id": "h4EpRC8aFlfS"
   },
   "source": [
    "## 3.2. Parametros do modelo"
   ]
  },
  {
   "cell_type": "code",
   "execution_count": 66,
   "metadata": {
    "ExecuteTime": {
     "end_time": "2022-05-03T22:40:01.546385Z",
     "start_time": "2022-05-03T22:40:01.503414Z"
    },
    "colab": {
     "base_uri": "https://localhost:8080/"
    },
    "executionInfo": {
     "elapsed": 242,
     "status": "ok",
     "timestamp": 1651524906611,
     "user": {
      "displayName": "Rogério Delfim",
      "userId": "04235763959036945343"
     },
     "user_tz": 180
    },
    "id": "s0uwKHcEFlfS",
    "outputId": "b73dcd28-5f50-498a-a0bf-ebb8fd4b430d"
   },
   "outputs": [
    {
     "data": {
      "text/plain": [
       "{'objective': 'binary:logistic',\n",
       " 'eval_metric': 'auc',\n",
       " 'n_estimators': 1000,\n",
       " 'random_state': 12359,\n",
       " 'tree_method': 'gpu_hist',\n",
       " 'predictor': 'gpu_predictor'}"
      ]
     },
     "execution_count": 66,
     "metadata": {},
     "output_type": "execute_result"
    }
   ],
   "source": [
    "seed   = 12359\n",
    "params = {'objective'        : 'binary:logistic',   \n",
    "          'eval_metric'      : 'auc',  \n",
    "          'n_estimators'     : 1000,          \n",
    "          'random_state'     : seed}\n",
    "\n",
    "if torch.cuda.is_available():           \n",
    "    params.update({'tree_method': 'gpu_hist','predictor': 'gpu_predictor'})\n",
    "    \n",
    "params"
   ]
  },
  {
   "cell_type": "markdown",
   "metadata": {
    "id": "etVyZFGrFlfS"
   },
   "source": [
    "## 3.4. Seleção do Scaler"
   ]
  },
  {
   "cell_type": "code",
   "execution_count": 67,
   "metadata": {
    "ExecuteTime": {
     "end_time": "2022-05-03T22:46:00.304218Z",
     "start_time": "2022-05-03T22:40:15.583497Z"
    },
    "colab": {
     "base_uri": "https://localhost:8080/"
    },
    "executionInfo": {
     "elapsed": 202788,
     "status": "ok",
     "timestamp": 1651530264522,
     "user": {
      "displayName": "Rogério Delfim",
      "userId": "04235763959036945343"
     },
     "user_tz": 180
    },
    "id": "uB3G7ZjyFlfS",
    "outputId": "ab467cf2-5160-4ace-f7f4-7a1e6b0b4f0f"
   },
   "outputs": [
    {
     "name": "stdout",
     "output_type": "stream",
     "text": [
      "AUC Trn: 0.97547 - AUC Val: 0.93103 - F1: 0.86512 => StandardScaler()\n",
      "AUC Trn: 0.97547 - AUC Val: 0.93103 - F1: 0.86512 => RobustScaler()\n",
      "AUC Trn: 0.97547 - AUC Val: 0.93103 - F1: 0.86512 => MinMaxScaler()\n",
      "AUC Trn: 0.97547 - AUC Val: 0.93103 - F1: 0.86512 => MaxAbsScaler()\n",
      "AUC Trn: 0.95869 - AUC Val: 0.89100 - F1: 0.81301 => Normalizer()\n",
      "AUC Trn: 0.97563 - AUC Val: 0.93111 - F1: 0.86495 => QuantileTransformer(output_distribution='normal', random_state=0)\n",
      "\n",
      "The Best\n",
      "Scaler: QuantileTransformer(output_distribution='normal', random_state=0)\n",
      "AUC   : 0.93111\n",
      "\n",
      "CPU times: total: 6min 8s\n",
      "Wall time: 5min 44s\n"
     ]
    }
   ],
   "source": [
    "%%time \n",
    "\n",
    "scalers = [StandardScaler(), \n",
    "           RobustScaler(), \n",
    "           MinMaxScaler(), \n",
    "           MaxAbsScaler(), \n",
    "           Normalizer(norm='l2'),\n",
    "           QuantileTransformer(output_distribution='normal', random_state=0)\n",
    "           ]\n",
    "\n",
    "model_baseline = xgb.XGBClassifier(**params)\n",
    "scaler_best    = None\n",
    "model_best     = None\n",
    "cols           = X_test.columns\n",
    "f1_best        = 0 \n",
    "auc_best       = 0 \n",
    "\n",
    "for scaler in scalers: \n",
    "    \n",
    "    X_train_s = X_train.copy() \n",
    "    X_valid_s = X_valid.copy()\n",
    "    \n",
    "    if scaler!=None:                      \n",
    "        X_train_s = pd.DataFrame(scaler.fit_transform(X_train_s), columns=cols)\n",
    "        X_valid_s = pd.DataFrame(scaler.transform(X_valid_s), columns=cols)\n",
    "        \n",
    "    model_baseline.fit(X_train_s, y_train, verbose=False)\n",
    "\n",
    "    y_pred_prob_tr = model_baseline.predict_proba(X_train_s)[:,1]\n",
    "    y_pred_prob_vl = model_baseline.predict_proba(X_valid_s)[:,1]\n",
    "    \n",
    "    y_pred_tr = (y_pred_prob_tr>.5).astype(int) \n",
    "    y_pred_vl = (y_pred_prob_vl>.5).astype(int)\n",
    "\n",
    "    f1     = metrics.f1_score(y_valid, y_pred_vl)\n",
    "    auc_vl = metrics.roc_auc_score(y_valid, y_pred_prob_vl)\n",
    "    auc_tr = metrics.roc_auc_score(y_train, y_pred_prob_tr)\n",
    "        \n",
    "    print('AUC Trn: {:2.5f} - AUC Val: {:2.5f} - F1: {:2.5f} => {}'.format(auc_tr, auc_vl, f1, scaler))\n",
    "    \n",
    "    if auc_vl>auc_best:\n",
    "        f1_best     = f1    \n",
    "        auc_best    = auc_vl\n",
    "        scaler_best = scaler\n",
    "        model_best  = model_baseline\n",
    "        \n",
    "    del scaler, f1, auc_vl\n",
    "    \n",
    "print()\n",
    "print('The Best')  \n",
    "print('Scaler: {}'.format(scaler_best))    \n",
    "print('AUC   : {:2.5f}'.format(auc_best))\n",
    "print()"
   ]
  },
  {
   "cell_type": "markdown",
   "metadata": {
    "id": "hNORNbzRFlfS"
   },
   "source": [
    "<div class=\"alert alert-info\" role=\"alert\"> \n",
    " \n",
    "**`NOTA:`** <br>\n",
    "    \n",
    "Podemos observar que a maioria dos scalers não tem efeito neste conjunto de dados utilizando o XGB, no nosso caso o melhor scaler foi **QuantileTransformer**. \n",
    "        \n",
    "</div>"
   ]
  },
  {
   "cell_type": "markdown",
   "metadata": {
    "ExecuteTime": {
     "end_time": "2022-05-02T03:24:24.997190Z",
     "start_time": "2022-05-02T03:24:24.984193Z"
    },
    "id": "gAUugOEWFlfS"
   },
   "source": [
    "### 3.3.2. Featuere Importance"
   ]
  },
  {
   "cell_type": "code",
   "execution_count": 68,
   "metadata": {
    "ExecuteTime": {
     "end_time": "2022-05-03T22:46:22.041121Z",
     "start_time": "2022-05-03T22:46:20.394126Z"
    },
    "colab": {
     "base_uri": "https://localhost:8080/",
     "height": 863
    },
    "executionInfo": {
     "elapsed": 1068,
     "status": "ok",
     "timestamp": 1651529643225,
     "user": {
      "displayName": "Rogério Delfim",
      "userId": "04235763959036945343"
     },
     "user_tz": 180
    },
    "id": "38of2eD6FlfT",
    "outputId": "806dfb47-6838-4dd3-8a42-2bd86e6db50b"
   },
   "outputs": [
    {
     "data": {
      "image/png": "[encoded data removed]",
      "text/plain": [
       "<Figure size 1080x1080 with 1 Axes>"
      ]
     },
     "metadata": {
      "needs_background": "light"
     },
     "output_type": "display_data"
    }
   ],
   "source": [
    "features       = pd.Series(model_baseline.feature_importances_)\n",
    "features.index = cols\n",
    "\n",
    "features.sort_values(ascending=True, inplace=True)\n",
    "features.plot(kind ='barh', figsize=(15,15));"
   ]
  },
  {
   "cell_type": "markdown",
   "metadata": {
    "id": "DCOVJbTbakIY"
   },
   "source": [
    "<div class=\"alert alert-info\" role=\"alert\"> \n",
    " \n",
    "**`NOTA:`** <br>\n",
    "Olhando as variáveis mais importante, obeservamos que a maioria das variáveis que identificamos como categoricas aparecem entre as mais importantes.  \n",
    "    \n",
    "</div>"
   ]
  },
  {
   "cell_type": "markdown",
   "metadata": {
    "ExecuteTime": {
     "end_time": "2022-05-02T03:27:07.093774Z",
     "start_time": "2022-05-02T03:27:07.087773Z"
    },
    "id": "PrF3wqlJFlfT"
   },
   "source": [
    "### 3.3.1. Gerar submission "
   ]
  },
  {
   "cell_type": "code",
   "execution_count": 69,
   "metadata": {
    "ExecuteTime": {
     "end_time": "2022-05-03T22:47:57.241938Z",
     "start_time": "2022-05-03T22:47:48.992334Z"
    },
    "colab": {
     "base_uri": "https://localhost:8080/"
    },
    "executionInfo": {
     "elapsed": 6389,
     "status": "ok",
     "timestamp": 1651529728689,
     "user": {
      "displayName": "Rogério Delfim",
      "userId": "04235763959036945343"
     },
     "user_tz": 180
    },
    "id": "ezmQ0b9HFlfT",
    "outputId": "68978899-1e38-445d-efff-3c56c0a66ee5"
   },
   "outputs": [
    {
     "name": "stdout",
     "output_type": "stream",
     "text": [
      "AUC dados não visto : 0.93149\n"
     ]
    }
   ],
   "source": [
    "X_test_final_sc = pd.DataFrame(scaler_best.transform(X_test_final), columns=cols)\n",
    "y_pred_prob     = model_best.predict_proba(X_test_final_sc)[:,1]\n",
    "auc             = metrics.roc_auc_score(y_test_final, y_pred_prob)\n",
    "\n",
    "print('AUC dados não visto : {:2.5f}'.format(auc))\n",
    "\n",
    "X_test_sc = pd.DataFrame(scaler_best.transform(X_test), columns=cols)\n",
    "y_pred_ts = model_best.predict_proba(X_test_sc)[:,1]\n",
    "\n",
    "# Gera arquivo de submissão\n",
    "df_submission[target] = y_pred_ts\n",
    "df_submission.to_csv(path + 'Data/submission/xgb_base_line_score_01_{:2.5f}.csv'.format(auc), index=False)"
   ]
  },
  {
   "cell_type": "markdown",
   "metadata": {
    "id": "DoT5P1-rFlfT"
   },
   "source": [
    "## 3.4. Validação Cruzada"
   ]
  },
  {
   "cell_type": "code",
   "execution_count": 70,
   "metadata": {
    "ExecuteTime": {
     "end_time": "2022-05-03T22:48:25.275399Z",
     "start_time": "2022-05-03T22:48:25.246395Z"
    },
    "code_folding": [
     0
    ],
    "executionInfo": {
     "elapsed": 246,
     "status": "ok",
     "timestamp": 1651533505576,
     "user": {
      "displayName": "Rogério Delfim",
      "userId": "04235763959036945343"
     },
     "user_tz": 180
    },
    "id": "ghUXdAjkFlfT",
    "run_control": {
     "marked": false
    }
   },
   "outputs": [],
   "source": [
    "def cross_val_model(model_, model_name_, X_, y_, X_test_, target_, scalers_, lb_, fold_=5, path_='',  \n",
    "                    seed_=12359, feature_scaler_=None, print_report_=False, save_submission_=False):\n",
    "    \n",
    "    n_estimators = model_.get_params()['n_estimators']\n",
    "             \n",
    "    valid_preds     = {}\n",
    "    taco            = 76 \n",
    "    acc_best        = 0\n",
    "   # col_prob        = y_.sort_values().unique()\n",
    "    df_proba        = pd.DataFrame()\n",
    "    feature_imp     = pd.DataFrame()\n",
    "    test_preds      = []\n",
    "    test_pred_proba = np.zeros((1, 1))\n",
    "    preds           = []\n",
    "    model           = []\n",
    "    \n",
    "    for i, scaler_ in enumerate(scalers_): \n",
    "\n",
    "        time_start = datetime.now()\n",
    "        score      = []        \n",
    "                \n",
    "        if scaler_!=None:            \n",
    "            string_scaler = str(scaler_)        \n",
    "            string_scaler = string_scaler[:string_scaler.index('(')]\n",
    "        else:\n",
    "            string_scaler = None \n",
    "            \n",
    "        y_pred_test = np.zeros(len(X_test_))\n",
    "\n",
    "        folds = KFold(n_splits=fold_, shuffle=True, random_state=seed_)\n",
    "        folds = StratifiedKFold(n_splits=fold_, shuffle=True, random_state=seed_)\n",
    "        \n",
    "        print('='*taco)\n",
    "        print('Scaler: {} - n_estimators: {}'.format(string_scaler, n_estimators))\n",
    "        print('='*taco)\n",
    "        \n",
    "        pred_test=0 \n",
    "        \n",
    "        for fold, (trn_idx, val_idx) in enumerate(folds.split(X_, y_, groups=y_)): \n",
    "\n",
    "            time_fold_start = datetime.now()\n",
    "\n",
    "            # ---------------------------------------------------- \n",
    "            # Separar dados para treino \n",
    "            # ----------------------------------------------------     \n",
    "            X_trn, X_val = X_.iloc[trn_idx], X_.iloc[val_idx]\n",
    "            y_trn, y_val = y_.iloc[trn_idx], y_.iloc[val_idx] \n",
    "            \n",
    "            # ---------------------------------------------------- \n",
    "            # Processamento \n",
    "            # ----------------------------------------------------     \n",
    "            if scaler_!=None: \n",
    "                X_tst = X_test_.copy()\n",
    "                if feature_scaler_!=None:                     \n",
    "                    X_trn[feature_scaler_] = scaler_.fit_transform(X_trn[feature_scaler_])\n",
    "                    X_val[feature_scaler_] = scaler_.transform(X_val[feature_scaler_])                      \n",
    "                    X_tst[feature_scaler_] = scaler_.transform(X_tst[feature_scaler_])\n",
    "                else:            \n",
    "                    X_trn = scaler_.fit_transform(X_trn)\n",
    "                    X_val = scaler_.transform(X_val)\n",
    "                    X_tst = scaler_.transform(X_test_.copy())\n",
    "                \n",
    "            # ---------------------------------------------------- \n",
    "            # Treinar o modelo \n",
    "            # ----------------------------------------------------            \n",
    "            model_.fit(X_trn, y_trn,\n",
    "                       eval_set              = [(X_trn, y_trn), (X_val, y_val)],          \n",
    "                       early_stopping_rounds = int(n_estimators*.1),\n",
    "                       verbose               = False)\n",
    "            \n",
    "            # ---------------------------------------------------- \n",
    "            # Predição \n",
    "            # ----------------------------------------------------     \n",
    "            y_pred_val_prob = model_.predict_proba(X_val, ntree_limit=model_.best_ntree_limit)[:,1]    \n",
    "            y_pred_val      = (y_pred_val_prob>.5).astype(int)\n",
    "\n",
    "            preds.append(model_.predict(X_tst))    \n",
    "            \n",
    "            pred_test += model_.predict_proba(X_tst)[:, 1] / folds.n_splits\n",
    "                \n",
    "            df_prob_temp    = pd.DataFrame(y_pred_val_prob)\n",
    "            #y_pred_pbro_max = df_prob_temp.max(axis=1)\n",
    "\n",
    "            df_prob_temp['fold']    = fold+1\n",
    "            df_prob_temp['id']      = val_idx            \n",
    "            df_prob_temp['y_val']   = y_val.values\n",
    "            df_prob_temp['y_pred']  = y_pred_val            \n",
    "            df_prob_temp['y_proba'] = y_pred_val_prob\n",
    "            df_prob_temp['scaler']  = str(string_scaler)\n",
    "                        \n",
    "            # ---------------------------------------------------- \n",
    "            # Score \n",
    "            # ---------------------------------------------------- \n",
    "            acc   = metrics.accuracy_score(y_val, y_pred_val)\n",
    "            auc   = metrics.roc_auc_score(y_val, y_pred_val_prob)\n",
    "            f1    = metrics.f1_score(y_val, y_pred_val) \n",
    "            prec  = metrics.log_loss (y_val, y_pred_val)\n",
    "            \n",
    "            score.append(auc)     \n",
    "            \n",
    "            # ---------------------------------------------------- \n",
    "            # Feature Importance\n",
    "            # ----------------------------------------------------             \n",
    "            feat_imp = pd.DataFrame(index   = X_.columns,\n",
    "                                    data    = model_.feature_importances_,\n",
    "                                    columns = ['fold_{}'.format(fold+1)])\n",
    "\n",
    "            feat_imp['acc_'+str(fold+1)] = f1\n",
    "            feature_imp = pd.concat([feature_imp, feat_imp], axis=1)\n",
    "            \n",
    "            # ---------------------------------------------------- \n",
    "            # Print resultado  \n",
    "            # ---------------------------------------------------- \n",
    "            time_fold_end = diff(time_fold_start, datetime.now())\n",
    "            msg = '[Fold {}] AUC: {:2.5f} - F1-score: {:2.5f} - L. Loss: {:2.5f}  - {}'\n",
    "            print(msg.format(fold+1, auc, f1, prec, time_fold_end))\n",
    "            \n",
    "            # ---------------------------------------------------- \n",
    "            # Salvar o modelo \n",
    "            # ---------------------------------------------------- \n",
    "            dic_model = {'scaler' : scaler_, \n",
    "                         'fold'   : fold+1, \n",
    "                         'model'  : model_ }\n",
    "            \n",
    "            model.append(dic_model)\n",
    "\n",
    "        score_mean = np.mean(score) \n",
    "        score_std  = np.std(score)\n",
    "\n",
    "        if score_mean > acc_best:     \n",
    "            acc_best    = score_mean           \n",
    "            model_best  = model_    \n",
    "            scaler_best = scaler_\n",
    "\n",
    "        time_end = diff(time_start, datetime.now())   \n",
    "\n",
    "        print('-'*taco)\n",
    "        print('[Mean Fold] AUC: {:2.5f} std: {:2.5f} - {}'.format(score_mean, score_std, time_end))\n",
    "        print('='*taco)\n",
    "        print()\n",
    "               \n",
    "        if save_submission_:\n",
    "            name_file_sub  = model_name_ + '_' + str(i+1) + '_' + str(scaler_).lower()[:4] + '.csv'\n",
    "            name_file_sub  = path_ + 'Data/submission/' + name_file_sub.format(score_mean)        \n",
    "            df_sub         = df_submission.copy()\n",
    "            df_sub[target] = pred_test\n",
    "            df_sub.to_csv(name_file_sub, index=False)\n",
    "            \n",
    "        if print_report_:\n",
    "            y_pred = df_prob_temp[df_prob_temp['scaler']==str(string_scaler)]['y_pred']\n",
    "            y_vl   = df_prob_temp[df_prob_temp['scaler']==str(string_scaler)]['y_val']\n",
    "            print(metrics.classification_report(y_vl,y_pred))\n",
    "\n",
    "    print('-'*taco)\n",
    "    print('Scaler Best: {}'.format(scaler_best))\n",
    "    print('Score      : {:2.5f}'.format(acc_best))\n",
    "    print('-'*taco)\n",
    "    print()\n",
    "\n",
    "    return model, df_prob_temp.sort_values(by=['scaler','id']) , feature_imp "
   ]
  },
  {
   "cell_type": "code",
   "execution_count": 71,
   "metadata": {
    "ExecuteTime": {
     "end_time": "2022-05-03T23:22:35.212767Z",
     "start_time": "2022-05-03T22:49:44.408465Z"
    },
    "colab": {
     "base_uri": "https://localhost:8080/"
    },
    "executionInfo": {
     "elapsed": 38014,
     "status": "ok",
     "timestamp": 1651533451520,
     "user": {
      "displayName": "Rogério Delfim",
      "userId": "04235763959036945343"
     },
     "user_tz": 180
    },
    "id": "xtNuZQmAFlfU",
    "outputId": "13ca4265-d716-4f67-ffc6-bb3cca968573",
    "scrolled": false
   },
   "outputs": [
    {
     "name": "stdout",
     "output_type": "stream",
     "text": [
      "============================================================================\n",
      "Scaler: StandardScaler - n_estimators: 1000\n",
      "============================================================================\n",
      "[Fold 1] AUC: 0.93365 - F1-score: 0.86825 - L. Loss: 4.39587  - 0h 0m 45s\n",
      "[Fold 2] AUC: 0.93219 - F1-score: 0.86775 - L. Loss: 4.42255  - 0h 0m 47s\n",
      "[Fold 3] AUC: 0.93327 - F1-score: 0.86849 - L. Loss: 4.39971  - 0h 0m 53s\n",
      "[Fold 4] AUC: 0.93219 - F1-score: 0.86671 - L. Loss: 4.45363  - 0h 0m 46s\n",
      "[Fold 5] AUC: 0.93261 - F1-score: 0.86739 - L. Loss: 4.43675  - 0h 0m 38s\n",
      "----------------------------------------------------------------------------\n",
      "[Mean Fold] AUC: 0.93278 std: 0.00059 - 0h 3m 51s\n",
      "============================================================================\n",
      "\n",
      "              precision    recall  f1-score   support\n",
      "\n",
      "           0       0.87      0.88      0.88     92432\n",
      "           1       0.87      0.86      0.87     87568\n",
      "\n",
      "    accuracy                           0.87    180000\n",
      "   macro avg       0.87      0.87      0.87    180000\n",
      "weighted avg       0.87      0.87      0.87    180000\n",
      "\n",
      "============================================================================\n",
      "Scaler: RobustScaler - n_estimators: 1000\n",
      "============================================================================\n",
      "[Fold 1] AUC: 0.93365 - F1-score: 0.86825 - L. Loss: 4.39587  - 0h 0m 54s\n",
      "[Fold 2] AUC: 0.93219 - F1-score: 0.86775 - L. Loss: 4.42255  - 0h 0m 49s\n",
      "[Fold 3] AUC: 0.93327 - F1-score: 0.86849 - L. Loss: 4.39971  - 0h 1m 4s\n",
      "[Fold 4] AUC: 0.93219 - F1-score: 0.86671 - L. Loss: 4.45363  - 0h 0m 54s\n",
      "[Fold 5] AUC: 0.93261 - F1-score: 0.86739 - L. Loss: 4.43675  - 0h 0m 41s\n",
      "----------------------------------------------------------------------------\n",
      "[Mean Fold] AUC: 0.93278 std: 0.00059 - 0h 4m 23s\n",
      "============================================================================\n",
      "\n",
      "              precision    recall  f1-score   support\n",
      "\n",
      "           0       0.87      0.88      0.88     92432\n",
      "           1       0.87      0.86      0.87     87568\n",
      "\n",
      "    accuracy                           0.87    180000\n",
      "   macro avg       0.87      0.87      0.87    180000\n",
      "weighted avg       0.87      0.87      0.87    180000\n",
      "\n",
      "============================================================================\n",
      "Scaler: MinMaxScaler - n_estimators: 1000\n",
      "============================================================================\n",
      "[Fold 1] AUC: 0.93365 - F1-score: 0.86825 - L. Loss: 4.39587  - 0h 0m 57s\n",
      "[Fold 2] AUC: 0.93219 - F1-score: 0.86775 - L. Loss: 4.42255  - 0h 0m 48s\n",
      "[Fold 3] AUC: 0.93327 - F1-score: 0.86849 - L. Loss: 4.39971  - 0h 1m 11s\n",
      "[Fold 4] AUC: 0.93219 - F1-score: 0.86671 - L. Loss: 4.45363  - 0h 0m 58s\n",
      "[Fold 5] AUC: 0.93261 - F1-score: 0.86739 - L. Loss: 4.43675  - 0h 0m 45s\n",
      "----------------------------------------------------------------------------\n",
      "[Mean Fold] AUC: 0.93278 std: 0.00059 - 0h 4m 42s\n",
      "============================================================================\n",
      "\n",
      "              precision    recall  f1-score   support\n",
      "\n",
      "           0       0.87      0.88      0.88     92432\n",
      "           1       0.87      0.86      0.87     87568\n",
      "\n",
      "    accuracy                           0.87    180000\n",
      "   macro avg       0.87      0.87      0.87    180000\n",
      "weighted avg       0.87      0.87      0.87    180000\n",
      "\n",
      "============================================================================\n",
      "Scaler: MaxAbsScaler - n_estimators: 1000\n",
      "============================================================================\n",
      "[Fold 1] AUC: 0.93365 - F1-score: 0.86825 - L. Loss: 4.39587  - 0h 1m 6s\n",
      "[Fold 2] AUC: 0.93219 - F1-score: 0.86775 - L. Loss: 4.42255  - 0h 0m 56s\n",
      "[Fold 3] AUC: 0.93327 - F1-score: 0.86849 - L. Loss: 4.39971  - 0h 1m 19s\n",
      "[Fold 4] AUC: 0.93219 - F1-score: 0.86671 - L. Loss: 4.45363  - 0h 1m 1s\n",
      "[Fold 5] AUC: 0.93261 - F1-score: 0.86739 - L. Loss: 4.43675  - 0h 0m 47s\n",
      "----------------------------------------------------------------------------\n",
      "[Mean Fold] AUC: 0.93278 std: 0.00059 - 0h 5m 11s\n",
      "============================================================================\n",
      "\n",
      "              precision    recall  f1-score   support\n",
      "\n",
      "           0       0.87      0.88      0.88     92432\n",
      "           1       0.87      0.86      0.87     87568\n",
      "\n",
      "    accuracy                           0.87    180000\n",
      "   macro avg       0.87      0.87      0.87    180000\n",
      "weighted avg       0.87      0.87      0.87    180000\n",
      "\n",
      "============================================================================\n",
      "Scaler: Normalizer - n_estimators: 1000\n",
      "============================================================================\n",
      "[Fold 1] AUC: 0.89273 - F1-score: 0.81386 - L. Loss: 6.21494  - 0h 1m 40s\n",
      "[Fold 2] AUC: 0.89240 - F1-score: 0.81522 - L. Loss: 6.19748  - 0h 1m 48s\n",
      "[Fold 3] AUC: 0.89288 - F1-score: 0.81369 - L. Loss: 6.23106  - 0h 1m 44s\n",
      "[Fold 4] AUC: 0.89184 - F1-score: 0.81303 - L. Loss: 6.24698  - 0h 1m 51s\n",
      "[Fold 5] AUC: 0.89232 - F1-score: 0.81478 - L. Loss: 6.19882  - 0h 1m 16s\n",
      "----------------------------------------------------------------------------\n",
      "[Mean Fold] AUC: 0.89243 std: 0.00036 - 0h 8m 21s\n",
      "============================================================================\n",
      "\n",
      "              precision    recall  f1-score   support\n",
      "\n",
      "           0       0.82      0.83      0.83     92432\n",
      "           1       0.82      0.81      0.81     87568\n",
      "\n",
      "    accuracy                           0.82    180000\n",
      "   macro avg       0.82      0.82      0.82    180000\n",
      "weighted avg       0.82      0.82      0.82    180000\n",
      "\n",
      "============================================================================\n",
      "Scaler: QuantileTransformer - n_estimators: 1000\n",
      "============================================================================\n",
      "[Fold 1] AUC: 0.93325 - F1-score: 0.86746 - L. Loss: 4.42140  - 0h 1m 12s\n",
      "[Fold 2] AUC: 0.93247 - F1-score: 0.86782 - L. Loss: 4.42159  - 0h 1m 16s\n",
      "[Fold 3] AUC: 0.93313 - F1-score: 0.86843 - L. Loss: 4.40298  - 0h 1m 16s\n",
      "[Fold 4] AUC: 0.93218 - F1-score: 0.86734 - L. Loss: 4.43041  - 0h 1m 12s\n",
      "[Fold 5] AUC: 0.93362 - F1-score: 0.86867 - L. Loss: 4.39511  - 0h 1m 9s\n",
      "----------------------------------------------------------------------------\n",
      "[Mean Fold] AUC: 0.93293 std: 0.00053 - 0h 6m 7s\n",
      "============================================================================\n",
      "\n",
      "              precision    recall  f1-score   support\n",
      "\n",
      "           0       0.87      0.88      0.88     92432\n",
      "           1       0.87      0.87      0.87     87568\n",
      "\n",
      "    accuracy                           0.87    180000\n",
      "   macro avg       0.87      0.87      0.87    180000\n",
      "weighted avg       0.87      0.87      0.87    180000\n",
      "\n",
      "----------------------------------------------------------------------------\n",
      "Scaler Best: QuantileTransformer(output_distribution='normal', random_state=0)\n",
      "Score      : 0.93293\n",
      "----------------------------------------------------------------------------\n",
      "\n",
      "\n",
      "CPU times: total: 35min 45s\n",
      "Wall time: 32min 50s\n"
     ]
    }
   ],
   "source": [
    "%%time \n",
    "\n",
    "seed        = 12359\n",
    "eval_metric = ['auc', 'error']                 \n",
    "scalers     = [StandardScaler(),                \n",
    "               QuantileTransformer(output_distribution='normal', random_state=0)]\n",
    "\n",
    "params = {'objective'        : 'binary:logistic',   \n",
    "          'eval_metric'      : eval_metric,  \n",
    "          'n_estimators'     : 1000,                        \n",
    "          'random_state'     : seed}\n",
    "\n",
    "if torch.cuda.is_available():           \n",
    "    params.update({'tree_method' : 'gpu_hist',                    \n",
    "                   'predictor'   : 'gpu_predictor'})\n",
    "\n",
    "model, df_proba, feature_imp = \\\n",
    "    cross_val_model(model_           = xgb.XGBClassifier(**params),\n",
    "                    model_name_      = 'xgb_bs_vc_score_02_{:2.5f}',\n",
    "                    X_               = X,\n",
    "                    y_               = y,\n",
    "                    X_test_          = X_test,\n",
    "                    target_          = target,\n",
    "                    scalers_         = scalers,\n",
    "                    fold_            = 5, \n",
    "                    lb_              = None,\n",
    "                    path_            = path,\n",
    "                    seed_            = seed, \n",
    "                    feature_scaler_  = None, \n",
    "                    print_report_    = True, \n",
    "                    save_submission_ = True)\n",
    "print()"
   ]
  },
  {
   "cell_type": "markdown",
   "metadata": {},
   "source": [
    "-  StandardScaler: 0.93897\n"
   ]
  },
  {
   "cell_type": "markdown",
   "metadata": {
    "id": "B1fIg1eHFlfU"
   },
   "source": [
    "### 3.5.1. Feature Importances  "
   ]
  },
  {
   "cell_type": "code",
   "execution_count": 144,
   "metadata": {
    "ExecuteTime": {
     "end_time": "2022-05-04T01:50:26.217547Z",
     "start_time": "2022-05-04T01:50:26.155512Z"
    },
    "colab": {
     "base_uri": "https://localhost:8080/",
     "height": 1000
    },
    "executionInfo": {
     "elapsed": 1967,
     "status": "ok",
     "timestamp": 1651533534323,
     "user": {
      "displayName": "Rogério Delfim",
      "userId": "04235763959036945343"
     },
     "user_tz": 180
    },
    "id": "qBSAGqFyFlfU",
    "outputId": "220d3664-345f-4a16-a340-bd70af253b71"
   },
   "outputs": [
    {
     "ename": "ValueError",
     "evalue": "The column label 'fold_1' is not unique.",
     "output_type": "error",
     "traceback": [
      "\u001b[1;31m---------------------------------------------------------------------------\u001b[0m",
      "\u001b[1;31mValueError\u001b[0m                                Traceback (most recent call last)",
      "Input \u001b[1;32mIn [144]\u001b[0m, in \u001b[0;36m<cell line: 2>\u001b[1;34m()\u001b[0m\n\u001b[0;32m      2\u001b[0m \u001b[38;5;28;01mfor\u001b[39;00m fold, col \u001b[38;5;129;01min\u001b[39;00m \u001b[38;5;28menumerate\u001b[39m(feature_imp\u001b[38;5;241m.\u001b[39mfilter(regex\u001b[38;5;241m=\u001b[39m\u001b[38;5;124mr\u001b[39m\u001b[38;5;124m'\u001b[39m\u001b[38;5;124mfold\u001b[39m\u001b[38;5;124m'\u001b[39m)\u001b[38;5;241m.\u001b[39mcolumns):            \n\u001b[0;32m      3\u001b[0m     col_acc \u001b[38;5;241m=\u001b[39m \u001b[38;5;124m'\u001b[39m\u001b[38;5;124macc_\u001b[39m\u001b[38;5;124m'\u001b[39m \u001b[38;5;241m+\u001b[39m \u001b[38;5;28mstr\u001b[39m(fold\u001b[38;5;241m+\u001b[39m\u001b[38;5;241m1\u001b[39m)\n\u001b[1;32m----> 4\u001b[0m     df_fi \u001b[38;5;241m=\u001b[39m \u001b[43mfeature_imp\u001b[49m\u001b[38;5;241;43m.\u001b[39;49m\u001b[43msort_values\u001b[49m\u001b[43m(\u001b[49m\u001b[43mby\u001b[49m\u001b[38;5;241;43m=\u001b[39;49m\u001b[43mcol\u001b[49m\u001b[43m,\u001b[49m\u001b[43m \u001b[49m\u001b[43mascending\u001b[49m\u001b[38;5;241;43m=\u001b[39;49m\u001b[38;5;28;43;01mFalse\u001b[39;49;00m\u001b[43m)\u001b[49m\u001b[38;5;241m.\u001b[39mreset_index()\u001b[38;5;241m.\u001b[39miloc[:\u001b[38;5;241m15\u001b[39m]\n\u001b[0;32m      5\u001b[0m     df_fi \u001b[38;5;241m=\u001b[39m df_fi[[\u001b[38;5;124m'\u001b[39m\u001b[38;5;124mindex\u001b[39m\u001b[38;5;124m'\u001b[39m, col, col_acc]]\n\u001b[0;32m      6\u001b[0m     df_fi\u001b[38;5;241m.\u001b[39mcolumns \u001b[38;5;241m=\u001b[39m [\u001b[38;5;124m'\u001b[39m\u001b[38;5;124mFeature\u001b[39m\u001b[38;5;124m'\u001b[39m, \u001b[38;5;124m'\u001b[39m\u001b[38;5;124mscore\u001b[39m\u001b[38;5;124m'\u001b[39m, col_acc]\n",
      "File \u001b[1;32m~\\AppData\\Roaming\\Python\\Python39\\site-packages\\pandas\\util\\_decorators.py:311\u001b[0m, in \u001b[0;36mdeprecate_nonkeyword_arguments.<locals>.decorate.<locals>.wrapper\u001b[1;34m(*args, **kwargs)\u001b[0m\n\u001b[0;32m    305\u001b[0m \u001b[38;5;28;01mif\u001b[39;00m \u001b[38;5;28mlen\u001b[39m(args) \u001b[38;5;241m>\u001b[39m num_allow_args:\n\u001b[0;32m    306\u001b[0m     warnings\u001b[38;5;241m.\u001b[39mwarn(\n\u001b[0;32m    307\u001b[0m         msg\u001b[38;5;241m.\u001b[39mformat(arguments\u001b[38;5;241m=\u001b[39marguments),\n\u001b[0;32m    308\u001b[0m         \u001b[38;5;167;01mFutureWarning\u001b[39;00m,\n\u001b[0;32m    309\u001b[0m         stacklevel\u001b[38;5;241m=\u001b[39mstacklevel,\n\u001b[0;32m    310\u001b[0m     )\n\u001b[1;32m--> 311\u001b[0m \u001b[38;5;28;01mreturn\u001b[39;00m func(\u001b[38;5;241m*\u001b[39margs, \u001b[38;5;241m*\u001b[39m\u001b[38;5;241m*\u001b[39mkwargs)\n",
      "File \u001b[1;32m~\\AppData\\Roaming\\Python\\Python39\\site-packages\\pandas\\core\\frame.py:6259\u001b[0m, in \u001b[0;36mDataFrame.sort_values\u001b[1;34m(self, by, axis, ascending, inplace, kind, na_position, ignore_index, key)\u001b[0m\n\u001b[0;32m   6256\u001b[0m \u001b[38;5;28;01melif\u001b[39;00m \u001b[38;5;28mlen\u001b[39m(by):\n\u001b[0;32m   6258\u001b[0m     by \u001b[38;5;241m=\u001b[39m by[\u001b[38;5;241m0\u001b[39m]\n\u001b[1;32m-> 6259\u001b[0m     k \u001b[38;5;241m=\u001b[39m \u001b[38;5;28;43mself\u001b[39;49m\u001b[38;5;241;43m.\u001b[39;49m\u001b[43m_get_label_or_level_values\u001b[49m\u001b[43m(\u001b[49m\u001b[43mby\u001b[49m\u001b[43m,\u001b[49m\u001b[43m \u001b[49m\u001b[43maxis\u001b[49m\u001b[38;5;241;43m=\u001b[39;49m\u001b[43maxis\u001b[49m\u001b[43m)\u001b[49m\n\u001b[0;32m   6261\u001b[0m     \u001b[38;5;66;03m# need to rewrap column in Series to apply key function\u001b[39;00m\n\u001b[0;32m   6262\u001b[0m     \u001b[38;5;28;01mif\u001b[39;00m key \u001b[38;5;129;01mis\u001b[39;00m \u001b[38;5;129;01mnot\u001b[39;00m \u001b[38;5;28;01mNone\u001b[39;00m:\n\u001b[0;32m   6263\u001b[0m         \u001b[38;5;66;03m# error: Incompatible types in assignment (expression has type\u001b[39;00m\n\u001b[0;32m   6264\u001b[0m         \u001b[38;5;66;03m# \"Series\", variable has type \"ndarray\")\u001b[39;00m\n",
      "File \u001b[1;32m~\\AppData\\Roaming\\Python\\Python39\\site-packages\\pandas\\core\\generic.py:1794\u001b[0m, in \u001b[0;36mNDFrame._get_label_or_level_values\u001b[1;34m(self, key, axis)\u001b[0m\n\u001b[0;32m   1791\u001b[0m         multi_message \u001b[38;5;241m=\u001b[39m \u001b[38;5;124m\"\u001b[39m\u001b[38;5;124m\"\u001b[39m\n\u001b[0;32m   1793\u001b[0m     label_axis_name \u001b[38;5;241m=\u001b[39m \u001b[38;5;124m\"\u001b[39m\u001b[38;5;124mcolumn\u001b[39m\u001b[38;5;124m\"\u001b[39m \u001b[38;5;28;01mif\u001b[39;00m axis \u001b[38;5;241m==\u001b[39m \u001b[38;5;241m0\u001b[39m \u001b[38;5;28;01melse\u001b[39;00m \u001b[38;5;124m\"\u001b[39m\u001b[38;5;124mindex\u001b[39m\u001b[38;5;124m\"\u001b[39m\n\u001b[1;32m-> 1794\u001b[0m     \u001b[38;5;28;01mraise\u001b[39;00m \u001b[38;5;167;01mValueError\u001b[39;00m(\n\u001b[0;32m   1795\u001b[0m         \u001b[38;5;124mf\u001b[39m\u001b[38;5;124m\"\u001b[39m\u001b[38;5;124mThe \u001b[39m\u001b[38;5;132;01m{\u001b[39;00mlabel_axis_name\u001b[38;5;132;01m}\u001b[39;00m\u001b[38;5;124m label \u001b[39m\u001b[38;5;124m'\u001b[39m\u001b[38;5;132;01m{\u001b[39;00mkey\u001b[38;5;132;01m}\u001b[39;00m\u001b[38;5;124m'\u001b[39m\u001b[38;5;124m is not unique.\u001b[39m\u001b[38;5;132;01m{\u001b[39;00mmulti_message\u001b[38;5;132;01m}\u001b[39;00m\u001b[38;5;124m\"\u001b[39m\n\u001b[0;32m   1796\u001b[0m     )\n\u001b[0;32m   1798\u001b[0m \u001b[38;5;28;01mreturn\u001b[39;00m values\n",
      "\u001b[1;31mValueError\u001b[0m: The column label 'fold_1' is not unique."
     ]
    },
    {
     "data": {
      "text/plain": [
       "<Figure size 1440x1440 with 0 Axes>"
      ]
     },
     "metadata": {},
     "output_type": "display_data"
    }
   ],
   "source": [
    "plt.figure(figsize=(20,20))\n",
    "for fold, col in enumerate(feature_imp.filter(regex=r'fold').columns):            \n",
    "    col_acc = 'acc_' + str(fold+1)\n",
    "    df_fi = feature_imp.sort_values(by=col, ascending=False).reset_index().iloc[:15]\n",
    "    df_fi = df_fi[['index', col, col_acc]]\n",
    "    df_fi.columns = ['Feature', 'score', col_acc]\n",
    "    plt.subplot(3,2, fold+1)\n",
    "    sns.barplot(x='score', y='Feature', data=df_fi)    \n",
    "    plt.title('Fold {} - score: {:2.5f}'.format(fold+1, df_fi[col_acc].mean()), \n",
    "              fontdict={'fontsize':18})    \n",
    "\n",
    "plt.suptitle('Feature Importance XGB', y=1.05, fontsize=24);\n",
    "plt.tight_layout(h_pad=3.0); "
   ]
  },
  {
   "cell_type": "markdown",
   "metadata": {
    "ExecuteTime": {
     "end_time": "2022-05-02T03:41:01.753822Z",
     "start_time": "2022-05-02T03:41:01.738787Z"
    },
    "id": "gtC6OVR-FlfU"
   },
   "source": [
    "### 3.5.1. Shap"
   ]
  },
  {
   "cell_type": "code",
   "execution_count": null,
   "metadata": {
    "ExecuteTime": {
     "end_time": "2022-05-03T21:27:50.724397Z",
     "start_time": "2022-05-03T21:27:49.257594Z"
    },
    "colab": {
     "base_uri": "https://localhost:8080/",
     "height": 251
    },
    "executionInfo": {
     "elapsed": 245,
     "status": "error",
     "timestamp": 1651533916508,
     "user": {
      "displayName": "Rogério Delfim",
      "userId": "04235763959036945343"
     },
     "user_tz": 180
    },
    "id": "YClUZ1fdFlfV",
    "outputId": "658edf33-fe5d-4bd9-efbf-3e9483309bde"
   },
   "outputs": [],
   "source": [
    "mdl = model[1]['model']\n",
    "sc  = model[1]['scaler']\n",
    "\n",
    "X_valid_sc = sc.transform(X_valid)#, columns=X_valid.columns)\n",
    "y_pred_val = mdl.predict_proba(X_valid_sc)[:,1]\n",
    "score      = metrics.roc_auc_score(y_valid, y_pred_val)\n",
    "\n",
    "print('AUC em dados não viscto: {:2.5f}'.format(score))"
   ]
  },
  {
   "cell_type": "code",
   "execution_count": null,
   "metadata": {
    "ExecuteTime": {
     "end_time": "2022-05-03T21:28:41.576870Z",
     "start_time": "2022-05-03T21:28:25.062575Z"
    },
    "id": "ITrL5DSmFlfV"
   },
   "outputs": [],
   "source": [
    "explainer = shap.TreeExplainer(mdl)\n",
    "shap_values = explainer.shap_values(X_valid_sc)\n",
    "\n",
    "shap.summary_plot(shap_values, X_valid_sc, plot_type=\"bar\")"
   ]
  },
  {
   "cell_type": "code",
   "execution_count": null,
   "metadata": {
    "ExecuteTime": {
     "end_time": "2022-05-03T21:29:11.337046Z",
     "start_time": "2022-05-03T21:28:56.479419Z"
    },
    "id": "IPeZJfEbFlfV",
    "outputId": "04015f47-60c3-49fa-c223-efdf9e1b2068",
    "scrolled": false
   },
   "outputs": [],
   "source": [
    "shap.summary_plot(shap_values, X_valid_sc, max_display=15)"
   ]
  },
  {
   "cell_type": "markdown",
   "metadata": {
    "id": "F72WhgnBFlfV"
   },
   "source": [
    "### 3.1.1. Erro e  número de Estimadores"
   ]
  },
  {
   "cell_type": "code",
   "execution_count": null,
   "metadata": {
    "ExecuteTime": {
     "end_time": "2022-05-03T21:29:25.494901Z",
     "start_time": "2022-05-03T21:29:24.023649Z"
    },
    "colab": {
     "base_uri": "https://localhost:8080/",
     "height": 251
    },
    "executionInfo": {
     "elapsed": 257,
     "status": "error",
     "timestamp": 1651533869561,
     "user": {
      "displayName": "Rogério Delfim",
      "userId": "04235763959036945343"
     },
     "user_tz": 180
    },
    "id": "YxnF3XWLFlfV",
    "outputId": "aa0496ed-7d24-45f9-9188-07a9c08a8793"
   },
   "outputs": [],
   "source": [
    "for erro in eval_metric:\n",
    "    plt.figure(figsize=(20,12))\n",
    "\n",
    "    for i in range(len(model)):\n",
    "        results     = model[i]['model'].evals_result() # merror\n",
    "        ntree_limit = model[i]['model'].best_ntree_limit\n",
    "\n",
    "        plt.subplot(2,3,i+1)\n",
    "        plt.plot(results[\"validation_0\"][erro], label=\"Treinamento\")\n",
    "        plt.plot(results[\"validation_1\"][erro], label=\"Validação\")\n",
    "\n",
    "        plt.axvline(ntree_limit, \n",
    "                    color=\"gray\", \n",
    "                    label=\"N. de árvore ideal {}\".format(ntree_limit))\n",
    "\n",
    "       # plt.xlabel('Número de árvores')\n",
    "        plt.ylabel(erro)\n",
    "        plt.legend();\n",
    "\n",
    "    plt.suptitle('Performance XGB - {}'.format(erro), y=1.05, fontsize=24);\n",
    "    plt.tight_layout(h_pad=3.0);"
   ]
  },
  {
   "cell_type": "markdown",
   "metadata": {
    "id": "ikv-68P7FlfV"
   },
   "source": [
    "<div class=\"alert alert-info\" role=\"alert\"> \n",
    "    \n",
    "**`NOTA:`** <br>\n",
    "Acima recuperamos as informações de treinamento do nosso modelo, podemos observar que o número de 1000 estimadores é mais que suficiente para o treinamento do modelo, já na predição utilizamos 536 estimadores que torna as predições mais performáticas, esse parametro pode ajuda na tunning do XGB.  \n",
    "    \n",
    "</div>"
   ]
  },
  {
   "cell_type": "markdown",
   "metadata": {
    "ExecuteTime": {
     "end_time": "2022-05-02T03:53:38.310126Z",
     "start_time": "2022-05-02T03:53:38.298141Z"
    },
    "id": "N5RxqK7wFlfW"
   },
   "source": [
    "### 3.1.2. Previsão "
   ]
  },
  {
   "cell_type": "code",
   "execution_count": null,
   "metadata": {
    "ExecuteTime": {
     "end_time": "2022-05-03T21:23:45.098092Z",
     "start_time": "2022-05-03T21:23:43.605058Z"
    },
    "id": "I3Qsm-BVFlfW",
    "outputId": "b082456e-b033-4d88-f4a3-a9c7cd828910"
   },
   "outputs": [],
   "source": [
    "scaler_tr  = model[1]['scaler']\n",
    "model_tr   = model[1]['model']\n",
    "X_valid_sc = pd.DataFrame(scaler_tr.transform(X_valid), columns=X_valid.columns)\n",
    "\n",
    "y_pred_prob = model_tr.predict_proba(X_valid_sc.values, ntree_limit=model_tr.best_ntree_limit)[:,1]\n",
    "y_pred      = (y_pred_prob >.5).astype(int)\n",
    "auc         = metrics.roc_auc_score(y_valid, y_pred_prob)\n",
    "\n",
    "print('AUC: {:2.5f}'.format(auc))"
   ]
  },
  {
   "cell_type": "markdown",
   "metadata": {},
   "source": [
    "### 3.1.3. Matriz de Confusão"
   ]
  },
  {
   "cell_type": "code",
   "execution_count": null,
   "metadata": {
    "ExecuteTime": {
     "end_time": "2022-05-03T21:21:27.387086Z",
     "start_time": "2022-05-03T21:21:27.264089Z"
    }
   },
   "outputs": [],
   "source": [
    "def plot_cm(preds,true,ax=None):\n",
    "    cm = confusion_matrix(preds.round(), true)\n",
    "    disp = ConfusionMatrixDisplay(confusion_matrix=cm)\n",
    "    disp.plot(ax=ax, colorbar=False, values_format = '.6g')\n",
    "    plt.title('Confusion matrix \\n')\n",
    "    plt.grid(False)\n",
    "    return disp\n",
    "\n",
    "plot_cm(y_pred, y_valid);"
   ]
  },
  {
   "cell_type": "code",
   "execution_count": null,
   "metadata": {
    "ExecuteTime": {
     "end_time": "2022-05-03T21:22:47.878243Z",
     "start_time": "2022-05-03T21:22:47.565244Z"
    },
    "id": "43kjf8HaFlfW",
    "outputId": "74e1f3ed-c48f-4ecd-a316-ddfa1bb638f3"
   },
   "outputs": [],
   "source": [
    "threshold = .47\n",
    "\n",
    "y_pred_threshold     = (y_pred_prob>threshold).astype(int)\n",
    "fpr, tpr, thresholds = metrics.roc_curve(y_valid, y_pred_threshold)\n",
    "\n",
    "plot_roc_curve(fpr, tpr, label=\"XGB\")\n",
    "plt.show()\n",
    "\n",
    "print('AUC     : {:2.5f} '.format(metrics.roc_auc_score(y_valid, y_pred_prob) ))\n",
    "print('F1-score: {:2.5f}'.format(metrics.f1_score(y_valid, y_pred)))\n",
    "print('F1-score: {:2.5f} threshold({:2.2f})'.format(metrics.f1_score(y_valid, y_pred_threshold), threshold))"
   ]
  },
  {
   "cell_type": "markdown",
   "metadata": {
    "id": "Ezx4eQc5FlfW"
   },
   "source": [
    "<div class=\"alert alert-info\" role=\"alert\"> \n",
    "    \n",
    "    \n",
    "Os próximos passos são: <br>\n",
    "- Feature Engineering\n",
    "- Tunning de hyperparametros    \n",
    "    \n",
    "</div>\n"
   ]
  },
  {
   "cell_type": "code",
   "execution_count": null,
   "metadata": {},
   "outputs": [],
   "source": []
  }
 ],
 "metadata": {
  "accelerator": "GPU",
  "colab": {
   "collapsed_sections": [],
   "machine_shape": "hm",
   "name": "011 - EDA.ipynb",
   "provenance": [],
   "toc_visible": true
  },
  "hide_input": false,
  "kernelspec": {
   "display_name": "Python 3 (ipykernel)",
   "language": "python",
   "name": "python3"
  },
  "language_info": {
   "codemirror_mode": {
    "name": "ipython",
    "version": 3
   },
   "file_extension": ".py",
   "mimetype": "text/x-python",
   "name": "python",
   "nbconvert_exporter": "python",
   "pygments_lexer": "ipython3",
   "version": "3.9.7"
  },
  "nbTranslate": {
   "displayLangs": [
    "en",
    "pt-br"
   ],
   "hotkey": "",
   "langInMainMenu": true,
   "sourceLang": "en",
   "targetLang": "pt-br",
   "useGoogleTranslate": true
  },
  "toc": {
   "base_numbering": 1,
   "nav_menu": {},
   "number_sections": false,
   "sideBar": true,
   "skip_h1_title": false,
   "title_cell": "Table of Contents",
   "title_sidebar": "Contents",
   "toc_cell": false,
   "toc_position": {
    "height": "calc(100% - 180px)",
    "left": "10px",
    "top": "150px",
    "width": "345px"
   },
   "toc_section_display": true,
   "toc_window_display": true
  }
 },
 "nbformat": 4,
 "nbformat_minor": 1
}
