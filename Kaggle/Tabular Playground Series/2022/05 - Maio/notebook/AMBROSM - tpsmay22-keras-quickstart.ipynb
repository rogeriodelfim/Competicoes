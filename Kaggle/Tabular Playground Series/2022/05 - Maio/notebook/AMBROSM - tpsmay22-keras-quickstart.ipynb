{
 "cells": [
  {
   "cell_type": "markdown",
   "id": "90a5aa5f",
   "metadata": {
    "_cell_guid": "b1076dfc-b9ad-4769-8c92-a6c4dae69d19",
    "_uuid": "8f2839f25d086af736a60e9eeb907d3b93b6e0e5",
    "papermill": {
     "duration": 0.024016,
     "end_time": "2022-05-01T09:35:14.757554",
     "exception": false,
     "start_time": "2022-05-01T09:35:14.733538",
     "status": "completed"
    },
    "tags": []
   },
   "source": [
    "# Keras Quickstart for TPSMAY22\n",
    "\n",
    "This notebook shows how to train a Keras model with minimal feature engineering. For the corresponding EDA, see the [separate EDA notebook](https://www.kaggle.com/code/ambrosm/tpsmay22-eda-which-makes-sense)."
   ]
  },
  {
   "cell_type": "code",
   "execution_count": 1,
   "id": "f140b51f",
   "metadata": {
    "_kg_hide-input": true,
    "execution": {
     "iopub.execute_input": "2022-05-01T09:35:14.804036Z",
     "iopub.status.busy": "2022-05-01T09:35:14.803622Z",
     "iopub.status.idle": "2022-05-01T09:35:20.840948Z",
     "shell.execute_reply": "2022-05-01T09:35:20.840124Z"
    },
    "papermill": {
     "duration": 6.063628,
     "end_time": "2022-05-01T09:35:20.843394",
     "exception": false,
     "start_time": "2022-05-01T09:35:14.779766",
     "status": "completed"
    },
    "tags": []
   },
   "outputs": [],
   "source": [
    "import numpy as np\n",
    "import pandas as pd\n",
    "import matplotlib.pyplot as plt\n",
    "from matplotlib.ticker import MaxNLocator\n",
    "import seaborn as sns\n",
    "from cycler import cycler\n",
    "from IPython.display import display\n",
    "import datetime\n",
    "import scipy.stats\n",
    "import math\n",
    "\n",
    "from sklearn.model_selection import KFold\n",
    "from sklearn.metrics import roc_auc_score, roc_curve\n",
    "from sklearn.calibration import CalibrationDisplay\n",
    "\n",
    "import tensorflow as tf\n",
    "from tensorflow.keras.models import Model\n",
    "from tensorflow.keras.callbacks import ReduceLROnPlateau, LearningRateScheduler, EarlyStopping\n",
    "from tensorflow.keras.layers import Dense, Input, InputLayer, Add\n",
    "\n",
    "plt.rcParams['axes.facecolor'] = '#0057b8' # blue\n",
    "plt.rcParams['axes.prop_cycle'] = cycler(color=['#ffd700'] +\n",
    "                                         plt.rcParams['axes.prop_cycle'].by_key()['color'][1:])"
   ]
  },
  {
   "cell_type": "code",
   "execution_count": 2,
   "id": "24f0e055",
   "metadata": {
    "_kg_hide-input": true,
    "execution": {
     "iopub.execute_input": "2022-05-01T09:35:20.872707Z",
     "iopub.status.busy": "2022-05-01T09:35:20.872438Z",
     "iopub.status.idle": "2022-05-01T09:35:20.886987Z",
     "shell.execute_reply": "2022-05-01T09:35:20.886247Z"
    },
    "papermill": {
     "duration": 0.031335,
     "end_time": "2022-05-01T09:35:20.889009",
     "exception": false,
     "start_time": "2022-05-01T09:35:20.857674",
     "status": "completed"
    },
    "tags": []
   },
   "outputs": [],
   "source": [
    "# Plot training history\n",
    "def plot_history(history, *, n_epochs=None, plot_lr=False, title=None, bottom=None, top=None):\n",
    "    \"\"\"Plot (the last n_epochs epochs of) the training history\n",
    "    \n",
    "    Plots loss and optionally val_loss and lr.\"\"\"\n",
    "    plt.figure(figsize=(15, 6))\n",
    "    from_epoch = 0 if n_epochs is None else max(len(history['loss']) - n_epochs, 0)\n",
    "    \n",
    "    # Plot training and validation losses\n",
    "    plt.plot(np.arange(from_epoch, len(history['loss'])), history['loss'][from_epoch:], label='Training loss')\n",
    "    try:\n",
    "        plt.plot(np.arange(from_epoch, len(history['loss'])), history['val_loss'][from_epoch:], label='Validation loss')\n",
    "        best_epoch = np.argmin(np.array(history['val_loss']))\n",
    "        best_val_loss = history['val_loss'][best_epoch]\n",
    "        if best_epoch >= from_epoch:\n",
    "            plt.scatter([best_epoch], [best_val_loss], c='r', label=f'Best val_loss = {best_val_loss:.5f}')\n",
    "        if best_epoch > 0:\n",
    "            almost_epoch = np.argmin(np.array(history['val_loss'])[:best_epoch])\n",
    "            almost_val_loss = history['val_loss'][almost_epoch]\n",
    "            if almost_epoch >= from_epoch:\n",
    "                plt.scatter([almost_epoch], [almost_val_loss], c='orange', label='Second best val_loss')\n",
    "    except KeyError:\n",
    "        pass\n",
    "    if bottom is not None: plt.ylim(bottom=bottom)\n",
    "    if top is not None: plt.ylim(top=top)\n",
    "    plt.gca().xaxis.set_major_locator(MaxNLocator(integer=True))\n",
    "    plt.xlabel('Epoch')\n",
    "    plt.ylabel('Loss')\n",
    "    plt.legend(loc='lower left')\n",
    "    if title is not None: plt.title(title)\n",
    "        \n",
    "    # Plot learning rate\n",
    "    if plot_lr and 'lr' in history:\n",
    "        ax2 = plt.gca().twinx()\n",
    "        ax2.plot(np.arange(from_epoch, len(history['lr'])), np.array(history['lr'][from_epoch:]), color='g', label='Learning rate')\n",
    "        ax2.set_ylabel('Learning rate')\n",
    "        ax2.legend(loc='upper right')\n",
    "        \n",
    "    plt.show()\n",
    "    "
   ]
  },
  {
   "cell_type": "markdown",
   "id": "0fda6d5d",
   "metadata": {
    "papermill": {
     "duration": 0.013413,
     "end_time": "2022-05-01T09:35:20.916034",
     "exception": false,
     "start_time": "2022-05-01T09:35:20.902621",
     "status": "completed"
    },
    "tags": []
   },
   "source": [
    "# Feature engineering\n",
    "\n",
    "We read the data and apply minimal feature engineering: We only split the `f_27` string into ten separate features as described in the [EDA](https://www.kaggle.com/code/ambrosm/tpsmay22-eda-which-makes-sense), and we count the unique characters in the string."
   ]
  },
  {
   "cell_type": "code",
   "execution_count": 3,
   "id": "ce7e04c9",
   "metadata": {
    "execution": {
     "iopub.execute_input": "2022-05-01T09:35:20.944187Z",
     "iopub.status.busy": "2022-05-01T09:35:20.943935Z",
     "iopub.status.idle": "2022-05-01T09:35:54.958997Z",
     "shell.execute_reply": "2022-05-01T09:35:54.958146Z"
    },
    "papermill": {
     "duration": 34.048029,
     "end_time": "2022-05-01T09:35:54.977414",
     "exception": false,
     "start_time": "2022-05-01T09:35:20.929385",
     "status": "completed"
    },
    "tags": []
   },
   "outputs": [
    {
     "data": {
      "text/html": [
       "<div>\n",
       "<style scoped>\n",
       "    .dataframe tbody tr th:only-of-type {\n",
       "        vertical-align: middle;\n",
       "    }\n",
       "\n",
       "    .dataframe tbody tr th {\n",
       "        vertical-align: top;\n",
       "    }\n",
       "\n",
       "    .dataframe thead th {\n",
       "        text-align: right;\n",
       "    }\n",
       "</style>\n",
       "<table border=\"1\" class=\"dataframe\">\n",
       "  <thead>\n",
       "    <tr style=\"text-align: right;\">\n",
       "      <th></th>\n",
       "      <th>f_00</th>\n",
       "      <th>f_01</th>\n",
       "      <th>f_02</th>\n",
       "      <th>f_03</th>\n",
       "      <th>f_04</th>\n",
       "      <th>f_05</th>\n",
       "      <th>f_06</th>\n",
       "      <th>f_07</th>\n",
       "      <th>f_08</th>\n",
       "      <th>f_09</th>\n",
       "      <th>...</th>\n",
       "      <th>ch1</th>\n",
       "      <th>ch2</th>\n",
       "      <th>ch3</th>\n",
       "      <th>ch4</th>\n",
       "      <th>ch5</th>\n",
       "      <th>ch6</th>\n",
       "      <th>ch7</th>\n",
       "      <th>ch8</th>\n",
       "      <th>ch9</th>\n",
       "      <th>unique_characters</th>\n",
       "    </tr>\n",
       "  </thead>\n",
       "  <tbody>\n",
       "    <tr>\n",
       "      <th>0</th>\n",
       "      <td>0.442517</td>\n",
       "      <td>0.174380</td>\n",
       "      <td>-0.999816</td>\n",
       "      <td>0.762741</td>\n",
       "      <td>0.186778</td>\n",
       "      <td>-1.074775</td>\n",
       "      <td>0.501888</td>\n",
       "      <td>6</td>\n",
       "      <td>6</td>\n",
       "      <td>0</td>\n",
       "      <td>...</td>\n",
       "      <td>0</td>\n",
       "      <td>0</td>\n",
       "      <td>0</td>\n",
       "      <td>1</td>\n",
       "      <td>0</td>\n",
       "      <td>3</td>\n",
       "      <td>11</td>\n",
       "      <td>0</td>\n",
       "      <td>2</td>\n",
       "      <td>5</td>\n",
       "    </tr>\n",
       "    <tr>\n",
       "      <th>1</th>\n",
       "      <td>-0.605598</td>\n",
       "      <td>-0.305715</td>\n",
       "      <td>0.627667</td>\n",
       "      <td>-0.578898</td>\n",
       "      <td>-1.750931</td>\n",
       "      <td>1.355550</td>\n",
       "      <td>-0.190911</td>\n",
       "      <td>1</td>\n",
       "      <td>3</td>\n",
       "      <td>4</td>\n",
       "      <td>...</td>\n",
       "      <td>5</td>\n",
       "      <td>0</td>\n",
       "      <td>1</td>\n",
       "      <td>1</td>\n",
       "      <td>0</td>\n",
       "      <td>4</td>\n",
       "      <td>6</td>\n",
       "      <td>2</td>\n",
       "      <td>1</td>\n",
       "      <td>6</td>\n",
       "    </tr>\n",
       "  </tbody>\n",
       "</table>\n",
       "<p>2 rows × 41 columns</p>\n",
       "</div>"
      ],
      "text/plain": [
       "       f_00      f_01      f_02      f_03      f_04      f_05      f_06  f_07  \\\n",
       "0  0.442517  0.174380 -0.999816  0.762741  0.186778 -1.074775  0.501888     6   \n",
       "1 -0.605598 -0.305715  0.627667 -0.578898 -1.750931  1.355550 -0.190911     1   \n",
       "\n",
       "   f_08  f_09  ...  ch1  ch2  ch3  ch4  ch5  ch6  ch7  ch8  ch9  \\\n",
       "0     6     0  ...    0    0    0    1    0    3   11    0    2   \n",
       "1     3     4  ...    5    0    1    1    0    4    6    2    1   \n",
       "\n",
       "   unique_characters  \n",
       "0                  5  \n",
       "1                  6  \n",
       "\n",
       "[2 rows x 41 columns]"
      ]
     },
     "execution_count": 3,
     "metadata": {},
     "output_type": "execute_result"
    }
   ],
   "source": [
    "train = pd.read_csv('../input/tabular-playground-series-may-2022/train.csv')\n",
    "test = pd.read_csv('../input/tabular-playground-series-may-2022/test.csv')\n",
    "for df in [train, test]:\n",
    "    for i in range(10):\n",
    "        df[f'ch{i}'] = df.f_27.str.get(i).apply(ord) - ord('A')\n",
    "    # Next feature is from https://www.kaggle.com/code/cabaxiom/tps-may-22-eda-lgbm-model\n",
    "    df[\"unique_characters\"] = df.f_27.apply(lambda s: len(set(s)))\n",
    "features = [f for f in test.columns if f != 'id' and f != 'f_27']\n",
    "test[features].head(2)"
   ]
  },
  {
   "cell_type": "markdown",
   "id": "aba00d9a",
   "metadata": {
    "papermill": {
     "duration": 0.013957,
     "end_time": "2022-05-01T09:35:55.005486",
     "exception": false,
     "start_time": "2022-05-01T09:35:54.991529",
     "status": "completed"
    },
    "tags": []
   },
   "source": [
    "# Cross-validation\n",
    "\n",
    "For cross-validation, we use a simple KFold with five splits. It has turned out that the scores of the five splits are very similar so that I usually run only the first split. This one split is good enough to evaluate the model.\n",
    "\n",
    "I like to first train the model with early stopping to see what are good initial and final learning rates and the number of epochs, and then I switch to cosine learning rate decay. You can switch back to early stopping anytime by setting the parameter `USE_PLATEAU`."
   ]
  },
  {
   "cell_type": "code",
   "execution_count": 4,
   "id": "d2069faf",
   "metadata": {
    "execution": {
     "iopub.execute_input": "2022-05-01T09:35:55.035800Z",
     "iopub.status.busy": "2022-05-01T09:35:55.035493Z",
     "iopub.status.idle": "2022-05-01T09:37:27.255370Z",
     "shell.execute_reply": "2022-05-01T09:37:27.254550Z"
    },
    "papermill": {
     "duration": 92.238623,
     "end_time": "2022-05-01T09:37:27.258376",
     "exception": false,
     "start_time": "2022-05-01T09:35:55.019753",
     "status": "completed"
    },
    "tags": []
   },
   "outputs": [
    {
     "name": "stdout",
     "output_type": "stream",
     "text": [
      "41 features\n"
     ]
    },
    {
     "name": "stderr",
     "output_type": "stream",
     "text": [
      "2022-05-01 09:35:55.635320: I tensorflow/stream_executor/cuda/cuda_gpu_executor.cc:937] successful NUMA node read from SysFS had negative value (-1), but there must be at least one NUMA node, so returning NUMA node zero\n",
      "2022-05-01 09:35:55.712665: I tensorflow/stream_executor/cuda/cuda_gpu_executor.cc:937] successful NUMA node read from SysFS had negative value (-1), but there must be at least one NUMA node, so returning NUMA node zero\n",
      "2022-05-01 09:35:55.713591: I tensorflow/stream_executor/cuda/cuda_gpu_executor.cc:937] successful NUMA node read from SysFS had negative value (-1), but there must be at least one NUMA node, so returning NUMA node zero\n",
      "2022-05-01 09:35:55.715129: I tensorflow/core/platform/cpu_feature_guard.cc:142] This TensorFlow binary is optimized with oneAPI Deep Neural Network Library (oneDNN) to use the following CPU instructions in performance-critical operations:  AVX2 AVX512F FMA\n",
      "To enable them in other operations, rebuild TensorFlow with the appropriate compiler flags.\n",
      "2022-05-01 09:35:55.715505: I tensorflow/stream_executor/cuda/cuda_gpu_executor.cc:937] successful NUMA node read from SysFS had negative value (-1), but there must be at least one NUMA node, so returning NUMA node zero\n",
      "2022-05-01 09:35:55.716356: I tensorflow/stream_executor/cuda/cuda_gpu_executor.cc:937] successful NUMA node read from SysFS had negative value (-1), but there must be at least one NUMA node, so returning NUMA node zero\n",
      "2022-05-01 09:35:55.717093: I tensorflow/stream_executor/cuda/cuda_gpu_executor.cc:937] successful NUMA node read from SysFS had negative value (-1), but there must be at least one NUMA node, so returning NUMA node zero\n",
      "2022-05-01 09:35:57.462588: I tensorflow/stream_executor/cuda/cuda_gpu_executor.cc:937] successful NUMA node read from SysFS had negative value (-1), but there must be at least one NUMA node, so returning NUMA node zero\n",
      "2022-05-01 09:35:57.463535: I tensorflow/stream_executor/cuda/cuda_gpu_executor.cc:937] successful NUMA node read from SysFS had negative value (-1), but there must be at least one NUMA node, so returning NUMA node zero\n",
      "2022-05-01 09:35:57.464281: I tensorflow/stream_executor/cuda/cuda_gpu_executor.cc:937] successful NUMA node read from SysFS had negative value (-1), but there must be at least one NUMA node, so returning NUMA node zero\n",
      "2022-05-01 09:35:57.465667: I tensorflow/core/common_runtime/gpu/gpu_device.cc:1510] Created device /job:localhost/replica:0/task:0/device:GPU:0 with 15403 MB memory:  -> device: 0, name: Tesla P100-PCIE-16GB, pci bus id: 0000:00:04.0, compute capability: 6.0\n",
      "2022-05-01 09:35:58.605224: I tensorflow/compiler/mlir/mlir_graph_optimization_pass.cc:185] None of the MLIR Optimization Passes are enabled (registered 2)\n"
     ]
    },
    {
     "name": "stdout",
     "output_type": "stream",
     "text": [
      "Training loss:            0.093\n",
      "Fold 0.0 | 01:30 | AUC: 0.994\n"
     ]
    },
    {
     "data": {
      "image/png": "[encoded data removed]",
      "text/plain": [
       "<Figure size 1080x432 with 2 Axes>"
      ]
     },
     "metadata": {
      "needs_background": "light"
     },
     "output_type": "display_data"
    },
    {
     "data": {
      "image/png": "[encoded data removed]",
      "text/plain": [
       "<Figure size 720x288 with 1 Axes>"
      ]
     },
     "metadata": {
      "needs_background": "light"
     },
     "output_type": "display_data"
    },
    {
     "name": "stdout",
     "output_type": "stream",
     "text": [
      "OOF AUC:                       0.994\n",
      "CPU times: user 1min 48s, sys: 9.87 s, total: 1min 58s\n",
      "Wall time: 1min 32s\n"
     ]
    }
   ],
   "source": [
    "%%time\n",
    "# Cross-validation of the classifier\n",
    "\n",
    "EPOCHS = 200\n",
    "EPOCHS_COSINEDECAY = 100\n",
    "VERBOSE = 0 # set to 0 for less output, or to 2 for more output\n",
    "DIAGRAMS = True\n",
    "USE_PLATEAU = False\n",
    "INFERENCE = False\n",
    "BATCH_SIZE = 4096\n",
    "\n",
    "\n",
    "def my_model():\n",
    "    \"\"\"Simple sequential neural network with three hidden layers.\n",
    "    \n",
    "    Returns a (not yet compiled) instance of tensorflow.keras.models.Model.\n",
    "    \"\"\"\n",
    "    activation = 'swish' # or 'relu'\n",
    "    inputs = Input(shape=(len(features)))\n",
    "    x = Dense(64, #kernel_regularizer=tf.keras.regularizers.l2(1e-6),\n",
    "              use_bias=True,\n",
    "              activation='swish',\n",
    "             )(inputs)\n",
    "    x = Dense(64, #kernel_regularizer=tf.keras.regularizers.l2(1e-6),\n",
    "              use_bias=True,\n",
    "              activation='swish',\n",
    "             )(inputs)\n",
    "    x = Dense(16, #kernel_regularizer=tf.keras.regularizers.l2(1e-6),\n",
    "              use_bias=True,\n",
    "              activation='swish',\n",
    "             )(x)\n",
    "    x = Dense(1, #kernel_regularizer=tf.keras.regularizers.l2(1e-6),\n",
    "              use_bias=True,\n",
    "              activation='sigmoid',\n",
    "             )(x)\n",
    "    model = Model(inputs, x)\n",
    "    return model\n",
    "\n",
    "\n",
    "def fit_model(X_tr, y_tr, X_va=None, y_va=None, run=0):\n",
    "    \"\"\"Scale the data, fit a model, plot the training history and optionally validate the model\n",
    "    \n",
    "    Returns a trained instance of tensorflow.keras.models.Model.\n",
    "    \n",
    "    As a side effect, updates y_va_pred, history_list and score_list.\n",
    "    \"\"\"\n",
    "    global y_va_pred\n",
    "    start_time = datetime.datetime.now()\n",
    "    \n",
    "    if X_va is not None:\n",
    "        validation_data = (X_va, y_va)\n",
    "    else:\n",
    "        validation_data = None\n",
    "\n",
    "    # Define the learning rate schedule and EarlyStopping\n",
    "    lr_start=0.01\n",
    "    if USE_PLATEAU and X_va is not None: # use early stopping\n",
    "        epochs = EPOCHS\n",
    "        lr = ReduceLROnPlateau(monitor=\"val_loss\", factor=0.7, \n",
    "                               patience=4, verbose=VERBOSE)\n",
    "        es = EarlyStopping(monitor=\"val_loss\",\n",
    "                           patience=12, \n",
    "                           verbose=1,\n",
    "                           mode=\"min\", \n",
    "                           restore_best_weights=True)\n",
    "        callbacks = [lr, es, tf.keras.callbacks.TerminateOnNaN()]\n",
    "\n",
    "    else: # use cosine learning rate decay rather than early stopping\n",
    "        epochs = EPOCHS_COSINEDECAY\n",
    "        lr_end=0.0002\n",
    "        def cosine_decay(epoch):\n",
    "            if epochs > 1:\n",
    "                w = (1 + math.cos(epoch / (epochs-1) * math.pi)) / 2\n",
    "            else:\n",
    "                w = 1\n",
    "            return w * lr_start + (1 - w) * lr_end\n",
    "\n",
    "        lr = LearningRateScheduler(cosine_decay, verbose=0)\n",
    "        callbacks = [lr, tf.keras.callbacks.TerminateOnNaN()]\n",
    "        \n",
    "    # Construct and compile the model\n",
    "    model = my_model()\n",
    "    model.compile(optimizer=tf.keras.optimizers.Adam(learning_rate=lr_start),\n",
    "                  #metrics='acc',\n",
    "                  loss=tf.keras.losses.BinaryCrossentropy())\n",
    "    #model.compile(optimizer=tf.keras.optimizers.SGD(), loss='mse')\n",
    "\n",
    "    # Train the model\n",
    "    history = model.fit(X_tr, y_tr, \n",
    "                        validation_data=validation_data, \n",
    "                        epochs=epochs,\n",
    "                        verbose=VERBOSE,\n",
    "                        batch_size=BATCH_SIZE,\n",
    "                        shuffle=True,\n",
    "                        callbacks=callbacks)\n",
    "\n",
    "    history_list.append(history.history)\n",
    "    callbacks, es, lr, history = None, None, None, None\n",
    "    print(f\"Training loss:            {history_list[-1]['loss'][-1]:.3f}\")\n",
    "    \n",
    "    if X_va is not None:\n",
    "        # Inference for validation\n",
    "        y_va_pred = model.predict(X_va)\n",
    "        #oof_list[run][val_idx] = y_va_pred\n",
    "        \n",
    "        # Evaluation: Execution time and AUC\n",
    "        score = roc_auc_score(y_va, y_va_pred)\n",
    "        print(f\"Fold {run}.{fold} | {str(datetime.datetime.now() - start_time)[-12:-7]}\"\n",
    "              f\" | AUC: {score:.3f}\")\n",
    "        score_list.append(score)\n",
    "        \n",
    "        if DIAGRAMS and fold == 0 and run == 0:\n",
    "            # Plot training history\n",
    "            plot_history(history_list[-1], title=f\"Validation AUC = {score:.5f}\",\n",
    "                         plot_lr=True, n_epochs=110)\n",
    "\n",
    "            # Plot y_true vs. y_pred\n",
    "            plt.figure(figsize=(10, 4))\n",
    "            plt.hist(y_va_pred[y_va == 0], bins=np.linspace(0, 1, 21), alpha=0.5, density=True)\n",
    "            plt.hist(y_va_pred[y_va == 1], bins=np.linspace(0, 1, 21), alpha=0.5, density=True)\n",
    "            plt.xlabel('y_pred')\n",
    "            plt.ylabel('density')\n",
    "            plt.title('OOF Predictions')\n",
    "            plt.show()\n",
    "\n",
    "    return model\n",
    "\n",
    "\n",
    "print(f\"{len(features)} features\")\n",
    "history_list = []\n",
    "score_list = []\n",
    "kf = KFold(n_splits=5)\n",
    "for fold, (idx_tr, idx_va) in enumerate(kf.split(train)):\n",
    "    X_tr = train.iloc[idx_tr][features]\n",
    "    X_va = train.iloc[idx_va][features]\n",
    "    y_tr = train.iloc[idx_tr].target\n",
    "    y_va = train.iloc[idx_va].target\n",
    "    \n",
    "    fit_model(X_tr, y_tr, X_va, y_va)\n",
    "    break # we only need the first fold\n",
    "\n",
    "print(f\"OOF AUC:                       {np.mean(score_list):.3f}\")"
   ]
  },
  {
   "cell_type": "markdown",
   "id": "f59127f9",
   "metadata": {
    "papermill": {
     "duration": 0.018956,
     "end_time": "2022-05-01T09:37:27.296673",
     "exception": false,
     "start_time": "2022-05-01T09:37:27.277717",
     "status": "completed"
    },
    "tags": []
   },
   "source": [
    "# Three diagrams for model evaluation\n",
    "\n",
    "We plot the ROC curve just because it looks nice. The area under the red curve is the score of our model.\n"
   ]
  },
  {
   "cell_type": "code",
   "execution_count": 5,
   "id": "5aaf7086",
   "metadata": {
    "_kg_hide-input": true,
    "execution": {
     "iopub.execute_input": "2022-05-01T09:37:27.336356Z",
     "iopub.status.busy": "2022-05-01T09:37:27.336078Z",
     "iopub.status.idle": "2022-05-01T09:37:27.786945Z",
     "shell.execute_reply": "2022-05-01T09:37:27.786105Z"
    },
    "papermill": {
     "duration": 0.473429,
     "end_time": "2022-05-01T09:37:27.789020",
     "exception": false,
     "start_time": "2022-05-01T09:37:27.315591",
     "status": "completed"
    },
    "tags": []
   },
   "outputs": [
    {
     "data": {
      "image/png": "[encoded data removed]",
      "text/plain": [
       "<Figure size 576x576 with 1 Axes>"
      ]
     },
     "metadata": {
      "needs_background": "light"
     },
     "output_type": "display_data"
    }
   ],
   "source": [
    "# Plot the roc curve for the last fold\n",
    "def plot_roc_curve(y_va, y_va_pred):\n",
    "    plt.figure(figsize=(8, 8))\n",
    "    fpr, tpr, _ = roc_curve(y_va, y_va_pred)\n",
    "    plt.plot(fpr, tpr, color='r', lw=2)\n",
    "    plt.plot([0, 1], [0, 1], color=\"navy\", lw=1, linestyle=\"--\")\n",
    "    plt.gca().set_aspect('equal')\n",
    "    plt.xlim([0.0, 1.0])\n",
    "    plt.ylim([0.0, 1.0])\n",
    "    plt.xlabel(\"False Positive Rate\")\n",
    "    plt.ylabel(\"True Positive Rate\")\n",
    "    plt.title(\"Receiver operating characteristic\")\n",
    "    plt.show()\n",
    "\n",
    "plot_roc_curve(y_va, y_va_pred)"
   ]
  },
  {
   "cell_type": "markdown",
   "id": "43dc5f1d",
   "metadata": {
    "papermill": {
     "duration": 0.020196,
     "end_time": "2022-05-01T09:37:27.829703",
     "exception": false,
     "start_time": "2022-05-01T09:37:27.809507",
     "status": "completed"
    },
    "tags": []
   },
   "source": [
    "Second, we plot a histogram of the out-of-fold predictions. Many predictions are near 0.0 or near 1.0; this means that in many cases the classifier's predictions have high confidence:"
   ]
  },
  {
   "cell_type": "code",
   "execution_count": 6,
   "id": "8c288491",
   "metadata": {
    "_kg_hide-input": true,
    "execution": {
     "iopub.execute_input": "2022-05-01T09:37:27.871904Z",
     "iopub.status.busy": "2022-05-01T09:37:27.871139Z",
     "iopub.status.idle": "2022-05-01T09:37:28.103959Z",
     "shell.execute_reply": "2022-05-01T09:37:28.103098Z"
    },
    "papermill": {
     "duration": 0.256143,
     "end_time": "2022-05-01T09:37:28.105981",
     "exception": false,
     "start_time": "2022-05-01T09:37:27.849838",
     "status": "completed"
    },
    "tags": []
   },
   "outputs": [
    {
     "data": {
      "image/png": "[encoded data removed]",
      "text/plain": [
       "<Figure size 864x288 with 1 Axes>"
      ]
     },
     "metadata": {
      "needs_background": "light"
     },
     "output_type": "display_data"
    }
   ],
   "source": [
    "plt.figure(figsize=(12, 4))\n",
    "plt.hist(y_va_pred, bins=25, density=True)\n",
    "plt.title('Histogram of the oof predictions')\n",
    "plt.show()\n"
   ]
  },
  {
   "cell_type": "markdown",
   "id": "8e260c72",
   "metadata": {
    "papermill": {
     "duration": 0.020935,
     "end_time": "2022-05-01T09:37:28.148538",
     "exception": false,
     "start_time": "2022-05-01T09:37:28.127603",
     "status": "completed"
    },
    "tags": []
   },
   "source": [
    "Finally, we plot the calibration curve. The curve here is almost a straight line, which means that the predicted probabilities are almost exact: "
   ]
  },
  {
   "cell_type": "code",
   "execution_count": 7,
   "id": "dac6872c",
   "metadata": {
    "_kg_hide-input": true,
    "execution": {
     "iopub.execute_input": "2022-05-01T09:37:28.192145Z",
     "iopub.status.busy": "2022-05-01T09:37:28.191872Z",
     "iopub.status.idle": "2022-05-01T09:37:28.441860Z",
     "shell.execute_reply": "2022-05-01T09:37:28.441077Z"
    },
    "papermill": {
     "duration": 0.274321,
     "end_time": "2022-05-01T09:37:28.444123",
     "exception": false,
     "start_time": "2022-05-01T09:37:28.169802",
     "status": "completed"
    },
    "tags": []
   },
   "outputs": [
    {
     "data": {
      "image/png": "[encoded data removed]",
      "text/plain": [
       "<Figure size 864x288 with 1 Axes>"
      ]
     },
     "metadata": {
      "needs_background": "light"
     },
     "output_type": "display_data"
    }
   ],
   "source": [
    "plt.figure(figsize=(12, 4))\n",
    "CalibrationDisplay.from_predictions(y_va, y_va_pred, n_bins=20, strategy='quantile', ax=plt.gca())\n",
    "plt.title('Probability calibration')\n",
    "plt.show()"
   ]
  },
  {
   "cell_type": "markdown",
   "id": "838c5882",
   "metadata": {
    "papermill": {
     "duration": 0.02255,
     "end_time": "2022-05-01T09:37:28.488851",
     "exception": false,
     "start_time": "2022-05-01T09:37:28.466301",
     "status": "completed"
    },
    "tags": []
   },
   "source": [
    "# Submission\n",
    "\n",
    "For the submission, we re-train the model on the complete training data with several different seeds and then submit the mean of the predicted ranks."
   ]
  },
  {
   "cell_type": "code",
   "execution_count": 8,
   "id": "e5eb83c3",
   "metadata": {
    "execution": {
     "iopub.execute_input": "2022-05-01T09:37:28.538145Z",
     "iopub.status.busy": "2022-05-01T09:37:28.537857Z",
     "iopub.status.idle": "2022-05-01T10:02:20.135954Z",
     "shell.execute_reply": "2022-05-01T10:02:20.135137Z"
    },
    "papermill": {
     "duration": 1496.180624,
     "end_time": "2022-05-01T10:02:24.694101",
     "exception": false,
     "start_time": "2022-05-01T09:37:28.513477",
     "status": "completed"
    },
    "tags": []
   },
   "outputs": [
    {
     "name": "stdout",
     "output_type": "stream",
     "text": [
      "41 features\n",
      "Training loss:            0.099\n",
      "28125/28125 [==============================] - 64s 2ms/step - loss: 0.1107\n",
      " 0 [649658.5 626451.5  20435.  ... 335231.  271718.   23421. ]\n",
      "Training loss:            0.089\n",
      "28125/28125 [==============================] - 65s 2ms/step - loss: 0.0992\n",
      " 1 [530521.5 572408.    7988.  ... 378659.  234598.    5127. ]\n",
      "Training loss:            0.088\n",
      "28125/28125 [==============================] - 64s 2ms/step - loss: 0.1013\n",
      " 2 [647727.5 622624.5  45829.  ... 354532.  264805.   31192. ]\n",
      "Training loss:            0.083\n",
      "28125/28125 [==============================] - 66s 2ms/step - loss: 0.0947\n",
      " 3 [635502.5 566327.   54564.  ... 342088.   39121.    8367. ]\n",
      "Training loss:            0.084\n",
      "28125/28125 [==============================] - 66s 2ms/step - loss: 0.0958\n",
      " 4 [594564.5 644636.5  10223.  ... 342373.  280114.    1798. ]\n",
      "Training loss:            0.089\n",
      "28125/28125 [==============================] - 66s 2ms/step - loss: 0.1010\n",
      " 5 [631367. 601117.  27020. ... 301155. 287263.  10210.]\n",
      "Training loss:            0.089\n",
      "28125/28125 [==============================] - 65s 2ms/step - loss: 0.1007\n",
      " 6 [598089. 561138. 200733. ... 317475. 163805. 165891.]\n",
      "Training loss:            0.084\n",
      "28125/28125 [==============================] - 64s 2ms/step - loss: 0.0953\n",
      " 7 [592853.5 619939.5  18926.  ... 330905.  262756.   88832. ]\n",
      "Training loss:            0.084\n",
      "28125/28125 [==============================] - 65s 2ms/step - loss: 0.0982\n",
      " 8 [608078. 614395.  74806. ... 305671. 252933.  13784.]\n",
      "Training loss:            0.087\n",
      "28125/28125 [==============================] - 65s 2ms/step - loss: 0.0992\n",
      " 9 [581432.  605532.5  16766.  ... 344673.  264245.   26299. ]\n",
      "\n"
     ]
    },
    {
     "data": {
      "text/html": [
       "<div>\n",
       "<style scoped>\n",
       "    .dataframe tbody tr th:only-of-type {\n",
       "        vertical-align: middle;\n",
       "    }\n",
       "\n",
       "    .dataframe tbody tr th {\n",
       "        vertical-align: top;\n",
       "    }\n",
       "\n",
       "    .dataframe thead th {\n",
       "        text-align: right;\n",
       "    }\n",
       "</style>\n",
       "<table border=\"1\" class=\"dataframe\">\n",
       "  <thead>\n",
       "    <tr style=\"text-align: right;\">\n",
       "      <th></th>\n",
       "      <th>id</th>\n",
       "      <th>target</th>\n",
       "    </tr>\n",
       "  </thead>\n",
       "  <tbody>\n",
       "    <tr>\n",
       "      <th>0</th>\n",
       "      <td>900000</td>\n",
       "      <td>606979.40</td>\n",
       "    </tr>\n",
       "    <tr>\n",
       "      <th>1</th>\n",
       "      <td>900001</td>\n",
       "      <td>603456.95</td>\n",
       "    </tr>\n",
       "    <tr>\n",
       "      <th>2</th>\n",
       "      <td>900002</td>\n",
       "      <td>47729.00</td>\n",
       "    </tr>\n",
       "    <tr>\n",
       "      <th>3</th>\n",
       "      <td>900003</td>\n",
       "      <td>83945.20</td>\n",
       "    </tr>\n",
       "    <tr>\n",
       "      <th>4</th>\n",
       "      <td>900004</td>\n",
       "      <td>517364.75</td>\n",
       "    </tr>\n",
       "    <tr>\n",
       "      <th>...</th>\n",
       "      <td>...</td>\n",
       "      <td>...</td>\n",
       "    </tr>\n",
       "    <tr>\n",
       "      <th>699995</th>\n",
       "      <td>1599995</td>\n",
       "      <td>367678.30</td>\n",
       "    </tr>\n",
       "    <tr>\n",
       "      <th>699996</th>\n",
       "      <td>1599996</td>\n",
       "      <td>579432.95</td>\n",
       "    </tr>\n",
       "    <tr>\n",
       "      <th>699997</th>\n",
       "      <td>1599997</td>\n",
       "      <td>335276.20</td>\n",
       "    </tr>\n",
       "    <tr>\n",
       "      <th>699998</th>\n",
       "      <td>1599998</td>\n",
       "      <td>232135.80</td>\n",
       "    </tr>\n",
       "    <tr>\n",
       "      <th>699999</th>\n",
       "      <td>1599999</td>\n",
       "      <td>37492.10</td>\n",
       "    </tr>\n",
       "  </tbody>\n",
       "</table>\n",
       "<p>700000 rows × 2 columns</p>\n",
       "</div>"
      ],
      "text/plain": [
       "             id     target\n",
       "0        900000  606979.40\n",
       "1        900001  603456.95\n",
       "2        900002   47729.00\n",
       "3        900003   83945.20\n",
       "4        900004  517364.75\n",
       "...         ...        ...\n",
       "699995  1599995  367678.30\n",
       "699996  1599996  579432.95\n",
       "699997  1599997  335276.20\n",
       "699998  1599998  232135.80\n",
       "699999  1599999   37492.10\n",
       "\n",
       "[700000 rows x 2 columns]"
      ]
     },
     "execution_count": 8,
     "metadata": {},
     "output_type": "execute_result"
    }
   ],
   "source": [
    "# Create submission\n",
    "print(f\"{len(features)} features\")\n",
    "\n",
    "X_tr = train[features]\n",
    "y_tr = train.target\n",
    "\n",
    "pred_list = []\n",
    "for seed in range(10):\n",
    "    model = fit_model(X_tr, y_tr, run=seed)\n",
    "    model.fit(X_tr.values, y_tr)\n",
    "    pred_list.append(scipy.stats.rankdata(model.predict(test[features].values, batch_size=BATCH_SIZE)))\n",
    "    print(f\"{seed:2}\", pred_list[-1])\n",
    "print()\n",
    "submission = test[['id']].copy()\n",
    "submission['target'] = np.array(pred_list).mean(axis=0)\n",
    "submission.to_csv('submission.csv', index=False)\n",
    "submission"
   ]
  },
  {
   "cell_type": "markdown",
   "id": "5bff0681",
   "metadata": {
    "papermill": {
     "duration": 4.39763,
     "end_time": "2022-05-01T10:02:33.770110",
     "exception": false,
     "start_time": "2022-05-01T10:02:29.372480",
     "status": "completed"
    },
    "tags": []
   },
   "source": [
    "# What next?\n",
    "\n",
    "Now it's your turn! Try to improve this model by\n",
    "- Changing the network architecture \n",
    "- Engineering more features\n",
    "- Tuning hyperparameters, optimizers, learning rate schedules and so on...\n",
    "\n",
    "Or, if you prefer gradient boosting, you can have a look at the [Gradient Boosting Quickstart](https://www.kaggle.com/ambrosm/tpsmay22-gradient-boosting-quickstart).\n"
   ]
  }
 ],
 "metadata": {
  "kernelspec": {
   "display_name": "Python 3",
   "language": "python",
   "name": "python3"
  },
  "language_info": {
   "codemirror_mode": {
    "name": "ipython",
    "version": 3
   },
   "file_extension": ".py",
   "mimetype": "text/x-python",
   "name": "python",
   "nbconvert_exporter": "python",
   "pygments_lexer": "ipython3",
   "version": "3.7.12"
  },
  "papermill": {
   "default_parameters": {},
   "duration": 1656.39046,
   "end_time": "2022-05-01T10:02:41.718359",
   "environment_variables": {},
   "exception": null,
   "input_path": "__notebook__.ipynb",
   "output_path": "__notebook__.ipynb",
   "parameters": {},
   "start_time": "2022-05-01T09:35:05.327899",
   "version": "2.3.4"
  }
 },
 "nbformat": 4,
 "nbformat_minor": 5
}
