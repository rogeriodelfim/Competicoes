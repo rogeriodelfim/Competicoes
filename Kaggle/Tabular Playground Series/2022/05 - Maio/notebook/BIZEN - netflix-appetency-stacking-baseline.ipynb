{
 "cells": [
  {
   "cell_type": "markdown",
   "id": "f7d2add8",
   "metadata": {
    "papermill": {
     "duration": 0.031421,
     "end_time": "2022-02-28T12:15:40.064907",
     "exception": false,
     "start_time": "2022-02-28T12:15:40.033486",
     "status": "completed"
    },
    "tags": []
   },
   "source": [
    "# Libraries"
   ]
  },
  {
   "cell_type": "code",
   "execution_count": 1,
   "id": "d5796394",
   "metadata": {
    "_kg_hide-input": false,
    "execution": {
     "iopub.execute_input": "2022-02-28T12:15:40.142337Z",
     "iopub.status.busy": "2022-02-28T12:15:40.140741Z",
     "iopub.status.idle": "2022-02-28T12:15:44.494918Z",
     "shell.execute_reply": "2022-02-28T12:15:44.494364Z",
     "shell.execute_reply.started": "2022-02-18T05:00:34.886262Z"
    },
    "papermill": {
     "duration": 4.398781,
     "end_time": "2022-02-28T12:15:44.495093",
     "exception": false,
     "start_time": "2022-02-28T12:15:40.096312",
     "status": "completed"
    },
    "tags": []
   },
   "outputs": [
    {
     "data": {
      "text/html": [
       "<style type='text/css'>\n",
       ".datatable table.frame { margin-bottom: 0; }\n",
       ".datatable table.frame thead { border-bottom: none; }\n",
       ".datatable table.frame tr.coltypes td {  color: #FFFFFF;  line-height: 6px;  padding: 0 0.5em;}\n",
       ".datatable .bool    { background: #DDDD99; }\n",
       ".datatable .object  { background: #565656; }\n",
       ".datatable .int     { background: #5D9E5D; }\n",
       ".datatable .float   { background: #4040CC; }\n",
       ".datatable .str     { background: #CC4040; }\n",
       ".datatable .time    { background: #40CC40; }\n",
       ".datatable .row_index {  background: var(--jp-border-color3);  border-right: 1px solid var(--jp-border-color0);  color: var(--jp-ui-font-color3);  font-size: 9px;}\n",
       ".datatable .frame tbody td { text-align: left; }\n",
       ".datatable .frame tr.coltypes .row_index {  background: var(--jp-border-color0);}\n",
       ".datatable th:nth-child(2) { padding-left: 12px; }\n",
       ".datatable .hellipsis {  color: var(--jp-cell-editor-border-color);}\n",
       ".datatable .vellipsis {  background: var(--jp-layout-color0);  color: var(--jp-cell-editor-border-color);}\n",
       ".datatable .na {  color: var(--jp-cell-editor-border-color);  font-size: 80%;}\n",
       ".datatable .sp {  opacity: 0.25;}\n",
       ".datatable .footer { font-size: 9px; }\n",
       ".datatable .frame_dimensions {  background: var(--jp-border-color3);  border-top: 1px solid var(--jp-border-color0);  color: var(--jp-ui-font-color3);  display: inline-block;  opacity: 0.6;  padding: 1px 10px 1px 5px;}\n",
       "</style>\n"
      ],
      "text/plain": [
       "<IPython.core.display.HTML object>"
      ]
     },
     "metadata": {},
     "output_type": "display_data"
    }
   ],
   "source": [
    "import pandas as pd\n",
    "import numpy as np\n",
    "import random\n",
    "import time\n",
    "import sys\n",
    "import os\n",
    "import gc\n",
    "\n",
    "\n",
    "from tqdm.notebook import tqdm\n",
    "from itertools import cycle\n",
    "\n",
    "from sklearn.preprocessing import LabelEncoder, MinMaxScaler\n",
    "from sklearn.model_selection import RepeatedStratifiedKFold\n",
    "from sklearn.metrics import roc_auc_score\n",
    "\n",
    "from sklearn.linear_model import RidgeCV\n",
    "import lightgbm as lgb\n",
    "import xgboost as xgb\n",
    "import catboost as ctb\n",
    "\n",
    "import shap\n",
    "\n",
    "import matplotlib.pyplot as plt\n",
    "import seaborn as sns\n",
    "\n",
    "import warnings\n",
    "warnings.filterwarnings('ignore')"
   ]
  },
  {
   "cell_type": "markdown",
   "id": "925c6508",
   "metadata": {
    "papermill": {
     "duration": 0.030478,
     "end_time": "2022-02-28T12:15:44.557910",
     "exception": false,
     "start_time": "2022-02-28T12:15:44.527432",
     "status": "completed"
    },
    "tags": []
   },
   "source": [
    "# Parameters"
   ]
  },
  {
   "cell_type": "code",
   "execution_count": 2,
   "id": "cffd4803",
   "metadata": {
    "execution": {
     "iopub.execute_input": "2022-02-28T12:15:44.622921Z",
     "iopub.status.busy": "2022-02-28T12:15:44.621377Z",
     "iopub.status.idle": "2022-02-28T12:15:44.623516Z",
     "shell.execute_reply": "2022-02-28T12:15:44.623906Z",
     "shell.execute_reply.started": "2022-02-18T05:00:44.21723Z"
    },
    "papermill": {
     "duration": 0.036424,
     "end_time": "2022-02-28T12:15:44.624052",
     "exception": false,
     "start_time": "2022-02-28T12:15:44.587628",
     "status": "completed"
    },
    "tags": []
   },
   "outputs": [],
   "source": [
    "N_SPLITS = 10\n",
    "N_REPEATS = 5\n",
    "N_ESTIMATORS = 30000  # LightGBM, XGBoost, CatBoost\n",
    "EARLY_STOPPING_ROUNDS = 1000\n",
    "VERBOSE = False\n",
    "SEED = 42"
   ]
  },
  {
   "cell_type": "code",
   "execution_count": 3,
   "id": "1d35bd5d",
   "metadata": {
    "execution": {
     "iopub.execute_input": "2022-02-28T12:15:44.688089Z",
     "iopub.status.busy": "2022-02-28T12:15:44.687380Z",
     "iopub.status.idle": "2022-02-28T12:15:44.689765Z",
     "shell.execute_reply": "2022-02-28T12:15:44.689374Z",
     "shell.execute_reply.started": "2022-02-18T04:04:15.56515Z"
    },
    "papermill": {
     "duration": 0.035876,
     "end_time": "2022-02-28T12:15:44.689867",
     "exception": false,
     "start_time": "2022-02-28T12:15:44.653991",
     "status": "completed"
    },
    "tags": []
   },
   "outputs": [],
   "source": [
    "def seed_everything(seed=42):\n",
    "    random.seed(seed)\n",
    "    os.environ['PYTHONHASHSEED'] = str(seed)\n",
    "    np.random.seed(seed)\n",
    "\n",
    "seed_everything(SEED)"
   ]
  },
  {
   "cell_type": "markdown",
   "id": "dc445695",
   "metadata": {
    "papermill": {
     "duration": 0.031612,
     "end_time": "2022-02-28T12:15:44.751711",
     "exception": false,
     "start_time": "2022-02-28T12:15:44.720099",
     "status": "completed"
    },
    "tags": []
   },
   "source": [
    "# Data Loading"
   ]
  },
  {
   "cell_type": "code",
   "execution_count": 4,
   "id": "ddbf13f3",
   "metadata": {
    "execution": {
     "iopub.execute_input": "2022-02-28T12:15:44.818802Z",
     "iopub.status.busy": "2022-02-28T12:15:44.818146Z",
     "iopub.status.idle": "2022-02-28T12:15:51.281701Z",
     "shell.execute_reply": "2022-02-28T12:15:51.281194Z",
     "shell.execute_reply.started": "2022-02-18T04:04:15.573714Z"
    },
    "papermill": {
     "duration": 6.49917,
     "end_time": "2022-02-28T12:15:51.281844",
     "exception": false,
     "start_time": "2022-02-28T12:15:44.782674",
     "status": "completed"
    },
    "tags": []
   },
   "outputs": [
    {
     "name": "stdout",
     "output_type": "stream",
     "text": [
      "CPU times: user 4.6 s, sys: 495 ms, total: 5.09 s\n",
      "Wall time: 6.46 s\n"
     ]
    },
    {
     "data": {
      "text/plain": [
       "((70000, 509), (30000, 508), (30000, 2))"
      ]
     },
     "execution_count": 4,
     "metadata": {},
     "output_type": "execute_result"
    }
   ],
   "source": [
    "%%time\n",
    "train = pd.read_csv(\"../input/netflix-appetency/train.csv\")\n",
    "test = pd.read_csv(\"../input/netflix-appetency/test.csv\")\n",
    "submission = pd.read_csv(\"../input/netflix-appetency/sample_submission.csv\")\n",
    "\n",
    "train.shape, test.shape, submission.shape"
   ]
  },
  {
   "cell_type": "markdown",
   "id": "e1995235",
   "metadata": {
    "papermill": {
     "duration": 0.030542,
     "end_time": "2022-02-28T12:15:51.344803",
     "exception": false,
     "start_time": "2022-02-28T12:15:51.314261",
     "status": "completed"
    },
    "tags": []
   },
   "source": [
    "# Preprocessing datasets"
   ]
  },
  {
   "cell_type": "markdown",
   "id": "9ac997d1",
   "metadata": {
    "papermill": {
     "duration": 0.030475,
     "end_time": "2022-02-28T12:15:51.405810",
     "exception": false,
     "start_time": "2022-02-28T12:15:51.375335",
     "status": "completed"
    },
    "tags": []
   },
   "source": [
    "###  - Drop features\n",
    "- Drop null value features\n",
    "- Drop single categorical features\n",
    "- Drop single value features"
   ]
  },
  {
   "cell_type": "code",
   "execution_count": 5,
   "id": "95cf51d1",
   "metadata": {
    "execution": {
     "iopub.execute_input": "2022-02-28T12:15:51.617144Z",
     "iopub.status.busy": "2022-02-28T12:15:51.562410Z",
     "iopub.status.idle": "2022-02-28T12:15:51.658635Z",
     "shell.execute_reply": "2022-02-28T12:15:51.659061Z",
     "shell.execute_reply.started": "2022-02-18T04:04:20.570544Z"
    },
    "papermill": {
     "duration": 0.222901,
     "end_time": "2022-02-28T12:15:51.659205",
     "exception": false,
     "start_time": "2022-02-28T12:15:51.436304",
     "status": "completed"
    },
    "tags": []
   },
   "outputs": [
    {
     "data": {
      "text/plain": [
       "((70000, 445), (30000, 444))"
      ]
     },
     "execution_count": 5,
     "metadata": {},
     "output_type": "execute_result"
    }
   ],
   "source": [
    "# all null value features\n",
    "drop_columns = [\n",
    "    'feature_193', 'feature_196', 'feature_197', 'feature_198',\n",
    "    'feature_83',\n",
    "]\n",
    "# single catgorical features\n",
    "drop_columns.extend([\n",
    "    'feature_190', 'feature_55', 'feature_187', 'feature_188',\n",
    "    'feature_249', 'feature_248',\n",
    "])\n",
    "# single value features\n",
    "drop_columns.extend([\n",
    "       'feature_461', 'feature_474', 'feature_472', 'feature_409',\n",
    "       'feature_469', 'feature_467', 'feature_411', 'feature_465',\n",
    "       'feature_312', 'feature_463', 'feature_313', 'feature_375',\n",
    "       'feature_427', 'feature_412', 'feature_413', 'feature_455',\n",
    "       'feature_453', 'feature_419', 'feature_451', 'feature_100',\n",
    "       'feature_449', 'feature_421', 'feature_445', 'feature_433',\n",
    "       'feature_432', 'feature_459', 'feature_476', 'feature_405',\n",
    "       'feature_425', 'feature_498', 'feature_227', 'feature_228',\n",
    "       'feature_149', 'feature_495', 'feature_385', 'feature_493',\n",
    "       'feature_478', 'feature_491', 'feature_389', 'feature_489',\n",
    "       'feature_252', 'feature_487', 'feature_502', 'feature_505',\n",
    "       'feature_484', 'feature_395', 'feature_482', 'feature_377',\n",
    "       'feature_358', 'feature_480', 'feature_397', 'feature_357',\n",
    "       'feature_500'\n",
    "])\n",
    "\n",
    "train = train.drop(columns=drop_columns)\n",
    "test = test.drop(columns=drop_columns)\n",
    "\n",
    "train.shape, test.shape"
   ]
  },
  {
   "cell_type": "markdown",
   "id": "54b0748c",
   "metadata": {
    "papermill": {
     "duration": 0.030749,
     "end_time": "2022-02-28T12:15:51.721026",
     "exception": false,
     "start_time": "2022-02-28T12:15:51.690277",
     "status": "completed"
    },
    "tags": []
   },
   "source": [
    "### - Convert datetime columns"
   ]
  },
  {
   "cell_type": "code",
   "execution_count": 6,
   "id": "216dd814",
   "metadata": {
    "execution": {
     "iopub.execute_input": "2022-02-28T12:15:51.889433Z",
     "iopub.status.busy": "2022-02-28T12:15:51.784468Z",
     "iopub.status.idle": "2022-02-28T12:15:53.648656Z",
     "shell.execute_reply": "2022-02-28T12:15:53.647810Z",
     "shell.execute_reply.started": "2022-02-18T04:04:20.730071Z"
    },
    "papermill": {
     "duration": 1.897022,
     "end_time": "2022-02-28T12:15:53.648800",
     "exception": false,
     "start_time": "2022-02-28T12:15:51.751778",
     "status": "completed"
    },
    "tags": []
   },
   "outputs": [],
   "source": [
    "date_columns = [\n",
    "    'feature_191', 'feature_192', 'feature_194', 'feature_195',\n",
    "    'feature_199', 'feature_200', 'feature_201', 'feature_202',\n",
    "    'feature_203', 'feature_204'\n",
    "]\n",
    "\n",
    "for date_column in date_columns:\n",
    "    train[date_column] = pd.to_datetime(train[date_column]).dt.year.fillna(-1).astype(int)\n",
    "    test[date_column] = pd.to_datetime(test[date_column]).dt.year.fillna(-1).astype(int)"
   ]
  },
  {
   "cell_type": "markdown",
   "id": "357a0902",
   "metadata": {
    "papermill": {
     "duration": 0.031253,
     "end_time": "2022-02-28T12:15:53.711845",
     "exception": false,
     "start_time": "2022-02-28T12:15:53.680592",
     "status": "completed"
    },
    "tags": []
   },
   "source": [
    "### - Categorical Columns"
   ]
  },
  {
   "cell_type": "code",
   "execution_count": 7,
   "id": "0110fcef",
   "metadata": {
    "execution": {
     "iopub.execute_input": "2022-02-28T12:15:53.782419Z",
     "iopub.status.busy": "2022-02-28T12:15:53.781303Z",
     "iopub.status.idle": "2022-02-28T12:15:53.983962Z",
     "shell.execute_reply": "2022-02-28T12:15:53.984435Z",
     "shell.execute_reply.started": "2022-02-18T04:04:22.248457Z"
    },
    "papermill": {
     "duration": 0.241595,
     "end_time": "2022-02-28T12:15:53.984585",
     "exception": false,
     "start_time": "2022-02-28T12:15:53.742990",
     "status": "completed"
    },
    "tags": []
   },
   "outputs": [
    {
     "data": {
      "text/html": [
       "<div>\n",
       "<style scoped>\n",
       "    .dataframe tbody tr th:only-of-type {\n",
       "        vertical-align: middle;\n",
       "    }\n",
       "\n",
       "    .dataframe tbody tr th {\n",
       "        vertical-align: top;\n",
       "    }\n",
       "\n",
       "    .dataframe thead th {\n",
       "        text-align: right;\n",
       "    }\n",
       "</style>\n",
       "<table border=\"1\" class=\"dataframe\">\n",
       "  <thead>\n",
       "    <tr style=\"text-align: right;\">\n",
       "      <th></th>\n",
       "      <th>feature_0</th>\n",
       "      <th>feature_1</th>\n",
       "      <th>feature_2</th>\n",
       "      <th>feature_3</th>\n",
       "      <th>feature_4</th>\n",
       "      <th>feature_16</th>\n",
       "      <th>feature_17</th>\n",
       "      <th>feature_18</th>\n",
       "      <th>feature_19</th>\n",
       "      <th>feature_20</th>\n",
       "      <th>...</th>\n",
       "      <th>feature_288</th>\n",
       "      <th>feature_289</th>\n",
       "      <th>feature_290</th>\n",
       "      <th>feature_291</th>\n",
       "      <th>feature_292</th>\n",
       "      <th>feature_293</th>\n",
       "      <th>feature_336</th>\n",
       "      <th>feature_337</th>\n",
       "      <th>feature_338</th>\n",
       "      <th>feature_371</th>\n",
       "    </tr>\n",
       "  </thead>\n",
       "  <tbody>\n",
       "    <tr>\n",
       "      <th>0</th>\n",
       "      <td>C0</td>\n",
       "      <td>C0</td>\n",
       "      <td>C1</td>\n",
       "      <td>C5</td>\n",
       "      <td>C11</td>\n",
       "      <td>C0</td>\n",
       "      <td>C60</td>\n",
       "      <td>C17795</td>\n",
       "      <td>C413</td>\n",
       "      <td>C3620</td>\n",
       "      <td>...</td>\n",
       "      <td>C130</td>\n",
       "      <td>C46</td>\n",
       "      <td>C22</td>\n",
       "      <td>C10</td>\n",
       "      <td>C7</td>\n",
       "      <td>C6</td>\n",
       "      <td>C0</td>\n",
       "      <td>C0</td>\n",
       "      <td>C0</td>\n",
       "      <td>C0</td>\n",
       "    </tr>\n",
       "    <tr>\n",
       "      <th>1</th>\n",
       "      <td>C0</td>\n",
       "      <td>C0</td>\n",
       "      <td>C3</td>\n",
       "      <td>C5</td>\n",
       "      <td>C1</td>\n",
       "      <td>C2</td>\n",
       "      <td>C50</td>\n",
       "      <td>C14050</td>\n",
       "      <td>C413</td>\n",
       "      <td>C2819</td>\n",
       "      <td>...</td>\n",
       "      <td>C105</td>\n",
       "      <td>C36</td>\n",
       "      <td>C18</td>\n",
       "      <td>C6</td>\n",
       "      <td>C3</td>\n",
       "      <td>C2</td>\n",
       "      <td>C0</td>\n",
       "      <td>C0</td>\n",
       "      <td>C0</td>\n",
       "      <td>C0</td>\n",
       "    </tr>\n",
       "    <tr>\n",
       "      <th>2</th>\n",
       "      <td>C0</td>\n",
       "      <td>C0</td>\n",
       "      <td>C3</td>\n",
       "      <td>C5</td>\n",
       "      <td>C2</td>\n",
       "      <td>C1</td>\n",
       "      <td>C76</td>\n",
       "      <td>C23471</td>\n",
       "      <td>C413</td>\n",
       "      <td>C4794</td>\n",
       "      <td>...</td>\n",
       "      <td>C105</td>\n",
       "      <td>C36</td>\n",
       "      <td>C18</td>\n",
       "      <td>C6</td>\n",
       "      <td>C3</td>\n",
       "      <td>C2</td>\n",
       "      <td>C0</td>\n",
       "      <td>C0</td>\n",
       "      <td>C0</td>\n",
       "      <td>C0</td>\n",
       "    </tr>\n",
       "    <tr>\n",
       "      <th>3</th>\n",
       "      <td>C0</td>\n",
       "      <td>C0</td>\n",
       "      <td>C1</td>\n",
       "      <td>C5</td>\n",
       "      <td>C1</td>\n",
       "      <td>C0</td>\n",
       "      <td>C58</td>\n",
       "      <td>C16929</td>\n",
       "      <td>C413</td>\n",
       "      <td>C3344</td>\n",
       "      <td>...</td>\n",
       "      <td>C83</td>\n",
       "      <td>C28</td>\n",
       "      <td>C13</td>\n",
       "      <td>C2</td>\n",
       "      <td>C1</td>\n",
       "      <td>C0</td>\n",
       "      <td>C0</td>\n",
       "      <td>C0</td>\n",
       "      <td>C0</td>\n",
       "      <td>C0</td>\n",
       "    </tr>\n",
       "    <tr>\n",
       "      <th>4</th>\n",
       "      <td>C0</td>\n",
       "      <td>C0</td>\n",
       "      <td>C3</td>\n",
       "      <td>C3</td>\n",
       "      <td>C11</td>\n",
       "      <td>C2</td>\n",
       "      <td>C48</td>\n",
       "      <td>C13941</td>\n",
       "      <td>C413</td>\n",
       "      <td>C2753</td>\n",
       "      <td>...</td>\n",
       "      <td>C93</td>\n",
       "      <td>C24</td>\n",
       "      <td>C11</td>\n",
       "      <td>C2</td>\n",
       "      <td>C1</td>\n",
       "      <td>C0</td>\n",
       "      <td>C0</td>\n",
       "      <td>C0</td>\n",
       "      <td>C0</td>\n",
       "      <td>C1</td>\n",
       "    </tr>\n",
       "  </tbody>\n",
       "</table>\n",
       "<p>5 rows × 76 columns</p>\n",
       "</div>"
      ],
      "text/plain": [
       "  feature_0 feature_1 feature_2 feature_3 feature_4 feature_16 feature_17  \\\n",
       "0        C0        C0        C1        C5       C11         C0        C60   \n",
       "1        C0        C0        C3        C5        C1         C2        C50   \n",
       "2        C0        C0        C3        C5        C2         C1        C76   \n",
       "3        C0        C0        C1        C5        C1         C0        C58   \n",
       "4        C0        C0        C3        C3       C11         C2        C48   \n",
       "\n",
       "  feature_18 feature_19 feature_20  ... feature_288 feature_289 feature_290  \\\n",
       "0     C17795       C413      C3620  ...        C130         C46         C22   \n",
       "1     C14050       C413      C2819  ...        C105         C36         C18   \n",
       "2     C23471       C413      C4794  ...        C105         C36         C18   \n",
       "3     C16929       C413      C3344  ...         C83         C28         C13   \n",
       "4     C13941       C413      C2753  ...         C93         C24         C11   \n",
       "\n",
       "  feature_291 feature_292 feature_293 feature_336 feature_337 feature_338  \\\n",
       "0         C10          C7          C6          C0          C0          C0   \n",
       "1          C6          C3          C2          C0          C0          C0   \n",
       "2          C6          C3          C2          C0          C0          C0   \n",
       "3          C2          C1          C0          C0          C0          C0   \n",
       "4          C2          C1          C0          C0          C0          C0   \n",
       "\n",
       "  feature_371  \n",
       "0          C0  \n",
       "1          C0  \n",
       "2          C0  \n",
       "3          C0  \n",
       "4          C1  \n",
       "\n",
       "[5 rows x 76 columns]"
      ]
     },
     "execution_count": 7,
     "metadata": {},
     "output_type": "execute_result"
    }
   ],
   "source": [
    "cat_features = [col for col in train.select_dtypes('object').columns]\n",
    "train[cat_features].head()"
   ]
  },
  {
   "cell_type": "markdown",
   "id": "5eac0f56",
   "metadata": {
    "papermill": {
     "duration": 0.031917,
     "end_time": "2022-02-28T12:15:54.050260",
     "exception": false,
     "start_time": "2022-02-28T12:15:54.018343",
     "status": "completed"
    },
    "tags": []
   },
   "source": [
    "### - Numarical Columns"
   ]
  },
  {
   "cell_type": "code",
   "execution_count": 8,
   "id": "41436dc2",
   "metadata": {
    "execution": {
     "iopub.execute_input": "2022-02-28T12:15:54.205599Z",
     "iopub.status.busy": "2022-02-28T12:15:54.204871Z",
     "iopub.status.idle": "2022-02-28T12:15:54.261568Z",
     "shell.execute_reply": "2022-02-28T12:15:54.262006Z",
     "shell.execute_reply.started": "2022-02-18T04:04:22.452979Z"
    },
    "papermill": {
     "duration": 0.179095,
     "end_time": "2022-02-28T12:15:54.262157",
     "exception": false,
     "start_time": "2022-02-28T12:15:54.083062",
     "status": "completed"
    },
    "tags": []
   },
   "outputs": [
    {
     "data": {
      "text/html": [
       "<div>\n",
       "<style scoped>\n",
       "    .dataframe tbody tr th:only-of-type {\n",
       "        vertical-align: middle;\n",
       "    }\n",
       "\n",
       "    .dataframe tbody tr th {\n",
       "        vertical-align: top;\n",
       "    }\n",
       "\n",
       "    .dataframe thead th {\n",
       "        text-align: right;\n",
       "    }\n",
       "</style>\n",
       "<table border=\"1\" class=\"dataframe\">\n",
       "  <thead>\n",
       "    <tr style=\"text-align: right;\">\n",
       "      <th></th>\n",
       "      <th>feature_5</th>\n",
       "      <th>feature_6</th>\n",
       "      <th>feature_7</th>\n",
       "      <th>feature_8</th>\n",
       "      <th>feature_9</th>\n",
       "      <th>feature_10</th>\n",
       "      <th>feature_11</th>\n",
       "      <th>feature_12</th>\n",
       "      <th>feature_13</th>\n",
       "      <th>feature_14</th>\n",
       "      <th>...</th>\n",
       "      <th>feature_490</th>\n",
       "      <th>feature_492</th>\n",
       "      <th>feature_494</th>\n",
       "      <th>feature_496</th>\n",
       "      <th>feature_497</th>\n",
       "      <th>feature_499</th>\n",
       "      <th>feature_501</th>\n",
       "      <th>feature_503</th>\n",
       "      <th>feature_504</th>\n",
       "      <th>feature_506</th>\n",
       "    </tr>\n",
       "  </thead>\n",
       "  <tbody>\n",
       "    <tr>\n",
       "      <th>0</th>\n",
       "      <td>37.56</td>\n",
       "      <td>54.756667</td>\n",
       "      <td>54.756667</td>\n",
       "      <td>35.83</td>\n",
       "      <td>39.136667</td>\n",
       "      <td>39.136667</td>\n",
       "      <td>2.5</td>\n",
       "      <td>3.026667</td>\n",
       "      <td>3.026667</td>\n",
       "      <td>0.0</td>\n",
       "      <td>...</td>\n",
       "      <td>0</td>\n",
       "      <td>0</td>\n",
       "      <td>0</td>\n",
       "      <td>0</td>\n",
       "      <td>0</td>\n",
       "      <td>0</td>\n",
       "      <td>0</td>\n",
       "      <td>0</td>\n",
       "      <td>0</td>\n",
       "      <td>0</td>\n",
       "    </tr>\n",
       "    <tr>\n",
       "      <th>1</th>\n",
       "      <td>NaN</td>\n",
       "      <td>NaN</td>\n",
       "      <td>NaN</td>\n",
       "      <td>NaN</td>\n",
       "      <td>NaN</td>\n",
       "      <td>NaN</td>\n",
       "      <td>NaN</td>\n",
       "      <td>NaN</td>\n",
       "      <td>NaN</td>\n",
       "      <td>0.0</td>\n",
       "      <td>...</td>\n",
       "      <td>0</td>\n",
       "      <td>0</td>\n",
       "      <td>0</td>\n",
       "      <td>0</td>\n",
       "      <td>0</td>\n",
       "      <td>0</td>\n",
       "      <td>0</td>\n",
       "      <td>0</td>\n",
       "      <td>0</td>\n",
       "      <td>0</td>\n",
       "    </tr>\n",
       "    <tr>\n",
       "      <th>2</th>\n",
       "      <td>NaN</td>\n",
       "      <td>NaN</td>\n",
       "      <td>NaN</td>\n",
       "      <td>NaN</td>\n",
       "      <td>NaN</td>\n",
       "      <td>NaN</td>\n",
       "      <td>NaN</td>\n",
       "      <td>NaN</td>\n",
       "      <td>NaN</td>\n",
       "      <td>0.0</td>\n",
       "      <td>...</td>\n",
       "      <td>0</td>\n",
       "      <td>0</td>\n",
       "      <td>0</td>\n",
       "      <td>0</td>\n",
       "      <td>0</td>\n",
       "      <td>0</td>\n",
       "      <td>0</td>\n",
       "      <td>0</td>\n",
       "      <td>0</td>\n",
       "      <td>0</td>\n",
       "    </tr>\n",
       "    <tr>\n",
       "      <th>3</th>\n",
       "      <td>NaN</td>\n",
       "      <td>NaN</td>\n",
       "      <td>NaN</td>\n",
       "      <td>NaN</td>\n",
       "      <td>NaN</td>\n",
       "      <td>NaN</td>\n",
       "      <td>NaN</td>\n",
       "      <td>NaN</td>\n",
       "      <td>NaN</td>\n",
       "      <td>0.0</td>\n",
       "      <td>...</td>\n",
       "      <td>0</td>\n",
       "      <td>0</td>\n",
       "      <td>0</td>\n",
       "      <td>0</td>\n",
       "      <td>0</td>\n",
       "      <td>0</td>\n",
       "      <td>0</td>\n",
       "      <td>0</td>\n",
       "      <td>0</td>\n",
       "      <td>0</td>\n",
       "    </tr>\n",
       "    <tr>\n",
       "      <th>4</th>\n",
       "      <td>37.48</td>\n",
       "      <td>37.480000</td>\n",
       "      <td>37.161333</td>\n",
       "      <td>35.75</td>\n",
       "      <td>35.750000</td>\n",
       "      <td>35.750000</td>\n",
       "      <td>2.5</td>\n",
       "      <td>2.500000</td>\n",
       "      <td>2.500000</td>\n",
       "      <td>0.0</td>\n",
       "      <td>...</td>\n",
       "      <td>0</td>\n",
       "      <td>0</td>\n",
       "      <td>0</td>\n",
       "      <td>0</td>\n",
       "      <td>0</td>\n",
       "      <td>0</td>\n",
       "      <td>0</td>\n",
       "      <td>0</td>\n",
       "      <td>0</td>\n",
       "      <td>0</td>\n",
       "    </tr>\n",
       "  </tbody>\n",
       "</table>\n",
       "<p>5 rows × 367 columns</p>\n",
       "</div>"
      ],
      "text/plain": [
       "   feature_5  feature_6  feature_7  feature_8  feature_9  feature_10  \\\n",
       "0      37.56  54.756667  54.756667      35.83  39.136667   39.136667   \n",
       "1        NaN        NaN        NaN        NaN        NaN         NaN   \n",
       "2        NaN        NaN        NaN        NaN        NaN         NaN   \n",
       "3        NaN        NaN        NaN        NaN        NaN         NaN   \n",
       "4      37.48  37.480000  37.161333      35.75  35.750000   35.750000   \n",
       "\n",
       "   feature_11  feature_12  feature_13  feature_14  ...  feature_490  \\\n",
       "0         2.5    3.026667    3.026667         0.0  ...            0   \n",
       "1         NaN         NaN         NaN         0.0  ...            0   \n",
       "2         NaN         NaN         NaN         0.0  ...            0   \n",
       "3         NaN         NaN         NaN         0.0  ...            0   \n",
       "4         2.5    2.500000    2.500000         0.0  ...            0   \n",
       "\n",
       "   feature_492  feature_494  feature_496  feature_497  feature_499  \\\n",
       "0            0            0            0            0            0   \n",
       "1            0            0            0            0            0   \n",
       "2            0            0            0            0            0   \n",
       "3            0            0            0            0            0   \n",
       "4            0            0            0            0            0   \n",
       "\n",
       "   feature_501  feature_503  feature_504  feature_506  \n",
       "0            0            0            0            0  \n",
       "1            0            0            0            0  \n",
       "2            0            0            0            0  \n",
       "3            0            0            0            0  \n",
       "4            0            0            0            0  \n",
       "\n",
       "[5 rows x 367 columns]"
      ]
     },
     "execution_count": 8,
     "metadata": {},
     "output_type": "execute_result"
    }
   ],
   "source": [
    "target_column = 'target'\n",
    "drop_columns = ['id', target_column]\n",
    "\n",
    "num_features = [col for col in train.select_dtypes(['int', 'float']).columns if col not in drop_columns]\n",
    "train[num_features].head()"
   ]
  },
  {
   "cell_type": "markdown",
   "id": "cd75aa6e",
   "metadata": {
    "papermill": {
     "duration": 0.033557,
     "end_time": "2022-02-28T12:15:54.328668",
     "exception": false,
     "start_time": "2022-02-28T12:15:54.295111",
     "status": "completed"
    },
    "tags": []
   },
   "source": [
    "### - Label encoding"
   ]
  },
  {
   "cell_type": "code",
   "execution_count": 9,
   "id": "c60faea0",
   "metadata": {
    "execution": {
     "iopub.execute_input": "2022-02-28T12:15:54.399669Z",
     "iopub.status.busy": "2022-02-28T12:15:54.395767Z",
     "iopub.status.idle": "2022-02-28T12:15:58.414759Z",
     "shell.execute_reply": "2022-02-28T12:15:58.415248Z",
     "shell.execute_reply.started": "2022-02-18T04:04:22.760909Z"
    },
    "papermill": {
     "duration": 4.054372,
     "end_time": "2022-02-28T12:15:58.415407",
     "exception": false,
     "start_time": "2022-02-28T12:15:54.361035",
     "status": "completed"
    },
    "tags": []
   },
   "outputs": [
    {
     "data": {
      "text/html": [
       "<div>\n",
       "<style scoped>\n",
       "    .dataframe tbody tr th:only-of-type {\n",
       "        vertical-align: middle;\n",
       "    }\n",
       "\n",
       "    .dataframe tbody tr th {\n",
       "        vertical-align: top;\n",
       "    }\n",
       "\n",
       "    .dataframe thead th {\n",
       "        text-align: right;\n",
       "    }\n",
       "</style>\n",
       "<table border=\"1\" class=\"dataframe\">\n",
       "  <thead>\n",
       "    <tr style=\"text-align: right;\">\n",
       "      <th></th>\n",
       "      <th>feature_0</th>\n",
       "      <th>feature_1</th>\n",
       "      <th>feature_2</th>\n",
       "      <th>feature_3</th>\n",
       "      <th>feature_4</th>\n",
       "      <th>feature_16</th>\n",
       "      <th>feature_17</th>\n",
       "      <th>feature_18</th>\n",
       "      <th>feature_19</th>\n",
       "      <th>feature_20</th>\n",
       "      <th>...</th>\n",
       "      <th>feature_288</th>\n",
       "      <th>feature_289</th>\n",
       "      <th>feature_290</th>\n",
       "      <th>feature_291</th>\n",
       "      <th>feature_292</th>\n",
       "      <th>feature_293</th>\n",
       "      <th>feature_336</th>\n",
       "      <th>feature_337</th>\n",
       "      <th>feature_338</th>\n",
       "      <th>feature_371</th>\n",
       "    </tr>\n",
       "  </thead>\n",
       "  <tbody>\n",
       "    <tr>\n",
       "      <th>0</th>\n",
       "      <td>0</td>\n",
       "      <td>0</td>\n",
       "      <td>1</td>\n",
       "      <td>5</td>\n",
       "      <td>3</td>\n",
       "      <td>0</td>\n",
       "      <td>61</td>\n",
       "      <td>5737</td>\n",
       "      <td>263</td>\n",
       "      <td>2808</td>\n",
       "      <td>...</td>\n",
       "      <td>28</td>\n",
       "      <td>34</td>\n",
       "      <td>14</td>\n",
       "      <td>2</td>\n",
       "      <td>6</td>\n",
       "      <td>5</td>\n",
       "      <td>0</td>\n",
       "      <td>0</td>\n",
       "      <td>0</td>\n",
       "      <td>0</td>\n",
       "    </tr>\n",
       "    <tr>\n",
       "      <th>1</th>\n",
       "      <td>0</td>\n",
       "      <td>0</td>\n",
       "      <td>3</td>\n",
       "      <td>5</td>\n",
       "      <td>1</td>\n",
       "      <td>2</td>\n",
       "      <td>50</td>\n",
       "      <td>3082</td>\n",
       "      <td>263</td>\n",
       "      <td>1951</td>\n",
       "      <td>...</td>\n",
       "      <td>7</td>\n",
       "      <td>26</td>\n",
       "      <td>9</td>\n",
       "      <td>7</td>\n",
       "      <td>3</td>\n",
       "      <td>2</td>\n",
       "      <td>0</td>\n",
       "      <td>0</td>\n",
       "      <td>0</td>\n",
       "      <td>0</td>\n",
       "    </tr>\n",
       "    <tr>\n",
       "      <th>2</th>\n",
       "      <td>0</td>\n",
       "      <td>0</td>\n",
       "      <td>3</td>\n",
       "      <td>5</td>\n",
       "      <td>4</td>\n",
       "      <td>1</td>\n",
       "      <td>78</td>\n",
       "      <td>9673</td>\n",
       "      <td>263</td>\n",
       "      <td>4066</td>\n",
       "      <td>...</td>\n",
       "      <td>7</td>\n",
       "      <td>26</td>\n",
       "      <td>9</td>\n",
       "      <td>7</td>\n",
       "      <td>3</td>\n",
       "      <td>2</td>\n",
       "      <td>0</td>\n",
       "      <td>0</td>\n",
       "      <td>0</td>\n",
       "      <td>0</td>\n",
       "    </tr>\n",
       "    <tr>\n",
       "      <th>3</th>\n",
       "      <td>0</td>\n",
       "      <td>0</td>\n",
       "      <td>1</td>\n",
       "      <td>5</td>\n",
       "      <td>1</td>\n",
       "      <td>0</td>\n",
       "      <td>58</td>\n",
       "      <td>5079</td>\n",
       "      <td>263</td>\n",
       "      <td>2516</td>\n",
       "      <td>...</td>\n",
       "      <td>101</td>\n",
       "      <td>19</td>\n",
       "      <td>5</td>\n",
       "      <td>3</td>\n",
       "      <td>1</td>\n",
       "      <td>0</td>\n",
       "      <td>0</td>\n",
       "      <td>0</td>\n",
       "      <td>0</td>\n",
       "      <td>0</td>\n",
       "    </tr>\n",
       "    <tr>\n",
       "      <th>4</th>\n",
       "      <td>0</td>\n",
       "      <td>0</td>\n",
       "      <td>3</td>\n",
       "      <td>3</td>\n",
       "      <td>3</td>\n",
       "      <td>2</td>\n",
       "      <td>47</td>\n",
       "      <td>3016</td>\n",
       "      <td>263</td>\n",
       "      <td>1881</td>\n",
       "      <td>...</td>\n",
       "      <td>112</td>\n",
       "      <td>16</td>\n",
       "      <td>3</td>\n",
       "      <td>3</td>\n",
       "      <td>1</td>\n",
       "      <td>0</td>\n",
       "      <td>0</td>\n",
       "      <td>0</td>\n",
       "      <td>0</td>\n",
       "      <td>1</td>\n",
       "    </tr>\n",
       "  </tbody>\n",
       "</table>\n",
       "<p>5 rows × 76 columns</p>\n",
       "</div>"
      ],
      "text/plain": [
       "   feature_0  feature_1  feature_2  feature_3  feature_4  feature_16  \\\n",
       "0          0          0          1          5          3           0   \n",
       "1          0          0          3          5          1           2   \n",
       "2          0          0          3          5          4           1   \n",
       "3          0          0          1          5          1           0   \n",
       "4          0          0          3          3          3           2   \n",
       "\n",
       "   feature_17  feature_18  feature_19  feature_20  ...  feature_288  \\\n",
       "0          61        5737         263        2808  ...           28   \n",
       "1          50        3082         263        1951  ...            7   \n",
       "2          78        9673         263        4066  ...            7   \n",
       "3          58        5079         263        2516  ...          101   \n",
       "4          47        3016         263        1881  ...          112   \n",
       "\n",
       "   feature_289  feature_290  feature_291  feature_292  feature_293  \\\n",
       "0           34           14            2            6            5   \n",
       "1           26            9            7            3            2   \n",
       "2           26            9            7            3            2   \n",
       "3           19            5            3            1            0   \n",
       "4           16            3            3            1            0   \n",
       "\n",
       "   feature_336  feature_337  feature_338  feature_371  \n",
       "0            0            0            0            0  \n",
       "1            0            0            0            0  \n",
       "2            0            0            0            0  \n",
       "3            0            0            0            0  \n",
       "4            0            0            0            1  \n",
       "\n",
       "[5 rows x 76 columns]"
      ]
     },
     "execution_count": 9,
     "metadata": {},
     "output_type": "execute_result"
    }
   ],
   "source": [
    "def label_encoding(train_df, test_df, columns):\n",
    "    for col in columns:\n",
    "        le = LabelEncoder()\n",
    "        values = train_df[col].append(test_df[col])\n",
    "        le.fit(values)\n",
    "        train_df[col] = le.transform(train_df[col])\n",
    "        test_df[col] = le.transform(test_df[col])\n",
    "    return train_df, test_df\n",
    "\n",
    "train, test = label_encoding(train, test, cat_features)\n",
    "train[cat_features].head()"
   ]
  },
  {
   "cell_type": "markdown",
   "id": "b09bb9d9",
   "metadata": {
    "papermill": {
     "duration": 0.034408,
     "end_time": "2022-02-28T12:15:58.484519",
     "exception": false,
     "start_time": "2022-02-28T12:15:58.450111",
     "status": "completed"
    },
    "tags": []
   },
   "source": [
    "### - Fill missing values"
   ]
  },
  {
   "cell_type": "code",
   "execution_count": 10,
   "id": "2e22a5da",
   "metadata": {
    "execution": {
     "iopub.execute_input": "2022-02-28T12:15:58.681145Z",
     "iopub.status.busy": "2022-02-28T12:15:58.680315Z",
     "iopub.status.idle": "2022-02-28T12:15:59.200167Z",
     "shell.execute_reply": "2022-02-28T12:15:59.199677Z",
     "shell.execute_reply.started": "2022-02-18T04:04:26.763588Z"
    },
    "papermill": {
     "duration": 0.681769,
     "end_time": "2022-02-28T12:15:59.200311",
     "exception": false,
     "start_time": "2022-02-28T12:15:58.518542",
     "status": "completed"
    },
    "tags": []
   },
   "outputs": [],
   "source": [
    "train[num_features] = train[num_features].fillna(train[num_features].mean())\n",
    "test[num_features] = test[num_features].fillna(test[num_features].mean())"
   ]
  },
  {
   "cell_type": "markdown",
   "id": "84f7d8f7",
   "metadata": {
    "papermill": {
     "duration": 0.033528,
     "end_time": "2022-02-28T12:15:59.267622",
     "exception": false,
     "start_time": "2022-02-28T12:15:59.234094",
     "status": "completed"
    },
    "tags": []
   },
   "source": [
    "### - Feature engineering"
   ]
  },
  {
   "cell_type": "code",
   "execution_count": 11,
   "id": "5acc34a8",
   "metadata": {
    "execution": {
     "iopub.execute_input": "2022-02-28T12:15:59.360740Z",
     "iopub.status.busy": "2022-02-28T12:15:59.359886Z",
     "iopub.status.idle": "2022-02-28T12:16:32.297953Z",
     "shell.execute_reply": "2022-02-28T12:16:32.297501Z",
     "shell.execute_reply.started": "2022-02-18T04:04:27.431027Z"
    },
    "papermill": {
     "duration": 32.997589,
     "end_time": "2022-02-28T12:16:32.298110",
     "exception": false,
     "start_time": "2022-02-28T12:15:59.300521",
     "status": "completed"
    },
    "tags": []
   },
   "outputs": [],
   "source": [
    "grpby_columns = train[cat_features].columns[train[cat_features].nunique()<100]\n",
    "target_columns = ['feature_81', 'feature_307']\n",
    "func_l = ['mean']\n",
    "fe_features = []\n",
    "\n",
    "for grpby_col in grpby_columns:\n",
    "    for target_col in target_columns:\n",
    "        for func in func_l:\n",
    "            tmp = train.groupby(grpby_col)[target_col].agg(func).rename(f'{func}_{target_col}_grpby_{grpby_col}')\n",
    "            train = train.merge(tmp, on=grpby_col, how='left')\n",
    "            tmp = test.groupby(grpby_col)[target_col].agg(func).rename(f'{func}_{target_col}_grpby_{grpby_col}')\n",
    "            test = test.merge(tmp, on=grpby_col, how='left')\n",
    "            fe_features += [f'{func}_{target_col}_grpby_{grpby_col}']\n",
    "\n",
    "num_features += fe_features"
   ]
  },
  {
   "cell_type": "code",
   "execution_count": 12,
   "id": "4052ac05",
   "metadata": {
    "execution": {
     "iopub.execute_input": "2022-02-28T12:16:32.369628Z",
     "iopub.status.busy": "2022-02-28T12:16:32.368959Z",
     "iopub.status.idle": "2022-02-28T12:16:32.371597Z",
     "shell.execute_reply": "2022-02-28T12:16:32.372020Z",
     "shell.execute_reply.started": "2022-02-18T04:05:00.404941Z"
    },
    "papermill": {
     "duration": 0.040486,
     "end_time": "2022-02-28T12:16:32.372147",
     "exception": false,
     "start_time": "2022-02-28T12:16:32.331661",
     "status": "completed"
    },
    "tags": []
   },
   "outputs": [
    {
     "data": {
      "text/plain": [
       "((70000, 569), (30000, 568))"
      ]
     },
     "execution_count": 12,
     "metadata": {},
     "output_type": "execute_result"
    }
   ],
   "source": [
    "train.shape, test.shape"
   ]
  },
  {
   "cell_type": "markdown",
   "id": "9ad76214",
   "metadata": {
    "papermill": {
     "duration": 0.03311,
     "end_time": "2022-02-28T12:16:32.438784",
     "exception": false,
     "start_time": "2022-02-28T12:16:32.405674",
     "status": "completed"
    },
    "tags": []
   },
   "source": [
    "### - MinMaxScaling"
   ]
  },
  {
   "cell_type": "code",
   "execution_count": 13,
   "id": "14411407",
   "metadata": {
    "execution": {
     "iopub.execute_input": "2022-02-28T12:16:32.507923Z",
     "iopub.status.busy": "2022-02-28T12:16:32.507141Z",
     "iopub.status.idle": "2022-02-28T12:16:40.691201Z",
     "shell.execute_reply": "2022-02-28T12:16:40.690315Z",
     "shell.execute_reply.started": "2022-02-18T04:05:00.413525Z"
    },
    "papermill": {
     "duration": 8.219212,
     "end_time": "2022-02-28T12:16:40.691343",
     "exception": false,
     "start_time": "2022-02-28T12:16:32.472131",
     "status": "completed"
    },
    "tags": []
   },
   "outputs": [],
   "source": [
    "scaler = MinMaxScaler()\n",
    "\n",
    "train[num_features] = scaler.fit_transform(train[num_features])\n",
    "test[num_features] = scaler.transform(test[num_features])"
   ]
  },
  {
   "cell_type": "markdown",
   "id": "4b63cc01",
   "metadata": {
    "papermill": {
     "duration": 0.039705,
     "end_time": "2022-02-28T12:16:40.764535",
     "exception": false,
     "start_time": "2022-02-28T12:16:40.724830",
     "status": "completed"
    },
    "tags": []
   },
   "source": [
    "# Check and preview NaN"
   ]
  },
  {
   "cell_type": "code",
   "execution_count": 14,
   "id": "8878e220",
   "metadata": {
    "execution": {
     "iopub.execute_input": "2022-02-28T12:16:40.837663Z",
     "iopub.status.busy": "2022-02-28T12:16:40.836808Z",
     "iopub.status.idle": "2022-02-28T12:16:41.224071Z",
     "shell.execute_reply": "2022-02-28T12:16:41.223607Z",
     "shell.execute_reply.started": "2022-02-18T04:05:09.326169Z"
    },
    "papermill": {
     "duration": 0.426805,
     "end_time": "2022-02-28T12:16:41.224201",
     "exception": false,
     "start_time": "2022-02-28T12:16:40.797396",
     "status": "completed"
    },
    "tags": []
   },
   "outputs": [
    {
     "data": {
      "text/html": [
       "<div>\n",
       "<style scoped>\n",
       "    .dataframe tbody tr th:only-of-type {\n",
       "        vertical-align: middle;\n",
       "    }\n",
       "\n",
       "    .dataframe tbody tr th {\n",
       "        vertical-align: top;\n",
       "    }\n",
       "\n",
       "    .dataframe thead th {\n",
       "        text-align: right;\n",
       "    }\n",
       "</style>\n",
       "<table border=\"1\" class=\"dataframe\">\n",
       "  <thead>\n",
       "    <tr style=\"text-align: right;\">\n",
       "      <th></th>\n",
       "      <th>id</th>\n",
       "      <th>target</th>\n",
       "      <th>feature_0</th>\n",
       "      <th>feature_1</th>\n",
       "      <th>feature_2</th>\n",
       "      <th>feature_3</th>\n",
       "      <th>feature_4</th>\n",
       "      <th>feature_5</th>\n",
       "      <th>feature_6</th>\n",
       "      <th>feature_7</th>\n",
       "      <th>...</th>\n",
       "      <th>mean_feature_81_grpby_feature_293</th>\n",
       "      <th>mean_feature_307_grpby_feature_293</th>\n",
       "      <th>mean_feature_81_grpby_feature_336</th>\n",
       "      <th>mean_feature_307_grpby_feature_336</th>\n",
       "      <th>mean_feature_81_grpby_feature_337</th>\n",
       "      <th>mean_feature_307_grpby_feature_337</th>\n",
       "      <th>mean_feature_81_grpby_feature_338</th>\n",
       "      <th>mean_feature_307_grpby_feature_338</th>\n",
       "      <th>mean_feature_81_grpby_feature_371</th>\n",
       "      <th>mean_feature_307_grpby_feature_371</th>\n",
       "    </tr>\n",
       "  </thead>\n",
       "  <tbody>\n",
       "  </tbody>\n",
       "</table>\n",
       "<p>0 rows × 569 columns</p>\n",
       "</div>"
      ],
      "text/plain": [
       "Empty DataFrame\n",
       "Columns: [id, target, feature_0, feature_1, feature_2, feature_3, feature_4, feature_5, feature_6, feature_7, feature_8, feature_9, feature_10, feature_11, feature_12, feature_13, feature_14, feature_15, feature_16, feature_17, feature_18, feature_19, feature_20, feature_21, feature_22, feature_23, feature_24, feature_25, feature_26, feature_27, feature_28, feature_29, feature_30, feature_31, feature_32, feature_33, feature_34, feature_35, feature_36, feature_37, feature_38, feature_39, feature_40, feature_41, feature_42, feature_43, feature_44, feature_45, feature_46, feature_47, feature_48, feature_49, feature_50, feature_51, feature_52, feature_53, feature_54, feature_56, feature_57, feature_58, feature_59, feature_60, feature_61, feature_62, feature_63, feature_64, feature_65, feature_66, feature_67, feature_68, feature_69, feature_70, feature_71, feature_72, feature_73, feature_74, feature_75, feature_76, feature_77, feature_78, feature_79, feature_80, feature_81, feature_82, feature_84, feature_85, feature_86, feature_87, feature_88, feature_89, feature_90, feature_91, feature_92, feature_93, feature_94, feature_95, feature_96, feature_97, feature_98, feature_99, ...]\n",
       "Index: []\n",
       "\n",
       "[0 rows x 569 columns]"
      ]
     },
     "metadata": {},
     "output_type": "display_data"
    },
    {
     "data": {
      "text/html": [
       "<div>\n",
       "<style scoped>\n",
       "    .dataframe tbody tr th:only-of-type {\n",
       "        vertical-align: middle;\n",
       "    }\n",
       "\n",
       "    .dataframe tbody tr th {\n",
       "        vertical-align: top;\n",
       "    }\n",
       "\n",
       "    .dataframe thead th {\n",
       "        text-align: right;\n",
       "    }\n",
       "</style>\n",
       "<table border=\"1\" class=\"dataframe\">\n",
       "  <thead>\n",
       "    <tr style=\"text-align: right;\">\n",
       "      <th></th>\n",
       "      <th>id</th>\n",
       "      <th>feature_0</th>\n",
       "      <th>feature_1</th>\n",
       "      <th>feature_2</th>\n",
       "      <th>feature_3</th>\n",
       "      <th>feature_4</th>\n",
       "      <th>feature_5</th>\n",
       "      <th>feature_6</th>\n",
       "      <th>feature_7</th>\n",
       "      <th>feature_8</th>\n",
       "      <th>...</th>\n",
       "      <th>mean_feature_81_grpby_feature_293</th>\n",
       "      <th>mean_feature_307_grpby_feature_293</th>\n",
       "      <th>mean_feature_81_grpby_feature_336</th>\n",
       "      <th>mean_feature_307_grpby_feature_336</th>\n",
       "      <th>mean_feature_81_grpby_feature_337</th>\n",
       "      <th>mean_feature_307_grpby_feature_337</th>\n",
       "      <th>mean_feature_81_grpby_feature_338</th>\n",
       "      <th>mean_feature_307_grpby_feature_338</th>\n",
       "      <th>mean_feature_81_grpby_feature_371</th>\n",
       "      <th>mean_feature_307_grpby_feature_371</th>\n",
       "    </tr>\n",
       "  </thead>\n",
       "  <tbody>\n",
       "  </tbody>\n",
       "</table>\n",
       "<p>0 rows × 568 columns</p>\n",
       "</div>"
      ],
      "text/plain": [
       "Empty DataFrame\n",
       "Columns: [id, feature_0, feature_1, feature_2, feature_3, feature_4, feature_5, feature_6, feature_7, feature_8, feature_9, feature_10, feature_11, feature_12, feature_13, feature_14, feature_15, feature_16, feature_17, feature_18, feature_19, feature_20, feature_21, feature_22, feature_23, feature_24, feature_25, feature_26, feature_27, feature_28, feature_29, feature_30, feature_31, feature_32, feature_33, feature_34, feature_35, feature_36, feature_37, feature_38, feature_39, feature_40, feature_41, feature_42, feature_43, feature_44, feature_45, feature_46, feature_47, feature_48, feature_49, feature_50, feature_51, feature_52, feature_53, feature_54, feature_56, feature_57, feature_58, feature_59, feature_60, feature_61, feature_62, feature_63, feature_64, feature_65, feature_66, feature_67, feature_68, feature_69, feature_70, feature_71, feature_72, feature_73, feature_74, feature_75, feature_76, feature_77, feature_78, feature_79, feature_80, feature_81, feature_82, feature_84, feature_85, feature_86, feature_87, feature_88, feature_89, feature_90, feature_91, feature_92, feature_93, feature_94, feature_95, feature_96, feature_97, feature_98, feature_99, feature_101, ...]\n",
       "Index: []\n",
       "\n",
       "[0 rows x 568 columns]"
      ]
     },
     "metadata": {},
     "output_type": "display_data"
    }
   ],
   "source": [
    "display(train[train.isna().any(axis=1)])\n",
    "display(test[train.isna().any(axis=1)])"
   ]
  },
  {
   "cell_type": "markdown",
   "id": "f4de4f84",
   "metadata": {
    "execution": {
     "iopub.execute_input": "2022-02-01T01:15:51.783975Z",
     "iopub.status.busy": "2022-02-01T01:15:51.783141Z",
     "iopub.status.idle": "2022-02-01T01:15:51.787879Z",
     "shell.execute_reply": "2022-02-01T01:15:51.78708Z",
     "shell.execute_reply.started": "2022-02-01T01:15:51.783928Z"
    },
    "papermill": {
     "duration": 0.034267,
     "end_time": "2022-02-28T12:16:41.292831",
     "exception": false,
     "start_time": "2022-02-28T12:16:41.258564",
     "status": "completed"
    },
    "tags": []
   },
   "source": [
    "# LightGBM"
   ]
  },
  {
   "cell_type": "code",
   "execution_count": 15,
   "id": "21c713be",
   "metadata": {
    "execution": {
     "iopub.execute_input": "2022-02-28T12:16:41.366723Z",
     "iopub.status.busy": "2022-02-28T12:16:41.365927Z",
     "iopub.status.idle": "2022-02-28T12:16:41.367811Z",
     "shell.execute_reply": "2022-02-28T12:16:41.368269Z",
     "shell.execute_reply.started": "2022-02-18T04:05:09.91288Z"
    },
    "papermill": {
     "duration": 0.040949,
     "end_time": "2022-02-28T12:16:41.368385",
     "exception": false,
     "start_time": "2022-02-28T12:16:41.327436",
     "status": "completed"
    },
    "tags": []
   },
   "outputs": [],
   "source": [
    "lgb_params = {\n",
    "    'objective': 'regression',\n",
    "    'n_estimators': N_ESTIMATORS,\n",
    "    'random_state': SEED,\n",
    "    'learning_rate': 8e-3,\n",
    "    'max_depth': 6,\n",
    "    'subsample': 0.8,\n",
    "    'subsample_freq': 1,\n",
    "    'colsample_bytree': 0.6,\n",
    "    'importance_type': 'gain',\n",
    "}"
   ]
  },
  {
   "cell_type": "code",
   "execution_count": 16,
   "id": "a4db77bf",
   "metadata": {
    "execution": {
     "iopub.execute_input": "2022-02-28T12:16:41.447858Z",
     "iopub.status.busy": "2022-02-28T12:16:41.444737Z",
     "iopub.status.idle": "2022-02-28T14:13:02.665361Z",
     "shell.execute_reply": "2022-02-28T14:13:02.661656Z"
    },
    "papermill": {
     "duration": 6981.263246,
     "end_time": "2022-02-28T14:13:02.665542",
     "exception": false,
     "start_time": "2022-02-28T12:16:41.402296",
     "status": "completed"
    },
    "tags": []
   },
   "outputs": [
    {
     "data": {
      "application/vnd.jupyter.widget-view+json": {
       "model_id": "94abc8b605f543e08dee748a28f88a25",
       "version_major": 2,
       "version_minor": 0
      },
      "text/plain": [
       "  0%|          | 0/50 [00:00<?, ?it/s]"
      ]
     },
     "metadata": {},
     "output_type": "display_data"
    },
    {
     "name": "stdout",
     "output_type": "stream",
     "text": [
      "AUC: 0.786823, elapsed time: 6981.14sec\n"
     ]
    }
   ],
   "source": [
    "features = cat_features + num_features\n",
    "lgb_importances = pd.DataFrame()\n",
    "lgb_oof = np.zeros(train.shape[0])\n",
    "lgb_pred = np.zeros(test.shape[0])\n",
    "\n",
    "start = time.time()\n",
    "\n",
    "rskf = RepeatedStratifiedKFold(n_splits=N_SPLITS, n_repeats=N_REPEATS, random_state=SEED)\n",
    "for fold, (trn_idx, val_idx) in enumerate(tqdm(rskf.split(X=train, y=train[target_column]), total=N_SPLITS*N_REPEATS)):\n",
    "    X_train, y_train = train[features].iloc[trn_idx], train[target_column].iloc[trn_idx]\n",
    "    X_valid, y_valid = train[features].iloc[val_idx], train[target_column].iloc[val_idx]\n",
    "    X_test = test[features]\n",
    "\n",
    "    es = lgb.early_stopping(\n",
    "        stopping_rounds=EARLY_STOPPING_ROUNDS,\n",
    "        first_metric_only=True,\n",
    "        verbose=VERBOSE,\n",
    "    )\n",
    "\n",
    "    le = lgb.log_evaluation(\n",
    "        period=VERBOSE,\n",
    "        show_stdv=VERBOSE\n",
    "    )\n",
    "\n",
    "    model = lgb.LGBMRegressor(**lgb_params)\n",
    "    model.fit(\n",
    "        X_train, \n",
    "        y_train,\n",
    "        eval_set=[(X_valid, y_valid)],\n",
    "        eval_names=['train', 'valid'],\n",
    "        eval_metric='auc',\n",
    "        callbacks=[es, le],\n",
    "    )\n",
    "\n",
    "    fi_tmp = pd.DataFrame()\n",
    "    fi_tmp['feature'] = model.feature_name_\n",
    "    fi_tmp['importance'] = model.feature_importances_\n",
    "    fi_tmp['fold'] = fold\n",
    "    fi_tmp['seed'] = SEED\n",
    "    lgb_importances = lgb_importances.append(fi_tmp)\n",
    "\n",
    "    lgb_oof[val_idx] = model.predict(X_valid)\n",
    "    lgb_pred += model.predict(X_test) / N_SPLITS / N_REPEATS\n",
    "\n",
    "    auc = roc_auc_score(y_valid, lgb_oof[val_idx])\n",
    "\n",
    "elapsed = time.time() - start\n",
    "auc = roc_auc_score(train[target_column], lgb_oof)\n",
    "print(f\"AUC: {auc:6f}, elapsed time: {elapsed:.2f}sec\")\n",
    "\n",
    "train[f'lgb'] = lgb_oof\n",
    "test[f'lgb'] = lgb_pred"
   ]
  },
  {
   "cell_type": "code",
   "execution_count": 17,
   "id": "361d5620",
   "metadata": {
    "execution": {
     "iopub.execute_input": "2022-02-28T14:13:02.768201Z",
     "iopub.status.busy": "2022-02-28T14:13:02.767402Z",
     "iopub.status.idle": "2022-02-28T14:13:03.769151Z",
     "shell.execute_reply": "2022-02-28T14:13:03.768710Z"
    },
    "papermill": {
     "duration": 1.046926,
     "end_time": "2022-02-28T14:13:03.769274",
     "exception": false,
     "start_time": "2022-02-28T14:13:02.722348",
     "status": "completed"
    },
    "tags": []
   },
   "outputs": [
    {
     "data": {
      "image/png": "[encoded data removed]",
      "text/plain": [
       "<Figure size 864x288 with 1 Axes>"
      ]
     },
     "metadata": {
      "needs_background": "light"
     },
     "output_type": "display_data"
    }
   ],
   "source": [
    "order = list(lgb_importances.groupby(\"feature\").mean().sort_values(\"importance\", ascending=False).index)\n",
    "plt.figure(figsize=(12, 4), tight_layout=True)\n",
    "sns.barplot(x=\"importance\", y=\"feature\", data=lgb_importances, order=order[:20])\n",
    "plt.title(\"{} feature importances\".format(\"lgb\"))\n",
    "plt.tight_layout()"
   ]
  },
  {
   "cell_type": "markdown",
   "id": "21ba3cf2",
   "metadata": {
    "papermill": {
     "duration": 0.036425,
     "end_time": "2022-02-28T14:13:03.842323",
     "exception": false,
     "start_time": "2022-02-28T14:13:03.805898",
     "status": "completed"
    },
    "tags": []
   },
   "source": [
    "# XGBoost"
   ]
  },
  {
   "cell_type": "code",
   "execution_count": 18,
   "id": "4adecd46",
   "metadata": {
    "execution": {
     "iopub.execute_input": "2022-02-28T14:13:03.921680Z",
     "iopub.status.busy": "2022-02-28T14:13:03.921178Z",
     "iopub.status.idle": "2022-02-28T14:13:03.924753Z",
     "shell.execute_reply": "2022-02-28T14:13:03.924360Z"
    },
    "papermill": {
     "duration": 0.046017,
     "end_time": "2022-02-28T14:13:03.924855",
     "exception": false,
     "start_time": "2022-02-28T14:13:03.878838",
     "status": "completed"
    },
    "tags": []
   },
   "outputs": [],
   "source": [
    "xgb_params = {\n",
    "    'max_depth': 6,\n",
    "    'subsample': 0.8,\n",
    "    'colsample_bytree': 0.6,\n",
    "    'colsample_bylevel': 0.6,\n",
    "    'booster': 'gbtree',\n",
    "    'objective': 'reg:squarederror',\n",
    "    'n_estimators': N_ESTIMATORS,\n",
    "    'seed': SEED,\n",
    "    'learning_rate': 8e-3,\n",
    "    'use_label_encoder': False,\n",
    "    'importance_type': 'gain',\n",
    "    'tree_method': 'gpu_hist',\n",
    "    'predictor': 'gpu_predictor'\n",
    "}"
   ]
  },
  {
   "cell_type": "code",
   "execution_count": 19,
   "id": "5758e5ca",
   "metadata": {
    "execution": {
     "iopub.execute_input": "2022-02-28T14:13:04.012020Z",
     "iopub.status.busy": "2022-02-28T14:13:04.010734Z",
     "iopub.status.idle": "2022-02-28T14:57:04.912381Z",
     "shell.execute_reply": "2022-02-28T14:57:04.909805Z"
    },
    "papermill": {
     "duration": 2640.949635,
     "end_time": "2022-02-28T14:57:04.912520",
     "exception": false,
     "start_time": "2022-02-28T14:13:03.962885",
     "status": "completed"
    },
    "tags": []
   },
   "outputs": [
    {
     "data": {
      "application/vnd.jupyter.widget-view+json": {
       "model_id": "e524444c2ade419fb3160302d7a29afc",
       "version_major": 2,
       "version_minor": 0
      },
      "text/plain": [
       "  0%|          | 0/50 [00:00<?, ?it/s]"
      ]
     },
     "metadata": {},
     "output_type": "display_data"
    },
    {
     "name": "stdout",
     "output_type": "stream",
     "text": [
      "AUC: 0.786629, elapsed time: 2640.57sec\n"
     ]
    }
   ],
   "source": [
    "features = cat_features + num_features\n",
    "shap_values = np.zeros((train.shape[0], train[features].shape[1]))\n",
    "xgb_oof = np.zeros(train.shape[0])\n",
    "xgb_pred = np.zeros(test.shape[0])\n",
    "\n",
    "start = time.time()\n",
    "\n",
    "rskf = RepeatedStratifiedKFold(n_splits=N_SPLITS, n_repeats=N_REPEATS, random_state=SEED)\n",
    "for fold, (trn_idx, val_idx) in enumerate(tqdm(rskf.split(X=train, y=train[target_column]), total=N_SPLITS*N_REPEATS)):\n",
    "    X_train, y_train = train[features].iloc[trn_idx], train[target_column].iloc[trn_idx]\n",
    "    X_valid, y_valid = train[features].iloc[val_idx], train[target_column].iloc[val_idx]\n",
    "    X_test = test[features]\n",
    "\n",
    "    model = xgb.XGBRegressor(**xgb_params)\n",
    "    model.fit(X_train,\n",
    "              y_train,\n",
    "              eval_set=[(X_valid, y_valid)],\n",
    "              eval_metric='auc',\n",
    "              early_stopping_rounds=EARLY_STOPPING_ROUNDS,\n",
    "              verbose=VERBOSE\n",
    "             )\n",
    "\n",
    "    shap_values[val_idx] += shap.TreeExplainer(model).shap_values(X_valid)\n",
    "    xgb_oof[val_idx] = model.predict(X_valid)\n",
    "    xgb_pred += model.predict(X_test) / N_SPLITS / N_REPEATS\n",
    "\n",
    "    auc = roc_auc_score(y_valid, xgb_oof[val_idx])\n",
    "\n",
    "elapsed = time.time() - start\n",
    "auc = roc_auc_score(train[target_column], xgb_oof)\n",
    "print(f\"AUC: {auc:6f}, elapsed time: {elapsed:.2f}sec\")\n",
    "\n",
    "train[f'xgb'] = xgb_oof\n",
    "test[f'xgb'] = xgb_pred"
   ]
  },
  {
   "cell_type": "code",
   "execution_count": 20,
   "id": "c276dd49",
   "metadata": {
    "execution": {
     "iopub.execute_input": "2022-02-28T14:57:04.996818Z",
     "iopub.status.busy": "2022-02-28T14:57:04.995808Z",
     "iopub.status.idle": "2022-02-28T14:57:17.590505Z",
     "shell.execute_reply": "2022-02-28T14:57:17.590925Z"
    },
    "papermill": {
     "duration": 12.638944,
     "end_time": "2022-02-28T14:57:17.591096",
     "exception": false,
     "start_time": "2022-02-28T14:57:04.952152",
     "status": "completed"
    },
    "tags": []
   },
   "outputs": [
    {
     "data": {
      "image/png": "[encoded data removed]",
      "text/plain": [
       "<Figure size 576x684 with 2 Axes>"
      ]
     },
     "metadata": {
      "needs_background": "light"
     },
     "output_type": "display_data"
    }
   ],
   "source": [
    "shap.summary_plot(shap_values, features=train[features])"
   ]
  },
  {
   "cell_type": "markdown",
   "id": "7478f873",
   "metadata": {
    "papermill": {
     "duration": 0.039952,
     "end_time": "2022-02-28T14:57:17.671070",
     "exception": false,
     "start_time": "2022-02-28T14:57:17.631118",
     "status": "completed"
    },
    "tags": []
   },
   "source": [
    "# CatBoost"
   ]
  },
  {
   "cell_type": "code",
   "execution_count": 21,
   "id": "8c55df73",
   "metadata": {
    "execution": {
     "iopub.execute_input": "2022-02-28T14:57:17.755283Z",
     "iopub.status.busy": "2022-02-28T14:57:17.754483Z",
     "iopub.status.idle": "2022-02-28T14:57:17.757060Z",
     "shell.execute_reply": "2022-02-28T14:57:17.756597Z"
    },
    "papermill": {
     "duration": 0.046644,
     "end_time": "2022-02-28T14:57:17.757174",
     "exception": false,
     "start_time": "2022-02-28T14:57:17.710530",
     "status": "completed"
    },
    "tags": []
   },
   "outputs": [],
   "source": [
    "ctb_params = {\n",
    "    'bootstrap_type': 'Bayesian',\n",
    "    'loss_function': 'RMSE',\n",
    "    'eval_metric': 'RMSE',\n",
    "    'random_seed': SEED,\n",
    "    'task_type': 'GPU',\n",
    "    'max_depth': 6,\n",
    "    'learning_rate': 8e-3,\n",
    "    'n_estimators': N_ESTIMATORS,\n",
    "}"
   ]
  },
  {
   "cell_type": "code",
   "execution_count": 22,
   "id": "b53df91d",
   "metadata": {
    "execution": {
     "iopub.execute_input": "2022-02-28T14:57:17.869683Z",
     "iopub.status.busy": "2022-02-28T14:57:17.844317Z",
     "iopub.status.idle": "2022-02-28T15:49:36.269943Z",
     "shell.execute_reply": "2022-02-28T15:49:36.266577Z"
    },
    "papermill": {
     "duration": 3138.473317,
     "end_time": "2022-02-28T15:49:36.270121",
     "exception": false,
     "start_time": "2022-02-28T14:57:17.796804",
     "status": "completed"
    },
    "tags": []
   },
   "outputs": [
    {
     "data": {
      "application/vnd.jupyter.widget-view+json": {
       "model_id": "54650c20f9d040fa8b2accfda4604f3f",
       "version_major": 2,
       "version_minor": 0
      },
      "text/plain": [
       "  0%|          | 0/50 [00:00<?, ?it/s]"
      ]
     },
     "metadata": {},
     "output_type": "display_data"
    },
    {
     "name": "stdout",
     "output_type": "stream",
     "text": [
      "AUC: 0.786814, elapsed time: 3138.34sec\n"
     ]
    }
   ],
   "source": [
    "features = cat_features + num_features\n",
    "ctb_importances = pd.DataFrame()\n",
    "ctb_oof = np.zeros(train.shape[0])\n",
    "ctb_pred = np.zeros(test.shape[0])\n",
    "\n",
    "start = time.time()\n",
    "\n",
    "rskf = RepeatedStratifiedKFold(n_splits=N_SPLITS, n_repeats=N_REPEATS, random_state=SEED)\n",
    "for fold, (trn_idx, val_idx) in enumerate(tqdm(rskf.split(X=train, y=train[target_column]), total=N_SPLITS*N_REPEATS)):\n",
    "    X_train, y_train = train[features].iloc[trn_idx], train[target_column].iloc[trn_idx]\n",
    "    X_valid, y_valid = train[features].iloc[val_idx], train[target_column].iloc[val_idx]\n",
    "    X_test = test[features]\n",
    "\n",
    "    model = ctb.CatBoostRegressor(**ctb_params)\n",
    "    model.fit(\n",
    "        X_train,\n",
    "        y_train,\n",
    "        eval_set=[(X_valid, y_valid)],\n",
    "        use_best_model=True,\n",
    "        early_stopping_rounds=EARLY_STOPPING_ROUNDS,\n",
    "        verbose=VERBOSE\n",
    "    )\n",
    "\n",
    "    fi_tmp = pd.DataFrame()\n",
    "    fi_tmp['feature'] = X_train.columns\n",
    "    fi_tmp['importance'] = model.feature_importances_\n",
    "    fi_tmp['fold'] = fold\n",
    "    fi_tmp['seed'] = SEED\n",
    "    ctb_importances = ctb_importances.append(fi_tmp)\n",
    "\n",
    "    ctb_oof[val_idx] = model.predict(X_valid)\n",
    "    ctb_pred += model.predict(X_test) / N_SPLITS / N_REPEATS\n",
    "\n",
    "    auc = roc_auc_score(y_valid, ctb_oof[val_idx])\n",
    "\n",
    "elapsed = time.time() - start\n",
    "auc = roc_auc_score(train[target_column], ctb_oof)\n",
    "print(f\"AUC: {auc:6f}, elapsed time: {elapsed:.2f}sec\")\n",
    "\n",
    "train[f'ctb'] = ctb_oof\n",
    "test[f'ctb'] = ctb_pred"
   ]
  },
  {
   "cell_type": "code",
   "execution_count": 23,
   "id": "7ecb0021",
   "metadata": {
    "execution": {
     "iopub.execute_input": "2022-02-28T15:49:36.398566Z",
     "iopub.status.busy": "2022-02-28T15:49:36.397888Z",
     "iopub.status.idle": "2022-02-28T15:49:37.437685Z",
     "shell.execute_reply": "2022-02-28T15:49:37.437255Z"
    },
    "papermill": {
     "duration": 1.10711,
     "end_time": "2022-02-28T15:49:37.437810",
     "exception": false,
     "start_time": "2022-02-28T15:49:36.330700",
     "status": "completed"
    },
    "tags": []
   },
   "outputs": [
    {
     "data": {
      "image/png": "[encoded data removed]",
      "text/plain": [
       "<Figure size 864x288 with 1 Axes>"
      ]
     },
     "metadata": {
      "needs_background": "light"
     },
     "output_type": "display_data"
    }
   ],
   "source": [
    "order = list(ctb_importances.groupby(\"feature\").mean().sort_values(\"importance\", ascending=False).index)\n",
    "plt.figure(figsize=(12, 4), tight_layout=True)\n",
    "sns.barplot(x=\"importance\", y=\"feature\", data=ctb_importances, order=order[:20])\n",
    "plt.title(\"{} feature importances\".format(\"ctb\"))\n",
    "plt.tight_layout()"
   ]
  },
  {
   "cell_type": "markdown",
   "id": "2a2dde2a",
   "metadata": {
    "papermill": {
     "duration": 0.042745,
     "end_time": "2022-02-28T15:49:37.523057",
     "exception": false,
     "start_time": "2022-02-28T15:49:37.480312",
     "status": "completed"
    },
    "tags": []
   },
   "source": [
    "# Stacking"
   ]
  },
  {
   "cell_type": "code",
   "execution_count": 24,
   "id": "4ef44dd5",
   "metadata": {
    "execution": {
     "iopub.execute_input": "2022-02-28T15:49:37.614111Z",
     "iopub.status.busy": "2022-02-28T15:49:37.613234Z",
     "iopub.status.idle": "2022-02-28T15:49:37.615854Z",
     "shell.execute_reply": "2022-02-28T15:49:37.615417Z"
    },
    "papermill": {
     "duration": 0.050195,
     "end_time": "2022-02-28T15:49:37.615965",
     "exception": false,
     "start_time": "2022-02-28T15:49:37.565770",
     "status": "completed"
    },
    "tags": []
   },
   "outputs": [],
   "source": [
    "stack_features = []\n",
    "\n",
    "stack_features += [col for col in train.columns if 'lgb' in col]\n",
    "stack_features += [col for col in train.columns if 'xgb' in col]\n",
    "stack_features += [col for col in train.columns if 'ctb' in col]"
   ]
  },
  {
   "cell_type": "code",
   "execution_count": 25,
   "id": "e31801d0",
   "metadata": {
    "execution": {
     "iopub.execute_input": "2022-02-28T15:49:37.709377Z",
     "iopub.status.busy": "2022-02-28T15:49:37.708568Z",
     "iopub.status.idle": "2022-02-28T15:49:41.349519Z",
     "shell.execute_reply": "2022-02-28T15:49:41.350633Z"
    },
    "papermill": {
     "duration": 3.692898,
     "end_time": "2022-02-28T15:49:41.350896",
     "exception": false,
     "start_time": "2022-02-28T15:49:37.657998",
     "status": "completed"
    },
    "tags": []
   },
   "outputs": [
    {
     "data": {
      "application/vnd.jupyter.widget-view+json": {
       "model_id": "8611d45138a9410ab99f40da1e44135c",
       "version_major": 2,
       "version_minor": 0
      },
      "text/plain": [
       "  0%|          | 0/50 [00:00<?, ?it/s]"
      ]
     },
     "metadata": {},
     "output_type": "display_data"
    },
    {
     "name": "stdout",
     "output_type": "stream",
     "text": [
      "fold 0 - stack auc: 0.794986, elapsed time: 0.04sec\n",
      "fold 1 - stack auc: 0.792444, elapsed time: 0.02sec\n",
      "fold 2 - stack auc: 0.785006, elapsed time: 0.02sec\n",
      "fold 3 - stack auc: 0.787393, elapsed time: 0.02sec\n",
      "fold 4 - stack auc: 0.786042, elapsed time: 0.03sec\n",
      "fold 5 - stack auc: 0.787976, elapsed time: 0.03sec\n",
      "fold 6 - stack auc: 0.779696, elapsed time: 0.03sec\n",
      "fold 7 - stack auc: 0.792112, elapsed time: 0.02sec\n",
      "fold 8 - stack auc: 0.789020, elapsed time: 0.02sec\n",
      "fold 9 - stack auc: 0.777861, elapsed time: 0.04sec\n",
      "fold 10 - stack auc: 0.794370, elapsed time: 0.04sec\n",
      "fold 11 - stack auc: 0.796309, elapsed time: 0.04sec\n",
      "fold 12 - stack auc: 0.781105, elapsed time: 0.04sec\n",
      "fold 13 - stack auc: 0.778468, elapsed time: 0.04sec\n",
      "fold 14 - stack auc: 0.792588, elapsed time: 0.06sec\n",
      "fold 15 - stack auc: 0.782916, elapsed time: 0.08sec\n",
      "fold 16 - stack auc: 0.796521, elapsed time: 0.05sec\n",
      "fold 17 - stack auc: 0.787746, elapsed time: 0.03sec\n",
      "fold 18 - stack auc: 0.789990, elapsed time: 0.04sec\n",
      "fold 19 - stack auc: 0.772833, elapsed time: 0.04sec\n",
      "fold 20 - stack auc: 0.793640, elapsed time: 0.04sec\n",
      "fold 21 - stack auc: 0.796431, elapsed time: 0.04sec\n",
      "fold 22 - stack auc: 0.788678, elapsed time: 0.04sec\n",
      "fold 23 - stack auc: 0.777319, elapsed time: 0.03sec\n",
      "fold 24 - stack auc: 0.773625, elapsed time: 0.03sec\n",
      "fold 25 - stack auc: 0.786652, elapsed time: 0.04sec\n",
      "fold 26 - stack auc: 0.784019, elapsed time: 0.04sec\n",
      "fold 27 - stack auc: 0.784020, elapsed time: 0.06sec\n",
      "fold 28 - stack auc: 0.796880, elapsed time: 0.04sec\n",
      "fold 29 - stack auc: 0.791471, elapsed time: 0.04sec\n",
      "fold 30 - stack auc: 0.793210, elapsed time: 0.08sec\n",
      "fold 31 - stack auc: 0.791562, elapsed time: 0.04sec\n",
      "fold 32 - stack auc: 0.791495, elapsed time: 0.04sec\n",
      "fold 33 - stack auc: 0.785536, elapsed time: 0.03sec\n",
      "fold 34 - stack auc: 0.779686, elapsed time: 0.04sec\n",
      "fold 35 - stack auc: 0.780101, elapsed time: 0.04sec\n",
      "fold 36 - stack auc: 0.798916, elapsed time: 0.04sec\n",
      "fold 37 - stack auc: 0.781559, elapsed time: 0.04sec\n",
      "fold 38 - stack auc: 0.785018, elapsed time: 0.04sec\n",
      "fold 39 - stack auc: 0.785855, elapsed time: 0.03sec\n",
      "fold 40 - stack auc: 0.786115, elapsed time: 0.02sec\n",
      "fold 41 - stack auc: 0.785149, elapsed time: 0.03sec\n",
      "fold 42 - stack auc: 0.791588, elapsed time: 0.04sec\n",
      "fold 43 - stack auc: 0.778168, elapsed time: 0.04sec\n",
      "fold 44 - stack auc: 0.796378, elapsed time: 0.04sec\n",
      "fold 45 - stack auc: 0.778539, elapsed time: 0.02sec\n",
      "fold 46 - stack auc: 0.794032, elapsed time: 0.04sec\n",
      "fold 47 - stack auc: 0.785138, elapsed time: 0.04sec\n",
      "fold 48 - stack auc: 0.786918, elapsed time: 0.03sec\n",
      "fold 49 - stack auc: 0.792128, elapsed time: 0.02sec\n",
      "oof stack auc = 0.787257\n"
     ]
    }
   ],
   "source": [
    "stack_oof = np.zeros(train.shape[0])\n",
    "stack_pred = np.zeros(test.shape[0])\n",
    "        \n",
    "rskf = RepeatedStratifiedKFold(n_splits=N_SPLITS, n_repeats=N_REPEATS, random_state=SEED)\n",
    "for fold, (trn_idx, val_idx) in enumerate(tqdm(rskf.split(X=train, y=train[target_column]), total=N_SPLITS*N_REPEATS)):\n",
    "    X_train, y_train = train[stack_features].iloc[trn_idx], train[target_column].iloc[trn_idx]\n",
    "    X_valid, y_valid = train[stack_features].iloc[val_idx], train[target_column].iloc[val_idx]\n",
    "    X_test = test[stack_features]\n",
    "\n",
    "    start = time.time()\n",
    "    model = RidgeCV()\n",
    "    model.fit(X_train, y_train)\n",
    "\n",
    "    stack_oof[val_idx] = model.predict(X_valid)\n",
    "    stack_pred += model.predict(X_test) / N_SPLITS / N_REPEATS\n",
    "\n",
    "    elapsed = time.time() - start\n",
    "    auc = roc_auc_score(y_valid, stack_oof[val_idx])\n",
    "    print(f\"fold {fold} - stack auc: {auc:.6f}, elapsed time: {elapsed:.2f}sec\")\n",
    "\n",
    "auc = roc_auc_score(train[target_column], stack_oof)\n",
    "print(f\"oof stack auc = {auc:.6f}\")"
   ]
  },
  {
   "cell_type": "code",
   "execution_count": 26,
   "id": "70398126",
   "metadata": {
    "execution": {
     "iopub.execute_input": "2022-02-28T15:49:41.509174Z",
     "iopub.status.busy": "2022-02-28T15:49:41.508553Z",
     "iopub.status.idle": "2022-02-28T15:49:41.604550Z",
     "shell.execute_reply": "2022-02-28T15:49:41.604962Z"
    },
    "papermill": {
     "duration": 0.148939,
     "end_time": "2022-02-28T15:49:41.605142",
     "exception": false,
     "start_time": "2022-02-28T15:49:41.456203",
     "status": "completed"
    },
    "tags": []
   },
   "outputs": [
    {
     "data": {
      "text/html": [
       "<div>\n",
       "<style scoped>\n",
       "    .dataframe tbody tr th:only-of-type {\n",
       "        vertical-align: middle;\n",
       "    }\n",
       "\n",
       "    .dataframe tbody tr th {\n",
       "        vertical-align: top;\n",
       "    }\n",
       "\n",
       "    .dataframe thead th {\n",
       "        text-align: right;\n",
       "    }\n",
       "</style>\n",
       "<table border=\"1\" class=\"dataframe\">\n",
       "  <thead>\n",
       "    <tr style=\"text-align: right;\">\n",
       "      <th></th>\n",
       "      <th>id</th>\n",
       "      <th>target</th>\n",
       "    </tr>\n",
       "  </thead>\n",
       "  <tbody>\n",
       "    <tr>\n",
       "      <th>0</th>\n",
       "      <td>5</td>\n",
       "      <td>0.421597</td>\n",
       "    </tr>\n",
       "    <tr>\n",
       "      <th>1</th>\n",
       "      <td>7</td>\n",
       "      <td>0.344590</td>\n",
       "    </tr>\n",
       "    <tr>\n",
       "      <th>2</th>\n",
       "      <td>9</td>\n",
       "      <td>0.345759</td>\n",
       "    </tr>\n",
       "    <tr>\n",
       "      <th>3</th>\n",
       "      <td>11</td>\n",
       "      <td>0.118148</td>\n",
       "    </tr>\n",
       "    <tr>\n",
       "      <th>4</th>\n",
       "      <td>14</td>\n",
       "      <td>0.287831</td>\n",
       "    </tr>\n",
       "    <tr>\n",
       "      <th>...</th>\n",
       "      <td>...</td>\n",
       "      <td>...</td>\n",
       "    </tr>\n",
       "    <tr>\n",
       "      <th>29995</th>\n",
       "      <td>99981</td>\n",
       "      <td>0.660740</td>\n",
       "    </tr>\n",
       "    <tr>\n",
       "      <th>29996</th>\n",
       "      <td>99982</td>\n",
       "      <td>0.306794</td>\n",
       "    </tr>\n",
       "    <tr>\n",
       "      <th>29997</th>\n",
       "      <td>99992</td>\n",
       "      <td>0.153379</td>\n",
       "    </tr>\n",
       "    <tr>\n",
       "      <th>29998</th>\n",
       "      <td>99993</td>\n",
       "      <td>0.574472</td>\n",
       "    </tr>\n",
       "    <tr>\n",
       "      <th>29999</th>\n",
       "      <td>99995</td>\n",
       "      <td>0.068376</td>\n",
       "    </tr>\n",
       "  </tbody>\n",
       "</table>\n",
       "<p>30000 rows × 2 columns</p>\n",
       "</div>"
      ],
      "text/plain": [
       "          id    target\n",
       "0          5  0.421597\n",
       "1          7  0.344590\n",
       "2          9  0.345759\n",
       "3         11  0.118148\n",
       "4         14  0.287831\n",
       "...      ...       ...\n",
       "29995  99981  0.660740\n",
       "29996  99982  0.306794\n",
       "29997  99992  0.153379\n",
       "29998  99993  0.574472\n",
       "29999  99995  0.068376\n",
       "\n",
       "[30000 rows x 2 columns]"
      ]
     },
     "execution_count": 26,
     "metadata": {},
     "output_type": "execute_result"
    }
   ],
   "source": [
    "submission[target_column] = stack_pred\n",
    "submission.to_csv(\"submission.csv\", index=False)\n",
    "submission"
   ]
  },
  {
   "cell_type": "code",
   "execution_count": null,
   "id": "3a3a83a9",
   "metadata": {
    "papermill": {
     "duration": 0.04795,
     "end_time": "2022-02-28T15:49:41.701592",
     "exception": false,
     "start_time": "2022-02-28T15:49:41.653642",
     "status": "completed"
    },
    "tags": []
   },
   "outputs": [],
   "source": []
  }
 ],
 "metadata": {
  "kernelspec": {
   "display_name": "Python 3",
   "language": "python",
   "name": "python3"
  },
  "language_info": {
   "codemirror_mode": {
    "name": "ipython",
    "version": 3
   },
   "file_extension": ".py",
   "mimetype": "text/x-python",
   "name": "python",
   "nbconvert_exporter": "python",
   "pygments_lexer": "ipython3",
   "version": "3.7.12"
  },
  "papermill": {
   "default_parameters": {},
   "duration": 12851.078876,
   "end_time": "2022-02-28T15:49:43.081733",
   "environment_variables": {},
   "exception": null,
   "input_path": "__notebook__.ipynb",
   "output_path": "__notebook__.ipynb",
   "parameters": {},
   "start_time": "2022-02-28T12:15:32.002857",
   "version": "2.3.3"
  },
  "widgets": {
   "application/vnd.jupyter.widget-state+json": {
    "state": {
     "03b9e28b731440ba8c4691e687b9f611": {
      "model_module": "@jupyter-widgets/controls",
      "model_module_version": "1.5.0",
      "model_name": "ProgressStyleModel",
      "state": {
       "_model_module": "@jupyter-widgets/controls",
       "_model_module_version": "1.5.0",
       "_model_name": "ProgressStyleModel",
       "_view_count": null,
       "_view_module": "@jupyter-widgets/base",
       "_view_module_version": "1.2.0",
       "_view_name": "StyleView",
       "bar_color": null,
       "description_width": ""
      }
     },
     "07f92cb03b1348838196c372082866a5": {
      "model_module": "@jupyter-widgets/base",
      "model_module_version": "1.2.0",
      "model_name": "LayoutModel",
      "state": {
       "_model_module": "@jupyter-widgets/base",
       "_model_module_version": "1.2.0",
       "_model_name": "LayoutModel",
       "_view_count": null,
       "_view_module": "@jupyter-widgets/base",
       "_view_module_version": "1.2.0",
       "_view_name": "LayoutView",
       "align_content": null,
       "align_items": null,
       "align_self": null,
       "border": null,
       "bottom": null,
       "display": null,
       "flex": null,
       "flex_flow": null,
       "grid_area": null,
       "grid_auto_columns": null,
       "grid_auto_flow": null,
       "grid_auto_rows": null,
       "grid_column": null,
       "grid_gap": null,
       "grid_row": null,
       "grid_template_areas": null,
       "grid_template_columns": null,
       "grid_template_rows": null,
       "height": null,
       "justify_content": null,
       "justify_items": null,
       "left": null,
       "margin": null,
       "max_height": null,
       "max_width": null,
       "min_height": null,
       "min_width": null,
       "object_fit": null,
       "object_position": null,
       "order": null,
       "overflow": null,
       "overflow_x": null,
       "overflow_y": null,
       "padding": null,
       "right": null,
       "top": null,
       "visibility": null,
       "width": null
      }
     },
     "0c29698ec66d4509b26de4c12c5c5f42": {
      "model_module": "@jupyter-widgets/controls",
      "model_module_version": "1.5.0",
      "model_name": "DescriptionStyleModel",
      "state": {
       "_model_module": "@jupyter-widgets/controls",
       "_model_module_version": "1.5.0",
       "_model_name": "DescriptionStyleModel",
       "_view_count": null,
       "_view_module": "@jupyter-widgets/base",
       "_view_module_version": "1.2.0",
       "_view_name": "StyleView",
       "description_width": ""
      }
     },
     "0f18c800489e44799ac9f3d5b7ba694a": {
      "model_module": "@jupyter-widgets/base",
      "model_module_version": "1.2.0",
      "model_name": "LayoutModel",
      "state": {
       "_model_module": "@jupyter-widgets/base",
       "_model_module_version": "1.2.0",
       "_model_name": "LayoutModel",
       "_view_count": null,
       "_view_module": "@jupyter-widgets/base",
       "_view_module_version": "1.2.0",
       "_view_name": "LayoutView",
       "align_content": null,
       "align_items": null,
       "align_self": null,
       "border": null,
       "bottom": null,
       "display": null,
       "flex": null,
       "flex_flow": null,
       "grid_area": null,
       "grid_auto_columns": null,
       "grid_auto_flow": null,
       "grid_auto_rows": null,
       "grid_column": null,
       "grid_gap": null,
       "grid_row": null,
       "grid_template_areas": null,
       "grid_template_columns": null,
       "grid_template_rows": null,
       "height": null,
       "justify_content": null,
       "justify_items": null,
       "left": null,
       "margin": null,
       "max_height": null,
       "max_width": null,
       "min_height": null,
       "min_width": null,
       "object_fit": null,
       "object_position": null,
       "order": null,
       "overflow": null,
       "overflow_x": null,
       "overflow_y": null,
       "padding": null,
       "right": null,
       "top": null,
       "visibility": null,
       "width": null
      }
     },
     "18b9a87c7aca4f8dbd9df2c328bf7553": {
      "model_module": "@jupyter-widgets/controls",
      "model_module_version": "1.5.0",
      "model_name": "DescriptionStyleModel",
      "state": {
       "_model_module": "@jupyter-widgets/controls",
       "_model_module_version": "1.5.0",
       "_model_name": "DescriptionStyleModel",
       "_view_count": null,
       "_view_module": "@jupyter-widgets/base",
       "_view_module_version": "1.2.0",
       "_view_name": "StyleView",
       "description_width": ""
      }
     },
     "18e25d204ef64a068119e9c2a694ab83": {
      "model_module": "@jupyter-widgets/controls",
      "model_module_version": "1.5.0",
      "model_name": "DescriptionStyleModel",
      "state": {
       "_model_module": "@jupyter-widgets/controls",
       "_model_module_version": "1.5.0",
       "_model_name": "DescriptionStyleModel",
       "_view_count": null,
       "_view_module": "@jupyter-widgets/base",
       "_view_module_version": "1.2.0",
       "_view_name": "StyleView",
       "description_width": ""
      }
     },
     "21dc87d7103b401196d8526610d9c9d7": {
      "model_module": "@jupyter-widgets/controls",
      "model_module_version": "1.5.0",
      "model_name": "HTMLModel",
      "state": {
       "_dom_classes": [],
       "_model_module": "@jupyter-widgets/controls",
       "_model_module_version": "1.5.0",
       "_model_name": "HTMLModel",
       "_view_count": null,
       "_view_module": "@jupyter-widgets/controls",
       "_view_module_version": "1.5.0",
       "_view_name": "HTMLView",
       "description": "",
       "description_tooltip": null,
       "layout": "IPY_MODEL_526d5e8b414a40378137b05a57a886de",
       "placeholder": "​",
       "style": "IPY_MODEL_e5954996824746dbbe9de9c5dd7c614e",
       "value": " 50/50 [44:00&lt;00:00, 53.53s/it]"
      }
     },
     "2273d2b9d81c48c3b2c2ff4bc0df8776": {
      "model_module": "@jupyter-widgets/controls",
      "model_module_version": "1.5.0",
      "model_name": "FloatProgressModel",
      "state": {
       "_dom_classes": [],
       "_model_module": "@jupyter-widgets/controls",
       "_model_module_version": "1.5.0",
       "_model_name": "FloatProgressModel",
       "_view_count": null,
       "_view_module": "@jupyter-widgets/controls",
       "_view_module_version": "1.5.0",
       "_view_name": "ProgressView",
       "bar_style": "success",
       "description": "",
       "description_tooltip": null,
       "layout": "IPY_MODEL_89b7797cb24c43b4affd665ae723df08",
       "max": 50.0,
       "min": 0.0,
       "orientation": "horizontal",
       "style": "IPY_MODEL_ebda1902a9934054917a8ff15c7bd89c",
       "value": 50.0
      }
     },
     "23ee7f8fd0084f92922ac94745831b61": {
      "model_module": "@jupyter-widgets/base",
      "model_module_version": "1.2.0",
      "model_name": "LayoutModel",
      "state": {
       "_model_module": "@jupyter-widgets/base",
       "_model_module_version": "1.2.0",
       "_model_name": "LayoutModel",
       "_view_count": null,
       "_view_module": "@jupyter-widgets/base",
       "_view_module_version": "1.2.0",
       "_view_name": "LayoutView",
       "align_content": null,
       "align_items": null,
       "align_self": null,
       "border": null,
       "bottom": null,
       "display": null,
       "flex": null,
       "flex_flow": null,
       "grid_area": null,
       "grid_auto_columns": null,
       "grid_auto_flow": null,
       "grid_auto_rows": null,
       "grid_column": null,
       "grid_gap": null,
       "grid_row": null,
       "grid_template_areas": null,
       "grid_template_columns": null,
       "grid_template_rows": null,
       "height": null,
       "justify_content": null,
       "justify_items": null,
       "left": null,
       "margin": null,
       "max_height": null,
       "max_width": null,
       "min_height": null,
       "min_width": null,
       "object_fit": null,
       "object_position": null,
       "order": null,
       "overflow": null,
       "overflow_x": null,
       "overflow_y": null,
       "padding": null,
       "right": null,
       "top": null,
       "visibility": null,
       "width": null
      }
     },
     "23f4c8580e35499b97cac6d8076486be": {
      "model_module": "@jupyter-widgets/base",
      "model_module_version": "1.2.0",
      "model_name": "LayoutModel",
      "state": {
       "_model_module": "@jupyter-widgets/base",
       "_model_module_version": "1.2.0",
       "_model_name": "LayoutModel",
       "_view_count": null,
       "_view_module": "@jupyter-widgets/base",
       "_view_module_version": "1.2.0",
       "_view_name": "LayoutView",
       "align_content": null,
       "align_items": null,
       "align_self": null,
       "border": null,
       "bottom": null,
       "display": null,
       "flex": null,
       "flex_flow": null,
       "grid_area": null,
       "grid_auto_columns": null,
       "grid_auto_flow": null,
       "grid_auto_rows": null,
       "grid_column": null,
       "grid_gap": null,
       "grid_row": null,
       "grid_template_areas": null,
       "grid_template_columns": null,
       "grid_template_rows": null,
       "height": null,
       "justify_content": null,
       "justify_items": null,
       "left": null,
       "margin": null,
       "max_height": null,
       "max_width": null,
       "min_height": null,
       "min_width": null,
       "object_fit": null,
       "object_position": null,
       "order": null,
       "overflow": null,
       "overflow_x": null,
       "overflow_y": null,
       "padding": null,
       "right": null,
       "top": null,
       "visibility": null,
       "width": null
      }
     },
     "24e3b8edaf924e56bc2489149c44448d": {
      "model_module": "@jupyter-widgets/controls",
      "model_module_version": "1.5.0",
      "model_name": "FloatProgressModel",
      "state": {
       "_dom_classes": [],
       "_model_module": "@jupyter-widgets/controls",
       "_model_module_version": "1.5.0",
       "_model_name": "FloatProgressModel",
       "_view_count": null,
       "_view_module": "@jupyter-widgets/controls",
       "_view_module_version": "1.5.0",
       "_view_name": "ProgressView",
       "bar_style": "success",
       "description": "",
       "description_tooltip": null,
       "layout": "IPY_MODEL_d915d3f642c040068cfa64a9e5b763ac",
       "max": 50.0,
       "min": 0.0,
       "orientation": "horizontal",
       "style": "IPY_MODEL_462fe7dbb5994cb8b31461978a1b1da5",
       "value": 50.0
      }
     },
     "26d8541b0e5c4e67bc0437ae088c7669": {
      "model_module": "@jupyter-widgets/base",
      "model_module_version": "1.2.0",
      "model_name": "LayoutModel",
      "state": {
       "_model_module": "@jupyter-widgets/base",
       "_model_module_version": "1.2.0",
       "_model_name": "LayoutModel",
       "_view_count": null,
       "_view_module": "@jupyter-widgets/base",
       "_view_module_version": "1.2.0",
       "_view_name": "LayoutView",
       "align_content": null,
       "align_items": null,
       "align_self": null,
       "border": null,
       "bottom": null,
       "display": null,
       "flex": null,
       "flex_flow": null,
       "grid_area": null,
       "grid_auto_columns": null,
       "grid_auto_flow": null,
       "grid_auto_rows": null,
       "grid_column": null,
       "grid_gap": null,
       "grid_row": null,
       "grid_template_areas": null,
       "grid_template_columns": null,
       "grid_template_rows": null,
       "height": null,
       "justify_content": null,
       "justify_items": null,
       "left": null,
       "margin": null,
       "max_height": null,
       "max_width": null,
       "min_height": null,
       "min_width": null,
       "object_fit": null,
       "object_position": null,
       "order": null,
       "overflow": null,
       "overflow_x": null,
       "overflow_y": null,
       "padding": null,
       "right": null,
       "top": null,
       "visibility": null,
       "width": null
      }
     },
     "29512893faf143bf98d7ad4960304213": {
      "model_module": "@jupyter-widgets/controls",
      "model_module_version": "1.5.0",
      "model_name": "HTMLModel",
      "state": {
       "_dom_classes": [],
       "_model_module": "@jupyter-widgets/controls",
       "_model_module_version": "1.5.0",
       "_model_name": "HTMLModel",
       "_view_count": null,
       "_view_module": "@jupyter-widgets/controls",
       "_view_module_version": "1.5.0",
       "_view_name": "HTMLView",
       "description": "",
       "description_tooltip": null,
       "layout": "IPY_MODEL_e443003201f44cc0954e57c44b61e449",
       "placeholder": "​",
       "style": "IPY_MODEL_0c29698ec66d4509b26de4c12c5c5f42",
       "value": "100%"
      }
     },
     "3a9ffd1eef3d4286abeffe42e90fb84c": {
      "model_module": "@jupyter-widgets/controls",
      "model_module_version": "1.5.0",
      "model_name": "HTMLModel",
      "state": {
       "_dom_classes": [],
       "_model_module": "@jupyter-widgets/controls",
       "_model_module_version": "1.5.0",
       "_model_name": "HTMLModel",
       "_view_count": null,
       "_view_module": "@jupyter-widgets/controls",
       "_view_module_version": "1.5.0",
       "_view_name": "HTMLView",
       "description": "",
       "description_tooltip": null,
       "layout": "IPY_MODEL_74909d056861482586b186b551e0b158",
       "placeholder": "​",
       "style": "IPY_MODEL_9bd426c53fa94085b0ca7802c3668cb2",
       "value": "100%"
      }
     },
     "462fe7dbb5994cb8b31461978a1b1da5": {
      "model_module": "@jupyter-widgets/controls",
      "model_module_version": "1.5.0",
      "model_name": "ProgressStyleModel",
      "state": {
       "_model_module": "@jupyter-widgets/controls",
       "_model_module_version": "1.5.0",
       "_model_name": "ProgressStyleModel",
       "_view_count": null,
       "_view_module": "@jupyter-widgets/base",
       "_view_module_version": "1.2.0",
       "_view_name": "StyleView",
       "bar_color": null,
       "description_width": ""
      }
     },
     "526d5e8b414a40378137b05a57a886de": {
      "model_module": "@jupyter-widgets/base",
      "model_module_version": "1.2.0",
      "model_name": "LayoutModel",
      "state": {
       "_model_module": "@jupyter-widgets/base",
       "_model_module_version": "1.2.0",
       "_model_name": "LayoutModel",
       "_view_count": null,
       "_view_module": "@jupyter-widgets/base",
       "_view_module_version": "1.2.0",
       "_view_name": "LayoutView",
       "align_content": null,
       "align_items": null,
       "align_self": null,
       "border": null,
       "bottom": null,
       "display": null,
       "flex": null,
       "flex_flow": null,
       "grid_area": null,
       "grid_auto_columns": null,
       "grid_auto_flow": null,
       "grid_auto_rows": null,
       "grid_column": null,
       "grid_gap": null,
       "grid_row": null,
       "grid_template_areas": null,
       "grid_template_columns": null,
       "grid_template_rows": null,
       "height": null,
       "justify_content": null,
       "justify_items": null,
       "left": null,
       "margin": null,
       "max_height": null,
       "max_width": null,
       "min_height": null,
       "min_width": null,
       "object_fit": null,
       "object_position": null,
       "order": null,
       "overflow": null,
       "overflow_x": null,
       "overflow_y": null,
       "padding": null,
       "right": null,
       "top": null,
       "visibility": null,
       "width": null
      }
     },
     "54650c20f9d040fa8b2accfda4604f3f": {
      "model_module": "@jupyter-widgets/controls",
      "model_module_version": "1.5.0",
      "model_name": "HBoxModel",
      "state": {
       "_dom_classes": [],
       "_model_module": "@jupyter-widgets/controls",
       "_model_module_version": "1.5.0",
       "_model_name": "HBoxModel",
       "_view_count": null,
       "_view_module": "@jupyter-widgets/controls",
       "_view_module_version": "1.5.0",
       "_view_name": "HBoxView",
       "box_style": "",
       "children": [
        "IPY_MODEL_bcbb4084cefd482fa442c4deb20252d3",
        "IPY_MODEL_2273d2b9d81c48c3b2c2ff4bc0df8776",
        "IPY_MODEL_ed35be3e33dc45f59a279c1c3c30ad29"
       ],
       "layout": "IPY_MODEL_23f4c8580e35499b97cac6d8076486be"
      }
     },
     "61f70bcaacd2477098a88028943cefb3": {
      "model_module": "@jupyter-widgets/controls",
      "model_module_version": "1.5.0",
      "model_name": "HTMLModel",
      "state": {
       "_dom_classes": [],
       "_model_module": "@jupyter-widgets/controls",
       "_model_module_version": "1.5.0",
       "_model_name": "HTMLModel",
       "_view_count": null,
       "_view_module": "@jupyter-widgets/controls",
       "_view_module_version": "1.5.0",
       "_view_name": "HTMLView",
       "description": "",
       "description_tooltip": null,
       "layout": "IPY_MODEL_23ee7f8fd0084f92922ac94745831b61",
       "placeholder": "​",
       "style": "IPY_MODEL_90685a5df24d4be58b51a18af7fbfd99",
       "value": " 50/50 [00:03&lt;00:00, 16.84it/s]"
      }
     },
     "74909d056861482586b186b551e0b158": {
      "model_module": "@jupyter-widgets/base",
      "model_module_version": "1.2.0",
      "model_name": "LayoutModel",
      "state": {
       "_model_module": "@jupyter-widgets/base",
       "_model_module_version": "1.2.0",
       "_model_name": "LayoutModel",
       "_view_count": null,
       "_view_module": "@jupyter-widgets/base",
       "_view_module_version": "1.2.0",
       "_view_name": "LayoutView",
       "align_content": null,
       "align_items": null,
       "align_self": null,
       "border": null,
       "bottom": null,
       "display": null,
       "flex": null,
       "flex_flow": null,
       "grid_area": null,
       "grid_auto_columns": null,
       "grid_auto_flow": null,
       "grid_auto_rows": null,
       "grid_column": null,
       "grid_gap": null,
       "grid_row": null,
       "grid_template_areas": null,
       "grid_template_columns": null,
       "grid_template_rows": null,
       "height": null,
       "justify_content": null,
       "justify_items": null,
       "left": null,
       "margin": null,
       "max_height": null,
       "max_width": null,
       "min_height": null,
       "min_width": null,
       "object_fit": null,
       "object_position": null,
       "order": null,
       "overflow": null,
       "overflow_x": null,
       "overflow_y": null,
       "padding": null,
       "right": null,
       "top": null,
       "visibility": null,
       "width": null
      }
     },
     "78ab00a5d18d4de292b727bf275760da": {
      "model_module": "@jupyter-widgets/base",
      "model_module_version": "1.2.0",
      "model_name": "LayoutModel",
      "state": {
       "_model_module": "@jupyter-widgets/base",
       "_model_module_version": "1.2.0",
       "_model_name": "LayoutModel",
       "_view_count": null,
       "_view_module": "@jupyter-widgets/base",
       "_view_module_version": "1.2.0",
       "_view_name": "LayoutView",
       "align_content": null,
       "align_items": null,
       "align_self": null,
       "border": null,
       "bottom": null,
       "display": null,
       "flex": null,
       "flex_flow": null,
       "grid_area": null,
       "grid_auto_columns": null,
       "grid_auto_flow": null,
       "grid_auto_rows": null,
       "grid_column": null,
       "grid_gap": null,
       "grid_row": null,
       "grid_template_areas": null,
       "grid_template_columns": null,
       "grid_template_rows": null,
       "height": null,
       "justify_content": null,
       "justify_items": null,
       "left": null,
       "margin": null,
       "max_height": null,
       "max_width": null,
       "min_height": null,
       "min_width": null,
       "object_fit": null,
       "object_position": null,
       "order": null,
       "overflow": null,
       "overflow_x": null,
       "overflow_y": null,
       "padding": null,
       "right": null,
       "top": null,
       "visibility": null,
       "width": null
      }
     },
     "7d650a68ddba4d319cb35112b5794cd9": {
      "model_module": "@jupyter-widgets/controls",
      "model_module_version": "1.5.0",
      "model_name": "HTMLModel",
      "state": {
       "_dom_classes": [],
       "_model_module": "@jupyter-widgets/controls",
       "_model_module_version": "1.5.0",
       "_model_name": "HTMLModel",
       "_view_count": null,
       "_view_module": "@jupyter-widgets/controls",
       "_view_module_version": "1.5.0",
       "_view_name": "HTMLView",
       "description": "",
       "description_tooltip": null,
       "layout": "IPY_MODEL_bfda0fd1f1874f0bb9cebbca2a2599f3",
       "placeholder": "​",
       "style": "IPY_MODEL_18e25d204ef64a068119e9c2a694ab83",
       "value": "100%"
      }
     },
     "7f88e03f46f44548b505d2ed38513643": {
      "model_module": "@jupyter-widgets/controls",
      "model_module_version": "1.5.0",
      "model_name": "FloatProgressModel",
      "state": {
       "_dom_classes": [],
       "_model_module": "@jupyter-widgets/controls",
       "_model_module_version": "1.5.0",
       "_model_name": "FloatProgressModel",
       "_view_count": null,
       "_view_module": "@jupyter-widgets/controls",
       "_view_module_version": "1.5.0",
       "_view_name": "ProgressView",
       "bar_style": "success",
       "description": "",
       "description_tooltip": null,
       "layout": "IPY_MODEL_26d8541b0e5c4e67bc0437ae088c7669",
       "max": 50.0,
       "min": 0.0,
       "orientation": "horizontal",
       "style": "IPY_MODEL_c67bd5a3039946e3b7969af67000c1f6",
       "value": 50.0
      }
     },
     "826f0fdde151495d8c6a1ddf6fffba2f": {
      "model_module": "@jupyter-widgets/controls",
      "model_module_version": "1.5.0",
      "model_name": "HTMLModel",
      "state": {
       "_dom_classes": [],
       "_model_module": "@jupyter-widgets/controls",
       "_model_module_version": "1.5.0",
       "_model_name": "HTMLModel",
       "_view_count": null,
       "_view_module": "@jupyter-widgets/controls",
       "_view_module_version": "1.5.0",
       "_view_name": "HTMLView",
       "description": "",
       "description_tooltip": null,
       "layout": "IPY_MODEL_07f92cb03b1348838196c372082866a5",
       "placeholder": "​",
       "style": "IPY_MODEL_fe0fe5d5929945bb98f02eb0e43f65dd",
       "value": " 50/50 [1:56:21&lt;00:00, 143.39s/it]"
      }
     },
     "8390ad523bf846ddb098d19509eb43b3": {
      "model_module": "@jupyter-widgets/controls",
      "model_module_version": "1.5.0",
      "model_name": "FloatProgressModel",
      "state": {
       "_dom_classes": [],
       "_model_module": "@jupyter-widgets/controls",
       "_model_module_version": "1.5.0",
       "_model_name": "FloatProgressModel",
       "_view_count": null,
       "_view_module": "@jupyter-widgets/controls",
       "_view_module_version": "1.5.0",
       "_view_name": "ProgressView",
       "bar_style": "success",
       "description": "",
       "description_tooltip": null,
       "layout": "IPY_MODEL_9115503dc1a64bfe8852e9c5c9268bab",
       "max": 50.0,
       "min": 0.0,
       "orientation": "horizontal",
       "style": "IPY_MODEL_03b9e28b731440ba8c4691e687b9f611",
       "value": 50.0
      }
     },
     "8611d45138a9410ab99f40da1e44135c": {
      "model_module": "@jupyter-widgets/controls",
      "model_module_version": "1.5.0",
      "model_name": "HBoxModel",
      "state": {
       "_dom_classes": [],
       "_model_module": "@jupyter-widgets/controls",
       "_model_module_version": "1.5.0",
       "_model_name": "HBoxModel",
       "_view_count": null,
       "_view_module": "@jupyter-widgets/controls",
       "_view_module_version": "1.5.0",
       "_view_name": "HBoxView",
       "box_style": "",
       "children": [
        "IPY_MODEL_3a9ffd1eef3d4286abeffe42e90fb84c",
        "IPY_MODEL_24e3b8edaf924e56bc2489149c44448d",
        "IPY_MODEL_61f70bcaacd2477098a88028943cefb3"
       ],
       "layout": "IPY_MODEL_f85b5caabcf14cd198387e7e21ced5a8"
      }
     },
     "89b7797cb24c43b4affd665ae723df08": {
      "model_module": "@jupyter-widgets/base",
      "model_module_version": "1.2.0",
      "model_name": "LayoutModel",
      "state": {
       "_model_module": "@jupyter-widgets/base",
       "_model_module_version": "1.2.0",
       "_model_name": "LayoutModel",
       "_view_count": null,
       "_view_module": "@jupyter-widgets/base",
       "_view_module_version": "1.2.0",
       "_view_name": "LayoutView",
       "align_content": null,
       "align_items": null,
       "align_self": null,
       "border": null,
       "bottom": null,
       "display": null,
       "flex": null,
       "flex_flow": null,
       "grid_area": null,
       "grid_auto_columns": null,
       "grid_auto_flow": null,
       "grid_auto_rows": null,
       "grid_column": null,
       "grid_gap": null,
       "grid_row": null,
       "grid_template_areas": null,
       "grid_template_columns": null,
       "grid_template_rows": null,
       "height": null,
       "justify_content": null,
       "justify_items": null,
       "left": null,
       "margin": null,
       "max_height": null,
       "max_width": null,
       "min_height": null,
       "min_width": null,
       "object_fit": null,
       "object_position": null,
       "order": null,
       "overflow": null,
       "overflow_x": null,
       "overflow_y": null,
       "padding": null,
       "right": null,
       "top": null,
       "visibility": null,
       "width": null
      }
     },
     "90685a5df24d4be58b51a18af7fbfd99": {
      "model_module": "@jupyter-widgets/controls",
      "model_module_version": "1.5.0",
      "model_name": "DescriptionStyleModel",
      "state": {
       "_model_module": "@jupyter-widgets/controls",
       "_model_module_version": "1.5.0",
       "_model_name": "DescriptionStyleModel",
       "_view_count": null,
       "_view_module": "@jupyter-widgets/base",
       "_view_module_version": "1.2.0",
       "_view_name": "StyleView",
       "description_width": ""
      }
     },
     "9115503dc1a64bfe8852e9c5c9268bab": {
      "model_module": "@jupyter-widgets/base",
      "model_module_version": "1.2.0",
      "model_name": "LayoutModel",
      "state": {
       "_model_module": "@jupyter-widgets/base",
       "_model_module_version": "1.2.0",
       "_model_name": "LayoutModel",
       "_view_count": null,
       "_view_module": "@jupyter-widgets/base",
       "_view_module_version": "1.2.0",
       "_view_name": "LayoutView",
       "align_content": null,
       "align_items": null,
       "align_self": null,
       "border": null,
       "bottom": null,
       "display": null,
       "flex": null,
       "flex_flow": null,
       "grid_area": null,
       "grid_auto_columns": null,
       "grid_auto_flow": null,
       "grid_auto_rows": null,
       "grid_column": null,
       "grid_gap": null,
       "grid_row": null,
       "grid_template_areas": null,
       "grid_template_columns": null,
       "grid_template_rows": null,
       "height": null,
       "justify_content": null,
       "justify_items": null,
       "left": null,
       "margin": null,
       "max_height": null,
       "max_width": null,
       "min_height": null,
       "min_width": null,
       "object_fit": null,
       "object_position": null,
       "order": null,
       "overflow": null,
       "overflow_x": null,
       "overflow_y": null,
       "padding": null,
       "right": null,
       "top": null,
       "visibility": null,
       "width": null
      }
     },
     "94abc8b605f543e08dee748a28f88a25": {
      "model_module": "@jupyter-widgets/controls",
      "model_module_version": "1.5.0",
      "model_name": "HBoxModel",
      "state": {
       "_dom_classes": [],
       "_model_module": "@jupyter-widgets/controls",
       "_model_module_version": "1.5.0",
       "_model_name": "HBoxModel",
       "_view_count": null,
       "_view_module": "@jupyter-widgets/controls",
       "_view_module_version": "1.5.0",
       "_view_name": "HBoxView",
       "box_style": "",
       "children": [
        "IPY_MODEL_7d650a68ddba4d319cb35112b5794cd9",
        "IPY_MODEL_7f88e03f46f44548b505d2ed38513643",
        "IPY_MODEL_826f0fdde151495d8c6a1ddf6fffba2f"
       ],
       "layout": "IPY_MODEL_78ab00a5d18d4de292b727bf275760da"
      }
     },
     "9bd426c53fa94085b0ca7802c3668cb2": {
      "model_module": "@jupyter-widgets/controls",
      "model_module_version": "1.5.0",
      "model_name": "DescriptionStyleModel",
      "state": {
       "_model_module": "@jupyter-widgets/controls",
       "_model_module_version": "1.5.0",
       "_model_name": "DescriptionStyleModel",
       "_view_count": null,
       "_view_module": "@jupyter-widgets/base",
       "_view_module_version": "1.2.0",
       "_view_name": "StyleView",
       "description_width": ""
      }
     },
     "b88be3de8786440685b94dd00495f1a3": {
      "model_module": "@jupyter-widgets/base",
      "model_module_version": "1.2.0",
      "model_name": "LayoutModel",
      "state": {
       "_model_module": "@jupyter-widgets/base",
       "_model_module_version": "1.2.0",
       "_model_name": "LayoutModel",
       "_view_count": null,
       "_view_module": "@jupyter-widgets/base",
       "_view_module_version": "1.2.0",
       "_view_name": "LayoutView",
       "align_content": null,
       "align_items": null,
       "align_self": null,
       "border": null,
       "bottom": null,
       "display": null,
       "flex": null,
       "flex_flow": null,
       "grid_area": null,
       "grid_auto_columns": null,
       "grid_auto_flow": null,
       "grid_auto_rows": null,
       "grid_column": null,
       "grid_gap": null,
       "grid_row": null,
       "grid_template_areas": null,
       "grid_template_columns": null,
       "grid_template_rows": null,
       "height": null,
       "justify_content": null,
       "justify_items": null,
       "left": null,
       "margin": null,
       "max_height": null,
       "max_width": null,
       "min_height": null,
       "min_width": null,
       "object_fit": null,
       "object_position": null,
       "order": null,
       "overflow": null,
       "overflow_x": null,
       "overflow_y": null,
       "padding": null,
       "right": null,
       "top": null,
       "visibility": null,
       "width": null
      }
     },
     "bcbb4084cefd482fa442c4deb20252d3": {
      "model_module": "@jupyter-widgets/controls",
      "model_module_version": "1.5.0",
      "model_name": "HTMLModel",
      "state": {
       "_dom_classes": [],
       "_model_module": "@jupyter-widgets/controls",
       "_model_module_version": "1.5.0",
       "_model_name": "HTMLModel",
       "_view_count": null,
       "_view_module": "@jupyter-widgets/controls",
       "_view_module_version": "1.5.0",
       "_view_name": "HTMLView",
       "description": "",
       "description_tooltip": null,
       "layout": "IPY_MODEL_f4e3a03b57c74c23a52fccda236f9232",
       "placeholder": "​",
       "style": "IPY_MODEL_f72383cbf48542a68dcdb52183233b1b",
       "value": "100%"
      }
     },
     "bfda0fd1f1874f0bb9cebbca2a2599f3": {
      "model_module": "@jupyter-widgets/base",
      "model_module_version": "1.2.0",
      "model_name": "LayoutModel",
      "state": {
       "_model_module": "@jupyter-widgets/base",
       "_model_module_version": "1.2.0",
       "_model_name": "LayoutModel",
       "_view_count": null,
       "_view_module": "@jupyter-widgets/base",
       "_view_module_version": "1.2.0",
       "_view_name": "LayoutView",
       "align_content": null,
       "align_items": null,
       "align_self": null,
       "border": null,
       "bottom": null,
       "display": null,
       "flex": null,
       "flex_flow": null,
       "grid_area": null,
       "grid_auto_columns": null,
       "grid_auto_flow": null,
       "grid_auto_rows": null,
       "grid_column": null,
       "grid_gap": null,
       "grid_row": null,
       "grid_template_areas": null,
       "grid_template_columns": null,
       "grid_template_rows": null,
       "height": null,
       "justify_content": null,
       "justify_items": null,
       "left": null,
       "margin": null,
       "max_height": null,
       "max_width": null,
       "min_height": null,
       "min_width": null,
       "object_fit": null,
       "object_position": null,
       "order": null,
       "overflow": null,
       "overflow_x": null,
       "overflow_y": null,
       "padding": null,
       "right": null,
       "top": null,
       "visibility": null,
       "width": null
      }
     },
     "c67bd5a3039946e3b7969af67000c1f6": {
      "model_module": "@jupyter-widgets/controls",
      "model_module_version": "1.5.0",
      "model_name": "ProgressStyleModel",
      "state": {
       "_model_module": "@jupyter-widgets/controls",
       "_model_module_version": "1.5.0",
       "_model_name": "ProgressStyleModel",
       "_view_count": null,
       "_view_module": "@jupyter-widgets/base",
       "_view_module_version": "1.2.0",
       "_view_name": "StyleView",
       "bar_color": null,
       "description_width": ""
      }
     },
     "d915d3f642c040068cfa64a9e5b763ac": {
      "model_module": "@jupyter-widgets/base",
      "model_module_version": "1.2.0",
      "model_name": "LayoutModel",
      "state": {
       "_model_module": "@jupyter-widgets/base",
       "_model_module_version": "1.2.0",
       "_model_name": "LayoutModel",
       "_view_count": null,
       "_view_module": "@jupyter-widgets/base",
       "_view_module_version": "1.2.0",
       "_view_name": "LayoutView",
       "align_content": null,
       "align_items": null,
       "align_self": null,
       "border": null,
       "bottom": null,
       "display": null,
       "flex": null,
       "flex_flow": null,
       "grid_area": null,
       "grid_auto_columns": null,
       "grid_auto_flow": null,
       "grid_auto_rows": null,
       "grid_column": null,
       "grid_gap": null,
       "grid_row": null,
       "grid_template_areas": null,
       "grid_template_columns": null,
       "grid_template_rows": null,
       "height": null,
       "justify_content": null,
       "justify_items": null,
       "left": null,
       "margin": null,
       "max_height": null,
       "max_width": null,
       "min_height": null,
       "min_width": null,
       "object_fit": null,
       "object_position": null,
       "order": null,
       "overflow": null,
       "overflow_x": null,
       "overflow_y": null,
       "padding": null,
       "right": null,
       "top": null,
       "visibility": null,
       "width": null
      }
     },
     "e443003201f44cc0954e57c44b61e449": {
      "model_module": "@jupyter-widgets/base",
      "model_module_version": "1.2.0",
      "model_name": "LayoutModel",
      "state": {
       "_model_module": "@jupyter-widgets/base",
       "_model_module_version": "1.2.0",
       "_model_name": "LayoutModel",
       "_view_count": null,
       "_view_module": "@jupyter-widgets/base",
       "_view_module_version": "1.2.0",
       "_view_name": "LayoutView",
       "align_content": null,
       "align_items": null,
       "align_self": null,
       "border": null,
       "bottom": null,
       "display": null,
       "flex": null,
       "flex_flow": null,
       "grid_area": null,
       "grid_auto_columns": null,
       "grid_auto_flow": null,
       "grid_auto_rows": null,
       "grid_column": null,
       "grid_gap": null,
       "grid_row": null,
       "grid_template_areas": null,
       "grid_template_columns": null,
       "grid_template_rows": null,
       "height": null,
       "justify_content": null,
       "justify_items": null,
       "left": null,
       "margin": null,
       "max_height": null,
       "max_width": null,
       "min_height": null,
       "min_width": null,
       "object_fit": null,
       "object_position": null,
       "order": null,
       "overflow": null,
       "overflow_x": null,
       "overflow_y": null,
       "padding": null,
       "right": null,
       "top": null,
       "visibility": null,
       "width": null
      }
     },
     "e524444c2ade419fb3160302d7a29afc": {
      "model_module": "@jupyter-widgets/controls",
      "model_module_version": "1.5.0",
      "model_name": "HBoxModel",
      "state": {
       "_dom_classes": [],
       "_model_module": "@jupyter-widgets/controls",
       "_model_module_version": "1.5.0",
       "_model_name": "HBoxModel",
       "_view_count": null,
       "_view_module": "@jupyter-widgets/controls",
       "_view_module_version": "1.5.0",
       "_view_name": "HBoxView",
       "box_style": "",
       "children": [
        "IPY_MODEL_29512893faf143bf98d7ad4960304213",
        "IPY_MODEL_8390ad523bf846ddb098d19509eb43b3",
        "IPY_MODEL_21dc87d7103b401196d8526610d9c9d7"
       ],
       "layout": "IPY_MODEL_b88be3de8786440685b94dd00495f1a3"
      }
     },
     "e5954996824746dbbe9de9c5dd7c614e": {
      "model_module": "@jupyter-widgets/controls",
      "model_module_version": "1.5.0",
      "model_name": "DescriptionStyleModel",
      "state": {
       "_model_module": "@jupyter-widgets/controls",
       "_model_module_version": "1.5.0",
       "_model_name": "DescriptionStyleModel",
       "_view_count": null,
       "_view_module": "@jupyter-widgets/base",
       "_view_module_version": "1.2.0",
       "_view_name": "StyleView",
       "description_width": ""
      }
     },
     "ebda1902a9934054917a8ff15c7bd89c": {
      "model_module": "@jupyter-widgets/controls",
      "model_module_version": "1.5.0",
      "model_name": "ProgressStyleModel",
      "state": {
       "_model_module": "@jupyter-widgets/controls",
       "_model_module_version": "1.5.0",
       "_model_name": "ProgressStyleModel",
       "_view_count": null,
       "_view_module": "@jupyter-widgets/base",
       "_view_module_version": "1.2.0",
       "_view_name": "StyleView",
       "bar_color": null,
       "description_width": ""
      }
     },
     "ed35be3e33dc45f59a279c1c3c30ad29": {
      "model_module": "@jupyter-widgets/controls",
      "model_module_version": "1.5.0",
      "model_name": "HTMLModel",
      "state": {
       "_dom_classes": [],
       "_model_module": "@jupyter-widgets/controls",
       "_model_module_version": "1.5.0",
       "_model_name": "HTMLModel",
       "_view_count": null,
       "_view_module": "@jupyter-widgets/controls",
       "_view_module_version": "1.5.0",
       "_view_name": "HTMLView",
       "description": "",
       "description_tooltip": null,
       "layout": "IPY_MODEL_0f18c800489e44799ac9f3d5b7ba694a",
       "placeholder": "​",
       "style": "IPY_MODEL_18b9a87c7aca4f8dbd9df2c328bf7553",
       "value": " 50/50 [52:18&lt;00:00, 59.70s/it]"
      }
     },
     "f4e3a03b57c74c23a52fccda236f9232": {
      "model_module": "@jupyter-widgets/base",
      "model_module_version": "1.2.0",
      "model_name": "LayoutModel",
      "state": {
       "_model_module": "@jupyter-widgets/base",
       "_model_module_version": "1.2.0",
       "_model_name": "LayoutModel",
       "_view_count": null,
       "_view_module": "@jupyter-widgets/base",
       "_view_module_version": "1.2.0",
       "_view_name": "LayoutView",
       "align_content": null,
       "align_items": null,
       "align_self": null,
       "border": null,
       "bottom": null,
       "display": null,
       "flex": null,
       "flex_flow": null,
       "grid_area": null,
       "grid_auto_columns": null,
       "grid_auto_flow": null,
       "grid_auto_rows": null,
       "grid_column": null,
       "grid_gap": null,
       "grid_row": null,
       "grid_template_areas": null,
       "grid_template_columns": null,
       "grid_template_rows": null,
       "height": null,
       "justify_content": null,
       "justify_items": null,
       "left": null,
       "margin": null,
       "max_height": null,
       "max_width": null,
       "min_height": null,
       "min_width": null,
       "object_fit": null,
       "object_position": null,
       "order": null,
       "overflow": null,
       "overflow_x": null,
       "overflow_y": null,
       "padding": null,
       "right": null,
       "top": null,
       "visibility": null,
       "width": null
      }
     },
     "f72383cbf48542a68dcdb52183233b1b": {
      "model_module": "@jupyter-widgets/controls",
      "model_module_version": "1.5.0",
      "model_name": "DescriptionStyleModel",
      "state": {
       "_model_module": "@jupyter-widgets/controls",
       "_model_module_version": "1.5.0",
       "_model_name": "DescriptionStyleModel",
       "_view_count": null,
       "_view_module": "@jupyter-widgets/base",
       "_view_module_version": "1.2.0",
       "_view_name": "StyleView",
       "description_width": ""
      }
     },
     "f85b5caabcf14cd198387e7e21ced5a8": {
      "model_module": "@jupyter-widgets/base",
      "model_module_version": "1.2.0",
      "model_name": "LayoutModel",
      "state": {
       "_model_module": "@jupyter-widgets/base",
       "_model_module_version": "1.2.0",
       "_model_name": "LayoutModel",
       "_view_count": null,
       "_view_module": "@jupyter-widgets/base",
       "_view_module_version": "1.2.0",
       "_view_name": "LayoutView",
       "align_content": null,
       "align_items": null,
       "align_self": null,
       "border": null,
       "bottom": null,
       "display": null,
       "flex": null,
       "flex_flow": null,
       "grid_area": null,
       "grid_auto_columns": null,
       "grid_auto_flow": null,
       "grid_auto_rows": null,
       "grid_column": null,
       "grid_gap": null,
       "grid_row": null,
       "grid_template_areas": null,
       "grid_template_columns": null,
       "grid_template_rows": null,
       "height": null,
       "justify_content": null,
       "justify_items": null,
       "left": null,
       "margin": null,
       "max_height": null,
       "max_width": null,
       "min_height": null,
       "min_width": null,
       "object_fit": null,
       "object_position": null,
       "order": null,
       "overflow": null,
       "overflow_x": null,
       "overflow_y": null,
       "padding": null,
       "right": null,
       "top": null,
       "visibility": null,
       "width": null
      }
     },
     "fe0fe5d5929945bb98f02eb0e43f65dd": {
      "model_module": "@jupyter-widgets/controls",
      "model_module_version": "1.5.0",
      "model_name": "DescriptionStyleModel",
      "state": {
       "_model_module": "@jupyter-widgets/controls",
       "_model_module_version": "1.5.0",
       "_model_name": "DescriptionStyleModel",
       "_view_count": null,
       "_view_module": "@jupyter-widgets/base",
       "_view_module_version": "1.2.0",
       "_view_name": "StyleView",
       "description_width": ""
      }
     }
    },
    "version_major": 2,
    "version_minor": 0
   }
  }
 },
 "nbformat": 4,
 "nbformat_minor": 5
}
