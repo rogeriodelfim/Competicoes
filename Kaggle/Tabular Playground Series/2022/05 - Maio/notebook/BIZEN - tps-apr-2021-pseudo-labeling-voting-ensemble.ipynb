{
 "cells": [
  {
   "cell_type": "markdown",
   "id": "renewable-effort",
   "metadata": {
    "papermill": {
     "duration": 0.023427,
     "end_time": "2021-04-23T04:18:30.171028",
     "exception": false,
     "start_time": "2021-04-23T04:18:30.147601",
     "status": "completed"
    },
    "tags": []
   },
   "source": [
    "# Libraries"
   ]
  },
  {
   "cell_type": "code",
   "execution_count": 1,
   "id": "warming-begin",
   "metadata": {
    "ExecuteTime": {
     "end_time": "2021-04-05T07:36:19.629205Z",
     "start_time": "2021-04-05T07:36:19.625401Z"
    },
    "_cell_guid": "e084ed06-ea73-4241-8faa-7be314013adb",
    "_uuid": "8422c101-b93a-4f1e-b917-272554859ddb",
    "collapsed": false,
    "execution": {
     "iopub.execute_input": "2021-04-23T04:18:30.218537Z",
     "iopub.status.busy": "2021-04-23T04:18:30.217100Z",
     "iopub.status.idle": "2021-04-23T04:18:31.455330Z",
     "shell.execute_reply": "2021-04-23T04:18:31.454248Z"
    },
    "jupyter": {
     "outputs_hidden": false
    },
    "papermill": {
     "duration": 1.262516,
     "end_time": "2021-04-23T04:18:31.455492",
     "exception": false,
     "start_time": "2021-04-23T04:18:30.192976",
     "status": "completed"
    },
    "tags": []
   },
   "outputs": [
    {
     "data": {
      "text/html": [
       "<style type='text/css'>\n",
       ".datatable table.frame { margin-bottom: 0; }\n",
       ".datatable table.frame thead { border-bottom: none; }\n",
       ".datatable table.frame tr.coltypes td {  color: #FFFFFF;  line-height: 6px;  padding: 0 0.5em;}\n",
       ".datatable .bool    { background: #DDDD99; }\n",
       ".datatable .object  { background: #565656; }\n",
       ".datatable .int     { background: #5D9E5D; }\n",
       ".datatable .float   { background: #4040CC; }\n",
       ".datatable .str     { background: #CC4040; }\n",
       ".datatable .row_index {  background: var(--jp-border-color3);  border-right: 1px solid var(--jp-border-color0);  color: var(--jp-ui-font-color3);  font-size: 9px;}\n",
       ".datatable .frame tr.coltypes .row_index {  background: var(--jp-border-color0);}\n",
       ".datatable th:nth-child(2) { padding-left: 12px; }\n",
       ".datatable .hellipsis {  color: var(--jp-cell-editor-border-color);}\n",
       ".datatable .vellipsis {  background: var(--jp-layout-color0);  color: var(--jp-cell-editor-border-color);}\n",
       ".datatable .na {  color: var(--jp-cell-editor-border-color);  font-size: 80%;}\n",
       ".datatable .footer { font-size: 9px; }\n",
       ".datatable .frame_dimensions {  background: var(--jp-border-color3);  border-top: 1px solid var(--jp-border-color0);  color: var(--jp-ui-font-color3);  display: inline-block;  opacity: 0.6;  padding: 1px 10px 1px 5px;}\n",
       "</style>\n"
      ],
      "text/plain": [
       "<IPython.core.display.HTML object>"
      ]
     },
     "metadata": {},
     "output_type": "display_data"
    }
   ],
   "source": [
    "import pandas as pd\n",
    "import numpy as np\n",
    "import random\n",
    "import os\n",
    "\n",
    "from sklearn.metrics import accuracy_score\n",
    "from sklearn.preprocessing import LabelEncoder, StandardScaler\n",
    "from sklearn.model_selection import train_test_split, KFold, StratifiedKFold\n",
    "\n",
    "import lightgbm as lgb\n",
    "import catboost as ctb\n",
    "from sklearn.model_selection import GridSearchCV\n",
    "from sklearn.tree import DecisionTreeClassifier, export_graphviz\n",
    "\n",
    "import graphviz\n",
    "import matplotlib.pyplot as plt\n",
    "import seaborn as sns\n",
    "\n",
    "import warnings\n",
    "warnings.simplefilter('ignore')"
   ]
  },
  {
   "cell_type": "code",
   "execution_count": 2,
   "id": "faced-rabbit",
   "metadata": {
    "execution": {
     "iopub.execute_input": "2021-04-23T04:18:31.502265Z",
     "iopub.status.busy": "2021-04-23T04:18:31.501583Z",
     "iopub.status.idle": "2021-04-23T04:18:31.504593Z",
     "shell.execute_reply": "2021-04-23T04:18:31.504175Z"
    },
    "papermill": {
     "duration": 0.028197,
     "end_time": "2021-04-23T04:18:31.504701",
     "exception": false,
     "start_time": "2021-04-23T04:18:31.476504",
     "status": "completed"
    },
    "tags": []
   },
   "outputs": [],
   "source": [
    "TARGET = 'Survived'\n",
    "\n",
    "N_ESTIMATORS = 1000\n",
    "N_SPLITS = 10\n",
    "SEED = 2021\n",
    "EARLY_STOPPING_ROUNDS = 100\n",
    "VERBOSE = 100"
   ]
  },
  {
   "cell_type": "code",
   "execution_count": 3,
   "id": "capital-outline",
   "metadata": {
    "execution": {
     "iopub.execute_input": "2021-04-23T04:18:31.550630Z",
     "iopub.status.busy": "2021-04-23T04:18:31.550023Z",
     "iopub.status.idle": "2021-04-23T04:18:31.552452Z",
     "shell.execute_reply": "2021-04-23T04:18:31.552818Z"
    },
    "papermill": {
     "duration": 0.026846,
     "end_time": "2021-04-23T04:18:31.552967",
     "exception": false,
     "start_time": "2021-04-23T04:18:31.526121",
     "status": "completed"
    },
    "tags": []
   },
   "outputs": [],
   "source": [
    "def set_seed(seed=42):\n",
    "    random.seed(seed)\n",
    "    os.environ['PYTHONHASHSEED'] = str(seed)\n",
    "    np.random.seed(seed)\n",
    "    \n",
    "set_seed(SEED)"
   ]
  },
  {
   "cell_type": "markdown",
   "id": "charming-focus",
   "metadata": {
    "ExecuteTime": {
     "end_time": "2021-04-05T07:36:20.503129Z",
     "start_time": "2021-04-05T07:36:20.498496Z"
    },
    "_cell_guid": "9fb39135-47eb-4d2b-b41e-8c50544feb98",
    "_uuid": "4c503ac3-b779-4597-a37f-b94c97d0ebd9",
    "jupyter": {
     "outputs_hidden": false
    },
    "papermill": {
     "duration": 0.020489,
     "end_time": "2021-04-23T04:18:31.594003",
     "exception": false,
     "start_time": "2021-04-23T04:18:31.573514",
     "status": "completed"
    },
    "tags": []
   },
   "source": [
    "# Load data"
   ]
  },
  {
   "cell_type": "code",
   "execution_count": 4,
   "id": "norman-sussex",
   "metadata": {
    "ExecuteTime": {
     "end_time": "2021-04-05T07:36:20.37188Z",
     "start_time": "2021-04-05T07:36:20.084718Z"
    },
    "_cell_guid": "af349323-3a02-4979-9345-74a25709144a",
    "_uuid": "7685b8a3-c0c9-48de-a607-5798e38e29cc",
    "collapsed": false,
    "execution": {
     "iopub.execute_input": "2021-04-23T04:18:31.643466Z",
     "iopub.status.busy": "2021-04-23T04:18:31.642941Z",
     "iopub.status.idle": "2021-04-23T04:18:32.267564Z",
     "shell.execute_reply": "2021-04-23T04:18:32.266432Z"
    },
    "jupyter": {
     "outputs_hidden": false
    },
    "papermill": {
     "duration": 0.65347,
     "end_time": "2021-04-23T04:18:32.267697",
     "exception": false,
     "start_time": "2021-04-23T04:18:31.614227",
     "status": "completed"
    },
    "tags": []
   },
   "outputs": [],
   "source": [
    "train_df = pd.read_csv('../input/tabular-playground-series-apr-2021/train.csv')\n",
    "test_df = pd.read_csv('../input/tabular-playground-series-apr-2021/test.csv')\n",
    "submission = pd.read_csv('../input/tabular-playground-series-apr-2021/sample_submission.csv')\n",
    "test_df[TARGET] = pd.read_csv(\"../input/tps-apr-2021-label/pseudo_label.csv\")[TARGET]\n",
    "\n",
    "all_df = pd.concat([train_df, test_df]).reset_index(drop=True)"
   ]
  },
  {
   "cell_type": "markdown",
   "id": "structured-purple",
   "metadata": {
    "papermill": {
     "duration": 0.021643,
     "end_time": "2021-04-23T04:18:32.310928",
     "exception": false,
     "start_time": "2021-04-23T04:18:32.289285",
     "status": "completed"
    },
    "tags": []
   },
   "source": [
    "# Filling missing values"
   ]
  },
  {
   "cell_type": "code",
   "execution_count": 5,
   "id": "banned-webcam",
   "metadata": {
    "ExecuteTime": {
     "end_time": "2021-04-05T07:36:21.336506Z",
     "start_time": "2021-04-05T07:36:21.28146Z"
    },
    "_cell_guid": "8fe82644-8eac-4bdc-8ff3-5537deb09e19",
    "_uuid": "bdf1b542-e552-4e8d-8233-71dfe29c4a39",
    "collapsed": false,
    "execution": {
     "iopub.execute_input": "2021-04-23T04:18:32.361123Z",
     "iopub.status.busy": "2021-04-23T04:18:32.359978Z",
     "iopub.status.idle": "2021-04-23T04:18:32.768430Z",
     "shell.execute_reply": "2021-04-23T04:18:32.767715Z"
    },
    "jupyter": {
     "outputs_hidden": false
    },
    "papermill": {
     "duration": 0.436623,
     "end_time": "2021-04-23T04:18:32.768596",
     "exception": false,
     "start_time": "2021-04-23T04:18:32.331973",
     "status": "completed"
    },
    "tags": []
   },
   "outputs": [],
   "source": [
    "# Age fillna with mean age for each class\n",
    "all_df['Age'] = all_df['Age'].fillna(all_df['Age'].mean())\n",
    "\n",
    "# Cabin, fillna with 'X' and take first letter\n",
    "all_df['Cabin'] = all_df['Cabin'].fillna('X').map(lambda x: x[0].strip())\n",
    "\n",
    "# Ticket, fillna with 'X', split string and take first split \n",
    "all_df['Ticket'] = all_df['Ticket'].fillna('X').map(lambda x:str(x).split()[0] if len(str(x).split()) > 1 else 'X')\n",
    "\n",
    "# Fare, fillna with mean value\n",
    "fare_map = all_df[['Fare', 'Pclass']].dropna().groupby('Pclass').median().to_dict()\n",
    "all_df['Fare'] = all_df['Fare'].fillna(all_df['Pclass'].map(fare_map['Fare']))\n",
    "all_df['Fare'] = np.log1p(all_df['Fare'])\n",
    "\n",
    "# Embarked, fillna with 'X' value\n",
    "all_df['Embarked'] = all_df['Embarked'].fillna('X')\n",
    "\n",
    "# Name, take only surnames\n",
    "all_df['Name'] = all_df['Name'].map(lambda x: x.split(',')[0])"
   ]
  },
  {
   "cell_type": "markdown",
   "id": "standing-anger",
   "metadata": {
    "papermill": {
     "duration": 0.023396,
     "end_time": "2021-04-23T04:18:32.815073",
     "exception": false,
     "start_time": "2021-04-23T04:18:32.791677",
     "status": "completed"
    },
    "tags": []
   },
   "source": [
    "# Encoding"
   ]
  },
  {
   "cell_type": "code",
   "execution_count": 6,
   "id": "still-shelter",
   "metadata": {
    "ExecuteTime": {
     "end_time": "2021-04-05T07:36:23.841679Z",
     "start_time": "2021-04-05T07:36:23.838273Z"
    },
    "_cell_guid": "5db0e9df-a909-40cc-8d9b-715e097aaf40",
    "_uuid": "94f46a4b-7657-4923-85d1-63e43aa64c50",
    "collapsed": false,
    "execution": {
     "iopub.execute_input": "2021-04-23T04:18:32.867017Z",
     "iopub.status.busy": "2021-04-23T04:18:32.866391Z",
     "iopub.status.idle": "2021-04-23T04:18:32.870709Z",
     "shell.execute_reply": "2021-04-23T04:18:32.870264Z"
    },
    "jupyter": {
     "outputs_hidden": false
    },
    "papermill": {
     "duration": 0.031663,
     "end_time": "2021-04-23T04:18:32.870819",
     "exception": false,
     "start_time": "2021-04-23T04:18:32.839156",
     "status": "completed"
    },
    "tags": []
   },
   "outputs": [],
   "source": [
    "label_cols = ['Name', 'Ticket', 'Sex']\n",
    "onehot_cols = ['Cabin', 'Embarked']\n",
    "numerical_cols = ['Pclass', 'Age', 'SibSp', 'Parch', 'Fare']"
   ]
  },
  {
   "cell_type": "code",
   "execution_count": 7,
   "id": "scheduled-yield",
   "metadata": {
    "ExecuteTime": {
     "end_time": "2021-04-05T07:36:24.590836Z",
     "start_time": "2021-04-05T07:36:24.384849Z"
    },
    "_cell_guid": "d9725940-ab11-4fce-a499-a4cc6c19ffd1",
    "_uuid": "dc723ead-6522-4ff0-bd01-00ff66506ffa",
    "collapsed": false,
    "execution": {
     "iopub.execute_input": "2021-04-23T04:18:32.921851Z",
     "iopub.status.busy": "2021-04-23T04:18:32.921040Z",
     "iopub.status.idle": "2021-04-23T04:18:33.273376Z",
     "shell.execute_reply": "2021-04-23T04:18:33.272877Z"
    },
    "jupyter": {
     "outputs_hidden": false
    },
    "papermill": {
     "duration": 0.38018,
     "end_time": "2021-04-23T04:18:33.273545",
     "exception": false,
     "start_time": "2021-04-23T04:18:32.893365",
     "status": "completed"
    },
    "tags": []
   },
   "outputs": [],
   "source": [
    "def label_encoder(c):\n",
    "    le = LabelEncoder()\n",
    "    return le.fit_transform(c)\n",
    "\n",
    "scaler = StandardScaler()\n",
    "\n",
    "onehot_encoded_df = pd.get_dummies(all_df[onehot_cols])\n",
    "label_encoded_df = all_df[label_cols].apply(label_encoder)\n",
    "numerical_df = pd.DataFrame(scaler.fit_transform(all_df[numerical_cols]), columns=numerical_cols)\n",
    "target_df = all_df[TARGET]\n",
    "\n",
    "all_df = pd.concat([numerical_df, label_encoded_df, onehot_encoded_df, target_df], axis=1)"
   ]
  },
  {
   "cell_type": "markdown",
   "id": "annoying-billy",
   "metadata": {
    "papermill": {
     "duration": 0.020673,
     "end_time": "2021-04-23T04:18:33.316693",
     "exception": false,
     "start_time": "2021-04-23T04:18:33.296020",
     "status": "completed"
    },
    "tags": []
   },
   "source": [
    "# LightGBM"
   ]
  },
  {
   "cell_type": "code",
   "execution_count": 8,
   "id": "ultimate-summer",
   "metadata": {
    "ExecuteTime": {
     "end_time": "2021-04-05T07:42:10.128819Z",
     "start_time": "2021-04-05T07:42:10.1251Z"
    },
    "_cell_guid": "b49fc139-9689-45ea-a4d7-2855a559200e",
    "_uuid": "7d72bc52-7935-4878-ae4b-c18aafa33511",
    "collapsed": false,
    "execution": {
     "iopub.execute_input": "2021-04-23T04:18:33.362819Z",
     "iopub.status.busy": "2021-04-23T04:18:33.362320Z",
     "iopub.status.idle": "2021-04-23T04:18:33.366310Z",
     "shell.execute_reply": "2021-04-23T04:18:33.365910Z"
    },
    "jupyter": {
     "outputs_hidden": false
    },
    "papermill": {
     "duration": 0.029085,
     "end_time": "2021-04-23T04:18:33.366415",
     "exception": false,
     "start_time": "2021-04-23T04:18:33.337330",
     "status": "completed"
    },
    "tags": []
   },
   "outputs": [],
   "source": [
    "params = {\n",
    "    'metric': 'binary_logloss',\n",
    "    'n_estimators': N_ESTIMATORS,\n",
    "    'objective': 'binary',\n",
    "    'random_state': SEED,\n",
    "    'learning_rate': 0.01,\n",
    "    'min_child_samples': 150,\n",
    "    'reg_alpha': 3e-5,\n",
    "    'reg_lambda': 9e-2,\n",
    "    'num_leaves': 20,\n",
    "    'max_depth': 16,\n",
    "    'colsample_bytree': 0.8,\n",
    "    'subsample': 0.8,\n",
    "    'subsample_freq': 2,\n",
    "    'max_bin': 240,\n",
    "}"
   ]
  },
  {
   "cell_type": "code",
   "execution_count": 9,
   "id": "interim-carnival",
   "metadata": {
    "execution": {
     "iopub.execute_input": "2021-04-23T04:18:33.420236Z",
     "iopub.status.busy": "2021-04-23T04:18:33.419438Z",
     "iopub.status.idle": "2021-04-23T04:21:38.405726Z",
     "shell.execute_reply": "2021-04-23T04:21:38.405286Z"
    },
    "papermill": {
     "duration": 185.018852,
     "end_time": "2021-04-23T04:21:38.405856",
     "exception": false,
     "start_time": "2021-04-23T04:18:33.387004",
     "status": "completed"
    },
    "tags": []
   },
   "outputs": [
    {
     "name": "stdout",
     "output_type": "stream",
     "text": [
      "===== FOLD 0 =====\n",
      "Training until validation scores don't improve for 100 rounds\n",
      "[100]\ttraining's binary_logloss: 0.406066\tvalid_1's binary_logloss: 0.510794\n",
      "[200]\ttraining's binary_logloss: 0.339754\tvalid_1's binary_logloss: 0.491447\n",
      "[300]\ttraining's binary_logloss: 0.31865\tvalid_1's binary_logloss: 0.496066\n",
      "Early stopping, best iteration is:\n",
      "[207]\ttraining's binary_logloss: 0.33793\tvalid_1's binary_logloss: 0.491324\n",
      "Training until validation scores don't improve for 100 rounds\n",
      "[300]\ttraining's binary_logloss: 0.334974\tvalid_1's binary_logloss: 0.491586\n",
      "Early stopping, best iteration is:\n",
      "[210]\ttraining's binary_logloss: 0.337838\tvalid_1's binary_logloss: 0.491328\n",
      "===== ACCURACY SCORE 0.777767 =====\n",
      "\n",
      "===== FOLD 1 =====\n",
      "Training until validation scores don't improve for 100 rounds\n",
      "[100]\ttraining's binary_logloss: 0.406593\tvalid_1's binary_logloss: 0.508825\n",
      "[200]\ttraining's binary_logloss: 0.340467\tvalid_1's binary_logloss: 0.488658\n",
      "[300]\ttraining's binary_logloss: 0.31943\tvalid_1's binary_logloss: 0.49268\n",
      "Early stopping, best iteration is:\n",
      "[207]\ttraining's binary_logloss: 0.338627\tvalid_1's binary_logloss: 0.488472\n",
      "Training until validation scores don't improve for 100 rounds\n",
      "[300]\ttraining's binary_logloss: 0.335694\tvalid_1's binary_logloss: 0.48866\n",
      "Early stopping, best iteration is:\n",
      "[208]\ttraining's binary_logloss: 0.338589\tvalid_1's binary_logloss: 0.488475\n",
      "===== ACCURACY SCORE 0.778114 =====\n",
      "\n",
      "===== FOLD 2 =====\n",
      "Training until validation scores don't improve for 100 rounds\n",
      "[100]\ttraining's binary_logloss: 0.406009\tvalid_1's binary_logloss: 0.514544\n",
      "[200]\ttraining's binary_logloss: 0.339697\tvalid_1's binary_logloss: 0.496418\n",
      "Early stopping, best iteration is:\n",
      "[197]\ttraining's binary_logloss: 0.340892\tvalid_1's binary_logloss: 0.496274\n",
      "Training until validation scores don't improve for 100 rounds\n",
      "[200]\ttraining's binary_logloss: 0.340792\tvalid_1's binary_logloss: 0.496279\n",
      "Early stopping, best iteration is:\n",
      "[198]\ttraining's binary_logloss: 0.34085\tvalid_1's binary_logloss: 0.496277\n",
      "===== ACCURACY SCORE 0.774384 =====\n",
      "\n",
      "===== FOLD 3 =====\n",
      "Training until validation scores don't improve for 100 rounds\n",
      "[100]\ttraining's binary_logloss: 0.406405\tvalid_1's binary_logloss: 0.511492\n",
      "[200]\ttraining's binary_logloss: 0.340214\tvalid_1's binary_logloss: 0.490949\n",
      "[300]\ttraining's binary_logloss: 0.319245\tvalid_1's binary_logloss: 0.495272\n",
      "Early stopping, best iteration is:\n",
      "[207]\ttraining's binary_logloss: 0.338395\tvalid_1's binary_logloss: 0.49081\n",
      "Training until validation scores don't improve for 100 rounds\n",
      "[300]\ttraining's binary_logloss: 0.335457\tvalid_1's binary_logloss: 0.490984\n",
      "Early stopping, best iteration is:\n",
      "[210]\ttraining's binary_logloss: 0.338305\tvalid_1's binary_logloss: 0.490808\n",
      "===== ACCURACY SCORE 0.778549 =====\n",
      "\n",
      "===== FOLD 4 =====\n",
      "Training until validation scores don't improve for 100 rounds\n",
      "[100]\ttraining's binary_logloss: 0.405475\tvalid_1's binary_logloss: 0.51923\n",
      "[200]\ttraining's binary_logloss: 0.339073\tvalid_1's binary_logloss: 0.504102\n",
      "Early stopping, best iteration is:\n",
      "[185]\ttraining's binary_logloss: 0.344589\tvalid_1's binary_logloss: 0.503787\n",
      "Training until validation scores don't improve for 100 rounds\n",
      "[200]\ttraining's binary_logloss: 0.34397\tvalid_1's binary_logloss: 0.503805\n",
      "Early stopping, best iteration is:\n",
      "[188]\ttraining's binary_logloss: 0.344475\tvalid_1's binary_logloss: 0.503791\n",
      "===== ACCURACY SCORE 0.771126 =====\n",
      "\n",
      "===== FOLD 5 =====\n",
      "Training until validation scores don't improve for 100 rounds\n",
      "[100]\ttraining's binary_logloss: 0.406301\tvalid_1's binary_logloss: 0.512855\n",
      "[200]\ttraining's binary_logloss: 0.339976\tvalid_1's binary_logloss: 0.494479\n",
      "Early stopping, best iteration is:\n",
      "[197]\ttraining's binary_logloss: 0.341181\tvalid_1's binary_logloss: 0.494407\n",
      "Training until validation scores don't improve for 100 rounds\n",
      "[200]\ttraining's binary_logloss: 0.34108\tvalid_1's binary_logloss: 0.494403\n",
      "[300]\ttraining's binary_logloss: 0.337624\tvalid_1's binary_logloss: 0.494612\n",
      "Early stopping, best iteration is:\n",
      "[200]\ttraining's binary_logloss: 0.34108\tvalid_1's binary_logloss: 0.494403\n",
      "===== ACCURACY SCORE 0.778012 =====\n",
      "\n",
      "===== FOLD 6 =====\n",
      "Training until validation scores don't improve for 100 rounds\n",
      "[100]\ttraining's binary_logloss: 0.406493\tvalid_1's binary_logloss: 0.508744\n",
      "[200]\ttraining's binary_logloss: 0.340268\tvalid_1's binary_logloss: 0.48859\n",
      "[300]\ttraining's binary_logloss: 0.319202\tvalid_1's binary_logloss: 0.492975\n",
      "Early stopping, best iteration is:\n",
      "[207]\ttraining's binary_logloss: 0.338427\tvalid_1's binary_logloss: 0.488439\n",
      "Training until validation scores don't improve for 100 rounds\n",
      "[300]\ttraining's binary_logloss: 0.335483\tvalid_1's binary_logloss: 0.488638\n",
      "Early stopping, best iteration is:\n",
      "[208]\ttraining's binary_logloss: 0.338389\tvalid_1's binary_logloss: 0.488443\n",
      "===== ACCURACY SCORE 0.779178 =====\n",
      "\n",
      "===== FOLD 7 =====\n",
      "Training until validation scores don't improve for 100 rounds\n",
      "[100]\ttraining's binary_logloss: 0.406236\tvalid_1's binary_logloss: 0.512082\n",
      "[200]\ttraining's binary_logloss: 0.339972\tvalid_1's binary_logloss: 0.491986\n",
      "[300]\ttraining's binary_logloss: 0.318983\tvalid_1's binary_logloss: 0.495815\n",
      "Early stopping, best iteration is:\n",
      "[207]\ttraining's binary_logloss: 0.338141\tvalid_1's binary_logloss: 0.491867\n",
      "Training until validation scores don't improve for 100 rounds\n",
      "[300]\ttraining's binary_logloss: 0.3352\tvalid_1's binary_logloss: 0.492041\n",
      "Early stopping, best iteration is:\n",
      "[210]\ttraining's binary_logloss: 0.33805\tvalid_1's binary_logloss: 0.49187\n",
      "===== ACCURACY SCORE 0.778089 =====\n",
      "\n",
      "===== FOLD 8 =====\n",
      "Training until validation scores don't improve for 100 rounds\n",
      "[100]\ttraining's binary_logloss: 0.406611\tvalid_1's binary_logloss: 0.506393\n",
      "[200]\ttraining's binary_logloss: 0.340414\tvalid_1's binary_logloss: 0.484847\n",
      "[300]\ttraining's binary_logloss: 0.319335\tvalid_1's binary_logloss: 0.488271\n",
      "Early stopping, best iteration is:\n",
      "[208]\ttraining's binary_logloss: 0.338196\tvalid_1's binary_logloss: 0.484682\n",
      "Training until validation scores don't improve for 100 rounds\n",
      "[300]\ttraining's binary_logloss: 0.335321\tvalid_1's binary_logloss: 0.484795\n",
      "Early stopping, best iteration is:\n",
      "[211]\ttraining's binary_logloss: 0.338108\tvalid_1's binary_logloss: 0.484681\n",
      "===== ACCURACY SCORE 0.782505 =====\n",
      "\n",
      "===== FOLD 9 =====\n",
      "Training until validation scores don't improve for 100 rounds\n",
      "[100]\ttraining's binary_logloss: 0.406947\tvalid_1's binary_logloss: 0.501208\n",
      "[200]\ttraining's binary_logloss: 0.340894\tvalid_1's binary_logloss: 0.478107\n",
      "[300]\ttraining's binary_logloss: 0.319903\tvalid_1's binary_logloss: 0.481159\n",
      "Early stopping, best iteration is:\n",
      "[220]\ttraining's binary_logloss: 0.335371\tvalid_1's binary_logloss: 0.477798\n",
      "Training until validation scores don't improve for 100 rounds\n",
      "[300]\ttraining's binary_logloss: 0.33316\tvalid_1's binary_logloss: 0.477947\n",
      "Early stopping, best iteration is:\n",
      "[221]\ttraining's binary_logloss: 0.335338\tvalid_1's binary_logloss: 0.477802\n",
      "===== ACCURACY SCORE 0.788164 =====\n",
      "\n",
      "===== ACCURACY SCORE 0.778590 =====\n"
     ]
    }
   ],
   "source": [
    "lgb_oof = np.zeros(train_df.shape[0])\n",
    "lgb_preds = np.zeros(test_df.shape[0])\n",
    "feature_importances = pd.DataFrame()\n",
    "\n",
    "skf = StratifiedKFold(n_splits=N_SPLITS, shuffle=True, random_state=SEED)\n",
    "\n",
    "for fold, (train_idx, valid_idx) in enumerate(skf.split(all_df, all_df[TARGET])):\n",
    "    print(f\"===== FOLD {fold} =====\")\n",
    "    oof_idx = np.array([idx for idx in valid_idx if idx < train_df.shape[0]])\n",
    "    preds_idx = np.array([idx for idx in valid_idx if idx >= train_df.shape[0]])\n",
    "\n",
    "    X_train, y_train = all_df.iloc[train_idx].drop(TARGET, axis=1), all_df.iloc[train_idx][TARGET]\n",
    "    X_valid, y_valid = all_df.iloc[oof_idx].drop(TARGET, axis=1), all_df.iloc[oof_idx][TARGET]\n",
    "    X_test = all_df.iloc[preds_idx].drop(TARGET, axis=1)\n",
    "    \n",
    "    pre_model = lgb.LGBMRegressor(**params)\n",
    "    pre_model.fit(\n",
    "        X_train, y_train,\n",
    "        eval_set=[(X_train, y_train),(X_valid, y_valid)],\n",
    "        early_stopping_rounds=EARLY_STOPPING_ROUNDS,\n",
    "        verbose=VERBOSE\n",
    "    )\n",
    "\n",
    "    params2 = params.copy()\n",
    "    params2['learning_rate'] = params['learning_rate'] * 0.1\n",
    "    model = lgb.LGBMRegressor(**params2)\n",
    "    model.fit(\n",
    "        X_train, y_train,\n",
    "        eval_set=[(X_train, y_train),(X_valid, y_valid)],\n",
    "        early_stopping_rounds=EARLY_STOPPING_ROUNDS,\n",
    "        verbose=VERBOSE,\n",
    "        init_model=pre_model\n",
    "    )\n",
    "    \n",
    "    fi_tmp = pd.DataFrame()\n",
    "    fi_tmp[\"feature\"] = model.feature_name_\n",
    "    fi_tmp[\"importance\"] = model.feature_importances_\n",
    "    fi_tmp[\"fold\"] = fold\n",
    "    fi_tmp[\"seed\"] = SEED\n",
    "    feature_importances = feature_importances.append(fi_tmp)\n",
    "    \n",
    "    lgb_oof[oof_idx] = model.predict(X_valid)\n",
    "    lgb_preds[preds_idx-train_df.shape[0]] = model.predict(X_test)\n",
    "    \n",
    "    acc_score = accuracy_score(y_valid, np.where(lgb_oof[oof_idx]>0.5, 1, 0))\n",
    "    print(f\"===== ACCURACY SCORE {acc_score:.6f} =====\\n\")\n",
    "    \n",
    "acc_score = accuracy_score(all_df[:train_df.shape[0]][TARGET], np.where(lgb_oof>0.5, 1, 0))\n",
    "print(f\"===== ACCURACY SCORE {acc_score:.6f} =====\")"
   ]
  },
  {
   "cell_type": "markdown",
   "id": "prompt-eligibility",
   "metadata": {
    "papermill": {
     "duration": 0.040142,
     "end_time": "2021-04-23T04:21:38.488248",
     "exception": false,
     "start_time": "2021-04-23T04:21:38.448106",
     "status": "completed"
    },
    "tags": []
   },
   "source": [
    "### Feature importance"
   ]
  },
  {
   "cell_type": "code",
   "execution_count": 10,
   "id": "separate-hollywood",
   "metadata": {
    "ExecuteTime": {
     "end_time": "2021-04-05T06:53:55.912277Z",
     "start_time": "2021-04-05T06:53:55.664403Z"
    },
    "_cell_guid": "cc478b5a-29c0-4f5e-8cec-e4d67ddac008",
    "_uuid": "fe9b90d5-c826-4870-9560-43b4fd9631f9",
    "collapsed": false,
    "execution": {
     "iopub.execute_input": "2021-04-23T04:21:38.576450Z",
     "iopub.status.busy": "2021-04-23T04:21:38.574407Z",
     "iopub.status.idle": "2021-04-23T04:21:39.525622Z",
     "shell.execute_reply": "2021-04-23T04:21:39.524701Z"
    },
    "jupyter": {
     "outputs_hidden": false
    },
    "papermill": {
     "duration": 0.997504,
     "end_time": "2021-04-23T04:21:39.525747",
     "exception": false,
     "start_time": "2021-04-23T04:21:38.528243",
     "status": "completed"
    },
    "tags": []
   },
   "outputs": [
    {
     "data": {
      "image/png": "[encoded data removed]",
      "text/plain": [
       "<Figure size 720x720 with 1 Axes>"
      ]
     },
     "metadata": {
      "needs_background": "light"
     },
     "output_type": "display_data"
    }
   ],
   "source": [
    "# just to get ideas to improve\n",
    "order = list(feature_importances.groupby(\"feature\").mean().sort_values(\"importance\", ascending=False).index)\n",
    "plt.figure(figsize=(10, 10))\n",
    "sns.barplot(x=\"importance\", y=\"feature\", data=feature_importances, order=order)\n",
    "plt.title(\"{} importance\".format(\"LGBMRegressor\"))\n",
    "plt.tight_layout()"
   ]
  },
  {
   "cell_type": "markdown",
   "id": "described-secretary",
   "metadata": {
    "papermill": {
     "duration": 0.04146,
     "end_time": "2021-04-23T04:21:39.608954",
     "exception": false,
     "start_time": "2021-04-23T04:21:39.567494",
     "status": "completed"
    },
    "tags": []
   },
   "source": [
    "# CatBoost"
   ]
  },
  {
   "cell_type": "code",
   "execution_count": 11,
   "id": "characteristic-louisville",
   "metadata": {
    "execution": {
     "iopub.execute_input": "2021-04-23T04:21:39.698212Z",
     "iopub.status.busy": "2021-04-23T04:21:39.696453Z",
     "iopub.status.idle": "2021-04-23T04:21:39.698755Z",
     "shell.execute_reply": "2021-04-23T04:21:39.699188Z"
    },
    "papermill": {
     "duration": 0.049052,
     "end_time": "2021-04-23T04:21:39.699320",
     "exception": false,
     "start_time": "2021-04-23T04:21:39.650268",
     "status": "completed"
    },
    "tags": []
   },
   "outputs": [],
   "source": [
    "params = {\n",
    "    'bootstrap_type': 'Poisson',\n",
    "    'loss_function': 'Logloss',\n",
    "    'eval_metric': 'Logloss',\n",
    "    'random_seed': SEED,\n",
    "    'task_type': 'GPU',\n",
    "    'max_depth': 8,\n",
    "    'learning_rate': 0.01,\n",
    "    'n_estimators': N_ESTIMATORS,\n",
    "    'max_bin': 280,\n",
    "    'min_data_in_leaf': 64,\n",
    "    'l2_leaf_reg': 0.01,\n",
    "    'subsample': 0.8\n",
    "}"
   ]
  },
  {
   "cell_type": "code",
   "execution_count": 12,
   "id": "empirical-visibility",
   "metadata": {
    "execution": {
     "iopub.execute_input": "2021-04-23T04:21:39.792929Z",
     "iopub.status.busy": "2021-04-23T04:21:39.792167Z",
     "iopub.status.idle": "2021-04-23T04:23:17.114589Z",
     "shell.execute_reply": "2021-04-23T04:23:17.115501Z"
    },
    "papermill": {
     "duration": 97.375206,
     "end_time": "2021-04-23T04:23:17.115687",
     "exception": false,
     "start_time": "2021-04-23T04:21:39.740481",
     "status": "completed"
    },
    "tags": []
   },
   "outputs": [
    {
     "name": "stdout",
     "output_type": "stream",
     "text": [
      "===== FOLD 0 =====\n",
      "0:\tlearn: 0.6833913\ttest: 0.6865495\tbest: 0.6865495 (0)\ttotal: 22.9ms\tremaining: 22.9s\n",
      "100:\tlearn: 0.3499833\ttest: 0.4963063\tbest: 0.4963063 (100)\ttotal: 1.35s\tremaining: 12.1s\n",
      "200:\tlearn: 0.3147176\ttest: 0.5005020\tbest: 0.4952346 (121)\ttotal: 2.62s\tremaining: 10.4s\n",
      "bestTest = 0.4952346418\n",
      "bestIteration = 121\n",
      "Shrink model to first 122 iterations.\n",
      "===== ACCURACY SCORE 0.775094 =====\n",
      "\n",
      "===== FOLD 1 =====\n",
      "0:\tlearn: 0.6834263\ttest: 0.6864581\tbest: 0.6864581 (0)\ttotal: 13.7ms\tremaining: 13.7s\n",
      "100:\tlearn: 0.3505899\ttest: 0.4918759\tbest: 0.4918759 (100)\ttotal: 1.28s\tremaining: 11.4s\n",
      "200:\tlearn: 0.3153978\ttest: 0.4950089\tbest: 0.4907618 (130)\ttotal: 2.54s\tremaining: 10.1s\n",
      "bestTest = 0.4907618211\n",
      "bestIteration = 130\n",
      "Shrink model to first 131 iterations.\n",
      "===== ACCURACY SCORE 0.778315 =====\n",
      "\n",
      "===== FOLD 2 =====\n",
      "0:\tlearn: 0.6833830\ttest: 0.6865852\tbest: 0.6865852 (0)\ttotal: 13.9ms\tremaining: 13.9s\n",
      "100:\tlearn: 0.3495998\ttest: 0.5008674\tbest: 0.5008674 (100)\ttotal: 1.28s\tremaining: 11.4s\n",
      "200:\tlearn: 0.3145857\ttest: 0.5067769\tbest: 0.5000761 (113)\ttotal: 2.57s\tremaining: 10.2s\n",
      "bestTest = 0.500076132\n",
      "bestIteration = 113\n",
      "Shrink model to first 114 iterations.\n",
      "===== ACCURACY SCORE 0.772682 =====\n",
      "\n",
      "===== FOLD 3 =====\n",
      "0:\tlearn: 0.6833927\ttest: 0.6864803\tbest: 0.6864803 (0)\ttotal: 13.6ms\tremaining: 13.6s\n",
      "100:\tlearn: 0.3500997\ttest: 0.4954012\tbest: 0.4954012 (100)\ttotal: 1.31s\tremaining: 11.7s\n",
      "200:\tlearn: 0.3153790\ttest: 0.4997228\tbest: 0.4943700 (120)\ttotal: 2.58s\tremaining: 10.3s\n",
      "bestTest = 0.4943700027\n",
      "bestIteration = 120\n",
      "Shrink model to first 121 iterations.\n",
      "===== ACCURACY SCORE 0.777845 =====\n",
      "\n",
      "===== FOLD 4 =====\n",
      "0:\tlearn: 0.6833469\ttest: 0.6866933\tbest: 0.6866933 (0)\ttotal: 52.7ms\tremaining: 52.7s\n",
      "100:\tlearn: 0.3490588\ttest: 0.5082217\tbest: 0.5082217 (100)\ttotal: 1.66s\tremaining: 14.8s\n",
      "200:\tlearn: 0.3138099\ttest: 0.5159828\tbest: 0.5079828 (108)\ttotal: 2.94s\tremaining: 11.7s\n",
      "bestTest = 0.5079827627\n",
      "bestIteration = 108\n",
      "Shrink model to first 109 iterations.\n",
      "===== ACCURACY SCORE 0.769829 =====\n",
      "\n",
      "===== FOLD 5 =====\n",
      "0:\tlearn: 0.6833852\ttest: 0.6865125\tbest: 0.6865125 (0)\ttotal: 13.7ms\tremaining: 13.7s\n",
      "100:\tlearn: 0.3499308\ttest: 0.4981144\tbest: 0.4981144 (100)\ttotal: 1.29s\tremaining: 11.5s\n",
      "200:\tlearn: 0.3148104\ttest: 0.5043430\tbest: 0.4973974 (114)\ttotal: 2.57s\tremaining: 10.2s\n",
      "bestTest = 0.4973973503\n",
      "bestIteration = 114\n",
      "Shrink model to first 115 iterations.\n",
      "===== ACCURACY SCORE 0.777009 =====\n",
      "\n",
      "===== FOLD 6 =====\n",
      "0:\tlearn: 0.6833901\ttest: 0.6865649\tbest: 0.6865649 (0)\ttotal: 13.9ms\tremaining: 13.9s\n",
      "100:\tlearn: 0.3502995\ttest: 0.4952612\tbest: 0.4952612 (100)\ttotal: 1.29s\tremaining: 11.5s\n",
      "200:\tlearn: 0.3152627\ttest: 0.4979096\tbest: 0.4935750 (128)\ttotal: 2.56s\tremaining: 10.2s\n",
      "bestTest = 0.4935750411\n",
      "bestIteration = 128\n",
      "Shrink model to first 129 iterations.\n",
      "===== ACCURACY SCORE 0.776578 =====\n",
      "\n",
      "===== FOLD 7 =====\n",
      "0:\tlearn: 0.6834036\ttest: 0.6865019\tbest: 0.6865019 (0)\ttotal: 13.6ms\tremaining: 13.6s\n",
      "100:\tlearn: 0.3503739\ttest: 0.4958395\tbest: 0.4958395 (100)\ttotal: 1.28s\tremaining: 11.4s\n",
      "200:\tlearn: 0.3151017\ttest: 0.4993177\tbest: 0.4946697 (127)\ttotal: 2.55s\tremaining: 10.1s\n",
      "bestTest = 0.4946697349\n",
      "bestIteration = 127\n",
      "Shrink model to first 128 iterations.\n",
      "===== ACCURACY SCORE 0.775886 =====\n",
      "\n",
      "===== FOLD 8 =====\n",
      "0:\tlearn: 0.6834174\ttest: 0.6864134\tbest: 0.6864134 (0)\ttotal: 15.5ms\tremaining: 15.5s\n",
      "100:\tlearn: 0.3508282\ttest: 0.4893779\tbest: 0.4893779 (100)\ttotal: 1.4s\tremaining: 12.5s\n",
      "200:\tlearn: 0.3153392\ttest: 0.4917811\tbest: 0.4877040 (126)\ttotal: 2.79s\tremaining: 11.1s\n",
      "bestTest = 0.4877040491\n",
      "bestIteration = 126\n",
      "Shrink model to first 127 iterations.\n",
      "===== ACCURACY SCORE 0.781213 =====\n",
      "\n",
      "===== FOLD 9 =====\n",
      "0:\tlearn: 0.6834332\ttest: 0.6862994\tbest: 0.6862994 (0)\ttotal: 13.7ms\tremaining: 13.7s\n",
      "100:\tlearn: 0.3511190\ttest: 0.4836835\tbest: 0.4836835 (100)\ttotal: 1.29s\tremaining: 11.5s\n",
      "200:\tlearn: 0.3160012\ttest: 0.4849283\tbest: 0.4814366 (131)\ttotal: 2.56s\tremaining: 10.2s\n",
      "bestTest = 0.4814366237\n",
      "bestIteration = 131\n",
      "Shrink model to first 132 iterations.\n",
      "===== ACCURACY SCORE 0.786964 =====\n",
      "\n",
      "===== ACCURACY SCORE 0.777140 =====\n"
     ]
    }
   ],
   "source": [
    "ctb_oof = np.zeros(train_df.shape[0])\n",
    "ctb_preds = np.zeros(test_df.shape[0])\n",
    "feature_importances = pd.DataFrame()\n",
    "\n",
    "skf = StratifiedKFold(n_splits=N_SPLITS, shuffle=True, random_state=SEED)\n",
    "\n",
    "for fold, (train_idx, valid_idx) in enumerate(skf.split(all_df, all_df[TARGET])):\n",
    "    print(f\"===== FOLD {fold} =====\")\n",
    "    oof_idx = np.array([idx for idx in valid_idx if idx < train_df.shape[0]])\n",
    "    preds_idx = np.array([idx for idx in valid_idx if idx >= train_df.shape[0]])\n",
    "\n",
    "    X_train, y_train = all_df.iloc[train_idx].drop(TARGET, axis=1), all_df.iloc[train_idx][TARGET]\n",
    "    X_valid, y_valid = all_df.iloc[oof_idx].drop(TARGET, axis=1), all_df.iloc[oof_idx][TARGET]\n",
    "    X_test = all_df.iloc[preds_idx].drop(TARGET, axis=1)\n",
    "    \n",
    "    model = ctb.CatBoostClassifier(**params)\n",
    "    model.fit(X_train, y_train,\n",
    "              eval_set=[(X_valid, y_valid)],\n",
    "              use_best_model=True,\n",
    "              early_stopping_rounds=EARLY_STOPPING_ROUNDS,\n",
    "              verbose=VERBOSE\n",
    "              )\n",
    "    \n",
    "    fi_tmp = pd.DataFrame()\n",
    "    fi_tmp[\"feature\"] = X_test.columns.to_list()\n",
    "    fi_tmp[\"importance\"] = model.get_feature_importance()\n",
    "    fi_tmp[\"fold\"] = fold\n",
    "    fi_tmp[\"seed\"] = SEED\n",
    "    feature_importances = feature_importances.append(fi_tmp)\n",
    "    \n",
    "    ctb_oof[oof_idx] = model.predict(X_valid)\n",
    "    ctb_preds[preds_idx-train_df.shape[0]] = model.predict(X_test)\n",
    "    \n",
    "    acc_score = accuracy_score(y_valid, np.where(ctb_oof[oof_idx]>0.5, 1, 0))\n",
    "    print(f\"===== ACCURACY SCORE {acc_score:.6f} =====\\n\")\n",
    "    \n",
    "acc_score = accuracy_score(all_df[:train_df.shape[0]][TARGET], np.where(ctb_oof>0.5, 1, 0))\n",
    "print(f\"===== ACCURACY SCORE {acc_score:.6f} =====\")"
   ]
  },
  {
   "cell_type": "markdown",
   "id": "electrical-plant",
   "metadata": {
    "papermill": {
     "duration": 0.075788,
     "end_time": "2021-04-23T04:23:17.268864",
     "exception": false,
     "start_time": "2021-04-23T04:23:17.193076",
     "status": "completed"
    },
    "tags": []
   },
   "source": [
    "### Feature importance"
   ]
  },
  {
   "cell_type": "code",
   "execution_count": 13,
   "id": "animal-kelly",
   "metadata": {
    "execution": {
     "iopub.execute_input": "2021-04-23T04:23:17.434626Z",
     "iopub.status.busy": "2021-04-23T04:23:17.433884Z",
     "iopub.status.idle": "2021-04-23T04:23:18.491486Z",
     "shell.execute_reply": "2021-04-23T04:23:18.491070Z"
    },
    "papermill": {
     "duration": 1.146557,
     "end_time": "2021-04-23T04:23:18.491604",
     "exception": false,
     "start_time": "2021-04-23T04:23:17.345047",
     "status": "completed"
    },
    "tags": []
   },
   "outputs": [
    {
     "data": {
      "image/png": "[encoded data removed]",
      "text/plain": [
       "<Figure size 720x720 with 1 Axes>"
      ]
     },
     "metadata": {
      "needs_background": "light"
     },
     "output_type": "display_data"
    }
   ],
   "source": [
    "# just to get ideas to improve\n",
    "order = list(feature_importances.groupby(\"feature\").mean().sort_values(\"importance\", ascending=False).index)\n",
    "plt.figure(figsize=(10, 10))\n",
    "sns.barplot(x=\"importance\", y=\"feature\", data=feature_importances, order=order)\n",
    "plt.title(\"{} importance\".format(\"CatBoostClassifier\"))\n",
    "plt.tight_layout()"
   ]
  },
  {
   "cell_type": "markdown",
   "id": "authorized-census",
   "metadata": {
    "papermill": {
     "duration": 0.053115,
     "end_time": "2021-04-23T04:23:18.598999",
     "exception": false,
     "start_time": "2021-04-23T04:23:18.545884",
     "status": "completed"
    },
    "tags": []
   },
   "source": [
    "# DecisionTreeModel"
   ]
  },
  {
   "cell_type": "code",
   "execution_count": 14,
   "id": "raising-horizon",
   "metadata": {
    "execution": {
     "iopub.execute_input": "2021-04-23T04:23:18.711312Z",
     "iopub.status.busy": "2021-04-23T04:23:18.710650Z",
     "iopub.status.idle": "2021-04-23T04:23:37.837102Z",
     "shell.execute_reply": "2021-04-23T04:23:37.836128Z"
    },
    "papermill": {
     "duration": 19.185381,
     "end_time": "2021-04-23T04:23:37.837228",
     "exception": false,
     "start_time": "2021-04-23T04:23:18.651847",
     "status": "completed"
    },
    "tags": []
   },
   "outputs": [
    {
     "name": "stdout",
     "output_type": "stream",
     "text": [
      "{'max_depth': 4, 'min_samples_leaf': 2}\n"
     ]
    }
   ],
   "source": [
    "# Tuning the DecisionTreeClassifier by the GridSearchCV\n",
    "parameters = {\n",
    "    'max_depth': np.arange(2, 5, dtype=int),\n",
    "    'min_samples_leaf':  np.arange(2, 5, dtype=int)\n",
    "}\n",
    "\n",
    "classifier = DecisionTreeClassifier(random_state=2021)\n",
    "\n",
    "model = GridSearchCV(\n",
    "    estimator=classifier,\n",
    "    param_grid=parameters,\n",
    "    scoring='accuracy',\n",
    "    cv=10,\n",
    "    n_jobs=-1)\n",
    "model.fit(X_train, y_train)\n",
    "\n",
    "best_parameters = model.best_params_\n",
    "print(best_parameters)"
   ]
  },
  {
   "cell_type": "code",
   "execution_count": 15,
   "id": "inner-jesus",
   "metadata": {
    "execution": {
     "iopub.execute_input": "2021-04-23T04:23:37.955283Z",
     "iopub.status.busy": "2021-04-23T04:23:37.954481Z",
     "iopub.status.idle": "2021-04-23T04:23:41.803477Z",
     "shell.execute_reply": "2021-04-23T04:23:41.803003Z"
    },
    "papermill": {
     "duration": 3.912308,
     "end_time": "2021-04-23T04:23:41.803606",
     "exception": false,
     "start_time": "2021-04-23T04:23:37.891298",
     "status": "completed"
    },
    "tags": []
   },
   "outputs": [
    {
     "name": "stdout",
     "output_type": "stream",
     "text": [
      "===== FOLD 0 =====\n",
      "===== ACCURACY SCORE 0.769551 =====\n",
      "\n",
      "===== FOLD 1 =====\n",
      "===== ACCURACY SCORE 0.773881 =====\n",
      "\n",
      "===== FOLD 2 =====\n",
      "===== ACCURACY SCORE 0.769477 =====\n",
      "\n",
      "===== FOLD 3 =====\n",
      "===== ACCURACY SCORE 0.770701 =====\n",
      "\n",
      "===== FOLD 4 =====\n",
      "===== ACCURACY SCORE 0.762047 =====\n",
      "\n",
      "===== FOLD 5 =====\n",
      "===== ACCURACY SCORE 0.772800 =====\n",
      "\n",
      "===== FOLD 6 =====\n",
      "===== ACCURACY SCORE 0.773477 =====\n",
      "\n",
      "===== FOLD 7 =====\n",
      "===== ACCURACY SCORE 0.770278 =====\n",
      "\n",
      "===== FOLD 8 =====\n",
      "===== ACCURACY SCORE 0.776839 =====\n",
      "\n",
      "===== FOLD 9 =====\n",
      "===== ACCURACY SCORE 0.779866 =====\n",
      "\n",
      "===== ACCURACY SCORE 0.771890 =====\n"
     ]
    }
   ],
   "source": [
    "dtm_oof = np.zeros(train_df.shape[0])\n",
    "dtm_preds = np.zeros(test_df.shape[0])\n",
    "feature_importances = pd.DataFrame()\n",
    "\n",
    "skf = StratifiedKFold(n_splits=N_SPLITS, shuffle=True, random_state=SEED)\n",
    "\n",
    "for fold, (train_idx, valid_idx) in enumerate(skf.split(all_df, all_df[TARGET])):\n",
    "    print(f\"===== FOLD {fold} =====\")\n",
    "    oof_idx = np.array([idx for idx in valid_idx if idx < train_df.shape[0]])\n",
    "    preds_idx = np.array([idx for idx in valid_idx if idx >= train_df.shape[0]])\n",
    "\n",
    "    X_train, y_train = all_df.iloc[train_idx].drop(TARGET, axis=1), all_df.iloc[train_idx][TARGET]\n",
    "    X_valid, y_valid = all_df.iloc[oof_idx].drop(TARGET, axis=1), all_df.iloc[oof_idx][TARGET]\n",
    "    X_test = all_df.iloc[preds_idx].drop(TARGET, axis=1)\n",
    "    \n",
    "    model = DecisionTreeClassifier(\n",
    "        max_depth=best_parameters['max_depth'],\n",
    "        min_samples_leaf=best_parameters['min_samples_leaf'],\n",
    "        random_state=SEED\n",
    "    )\n",
    "    model.fit(X_train, y_train)\n",
    "    \n",
    "    dtm_oof[oof_idx] = model.predict(X_valid)\n",
    "    dtm_preds[preds_idx-train_df.shape[0]] = model.predict(X_test)\n",
    "    \n",
    "    acc_score = accuracy_score(y_valid, np.where(dtm_oof[oof_idx]>0.5, 1, 0))\n",
    "    print(f\"===== ACCURACY SCORE {acc_score:.6f} =====\\n\")\n",
    "    \n",
    "acc_score = accuracy_score(all_df[:train_df.shape[0]][TARGET], np.where(dtm_oof>0.5, 1, 0))\n",
    "print(f\"===== ACCURACY SCORE {acc_score:.6f} =====\")"
   ]
  },
  {
   "cell_type": "markdown",
   "id": "studied-relay",
   "metadata": {
    "papermill": {
     "duration": 0.056013,
     "end_time": "2021-04-23T04:23:41.917286",
     "exception": false,
     "start_time": "2021-04-23T04:23:41.861273",
     "status": "completed"
    },
    "tags": []
   },
   "source": [
    "### Plot tree"
   ]
  },
  {
   "cell_type": "code",
   "execution_count": 16,
   "id": "graduate-scale",
   "metadata": {
    "execution": {
     "iopub.execute_input": "2021-04-23T04:23:42.036094Z",
     "iopub.status.busy": "2021-04-23T04:23:42.035269Z",
     "iopub.status.idle": "2021-04-23T04:23:42.439725Z",
     "shell.execute_reply": "2021-04-23T04:23:42.438862Z"
    },
    "papermill": {
     "duration": 0.467085,
     "end_time": "2021-04-23T04:23:42.439852",
     "exception": false,
     "start_time": "2021-04-23T04:23:41.972767",
     "status": "completed"
    },
    "tags": []
   },
   "outputs": [
    {
     "data": {
      "image/svg+xml": [
       "<?xml version=\"1.0\" encoding=\"UTF-8\" standalone=\"no\"?>\n",
       "<!DOCTYPE svg PUBLIC \"-//W3C//DTD SVG 1.1//EN\"\n",
       " \"http://www.w3.org/Graphics/SVG/1.1/DTD/svg11.dtd\">\n",
       "<!-- Generated by graphviz version 2.47.0 (20210316.1410)\n",
       " -->\n",
       "<!-- Title: Tree Pages: 1 -->\n",
       "<svg width=\"2856pt\" height=\"552pt\"\n",
       " viewBox=\"0.00 0.00 2855.50 552.00\" xmlns=\"http://www.w3.org/2000/svg\" xmlns:xlink=\"http://www.w3.org/1999/xlink\">\n",
       "<g id=\"graph0\" class=\"graph\" transform=\"scale(1 1) rotate(0) translate(4 548)\">\n",
       "<title>Tree</title>\n",
       "<polygon fill=\"white\" stroke=\"transparent\" points=\"-4,4 -4,-548 2851.5,-548 2851.5,4 -4,4\"/>\n",
       "<!-- 0 -->\n",
       "<g id=\"node1\" class=\"node\">\n",
       "<title>0</title>\n",
       "<polygon fill=\"#f5d0b5\" stroke=\"black\" points=\"1464.5,-544 1269.5,-544 1269.5,-461 1464.5,-461 1464.5,-544\"/>\n",
       "<text text-anchor=\"start\" x=\"1332\" y=\"-528.8\" font-family=\"Times-Roman\" font-size=\"14.00\">Sex ≤ 0.5</text>\n",
       "<text text-anchor=\"start\" x=\"1323\" y=\"-513.8\" font-family=\"Times-Roman\" font-size=\"14.00\">gini = 0.474</text>\n",
       "<text text-anchor=\"start\" x=\"1299\" y=\"-498.8\" font-family=\"Times-Roman\" font-size=\"14.00\">samples = 180000</text>\n",
       "<text text-anchor=\"start\" x=\"1277.5\" y=\"-483.8\" font-family=\"Times-Roman\" font-size=\"14.00\">value = [110616, 69384]</text>\n",
       "<text text-anchor=\"start\" x=\"1334\" y=\"-468.8\" font-family=\"Times-Roman\" font-size=\"14.00\">class = 0</text>\n",
       "</g>\n",
       "<!-- 1 -->\n",
       "<g id=\"node2\" class=\"node\">\n",
       "<title>1</title>\n",
       "<polygon fill=\"#6bb6ec\" stroke=\"black\" points=\"1089,-425 903,-425 903,-342 1089,-342 1089,-425\"/>\n",
       "<text text-anchor=\"start\" x=\"953.5\" y=\"-409.8\" font-family=\"Times-Roman\" font-size=\"14.00\">Ticket ≤ 0.5</text>\n",
       "<text text-anchor=\"start\" x=\"952\" y=\"-394.8\" font-family=\"Times-Roman\" font-size=\"14.00\">gini = 0.322</text>\n",
       "<text text-anchor=\"start\" x=\"932.5\" y=\"-379.8\" font-family=\"Times-Roman\" font-size=\"14.00\">samples = 66731</text>\n",
       "<text text-anchor=\"start\" x=\"911\" y=\"-364.8\" font-family=\"Times-Roman\" font-size=\"14.00\">value = [13445, 53286]</text>\n",
       "<text text-anchor=\"start\" x=\"963\" y=\"-349.8\" font-family=\"Times-Roman\" font-size=\"14.00\">class = 1</text>\n",
       "</g>\n",
       "<!-- 0&#45;&gt;1 -->\n",
       "<g id=\"edge1\" class=\"edge\">\n",
       "<title>0&#45;&gt;1</title>\n",
       "<path fill=\"none\" stroke=\"black\" d=\"M1269.04,-470.61C1216.59,-454.07 1152.04,-433.71 1098.86,-416.94\"/>\n",
       "<polygon fill=\"black\" stroke=\"black\" points=\"1099.66,-413.52 1089.07,-413.85 1097.56,-420.2 1099.66,-413.52\"/>\n",
       "<text text-anchor=\"middle\" x=\"1100.61\" y=\"-432.33\" font-family=\"Times-Roman\" font-size=\"14.00\">True</text>\n",
       "</g>\n",
       "<!-- 16 -->\n",
       "<g id=\"node17\" class=\"node\">\n",
       "<title>16</title>\n",
       "<polygon fill=\"#e9965a\" stroke=\"black\" points=\"1827,-425 1641,-425 1641,-342 1827,-342 1827,-425\"/>\n",
       "<text text-anchor=\"start\" x=\"1683\" y=\"-409.8\" font-family=\"Times-Roman\" font-size=\"14.00\">Cabin_X ≤ 0.5</text>\n",
       "<text text-anchor=\"start\" x=\"1690\" y=\"-394.8\" font-family=\"Times-Roman\" font-size=\"14.00\">gini = 0.244</text>\n",
       "<text text-anchor=\"start\" x=\"1666\" y=\"-379.8\" font-family=\"Times-Roman\" font-size=\"14.00\">samples = 113269</text>\n",
       "<text text-anchor=\"start\" x=\"1649\" y=\"-364.8\" font-family=\"Times-Roman\" font-size=\"14.00\">value = [97171, 16098]</text>\n",
       "<text text-anchor=\"start\" x=\"1701\" y=\"-349.8\" font-family=\"Times-Roman\" font-size=\"14.00\">class = 0</text>\n",
       "</g>\n",
       "<!-- 0&#45;&gt;16 -->\n",
       "<g id=\"edge16\" class=\"edge\">\n",
       "<title>0&#45;&gt;16</title>\n",
       "<path fill=\"none\" stroke=\"black\" d=\"M1464.87,-470.3C1516.24,-453.92 1579.16,-433.86 1631.24,-417.26\"/>\n",
       "<polygon fill=\"black\" stroke=\"black\" points=\"1632.37,-420.57 1640.83,-414.2 1630.24,-413.91 1632.37,-420.57\"/>\n",
       "<text text-anchor=\"middle\" x=\"1629.36\" y=\"-432.71\" font-family=\"Times-Roman\" font-size=\"14.00\">False</text>\n",
       "</g>\n",
       "<!-- 2 -->\n",
       "<g id=\"node3\" class=\"node\">\n",
       "<title>2</title>\n",
       "<polygon fill=\"#eca16c\" stroke=\"black\" points=\"556.5,-306 397.5,-306 397.5,-223 556.5,-223 556.5,-306\"/>\n",
       "<text text-anchor=\"start\" x=\"426\" y=\"-290.8\" font-family=\"Times-Roman\" font-size=\"14.00\">SibSp ≤ 0.071</text>\n",
       "<text text-anchor=\"start\" x=\"433\" y=\"-275.8\" font-family=\"Times-Roman\" font-size=\"14.00\">gini = 0.325</text>\n",
       "<text text-anchor=\"start\" x=\"418\" y=\"-260.8\" font-family=\"Times-Roman\" font-size=\"14.00\">samples = 1682</text>\n",
       "<text text-anchor=\"start\" x=\"405.5\" y=\"-245.8\" font-family=\"Times-Roman\" font-size=\"14.00\">value = [1338, 344]</text>\n",
       "<text text-anchor=\"start\" x=\"444\" y=\"-230.8\" font-family=\"Times-Roman\" font-size=\"14.00\">class = 0</text>\n",
       "</g>\n",
       "<!-- 1&#45;&gt;2 -->\n",
       "<g id=\"edge2\" class=\"edge\">\n",
       "<title>1&#45;&gt;2</title>\n",
       "<path fill=\"none\" stroke=\"black\" d=\"M902.91,-361.52C807.55,-340.02 660.31,-306.82 566.33,-285.64\"/>\n",
       "<polygon fill=\"black\" stroke=\"black\" points=\"567.09,-282.22 556.56,-283.44 565.55,-289.05 567.09,-282.22\"/>\n",
       "</g>\n",
       "<!-- 9 -->\n",
       "<g id=\"node10\" class=\"node\">\n",
       "<title>9</title>\n",
       "<polygon fill=\"#66b3eb\" stroke=\"black\" points=\"1089,-306 903,-306 903,-223 1089,-223 1089,-306\"/>\n",
       "<text text-anchor=\"start\" x=\"929.5\" y=\"-290.8\" font-family=\"Times-Roman\" font-size=\"14.00\">Embarked_S ≤ 0.5</text>\n",
       "<text text-anchor=\"start\" x=\"952\" y=\"-275.8\" font-family=\"Times-Roman\" font-size=\"14.00\">gini = 0.303</text>\n",
       "<text text-anchor=\"start\" x=\"932.5\" y=\"-260.8\" font-family=\"Times-Roman\" font-size=\"14.00\">samples = 65049</text>\n",
       "<text text-anchor=\"start\" x=\"911\" y=\"-245.8\" font-family=\"Times-Roman\" font-size=\"14.00\">value = [12107, 52942]</text>\n",
       "<text text-anchor=\"start\" x=\"963\" y=\"-230.8\" font-family=\"Times-Roman\" font-size=\"14.00\">class = 1</text>\n",
       "</g>\n",
       "<!-- 1&#45;&gt;9 -->\n",
       "<g id=\"edge9\" class=\"edge\">\n",
       "<title>1&#45;&gt;9</title>\n",
       "<path fill=\"none\" stroke=\"black\" d=\"M996,-341.91C996,-333.65 996,-324.86 996,-316.3\"/>\n",
       "<polygon fill=\"black\" stroke=\"black\" points=\"999.5,-316.02 996,-306.02 992.5,-316.02 999.5,-316.02\"/>\n",
       "</g>\n",
       "<!-- 3 -->\n",
       "<g id=\"node4\" class=\"node\">\n",
       "<title>3</title>\n",
       "<polygon fill=\"#efb387\" stroke=\"black\" points=\"318,-187 168,-187 168,-104 318,-104 318,-187\"/>\n",
       "<text text-anchor=\"start\" x=\"190\" y=\"-171.8\" font-family=\"Times-Roman\" font-size=\"14.00\">Pclass ≤ 0.302</text>\n",
       "<text text-anchor=\"start\" x=\"199\" y=\"-156.8\" font-family=\"Times-Roman\" font-size=\"14.00\">gini = 0.406</text>\n",
       "<text text-anchor=\"start\" x=\"184\" y=\"-141.8\" font-family=\"Times-Roman\" font-size=\"14.00\">samples = 1156</text>\n",
       "<text text-anchor=\"start\" x=\"176\" y=\"-126.8\" font-family=\"Times-Roman\" font-size=\"14.00\">value = [829, 327]</text>\n",
       "<text text-anchor=\"start\" x=\"210\" y=\"-111.8\" font-family=\"Times-Roman\" font-size=\"14.00\">class = 0</text>\n",
       "</g>\n",
       "<!-- 2&#45;&gt;3 -->\n",
       "<g id=\"edge3\" class=\"edge\">\n",
       "<title>2&#45;&gt;3</title>\n",
       "<path fill=\"none\" stroke=\"black\" d=\"M397.45,-223.73C374.88,-212.44 350.22,-200.11 327.37,-188.69\"/>\n",
       "<polygon fill=\"black\" stroke=\"black\" points=\"328.89,-185.53 318.38,-184.19 325.76,-191.79 328.89,-185.53\"/>\n",
       "</g>\n",
       "<!-- 6 -->\n",
       "<g id=\"node7\" class=\"node\">\n",
       "<title>6</title>\n",
       "<polygon fill=\"#e68540\" stroke=\"black\" points=\"547.5,-187 406.5,-187 406.5,-104 547.5,-104 547.5,-187\"/>\n",
       "<text text-anchor=\"start\" x=\"424\" y=\"-171.8\" font-family=\"Times-Roman\" font-size=\"14.00\">Pclass ≤ 0.302</text>\n",
       "<text text-anchor=\"start\" x=\"433\" y=\"-156.8\" font-family=\"Times-Roman\" font-size=\"14.00\">gini = 0.063</text>\n",
       "<text text-anchor=\"start\" x=\"422.5\" y=\"-141.8\" font-family=\"Times-Roman\" font-size=\"14.00\">samples = 526</text>\n",
       "<text text-anchor=\"start\" x=\"414.5\" y=\"-126.8\" font-family=\"Times-Roman\" font-size=\"14.00\">value = [509, 17]</text>\n",
       "<text text-anchor=\"start\" x=\"444\" y=\"-111.8\" font-family=\"Times-Roman\" font-size=\"14.00\">class = 0</text>\n",
       "</g>\n",
       "<!-- 2&#45;&gt;6 -->\n",
       "<g id=\"edge6\" class=\"edge\">\n",
       "<title>2&#45;&gt;6</title>\n",
       "<path fill=\"none\" stroke=\"black\" d=\"M477,-222.91C477,-214.65 477,-205.86 477,-197.3\"/>\n",
       "<polygon fill=\"black\" stroke=\"black\" points=\"480.5,-197.02 477,-187.02 473.5,-197.02 480.5,-197.02\"/>\n",
       "</g>\n",
       "<!-- 4 -->\n",
       "<g id=\"node5\" class=\"node\">\n",
       "<title>4</title>\n",
       "<polygon fill=\"#f8dfcd\" stroke=\"black\" points=\"150,-68 0,-68 0,0 150,0 150,-68\"/>\n",
       "<text text-anchor=\"start\" x=\"35.5\" y=\"-52.8\" font-family=\"Times-Roman\" font-size=\"14.00\">gini = 0.49</text>\n",
       "<text text-anchor=\"start\" x=\"20.5\" y=\"-37.8\" font-family=\"Times-Roman\" font-size=\"14.00\">samples = 327</text>\n",
       "<text text-anchor=\"start\" x=\"8\" y=\"-22.8\" font-family=\"Times-Roman\" font-size=\"14.00\">value = [187, 140]</text>\n",
       "<text text-anchor=\"start\" x=\"42\" y=\"-7.8\" font-family=\"Times-Roman\" font-size=\"14.00\">class = 0</text>\n",
       "</g>\n",
       "<!-- 3&#45;&gt;4 -->\n",
       "<g id=\"edge4\" class=\"edge\">\n",
       "<title>3&#45;&gt;4</title>\n",
       "<path fill=\"none\" stroke=\"black\" d=\"M180.44,-103.73C165.39,-93.92 149.36,-83.46 134.45,-73.75\"/>\n",
       "<polygon fill=\"black\" stroke=\"black\" points=\"136.11,-70.65 125.82,-68.13 132.29,-76.52 136.11,-70.65\"/>\n",
       "</g>\n",
       "<!-- 5 -->\n",
       "<g id=\"node6\" class=\"node\">\n",
       "<title>5</title>\n",
       "<polygon fill=\"#eda673\" stroke=\"black\" points=\"318,-68 168,-68 168,0 318,0 318,-68\"/>\n",
       "<text text-anchor=\"start\" x=\"199\" y=\"-52.8\" font-family=\"Times-Roman\" font-size=\"14.00\">gini = 0.349</text>\n",
       "<text text-anchor=\"start\" x=\"188.5\" y=\"-37.8\" font-family=\"Times-Roman\" font-size=\"14.00\">samples = 829</text>\n",
       "<text text-anchor=\"start\" x=\"176\" y=\"-22.8\" font-family=\"Times-Roman\" font-size=\"14.00\">value = [642, 187]</text>\n",
       "<text text-anchor=\"start\" x=\"210\" y=\"-7.8\" font-family=\"Times-Roman\" font-size=\"14.00\">class = 0</text>\n",
       "</g>\n",
       "<!-- 3&#45;&gt;5 -->\n",
       "<g id=\"edge5\" class=\"edge\">\n",
       "<title>3&#45;&gt;5</title>\n",
       "<path fill=\"none\" stroke=\"black\" d=\"M243,-103.73C243,-95.52 243,-86.86 243,-78.56\"/>\n",
       "<polygon fill=\"black\" stroke=\"black\" points=\"246.5,-78.3 243,-68.3 239.5,-78.3 246.5,-78.3\"/>\n",
       "</g>\n",
       "<!-- 7 -->\n",
       "<g id=\"node8\" class=\"node\">\n",
       "<title>7</title>\n",
       "<polygon fill=\"#f3c6a5\" stroke=\"black\" points=\"459.5,-68 336.5,-68 336.5,0 459.5,0 459.5,-68\"/>\n",
       "<text text-anchor=\"start\" x=\"354\" y=\"-52.8\" font-family=\"Times-Roman\" font-size=\"14.00\">gini = 0.457</text>\n",
       "<text text-anchor=\"start\" x=\"348\" y=\"-37.8\" font-family=\"Times-Roman\" font-size=\"14.00\">samples = 17</text>\n",
       "<text text-anchor=\"start\" x=\"344.5\" y=\"-22.8\" font-family=\"Times-Roman\" font-size=\"14.00\">value = [11, 6]</text>\n",
       "<text text-anchor=\"start\" x=\"365\" y=\"-7.8\" font-family=\"Times-Roman\" font-size=\"14.00\">class = 0</text>\n",
       "</g>\n",
       "<!-- 6&#45;&gt;7 -->\n",
       "<g id=\"edge7\" class=\"edge\">\n",
       "<title>6&#45;&gt;7</title>\n",
       "<path fill=\"none\" stroke=\"black\" d=\"M447.58,-103.73C441.2,-94.88 434.44,-85.51 428.03,-76.63\"/>\n",
       "<polygon fill=\"black\" stroke=\"black\" points=\"430.71,-74.36 422.02,-68.3 425.04,-78.46 430.71,-74.36\"/>\n",
       "</g>\n",
       "<!-- 8 -->\n",
       "<g id=\"node9\" class=\"node\">\n",
       "<title>8</title>\n",
       "<polygon fill=\"#e6843d\" stroke=\"black\" points=\"618.5,-68 477.5,-68 477.5,0 618.5,0 618.5,-68\"/>\n",
       "<text text-anchor=\"start\" x=\"504\" y=\"-52.8\" font-family=\"Times-Roman\" font-size=\"14.00\">gini = 0.042</text>\n",
       "<text text-anchor=\"start\" x=\"493.5\" y=\"-37.8\" font-family=\"Times-Roman\" font-size=\"14.00\">samples = 509</text>\n",
       "<text text-anchor=\"start\" x=\"485.5\" y=\"-22.8\" font-family=\"Times-Roman\" font-size=\"14.00\">value = [498, 11]</text>\n",
       "<text text-anchor=\"start\" x=\"515\" y=\"-7.8\" font-family=\"Times-Roman\" font-size=\"14.00\">class = 0</text>\n",
       "</g>\n",
       "<!-- 6&#45;&gt;8 -->\n",
       "<g id=\"edge8\" class=\"edge\">\n",
       "<title>6&#45;&gt;8</title>\n",
       "<path fill=\"none\" stroke=\"black\" d=\"M503.44,-103.73C509.12,-94.97 515.12,-85.7 520.83,-76.91\"/>\n",
       "<polygon fill=\"black\" stroke=\"black\" points=\"523.9,-78.59 526.41,-68.3 518.03,-74.79 523.9,-78.59\"/>\n",
       "</g>\n",
       "<!-- 10 -->\n",
       "<g id=\"node11\" class=\"node\">\n",
       "<title>10</title>\n",
       "<polygon fill=\"#50a8e8\" stroke=\"black\" points=\"987.5,-187 810.5,-187 810.5,-104 987.5,-104 987.5,-187\"/>\n",
       "<text text-anchor=\"start\" x=\"848\" y=\"-171.8\" font-family=\"Times-Roman\" font-size=\"14.00\">Cabin_A ≤ 0.5</text>\n",
       "<text text-anchor=\"start\" x=\"855\" y=\"-156.8\" font-family=\"Times-Roman\" font-size=\"14.00\">gini = 0.184</text>\n",
       "<text text-anchor=\"start\" x=\"835.5\" y=\"-141.8\" font-family=\"Times-Roman\" font-size=\"14.00\">samples = 30618</text>\n",
       "<text text-anchor=\"start\" x=\"818.5\" y=\"-126.8\" font-family=\"Times-Roman\" font-size=\"14.00\">value = [3142, 27476]</text>\n",
       "<text text-anchor=\"start\" x=\"866\" y=\"-111.8\" font-family=\"Times-Roman\" font-size=\"14.00\">class = 1</text>\n",
       "</g>\n",
       "<!-- 9&#45;&gt;10 -->\n",
       "<g id=\"edge10\" class=\"edge\">\n",
       "<title>9&#45;&gt;10</title>\n",
       "<path fill=\"none\" stroke=\"black\" d=\"M962.35,-222.91C954.82,-213.83 946.77,-204.12 939.02,-194.77\"/>\n",
       "<polygon fill=\"black\" stroke=\"black\" points=\"941.67,-192.49 932.59,-187.02 936.28,-196.95 941.67,-192.49\"/>\n",
       "</g>\n",
       "<!-- 13 -->\n",
       "<g id=\"node14\" class=\"node\">\n",
       "<title>13</title>\n",
       "<polygon fill=\"#7fbfee\" stroke=\"black\" points=\"1182.5,-187 1005.5,-187 1005.5,-104 1182.5,-104 1182.5,-187\"/>\n",
       "<text text-anchor=\"start\" x=\"1043.5\" y=\"-171.8\" font-family=\"Times-Roman\" font-size=\"14.00\">Parch ≤ 1.095</text>\n",
       "<text text-anchor=\"start\" x=\"1050\" y=\"-156.8\" font-family=\"Times-Roman\" font-size=\"14.00\">gini = 0.385</text>\n",
       "<text text-anchor=\"start\" x=\"1030.5\" y=\"-141.8\" font-family=\"Times-Roman\" font-size=\"14.00\">samples = 34431</text>\n",
       "<text text-anchor=\"start\" x=\"1013.5\" y=\"-126.8\" font-family=\"Times-Roman\" font-size=\"14.00\">value = [8965, 25466]</text>\n",
       "<text text-anchor=\"start\" x=\"1061\" y=\"-111.8\" font-family=\"Times-Roman\" font-size=\"14.00\">class = 1</text>\n",
       "</g>\n",
       "<!-- 9&#45;&gt;13 -->\n",
       "<g id=\"edge13\" class=\"edge\">\n",
       "<title>9&#45;&gt;13</title>\n",
       "<path fill=\"none\" stroke=\"black\" d=\"M1030,-222.91C1037.6,-213.83 1045.74,-204.12 1053.57,-194.77\"/>\n",
       "<polygon fill=\"black\" stroke=\"black\" points=\"1056.32,-196.93 1060.06,-187.02 1050.96,-192.44 1056.32,-196.93\"/>\n",
       "</g>\n",
       "<!-- 11 -->\n",
       "<g id=\"node12\" class=\"node\">\n",
       "<title>11</title>\n",
       "<polygon fill=\"#4ea7e8\" stroke=\"black\" points=\"813.5,-68 636.5,-68 636.5,0 813.5,0 813.5,-68\"/>\n",
       "<text text-anchor=\"start\" x=\"681\" y=\"-52.8\" font-family=\"Times-Roman\" font-size=\"14.00\">gini = 0.172</text>\n",
       "<text text-anchor=\"start\" x=\"661.5\" y=\"-37.8\" font-family=\"Times-Roman\" font-size=\"14.00\">samples = 29651</text>\n",
       "<text text-anchor=\"start\" x=\"644.5\" y=\"-22.8\" font-family=\"Times-Roman\" font-size=\"14.00\">value = [2824, 26827]</text>\n",
       "<text text-anchor=\"start\" x=\"692\" y=\"-7.8\" font-family=\"Times-Roman\" font-size=\"14.00\">class = 1</text>\n",
       "</g>\n",
       "<!-- 10&#45;&gt;11 -->\n",
       "<g id=\"edge11\" class=\"edge\">\n",
       "<title>10&#45;&gt;11</title>\n",
       "<path fill=\"none\" stroke=\"black\" d=\"M834.21,-103.73C818.47,-93.82 801.7,-83.27 786.14,-73.48\"/>\n",
       "<polygon fill=\"black\" stroke=\"black\" points=\"787.97,-70.49 777.64,-68.13 784.24,-76.41 787.97,-70.49\"/>\n",
       "</g>\n",
       "<!-- 12 -->\n",
       "<g id=\"node13\" class=\"node\">\n",
       "<title>12</title>\n",
       "<polygon fill=\"#9acdf2\" stroke=\"black\" points=\"981,-68 831,-68 831,0 981,0 981,-68\"/>\n",
       "<text text-anchor=\"start\" x=\"862\" y=\"-52.8\" font-family=\"Times-Roman\" font-size=\"14.00\">gini = 0.441</text>\n",
       "<text text-anchor=\"start\" x=\"851.5\" y=\"-37.8\" font-family=\"Times-Roman\" font-size=\"14.00\">samples = 967</text>\n",
       "<text text-anchor=\"start\" x=\"839\" y=\"-22.8\" font-family=\"Times-Roman\" font-size=\"14.00\">value = [318, 649]</text>\n",
       "<text text-anchor=\"start\" x=\"873\" y=\"-7.8\" font-family=\"Times-Roman\" font-size=\"14.00\">class = 1</text>\n",
       "</g>\n",
       "<!-- 10&#45;&gt;12 -->\n",
       "<g id=\"edge12\" class=\"edge\">\n",
       "<title>10&#45;&gt;12</title>\n",
       "<path fill=\"none\" stroke=\"black\" d=\"M901.61,-103.73C902.14,-95.43 902.7,-86.67 903.23,-78.28\"/>\n",
       "<polygon fill=\"black\" stroke=\"black\" points=\"906.73,-78.5 903.87,-68.3 899.74,-78.06 906.73,-78.5\"/>\n",
       "</g>\n",
       "<!-- 14 -->\n",
       "<g id=\"node15\" class=\"node\">\n",
       "<title>14</title>\n",
       "<polygon fill=\"#72b9ed\" stroke=\"black\" points=\"1175.5,-68 998.5,-68 998.5,0 1175.5,0 1175.5,-68\"/>\n",
       "<text text-anchor=\"start\" x=\"1043\" y=\"-52.8\" font-family=\"Times-Roman\" font-size=\"14.00\">gini = 0.349</text>\n",
       "<text text-anchor=\"start\" x=\"1023.5\" y=\"-37.8\" font-family=\"Times-Roman\" font-size=\"14.00\">samples = 27681</text>\n",
       "<text text-anchor=\"start\" x=\"1006.5\" y=\"-22.8\" font-family=\"Times-Roman\" font-size=\"14.00\">value = [6226, 21455]</text>\n",
       "<text text-anchor=\"start\" x=\"1054\" y=\"-7.8\" font-family=\"Times-Roman\" font-size=\"14.00\">class = 1</text>\n",
       "</g>\n",
       "<!-- 13&#45;&gt;14 -->\n",
       "<g id=\"edge14\" class=\"edge\">\n",
       "<title>13&#45;&gt;14</title>\n",
       "<path fill=\"none\" stroke=\"black\" d=\"M1091.39,-103.73C1090.86,-95.43 1090.3,-86.67 1089.77,-78.28\"/>\n",
       "<polygon fill=\"black\" stroke=\"black\" points=\"1093.26,-78.06 1089.13,-68.3 1086.27,-78.5 1093.26,-78.06\"/>\n",
       "</g>\n",
       "<!-- 15 -->\n",
       "<g id=\"node16\" class=\"node\">\n",
       "<title>15</title>\n",
       "<polygon fill=\"#c0e0f7\" stroke=\"black\" points=\"1361,-68 1193,-68 1193,0 1361,0 1361,-68\"/>\n",
       "<text text-anchor=\"start\" x=\"1233\" y=\"-52.8\" font-family=\"Times-Roman\" font-size=\"14.00\">gini = 0.482</text>\n",
       "<text text-anchor=\"start\" x=\"1218\" y=\"-37.8\" font-family=\"Times-Roman\" font-size=\"14.00\">samples = 6750</text>\n",
       "<text text-anchor=\"start\" x=\"1201\" y=\"-22.8\" font-family=\"Times-Roman\" font-size=\"14.00\">value = [2739, 4011]</text>\n",
       "<text text-anchor=\"start\" x=\"1244\" y=\"-7.8\" font-family=\"Times-Roman\" font-size=\"14.00\">class = 1</text>\n",
       "</g>\n",
       "<!-- 13&#45;&gt;15 -->\n",
       "<g id=\"edge15\" class=\"edge\">\n",
       "<title>13&#45;&gt;15</title>\n",
       "<path fill=\"none\" stroke=\"black\" d=\"M1161.88,-103.88C1178.53,-93.92 1196.3,-83.29 1212.77,-73.43\"/>\n",
       "<polygon fill=\"black\" stroke=\"black\" points=\"1214.99,-76.18 1221.78,-68.04 1211.4,-70.17 1214.99,-76.18\"/>\n",
       "</g>\n",
       "<!-- 17 -->\n",
       "<g id=\"node18\" class=\"node\">\n",
       "<title>17</title>\n",
       "<polygon fill=\"#f5ceb2\" stroke=\"black\" points=\"1827,-306 1641,-306 1641,-223 1827,-223 1827,-306\"/>\n",
       "<text text-anchor=\"start\" x=\"1667.5\" y=\"-290.8\" font-family=\"Times-Roman\" font-size=\"14.00\">Embarked_S ≤ 0.5</text>\n",
       "<text text-anchor=\"start\" x=\"1690\" y=\"-275.8\" font-family=\"Times-Roman\" font-size=\"14.00\">gini = 0.471</text>\n",
       "<text text-anchor=\"start\" x=\"1670.5\" y=\"-260.8\" font-family=\"Times-Roman\" font-size=\"14.00\">samples = 27555</text>\n",
       "<text text-anchor=\"start\" x=\"1649\" y=\"-245.8\" font-family=\"Times-Roman\" font-size=\"14.00\">value = [17099, 10456]</text>\n",
       "<text text-anchor=\"start\" x=\"1701\" y=\"-230.8\" font-family=\"Times-Roman\" font-size=\"14.00\">class = 0</text>\n",
       "</g>\n",
       "<!-- 16&#45;&gt;17 -->\n",
       "<g id=\"edge17\" class=\"edge\">\n",
       "<title>16&#45;&gt;17</title>\n",
       "<path fill=\"none\" stroke=\"black\" d=\"M1734,-341.91C1734,-333.65 1734,-324.86 1734,-316.3\"/>\n",
       "<polygon fill=\"black\" stroke=\"black\" points=\"1737.5,-316.02 1734,-306.02 1730.5,-316.02 1737.5,-316.02\"/>\n",
       "</g>\n",
       "<!-- 24 -->\n",
       "<g id=\"node25\" class=\"node\">\n",
       "<title>24</title>\n",
       "<polygon fill=\"#e78a47\" stroke=\"black\" points=\"2382.5,-306 2205.5,-306 2205.5,-223 2382.5,-223 2382.5,-306\"/>\n",
       "<text text-anchor=\"start\" x=\"2241\" y=\"-290.8\" font-family=\"Times-Roman\" font-size=\"14.00\">Pclass ≤ 0.302</text>\n",
       "<text text-anchor=\"start\" x=\"2250\" y=\"-275.8\" font-family=\"Times-Roman\" font-size=\"14.00\">gini = 0.123</text>\n",
       "<text text-anchor=\"start\" x=\"2230.5\" y=\"-260.8\" font-family=\"Times-Roman\" font-size=\"14.00\">samples = 85714</text>\n",
       "<text text-anchor=\"start\" x=\"2213.5\" y=\"-245.8\" font-family=\"Times-Roman\" font-size=\"14.00\">value = [80072, 5642]</text>\n",
       "<text text-anchor=\"start\" x=\"2261\" y=\"-230.8\" font-family=\"Times-Roman\" font-size=\"14.00\">class = 0</text>\n",
       "</g>\n",
       "<!-- 16&#45;&gt;24 -->\n",
       "<g id=\"edge24\" class=\"edge\">\n",
       "<title>16&#45;&gt;24</title>\n",
       "<path fill=\"none\" stroke=\"black\" d=\"M1827.1,-363.05C1928.94,-341.77 2091.48,-307.81 2195.43,-286.09\"/>\n",
       "<polygon fill=\"black\" stroke=\"black\" points=\"2196.23,-289.5 2205.3,-284.03 2194.8,-282.65 2196.23,-289.5\"/>\n",
       "</g>\n",
       "<!-- 18 -->\n",
       "<g id=\"node19\" class=\"node\">\n",
       "<title>18</title>\n",
       "<polygon fill=\"#93c9f1\" stroke=\"black\" points=\"1723,-187 1555,-187 1555,-104 1723,-104 1723,-187\"/>\n",
       "<text text-anchor=\"start\" x=\"1588\" y=\"-171.8\" font-family=\"Times-Roman\" font-size=\"14.00\">Cabin_A ≤ 0.5</text>\n",
       "<text text-anchor=\"start\" x=\"1595\" y=\"-156.8\" font-family=\"Times-Roman\" font-size=\"14.00\">gini = 0.429</text>\n",
       "<text text-anchor=\"start\" x=\"1575.5\" y=\"-141.8\" font-family=\"Times-Roman\" font-size=\"14.00\">samples = 10665</text>\n",
       "<text text-anchor=\"start\" x=\"1563\" y=\"-126.8\" font-family=\"Times-Roman\" font-size=\"14.00\">value = [3325, 7340]</text>\n",
       "<text text-anchor=\"start\" x=\"1606\" y=\"-111.8\" font-family=\"Times-Roman\" font-size=\"14.00\">class = 1</text>\n",
       "</g>\n",
       "<!-- 17&#45;&gt;18 -->\n",
       "<g id=\"edge18\" class=\"edge\">\n",
       "<title>17&#45;&gt;18</title>\n",
       "<path fill=\"none\" stroke=\"black\" d=\"M1701.04,-222.91C1693.75,-213.92 1685.94,-204.32 1678.42,-195.05\"/>\n",
       "<polygon fill=\"black\" stroke=\"black\" points=\"1680.92,-192.58 1671.9,-187.02 1675.49,-196.99 1680.92,-192.58\"/>\n",
       "</g>\n",
       "<!-- 21 -->\n",
       "<g id=\"node22\" class=\"node\">\n",
       "<title>21</title>\n",
       "<polygon fill=\"#eb9e66\" stroke=\"black\" points=\"1917.5,-187 1740.5,-187 1740.5,-104 1917.5,-104 1917.5,-187\"/>\n",
       "<text text-anchor=\"start\" x=\"1782\" y=\"-171.8\" font-family=\"Times-Roman\" font-size=\"14.00\">Ticket ≤ 21.5</text>\n",
       "<text text-anchor=\"start\" x=\"1785\" y=\"-156.8\" font-family=\"Times-Roman\" font-size=\"14.00\">gini = 0.301</text>\n",
       "<text text-anchor=\"start\" x=\"1765.5\" y=\"-141.8\" font-family=\"Times-Roman\" font-size=\"14.00\">samples = 16890</text>\n",
       "<text text-anchor=\"start\" x=\"1748.5\" y=\"-126.8\" font-family=\"Times-Roman\" font-size=\"14.00\">value = [13774, 3116]</text>\n",
       "<text text-anchor=\"start\" x=\"1796\" y=\"-111.8\" font-family=\"Times-Roman\" font-size=\"14.00\">class = 0</text>\n",
       "</g>\n",
       "<!-- 17&#45;&gt;21 -->\n",
       "<g id=\"edge21\" class=\"edge\">\n",
       "<title>17&#45;&gt;21</title>\n",
       "<path fill=\"none\" stroke=\"black\" d=\"M1766.96,-222.91C1774.25,-213.92 1782.06,-204.32 1789.58,-195.05\"/>\n",
       "<polygon fill=\"black\" stroke=\"black\" points=\"1792.51,-196.99 1796.1,-187.02 1787.08,-192.58 1792.51,-196.99\"/>\n",
       "</g>\n",
       "<!-- 19 -->\n",
       "<g id=\"node20\" class=\"node\">\n",
       "<title>19</title>\n",
       "<polygon fill=\"#6cb6ec\" stroke=\"black\" points=\"1547,-68 1379,-68 1379,0 1547,0 1547,-68\"/>\n",
       "<text text-anchor=\"start\" x=\"1419\" y=\"-52.8\" font-family=\"Times-Roman\" font-size=\"14.00\">gini = 0.325</text>\n",
       "<text text-anchor=\"start\" x=\"1404\" y=\"-37.8\" font-family=\"Times-Roman\" font-size=\"14.00\">samples = 8588</text>\n",
       "<text text-anchor=\"start\" x=\"1387\" y=\"-22.8\" font-family=\"Times-Roman\" font-size=\"14.00\">value = [1757, 6831]</text>\n",
       "<text text-anchor=\"start\" x=\"1430\" y=\"-7.8\" font-family=\"Times-Roman\" font-size=\"14.00\">class = 1</text>\n",
       "</g>\n",
       "<!-- 18&#45;&gt;19 -->\n",
       "<g id=\"edge19\" class=\"edge\">\n",
       "<title>18&#45;&gt;19</title>\n",
       "<path fill=\"none\" stroke=\"black\" d=\"M1573.46,-103.73C1557.55,-93.82 1540.58,-83.27 1524.84,-73.48\"/>\n",
       "<polygon fill=\"black\" stroke=\"black\" points=\"1526.58,-70.44 1516.24,-68.13 1522.88,-76.38 1526.58,-70.44\"/>\n",
       "</g>\n",
       "<!-- 20 -->\n",
       "<g id=\"node21\" class=\"node\">\n",
       "<title>20</title>\n",
       "<polygon fill=\"#edaa79\" stroke=\"black\" points=\"1723.5,-68 1564.5,-68 1564.5,0 1723.5,0 1723.5,-68\"/>\n",
       "<text text-anchor=\"start\" x=\"1604.5\" y=\"-52.8\" font-family=\"Times-Roman\" font-size=\"14.00\">gini = 0.37</text>\n",
       "<text text-anchor=\"start\" x=\"1585\" y=\"-37.8\" font-family=\"Times-Roman\" font-size=\"14.00\">samples = 2077</text>\n",
       "<text text-anchor=\"start\" x=\"1572.5\" y=\"-22.8\" font-family=\"Times-Roman\" font-size=\"14.00\">value = [1568, 509]</text>\n",
       "<text text-anchor=\"start\" x=\"1611\" y=\"-7.8\" font-family=\"Times-Roman\" font-size=\"14.00\">class = 0</text>\n",
       "</g>\n",
       "<!-- 18&#45;&gt;20 -->\n",
       "<g id=\"edge20\" class=\"edge\">\n",
       "<title>18&#45;&gt;20</title>\n",
       "<path fill=\"none\" stroke=\"black\" d=\"M1640.86,-103.73C1641.24,-95.52 1641.63,-86.86 1642.01,-78.56\"/>\n",
       "<polygon fill=\"black\" stroke=\"black\" points=\"1645.52,-78.45 1642.48,-68.3 1638.53,-78.13 1645.52,-78.45\"/>\n",
       "</g>\n",
       "<!-- 22 -->\n",
       "<g id=\"node23\" class=\"node\">\n",
       "<title>22</title>\n",
       "<polygon fill=\"#f7dac5\" stroke=\"black\" points=\"1909,-68 1741,-68 1741,0 1909,0 1909,-68\"/>\n",
       "<text text-anchor=\"start\" x=\"1781\" y=\"-52.8\" font-family=\"Times-Roman\" font-size=\"14.00\">gini = 0.485</text>\n",
       "<text text-anchor=\"start\" x=\"1766\" y=\"-37.8\" font-family=\"Times-Roman\" font-size=\"14.00\">samples = 3062</text>\n",
       "<text text-anchor=\"start\" x=\"1749\" y=\"-22.8\" font-family=\"Times-Roman\" font-size=\"14.00\">value = [1796, 1266]</text>\n",
       "<text text-anchor=\"start\" x=\"1792\" y=\"-7.8\" font-family=\"Times-Roman\" font-size=\"14.00\">class = 0</text>\n",
       "</g>\n",
       "<!-- 21&#45;&gt;22 -->\n",
       "<g id=\"edge22\" class=\"edge\">\n",
       "<title>21&#45;&gt;22</title>\n",
       "<path fill=\"none\" stroke=\"black\" d=\"M1827.51,-103.73C1827.21,-95.52 1826.89,-86.86 1826.59,-78.56\"/>\n",
       "<polygon fill=\"black\" stroke=\"black\" points=\"1830.08,-78.17 1826.22,-68.3 1823.08,-78.42 1830.08,-78.17\"/>\n",
       "</g>\n",
       "<!-- 23 -->\n",
       "<g id=\"node24\" class=\"node\">\n",
       "<title>23</title>\n",
       "<polygon fill=\"#e99458\" stroke=\"black\" points=\"2103.5,-68 1926.5,-68 1926.5,0 2103.5,0 2103.5,-68\"/>\n",
       "<text text-anchor=\"start\" x=\"1971\" y=\"-52.8\" font-family=\"Times-Roman\" font-size=\"14.00\">gini = 0.232</text>\n",
       "<text text-anchor=\"start\" x=\"1951.5\" y=\"-37.8\" font-family=\"Times-Roman\" font-size=\"14.00\">samples = 13828</text>\n",
       "<text text-anchor=\"start\" x=\"1934.5\" y=\"-22.8\" font-family=\"Times-Roman\" font-size=\"14.00\">value = [11978, 1850]</text>\n",
       "<text text-anchor=\"start\" x=\"1982\" y=\"-7.8\" font-family=\"Times-Roman\" font-size=\"14.00\">class = 0</text>\n",
       "</g>\n",
       "<!-- 21&#45;&gt;23 -->\n",
       "<g id=\"edge23\" class=\"edge\">\n",
       "<title>21&#45;&gt;23</title>\n",
       "<path fill=\"none\" stroke=\"black\" d=\"M1898,-103.88C1915.07,-93.83 1933.31,-83.09 1950.19,-73.16\"/>\n",
       "<polygon fill=\"black\" stroke=\"black\" points=\"1952.03,-76.13 1958.87,-68.04 1948.48,-70.1 1952.03,-76.13\"/>\n",
       "</g>\n",
       "<!-- 25 -->\n",
       "<g id=\"node26\" class=\"node\">\n",
       "<title>25</title>\n",
       "<polygon fill=\"#e9975b\" stroke=\"black\" points=\"2382.5,-187 2205.5,-187 2205.5,-104 2382.5,-104 2382.5,-187\"/>\n",
       "<text text-anchor=\"start\" x=\"2243.5\" y=\"-171.8\" font-family=\"Times-Roman\" font-size=\"14.00\">Parch ≤ 0.028</text>\n",
       "<text text-anchor=\"start\" x=\"2254.5\" y=\"-156.8\" font-family=\"Times-Roman\" font-size=\"14.00\">gini = 0.25</text>\n",
       "<text text-anchor=\"start\" x=\"2230.5\" y=\"-141.8\" font-family=\"Times-Roman\" font-size=\"14.00\">samples = 21323</text>\n",
       "<text text-anchor=\"start\" x=\"2213.5\" y=\"-126.8\" font-family=\"Times-Roman\" font-size=\"14.00\">value = [18206, 3117]</text>\n",
       "<text text-anchor=\"start\" x=\"2261\" y=\"-111.8\" font-family=\"Times-Roman\" font-size=\"14.00\">class = 0</text>\n",
       "</g>\n",
       "<!-- 24&#45;&gt;25 -->\n",
       "<g id=\"edge25\" class=\"edge\">\n",
       "<title>24&#45;&gt;25</title>\n",
       "<path fill=\"none\" stroke=\"black\" d=\"M2294,-222.91C2294,-214.65 2294,-205.86 2294,-197.3\"/>\n",
       "<polygon fill=\"black\" stroke=\"black\" points=\"2297.5,-197.02 2294,-187.02 2290.5,-197.02 2297.5,-197.02\"/>\n",
       "</g>\n",
       "<!-- 28 -->\n",
       "<g id=\"node29\" class=\"node\">\n",
       "<title>28</title>\n",
       "<polygon fill=\"#e68641\" stroke=\"black\" points=\"2661.5,-187 2484.5,-187 2484.5,-104 2661.5,-104 2661.5,-187\"/>\n",
       "<text text-anchor=\"start\" x=\"2525.5\" y=\"-171.8\" font-family=\"Times-Roman\" font-size=\"14.00\">Age ≤ &#45;1.468</text>\n",
       "<text text-anchor=\"start\" x=\"2529\" y=\"-156.8\" font-family=\"Times-Roman\" font-size=\"14.00\">gini = 0.075</text>\n",
       "<text text-anchor=\"start\" x=\"2509.5\" y=\"-141.8\" font-family=\"Times-Roman\" font-size=\"14.00\">samples = 64391</text>\n",
       "<text text-anchor=\"start\" x=\"2492.5\" y=\"-126.8\" font-family=\"Times-Roman\" font-size=\"14.00\">value = [61866, 2525]</text>\n",
       "<text text-anchor=\"start\" x=\"2540\" y=\"-111.8\" font-family=\"Times-Roman\" font-size=\"14.00\">class = 0</text>\n",
       "</g>\n",
       "<!-- 24&#45;&gt;28 -->\n",
       "<g id=\"edge28\" class=\"edge\">\n",
       "<title>24&#45;&gt;28</title>\n",
       "<path fill=\"none\" stroke=\"black\" d=\"M2382.66,-226.32C2411.89,-214.06 2444.57,-200.36 2474.48,-187.81\"/>\n",
       "<polygon fill=\"black\" stroke=\"black\" points=\"2476.22,-190.88 2484.09,-183.78 2473.52,-184.42 2476.22,-190.88\"/>\n",
       "</g>\n",
       "<!-- 26 -->\n",
       "<g id=\"node27\" class=\"node\">\n",
       "<title>26</title>\n",
       "<polygon fill=\"#e99356\" stroke=\"black\" points=\"2298.5,-68 2121.5,-68 2121.5,0 2298.5,0 2298.5,-68\"/>\n",
       "<text text-anchor=\"start\" x=\"2166\" y=\"-52.8\" font-family=\"Times-Roman\" font-size=\"14.00\">gini = 0.223</text>\n",
       "<text text-anchor=\"start\" x=\"2146.5\" y=\"-37.8\" font-family=\"Times-Roman\" font-size=\"14.00\">samples = 17343</text>\n",
       "<text text-anchor=\"start\" x=\"2129.5\" y=\"-22.8\" font-family=\"Times-Roman\" font-size=\"14.00\">value = [15123, 2220]</text>\n",
       "<text text-anchor=\"start\" x=\"2177\" y=\"-7.8\" font-family=\"Times-Roman\" font-size=\"14.00\">class = 0</text>\n",
       "</g>\n",
       "<!-- 25&#45;&gt;26 -->\n",
       "<g id=\"edge26\" class=\"edge\">\n",
       "<title>25&#45;&gt;26</title>\n",
       "<path fill=\"none\" stroke=\"black\" d=\"M2262.72,-103.73C2255.86,-94.79 2248.6,-85.32 2241.72,-76.36\"/>\n",
       "<polygon fill=\"black\" stroke=\"black\" points=\"2244.41,-74.1 2235.54,-68.3 2238.85,-78.36 2244.41,-74.1\"/>\n",
       "</g>\n",
       "<!-- 27 -->\n",
       "<g id=\"node28\" class=\"node\">\n",
       "<title>27</title>\n",
       "<polygon fill=\"#eda673\" stroke=\"black\" points=\"2475.5,-68 2316.5,-68 2316.5,0 2475.5,0 2475.5,-68\"/>\n",
       "<text text-anchor=\"start\" x=\"2352\" y=\"-52.8\" font-family=\"Times-Roman\" font-size=\"14.00\">gini = 0.349</text>\n",
       "<text text-anchor=\"start\" x=\"2337\" y=\"-37.8\" font-family=\"Times-Roman\" font-size=\"14.00\">samples = 3980</text>\n",
       "<text text-anchor=\"start\" x=\"2324.5\" y=\"-22.8\" font-family=\"Times-Roman\" font-size=\"14.00\">value = [3083, 897]</text>\n",
       "<text text-anchor=\"start\" x=\"2363\" y=\"-7.8\" font-family=\"Times-Roman\" font-size=\"14.00\">class = 0</text>\n",
       "</g>\n",
       "<!-- 25&#45;&gt;27 -->\n",
       "<g id=\"edge27\" class=\"edge\">\n",
       "<title>25&#45;&gt;27</title>\n",
       "<path fill=\"none\" stroke=\"black\" d=\"M2331.98,-103.73C2340.48,-94.61 2349.49,-84.93 2357.99,-75.81\"/>\n",
       "<polygon fill=\"black\" stroke=\"black\" points=\"2360.73,-78 2364.98,-68.3 2355.6,-73.23 2360.73,-78\"/>\n",
       "</g>\n",
       "<!-- 29 -->\n",
       "<g id=\"node30\" class=\"node\">\n",
       "<title>29</title>\n",
       "<polygon fill=\"#e89051\" stroke=\"black\" points=\"2652.5,-68 2493.5,-68 2493.5,0 2652.5,0 2652.5,-68\"/>\n",
       "<text text-anchor=\"start\" x=\"2533.5\" y=\"-52.8\" font-family=\"Times-Roman\" font-size=\"14.00\">gini = 0.19</text>\n",
       "<text text-anchor=\"start\" x=\"2514\" y=\"-37.8\" font-family=\"Times-Roman\" font-size=\"14.00\">samples = 3707</text>\n",
       "<text text-anchor=\"start\" x=\"2501.5\" y=\"-22.8\" font-family=\"Times-Roman\" font-size=\"14.00\">value = [3312, 395]</text>\n",
       "<text text-anchor=\"start\" x=\"2540\" y=\"-7.8\" font-family=\"Times-Roman\" font-size=\"14.00\">class = 0</text>\n",
       "</g>\n",
       "<!-- 28&#45;&gt;29 -->\n",
       "<g id=\"edge29\" class=\"edge\">\n",
       "<title>28&#45;&gt;29</title>\n",
       "<path fill=\"none\" stroke=\"black\" d=\"M2573,-103.73C2573,-95.52 2573,-86.86 2573,-78.56\"/>\n",
       "<polygon fill=\"black\" stroke=\"black\" points=\"2576.5,-78.3 2573,-68.3 2569.5,-78.3 2576.5,-78.3\"/>\n",
       "</g>\n",
       "<!-- 30 -->\n",
       "<g id=\"node31\" class=\"node\">\n",
       "<title>30</title>\n",
       "<polygon fill=\"#e68640\" stroke=\"black\" points=\"2847.5,-68 2670.5,-68 2670.5,0 2847.5,0 2847.5,-68\"/>\n",
       "<text text-anchor=\"start\" x=\"2715\" y=\"-52.8\" font-family=\"Times-Roman\" font-size=\"14.00\">gini = 0.068</text>\n",
       "<text text-anchor=\"start\" x=\"2695.5\" y=\"-37.8\" font-family=\"Times-Roman\" font-size=\"14.00\">samples = 60684</text>\n",
       "<text text-anchor=\"start\" x=\"2678.5\" y=\"-22.8\" font-family=\"Times-Roman\" font-size=\"14.00\">value = [58554, 2130]</text>\n",
       "<text text-anchor=\"start\" x=\"2726\" y=\"-7.8\" font-family=\"Times-Roman\" font-size=\"14.00\">class = 0</text>\n",
       "</g>\n",
       "<!-- 28&#45;&gt;30 -->\n",
       "<g id=\"edge30\" class=\"edge\">\n",
       "<title>28&#45;&gt;30</title>\n",
       "<path fill=\"none\" stroke=\"black\" d=\"M2642,-103.88C2659.07,-93.83 2677.31,-83.09 2694.19,-73.16\"/>\n",
       "<polygon fill=\"black\" stroke=\"black\" points=\"2696.03,-76.13 2702.87,-68.04 2692.48,-70.1 2696.03,-76.13\"/>\n",
       "</g>\n",
       "</g>\n",
       "</svg>\n"
      ],
      "text/plain": [
       "<graphviz.files.Source at 0x7f2f2dcfb450>"
      ]
     },
     "execution_count": 16,
     "metadata": {},
     "output_type": "execute_result"
    }
   ],
   "source": [
    "# plot tree\n",
    "dot_data = export_graphviz(\n",
    "    model,\n",
    "    out_file=None,\n",
    "    feature_names=X_train.columns,\n",
    "    class_names=['0', '1'],\n",
    "    filled=True,\n",
    "    rounded=False,\n",
    "    special_characters=True,\n",
    "    precision=3\n",
    ")\n",
    "graph = graphviz.Source(dot_data)\n",
    "graph "
   ]
  },
  {
   "cell_type": "markdown",
   "id": "viral-compromise",
   "metadata": {
    "papermill": {
     "duration": 0.056927,
     "end_time": "2021-04-23T04:23:42.554441",
     "exception": false,
     "start_time": "2021-04-23T04:23:42.497514",
     "status": "completed"
    },
    "tags": []
   },
   "source": [
    "# Ensemble"
   ]
  },
  {
   "cell_type": "code",
   "execution_count": 17,
   "id": "pacific-declaration",
   "metadata": {
    "execution": {
     "iopub.execute_input": "2021-04-23T04:23:42.674621Z",
     "iopub.status.busy": "2021-04-23T04:23:42.673767Z",
     "iopub.status.idle": "2021-04-23T04:23:42.681607Z",
     "shell.execute_reply": "2021-04-23T04:23:42.681086Z"
    },
    "papermill": {
     "duration": 0.069954,
     "end_time": "2021-04-23T04:23:42.681717",
     "exception": false,
     "start_time": "2021-04-23T04:23:42.611763",
     "status": "completed"
    },
    "tags": []
   },
   "outputs": [],
   "source": [
    "submission['submit_lgb'] = np.where(lgb_preds>0.5, 1, 0)\n",
    "submission['submit_ctb'] = np.where(ctb_preds>0.5, 1, 0)\n",
    "submission['submit_dtm'] = np.where(dtm_preds>0.5, 1, 0)"
   ]
  },
  {
   "cell_type": "code",
   "execution_count": 18,
   "id": "technical-charter",
   "metadata": {
    "execution": {
     "iopub.execute_input": "2021-04-23T04:23:42.880327Z",
     "iopub.status.busy": "2021-04-23T04:23:42.879463Z",
     "iopub.status.idle": "2021-04-23T04:23:42.899292Z",
     "shell.execute_reply": "2021-04-23T04:23:42.898257Z"
    },
    "papermill": {
     "duration": 0.123036,
     "end_time": "2021-04-23T04:23:42.899484",
     "exception": false,
     "start_time": "2021-04-23T04:23:42.776448",
     "status": "completed"
    },
    "tags": []
   },
   "outputs": [
    {
     "data": {
      "text/plain": [
       "0    63815\n",
       "3    32606\n",
       "1     2066\n",
       "2     1513\n",
       "dtype: int64"
      ]
     },
     "execution_count": 18,
     "metadata": {},
     "output_type": "execute_result"
    }
   ],
   "source": [
    "submission[[col for col in submission.columns if col.startswith('submit_')]].sum(axis = 1).value_counts()"
   ]
  },
  {
   "cell_type": "code",
   "execution_count": 19,
   "id": "excellent-outreach",
   "metadata": {
    "execution": {
     "iopub.execute_input": "2021-04-23T04:23:43.114135Z",
     "iopub.status.busy": "2021-04-23T04:23:43.113371Z",
     "iopub.status.idle": "2021-04-23T04:23:43.121548Z",
     "shell.execute_reply": "2021-04-23T04:23:43.122611Z"
    },
    "papermill": {
     "duration": 0.12199,
     "end_time": "2021-04-23T04:23:43.122792",
     "exception": false,
     "start_time": "2021-04-23T04:23:43.000802",
     "status": "completed"
    },
    "tags": []
   },
   "outputs": [],
   "source": [
    "submission[TARGET] = (submission[[col for col in submission.columns if col.startswith('submit_')]].sum(axis=1) >= 2).astype(int)\n",
    "submission.drop([col for col in submission.columns if col.startswith('submit_')], axis=1, inplace=True)"
   ]
  },
  {
   "cell_type": "markdown",
   "id": "brave-alert",
   "metadata": {
    "papermill": {
     "duration": 0.099589,
     "end_time": "2021-04-23T04:23:43.324511",
     "exception": false,
     "start_time": "2021-04-23T04:23:43.224922",
     "status": "completed"
    },
    "tags": []
   },
   "source": [
    "# Ensemble/Submission"
   ]
  },
  {
   "cell_type": "code",
   "execution_count": 20,
   "id": "domestic-economics",
   "metadata": {
    "execution": {
     "iopub.execute_input": "2021-04-23T04:23:43.449277Z",
     "iopub.status.busy": "2021-04-23T04:23:43.448601Z",
     "iopub.status.idle": "2021-04-23T04:23:43.504244Z",
     "shell.execute_reply": "2021-04-23T04:23:43.503713Z"
    },
    "papermill": {
     "duration": 0.120449,
     "end_time": "2021-04-23T04:23:43.504453",
     "exception": false,
     "start_time": "2021-04-23T04:23:43.384004",
     "status": "completed"
    },
    "tags": []
   },
   "outputs": [],
   "source": [
    "submission['submit_1'] = submission[TARGET].copy()\n",
    "submission['submit_2'] = pd.read_csv(\"../input/tps-apr-2021-label/dae.csv\")[TARGET]\n",
    "submission['submit_3'] = pd.read_csv(\"../input/tps-apr-2021-label/pseudo_label.csv\")[TARGET]"
   ]
  },
  {
   "cell_type": "code",
   "execution_count": 21,
   "id": "demographic-christmas",
   "metadata": {
    "execution": {
     "iopub.execute_input": "2021-04-23T04:23:43.630544Z",
     "iopub.status.busy": "2021-04-23T04:23:43.629031Z",
     "iopub.status.idle": "2021-04-23T04:23:43.639500Z",
     "shell.execute_reply": "2021-04-23T04:23:43.639922Z"
    },
    "papermill": {
     "duration": 0.075907,
     "end_time": "2021-04-23T04:23:43.640055",
     "exception": false,
     "start_time": "2021-04-23T04:23:43.564148",
     "status": "completed"
    },
    "tags": []
   },
   "outputs": [
    {
     "data": {
      "text/plain": [
       "0    65007\n",
       "3    33969\n",
       "1      606\n",
       "2      418\n",
       "dtype: int64"
      ]
     },
     "execution_count": 21,
     "metadata": {},
     "output_type": "execute_result"
    }
   ],
   "source": [
    "submission[[col for col in submission.columns if col.startswith('submit_')]].sum(axis = 1).value_counts()"
   ]
  },
  {
   "cell_type": "code",
   "execution_count": 22,
   "id": "armed-anderson",
   "metadata": {
    "execution": {
     "iopub.execute_input": "2021-04-23T04:23:43.767798Z",
     "iopub.status.busy": "2021-04-23T04:23:43.766869Z",
     "iopub.status.idle": "2021-04-23T04:23:43.771363Z",
     "shell.execute_reply": "2021-04-23T04:23:43.770967Z"
    },
    "papermill": {
     "duration": 0.070268,
     "end_time": "2021-04-23T04:23:43.771470",
     "exception": false,
     "start_time": "2021-04-23T04:23:43.701202",
     "status": "completed"
    },
    "tags": []
   },
   "outputs": [],
   "source": [
    "submission[TARGET] = (submission[[col for col in submission.columns if col.startswith('submit_')]].sum(axis=1) >= 2).astype(int)"
   ]
  },
  {
   "cell_type": "code",
   "execution_count": 23,
   "id": "instructional-effectiveness",
   "metadata": {
    "ExecuteTime": {
     "end_time": "2021-04-05T06:28:42.559972Z",
     "start_time": "2021-04-05T06:28:42.544632Z"
    },
    "_cell_guid": "f08d0cb1-44a3-4a76-81ce-e11528fe77a9",
    "_uuid": "e348ccf4-4674-4510-8b64-3042e66b1c3e",
    "collapsed": false,
    "execution": {
     "iopub.execute_input": "2021-04-23T04:23:43.896689Z",
     "iopub.status.busy": "2021-04-23T04:23:43.895956Z",
     "iopub.status.idle": "2021-04-23T04:23:44.309121Z",
     "shell.execute_reply": "2021-04-23T04:23:44.308583Z"
    },
    "jupyter": {
     "outputs_hidden": false
    },
    "papermill": {
     "duration": 0.477815,
     "end_time": "2021-04-23T04:23:44.309250",
     "exception": false,
     "start_time": "2021-04-23T04:23:43.831435",
     "status": "completed"
    },
    "tags": []
   },
   "outputs": [],
   "source": [
    "submission[['PassengerId', TARGET]].to_csv(\"voting_submission.csv\", index = False)"
   ]
  },
  {
   "cell_type": "code",
   "execution_count": 24,
   "id": "fiscal-donor",
   "metadata": {
    "execution": {
     "iopub.execute_input": "2021-04-23T04:23:44.444189Z",
     "iopub.status.busy": "2021-04-23T04:23:44.443597Z",
     "iopub.status.idle": "2021-04-23T04:23:44.600771Z",
     "shell.execute_reply": "2021-04-23T04:23:44.601244Z"
    },
    "papermill": {
     "duration": 0.226641,
     "end_time": "2021-04-23T04:23:44.601386",
     "exception": false,
     "start_time": "2021-04-23T04:23:44.374745",
     "status": "completed"
    },
    "tags": []
   },
   "outputs": [
    {
     "data": {
      "text/plain": [
       "<AxesSubplot:>"
      ]
     },
     "execution_count": 24,
     "metadata": {},
     "output_type": "execute_result"
    },
    {
     "data": {
      "image/png": "[encoded data removed]",
      "text/plain": [
       "<Figure size 432x288 with 1 Axes>"
      ]
     },
     "metadata": {
      "needs_background": "light"
     },
     "output_type": "display_data"
    }
   ],
   "source": [
    "submission[TARGET].hist()"
   ]
  },
  {
   "cell_type": "code",
   "execution_count": null,
   "id": "revised-profile",
   "metadata": {
    "papermill": {
     "duration": 0.060979,
     "end_time": "2021-04-23T04:23:44.731367",
     "exception": false,
     "start_time": "2021-04-23T04:23:44.670388",
     "status": "completed"
    },
    "tags": []
   },
   "outputs": [],
   "source": []
  }
 ],
 "metadata": {
  "kernelspec": {
   "display_name": "Python 3",
   "language": "python",
   "name": "python3"
  },
  "language_info": {
   "codemirror_mode": {
    "name": "ipython",
    "version": 3
   },
   "file_extension": ".py",
   "mimetype": "text/x-python",
   "name": "python",
   "nbconvert_exporter": "python",
   "pygments_lexer": "ipython3",
   "version": "3.7.9"
  },
  "papermill": {
   "default_parameters": {},
   "duration": 320.846904,
   "end_time": "2021-04-23T04:23:45.902474",
   "environment_variables": {},
   "exception": null,
   "input_path": "__notebook__.ipynb",
   "output_path": "__notebook__.ipynb",
   "parameters": {},
   "start_time": "2021-04-23T04:18:25.055570",
   "version": "2.3.2"
  }
 },
 "nbformat": 4,
 "nbformat_minor": 5
}
