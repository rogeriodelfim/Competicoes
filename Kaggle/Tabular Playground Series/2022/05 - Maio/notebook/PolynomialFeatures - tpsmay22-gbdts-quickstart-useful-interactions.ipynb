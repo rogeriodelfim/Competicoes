{
 "cells": [
  {
   "cell_type": "markdown",
   "id": "c1947cd2",
   "metadata": {
    "toc": true
   },
   "source": [
    "<h1>Table of Contents<span class=\"tocSkip\"></span></h1>\n",
    "<div class=\"toc\"><ul class=\"toc-item\"><li><span><a href=\"#Description-and-shotout\" data-toc-modified-id=\"Description-and-shotout-1\"><span class=\"toc-item-num\">1&nbsp;&nbsp;</span>Description and shotout</a></span><ul class=\"toc-item\"><li><ul class=\"toc-item\"><li><ul class=\"toc-item\"><li><span><a href=\"#What's-new?\" data-toc-modified-id=\"What's-new?-1.0.0.1\"><span class=\"toc-item-num\">1.0.0.1&nbsp;&nbsp;</span>What's new?</a></span></li></ul></li></ul></li></ul></li><li><span><a href=\"#Início-rápido-de-aumento-de-gradiente-para-TPSMAY22\" data-toc-modified-id=\"Início-rápido-de-aumento-de-gradiente-para-TPSMAY22-2\"><span class=\"toc-item-num\">2&nbsp;&nbsp;</span>Início rápido de aumento de gradiente para TPSMAY22</a></span></li><li><span><a href=\"#Engenharia-de-recursos\" data-toc-modified-id=\"Engenharia-de-recursos-3\"><span class=\"toc-item-num\">3&nbsp;&nbsp;</span>Engenharia de recursos</a></span></li><li><span><a href=\"#Cross-validation\" data-toc-modified-id=\"Cross-validation-4\"><span class=\"toc-item-num\">4&nbsp;&nbsp;</span>Cross-validation</a></span></li><li><span><a href=\"#Three-diagrams-for-model-evaluation\" data-toc-modified-id=\"Three-diagrams-for-model-evaluation-5\"><span class=\"toc-item-num\">5&nbsp;&nbsp;</span>Three diagrams for model evaluation</a></span></li><li><span><a href=\"#Submission\" data-toc-modified-id=\"Submission-6\"><span class=\"toc-item-num\">6&nbsp;&nbsp;</span>Submission</a></span></li><li><span><a href=\"#What-next?\" data-toc-modified-id=\"What-next?-7\"><span class=\"toc-item-num\">7&nbsp;&nbsp;</span>What next?</a></span></li></ul></div>"
   ]
  },
  {
   "cell_type": "markdown",
   "id": "7ed0b7a6",
   "metadata": {
    "papermill": {
     "duration": 0.015845,
     "end_time": "2022-05-06T11:31:15.123632",
     "exception": false,
     "start_time": "2022-05-06T11:31:15.107787",
     "status": "completed"
    },
    "tags": []
   },
   "source": [
    "# Descrição e tiro\n",
    "Este notebook é quase o mesmo que [este](https://www.kaggle.com/code/ambrosm/tpsmay22-gradient-boosting-quickstart) do @ambrosm, mas com algumas interações de recursos adicionadas. Portanto, se você for votar a favor deste notebook, por favor vote também no outro.\n",
    "\n",
    "#### O que há de novo?\n",
    "Adicionei algumas interações de recursos que achei úteis que melhoram o CV e o LB Público:\n",
    "\n",
    "CV antigo (dobra 0): **0,991** vs novo CV (dobra 0): **0,992**\n",
    "\n",
    "LB público antigo: **0,99275** , novo LB público: **0,99369**\n",
    "\n",
    "Há um post nos fóruns de discussão em que explico como me deparei com esses recursos."
   ]
  },
  {
   "cell_type": "markdown",
   "id": "4de60d96",
   "metadata": {
    "_cell_guid": "b1076dfc-b9ad-4769-8c92-a6c4dae69d19",
    "_uuid": "8f2839f25d086af736a60e9eeb907d3b93b6e0e5",
    "papermill": {
     "duration": 0.014131,
     "end_time": "2022-05-06T11:31:15.153558",
     "exception": false,
     "start_time": "2022-05-06T11:31:15.139427",
     "status": "completed"
    },
    "tags": []
   },
   "source": [
    "# Início rápido de aumento de gradiente para TPSMAY22\n",
    "\n",
    "Este notebook mostra como treinar um intensificador de gradiente com engenharia de recursos mínima. Para o EDA correspondente, consulte o [caderno EDA separado](https://www.kaggle.com/code/ambrosm/tpsmay22-eda-which-makes-sense).\n",
    "\n",
    "Notas de lançamento:\n",
    "- V1: XGB\n",
    "- V2: LightGBM, mais um recurso"
   ]
  },
  {
   "cell_type": "code",
   "execution_count": 1,
   "id": "53258570",
   "metadata": {
    "ExecuteTime": {
     "end_time": "2022-05-29T22:05:49.423146Z",
     "start_time": "2022-05-29T22:05:36.868031Z"
    },
    "_kg_hide-input": true,
    "execution": {
     "iopub.execute_input": "2022-05-06T11:31:15.185465Z",
     "iopub.status.busy": "2022-05-06T11:31:15.184901Z",
     "iopub.status.idle": "2022-05-06T11:31:18.328384Z",
     "shell.execute_reply": "2022-05-06T11:31:18.327195Z"
    },
    "papermill": {
     "duration": 3.163406,
     "end_time": "2022-05-06T11:31:18.331530",
     "exception": false,
     "start_time": "2022-05-06T11:31:15.168124",
     "status": "completed"
    },
    "tags": []
   },
   "outputs": [
    {
     "data": {
      "text/html": [
       "<style type='text/css'>\n",
       ".datatable table.frame { margin-bottom: 0; }\n",
       ".datatable table.frame thead { border-bottom: none; }\n",
       ".datatable table.frame tr.coltypes td {  color: #FFFFFF;  line-height: 6px;  padding: 0 0.5em;}\n",
       ".datatable .bool    { background: #DDDD99; }\n",
       ".datatable .object  { background: #565656; }\n",
       ".datatable .int     { background: #5D9E5D; }\n",
       ".datatable .float   { background: #4040CC; }\n",
       ".datatable .str     { background: #CC4040; }\n",
       ".datatable .time    { background: #40CC40; }\n",
       ".datatable .row_index {  background: var(--jp-border-color3);  border-right: 1px solid var(--jp-border-color0);  color: var(--jp-ui-font-color3);  font-size: 9px;}\n",
       ".datatable .frame tbody td { text-align: left; }\n",
       ".datatable .frame tr.coltypes .row_index {  background: var(--jp-border-color0);}\n",
       ".datatable th:nth-child(2) { padding-left: 12px; }\n",
       ".datatable .hellipsis {  color: var(--jp-cell-editor-border-color);}\n",
       ".datatable .vellipsis {  background: var(--jp-layout-color0);  color: var(--jp-cell-editor-border-color);}\n",
       ".datatable .na {  color: var(--jp-cell-editor-border-color);  font-size: 80%;}\n",
       ".datatable .sp {  opacity: 0.25;}\n",
       ".datatable .footer { font-size: 9px; }\n",
       ".datatable .frame_dimensions {  background: var(--jp-border-color3);  border-top: 1px solid var(--jp-border-color0);  color: var(--jp-ui-font-color3);  display: inline-block;  opacity: 0.6;  padding: 1px 10px 1px 5px;}\n",
       "</style>\n"
      ],
      "text/plain": [
       "<IPython.core.display.HTML object>"
      ]
     },
     "metadata": {},
     "output_type": "display_data"
    }
   ],
   "source": [
    "import numpy as np\n",
    "import pandas as pd\n",
    "import matplotlib.pyplot as plt\n",
    "from matplotlib.ticker import MaxNLocator\n",
    "import seaborn as sns\n",
    "from cycler import cycler\n",
    "from IPython.display import display\n",
    "import datetime\n",
    "import scipy.stats\n",
    "\n",
    "from sklearn.preprocessing import PolynomialFeatures\n",
    "from sklearn.model_selection import KFold\n",
    "from sklearn.metrics import roc_auc_score, roc_curve\n",
    "from sklearn.ensemble import HistGradientBoostingClassifier\n",
    "from sklearn.calibration import CalibrationDisplay\n",
    "from xgboost import XGBClassifier\n",
    "from lightgbm import LGBMClassifier\n",
    "\n",
    "plt.rcParams['axes.facecolor'] = '#0057b8' # blue\n",
    "plt.rcParams['axes.prop_cycle'] = cycler(color=['#ffd700'] +\n",
    "                                         plt.rcParams['axes.prop_cycle'].by_key()['color'][1:])"
   ]
  },
  {
   "cell_type": "markdown",
   "id": "e6fd15c0",
   "metadata": {
    "papermill": {
     "duration": 0.015076,
     "end_time": "2022-05-06T11:31:18.362271",
     "exception": false,
     "start_time": "2022-05-06T11:31:18.347195",
     "status": "completed"
    },
    "tags": []
   },
   "source": [
    "# Engenharia de recursos\n",
    "\n",
    "Lemos os dados e aplicamos engenharia de recursos mínima: dividimos apenas a string `f_27` em dez recursos separados, conforme descrito no [EDA](https://www.kaggle.com/code/ambrosm/tpsmay22-eda-which- faz sentido), e contamos os caracteres únicos na string."
   ]
  },
  {
   "cell_type": "code",
   "execution_count": 4,
   "id": "cb438eac",
   "metadata": {
    "ExecuteTime": {
     "end_time": "2022-05-29T22:14:38.408569Z",
     "start_time": "2022-05-29T22:14:38.044199Z"
    }
   },
   "outputs": [
    {
     "name": "stdout",
     "output_type": "stream",
     "text": [
      "<class 'pandas.core.frame.DataFrame'>\n",
      "RangeIndex: 900000 entries, 0 to 899999\n",
      "Data columns (total 54 columns):\n",
      " #   Column             Non-Null Count   Dtype  \n",
      "---  ------             --------------   -----  \n",
      " 0   id                 900000 non-null  int64  \n",
      " 1   f_00               900000 non-null  float64\n",
      " 2   f_01               900000 non-null  float64\n",
      " 3   f_02               900000 non-null  float64\n",
      " 4   f_03               900000 non-null  float64\n",
      " 5   f_04               900000 non-null  float64\n",
      " 6   f_05               900000 non-null  float64\n",
      " 7   f_06               900000 non-null  float64\n",
      " 8   f_07               900000 non-null  int64  \n",
      " 9   f_08               900000 non-null  int64  \n",
      " 10  f_09               900000 non-null  int64  \n",
      " 11  f_10               900000 non-null  int64  \n",
      " 12  f_11               900000 non-null  int64  \n",
      " 13  f_12               900000 non-null  int64  \n",
      " 14  f_13               900000 non-null  int64  \n",
      " 15  f_14               900000 non-null  int64  \n",
      " 16  f_15               900000 non-null  int64  \n",
      " 17  f_16               900000 non-null  int64  \n",
      " 18  f_17               900000 non-null  int64  \n",
      " 19  f_18               900000 non-null  int64  \n",
      " 20  f_19               900000 non-null  float64\n",
      " 21  f_20               900000 non-null  float64\n",
      " 22  f_21               900000 non-null  float64\n",
      " 23  f_22               900000 non-null  float64\n",
      " 24  f_23               900000 non-null  float64\n",
      " 25  f_24               900000 non-null  float64\n",
      " 26  f_25               900000 non-null  float64\n",
      " 27  f_26               900000 non-null  float64\n",
      " 28  f_27               900000 non-null  object \n",
      " 29  f_28               900000 non-null  float64\n",
      " 30  f_29               900000 non-null  int64  \n",
      " 31  f_30               900000 non-null  int64  \n",
      " 32  target             900000 non-null  int64  \n",
      " 33  ch0                900000 non-null  int64  \n",
      " 34  ch1                900000 non-null  int64  \n",
      " 35  ch2                900000 non-null  int64  \n",
      " 36  ch3                900000 non-null  int64  \n",
      " 37  ch4                900000 non-null  int64  \n",
      " 38  ch5                900000 non-null  int64  \n",
      " 39  ch6                900000 non-null  int64  \n",
      " 40  ch7                900000 non-null  int64  \n",
      " 41  ch8                900000 non-null  int64  \n",
      " 42  ch9                900000 non-null  int64  \n",
      " 43  unique_characters  900000 non-null  int64  \n",
      " 44  inv_f_26           900000 non-null  float64\n",
      " 45  inv_f_21           900000 non-null  float64\n",
      " 46  inv_f_22           900000 non-null  float64\n",
      " 47  f_00 f_26          900000 non-null  float64\n",
      " 48  f_01 f_26          900000 non-null  float64\n",
      " 49  f_05 f_22          900000 non-null  float64\n",
      " 50  f_02 f_21          900000 non-null  float64\n",
      " 51  f_21 f_26          900000 non-null  float64\n",
      " 52  f_21 f_22          900000 non-null  float64\n",
      " 53  f_22 f_26          900000 non-null  float64\n",
      "dtypes: float64(26), int64(27), object(1)\n",
      "memory usage: 370.8+ MB\n"
     ]
    }
   ],
   "source": [
    "train.info()"
   ]
  },
  {
   "cell_type": "code",
   "execution_count": 7,
   "id": "2ffedf49",
   "metadata": {
    "ExecuteTime": {
     "end_time": "2022-05-29T22:51:24.562437Z",
     "start_time": "2022-05-29T22:51:24.535499Z"
    }
   },
   "outputs": [
    {
     "data": {
      "text/plain": [
       "['f_00',\n",
       " 'f_01',\n",
       " 'f_02',\n",
       " 'f_03',\n",
       " 'f_04',\n",
       " 'f_05',\n",
       " 'f_06',\n",
       " 'f_19',\n",
       " 'f_20',\n",
       " 'f_21',\n",
       " 'f_22',\n",
       " 'f_23',\n",
       " 'f_24',\n",
       " 'f_25',\n",
       " 'f_26',\n",
       " 'f_28']"
      ]
     },
     "execution_count": 7,
     "metadata": {},
     "output_type": "execute_result"
    }
   ],
   "source": [
    "float_feats_names"
   ]
  },
  {
   "cell_type": "code",
   "execution_count": 8,
   "id": "b52aefc8",
   "metadata": {
    "ExecuteTime": {
     "end_time": "2022-05-29T22:51:53.868816Z",
     "start_time": "2022-05-29T22:51:53.793818Z"
    }
   },
   "outputs": [
    {
     "data": {
      "text/plain": [
       "<bound method NDFrame.describe of 0          0.174392\n",
       "1          0.313066\n",
       "2         14.948135\n",
       "3          0.256865\n",
       "4          0.537090\n",
       "            ...    \n",
       "699995    13.093767\n",
       "699996     0.449394\n",
       "699997    -0.444694\n",
       "699998    -0.299990\n",
       "699999    -2.761895\n",
       "Name: inv_f_26, Length: 700000, dtype: float64>"
      ]
     },
     "execution_count": 8,
     "metadata": {},
     "output_type": "execute_result"
    }
   ],
   "source": [
    "df[\"inv_f_26\"].describe"
   ]
  },
  {
   "cell_type": "code",
   "execution_count": 2,
   "id": "5b809a7f",
   "metadata": {
    "ExecuteTime": {
     "end_time": "2022-05-29T22:07:11.831563Z",
     "start_time": "2022-05-29T22:06:39.451499Z"
    },
    "execution": {
     "iopub.execute_input": "2022-05-06T11:31:18.395261Z",
     "iopub.status.busy": "2022-05-06T11:31:18.394876Z",
     "iopub.status.idle": "2022-05-06T11:32:10.360362Z",
     "shell.execute_reply": "2022-05-06T11:32:10.358990Z"
    },
    "papermill": {
     "duration": 51.985902,
     "end_time": "2022-05-06T11:32:10.363635",
     "exception": false,
     "start_time": "2022-05-06T11:31:18.377733",
     "status": "completed"
    },
    "tags": []
   },
   "outputs": [
    {
     "name": "stderr",
     "output_type": "stream",
     "text": [
      "d:\\virtualenv\\kaggle\\lib\\site-packages\\sklearn\\utils\\deprecation.py:87: FutureWarning: Function get_feature_names is deprecated; get_feature_names is deprecated in 1.0 and will be removed in 1.2. Please use get_feature_names_out instead.\n",
      "  warnings.warn(msg, category=FutureWarning)\n",
      "d:\\virtualenv\\kaggle\\lib\\site-packages\\sklearn\\utils\\deprecation.py:87: FutureWarning: Function get_feature_names is deprecated; get_feature_names is deprecated in 1.0 and will be removed in 1.2. Please use get_feature_names_out instead.\n",
      "  warnings.warn(msg, category=FutureWarning)\n"
     ]
    },
    {
     "data": {
      "text/html": [
       "<div>\n",
       "<style scoped>\n",
       "    .dataframe tbody tr th:only-of-type {\n",
       "        vertical-align: middle;\n",
       "    }\n",
       "\n",
       "    .dataframe tbody tr th {\n",
       "        vertical-align: top;\n",
       "    }\n",
       "\n",
       "    .dataframe thead th {\n",
       "        text-align: right;\n",
       "    }\n",
       "</style>\n",
       "<table border=\"1\" class=\"dataframe\">\n",
       "  <thead>\n",
       "    <tr style=\"text-align: right;\">\n",
       "      <th></th>\n",
       "      <th>f_00</th>\n",
       "      <th>f_01</th>\n",
       "      <th>f_02</th>\n",
       "      <th>f_03</th>\n",
       "      <th>f_04</th>\n",
       "      <th>f_05</th>\n",
       "      <th>f_06</th>\n",
       "      <th>f_07</th>\n",
       "      <th>f_08</th>\n",
       "      <th>f_09</th>\n",
       "      <th>...</th>\n",
       "      <th>inv_f_26</th>\n",
       "      <th>inv_f_21</th>\n",
       "      <th>inv_f_22</th>\n",
       "      <th>f_00 f_26</th>\n",
       "      <th>f_01 f_26</th>\n",
       "      <th>f_05 f_22</th>\n",
       "      <th>f_02 f_21</th>\n",
       "      <th>f_21 f_26</th>\n",
       "      <th>f_21 f_22</th>\n",
       "      <th>f_22 f_26</th>\n",
       "    </tr>\n",
       "  </thead>\n",
       "  <tbody>\n",
       "    <tr>\n",
       "      <th>0</th>\n",
       "      <td>0.442517</td>\n",
       "      <td>0.174380</td>\n",
       "      <td>-0.999816</td>\n",
       "      <td>0.762741</td>\n",
       "      <td>0.186778</td>\n",
       "      <td>-1.074775</td>\n",
       "      <td>0.501888</td>\n",
       "      <td>6</td>\n",
       "      <td>6</td>\n",
       "      <td>0</td>\n",
       "      <td>...</td>\n",
       "      <td>0.174392</td>\n",
       "      <td>-0.993640</td>\n",
       "      <td>-0.837606</td>\n",
       "      <td>2.537482</td>\n",
       "      <td>0.999932</td>\n",
       "      <td>1.283151</td>\n",
       "      <td>1.006215</td>\n",
       "      <td>-5.770906</td>\n",
       "      <td>1.201520</td>\n",
       "      <td>-6.845947</td>\n",
       "    </tr>\n",
       "    <tr>\n",
       "      <th>1</th>\n",
       "      <td>-0.605598</td>\n",
       "      <td>-0.305715</td>\n",
       "      <td>0.627667</td>\n",
       "      <td>-0.578898</td>\n",
       "      <td>-1.750931</td>\n",
       "      <td>1.355550</td>\n",
       "      <td>-0.190911</td>\n",
       "      <td>1</td>\n",
       "      <td>3</td>\n",
       "      <td>4</td>\n",
       "      <td>...</td>\n",
       "      <td>0.313066</td>\n",
       "      <td>0.419744</td>\n",
       "      <td>6.691557</td>\n",
       "      <td>-1.934411</td>\n",
       "      <td>-0.976519</td>\n",
       "      <td>0.202576</td>\n",
       "      <td>1.495358</td>\n",
       "      <td>7.609923</td>\n",
       "      <td>0.356031</td>\n",
       "      <td>0.477351</td>\n",
       "    </tr>\n",
       "  </tbody>\n",
       "</table>\n",
       "<p>2 rows × 51 columns</p>\n",
       "</div>"
      ],
      "text/plain": [
       "       f_00      f_01      f_02      f_03      f_04      f_05      f_06  f_07  \\\n",
       "0  0.442517  0.174380 -0.999816  0.762741  0.186778 -1.074775  0.501888     6   \n",
       "1 -0.605598 -0.305715  0.627667 -0.578898 -1.750931  1.355550 -0.190911     1   \n",
       "\n",
       "   f_08  f_09  ...  inv_f_26  inv_f_21  inv_f_22  f_00 f_26  f_01 f_26  \\\n",
       "0     6     0  ...  0.174392 -0.993640 -0.837606   2.537482   0.999932   \n",
       "1     3     4  ...  0.313066  0.419744  6.691557  -1.934411  -0.976519   \n",
       "\n",
       "   f_05 f_22  f_02 f_21  f_21 f_26  f_21 f_22  f_22 f_26  \n",
       "0   1.283151   1.006215  -5.770906   1.201520  -6.845947  \n",
       "1   0.202576   1.495358   7.609923   0.356031   0.477351  \n",
       "\n",
       "[2 rows x 51 columns]"
      ]
     },
     "execution_count": 2,
     "metadata": {},
     "output_type": "execute_result"
    }
   ],
   "source": [
    "train = pd.read_csv('Data/train.csv')\n",
    "test = pd.read_csv('Data/test.csv')\n",
    "float_feats_names = [c for c in train.columns if train[c].dtype == \"float\"]\n",
    "\n",
    "for df in [train, test]:\n",
    "    \n",
    "    for i in range(10):\n",
    "        df[f'ch{i}'] = df.f_27.str.get(i).apply(ord) - ord('A')\n",
    "        \n",
    "    # unique_characters feature is from https://www.kaggle.com/code/cabaxiom/tps-may-22-eda-lgbm-model\n",
    "    df[\"unique_characters\"] = df.f_27.apply(lambda s: len(set(s)))\n",
    "    \n",
    "    \n",
    "    # THESE ARE THE NEW FEATURES\n",
    "    float_feats = df[float_feats_names]\n",
    "    inv_float_feats = 1 / float_feats\n",
    "    inv_float_feats.rename(columns=lambda x: f\"inv_{x}\", inplace=True)\n",
    "    for c in [\"inv_f_26\", \"inv_f_21\", \"inv_f_22\"]:\n",
    "        df[c] = inv_float_feats[c]\n",
    "    \n",
    "    poly = PolynomialFeatures(degree=2, interaction_only=True)\n",
    "    float_inters = poly.fit_transform(float_feats)\n",
    "    float_inters = pd.DataFrame(float_inters, columns=poly.get_feature_names(float_feats.columns))\n",
    "    float_inters = float_inters.loc[:, (float_inters != float_inters.iloc[0]).any()]\n",
    "    for c in [\"f_00 f_26\", \"f_01 f_26\", \"f_05 f_22\", \"f_02 f_21\", \"f_21 f_26\", \"f_21 f_22\", \"f_22 f_26\"]:\n",
    "        df[c] = float_inters[c]\n",
    "    \n",
    "features = [f for f in test.columns if f != 'id' and f != 'f_27']\n",
    "test[features].head(2)"
   ]
  },
  {
   "cell_type": "markdown",
   "id": "5c77d31f",
   "metadata": {
    "papermill": {
     "duration": 0.016958,
     "end_time": "2022-05-06T11:32:10.399971",
     "exception": false,
     "start_time": "2022-05-06T11:32:10.383013",
     "status": "completed"
    },
    "tags": []
   },
   "source": [
    "# Validação cruzada\n",
    "\n",
    "Para validação cruzada, usamos um KFold simples com cinco divisões. Descobriu-se que as pontuações das cinco divisões são muito semelhantes, de modo que normalmente corro apenas a primeira divisão. Esta divisão é boa o suficiente para avaliar o modelo."
   ]
  },
  {
   "cell_type": "code",
   "execution_count": 3,
   "id": "5cb38928",
   "metadata": {
    "ExecuteTime": {
     "end_time": "2022-05-29T22:12:58.276104Z",
     "start_time": "2022-05-29T22:08:44.861395Z"
    },
    "execution": {
     "iopub.execute_input": "2022-05-06T11:32:10.438766Z",
     "iopub.status.busy": "2022-05-06T11:32:10.438323Z",
     "iopub.status.idle": "2022-05-06T11:38:17.278228Z",
     "shell.execute_reply": "2022-05-06T11:38:17.276945Z"
    },
    "papermill": {
     "duration": 366.882534,
     "end_time": "2022-05-06T11:38:17.300336",
     "exception": false,
     "start_time": "2022-05-06T11:32:10.417802",
     "status": "completed"
    },
    "tags": []
   },
   "outputs": [
    {
     "name": "stdout",
     "output_type": "stream",
     "text": [
      "51 features\n",
      "Fold 0:                  AUC = 0.992\n",
      "OOF AUC:                       0.992\n",
      "CPU times: total: 29min 26s\n",
      "Wall time: 4min 13s\n"
     ]
    }
   ],
   "source": [
    "%%time\n",
    "# Cross-validation of the classifier\n",
    "\n",
    "def my_booster(random_state=1):\n",
    "#     return HistGradientBoostingClassifier(learning_rate=0.4, max_leaf_nodes=150,\n",
    "#                                           max_iter=1000, min_samples_leaf=4000,\n",
    "#                                           l2_regularization=1,\n",
    "#                                           validation_fraction=0.05,\n",
    "#                                           max_bins=255,\n",
    "#                                           random_state=random_state, verbose=1)\n",
    "#     return XGBClassifier(n_estimators=400, n_jobs=-1,\n",
    "#                          eval_metric=['logloss'],\n",
    "#                          #max_depth=10,\n",
    "#                          colsample_bytree=0.8,\n",
    "#                          #gamma=1.4,\n",
    "#                          reg_alpha=6, reg_lambda=1.5,\n",
    "#                          tree_method='hist',\n",
    "#                          #max_bin=511,\n",
    "#                          learning_rate=0.4,\n",
    "#                          verbosity=1,\n",
    "#                          use_label_encoder=False, random_state=random_state)\n",
    "    return LGBMClassifier(n_estimators=5000, min_child_samples=80,\n",
    "                          max_bins=511, random_state=random_state)\n",
    "      \n",
    "print(f\"{len(features)} features\")\n",
    "score_list = []\n",
    "kf = KFold(n_splits=5)\n",
    "for fold, (idx_tr, idx_va) in enumerate(kf.split(train)):\n",
    "    X_tr = train.iloc[idx_tr][features]\n",
    "    X_va = train.iloc[idx_va][features]\n",
    "    y_tr = train.iloc[idx_tr].target\n",
    "    y_va = train.iloc[idx_va].target\n",
    "    \n",
    "    model = my_booster()\n",
    "\n",
    "    if True or type(model) != XGBClassifier:\n",
    "        model.fit(X_tr.values, y_tr)\n",
    "    else:\n",
    "        model.fit(X_tr.values, y_tr, eval_set = [(X_va.values, y_va)], \n",
    "                  early_stopping_rounds=30, verbose=10)\n",
    "    y_va_pred = model.predict_proba(X_va.values)[:,1]\n",
    "    score = roc_auc_score(y_va, y_va_pred)\n",
    "    try:\n",
    "        print(f\"Fold {fold}: n_iter ={model.n_iter_:5d}    AUC = {score:.3f}\")\n",
    "    except AttributeError:\n",
    "        print(f\"Fold {fold}:                  AUC = {score:.3f}\")\n",
    "    score_list.append(score)\n",
    "    break # we only need the first fold\n",
    "    \n",
    "print(f\"OOF AUC:                       {np.mean(score_list):.3f}\")"
   ]
  },
  {
   "cell_type": "code",
   "execution_count": null,
   "id": "201f785d",
   "metadata": {},
   "outputs": [],
   "source": [
    "51 features\n",
    "Fold 0:                  AUC = 0.992\n",
    "OOF AUC:                       0.992\n",
    "CPU times: user 23min 49s, sys: 3.95 s, total: 23min 52s\n",
    "Wall time: 6min 6s"
   ]
  },
  {
   "cell_type": "markdown",
   "id": "d04966bd",
   "metadata": {
    "papermill": {
     "duration": 0.016965,
     "end_time": "2022-05-06T11:38:17.335829",
     "exception": false,
     "start_time": "2022-05-06T11:38:17.318864",
     "status": "completed"
    },
    "tags": []
   },
   "source": [
    "# Three diagrams for model evaluation\n",
    "\n",
    "We plot the ROC curve just because it looks nice. The area under the red curve is the score of our model.\n"
   ]
  },
  {
   "cell_type": "code",
   "execution_count": 4,
   "id": "49580ada",
   "metadata": {
    "_kg_hide-input": true,
    "execution": {
     "iopub.execute_input": "2022-05-06T11:38:17.373368Z",
     "iopub.status.busy": "2022-05-06T11:38:17.372184Z",
     "iopub.status.idle": "2022-05-06T11:38:17.980543Z",
     "shell.execute_reply": "2022-05-06T11:38:17.979425Z"
    },
    "papermill": {
     "duration": 0.630016,
     "end_time": "2022-05-06T11:38:17.983087",
     "exception": false,
     "start_time": "2022-05-06T11:38:17.353071",
     "status": "completed"
    },
    "tags": []
   },
   "outputs": [
    {
     "data": {
      "image/png": "[encoded data removed]",
      "text/plain": [
       "<Figure size 576x576 with 1 Axes>"
      ]
     },
     "metadata": {
      "needs_background": "light"
     },
     "output_type": "display_data"
    }
   ],
   "source": [
    "# Plot the roc curve for the last fold\n",
    "def plot_roc_curve(y_va, y_va_pred):\n",
    "    plt.figure(figsize=(8, 8))\n",
    "    fpr, tpr, _ = roc_curve(y_va, y_va_pred)\n",
    "    plt.plot(fpr, tpr, color='r', lw=2)\n",
    "    plt.plot([0, 1], [0, 1], color=\"navy\", lw=1, linestyle=\"--\")\n",
    "    plt.gca().set_aspect('equal')\n",
    "    plt.xlim([0.0, 1.0])\n",
    "    plt.ylim([0.0, 1.0])\n",
    "    plt.xlabel(\"False Positive Rate\")\n",
    "    plt.ylabel(\"True Positive Rate\")\n",
    "    plt.title(\"Receiver operating characteristic\")\n",
    "    plt.show()\n",
    "\n",
    "plot_roc_curve(y_va, y_va_pred)"
   ]
  },
  {
   "cell_type": "markdown",
   "id": "236cad9a",
   "metadata": {
    "papermill": {
     "duration": 0.017923,
     "end_time": "2022-05-06T11:38:18.019790",
     "exception": false,
     "start_time": "2022-05-06T11:38:18.001867",
     "status": "completed"
    },
    "tags": []
   },
   "source": [
    "Second, we plot a histogram of the out-of-fold predictions. Many predictions are near 0.0 or near 1.0; this means that in many cases the classifier's predictions have high confidence:"
   ]
  },
  {
   "cell_type": "code",
   "execution_count": 5,
   "id": "577857f5",
   "metadata": {
    "_kg_hide-input": true,
    "execution": {
     "iopub.execute_input": "2022-05-06T11:38:18.058854Z",
     "iopub.status.busy": "2022-05-06T11:38:18.058023Z",
     "iopub.status.idle": "2022-05-06T11:38:18.296223Z",
     "shell.execute_reply": "2022-05-06T11:38:18.295086Z"
    },
    "papermill": {
     "duration": 0.261058,
     "end_time": "2022-05-06T11:38:18.299269",
     "exception": false,
     "start_time": "2022-05-06T11:38:18.038211",
     "status": "completed"
    },
    "tags": []
   },
   "outputs": [
    {
     "data": {
      "image/png": "[encoded data removed]",
      "text/plain": [
       "<Figure size 864x288 with 1 Axes>"
      ]
     },
     "metadata": {
      "needs_background": "light"
     },
     "output_type": "display_data"
    }
   ],
   "source": [
    "plt.figure(figsize=(12, 4))\n",
    "plt.hist(y_va_pred, bins=25, density=True)\n",
    "plt.title('Histogram of the oof predictions')\n",
    "plt.show()\n"
   ]
  },
  {
   "cell_type": "markdown",
   "id": "c22d0f98",
   "metadata": {
    "papermill": {
     "duration": 0.019171,
     "end_time": "2022-05-06T11:38:18.338137",
     "exception": false,
     "start_time": "2022-05-06T11:38:18.318966",
     "status": "completed"
    },
    "tags": []
   },
   "source": [
    "Finally, we plot the calibration curve. The curve here is almost a straight line, which means that the predicted probabilities are almost exact: "
   ]
  },
  {
   "cell_type": "code",
   "execution_count": 6,
   "id": "61eaee64",
   "metadata": {
    "_kg_hide-input": true,
    "execution": {
     "iopub.execute_input": "2022-05-06T11:38:18.378496Z",
     "iopub.status.busy": "2022-05-06T11:38:18.378128Z",
     "iopub.status.idle": "2022-05-06T11:38:18.635909Z",
     "shell.execute_reply": "2022-05-06T11:38:18.634883Z"
    },
    "papermill": {
     "duration": 0.281466,
     "end_time": "2022-05-06T11:38:18.638853",
     "exception": false,
     "start_time": "2022-05-06T11:38:18.357387",
     "status": "completed"
    },
    "tags": []
   },
   "outputs": [
    {
     "data": {
      "image/png": "[encoded data removed]",
      "text/plain": [
       "<Figure size 864x288 with 1 Axes>"
      ]
     },
     "metadata": {
      "needs_background": "light"
     },
     "output_type": "display_data"
    }
   ],
   "source": [
    "plt.figure(figsize=(12, 4))\n",
    "CalibrationDisplay.from_predictions(y_va, y_va_pred, n_bins=20, strategy='quantile', ax=plt.gca())\n",
    "plt.title('Probability calibration')\n",
    "plt.show()"
   ]
  },
  {
   "cell_type": "markdown",
   "id": "5cc2dc57",
   "metadata": {
    "papermill": {
     "duration": 0.021814,
     "end_time": "2022-05-06T11:38:18.681188",
     "exception": false,
     "start_time": "2022-05-06T11:38:18.659374",
     "status": "completed"
    },
    "tags": []
   },
   "source": [
    "# Submission\n",
    "\n",
    "For the submission, we re-train the model on several different seeds and then submit the mean of the ranks."
   ]
  },
  {
   "cell_type": "code",
   "execution_count": 7,
   "id": "0233455f",
   "metadata": {
    "execution": {
     "iopub.execute_input": "2022-05-06T11:38:18.724665Z",
     "iopub.status.busy": "2022-05-06T11:38:18.724029Z",
     "iopub.status.idle": "2022-05-06T13:01:25.165128Z",
     "shell.execute_reply": "2022-05-06T13:01:25.163778Z"
    },
    "papermill": {
     "duration": 4986.466484,
     "end_time": "2022-05-06T13:01:25.168355",
     "exception": false,
     "start_time": "2022-05-06T11:38:18.701871",
     "status": "completed"
    },
    "tags": []
   },
   "outputs": [
    {
     "name": "stdout",
     "output_type": "stream",
     "text": [
      "51 features\n",
      " 0 [637176. 564970.  10693. ... 296501. 156926.   6761.]\n",
      " 1 [649343. 562259.  13132. ... 285031. 101801.   9157.]\n",
      " 2 [651711. 576428.  11055. ... 314110. 125830.   5418.]\n",
      " 3 [644057. 563981.  10808. ... 282687. 166144.   5150.]\n",
      " 4 [639576. 566089.  11429. ... 306597. 145885.   8445.]\n",
      " 5 [631641. 562837.  13773. ... 314429. 145207.   6903.]\n",
      " 6 [652760. 565150.  13656. ... 299261. 131294.   8387.]\n",
      " 7 [642068. 579162.  12501. ... 301960. 108791.   5688.]\n",
      " 8 [654932. 582259.  14700. ... 312262. 112512.   8931.]\n",
      " 9 [635868. 558400.  10604. ... 332426. 134433.   6730.]\n",
      "\n"
     ]
    },
    {
     "data": {
      "text/html": [
       "<div>\n",
       "<style scoped>\n",
       "    .dataframe tbody tr th:only-of-type {\n",
       "        vertical-align: middle;\n",
       "    }\n",
       "\n",
       "    .dataframe tbody tr th {\n",
       "        vertical-align: top;\n",
       "    }\n",
       "\n",
       "    .dataframe thead th {\n",
       "        text-align: right;\n",
       "    }\n",
       "</style>\n",
       "<table border=\"1\" class=\"dataframe\">\n",
       "  <thead>\n",
       "    <tr style=\"text-align: right;\">\n",
       "      <th></th>\n",
       "      <th>id</th>\n",
       "      <th>target</th>\n",
       "    </tr>\n",
       "  </thead>\n",
       "  <tbody>\n",
       "    <tr>\n",
       "      <th>0</th>\n",
       "      <td>900000</td>\n",
       "      <td>643913.2</td>\n",
       "    </tr>\n",
       "    <tr>\n",
       "      <th>1</th>\n",
       "      <td>900001</td>\n",
       "      <td>568153.5</td>\n",
       "    </tr>\n",
       "    <tr>\n",
       "      <th>2</th>\n",
       "      <td>900002</td>\n",
       "      <td>12235.1</td>\n",
       "    </tr>\n",
       "    <tr>\n",
       "      <th>3</th>\n",
       "      <td>900003</td>\n",
       "      <td>170205.8</td>\n",
       "    </tr>\n",
       "    <tr>\n",
       "      <th>4</th>\n",
       "      <td>900004</td>\n",
       "      <td>592611.3</td>\n",
       "    </tr>\n",
       "    <tr>\n",
       "      <th>...</th>\n",
       "      <td>...</td>\n",
       "      <td>...</td>\n",
       "    </tr>\n",
       "    <tr>\n",
       "      <th>699995</th>\n",
       "      <td>1599995</td>\n",
       "      <td>370115.7</td>\n",
       "    </tr>\n",
       "    <tr>\n",
       "      <th>699996</th>\n",
       "      <td>1599996</td>\n",
       "      <td>603497.4</td>\n",
       "    </tr>\n",
       "    <tr>\n",
       "      <th>699997</th>\n",
       "      <td>1599997</td>\n",
       "      <td>304526.4</td>\n",
       "    </tr>\n",
       "    <tr>\n",
       "      <th>699998</th>\n",
       "      <td>1599998</td>\n",
       "      <td>132882.3</td>\n",
       "    </tr>\n",
       "    <tr>\n",
       "      <th>699999</th>\n",
       "      <td>1599999</td>\n",
       "      <td>7157.0</td>\n",
       "    </tr>\n",
       "  </tbody>\n",
       "</table>\n",
       "<p>700000 rows × 2 columns</p>\n",
       "</div>"
      ],
      "text/plain": [
       "             id    target\n",
       "0        900000  643913.2\n",
       "1        900001  568153.5\n",
       "2        900002   12235.1\n",
       "3        900003  170205.8\n",
       "4        900004  592611.3\n",
       "...         ...       ...\n",
       "699995  1599995  370115.7\n",
       "699996  1599996  603497.4\n",
       "699997  1599997  304526.4\n",
       "699998  1599998  132882.3\n",
       "699999  1599999    7157.0\n",
       "\n",
       "[700000 rows x 2 columns]"
      ]
     },
     "execution_count": 7,
     "metadata": {},
     "output_type": "execute_result"
    }
   ],
   "source": [
    "# Create submission\n",
    "print(f\"{len(features)} features\")\n",
    "\n",
    "pred_list = []\n",
    "for seed in range(10):\n",
    "    X_tr = train[features]\n",
    "    y_tr = train.target\n",
    "\n",
    "    model = my_booster(random_state=seed)\n",
    "    model.fit(X_tr.values, y_tr)\n",
    "    pred_list.append(scipy.stats.rankdata(model.predict_proba(test[features].values)[:,1]))\n",
    "    print(f\"{seed:2}\", pred_list[-1])\n",
    "print()\n",
    "submission = test[['id']].copy()\n",
    "submission['target'] = np.array(pred_list).mean(axis=0)\n",
    "submission.to_csv('submission.csv', index=False)\n",
    "submission"
   ]
  },
  {
   "cell_type": "markdown",
   "id": "0ae2f523",
   "metadata": {
    "papermill": {
     "duration": 0.025705,
     "end_time": "2022-05-06T13:01:25.220295",
     "exception": false,
     "start_time": "2022-05-06T13:01:25.194590",
     "status": "completed"
    },
    "tags": []
   },
   "source": [
    "# What next?\n",
    "\n",
    "Now it's your turn! Try to improve this model by\n",
    "- Engineering more features\n",
    "- Tuning hyperparameters\n",
    "- Replacing LightGBM by XGBoost, HistGradientBoostingClassifier or CatBoost "
   ]
  }
 ],
 "metadata": {
  "hide_input": false,
  "kernelspec": {
   "display_name": "Python 3 (ipykernel)",
   "language": "python",
   "name": "python3"
  },
  "language_info": {
   "codemirror_mode": {
    "name": "ipython",
    "version": 3
   },
   "file_extension": ".py",
   "mimetype": "text/x-python",
   "name": "python",
   "nbconvert_exporter": "python",
   "pygments_lexer": "ipython3",
   "version": "3.9.7"
  },
  "nbTranslate": {
   "displayLangs": [
    "en",
    "pt-br"
   ],
   "hotkey": "",
   "langInMainMenu": true,
   "sourceLang": "en",
   "targetLang": "pt-br",
   "useGoogleTranslate": true
  },
  "papermill": {
   "default_parameters": {},
   "duration": 5425.079586,
   "end_time": "2022-05-06T13:01:27.793652",
   "environment_variables": {},
   "exception": null,
   "input_path": "__notebook__.ipynb",
   "output_path": "__notebook__.ipynb",
   "parameters": {},
   "start_time": "2022-05-06T11:31:02.714066",
   "version": "2.3.4"
  },
  "toc": {
   "base_numbering": 1,
   "nav_menu": {},
   "number_sections": true,
   "sideBar": true,
   "skip_h1_title": false,
   "title_cell": "Table of Contents",
   "title_sidebar": "Contents",
   "toc_cell": true,
   "toc_position": {},
   "toc_section_display": true,
   "toc_window_display": false
  }
 },
 "nbformat": 4,
 "nbformat_minor": 5
}
