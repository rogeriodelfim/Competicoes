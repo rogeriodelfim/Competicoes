{
 "cells": [
  {
   "cell_type": "markdown",
   "metadata": {
    "id": "xFogj-Cdi34f"
   },
   "source": [
    "<h1 div class='alert alert-success'><center> Tunning Hyperparameters Random Forest\n",
    "    \n",
    "\n",
    " </center></h1>\n",
    "\n",
    "![](https://storage.googleapis.com/kaggle-competitions/kaggle/26480/logos/header.png?t=2021-04-09-00-57-05)"
   ]
  },
  {
   "cell_type": "markdown",
   "metadata": {
    "id": "sKJFMrjqi34j"
   },
   "source": [
    "# <div class=\"alert alert-success\">  1. INSTALAÇÕES </div>"
   ]
  },
  {
   "cell_type": "code",
   "execution_count": null,
   "metadata": {
    "ExecuteTime": {
     "end_time": "2021-11-15T02:39:28.518290Z",
     "start_time": "2021-11-15T02:39:23.523403Z"
    },
    "executionInfo": {
     "elapsed": 5422,
     "status": "ok",
     "timestamp": 1638032696134,
     "user": {
      "displayName": "Rogério Delfim",
      "photoUrl": "https://lh3.googleusercontent.com/a-/AOh14Gj8lDYWTfZHU0U0sMojRPio71Ec7YDcSEpCaOEE=s64",
      "userId": "04235763959036945343"
     },
     "user_tz": 180
    },
    "id": "U2CKimxvi34k"
   },
   "outputs": [],
   "source": [
    "!pip install --quiet optuna\n",
    "!pip install --q GPUtil\n",
    "#!pip install --q pytorch-tabnet"
   ]
  },
  {
   "cell_type": "code",
   "execution_count": null,
   "metadata": {},
   "outputs": [],
   "source": [
    "from google.colab import drive\n",
    "drive.mount('/content/drive')"
   ]
  },
  {
   "cell_type": "markdown",
   "metadata": {
    "id": "mvzaUsMGSm6V"
   },
   "source": [
    "\n",
    "# <div class=\"alert alert-success\"> 2. IMPORTAÇÕES </div>"
   ]
  },
  {
   "cell_type": "markdown",
   "metadata": {
    "id": "ckrEOEuUi34l"
   },
   "source": [
    "## 2.1. Bibliotecas"
   ]
  },
  {
   "cell_type": "code",
   "execution_count": 1,
   "metadata": {
    "ExecuteTime": {
     "end_time": "2021-11-28T02:39:43.666395Z",
     "start_time": "2021-11-28T02:39:42.124355Z"
    },
    "executionInfo": {
     "elapsed": 2153,
     "status": "ok",
     "timestamp": 1638033438502,
     "user": {
      "displayName": "Rogério Delfim",
      "photoUrl": "https://lh3.googleusercontent.com/a-/AOh14Gj8lDYWTfZHU0U0sMojRPio71Ec7YDcSEpCaOEE=s64",
      "userId": "04235763959036945343"
     },
     "user_tz": 180
    },
    "id": "icBhRH0Si34m"
   },
   "outputs": [],
   "source": [
    "import warnings\n",
    "import os\n",
    "import gc\n",
    "import random\n",
    "import glob\n",
    "import optuna"
   ]
  },
  {
   "cell_type": "code",
   "execution_count": 2,
   "metadata": {
    "ExecuteTime": {
     "end_time": "2021-11-28T02:39:43.729394Z",
     "start_time": "2021-11-28T02:39:43.669355Z"
    },
    "executionInfo": {
     "elapsed": 242,
     "status": "ok",
     "timestamp": 1638033439976,
     "user": {
      "displayName": "Rogério Delfim",
      "photoUrl": "https://lh3.googleusercontent.com/a-/AOh14Gj8lDYWTfZHU0U0sMojRPio71Ec7YDcSEpCaOEE=s64",
      "userId": "04235763959036945343"
     },
     "user_tz": 180
    },
    "id": "OjwX36f3i34m"
   },
   "outputs": [],
   "source": [
    "import pandas               as pd\n",
    "import numpy                as np\n",
    "import matplotlib.pyplot    as plt \n",
    "import seaborn              as sns\n",
    "import joblib               as jb"
   ]
  },
  {
   "cell_type": "code",
   "execution_count": 3,
   "metadata": {
    "ExecuteTime": {
     "end_time": "2021-11-28T02:39:45.635965Z",
     "start_time": "2021-11-28T02:39:45.028356Z"
    },
    "executionInfo": {
     "elapsed": 400,
     "status": "ok",
     "timestamp": 1638033499284,
     "user": {
      "displayName": "Rogério Delfim",
      "photoUrl": "https://lh3.googleusercontent.com/a-/AOh14Gj8lDYWTfZHU0U0sMojRPio71Ec7YDcSEpCaOEE=s64",
      "userId": "04235763959036945343"
     },
     "user_tz": 180
    },
    "id": "xyxT1_-ei34n"
   },
   "outputs": [],
   "source": [
    "import torch\n",
    "import torch.nn             as nn"
   ]
  },
  {
   "cell_type": "code",
   "execution_count": 4,
   "metadata": {
    "ExecuteTime": {
     "end_time": "2021-11-28T02:39:47.108950Z",
     "start_time": "2021-11-28T02:39:47.101944Z"
    },
    "executionInfo": {
     "elapsed": 326,
     "status": "ok",
     "timestamp": 1638033500013,
     "user": {
      "displayName": "Rogério Delfim",
      "photoUrl": "https://lh3.googleusercontent.com/a-/AOh14Gj8lDYWTfZHU0U0sMojRPio71Ec7YDcSEpCaOEE=s64",
      "userId": "04235763959036945343"
     },
     "user_tz": 180
    },
    "id": "me4iqeW8i34o"
   },
   "outputs": [],
   "source": [
    "from sklearn.ensemble       import RandomForestClassifier"
   ]
  },
  {
   "cell_type": "code",
   "execution_count": 5,
   "metadata": {
    "ExecuteTime": {
     "end_time": "2021-11-28T02:39:48.261932Z",
     "start_time": "2021-11-28T02:39:48.236934Z"
    },
    "executionInfo": {
     "elapsed": 2,
     "status": "ok",
     "timestamp": 1638033501179,
     "user": {
      "displayName": "Rogério Delfim",
      "photoUrl": "https://lh3.googleusercontent.com/a-/AOh14Gj8lDYWTfZHU0U0sMojRPio71Ec7YDcSEpCaOEE=s64",
      "userId": "04235763959036945343"
     },
     "user_tz": 180
    },
    "id": "RM2RI3_ti34p"
   },
   "outputs": [],
   "source": [
    "from sklearn.model_selection       import train_test_split, KFold, StratifiedKFold\n",
    "from sklearn.preprocessing         import QuantileTransformer,  KBinsDiscretizer, StandardScaler\n",
    "from sklearn.preprocessing         import RobustScaler, MinMaxScaler, MaxAbsScaler\n",
    "from sklearn                       import metrics\n",
    "from sklearn.feature_selection     import SelectKBest, SelectPercentile, f_classif"
   ]
  },
  {
   "cell_type": "code",
   "execution_count": 6,
   "metadata": {
    "ExecuteTime": {
     "end_time": "2021-11-28T02:39:49.008930Z",
     "start_time": "2021-11-28T02:39:49.003962Z"
    },
    "executionInfo": {
     "elapsed": 2,
     "status": "ok",
     "timestamp": 1638033502509,
     "user": {
      "displayName": "Rogério Delfim",
      "photoUrl": "https://lh3.googleusercontent.com/a-/AOh14Gj8lDYWTfZHU0U0sMojRPio71Ec7YDcSEpCaOEE=s64",
      "userId": "04235763959036945343"
     },
     "user_tz": 180
    },
    "id": "IMnB1bcOi34p"
   },
   "outputs": [],
   "source": [
    "from optuna.samplers               import TPESampler\n",
    "from optuna.visualization          import plot_edf\n",
    "from optuna.visualization          import plot_optimization_history\n",
    "from optuna.visualization          import plot_parallel_coordinate\n",
    "from optuna.visualization          import plot_param_importances\n",
    "from optuna.visualization          import plot_slice\n",
    "from optuna.visualization          import plot_intermediate_values\n",
    "from optuna.visualization          import plot_contour\n",
    "from optuna.pruners                import MedianPruner"
   ]
  },
  {
   "cell_type": "code",
   "execution_count": 7,
   "metadata": {
    "ExecuteTime": {
     "end_time": "2021-11-28T02:39:49.767931Z",
     "start_time": "2021-11-28T02:39:49.490933Z"
    },
    "executionInfo": {
     "elapsed": 1120,
     "status": "ok",
     "timestamp": 1638033504774,
     "user": {
      "displayName": "Rogério Delfim",
      "photoUrl": "https://lh3.googleusercontent.com/a-/AOh14Gj8lDYWTfZHU0U0sMojRPio71Ec7YDcSEpCaOEE=s64",
      "userId": "04235763959036945343"
     },
     "user_tz": 180
    },
    "id": "rxIrWu38i34q"
   },
   "outputs": [],
   "source": [
    "from GPUtil                        import showUtilization as gpu_usage\n",
    "from numba                         import cuda\n",
    "from sklearn.ensemble              import IsolationForest\n",
    "from psutil                        import virtual_memory\n",
    "from datetime                      import datetime"
   ]
  },
  {
   "cell_type": "markdown",
   "metadata": {
    "id": "LwyizAfdi34r"
   },
   "source": [
    "## 2.2. Funções"
   ]
  },
  {
   "cell_type": "code",
   "execution_count": 8,
   "metadata": {
    "ExecuteTime": {
     "end_time": "2021-11-28T02:39:50.607977Z",
     "start_time": "2021-11-28T02:39:50.588941Z"
    },
    "code_folding": [
     0
    ],
    "executionInfo": {
     "elapsed": 551,
     "status": "ok",
     "timestamp": 1638033507423,
     "user": {
      "displayName": "Rogério Delfim",
      "photoUrl": "https://lh3.googleusercontent.com/a-/AOh14Gj8lDYWTfZHU0U0sMojRPio71Ec7YDcSEpCaOEE=s64",
      "userId": "04235763959036945343"
     },
     "user_tz": 180
    },
    "id": "1vHZjDzgi34r"
   },
   "outputs": [],
   "source": [
    "def jupyter_setting():\n",
    "    \n",
    "    %matplotlib inline\n",
    "     \n",
    "    pd.options.display.max_columns = None\n",
    "    \n",
    "    optuna.logging.set_verbosity(optuna.logging.WARNING)\n",
    "      \n",
    "    warnings.filterwarnings(action='ignore')\n",
    "    warnings.simplefilter('ignore')\n",
    "    warnings.filterwarnings('ignore')\n",
    "    warnings.filterwarnings('ignore', category=DeprecationWarning)\n",
    "    warnings.filterwarnings('ignore', category=FutureWarning)\n",
    "    warnings.filterwarnings('ignore', category=RuntimeWarning)\n",
    "    warnings.filterwarnings('ignore', category=UserWarning)\n",
    "    #pd.set_option('display.max_rows', 150)\n",
    "    pd.set_option('display.max_columns', 500)\n",
    "    pd.set_option('display.max_colwidth', None)\n",
    "\n",
    "    icecream = [\"#00008b\", \"#960018\",\"#008b00\", \"#00468b\", \"#8b4500\", \"#582c00\"]\n",
    "    #sns.palplot(sns.color_palette(icecream))\n",
    "    \n",
    "    return icecream\n",
    "\n",
    "icecream = jupyter_setting()"
   ]
  },
  {
   "cell_type": "code",
   "execution_count": 9,
   "metadata": {
    "ExecuteTime": {
     "end_time": "2021-11-28T02:39:51.129972Z",
     "start_time": "2021-11-28T02:39:51.106930Z"
    },
    "code_folding": [
     0
    ],
    "executionInfo": {
     "elapsed": 2,
     "status": "ok",
     "timestamp": 1638033507974,
     "user": {
      "displayName": "Rogério Delfim",
      "photoUrl": "https://lh3.googleusercontent.com/a-/AOh14Gj8lDYWTfZHU0U0sMojRPio71Ec7YDcSEpCaOEE=s64",
      "userId": "04235763959036945343"
     },
     "user_tz": 180
    },
    "id": "m-u-wKS5i34s"
   },
   "outputs": [],
   "source": [
    "def reduce_memory_usage(df, verbose=True):\n",
    "    numerics = [\"int8\", \"int16\", \"int32\", \"int64\", \"float16\", \"float32\", \"float64\"]\n",
    "    start_mem = df.memory_usage().sum() / 1024 ** 2\n",
    "    for col in df.columns:\n",
    "        col_type = df[col].dtypes\n",
    "        if col_type in numerics:\n",
    "            c_min = df[col].min()\n",
    "            c_max = df[col].max()\n",
    "            if str(col_type)[:3] == \"int\":\n",
    "                if c_min > np.iinfo(np.int8).min and c_max < np.iinfo(np.int8).max:\n",
    "                    df[col] = df[col].astype(np.int8)\n",
    "                elif c_min > np.iinfo(np.int16).min and c_max < np.iinfo(np.int16).max:\n",
    "                    df[col] = df[col].astype(np.int16)\n",
    "                elif c_min > np.iinfo(np.int32).min and c_max < np.iinfo(np.int32).max:\n",
    "                    df[col] = df[col].astype(np.int32)\n",
    "                elif c_min > np.iinfo(np.int64).min and c_max < np.iinfo(np.int64).max:\n",
    "                    df[col] = df[col].astype(np.int64)\n",
    "            else:\n",
    "                if (\n",
    "                    c_min > np.finfo(np.float16).min\n",
    "                    and c_max < np.finfo(np.float16).max\n",
    "                ):\n",
    "                    df[col] = df[col].astype(np.float16)\n",
    "                elif (\n",
    "                    c_min > np.finfo(np.float32).min\n",
    "                    and c_max < np.finfo(np.float32).max\n",
    "                ):\n",
    "                    df[col] = df[col].astype(np.float32)\n",
    "                else:\n",
    "                    df[col] = df[col].astype(np.float64)\n",
    "    end_mem = df.memory_usage().sum() / 1024 ** 2\n",
    "    if verbose:\n",
    "        print(\n",
    "            \"Mem. usage decreased to {:.2f} Mb ({:.1f}% reduction)\".format(\n",
    "                end_mem, 100 * (start_mem - end_mem) / start_mem\n",
    "            )\n",
    "        )\n",
    "    return df"
   ]
  },
  {
   "cell_type": "code",
   "execution_count": 10,
   "metadata": {
    "ExecuteTime": {
     "end_time": "2021-11-28T02:39:51.541981Z",
     "start_time": "2021-11-28T02:39:51.522930Z"
    },
    "code_folding": [
     0
    ],
    "executionInfo": {
     "elapsed": 2,
     "status": "ok",
     "timestamp": 1638033508495,
     "user": {
      "displayName": "Rogério Delfim",
      "photoUrl": "https://lh3.googleusercontent.com/a-/AOh14Gj8lDYWTfZHU0U0sMojRPio71Ec7YDcSEpCaOEE=s64",
      "userId": "04235763959036945343"
     },
     "user_tz": 180
    },
    "id": "oT4xvNQxi34t"
   },
   "outputs": [],
   "source": [
    "def plot_precision_recall_vs_threshold(precisions, recalls, thresholds):\n",
    "    plt.plot(thresholds, precisions[:-1], \"b--\", label=\"Precision\")\n",
    "    plt.plot(thresholds, recalls[:-1], \"g-\", label=\"Recall\")\n",
    "    plt.rcParams['font.size'] = 12\n",
    "    plt.title('Precision Recall vs threshold')\n",
    "    plt.xlabel('Threshold')\n",
    "    plt.legend(loc=\"lower left\")\n",
    "    \n",
    "    plt.grid(True)"
   ]
  },
  {
   "cell_type": "code",
   "execution_count": 11,
   "metadata": {
    "ExecuteTime": {
     "end_time": "2021-11-28T02:39:51.986930Z",
     "start_time": "2021-11-28T02:39:51.972935Z"
    },
    "code_folding": [
     0
    ],
    "executionInfo": {
     "elapsed": 3,
     "status": "ok",
     "timestamp": 1638033508823,
     "user": {
      "displayName": "Rogério Delfim",
      "photoUrl": "https://lh3.googleusercontent.com/a-/AOh14Gj8lDYWTfZHU0U0sMojRPio71Ec7YDcSEpCaOEE=s64",
      "userId": "04235763959036945343"
     },
     "user_tz": 180
    },
    "id": "OzJVgUuTi34u"
   },
   "outputs": [],
   "source": [
    "def plot_precision_vs_recall(precisions, recalls):\n",
    "    plt.plot(recalls[:-1], precisions[:-1], \"b-\", label=\"Precision\")\n",
    "    \n",
    "    plt.rcParams['font.size'] = 12\n",
    "    plt.title('Precision vs recall')\n",
    "    plt.xlabel('Recall')\n",
    "    plt.ylabel('Precision')\n",
    "    # plt.legend(loc=\"lower left\")\n",
    "    \n",
    "    plt.grid(True)"
   ]
  },
  {
   "cell_type": "code",
   "execution_count": 12,
   "metadata": {
    "ExecuteTime": {
     "end_time": "2021-11-28T02:39:52.317932Z",
     "start_time": "2021-11-28T02:39:52.307934Z"
    },
    "code_folding": [
     0
    ],
    "executionInfo": {
     "elapsed": 2,
     "status": "ok",
     "timestamp": 1638033509335,
     "user": {
      "displayName": "Rogério Delfim",
      "photoUrl": "https://lh3.googleusercontent.com/a-/AOh14Gj8lDYWTfZHU0U0sMojRPio71Ec7YDcSEpCaOEE=s64",
      "userId": "04235763959036945343"
     },
     "user_tz": 180
    },
    "id": "51KsDDGLi34u"
   },
   "outputs": [],
   "source": [
    "def plot_roc_curve(fpr, tpr, label=None):\n",
    "    fig, ax = plt.subplots()\n",
    "    ax.plot(fpr, tpr, \"r-\", label=label)\n",
    "    ax.plot([0, 1], [0, 1], transform=ax.transAxes, ls=\"--\", c=\".3\")\n",
    "    plt.xlim([0.0, 1.0])\n",
    "    plt.ylim([0.0, 1.0])\n",
    "    plt.rcParams['font.size'] = 12\n",
    "    plt.title('ROC curve for TPS 09')\n",
    "    plt.xlabel('False Positive Rate (1 - Specificity)')\n",
    "    plt.ylabel('True Positive Rate (Sensitivity)')\n",
    "    plt.legend(loc=\"lower right\")\n",
    "    plt.grid(True)"
   ]
  },
  {
   "cell_type": "code",
   "execution_count": 13,
   "metadata": {
    "ExecuteTime": {
     "end_time": "2021-11-28T02:39:52.645932Z",
     "start_time": "2021-11-28T02:39:52.630960Z"
    },
    "code_folding": [
     0
    ],
    "executionInfo": {
     "elapsed": 2,
     "status": "ok",
     "timestamp": 1638033510118,
     "user": {
      "displayName": "Rogério Delfim",
      "photoUrl": "https://lh3.googleusercontent.com/a-/AOh14Gj8lDYWTfZHU0U0sMojRPio71Ec7YDcSEpCaOEE=s64",
      "userId": "04235763959036945343"
     },
     "user_tz": 180
    },
    "id": "3gf0D8QLi34u"
   },
   "outputs": [],
   "source": [
    "def graf_corr(df):\n",
    "    \n",
    "    df = df.corr().round(5)\n",
    "\n",
    "    # Máscara para ocultar a parte superior direita do gráfico, pois é uma duplicata\n",
    "    mask = np.zeros_like(df)\n",
    "    mask[np.triu_indices_from(mask)] = True\n",
    "\n",
    "    # Making a plot\n",
    "    plt.figure(figsize=(16,16))\n",
    "    ax = sns.heatmap(df, annot=True, mask=mask, cmap=\"RdBu\", annot_kws={\"weight\": \"bold\", \"fontsize\":13})\n",
    "\n",
    "    ax.set_title(\"Mapa de calor de correlação das variável\", fontsize=17)\n",
    "\n",
    "    plt.setp(ax.get_xticklabels(), \n",
    "             rotation      = 90, \n",
    "             ha            = \"right\",\n",
    "             rotation_mode = \"anchor\", \n",
    "             weight        = \"normal\")\n",
    "\n",
    "    plt.setp(ax.get_yticklabels(), \n",
    "             weight        = \"normal\",\n",
    "             rotation_mode = \"anchor\", \n",
    "             rotation      = 0, \n",
    "             ha            = \"right\");"
   ]
  },
  {
   "cell_type": "code",
   "execution_count": 14,
   "metadata": {
    "ExecuteTime": {
     "end_time": "2021-11-28T02:39:53.023975Z",
     "start_time": "2021-11-28T02:39:53.003934Z"
    },
    "code_folding": [
     0
    ],
    "executionInfo": {
     "elapsed": 2,
     "status": "ok",
     "timestamp": 1638033510646,
     "user": {
      "displayName": "Rogério Delfim",
      "photoUrl": "https://lh3.googleusercontent.com/a-/AOh14Gj8lDYWTfZHU0U0sMojRPio71Ec7YDcSEpCaOEE=s64",
      "userId": "04235763959036945343"
     },
     "user_tz": 180
    },
    "id": "YYXsmuJwi34u"
   },
   "outputs": [],
   "source": [
    "def correlation(dataset, threshold):\n",
    "\n",
    "    col_corr    = set()  # Conjunto de todos os nomes de colunas correlacionadas\n",
    "    corr_matrix = dataset.corr()\n",
    "    \n",
    "    for i in range(len(corr_matrix.columns)):\n",
    "        for j in range(i):\n",
    "            if abs(corr_matrix.iloc[i, j]) >= threshold: # estamos interessados no valor coeficiente absoluto\n",
    "                colname = corr_matrix.columns[i]        # obtendo o nome da coluna\n",
    "                col_corr.add(colname)\n",
    "    \n",
    "    return col_corr"
   ]
  },
  {
   "cell_type": "code",
   "execution_count": 15,
   "metadata": {
    "ExecuteTime": {
     "end_time": "2021-11-28T02:39:53.391964Z",
     "start_time": "2021-11-28T02:39:53.379949Z"
    },
    "code_folding": [
     0
    ],
    "executionInfo": {
     "elapsed": 2,
     "status": "ok",
     "timestamp": 1638033511552,
     "user": {
      "displayName": "Rogério Delfim",
      "photoUrl": "https://lh3.googleusercontent.com/a-/AOh14Gj8lDYWTfZHU0U0sMojRPio71Ec7YDcSEpCaOEE=s64",
      "userId": "04235763959036945343"
     },
     "user_tz": 180
    },
    "id": "GuS0Lh52i34v"
   },
   "outputs": [],
   "source": [
    "def free_gpu_cache():\n",
    "    \n",
    "    # https://www.kaggle.com/getting-started/140636\n",
    "    #print(\"Initial GPU Usage\")\n",
    "    #gpu_usage()                             \n",
    "\n",
    "    #cuda.select_device(0)\n",
    "    #cuda.close()\n",
    "    #cuda.select_device(0)   \n",
    "    \n",
    "    gc.collect()\n",
    "    torch.cuda.empty_cache()"
   ]
  },
  {
   "cell_type": "markdown",
   "metadata": {
    "id": "puAI82JpDOJO"
   },
   "source": [
    "## 2.3. GPU"
   ]
  },
  {
   "cell_type": "markdown",
   "metadata": {
    "id": "iISld6GaDyRM"
   },
   "source": [
    "### 2.3.1. Informações"
   ]
  },
  {
   "cell_type": "code",
   "execution_count": 16,
   "metadata": {
    "ExecuteTime": {
     "end_time": "2021-11-28T02:39:56.170317Z",
     "start_time": "2021-11-28T02:39:56.035287Z"
    },
    "colab": {
     "base_uri": "https://localhost:8080/"
    },
    "executionInfo": {
     "elapsed": 565,
     "status": "ok",
     "timestamp": 1638033514464,
     "user": {
      "displayName": "Rogério Delfim",
      "photoUrl": "https://lh3.googleusercontent.com/a-/AOh14Gj8lDYWTfZHU0U0sMojRPio71Ec7YDcSEpCaOEE=s64",
      "userId": "04235763959036945343"
     },
     "user_tz": 180
    },
    "id": "Je1LG7eeDL1s",
    "outputId": "54f410db-c28d-48cb-d0a0-fa3f5708aeb1"
   },
   "outputs": [
    {
     "name": "stdout",
     "output_type": "stream",
     "text": [
      "Sat Nov 27 23:39:56 2021       \n",
      "+-----------------------------------------------------------------------------+\n",
      "| NVIDIA-SMI 510.06       Driver Version: 510.06       CUDA Version: 11.6     |\n",
      "|-------------------------------+----------------------+----------------------+\n",
      "| GPU  Name            TCC/WDDM | Bus-Id        Disp.A | Volatile Uncorr. ECC |\n",
      "| Fan  Temp  Perf  Pwr:Usage/Cap|         Memory-Usage | GPU-Util  Compute M. |\n",
      "|                               |                      |               MIG M. |\n",
      "|===============================+======================+======================|\n",
      "|   0  NVIDIA GeForce ... WDDM  | 00000000:01:00.0  On |                  N/A |\n",
      "| N/A   55C    P8    N/A /  N/A |    904MiB /  4096MiB |      0%      Default |\n",
      "|                               |                      |                  N/A |\n",
      "+-------------------------------+----------------------+----------------------+\n",
      "                                                                               \n",
      "+-----------------------------------------------------------------------------+\n",
      "| Processes:                                                                  |\n",
      "|  GPU   GI   CI        PID   Type   Process name                  GPU Memory |\n",
      "|        ID   ID                                                   Usage      |\n",
      "|=============================================================================|\n",
      "|    0   N/A  N/A      1228    C+G   C:\\Windows\\System32\\dwm.exe     N/A      |\n",
      "|    0   N/A  N/A      4352    C+G   ...perience\\NVIDIA Share.exe    N/A      |\n",
      "|    0   N/A  N/A      5884    C+G   ...afe Family\\SafeFamily.exe    N/A      |\n",
      "|    0   N/A  N/A     10768    C+G   C:\\Windows\\explorer.exe         N/A      |\n",
      "|    0   N/A  N/A     11696    C+G   ...artMenuExperienceHost.exe    N/A      |\n",
      "|    0   N/A  N/A     11744    C+G   ...me\\Application\\chrome.exe    N/A      |\n",
      "|    0   N/A  N/A     11788    C+G   ...kyb3d8bbwe\\Calculator.exe    N/A      |\n",
      "|    0   N/A  N/A     11944    C+G   ...5n1h2txyewy\\SearchApp.exe    N/A      |\n",
      "|    0   N/A  N/A     14364    C+G   ...zilla Firefox\\firefox.exe    N/A      |\n",
      "|    0   N/A  N/A     14816    C+G   ...nputApp\\TextInputHost.exe    N/A      |\n",
      "|    0   N/A  N/A     21772    C+G   ...zilla Firefox\\firefox.exe    N/A      |\n",
      "|    0   N/A  N/A     34236    C+G   ...y\\ShellExperienceHost.exe    N/A      |\n",
      "|    0   N/A  N/A     44072    C+G   ...5n1h2txyewy\\SearchApp.exe    N/A      |\n",
      "|    0   N/A  N/A     64072    C+G   ...cw5n1h2txyewy\\LockApp.exe    N/A      |\n",
      "+-----------------------------------------------------------------------------+\n"
     ]
    }
   ],
   "source": [
    "gpu_info = !nvidia-smi\n",
    "gpu_info = '\\n'.join(gpu_info)\n",
    "\n",
    "if gpu_info.find('failed') >= 0:\n",
    "  print('Not connected to a GPU')\n",
    "else:\n",
    "  print(gpu_info)"
   ]
  },
  {
   "cell_type": "markdown",
   "metadata": {
    "id": "RWJ4r84ZEAIM"
   },
   "source": [
    "## 2.3.2. Memória"
   ]
  },
  {
   "cell_type": "code",
   "execution_count": 17,
   "metadata": {
    "ExecuteTime": {
     "end_time": "2021-11-28T02:39:57.724289Z",
     "start_time": "2021-11-28T02:39:57.715295Z"
    },
    "colab": {
     "base_uri": "https://localhost:8080/"
    },
    "executionInfo": {
     "elapsed": 299,
     "status": "ok",
     "timestamp": 1638033516870,
     "user": {
      "displayName": "Rogério Delfim",
      "photoUrl": "https://lh3.googleusercontent.com/a-/AOh14Gj8lDYWTfZHU0U0sMojRPio71Ec7YDcSEpCaOEE=s64",
      "userId": "04235763959036945343"
     },
     "user_tz": 180
    },
    "id": "OVohZ_xSD33t",
    "outputId": "e50f47e3-5599-4c0f-9539-d20fa3f1ef48"
   },
   "outputs": [
    {
     "name": "stdout",
     "output_type": "stream",
     "text": [
      "Your runtime has 17.0 gigabytes of available RAM\n",
      "\n",
      "Not using a high-RAM runtime\n"
     ]
    }
   ],
   "source": [
    "ram_gb = virtual_memory().total / 1e9\n",
    "\n",
    "print('Your runtime has {:.1f} gigabytes of available RAM\\n'.format(ram_gb))\n",
    "\n",
    "if ram_gb < 20:\n",
    "  print('Not using a high-RAM runtime')\n",
    "else:\n",
    "  print('You are using a high-RAM runtime!')"
   ]
  },
  {
   "cell_type": "markdown",
   "metadata": {
    "id": "8_PfcxeGi34v"
   },
   "source": [
    "## 2.4. Carregar Dados"
   ]
  },
  {
   "cell_type": "code",
   "execution_count": 18,
   "metadata": {
    "ExecuteTime": {
     "end_time": "2021-11-28T02:39:59.662286Z",
     "start_time": "2021-11-28T02:39:59.644288Z"
    },
    "executionInfo": {
     "elapsed": 290,
     "status": "ok",
     "timestamp": 1638033555341,
     "user": {
      "displayName": "Rogério Delfim",
      "photoUrl": "https://lh3.googleusercontent.com/a-/AOh14Gj8lDYWTfZHU0U0sMojRPio71Ec7YDcSEpCaOEE=s64",
      "userId": "04235763959036945343"
     },
     "user_tz": 180
    },
    "id": "UaT5Rgjli34v"
   },
   "outputs": [],
   "source": [
    "path   = '/content/drive/MyDrive/kaggle/Tabular Playground Series/2021/11 - Novembro/'\n",
    "path   = ''\n",
    "target = 'target'"
   ]
  },
  {
   "cell_type": "code",
   "execution_count": 19,
   "metadata": {
    "ExecuteTime": {
     "end_time": "2021-11-28T02:40:05.605323Z",
     "start_time": "2021-11-28T02:40:01.434287Z"
    },
    "colab": {
     "base_uri": "https://localhost:8080/"
    },
    "executionInfo": {
     "elapsed": 9527,
     "status": "ok",
     "timestamp": 1638033566514,
     "user": {
      "displayName": "Rogério Delfim",
      "photoUrl": "https://lh3.googleusercontent.com/a-/AOh14Gj8lDYWTfZHU0U0sMojRPio71Ec7YDcSEpCaOEE=s64",
      "userId": "04235763959036945343"
     },
     "user_tz": 180
    },
    "id": "Ar5Fty2Ei34v",
    "outputId": "08adf746-cfc1-4947-acc6-9f7361da75c0"
   },
   "outputs": [
    {
     "data": {
      "text/plain": [
       "((600000, 111), (540000, 110), (540000, 2))"
      ]
     },
     "execution_count": 19,
     "metadata": {},
     "output_type": "execute_result"
    }
   ],
   "source": [
    "df3_train     = jb.load(path + 'Data/pkl/df2_nb_02_train.pkl.z')\n",
    "df3_test      = jb.load(path + 'Data/pkl/df2_nb_02_test.pkl.z')\n",
    "df_submission = pd.read_csv(path + 'Data/sample_submission.csv')\n",
    "\n",
    "df3_train.shape, df3_test.shape, df_submission.shape"
   ]
  },
  {
   "cell_type": "code",
   "execution_count": 20,
   "metadata": {
    "ExecuteTime": {
     "end_time": "2021-11-28T02:40:05.700293Z",
     "start_time": "2021-11-28T02:40:05.608289Z"
    },
    "colab": {
     "base_uri": "https://localhost:8080/",
     "height": 225
    },
    "executionInfo": {
     "elapsed": 264,
     "status": "ok",
     "timestamp": 1638033570185,
     "user": {
      "displayName": "Rogério Delfim",
      "photoUrl": "https://lh3.googleusercontent.com/a-/AOh14Gj8lDYWTfZHU0U0sMojRPio71Ec7YDcSEpCaOEE=s64",
      "userId": "04235763959036945343"
     },
     "user_tz": 180
    },
    "id": "-qfjHtY0i34w",
    "outputId": "3d08c846-db3e-40c3-a3d1-882929ecb76e"
   },
   "outputs": [
    {
     "data": {
      "text/html": [
       "<div>\n",
       "<style scoped>\n",
       "    .dataframe tbody tr th:only-of-type {\n",
       "        vertical-align: middle;\n",
       "    }\n",
       "\n",
       "    .dataframe tbody tr th {\n",
       "        vertical-align: top;\n",
       "    }\n",
       "\n",
       "    .dataframe thead th {\n",
       "        text-align: right;\n",
       "    }\n",
       "</style>\n",
       "<table border=\"1\" class=\"dataframe\">\n",
       "  <thead>\n",
       "    <tr style=\"text-align: right;\">\n",
       "      <th></th>\n",
       "      <th>f0</th>\n",
       "      <th>f1</th>\n",
       "      <th>f2</th>\n",
       "      <th>f3</th>\n",
       "      <th>f4</th>\n",
       "      <th>f5</th>\n",
       "      <th>f6</th>\n",
       "      <th>f7</th>\n",
       "      <th>f8</th>\n",
       "      <th>f9</th>\n",
       "      <th>f10</th>\n",
       "      <th>f11</th>\n",
       "      <th>f12</th>\n",
       "      <th>f13</th>\n",
       "      <th>f14</th>\n",
       "      <th>f15</th>\n",
       "      <th>f16</th>\n",
       "      <th>f17</th>\n",
       "      <th>f18</th>\n",
       "      <th>f19</th>\n",
       "      <th>f20</th>\n",
       "      <th>f21</th>\n",
       "      <th>f22</th>\n",
       "      <th>f23</th>\n",
       "      <th>f24</th>\n",
       "      <th>f25</th>\n",
       "      <th>f26</th>\n",
       "      <th>f27</th>\n",
       "      <th>f28</th>\n",
       "      <th>f29</th>\n",
       "      <th>f30</th>\n",
       "      <th>f31</th>\n",
       "      <th>f32</th>\n",
       "      <th>f33</th>\n",
       "      <th>f34</th>\n",
       "      <th>f35</th>\n",
       "      <th>f36</th>\n",
       "      <th>f37</th>\n",
       "      <th>f38</th>\n",
       "      <th>f39</th>\n",
       "      <th>f40</th>\n",
       "      <th>f41</th>\n",
       "      <th>f42</th>\n",
       "      <th>f43</th>\n",
       "      <th>f44</th>\n",
       "      <th>f45</th>\n",
       "      <th>f46</th>\n",
       "      <th>f47</th>\n",
       "      <th>f48</th>\n",
       "      <th>f49</th>\n",
       "      <th>f50</th>\n",
       "      <th>f51</th>\n",
       "      <th>f52</th>\n",
       "      <th>f53</th>\n",
       "      <th>f54</th>\n",
       "      <th>f55</th>\n",
       "      <th>f56</th>\n",
       "      <th>f57</th>\n",
       "      <th>f58</th>\n",
       "      <th>f59</th>\n",
       "      <th>f60</th>\n",
       "      <th>f61</th>\n",
       "      <th>f62</th>\n",
       "      <th>f63</th>\n",
       "      <th>f64</th>\n",
       "      <th>f65</th>\n",
       "      <th>f66</th>\n",
       "      <th>f67</th>\n",
       "      <th>f68</th>\n",
       "      <th>f69</th>\n",
       "      <th>f70</th>\n",
       "      <th>f71</th>\n",
       "      <th>f72</th>\n",
       "      <th>f73</th>\n",
       "      <th>f74</th>\n",
       "      <th>f75</th>\n",
       "      <th>f76</th>\n",
       "      <th>f77</th>\n",
       "      <th>f78</th>\n",
       "      <th>f79</th>\n",
       "      <th>f80</th>\n",
       "      <th>f81</th>\n",
       "      <th>f82</th>\n",
       "      <th>f83</th>\n",
       "      <th>f84</th>\n",
       "      <th>f85</th>\n",
       "      <th>f86</th>\n",
       "      <th>f87</th>\n",
       "      <th>f88</th>\n",
       "      <th>f89</th>\n",
       "      <th>f90</th>\n",
       "      <th>f91</th>\n",
       "      <th>f92</th>\n",
       "      <th>f93</th>\n",
       "      <th>f94</th>\n",
       "      <th>f95</th>\n",
       "      <th>f96</th>\n",
       "      <th>f97</th>\n",
       "      <th>f98</th>\n",
       "      <th>f99</th>\n",
       "      <th>target</th>\n",
       "      <th>fe_cluster_0</th>\n",
       "      <th>fe_cluster_1</th>\n",
       "      <th>fe_cluster_2</th>\n",
       "      <th>fe_cluster_3</th>\n",
       "      <th>fe_cluster_4</th>\n",
       "      <th>fe_mean</th>\n",
       "      <th>fe_median</th>\n",
       "      <th>fe_min</th>\n",
       "      <th>fe_max</th>\n",
       "      <th>fe_skew</th>\n",
       "    </tr>\n",
       "  </thead>\n",
       "  <tbody>\n",
       "    <tr>\n",
       "      <th>0</th>\n",
       "      <td>0.106628</td>\n",
       "      <td>3.593750</td>\n",
       "      <td>132.7500</td>\n",
       "      <td>3.183594</td>\n",
       "      <td>0.081970</td>\n",
       "      <td>1.188477</td>\n",
       "      <td>3.732422</td>\n",
       "      <td>2.265625</td>\n",
       "      <td>2.099609</td>\n",
       "      <td>0.012329</td>\n",
       "      <td>1.607422</td>\n",
       "      <td>-0.318115</td>\n",
       "      <td>0.560059</td>\n",
       "      <td>2.806641</td>\n",
       "      <td>1.351562</td>\n",
       "      <td>2.535156</td>\n",
       "      <td>0.197510</td>\n",
       "      <td>0.676270</td>\n",
       "      <td>1.990234</td>\n",
       "      <td>-3.841797</td>\n",
       "      <td>0.037384</td>\n",
       "      <td>0.230347</td>\n",
       "      <td>3.330078</td>\n",
       "      <td>0.009399</td>\n",
       "      <td>0.144775</td>\n",
       "      <td>3.050781</td>\n",
       "      <td>1.303711</td>\n",
       "      <td>0.033234</td>\n",
       "      <td>-0.018280</td>\n",
       "      <td>2.748047</td>\n",
       "      <td>-0.009293</td>\n",
       "      <td>-0.036285</td>\n",
       "      <td>-0.049866</td>\n",
       "      <td>0.019485</td>\n",
       "      <td>3.898438</td>\n",
       "      <td>11.289062</td>\n",
       "      <td>1.137695</td>\n",
       "      <td>3.367188</td>\n",
       "      <td>4.945312</td>\n",
       "      <td>-0.105774</td>\n",
       "      <td>2.113281</td>\n",
       "      <td>3.453125</td>\n",
       "      <td>0.789551</td>\n",
       "      <td>1.113281</td>\n",
       "      <td>1.491211</td>\n",
       "      <td>2.439453</td>\n",
       "      <td>0.041809</td>\n",
       "      <td>3.355469</td>\n",
       "      <td>0.053680</td>\n",
       "      <td>1.701172</td>\n",
       "      <td>0.908691</td>\n",
       "      <td>0.094910</td>\n",
       "      <td>0.030212</td>\n",
       "      <td>0.597168</td>\n",
       "      <td>4.445312</td>\n",
       "      <td>1.586914</td>\n",
       "      <td>-0.068665</td>\n",
       "      <td>-0.108276</td>\n",
       "      <td>0.061035</td>\n",
       "      <td>0.046112</td>\n",
       "      <td>0.017105</td>\n",
       "      <td>-0.027557</td>\n",
       "      <td>0.019485</td>\n",
       "      <td>-0.048828</td>\n",
       "      <td>0.050751</td>\n",
       "      <td>3.728516</td>\n",
       "      <td>5.015625</td>\n",
       "      <td>4.187500</td>\n",
       "      <td>0.063354</td>\n",
       "      <td>0.121033</td>\n",
       "      <td>1.372070</td>\n",
       "      <td>4.015625</td>\n",
       "      <td>0.167603</td>\n",
       "      <td>0.039764</td>\n",
       "      <td>2.042969</td>\n",
       "      <td>-0.016617</td>\n",
       "      <td>0.107666</td>\n",
       "      <td>3.507812</td>\n",
       "      <td>0.013657</td>\n",
       "      <td>-0.097046</td>\n",
       "      <td>5.394531</td>\n",
       "      <td>0.244507</td>\n",
       "      <td>3.492188</td>\n",
       "      <td>0.113098</td>\n",
       "      <td>-0.015472</td>\n",
       "      <td>4.207031</td>\n",
       "      <td>4.105469</td>\n",
       "      <td>0.037231</td>\n",
       "      <td>-0.118835</td>\n",
       "      <td>0.067078</td>\n",
       "      <td>0.010742</td>\n",
       "      <td>1.098633</td>\n",
       "      <td>0.013329</td>\n",
       "      <td>-0.011719</td>\n",
       "      <td>0.052765</td>\n",
       "      <td>0.065430</td>\n",
       "      <td>4.210938</td>\n",
       "      <td>1.978516</td>\n",
       "      <td>0.085999</td>\n",
       "      <td>0.240479</td>\n",
       "      <td>0</td>\n",
       "      <td>1</td>\n",
       "      <td>0</td>\n",
       "      <td>0</td>\n",
       "      <td>0</td>\n",
       "      <td>0</td>\n",
       "      <td>2.650391</td>\n",
       "      <td>0.242432</td>\n",
       "      <td>-3.841797</td>\n",
       "      <td>132.7500</td>\n",
       "      <td>9.687500</td>\n",
       "    </tr>\n",
       "    <tr>\n",
       "      <th>1</th>\n",
       "      <td>0.125000</td>\n",
       "      <td>1.673828</td>\n",
       "      <td>76.5625</td>\n",
       "      <td>3.378906</td>\n",
       "      <td>0.099426</td>\n",
       "      <td>5.093750</td>\n",
       "      <td>1.275391</td>\n",
       "      <td>-0.471436</td>\n",
       "      <td>4.546875</td>\n",
       "      <td>0.037720</td>\n",
       "      <td>0.331787</td>\n",
       "      <td>0.325195</td>\n",
       "      <td>0.062042</td>\n",
       "      <td>2.261719</td>\n",
       "      <td>4.339844</td>\n",
       "      <td>-0.224976</td>\n",
       "      <td>0.233643</td>\n",
       "      <td>3.380859</td>\n",
       "      <td>1.903320</td>\n",
       "      <td>0.067871</td>\n",
       "      <td>-0.051270</td>\n",
       "      <td>0.006134</td>\n",
       "      <td>2.603516</td>\n",
       "      <td>0.103455</td>\n",
       "      <td>0.067627</td>\n",
       "      <td>4.753906</td>\n",
       "      <td>1.855469</td>\n",
       "      <td>-0.181885</td>\n",
       "      <td>0.008362</td>\n",
       "      <td>3.166016</td>\n",
       "      <td>0.011848</td>\n",
       "      <td>0.022293</td>\n",
       "      <td>0.069336</td>\n",
       "      <td>0.117126</td>\n",
       "      <td>0.315186</td>\n",
       "      <td>24.484375</td>\n",
       "      <td>1.671875</td>\n",
       "      <td>-0.409180</td>\n",
       "      <td>4.953125</td>\n",
       "      <td>0.092346</td>\n",
       "      <td>2.603516</td>\n",
       "      <td>1.955078</td>\n",
       "      <td>0.005898</td>\n",
       "      <td>3.289062</td>\n",
       "      <td>2.564453</td>\n",
       "      <td>0.817871</td>\n",
       "      <td>0.026001</td>\n",
       "      <td>4.617188</td>\n",
       "      <td>1.575195</td>\n",
       "      <td>0.066101</td>\n",
       "      <td>0.681641</td>\n",
       "      <td>0.025253</td>\n",
       "      <td>0.183472</td>\n",
       "      <td>0.110046</td>\n",
       "      <td>2.746094</td>\n",
       "      <td>0.835449</td>\n",
       "      <td>0.188232</td>\n",
       "      <td>4.960938</td>\n",
       "      <td>0.136108</td>\n",
       "      <td>-0.008492</td>\n",
       "      <td>-0.015266</td>\n",
       "      <td>-0.010841</td>\n",
       "      <td>0.064575</td>\n",
       "      <td>0.102539</td>\n",
       "      <td>0.093628</td>\n",
       "      <td>0.963867</td>\n",
       "      <td>0.630371</td>\n",
       "      <td>4.308594</td>\n",
       "      <td>0.091309</td>\n",
       "      <td>-0.036346</td>\n",
       "      <td>3.617188</td>\n",
       "      <td>3.103516</td>\n",
       "      <td>0.000657</td>\n",
       "      <td>0.051300</td>\n",
       "      <td>1.924805</td>\n",
       "      <td>0.123291</td>\n",
       "      <td>-0.022675</td>\n",
       "      <td>1.547852</td>\n",
       "      <td>-0.010399</td>\n",
       "      <td>0.058319</td>\n",
       "      <td>3.662109</td>\n",
       "      <td>-0.118408</td>\n",
       "      <td>2.357422</td>\n",
       "      <td>-0.009109</td>\n",
       "      <td>0.178711</td>\n",
       "      <td>4.097656</td>\n",
       "      <td>3.533203</td>\n",
       "      <td>0.005245</td>\n",
       "      <td>0.121399</td>\n",
       "      <td>0.109985</td>\n",
       "      <td>0.135864</td>\n",
       "      <td>3.460938</td>\n",
       "      <td>0.017059</td>\n",
       "      <td>0.124878</td>\n",
       "      <td>0.154053</td>\n",
       "      <td>0.606934</td>\n",
       "      <td>-0.267822</td>\n",
       "      <td>2.578125</td>\n",
       "      <td>-0.020874</td>\n",
       "      <td>0.024719</td>\n",
       "      <td>0</td>\n",
       "      <td>1</td>\n",
       "      <td>0</td>\n",
       "      <td>0</td>\n",
       "      <td>0</td>\n",
       "      <td>0</td>\n",
       "      <td>2.136719</td>\n",
       "      <td>0.145020</td>\n",
       "      <td>-0.471436</td>\n",
       "      <td>76.5625</td>\n",
       "      <td>8.429688</td>\n",
       "    </tr>\n",
       "    <tr>\n",
       "      <th>2</th>\n",
       "      <td>0.036316</td>\n",
       "      <td>1.497070</td>\n",
       "      <td>233.5000</td>\n",
       "      <td>2.195312</td>\n",
       "      <td>0.026917</td>\n",
       "      <td>3.126953</td>\n",
       "      <td>5.058594</td>\n",
       "      <td>3.849609</td>\n",
       "      <td>1.801758</td>\n",
       "      <td>0.057007</td>\n",
       "      <td>0.328613</td>\n",
       "      <td>2.968750</td>\n",
       "      <td>0.105225</td>\n",
       "      <td>2.070312</td>\n",
       "      <td>5.308594</td>\n",
       "      <td>1.354492</td>\n",
       "      <td>-0.261963</td>\n",
       "      <td>1.378906</td>\n",
       "      <td>1.480469</td>\n",
       "      <td>0.020538</td>\n",
       "      <td>-0.008804</td>\n",
       "      <td>0.109375</td>\n",
       "      <td>1.683594</td>\n",
       "      <td>0.038177</td>\n",
       "      <td>0.123718</td>\n",
       "      <td>1.112305</td>\n",
       "      <td>3.572266</td>\n",
       "      <td>0.120605</td>\n",
       "      <td>0.082092</td>\n",
       "      <td>2.234375</td>\n",
       "      <td>0.002270</td>\n",
       "      <td>0.045197</td>\n",
       "      <td>0.014404</td>\n",
       "      <td>0.011597</td>\n",
       "      <td>-0.502930</td>\n",
       "      <td>33.750000</td>\n",
       "      <td>1.417969</td>\n",
       "      <td>1.071289</td>\n",
       "      <td>3.222656</td>\n",
       "      <td>2.121094</td>\n",
       "      <td>3.082031</td>\n",
       "      <td>0.637695</td>\n",
       "      <td>-0.006821</td>\n",
       "      <td>-0.390869</td>\n",
       "      <td>17.343750</td>\n",
       "      <td>3.701172</td>\n",
       "      <td>-0.033600</td>\n",
       "      <td>1.578125</td>\n",
       "      <td>0.051971</td>\n",
       "      <td>-0.002005</td>\n",
       "      <td>2.691406</td>\n",
       "      <td>0.018372</td>\n",
       "      <td>-0.030472</td>\n",
       "      <td>0.111389</td>\n",
       "      <td>2.187500</td>\n",
       "      <td>-0.324951</td>\n",
       "      <td>-0.019943</td>\n",
       "      <td>3.455078</td>\n",
       "      <td>0.068115</td>\n",
       "      <td>-0.009811</td>\n",
       "      <td>-0.010628</td>\n",
       "      <td>0.027573</td>\n",
       "      <td>-0.007122</td>\n",
       "      <td>-0.048920</td>\n",
       "      <td>-0.002575</td>\n",
       "      <td>1.865234</td>\n",
       "      <td>2.404297</td>\n",
       "      <td>0.411621</td>\n",
       "      <td>0.057739</td>\n",
       "      <td>0.525391</td>\n",
       "      <td>2.167969</td>\n",
       "      <td>0.828125</td>\n",
       "      <td>0.089844</td>\n",
       "      <td>0.093750</td>\n",
       "      <td>4.949219</td>\n",
       "      <td>-0.010979</td>\n",
       "      <td>0.076660</td>\n",
       "      <td>0.266846</td>\n",
       "      <td>0.038696</td>\n",
       "      <td>0.382812</td>\n",
       "      <td>3.847656</td>\n",
       "      <td>-0.121460</td>\n",
       "      <td>3.740234</td>\n",
       "      <td>0.147095</td>\n",
       "      <td>-0.016571</td>\n",
       "      <td>0.614746</td>\n",
       "      <td>2.125000</td>\n",
       "      <td>0.078857</td>\n",
       "      <td>0.979980</td>\n",
       "      <td>0.026764</td>\n",
       "      <td>0.117310</td>\n",
       "      <td>4.882812</td>\n",
       "      <td>0.085205</td>\n",
       "      <td>0.032410</td>\n",
       "      <td>0.116089</td>\n",
       "      <td>-0.001689</td>\n",
       "      <td>-0.520020</td>\n",
       "      <td>2.140625</td>\n",
       "      <td>0.124451</td>\n",
       "      <td>0.148193</td>\n",
       "      <td>0</td>\n",
       "      <td>0</td>\n",
       "      <td>0</td>\n",
       "      <td>0</td>\n",
       "      <td>0</td>\n",
       "      <td>1</td>\n",
       "      <td>3.814453</td>\n",
       "      <td>0.124084</td>\n",
       "      <td>-0.520020</td>\n",
       "      <td>233.5000</td>\n",
       "      <td>9.609375</td>\n",
       "    </tr>\n",
       "    <tr>\n",
       "      <th>3</th>\n",
       "      <td>-0.014076</td>\n",
       "      <td>0.245972</td>\n",
       "      <td>780.0000</td>\n",
       "      <td>1.890625</td>\n",
       "      <td>0.006947</td>\n",
       "      <td>1.531250</td>\n",
       "      <td>2.697266</td>\n",
       "      <td>4.515625</td>\n",
       "      <td>4.503906</td>\n",
       "      <td>0.123474</td>\n",
       "      <td>1.002930</td>\n",
       "      <td>4.871094</td>\n",
       "      <td>0.058411</td>\n",
       "      <td>2.498047</td>\n",
       "      <td>1.238281</td>\n",
       "      <td>2.347656</td>\n",
       "      <td>0.175415</td>\n",
       "      <td>1.609375</td>\n",
       "      <td>2.029297</td>\n",
       "      <td>0.042084</td>\n",
       "      <td>0.005142</td>\n",
       "      <td>0.076477</td>\n",
       "      <td>1.651367</td>\n",
       "      <td>0.111816</td>\n",
       "      <td>0.121643</td>\n",
       "      <td>0.589355</td>\n",
       "      <td>4.238281</td>\n",
       "      <td>-0.032837</td>\n",
       "      <td>0.058167</td>\n",
       "      <td>0.712891</td>\n",
       "      <td>0.097473</td>\n",
       "      <td>0.072754</td>\n",
       "      <td>0.000324</td>\n",
       "      <td>0.063354</td>\n",
       "      <td>4.062500</td>\n",
       "      <td>25.375000</td>\n",
       "      <td>0.576660</td>\n",
       "      <td>2.025391</td>\n",
       "      <td>2.968750</td>\n",
       "      <td>1.085938</td>\n",
       "      <td>1.710938</td>\n",
       "      <td>1.372070</td>\n",
       "      <td>0.034637</td>\n",
       "      <td>0.722656</td>\n",
       "      <td>71.437500</td>\n",
       "      <td>3.035156</td>\n",
       "      <td>0.092224</td>\n",
       "      <td>3.453125</td>\n",
       "      <td>0.044830</td>\n",
       "      <td>0.027191</td>\n",
       "      <td>4.082031</td>\n",
       "      <td>0.046967</td>\n",
       "      <td>0.063721</td>\n",
       "      <td>0.029221</td>\n",
       "      <td>0.671875</td>\n",
       "      <td>0.185303</td>\n",
       "      <td>0.164307</td>\n",
       "      <td>3.804688</td>\n",
       "      <td>0.062317</td>\n",
       "      <td>-0.021408</td>\n",
       "      <td>0.009468</td>\n",
       "      <td>0.110901</td>\n",
       "      <td>0.026840</td>\n",
       "      <td>2.931641</td>\n",
       "      <td>0.068115</td>\n",
       "      <td>-0.495117</td>\n",
       "      <td>1.345703</td>\n",
       "      <td>2.242188</td>\n",
       "      <td>0.035614</td>\n",
       "      <td>-0.139282</td>\n",
       "      <td>4.742188</td>\n",
       "      <td>3.292969</td>\n",
       "      <td>0.117859</td>\n",
       "      <td>0.065613</td>\n",
       "      <td>0.556641</td>\n",
       "      <td>-0.058044</td>\n",
       "      <td>0.070496</td>\n",
       "      <td>1.101562</td>\n",
       "      <td>0.068542</td>\n",
       "      <td>0.162964</td>\n",
       "      <td>4.070312</td>\n",
       "      <td>-0.008835</td>\n",
       "      <td>3.896484</td>\n",
       "      <td>0.913574</td>\n",
       "      <td>-0.163208</td>\n",
       "      <td>3.074219</td>\n",
       "      <td>4.355469</td>\n",
       "      <td>-0.048889</td>\n",
       "      <td>4.917969</td>\n",
       "      <td>0.069946</td>\n",
       "      <td>-0.015350</td>\n",
       "      <td>3.474609</td>\n",
       "      <td>-0.017105</td>\n",
       "      <td>-0.008102</td>\n",
       "      <td>0.062012</td>\n",
       "      <td>0.041199</td>\n",
       "      <td>0.511719</td>\n",
       "      <td>1.968750</td>\n",
       "      <td>0.040009</td>\n",
       "      <td>0.044861</td>\n",
       "      <td>0</td>\n",
       "      <td>0</td>\n",
       "      <td>0</td>\n",
       "      <td>1</td>\n",
       "      <td>0</td>\n",
       "      <td>0</td>\n",
       "      <td>9.859375</td>\n",
       "      <td>0.180420</td>\n",
       "      <td>-0.495117</td>\n",
       "      <td>780.0000</td>\n",
       "      <td>9.867188</td>\n",
       "    </tr>\n",
       "    <tr>\n",
       "      <th>4</th>\n",
       "      <td>-0.003260</td>\n",
       "      <td>3.714844</td>\n",
       "      <td>156.1250</td>\n",
       "      <td>2.148438</td>\n",
       "      <td>0.018280</td>\n",
       "      <td>2.097656</td>\n",
       "      <td>4.156250</td>\n",
       "      <td>-0.038239</td>\n",
       "      <td>3.371094</td>\n",
       "      <td>0.034180</td>\n",
       "      <td>0.711426</td>\n",
       "      <td>0.770020</td>\n",
       "      <td>0.057556</td>\n",
       "      <td>0.957031</td>\n",
       "      <td>3.710938</td>\n",
       "      <td>5.464844</td>\n",
       "      <td>0.287109</td>\n",
       "      <td>2.617188</td>\n",
       "      <td>1.383789</td>\n",
       "      <td>0.074890</td>\n",
       "      <td>-0.010544</td>\n",
       "      <td>0.109131</td>\n",
       "      <td>2.275391</td>\n",
       "      <td>0.008026</td>\n",
       "      <td>0.045227</td>\n",
       "      <td>4.359375</td>\n",
       "      <td>5.074219</td>\n",
       "      <td>-0.009377</td>\n",
       "      <td>0.528809</td>\n",
       "      <td>4.054688</td>\n",
       "      <td>0.020004</td>\n",
       "      <td>0.106812</td>\n",
       "      <td>0.051300</td>\n",
       "      <td>0.045929</td>\n",
       "      <td>3.402344</td>\n",
       "      <td>15.562500</td>\n",
       "      <td>1.635742</td>\n",
       "      <td>0.047028</td>\n",
       "      <td>4.019531</td>\n",
       "      <td>0.155762</td>\n",
       "      <td>5.289062</td>\n",
       "      <td>4.117188</td>\n",
       "      <td>0.072144</td>\n",
       "      <td>2.751953</td>\n",
       "      <td>3.171875</td>\n",
       "      <td>0.693359</td>\n",
       "      <td>-0.105835</td>\n",
       "      <td>3.320312</td>\n",
       "      <td>0.090698</td>\n",
       "      <td>0.112915</td>\n",
       "      <td>4.621094</td>\n",
       "      <td>0.126831</td>\n",
       "      <td>0.142700</td>\n",
       "      <td>0.055725</td>\n",
       "      <td>4.707031</td>\n",
       "      <td>-0.055115</td>\n",
       "      <td>0.523926</td>\n",
       "      <td>2.972656</td>\n",
       "      <td>0.115356</td>\n",
       "      <td>0.125244</td>\n",
       "      <td>0.067444</td>\n",
       "      <td>0.075562</td>\n",
       "      <td>0.032104</td>\n",
       "      <td>-0.042297</td>\n",
       "      <td>0.047974</td>\n",
       "      <td>-0.294189</td>\n",
       "      <td>5.066406</td>\n",
       "      <td>1.049805</td>\n",
       "      <td>0.034027</td>\n",
       "      <td>0.024612</td>\n",
       "      <td>3.125000</td>\n",
       "      <td>2.263672</td>\n",
       "      <td>0.082458</td>\n",
       "      <td>-0.023300</td>\n",
       "      <td>5.617188</td>\n",
       "      <td>0.086243</td>\n",
       "      <td>0.157593</td>\n",
       "      <td>3.726562</td>\n",
       "      <td>0.061249</td>\n",
       "      <td>0.086609</td>\n",
       "      <td>0.607422</td>\n",
       "      <td>1.411133</td>\n",
       "      <td>2.060547</td>\n",
       "      <td>-0.023148</td>\n",
       "      <td>0.011238</td>\n",
       "      <td>2.156250</td>\n",
       "      <td>0.914551</td>\n",
       "      <td>0.044525</td>\n",
       "      <td>0.375732</td>\n",
       "      <td>0.134399</td>\n",
       "      <td>0.013779</td>\n",
       "      <td>1.910156</td>\n",
       "      <td>-0.042938</td>\n",
       "      <td>0.105591</td>\n",
       "      <td>0.125122</td>\n",
       "      <td>0.037506</td>\n",
       "      <td>1.043945</td>\n",
       "      <td>1.075195</td>\n",
       "      <td>-0.012817</td>\n",
       "      <td>0.072815</td>\n",
       "      <td>1</td>\n",
       "      <td>1</td>\n",
       "      <td>0</td>\n",
       "      <td>0</td>\n",
       "      <td>0</td>\n",
       "      <td>0</td>\n",
       "      <td>2.949219</td>\n",
       "      <td>0.149170</td>\n",
       "      <td>-0.294189</td>\n",
       "      <td>156.1250</td>\n",
       "      <td>9.710938</td>\n",
       "    </tr>\n",
       "  </tbody>\n",
       "</table>\n",
       "</div>"
      ],
      "text/plain": [
       "         f0        f1        f2        f3        f4        f5        f6  \\\n",
       "0  0.106628  3.593750  132.7500  3.183594  0.081970  1.188477  3.732422   \n",
       "1  0.125000  1.673828   76.5625  3.378906  0.099426  5.093750  1.275391   \n",
       "2  0.036316  1.497070  233.5000  2.195312  0.026917  3.126953  5.058594   \n",
       "3 -0.014076  0.245972  780.0000  1.890625  0.006947  1.531250  2.697266   \n",
       "4 -0.003260  3.714844  156.1250  2.148438  0.018280  2.097656  4.156250   \n",
       "\n",
       "         f7        f8        f9       f10       f11       f12       f13  \\\n",
       "0  2.265625  2.099609  0.012329  1.607422 -0.318115  0.560059  2.806641   \n",
       "1 -0.471436  4.546875  0.037720  0.331787  0.325195  0.062042  2.261719   \n",
       "2  3.849609  1.801758  0.057007  0.328613  2.968750  0.105225  2.070312   \n",
       "3  4.515625  4.503906  0.123474  1.002930  4.871094  0.058411  2.498047   \n",
       "4 -0.038239  3.371094  0.034180  0.711426  0.770020  0.057556  0.957031   \n",
       "\n",
       "        f14       f15       f16       f17       f18       f19       f20  \\\n",
       "0  1.351562  2.535156  0.197510  0.676270  1.990234 -3.841797  0.037384   \n",
       "1  4.339844 -0.224976  0.233643  3.380859  1.903320  0.067871 -0.051270   \n",
       "2  5.308594  1.354492 -0.261963  1.378906  1.480469  0.020538 -0.008804   \n",
       "3  1.238281  2.347656  0.175415  1.609375  2.029297  0.042084  0.005142   \n",
       "4  3.710938  5.464844  0.287109  2.617188  1.383789  0.074890 -0.010544   \n",
       "\n",
       "        f21       f22       f23       f24       f25       f26       f27  \\\n",
       "0  0.230347  3.330078  0.009399  0.144775  3.050781  1.303711  0.033234   \n",
       "1  0.006134  2.603516  0.103455  0.067627  4.753906  1.855469 -0.181885   \n",
       "2  0.109375  1.683594  0.038177  0.123718  1.112305  3.572266  0.120605   \n",
       "3  0.076477  1.651367  0.111816  0.121643  0.589355  4.238281 -0.032837   \n",
       "4  0.109131  2.275391  0.008026  0.045227  4.359375  5.074219 -0.009377   \n",
       "\n",
       "        f28       f29       f30       f31       f32       f33       f34  \\\n",
       "0 -0.018280  2.748047 -0.009293 -0.036285 -0.049866  0.019485  3.898438   \n",
       "1  0.008362  3.166016  0.011848  0.022293  0.069336  0.117126  0.315186   \n",
       "2  0.082092  2.234375  0.002270  0.045197  0.014404  0.011597 -0.502930   \n",
       "3  0.058167  0.712891  0.097473  0.072754  0.000324  0.063354  4.062500   \n",
       "4  0.528809  4.054688  0.020004  0.106812  0.051300  0.045929  3.402344   \n",
       "\n",
       "         f35       f36       f37       f38       f39       f40       f41  \\\n",
       "0  11.289062  1.137695  3.367188  4.945312 -0.105774  2.113281  3.453125   \n",
       "1  24.484375  1.671875 -0.409180  4.953125  0.092346  2.603516  1.955078   \n",
       "2  33.750000  1.417969  1.071289  3.222656  2.121094  3.082031  0.637695   \n",
       "3  25.375000  0.576660  2.025391  2.968750  1.085938  1.710938  1.372070   \n",
       "4  15.562500  1.635742  0.047028  4.019531  0.155762  5.289062  4.117188   \n",
       "\n",
       "        f42       f43        f44       f45       f46       f47       f48  \\\n",
       "0  0.789551  1.113281   1.491211  2.439453  0.041809  3.355469  0.053680   \n",
       "1  0.005898  3.289062   2.564453  0.817871  0.026001  4.617188  1.575195   \n",
       "2 -0.006821 -0.390869  17.343750  3.701172 -0.033600  1.578125  0.051971   \n",
       "3  0.034637  0.722656  71.437500  3.035156  0.092224  3.453125  0.044830   \n",
       "4  0.072144  2.751953   3.171875  0.693359 -0.105835  3.320312  0.090698   \n",
       "\n",
       "        f49       f50       f51       f52       f53       f54       f55  \\\n",
       "0  1.701172  0.908691  0.094910  0.030212  0.597168  4.445312  1.586914   \n",
       "1  0.066101  0.681641  0.025253  0.183472  0.110046  2.746094  0.835449   \n",
       "2 -0.002005  2.691406  0.018372 -0.030472  0.111389  2.187500 -0.324951   \n",
       "3  0.027191  4.082031  0.046967  0.063721  0.029221  0.671875  0.185303   \n",
       "4  0.112915  4.621094  0.126831  0.142700  0.055725  4.707031 -0.055115   \n",
       "\n",
       "        f56       f57       f58       f59       f60       f61       f62  \\\n",
       "0 -0.068665 -0.108276  0.061035  0.046112  0.017105 -0.027557  0.019485   \n",
       "1  0.188232  4.960938  0.136108 -0.008492 -0.015266 -0.010841  0.064575   \n",
       "2 -0.019943  3.455078  0.068115 -0.009811 -0.010628  0.027573 -0.007122   \n",
       "3  0.164307  3.804688  0.062317 -0.021408  0.009468  0.110901  0.026840   \n",
       "4  0.523926  2.972656  0.115356  0.125244  0.067444  0.075562  0.032104   \n",
       "\n",
       "        f63       f64       f65       f66       f67       f68       f69  \\\n",
       "0 -0.048828  0.050751  3.728516  5.015625  4.187500  0.063354  0.121033   \n",
       "1  0.102539  0.093628  0.963867  0.630371  4.308594  0.091309 -0.036346   \n",
       "2 -0.048920 -0.002575  1.865234  2.404297  0.411621  0.057739  0.525391   \n",
       "3  2.931641  0.068115 -0.495117  1.345703  2.242188  0.035614 -0.139282   \n",
       "4 -0.042297  0.047974 -0.294189  5.066406  1.049805  0.034027  0.024612   \n",
       "\n",
       "        f70       f71       f72       f73       f74       f75       f76  \\\n",
       "0  1.372070  4.015625  0.167603  0.039764  2.042969 -0.016617  0.107666   \n",
       "1  3.617188  3.103516  0.000657  0.051300  1.924805  0.123291 -0.022675   \n",
       "2  2.167969  0.828125  0.089844  0.093750  4.949219 -0.010979  0.076660   \n",
       "3  4.742188  3.292969  0.117859  0.065613  0.556641 -0.058044  0.070496   \n",
       "4  3.125000  2.263672  0.082458 -0.023300  5.617188  0.086243  0.157593   \n",
       "\n",
       "        f77       f78       f79       f80       f81       f82       f83  \\\n",
       "0  3.507812  0.013657 -0.097046  5.394531  0.244507  3.492188  0.113098   \n",
       "1  1.547852 -0.010399  0.058319  3.662109 -0.118408  2.357422 -0.009109   \n",
       "2  0.266846  0.038696  0.382812  3.847656 -0.121460  3.740234  0.147095   \n",
       "3  1.101562  0.068542  0.162964  4.070312 -0.008835  3.896484  0.913574   \n",
       "4  3.726562  0.061249  0.086609  0.607422  1.411133  2.060547 -0.023148   \n",
       "\n",
       "        f84       f85       f86       f87       f88       f89       f90  \\\n",
       "0 -0.015472  4.207031  4.105469  0.037231 -0.118835  0.067078  0.010742   \n",
       "1  0.178711  4.097656  3.533203  0.005245  0.121399  0.109985  0.135864   \n",
       "2 -0.016571  0.614746  2.125000  0.078857  0.979980  0.026764  0.117310   \n",
       "3 -0.163208  3.074219  4.355469 -0.048889  4.917969  0.069946 -0.015350   \n",
       "4  0.011238  2.156250  0.914551  0.044525  0.375732  0.134399  0.013779   \n",
       "\n",
       "        f91       f92       f93       f94       f95       f96       f97  \\\n",
       "0  1.098633  0.013329 -0.011719  0.052765  0.065430  4.210938  1.978516   \n",
       "1  3.460938  0.017059  0.124878  0.154053  0.606934 -0.267822  2.578125   \n",
       "2  4.882812  0.085205  0.032410  0.116089 -0.001689 -0.520020  2.140625   \n",
       "3  3.474609 -0.017105 -0.008102  0.062012  0.041199  0.511719  1.968750   \n",
       "4  1.910156 -0.042938  0.105591  0.125122  0.037506  1.043945  1.075195   \n",
       "\n",
       "        f98       f99  target  fe_cluster_0  fe_cluster_1  fe_cluster_2  \\\n",
       "0  0.085999  0.240479       0             1             0             0   \n",
       "1 -0.020874  0.024719       0             1             0             0   \n",
       "2  0.124451  0.148193       0             0             0             0   \n",
       "3  0.040009  0.044861       0             0             0             1   \n",
       "4 -0.012817  0.072815       1             1             0             0   \n",
       "\n",
       "   fe_cluster_3  fe_cluster_4   fe_mean  fe_median    fe_min    fe_max  \\\n",
       "0             0             0  2.650391   0.242432 -3.841797  132.7500   \n",
       "1             0             0  2.136719   0.145020 -0.471436   76.5625   \n",
       "2             0             1  3.814453   0.124084 -0.520020  233.5000   \n",
       "3             0             0  9.859375   0.180420 -0.495117  780.0000   \n",
       "4             0             0  2.949219   0.149170 -0.294189  156.1250   \n",
       "\n",
       "    fe_skew  \n",
       "0  9.687500  \n",
       "1  8.429688  \n",
       "2  9.609375  \n",
       "3  9.867188  \n",
       "4  9.710938  "
      ]
     },
     "execution_count": 20,
     "metadata": {},
     "output_type": "execute_result"
    }
   ],
   "source": [
    "df3_train.head()"
   ]
  },
  {
   "cell_type": "code",
   "execution_count": 21,
   "metadata": {
    "ExecuteTime": {
     "end_time": "2021-11-28T02:40:05.795288Z",
     "start_time": "2021-11-28T02:40:05.702290Z"
    },
    "colab": {
     "base_uri": "https://localhost:8080/",
     "height": 225
    },
    "executionInfo": {
     "elapsed": 264,
     "status": "ok",
     "timestamp": 1638033572047,
     "user": {
      "displayName": "Rogério Delfim",
      "photoUrl": "https://lh3.googleusercontent.com/a-/AOh14Gj8lDYWTfZHU0U0sMojRPio71Ec7YDcSEpCaOEE=s64",
      "userId": "04235763959036945343"
     },
     "user_tz": 180
    },
    "id": "_JUntp99QiWX",
    "outputId": "b20893e8-f2dc-4a8f-fb50-c2f618796919"
   },
   "outputs": [
    {
     "data": {
      "text/html": [
       "<div>\n",
       "<style scoped>\n",
       "    .dataframe tbody tr th:only-of-type {\n",
       "        vertical-align: middle;\n",
       "    }\n",
       "\n",
       "    .dataframe tbody tr th {\n",
       "        vertical-align: top;\n",
       "    }\n",
       "\n",
       "    .dataframe thead th {\n",
       "        text-align: right;\n",
       "    }\n",
       "</style>\n",
       "<table border=\"1\" class=\"dataframe\">\n",
       "  <thead>\n",
       "    <tr style=\"text-align: right;\">\n",
       "      <th></th>\n",
       "      <th>f0</th>\n",
       "      <th>f1</th>\n",
       "      <th>f2</th>\n",
       "      <th>f3</th>\n",
       "      <th>f4</th>\n",
       "      <th>f5</th>\n",
       "      <th>f6</th>\n",
       "      <th>f7</th>\n",
       "      <th>f8</th>\n",
       "      <th>f9</th>\n",
       "      <th>f10</th>\n",
       "      <th>f11</th>\n",
       "      <th>f12</th>\n",
       "      <th>f13</th>\n",
       "      <th>f14</th>\n",
       "      <th>f15</th>\n",
       "      <th>f16</th>\n",
       "      <th>f17</th>\n",
       "      <th>f18</th>\n",
       "      <th>f19</th>\n",
       "      <th>f20</th>\n",
       "      <th>f21</th>\n",
       "      <th>f22</th>\n",
       "      <th>f23</th>\n",
       "      <th>f24</th>\n",
       "      <th>f25</th>\n",
       "      <th>f26</th>\n",
       "      <th>f27</th>\n",
       "      <th>f28</th>\n",
       "      <th>f29</th>\n",
       "      <th>f30</th>\n",
       "      <th>f31</th>\n",
       "      <th>f32</th>\n",
       "      <th>f33</th>\n",
       "      <th>f34</th>\n",
       "      <th>f35</th>\n",
       "      <th>f36</th>\n",
       "      <th>f37</th>\n",
       "      <th>f38</th>\n",
       "      <th>f39</th>\n",
       "      <th>f40</th>\n",
       "      <th>f41</th>\n",
       "      <th>f42</th>\n",
       "      <th>f43</th>\n",
       "      <th>f44</th>\n",
       "      <th>f45</th>\n",
       "      <th>f46</th>\n",
       "      <th>f47</th>\n",
       "      <th>f48</th>\n",
       "      <th>f49</th>\n",
       "      <th>f50</th>\n",
       "      <th>f51</th>\n",
       "      <th>f52</th>\n",
       "      <th>f53</th>\n",
       "      <th>f54</th>\n",
       "      <th>f55</th>\n",
       "      <th>f56</th>\n",
       "      <th>f57</th>\n",
       "      <th>f58</th>\n",
       "      <th>f59</th>\n",
       "      <th>f60</th>\n",
       "      <th>f61</th>\n",
       "      <th>f62</th>\n",
       "      <th>f63</th>\n",
       "      <th>f64</th>\n",
       "      <th>f65</th>\n",
       "      <th>f66</th>\n",
       "      <th>f67</th>\n",
       "      <th>f68</th>\n",
       "      <th>f69</th>\n",
       "      <th>f70</th>\n",
       "      <th>f71</th>\n",
       "      <th>f72</th>\n",
       "      <th>f73</th>\n",
       "      <th>f74</th>\n",
       "      <th>f75</th>\n",
       "      <th>f76</th>\n",
       "      <th>f77</th>\n",
       "      <th>f78</th>\n",
       "      <th>f79</th>\n",
       "      <th>f80</th>\n",
       "      <th>f81</th>\n",
       "      <th>f82</th>\n",
       "      <th>f83</th>\n",
       "      <th>f84</th>\n",
       "      <th>f85</th>\n",
       "      <th>f86</th>\n",
       "      <th>f87</th>\n",
       "      <th>f88</th>\n",
       "      <th>f89</th>\n",
       "      <th>f90</th>\n",
       "      <th>f91</th>\n",
       "      <th>f92</th>\n",
       "      <th>f93</th>\n",
       "      <th>f94</th>\n",
       "      <th>f95</th>\n",
       "      <th>f96</th>\n",
       "      <th>f97</th>\n",
       "      <th>f98</th>\n",
       "      <th>f99</th>\n",
       "      <th>target</th>\n",
       "      <th>fe_cluster_0</th>\n",
       "      <th>fe_cluster_1</th>\n",
       "      <th>fe_cluster_2</th>\n",
       "      <th>fe_cluster_3</th>\n",
       "      <th>fe_cluster_4</th>\n",
       "      <th>fe_mean</th>\n",
       "      <th>fe_median</th>\n",
       "      <th>fe_min</th>\n",
       "      <th>fe_max</th>\n",
       "      <th>fe_skew</th>\n",
       "    </tr>\n",
       "  </thead>\n",
       "  <tbody>\n",
       "    <tr>\n",
       "      <th>0</th>\n",
       "      <td>0.106628</td>\n",
       "      <td>3.593750</td>\n",
       "      <td>132.7500</td>\n",
       "      <td>3.183594</td>\n",
       "      <td>0.081970</td>\n",
       "      <td>1.188477</td>\n",
       "      <td>3.732422</td>\n",
       "      <td>2.265625</td>\n",
       "      <td>2.099609</td>\n",
       "      <td>0.012329</td>\n",
       "      <td>1.607422</td>\n",
       "      <td>-0.318115</td>\n",
       "      <td>0.560059</td>\n",
       "      <td>2.806641</td>\n",
       "      <td>1.351562</td>\n",
       "      <td>2.535156</td>\n",
       "      <td>0.197510</td>\n",
       "      <td>0.676270</td>\n",
       "      <td>1.990234</td>\n",
       "      <td>-3.841797</td>\n",
       "      <td>0.037384</td>\n",
       "      <td>0.230347</td>\n",
       "      <td>3.330078</td>\n",
       "      <td>0.009399</td>\n",
       "      <td>0.144775</td>\n",
       "      <td>3.050781</td>\n",
       "      <td>1.303711</td>\n",
       "      <td>0.033234</td>\n",
       "      <td>-0.018280</td>\n",
       "      <td>2.748047</td>\n",
       "      <td>-0.009293</td>\n",
       "      <td>-0.036285</td>\n",
       "      <td>-0.049866</td>\n",
       "      <td>0.019485</td>\n",
       "      <td>3.898438</td>\n",
       "      <td>11.289062</td>\n",
       "      <td>1.137695</td>\n",
       "      <td>3.367188</td>\n",
       "      <td>4.945312</td>\n",
       "      <td>-0.105774</td>\n",
       "      <td>2.113281</td>\n",
       "      <td>3.453125</td>\n",
       "      <td>0.789551</td>\n",
       "      <td>1.113281</td>\n",
       "      <td>1.491211</td>\n",
       "      <td>2.439453</td>\n",
       "      <td>0.041809</td>\n",
       "      <td>3.355469</td>\n",
       "      <td>0.053680</td>\n",
       "      <td>1.701172</td>\n",
       "      <td>0.908691</td>\n",
       "      <td>0.094910</td>\n",
       "      <td>0.030212</td>\n",
       "      <td>0.597168</td>\n",
       "      <td>4.445312</td>\n",
       "      <td>1.586914</td>\n",
       "      <td>-0.068665</td>\n",
       "      <td>-0.108276</td>\n",
       "      <td>0.061035</td>\n",
       "      <td>0.046112</td>\n",
       "      <td>0.017105</td>\n",
       "      <td>-0.027557</td>\n",
       "      <td>0.019485</td>\n",
       "      <td>-0.048828</td>\n",
       "      <td>0.050751</td>\n",
       "      <td>3.728516</td>\n",
       "      <td>5.015625</td>\n",
       "      <td>4.187500</td>\n",
       "      <td>0.063354</td>\n",
       "      <td>0.121033</td>\n",
       "      <td>1.372070</td>\n",
       "      <td>4.015625</td>\n",
       "      <td>0.167603</td>\n",
       "      <td>0.039764</td>\n",
       "      <td>2.042969</td>\n",
       "      <td>-0.016617</td>\n",
       "      <td>0.107666</td>\n",
       "      <td>3.507812</td>\n",
       "      <td>0.013657</td>\n",
       "      <td>-0.097046</td>\n",
       "      <td>5.394531</td>\n",
       "      <td>0.244507</td>\n",
       "      <td>3.492188</td>\n",
       "      <td>0.113098</td>\n",
       "      <td>-0.015472</td>\n",
       "      <td>4.207031</td>\n",
       "      <td>4.105469</td>\n",
       "      <td>0.037231</td>\n",
       "      <td>-0.118835</td>\n",
       "      <td>0.067078</td>\n",
       "      <td>0.010742</td>\n",
       "      <td>1.098633</td>\n",
       "      <td>0.013329</td>\n",
       "      <td>-0.011719</td>\n",
       "      <td>0.052765</td>\n",
       "      <td>0.065430</td>\n",
       "      <td>4.210938</td>\n",
       "      <td>1.978516</td>\n",
       "      <td>0.085999</td>\n",
       "      <td>0.240479</td>\n",
       "      <td>0</td>\n",
       "      <td>1</td>\n",
       "      <td>0</td>\n",
       "      <td>0</td>\n",
       "      <td>0</td>\n",
       "      <td>0</td>\n",
       "      <td>2.650391</td>\n",
       "      <td>0.242432</td>\n",
       "      <td>-3.841797</td>\n",
       "      <td>132.7500</td>\n",
       "      <td>9.687500</td>\n",
       "    </tr>\n",
       "    <tr>\n",
       "      <th>1</th>\n",
       "      <td>0.125000</td>\n",
       "      <td>1.673828</td>\n",
       "      <td>76.5625</td>\n",
       "      <td>3.378906</td>\n",
       "      <td>0.099426</td>\n",
       "      <td>5.093750</td>\n",
       "      <td>1.275391</td>\n",
       "      <td>-0.471436</td>\n",
       "      <td>4.546875</td>\n",
       "      <td>0.037720</td>\n",
       "      <td>0.331787</td>\n",
       "      <td>0.325195</td>\n",
       "      <td>0.062042</td>\n",
       "      <td>2.261719</td>\n",
       "      <td>4.339844</td>\n",
       "      <td>-0.224976</td>\n",
       "      <td>0.233643</td>\n",
       "      <td>3.380859</td>\n",
       "      <td>1.903320</td>\n",
       "      <td>0.067871</td>\n",
       "      <td>-0.051270</td>\n",
       "      <td>0.006134</td>\n",
       "      <td>2.603516</td>\n",
       "      <td>0.103455</td>\n",
       "      <td>0.067627</td>\n",
       "      <td>4.753906</td>\n",
       "      <td>1.855469</td>\n",
       "      <td>-0.181885</td>\n",
       "      <td>0.008362</td>\n",
       "      <td>3.166016</td>\n",
       "      <td>0.011848</td>\n",
       "      <td>0.022293</td>\n",
       "      <td>0.069336</td>\n",
       "      <td>0.117126</td>\n",
       "      <td>0.315186</td>\n",
       "      <td>24.484375</td>\n",
       "      <td>1.671875</td>\n",
       "      <td>-0.409180</td>\n",
       "      <td>4.953125</td>\n",
       "      <td>0.092346</td>\n",
       "      <td>2.603516</td>\n",
       "      <td>1.955078</td>\n",
       "      <td>0.005898</td>\n",
       "      <td>3.289062</td>\n",
       "      <td>2.564453</td>\n",
       "      <td>0.817871</td>\n",
       "      <td>0.026001</td>\n",
       "      <td>4.617188</td>\n",
       "      <td>1.575195</td>\n",
       "      <td>0.066101</td>\n",
       "      <td>0.681641</td>\n",
       "      <td>0.025253</td>\n",
       "      <td>0.183472</td>\n",
       "      <td>0.110046</td>\n",
       "      <td>2.746094</td>\n",
       "      <td>0.835449</td>\n",
       "      <td>0.188232</td>\n",
       "      <td>4.960938</td>\n",
       "      <td>0.136108</td>\n",
       "      <td>-0.008492</td>\n",
       "      <td>-0.015266</td>\n",
       "      <td>-0.010841</td>\n",
       "      <td>0.064575</td>\n",
       "      <td>0.102539</td>\n",
       "      <td>0.093628</td>\n",
       "      <td>0.963867</td>\n",
       "      <td>0.630371</td>\n",
       "      <td>4.308594</td>\n",
       "      <td>0.091309</td>\n",
       "      <td>-0.036346</td>\n",
       "      <td>3.617188</td>\n",
       "      <td>3.103516</td>\n",
       "      <td>0.000657</td>\n",
       "      <td>0.051300</td>\n",
       "      <td>1.924805</td>\n",
       "      <td>0.123291</td>\n",
       "      <td>-0.022675</td>\n",
       "      <td>1.547852</td>\n",
       "      <td>-0.010399</td>\n",
       "      <td>0.058319</td>\n",
       "      <td>3.662109</td>\n",
       "      <td>-0.118408</td>\n",
       "      <td>2.357422</td>\n",
       "      <td>-0.009109</td>\n",
       "      <td>0.178711</td>\n",
       "      <td>4.097656</td>\n",
       "      <td>3.533203</td>\n",
       "      <td>0.005245</td>\n",
       "      <td>0.121399</td>\n",
       "      <td>0.109985</td>\n",
       "      <td>0.135864</td>\n",
       "      <td>3.460938</td>\n",
       "      <td>0.017059</td>\n",
       "      <td>0.124878</td>\n",
       "      <td>0.154053</td>\n",
       "      <td>0.606934</td>\n",
       "      <td>-0.267822</td>\n",
       "      <td>2.578125</td>\n",
       "      <td>-0.020874</td>\n",
       "      <td>0.024719</td>\n",
       "      <td>0</td>\n",
       "      <td>1</td>\n",
       "      <td>0</td>\n",
       "      <td>0</td>\n",
       "      <td>0</td>\n",
       "      <td>0</td>\n",
       "      <td>2.136719</td>\n",
       "      <td>0.145020</td>\n",
       "      <td>-0.471436</td>\n",
       "      <td>76.5625</td>\n",
       "      <td>8.429688</td>\n",
       "    </tr>\n",
       "    <tr>\n",
       "      <th>2</th>\n",
       "      <td>0.036316</td>\n",
       "      <td>1.497070</td>\n",
       "      <td>233.5000</td>\n",
       "      <td>2.195312</td>\n",
       "      <td>0.026917</td>\n",
       "      <td>3.126953</td>\n",
       "      <td>5.058594</td>\n",
       "      <td>3.849609</td>\n",
       "      <td>1.801758</td>\n",
       "      <td>0.057007</td>\n",
       "      <td>0.328613</td>\n",
       "      <td>2.968750</td>\n",
       "      <td>0.105225</td>\n",
       "      <td>2.070312</td>\n",
       "      <td>5.308594</td>\n",
       "      <td>1.354492</td>\n",
       "      <td>-0.261963</td>\n",
       "      <td>1.378906</td>\n",
       "      <td>1.480469</td>\n",
       "      <td>0.020538</td>\n",
       "      <td>-0.008804</td>\n",
       "      <td>0.109375</td>\n",
       "      <td>1.683594</td>\n",
       "      <td>0.038177</td>\n",
       "      <td>0.123718</td>\n",
       "      <td>1.112305</td>\n",
       "      <td>3.572266</td>\n",
       "      <td>0.120605</td>\n",
       "      <td>0.082092</td>\n",
       "      <td>2.234375</td>\n",
       "      <td>0.002270</td>\n",
       "      <td>0.045197</td>\n",
       "      <td>0.014404</td>\n",
       "      <td>0.011597</td>\n",
       "      <td>-0.502930</td>\n",
       "      <td>33.750000</td>\n",
       "      <td>1.417969</td>\n",
       "      <td>1.071289</td>\n",
       "      <td>3.222656</td>\n",
       "      <td>2.121094</td>\n",
       "      <td>3.082031</td>\n",
       "      <td>0.637695</td>\n",
       "      <td>-0.006821</td>\n",
       "      <td>-0.390869</td>\n",
       "      <td>17.343750</td>\n",
       "      <td>3.701172</td>\n",
       "      <td>-0.033600</td>\n",
       "      <td>1.578125</td>\n",
       "      <td>0.051971</td>\n",
       "      <td>-0.002005</td>\n",
       "      <td>2.691406</td>\n",
       "      <td>0.018372</td>\n",
       "      <td>-0.030472</td>\n",
       "      <td>0.111389</td>\n",
       "      <td>2.187500</td>\n",
       "      <td>-0.324951</td>\n",
       "      <td>-0.019943</td>\n",
       "      <td>3.455078</td>\n",
       "      <td>0.068115</td>\n",
       "      <td>-0.009811</td>\n",
       "      <td>-0.010628</td>\n",
       "      <td>0.027573</td>\n",
       "      <td>-0.007122</td>\n",
       "      <td>-0.048920</td>\n",
       "      <td>-0.002575</td>\n",
       "      <td>1.865234</td>\n",
       "      <td>2.404297</td>\n",
       "      <td>0.411621</td>\n",
       "      <td>0.057739</td>\n",
       "      <td>0.525391</td>\n",
       "      <td>2.167969</td>\n",
       "      <td>0.828125</td>\n",
       "      <td>0.089844</td>\n",
       "      <td>0.093750</td>\n",
       "      <td>4.949219</td>\n",
       "      <td>-0.010979</td>\n",
       "      <td>0.076660</td>\n",
       "      <td>0.266846</td>\n",
       "      <td>0.038696</td>\n",
       "      <td>0.382812</td>\n",
       "      <td>3.847656</td>\n",
       "      <td>-0.121460</td>\n",
       "      <td>3.740234</td>\n",
       "      <td>0.147095</td>\n",
       "      <td>-0.016571</td>\n",
       "      <td>0.614746</td>\n",
       "      <td>2.125000</td>\n",
       "      <td>0.078857</td>\n",
       "      <td>0.979980</td>\n",
       "      <td>0.026764</td>\n",
       "      <td>0.117310</td>\n",
       "      <td>4.882812</td>\n",
       "      <td>0.085205</td>\n",
       "      <td>0.032410</td>\n",
       "      <td>0.116089</td>\n",
       "      <td>-0.001689</td>\n",
       "      <td>-0.520020</td>\n",
       "      <td>2.140625</td>\n",
       "      <td>0.124451</td>\n",
       "      <td>0.148193</td>\n",
       "      <td>0</td>\n",
       "      <td>0</td>\n",
       "      <td>0</td>\n",
       "      <td>0</td>\n",
       "      <td>0</td>\n",
       "      <td>1</td>\n",
       "      <td>3.814453</td>\n",
       "      <td>0.124084</td>\n",
       "      <td>-0.520020</td>\n",
       "      <td>233.5000</td>\n",
       "      <td>9.609375</td>\n",
       "    </tr>\n",
       "    <tr>\n",
       "      <th>3</th>\n",
       "      <td>-0.014076</td>\n",
       "      <td>0.245972</td>\n",
       "      <td>780.0000</td>\n",
       "      <td>1.890625</td>\n",
       "      <td>0.006947</td>\n",
       "      <td>1.531250</td>\n",
       "      <td>2.697266</td>\n",
       "      <td>4.515625</td>\n",
       "      <td>4.503906</td>\n",
       "      <td>0.123474</td>\n",
       "      <td>1.002930</td>\n",
       "      <td>4.871094</td>\n",
       "      <td>0.058411</td>\n",
       "      <td>2.498047</td>\n",
       "      <td>1.238281</td>\n",
       "      <td>2.347656</td>\n",
       "      <td>0.175415</td>\n",
       "      <td>1.609375</td>\n",
       "      <td>2.029297</td>\n",
       "      <td>0.042084</td>\n",
       "      <td>0.005142</td>\n",
       "      <td>0.076477</td>\n",
       "      <td>1.651367</td>\n",
       "      <td>0.111816</td>\n",
       "      <td>0.121643</td>\n",
       "      <td>0.589355</td>\n",
       "      <td>4.238281</td>\n",
       "      <td>-0.032837</td>\n",
       "      <td>0.058167</td>\n",
       "      <td>0.712891</td>\n",
       "      <td>0.097473</td>\n",
       "      <td>0.072754</td>\n",
       "      <td>0.000324</td>\n",
       "      <td>0.063354</td>\n",
       "      <td>4.062500</td>\n",
       "      <td>25.375000</td>\n",
       "      <td>0.576660</td>\n",
       "      <td>2.025391</td>\n",
       "      <td>2.968750</td>\n",
       "      <td>1.085938</td>\n",
       "      <td>1.710938</td>\n",
       "      <td>1.372070</td>\n",
       "      <td>0.034637</td>\n",
       "      <td>0.722656</td>\n",
       "      <td>71.437500</td>\n",
       "      <td>3.035156</td>\n",
       "      <td>0.092224</td>\n",
       "      <td>3.453125</td>\n",
       "      <td>0.044830</td>\n",
       "      <td>0.027191</td>\n",
       "      <td>4.082031</td>\n",
       "      <td>0.046967</td>\n",
       "      <td>0.063721</td>\n",
       "      <td>0.029221</td>\n",
       "      <td>0.671875</td>\n",
       "      <td>0.185303</td>\n",
       "      <td>0.164307</td>\n",
       "      <td>3.804688</td>\n",
       "      <td>0.062317</td>\n",
       "      <td>-0.021408</td>\n",
       "      <td>0.009468</td>\n",
       "      <td>0.110901</td>\n",
       "      <td>0.026840</td>\n",
       "      <td>2.931641</td>\n",
       "      <td>0.068115</td>\n",
       "      <td>-0.495117</td>\n",
       "      <td>1.345703</td>\n",
       "      <td>2.242188</td>\n",
       "      <td>0.035614</td>\n",
       "      <td>-0.139282</td>\n",
       "      <td>4.742188</td>\n",
       "      <td>3.292969</td>\n",
       "      <td>0.117859</td>\n",
       "      <td>0.065613</td>\n",
       "      <td>0.556641</td>\n",
       "      <td>-0.058044</td>\n",
       "      <td>0.070496</td>\n",
       "      <td>1.101562</td>\n",
       "      <td>0.068542</td>\n",
       "      <td>0.162964</td>\n",
       "      <td>4.070312</td>\n",
       "      <td>-0.008835</td>\n",
       "      <td>3.896484</td>\n",
       "      <td>0.913574</td>\n",
       "      <td>-0.163208</td>\n",
       "      <td>3.074219</td>\n",
       "      <td>4.355469</td>\n",
       "      <td>-0.048889</td>\n",
       "      <td>4.917969</td>\n",
       "      <td>0.069946</td>\n",
       "      <td>-0.015350</td>\n",
       "      <td>3.474609</td>\n",
       "      <td>-0.017105</td>\n",
       "      <td>-0.008102</td>\n",
       "      <td>0.062012</td>\n",
       "      <td>0.041199</td>\n",
       "      <td>0.511719</td>\n",
       "      <td>1.968750</td>\n",
       "      <td>0.040009</td>\n",
       "      <td>0.044861</td>\n",
       "      <td>0</td>\n",
       "      <td>0</td>\n",
       "      <td>0</td>\n",
       "      <td>1</td>\n",
       "      <td>0</td>\n",
       "      <td>0</td>\n",
       "      <td>9.859375</td>\n",
       "      <td>0.180420</td>\n",
       "      <td>-0.495117</td>\n",
       "      <td>780.0000</td>\n",
       "      <td>9.867188</td>\n",
       "    </tr>\n",
       "    <tr>\n",
       "      <th>4</th>\n",
       "      <td>-0.003260</td>\n",
       "      <td>3.714844</td>\n",
       "      <td>156.1250</td>\n",
       "      <td>2.148438</td>\n",
       "      <td>0.018280</td>\n",
       "      <td>2.097656</td>\n",
       "      <td>4.156250</td>\n",
       "      <td>-0.038239</td>\n",
       "      <td>3.371094</td>\n",
       "      <td>0.034180</td>\n",
       "      <td>0.711426</td>\n",
       "      <td>0.770020</td>\n",
       "      <td>0.057556</td>\n",
       "      <td>0.957031</td>\n",
       "      <td>3.710938</td>\n",
       "      <td>5.464844</td>\n",
       "      <td>0.287109</td>\n",
       "      <td>2.617188</td>\n",
       "      <td>1.383789</td>\n",
       "      <td>0.074890</td>\n",
       "      <td>-0.010544</td>\n",
       "      <td>0.109131</td>\n",
       "      <td>2.275391</td>\n",
       "      <td>0.008026</td>\n",
       "      <td>0.045227</td>\n",
       "      <td>4.359375</td>\n",
       "      <td>5.074219</td>\n",
       "      <td>-0.009377</td>\n",
       "      <td>0.528809</td>\n",
       "      <td>4.054688</td>\n",
       "      <td>0.020004</td>\n",
       "      <td>0.106812</td>\n",
       "      <td>0.051300</td>\n",
       "      <td>0.045929</td>\n",
       "      <td>3.402344</td>\n",
       "      <td>15.562500</td>\n",
       "      <td>1.635742</td>\n",
       "      <td>0.047028</td>\n",
       "      <td>4.019531</td>\n",
       "      <td>0.155762</td>\n",
       "      <td>5.289062</td>\n",
       "      <td>4.117188</td>\n",
       "      <td>0.072144</td>\n",
       "      <td>2.751953</td>\n",
       "      <td>3.171875</td>\n",
       "      <td>0.693359</td>\n",
       "      <td>-0.105835</td>\n",
       "      <td>3.320312</td>\n",
       "      <td>0.090698</td>\n",
       "      <td>0.112915</td>\n",
       "      <td>4.621094</td>\n",
       "      <td>0.126831</td>\n",
       "      <td>0.142700</td>\n",
       "      <td>0.055725</td>\n",
       "      <td>4.707031</td>\n",
       "      <td>-0.055115</td>\n",
       "      <td>0.523926</td>\n",
       "      <td>2.972656</td>\n",
       "      <td>0.115356</td>\n",
       "      <td>0.125244</td>\n",
       "      <td>0.067444</td>\n",
       "      <td>0.075562</td>\n",
       "      <td>0.032104</td>\n",
       "      <td>-0.042297</td>\n",
       "      <td>0.047974</td>\n",
       "      <td>-0.294189</td>\n",
       "      <td>5.066406</td>\n",
       "      <td>1.049805</td>\n",
       "      <td>0.034027</td>\n",
       "      <td>0.024612</td>\n",
       "      <td>3.125000</td>\n",
       "      <td>2.263672</td>\n",
       "      <td>0.082458</td>\n",
       "      <td>-0.023300</td>\n",
       "      <td>5.617188</td>\n",
       "      <td>0.086243</td>\n",
       "      <td>0.157593</td>\n",
       "      <td>3.726562</td>\n",
       "      <td>0.061249</td>\n",
       "      <td>0.086609</td>\n",
       "      <td>0.607422</td>\n",
       "      <td>1.411133</td>\n",
       "      <td>2.060547</td>\n",
       "      <td>-0.023148</td>\n",
       "      <td>0.011238</td>\n",
       "      <td>2.156250</td>\n",
       "      <td>0.914551</td>\n",
       "      <td>0.044525</td>\n",
       "      <td>0.375732</td>\n",
       "      <td>0.134399</td>\n",
       "      <td>0.013779</td>\n",
       "      <td>1.910156</td>\n",
       "      <td>-0.042938</td>\n",
       "      <td>0.105591</td>\n",
       "      <td>0.125122</td>\n",
       "      <td>0.037506</td>\n",
       "      <td>1.043945</td>\n",
       "      <td>1.075195</td>\n",
       "      <td>-0.012817</td>\n",
       "      <td>0.072815</td>\n",
       "      <td>1</td>\n",
       "      <td>1</td>\n",
       "      <td>0</td>\n",
       "      <td>0</td>\n",
       "      <td>0</td>\n",
       "      <td>0</td>\n",
       "      <td>2.949219</td>\n",
       "      <td>0.149170</td>\n",
       "      <td>-0.294189</td>\n",
       "      <td>156.1250</td>\n",
       "      <td>9.710938</td>\n",
       "    </tr>\n",
       "  </tbody>\n",
       "</table>\n",
       "</div>"
      ],
      "text/plain": [
       "         f0        f1        f2        f3        f4        f5        f6  \\\n",
       "0  0.106628  3.593750  132.7500  3.183594  0.081970  1.188477  3.732422   \n",
       "1  0.125000  1.673828   76.5625  3.378906  0.099426  5.093750  1.275391   \n",
       "2  0.036316  1.497070  233.5000  2.195312  0.026917  3.126953  5.058594   \n",
       "3 -0.014076  0.245972  780.0000  1.890625  0.006947  1.531250  2.697266   \n",
       "4 -0.003260  3.714844  156.1250  2.148438  0.018280  2.097656  4.156250   \n",
       "\n",
       "         f7        f8        f9       f10       f11       f12       f13  \\\n",
       "0  2.265625  2.099609  0.012329  1.607422 -0.318115  0.560059  2.806641   \n",
       "1 -0.471436  4.546875  0.037720  0.331787  0.325195  0.062042  2.261719   \n",
       "2  3.849609  1.801758  0.057007  0.328613  2.968750  0.105225  2.070312   \n",
       "3  4.515625  4.503906  0.123474  1.002930  4.871094  0.058411  2.498047   \n",
       "4 -0.038239  3.371094  0.034180  0.711426  0.770020  0.057556  0.957031   \n",
       "\n",
       "        f14       f15       f16       f17       f18       f19       f20  \\\n",
       "0  1.351562  2.535156  0.197510  0.676270  1.990234 -3.841797  0.037384   \n",
       "1  4.339844 -0.224976  0.233643  3.380859  1.903320  0.067871 -0.051270   \n",
       "2  5.308594  1.354492 -0.261963  1.378906  1.480469  0.020538 -0.008804   \n",
       "3  1.238281  2.347656  0.175415  1.609375  2.029297  0.042084  0.005142   \n",
       "4  3.710938  5.464844  0.287109  2.617188  1.383789  0.074890 -0.010544   \n",
       "\n",
       "        f21       f22       f23       f24       f25       f26       f27  \\\n",
       "0  0.230347  3.330078  0.009399  0.144775  3.050781  1.303711  0.033234   \n",
       "1  0.006134  2.603516  0.103455  0.067627  4.753906  1.855469 -0.181885   \n",
       "2  0.109375  1.683594  0.038177  0.123718  1.112305  3.572266  0.120605   \n",
       "3  0.076477  1.651367  0.111816  0.121643  0.589355  4.238281 -0.032837   \n",
       "4  0.109131  2.275391  0.008026  0.045227  4.359375  5.074219 -0.009377   \n",
       "\n",
       "        f28       f29       f30       f31       f32       f33       f34  \\\n",
       "0 -0.018280  2.748047 -0.009293 -0.036285 -0.049866  0.019485  3.898438   \n",
       "1  0.008362  3.166016  0.011848  0.022293  0.069336  0.117126  0.315186   \n",
       "2  0.082092  2.234375  0.002270  0.045197  0.014404  0.011597 -0.502930   \n",
       "3  0.058167  0.712891  0.097473  0.072754  0.000324  0.063354  4.062500   \n",
       "4  0.528809  4.054688  0.020004  0.106812  0.051300  0.045929  3.402344   \n",
       "\n",
       "         f35       f36       f37       f38       f39       f40       f41  \\\n",
       "0  11.289062  1.137695  3.367188  4.945312 -0.105774  2.113281  3.453125   \n",
       "1  24.484375  1.671875 -0.409180  4.953125  0.092346  2.603516  1.955078   \n",
       "2  33.750000  1.417969  1.071289  3.222656  2.121094  3.082031  0.637695   \n",
       "3  25.375000  0.576660  2.025391  2.968750  1.085938  1.710938  1.372070   \n",
       "4  15.562500  1.635742  0.047028  4.019531  0.155762  5.289062  4.117188   \n",
       "\n",
       "        f42       f43        f44       f45       f46       f47       f48  \\\n",
       "0  0.789551  1.113281   1.491211  2.439453  0.041809  3.355469  0.053680   \n",
       "1  0.005898  3.289062   2.564453  0.817871  0.026001  4.617188  1.575195   \n",
       "2 -0.006821 -0.390869  17.343750  3.701172 -0.033600  1.578125  0.051971   \n",
       "3  0.034637  0.722656  71.437500  3.035156  0.092224  3.453125  0.044830   \n",
       "4  0.072144  2.751953   3.171875  0.693359 -0.105835  3.320312  0.090698   \n",
       "\n",
       "        f49       f50       f51       f52       f53       f54       f55  \\\n",
       "0  1.701172  0.908691  0.094910  0.030212  0.597168  4.445312  1.586914   \n",
       "1  0.066101  0.681641  0.025253  0.183472  0.110046  2.746094  0.835449   \n",
       "2 -0.002005  2.691406  0.018372 -0.030472  0.111389  2.187500 -0.324951   \n",
       "3  0.027191  4.082031  0.046967  0.063721  0.029221  0.671875  0.185303   \n",
       "4  0.112915  4.621094  0.126831  0.142700  0.055725  4.707031 -0.055115   \n",
       "\n",
       "        f56       f57       f58       f59       f60       f61       f62  \\\n",
       "0 -0.068665 -0.108276  0.061035  0.046112  0.017105 -0.027557  0.019485   \n",
       "1  0.188232  4.960938  0.136108 -0.008492 -0.015266 -0.010841  0.064575   \n",
       "2 -0.019943  3.455078  0.068115 -0.009811 -0.010628  0.027573 -0.007122   \n",
       "3  0.164307  3.804688  0.062317 -0.021408  0.009468  0.110901  0.026840   \n",
       "4  0.523926  2.972656  0.115356  0.125244  0.067444  0.075562  0.032104   \n",
       "\n",
       "        f63       f64       f65       f66       f67       f68       f69  \\\n",
       "0 -0.048828  0.050751  3.728516  5.015625  4.187500  0.063354  0.121033   \n",
       "1  0.102539  0.093628  0.963867  0.630371  4.308594  0.091309 -0.036346   \n",
       "2 -0.048920 -0.002575  1.865234  2.404297  0.411621  0.057739  0.525391   \n",
       "3  2.931641  0.068115 -0.495117  1.345703  2.242188  0.035614 -0.139282   \n",
       "4 -0.042297  0.047974 -0.294189  5.066406  1.049805  0.034027  0.024612   \n",
       "\n",
       "        f70       f71       f72       f73       f74       f75       f76  \\\n",
       "0  1.372070  4.015625  0.167603  0.039764  2.042969 -0.016617  0.107666   \n",
       "1  3.617188  3.103516  0.000657  0.051300  1.924805  0.123291 -0.022675   \n",
       "2  2.167969  0.828125  0.089844  0.093750  4.949219 -0.010979  0.076660   \n",
       "3  4.742188  3.292969  0.117859  0.065613  0.556641 -0.058044  0.070496   \n",
       "4  3.125000  2.263672  0.082458 -0.023300  5.617188  0.086243  0.157593   \n",
       "\n",
       "        f77       f78       f79       f80       f81       f82       f83  \\\n",
       "0  3.507812  0.013657 -0.097046  5.394531  0.244507  3.492188  0.113098   \n",
       "1  1.547852 -0.010399  0.058319  3.662109 -0.118408  2.357422 -0.009109   \n",
       "2  0.266846  0.038696  0.382812  3.847656 -0.121460  3.740234  0.147095   \n",
       "3  1.101562  0.068542  0.162964  4.070312 -0.008835  3.896484  0.913574   \n",
       "4  3.726562  0.061249  0.086609  0.607422  1.411133  2.060547 -0.023148   \n",
       "\n",
       "        f84       f85       f86       f87       f88       f89       f90  \\\n",
       "0 -0.015472  4.207031  4.105469  0.037231 -0.118835  0.067078  0.010742   \n",
       "1  0.178711  4.097656  3.533203  0.005245  0.121399  0.109985  0.135864   \n",
       "2 -0.016571  0.614746  2.125000  0.078857  0.979980  0.026764  0.117310   \n",
       "3 -0.163208  3.074219  4.355469 -0.048889  4.917969  0.069946 -0.015350   \n",
       "4  0.011238  2.156250  0.914551  0.044525  0.375732  0.134399  0.013779   \n",
       "\n",
       "        f91       f92       f93       f94       f95       f96       f97  \\\n",
       "0  1.098633  0.013329 -0.011719  0.052765  0.065430  4.210938  1.978516   \n",
       "1  3.460938  0.017059  0.124878  0.154053  0.606934 -0.267822  2.578125   \n",
       "2  4.882812  0.085205  0.032410  0.116089 -0.001689 -0.520020  2.140625   \n",
       "3  3.474609 -0.017105 -0.008102  0.062012  0.041199  0.511719  1.968750   \n",
       "4  1.910156 -0.042938  0.105591  0.125122  0.037506  1.043945  1.075195   \n",
       "\n",
       "        f98       f99  target  fe_cluster_0  fe_cluster_1  fe_cluster_2  \\\n",
       "0  0.085999  0.240479       0             1             0             0   \n",
       "1 -0.020874  0.024719       0             1             0             0   \n",
       "2  0.124451  0.148193       0             0             0             0   \n",
       "3  0.040009  0.044861       0             0             0             1   \n",
       "4 -0.012817  0.072815       1             1             0             0   \n",
       "\n",
       "   fe_cluster_3  fe_cluster_4   fe_mean  fe_median    fe_min    fe_max  \\\n",
       "0             0             0  2.650391   0.242432 -3.841797  132.7500   \n",
       "1             0             0  2.136719   0.145020 -0.471436   76.5625   \n",
       "2             0             1  3.814453   0.124084 -0.520020  233.5000   \n",
       "3             0             0  9.859375   0.180420 -0.495117  780.0000   \n",
       "4             0             0  2.949219   0.149170 -0.294189  156.1250   \n",
       "\n",
       "    fe_skew  \n",
       "0  9.687500  \n",
       "1  8.429688  \n",
       "2  9.609375  \n",
       "3  9.867188  \n",
       "4  9.710938  "
      ]
     },
     "execution_count": 21,
     "metadata": {},
     "output_type": "execute_result"
    }
   ],
   "source": [
    "df3_train.head()"
   ]
  },
  {
   "cell_type": "markdown",
   "metadata": {
    "id": "9cJfauA3i34z"
   },
   "source": [
    "# <div class=\"alert alert-success\"> 3. Split Train/Test </div>"
   ]
  },
  {
   "cell_type": "code",
   "execution_count": 22,
   "metadata": {
    "ExecuteTime": {
     "end_time": "2021-11-28T02:40:10.510237Z",
     "start_time": "2021-11-28T02:40:09.460240Z"
    },
    "colab": {
     "base_uri": "https://localhost:8080/"
    },
    "executionInfo": {
     "elapsed": 1420,
     "status": "ok",
     "timestamp": 1638033576621,
     "user": {
      "displayName": "Rogério Delfim",
      "photoUrl": "https://lh3.googleusercontent.com/a-/AOh14Gj8lDYWTfZHU0U0sMojRPio71Ec7YDcSEpCaOEE=s64",
      "userId": "04235763959036945343"
     },
     "user_tz": 180
    },
    "id": "7slBPAVpX0dZ",
    "outputId": "d9b30012-fc6e-4d66-9dd0-71b90ebb3c0a"
   },
   "outputs": [
    {
     "data": {
      "text/plain": [
       "((480000, 110), (480000,), (120000, 110), (120000,))"
      ]
     },
     "execution_count": 22,
     "metadata": {},
     "output_type": "execute_result"
    }
   ],
   "source": [
    "X      = df3_train.drop([target], axis=1)    \n",
    "y      = df3_train[target].copy()\n",
    "X_test = df3_test\n",
    "\n",
    "X_train, X_valid, y_train, y_valid = train_test_split(X, y, \n",
    "                                                      test_size    = 0.2,\n",
    "                                                      shuffle      = True, \n",
    "                                                      stratify     = y,\n",
    "                                                      random_state = 0)\n",
    "\n",
    "del df3_train , df3_test\n",
    "\n",
    "free_gpu_cache() \n",
    "\n",
    "X_train.shape, y_train.shape, X_valid.shape, y_valid.shape "
   ]
  },
  {
   "cell_type": "markdown",
   "metadata": {
    "ExecuteTime": {
     "end_time": "2021-11-28T00:31:30.169152Z",
     "start_time": "2021-11-28T00:31:30.154127Z"
    }
   },
   "source": [
    "# <div class=\"alert alert-success\"> 4. Regression Logistic </div>"
   ]
  },
  {
   "cell_type": "markdown",
   "metadata": {
    "id": "8l1vmUmRi340"
   },
   "source": [
    "## 4.1. Classe Tunning "
   ]
  },
  {
   "cell_type": "code",
   "execution_count": 88,
   "metadata": {
    "ExecuteTime": {
     "end_time": "2021-11-28T03:41:44.524767Z",
     "start_time": "2021-11-28T03:41:44.433738Z"
    },
    "code_folding": [
     5,
     24,
     60,
     77,
     83,
     129,
     150,
     175,
     202,
     296,
     375,
     398,
     403,
     418,
     572
    ],
    "executionInfo": {
     "elapsed": 2408,
     "status": "ok",
     "timestamp": 1638058265806,
     "user": {
      "displayName": "Rogério Delfim",
      "photoUrl": "https://lh3.googleusercontent.com/a-/AOh14Gj8lDYWTfZHU0U0sMojRPio71Ec7YDcSEpCaOEE=s64",
      "userId": "04235763959036945343"
     },
     "user_tz": 180
    },
    "id": "LpYUOrRpi340"
   },
   "outputs": [],
   "source": [
    "class TunningModels(nn.Module):\n",
    "\n",
    "    from sklearn.preprocessing  import StandardScaler\n",
    "    from sklearn.linear_model import RidgeClassifier\n",
    "    \n",
    "    def __init__(self, name_model_, X_trn_, y_trn_, X_ts_, feature_=None, \n",
    "                 seed_=12359, scaler_=StandardScaler(), feature_bin_=None, \n",
    "                 target_='target', path_='', level_='1', save_predict_=True):\n",
    "        \n",
    "        super(TunningModels,self).__init__() \n",
    "\n",
    "        self.name_clf     = name_model\n",
    "        self.X_trn        = X_trn_\n",
    "        self.y_trn        = y_trn_\n",
    "        self.X_ts         = X_ts_         \n",
    "        self.feature      = feature_\n",
    "        self.seed         = seed_\n",
    "        self.scaler       = scaler_\n",
    "        self.feature_bin  = feature_bin_ \n",
    "        self.target       = target_\n",
    "        self.path         = path_\n",
    "        self.level        = level_\n",
    "        self.save_predict = save_predict_\n",
    "\n",
    "    def recover_prediction_first_level():\n",
    "        \n",
    "        preds_train1 = glob.glob(\"model/train/*.pkl.z\")\n",
    "        preds_test   = glob.glob(\"model/test/*.pkl.z\")\n",
    "        preds_val1   = glob.glob(\"model/valid/*.pkl.z\")\n",
    "\n",
    "        df_train1     = []\n",
    "        scores_traint = dict()\n",
    "\n",
    "        for p_name in preds_train1:    \n",
    "            p    = jb.load(p_name)\n",
    "            p_df = pd.DataFrame(p, columns=[p_name.replace('model/train\\\\', '')])    \n",
    "            df_train1.append(p_df)    \n",
    "            scores_traint[p_name] = f1_score(y_train1, (p_df>.5))\n",
    "\n",
    "        df_val1     = [] \n",
    "        scores_val1 = dict()\n",
    "        for p_name in preds_val1:    \n",
    "            p    = jb.load(p_name)\n",
    "            p_df = pd.DataFrame(p, columns=[p_name.replace('model/valid\\\\', '')])    \n",
    "            df_val1.append(p_df)    \n",
    "            scores_val1[p_name] = f1_score(y_val1, (p_df>.5))\n",
    "\n",
    "        df_test     = [] \n",
    "        scores_test = dict()\n",
    "        for p_name in preds_test:    \n",
    "            p         = jb.load(p_name)\n",
    "            p_df_test = pd.DataFrame(p, columns=[p_name.replace('model/test\\\\', '')])    \n",
    "            df_test.append(p_df_test)\n",
    "\n",
    "        df_train1 = pd.concat(df_train1, axis=1)\n",
    "        df_val1   = pd.concat(df_val1, axis=1)\n",
    "        df_test   = pd.concat(df_test, axis=1)\n",
    "\n",
    "        return df_train1, df_val1, df_test.shape\n",
    "        \n",
    "    def delete_files(namefile):\n",
    "\n",
    "        path = ['model/train', 'model/test', 'model/valid', 'model/params', 'model/score',\n",
    "                'model/test_f', 'model/cv_model', 'model/preds', 'model/optuna', \n",
    "                'model/preds/train', 'model/preds/test', 'model/preds/test/n1', \n",
    "                'model/preds/test/n2', 'model/preds/test/n3', 'model/preds/train/n1', \n",
    "                'model/preds/train/n2', 'model/preds/train/n3','model/preds/param', \n",
    "                'Data/submission/tunning', 'Data/submission'\n",
    "                \n",
    "               ]\n",
    "\n",
    "        for path_ in path:\n",
    "            for raiz, diretorios, arquivos in os.walk(path_):\n",
    "                for arquivo in arquivos:\n",
    "                    if arquivo.startswith(namefile):\n",
    "                        os.remove(os.path.join(raiz, arquivo))\n",
    " \n",
    "    def logging_callback(study, frozen_trail):\n",
    "        prev_best = study.user_attrs.get('prev_best', None)\n",
    "        if prev_best != study.best_value:\n",
    "            study.set_user_attr('prev_best', study.best_value)\n",
    "            print(f\"Trail {frozen_trail.number} finished with best value {frozen_trail.value}\")\n",
    "\n",
    "    def df_return_preds_tunning(model_name=None, level=1, target_='target', \n",
    "                                train_shape_row=0, test_shape_row=0): \n",
    "    \n",
    "        if level==1: \n",
    "            level_ = 'n1'\n",
    "        else: \n",
    "            if level==2:\n",
    "                level_ = 'n2'\n",
    "            else: \n",
    "                level_ = 'n3'\n",
    "        \n",
    "        paths = ['model/preds/test/n1', 'model/preds/train/' + level_ ]    \n",
    "\n",
    "        if model_name==None: \n",
    "            model_name=''\n",
    "            \n",
    "        for i, path in enumerate(paths): \n",
    "\n",
    "            name_file_pkl     = glob.glob(path + '/'+ model_name + '*.pkl.z')\n",
    "            dic_preds_mdl_pkl = dict()\n",
    "\n",
    "            for p_name in name_file_pkl:    \n",
    "                y_model_pkl_name_col  = p_name.replace(path + '\\\\', '').replace('.pkl.z','') \n",
    "                y_model_pkl           = jb.load(p_name)   \n",
    "\n",
    "                if i==0:\n",
    "                    if len(y_model_pkl)==test_shape_row:\n",
    "                        dic_preds_mdl_pkl[y_model_pkl_name_col] = y_model_pkl\n",
    "                        \n",
    "                if i==1:\n",
    "                    if len(y_model_pkl)==train_shape_row:                        \n",
    "                        dic_preds_mdl_pkl[y_model_pkl_name_col] = y_model_pkl\n",
    "                \n",
    "                gc.collect()\n",
    "\n",
    "            if i==0:         \n",
    "                X_test_pred_nivel_1 = pd.DataFrame(dic_preds_mdl_pkl)\n",
    "            else:\n",
    "                X_train_pred_nivel_1 = pd.DataFrame(dic_preds_mdl_pkl)\n",
    "\n",
    "            gc.collect()\n",
    "\n",
    "        X_train_pred_nivel_1[target_] = y\n",
    "        \n",
    "        return X_train_pred_nivel_1, X_test_pred_nivel_1\n",
    "    \n",
    "    def feature_select(mdl, feature=[], best_score=0):\n",
    "    \n",
    "        best_feature = ''\n",
    "\n",
    "        for col in df_train1.columns:\n",
    "\n",
    "            if col not in feature:\n",
    "                Xtr  = df_train1[feature+[col]].copy()\n",
    "                Xval = df_val1[feature+[col]].copy()                \n",
    "\n",
    "                mdl.fit(Xtr, y_train1)\n",
    "\n",
    "                p = mdl.predict(Xval)\n",
    "                c = f1_score(y_val1, p)\n",
    "\n",
    "                if c > best_score:\n",
    "                    best_score = c\n",
    "                    best_feature = col \n",
    "\n",
    "        return best_score, best_feature\n",
    "\n",
    "    def permutation_test(mdl, feature_selected):\n",
    "\n",
    "        dist = []\n",
    "\n",
    "        for seed in range(100):\n",
    "\n",
    "            Xtr  = df_train1[feature_selected].copy()\n",
    "            Xval = df_val1[feature_selected].copy()\n",
    "\n",
    "            np.random.seed(seed)\n",
    "\n",
    "            Xtr['random']  = np.random.permutation(Xtr.iloc[:, -1].values)\n",
    "            Xval['random'] = np.random.permutation(Xval.iloc[:, -1].values)\n",
    "\n",
    "            mdl.fit(Xtr, y_train1)\n",
    "\n",
    "            p = mdl.predict(Xval)\n",
    "            c = f1_score(y_val1, p)\n",
    "\n",
    "            dist.append(c)\n",
    "\n",
    "        dist = np.array(dist)\n",
    "\n",
    "        return dist.max()\n",
    "\n",
    "    def feature_selected_model(model = RidgeClassifier(alpha=1.) ):\n",
    "   \n",
    "        score_feature, best_feature =  TunningModels.feature_select(model)\n",
    "        print('Score: {:2.4f} => Feature: {}'. format(score_feature*100 , best_feature))\n",
    "\n",
    "        feature_selected = []\n",
    "        feature_selected.append(best_feature)\n",
    "\n",
    "        loop = True\n",
    "\n",
    "        while loop:\n",
    "\n",
    "            best_score = TunningModels.permutation_test(model, feature_selected) \n",
    "            best_score = best_score + 1e-4\n",
    "\n",
    "            score_feature, best_feature = TunningModels.feature_select(model, feature=feature_selected, best_score=best_score)\n",
    "            \n",
    "\n",
    "            if score_feature <= best_score:  \n",
    "                print('Fim')\n",
    "                loop= False\n",
    "            else: \n",
    "                feature_selected.append(best_feature)\n",
    "                print('Score: {:2.4f} => Feature: {}'. format(score_feature*100 , best_feature))\n",
    "\n",
    "        return feature_selected\n",
    "    \n",
    "    def model_of_diversity_feature_group(model, name_model_, X_, y_, X_ts_, scaler_=None, feature_bin_= None, \n",
    "                                         feature_imp_num=5, seed_=12359):\n",
    "\n",
    "        TunningModels.delete_files(name_model_)\n",
    "    \n",
    "        mdl ,score , y_hat = TunningModels.cross_valid( model        = model, \n",
    "                                                        model_name_  = name_model_, \n",
    "                                                        X_           = X_, \n",
    "                                                        y_           = y_, \n",
    "                                                        X_test_      = X_ts_, \n",
    "                                                        type_model   = 1, \n",
    "                                                        feature      = None,\n",
    "                                                        seed         = seed_, \n",
    "                                                        tunning      = 1, \n",
    "                                                        scaler       = scaler_,\n",
    "                                                        print_result = False, \n",
    "                                                        feature_bin  = feature_bin_, \n",
    "                                                        save_predict = False,\n",
    "                                                        n_splits     = 2\n",
    "                                                        )\n",
    "        \n",
    "        df               = pd.DataFrame()\n",
    "        df[\"feature\"]    = X_.columns.to_list()\n",
    "        df[\"importance\"] = mdl.feature_importances_\n",
    "        \n",
    "        df.sort_values(\"importance\", axis=0, ascending=False, inplace=True)\n",
    "\n",
    "        feature_import = df[:feature_imp_num]['feature'].to_list()\n",
    "        \n",
    "        print(feature_import)\n",
    "        print()\n",
    "\n",
    "        for feature_imp in  feature_import:\n",
    "\n",
    "            score_                =  0.09\n",
    "            feature_best          = []\n",
    "            feature               = X_ts_.columns            \n",
    "            feature               = [s for s in feature if s not in feature_import]\n",
    "            feature_number        = len(feature)\n",
    "            feature_select_number = np.round(np.sqrt(len(feature)))\n",
    "            feature_number_sample = int(np.round((feature_number/feature_select_number)))\n",
    "            feature_sample        = []\n",
    "\n",
    "            print('='*60)\n",
    "            print(' Divercidade de Grupos de Features => ({})'.format(feature_imp))\n",
    "            print('='*60)\n",
    "\n",
    "            for i in  range(0,5):\n",
    "\n",
    "                feature            = [s for s in feature if s not in feature_sample]\n",
    "                feature_sample     = pd.Series(feature).sample(feature_number_sample).to_list() \n",
    "                name_model_xgb_div = name_model_ + '_' + str(i+1)   \n",
    "\n",
    "                feature_sample.append(feature_imp)\n",
    "\n",
    "                feature_sample_bin = []\n",
    "\n",
    "                for x in feature_sample: \n",
    "                    if x in feature_bin_: \n",
    "                        feature_sample_bin.append(x)\n",
    "\n",
    "                if len(feature_sample_bin)==0:\n",
    "                    feature_sample_bin = None\n",
    "                \n",
    "                mdl ,score , y_hat = TunningModels.cross_valid( model        = model, \n",
    "                                                                model_name_  = name_model_xgb_div, \n",
    "                                                                X_           = X_, \n",
    "                                                                y_           = y_, \n",
    "                                                                X_test_      = X_ts_, \n",
    "                                                                type_model   = 2, \n",
    "                                                                feature      = feature_sample,\n",
    "                                                                seed         = seed_, \n",
    "                                                                tunning      = 1, \n",
    "                                                                scaler       = scaler_,\n",
    "                                                                print_result = False, \n",
    "                                                                feature_bin  = feature_sample_bin, \n",
    "                                                                save_predict = True,\n",
    "                                                                n_splits     = 3\n",
    "                                                                )\n",
    "                \n",
    "                if score >=.6:\n",
    "                    create = '*'\n",
    "                else: \n",
    "                    create = ' '\n",
    "            \n",
    "                feature_best.append(feature)\n",
    "                print('Score: {:2.5f} => {} Gr.Feature: {} {}'.format(score, create, i+1, feature_sample))\n",
    "\n",
    "            print('')\n",
    "            \n",
    "        print('')\n",
    "        print('FIM')\n",
    "        print('')\n",
    "        \n",
    "    def model_of_diversity_feature_one_(model, name_model,  X_, y_, X_test_,  scaler_=None, feature_bin_=None, seed_=12359):\n",
    "\n",
    "        score_       =  0.09\n",
    "        feature_best = []\n",
    "\n",
    "        print('')\n",
    "        print('Feature apenas uma')\n",
    "        print('-'*20)\n",
    "        print()\n",
    "\n",
    "        TunningModels.delete_files(name_model)\n",
    "\n",
    "        for feature in X_train.columns:\n",
    "\n",
    "            name_model_xgb_div = name_model + feature \n",
    "\n",
    "            mdl ,score , y_hat = TunningModels.cross_valid(model       = model, \n",
    "                                              model_name_  = name_model_xgb_div, \n",
    "                                              X_           = X_, \n",
    "                                              y_           = y_, \n",
    "                                              X_test_      = X_test_, \n",
    "                                              type_model   = 1, \n",
    "                                              feature      = feature,\n",
    "                                              seed         = seed_, \n",
    "                                              tunning      = 1, \n",
    "                                              scaler       = scaler_,\n",
    "                                              print_result = False, \n",
    "                                              feature_bin  = feature_bin_, \n",
    "                                              save_predict = True,\n",
    "                                              n_splits     = 3\n",
    "                                              )\n",
    "    \n",
    "            if score >.6:\n",
    "                create = '*'\n",
    "            else: \n",
    "                create = ' '\n",
    "                \n",
    "            if score > score_:\n",
    "                score_ = np.abs(score)\n",
    "                feature_best.append(feature)\n",
    "                print('F1-score: {:2.5f} => {} feature: {}'.format(score, create, feature ))        \n",
    "\n",
    "        print('')\n",
    "        print('Feature dupla')\n",
    "        print('-'*20)\n",
    "\n",
    "        for feature in feature_best:\n",
    "\n",
    "            for feature_ in feature_best:\n",
    "                if feature != feature_:            \n",
    "                    name_model_xgb_div = name_model + feature + '_' + feature_     \n",
    "                            \n",
    "                    mdl ,score , y_hat = TunningModels.cross_valid( model       = model, \n",
    "                                                                    model_name_  = name_model_xgb_div, \n",
    "                                                                    X_           = X_, \n",
    "                                                                    y_           = y_, \n",
    "                                                                    X_test_      = X_test_, \n",
    "                                                                    type_model   = 1, \n",
    "                                                                    feature      = [feature, feature_],\n",
    "                                                                    seed         = seed_, \n",
    "                                                                    tunning      = 1, \n",
    "                                                                    scaler       = scaler_,\n",
    "                                                                    print_result = False, \n",
    "                                                                    feature_bin  = feature_bin_, \n",
    "                                                                    save_predict = True,\n",
    "                                                                    n_splits     = 3\n",
    "                                                                    )\n",
    "            \n",
    "                    if score >.59:\n",
    "                        create = '*'\n",
    "                    else: \n",
    "                        create = ' '\n",
    "\n",
    "                    print('F1-score: {:.4f} => {} feature: {} | {}'.format(score*100, create,  feature, feature_ )) \n",
    "\n",
    "        print('')\n",
    "        print('FIM')\n",
    "        print('')\n",
    "         \n",
    "    def save_data_model(model_, model_name_, path_, y_pred_train_prob_, y_pred_test_prob_,\n",
    "                     score_, seed_, level_='1', target_='target'):\n",
    "        \n",
    "        level_ = 'n'+ level_ + '/'\n",
    "\n",
    "        if score_>.6:          \n",
    "\n",
    "            path_name_param = path_ + 'model/preds/param/' + model_name_.format(score_, seed_)\n",
    "            path_name_train = path_ + 'model/preds/train/' + level_ + model_name_.format(score_, seed_)\n",
    "            path_name_test  = path_ + 'model/preds/test/'  + level_ + model_name_.format(score_, seed_)    \n",
    "            path_name_model = path_ + 'model/mdl/'         + model_name_.format(score_, seed_)    \n",
    "\n",
    "            jb.dump(y_pred_train_prob_, path_name_train)\n",
    "            jb.dump(y_pred_test_prob_, path_name_test)\n",
    "            jb.dump(model_, path_name_model)\n",
    "            jb.dump(pd.DataFrame([model_.get_params()]), path_name_param)   \n",
    "\n",
    "            if score_>.6:\n",
    "                # Gerar o arquivo de submissão \n",
    "                df_submission[target_] = y_pred_test_prob_\n",
    "                name_file_sub =  path_ + 'Data/submission/tunning/' + model_name_.format(score_, seed_) + '.csv'\n",
    "                df_submission.to_csv(name_file_sub, index = False)\n",
    "                \n",
    "    def diff(t_a, t_b):\n",
    "        from dateutil.relativedelta import relativedelta\n",
    "        t_diff = relativedelta(t_b, t_a)  # later/end time comes first!\n",
    "        return '{h}h {m}m {s}s'.format(h=t_diff.hours, m=t_diff.minutes, s=t_diff.seconds)\n",
    "        \n",
    "    def feature_scaler(df_, scaler_=None, feature_bin_=None):\n",
    "    \n",
    "        if scaler_!=None: \n",
    "            \n",
    "            sc  = MinMaxScaler(feature_range=(0,1))            \n",
    "            #df_ = pd.DataFrame(sc.fit_transform(df_), columns=df_.columns)\n",
    "            \n",
    "            if feature_bin_!=None:\n",
    "                disc = KBinsDiscretizer(n_bins=50, encode='ordinal', strategy='uniform')\n",
    "                df_[feature_bin_] = disc.fit_transform(df_[feature_bin_])\n",
    "            \n",
    "            df_ = pd.DataFrame(scaler_.fit_transform(df_), columns=df_.columns)\n",
    "    \n",
    "        return df_\n",
    "\n",
    "    def cross_valid(model_, model_name_, X_train_, y_train_, X_test_, fold_=5, target_='target', \n",
    "                    path_='', level_='1', save_predict_=True, print_result_=True, seed_=12359, \n",
    "                    feature_=None, feature_bin_=None, scaler_=StandardScaler(), threshold=.5):\n",
    "        \n",
    "        if feature_!=None: \n",
    "            X_train_ = X_train_[feature_]\n",
    "            X_test_  = X_test_[feature_]\n",
    "\n",
    "        #--------------------------------------------------------  \n",
    "        # Scorpo de variáveis\n",
    "        #--------------------------------------------------------\n",
    "\n",
    "        time_pred_start    = datetime.now()\n",
    "        preds_valid_f      = {}\n",
    "        preds_test         = []\n",
    "        total_auc          = []\n",
    "        f_scores           = []\n",
    "        auc_mean           = []\n",
    "        f1_mean            = []\n",
    "        lloss_mean         = []\n",
    "        preds_test_prob    = 0    \n",
    "        df_score_history   = pd.DataFrame()\n",
    "        df_train_pred_fold = pd.DataFrame()\n",
    "        random             = str(np.random.rand(1)[0]).replace('.','')\n",
    "        model_name_        = model_name_ + '_score_{:2.5f}_{}_' + random + '.pkl.z'\n",
    "        clf_name           = model_.__class__.__name__\n",
    "        pri_result         = 92\n",
    "\n",
    "        #--------------------------------------------------------  \n",
    "        # Início do process de varilidação\n",
    "        #--------------------------------------------------------\n",
    "        have_observation=''\n",
    "\n",
    "        #if dropout_>0: \n",
    "        #    is_dropout='*'\n",
    "\n",
    "        if print_result_:            \n",
    "            n_estimators = model_.get_params()['n_estimators'] \n",
    "            max_depth    = model_.get_params()['max_depth']    \n",
    "            max_samples  = model_.get_params()['max_samples'] \n",
    "            msg          = 'Training model: {} - seed {} - n_estimators: {} - max_depth: {} '\n",
    "\n",
    "            print('='*pri_result)            \n",
    "            print(msg.format(clf_name, seed_, n_estimators, max_depth, ))\n",
    "            print('='*pri_result)\n",
    "\n",
    "        kf = StratifiedKFold(n_splits=fold_, random_state=seed_, shuffle=True)\n",
    "\n",
    "        for fold,(idx_train, idx_val) in enumerate(kf.split(X_train_, y_train_, groups=y_train_)):\n",
    "\n",
    "            time_fold_start = datetime.now()\n",
    "\n",
    "            #--------------------------------------------------------  \n",
    "            # Seleção dos dados\n",
    "            #--------------------------------------------------------\n",
    "            X_trn, X_val = X_train_.iloc[idx_train], X_train_.iloc[idx_val]\n",
    "            y_trn, y_val = y_train_.iloc[idx_train], y_train_.iloc[idx_val]\n",
    "            index_valid  = X_val.index.tolist() \n",
    "\n",
    "            #--------------------------------------------------------  \n",
    "            # Processamento\n",
    "            #--------------------------------------------------------        \n",
    "            X_trn = TunningModels.feature_scaler(X_trn, scaler_, feature_bin_) \n",
    "            X_val = TunningModels.feature_scaler(X_val, scaler_, feature_bin_) \n",
    "\n",
    "            #--------------------------------------------------------  \n",
    "            # Modelo\n",
    "            #--------------------------------------------------------\n",
    "            model = model_.fit(X_trn, y_trn)\n",
    "\n",
    "            #--------------------------------------------------------  \n",
    "            # oof\n",
    "            #--------------------------------------------------------\n",
    "            preds_valid_proba  = model.predict_proba(X_val)[:, 1]\n",
    "            y_pred_valid       = (preds_valid_proba>.5).astype(int)\n",
    "\n",
    "            #--------------------------------------------------------  \n",
    "            # Obtenha os valores médios de cada fold para a previsão\n",
    "            #--------------------------------------------------------        \n",
    "            preds_test_prob += model.predict_proba(X_test_)[:, 1] / fold_\n",
    "\n",
    "            #--------------------------------------------------------  \n",
    "            # Métricas \n",
    "            #--------------------------------------------------------\n",
    "            auc   = metrics.roc_auc_score(y_val, y_pred_valid)\n",
    "            f1    = metrics.f1_score(y_val, y_pred_valid)\n",
    "            lloss = metrics.log_loss(y_val, preds_valid_proba) \n",
    "\n",
    "            #--------------------------------------------------------  \n",
    "            # Concatenar validação e predição\n",
    "            #--------------------------------------------------------        \n",
    "            df_val_pred_fold = pd.DataFrame({'fold'     : fold+1,\n",
    "                                            'index'    : index_valid, \n",
    "                                            'auc'      : auc, \n",
    "                                            'f1'       : f1,\n",
    "                                            'lloss'    : lloss,\n",
    "                                            'pred_val' : preds_valid_proba, \n",
    "                                            'target'   : y_val})\n",
    "\n",
    "            df_train_pred_fold = pd.concat([df_train_pred_fold, df_val_pred_fold], axis=0)\n",
    "\n",
    "            auc_mean.append(auc)   \n",
    "            f1_mean.append(f1)    \n",
    "            lloss_mean.append(lloss) \n",
    "\n",
    "            #--------------------------------------------------------  \n",
    "            # Print resultado Fold\n",
    "            #--------------------------------------------------------\n",
    "            if print_result_:\n",
    "                msg = 'Fold: {} - AUC: {:2.5f} - F1-score: {:2.5f} - L.Loss: {:2.5f} - {}'\n",
    "                time_fold_start_end = TunningModels.diff(time_fold_start, datetime.now())\n",
    "                print(msg.format(fold+1, auc, f1, lloss, time_fold_start_end))\n",
    "\n",
    "            free_gpu_cache() \n",
    "\n",
    "        del X_trn, y_trn, X_val, y_val\n",
    "\n",
    "        #--------------------------------------------------------  \n",
    "        # Salvar predição em disco\n",
    "        #--------------------------------------------------------\n",
    "        df_train_pred_fold.sort_values(\"index\", axis=0, ascending=True, inplace=True)\n",
    "        \n",
    "        X_train_prob      = df_train_pred_fold['pred_val'].to_list()\n",
    "        score             = np.mean(auc_mean)\n",
    "        y_pred_test_prob_ = preds_test_prob \n",
    "\n",
    "        if save_predict_:\n",
    "            TunningModels.save_data_model(model_             = model_, \n",
    "                                            model_name_        = model_name_, \n",
    "                                            path_              = path_, \n",
    "                                            y_pred_train_prob_ = X_train_prob, \n",
    "                                            y_pred_test_prob_  = y_pred_test_prob_, \n",
    "                                            score_             = score, \n",
    "                                            seed_              = seed_, \n",
    "                                            level_             = level_, \n",
    "                                            target_            = target_\n",
    "                                            )  \n",
    "\n",
    "        #--------------------------------------------------------  \n",
    "        # Print média dos Folds\n",
    "        #--------------------------------------------------------\n",
    "        time_pred_end = TunningModels.diff(time_pred_start, datetime.now())\n",
    "\n",
    "        if print_result_:\n",
    "            msg = '[Mean Fold]  AUC: {:.5f}(Std:{:.5f}) - F1: {:.5f} - L. Loss: {:.5f}  {}'        \n",
    "            print('-'*pri_result)            \n",
    "            print(msg.format(np.mean(auc_mean),np.std(auc_mean) , np.mean(f1_mean), np.mean(lloss_mean), time_pred_end))\n",
    "            print('='*pri_result)\n",
    "            print()\n",
    "\n",
    "        free_gpu_cache() \n",
    "\n",
    "        return model, score, y_pred_test_prob_, df_train_pred_fold\n",
    "        \n",
    "    def rf(self, trial):\n",
    "        \n",
    "        params = {'criterion'         : trial.suggest_categorical('criterion', ['gini','entropy']), \n",
    "                  'n_estimators'      : trial.suggest_int('n_estimators', 100, 1000),\n",
    "                  'max_depth'         : trial.suggest_int('max_depth', 2, 9),                     \n",
    "                  'max_samples'       : trial.suggest_float('max_samples', 0.65, 0.95),     \n",
    "                  'bootstrap'         : trial.suggest_categorical('bootstrap', ['True','True']),                   \n",
    "                  'random_state'      : trial.suggest_int('random_state', self.seed, self.seed),\n",
    "                  'n_jobs'            : trial.suggest_int('n_jobs', -1, -1),\n",
    "                  }\n",
    "    \n",
    "    \n",
    "        # Add a callback for pruning.\n",
    "        #pruning_callback = optuna.integration.XGBoostPruningCallback(trial, \"validation-auc\")\n",
    "        #bst = xgb.train(param, dtrain, evals=[(dvalid, \"validation\")], callbacks=[pruning_callback])\n",
    "        #preds = bst.predict(dvalid)\n",
    "\n",
    "        mdl = RandomForestClassifier (**params)\n",
    "        \n",
    "        _, score, _, _  = TunningModels.cross_valid(model_         = mdl, \n",
    "                                                    model_name_    = self.name_clf, \n",
    "                                                    X_train_       = self.X_trn, \n",
    "                                                    y_train_       = self.y_trn, \n",
    "                                                    X_test_        = self.X_ts,            \n",
    "                                                    target_        = self.target,\n",
    "                                                    path_          = self.path,\n",
    "                                                    level_         = self.level,            \n",
    "                                                    seed_          = self.seed,\n",
    "                                                    feature_       = self.feature, \n",
    "                                                    feature_bin_   = self.feature_bin,\n",
    "                                                    scaler_        = self.scaler, \n",
    "                                                    save_predict_  = self.save_predict\n",
    "                                                    )\n",
    "        \n",
    "        print('param = {}'.format(params))\n",
    "        print()\n",
    "\n",
    "        return score"
   ]
  },
  {
   "cell_type": "markdown",
   "metadata": {
    "id": "RDUypJOfi345"
   },
   "source": [
    "## 4.2. Seleção do Scaler"
   ]
  },
  {
   "cell_type": "code",
   "execution_count": 26,
   "metadata": {
    "ExecuteTime": {
     "end_time": "2021-11-28T02:52:49.657790Z",
     "start_time": "2021-11-28T02:52:49.285755Z"
    },
    "executionInfo": {
     "elapsed": 2,
     "status": "ok",
     "timestamp": 1638052814226,
     "user": {
      "displayName": "Rogério Delfim",
      "photoUrl": "https://lh3.googleusercontent.com/a-/AOh14Gj8lDYWTfZHU0U0sMojRPio71Ec7YDcSEpCaOEE=s64",
      "userId": "04235763959036945343"
     },
     "user_tz": 180
    },
    "id": "G1FuoNZEX0de"
   },
   "outputs": [],
   "source": [
    "feature_int      = X_test.filter(regex=r'f[0-9]').columns.to_list()\n",
    "feature_cluster  = X_test.filter(regex=r'fe_clu').columns.to_list()\n",
    "feature_static   = X_test.filter(regex=r'fe_[m-s]').columns.to_list()\n",
    "feature_         = X[feature_int + feature_static].columns.to_list()"
   ]
  },
  {
   "cell_type": "code",
   "execution_count": 92,
   "metadata": {
    "ExecuteTime": {
     "end_time": "2021-11-28T03:44:24.006639Z",
     "start_time": "2021-11-28T03:44:23.991646Z"
    }
   },
   "outputs": [],
   "source": [
    "TunningModels.delete_files(name_model)"
   ]
  },
  {
   "cell_type": "code",
   "execution_count": 116,
   "metadata": {
    "ExecuteTime": {
     "end_time": "2021-11-28T04:36:44.803023Z",
     "start_time": "2021-11-28T04:19:44.240184Z"
    },
    "colab": {
     "base_uri": "https://localhost:8080/"
    },
    "id": "mdOnxd5jX0dg",
    "outputId": "a9b57954-de4d-4f77-b492-a868c3062914",
    "scrolled": false
   },
   "outputs": [
    {
     "name": "stdout",
     "output_type": "stream",
     "text": [
      "None\n",
      "============================================================================================\n",
      "Training model: RandomForestClassifier - seed 12359 - n_estimators: 100 - max_depth: 4 \n",
      "============================================================================================\n",
      "Fold: 1 - AUC: 0.63989 - F1-score: 0.66141 - L.Loss: 0.67159 - 0h 0m 29s\n",
      "Fold: 2 - AUC: 0.64361 - F1-score: 0.66592 - L.Loss: 0.67133 - 0h 0m 27s\n",
      "Fold: 3 - AUC: 0.64691 - F1-score: 0.67013 - L.Loss: 0.67085 - 0h 0m 27s\n",
      "Fold: 4 - AUC: 0.64581 - F1-score: 0.66799 - L.Loss: 0.67098 - 0h 0m 27s\n",
      "Fold: 5 - AUC: 0.64326 - F1-score: 0.66685 - L.Loss: 0.67116 - 0h 0m 28s\n",
      "--------------------------------------------------------------------------------------------\n",
      "[Mean Fold]  AUC: 0.64389(Std:0.00242) - F1: 0.66646 - L. Loss: 0.67118  0h 2m 20s\n",
      "============================================================================================\n",
      "\n",
      "StandardScaler()\n",
      "============================================================================================\n",
      "Training model: RandomForestClassifier - seed 12359 - n_estimators: 100 - max_depth: 4 \n",
      "============================================================================================\n",
      "Fold: 1 - AUC: 0.63968 - F1-score: 0.66182 - L.Loss: 0.67159 - 0h 0m 28s\n",
      "Fold: 2 - AUC: 0.64349 - F1-score: 0.66551 - L.Loss: 0.67133 - 0h 0m 27s\n",
      "Fold: 3 - AUC: 0.64707 - F1-score: 0.66981 - L.Loss: 0.67085 - 0h 0m 28s\n",
      "Fold: 4 - AUC: 0.64594 - F1-score: 0.66824 - L.Loss: 0.67098 - 0h 0m 28s\n",
      "Fold: 5 - AUC: 0.64358 - F1-score: 0.66707 - L.Loss: 0.67116 - 0h 0m 28s\n",
      "--------------------------------------------------------------------------------------------\n",
      "[Mean Fold]  AUC: 0.64395(Std:0.00254) - F1: 0.66649 - L. Loss: 0.67118  0h 2m 22s\n",
      "============================================================================================\n",
      "\n",
      "RobustScaler()\n",
      "============================================================================================\n",
      "Training model: RandomForestClassifier - seed 12359 - n_estimators: 100 - max_depth: 4 \n",
      "============================================================================================\n",
      "Fold: 1 - AUC: 0.63953 - F1-score: 0.66186 - L.Loss: 0.67158 - 0h 0m 50s\n",
      "Fold: 2 - AUC: 0.64338 - F1-score: 0.66547 - L.Loss: 0.67134 - 0h 0m 30s\n",
      "Fold: 3 - AUC: 0.64731 - F1-score: 0.66987 - L.Loss: 0.67085 - 0h 0m 30s\n",
      "Fold: 4 - AUC: 0.64603 - F1-score: 0.66852 - L.Loss: 0.67098 - 0h 0m 30s\n",
      "Fold: 5 - AUC: 0.64364 - F1-score: 0.66692 - L.Loss: 0.67116 - 0h 0m 30s\n",
      "--------------------------------------------------------------------------------------------\n",
      "[Mean Fold]  AUC: 0.64398(Std:0.00267) - F1: 0.66653 - L. Loss: 0.67118  0h 2m 54s\n",
      "============================================================================================\n",
      "\n",
      "MinMaxScaler()\n",
      "============================================================================================\n",
      "Training model: RandomForestClassifier - seed 12359 - n_estimators: 100 - max_depth: 4 \n",
      "============================================================================================\n",
      "Fold: 1 - AUC: 0.63731 - F1-score: 0.66608 - L.Loss: 0.67197 - 0h 0m 25s\n",
      "Fold: 2 - AUC: 0.64205 - F1-score: 0.63745 - L.Loss: 0.67160 - 0h 0m 27s\n",
      "Fold: 3 - AUC: 0.63474 - F1-score: 0.59697 - L.Loss: 0.67326 - 0h 0m 27s\n",
      "Fold: 4 - AUC: 0.63242 - F1-score: 0.59086 - L.Loss: 0.67352 - 0h 0m 27s\n",
      "Fold: 5 - AUC: 0.62445 - F1-score: 0.68624 - L.Loss: 0.67250 - 0h 0m 27s\n",
      "--------------------------------------------------------------------------------------------\n",
      "[Mean Fold]  AUC: 0.63420(Std:0.00583) - F1: 0.63552 - L. Loss: 0.67257  0h 2m 16s\n",
      "============================================================================================\n",
      "\n",
      "MaxAbsScaler()\n",
      "============================================================================================\n",
      "Training model: RandomForestClassifier - seed 12359 - n_estimators: 100 - max_depth: 4 \n",
      "============================================================================================\n",
      "Fold: 1 - AUC: 0.63949 - F1-score: 0.66318 - L.Loss: 0.67160 - 0h 0m 29s\n",
      "Fold: 2 - AUC: 0.64483 - F1-score: 0.66224 - L.Loss: 0.67134 - 0h 0m 31s\n",
      "Fold: 3 - AUC: 0.64649 - F1-score: 0.67050 - L.Loss: 0.67086 - 0h 0m 38s\n",
      "Fold: 4 - AUC: 0.64559 - F1-score: 0.66800 - L.Loss: 0.67104 - 0h 0m 27s\n",
      "Fold: 5 - AUC: 0.64346 - F1-score: 0.66972 - L.Loss: 0.67121 - 0h 0m 29s\n",
      "--------------------------------------------------------------------------------------------\n",
      "[Mean Fold]  AUC: 0.64397(Std:0.00245) - F1: 0.66673 - L. Loss: 0.67121  0h 2m 38s\n",
      "============================================================================================\n",
      "\n",
      "QuantileTransformer(output_distribution='normal', random_state=12359)\n",
      "============================================================================================\n",
      "Training model: RandomForestClassifier - seed 12359 - n_estimators: 100 - max_depth: 4 \n",
      "============================================================================================\n",
      "Fold: 1 - AUC: 0.63971 - F1-score: 0.66196 - L.Loss: 0.67162 - 0h 0m 47s\n",
      "Fold: 2 - AUC: 0.64345 - F1-score: 0.66501 - L.Loss: 0.67134 - 0h 0m 46s\n",
      "Fold: 3 - AUC: 0.64706 - F1-score: 0.66930 - L.Loss: 0.67084 - 0h 0m 47s\n",
      "Fold: 4 - AUC: 0.64595 - F1-score: 0.66793 - L.Loss: 0.67097 - 0h 0m 47s\n",
      "Fold: 5 - AUC: 0.64355 - F1-score: 0.66731 - L.Loss: 0.67118 - 0h 0m 46s\n",
      "--------------------------------------------------------------------------------------------\n",
      "[Mean Fold]  AUC: 0.64394(Std:0.00253) - F1: 0.66630 - L. Loss: 0.67119  0h 3m 56s\n",
      "============================================================================================\n",
      "\n",
      "\n",
      "Scaler best: RobustScaler()\n",
      "Score      : 0.64398\n",
      "\n",
      "Wall time: 17min\n"
     ]
    }
   ],
   "source": [
    "%%time \n",
    "\n",
    "SEED   = 12359  \n",
    "params = {'criterion'         : 'gini', \n",
    "          'n_estimators'      : 100,      # [20,]\n",
    "          'max_depth'         : 4,        # [2,8]           \n",
    "          'bootstrap'         : 'True',\n",
    "          'max_samples'       : 0.5,     #   [.5, .75 ]                             \n",
    "          'random_state'      : SEED,\n",
    "          'n_jobs'            : -1,\n",
    "          }\n",
    "\n",
    "\n",
    "scalers = [None, \n",
    "           StandardScaler(), \n",
    "           RobustScaler(), \n",
    "           MinMaxScaler(), \n",
    "           MaxAbsScaler(), \n",
    "           QuantileTransformer(output_distribution='normal', random_state=SEED)\n",
    "           ]\n",
    "\n",
    "score_best     = 0 \n",
    "name_model_clf = 'rf' \n",
    "name_model     = name_model_clf + '001_scaler_' \n",
    "\n",
    "TunningModels.delete_files(name_model)\n",
    "\n",
    "for scaler in scalers: \n",
    "    \n",
    "    print(scaler)\n",
    "     \n",
    "    X_test_scaler = TunningModels.feature_scaler(df_          = X_test.copy(), \n",
    "                                                 scaler_      = scaler, \n",
    "                                                 feature_bin_ = None)\n",
    "    \n",
    "    mdl      = RandomForestClassifier (**params)\n",
    "    name_mdl = name_model + str(scaler).lower()[:4]\n",
    "    \n",
    "    model, score, _, _  = TunningModels.cross_valid(model_         = mdl,\n",
    "                                                    model_name_    = name_mdl, \n",
    "                                                    X_train_       = X, \n",
    "                                                    y_train_       = y, \n",
    "                                                    X_test_        = X_test_scaler, \n",
    "                                                    fold_          = 5, \n",
    "                                                    target_        = 'target',\n",
    "                                                    path_          = path,\n",
    "                                                    level_         = '1',\n",
    "                                                    save_predict_  = False, \n",
    "                                                    print_result_  = True,\n",
    "                                                    seed_          = SEED,\n",
    "                                                    feature_       = feature_, \n",
    "                                                    feature_bin_   = None, \n",
    "                                                    scaler_        = scaler, \n",
    "                                                    threshold      =.5                                                      \n",
    "                                                    )\n",
    "    \n",
    "    if score > score_best: \n",
    "        score_best  = score\n",
    "        scaler_best = scaler\n",
    "  \n",
    "\n",
    "print()\n",
    "print('Scaler best: {}'.format(scaler_best))\n",
    "print('Score      : {:2.5f}'.format(score_best))\n",
    "print()"
   ]
  },
  {
   "cell_type": "markdown",
   "metadata": {
    "id": "gQ6DBwBLi34z"
   },
   "source": [
    "#  <div class=\"alert alert-success\"> 1.  TUNNING </div>"
   ]
  },
  {
   "cell_type": "markdown",
   "metadata": {
    "id": "S5fsZ-O5i345"
   },
   "source": [
    "### 1.2.1. Tunning \n",
    "Nesta etapa de modelagem, vamos criar 20 modelos e salvá-los para a nossa `Stacking`."
   ]
  },
  {
   "cell_type": "code",
   "execution_count": 117,
   "metadata": {
    "ExecuteTime": {
     "end_time": "2021-11-29T02:13:46.541762Z",
     "start_time": "2021-11-28T04:36:44.805026Z"
    },
    "colab": {
     "base_uri": "https://localhost:8080/",
     "height": 888
    },
    "executionInfo": {
     "elapsed": 1089048,
     "status": "error",
     "timestamp": 1638057557730,
     "user": {
      "displayName": "Rogério Delfim",
      "photoUrl": "https://lh3.googleusercontent.com/a-/AOh14Gj8lDYWTfZHU0U0sMojRPio71Ec7YDcSEpCaOEE=s64",
      "userId": "04235763959036945343"
     },
     "user_tz": 180
    },
    "id": "-yNlljM6i345",
    "outputId": "13828fc4-b7b5-4476-80ed-3dda568b0800",
    "scrolled": false
   },
   "outputs": [
    {
     "name": "stdout",
     "output_type": "stream",
     "text": [
      "============================================================================================\n",
      "Training model: RandomForestClassifier - seed 12359 - n_estimators: 429 - max_depth: 8 \n",
      "============================================================================================\n",
      "Fold: 1 - AUC: 0.65592 - F1-score: 0.67117 - L.Loss: 0.65630 - 0h 5m 52s\n",
      "Fold: 2 - AUC: 0.66005 - F1-score: 0.67429 - L.Loss: 0.65580 - 0h 5m 47s\n",
      "Fold: 3 - AUC: 0.66400 - F1-score: 0.67838 - L.Loss: 0.65489 - 0h 5m 47s\n",
      "Fold: 4 - AUC: 0.66248 - F1-score: 0.67700 - L.Loss: 0.65515 - 0h 5m 37s\n",
      "Fold: 5 - AUC: 0.66164 - F1-score: 0.67577 - L.Loss: 0.65543 - 0h 4m 57s\n",
      "--------------------------------------------------------------------------------------------\n",
      "[Mean Fold]  AUC: 0.66082(Std:0.00276) - F1: 0.67532 - L. Loss: 0.65551  0h 28m 4s\n",
      "============================================================================================\n",
      "\n",
      "param = {'criterion': 'gini', 'n_estimators': 429, 'max_depth': 8, 'max_samples': 0.8335685304500571, 'bootstrap': 'True', 'random_state': 12359, 'n_jobs': -1}\n",
      "\n",
      "============================================================================================\n",
      "Training model: RandomForestClassifier - seed 12359 - n_estimators: 474 - max_depth: 8 \n",
      "============================================================================================\n",
      "Fold: 1 - AUC: 0.65541 - F1-score: 0.67035 - L.Loss: 0.65634 - 0h 6m 13s\n",
      "Fold: 2 - AUC: 0.65975 - F1-score: 0.67436 - L.Loss: 0.65591 - 0h 6m 12s\n",
      "Fold: 3 - AUC: 0.66380 - F1-score: 0.67835 - L.Loss: 0.65498 - 0h 6m 33s\n",
      "Fold: 4 - AUC: 0.66196 - F1-score: 0.67661 - L.Loss: 0.65521 - 0h 6m 14s\n",
      "Fold: 5 - AUC: 0.65975 - F1-score: 0.67454 - L.Loss: 0.65551 - 0h 6m 19s\n",
      "--------------------------------------------------------------------------------------------\n",
      "[Mean Fold]  AUC: 0.66013(Std:0.00281) - F1: 0.67484 - L. Loss: 0.65559  0h 31m 34s\n",
      "============================================================================================\n",
      "\n",
      "param = {'criterion': 'entropy', 'n_estimators': 474, 'max_depth': 8, 'max_samples': 0.846871159857764, 'bootstrap': 'True', 'random_state': 12359, 'n_jobs': -1}\n",
      "\n",
      "============================================================================================\n",
      "Training model: RandomForestClassifier - seed 12359 - n_estimators: 146 - max_depth: 4 \n",
      "============================================================================================\n",
      "Fold: 1 - AUC: 0.63854 - F1-score: 0.66216 - L.Loss: 0.67199 - 0h 0m 56s\n",
      "Fold: 2 - AUC: 0.64243 - F1-score: 0.66475 - L.Loss: 0.67157 - 0h 0m 50s\n",
      "Fold: 3 - AUC: 0.64631 - F1-score: 0.66942 - L.Loss: 0.67121 - 0h 0m 50s\n",
      "Fold: 4 - AUC: 0.64478 - F1-score: 0.66761 - L.Loss: 0.67126 - 0h 0m 52s\n",
      "Fold: 5 - AUC: 0.64182 - F1-score: 0.66504 - L.Loss: 0.67152 - 0h 0m 54s\n",
      "--------------------------------------------------------------------------------------------\n",
      "[Mean Fold]  AUC: 0.64278(Std:0.00266) - F1: 0.66580 - L. Loss: 0.67151  0h 4m 24s\n",
      "============================================================================================\n",
      "\n",
      "param = {'criterion': 'gini', 'n_estimators': 146, 'max_depth': 4, 'max_samples': 0.9036602876322136, 'bootstrap': 'True', 'random_state': 12359, 'n_jobs': -1}\n",
      "\n",
      "============================================================================================\n",
      "Training model: RandomForestClassifier - seed 12359 - n_estimators: 414 - max_depth: 9 \n",
      "============================================================================================\n",
      "Fold: 1 - AUC: 0.65895 - F1-score: 0.67294 - L.Loss: 0.65305 - 0h 6m 3s\n",
      "Fold: 2 - AUC: 0.66249 - F1-score: 0.67587 - L.Loss: 0.65256 - 0h 6m 3s\n",
      "Fold: 3 - AUC: 0.66718 - F1-score: 0.68083 - L.Loss: 0.65168 - 0h 6m 2s\n",
      "Fold: 4 - AUC: 0.66597 - F1-score: 0.67915 - L.Loss: 0.65179 - 0h 6m 24s\n",
      "Fold: 5 - AUC: 0.66463 - F1-score: 0.67799 - L.Loss: 0.65207 - 0h 5m 55s\n",
      "--------------------------------------------------------------------------------------------\n",
      "[Mean Fold]  AUC: 0.66384(Std:0.00290) - F1: 0.67735 - L. Loss: 0.65223  0h 30m 30s\n",
      "============================================================================================\n",
      "\n",
      "param = {'criterion': 'entropy', 'n_estimators': 414, 'max_depth': 9, 'max_samples': 0.7974468353008204, 'bootstrap': 'True', 'random_state': 12359, 'n_jobs': -1}\n",
      "\n",
      "============================================================================================\n",
      "Training model: RandomForestClassifier - seed 12359 - n_estimators: 505 - max_depth: 7 \n",
      "============================================================================================\n",
      "Fold: 1 - AUC: 0.65138 - F1-score: 0.66801 - L.Loss: 0.66002 - 0h 5m 29s\n",
      "Fold: 2 - AUC: 0.65545 - F1-score: 0.67137 - L.Loss: 0.65942 - 0h 5m 48s\n",
      "Fold: 3 - AUC: 0.65994 - F1-score: 0.67594 - L.Loss: 0.65863 - 0h 5m 53s\n",
      "Fold: 4 - AUC: 0.65816 - F1-score: 0.67429 - L.Loss: 0.65887 - 0h 6m 6s\n",
      "Fold: 5 - AUC: 0.65603 - F1-score: 0.67247 - L.Loss: 0.65922 - 0h 5m 35s\n",
      "--------------------------------------------------------------------------------------------\n",
      "[Mean Fold]  AUC: 0.65619(Std:0.00289) - F1: 0.67242 - L. Loss: 0.65923  0h 28m 55s\n",
      "============================================================================================\n",
      "\n",
      "param = {'criterion': 'entropy', 'n_estimators': 505, 'max_depth': 7, 'max_samples': 0.8959408924322944, 'bootstrap': 'True', 'random_state': 12359, 'n_jobs': -1}\n",
      "\n",
      "============================================================================================\n",
      "Training model: RandomForestClassifier - seed 12359 - n_estimators: 914 - max_depth: 7 \n",
      "============================================================================================\n",
      "Fold: 1 - AUC: 0.65184 - F1-score: 0.66864 - L.Loss: 0.65995 - 0h 8m 48s\n",
      "Fold: 2 - AUC: 0.65642 - F1-score: 0.67252 - L.Loss: 0.65948 - 0h 8m 38s\n",
      "Fold: 3 - AUC: 0.66091 - F1-score: 0.67689 - L.Loss: 0.65867 - 0h 9m 6s\n",
      "Fold: 4 - AUC: 0.65909 - F1-score: 0.67524 - L.Loss: 0.65880 - 0h 8m 47s\n",
      "Fold: 5 - AUC: 0.65707 - F1-score: 0.67367 - L.Loss: 0.65918 - 0h 8m 43s\n",
      "--------------------------------------------------------------------------------------------\n",
      "[Mean Fold]  AUC: 0.65707(Std:0.00305) - F1: 0.67339 - L. Loss: 0.65922  0h 44m 5s\n",
      "============================================================================================\n",
      "\n",
      "param = {'criterion': 'gini', 'n_estimators': 914, 'max_depth': 7, 'max_samples': 0.8389566847737745, 'bootstrap': 'True', 'random_state': 12359, 'n_jobs': -1}\n",
      "\n",
      "============================================================================================\n",
      "Training model: RandomForestClassifier - seed 12359 - n_estimators: 842 - max_depth: 8 \n",
      "============================================================================================\n",
      "Fold: 1 - AUC: 0.65619 - F1-score: 0.67151 - L.Loss: 0.65638 - 0h 9m 36s\n",
      "Fold: 2 - AUC: 0.66115 - F1-score: 0.67553 - L.Loss: 0.65588 - 0h 9m 23s\n",
      "Fold: 3 - AUC: 0.66375 - F1-score: 0.67824 - L.Loss: 0.65491 - 0h 9m 33s\n",
      "Fold: 4 - AUC: 0.66282 - F1-score: 0.67733 - L.Loss: 0.65521 - 0h 9m 17s\n",
      "Fold: 5 - AUC: 0.66071 - F1-score: 0.67547 - L.Loss: 0.65549 - 0h 9m 23s\n",
      "--------------------------------------------------------------------------------------------\n",
      "[Mean Fold]  AUC: 0.66092(Std:0.00261) - F1: 0.67562 - L. Loss: 0.65558  0h 47m 14s\n",
      "============================================================================================\n",
      "\n",
      "param = {'criterion': 'gini', 'n_estimators': 842, 'max_depth': 8, 'max_samples': 0.8817689401428531, 'bootstrap': 'True', 'random_state': 12359, 'n_jobs': -1}\n",
      "\n",
      "============================================================================================\n",
      "Training model: RandomForestClassifier - seed 12359 - n_estimators: 333 - max_depth: 6 \n",
      "============================================================================================\n",
      "Fold: 1 - AUC: 0.64710 - F1-score: 0.66566 - L.Loss: 0.66364 - 0h 2m 51s\n",
      "Fold: 2 - AUC: 0.65257 - F1-score: 0.67038 - L.Loss: 0.66327 - 0h 2m 55s\n",
      "Fold: 3 - AUC: 0.65566 - F1-score: 0.67362 - L.Loss: 0.66250 - 0h 2m 56s\n",
      "Fold: 4 - AUC: 0.65346 - F1-score: 0.67175 - L.Loss: 0.66274 - 0h 2m 56s\n",
      "Fold: 5 - AUC: 0.65102 - F1-score: 0.66933 - L.Loss: 0.66298 - 0h 3m 1s\n",
      "--------------------------------------------------------------------------------------------\n",
      "[Mean Fold]  AUC: 0.65196(Std:0.00286) - F1: 0.67015 - L. Loss: 0.66302  0h 14m 43s\n",
      "============================================================================================\n",
      "\n",
      "param = {'criterion': 'gini', 'n_estimators': 333, 'max_depth': 6, 'max_samples': 0.9310233966909693, 'bootstrap': 'True', 'random_state': 12359, 'n_jobs': -1}\n",
      "\n"
     ]
    },
    {
     "name": "stdout",
     "output_type": "stream",
     "text": [
      "============================================================================================\n",
      "Training model: RandomForestClassifier - seed 12359 - n_estimators: 277 - max_depth: 2 \n",
      "============================================================================================\n",
      "Fold: 1 - AUC: 0.62567 - F1-score: 0.66694 - L.Loss: 0.68145 - 0h 0m 46s\n",
      "Fold: 2 - AUC: 0.63073 - F1-score: 0.67103 - L.Loss: 0.68131 - 0h 0m 47s\n",
      "Fold: 3 - AUC: 0.63204 - F1-score: 0.67227 - L.Loss: 0.68102 - 0h 0m 47s\n",
      "Fold: 4 - AUC: 0.63229 - F1-score: 0.67273 - L.Loss: 0.68107 - 0h 0m 47s\n",
      "Fold: 5 - AUC: 0.62867 - F1-score: 0.66943 - L.Loss: 0.68120 - 0h 0m 47s\n",
      "--------------------------------------------------------------------------------------------\n",
      "[Mean Fold]  AUC: 0.62988(Std:0.00247) - F1: 0.67048 - L. Loss: 0.68121  0h 3m 56s\n",
      "============================================================================================\n",
      "\n",
      "param = {'criterion': 'entropy', 'n_estimators': 277, 'max_depth': 2, 'max_samples': 0.7561587558513225, 'bootstrap': 'True', 'random_state': 12359, 'n_jobs': -1}\n",
      "\n",
      "============================================================================================\n",
      "Training model: RandomForestClassifier - seed 12359 - n_estimators: 468 - max_depth: 8 \n",
      "============================================================================================\n",
      "Fold: 1 - AUC: 0.65657 - F1-score: 0.67147 - L.Loss: 0.65631 - 0h 4m 56s\n",
      "Fold: 2 - AUC: 0.66030 - F1-score: 0.67470 - L.Loss: 0.65576 - 0h 4m 57s\n",
      "Fold: 3 - AUC: 0.66323 - F1-score: 0.67784 - L.Loss: 0.65491 - 0h 5m 4s\n",
      "Fold: 4 - AUC: 0.66228 - F1-score: 0.67683 - L.Loss: 0.65517 - 0h 4m 58s\n",
      "Fold: 5 - AUC: 0.66108 - F1-score: 0.67579 - L.Loss: 0.65545 - 0h 5m 7s\n",
      "--------------------------------------------------------------------------------------------\n",
      "[Mean Fold]  AUC: 0.66069(Std:0.00229) - F1: 0.67532 - L. Loss: 0.65552  0h 25m 4s\n",
      "============================================================================================\n",
      "\n",
      "param = {'criterion': 'gini', 'n_estimators': 468, 'max_depth': 8, 'max_samples': 0.8037141232641825, 'bootstrap': 'True', 'random_state': 12359, 'n_jobs': -1}\n",
      "\n",
      "============================================================================================\n",
      "Training model: RandomForestClassifier - seed 12359 - n_estimators: 696 - max_depth: 4 \n",
      "============================================================================================\n",
      "Fold: 1 - AUC: 0.63946 - F1-score: 0.66372 - L.Loss: 0.67203 - 0h 3m 34s\n",
      "Fold: 2 - AUC: 0.64426 - F1-score: 0.66830 - L.Loss: 0.67167 - 0h 3m 35s\n",
      "Fold: 3 - AUC: 0.64810 - F1-score: 0.67168 - L.Loss: 0.67120 - 0h 3m 51s\n",
      "Fold: 4 - AUC: 0.64556 - F1-score: 0.66955 - L.Loss: 0.67135 - 0h 3m 53s\n",
      "Fold: 5 - AUC: 0.64424 - F1-score: 0.66838 - L.Loss: 0.67152 - 0h 3m 33s\n",
      "--------------------------------------------------------------------------------------------\n",
      "[Mean Fold]  AUC: 0.64432(Std:0.00281) - F1: 0.66833 - L. Loss: 0.67155  0h 18m 29s\n",
      "============================================================================================\n",
      "\n",
      "param = {'criterion': 'entropy', 'n_estimators': 696, 'max_depth': 4, 'max_samples': 0.7500123976620934, 'bootstrap': 'True', 'random_state': 12359, 'n_jobs': -1}\n",
      "\n",
      "============================================================================================\n",
      "Training model: RandomForestClassifier - seed 12359 - n_estimators: 729 - max_depth: 9 \n",
      "============================================================================================\n",
      "Fold: 1 - AUC: 0.66001 - F1-score: 0.67429 - L.Loss: 0.65318 - 0h 10m 0s\n",
      "Fold: 2 - AUC: 0.66385 - F1-score: 0.67743 - L.Loss: 0.65257 - 0h 10m 16s\n",
      "Fold: 3 - AUC: 0.66713 - F1-score: 0.68043 - L.Loss: 0.65160 - 0h 9m 55s\n",
      "Fold: 4 - AUC: 0.66685 - F1-score: 0.68031 - L.Loss: 0.65175 - 0h 10m 6s\n",
      "Fold: 5 - AUC: 0.66496 - F1-score: 0.67859 - L.Loss: 0.65215 - 0h 10m 5s\n",
      "--------------------------------------------------------------------------------------------\n",
      "[Mean Fold]  AUC: 0.66456(Std:0.00258) - F1: 0.67821 - L. Loss: 0.65225  0h 50m 25s\n",
      "============================================================================================\n",
      "\n",
      "param = {'criterion': 'entropy', 'n_estimators': 729, 'max_depth': 9, 'max_samples': 0.7953964778886542, 'bootstrap': 'True', 'random_state': 12359, 'n_jobs': -1}\n",
      "\n",
      "============================================================================================\n",
      "Training model: RandomForestClassifier - seed 12359 - n_estimators: 678 - max_depth: 9 \n",
      "============================================================================================\n",
      "Fold: 1 - AUC: 0.66009 - F1-score: 0.67412 - L.Loss: 0.65310 - 0h 9m 24s\n",
      "Fold: 2 - AUC: 0.66373 - F1-score: 0.67721 - L.Loss: 0.65266 - 0h 9m 7s\n",
      "Fold: 3 - AUC: 0.66766 - F1-score: 0.68114 - L.Loss: 0.65174 - 0h 9m 31s\n",
      "Fold: 4 - AUC: 0.66685 - F1-score: 0.68007 - L.Loss: 0.65178 - 0h 9m 15s\n",
      "Fold: 5 - AUC: 0.66481 - F1-score: 0.67849 - L.Loss: 0.65216 - 0h 9m 28s\n",
      "--------------------------------------------------------------------------------------------\n",
      "[Mean Fold]  AUC: 0.66463(Std:0.00267) - F1: 0.67821 - L. Loss: 0.65229  0h 46m 47s\n",
      "============================================================================================\n",
      "\n",
      "param = {'criterion': 'entropy', 'n_estimators': 678, 'max_depth': 9, 'max_samples': 0.7967846721551474, 'bootstrap': 'True', 'random_state': 12359, 'n_jobs': -1}\n",
      "\n",
      "============================================================================================\n",
      "Training model: RandomForestClassifier - seed 12359 - n_estimators: 681 - max_depth: 9 \n",
      "============================================================================================\n",
      "Fold: 1 - AUC: 0.65937 - F1-score: 0.67354 - L.Loss: 0.65308 - 0h 9m 26s\n",
      "Fold: 2 - AUC: 0.66407 - F1-score: 0.67758 - L.Loss: 0.65254 - 0h 9m 21s\n",
      "Fold: 3 - AUC: 0.66826 - F1-score: 0.68153 - L.Loss: 0.65159 - 0h 9m 35s\n",
      "Fold: 4 - AUC: 0.66629 - F1-score: 0.68000 - L.Loss: 0.65181 - 0h 9m 24s\n",
      "Fold: 5 - AUC: 0.66510 - F1-score: 0.67851 - L.Loss: 0.65213 - 0h 9m 12s\n",
      "--------------------------------------------------------------------------------------------\n",
      "[Mean Fold]  AUC: 0.66462(Std:0.00297) - F1: 0.67823 - L. Loss: 0.65223  0h 47m 0s\n",
      "============================================================================================\n",
      "\n",
      "param = {'criterion': 'entropy', 'n_estimators': 681, 'max_depth': 9, 'max_samples': 0.7943352046327946, 'bootstrap': 'True', 'random_state': 12359, 'n_jobs': -1}\n",
      "\n",
      "============================================================================================\n",
      "Training model: RandomForestClassifier - seed 12359 - n_estimators: 651 - max_depth: 5 \n",
      "============================================================================================\n",
      "Fold: 1 - AUC: 0.64390 - F1-score: 0.66526 - L.Loss: 0.66778 - 0h 4m 19s\n",
      "Fold: 2 - AUC: 0.64868 - F1-score: 0.66936 - L.Loss: 0.66742 - 0h 4m 41s\n",
      "Fold: 3 - AUC: 0.65312 - F1-score: 0.67378 - L.Loss: 0.66684 - 0h 4m 50s\n",
      "Fold: 4 - AUC: 0.65043 - F1-score: 0.67117 - L.Loss: 0.66699 - 0h 5m 7s\n",
      "Fold: 5 - AUC: 0.64907 - F1-score: 0.66997 - L.Loss: 0.66717 - 0h 5m 12s\n",
      "--------------------------------------------------------------------------------------------\n",
      "[Mean Fold]  AUC: 0.64904(Std:0.00300) - F1: 0.66991 - L. Loss: 0.66724  0h 24m 11s\n",
      "============================================================================================\n",
      "\n",
      "param = {'criterion': 'entropy', 'n_estimators': 651, 'max_depth': 5, 'max_samples': 0.779095196446515, 'bootstrap': 'True', 'random_state': 12359, 'n_jobs': -1}\n",
      "\n",
      "============================================================================================\n",
      "Training model: RandomForestClassifier - seed 12359 - n_estimators: 829 - max_depth: 9 \n",
      "============================================================================================\n",
      "Fold: 1 - AUC: 0.66051 - F1-score: 0.67472 - L.Loss: 0.65319 - 0h 14m 53s\n",
      "Fold: 2 - AUC: 0.66440 - F1-score: 0.67783 - L.Loss: 0.65263 - 0h 14m 58s\n",
      "Fold: 3 - AUC: 0.66814 - F1-score: 0.68134 - L.Loss: 0.65171 - 0h 14m 44s\n",
      "Fold: 4 - AUC: 0.66596 - F1-score: 0.67922 - L.Loss: 0.65183 - 0h 15m 7s\n",
      "Fold: 5 - AUC: 0.66534 - F1-score: 0.67892 - L.Loss: 0.65222 - 0h 14m 30s\n",
      "--------------------------------------------------------------------------------------------\n",
      "[Mean Fold]  AUC: 0.66487(Std:0.00250) - F1: 0.67841 - L. Loss: 0.65231  1h 14m 16s\n",
      "============================================================================================\n",
      "\n"
     ]
    },
    {
     "name": "stdout",
     "output_type": "stream",
     "text": [
      "param = {'criterion': 'entropy', 'n_estimators': 829, 'max_depth': 9, 'max_samples': 0.8188441525172186, 'bootstrap': 'True', 'random_state': 12359, 'n_jobs': -1}\n",
      "\n",
      "============================================================================================\n",
      "Training model: RandomForestClassifier - seed 12359 - n_estimators: 817 - max_depth: 6 \n",
      "============================================================================================\n",
      "Fold: 1 - AUC: 0.64855 - F1-score: 0.66727 - L.Loss: 0.66374 - 0h 8m 55s\n",
      "Fold: 2 - AUC: 0.65282 - F1-score: 0.67105 - L.Loss: 0.66335 - 0h 8m 59s\n",
      "Fold: 3 - AUC: 0.65659 - F1-score: 0.67462 - L.Loss: 0.66264 - 0h 9m 16s\n",
      "Fold: 4 - AUC: 0.65480 - F1-score: 0.67311 - L.Loss: 0.66281 - 0h 9m 8s\n",
      "Fold: 5 - AUC: 0.65258 - F1-score: 0.67110 - L.Loss: 0.66311 - 0h 8m 13s\n",
      "--------------------------------------------------------------------------------------------\n",
      "[Mean Fold]  AUC: 0.65307(Std:0.00269) - F1: 0.67143 - L. Loss: 0.66313  0h 44m 33s\n",
      "============================================================================================\n",
      "\n",
      "param = {'criterion': 'entropy', 'n_estimators': 817, 'max_depth': 6, 'max_samples': 0.8183600000784966, 'bootstrap': 'True', 'random_state': 12359, 'n_jobs': -1}\n",
      "\n",
      "============================================================================================\n",
      "Training model: RandomForestClassifier - seed 12359 - n_estimators: 995 - max_depth: 7 \n",
      "============================================================================================\n",
      "Fold: 1 - AUC: 0.65153 - F1-score: 0.66836 - L.Loss: 0.65998 - 0h 12m 2s\n",
      "Fold: 2 - AUC: 0.65628 - F1-score: 0.67250 - L.Loss: 0.65952 - 0h 11m 57s\n",
      "Fold: 3 - AUC: 0.66034 - F1-score: 0.67627 - L.Loss: 0.65866 - 0h 12m 16s\n",
      "Fold: 4 - AUC: 0.65838 - F1-score: 0.67467 - L.Loss: 0.65883 - 0h 12m 54s\n",
      "Fold: 5 - AUC: 0.65694 - F1-score: 0.67329 - L.Loss: 0.65916 - 0h 13m 31s\n",
      "--------------------------------------------------------------------------------------------\n",
      "[Mean Fold]  AUC: 0.65669(Std:0.00293) - F1: 0.67302 - L. Loss: 0.65923  1h 2m 42s\n",
      "============================================================================================\n",
      "\n",
      "param = {'criterion': 'entropy', 'n_estimators': 995, 'max_depth': 7, 'max_samples': 0.8638454629932327, 'bootstrap': 'True', 'random_state': 12359, 'n_jobs': -1}\n",
      "\n",
      "============================================================================================\n",
      "Training model: RandomForestClassifier - seed 12359 - n_estimators: 582 - max_depth: 9 \n",
      "============================================================================================\n",
      "Fold: 1 - AUC: 0.66053 - F1-score: 0.67463 - L.Loss: 0.65319 - 0h 9m 58s\n",
      "Fold: 2 - AUC: 0.66376 - F1-score: 0.67705 - L.Loss: 0.65258 - 0h 10m 1s\n",
      "Fold: 3 - AUC: 0.66744 - F1-score: 0.68095 - L.Loss: 0.65164 - 0h 10m 43s\n",
      "Fold: 4 - AUC: 0.66583 - F1-score: 0.67903 - L.Loss: 0.65176 - 0h 9m 52s\n",
      "Fold: 5 - AUC: 0.66493 - F1-score: 0.67868 - L.Loss: 0.65218 - 0h 10m 35s\n",
      "--------------------------------------------------------------------------------------------\n",
      "[Mean Fold]  AUC: 0.66450(Std:0.00232) - F1: 0.67807 - L. Loss: 0.65227  0h 51m 12s\n",
      "============================================================================================\n",
      "\n",
      "param = {'criterion': 'entropy', 'n_estimators': 582, 'max_depth': 9, 'max_samples': 0.7765000194586029, 'bootstrap': 'True', 'random_state': 12359, 'n_jobs': -1}\n",
      "\n",
      "============================================================================================\n",
      "Training model: RandomForestClassifier - seed 12359 - n_estimators: 803 - max_depth: 2 \n",
      "============================================================================================\n",
      "Fold: 1 - AUC: 0.62639 - F1-score: 0.66812 - L.Loss: 0.68156 - 0h 2m 50s\n",
      "Fold: 2 - AUC: 0.63219 - F1-score: 0.67317 - L.Loss: 0.68140 - 0h 2m 55s\n",
      "Fold: 3 - AUC: 0.63374 - F1-score: 0.67408 - L.Loss: 0.68112 - 0h 3m 25s\n",
      "Fold: 4 - AUC: 0.63345 - F1-score: 0.67467 - L.Loss: 0.68119 - 0h 2m 40s\n",
      "Fold: 5 - AUC: 0.63172 - F1-score: 0.67265 - L.Loss: 0.68132 - 0h 2m 52s\n",
      "--------------------------------------------------------------------------------------------\n",
      "[Mean Fold]  AUC: 0.63150(Std:0.00266) - F1: 0.67254 - L. Loss: 0.68132  0h 14m 45s\n",
      "============================================================================================\n",
      "\n",
      "param = {'criterion': 'entropy', 'n_estimators': 803, 'max_depth': 2, 'max_samples': 0.8231783710552935, 'bootstrap': 'True', 'random_state': 12359, 'n_jobs': -1}\n",
      "\n",
      "============================================================================================\n",
      "Training model: RandomForestClassifier - seed 12359 - n_estimators: 589 - max_depth: 5 \n",
      "============================================================================================\n",
      "Fold: 1 - AUC: 0.64351 - F1-score: 0.66482 - L.Loss: 0.66785 - 0h 6m 4s\n",
      "Fold: 2 - AUC: 0.64824 - F1-score: 0.66890 - L.Loss: 0.66745 - 0h 5m 19s\n",
      "Fold: 3 - AUC: 0.65241 - F1-score: 0.67305 - L.Loss: 0.66689 - 0h 5m 32s\n",
      "Fold: 4 - AUC: 0.65090 - F1-score: 0.67161 - L.Loss: 0.66703 - 0h 5m 47s\n",
      "Fold: 5 - AUC: 0.64883 - F1-score: 0.66973 - L.Loss: 0.66720 - 0h 5m 11s\n",
      "--------------------------------------------------------------------------------------------\n",
      "[Mean Fold]  AUC: 0.64878(Std:0.00302) - F1: 0.66962 - L. Loss: 0.66728  0h 27m 55s\n",
      "============================================================================================\n",
      "\n",
      "param = {'criterion': 'entropy', 'n_estimators': 589, 'max_depth': 5, 'max_samples': 0.8543441741009762, 'bootstrap': 'True', 'random_state': 12359, 'n_jobs': -1}\n",
      "\n",
      "============================================================================================\n",
      "Training model: RandomForestClassifier - seed 12359 - n_estimators: 747 - max_depth: 9 \n",
      "============================================================================================\n",
      "Fold: 1 - AUC: 0.66033 - F1-score: 0.67451 - L.Loss: 0.65319 - 0h 11m 47s\n",
      "Fold: 2 - AUC: 0.66391 - F1-score: 0.67745 - L.Loss: 0.65260 - 0h 11m 44s\n",
      "Fold: 3 - AUC: 0.66749 - F1-score: 0.68092 - L.Loss: 0.65162 - 0h 12m 7s\n",
      "Fold: 4 - AUC: 0.66663 - F1-score: 0.67998 - L.Loss: 0.65172 - 0h 12m 6s\n",
      "Fold: 5 - AUC: 0.66437 - F1-score: 0.67802 - L.Loss: 0.65218 - 0h 11m 54s\n",
      "--------------------------------------------------------------------------------------------\n",
      "[Mean Fold]  AUC: 0.66455(Std:0.00250) - F1: 0.67818 - L. Loss: 0.65226  0h 59m 40s\n",
      "============================================================================================\n",
      "\n",
      "param = {'criterion': 'entropy', 'n_estimators': 747, 'max_depth': 9, 'max_samples': 0.7755549355301372, 'bootstrap': 'True', 'random_state': 12359, 'n_jobs': -1}\n",
      "\n",
      "============================================================================================\n",
      "Training model: RandomForestClassifier - seed 12359 - n_estimators: 934 - max_depth: 9 \n",
      "============================================================================================\n",
      "Fold: 1 - AUC: 0.65980 - F1-score: 0.67419 - L.Loss: 0.65321 - 0h 15m 37s\n",
      "Fold: 2 - AUC: 0.66423 - F1-score: 0.67788 - L.Loss: 0.65263 - 0h 15m 22s\n",
      "Fold: 3 - AUC: 0.66789 - F1-score: 0.68142 - L.Loss: 0.65170 - 0h 15m 32s\n",
      "Fold: 4 - AUC: 0.66676 - F1-score: 0.68006 - L.Loss: 0.65184 - 0h 15m 6s\n",
      "Fold: 5 - AUC: 0.66552 - F1-score: 0.67907 - L.Loss: 0.65219 - 0h 15m 10s\n",
      "--------------------------------------------------------------------------------------------\n",
      "[Mean Fold]  AUC: 0.66484(Std:0.00280) - F1: 0.67853 - L. Loss: 0.65232  1h 16m 49s\n",
      "============================================================================================\n",
      "\n",
      "param = {'criterion': 'entropy', 'n_estimators': 934, 'max_depth': 9, 'max_samples': 0.8126072453342384, 'bootstrap': 'True', 'random_state': 12359, 'n_jobs': -1}\n",
      "\n",
      "============================================================================================\n",
      "Training model: RandomForestClassifier - seed 12359 - n_estimators: 1000 - max_depth: 8 \n",
      "============================================================================================\n",
      "Fold: 1 - AUC: 0.65595 - F1-score: 0.67140 - L.Loss: 0.65640 - 0h 14m 15s\n",
      "Fold: 2 - AUC: 0.66052 - F1-score: 0.67526 - L.Loss: 0.65588 - 0h 14m 12s\n",
      "Fold: 3 - AUC: 0.66431 - F1-score: 0.67877 - L.Loss: 0.65504 - 0h 14m 22s\n",
      "Fold: 4 - AUC: 0.66239 - F1-score: 0.67685 - L.Loss: 0.65519 - 0h 14m 30s\n"
     ]
    },
    {
     "name": "stdout",
     "output_type": "stream",
     "text": [
      "Fold: 5 - AUC: 0.66062 - F1-score: 0.67535 - L.Loss: 0.65551 - 0h 13m 47s\n",
      "--------------------------------------------------------------------------------------------\n",
      "[Mean Fold]  AUC: 0.66076(Std:0.00278) - F1: 0.67553 - L. Loss: 0.65560  1h 11m 9s\n",
      "============================================================================================\n",
      "\n",
      "param = {'criterion': 'entropy', 'n_estimators': 1000, 'max_depth': 8, 'max_samples': 0.8170993908802305, 'bootstrap': 'True', 'random_state': 12359, 'n_jobs': -1}\n",
      "\n",
      "============================================================================================\n",
      "Training model: RandomForestClassifier - seed 12359 - n_estimators: 914 - max_depth: 7 \n",
      "============================================================================================\n",
      "Fold: 1 - AUC: 0.65216 - F1-score: 0.66901 - L.Loss: 0.65999 - 0h 10m 50s\n",
      "Fold: 2 - AUC: 0.65616 - F1-score: 0.67234 - L.Loss: 0.65950 - 0h 10m 39s\n",
      "Fold: 3 - AUC: 0.66055 - F1-score: 0.67672 - L.Loss: 0.65870 - 0h 11m 9s\n",
      "Fold: 4 - AUC: 0.65857 - F1-score: 0.67486 - L.Loss: 0.65884 - 0h 10m 39s\n",
      "Fold: 5 - AUC: 0.65742 - F1-score: 0.67401 - L.Loss: 0.65920 - 0h 10m 38s\n",
      "--------------------------------------------------------------------------------------------\n",
      "[Mean Fold]  AUC: 0.65697(Std:0.00281) - F1: 0.67339 - L. Loss: 0.65924  0h 53m 57s\n",
      "============================================================================================\n",
      "\n",
      "param = {'criterion': 'entropy', 'n_estimators': 914, 'max_depth': 7, 'max_samples': 0.8107240356947015, 'bootstrap': 'True', 'random_state': 12359, 'n_jobs': -1}\n",
      "\n",
      "============================================================================================\n",
      "Training model: RandomForestClassifier - seed 12359 - n_estimators: 890 - max_depth: 9 \n",
      "============================================================================================\n",
      "Fold: 1 - AUC: 0.65959 - F1-score: 0.67376 - L.Loss: 0.65320 - 0h 14m 54s\n",
      "Fold: 2 - AUC: 0.66383 - F1-score: 0.67721 - L.Loss: 0.65260 - 0h 13m 57s\n",
      "Fold: 3 - AUC: 0.66772 - F1-score: 0.68109 - L.Loss: 0.65165 - 0h 14m 5s\n",
      "Fold: 4 - AUC: 0.66666 - F1-score: 0.68000 - L.Loss: 0.65185 - 0h 14m 24s\n",
      "Fold: 5 - AUC: 0.66524 - F1-score: 0.67888 - L.Loss: 0.65224 - 0h 14m 6s\n",
      "--------------------------------------------------------------------------------------------\n",
      "[Mean Fold]  AUC: 0.66461(Std:0.00283) - F1: 0.67819 - L. Loss: 0.65231  1h 11m 28s\n",
      "============================================================================================\n",
      "\n",
      "param = {'criterion': 'entropy', 'n_estimators': 890, 'max_depth': 9, 'max_samples': 0.8697932861109084, 'bootstrap': 'True', 'random_state': 12359, 'n_jobs': -1}\n",
      "\n",
      "============================================================================================\n",
      "Training model: RandomForestClassifier - seed 12359 - n_estimators: 625 - max_depth: 8 \n",
      "============================================================================================\n",
      "Fold: 1 - AUC: 0.65593 - F1-score: 0.67105 - L.Loss: 0.65634 - 0h 8m 13s\n",
      "Fold: 2 - AUC: 0.65977 - F1-score: 0.67438 - L.Loss: 0.65588 - 0h 8m 25s\n",
      "Fold: 3 - AUC: 0.66456 - F1-score: 0.67875 - L.Loss: 0.65510 - 0h 9m 35s\n",
      "Fold: 4 - AUC: 0.66269 - F1-score: 0.67706 - L.Loss: 0.65521 - 0h 9m 51s\n",
      "Fold: 5 - AUC: 0.66068 - F1-score: 0.67551 - L.Loss: 0.65551 - 0h 10m 21s\n",
      "--------------------------------------------------------------------------------------------\n",
      "[Mean Fold]  AUC: 0.66073(Std:0.00291) - F1: 0.67535 - L. Loss: 0.65561  0h 46m 28s\n",
      "============================================================================================\n",
      "\n",
      "param = {'criterion': 'entropy', 'n_estimators': 625, 'max_depth': 8, 'max_samples': 0.8283759009894696, 'bootstrap': 'True', 'random_state': 12359, 'n_jobs': -1}\n",
      "\n",
      "============================================================================================\n",
      "Training model: RandomForestClassifier - seed 12359 - n_estimators: 772 - max_depth: 9 \n",
      "============================================================================================\n",
      "Fold: 1 - AUC: 0.66020 - F1-score: 0.67458 - L.Loss: 0.65312 - 0h 14m 11s\n",
      "Fold: 2 - AUC: 0.66440 - F1-score: 0.67775 - L.Loss: 0.65267 - 0h 15m 4s\n",
      "Fold: 3 - AUC: 0.66782 - F1-score: 0.68146 - L.Loss: 0.65168 - 0h 15m 39s\n",
      "Fold: 4 - AUC: 0.66694 - F1-score: 0.68070 - L.Loss: 0.65179 - 0h 14m 57s\n",
      "Fold: 5 - AUC: 0.66529 - F1-score: 0.67893 - L.Loss: 0.65214 - 0h 16m 30s\n",
      "--------------------------------------------------------------------------------------------\n",
      "[Mean Fold]  AUC: 0.66493(Std:0.00265) - F1: 0.67868 - L. Loss: 0.65228  1h 16m 23s\n",
      "============================================================================================\n",
      "\n",
      "param = {'criterion': 'entropy', 'n_estimators': 772, 'max_depth': 9, 'max_samples': 0.7657015920690705, 'bootstrap': 'True', 'random_state': 12359, 'n_jobs': -1}\n",
      "\n",
      "============================================================================================\n",
      "Training model: RandomForestClassifier - seed 12359 - n_estimators: 766 - max_depth: 7 \n",
      "============================================================================================\n",
      "Fold: 1 - AUC: 0.65176 - F1-score: 0.66857 - L.Loss: 0.65993 - 0h 11m 47s\n",
      "Fold: 2 - AUC: 0.65653 - F1-score: 0.67296 - L.Loss: 0.65944 - 0h 12m 42s\n",
      "Fold: 3 - AUC: 0.66072 - F1-score: 0.67666 - L.Loss: 0.65868 - 0h 12m 20s\n",
      "Fold: 4 - AUC: 0.65882 - F1-score: 0.67496 - L.Loss: 0.65883 - 0h 11m 30s\n",
      "Fold: 5 - AUC: 0.65682 - F1-score: 0.67331 - L.Loss: 0.65911 - 0h 11m 32s\n",
      "--------------------------------------------------------------------------------------------\n",
      "[Mean Fold]  AUC: 0.65693(Std:0.00299) - F1: 0.67329 - L. Loss: 0.65920  0h 59m 53s\n",
      "============================================================================================\n",
      "\n",
      "param = {'criterion': 'entropy', 'n_estimators': 766, 'max_depth': 7, 'max_samples': 0.7647806712121554, 'bootstrap': 'True', 'random_state': 12359, 'n_jobs': -1}\n",
      "\n",
      "============================================================================================\n",
      "Training model: RandomForestClassifier - seed 12359 - n_estimators: 883 - max_depth: 8 \n",
      "============================================================================================\n",
      "Fold: 1 - AUC: 0.65630 - F1-score: 0.67154 - L.Loss: 0.65636 - 0h 12m 23s\n",
      "Fold: 2 - AUC: 0.66061 - F1-score: 0.67504 - L.Loss: 0.65588 - 0h 11m 17s\n",
      "Fold: 3 - AUC: 0.66446 - F1-score: 0.67883 - L.Loss: 0.65495 - 0h 12m 34s\n",
      "Fold: 4 - AUC: 0.66324 - F1-score: 0.67787 - L.Loss: 0.65521 - 0h 11m 59s\n",
      "Fold: 5 - AUC: 0.66162 - F1-score: 0.67607 - L.Loss: 0.65548 - 0h 11m 49s\n",
      "--------------------------------------------------------------------------------------------\n",
      "[Mean Fold]  AUC: 0.66125(Std:0.00280) - F1: 0.67587 - L. Loss: 0.65557  1h 0m 6s\n",
      "============================================================================================\n",
      "\n",
      "param = {'criterion': 'gini', 'n_estimators': 883, 'max_depth': 8, 'max_samples': 0.8353493207837066, 'bootstrap': 'True', 'random_state': 12359, 'n_jobs': -1}\n",
      "\n",
      "\n",
      "--------------------------------------------------------------------------------------------------------------\n",
      "Best score: 0.66493\n",
      "Seed      : 12359\n",
      "Parameters:\n",
      "\n",
      "{'criterion': 'entropy', 'n_estimators': 772, 'max_depth': 9, 'max_samples': 0.7657015920690705, 'bootstrap': 'True', 'random_state': 12359, 'n_jobs': -1}\n",
      "\n",
      "Wall time: 21h 37min 1s\n"
     ]
    }
   ],
   "source": [
    "%%time\n",
    "name_model = name_model_clf + '002_tunning_' \n",
    "n_trials_  = 30\n",
    "\n",
    "TunningModels.delete_files(name_model)\n",
    "    \n",
    "modelOpt = TunningModels(name_model_     = name_model, \n",
    "                         X_trn_          = X, \n",
    "                         y_trn_          = y, \n",
    "                         X_ts_           = X_test_scaler,                                     \n",
    "                         feature_        = feature_,  \n",
    "                         scaler_         = scaler_best, \n",
    "                         seed_           = SEED, \n",
    "                         feature_bin_    = None, \n",
    "                         target_         = 'target', \n",
    "                         path_           = path, \n",
    "                         level_          = '1', \n",
    "                         save_predict_   = False)\n",
    "\n",
    "pruner = MedianPruner(n_startup_trials = 5,\n",
    "                      n_warmup_steps   = 0,\n",
    "                      interval_steps   = 1,\n",
    "                      n_min_trials     = 5,\n",
    "                      )\n",
    "\n",
    "study = optuna.create_study(direction = 'maximize',\n",
    "                            sampler   = optuna.samplers.TPESampler(seed=SEED),\n",
    "                            pruner    = optuna.pruners.MedianPruner(n_warmup_steps=10),\n",
    "                            #pruner    = pruner,\n",
    "                            study_name= 'lr_tuning'\n",
    "                            ) \n",
    "\n",
    "study.optimize(modelOpt.rf, n_trials=n_trials_)\n",
    "\n",
    "score_seed = study.best_value \n",
    "params     = study.best_params \n",
    "path_name  = path + 'model/optuna/' + name_model + '_{:2.5f}.pkl.z'.format(score_seed) \n",
    "\n",
    "\n",
    "if params.get('penalty')== 'l1': \n",
    "    params.update({'solver': 'liblinear'}) \n",
    "    \n",
    "seed_best   = SEED\n",
    "score_best  = score_seed \n",
    "params_best = params\n",
    "\n",
    "print()\n",
    "print('-'*110)\n",
    "print('Best score: {:2.5f}'.format(score_best))\n",
    "print('Seed      : {}'.format(SEED))\n",
    "print('Parameters:\\n\\n{}'.format(params_best))\n",
    "print()"
   ]
  },
  {
   "cell_type": "markdown",
   "metadata": {
    "id": "BRDDC2LJX0dh"
   },
   "source": [
    "<div class=\"alert alert-info\" role=\"alert\">\n",
    "\n",
    "**`NOTA:`** <br>\n",
    "    \n",
    "Com os melhores parametros gerei uma nova submissão e obtive a AUC de 0.68785.\n",
    "    \n",
    "</div>"
   ]
  },
  {
   "cell_type": "markdown",
   "metadata": {
    "id": "KEQa44wEi346"
   },
   "source": [
    "### Análise "
   ]
  },
  {
   "cell_type": "code",
   "execution_count": 118,
   "metadata": {
    "ExecuteTime": {
     "end_time": "2021-11-29T02:13:46.587800Z",
     "start_time": "2021-11-29T02:13:46.545764Z"
    },
    "executionInfo": {
     "elapsed": 18,
     "status": "aborted",
     "timestamp": 1638057557721,
     "user": {
      "displayName": "Rogério Delfim",
      "photoUrl": "https://lh3.googleusercontent.com/a-/AOh14Gj8lDYWTfZHU0U0sMojRPio71Ec7YDcSEpCaOEE=s64",
      "userId": "04235763959036945343"
     },
     "user_tz": 180
    },
    "id": "RD2yIoWTi346"
   },
   "outputs": [
    {
     "data": {
      "application/vnd.plotly.v1+json": {
       "config": {
        "plotlyServerURL": "https://plot.ly"
       },
       "data": [
        {
         "mode": "markers",
         "name": "Objective Value",
         "type": "scatter",
         "x": [
          0,
          1,
          2,
          3,
          4,
          5,
          6,
          7,
          8,
          9,
          10,
          11,
          12,
          13,
          14,
          15,
          16,
          17,
          18,
          19,
          20,
          21,
          22,
          23,
          24,
          25,
          26,
          27,
          28,
          29
         ],
         "y": [
          0.6608176249564872,
          0.6601325973591153,
          0.6427771588193454,
          0.6638438873005293,
          0.656192223820365,
          0.6570654137698817,
          0.6609237574303389,
          0.6519632525317914,
          0.6298789019203499,
          0.6606913078662908,
          0.644323621739552,
          0.6645593456394623,
          0.6646287055317674,
          0.6646191118088253,
          0.6490389142945792,
          0.6648698628424137,
          0.6530680905287827,
          0.6566925900352235,
          0.6644974396978448,
          0.6314982702796567,
          0.6487787523188924,
          0.6645451245940481,
          0.6648411180668586,
          0.6607579171146112,
          0.6569722358985731,
          0.6646086228333111,
          0.6607266923600953,
          0.6649300128850217,
          0.6569293339613721,
          0.6612476568022565
         ]
        },
        {
         "name": "Best Value",
         "type": "scatter",
         "x": [
          0,
          1,
          2,
          3,
          4,
          5,
          6,
          7,
          8,
          9,
          10,
          11,
          12,
          13,
          14,
          15,
          16,
          17,
          18,
          19,
          20,
          21,
          22,
          23,
          24,
          25,
          26,
          27,
          28,
          29
         ],
         "y": [
          0.6608176249564872,
          0.6608176249564872,
          0.6608176249564872,
          0.6638438873005293,
          0.6638438873005293,
          0.6638438873005293,
          0.6638438873005293,
          0.6638438873005293,
          0.6638438873005293,
          0.6638438873005293,
          0.6638438873005293,
          0.6645593456394623,
          0.6646287055317674,
          0.6646287055317674,
          0.6646287055317674,
          0.6648698628424137,
          0.6648698628424137,
          0.6648698628424137,
          0.6648698628424137,
          0.6648698628424137,
          0.6648698628424137,
          0.6648698628424137,
          0.6648698628424137,
          0.6648698628424137,
          0.6648698628424137,
          0.6648698628424137,
          0.6648698628424137,
          0.6649300128850217,
          0.6649300128850217,
          0.6649300128850217
         ]
        }
       ],
       "layout": {
        "template": {
         "data": {
          "bar": [
           {
            "error_x": {
             "color": "#2a3f5f"
            },
            "error_y": {
             "color": "#2a3f5f"
            },
            "marker": {
             "line": {
              "color": "#E5ECF6",
              "width": 0.5
             },
             "pattern": {
              "fillmode": "overlay",
              "size": 10,
              "solidity": 0.2
             }
            },
            "type": "bar"
           }
          ],
          "barpolar": [
           {
            "marker": {
             "line": {
              "color": "#E5ECF6",
              "width": 0.5
             },
             "pattern": {
              "fillmode": "overlay",
              "size": 10,
              "solidity": 0.2
             }
            },
            "type": "barpolar"
           }
          ],
          "carpet": [
           {
            "aaxis": {
             "endlinecolor": "#2a3f5f",
             "gridcolor": "white",
             "linecolor": "white",
             "minorgridcolor": "white",
             "startlinecolor": "#2a3f5f"
            },
            "baxis": {
             "endlinecolor": "#2a3f5f",
             "gridcolor": "white",
             "linecolor": "white",
             "minorgridcolor": "white",
             "startlinecolor": "#2a3f5f"
            },
            "type": "carpet"
           }
          ],
          "choropleth": [
           {
            "colorbar": {
             "outlinewidth": 0,
             "ticks": ""
            },
            "type": "choropleth"
           }
          ],
          "contour": [
           {
            "colorbar": {
             "outlinewidth": 0,
             "ticks": ""
            },
            "colorscale": [
             [
              0,
              "#0d0887"
             ],
             [
              0.1111111111111111,
              "#46039f"
             ],
             [
              0.2222222222222222,
              "#7201a8"
             ],
             [
              0.3333333333333333,
              "#9c179e"
             ],
             [
              0.4444444444444444,
              "#bd3786"
             ],
             [
              0.5555555555555556,
              "#d8576b"
             ],
             [
              0.6666666666666666,
              "#ed7953"
             ],
             [
              0.7777777777777778,
              "#fb9f3a"
             ],
             [
              0.8888888888888888,
              "#fdca26"
             ],
             [
              1,
              "#f0f921"
             ]
            ],
            "type": "contour"
           }
          ],
          "contourcarpet": [
           {
            "colorbar": {
             "outlinewidth": 0,
             "ticks": ""
            },
            "type": "contourcarpet"
           }
          ],
          "heatmap": [
           {
            "colorbar": {
             "outlinewidth": 0,
             "ticks": ""
            },
            "colorscale": [
             [
              0,
              "#0d0887"
             ],
             [
              0.1111111111111111,
              "#46039f"
             ],
             [
              0.2222222222222222,
              "#7201a8"
             ],
             [
              0.3333333333333333,
              "#9c179e"
             ],
             [
              0.4444444444444444,
              "#bd3786"
             ],
             [
              0.5555555555555556,
              "#d8576b"
             ],
             [
              0.6666666666666666,
              "#ed7953"
             ],
             [
              0.7777777777777778,
              "#fb9f3a"
             ],
             [
              0.8888888888888888,
              "#fdca26"
             ],
             [
              1,
              "#f0f921"
             ]
            ],
            "type": "heatmap"
           }
          ],
          "heatmapgl": [
           {
            "colorbar": {
             "outlinewidth": 0,
             "ticks": ""
            },
            "colorscale": [
             [
              0,
              "#0d0887"
             ],
             [
              0.1111111111111111,
              "#46039f"
             ],
             [
              0.2222222222222222,
              "#7201a8"
             ],
             [
              0.3333333333333333,
              "#9c179e"
             ],
             [
              0.4444444444444444,
              "#bd3786"
             ],
             [
              0.5555555555555556,
              "#d8576b"
             ],
             [
              0.6666666666666666,
              "#ed7953"
             ],
             [
              0.7777777777777778,
              "#fb9f3a"
             ],
             [
              0.8888888888888888,
              "#fdca26"
             ],
             [
              1,
              "#f0f921"
             ]
            ],
            "type": "heatmapgl"
           }
          ],
          "histogram": [
           {
            "marker": {
             "pattern": {
              "fillmode": "overlay",
              "size": 10,
              "solidity": 0.2
             }
            },
            "type": "histogram"
           }
          ],
          "histogram2d": [
           {
            "colorbar": {
             "outlinewidth": 0,
             "ticks": ""
            },
            "colorscale": [
             [
              0,
              "#0d0887"
             ],
             [
              0.1111111111111111,
              "#46039f"
             ],
             [
              0.2222222222222222,
              "#7201a8"
             ],
             [
              0.3333333333333333,
              "#9c179e"
             ],
             [
              0.4444444444444444,
              "#bd3786"
             ],
             [
              0.5555555555555556,
              "#d8576b"
             ],
             [
              0.6666666666666666,
              "#ed7953"
             ],
             [
              0.7777777777777778,
              "#fb9f3a"
             ],
             [
              0.8888888888888888,
              "#fdca26"
             ],
             [
              1,
              "#f0f921"
             ]
            ],
            "type": "histogram2d"
           }
          ],
          "histogram2dcontour": [
           {
            "colorbar": {
             "outlinewidth": 0,
             "ticks": ""
            },
            "colorscale": [
             [
              0,
              "#0d0887"
             ],
             [
              0.1111111111111111,
              "#46039f"
             ],
             [
              0.2222222222222222,
              "#7201a8"
             ],
             [
              0.3333333333333333,
              "#9c179e"
             ],
             [
              0.4444444444444444,
              "#bd3786"
             ],
             [
              0.5555555555555556,
              "#d8576b"
             ],
             [
              0.6666666666666666,
              "#ed7953"
             ],
             [
              0.7777777777777778,
              "#fb9f3a"
             ],
             [
              0.8888888888888888,
              "#fdca26"
             ],
             [
              1,
              "#f0f921"
             ]
            ],
            "type": "histogram2dcontour"
           }
          ],
          "mesh3d": [
           {
            "colorbar": {
             "outlinewidth": 0,
             "ticks": ""
            },
            "type": "mesh3d"
           }
          ],
          "parcoords": [
           {
            "line": {
             "colorbar": {
              "outlinewidth": 0,
              "ticks": ""
             }
            },
            "type": "parcoords"
           }
          ],
          "pie": [
           {
            "automargin": true,
            "type": "pie"
           }
          ],
          "scatter": [
           {
            "marker": {
             "colorbar": {
              "outlinewidth": 0,
              "ticks": ""
             }
            },
            "type": "scatter"
           }
          ],
          "scatter3d": [
           {
            "line": {
             "colorbar": {
              "outlinewidth": 0,
              "ticks": ""
             }
            },
            "marker": {
             "colorbar": {
              "outlinewidth": 0,
              "ticks": ""
             }
            },
            "type": "scatter3d"
           }
          ],
          "scattercarpet": [
           {
            "marker": {
             "colorbar": {
              "outlinewidth": 0,
              "ticks": ""
             }
            },
            "type": "scattercarpet"
           }
          ],
          "scattergeo": [
           {
            "marker": {
             "colorbar": {
              "outlinewidth": 0,
              "ticks": ""
             }
            },
            "type": "scattergeo"
           }
          ],
          "scattergl": [
           {
            "marker": {
             "colorbar": {
              "outlinewidth": 0,
              "ticks": ""
             }
            },
            "type": "scattergl"
           }
          ],
          "scattermapbox": [
           {
            "marker": {
             "colorbar": {
              "outlinewidth": 0,
              "ticks": ""
             }
            },
            "type": "scattermapbox"
           }
          ],
          "scatterpolar": [
           {
            "marker": {
             "colorbar": {
              "outlinewidth": 0,
              "ticks": ""
             }
            },
            "type": "scatterpolar"
           }
          ],
          "scatterpolargl": [
           {
            "marker": {
             "colorbar": {
              "outlinewidth": 0,
              "ticks": ""
             }
            },
            "type": "scatterpolargl"
           }
          ],
          "scatterternary": [
           {
            "marker": {
             "colorbar": {
              "outlinewidth": 0,
              "ticks": ""
             }
            },
            "type": "scatterternary"
           }
          ],
          "surface": [
           {
            "colorbar": {
             "outlinewidth": 0,
             "ticks": ""
            },
            "colorscale": [
             [
              0,
              "#0d0887"
             ],
             [
              0.1111111111111111,
              "#46039f"
             ],
             [
              0.2222222222222222,
              "#7201a8"
             ],
             [
              0.3333333333333333,
              "#9c179e"
             ],
             [
              0.4444444444444444,
              "#bd3786"
             ],
             [
              0.5555555555555556,
              "#d8576b"
             ],
             [
              0.6666666666666666,
              "#ed7953"
             ],
             [
              0.7777777777777778,
              "#fb9f3a"
             ],
             [
              0.8888888888888888,
              "#fdca26"
             ],
             [
              1,
              "#f0f921"
             ]
            ],
            "type": "surface"
           }
          ],
          "table": [
           {
            "cells": {
             "fill": {
              "color": "#EBF0F8"
             },
             "line": {
              "color": "white"
             }
            },
            "header": {
             "fill": {
              "color": "#C8D4E3"
             },
             "line": {
              "color": "white"
             }
            },
            "type": "table"
           }
          ]
         },
         "layout": {
          "annotationdefaults": {
           "arrowcolor": "#2a3f5f",
           "arrowhead": 0,
           "arrowwidth": 1
          },
          "autotypenumbers": "strict",
          "coloraxis": {
           "colorbar": {
            "outlinewidth": 0,
            "ticks": ""
           }
          },
          "colorscale": {
           "diverging": [
            [
             0,
             "#8e0152"
            ],
            [
             0.1,
             "#c51b7d"
            ],
            [
             0.2,
             "#de77ae"
            ],
            [
             0.3,
             "#f1b6da"
            ],
            [
             0.4,
             "#fde0ef"
            ],
            [
             0.5,
             "#f7f7f7"
            ],
            [
             0.6,
             "#e6f5d0"
            ],
            [
             0.7,
             "#b8e186"
            ],
            [
             0.8,
             "#7fbc41"
            ],
            [
             0.9,
             "#4d9221"
            ],
            [
             1,
             "#276419"
            ]
           ],
           "sequential": [
            [
             0,
             "#0d0887"
            ],
            [
             0.1111111111111111,
             "#46039f"
            ],
            [
             0.2222222222222222,
             "#7201a8"
            ],
            [
             0.3333333333333333,
             "#9c179e"
            ],
            [
             0.4444444444444444,
             "#bd3786"
            ],
            [
             0.5555555555555556,
             "#d8576b"
            ],
            [
             0.6666666666666666,
             "#ed7953"
            ],
            [
             0.7777777777777778,
             "#fb9f3a"
            ],
            [
             0.8888888888888888,
             "#fdca26"
            ],
            [
             1,
             "#f0f921"
            ]
           ],
           "sequentialminus": [
            [
             0,
             "#0d0887"
            ],
            [
             0.1111111111111111,
             "#46039f"
            ],
            [
             0.2222222222222222,
             "#7201a8"
            ],
            [
             0.3333333333333333,
             "#9c179e"
            ],
            [
             0.4444444444444444,
             "#bd3786"
            ],
            [
             0.5555555555555556,
             "#d8576b"
            ],
            [
             0.6666666666666666,
             "#ed7953"
            ],
            [
             0.7777777777777778,
             "#fb9f3a"
            ],
            [
             0.8888888888888888,
             "#fdca26"
            ],
            [
             1,
             "#f0f921"
            ]
           ]
          },
          "colorway": [
           "#636efa",
           "#EF553B",
           "#00cc96",
           "#ab63fa",
           "#FFA15A",
           "#19d3f3",
           "#FF6692",
           "#B6E880",
           "#FF97FF",
           "#FECB52"
          ],
          "font": {
           "color": "#2a3f5f"
          },
          "geo": {
           "bgcolor": "white",
           "lakecolor": "white",
           "landcolor": "#E5ECF6",
           "showlakes": true,
           "showland": true,
           "subunitcolor": "white"
          },
          "hoverlabel": {
           "align": "left"
          },
          "hovermode": "closest",
          "mapbox": {
           "style": "light"
          },
          "paper_bgcolor": "white",
          "plot_bgcolor": "#E5ECF6",
          "polar": {
           "angularaxis": {
            "gridcolor": "white",
            "linecolor": "white",
            "ticks": ""
           },
           "bgcolor": "#E5ECF6",
           "radialaxis": {
            "gridcolor": "white",
            "linecolor": "white",
            "ticks": ""
           }
          },
          "scene": {
           "xaxis": {
            "backgroundcolor": "#E5ECF6",
            "gridcolor": "white",
            "gridwidth": 2,
            "linecolor": "white",
            "showbackground": true,
            "ticks": "",
            "zerolinecolor": "white"
           },
           "yaxis": {
            "backgroundcolor": "#E5ECF6",
            "gridcolor": "white",
            "gridwidth": 2,
            "linecolor": "white",
            "showbackground": true,
            "ticks": "",
            "zerolinecolor": "white"
           },
           "zaxis": {
            "backgroundcolor": "#E5ECF6",
            "gridcolor": "white",
            "gridwidth": 2,
            "linecolor": "white",
            "showbackground": true,
            "ticks": "",
            "zerolinecolor": "white"
           }
          },
          "shapedefaults": {
           "line": {
            "color": "#2a3f5f"
           }
          },
          "ternary": {
           "aaxis": {
            "gridcolor": "white",
            "linecolor": "white",
            "ticks": ""
           },
           "baxis": {
            "gridcolor": "white",
            "linecolor": "white",
            "ticks": ""
           },
           "bgcolor": "#E5ECF6",
           "caxis": {
            "gridcolor": "white",
            "linecolor": "white",
            "ticks": ""
           }
          },
          "title": {
           "x": 0.05
          },
          "xaxis": {
           "automargin": true,
           "gridcolor": "white",
           "linecolor": "white",
           "ticks": "",
           "title": {
            "standoff": 15
           },
           "zerolinecolor": "white",
           "zerolinewidth": 2
          },
          "yaxis": {
           "automargin": true,
           "gridcolor": "white",
           "linecolor": "white",
           "ticks": "",
           "title": {
            "standoff": 15
           },
           "zerolinecolor": "white",
           "zerolinewidth": 2
          }
         }
        },
        "title": {
         "text": "Optimization History Plot"
        },
        "xaxis": {
         "title": {
          "text": "#Trials"
         }
        },
        "yaxis": {
         "title": {
          "text": "Objective Value"
         }
        }
       }
      },
      "text/html": [
       "<div>                            <div id=\"d371bf62-2076-4b4c-9ea6-728b3de09067\" class=\"plotly-graph-div\" style=\"height:525px; width:100%;\"></div>            <script type=\"text/javascript\">                require([\"plotly\"], function(Plotly) {                    window.PLOTLYENV=window.PLOTLYENV || {};                                    if (document.getElementById(\"d371bf62-2076-4b4c-9ea6-728b3de09067\")) {                    Plotly.newPlot(                        \"d371bf62-2076-4b4c-9ea6-728b3de09067\",                        [{\"mode\":\"markers\",\"name\":\"Objective Value\",\"type\":\"scatter\",\"x\":[0,1,2,3,4,5,6,7,8,9,10,11,12,13,14,15,16,17,18,19,20,21,22,23,24,25,26,27,28,29],\"y\":[0.6608176249564872,0.6601325973591153,0.6427771588193454,0.6638438873005293,0.656192223820365,0.6570654137698817,0.6609237574303389,0.6519632525317914,0.6298789019203499,0.6606913078662908,0.644323621739552,0.6645593456394623,0.6646287055317674,0.6646191118088253,0.6490389142945792,0.6648698628424137,0.6530680905287827,0.6566925900352235,0.6644974396978448,0.6314982702796567,0.6487787523188924,0.6645451245940481,0.6648411180668586,0.6607579171146112,0.6569722358985731,0.6646086228333111,0.6607266923600953,0.6649300128850217,0.6569293339613721,0.6612476568022565]},{\"name\":\"Best Value\",\"type\":\"scatter\",\"x\":[0,1,2,3,4,5,6,7,8,9,10,11,12,13,14,15,16,17,18,19,20,21,22,23,24,25,26,27,28,29],\"y\":[0.6608176249564872,0.6608176249564872,0.6608176249564872,0.6638438873005293,0.6638438873005293,0.6638438873005293,0.6638438873005293,0.6638438873005293,0.6638438873005293,0.6638438873005293,0.6638438873005293,0.6645593456394623,0.6646287055317674,0.6646287055317674,0.6646287055317674,0.6648698628424137,0.6648698628424137,0.6648698628424137,0.6648698628424137,0.6648698628424137,0.6648698628424137,0.6648698628424137,0.6648698628424137,0.6648698628424137,0.6648698628424137,0.6648698628424137,0.6648698628424137,0.6649300128850217,0.6649300128850217,0.6649300128850217]}],                        {\"template\":{\"data\":{\"bar\":[{\"error_x\":{\"color\":\"#2a3f5f\"},\"error_y\":{\"color\":\"#2a3f5f\"},\"marker\":{\"line\":{\"color\":\"#E5ECF6\",\"width\":0.5},\"pattern\":{\"fillmode\":\"overlay\",\"size\":10,\"solidity\":0.2}},\"type\":\"bar\"}],\"barpolar\":[{\"marker\":{\"line\":{\"color\":\"#E5ECF6\",\"width\":0.5},\"pattern\":{\"fillmode\":\"overlay\",\"size\":10,\"solidity\":0.2}},\"type\":\"barpolar\"}],\"carpet\":[{\"aaxis\":{\"endlinecolor\":\"#2a3f5f\",\"gridcolor\":\"white\",\"linecolor\":\"white\",\"minorgridcolor\":\"white\",\"startlinecolor\":\"#2a3f5f\"},\"baxis\":{\"endlinecolor\":\"#2a3f5f\",\"gridcolor\":\"white\",\"linecolor\":\"white\",\"minorgridcolor\":\"white\",\"startlinecolor\":\"#2a3f5f\"},\"type\":\"carpet\"}],\"choropleth\":[{\"colorbar\":{\"outlinewidth\":0,\"ticks\":\"\"},\"type\":\"choropleth\"}],\"contour\":[{\"colorbar\":{\"outlinewidth\":0,\"ticks\":\"\"},\"colorscale\":[[0.0,\"#0d0887\"],[0.1111111111111111,\"#46039f\"],[0.2222222222222222,\"#7201a8\"],[0.3333333333333333,\"#9c179e\"],[0.4444444444444444,\"#bd3786\"],[0.5555555555555556,\"#d8576b\"],[0.6666666666666666,\"#ed7953\"],[0.7777777777777778,\"#fb9f3a\"],[0.8888888888888888,\"#fdca26\"],[1.0,\"#f0f921\"]],\"type\":\"contour\"}],\"contourcarpet\":[{\"colorbar\":{\"outlinewidth\":0,\"ticks\":\"\"},\"type\":\"contourcarpet\"}],\"heatmap\":[{\"colorbar\":{\"outlinewidth\":0,\"ticks\":\"\"},\"colorscale\":[[0.0,\"#0d0887\"],[0.1111111111111111,\"#46039f\"],[0.2222222222222222,\"#7201a8\"],[0.3333333333333333,\"#9c179e\"],[0.4444444444444444,\"#bd3786\"],[0.5555555555555556,\"#d8576b\"],[0.6666666666666666,\"#ed7953\"],[0.7777777777777778,\"#fb9f3a\"],[0.8888888888888888,\"#fdca26\"],[1.0,\"#f0f921\"]],\"type\":\"heatmap\"}],\"heatmapgl\":[{\"colorbar\":{\"outlinewidth\":0,\"ticks\":\"\"},\"colorscale\":[[0.0,\"#0d0887\"],[0.1111111111111111,\"#46039f\"],[0.2222222222222222,\"#7201a8\"],[0.3333333333333333,\"#9c179e\"],[0.4444444444444444,\"#bd3786\"],[0.5555555555555556,\"#d8576b\"],[0.6666666666666666,\"#ed7953\"],[0.7777777777777778,\"#fb9f3a\"],[0.8888888888888888,\"#fdca26\"],[1.0,\"#f0f921\"]],\"type\":\"heatmapgl\"}],\"histogram\":[{\"marker\":{\"pattern\":{\"fillmode\":\"overlay\",\"size\":10,\"solidity\":0.2}},\"type\":\"histogram\"}],\"histogram2d\":[{\"colorbar\":{\"outlinewidth\":0,\"ticks\":\"\"},\"colorscale\":[[0.0,\"#0d0887\"],[0.1111111111111111,\"#46039f\"],[0.2222222222222222,\"#7201a8\"],[0.3333333333333333,\"#9c179e\"],[0.4444444444444444,\"#bd3786\"],[0.5555555555555556,\"#d8576b\"],[0.6666666666666666,\"#ed7953\"],[0.7777777777777778,\"#fb9f3a\"],[0.8888888888888888,\"#fdca26\"],[1.0,\"#f0f921\"]],\"type\":\"histogram2d\"}],\"histogram2dcontour\":[{\"colorbar\":{\"outlinewidth\":0,\"ticks\":\"\"},\"colorscale\":[[0.0,\"#0d0887\"],[0.1111111111111111,\"#46039f\"],[0.2222222222222222,\"#7201a8\"],[0.3333333333333333,\"#9c179e\"],[0.4444444444444444,\"#bd3786\"],[0.5555555555555556,\"#d8576b\"],[0.6666666666666666,\"#ed7953\"],[0.7777777777777778,\"#fb9f3a\"],[0.8888888888888888,\"#fdca26\"],[1.0,\"#f0f921\"]],\"type\":\"histogram2dcontour\"}],\"mesh3d\":[{\"colorbar\":{\"outlinewidth\":0,\"ticks\":\"\"},\"type\":\"mesh3d\"}],\"parcoords\":[{\"line\":{\"colorbar\":{\"outlinewidth\":0,\"ticks\":\"\"}},\"type\":\"parcoords\"}],\"pie\":[{\"automargin\":true,\"type\":\"pie\"}],\"scatter\":[{\"marker\":{\"colorbar\":{\"outlinewidth\":0,\"ticks\":\"\"}},\"type\":\"scatter\"}],\"scatter3d\":[{\"line\":{\"colorbar\":{\"outlinewidth\":0,\"ticks\":\"\"}},\"marker\":{\"colorbar\":{\"outlinewidth\":0,\"ticks\":\"\"}},\"type\":\"scatter3d\"}],\"scattercarpet\":[{\"marker\":{\"colorbar\":{\"outlinewidth\":0,\"ticks\":\"\"}},\"type\":\"scattercarpet\"}],\"scattergeo\":[{\"marker\":{\"colorbar\":{\"outlinewidth\":0,\"ticks\":\"\"}},\"type\":\"scattergeo\"}],\"scattergl\":[{\"marker\":{\"colorbar\":{\"outlinewidth\":0,\"ticks\":\"\"}},\"type\":\"scattergl\"}],\"scattermapbox\":[{\"marker\":{\"colorbar\":{\"outlinewidth\":0,\"ticks\":\"\"}},\"type\":\"scattermapbox\"}],\"scatterpolar\":[{\"marker\":{\"colorbar\":{\"outlinewidth\":0,\"ticks\":\"\"}},\"type\":\"scatterpolar\"}],\"scatterpolargl\":[{\"marker\":{\"colorbar\":{\"outlinewidth\":0,\"ticks\":\"\"}},\"type\":\"scatterpolargl\"}],\"scatterternary\":[{\"marker\":{\"colorbar\":{\"outlinewidth\":0,\"ticks\":\"\"}},\"type\":\"scatterternary\"}],\"surface\":[{\"colorbar\":{\"outlinewidth\":0,\"ticks\":\"\"},\"colorscale\":[[0.0,\"#0d0887\"],[0.1111111111111111,\"#46039f\"],[0.2222222222222222,\"#7201a8\"],[0.3333333333333333,\"#9c179e\"],[0.4444444444444444,\"#bd3786\"],[0.5555555555555556,\"#d8576b\"],[0.6666666666666666,\"#ed7953\"],[0.7777777777777778,\"#fb9f3a\"],[0.8888888888888888,\"#fdca26\"],[1.0,\"#f0f921\"]],\"type\":\"surface\"}],\"table\":[{\"cells\":{\"fill\":{\"color\":\"#EBF0F8\"},\"line\":{\"color\":\"white\"}},\"header\":{\"fill\":{\"color\":\"#C8D4E3\"},\"line\":{\"color\":\"white\"}},\"type\":\"table\"}]},\"layout\":{\"annotationdefaults\":{\"arrowcolor\":\"#2a3f5f\",\"arrowhead\":0,\"arrowwidth\":1},\"autotypenumbers\":\"strict\",\"coloraxis\":{\"colorbar\":{\"outlinewidth\":0,\"ticks\":\"\"}},\"colorscale\":{\"diverging\":[[0,\"#8e0152\"],[0.1,\"#c51b7d\"],[0.2,\"#de77ae\"],[0.3,\"#f1b6da\"],[0.4,\"#fde0ef\"],[0.5,\"#f7f7f7\"],[0.6,\"#e6f5d0\"],[0.7,\"#b8e186\"],[0.8,\"#7fbc41\"],[0.9,\"#4d9221\"],[1,\"#276419\"]],\"sequential\":[[0.0,\"#0d0887\"],[0.1111111111111111,\"#46039f\"],[0.2222222222222222,\"#7201a8\"],[0.3333333333333333,\"#9c179e\"],[0.4444444444444444,\"#bd3786\"],[0.5555555555555556,\"#d8576b\"],[0.6666666666666666,\"#ed7953\"],[0.7777777777777778,\"#fb9f3a\"],[0.8888888888888888,\"#fdca26\"],[1.0,\"#f0f921\"]],\"sequentialminus\":[[0.0,\"#0d0887\"],[0.1111111111111111,\"#46039f\"],[0.2222222222222222,\"#7201a8\"],[0.3333333333333333,\"#9c179e\"],[0.4444444444444444,\"#bd3786\"],[0.5555555555555556,\"#d8576b\"],[0.6666666666666666,\"#ed7953\"],[0.7777777777777778,\"#fb9f3a\"],[0.8888888888888888,\"#fdca26\"],[1.0,\"#f0f921\"]]},\"colorway\":[\"#636efa\",\"#EF553B\",\"#00cc96\",\"#ab63fa\",\"#FFA15A\",\"#19d3f3\",\"#FF6692\",\"#B6E880\",\"#FF97FF\",\"#FECB52\"],\"font\":{\"color\":\"#2a3f5f\"},\"geo\":{\"bgcolor\":\"white\",\"lakecolor\":\"white\",\"landcolor\":\"#E5ECF6\",\"showlakes\":true,\"showland\":true,\"subunitcolor\":\"white\"},\"hoverlabel\":{\"align\":\"left\"},\"hovermode\":\"closest\",\"mapbox\":{\"style\":\"light\"},\"paper_bgcolor\":\"white\",\"plot_bgcolor\":\"#E5ECF6\",\"polar\":{\"angularaxis\":{\"gridcolor\":\"white\",\"linecolor\":\"white\",\"ticks\":\"\"},\"bgcolor\":\"#E5ECF6\",\"radialaxis\":{\"gridcolor\":\"white\",\"linecolor\":\"white\",\"ticks\":\"\"}},\"scene\":{\"xaxis\":{\"backgroundcolor\":\"#E5ECF6\",\"gridcolor\":\"white\",\"gridwidth\":2,\"linecolor\":\"white\",\"showbackground\":true,\"ticks\":\"\",\"zerolinecolor\":\"white\"},\"yaxis\":{\"backgroundcolor\":\"#E5ECF6\",\"gridcolor\":\"white\",\"gridwidth\":2,\"linecolor\":\"white\",\"showbackground\":true,\"ticks\":\"\",\"zerolinecolor\":\"white\"},\"zaxis\":{\"backgroundcolor\":\"#E5ECF6\",\"gridcolor\":\"white\",\"gridwidth\":2,\"linecolor\":\"white\",\"showbackground\":true,\"ticks\":\"\",\"zerolinecolor\":\"white\"}},\"shapedefaults\":{\"line\":{\"color\":\"#2a3f5f\"}},\"ternary\":{\"aaxis\":{\"gridcolor\":\"white\",\"linecolor\":\"white\",\"ticks\":\"\"},\"baxis\":{\"gridcolor\":\"white\",\"linecolor\":\"white\",\"ticks\":\"\"},\"bgcolor\":\"#E5ECF6\",\"caxis\":{\"gridcolor\":\"white\",\"linecolor\":\"white\",\"ticks\":\"\"}},\"title\":{\"x\":0.05},\"xaxis\":{\"automargin\":true,\"gridcolor\":\"white\",\"linecolor\":\"white\",\"ticks\":\"\",\"title\":{\"standoff\":15},\"zerolinecolor\":\"white\",\"zerolinewidth\":2},\"yaxis\":{\"automargin\":true,\"gridcolor\":\"white\",\"linecolor\":\"white\",\"ticks\":\"\",\"title\":{\"standoff\":15},\"zerolinecolor\":\"white\",\"zerolinewidth\":2}}},\"title\":{\"text\":\"Optimization History Plot\"},\"xaxis\":{\"title\":{\"text\":\"#Trials\"}},\"yaxis\":{\"title\":{\"text\":\"Objective Value\"}}},                        {\"responsive\": true}                    ).then(function(){\n",
       "                            \n",
       "var gd = document.getElementById('d371bf62-2076-4b4c-9ea6-728b3de09067');\n",
       "var x = new MutationObserver(function (mutations, observer) {{\n",
       "        var display = window.getComputedStyle(gd).display;\n",
       "        if (!display || display === 'none') {{\n",
       "            console.log([gd, 'removed!']);\n",
       "            Plotly.purge(gd);\n",
       "            observer.disconnect();\n",
       "        }}\n",
       "}});\n",
       "\n",
       "// Listen for the removal of the full notebook cells\n",
       "var notebookContainer = gd.closest('#notebook-container');\n",
       "if (notebookContainer) {{\n",
       "    x.observe(notebookContainer, {childList: true});\n",
       "}}\n",
       "\n",
       "// Listen for the clearing of the current output cell\n",
       "var outputEl = gd.closest('.output');\n",
       "if (outputEl) {{\n",
       "    x.observe(outputEl, {childList: true});\n",
       "}}\n",
       "\n",
       "                        })                };                });            </script>        </div>"
      ]
     },
     "metadata": {},
     "output_type": "display_data"
    }
   ],
   "source": [
    "###################################################################################################\n",
    "# Plot functions\n",
    "# --------------\n",
    "# Visualize the optimization history. See :func:`~optuna.visualization.plot_optimization_history` for the details.\n",
    "plot_optimization_history(study)"
   ]
  },
  {
   "cell_type": "code",
   "execution_count": 119,
   "metadata": {
    "ExecuteTime": {
     "end_time": "2021-11-29T02:13:46.603800Z",
     "start_time": "2021-11-29T02:13:46.590767Z"
    },
    "executionInfo": {
     "elapsed": 20,
     "status": "aborted",
     "timestamp": 1638057557723,
     "user": {
      "displayName": "Rogério Delfim",
      "photoUrl": "https://lh3.googleusercontent.com/a-/AOh14Gj8lDYWTfZHU0U0sMojRPio71Ec7YDcSEpCaOEE=s64",
      "userId": "04235763959036945343"
     },
     "user_tz": 180
    },
    "id": "XbL1Cd57i347"
   },
   "outputs": [],
   "source": [
    "#plot_intermediate_values(study)\n",
    "###################################################################################################\n",
    "# Visualize the learning curves of the trials. See :func:`~optuna.visualization.plot_intermediate_values` for the details.\n",
    "#plot_intermediate_values(study)"
   ]
  },
  {
   "cell_type": "code",
   "execution_count": 120,
   "metadata": {
    "ExecuteTime": {
     "end_time": "2021-11-29T02:13:46.635763Z",
     "start_time": "2021-11-29T02:13:46.605763Z"
    },
    "executionInfo": {
     "elapsed": 19,
     "status": "aborted",
     "timestamp": 1638057557723,
     "user": {
      "displayName": "Rogério Delfim",
      "photoUrl": "https://lh3.googleusercontent.com/a-/AOh14Gj8lDYWTfZHU0U0sMojRPio71Ec7YDcSEpCaOEE=s64",
      "userId": "04235763959036945343"
     },
     "user_tz": 180
    },
    "id": "nIOk6e4Li347"
   },
   "outputs": [
    {
     "data": {
      "application/vnd.plotly.v1+json": {
       "config": {
        "plotlyServerURL": "https://plot.ly"
       },
       "data": [
        {
         "dimensions": [
          {
           "label": "Objective Value",
           "range": [
            0.6298789019203499,
            0.6649300128850217
           ],
           "values": [
            0.6608176249564872,
            0.6601325973591153,
            0.6427771588193454,
            0.6638438873005293,
            0.656192223820365,
            0.6570654137698817,
            0.6609237574303389,
            0.6519632525317914,
            0.6298789019203499,
            0.6606913078662908,
            0.644323621739552,
            0.6645593456394623,
            0.6646287055317674,
            0.6646191118088253,
            0.6490389142945792,
            0.6648698628424137,
            0.6530680905287827,
            0.6566925900352235,
            0.6644974396978448,
            0.6314982702796567,
            0.6487787523188924,
            0.6645451245940481,
            0.6648411180668586,
            0.6607579171146112,
            0.6569722358985731,
            0.6646086228333111,
            0.6607266923600953,
            0.6649300128850217,
            0.6569293339613721,
            0.6612476568022565
           ]
          },
          {
           "label": "bootstrap",
           "range": [
            0,
            0
           ],
           "ticktext": [
            "True"
           ],
           "tickvals": [
            0
           ],
           "values": [
            0,
            0,
            0,
            0,
            0,
            0,
            0,
            0,
            0,
            0,
            0,
            0,
            0,
            0,
            0,
            0,
            0,
            0,
            0,
            0,
            0,
            0,
            0,
            0,
            0,
            0,
            0,
            0,
            0,
            0
           ]
          },
          {
           "label": "criterion",
           "range": [
            0,
            1
           ],
           "ticktext": [
            "gini",
            "entropy"
           ],
           "tickvals": [
            0,
            1
           ],
           "values": [
            0,
            1,
            0,
            1,
            1,
            0,
            0,
            0,
            1,
            0,
            1,
            1,
            1,
            1,
            1,
            1,
            1,
            1,
            1,
            1,
            1,
            1,
            1,
            1,
            1,
            1,
            1,
            1,
            1,
            0
           ]
          },
          {
           "label": "max_depth",
           "range": [
            2,
            9
           ],
           "values": [
            8,
            8,
            4,
            9,
            7,
            7,
            8,
            6,
            2,
            8,
            4,
            9,
            9,
            9,
            5,
            9,
            6,
            7,
            9,
            2,
            5,
            9,
            9,
            8,
            7,
            9,
            8,
            9,
            7,
            8
           ]
          },
          {
           "label": "max_samples",
           "range": [
            0.7500123976620934,
            0.9310233966909693
           ],
           "values": [
            0.8335685304500571,
            0.846871159857764,
            0.9036602876322136,
            0.7974468353008204,
            0.8959408924322944,
            0.8389566847737745,
            0.8817689401428531,
            0.9310233966909693,
            0.7561587558513225,
            0.8037141232641825,
            0.7500123976620934,
            0.7953964778886542,
            0.7967846721551474,
            0.7943352046327946,
            0.779095196446515,
            0.8188441525172186,
            0.8183600000784966,
            0.8638454629932327,
            0.7765000194586029,
            0.8231783710552935,
            0.8543441741009762,
            0.7755549355301372,
            0.8126072453342384,
            0.8170993908802305,
            0.8107240356947015,
            0.8697932861109084,
            0.8283759009894696,
            0.7657015920690705,
            0.7647806712121554,
            0.8353493207837066
           ]
          },
          {
           "label": "n_estimators",
           "range": [
            146,
            1000
           ],
           "values": [
            429,
            474,
            146,
            414,
            505,
            914,
            842,
            333,
            277,
            468,
            696,
            729,
            678,
            681,
            651,
            829,
            817,
            995,
            582,
            803,
            589,
            747,
            934,
            1000,
            914,
            890,
            625,
            772,
            766,
            883
           ]
          },
          {
           "label": "n_jobs",
           "range": [
            -1,
            -1
           ],
           "values": [
            -1,
            -1,
            -1,
            -1,
            -1,
            -1,
            -1,
            -1,
            -1,
            -1,
            -1,
            -1,
            -1,
            -1,
            -1,
            -1,
            -1,
            -1,
            -1,
            -1,
            -1,
            -1,
            -1,
            -1,
            -1,
            -1,
            -1,
            -1,
            -1,
            -1
           ]
          },
          {
           "label": "random_state",
           "range": [
            12359,
            12359
           ],
           "values": [
            12359,
            12359,
            12359,
            12359,
            12359,
            12359,
            12359,
            12359,
            12359,
            12359,
            12359,
            12359,
            12359,
            12359,
            12359,
            12359,
            12359,
            12359,
            12359,
            12359,
            12359,
            12359,
            12359,
            12359,
            12359,
            12359,
            12359,
            12359,
            12359,
            12359
           ]
          }
         ],
         "labelangle": 30,
         "labelside": "bottom",
         "line": {
          "color": [
           0.6608176249564872,
           0.6601325973591153,
           0.6427771588193454,
           0.6638438873005293,
           0.656192223820365,
           0.6570654137698817,
           0.6609237574303389,
           0.6519632525317914,
           0.6298789019203499,
           0.6606913078662908,
           0.644323621739552,
           0.6645593456394623,
           0.6646287055317674,
           0.6646191118088253,
           0.6490389142945792,
           0.6648698628424137,
           0.6530680905287827,
           0.6566925900352235,
           0.6644974396978448,
           0.6314982702796567,
           0.6487787523188924,
           0.6645451245940481,
           0.6648411180668586,
           0.6607579171146112,
           0.6569722358985731,
           0.6646086228333111,
           0.6607266923600953,
           0.6649300128850217,
           0.6569293339613721,
           0.6612476568022565
          ],
          "colorbar": {
           "title": {
            "text": "Objective Value"
           }
          },
          "colorscale": [
           [
            0,
            "rgb(247,251,255)"
           ],
           [
            0.125,
            "rgb(222,235,247)"
           ],
           [
            0.25,
            "rgb(198,219,239)"
           ],
           [
            0.375,
            "rgb(158,202,225)"
           ],
           [
            0.5,
            "rgb(107,174,214)"
           ],
           [
            0.625,
            "rgb(66,146,198)"
           ],
           [
            0.75,
            "rgb(33,113,181)"
           ],
           [
            0.875,
            "rgb(8,81,156)"
           ],
           [
            1,
            "rgb(8,48,107)"
           ]
          ],
          "reversescale": false,
          "showscale": true
         },
         "type": "parcoords"
        }
       ],
       "layout": {
        "template": {
         "data": {
          "bar": [
           {
            "error_x": {
             "color": "#2a3f5f"
            },
            "error_y": {
             "color": "#2a3f5f"
            },
            "marker": {
             "line": {
              "color": "#E5ECF6",
              "width": 0.5
             },
             "pattern": {
              "fillmode": "overlay",
              "size": 10,
              "solidity": 0.2
             }
            },
            "type": "bar"
           }
          ],
          "barpolar": [
           {
            "marker": {
             "line": {
              "color": "#E5ECF6",
              "width": 0.5
             },
             "pattern": {
              "fillmode": "overlay",
              "size": 10,
              "solidity": 0.2
             }
            },
            "type": "barpolar"
           }
          ],
          "carpet": [
           {
            "aaxis": {
             "endlinecolor": "#2a3f5f",
             "gridcolor": "white",
             "linecolor": "white",
             "minorgridcolor": "white",
             "startlinecolor": "#2a3f5f"
            },
            "baxis": {
             "endlinecolor": "#2a3f5f",
             "gridcolor": "white",
             "linecolor": "white",
             "minorgridcolor": "white",
             "startlinecolor": "#2a3f5f"
            },
            "type": "carpet"
           }
          ],
          "choropleth": [
           {
            "colorbar": {
             "outlinewidth": 0,
             "ticks": ""
            },
            "type": "choropleth"
           }
          ],
          "contour": [
           {
            "colorbar": {
             "outlinewidth": 0,
             "ticks": ""
            },
            "colorscale": [
             [
              0,
              "#0d0887"
             ],
             [
              0.1111111111111111,
              "#46039f"
             ],
             [
              0.2222222222222222,
              "#7201a8"
             ],
             [
              0.3333333333333333,
              "#9c179e"
             ],
             [
              0.4444444444444444,
              "#bd3786"
             ],
             [
              0.5555555555555556,
              "#d8576b"
             ],
             [
              0.6666666666666666,
              "#ed7953"
             ],
             [
              0.7777777777777778,
              "#fb9f3a"
             ],
             [
              0.8888888888888888,
              "#fdca26"
             ],
             [
              1,
              "#f0f921"
             ]
            ],
            "type": "contour"
           }
          ],
          "contourcarpet": [
           {
            "colorbar": {
             "outlinewidth": 0,
             "ticks": ""
            },
            "type": "contourcarpet"
           }
          ],
          "heatmap": [
           {
            "colorbar": {
             "outlinewidth": 0,
             "ticks": ""
            },
            "colorscale": [
             [
              0,
              "#0d0887"
             ],
             [
              0.1111111111111111,
              "#46039f"
             ],
             [
              0.2222222222222222,
              "#7201a8"
             ],
             [
              0.3333333333333333,
              "#9c179e"
             ],
             [
              0.4444444444444444,
              "#bd3786"
             ],
             [
              0.5555555555555556,
              "#d8576b"
             ],
             [
              0.6666666666666666,
              "#ed7953"
             ],
             [
              0.7777777777777778,
              "#fb9f3a"
             ],
             [
              0.8888888888888888,
              "#fdca26"
             ],
             [
              1,
              "#f0f921"
             ]
            ],
            "type": "heatmap"
           }
          ],
          "heatmapgl": [
           {
            "colorbar": {
             "outlinewidth": 0,
             "ticks": ""
            },
            "colorscale": [
             [
              0,
              "#0d0887"
             ],
             [
              0.1111111111111111,
              "#46039f"
             ],
             [
              0.2222222222222222,
              "#7201a8"
             ],
             [
              0.3333333333333333,
              "#9c179e"
             ],
             [
              0.4444444444444444,
              "#bd3786"
             ],
             [
              0.5555555555555556,
              "#d8576b"
             ],
             [
              0.6666666666666666,
              "#ed7953"
             ],
             [
              0.7777777777777778,
              "#fb9f3a"
             ],
             [
              0.8888888888888888,
              "#fdca26"
             ],
             [
              1,
              "#f0f921"
             ]
            ],
            "type": "heatmapgl"
           }
          ],
          "histogram": [
           {
            "marker": {
             "pattern": {
              "fillmode": "overlay",
              "size": 10,
              "solidity": 0.2
             }
            },
            "type": "histogram"
           }
          ],
          "histogram2d": [
           {
            "colorbar": {
             "outlinewidth": 0,
             "ticks": ""
            },
            "colorscale": [
             [
              0,
              "#0d0887"
             ],
             [
              0.1111111111111111,
              "#46039f"
             ],
             [
              0.2222222222222222,
              "#7201a8"
             ],
             [
              0.3333333333333333,
              "#9c179e"
             ],
             [
              0.4444444444444444,
              "#bd3786"
             ],
             [
              0.5555555555555556,
              "#d8576b"
             ],
             [
              0.6666666666666666,
              "#ed7953"
             ],
             [
              0.7777777777777778,
              "#fb9f3a"
             ],
             [
              0.8888888888888888,
              "#fdca26"
             ],
             [
              1,
              "#f0f921"
             ]
            ],
            "type": "histogram2d"
           }
          ],
          "histogram2dcontour": [
           {
            "colorbar": {
             "outlinewidth": 0,
             "ticks": ""
            },
            "colorscale": [
             [
              0,
              "#0d0887"
             ],
             [
              0.1111111111111111,
              "#46039f"
             ],
             [
              0.2222222222222222,
              "#7201a8"
             ],
             [
              0.3333333333333333,
              "#9c179e"
             ],
             [
              0.4444444444444444,
              "#bd3786"
             ],
             [
              0.5555555555555556,
              "#d8576b"
             ],
             [
              0.6666666666666666,
              "#ed7953"
             ],
             [
              0.7777777777777778,
              "#fb9f3a"
             ],
             [
              0.8888888888888888,
              "#fdca26"
             ],
             [
              1,
              "#f0f921"
             ]
            ],
            "type": "histogram2dcontour"
           }
          ],
          "mesh3d": [
           {
            "colorbar": {
             "outlinewidth": 0,
             "ticks": ""
            },
            "type": "mesh3d"
           }
          ],
          "parcoords": [
           {
            "line": {
             "colorbar": {
              "outlinewidth": 0,
              "ticks": ""
             }
            },
            "type": "parcoords"
           }
          ],
          "pie": [
           {
            "automargin": true,
            "type": "pie"
           }
          ],
          "scatter": [
           {
            "marker": {
             "colorbar": {
              "outlinewidth": 0,
              "ticks": ""
             }
            },
            "type": "scatter"
           }
          ],
          "scatter3d": [
           {
            "line": {
             "colorbar": {
              "outlinewidth": 0,
              "ticks": ""
             }
            },
            "marker": {
             "colorbar": {
              "outlinewidth": 0,
              "ticks": ""
             }
            },
            "type": "scatter3d"
           }
          ],
          "scattercarpet": [
           {
            "marker": {
             "colorbar": {
              "outlinewidth": 0,
              "ticks": ""
             }
            },
            "type": "scattercarpet"
           }
          ],
          "scattergeo": [
           {
            "marker": {
             "colorbar": {
              "outlinewidth": 0,
              "ticks": ""
             }
            },
            "type": "scattergeo"
           }
          ],
          "scattergl": [
           {
            "marker": {
             "colorbar": {
              "outlinewidth": 0,
              "ticks": ""
             }
            },
            "type": "scattergl"
           }
          ],
          "scattermapbox": [
           {
            "marker": {
             "colorbar": {
              "outlinewidth": 0,
              "ticks": ""
             }
            },
            "type": "scattermapbox"
           }
          ],
          "scatterpolar": [
           {
            "marker": {
             "colorbar": {
              "outlinewidth": 0,
              "ticks": ""
             }
            },
            "type": "scatterpolar"
           }
          ],
          "scatterpolargl": [
           {
            "marker": {
             "colorbar": {
              "outlinewidth": 0,
              "ticks": ""
             }
            },
            "type": "scatterpolargl"
           }
          ],
          "scatterternary": [
           {
            "marker": {
             "colorbar": {
              "outlinewidth": 0,
              "ticks": ""
             }
            },
            "type": "scatterternary"
           }
          ],
          "surface": [
           {
            "colorbar": {
             "outlinewidth": 0,
             "ticks": ""
            },
            "colorscale": [
             [
              0,
              "#0d0887"
             ],
             [
              0.1111111111111111,
              "#46039f"
             ],
             [
              0.2222222222222222,
              "#7201a8"
             ],
             [
              0.3333333333333333,
              "#9c179e"
             ],
             [
              0.4444444444444444,
              "#bd3786"
             ],
             [
              0.5555555555555556,
              "#d8576b"
             ],
             [
              0.6666666666666666,
              "#ed7953"
             ],
             [
              0.7777777777777778,
              "#fb9f3a"
             ],
             [
              0.8888888888888888,
              "#fdca26"
             ],
             [
              1,
              "#f0f921"
             ]
            ],
            "type": "surface"
           }
          ],
          "table": [
           {
            "cells": {
             "fill": {
              "color": "#EBF0F8"
             },
             "line": {
              "color": "white"
             }
            },
            "header": {
             "fill": {
              "color": "#C8D4E3"
             },
             "line": {
              "color": "white"
             }
            },
            "type": "table"
           }
          ]
         },
         "layout": {
          "annotationdefaults": {
           "arrowcolor": "#2a3f5f",
           "arrowhead": 0,
           "arrowwidth": 1
          },
          "autotypenumbers": "strict",
          "coloraxis": {
           "colorbar": {
            "outlinewidth": 0,
            "ticks": ""
           }
          },
          "colorscale": {
           "diverging": [
            [
             0,
             "#8e0152"
            ],
            [
             0.1,
             "#c51b7d"
            ],
            [
             0.2,
             "#de77ae"
            ],
            [
             0.3,
             "#f1b6da"
            ],
            [
             0.4,
             "#fde0ef"
            ],
            [
             0.5,
             "#f7f7f7"
            ],
            [
             0.6,
             "#e6f5d0"
            ],
            [
             0.7,
             "#b8e186"
            ],
            [
             0.8,
             "#7fbc41"
            ],
            [
             0.9,
             "#4d9221"
            ],
            [
             1,
             "#276419"
            ]
           ],
           "sequential": [
            [
             0,
             "#0d0887"
            ],
            [
             0.1111111111111111,
             "#46039f"
            ],
            [
             0.2222222222222222,
             "#7201a8"
            ],
            [
             0.3333333333333333,
             "#9c179e"
            ],
            [
             0.4444444444444444,
             "#bd3786"
            ],
            [
             0.5555555555555556,
             "#d8576b"
            ],
            [
             0.6666666666666666,
             "#ed7953"
            ],
            [
             0.7777777777777778,
             "#fb9f3a"
            ],
            [
             0.8888888888888888,
             "#fdca26"
            ],
            [
             1,
             "#f0f921"
            ]
           ],
           "sequentialminus": [
            [
             0,
             "#0d0887"
            ],
            [
             0.1111111111111111,
             "#46039f"
            ],
            [
             0.2222222222222222,
             "#7201a8"
            ],
            [
             0.3333333333333333,
             "#9c179e"
            ],
            [
             0.4444444444444444,
             "#bd3786"
            ],
            [
             0.5555555555555556,
             "#d8576b"
            ],
            [
             0.6666666666666666,
             "#ed7953"
            ],
            [
             0.7777777777777778,
             "#fb9f3a"
            ],
            [
             0.8888888888888888,
             "#fdca26"
            ],
            [
             1,
             "#f0f921"
            ]
           ]
          },
          "colorway": [
           "#636efa",
           "#EF553B",
           "#00cc96",
           "#ab63fa",
           "#FFA15A",
           "#19d3f3",
           "#FF6692",
           "#B6E880",
           "#FF97FF",
           "#FECB52"
          ],
          "font": {
           "color": "#2a3f5f"
          },
          "geo": {
           "bgcolor": "white",
           "lakecolor": "white",
           "landcolor": "#E5ECF6",
           "showlakes": true,
           "showland": true,
           "subunitcolor": "white"
          },
          "hoverlabel": {
           "align": "left"
          },
          "hovermode": "closest",
          "mapbox": {
           "style": "light"
          },
          "paper_bgcolor": "white",
          "plot_bgcolor": "#E5ECF6",
          "polar": {
           "angularaxis": {
            "gridcolor": "white",
            "linecolor": "white",
            "ticks": ""
           },
           "bgcolor": "#E5ECF6",
           "radialaxis": {
            "gridcolor": "white",
            "linecolor": "white",
            "ticks": ""
           }
          },
          "scene": {
           "xaxis": {
            "backgroundcolor": "#E5ECF6",
            "gridcolor": "white",
            "gridwidth": 2,
            "linecolor": "white",
            "showbackground": true,
            "ticks": "",
            "zerolinecolor": "white"
           },
           "yaxis": {
            "backgroundcolor": "#E5ECF6",
            "gridcolor": "white",
            "gridwidth": 2,
            "linecolor": "white",
            "showbackground": true,
            "ticks": "",
            "zerolinecolor": "white"
           },
           "zaxis": {
            "backgroundcolor": "#E5ECF6",
            "gridcolor": "white",
            "gridwidth": 2,
            "linecolor": "white",
            "showbackground": true,
            "ticks": "",
            "zerolinecolor": "white"
           }
          },
          "shapedefaults": {
           "line": {
            "color": "#2a3f5f"
           }
          },
          "ternary": {
           "aaxis": {
            "gridcolor": "white",
            "linecolor": "white",
            "ticks": ""
           },
           "baxis": {
            "gridcolor": "white",
            "linecolor": "white",
            "ticks": ""
           },
           "bgcolor": "#E5ECF6",
           "caxis": {
            "gridcolor": "white",
            "linecolor": "white",
            "ticks": ""
           }
          },
          "title": {
           "x": 0.05
          },
          "xaxis": {
           "automargin": true,
           "gridcolor": "white",
           "linecolor": "white",
           "ticks": "",
           "title": {
            "standoff": 15
           },
           "zerolinecolor": "white",
           "zerolinewidth": 2
          },
          "yaxis": {
           "automargin": true,
           "gridcolor": "white",
           "linecolor": "white",
           "ticks": "",
           "title": {
            "standoff": 15
           },
           "zerolinecolor": "white",
           "zerolinewidth": 2
          }
         }
        },
        "title": {
         "text": "Parallel Coordinate Plot"
        }
       }
      },
      "text/html": [
       "<div>                            <div id=\"c3b60d95-e844-4302-ad22-0ae445868166\" class=\"plotly-graph-div\" style=\"height:525px; width:100%;\"></div>            <script type=\"text/javascript\">                require([\"plotly\"], function(Plotly) {                    window.PLOTLYENV=window.PLOTLYENV || {};                                    if (document.getElementById(\"c3b60d95-e844-4302-ad22-0ae445868166\")) {                    Plotly.newPlot(                        \"c3b60d95-e844-4302-ad22-0ae445868166\",                        [{\"dimensions\":[{\"label\":\"Objective Value\",\"range\":[0.6298789019203499,0.6649300128850217],\"values\":[0.6608176249564872,0.6601325973591153,0.6427771588193454,0.6638438873005293,0.656192223820365,0.6570654137698817,0.6609237574303389,0.6519632525317914,0.6298789019203499,0.6606913078662908,0.644323621739552,0.6645593456394623,0.6646287055317674,0.6646191118088253,0.6490389142945792,0.6648698628424137,0.6530680905287827,0.6566925900352235,0.6644974396978448,0.6314982702796567,0.6487787523188924,0.6645451245940481,0.6648411180668586,0.6607579171146112,0.6569722358985731,0.6646086228333111,0.6607266923600953,0.6649300128850217,0.6569293339613721,0.6612476568022565]},{\"label\":\"bootstrap\",\"range\":[0,0],\"ticktext\":[\"True\"],\"tickvals\":[0],\"values\":[0,0,0,0,0,0,0,0,0,0,0,0,0,0,0,0,0,0,0,0,0,0,0,0,0,0,0,0,0,0]},{\"label\":\"criterion\",\"range\":[0,1],\"ticktext\":[\"gini\",\"entropy\"],\"tickvals\":[0,1],\"values\":[0,1,0,1,1,0,0,0,1,0,1,1,1,1,1,1,1,1,1,1,1,1,1,1,1,1,1,1,1,0]},{\"label\":\"max_depth\",\"range\":[2,9],\"values\":[8,8,4,9,7,7,8,6,2,8,4,9,9,9,5,9,6,7,9,2,5,9,9,8,7,9,8,9,7,8]},{\"label\":\"max_samples\",\"range\":[0.7500123976620934,0.9310233966909693],\"values\":[0.8335685304500571,0.846871159857764,0.9036602876322136,0.7974468353008204,0.8959408924322944,0.8389566847737745,0.8817689401428531,0.9310233966909693,0.7561587558513225,0.8037141232641825,0.7500123976620934,0.7953964778886542,0.7967846721551474,0.7943352046327946,0.779095196446515,0.8188441525172186,0.8183600000784966,0.8638454629932327,0.7765000194586029,0.8231783710552935,0.8543441741009762,0.7755549355301372,0.8126072453342384,0.8170993908802305,0.8107240356947015,0.8697932861109084,0.8283759009894696,0.7657015920690705,0.7647806712121554,0.8353493207837066]},{\"label\":\"n_estimators\",\"range\":[146,1000],\"values\":[429,474,146,414,505,914,842,333,277,468,696,729,678,681,651,829,817,995,582,803,589,747,934,1000,914,890,625,772,766,883]},{\"label\":\"n_jobs\",\"range\":[-1,-1],\"values\":[-1,-1,-1,-1,-1,-1,-1,-1,-1,-1,-1,-1,-1,-1,-1,-1,-1,-1,-1,-1,-1,-1,-1,-1,-1,-1,-1,-1,-1,-1]},{\"label\":\"random_state\",\"range\":[12359,12359],\"values\":[12359,12359,12359,12359,12359,12359,12359,12359,12359,12359,12359,12359,12359,12359,12359,12359,12359,12359,12359,12359,12359,12359,12359,12359,12359,12359,12359,12359,12359,12359]}],\"labelangle\":30,\"labelside\":\"bottom\",\"line\":{\"color\":[0.6608176249564872,0.6601325973591153,0.6427771588193454,0.6638438873005293,0.656192223820365,0.6570654137698817,0.6609237574303389,0.6519632525317914,0.6298789019203499,0.6606913078662908,0.644323621739552,0.6645593456394623,0.6646287055317674,0.6646191118088253,0.6490389142945792,0.6648698628424137,0.6530680905287827,0.6566925900352235,0.6644974396978448,0.6314982702796567,0.6487787523188924,0.6645451245940481,0.6648411180668586,0.6607579171146112,0.6569722358985731,0.6646086228333111,0.6607266923600953,0.6649300128850217,0.6569293339613721,0.6612476568022565],\"colorbar\":{\"title\":{\"text\":\"Objective Value\"}},\"colorscale\":[[0.0,\"rgb(247,251,255)\"],[0.125,\"rgb(222,235,247)\"],[0.25,\"rgb(198,219,239)\"],[0.375,\"rgb(158,202,225)\"],[0.5,\"rgb(107,174,214)\"],[0.625,\"rgb(66,146,198)\"],[0.75,\"rgb(33,113,181)\"],[0.875,\"rgb(8,81,156)\"],[1.0,\"rgb(8,48,107)\"]],\"reversescale\":false,\"showscale\":true},\"type\":\"parcoords\"}],                        {\"template\":{\"data\":{\"bar\":[{\"error_x\":{\"color\":\"#2a3f5f\"},\"error_y\":{\"color\":\"#2a3f5f\"},\"marker\":{\"line\":{\"color\":\"#E5ECF6\",\"width\":0.5},\"pattern\":{\"fillmode\":\"overlay\",\"size\":10,\"solidity\":0.2}},\"type\":\"bar\"}],\"barpolar\":[{\"marker\":{\"line\":{\"color\":\"#E5ECF6\",\"width\":0.5},\"pattern\":{\"fillmode\":\"overlay\",\"size\":10,\"solidity\":0.2}},\"type\":\"barpolar\"}],\"carpet\":[{\"aaxis\":{\"endlinecolor\":\"#2a3f5f\",\"gridcolor\":\"white\",\"linecolor\":\"white\",\"minorgridcolor\":\"white\",\"startlinecolor\":\"#2a3f5f\"},\"baxis\":{\"endlinecolor\":\"#2a3f5f\",\"gridcolor\":\"white\",\"linecolor\":\"white\",\"minorgridcolor\":\"white\",\"startlinecolor\":\"#2a3f5f\"},\"type\":\"carpet\"}],\"choropleth\":[{\"colorbar\":{\"outlinewidth\":0,\"ticks\":\"\"},\"type\":\"choropleth\"}],\"contour\":[{\"colorbar\":{\"outlinewidth\":0,\"ticks\":\"\"},\"colorscale\":[[0.0,\"#0d0887\"],[0.1111111111111111,\"#46039f\"],[0.2222222222222222,\"#7201a8\"],[0.3333333333333333,\"#9c179e\"],[0.4444444444444444,\"#bd3786\"],[0.5555555555555556,\"#d8576b\"],[0.6666666666666666,\"#ed7953\"],[0.7777777777777778,\"#fb9f3a\"],[0.8888888888888888,\"#fdca26\"],[1.0,\"#f0f921\"]],\"type\":\"contour\"}],\"contourcarpet\":[{\"colorbar\":{\"outlinewidth\":0,\"ticks\":\"\"},\"type\":\"contourcarpet\"}],\"heatmap\":[{\"colorbar\":{\"outlinewidth\":0,\"ticks\":\"\"},\"colorscale\":[[0.0,\"#0d0887\"],[0.1111111111111111,\"#46039f\"],[0.2222222222222222,\"#7201a8\"],[0.3333333333333333,\"#9c179e\"],[0.4444444444444444,\"#bd3786\"],[0.5555555555555556,\"#d8576b\"],[0.6666666666666666,\"#ed7953\"],[0.7777777777777778,\"#fb9f3a\"],[0.8888888888888888,\"#fdca26\"],[1.0,\"#f0f921\"]],\"type\":\"heatmap\"}],\"heatmapgl\":[{\"colorbar\":{\"outlinewidth\":0,\"ticks\":\"\"},\"colorscale\":[[0.0,\"#0d0887\"],[0.1111111111111111,\"#46039f\"],[0.2222222222222222,\"#7201a8\"],[0.3333333333333333,\"#9c179e\"],[0.4444444444444444,\"#bd3786\"],[0.5555555555555556,\"#d8576b\"],[0.6666666666666666,\"#ed7953\"],[0.7777777777777778,\"#fb9f3a\"],[0.8888888888888888,\"#fdca26\"],[1.0,\"#f0f921\"]],\"type\":\"heatmapgl\"}],\"histogram\":[{\"marker\":{\"pattern\":{\"fillmode\":\"overlay\",\"size\":10,\"solidity\":0.2}},\"type\":\"histogram\"}],\"histogram2d\":[{\"colorbar\":{\"outlinewidth\":0,\"ticks\":\"\"},\"colorscale\":[[0.0,\"#0d0887\"],[0.1111111111111111,\"#46039f\"],[0.2222222222222222,\"#7201a8\"],[0.3333333333333333,\"#9c179e\"],[0.4444444444444444,\"#bd3786\"],[0.5555555555555556,\"#d8576b\"],[0.6666666666666666,\"#ed7953\"],[0.7777777777777778,\"#fb9f3a\"],[0.8888888888888888,\"#fdca26\"],[1.0,\"#f0f921\"]],\"type\":\"histogram2d\"}],\"histogram2dcontour\":[{\"colorbar\":{\"outlinewidth\":0,\"ticks\":\"\"},\"colorscale\":[[0.0,\"#0d0887\"],[0.1111111111111111,\"#46039f\"],[0.2222222222222222,\"#7201a8\"],[0.3333333333333333,\"#9c179e\"],[0.4444444444444444,\"#bd3786\"],[0.5555555555555556,\"#d8576b\"],[0.6666666666666666,\"#ed7953\"],[0.7777777777777778,\"#fb9f3a\"],[0.8888888888888888,\"#fdca26\"],[1.0,\"#f0f921\"]],\"type\":\"histogram2dcontour\"}],\"mesh3d\":[{\"colorbar\":{\"outlinewidth\":0,\"ticks\":\"\"},\"type\":\"mesh3d\"}],\"parcoords\":[{\"line\":{\"colorbar\":{\"outlinewidth\":0,\"ticks\":\"\"}},\"type\":\"parcoords\"}],\"pie\":[{\"automargin\":true,\"type\":\"pie\"}],\"scatter\":[{\"marker\":{\"colorbar\":{\"outlinewidth\":0,\"ticks\":\"\"}},\"type\":\"scatter\"}],\"scatter3d\":[{\"line\":{\"colorbar\":{\"outlinewidth\":0,\"ticks\":\"\"}},\"marker\":{\"colorbar\":{\"outlinewidth\":0,\"ticks\":\"\"}},\"type\":\"scatter3d\"}],\"scattercarpet\":[{\"marker\":{\"colorbar\":{\"outlinewidth\":0,\"ticks\":\"\"}},\"type\":\"scattercarpet\"}],\"scattergeo\":[{\"marker\":{\"colorbar\":{\"outlinewidth\":0,\"ticks\":\"\"}},\"type\":\"scattergeo\"}],\"scattergl\":[{\"marker\":{\"colorbar\":{\"outlinewidth\":0,\"ticks\":\"\"}},\"type\":\"scattergl\"}],\"scattermapbox\":[{\"marker\":{\"colorbar\":{\"outlinewidth\":0,\"ticks\":\"\"}},\"type\":\"scattermapbox\"}],\"scatterpolar\":[{\"marker\":{\"colorbar\":{\"outlinewidth\":0,\"ticks\":\"\"}},\"type\":\"scatterpolar\"}],\"scatterpolargl\":[{\"marker\":{\"colorbar\":{\"outlinewidth\":0,\"ticks\":\"\"}},\"type\":\"scatterpolargl\"}],\"scatterternary\":[{\"marker\":{\"colorbar\":{\"outlinewidth\":0,\"ticks\":\"\"}},\"type\":\"scatterternary\"}],\"surface\":[{\"colorbar\":{\"outlinewidth\":0,\"ticks\":\"\"},\"colorscale\":[[0.0,\"#0d0887\"],[0.1111111111111111,\"#46039f\"],[0.2222222222222222,\"#7201a8\"],[0.3333333333333333,\"#9c179e\"],[0.4444444444444444,\"#bd3786\"],[0.5555555555555556,\"#d8576b\"],[0.6666666666666666,\"#ed7953\"],[0.7777777777777778,\"#fb9f3a\"],[0.8888888888888888,\"#fdca26\"],[1.0,\"#f0f921\"]],\"type\":\"surface\"}],\"table\":[{\"cells\":{\"fill\":{\"color\":\"#EBF0F8\"},\"line\":{\"color\":\"white\"}},\"header\":{\"fill\":{\"color\":\"#C8D4E3\"},\"line\":{\"color\":\"white\"}},\"type\":\"table\"}]},\"layout\":{\"annotationdefaults\":{\"arrowcolor\":\"#2a3f5f\",\"arrowhead\":0,\"arrowwidth\":1},\"autotypenumbers\":\"strict\",\"coloraxis\":{\"colorbar\":{\"outlinewidth\":0,\"ticks\":\"\"}},\"colorscale\":{\"diverging\":[[0,\"#8e0152\"],[0.1,\"#c51b7d\"],[0.2,\"#de77ae\"],[0.3,\"#f1b6da\"],[0.4,\"#fde0ef\"],[0.5,\"#f7f7f7\"],[0.6,\"#e6f5d0\"],[0.7,\"#b8e186\"],[0.8,\"#7fbc41\"],[0.9,\"#4d9221\"],[1,\"#276419\"]],\"sequential\":[[0.0,\"#0d0887\"],[0.1111111111111111,\"#46039f\"],[0.2222222222222222,\"#7201a8\"],[0.3333333333333333,\"#9c179e\"],[0.4444444444444444,\"#bd3786\"],[0.5555555555555556,\"#d8576b\"],[0.6666666666666666,\"#ed7953\"],[0.7777777777777778,\"#fb9f3a\"],[0.8888888888888888,\"#fdca26\"],[1.0,\"#f0f921\"]],\"sequentialminus\":[[0.0,\"#0d0887\"],[0.1111111111111111,\"#46039f\"],[0.2222222222222222,\"#7201a8\"],[0.3333333333333333,\"#9c179e\"],[0.4444444444444444,\"#bd3786\"],[0.5555555555555556,\"#d8576b\"],[0.6666666666666666,\"#ed7953\"],[0.7777777777777778,\"#fb9f3a\"],[0.8888888888888888,\"#fdca26\"],[1.0,\"#f0f921\"]]},\"colorway\":[\"#636efa\",\"#EF553B\",\"#00cc96\",\"#ab63fa\",\"#FFA15A\",\"#19d3f3\",\"#FF6692\",\"#B6E880\",\"#FF97FF\",\"#FECB52\"],\"font\":{\"color\":\"#2a3f5f\"},\"geo\":{\"bgcolor\":\"white\",\"lakecolor\":\"white\",\"landcolor\":\"#E5ECF6\",\"showlakes\":true,\"showland\":true,\"subunitcolor\":\"white\"},\"hoverlabel\":{\"align\":\"left\"},\"hovermode\":\"closest\",\"mapbox\":{\"style\":\"light\"},\"paper_bgcolor\":\"white\",\"plot_bgcolor\":\"#E5ECF6\",\"polar\":{\"angularaxis\":{\"gridcolor\":\"white\",\"linecolor\":\"white\",\"ticks\":\"\"},\"bgcolor\":\"#E5ECF6\",\"radialaxis\":{\"gridcolor\":\"white\",\"linecolor\":\"white\",\"ticks\":\"\"}},\"scene\":{\"xaxis\":{\"backgroundcolor\":\"#E5ECF6\",\"gridcolor\":\"white\",\"gridwidth\":2,\"linecolor\":\"white\",\"showbackground\":true,\"ticks\":\"\",\"zerolinecolor\":\"white\"},\"yaxis\":{\"backgroundcolor\":\"#E5ECF6\",\"gridcolor\":\"white\",\"gridwidth\":2,\"linecolor\":\"white\",\"showbackground\":true,\"ticks\":\"\",\"zerolinecolor\":\"white\"},\"zaxis\":{\"backgroundcolor\":\"#E5ECF6\",\"gridcolor\":\"white\",\"gridwidth\":2,\"linecolor\":\"white\",\"showbackground\":true,\"ticks\":\"\",\"zerolinecolor\":\"white\"}},\"shapedefaults\":{\"line\":{\"color\":\"#2a3f5f\"}},\"ternary\":{\"aaxis\":{\"gridcolor\":\"white\",\"linecolor\":\"white\",\"ticks\":\"\"},\"baxis\":{\"gridcolor\":\"white\",\"linecolor\":\"white\",\"ticks\":\"\"},\"bgcolor\":\"#E5ECF6\",\"caxis\":{\"gridcolor\":\"white\",\"linecolor\":\"white\",\"ticks\":\"\"}},\"title\":{\"x\":0.05},\"xaxis\":{\"automargin\":true,\"gridcolor\":\"white\",\"linecolor\":\"white\",\"ticks\":\"\",\"title\":{\"standoff\":15},\"zerolinecolor\":\"white\",\"zerolinewidth\":2},\"yaxis\":{\"automargin\":true,\"gridcolor\":\"white\",\"linecolor\":\"white\",\"ticks\":\"\",\"title\":{\"standoff\":15},\"zerolinecolor\":\"white\",\"zerolinewidth\":2}}},\"title\":{\"text\":\"Parallel Coordinate Plot\"}},                        {\"responsive\": true}                    ).then(function(){\n",
       "                            \n",
       "var gd = document.getElementById('c3b60d95-e844-4302-ad22-0ae445868166');\n",
       "var x = new MutationObserver(function (mutations, observer) {{\n",
       "        var display = window.getComputedStyle(gd).display;\n",
       "        if (!display || display === 'none') {{\n",
       "            console.log([gd, 'removed!']);\n",
       "            Plotly.purge(gd);\n",
       "            observer.disconnect();\n",
       "        }}\n",
       "}});\n",
       "\n",
       "// Listen for the removal of the full notebook cells\n",
       "var notebookContainer = gd.closest('#notebook-container');\n",
       "if (notebookContainer) {{\n",
       "    x.observe(notebookContainer, {childList: true});\n",
       "}}\n",
       "\n",
       "// Listen for the clearing of the current output cell\n",
       "var outputEl = gd.closest('.output');\n",
       "if (outputEl) {{\n",
       "    x.observe(outputEl, {childList: true});\n",
       "}}\n",
       "\n",
       "                        })                };                });            </script>        </div>"
      ]
     },
     "metadata": {},
     "output_type": "display_data"
    }
   ],
   "source": [
    "###################################################################################################\n",
    "# Visualize high-dimensional parameter relationships. See :func:`~optuna.visualization.plot_parallel_coordinate` for the details.\n",
    "plot_parallel_coordinate(study)"
   ]
  },
  {
   "cell_type": "code",
   "execution_count": 121,
   "metadata": {
    "ExecuteTime": {
     "end_time": "2021-11-29T02:13:46.666802Z",
     "start_time": "2021-11-29T02:13:46.637764Z"
    },
    "executionInfo": {
     "elapsed": 20,
     "status": "aborted",
     "timestamp": 1638057557724,
     "user": {
      "displayName": "Rogério Delfim",
      "photoUrl": "https://lh3.googleusercontent.com/a-/AOh14Gj8lDYWTfZHU0U0sMojRPio71Ec7YDcSEpCaOEE=s64",
      "userId": "04235763959036945343"
     },
     "user_tz": 180
    },
    "id": "EgZlJAMvi347"
   },
   "outputs": [
    {
     "data": {
      "application/vnd.plotly.v1+json": {
       "config": {
        "plotlyServerURL": "https://plot.ly"
       },
       "data": [
        {
         "dimensions": [
          {
           "label": "Objective Value",
           "range": [
            0.6298789019203499,
            0.6649300128850217
           ],
           "values": [
            0.6608176249564872,
            0.6601325973591153,
            0.6427771588193454,
            0.6638438873005293,
            0.656192223820365,
            0.6570654137698817,
            0.6609237574303389,
            0.6519632525317914,
            0.6298789019203499,
            0.6606913078662908,
            0.644323621739552,
            0.6645593456394623,
            0.6646287055317674,
            0.6646191118088253,
            0.6490389142945792,
            0.6648698628424137,
            0.6530680905287827,
            0.6566925900352235,
            0.6644974396978448,
            0.6314982702796567,
            0.6487787523188924,
            0.6645451245940481,
            0.6648411180668586,
            0.6607579171146112,
            0.6569722358985731,
            0.6646086228333111,
            0.6607266923600953,
            0.6649300128850217,
            0.6569293339613721,
            0.6612476568022565
           ]
          },
          {
           "label": "max_depth",
           "range": [
            2,
            9
           ],
           "values": [
            8,
            8,
            4,
            9,
            7,
            7,
            8,
            6,
            2,
            8,
            4,
            9,
            9,
            9,
            5,
            9,
            6,
            7,
            9,
            2,
            5,
            9,
            9,
            8,
            7,
            9,
            8,
            9,
            7,
            8
           ]
          },
          {
           "label": "max_samples",
           "range": [
            0.7500123976620934,
            0.9310233966909693
           ],
           "values": [
            0.8335685304500571,
            0.846871159857764,
            0.9036602876322136,
            0.7974468353008204,
            0.8959408924322944,
            0.8389566847737745,
            0.8817689401428531,
            0.9310233966909693,
            0.7561587558513225,
            0.8037141232641825,
            0.7500123976620934,
            0.7953964778886542,
            0.7967846721551474,
            0.7943352046327946,
            0.779095196446515,
            0.8188441525172186,
            0.8183600000784966,
            0.8638454629932327,
            0.7765000194586029,
            0.8231783710552935,
            0.8543441741009762,
            0.7755549355301372,
            0.8126072453342384,
            0.8170993908802305,
            0.8107240356947015,
            0.8697932861109084,
            0.8283759009894696,
            0.7657015920690705,
            0.7647806712121554,
            0.8353493207837066
           ]
          },
          {
           "label": "n_estimators",
           "range": [
            146,
            1000
           ],
           "values": [
            429,
            474,
            146,
            414,
            505,
            914,
            842,
            333,
            277,
            468,
            696,
            729,
            678,
            681,
            651,
            829,
            817,
            995,
            582,
            803,
            589,
            747,
            934,
            1000,
            914,
            890,
            625,
            772,
            766,
            883
           ]
          }
         ],
         "labelangle": 30,
         "labelside": "bottom",
         "line": {
          "color": [
           0.6608176249564872,
           0.6601325973591153,
           0.6427771588193454,
           0.6638438873005293,
           0.656192223820365,
           0.6570654137698817,
           0.6609237574303389,
           0.6519632525317914,
           0.6298789019203499,
           0.6606913078662908,
           0.644323621739552,
           0.6645593456394623,
           0.6646287055317674,
           0.6646191118088253,
           0.6490389142945792,
           0.6648698628424137,
           0.6530680905287827,
           0.6566925900352235,
           0.6644974396978448,
           0.6314982702796567,
           0.6487787523188924,
           0.6645451245940481,
           0.6648411180668586,
           0.6607579171146112,
           0.6569722358985731,
           0.6646086228333111,
           0.6607266923600953,
           0.6649300128850217,
           0.6569293339613721,
           0.6612476568022565
          ],
          "colorbar": {
           "title": {
            "text": "Objective Value"
           }
          },
          "colorscale": [
           [
            0,
            "rgb(247,251,255)"
           ],
           [
            0.125,
            "rgb(222,235,247)"
           ],
           [
            0.25,
            "rgb(198,219,239)"
           ],
           [
            0.375,
            "rgb(158,202,225)"
           ],
           [
            0.5,
            "rgb(107,174,214)"
           ],
           [
            0.625,
            "rgb(66,146,198)"
           ],
           [
            0.75,
            "rgb(33,113,181)"
           ],
           [
            0.875,
            "rgb(8,81,156)"
           ],
           [
            1,
            "rgb(8,48,107)"
           ]
          ],
          "reversescale": false,
          "showscale": true
         },
         "type": "parcoords"
        }
       ],
       "layout": {
        "template": {
         "data": {
          "bar": [
           {
            "error_x": {
             "color": "#2a3f5f"
            },
            "error_y": {
             "color": "#2a3f5f"
            },
            "marker": {
             "line": {
              "color": "#E5ECF6",
              "width": 0.5
             },
             "pattern": {
              "fillmode": "overlay",
              "size": 10,
              "solidity": 0.2
             }
            },
            "type": "bar"
           }
          ],
          "barpolar": [
           {
            "marker": {
             "line": {
              "color": "#E5ECF6",
              "width": 0.5
             },
             "pattern": {
              "fillmode": "overlay",
              "size": 10,
              "solidity": 0.2
             }
            },
            "type": "barpolar"
           }
          ],
          "carpet": [
           {
            "aaxis": {
             "endlinecolor": "#2a3f5f",
             "gridcolor": "white",
             "linecolor": "white",
             "minorgridcolor": "white",
             "startlinecolor": "#2a3f5f"
            },
            "baxis": {
             "endlinecolor": "#2a3f5f",
             "gridcolor": "white",
             "linecolor": "white",
             "minorgridcolor": "white",
             "startlinecolor": "#2a3f5f"
            },
            "type": "carpet"
           }
          ],
          "choropleth": [
           {
            "colorbar": {
             "outlinewidth": 0,
             "ticks": ""
            },
            "type": "choropleth"
           }
          ],
          "contour": [
           {
            "colorbar": {
             "outlinewidth": 0,
             "ticks": ""
            },
            "colorscale": [
             [
              0,
              "#0d0887"
             ],
             [
              0.1111111111111111,
              "#46039f"
             ],
             [
              0.2222222222222222,
              "#7201a8"
             ],
             [
              0.3333333333333333,
              "#9c179e"
             ],
             [
              0.4444444444444444,
              "#bd3786"
             ],
             [
              0.5555555555555556,
              "#d8576b"
             ],
             [
              0.6666666666666666,
              "#ed7953"
             ],
             [
              0.7777777777777778,
              "#fb9f3a"
             ],
             [
              0.8888888888888888,
              "#fdca26"
             ],
             [
              1,
              "#f0f921"
             ]
            ],
            "type": "contour"
           }
          ],
          "contourcarpet": [
           {
            "colorbar": {
             "outlinewidth": 0,
             "ticks": ""
            },
            "type": "contourcarpet"
           }
          ],
          "heatmap": [
           {
            "colorbar": {
             "outlinewidth": 0,
             "ticks": ""
            },
            "colorscale": [
             [
              0,
              "#0d0887"
             ],
             [
              0.1111111111111111,
              "#46039f"
             ],
             [
              0.2222222222222222,
              "#7201a8"
             ],
             [
              0.3333333333333333,
              "#9c179e"
             ],
             [
              0.4444444444444444,
              "#bd3786"
             ],
             [
              0.5555555555555556,
              "#d8576b"
             ],
             [
              0.6666666666666666,
              "#ed7953"
             ],
             [
              0.7777777777777778,
              "#fb9f3a"
             ],
             [
              0.8888888888888888,
              "#fdca26"
             ],
             [
              1,
              "#f0f921"
             ]
            ],
            "type": "heatmap"
           }
          ],
          "heatmapgl": [
           {
            "colorbar": {
             "outlinewidth": 0,
             "ticks": ""
            },
            "colorscale": [
             [
              0,
              "#0d0887"
             ],
             [
              0.1111111111111111,
              "#46039f"
             ],
             [
              0.2222222222222222,
              "#7201a8"
             ],
             [
              0.3333333333333333,
              "#9c179e"
             ],
             [
              0.4444444444444444,
              "#bd3786"
             ],
             [
              0.5555555555555556,
              "#d8576b"
             ],
             [
              0.6666666666666666,
              "#ed7953"
             ],
             [
              0.7777777777777778,
              "#fb9f3a"
             ],
             [
              0.8888888888888888,
              "#fdca26"
             ],
             [
              1,
              "#f0f921"
             ]
            ],
            "type": "heatmapgl"
           }
          ],
          "histogram": [
           {
            "marker": {
             "pattern": {
              "fillmode": "overlay",
              "size": 10,
              "solidity": 0.2
             }
            },
            "type": "histogram"
           }
          ],
          "histogram2d": [
           {
            "colorbar": {
             "outlinewidth": 0,
             "ticks": ""
            },
            "colorscale": [
             [
              0,
              "#0d0887"
             ],
             [
              0.1111111111111111,
              "#46039f"
             ],
             [
              0.2222222222222222,
              "#7201a8"
             ],
             [
              0.3333333333333333,
              "#9c179e"
             ],
             [
              0.4444444444444444,
              "#bd3786"
             ],
             [
              0.5555555555555556,
              "#d8576b"
             ],
             [
              0.6666666666666666,
              "#ed7953"
             ],
             [
              0.7777777777777778,
              "#fb9f3a"
             ],
             [
              0.8888888888888888,
              "#fdca26"
             ],
             [
              1,
              "#f0f921"
             ]
            ],
            "type": "histogram2d"
           }
          ],
          "histogram2dcontour": [
           {
            "colorbar": {
             "outlinewidth": 0,
             "ticks": ""
            },
            "colorscale": [
             [
              0,
              "#0d0887"
             ],
             [
              0.1111111111111111,
              "#46039f"
             ],
             [
              0.2222222222222222,
              "#7201a8"
             ],
             [
              0.3333333333333333,
              "#9c179e"
             ],
             [
              0.4444444444444444,
              "#bd3786"
             ],
             [
              0.5555555555555556,
              "#d8576b"
             ],
             [
              0.6666666666666666,
              "#ed7953"
             ],
             [
              0.7777777777777778,
              "#fb9f3a"
             ],
             [
              0.8888888888888888,
              "#fdca26"
             ],
             [
              1,
              "#f0f921"
             ]
            ],
            "type": "histogram2dcontour"
           }
          ],
          "mesh3d": [
           {
            "colorbar": {
             "outlinewidth": 0,
             "ticks": ""
            },
            "type": "mesh3d"
           }
          ],
          "parcoords": [
           {
            "line": {
             "colorbar": {
              "outlinewidth": 0,
              "ticks": ""
             }
            },
            "type": "parcoords"
           }
          ],
          "pie": [
           {
            "automargin": true,
            "type": "pie"
           }
          ],
          "scatter": [
           {
            "marker": {
             "colorbar": {
              "outlinewidth": 0,
              "ticks": ""
             }
            },
            "type": "scatter"
           }
          ],
          "scatter3d": [
           {
            "line": {
             "colorbar": {
              "outlinewidth": 0,
              "ticks": ""
             }
            },
            "marker": {
             "colorbar": {
              "outlinewidth": 0,
              "ticks": ""
             }
            },
            "type": "scatter3d"
           }
          ],
          "scattercarpet": [
           {
            "marker": {
             "colorbar": {
              "outlinewidth": 0,
              "ticks": ""
             }
            },
            "type": "scattercarpet"
           }
          ],
          "scattergeo": [
           {
            "marker": {
             "colorbar": {
              "outlinewidth": 0,
              "ticks": ""
             }
            },
            "type": "scattergeo"
           }
          ],
          "scattergl": [
           {
            "marker": {
             "colorbar": {
              "outlinewidth": 0,
              "ticks": ""
             }
            },
            "type": "scattergl"
           }
          ],
          "scattermapbox": [
           {
            "marker": {
             "colorbar": {
              "outlinewidth": 0,
              "ticks": ""
             }
            },
            "type": "scattermapbox"
           }
          ],
          "scatterpolar": [
           {
            "marker": {
             "colorbar": {
              "outlinewidth": 0,
              "ticks": ""
             }
            },
            "type": "scatterpolar"
           }
          ],
          "scatterpolargl": [
           {
            "marker": {
             "colorbar": {
              "outlinewidth": 0,
              "ticks": ""
             }
            },
            "type": "scatterpolargl"
           }
          ],
          "scatterternary": [
           {
            "marker": {
             "colorbar": {
              "outlinewidth": 0,
              "ticks": ""
             }
            },
            "type": "scatterternary"
           }
          ],
          "surface": [
           {
            "colorbar": {
             "outlinewidth": 0,
             "ticks": ""
            },
            "colorscale": [
             [
              0,
              "#0d0887"
             ],
             [
              0.1111111111111111,
              "#46039f"
             ],
             [
              0.2222222222222222,
              "#7201a8"
             ],
             [
              0.3333333333333333,
              "#9c179e"
             ],
             [
              0.4444444444444444,
              "#bd3786"
             ],
             [
              0.5555555555555556,
              "#d8576b"
             ],
             [
              0.6666666666666666,
              "#ed7953"
             ],
             [
              0.7777777777777778,
              "#fb9f3a"
             ],
             [
              0.8888888888888888,
              "#fdca26"
             ],
             [
              1,
              "#f0f921"
             ]
            ],
            "type": "surface"
           }
          ],
          "table": [
           {
            "cells": {
             "fill": {
              "color": "#EBF0F8"
             },
             "line": {
              "color": "white"
             }
            },
            "header": {
             "fill": {
              "color": "#C8D4E3"
             },
             "line": {
              "color": "white"
             }
            },
            "type": "table"
           }
          ]
         },
         "layout": {
          "annotationdefaults": {
           "arrowcolor": "#2a3f5f",
           "arrowhead": 0,
           "arrowwidth": 1
          },
          "autotypenumbers": "strict",
          "coloraxis": {
           "colorbar": {
            "outlinewidth": 0,
            "ticks": ""
           }
          },
          "colorscale": {
           "diverging": [
            [
             0,
             "#8e0152"
            ],
            [
             0.1,
             "#c51b7d"
            ],
            [
             0.2,
             "#de77ae"
            ],
            [
             0.3,
             "#f1b6da"
            ],
            [
             0.4,
             "#fde0ef"
            ],
            [
             0.5,
             "#f7f7f7"
            ],
            [
             0.6,
             "#e6f5d0"
            ],
            [
             0.7,
             "#b8e186"
            ],
            [
             0.8,
             "#7fbc41"
            ],
            [
             0.9,
             "#4d9221"
            ],
            [
             1,
             "#276419"
            ]
           ],
           "sequential": [
            [
             0,
             "#0d0887"
            ],
            [
             0.1111111111111111,
             "#46039f"
            ],
            [
             0.2222222222222222,
             "#7201a8"
            ],
            [
             0.3333333333333333,
             "#9c179e"
            ],
            [
             0.4444444444444444,
             "#bd3786"
            ],
            [
             0.5555555555555556,
             "#d8576b"
            ],
            [
             0.6666666666666666,
             "#ed7953"
            ],
            [
             0.7777777777777778,
             "#fb9f3a"
            ],
            [
             0.8888888888888888,
             "#fdca26"
            ],
            [
             1,
             "#f0f921"
            ]
           ],
           "sequentialminus": [
            [
             0,
             "#0d0887"
            ],
            [
             0.1111111111111111,
             "#46039f"
            ],
            [
             0.2222222222222222,
             "#7201a8"
            ],
            [
             0.3333333333333333,
             "#9c179e"
            ],
            [
             0.4444444444444444,
             "#bd3786"
            ],
            [
             0.5555555555555556,
             "#d8576b"
            ],
            [
             0.6666666666666666,
             "#ed7953"
            ],
            [
             0.7777777777777778,
             "#fb9f3a"
            ],
            [
             0.8888888888888888,
             "#fdca26"
            ],
            [
             1,
             "#f0f921"
            ]
           ]
          },
          "colorway": [
           "#636efa",
           "#EF553B",
           "#00cc96",
           "#ab63fa",
           "#FFA15A",
           "#19d3f3",
           "#FF6692",
           "#B6E880",
           "#FF97FF",
           "#FECB52"
          ],
          "font": {
           "color": "#2a3f5f"
          },
          "geo": {
           "bgcolor": "white",
           "lakecolor": "white",
           "landcolor": "#E5ECF6",
           "showlakes": true,
           "showland": true,
           "subunitcolor": "white"
          },
          "hoverlabel": {
           "align": "left"
          },
          "hovermode": "closest",
          "mapbox": {
           "style": "light"
          },
          "paper_bgcolor": "white",
          "plot_bgcolor": "#E5ECF6",
          "polar": {
           "angularaxis": {
            "gridcolor": "white",
            "linecolor": "white",
            "ticks": ""
           },
           "bgcolor": "#E5ECF6",
           "radialaxis": {
            "gridcolor": "white",
            "linecolor": "white",
            "ticks": ""
           }
          },
          "scene": {
           "xaxis": {
            "backgroundcolor": "#E5ECF6",
            "gridcolor": "white",
            "gridwidth": 2,
            "linecolor": "white",
            "showbackground": true,
            "ticks": "",
            "zerolinecolor": "white"
           },
           "yaxis": {
            "backgroundcolor": "#E5ECF6",
            "gridcolor": "white",
            "gridwidth": 2,
            "linecolor": "white",
            "showbackground": true,
            "ticks": "",
            "zerolinecolor": "white"
           },
           "zaxis": {
            "backgroundcolor": "#E5ECF6",
            "gridcolor": "white",
            "gridwidth": 2,
            "linecolor": "white",
            "showbackground": true,
            "ticks": "",
            "zerolinecolor": "white"
           }
          },
          "shapedefaults": {
           "line": {
            "color": "#2a3f5f"
           }
          },
          "ternary": {
           "aaxis": {
            "gridcolor": "white",
            "linecolor": "white",
            "ticks": ""
           },
           "baxis": {
            "gridcolor": "white",
            "linecolor": "white",
            "ticks": ""
           },
           "bgcolor": "#E5ECF6",
           "caxis": {
            "gridcolor": "white",
            "linecolor": "white",
            "ticks": ""
           }
          },
          "title": {
           "x": 0.05
          },
          "xaxis": {
           "automargin": true,
           "gridcolor": "white",
           "linecolor": "white",
           "ticks": "",
           "title": {
            "standoff": 15
           },
           "zerolinecolor": "white",
           "zerolinewidth": 2
          },
          "yaxis": {
           "automargin": true,
           "gridcolor": "white",
           "linecolor": "white",
           "ticks": "",
           "title": {
            "standoff": 15
           },
           "zerolinecolor": "white",
           "zerolinewidth": 2
          }
         }
        },
        "title": {
         "text": "Parallel Coordinate Plot"
        }
       }
      },
      "text/html": [
       "<div>                            <div id=\"aa5f69f6-f894-4f56-a15d-2c2072f9b243\" class=\"plotly-graph-div\" style=\"height:525px; width:100%;\"></div>            <script type=\"text/javascript\">                require([\"plotly\"], function(Plotly) {                    window.PLOTLYENV=window.PLOTLYENV || {};                                    if (document.getElementById(\"aa5f69f6-f894-4f56-a15d-2c2072f9b243\")) {                    Plotly.newPlot(                        \"aa5f69f6-f894-4f56-a15d-2c2072f9b243\",                        [{\"dimensions\":[{\"label\":\"Objective Value\",\"range\":[0.6298789019203499,0.6649300128850217],\"values\":[0.6608176249564872,0.6601325973591153,0.6427771588193454,0.6638438873005293,0.656192223820365,0.6570654137698817,0.6609237574303389,0.6519632525317914,0.6298789019203499,0.6606913078662908,0.644323621739552,0.6645593456394623,0.6646287055317674,0.6646191118088253,0.6490389142945792,0.6648698628424137,0.6530680905287827,0.6566925900352235,0.6644974396978448,0.6314982702796567,0.6487787523188924,0.6645451245940481,0.6648411180668586,0.6607579171146112,0.6569722358985731,0.6646086228333111,0.6607266923600953,0.6649300128850217,0.6569293339613721,0.6612476568022565]},{\"label\":\"max_depth\",\"range\":[2,9],\"values\":[8,8,4,9,7,7,8,6,2,8,4,9,9,9,5,9,6,7,9,2,5,9,9,8,7,9,8,9,7,8]},{\"label\":\"max_samples\",\"range\":[0.7500123976620934,0.9310233966909693],\"values\":[0.8335685304500571,0.846871159857764,0.9036602876322136,0.7974468353008204,0.8959408924322944,0.8389566847737745,0.8817689401428531,0.9310233966909693,0.7561587558513225,0.8037141232641825,0.7500123976620934,0.7953964778886542,0.7967846721551474,0.7943352046327946,0.779095196446515,0.8188441525172186,0.8183600000784966,0.8638454629932327,0.7765000194586029,0.8231783710552935,0.8543441741009762,0.7755549355301372,0.8126072453342384,0.8170993908802305,0.8107240356947015,0.8697932861109084,0.8283759009894696,0.7657015920690705,0.7647806712121554,0.8353493207837066]},{\"label\":\"n_estimators\",\"range\":[146,1000],\"values\":[429,474,146,414,505,914,842,333,277,468,696,729,678,681,651,829,817,995,582,803,589,747,934,1000,914,890,625,772,766,883]}],\"labelangle\":30,\"labelside\":\"bottom\",\"line\":{\"color\":[0.6608176249564872,0.6601325973591153,0.6427771588193454,0.6638438873005293,0.656192223820365,0.6570654137698817,0.6609237574303389,0.6519632525317914,0.6298789019203499,0.6606913078662908,0.644323621739552,0.6645593456394623,0.6646287055317674,0.6646191118088253,0.6490389142945792,0.6648698628424137,0.6530680905287827,0.6566925900352235,0.6644974396978448,0.6314982702796567,0.6487787523188924,0.6645451245940481,0.6648411180668586,0.6607579171146112,0.6569722358985731,0.6646086228333111,0.6607266923600953,0.6649300128850217,0.6569293339613721,0.6612476568022565],\"colorbar\":{\"title\":{\"text\":\"Objective Value\"}},\"colorscale\":[[0.0,\"rgb(247,251,255)\"],[0.125,\"rgb(222,235,247)\"],[0.25,\"rgb(198,219,239)\"],[0.375,\"rgb(158,202,225)\"],[0.5,\"rgb(107,174,214)\"],[0.625,\"rgb(66,146,198)\"],[0.75,\"rgb(33,113,181)\"],[0.875,\"rgb(8,81,156)\"],[1.0,\"rgb(8,48,107)\"]],\"reversescale\":false,\"showscale\":true},\"type\":\"parcoords\"}],                        {\"template\":{\"data\":{\"bar\":[{\"error_x\":{\"color\":\"#2a3f5f\"},\"error_y\":{\"color\":\"#2a3f5f\"},\"marker\":{\"line\":{\"color\":\"#E5ECF6\",\"width\":0.5},\"pattern\":{\"fillmode\":\"overlay\",\"size\":10,\"solidity\":0.2}},\"type\":\"bar\"}],\"barpolar\":[{\"marker\":{\"line\":{\"color\":\"#E5ECF6\",\"width\":0.5},\"pattern\":{\"fillmode\":\"overlay\",\"size\":10,\"solidity\":0.2}},\"type\":\"barpolar\"}],\"carpet\":[{\"aaxis\":{\"endlinecolor\":\"#2a3f5f\",\"gridcolor\":\"white\",\"linecolor\":\"white\",\"minorgridcolor\":\"white\",\"startlinecolor\":\"#2a3f5f\"},\"baxis\":{\"endlinecolor\":\"#2a3f5f\",\"gridcolor\":\"white\",\"linecolor\":\"white\",\"minorgridcolor\":\"white\",\"startlinecolor\":\"#2a3f5f\"},\"type\":\"carpet\"}],\"choropleth\":[{\"colorbar\":{\"outlinewidth\":0,\"ticks\":\"\"},\"type\":\"choropleth\"}],\"contour\":[{\"colorbar\":{\"outlinewidth\":0,\"ticks\":\"\"},\"colorscale\":[[0.0,\"#0d0887\"],[0.1111111111111111,\"#46039f\"],[0.2222222222222222,\"#7201a8\"],[0.3333333333333333,\"#9c179e\"],[0.4444444444444444,\"#bd3786\"],[0.5555555555555556,\"#d8576b\"],[0.6666666666666666,\"#ed7953\"],[0.7777777777777778,\"#fb9f3a\"],[0.8888888888888888,\"#fdca26\"],[1.0,\"#f0f921\"]],\"type\":\"contour\"}],\"contourcarpet\":[{\"colorbar\":{\"outlinewidth\":0,\"ticks\":\"\"},\"type\":\"contourcarpet\"}],\"heatmap\":[{\"colorbar\":{\"outlinewidth\":0,\"ticks\":\"\"},\"colorscale\":[[0.0,\"#0d0887\"],[0.1111111111111111,\"#46039f\"],[0.2222222222222222,\"#7201a8\"],[0.3333333333333333,\"#9c179e\"],[0.4444444444444444,\"#bd3786\"],[0.5555555555555556,\"#d8576b\"],[0.6666666666666666,\"#ed7953\"],[0.7777777777777778,\"#fb9f3a\"],[0.8888888888888888,\"#fdca26\"],[1.0,\"#f0f921\"]],\"type\":\"heatmap\"}],\"heatmapgl\":[{\"colorbar\":{\"outlinewidth\":0,\"ticks\":\"\"},\"colorscale\":[[0.0,\"#0d0887\"],[0.1111111111111111,\"#46039f\"],[0.2222222222222222,\"#7201a8\"],[0.3333333333333333,\"#9c179e\"],[0.4444444444444444,\"#bd3786\"],[0.5555555555555556,\"#d8576b\"],[0.6666666666666666,\"#ed7953\"],[0.7777777777777778,\"#fb9f3a\"],[0.8888888888888888,\"#fdca26\"],[1.0,\"#f0f921\"]],\"type\":\"heatmapgl\"}],\"histogram\":[{\"marker\":{\"pattern\":{\"fillmode\":\"overlay\",\"size\":10,\"solidity\":0.2}},\"type\":\"histogram\"}],\"histogram2d\":[{\"colorbar\":{\"outlinewidth\":0,\"ticks\":\"\"},\"colorscale\":[[0.0,\"#0d0887\"],[0.1111111111111111,\"#46039f\"],[0.2222222222222222,\"#7201a8\"],[0.3333333333333333,\"#9c179e\"],[0.4444444444444444,\"#bd3786\"],[0.5555555555555556,\"#d8576b\"],[0.6666666666666666,\"#ed7953\"],[0.7777777777777778,\"#fb9f3a\"],[0.8888888888888888,\"#fdca26\"],[1.0,\"#f0f921\"]],\"type\":\"histogram2d\"}],\"histogram2dcontour\":[{\"colorbar\":{\"outlinewidth\":0,\"ticks\":\"\"},\"colorscale\":[[0.0,\"#0d0887\"],[0.1111111111111111,\"#46039f\"],[0.2222222222222222,\"#7201a8\"],[0.3333333333333333,\"#9c179e\"],[0.4444444444444444,\"#bd3786\"],[0.5555555555555556,\"#d8576b\"],[0.6666666666666666,\"#ed7953\"],[0.7777777777777778,\"#fb9f3a\"],[0.8888888888888888,\"#fdca26\"],[1.0,\"#f0f921\"]],\"type\":\"histogram2dcontour\"}],\"mesh3d\":[{\"colorbar\":{\"outlinewidth\":0,\"ticks\":\"\"},\"type\":\"mesh3d\"}],\"parcoords\":[{\"line\":{\"colorbar\":{\"outlinewidth\":0,\"ticks\":\"\"}},\"type\":\"parcoords\"}],\"pie\":[{\"automargin\":true,\"type\":\"pie\"}],\"scatter\":[{\"marker\":{\"colorbar\":{\"outlinewidth\":0,\"ticks\":\"\"}},\"type\":\"scatter\"}],\"scatter3d\":[{\"line\":{\"colorbar\":{\"outlinewidth\":0,\"ticks\":\"\"}},\"marker\":{\"colorbar\":{\"outlinewidth\":0,\"ticks\":\"\"}},\"type\":\"scatter3d\"}],\"scattercarpet\":[{\"marker\":{\"colorbar\":{\"outlinewidth\":0,\"ticks\":\"\"}},\"type\":\"scattercarpet\"}],\"scattergeo\":[{\"marker\":{\"colorbar\":{\"outlinewidth\":0,\"ticks\":\"\"}},\"type\":\"scattergeo\"}],\"scattergl\":[{\"marker\":{\"colorbar\":{\"outlinewidth\":0,\"ticks\":\"\"}},\"type\":\"scattergl\"}],\"scattermapbox\":[{\"marker\":{\"colorbar\":{\"outlinewidth\":0,\"ticks\":\"\"}},\"type\":\"scattermapbox\"}],\"scatterpolar\":[{\"marker\":{\"colorbar\":{\"outlinewidth\":0,\"ticks\":\"\"}},\"type\":\"scatterpolar\"}],\"scatterpolargl\":[{\"marker\":{\"colorbar\":{\"outlinewidth\":0,\"ticks\":\"\"}},\"type\":\"scatterpolargl\"}],\"scatterternary\":[{\"marker\":{\"colorbar\":{\"outlinewidth\":0,\"ticks\":\"\"}},\"type\":\"scatterternary\"}],\"surface\":[{\"colorbar\":{\"outlinewidth\":0,\"ticks\":\"\"},\"colorscale\":[[0.0,\"#0d0887\"],[0.1111111111111111,\"#46039f\"],[0.2222222222222222,\"#7201a8\"],[0.3333333333333333,\"#9c179e\"],[0.4444444444444444,\"#bd3786\"],[0.5555555555555556,\"#d8576b\"],[0.6666666666666666,\"#ed7953\"],[0.7777777777777778,\"#fb9f3a\"],[0.8888888888888888,\"#fdca26\"],[1.0,\"#f0f921\"]],\"type\":\"surface\"}],\"table\":[{\"cells\":{\"fill\":{\"color\":\"#EBF0F8\"},\"line\":{\"color\":\"white\"}},\"header\":{\"fill\":{\"color\":\"#C8D4E3\"},\"line\":{\"color\":\"white\"}},\"type\":\"table\"}]},\"layout\":{\"annotationdefaults\":{\"arrowcolor\":\"#2a3f5f\",\"arrowhead\":0,\"arrowwidth\":1},\"autotypenumbers\":\"strict\",\"coloraxis\":{\"colorbar\":{\"outlinewidth\":0,\"ticks\":\"\"}},\"colorscale\":{\"diverging\":[[0,\"#8e0152\"],[0.1,\"#c51b7d\"],[0.2,\"#de77ae\"],[0.3,\"#f1b6da\"],[0.4,\"#fde0ef\"],[0.5,\"#f7f7f7\"],[0.6,\"#e6f5d0\"],[0.7,\"#b8e186\"],[0.8,\"#7fbc41\"],[0.9,\"#4d9221\"],[1,\"#276419\"]],\"sequential\":[[0.0,\"#0d0887\"],[0.1111111111111111,\"#46039f\"],[0.2222222222222222,\"#7201a8\"],[0.3333333333333333,\"#9c179e\"],[0.4444444444444444,\"#bd3786\"],[0.5555555555555556,\"#d8576b\"],[0.6666666666666666,\"#ed7953\"],[0.7777777777777778,\"#fb9f3a\"],[0.8888888888888888,\"#fdca26\"],[1.0,\"#f0f921\"]],\"sequentialminus\":[[0.0,\"#0d0887\"],[0.1111111111111111,\"#46039f\"],[0.2222222222222222,\"#7201a8\"],[0.3333333333333333,\"#9c179e\"],[0.4444444444444444,\"#bd3786\"],[0.5555555555555556,\"#d8576b\"],[0.6666666666666666,\"#ed7953\"],[0.7777777777777778,\"#fb9f3a\"],[0.8888888888888888,\"#fdca26\"],[1.0,\"#f0f921\"]]},\"colorway\":[\"#636efa\",\"#EF553B\",\"#00cc96\",\"#ab63fa\",\"#FFA15A\",\"#19d3f3\",\"#FF6692\",\"#B6E880\",\"#FF97FF\",\"#FECB52\"],\"font\":{\"color\":\"#2a3f5f\"},\"geo\":{\"bgcolor\":\"white\",\"lakecolor\":\"white\",\"landcolor\":\"#E5ECF6\",\"showlakes\":true,\"showland\":true,\"subunitcolor\":\"white\"},\"hoverlabel\":{\"align\":\"left\"},\"hovermode\":\"closest\",\"mapbox\":{\"style\":\"light\"},\"paper_bgcolor\":\"white\",\"plot_bgcolor\":\"#E5ECF6\",\"polar\":{\"angularaxis\":{\"gridcolor\":\"white\",\"linecolor\":\"white\",\"ticks\":\"\"},\"bgcolor\":\"#E5ECF6\",\"radialaxis\":{\"gridcolor\":\"white\",\"linecolor\":\"white\",\"ticks\":\"\"}},\"scene\":{\"xaxis\":{\"backgroundcolor\":\"#E5ECF6\",\"gridcolor\":\"white\",\"gridwidth\":2,\"linecolor\":\"white\",\"showbackground\":true,\"ticks\":\"\",\"zerolinecolor\":\"white\"},\"yaxis\":{\"backgroundcolor\":\"#E5ECF6\",\"gridcolor\":\"white\",\"gridwidth\":2,\"linecolor\":\"white\",\"showbackground\":true,\"ticks\":\"\",\"zerolinecolor\":\"white\"},\"zaxis\":{\"backgroundcolor\":\"#E5ECF6\",\"gridcolor\":\"white\",\"gridwidth\":2,\"linecolor\":\"white\",\"showbackground\":true,\"ticks\":\"\",\"zerolinecolor\":\"white\"}},\"shapedefaults\":{\"line\":{\"color\":\"#2a3f5f\"}},\"ternary\":{\"aaxis\":{\"gridcolor\":\"white\",\"linecolor\":\"white\",\"ticks\":\"\"},\"baxis\":{\"gridcolor\":\"white\",\"linecolor\":\"white\",\"ticks\":\"\"},\"bgcolor\":\"#E5ECF6\",\"caxis\":{\"gridcolor\":\"white\",\"linecolor\":\"white\",\"ticks\":\"\"}},\"title\":{\"x\":0.05},\"xaxis\":{\"automargin\":true,\"gridcolor\":\"white\",\"linecolor\":\"white\",\"ticks\":\"\",\"title\":{\"standoff\":15},\"zerolinecolor\":\"white\",\"zerolinewidth\":2},\"yaxis\":{\"automargin\":true,\"gridcolor\":\"white\",\"linecolor\":\"white\",\"ticks\":\"\",\"title\":{\"standoff\":15},\"zerolinecolor\":\"white\",\"zerolinewidth\":2}}},\"title\":{\"text\":\"Parallel Coordinate Plot\"}},                        {\"responsive\": true}                    ).then(function(){\n",
       "                            \n",
       "var gd = document.getElementById('aa5f69f6-f894-4f56-a15d-2c2072f9b243');\n",
       "var x = new MutationObserver(function (mutations, observer) {{\n",
       "        var display = window.getComputedStyle(gd).display;\n",
       "        if (!display || display === 'none') {{\n",
       "            console.log([gd, 'removed!']);\n",
       "            Plotly.purge(gd);\n",
       "            observer.disconnect();\n",
       "        }}\n",
       "}});\n",
       "\n",
       "// Listen for the removal of the full notebook cells\n",
       "var notebookContainer = gd.closest('#notebook-container');\n",
       "if (notebookContainer) {{\n",
       "    x.observe(notebookContainer, {childList: true});\n",
       "}}\n",
       "\n",
       "// Listen for the clearing of the current output cell\n",
       "var outputEl = gd.closest('.output');\n",
       "if (outputEl) {{\n",
       "    x.observe(outputEl, {childList: true});\n",
       "}}\n",
       "\n",
       "                        })                };                });            </script>        </div>"
      ]
     },
     "metadata": {},
     "output_type": "display_data"
    }
   ],
   "source": [
    "###################################################################################################\n",
    "# Select parameters to visualize.\n",
    "plot_parallel_coordinate(study, params=['max_samples', 'max_depth', 'n_estimators'])"
   ]
  },
  {
   "cell_type": "code",
   "execution_count": 122,
   "metadata": {
    "ExecuteTime": {
     "end_time": "2021-11-29T02:13:46.681928Z",
     "start_time": "2021-11-29T02:13:46.668764Z"
    },
    "executionInfo": {
     "elapsed": 20,
     "status": "aborted",
     "timestamp": 1638057557724,
     "user": {
      "displayName": "Rogério Delfim",
      "photoUrl": "https://lh3.googleusercontent.com/a-/AOh14Gj8lDYWTfZHU0U0sMojRPio71Ec7YDcSEpCaOEE=s64",
      "userId": "04235763959036945343"
     },
     "user_tz": 180
    },
    "id": "T3DA8PfAmSZY"
   },
   "outputs": [],
   "source": [
    "###################################################################################################\n",
    "# Visualize hyperparameter relationships. See :func:`~optuna.visualization.plot_contour` for the details.\n",
    "#plot_contour(study)"
   ]
  },
  {
   "cell_type": "code",
   "execution_count": 123,
   "metadata": {
    "ExecuteTime": {
     "end_time": "2021-11-29T02:13:46.886954Z",
     "start_time": "2021-11-29T02:13:46.683764Z"
    },
    "executionInfo": {
     "elapsed": 21,
     "status": "aborted",
     "timestamp": 1638057557725,
     "user": {
      "displayName": "Rogério Delfim",
      "photoUrl": "https://lh3.googleusercontent.com/a-/AOh14Gj8lDYWTfZHU0U0sMojRPio71Ec7YDcSEpCaOEE=s64",
      "userId": "04235763959036945343"
     },
     "user_tz": 180
    },
    "id": "sYBgMW9OmVVc"
   },
   "outputs": [
    {
     "data": {
      "application/vnd.plotly.v1+json": {
       "config": {
        "plotlyServerURL": "https://plot.ly"
       },
       "data": [
        {
         "type": "scatter",
         "xaxis": "x",
         "yaxis": "y"
        },
        {
         "colorbar": {
          "title": {
           "text": "Objective Value"
          }
         },
         "colorscale": [
          [
           0,
           "rgb(5,10,172)"
          ],
          [
           0.35,
           "rgb(40,60,190)"
          ],
          [
           0.5,
           "rgb(70,100,245)"
          ],
          [
           0.6,
           "rgb(90,120,245)"
          ],
          [
           0.7,
           "rgb(106,137,247)"
          ],
          [
           1,
           "rgb(220,220,220)"
          ]
         ],
         "connectgaps": true,
         "contours": {
          "coloring": "heatmap"
         },
         "hoverinfo": "none",
         "line": {
          "smoothing": 1.3
         },
         "reversescale": false,
         "showscale": true,
         "type": "contour",
         "x": [
          1.65,
          2,
          4,
          5,
          6,
          7,
          8,
          9,
          9.35
         ],
         "xaxis": "x4",
         "y": [
          0.7409618477106495,
          0.7500123976620934,
          0.7561587558513225,
          0.7647806712121554,
          0.7657015920690705,
          0.7755549355301372,
          0.7765000194586029,
          0.779095196446515,
          0.7943352046327946,
          0.7953964778886542,
          0.7967846721551474,
          0.7974468353008204,
          0.8037141232641825,
          0.8107240356947015,
          0.8126072453342384,
          0.8170993908802305,
          0.8183600000784966,
          0.8188441525172186,
          0.8231783710552935,
          0.8283759009894696,
          0.8335685304500571,
          0.8353493207837066,
          0.8389566847737745,
          0.846871159857764,
          0.8543441741009762,
          0.8638454629932327,
          0.8697932861109084,
          0.8817689401428531,
          0.8959408924322944,
          0.9036602876322136,
          0.9310233966909693,
          0.9400739466424132
         ],
         "yaxis": "y4",
         "z": [
          [
           null,
           null,
           null,
           null,
           null,
           null,
           null,
           null,
           null
          ],
          [
           null,
           null,
           0.644323621739552,
           null,
           null,
           null,
           null,
           null,
           null
          ],
          [
           null,
           0.6298789019203499,
           null,
           null,
           null,
           null,
           null,
           null,
           null
          ],
          [
           null,
           null,
           null,
           null,
           null,
           0.6569293339613721,
           null,
           null,
           null
          ],
          [
           null,
           null,
           null,
           null,
           null,
           null,
           null,
           0.6649300128850217,
           null
          ],
          [
           null,
           null,
           null,
           null,
           null,
           null,
           null,
           0.6645451245940481,
           null
          ],
          [
           null,
           null,
           null,
           null,
           null,
           null,
           null,
           0.6644974396978448,
           null
          ],
          [
           null,
           null,
           null,
           0.6490389142945792,
           null,
           null,
           null,
           null,
           null
          ],
          [
           null,
           null,
           null,
           null,
           null,
           null,
           null,
           0.6646191118088253,
           null
          ],
          [
           null,
           null,
           null,
           null,
           null,
           null,
           null,
           0.6645593456394623,
           null
          ],
          [
           null,
           null,
           null,
           null,
           null,
           null,
           null,
           0.6646287055317674,
           null
          ],
          [
           null,
           null,
           null,
           null,
           null,
           null,
           null,
           0.6638438873005293,
           null
          ],
          [
           null,
           null,
           null,
           null,
           null,
           null,
           0.6606913078662908,
           null,
           null
          ],
          [
           null,
           null,
           null,
           null,
           null,
           0.6569722358985731,
           null,
           null,
           null
          ],
          [
           null,
           null,
           null,
           null,
           null,
           null,
           null,
           0.6648411180668586,
           null
          ],
          [
           null,
           null,
           null,
           null,
           null,
           null,
           0.6607579171146112,
           null,
           null
          ],
          [
           null,
           null,
           null,
           null,
           0.6530680905287827,
           null,
           null,
           null,
           null
          ],
          [
           null,
           null,
           null,
           null,
           null,
           null,
           null,
           0.6648698628424137,
           null
          ],
          [
           null,
           0.6314982702796567,
           null,
           null,
           null,
           null,
           null,
           null,
           null
          ],
          [
           null,
           null,
           null,
           null,
           null,
           null,
           0.6607266923600953,
           null,
           null
          ],
          [
           null,
           null,
           null,
           null,
           null,
           null,
           0.6608176249564872,
           null,
           null
          ],
          [
           null,
           null,
           null,
           null,
           null,
           null,
           0.6612476568022565,
           null,
           null
          ],
          [
           null,
           null,
           null,
           null,
           null,
           0.6570654137698817,
           null,
           null,
           null
          ],
          [
           null,
           null,
           null,
           null,
           null,
           null,
           0.6601325973591153,
           null,
           null
          ],
          [
           null,
           null,
           null,
           0.6487787523188924,
           null,
           null,
           null,
           null,
           null
          ],
          [
           null,
           null,
           null,
           null,
           null,
           0.6566925900352235,
           null,
           null,
           null
          ],
          [
           null,
           null,
           null,
           null,
           null,
           null,
           null,
           0.6646086228333111,
           null
          ],
          [
           null,
           null,
           null,
           null,
           null,
           null,
           0.6609237574303389,
           null,
           null
          ],
          [
           null,
           null,
           null,
           null,
           null,
           0.656192223820365,
           null,
           null,
           null
          ],
          [
           null,
           null,
           0.6427771588193454,
           null,
           null,
           null,
           null,
           null,
           null
          ],
          [
           null,
           null,
           null,
           null,
           0.6519632525317914,
           null,
           null,
           null,
           null
          ],
          [
           null,
           null,
           null,
           null,
           null,
           null,
           null,
           null,
           null
          ]
         ]
        },
        {
         "marker": {
          "color": "black",
          "line": {
           "color": "Grey",
           "width": 0.5
          }
         },
         "mode": "markers",
         "showlegend": false,
         "type": "scatter",
         "x": [
          8,
          8,
          4,
          9,
          7,
          7,
          8,
          6,
          2,
          8,
          4,
          9,
          9,
          9,
          5,
          9,
          6,
          7,
          9,
          2,
          5,
          9,
          9,
          8,
          7,
          9,
          8,
          9,
          7,
          8
         ],
         "xaxis": "x4",
         "y": [
          0.8335685304500571,
          0.846871159857764,
          0.9036602876322136,
          0.7974468353008204,
          0.8959408924322944,
          0.8389566847737745,
          0.8817689401428531,
          0.9310233966909693,
          0.7561587558513225,
          0.8037141232641825,
          0.7500123976620934,
          0.7953964778886542,
          0.7967846721551474,
          0.7943352046327946,
          0.779095196446515,
          0.8188441525172186,
          0.8183600000784966,
          0.8638454629932327,
          0.7765000194586029,
          0.8231783710552935,
          0.8543441741009762,
          0.7755549355301372,
          0.8126072453342384,
          0.8170993908802305,
          0.8107240356947015,
          0.8697932861109084,
          0.8283759009894696,
          0.7657015920690705,
          0.7647806712121554,
          0.8353493207837066
         ],
         "yaxis": "y4"
        },
        {
         "colorbar": {
          "title": {
           "text": "Objective Value"
          }
         },
         "colorscale": [
          [
           0,
           "rgb(5,10,172)"
          ],
          [
           0.35,
           "rgb(40,60,190)"
          ],
          [
           0.5,
           "rgb(70,100,245)"
          ],
          [
           0.6,
           "rgb(90,120,245)"
          ],
          [
           0.7,
           "rgb(106,137,247)"
          ],
          [
           1,
           "rgb(220,220,220)"
          ]
         ],
         "connectgaps": true,
         "contours": {
          "coloring": "heatmap"
         },
         "hoverinfo": "none",
         "line": {
          "smoothing": 1.3
         },
         "reversescale": false,
         "showscale": false,
         "type": "contour",
         "x": [
          1.65,
          2,
          4,
          5,
          6,
          7,
          8,
          9,
          9.35
         ],
         "xaxis": "x7",
         "y": [
          103.3,
          146,
          277,
          333,
          414,
          429,
          468,
          474,
          505,
          582,
          589,
          625,
          651,
          678,
          681,
          696,
          729,
          747,
          766,
          772,
          803,
          817,
          829,
          842,
          883,
          890,
          914,
          934,
          995,
          1000,
          1042.7
         ],
         "yaxis": "y7",
         "z": [
          [
           null,
           null,
           null,
           null,
           null,
           null,
           null,
           null,
           null
          ],
          [
           null,
           null,
           0.6427771588193454,
           null,
           null,
           null,
           null,
           null,
           null
          ],
          [
           null,
           0.6298789019203499,
           null,
           null,
           null,
           null,
           null,
           null,
           null
          ],
          [
           null,
           null,
           null,
           null,
           0.6519632525317914,
           null,
           null,
           null,
           null
          ],
          [
           null,
           null,
           null,
           null,
           null,
           null,
           null,
           0.6638438873005293,
           null
          ],
          [
           null,
           null,
           null,
           null,
           null,
           null,
           0.6608176249564872,
           null,
           null
          ],
          [
           null,
           null,
           null,
           null,
           null,
           null,
           0.6606913078662908,
           null,
           null
          ],
          [
           null,
           null,
           null,
           null,
           null,
           null,
           0.6601325973591153,
           null,
           null
          ],
          [
           null,
           null,
           null,
           null,
           null,
           0.656192223820365,
           null,
           null,
           null
          ],
          [
           null,
           null,
           null,
           null,
           null,
           null,
           null,
           0.6644974396978448,
           null
          ],
          [
           null,
           null,
           null,
           0.6487787523188924,
           null,
           null,
           null,
           null,
           null
          ],
          [
           null,
           null,
           null,
           null,
           null,
           null,
           0.6607266923600953,
           null,
           null
          ],
          [
           null,
           null,
           null,
           0.6490389142945792,
           null,
           null,
           null,
           null,
           null
          ],
          [
           null,
           null,
           null,
           null,
           null,
           null,
           null,
           0.6646287055317674,
           null
          ],
          [
           null,
           null,
           null,
           null,
           null,
           null,
           null,
           0.6646191118088253,
           null
          ],
          [
           null,
           null,
           0.644323621739552,
           null,
           null,
           null,
           null,
           null,
           null
          ],
          [
           null,
           null,
           null,
           null,
           null,
           null,
           null,
           0.6645593456394623,
           null
          ],
          [
           null,
           null,
           null,
           null,
           null,
           null,
           null,
           0.6645451245940481,
           null
          ],
          [
           null,
           null,
           null,
           null,
           null,
           0.6569293339613721,
           null,
           null,
           null
          ],
          [
           null,
           null,
           null,
           null,
           null,
           null,
           null,
           0.6649300128850217,
           null
          ],
          [
           null,
           0.6314982702796567,
           null,
           null,
           null,
           null,
           null,
           null,
           null
          ],
          [
           null,
           null,
           null,
           null,
           0.6530680905287827,
           null,
           null,
           null,
           null
          ],
          [
           null,
           null,
           null,
           null,
           null,
           null,
           null,
           0.6648698628424137,
           null
          ],
          [
           null,
           null,
           null,
           null,
           null,
           null,
           0.6609237574303389,
           null,
           null
          ],
          [
           null,
           null,
           null,
           null,
           null,
           null,
           0.6612476568022565,
           null,
           null
          ],
          [
           null,
           null,
           null,
           null,
           null,
           null,
           null,
           0.6646086228333111,
           null
          ],
          [
           null,
           null,
           null,
           null,
           null,
           0.6569722358985731,
           null,
           null,
           null
          ],
          [
           null,
           null,
           null,
           null,
           null,
           null,
           null,
           0.6648411180668586,
           null
          ],
          [
           null,
           null,
           null,
           null,
           null,
           0.6566925900352235,
           null,
           null,
           null
          ],
          [
           null,
           null,
           null,
           null,
           null,
           null,
           0.6607579171146112,
           null,
           null
          ],
          [
           null,
           null,
           null,
           null,
           null,
           null,
           null,
           null,
           null
          ]
         ]
        },
        {
         "marker": {
          "color": "black",
          "line": {
           "color": "Grey",
           "width": 0.5
          }
         },
         "mode": "markers",
         "showlegend": false,
         "type": "scatter",
         "x": [
          8,
          8,
          4,
          9,
          7,
          7,
          8,
          6,
          2,
          8,
          4,
          9,
          9,
          9,
          5,
          9,
          6,
          7,
          9,
          2,
          5,
          9,
          9,
          8,
          7,
          9,
          8,
          9,
          7,
          8
         ],
         "xaxis": "x7",
         "y": [
          429,
          474,
          146,
          414,
          505,
          914,
          842,
          333,
          277,
          468,
          696,
          729,
          678,
          681,
          651,
          829,
          817,
          995,
          582,
          803,
          589,
          747,
          934,
          1000,
          914,
          890,
          625,
          772,
          766,
          883
         ],
         "yaxis": "y7"
        },
        {
         "colorbar": {
          "title": {
           "text": "Objective Value"
          }
         },
         "colorscale": [
          [
           0,
           "rgb(5,10,172)"
          ],
          [
           0.35,
           "rgb(40,60,190)"
          ],
          [
           0.5,
           "rgb(70,100,245)"
          ],
          [
           0.6,
           "rgb(90,120,245)"
          ],
          [
           0.7,
           "rgb(106,137,247)"
          ],
          [
           1,
           "rgb(220,220,220)"
          ]
         ],
         "connectgaps": true,
         "contours": {
          "coloring": "heatmap"
         },
         "hoverinfo": "none",
         "line": {
          "smoothing": 1.3
         },
         "reversescale": false,
         "showscale": false,
         "type": "contour",
         "x": [
          0.7409618477106495,
          0.7500123976620934,
          0.7561587558513225,
          0.7647806712121554,
          0.7657015920690705,
          0.7755549355301372,
          0.7765000194586029,
          0.779095196446515,
          0.7943352046327946,
          0.7953964778886542,
          0.7967846721551474,
          0.7974468353008204,
          0.8037141232641825,
          0.8107240356947015,
          0.8126072453342384,
          0.8170993908802305,
          0.8183600000784966,
          0.8188441525172186,
          0.8231783710552935,
          0.8283759009894696,
          0.8335685304500571,
          0.8353493207837066,
          0.8389566847737745,
          0.846871159857764,
          0.8543441741009762,
          0.8638454629932327,
          0.8697932861109084,
          0.8817689401428531,
          0.8959408924322944,
          0.9036602876322136,
          0.9310233966909693,
          0.9400739466424132
         ],
         "xaxis": "x2",
         "y": [
          1.65,
          2,
          4,
          5,
          6,
          7,
          8,
          9,
          9.35
         ],
         "yaxis": "y2",
         "z": [
          [
           null,
           null,
           null,
           null,
           null,
           null,
           null,
           null,
           null,
           null,
           null,
           null,
           null,
           null,
           null,
           null,
           null,
           null,
           null,
           null,
           null,
           null,
           null,
           null,
           null,
           null,
           null,
           null,
           null,
           null,
           null,
           null
          ],
          [
           null,
           null,
           0.6298789019203499,
           null,
           null,
           null,
           null,
           null,
           null,
           null,
           null,
           null,
           null,
           null,
           null,
           null,
           null,
           null,
           0.6314982702796567,
           null,
           null,
           null,
           null,
           null,
           null,
           null,
           null,
           null,
           null,
           null,
           null,
           null
          ],
          [
           null,
           0.644323621739552,
           null,
           null,
           null,
           null,
           null,
           null,
           null,
           null,
           null,
           null,
           null,
           null,
           null,
           null,
           null,
           null,
           null,
           null,
           null,
           null,
           null,
           null,
           null,
           null,
           null,
           null,
           null,
           0.6427771588193454,
           null,
           null
          ],
          [
           null,
           null,
           null,
           null,
           null,
           null,
           null,
           0.6490389142945792,
           null,
           null,
           null,
           null,
           null,
           null,
           null,
           null,
           null,
           null,
           null,
           null,
           null,
           null,
           null,
           null,
           0.6487787523188924,
           null,
           null,
           null,
           null,
           null,
           null,
           null
          ],
          [
           null,
           null,
           null,
           null,
           null,
           null,
           null,
           null,
           null,
           null,
           null,
           null,
           null,
           null,
           null,
           null,
           0.6530680905287827,
           null,
           null,
           null,
           null,
           null,
           null,
           null,
           null,
           null,
           null,
           null,
           null,
           null,
           0.6519632525317914,
           null
          ],
          [
           null,
           null,
           null,
           0.6569293339613721,
           null,
           null,
           null,
           null,
           null,
           null,
           null,
           null,
           null,
           0.6569722358985731,
           null,
           null,
           null,
           null,
           null,
           null,
           null,
           null,
           0.6570654137698817,
           null,
           null,
           0.6566925900352235,
           null,
           null,
           0.656192223820365,
           null,
           null,
           null
          ],
          [
           null,
           null,
           null,
           null,
           null,
           null,
           null,
           null,
           null,
           null,
           null,
           null,
           0.6606913078662908,
           null,
           null,
           0.6607579171146112,
           null,
           null,
           null,
           0.6607266923600953,
           0.6608176249564872,
           0.6612476568022565,
           null,
           0.6601325973591153,
           null,
           null,
           null,
           0.6609237574303389,
           null,
           null,
           null,
           null
          ],
          [
           null,
           null,
           null,
           null,
           0.6649300128850217,
           0.6645451245940481,
           0.6644974396978448,
           null,
           0.6646191118088253,
           0.6645593456394623,
           0.6646287055317674,
           0.6638438873005293,
           null,
           null,
           0.6648411180668586,
           null,
           null,
           0.6648698628424137,
           null,
           null,
           null,
           null,
           null,
           null,
           null,
           null,
           0.6646086228333111,
           null,
           null,
           null,
           null,
           null
          ],
          [
           null,
           null,
           null,
           null,
           null,
           null,
           null,
           null,
           null,
           null,
           null,
           null,
           null,
           null,
           null,
           null,
           null,
           null,
           null,
           null,
           null,
           null,
           null,
           null,
           null,
           null,
           null,
           null,
           null,
           null,
           null,
           null
          ]
         ]
        },
        {
         "marker": {
          "color": "black",
          "line": {
           "color": "Grey",
           "width": 0.5
          }
         },
         "mode": "markers",
         "showlegend": false,
         "type": "scatter",
         "x": [
          0.8335685304500571,
          0.846871159857764,
          0.9036602876322136,
          0.7974468353008204,
          0.8959408924322944,
          0.8389566847737745,
          0.8817689401428531,
          0.9310233966909693,
          0.7561587558513225,
          0.8037141232641825,
          0.7500123976620934,
          0.7953964778886542,
          0.7967846721551474,
          0.7943352046327946,
          0.779095196446515,
          0.8188441525172186,
          0.8183600000784966,
          0.8638454629932327,
          0.7765000194586029,
          0.8231783710552935,
          0.8543441741009762,
          0.7755549355301372,
          0.8126072453342384,
          0.8170993908802305,
          0.8107240356947015,
          0.8697932861109084,
          0.8283759009894696,
          0.7657015920690705,
          0.7647806712121554,
          0.8353493207837066
         ],
         "xaxis": "x2",
         "y": [
          8,
          8,
          4,
          9,
          7,
          7,
          8,
          6,
          2,
          8,
          4,
          9,
          9,
          9,
          5,
          9,
          6,
          7,
          9,
          2,
          5,
          9,
          9,
          8,
          7,
          9,
          8,
          9,
          7,
          8
         ],
         "yaxis": "y2"
        },
        {
         "type": "scatter",
         "xaxis": "x5",
         "yaxis": "y5"
        },
        {
         "colorbar": {
          "title": {
           "text": "Objective Value"
          }
         },
         "colorscale": [
          [
           0,
           "rgb(5,10,172)"
          ],
          [
           0.35,
           "rgb(40,60,190)"
          ],
          [
           0.5,
           "rgb(70,100,245)"
          ],
          [
           0.6,
           "rgb(90,120,245)"
          ],
          [
           0.7,
           "rgb(106,137,247)"
          ],
          [
           1,
           "rgb(220,220,220)"
          ]
         ],
         "connectgaps": true,
         "contours": {
          "coloring": "heatmap"
         },
         "hoverinfo": "none",
         "line": {
          "smoothing": 1.3
         },
         "reversescale": false,
         "showscale": false,
         "type": "contour",
         "x": [
          0.7409618477106495,
          0.7500123976620934,
          0.7561587558513225,
          0.7647806712121554,
          0.7657015920690705,
          0.7755549355301372,
          0.7765000194586029,
          0.779095196446515,
          0.7943352046327946,
          0.7953964778886542,
          0.7967846721551474,
          0.7974468353008204,
          0.8037141232641825,
          0.8107240356947015,
          0.8126072453342384,
          0.8170993908802305,
          0.8183600000784966,
          0.8188441525172186,
          0.8231783710552935,
          0.8283759009894696,
          0.8335685304500571,
          0.8353493207837066,
          0.8389566847737745,
          0.846871159857764,
          0.8543441741009762,
          0.8638454629932327,
          0.8697932861109084,
          0.8817689401428531,
          0.8959408924322944,
          0.9036602876322136,
          0.9310233966909693,
          0.9400739466424132
         ],
         "xaxis": "x8",
         "y": [
          103.3,
          146,
          277,
          333,
          414,
          429,
          468,
          474,
          505,
          582,
          589,
          625,
          651,
          678,
          681,
          696,
          729,
          747,
          766,
          772,
          803,
          817,
          829,
          842,
          883,
          890,
          914,
          934,
          995,
          1000,
          1042.7
         ],
         "yaxis": "y8",
         "z": [
          [
           null,
           null,
           null,
           null,
           null,
           null,
           null,
           null,
           null,
           null,
           null,
           null,
           null,
           null,
           null,
           null,
           null,
           null,
           null,
           null,
           null,
           null,
           null,
           null,
           null,
           null,
           null,
           null,
           null,
           null,
           null,
           null
          ],
          [
           null,
           null,
           null,
           null,
           null,
           null,
           null,
           null,
           null,
           null,
           null,
           null,
           null,
           null,
           null,
           null,
           null,
           null,
           null,
           null,
           null,
           null,
           null,
           null,
           null,
           null,
           null,
           null,
           null,
           0.6427771588193454,
           null,
           null
          ],
          [
           null,
           null,
           0.6298789019203499,
           null,
           null,
           null,
           null,
           null,
           null,
           null,
           null,
           null,
           null,
           null,
           null,
           null,
           null,
           null,
           null,
           null,
           null,
           null,
           null,
           null,
           null,
           null,
           null,
           null,
           null,
           null,
           null,
           null
          ],
          [
           null,
           null,
           null,
           null,
           null,
           null,
           null,
           null,
           null,
           null,
           null,
           null,
           null,
           null,
           null,
           null,
           null,
           null,
           null,
           null,
           null,
           null,
           null,
           null,
           null,
           null,
           null,
           null,
           null,
           null,
           0.6519632525317914,
           null
          ],
          [
           null,
           null,
           null,
           null,
           null,
           null,
           null,
           null,
           null,
           null,
           null,
           0.6638438873005293,
           null,
           null,
           null,
           null,
           null,
           null,
           null,
           null,
           null,
           null,
           null,
           null,
           null,
           null,
           null,
           null,
           null,
           null,
           null,
           null
          ],
          [
           null,
           null,
           null,
           null,
           null,
           null,
           null,
           null,
           null,
           null,
           null,
           null,
           null,
           null,
           null,
           null,
           null,
           null,
           null,
           null,
           0.6608176249564872,
           null,
           null,
           null,
           null,
           null,
           null,
           null,
           null,
           null,
           null,
           null
          ],
          [
           null,
           null,
           null,
           null,
           null,
           null,
           null,
           null,
           null,
           null,
           null,
           null,
           0.6606913078662908,
           null,
           null,
           null,
           null,
           null,
           null,
           null,
           null,
           null,
           null,
           null,
           null,
           null,
           null,
           null,
           null,
           null,
           null,
           null
          ],
          [
           null,
           null,
           null,
           null,
           null,
           null,
           null,
           null,
           null,
           null,
           null,
           null,
           null,
           null,
           null,
           null,
           null,
           null,
           null,
           null,
           null,
           null,
           null,
           0.6601325973591153,
           null,
           null,
           null,
           null,
           null,
           null,
           null,
           null
          ],
          [
           null,
           null,
           null,
           null,
           null,
           null,
           null,
           null,
           null,
           null,
           null,
           null,
           null,
           null,
           null,
           null,
           null,
           null,
           null,
           null,
           null,
           null,
           null,
           null,
           null,
           null,
           null,
           null,
           0.656192223820365,
           null,
           null,
           null
          ],
          [
           null,
           null,
           null,
           null,
           null,
           null,
           0.6644974396978448,
           null,
           null,
           null,
           null,
           null,
           null,
           null,
           null,
           null,
           null,
           null,
           null,
           null,
           null,
           null,
           null,
           null,
           null,
           null,
           null,
           null,
           null,
           null,
           null,
           null
          ],
          [
           null,
           null,
           null,
           null,
           null,
           null,
           null,
           null,
           null,
           null,
           null,
           null,
           null,
           null,
           null,
           null,
           null,
           null,
           null,
           null,
           null,
           null,
           null,
           null,
           0.6487787523188924,
           null,
           null,
           null,
           null,
           null,
           null,
           null
          ],
          [
           null,
           null,
           null,
           null,
           null,
           null,
           null,
           null,
           null,
           null,
           null,
           null,
           null,
           null,
           null,
           null,
           null,
           null,
           null,
           0.6607266923600953,
           null,
           null,
           null,
           null,
           null,
           null,
           null,
           null,
           null,
           null,
           null,
           null
          ],
          [
           null,
           null,
           null,
           null,
           null,
           null,
           null,
           0.6490389142945792,
           null,
           null,
           null,
           null,
           null,
           null,
           null,
           null,
           null,
           null,
           null,
           null,
           null,
           null,
           null,
           null,
           null,
           null,
           null,
           null,
           null,
           null,
           null,
           null
          ],
          [
           null,
           null,
           null,
           null,
           null,
           null,
           null,
           null,
           null,
           null,
           0.6646287055317674,
           null,
           null,
           null,
           null,
           null,
           null,
           null,
           null,
           null,
           null,
           null,
           null,
           null,
           null,
           null,
           null,
           null,
           null,
           null,
           null,
           null
          ],
          [
           null,
           null,
           null,
           null,
           null,
           null,
           null,
           null,
           0.6646191118088253,
           null,
           null,
           null,
           null,
           null,
           null,
           null,
           null,
           null,
           null,
           null,
           null,
           null,
           null,
           null,
           null,
           null,
           null,
           null,
           null,
           null,
           null,
           null
          ],
          [
           null,
           0.644323621739552,
           null,
           null,
           null,
           null,
           null,
           null,
           null,
           null,
           null,
           null,
           null,
           null,
           null,
           null,
           null,
           null,
           null,
           null,
           null,
           null,
           null,
           null,
           null,
           null,
           null,
           null,
           null,
           null,
           null,
           null
          ],
          [
           null,
           null,
           null,
           null,
           null,
           null,
           null,
           null,
           null,
           0.6645593456394623,
           null,
           null,
           null,
           null,
           null,
           null,
           null,
           null,
           null,
           null,
           null,
           null,
           null,
           null,
           null,
           null,
           null,
           null,
           null,
           null,
           null,
           null
          ],
          [
           null,
           null,
           null,
           null,
           null,
           0.6645451245940481,
           null,
           null,
           null,
           null,
           null,
           null,
           null,
           null,
           null,
           null,
           null,
           null,
           null,
           null,
           null,
           null,
           null,
           null,
           null,
           null,
           null,
           null,
           null,
           null,
           null,
           null
          ],
          [
           null,
           null,
           null,
           0.6569293339613721,
           null,
           null,
           null,
           null,
           null,
           null,
           null,
           null,
           null,
           null,
           null,
           null,
           null,
           null,
           null,
           null,
           null,
           null,
           null,
           null,
           null,
           null,
           null,
           null,
           null,
           null,
           null,
           null
          ],
          [
           null,
           null,
           null,
           null,
           0.6649300128850217,
           null,
           null,
           null,
           null,
           null,
           null,
           null,
           null,
           null,
           null,
           null,
           null,
           null,
           null,
           null,
           null,
           null,
           null,
           null,
           null,
           null,
           null,
           null,
           null,
           null,
           null,
           null
          ],
          [
           null,
           null,
           null,
           null,
           null,
           null,
           null,
           null,
           null,
           null,
           null,
           null,
           null,
           null,
           null,
           null,
           null,
           null,
           0.6314982702796567,
           null,
           null,
           null,
           null,
           null,
           null,
           null,
           null,
           null,
           null,
           null,
           null,
           null
          ],
          [
           null,
           null,
           null,
           null,
           null,
           null,
           null,
           null,
           null,
           null,
           null,
           null,
           null,
           null,
           null,
           null,
           0.6530680905287827,
           null,
           null,
           null,
           null,
           null,
           null,
           null,
           null,
           null,
           null,
           null,
           null,
           null,
           null,
           null
          ],
          [
           null,
           null,
           null,
           null,
           null,
           null,
           null,
           null,
           null,
           null,
           null,
           null,
           null,
           null,
           null,
           null,
           null,
           0.6648698628424137,
           null,
           null,
           null,
           null,
           null,
           null,
           null,
           null,
           null,
           null,
           null,
           null,
           null,
           null
          ],
          [
           null,
           null,
           null,
           null,
           null,
           null,
           null,
           null,
           null,
           null,
           null,
           null,
           null,
           null,
           null,
           null,
           null,
           null,
           null,
           null,
           null,
           null,
           null,
           null,
           null,
           null,
           null,
           0.6609237574303389,
           null,
           null,
           null,
           null
          ],
          [
           null,
           null,
           null,
           null,
           null,
           null,
           null,
           null,
           null,
           null,
           null,
           null,
           null,
           null,
           null,
           null,
           null,
           null,
           null,
           null,
           null,
           0.6612476568022565,
           null,
           null,
           null,
           null,
           null,
           null,
           null,
           null,
           null,
           null
          ],
          [
           null,
           null,
           null,
           null,
           null,
           null,
           null,
           null,
           null,
           null,
           null,
           null,
           null,
           null,
           null,
           null,
           null,
           null,
           null,
           null,
           null,
           null,
           null,
           null,
           null,
           null,
           0.6646086228333111,
           null,
           null,
           null,
           null,
           null
          ],
          [
           null,
           null,
           null,
           null,
           null,
           null,
           null,
           null,
           null,
           null,
           null,
           null,
           null,
           0.6569722358985731,
           null,
           null,
           null,
           null,
           null,
           null,
           null,
           null,
           0.6570654137698817,
           null,
           null,
           null,
           null,
           null,
           null,
           null,
           null,
           null
          ],
          [
           null,
           null,
           null,
           null,
           null,
           null,
           null,
           null,
           null,
           null,
           null,
           null,
           null,
           null,
           0.6648411180668586,
           null,
           null,
           null,
           null,
           null,
           null,
           null,
           null,
           null,
           null,
           null,
           null,
           null,
           null,
           null,
           null,
           null
          ],
          [
           null,
           null,
           null,
           null,
           null,
           null,
           null,
           null,
           null,
           null,
           null,
           null,
           null,
           null,
           null,
           null,
           null,
           null,
           null,
           null,
           null,
           null,
           null,
           null,
           null,
           0.6566925900352235,
           null,
           null,
           null,
           null,
           null,
           null
          ],
          [
           null,
           null,
           null,
           null,
           null,
           null,
           null,
           null,
           null,
           null,
           null,
           null,
           null,
           null,
           null,
           0.6607579171146112,
           null,
           null,
           null,
           null,
           null,
           null,
           null,
           null,
           null,
           null,
           null,
           null,
           null,
           null,
           null,
           null
          ],
          [
           null,
           null,
           null,
           null,
           null,
           null,
           null,
           null,
           null,
           null,
           null,
           null,
           null,
           null,
           null,
           null,
           null,
           null,
           null,
           null,
           null,
           null,
           null,
           null,
           null,
           null,
           null,
           null,
           null,
           null,
           null,
           null
          ]
         ]
        },
        {
         "marker": {
          "color": "black",
          "line": {
           "color": "Grey",
           "width": 0.5
          }
         },
         "mode": "markers",
         "showlegend": false,
         "type": "scatter",
         "x": [
          0.8335685304500571,
          0.846871159857764,
          0.9036602876322136,
          0.7974468353008204,
          0.8959408924322944,
          0.8389566847737745,
          0.8817689401428531,
          0.9310233966909693,
          0.7561587558513225,
          0.8037141232641825,
          0.7500123976620934,
          0.7953964778886542,
          0.7967846721551474,
          0.7943352046327946,
          0.779095196446515,
          0.8188441525172186,
          0.8183600000784966,
          0.8638454629932327,
          0.7765000194586029,
          0.8231783710552935,
          0.8543441741009762,
          0.7755549355301372,
          0.8126072453342384,
          0.8170993908802305,
          0.8107240356947015,
          0.8697932861109084,
          0.8283759009894696,
          0.7657015920690705,
          0.7647806712121554,
          0.8353493207837066
         ],
         "xaxis": "x8",
         "y": [
          429,
          474,
          146,
          414,
          505,
          914,
          842,
          333,
          277,
          468,
          696,
          729,
          678,
          681,
          651,
          829,
          817,
          995,
          582,
          803,
          589,
          747,
          934,
          1000,
          914,
          890,
          625,
          772,
          766,
          883
         ],
         "yaxis": "y8"
        },
        {
         "colorbar": {
          "title": {
           "text": "Objective Value"
          }
         },
         "colorscale": [
          [
           0,
           "rgb(5,10,172)"
          ],
          [
           0.35,
           "rgb(40,60,190)"
          ],
          [
           0.5,
           "rgb(70,100,245)"
          ],
          [
           0.6,
           "rgb(90,120,245)"
          ],
          [
           0.7,
           "rgb(106,137,247)"
          ],
          [
           1,
           "rgb(220,220,220)"
          ]
         ],
         "connectgaps": true,
         "contours": {
          "coloring": "heatmap"
         },
         "hoverinfo": "none",
         "line": {
          "smoothing": 1.3
         },
         "reversescale": false,
         "showscale": false,
         "type": "contour",
         "x": [
          103.3,
          146,
          277,
          333,
          414,
          429,
          468,
          474,
          505,
          582,
          589,
          625,
          651,
          678,
          681,
          696,
          729,
          747,
          766,
          772,
          803,
          817,
          829,
          842,
          883,
          890,
          914,
          934,
          995,
          1000,
          1042.7
         ],
         "xaxis": "x3",
         "y": [
          1.65,
          2,
          4,
          5,
          6,
          7,
          8,
          9,
          9.35
         ],
         "yaxis": "y3",
         "z": [
          [
           null,
           null,
           null,
           null,
           null,
           null,
           null,
           null,
           null,
           null,
           null,
           null,
           null,
           null,
           null,
           null,
           null,
           null,
           null,
           null,
           null,
           null,
           null,
           null,
           null,
           null,
           null,
           null,
           null,
           null,
           null
          ],
          [
           null,
           null,
           0.6298789019203499,
           null,
           null,
           null,
           null,
           null,
           null,
           null,
           null,
           null,
           null,
           null,
           null,
           null,
           null,
           null,
           null,
           null,
           0.6314982702796567,
           null,
           null,
           null,
           null,
           null,
           null,
           null,
           null,
           null,
           null
          ],
          [
           null,
           0.6427771588193454,
           null,
           null,
           null,
           null,
           null,
           null,
           null,
           null,
           null,
           null,
           null,
           null,
           null,
           0.644323621739552,
           null,
           null,
           null,
           null,
           null,
           null,
           null,
           null,
           null,
           null,
           null,
           null,
           null,
           null,
           null
          ],
          [
           null,
           null,
           null,
           null,
           null,
           null,
           null,
           null,
           null,
           null,
           0.6487787523188924,
           null,
           0.6490389142945792,
           null,
           null,
           null,
           null,
           null,
           null,
           null,
           null,
           null,
           null,
           null,
           null,
           null,
           null,
           null,
           null,
           null,
           null
          ],
          [
           null,
           null,
           null,
           0.6519632525317914,
           null,
           null,
           null,
           null,
           null,
           null,
           null,
           null,
           null,
           null,
           null,
           null,
           null,
           null,
           null,
           null,
           null,
           0.6530680905287827,
           null,
           null,
           null,
           null,
           null,
           null,
           null,
           null,
           null
          ],
          [
           null,
           null,
           null,
           null,
           null,
           null,
           null,
           null,
           0.656192223820365,
           null,
           null,
           null,
           null,
           null,
           null,
           null,
           null,
           null,
           0.6569293339613721,
           null,
           null,
           null,
           null,
           null,
           null,
           null,
           0.6569722358985731,
           null,
           0.6566925900352235,
           null,
           null
          ],
          [
           null,
           null,
           null,
           null,
           null,
           0.6608176249564872,
           0.6606913078662908,
           0.6601325973591153,
           null,
           null,
           null,
           0.6607266923600953,
           null,
           null,
           null,
           null,
           null,
           null,
           null,
           null,
           null,
           null,
           null,
           0.6609237574303389,
           0.6612476568022565,
           null,
           null,
           null,
           null,
           0.6607579171146112,
           null
          ],
          [
           null,
           null,
           null,
           null,
           0.6638438873005293,
           null,
           null,
           null,
           null,
           0.6644974396978448,
           null,
           null,
           null,
           0.6646287055317674,
           0.6646191118088253,
           null,
           0.6645593456394623,
           0.6645451245940481,
           null,
           0.6649300128850217,
           null,
           null,
           0.6648698628424137,
           null,
           null,
           0.6646086228333111,
           null,
           0.6648411180668586,
           null,
           null,
           null
          ],
          [
           null,
           null,
           null,
           null,
           null,
           null,
           null,
           null,
           null,
           null,
           null,
           null,
           null,
           null,
           null,
           null,
           null,
           null,
           null,
           null,
           null,
           null,
           null,
           null,
           null,
           null,
           null,
           null,
           null,
           null,
           null
          ]
         ]
        },
        {
         "marker": {
          "color": "black",
          "line": {
           "color": "Grey",
           "width": 0.5
          }
         },
         "mode": "markers",
         "showlegend": false,
         "type": "scatter",
         "x": [
          429,
          474,
          146,
          414,
          505,
          914,
          842,
          333,
          277,
          468,
          696,
          729,
          678,
          681,
          651,
          829,
          817,
          995,
          582,
          803,
          589,
          747,
          934,
          1000,
          914,
          890,
          625,
          772,
          766,
          883
         ],
         "xaxis": "x3",
         "y": [
          8,
          8,
          4,
          9,
          7,
          7,
          8,
          6,
          2,
          8,
          4,
          9,
          9,
          9,
          5,
          9,
          6,
          7,
          9,
          2,
          5,
          9,
          9,
          8,
          7,
          9,
          8,
          9,
          7,
          8
         ],
         "yaxis": "y3"
        },
        {
         "colorbar": {
          "title": {
           "text": "Objective Value"
          }
         },
         "colorscale": [
          [
           0,
           "rgb(5,10,172)"
          ],
          [
           0.35,
           "rgb(40,60,190)"
          ],
          [
           0.5,
           "rgb(70,100,245)"
          ],
          [
           0.6,
           "rgb(90,120,245)"
          ],
          [
           0.7,
           "rgb(106,137,247)"
          ],
          [
           1,
           "rgb(220,220,220)"
          ]
         ],
         "connectgaps": true,
         "contours": {
          "coloring": "heatmap"
         },
         "hoverinfo": "none",
         "line": {
          "smoothing": 1.3
         },
         "reversescale": false,
         "showscale": false,
         "type": "contour",
         "x": [
          103.3,
          146,
          277,
          333,
          414,
          429,
          468,
          474,
          505,
          582,
          589,
          625,
          651,
          678,
          681,
          696,
          729,
          747,
          766,
          772,
          803,
          817,
          829,
          842,
          883,
          890,
          914,
          934,
          995,
          1000,
          1042.7
         ],
         "xaxis": "x6",
         "y": [
          0.7409618477106495,
          0.7500123976620934,
          0.7561587558513225,
          0.7647806712121554,
          0.7657015920690705,
          0.7755549355301372,
          0.7765000194586029,
          0.779095196446515,
          0.7943352046327946,
          0.7953964778886542,
          0.7967846721551474,
          0.7974468353008204,
          0.8037141232641825,
          0.8107240356947015,
          0.8126072453342384,
          0.8170993908802305,
          0.8183600000784966,
          0.8188441525172186,
          0.8231783710552935,
          0.8283759009894696,
          0.8335685304500571,
          0.8353493207837066,
          0.8389566847737745,
          0.846871159857764,
          0.8543441741009762,
          0.8638454629932327,
          0.8697932861109084,
          0.8817689401428531,
          0.8959408924322944,
          0.9036602876322136,
          0.9310233966909693,
          0.9400739466424132
         ],
         "yaxis": "y6",
         "z": [
          [
           null,
           null,
           null,
           null,
           null,
           null,
           null,
           null,
           null,
           null,
           null,
           null,
           null,
           null,
           null,
           null,
           null,
           null,
           null,
           null,
           null,
           null,
           null,
           null,
           null,
           null,
           null,
           null,
           null,
           null,
           null
          ],
          [
           null,
           null,
           null,
           null,
           null,
           null,
           null,
           null,
           null,
           null,
           null,
           null,
           null,
           null,
           null,
           0.644323621739552,
           null,
           null,
           null,
           null,
           null,
           null,
           null,
           null,
           null,
           null,
           null,
           null,
           null,
           null,
           null
          ],
          [
           null,
           null,
           0.6298789019203499,
           null,
           null,
           null,
           null,
           null,
           null,
           null,
           null,
           null,
           null,
           null,
           null,
           null,
           null,
           null,
           null,
           null,
           null,
           null,
           null,
           null,
           null,
           null,
           null,
           null,
           null,
           null,
           null
          ],
          [
           null,
           null,
           null,
           null,
           null,
           null,
           null,
           null,
           null,
           null,
           null,
           null,
           null,
           null,
           null,
           null,
           null,
           null,
           0.6569293339613721,
           null,
           null,
           null,
           null,
           null,
           null,
           null,
           null,
           null,
           null,
           null,
           null
          ],
          [
           null,
           null,
           null,
           null,
           null,
           null,
           null,
           null,
           null,
           null,
           null,
           null,
           null,
           null,
           null,
           null,
           null,
           null,
           null,
           0.6649300128850217,
           null,
           null,
           null,
           null,
           null,
           null,
           null,
           null,
           null,
           null,
           null
          ],
          [
           null,
           null,
           null,
           null,
           null,
           null,
           null,
           null,
           null,
           null,
           null,
           null,
           null,
           null,
           null,
           null,
           null,
           0.6645451245940481,
           null,
           null,
           null,
           null,
           null,
           null,
           null,
           null,
           null,
           null,
           null,
           null,
           null
          ],
          [
           null,
           null,
           null,
           null,
           null,
           null,
           null,
           null,
           null,
           0.6644974396978448,
           null,
           null,
           null,
           null,
           null,
           null,
           null,
           null,
           null,
           null,
           null,
           null,
           null,
           null,
           null,
           null,
           null,
           null,
           null,
           null,
           null
          ],
          [
           null,
           null,
           null,
           null,
           null,
           null,
           null,
           null,
           null,
           null,
           null,
           null,
           0.6490389142945792,
           null,
           null,
           null,
           null,
           null,
           null,
           null,
           null,
           null,
           null,
           null,
           null,
           null,
           null,
           null,
           null,
           null,
           null
          ],
          [
           null,
           null,
           null,
           null,
           null,
           null,
           null,
           null,
           null,
           null,
           null,
           null,
           null,
           null,
           0.6646191118088253,
           null,
           null,
           null,
           null,
           null,
           null,
           null,
           null,
           null,
           null,
           null,
           null,
           null,
           null,
           null,
           null
          ],
          [
           null,
           null,
           null,
           null,
           null,
           null,
           null,
           null,
           null,
           null,
           null,
           null,
           null,
           null,
           null,
           null,
           0.6645593456394623,
           null,
           null,
           null,
           null,
           null,
           null,
           null,
           null,
           null,
           null,
           null,
           null,
           null,
           null
          ],
          [
           null,
           null,
           null,
           null,
           null,
           null,
           null,
           null,
           null,
           null,
           null,
           null,
           null,
           0.6646287055317674,
           null,
           null,
           null,
           null,
           null,
           null,
           null,
           null,
           null,
           null,
           null,
           null,
           null,
           null,
           null,
           null,
           null
          ],
          [
           null,
           null,
           null,
           null,
           0.6638438873005293,
           null,
           null,
           null,
           null,
           null,
           null,
           null,
           null,
           null,
           null,
           null,
           null,
           null,
           null,
           null,
           null,
           null,
           null,
           null,
           null,
           null,
           null,
           null,
           null,
           null,
           null
          ],
          [
           null,
           null,
           null,
           null,
           null,
           null,
           0.6606913078662908,
           null,
           null,
           null,
           null,
           null,
           null,
           null,
           null,
           null,
           null,
           null,
           null,
           null,
           null,
           null,
           null,
           null,
           null,
           null,
           null,
           null,
           null,
           null,
           null
          ],
          [
           null,
           null,
           null,
           null,
           null,
           null,
           null,
           null,
           null,
           null,
           null,
           null,
           null,
           null,
           null,
           null,
           null,
           null,
           null,
           null,
           null,
           null,
           null,
           null,
           null,
           null,
           0.6569722358985731,
           null,
           null,
           null,
           null
          ],
          [
           null,
           null,
           null,
           null,
           null,
           null,
           null,
           null,
           null,
           null,
           null,
           null,
           null,
           null,
           null,
           null,
           null,
           null,
           null,
           null,
           null,
           null,
           null,
           null,
           null,
           null,
           null,
           0.6648411180668586,
           null,
           null,
           null
          ],
          [
           null,
           null,
           null,
           null,
           null,
           null,
           null,
           null,
           null,
           null,
           null,
           null,
           null,
           null,
           null,
           null,
           null,
           null,
           null,
           null,
           null,
           null,
           null,
           null,
           null,
           null,
           null,
           null,
           null,
           0.6607579171146112,
           null
          ],
          [
           null,
           null,
           null,
           null,
           null,
           null,
           null,
           null,
           null,
           null,
           null,
           null,
           null,
           null,
           null,
           null,
           null,
           null,
           null,
           null,
           null,
           0.6530680905287827,
           null,
           null,
           null,
           null,
           null,
           null,
           null,
           null,
           null
          ],
          [
           null,
           null,
           null,
           null,
           null,
           null,
           null,
           null,
           null,
           null,
           null,
           null,
           null,
           null,
           null,
           null,
           null,
           null,
           null,
           null,
           null,
           null,
           0.6648698628424137,
           null,
           null,
           null,
           null,
           null,
           null,
           null,
           null
          ],
          [
           null,
           null,
           null,
           null,
           null,
           null,
           null,
           null,
           null,
           null,
           null,
           null,
           null,
           null,
           null,
           null,
           null,
           null,
           null,
           null,
           0.6314982702796567,
           null,
           null,
           null,
           null,
           null,
           null,
           null,
           null,
           null,
           null
          ],
          [
           null,
           null,
           null,
           null,
           null,
           null,
           null,
           null,
           null,
           null,
           null,
           0.6607266923600953,
           null,
           null,
           null,
           null,
           null,
           null,
           null,
           null,
           null,
           null,
           null,
           null,
           null,
           null,
           null,
           null,
           null,
           null,
           null
          ],
          [
           null,
           null,
           null,
           null,
           null,
           0.6608176249564872,
           null,
           null,
           null,
           null,
           null,
           null,
           null,
           null,
           null,
           null,
           null,
           null,
           null,
           null,
           null,
           null,
           null,
           null,
           null,
           null,
           null,
           null,
           null,
           null,
           null
          ],
          [
           null,
           null,
           null,
           null,
           null,
           null,
           null,
           null,
           null,
           null,
           null,
           null,
           null,
           null,
           null,
           null,
           null,
           null,
           null,
           null,
           null,
           null,
           null,
           null,
           0.6612476568022565,
           null,
           null,
           null,
           null,
           null,
           null
          ],
          [
           null,
           null,
           null,
           null,
           null,
           null,
           null,
           null,
           null,
           null,
           null,
           null,
           null,
           null,
           null,
           null,
           null,
           null,
           null,
           null,
           null,
           null,
           null,
           null,
           null,
           null,
           0.6570654137698817,
           null,
           null,
           null,
           null
          ],
          [
           null,
           null,
           null,
           null,
           null,
           null,
           null,
           0.6601325973591153,
           null,
           null,
           null,
           null,
           null,
           null,
           null,
           null,
           null,
           null,
           null,
           null,
           null,
           null,
           null,
           null,
           null,
           null,
           null,
           null,
           null,
           null,
           null
          ],
          [
           null,
           null,
           null,
           null,
           null,
           null,
           null,
           null,
           null,
           null,
           0.6487787523188924,
           null,
           null,
           null,
           null,
           null,
           null,
           null,
           null,
           null,
           null,
           null,
           null,
           null,
           null,
           null,
           null,
           null,
           null,
           null,
           null
          ],
          [
           null,
           null,
           null,
           null,
           null,
           null,
           null,
           null,
           null,
           null,
           null,
           null,
           null,
           null,
           null,
           null,
           null,
           null,
           null,
           null,
           null,
           null,
           null,
           null,
           null,
           null,
           null,
           null,
           0.6566925900352235,
           null,
           null
          ],
          [
           null,
           null,
           null,
           null,
           null,
           null,
           null,
           null,
           null,
           null,
           null,
           null,
           null,
           null,
           null,
           null,
           null,
           null,
           null,
           null,
           null,
           null,
           null,
           null,
           null,
           0.6646086228333111,
           null,
           null,
           null,
           null,
           null
          ],
          [
           null,
           null,
           null,
           null,
           null,
           null,
           null,
           null,
           null,
           null,
           null,
           null,
           null,
           null,
           null,
           null,
           null,
           null,
           null,
           null,
           null,
           null,
           null,
           0.6609237574303389,
           null,
           null,
           null,
           null,
           null,
           null,
           null
          ],
          [
           null,
           null,
           null,
           null,
           null,
           null,
           null,
           null,
           0.656192223820365,
           null,
           null,
           null,
           null,
           null,
           null,
           null,
           null,
           null,
           null,
           null,
           null,
           null,
           null,
           null,
           null,
           null,
           null,
           null,
           null,
           null,
           null
          ],
          [
           null,
           0.6427771588193454,
           null,
           null,
           null,
           null,
           null,
           null,
           null,
           null,
           null,
           null,
           null,
           null,
           null,
           null,
           null,
           null,
           null,
           null,
           null,
           null,
           null,
           null,
           null,
           null,
           null,
           null,
           null,
           null,
           null
          ],
          [
           null,
           null,
           null,
           0.6519632525317914,
           null,
           null,
           null,
           null,
           null,
           null,
           null,
           null,
           null,
           null,
           null,
           null,
           null,
           null,
           null,
           null,
           null,
           null,
           null,
           null,
           null,
           null,
           null,
           null,
           null,
           null,
           null
          ],
          [
           null,
           null,
           null,
           null,
           null,
           null,
           null,
           null,
           null,
           null,
           null,
           null,
           null,
           null,
           null,
           null,
           null,
           null,
           null,
           null,
           null,
           null,
           null,
           null,
           null,
           null,
           null,
           null,
           null,
           null,
           null
          ]
         ]
        },
        {
         "marker": {
          "color": "black",
          "line": {
           "color": "Grey",
           "width": 0.5
          }
         },
         "mode": "markers",
         "showlegend": false,
         "type": "scatter",
         "x": [
          429,
          474,
          146,
          414,
          505,
          914,
          842,
          333,
          277,
          468,
          696,
          729,
          678,
          681,
          651,
          829,
          817,
          995,
          582,
          803,
          589,
          747,
          934,
          1000,
          914,
          890,
          625,
          772,
          766,
          883
         ],
         "xaxis": "x6",
         "y": [
          0.8335685304500571,
          0.846871159857764,
          0.9036602876322136,
          0.7974468353008204,
          0.8959408924322944,
          0.8389566847737745,
          0.8817689401428531,
          0.9310233966909693,
          0.7561587558513225,
          0.8037141232641825,
          0.7500123976620934,
          0.7953964778886542,
          0.7967846721551474,
          0.7943352046327946,
          0.779095196446515,
          0.8188441525172186,
          0.8183600000784966,
          0.8638454629932327,
          0.7765000194586029,
          0.8231783710552935,
          0.8543441741009762,
          0.7755549355301372,
          0.8126072453342384,
          0.8170993908802305,
          0.8107240356947015,
          0.8697932861109084,
          0.8283759009894696,
          0.7657015920690705,
          0.7647806712121554,
          0.8353493207837066
         ],
         "yaxis": "y6"
        },
        {
         "type": "scatter",
         "xaxis": "x9",
         "yaxis": "y9"
        }
       ],
       "layout": {
        "template": {
         "data": {
          "bar": [
           {
            "error_x": {
             "color": "#2a3f5f"
            },
            "error_y": {
             "color": "#2a3f5f"
            },
            "marker": {
             "line": {
              "color": "#E5ECF6",
              "width": 0.5
             },
             "pattern": {
              "fillmode": "overlay",
              "size": 10,
              "solidity": 0.2
             }
            },
            "type": "bar"
           }
          ],
          "barpolar": [
           {
            "marker": {
             "line": {
              "color": "#E5ECF6",
              "width": 0.5
             },
             "pattern": {
              "fillmode": "overlay",
              "size": 10,
              "solidity": 0.2
             }
            },
            "type": "barpolar"
           }
          ],
          "carpet": [
           {
            "aaxis": {
             "endlinecolor": "#2a3f5f",
             "gridcolor": "white",
             "linecolor": "white",
             "minorgridcolor": "white",
             "startlinecolor": "#2a3f5f"
            },
            "baxis": {
             "endlinecolor": "#2a3f5f",
             "gridcolor": "white",
             "linecolor": "white",
             "minorgridcolor": "white",
             "startlinecolor": "#2a3f5f"
            },
            "type": "carpet"
           }
          ],
          "choropleth": [
           {
            "colorbar": {
             "outlinewidth": 0,
             "ticks": ""
            },
            "type": "choropleth"
           }
          ],
          "contour": [
           {
            "colorbar": {
             "outlinewidth": 0,
             "ticks": ""
            },
            "colorscale": [
             [
              0,
              "#0d0887"
             ],
             [
              0.1111111111111111,
              "#46039f"
             ],
             [
              0.2222222222222222,
              "#7201a8"
             ],
             [
              0.3333333333333333,
              "#9c179e"
             ],
             [
              0.4444444444444444,
              "#bd3786"
             ],
             [
              0.5555555555555556,
              "#d8576b"
             ],
             [
              0.6666666666666666,
              "#ed7953"
             ],
             [
              0.7777777777777778,
              "#fb9f3a"
             ],
             [
              0.8888888888888888,
              "#fdca26"
             ],
             [
              1,
              "#f0f921"
             ]
            ],
            "type": "contour"
           }
          ],
          "contourcarpet": [
           {
            "colorbar": {
             "outlinewidth": 0,
             "ticks": ""
            },
            "type": "contourcarpet"
           }
          ],
          "heatmap": [
           {
            "colorbar": {
             "outlinewidth": 0,
             "ticks": ""
            },
            "colorscale": [
             [
              0,
              "#0d0887"
             ],
             [
              0.1111111111111111,
              "#46039f"
             ],
             [
              0.2222222222222222,
              "#7201a8"
             ],
             [
              0.3333333333333333,
              "#9c179e"
             ],
             [
              0.4444444444444444,
              "#bd3786"
             ],
             [
              0.5555555555555556,
              "#d8576b"
             ],
             [
              0.6666666666666666,
              "#ed7953"
             ],
             [
              0.7777777777777778,
              "#fb9f3a"
             ],
             [
              0.8888888888888888,
              "#fdca26"
             ],
             [
              1,
              "#f0f921"
             ]
            ],
            "type": "heatmap"
           }
          ],
          "heatmapgl": [
           {
            "colorbar": {
             "outlinewidth": 0,
             "ticks": ""
            },
            "colorscale": [
             [
              0,
              "#0d0887"
             ],
             [
              0.1111111111111111,
              "#46039f"
             ],
             [
              0.2222222222222222,
              "#7201a8"
             ],
             [
              0.3333333333333333,
              "#9c179e"
             ],
             [
              0.4444444444444444,
              "#bd3786"
             ],
             [
              0.5555555555555556,
              "#d8576b"
             ],
             [
              0.6666666666666666,
              "#ed7953"
             ],
             [
              0.7777777777777778,
              "#fb9f3a"
             ],
             [
              0.8888888888888888,
              "#fdca26"
             ],
             [
              1,
              "#f0f921"
             ]
            ],
            "type": "heatmapgl"
           }
          ],
          "histogram": [
           {
            "marker": {
             "pattern": {
              "fillmode": "overlay",
              "size": 10,
              "solidity": 0.2
             }
            },
            "type": "histogram"
           }
          ],
          "histogram2d": [
           {
            "colorbar": {
             "outlinewidth": 0,
             "ticks": ""
            },
            "colorscale": [
             [
              0,
              "#0d0887"
             ],
             [
              0.1111111111111111,
              "#46039f"
             ],
             [
              0.2222222222222222,
              "#7201a8"
             ],
             [
              0.3333333333333333,
              "#9c179e"
             ],
             [
              0.4444444444444444,
              "#bd3786"
             ],
             [
              0.5555555555555556,
              "#d8576b"
             ],
             [
              0.6666666666666666,
              "#ed7953"
             ],
             [
              0.7777777777777778,
              "#fb9f3a"
             ],
             [
              0.8888888888888888,
              "#fdca26"
             ],
             [
              1,
              "#f0f921"
             ]
            ],
            "type": "histogram2d"
           }
          ],
          "histogram2dcontour": [
           {
            "colorbar": {
             "outlinewidth": 0,
             "ticks": ""
            },
            "colorscale": [
             [
              0,
              "#0d0887"
             ],
             [
              0.1111111111111111,
              "#46039f"
             ],
             [
              0.2222222222222222,
              "#7201a8"
             ],
             [
              0.3333333333333333,
              "#9c179e"
             ],
             [
              0.4444444444444444,
              "#bd3786"
             ],
             [
              0.5555555555555556,
              "#d8576b"
             ],
             [
              0.6666666666666666,
              "#ed7953"
             ],
             [
              0.7777777777777778,
              "#fb9f3a"
             ],
             [
              0.8888888888888888,
              "#fdca26"
             ],
             [
              1,
              "#f0f921"
             ]
            ],
            "type": "histogram2dcontour"
           }
          ],
          "mesh3d": [
           {
            "colorbar": {
             "outlinewidth": 0,
             "ticks": ""
            },
            "type": "mesh3d"
           }
          ],
          "parcoords": [
           {
            "line": {
             "colorbar": {
              "outlinewidth": 0,
              "ticks": ""
             }
            },
            "type": "parcoords"
           }
          ],
          "pie": [
           {
            "automargin": true,
            "type": "pie"
           }
          ],
          "scatter": [
           {
            "marker": {
             "colorbar": {
              "outlinewidth": 0,
              "ticks": ""
             }
            },
            "type": "scatter"
           }
          ],
          "scatter3d": [
           {
            "line": {
             "colorbar": {
              "outlinewidth": 0,
              "ticks": ""
             }
            },
            "marker": {
             "colorbar": {
              "outlinewidth": 0,
              "ticks": ""
             }
            },
            "type": "scatter3d"
           }
          ],
          "scattercarpet": [
           {
            "marker": {
             "colorbar": {
              "outlinewidth": 0,
              "ticks": ""
             }
            },
            "type": "scattercarpet"
           }
          ],
          "scattergeo": [
           {
            "marker": {
             "colorbar": {
              "outlinewidth": 0,
              "ticks": ""
             }
            },
            "type": "scattergeo"
           }
          ],
          "scattergl": [
           {
            "marker": {
             "colorbar": {
              "outlinewidth": 0,
              "ticks": ""
             }
            },
            "type": "scattergl"
           }
          ],
          "scattermapbox": [
           {
            "marker": {
             "colorbar": {
              "outlinewidth": 0,
              "ticks": ""
             }
            },
            "type": "scattermapbox"
           }
          ],
          "scatterpolar": [
           {
            "marker": {
             "colorbar": {
              "outlinewidth": 0,
              "ticks": ""
             }
            },
            "type": "scatterpolar"
           }
          ],
          "scatterpolargl": [
           {
            "marker": {
             "colorbar": {
              "outlinewidth": 0,
              "ticks": ""
             }
            },
            "type": "scatterpolargl"
           }
          ],
          "scatterternary": [
           {
            "marker": {
             "colorbar": {
              "outlinewidth": 0,
              "ticks": ""
             }
            },
            "type": "scatterternary"
           }
          ],
          "surface": [
           {
            "colorbar": {
             "outlinewidth": 0,
             "ticks": ""
            },
            "colorscale": [
             [
              0,
              "#0d0887"
             ],
             [
              0.1111111111111111,
              "#46039f"
             ],
             [
              0.2222222222222222,
              "#7201a8"
             ],
             [
              0.3333333333333333,
              "#9c179e"
             ],
             [
              0.4444444444444444,
              "#bd3786"
             ],
             [
              0.5555555555555556,
              "#d8576b"
             ],
             [
              0.6666666666666666,
              "#ed7953"
             ],
             [
              0.7777777777777778,
              "#fb9f3a"
             ],
             [
              0.8888888888888888,
              "#fdca26"
             ],
             [
              1,
              "#f0f921"
             ]
            ],
            "type": "surface"
           }
          ],
          "table": [
           {
            "cells": {
             "fill": {
              "color": "#EBF0F8"
             },
             "line": {
              "color": "white"
             }
            },
            "header": {
             "fill": {
              "color": "#C8D4E3"
             },
             "line": {
              "color": "white"
             }
            },
            "type": "table"
           }
          ]
         },
         "layout": {
          "annotationdefaults": {
           "arrowcolor": "#2a3f5f",
           "arrowhead": 0,
           "arrowwidth": 1
          },
          "autotypenumbers": "strict",
          "coloraxis": {
           "colorbar": {
            "outlinewidth": 0,
            "ticks": ""
           }
          },
          "colorscale": {
           "diverging": [
            [
             0,
             "#8e0152"
            ],
            [
             0.1,
             "#c51b7d"
            ],
            [
             0.2,
             "#de77ae"
            ],
            [
             0.3,
             "#f1b6da"
            ],
            [
             0.4,
             "#fde0ef"
            ],
            [
             0.5,
             "#f7f7f7"
            ],
            [
             0.6,
             "#e6f5d0"
            ],
            [
             0.7,
             "#b8e186"
            ],
            [
             0.8,
             "#7fbc41"
            ],
            [
             0.9,
             "#4d9221"
            ],
            [
             1,
             "#276419"
            ]
           ],
           "sequential": [
            [
             0,
             "#0d0887"
            ],
            [
             0.1111111111111111,
             "#46039f"
            ],
            [
             0.2222222222222222,
             "#7201a8"
            ],
            [
             0.3333333333333333,
             "#9c179e"
            ],
            [
             0.4444444444444444,
             "#bd3786"
            ],
            [
             0.5555555555555556,
             "#d8576b"
            ],
            [
             0.6666666666666666,
             "#ed7953"
            ],
            [
             0.7777777777777778,
             "#fb9f3a"
            ],
            [
             0.8888888888888888,
             "#fdca26"
            ],
            [
             1,
             "#f0f921"
            ]
           ],
           "sequentialminus": [
            [
             0,
             "#0d0887"
            ],
            [
             0.1111111111111111,
             "#46039f"
            ],
            [
             0.2222222222222222,
             "#7201a8"
            ],
            [
             0.3333333333333333,
             "#9c179e"
            ],
            [
             0.4444444444444444,
             "#bd3786"
            ],
            [
             0.5555555555555556,
             "#d8576b"
            ],
            [
             0.6666666666666666,
             "#ed7953"
            ],
            [
             0.7777777777777778,
             "#fb9f3a"
            ],
            [
             0.8888888888888888,
             "#fdca26"
            ],
            [
             1,
             "#f0f921"
            ]
           ]
          },
          "colorway": [
           "#636efa",
           "#EF553B",
           "#00cc96",
           "#ab63fa",
           "#FFA15A",
           "#19d3f3",
           "#FF6692",
           "#B6E880",
           "#FF97FF",
           "#FECB52"
          ],
          "font": {
           "color": "#2a3f5f"
          },
          "geo": {
           "bgcolor": "white",
           "lakecolor": "white",
           "landcolor": "#E5ECF6",
           "showlakes": true,
           "showland": true,
           "subunitcolor": "white"
          },
          "hoverlabel": {
           "align": "left"
          },
          "hovermode": "closest",
          "mapbox": {
           "style": "light"
          },
          "paper_bgcolor": "white",
          "plot_bgcolor": "#E5ECF6",
          "polar": {
           "angularaxis": {
            "gridcolor": "white",
            "linecolor": "white",
            "ticks": ""
           },
           "bgcolor": "#E5ECF6",
           "radialaxis": {
            "gridcolor": "white",
            "linecolor": "white",
            "ticks": ""
           }
          },
          "scene": {
           "xaxis": {
            "backgroundcolor": "#E5ECF6",
            "gridcolor": "white",
            "gridwidth": 2,
            "linecolor": "white",
            "showbackground": true,
            "ticks": "",
            "zerolinecolor": "white"
           },
           "yaxis": {
            "backgroundcolor": "#E5ECF6",
            "gridcolor": "white",
            "gridwidth": 2,
            "linecolor": "white",
            "showbackground": true,
            "ticks": "",
            "zerolinecolor": "white"
           },
           "zaxis": {
            "backgroundcolor": "#E5ECF6",
            "gridcolor": "white",
            "gridwidth": 2,
            "linecolor": "white",
            "showbackground": true,
            "ticks": "",
            "zerolinecolor": "white"
           }
          },
          "shapedefaults": {
           "line": {
            "color": "#2a3f5f"
           }
          },
          "ternary": {
           "aaxis": {
            "gridcolor": "white",
            "linecolor": "white",
            "ticks": ""
           },
           "baxis": {
            "gridcolor": "white",
            "linecolor": "white",
            "ticks": ""
           },
           "bgcolor": "#E5ECF6",
           "caxis": {
            "gridcolor": "white",
            "linecolor": "white",
            "ticks": ""
           }
          },
          "title": {
           "x": 0.05
          },
          "xaxis": {
           "automargin": true,
           "gridcolor": "white",
           "linecolor": "white",
           "ticks": "",
           "title": {
            "standoff": 15
           },
           "zerolinecolor": "white",
           "zerolinewidth": 2
          },
          "yaxis": {
           "automargin": true,
           "gridcolor": "white",
           "linecolor": "white",
           "ticks": "",
           "title": {
            "standoff": 15
           },
           "zerolinecolor": "white",
           "zerolinewidth": 2
          }
         }
        },
        "title": {
         "text": "Contour Plot"
        },
        "xaxis": {
         "anchor": "y",
         "domain": [
          0,
          0.2888888888888889
         ],
         "matches": "x7",
         "range": [
          1.65,
          9.35
         ],
         "showticklabels": false
        },
        "xaxis2": {
         "anchor": "y2",
         "domain": [
          0.35555555555555557,
          0.6444444444444445
         ],
         "matches": "x8",
         "range": [
          0.7409618477106495,
          0.9400739466424132
         ],
         "showticklabels": false
        },
        "xaxis3": {
         "anchor": "y3",
         "domain": [
          0.7111111111111111,
          1
         ],
         "matches": "x9",
         "range": [
          103.3,
          1042.7
         ],
         "showticklabels": false
        },
        "xaxis4": {
         "anchor": "y4",
         "domain": [
          0,
          0.2888888888888889
         ],
         "matches": "x7",
         "range": [
          1.65,
          9.35
         ],
         "showticklabels": false
        },
        "xaxis5": {
         "anchor": "y5",
         "domain": [
          0.35555555555555557,
          0.6444444444444445
         ],
         "matches": "x8",
         "range": [
          0.7409618477106495,
          0.9400739466424132
         ],
         "showticklabels": false
        },
        "xaxis6": {
         "anchor": "y6",
         "domain": [
          0.7111111111111111,
          1
         ],
         "matches": "x9",
         "range": [
          103.3,
          1042.7
         ],
         "showticklabels": false
        },
        "xaxis7": {
         "anchor": "y7",
         "domain": [
          0,
          0.2888888888888889
         ],
         "range": [
          1.65,
          9.35
         ],
         "title": {
          "text": "max_depth"
         }
        },
        "xaxis8": {
         "anchor": "y8",
         "domain": [
          0.35555555555555557,
          0.6444444444444445
         ],
         "range": [
          0.7409618477106495,
          0.9400739466424132
         ],
         "title": {
          "text": "max_samples"
         }
        },
        "xaxis9": {
         "anchor": "y9",
         "domain": [
          0.7111111111111111,
          1
         ],
         "range": [
          103.3,
          1042.7
         ],
         "title": {
          "text": "n_estimators"
         }
        },
        "yaxis": {
         "anchor": "x",
         "domain": [
          0.7333333333333333,
          1
         ],
         "range": [
          1.65,
          9.35
         ],
         "title": {
          "text": "max_depth"
         }
        },
        "yaxis2": {
         "anchor": "x2",
         "domain": [
          0.7333333333333333,
          1
         ],
         "matches": "y",
         "range": [
          1.65,
          9.35
         ],
         "showticklabels": false
        },
        "yaxis3": {
         "anchor": "x3",
         "domain": [
          0.7333333333333333,
          1
         ],
         "matches": "y",
         "range": [
          1.65,
          9.35
         ],
         "showticklabels": false
        },
        "yaxis4": {
         "anchor": "x4",
         "domain": [
          0.36666666666666664,
          0.6333333333333333
         ],
         "range": [
          0.7409618477106495,
          0.9400739466424132
         ],
         "title": {
          "text": "max_samples"
         }
        },
        "yaxis5": {
         "anchor": "x5",
         "domain": [
          0.36666666666666664,
          0.6333333333333333
         ],
         "matches": "y4",
         "range": [
          0.7409618477106495,
          0.9400739466424132
         ],
         "showticklabels": false
        },
        "yaxis6": {
         "anchor": "x6",
         "domain": [
          0.36666666666666664,
          0.6333333333333333
         ],
         "matches": "y4",
         "range": [
          0.7409618477106495,
          0.9400739466424132
         ],
         "showticklabels": false
        },
        "yaxis7": {
         "anchor": "x7",
         "domain": [
          0,
          0.26666666666666666
         ],
         "range": [
          103.3,
          1042.7
         ],
         "title": {
          "text": "n_estimators"
         }
        },
        "yaxis8": {
         "anchor": "x8",
         "domain": [
          0,
          0.26666666666666666
         ],
         "matches": "y7",
         "range": [
          103.3,
          1042.7
         ],
         "showticklabels": false
        },
        "yaxis9": {
         "anchor": "x9",
         "domain": [
          0,
          0.26666666666666666
         ],
         "matches": "y7",
         "range": [
          103.3,
          1042.7
         ],
         "showticklabels": false
        }
       }
      },
      "text/html": [
       "<div>                            <div id=\"f15e4140-8dc4-4282-b69a-11a2ba2a25a2\" class=\"plotly-graph-div\" style=\"height:525px; width:100%;\"></div>            <script type=\"text/javascript\">                require([\"plotly\"], function(Plotly) {                    window.PLOTLYENV=window.PLOTLYENV || {};                                    if (document.getElementById(\"f15e4140-8dc4-4282-b69a-11a2ba2a25a2\")) {                    Plotly.newPlot(                        \"f15e4140-8dc4-4282-b69a-11a2ba2a25a2\",                        [{\"type\":\"scatter\",\"xaxis\":\"x\",\"yaxis\":\"y\"},{\"colorbar\":{\"title\":{\"text\":\"Objective Value\"}},\"colorscale\":[[0,\"rgb(5,10,172)\"],[0.35,\"rgb(40,60,190)\"],[0.5,\"rgb(70,100,245)\"],[0.6,\"rgb(90,120,245)\"],[0.7,\"rgb(106,137,247)\"],[1,\"rgb(220,220,220)\"]],\"connectgaps\":true,\"contours\":{\"coloring\":\"heatmap\"},\"hoverinfo\":\"none\",\"line\":{\"smoothing\":1.3},\"reversescale\":false,\"showscale\":true,\"type\":\"contour\",\"x\":[1.65,2,4,5,6,7,8,9,9.35],\"xaxis\":\"x4\",\"y\":[0.7409618477106495,0.7500123976620934,0.7561587558513225,0.7647806712121554,0.7657015920690705,0.7755549355301372,0.7765000194586029,0.779095196446515,0.7943352046327946,0.7953964778886542,0.7967846721551474,0.7974468353008204,0.8037141232641825,0.8107240356947015,0.8126072453342384,0.8170993908802305,0.8183600000784966,0.8188441525172186,0.8231783710552935,0.8283759009894696,0.8335685304500571,0.8353493207837066,0.8389566847737745,0.846871159857764,0.8543441741009762,0.8638454629932327,0.8697932861109084,0.8817689401428531,0.8959408924322944,0.9036602876322136,0.9310233966909693,0.9400739466424132],\"yaxis\":\"y4\",\"z\":[[null,null,null,null,null,null,null,null,null],[null,null,0.644323621739552,null,null,null,null,null,null],[null,0.6298789019203499,null,null,null,null,null,null,null],[null,null,null,null,null,0.6569293339613721,null,null,null],[null,null,null,null,null,null,null,0.6649300128850217,null],[null,null,null,null,null,null,null,0.6645451245940481,null],[null,null,null,null,null,null,null,0.6644974396978448,null],[null,null,null,0.6490389142945792,null,null,null,null,null],[null,null,null,null,null,null,null,0.6646191118088253,null],[null,null,null,null,null,null,null,0.6645593456394623,null],[null,null,null,null,null,null,null,0.6646287055317674,null],[null,null,null,null,null,null,null,0.6638438873005293,null],[null,null,null,null,null,null,0.6606913078662908,null,null],[null,null,null,null,null,0.6569722358985731,null,null,null],[null,null,null,null,null,null,null,0.6648411180668586,null],[null,null,null,null,null,null,0.6607579171146112,null,null],[null,null,null,null,0.6530680905287827,null,null,null,null],[null,null,null,null,null,null,null,0.6648698628424137,null],[null,0.6314982702796567,null,null,null,null,null,null,null],[null,null,null,null,null,null,0.6607266923600953,null,null],[null,null,null,null,null,null,0.6608176249564872,null,null],[null,null,null,null,null,null,0.6612476568022565,null,null],[null,null,null,null,null,0.6570654137698817,null,null,null],[null,null,null,null,null,null,0.6601325973591153,null,null],[null,null,null,0.6487787523188924,null,null,null,null,null],[null,null,null,null,null,0.6566925900352235,null,null,null],[null,null,null,null,null,null,null,0.6646086228333111,null],[null,null,null,null,null,null,0.6609237574303389,null,null],[null,null,null,null,null,0.656192223820365,null,null,null],[null,null,0.6427771588193454,null,null,null,null,null,null],[null,null,null,null,0.6519632525317914,null,null,null,null],[null,null,null,null,null,null,null,null,null]]},{\"marker\":{\"color\":\"black\",\"line\":{\"color\":\"Grey\",\"width\":0.5}},\"mode\":\"markers\",\"showlegend\":false,\"type\":\"scatter\",\"x\":[8,8,4,9,7,7,8,6,2,8,4,9,9,9,5,9,6,7,9,2,5,9,9,8,7,9,8,9,7,8],\"xaxis\":\"x4\",\"y\":[0.8335685304500571,0.846871159857764,0.9036602876322136,0.7974468353008204,0.8959408924322944,0.8389566847737745,0.8817689401428531,0.9310233966909693,0.7561587558513225,0.8037141232641825,0.7500123976620934,0.7953964778886542,0.7967846721551474,0.7943352046327946,0.779095196446515,0.8188441525172186,0.8183600000784966,0.8638454629932327,0.7765000194586029,0.8231783710552935,0.8543441741009762,0.7755549355301372,0.8126072453342384,0.8170993908802305,0.8107240356947015,0.8697932861109084,0.8283759009894696,0.7657015920690705,0.7647806712121554,0.8353493207837066],\"yaxis\":\"y4\"},{\"colorbar\":{\"title\":{\"text\":\"Objective Value\"}},\"colorscale\":[[0,\"rgb(5,10,172)\"],[0.35,\"rgb(40,60,190)\"],[0.5,\"rgb(70,100,245)\"],[0.6,\"rgb(90,120,245)\"],[0.7,\"rgb(106,137,247)\"],[1,\"rgb(220,220,220)\"]],\"connectgaps\":true,\"contours\":{\"coloring\":\"heatmap\"},\"hoverinfo\":\"none\",\"line\":{\"smoothing\":1.3},\"reversescale\":false,\"showscale\":false,\"type\":\"contour\",\"x\":[1.65,2,4,5,6,7,8,9,9.35],\"xaxis\":\"x7\",\"y\":[103.3,146,277,333,414,429,468,474,505,582,589,625,651,678,681,696,729,747,766,772,803,817,829,842,883,890,914,934,995,1000,1042.7],\"yaxis\":\"y7\",\"z\":[[null,null,null,null,null,null,null,null,null],[null,null,0.6427771588193454,null,null,null,null,null,null],[null,0.6298789019203499,null,null,null,null,null,null,null],[null,null,null,null,0.6519632525317914,null,null,null,null],[null,null,null,null,null,null,null,0.6638438873005293,null],[null,null,null,null,null,null,0.6608176249564872,null,null],[null,null,null,null,null,null,0.6606913078662908,null,null],[null,null,null,null,null,null,0.6601325973591153,null,null],[null,null,null,null,null,0.656192223820365,null,null,null],[null,null,null,null,null,null,null,0.6644974396978448,null],[null,null,null,0.6487787523188924,null,null,null,null,null],[null,null,null,null,null,null,0.6607266923600953,null,null],[null,null,null,0.6490389142945792,null,null,null,null,null],[null,null,null,null,null,null,null,0.6646287055317674,null],[null,null,null,null,null,null,null,0.6646191118088253,null],[null,null,0.644323621739552,null,null,null,null,null,null],[null,null,null,null,null,null,null,0.6645593456394623,null],[null,null,null,null,null,null,null,0.6645451245940481,null],[null,null,null,null,null,0.6569293339613721,null,null,null],[null,null,null,null,null,null,null,0.6649300128850217,null],[null,0.6314982702796567,null,null,null,null,null,null,null],[null,null,null,null,0.6530680905287827,null,null,null,null],[null,null,null,null,null,null,null,0.6648698628424137,null],[null,null,null,null,null,null,0.6609237574303389,null,null],[null,null,null,null,null,null,0.6612476568022565,null,null],[null,null,null,null,null,null,null,0.6646086228333111,null],[null,null,null,null,null,0.6569722358985731,null,null,null],[null,null,null,null,null,null,null,0.6648411180668586,null],[null,null,null,null,null,0.6566925900352235,null,null,null],[null,null,null,null,null,null,0.6607579171146112,null,null],[null,null,null,null,null,null,null,null,null]]},{\"marker\":{\"color\":\"black\",\"line\":{\"color\":\"Grey\",\"width\":0.5}},\"mode\":\"markers\",\"showlegend\":false,\"type\":\"scatter\",\"x\":[8,8,4,9,7,7,8,6,2,8,4,9,9,9,5,9,6,7,9,2,5,9,9,8,7,9,8,9,7,8],\"xaxis\":\"x7\",\"y\":[429,474,146,414,505,914,842,333,277,468,696,729,678,681,651,829,817,995,582,803,589,747,934,1000,914,890,625,772,766,883],\"yaxis\":\"y7\"},{\"colorbar\":{\"title\":{\"text\":\"Objective Value\"}},\"colorscale\":[[0,\"rgb(5,10,172)\"],[0.35,\"rgb(40,60,190)\"],[0.5,\"rgb(70,100,245)\"],[0.6,\"rgb(90,120,245)\"],[0.7,\"rgb(106,137,247)\"],[1,\"rgb(220,220,220)\"]],\"connectgaps\":true,\"contours\":{\"coloring\":\"heatmap\"},\"hoverinfo\":\"none\",\"line\":{\"smoothing\":1.3},\"reversescale\":false,\"showscale\":false,\"type\":\"contour\",\"x\":[0.7409618477106495,0.7500123976620934,0.7561587558513225,0.7647806712121554,0.7657015920690705,0.7755549355301372,0.7765000194586029,0.779095196446515,0.7943352046327946,0.7953964778886542,0.7967846721551474,0.7974468353008204,0.8037141232641825,0.8107240356947015,0.8126072453342384,0.8170993908802305,0.8183600000784966,0.8188441525172186,0.8231783710552935,0.8283759009894696,0.8335685304500571,0.8353493207837066,0.8389566847737745,0.846871159857764,0.8543441741009762,0.8638454629932327,0.8697932861109084,0.8817689401428531,0.8959408924322944,0.9036602876322136,0.9310233966909693,0.9400739466424132],\"xaxis\":\"x2\",\"y\":[1.65,2,4,5,6,7,8,9,9.35],\"yaxis\":\"y2\",\"z\":[[null,null,null,null,null,null,null,null,null,null,null,null,null,null,null,null,null,null,null,null,null,null,null,null,null,null,null,null,null,null,null,null],[null,null,0.6298789019203499,null,null,null,null,null,null,null,null,null,null,null,null,null,null,null,0.6314982702796567,null,null,null,null,null,null,null,null,null,null,null,null,null],[null,0.644323621739552,null,null,null,null,null,null,null,null,null,null,null,null,null,null,null,null,null,null,null,null,null,null,null,null,null,null,null,0.6427771588193454,null,null],[null,null,null,null,null,null,null,0.6490389142945792,null,null,null,null,null,null,null,null,null,null,null,null,null,null,null,null,0.6487787523188924,null,null,null,null,null,null,null],[null,null,null,null,null,null,null,null,null,null,null,null,null,null,null,null,0.6530680905287827,null,null,null,null,null,null,null,null,null,null,null,null,null,0.6519632525317914,null],[null,null,null,0.6569293339613721,null,null,null,null,null,null,null,null,null,0.6569722358985731,null,null,null,null,null,null,null,null,0.6570654137698817,null,null,0.6566925900352235,null,null,0.656192223820365,null,null,null],[null,null,null,null,null,null,null,null,null,null,null,null,0.6606913078662908,null,null,0.6607579171146112,null,null,null,0.6607266923600953,0.6608176249564872,0.6612476568022565,null,0.6601325973591153,null,null,null,0.6609237574303389,null,null,null,null],[null,null,null,null,0.6649300128850217,0.6645451245940481,0.6644974396978448,null,0.6646191118088253,0.6645593456394623,0.6646287055317674,0.6638438873005293,null,null,0.6648411180668586,null,null,0.6648698628424137,null,null,null,null,null,null,null,null,0.6646086228333111,null,null,null,null,null],[null,null,null,null,null,null,null,null,null,null,null,null,null,null,null,null,null,null,null,null,null,null,null,null,null,null,null,null,null,null,null,null]]},{\"marker\":{\"color\":\"black\",\"line\":{\"color\":\"Grey\",\"width\":0.5}},\"mode\":\"markers\",\"showlegend\":false,\"type\":\"scatter\",\"x\":[0.8335685304500571,0.846871159857764,0.9036602876322136,0.7974468353008204,0.8959408924322944,0.8389566847737745,0.8817689401428531,0.9310233966909693,0.7561587558513225,0.8037141232641825,0.7500123976620934,0.7953964778886542,0.7967846721551474,0.7943352046327946,0.779095196446515,0.8188441525172186,0.8183600000784966,0.8638454629932327,0.7765000194586029,0.8231783710552935,0.8543441741009762,0.7755549355301372,0.8126072453342384,0.8170993908802305,0.8107240356947015,0.8697932861109084,0.8283759009894696,0.7657015920690705,0.7647806712121554,0.8353493207837066],\"xaxis\":\"x2\",\"y\":[8,8,4,9,7,7,8,6,2,8,4,9,9,9,5,9,6,7,9,2,5,9,9,8,7,9,8,9,7,8],\"yaxis\":\"y2\"},{\"type\":\"scatter\",\"xaxis\":\"x5\",\"yaxis\":\"y5\"},{\"colorbar\":{\"title\":{\"text\":\"Objective Value\"}},\"colorscale\":[[0,\"rgb(5,10,172)\"],[0.35,\"rgb(40,60,190)\"],[0.5,\"rgb(70,100,245)\"],[0.6,\"rgb(90,120,245)\"],[0.7,\"rgb(106,137,247)\"],[1,\"rgb(220,220,220)\"]],\"connectgaps\":true,\"contours\":{\"coloring\":\"heatmap\"},\"hoverinfo\":\"none\",\"line\":{\"smoothing\":1.3},\"reversescale\":false,\"showscale\":false,\"type\":\"contour\",\"x\":[0.7409618477106495,0.7500123976620934,0.7561587558513225,0.7647806712121554,0.7657015920690705,0.7755549355301372,0.7765000194586029,0.779095196446515,0.7943352046327946,0.7953964778886542,0.7967846721551474,0.7974468353008204,0.8037141232641825,0.8107240356947015,0.8126072453342384,0.8170993908802305,0.8183600000784966,0.8188441525172186,0.8231783710552935,0.8283759009894696,0.8335685304500571,0.8353493207837066,0.8389566847737745,0.846871159857764,0.8543441741009762,0.8638454629932327,0.8697932861109084,0.8817689401428531,0.8959408924322944,0.9036602876322136,0.9310233966909693,0.9400739466424132],\"xaxis\":\"x8\",\"y\":[103.3,146,277,333,414,429,468,474,505,582,589,625,651,678,681,696,729,747,766,772,803,817,829,842,883,890,914,934,995,1000,1042.7],\"yaxis\":\"y8\",\"z\":[[null,null,null,null,null,null,null,null,null,null,null,null,null,null,null,null,null,null,null,null,null,null,null,null,null,null,null,null,null,null,null,null],[null,null,null,null,null,null,null,null,null,null,null,null,null,null,null,null,null,null,null,null,null,null,null,null,null,null,null,null,null,0.6427771588193454,null,null],[null,null,0.6298789019203499,null,null,null,null,null,null,null,null,null,null,null,null,null,null,null,null,null,null,null,null,null,null,null,null,null,null,null,null,null],[null,null,null,null,null,null,null,null,null,null,null,null,null,null,null,null,null,null,null,null,null,null,null,null,null,null,null,null,null,null,0.6519632525317914,null],[null,null,null,null,null,null,null,null,null,null,null,0.6638438873005293,null,null,null,null,null,null,null,null,null,null,null,null,null,null,null,null,null,null,null,null],[null,null,null,null,null,null,null,null,null,null,null,null,null,null,null,null,null,null,null,null,0.6608176249564872,null,null,null,null,null,null,null,null,null,null,null],[null,null,null,null,null,null,null,null,null,null,null,null,0.6606913078662908,null,null,null,null,null,null,null,null,null,null,null,null,null,null,null,null,null,null,null],[null,null,null,null,null,null,null,null,null,null,null,null,null,null,null,null,null,null,null,null,null,null,null,0.6601325973591153,null,null,null,null,null,null,null,null],[null,null,null,null,null,null,null,null,null,null,null,null,null,null,null,null,null,null,null,null,null,null,null,null,null,null,null,null,0.656192223820365,null,null,null],[null,null,null,null,null,null,0.6644974396978448,null,null,null,null,null,null,null,null,null,null,null,null,null,null,null,null,null,null,null,null,null,null,null,null,null],[null,null,null,null,null,null,null,null,null,null,null,null,null,null,null,null,null,null,null,null,null,null,null,null,0.6487787523188924,null,null,null,null,null,null,null],[null,null,null,null,null,null,null,null,null,null,null,null,null,null,null,null,null,null,null,0.6607266923600953,null,null,null,null,null,null,null,null,null,null,null,null],[null,null,null,null,null,null,null,0.6490389142945792,null,null,null,null,null,null,null,null,null,null,null,null,null,null,null,null,null,null,null,null,null,null,null,null],[null,null,null,null,null,null,null,null,null,null,0.6646287055317674,null,null,null,null,null,null,null,null,null,null,null,null,null,null,null,null,null,null,null,null,null],[null,null,null,null,null,null,null,null,0.6646191118088253,null,null,null,null,null,null,null,null,null,null,null,null,null,null,null,null,null,null,null,null,null,null,null],[null,0.644323621739552,null,null,null,null,null,null,null,null,null,null,null,null,null,null,null,null,null,null,null,null,null,null,null,null,null,null,null,null,null,null],[null,null,null,null,null,null,null,null,null,0.6645593456394623,null,null,null,null,null,null,null,null,null,null,null,null,null,null,null,null,null,null,null,null,null,null],[null,null,null,null,null,0.6645451245940481,null,null,null,null,null,null,null,null,null,null,null,null,null,null,null,null,null,null,null,null,null,null,null,null,null,null],[null,null,null,0.6569293339613721,null,null,null,null,null,null,null,null,null,null,null,null,null,null,null,null,null,null,null,null,null,null,null,null,null,null,null,null],[null,null,null,null,0.6649300128850217,null,null,null,null,null,null,null,null,null,null,null,null,null,null,null,null,null,null,null,null,null,null,null,null,null,null,null],[null,null,null,null,null,null,null,null,null,null,null,null,null,null,null,null,null,null,0.6314982702796567,null,null,null,null,null,null,null,null,null,null,null,null,null],[null,null,null,null,null,null,null,null,null,null,null,null,null,null,null,null,0.6530680905287827,null,null,null,null,null,null,null,null,null,null,null,null,null,null,null],[null,null,null,null,null,null,null,null,null,null,null,null,null,null,null,null,null,0.6648698628424137,null,null,null,null,null,null,null,null,null,null,null,null,null,null],[null,null,null,null,null,null,null,null,null,null,null,null,null,null,null,null,null,null,null,null,null,null,null,null,null,null,null,0.6609237574303389,null,null,null,null],[null,null,null,null,null,null,null,null,null,null,null,null,null,null,null,null,null,null,null,null,null,0.6612476568022565,null,null,null,null,null,null,null,null,null,null],[null,null,null,null,null,null,null,null,null,null,null,null,null,null,null,null,null,null,null,null,null,null,null,null,null,null,0.6646086228333111,null,null,null,null,null],[null,null,null,null,null,null,null,null,null,null,null,null,null,0.6569722358985731,null,null,null,null,null,null,null,null,0.6570654137698817,null,null,null,null,null,null,null,null,null],[null,null,null,null,null,null,null,null,null,null,null,null,null,null,0.6648411180668586,null,null,null,null,null,null,null,null,null,null,null,null,null,null,null,null,null],[null,null,null,null,null,null,null,null,null,null,null,null,null,null,null,null,null,null,null,null,null,null,null,null,null,0.6566925900352235,null,null,null,null,null,null],[null,null,null,null,null,null,null,null,null,null,null,null,null,null,null,0.6607579171146112,null,null,null,null,null,null,null,null,null,null,null,null,null,null,null,null],[null,null,null,null,null,null,null,null,null,null,null,null,null,null,null,null,null,null,null,null,null,null,null,null,null,null,null,null,null,null,null,null]]},{\"marker\":{\"color\":\"black\",\"line\":{\"color\":\"Grey\",\"width\":0.5}},\"mode\":\"markers\",\"showlegend\":false,\"type\":\"scatter\",\"x\":[0.8335685304500571,0.846871159857764,0.9036602876322136,0.7974468353008204,0.8959408924322944,0.8389566847737745,0.8817689401428531,0.9310233966909693,0.7561587558513225,0.8037141232641825,0.7500123976620934,0.7953964778886542,0.7967846721551474,0.7943352046327946,0.779095196446515,0.8188441525172186,0.8183600000784966,0.8638454629932327,0.7765000194586029,0.8231783710552935,0.8543441741009762,0.7755549355301372,0.8126072453342384,0.8170993908802305,0.8107240356947015,0.8697932861109084,0.8283759009894696,0.7657015920690705,0.7647806712121554,0.8353493207837066],\"xaxis\":\"x8\",\"y\":[429,474,146,414,505,914,842,333,277,468,696,729,678,681,651,829,817,995,582,803,589,747,934,1000,914,890,625,772,766,883],\"yaxis\":\"y8\"},{\"colorbar\":{\"title\":{\"text\":\"Objective Value\"}},\"colorscale\":[[0,\"rgb(5,10,172)\"],[0.35,\"rgb(40,60,190)\"],[0.5,\"rgb(70,100,245)\"],[0.6,\"rgb(90,120,245)\"],[0.7,\"rgb(106,137,247)\"],[1,\"rgb(220,220,220)\"]],\"connectgaps\":true,\"contours\":{\"coloring\":\"heatmap\"},\"hoverinfo\":\"none\",\"line\":{\"smoothing\":1.3},\"reversescale\":false,\"showscale\":false,\"type\":\"contour\",\"x\":[103.3,146,277,333,414,429,468,474,505,582,589,625,651,678,681,696,729,747,766,772,803,817,829,842,883,890,914,934,995,1000,1042.7],\"xaxis\":\"x3\",\"y\":[1.65,2,4,5,6,7,8,9,9.35],\"yaxis\":\"y3\",\"z\":[[null,null,null,null,null,null,null,null,null,null,null,null,null,null,null,null,null,null,null,null,null,null,null,null,null,null,null,null,null,null,null],[null,null,0.6298789019203499,null,null,null,null,null,null,null,null,null,null,null,null,null,null,null,null,null,0.6314982702796567,null,null,null,null,null,null,null,null,null,null],[null,0.6427771588193454,null,null,null,null,null,null,null,null,null,null,null,null,null,0.644323621739552,null,null,null,null,null,null,null,null,null,null,null,null,null,null,null],[null,null,null,null,null,null,null,null,null,null,0.6487787523188924,null,0.6490389142945792,null,null,null,null,null,null,null,null,null,null,null,null,null,null,null,null,null,null],[null,null,null,0.6519632525317914,null,null,null,null,null,null,null,null,null,null,null,null,null,null,null,null,null,0.6530680905287827,null,null,null,null,null,null,null,null,null],[null,null,null,null,null,null,null,null,0.656192223820365,null,null,null,null,null,null,null,null,null,0.6569293339613721,null,null,null,null,null,null,null,0.6569722358985731,null,0.6566925900352235,null,null],[null,null,null,null,null,0.6608176249564872,0.6606913078662908,0.6601325973591153,null,null,null,0.6607266923600953,null,null,null,null,null,null,null,null,null,null,null,0.6609237574303389,0.6612476568022565,null,null,null,null,0.6607579171146112,null],[null,null,null,null,0.6638438873005293,null,null,null,null,0.6644974396978448,null,null,null,0.6646287055317674,0.6646191118088253,null,0.6645593456394623,0.6645451245940481,null,0.6649300128850217,null,null,0.6648698628424137,null,null,0.6646086228333111,null,0.6648411180668586,null,null,null],[null,null,null,null,null,null,null,null,null,null,null,null,null,null,null,null,null,null,null,null,null,null,null,null,null,null,null,null,null,null,null]]},{\"marker\":{\"color\":\"black\",\"line\":{\"color\":\"Grey\",\"width\":0.5}},\"mode\":\"markers\",\"showlegend\":false,\"type\":\"scatter\",\"x\":[429,474,146,414,505,914,842,333,277,468,696,729,678,681,651,829,817,995,582,803,589,747,934,1000,914,890,625,772,766,883],\"xaxis\":\"x3\",\"y\":[8,8,4,9,7,7,8,6,2,8,4,9,9,9,5,9,6,7,9,2,5,9,9,8,7,9,8,9,7,8],\"yaxis\":\"y3\"},{\"colorbar\":{\"title\":{\"text\":\"Objective Value\"}},\"colorscale\":[[0,\"rgb(5,10,172)\"],[0.35,\"rgb(40,60,190)\"],[0.5,\"rgb(70,100,245)\"],[0.6,\"rgb(90,120,245)\"],[0.7,\"rgb(106,137,247)\"],[1,\"rgb(220,220,220)\"]],\"connectgaps\":true,\"contours\":{\"coloring\":\"heatmap\"},\"hoverinfo\":\"none\",\"line\":{\"smoothing\":1.3},\"reversescale\":false,\"showscale\":false,\"type\":\"contour\",\"x\":[103.3,146,277,333,414,429,468,474,505,582,589,625,651,678,681,696,729,747,766,772,803,817,829,842,883,890,914,934,995,1000,1042.7],\"xaxis\":\"x6\",\"y\":[0.7409618477106495,0.7500123976620934,0.7561587558513225,0.7647806712121554,0.7657015920690705,0.7755549355301372,0.7765000194586029,0.779095196446515,0.7943352046327946,0.7953964778886542,0.7967846721551474,0.7974468353008204,0.8037141232641825,0.8107240356947015,0.8126072453342384,0.8170993908802305,0.8183600000784966,0.8188441525172186,0.8231783710552935,0.8283759009894696,0.8335685304500571,0.8353493207837066,0.8389566847737745,0.846871159857764,0.8543441741009762,0.8638454629932327,0.8697932861109084,0.8817689401428531,0.8959408924322944,0.9036602876322136,0.9310233966909693,0.9400739466424132],\"yaxis\":\"y6\",\"z\":[[null,null,null,null,null,null,null,null,null,null,null,null,null,null,null,null,null,null,null,null,null,null,null,null,null,null,null,null,null,null,null],[null,null,null,null,null,null,null,null,null,null,null,null,null,null,null,0.644323621739552,null,null,null,null,null,null,null,null,null,null,null,null,null,null,null],[null,null,0.6298789019203499,null,null,null,null,null,null,null,null,null,null,null,null,null,null,null,null,null,null,null,null,null,null,null,null,null,null,null,null],[null,null,null,null,null,null,null,null,null,null,null,null,null,null,null,null,null,null,0.6569293339613721,null,null,null,null,null,null,null,null,null,null,null,null],[null,null,null,null,null,null,null,null,null,null,null,null,null,null,null,null,null,null,null,0.6649300128850217,null,null,null,null,null,null,null,null,null,null,null],[null,null,null,null,null,null,null,null,null,null,null,null,null,null,null,null,null,0.6645451245940481,null,null,null,null,null,null,null,null,null,null,null,null,null],[null,null,null,null,null,null,null,null,null,0.6644974396978448,null,null,null,null,null,null,null,null,null,null,null,null,null,null,null,null,null,null,null,null,null],[null,null,null,null,null,null,null,null,null,null,null,null,0.6490389142945792,null,null,null,null,null,null,null,null,null,null,null,null,null,null,null,null,null,null],[null,null,null,null,null,null,null,null,null,null,null,null,null,null,0.6646191118088253,null,null,null,null,null,null,null,null,null,null,null,null,null,null,null,null],[null,null,null,null,null,null,null,null,null,null,null,null,null,null,null,null,0.6645593456394623,null,null,null,null,null,null,null,null,null,null,null,null,null,null],[null,null,null,null,null,null,null,null,null,null,null,null,null,0.6646287055317674,null,null,null,null,null,null,null,null,null,null,null,null,null,null,null,null,null],[null,null,null,null,0.6638438873005293,null,null,null,null,null,null,null,null,null,null,null,null,null,null,null,null,null,null,null,null,null,null,null,null,null,null],[null,null,null,null,null,null,0.6606913078662908,null,null,null,null,null,null,null,null,null,null,null,null,null,null,null,null,null,null,null,null,null,null,null,null],[null,null,null,null,null,null,null,null,null,null,null,null,null,null,null,null,null,null,null,null,null,null,null,null,null,null,0.6569722358985731,null,null,null,null],[null,null,null,null,null,null,null,null,null,null,null,null,null,null,null,null,null,null,null,null,null,null,null,null,null,null,null,0.6648411180668586,null,null,null],[null,null,null,null,null,null,null,null,null,null,null,null,null,null,null,null,null,null,null,null,null,null,null,null,null,null,null,null,null,0.6607579171146112,null],[null,null,null,null,null,null,null,null,null,null,null,null,null,null,null,null,null,null,null,null,null,0.6530680905287827,null,null,null,null,null,null,null,null,null],[null,null,null,null,null,null,null,null,null,null,null,null,null,null,null,null,null,null,null,null,null,null,0.6648698628424137,null,null,null,null,null,null,null,null],[null,null,null,null,null,null,null,null,null,null,null,null,null,null,null,null,null,null,null,null,0.6314982702796567,null,null,null,null,null,null,null,null,null,null],[null,null,null,null,null,null,null,null,null,null,null,0.6607266923600953,null,null,null,null,null,null,null,null,null,null,null,null,null,null,null,null,null,null,null],[null,null,null,null,null,0.6608176249564872,null,null,null,null,null,null,null,null,null,null,null,null,null,null,null,null,null,null,null,null,null,null,null,null,null],[null,null,null,null,null,null,null,null,null,null,null,null,null,null,null,null,null,null,null,null,null,null,null,null,0.6612476568022565,null,null,null,null,null,null],[null,null,null,null,null,null,null,null,null,null,null,null,null,null,null,null,null,null,null,null,null,null,null,null,null,null,0.6570654137698817,null,null,null,null],[null,null,null,null,null,null,null,0.6601325973591153,null,null,null,null,null,null,null,null,null,null,null,null,null,null,null,null,null,null,null,null,null,null,null],[null,null,null,null,null,null,null,null,null,null,0.6487787523188924,null,null,null,null,null,null,null,null,null,null,null,null,null,null,null,null,null,null,null,null],[null,null,null,null,null,null,null,null,null,null,null,null,null,null,null,null,null,null,null,null,null,null,null,null,null,null,null,null,0.6566925900352235,null,null],[null,null,null,null,null,null,null,null,null,null,null,null,null,null,null,null,null,null,null,null,null,null,null,null,null,0.6646086228333111,null,null,null,null,null],[null,null,null,null,null,null,null,null,null,null,null,null,null,null,null,null,null,null,null,null,null,null,null,0.6609237574303389,null,null,null,null,null,null,null],[null,null,null,null,null,null,null,null,0.656192223820365,null,null,null,null,null,null,null,null,null,null,null,null,null,null,null,null,null,null,null,null,null,null],[null,0.6427771588193454,null,null,null,null,null,null,null,null,null,null,null,null,null,null,null,null,null,null,null,null,null,null,null,null,null,null,null,null,null],[null,null,null,0.6519632525317914,null,null,null,null,null,null,null,null,null,null,null,null,null,null,null,null,null,null,null,null,null,null,null,null,null,null,null],[null,null,null,null,null,null,null,null,null,null,null,null,null,null,null,null,null,null,null,null,null,null,null,null,null,null,null,null,null,null,null]]},{\"marker\":{\"color\":\"black\",\"line\":{\"color\":\"Grey\",\"width\":0.5}},\"mode\":\"markers\",\"showlegend\":false,\"type\":\"scatter\",\"x\":[429,474,146,414,505,914,842,333,277,468,696,729,678,681,651,829,817,995,582,803,589,747,934,1000,914,890,625,772,766,883],\"xaxis\":\"x6\",\"y\":[0.8335685304500571,0.846871159857764,0.9036602876322136,0.7974468353008204,0.8959408924322944,0.8389566847737745,0.8817689401428531,0.9310233966909693,0.7561587558513225,0.8037141232641825,0.7500123976620934,0.7953964778886542,0.7967846721551474,0.7943352046327946,0.779095196446515,0.8188441525172186,0.8183600000784966,0.8638454629932327,0.7765000194586029,0.8231783710552935,0.8543441741009762,0.7755549355301372,0.8126072453342384,0.8170993908802305,0.8107240356947015,0.8697932861109084,0.8283759009894696,0.7657015920690705,0.7647806712121554,0.8353493207837066],\"yaxis\":\"y6\"},{\"type\":\"scatter\",\"xaxis\":\"x9\",\"yaxis\":\"y9\"}],                        {\"template\":{\"data\":{\"bar\":[{\"error_x\":{\"color\":\"#2a3f5f\"},\"error_y\":{\"color\":\"#2a3f5f\"},\"marker\":{\"line\":{\"color\":\"#E5ECF6\",\"width\":0.5},\"pattern\":{\"fillmode\":\"overlay\",\"size\":10,\"solidity\":0.2}},\"type\":\"bar\"}],\"barpolar\":[{\"marker\":{\"line\":{\"color\":\"#E5ECF6\",\"width\":0.5},\"pattern\":{\"fillmode\":\"overlay\",\"size\":10,\"solidity\":0.2}},\"type\":\"barpolar\"}],\"carpet\":[{\"aaxis\":{\"endlinecolor\":\"#2a3f5f\",\"gridcolor\":\"white\",\"linecolor\":\"white\",\"minorgridcolor\":\"white\",\"startlinecolor\":\"#2a3f5f\"},\"baxis\":{\"endlinecolor\":\"#2a3f5f\",\"gridcolor\":\"white\",\"linecolor\":\"white\",\"minorgridcolor\":\"white\",\"startlinecolor\":\"#2a3f5f\"},\"type\":\"carpet\"}],\"choropleth\":[{\"colorbar\":{\"outlinewidth\":0,\"ticks\":\"\"},\"type\":\"choropleth\"}],\"contour\":[{\"colorbar\":{\"outlinewidth\":0,\"ticks\":\"\"},\"colorscale\":[[0.0,\"#0d0887\"],[0.1111111111111111,\"#46039f\"],[0.2222222222222222,\"#7201a8\"],[0.3333333333333333,\"#9c179e\"],[0.4444444444444444,\"#bd3786\"],[0.5555555555555556,\"#d8576b\"],[0.6666666666666666,\"#ed7953\"],[0.7777777777777778,\"#fb9f3a\"],[0.8888888888888888,\"#fdca26\"],[1.0,\"#f0f921\"]],\"type\":\"contour\"}],\"contourcarpet\":[{\"colorbar\":{\"outlinewidth\":0,\"ticks\":\"\"},\"type\":\"contourcarpet\"}],\"heatmap\":[{\"colorbar\":{\"outlinewidth\":0,\"ticks\":\"\"},\"colorscale\":[[0.0,\"#0d0887\"],[0.1111111111111111,\"#46039f\"],[0.2222222222222222,\"#7201a8\"],[0.3333333333333333,\"#9c179e\"],[0.4444444444444444,\"#bd3786\"],[0.5555555555555556,\"#d8576b\"],[0.6666666666666666,\"#ed7953\"],[0.7777777777777778,\"#fb9f3a\"],[0.8888888888888888,\"#fdca26\"],[1.0,\"#f0f921\"]],\"type\":\"heatmap\"}],\"heatmapgl\":[{\"colorbar\":{\"outlinewidth\":0,\"ticks\":\"\"},\"colorscale\":[[0.0,\"#0d0887\"],[0.1111111111111111,\"#46039f\"],[0.2222222222222222,\"#7201a8\"],[0.3333333333333333,\"#9c179e\"],[0.4444444444444444,\"#bd3786\"],[0.5555555555555556,\"#d8576b\"],[0.6666666666666666,\"#ed7953\"],[0.7777777777777778,\"#fb9f3a\"],[0.8888888888888888,\"#fdca26\"],[1.0,\"#f0f921\"]],\"type\":\"heatmapgl\"}],\"histogram\":[{\"marker\":{\"pattern\":{\"fillmode\":\"overlay\",\"size\":10,\"solidity\":0.2}},\"type\":\"histogram\"}],\"histogram2d\":[{\"colorbar\":{\"outlinewidth\":0,\"ticks\":\"\"},\"colorscale\":[[0.0,\"#0d0887\"],[0.1111111111111111,\"#46039f\"],[0.2222222222222222,\"#7201a8\"],[0.3333333333333333,\"#9c179e\"],[0.4444444444444444,\"#bd3786\"],[0.5555555555555556,\"#d8576b\"],[0.6666666666666666,\"#ed7953\"],[0.7777777777777778,\"#fb9f3a\"],[0.8888888888888888,\"#fdca26\"],[1.0,\"#f0f921\"]],\"type\":\"histogram2d\"}],\"histogram2dcontour\":[{\"colorbar\":{\"outlinewidth\":0,\"ticks\":\"\"},\"colorscale\":[[0.0,\"#0d0887\"],[0.1111111111111111,\"#46039f\"],[0.2222222222222222,\"#7201a8\"],[0.3333333333333333,\"#9c179e\"],[0.4444444444444444,\"#bd3786\"],[0.5555555555555556,\"#d8576b\"],[0.6666666666666666,\"#ed7953\"],[0.7777777777777778,\"#fb9f3a\"],[0.8888888888888888,\"#fdca26\"],[1.0,\"#f0f921\"]],\"type\":\"histogram2dcontour\"}],\"mesh3d\":[{\"colorbar\":{\"outlinewidth\":0,\"ticks\":\"\"},\"type\":\"mesh3d\"}],\"parcoords\":[{\"line\":{\"colorbar\":{\"outlinewidth\":0,\"ticks\":\"\"}},\"type\":\"parcoords\"}],\"pie\":[{\"automargin\":true,\"type\":\"pie\"}],\"scatter\":[{\"marker\":{\"colorbar\":{\"outlinewidth\":0,\"ticks\":\"\"}},\"type\":\"scatter\"}],\"scatter3d\":[{\"line\":{\"colorbar\":{\"outlinewidth\":0,\"ticks\":\"\"}},\"marker\":{\"colorbar\":{\"outlinewidth\":0,\"ticks\":\"\"}},\"type\":\"scatter3d\"}],\"scattercarpet\":[{\"marker\":{\"colorbar\":{\"outlinewidth\":0,\"ticks\":\"\"}},\"type\":\"scattercarpet\"}],\"scattergeo\":[{\"marker\":{\"colorbar\":{\"outlinewidth\":0,\"ticks\":\"\"}},\"type\":\"scattergeo\"}],\"scattergl\":[{\"marker\":{\"colorbar\":{\"outlinewidth\":0,\"ticks\":\"\"}},\"type\":\"scattergl\"}],\"scattermapbox\":[{\"marker\":{\"colorbar\":{\"outlinewidth\":0,\"ticks\":\"\"}},\"type\":\"scattermapbox\"}],\"scatterpolar\":[{\"marker\":{\"colorbar\":{\"outlinewidth\":0,\"ticks\":\"\"}},\"type\":\"scatterpolar\"}],\"scatterpolargl\":[{\"marker\":{\"colorbar\":{\"outlinewidth\":0,\"ticks\":\"\"}},\"type\":\"scatterpolargl\"}],\"scatterternary\":[{\"marker\":{\"colorbar\":{\"outlinewidth\":0,\"ticks\":\"\"}},\"type\":\"scatterternary\"}],\"surface\":[{\"colorbar\":{\"outlinewidth\":0,\"ticks\":\"\"},\"colorscale\":[[0.0,\"#0d0887\"],[0.1111111111111111,\"#46039f\"],[0.2222222222222222,\"#7201a8\"],[0.3333333333333333,\"#9c179e\"],[0.4444444444444444,\"#bd3786\"],[0.5555555555555556,\"#d8576b\"],[0.6666666666666666,\"#ed7953\"],[0.7777777777777778,\"#fb9f3a\"],[0.8888888888888888,\"#fdca26\"],[1.0,\"#f0f921\"]],\"type\":\"surface\"}],\"table\":[{\"cells\":{\"fill\":{\"color\":\"#EBF0F8\"},\"line\":{\"color\":\"white\"}},\"header\":{\"fill\":{\"color\":\"#C8D4E3\"},\"line\":{\"color\":\"white\"}},\"type\":\"table\"}]},\"layout\":{\"annotationdefaults\":{\"arrowcolor\":\"#2a3f5f\",\"arrowhead\":0,\"arrowwidth\":1},\"autotypenumbers\":\"strict\",\"coloraxis\":{\"colorbar\":{\"outlinewidth\":0,\"ticks\":\"\"}},\"colorscale\":{\"diverging\":[[0,\"#8e0152\"],[0.1,\"#c51b7d\"],[0.2,\"#de77ae\"],[0.3,\"#f1b6da\"],[0.4,\"#fde0ef\"],[0.5,\"#f7f7f7\"],[0.6,\"#e6f5d0\"],[0.7,\"#b8e186\"],[0.8,\"#7fbc41\"],[0.9,\"#4d9221\"],[1,\"#276419\"]],\"sequential\":[[0.0,\"#0d0887\"],[0.1111111111111111,\"#46039f\"],[0.2222222222222222,\"#7201a8\"],[0.3333333333333333,\"#9c179e\"],[0.4444444444444444,\"#bd3786\"],[0.5555555555555556,\"#d8576b\"],[0.6666666666666666,\"#ed7953\"],[0.7777777777777778,\"#fb9f3a\"],[0.8888888888888888,\"#fdca26\"],[1.0,\"#f0f921\"]],\"sequentialminus\":[[0.0,\"#0d0887\"],[0.1111111111111111,\"#46039f\"],[0.2222222222222222,\"#7201a8\"],[0.3333333333333333,\"#9c179e\"],[0.4444444444444444,\"#bd3786\"],[0.5555555555555556,\"#d8576b\"],[0.6666666666666666,\"#ed7953\"],[0.7777777777777778,\"#fb9f3a\"],[0.8888888888888888,\"#fdca26\"],[1.0,\"#f0f921\"]]},\"colorway\":[\"#636efa\",\"#EF553B\",\"#00cc96\",\"#ab63fa\",\"#FFA15A\",\"#19d3f3\",\"#FF6692\",\"#B6E880\",\"#FF97FF\",\"#FECB52\"],\"font\":{\"color\":\"#2a3f5f\"},\"geo\":{\"bgcolor\":\"white\",\"lakecolor\":\"white\",\"landcolor\":\"#E5ECF6\",\"showlakes\":true,\"showland\":true,\"subunitcolor\":\"white\"},\"hoverlabel\":{\"align\":\"left\"},\"hovermode\":\"closest\",\"mapbox\":{\"style\":\"light\"},\"paper_bgcolor\":\"white\",\"plot_bgcolor\":\"#E5ECF6\",\"polar\":{\"angularaxis\":{\"gridcolor\":\"white\",\"linecolor\":\"white\",\"ticks\":\"\"},\"bgcolor\":\"#E5ECF6\",\"radialaxis\":{\"gridcolor\":\"white\",\"linecolor\":\"white\",\"ticks\":\"\"}},\"scene\":{\"xaxis\":{\"backgroundcolor\":\"#E5ECF6\",\"gridcolor\":\"white\",\"gridwidth\":2,\"linecolor\":\"white\",\"showbackground\":true,\"ticks\":\"\",\"zerolinecolor\":\"white\"},\"yaxis\":{\"backgroundcolor\":\"#E5ECF6\",\"gridcolor\":\"white\",\"gridwidth\":2,\"linecolor\":\"white\",\"showbackground\":true,\"ticks\":\"\",\"zerolinecolor\":\"white\"},\"zaxis\":{\"backgroundcolor\":\"#E5ECF6\",\"gridcolor\":\"white\",\"gridwidth\":2,\"linecolor\":\"white\",\"showbackground\":true,\"ticks\":\"\",\"zerolinecolor\":\"white\"}},\"shapedefaults\":{\"line\":{\"color\":\"#2a3f5f\"}},\"ternary\":{\"aaxis\":{\"gridcolor\":\"white\",\"linecolor\":\"white\",\"ticks\":\"\"},\"baxis\":{\"gridcolor\":\"white\",\"linecolor\":\"white\",\"ticks\":\"\"},\"bgcolor\":\"#E5ECF6\",\"caxis\":{\"gridcolor\":\"white\",\"linecolor\":\"white\",\"ticks\":\"\"}},\"title\":{\"x\":0.05},\"xaxis\":{\"automargin\":true,\"gridcolor\":\"white\",\"linecolor\":\"white\",\"ticks\":\"\",\"title\":{\"standoff\":15},\"zerolinecolor\":\"white\",\"zerolinewidth\":2},\"yaxis\":{\"automargin\":true,\"gridcolor\":\"white\",\"linecolor\":\"white\",\"ticks\":\"\",\"title\":{\"standoff\":15},\"zerolinecolor\":\"white\",\"zerolinewidth\":2}}},\"title\":{\"text\":\"Contour Plot\"},\"xaxis\":{\"anchor\":\"y\",\"domain\":[0.0,0.2888888888888889],\"matches\":\"x7\",\"range\":[1.65,9.35],\"showticklabels\":false},\"xaxis2\":{\"anchor\":\"y2\",\"domain\":[0.35555555555555557,0.6444444444444445],\"matches\":\"x8\",\"range\":[0.7409618477106495,0.9400739466424132],\"showticklabels\":false},\"xaxis3\":{\"anchor\":\"y3\",\"domain\":[0.7111111111111111,1.0],\"matches\":\"x9\",\"range\":[103.3,1042.7],\"showticklabels\":false},\"xaxis4\":{\"anchor\":\"y4\",\"domain\":[0.0,0.2888888888888889],\"matches\":\"x7\",\"range\":[1.65,9.35],\"showticklabels\":false},\"xaxis5\":{\"anchor\":\"y5\",\"domain\":[0.35555555555555557,0.6444444444444445],\"matches\":\"x8\",\"range\":[0.7409618477106495,0.9400739466424132],\"showticklabels\":false},\"xaxis6\":{\"anchor\":\"y6\",\"domain\":[0.7111111111111111,1.0],\"matches\":\"x9\",\"range\":[103.3,1042.7],\"showticklabels\":false},\"xaxis7\":{\"anchor\":\"y7\",\"domain\":[0.0,0.2888888888888889],\"range\":[1.65,9.35],\"title\":{\"text\":\"max_depth\"}},\"xaxis8\":{\"anchor\":\"y8\",\"domain\":[0.35555555555555557,0.6444444444444445],\"range\":[0.7409618477106495,0.9400739466424132],\"title\":{\"text\":\"max_samples\"}},\"xaxis9\":{\"anchor\":\"y9\",\"domain\":[0.7111111111111111,1.0],\"range\":[103.3,1042.7],\"title\":{\"text\":\"n_estimators\"}},\"yaxis\":{\"anchor\":\"x\",\"domain\":[0.7333333333333333,1.0],\"range\":[1.65,9.35],\"title\":{\"text\":\"max_depth\"}},\"yaxis2\":{\"anchor\":\"x2\",\"domain\":[0.7333333333333333,1.0],\"matches\":\"y\",\"range\":[1.65,9.35],\"showticklabels\":false},\"yaxis3\":{\"anchor\":\"x3\",\"domain\":[0.7333333333333333,1.0],\"matches\":\"y\",\"range\":[1.65,9.35],\"showticklabels\":false},\"yaxis4\":{\"anchor\":\"x4\",\"domain\":[0.36666666666666664,0.6333333333333333],\"range\":[0.7409618477106495,0.9400739466424132],\"title\":{\"text\":\"max_samples\"}},\"yaxis5\":{\"anchor\":\"x5\",\"domain\":[0.36666666666666664,0.6333333333333333],\"matches\":\"y4\",\"range\":[0.7409618477106495,0.9400739466424132],\"showticklabels\":false},\"yaxis6\":{\"anchor\":\"x6\",\"domain\":[0.36666666666666664,0.6333333333333333],\"matches\":\"y4\",\"range\":[0.7409618477106495,0.9400739466424132],\"showticklabels\":false},\"yaxis7\":{\"anchor\":\"x7\",\"domain\":[0.0,0.26666666666666666],\"range\":[103.3,1042.7],\"title\":{\"text\":\"n_estimators\"}},\"yaxis8\":{\"anchor\":\"x8\",\"domain\":[0.0,0.26666666666666666],\"matches\":\"y7\",\"range\":[103.3,1042.7],\"showticklabels\":false},\"yaxis9\":{\"anchor\":\"x9\",\"domain\":[0.0,0.26666666666666666],\"matches\":\"y7\",\"range\":[103.3,1042.7],\"showticklabels\":false}},                        {\"responsive\": true}                    ).then(function(){\n",
       "                            \n",
       "var gd = document.getElementById('f15e4140-8dc4-4282-b69a-11a2ba2a25a2');\n",
       "var x = new MutationObserver(function (mutations, observer) {{\n",
       "        var display = window.getComputedStyle(gd).display;\n",
       "        if (!display || display === 'none') {{\n",
       "            console.log([gd, 'removed!']);\n",
       "            Plotly.purge(gd);\n",
       "            observer.disconnect();\n",
       "        }}\n",
       "}});\n",
       "\n",
       "// Listen for the removal of the full notebook cells\n",
       "var notebookContainer = gd.closest('#notebook-container');\n",
       "if (notebookContainer) {{\n",
       "    x.observe(notebookContainer, {childList: true});\n",
       "}}\n",
       "\n",
       "// Listen for the clearing of the current output cell\n",
       "var outputEl = gd.closest('.output');\n",
       "if (outputEl) {{\n",
       "    x.observe(outputEl, {childList: true});\n",
       "}}\n",
       "\n",
       "                        })                };                });            </script>        </div>"
      ]
     },
     "metadata": {},
     "output_type": "display_data"
    }
   ],
   "source": [
    "###################################################################################################\n",
    "# Select parameters to visualize.\n",
    "plot_contour(study, params=['max_samples', 'max_depth', 'n_estimators'])"
   ]
  },
  {
   "cell_type": "code",
   "execution_count": 124,
   "metadata": {
    "ExecuteTime": {
     "end_time": "2021-11-29T02:13:47.013057Z",
     "start_time": "2021-11-29T02:13:46.888764Z"
    },
    "executionInfo": {
     "elapsed": 22,
     "status": "aborted",
     "timestamp": 1638057557726,
     "user": {
      "displayName": "Rogério Delfim",
      "photoUrl": "https://lh3.googleusercontent.com/a-/AOh14Gj8lDYWTfZHU0U0sMojRPio71Ec7YDcSEpCaOEE=s64",
      "userId": "04235763959036945343"
     },
     "user_tz": 180
    },
    "id": "-7ssQ77NmXBQ"
   },
   "outputs": [
    {
     "data": {
      "application/vnd.plotly.v1+json": {
       "config": {
        "plotlyServerURL": "https://plot.ly"
       },
       "data": [
        {
         "marker": {
          "color": [
           0,
           1,
           2,
           3,
           4,
           5,
           6,
           7,
           8,
           9,
           10,
           11,
           12,
           13,
           14,
           15,
           16,
           17,
           18,
           19,
           20,
           21,
           22,
           23,
           24,
           25,
           26,
           27,
           28,
           29
          ],
          "colorbar": {
           "title": {
            "text": "#Trials"
           },
           "x": 1,
           "xpad": 40
          },
          "colorscale": [
           [
            0,
            "rgb(247,251,255)"
           ],
           [
            0.125,
            "rgb(222,235,247)"
           ],
           [
            0.25,
            "rgb(198,219,239)"
           ],
           [
            0.375,
            "rgb(158,202,225)"
           ],
           [
            0.5,
            "rgb(107,174,214)"
           ],
           [
            0.625,
            "rgb(66,146,198)"
           ],
           [
            0.75,
            "rgb(33,113,181)"
           ],
           [
            0.875,
            "rgb(8,81,156)"
           ],
           [
            1,
            "rgb(8,48,107)"
           ]
          ],
          "line": {
           "color": "Grey",
           "width": 0.5
          },
          "showscale": true
         },
         "mode": "markers",
         "showlegend": false,
         "type": "scatter",
         "x": [
          "True",
          "True",
          "True",
          "True",
          "True",
          "True",
          "True",
          "True",
          "True",
          "True",
          "True",
          "True",
          "True",
          "True",
          "True",
          "True",
          "True",
          "True",
          "True",
          "True",
          "True",
          "True",
          "True",
          "True",
          "True",
          "True",
          "True",
          "True",
          "True",
          "True"
         ],
         "xaxis": "x",
         "y": [
          0.6608176249564872,
          0.6601325973591153,
          0.6427771588193454,
          0.6638438873005293,
          0.656192223820365,
          0.6570654137698817,
          0.6609237574303389,
          0.6519632525317914,
          0.6298789019203499,
          0.6606913078662908,
          0.644323621739552,
          0.6645593456394623,
          0.6646287055317674,
          0.6646191118088253,
          0.6490389142945792,
          0.6648698628424137,
          0.6530680905287827,
          0.6566925900352235,
          0.6644974396978448,
          0.6314982702796567,
          0.6487787523188924,
          0.6645451245940481,
          0.6648411180668586,
          0.6607579171146112,
          0.6569722358985731,
          0.6646086228333111,
          0.6607266923600953,
          0.6649300128850217,
          0.6569293339613721,
          0.6612476568022565
         ],
         "yaxis": "y"
        },
        {
         "marker": {
          "color": [
           0,
           1,
           2,
           3,
           4,
           5,
           6,
           7,
           8,
           9,
           10,
           11,
           12,
           13,
           14,
           15,
           16,
           17,
           18,
           19,
           20,
           21,
           22,
           23,
           24,
           25,
           26,
           27,
           28,
           29
          ],
          "colorbar": {
           "title": {
            "text": "#Trials"
           },
           "x": 1,
           "xpad": 40
          },
          "colorscale": [
           [
            0,
            "rgb(247,251,255)"
           ],
           [
            0.125,
            "rgb(222,235,247)"
           ],
           [
            0.25,
            "rgb(198,219,239)"
           ],
           [
            0.375,
            "rgb(158,202,225)"
           ],
           [
            0.5,
            "rgb(107,174,214)"
           ],
           [
            0.625,
            "rgb(66,146,198)"
           ],
           [
            0.75,
            "rgb(33,113,181)"
           ],
           [
            0.875,
            "rgb(8,81,156)"
           ],
           [
            1,
            "rgb(8,48,107)"
           ]
          ],
          "line": {
           "color": "Grey",
           "width": 0.5
          },
          "showscale": false
         },
         "mode": "markers",
         "showlegend": false,
         "type": "scatter",
         "x": [
          "gini",
          "entropy",
          "gini",
          "entropy",
          "entropy",
          "gini",
          "gini",
          "gini",
          "entropy",
          "gini",
          "entropy",
          "entropy",
          "entropy",
          "entropy",
          "entropy",
          "entropy",
          "entropy",
          "entropy",
          "entropy",
          "entropy",
          "entropy",
          "entropy",
          "entropy",
          "entropy",
          "entropy",
          "entropy",
          "entropy",
          "entropy",
          "entropy",
          "gini"
         ],
         "xaxis": "x2",
         "y": [
          0.6608176249564872,
          0.6601325973591153,
          0.6427771588193454,
          0.6638438873005293,
          0.656192223820365,
          0.6570654137698817,
          0.6609237574303389,
          0.6519632525317914,
          0.6298789019203499,
          0.6606913078662908,
          0.644323621739552,
          0.6645593456394623,
          0.6646287055317674,
          0.6646191118088253,
          0.6490389142945792,
          0.6648698628424137,
          0.6530680905287827,
          0.6566925900352235,
          0.6644974396978448,
          0.6314982702796567,
          0.6487787523188924,
          0.6645451245940481,
          0.6648411180668586,
          0.6607579171146112,
          0.6569722358985731,
          0.6646086228333111,
          0.6607266923600953,
          0.6649300128850217,
          0.6569293339613721,
          0.6612476568022565
         ],
         "yaxis": "y2"
        },
        {
         "marker": {
          "color": [
           0,
           1,
           2,
           3,
           4,
           5,
           6,
           7,
           8,
           9,
           10,
           11,
           12,
           13,
           14,
           15,
           16,
           17,
           18,
           19,
           20,
           21,
           22,
           23,
           24,
           25,
           26,
           27,
           28,
           29
          ],
          "colorbar": {
           "title": {
            "text": "#Trials"
           },
           "x": 1,
           "xpad": 40
          },
          "colorscale": [
           [
            0,
            "rgb(247,251,255)"
           ],
           [
            0.125,
            "rgb(222,235,247)"
           ],
           [
            0.25,
            "rgb(198,219,239)"
           ],
           [
            0.375,
            "rgb(158,202,225)"
           ],
           [
            0.5,
            "rgb(107,174,214)"
           ],
           [
            0.625,
            "rgb(66,146,198)"
           ],
           [
            0.75,
            "rgb(33,113,181)"
           ],
           [
            0.875,
            "rgb(8,81,156)"
           ],
           [
            1,
            "rgb(8,48,107)"
           ]
          ],
          "line": {
           "color": "Grey",
           "width": 0.5
          },
          "showscale": false
         },
         "mode": "markers",
         "showlegend": false,
         "type": "scatter",
         "x": [
          8,
          8,
          4,
          9,
          7,
          7,
          8,
          6,
          2,
          8,
          4,
          9,
          9,
          9,
          5,
          9,
          6,
          7,
          9,
          2,
          5,
          9,
          9,
          8,
          7,
          9,
          8,
          9,
          7,
          8
         ],
         "xaxis": "x3",
         "y": [
          0.6608176249564872,
          0.6601325973591153,
          0.6427771588193454,
          0.6638438873005293,
          0.656192223820365,
          0.6570654137698817,
          0.6609237574303389,
          0.6519632525317914,
          0.6298789019203499,
          0.6606913078662908,
          0.644323621739552,
          0.6645593456394623,
          0.6646287055317674,
          0.6646191118088253,
          0.6490389142945792,
          0.6648698628424137,
          0.6530680905287827,
          0.6566925900352235,
          0.6644974396978448,
          0.6314982702796567,
          0.6487787523188924,
          0.6645451245940481,
          0.6648411180668586,
          0.6607579171146112,
          0.6569722358985731,
          0.6646086228333111,
          0.6607266923600953,
          0.6649300128850217,
          0.6569293339613721,
          0.6612476568022565
         ],
         "yaxis": "y3"
        },
        {
         "marker": {
          "color": [
           0,
           1,
           2,
           3,
           4,
           5,
           6,
           7,
           8,
           9,
           10,
           11,
           12,
           13,
           14,
           15,
           16,
           17,
           18,
           19,
           20,
           21,
           22,
           23,
           24,
           25,
           26,
           27,
           28,
           29
          ],
          "colorbar": {
           "title": {
            "text": "#Trials"
           },
           "x": 1,
           "xpad": 40
          },
          "colorscale": [
           [
            0,
            "rgb(247,251,255)"
           ],
           [
            0.125,
            "rgb(222,235,247)"
           ],
           [
            0.25,
            "rgb(198,219,239)"
           ],
           [
            0.375,
            "rgb(158,202,225)"
           ],
           [
            0.5,
            "rgb(107,174,214)"
           ],
           [
            0.625,
            "rgb(66,146,198)"
           ],
           [
            0.75,
            "rgb(33,113,181)"
           ],
           [
            0.875,
            "rgb(8,81,156)"
           ],
           [
            1,
            "rgb(8,48,107)"
           ]
          ],
          "line": {
           "color": "Grey",
           "width": 0.5
          },
          "showscale": false
         },
         "mode": "markers",
         "showlegend": false,
         "type": "scatter",
         "x": [
          0.8335685304500571,
          0.846871159857764,
          0.9036602876322136,
          0.7974468353008204,
          0.8959408924322944,
          0.8389566847737745,
          0.8817689401428531,
          0.9310233966909693,
          0.7561587558513225,
          0.8037141232641825,
          0.7500123976620934,
          0.7953964778886542,
          0.7967846721551474,
          0.7943352046327946,
          0.779095196446515,
          0.8188441525172186,
          0.8183600000784966,
          0.8638454629932327,
          0.7765000194586029,
          0.8231783710552935,
          0.8543441741009762,
          0.7755549355301372,
          0.8126072453342384,
          0.8170993908802305,
          0.8107240356947015,
          0.8697932861109084,
          0.8283759009894696,
          0.7657015920690705,
          0.7647806712121554,
          0.8353493207837066
         ],
         "xaxis": "x4",
         "y": [
          0.6608176249564872,
          0.6601325973591153,
          0.6427771588193454,
          0.6638438873005293,
          0.656192223820365,
          0.6570654137698817,
          0.6609237574303389,
          0.6519632525317914,
          0.6298789019203499,
          0.6606913078662908,
          0.644323621739552,
          0.6645593456394623,
          0.6646287055317674,
          0.6646191118088253,
          0.6490389142945792,
          0.6648698628424137,
          0.6530680905287827,
          0.6566925900352235,
          0.6644974396978448,
          0.6314982702796567,
          0.6487787523188924,
          0.6645451245940481,
          0.6648411180668586,
          0.6607579171146112,
          0.6569722358985731,
          0.6646086228333111,
          0.6607266923600953,
          0.6649300128850217,
          0.6569293339613721,
          0.6612476568022565
         ],
         "yaxis": "y4"
        },
        {
         "marker": {
          "color": [
           0,
           1,
           2,
           3,
           4,
           5,
           6,
           7,
           8,
           9,
           10,
           11,
           12,
           13,
           14,
           15,
           16,
           17,
           18,
           19,
           20,
           21,
           22,
           23,
           24,
           25,
           26,
           27,
           28,
           29
          ],
          "colorbar": {
           "title": {
            "text": "#Trials"
           },
           "x": 1,
           "xpad": 40
          },
          "colorscale": [
           [
            0,
            "rgb(247,251,255)"
           ],
           [
            0.125,
            "rgb(222,235,247)"
           ],
           [
            0.25,
            "rgb(198,219,239)"
           ],
           [
            0.375,
            "rgb(158,202,225)"
           ],
           [
            0.5,
            "rgb(107,174,214)"
           ],
           [
            0.625,
            "rgb(66,146,198)"
           ],
           [
            0.75,
            "rgb(33,113,181)"
           ],
           [
            0.875,
            "rgb(8,81,156)"
           ],
           [
            1,
            "rgb(8,48,107)"
           ]
          ],
          "line": {
           "color": "Grey",
           "width": 0.5
          },
          "showscale": false
         },
         "mode": "markers",
         "showlegend": false,
         "type": "scatter",
         "x": [
          429,
          474,
          146,
          414,
          505,
          914,
          842,
          333,
          277,
          468,
          696,
          729,
          678,
          681,
          651,
          829,
          817,
          995,
          582,
          803,
          589,
          747,
          934,
          1000,
          914,
          890,
          625,
          772,
          766,
          883
         ],
         "xaxis": "x5",
         "y": [
          0.6608176249564872,
          0.6601325973591153,
          0.6427771588193454,
          0.6638438873005293,
          0.656192223820365,
          0.6570654137698817,
          0.6609237574303389,
          0.6519632525317914,
          0.6298789019203499,
          0.6606913078662908,
          0.644323621739552,
          0.6645593456394623,
          0.6646287055317674,
          0.6646191118088253,
          0.6490389142945792,
          0.6648698628424137,
          0.6530680905287827,
          0.6566925900352235,
          0.6644974396978448,
          0.6314982702796567,
          0.6487787523188924,
          0.6645451245940481,
          0.6648411180668586,
          0.6607579171146112,
          0.6569722358985731,
          0.6646086228333111,
          0.6607266923600953,
          0.6649300128850217,
          0.6569293339613721,
          0.6612476568022565
         ],
         "yaxis": "y5"
        },
        {
         "marker": {
          "color": [
           0,
           1,
           2,
           3,
           4,
           5,
           6,
           7,
           8,
           9,
           10,
           11,
           12,
           13,
           14,
           15,
           16,
           17,
           18,
           19,
           20,
           21,
           22,
           23,
           24,
           25,
           26,
           27,
           28,
           29
          ],
          "colorbar": {
           "title": {
            "text": "#Trials"
           },
           "x": 1,
           "xpad": 40
          },
          "colorscale": [
           [
            0,
            "rgb(247,251,255)"
           ],
           [
            0.125,
            "rgb(222,235,247)"
           ],
           [
            0.25,
            "rgb(198,219,239)"
           ],
           [
            0.375,
            "rgb(158,202,225)"
           ],
           [
            0.5,
            "rgb(107,174,214)"
           ],
           [
            0.625,
            "rgb(66,146,198)"
           ],
           [
            0.75,
            "rgb(33,113,181)"
           ],
           [
            0.875,
            "rgb(8,81,156)"
           ],
           [
            1,
            "rgb(8,48,107)"
           ]
          ],
          "line": {
           "color": "Grey",
           "width": 0.5
          },
          "showscale": false
         },
         "mode": "markers",
         "showlegend": false,
         "type": "scatter",
         "x": [
          -1,
          -1,
          -1,
          -1,
          -1,
          -1,
          -1,
          -1,
          -1,
          -1,
          -1,
          -1,
          -1,
          -1,
          -1,
          -1,
          -1,
          -1,
          -1,
          -1,
          -1,
          -1,
          -1,
          -1,
          -1,
          -1,
          -1,
          -1,
          -1,
          -1
         ],
         "xaxis": "x6",
         "y": [
          0.6608176249564872,
          0.6601325973591153,
          0.6427771588193454,
          0.6638438873005293,
          0.656192223820365,
          0.6570654137698817,
          0.6609237574303389,
          0.6519632525317914,
          0.6298789019203499,
          0.6606913078662908,
          0.644323621739552,
          0.6645593456394623,
          0.6646287055317674,
          0.6646191118088253,
          0.6490389142945792,
          0.6648698628424137,
          0.6530680905287827,
          0.6566925900352235,
          0.6644974396978448,
          0.6314982702796567,
          0.6487787523188924,
          0.6645451245940481,
          0.6648411180668586,
          0.6607579171146112,
          0.6569722358985731,
          0.6646086228333111,
          0.6607266923600953,
          0.6649300128850217,
          0.6569293339613721,
          0.6612476568022565
         ],
         "yaxis": "y6"
        },
        {
         "marker": {
          "color": [
           0,
           1,
           2,
           3,
           4,
           5,
           6,
           7,
           8,
           9,
           10,
           11,
           12,
           13,
           14,
           15,
           16,
           17,
           18,
           19,
           20,
           21,
           22,
           23,
           24,
           25,
           26,
           27,
           28,
           29
          ],
          "colorbar": {
           "title": {
            "text": "#Trials"
           },
           "x": 1,
           "xpad": 40
          },
          "colorscale": [
           [
            0,
            "rgb(247,251,255)"
           ],
           [
            0.125,
            "rgb(222,235,247)"
           ],
           [
            0.25,
            "rgb(198,219,239)"
           ],
           [
            0.375,
            "rgb(158,202,225)"
           ],
           [
            0.5,
            "rgb(107,174,214)"
           ],
           [
            0.625,
            "rgb(66,146,198)"
           ],
           [
            0.75,
            "rgb(33,113,181)"
           ],
           [
            0.875,
            "rgb(8,81,156)"
           ],
           [
            1,
            "rgb(8,48,107)"
           ]
          ],
          "line": {
           "color": "Grey",
           "width": 0.5
          },
          "showscale": false
         },
         "mode": "markers",
         "showlegend": false,
         "type": "scatter",
         "x": [
          12359,
          12359,
          12359,
          12359,
          12359,
          12359,
          12359,
          12359,
          12359,
          12359,
          12359,
          12359,
          12359,
          12359,
          12359,
          12359,
          12359,
          12359,
          12359,
          12359,
          12359,
          12359,
          12359,
          12359,
          12359,
          12359,
          12359,
          12359,
          12359,
          12359
         ],
         "xaxis": "x7",
         "y": [
          0.6608176249564872,
          0.6601325973591153,
          0.6427771588193454,
          0.6638438873005293,
          0.656192223820365,
          0.6570654137698817,
          0.6609237574303389,
          0.6519632525317914,
          0.6298789019203499,
          0.6606913078662908,
          0.644323621739552,
          0.6645593456394623,
          0.6646287055317674,
          0.6646191118088253,
          0.6490389142945792,
          0.6648698628424137,
          0.6530680905287827,
          0.6566925900352235,
          0.6644974396978448,
          0.6314982702796567,
          0.6487787523188924,
          0.6645451245940481,
          0.6648411180668586,
          0.6607579171146112,
          0.6569722358985731,
          0.6646086228333111,
          0.6607266923600953,
          0.6649300128850217,
          0.6569293339613721,
          0.6612476568022565
         ],
         "yaxis": "y7"
        }
       ],
       "layout": {
        "template": {
         "data": {
          "bar": [
           {
            "error_x": {
             "color": "#2a3f5f"
            },
            "error_y": {
             "color": "#2a3f5f"
            },
            "marker": {
             "line": {
              "color": "#E5ECF6",
              "width": 0.5
             },
             "pattern": {
              "fillmode": "overlay",
              "size": 10,
              "solidity": 0.2
             }
            },
            "type": "bar"
           }
          ],
          "barpolar": [
           {
            "marker": {
             "line": {
              "color": "#E5ECF6",
              "width": 0.5
             },
             "pattern": {
              "fillmode": "overlay",
              "size": 10,
              "solidity": 0.2
             }
            },
            "type": "barpolar"
           }
          ],
          "carpet": [
           {
            "aaxis": {
             "endlinecolor": "#2a3f5f",
             "gridcolor": "white",
             "linecolor": "white",
             "minorgridcolor": "white",
             "startlinecolor": "#2a3f5f"
            },
            "baxis": {
             "endlinecolor": "#2a3f5f",
             "gridcolor": "white",
             "linecolor": "white",
             "minorgridcolor": "white",
             "startlinecolor": "#2a3f5f"
            },
            "type": "carpet"
           }
          ],
          "choropleth": [
           {
            "colorbar": {
             "outlinewidth": 0,
             "ticks": ""
            },
            "type": "choropleth"
           }
          ],
          "contour": [
           {
            "colorbar": {
             "outlinewidth": 0,
             "ticks": ""
            },
            "colorscale": [
             [
              0,
              "#0d0887"
             ],
             [
              0.1111111111111111,
              "#46039f"
             ],
             [
              0.2222222222222222,
              "#7201a8"
             ],
             [
              0.3333333333333333,
              "#9c179e"
             ],
             [
              0.4444444444444444,
              "#bd3786"
             ],
             [
              0.5555555555555556,
              "#d8576b"
             ],
             [
              0.6666666666666666,
              "#ed7953"
             ],
             [
              0.7777777777777778,
              "#fb9f3a"
             ],
             [
              0.8888888888888888,
              "#fdca26"
             ],
             [
              1,
              "#f0f921"
             ]
            ],
            "type": "contour"
           }
          ],
          "contourcarpet": [
           {
            "colorbar": {
             "outlinewidth": 0,
             "ticks": ""
            },
            "type": "contourcarpet"
           }
          ],
          "heatmap": [
           {
            "colorbar": {
             "outlinewidth": 0,
             "ticks": ""
            },
            "colorscale": [
             [
              0,
              "#0d0887"
             ],
             [
              0.1111111111111111,
              "#46039f"
             ],
             [
              0.2222222222222222,
              "#7201a8"
             ],
             [
              0.3333333333333333,
              "#9c179e"
             ],
             [
              0.4444444444444444,
              "#bd3786"
             ],
             [
              0.5555555555555556,
              "#d8576b"
             ],
             [
              0.6666666666666666,
              "#ed7953"
             ],
             [
              0.7777777777777778,
              "#fb9f3a"
             ],
             [
              0.8888888888888888,
              "#fdca26"
             ],
             [
              1,
              "#f0f921"
             ]
            ],
            "type": "heatmap"
           }
          ],
          "heatmapgl": [
           {
            "colorbar": {
             "outlinewidth": 0,
             "ticks": ""
            },
            "colorscale": [
             [
              0,
              "#0d0887"
             ],
             [
              0.1111111111111111,
              "#46039f"
             ],
             [
              0.2222222222222222,
              "#7201a8"
             ],
             [
              0.3333333333333333,
              "#9c179e"
             ],
             [
              0.4444444444444444,
              "#bd3786"
             ],
             [
              0.5555555555555556,
              "#d8576b"
             ],
             [
              0.6666666666666666,
              "#ed7953"
             ],
             [
              0.7777777777777778,
              "#fb9f3a"
             ],
             [
              0.8888888888888888,
              "#fdca26"
             ],
             [
              1,
              "#f0f921"
             ]
            ],
            "type": "heatmapgl"
           }
          ],
          "histogram": [
           {
            "marker": {
             "pattern": {
              "fillmode": "overlay",
              "size": 10,
              "solidity": 0.2
             }
            },
            "type": "histogram"
           }
          ],
          "histogram2d": [
           {
            "colorbar": {
             "outlinewidth": 0,
             "ticks": ""
            },
            "colorscale": [
             [
              0,
              "#0d0887"
             ],
             [
              0.1111111111111111,
              "#46039f"
             ],
             [
              0.2222222222222222,
              "#7201a8"
             ],
             [
              0.3333333333333333,
              "#9c179e"
             ],
             [
              0.4444444444444444,
              "#bd3786"
             ],
             [
              0.5555555555555556,
              "#d8576b"
             ],
             [
              0.6666666666666666,
              "#ed7953"
             ],
             [
              0.7777777777777778,
              "#fb9f3a"
             ],
             [
              0.8888888888888888,
              "#fdca26"
             ],
             [
              1,
              "#f0f921"
             ]
            ],
            "type": "histogram2d"
           }
          ],
          "histogram2dcontour": [
           {
            "colorbar": {
             "outlinewidth": 0,
             "ticks": ""
            },
            "colorscale": [
             [
              0,
              "#0d0887"
             ],
             [
              0.1111111111111111,
              "#46039f"
             ],
             [
              0.2222222222222222,
              "#7201a8"
             ],
             [
              0.3333333333333333,
              "#9c179e"
             ],
             [
              0.4444444444444444,
              "#bd3786"
             ],
             [
              0.5555555555555556,
              "#d8576b"
             ],
             [
              0.6666666666666666,
              "#ed7953"
             ],
             [
              0.7777777777777778,
              "#fb9f3a"
             ],
             [
              0.8888888888888888,
              "#fdca26"
             ],
             [
              1,
              "#f0f921"
             ]
            ],
            "type": "histogram2dcontour"
           }
          ],
          "mesh3d": [
           {
            "colorbar": {
             "outlinewidth": 0,
             "ticks": ""
            },
            "type": "mesh3d"
           }
          ],
          "parcoords": [
           {
            "line": {
             "colorbar": {
              "outlinewidth": 0,
              "ticks": ""
             }
            },
            "type": "parcoords"
           }
          ],
          "pie": [
           {
            "automargin": true,
            "type": "pie"
           }
          ],
          "scatter": [
           {
            "marker": {
             "colorbar": {
              "outlinewidth": 0,
              "ticks": ""
             }
            },
            "type": "scatter"
           }
          ],
          "scatter3d": [
           {
            "line": {
             "colorbar": {
              "outlinewidth": 0,
              "ticks": ""
             }
            },
            "marker": {
             "colorbar": {
              "outlinewidth": 0,
              "ticks": ""
             }
            },
            "type": "scatter3d"
           }
          ],
          "scattercarpet": [
           {
            "marker": {
             "colorbar": {
              "outlinewidth": 0,
              "ticks": ""
             }
            },
            "type": "scattercarpet"
           }
          ],
          "scattergeo": [
           {
            "marker": {
             "colorbar": {
              "outlinewidth": 0,
              "ticks": ""
             }
            },
            "type": "scattergeo"
           }
          ],
          "scattergl": [
           {
            "marker": {
             "colorbar": {
              "outlinewidth": 0,
              "ticks": ""
             }
            },
            "type": "scattergl"
           }
          ],
          "scattermapbox": [
           {
            "marker": {
             "colorbar": {
              "outlinewidth": 0,
              "ticks": ""
             }
            },
            "type": "scattermapbox"
           }
          ],
          "scatterpolar": [
           {
            "marker": {
             "colorbar": {
              "outlinewidth": 0,
              "ticks": ""
             }
            },
            "type": "scatterpolar"
           }
          ],
          "scatterpolargl": [
           {
            "marker": {
             "colorbar": {
              "outlinewidth": 0,
              "ticks": ""
             }
            },
            "type": "scatterpolargl"
           }
          ],
          "scatterternary": [
           {
            "marker": {
             "colorbar": {
              "outlinewidth": 0,
              "ticks": ""
             }
            },
            "type": "scatterternary"
           }
          ],
          "surface": [
           {
            "colorbar": {
             "outlinewidth": 0,
             "ticks": ""
            },
            "colorscale": [
             [
              0,
              "#0d0887"
             ],
             [
              0.1111111111111111,
              "#46039f"
             ],
             [
              0.2222222222222222,
              "#7201a8"
             ],
             [
              0.3333333333333333,
              "#9c179e"
             ],
             [
              0.4444444444444444,
              "#bd3786"
             ],
             [
              0.5555555555555556,
              "#d8576b"
             ],
             [
              0.6666666666666666,
              "#ed7953"
             ],
             [
              0.7777777777777778,
              "#fb9f3a"
             ],
             [
              0.8888888888888888,
              "#fdca26"
             ],
             [
              1,
              "#f0f921"
             ]
            ],
            "type": "surface"
           }
          ],
          "table": [
           {
            "cells": {
             "fill": {
              "color": "#EBF0F8"
             },
             "line": {
              "color": "white"
             }
            },
            "header": {
             "fill": {
              "color": "#C8D4E3"
             },
             "line": {
              "color": "white"
             }
            },
            "type": "table"
           }
          ]
         },
         "layout": {
          "annotationdefaults": {
           "arrowcolor": "#2a3f5f",
           "arrowhead": 0,
           "arrowwidth": 1
          },
          "autotypenumbers": "strict",
          "coloraxis": {
           "colorbar": {
            "outlinewidth": 0,
            "ticks": ""
           }
          },
          "colorscale": {
           "diverging": [
            [
             0,
             "#8e0152"
            ],
            [
             0.1,
             "#c51b7d"
            ],
            [
             0.2,
             "#de77ae"
            ],
            [
             0.3,
             "#f1b6da"
            ],
            [
             0.4,
             "#fde0ef"
            ],
            [
             0.5,
             "#f7f7f7"
            ],
            [
             0.6,
             "#e6f5d0"
            ],
            [
             0.7,
             "#b8e186"
            ],
            [
             0.8,
             "#7fbc41"
            ],
            [
             0.9,
             "#4d9221"
            ],
            [
             1,
             "#276419"
            ]
           ],
           "sequential": [
            [
             0,
             "#0d0887"
            ],
            [
             0.1111111111111111,
             "#46039f"
            ],
            [
             0.2222222222222222,
             "#7201a8"
            ],
            [
             0.3333333333333333,
             "#9c179e"
            ],
            [
             0.4444444444444444,
             "#bd3786"
            ],
            [
             0.5555555555555556,
             "#d8576b"
            ],
            [
             0.6666666666666666,
             "#ed7953"
            ],
            [
             0.7777777777777778,
             "#fb9f3a"
            ],
            [
             0.8888888888888888,
             "#fdca26"
            ],
            [
             1,
             "#f0f921"
            ]
           ],
           "sequentialminus": [
            [
             0,
             "#0d0887"
            ],
            [
             0.1111111111111111,
             "#46039f"
            ],
            [
             0.2222222222222222,
             "#7201a8"
            ],
            [
             0.3333333333333333,
             "#9c179e"
            ],
            [
             0.4444444444444444,
             "#bd3786"
            ],
            [
             0.5555555555555556,
             "#d8576b"
            ],
            [
             0.6666666666666666,
             "#ed7953"
            ],
            [
             0.7777777777777778,
             "#fb9f3a"
            ],
            [
             0.8888888888888888,
             "#fdca26"
            ],
            [
             1,
             "#f0f921"
            ]
           ]
          },
          "colorway": [
           "#636efa",
           "#EF553B",
           "#00cc96",
           "#ab63fa",
           "#FFA15A",
           "#19d3f3",
           "#FF6692",
           "#B6E880",
           "#FF97FF",
           "#FECB52"
          ],
          "font": {
           "color": "#2a3f5f"
          },
          "geo": {
           "bgcolor": "white",
           "lakecolor": "white",
           "landcolor": "#E5ECF6",
           "showlakes": true,
           "showland": true,
           "subunitcolor": "white"
          },
          "hoverlabel": {
           "align": "left"
          },
          "hovermode": "closest",
          "mapbox": {
           "style": "light"
          },
          "paper_bgcolor": "white",
          "plot_bgcolor": "#E5ECF6",
          "polar": {
           "angularaxis": {
            "gridcolor": "white",
            "linecolor": "white",
            "ticks": ""
           },
           "bgcolor": "#E5ECF6",
           "radialaxis": {
            "gridcolor": "white",
            "linecolor": "white",
            "ticks": ""
           }
          },
          "scene": {
           "xaxis": {
            "backgroundcolor": "#E5ECF6",
            "gridcolor": "white",
            "gridwidth": 2,
            "linecolor": "white",
            "showbackground": true,
            "ticks": "",
            "zerolinecolor": "white"
           },
           "yaxis": {
            "backgroundcolor": "#E5ECF6",
            "gridcolor": "white",
            "gridwidth": 2,
            "linecolor": "white",
            "showbackground": true,
            "ticks": "",
            "zerolinecolor": "white"
           },
           "zaxis": {
            "backgroundcolor": "#E5ECF6",
            "gridcolor": "white",
            "gridwidth": 2,
            "linecolor": "white",
            "showbackground": true,
            "ticks": "",
            "zerolinecolor": "white"
           }
          },
          "shapedefaults": {
           "line": {
            "color": "#2a3f5f"
           }
          },
          "ternary": {
           "aaxis": {
            "gridcolor": "white",
            "linecolor": "white",
            "ticks": ""
           },
           "baxis": {
            "gridcolor": "white",
            "linecolor": "white",
            "ticks": ""
           },
           "bgcolor": "#E5ECF6",
           "caxis": {
            "gridcolor": "white",
            "linecolor": "white",
            "ticks": ""
           }
          },
          "title": {
           "x": 0.05
          },
          "xaxis": {
           "automargin": true,
           "gridcolor": "white",
           "linecolor": "white",
           "ticks": "",
           "title": {
            "standoff": 15
           },
           "zerolinecolor": "white",
           "zerolinewidth": 2
          },
          "yaxis": {
           "automargin": true,
           "gridcolor": "white",
           "linecolor": "white",
           "ticks": "",
           "title": {
            "standoff": 15
           },
           "zerolinecolor": "white",
           "zerolinewidth": 2
          }
         }
        },
        "title": {
         "text": "Slice Plot"
        },
        "width": 2100,
        "xaxis": {
         "anchor": "y",
         "domain": [
          0,
          0.1183673469387755
         ],
         "title": {
          "text": "bootstrap"
         }
        },
        "xaxis2": {
         "anchor": "y2",
         "domain": [
          0.14693877551020407,
          0.26530612244897955
         ],
         "title": {
          "text": "criterion"
         }
        },
        "xaxis3": {
         "anchor": "y3",
         "domain": [
          0.29387755102040813,
          0.4122448979591836
         ],
         "title": {
          "text": "max_depth"
         }
        },
        "xaxis4": {
         "anchor": "y4",
         "domain": [
          0.4408163265306122,
          0.5591836734693877
         ],
         "title": {
          "text": "max_samples"
         }
        },
        "xaxis5": {
         "anchor": "y5",
         "domain": [
          0.5877551020408163,
          0.7061224489795918
         ],
         "title": {
          "text": "n_estimators"
         }
        },
        "xaxis6": {
         "anchor": "y6",
         "domain": [
          0.7346938775510204,
          0.8530612244897959
         ],
         "title": {
          "text": "n_jobs"
         }
        },
        "xaxis7": {
         "anchor": "y7",
         "domain": [
          0.8816326530612244,
          0.9999999999999999
         ],
         "title": {
          "text": "random_state"
         }
        },
        "yaxis": {
         "anchor": "x",
         "domain": [
          0,
          1
         ],
         "title": {
          "text": "Objective Value"
         }
        },
        "yaxis2": {
         "anchor": "x2",
         "domain": [
          0,
          1
         ],
         "matches": "y",
         "showticklabels": false
        },
        "yaxis3": {
         "anchor": "x3",
         "domain": [
          0,
          1
         ],
         "matches": "y",
         "showticklabels": false
        },
        "yaxis4": {
         "anchor": "x4",
         "domain": [
          0,
          1
         ],
         "matches": "y",
         "showticklabels": false
        },
        "yaxis5": {
         "anchor": "x5",
         "domain": [
          0,
          1
         ],
         "matches": "y",
         "showticklabels": false
        },
        "yaxis6": {
         "anchor": "x6",
         "domain": [
          0,
          1
         ],
         "matches": "y",
         "showticklabels": false
        },
        "yaxis7": {
         "anchor": "x7",
         "domain": [
          0,
          1
         ],
         "matches": "y",
         "showticklabels": false
        }
       }
      },
      "text/html": [
       "<div>                            <div id=\"4f89c938-79f0-4b6f-a6f1-cbad13937523\" class=\"plotly-graph-div\" style=\"height:525px; width:2100px;\"></div>            <script type=\"text/javascript\">                require([\"plotly\"], function(Plotly) {                    window.PLOTLYENV=window.PLOTLYENV || {};                                    if (document.getElementById(\"4f89c938-79f0-4b6f-a6f1-cbad13937523\")) {                    Plotly.newPlot(                        \"4f89c938-79f0-4b6f-a6f1-cbad13937523\",                        [{\"marker\":{\"color\":[0,1,2,3,4,5,6,7,8,9,10,11,12,13,14,15,16,17,18,19,20,21,22,23,24,25,26,27,28,29],\"colorbar\":{\"title\":{\"text\":\"#Trials\"},\"x\":1.0,\"xpad\":40},\"colorscale\":[[0.0,\"rgb(247,251,255)\"],[0.125,\"rgb(222,235,247)\"],[0.25,\"rgb(198,219,239)\"],[0.375,\"rgb(158,202,225)\"],[0.5,\"rgb(107,174,214)\"],[0.625,\"rgb(66,146,198)\"],[0.75,\"rgb(33,113,181)\"],[0.875,\"rgb(8,81,156)\"],[1.0,\"rgb(8,48,107)\"]],\"line\":{\"color\":\"Grey\",\"width\":0.5},\"showscale\":true},\"mode\":\"markers\",\"showlegend\":false,\"type\":\"scatter\",\"x\":[\"True\",\"True\",\"True\",\"True\",\"True\",\"True\",\"True\",\"True\",\"True\",\"True\",\"True\",\"True\",\"True\",\"True\",\"True\",\"True\",\"True\",\"True\",\"True\",\"True\",\"True\",\"True\",\"True\",\"True\",\"True\",\"True\",\"True\",\"True\",\"True\",\"True\"],\"xaxis\":\"x\",\"y\":[0.6608176249564872,0.6601325973591153,0.6427771588193454,0.6638438873005293,0.656192223820365,0.6570654137698817,0.6609237574303389,0.6519632525317914,0.6298789019203499,0.6606913078662908,0.644323621739552,0.6645593456394623,0.6646287055317674,0.6646191118088253,0.6490389142945792,0.6648698628424137,0.6530680905287827,0.6566925900352235,0.6644974396978448,0.6314982702796567,0.6487787523188924,0.6645451245940481,0.6648411180668586,0.6607579171146112,0.6569722358985731,0.6646086228333111,0.6607266923600953,0.6649300128850217,0.6569293339613721,0.6612476568022565],\"yaxis\":\"y\"},{\"marker\":{\"color\":[0,1,2,3,4,5,6,7,8,9,10,11,12,13,14,15,16,17,18,19,20,21,22,23,24,25,26,27,28,29],\"colorbar\":{\"title\":{\"text\":\"#Trials\"},\"x\":1.0,\"xpad\":40},\"colorscale\":[[0.0,\"rgb(247,251,255)\"],[0.125,\"rgb(222,235,247)\"],[0.25,\"rgb(198,219,239)\"],[0.375,\"rgb(158,202,225)\"],[0.5,\"rgb(107,174,214)\"],[0.625,\"rgb(66,146,198)\"],[0.75,\"rgb(33,113,181)\"],[0.875,\"rgb(8,81,156)\"],[1.0,\"rgb(8,48,107)\"]],\"line\":{\"color\":\"Grey\",\"width\":0.5},\"showscale\":false},\"mode\":\"markers\",\"showlegend\":false,\"type\":\"scatter\",\"x\":[\"gini\",\"entropy\",\"gini\",\"entropy\",\"entropy\",\"gini\",\"gini\",\"gini\",\"entropy\",\"gini\",\"entropy\",\"entropy\",\"entropy\",\"entropy\",\"entropy\",\"entropy\",\"entropy\",\"entropy\",\"entropy\",\"entropy\",\"entropy\",\"entropy\",\"entropy\",\"entropy\",\"entropy\",\"entropy\",\"entropy\",\"entropy\",\"entropy\",\"gini\"],\"xaxis\":\"x2\",\"y\":[0.6608176249564872,0.6601325973591153,0.6427771588193454,0.6638438873005293,0.656192223820365,0.6570654137698817,0.6609237574303389,0.6519632525317914,0.6298789019203499,0.6606913078662908,0.644323621739552,0.6645593456394623,0.6646287055317674,0.6646191118088253,0.6490389142945792,0.6648698628424137,0.6530680905287827,0.6566925900352235,0.6644974396978448,0.6314982702796567,0.6487787523188924,0.6645451245940481,0.6648411180668586,0.6607579171146112,0.6569722358985731,0.6646086228333111,0.6607266923600953,0.6649300128850217,0.6569293339613721,0.6612476568022565],\"yaxis\":\"y2\"},{\"marker\":{\"color\":[0,1,2,3,4,5,6,7,8,9,10,11,12,13,14,15,16,17,18,19,20,21,22,23,24,25,26,27,28,29],\"colorbar\":{\"title\":{\"text\":\"#Trials\"},\"x\":1.0,\"xpad\":40},\"colorscale\":[[0.0,\"rgb(247,251,255)\"],[0.125,\"rgb(222,235,247)\"],[0.25,\"rgb(198,219,239)\"],[0.375,\"rgb(158,202,225)\"],[0.5,\"rgb(107,174,214)\"],[0.625,\"rgb(66,146,198)\"],[0.75,\"rgb(33,113,181)\"],[0.875,\"rgb(8,81,156)\"],[1.0,\"rgb(8,48,107)\"]],\"line\":{\"color\":\"Grey\",\"width\":0.5},\"showscale\":false},\"mode\":\"markers\",\"showlegend\":false,\"type\":\"scatter\",\"x\":[8,8,4,9,7,7,8,6,2,8,4,9,9,9,5,9,6,7,9,2,5,9,9,8,7,9,8,9,7,8],\"xaxis\":\"x3\",\"y\":[0.6608176249564872,0.6601325973591153,0.6427771588193454,0.6638438873005293,0.656192223820365,0.6570654137698817,0.6609237574303389,0.6519632525317914,0.6298789019203499,0.6606913078662908,0.644323621739552,0.6645593456394623,0.6646287055317674,0.6646191118088253,0.6490389142945792,0.6648698628424137,0.6530680905287827,0.6566925900352235,0.6644974396978448,0.6314982702796567,0.6487787523188924,0.6645451245940481,0.6648411180668586,0.6607579171146112,0.6569722358985731,0.6646086228333111,0.6607266923600953,0.6649300128850217,0.6569293339613721,0.6612476568022565],\"yaxis\":\"y3\"},{\"marker\":{\"color\":[0,1,2,3,4,5,6,7,8,9,10,11,12,13,14,15,16,17,18,19,20,21,22,23,24,25,26,27,28,29],\"colorbar\":{\"title\":{\"text\":\"#Trials\"},\"x\":1.0,\"xpad\":40},\"colorscale\":[[0.0,\"rgb(247,251,255)\"],[0.125,\"rgb(222,235,247)\"],[0.25,\"rgb(198,219,239)\"],[0.375,\"rgb(158,202,225)\"],[0.5,\"rgb(107,174,214)\"],[0.625,\"rgb(66,146,198)\"],[0.75,\"rgb(33,113,181)\"],[0.875,\"rgb(8,81,156)\"],[1.0,\"rgb(8,48,107)\"]],\"line\":{\"color\":\"Grey\",\"width\":0.5},\"showscale\":false},\"mode\":\"markers\",\"showlegend\":false,\"type\":\"scatter\",\"x\":[0.8335685304500571,0.846871159857764,0.9036602876322136,0.7974468353008204,0.8959408924322944,0.8389566847737745,0.8817689401428531,0.9310233966909693,0.7561587558513225,0.8037141232641825,0.7500123976620934,0.7953964778886542,0.7967846721551474,0.7943352046327946,0.779095196446515,0.8188441525172186,0.8183600000784966,0.8638454629932327,0.7765000194586029,0.8231783710552935,0.8543441741009762,0.7755549355301372,0.8126072453342384,0.8170993908802305,0.8107240356947015,0.8697932861109084,0.8283759009894696,0.7657015920690705,0.7647806712121554,0.8353493207837066],\"xaxis\":\"x4\",\"y\":[0.6608176249564872,0.6601325973591153,0.6427771588193454,0.6638438873005293,0.656192223820365,0.6570654137698817,0.6609237574303389,0.6519632525317914,0.6298789019203499,0.6606913078662908,0.644323621739552,0.6645593456394623,0.6646287055317674,0.6646191118088253,0.6490389142945792,0.6648698628424137,0.6530680905287827,0.6566925900352235,0.6644974396978448,0.6314982702796567,0.6487787523188924,0.6645451245940481,0.6648411180668586,0.6607579171146112,0.6569722358985731,0.6646086228333111,0.6607266923600953,0.6649300128850217,0.6569293339613721,0.6612476568022565],\"yaxis\":\"y4\"},{\"marker\":{\"color\":[0,1,2,3,4,5,6,7,8,9,10,11,12,13,14,15,16,17,18,19,20,21,22,23,24,25,26,27,28,29],\"colorbar\":{\"title\":{\"text\":\"#Trials\"},\"x\":1.0,\"xpad\":40},\"colorscale\":[[0.0,\"rgb(247,251,255)\"],[0.125,\"rgb(222,235,247)\"],[0.25,\"rgb(198,219,239)\"],[0.375,\"rgb(158,202,225)\"],[0.5,\"rgb(107,174,214)\"],[0.625,\"rgb(66,146,198)\"],[0.75,\"rgb(33,113,181)\"],[0.875,\"rgb(8,81,156)\"],[1.0,\"rgb(8,48,107)\"]],\"line\":{\"color\":\"Grey\",\"width\":0.5},\"showscale\":false},\"mode\":\"markers\",\"showlegend\":false,\"type\":\"scatter\",\"x\":[429,474,146,414,505,914,842,333,277,468,696,729,678,681,651,829,817,995,582,803,589,747,934,1000,914,890,625,772,766,883],\"xaxis\":\"x5\",\"y\":[0.6608176249564872,0.6601325973591153,0.6427771588193454,0.6638438873005293,0.656192223820365,0.6570654137698817,0.6609237574303389,0.6519632525317914,0.6298789019203499,0.6606913078662908,0.644323621739552,0.6645593456394623,0.6646287055317674,0.6646191118088253,0.6490389142945792,0.6648698628424137,0.6530680905287827,0.6566925900352235,0.6644974396978448,0.6314982702796567,0.6487787523188924,0.6645451245940481,0.6648411180668586,0.6607579171146112,0.6569722358985731,0.6646086228333111,0.6607266923600953,0.6649300128850217,0.6569293339613721,0.6612476568022565],\"yaxis\":\"y5\"},{\"marker\":{\"color\":[0,1,2,3,4,5,6,7,8,9,10,11,12,13,14,15,16,17,18,19,20,21,22,23,24,25,26,27,28,29],\"colorbar\":{\"title\":{\"text\":\"#Trials\"},\"x\":1.0,\"xpad\":40},\"colorscale\":[[0.0,\"rgb(247,251,255)\"],[0.125,\"rgb(222,235,247)\"],[0.25,\"rgb(198,219,239)\"],[0.375,\"rgb(158,202,225)\"],[0.5,\"rgb(107,174,214)\"],[0.625,\"rgb(66,146,198)\"],[0.75,\"rgb(33,113,181)\"],[0.875,\"rgb(8,81,156)\"],[1.0,\"rgb(8,48,107)\"]],\"line\":{\"color\":\"Grey\",\"width\":0.5},\"showscale\":false},\"mode\":\"markers\",\"showlegend\":false,\"type\":\"scatter\",\"x\":[-1,-1,-1,-1,-1,-1,-1,-1,-1,-1,-1,-1,-1,-1,-1,-1,-1,-1,-1,-1,-1,-1,-1,-1,-1,-1,-1,-1,-1,-1],\"xaxis\":\"x6\",\"y\":[0.6608176249564872,0.6601325973591153,0.6427771588193454,0.6638438873005293,0.656192223820365,0.6570654137698817,0.6609237574303389,0.6519632525317914,0.6298789019203499,0.6606913078662908,0.644323621739552,0.6645593456394623,0.6646287055317674,0.6646191118088253,0.6490389142945792,0.6648698628424137,0.6530680905287827,0.6566925900352235,0.6644974396978448,0.6314982702796567,0.6487787523188924,0.6645451245940481,0.6648411180668586,0.6607579171146112,0.6569722358985731,0.6646086228333111,0.6607266923600953,0.6649300128850217,0.6569293339613721,0.6612476568022565],\"yaxis\":\"y6\"},{\"marker\":{\"color\":[0,1,2,3,4,5,6,7,8,9,10,11,12,13,14,15,16,17,18,19,20,21,22,23,24,25,26,27,28,29],\"colorbar\":{\"title\":{\"text\":\"#Trials\"},\"x\":1.0,\"xpad\":40},\"colorscale\":[[0.0,\"rgb(247,251,255)\"],[0.125,\"rgb(222,235,247)\"],[0.25,\"rgb(198,219,239)\"],[0.375,\"rgb(158,202,225)\"],[0.5,\"rgb(107,174,214)\"],[0.625,\"rgb(66,146,198)\"],[0.75,\"rgb(33,113,181)\"],[0.875,\"rgb(8,81,156)\"],[1.0,\"rgb(8,48,107)\"]],\"line\":{\"color\":\"Grey\",\"width\":0.5},\"showscale\":false},\"mode\":\"markers\",\"showlegend\":false,\"type\":\"scatter\",\"x\":[12359,12359,12359,12359,12359,12359,12359,12359,12359,12359,12359,12359,12359,12359,12359,12359,12359,12359,12359,12359,12359,12359,12359,12359,12359,12359,12359,12359,12359,12359],\"xaxis\":\"x7\",\"y\":[0.6608176249564872,0.6601325973591153,0.6427771588193454,0.6638438873005293,0.656192223820365,0.6570654137698817,0.6609237574303389,0.6519632525317914,0.6298789019203499,0.6606913078662908,0.644323621739552,0.6645593456394623,0.6646287055317674,0.6646191118088253,0.6490389142945792,0.6648698628424137,0.6530680905287827,0.6566925900352235,0.6644974396978448,0.6314982702796567,0.6487787523188924,0.6645451245940481,0.6648411180668586,0.6607579171146112,0.6569722358985731,0.6646086228333111,0.6607266923600953,0.6649300128850217,0.6569293339613721,0.6612476568022565],\"yaxis\":\"y7\"}],                        {\"template\":{\"data\":{\"bar\":[{\"error_x\":{\"color\":\"#2a3f5f\"},\"error_y\":{\"color\":\"#2a3f5f\"},\"marker\":{\"line\":{\"color\":\"#E5ECF6\",\"width\":0.5},\"pattern\":{\"fillmode\":\"overlay\",\"size\":10,\"solidity\":0.2}},\"type\":\"bar\"}],\"barpolar\":[{\"marker\":{\"line\":{\"color\":\"#E5ECF6\",\"width\":0.5},\"pattern\":{\"fillmode\":\"overlay\",\"size\":10,\"solidity\":0.2}},\"type\":\"barpolar\"}],\"carpet\":[{\"aaxis\":{\"endlinecolor\":\"#2a3f5f\",\"gridcolor\":\"white\",\"linecolor\":\"white\",\"minorgridcolor\":\"white\",\"startlinecolor\":\"#2a3f5f\"},\"baxis\":{\"endlinecolor\":\"#2a3f5f\",\"gridcolor\":\"white\",\"linecolor\":\"white\",\"minorgridcolor\":\"white\",\"startlinecolor\":\"#2a3f5f\"},\"type\":\"carpet\"}],\"choropleth\":[{\"colorbar\":{\"outlinewidth\":0,\"ticks\":\"\"},\"type\":\"choropleth\"}],\"contour\":[{\"colorbar\":{\"outlinewidth\":0,\"ticks\":\"\"},\"colorscale\":[[0.0,\"#0d0887\"],[0.1111111111111111,\"#46039f\"],[0.2222222222222222,\"#7201a8\"],[0.3333333333333333,\"#9c179e\"],[0.4444444444444444,\"#bd3786\"],[0.5555555555555556,\"#d8576b\"],[0.6666666666666666,\"#ed7953\"],[0.7777777777777778,\"#fb9f3a\"],[0.8888888888888888,\"#fdca26\"],[1.0,\"#f0f921\"]],\"type\":\"contour\"}],\"contourcarpet\":[{\"colorbar\":{\"outlinewidth\":0,\"ticks\":\"\"},\"type\":\"contourcarpet\"}],\"heatmap\":[{\"colorbar\":{\"outlinewidth\":0,\"ticks\":\"\"},\"colorscale\":[[0.0,\"#0d0887\"],[0.1111111111111111,\"#46039f\"],[0.2222222222222222,\"#7201a8\"],[0.3333333333333333,\"#9c179e\"],[0.4444444444444444,\"#bd3786\"],[0.5555555555555556,\"#d8576b\"],[0.6666666666666666,\"#ed7953\"],[0.7777777777777778,\"#fb9f3a\"],[0.8888888888888888,\"#fdca26\"],[1.0,\"#f0f921\"]],\"type\":\"heatmap\"}],\"heatmapgl\":[{\"colorbar\":{\"outlinewidth\":0,\"ticks\":\"\"},\"colorscale\":[[0.0,\"#0d0887\"],[0.1111111111111111,\"#46039f\"],[0.2222222222222222,\"#7201a8\"],[0.3333333333333333,\"#9c179e\"],[0.4444444444444444,\"#bd3786\"],[0.5555555555555556,\"#d8576b\"],[0.6666666666666666,\"#ed7953\"],[0.7777777777777778,\"#fb9f3a\"],[0.8888888888888888,\"#fdca26\"],[1.0,\"#f0f921\"]],\"type\":\"heatmapgl\"}],\"histogram\":[{\"marker\":{\"pattern\":{\"fillmode\":\"overlay\",\"size\":10,\"solidity\":0.2}},\"type\":\"histogram\"}],\"histogram2d\":[{\"colorbar\":{\"outlinewidth\":0,\"ticks\":\"\"},\"colorscale\":[[0.0,\"#0d0887\"],[0.1111111111111111,\"#46039f\"],[0.2222222222222222,\"#7201a8\"],[0.3333333333333333,\"#9c179e\"],[0.4444444444444444,\"#bd3786\"],[0.5555555555555556,\"#d8576b\"],[0.6666666666666666,\"#ed7953\"],[0.7777777777777778,\"#fb9f3a\"],[0.8888888888888888,\"#fdca26\"],[1.0,\"#f0f921\"]],\"type\":\"histogram2d\"}],\"histogram2dcontour\":[{\"colorbar\":{\"outlinewidth\":0,\"ticks\":\"\"},\"colorscale\":[[0.0,\"#0d0887\"],[0.1111111111111111,\"#46039f\"],[0.2222222222222222,\"#7201a8\"],[0.3333333333333333,\"#9c179e\"],[0.4444444444444444,\"#bd3786\"],[0.5555555555555556,\"#d8576b\"],[0.6666666666666666,\"#ed7953\"],[0.7777777777777778,\"#fb9f3a\"],[0.8888888888888888,\"#fdca26\"],[1.0,\"#f0f921\"]],\"type\":\"histogram2dcontour\"}],\"mesh3d\":[{\"colorbar\":{\"outlinewidth\":0,\"ticks\":\"\"},\"type\":\"mesh3d\"}],\"parcoords\":[{\"line\":{\"colorbar\":{\"outlinewidth\":0,\"ticks\":\"\"}},\"type\":\"parcoords\"}],\"pie\":[{\"automargin\":true,\"type\":\"pie\"}],\"scatter\":[{\"marker\":{\"colorbar\":{\"outlinewidth\":0,\"ticks\":\"\"}},\"type\":\"scatter\"}],\"scatter3d\":[{\"line\":{\"colorbar\":{\"outlinewidth\":0,\"ticks\":\"\"}},\"marker\":{\"colorbar\":{\"outlinewidth\":0,\"ticks\":\"\"}},\"type\":\"scatter3d\"}],\"scattercarpet\":[{\"marker\":{\"colorbar\":{\"outlinewidth\":0,\"ticks\":\"\"}},\"type\":\"scattercarpet\"}],\"scattergeo\":[{\"marker\":{\"colorbar\":{\"outlinewidth\":0,\"ticks\":\"\"}},\"type\":\"scattergeo\"}],\"scattergl\":[{\"marker\":{\"colorbar\":{\"outlinewidth\":0,\"ticks\":\"\"}},\"type\":\"scattergl\"}],\"scattermapbox\":[{\"marker\":{\"colorbar\":{\"outlinewidth\":0,\"ticks\":\"\"}},\"type\":\"scattermapbox\"}],\"scatterpolar\":[{\"marker\":{\"colorbar\":{\"outlinewidth\":0,\"ticks\":\"\"}},\"type\":\"scatterpolar\"}],\"scatterpolargl\":[{\"marker\":{\"colorbar\":{\"outlinewidth\":0,\"ticks\":\"\"}},\"type\":\"scatterpolargl\"}],\"scatterternary\":[{\"marker\":{\"colorbar\":{\"outlinewidth\":0,\"ticks\":\"\"}},\"type\":\"scatterternary\"}],\"surface\":[{\"colorbar\":{\"outlinewidth\":0,\"ticks\":\"\"},\"colorscale\":[[0.0,\"#0d0887\"],[0.1111111111111111,\"#46039f\"],[0.2222222222222222,\"#7201a8\"],[0.3333333333333333,\"#9c179e\"],[0.4444444444444444,\"#bd3786\"],[0.5555555555555556,\"#d8576b\"],[0.6666666666666666,\"#ed7953\"],[0.7777777777777778,\"#fb9f3a\"],[0.8888888888888888,\"#fdca26\"],[1.0,\"#f0f921\"]],\"type\":\"surface\"}],\"table\":[{\"cells\":{\"fill\":{\"color\":\"#EBF0F8\"},\"line\":{\"color\":\"white\"}},\"header\":{\"fill\":{\"color\":\"#C8D4E3\"},\"line\":{\"color\":\"white\"}},\"type\":\"table\"}]},\"layout\":{\"annotationdefaults\":{\"arrowcolor\":\"#2a3f5f\",\"arrowhead\":0,\"arrowwidth\":1},\"autotypenumbers\":\"strict\",\"coloraxis\":{\"colorbar\":{\"outlinewidth\":0,\"ticks\":\"\"}},\"colorscale\":{\"diverging\":[[0,\"#8e0152\"],[0.1,\"#c51b7d\"],[0.2,\"#de77ae\"],[0.3,\"#f1b6da\"],[0.4,\"#fde0ef\"],[0.5,\"#f7f7f7\"],[0.6,\"#e6f5d0\"],[0.7,\"#b8e186\"],[0.8,\"#7fbc41\"],[0.9,\"#4d9221\"],[1,\"#276419\"]],\"sequential\":[[0.0,\"#0d0887\"],[0.1111111111111111,\"#46039f\"],[0.2222222222222222,\"#7201a8\"],[0.3333333333333333,\"#9c179e\"],[0.4444444444444444,\"#bd3786\"],[0.5555555555555556,\"#d8576b\"],[0.6666666666666666,\"#ed7953\"],[0.7777777777777778,\"#fb9f3a\"],[0.8888888888888888,\"#fdca26\"],[1.0,\"#f0f921\"]],\"sequentialminus\":[[0.0,\"#0d0887\"],[0.1111111111111111,\"#46039f\"],[0.2222222222222222,\"#7201a8\"],[0.3333333333333333,\"#9c179e\"],[0.4444444444444444,\"#bd3786\"],[0.5555555555555556,\"#d8576b\"],[0.6666666666666666,\"#ed7953\"],[0.7777777777777778,\"#fb9f3a\"],[0.8888888888888888,\"#fdca26\"],[1.0,\"#f0f921\"]]},\"colorway\":[\"#636efa\",\"#EF553B\",\"#00cc96\",\"#ab63fa\",\"#FFA15A\",\"#19d3f3\",\"#FF6692\",\"#B6E880\",\"#FF97FF\",\"#FECB52\"],\"font\":{\"color\":\"#2a3f5f\"},\"geo\":{\"bgcolor\":\"white\",\"lakecolor\":\"white\",\"landcolor\":\"#E5ECF6\",\"showlakes\":true,\"showland\":true,\"subunitcolor\":\"white\"},\"hoverlabel\":{\"align\":\"left\"},\"hovermode\":\"closest\",\"mapbox\":{\"style\":\"light\"},\"paper_bgcolor\":\"white\",\"plot_bgcolor\":\"#E5ECF6\",\"polar\":{\"angularaxis\":{\"gridcolor\":\"white\",\"linecolor\":\"white\",\"ticks\":\"\"},\"bgcolor\":\"#E5ECF6\",\"radialaxis\":{\"gridcolor\":\"white\",\"linecolor\":\"white\",\"ticks\":\"\"}},\"scene\":{\"xaxis\":{\"backgroundcolor\":\"#E5ECF6\",\"gridcolor\":\"white\",\"gridwidth\":2,\"linecolor\":\"white\",\"showbackground\":true,\"ticks\":\"\",\"zerolinecolor\":\"white\"},\"yaxis\":{\"backgroundcolor\":\"#E5ECF6\",\"gridcolor\":\"white\",\"gridwidth\":2,\"linecolor\":\"white\",\"showbackground\":true,\"ticks\":\"\",\"zerolinecolor\":\"white\"},\"zaxis\":{\"backgroundcolor\":\"#E5ECF6\",\"gridcolor\":\"white\",\"gridwidth\":2,\"linecolor\":\"white\",\"showbackground\":true,\"ticks\":\"\",\"zerolinecolor\":\"white\"}},\"shapedefaults\":{\"line\":{\"color\":\"#2a3f5f\"}},\"ternary\":{\"aaxis\":{\"gridcolor\":\"white\",\"linecolor\":\"white\",\"ticks\":\"\"},\"baxis\":{\"gridcolor\":\"white\",\"linecolor\":\"white\",\"ticks\":\"\"},\"bgcolor\":\"#E5ECF6\",\"caxis\":{\"gridcolor\":\"white\",\"linecolor\":\"white\",\"ticks\":\"\"}},\"title\":{\"x\":0.05},\"xaxis\":{\"automargin\":true,\"gridcolor\":\"white\",\"linecolor\":\"white\",\"ticks\":\"\",\"title\":{\"standoff\":15},\"zerolinecolor\":\"white\",\"zerolinewidth\":2},\"yaxis\":{\"automargin\":true,\"gridcolor\":\"white\",\"linecolor\":\"white\",\"ticks\":\"\",\"title\":{\"standoff\":15},\"zerolinecolor\":\"white\",\"zerolinewidth\":2}}},\"title\":{\"text\":\"Slice Plot\"},\"width\":2100,\"xaxis\":{\"anchor\":\"y\",\"domain\":[0.0,0.1183673469387755],\"title\":{\"text\":\"bootstrap\"}},\"xaxis2\":{\"anchor\":\"y2\",\"domain\":[0.14693877551020407,0.26530612244897955],\"title\":{\"text\":\"criterion\"}},\"xaxis3\":{\"anchor\":\"y3\",\"domain\":[0.29387755102040813,0.4122448979591836],\"title\":{\"text\":\"max_depth\"}},\"xaxis4\":{\"anchor\":\"y4\",\"domain\":[0.4408163265306122,0.5591836734693877],\"title\":{\"text\":\"max_samples\"}},\"xaxis5\":{\"anchor\":\"y5\",\"domain\":[0.5877551020408163,0.7061224489795918],\"title\":{\"text\":\"n_estimators\"}},\"xaxis6\":{\"anchor\":\"y6\",\"domain\":[0.7346938775510204,0.8530612244897959],\"title\":{\"text\":\"n_jobs\"}},\"xaxis7\":{\"anchor\":\"y7\",\"domain\":[0.8816326530612244,0.9999999999999999],\"title\":{\"text\":\"random_state\"}},\"yaxis\":{\"anchor\":\"x\",\"domain\":[0.0,1.0],\"title\":{\"text\":\"Objective Value\"}},\"yaxis2\":{\"anchor\":\"x2\",\"domain\":[0.0,1.0],\"matches\":\"y\",\"showticklabels\":false},\"yaxis3\":{\"anchor\":\"x3\",\"domain\":[0.0,1.0],\"matches\":\"y\",\"showticklabels\":false},\"yaxis4\":{\"anchor\":\"x4\",\"domain\":[0.0,1.0],\"matches\":\"y\",\"showticklabels\":false},\"yaxis5\":{\"anchor\":\"x5\",\"domain\":[0.0,1.0],\"matches\":\"y\",\"showticklabels\":false},\"yaxis6\":{\"anchor\":\"x6\",\"domain\":[0.0,1.0],\"matches\":\"y\",\"showticklabels\":false},\"yaxis7\":{\"anchor\":\"x7\",\"domain\":[0.0,1.0],\"matches\":\"y\",\"showticklabels\":false}},                        {\"responsive\": true}                    ).then(function(){\n",
       "                            \n",
       "var gd = document.getElementById('4f89c938-79f0-4b6f-a6f1-cbad13937523');\n",
       "var x = new MutationObserver(function (mutations, observer) {{\n",
       "        var display = window.getComputedStyle(gd).display;\n",
       "        if (!display || display === 'none') {{\n",
       "            console.log([gd, 'removed!']);\n",
       "            Plotly.purge(gd);\n",
       "            observer.disconnect();\n",
       "        }}\n",
       "}});\n",
       "\n",
       "// Listen for the removal of the full notebook cells\n",
       "var notebookContainer = gd.closest('#notebook-container');\n",
       "if (notebookContainer) {{\n",
       "    x.observe(notebookContainer, {childList: true});\n",
       "}}\n",
       "\n",
       "// Listen for the clearing of the current output cell\n",
       "var outputEl = gd.closest('.output');\n",
       "if (outputEl) {{\n",
       "    x.observe(outputEl, {childList: true});\n",
       "}}\n",
       "\n",
       "                        })                };                });            </script>        </div>"
      ]
     },
     "metadata": {},
     "output_type": "display_data"
    }
   ],
   "source": [
    "###################################################################################################\n",
    "# Visualize individual hyperparameters as slice plot. See :func:`~optuna.visualization.plot_slice` for the details.\n",
    "plot_slice(study)"
   ]
  },
  {
   "cell_type": "code",
   "execution_count": 125,
   "metadata": {
    "ExecuteTime": {
     "end_time": "2021-11-29T02:13:47.091052Z",
     "start_time": "2021-11-29T02:13:47.017780Z"
    },
    "executionInfo": {
     "elapsed": 22,
     "status": "aborted",
     "timestamp": 1638057557726,
     "user": {
      "displayName": "Rogério Delfim",
      "photoUrl": "https://lh3.googleusercontent.com/a-/AOh14Gj8lDYWTfZHU0U0sMojRPio71Ec7YDcSEpCaOEE=s64",
      "userId": "04235763959036945343"
     },
     "user_tz": 180
    },
    "id": "bRiuCit3ndh0"
   },
   "outputs": [
    {
     "data": {
      "application/vnd.plotly.v1+json": {
       "config": {
        "plotlyServerURL": "https://plot.ly"
       },
       "data": [
        {
         "marker": {
          "color": [
           0,
           1,
           2,
           3,
           4,
           5,
           6,
           7,
           8,
           9,
           10,
           11,
           12,
           13,
           14,
           15,
           16,
           17,
           18,
           19,
           20,
           21,
           22,
           23,
           24,
           25,
           26,
           27,
           28,
           29
          ],
          "colorbar": {
           "title": {
            "text": "#Trials"
           },
           "x": 1,
           "xpad": 40
          },
          "colorscale": [
           [
            0,
            "rgb(247,251,255)"
           ],
           [
            0.125,
            "rgb(222,235,247)"
           ],
           [
            0.25,
            "rgb(198,219,239)"
           ],
           [
            0.375,
            "rgb(158,202,225)"
           ],
           [
            0.5,
            "rgb(107,174,214)"
           ],
           [
            0.625,
            "rgb(66,146,198)"
           ],
           [
            0.75,
            "rgb(33,113,181)"
           ],
           [
            0.875,
            "rgb(8,81,156)"
           ],
           [
            1,
            "rgb(8,48,107)"
           ]
          ],
          "line": {
           "color": "Grey",
           "width": 0.5
          },
          "showscale": true
         },
         "mode": "markers",
         "showlegend": false,
         "type": "scatter",
         "x": [
          8,
          8,
          4,
          9,
          7,
          7,
          8,
          6,
          2,
          8,
          4,
          9,
          9,
          9,
          5,
          9,
          6,
          7,
          9,
          2,
          5,
          9,
          9,
          8,
          7,
          9,
          8,
          9,
          7,
          8
         ],
         "xaxis": "x",
         "y": [
          0.6608176249564872,
          0.6601325973591153,
          0.6427771588193454,
          0.6638438873005293,
          0.656192223820365,
          0.6570654137698817,
          0.6609237574303389,
          0.6519632525317914,
          0.6298789019203499,
          0.6606913078662908,
          0.644323621739552,
          0.6645593456394623,
          0.6646287055317674,
          0.6646191118088253,
          0.6490389142945792,
          0.6648698628424137,
          0.6530680905287827,
          0.6566925900352235,
          0.6644974396978448,
          0.6314982702796567,
          0.6487787523188924,
          0.6645451245940481,
          0.6648411180668586,
          0.6607579171146112,
          0.6569722358985731,
          0.6646086228333111,
          0.6607266923600953,
          0.6649300128850217,
          0.6569293339613721,
          0.6612476568022565
         ],
         "yaxis": "y"
        },
        {
         "marker": {
          "color": [
           0,
           1,
           2,
           3,
           4,
           5,
           6,
           7,
           8,
           9,
           10,
           11,
           12,
           13,
           14,
           15,
           16,
           17,
           18,
           19,
           20,
           21,
           22,
           23,
           24,
           25,
           26,
           27,
           28,
           29
          ],
          "colorbar": {
           "title": {
            "text": "#Trials"
           },
           "x": 1,
           "xpad": 40
          },
          "colorscale": [
           [
            0,
            "rgb(247,251,255)"
           ],
           [
            0.125,
            "rgb(222,235,247)"
           ],
           [
            0.25,
            "rgb(198,219,239)"
           ],
           [
            0.375,
            "rgb(158,202,225)"
           ],
           [
            0.5,
            "rgb(107,174,214)"
           ],
           [
            0.625,
            "rgb(66,146,198)"
           ],
           [
            0.75,
            "rgb(33,113,181)"
           ],
           [
            0.875,
            "rgb(8,81,156)"
           ],
           [
            1,
            "rgb(8,48,107)"
           ]
          ],
          "line": {
           "color": "Grey",
           "width": 0.5
          },
          "showscale": false
         },
         "mode": "markers",
         "showlegend": false,
         "type": "scatter",
         "x": [
          0.8335685304500571,
          0.846871159857764,
          0.9036602876322136,
          0.7974468353008204,
          0.8959408924322944,
          0.8389566847737745,
          0.8817689401428531,
          0.9310233966909693,
          0.7561587558513225,
          0.8037141232641825,
          0.7500123976620934,
          0.7953964778886542,
          0.7967846721551474,
          0.7943352046327946,
          0.779095196446515,
          0.8188441525172186,
          0.8183600000784966,
          0.8638454629932327,
          0.7765000194586029,
          0.8231783710552935,
          0.8543441741009762,
          0.7755549355301372,
          0.8126072453342384,
          0.8170993908802305,
          0.8107240356947015,
          0.8697932861109084,
          0.8283759009894696,
          0.7657015920690705,
          0.7647806712121554,
          0.8353493207837066
         ],
         "xaxis": "x2",
         "y": [
          0.6608176249564872,
          0.6601325973591153,
          0.6427771588193454,
          0.6638438873005293,
          0.656192223820365,
          0.6570654137698817,
          0.6609237574303389,
          0.6519632525317914,
          0.6298789019203499,
          0.6606913078662908,
          0.644323621739552,
          0.6645593456394623,
          0.6646287055317674,
          0.6646191118088253,
          0.6490389142945792,
          0.6648698628424137,
          0.6530680905287827,
          0.6566925900352235,
          0.6644974396978448,
          0.6314982702796567,
          0.6487787523188924,
          0.6645451245940481,
          0.6648411180668586,
          0.6607579171146112,
          0.6569722358985731,
          0.6646086228333111,
          0.6607266923600953,
          0.6649300128850217,
          0.6569293339613721,
          0.6612476568022565
         ],
         "yaxis": "y2"
        },
        {
         "marker": {
          "color": [
           0,
           1,
           2,
           3,
           4,
           5,
           6,
           7,
           8,
           9,
           10,
           11,
           12,
           13,
           14,
           15,
           16,
           17,
           18,
           19,
           20,
           21,
           22,
           23,
           24,
           25,
           26,
           27,
           28,
           29
          ],
          "colorbar": {
           "title": {
            "text": "#Trials"
           },
           "x": 1,
           "xpad": 40
          },
          "colorscale": [
           [
            0,
            "rgb(247,251,255)"
           ],
           [
            0.125,
            "rgb(222,235,247)"
           ],
           [
            0.25,
            "rgb(198,219,239)"
           ],
           [
            0.375,
            "rgb(158,202,225)"
           ],
           [
            0.5,
            "rgb(107,174,214)"
           ],
           [
            0.625,
            "rgb(66,146,198)"
           ],
           [
            0.75,
            "rgb(33,113,181)"
           ],
           [
            0.875,
            "rgb(8,81,156)"
           ],
           [
            1,
            "rgb(8,48,107)"
           ]
          ],
          "line": {
           "color": "Grey",
           "width": 0.5
          },
          "showscale": false
         },
         "mode": "markers",
         "showlegend": false,
         "type": "scatter",
         "x": [
          429,
          474,
          146,
          414,
          505,
          914,
          842,
          333,
          277,
          468,
          696,
          729,
          678,
          681,
          651,
          829,
          817,
          995,
          582,
          803,
          589,
          747,
          934,
          1000,
          914,
          890,
          625,
          772,
          766,
          883
         ],
         "xaxis": "x3",
         "y": [
          0.6608176249564872,
          0.6601325973591153,
          0.6427771588193454,
          0.6638438873005293,
          0.656192223820365,
          0.6570654137698817,
          0.6609237574303389,
          0.6519632525317914,
          0.6298789019203499,
          0.6606913078662908,
          0.644323621739552,
          0.6645593456394623,
          0.6646287055317674,
          0.6646191118088253,
          0.6490389142945792,
          0.6648698628424137,
          0.6530680905287827,
          0.6566925900352235,
          0.6644974396978448,
          0.6314982702796567,
          0.6487787523188924,
          0.6645451245940481,
          0.6648411180668586,
          0.6607579171146112,
          0.6569722358985731,
          0.6646086228333111,
          0.6607266923600953,
          0.6649300128850217,
          0.6569293339613721,
          0.6612476568022565
         ],
         "yaxis": "y3"
        }
       ],
       "layout": {
        "template": {
         "data": {
          "bar": [
           {
            "error_x": {
             "color": "#2a3f5f"
            },
            "error_y": {
             "color": "#2a3f5f"
            },
            "marker": {
             "line": {
              "color": "#E5ECF6",
              "width": 0.5
             },
             "pattern": {
              "fillmode": "overlay",
              "size": 10,
              "solidity": 0.2
             }
            },
            "type": "bar"
           }
          ],
          "barpolar": [
           {
            "marker": {
             "line": {
              "color": "#E5ECF6",
              "width": 0.5
             },
             "pattern": {
              "fillmode": "overlay",
              "size": 10,
              "solidity": 0.2
             }
            },
            "type": "barpolar"
           }
          ],
          "carpet": [
           {
            "aaxis": {
             "endlinecolor": "#2a3f5f",
             "gridcolor": "white",
             "linecolor": "white",
             "minorgridcolor": "white",
             "startlinecolor": "#2a3f5f"
            },
            "baxis": {
             "endlinecolor": "#2a3f5f",
             "gridcolor": "white",
             "linecolor": "white",
             "minorgridcolor": "white",
             "startlinecolor": "#2a3f5f"
            },
            "type": "carpet"
           }
          ],
          "choropleth": [
           {
            "colorbar": {
             "outlinewidth": 0,
             "ticks": ""
            },
            "type": "choropleth"
           }
          ],
          "contour": [
           {
            "colorbar": {
             "outlinewidth": 0,
             "ticks": ""
            },
            "colorscale": [
             [
              0,
              "#0d0887"
             ],
             [
              0.1111111111111111,
              "#46039f"
             ],
             [
              0.2222222222222222,
              "#7201a8"
             ],
             [
              0.3333333333333333,
              "#9c179e"
             ],
             [
              0.4444444444444444,
              "#bd3786"
             ],
             [
              0.5555555555555556,
              "#d8576b"
             ],
             [
              0.6666666666666666,
              "#ed7953"
             ],
             [
              0.7777777777777778,
              "#fb9f3a"
             ],
             [
              0.8888888888888888,
              "#fdca26"
             ],
             [
              1,
              "#f0f921"
             ]
            ],
            "type": "contour"
           }
          ],
          "contourcarpet": [
           {
            "colorbar": {
             "outlinewidth": 0,
             "ticks": ""
            },
            "type": "contourcarpet"
           }
          ],
          "heatmap": [
           {
            "colorbar": {
             "outlinewidth": 0,
             "ticks": ""
            },
            "colorscale": [
             [
              0,
              "#0d0887"
             ],
             [
              0.1111111111111111,
              "#46039f"
             ],
             [
              0.2222222222222222,
              "#7201a8"
             ],
             [
              0.3333333333333333,
              "#9c179e"
             ],
             [
              0.4444444444444444,
              "#bd3786"
             ],
             [
              0.5555555555555556,
              "#d8576b"
             ],
             [
              0.6666666666666666,
              "#ed7953"
             ],
             [
              0.7777777777777778,
              "#fb9f3a"
             ],
             [
              0.8888888888888888,
              "#fdca26"
             ],
             [
              1,
              "#f0f921"
             ]
            ],
            "type": "heatmap"
           }
          ],
          "heatmapgl": [
           {
            "colorbar": {
             "outlinewidth": 0,
             "ticks": ""
            },
            "colorscale": [
             [
              0,
              "#0d0887"
             ],
             [
              0.1111111111111111,
              "#46039f"
             ],
             [
              0.2222222222222222,
              "#7201a8"
             ],
             [
              0.3333333333333333,
              "#9c179e"
             ],
             [
              0.4444444444444444,
              "#bd3786"
             ],
             [
              0.5555555555555556,
              "#d8576b"
             ],
             [
              0.6666666666666666,
              "#ed7953"
             ],
             [
              0.7777777777777778,
              "#fb9f3a"
             ],
             [
              0.8888888888888888,
              "#fdca26"
             ],
             [
              1,
              "#f0f921"
             ]
            ],
            "type": "heatmapgl"
           }
          ],
          "histogram": [
           {
            "marker": {
             "pattern": {
              "fillmode": "overlay",
              "size": 10,
              "solidity": 0.2
             }
            },
            "type": "histogram"
           }
          ],
          "histogram2d": [
           {
            "colorbar": {
             "outlinewidth": 0,
             "ticks": ""
            },
            "colorscale": [
             [
              0,
              "#0d0887"
             ],
             [
              0.1111111111111111,
              "#46039f"
             ],
             [
              0.2222222222222222,
              "#7201a8"
             ],
             [
              0.3333333333333333,
              "#9c179e"
             ],
             [
              0.4444444444444444,
              "#bd3786"
             ],
             [
              0.5555555555555556,
              "#d8576b"
             ],
             [
              0.6666666666666666,
              "#ed7953"
             ],
             [
              0.7777777777777778,
              "#fb9f3a"
             ],
             [
              0.8888888888888888,
              "#fdca26"
             ],
             [
              1,
              "#f0f921"
             ]
            ],
            "type": "histogram2d"
           }
          ],
          "histogram2dcontour": [
           {
            "colorbar": {
             "outlinewidth": 0,
             "ticks": ""
            },
            "colorscale": [
             [
              0,
              "#0d0887"
             ],
             [
              0.1111111111111111,
              "#46039f"
             ],
             [
              0.2222222222222222,
              "#7201a8"
             ],
             [
              0.3333333333333333,
              "#9c179e"
             ],
             [
              0.4444444444444444,
              "#bd3786"
             ],
             [
              0.5555555555555556,
              "#d8576b"
             ],
             [
              0.6666666666666666,
              "#ed7953"
             ],
             [
              0.7777777777777778,
              "#fb9f3a"
             ],
             [
              0.8888888888888888,
              "#fdca26"
             ],
             [
              1,
              "#f0f921"
             ]
            ],
            "type": "histogram2dcontour"
           }
          ],
          "mesh3d": [
           {
            "colorbar": {
             "outlinewidth": 0,
             "ticks": ""
            },
            "type": "mesh3d"
           }
          ],
          "parcoords": [
           {
            "line": {
             "colorbar": {
              "outlinewidth": 0,
              "ticks": ""
             }
            },
            "type": "parcoords"
           }
          ],
          "pie": [
           {
            "automargin": true,
            "type": "pie"
           }
          ],
          "scatter": [
           {
            "marker": {
             "colorbar": {
              "outlinewidth": 0,
              "ticks": ""
             }
            },
            "type": "scatter"
           }
          ],
          "scatter3d": [
           {
            "line": {
             "colorbar": {
              "outlinewidth": 0,
              "ticks": ""
             }
            },
            "marker": {
             "colorbar": {
              "outlinewidth": 0,
              "ticks": ""
             }
            },
            "type": "scatter3d"
           }
          ],
          "scattercarpet": [
           {
            "marker": {
             "colorbar": {
              "outlinewidth": 0,
              "ticks": ""
             }
            },
            "type": "scattercarpet"
           }
          ],
          "scattergeo": [
           {
            "marker": {
             "colorbar": {
              "outlinewidth": 0,
              "ticks": ""
             }
            },
            "type": "scattergeo"
           }
          ],
          "scattergl": [
           {
            "marker": {
             "colorbar": {
              "outlinewidth": 0,
              "ticks": ""
             }
            },
            "type": "scattergl"
           }
          ],
          "scattermapbox": [
           {
            "marker": {
             "colorbar": {
              "outlinewidth": 0,
              "ticks": ""
             }
            },
            "type": "scattermapbox"
           }
          ],
          "scatterpolar": [
           {
            "marker": {
             "colorbar": {
              "outlinewidth": 0,
              "ticks": ""
             }
            },
            "type": "scatterpolar"
           }
          ],
          "scatterpolargl": [
           {
            "marker": {
             "colorbar": {
              "outlinewidth": 0,
              "ticks": ""
             }
            },
            "type": "scatterpolargl"
           }
          ],
          "scatterternary": [
           {
            "marker": {
             "colorbar": {
              "outlinewidth": 0,
              "ticks": ""
             }
            },
            "type": "scatterternary"
           }
          ],
          "surface": [
           {
            "colorbar": {
             "outlinewidth": 0,
             "ticks": ""
            },
            "colorscale": [
             [
              0,
              "#0d0887"
             ],
             [
              0.1111111111111111,
              "#46039f"
             ],
             [
              0.2222222222222222,
              "#7201a8"
             ],
             [
              0.3333333333333333,
              "#9c179e"
             ],
             [
              0.4444444444444444,
              "#bd3786"
             ],
             [
              0.5555555555555556,
              "#d8576b"
             ],
             [
              0.6666666666666666,
              "#ed7953"
             ],
             [
              0.7777777777777778,
              "#fb9f3a"
             ],
             [
              0.8888888888888888,
              "#fdca26"
             ],
             [
              1,
              "#f0f921"
             ]
            ],
            "type": "surface"
           }
          ],
          "table": [
           {
            "cells": {
             "fill": {
              "color": "#EBF0F8"
             },
             "line": {
              "color": "white"
             }
            },
            "header": {
             "fill": {
              "color": "#C8D4E3"
             },
             "line": {
              "color": "white"
             }
            },
            "type": "table"
           }
          ]
         },
         "layout": {
          "annotationdefaults": {
           "arrowcolor": "#2a3f5f",
           "arrowhead": 0,
           "arrowwidth": 1
          },
          "autotypenumbers": "strict",
          "coloraxis": {
           "colorbar": {
            "outlinewidth": 0,
            "ticks": ""
           }
          },
          "colorscale": {
           "diverging": [
            [
             0,
             "#8e0152"
            ],
            [
             0.1,
             "#c51b7d"
            ],
            [
             0.2,
             "#de77ae"
            ],
            [
             0.3,
             "#f1b6da"
            ],
            [
             0.4,
             "#fde0ef"
            ],
            [
             0.5,
             "#f7f7f7"
            ],
            [
             0.6,
             "#e6f5d0"
            ],
            [
             0.7,
             "#b8e186"
            ],
            [
             0.8,
             "#7fbc41"
            ],
            [
             0.9,
             "#4d9221"
            ],
            [
             1,
             "#276419"
            ]
           ],
           "sequential": [
            [
             0,
             "#0d0887"
            ],
            [
             0.1111111111111111,
             "#46039f"
            ],
            [
             0.2222222222222222,
             "#7201a8"
            ],
            [
             0.3333333333333333,
             "#9c179e"
            ],
            [
             0.4444444444444444,
             "#bd3786"
            ],
            [
             0.5555555555555556,
             "#d8576b"
            ],
            [
             0.6666666666666666,
             "#ed7953"
            ],
            [
             0.7777777777777778,
             "#fb9f3a"
            ],
            [
             0.8888888888888888,
             "#fdca26"
            ],
            [
             1,
             "#f0f921"
            ]
           ],
           "sequentialminus": [
            [
             0,
             "#0d0887"
            ],
            [
             0.1111111111111111,
             "#46039f"
            ],
            [
             0.2222222222222222,
             "#7201a8"
            ],
            [
             0.3333333333333333,
             "#9c179e"
            ],
            [
             0.4444444444444444,
             "#bd3786"
            ],
            [
             0.5555555555555556,
             "#d8576b"
            ],
            [
             0.6666666666666666,
             "#ed7953"
            ],
            [
             0.7777777777777778,
             "#fb9f3a"
            ],
            [
             0.8888888888888888,
             "#fdca26"
            ],
            [
             1,
             "#f0f921"
            ]
           ]
          },
          "colorway": [
           "#636efa",
           "#EF553B",
           "#00cc96",
           "#ab63fa",
           "#FFA15A",
           "#19d3f3",
           "#FF6692",
           "#B6E880",
           "#FF97FF",
           "#FECB52"
          ],
          "font": {
           "color": "#2a3f5f"
          },
          "geo": {
           "bgcolor": "white",
           "lakecolor": "white",
           "landcolor": "#E5ECF6",
           "showlakes": true,
           "showland": true,
           "subunitcolor": "white"
          },
          "hoverlabel": {
           "align": "left"
          },
          "hovermode": "closest",
          "mapbox": {
           "style": "light"
          },
          "paper_bgcolor": "white",
          "plot_bgcolor": "#E5ECF6",
          "polar": {
           "angularaxis": {
            "gridcolor": "white",
            "linecolor": "white",
            "ticks": ""
           },
           "bgcolor": "#E5ECF6",
           "radialaxis": {
            "gridcolor": "white",
            "linecolor": "white",
            "ticks": ""
           }
          },
          "scene": {
           "xaxis": {
            "backgroundcolor": "#E5ECF6",
            "gridcolor": "white",
            "gridwidth": 2,
            "linecolor": "white",
            "showbackground": true,
            "ticks": "",
            "zerolinecolor": "white"
           },
           "yaxis": {
            "backgroundcolor": "#E5ECF6",
            "gridcolor": "white",
            "gridwidth": 2,
            "linecolor": "white",
            "showbackground": true,
            "ticks": "",
            "zerolinecolor": "white"
           },
           "zaxis": {
            "backgroundcolor": "#E5ECF6",
            "gridcolor": "white",
            "gridwidth": 2,
            "linecolor": "white",
            "showbackground": true,
            "ticks": "",
            "zerolinecolor": "white"
           }
          },
          "shapedefaults": {
           "line": {
            "color": "#2a3f5f"
           }
          },
          "ternary": {
           "aaxis": {
            "gridcolor": "white",
            "linecolor": "white",
            "ticks": ""
           },
           "baxis": {
            "gridcolor": "white",
            "linecolor": "white",
            "ticks": ""
           },
           "bgcolor": "#E5ECF6",
           "caxis": {
            "gridcolor": "white",
            "linecolor": "white",
            "ticks": ""
           }
          },
          "title": {
           "x": 0.05
          },
          "xaxis": {
           "automargin": true,
           "gridcolor": "white",
           "linecolor": "white",
           "ticks": "",
           "title": {
            "standoff": 15
           },
           "zerolinecolor": "white",
           "zerolinewidth": 2
          },
          "yaxis": {
           "automargin": true,
           "gridcolor": "white",
           "linecolor": "white",
           "ticks": "",
           "title": {
            "standoff": 15
           },
           "zerolinecolor": "white",
           "zerolinewidth": 2
          }
         }
        },
        "title": {
         "text": "Slice Plot"
        },
        "xaxis": {
         "anchor": "y",
         "domain": [
          0,
          0.2888888888888889
         ],
         "title": {
          "text": "max_depth"
         }
        },
        "xaxis2": {
         "anchor": "y2",
         "domain": [
          0.35555555555555557,
          0.6444444444444445
         ],
         "title": {
          "text": "max_samples"
         }
        },
        "xaxis3": {
         "anchor": "y3",
         "domain": [
          0.7111111111111111,
          1
         ],
         "title": {
          "text": "n_estimators"
         }
        },
        "yaxis": {
         "anchor": "x",
         "domain": [
          0,
          1
         ],
         "title": {
          "text": "Objective Value"
         }
        },
        "yaxis2": {
         "anchor": "x2",
         "domain": [
          0,
          1
         ],
         "matches": "y",
         "showticklabels": false
        },
        "yaxis3": {
         "anchor": "x3",
         "domain": [
          0,
          1
         ],
         "matches": "y",
         "showticklabels": false
        }
       }
      },
      "text/html": [
       "<div>                            <div id=\"e86f7aaa-68d4-4cc1-9563-f0c44384cfa3\" class=\"plotly-graph-div\" style=\"height:525px; width:100%;\"></div>            <script type=\"text/javascript\">                require([\"plotly\"], function(Plotly) {                    window.PLOTLYENV=window.PLOTLYENV || {};                                    if (document.getElementById(\"e86f7aaa-68d4-4cc1-9563-f0c44384cfa3\")) {                    Plotly.newPlot(                        \"e86f7aaa-68d4-4cc1-9563-f0c44384cfa3\",                        [{\"marker\":{\"color\":[0,1,2,3,4,5,6,7,8,9,10,11,12,13,14,15,16,17,18,19,20,21,22,23,24,25,26,27,28,29],\"colorbar\":{\"title\":{\"text\":\"#Trials\"},\"x\":1.0,\"xpad\":40},\"colorscale\":[[0.0,\"rgb(247,251,255)\"],[0.125,\"rgb(222,235,247)\"],[0.25,\"rgb(198,219,239)\"],[0.375,\"rgb(158,202,225)\"],[0.5,\"rgb(107,174,214)\"],[0.625,\"rgb(66,146,198)\"],[0.75,\"rgb(33,113,181)\"],[0.875,\"rgb(8,81,156)\"],[1.0,\"rgb(8,48,107)\"]],\"line\":{\"color\":\"Grey\",\"width\":0.5},\"showscale\":true},\"mode\":\"markers\",\"showlegend\":false,\"type\":\"scatter\",\"x\":[8,8,4,9,7,7,8,6,2,8,4,9,9,9,5,9,6,7,9,2,5,9,9,8,7,9,8,9,7,8],\"xaxis\":\"x\",\"y\":[0.6608176249564872,0.6601325973591153,0.6427771588193454,0.6638438873005293,0.656192223820365,0.6570654137698817,0.6609237574303389,0.6519632525317914,0.6298789019203499,0.6606913078662908,0.644323621739552,0.6645593456394623,0.6646287055317674,0.6646191118088253,0.6490389142945792,0.6648698628424137,0.6530680905287827,0.6566925900352235,0.6644974396978448,0.6314982702796567,0.6487787523188924,0.6645451245940481,0.6648411180668586,0.6607579171146112,0.6569722358985731,0.6646086228333111,0.6607266923600953,0.6649300128850217,0.6569293339613721,0.6612476568022565],\"yaxis\":\"y\"},{\"marker\":{\"color\":[0,1,2,3,4,5,6,7,8,9,10,11,12,13,14,15,16,17,18,19,20,21,22,23,24,25,26,27,28,29],\"colorbar\":{\"title\":{\"text\":\"#Trials\"},\"x\":1.0,\"xpad\":40},\"colorscale\":[[0.0,\"rgb(247,251,255)\"],[0.125,\"rgb(222,235,247)\"],[0.25,\"rgb(198,219,239)\"],[0.375,\"rgb(158,202,225)\"],[0.5,\"rgb(107,174,214)\"],[0.625,\"rgb(66,146,198)\"],[0.75,\"rgb(33,113,181)\"],[0.875,\"rgb(8,81,156)\"],[1.0,\"rgb(8,48,107)\"]],\"line\":{\"color\":\"Grey\",\"width\":0.5},\"showscale\":false},\"mode\":\"markers\",\"showlegend\":false,\"type\":\"scatter\",\"x\":[0.8335685304500571,0.846871159857764,0.9036602876322136,0.7974468353008204,0.8959408924322944,0.8389566847737745,0.8817689401428531,0.9310233966909693,0.7561587558513225,0.8037141232641825,0.7500123976620934,0.7953964778886542,0.7967846721551474,0.7943352046327946,0.779095196446515,0.8188441525172186,0.8183600000784966,0.8638454629932327,0.7765000194586029,0.8231783710552935,0.8543441741009762,0.7755549355301372,0.8126072453342384,0.8170993908802305,0.8107240356947015,0.8697932861109084,0.8283759009894696,0.7657015920690705,0.7647806712121554,0.8353493207837066],\"xaxis\":\"x2\",\"y\":[0.6608176249564872,0.6601325973591153,0.6427771588193454,0.6638438873005293,0.656192223820365,0.6570654137698817,0.6609237574303389,0.6519632525317914,0.6298789019203499,0.6606913078662908,0.644323621739552,0.6645593456394623,0.6646287055317674,0.6646191118088253,0.6490389142945792,0.6648698628424137,0.6530680905287827,0.6566925900352235,0.6644974396978448,0.6314982702796567,0.6487787523188924,0.6645451245940481,0.6648411180668586,0.6607579171146112,0.6569722358985731,0.6646086228333111,0.6607266923600953,0.6649300128850217,0.6569293339613721,0.6612476568022565],\"yaxis\":\"y2\"},{\"marker\":{\"color\":[0,1,2,3,4,5,6,7,8,9,10,11,12,13,14,15,16,17,18,19,20,21,22,23,24,25,26,27,28,29],\"colorbar\":{\"title\":{\"text\":\"#Trials\"},\"x\":1.0,\"xpad\":40},\"colorscale\":[[0.0,\"rgb(247,251,255)\"],[0.125,\"rgb(222,235,247)\"],[0.25,\"rgb(198,219,239)\"],[0.375,\"rgb(158,202,225)\"],[0.5,\"rgb(107,174,214)\"],[0.625,\"rgb(66,146,198)\"],[0.75,\"rgb(33,113,181)\"],[0.875,\"rgb(8,81,156)\"],[1.0,\"rgb(8,48,107)\"]],\"line\":{\"color\":\"Grey\",\"width\":0.5},\"showscale\":false},\"mode\":\"markers\",\"showlegend\":false,\"type\":\"scatter\",\"x\":[429,474,146,414,505,914,842,333,277,468,696,729,678,681,651,829,817,995,582,803,589,747,934,1000,914,890,625,772,766,883],\"xaxis\":\"x3\",\"y\":[0.6608176249564872,0.6601325973591153,0.6427771588193454,0.6638438873005293,0.656192223820365,0.6570654137698817,0.6609237574303389,0.6519632525317914,0.6298789019203499,0.6606913078662908,0.644323621739552,0.6645593456394623,0.6646287055317674,0.6646191118088253,0.6490389142945792,0.6648698628424137,0.6530680905287827,0.6566925900352235,0.6644974396978448,0.6314982702796567,0.6487787523188924,0.6645451245940481,0.6648411180668586,0.6607579171146112,0.6569722358985731,0.6646086228333111,0.6607266923600953,0.6649300128850217,0.6569293339613721,0.6612476568022565],\"yaxis\":\"y3\"}],                        {\"template\":{\"data\":{\"bar\":[{\"error_x\":{\"color\":\"#2a3f5f\"},\"error_y\":{\"color\":\"#2a3f5f\"},\"marker\":{\"line\":{\"color\":\"#E5ECF6\",\"width\":0.5},\"pattern\":{\"fillmode\":\"overlay\",\"size\":10,\"solidity\":0.2}},\"type\":\"bar\"}],\"barpolar\":[{\"marker\":{\"line\":{\"color\":\"#E5ECF6\",\"width\":0.5},\"pattern\":{\"fillmode\":\"overlay\",\"size\":10,\"solidity\":0.2}},\"type\":\"barpolar\"}],\"carpet\":[{\"aaxis\":{\"endlinecolor\":\"#2a3f5f\",\"gridcolor\":\"white\",\"linecolor\":\"white\",\"minorgridcolor\":\"white\",\"startlinecolor\":\"#2a3f5f\"},\"baxis\":{\"endlinecolor\":\"#2a3f5f\",\"gridcolor\":\"white\",\"linecolor\":\"white\",\"minorgridcolor\":\"white\",\"startlinecolor\":\"#2a3f5f\"},\"type\":\"carpet\"}],\"choropleth\":[{\"colorbar\":{\"outlinewidth\":0,\"ticks\":\"\"},\"type\":\"choropleth\"}],\"contour\":[{\"colorbar\":{\"outlinewidth\":0,\"ticks\":\"\"},\"colorscale\":[[0.0,\"#0d0887\"],[0.1111111111111111,\"#46039f\"],[0.2222222222222222,\"#7201a8\"],[0.3333333333333333,\"#9c179e\"],[0.4444444444444444,\"#bd3786\"],[0.5555555555555556,\"#d8576b\"],[0.6666666666666666,\"#ed7953\"],[0.7777777777777778,\"#fb9f3a\"],[0.8888888888888888,\"#fdca26\"],[1.0,\"#f0f921\"]],\"type\":\"contour\"}],\"contourcarpet\":[{\"colorbar\":{\"outlinewidth\":0,\"ticks\":\"\"},\"type\":\"contourcarpet\"}],\"heatmap\":[{\"colorbar\":{\"outlinewidth\":0,\"ticks\":\"\"},\"colorscale\":[[0.0,\"#0d0887\"],[0.1111111111111111,\"#46039f\"],[0.2222222222222222,\"#7201a8\"],[0.3333333333333333,\"#9c179e\"],[0.4444444444444444,\"#bd3786\"],[0.5555555555555556,\"#d8576b\"],[0.6666666666666666,\"#ed7953\"],[0.7777777777777778,\"#fb9f3a\"],[0.8888888888888888,\"#fdca26\"],[1.0,\"#f0f921\"]],\"type\":\"heatmap\"}],\"heatmapgl\":[{\"colorbar\":{\"outlinewidth\":0,\"ticks\":\"\"},\"colorscale\":[[0.0,\"#0d0887\"],[0.1111111111111111,\"#46039f\"],[0.2222222222222222,\"#7201a8\"],[0.3333333333333333,\"#9c179e\"],[0.4444444444444444,\"#bd3786\"],[0.5555555555555556,\"#d8576b\"],[0.6666666666666666,\"#ed7953\"],[0.7777777777777778,\"#fb9f3a\"],[0.8888888888888888,\"#fdca26\"],[1.0,\"#f0f921\"]],\"type\":\"heatmapgl\"}],\"histogram\":[{\"marker\":{\"pattern\":{\"fillmode\":\"overlay\",\"size\":10,\"solidity\":0.2}},\"type\":\"histogram\"}],\"histogram2d\":[{\"colorbar\":{\"outlinewidth\":0,\"ticks\":\"\"},\"colorscale\":[[0.0,\"#0d0887\"],[0.1111111111111111,\"#46039f\"],[0.2222222222222222,\"#7201a8\"],[0.3333333333333333,\"#9c179e\"],[0.4444444444444444,\"#bd3786\"],[0.5555555555555556,\"#d8576b\"],[0.6666666666666666,\"#ed7953\"],[0.7777777777777778,\"#fb9f3a\"],[0.8888888888888888,\"#fdca26\"],[1.0,\"#f0f921\"]],\"type\":\"histogram2d\"}],\"histogram2dcontour\":[{\"colorbar\":{\"outlinewidth\":0,\"ticks\":\"\"},\"colorscale\":[[0.0,\"#0d0887\"],[0.1111111111111111,\"#46039f\"],[0.2222222222222222,\"#7201a8\"],[0.3333333333333333,\"#9c179e\"],[0.4444444444444444,\"#bd3786\"],[0.5555555555555556,\"#d8576b\"],[0.6666666666666666,\"#ed7953\"],[0.7777777777777778,\"#fb9f3a\"],[0.8888888888888888,\"#fdca26\"],[1.0,\"#f0f921\"]],\"type\":\"histogram2dcontour\"}],\"mesh3d\":[{\"colorbar\":{\"outlinewidth\":0,\"ticks\":\"\"},\"type\":\"mesh3d\"}],\"parcoords\":[{\"line\":{\"colorbar\":{\"outlinewidth\":0,\"ticks\":\"\"}},\"type\":\"parcoords\"}],\"pie\":[{\"automargin\":true,\"type\":\"pie\"}],\"scatter\":[{\"marker\":{\"colorbar\":{\"outlinewidth\":0,\"ticks\":\"\"}},\"type\":\"scatter\"}],\"scatter3d\":[{\"line\":{\"colorbar\":{\"outlinewidth\":0,\"ticks\":\"\"}},\"marker\":{\"colorbar\":{\"outlinewidth\":0,\"ticks\":\"\"}},\"type\":\"scatter3d\"}],\"scattercarpet\":[{\"marker\":{\"colorbar\":{\"outlinewidth\":0,\"ticks\":\"\"}},\"type\":\"scattercarpet\"}],\"scattergeo\":[{\"marker\":{\"colorbar\":{\"outlinewidth\":0,\"ticks\":\"\"}},\"type\":\"scattergeo\"}],\"scattergl\":[{\"marker\":{\"colorbar\":{\"outlinewidth\":0,\"ticks\":\"\"}},\"type\":\"scattergl\"}],\"scattermapbox\":[{\"marker\":{\"colorbar\":{\"outlinewidth\":0,\"ticks\":\"\"}},\"type\":\"scattermapbox\"}],\"scatterpolar\":[{\"marker\":{\"colorbar\":{\"outlinewidth\":0,\"ticks\":\"\"}},\"type\":\"scatterpolar\"}],\"scatterpolargl\":[{\"marker\":{\"colorbar\":{\"outlinewidth\":0,\"ticks\":\"\"}},\"type\":\"scatterpolargl\"}],\"scatterternary\":[{\"marker\":{\"colorbar\":{\"outlinewidth\":0,\"ticks\":\"\"}},\"type\":\"scatterternary\"}],\"surface\":[{\"colorbar\":{\"outlinewidth\":0,\"ticks\":\"\"},\"colorscale\":[[0.0,\"#0d0887\"],[0.1111111111111111,\"#46039f\"],[0.2222222222222222,\"#7201a8\"],[0.3333333333333333,\"#9c179e\"],[0.4444444444444444,\"#bd3786\"],[0.5555555555555556,\"#d8576b\"],[0.6666666666666666,\"#ed7953\"],[0.7777777777777778,\"#fb9f3a\"],[0.8888888888888888,\"#fdca26\"],[1.0,\"#f0f921\"]],\"type\":\"surface\"}],\"table\":[{\"cells\":{\"fill\":{\"color\":\"#EBF0F8\"},\"line\":{\"color\":\"white\"}},\"header\":{\"fill\":{\"color\":\"#C8D4E3\"},\"line\":{\"color\":\"white\"}},\"type\":\"table\"}]},\"layout\":{\"annotationdefaults\":{\"arrowcolor\":\"#2a3f5f\",\"arrowhead\":0,\"arrowwidth\":1},\"autotypenumbers\":\"strict\",\"coloraxis\":{\"colorbar\":{\"outlinewidth\":0,\"ticks\":\"\"}},\"colorscale\":{\"diverging\":[[0,\"#8e0152\"],[0.1,\"#c51b7d\"],[0.2,\"#de77ae\"],[0.3,\"#f1b6da\"],[0.4,\"#fde0ef\"],[0.5,\"#f7f7f7\"],[0.6,\"#e6f5d0\"],[0.7,\"#b8e186\"],[0.8,\"#7fbc41\"],[0.9,\"#4d9221\"],[1,\"#276419\"]],\"sequential\":[[0.0,\"#0d0887\"],[0.1111111111111111,\"#46039f\"],[0.2222222222222222,\"#7201a8\"],[0.3333333333333333,\"#9c179e\"],[0.4444444444444444,\"#bd3786\"],[0.5555555555555556,\"#d8576b\"],[0.6666666666666666,\"#ed7953\"],[0.7777777777777778,\"#fb9f3a\"],[0.8888888888888888,\"#fdca26\"],[1.0,\"#f0f921\"]],\"sequentialminus\":[[0.0,\"#0d0887\"],[0.1111111111111111,\"#46039f\"],[0.2222222222222222,\"#7201a8\"],[0.3333333333333333,\"#9c179e\"],[0.4444444444444444,\"#bd3786\"],[0.5555555555555556,\"#d8576b\"],[0.6666666666666666,\"#ed7953\"],[0.7777777777777778,\"#fb9f3a\"],[0.8888888888888888,\"#fdca26\"],[1.0,\"#f0f921\"]]},\"colorway\":[\"#636efa\",\"#EF553B\",\"#00cc96\",\"#ab63fa\",\"#FFA15A\",\"#19d3f3\",\"#FF6692\",\"#B6E880\",\"#FF97FF\",\"#FECB52\"],\"font\":{\"color\":\"#2a3f5f\"},\"geo\":{\"bgcolor\":\"white\",\"lakecolor\":\"white\",\"landcolor\":\"#E5ECF6\",\"showlakes\":true,\"showland\":true,\"subunitcolor\":\"white\"},\"hoverlabel\":{\"align\":\"left\"},\"hovermode\":\"closest\",\"mapbox\":{\"style\":\"light\"},\"paper_bgcolor\":\"white\",\"plot_bgcolor\":\"#E5ECF6\",\"polar\":{\"angularaxis\":{\"gridcolor\":\"white\",\"linecolor\":\"white\",\"ticks\":\"\"},\"bgcolor\":\"#E5ECF6\",\"radialaxis\":{\"gridcolor\":\"white\",\"linecolor\":\"white\",\"ticks\":\"\"}},\"scene\":{\"xaxis\":{\"backgroundcolor\":\"#E5ECF6\",\"gridcolor\":\"white\",\"gridwidth\":2,\"linecolor\":\"white\",\"showbackground\":true,\"ticks\":\"\",\"zerolinecolor\":\"white\"},\"yaxis\":{\"backgroundcolor\":\"#E5ECF6\",\"gridcolor\":\"white\",\"gridwidth\":2,\"linecolor\":\"white\",\"showbackground\":true,\"ticks\":\"\",\"zerolinecolor\":\"white\"},\"zaxis\":{\"backgroundcolor\":\"#E5ECF6\",\"gridcolor\":\"white\",\"gridwidth\":2,\"linecolor\":\"white\",\"showbackground\":true,\"ticks\":\"\",\"zerolinecolor\":\"white\"}},\"shapedefaults\":{\"line\":{\"color\":\"#2a3f5f\"}},\"ternary\":{\"aaxis\":{\"gridcolor\":\"white\",\"linecolor\":\"white\",\"ticks\":\"\"},\"baxis\":{\"gridcolor\":\"white\",\"linecolor\":\"white\",\"ticks\":\"\"},\"bgcolor\":\"#E5ECF6\",\"caxis\":{\"gridcolor\":\"white\",\"linecolor\":\"white\",\"ticks\":\"\"}},\"title\":{\"x\":0.05},\"xaxis\":{\"automargin\":true,\"gridcolor\":\"white\",\"linecolor\":\"white\",\"ticks\":\"\",\"title\":{\"standoff\":15},\"zerolinecolor\":\"white\",\"zerolinewidth\":2},\"yaxis\":{\"automargin\":true,\"gridcolor\":\"white\",\"linecolor\":\"white\",\"ticks\":\"\",\"title\":{\"standoff\":15},\"zerolinecolor\":\"white\",\"zerolinewidth\":2}}},\"title\":{\"text\":\"Slice Plot\"},\"xaxis\":{\"anchor\":\"y\",\"domain\":[0.0,0.2888888888888889],\"title\":{\"text\":\"max_depth\"}},\"xaxis2\":{\"anchor\":\"y2\",\"domain\":[0.35555555555555557,0.6444444444444445],\"title\":{\"text\":\"max_samples\"}},\"xaxis3\":{\"anchor\":\"y3\",\"domain\":[0.7111111111111111,1.0],\"title\":{\"text\":\"n_estimators\"}},\"yaxis\":{\"anchor\":\"x\",\"domain\":[0.0,1.0],\"title\":{\"text\":\"Objective Value\"}},\"yaxis2\":{\"anchor\":\"x2\",\"domain\":[0.0,1.0],\"matches\":\"y\",\"showticklabels\":false},\"yaxis3\":{\"anchor\":\"x3\",\"domain\":[0.0,1.0],\"matches\":\"y\",\"showticklabels\":false}},                        {\"responsive\": true}                    ).then(function(){\n",
       "                            \n",
       "var gd = document.getElementById('e86f7aaa-68d4-4cc1-9563-f0c44384cfa3');\n",
       "var x = new MutationObserver(function (mutations, observer) {{\n",
       "        var display = window.getComputedStyle(gd).display;\n",
       "        if (!display || display === 'none') {{\n",
       "            console.log([gd, 'removed!']);\n",
       "            Plotly.purge(gd);\n",
       "            observer.disconnect();\n",
       "        }}\n",
       "}});\n",
       "\n",
       "// Listen for the removal of the full notebook cells\n",
       "var notebookContainer = gd.closest('#notebook-container');\n",
       "if (notebookContainer) {{\n",
       "    x.observe(notebookContainer, {childList: true});\n",
       "}}\n",
       "\n",
       "// Listen for the clearing of the current output cell\n",
       "var outputEl = gd.closest('.output');\n",
       "if (outputEl) {{\n",
       "    x.observe(outputEl, {childList: true});\n",
       "}}\n",
       "\n",
       "                        })                };                });            </script>        </div>"
      ]
     },
     "metadata": {},
     "output_type": "display_data"
    }
   ],
   "source": [
    "###################################################################################################\n",
    "# Select parameters to visualize.\n",
    "plot_slice(study, params=['max_samples', 'max_depth', 'n_estimators'])"
   ]
  },
  {
   "cell_type": "code",
   "execution_count": 126,
   "metadata": {
    "ExecuteTime": {
     "end_time": "2021-11-29T02:13:47.107173Z",
     "start_time": "2021-11-29T02:13:47.092780Z"
    },
    "executionInfo": {
     "elapsed": 22,
     "status": "aborted",
     "timestamp": 1638057557726,
     "user": {
      "displayName": "Rogério Delfim",
      "photoUrl": "https://lh3.googleusercontent.com/a-/AOh14Gj8lDYWTfZHU0U0sMojRPio71Ec7YDcSEpCaOEE=s64",
      "userId": "04235763959036945343"
     },
     "user_tz": 180
    },
    "id": "bX5_TJENmXMh"
   },
   "outputs": [],
   "source": [
    "###################################################################################################\n",
    "# Visualize parameter importances. See :func:`~optuna.visualization.plot_param_importances` for the details.\n",
    "#plot_param_importances(study)"
   ]
  },
  {
   "cell_type": "code",
   "execution_count": 127,
   "metadata": {
    "ExecuteTime": {
     "end_time": "2021-11-29T02:13:47.123009Z",
     "start_time": "2021-11-29T02:13:47.109010Z"
    },
    "executionInfo": {
     "elapsed": 23,
     "status": "aborted",
     "timestamp": 1638057557727,
     "user": {
      "displayName": "Rogério Delfim",
      "photoUrl": "https://lh3.googleusercontent.com/a-/AOh14Gj8lDYWTfZHU0U0sMojRPio71Ec7YDcSEpCaOEE=s64",
      "userId": "04235763959036945343"
     },
     "user_tz": 180
    },
    "id": "Wqbcq1HvoaDp"
   },
   "outputs": [],
   "source": [
    "###################################################################################################\n",
    "# Learn which hyperparameters are affecting the trial duration with hyperparameter importance.\n",
    "# optuna.visualization.plot_param_importances( study, target=lambda t: t.duration.total_seconds(), target_name=\"duration\")"
   ]
  },
  {
   "cell_type": "code",
   "execution_count": 128,
   "metadata": {
    "ExecuteTime": {
     "end_time": "2021-11-29T02:13:47.153663Z",
     "start_time": "2021-11-29T02:13:47.125009Z"
    },
    "executionInfo": {
     "elapsed": 23,
     "status": "aborted",
     "timestamp": 1638057557727,
     "user": {
      "displayName": "Rogério Delfim",
      "photoUrl": "https://lh3.googleusercontent.com/a-/AOh14Gj8lDYWTfZHU0U0sMojRPio71Ec7YDcSEpCaOEE=s64",
      "userId": "04235763959036945343"
     },
     "user_tz": 180
    },
    "id": "23-nvgOFoaN8"
   },
   "outputs": [
    {
     "data": {
      "application/vnd.plotly.v1+json": {
       "config": {
        "plotlyServerURL": "https://plot.ly"
       },
       "data": [
        {
         "mode": "lines",
         "name": "lr_tuning",
         "type": "scatter",
         "x": [
          0.6298789019203499,
          0.6302329535462556,
          0.6305870051721615,
          0.6309410567980672,
          0.631295108423973,
          0.6316491600498788,
          0.6320032116757845,
          0.6323572633016903,
          0.6327113149275961,
          0.6330653665535019,
          0.6334194181794076,
          0.6337734698053135,
          0.6341275214312192,
          0.6344815730571249,
          0.6348356246830308,
          0.6351896763089365,
          0.6355437279348423,
          0.6358977795607481,
          0.6362518311866538,
          0.6366058828125597,
          0.6369599344384654,
          0.6373139860643712,
          0.637668037690277,
          0.6380220893161828,
          0.6383761409420885,
          0.6387301925679943,
          0.6390842441939001,
          0.6394382958198058,
          0.6397923474457117,
          0.6401463990716174,
          0.6405004506975231,
          0.640854502323429,
          0.6412085539493347,
          0.6415626055752405,
          0.6419166572011463,
          0.6422707088270521,
          0.6426247604529578,
          0.6429788120788636,
          0.6433328637047694,
          0.6436869153306751,
          0.644040966956581,
          0.6443950185824867,
          0.6447490702083924,
          0.6451031218342983,
          0.645457173460204,
          0.6458112250861098,
          0.6461652767120156,
          0.6465193283379214,
          0.6468733799638271,
          0.647227431589733,
          0.6475814832156387,
          0.6479355348415445,
          0.6482895864674503,
          0.648643638093356,
          0.6489976897192619,
          0.6493517413451676,
          0.6497057929710733,
          0.6500598445969792,
          0.6504138962228849,
          0.6507679478487907,
          0.6511219994746965,
          0.6514760511006022,
          0.651830102726508,
          0.6521841543524138,
          0.6525382059783196,
          0.6528922576042253,
          0.6532463092301312,
          0.6536003608560369,
          0.6539544124819426,
          0.6543084641078485,
          0.6546625157337542,
          0.65501656735966,
          0.6553706189855658,
          0.6557246706114715,
          0.6560787222373773,
          0.6564327738632831,
          0.6567868254891889,
          0.6571408771150946,
          0.6574949287410005,
          0.6578489803669062,
          0.6582030319928119,
          0.6585570836187178,
          0.6589111352446235,
          0.6592651868705293,
          0.6596192384964351,
          0.6599732901223408,
          0.6603273417482467,
          0.6606813933741524,
          0.6610354450000582,
          0.661389496625964,
          0.6617435482518698,
          0.6620975998777755,
          0.6624516515036813,
          0.6628057031295871,
          0.6631597547554928,
          0.6635138063813987,
          0.6638678580073044,
          0.6642219096332102,
          0.664575961259116,
          0.6649300128850217
         ],
         "y": [
          0.03333333333333333,
          0.03333333333333333,
          0.03333333333333333,
          0.03333333333333333,
          0.03333333333333333,
          0.06666666666666667,
          0.06666666666666667,
          0.06666666666666667,
          0.06666666666666667,
          0.06666666666666667,
          0.06666666666666667,
          0.06666666666666667,
          0.06666666666666667,
          0.06666666666666667,
          0.06666666666666667,
          0.06666666666666667,
          0.06666666666666667,
          0.06666666666666667,
          0.06666666666666667,
          0.06666666666666667,
          0.06666666666666667,
          0.06666666666666667,
          0.06666666666666667,
          0.06666666666666667,
          0.06666666666666667,
          0.06666666666666667,
          0.06666666666666667,
          0.06666666666666667,
          0.06666666666666667,
          0.06666666666666667,
          0.06666666666666667,
          0.06666666666666667,
          0.06666666666666667,
          0.06666666666666667,
          0.06666666666666667,
          0.06666666666666667,
          0.06666666666666667,
          0.1,
          0.1,
          0.1,
          0.1,
          0.13333333333333333,
          0.13333333333333333,
          0.13333333333333333,
          0.13333333333333333,
          0.13333333333333333,
          0.13333333333333333,
          0.13333333333333333,
          0.13333333333333333,
          0.13333333333333333,
          0.13333333333333333,
          0.13333333333333333,
          0.13333333333333333,
          0.13333333333333333,
          0.16666666666666666,
          0.2,
          0.2,
          0.2,
          0.2,
          0.2,
          0.2,
          0.2,
          0.2,
          0.23333333333333334,
          0.23333333333333334,
          0.23333333333333334,
          0.26666666666666666,
          0.26666666666666666,
          0.26666666666666666,
          0.26666666666666666,
          0.26666666666666666,
          0.26666666666666666,
          0.26666666666666666,
          0.26666666666666666,
          0.26666666666666666,
          0.3,
          0.3333333333333333,
          0.43333333333333335,
          0.43333333333333335,
          0.43333333333333335,
          0.43333333333333335,
          0.43333333333333335,
          0.43333333333333335,
          0.43333333333333335,
          0.43333333333333335,
          0.43333333333333335,
          0.4666666666666667,
          0.4666666666666667,
          0.6333333333333333,
          0.6666666666666666,
          0.6666666666666666,
          0.6666666666666666,
          0.6666666666666666,
          0.6666666666666666,
          0.6666666666666666,
          0.6666666666666666,
          0.7,
          0.7,
          0.8,
          1
         ]
        }
       ],
       "layout": {
        "template": {
         "data": {
          "bar": [
           {
            "error_x": {
             "color": "#2a3f5f"
            },
            "error_y": {
             "color": "#2a3f5f"
            },
            "marker": {
             "line": {
              "color": "#E5ECF6",
              "width": 0.5
             },
             "pattern": {
              "fillmode": "overlay",
              "size": 10,
              "solidity": 0.2
             }
            },
            "type": "bar"
           }
          ],
          "barpolar": [
           {
            "marker": {
             "line": {
              "color": "#E5ECF6",
              "width": 0.5
             },
             "pattern": {
              "fillmode": "overlay",
              "size": 10,
              "solidity": 0.2
             }
            },
            "type": "barpolar"
           }
          ],
          "carpet": [
           {
            "aaxis": {
             "endlinecolor": "#2a3f5f",
             "gridcolor": "white",
             "linecolor": "white",
             "minorgridcolor": "white",
             "startlinecolor": "#2a3f5f"
            },
            "baxis": {
             "endlinecolor": "#2a3f5f",
             "gridcolor": "white",
             "linecolor": "white",
             "minorgridcolor": "white",
             "startlinecolor": "#2a3f5f"
            },
            "type": "carpet"
           }
          ],
          "choropleth": [
           {
            "colorbar": {
             "outlinewidth": 0,
             "ticks": ""
            },
            "type": "choropleth"
           }
          ],
          "contour": [
           {
            "colorbar": {
             "outlinewidth": 0,
             "ticks": ""
            },
            "colorscale": [
             [
              0,
              "#0d0887"
             ],
             [
              0.1111111111111111,
              "#46039f"
             ],
             [
              0.2222222222222222,
              "#7201a8"
             ],
             [
              0.3333333333333333,
              "#9c179e"
             ],
             [
              0.4444444444444444,
              "#bd3786"
             ],
             [
              0.5555555555555556,
              "#d8576b"
             ],
             [
              0.6666666666666666,
              "#ed7953"
             ],
             [
              0.7777777777777778,
              "#fb9f3a"
             ],
             [
              0.8888888888888888,
              "#fdca26"
             ],
             [
              1,
              "#f0f921"
             ]
            ],
            "type": "contour"
           }
          ],
          "contourcarpet": [
           {
            "colorbar": {
             "outlinewidth": 0,
             "ticks": ""
            },
            "type": "contourcarpet"
           }
          ],
          "heatmap": [
           {
            "colorbar": {
             "outlinewidth": 0,
             "ticks": ""
            },
            "colorscale": [
             [
              0,
              "#0d0887"
             ],
             [
              0.1111111111111111,
              "#46039f"
             ],
             [
              0.2222222222222222,
              "#7201a8"
             ],
             [
              0.3333333333333333,
              "#9c179e"
             ],
             [
              0.4444444444444444,
              "#bd3786"
             ],
             [
              0.5555555555555556,
              "#d8576b"
             ],
             [
              0.6666666666666666,
              "#ed7953"
             ],
             [
              0.7777777777777778,
              "#fb9f3a"
             ],
             [
              0.8888888888888888,
              "#fdca26"
             ],
             [
              1,
              "#f0f921"
             ]
            ],
            "type": "heatmap"
           }
          ],
          "heatmapgl": [
           {
            "colorbar": {
             "outlinewidth": 0,
             "ticks": ""
            },
            "colorscale": [
             [
              0,
              "#0d0887"
             ],
             [
              0.1111111111111111,
              "#46039f"
             ],
             [
              0.2222222222222222,
              "#7201a8"
             ],
             [
              0.3333333333333333,
              "#9c179e"
             ],
             [
              0.4444444444444444,
              "#bd3786"
             ],
             [
              0.5555555555555556,
              "#d8576b"
             ],
             [
              0.6666666666666666,
              "#ed7953"
             ],
             [
              0.7777777777777778,
              "#fb9f3a"
             ],
             [
              0.8888888888888888,
              "#fdca26"
             ],
             [
              1,
              "#f0f921"
             ]
            ],
            "type": "heatmapgl"
           }
          ],
          "histogram": [
           {
            "marker": {
             "pattern": {
              "fillmode": "overlay",
              "size": 10,
              "solidity": 0.2
             }
            },
            "type": "histogram"
           }
          ],
          "histogram2d": [
           {
            "colorbar": {
             "outlinewidth": 0,
             "ticks": ""
            },
            "colorscale": [
             [
              0,
              "#0d0887"
             ],
             [
              0.1111111111111111,
              "#46039f"
             ],
             [
              0.2222222222222222,
              "#7201a8"
             ],
             [
              0.3333333333333333,
              "#9c179e"
             ],
             [
              0.4444444444444444,
              "#bd3786"
             ],
             [
              0.5555555555555556,
              "#d8576b"
             ],
             [
              0.6666666666666666,
              "#ed7953"
             ],
             [
              0.7777777777777778,
              "#fb9f3a"
             ],
             [
              0.8888888888888888,
              "#fdca26"
             ],
             [
              1,
              "#f0f921"
             ]
            ],
            "type": "histogram2d"
           }
          ],
          "histogram2dcontour": [
           {
            "colorbar": {
             "outlinewidth": 0,
             "ticks": ""
            },
            "colorscale": [
             [
              0,
              "#0d0887"
             ],
             [
              0.1111111111111111,
              "#46039f"
             ],
             [
              0.2222222222222222,
              "#7201a8"
             ],
             [
              0.3333333333333333,
              "#9c179e"
             ],
             [
              0.4444444444444444,
              "#bd3786"
             ],
             [
              0.5555555555555556,
              "#d8576b"
             ],
             [
              0.6666666666666666,
              "#ed7953"
             ],
             [
              0.7777777777777778,
              "#fb9f3a"
             ],
             [
              0.8888888888888888,
              "#fdca26"
             ],
             [
              1,
              "#f0f921"
             ]
            ],
            "type": "histogram2dcontour"
           }
          ],
          "mesh3d": [
           {
            "colorbar": {
             "outlinewidth": 0,
             "ticks": ""
            },
            "type": "mesh3d"
           }
          ],
          "parcoords": [
           {
            "line": {
             "colorbar": {
              "outlinewidth": 0,
              "ticks": ""
             }
            },
            "type": "parcoords"
           }
          ],
          "pie": [
           {
            "automargin": true,
            "type": "pie"
           }
          ],
          "scatter": [
           {
            "marker": {
             "colorbar": {
              "outlinewidth": 0,
              "ticks": ""
             }
            },
            "type": "scatter"
           }
          ],
          "scatter3d": [
           {
            "line": {
             "colorbar": {
              "outlinewidth": 0,
              "ticks": ""
             }
            },
            "marker": {
             "colorbar": {
              "outlinewidth": 0,
              "ticks": ""
             }
            },
            "type": "scatter3d"
           }
          ],
          "scattercarpet": [
           {
            "marker": {
             "colorbar": {
              "outlinewidth": 0,
              "ticks": ""
             }
            },
            "type": "scattercarpet"
           }
          ],
          "scattergeo": [
           {
            "marker": {
             "colorbar": {
              "outlinewidth": 0,
              "ticks": ""
             }
            },
            "type": "scattergeo"
           }
          ],
          "scattergl": [
           {
            "marker": {
             "colorbar": {
              "outlinewidth": 0,
              "ticks": ""
             }
            },
            "type": "scattergl"
           }
          ],
          "scattermapbox": [
           {
            "marker": {
             "colorbar": {
              "outlinewidth": 0,
              "ticks": ""
             }
            },
            "type": "scattermapbox"
           }
          ],
          "scatterpolar": [
           {
            "marker": {
             "colorbar": {
              "outlinewidth": 0,
              "ticks": ""
             }
            },
            "type": "scatterpolar"
           }
          ],
          "scatterpolargl": [
           {
            "marker": {
             "colorbar": {
              "outlinewidth": 0,
              "ticks": ""
             }
            },
            "type": "scatterpolargl"
           }
          ],
          "scatterternary": [
           {
            "marker": {
             "colorbar": {
              "outlinewidth": 0,
              "ticks": ""
             }
            },
            "type": "scatterternary"
           }
          ],
          "surface": [
           {
            "colorbar": {
             "outlinewidth": 0,
             "ticks": ""
            },
            "colorscale": [
             [
              0,
              "#0d0887"
             ],
             [
              0.1111111111111111,
              "#46039f"
             ],
             [
              0.2222222222222222,
              "#7201a8"
             ],
             [
              0.3333333333333333,
              "#9c179e"
             ],
             [
              0.4444444444444444,
              "#bd3786"
             ],
             [
              0.5555555555555556,
              "#d8576b"
             ],
             [
              0.6666666666666666,
              "#ed7953"
             ],
             [
              0.7777777777777778,
              "#fb9f3a"
             ],
             [
              0.8888888888888888,
              "#fdca26"
             ],
             [
              1,
              "#f0f921"
             ]
            ],
            "type": "surface"
           }
          ],
          "table": [
           {
            "cells": {
             "fill": {
              "color": "#EBF0F8"
             },
             "line": {
              "color": "white"
             }
            },
            "header": {
             "fill": {
              "color": "#C8D4E3"
             },
             "line": {
              "color": "white"
             }
            },
            "type": "table"
           }
          ]
         },
         "layout": {
          "annotationdefaults": {
           "arrowcolor": "#2a3f5f",
           "arrowhead": 0,
           "arrowwidth": 1
          },
          "autotypenumbers": "strict",
          "coloraxis": {
           "colorbar": {
            "outlinewidth": 0,
            "ticks": ""
           }
          },
          "colorscale": {
           "diverging": [
            [
             0,
             "#8e0152"
            ],
            [
             0.1,
             "#c51b7d"
            ],
            [
             0.2,
             "#de77ae"
            ],
            [
             0.3,
             "#f1b6da"
            ],
            [
             0.4,
             "#fde0ef"
            ],
            [
             0.5,
             "#f7f7f7"
            ],
            [
             0.6,
             "#e6f5d0"
            ],
            [
             0.7,
             "#b8e186"
            ],
            [
             0.8,
             "#7fbc41"
            ],
            [
             0.9,
             "#4d9221"
            ],
            [
             1,
             "#276419"
            ]
           ],
           "sequential": [
            [
             0,
             "#0d0887"
            ],
            [
             0.1111111111111111,
             "#46039f"
            ],
            [
             0.2222222222222222,
             "#7201a8"
            ],
            [
             0.3333333333333333,
             "#9c179e"
            ],
            [
             0.4444444444444444,
             "#bd3786"
            ],
            [
             0.5555555555555556,
             "#d8576b"
            ],
            [
             0.6666666666666666,
             "#ed7953"
            ],
            [
             0.7777777777777778,
             "#fb9f3a"
            ],
            [
             0.8888888888888888,
             "#fdca26"
            ],
            [
             1,
             "#f0f921"
            ]
           ],
           "sequentialminus": [
            [
             0,
             "#0d0887"
            ],
            [
             0.1111111111111111,
             "#46039f"
            ],
            [
             0.2222222222222222,
             "#7201a8"
            ],
            [
             0.3333333333333333,
             "#9c179e"
            ],
            [
             0.4444444444444444,
             "#bd3786"
            ],
            [
             0.5555555555555556,
             "#d8576b"
            ],
            [
             0.6666666666666666,
             "#ed7953"
            ],
            [
             0.7777777777777778,
             "#fb9f3a"
            ],
            [
             0.8888888888888888,
             "#fdca26"
            ],
            [
             1,
             "#f0f921"
            ]
           ]
          },
          "colorway": [
           "#636efa",
           "#EF553B",
           "#00cc96",
           "#ab63fa",
           "#FFA15A",
           "#19d3f3",
           "#FF6692",
           "#B6E880",
           "#FF97FF",
           "#FECB52"
          ],
          "font": {
           "color": "#2a3f5f"
          },
          "geo": {
           "bgcolor": "white",
           "lakecolor": "white",
           "landcolor": "#E5ECF6",
           "showlakes": true,
           "showland": true,
           "subunitcolor": "white"
          },
          "hoverlabel": {
           "align": "left"
          },
          "hovermode": "closest",
          "mapbox": {
           "style": "light"
          },
          "paper_bgcolor": "white",
          "plot_bgcolor": "#E5ECF6",
          "polar": {
           "angularaxis": {
            "gridcolor": "white",
            "linecolor": "white",
            "ticks": ""
           },
           "bgcolor": "#E5ECF6",
           "radialaxis": {
            "gridcolor": "white",
            "linecolor": "white",
            "ticks": ""
           }
          },
          "scene": {
           "xaxis": {
            "backgroundcolor": "#E5ECF6",
            "gridcolor": "white",
            "gridwidth": 2,
            "linecolor": "white",
            "showbackground": true,
            "ticks": "",
            "zerolinecolor": "white"
           },
           "yaxis": {
            "backgroundcolor": "#E5ECF6",
            "gridcolor": "white",
            "gridwidth": 2,
            "linecolor": "white",
            "showbackground": true,
            "ticks": "",
            "zerolinecolor": "white"
           },
           "zaxis": {
            "backgroundcolor": "#E5ECF6",
            "gridcolor": "white",
            "gridwidth": 2,
            "linecolor": "white",
            "showbackground": true,
            "ticks": "",
            "zerolinecolor": "white"
           }
          },
          "shapedefaults": {
           "line": {
            "color": "#2a3f5f"
           }
          },
          "ternary": {
           "aaxis": {
            "gridcolor": "white",
            "linecolor": "white",
            "ticks": ""
           },
           "baxis": {
            "gridcolor": "white",
            "linecolor": "white",
            "ticks": ""
           },
           "bgcolor": "#E5ECF6",
           "caxis": {
            "gridcolor": "white",
            "linecolor": "white",
            "ticks": ""
           }
          },
          "title": {
           "x": 0.05
          },
          "xaxis": {
           "automargin": true,
           "gridcolor": "white",
           "linecolor": "white",
           "ticks": "",
           "title": {
            "standoff": 15
           },
           "zerolinecolor": "white",
           "zerolinewidth": 2
          },
          "yaxis": {
           "automargin": true,
           "gridcolor": "white",
           "linecolor": "white",
           "ticks": "",
           "title": {
            "standoff": 15
           },
           "zerolinecolor": "white",
           "zerolinewidth": 2
          }
         }
        },
        "title": {
         "text": "Empirical Distribution Function Plot"
        },
        "xaxis": {
         "title": {
          "text": "Objective Value"
         }
        },
        "yaxis": {
         "range": [
          0,
          1
         ],
         "title": {
          "text": "Cumulative Probability"
         }
        }
       }
      },
      "text/html": [
       "<div>                            <div id=\"79a1d0de-0c94-4801-b76b-3262c7c1865d\" class=\"plotly-graph-div\" style=\"height:525px; width:100%;\"></div>            <script type=\"text/javascript\">                require([\"plotly\"], function(Plotly) {                    window.PLOTLYENV=window.PLOTLYENV || {};                                    if (document.getElementById(\"79a1d0de-0c94-4801-b76b-3262c7c1865d\")) {                    Plotly.newPlot(                        \"79a1d0de-0c94-4801-b76b-3262c7c1865d\",                        [{\"mode\":\"lines\",\"name\":\"lr_tuning\",\"type\":\"scatter\",\"x\":[0.6298789019203499,0.6302329535462556,0.6305870051721615,0.6309410567980672,0.631295108423973,0.6316491600498788,0.6320032116757845,0.6323572633016903,0.6327113149275961,0.6330653665535019,0.6334194181794076,0.6337734698053135,0.6341275214312192,0.6344815730571249,0.6348356246830308,0.6351896763089365,0.6355437279348423,0.6358977795607481,0.6362518311866538,0.6366058828125597,0.6369599344384654,0.6373139860643712,0.637668037690277,0.6380220893161828,0.6383761409420885,0.6387301925679943,0.6390842441939001,0.6394382958198058,0.6397923474457117,0.6401463990716174,0.6405004506975231,0.640854502323429,0.6412085539493347,0.6415626055752405,0.6419166572011463,0.6422707088270521,0.6426247604529578,0.6429788120788636,0.6433328637047694,0.6436869153306751,0.644040966956581,0.6443950185824867,0.6447490702083924,0.6451031218342983,0.645457173460204,0.6458112250861098,0.6461652767120156,0.6465193283379214,0.6468733799638271,0.647227431589733,0.6475814832156387,0.6479355348415445,0.6482895864674503,0.648643638093356,0.6489976897192619,0.6493517413451676,0.6497057929710733,0.6500598445969792,0.6504138962228849,0.6507679478487907,0.6511219994746965,0.6514760511006022,0.651830102726508,0.6521841543524138,0.6525382059783196,0.6528922576042253,0.6532463092301312,0.6536003608560369,0.6539544124819426,0.6543084641078485,0.6546625157337542,0.65501656735966,0.6553706189855658,0.6557246706114715,0.6560787222373773,0.6564327738632831,0.6567868254891889,0.6571408771150946,0.6574949287410005,0.6578489803669062,0.6582030319928119,0.6585570836187178,0.6589111352446235,0.6592651868705293,0.6596192384964351,0.6599732901223408,0.6603273417482467,0.6606813933741524,0.6610354450000582,0.661389496625964,0.6617435482518698,0.6620975998777755,0.6624516515036813,0.6628057031295871,0.6631597547554928,0.6635138063813987,0.6638678580073044,0.6642219096332102,0.664575961259116,0.6649300128850217],\"y\":[0.03333333333333333,0.03333333333333333,0.03333333333333333,0.03333333333333333,0.03333333333333333,0.06666666666666667,0.06666666666666667,0.06666666666666667,0.06666666666666667,0.06666666666666667,0.06666666666666667,0.06666666666666667,0.06666666666666667,0.06666666666666667,0.06666666666666667,0.06666666666666667,0.06666666666666667,0.06666666666666667,0.06666666666666667,0.06666666666666667,0.06666666666666667,0.06666666666666667,0.06666666666666667,0.06666666666666667,0.06666666666666667,0.06666666666666667,0.06666666666666667,0.06666666666666667,0.06666666666666667,0.06666666666666667,0.06666666666666667,0.06666666666666667,0.06666666666666667,0.06666666666666667,0.06666666666666667,0.06666666666666667,0.06666666666666667,0.1,0.1,0.1,0.1,0.13333333333333333,0.13333333333333333,0.13333333333333333,0.13333333333333333,0.13333333333333333,0.13333333333333333,0.13333333333333333,0.13333333333333333,0.13333333333333333,0.13333333333333333,0.13333333333333333,0.13333333333333333,0.13333333333333333,0.16666666666666666,0.2,0.2,0.2,0.2,0.2,0.2,0.2,0.2,0.23333333333333334,0.23333333333333334,0.23333333333333334,0.26666666666666666,0.26666666666666666,0.26666666666666666,0.26666666666666666,0.26666666666666666,0.26666666666666666,0.26666666666666666,0.26666666666666666,0.26666666666666666,0.3,0.3333333333333333,0.43333333333333335,0.43333333333333335,0.43333333333333335,0.43333333333333335,0.43333333333333335,0.43333333333333335,0.43333333333333335,0.43333333333333335,0.43333333333333335,0.4666666666666667,0.4666666666666667,0.6333333333333333,0.6666666666666666,0.6666666666666666,0.6666666666666666,0.6666666666666666,0.6666666666666666,0.6666666666666666,0.6666666666666666,0.7,0.7,0.8,1.0]}],                        {\"template\":{\"data\":{\"bar\":[{\"error_x\":{\"color\":\"#2a3f5f\"},\"error_y\":{\"color\":\"#2a3f5f\"},\"marker\":{\"line\":{\"color\":\"#E5ECF6\",\"width\":0.5},\"pattern\":{\"fillmode\":\"overlay\",\"size\":10,\"solidity\":0.2}},\"type\":\"bar\"}],\"barpolar\":[{\"marker\":{\"line\":{\"color\":\"#E5ECF6\",\"width\":0.5},\"pattern\":{\"fillmode\":\"overlay\",\"size\":10,\"solidity\":0.2}},\"type\":\"barpolar\"}],\"carpet\":[{\"aaxis\":{\"endlinecolor\":\"#2a3f5f\",\"gridcolor\":\"white\",\"linecolor\":\"white\",\"minorgridcolor\":\"white\",\"startlinecolor\":\"#2a3f5f\"},\"baxis\":{\"endlinecolor\":\"#2a3f5f\",\"gridcolor\":\"white\",\"linecolor\":\"white\",\"minorgridcolor\":\"white\",\"startlinecolor\":\"#2a3f5f\"},\"type\":\"carpet\"}],\"choropleth\":[{\"colorbar\":{\"outlinewidth\":0,\"ticks\":\"\"},\"type\":\"choropleth\"}],\"contour\":[{\"colorbar\":{\"outlinewidth\":0,\"ticks\":\"\"},\"colorscale\":[[0.0,\"#0d0887\"],[0.1111111111111111,\"#46039f\"],[0.2222222222222222,\"#7201a8\"],[0.3333333333333333,\"#9c179e\"],[0.4444444444444444,\"#bd3786\"],[0.5555555555555556,\"#d8576b\"],[0.6666666666666666,\"#ed7953\"],[0.7777777777777778,\"#fb9f3a\"],[0.8888888888888888,\"#fdca26\"],[1.0,\"#f0f921\"]],\"type\":\"contour\"}],\"contourcarpet\":[{\"colorbar\":{\"outlinewidth\":0,\"ticks\":\"\"},\"type\":\"contourcarpet\"}],\"heatmap\":[{\"colorbar\":{\"outlinewidth\":0,\"ticks\":\"\"},\"colorscale\":[[0.0,\"#0d0887\"],[0.1111111111111111,\"#46039f\"],[0.2222222222222222,\"#7201a8\"],[0.3333333333333333,\"#9c179e\"],[0.4444444444444444,\"#bd3786\"],[0.5555555555555556,\"#d8576b\"],[0.6666666666666666,\"#ed7953\"],[0.7777777777777778,\"#fb9f3a\"],[0.8888888888888888,\"#fdca26\"],[1.0,\"#f0f921\"]],\"type\":\"heatmap\"}],\"heatmapgl\":[{\"colorbar\":{\"outlinewidth\":0,\"ticks\":\"\"},\"colorscale\":[[0.0,\"#0d0887\"],[0.1111111111111111,\"#46039f\"],[0.2222222222222222,\"#7201a8\"],[0.3333333333333333,\"#9c179e\"],[0.4444444444444444,\"#bd3786\"],[0.5555555555555556,\"#d8576b\"],[0.6666666666666666,\"#ed7953\"],[0.7777777777777778,\"#fb9f3a\"],[0.8888888888888888,\"#fdca26\"],[1.0,\"#f0f921\"]],\"type\":\"heatmapgl\"}],\"histogram\":[{\"marker\":{\"pattern\":{\"fillmode\":\"overlay\",\"size\":10,\"solidity\":0.2}},\"type\":\"histogram\"}],\"histogram2d\":[{\"colorbar\":{\"outlinewidth\":0,\"ticks\":\"\"},\"colorscale\":[[0.0,\"#0d0887\"],[0.1111111111111111,\"#46039f\"],[0.2222222222222222,\"#7201a8\"],[0.3333333333333333,\"#9c179e\"],[0.4444444444444444,\"#bd3786\"],[0.5555555555555556,\"#d8576b\"],[0.6666666666666666,\"#ed7953\"],[0.7777777777777778,\"#fb9f3a\"],[0.8888888888888888,\"#fdca26\"],[1.0,\"#f0f921\"]],\"type\":\"histogram2d\"}],\"histogram2dcontour\":[{\"colorbar\":{\"outlinewidth\":0,\"ticks\":\"\"},\"colorscale\":[[0.0,\"#0d0887\"],[0.1111111111111111,\"#46039f\"],[0.2222222222222222,\"#7201a8\"],[0.3333333333333333,\"#9c179e\"],[0.4444444444444444,\"#bd3786\"],[0.5555555555555556,\"#d8576b\"],[0.6666666666666666,\"#ed7953\"],[0.7777777777777778,\"#fb9f3a\"],[0.8888888888888888,\"#fdca26\"],[1.0,\"#f0f921\"]],\"type\":\"histogram2dcontour\"}],\"mesh3d\":[{\"colorbar\":{\"outlinewidth\":0,\"ticks\":\"\"},\"type\":\"mesh3d\"}],\"parcoords\":[{\"line\":{\"colorbar\":{\"outlinewidth\":0,\"ticks\":\"\"}},\"type\":\"parcoords\"}],\"pie\":[{\"automargin\":true,\"type\":\"pie\"}],\"scatter\":[{\"marker\":{\"colorbar\":{\"outlinewidth\":0,\"ticks\":\"\"}},\"type\":\"scatter\"}],\"scatter3d\":[{\"line\":{\"colorbar\":{\"outlinewidth\":0,\"ticks\":\"\"}},\"marker\":{\"colorbar\":{\"outlinewidth\":0,\"ticks\":\"\"}},\"type\":\"scatter3d\"}],\"scattercarpet\":[{\"marker\":{\"colorbar\":{\"outlinewidth\":0,\"ticks\":\"\"}},\"type\":\"scattercarpet\"}],\"scattergeo\":[{\"marker\":{\"colorbar\":{\"outlinewidth\":0,\"ticks\":\"\"}},\"type\":\"scattergeo\"}],\"scattergl\":[{\"marker\":{\"colorbar\":{\"outlinewidth\":0,\"ticks\":\"\"}},\"type\":\"scattergl\"}],\"scattermapbox\":[{\"marker\":{\"colorbar\":{\"outlinewidth\":0,\"ticks\":\"\"}},\"type\":\"scattermapbox\"}],\"scatterpolar\":[{\"marker\":{\"colorbar\":{\"outlinewidth\":0,\"ticks\":\"\"}},\"type\":\"scatterpolar\"}],\"scatterpolargl\":[{\"marker\":{\"colorbar\":{\"outlinewidth\":0,\"ticks\":\"\"}},\"type\":\"scatterpolargl\"}],\"scatterternary\":[{\"marker\":{\"colorbar\":{\"outlinewidth\":0,\"ticks\":\"\"}},\"type\":\"scatterternary\"}],\"surface\":[{\"colorbar\":{\"outlinewidth\":0,\"ticks\":\"\"},\"colorscale\":[[0.0,\"#0d0887\"],[0.1111111111111111,\"#46039f\"],[0.2222222222222222,\"#7201a8\"],[0.3333333333333333,\"#9c179e\"],[0.4444444444444444,\"#bd3786\"],[0.5555555555555556,\"#d8576b\"],[0.6666666666666666,\"#ed7953\"],[0.7777777777777778,\"#fb9f3a\"],[0.8888888888888888,\"#fdca26\"],[1.0,\"#f0f921\"]],\"type\":\"surface\"}],\"table\":[{\"cells\":{\"fill\":{\"color\":\"#EBF0F8\"},\"line\":{\"color\":\"white\"}},\"header\":{\"fill\":{\"color\":\"#C8D4E3\"},\"line\":{\"color\":\"white\"}},\"type\":\"table\"}]},\"layout\":{\"annotationdefaults\":{\"arrowcolor\":\"#2a3f5f\",\"arrowhead\":0,\"arrowwidth\":1},\"autotypenumbers\":\"strict\",\"coloraxis\":{\"colorbar\":{\"outlinewidth\":0,\"ticks\":\"\"}},\"colorscale\":{\"diverging\":[[0,\"#8e0152\"],[0.1,\"#c51b7d\"],[0.2,\"#de77ae\"],[0.3,\"#f1b6da\"],[0.4,\"#fde0ef\"],[0.5,\"#f7f7f7\"],[0.6,\"#e6f5d0\"],[0.7,\"#b8e186\"],[0.8,\"#7fbc41\"],[0.9,\"#4d9221\"],[1,\"#276419\"]],\"sequential\":[[0.0,\"#0d0887\"],[0.1111111111111111,\"#46039f\"],[0.2222222222222222,\"#7201a8\"],[0.3333333333333333,\"#9c179e\"],[0.4444444444444444,\"#bd3786\"],[0.5555555555555556,\"#d8576b\"],[0.6666666666666666,\"#ed7953\"],[0.7777777777777778,\"#fb9f3a\"],[0.8888888888888888,\"#fdca26\"],[1.0,\"#f0f921\"]],\"sequentialminus\":[[0.0,\"#0d0887\"],[0.1111111111111111,\"#46039f\"],[0.2222222222222222,\"#7201a8\"],[0.3333333333333333,\"#9c179e\"],[0.4444444444444444,\"#bd3786\"],[0.5555555555555556,\"#d8576b\"],[0.6666666666666666,\"#ed7953\"],[0.7777777777777778,\"#fb9f3a\"],[0.8888888888888888,\"#fdca26\"],[1.0,\"#f0f921\"]]},\"colorway\":[\"#636efa\",\"#EF553B\",\"#00cc96\",\"#ab63fa\",\"#FFA15A\",\"#19d3f3\",\"#FF6692\",\"#B6E880\",\"#FF97FF\",\"#FECB52\"],\"font\":{\"color\":\"#2a3f5f\"},\"geo\":{\"bgcolor\":\"white\",\"lakecolor\":\"white\",\"landcolor\":\"#E5ECF6\",\"showlakes\":true,\"showland\":true,\"subunitcolor\":\"white\"},\"hoverlabel\":{\"align\":\"left\"},\"hovermode\":\"closest\",\"mapbox\":{\"style\":\"light\"},\"paper_bgcolor\":\"white\",\"plot_bgcolor\":\"#E5ECF6\",\"polar\":{\"angularaxis\":{\"gridcolor\":\"white\",\"linecolor\":\"white\",\"ticks\":\"\"},\"bgcolor\":\"#E5ECF6\",\"radialaxis\":{\"gridcolor\":\"white\",\"linecolor\":\"white\",\"ticks\":\"\"}},\"scene\":{\"xaxis\":{\"backgroundcolor\":\"#E5ECF6\",\"gridcolor\":\"white\",\"gridwidth\":2,\"linecolor\":\"white\",\"showbackground\":true,\"ticks\":\"\",\"zerolinecolor\":\"white\"},\"yaxis\":{\"backgroundcolor\":\"#E5ECF6\",\"gridcolor\":\"white\",\"gridwidth\":2,\"linecolor\":\"white\",\"showbackground\":true,\"ticks\":\"\",\"zerolinecolor\":\"white\"},\"zaxis\":{\"backgroundcolor\":\"#E5ECF6\",\"gridcolor\":\"white\",\"gridwidth\":2,\"linecolor\":\"white\",\"showbackground\":true,\"ticks\":\"\",\"zerolinecolor\":\"white\"}},\"shapedefaults\":{\"line\":{\"color\":\"#2a3f5f\"}},\"ternary\":{\"aaxis\":{\"gridcolor\":\"white\",\"linecolor\":\"white\",\"ticks\":\"\"},\"baxis\":{\"gridcolor\":\"white\",\"linecolor\":\"white\",\"ticks\":\"\"},\"bgcolor\":\"#E5ECF6\",\"caxis\":{\"gridcolor\":\"white\",\"linecolor\":\"white\",\"ticks\":\"\"}},\"title\":{\"x\":0.05},\"xaxis\":{\"automargin\":true,\"gridcolor\":\"white\",\"linecolor\":\"white\",\"ticks\":\"\",\"title\":{\"standoff\":15},\"zerolinecolor\":\"white\",\"zerolinewidth\":2},\"yaxis\":{\"automargin\":true,\"gridcolor\":\"white\",\"linecolor\":\"white\",\"ticks\":\"\",\"title\":{\"standoff\":15},\"zerolinecolor\":\"white\",\"zerolinewidth\":2}}},\"title\":{\"text\":\"Empirical Distribution Function Plot\"},\"xaxis\":{\"title\":{\"text\":\"Objective Value\"}},\"yaxis\":{\"range\":[0,1],\"title\":{\"text\":\"Cumulative Probability\"}}},                        {\"responsive\": true}                    ).then(function(){\n",
       "                            \n",
       "var gd = document.getElementById('79a1d0de-0c94-4801-b76b-3262c7c1865d');\n",
       "var x = new MutationObserver(function (mutations, observer) {{\n",
       "        var display = window.getComputedStyle(gd).display;\n",
       "        if (!display || display === 'none') {{\n",
       "            console.log([gd, 'removed!']);\n",
       "            Plotly.purge(gd);\n",
       "            observer.disconnect();\n",
       "        }}\n",
       "}});\n",
       "\n",
       "// Listen for the removal of the full notebook cells\n",
       "var notebookContainer = gd.closest('#notebook-container');\n",
       "if (notebookContainer) {{\n",
       "    x.observe(notebookContainer, {childList: true});\n",
       "}}\n",
       "\n",
       "// Listen for the clearing of the current output cell\n",
       "var outputEl = gd.closest('.output');\n",
       "if (outputEl) {{\n",
       "    x.observe(outputEl, {childList: true});\n",
       "}}\n",
       "\n",
       "                        })                };                });            </script>        </div>"
      ]
     },
     "metadata": {},
     "output_type": "display_data"
    }
   ],
   "source": [
    "###################################################################################################\n",
    "# Visualize empirical distribution function. See :func:`~optuna.visualization.plot_edf` for the details.\n",
    "plot_edf(study)"
   ]
  },
  {
   "cell_type": "markdown",
   "metadata": {
    "id": "5nVNrHHSi347"
   },
   "source": [
    "### 1.2.3. Modelo Final\n",
    "Agora que temos os melhores parametros, vamos treinar uma modelo com esse parametros e fazer algumas análises, para o treinamento vamos utilizar o dataset de treino (train)  e validar a performance do modelo em dados que não foram utlizados no treinamento e  vamos fazer uma pequena análise. "
   ]
  },
  {
   "cell_type": "code",
   "execution_count": 129,
   "metadata": {
    "ExecuteTime": {
     "end_time": "2021-11-29T02:13:47.169386Z",
     "start_time": "2021-11-29T02:13:47.155403Z"
    },
    "executionInfo": {
     "elapsed": 23,
     "status": "aborted",
     "timestamp": 1638057557727,
     "user": {
      "displayName": "Rogério Delfim",
      "photoUrl": "https://lh3.googleusercontent.com/a-/AOh14Gj8lDYWTfZHU0U0sMojRPio71Ec7YDcSEpCaOEE=s64",
      "userId": "04235763959036945343"
     },
     "user_tz": 180
    },
    "id": "Q2z5TRffX0dk"
   },
   "outputs": [
    {
     "data": {
      "text/plain": [
       "{'criterion': 'entropy',\n",
       " 'n_estimators': 772,\n",
       " 'max_depth': 9,\n",
       " 'max_samples': 0.7657015920690705,\n",
       " 'bootstrap': 'True',\n",
       " 'random_state': 12359,\n",
       " 'n_jobs': -1}"
      ]
     },
     "execution_count": 129,
     "metadata": {},
     "output_type": "execute_result"
    }
   ],
   "source": [
    "params_best"
   ]
  },
  {
   "cell_type": "code",
   "execution_count": 130,
   "metadata": {
    "ExecuteTime": {
     "end_time": "2021-11-29T03:02:42.046913Z",
     "start_time": "2021-11-29T02:13:47.171386Z"
    },
    "executionInfo": {
     "elapsed": 23,
     "status": "aborted",
     "timestamp": 1638057557727,
     "user": {
      "displayName": "Rogério Delfim",
      "photoUrl": "https://lh3.googleusercontent.com/a-/AOh14Gj8lDYWTfZHU0U0sMojRPio71Ec7YDcSEpCaOEE=s64",
      "userId": "04235763959036945343"
     },
     "user_tz": 180
    },
    "id": "52gsbtwyi348",
    "scrolled": true
   },
   "outputs": [
    {
     "name": "stdout",
     "output_type": "stream",
     "text": [
      "============================================================================================\n",
      "Training model: RandomForestClassifier - seed 12359 - n_estimators: 772 - max_depth: 9 \n",
      "============================================================================================\n",
      "Fold: 1 - AUC: 0.66383 - F1-score: 0.67812 - L.Loss: 0.65241 - 0h 10m 32s\n",
      "Fold: 2 - AUC: 0.66962 - F1-score: 0.68297 - L.Loss: 0.65147 - 0h 9m 50s\n",
      "Fold: 3 - AUC: 0.66488 - F1-score: 0.67850 - L.Loss: 0.65240 - 0h 9m 32s\n",
      "Fold: 4 - AUC: 0.66293 - F1-score: 0.67768 - L.Loss: 0.65262 - 0h 8m 56s\n",
      "Fold: 5 - AUC: 0.66644 - F1-score: 0.67933 - L.Loss: 0.65209 - 0h 10m 1s\n",
      "--------------------------------------------------------------------------------------------\n",
      "[Mean Fold]  AUC: 0.66554(Std:0.00235) - F1: 0.67932 - L. Loss: 0.65220  0h 48m 54s\n",
      "============================================================================================\n",
      "\n",
      "Wall time: 48min 54s\n"
     ]
    }
   ],
   "source": [
    "%%time\n",
    "\n",
    "name_model = name_model_clf + '003_tun'\n",
    "\n",
    "model, score, _, _  = TunningModels.cross_valid(model_         = RandomForestClassifier (**params_best), \n",
    "                                                model_name_    = name_mdl, \n",
    "                                                X_train_       = X_train, \n",
    "                                                y_train_       = y_train, \n",
    "                                                X_test_        = X_test_scaler, \n",
    "                                                fold_          = 5, \n",
    "                                                target_        = 'target',\n",
    "                                                path_          = path,\n",
    "                                                level_         = '1',\n",
    "                                                save_predict_  = False, \n",
    "                                                print_result_  = True,\n",
    "                                                seed_          = SEED,\n",
    "                                                feature_       = feature_, \n",
    "                                                feature_bin_   = None, \n",
    "                                                scaler_        = scaler_best, \n",
    "                                                threshold      =.5                                                      \n",
    "                                                )\n"
   ]
  },
  {
   "cell_type": "markdown",
   "metadata": {
    "id": "kmA6tODli348"
   },
   "source": [
    "<div class=\"alert alert-info\" role=\"alert\"> \n",
    "    \n",
    "**`NOTA:`** <br>\n",
    "Observando os dados acima do treinamento, a AUC está na média em relação ao processo de tunning que foi realizado na etapa anterior, vamos fazer a predição em dados que o modelo não viu no treinamento e continuar com a análise, primeito vamos transformar os dados de validação.\n",
    "    \n",
    "</div>"
   ]
  },
  {
   "cell_type": "code",
   "execution_count": 131,
   "metadata": {
    "ExecuteTime": {
     "end_time": "2021-11-29T03:02:42.903856Z",
     "start_time": "2021-11-29T03:02:42.048855Z"
    },
    "executionInfo": {
     "elapsed": 24,
     "status": "aborted",
     "timestamp": 1638057557728,
     "user": {
      "displayName": "Rogério Delfim",
      "photoUrl": "https://lh3.googleusercontent.com/a-/AOh14Gj8lDYWTfZHU0U0sMojRPio71Ec7YDcSEpCaOEE=s64",
      "userId": "04235763959036945343"
     },
     "user_tz": 180
    },
    "id": "BIoXk1LxX0dl"
   },
   "outputs": [
    {
     "data": {
      "text/plain": [
       "(120000, 105)"
      ]
     },
     "execution_count": 131,
     "metadata": {},
     "output_type": "execute_result"
    }
   ],
   "source": [
    "X_valid_scaler = TunningModels.feature_scaler(X_valid[feature_].copy(), scaler_best, None )\n",
    "X_valid_scaler.shape"
   ]
  },
  {
   "cell_type": "code",
   "execution_count": 132,
   "metadata": {
    "ExecuteTime": {
     "end_time": "2021-11-29T03:02:45.704854Z",
     "start_time": "2021-11-29T03:02:42.905856Z"
    },
    "executionInfo": {
     "elapsed": 23,
     "status": "aborted",
     "timestamp": 1638057557728,
     "user": {
      "displayName": "Rogério Delfim",
      "photoUrl": "https://lh3.googleusercontent.com/a-/AOh14Gj8lDYWTfZHU0U0sMojRPio71Ec7YDcSEpCaOEE=s64",
      "userId": "04235763959036945343"
     },
     "user_tz": 180
    },
    "id": "lOMOyYkPX0dl"
   },
   "outputs": [
    {
     "data": {
      "text/plain": [
       "array([0.50237842, 0.40285031, 0.55123161, ..., 0.59645136, 0.51793706,\n",
       "       0.44999918])"
      ]
     },
     "execution_count": 132,
     "metadata": {},
     "output_type": "execute_result"
    }
   ],
   "source": [
    "y_pred_proba = model.predict_proba (X_valid_scaler)[:,1]\n",
    "y_pred_proba"
   ]
  },
  {
   "cell_type": "markdown",
   "metadata": {
    "id": "S2p1olpsi349"
   },
   "source": [
    "#### 1.2.3.1. Analise do Modelo"
   ]
  },
  {
   "cell_type": "markdown",
   "metadata": {
    "id": "j7HbJ8Tei349"
   },
   "source": [
    "#### 1.2.3.1.1. Curva Roc"
   ]
  },
  {
   "cell_type": "code",
   "execution_count": 133,
   "metadata": {
    "ExecuteTime": {
     "end_time": "2021-11-29T03:02:46.268776Z",
     "start_time": "2021-11-29T03:02:45.705855Z"
    },
    "executionInfo": {
     "elapsed": 23,
     "status": "aborted",
     "timestamp": 1638057557728,
     "user": {
      "displayName": "Rogério Delfim",
      "photoUrl": "https://lh3.googleusercontent.com/a-/AOh14Gj8lDYWTfZHU0U0sMojRPio71Ec7YDcSEpCaOEE=s64",
      "userId": "04235763959036945343"
     },
     "user_tz": 180
    },
    "id": "ftidKrDUi34-"
   },
   "outputs": [
    {
     "data": {
      "image/png": "[encoded data removed]",
      "text/plain": [
       "<Figure size 432x288 with 1 Axes>"
      ]
     },
     "metadata": {
      "needs_background": "light"
     },
     "output_type": "display_data"
    }
   ],
   "source": [
    "fpr, tpr, thresholds = metrics.roc_curve(y_valid, y_pred_proba)\n",
    "plot_roc_curve(fpr, tpr, label=\"LGBM\")\n",
    "plt.show()"
   ]
  },
  {
   "cell_type": "markdown",
   "metadata": {
    "id": "Vm2gsRY3i34-"
   },
   "source": [
    "<div class=\"alert alert-info\" role=\"alert\"> \n",
    "    \n",
    "**`NOTA:`** <br>\n",
    "Observando o gráfico acima, podemos concluir que o melhor ponto de corte (threshold) fica em torno de .4 à .45, isto é, esse ponto de corte melhora o F1-score,  vamos fazer esse teste.  \n",
    "\n",
    "</div>\n"
   ]
  },
  {
   "cell_type": "markdown",
   "metadata": {
    "id": "N7_XX5WHX0dn"
   },
   "source": [
    "- **SEM PONTO DE CORTE**"
   ]
  },
  {
   "cell_type": "code",
   "execution_count": 134,
   "metadata": {
    "ExecuteTime": {
     "end_time": "2021-11-29T03:02:46.519952Z",
     "start_time": "2021-11-29T03:02:46.270774Z"
    },
    "executionInfo": {
     "elapsed": 24,
     "status": "aborted",
     "timestamp": 1638057557729,
     "user": {
      "displayName": "Rogério Delfim",
      "photoUrl": "https://lh3.googleusercontent.com/a-/AOh14Gj8lDYWTfZHU0U0sMojRPio71Ec7YDcSEpCaOEE=s64",
      "userId": "04235763959036945343"
     },
     "user_tz": 180
    },
    "id": "8BcpHgTNi34-"
   },
   "outputs": [
    {
     "name": "stdout",
     "output_type": "stream",
     "text": [
      "              precision    recall  f1-score   support\n",
      "\n",
      "           0       0.67      0.63      0.65     59279\n",
      "           1       0.66      0.70      0.68     60721\n",
      "\n",
      "    accuracy                           0.67    120000\n",
      "   macro avg       0.67      0.67      0.67    120000\n",
      "weighted avg       0.67      0.67      0.67    120000\n",
      "\n",
      "\n",
      "F1-score: 0.68031\n",
      "AUC     : 0.66664\n"
     ]
    }
   ],
   "source": [
    "threshold = .5\n",
    "y_pred = (y_pred_proba >threshold)\n",
    "\n",
    "f1_002  = metrics.f1_score (y_valid, y_pred)\n",
    "auc_002 = metrics.roc_auc_score(y_valid, y_pred)\n",
    "\n",
    "print(metrics.classification_report(y_valid, y_pred))\n",
    "print('')\n",
    "print('F1-score: {:2.5f}'.format(f1_002))\n",
    "print('AUC     : {:2.5f}'.format(auc_002))"
   ]
  },
  {
   "cell_type": "markdown",
   "metadata": {
    "id": "Df6ogIVfX0dn"
   },
   "source": [
    "- **COM PONTO DE CORTE**"
   ]
  },
  {
   "cell_type": "code",
   "execution_count": 135,
   "metadata": {
    "ExecuteTime": {
     "end_time": "2021-11-29T03:02:46.754959Z",
     "start_time": "2021-11-29T03:02:46.524771Z"
    },
    "executionInfo": {
     "elapsed": 24,
     "status": "aborted",
     "timestamp": 1638057557729,
     "user": {
      "displayName": "Rogério Delfim",
      "photoUrl": "https://lh3.googleusercontent.com/a-/AOh14Gj8lDYWTfZHU0U0sMojRPio71Ec7YDcSEpCaOEE=s64",
      "userId": "04235763959036945343"
     },
     "user_tz": 180
    },
    "id": "nmyE4HnGX0do"
   },
   "outputs": [
    {
     "name": "stdout",
     "output_type": "stream",
     "text": [
      "              precision    recall  f1-score   support\n",
      "\n",
      "           0       0.69      0.58      0.63     59279\n",
      "           1       0.64      0.75      0.69     60721\n",
      "\n",
      "    accuracy                           0.66    120000\n",
      "   macro avg       0.67      0.66      0.66    120000\n",
      "weighted avg       0.67      0.66      0.66    120000\n",
      "\n",
      "\n",
      "F1-score: 0.69145\n",
      "AUC     : 0.66216\n"
     ]
    }
   ],
   "source": [
    "threshold = .49\n",
    "y_pred  = (y_pred_proba >threshold)\n",
    "f1_002  = metrics.f1_score (y_valid, y_pred)\n",
    "auc_002 = metrics.roc_auc_score(y_valid, y_pred)\n",
    "\n",
    "print(metrics.classification_report(y_valid, y_pred))\n",
    "print('')\n",
    "print('F1-score: {:2.5f}'.format(f1_002))\n",
    "print('AUC     : {:2.5f}'.format(auc_002))"
   ]
  },
  {
   "cell_type": "markdown",
   "metadata": {
    "ExecuteTime": {
     "end_time": "2021-11-12T11:54:31.146535Z",
     "start_time": "2021-11-12T11:54:31.140502Z"
    },
    "id": "Vrn4XBWGX0do"
   },
   "source": [
    "<div class=\"alert alert-info\" role=\"alert\"> \n",
    "    \n",
    "**`NOTA:`** <br>\n",
    "Podemos observar acima, com um ponto de corte de .45 obtivemos um F1-score de 0.69162 em relação ao ponto de corte padrão de .5 que gerou um F1-score de 0.66127, uma observação importante que tenho que destacar é que o ponto de corte ideal depende muito do entendimento do negócio que estamos modelando.\n",
    " \n",
    "</div>"
   ]
  },
  {
   "cell_type": "code",
   "execution_count": 136,
   "metadata": {
    "ExecuteTime": {
     "end_time": "2021-11-29T03:02:52.652956Z",
     "start_time": "2021-11-29T03:02:46.757770Z"
    },
    "executionInfo": {
     "elapsed": 24,
     "status": "aborted",
     "timestamp": 1638057557729,
     "user": {
      "displayName": "Rogério Delfim",
      "photoUrl": "https://lh3.googleusercontent.com/a-/AOh14Gj8lDYWTfZHU0U0sMojRPio71Ec7YDcSEpCaOEE=s64",
      "userId": "04235763959036945343"
     },
     "user_tz": 180
    },
    "id": "m1_DxLR-i34-"
   },
   "outputs": [
    {
     "data": {
      "image/png": "[encoded data removed]",
      "text/plain": [
       "<Figure size 1080x360 with 4 Axes>"
      ]
     },
     "metadata": {
      "needs_background": "light"
     },
     "output_type": "display_data"
    }
   ],
   "source": [
    "plt.figure(figsize=(15,5))\n",
    "ax = plt.subplot(1,2,1)\n",
    "\n",
    "metrics.plot_confusion_matrix(model, \n",
    "                              X_valid_scaler, \n",
    "                              y_valid, \n",
    "                              cmap          = 'inferno', \n",
    "                              values_format = 'd', \n",
    "                              ax            = ax) #true’, ‘pred’, ‘all’\n",
    "\n",
    "plt.title('Confusion matrix')\n",
    "\n",
    "ax= plt.subplot(1,2,2)\n",
    "metrics.plot_confusion_matrix(model, X_valid_scaler, y_valid, cmap='inferno', normalize='all', ax=ax) \n",
    "plt.title('Confusion matrix');"
   ]
  },
  {
   "cell_type": "markdown",
   "metadata": {
    "ExecuteTime": {
     "end_time": "2021-11-12T12:35:22.412596Z",
     "start_time": "2021-11-12T12:35:22.397563Z"
    },
    "id": "lNQmQE4HX0do"
   },
   "source": [
    "<div class=\"alert alert-info\" role=\"alert\"> \n",
    "    \n",
    "**`NOTA:`** <br>\n",
    "com as matrizes de confusão acima podemos ter uma melhor noção para dos número que o modelo consegue gerar na predição, podemos obeservar que o modelo de Random Forest para esse conjunto de dados tem uma taxa razoavel na predição, principalmente na predição de verdadeiro positivo com um percentual de erro de 23%, isto é, o modelo classifica erradamente falsos positivos com sendo verdadeiro posito e acerta 33%, em relação ao falso positivo tem um erro de 17% com certo de 28%.\n",
    "    \n",
    "</div>"
   ]
  },
  {
   "cell_type": "markdown",
   "metadata": {
    "id": "SddO5fbXi34_"
   },
   "source": [
    "### 1.2.4. Divercidade"
   ]
  },
  {
   "cell_type": "markdown",
   "metadata": {
    "id": "GFW2f9_hX0dp"
   },
   "source": [
    "#### 1.2.4.1. Feature Select"
   ]
  },
  {
   "cell_type": "markdown",
   "metadata": {
    "id": "OGAddqK5i34_"
   },
   "source": [
    "#### 1.2.4.1. SEED\n",
    "Nesta etapa vamos utilizar os melhores parametros, que encontramos na tunagem acima, com `seed` diferentes. "
   ]
  },
  {
   "cell_type": "code",
   "execution_count": null,
   "metadata": {
    "ExecuteTime": {
     "start_time": "2021-11-28T04:20:08.046Z"
    },
    "colab": {
     "base_uri": "https://localhost:8080/"
    },
    "executionInfo": {
     "elapsed": 396772,
     "status": "ok",
     "timestamp": 1638052602069,
     "user": {
      "displayName": "Rogério Delfim",
      "photoUrl": "https://lh3.googleusercontent.com/a-/AOh14Gj8lDYWTfZHU0U0sMojRPio71Ec7YDcSEpCaOEE=s64",
      "userId": "04235763959036945343"
     },
     "user_tz": 180
    },
    "id": "aD5OMGA2gzKH",
    "outputId": "f00b93ba-e857-4a7b-cf5a-f6b1b83916c7",
    "scrolled": false
   },
   "outputs": [
    {
     "name": "stdout",
     "output_type": "stream",
     "text": [
      "============================================================================================\n",
      "Training model: RandomForestClassifier - seed 42 - n_estimators: 772 - max_depth: 9 \n",
      "============================================================================================\n",
      "Fold: 1 - AUC: 0.66267 - F1-score: 0.67627 - L.Loss: 0.65267 - 0h 11m 47s\n",
      "Fold: 2 - AUC: 0.66637 - F1-score: 0.67982 - L.Loss: 0.65214 - 0h 11m 40s\n",
      "Fold: 3 - AUC: 0.66548 - F1-score: 0.67965 - L.Loss: 0.65198 - 0h 11m 26s\n",
      "Fold: 4 - AUC: 0.66480 - F1-score: 0.67748 - L.Loss: 0.65230 - 0h 11m 53s\n",
      "Fold: 5 - AUC: 0.66637 - F1-score: 0.68035 - L.Loss: 0.65222 - 0h 11m 42s\n",
      "--------------------------------------------------------------------------------------------\n",
      "[Mean Fold]  AUC: 0.66514(Std:0.00137) - F1: 0.67871 - L. Loss: 0.65226  0h 58m 37s\n",
      "============================================================================================\n",
      "\n",
      "============================================================================================\n",
      "Training model: RandomForestClassifier - seed 59 - n_estimators: 772 - max_depth: 9 \n",
      "============================================================================================\n",
      "Fold: 1 - AUC: 0.66352 - F1-score: 0.67698 - L.Loss: 0.65268 - 0h 11m 29s\n",
      "Fold: 2 - AUC: 0.66509 - F1-score: 0.67877 - L.Loss: 0.65214 - 0h 11m 30s\n",
      "Fold: 3 - AUC: 0.66489 - F1-score: 0.67873 - L.Loss: 0.65233 - 0h 11m 28s\n",
      "Fold: 4 - AUC: 0.66716 - F1-score: 0.68062 - L.Loss: 0.65213 - 0h 11m 28s\n",
      "Fold: 5 - AUC: 0.66432 - F1-score: 0.67813 - L.Loss: 0.65211 - 0h 11m 24s\n",
      "--------------------------------------------------------------------------------------------\n",
      "[Mean Fold]  AUC: 0.66500(Std:0.00121) - F1: 0.67865 - L. Loss: 0.65228  0h 57m 25s\n",
      "============================================================================================\n",
      "\n",
      "============================================================================================\n",
      "Training model: RandomForestClassifier - seed 100 - n_estimators: 772 - max_depth: 9 \n",
      "============================================================================================\n",
      "Fold: 1 - AUC: 0.66424 - F1-score: 0.67769 - L.Loss: 0.65231 - 0h 11m 10s\n",
      "Fold: 2 - AUC: 0.66567 - F1-score: 0.67891 - L.Loss: 0.65205 - 0h 11m 22s\n",
      "Fold: 3 - AUC: 0.66433 - F1-score: 0.67810 - L.Loss: 0.65234 - 0h 11m 17s\n",
      "Fold: 4 - AUC: 0.66401 - F1-score: 0.67776 - L.Loss: 0.65256 - 0h 11m 33s\n",
      "Fold: 5 - AUC: 0.66591 - F1-score: 0.67901 - L.Loss: 0.65185 - 0h 11m 40s\n",
      "--------------------------------------------------------------------------------------------\n",
      "[Mean Fold]  AUC: 0.66483(Std:0.00079) - F1: 0.67829 - L. Loss: 0.65222  0h 57m 9s\n",
      "============================================================================================\n",
      "\n",
      "============================================================================================\n",
      "Training model: RandomForestClassifier - seed 200 - n_estimators: 772 - max_depth: 9 \n",
      "============================================================================================\n",
      "Fold: 1 - AUC: 0.66494 - F1-score: 0.67856 - L.Loss: 0.65243 - 0h 11m 12s\n",
      "Fold: 2 - AUC: 0.66294 - F1-score: 0.67653 - L.Loss: 0.65267 - 0h 11m 33s\n",
      "Fold: 3 - AUC: 0.66449 - F1-score: 0.67823 - L.Loss: 0.65222 - 0h 11m 52s\n",
      "Fold: 4 - AUC: 0.66595 - F1-score: 0.67959 - L.Loss: 0.65187 - 0h 11m 21s\n",
      "Fold: 5 - AUC: 0.66661 - F1-score: 0.67923 - L.Loss: 0.65202 - 0h 11m 46s\n",
      "--------------------------------------------------------------------------------------------\n",
      "[Mean Fold]  AUC: 0.66499(Std:0.00127) - F1: 0.67843 - L. Loss: 0.65224  0h 57m 51s\n",
      "============================================================================================\n",
      "\n",
      "============================================================================================\n",
      "Training model: RandomForestClassifier - seed 1000 - n_estimators: 772 - max_depth: 9 \n",
      "============================================================================================\n",
      "Fold: 1 - AUC: 0.66421 - F1-score: 0.67742 - L.Loss: 0.65250 - 0h 11m 8s\n",
      "Fold: 2 - AUC: 0.66526 - F1-score: 0.67883 - L.Loss: 0.65226 - 0h 11m 22s\n",
      "Fold: 3 - AUC: 0.66429 - F1-score: 0.67722 - L.Loss: 0.65242 - 0h 11m 27s\n",
      "Fold: 4 - AUC: 0.66756 - F1-score: 0.68118 - L.Loss: 0.65158 - 0h 11m 15s\n",
      "Fold: 5 - AUC: 0.66212 - F1-score: 0.67659 - L.Loss: 0.65270 - 0h 11m 38s\n",
      "--------------------------------------------------------------------------------------------\n",
      "[Mean Fold]  AUC: 0.66469(Std:0.00176) - F1: 0.67825 - L. Loss: 0.65229  0h 56m 58s\n",
      "============================================================================================\n",
      "\n",
      "============================================================================================\n",
      "Training model: RandomForestClassifier - seed 1500 - n_estimators: 772 - max_depth: 9 \n",
      "============================================================================================\n",
      "Fold: 1 - AUC: 0.66799 - F1-score: 0.68116 - L.Loss: 0.65158 - 0h 11m 10s\n",
      "Fold: 2 - AUC: 0.66447 - F1-score: 0.67830 - L.Loss: 0.65235 - 0h 11m 31s\n",
      "Fold: 3 - AUC: 0.66329 - F1-score: 0.67757 - L.Loss: 0.65245 - 0h 11m 31s\n",
      "Fold: 4 - AUC: 0.66578 - F1-score: 0.67959 - L.Loss: 0.65220 - 0h 11m 7s\n",
      "Fold: 5 - AUC: 0.66285 - F1-score: 0.67625 - L.Loss: 0.65258 - 0h 11m 23s\n",
      "--------------------------------------------------------------------------------------------\n",
      "[Mean Fold]  AUC: 0.66487(Std:0.00186) - F1: 0.67857 - L. Loss: 0.65223  0h 56m 50s\n",
      "============================================================================================\n",
      "\n",
      "============================================================================================\n",
      "Training model: RandomForestClassifier - seed 2020 - n_estimators: 772 - max_depth: 9 \n",
      "============================================================================================\n",
      "Fold: 1 - AUC: 0.66479 - F1-score: 0.67889 - L.Loss: 0.65206 - 0h 11m 33s\n",
      "Fold: 2 - AUC: 0.66765 - F1-score: 0.68061 - L.Loss: 0.65174 - 0h 11m 25s\n",
      "Fold: 3 - AUC: 0.66449 - F1-score: 0.67766 - L.Loss: 0.65245 - 0h 11m 17s\n",
      "Fold: 4 - AUC: 0.66375 - F1-score: 0.67728 - L.Loss: 0.65237 - 0h 11m 14s\n",
      "Fold: 5 - AUC: 0.66330 - F1-score: 0.67685 - L.Loss: 0.65256 - 0h 10m 52s\n",
      "--------------------------------------------------------------------------------------------\n",
      "[Mean Fold]  AUC: 0.66479(Std:0.00152) - F1: 0.67826 - L. Loss: 0.65224  0h 56m 27s\n",
      "============================================================================================\n",
      "\n",
      "============================================================================================\n",
      "Training model: RandomForestClassifier - seed 2021 - n_estimators: 772 - max_depth: 9 \n",
      "============================================================================================\n",
      "Fold: 1 - AUC: 0.66319 - F1-score: 0.67659 - L.Loss: 0.65315 - 0h 11m 22s\n",
      "Fold: 2 - AUC: 0.66552 - F1-score: 0.67910 - L.Loss: 0.65217 - 0h 11m 14s\n"
     ]
    }
   ],
   "source": [
    "%%time \n",
    "\n",
    "SEED_       = [42, 59, 100, 200, 1000, 1500, 2020, 2021, 5000, 10000, 7000]\n",
    "name_model  = name_model_clf + '005_div_seed' \n",
    "df_seed     = pd.DataFrame()\n",
    "params_seed = params_best.copy()\n",
    "\n",
    "TunningModels.delete_files(name_model)\n",
    "\n",
    "for i, seed_ in  enumerate (SEED_):     \n",
    "    \n",
    "    params_seed.update({'random_state': seed_})\n",
    "    \n",
    "    _, score, y_hat, _ = TunningModels.cross_valid(model_         = RandomForestClassifier (**params_best), \n",
    "                                                   model_name_    = name_mdl,\n",
    "                                                   X_train_       = X,\n",
    "                                                   y_train_       = y, \n",
    "                                                   X_test_        = X_test_scaler, \n",
    "                                                   fold_          = 5, \n",
    "                                                   target_        = 'target',\n",
    "                                                   path_          = path,\n",
    "                                                   level_         = '1',\n",
    "                                                   save_predict_  = True, \n",
    "                                                   print_result_  = True,\n",
    "                                                   seed_          = seed_,\n",
    "                                                   feature_       = feature_, \n",
    "                                                   feature_bin_   = None, \n",
    "                                                   scaler_        = scaler_best, \n",
    "                                                   threshold      =.5                                                      \n",
    "                                                   )\n",
    "\n",
    "    if score > score_best: \n",
    "        seed_best  = seed_\n",
    "        score_best = score\n",
    "\n",
    "    df_seed['seed_' + str(seed_)] = y_hat \n",
    "   \n",
    "print('Seed best: {}'.format(seed_best))\n",
    "print('Score    : {:2.5f}'.format(score_best))"
   ]
  },
  {
   "cell_type": "code",
   "execution_count": null,
   "metadata": {
    "ExecuteTime": {
     "start_time": "2021-11-28T04:20:09.189Z"
    },
    "colab": {
     "base_uri": "https://localhost:8080/",
     "height": 205
    },
    "executionInfo": {
     "elapsed": 246,
     "status": "ok",
     "timestamp": 1638052627630,
     "user": {
      "displayName": "Rogério Delfim",
      "photoUrl": "https://lh3.googleusercontent.com/a-/AOh14Gj8lDYWTfZHU0U0sMojRPio71Ec7YDcSEpCaOEE=s64",
      "userId": "04235763959036945343"
     },
     "user_tz": 180
    },
    "id": "B_Ul_1SEA1Wu",
    "outputId": "2a23f562-e400-48a1-f95d-085ba4757d99"
   },
   "outputs": [],
   "source": [
    " df_seed.head()"
   ]
  },
  {
   "cell_type": "code",
   "execution_count": null,
   "metadata": {
    "ExecuteTime": {
     "start_time": "2021-11-28T04:20:09.765Z"
    },
    "id": "r2DQqQ_HX0dq"
   },
   "outputs": [],
   "source": [
    "submission = pd.DataFrame({'id': df_submission.id, target: df_seed.mean(axis=1)})\n",
    "submission.to_csv(path + 'Data/submission/lgbm_005_div_seed.csv', index=False)\n",
    "# kaggle 0.74514"
   ]
  },
  {
   "cell_type": "markdown",
   "metadata": {
    "id": "AMJA2EZPi35A"
   },
   "source": [
    "### 1.2.5. Ensable "
   ]
  },
  {
   "cell_type": "markdown",
   "metadata": {
    "id": "yo0Gg8ezi35A"
   },
   "source": [
    "#### 1.2.5.1. Recuparar dataset\n",
    "Vamos recuperar todas as previsões do LGBM para gerar um ensable. "
   ]
  },
  {
   "cell_type": "code",
   "execution_count": null,
   "metadata": {
    "ExecuteTime": {
     "end_time": "2021-11-25T00:13:27.186764Z",
     "start_time": "2021-11-25T00:13:14.670653Z"
    },
    "colab": {
     "base_uri": "https://localhost:8080/"
    },
    "executionInfo": {
     "elapsed": 357757,
     "status": "ok",
     "timestamp": 1635632249520,
     "user": {
      "displayName": "Rogério Delfim",
      "photoUrl": "https://lh3.googleusercontent.com/a-/AOh14Gj8lDYWTfZHU0U0sMojRPio71Ec7YDcSEpCaOEE=s64",
      "userId": "04235763959036945343"
     },
     "user_tz": 180
    },
    "id": "RW7YFOmpi35A",
    "outputId": "2d3582af-6067-42dc-d53f-f8b8ab0ed0e0"
   },
   "outputs": [],
   "source": [
    "%%time \n",
    "df_train, df_test = TunningModels.df_return_preds_tunning(train_shape_row = X.iloc[X_sample_idx].shape[0], \n",
    "                                                          test_shape_row  = X_test.shape[0])\n",
    "print(df_train.shape, df_test.shape)\n",
    "print()"
   ]
  },
  {
   "cell_type": "code",
   "execution_count": null,
   "metadata": {
    "ExecuteTime": {
     "end_time": "2021-11-25T00:13:31.923839Z",
     "start_time": "2021-11-25T00:13:31.895801Z"
    },
    "colab": {
     "base_uri": "https://localhost:8080/",
     "height": 161
    },
    "executionInfo": {
     "elapsed": 483,
     "status": "error",
     "timestamp": 1635653302588,
     "user": {
      "displayName": "Rogério Delfim",
      "photoUrl": "https://lh3.googleusercontent.com/a-/AOh14Gj8lDYWTfZHU0U0sMojRPio71Ec7YDcSEpCaOEE=s64",
      "userId": "04235763959036945343"
     },
     "user_tz": 180
    },
    "id": "4MzP_wQssvmm",
    "outputId": "12838c8b-dd3c-457e-9ec6-d5b97493a682"
   },
   "outputs": [],
   "source": [
    "df_train.head()"
   ]
  },
  {
   "cell_type": "code",
   "execution_count": null,
   "metadata": {
    "id": "N5YNY8dDi35B"
   },
   "outputs": [],
   "source": [
    "y_pred      = df_train_rf['target']\n",
    "df_train_rf = df_train_rf.filter(regex=r'_0.8' , axis=1)\n",
    "df_test_rf  = df_test_rf.filter(regex=r'_0.8', axis=1)\n",
    "\n",
    "df_train_rf['target'] = y_pred\n",
    "df_train_rf.shape, df_test_rf.shape"
   ]
  },
  {
   "cell_type": "code",
   "execution_count": null,
   "metadata": {
    "id": "2h7hCy3li35B"
   },
   "outputs": [],
   "source": [
    "df_train_rf.head()"
   ]
  },
  {
   "cell_type": "markdown",
   "metadata": {
    "id": "bjE0558vi35B"
   },
   "source": [
    "#### 1.2.5.2. Descritiva"
   ]
  },
  {
   "cell_type": "code",
   "execution_count": null,
   "metadata": {
    "id": "ohQgKKpAi35B"
   },
   "outputs": [],
   "source": [
    "df_test_rf.mean(axis=1).describe()"
   ]
  },
  {
   "cell_type": "markdown",
   "metadata": {
    "id": "n-wD5-jqi35B"
   },
   "source": [
    "#### 1.2.5.3. Gerar submission \n",
    "Vamos gerar uma submission com a media das previssões, para termos uma ideia de como estamos. "
   ]
  },
  {
   "cell_type": "code",
   "execution_count": null,
   "metadata": {
    "id": "NRnXoCBli35B"
   },
   "outputs": [],
   "source": [
    "y_hat_rf_mean = df_test_rf.mean(axis=1)\n",
    "submission = pd.DataFrame({'id': df_submission.id, 'claim': y_hat_rf_mean })\n",
    "submission.to_csv(path + 'Data/sumbmission/rf_003_feature_gr.csv', index=False) \n",
    "# score kaggle: 0.60423"
   ]
  },
  {
   "cell_type": "code",
   "execution_count": null,
   "metadata": {
    "id": "ilLCawrmi35B"
   },
   "outputs": [],
   "source": [
    "y_hat_rf_mean"
   ]
  },
  {
   "cell_type": "markdown",
   "metadata": {
    "id": "ABSiqjJ6i35C"
   },
   "source": [
    "#### 1.2.5.4. Correlação"
   ]
  },
  {
   "cell_type": "code",
   "execution_count": null,
   "metadata": {
    "ExecuteTime": {
     "end_time": "2021-11-25T00:14:47.704459Z",
     "start_time": "2021-11-25T00:14:45.652635Z"
    },
    "colab": {
     "base_uri": "https://localhost:8080/",
     "height": 1000
    },
    "executionInfo": {
     "elapsed": 1446,
     "status": "ok",
     "timestamp": 1635556063137,
     "user": {
      "displayName": "Rogério Delfim",
      "photoUrl": "https://lh3.googleusercontent.com/a-/AOh14Gj8lDYWTfZHU0U0sMojRPio71Ec7YDcSEpCaOEE=s64",
      "userId": "04235763959036945343"
     },
     "user_tz": 180
    },
    "id": "cxfrr8nri35C",
    "outputId": "e3bd13e0-7cd5-4dfc-bbd3-2fe194e5e6f8"
   },
   "outputs": [],
   "source": [
    "graf_corr(df_train)"
   ]
  },
  {
   "cell_type": "markdown",
   "metadata": {
    "id": "VgPjew7ni35C"
   },
   "source": [
    "Temos muitas previsões autocorrelacionadas, vamos fazer a exclusão de algumas."
   ]
  },
  {
   "cell_type": "code",
   "execution_count": null,
   "metadata": {
    "ExecuteTime": {
     "end_time": "2021-11-25T00:15:34.453682Z",
     "start_time": "2021-11-25T00:15:34.430654Z"
    },
    "colab": {
     "base_uri": "https://localhost:8080/"
    },
    "executionInfo": {
     "elapsed": 248,
     "status": "ok",
     "timestamp": 1635556138271,
     "user": {
      "displayName": "Rogério Delfim",
      "photoUrl": "https://lh3.googleusercontent.com/a-/AOh14Gj8lDYWTfZHU0U0sMojRPio71Ec7YDcSEpCaOEE=s64",
      "userId": "04235763959036945343"
     },
     "user_tz": 180
    },
    "id": "8z8dijuki35C",
    "outputId": "5fe08ad4-759e-43d0-c217-68be0008da69"
   },
   "outputs": [],
   "source": [
    "corr_features = correlation(df_train, 0.75)\n",
    "len(set(corr_features))"
   ]
  },
  {
   "cell_type": "code",
   "execution_count": null,
   "metadata": {
    "ExecuteTime": {
     "end_time": "2021-11-25T00:15:37.550626Z",
     "start_time": "2021-11-25T00:15:35.525597Z"
    },
    "colab": {
     "base_uri": "https://localhost:8080/",
     "height": 1000
    },
    "executionInfo": {
     "elapsed": 1377,
     "status": "ok",
     "timestamp": 1635556144198,
     "user": {
      "displayName": "Rogério Delfim",
      "photoUrl": "https://lh3.googleusercontent.com/a-/AOh14Gj8lDYWTfZHU0U0sMojRPio71Ec7YDcSEpCaOEE=s64",
      "userId": "04235763959036945343"
     },
     "user_tz": 180
    },
    "id": "uh5ruyM9i35C",
    "outputId": "c1783637-54fb-43a3-c249-53e2c2b07ee0"
   },
   "outputs": [],
   "source": [
    "#df_train_lgbm.drop(labels=corr_features, axis=1, inplace=True)\n",
    "\n",
    "graf_corr(df_train) "
   ]
  },
  {
   "cell_type": "code",
   "execution_count": null,
   "metadata": {
    "id": "jQmZCcWOi35D"
   },
   "outputs": [],
   "source": []
  },
  {
   "cell_type": "code",
   "execution_count": null,
   "metadata": {
    "id": "Km30XSF1i35D"
   },
   "outputs": [],
   "source": []
  },
  {
   "cell_type": "code",
   "execution_count": null,
   "metadata": {
    "id": "0JL9ovOji35D"
   },
   "outputs": [],
   "source": []
  },
  {
   "cell_type": "code",
   "execution_count": null,
   "metadata": {
    "id": "VsCcwuYli35D"
   },
   "outputs": [],
   "source": []
  },
  {
   "cell_type": "code",
   "execution_count": null,
   "metadata": {
    "id": "vZuPiQx0i35D"
   },
   "outputs": [],
   "source": []
  },
  {
   "cell_type": "code",
   "execution_count": null,
   "metadata": {
    "id": "u8D2GU_zi35D"
   },
   "outputs": [],
   "source": []
  },
  {
   "cell_type": "code",
   "execution_count": null,
   "metadata": {
    "id": "8inoxnHoi35E"
   },
   "outputs": [],
   "source": []
  },
  {
   "cell_type": "code",
   "execution_count": null,
   "metadata": {
    "id": "AQtf0EQCi35E"
   },
   "outputs": [],
   "source": []
  },
  {
   "cell_type": "code",
   "execution_count": null,
   "metadata": {
    "id": "BKsnKtP-i35E"
   },
   "outputs": [],
   "source": []
  },
  {
   "cell_type": "code",
   "execution_count": null,
   "metadata": {
    "id": "iYYcJkpWi35F"
   },
   "outputs": [],
   "source": []
  },
  {
   "cell_type": "code",
   "execution_count": null,
   "metadata": {
    "id": "-HD8xVlwi35F"
   },
   "outputs": [],
   "source": []
  },
  {
   "cell_type": "code",
   "execution_count": null,
   "metadata": {
    "id": "f13sutPOi35F"
   },
   "outputs": [],
   "source": []
  },
  {
   "cell_type": "code",
   "execution_count": null,
   "metadata": {
    "id": "TpD7byhji35G"
   },
   "outputs": [],
   "source": []
  },
  {
   "cell_type": "code",
   "execution_count": null,
   "metadata": {
    "id": "TNAFtSx4i35G"
   },
   "outputs": [],
   "source": []
  },
  {
   "cell_type": "code",
   "execution_count": null,
   "metadata": {
    "id": "qWldS0Vci35G"
   },
   "outputs": [],
   "source": []
  },
  {
   "cell_type": "code",
   "execution_count": null,
   "metadata": {
    "id": "MOZqBQYli35G"
   },
   "outputs": [],
   "source": []
  },
  {
   "cell_type": "code",
   "execution_count": null,
   "metadata": {
    "id": "fbnxpM3Ri35G"
   },
   "outputs": [],
   "source": []
  },
  {
   "cell_type": "code",
   "execution_count": null,
   "metadata": {
    "id": "ZhW5FN52i35G"
   },
   "outputs": [],
   "source": []
  },
  {
   "cell_type": "code",
   "execution_count": null,
   "metadata": {
    "id": "nWVKD9FSi35G"
   },
   "outputs": [],
   "source": []
  },
  {
   "cell_type": "code",
   "execution_count": null,
   "metadata": {
    "id": "mVYIn8LEi35G"
   },
   "outputs": [],
   "source": []
  },
  {
   "cell_type": "code",
   "execution_count": null,
   "metadata": {
    "id": "mthkDSY9i35G"
   },
   "outputs": [],
   "source": []
  },
  {
   "cell_type": "code",
   "execution_count": null,
   "metadata": {
    "id": "cBk756-si35G"
   },
   "outputs": [],
   "source": []
  },
  {
   "cell_type": "code",
   "execution_count": null,
   "metadata": {
    "id": "OHjrjwxHi35H"
   },
   "outputs": [],
   "source": []
  },
  {
   "cell_type": "code",
   "execution_count": null,
   "metadata": {
    "id": "AETHT9Mni35H"
   },
   "outputs": [],
   "source": []
  },
  {
   "cell_type": "code",
   "execution_count": null,
   "metadata": {
    "id": "rd-KsX3ti35H"
   },
   "outputs": [],
   "source": []
  },
  {
   "cell_type": "code",
   "execution_count": null,
   "metadata": {
    "id": "NhJnL1UYi35H"
   },
   "outputs": [],
   "source": []
  },
  {
   "cell_type": "code",
   "execution_count": null,
   "metadata": {
    "id": "ulbzMQ7Hi35H"
   },
   "outputs": [],
   "source": []
  },
  {
   "cell_type": "code",
   "execution_count": null,
   "metadata": {
    "id": "23YYz7yOi35H"
   },
   "outputs": [],
   "source": []
  },
  {
   "cell_type": "code",
   "execution_count": null,
   "metadata": {
    "id": "RSUK4QWai35H"
   },
   "outputs": [],
   "source": []
  },
  {
   "cell_type": "code",
   "execution_count": null,
   "metadata": {
    "id": "ql7QYTGKi35H"
   },
   "outputs": [],
   "source": []
  },
  {
   "cell_type": "code",
   "execution_count": null,
   "metadata": {
    "id": "bT14587Mi35H"
   },
   "outputs": [],
   "source": []
  }
 ],
 "metadata": {
  "accelerator": "GPU",
  "colab": {
   "collapsed_sections": [],
   "machine_shape": "hm",
   "name": "04 -  Tunning Linear LGBM .ipynb",
   "provenance": [],
   "toc_visible": true
  },
  "hide_input": false,
  "kernelspec": {
   "display_name": "Python 3 (ipykernel)",
   "language": "python",
   "name": "python3"
  },
  "language_info": {
   "codemirror_mode": {
    "name": "ipython",
    "version": 3
   },
   "file_extension": ".py",
   "mimetype": "text/x-python",
   "name": "python",
   "nbconvert_exporter": "python",
   "pygments_lexer": "ipython3",
   "version": "3.9.7"
  },
  "latex_envs": {
   "LaTeX_envs_menu_present": true,
   "autoclose": false,
   "autocomplete": true,
   "bibliofile": "biblio.bib",
   "cite_by": "apalike",
   "current_citInitial": 1,
   "eqLabelWithNumbers": true,
   "eqNumInitial": 1,
   "hotkeys": {
    "equation": "Ctrl-E",
    "itemize": "Ctrl-I"
   },
   "labels_anchors": false,
   "latex_user_defs": false,
   "report_style_numbering": false,
   "user_envs_cfg": false
  },
  "nbTranslate": {
   "displayLangs": [
    "*"
   ],
   "hotkey": "alt-t",
   "langInMainMenu": true,
   "sourceLang": "en",
   "targetLang": "fr",
   "useGoogleTranslate": true
  },
  "toc": {
   "base_numbering": 1,
   "nav_menu": {},
   "number_sections": false,
   "sideBar": true,
   "skip_h1_title": false,
   "title_cell": "Table of Contents",
   "title_sidebar": "Contents",
   "toc_cell": false,
   "toc_position": {
    "height": "552.8px",
    "left": "21px",
    "top": "111.6px",
    "width": "219px"
   },
   "toc_section_display": true,
   "toc_window_display": true
  },
  "varInspector": {
   "cols": {
    "lenName": 16,
    "lenType": 16,
    "lenVar": 40
   },
   "kernels_config": {
    "python": {
     "delete_cmd_postfix": "",
     "delete_cmd_prefix": "del ",
     "library": "var_list.py",
     "varRefreshCmd": "print(var_dic_list())"
    },
    "r": {
     "delete_cmd_postfix": ") ",
     "delete_cmd_prefix": "rm(",
     "library": "var_list.r",
     "varRefreshCmd": "cat(var_dic_list()) "
    }
   },
   "types_to_exclude": [
    "module",
    "function",
    "builtin_function_or_method",
    "instance",
    "_Feature"
   ],
   "window_display": false
  }
 },
 "nbformat": 4,
 "nbformat_minor": 1
}
