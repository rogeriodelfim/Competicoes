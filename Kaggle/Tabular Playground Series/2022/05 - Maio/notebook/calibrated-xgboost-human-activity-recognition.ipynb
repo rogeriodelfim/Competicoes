{
 "cells": [
  {
   "cell_type": "code",
   "execution_count": 1,
   "id": "7fd794e5",
   "metadata": {
    "_cell_guid": "b1076dfc-b9ad-4769-8c92-a6c4dae69d19",
    "_uuid": "8f2839f25d086af736a60e9eeb907d3b93b6e0e5",
    "execution": {
     "iopub.execute_input": "2022-04-25T07:12:51.195716Z",
     "iopub.status.busy": "2022-04-25T07:12:51.193672Z",
     "iopub.status.idle": "2022-04-25T07:12:52.466107Z",
     "shell.execute_reply": "2022-04-25T07:12:52.466646Z",
     "shell.execute_reply.started": "2022-04-22T09:34:48.300752Z"
    },
    "papermill": {
     "duration": 1.342317,
     "end_time": "2022-04-25T07:12:52.466985",
     "exception": false,
     "start_time": "2022-04-25T07:12:51.124668",
     "status": "completed"
    },
    "tags": []
   },
   "outputs": [],
   "source": [
    "import pandas as pd \n",
    "import numpy as np\n",
    "import matplotlib.pyplot as plt\n",
    "import matplotlib.lines as mlines\n",
    "import matplotlib.transforms as mtransforms\n",
    "import seaborn as sns \n",
    "\n",
    "#from sklearn.ensemble import HistGradientBoostingRegressor\n",
    "from xgboost  import XGBClassifier\n",
    "\n",
    "from sklearn.calibration import calibration_curve, CalibratedClassifierCV\n",
    "from sklearn.preprocessing import StandardScaler\n",
    "from sklearn.model_selection import train_test_split, GroupKFold\n",
    "from sklearn.metrics import roc_auc_score, auc\n",
    "\n",
    "import gc"
   ]
  },
  {
   "cell_type": "code",
   "execution_count": 2,
   "id": "7ba8afc8",
   "metadata": {
    "execution": {
     "iopub.execute_input": "2022-04-25T07:12:52.539437Z",
     "iopub.status.busy": "2022-04-25T07:12:52.538616Z",
     "iopub.status.idle": "2022-04-25T07:12:52.541976Z",
     "shell.execute_reply": "2022-04-25T07:12:52.541381Z",
     "shell.execute_reply.started": "2022-04-22T09:34:49.371024Z"
    },
    "papermill": {
     "duration": 0.040304,
     "end_time": "2022-04-25T07:12:52.542101",
     "exception": false,
     "start_time": "2022-04-25T07:12:52.501797",
     "status": "completed"
    },
    "tags": []
   },
   "outputs": [],
   "source": [
    "EPOCHS = 4096\n",
    "FOLDS = 10\n",
    "\n",
    "DROP_SENSOR= True\n",
    "\n",
    "SCALING = True\n",
    "ADD_FEATURES = True\n",
    "\n",
    "SHIFT_VALS = False\n",
    "\n",
    "CALIBRATION = True"
   ]
  },
  {
   "cell_type": "code",
   "execution_count": 3,
   "id": "15e14f96",
   "metadata": {
    "execution": {
     "iopub.execute_input": "2022-04-25T07:12:52.607300Z",
     "iopub.status.busy": "2022-04-25T07:12:52.606539Z",
     "iopub.status.idle": "2022-04-25T07:13:04.125212Z",
     "shell.execute_reply": "2022-04-25T07:13:04.124450Z",
     "shell.execute_reply.started": "2022-04-22T09:34:49.378428Z"
    },
    "papermill": {
     "duration": 11.552393,
     "end_time": "2022-04-25T07:13:04.125411",
     "exception": false,
     "start_time": "2022-04-25T07:12:52.573018",
     "status": "completed"
    },
    "tags": []
   },
   "outputs": [],
   "source": [
    "train_original = pd.read_csv(\"../input/tabular-playground-series-apr-2022/train.csv\")\n",
    "test = pd.read_csv(\"../input/tabular-playground-series-apr-2022/test.csv\")\n",
    "train_lables = pd.read_csv(\"../input/tabular-playground-series-apr-2022/train_labels.csv\")\n",
    "sub= pd.read_csv(\"../input/tabular-playground-series-apr-2022/sample_submission.csv\", index_col = 0)"
   ]
  },
  {
   "cell_type": "code",
   "execution_count": 4,
   "id": "65c83dd7",
   "metadata": {
    "execution": {
     "iopub.execute_input": "2022-04-25T07:13:04.276096Z",
     "iopub.status.busy": "2022-04-25T07:13:04.274104Z",
     "iopub.status.idle": "2022-04-25T07:13:04.293066Z",
     "shell.execute_reply": "2022-04-25T07:13:04.294192Z",
     "shell.execute_reply.started": "2022-04-22T09:35:00.084839Z"
    },
    "papermill": {
     "duration": 0.097552,
     "end_time": "2022-04-25T07:13:04.294451",
     "exception": false,
     "start_time": "2022-04-25T07:13:04.196899",
     "status": "completed"
    },
    "tags": []
   },
   "outputs": [
    {
     "data": {
      "text/plain": [
       "['sensor_00',\n",
       " 'sensor_01',\n",
       " 'sensor_02',\n",
       " 'sensor_03',\n",
       " 'sensor_04',\n",
       " 'sensor_05',\n",
       " 'sensor_06',\n",
       " 'sensor_07',\n",
       " 'sensor_08',\n",
       " 'sensor_09',\n",
       " 'sensor_10',\n",
       " 'sensor_11',\n",
       " 'sensor_12']"
      ]
     },
     "execution_count": 4,
     "metadata": {},
     "output_type": "execute_result"
    }
   ],
   "source": [
    "sensor_cols = [col for col in train_original.columns if \"sensor\" in col]\n",
    "sensor_cols"
   ]
  },
  {
   "cell_type": "markdown",
   "id": "1a6ebd84",
   "metadata": {
    "papermill": {
     "duration": 0.056253,
     "end_time": "2022-04-25T07:13:04.403338",
     "exception": false,
     "start_time": "2022-04-25T07:13:04.347085",
     "status": "completed"
    },
    "tags": []
   },
   "source": [
    "# Additional Features"
   ]
  },
  {
   "cell_type": "code",
   "execution_count": 5,
   "id": "70f0a634",
   "metadata": {
    "execution": {
     "iopub.execute_input": "2022-04-25T07:13:04.523960Z",
     "iopub.status.busy": "2022-04-25T07:13:04.520115Z",
     "iopub.status.idle": "2022-04-25T07:13:06.733797Z",
     "shell.execute_reply": "2022-04-25T07:13:06.733235Z",
     "shell.execute_reply.started": "2022-04-22T09:35:00.097575Z"
    },
    "papermill": {
     "duration": 2.276551,
     "end_time": "2022-04-25T07:13:06.733940",
     "exception": false,
     "start_time": "2022-04-25T07:13:04.457389",
     "status": "completed"
    },
    "tags": []
   },
   "outputs": [],
   "source": [
    "def sub_imp(x):\n",
    "    if x < 25:\n",
    "        return 0\n",
    "    elif x > 95:\n",
    "        return 2\n",
    "    else:\n",
    "        return 1\n",
    "    \n",
    "# Subject feature\n",
    "def subject_features (df):\n",
    "    sub_stat = df[['sequence', 'subject']].drop_duplicates().groupby('subject').agg({'sequence': 'count'})\\\n",
    "    .rename(columns={'sequence': 'count'}).reset_index()\n",
    "    df = df.merge(sub_stat, on='subject', how='left')\n",
    "    df['sub_imp'] = df['count'].apply(lambda x: sub_imp(x))\n",
    "    df.drop('count', axis=1, inplace=True)\n",
    "    \n",
    "    return df\n",
    "\n",
    "train = subject_features(train_original)\n",
    "test = subject_features(test)"
   ]
  },
  {
   "cell_type": "code",
   "execution_count": 6,
   "id": "c22c342f",
   "metadata": {
    "_kg_hide-output": true,
    "execution": {
     "iopub.execute_input": "2022-04-25T07:13:06.817827Z",
     "iopub.status.busy": "2022-04-25T07:13:06.800164Z",
     "iopub.status.idle": "2022-04-25T07:13:17.312326Z",
     "shell.execute_reply": "2022-04-25T07:13:17.311495Z",
     "shell.execute_reply.started": "2022-04-22T09:35:02.153916Z"
    },
    "papermill": {
     "duration": 10.546703,
     "end_time": "2022-04-25T07:13:17.312500",
     "exception": false,
     "start_time": "2022-04-25T07:13:06.765797",
     "status": "completed"
    },
    "tags": []
   },
   "outputs": [
    {
     "name": "stdout",
     "output_type": "stream",
     "text": [
      "Adding Features\n"
     ]
    }
   ],
   "source": [
    "import scipy\n",
    "\n",
    "def add_features(df):\n",
    "    new_df = pd.DataFrame()\n",
    "    df_pivot = df.pivot(index = [\"sequence\",\"subject\"], columns =\"step\", values = sensor_cols)\n",
    "    \n",
    "    for col in sensor_cols:\n",
    "        new_df[f\"mean_{col}\"] = df_pivot[col].mean(axis = 1)\n",
    "        new_df[f\"median_{col}\"] = df_pivot[col].median(axis = 1)\n",
    "        new_df[f\"std_{col}\"] = df_pivot[col].std(axis = 1)\n",
    "        new_df[f\"variance_{col}\"] = df_pivot[col].std(axis = 1)\n",
    "        new_df[f\"max_{col}\"] = df_pivot[col].max(axis = 1)\n",
    "        new_df[f\"min_{col}\"] = df_pivot[col].min(axis = 1)\n",
    "        new_df[f\"max-min_{col}\"] = df_pivot[col].max(axis = 1) - df_pivot[col].min(axis = 1)\n",
    "        #new_df[f\"q10_{col}\"] = df_pivot[col].quantile(q= 0.1, axis =1) \n",
    "        new_df[f\"q25_{col}\"] = df_pivot[col].quantile(q= 0.25, axis =1) \n",
    "        new_df[f\"q50_{col}\"] = df_pivot[col].quantile(q= 0.5, axis =1)\n",
    "        new_df[f\"q75_{col}\"] = df_pivot[col].quantile(q= 0.75, axis =1)\n",
    "        new_df[f\"q95_{col}\"] = df_pivot[col].quantile(q= 0.95, axis =1)\n",
    "        new_df[f\"q99_{col}\"] = df_pivot[col].quantile(q= 0.99, axis =1)\n",
    "        new_df[f\"skew_{col}\"] = df_pivot[col].skew( axis =1)\n",
    "        \n",
    "        df[f\"sqr_{col}\"]  = df[col] * df[col]\n",
    "        \n",
    "        #From AMBROSM  --> https://www.kaggle.com/code/ambrosm/tpsapr22-best-model-without-nn#Cross-validation            \n",
    "        new_df[col + '_iqr'] = scipy.stats.iqr(df_pivot[col], axis=1)\n",
    "        new_df[col + '_sm'] = np.nan_to_num(new_df[f\"std_{col}\"] /  new_df[f\"mean_{col}\"].abs()).clip(-1e30, 1e30)\n",
    "        new_df[f\"kurtosis_{col}\"] = scipy.stats.kurtosis(df_pivot[col], axis=1)\n",
    "    \n",
    "    new_df['sensor_02_up'] = (df_pivot.sensor_02.diff(axis=1) > 0).sum(axis=1)\n",
    "    new_df['sensor_02_down'] = (df_pivot.sensor_02.diff(axis=1) < 0).sum(axis=1)\n",
    "    new_df['sensor_02_upsum'] = df_pivot.sensor_02.diff(axis=1).clip(0, None).sum(axis=1)\n",
    "    new_df['sensor_02_downsum'] = df_pivot.sensor_02.diff(axis=1) .clip(None, 0).sum(axis=1)\n",
    "    new_df['sensor_02_upmax'] = df_pivot.sensor_02.diff(axis=1).max(axis=1)\n",
    "    new_df['sensor_02_downmax'] = df_pivot.sensor_02.diff(axis=1).min(axis=1)\n",
    "    new_df['sensor_02_upmean'] = np.nan_to_num(new_df['sensor_02_upsum'] / new_df['sensor_02_up'], posinf=40)\n",
    "    new_df['sensor_02_downmean'] = np.nan_to_num(new_df['sensor_02_downsum'] / new_df['sensor_02_down'], neginf=-40)\n",
    "    \n",
    "    \n",
    "    ## as per my EDA\n",
    "#     new_df['sensor_02_mean_up'] = df_pivot[\"sensor_02\"].mean(axis = 1) > -0.2\n",
    "#     new_df['sensor_02_mean_up'] = new_df['sensor_02_mean_up'].astype(int)\n",
    "#     new_df['sensor_02_std_up'] = df_pivot[\"sensor_02\"].std(axis = 1) > 2.0\n",
    "#     new_df['sensor_02_std_up']  = new_df['sensor_02_std_up'] .astype(int)\n",
    "#     new_df['sensor_12_std_up'] = df_pivot[\"sensor_12\"].std(axis = 1) > 39\n",
    "#     new_df['sensor_12_std_up'] =  new_df['sensor_12_std_up'].astype(int)\n",
    "    \n",
    "#     new_df['sensor_04_std_up'] = df_pivot[\"sensor_04\"].std(axis = 1) > 1.68\n",
    "#     new_df['sensor_04_std_up'] = new_df['sensor_04_std_up'].astype(int)\n",
    "    #df['sensor_02_sqr']  = df['sensor_02'] * df['sensor_02']\n",
    "    \n",
    "\n",
    "    df = df.merge(new_df, how = \"left\", on = \"sequence\")   \n",
    "    return df\n",
    "\n",
    "if ADD_FEATURES:\n",
    "    print(\"Adding Features\")\n",
    "    train = add_features(train)\n",
    "    test = add_features(test)"
   ]
  },
  {
   "cell_type": "code",
   "execution_count": 7,
   "id": "cbf82277",
   "metadata": {
    "execution": {
     "iopub.execute_input": "2022-04-25T07:13:17.387838Z",
     "iopub.status.busy": "2022-04-25T07:13:17.386636Z",
     "iopub.status.idle": "2022-04-25T07:13:17.469268Z",
     "shell.execute_reply": "2022-04-25T07:13:17.469900Z",
     "shell.execute_reply.started": "2022-04-22T09:35:12.354898Z"
    },
    "papermill": {
     "duration": 0.126011,
     "end_time": "2022-04-25T07:13:17.470092",
     "exception": false,
     "start_time": "2022-04-25T07:13:17.344081",
     "status": "completed"
    },
    "tags": []
   },
   "outputs": [
    {
     "name": "stdout",
     "output_type": "stream",
     "text": [
      "Adding Features 2\n"
     ]
    }
   ],
   "source": [
    "def add_features_2(df):\n",
    "        \n",
    "    # from hasanbasriakcay:   https://www.kaggle.com/code/hasanbasriakcay/tpsapr22-fe-pseudo-labels-bi-lstm/notebook\n",
    "    df['sensor_02_num'] = df['sensor_02'] > -15\n",
    "    df['sensor_02_num'] = df['sensor_02_num'].astype(int)\n",
    "    \n",
    "    df['sensor_sum1'] = (df['sensor_00'] + df['sensor_09'] + df['sensor_06'] + df['sensor_01'])\n",
    "    df['sensor_sum2'] = (df['sensor_01'] + df['sensor_11'] + df['sensor_09'] + df['sensor_06'] + df['sensor_00'])\n",
    "    df['sensor_sum3'] = (df['sensor_03'] + df['sensor_11'] + df['sensor_07'])\n",
    "    df['sensor_sum4'] = (df['sensor_04'] + df['sensor_10'])\n",
    "    return df\n",
    "\n",
    "if ADD_FEATURES:\n",
    "    print(\"Adding Features 2\")\n",
    "    train = add_features_2(train)\n",
    "    test = add_features_2 (test) "
   ]
  },
  {
   "cell_type": "code",
   "execution_count": 8,
   "id": "f83d0ad9",
   "metadata": {
    "execution": {
     "iopub.execute_input": "2022-04-25T07:13:17.622019Z",
     "iopub.status.busy": "2022-04-25T07:13:17.621062Z",
     "iopub.status.idle": "2022-04-25T07:13:17.624792Z",
     "shell.execute_reply": "2022-04-25T07:13:17.625317Z",
     "shell.execute_reply.started": "2022-04-22T09:35:12.436441Z"
    },
    "papermill": {
     "duration": 0.122503,
     "end_time": "2022-04-25T07:13:17.625490",
     "exception": false,
     "start_time": "2022-04-25T07:13:17.502987",
     "status": "completed"
    },
    "tags": []
   },
   "outputs": [
    {
     "data": {
      "text/plain": [
       "55"
      ]
     },
     "execution_count": 8,
     "metadata": {},
     "output_type": "execute_result"
    }
   ],
   "source": [
    "gc.collect()"
   ]
  },
  {
   "cell_type": "markdown",
   "id": "84e3406a",
   "metadata": {
    "papermill": {
     "duration": 0.033299,
     "end_time": "2022-04-25T07:13:17.692405",
     "exception": false,
     "start_time": "2022-04-25T07:13:17.659106",
     "status": "completed"
    },
    "tags": []
   },
   "source": [
    "## Join target"
   ]
  },
  {
   "cell_type": "code",
   "execution_count": 9,
   "id": "bc0d2e16",
   "metadata": {
    "execution": {
     "iopub.execute_input": "2022-04-25T07:13:17.763339Z",
     "iopub.status.busy": "2022-04-25T07:13:17.762406Z",
     "iopub.status.idle": "2022-04-25T07:13:22.429331Z",
     "shell.execute_reply": "2022-04-25T07:13:22.430356Z",
     "shell.execute_reply.started": "2022-04-22T09:35:12.536641Z"
    },
    "papermill": {
     "duration": 4.706296,
     "end_time": "2022-04-25T07:13:22.430585",
     "exception": false,
     "start_time": "2022-04-25T07:13:17.724289",
     "status": "completed"
    },
    "tags": []
   },
   "outputs": [
    {
     "data": {
      "text/html": [
       "<div>\n",
       "<style scoped>\n",
       "    .dataframe tbody tr th:only-of-type {\n",
       "        vertical-align: middle;\n",
       "    }\n",
       "\n",
       "    .dataframe tbody tr th {\n",
       "        vertical-align: top;\n",
       "    }\n",
       "\n",
       "    .dataframe thead th {\n",
       "        text-align: right;\n",
       "    }\n",
       "</style>\n",
       "<table border=\"1\" class=\"dataframe\">\n",
       "  <thead>\n",
       "    <tr style=\"text-align: right;\">\n",
       "      <th></th>\n",
       "      <th>sequence</th>\n",
       "      <th>state</th>\n",
       "    </tr>\n",
       "  </thead>\n",
       "  <tbody>\n",
       "    <tr>\n",
       "      <th>55</th>\n",
       "      <td>0</td>\n",
       "      <td>0</td>\n",
       "    </tr>\n",
       "    <tr>\n",
       "      <th>56</th>\n",
       "      <td>0</td>\n",
       "      <td>0</td>\n",
       "    </tr>\n",
       "    <tr>\n",
       "      <th>57</th>\n",
       "      <td>0</td>\n",
       "      <td>0</td>\n",
       "    </tr>\n",
       "    <tr>\n",
       "      <th>58</th>\n",
       "      <td>0</td>\n",
       "      <td>0</td>\n",
       "    </tr>\n",
       "    <tr>\n",
       "      <th>59</th>\n",
       "      <td>0</td>\n",
       "      <td>0</td>\n",
       "    </tr>\n",
       "    <tr>\n",
       "      <th>60</th>\n",
       "      <td>1</td>\n",
       "      <td>1</td>\n",
       "    </tr>\n",
       "    <tr>\n",
       "      <th>61</th>\n",
       "      <td>1</td>\n",
       "      <td>1</td>\n",
       "    </tr>\n",
       "    <tr>\n",
       "      <th>62</th>\n",
       "      <td>1</td>\n",
       "      <td>1</td>\n",
       "    </tr>\n",
       "    <tr>\n",
       "      <th>63</th>\n",
       "      <td>1</td>\n",
       "      <td>1</td>\n",
       "    </tr>\n",
       "    <tr>\n",
       "      <th>64</th>\n",
       "      <td>1</td>\n",
       "      <td>1</td>\n",
       "    </tr>\n",
       "  </tbody>\n",
       "</table>\n",
       "</div>"
      ],
      "text/plain": [
       "    sequence  state\n",
       "55         0      0\n",
       "56         0      0\n",
       "57         0      0\n",
       "58         0      0\n",
       "59         0      0\n",
       "60         1      1\n",
       "61         1      1\n",
       "62         1      1\n",
       "63         1      1\n",
       "64         1      1"
      ]
     },
     "execution_count": 9,
     "metadata": {},
     "output_type": "execute_result"
    }
   ],
   "source": [
    "train = train.merge(train_lables, on= \"sequence\", how = \"left\")\n",
    "train[[\"sequence\",\"state\"]].iloc[55:65]"
   ]
  },
  {
   "cell_type": "markdown",
   "id": "a492f80f",
   "metadata": {
    "papermill": {
     "duration": 0.034982,
     "end_time": "2022-04-25T07:13:22.500424",
     "exception": false,
     "start_time": "2022-04-25T07:13:22.465442",
     "status": "completed"
    },
    "tags": []
   },
   "source": [
    "### Drop the sensor data\n",
    "We will drop the original sensoe columns, as we have a number of other features that should represent this data \\\n",
    "We also have already run a LSTM model on this data without any additional features (as neural netorks prefer homogeneous data) \n",
    "\n",
    "As such my assumption is that this xgboost model will learn additional inferences which when ensembled with the LSTM will give greater insights\n"
   ]
  },
  {
   "cell_type": "code",
   "execution_count": 10,
   "id": "b25acdf2",
   "metadata": {
    "execution": {
     "iopub.execute_input": "2022-04-25T07:13:23.701027Z",
     "iopub.status.busy": "2022-04-25T07:13:23.646600Z",
     "iopub.status.idle": "2022-04-25T07:13:25.323169Z",
     "shell.execute_reply": "2022-04-25T07:13:25.322611Z",
     "shell.execute_reply.started": "2022-04-22T09:35:16.762231Z"
    },
    "papermill": {
     "duration": 2.788986,
     "end_time": "2022-04-25T07:13:25.323347",
     "exception": false,
     "start_time": "2022-04-25T07:13:22.534361",
     "status": "completed"
    },
    "tags": []
   },
   "outputs": [
    {
     "name": "stdout",
     "output_type": "stream",
     "text": [
      "dropping raw sensor data\n"
     ]
    }
   ],
   "source": [
    "if DROP_SENSOR:\n",
    "    print(\"dropping raw sensor data\")\n",
    "    train = train.drop(sensor_cols,axis =1)\n",
    "    test = test.drop(sensor_cols,axis =1)"
   ]
  },
  {
   "cell_type": "code",
   "execution_count": 11,
   "id": "010221d9",
   "metadata": {
    "execution": {
     "iopub.execute_input": "2022-04-25T07:13:26.916106Z",
     "iopub.status.busy": "2022-04-25T07:13:25.421467Z",
     "iopub.status.idle": "2022-04-25T07:13:26.928232Z",
     "shell.execute_reply": "2022-04-25T07:13:26.929268Z",
     "shell.execute_reply.started": "2022-04-22T09:35:18.942374Z"
    },
    "papermill": {
     "duration": 1.57133,
     "end_time": "2022-04-25T07:13:26.929518",
     "exception": false,
     "start_time": "2022-04-25T07:13:25.358188",
     "status": "completed"
    },
    "tags": []
   },
   "outputs": [
    {
     "name": "stdout",
     "output_type": "stream",
     "text": [
      "['sequence', 'subject', 'step', 'sub_imp', 'sqr_sensor_02', 'mean_sensor_00', 'median_sensor_00', 'std_sensor_00', 'variance_sensor_00', 'max_sensor_00', 'min_sensor_00', 'max-min_sensor_00', 'q25_sensor_00', 'q50_sensor_00', 'q75_sensor_00', 'q95_sensor_00', 'q99_sensor_00', 'skew_sensor_00', 'sensor_00_iqr', 'sensor_00_sm', 'kurtosis_sensor_00', 'mean_sensor_01', 'median_sensor_01', 'std_sensor_01', 'variance_sensor_01', 'max_sensor_01', 'min_sensor_01', 'max-min_sensor_01', 'q25_sensor_01', 'q50_sensor_01', 'q75_sensor_01', 'q95_sensor_01', 'q99_sensor_01', 'skew_sensor_01', 'sensor_01_iqr', 'kurtosis_sensor_01', 'mean_sensor_02', 'median_sensor_02', 'std_sensor_02', 'variance_sensor_02', 'max_sensor_02', 'min_sensor_02', 'max-min_sensor_02', 'q25_sensor_02', 'q50_sensor_02', 'q75_sensor_02', 'q95_sensor_02', 'q99_sensor_02', 'skew_sensor_02', 'sensor_02_iqr', 'sensor_02_sm', 'kurtosis_sensor_02', 'mean_sensor_03', 'median_sensor_03', 'std_sensor_03', 'variance_sensor_03', 'max_sensor_03', 'min_sensor_03', 'max-min_sensor_03', 'q25_sensor_03', 'q50_sensor_03', 'q75_sensor_03', 'q95_sensor_03', 'q99_sensor_03', 'skew_sensor_03', 'sensor_03_iqr', 'sensor_03_sm', 'kurtosis_sensor_03', 'mean_sensor_04', 'median_sensor_04', 'std_sensor_04', 'variance_sensor_04', 'max_sensor_04', 'min_sensor_04', 'max-min_sensor_04', 'q25_sensor_04', 'q50_sensor_04', 'q75_sensor_04', 'q95_sensor_04', 'q99_sensor_04', 'skew_sensor_04', 'sensor_04_iqr', 'sensor_04_sm', 'kurtosis_sensor_04', 'mean_sensor_05', 'median_sensor_05', 'std_sensor_05', 'variance_sensor_05', 'max_sensor_05', 'min_sensor_05', 'max-min_sensor_05', 'q25_sensor_05', 'q50_sensor_05', 'q75_sensor_05', 'q95_sensor_05', 'q99_sensor_05', 'skew_sensor_05', 'sensor_05_iqr', 'kurtosis_sensor_05', 'mean_sensor_06', 'median_sensor_06', 'std_sensor_06', 'variance_sensor_06', 'max_sensor_06', 'min_sensor_06', 'max-min_sensor_06', 'q25_sensor_06', 'q50_sensor_06', 'q75_sensor_06', 'q95_sensor_06', 'q99_sensor_06', 'skew_sensor_06', 'sensor_06_iqr', 'kurtosis_sensor_06', 'mean_sensor_07', 'median_sensor_07', 'std_sensor_07', 'variance_sensor_07', 'max_sensor_07', 'min_sensor_07', 'max-min_sensor_07', 'q25_sensor_07', 'q50_sensor_07', 'q75_sensor_07', 'q95_sensor_07', 'q99_sensor_07', 'skew_sensor_07', 'sensor_07_iqr', 'kurtosis_sensor_07', 'mean_sensor_08', 'median_sensor_08', 'std_sensor_08', 'variance_sensor_08', 'max_sensor_08', 'min_sensor_08', 'max-min_sensor_08', 'q25_sensor_08', 'q50_sensor_08', 'q75_sensor_08', 'q95_sensor_08', 'q99_sensor_08', 'skew_sensor_08', 'sensor_08_iqr', 'kurtosis_sensor_08', 'mean_sensor_09', 'median_sensor_09', 'std_sensor_09', 'variance_sensor_09', 'max_sensor_09', 'min_sensor_09', 'max-min_sensor_09', 'q25_sensor_09', 'q50_sensor_09', 'q75_sensor_09', 'q95_sensor_09', 'q99_sensor_09', 'skew_sensor_09', 'sensor_09_iqr', 'sensor_09_sm', 'kurtosis_sensor_09', 'mean_sensor_10', 'median_sensor_10', 'std_sensor_10', 'variance_sensor_10', 'max_sensor_10', 'min_sensor_10', 'max-min_sensor_10', 'q25_sensor_10', 'q50_sensor_10', 'q75_sensor_10', 'q95_sensor_10', 'q99_sensor_10', 'skew_sensor_10', 'sensor_10_iqr', 'sensor_10_sm', 'kurtosis_sensor_10', 'mean_sensor_11', 'median_sensor_11', 'std_sensor_11', 'variance_sensor_11', 'max_sensor_11', 'min_sensor_11', 'max-min_sensor_11', 'q25_sensor_11', 'q50_sensor_11', 'q75_sensor_11', 'q95_sensor_11', 'q99_sensor_11', 'skew_sensor_11', 'sensor_11_iqr', 'kurtosis_sensor_11', 'mean_sensor_12', 'median_sensor_12', 'std_sensor_12', 'variance_sensor_12', 'max_sensor_12', 'min_sensor_12', 'max-min_sensor_12', 'q25_sensor_12', 'q50_sensor_12', 'q75_sensor_12', 'q95_sensor_12', 'q99_sensor_12', 'skew_sensor_12', 'sensor_12_iqr', 'kurtosis_sensor_12', 'sensor_02_up', 'sensor_02_down', 'sensor_02_upsum', 'sensor_02_downsum', 'sensor_02_upmax', 'sensor_02_downmax', 'sensor_02_upmean', 'sensor_02_downmean', 'state']\n"
     ]
    }
   ],
   "source": [
    "drop_cols = ['sensor_02_num', 'sensor_sum1', 'sensor_sum2', 'sensor_sum3', 'sensor_sum4','sensor_05_sm', 'sqr_sensor_08', 'sensor_08_sm', 'sqr_sensor_05', 'sqr_sensor_00',\n",
    "             'sqr_sensor_04', 'sensor_12_sm', 'sensor_07_sm', 'sqr_sensor_10', 'sqr_sensor_03', 'sensor_06_sm', 'sqr_sensor_06', 'sqr_sensor_07', 'sqr_sensor_01', \n",
    "             'sqr_sensor_11', 'sqr_sensor_09','sensor_11_sm', 'sqr_sensor_12', 'sensor_01_sm']\n",
    "train.drop(drop_cols,axis =1, inplace = True)\n",
    "test.drop(drop_cols,axis =1, inplace = True)\n",
    "\n",
    "print([col for col in train.columns])"
   ]
  },
  {
   "cell_type": "markdown",
   "id": "877dddfb",
   "metadata": {
    "papermill": {
     "duration": 0.052303,
     "end_time": "2022-04-25T07:13:27.042142",
     "exception": false,
     "start_time": "2022-04-25T07:13:26.989839",
     "status": "completed"
    },
    "tags": []
   },
   "source": [
    "# Downcasting "
   ]
  },
  {
   "cell_type": "code",
   "execution_count": 12,
   "id": "bd40f683",
   "metadata": {
    "execution": {
     "iopub.execute_input": "2022-04-25T07:13:27.139000Z",
     "iopub.status.busy": "2022-04-25T07:13:27.137839Z",
     "iopub.status.idle": "2022-04-25T07:15:57.195043Z",
     "shell.execute_reply": "2022-04-25T07:15:57.194410Z",
     "shell.execute_reply.started": "2022-04-22T09:35:20.186529Z"
    },
    "papermill": {
     "duration": 150.121486,
     "end_time": "2022-04-25T07:15:57.195200",
     "exception": false,
     "start_time": "2022-04-25T07:13:27.073714",
     "status": "completed"
    },
    "tags": []
   },
   "outputs": [
    {
     "name": "stdout",
     "output_type": "stream",
     "text": [
      "Mem. usage decreased to 1261.53 Mb (50.9% reduction)\n",
      "Mem. usage decreased to 594.25 Mb (50.6% reduction)\n"
     ]
    },
    {
     "data": {
      "text/html": [
       "<div>\n",
       "<style scoped>\n",
       "    .dataframe tbody tr th:only-of-type {\n",
       "        vertical-align: middle;\n",
       "    }\n",
       "\n",
       "    .dataframe tbody tr th {\n",
       "        vertical-align: top;\n",
       "    }\n",
       "\n",
       "    .dataframe thead th {\n",
       "        text-align: right;\n",
       "    }\n",
       "</style>\n",
       "<table border=\"1\" class=\"dataframe\">\n",
       "  <thead>\n",
       "    <tr style=\"text-align: right;\">\n",
       "      <th></th>\n",
       "      <th>sequence</th>\n",
       "      <th>subject</th>\n",
       "      <th>step</th>\n",
       "      <th>sub_imp</th>\n",
       "      <th>sqr_sensor_02</th>\n",
       "      <th>mean_sensor_00</th>\n",
       "      <th>median_sensor_00</th>\n",
       "      <th>std_sensor_00</th>\n",
       "      <th>variance_sensor_00</th>\n",
       "      <th>max_sensor_00</th>\n",
       "      <th>...</th>\n",
       "      <th>sensor_12_iqr</th>\n",
       "      <th>kurtosis_sensor_12</th>\n",
       "      <th>sensor_02_up</th>\n",
       "      <th>sensor_02_down</th>\n",
       "      <th>sensor_02_upsum</th>\n",
       "      <th>sensor_02_downsum</th>\n",
       "      <th>sensor_02_upmax</th>\n",
       "      <th>sensor_02_downmax</th>\n",
       "      <th>sensor_02_upmean</th>\n",
       "      <th>sensor_02_downmean</th>\n",
       "    </tr>\n",
       "  </thead>\n",
       "  <tbody>\n",
       "    <tr>\n",
       "      <th>0</th>\n",
       "      <td>25968</td>\n",
       "      <td>684</td>\n",
       "      <td>0</td>\n",
       "      <td>1</td>\n",
       "      <td>1.000000</td>\n",
       "      <td>-0.002602</td>\n",
       "      <td>-0.002318</td>\n",
       "      <td>1.091741</td>\n",
       "      <td>1.091741</td>\n",
       "      <td>3.146832</td>\n",
       "      <td>...</td>\n",
       "      <td>0.439258</td>\n",
       "      <td>-0.293747</td>\n",
       "      <td>4</td>\n",
       "      <td>8</td>\n",
       "      <td>0.666667</td>\n",
       "      <td>-1.332820</td>\n",
       "      <td>0.176667</td>\n",
       "      <td>-0.176667</td>\n",
       "      <td>0.166667</td>\n",
       "      <td>-0.166602</td>\n",
       "    </tr>\n",
       "    <tr>\n",
       "      <th>1</th>\n",
       "      <td>25968</td>\n",
       "      <td>684</td>\n",
       "      <td>1</td>\n",
       "      <td>1</td>\n",
       "      <td>1.000000</td>\n",
       "      <td>-0.002602</td>\n",
       "      <td>-0.002318</td>\n",
       "      <td>1.091741</td>\n",
       "      <td>1.091741</td>\n",
       "      <td>3.146832</td>\n",
       "      <td>...</td>\n",
       "      <td>0.439258</td>\n",
       "      <td>-0.293747</td>\n",
       "      <td>4</td>\n",
       "      <td>8</td>\n",
       "      <td>0.666667</td>\n",
       "      <td>-1.332820</td>\n",
       "      <td>0.176667</td>\n",
       "      <td>-0.176667</td>\n",
       "      <td>0.166667</td>\n",
       "      <td>-0.166602</td>\n",
       "    </tr>\n",
       "    <tr>\n",
       "      <th>2</th>\n",
       "      <td>25968</td>\n",
       "      <td>684</td>\n",
       "      <td>2</td>\n",
       "      <td>1</td>\n",
       "      <td>1.000000</td>\n",
       "      <td>-0.002602</td>\n",
       "      <td>-0.002318</td>\n",
       "      <td>1.091741</td>\n",
       "      <td>1.091741</td>\n",
       "      <td>3.146832</td>\n",
       "      <td>...</td>\n",
       "      <td>0.439258</td>\n",
       "      <td>-0.293747</td>\n",
       "      <td>4</td>\n",
       "      <td>8</td>\n",
       "      <td>0.666667</td>\n",
       "      <td>-1.332820</td>\n",
       "      <td>0.176667</td>\n",
       "      <td>-0.176667</td>\n",
       "      <td>0.166667</td>\n",
       "      <td>-0.166602</td>\n",
       "    </tr>\n",
       "    <tr>\n",
       "      <th>3</th>\n",
       "      <td>25968</td>\n",
       "      <td>684</td>\n",
       "      <td>3</td>\n",
       "      <td>1</td>\n",
       "      <td>1.000000</td>\n",
       "      <td>-0.002602</td>\n",
       "      <td>-0.002318</td>\n",
       "      <td>1.091741</td>\n",
       "      <td>1.091741</td>\n",
       "      <td>3.146832</td>\n",
       "      <td>...</td>\n",
       "      <td>0.439258</td>\n",
       "      <td>-0.293747</td>\n",
       "      <td>4</td>\n",
       "      <td>8</td>\n",
       "      <td>0.666667</td>\n",
       "      <td>-1.332820</td>\n",
       "      <td>0.176667</td>\n",
       "      <td>-0.176667</td>\n",
       "      <td>0.166667</td>\n",
       "      <td>-0.166602</td>\n",
       "    </tr>\n",
       "    <tr>\n",
       "      <th>4</th>\n",
       "      <td>25968</td>\n",
       "      <td>684</td>\n",
       "      <td>4</td>\n",
       "      <td>1</td>\n",
       "      <td>1.000000</td>\n",
       "      <td>-0.002602</td>\n",
       "      <td>-0.002318</td>\n",
       "      <td>1.091741</td>\n",
       "      <td>1.091741</td>\n",
       "      <td>3.146832</td>\n",
       "      <td>...</td>\n",
       "      <td>0.439258</td>\n",
       "      <td>-0.293747</td>\n",
       "      <td>4</td>\n",
       "      <td>8</td>\n",
       "      <td>0.666667</td>\n",
       "      <td>-1.332820</td>\n",
       "      <td>0.176667</td>\n",
       "      <td>-0.176667</td>\n",
       "      <td>0.166667</td>\n",
       "      <td>-0.166602</td>\n",
       "    </tr>\n",
       "    <tr>\n",
       "      <th>...</th>\n",
       "      <td>...</td>\n",
       "      <td>...</td>\n",
       "      <td>...</td>\n",
       "      <td>...</td>\n",
       "      <td>...</td>\n",
       "      <td>...</td>\n",
       "      <td>...</td>\n",
       "      <td>...</td>\n",
       "      <td>...</td>\n",
       "      <td>...</td>\n",
       "      <td>...</td>\n",
       "      <td>...</td>\n",
       "      <td>...</td>\n",
       "      <td>...</td>\n",
       "      <td>...</td>\n",
       "      <td>...</td>\n",
       "      <td>...</td>\n",
       "      <td>...</td>\n",
       "      <td>...</td>\n",
       "      <td>...</td>\n",
       "      <td>...</td>\n",
       "    </tr>\n",
       "    <tr>\n",
       "      <th>733075</th>\n",
       "      <td>38185</td>\n",
       "      <td>773</td>\n",
       "      <td>55</td>\n",
       "      <td>1</td>\n",
       "      <td>1.776408</td>\n",
       "      <td>-0.006839</td>\n",
       "      <td>0.005023</td>\n",
       "      <td>0.730211</td>\n",
       "      <td>0.730211</td>\n",
       "      <td>1.820711</td>\n",
       "      <td>...</td>\n",
       "      <td>152.141937</td>\n",
       "      <td>-0.890938</td>\n",
       "      <td>2</td>\n",
       "      <td>2</td>\n",
       "      <td>0.333333</td>\n",
       "      <td>-0.333333</td>\n",
       "      <td>0.281667</td>\n",
       "      <td>-0.166667</td>\n",
       "      <td>0.166667</td>\n",
       "      <td>-0.166667</td>\n",
       "    </tr>\n",
       "    <tr>\n",
       "      <th>733076</th>\n",
       "      <td>38185</td>\n",
       "      <td>773</td>\n",
       "      <td>56</td>\n",
       "      <td>1</td>\n",
       "      <td>1.776408</td>\n",
       "      <td>-0.006839</td>\n",
       "      <td>0.005023</td>\n",
       "      <td>0.730211</td>\n",
       "      <td>0.730211</td>\n",
       "      <td>1.820711</td>\n",
       "      <td>...</td>\n",
       "      <td>152.141937</td>\n",
       "      <td>-0.890938</td>\n",
       "      <td>2</td>\n",
       "      <td>2</td>\n",
       "      <td>0.333333</td>\n",
       "      <td>-0.333333</td>\n",
       "      <td>0.281667</td>\n",
       "      <td>-0.166667</td>\n",
       "      <td>0.166667</td>\n",
       "      <td>-0.166667</td>\n",
       "    </tr>\n",
       "    <tr>\n",
       "      <th>733077</th>\n",
       "      <td>38185</td>\n",
       "      <td>773</td>\n",
       "      <td>57</td>\n",
       "      <td>1</td>\n",
       "      <td>1.776408</td>\n",
       "      <td>-0.006839</td>\n",
       "      <td>0.005023</td>\n",
       "      <td>0.730211</td>\n",
       "      <td>0.730211</td>\n",
       "      <td>1.820711</td>\n",
       "      <td>...</td>\n",
       "      <td>152.141937</td>\n",
       "      <td>-0.890938</td>\n",
       "      <td>2</td>\n",
       "      <td>2</td>\n",
       "      <td>0.333333</td>\n",
       "      <td>-0.333333</td>\n",
       "      <td>0.281667</td>\n",
       "      <td>-0.166667</td>\n",
       "      <td>0.166667</td>\n",
       "      <td>-0.166667</td>\n",
       "    </tr>\n",
       "    <tr>\n",
       "      <th>733078</th>\n",
       "      <td>38185</td>\n",
       "      <td>773</td>\n",
       "      <td>58</td>\n",
       "      <td>1</td>\n",
       "      <td>1.776408</td>\n",
       "      <td>-0.006839</td>\n",
       "      <td>0.005023</td>\n",
       "      <td>0.730211</td>\n",
       "      <td>0.730211</td>\n",
       "      <td>1.820711</td>\n",
       "      <td>...</td>\n",
       "      <td>152.141937</td>\n",
       "      <td>-0.890938</td>\n",
       "      <td>2</td>\n",
       "      <td>2</td>\n",
       "      <td>0.333333</td>\n",
       "      <td>-0.333333</td>\n",
       "      <td>0.281667</td>\n",
       "      <td>-0.166667</td>\n",
       "      <td>0.166667</td>\n",
       "      <td>-0.166667</td>\n",
       "    </tr>\n",
       "    <tr>\n",
       "      <th>733079</th>\n",
       "      <td>38185</td>\n",
       "      <td>773</td>\n",
       "      <td>59</td>\n",
       "      <td>1</td>\n",
       "      <td>1.776408</td>\n",
       "      <td>-0.006839</td>\n",
       "      <td>0.005023</td>\n",
       "      <td>0.730211</td>\n",
       "      <td>0.730211</td>\n",
       "      <td>1.820711</td>\n",
       "      <td>...</td>\n",
       "      <td>152.141937</td>\n",
       "      <td>-0.890938</td>\n",
       "      <td>2</td>\n",
       "      <td>2</td>\n",
       "      <td>0.333333</td>\n",
       "      <td>-0.333333</td>\n",
       "      <td>0.281667</td>\n",
       "      <td>-0.166667</td>\n",
       "      <td>0.166667</td>\n",
       "      <td>-0.166667</td>\n",
       "    </tr>\n",
       "  </tbody>\n",
       "</table>\n",
       "<p>733080 rows × 214 columns</p>\n",
       "</div>"
      ],
      "text/plain": [
       "        sequence  subject  step  sub_imp  sqr_sensor_02  mean_sensor_00  \\\n",
       "0          25968      684     0        1       1.000000       -0.002602   \n",
       "1          25968      684     1        1       1.000000       -0.002602   \n",
       "2          25968      684     2        1       1.000000       -0.002602   \n",
       "3          25968      684     3        1       1.000000       -0.002602   \n",
       "4          25968      684     4        1       1.000000       -0.002602   \n",
       "...          ...      ...   ...      ...            ...             ...   \n",
       "733075     38185      773    55        1       1.776408       -0.006839   \n",
       "733076     38185      773    56        1       1.776408       -0.006839   \n",
       "733077     38185      773    57        1       1.776408       -0.006839   \n",
       "733078     38185      773    58        1       1.776408       -0.006839   \n",
       "733079     38185      773    59        1       1.776408       -0.006839   \n",
       "\n",
       "        median_sensor_00  std_sensor_00  variance_sensor_00  max_sensor_00  \\\n",
       "0              -0.002318       1.091741            1.091741       3.146832   \n",
       "1              -0.002318       1.091741            1.091741       3.146832   \n",
       "2              -0.002318       1.091741            1.091741       3.146832   \n",
       "3              -0.002318       1.091741            1.091741       3.146832   \n",
       "4              -0.002318       1.091741            1.091741       3.146832   \n",
       "...                  ...            ...                 ...            ...   \n",
       "733075          0.005023       0.730211            0.730211       1.820711   \n",
       "733076          0.005023       0.730211            0.730211       1.820711   \n",
       "733077          0.005023       0.730211            0.730211       1.820711   \n",
       "733078          0.005023       0.730211            0.730211       1.820711   \n",
       "733079          0.005023       0.730211            0.730211       1.820711   \n",
       "\n",
       "        ...  sensor_12_iqr  kurtosis_sensor_12  sensor_02_up  sensor_02_down  \\\n",
       "0       ...       0.439258           -0.293747             4               8   \n",
       "1       ...       0.439258           -0.293747             4               8   \n",
       "2       ...       0.439258           -0.293747             4               8   \n",
       "3       ...       0.439258           -0.293747             4               8   \n",
       "4       ...       0.439258           -0.293747             4               8   \n",
       "...     ...            ...                 ...           ...             ...   \n",
       "733075  ...     152.141937           -0.890938             2               2   \n",
       "733076  ...     152.141937           -0.890938             2               2   \n",
       "733077  ...     152.141937           -0.890938             2               2   \n",
       "733078  ...     152.141937           -0.890938             2               2   \n",
       "733079  ...     152.141937           -0.890938             2               2   \n",
       "\n",
       "        sensor_02_upsum  sensor_02_downsum  sensor_02_upmax  \\\n",
       "0              0.666667          -1.332820         0.176667   \n",
       "1              0.666667          -1.332820         0.176667   \n",
       "2              0.666667          -1.332820         0.176667   \n",
       "3              0.666667          -1.332820         0.176667   \n",
       "4              0.666667          -1.332820         0.176667   \n",
       "...                 ...                ...              ...   \n",
       "733075         0.333333          -0.333333         0.281667   \n",
       "733076         0.333333          -0.333333         0.281667   \n",
       "733077         0.333333          -0.333333         0.281667   \n",
       "733078         0.333333          -0.333333         0.281667   \n",
       "733079         0.333333          -0.333333         0.281667   \n",
       "\n",
       "        sensor_02_downmax  sensor_02_upmean  sensor_02_downmean  \n",
       "0               -0.176667          0.166667           -0.166602  \n",
       "1               -0.176667          0.166667           -0.166602  \n",
       "2               -0.176667          0.166667           -0.166602  \n",
       "3               -0.176667          0.166667           -0.166602  \n",
       "4               -0.176667          0.166667           -0.166602  \n",
       "...                   ...               ...                 ...  \n",
       "733075          -0.166667          0.166667           -0.166667  \n",
       "733076          -0.166667          0.166667           -0.166667  \n",
       "733077          -0.166667          0.166667           -0.166667  \n",
       "733078          -0.166667          0.166667           -0.166667  \n",
       "733079          -0.166667          0.166667           -0.166667  \n",
       "\n",
       "[733080 rows x 214 columns]"
      ]
     },
     "execution_count": 12,
     "metadata": {},
     "output_type": "execute_result"
    }
   ],
   "source": [
    "def reduce_mem_usage(df, verbose=True):\n",
    "    numerics = ['int8','int16', 'int32', 'int64', 'float16', 'float32', 'float64']\n",
    "    start_mem = df.memory_usage().sum() / 1024**2\n",
    "\n",
    "    for col in df.columns:\n",
    "        col_type = df[col].dtypes\n",
    "\n",
    "        if col_type in numerics:\n",
    "            c_min = df[col].min()\n",
    "            c_max = df[col].max()\n",
    "\n",
    "            if str(col_type)[:3] == 'int':\n",
    "                if c_min > np.iinfo(np.int8).min and c_max < np.iinfo(np.int8).max:\n",
    "                    df[col] = df[col].astype(np.int8)\n",
    "                elif c_min > np.iinfo(np.int16).min and c_max < np.iinfo(np.int16).max:\n",
    "                    df[col] = df[col].astype(np.int16)\n",
    "                elif c_min > np.iinfo(np.int32).min and c_max < np.iinfo(np.int32).max:\n",
    "                    df[col] = df[col].astype(np.int32)\n",
    "                elif c_min > np.iinfo(np.int64).min and c_max < np.iinfo(np.int64).max:\n",
    "                    df[col] = df[col].astype(np.int64)  \n",
    "            else:\n",
    "                if c_min > np.finfo(np.float32).min and c_max < np.finfo(np.float32).max:\n",
    "                    df[col] = df[col].astype(np.float32)\n",
    "                else:\n",
    "                    df[col] = df[col].astype(np.float64)\n",
    "\n",
    "    end_mem = df.memory_usage().sum() / 1024**2\n",
    "\n",
    "    if verbose:\n",
    "        print('Mem. usage decreased to {:5.2f} Mb ({:.1f}% reduction)'.format(end_mem, 100 * (start_mem - end_mem) / start_mem))\n",
    " \n",
    "    return df\n",
    "\n",
    "reduce_mem_usage(train)\n",
    "reduce_mem_usage(test)"
   ]
  },
  {
   "cell_type": "markdown",
   "id": "1c1a07ce",
   "metadata": {
    "papermill": {
     "duration": 0.035056,
     "end_time": "2022-04-25T07:15:57.265993",
     "exception": false,
     "start_time": "2022-04-25T07:15:57.230937",
     "status": "completed"
    },
    "tags": []
   },
   "source": [
    "# Split & Scale"
   ]
  },
  {
   "cell_type": "code",
   "execution_count": 13,
   "id": "4af9f279",
   "metadata": {
    "execution": {
     "iopub.execute_input": "2022-04-25T07:15:57.346535Z",
     "iopub.status.busy": "2022-04-25T07:15:57.345168Z",
     "iopub.status.idle": "2022-04-25T07:16:00.090631Z",
     "shell.execute_reply": "2022-04-25T07:16:00.090007Z",
     "shell.execute_reply.started": "2022-04-22T09:37:18.757915Z"
    },
    "papermill": {
     "duration": 2.788476,
     "end_time": "2022-04-25T07:16:00.090807",
     "exception": false,
     "start_time": "2022-04-25T07:15:57.302331",
     "status": "completed"
    },
    "tags": []
   },
   "outputs": [],
   "source": [
    "train= train.drop([\"sequence\",\"subject\"],axis =1).set_index(\"step\")\n",
    "test= test.drop([\"sequence\",\"subject\"],axis =1).set_index(\"step\")"
   ]
  },
  {
   "cell_type": "code",
   "execution_count": 14,
   "id": "036655a6",
   "metadata": {
    "execution": {
     "iopub.execute_input": "2022-04-25T07:16:00.785863Z",
     "iopub.status.busy": "2022-04-25T07:16:00.784768Z",
     "iopub.status.idle": "2022-04-25T07:16:01.283806Z",
     "shell.execute_reply": "2022-04-25T07:16:01.283001Z",
     "shell.execute_reply.started": "2022-04-22T09:37:21.023518Z"
    },
    "papermill": {
     "duration": 1.126822,
     "end_time": "2022-04-25T07:16:01.283948",
     "exception": false,
     "start_time": "2022-04-25T07:16:00.157126",
     "status": "completed"
    },
    "tags": []
   },
   "outputs": [],
   "source": [
    "X_train, X_test, y_train, y_test = train_test_split(train.drop(\"state\",axis =1), train[\"state\"], test_size=0.33, shuffle = False)"
   ]
  },
  {
   "cell_type": "code",
   "execution_count": 15,
   "id": "01e1972b",
   "metadata": {
    "execution": {
     "iopub.execute_input": "2022-04-25T07:16:01.367732Z",
     "iopub.status.busy": "2022-04-25T07:16:01.366423Z",
     "iopub.status.idle": "2022-04-25T07:16:08.319967Z",
     "shell.execute_reply": "2022-04-25T07:16:08.319272Z",
     "shell.execute_reply.started": "2022-04-22T09:37:22.132592Z"
    },
    "papermill": {
     "duration": 7.000113,
     "end_time": "2022-04-25T07:16:08.320111",
     "exception": false,
     "start_time": "2022-04-25T07:16:01.319998",
     "status": "completed"
    },
    "tags": []
   },
   "outputs": [
    {
     "name": "stdout",
     "output_type": "stream",
     "text": [
      "scaling\n"
     ]
    }
   ],
   "source": [
    "if SCALING:\n",
    "    print(\"scaling\")\n",
    "    scaler= StandardScaler()\n",
    "    X_train = scaler.fit_transform(X_train) \n",
    "    X_test = scaler.transform(X_test)\n",
    "    test_s = scaler.transform(test)"
   ]
  },
  {
   "cell_type": "code",
   "execution_count": 16,
   "id": "a94f5c84",
   "metadata": {
    "execution": {
     "iopub.execute_input": "2022-04-25T07:16:08.486850Z",
     "iopub.status.busy": "2022-04-25T07:16:08.485069Z",
     "iopub.status.idle": "2022-04-25T07:16:08.490559Z",
     "shell.execute_reply": "2022-04-25T07:16:08.491181Z",
     "shell.execute_reply.started": "2022-04-22T09:37:27.930412Z"
    },
    "papermill": {
     "duration": 0.133194,
     "end_time": "2022-04-25T07:16:08.491358",
     "exception": false,
     "start_time": "2022-04-25T07:16:08.358164",
     "status": "completed"
    },
    "tags": []
   },
   "outputs": [
    {
     "data": {
      "text/plain": [
       "84"
      ]
     },
     "execution_count": 16,
     "metadata": {},
     "output_type": "execute_result"
    }
   ],
   "source": [
    "gc.collect()"
   ]
  },
  {
   "cell_type": "markdown",
   "id": "77b9f4d6",
   "metadata": {
    "papermill": {
     "duration": 0.033512,
     "end_time": "2022-04-25T07:16:08.561443",
     "exception": false,
     "start_time": "2022-04-25T07:16:08.527931",
     "status": "completed"
    },
    "tags": []
   },
   "source": [
    "# Build and Train\n",
    "\n",
    "from [C4RL05/V](https://www.kaggle.com/code/cv13j0/tps-apr-2022-xgboost-model#2.-Setting-the-Notebook)  "
   ]
  },
  {
   "cell_type": "code",
   "execution_count": 17,
   "id": "d74a8283",
   "metadata": {
    "execution": {
     "iopub.execute_input": "2022-04-25T07:16:08.634625Z",
     "iopub.status.busy": "2022-04-25T07:16:08.633928Z",
     "iopub.status.idle": "2022-04-25T07:16:08.638657Z",
     "shell.execute_reply": "2022-04-25T07:16:08.637855Z",
     "shell.execute_reply.started": "2022-04-22T09:37:28.057041Z"
    },
    "papermill": {
     "duration": 0.042897,
     "end_time": "2022-04-25T07:16:08.638775",
     "exception": false,
     "start_time": "2022-04-25T07:16:08.595878",
     "status": "completed"
    },
    "tags": []
   },
   "outputs": [],
   "source": [
    "params = {'n_estimators': EPOCHS,\n",
    "          'max_depth': 6,\n",
    "          'learning_rate': 0.015,\n",
    "          'subsample': 0.95,\n",
    "          'colsample_bytree': 0.60,\n",
    "          'reg_lambda': 1.5,\n",
    "          'reg_alpha': 6.1,\n",
    "          'gamma': 6.1, #6,\n",
    "          'random_state': 69,\n",
    "          'objective': 'binary:logistic',\n",
    "          # use hist method for leaf wise growth\n",
    "          'tree_method': 'gpu_hist'  #\"hist\"#'gpu_hist',\n",
    "         }"
   ]
  },
  {
   "cell_type": "code",
   "execution_count": 18,
   "id": "76bad41a",
   "metadata": {
    "execution": {
     "iopub.execute_input": "2022-04-25T07:16:08.710528Z",
     "iopub.status.busy": "2022-04-25T07:16:08.709515Z",
     "iopub.status.idle": "2022-04-25T07:18:14.003719Z",
     "shell.execute_reply": "2022-04-25T07:18:14.004293Z",
     "shell.execute_reply.started": "2022-04-22T09:37:28.066996Z"
    },
    "papermill": {
     "duration": 125.331954,
     "end_time": "2022-04-25T07:18:14.004481",
     "exception": false,
     "start_time": "2022-04-25T07:16:08.672527",
     "status": "completed"
    },
    "tags": []
   },
   "outputs": [
    {
     "name": "stdout",
     "output_type": "stream",
     "text": [
      "[0]\tvalidation_0-auc:0.84841\n",
      "[50]\tvalidation_0-auc:0.92302\n",
      "[100]\tvalidation_0-auc:0.92720\n",
      "[150]\tvalidation_0-auc:0.93038\n",
      "[200]\tvalidation_0-auc:0.93304\n",
      "[250]\tvalidation_0-auc:0.93512\n",
      "[300]\tvalidation_0-auc:0.93673\n",
      "[350]\tvalidation_0-auc:0.93775\n",
      "[400]\tvalidation_0-auc:0.93904\n",
      "[450]\tvalidation_0-auc:0.93983\n",
      "[500]\tvalidation_0-auc:0.94052\n",
      "[550]\tvalidation_0-auc:0.94117\n",
      "[600]\tvalidation_0-auc:0.94169\n",
      "[650]\tvalidation_0-auc:0.94209\n",
      "[700]\tvalidation_0-auc:0.94262\n",
      "[750]\tvalidation_0-auc:0.94292\n",
      "[800]\tvalidation_0-auc:0.94320\n",
      "[850]\tvalidation_0-auc:0.94339\n",
      "[900]\tvalidation_0-auc:0.94368\n",
      "[950]\tvalidation_0-auc:0.94381\n",
      "[1000]\tvalidation_0-auc:0.94401\n",
      "[1050]\tvalidation_0-auc:0.94425\n",
      "[1100]\tvalidation_0-auc:0.94435\n",
      "[1150]\tvalidation_0-auc:0.94451\n",
      "[1200]\tvalidation_0-auc:0.94469\n",
      "[1250]\tvalidation_0-auc:0.94474\n",
      "[1300]\tvalidation_0-auc:0.94478\n",
      "[1350]\tvalidation_0-auc:0.94488\n",
      "[1400]\tvalidation_0-auc:0.94496\n",
      "[1450]\tvalidation_0-auc:0.94498\n",
      "[1500]\tvalidation_0-auc:0.94498\n",
      "[1550]\tvalidation_0-auc:0.94507\n",
      "[1600]\tvalidation_0-auc:0.94512\n",
      "[1650]\tvalidation_0-auc:0.94516\n",
      "[1700]\tvalidation_0-auc:0.94513\n",
      "[1750]\tvalidation_0-auc:0.94523\n",
      "[1800]\tvalidation_0-auc:0.94525\n",
      "[1850]\tvalidation_0-auc:0.94533\n",
      "[1900]\tvalidation_0-auc:0.94537\n",
      "[1950]\tvalidation_0-auc:0.94540\n",
      "[2000]\tvalidation_0-auc:0.94543\n",
      "[2050]\tvalidation_0-auc:0.94543\n",
      "[2100]\tvalidation_0-auc:0.94543\n",
      "[2147]\tvalidation_0-auc:0.94546\n"
     ]
    },
    {
     "data": {
      "text/plain": [
       "XGBClassifier(base_score=0.5, booster='gbtree', colsample_bylevel=1,\n",
       "              colsample_bynode=1, colsample_bytree=0.6, gamma=6.1, gpu_id=0,\n",
       "              importance_type='gain', interaction_constraints='',\n",
       "              learning_rate=0.015, max_delta_step=0, max_depth=6,\n",
       "              min_child_weight=1, missing=nan, monotone_constraints='()',\n",
       "              n_estimators=4096, n_jobs=2, num_parallel_tree=1, random_state=69,\n",
       "              reg_alpha=6.1, reg_lambda=1.5, scale_pos_weight=1, subsample=0.95,\n",
       "              tree_method='gpu_hist', use_label_encoder=False,\n",
       "              validate_parameters=1, verbosity=None)"
      ]
     },
     "execution_count": 18,
     "metadata": {},
     "output_type": "execute_result"
    }
   ],
   "source": [
    "xgb = XGBClassifier(**params,use_label_encoder=False )\n",
    "xgb.fit(X_train, y_train, eval_set = [(X_test, y_test)], eval_metric = ['auc'], early_stopping_rounds = 128, verbose = 50)"
   ]
  },
  {
   "cell_type": "code",
   "execution_count": 19,
   "id": "c7a0748c",
   "metadata": {
    "execution": {
     "iopub.execute_input": "2022-04-25T07:18:14.113321Z",
     "iopub.status.busy": "2022-04-25T07:18:14.112368Z",
     "iopub.status.idle": "2022-04-25T07:19:41.921770Z",
     "shell.execute_reply": "2022-04-25T07:19:41.921176Z",
     "shell.execute_reply.started": "2022-04-22T09:39:24.983299Z"
    },
    "papermill": {
     "duration": 87.866126,
     "end_time": "2022-04-25T07:19:41.921902",
     "exception": false,
     "start_time": "2022-04-25T07:18:14.055776",
     "status": "completed"
    },
    "tags": []
   },
   "outputs": [
    {
     "name": "stdout",
     "output_type": "stream",
     "text": [
      "Validation AUC: 0.9454637136198163\n",
      "Intrinsic AUC: 0.9999994846423306\n"
     ]
    },
    {
     "data": {
      "text/plain": [
       "array([[0.06357569, 0.9364243 ],\n",
       "       [0.06357569, 0.9364243 ],\n",
       "       [0.06357569, 0.9364243 ],\n",
       "       ...,\n",
       "       [0.59795105, 0.40204895],\n",
       "       [0.59795105, 0.40204895],\n",
       "       [0.59795105, 0.40204895]], dtype=float32)"
      ]
     },
     "execution_count": 19,
     "metadata": {},
     "output_type": "execute_result"
    }
   ],
   "source": [
    "val_preds = xgb.predict_proba(X_test)\n",
    "train_preds = xgb.predict_proba(X_train)\n",
    "\n",
    "print(\"Validation AUC:\" , roc_auc_score(y_test, val_preds[:, 1] ))\n",
    "print(\"Intrinsic AUC:\", roc_auc_score(y_train, train_preds[:, 1]  ))\n",
    "val_preds"
   ]
  },
  {
   "cell_type": "code",
   "execution_count": 20,
   "id": "32d8484e",
   "metadata": {
    "execution": {
     "iopub.execute_input": "2022-04-25T07:19:42.029403Z",
     "iopub.status.busy": "2022-04-25T07:19:42.025567Z",
     "iopub.status.idle": "2022-04-25T07:19:49.020787Z",
     "shell.execute_reply": "2022-04-25T07:19:49.021374Z",
     "shell.execute_reply.started": "2022-04-22T09:40:21.822317Z"
    },
    "papermill": {
     "duration": 7.049473,
     "end_time": "2022-04-25T07:19:49.021597",
     "exception": false,
     "start_time": "2022-04-25T07:19:41.972124",
     "status": "completed"
    },
    "tags": []
   },
   "outputs": [
    {
     "data": {
      "image/png": "[encoded data removed]",
      "text/plain": [
       "<Figure size 1800x1800 with 1 Axes>"
      ]
     },
     "metadata": {
      "needs_background": "light"
     },
     "output_type": "display_data"
    }
   ],
   "source": [
    "feat_importance = pd.DataFrame(data = xgb.feature_importances_,index = train.drop(\"state\",axis =1).columns, columns = [\"feature_importance\"]).sort_values(by=['feature_importance'], ascending=False)\n",
    "\n",
    "plt.figure(figsize=(25,25))\n",
    "sns.barplot(x=feat_importance[feat_importance['feature_importance']>0]['feature_importance'], y=feat_importance[feat_importance['feature_importance']>0].index)\n",
    "plt.title(\"Features with importance >0\")\n",
    "plt.show()"
   ]
  },
  {
   "cell_type": "code",
   "execution_count": 21,
   "id": "c9f1a033",
   "metadata": {
    "execution": {
     "iopub.execute_input": "2022-04-25T07:19:49.137178Z",
     "iopub.status.busy": "2022-04-25T07:19:49.136469Z",
     "iopub.status.idle": "2022-04-25T07:19:49.140662Z",
     "shell.execute_reply": "2022-04-25T07:19:49.140147Z",
     "shell.execute_reply.started": "2022-04-22T09:40:27.500851Z"
    },
    "papermill": {
     "duration": 0.063797,
     "end_time": "2022-04-25T07:19:49.140795",
     "exception": false,
     "start_time": "2022-04-25T07:19:49.076998",
     "status": "completed"
    },
    "tags": []
   },
   "outputs": [
    {
     "name": "stdout",
     "output_type": "stream",
     "text": [
      "FEATURES with 0 importance\n",
      "\n",
      "[]\n"
     ]
    }
   ],
   "source": [
    "print(\"FEATURES with 0 importance\\n\")\n",
    "print([col for col in feat_importance[feat_importance['feature_importance']==0].index])"
   ]
  },
  {
   "cell_type": "markdown",
   "id": "d4160b7e",
   "metadata": {
    "papermill": {
     "duration": 0.055367,
     "end_time": "2022-04-25T07:19:49.252014",
     "exception": false,
     "start_time": "2022-04-25T07:19:49.196647",
     "status": "completed"
    },
    "tags": []
   },
   "source": [
    "# Calibration plot & recalibration\n",
    "https://wttech.blog/blog/2021/a-guide-to-model-calibration/"
   ]
  },
  {
   "cell_type": "code",
   "execution_count": 22,
   "id": "3bf1537c",
   "metadata": {
    "execution": {
     "iopub.execute_input": "2022-04-25T07:19:49.369192Z",
     "iopub.status.busy": "2022-04-25T07:19:49.368372Z",
     "iopub.status.idle": "2022-04-25T07:19:49.401385Z",
     "shell.execute_reply": "2022-04-25T07:19:49.400878Z",
     "shell.execute_reply.started": "2022-04-22T09:40:27.510261Z"
    },
    "papermill": {
     "duration": 0.094998,
     "end_time": "2022-04-25T07:19:49.401568",
     "exception": false,
     "start_time": "2022-04-25T07:19:49.306570",
     "status": "completed"
    },
    "tags": []
   },
   "outputs": [],
   "source": [
    "prob_true, prob_pred = calibration_curve(y_test, val_preds[:,1], n_bins=10)"
   ]
  },
  {
   "cell_type": "code",
   "execution_count": 23,
   "id": "cf5c56a0",
   "metadata": {
    "execution": {
     "iopub.execute_input": "2022-04-25T07:19:49.532133Z",
     "iopub.status.busy": "2022-04-25T07:19:49.530845Z",
     "iopub.status.idle": "2022-04-25T07:19:49.810459Z",
     "shell.execute_reply": "2022-04-25T07:19:49.809759Z",
     "shell.execute_reply.started": "2022-04-22T09:40:27.550573Z"
    },
    "papermill": {
     "duration": 0.352006,
     "end_time": "2022-04-25T07:19:49.810600",
     "exception": false,
     "start_time": "2022-04-25T07:19:49.458594",
     "status": "completed"
    },
    "tags": []
   },
   "outputs": [
    {
     "data": {
      "image/png": "[encoded data removed]",
      "text/plain": [
       "<Figure size 1440x720 with 1 Axes>"
      ]
     },
     "metadata": {
      "needs_background": "light"
     },
     "output_type": "display_data"
    }
   ],
   "source": [
    "fig, ax = plt.subplots(figsize=(20,10))\n",
    "plt.plot(prob_pred,prob_true, marker='o', linewidth=1, label='xgb model probabilities')\n",
    "\n",
    "# reference line\n",
    "line = mlines.Line2D([0, 1], [0, 1], color='black')\n",
    "transform = ax.transAxes\n",
    "line.set_transform(transform)\n",
    "ax.add_line(line)\n",
    "plt.axvline(x=0.2, color = \"r\")\n",
    "fig.suptitle('Calibration plot')\n",
    "ax.set_xlabel('Predicted probability (mean)')\n",
    "ax.set_ylabel('Fraction of positives (%True  in each bin)')\n",
    "plt.legend()\n",
    "plt.show()"
   ]
  },
  {
   "cell_type": "markdown",
   "id": "06a40929",
   "metadata": {
    "papermill": {
     "duration": 0.055912,
     "end_time": "2022-04-25T07:19:49.922566",
     "exception": false,
     "start_time": "2022-04-25T07:19:49.866654",
     "status": "completed"
    },
    "tags": []
   },
   "source": [
    "#### Notes on graph:\n",
    "We have a S-shaped calibration plot\n",
    "\n",
    "This showcases that we are:\n",
    "* **Underpredicting** where the fraction of True positive values is **higher** \n",
    "* **Over predicting** where the fraction of True positive values is **lower**\n",
    "\n",
    "i.e. if we have 20% of postive values in our data (in otherwords 20% Accuracy) we should predict 20% postive values\n",
    "However (from the red line graph) we are predicting around under 30% probability  --> Overpredicting\n",
    "\n",
    "Calibration tries to fix this by \"shifting\" the values using calibration methods such as:\n",
    "* isotonic \n",
    "* sigmoid (Platts method) "
   ]
  },
  {
   "cell_type": "code",
   "execution_count": 24,
   "id": "a065840f",
   "metadata": {
    "execution": {
     "iopub.execute_input": "2022-04-25T07:19:50.044407Z",
     "iopub.status.busy": "2022-04-25T07:19:50.043540Z",
     "iopub.status.idle": "2022-04-25T07:20:46.068124Z",
     "shell.execute_reply": "2022-04-25T07:20:46.068716Z",
     "shell.execute_reply.started": "2022-04-22T09:40:27.810426Z"
    },
    "papermill": {
     "duration": 56.089844,
     "end_time": "2022-04-25T07:20:46.068894",
     "exception": false,
     "start_time": "2022-04-25T07:19:49.979050",
     "status": "completed"
    },
    "tags": []
   },
   "outputs": [
    {
     "name": "stdout",
     "output_type": "stream",
     "text": [
      "Validation AUC: 0.9454637136198163\n",
      "calibrated AUC: 0.9465126489921262\n"
     ]
    }
   ],
   "source": [
    "calibrator = CalibratedClassifierCV(xgb, method = \"isotonic\", cv='prefit')\n",
    "calibrator.fit(X_test, y_test)\n",
    "cal_preds = calibrator.predict_proba(X_test)\n",
    "\n",
    "print(\"Validation AUC:\" , roc_auc_score(y_test, val_preds[:, 1] ))\n",
    "print(\"calibrated AUC:\" , roc_auc_score(y_test, cal_preds[:, 1] ))"
   ]
  },
  {
   "cell_type": "markdown",
   "id": "86daa86e",
   "metadata": {
    "papermill": {
     "duration": 0.128334,
     "end_time": "2022-04-25T07:20:46.289039",
     "exception": false,
     "start_time": "2022-04-25T07:20:46.160705",
     "status": "completed"
    },
    "tags": []
   },
   "source": [
    "# Cross Validation"
   ]
  },
  {
   "cell_type": "code",
   "execution_count": 25,
   "id": "d3a19fe1",
   "metadata": {
    "execution": {
     "iopub.execute_input": "2022-04-25T07:20:46.509189Z",
     "iopub.status.busy": "2022-04-25T07:20:46.507989Z",
     "iopub.status.idle": "2022-04-25T07:20:46.738995Z",
     "shell.execute_reply": "2022-04-25T07:20:46.739475Z",
     "shell.execute_reply.started": "2022-04-22T09:41:05.526841Z"
    },
    "papermill": {
     "duration": 0.34398,
     "end_time": "2022-04-25T07:20:46.739753",
     "exception": false,
     "start_time": "2022-04-25T07:20:46.395773",
     "status": "completed"
    },
    "tags": []
   },
   "outputs": [
    {
     "data": {
      "text/plain": [
       "49299"
      ]
     },
     "execution_count": 25,
     "metadata": {},
     "output_type": "execute_result"
    }
   ],
   "source": [
    "del xgb\n",
    "del X_train\n",
    "del y_train\n",
    "del X_test\n",
    "del y_test\n",
    "del val_preds\n",
    "del train_preds\n",
    "del calibrator\n",
    "\n",
    "gc.collect()"
   ]
  },
  {
   "cell_type": "code",
   "execution_count": 26,
   "id": "8889eb2f",
   "metadata": {
    "execution": {
     "iopub.execute_input": "2022-04-25T07:20:47.346159Z",
     "iopub.status.busy": "2022-04-25T07:20:47.345294Z",
     "iopub.status.idle": "2022-04-25T07:20:47.349960Z",
     "shell.execute_reply": "2022-04-25T07:20:47.349055Z",
     "shell.execute_reply.started": "2022-04-22T09:41:05.692265Z"
    },
    "papermill": {
     "duration": 0.532393,
     "end_time": "2022-04-25T07:20:47.350214",
     "exception": false,
     "start_time": "2022-04-25T07:20:46.817821",
     "status": "completed"
    },
    "tags": []
   },
   "outputs": [],
   "source": [
    "X = train.drop(\"state\",axis =1)\n",
    "y = train[\"state\"]"
   ]
  },
  {
   "cell_type": "code",
   "execution_count": 27,
   "id": "be87a3ea",
   "metadata": {
    "execution": {
     "iopub.execute_input": "2022-04-25T07:20:47.476894Z",
     "iopub.status.busy": "2022-04-25T07:20:47.475886Z",
     "iopub.status.idle": "2022-04-25T07:20:47.479261Z",
     "shell.execute_reply": "2022-04-25T07:20:47.478622Z",
     "shell.execute_reply.started": "2022-04-22T09:41:06.082682Z"
    },
    "papermill": {
     "duration": 0.067511,
     "end_time": "2022-04-25T07:20:47.479453",
     "exception": false,
     "start_time": "2022-04-25T07:20:47.411942",
     "status": "completed"
    },
    "tags": []
   },
   "outputs": [],
   "source": [
    "kfold = GroupKFold(n_splits = FOLDS)"
   ]
  },
  {
   "cell_type": "code",
   "execution_count": 28,
   "id": "ceeeee09",
   "metadata": {
    "execution": {
     "iopub.execute_input": "2022-04-25T07:20:47.616382Z",
     "iopub.status.busy": "2022-04-25T07:20:47.614512Z",
     "iopub.status.idle": "2022-04-25T07:56:43.637265Z",
     "shell.execute_reply": "2022-04-25T07:56:43.637851Z",
     "shell.execute_reply.started": "2022-04-22T09:41:06.096947Z"
    },
    "papermill": {
     "duration": 2156.098908,
     "end_time": "2022-04-25T07:56:43.638045",
     "exception": false,
     "start_time": "2022-04-25T07:20:47.539137",
     "status": "completed"
    },
    "tags": []
   },
   "outputs": [
    {
     "name": "stdout",
     "output_type": "stream",
     "text": [
      "\n",
      " ########## Fold 1 ##########\n",
      "scaling\n",
      "[0]\tvalidation_0-auc:0.84090\n",
      "[50]\tvalidation_0-auc:0.91297\n",
      "[100]\tvalidation_0-auc:0.91688\n",
      "[150]\tvalidation_0-auc:0.92034\n",
      "[200]\tvalidation_0-auc:0.92401\n",
      "[250]\tvalidation_0-auc:0.92647\n",
      "[300]\tvalidation_0-auc:0.92817\n",
      "[350]\tvalidation_0-auc:0.92931\n",
      "[400]\tvalidation_0-auc:0.93053\n",
      "[450]\tvalidation_0-auc:0.93138\n",
      "[500]\tvalidation_0-auc:0.93195\n",
      "[550]\tvalidation_0-auc:0.93251\n",
      "[600]\tvalidation_0-auc:0.93325\n",
      "[650]\tvalidation_0-auc:0.93355\n",
      "[700]\tvalidation_0-auc:0.93391\n",
      "[750]\tvalidation_0-auc:0.93415\n",
      "[800]\tvalidation_0-auc:0.93441\n",
      "[850]\tvalidation_0-auc:0.93464\n",
      "[900]\tvalidation_0-auc:0.93476\n",
      "[950]\tvalidation_0-auc:0.93482\n",
      "[1000]\tvalidation_0-auc:0.93502\n",
      "[1050]\tvalidation_0-auc:0.93533\n",
      "[1100]\tvalidation_0-auc:0.93543\n",
      "[1150]\tvalidation_0-auc:0.93561\n",
      "[1200]\tvalidation_0-auc:0.93579\n",
      "[1250]\tvalidation_0-auc:0.93580\n",
      "[1300]\tvalidation_0-auc:0.93591\n",
      "[1350]\tvalidation_0-auc:0.93613\n",
      "[1400]\tvalidation_0-auc:0.93620\n",
      "[1450]\tvalidation_0-auc:0.93644\n",
      "[1500]\tvalidation_0-auc:0.93648\n",
      "[1550]\tvalidation_0-auc:0.93659\n",
      "[1600]\tvalidation_0-auc:0.93675\n",
      "[1650]\tvalidation_0-auc:0.93679\n",
      "[1700]\tvalidation_0-auc:0.93698\n",
      "[1750]\tvalidation_0-auc:0.93705\n",
      "[1800]\tvalidation_0-auc:0.93712\n",
      "[1850]\tvalidation_0-auc:0.93714\n",
      "[1900]\tvalidation_0-auc:0.93729\n",
      "[1950]\tvalidation_0-auc:0.93744\n",
      "[2000]\tvalidation_0-auc:0.93744\n",
      "[2050]\tvalidation_0-auc:0.93743\n",
      "[2092]\tvalidation_0-auc:0.93743\n",
      "\n",
      " Calibration AUC: 0.940099245539233\n",
      "\n",
      " ########## Fold 2 ##########\n",
      "scaling\n",
      "[0]\tvalidation_0-auc:0.83782\n",
      "[50]\tvalidation_0-auc:0.91877\n",
      "[100]\tvalidation_0-auc:0.92373\n",
      "[150]\tvalidation_0-auc:0.92773\n",
      "[200]\tvalidation_0-auc:0.93088\n",
      "[250]\tvalidation_0-auc:0.93310\n",
      "[300]\tvalidation_0-auc:0.93482\n",
      "[350]\tvalidation_0-auc:0.93642\n",
      "[400]\tvalidation_0-auc:0.93740\n",
      "[450]\tvalidation_0-auc:0.93828\n",
      "[500]\tvalidation_0-auc:0.93896\n",
      "[550]\tvalidation_0-auc:0.93964\n",
      "[600]\tvalidation_0-auc:0.94009\n",
      "[650]\tvalidation_0-auc:0.94056\n",
      "[700]\tvalidation_0-auc:0.94083\n",
      "[750]\tvalidation_0-auc:0.94111\n",
      "[800]\tvalidation_0-auc:0.94134\n",
      "[850]\tvalidation_0-auc:0.94147\n",
      "[900]\tvalidation_0-auc:0.94161\n",
      "[950]\tvalidation_0-auc:0.94184\n",
      "[1000]\tvalidation_0-auc:0.94210\n",
      "[1050]\tvalidation_0-auc:0.94239\n",
      "[1100]\tvalidation_0-auc:0.94251\n",
      "[1150]\tvalidation_0-auc:0.94275\n",
      "[1200]\tvalidation_0-auc:0.94282\n",
      "[1250]\tvalidation_0-auc:0.94298\n",
      "[1300]\tvalidation_0-auc:0.94320\n",
      "[1350]\tvalidation_0-auc:0.94322\n",
      "[1400]\tvalidation_0-auc:0.94335\n",
      "[1450]\tvalidation_0-auc:0.94348\n",
      "[1500]\tvalidation_0-auc:0.94343\n",
      "[1550]\tvalidation_0-auc:0.94346\n",
      "[1600]\tvalidation_0-auc:0.94349\n",
      "[1650]\tvalidation_0-auc:0.94367\n",
      "[1700]\tvalidation_0-auc:0.94356\n",
      "[1750]\tvalidation_0-auc:0.94361\n",
      "[1800]\tvalidation_0-auc:0.94359\n",
      "[1850]\tvalidation_0-auc:0.94366\n",
      "[1885]\tvalidation_0-auc:0.94366\n",
      "\n",
      " Calibration AUC: 0.945723256859672\n",
      "\n",
      " ########## Fold 3 ##########\n",
      "scaling\n",
      "[0]\tvalidation_0-auc:0.84160\n",
      "[50]\tvalidation_0-auc:0.92108\n",
      "[100]\tvalidation_0-auc:0.92559\n",
      "[150]\tvalidation_0-auc:0.92930\n",
      "[200]\tvalidation_0-auc:0.93210\n",
      "[250]\tvalidation_0-auc:0.93474\n",
      "[300]\tvalidation_0-auc:0.93673\n",
      "[350]\tvalidation_0-auc:0.93832\n",
      "[400]\tvalidation_0-auc:0.93929\n",
      "[450]\tvalidation_0-auc:0.94008\n",
      "[500]\tvalidation_0-auc:0.94085\n",
      "[550]\tvalidation_0-auc:0.94126\n",
      "[600]\tvalidation_0-auc:0.94152\n",
      "[650]\tvalidation_0-auc:0.94185\n",
      "[700]\tvalidation_0-auc:0.94235\n",
      "[750]\tvalidation_0-auc:0.94261\n",
      "[800]\tvalidation_0-auc:0.94285\n",
      "[850]\tvalidation_0-auc:0.94313\n",
      "[900]\tvalidation_0-auc:0.94328\n",
      "[950]\tvalidation_0-auc:0.94363\n",
      "[1000]\tvalidation_0-auc:0.94383\n",
      "[1050]\tvalidation_0-auc:0.94397\n",
      "[1100]\tvalidation_0-auc:0.94415\n",
      "[1150]\tvalidation_0-auc:0.94428\n",
      "[1200]\tvalidation_0-auc:0.94437\n",
      "[1250]\tvalidation_0-auc:0.94446\n",
      "[1300]\tvalidation_0-auc:0.94454\n",
      "[1350]\tvalidation_0-auc:0.94461\n",
      "[1400]\tvalidation_0-auc:0.94460\n",
      "[1450]\tvalidation_0-auc:0.94471\n",
      "[1500]\tvalidation_0-auc:0.94483\n",
      "[1550]\tvalidation_0-auc:0.94493\n",
      "[1600]\tvalidation_0-auc:0.94487\n",
      "[1650]\tvalidation_0-auc:0.94493\n",
      "[1651]\tvalidation_0-auc:0.94492\n",
      "\n",
      " Calibration AUC: 0.9470765967593268\n",
      "\n",
      " ########## Fold 4 ##########\n",
      "scaling\n",
      "[0]\tvalidation_0-auc:0.84885\n",
      "[50]\tvalidation_0-auc:0.92780\n",
      "[100]\tvalidation_0-auc:0.93228\n",
      "[150]\tvalidation_0-auc:0.93565\n",
      "[200]\tvalidation_0-auc:0.93835\n",
      "[250]\tvalidation_0-auc:0.94024\n",
      "[300]\tvalidation_0-auc:0.94196\n",
      "[350]\tvalidation_0-auc:0.94317\n",
      "[400]\tvalidation_0-auc:0.94423\n",
      "[450]\tvalidation_0-auc:0.94519\n",
      "[500]\tvalidation_0-auc:0.94563\n",
      "[550]\tvalidation_0-auc:0.94612\n",
      "[600]\tvalidation_0-auc:0.94661\n",
      "[650]\tvalidation_0-auc:0.94719\n",
      "[700]\tvalidation_0-auc:0.94754\n",
      "[750]\tvalidation_0-auc:0.94780\n",
      "[800]\tvalidation_0-auc:0.94820\n",
      "[850]\tvalidation_0-auc:0.94846\n",
      "[900]\tvalidation_0-auc:0.94882\n",
      "[950]\tvalidation_0-auc:0.94909\n",
      "[1000]\tvalidation_0-auc:0.94942\n",
      "[1050]\tvalidation_0-auc:0.94960\n",
      "[1100]\tvalidation_0-auc:0.94980\n",
      "[1150]\tvalidation_0-auc:0.95008\n",
      "[1200]\tvalidation_0-auc:0.95018\n",
      "[1250]\tvalidation_0-auc:0.95040\n",
      "[1300]\tvalidation_0-auc:0.95060\n",
      "[1350]\tvalidation_0-auc:0.95073\n",
      "[1400]\tvalidation_0-auc:0.95090\n",
      "[1450]\tvalidation_0-auc:0.95102\n",
      "[1500]\tvalidation_0-auc:0.95129\n",
      "[1550]\tvalidation_0-auc:0.95150\n",
      "[1600]\tvalidation_0-auc:0.95152\n",
      "[1650]\tvalidation_0-auc:0.95166\n",
      "[1700]\tvalidation_0-auc:0.95171\n",
      "[1750]\tvalidation_0-auc:0.95184\n",
      "[1800]\tvalidation_0-auc:0.95202\n",
      "[1850]\tvalidation_0-auc:0.95205\n",
      "[1900]\tvalidation_0-auc:0.95207\n",
      "[1950]\tvalidation_0-auc:0.95205\n",
      "[2000]\tvalidation_0-auc:0.95211\n",
      "[2050]\tvalidation_0-auc:0.95213\n",
      "[2100]\tvalidation_0-auc:0.95227\n",
      "[2150]\tvalidation_0-auc:0.95228\n",
      "[2200]\tvalidation_0-auc:0.95238\n",
      "[2250]\tvalidation_0-auc:0.95247\n",
      "[2300]\tvalidation_0-auc:0.95234\n",
      "[2350]\tvalidation_0-auc:0.95239\n",
      "[2380]\tvalidation_0-auc:0.95237\n",
      "\n",
      " Calibration AUC: 0.9543753359094798\n",
      "\n",
      " ########## Fold 5 ##########\n",
      "scaling\n",
      "[0]\tvalidation_0-auc:0.85295\n",
      "[50]\tvalidation_0-auc:0.91818\n",
      "[100]\tvalidation_0-auc:0.92331\n",
      "[150]\tvalidation_0-auc:0.92704\n",
      "[200]\tvalidation_0-auc:0.93081\n",
      "[250]\tvalidation_0-auc:0.93344\n",
      "[300]\tvalidation_0-auc:0.93526\n",
      "[350]\tvalidation_0-auc:0.93683\n",
      "[400]\tvalidation_0-auc:0.93792\n",
      "[450]\tvalidation_0-auc:0.93863\n",
      "[500]\tvalidation_0-auc:0.93934\n",
      "[550]\tvalidation_0-auc:0.94012\n",
      "[600]\tvalidation_0-auc:0.94060\n",
      "[650]\tvalidation_0-auc:0.94092\n",
      "[700]\tvalidation_0-auc:0.94136\n",
      "[750]\tvalidation_0-auc:0.94173\n",
      "[800]\tvalidation_0-auc:0.94208\n",
      "[850]\tvalidation_0-auc:0.94234\n",
      "[900]\tvalidation_0-auc:0.94255\n",
      "[950]\tvalidation_0-auc:0.94266\n",
      "[1000]\tvalidation_0-auc:0.94293\n",
      "[1050]\tvalidation_0-auc:0.94308\n",
      "[1100]\tvalidation_0-auc:0.94333\n",
      "[1150]\tvalidation_0-auc:0.94346\n",
      "[1200]\tvalidation_0-auc:0.94365\n",
      "[1250]\tvalidation_0-auc:0.94381\n",
      "[1300]\tvalidation_0-auc:0.94403\n",
      "[1350]\tvalidation_0-auc:0.94418\n",
      "[1400]\tvalidation_0-auc:0.94423\n",
      "[1450]\tvalidation_0-auc:0.94427\n",
      "[1500]\tvalidation_0-auc:0.94441\n",
      "[1550]\tvalidation_0-auc:0.94441\n",
      "[1600]\tvalidation_0-auc:0.94447\n",
      "[1650]\tvalidation_0-auc:0.94456\n",
      "[1700]\tvalidation_0-auc:0.94456\n",
      "[1750]\tvalidation_0-auc:0.94482\n",
      "[1800]\tvalidation_0-auc:0.94489\n",
      "[1850]\tvalidation_0-auc:0.94498\n",
      "[1900]\tvalidation_0-auc:0.94506\n",
      "[1950]\tvalidation_0-auc:0.94507\n",
      "[2000]\tvalidation_0-auc:0.94514\n",
      "[2050]\tvalidation_0-auc:0.94529\n",
      "[2100]\tvalidation_0-auc:0.94527\n",
      "[2150]\tvalidation_0-auc:0.94543\n",
      "[2200]\tvalidation_0-auc:0.94550\n",
      "[2250]\tvalidation_0-auc:0.94550\n",
      "[2300]\tvalidation_0-auc:0.94568\n",
      "[2350]\tvalidation_0-auc:0.94557\n",
      "[2400]\tvalidation_0-auc:0.94565\n",
      "[2435]\tvalidation_0-auc:0.94565\n",
      "\n",
      " Calibration AUC: 0.9479640880732987\n",
      "\n",
      " ########## Fold 6 ##########\n",
      "scaling\n",
      "[0]\tvalidation_0-auc:0.85542\n",
      "[50]\tvalidation_0-auc:0.93149\n",
      "[100]\tvalidation_0-auc:0.93581\n",
      "[150]\tvalidation_0-auc:0.93852\n",
      "[200]\tvalidation_0-auc:0.94147\n",
      "[250]\tvalidation_0-auc:0.94407\n",
      "[300]\tvalidation_0-auc:0.94570\n",
      "[350]\tvalidation_0-auc:0.94716\n",
      "[400]\tvalidation_0-auc:0.94816\n",
      "[450]\tvalidation_0-auc:0.94888\n",
      "[500]\tvalidation_0-auc:0.94937\n",
      "[550]\tvalidation_0-auc:0.94986\n",
      "[600]\tvalidation_0-auc:0.95028\n",
      "[650]\tvalidation_0-auc:0.95051\n",
      "[700]\tvalidation_0-auc:0.95067\n",
      "[750]\tvalidation_0-auc:0.95088\n",
      "[800]\tvalidation_0-auc:0.95102\n",
      "[850]\tvalidation_0-auc:0.95133\n",
      "[900]\tvalidation_0-auc:0.95153\n",
      "[950]\tvalidation_0-auc:0.95166\n",
      "[1000]\tvalidation_0-auc:0.95183\n",
      "[1050]\tvalidation_0-auc:0.95200\n",
      "[1100]\tvalidation_0-auc:0.95206\n",
      "[1150]\tvalidation_0-auc:0.95211\n",
      "[1200]\tvalidation_0-auc:0.95215\n",
      "[1250]\tvalidation_0-auc:0.95224\n",
      "[1300]\tvalidation_0-auc:0.95231\n",
      "[1350]\tvalidation_0-auc:0.95245\n",
      "[1400]\tvalidation_0-auc:0.95259\n",
      "[1450]\tvalidation_0-auc:0.95272\n",
      "[1500]\tvalidation_0-auc:0.95279\n",
      "[1550]\tvalidation_0-auc:0.95288\n",
      "[1600]\tvalidation_0-auc:0.95284\n",
      "[1650]\tvalidation_0-auc:0.95286\n",
      "[1685]\tvalidation_0-auc:0.95285\n",
      "\n",
      " Calibration AUC: 0.955061331498529\n",
      "\n",
      " ########## Fold 7 ##########\n",
      "scaling\n",
      "[0]\tvalidation_0-auc:0.85644\n",
      "[50]\tvalidation_0-auc:0.91926\n",
      "[100]\tvalidation_0-auc:0.92401\n",
      "[150]\tvalidation_0-auc:0.92737\n",
      "[200]\tvalidation_0-auc:0.93078\n",
      "[250]\tvalidation_0-auc:0.93323\n",
      "[300]\tvalidation_0-auc:0.93524\n",
      "[350]\tvalidation_0-auc:0.93721\n",
      "[400]\tvalidation_0-auc:0.93842\n",
      "[450]\tvalidation_0-auc:0.93966\n",
      "[500]\tvalidation_0-auc:0.94064\n",
      "[550]\tvalidation_0-auc:0.94142\n",
      "[600]\tvalidation_0-auc:0.94173\n",
      "[650]\tvalidation_0-auc:0.94214\n",
      "[700]\tvalidation_0-auc:0.94261\n",
      "[750]\tvalidation_0-auc:0.94312\n",
      "[800]\tvalidation_0-auc:0.94348\n",
      "[850]\tvalidation_0-auc:0.94371\n",
      "[900]\tvalidation_0-auc:0.94398\n",
      "[950]\tvalidation_0-auc:0.94420\n",
      "[1000]\tvalidation_0-auc:0.94425\n",
      "[1050]\tvalidation_0-auc:0.94441\n",
      "[1100]\tvalidation_0-auc:0.94439\n",
      "[1150]\tvalidation_0-auc:0.94450\n",
      "[1200]\tvalidation_0-auc:0.94463\n",
      "[1250]\tvalidation_0-auc:0.94478\n",
      "[1300]\tvalidation_0-auc:0.94497\n",
      "[1350]\tvalidation_0-auc:0.94510\n",
      "[1400]\tvalidation_0-auc:0.94522\n",
      "[1450]\tvalidation_0-auc:0.94529\n",
      "[1500]\tvalidation_0-auc:0.94524\n",
      "[1550]\tvalidation_0-auc:0.94542\n",
      "[1600]\tvalidation_0-auc:0.94542\n",
      "[1650]\tvalidation_0-auc:0.94547\n",
      "[1700]\tvalidation_0-auc:0.94562\n",
      "[1750]\tvalidation_0-auc:0.94561\n",
      "[1800]\tvalidation_0-auc:0.94567\n",
      "[1850]\tvalidation_0-auc:0.94576\n",
      "[1900]\tvalidation_0-auc:0.94585\n",
      "[1950]\tvalidation_0-auc:0.94596\n",
      "[2000]\tvalidation_0-auc:0.94601\n",
      "[2050]\tvalidation_0-auc:0.94603\n",
      "[2100]\tvalidation_0-auc:0.94611\n",
      "[2150]\tvalidation_0-auc:0.94616\n",
      "[2200]\tvalidation_0-auc:0.94632\n",
      "[2250]\tvalidation_0-auc:0.94626\n",
      "[2300]\tvalidation_0-auc:0.94629\n",
      "[2350]\tvalidation_0-auc:0.94634\n",
      "[2400]\tvalidation_0-auc:0.94630\n",
      "[2450]\tvalidation_0-auc:0.94631\n",
      "[2490]\tvalidation_0-auc:0.94620\n",
      "\n",
      " Calibration AUC: 0.9484938615740466\n",
      "\n",
      " ########## Fold 8 ##########\n",
      "scaling\n",
      "[0]\tvalidation_0-auc:0.84822\n",
      "[50]\tvalidation_0-auc:0.92525\n",
      "[100]\tvalidation_0-auc:0.92980\n",
      "[150]\tvalidation_0-auc:0.93337\n",
      "[200]\tvalidation_0-auc:0.93605\n",
      "[250]\tvalidation_0-auc:0.93797\n",
      "[300]\tvalidation_0-auc:0.93942\n",
      "[350]\tvalidation_0-auc:0.94081\n",
      "[400]\tvalidation_0-auc:0.94189\n",
      "[450]\tvalidation_0-auc:0.94267\n",
      "[500]\tvalidation_0-auc:0.94344\n",
      "[550]\tvalidation_0-auc:0.94399\n",
      "[600]\tvalidation_0-auc:0.94442\n",
      "[650]\tvalidation_0-auc:0.94485\n",
      "[700]\tvalidation_0-auc:0.94518\n",
      "[750]\tvalidation_0-auc:0.94549\n",
      "[800]\tvalidation_0-auc:0.94578\n",
      "[850]\tvalidation_0-auc:0.94605\n",
      "[900]\tvalidation_0-auc:0.94632\n",
      "[950]\tvalidation_0-auc:0.94647\n",
      "[1000]\tvalidation_0-auc:0.94673\n",
      "[1050]\tvalidation_0-auc:0.94688\n",
      "[1100]\tvalidation_0-auc:0.94695\n",
      "[1150]\tvalidation_0-auc:0.94721\n",
      "[1200]\tvalidation_0-auc:0.94744\n",
      "[1250]\tvalidation_0-auc:0.94747\n",
      "[1300]\tvalidation_0-auc:0.94761\n",
      "[1350]\tvalidation_0-auc:0.94772\n",
      "[1400]\tvalidation_0-auc:0.94785\n",
      "[1450]\tvalidation_0-auc:0.94793\n",
      "[1500]\tvalidation_0-auc:0.94791\n",
      "[1550]\tvalidation_0-auc:0.94802\n",
      "[1600]\tvalidation_0-auc:0.94820\n",
      "[1650]\tvalidation_0-auc:0.94833\n",
      "[1700]\tvalidation_0-auc:0.94842\n",
      "[1750]\tvalidation_0-auc:0.94843\n",
      "[1800]\tvalidation_0-auc:0.94851\n",
      "[1850]\tvalidation_0-auc:0.94857\n",
      "[1900]\tvalidation_0-auc:0.94865\n",
      "[1950]\tvalidation_0-auc:0.94865\n",
      "[2000]\tvalidation_0-auc:0.94870\n",
      "[2050]\tvalidation_0-auc:0.94863\n",
      "[2100]\tvalidation_0-auc:0.94875\n",
      "[2150]\tvalidation_0-auc:0.94883\n",
      "[2200]\tvalidation_0-auc:0.94894\n",
      "[2250]\tvalidation_0-auc:0.94899\n",
      "[2300]\tvalidation_0-auc:0.94899\n",
      "[2350]\tvalidation_0-auc:0.94895\n",
      "[2400]\tvalidation_0-auc:0.94896\n",
      "[2407]\tvalidation_0-auc:0.94900\n",
      "\n",
      " Calibration AUC: 0.9510373734425754\n",
      "\n",
      " ########## Fold 9 ##########\n",
      "scaling\n",
      "[0]\tvalidation_0-auc:0.85003\n",
      "[50]\tvalidation_0-auc:0.92681\n",
      "[100]\tvalidation_0-auc:0.93041\n",
      "[150]\tvalidation_0-auc:0.93356\n",
      "[200]\tvalidation_0-auc:0.93591\n",
      "[250]\tvalidation_0-auc:0.93814\n",
      "[300]\tvalidation_0-auc:0.93978\n",
      "[350]\tvalidation_0-auc:0.94108\n",
      "[400]\tvalidation_0-auc:0.94236\n",
      "[450]\tvalidation_0-auc:0.94327\n",
      "[500]\tvalidation_0-auc:0.94425\n",
      "[550]\tvalidation_0-auc:0.94492\n",
      "[600]\tvalidation_0-auc:0.94565\n",
      "[650]\tvalidation_0-auc:0.94619\n",
      "[700]\tvalidation_0-auc:0.94675\n",
      "[750]\tvalidation_0-auc:0.94714\n",
      "[800]\tvalidation_0-auc:0.94752\n",
      "[850]\tvalidation_0-auc:0.94775\n",
      "[900]\tvalidation_0-auc:0.94818\n",
      "[950]\tvalidation_0-auc:0.94847\n",
      "[1000]\tvalidation_0-auc:0.94882\n",
      "[1050]\tvalidation_0-auc:0.94904\n",
      "[1100]\tvalidation_0-auc:0.94938\n",
      "[1150]\tvalidation_0-auc:0.94959\n",
      "[1200]\tvalidation_0-auc:0.94984\n",
      "[1250]\tvalidation_0-auc:0.95007\n",
      "[1300]\tvalidation_0-auc:0.95021\n",
      "[1350]\tvalidation_0-auc:0.95037\n",
      "[1400]\tvalidation_0-auc:0.95049\n",
      "[1450]\tvalidation_0-auc:0.95082\n",
      "[1500]\tvalidation_0-auc:0.95086\n",
      "[1550]\tvalidation_0-auc:0.95098\n",
      "[1600]\tvalidation_0-auc:0.95115\n",
      "[1650]\tvalidation_0-auc:0.95123\n",
      "[1700]\tvalidation_0-auc:0.95134\n",
      "[1750]\tvalidation_0-auc:0.95147\n",
      "[1800]\tvalidation_0-auc:0.95143\n",
      "[1850]\tvalidation_0-auc:0.95147\n",
      "[1900]\tvalidation_0-auc:0.95155\n",
      "[1950]\tvalidation_0-auc:0.95165\n",
      "[2000]\tvalidation_0-auc:0.95171\n",
      "[2050]\tvalidation_0-auc:0.95174\n",
      "[2100]\tvalidation_0-auc:0.95178\n",
      "[2150]\tvalidation_0-auc:0.95180\n",
      "[2200]\tvalidation_0-auc:0.95186\n",
      "[2250]\tvalidation_0-auc:0.95188\n",
      "[2300]\tvalidation_0-auc:0.95192\n",
      "[2350]\tvalidation_0-auc:0.95196\n",
      "[2400]\tvalidation_0-auc:0.95199\n",
      "[2450]\tvalidation_0-auc:0.95199\n",
      "[2500]\tvalidation_0-auc:0.95201\n",
      "[2550]\tvalidation_0-auc:0.95199\n",
      "[2600]\tvalidation_0-auc:0.95209\n",
      "[2650]\tvalidation_0-auc:0.95208\n",
      "[2700]\tvalidation_0-auc:0.95206\n",
      "[2718]\tvalidation_0-auc:0.95206\n",
      "\n",
      " Calibration AUC: 0.9540067352872837\n",
      "\n",
      " ########## Fold 10 ##########\n",
      "scaling\n",
      "[0]\tvalidation_0-auc:0.85749\n",
      "[50]\tvalidation_0-auc:0.93221\n",
      "[100]\tvalidation_0-auc:0.93533\n",
      "[150]\tvalidation_0-auc:0.93834\n",
      "[200]\tvalidation_0-auc:0.94083\n",
      "[250]\tvalidation_0-auc:0.94268\n",
      "[300]\tvalidation_0-auc:0.94433\n",
      "[350]\tvalidation_0-auc:0.94581\n",
      "[400]\tvalidation_0-auc:0.94677\n",
      "[450]\tvalidation_0-auc:0.94762\n",
      "[500]\tvalidation_0-auc:0.94817\n",
      "[550]\tvalidation_0-auc:0.94860\n",
      "[600]\tvalidation_0-auc:0.94917\n",
      "[650]\tvalidation_0-auc:0.94965\n",
      "[700]\tvalidation_0-auc:0.94995\n",
      "[750]\tvalidation_0-auc:0.95017\n",
      "[800]\tvalidation_0-auc:0.95039\n",
      "[850]\tvalidation_0-auc:0.95061\n",
      "[900]\tvalidation_0-auc:0.95072\n",
      "[950]\tvalidation_0-auc:0.95103\n",
      "[1000]\tvalidation_0-auc:0.95115\n",
      "[1050]\tvalidation_0-auc:0.95140\n",
      "[1100]\tvalidation_0-auc:0.95161\n",
      "[1150]\tvalidation_0-auc:0.95183\n",
      "[1200]\tvalidation_0-auc:0.95200\n",
      "[1250]\tvalidation_0-auc:0.95204\n",
      "[1300]\tvalidation_0-auc:0.95218\n",
      "[1350]\tvalidation_0-auc:0.95217\n",
      "[1400]\tvalidation_0-auc:0.95229\n",
      "[1450]\tvalidation_0-auc:0.95241\n",
      "[1500]\tvalidation_0-auc:0.95244\n",
      "[1550]\tvalidation_0-auc:0.95255\n",
      "[1600]\tvalidation_0-auc:0.95261\n",
      "[1650]\tvalidation_0-auc:0.95269\n",
      "[1700]\tvalidation_0-auc:0.95260\n",
      "[1750]\tvalidation_0-auc:0.95260\n",
      "[1779]\tvalidation_0-auc:0.95259\n",
      "\n",
      " Calibration AUC: 0.9546703223194011\n",
      "FINAL AUC:  0.9498508147262846\n"
     ]
    }
   ],
   "source": [
    "auc_cv = []\n",
    "preds = []\n",
    "\n",
    "for fold, (train_idx, val_idx) in enumerate (kfold.split(X,y, groups =train_original.sequence)):\n",
    "\n",
    "    print(\"\\n\",\"#\"*10, f\"Fold {fold+1}\",\"#\"*10)\n",
    "    X_train, X_test = X.iloc[train_idx] , X.iloc[val_idx]\n",
    "    y_train , y_test = y.iloc[train_idx], y.iloc[val_idx]\n",
    "   \n",
    "    ### SCALING ----ADDDD \n",
    "    if SCALING:\n",
    "        print(\"scaling\")\n",
    "        scaler= StandardScaler()\n",
    "        X_train = scaler.fit_transform(X_train) \n",
    "        X_test = scaler.transform(X_test)\n",
    "        test_s = scaler.transform(test)\n",
    "    else:\n",
    "        test_s = test.copy()\n",
    "    \n",
    "    model = XGBClassifier(**params,use_label_encoder=False)\n",
    "    model.fit(X_train, y_train, eval_set = [(X_test, y_test)], eval_metric = ['auc'], early_stopping_rounds = 128, verbose = 50)\n",
    "    \n",
    "    if CALIBRATION:\n",
    "        calibrator = CalibratedClassifierCV(model, method = \"isotonic\", cv='prefit')\n",
    "        calibrator.fit(X_test, y_test)\n",
    "        auc = roc_auc_score(y_test, calibrator.predict_proba(X_test)[:, 1])\n",
    "        print(\"\\n Calibration AUC:\" , auc)\n",
    "        preds.append(calibrator.predict_proba(test_s)[:, 1])\n",
    "    else:\n",
    "        auc = roc_auc_score(y_test, model.predict_proba(X_test)[:, 1])\n",
    "        print(\"\\n Validation AUC:\" , auc)\n",
    "        preds.append(model.predict_proba(test_s)[:, 1])\n",
    "\n",
    "    auc_cv.append(auc)\n",
    "\n",
    "    del X_train\n",
    "    del X_test\n",
    "    del y_train\n",
    "    del y_test\n",
    "    del model\n",
    "    #del calibrator\n",
    "    \n",
    "    gc.collect()\n",
    "\n",
    "print(\"FINAL AUC: \", np.mean(auc_cv))"
   ]
  },
  {
   "cell_type": "markdown",
   "id": "7a91f288",
   "metadata": {
    "papermill": {
     "duration": 0.213619,
     "end_time": "2022-04-25T07:56:44.056917",
     "exception": false,
     "start_time": "2022-04-25T07:56:43.843298",
     "status": "completed"
    },
    "tags": []
   },
   "source": [
    "# Submission"
   ]
  },
  {
   "cell_type": "code",
   "execution_count": 29,
   "id": "99e22ca4",
   "metadata": {
    "execution": {
     "iopub.execute_input": "2022-04-25T07:56:44.487612Z",
     "iopub.status.busy": "2022-04-25T07:56:44.486599Z",
     "iopub.status.idle": "2022-04-25T07:56:46.458185Z",
     "shell.execute_reply": "2022-04-25T07:56:46.458814Z",
     "shell.execute_reply.started": "2022-04-22T10:04:55.018402Z"
    },
    "papermill": {
     "duration": 2.188803,
     "end_time": "2022-04-25T07:56:46.459040",
     "exception": false,
     "start_time": "2022-04-25T07:56:44.270237",
     "status": "completed"
    },
    "tags": []
   },
   "outputs": [
    {
     "data": {
      "text/html": [
       "<div>\n",
       "<style scoped>\n",
       "    .dataframe tbody tr th:only-of-type {\n",
       "        vertical-align: middle;\n",
       "    }\n",
       "\n",
       "    .dataframe tbody tr th {\n",
       "        vertical-align: top;\n",
       "    }\n",
       "\n",
       "    .dataframe thead th {\n",
       "        text-align: right;\n",
       "    }\n",
       "</style>\n",
       "<table border=\"1\" class=\"dataframe\">\n",
       "  <thead>\n",
       "    <tr style=\"text-align: right;\">\n",
       "      <th></th>\n",
       "      <th>state</th>\n",
       "    </tr>\n",
       "    <tr>\n",
       "      <th>sequence</th>\n",
       "      <th></th>\n",
       "    </tr>\n",
       "  </thead>\n",
       "  <tbody>\n",
       "    <tr>\n",
       "      <th>25968</th>\n",
       "      <td>0.662585</td>\n",
       "    </tr>\n",
       "    <tr>\n",
       "      <th>25969</th>\n",
       "      <td>0.965875</td>\n",
       "    </tr>\n",
       "    <tr>\n",
       "      <th>25970</th>\n",
       "      <td>0.000000</td>\n",
       "    </tr>\n",
       "    <tr>\n",
       "      <th>25971</th>\n",
       "      <td>0.542455</td>\n",
       "    </tr>\n",
       "    <tr>\n",
       "      <th>25972</th>\n",
       "      <td>0.676010</td>\n",
       "    </tr>\n",
       "    <tr>\n",
       "      <th>...</th>\n",
       "      <td>...</td>\n",
       "    </tr>\n",
       "    <tr>\n",
       "      <th>38181</th>\n",
       "      <td>0.943281</td>\n",
       "    </tr>\n",
       "    <tr>\n",
       "      <th>38182</th>\n",
       "      <td>0.846059</td>\n",
       "    </tr>\n",
       "    <tr>\n",
       "      <th>38183</th>\n",
       "      <td>0.595820</td>\n",
       "    </tr>\n",
       "    <tr>\n",
       "      <th>38184</th>\n",
       "      <td>0.000000</td>\n",
       "    </tr>\n",
       "    <tr>\n",
       "      <th>38185</th>\n",
       "      <td>0.034485</td>\n",
       "    </tr>\n",
       "  </tbody>\n",
       "</table>\n",
       "<p>12218 rows × 1 columns</p>\n",
       "</div>"
      ],
      "text/plain": [
       "             state\n",
       "sequence          \n",
       "25968     0.662585\n",
       "25969     0.965875\n",
       "25970     0.000000\n",
       "25971     0.542455\n",
       "25972     0.676010\n",
       "...            ...\n",
       "38181     0.943281\n",
       "38182     0.846059\n",
       "38183     0.595820\n",
       "38184     0.000000\n",
       "38185     0.034485\n",
       "\n",
       "[12218 rows x 1 columns]"
      ]
     },
     "execution_count": 29,
     "metadata": {},
     "output_type": "execute_result"
    }
   ],
   "source": [
    "test_original = pd.read_csv(\"../input/tabular-playground-series-apr-2022/test.csv\")\n",
    "\n",
    "final_preds = np.sum(preds,axis =0)/FOLDS\n",
    "test_original[\"state\"] = final_preds\n",
    "sub[\"state\"] = test_original.groupby([\"sequence\", \"subject\"]).mean()[\"state\"].values\n",
    "sub.to_csv(\"submission.csv\")\n",
    "sub"
   ]
  },
  {
   "cell_type": "code",
   "execution_count": 30,
   "id": "4b5b5173",
   "metadata": {
    "execution": {
     "iopub.execute_input": "2022-04-25T07:56:46.891795Z",
     "iopub.status.busy": "2022-04-25T07:56:46.890705Z",
     "iopub.status.idle": "2022-04-25T07:56:47.189794Z",
     "shell.execute_reply": "2022-04-25T07:56:47.190644Z",
     "shell.execute_reply.started": "2022-04-22T10:04:55.020194Z"
    },
    "papermill": {
     "duration": 0.521263,
     "end_time": "2022-04-25T07:56:47.190799",
     "exception": false,
     "start_time": "2022-04-25T07:56:46.669536",
     "status": "completed"
    },
    "tags": []
   },
   "outputs": [
    {
     "data": {
      "image/png": "[encoded data removed]",
      "text/plain": [
       "<Figure size 1440x576 with 1 Axes>"
      ]
     },
     "metadata": {
      "needs_background": "light"
     },
     "output_type": "display_data"
    }
   ],
   "source": [
    "plt.figure(figsize = (20,8))\n",
    "sns.histplot(sub[\"state\"])\n",
    "plt.show()"
   ]
  },
  {
   "cell_type": "code",
   "execution_count": null,
   "id": "b64a27bd",
   "metadata": {
    "papermill": {
     "duration": 0.202779,
     "end_time": "2022-04-25T07:56:47.601806",
     "exception": false,
     "start_time": "2022-04-25T07:56:47.399027",
     "status": "completed"
    },
    "tags": []
   },
   "outputs": [],
   "source": []
  }
 ],
 "metadata": {
  "kernelspec": {
   "display_name": "Python 3",
   "language": "python",
   "name": "python3"
  },
  "language_info": {
   "codemirror_mode": {
    "name": "ipython",
    "version": 3
   },
   "file_extension": ".py",
   "mimetype": "text/x-python",
   "name": "python",
   "nbconvert_exporter": "python",
   "pygments_lexer": "ipython3",
   "version": "3.7.10"
  },
  "papermill": {
   "default_parameters": {},
   "duration": 2646.606114,
   "end_time": "2022-04-25T07:56:50.007349",
   "environment_variables": {},
   "exception": null,
   "input_path": "__notebook__.ipynb",
   "output_path": "__notebook__.ipynb",
   "parameters": {},
   "start_time": "2022-04-25T07:12:43.401235",
   "version": "2.3.3"
  }
 },
 "nbformat": 4,
 "nbformat_minor": 5
}
