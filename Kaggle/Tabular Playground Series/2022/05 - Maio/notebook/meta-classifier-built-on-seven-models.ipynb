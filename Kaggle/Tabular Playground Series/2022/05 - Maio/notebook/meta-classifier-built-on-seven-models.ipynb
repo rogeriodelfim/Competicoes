{
 "cells": [
  {
   "cell_type": "markdown",
   "id": "d43e9464",
   "metadata": {
    "papermill": {
     "duration": 0.032931,
     "end_time": "2022-05-24T10:35:45.938119",
     "exception": false,
     "start_time": "2022-05-24T10:35:45.905188",
     "status": "completed"
    },
    "tags": []
   },
   "source": [
    "<a id=\"1\"></a><h2></h2>\n",
    "<div style=\"background-color:rgba(0, 153, 0, 0.5);border-radius: 15px 50px;display:fill\">\n",
    "    <h1><center>1. Introduction</center></h1>\n",
    "</div>\n",
    "\n",
    "<div style=\"color:white;display:fill;border-radius:8px;\n",
    "            background-color:#DAA520;font-size:150%;\n",
    "            font-family:Nexa;letter-spacing:0.5px\">\n",
    "    <p style=\"padding: 8px;color:black;\"><b>1.1 | Goal</b></p>\n",
    "</div>\n",
    "\n",
    "Welcome to the May edition of the 2022 Tabular Playground Series! This month's challenge is a binary classification problem that includes a number of different feature interactions. This competition is an opportunity to explore various methods for identifying and exploiting these feature interactions. It wouldn't have been possible without the open-source contributions of other participants, in particular: <br>\n",
    "\n",
    "1) @wti200 work on feature interactions <br>\n",
    "2) @cabaxiom for idenfitying unique_characters feature <br>\n",
    "3) GM @ambrosm for three public notebooks which are main inspiration for this notebook <br>\n",
    "4) GM @sudalairajkumar for listing all the Feature Interactions <br>\n",
    "\n",
    "\n",
    "\n",
    "\n",
    "# The overview of the buidling of metaclassfier:\n",
    "\n",
    "<div class=\"alert alert-block alert-info\"> \n",
    "    The architecture of a meta learning model involves two or more base models, often referred to as level-0 models, and a meta-model that combines the predictions of the base models, referred to as a level-1 model.\n",
    "      Level-0 Models (Base-Models): Models fit on the training data and whose predictions are compiled.<br>\n",
    "      Level-1 Model (Meta-Model): Model that learns how to best combine the predictions of the base models. <br> \n",
    "      It worth noting that when the predictions from Level-0 classifiers are used as the inputs for the Level-1 classifier,extreme care care must be taken as it can lead to overfitting. The below figure represents framework of the meta learning. The Leve-0 models need to do prediction on all each single fold, and learn from every four folds from the full data.<br> \n",
    "    \n",
    "</div>\n",
    "\n",
    "\n",
    "<br>\n",
    "<img src= \"https://yanpuli.github.io/images/stacking.jpg\" alt =\"TPA MAY\" style='width: 800px;'>\n",
    "\n",
    "<a id=\"1\"></a><h2></h2>\n",
    "## <font color=\"#blue\">The structure of notebook.</font>\n",
    "### <a href='#1'>1. Introduction </a><br>\n",
    "### <a href='#2'>2. Load data and preprocessing</a><br>\n",
    "### <a href='#3'>3. Feature Engineering</a><br>\n",
    "### <a href='#4'>4. Neural network based prediction</a><br>\n",
    "### <a href='#5'>5. LGBM based prediction</a><br>\n",
    "### <a href='#6'>6. XGB based prediction</a><br>\n",
    "### <a href='#7'>7. HistGradient based prediction</a><br>\n",
    "### <a href='#8'>8. Catboost based prediction</a><br>\n",
    "### <a href='#9'>9. Adaboost based prediction</a><br>\n",
    "### <a href='#10'>10. Random Forest based prediction</a><br>\n",
    "### <a href='#11'>11. Meta classifiers- preprocessing</a><br>\n",
    "### <a href='#12'>12. Meta classifiers</a><br>\n",
    "### <a href='#13'>13. References</a><br>"
   ]
  },
  {
   "cell_type": "markdown",
   "id": "c3e7046f",
   "metadata": {
    "papermill": {
     "duration": 0.029996,
     "end_time": "2022-05-24T10:35:46.000431",
     "exception": false,
     "start_time": "2022-05-24T10:35:45.970435",
     "status": "completed"
    },
    "tags": []
   },
   "source": [
    "<a id=\"2\"></a><h2></h2>\n",
    "<div style=\"background-color:rgba(0, 153, 0, 0.5);border-radius: 15px 50px;display:fill\">\n",
    "    <h1><center>2. Loading the data </center></h1>\n",
    "</div>\n",
    "<div style=\"color:white;display:fill;border-radius:8px;\n",
    "            background-color:#DAA520;font-size:150%;\n",
    "            font-family:Nexa;letter-spacing:0.5px\">\n",
    "    <p style=\"padding: 8px;color:black;\"><b>2.1 | Train data</b></p>\n",
    "</div>"
   ]
  },
  {
   "cell_type": "code",
   "execution_count": 1,
   "id": "4f3c1660",
   "metadata": {
    "ExecuteTime": {
     "end_time": "2022-05-27T18:32:42.269821Z",
     "start_time": "2022-05-27T18:31:24.152008Z"
    },
    "_kg_hide-input": true,
    "_kg_hide-output": true,
    "execution": {
     "iopub.execute_input": "2022-05-24T10:35:46.085435Z",
     "iopub.status.busy": "2022-05-24T10:35:46.084298Z",
     "iopub.status.idle": "2022-05-24T10:35:56.642974Z",
     "shell.execute_reply": "2022-05-24T10:35:56.643485Z",
     "shell.execute_reply.started": "2022-05-24T10:14:27.638632Z"
    },
    "papermill": {
     "duration": 10.611093,
     "end_time": "2022-05-24T10:35:56.643813",
     "exception": false,
     "start_time": "2022-05-24T10:35:46.032720",
     "status": "completed"
    },
    "tags": []
   },
   "outputs": [
    {
     "data": {
      "text/html": [
       "        <script type=\"text/javascript\">\n",
       "        window.PlotlyConfig = {MathJaxConfig: 'local'};\n",
       "        if (window.MathJax) {MathJax.Hub.Config({SVG: {font: \"STIX-Web\"}});}\n",
       "        if (typeof require !== 'undefined') {\n",
       "        require.undef(\"plotly\");\n",
       "        requirejs.config({\n",
       "            paths: {\n",
       "                'plotly': ['https://cdn.plot.ly/plotly-2.4.2.min']\n",
       "            }\n",
       "        });\n",
       "        require(['plotly'], function(Plotly) {\n",
       "            window._Plotly = Plotly;\n",
       "        });\n",
       "        }\n",
       "        </script>\n",
       "        "
      ]
     },
     "metadata": {},
     "output_type": "display_data"
    }
   ],
   "source": [
    "import numpy as np\n",
    "import pandas as pd\n",
    "\n",
    "import matplotlib.pyplot as plt\n",
    "import seaborn as sns\n",
    "\n",
    "import matplotlib.style as style \n",
    "style.use('ggplot')\n",
    "import warnings\n",
    "warnings.filterwarnings('ignore')\n",
    "\n",
    "import plotly.offline as py \n",
    "from plotly.offline import init_notebook_mode, iplot\n",
    "py.init_notebook_mode(connected=True) # this code, allow us to work with offline plotly version\n",
    "import plotly.graph_objs as go # it's like \"plt\" of matplot\n",
    "\n",
    "\n",
    "\n",
    "cell_hover = {  # for row hover use <tr> instead of <td>\n",
    "    'selector': 'td:hover',\n",
    "    'props': [('background-color', '#ffffb3')]\n",
    "}\n",
    "index_names = {\n",
    "    'selector': '.index_name',\n",
    "    'props': 'font-style: italic; color: darkgrey; font-weight:normal;'\n",
    "}\n",
    "headers = {\n",
    "    'selector': 'th:not(.index_name)',\n",
    "    'props': 'background-color: #000000; color: white;'\n",
    "}\n",
    "from IPython.display import HTML\n",
    "pd.set_option('display.max_columns', None)\n",
    "import numpy as np\n",
    "import pandas as pd\n",
    "import matplotlib.pyplot as plt\n",
    "from matplotlib.ticker import MaxNLocator\n",
    "import seaborn as sns\n",
    "from cycler import cycler\n",
    "from IPython.display import display\n",
    "import datetime\n",
    "import scipy.stats\n",
    "import math\n",
    "import random\n",
    "\n",
    "from sklearn.model_selection import KFold\n",
    "from sklearn.metrics import roc_auc_score, roc_curve\n",
    "from sklearn.calibration import CalibrationDisplay\n",
    "from sklearn.preprocessing import StandardScaler\n",
    "\n",
    "import tensorflow as tf\n",
    "from tensorflow.keras.models import Model\n",
    "from tensorflow.keras.callbacks import ReduceLROnPlateau, LearningRateScheduler, EarlyStopping\n",
    "from tensorflow.keras.layers import Dense, Input, InputLayer, Add\n",
    "from tensorflow.keras.utils import plot_model\n",
    "\n",
    "plt.rcParams['axes.facecolor'] = '#0057b8' # blue\n",
    "plt.rcParams['axes.prop_cycle'] = cycler(color=['#ffd700'] +\n",
    "                                         plt.rcParams['axes.prop_cycle'].by_key()['color'][1:])\n",
    "import plotly.express as px\n",
    "import plotly.graph_objects as go\n",
    "import plotly.figure_factory as ff\n",
    "from plotly.subplots import make_subplots\n",
    "import matplotlib.pyplot as plt\n",
    "from colorama import Fore\n",
    "\n",
    "from pandas_profiling import ProfileReport\n",
    "import seaborn as sns\n",
    "from sklearn import metrics\n",
    "from scipy import stats\n",
    "import math\n",
    "\n",
    "from tqdm.notebook import tqdm\n",
    "from copy import deepcopy\n",
    "# Defining all our palette colours.\n",
    "primary_blue = \"#496595\"\n",
    "primary_blue2 = \"#85a1c1\"\n",
    "primary_blue3 = \"#3f4d63\"\n",
    "primary_grey = \"#c6ccd8\"\n",
    "primary_black = \"#202022\"\n",
    "primary_bgcolor = \"#f4f0ea\"\n",
    "\n",
    "primary_green = px.colors.qualitative.Plotly[2]\n",
    "\n",
    "plt.rcParams['axes.facecolor'] = primary_bgcolor"
   ]
  },
  {
   "cell_type": "code",
   "execution_count": 2,
   "id": "0e883046",
   "metadata": {
    "ExecuteTime": {
     "end_time": "2022-05-27T18:32:56.096405Z",
     "start_time": "2022-05-27T18:32:42.271589Z"
    },
    "execution": {
     "iopub.execute_input": "2022-05-24T10:35:56.708220Z",
     "iopub.status.busy": "2022-05-24T10:35:56.707698Z",
     "iopub.status.idle": "2022-05-24T10:36:09.430208Z",
     "shell.execute_reply": "2022-05-24T10:36:09.431043Z",
     "shell.execute_reply.started": "2022-05-24T10:14:27.813223Z"
    },
    "papermill": {
     "duration": 12.756013,
     "end_time": "2022-05-24T10:36:09.431322",
     "exception": false,
     "start_time": "2022-05-24T10:35:56.675309",
     "status": "completed"
    },
    "tags": []
   },
   "outputs": [
    {
     "data": {
      "text/html": [
       "<style type=\"text/css\">\n",
       "#T_32c91_ td:hover {\n",
       "  background-color: #ffffb3;\n",
       "}\n",
       "#T_32c91_ .index_name {\n",
       "  font-style: italic;\n",
       "  color: darkgrey;\n",
       "  font-weight: normal;\n",
       "}\n",
       "</style>\n",
       "<table id=\"T_32c91_\">\n",
       "  <thead>\n",
       "    <tr>\n",
       "      <th class=\"blank level0\" >&nbsp;</th>\n",
       "      <th class=\"col_heading level0 col0\" >id</th>\n",
       "      <th class=\"col_heading level0 col1\" >f_00</th>\n",
       "      <th class=\"col_heading level0 col2\" >f_01</th>\n",
       "      <th class=\"col_heading level0 col3\" >f_02</th>\n",
       "      <th class=\"col_heading level0 col4\" >f_03</th>\n",
       "      <th class=\"col_heading level0 col5\" >f_04</th>\n",
       "      <th class=\"col_heading level0 col6\" >f_05</th>\n",
       "      <th class=\"col_heading level0 col7\" >f_06</th>\n",
       "      <th class=\"col_heading level0 col8\" >f_07</th>\n",
       "      <th class=\"col_heading level0 col9\" >f_08</th>\n",
       "      <th class=\"col_heading level0 col10\" >f_09</th>\n",
       "      <th class=\"col_heading level0 col11\" >f_10</th>\n",
       "      <th class=\"col_heading level0 col12\" >f_11</th>\n",
       "      <th class=\"col_heading level0 col13\" >f_12</th>\n",
       "      <th class=\"col_heading level0 col14\" >f_13</th>\n",
       "      <th class=\"col_heading level0 col15\" >f_14</th>\n",
       "      <th class=\"col_heading level0 col16\" >f_15</th>\n",
       "      <th class=\"col_heading level0 col17\" >f_16</th>\n",
       "      <th class=\"col_heading level0 col18\" >f_17</th>\n",
       "      <th class=\"col_heading level0 col19\" >f_18</th>\n",
       "      <th class=\"col_heading level0 col20\" >f_19</th>\n",
       "      <th class=\"col_heading level0 col21\" >f_20</th>\n",
       "      <th class=\"col_heading level0 col22\" >f_21</th>\n",
       "      <th class=\"col_heading level0 col23\" >f_22</th>\n",
       "      <th class=\"col_heading level0 col24\" >f_23</th>\n",
       "      <th class=\"col_heading level0 col25\" >f_24</th>\n",
       "      <th class=\"col_heading level0 col26\" >f_25</th>\n",
       "      <th class=\"col_heading level0 col27\" >f_26</th>\n",
       "      <th class=\"col_heading level0 col28\" >f_27</th>\n",
       "      <th class=\"col_heading level0 col29\" >f_28</th>\n",
       "      <th class=\"col_heading level0 col30\" >f_29</th>\n",
       "      <th class=\"col_heading level0 col31\" >f_30</th>\n",
       "      <th class=\"col_heading level0 col32\" >target</th>\n",
       "    </tr>\n",
       "  </thead>\n",
       "  <tbody>\n",
       "    <tr>\n",
       "      <th id=\"T_32c91_level0_row0\" class=\"row_heading level0 row0\" >0</th>\n",
       "      <td id=\"T_32c91_row0_col0\" class=\"data row0 col0\" >0</td>\n",
       "      <td id=\"T_32c91_row0_col1\" class=\"data row0 col1\" >-1.373246</td>\n",
       "      <td id=\"T_32c91_row0_col2\" class=\"data row0 col2\" >0.238887</td>\n",
       "      <td id=\"T_32c91_row0_col3\" class=\"data row0 col3\" >-0.243376</td>\n",
       "      <td id=\"T_32c91_row0_col4\" class=\"data row0 col4\" >0.567405</td>\n",
       "      <td id=\"T_32c91_row0_col5\" class=\"data row0 col5\" >-0.647715</td>\n",
       "      <td id=\"T_32c91_row0_col6\" class=\"data row0 col6\" >0.839326</td>\n",
       "      <td id=\"T_32c91_row0_col7\" class=\"data row0 col7\" >0.113133</td>\n",
       "      <td id=\"T_32c91_row0_col8\" class=\"data row0 col8\" >1</td>\n",
       "      <td id=\"T_32c91_row0_col9\" class=\"data row0 col9\" >5</td>\n",
       "      <td id=\"T_32c91_row0_col10\" class=\"data row0 col10\" >1</td>\n",
       "      <td id=\"T_32c91_row0_col11\" class=\"data row0 col11\" >3</td>\n",
       "      <td id=\"T_32c91_row0_col12\" class=\"data row0 col12\" >3</td>\n",
       "      <td id=\"T_32c91_row0_col13\" class=\"data row0 col13\" >3</td>\n",
       "      <td id=\"T_32c91_row0_col14\" class=\"data row0 col14\" >1</td>\n",
       "      <td id=\"T_32c91_row0_col15\" class=\"data row0 col15\" >6</td>\n",
       "      <td id=\"T_32c91_row0_col16\" class=\"data row0 col16\" >1</td>\n",
       "      <td id=\"T_32c91_row0_col17\" class=\"data row0 col17\" >0</td>\n",
       "      <td id=\"T_32c91_row0_col18\" class=\"data row0 col18\" >7</td>\n",
       "      <td id=\"T_32c91_row0_col19\" class=\"data row0 col19\" >4</td>\n",
       "      <td id=\"T_32c91_row0_col20\" class=\"data row0 col20\" >0.298218</td>\n",
       "      <td id=\"T_32c91_row0_col21\" class=\"data row0 col21\" >-0.919717</td>\n",
       "      <td id=\"T_32c91_row0_col22\" class=\"data row0 col22\" >3.058541</td>\n",
       "      <td id=\"T_32c91_row0_col23\" class=\"data row0 col23\" >-2.540739</td>\n",
       "      <td id=\"T_32c91_row0_col24\" class=\"data row0 col24\" >0.766952</td>\n",
       "      <td id=\"T_32c91_row0_col25\" class=\"data row0 col25\" >-2.730628</td>\n",
       "      <td id=\"T_32c91_row0_col26\" class=\"data row0 col26\" >-0.208177</td>\n",
       "      <td id=\"T_32c91_row0_col27\" class=\"data row0 col27\" >1.363402</td>\n",
       "      <td id=\"T_32c91_row0_col28\" class=\"data row0 col28\" >ABABDADBAB</td>\n",
       "      <td id=\"T_32c91_row0_col29\" class=\"data row0 col29\" >67.609153</td>\n",
       "      <td id=\"T_32c91_row0_col30\" class=\"data row0 col30\" >0</td>\n",
       "      <td id=\"T_32c91_row0_col31\" class=\"data row0 col31\" >0</td>\n",
       "      <td id=\"T_32c91_row0_col32\" class=\"data row0 col32\" >0</td>\n",
       "    </tr>\n",
       "    <tr>\n",
       "      <th id=\"T_32c91_level0_row1\" class=\"row_heading level0 row1\" >1</th>\n",
       "      <td id=\"T_32c91_row1_col0\" class=\"data row1 col0\" >1</td>\n",
       "      <td id=\"T_32c91_row1_col1\" class=\"data row1 col1\" >1.697021</td>\n",
       "      <td id=\"T_32c91_row1_col2\" class=\"data row1 col2\" >-1.710322</td>\n",
       "      <td id=\"T_32c91_row1_col3\" class=\"data row1 col3\" >-2.230332</td>\n",
       "      <td id=\"T_32c91_row1_col4\" class=\"data row1 col4\" >-0.545661</td>\n",
       "      <td id=\"T_32c91_row1_col5\" class=\"data row1 col5\" >1.113173</td>\n",
       "      <td id=\"T_32c91_row1_col6\" class=\"data row1 col6\" >-1.552175</td>\n",
       "      <td id=\"T_32c91_row1_col7\" class=\"data row1 col7\" >0.447825</td>\n",
       "      <td id=\"T_32c91_row1_col8\" class=\"data row1 col8\" >1</td>\n",
       "      <td id=\"T_32c91_row1_col9\" class=\"data row1 col9\" >3</td>\n",
       "      <td id=\"T_32c91_row1_col10\" class=\"data row1 col10\" >4</td>\n",
       "      <td id=\"T_32c91_row1_col11\" class=\"data row1 col11\" >0</td>\n",
       "      <td id=\"T_32c91_row1_col12\" class=\"data row1 col12\" >2</td>\n",
       "      <td id=\"T_32c91_row1_col13\" class=\"data row1 col13\" >3</td>\n",
       "      <td id=\"T_32c91_row1_col14\" class=\"data row1 col14\" >0</td>\n",
       "      <td id=\"T_32c91_row1_col15\" class=\"data row1 col15\" >1</td>\n",
       "      <td id=\"T_32c91_row1_col16\" class=\"data row1 col16\" >0</td>\n",
       "      <td id=\"T_32c91_row1_col17\" class=\"data row1 col17\" >4</td>\n",
       "      <td id=\"T_32c91_row1_col18\" class=\"data row1 col18\" >6</td>\n",
       "      <td id=\"T_32c91_row1_col19\" class=\"data row1 col19\" >0</td>\n",
       "      <td id=\"T_32c91_row1_col20\" class=\"data row1 col20\" >-3.147667</td>\n",
       "      <td id=\"T_32c91_row1_col21\" class=\"data row1 col21\" >-1.075434</td>\n",
       "      <td id=\"T_32c91_row1_col22\" class=\"data row1 col22\" >2.179050</td>\n",
       "      <td id=\"T_32c91_row1_col23\" class=\"data row1 col23\" >2.278315</td>\n",
       "      <td id=\"T_32c91_row1_col24\" class=\"data row1 col24\" >-0.633658</td>\n",
       "      <td id=\"T_32c91_row1_col25\" class=\"data row1 col25\" >-1.217077</td>\n",
       "      <td id=\"T_32c91_row1_col26\" class=\"data row1 col26\" >-3.782194</td>\n",
       "      <td id=\"T_32c91_row1_col27\" class=\"data row1 col27\" >-0.058316</td>\n",
       "      <td id=\"T_32c91_row1_col28\" class=\"data row1 col28\" >ACACCADCEB</td>\n",
       "      <td id=\"T_32c91_row1_col29\" class=\"data row1 col29\" >377.096415</td>\n",
       "      <td id=\"T_32c91_row1_col30\" class=\"data row1 col30\" >0</td>\n",
       "      <td id=\"T_32c91_row1_col31\" class=\"data row1 col31\" >0</td>\n",
       "      <td id=\"T_32c91_row1_col32\" class=\"data row1 col32\" >1</td>\n",
       "    </tr>\n",
       "    <tr>\n",
       "      <th id=\"T_32c91_level0_row2\" class=\"row_heading level0 row2\" >2</th>\n",
       "      <td id=\"T_32c91_row2_col0\" class=\"data row2 col0\" >2</td>\n",
       "      <td id=\"T_32c91_row2_col1\" class=\"data row2 col1\" >1.681726</td>\n",
       "      <td id=\"T_32c91_row2_col2\" class=\"data row2 col2\" >0.616746</td>\n",
       "      <td id=\"T_32c91_row2_col3\" class=\"data row2 col3\" >-1.027689</td>\n",
       "      <td id=\"T_32c91_row2_col4\" class=\"data row2 col4\" >0.810492</td>\n",
       "      <td id=\"T_32c91_row2_col5\" class=\"data row2 col5\" >-0.609086</td>\n",
       "      <td id=\"T_32c91_row2_col6\" class=\"data row2 col6\" >0.113965</td>\n",
       "      <td id=\"T_32c91_row2_col7\" class=\"data row2 col7\" >-0.708660</td>\n",
       "      <td id=\"T_32c91_row2_col8\" class=\"data row2 col8\" >1</td>\n",
       "      <td id=\"T_32c91_row2_col9\" class=\"data row2 col9\" >0</td>\n",
       "      <td id=\"T_32c91_row2_col10\" class=\"data row2 col10\" >2</td>\n",
       "      <td id=\"T_32c91_row2_col11\" class=\"data row2 col11\" >6</td>\n",
       "      <td id=\"T_32c91_row2_col12\" class=\"data row2 col12\" >6</td>\n",
       "      <td id=\"T_32c91_row2_col13\" class=\"data row2 col13\" >4</td>\n",
       "      <td id=\"T_32c91_row2_col14\" class=\"data row2 col14\" >3</td>\n",
       "      <td id=\"T_32c91_row2_col15\" class=\"data row2 col15\" >1</td>\n",
       "      <td id=\"T_32c91_row2_col16\" class=\"data row2 col16\" >2</td>\n",
       "      <td id=\"T_32c91_row2_col17\" class=\"data row2 col17\" >2</td>\n",
       "      <td id=\"T_32c91_row2_col18\" class=\"data row2 col18\" >1</td>\n",
       "      <td id=\"T_32c91_row2_col19\" class=\"data row2 col19\" >4</td>\n",
       "      <td id=\"T_32c91_row2_col20\" class=\"data row2 col20\" >2.820733</td>\n",
       "      <td id=\"T_32c91_row2_col21\" class=\"data row2 col21\" >-3.485342</td>\n",
       "      <td id=\"T_32c91_row2_col22\" class=\"data row2 col22\" >-0.784235</td>\n",
       "      <td id=\"T_32c91_row2_col23\" class=\"data row2 col23\" >-1.385775</td>\n",
       "      <td id=\"T_32c91_row2_col24\" class=\"data row2 col24\" >-0.520558</td>\n",
       "      <td id=\"T_32c91_row2_col25\" class=\"data row2 col25\" >-0.009121</td>\n",
       "      <td id=\"T_32c91_row2_col26\" class=\"data row2 col26\" >2.788536</td>\n",
       "      <td id=\"T_32c91_row2_col27\" class=\"data row2 col27\" >-3.703488</td>\n",
       "      <td id=\"T_32c91_row2_col28\" class=\"data row2 col28\" >AAAEABCKAD</td>\n",
       "      <td id=\"T_32c91_row2_col29\" class=\"data row2 col29\" >-195.599702</td>\n",
       "      <td id=\"T_32c91_row2_col30\" class=\"data row2 col30\" >0</td>\n",
       "      <td id=\"T_32c91_row2_col31\" class=\"data row2 col31\" >2</td>\n",
       "      <td id=\"T_32c91_row2_col32\" class=\"data row2 col32\" >1</td>\n",
       "    </tr>\n",
       "    <tr>\n",
       "      <th id=\"T_32c91_level0_row3\" class=\"row_heading level0 row3\" >3</th>\n",
       "      <td id=\"T_32c91_row3_col0\" class=\"data row3 col0\" >3</td>\n",
       "      <td id=\"T_32c91_row3_col1\" class=\"data row3 col1\" >-0.118172</td>\n",
       "      <td id=\"T_32c91_row3_col2\" class=\"data row3 col2\" >-0.587835</td>\n",
       "      <td id=\"T_32c91_row3_col3\" class=\"data row3 col3\" >-0.804638</td>\n",
       "      <td id=\"T_32c91_row3_col4\" class=\"data row3 col4\" >2.086822</td>\n",
       "      <td id=\"T_32c91_row3_col5\" class=\"data row3 col5\" >0.371005</td>\n",
       "      <td id=\"T_32c91_row3_col6\" class=\"data row3 col6\" >-0.128831</td>\n",
       "      <td id=\"T_32c91_row3_col7\" class=\"data row3 col7\" >-0.282575</td>\n",
       "      <td id=\"T_32c91_row3_col8\" class=\"data row3 col8\" >3</td>\n",
       "      <td id=\"T_32c91_row3_col9\" class=\"data row3 col9\" >2</td>\n",
       "      <td id=\"T_32c91_row3_col10\" class=\"data row3 col10\" >1</td>\n",
       "      <td id=\"T_32c91_row3_col11\" class=\"data row3 col11\" >0</td>\n",
       "      <td id=\"T_32c91_row3_col12\" class=\"data row3 col12\" >1</td>\n",
       "      <td id=\"T_32c91_row3_col13\" class=\"data row3 col13\" >6</td>\n",
       "      <td id=\"T_32c91_row3_col14\" class=\"data row3 col14\" >4</td>\n",
       "      <td id=\"T_32c91_row3_col15\" class=\"data row3 col15\" >2</td>\n",
       "      <td id=\"T_32c91_row3_col16\" class=\"data row3 col16\" >3</td>\n",
       "      <td id=\"T_32c91_row3_col17\" class=\"data row3 col17\" >3</td>\n",
       "      <td id=\"T_32c91_row3_col18\" class=\"data row3 col18\" >0</td>\n",
       "      <td id=\"T_32c91_row3_col19\" class=\"data row3 col19\" >3</td>\n",
       "      <td id=\"T_32c91_row3_col20\" class=\"data row3 col20\" >1.081084</td>\n",
       "      <td id=\"T_32c91_row3_col21\" class=\"data row3 col21\" >-2.100177</td>\n",
       "      <td id=\"T_32c91_row3_col22\" class=\"data row3 col22\" >-2.343819</td>\n",
       "      <td id=\"T_32c91_row3_col23\" class=\"data row3 col23\" >0.572594</td>\n",
       "      <td id=\"T_32c91_row3_col24\" class=\"data row3 col24\" >-1.653213</td>\n",
       "      <td id=\"T_32c91_row3_col25\" class=\"data row3 col25\" >1.686035</td>\n",
       "      <td id=\"T_32c91_row3_col26\" class=\"data row3 col26\" >-2.533098</td>\n",
       "      <td id=\"T_32c91_row3_col27\" class=\"data row3 col27\" >-0.608601</td>\n",
       "      <td id=\"T_32c91_row3_col28\" class=\"data row3 col28\" >BDBBAACBCB</td>\n",
       "      <td id=\"T_32c91_row3_col29\" class=\"data row3 col29\" >210.826205</td>\n",
       "      <td id=\"T_32c91_row3_col30\" class=\"data row3 col30\" >0</td>\n",
       "      <td id=\"T_32c91_row3_col31\" class=\"data row3 col31\" >0</td>\n",
       "      <td id=\"T_32c91_row3_col32\" class=\"data row3 col32\" >1</td>\n",
       "    </tr>\n",
       "    <tr>\n",
       "      <th id=\"T_32c91_level0_row4\" class=\"row_heading level0 row4\" >4</th>\n",
       "      <td id=\"T_32c91_row4_col0\" class=\"data row4 col0\" >4</td>\n",
       "      <td id=\"T_32c91_row4_col1\" class=\"data row4 col1\" >1.148481</td>\n",
       "      <td id=\"T_32c91_row4_col2\" class=\"data row4 col2\" >-0.176567</td>\n",
       "      <td id=\"T_32c91_row4_col3\" class=\"data row4 col3\" >-0.664871</td>\n",
       "      <td id=\"T_32c91_row4_col4\" class=\"data row4 col4\" >-1.101343</td>\n",
       "      <td id=\"T_32c91_row4_col5\" class=\"data row4 col5\" >0.467875</td>\n",
       "      <td id=\"T_32c91_row4_col6\" class=\"data row4 col6\" >0.500117</td>\n",
       "      <td id=\"T_32c91_row4_col7\" class=\"data row4 col7\" >0.407515</td>\n",
       "      <td id=\"T_32c91_row4_col8\" class=\"data row4 col8\" >3</td>\n",
       "      <td id=\"T_32c91_row4_col9\" class=\"data row4 col9\" >3</td>\n",
       "      <td id=\"T_32c91_row4_col10\" class=\"data row4 col10\" >0</td>\n",
       "      <td id=\"T_32c91_row4_col11\" class=\"data row4 col11\" >4</td>\n",
       "      <td id=\"T_32c91_row4_col12\" class=\"data row4 col12\" >3</td>\n",
       "      <td id=\"T_32c91_row4_col13\" class=\"data row4 col13\" >0</td>\n",
       "      <td id=\"T_32c91_row4_col14\" class=\"data row4 col14\" >6</td>\n",
       "      <td id=\"T_32c91_row4_col15\" class=\"data row4 col15\" >0</td>\n",
       "      <td id=\"T_32c91_row4_col16\" class=\"data row4 col16\" >3</td>\n",
       "      <td id=\"T_32c91_row4_col17\" class=\"data row4 col17\" >3</td>\n",
       "      <td id=\"T_32c91_row4_col18\" class=\"data row4 col18\" >1</td>\n",
       "      <td id=\"T_32c91_row4_col19\" class=\"data row4 col19\" >0</td>\n",
       "      <td id=\"T_32c91_row4_col20\" class=\"data row4 col20\" >-0.126179</td>\n",
       "      <td id=\"T_32c91_row4_col21\" class=\"data row4 col21\" >0.605033</td>\n",
       "      <td id=\"T_32c91_row4_col22\" class=\"data row4 col22\" >1.133665</td>\n",
       "      <td id=\"T_32c91_row4_col23\" class=\"data row4 col23\" >-3.912929</td>\n",
       "      <td id=\"T_32c91_row4_col24\" class=\"data row4 col24\" >-1.430366</td>\n",
       "      <td id=\"T_32c91_row4_col25\" class=\"data row4 col25\" >2.127649</td>\n",
       "      <td id=\"T_32c91_row4_col26\" class=\"data row4 col26\" >-3.306784</td>\n",
       "      <td id=\"T_32c91_row4_col27\" class=\"data row4 col27\" >4.371371</td>\n",
       "      <td id=\"T_32c91_row4_col28\" class=\"data row4 col28\" >BDBCBBCHFE</td>\n",
       "      <td id=\"T_32c91_row4_col29\" class=\"data row4 col29\" >-217.211798</td>\n",
       "      <td id=\"T_32c91_row4_col30\" class=\"data row4 col30\" >0</td>\n",
       "      <td id=\"T_32c91_row4_col31\" class=\"data row4 col31\" >1</td>\n",
       "      <td id=\"T_32c91_row4_col32\" class=\"data row4 col32\" >1</td>\n",
       "    </tr>\n",
       "  </tbody>\n",
       "</table>\n"
      ],
      "text/plain": [
       "<pandas.io.formats.style.Styler at 0x2c5e8c46fa0>"
      ]
     },
     "execution_count": 2,
     "metadata": {},
     "output_type": "execute_result"
    }
   ],
   "source": [
    "train = pd.read_csv('Data/train.csv')\n",
    "test = pd.read_csv('Data/test.csv')\n",
    "s=train.head()\n",
    "s.style.set_table_styles([cell_hover, index_names])"
   ]
  },
  {
   "cell_type": "markdown",
   "id": "27243286",
   "metadata": {
    "papermill": {
     "duration": 0.062561,
     "end_time": "2022-05-24T10:36:09.551814",
     "exception": false,
     "start_time": "2022-05-24T10:36:09.489253",
     "status": "completed"
    },
    "tags": []
   },
   "source": [
    "<a id=\"3\"></a><h2></h2>\n",
    "<div style=\"color:white;display:fill;border-radius:8px;\n",
    "            background-color:#DAA520;font-size:150%;\n",
    "            font-family:Nexa;letter-spacing:0.5px\">\n",
    "    <p style=\"padding: 8px;color:black;\"><b>2.2 | Feature Engineering</b></p>\n",
    "</div>\n",
    "Este modelo abaixo é uma versão modificada dos cadernos públicos da @ambrosm. Considere votar a favor do trabalho original. <br>\n",
    "Dois recursos adicionais são introduzidos (interação de recursos entre f_00, f_01 com f_26 ) <br>"
   ]
  },
  {
   "cell_type": "code",
   "execution_count": 3,
   "id": "0de93929",
   "metadata": {
    "ExecuteTime": {
     "end_time": "2022-05-27T18:33:20.938544Z",
     "start_time": "2022-05-27T18:33:00.729524Z"
    },
    "execution": {
     "iopub.execute_input": "2022-05-24T10:36:09.663126Z",
     "iopub.status.busy": "2022-05-24T10:36:09.662222Z",
     "iopub.status.idle": "2022-05-24T10:36:38.042776Z",
     "shell.execute_reply": "2022-05-24T10:36:38.043230Z",
     "shell.execute_reply.started": "2022-05-24T10:14:39.387191Z"
    },
    "papermill": {
     "duration": 28.443842,
     "end_time": "2022-05-24T10:36:38.043394",
     "exception": false,
     "start_time": "2022-05-24T10:36:09.599552",
     "status": "completed"
    },
    "tags": []
   },
   "outputs": [],
   "source": [
    "features = [f for f in test.columns if f != 'id' and f != 'f_27']\n",
    "float_features = [f for f in features if test[f].dtype == float]\n",
    "for df in [train, test]:\n",
    "    # Extract the 10 letters of f_27 into individual features\n",
    "    for i in range(10):\n",
    "        df[f'ch{i}'] = df.f_27.str.get(i).apply(ord) - ord('A')\n",
    "        \n",
    "    # unique_characters feature is from https://www.kaggle.com/code/cabaxiom/tps-may-22-eda-lgbm-model\n",
    "    df[\"unique_characters\"] = df.f_27.apply(lambda s: len(set(s)))\n",
    "    \n",
    "    # Feature interactions: create three ternary features\n",
    "    # Every ternary feature can have the values -1, 0 and +1\n",
    "    df['i_02_21'] = (df.f_21 + df.f_02 > 5.2).astype(int) - (df.f_21 + df.f_02 < -5.3).astype(int)\n",
    "    df['i_05_22'] = (df.f_22 + df.f_05 > 5.1).astype(int) - (df.f_22 + df.f_05 < -5.4).astype(int)\n",
    "    df['i_00_26'] = (df.f_00 + df.f_26 > 5.1).astype(int) - (df.f_00 + df.f_26 < -5.4).astype(int)  #addtional feature\n",
    "    df['i_01_26'] = (df.f_01 + df.f_26 > 5.1).astype(int) - (df.f_01 + df.f_26 < -5.4).astype(int)  #addtional feature\n",
    "    i_00_01_26 = df.f_00 + df.f_01 + df.f_26\n",
    "    df['i_00_01_26'] = (i_00_01_26 > 5.0).astype(int) - (i_00_01_26 < -5.0).astype(int)\n",
    "    \n",
    "features = [f for f in test.columns if f != 'id' and f != 'f_27']\n",
    "float_features = [f for f in features if test[f].dtype == float]\n",
    "int_features = [f for f in features if test[f].dtype == int and f.startswith('f')]\n",
    "ch_features = [f for f in features if f.startswith('ch')]\n",
    "# test[features].head(2)\n",
    "corr = train.corr().abs()\n",
    "mask = np.triu(np.ones_like(corr, dtype=np.bool))\n",
    "\n",
    "fig, ax = plt.subplots(figsize=(90, 50), facecolor=primary_bgcolor)\n",
    "# ax.text(-1.1, 0.16, 'Correlation between the Continuous Features', fontsize=10, fontweight='bold', fontfamily='serif')\n",
    "ax.text(-1.1, 0.3, 'There is no features that pass more than 0.32 correlation within each other', fontsize=13, fontweight='light', fontfamily='serif')\n",
    "\n",
    "\n",
    "# plot heatmap\n",
    "res=sns.heatmap(corr, mask=mask, annot=True, fmt=\".2f\", cmap='coolwarm',annot_kws={\"size\": 25},\n",
    "            cbar_kws={\"shrink\": .2}, vmin=0, vmax=1)\n",
    "res.set_xticklabels(res.get_xmajorticklabels(), fontsize = 28)\n",
    "res.set_yticklabels(res.get_ymajorticklabels(), fontsize = 28)\n",
    "# yticks\n",
    "plt.yticks(rotation=0)\n",
    "plt.show()"
   ]
  },
  {
   "cell_type": "markdown",
   "id": "b272e018",
   "metadata": {
    "papermill": {
     "duration": 0.058624,
     "end_time": "2022-05-24T10:36:38.161807",
     "exception": false,
     "start_time": "2022-05-24T10:36:38.103183",
     "status": "completed"
    },
    "tags": []
   },
   "source": [
    "\n",
    "<div class=\"alert alert-block alert-info\"> 📌 \n",
    "   Ótimas notícias, pois podemos ver na figura acima que dois novos recursos que foram introduzidos neste notebook i_00_26 e i_01_26 estão mostrando uma boa correlação com o Target. Vamos usá-los  \n",
    "\n",
    "</div>"
   ]
  },
  {
   "cell_type": "code",
   "execution_count": 4,
   "id": "0cf75bc9",
   "metadata": {
    "ExecuteTime": {
     "end_time": "2022-05-27T18:34:34.914706Z",
     "start_time": "2022-05-27T18:34:27.006672Z"
    },
    "execution": {
     "iopub.execute_input": "2022-05-24T10:36:38.283576Z",
     "iopub.status.busy": "2022-05-24T10:36:38.282572Z",
     "iopub.status.idle": "2022-05-24T10:36:47.065896Z",
     "shell.execute_reply": "2022-05-24T10:36:47.065385Z",
     "shell.execute_reply.started": "2022-05-24T10:15:12.884669Z"
    },
    "papermill": {
     "duration": 8.846153,
     "end_time": "2022-05-24T10:36:47.066024",
     "exception": false,
     "start_time": "2022-05-24T10:36:38.219871",
     "status": "completed"
    },
    "tags": []
   },
   "outputs": [],
   "source": [
    "# Notou-se que além de vários recursos extraídos no f_27, pela codificação do rótulo do F_27 os resultados são ligeiramente melhorados.\n",
    "# existem vários rótulos exclusivos observados na coluna f_27 do conjunto de dados de teste. Portanto, os dados de treinamento e teste são mesclados para codificação de rótulo.\n",
    "rom sklearn.preprocessing import LabelEncoder\n",
    "le = LabelEncoder()\n",
    "\n",
    "temp_df =(pd.concat([train.f_27, test.f_27],ignore_index=True)).to_frame() # dataframe co\n",
    "\n",
    "temp_df['f_27']  = le.fit_transform(temp_df['f_27'])\n",
    "test['f_27']     = le.transform(test['f_27'])\n",
    "train['f_27']    = le.transform(train['f_27'])"
   ]
  },
  {
   "cell_type": "markdown",
   "id": "ca174d8e",
   "metadata": {
    "papermill": {
     "duration": 0.053967,
     "end_time": "2022-05-24T10:36:47.172666",
     "exception": false,
     "start_time": "2022-05-24T10:36:47.118699",
     "status": "completed"
    },
    "tags": []
   },
   "source": [
    "<a id=\"4\"></a><h2></h2>\n",
    "<div style=\"background-color:rgba(0, 153, 0, 0.5);border-radius: 15px 50px;display:fill\">\n",
    "    <h1><center>3. Modeling </center></h1>\n",
    "</div>\n",
    "\n",
    "<br>\n",
    "<div style=\"color:white;display:fill;border-radius:8px;\n",
    "            background-color:#DAA520;font-size:150%;\n",
    "            font-family:Nexa;letter-spacing:0.5px\">\n",
    "    <p style=\"padding: 8px;color:black;\"><b>3.1 | Neural network based prediction</b></p>\n",
    "</div>\n",
    "This below model is modified version of public notebooks of @ambrosm. Consider upvoting the original work. The main differnce is number of Epchos and features <br>"
   ]
  },
  {
   "cell_type": "code",
   "execution_count": 5,
   "id": "ad0fa7a8",
   "metadata": {
    "ExecuteTime": {
     "end_time": "2022-05-27T18:36:41.514881Z",
     "start_time": "2022-05-27T18:36:34.189492Z"
    },
    "_kg_hide-input": true,
    "_kg_hide-output": true,
    "execution": {
     "iopub.execute_input": "2022-05-24T10:36:47.288908Z",
     "iopub.status.busy": "2022-05-24T10:36:47.288359Z",
     "iopub.status.idle": "2022-05-24T10:36:50.865260Z",
     "shell.execute_reply": "2022-05-24T10:36:50.865743Z",
     "shell.execute_reply.started": "2022-05-24T10:15:25.737456Z"
    },
    "papermill": {
     "duration": 3.638423,
     "end_time": "2022-05-24T10:36:50.865892",
     "exception": false,
     "start_time": "2022-05-24T10:36:47.227469",
     "status": "completed"
    },
    "tags": []
   },
   "outputs": [
    {
     "name": "stdout",
     "output_type": "stream",
     "text": [
      "('You must install pydot (`pip install pydot`) and install graphviz (see instructions at https://graphviz.gitlab.io/download/) ', 'for plot_model/model_to_dot to work.')\n"
     ]
    }
   ],
   "source": [
    "def my_model():\n",
    "    \"\"\"Simple sequential neural network with four hidden layers.\n",
    "    \n",
    "    Returns a (not yet compiled) instance of tensorflow.keras.models.Model.\n",
    "    \"\"\"\n",
    "    activation = 'swish'\n",
    "    inputs = Input(shape=(len(features)))\n",
    "    x = Dense(64, kernel_regularizer=tf.keras.regularizers.l2(40e-6),\n",
    "              activation=activation,\n",
    "             )(inputs)\n",
    "    x = Dense(64, kernel_regularizer=tf.keras.regularizers.l2(40e-6),\n",
    "              activation=activation,\n",
    "             )(x)\n",
    "    x = Dense(64, kernel_regularizer=tf.keras.regularizers.l2(40e-6),\n",
    "              activation=activation,\n",
    "             )(x)\n",
    "    x = Dense(16, kernel_regularizer=tf.keras.regularizers.l2(40e-6),\n",
    "              activation=activation,\n",
    "             )(x)\n",
    "    x = Dense(1, #kernel_regularizer=tf.keras.regularizers.l2(1e-6),\n",
    "              activation='sigmoid',\n",
    "             )(x)\n",
    "    model = Model(inputs, x)\n",
    "    return model\n",
    "\n",
    "plot_model(my_model(), show_layer_names=False, show_shapes=True)"
   ]
  },
  {
   "cell_type": "code",
   "execution_count": 6,
   "id": "7b7d94e5",
   "metadata": {
    "_kg_hide-input": true,
    "_kg_hide-output": true,
    "execution": {
     "iopub.execute_input": "2022-05-24T10:36:50.996967Z",
     "iopub.status.busy": "2022-05-24T10:36:50.995999Z",
     "iopub.status.idle": "2022-05-24T10:55:46.555544Z",
     "shell.execute_reply": "2022-05-24T10:55:46.556284Z",
     "shell.execute_reply.started": "2022-05-24T10:15:26.043363Z"
    },
    "papermill": {
     "duration": 1135.636354,
     "end_time": "2022-05-24T10:55:46.556520",
     "exception": false,
     "start_time": "2022-05-24T10:36:50.920166",
     "status": "completed"
    },
    "tags": []
   },
   "outputs": [
    {
     "name": "stdout",
     "output_type": "stream",
     "text": [
      "47 features\n"
     ]
    },
    {
     "name": "stderr",
     "output_type": "stream",
     "text": [
      "2022-05-24 10:36:52.630737: I tensorflow/compiler/mlir/mlir_graph_optimization_pass.cc:185] None of the MLIR Optimization Passes are enabled (registered 2)\n"
     ]
    },
    {
     "name": "stdout",
     "output_type": "stream",
     "text": [
      "Fold 0.0 | 04:24 | Training loss: 0.0593 | Val loss: 0.0668 | AUC: 0.99799\n",
      "Fold 0.1 | 03:37 | Training loss: 0.0592 | Val loss: 0.0670 | AUC: 0.99800\n",
      "Fold 0.2 | 03:39 | Training loss: 0.0591 | Val loss: 0.0676 | AUC: 0.99797\n",
      "Fold 0.3 | 03:37 | Training loss: 0.0590 | Val loss: 0.0662 | AUC: 0.99803\n",
      "Fold 0.4 | 03:35 | Training loss: 0.0595 | Val loss: 0.0666 | AUC: 0.99800\n",
      "OOF AUC:                       0.99800\n"
     ]
    }
   ],
   "source": [
    "EPOCHS = 500\n",
    "EPOCHS_COSINEDECAY = 150\n",
    "CYCLES = 1\n",
    "VERBOSE = 0 # set to 0 for less output, or to 2 for more output\n",
    "DIAGRAMS = True\n",
    "USE_PLATEAU = False\n",
    "BATCH_SIZE = 2048\n",
    "ONLY_FIRST_FOLD = False\n",
    "\n",
    "# see https://keras.io/getting_started/faq/#how-can-i-obtain-reproducible-results-using-keras-during-development\n",
    "np.random.seed(1)\n",
    "random.seed(1)\n",
    "tf.random.set_seed(1)\n",
    "features = [f for f in test.columns if f != 'id']\n",
    "def fit_model(X_tr, y_tr, X_va=None, y_va=None, run=0):\n",
    "    \"\"\"Scale the data, fit a model, plot the training history and optionally validate the model\n",
    "    \n",
    "    Returns a trained instance of tensorflow.keras.models.Model.\n",
    "    \n",
    "    As a side effect, updates y_va_pred, history_list and score_list.\n",
    "    \"\"\"\n",
    "    global y_va_pred\n",
    "    start_time = datetime.datetime.now()\n",
    "    \n",
    "    scaler = StandardScaler()\n",
    "    X_tr = scaler.fit_transform(X_tr)\n",
    "    \n",
    "    if X_va is not None:\n",
    "        X_va = scaler.transform(X_va)\n",
    "        validation_data = (X_va, y_va)\n",
    "    else:\n",
    "        validation_data = None\n",
    "\n",
    "    # Define the learning rate schedule and EarlyStopping\n",
    "    lr_start=0.01\n",
    "    if USE_PLATEAU and X_va is not None: # use early stopping\n",
    "        epochs = EPOCHS\n",
    "        lr = ReduceLROnPlateau(monitor=\"val_loss\", factor=0.7, \n",
    "                               patience=4, verbose=VERBOSE)\n",
    "        es = EarlyStopping(monitor=\"val_loss\",\n",
    "                           patience=12, \n",
    "                           verbose=1,\n",
    "                           mode=\"min\", \n",
    "                           restore_best_weights=True)\n",
    "        callbacks = [lr, es, tf.keras.callbacks.TerminateOnNaN()]\n",
    "\n",
    "    else: # use cosine learning rate decay rather than early stopping\n",
    "        epochs = EPOCHS_COSINEDECAY\n",
    "        lr_end = 0.0002\n",
    "        def cosine_decay(epoch):\n",
    "            # w decays from 1 to 0 in every cycle\n",
    "            # epoch == 0                  -> w = 1 (first epoch of cycle)\n",
    "            # epoch == epochs_per_cycle-1 -> w = 0 (last epoch of cycle)\n",
    "            epochs_per_cycle = epochs // CYCLES\n",
    "            epoch_in_cycle = epoch % epochs_per_cycle\n",
    "            if epochs_per_cycle > 1:\n",
    "                w = (1 + math.cos(epoch_in_cycle / (epochs_per_cycle-1) * math.pi)) / 2\n",
    "            else:\n",
    "                w = 1\n",
    "            return w * lr_start + (1 - w) * lr_end\n",
    "\n",
    "        lr = LearningRateScheduler(cosine_decay, verbose=0)\n",
    "        callbacks = [lr, tf.keras.callbacks.TerminateOnNaN()]\n",
    "        \n",
    "    # Construct and compile the model\n",
    "    model = my_model()\n",
    "    model.compile(optimizer=tf.keras.optimizers.Adam(learning_rate=lr_start),\n",
    "                  metrics='AUC',\n",
    "                  loss=tf.keras.losses.BinaryCrossentropy())\n",
    "\n",
    "    # Train the model\n",
    "    history = model.fit(X_tr, y_tr, \n",
    "                        validation_data=validation_data, \n",
    "                        epochs=epochs,\n",
    "                        verbose=VERBOSE,\n",
    "                        batch_size=BATCH_SIZE,\n",
    "                        shuffle=True,\n",
    "                        callbacks=callbacks)\n",
    "\n",
    "    history_list.append(history.history)\n",
    "    callbacks, es, lr, history = None, None, None, None\n",
    "    \n",
    "    if X_va is None:\n",
    "        print(f\"Training loss: {history_list[-1]['loss'][-1]:.4f}\")\n",
    "    else:\n",
    "        lastloss = f\"Training loss: {history_list[-1]['loss'][-1]:.4f} | Val loss: {history_list[-1]['val_loss'][-1]:.4f}\"\n",
    "        \n",
    "        # Inference for validation\n",
    "        y_va_pred = model.predict(X_va, batch_size=len(X_va), verbose=0)\n",
    "        #oof_list[run][val_idx] = y_va_pred\n",
    "        \n",
    "        # Evaluation: Execution time, loss and AUC\n",
    "        score = roc_auc_score(y_va, y_va_pred)\n",
    "        print(f\"Fold {run}.{fold} | {str(datetime.datetime.now() - start_time)[-12:-7]}\"\n",
    "              f\" | {lastloss} | AUC: {score:.5f}\")\n",
    "        score_list.append(score)\n",
    "    return model, scaler\n",
    "\n",
    "\n",
    "print(f\"{len(features)} features\")\n",
    "history_list = []\n",
    "score_list = []\n",
    "kf = KFold(n_splits=5)\n",
    "for fold, (idx_tr, idx_va) in enumerate(kf.split(train)):\n",
    "    X_tr = train.iloc[idx_tr][features]\n",
    "    X_va = train.iloc[idx_va][features]\n",
    "    y_tr = train.iloc[idx_tr].target\n",
    "    y_va = train.iloc[idx_va].target\n",
    "    \n",
    "    fit_model(X_tr, y_tr, X_va, y_va)\n",
    "    if ONLY_FIRST_FOLD: break # we only need the first fold\n",
    "\n",
    "print(f\"OOF AUC:                       {np.mean(score_list):.5f}\")"
   ]
  },
  {
   "cell_type": "code",
   "execution_count": 7,
   "id": "016dc95c",
   "metadata": {
    "execution": {
     "iopub.execute_input": "2022-05-24T10:55:46.752123Z",
     "iopub.status.busy": "2022-05-24T10:55:46.751357Z",
     "iopub.status.idle": "2022-05-24T11:35:03.715229Z",
     "shell.execute_reply": "2022-05-24T11:35:03.714731Z",
     "shell.execute_reply.started": "2022-05-24T10:16:08.122565Z"
    },
    "papermill": {
     "duration": 2357.065739,
     "end_time": "2022-05-24T11:35:03.715362",
     "exception": false,
     "start_time": "2022-05-24T10:55:46.649623",
     "status": "completed"
    },
    "tags": []
   },
   "outputs": [
    {
     "name": "stdout",
     "output_type": "stream",
     "text": [
      "47 features\n",
      " 0\n",
      "Training loss: 0.0604\n",
      " 1\n",
      "Training loss: 0.0599\n",
      " 2\n",
      "Training loss: 0.0597\n",
      " 3\n",
      "Training loss: 0.0598\n",
      " 4\n",
      "Training loss: 0.0597\n",
      " 5\n",
      "Training loss: 0.0603\n",
      " 6\n",
      "Training loss: 0.0596\n",
      " 7\n",
      "Training loss: 0.0602\n",
      " 8\n",
      "Training loss: 0.0597\n",
      " 9\n",
      "Training loss: 0.0597\n",
      "CPU times: user 51min 38s, sys: 4min 54s, total: 56min 33s\n",
      "Wall time: 39min 16s\n"
     ]
    }
   ],
   "source": [
    "%%time\n",
    "print(f\"{len(features)} features\")\n",
    "\n",
    "X_tr = train[features]\n",
    "y_tr = train.target\n",
    "\n",
    "predtest_list_cnn = []\n",
    "predtrain_list_cnn=[]\n",
    "for seed in range(10):\n",
    "    # see https://keras.io/getting_started/faq/#how-can-i-obtain-reproducible-results-using-keras-during-development\n",
    "    print(f\"{seed:2}\")\n",
    "    np.random.seed(seed)\n",
    "    random.seed(seed)\n",
    "    tf.random.set_seed(seed)\n",
    "    model, scaler = fit_model(X_tr, y_tr, run=seed)\n",
    "    predtest_list_cnn.append(model.predict(scaler.transform(test[features]),batch_size=BATCH_SIZE, verbose=VERBOSE))\n",
    "    predtrain_list_cnn.append(model.predict(scaler.transform(train[features]),batch_size=BATCH_SIZE, verbose=VERBOSE))  "
   ]
  },
  {
   "cell_type": "markdown",
   "id": "5a2d2c53",
   "metadata": {
    "papermill": {
     "duration": 0.07135,
     "end_time": "2022-05-24T11:35:03.859310",
     "exception": false,
     "start_time": "2022-05-24T11:35:03.787960",
     "status": "completed"
    },
    "tags": []
   },
   "source": [
    "<a id=\"5\"></a><h2></h2>\n",
    "<div style=\"color:white;display:fill;border-radius:8px;\n",
    "            background-color:#DAA520;font-size:150%;\n",
    "            font-family:Nexa;letter-spacing:0.5px\">\n",
    "    <p style=\"padding: 8px;color:black;\"><b>3.2 |  LGBM based prediction</b></p>\n",
    "</div>"
   ]
  },
  {
   "cell_type": "code",
   "execution_count": 8,
   "id": "01e2657e",
   "metadata": {
    "ExecuteTime": {
     "end_time": "2022-05-27T18:37:45.448229Z",
     "start_time": "2022-05-27T18:37:45.441235Z"
    }
   },
   "outputs": [
    {
     "data": {
      "text/plain": [
       "900000"
      ]
     },
     "execution_count": 8,
     "metadata": {},
     "output_type": "execute_result"
    }
   ],
   "source": [
    "ntrain"
   ]
  },
  {
   "cell_type": "code",
   "execution_count": 9,
   "id": "488385b4",
   "metadata": {
    "ExecuteTime": {
     "end_time": "2022-05-27T18:38:30.306685Z",
     "start_time": "2022-05-27T18:38:30.150508Z"
    },
    "_kg_hide-input": true,
    "execution": {
     "iopub.execute_input": "2022-05-24T11:35:04.118561Z",
     "iopub.status.busy": "2022-05-24T11:35:04.004450Z",
     "iopub.status.idle": "2022-05-24T11:35:04.120851Z",
     "shell.execute_reply": "2022-05-24T11:35:04.120389Z",
     "shell.execute_reply.started": "2022-05-24T10:16:51.204885Z"
    },
    "papermill": {
     "duration": 0.193011,
     "end_time": "2022-05-24T11:35:04.120978",
     "exception": false,
     "start_time": "2022-05-24T11:35:03.927967",
     "status": "completed"
    },
    "tags": []
   },
   "outputs": [],
   "source": [
    "from sklearn.model_selection import KFold\n",
    "\n",
    "features = [f for f in test.columns if f != 'id']\n",
    "ntrain   = train[features].shape[0]\n",
    "ntest    = test.shape[0]\n",
    "SEED     = 0 # for reproducibility\n",
    "NFOLDS   = 5 # set folds for out-of-fold prediction\n",
    "\n",
    "kf = KFold(n_splits= NFOLDS, random_state=SEED, shuffle=True)\n",
    "\n",
    "# Class to extend the Sklearn classifier\n",
    "class SklearnHelper(object):\n",
    "    \n",
    "    def __init__(self, clf, seed=0, params=None):\n",
    "        params['random_state'] = seed\n",
    "        self.clf = clf(**params)\n",
    "\n",
    "    def train(self, x_train, y_train):\n",
    "        self.clf.fit(x_train, y_train)\n",
    "\n",
    "    def predict(self, x):\n",
    "        return self.clf.predict(x)\n",
    "    \n",
    "    def fit(self,x,y):\n",
    "        return self.clf.fit(x,y)\n",
    "    \n",
    "    def feature_importances(self,x,y):\n",
    "        print(self.clf.fit(x,y).feature_importances_)"
   ]
  },
  {
   "cell_type": "code",
   "execution_count": 11,
   "id": "c296fdfd",
   "metadata": {
    "ExecuteTime": {
     "end_time": "2022-05-27T18:39:48.661040Z",
     "start_time": "2022-05-27T18:39:48.639010Z"
    },
    "_kg_hide-input": true,
    "execution": {
     "iopub.execute_input": "2022-05-24T11:35:04.254799Z",
     "iopub.status.busy": "2022-05-24T11:35:04.253213Z",
     "iopub.status.idle": "2022-05-24T11:35:04.255380Z",
     "shell.execute_reply": "2022-05-24T11:35:04.255813Z",
     "shell.execute_reply.started": "2022-05-24T10:16:51.228853Z"
    },
    "papermill": {
     "duration": 0.071468,
     "end_time": "2022-05-24T11:35:04.255943",
     "exception": false,
     "start_time": "2022-05-24T11:35:04.184475",
     "status": "completed"
    },
    "tags": []
   },
   "outputs": [],
   "source": [
    "def get_oof(clf, x_train, y_train, x_test):\n",
    "    \n",
    "    oof_train    = np.zeros((ntrain,))\n",
    "    oof_test     = np.zeros((ntest,))\n",
    "    oof_test_skf = np.empty((NFOLDS, ntest))\n",
    "\n",
    "    for i, (train_index, test_index) in enumerate(kf.split(x_train)):\n",
    "        \n",
    "        x_tr = x_train[train_index]\n",
    "        y_tr = y_train[train_index]\n",
    "        x_te = x_train[test_index]\n",
    "\n",
    "        clf.train(x_tr, y_tr)\n",
    "\n",
    "        oof_train[test_index] = clf.predict(x_te)\n",
    "        oof_test_skf[i, :] = clf.predict(x_test)\n",
    "\n",
    "    oof_test[:] = oof_test_skf.mean(axis=0)\n",
    "    \n",
    "    return oof_train.reshape(-1, 1), oof_test.reshape(-1, 1)"
   ]
  },
  {
   "cell_type": "code",
   "execution_count": 12,
   "id": "82335edc",
   "metadata": {
    "ExecuteTime": {
     "end_time": "2022-05-27T18:42:44.650167Z",
     "start_time": "2022-05-27T18:40:45.374571Z"
    },
    "execution": {
     "iopub.execute_input": "2022-05-24T11:35:04.386379Z",
     "iopub.status.busy": "2022-05-24T11:35:04.385700Z",
     "iopub.status.idle": "2022-05-24T12:21:31.696666Z",
     "shell.execute_reply": "2022-05-24T12:21:31.696011Z",
     "shell.execute_reply.started": "2022-05-24T10:16:51.239665Z"
    },
    "papermill": {
     "duration": 2787.378633,
     "end_time": "2022-05-24T12:21:31.696831",
     "exception": false,
     "start_time": "2022-05-24T11:35:04.318198",
     "status": "completed"
    },
    "tags": []
   },
   "outputs": [
    {
     "data": {
      "text/html": [
       "<style type='text/css'>\n",
       ".datatable table.frame { margin-bottom: 0; }\n",
       ".datatable table.frame thead { border-bottom: none; }\n",
       ".datatable table.frame tr.coltypes td {  color: #FFFFFF;  line-height: 6px;  padding: 0 0.5em;}\n",
       ".datatable .bool    { background: #DDDD99; }\n",
       ".datatable .object  { background: #565656; }\n",
       ".datatable .int     { background: #5D9E5D; }\n",
       ".datatable .float   { background: #4040CC; }\n",
       ".datatable .str     { background: #CC4040; }\n",
       ".datatable .time    { background: #40CC40; }\n",
       ".datatable .row_index {  background: var(--jp-border-color3);  border-right: 1px solid var(--jp-border-color0);  color: var(--jp-ui-font-color3);  font-size: 9px;}\n",
       ".datatable .frame tbody td { text-align: left; }\n",
       ".datatable .frame tr.coltypes .row_index {  background: var(--jp-border-color0);}\n",
       ".datatable th:nth-child(2) { padding-left: 12px; }\n",
       ".datatable .hellipsis {  color: var(--jp-cell-editor-border-color);}\n",
       ".datatable .vellipsis {  background: var(--jp-layout-color0);  color: var(--jp-cell-editor-border-color);}\n",
       ".datatable .na {  color: var(--jp-cell-editor-border-color);  font-size: 80%;}\n",
       ".datatable .sp {  opacity: 0.25;}\n",
       ".datatable .footer { font-size: 9px; }\n",
       ".datatable .frame_dimensions {  background: var(--jp-border-color3);  border-top: 1px solid var(--jp-border-color0);  color: var(--jp-ui-font-color3);  display: inline-block;  opacity: 0.6;  padding: 1px 10px 1px 5px;}\n",
       "</style>\n"
      ],
      "text/plain": [
       "<IPython.core.display.HTML object>"
      ]
     },
     "metadata": {},
     "output_type": "display_data"
    },
    {
     "name": "stdout",
     "output_type": "stream",
     "text": [
      " 0\n",
      "0.9531347327843647\n",
      "final_LGBM_AUC 0.9531347327843647\n",
      "CPU times: total: 14min 14s\n",
      "Wall time: 1min 59s\n"
     ]
    }
   ],
   "source": [
    "%%time\n",
    "from lightgbm import LGBMClassifier\n",
    "\n",
    "lgb_params = {\n",
    "    'n_estimators': 300,\n",
    "    'min_child_samples': 8,\n",
    "    'max_bins': 51,\n",
    "    \n",
    "}\n",
    "\n",
    "# Create Numpy arrays of train, test and target ( Survived) dataframes to feed into our models\n",
    "y_train = train['target'].values\n",
    "x_train = train[features].values # Creates an array of the train data\n",
    "x_test  = test[features].values # Creats an array of the test data\n",
    "\n",
    "pred_test_list_clf  = []\n",
    "pred_train_list_clf = []\n",
    "\n",
    "for seed in range(1):\n",
    "    \n",
    "    print(f\"{seed:2}\")\n",
    "    lgb = SklearnHelper(clf=LGBMClassifier, seed=seed, params=lgb_params)\n",
    "    lgb_oof_train, lgb_oof_test = get_oof(lgb,x_train, y_train, x_test) \n",
    "    score = roc_auc_score(y_train, np.array(lgb_oof_train))\n",
    "    print(score)\n",
    "    pred_train_list_clf.append(lgb_oof_train)\n",
    "    pred_test_list_clf.append(lgb_oof_test)\n",
    "    \n",
    "lgb_oof_train=np.array(pred_train_list_clf).mean(axis=0)\n",
    "lgb_oof_test=np.array(pred_test_list_clf).mean(axis=0)\n",
    "score = roc_auc_score(y_train, np.array(lgb_oof_train))\n",
    "print(\"final_LGBM_AUC\",score)"
   ]
  },
  {
   "cell_type": "code",
   "execution_count": 21,
   "id": "170f3b53",
   "metadata": {
    "ExecuteTime": {
     "end_time": "2022-05-27T18:46:10.122087Z",
     "start_time": "2022-05-27T18:46:10.101077Z"
    }
   },
   "outputs": [
    {
     "data": {
      "text/plain": [
       "array([[1.],\n",
       "       [1.],\n",
       "       [0.],\n",
       "       ...,\n",
       "       [0.],\n",
       "       [0.],\n",
       "       [0.]])"
      ]
     },
     "execution_count": 21,
     "metadata": {},
     "output_type": "execute_result"
    }
   ],
   "source": [
    "lgb_oof_test"
   ]
  },
  {
   "cell_type": "code",
   "execution_count": 20,
   "id": "c08c77f8",
   "metadata": {
    "ExecuteTime": {
     "end_time": "2022-05-27T18:45:11.943712Z",
     "start_time": "2022-05-27T18:45:11.925720Z"
    }
   },
   "outputs": [
    {
     "data": {
      "text/plain": [
       "array([[0.],\n",
       "       [1.],\n",
       "       [1.],\n",
       "       ...,\n",
       "       [0.],\n",
       "       [0.],\n",
       "       [1.]])"
      ]
     },
     "execution_count": 20,
     "metadata": {},
     "output_type": "execute_result"
    }
   ],
   "source": [
    "np.array(lgb_oof_train)"
   ]
  },
  {
   "cell_type": "markdown",
   "id": "76dc62b9",
   "metadata": {
    "papermill": {
     "duration": 0.066849,
     "end_time": "2022-05-24T12:21:31.832019",
     "exception": false,
     "start_time": "2022-05-24T12:21:31.765170",
     "status": "completed"
    },
    "tags": []
   },
   "source": [
    "<a id=\"6\"></a><h2></h2>\n",
    "<div style=\"color:white;display:fill;border-radius:8px;\n",
    "            background-color:#DAA520;font-size:150%;\n",
    "            font-family:Nexa;letter-spacing:0.5px\">\n",
    "    <p style=\"padding: 8px;color:black;\"><b>3.3 |  XGB based prediction</b></p>\n",
    "</div>"
   ]
  },
  {
   "cell_type": "code",
   "execution_count": 11,
   "id": "d773dd58",
   "metadata": {
    "_kg_hide-output": true,
    "execution": {
     "iopub.execute_input": "2022-05-24T12:21:31.975144Z",
     "iopub.status.busy": "2022-05-24T12:21:31.974451Z",
     "iopub.status.idle": "2022-05-24T12:51:44.801775Z",
     "shell.execute_reply": "2022-05-24T12:51:44.802411Z",
     "shell.execute_reply.started": "2022-05-24T10:23:00.236630Z"
    },
    "papermill": {
     "duration": 1812.904069,
     "end_time": "2022-05-24T12:51:44.802635",
     "exception": false,
     "start_time": "2022-05-24T12:21:31.898566",
     "status": "completed"
    },
    "tags": []
   },
   "outputs": [
    {
     "name": "stdout",
     "output_type": "stream",
     "text": [
      " 0\n",
      "[12:21:34] WARNING: ../src/learner.cc:576: \n",
      "Parameters: { \"silent\" } might not be used.\n",
      "\n",
      "  This could be a false alarm, with some parameters getting used by language bindings but\n",
      "  then being mistakenly passed down to XGBoost core, or some parameter actually being used\n",
      "  but getting flagged wrongly here. Please open an issue if you find any such cases.\n",
      "\n",
      "\n",
      "[12:27:36] WARNING: ../src/learner.cc:576: \n",
      "Parameters: { \"silent\" } might not be used.\n",
      "\n",
      "  This could be a false alarm, with some parameters getting used by language bindings but\n",
      "  then being mistakenly passed down to XGBoost core, or some parameter actually being used\n",
      "  but getting flagged wrongly here. Please open an issue if you find any such cases.\n",
      "\n",
      "\n",
      "[12:33:41] WARNING: ../src/learner.cc:576: \n",
      "Parameters: { \"silent\" } might not be used.\n",
      "\n",
      "  This could be a false alarm, with some parameters getting used by language bindings but\n",
      "  then being mistakenly passed down to XGBoost core, or some parameter actually being used\n",
      "  but getting flagged wrongly here. Please open an issue if you find any such cases.\n",
      "\n",
      "\n",
      "[12:39:42] WARNING: ../src/learner.cc:576: \n",
      "Parameters: { \"silent\" } might not be used.\n",
      "\n",
      "  This could be a false alarm, with some parameters getting used by language bindings but\n",
      "  then being mistakenly passed down to XGBoost core, or some parameter actually being used\n",
      "  but getting flagged wrongly here. Please open an issue if you find any such cases.\n",
      "\n",
      "\n",
      "[12:45:42] WARNING: ../src/learner.cc:576: \n",
      "Parameters: { \"silent\" } might not be used.\n",
      "\n",
      "  This could be a false alarm, with some parameters getting used by language bindings but\n",
      "  then being mistakenly passed down to XGBoost core, or some parameter actually being used\n",
      "  but getting flagged wrongly here. Please open an issue if you find any such cases.\n",
      "\n",
      "\n",
      "0.9466895462528735\n",
      "final_XGB_AUC 0.9466895462528735\n"
     ]
    }
   ],
   "source": [
    "from xgboost import XGBClassifier\n",
    "xgb_params = {\n",
    "    'n_estimators': 100,\n",
    "    'eval_metric': 'auc',\n",
    "    'silent': 0,\n",
    "    \n",
    "}\n",
    "\n",
    "# Create Numpy arrays of train, test and target ( Survived) dataframes to feed into our models\n",
    "y_train = train['target'].values\n",
    "x_train = train[features].values # Creates an array of the train data\n",
    "x_test = test[features].values # Creats an array of the test data\n",
    "pred_test_list_clf= []\n",
    "pred_train_list_clf = []\n",
    "for seed in range(1): # you can increase maximum value of range upto 10. I have choosen it to be 1 so that the runtime is shorter.\n",
    "    print(f\"{seed:2}\")\n",
    "    xgb = SklearnHelper(clf=XGBClassifier, seed=SEED, params=xgb_params)\n",
    "    xgb_oof_train, xgb_oof_test = get_oof(xgb,x_train, y_train, x_test) \n",
    "    score = roc_auc_score(y_train, np.array(xgb_oof_train))\n",
    "    print(score)\n",
    "    pred_train_list_clf.append(xgb_oof_train)\n",
    "    pred_test_list_clf.append(xgb_oof_test)\n",
    "xgb_oof_train=np.array(pred_train_list_clf).mean(axis=0)\n",
    "xgb_oof_test=np.array(pred_test_list_clf).mean(axis=0)\n",
    "score = roc_auc_score(y_train, np.array(xgb_oof_train))\n",
    "print(\"final_XGB_AUC\",score)\n"
   ]
  },
  {
   "cell_type": "markdown",
   "id": "2cecf8f6",
   "metadata": {
    "papermill": {
     "duration": 0.068451,
     "end_time": "2022-05-24T12:51:44.941606",
     "exception": false,
     "start_time": "2022-05-24T12:51:44.873155",
     "status": "completed"
    },
    "tags": []
   },
   "source": [
    "<a id=\"7\"></a><h2></h2>\n",
    "<div style=\"color:white;display:fill;border-radius:8px;\n",
    "            background-color:#DAA520;font-size:150%;\n",
    "            font-family:Nexa;letter-spacing:0.5px\">\n",
    "    <p style=\"padding: 8px;color:black;\"><b>3.4 |  HistGradientBoostingClassifier</b></p>\n",
    "</div>"
   ]
  },
  {
   "cell_type": "code",
   "execution_count": 12,
   "id": "1a2f453b",
   "metadata": {
    "execution": {
     "iopub.execute_input": "2022-05-24T12:51:45.194295Z",
     "iopub.status.busy": "2022-05-24T12:51:45.192976Z",
     "iopub.status.idle": "2022-05-24T12:56:57.259561Z",
     "shell.execute_reply": "2022-05-24T12:56:57.260012Z",
     "shell.execute_reply.started": "2022-05-24T10:23:08.687529Z"
    },
    "papermill": {
     "duration": 312.249435,
     "end_time": "2022-05-24T12:56:57.260161",
     "exception": false,
     "start_time": "2022-05-24T12:51:45.010726",
     "status": "completed"
    },
    "tags": []
   },
   "outputs": [
    {
     "name": "stdout",
     "output_type": "stream",
     "text": [
      " 0\n",
      "0.9461773410529398\n",
      "final_HIST_AUC 0.9461773410529398\n",
      "CPU times: user 9min 37s, sys: 1.93 s, total: 9min 39s\n",
      "Wall time: 5min 12s\n"
     ]
    }
   ],
   "source": [
    "%%time\n",
    "from sklearn.ensemble import HistGradientBoostingClassifier\n",
    "features = [f for f in test.columns if f != 'id']\n",
    "Hist_params = {\n",
    "    'max_iter': 200,    \n",
    "}\n",
    "\n",
    "# Create Numpy arrays of train, test and target ( Survived) dataframes to feed into our models\n",
    "y_train = train['target'].values\n",
    "x_train = train[features].values # Creates an array of the train data\n",
    "x_test = test[features].values # Creats an array of the test data\n",
    "pred_test_list_clf= []\n",
    "pred_train_list_clf = []\n",
    "for seed in range(1): # you can increase maximum value of range upto 10. I have choosen it to be 1 so that the runtime is shorter.\n",
    "    print(f\"{seed:2}\")\n",
    "    Hist = SklearnHelper(clf=HistGradientBoostingClassifier, seed=SEED, params=Hist_params)\n",
    "    Hist_oof_train, Hist_oof_test = get_oof(Hist,x_train, y_train, x_test) \n",
    "    score = roc_auc_score(y_train, np.array(Hist_oof_train))\n",
    "    print(score)\n",
    "    pred_train_list_clf.append(Hist_oof_train)\n",
    "    pred_test_list_clf.append(Hist_oof_test)\n",
    "Hist_oof_train=np.array(pred_train_list_clf).mean(axis=0)\n",
    "Hist_oof_test=np.array(pred_test_list_clf).mean(axis=0)\n",
    "score = roc_auc_score(y_train, np.array(Hist_oof_train))\n",
    "print(\"final_HIST_AUC\",score)"
   ]
  },
  {
   "cell_type": "markdown",
   "id": "e6ed0750",
   "metadata": {
    "papermill": {
     "duration": 0.134693,
     "end_time": "2022-05-24T12:56:57.477557",
     "exception": false,
     "start_time": "2022-05-24T12:56:57.342864",
     "status": "completed"
    },
    "tags": []
   },
   "source": [
    "<a id=\"8\"></a><h2></h2>\n",
    "<div style=\"color:white;display:fill;border-radius:8px;\n",
    "            background-color:#DAA520;font-size:150%;\n",
    "            font-family:Nexa;letter-spacing:0.5px\">\n",
    "    <p style=\"padding: 8px;color:black;\"><b>3.5 |  CatBoostClassifier</b></p>\n",
    "</div>"
   ]
  },
  {
   "cell_type": "code",
   "execution_count": 13,
   "id": "f6cf7e1a",
   "metadata": {
    "_kg_hide-output": true,
    "execution": {
     "iopub.execute_input": "2022-05-24T12:56:57.721533Z",
     "iopub.status.busy": "2022-05-24T12:56:57.719278Z",
     "iopub.status.idle": "2022-05-24T14:12:05.793651Z",
     "shell.execute_reply": "2022-05-24T14:12:05.794215Z",
     "shell.execute_reply.started": "2022-05-24T10:24:13.273843Z"
    },
    "papermill": {
     "duration": 4508.201076,
     "end_time": "2022-05-24T14:12:05.794438",
     "exception": false,
     "start_time": "2022-05-24T12:56:57.593362",
     "status": "completed"
    },
    "tags": []
   },
   "outputs": [
    {
     "name": "stdout",
     "output_type": "stream",
     "text": [
      " 0\n",
      "0:\tlearn: 0.6147194\ttotal: 230ms\tremaining: 17m 13s\n",
      "450:\tlearn: 0.9108694\ttotal: 1m 29s\tremaining: 13m 22s\n",
      "900:\tlearn: 0.9298986\ttotal: 2m 58s\tremaining: 11m 51s\n",
      "1350:\tlearn: 0.9400250\ttotal: 4m 26s\tremaining: 10m 20s\n",
      "1800:\tlearn: 0.9458542\ttotal: 5m 54s\tremaining: 8m 50s\n",
      "2250:\tlearn: 0.9498069\ttotal: 7m 21s\tremaining: 7m 20s\n",
      "2700:\tlearn: 0.9532153\ttotal: 8m 47s\tremaining: 5m 51s\n",
      "3150:\tlearn: 0.9558333\ttotal: 10m 15s\tremaining: 4m 23s\n",
      "3600:\tlearn: 0.9579236\ttotal: 11m 41s\tremaining: 2m 55s\n",
      "4050:\tlearn: 0.9596167\ttotal: 13m 8s\tremaining: 1m 27s\n",
      "4499:\tlearn: 0.9611181\ttotal: 14m 34s\tremaining: 0us\n",
      "0:\tlearn: 0.6149000\ttotal: 175ms\tremaining: 13m 7s\n",
      "450:\tlearn: 0.9106292\ttotal: 1m 28s\tremaining: 13m 17s\n",
      "900:\tlearn: 0.9302389\ttotal: 2m 58s\tremaining: 11m 54s\n",
      "1350:\tlearn: 0.9396986\ttotal: 4m 27s\tremaining: 10m 22s\n",
      "1800:\tlearn: 0.9459833\ttotal: 5m 53s\tremaining: 8m 50s\n",
      "2250:\tlearn: 0.9500597\ttotal: 7m 21s\tremaining: 7m 21s\n",
      "2700:\tlearn: 0.9533403\ttotal: 8m 48s\tremaining: 5m 51s\n",
      "3150:\tlearn: 0.9558556\ttotal: 10m 16s\tremaining: 4m 23s\n",
      "3600:\tlearn: 0.9577806\ttotal: 11m 42s\tremaining: 2m 55s\n",
      "4050:\tlearn: 0.9593264\ttotal: 13m 9s\tremaining: 1m 27s\n",
      "4499:\tlearn: 0.9607528\ttotal: 14m 36s\tremaining: 0us\n",
      "0:\tlearn: 0.6159611\ttotal: 175ms\tremaining: 13m 6s\n",
      "450:\tlearn: 0.9117000\ttotal: 1m 28s\tremaining: 13m 10s\n",
      "900:\tlearn: 0.9300986\ttotal: 2m 59s\tremaining: 11m 55s\n",
      "1350:\tlearn: 0.9397639\ttotal: 4m 27s\tremaining: 10m 22s\n",
      "1800:\tlearn: 0.9457944\ttotal: 5m 55s\tremaining: 8m 52s\n",
      "2250:\tlearn: 0.9500472\ttotal: 7m 23s\tremaining: 7m 22s\n",
      "2700:\tlearn: 0.9533792\ttotal: 8m 50s\tremaining: 5m 53s\n",
      "3150:\tlearn: 0.9559625\ttotal: 10m 17s\tremaining: 4m 24s\n",
      "3600:\tlearn: 0.9580597\ttotal: 11m 45s\tremaining: 2m 56s\n",
      "4050:\tlearn: 0.9596292\ttotal: 13m 14s\tremaining: 1m 28s\n",
      "4499:\tlearn: 0.9610222\ttotal: 14m 40s\tremaining: 0us\n",
      "0:\tlearn: 0.6164097\ttotal: 163ms\tremaining: 12m 14s\n",
      "450:\tlearn: 0.9107056\ttotal: 1m 29s\tremaining: 13m 21s\n",
      "900:\tlearn: 0.9297292\ttotal: 2m 58s\tremaining: 11m 53s\n",
      "1350:\tlearn: 0.9395889\ttotal: 4m 25s\tremaining: 10m 19s\n",
      "1800:\tlearn: 0.9453875\ttotal: 5m 54s\tremaining: 8m 51s\n",
      "2250:\tlearn: 0.9492708\ttotal: 7m 21s\tremaining: 7m 21s\n",
      "2700:\tlearn: 0.9527278\ttotal: 8m 50s\tremaining: 5m 53s\n",
      "3150:\tlearn: 0.9555167\ttotal: 10m 17s\tremaining: 4m 24s\n",
      "3600:\tlearn: 0.9574556\ttotal: 11m 45s\tremaining: 2m 56s\n",
      "4050:\tlearn: 0.9591722\ttotal: 13m 14s\tremaining: 1m 28s\n",
      "4499:\tlearn: 0.9607028\ttotal: 14m 41s\tremaining: 0us\n",
      "0:\tlearn: 0.6151097\ttotal: 161ms\tremaining: 12m 3s\n",
      "450:\tlearn: 0.9115389\ttotal: 1m 29s\tremaining: 13m 23s\n",
      "900:\tlearn: 0.9299847\ttotal: 2m 59s\tremaining: 11m 57s\n",
      "1350:\tlearn: 0.9398556\ttotal: 4m 28s\tremaining: 10m 26s\n",
      "1800:\tlearn: 0.9457181\ttotal: 5m 56s\tremaining: 8m 54s\n",
      "2250:\tlearn: 0.9498972\ttotal: 7m 24s\tremaining: 7m 23s\n",
      "2700:\tlearn: 0.9533167\ttotal: 8m 51s\tremaining: 5m 53s\n",
      "3150:\tlearn: 0.9557972\ttotal: 10m 18s\tremaining: 4m 24s\n",
      "3600:\tlearn: 0.9578056\ttotal: 11m 45s\tremaining: 2m 56s\n",
      "4050:\tlearn: 0.9594403\ttotal: 13m 14s\tremaining: 1m 28s\n",
      "4499:\tlearn: 0.9608903\ttotal: 14m 43s\tremaining: 0us\n",
      "0.9590479382979264\n",
      "final_AUC 0.9590479382979264\n",
      "CPU times: user 2h 19min 35s, sys: 53.6 s, total: 2h 20min 28s\n",
      "Wall time: 1h 15min 8s\n"
     ]
    }
   ],
   "source": [
    "%%time\n",
    "from catboost import CatBoostClassifier\n",
    "iterations = 4500\n",
    "cat_params = {\n",
    "    'iterations': iterations,\n",
    "    'learning_rate': 0.02,\n",
    "    'early_stopping_rounds': 150,\n",
    "    'max_depth': 5,\n",
    "    'eval_metric': 'Accuracy',\n",
    "    'loss_function': 'Logloss',\n",
    "    'verbose': int(iterations/10)    \n",
    "}\n",
    "\n",
    "\n",
    "# Create Numpy arrays of train, test and target ( Survived) dataframes to feed into our models\n",
    "y_train = train['target'].values\n",
    "x_train = train[features].values # Creates an array of the train data\n",
    "x_test = test[features].values # Creats an array of the test data\n",
    "pred_test_list_clf= []\n",
    "pred_train_list_clf = []\n",
    "for seed in range(1): # you can increase maximum value of range upto 10. I have choosen it to be 1 so that the runtime is shorter.\n",
    "    print(f\"{seed:2}\")\n",
    "    cat = SklearnHelper(clf=CatBoostClassifier, seed=SEED, params=cat_params)\n",
    "    cat_oof_train, cat_oof_test = get_oof(cat,x_train, y_train, x_test) \n",
    "    score = roc_auc_score(y_train, np.array(cat_oof_train))\n",
    "    print(score)\n",
    "    pred_train_list_clf.append(cat_oof_train)\n",
    "    pred_test_list_clf.append(cat_oof_test)\n",
    "cat_oof_train=np.array(pred_train_list_clf).mean(axis=0)\n",
    "cat_oof_test=np.array(pred_test_list_clf).mean(axis=0)\n",
    "score = roc_auc_score(y_train, np.array(cat_oof_train))\n",
    "print(\"final_AUC\",score) "
   ]
  },
  {
   "cell_type": "markdown",
   "id": "b8350223",
   "metadata": {
    "papermill": {
     "duration": 0.086677,
     "end_time": "2022-05-24T14:12:05.969354",
     "exception": false,
     "start_time": "2022-05-24T14:12:05.882677",
     "status": "completed"
    },
    "tags": []
   },
   "source": [
    "<a id=\"9\"></a><h2></h2>\n",
    "<div style=\"color:white;display:fill;border-radius:8px;\n",
    "            background-color:#DAA520;font-size:150%;\n",
    "            font-family:Nexa;letter-spacing:0.5px\">\n",
    "    <p style=\"padding: 8px;color:black;\"><b>3.6 |  AdaBoostClassifier</b></p>\n",
    "</div>"
   ]
  },
  {
   "cell_type": "code",
   "execution_count": 14,
   "id": "5b74bd3e",
   "metadata": {
    "execution": {
     "iopub.execute_input": "2022-05-24T14:12:06.254640Z",
     "iopub.status.busy": "2022-05-24T14:12:06.253244Z",
     "iopub.status.idle": "2022-05-24T14:39:33.663082Z",
     "shell.execute_reply": "2022-05-24T14:39:33.663716Z",
     "shell.execute_reply.started": "2022-05-24T10:25:13.803897Z"
    },
    "papermill": {
     "duration": 1647.608059,
     "end_time": "2022-05-24T14:39:33.663912",
     "exception": false,
     "start_time": "2022-05-24T14:12:06.055853",
     "status": "completed"
    },
    "tags": []
   },
   "outputs": [
    {
     "name": "stdout",
     "output_type": "stream",
     "text": [
      " 0\n",
      "0.7712009756956579\n",
      "final_AUC 0.7712009756956579\n",
      "CPU times: user 26min 46s, sys: 36.8 s, total: 27min 22s\n",
      "Wall time: 27min 27s\n"
     ]
    }
   ],
   "source": [
    "%%time\n",
    "from sklearn.ensemble import AdaBoostClassifier\n",
    "iterations = 100\n",
    "ada_params = {\n",
    "    'n_estimators': iterations,  \n",
    "}\n",
    "\n",
    "\n",
    "# Create Numpy arrays of train, test and target ( Survived) dataframes to feed into our models\n",
    "y_train = train['target'].values\n",
    "x_train = train[features].values # Creates an array of the train data\n",
    "x_test = test[features].values # Creats an array of the test data\n",
    "pred_test_list_clf= []\n",
    "pred_train_list_clf = []\n",
    "for seed in range(1):   # you can increase maximum value of range upto 10. I have choosen it to be 1 so that the runtime is shorter.\n",
    "    print(f\"{seed:2}\")\n",
    "    ada = SklearnHelper(clf=AdaBoostClassifier, seed=SEED, params=ada_params)\n",
    "    ada_oof_train, ada_oof_test = get_oof(ada,x_train, y_train, x_test) \n",
    "    score = roc_auc_score(y_train, np.array(ada_oof_train))\n",
    "    print(score)\n",
    "    pred_train_list_clf.append(ada_oof_train)\n",
    "    pred_test_list_clf.append(ada_oof_test) \n",
    "ada_oof_train=np.array(pred_train_list_clf).mean(axis=0)\n",
    "ada_oof_test=np.array(pred_test_list_clf).mean(axis=0)\n",
    "score = roc_auc_score(y_train, np.array(ada_oof_train))\n",
    "print(\"final_AUC\",score)"
   ]
  },
  {
   "cell_type": "markdown",
   "id": "5f285dad",
   "metadata": {
    "papermill": {
     "duration": 0.087254,
     "end_time": "2022-05-24T14:39:33.841096",
     "exception": false,
     "start_time": "2022-05-24T14:39:33.753842",
     "status": "completed"
    },
    "tags": []
   },
   "source": [
    "<a id=\"10\"></a><h2></h2>\n",
    "<div style=\"color:white;display:fill;border-radius:8px;\n",
    "            background-color:#DAA520;font-size:150%;\n",
    "            font-family:Nexa;letter-spacing:0.5px\">\n",
    "    <p style=\"padding: 8px;color:black;\"><b>3.7 |  RandomForestClassifier</b></p>\n",
    "</div>"
   ]
  },
  {
   "cell_type": "code",
   "execution_count": 15,
   "id": "6fa69344",
   "metadata": {
    "execution": {
     "iopub.execute_input": "2022-05-24T14:39:34.133583Z",
     "iopub.status.busy": "2022-05-24T14:39:34.132230Z",
     "iopub.status.idle": "2022-05-24T15:16:04.566084Z",
     "shell.execute_reply": "2022-05-24T15:16:04.566562Z",
     "shell.execute_reply.started": "2022-05-24T10:26:30.170791Z"
    },
    "papermill": {
     "duration": 2190.636871,
     "end_time": "2022-05-24T15:16:04.566730",
     "exception": false,
     "start_time": "2022-05-24T14:39:33.929859",
     "status": "completed"
    },
    "tags": []
   },
   "outputs": [
    {
     "name": "stdout",
     "output_type": "stream",
     "text": [
      " 0\n",
      "0.9097271466634649\n",
      "final_AUC 0.9097271466634649\n",
      "CPU times: user 36min 18s, sys: 3.76 s, total: 36min 22s\n",
      "Wall time: 36min 30s\n"
     ]
    }
   ],
   "source": [
    "%%time\n",
    "from sklearn.ensemble import RandomForestClassifier\n",
    "rf_params = {\n",
    "    'n_estimators': 100,\n",
    "}\n",
    "\n",
    "# Create Numpy arrays of train, test and target ( Survived) dataframes to feed into our models\n",
    "y_train = train['target'].values\n",
    "x_train = train[features].values # Creates an array of the train data\n",
    "x_test = test[features].values # Creats an array of the test data\n",
    "pred_test_list_clf= []\n",
    "pred_train_list_clf = []\n",
    "for seed in range(1): # you can increase maximum value of range upto 10. I have choosen it to be 1 so that the runtime is shorter.\n",
    "    print(f\"{seed:2}\")\n",
    "    rf = SklearnHelper(clf=RandomForestClassifier, seed=SEED, params=rf_params)\n",
    "    rf_oof_train, rf_oof_test = get_oof(rf,x_train, y_train, x_test) \n",
    "    score = roc_auc_score(y_train, np.array(rf_oof_train))\n",
    "    print(score)\n",
    "    pred_train_list_clf.append(rf_oof_train)\n",
    "    pred_test_list_clf.append(rf_oof_test)\n",
    "rf_oof_train=np.array(pred_train_list_clf).mean(axis=0)\n",
    "rf_oof_test=np.array(pred_test_list_clf).mean(axis=0)\n",
    "score = roc_auc_score(y_train, np.array(rf_oof_train))\n",
    "print(\"final_AUC\",score)\n",
    "\n"
   ]
  },
  {
   "cell_type": "markdown",
   "id": "11a42368",
   "metadata": {
    "papermill": {
     "duration": 0.088038,
     "end_time": "2022-05-24T15:16:04.742063",
     "exception": false,
     "start_time": "2022-05-24T15:16:04.654025",
     "status": "completed"
    },
    "tags": []
   },
   "source": [
    "<a id=\"11\"></a><h2></h2>\n",
    "<div style=\"background-color:rgba(0, 153, 0, 0.5);border-radius: 15px 50px;display:fill\">\n",
    "    <h1><center>4. Meta Learning </center></h1>\n",
    "</div>\n",
    "Normalmente, um metamodelo é treinado nas previsões feitas por modelos de base em dados fora da amostra. Ou seja, os dados não usados para treinar os modelos de base são alimentados aos modelos de base, as previsões são feitas e essas previsões, juntamente com as saídas esperadas, fornecem os pares de entrada e saída do conjunto de dados de treinamento usado para ajustar o metamodelo. No entanto, neste caderno eu usei a previsão de todos os dados.\n",
    "\n",
    "<br>\n",
    "<div class=\"alert alert-block alert-info\">\n",
    "\n",
    "\n",
    "Anotações importantes:\n",
    "1) A previsão da CNN, XGB e outras previsões são mescladas com alguns outros recursos dominantes e, em seguida, são usadas como dados de treinamento para o classificador de aprendizado Meta. <br>\n",
    "2) Para evitar overfitting, um metamodelo deve ser ajustado com algoritmos leves. Aqui, usei regressão linear. Para fins de experimento, tentei vários outros algoritmos também.\n",
    ".</div>\n",
    "<div style=\"color:white;display:fill;border-radius:8px;\n",
    "            background-color:#DAA520;font-size:150%;\n",
    "            font-family:Nexa;letter-spacing:0.5px\">\n",
    "    <p style=\"padding: 8px;color:black;\"><b>4.1 |  Preprocessing for Meta learning</b></p>\n",
    "</div>\n"
   ]
  },
  {
   "cell_type": "code",
   "execution_count": 16,
   "id": "48213abe",
   "metadata": {
    "execution": {
     "iopub.execute_input": "2022-05-24T15:16:04.926227Z",
     "iopub.status.busy": "2022-05-24T15:16:04.925404Z",
     "iopub.status.idle": "2022-05-24T15:16:05.068385Z",
     "shell.execute_reply": "2022-05-24T15:16:05.068843Z",
     "shell.execute_reply.started": "2022-05-24T10:27:20.979398Z"
    },
    "papermill": {
     "duration": 0.238842,
     "end_time": "2022-05-24T15:16:05.068990",
     "exception": false,
     "start_time": "2022-05-24T15:16:04.830148",
     "status": "completed"
    },
    "tags": []
   },
   "outputs": [
    {
     "data": {
      "text/html": [
       "<div>\n",
       "<style scoped>\n",
       "    .dataframe tbody tr th:only-of-type {\n",
       "        vertical-align: middle;\n",
       "    }\n",
       "\n",
       "    .dataframe tbody tr th {\n",
       "        vertical-align: top;\n",
       "    }\n",
       "\n",
       "    .dataframe thead th {\n",
       "        text-align: right;\n",
       "    }\n",
       "</style>\n",
       "<table border=\"1\" class=\"dataframe\">\n",
       "  <thead>\n",
       "    <tr style=\"text-align: right;\">\n",
       "      <th></th>\n",
       "      <th>id</th>\n",
       "      <th>target</th>\n",
       "      <th>LGBM_train_pred</th>\n",
       "      <th>XGB_train_pred</th>\n",
       "      <th>CNN_train_pred</th>\n",
       "      <th>HIST_train_pred</th>\n",
       "      <th>catboost</th>\n",
       "      <th>adaboost</th>\n",
       "      <th>rf</th>\n",
       "    </tr>\n",
       "  </thead>\n",
       "  <tbody>\n",
       "    <tr>\n",
       "      <th>0</th>\n",
       "      <td>0</td>\n",
       "      <td>0</td>\n",
       "      <td>0.0</td>\n",
       "      <td>0.0</td>\n",
       "      <td>0.000018</td>\n",
       "      <td>0.0</td>\n",
       "      <td>0.0</td>\n",
       "      <td>0.0</td>\n",
       "      <td>0.0</td>\n",
       "    </tr>\n",
       "    <tr>\n",
       "      <th>1</th>\n",
       "      <td>1</td>\n",
       "      <td>1</td>\n",
       "      <td>1.0</td>\n",
       "      <td>1.0</td>\n",
       "      <td>1.000000</td>\n",
       "      <td>1.0</td>\n",
       "      <td>1.0</td>\n",
       "      <td>1.0</td>\n",
       "      <td>1.0</td>\n",
       "    </tr>\n",
       "  </tbody>\n",
       "</table>\n",
       "</div>"
      ],
      "text/plain": [
       "   id  target  LGBM_train_pred  XGB_train_pred  CNN_train_pred  \\\n",
       "0   0       0              0.0             0.0        0.000018   \n",
       "1   1       1              1.0             1.0        1.000000   \n",
       "\n",
       "   HIST_train_pred  catboost  adaboost   rf  \n",
       "0              0.0       0.0       0.0  0.0  \n",
       "1              1.0       1.0       1.0  1.0  "
      ]
     },
     "execution_count": 16,
     "metadata": {},
     "output_type": "execute_result"
    }
   ],
   "source": [
    "#merging all the Level-0 prediction of the traing data\n",
    "Metainput_train2 =pd.DataFrame()\n",
    "Metainput_train2['id']=train['id']\n",
    "Metainput_train2['target']=train['target']\n",
    "Metainput_train2['LGBM_train_pred'] = lgb_oof_train.ravel()\n",
    "Metainput_train2['XGB_train_pred'] =  xgb_oof_train.ravel()\n",
    "Metainput_train2['CNN_train_pred'] =  np.array(predtrain_list_cnn).mean(axis=0)\n",
    "Metainput_train2['HIST_train_pred'] =  Hist_oof_train.ravel()\n",
    "Metainput_train2['catboost'] =  cat_oof_train.ravel()\n",
    "Metainput_train2['adaboost'] =  ada_oof_train.ravel()\n",
    "Metainput_train2['rf'] =  rf_oof_train.ravel()\n",
    "Metainput_train2.head(2)"
   ]
  },
  {
   "cell_type": "code",
   "execution_count": 17,
   "id": "08aac24b",
   "metadata": {
    "execution": {
     "iopub.execute_input": "2022-05-24T15:16:05.252908Z",
     "iopub.status.busy": "2022-05-24T15:16:05.251725Z",
     "iopub.status.idle": "2022-05-24T15:16:05.368131Z",
     "shell.execute_reply": "2022-05-24T15:16:05.368550Z",
     "shell.execute_reply.started": "2022-05-24T10:27:21.010053Z"
    },
    "papermill": {
     "duration": 0.210615,
     "end_time": "2022-05-24T15:16:05.368707",
     "exception": false,
     "start_time": "2022-05-24T15:16:05.158092",
     "status": "completed"
    },
    "tags": []
   },
   "outputs": [
    {
     "data": {
      "text/html": [
       "<div>\n",
       "<style scoped>\n",
       "    .dataframe tbody tr th:only-of-type {\n",
       "        vertical-align: middle;\n",
       "    }\n",
       "\n",
       "    .dataframe tbody tr th {\n",
       "        vertical-align: top;\n",
       "    }\n",
       "\n",
       "    .dataframe thead th {\n",
       "        text-align: right;\n",
       "    }\n",
       "</style>\n",
       "<table border=\"1\" class=\"dataframe\">\n",
       "  <thead>\n",
       "    <tr style=\"text-align: right;\">\n",
       "      <th></th>\n",
       "      <th>id</th>\n",
       "      <th>LGBM_train_pred</th>\n",
       "      <th>XGB_train_pred</th>\n",
       "      <th>CNN_train_pred</th>\n",
       "      <th>HIST_train_pred</th>\n",
       "      <th>catboost</th>\n",
       "      <th>adaboost</th>\n",
       "      <th>rf</th>\n",
       "    </tr>\n",
       "  </thead>\n",
       "  <tbody>\n",
       "    <tr>\n",
       "      <th>0</th>\n",
       "      <td>900000</td>\n",
       "      <td>1.0</td>\n",
       "      <td>1.0</td>\n",
       "      <td>0.999816</td>\n",
       "      <td>1.0</td>\n",
       "      <td>1.0</td>\n",
       "      <td>1.0</td>\n",
       "      <td>1.0</td>\n",
       "    </tr>\n",
       "    <tr>\n",
       "      <th>1</th>\n",
       "      <td>900001</td>\n",
       "      <td>1.0</td>\n",
       "      <td>1.0</td>\n",
       "      <td>0.999995</td>\n",
       "      <td>1.0</td>\n",
       "      <td>1.0</td>\n",
       "      <td>1.0</td>\n",
       "      <td>1.0</td>\n",
       "    </tr>\n",
       "  </tbody>\n",
       "</table>\n",
       "</div>"
      ],
      "text/plain": [
       "       id  LGBM_train_pred  XGB_train_pred  CNN_train_pred  HIST_train_pred  \\\n",
       "0  900000              1.0             1.0        0.999816              1.0   \n",
       "1  900001              1.0             1.0        0.999995              1.0   \n",
       "\n",
       "   catboost  adaboost   rf  \n",
       "0       1.0       1.0  1.0  \n",
       "1       1.0       1.0  1.0  "
      ]
     },
     "execution_count": 17,
     "metadata": {},
     "output_type": "execute_result"
    }
   ],
   "source": [
    "#merging all the Level-0 prediction of the test data\n",
    "Metainput_test2 =pd.DataFrame()\n",
    "Metainput_test2['id']=test['id']\n",
    "Metainput_test2['LGBM_train_pred'] = lgb_oof_test.ravel()\n",
    "Metainput_test2['XGB_train_pred'] =  xgb_oof_test.ravel()\n",
    "Metainput_test2['CNN_train_pred'] =  np.array(predtest_list_cnn).mean(axis=0)\n",
    "Metainput_test2['HIST_train_pred'] =  Hist_oof_test.ravel()\n",
    "Metainput_test2['catboost'] =  cat_oof_test.ravel()\n",
    "Metainput_test2['adaboost'] =  ada_oof_test.ravel()\n",
    "Metainput_test2['rf'] =  rf_oof_test.ravel()\n",
    "Metainput_test2.head(2)\n"
   ]
  },
  {
   "cell_type": "code",
   "execution_count": 18,
   "id": "fd2732d9",
   "metadata": {
    "execution": {
     "iopub.execute_input": "2022-05-24T15:16:05.558400Z",
     "iopub.status.busy": "2022-05-24T15:16:05.557529Z",
     "iopub.status.idle": "2022-05-24T15:16:05.630399Z",
     "shell.execute_reply": "2022-05-24T15:16:05.630856Z",
     "shell.execute_reply.started": "2022-05-24T10:27:21.141924Z"
    },
    "papermill": {
     "duration": 0.167661,
     "end_time": "2022-05-24T15:16:05.631025",
     "exception": false,
     "start_time": "2022-05-24T15:16:05.463364",
     "status": "completed"
    },
    "tags": []
   },
   "outputs": [],
   "source": [
    "imp_features_notarget = [x for x in Metainput_train2.columns if x != 'target']\n",
    "from sklearn.model_selection import StratifiedKFold\n",
    "\n",
    "val = np.zeros(Metainput_train2.shape[0])\n",
    "pred = np.zeros(Metainput_train2.shape[0])\n",
    "\n",
    "x = Metainput_train2[imp_features_notarget].values\n",
    "y = Metainput_train2['target'].values"
   ]
  },
  {
   "cell_type": "markdown",
   "id": "4c8317e9",
   "metadata": {
    "papermill": {
     "duration": 0.089537,
     "end_time": "2022-05-24T15:16:05.810482",
     "exception": false,
     "start_time": "2022-05-24T15:16:05.720945",
     "status": "completed"
    },
    "tags": []
   },
   "source": [
    "<a id=\"12\"></a><h2></h2>\n",
    "<div style=\"color:white;display:fill;border-radius:8px;\n",
    "            background-color:#DAA520;font-size:150%;\n",
    "            font-family:Nexa;letter-spacing:0.5px\">\n",
    "    <p style=\"padding: 8px;color:black;\"><b>4.1 |  Meta-learning classifier- LinearRegression</b></p>\n",
    "</div>\n",
    "\n",
    "it is extremly important that we do not over fit the Meta-learning classifier. For this reason very light weight classfier should be used. lets start with Linear regression first and see how it predicts."
   ]
  },
  {
   "cell_type": "code",
   "execution_count": 19,
   "id": "246e7d39",
   "metadata": {
    "execution": {
     "iopub.execute_input": "2022-05-24T15:16:05.998652Z",
     "iopub.status.busy": "2022-05-24T15:16:05.997646Z",
     "iopub.status.idle": "2022-05-24T15:16:14.721852Z",
     "shell.execute_reply": "2022-05-24T15:16:14.720672Z",
     "shell.execute_reply.started": "2022-05-24T10:27:21.152342Z"
    },
    "papermill": {
     "duration": 8.823264,
     "end_time": "2022-05-24T15:16:14.722065",
     "exception": false,
     "start_time": "2022-05-24T15:16:05.898801",
     "status": "completed"
    },
    "tags": []
   },
   "outputs": [
    {
     "name": "stdout",
     "output_type": "stream",
     "text": [
      " 0\n",
      "Batch 0 started...\n",
      "auc of this val set is 0.9985263181306686\n",
      "Batch 1 started...\n",
      "auc of this val set is 0.9985022477726827\n",
      " 1\n",
      "Batch 0 started...\n",
      "auc of this val set is 0.9985011985081995\n",
      "Batch 1 started...\n",
      "auc of this val set is 0.9985348363293567\n",
      " 2\n",
      "Batch 0 started...\n",
      "auc of this val set is 0.9985016904823726\n",
      "Batch 1 started...\n",
      "auc of this val set is 0.9985212664996728\n",
      " 3\n",
      "Batch 0 started...\n",
      "auc of this val set is 0.998480301624512\n",
      "Batch 1 started...\n",
      "auc of this val set is 0.9985384342750969\n",
      " 4\n",
      "Batch 0 started...\n",
      "auc of this val set is 0.9985106971204466\n",
      "Batch 1 started...\n",
      "auc of this val set is 0.9985086921227948\n",
      " 5\n",
      "Batch 0 started...\n",
      "auc of this val set is 0.9985463529525727\n",
      "Batch 1 started...\n",
      "auc of this val set is 0.9984842139426428\n",
      " 6\n",
      "Batch 0 started...\n",
      "auc of this val set is 0.9985282381306455\n",
      "Batch 1 started...\n",
      "auc of this val set is 0.9984901687105703\n",
      " 7\n",
      "Batch 0 started...\n",
      "auc of this val set is 0.9984741102181061\n",
      "Batch 1 started...\n",
      "auc of this val set is 0.9985588492809099\n",
      " 8\n",
      "Batch 0 started...\n",
      "auc of this val set is 0.9985431666251493\n",
      "Batch 1 started...\n",
      "auc of this val set is 0.9984890178850517\n",
      " 9\n",
      "Batch 0 started...\n",
      "auc of this val set is 0.9984689835499223\n",
      "Batch 1 started...\n",
      "auc of this val set is 0.9985562171169268\n"
     ]
    }
   ],
   "source": [
    "from sklearn.linear_model import LinearRegression\n",
    "model_lr = LinearRegression()\n",
    "pred_list_lr = []\n",
    "for seed in range(10):\n",
    "    print(f\"{seed:2}\")\n",
    "    folds = StratifiedKFold(n_splits=2, shuffle=True, random_state=seed)\n",
    "    for fold_index, (train_index,val_index) in enumerate(folds.split(x,y)):\n",
    "        print('Batch {} started...'.format(fold_index))\n",
    "        bst = model_lr.fit(x[train_index],y[train_index])\n",
    "        val[val_index] = model_lr.predict(x[val_index])\n",
    "        print('auc of this val set is {}'.format(roc_auc_score(y[val_index],val[val_index])))\n",
    "    pred_list_lr.append(model_lr.predict(Metainput_test2))\n"
   ]
  },
  {
   "cell_type": "markdown",
   "id": "c24aac04",
   "metadata": {
    "papermill": {
     "duration": 0.095328,
     "end_time": "2022-05-24T15:16:14.974541",
     "exception": false,
     "start_time": "2022-05-24T15:16:14.879213",
     "status": "completed"
    },
    "tags": []
   },
   "source": [
    "### Based on the above its can be seen that Linear repression based Meta-classifier is unable to increase the accuracy  when compared with level-0 CNN model.\n",
    "### I have tried various models as Meta-classifier(Catboost, XGB, RF and Ridge...) with an object not to overfit the model. The following has proven to be best one."
   ]
  },
  {
   "cell_type": "markdown",
   "id": "c4e567c0",
   "metadata": {
    "papermill": {
     "duration": 0.094322,
     "end_time": "2022-05-24T15:16:15.163966",
     "exception": false,
     "start_time": "2022-05-24T15:16:15.069644",
     "status": "completed"
    },
    "tags": []
   },
   "source": [
    "<a id=\"13\"></a><h2></h2>\n",
    "<div style=\"color:white;display:fill;border-radius:8px;\n",
    "            background-color:#DAA520;font-size:150%;\n",
    "            font-family:Nexa;letter-spacing:0.5px\">\n",
    "    <p style=\"padding: 8px;color:black;\"><b>4.2 |  Meta learning classifier- RandomForestRegressor</b></p>\n",
    "</div>"
   ]
  },
  {
   "cell_type": "code",
   "execution_count": 20,
   "id": "8fa4e5e3",
   "metadata": {
    "execution": {
     "iopub.execute_input": "2022-05-24T15:16:15.408119Z",
     "iopub.status.busy": "2022-05-24T15:16:15.406888Z",
     "iopub.status.idle": "2022-05-24T15:17:10.427294Z",
     "shell.execute_reply": "2022-05-24T15:17:10.426816Z",
     "shell.execute_reply.started": "2022-05-24T10:27:21.542520Z"
    },
    "papermill": {
     "duration": 55.168887,
     "end_time": "2022-05-24T15:17:10.427445",
     "exception": false,
     "start_time": "2022-05-24T15:16:15.258558",
     "status": "completed"
    },
    "tags": []
   },
   "outputs": [
    {
     "name": "stdout",
     "output_type": "stream",
     "text": [
      "0.9998820698557146\n",
      "0.9998708659106026\n",
      "0.9998845790548639\n",
      "0.9998731674951156\n",
      "0.9998663221599727\n"
     ]
    }
   ],
   "source": [
    "from sklearn.metrics import auc\n",
    "clf = RandomForestClassifier(\n",
    "    n_estimators=5,\n",
    ")\n",
    "def compute_roc_auc(index):\n",
    "    y_predict = clf.predict_proba(x.iloc[index])[:,1]\n",
    "    fpr, tpr, thresholds = roc_curve(y.iloc[index], y_predict)\n",
    "    auc_score = auc(fpr, tpr)\n",
    "    \n",
    "    return fpr, tpr, auc_score\n",
    "cv = StratifiedKFold(n_splits=5, random_state=123, shuffle=True)\n",
    "results = pd.DataFrame(columns=['training_score', 'test_score'])\n",
    "fprs, tprs, scores = [], [], []\n",
    "\n",
    "\n",
    "x = Metainput_train2[imp_features_notarget]\n",
    "y = Metainput_train2['target']\n",
    "x_test = Metainput_test2[imp_features_notarget].values\n",
    "pred_metarf_list = []\n",
    "for (train_meta, test_meta), i in zip(cv.split(x, y), range(10)):\n",
    "    clf.fit(x.iloc[train_meta], y.iloc[train_meta])\n",
    "    _, _, auc_score_train = compute_roc_auc(train_meta)\n",
    "    print(auc_score_train)\n",
    "    fpr, tpr, auc_score = compute_roc_auc(test_meta)\n",
    "    scores.append((auc_score_train, auc_score))\n",
    "    fprs.append(fpr)\n",
    "    tprs.append(tpr)\n",
    "    clf.fit(x.iloc[train_meta], y.iloc[train_meta])\n",
    "    pred_metarf_list.append( (clf.predict_proba(Metainput_test2[imp_features_notarget].values)[:,1]))"
   ]
  },
  {
   "cell_type": "markdown",
   "id": "773358e2",
   "metadata": {
    "papermill": {
     "duration": 0.098043,
     "end_time": "2022-05-24T15:17:10.624236",
     "exception": false,
     "start_time": "2022-05-24T15:17:10.526193",
     "status": "completed"
    },
    "tags": []
   },
   "source": [
    "<img src= \"https://coolwallpapers.me/th700/6044454-homer-simpson-wowooooooooo-homer-simpson-simpsons-the-simpsons.jpg\" alt =\"TPA MAY\" style='width: 400px;'>\n",
    "<br>\n",
    "\n",
    "## The meta-classfier is predicting the training set with a score of 0.9998 for all the folds, which is great. The LB score of test data is 0.99545. But I belive, similar to TPS March2022 and other previous competitions Public LB score is bit of misleading. "
   ]
  },
  {
   "cell_type": "code",
   "execution_count": 21,
   "id": "6f0b2d4b",
   "metadata": {
    "execution": {
     "iopub.execute_input": "2022-05-24T15:17:10.827109Z",
     "iopub.status.busy": "2022-05-24T15:17:10.826070Z",
     "iopub.status.idle": "2022-05-24T15:17:12.400860Z",
     "shell.execute_reply": "2022-05-24T15:17:12.402714Z",
     "shell.execute_reply.started": "2022-05-24T10:27:22.994908Z"
    },
    "papermill": {
     "duration": 1.681402,
     "end_time": "2022-05-24T15:17:12.402955",
     "exception": false,
     "start_time": "2022-05-24T15:17:10.721553",
     "status": "completed"
    },
    "tags": []
   },
   "outputs": [
    {
     "data": {
      "text/html": [
       "<div>\n",
       "<style scoped>\n",
       "    .dataframe tbody tr th:only-of-type {\n",
       "        vertical-align: middle;\n",
       "    }\n",
       "\n",
       "    .dataframe tbody tr th {\n",
       "        vertical-align: top;\n",
       "    }\n",
       "\n",
       "    .dataframe thead th {\n",
       "        text-align: right;\n",
       "    }\n",
       "</style>\n",
       "<table border=\"1\" class=\"dataframe\">\n",
       "  <thead>\n",
       "    <tr style=\"text-align: right;\">\n",
       "      <th></th>\n",
       "      <th>id</th>\n",
       "      <th>target</th>\n",
       "    </tr>\n",
       "  </thead>\n",
       "  <tbody>\n",
       "    <tr>\n",
       "      <th>0</th>\n",
       "      <td>900000</td>\n",
       "      <td>9.600000e-01</td>\n",
       "    </tr>\n",
       "    <tr>\n",
       "      <th>1</th>\n",
       "      <td>900001</td>\n",
       "      <td>9.600000e-01</td>\n",
       "    </tr>\n",
       "    <tr>\n",
       "      <th>2</th>\n",
       "      <td>900002</td>\n",
       "      <td>0.000000e+00</td>\n",
       "    </tr>\n",
       "    <tr>\n",
       "      <th>3</th>\n",
       "      <td>900003</td>\n",
       "      <td>6.865146e-07</td>\n",
       "    </tr>\n",
       "    <tr>\n",
       "      <th>4</th>\n",
       "      <td>900004</td>\n",
       "      <td>9.600000e-01</td>\n",
       "    </tr>\n",
       "    <tr>\n",
       "      <th>...</th>\n",
       "      <td>...</td>\n",
       "      <td>...</td>\n",
       "    </tr>\n",
       "    <tr>\n",
       "      <th>699995</th>\n",
       "      <td>1599995</td>\n",
       "      <td>3.600000e-01</td>\n",
       "    </tr>\n",
       "    <tr>\n",
       "      <th>699996</th>\n",
       "      <td>1599996</td>\n",
       "      <td>9.600000e-01</td>\n",
       "    </tr>\n",
       "    <tr>\n",
       "      <th>699997</th>\n",
       "      <td>1599997</td>\n",
       "      <td>0.000000e+00</td>\n",
       "    </tr>\n",
       "    <tr>\n",
       "      <th>699998</th>\n",
       "      <td>1599998</td>\n",
       "      <td>6.865146e-07</td>\n",
       "    </tr>\n",
       "    <tr>\n",
       "      <th>699999</th>\n",
       "      <td>1599999</td>\n",
       "      <td>6.865146e-07</td>\n",
       "    </tr>\n",
       "  </tbody>\n",
       "</table>\n",
       "<p>700000 rows × 2 columns</p>\n",
       "</div>"
      ],
      "text/plain": [
       "             id        target\n",
       "0        900000  9.600000e-01\n",
       "1        900001  9.600000e-01\n",
       "2        900002  0.000000e+00\n",
       "3        900003  6.865146e-07\n",
       "4        900004  9.600000e-01\n",
       "...         ...           ...\n",
       "699995  1599995  3.600000e-01\n",
       "699996  1599996  9.600000e-01\n",
       "699997  1599997  0.000000e+00\n",
       "699998  1599998  6.865146e-07\n",
       "699999  1599999  6.865146e-07\n",
       "\n",
       "[700000 rows x 2 columns]"
      ]
     },
     "execution_count": 21,
     "metadata": {},
     "output_type": "execute_result"
    }
   ],
   "source": [
    "submission = test[['id']].copy()\n",
    "submission['target'] = np.array(pred_metarf_list).mean(axis=0)\n",
    "submission.to_csv('submission.csv', index=False)\n",
    "submission"
   ]
  },
  {
   "cell_type": "markdown",
   "id": "f2929386",
   "metadata": {
    "papermill": {
     "duration": 0.162524,
     "end_time": "2022-05-24T15:17:12.728685",
     "exception": false,
     "start_time": "2022-05-24T15:17:12.566161",
     "status": "completed"
    },
    "tags": []
   },
   "source": [
    "<a id=\"14\"></a><h2></h2>\n",
    "<div style=\"background-color:rgba(0, 153, 0, 0.5);border-radius: 15px 50px;display:fill\">\n",
    "    <h1><center>4. References </center></h1>\n",
    "</div>"
   ]
  },
  {
   "cell_type": "markdown",
   "id": "640327eb",
   "metadata": {
    "papermill": {
     "duration": 0.09706,
     "end_time": "2022-05-24T15:17:12.975852",
     "exception": false,
     "start_time": "2022-05-24T15:17:12.878792",
     "status": "completed"
    },
    "tags": []
   },
   "source": [
    "https://www.kaggle.com/code/javigallego/tps-apr22-eda-fe-lstm-tutorial#1-|-Introduction <br>\n",
    "https://www.kaggle.com/code/andreshg/tps-apr-data-visualization-and-highlights <br>\n",
    "https://machinelearningmastery.com/histogram-based-gradient-boosting-ensembles/ <br>\n",
    "https://www.kaggle.com/code/serigne/stacked-regressions-top-4-on-leaderboard <br>\n",
    "https://yanpuli.github.io/posts/2018/01/blog-post-10/ <br>"
   ]
  }
 ],
 "metadata": {
  "hide_input": false,
  "kernelspec": {
   "display_name": "Python 3 (ipykernel)",
   "language": "python",
   "name": "python3"
  },
  "language_info": {
   "codemirror_mode": {
    "name": "ipython",
    "version": 3
   },
   "file_extension": ".py",
   "mimetype": "text/x-python",
   "name": "python",
   "nbconvert_exporter": "python",
   "pygments_lexer": "ipython3",
   "version": "3.9.7"
  },
  "nbTranslate": {
   "displayLangs": [
    "en",
    "pt-br"
   ],
   "hotkey": "",
   "langInMainMenu": true,
   "sourceLang": "en",
   "targetLang": "pt-br",
   "useGoogleTranslate": true
  },
  "papermill": {
   "default_parameters": {},
   "duration": 16898.086673,
   "end_time": "2022-05-24T15:17:15.823598",
   "environment_variables": {},
   "exception": null,
   "input_path": "__notebook__.ipynb",
   "output_path": "__notebook__.ipynb",
   "parameters": {},
   "start_time": "2022-05-24T10:35:37.736925",
   "version": "2.3.3"
  },
  "toc": {
   "base_numbering": 1,
   "nav_menu": {},
   "number_sections": false,
   "sideBar": false,
   "skip_h1_title": false,
   "title_cell": "Table of Contents",
   "title_sidebar": "Contents",
   "toc_cell": false,
   "toc_position": {
    "height": "calc(100% - 180px)",
    "left": "10px",
    "top": "150px",
    "width": "304.475px"
   },
   "toc_section_display": false,
   "toc_window_display": false
  }
 },
 "nbformat": 4,
 "nbformat_minor": 5
}
