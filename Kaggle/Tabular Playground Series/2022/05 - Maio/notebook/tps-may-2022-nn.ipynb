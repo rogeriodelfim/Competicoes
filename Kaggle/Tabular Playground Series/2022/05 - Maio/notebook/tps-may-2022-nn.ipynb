{
 "cells": [
  {
   "cell_type": "markdown",
   "id": "0ba3f22d",
   "metadata": {
    "papermill": {
     "duration": 0.023912,
     "end_time": "2022-05-04T23:17:51.850420",
     "exception": false,
     "start_time": "2022-05-04T23:17:51.826508",
     "status": "completed"
    },
    "tags": []
   },
   "source": [
    "# Importing Libraries and Loading datasets"
   ]
  },
  {
   "cell_type": "code",
   "execution_count": 1,
   "id": "b2998a15",
   "metadata": {
    "_kg_hide-input": true,
    "execution": {
     "iopub.execute_input": "2022-05-04T23:17:51.898003Z",
     "iopub.status.busy": "2022-05-04T23:17:51.897502Z",
     "iopub.status.idle": "2022-05-04T23:17:59.462858Z",
     "shell.execute_reply": "2022-05-04T23:17:59.461581Z"
    },
    "papermill": {
     "duration": 7.592422,
     "end_time": "2022-05-04T23:17:59.465569",
     "exception": false,
     "start_time": "2022-05-04T23:17:51.873147",
     "status": "completed"
    },
    "tags": []
   },
   "outputs": [],
   "source": [
    "import os\n",
    "import random\n",
    "import numpy as np\n",
    "import pandas as pd\n",
    "\n",
    "import seaborn as sns\n",
    "import matplotlib.pyplot as plt\n",
    "\n",
    "import tensorflow as tf\n",
    "tf.config.threading.set_intra_op_parallelism_threads(6)\n",
    "tf.config.threading.set_inter_op_parallelism_threads(2)\n",
    "\n",
    "from tensorflow import keras\n",
    "from tensorflow.keras import layers, callbacks\n",
    "\n",
    "from sklearn.pipeline import make_pipeline\n",
    "from sklearn.compose import make_column_transformer\n",
    "from sklearn.preprocessing import StandardScaler, MinMaxScaler\n",
    "\n",
    "from sklearn.metrics import roc_auc_score\n",
    "from sklearn.model_selection import StratifiedKFold"
   ]
  },
  {
   "cell_type": "code",
   "execution_count": 2,
   "id": "f910151f",
   "metadata": {
    "_cell_guid": "b1076dfc-b9ad-4769-8c92-a6c4dae69d19",
    "_uuid": "8f2839f25d086af736a60e9eeb907d3b93b6e0e5",
    "execution": {
     "iopub.execute_input": "2022-05-04T23:17:59.514504Z",
     "iopub.status.busy": "2022-05-04T23:17:59.514042Z",
     "iopub.status.idle": "2022-05-04T23:18:15.580468Z",
     "shell.execute_reply": "2022-05-04T23:18:15.579473Z"
    },
    "papermill": {
     "duration": 16.093104,
     "end_time": "2022-05-04T23:18:15.583022",
     "exception": false,
     "start_time": "2022-05-04T23:17:59.489918",
     "status": "completed"
    },
    "tags": []
   },
   "outputs": [],
   "source": [
    "train = pd.read_csv('../input/tabular-playground-series-may-2022/train.csv', index_col=0)\n",
    "test = pd.read_csv('../input/tabular-playground-series-may-2022/test.csv', index_col=0)\n",
    "sub = pd.read_csv('../input/tabular-playground-series-may-2022/sample_submission.csv')"
   ]
  },
  {
   "cell_type": "markdown",
   "id": "f354c8dc",
   "metadata": {
    "papermill": {
     "duration": 0.0219,
     "end_time": "2022-05-04T23:18:15.627488",
     "exception": false,
     "start_time": "2022-05-04T23:18:15.605588",
     "status": "completed"
    },
    "tags": []
   },
   "source": [
    "# Explore Data"
   ]
  },
  {
   "cell_type": "code",
   "execution_count": 3,
   "id": "16e9b4df",
   "metadata": {
    "_kg_hide-input": true,
    "execution": {
     "iopub.execute_input": "2022-05-04T23:18:15.675672Z",
     "iopub.status.busy": "2022-05-04T23:18:15.675357Z",
     "iopub.status.idle": "2022-05-04T23:18:15.710575Z",
     "shell.execute_reply": "2022-05-04T23:18:15.709486Z"
    },
    "papermill": {
     "duration": 0.063239,
     "end_time": "2022-05-04T23:18:15.713656",
     "exception": false,
     "start_time": "2022-05-04T23:18:15.650417",
     "status": "completed"
    },
    "tags": []
   },
   "outputs": [
    {
     "data": {
      "text/html": [
       "<div>\n",
       "<style scoped>\n",
       "    .dataframe tbody tr th:only-of-type {\n",
       "        vertical-align: middle;\n",
       "    }\n",
       "\n",
       "    .dataframe tbody tr th {\n",
       "        vertical-align: top;\n",
       "    }\n",
       "\n",
       "    .dataframe thead th {\n",
       "        text-align: right;\n",
       "    }\n",
       "</style>\n",
       "<table border=\"1\" class=\"dataframe\">\n",
       "  <thead>\n",
       "    <tr style=\"text-align: right;\">\n",
       "      <th></th>\n",
       "      <th>f_00</th>\n",
       "      <th>f_01</th>\n",
       "      <th>f_02</th>\n",
       "      <th>f_03</th>\n",
       "      <th>f_04</th>\n",
       "      <th>f_05</th>\n",
       "      <th>f_06</th>\n",
       "      <th>f_07</th>\n",
       "      <th>f_08</th>\n",
       "      <th>f_09</th>\n",
       "      <th>...</th>\n",
       "      <th>f_22</th>\n",
       "      <th>f_23</th>\n",
       "      <th>f_24</th>\n",
       "      <th>f_25</th>\n",
       "      <th>f_26</th>\n",
       "      <th>f_27</th>\n",
       "      <th>f_28</th>\n",
       "      <th>f_29</th>\n",
       "      <th>f_30</th>\n",
       "      <th>target</th>\n",
       "    </tr>\n",
       "    <tr>\n",
       "      <th>id</th>\n",
       "      <th></th>\n",
       "      <th></th>\n",
       "      <th></th>\n",
       "      <th></th>\n",
       "      <th></th>\n",
       "      <th></th>\n",
       "      <th></th>\n",
       "      <th></th>\n",
       "      <th></th>\n",
       "      <th></th>\n",
       "      <th></th>\n",
       "      <th></th>\n",
       "      <th></th>\n",
       "      <th></th>\n",
       "      <th></th>\n",
       "      <th></th>\n",
       "      <th></th>\n",
       "      <th></th>\n",
       "      <th></th>\n",
       "      <th></th>\n",
       "      <th></th>\n",
       "    </tr>\n",
       "  </thead>\n",
       "  <tbody>\n",
       "    <tr>\n",
       "      <th>0</th>\n",
       "      <td>-1.373246</td>\n",
       "      <td>0.238887</td>\n",
       "      <td>-0.243376</td>\n",
       "      <td>0.567405</td>\n",
       "      <td>-0.647715</td>\n",
       "      <td>0.839326</td>\n",
       "      <td>0.113133</td>\n",
       "      <td>1</td>\n",
       "      <td>5</td>\n",
       "      <td>1</td>\n",
       "      <td>...</td>\n",
       "      <td>-2.540739</td>\n",
       "      <td>0.766952</td>\n",
       "      <td>-2.730628</td>\n",
       "      <td>-0.208177</td>\n",
       "      <td>1.363402</td>\n",
       "      <td>ABABDADBAB</td>\n",
       "      <td>67.609153</td>\n",
       "      <td>0</td>\n",
       "      <td>0</td>\n",
       "      <td>0</td>\n",
       "    </tr>\n",
       "    <tr>\n",
       "      <th>1</th>\n",
       "      <td>1.697021</td>\n",
       "      <td>-1.710322</td>\n",
       "      <td>-2.230332</td>\n",
       "      <td>-0.545661</td>\n",
       "      <td>1.113173</td>\n",
       "      <td>-1.552175</td>\n",
       "      <td>0.447825</td>\n",
       "      <td>1</td>\n",
       "      <td>3</td>\n",
       "      <td>4</td>\n",
       "      <td>...</td>\n",
       "      <td>2.278315</td>\n",
       "      <td>-0.633658</td>\n",
       "      <td>-1.217077</td>\n",
       "      <td>-3.782194</td>\n",
       "      <td>-0.058316</td>\n",
       "      <td>ACACCADCEB</td>\n",
       "      <td>377.096415</td>\n",
       "      <td>0</td>\n",
       "      <td>0</td>\n",
       "      <td>1</td>\n",
       "    </tr>\n",
       "    <tr>\n",
       "      <th>2</th>\n",
       "      <td>1.681726</td>\n",
       "      <td>0.616746</td>\n",
       "      <td>-1.027689</td>\n",
       "      <td>0.810492</td>\n",
       "      <td>-0.609086</td>\n",
       "      <td>0.113965</td>\n",
       "      <td>-0.708660</td>\n",
       "      <td>1</td>\n",
       "      <td>0</td>\n",
       "      <td>2</td>\n",
       "      <td>...</td>\n",
       "      <td>-1.385775</td>\n",
       "      <td>-0.520558</td>\n",
       "      <td>-0.009121</td>\n",
       "      <td>2.788536</td>\n",
       "      <td>-3.703488</td>\n",
       "      <td>AAAEABCKAD</td>\n",
       "      <td>-195.599702</td>\n",
       "      <td>0</td>\n",
       "      <td>2</td>\n",
       "      <td>1</td>\n",
       "    </tr>\n",
       "    <tr>\n",
       "      <th>3</th>\n",
       "      <td>-0.118172</td>\n",
       "      <td>-0.587835</td>\n",
       "      <td>-0.804638</td>\n",
       "      <td>2.086822</td>\n",
       "      <td>0.371005</td>\n",
       "      <td>-0.128831</td>\n",
       "      <td>-0.282575</td>\n",
       "      <td>3</td>\n",
       "      <td>2</td>\n",
       "      <td>1</td>\n",
       "      <td>...</td>\n",
       "      <td>0.572594</td>\n",
       "      <td>-1.653213</td>\n",
       "      <td>1.686035</td>\n",
       "      <td>-2.533098</td>\n",
       "      <td>-0.608601</td>\n",
       "      <td>BDBBAACBCB</td>\n",
       "      <td>210.826205</td>\n",
       "      <td>0</td>\n",
       "      <td>0</td>\n",
       "      <td>1</td>\n",
       "    </tr>\n",
       "    <tr>\n",
       "      <th>4</th>\n",
       "      <td>1.148481</td>\n",
       "      <td>-0.176567</td>\n",
       "      <td>-0.664871</td>\n",
       "      <td>-1.101343</td>\n",
       "      <td>0.467875</td>\n",
       "      <td>0.500117</td>\n",
       "      <td>0.407515</td>\n",
       "      <td>3</td>\n",
       "      <td>3</td>\n",
       "      <td>0</td>\n",
       "      <td>...</td>\n",
       "      <td>-3.912929</td>\n",
       "      <td>-1.430366</td>\n",
       "      <td>2.127649</td>\n",
       "      <td>-3.306784</td>\n",
       "      <td>4.371371</td>\n",
       "      <td>BDBCBBCHFE</td>\n",
       "      <td>-217.211798</td>\n",
       "      <td>0</td>\n",
       "      <td>1</td>\n",
       "      <td>1</td>\n",
       "    </tr>\n",
       "  </tbody>\n",
       "</table>\n",
       "<p>5 rows × 32 columns</p>\n",
       "</div>"
      ],
      "text/plain": [
       "        f_00      f_01      f_02      f_03      f_04      f_05      f_06  \\\n",
       "id                                                                         \n",
       "0  -1.373246  0.238887 -0.243376  0.567405 -0.647715  0.839326  0.113133   \n",
       "1   1.697021 -1.710322 -2.230332 -0.545661  1.113173 -1.552175  0.447825   \n",
       "2   1.681726  0.616746 -1.027689  0.810492 -0.609086  0.113965 -0.708660   \n",
       "3  -0.118172 -0.587835 -0.804638  2.086822  0.371005 -0.128831 -0.282575   \n",
       "4   1.148481 -0.176567 -0.664871 -1.101343  0.467875  0.500117  0.407515   \n",
       "\n",
       "    f_07  f_08  f_09  ...      f_22      f_23      f_24      f_25      f_26  \\\n",
       "id                    ...                                                     \n",
       "0      1     5     1  ... -2.540739  0.766952 -2.730628 -0.208177  1.363402   \n",
       "1      1     3     4  ...  2.278315 -0.633658 -1.217077 -3.782194 -0.058316   \n",
       "2      1     0     2  ... -1.385775 -0.520558 -0.009121  2.788536 -3.703488   \n",
       "3      3     2     1  ...  0.572594 -1.653213  1.686035 -2.533098 -0.608601   \n",
       "4      3     3     0  ... -3.912929 -1.430366  2.127649 -3.306784  4.371371   \n",
       "\n",
       "          f_27        f_28  f_29  f_30  target  \n",
       "id                                              \n",
       "0   ABABDADBAB   67.609153     0     0       0  \n",
       "1   ACACCADCEB  377.096415     0     0       1  \n",
       "2   AAAEABCKAD -195.599702     0     2       1  \n",
       "3   BDBBAACBCB  210.826205     0     0       1  \n",
       "4   BDBCBBCHFE -217.211798     0     1       1  \n",
       "\n",
       "[5 rows x 32 columns]"
      ]
     },
     "execution_count": 3,
     "metadata": {},
     "output_type": "execute_result"
    }
   ],
   "source": [
    "train.head()"
   ]
  },
  {
   "cell_type": "code",
   "execution_count": 4,
   "id": "0bc2d08a",
   "metadata": {
    "_kg_hide-input": true,
    "execution": {
     "iopub.execute_input": "2022-05-04T23:18:15.765034Z",
     "iopub.status.busy": "2022-05-04T23:18:15.764756Z",
     "iopub.status.idle": "2022-05-04T23:18:16.937626Z",
     "shell.execute_reply": "2022-05-04T23:18:16.936645Z"
    },
    "papermill": {
     "duration": 1.20008,
     "end_time": "2022-05-04T23:18:16.940151",
     "exception": false,
     "start_time": "2022-05-04T23:18:15.740071",
     "status": "completed"
    },
    "tags": []
   },
   "outputs": [
    {
     "data": {
      "text/html": [
       "<div>\n",
       "<style scoped>\n",
       "    .dataframe tbody tr th:only-of-type {\n",
       "        vertical-align: middle;\n",
       "    }\n",
       "\n",
       "    .dataframe tbody tr th {\n",
       "        vertical-align: top;\n",
       "    }\n",
       "\n",
       "    .dataframe thead th {\n",
       "        text-align: right;\n",
       "    }\n",
       "</style>\n",
       "<table border=\"1\" class=\"dataframe\">\n",
       "  <thead>\n",
       "    <tr style=\"text-align: right;\">\n",
       "      <th></th>\n",
       "      <th>f_00</th>\n",
       "      <th>f_01</th>\n",
       "      <th>f_02</th>\n",
       "      <th>f_03</th>\n",
       "      <th>f_04</th>\n",
       "      <th>f_05</th>\n",
       "      <th>f_06</th>\n",
       "      <th>f_07</th>\n",
       "      <th>f_08</th>\n",
       "      <th>f_09</th>\n",
       "      <th>...</th>\n",
       "      <th>f_21</th>\n",
       "      <th>f_22</th>\n",
       "      <th>f_23</th>\n",
       "      <th>f_24</th>\n",
       "      <th>f_25</th>\n",
       "      <th>f_26</th>\n",
       "      <th>f_28</th>\n",
       "      <th>f_29</th>\n",
       "      <th>f_30</th>\n",
       "      <th>target</th>\n",
       "    </tr>\n",
       "  </thead>\n",
       "  <tbody>\n",
       "    <tr>\n",
       "      <th>count</th>\n",
       "      <td>900000.000000</td>\n",
       "      <td>900000.000000</td>\n",
       "      <td>900000.000000</td>\n",
       "      <td>900000.000000</td>\n",
       "      <td>900000.000000</td>\n",
       "      <td>900000.000000</td>\n",
       "      <td>900000.000000</td>\n",
       "      <td>900000.000000</td>\n",
       "      <td>900000.000000</td>\n",
       "      <td>900000.000000</td>\n",
       "      <td>...</td>\n",
       "      <td>900000.000000</td>\n",
       "      <td>900000.000000</td>\n",
       "      <td>900000.000000</td>\n",
       "      <td>900000.000000</td>\n",
       "      <td>900000.000000</td>\n",
       "      <td>900000.000000</td>\n",
       "      <td>900000.000000</td>\n",
       "      <td>900000.000000</td>\n",
       "      <td>900000.000000</td>\n",
       "      <td>900000.000000</td>\n",
       "    </tr>\n",
       "    <tr>\n",
       "      <th>mean</th>\n",
       "      <td>-0.000286</td>\n",
       "      <td>0.001165</td>\n",
       "      <td>0.001174</td>\n",
       "      <td>-0.001368</td>\n",
       "      <td>-0.000571</td>\n",
       "      <td>0.000284</td>\n",
       "      <td>-0.000709</td>\n",
       "      <td>2.031460</td>\n",
       "      <td>2.057998</td>\n",
       "      <td>2.362431</td>\n",
       "      <td>...</td>\n",
       "      <td>-0.156307</td>\n",
       "      <td>-0.009273</td>\n",
       "      <td>-0.369459</td>\n",
       "      <td>-0.342738</td>\n",
       "      <td>0.176549</td>\n",
       "      <td>0.357591</td>\n",
       "      <td>-0.380876</td>\n",
       "      <td>0.345661</td>\n",
       "      <td>1.002654</td>\n",
       "      <td>0.486488</td>\n",
       "    </tr>\n",
       "    <tr>\n",
       "      <th>std</th>\n",
       "      <td>0.998888</td>\n",
       "      <td>0.999193</td>\n",
       "      <td>1.000514</td>\n",
       "      <td>1.000175</td>\n",
       "      <td>1.000167</td>\n",
       "      <td>0.999875</td>\n",
       "      <td>0.999942</td>\n",
       "      <td>1.656172</td>\n",
       "      <td>1.590955</td>\n",
       "      <td>1.637706</td>\n",
       "      <td>...</td>\n",
       "      <td>2.484706</td>\n",
       "      <td>2.450797</td>\n",
       "      <td>2.453405</td>\n",
       "      <td>2.386941</td>\n",
       "      <td>2.416959</td>\n",
       "      <td>2.476020</td>\n",
       "      <td>238.773054</td>\n",
       "      <td>0.475584</td>\n",
       "      <td>0.818989</td>\n",
       "      <td>0.499818</td>\n",
       "    </tr>\n",
       "    <tr>\n",
       "      <th>min</th>\n",
       "      <td>-4.599856</td>\n",
       "      <td>-4.682199</td>\n",
       "      <td>-4.642676</td>\n",
       "      <td>-4.658816</td>\n",
       "      <td>-4.748501</td>\n",
       "      <td>-4.750214</td>\n",
       "      <td>-4.842919</td>\n",
       "      <td>0.000000</td>\n",
       "      <td>0.000000</td>\n",
       "      <td>0.000000</td>\n",
       "      <td>...</td>\n",
       "      <td>-13.310146</td>\n",
       "      <td>-11.853530</td>\n",
       "      <td>-12.301097</td>\n",
       "      <td>-11.416189</td>\n",
       "      <td>-11.918306</td>\n",
       "      <td>-14.300577</td>\n",
       "      <td>-1229.753052</td>\n",
       "      <td>0.000000</td>\n",
       "      <td>0.000000</td>\n",
       "      <td>0.000000</td>\n",
       "    </tr>\n",
       "    <tr>\n",
       "      <th>25%</th>\n",
       "      <td>-0.675490</td>\n",
       "      <td>-0.675162</td>\n",
       "      <td>-0.674369</td>\n",
       "      <td>-0.676114</td>\n",
       "      <td>-0.675909</td>\n",
       "      <td>-0.673437</td>\n",
       "      <td>-0.674876</td>\n",
       "      <td>1.000000</td>\n",
       "      <td>1.000000</td>\n",
       "      <td>1.000000</td>\n",
       "      <td>...</td>\n",
       "      <td>-1.820063</td>\n",
       "      <td>-1.645585</td>\n",
       "      <td>-2.019739</td>\n",
       "      <td>-1.955956</td>\n",
       "      <td>-1.440424</td>\n",
       "      <td>-1.261598</td>\n",
       "      <td>-159.427418</td>\n",
       "      <td>0.000000</td>\n",
       "      <td>0.000000</td>\n",
       "      <td>0.000000</td>\n",
       "    </tr>\n",
       "    <tr>\n",
       "      <th>50%</th>\n",
       "      <td>0.001144</td>\n",
       "      <td>0.002014</td>\n",
       "      <td>0.002218</td>\n",
       "      <td>-0.002227</td>\n",
       "      <td>-0.001662</td>\n",
       "      <td>-0.000438</td>\n",
       "      <td>-0.001492</td>\n",
       "      <td>2.000000</td>\n",
       "      <td>2.000000</td>\n",
       "      <td>2.000000</td>\n",
       "      <td>...</td>\n",
       "      <td>-0.152668</td>\n",
       "      <td>0.030850</td>\n",
       "      <td>-0.390966</td>\n",
       "      <td>-0.340746</td>\n",
       "      <td>0.160912</td>\n",
       "      <td>0.404212</td>\n",
       "      <td>-0.519808</td>\n",
       "      <td>0.000000</td>\n",
       "      <td>1.000000</td>\n",
       "      <td>0.000000</td>\n",
       "    </tr>\n",
       "    <tr>\n",
       "      <th>75%</th>\n",
       "      <td>0.674337</td>\n",
       "      <td>0.675021</td>\n",
       "      <td>0.677505</td>\n",
       "      <td>0.672544</td>\n",
       "      <td>0.673789</td>\n",
       "      <td>0.675028</td>\n",
       "      <td>0.674749</td>\n",
       "      <td>3.000000</td>\n",
       "      <td>3.000000</td>\n",
       "      <td>3.000000</td>\n",
       "      <td>...</td>\n",
       "      <td>1.507071</td>\n",
       "      <td>1.661676</td>\n",
       "      <td>1.255408</td>\n",
       "      <td>1.266673</td>\n",
       "      <td>1.795928</td>\n",
       "      <td>2.028219</td>\n",
       "      <td>158.987357</td>\n",
       "      <td>1.000000</td>\n",
       "      <td>2.000000</td>\n",
       "      <td>1.000000</td>\n",
       "    </tr>\n",
       "    <tr>\n",
       "      <th>max</th>\n",
       "      <td>4.749301</td>\n",
       "      <td>4.815699</td>\n",
       "      <td>4.961982</td>\n",
       "      <td>4.454920</td>\n",
       "      <td>4.948983</td>\n",
       "      <td>4.971881</td>\n",
       "      <td>4.822668</td>\n",
       "      <td>15.000000</td>\n",
       "      <td>16.000000</td>\n",
       "      <td>14.000000</td>\n",
       "      <td>...</td>\n",
       "      <td>14.455426</td>\n",
       "      <td>11.344080</td>\n",
       "      <td>12.247100</td>\n",
       "      <td>12.389844</td>\n",
       "      <td>12.529179</td>\n",
       "      <td>12.913041</td>\n",
       "      <td>1229.562577</td>\n",
       "      <td>1.000000</td>\n",
       "      <td>2.000000</td>\n",
       "      <td>1.000000</td>\n",
       "    </tr>\n",
       "  </tbody>\n",
       "</table>\n",
       "<p>8 rows × 31 columns</p>\n",
       "</div>"
      ],
      "text/plain": [
       "                f_00           f_01           f_02           f_03  \\\n",
       "count  900000.000000  900000.000000  900000.000000  900000.000000   \n",
       "mean       -0.000286       0.001165       0.001174      -0.001368   \n",
       "std         0.998888       0.999193       1.000514       1.000175   \n",
       "min        -4.599856      -4.682199      -4.642676      -4.658816   \n",
       "25%        -0.675490      -0.675162      -0.674369      -0.676114   \n",
       "50%         0.001144       0.002014       0.002218      -0.002227   \n",
       "75%         0.674337       0.675021       0.677505       0.672544   \n",
       "max         4.749301       4.815699       4.961982       4.454920   \n",
       "\n",
       "                f_04           f_05           f_06           f_07  \\\n",
       "count  900000.000000  900000.000000  900000.000000  900000.000000   \n",
       "mean       -0.000571       0.000284      -0.000709       2.031460   \n",
       "std         1.000167       0.999875       0.999942       1.656172   \n",
       "min        -4.748501      -4.750214      -4.842919       0.000000   \n",
       "25%        -0.675909      -0.673437      -0.674876       1.000000   \n",
       "50%        -0.001662      -0.000438      -0.001492       2.000000   \n",
       "75%         0.673789       0.675028       0.674749       3.000000   \n",
       "max         4.948983       4.971881       4.822668      15.000000   \n",
       "\n",
       "                f_08           f_09  ...           f_21           f_22  \\\n",
       "count  900000.000000  900000.000000  ...  900000.000000  900000.000000   \n",
       "mean        2.057998       2.362431  ...      -0.156307      -0.009273   \n",
       "std         1.590955       1.637706  ...       2.484706       2.450797   \n",
       "min         0.000000       0.000000  ...     -13.310146     -11.853530   \n",
       "25%         1.000000       1.000000  ...      -1.820063      -1.645585   \n",
       "50%         2.000000       2.000000  ...      -0.152668       0.030850   \n",
       "75%         3.000000       3.000000  ...       1.507071       1.661676   \n",
       "max        16.000000      14.000000  ...      14.455426      11.344080   \n",
       "\n",
       "                f_23           f_24           f_25           f_26  \\\n",
       "count  900000.000000  900000.000000  900000.000000  900000.000000   \n",
       "mean       -0.369459      -0.342738       0.176549       0.357591   \n",
       "std         2.453405       2.386941       2.416959       2.476020   \n",
       "min       -12.301097     -11.416189     -11.918306     -14.300577   \n",
       "25%        -2.019739      -1.955956      -1.440424      -1.261598   \n",
       "50%        -0.390966      -0.340746       0.160912       0.404212   \n",
       "75%         1.255408       1.266673       1.795928       2.028219   \n",
       "max        12.247100      12.389844      12.529179      12.913041   \n",
       "\n",
       "                f_28           f_29           f_30         target  \n",
       "count  900000.000000  900000.000000  900000.000000  900000.000000  \n",
       "mean       -0.380876       0.345661       1.002654       0.486488  \n",
       "std       238.773054       0.475584       0.818989       0.499818  \n",
       "min     -1229.753052       0.000000       0.000000       0.000000  \n",
       "25%      -159.427418       0.000000       0.000000       0.000000  \n",
       "50%        -0.519808       0.000000       1.000000       0.000000  \n",
       "75%       158.987357       1.000000       2.000000       1.000000  \n",
       "max      1229.562577       1.000000       2.000000       1.000000  \n",
       "\n",
       "[8 rows x 31 columns]"
      ]
     },
     "execution_count": 4,
     "metadata": {},
     "output_type": "execute_result"
    }
   ],
   "source": [
    "train.describe()"
   ]
  },
  {
   "cell_type": "code",
   "execution_count": 5,
   "id": "5df97d80",
   "metadata": {
    "_kg_hide-input": true,
    "execution": {
     "iopub.execute_input": "2022-05-04T23:18:16.996426Z",
     "iopub.status.busy": "2022-05-04T23:18:16.996142Z",
     "iopub.status.idle": "2022-05-04T23:18:17.001895Z",
     "shell.execute_reply": "2022-05-04T23:18:17.000810Z"
    },
    "papermill": {
     "duration": 0.03656,
     "end_time": "2022-05-04T23:18:17.004321",
     "exception": false,
     "start_time": "2022-05-04T23:18:16.967761",
     "status": "completed"
    },
    "tags": []
   },
   "outputs": [
    {
     "name": "stdout",
     "output_type": "stream",
     "text": [
      "Columns: \n",
      "['f_00', 'f_01', 'f_02', 'f_03', 'f_04', 'f_05', 'f_06', 'f_07', 'f_08', 'f_09', 'f_10', 'f_11', 'f_12', 'f_13', 'f_14', 'f_15', 'f_16', 'f_17', 'f_18', 'f_19', 'f_20', 'f_21', 'f_22', 'f_23', 'f_24', 'f_25', 'f_26', 'f_27', 'f_28', 'f_29', 'f_30', 'target']\n"
     ]
    }
   ],
   "source": [
    "print(\"Columns: \\n{0}\".format(list(train.columns)))"
   ]
  },
  {
   "cell_type": "markdown",
   "id": "d26b8330",
   "metadata": {
    "papermill": {
     "duration": 0.026081,
     "end_time": "2022-05-04T23:18:17.055286",
     "exception": false,
     "start_time": "2022-05-04T23:18:17.029205",
     "status": "completed"
    },
    "tags": []
   },
   "source": [
    "# Basic Data Check"
   ]
  },
  {
   "cell_type": "code",
   "execution_count": 6,
   "id": "4d46d521",
   "metadata": {
    "_kg_hide-input": true,
    "execution": {
     "iopub.execute_input": "2022-05-04T23:18:17.108349Z",
     "iopub.status.busy": "2022-05-04T23:18:17.108078Z",
     "iopub.status.idle": "2022-05-04T23:18:17.113150Z",
     "shell.execute_reply": "2022-05-04T23:18:17.112219Z"
    },
    "papermill": {
     "duration": 0.034027,
     "end_time": "2022-05-04T23:18:17.115847",
     "exception": false,
     "start_time": "2022-05-04T23:18:17.081820",
     "status": "completed"
    },
    "tags": []
   },
   "outputs": [
    {
     "name": "stdout",
     "output_type": "stream",
     "text": [
      "Train data shape: (900000, 32)\n",
      "Test data shape: (700000, 31)\n"
     ]
    }
   ],
   "source": [
    "print('Train data shape:', train.shape)\n",
    "print('Test data shape:', test.shape)"
   ]
  },
  {
   "cell_type": "markdown",
   "id": "17a030b6",
   "metadata": {
    "papermill": {
     "duration": 0.024922,
     "end_time": "2022-05-04T23:18:17.167284",
     "exception": false,
     "start_time": "2022-05-04T23:18:17.142362",
     "status": "completed"
    },
    "tags": []
   },
   "source": [
    "## Missing values"
   ]
  },
  {
   "cell_type": "code",
   "execution_count": 7,
   "id": "b2012d4d",
   "metadata": {
    "_kg_hide-input": true,
    "execution": {
     "iopub.execute_input": "2022-05-04T23:18:17.218857Z",
     "iopub.status.busy": "2022-05-04T23:18:17.218529Z",
     "iopub.status.idle": "2022-05-04T23:18:17.426695Z",
     "shell.execute_reply": "2022-05-04T23:18:17.426061Z"
    },
    "papermill": {
     "duration": 0.236687,
     "end_time": "2022-05-04T23:18:17.428834",
     "exception": false,
     "start_time": "2022-05-04T23:18:17.192147",
     "status": "completed"
    },
    "tags": []
   },
   "outputs": [
    {
     "name": "stdout",
     "output_type": "stream",
     "text": [
      "Missing values in train data: []\n",
      "Missing values in test data: []\n"
     ]
    }
   ],
   "source": [
    "missing_values_train = train.isna().any().sum()\n",
    "print('Missing values in train data: {0}'.format(missing_values_train[missing_values_train > 0]))\n",
    "\n",
    "missing_values_test = test.isna().any().sum()\n",
    "print('Missing values in test data: {0}'.format(missing_values_test[missing_values_test > 0]))"
   ]
  },
  {
   "cell_type": "markdown",
   "id": "27fce4d8",
   "metadata": {
    "papermill": {
     "duration": 0.025145,
     "end_time": "2022-05-04T23:18:17.479295",
     "exception": false,
     "start_time": "2022-05-04T23:18:17.454150",
     "status": "completed"
    },
    "tags": []
   },
   "source": [
    "## Duplicates"
   ]
  },
  {
   "cell_type": "code",
   "execution_count": 8,
   "id": "90b642a4",
   "metadata": {
    "_kg_hide-input": true,
    "execution": {
     "iopub.execute_input": "2022-05-04T23:18:17.531720Z",
     "iopub.status.busy": "2022-05-04T23:18:17.531348Z",
     "iopub.status.idle": "2022-05-04T23:18:22.165863Z",
     "shell.execute_reply": "2022-05-04T23:18:22.164989Z"
    },
    "papermill": {
     "duration": 4.66337,
     "end_time": "2022-05-04T23:18:22.168041",
     "exception": false,
     "start_time": "2022-05-04T23:18:17.504671",
     "status": "completed"
    },
    "tags": []
   },
   "outputs": [
    {
     "name": "stdout",
     "output_type": "stream",
     "text": [
      "Duplicates in train data: 0\n",
      "Duplicates in test data: 0\n"
     ]
    }
   ],
   "source": [
    "duplicates_train = train.duplicated().sum()\n",
    "print('Duplicates in train data: {0}'.format(duplicates_train))\n",
    "\n",
    "duplicates_test = test.duplicated().sum()\n",
    "print('Duplicates in test data: {0}'.format(duplicates_test))"
   ]
  },
  {
   "cell_type": "markdown",
   "id": "96ade275",
   "metadata": {
    "papermill": {
     "duration": 0.025568,
     "end_time": "2022-05-04T23:18:22.219521",
     "exception": false,
     "start_time": "2022-05-04T23:18:22.193953",
     "status": "completed"
    },
    "tags": []
   },
   "source": [
    "# Target Distribution"
   ]
  },
  {
   "cell_type": "code",
   "execution_count": 9,
   "id": "7b4384f8",
   "metadata": {
    "_kg_hide-input": true,
    "execution": {
     "iopub.execute_input": "2022-05-04T23:18:22.273154Z",
     "iopub.status.busy": "2022-05-04T23:18:22.272340Z",
     "iopub.status.idle": "2022-05-04T23:18:22.962744Z",
     "shell.execute_reply": "2022-05-04T23:18:22.961836Z"
    },
    "papermill": {
     "duration": 0.71976,
     "end_time": "2022-05-04T23:18:22.964975",
     "exception": false,
     "start_time": "2022-05-04T23:18:22.245215",
     "status": "completed"
    },
    "tags": []
   },
   "outputs": [
    {
     "data": {
      "image/png": "[encoded data removed]",
      "text/plain": [
       "<Figure size 720x432 with 1 Axes>"
      ]
     },
     "metadata": {
      "needs_background": "light"
     },
     "output_type": "display_data"
    }
   ],
   "source": [
    "plt.figure(figsize=(10, 6))\n",
    "plt.title('Target distribution')\n",
    "ax = sns.countplot(x=train['target'], data=train)"
   ]
  },
  {
   "cell_type": "markdown",
   "id": "62f39098",
   "metadata": {
    "papermill": {
     "duration": 0.027123,
     "end_time": "2022-05-04T23:18:23.019139",
     "exception": false,
     "start_time": "2022-05-04T23:18:22.992016",
     "status": "completed"
    },
    "tags": []
   },
   "source": [
    "# Feature Engineering"
   ]
  },
  {
   "cell_type": "code",
   "execution_count": 10,
   "id": "050eae4a",
   "metadata": {
    "execution": {
     "iopub.execute_input": "2022-05-04T23:18:23.076377Z",
     "iopub.status.busy": "2022-05-04T23:18:23.076093Z",
     "iopub.status.idle": "2022-05-04T23:18:43.770378Z",
     "shell.execute_reply": "2022-05-04T23:18:43.769431Z"
    },
    "papermill": {
     "duration": 20.726313,
     "end_time": "2022-05-04T23:18:43.772912",
     "exception": false,
     "start_time": "2022-05-04T23:18:23.046599",
     "status": "completed"
    },
    "tags": []
   },
   "outputs": [
    {
     "name": "stdout",
     "output_type": "stream",
     "text": [
      "Columns: \n",
      "['f_00', 'f_01', 'f_02', 'f_03', 'f_04', 'f_05', 'f_06', 'f_07', 'f_08', 'f_09', 'f_10', 'f_11', 'f_12', 'f_13', 'f_14', 'f_15', 'f_16', 'f_17', 'f_18', 'f_19', 'f_20', 'f_21', 'f_22', 'f_23', 'f_24', 'f_25', 'f_26', 'f_28', 'f_29', 'f_30', 'target', 'ch0', 'ch1', 'ch2', 'ch3', 'ch4', 'ch5', 'ch6', 'ch7', 'ch8', 'ch9', 'unique_characters']\n"
     ]
    },
    {
     "data": {
      "text/html": [
       "<div>\n",
       "<style scoped>\n",
       "    .dataframe tbody tr th:only-of-type {\n",
       "        vertical-align: middle;\n",
       "    }\n",
       "\n",
       "    .dataframe tbody tr th {\n",
       "        vertical-align: top;\n",
       "    }\n",
       "\n",
       "    .dataframe thead th {\n",
       "        text-align: right;\n",
       "    }\n",
       "</style>\n",
       "<table border=\"1\" class=\"dataframe\">\n",
       "  <thead>\n",
       "    <tr style=\"text-align: right;\">\n",
       "      <th></th>\n",
       "      <th>f_00</th>\n",
       "      <th>f_01</th>\n",
       "      <th>f_02</th>\n",
       "      <th>f_03</th>\n",
       "      <th>f_04</th>\n",
       "      <th>f_05</th>\n",
       "      <th>f_06</th>\n",
       "      <th>f_07</th>\n",
       "      <th>f_08</th>\n",
       "      <th>f_09</th>\n",
       "      <th>...</th>\n",
       "      <th>ch1</th>\n",
       "      <th>ch2</th>\n",
       "      <th>ch3</th>\n",
       "      <th>ch4</th>\n",
       "      <th>ch5</th>\n",
       "      <th>ch6</th>\n",
       "      <th>ch7</th>\n",
       "      <th>ch8</th>\n",
       "      <th>ch9</th>\n",
       "      <th>unique_characters</th>\n",
       "    </tr>\n",
       "    <tr>\n",
       "      <th>id</th>\n",
       "      <th></th>\n",
       "      <th></th>\n",
       "      <th></th>\n",
       "      <th></th>\n",
       "      <th></th>\n",
       "      <th></th>\n",
       "      <th></th>\n",
       "      <th></th>\n",
       "      <th></th>\n",
       "      <th></th>\n",
       "      <th></th>\n",
       "      <th></th>\n",
       "      <th></th>\n",
       "      <th></th>\n",
       "      <th></th>\n",
       "      <th></th>\n",
       "      <th></th>\n",
       "      <th></th>\n",
       "      <th></th>\n",
       "      <th></th>\n",
       "      <th></th>\n",
       "    </tr>\n",
       "  </thead>\n",
       "  <tbody>\n",
       "    <tr>\n",
       "      <th>0</th>\n",
       "      <td>-1.373246</td>\n",
       "      <td>0.238887</td>\n",
       "      <td>-0.243376</td>\n",
       "      <td>0.567405</td>\n",
       "      <td>-0.647715</td>\n",
       "      <td>0.839326</td>\n",
       "      <td>0.113133</td>\n",
       "      <td>1</td>\n",
       "      <td>5</td>\n",
       "      <td>1</td>\n",
       "      <td>...</td>\n",
       "      <td>1</td>\n",
       "      <td>0</td>\n",
       "      <td>1</td>\n",
       "      <td>3</td>\n",
       "      <td>0</td>\n",
       "      <td>3</td>\n",
       "      <td>1</td>\n",
       "      <td>0</td>\n",
       "      <td>1</td>\n",
       "      <td>3</td>\n",
       "    </tr>\n",
       "    <tr>\n",
       "      <th>1</th>\n",
       "      <td>1.697021</td>\n",
       "      <td>-1.710322</td>\n",
       "      <td>-2.230332</td>\n",
       "      <td>-0.545661</td>\n",
       "      <td>1.113173</td>\n",
       "      <td>-1.552175</td>\n",
       "      <td>0.447825</td>\n",
       "      <td>1</td>\n",
       "      <td>3</td>\n",
       "      <td>4</td>\n",
       "      <td>...</td>\n",
       "      <td>2</td>\n",
       "      <td>0</td>\n",
       "      <td>2</td>\n",
       "      <td>2</td>\n",
       "      <td>0</td>\n",
       "      <td>3</td>\n",
       "      <td>2</td>\n",
       "      <td>4</td>\n",
       "      <td>1</td>\n",
       "      <td>5</td>\n",
       "    </tr>\n",
       "    <tr>\n",
       "      <th>2</th>\n",
       "      <td>1.681726</td>\n",
       "      <td>0.616746</td>\n",
       "      <td>-1.027689</td>\n",
       "      <td>0.810492</td>\n",
       "      <td>-0.609086</td>\n",
       "      <td>0.113965</td>\n",
       "      <td>-0.708660</td>\n",
       "      <td>1</td>\n",
       "      <td>0</td>\n",
       "      <td>2</td>\n",
       "      <td>...</td>\n",
       "      <td>0</td>\n",
       "      <td>0</td>\n",
       "      <td>4</td>\n",
       "      <td>0</td>\n",
       "      <td>1</td>\n",
       "      <td>2</td>\n",
       "      <td>10</td>\n",
       "      <td>0</td>\n",
       "      <td>3</td>\n",
       "      <td>6</td>\n",
       "    </tr>\n",
       "    <tr>\n",
       "      <th>3</th>\n",
       "      <td>-0.118172</td>\n",
       "      <td>-0.587835</td>\n",
       "      <td>-0.804638</td>\n",
       "      <td>2.086822</td>\n",
       "      <td>0.371005</td>\n",
       "      <td>-0.128831</td>\n",
       "      <td>-0.282575</td>\n",
       "      <td>3</td>\n",
       "      <td>2</td>\n",
       "      <td>1</td>\n",
       "      <td>...</td>\n",
       "      <td>3</td>\n",
       "      <td>1</td>\n",
       "      <td>1</td>\n",
       "      <td>0</td>\n",
       "      <td>0</td>\n",
       "      <td>2</td>\n",
       "      <td>1</td>\n",
       "      <td>2</td>\n",
       "      <td>1</td>\n",
       "      <td>4</td>\n",
       "    </tr>\n",
       "    <tr>\n",
       "      <th>4</th>\n",
       "      <td>1.148481</td>\n",
       "      <td>-0.176567</td>\n",
       "      <td>-0.664871</td>\n",
       "      <td>-1.101343</td>\n",
       "      <td>0.467875</td>\n",
       "      <td>0.500117</td>\n",
       "      <td>0.407515</td>\n",
       "      <td>3</td>\n",
       "      <td>3</td>\n",
       "      <td>0</td>\n",
       "      <td>...</td>\n",
       "      <td>3</td>\n",
       "      <td>1</td>\n",
       "      <td>2</td>\n",
       "      <td>1</td>\n",
       "      <td>1</td>\n",
       "      <td>2</td>\n",
       "      <td>7</td>\n",
       "      <td>5</td>\n",
       "      <td>4</td>\n",
       "      <td>6</td>\n",
       "    </tr>\n",
       "  </tbody>\n",
       "</table>\n",
       "<p>5 rows × 42 columns</p>\n",
       "</div>"
      ],
      "text/plain": [
       "        f_00      f_01      f_02      f_03      f_04      f_05      f_06  \\\n",
       "id                                                                         \n",
       "0  -1.373246  0.238887 -0.243376  0.567405 -0.647715  0.839326  0.113133   \n",
       "1   1.697021 -1.710322 -2.230332 -0.545661  1.113173 -1.552175  0.447825   \n",
       "2   1.681726  0.616746 -1.027689  0.810492 -0.609086  0.113965 -0.708660   \n",
       "3  -0.118172 -0.587835 -0.804638  2.086822  0.371005 -0.128831 -0.282575   \n",
       "4   1.148481 -0.176567 -0.664871 -1.101343  0.467875  0.500117  0.407515   \n",
       "\n",
       "    f_07  f_08  f_09  ...  ch1  ch2  ch3  ch4  ch5  ch6  ch7  ch8  ch9  \\\n",
       "id                    ...                                                \n",
       "0      1     5     1  ...    1    0    1    3    0    3    1    0    1   \n",
       "1      1     3     4  ...    2    0    2    2    0    3    2    4    1   \n",
       "2      1     0     2  ...    0    0    4    0    1    2   10    0    3   \n",
       "3      3     2     1  ...    3    1    1    0    0    2    1    2    1   \n",
       "4      3     3     0  ...    3    1    2    1    1    2    7    5    4   \n",
       "\n",
       "    unique_characters  \n",
       "id                     \n",
       "0                   3  \n",
       "1                   5  \n",
       "2                   6  \n",
       "3                   4  \n",
       "4                   6  \n",
       "\n",
       "[5 rows x 42 columns]"
      ]
     },
     "execution_count": 10,
     "metadata": {},
     "output_type": "execute_result"
    }
   ],
   "source": [
    "# Credits to https://www.kaggle.com/code/ambrosm/tpsmay22-keras-quickstart/notebook\n",
    "for df in [train, test]:\n",
    "    for i in range(10):\n",
    "        df[f'ch{i}'] = df.f_27.str.get(i).apply(ord) - ord('A')\n",
    "    # Next feature is from https://www.kaggle.com/code/cabaxiom/tps-may-22-eda-lgbm-model\n",
    "    df[\"unique_characters\"] = df.f_27.apply(lambda s: len(set(s)))\n",
    "    df.drop('f_27', axis=1, inplace=True)\n",
    "print(\"Columns: \\n{0}\".format(list(train.columns)))\n",
    "train.head()"
   ]
  },
  {
   "cell_type": "markdown",
   "id": "6cb8cf12",
   "metadata": {
    "papermill": {
     "duration": 0.027332,
     "end_time": "2022-05-04T23:18:43.829104",
     "exception": false,
     "start_time": "2022-05-04T23:18:43.801772",
     "status": "completed"
    },
    "tags": []
   },
   "source": [
    "# Modelling"
   ]
  },
  {
   "cell_type": "code",
   "execution_count": 11,
   "id": "dcea6307",
   "metadata": {
    "execution": {
     "iopub.execute_input": "2022-05-04T23:18:43.887001Z",
     "iopub.status.busy": "2022-05-04T23:18:43.886703Z",
     "iopub.status.idle": "2022-05-04T23:18:44.201739Z",
     "shell.execute_reply": "2022-05-04T23:18:44.200693Z"
    },
    "papermill": {
     "duration": 0.347702,
     "end_time": "2022-05-04T23:18:44.204774",
     "exception": false,
     "start_time": "2022-05-04T23:18:43.857072",
     "status": "completed"
    },
    "tags": []
   },
   "outputs": [],
   "source": [
    "X = train.drop('target', axis=1).copy()\n",
    "y = train.target.copy()\n",
    "test_X = test.copy()\n",
    "\n",
    "# Scaling and Nomalization\n",
    "transformer = make_pipeline(\n",
    "    StandardScaler()\n",
    ")\n",
    "columns = X.columns[:-11]\n",
    "\n",
    "transformer_new = make_pipeline(\n",
    "    StandardScaler()\n",
    ")\n",
    "new_columns = X.columns[-11:]\n",
    "\n",
    "preprocessor = make_column_transformer(\n",
    "    (transformer, columns),\n",
    "    (transformer_new, new_columns),\n",
    ")"
   ]
  },
  {
   "cell_type": "markdown",
   "id": "c8b1fbe4",
   "metadata": {
    "papermill": {
     "duration": 0.02773,
     "end_time": "2022-05-04T23:18:44.261903",
     "exception": false,
     "start_time": "2022-05-04T23:18:44.234173",
     "status": "completed"
    },
    "tags": []
   },
   "source": [
    "## Model"
   ]
  },
  {
   "cell_type": "code",
   "execution_count": 12,
   "id": "712db0f0",
   "metadata": {
    "execution": {
     "iopub.execute_input": "2022-05-04T23:18:44.319339Z",
     "iopub.status.busy": "2022-05-04T23:18:44.319005Z",
     "iopub.status.idle": "2022-05-04T23:18:44.328710Z",
     "shell.execute_reply": "2022-05-04T23:18:44.328005Z"
    },
    "papermill": {
     "duration": 0.040576,
     "end_time": "2022-05-04T23:18:44.330493",
     "exception": false,
     "start_time": "2022-05-04T23:18:44.289917",
     "status": "completed"
    },
    "tags": []
   },
   "outputs": [],
   "source": [
    "N_SPLITS = 5\n",
    "EPOCHS = 200\n",
    "BATCH_SIZE = 4096\n",
    "ACTIVATION = 'swish'\n",
    "\n",
    "my_seed = 1\n",
    "def seedAll(seed):\n",
    "    np.random.seed(seed)\n",
    "    tf.random.set_seed(seed)\n",
    "    random.seed(seed)\n",
    "    os.environ[\"PYTHONHASHSEED\"] = str(seed)\n",
    "seedAll(my_seed)\n",
    "\n",
    "def load_model():\n",
    "    early_stopping = callbacks.EarlyStopping(\n",
    "        monitor=\"val_loss\",     # Quantity to be monitored\n",
    "        patience=20,                # How many epochs to wait before stopping\n",
    "        restore_best_weights=True)\n",
    "    \n",
    "    reduce_lr = callbacks.ReduceLROnPlateau(\n",
    "        monitor='val_loss', \n",
    "        factor=0.5,                # Factor by which the learning rate will be reduced\n",
    "        patience=5)                # Number of epochs with no improvement\n",
    "    \n",
    "    model = keras.Sequential([\n",
    "        layers.Dense(108, activation=ACTIVATION, input_shape=[X.shape[1]]),      \n",
    "        layers.Dense(64, activation=ACTIVATION), \n",
    "        layers.Dense(32, activation=ACTIVATION),\n",
    "        layers.Dense(1, activation='sigmoid')\n",
    "    ])\n",
    "\n",
    "    model.compile(\n",
    "        optimizer='adam',\n",
    "        loss='binary_crossentropy',\n",
    "        metrics=['AUC'])\n",
    "    \n",
    "    return model, [early_stopping, reduce_lr]"
   ]
  },
  {
   "cell_type": "markdown",
   "id": "2edd0856",
   "metadata": {
    "papermill": {
     "duration": 0.027626,
     "end_time": "2022-05-04T23:18:44.386151",
     "exception": false,
     "start_time": "2022-05-04T23:18:44.358525",
     "status": "completed"
    },
    "tags": []
   },
   "source": [
    "## Training"
   ]
  },
  {
   "cell_type": "code",
   "execution_count": 13,
   "id": "d1d98102",
   "metadata": {
    "execution": {
     "iopub.execute_input": "2022-05-04T23:18:44.443299Z",
     "iopub.status.busy": "2022-05-04T23:18:44.443008Z",
     "iopub.status.idle": "2022-05-04T23:53:44.962335Z",
     "shell.execute_reply": "2022-05-04T23:53:44.960523Z"
    },
    "papermill": {
     "duration": 2100.55085,
     "end_time": "2022-05-04T23:53:44.964854",
     "exception": false,
     "start_time": "2022-05-04T23:18:44.414004",
     "status": "completed"
    },
    "tags": []
   },
   "outputs": [
    {
     "name": "stderr",
     "output_type": "stream",
     "text": [
      "2022-05-04 23:18:46.021848: I tensorflow/compiler/mlir/mlir_graph_optimization_pass.cc:185] None of the MLIR Optimization Passes are enabled (registered 2)\n"
     ]
    },
    {
     "name": "stdout",
     "output_type": "stream",
     "text": [
      "Fold 1 \t\t AUC: 0.9960266791322012\n",
      "Fold 2 \t\t AUC: 0.9959553124313375\n",
      "Fold 3 \t\t AUC: 0.9959446411206226\n",
      "Fold 4 \t\t AUC: 0.9961131578753439\n",
      "Fold 5 \t\t AUC: 0.9956854747166926\n",
      "Overall AUC:  0.9959450530552395\n"
     ]
    }
   ],
   "source": [
    "scores = []\n",
    "f_scores = []\n",
    "test_predictions = []\n",
    "cv = StratifiedKFold(n_splits=N_SPLITS, random_state=my_seed, shuffle=True)\n",
    "for fold, (train_idx, test_idx) in enumerate(cv.split(X, y)):\n",
    "    train_X, val_X = X.iloc[train_idx], X.iloc[test_idx]\n",
    "    train_y, val_y = y.iloc[train_idx], y.iloc[test_idx]\n",
    "    \n",
    "    train_X = preprocessor.fit_transform(train_X)\n",
    "    val_X = preprocessor.transform(val_X)\n",
    "\n",
    "    model, CALLBACKS = load_model()\n",
    "    history = model.fit(\n",
    "        train_X, train_y,\n",
    "        validation_data=(val_X, val_y),\n",
    "        batch_size=BATCH_SIZE,\n",
    "        epochs=EPOCHS,\n",
    "        callbacks=CALLBACKS,        # Put your callbacks in a list\n",
    "        verbose=0)                  # Turn off training log\n",
    "\n",
    "    predictions = model.predict(val_X)\n",
    "    score = roc_auc_score(val_y, predictions)\n",
    "    scores.append(score)\n",
    "    print(f\"Fold {fold + 1} \\t\\t AUC: {score}\")\n",
    "\n",
    "    test_predictions.append(model.predict(preprocessor.transform(test_X)))\n",
    "\n",
    "    # Saving history to plot at the end\n",
    "    hist = pd.DataFrame(history.history)\n",
    "    hist['folds'] = fold + 1\n",
    "    f_scores = hist if fold == 0 else pd.concat([f_scores, hist], axis=0)\n",
    "print('Overall AUC: ', np.mean(scores))"
   ]
  },
  {
   "cell_type": "markdown",
   "id": "8462ce00",
   "metadata": {
    "papermill": {
     "duration": 0.030045,
     "end_time": "2022-05-04T23:53:45.025770",
     "exception": false,
     "start_time": "2022-05-04T23:53:44.995725",
     "status": "completed"
    },
    "tags": []
   },
   "source": [
    "## Outcomes"
   ]
  },
  {
   "cell_type": "code",
   "execution_count": 14,
   "id": "b1abe30c",
   "metadata": {
    "_kg_hide-input": true,
    "execution": {
     "iopub.execute_input": "2022-05-04T23:53:45.091334Z",
     "iopub.status.busy": "2022-05-04T23:53:45.091005Z",
     "iopub.status.idle": "2022-05-04T23:53:47.696134Z",
     "shell.execute_reply": "2022-05-04T23:53:47.695359Z"
    },
    "papermill": {
     "duration": 2.641272,
     "end_time": "2022-05-04T23:53:47.698439",
     "exception": false,
     "start_time": "2022-05-04T23:53:45.057167",
     "status": "completed"
    },
    "tags": []
   },
   "outputs": [
    {
     "name": "stdout",
     "output_type": "stream",
     "text": [
      "Validation Loss: 0.0806\n",
      "Validation Loss: 0.0813\n",
      "Validation Loss: 0.0818\n",
      "Validation Loss: 0.0800\n",
      "Validation Loss: 0.0838\n"
     ]
    },
    {
     "data": {
      "image/png": "[encoded data removed]",
      "text/plain": [
       "<Figure size 1008x288 with 2 Axes>"
      ]
     },
     "metadata": {
      "needs_background": "light"
     },
     "output_type": "display_data"
    },
    {
     "data": {
      "image/png": "[encoded data removed]",
      "text/plain": [
       "<Figure size 1008x288 with 2 Axes>"
      ]
     },
     "metadata": {
      "needs_background": "light"
     },
     "output_type": "display_data"
    },
    {
     "data": {
      "image/png": "[encoded data removed]",
      "text/plain": [
       "<Figure size 1008x288 with 2 Axes>"
      ]
     },
     "metadata": {
      "needs_background": "light"
     },
     "output_type": "display_data"
    },
    {
     "data": {
      "image/png": "[encoded data removed]",
      "text/plain": [
       "<Figure size 1008x288 with 2 Axes>"
      ]
     },
     "metadata": {
      "needs_background": "light"
     },
     "output_type": "display_data"
    },
    {
     "data": {
      "image/png": "[encoded data removed]",
      "text/plain": [
       "<Figure size 1008x288 with 2 Axes>"
      ]
     },
     "metadata": {
      "needs_background": "light"
     },
     "output_type": "display_data"
    }
   ],
   "source": [
    "for fold in range(f_scores['folds'].nunique()):\n",
    "    fold = fold + 1\n",
    "    history_f = f_scores[f_scores['folds'] == fold]\n",
    "\n",
    "    fig, ax = plt.subplots(1, 2, tight_layout=True, figsize=(14,4))\n",
    "    fig.suptitle('Fold : ' + str(fold), fontsize=14)\n",
    "        \n",
    "    plt.subplot(1,2,1)\n",
    "    plt.plot(history_f.loc[:, ['loss', 'val_loss']], label= ['loss', 'val_loss'])\n",
    "    plt.legend(fontsize=15)\n",
    "    plt.grid()\n",
    "    \n",
    "    plt.subplot(1,2,2)\n",
    "    plt.plot(history_f.loc[:, ['auc', 'val_auc']],label= ['auc', 'val_auc'])\n",
    "    plt.legend(fontsize=15)\n",
    "    plt.grid()\n",
    "    \n",
    "    print(\"Validation Loss: {:0.4f}\".format(history_f['val_loss'].min()));"
   ]
  },
  {
   "cell_type": "markdown",
   "id": "37c99381",
   "metadata": {
    "papermill": {
     "duration": 0.039036,
     "end_time": "2022-05-04T23:53:47.776753",
     "exception": false,
     "start_time": "2022-05-04T23:53:47.737717",
     "status": "completed"
    },
    "tags": []
   },
   "source": [
    "# Submission"
   ]
  },
  {
   "cell_type": "code",
   "execution_count": 15,
   "id": "3f089def",
   "metadata": {
    "execution": {
     "iopub.execute_input": "2022-05-04T23:53:47.855417Z",
     "iopub.status.busy": "2022-05-04T23:53:47.855136Z",
     "iopub.status.idle": "2022-05-04T23:53:49.809097Z",
     "shell.execute_reply": "2022-05-04T23:53:49.808203Z"
    },
    "papermill": {
     "duration": 1.99578,
     "end_time": "2022-05-04T23:53:49.811215",
     "exception": false,
     "start_time": "2022-05-04T23:53:47.815435",
     "status": "completed"
    },
    "tags": []
   },
   "outputs": [
    {
     "data": {
      "text/html": [
       "<div>\n",
       "<style scoped>\n",
       "    .dataframe tbody tr th:only-of-type {\n",
       "        vertical-align: middle;\n",
       "    }\n",
       "\n",
       "    .dataframe tbody tr th {\n",
       "        vertical-align: top;\n",
       "    }\n",
       "\n",
       "    .dataframe thead th {\n",
       "        text-align: right;\n",
       "    }\n",
       "</style>\n",
       "<table border=\"1\" class=\"dataframe\">\n",
       "  <thead>\n",
       "    <tr style=\"text-align: right;\">\n",
       "      <th></th>\n",
       "      <th>id</th>\n",
       "      <th>target</th>\n",
       "    </tr>\n",
       "  </thead>\n",
       "  <tbody>\n",
       "    <tr>\n",
       "      <th>0</th>\n",
       "      <td>900000</td>\n",
       "      <td>9.999998e-01</td>\n",
       "    </tr>\n",
       "    <tr>\n",
       "      <th>1</th>\n",
       "      <td>900001</td>\n",
       "      <td>9.999906e-01</td>\n",
       "    </tr>\n",
       "    <tr>\n",
       "      <th>2</th>\n",
       "      <td>900002</td>\n",
       "      <td>3.721667e-09</td>\n",
       "    </tr>\n",
       "    <tr>\n",
       "      <th>3</th>\n",
       "      <td>900003</td>\n",
       "      <td>3.024195e-05</td>\n",
       "    </tr>\n",
       "    <tr>\n",
       "      <th>4</th>\n",
       "      <td>900004</td>\n",
       "      <td>9.987563e-01</td>\n",
       "    </tr>\n",
       "    <tr>\n",
       "      <th>...</th>\n",
       "      <td>...</td>\n",
       "      <td>...</td>\n",
       "    </tr>\n",
       "    <tr>\n",
       "      <th>699995</th>\n",
       "      <td>1599995</td>\n",
       "      <td>8.613928e-01</td>\n",
       "    </tr>\n",
       "    <tr>\n",
       "      <th>699996</th>\n",
       "      <td>1599996</td>\n",
       "      <td>9.999661e-01</td>\n",
       "    </tr>\n",
       "    <tr>\n",
       "      <th>699997</th>\n",
       "      <td>1599997</td>\n",
       "      <td>1.038525e-01</td>\n",
       "    </tr>\n",
       "    <tr>\n",
       "      <th>699998</th>\n",
       "      <td>1599998</td>\n",
       "      <td>9.023065e-05</td>\n",
       "    </tr>\n",
       "    <tr>\n",
       "      <th>699999</th>\n",
       "      <td>1599999</td>\n",
       "      <td>5.098735e-09</td>\n",
       "    </tr>\n",
       "  </tbody>\n",
       "</table>\n",
       "<p>700000 rows × 2 columns</p>\n",
       "</div>"
      ],
      "text/plain": [
       "             id        target\n",
       "0        900000  9.999998e-01\n",
       "1        900001  9.999906e-01\n",
       "2        900002  3.721667e-09\n",
       "3        900003  3.024195e-05\n",
       "4        900004  9.987563e-01\n",
       "...         ...           ...\n",
       "699995  1599995  8.613928e-01\n",
       "699996  1599996  9.999661e-01\n",
       "699997  1599997  1.038525e-01\n",
       "699998  1599998  9.023065e-05\n",
       "699999  1599999  5.098735e-09\n",
       "\n",
       "[700000 rows x 2 columns]"
      ]
     },
     "execution_count": 15,
     "metadata": {},
     "output_type": "execute_result"
    }
   ],
   "source": [
    "sub['target'] = np.mean(test_predictions, axis=0)\n",
    "sub.to_csv('submission.csv', index=False)\n",
    "sub"
   ]
  }
 ],
 "metadata": {
  "kernelspec": {
   "display_name": "Python 3",
   "language": "python",
   "name": "python3"
  },
  "language_info": {
   "codemirror_mode": {
    "name": "ipython",
    "version": 3
   },
   "file_extension": ".py",
   "mimetype": "text/x-python",
   "name": "python",
   "nbconvert_exporter": "python",
   "pygments_lexer": "ipython3",
   "version": "3.7.12"
  },
  "papermill": {
   "default_parameters": {},
   "duration": 2171.775704,
   "end_time": "2022-05-04T23:53:53.097804",
   "environment_variables": {},
   "exception": null,
   "input_path": "__notebook__.ipynb",
   "output_path": "__notebook__.ipynb",
   "parameters": {},
   "start_time": "2022-05-04T23:17:41.322100",
   "version": "2.3.4"
  }
 },
 "nbformat": 4,
 "nbformat_minor": 5
}
