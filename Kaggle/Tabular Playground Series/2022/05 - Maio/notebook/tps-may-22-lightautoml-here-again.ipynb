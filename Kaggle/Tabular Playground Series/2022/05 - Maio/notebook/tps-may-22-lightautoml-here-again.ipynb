{
 "cells": [
  {
   "cell_type": "code",
   "execution_count": 1,
   "id": "70310d10",
   "metadata": {
    "_kg_hide-input": true,
    "_kg_hide-output": true,
    "execution": {
     "iopub.execute_input": "2022-05-12T10:35:34.451091Z",
     "iopub.status.busy": "2022-05-12T10:35:34.450541Z",
     "iopub.status.idle": "2022-05-12T10:35:34.467744Z",
     "shell.execute_reply": "2022-05-12T10:35:34.466925Z"
    },
    "papermill": {
     "duration": 0.064647,
     "end_time": "2022-05-12T10:35:34.470296",
     "exception": false,
     "start_time": "2022-05-12T10:35:34.405649",
     "status": "completed"
    },
    "tags": []
   },
   "outputs": [
    {
     "data": {
      "text/html": [
       "<style> \n",
       "\n",
       "div #notebook {\n",
       "background-color: white;\n",
       "line-height: 20px;\n",
       "}\n",
       "\n",
       "#notebook-container {\n",
       "width: 95%;\n",
       "margin-top: 2em;\n",
       "padding-top: 2em;\n",
       "border-top: 4px solid #16a085; /* light orange */\n",
       "-webkit-box-shadow: 0px 0px 8px 2px rgba(224, 212, 226, 0.5); /* pink */\n",
       "    box-shadow: 0px 0px 8px 2px rgba(224, 212, 226, 0.5); /* pink */\n",
       "}\n",
       "\n",
       "div .input {\n",
       "margin-bottom: 1em;\n",
       "}\n",
       "\n",
       ".rendered_html h1, .rendered_html h2, .rendered_html h3, .rendered_html h4, .rendered_html h5, .rendered_html h6 {\n",
       "color: #16a085; /* light orange */\n",
       "font-weight: 600;\n",
       "}\n",
       "\n",
       "div.input_area {\n",
       "border: none;\n",
       "    background-color: rgba(22, 160, 133, 0.1); /* rgba(229, 143, 101, 0.1); light orange [exactly #E58F65] */\n",
       "    border-top: 2px solid #16a085; /* light orange */\n",
       "}\n",
       "\n",
       "div.input_prompt {\n",
       "color: #16a085; /* light blue */\n",
       "}\n",
       "\n",
       "div.output_prompt {\n",
       "color: #0b5345; /* strong orange */\n",
       "}\n",
       "\n",
       "div.cell.selected:before, div.cell.selected.jupyter-soft-selected:before {\n",
       "background: #16a085; /* light orange */\n",
       "}\n",
       "\n",
       "div.cell.selected, div.cell.selected.jupyter-soft-selected {\n",
       "    border-color: #16a085; /* light orange */\n",
       "}\n",
       "\n",
       ".edit_mode div.cell.selected:before {\n",
       "background: #16a085; /* light orange */\n",
       "}\n",
       "\n",
       ".edit_mode div.cell.selected {\n",
       "border-color: #16a085; /* light orange */\n",
       "\n",
       "}\n",
       "</style>"
      ],
      "text/plain": [
       "<IPython.core.display.HTML object>"
      ]
     },
     "execution_count": 1,
     "metadata": {},
     "output_type": "execute_result"
    }
   ],
   "source": [
    "from IPython.core.display import display, HTML, Javascript\n",
    "\n",
    "# ----- Notebook Theme -----\n",
    "color_map = ['#16a085', '#e8f6f3', '#d0ece7', '#a2d9ce', '#73c6b6', '#45b39d', \n",
    "                        '#16a085', '#138d75', '#117a65', '#0e6655', '#0b5345']\n",
    "\n",
    "prompt = color_map[-1]\n",
    "main_color = color_map[0]\n",
    "strong_main_color = color_map[1]\n",
    "custom_colors = [strong_main_color, main_color]\n",
    "\n",
    "css_file = ''' \n",
    "\n",
    "div #notebook {\n",
    "background-color: white;\n",
    "line-height: 20px;\n",
    "}\n",
    "\n",
    "#notebook-container {\n",
    "%s\n",
    "margin-top: 2em;\n",
    "padding-top: 2em;\n",
    "border-top: 4px solid %s; /* light orange */\n",
    "-webkit-box-shadow: 0px 0px 8px 2px rgba(224, 212, 226, 0.5); /* pink */\n",
    "    box-shadow: 0px 0px 8px 2px rgba(224, 212, 226, 0.5); /* pink */\n",
    "}\n",
    "\n",
    "div .input {\n",
    "margin-bottom: 1em;\n",
    "}\n",
    "\n",
    ".rendered_html h1, .rendered_html h2, .rendered_html h3, .rendered_html h4, .rendered_html h5, .rendered_html h6 {\n",
    "color: %s; /* light orange */\n",
    "font-weight: 600;\n",
    "}\n",
    "\n",
    "div.input_area {\n",
    "border: none;\n",
    "    background-color: %s; /* rgba(229, 143, 101, 0.1); light orange [exactly #E58F65] */\n",
    "    border-top: 2px solid %s; /* light orange */\n",
    "}\n",
    "\n",
    "div.input_prompt {\n",
    "color: %s; /* light blue */\n",
    "}\n",
    "\n",
    "div.output_prompt {\n",
    "color: %s; /* strong orange */\n",
    "}\n",
    "\n",
    "div.cell.selected:before, div.cell.selected.jupyter-soft-selected:before {\n",
    "background: %s; /* light orange */\n",
    "}\n",
    "\n",
    "div.cell.selected, div.cell.selected.jupyter-soft-selected {\n",
    "    border-color: %s; /* light orange */\n",
    "}\n",
    "\n",
    ".edit_mode div.cell.selected:before {\n",
    "background: %s; /* light orange */\n",
    "}\n",
    "\n",
    ".edit_mode div.cell.selected {\n",
    "border-color: %s; /* light orange */\n",
    "\n",
    "}\n",
    "'''\n",
    "def to_rgb(h): \n",
    "    return tuple(int(h[i:i+2], 16) for i in [0, 2, 4])\n",
    "\n",
    "main_color_rgba = 'rgba(%s, %s, %s, 0.1)' % (to_rgb(main_color[1:]))\n",
    "open('notebook.css', 'w').write(css_file % ('width: 95%;', main_color, main_color, main_color_rgba, main_color,  main_color, prompt, main_color, main_color, main_color, main_color))\n",
    "\n",
    "def nb(): \n",
    "    return HTML(\"<style>\" + open(\"notebook.css\", \"r\").read() + \"</style>\")\n",
    "nb()"
   ]
  },
  {
   "cell_type": "markdown",
   "id": "826f1fda",
   "metadata": {
    "papermill": {
     "duration": 0.04221,
     "end_time": "2022-05-12T10:35:34.553279",
     "exception": false,
     "start_time": "2022-05-12T10:35:34.511069",
     "status": "completed"
    },
    "tags": []
   },
   "source": [
    "<img src=\"https://github.com/AILab-MLTools/LightAutoML/raw/master/imgs/LightAutoML_logo_big.png\" alt=\"LightAutoML logo\" style=\"width:70%;\"/>"
   ]
  },
  {
   "cell_type": "markdown",
   "id": "9974f301",
   "metadata": {
    "papermill": {
     "duration": 0.039951,
     "end_time": "2022-05-12T10:35:34.633245",
     "exception": false,
     "start_time": "2022-05-12T10:35:34.593294",
     "status": "completed"
    },
    "tags": []
   },
   "source": [
    "# LightAutoML baseline\n",
    "\n",
    "Official LightAutoML github repository is [here](https://github.com/AILab-MLTools/LightAutoML). \n",
    "\n",
    "### Do not forget to put upvote for the notebook and the ⭐️ for github repo if you like it - one click for you, great pleasure for us ☺️ "
   ]
  },
  {
   "cell_type": "code",
   "execution_count": 2,
   "id": "63b6eec4",
   "metadata": {
    "_kg_hide-input": true,
    "execution": {
     "iopub.execute_input": "2022-05-12T10:35:34.718350Z",
     "iopub.status.busy": "2022-05-12T10:35:34.717802Z",
     "iopub.status.idle": "2022-05-12T10:35:34.727832Z",
     "shell.execute_reply": "2022-05-12T10:35:34.726802Z"
    },
    "papermill": {
     "duration": 0.056293,
     "end_time": "2022-05-12T10:35:34.730582",
     "exception": false,
     "start_time": "2022-05-12T10:35:34.674289",
     "status": "completed"
    },
    "tags": []
   },
   "outputs": [
    {
     "name": "stderr",
     "output_type": "stream",
     "text": [
      "/opt/conda/lib/python3.7/site-packages/IPython/core/display.py:724: UserWarning: Consider using IPython.display.IFrame instead\n",
      "  warnings.warn(\"Consider using IPython.display.IFrame instead\")\n"
     ]
    },
    {
     "data": {
      "text/html": [
       "<iframe src=\"https://ghbtns.com/github-btn.html?user=AILab-MLTools&repo=LightAutoML&type=star&count=true&size=large\" frameborder=\"0\" scrolling=\"0\" width=\"170\" height=\"30\" title=\"LightAutoML GitHub\"></iframe>"
      ],
      "text/plain": [
       "<IPython.core.display.HTML object>"
      ]
     },
     "execution_count": 2,
     "metadata": {},
     "output_type": "execute_result"
    }
   ],
   "source": [
    "s = '<iframe src=\"https://ghbtns.com/github-btn.html?user=AILab-MLTools&repo=LightAutoML&type=star&count=true&size=large\" frameborder=\"0\" scrolling=\"0\" width=\"170\" height=\"30\" title=\"LightAutoML GitHub\"></iframe>'\n",
    "HTML(s)"
   ]
  },
  {
   "cell_type": "markdown",
   "id": "f64e6be4",
   "metadata": {
    "papermill": {
     "duration": 0.042501,
     "end_time": "2022-05-12T10:35:34.817088",
     "exception": false,
     "start_time": "2022-05-12T10:35:34.774587",
     "status": "completed"
    },
    "tags": []
   },
   "source": [
    "## This notebook is the updated copy of our [Tutorial_1 from the GIT repository](https://github.com/AILab-MLTools/LightAutoML/blob/master/examples/tutorials/Tutorial_1_basics.ipynb). Please check our [tutorials folder](https://github.com/AILab-MLTools/LightAutoML/blob/master/examples/tutorials) if you are interested in other examples of LightAutoML functionality."
   ]
  },
  {
   "cell_type": "markdown",
   "id": "04ba4d84",
   "metadata": {
    "papermill": {
     "duration": 0.040635,
     "end_time": "2022-05-12T10:35:34.898592",
     "exception": false,
     "start_time": "2022-05-12T10:35:34.857957",
     "status": "completed"
    },
    "tags": []
   },
   "source": [
    "## 0. Prerequisites"
   ]
  },
  {
   "cell_type": "markdown",
   "id": "ef60fd7d",
   "metadata": {
    "papermill": {
     "duration": 0.040678,
     "end_time": "2022-05-12T10:35:34.980157",
     "exception": false,
     "start_time": "2022-05-12T10:35:34.939479",
     "status": "completed"
    },
    "tags": []
   },
   "source": [
    "### 0.0. install LightAutoML"
   ]
  },
  {
   "cell_type": "code",
   "execution_count": 3,
   "id": "99b9272a",
   "metadata": {
    "_kg_hide-output": true,
    "execution": {
     "iopub.execute_input": "2022-05-12T10:35:35.063583Z",
     "iopub.status.busy": "2022-05-12T10:35:35.063290Z",
     "iopub.status.idle": "2022-05-12T10:37:59.014260Z",
     "shell.execute_reply": "2022-05-12T10:37:59.012364Z"
    },
    "papermill": {
     "duration": 143.998547,
     "end_time": "2022-05-12T10:37:59.019529",
     "exception": false,
     "start_time": "2022-05-12T10:35:35.020982",
     "status": "completed"
    },
    "scrolled": true,
    "tags": []
   },
   "outputs": [],
   "source": [
    "%%capture\n",
    "!pip3 install -U lightautoml\n",
    "\n",
    "# QUICK WORKAROUND FOR PROBLEM WITH PANDAS\n",
    "!pip3 install -U pandas"
   ]
  },
  {
   "cell_type": "markdown",
   "id": "87c9f0d3",
   "metadata": {
    "papermill": {
     "duration": 0.041164,
     "end_time": "2022-05-12T10:37:59.106148",
     "exception": false,
     "start_time": "2022-05-12T10:37:59.064984",
     "status": "completed"
    },
    "tags": []
   },
   "source": [
    "### 0.1. Import libraries\n",
    "\n",
    "Here we will import the libraries we use in this kernel:\n",
    "- Standard python libraries for timing, working with OS etc.\n",
    "- Essential python DS libraries like numpy, pandas, scikit-learn and torch (the last we will use in the next cell)\n",
    "- LightAutoML modules: `TabularAutoML` preset for AutoML model creation and Task class to setup what kind of ML problem we solve (binary/multiclass classification or regression)"
   ]
  },
  {
   "cell_type": "code",
   "execution_count": 4,
   "id": "1b5ede89",
   "metadata": {
    "execution": {
     "iopub.execute_input": "2022-05-12T10:37:59.192686Z",
     "iopub.status.busy": "2022-05-12T10:37:59.192289Z",
     "iopub.status.idle": "2022-05-12T10:38:07.405385Z",
     "shell.execute_reply": "2022-05-12T10:38:07.404398Z"
    },
    "papermill": {
     "duration": 8.259428,
     "end_time": "2022-05-12T10:38:07.407924",
     "exception": false,
     "start_time": "2022-05-12T10:37:59.148496",
     "status": "completed"
    },
    "tags": []
   },
   "outputs": [
    {
     "data": {
      "text/html": [
       "<style type='text/css'>\n",
       ".datatable table.frame { margin-bottom: 0; }\n",
       ".datatable table.frame thead { border-bottom: none; }\n",
       ".datatable table.frame tr.coltypes td {  color: #FFFFFF;  line-height: 6px;  padding: 0 0.5em;}\n",
       ".datatable .bool    { background: #DDDD99; }\n",
       ".datatable .object  { background: #565656; }\n",
       ".datatable .int     { background: #5D9E5D; }\n",
       ".datatable .float   { background: #4040CC; }\n",
       ".datatable .str     { background: #CC4040; }\n",
       ".datatable .time    { background: #40CC40; }\n",
       ".datatable .row_index {  background: var(--jp-border-color3);  border-right: 1px solid var(--jp-border-color0);  color: var(--jp-ui-font-color3);  font-size: 9px;}\n",
       ".datatable .frame tbody td { text-align: left; }\n",
       ".datatable .frame tr.coltypes .row_index {  background: var(--jp-border-color0);}\n",
       ".datatable th:nth-child(2) { padding-left: 12px; }\n",
       ".datatable .hellipsis {  color: var(--jp-cell-editor-border-color);}\n",
       ".datatable .vellipsis {  background: var(--jp-layout-color0);  color: var(--jp-cell-editor-border-color);}\n",
       ".datatable .na {  color: var(--jp-cell-editor-border-color);  font-size: 80%;}\n",
       ".datatable .sp {  opacity: 0.25;}\n",
       ".datatable .footer { font-size: 9px; }\n",
       ".datatable .frame_dimensions {  background: var(--jp-border-color3);  border-top: 1px solid var(--jp-border-color0);  color: var(--jp-ui-font-color3);  display: inline-block;  opacity: 0.6;  padding: 1px 10px 1px 5px;}\n",
       "</style>\n"
      ],
      "text/plain": [
       "<IPython.core.display.HTML object>"
      ]
     },
     "metadata": {},
     "output_type": "display_data"
    }
   ],
   "source": [
    "# Standard python libraries\n",
    "import os\n",
    "import time\n",
    "\n",
    "# Essential DS libraries\n",
    "import numpy as np\n",
    "import pandas as pd\n",
    "from sklearn.metrics import roc_auc_score\n",
    "from sklearn.model_selection import train_test_split, StratifiedKFold\n",
    "from sklearn.feature_extraction.text import TfidfVectorizer\n",
    "import torch\n",
    "\n",
    "# LightAutoML presets, task and report generation\n",
    "from lightautoml.automl.presets.tabular_presets import TabularAutoML\n",
    "from lightautoml.tasks import Task\n",
    "\n",
    "# For NN training\n",
    "from tensorflow.keras.models import Model\n",
    "from tensorflow.keras.callbacks import ReduceLROnPlateau, EarlyStopping\n",
    "from tensorflow.keras.layers import Dense, Input, Dropout\n",
    "from tensorflow.keras.optimizers import Adam\n",
    "from tensorflow.keras.losses import BinaryCrossentropy\n",
    "from sklearn.preprocessing import StandardScaler"
   ]
  },
  {
   "cell_type": "markdown",
   "id": "2f91f550",
   "metadata": {
    "papermill": {
     "duration": 0.041408,
     "end_time": "2022-05-12T10:38:07.491823",
     "exception": false,
     "start_time": "2022-05-12T10:38:07.450415",
     "status": "completed"
    },
    "tags": []
   },
   "source": [
    "### 0.2. Constants\n",
    "\n",
    "Here we setup the constants to use in the kernel:\n",
    "- `N_THREADS` - number of vCPUs for LightAutoML model creation\n",
    "- `N_FOLDS` - number of folds in LightAutoML inner CV\n",
    "- `RANDOM_STATE` - random seed for better reproducibility\n",
    "- `TEST_SIZE` - houldout data part size \n",
    "- `TIMEOUT` - limit in seconds for model to train\n",
    "- `TARGET_NAME` - target column name in dataset"
   ]
  },
  {
   "cell_type": "code",
   "execution_count": 5,
   "id": "0c024e9a",
   "metadata": {
    "execution": {
     "iopub.execute_input": "2022-05-12T10:38:07.577266Z",
     "iopub.status.busy": "2022-05-12T10:38:07.576703Z",
     "iopub.status.idle": "2022-05-12T10:38:07.581254Z",
     "shell.execute_reply": "2022-05-12T10:38:07.580708Z"
    },
    "papermill": {
     "duration": 0.049714,
     "end_time": "2022-05-12T10:38:07.583148",
     "exception": false,
     "start_time": "2022-05-12T10:38:07.533434",
     "status": "completed"
    },
    "tags": []
   },
   "outputs": [],
   "source": [
    "N_THREADS = 4\n",
    "N_FOLDS = 15\n",
    "RANDOM_STATE = 42\n",
    "TEST_SIZE = 0.2\n",
    "TIMEOUT = 8 * 3600 # equal to 8 hours\n",
    "TARGET_NAME = 'target'"
   ]
  },
  {
   "cell_type": "markdown",
   "id": "749c3a2a",
   "metadata": {
    "papermill": {
     "duration": 0.041567,
     "end_time": "2022-05-12T10:38:07.666191",
     "exception": false,
     "start_time": "2022-05-12T10:38:07.624624",
     "status": "completed"
    },
    "tags": []
   },
   "source": [
    "### 0.3. Imported models setup\n",
    "\n",
    "For better reproducibility fix numpy random seed with max number of threads for Torch (which usually try to use all the threads on server):"
   ]
  },
  {
   "cell_type": "code",
   "execution_count": 6,
   "id": "64ad58b8",
   "metadata": {
    "execution": {
     "iopub.execute_input": "2022-05-12T10:38:07.752314Z",
     "iopub.status.busy": "2022-05-12T10:38:07.751758Z",
     "iopub.status.idle": "2022-05-12T10:38:07.777626Z",
     "shell.execute_reply": "2022-05-12T10:38:07.776704Z"
    },
    "papermill": {
     "duration": 0.072379,
     "end_time": "2022-05-12T10:38:07.780143",
     "exception": false,
     "start_time": "2022-05-12T10:38:07.707764",
     "status": "completed"
    },
    "tags": []
   },
   "outputs": [],
   "source": [
    "np.random.seed(RANDOM_STATE)\n",
    "torch.set_num_threads(N_THREADS)"
   ]
  },
  {
   "cell_type": "markdown",
   "id": "517784bf",
   "metadata": {
    "papermill": {
     "duration": 0.041654,
     "end_time": "2022-05-12T10:38:07.868577",
     "exception": false,
     "start_time": "2022-05-12T10:38:07.826923",
     "status": "completed"
    },
    "tags": []
   },
   "source": [
    "### 0.4. Data loading\n",
    "Let's check the data we have:"
   ]
  },
  {
   "cell_type": "code",
   "execution_count": 7,
   "id": "8df01e9c",
   "metadata": {
    "execution": {
     "iopub.execute_input": "2022-05-12T10:38:07.953611Z",
     "iopub.status.busy": "2022-05-12T10:38:07.952925Z",
     "iopub.status.idle": "2022-05-12T10:38:07.957200Z",
     "shell.execute_reply": "2022-05-12T10:38:07.956394Z"
    },
    "papermill": {
     "duration": 0.049255,
     "end_time": "2022-05-12T10:38:07.959215",
     "exception": false,
     "start_time": "2022-05-12T10:38:07.909960",
     "status": "completed"
    },
    "tags": []
   },
   "outputs": [],
   "source": [
    "INPUT_DIR = '../input/tabular-playground-series-may-2022/'"
   ]
  },
  {
   "cell_type": "code",
   "execution_count": 8,
   "id": "ad759bff",
   "metadata": {
    "execution": {
     "iopub.execute_input": "2022-05-12T10:38:08.044815Z",
     "iopub.status.busy": "2022-05-12T10:38:08.044543Z",
     "iopub.status.idle": "2022-05-12T10:38:15.902374Z",
     "shell.execute_reply": "2022-05-12T10:38:15.901470Z"
    },
    "papermill": {
     "duration": 7.90278,
     "end_time": "2022-05-12T10:38:15.904474",
     "exception": false,
     "start_time": "2022-05-12T10:38:08.001694",
     "status": "completed"
    },
    "scrolled": true,
    "tags": []
   },
   "outputs": [
    {
     "name": "stdout",
     "output_type": "stream",
     "text": [
      "(900000, 33)\n"
     ]
    },
    {
     "data": {
      "text/html": [
       "<div>\n",
       "<style scoped>\n",
       "    .dataframe tbody tr th:only-of-type {\n",
       "        vertical-align: middle;\n",
       "    }\n",
       "\n",
       "    .dataframe tbody tr th {\n",
       "        vertical-align: top;\n",
       "    }\n",
       "\n",
       "    .dataframe thead th {\n",
       "        text-align: right;\n",
       "    }\n",
       "</style>\n",
       "<table border=\"1\" class=\"dataframe\">\n",
       "  <thead>\n",
       "    <tr style=\"text-align: right;\">\n",
       "      <th></th>\n",
       "      <th>id</th>\n",
       "      <th>f_00</th>\n",
       "      <th>f_01</th>\n",
       "      <th>f_02</th>\n",
       "      <th>f_03</th>\n",
       "      <th>f_04</th>\n",
       "      <th>f_05</th>\n",
       "      <th>f_06</th>\n",
       "      <th>f_07</th>\n",
       "      <th>f_08</th>\n",
       "      <th>...</th>\n",
       "      <th>f_22</th>\n",
       "      <th>f_23</th>\n",
       "      <th>f_24</th>\n",
       "      <th>f_25</th>\n",
       "      <th>f_26</th>\n",
       "      <th>f_27</th>\n",
       "      <th>f_28</th>\n",
       "      <th>f_29</th>\n",
       "      <th>f_30</th>\n",
       "      <th>target</th>\n",
       "    </tr>\n",
       "  </thead>\n",
       "  <tbody>\n",
       "    <tr>\n",
       "      <th>0</th>\n",
       "      <td>0</td>\n",
       "      <td>-1.373246</td>\n",
       "      <td>0.238887</td>\n",
       "      <td>-0.243376</td>\n",
       "      <td>0.567405</td>\n",
       "      <td>-0.647715</td>\n",
       "      <td>0.839326</td>\n",
       "      <td>0.113133</td>\n",
       "      <td>1</td>\n",
       "      <td>5</td>\n",
       "      <td>...</td>\n",
       "      <td>-2.540739</td>\n",
       "      <td>0.766952</td>\n",
       "      <td>-2.730628</td>\n",
       "      <td>-0.208177</td>\n",
       "      <td>1.363402</td>\n",
       "      <td>ABABDADBAB</td>\n",
       "      <td>67.609153</td>\n",
       "      <td>0</td>\n",
       "      <td>0</td>\n",
       "      <td>0</td>\n",
       "    </tr>\n",
       "    <tr>\n",
       "      <th>1</th>\n",
       "      <td>1</td>\n",
       "      <td>1.697021</td>\n",
       "      <td>-1.710322</td>\n",
       "      <td>-2.230332</td>\n",
       "      <td>-0.545661</td>\n",
       "      <td>1.113173</td>\n",
       "      <td>-1.552175</td>\n",
       "      <td>0.447825</td>\n",
       "      <td>1</td>\n",
       "      <td>3</td>\n",
       "      <td>...</td>\n",
       "      <td>2.278315</td>\n",
       "      <td>-0.633658</td>\n",
       "      <td>-1.217077</td>\n",
       "      <td>-3.782194</td>\n",
       "      <td>-0.058316</td>\n",
       "      <td>ACACCADCEB</td>\n",
       "      <td>377.096415</td>\n",
       "      <td>0</td>\n",
       "      <td>0</td>\n",
       "      <td>1</td>\n",
       "    </tr>\n",
       "    <tr>\n",
       "      <th>2</th>\n",
       "      <td>2</td>\n",
       "      <td>1.681726</td>\n",
       "      <td>0.616746</td>\n",
       "      <td>-1.027689</td>\n",
       "      <td>0.810492</td>\n",
       "      <td>-0.609086</td>\n",
       "      <td>0.113965</td>\n",
       "      <td>-0.708660</td>\n",
       "      <td>1</td>\n",
       "      <td>0</td>\n",
       "      <td>...</td>\n",
       "      <td>-1.385775</td>\n",
       "      <td>-0.520558</td>\n",
       "      <td>-0.009121</td>\n",
       "      <td>2.788536</td>\n",
       "      <td>-3.703488</td>\n",
       "      <td>AAAEABCKAD</td>\n",
       "      <td>-195.599702</td>\n",
       "      <td>0</td>\n",
       "      <td>2</td>\n",
       "      <td>1</td>\n",
       "    </tr>\n",
       "    <tr>\n",
       "      <th>3</th>\n",
       "      <td>3</td>\n",
       "      <td>-0.118172</td>\n",
       "      <td>-0.587835</td>\n",
       "      <td>-0.804638</td>\n",
       "      <td>2.086822</td>\n",
       "      <td>0.371005</td>\n",
       "      <td>-0.128831</td>\n",
       "      <td>-0.282575</td>\n",
       "      <td>3</td>\n",
       "      <td>2</td>\n",
       "      <td>...</td>\n",
       "      <td>0.572594</td>\n",
       "      <td>-1.653213</td>\n",
       "      <td>1.686035</td>\n",
       "      <td>-2.533098</td>\n",
       "      <td>-0.608601</td>\n",
       "      <td>BDBBAACBCB</td>\n",
       "      <td>210.826205</td>\n",
       "      <td>0</td>\n",
       "      <td>0</td>\n",
       "      <td>1</td>\n",
       "    </tr>\n",
       "    <tr>\n",
       "      <th>4</th>\n",
       "      <td>4</td>\n",
       "      <td>1.148481</td>\n",
       "      <td>-0.176567</td>\n",
       "      <td>-0.664871</td>\n",
       "      <td>-1.101343</td>\n",
       "      <td>0.467875</td>\n",
       "      <td>0.500117</td>\n",
       "      <td>0.407515</td>\n",
       "      <td>3</td>\n",
       "      <td>3</td>\n",
       "      <td>...</td>\n",
       "      <td>-3.912929</td>\n",
       "      <td>-1.430366</td>\n",
       "      <td>2.127649</td>\n",
       "      <td>-3.306784</td>\n",
       "      <td>4.371371</td>\n",
       "      <td>BDBCBBCHFE</td>\n",
       "      <td>-217.211798</td>\n",
       "      <td>0</td>\n",
       "      <td>1</td>\n",
       "      <td>1</td>\n",
       "    </tr>\n",
       "  </tbody>\n",
       "</table>\n",
       "<p>5 rows × 33 columns</p>\n",
       "</div>"
      ],
      "text/plain": [
       "   id      f_00      f_01      f_02      f_03      f_04      f_05      f_06  \\\n",
       "0   0 -1.373246  0.238887 -0.243376  0.567405 -0.647715  0.839326  0.113133   \n",
       "1   1  1.697021 -1.710322 -2.230332 -0.545661  1.113173 -1.552175  0.447825   \n",
       "2   2  1.681726  0.616746 -1.027689  0.810492 -0.609086  0.113965 -0.708660   \n",
       "3   3 -0.118172 -0.587835 -0.804638  2.086822  0.371005 -0.128831 -0.282575   \n",
       "4   4  1.148481 -0.176567 -0.664871 -1.101343  0.467875  0.500117  0.407515   \n",
       "\n",
       "   f_07  f_08  ...      f_22      f_23      f_24      f_25      f_26  \\\n",
       "0     1     5  ... -2.540739  0.766952 -2.730628 -0.208177  1.363402   \n",
       "1     1     3  ...  2.278315 -0.633658 -1.217077 -3.782194 -0.058316   \n",
       "2     1     0  ... -1.385775 -0.520558 -0.009121  2.788536 -3.703488   \n",
       "3     3     2  ...  0.572594 -1.653213  1.686035 -2.533098 -0.608601   \n",
       "4     3     3  ... -3.912929 -1.430366  2.127649 -3.306784  4.371371   \n",
       "\n",
       "         f_27        f_28  f_29  f_30  target  \n",
       "0  ABABDADBAB   67.609153     0     0       0  \n",
       "1  ACACCADCEB  377.096415     0     0       1  \n",
       "2  AAAEABCKAD -195.599702     0     2       1  \n",
       "3  BDBBAACBCB  210.826205     0     0       1  \n",
       "4  BDBCBBCHFE -217.211798     0     1       1  \n",
       "\n",
       "[5 rows x 33 columns]"
      ]
     },
     "execution_count": 8,
     "metadata": {},
     "output_type": "execute_result"
    }
   ],
   "source": [
    "train_data = pd.read_csv(INPUT_DIR + 'train.csv')\n",
    "print(train_data.shape)\n",
    "train_data.head()"
   ]
  },
  {
   "cell_type": "code",
   "execution_count": 9,
   "id": "5fe9f47f",
   "metadata": {
    "execution": {
     "iopub.execute_input": "2022-05-12T10:38:15.992252Z",
     "iopub.status.busy": "2022-05-12T10:38:15.991936Z",
     "iopub.status.idle": "2022-05-12T10:38:21.596063Z",
     "shell.execute_reply": "2022-05-12T10:38:21.594866Z"
    },
    "papermill": {
     "duration": 5.651395,
     "end_time": "2022-05-12T10:38:21.598820",
     "exception": false,
     "start_time": "2022-05-12T10:38:15.947425",
     "status": "completed"
    },
    "tags": []
   },
   "outputs": [
    {
     "name": "stdout",
     "output_type": "stream",
     "text": [
      "(700000, 32)\n"
     ]
    },
    {
     "data": {
      "text/html": [
       "<div>\n",
       "<style scoped>\n",
       "    .dataframe tbody tr th:only-of-type {\n",
       "        vertical-align: middle;\n",
       "    }\n",
       "\n",
       "    .dataframe tbody tr th {\n",
       "        vertical-align: top;\n",
       "    }\n",
       "\n",
       "    .dataframe thead th {\n",
       "        text-align: right;\n",
       "    }\n",
       "</style>\n",
       "<table border=\"1\" class=\"dataframe\">\n",
       "  <thead>\n",
       "    <tr style=\"text-align: right;\">\n",
       "      <th></th>\n",
       "      <th>id</th>\n",
       "      <th>f_00</th>\n",
       "      <th>f_01</th>\n",
       "      <th>f_02</th>\n",
       "      <th>f_03</th>\n",
       "      <th>f_04</th>\n",
       "      <th>f_05</th>\n",
       "      <th>f_06</th>\n",
       "      <th>f_07</th>\n",
       "      <th>f_08</th>\n",
       "      <th>...</th>\n",
       "      <th>f_21</th>\n",
       "      <th>f_22</th>\n",
       "      <th>f_23</th>\n",
       "      <th>f_24</th>\n",
       "      <th>f_25</th>\n",
       "      <th>f_26</th>\n",
       "      <th>f_27</th>\n",
       "      <th>f_28</th>\n",
       "      <th>f_29</th>\n",
       "      <th>f_30</th>\n",
       "    </tr>\n",
       "  </thead>\n",
       "  <tbody>\n",
       "    <tr>\n",
       "      <th>0</th>\n",
       "      <td>900000</td>\n",
       "      <td>0.442517</td>\n",
       "      <td>0.174380</td>\n",
       "      <td>-0.999816</td>\n",
       "      <td>0.762741</td>\n",
       "      <td>0.186778</td>\n",
       "      <td>-1.074775</td>\n",
       "      <td>0.501888</td>\n",
       "      <td>6</td>\n",
       "      <td>6</td>\n",
       "      <td>...</td>\n",
       "      <td>-1.006400</td>\n",
       "      <td>-1.193879</td>\n",
       "      <td>-2.435736</td>\n",
       "      <td>-2.427430</td>\n",
       "      <td>-1.966887</td>\n",
       "      <td>5.734205</td>\n",
       "      <td>BAAABADLAC</td>\n",
       "      <td>99.478419</td>\n",
       "      <td>0</td>\n",
       "      <td>0</td>\n",
       "    </tr>\n",
       "    <tr>\n",
       "      <th>1</th>\n",
       "      <td>900001</td>\n",
       "      <td>-0.605598</td>\n",
       "      <td>-0.305715</td>\n",
       "      <td>0.627667</td>\n",
       "      <td>-0.578898</td>\n",
       "      <td>-1.750931</td>\n",
       "      <td>1.355550</td>\n",
       "      <td>-0.190911</td>\n",
       "      <td>1</td>\n",
       "      <td>3</td>\n",
       "      <td>...</td>\n",
       "      <td>2.382405</td>\n",
       "      <td>0.149442</td>\n",
       "      <td>1.883322</td>\n",
       "      <td>-2.848714</td>\n",
       "      <td>-0.725155</td>\n",
       "      <td>3.194219</td>\n",
       "      <td>AFABBAEGCB</td>\n",
       "      <td>-65.993825</td>\n",
       "      <td>1</td>\n",
       "      <td>0</td>\n",
       "    </tr>\n",
       "    <tr>\n",
       "      <th>2</th>\n",
       "      <td>900002</td>\n",
       "      <td>0.303990</td>\n",
       "      <td>2.445110</td>\n",
       "      <td>0.246515</td>\n",
       "      <td>0.818248</td>\n",
       "      <td>0.359731</td>\n",
       "      <td>-1.331845</td>\n",
       "      <td>1.358622</td>\n",
       "      <td>3</td>\n",
       "      <td>3</td>\n",
       "      <td>...</td>\n",
       "      <td>-7.026098</td>\n",
       "      <td>1.312277</td>\n",
       "      <td>-5.157192</td>\n",
       "      <td>1.714005</td>\n",
       "      <td>0.585032</td>\n",
       "      <td>0.066898</td>\n",
       "      <td>BBACABBKEE</td>\n",
       "      <td>-87.405622</td>\n",
       "      <td>0</td>\n",
       "      <td>1</td>\n",
       "    </tr>\n",
       "    <tr>\n",
       "      <th>3</th>\n",
       "      <td>900003</td>\n",
       "      <td>0.154053</td>\n",
       "      <td>0.260126</td>\n",
       "      <td>-1.367092</td>\n",
       "      <td>-0.093175</td>\n",
       "      <td>-1.111034</td>\n",
       "      <td>-0.948481</td>\n",
       "      <td>1.119220</td>\n",
       "      <td>0</td>\n",
       "      <td>0</td>\n",
       "      <td>...</td>\n",
       "      <td>-0.594532</td>\n",
       "      <td>-3.939475</td>\n",
       "      <td>1.754570</td>\n",
       "      <td>-2.364007</td>\n",
       "      <td>-1.003320</td>\n",
       "      <td>3.893099</td>\n",
       "      <td>AEBEAACQCC</td>\n",
       "      <td>-281.293460</td>\n",
       "      <td>0</td>\n",
       "      <td>0</td>\n",
       "    </tr>\n",
       "    <tr>\n",
       "      <th>4</th>\n",
       "      <td>900004</td>\n",
       "      <td>-1.651904</td>\n",
       "      <td>-0.424266</td>\n",
       "      <td>-0.667356</td>\n",
       "      <td>-0.322124</td>\n",
       "      <td>-0.089462</td>\n",
       "      <td>0.181705</td>\n",
       "      <td>1.784983</td>\n",
       "      <td>2</td>\n",
       "      <td>2</td>\n",
       "      <td>...</td>\n",
       "      <td>0.084906</td>\n",
       "      <td>-0.985736</td>\n",
       "      <td>-0.130467</td>\n",
       "      <td>-3.557893</td>\n",
       "      <td>1.210687</td>\n",
       "      <td>1.861884</td>\n",
       "      <td>AEBBBBDABF</td>\n",
       "      <td>25.629415</td>\n",
       "      <td>0</td>\n",
       "      <td>2</td>\n",
       "    </tr>\n",
       "  </tbody>\n",
       "</table>\n",
       "<p>5 rows × 32 columns</p>\n",
       "</div>"
      ],
      "text/plain": [
       "       id      f_00      f_01      f_02      f_03      f_04      f_05  \\\n",
       "0  900000  0.442517  0.174380 -0.999816  0.762741  0.186778 -1.074775   \n",
       "1  900001 -0.605598 -0.305715  0.627667 -0.578898 -1.750931  1.355550   \n",
       "2  900002  0.303990  2.445110  0.246515  0.818248  0.359731 -1.331845   \n",
       "3  900003  0.154053  0.260126 -1.367092 -0.093175 -1.111034 -0.948481   \n",
       "4  900004 -1.651904 -0.424266 -0.667356 -0.322124 -0.089462  0.181705   \n",
       "\n",
       "       f_06  f_07  f_08  ...      f_21      f_22      f_23      f_24  \\\n",
       "0  0.501888     6     6  ... -1.006400 -1.193879 -2.435736 -2.427430   \n",
       "1 -0.190911     1     3  ...  2.382405  0.149442  1.883322 -2.848714   \n",
       "2  1.358622     3     3  ... -7.026098  1.312277 -5.157192  1.714005   \n",
       "3  1.119220     0     0  ... -0.594532 -3.939475  1.754570 -2.364007   \n",
       "4  1.784983     2     2  ...  0.084906 -0.985736 -0.130467 -3.557893   \n",
       "\n",
       "       f_25      f_26        f_27        f_28  f_29  f_30  \n",
       "0 -1.966887  5.734205  BAAABADLAC   99.478419     0     0  \n",
       "1 -0.725155  3.194219  AFABBAEGCB  -65.993825     1     0  \n",
       "2  0.585032  0.066898  BBACABBKEE  -87.405622     0     1  \n",
       "3 -1.003320  3.893099  AEBEAACQCC -281.293460     0     0  \n",
       "4  1.210687  1.861884  AEBBBBDABF   25.629415     0     2  \n",
       "\n",
       "[5 rows x 32 columns]"
      ]
     },
     "execution_count": 9,
     "metadata": {},
     "output_type": "execute_result"
    }
   ],
   "source": [
    "test_data = pd.read_csv(INPUT_DIR + 'test.csv')\n",
    "print(test_data.shape)\n",
    "test_data.head()"
   ]
  },
  {
   "cell_type": "code",
   "execution_count": 10,
   "id": "9374868c",
   "metadata": {
    "execution": {
     "iopub.execute_input": "2022-05-12T10:38:21.688990Z",
     "iopub.status.busy": "2022-05-12T10:38:21.688657Z",
     "iopub.status.idle": "2022-05-12T10:38:21.849507Z",
     "shell.execute_reply": "2022-05-12T10:38:21.848351Z"
    },
    "papermill": {
     "duration": 0.20881,
     "end_time": "2022-05-12T10:38:21.851523",
     "exception": false,
     "start_time": "2022-05-12T10:38:21.642713",
     "status": "completed"
    },
    "tags": []
   },
   "outputs": [
    {
     "name": "stdout",
     "output_type": "stream",
     "text": [
      "(700000, 2)\n"
     ]
    },
    {
     "data": {
      "text/html": [
       "<div>\n",
       "<style scoped>\n",
       "    .dataframe tbody tr th:only-of-type {\n",
       "        vertical-align: middle;\n",
       "    }\n",
       "\n",
       "    .dataframe tbody tr th {\n",
       "        vertical-align: top;\n",
       "    }\n",
       "\n",
       "    .dataframe thead th {\n",
       "        text-align: right;\n",
       "    }\n",
       "</style>\n",
       "<table border=\"1\" class=\"dataframe\">\n",
       "  <thead>\n",
       "    <tr style=\"text-align: right;\">\n",
       "      <th></th>\n",
       "      <th>id</th>\n",
       "      <th>target</th>\n",
       "    </tr>\n",
       "  </thead>\n",
       "  <tbody>\n",
       "    <tr>\n",
       "      <th>0</th>\n",
       "      <td>900000</td>\n",
       "      <td>0.5</td>\n",
       "    </tr>\n",
       "    <tr>\n",
       "      <th>1</th>\n",
       "      <td>900001</td>\n",
       "      <td>0.5</td>\n",
       "    </tr>\n",
       "    <tr>\n",
       "      <th>2</th>\n",
       "      <td>900002</td>\n",
       "      <td>0.5</td>\n",
       "    </tr>\n",
       "    <tr>\n",
       "      <th>3</th>\n",
       "      <td>900003</td>\n",
       "      <td>0.5</td>\n",
       "    </tr>\n",
       "    <tr>\n",
       "      <th>4</th>\n",
       "      <td>900004</td>\n",
       "      <td>0.5</td>\n",
       "    </tr>\n",
       "  </tbody>\n",
       "</table>\n",
       "</div>"
      ],
      "text/plain": [
       "       id  target\n",
       "0  900000     0.5\n",
       "1  900001     0.5\n",
       "2  900002     0.5\n",
       "3  900003     0.5\n",
       "4  900004     0.5"
      ]
     },
     "execution_count": 10,
     "metadata": {},
     "output_type": "execute_result"
    }
   ],
   "source": [
    "submission = pd.read_csv(INPUT_DIR + 'sample_submission.csv')\n",
    "print(submission.shape)\n",
    "submission.head()"
   ]
  },
  {
   "cell_type": "markdown",
   "id": "50a3ce9b",
   "metadata": {
    "papermill": {
     "duration": 0.043615,
     "end_time": "2022-05-12T10:38:21.940771",
     "exception": false,
     "start_time": "2022-05-12T10:38:21.897156",
     "status": "completed"
    },
    "tags": []
   },
   "source": [
    "### 0.5. Feature engineering\n",
    "Let's prepare some features from the text feature `f_27` and top importance features compositions:"
   ]
  },
  {
   "cell_type": "code",
   "execution_count": 11,
   "id": "338fba02",
   "metadata": {
    "execution": {
     "iopub.execute_input": "2022-05-12T10:38:22.034718Z",
     "iopub.status.busy": "2022-05-12T10:38:22.034235Z",
     "iopub.status.idle": "2022-05-12T10:38:36.427758Z",
     "shell.execute_reply": "2022-05-12T10:38:36.426904Z"
    },
    "papermill": {
     "duration": 14.443872,
     "end_time": "2022-05-12T10:38:36.430200",
     "exception": false,
     "start_time": "2022-05-12T10:38:21.986328",
     "status": "completed"
    },
    "tags": []
   },
   "outputs": [],
   "source": [
    "def create_tf_idf_feats(corpus, ngram_range = (1, 1), max_features = None):\n",
    "    vectorizer = TfidfVectorizer(analyzer = 'char', lowercase = False, \n",
    "                                 ngram_range = ngram_range, max_features = max_features)\n",
    "    X = vectorizer.fit_transform(corpus).todense()\n",
    "    char_mapper = {y:x for x, y in vectorizer.vocabulary_.items()}\n",
    "    column_names = ['tfidf_{}'.format(char_mapper[i]) for i in range(len(char_mapper))]\n",
    "    return pd.DataFrame(X, columns = column_names)\n",
    "\n",
    "# Create all texts array\n",
    "all_texts = pd.concat([train_data[['f_27']], test_data[['f_27']]]).reset_index(drop = True)\n",
    "# corpus = all_texts['f_27'].values\n",
    "\n",
    "# Calculate TF-IDF features for unigrams and top-20 bigrams\n",
    "# all_texts = pd.concat([all_texts, \n",
    "#                       create_tf_idf_feats(corpus),\n",
    "#                       create_tf_idf_feats(corpus, (2,2), 20)], axis = 1)\n",
    "\n",
    "# Create features for unique characters\n",
    "for i in range(10):\n",
    "    all_texts[f'char_{i}'] = all_texts['f_27'].str.get(i).map(ord) - ord('A')\n",
    "    \n",
    "# How many unique characters are in each text?\n",
    "all_texts['unique_chars_cnt'] = all_texts['f_27'].map(lambda x: len(set(x)))\n",
    "\n",
    "# How often the text occurs in the whole dataset\n",
    "all_texts['value_frequency'] = all_texts['f_27'].map(all_texts['f_27'].value_counts() / len(all_texts))\n",
    "\n",
    "all_texts.drop(columns = ['f_27'], inplace = True)"
   ]
  },
  {
   "cell_type": "code",
   "execution_count": 12,
   "id": "c31f6265",
   "metadata": {
    "execution": {
     "iopub.execute_input": "2022-05-12T10:38:36.522423Z",
     "iopub.status.busy": "2022-05-12T10:38:36.522121Z",
     "iopub.status.idle": "2022-05-12T10:38:36.533914Z",
     "shell.execute_reply": "2022-05-12T10:38:36.533075Z"
    },
    "papermill": {
     "duration": 0.059971,
     "end_time": "2022-05-12T10:38:36.535712",
     "exception": false,
     "start_time": "2022-05-12T10:38:36.475741",
     "status": "completed"
    },
    "tags": []
   },
   "outputs": [
    {
     "data": {
      "text/html": [
       "<div>\n",
       "<style scoped>\n",
       "    .dataframe tbody tr th:only-of-type {\n",
       "        vertical-align: middle;\n",
       "    }\n",
       "\n",
       "    .dataframe tbody tr th {\n",
       "        vertical-align: top;\n",
       "    }\n",
       "\n",
       "    .dataframe thead th {\n",
       "        text-align: right;\n",
       "    }\n",
       "</style>\n",
       "<table border=\"1\" class=\"dataframe\">\n",
       "  <thead>\n",
       "    <tr style=\"text-align: right;\">\n",
       "      <th></th>\n",
       "      <th>char_0</th>\n",
       "      <th>char_1</th>\n",
       "      <th>char_2</th>\n",
       "      <th>char_3</th>\n",
       "      <th>char_4</th>\n",
       "      <th>char_5</th>\n",
       "      <th>char_6</th>\n",
       "      <th>char_7</th>\n",
       "      <th>char_8</th>\n",
       "      <th>char_9</th>\n",
       "      <th>unique_chars_cnt</th>\n",
       "      <th>value_frequency</th>\n",
       "    </tr>\n",
       "  </thead>\n",
       "  <tbody>\n",
       "    <tr>\n",
       "      <th>0</th>\n",
       "      <td>0</td>\n",
       "      <td>1</td>\n",
       "      <td>0</td>\n",
       "      <td>1</td>\n",
       "      <td>3</td>\n",
       "      <td>0</td>\n",
       "      <td>3</td>\n",
       "      <td>1</td>\n",
       "      <td>0</td>\n",
       "      <td>1</td>\n",
       "      <td>3</td>\n",
       "      <td>1.875000e-06</td>\n",
       "    </tr>\n",
       "    <tr>\n",
       "      <th>1</th>\n",
       "      <td>0</td>\n",
       "      <td>2</td>\n",
       "      <td>0</td>\n",
       "      <td>2</td>\n",
       "      <td>2</td>\n",
       "      <td>0</td>\n",
       "      <td>3</td>\n",
       "      <td>2</td>\n",
       "      <td>4</td>\n",
       "      <td>1</td>\n",
       "      <td>5</td>\n",
       "      <td>1.250000e-06</td>\n",
       "    </tr>\n",
       "    <tr>\n",
       "      <th>2</th>\n",
       "      <td>0</td>\n",
       "      <td>0</td>\n",
       "      <td>0</td>\n",
       "      <td>4</td>\n",
       "      <td>0</td>\n",
       "      <td>1</td>\n",
       "      <td>2</td>\n",
       "      <td>10</td>\n",
       "      <td>0</td>\n",
       "      <td>3</td>\n",
       "      <td>6</td>\n",
       "      <td>1.250000e-06</td>\n",
       "    </tr>\n",
       "    <tr>\n",
       "      <th>3</th>\n",
       "      <td>1</td>\n",
       "      <td>3</td>\n",
       "      <td>1</td>\n",
       "      <td>1</td>\n",
       "      <td>0</td>\n",
       "      <td>0</td>\n",
       "      <td>2</td>\n",
       "      <td>1</td>\n",
       "      <td>2</td>\n",
       "      <td>1</td>\n",
       "      <td>4</td>\n",
       "      <td>3.125000e-06</td>\n",
       "    </tr>\n",
       "    <tr>\n",
       "      <th>4</th>\n",
       "      <td>1</td>\n",
       "      <td>3</td>\n",
       "      <td>1</td>\n",
       "      <td>2</td>\n",
       "      <td>1</td>\n",
       "      <td>1</td>\n",
       "      <td>2</td>\n",
       "      <td>7</td>\n",
       "      <td>5</td>\n",
       "      <td>4</td>\n",
       "      <td>6</td>\n",
       "      <td>6.250000e-07</td>\n",
       "    </tr>\n",
       "  </tbody>\n",
       "</table>\n",
       "</div>"
      ],
      "text/plain": [
       "   char_0  char_1  char_2  char_3  char_4  char_5  char_6  char_7  char_8  \\\n",
       "0       0       1       0       1       3       0       3       1       0   \n",
       "1       0       2       0       2       2       0       3       2       4   \n",
       "2       0       0       0       4       0       1       2      10       0   \n",
       "3       1       3       1       1       0       0       2       1       2   \n",
       "4       1       3       1       2       1       1       2       7       5   \n",
       "\n",
       "   char_9  unique_chars_cnt  value_frequency  \n",
       "0       1                 3     1.875000e-06  \n",
       "1       1                 5     1.250000e-06  \n",
       "2       3                 6     1.250000e-06  \n",
       "3       1                 4     3.125000e-06  \n",
       "4       4                 6     6.250000e-07  "
      ]
     },
     "execution_count": 12,
     "metadata": {},
     "output_type": "execute_result"
    }
   ],
   "source": [
    "all_texts.head()"
   ]
  },
  {
   "cell_type": "code",
   "execution_count": 13,
   "id": "ccd829cc",
   "metadata": {
    "execution": {
     "iopub.execute_input": "2022-05-12T10:38:36.625892Z",
     "iopub.status.busy": "2022-05-12T10:38:36.625348Z",
     "iopub.status.idle": "2022-05-12T10:38:36.875650Z",
     "shell.execute_reply": "2022-05-12T10:38:36.874985Z"
    },
    "papermill": {
     "duration": 0.297851,
     "end_time": "2022-05-12T10:38:36.877683",
     "exception": false,
     "start_time": "2022-05-12T10:38:36.579832",
     "status": "completed"
    },
    "tags": []
   },
   "outputs": [
    {
     "name": "stdout",
     "output_type": "stream",
     "text": [
      "(900000, 45) (700000, 44)\n"
     ]
    }
   ],
   "source": [
    "train_data = pd.concat([train_data,\n",
    "                       all_texts.iloc[:len(train_data), :]], axis = 1)\n",
    "test_data = pd.concat([test_data,\n",
    "                       all_texts.iloc[len(train_data):, :].reset_index(drop = True)], axis = 1)\n",
    "\n",
    "print(train_data.shape, test_data.shape)"
   ]
  },
  {
   "cell_type": "code",
   "execution_count": 14,
   "id": "81bf6f82",
   "metadata": {
    "execution": {
     "iopub.execute_input": "2022-05-12T10:38:36.969130Z",
     "iopub.status.busy": "2022-05-12T10:38:36.968415Z",
     "iopub.status.idle": "2022-05-12T10:38:36.987406Z",
     "shell.execute_reply": "2022-05-12T10:38:36.986563Z"
    },
    "papermill": {
     "duration": 0.067012,
     "end_time": "2022-05-12T10:38:36.989496",
     "exception": false,
     "start_time": "2022-05-12T10:38:36.922484",
     "status": "completed"
    },
    "tags": []
   },
   "outputs": [
    {
     "data": {
      "text/html": [
       "<div>\n",
       "<style scoped>\n",
       "    .dataframe tbody tr th:only-of-type {\n",
       "        vertical-align: middle;\n",
       "    }\n",
       "\n",
       "    .dataframe tbody tr th {\n",
       "        vertical-align: top;\n",
       "    }\n",
       "\n",
       "    .dataframe thead th {\n",
       "        text-align: right;\n",
       "    }\n",
       "</style>\n",
       "<table border=\"1\" class=\"dataframe\">\n",
       "  <thead>\n",
       "    <tr style=\"text-align: right;\">\n",
       "      <th></th>\n",
       "      <th>id</th>\n",
       "      <th>f_00</th>\n",
       "      <th>f_01</th>\n",
       "      <th>f_02</th>\n",
       "      <th>f_03</th>\n",
       "      <th>f_04</th>\n",
       "      <th>f_05</th>\n",
       "      <th>f_06</th>\n",
       "      <th>f_07</th>\n",
       "      <th>f_08</th>\n",
       "      <th>...</th>\n",
       "      <th>char_2</th>\n",
       "      <th>char_3</th>\n",
       "      <th>char_4</th>\n",
       "      <th>char_5</th>\n",
       "      <th>char_6</th>\n",
       "      <th>char_7</th>\n",
       "      <th>char_8</th>\n",
       "      <th>char_9</th>\n",
       "      <th>unique_chars_cnt</th>\n",
       "      <th>value_frequency</th>\n",
       "    </tr>\n",
       "  </thead>\n",
       "  <tbody>\n",
       "    <tr>\n",
       "      <th>0</th>\n",
       "      <td>0</td>\n",
       "      <td>-1.373246</td>\n",
       "      <td>0.238887</td>\n",
       "      <td>-0.243376</td>\n",
       "      <td>0.567405</td>\n",
       "      <td>-0.647715</td>\n",
       "      <td>0.839326</td>\n",
       "      <td>0.113133</td>\n",
       "      <td>1</td>\n",
       "      <td>5</td>\n",
       "      <td>...</td>\n",
       "      <td>0</td>\n",
       "      <td>1</td>\n",
       "      <td>3</td>\n",
       "      <td>0</td>\n",
       "      <td>3</td>\n",
       "      <td>1</td>\n",
       "      <td>0</td>\n",
       "      <td>1</td>\n",
       "      <td>3</td>\n",
       "      <td>1.875000e-06</td>\n",
       "    </tr>\n",
       "    <tr>\n",
       "      <th>1</th>\n",
       "      <td>1</td>\n",
       "      <td>1.697021</td>\n",
       "      <td>-1.710322</td>\n",
       "      <td>-2.230332</td>\n",
       "      <td>-0.545661</td>\n",
       "      <td>1.113173</td>\n",
       "      <td>-1.552175</td>\n",
       "      <td>0.447825</td>\n",
       "      <td>1</td>\n",
       "      <td>3</td>\n",
       "      <td>...</td>\n",
       "      <td>0</td>\n",
       "      <td>2</td>\n",
       "      <td>2</td>\n",
       "      <td>0</td>\n",
       "      <td>3</td>\n",
       "      <td>2</td>\n",
       "      <td>4</td>\n",
       "      <td>1</td>\n",
       "      <td>5</td>\n",
       "      <td>1.250000e-06</td>\n",
       "    </tr>\n",
       "    <tr>\n",
       "      <th>2</th>\n",
       "      <td>2</td>\n",
       "      <td>1.681726</td>\n",
       "      <td>0.616746</td>\n",
       "      <td>-1.027689</td>\n",
       "      <td>0.810492</td>\n",
       "      <td>-0.609086</td>\n",
       "      <td>0.113965</td>\n",
       "      <td>-0.708660</td>\n",
       "      <td>1</td>\n",
       "      <td>0</td>\n",
       "      <td>...</td>\n",
       "      <td>0</td>\n",
       "      <td>4</td>\n",
       "      <td>0</td>\n",
       "      <td>1</td>\n",
       "      <td>2</td>\n",
       "      <td>10</td>\n",
       "      <td>0</td>\n",
       "      <td>3</td>\n",
       "      <td>6</td>\n",
       "      <td>1.250000e-06</td>\n",
       "    </tr>\n",
       "    <tr>\n",
       "      <th>3</th>\n",
       "      <td>3</td>\n",
       "      <td>-0.118172</td>\n",
       "      <td>-0.587835</td>\n",
       "      <td>-0.804638</td>\n",
       "      <td>2.086822</td>\n",
       "      <td>0.371005</td>\n",
       "      <td>-0.128831</td>\n",
       "      <td>-0.282575</td>\n",
       "      <td>3</td>\n",
       "      <td>2</td>\n",
       "      <td>...</td>\n",
       "      <td>1</td>\n",
       "      <td>1</td>\n",
       "      <td>0</td>\n",
       "      <td>0</td>\n",
       "      <td>2</td>\n",
       "      <td>1</td>\n",
       "      <td>2</td>\n",
       "      <td>1</td>\n",
       "      <td>4</td>\n",
       "      <td>3.125000e-06</td>\n",
       "    </tr>\n",
       "    <tr>\n",
       "      <th>4</th>\n",
       "      <td>4</td>\n",
       "      <td>1.148481</td>\n",
       "      <td>-0.176567</td>\n",
       "      <td>-0.664871</td>\n",
       "      <td>-1.101343</td>\n",
       "      <td>0.467875</td>\n",
       "      <td>0.500117</td>\n",
       "      <td>0.407515</td>\n",
       "      <td>3</td>\n",
       "      <td>3</td>\n",
       "      <td>...</td>\n",
       "      <td>1</td>\n",
       "      <td>2</td>\n",
       "      <td>1</td>\n",
       "      <td>1</td>\n",
       "      <td>2</td>\n",
       "      <td>7</td>\n",
       "      <td>5</td>\n",
       "      <td>4</td>\n",
       "      <td>6</td>\n",
       "      <td>6.250000e-07</td>\n",
       "    </tr>\n",
       "  </tbody>\n",
       "</table>\n",
       "<p>5 rows × 45 columns</p>\n",
       "</div>"
      ],
      "text/plain": [
       "   id      f_00      f_01      f_02      f_03      f_04      f_05      f_06  \\\n",
       "0   0 -1.373246  0.238887 -0.243376  0.567405 -0.647715  0.839326  0.113133   \n",
       "1   1  1.697021 -1.710322 -2.230332 -0.545661  1.113173 -1.552175  0.447825   \n",
       "2   2  1.681726  0.616746 -1.027689  0.810492 -0.609086  0.113965 -0.708660   \n",
       "3   3 -0.118172 -0.587835 -0.804638  2.086822  0.371005 -0.128831 -0.282575   \n",
       "4   4  1.148481 -0.176567 -0.664871 -1.101343  0.467875  0.500117  0.407515   \n",
       "\n",
       "   f_07  f_08  ...  char_2  char_3  char_4  char_5  char_6  char_7  char_8  \\\n",
       "0     1     5  ...       0       1       3       0       3       1       0   \n",
       "1     1     3  ...       0       2       2       0       3       2       4   \n",
       "2     1     0  ...       0       4       0       1       2      10       0   \n",
       "3     3     2  ...       1       1       0       0       2       1       2   \n",
       "4     3     3  ...       1       2       1       1       2       7       5   \n",
       "\n",
       "   char_9  unique_chars_cnt  value_frequency  \n",
       "0       1                 3     1.875000e-06  \n",
       "1       1                 5     1.250000e-06  \n",
       "2       3                 6     1.250000e-06  \n",
       "3       1                 4     3.125000e-06  \n",
       "4       4                 6     6.250000e-07  \n",
       "\n",
       "[5 rows x 45 columns]"
      ]
     },
     "execution_count": 14,
     "metadata": {},
     "output_type": "execute_result"
    }
   ],
   "source": [
    "train_data.head()"
   ]
  },
  {
   "cell_type": "code",
   "execution_count": 15,
   "id": "20179e48",
   "metadata": {
    "execution": {
     "iopub.execute_input": "2022-05-12T10:38:37.083102Z",
     "iopub.status.busy": "2022-05-12T10:38:37.082803Z",
     "iopub.status.idle": "2022-05-12T10:38:37.086463Z",
     "shell.execute_reply": "2022-05-12T10:38:37.085913Z"
    },
    "papermill": {
     "duration": 0.052992,
     "end_time": "2022-05-12T10:38:37.088019",
     "exception": false,
     "start_time": "2022-05-12T10:38:37.035027",
     "status": "completed"
    },
    "tags": []
   },
   "outputs": [],
   "source": [
    "del all_texts"
   ]
  },
  {
   "cell_type": "code",
   "execution_count": 16,
   "id": "aff1e811",
   "metadata": {
    "execution": {
     "iopub.execute_input": "2022-05-12T10:38:37.181550Z",
     "iopub.status.busy": "2022-05-12T10:38:37.180885Z",
     "iopub.status.idle": "2022-05-12T10:38:37.428215Z",
     "shell.execute_reply": "2022-05-12T10:38:37.427531Z"
    },
    "papermill": {
     "duration": 0.297029,
     "end_time": "2022-05-12T10:38:37.430421",
     "exception": false,
     "start_time": "2022-05-12T10:38:37.133392",
     "status": "completed"
    },
    "tags": []
   },
   "outputs": [],
   "source": [
    "for data in [train_data, test_data]:\n",
    "    for i,j in [(26, 21), (26, 22), (21, 22), (26, 30), (26, 25),\n",
    "               (22, 30), (22, 25), (21, 30), (21, 25), (30, 25)]:\n",
    "        data['f_{}_plus_f_{}'.format(i, j)] = data['f_{}'.format(i)] + data['f_{}'.format(j)]\n",
    "        data['f_{}_minus_f_{}'.format(i, j)] = data['f_{}'.format(i)] - data['f_{}'.format(j)]"
   ]
  },
  {
   "cell_type": "markdown",
   "id": "7373d52e",
   "metadata": {
    "papermill": {
     "duration": 0.045315,
     "end_time": "2022-05-12T10:38:37.521287",
     "exception": false,
     "start_time": "2022-05-12T10:38:37.475972",
     "status": "completed"
    },
    "tags": []
   },
   "source": [
    "#### Features from the next cell are from [great notebook](https://www.kaggle.com/code/ambrosm/tpsmay22-advanced-keras) by @Ambrosm - please upvote it first 👍"
   ]
  },
  {
   "cell_type": "code",
   "execution_count": 17,
   "id": "550a32fe",
   "metadata": {
    "execution": {
     "iopub.execute_input": "2022-05-12T10:38:37.613839Z",
     "iopub.status.busy": "2022-05-12T10:38:37.613342Z",
     "iopub.status.idle": "2022-05-12T10:38:37.716919Z",
     "shell.execute_reply": "2022-05-12T10:38:37.716001Z"
    },
    "papermill": {
     "duration": 0.152643,
     "end_time": "2022-05-12T10:38:37.719264",
     "exception": false,
     "start_time": "2022-05-12T10:38:37.566621",
     "status": "completed"
    },
    "tags": []
   },
   "outputs": [],
   "source": [
    "for data in [train_data, test_data]:\n",
    "    data['comb_02_21'] = data['f_21'] + data['f_02']\n",
    "    data['comb_02_21_i'] = (data['comb_02_21'] > 5.2).astype(int) - (data['comb_02_21'] < -5.3).astype(int)\n",
    "    \n",
    "    data['comb_05_22'] = data['f_22'] + data['f_05']\n",
    "    data['comb_05_22_i'] = (data['comb_05_22'] > 5.1).astype(int) - (data['comb_05_22'] < -5.4).astype(int)\n",
    "    \n",
    "    data['comb_00_01_26'] = data['f_00'] + data['f_01'] + data['f_26']\n",
    "    data['comb_00_01_26_i'] = (data['comb_00_01_26'] > 5.0).astype(int) - (data['comb_00_01_26'] < -5.0).astype(int)"
   ]
  },
  {
   "cell_type": "code",
   "execution_count": 18,
   "id": "43de487f",
   "metadata": {
    "execution": {
     "iopub.execute_input": "2022-05-12T10:38:37.812246Z",
     "iopub.status.busy": "2022-05-12T10:38:37.811939Z",
     "iopub.status.idle": "2022-05-12T10:38:37.833839Z",
     "shell.execute_reply": "2022-05-12T10:38:37.832968Z"
    },
    "papermill": {
     "duration": 0.071132,
     "end_time": "2022-05-12T10:38:37.835994",
     "exception": false,
     "start_time": "2022-05-12T10:38:37.764862",
     "status": "completed"
    },
    "tags": []
   },
   "outputs": [
    {
     "data": {
      "text/html": [
       "<div>\n",
       "<style scoped>\n",
       "    .dataframe tbody tr th:only-of-type {\n",
       "        vertical-align: middle;\n",
       "    }\n",
       "\n",
       "    .dataframe tbody tr th {\n",
       "        vertical-align: top;\n",
       "    }\n",
       "\n",
       "    .dataframe thead th {\n",
       "        text-align: right;\n",
       "    }\n",
       "</style>\n",
       "<table border=\"1\" class=\"dataframe\">\n",
       "  <thead>\n",
       "    <tr style=\"text-align: right;\">\n",
       "      <th></th>\n",
       "      <th>id</th>\n",
       "      <th>f_00</th>\n",
       "      <th>f_01</th>\n",
       "      <th>f_02</th>\n",
       "      <th>f_03</th>\n",
       "      <th>f_04</th>\n",
       "      <th>f_05</th>\n",
       "      <th>f_06</th>\n",
       "      <th>f_07</th>\n",
       "      <th>f_08</th>\n",
       "      <th>...</th>\n",
       "      <th>f_21_plus_f_25</th>\n",
       "      <th>f_21_minus_f_25</th>\n",
       "      <th>f_30_plus_f_25</th>\n",
       "      <th>f_30_minus_f_25</th>\n",
       "      <th>comb_02_21</th>\n",
       "      <th>comb_02_21_i</th>\n",
       "      <th>comb_05_22</th>\n",
       "      <th>comb_05_22_i</th>\n",
       "      <th>comb_00_01_26</th>\n",
       "      <th>comb_00_01_26_i</th>\n",
       "    </tr>\n",
       "  </thead>\n",
       "  <tbody>\n",
       "    <tr>\n",
       "      <th>0</th>\n",
       "      <td>0</td>\n",
       "      <td>-1.373246</td>\n",
       "      <td>0.238887</td>\n",
       "      <td>-0.243376</td>\n",
       "      <td>0.567405</td>\n",
       "      <td>-0.647715</td>\n",
       "      <td>0.839326</td>\n",
       "      <td>0.113133</td>\n",
       "      <td>1</td>\n",
       "      <td>5</td>\n",
       "      <td>...</td>\n",
       "      <td>2.850363</td>\n",
       "      <td>3.266718</td>\n",
       "      <td>-0.208177</td>\n",
       "      <td>0.208177</td>\n",
       "      <td>2.815165</td>\n",
       "      <td>0</td>\n",
       "      <td>-1.701412</td>\n",
       "      <td>0</td>\n",
       "      <td>0.229043</td>\n",
       "      <td>0</td>\n",
       "    </tr>\n",
       "    <tr>\n",
       "      <th>1</th>\n",
       "      <td>1</td>\n",
       "      <td>1.697021</td>\n",
       "      <td>-1.710322</td>\n",
       "      <td>-2.230332</td>\n",
       "      <td>-0.545661</td>\n",
       "      <td>1.113173</td>\n",
       "      <td>-1.552175</td>\n",
       "      <td>0.447825</td>\n",
       "      <td>1</td>\n",
       "      <td>3</td>\n",
       "      <td>...</td>\n",
       "      <td>-1.603144</td>\n",
       "      <td>5.961244</td>\n",
       "      <td>-3.782194</td>\n",
       "      <td>3.782194</td>\n",
       "      <td>-0.051282</td>\n",
       "      <td>0</td>\n",
       "      <td>0.726140</td>\n",
       "      <td>0</td>\n",
       "      <td>-0.071618</td>\n",
       "      <td>0</td>\n",
       "    </tr>\n",
       "    <tr>\n",
       "      <th>2</th>\n",
       "      <td>2</td>\n",
       "      <td>1.681726</td>\n",
       "      <td>0.616746</td>\n",
       "      <td>-1.027689</td>\n",
       "      <td>0.810492</td>\n",
       "      <td>-0.609086</td>\n",
       "      <td>0.113965</td>\n",
       "      <td>-0.708660</td>\n",
       "      <td>1</td>\n",
       "      <td>0</td>\n",
       "      <td>...</td>\n",
       "      <td>2.004301</td>\n",
       "      <td>-3.572771</td>\n",
       "      <td>4.788536</td>\n",
       "      <td>-0.788536</td>\n",
       "      <td>-1.811924</td>\n",
       "      <td>0</td>\n",
       "      <td>-1.271810</td>\n",
       "      <td>0</td>\n",
       "      <td>-1.405017</td>\n",
       "      <td>0</td>\n",
       "    </tr>\n",
       "    <tr>\n",
       "      <th>3</th>\n",
       "      <td>3</td>\n",
       "      <td>-0.118172</td>\n",
       "      <td>-0.587835</td>\n",
       "      <td>-0.804638</td>\n",
       "      <td>2.086822</td>\n",
       "      <td>0.371005</td>\n",
       "      <td>-0.128831</td>\n",
       "      <td>-0.282575</td>\n",
       "      <td>3</td>\n",
       "      <td>2</td>\n",
       "      <td>...</td>\n",
       "      <td>-4.876917</td>\n",
       "      <td>0.189279</td>\n",
       "      <td>-2.533098</td>\n",
       "      <td>2.533098</td>\n",
       "      <td>-3.148456</td>\n",
       "      <td>0</td>\n",
       "      <td>0.443763</td>\n",
       "      <td>0</td>\n",
       "      <td>-1.314607</td>\n",
       "      <td>0</td>\n",
       "    </tr>\n",
       "    <tr>\n",
       "      <th>4</th>\n",
       "      <td>4</td>\n",
       "      <td>1.148481</td>\n",
       "      <td>-0.176567</td>\n",
       "      <td>-0.664871</td>\n",
       "      <td>-1.101343</td>\n",
       "      <td>0.467875</td>\n",
       "      <td>0.500117</td>\n",
       "      <td>0.407515</td>\n",
       "      <td>3</td>\n",
       "      <td>3</td>\n",
       "      <td>...</td>\n",
       "      <td>-2.173119</td>\n",
       "      <td>4.440450</td>\n",
       "      <td>-2.306784</td>\n",
       "      <td>4.306784</td>\n",
       "      <td>0.468794</td>\n",
       "      <td>0</td>\n",
       "      <td>-3.412812</td>\n",
       "      <td>0</td>\n",
       "      <td>5.343286</td>\n",
       "      <td>1</td>\n",
       "    </tr>\n",
       "  </tbody>\n",
       "</table>\n",
       "<p>5 rows × 71 columns</p>\n",
       "</div>"
      ],
      "text/plain": [
       "   id      f_00      f_01      f_02      f_03      f_04      f_05      f_06  \\\n",
       "0   0 -1.373246  0.238887 -0.243376  0.567405 -0.647715  0.839326  0.113133   \n",
       "1   1  1.697021 -1.710322 -2.230332 -0.545661  1.113173 -1.552175  0.447825   \n",
       "2   2  1.681726  0.616746 -1.027689  0.810492 -0.609086  0.113965 -0.708660   \n",
       "3   3 -0.118172 -0.587835 -0.804638  2.086822  0.371005 -0.128831 -0.282575   \n",
       "4   4  1.148481 -0.176567 -0.664871 -1.101343  0.467875  0.500117  0.407515   \n",
       "\n",
       "   f_07  f_08  ...  f_21_plus_f_25  f_21_minus_f_25  f_30_plus_f_25  \\\n",
       "0     1     5  ...        2.850363         3.266718       -0.208177   \n",
       "1     1     3  ...       -1.603144         5.961244       -3.782194   \n",
       "2     1     0  ...        2.004301        -3.572771        4.788536   \n",
       "3     3     2  ...       -4.876917         0.189279       -2.533098   \n",
       "4     3     3  ...       -2.173119         4.440450       -2.306784   \n",
       "\n",
       "   f_30_minus_f_25  comb_02_21  comb_02_21_i  comb_05_22  comb_05_22_i  \\\n",
       "0         0.208177    2.815165             0   -1.701412             0   \n",
       "1         3.782194   -0.051282             0    0.726140             0   \n",
       "2        -0.788536   -1.811924             0   -1.271810             0   \n",
       "3         2.533098   -3.148456             0    0.443763             0   \n",
       "4         4.306784    0.468794             0   -3.412812             0   \n",
       "\n",
       "   comb_00_01_26  comb_00_01_26_i  \n",
       "0       0.229043                0  \n",
       "1      -0.071618                0  \n",
       "2      -1.405017                0  \n",
       "3      -1.314607                0  \n",
       "4       5.343286                1  \n",
       "\n",
       "[5 rows x 71 columns]"
      ]
     },
     "execution_count": 18,
     "metadata": {},
     "output_type": "execute_result"
    }
   ],
   "source": [
    "train_data.head()"
   ]
  },
  {
   "cell_type": "code",
   "execution_count": 19,
   "id": "2dab7735",
   "metadata": {
    "execution": {
     "iopub.execute_input": "2022-05-12T10:38:37.929204Z",
     "iopub.status.busy": "2022-05-12T10:38:37.928690Z",
     "iopub.status.idle": "2022-05-12T10:38:37.931665Z",
     "shell.execute_reply": "2022-05-12T10:38:37.931165Z"
    },
    "papermill": {
     "duration": 0.051498,
     "end_time": "2022-05-12T10:38:37.933238",
     "exception": false,
     "start_time": "2022-05-12T10:38:37.881740",
     "status": "completed"
    },
    "tags": []
   },
   "outputs": [],
   "source": [
    "#print([col for col in train_data.columns if col.startswith('tfidf_')])"
   ]
  },
  {
   "cell_type": "markdown",
   "id": "2ae65e34",
   "metadata": {
    "papermill": {
     "duration": 0.046096,
     "end_time": "2022-05-12T10:38:38.024859",
     "exception": false,
     "start_time": "2022-05-12T10:38:37.978763",
     "status": "completed"
    },
    "tags": []
   },
   "source": [
    "### 0.6. Dense neural net probabilities\n",
    "As the data is created from GAN, which is neural network, let's use simple neural network to get these dependencies from the data:"
   ]
  },
  {
   "cell_type": "code",
   "execution_count": 20,
   "id": "af16658d",
   "metadata": {
    "_kg_hide-output": true,
    "execution": {
     "iopub.execute_input": "2022-05-12T10:38:38.117227Z",
     "iopub.status.busy": "2022-05-12T10:38:38.116947Z",
     "iopub.status.idle": "2022-05-12T17:19:30.674002Z",
     "shell.execute_reply": "2022-05-12T17:19:30.672812Z"
    },
    "papermill": {
     "duration": 24052.607391,
     "end_time": "2022-05-12T17:19:30.677778",
     "exception": false,
     "start_time": "2022-05-12T10:38:38.070387",
     "status": "completed"
    },
    "scrolled": true,
    "tags": []
   },
   "outputs": [
    {
     "name": "stderr",
     "output_type": "stream",
     "text": [
      "2022-05-12 10:38:41.114367: I tensorflow/core/common_runtime/process_util.cc:146] Creating new thread pool with default inter op setting: 2. Tune using inter_op_parallelism_threads for best performance.\n",
      "2022-05-12 10:38:41.795265: I tensorflow/compiler/mlir/mlir_graph_optimization_pass.cc:185] None of the MLIR Optimization Passes are enabled (registered 2)\n"
     ]
    },
    {
     "name": "stdout",
     "output_type": "stream",
     "text": [
      "Restoring model weights from the end of the best epoch.\n",
      "Epoch 00074: early stopping\n",
      "ITER = 0 FOLD 0 score 0.99736\n",
      "Restoring model weights from the end of the best epoch.\n",
      "Epoch 00060: early stopping\n",
      "ITER = 0 FOLD 1 score 0.99748\n",
      "Restoring model weights from the end of the best epoch.\n",
      "Epoch 00078: early stopping\n",
      "ITER = 0 FOLD 2 score 0.99748\n",
      "Restoring model weights from the end of the best epoch.\n",
      "Epoch 00071: early stopping\n",
      "ITER = 0 FOLD 3 score 0.99730\n",
      "Restoring model weights from the end of the best epoch.\n",
      "Epoch 00086: early stopping\n",
      "ITER = 0 FOLD 4 score 0.99749\n",
      "Restoring model weights from the end of the best epoch.\n",
      "Epoch 00060: early stopping\n",
      "ITER = 0 FOLD 5 score 0.99730\n",
      "Restoring model weights from the end of the best epoch.\n",
      "Epoch 00080: early stopping\n",
      "ITER = 0 FOLD 6 score 0.99725\n",
      "Restoring model weights from the end of the best epoch.\n",
      "Epoch 00091: early stopping\n",
      "ITER = 0 FOLD 7 score 0.99751\n",
      "Restoring model weights from the end of the best epoch.\n",
      "Epoch 00099: early stopping\n",
      "ITER = 0 FOLD 8 score 0.99739\n",
      "Restoring model weights from the end of the best epoch.\n",
      "Epoch 00070: early stopping\n",
      "ITER = 0 FOLD 9 score 0.99741\n",
      "Restoring model weights from the end of the best epoch.\n",
      "Epoch 00076: early stopping\n",
      "ITER = 0 FOLD 10 score 0.99722\n",
      "Restoring model weights from the end of the best epoch.\n",
      "Epoch 00066: early stopping\n",
      "ITER = 0 FOLD 11 score 0.99737\n",
      "Restoring model weights from the end of the best epoch.\n",
      "Epoch 00094: early stopping\n",
      "ITER = 0 FOLD 12 score 0.99740\n",
      "Restoring model weights from the end of the best epoch.\n",
      "Epoch 00082: early stopping\n",
      "ITER = 0 FOLD 13 score 0.99741\n",
      "Restoring model weights from the end of the best epoch.\n",
      "Epoch 00078: early stopping\n",
      "ITER = 0 FOLD 14 score 0.99748\n",
      "AFTER ITER 0 NN OOF score 0.99738\n",
      "Restoring model weights from the end of the best epoch.\n",
      "Epoch 00078: early stopping\n",
      "ITER = 1 FOLD 0 score 0.99730\n",
      "Restoring model weights from the end of the best epoch.\n",
      "Epoch 00080: early stopping\n",
      "ITER = 1 FOLD 1 score 0.99748\n",
      "Restoring model weights from the end of the best epoch.\n",
      "Epoch 00097: early stopping\n",
      "ITER = 1 FOLD 2 score 0.99754\n",
      "Restoring model weights from the end of the best epoch.\n",
      "Epoch 00063: early stopping\n",
      "ITER = 1 FOLD 3 score 0.99740\n",
      "Restoring model weights from the end of the best epoch.\n",
      "Epoch 00067: early stopping\n",
      "ITER = 1 FOLD 4 score 0.99744\n",
      "Restoring model weights from the end of the best epoch.\n",
      "Epoch 00092: early stopping\n",
      "ITER = 1 FOLD 5 score 0.99722\n",
      "Restoring model weights from the end of the best epoch.\n",
      "Epoch 00064: early stopping\n",
      "ITER = 1 FOLD 6 score 0.99732\n",
      "Restoring model weights from the end of the best epoch.\n",
      "Epoch 00077: early stopping\n",
      "ITER = 1 FOLD 7 score 0.99769\n",
      "Restoring model weights from the end of the best epoch.\n",
      "Epoch 00081: early stopping\n",
      "ITER = 1 FOLD 8 score 0.99730\n",
      "Restoring model weights from the end of the best epoch.\n",
      "Epoch 00081: early stopping\n",
      "ITER = 1 FOLD 9 score 0.99744\n",
      "Restoring model weights from the end of the best epoch.\n",
      "Epoch 00090: early stopping\n",
      "ITER = 1 FOLD 10 score 0.99728\n",
      "Restoring model weights from the end of the best epoch.\n",
      "Epoch 00081: early stopping\n",
      "ITER = 1 FOLD 11 score 0.99739\n",
      "Restoring model weights from the end of the best epoch.\n",
      "Epoch 00096: early stopping\n",
      "ITER = 1 FOLD 12 score 0.99733\n",
      "Restoring model weights from the end of the best epoch.\n",
      "Epoch 00085: early stopping\n",
      "ITER = 1 FOLD 13 score 0.99740\n",
      "Restoring model weights from the end of the best epoch.\n",
      "Epoch 00085: early stopping\n",
      "ITER = 1 FOLD 14 score 0.99739\n",
      "AFTER ITER 1 NN OOF score 0.99777\n",
      "Restoring model weights from the end of the best epoch.\n",
      "Epoch 00081: early stopping\n",
      "ITER = 2 FOLD 0 score 0.99719\n",
      "Restoring model weights from the end of the best epoch.\n",
      "Epoch 00084: early stopping\n",
      "ITER = 2 FOLD 1 score 0.99750\n",
      "Restoring model weights from the end of the best epoch.\n",
      "Epoch 00062: early stopping\n",
      "ITER = 2 FOLD 2 score 0.99745\n",
      "Restoring model weights from the end of the best epoch.\n",
      "Epoch 00094: early stopping\n",
      "ITER = 2 FOLD 3 score 0.99742\n",
      "Restoring model weights from the end of the best epoch.\n",
      "Epoch 00096: early stopping\n",
      "ITER = 2 FOLD 4 score 0.99754\n",
      "Restoring model weights from the end of the best epoch.\n",
      "Epoch 00066: early stopping\n",
      "ITER = 2 FOLD 5 score 0.99733\n",
      "Restoring model weights from the end of the best epoch.\n",
      "Epoch 00071: early stopping\n",
      "ITER = 2 FOLD 6 score 0.99735\n",
      "Restoring model weights from the end of the best epoch.\n",
      "Epoch 00067: early stopping\n",
      "ITER = 2 FOLD 7 score 0.99751\n",
      "Restoring model weights from the end of the best epoch.\n",
      "Epoch 00081: early stopping\n",
      "ITER = 2 FOLD 8 score 0.99725\n",
      "Restoring model weights from the end of the best epoch.\n",
      "Epoch 00074: early stopping\n",
      "ITER = 2 FOLD 9 score 0.99748\n",
      "Restoring model weights from the end of the best epoch.\n",
      "Epoch 00062: early stopping\n",
      "ITER = 2 FOLD 10 score 0.99720\n",
      "Restoring model weights from the end of the best epoch.\n",
      "Epoch 00076: early stopping\n",
      "ITER = 2 FOLD 11 score 0.99726\n",
      "Restoring model weights from the end of the best epoch.\n",
      "Epoch 00076: early stopping\n",
      "ITER = 2 FOLD 12 score 0.99740\n",
      "Restoring model weights from the end of the best epoch.\n",
      "Epoch 00094: early stopping\n",
      "ITER = 2 FOLD 13 score 0.99751\n",
      "Restoring model weights from the end of the best epoch.\n",
      "Epoch 00065: early stopping\n",
      "ITER = 2 FOLD 14 score 0.99738\n",
      "AFTER ITER 2 NN OOF score 0.99790\n",
      "Restoring model weights from the end of the best epoch.\n",
      "Epoch 00081: early stopping\n",
      "ITER = 3 FOLD 0 score 0.99742\n",
      "Restoring model weights from the end of the best epoch.\n",
      "Epoch 00081: early stopping\n",
      "ITER = 3 FOLD 1 score 0.99742\n",
      "Restoring model weights from the end of the best epoch.\n",
      "Epoch 00080: early stopping\n",
      "ITER = 3 FOLD 2 score 0.99755\n",
      "Restoring model weights from the end of the best epoch.\n",
      "Epoch 00104: early stopping\n",
      "ITER = 3 FOLD 3 score 0.99742\n",
      "Restoring model weights from the end of the best epoch.\n",
      "Epoch 00071: early stopping\n",
      "ITER = 3 FOLD 4 score 0.99745\n",
      "Restoring model weights from the end of the best epoch.\n",
      "Epoch 00081: early stopping\n",
      "ITER = 3 FOLD 5 score 0.99729\n",
      "Restoring model weights from the end of the best epoch.\n",
      "Epoch 00073: early stopping\n",
      "ITER = 3 FOLD 6 score 0.99736\n",
      "Restoring model weights from the end of the best epoch.\n",
      "Epoch 00058: early stopping\n",
      "ITER = 3 FOLD 7 score 0.99747\n",
      "Restoring model weights from the end of the best epoch.\n",
      "Epoch 00073: early stopping\n",
      "ITER = 3 FOLD 8 score 0.99724\n",
      "Restoring model weights from the end of the best epoch.\n",
      "Epoch 00077: early stopping\n",
      "ITER = 3 FOLD 9 score 0.99761\n",
      "Restoring model weights from the end of the best epoch.\n",
      "Epoch 00078: early stopping\n",
      "ITER = 3 FOLD 10 score 0.99724\n",
      "Restoring model weights from the end of the best epoch.\n",
      "Epoch 00079: early stopping\n",
      "ITER = 3 FOLD 11 score 0.99722\n",
      "Restoring model weights from the end of the best epoch.\n",
      "Epoch 00070: early stopping\n",
      "ITER = 3 FOLD 12 score 0.99742\n",
      "Restoring model weights from the end of the best epoch.\n",
      "Epoch 00092: early stopping\n",
      "ITER = 3 FOLD 13 score 0.99742\n",
      "Restoring model weights from the end of the best epoch.\n",
      "Epoch 00090: early stopping\n",
      "ITER = 3 FOLD 14 score 0.99742\n",
      "AFTER ITER 3 NN OOF score 0.99797\n",
      "Restoring model weights from the end of the best epoch.\n",
      "Epoch 00097: early stopping\n",
      "ITER = 4 FOLD 0 score 0.99737\n",
      "Restoring model weights from the end of the best epoch.\n",
      "Epoch 00098: early stopping\n",
      "ITER = 4 FOLD 1 score 0.99749\n",
      "Restoring model weights from the end of the best epoch.\n",
      "Epoch 00082: early stopping\n",
      "ITER = 4 FOLD 2 score 0.99740\n",
      "Restoring model weights from the end of the best epoch.\n",
      "Epoch 00063: early stopping\n",
      "ITER = 4 FOLD 3 score 0.99736\n",
      "Restoring model weights from the end of the best epoch.\n",
      "Epoch 00089: early stopping\n",
      "ITER = 4 FOLD 4 score 0.99754\n",
      "Restoring model weights from the end of the best epoch.\n",
      "Epoch 00094: early stopping\n",
      "ITER = 4 FOLD 5 score 0.99735\n",
      "Restoring model weights from the end of the best epoch.\n",
      "Epoch 00083: early stopping\n",
      "ITER = 4 FOLD 6 score 0.99741\n",
      "Restoring model weights from the end of the best epoch.\n",
      "Epoch 00079: early stopping\n",
      "ITER = 4 FOLD 7 score 0.99763\n",
      "Restoring model weights from the end of the best epoch.\n",
      "Epoch 00061: early stopping\n",
      "ITER = 4 FOLD 8 score 0.99727\n",
      "Restoring model weights from the end of the best epoch.\n",
      "Epoch 00067: early stopping\n",
      "ITER = 4 FOLD 9 score 0.99751\n",
      "Restoring model weights from the end of the best epoch.\n",
      "Epoch 00068: early stopping\n",
      "ITER = 4 FOLD 10 score 0.99722\n",
      "Restoring model weights from the end of the best epoch.\n",
      "Epoch 00079: early stopping\n",
      "ITER = 4 FOLD 11 score 0.99742\n",
      "Restoring model weights from the end of the best epoch.\n",
      "Epoch 00080: early stopping\n",
      "ITER = 4 FOLD 12 score 0.99742\n",
      "Restoring model weights from the end of the best epoch.\n",
      "Epoch 00083: early stopping\n",
      "ITER = 4 FOLD 13 score 0.99751\n",
      "Restoring model weights from the end of the best epoch.\n",
      "Epoch 00076: early stopping\n",
      "ITER = 4 FOLD 14 score 0.99737\n",
      "AFTER ITER 4 NN OOF score 0.99802\n",
      "Restoring model weights from the end of the best epoch.\n",
      "Epoch 00078: early stopping\n",
      "ITER = 5 FOLD 0 score 0.99726\n",
      "Restoring model weights from the end of the best epoch.\n",
      "Epoch 00075: early stopping\n",
      "ITER = 5 FOLD 1 score 0.99756\n",
      "Restoring model weights from the end of the best epoch.\n",
      "Epoch 00084: early stopping\n",
      "ITER = 5 FOLD 2 score 0.99760\n",
      "Restoring model weights from the end of the best epoch.\n",
      "Epoch 00090: early stopping\n",
      "ITER = 5 FOLD 3 score 0.99748\n",
      "Restoring model weights from the end of the best epoch.\n",
      "Epoch 00085: early stopping\n",
      "ITER = 5 FOLD 4 score 0.99750\n",
      "Restoring model weights from the end of the best epoch.\n",
      "Epoch 00072: early stopping\n",
      "ITER = 5 FOLD 5 score 0.99728\n",
      "Restoring model weights from the end of the best epoch.\n",
      "Epoch 00061: early stopping\n",
      "ITER = 5 FOLD 6 score 0.99732\n",
      "Restoring model weights from the end of the best epoch.\n",
      "Epoch 00082: early stopping\n",
      "ITER = 5 FOLD 7 score 0.99755\n",
      "Restoring model weights from the end of the best epoch.\n",
      "Epoch 00061: early stopping\n",
      "ITER = 5 FOLD 8 score 0.99728\n",
      "Restoring model weights from the end of the best epoch.\n",
      "Epoch 00086: early stopping\n",
      "ITER = 5 FOLD 9 score 0.99747\n",
      "Restoring model weights from the end of the best epoch.\n",
      "Epoch 00088: early stopping\n",
      "ITER = 5 FOLD 10 score 0.99726\n",
      "Restoring model weights from the end of the best epoch.\n",
      "Epoch 00086: early stopping\n",
      "ITER = 5 FOLD 11 score 0.99736\n",
      "Restoring model weights from the end of the best epoch.\n",
      "Epoch 00078: early stopping\n",
      "ITER = 5 FOLD 12 score 0.99732\n",
      "Restoring model weights from the end of the best epoch.\n",
      "Epoch 00077: early stopping\n",
      "ITER = 5 FOLD 13 score 0.99743\n",
      "Restoring model weights from the end of the best epoch.\n",
      "Epoch 00094: early stopping\n",
      "ITER = 5 FOLD 14 score 0.99742\n",
      "AFTER ITER 5 NN OOF score 0.99804\n",
      "Restoring model weights from the end of the best epoch.\n",
      "Epoch 00084: early stopping\n",
      "ITER = 6 FOLD 0 score 0.99729\n",
      "Restoring model weights from the end of the best epoch.\n",
      "Epoch 00091: early stopping\n",
      "ITER = 6 FOLD 1 score 0.99765\n",
      "Restoring model weights from the end of the best epoch.\n",
      "Epoch 00071: early stopping\n",
      "ITER = 6 FOLD 2 score 0.99747\n",
      "Restoring model weights from the end of the best epoch.\n",
      "Epoch 00076: early stopping\n",
      "ITER = 6 FOLD 3 score 0.99744\n",
      "Restoring model weights from the end of the best epoch.\n",
      "Epoch 00052: early stopping\n",
      "ITER = 6 FOLD 4 score 0.99726\n",
      "Restoring model weights from the end of the best epoch.\n",
      "Epoch 00085: early stopping\n",
      "ITER = 6 FOLD 5 score 0.99721\n",
      "Restoring model weights from the end of the best epoch.\n",
      "Epoch 00072: early stopping\n",
      "ITER = 6 FOLD 6 score 0.99744\n",
      "Restoring model weights from the end of the best epoch.\n",
      "Epoch 00064: early stopping\n",
      "ITER = 6 FOLD 7 score 0.99753\n",
      "Restoring model weights from the end of the best epoch.\n",
      "Epoch 00077: early stopping\n",
      "ITER = 6 FOLD 8 score 0.99749\n",
      "Restoring model weights from the end of the best epoch.\n",
      "Epoch 00068: early stopping\n",
      "ITER = 6 FOLD 9 score 0.99752\n",
      "Restoring model weights from the end of the best epoch.\n",
      "Epoch 00093: early stopping\n",
      "ITER = 6 FOLD 10 score 0.99731\n",
      "Restoring model weights from the end of the best epoch.\n",
      "Epoch 00081: early stopping\n",
      "ITER = 6 FOLD 11 score 0.99744\n",
      "Restoring model weights from the end of the best epoch.\n",
      "Epoch 00062: early stopping\n",
      "ITER = 6 FOLD 12 score 0.99742\n",
      "Restoring model weights from the end of the best epoch.\n",
      "Epoch 00106: early stopping\n",
      "ITER = 6 FOLD 13 score 0.99742\n",
      "Restoring model weights from the end of the best epoch.\n",
      "Epoch 00092: early stopping\n",
      "ITER = 6 FOLD 14 score 0.99737\n",
      "AFTER ITER 6 NN OOF score 0.99807\n",
      "Restoring model weights from the end of the best epoch.\n",
      "Epoch 00062: early stopping\n",
      "ITER = 7 FOLD 0 score 0.99742\n",
      "Restoring model weights from the end of the best epoch.\n",
      "Epoch 00082: early stopping\n",
      "ITER = 7 FOLD 1 score 0.99756\n",
      "Restoring model weights from the end of the best epoch.\n",
      "Epoch 00069: early stopping\n",
      "ITER = 7 FOLD 2 score 0.99757\n",
      "Restoring model weights from the end of the best epoch.\n",
      "Epoch 00086: early stopping\n",
      "ITER = 7 FOLD 3 score 0.99743\n",
      "Restoring model weights from the end of the best epoch.\n",
      "Epoch 00081: early stopping\n",
      "ITER = 7 FOLD 4 score 0.99752\n",
      "Restoring model weights from the end of the best epoch.\n",
      "Epoch 00078: early stopping\n",
      "ITER = 7 FOLD 5 score 0.99724\n",
      "Restoring model weights from the end of the best epoch.\n",
      "Epoch 00053: early stopping\n",
      "ITER = 7 FOLD 6 score 0.99729\n",
      "Restoring model weights from the end of the best epoch.\n",
      "Epoch 00086: early stopping\n",
      "ITER = 7 FOLD 7 score 0.99751\n",
      "Restoring model weights from the end of the best epoch.\n",
      "Epoch 00057: early stopping\n",
      "ITER = 7 FOLD 8 score 0.99723\n",
      "Restoring model weights from the end of the best epoch.\n",
      "Epoch 00097: early stopping\n",
      "ITER = 7 FOLD 9 score 0.99753\n",
      "Restoring model weights from the end of the best epoch.\n",
      "Epoch 00058: early stopping\n",
      "ITER = 7 FOLD 10 score 0.99714\n",
      "Restoring model weights from the end of the best epoch.\n",
      "Epoch 00084: early stopping\n",
      "ITER = 7 FOLD 11 score 0.99735\n",
      "Restoring model weights from the end of the best epoch.\n",
      "Epoch 00069: early stopping\n",
      "ITER = 7 FOLD 12 score 0.99732\n",
      "Restoring model weights from the end of the best epoch.\n",
      "Epoch 00081: early stopping\n",
      "ITER = 7 FOLD 13 score 0.99740\n",
      "Restoring model weights from the end of the best epoch.\n",
      "Epoch 00065: early stopping\n",
      "ITER = 7 FOLD 14 score 0.99723\n",
      "AFTER ITER 7 NN OOF score 0.99808\n",
      "Restoring model weights from the end of the best epoch.\n",
      "Epoch 00083: early stopping\n",
      "ITER = 8 FOLD 0 score 0.99733\n",
      "Restoring model weights from the end of the best epoch.\n",
      "Epoch 00083: early stopping\n",
      "ITER = 8 FOLD 1 score 0.99751\n",
      "Restoring model weights from the end of the best epoch.\n",
      "Epoch 00068: early stopping\n",
      "ITER = 8 FOLD 2 score 0.99749\n",
      "Restoring model weights from the end of the best epoch.\n",
      "Epoch 00090: early stopping\n",
      "ITER = 8 FOLD 3 score 0.99737\n",
      "Restoring model weights from the end of the best epoch.\n",
      "Epoch 00085: early stopping\n",
      "ITER = 8 FOLD 4 score 0.99756\n",
      "Restoring model weights from the end of the best epoch.\n",
      "Epoch 00092: early stopping\n",
      "ITER = 8 FOLD 5 score 0.99727\n",
      "Restoring model weights from the end of the best epoch.\n",
      "Epoch 00092: early stopping\n",
      "ITER = 8 FOLD 6 score 0.99737\n",
      "Restoring model weights from the end of the best epoch.\n",
      "Epoch 00075: early stopping\n",
      "ITER = 8 FOLD 7 score 0.99750\n",
      "Restoring model weights from the end of the best epoch.\n",
      "Epoch 00070: early stopping\n",
      "ITER = 8 FOLD 8 score 0.99720\n",
      "Restoring model weights from the end of the best epoch.\n",
      "Epoch 00079: early stopping\n",
      "ITER = 8 FOLD 9 score 0.99745\n",
      "Restoring model weights from the end of the best epoch.\n",
      "Epoch 00097: early stopping\n",
      "ITER = 8 FOLD 10 score 0.99728\n",
      "Restoring model weights from the end of the best epoch.\n",
      "Epoch 00071: early stopping\n",
      "ITER = 8 FOLD 11 score 0.99732\n",
      "Restoring model weights from the end of the best epoch.\n",
      "Epoch 00066: early stopping\n",
      "ITER = 8 FOLD 12 score 0.99744\n",
      "Restoring model weights from the end of the best epoch.\n",
      "Epoch 00080: early stopping\n",
      "ITER = 8 FOLD 13 score 0.99759\n",
      "Restoring model weights from the end of the best epoch.\n",
      "Epoch 00081: early stopping\n",
      "ITER = 8 FOLD 14 score 0.99729\n",
      "AFTER ITER 8 NN OOF score 0.99809\n",
      "NN OOF score 0.99809\n"
     ]
    }
   ],
   "source": [
    "def nn_model(n_feats):\n",
    "    inputs = Input(shape=(n_feats))\n",
    "    x = Dense(64, activation='swish')(inputs)\n",
    "    #x = Dropout(0.1)(x)\n",
    "    x = Dense(64, activation='swish')(x)\n",
    "    #x = Dropout(0.1)(x)\n",
    "    x = Dense(16, activation='swish')(x)\n",
    "    x = Dense(1, activation='sigmoid')(x)\n",
    "    model = Model(inputs, x)\n",
    "    return model\n",
    "\n",
    "\n",
    "def fit_model(X_train, y_train, \n",
    "              X_valid, y_valid, \n",
    "              X_test):\n",
    "    \n",
    "    scaler = StandardScaler()\n",
    "    X_tr = scaler.fit_transform(X_train)\n",
    "    X_va = scaler.transform(X_valid)\n",
    "    X_te = scaler.transform(X_test)\n",
    "    valid_data = (X_va, y_valid)\n",
    "\n",
    "    lr = ReduceLROnPlateau(monitor = \"val_loss\", factor = 0.75, \n",
    "                           patience = 10, verbose = 0)\n",
    "    es = EarlyStopping(monitor = \"val_loss\", patience = 20, \n",
    "                       verbose = 1, restore_best_weights = True)\n",
    "    model = nn_model(X_train.shape[1])\n",
    "    model.compile(optimizer = Adam(learning_rate = 0.01),\n",
    "                  loss = BinaryCrossentropy())\n",
    "\n",
    "    history = model.fit(X_tr, y_train, \n",
    "                        validation_data = valid_data, \n",
    "                        epochs = 500,\n",
    "                        verbose = 0,\n",
    "                        batch_size = 4096,\n",
    "                        shuffle = True,\n",
    "                        callbacks = [lr, es])\n",
    "    \n",
    "    y_valid_pred = model.predict(X_va).reshape(1, -1)[0]\n",
    "    y_test_pred = model.predict(X_te).reshape(1, -1)[0]\n",
    "\n",
    "    return y_valid_pred, y_test_pred\n",
    "\n",
    "\n",
    "features = [x for x in train_data.columns if x not in ['id', TARGET_NAME, 'f_27']]\n",
    "skf = StratifiedKFold(n_splits = N_FOLDS, random_state = RANDOM_STATE, shuffle = True)\n",
    "NN_OOF_PRED = np.zeros(len(train_data))\n",
    "NN_TEST_PRED = np.zeros(len(test_data))\n",
    "    \n",
    "y = train_data[TARGET_NAME].values\n",
    "X_test = test_data[features]\n",
    "N_START = 9\n",
    "for it in range(N_START):\n",
    "    for fold, (train_idx, valid_idx) in enumerate(skf.split(y, y)):\n",
    "        X_train = train_data.iloc[train_idx, :][features]\n",
    "        X_valid = train_data.iloc[valid_idx, :][features]\n",
    "        y_train = y[train_idx]\n",
    "        y_valid = y[valid_idx]\n",
    "\n",
    "        val_pred, test_pred = fit_model(X_train, y_train, \n",
    "                                        X_valid, y_valid, \n",
    "                                        X_test)\n",
    "\n",
    "        print('ITER = {} FOLD {} score {:.5f}'.format(it, fold, roc_auc_score(y_valid, val_pred)))\n",
    "\n",
    "        NN_OOF_PRED[valid_idx] += val_pred / N_START\n",
    "        NN_TEST_PRED += test_pred / N_FOLDS / N_START\n",
    "    print('AFTER ITER {} NN OOF score {:.5f}'.format(it, roc_auc_score(y, NN_OOF_PRED)))\n",
    "    \n",
    "print('NN OOF score {:.5f}'.format(roc_auc_score(y, NN_OOF_PRED)))"
   ]
  },
  {
   "cell_type": "code",
   "execution_count": 21,
   "id": "bf66c450",
   "metadata": {
    "execution": {
     "iopub.execute_input": "2022-05-12T17:19:30.933072Z",
     "iopub.status.busy": "2022-05-12T17:19:30.932378Z",
     "iopub.status.idle": "2022-05-12T17:19:30.942134Z",
     "shell.execute_reply": "2022-05-12T17:19:30.941004Z"
    },
    "papermill": {
     "duration": 0.138991,
     "end_time": "2022-05-12T17:19:30.944332",
     "exception": false,
     "start_time": "2022-05-12T17:19:30.805341",
     "status": "completed"
    },
    "tags": []
   },
   "outputs": [],
   "source": [
    "train_data['NN'] = NN_OOF_PRED\n",
    "test_data['NN'] = NN_TEST_PRED"
   ]
  },
  {
   "cell_type": "code",
   "execution_count": 22,
   "id": "52924992",
   "metadata": {
    "execution": {
     "iopub.execute_input": "2022-05-12T17:19:31.196551Z",
     "iopub.status.busy": "2022-05-12T17:19:31.196260Z",
     "iopub.status.idle": "2022-05-12T17:19:33.576603Z",
     "shell.execute_reply": "2022-05-12T17:19:33.575748Z"
    },
    "papermill": {
     "duration": 2.508046,
     "end_time": "2022-05-12T17:19:33.578893",
     "exception": false,
     "start_time": "2022-05-12T17:19:31.070847",
     "status": "completed"
    },
    "tags": []
   },
   "outputs": [
    {
     "name": "stderr",
     "output_type": "stream",
     "text": [
      "/opt/conda/lib/python3.7/site-packages/ipykernel_launcher.py:2: SettingWithCopyWarning: \n",
      "A value is trying to be set on a copy of a slice from a DataFrame.\n",
      "Try using .loc[row_indexer,col_indexer] = value instead\n",
      "\n",
      "See the caveats in the documentation: https://pandas.pydata.org/pandas-docs/stable/user_guide/indexing.html#returning-a-view-versus-a-copy\n",
      "  \n"
     ]
    }
   ],
   "source": [
    "oofs = train_data[['id']]\n",
    "oofs[TARGET_NAME] = NN_OOF_PRED\n",
    "oofs.to_csv('oof_nn_preds_only.csv', index = False)"
   ]
  },
  {
   "cell_type": "code",
   "execution_count": 23,
   "id": "9432a247",
   "metadata": {
    "execution": {
     "iopub.execute_input": "2022-05-12T17:19:33.834886Z",
     "iopub.status.busy": "2022-05-12T17:19:33.834316Z",
     "iopub.status.idle": "2022-05-12T17:19:35.581712Z",
     "shell.execute_reply": "2022-05-12T17:19:35.580861Z"
    },
    "papermill": {
     "duration": 1.878175,
     "end_time": "2022-05-12T17:19:35.583981",
     "exception": false,
     "start_time": "2022-05-12T17:19:33.705806",
     "status": "completed"
    },
    "tags": []
   },
   "outputs": [],
   "source": [
    "submission[TARGET_NAME] = NN_TEST_PRED\n",
    "submission.to_csv('nn_preds_only.csv', index = False)"
   ]
  },
  {
   "cell_type": "markdown",
   "id": "c7903a93",
   "metadata": {
    "papermill": {
     "duration": 0.124453,
     "end_time": "2022-05-12T17:19:35.832696",
     "exception": false,
     "start_time": "2022-05-12T17:19:35.708243",
     "status": "completed"
    },
    "tags": []
   },
   "source": [
    "# 1. Task definition"
   ]
  },
  {
   "cell_type": "markdown",
   "id": "1db1a241",
   "metadata": {
    "papermill": {
     "duration": 0.123935,
     "end_time": "2022-05-12T17:19:36.080728",
     "exception": false,
     "start_time": "2022-05-12T17:19:35.956793",
     "status": "completed"
    },
    "tags": []
   },
   "source": [
    "### 1.1. Task type\n",
    "\n",
    "On the cell below we create Task object - the class to setup what task LightAutoML model should solve with specific loss and metric if necessary (more info can be found [here](https://lightautoml.readthedocs.io/en/latest/pages/modules/generated/lightautoml.tasks.base.Task.html#lightautoml.tasks.base.Task) in our documentation):"
   ]
  },
  {
   "cell_type": "code",
   "execution_count": 24,
   "id": "45bcaaeb",
   "metadata": {
    "execution": {
     "iopub.execute_input": "2022-05-12T17:19:36.331515Z",
     "iopub.status.busy": "2022-05-12T17:19:36.331211Z",
     "iopub.status.idle": "2022-05-12T17:19:36.338866Z",
     "shell.execute_reply": "2022-05-12T17:19:36.338218Z"
    },
    "papermill": {
     "duration": 0.136008,
     "end_time": "2022-05-12T17:19:36.340686",
     "exception": false,
     "start_time": "2022-05-12T17:19:36.204678",
     "status": "completed"
    },
    "tags": []
   },
   "outputs": [],
   "source": [
    "task = Task('binary',)"
   ]
  },
  {
   "cell_type": "markdown",
   "id": "4a40bfd7",
   "metadata": {
    "papermill": {
     "duration": 0.123343,
     "end_time": "2022-05-12T17:19:36.587074",
     "exception": false,
     "start_time": "2022-05-12T17:19:36.463731",
     "status": "completed"
    },
    "tags": []
   },
   "source": [
    "### 1.2. Feature roles setup"
   ]
  },
  {
   "cell_type": "markdown",
   "id": "f157cb5c",
   "metadata": {
    "papermill": {
     "duration": 0.12611,
     "end_time": "2022-05-12T17:19:36.836918",
     "exception": false,
     "start_time": "2022-05-12T17:19:36.710808",
     "status": "completed"
    },
    "tags": []
   },
   "source": [
    "To solve the task, we need to setup columns roles. The **only role you must setup is target role**, everything else (drop, numeric, categorical, group, weights etc.) is up to user - LightAutoML models have automatic columns typization inside:"
   ]
  },
  {
   "cell_type": "code",
   "execution_count": 25,
   "id": "cf69ee60",
   "metadata": {
    "execution": {
     "iopub.execute_input": "2022-05-12T17:19:37.086162Z",
     "iopub.status.busy": "2022-05-12T17:19:37.085888Z",
     "iopub.status.idle": "2022-05-12T17:19:37.089340Z",
     "shell.execute_reply": "2022-05-12T17:19:37.088763Z"
    },
    "papermill": {
     "duration": 0.130759,
     "end_time": "2022-05-12T17:19:37.091090",
     "exception": false,
     "start_time": "2022-05-12T17:19:36.960331",
     "status": "completed"
    },
    "tags": []
   },
   "outputs": [],
   "source": [
    "roles = {\n",
    "    'target': TARGET_NAME,\n",
    "    'drop': ['id', 'f_27'] #+ [col for col in train_data.columns if col.startswith('tfidf_')]\n",
    "}"
   ]
  },
  {
   "cell_type": "markdown",
   "id": "522c22e9",
   "metadata": {
    "papermill": {
     "duration": 0.126795,
     "end_time": "2022-05-12T17:19:37.342112",
     "exception": false,
     "start_time": "2022-05-12T17:19:37.215317",
     "status": "completed"
    },
    "tags": []
   },
   "source": [
    "### 1.3. LightAutoML model creation - TabularAutoML preset"
   ]
  },
  {
   "cell_type": "markdown",
   "id": "00e0c21d",
   "metadata": {
    "papermill": {
     "duration": 0.124883,
     "end_time": "2022-05-12T17:19:37.594979",
     "exception": false,
     "start_time": "2022-05-12T17:19:37.470096",
     "status": "completed"
    },
    "tags": []
   },
   "source": [
    "In next the cell we are going to create LightAutoML model with `TabularAutoML` class - preset with default model structure like in the image below:\n",
    "\n",
    "<img src=\"https://github.com/AILab-MLTools/LightAutoML/raw/master/imgs/tutorial_blackbox_pipeline.png\" alt=\"TabularAutoML preset pipeline\" style=\"width:85%;\"/>\n",
    "\n",
    "in just several lines. Let's discuss the params we can setup:\n",
    "- `task` - the type of the ML task (the only **must have** parameter)\n",
    "- `timeout` - time limit in seconds for model to train\n",
    "- `cpu_limit` - vCPU count for model to use\n",
    "- `reader_params` - parameter change for Reader object inside preset, which works on the first step of data preparation: automatic feature typization, preliminary almost-constant features, correct CV setup etc. For example, we setup `n_jobs` threads for typization algo, `cv` folds and `random_state` as inside CV seed.\n",
    "\n",
    "**Important note**: `reader_params` key is one of the YAML config keys, which is used inside `TabularAutoML` preset. [More details](https://github.com/AILab-MLTools/LightAutoML/blob/master/lightautoml/automl/presets/tabular_config.yml) on its structure with explanation comments can be found on the link attached. Each key from this config can be modified with user settings during preset object initialization. To get more info about different parameters setting (for example, ML algos which can be used in `general_params->use_algos`) please take a look at our [article on TowardsDataScience](https://towardsdatascience.com/lightautoml-preset-usage-tutorial-2cce7da6f936).\n",
    "\n",
    "Moreover, to receive the automatic report for our model we can use `ReportDeco` decorator and work with the decorated version in the same way as we do with usual one (more details in [this tutorial](https://github.com/AILab-MLTools/LightAutoML/blob/master/examples/tutorials/Tutorial_1_basics.ipynb))"
   ]
  },
  {
   "cell_type": "code",
   "execution_count": 26,
   "id": "67d30c99",
   "metadata": {
    "execution": {
     "iopub.execute_input": "2022-05-12T17:19:37.851042Z",
     "iopub.status.busy": "2022-05-12T17:19:37.850464Z",
     "iopub.status.idle": "2022-05-12T17:19:37.888145Z",
     "shell.execute_reply": "2022-05-12T17:19:37.887508Z"
    },
    "papermill": {
     "duration": 0.168566,
     "end_time": "2022-05-12T17:19:37.890220",
     "exception": false,
     "start_time": "2022-05-12T17:19:37.721654",
     "status": "completed"
    },
    "tags": []
   },
   "outputs": [],
   "source": [
    "automl = TabularAutoML(\n",
    "    task = task, \n",
    "    timeout = TIMEOUT,\n",
    "    cpu_limit = N_THREADS,\n",
    "    general_params = {'use_algos': [['lgb']]},\n",
    "    reader_params = {'n_jobs': N_THREADS, 'cv': N_FOLDS, 'random_state': RANDOM_STATE}\n",
    ")"
   ]
  },
  {
   "cell_type": "markdown",
   "id": "ccd6d9d1",
   "metadata": {
    "papermill": {
     "duration": 0.124828,
     "end_time": "2022-05-12T17:19:38.141045",
     "exception": false,
     "start_time": "2022-05-12T17:19:38.016217",
     "status": "completed"
    },
    "tags": []
   },
   "source": [
    "# 2. AutoML training"
   ]
  },
  {
   "cell_type": "markdown",
   "id": "4d5eaa7f",
   "metadata": {
    "papermill": {
     "duration": 0.126007,
     "end_time": "2022-05-12T17:19:38.391072",
     "exception": false,
     "start_time": "2022-05-12T17:19:38.265065",
     "status": "completed"
    },
    "tags": []
   },
   "source": [
    "To run autoML training use fit_predict method:\n",
    "- `train_data` - Dataset to train.\n",
    "- `roles` - Roles dict.\n",
    "- `verbose` - Controls the verbosity: the higher, the more messages.\n",
    "        <1  : messages are not displayed;\n",
    "        >=1 : the computation process for layers is displayed;\n",
    "        >=2 : the information about folds processing is also displayed;\n",
    "        >=3 : the hyperparameters optimization process is also displayed;\n",
    "        >=4 : the training process for every algorithm is displayed;\n",
    "\n",
    "Note: out-of-fold prediction is calculated during training and returned from the fit_predict method"
   ]
  },
  {
   "cell_type": "code",
   "execution_count": 27,
   "id": "f0eadb43",
   "metadata": {
    "_kg_hide-output": true,
    "execution": {
     "iopub.execute_input": "2022-05-12T17:19:38.640200Z",
     "iopub.status.busy": "2022-05-12T17:19:38.639688Z",
     "iopub.status.idle": "2022-05-12T17:38:19.875924Z",
     "shell.execute_reply": "2022-05-12T17:38:19.874776Z"
    },
    "papermill": {
     "duration": 1121.513783,
     "end_time": "2022-05-12T17:38:20.028855",
     "exception": false,
     "start_time": "2022-05-12T17:19:38.515072",
     "status": "completed"
    },
    "scrolled": true,
    "tags": []
   },
   "outputs": [
    {
     "name": "stdout",
     "output_type": "stream",
     "text": [
      "[17:19:38] Stdout logging level is INFO3.\n",
      "[17:19:38] Copying TaskTimer may affect the parent PipelineTimer, so copy will create new unlimited TaskTimer\n",
      "[17:19:38] Task: binary\n",
      "\n",
      "[17:19:38] Start automl preset with listed constraints:\n",
      "[17:19:38] - time: 28800.00 seconds\n",
      "[17:19:38] - CPU: 4 cores\n",
      "[17:19:38] - memory: 16 GB\n",
      "\n",
      "[17:19:38] \u001b[1mTrain data shape: (900000, 72)\u001b[0m\n",
      "\n",
      "[17:19:53] Feats was rejected during automatic roles guess: []\n",
      "[17:19:53] Layer \u001b[1m1\u001b[0m train process start. Time left 28784.80 secs\n",
      "[17:19:57] [1]\tvalid's auc: 0.997209\n",
      "[17:19:57] Training until validation scores don't improve for 100 rounds\n",
      "[17:20:17] [100]\tvalid's auc: 0.99794\n",
      "[17:20:42] [200]\tvalid's auc: 0.997878\n",
      "[17:20:52] \u001b[1mSelector_LightGBM\u001b[0m fitting and predicting completed\n",
      "[17:20:53] Start fitting \u001b[1mLvl_0_Pipe_0_Mod_0_LightGBM\u001b[0m ...\n",
      "[17:20:54] ===== Start working with \u001b[1mfold 0\u001b[0m for \u001b[1mLvl_0_Pipe_0_Mod_0_LightGBM\u001b[0m =====\n",
      "[17:20:57] [1]\tvalid's auc: 0.873374\n",
      "[17:20:57] Training until validation scores don't improve for 100 rounds\n",
      "[17:21:17] [100]\tvalid's auc: 0.997877\n",
      "[17:21:39] [200]\tvalid's auc: 0.997941\n",
      "[17:22:03] [300]\tvalid's auc: 0.99785\n",
      "[17:22:05] ===== Start working with \u001b[1mfold 1\u001b[0m for \u001b[1mLvl_0_Pipe_0_Mod_0_LightGBM\u001b[0m =====\n",
      "[17:22:07] [1]\tvalid's auc: 0.881244\n",
      "[17:22:07] Training until validation scores don't improve for 100 rounds\n",
      "[17:22:29] [100]\tvalid's auc: 0.998066\n",
      "[17:22:51] [200]\tvalid's auc: 0.998134\n",
      "[17:23:10] ===== Start working with \u001b[1mfold 2\u001b[0m for \u001b[1mLvl_0_Pipe_0_Mod_0_LightGBM\u001b[0m =====\n",
      "[17:23:13] [1]\tvalid's auc: 0.880342\n",
      "[17:23:13] Training until validation scores don't improve for 100 rounds\n",
      "[17:23:34] [100]\tvalid's auc: 0.998038\n",
      "[17:23:55] [200]\tvalid's auc: 0.998095\n",
      "[17:24:20] [300]\tvalid's auc: 0.998106\n",
      "[17:24:44] ===== Start working with \u001b[1mfold 3\u001b[0m for \u001b[1mLvl_0_Pipe_0_Mod_0_LightGBM\u001b[0m =====\n",
      "[17:24:47] [1]\tvalid's auc: 0.874323\n",
      "[17:24:47] Training until validation scores don't improve for 100 rounds\n",
      "[17:25:09] [100]\tvalid's auc: 0.998008\n",
      "[17:25:31] [200]\tvalid's auc: 0.998072\n",
      "[17:25:52] ===== Start working with \u001b[1mfold 4\u001b[0m for \u001b[1mLvl_0_Pipe_0_Mod_0_LightGBM\u001b[0m =====\n",
      "[17:25:55] [1]\tvalid's auc: 0.879599\n",
      "[17:25:55] Training until validation scores don't improve for 100 rounds\n",
      "[17:26:16] [100]\tvalid's auc: 0.998038\n",
      "[17:26:40] [200]\tvalid's auc: 0.998115\n",
      "[17:27:00] ===== Start working with \u001b[1mfold 5\u001b[0m for \u001b[1mLvl_0_Pipe_0_Mod_0_LightGBM\u001b[0m =====\n",
      "[17:27:03] [1]\tvalid's auc: 0.873283\n",
      "[17:27:03] Training until validation scores don't improve for 100 rounds\n",
      "[17:27:25] [100]\tvalid's auc: 0.997879\n",
      "[17:27:47] [200]\tvalid's auc: 0.99796\n",
      "[17:28:08] ===== Start working with \u001b[1mfold 6\u001b[0m for \u001b[1mLvl_0_Pipe_0_Mod_0_LightGBM\u001b[0m =====\n",
      "[17:28:11] [1]\tvalid's auc: 0.867525\n",
      "[17:28:11] Training until validation scores don't improve for 100 rounds\n",
      "[17:28:33] [100]\tvalid's auc: 0.99793\n",
      "[17:28:55] [200]\tvalid's auc: 0.997968\n",
      "[17:29:09] ===== Start working with \u001b[1mfold 7\u001b[0m for \u001b[1mLvl_0_Pipe_0_Mod_0_LightGBM\u001b[0m =====\n",
      "[17:29:12] [1]\tvalid's auc: 0.874416\n",
      "[17:29:12] Training until validation scores don't improve for 100 rounds\n",
      "[17:29:34] [100]\tvalid's auc: 0.998098\n",
      "[17:29:56] [200]\tvalid's auc: 0.998173\n",
      "[17:30:16] ===== Start working with \u001b[1mfold 8\u001b[0m for \u001b[1mLvl_0_Pipe_0_Mod_0_LightGBM\u001b[0m =====\n",
      "[17:30:19] [1]\tvalid's auc: 0.870202\n",
      "[17:30:19] Training until validation scores don't improve for 100 rounds\n",
      "[17:30:41] [100]\tvalid's auc: 0.997826\n",
      "[17:31:03] [200]\tvalid's auc: 0.997917\n",
      "[17:31:18] ===== Start working with \u001b[1mfold 9\u001b[0m for \u001b[1mLvl_0_Pipe_0_Mod_0_LightGBM\u001b[0m =====\n",
      "[17:31:21] [1]\tvalid's auc: 0.878214\n",
      "[17:31:21] Training until validation scores don't improve for 100 rounds\n",
      "[17:31:43] [100]\tvalid's auc: 0.998102\n",
      "[17:32:04] [200]\tvalid's auc: 0.998138\n",
      "[17:32:21] ===== Start working with \u001b[1mfold 10\u001b[0m for \u001b[1mLvl_0_Pipe_0_Mod_0_LightGBM\u001b[0m =====\n",
      "[17:32:24] [1]\tvalid's auc: 0.874707\n",
      "[17:32:24] Training until validation scores don't improve for 100 rounds\n",
      "[17:32:44] [100]\tvalid's auc: 0.997824\n",
      "[17:33:07] [200]\tvalid's auc: 0.997907\n",
      "[17:33:31] [300]\tvalid's auc: 0.997895\n",
      "[17:33:37] ===== Start working with \u001b[1mfold 11\u001b[0m for \u001b[1mLvl_0_Pipe_0_Mod_0_LightGBM\u001b[0m =====\n",
      "[17:33:40] [1]\tvalid's auc: 0.875622\n",
      "[17:33:40] Training until validation scores don't improve for 100 rounds\n",
      "[17:34:01] [100]\tvalid's auc: 0.997895\n",
      "[17:34:24] [200]\tvalid's auc: 0.997931\n",
      "[17:34:47] [300]\tvalid's auc: 0.997934\n",
      "[17:35:01] ===== Start working with \u001b[1mfold 12\u001b[0m for \u001b[1mLvl_0_Pipe_0_Mod_0_LightGBM\u001b[0m =====\n",
      "[17:35:03] [1]\tvalid's auc: 0.873295\n",
      "[17:35:03] Training until validation scores don't improve for 100 rounds\n",
      "[17:35:24] [100]\tvalid's auc: 0.997895\n",
      "[17:35:47] [200]\tvalid's auc: 0.99798\n",
      "[17:36:11] ===== Start working with \u001b[1mfold 13\u001b[0m for \u001b[1mLvl_0_Pipe_0_Mod_0_LightGBM\u001b[0m =====\n",
      "[17:36:14] [1]\tvalid's auc: 0.873913\n",
      "[17:36:14] Training until validation scores don't improve for 100 rounds\n",
      "[17:36:36] [100]\tvalid's auc: 0.998019\n",
      "[17:36:58] [200]\tvalid's auc: 0.998068\n",
      "[17:37:16] ===== Start working with \u001b[1mfold 14\u001b[0m for \u001b[1mLvl_0_Pipe_0_Mod_0_LightGBM\u001b[0m =====\n",
      "[17:37:19] [1]\tvalid's auc: 0.875713\n",
      "[17:37:19] Training until validation scores don't improve for 100 rounds\n",
      "[17:37:40] [100]\tvalid's auc: 0.997914\n",
      "[17:38:02] [200]\tvalid's auc: 0.997973\n",
      "[17:38:19] Fitting \u001b[1mLvl_0_Pipe_0_Mod_0_LightGBM\u001b[0m finished. score = \u001b[1m0.9980038571041226\u001b[0m\n",
      "[17:38:19] \u001b[1mLvl_0_Pipe_0_Mod_0_LightGBM\u001b[0m fitting and predicting completed\n",
      "[17:38:19] Time left 27678.79 secs\n",
      "\n",
      "[17:38:19] \u001b[1mLayer 1 training completed.\u001b[0m\n",
      "\n",
      "[17:38:19] \u001b[1mAutoml preset training completed in 1121.21 seconds\u001b[0m\n",
      "\n",
      "[17:38:19] Model description:\n",
      "Final prediction for new objects (level 0) = \n",
      "\t 1.00000 * (15 averaged models Lvl_0_Pipe_0_Mod_0_LightGBM) \n",
      "\n",
      "CPU times: user 1h 11min 54s, sys: 2.5 s, total: 1h 11min 57s\n",
      "Wall time: 18min 41s\n"
     ]
    }
   ],
   "source": [
    "%%time \n",
    "oof_pred = automl.fit_predict(train_data, roles = roles, verbose = 3)"
   ]
  },
  {
   "cell_type": "code",
   "execution_count": 28,
   "id": "bc2d4bbb",
   "metadata": {
    "execution": {
     "iopub.execute_input": "2022-05-12T17:38:20.340911Z",
     "iopub.status.busy": "2022-05-12T17:38:20.340627Z",
     "iopub.status.idle": "2022-05-12T17:38:20.345834Z",
     "shell.execute_reply": "2022-05-12T17:38:20.345221Z"
    },
    "papermill": {
     "duration": 0.164856,
     "end_time": "2022-05-12T17:38:20.348359",
     "exception": false,
     "start_time": "2022-05-12T17:38:20.183503",
     "status": "completed"
    },
    "tags": []
   },
   "outputs": [
    {
     "name": "stdout",
     "output_type": "stream",
     "text": [
      "Final prediction for new objects (level 0) = \n",
      "\t 1.00000 * (15 averaged models Lvl_0_Pipe_0_Mod_0_LightGBM) \n"
     ]
    }
   ],
   "source": [
    "print(automl.create_model_str_desc())"
   ]
  },
  {
   "cell_type": "code",
   "execution_count": 29,
   "id": "8d44e328",
   "metadata": {
    "execution": {
     "iopub.execute_input": "2022-05-12T17:38:20.656797Z",
     "iopub.status.busy": "2022-05-12T17:38:20.656482Z",
     "iopub.status.idle": "2022-05-12T17:38:21.040229Z",
     "shell.execute_reply": "2022-05-12T17:38:21.038995Z"
    },
    "papermill": {
     "duration": 0.539114,
     "end_time": "2022-05-12T17:38:21.042278",
     "exception": false,
     "start_time": "2022-05-12T17:38:20.503164",
     "status": "completed"
    },
    "tags": []
   },
   "outputs": [
    {
     "name": "stdout",
     "output_type": "stream",
     "text": [
      "TRAIN out-of-fold score: 0.9980038571041226\n"
     ]
    }
   ],
   "source": [
    "print(f'TRAIN out-of-fold score: {roc_auc_score(train_data[TARGET_NAME].values, oof_pred.data[:, 0])}')"
   ]
  },
  {
   "cell_type": "markdown",
   "id": "3e1fe51a",
   "metadata": {
    "papermill": {
     "duration": 0.158528,
     "end_time": "2022-05-12T17:38:21.354964",
     "exception": false,
     "start_time": "2022-05-12T17:38:21.196436",
     "status": "completed"
    },
    "tags": []
   },
   "source": [
    "# 3. Feature importances calculation \n",
    "\n",
    "For feature importances calculation we have 2 different methods in LightAutoML:\n",
    "- Fast (`fast`) - this method uses feature importances from feature selector LGBM model inside LightAutoML. It works extremely fast and almost always (almost because of situations, when feature selection is turned off or selector was removed from the final models with all GBM models). no need to use new labelled data.\n",
    "- Accurate (`accurate`) - this method calculate *features permutation importances* for the whole LightAutoML model based on the **new labelled data**. It always works but can take a lot of time to finish (depending on the model structure, new labelled dataset size etc.)."
   ]
  },
  {
   "cell_type": "code",
   "execution_count": 30,
   "id": "722f9ef2",
   "metadata": {
    "execution": {
     "iopub.execute_input": "2022-05-12T17:38:21.684726Z",
     "iopub.status.busy": "2022-05-12T17:38:21.684207Z",
     "iopub.status.idle": "2022-05-12T17:38:22.921602Z",
     "shell.execute_reply": "2022-05-12T17:38:22.920694Z"
    },
    "papermill": {
     "duration": 1.394773,
     "end_time": "2022-05-12T17:38:22.923513",
     "exception": false,
     "start_time": "2022-05-12T17:38:21.528740",
     "status": "completed"
    },
    "tags": []
   },
   "outputs": [
    {
     "name": "stdout",
     "output_type": "stream",
     "text": [
      "CPU times: user 583 ms, sys: 0 ns, total: 583 ms\n",
      "Wall time: 226 ms\n"
     ]
    },
    {
     "data": {
      "text/plain": [
       "<AxesSubplot:xlabel='Feature'>"
      ]
     },
     "execution_count": 30,
     "metadata": {},
     "output_type": "execute_result"
    },
    {
     "data": {
      "image/png": "[encoded data removed]",
      "text/plain": [
       "<Figure size 2160x720 with 1 Axes>"
      ]
     },
     "metadata": {
      "needs_background": "light"
     },
     "output_type": "display_data"
    }
   ],
   "source": [
    "%%time\n",
    "\n",
    "# Fast feature importances calculation\n",
    "fast_fi = automl.get_feature_scores('fast')\n",
    "top_5_features = fast_fi['Feature'].values[:5]\n",
    "fast_fi.set_index('Feature')['Importance'].plot.bar(figsize = (30, 10), grid = True)"
   ]
  },
  {
   "cell_type": "code",
   "execution_count": 31,
   "id": "204b4348",
   "metadata": {
    "execution": {
     "iopub.execute_input": "2022-05-12T17:38:23.239998Z",
     "iopub.status.busy": "2022-05-12T17:38:23.238974Z",
     "iopub.status.idle": "2022-05-12T17:38:23.248601Z",
     "shell.execute_reply": "2022-05-12T17:38:23.247739Z"
    },
    "papermill": {
     "duration": 0.169429,
     "end_time": "2022-05-12T17:38:23.250251",
     "exception": false,
     "start_time": "2022-05-12T17:38:23.080822",
     "status": "completed"
    },
    "tags": []
   },
   "outputs": [
    {
     "data": {
      "text/html": [
       "<div>\n",
       "<style scoped>\n",
       "    .dataframe tbody tr th:only-of-type {\n",
       "        vertical-align: middle;\n",
       "    }\n",
       "\n",
       "    .dataframe tbody tr th {\n",
       "        vertical-align: top;\n",
       "    }\n",
       "\n",
       "    .dataframe thead th {\n",
       "        text-align: right;\n",
       "    }\n",
       "</style>\n",
       "<table border=\"1\" class=\"dataframe\">\n",
       "  <thead>\n",
       "    <tr style=\"text-align: right;\">\n",
       "      <th></th>\n",
       "      <th>Feature</th>\n",
       "      <th>Importance</th>\n",
       "    </tr>\n",
       "  </thead>\n",
       "  <tbody>\n",
       "    <tr>\n",
       "      <th>0</th>\n",
       "      <td>NN</td>\n",
       "      <td>7.688438e+06</td>\n",
       "    </tr>\n",
       "    <tr>\n",
       "      <th>1</th>\n",
       "      <td>f_24</td>\n",
       "      <td>8.225547e+03</td>\n",
       "    </tr>\n",
       "    <tr>\n",
       "      <th>2</th>\n",
       "      <td>f_23</td>\n",
       "      <td>8.166328e+03</td>\n",
       "    </tr>\n",
       "    <tr>\n",
       "      <th>3</th>\n",
       "      <td>f_20</td>\n",
       "      <td>8.007767e+03</td>\n",
       "    </tr>\n",
       "    <tr>\n",
       "      <th>4</th>\n",
       "      <td>f_19</td>\n",
       "      <td>7.505094e+03</td>\n",
       "    </tr>\n",
       "  </tbody>\n",
       "</table>\n",
       "</div>"
      ],
      "text/plain": [
       "  Feature    Importance\n",
       "0      NN  7.688438e+06\n",
       "1    f_24  8.225547e+03\n",
       "2    f_23  8.166328e+03\n",
       "3    f_20  8.007767e+03\n",
       "4    f_19  7.505094e+03"
      ]
     },
     "execution_count": 31,
     "metadata": {},
     "output_type": "execute_result"
    }
   ],
   "source": [
    "fast_fi.head()"
   ]
  },
  {
   "cell_type": "code",
   "execution_count": 32,
   "id": "4978894e",
   "metadata": {
    "execution": {
     "iopub.execute_input": "2022-05-12T17:38:23.565789Z",
     "iopub.status.busy": "2022-05-12T17:38:23.565203Z",
     "iopub.status.idle": "2022-05-12T17:39:14.825416Z",
     "shell.execute_reply": "2022-05-12T17:39:14.824525Z"
    },
    "papermill": {
     "duration": 51.41878,
     "end_time": "2022-05-12T17:39:14.827570",
     "exception": false,
     "start_time": "2022-05-12T17:38:23.408790",
     "status": "completed"
    },
    "tags": []
   },
   "outputs": [
    {
     "name": "stderr",
     "output_type": "stream",
     "text": [
      "100%|██████████| 30/30 [00:45<00:00,  1.53s/it]\n"
     ]
    },
    {
     "data": {
      "image/png": "[encoded data removed]",
      "text/plain": [
       "<Figure size 1152x864 with 2 Axes>"
      ]
     },
     "metadata": {},
     "output_type": "display_data"
    }
   ],
   "source": [
    "automl.plot_pdp(test_data.sample(10000), feature_name=top_5_features[0])"
   ]
  },
  {
   "cell_type": "code",
   "execution_count": 33,
   "id": "b7da2fdf",
   "metadata": {
    "execution": {
     "iopub.execute_input": "2022-05-12T17:39:15.166855Z",
     "iopub.status.busy": "2022-05-12T17:39:15.166366Z",
     "iopub.status.idle": "2022-05-12T17:39:52.453262Z",
     "shell.execute_reply": "2022-05-12T17:39:52.452523Z"
    },
    "papermill": {
     "duration": 37.459568,
     "end_time": "2022-05-12T17:39:52.455219",
     "exception": false,
     "start_time": "2022-05-12T17:39:14.995651",
     "status": "completed"
    },
    "tags": []
   },
   "outputs": [
    {
     "name": "stderr",
     "output_type": "stream",
     "text": [
      "100%|██████████| 30/30 [00:32<00:00,  1.09s/it]\n"
     ]
    },
    {
     "data": {
      "image/png": "[encoded data removed]",
      "text/plain": [
       "<Figure size 1152x864 with 2 Axes>"
      ]
     },
     "metadata": {},
     "output_type": "display_data"
    }
   ],
   "source": [
    "automl.plot_pdp(test_data.sample(10000), feature_name=top_5_features[1])"
   ]
  },
  {
   "cell_type": "code",
   "execution_count": 34,
   "id": "9013c465",
   "metadata": {
    "execution": {
     "iopub.execute_input": "2022-05-12T17:39:52.813450Z",
     "iopub.status.busy": "2022-05-12T17:39:52.812876Z",
     "iopub.status.idle": "2022-05-12T17:40:29.628036Z",
     "shell.execute_reply": "2022-05-12T17:40:29.627169Z"
    },
    "papermill": {
     "duration": 36.996061,
     "end_time": "2022-05-12T17:40:29.629988",
     "exception": false,
     "start_time": "2022-05-12T17:39:52.633927",
     "status": "completed"
    },
    "tags": []
   },
   "outputs": [
    {
     "name": "stderr",
     "output_type": "stream",
     "text": [
      "100%|██████████| 30/30 [00:32<00:00,  1.08s/it]\n"
     ]
    },
    {
     "data": {
      "image/png": "[encoded data removed]",
      "text/plain": [
       "<Figure size 1152x864 with 2 Axes>"
      ]
     },
     "metadata": {},
     "output_type": "display_data"
    }
   ],
   "source": [
    "automl.plot_pdp(test_data.sample(10000), feature_name=top_5_features[2])"
   ]
  },
  {
   "cell_type": "code",
   "execution_count": 35,
   "id": "0a9261a0",
   "metadata": {
    "execution": {
     "iopub.execute_input": "2022-05-12T17:40:30.012168Z",
     "iopub.status.busy": "2022-05-12T17:40:30.011858Z",
     "iopub.status.idle": "2022-05-12T17:41:06.821322Z",
     "shell.execute_reply": "2022-05-12T17:41:06.820403Z"
    },
    "papermill": {
     "duration": 37.003316,
     "end_time": "2022-05-12T17:41:06.823249",
     "exception": false,
     "start_time": "2022-05-12T17:40:29.819933",
     "status": "completed"
    },
    "tags": []
   },
   "outputs": [
    {
     "name": "stderr",
     "output_type": "stream",
     "text": [
      "100%|██████████| 30/30 [00:32<00:00,  1.08s/it]\n"
     ]
    },
    {
     "data": {
      "image/png": "[encoded data removed]",
      "text/plain": [
       "<Figure size 1152x864 with 2 Axes>"
      ]
     },
     "metadata": {},
     "output_type": "display_data"
    }
   ],
   "source": [
    "automl.plot_pdp(test_data.sample(10000), feature_name=top_5_features[3])"
   ]
  },
  {
   "cell_type": "code",
   "execution_count": 36,
   "id": "89523f42",
   "metadata": {
    "execution": {
     "iopub.execute_input": "2022-05-12T17:41:07.236429Z",
     "iopub.status.busy": "2022-05-12T17:41:07.235631Z",
     "iopub.status.idle": "2022-05-12T17:41:44.043306Z",
     "shell.execute_reply": "2022-05-12T17:41:44.042663Z"
    },
    "papermill": {
     "duration": 37.017744,
     "end_time": "2022-05-12T17:41:44.045693",
     "exception": false,
     "start_time": "2022-05-12T17:41:07.027949",
     "status": "completed"
    },
    "tags": []
   },
   "outputs": [
    {
     "name": "stderr",
     "output_type": "stream",
     "text": [
      "100%|██████████| 30/30 [00:32<00:00,  1.08s/it]\n"
     ]
    },
    {
     "data": {
      "image/png": "[encoded data removed]",
      "text/plain": [
       "<Figure size 1152x864 with 2 Axes>"
      ]
     },
     "metadata": {},
     "output_type": "display_data"
    }
   ],
   "source": [
    "automl.plot_pdp(test_data.sample(10000), feature_name=top_5_features[4])"
   ]
  },
  {
   "cell_type": "code",
   "execution_count": 37,
   "id": "bd76bfb8",
   "metadata": {
    "execution": {
     "iopub.execute_input": "2022-05-12T17:41:44.481594Z",
     "iopub.status.busy": "2022-05-12T17:41:44.481297Z",
     "iopub.status.idle": "2022-05-12T17:41:44.484302Z",
     "shell.execute_reply": "2022-05-12T17:41:44.483753Z"
    },
    "papermill": {
     "duration": 0.2209,
     "end_time": "2022-05-12T17:41:44.486045",
     "exception": false,
     "start_time": "2022-05-12T17:41:44.265145",
     "status": "completed"
    },
    "tags": []
   },
   "outputs": [],
   "source": [
    "#%%time\n",
    "\n",
    "# Accurate feature importances calculation (Permutation importances) -  can take long time to calculate on bigger datasets\n",
    "# accurate_fi = automl.get_feature_scores('accurate', te_data, silent = False)\n",
    "# accurate_fi.set_index('Feature')['Importance'].plot.bar(figsize = (30, 10), grid = True)"
   ]
  },
  {
   "cell_type": "markdown",
   "id": "8d69fda1",
   "metadata": {
    "papermill": {
     "duration": 0.21913,
     "end_time": "2022-05-12T17:41:44.920026",
     "exception": false,
     "start_time": "2022-05-12T17:41:44.700896",
     "status": "completed"
    },
    "tags": []
   },
   "source": [
    "# 4. Predict for test dataset\n",
    "\n",
    "We are also ready to predict for our test competition dataset and submission file creation:"
   ]
  },
  {
   "cell_type": "code",
   "execution_count": 38,
   "id": "7261e343",
   "metadata": {
    "execution": {
     "iopub.execute_input": "2022-05-12T17:41:45.357030Z",
     "iopub.status.busy": "2022-05-12T17:41:45.356499Z",
     "iopub.status.idle": "2022-05-12T17:42:57.840579Z",
     "shell.execute_reply": "2022-05-12T17:42:57.839460Z"
    },
    "papermill": {
     "duration": 72.92204,
     "end_time": "2022-05-12T17:42:58.062653",
     "exception": false,
     "start_time": "2022-05-12T17:41:45.140613",
     "status": "completed"
    },
    "tags": []
   },
   "outputs": [
    {
     "name": "stdout",
     "output_type": "stream",
     "text": [
      "Prediction for te_data:\n",
      "array([[9.9973917e-01],\n",
      "       [9.9906689e-01],\n",
      "       [2.4179483e-04],\n",
      "       ...,\n",
      "       [3.1672381e-02],\n",
      "       [3.1315067e-04],\n",
      "       [2.5681406e-04]], dtype=float32)\n",
      "Shape = (700000, 1)\n"
     ]
    }
   ],
   "source": [
    "test_pred = automl.predict(test_data)\n",
    "print(f'Prediction for te_data:\\n{test_pred}\\nShape = {test_pred.shape}')"
   ]
  },
  {
   "cell_type": "code",
   "execution_count": 39,
   "id": "1b062229",
   "metadata": {
    "execution": {
     "iopub.execute_input": "2022-05-12T17:42:58.500514Z",
     "iopub.status.busy": "2022-05-12T17:42:58.499927Z",
     "iopub.status.idle": "2022-05-12T17:42:59.812079Z",
     "shell.execute_reply": "2022-05-12T17:42:59.810985Z"
    },
    "papermill": {
     "duration": 1.53229,
     "end_time": "2022-05-12T17:42:59.814526",
     "exception": false,
     "start_time": "2022-05-12T17:42:58.282236",
     "status": "completed"
    },
    "tags": []
   },
   "outputs": [],
   "source": [
    "submission[TARGET_NAME] = test_pred.data[:, 0]\n",
    "submission.to_csv('lightautoml_tabularautoml.csv', index = False)"
   ]
  },
  {
   "cell_type": "markdown",
   "id": "b1aea8ab",
   "metadata": {
    "papermill": {
     "duration": 0.217553,
     "end_time": "2022-05-12T17:43:00.252475",
     "exception": false,
     "start_time": "2022-05-12T17:43:00.034922",
     "status": "completed"
    },
    "tags": []
   },
   "source": [
    "# Additional materials"
   ]
  },
  {
   "cell_type": "markdown",
   "id": "04e0b2d6",
   "metadata": {
    "papermill": {
     "duration": 0.215645,
     "end_time": "2022-05-12T17:43:00.684651",
     "exception": false,
     "start_time": "2022-05-12T17:43:00.469006",
     "status": "completed"
    },
    "tags": []
   },
   "source": [
    "- [Official LightAutoML github repo](https://github.com/AILab-MLTools/LightAutoML)\n",
    "- [LightAutoML documentation](https://lightautoml.readthedocs.io/en/latest)\n",
    "- [LightAutoML tutorials](https://github.com/AILab-MLTools/LightAutoML/tree/master/examples/tutorials)\n",
    "- LightAutoML course:\n",
    "    - [Part 1 - general overview](https://ods.ai/tracks/automl-course-part1) \n",
    "    - [Part 2 - LightAutoML specific applications](https://ods.ai/tracks/automl-course-part2)\n",
    "    - [Part 3 - LightAutoML customization](https://ods.ai/tracks/automl-course-part3)\n",
    "- [OpenDataScience AutoML benchmark leaderboard](https://ods.ai/competitions/automl-benchmark/leaderboard)"
   ]
  },
  {
   "cell_type": "markdown",
   "id": "9212ca27",
   "metadata": {
    "papermill": {
     "duration": 0.21994,
     "end_time": "2022-05-12T17:43:01.125785",
     "exception": false,
     "start_time": "2022-05-12T17:43:00.905845",
     "status": "completed"
    },
    "tags": []
   },
   "source": [
    "### If you still like the notebook, do not forget to put upvote for the notebook and the ⭐️ for github repo if you like it using the button below - one click for you, great pleasure for us ☺️"
   ]
  },
  {
   "cell_type": "code",
   "execution_count": 40,
   "id": "89743733",
   "metadata": {
    "_kg_hide-input": true,
    "execution": {
     "iopub.execute_input": "2022-05-12T17:43:01.558174Z",
     "iopub.status.busy": "2022-05-12T17:43:01.557607Z",
     "iopub.status.idle": "2022-05-12T17:43:01.564214Z",
     "shell.execute_reply": "2022-05-12T17:43:01.563166Z"
    },
    "papermill": {
     "duration": 0.224707,
     "end_time": "2022-05-12T17:43:01.566069",
     "exception": false,
     "start_time": "2022-05-12T17:43:01.341362",
     "status": "completed"
    },
    "tags": []
   },
   "outputs": [
    {
     "name": "stderr",
     "output_type": "stream",
     "text": [
      "/opt/conda/lib/python3.7/site-packages/IPython/core/display.py:724: UserWarning: Consider using IPython.display.IFrame instead\n",
      "  warnings.warn(\"Consider using IPython.display.IFrame instead\")\n"
     ]
    },
    {
     "data": {
      "text/html": [
       "<iframe src=\"https://ghbtns.com/github-btn.html?user=AILab-MLTools&repo=LightAutoML&type=star&count=true&size=large\" frameborder=\"0\" scrolling=\"0\" width=\"170\" height=\"30\" title=\"LightAutoML GitHub\"></iframe>"
      ],
      "text/plain": [
       "<IPython.core.display.HTML object>"
      ]
     },
     "execution_count": 40,
     "metadata": {},
     "output_type": "execute_result"
    }
   ],
   "source": [
    "s = '<iframe src=\"https://ghbtns.com/github-btn.html?user=AILab-MLTools&repo=LightAutoML&type=star&count=true&size=large\" frameborder=\"0\" scrolling=\"0\" width=\"170\" height=\"30\" title=\"LightAutoML GitHub\"></iframe>'\n",
    "HTML(s)"
   ]
  }
 ],
 "metadata": {
  "kernelspec": {
   "display_name": "Python 3",
   "language": "python",
   "name": "python3"
  },
  "language_info": {
   "codemirror_mode": {
    "name": "ipython",
    "version": 3
   },
   "file_extension": ".py",
   "mimetype": "text/x-python",
   "name": "python",
   "nbconvert_exporter": "python",
   "pygments_lexer": "ipython3",
   "version": "3.7.12"
  },
  "papermill": {
   "default_parameters": {},
   "duration": 25659.332965,
   "end_time": "2022-05-12T17:43:04.786392",
   "environment_variables": {},
   "exception": null,
   "input_path": "__notebook__.ipynb",
   "output_path": "__notebook__.ipynb",
   "parameters": {},
   "start_time": "2022-05-12T10:35:25.453427",
   "version": "2.3.4"
  }
 },
 "nbformat": 4,
 "nbformat_minor": 5
}
