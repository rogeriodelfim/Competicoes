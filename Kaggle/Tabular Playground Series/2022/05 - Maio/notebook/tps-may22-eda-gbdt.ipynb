{
 "cells": [
  {
   "cell_type": "markdown",
   "id": "4fe275a7",
   "metadata": {
    "papermill": {
     "duration": 0.056364,
     "end_time": "2022-05-02T04:08:04.966432",
     "exception": false,
     "start_time": "2022-05-02T04:08:04.910068",
     "status": "completed"
    },
    "tags": []
   },
   "source": [
    "# Predicting States of Manufacturing Control Data 🏭"
   ]
  },
  {
   "cell_type": "markdown",
   "id": "2530dd31",
   "metadata": {
    "papermill": {
     "duration": 0.05354,
     "end_time": "2022-05-02T04:08:05.074775",
     "exception": false,
     "start_time": "2022-05-02T04:08:05.021235",
     "status": "completed"
    },
    "tags": []
   },
   "source": [
    "**Objective:** Build a powerfull GBDT Model that can provide a good estimation.\n",
    "\n",
    "**Strategy:** I think I will follow this strategy:\n",
    "\n",
    "**Level 1 Getting Started**\n",
    "\n",
    "* Quick EDA to identify potential opportunities.\n",
    "* Simple pre-processing step to encode categorical features.\n",
    "* A basic CV strategy using 90% for TRaining and 10% for Testing.\n",
    "* Looking at the feature importances.\n",
    "* Creating a submission file.\n",
    "* Submit the file to Kaggle.\n",
    "\n",
    "**Level 2 Feature Engineering**\n",
    "* Feature engineering using text information. (Massive boost in the score)\n",
    "* Cross validation loop (**Work in Progress...**)\n",
    "\n",
    "---"
   ]
  },
  {
   "cell_type": "markdown",
   "id": "d92fd56a",
   "metadata": {
    "papermill": {
     "duration": 0.053436,
     "end_time": "2022-05-02T04:08:05.181624",
     "exception": false,
     "start_time": "2022-05-02T04:08:05.128188",
     "status": "completed"
    },
    "tags": []
   },
   "source": [
    "**Data Description**\n",
    "\n",
    "For this challenge, you are given (simulated) manufacturing control data and are tasked to predict whether the machine is in state 0 or state 1. \n",
    "The data has various feature interactions that may be important in determining the machine state.\n",
    "\n",
    "Good luck!\n",
    "\n",
    "**Files**\n",
    "* train.csv - the training data, which includes normalized continuous data and categorical data\n",
    "* test.csv - the test set; your task is to predict binary target variable which represents the state of a manufacturing process\n",
    "* sample_submission.csv - a sample submission file in the correct format"
   ]
  },
  {
   "cell_type": "markdown",
   "id": "22d135cb",
   "metadata": {
    "papermill": {
     "duration": 0.05336,
     "end_time": "2022-05-02T04:08:05.288389",
     "exception": false,
     "start_time": "2022-05-02T04:08:05.235029",
     "status": "completed"
    },
    "tags": []
   },
   "source": [
    "---"
   ]
  },
  {
   "cell_type": "markdown",
   "id": "80e1b6be",
   "metadata": {
    "papermill": {
     "duration": 0.06529,
     "end_time": "2022-05-02T04:08:05.425854",
     "exception": false,
     "start_time": "2022-05-02T04:08:05.360564",
     "status": "completed"
    },
    "tags": []
   },
   "source": [
    "**Notebooks Ideas and Credits**\n",
    "\n",
    "I took ideas or inspiration from the following notebooks, if you enjoy my work, please take a look to the notebooks that inspire my work.\n",
    "\n",
    "**TPSMAY22 Gradient-Boosting Quickstart:** https://www.kaggle.com/code/ambrosm/tpsmay22-gradient-boosting-quickstart/notebook\n",
    "\n",
    "\n"
   ]
  },
  {
   "cell_type": "markdown",
   "id": "f4255411",
   "metadata": {
    "papermill": {
     "duration": 0.0581,
     "end_time": "2022-05-02T04:08:05.541624",
     "exception": false,
     "start_time": "2022-05-02T04:08:05.483524",
     "status": "completed"
    },
    "tags": []
   },
   "source": [
    "---"
   ]
  },
  {
   "cell_type": "markdown",
   "id": "1de9b42a",
   "metadata": {
    "papermill": {
     "duration": 0.057489,
     "end_time": "2022-05-02T04:08:05.657149",
     "exception": false,
     "start_time": "2022-05-02T04:08:05.599660",
     "status": "completed"
    },
    "tags": []
   },
   "source": [
    "# 1. Loading the Requiered Libraries"
   ]
  },
  {
   "cell_type": "code",
   "execution_count": 1,
   "id": "a4e9e78e",
   "metadata": {
    "_cell_guid": "b1076dfc-b9ad-4769-8c92-a6c4dae69d19",
    "_uuid": "8f2839f25d086af736a60e9eeb907d3b93b6e0e5",
    "execution": {
     "iopub.execute_input": "2022-05-02T04:08:05.809764Z",
     "iopub.status.busy": "2022-05-02T04:08:05.809335Z",
     "iopub.status.idle": "2022-05-02T04:08:05.825897Z",
     "shell.execute_reply": "2022-05-02T04:08:05.824766Z"
    },
    "papermill": {
     "duration": 0.113806,
     "end_time": "2022-05-02T04:08:05.830042",
     "exception": false,
     "start_time": "2022-05-02T04:08:05.716236",
     "status": "completed"
    },
    "tags": []
   },
   "outputs": [
    {
     "name": "stdout",
     "output_type": "stream",
     "text": [
      "/kaggle/input/tabular-playground-series-may-2022/sample_submission.csv\n",
      "/kaggle/input/tabular-playground-series-may-2022/train.csv\n",
      "/kaggle/input/tabular-playground-series-may-2022/test.csv\n"
     ]
    }
   ],
   "source": [
    "# This Python 3 environment comes with many helpful analytics libraries installed\n",
    "# It is defined by the kaggle/python Docker image: https://github.com/kaggle/docker-python\n",
    "# For example, here's several helpful packages to load\n",
    "\n",
    "import numpy as np # linear algebra\n",
    "import pandas as pd # data processing, CSV file I/O (e.g. pd.read_csv)\n",
    "\n",
    "# Input data files are available in the read-only \"../input/\" directory\n",
    "# For example, running this (by clicking run or pressing Shift+Enter) will list all files under the input directory\n",
    "\n",
    "import os\n",
    "for dirname, _, filenames in os.walk('/kaggle/input'):\n",
    "    for filename in filenames:\n",
    "        print(os.path.join(dirname, filename))\n",
    "\n",
    "# You can write up to 20GB to the current directory (/kaggle/working/) that gets preserved as output when you create a version using \"Save & Run All\" \n",
    "# You can also write temporary files to /kaggle/temp/, but they won't be saved outside of the current session"
   ]
  },
  {
   "cell_type": "markdown",
   "id": "6a4ceb1c",
   "metadata": {
    "papermill": {
     "duration": 0.05566,
     "end_time": "2022-05-02T04:08:05.952771",
     "exception": false,
     "start_time": "2022-05-02T04:08:05.897111",
     "status": "completed"
    },
    "tags": []
   },
   "source": [
    "---\n"
   ]
  },
  {
   "cell_type": "markdown",
   "id": "43b48627",
   "metadata": {
    "papermill": {
     "duration": 0.055731,
     "end_time": "2022-05-02T04:08:06.067044",
     "exception": false,
     "start_time": "2022-05-02T04:08:06.011313",
     "status": "completed"
    },
    "tags": []
   },
   "source": [
    "# 2. Setting the Notebook"
   ]
  },
  {
   "cell_type": "code",
   "execution_count": 2,
   "id": "2f5d765a",
   "metadata": {
    "execution": {
     "iopub.execute_input": "2022-05-02T04:08:06.176110Z",
     "iopub.status.busy": "2022-05-02T04:08:06.175874Z",
     "iopub.status.idle": "2022-05-02T04:08:06.180846Z",
     "shell.execute_reply": "2022-05-02T04:08:06.180193Z"
    },
    "papermill": {
     "duration": 0.061978,
     "end_time": "2022-05-02T04:08:06.183133",
     "exception": false,
     "start_time": "2022-05-02T04:08:06.121155",
     "status": "completed"
    },
    "tags": []
   },
   "outputs": [
    {
     "name": "stdout",
     "output_type": "stream",
     "text": [
      "CPU times: user 26 µs, sys: 3 µs, total: 29 µs\n",
      "Wall time: 31.5 µs\n"
     ]
    }
   ],
   "source": [
    "%%time\n",
    "# I like to disable my Notebook Warnings.\n",
    "import warnings\n",
    "warnings.filterwarnings('ignore')"
   ]
  },
  {
   "cell_type": "code",
   "execution_count": 3,
   "id": "e2a40388",
   "metadata": {
    "execution": {
     "iopub.execute_input": "2022-05-02T04:08:06.344584Z",
     "iopub.status.busy": "2022-05-02T04:08:06.343962Z",
     "iopub.status.idle": "2022-05-02T04:08:06.351030Z",
     "shell.execute_reply": "2022-05-02T04:08:06.350391Z"
    },
    "papermill": {
     "duration": 0.073345,
     "end_time": "2022-05-02T04:08:06.352687",
     "exception": false,
     "start_time": "2022-05-02T04:08:06.279342",
     "status": "completed"
    },
    "tags": []
   },
   "outputs": [
    {
     "name": "stdout",
     "output_type": "stream",
     "text": [
      "CPU times: user 3 µs, sys: 1 µs, total: 4 µs\n",
      "Wall time: 6.2 µs\n"
     ]
    }
   ],
   "source": [
    "%%time\n",
    "# Notebook Configuration...\n",
    "\n",
    "# Amount of data we want to load into the Model...\n",
    "DATA_ROWS = None\n",
    "# Dataframe, the amount of rows and cols to visualize...\n",
    "NROWS = 50\n",
    "NCOLS = 15\n",
    "# Main data location path...\n",
    "BASE_PATH = '...'"
   ]
  },
  {
   "cell_type": "code",
   "execution_count": 4,
   "id": "6d57a397",
   "metadata": {
    "execution": {
     "iopub.execute_input": "2022-05-02T04:08:06.464145Z",
     "iopub.status.busy": "2022-05-02T04:08:06.463604Z",
     "iopub.status.idle": "2022-05-02T04:08:06.469996Z",
     "shell.execute_reply": "2022-05-02T04:08:06.469169Z"
    },
    "papermill": {
     "duration": 0.064497,
     "end_time": "2022-05-02T04:08:06.472116",
     "exception": false,
     "start_time": "2022-05-02T04:08:06.407619",
     "status": "completed"
    },
    "tags": []
   },
   "outputs": [
    {
     "name": "stdout",
     "output_type": "stream",
     "text": [
      "CPU times: user 65 µs, sys: 7 µs, total: 72 µs\n",
      "Wall time: 74.4 µs\n"
     ]
    }
   ],
   "source": [
    "%%time\n",
    "# Configure notebook display settings to only use 2 decimal places, tables look nicer.\n",
    "pd.options.display.float_format = '{:,.2f}'.format\n",
    "pd.set_option('display.max_columns', NCOLS) \n",
    "pd.set_option('display.max_rows', NROWS)"
   ]
  },
  {
   "cell_type": "markdown",
   "id": "c041ea29",
   "metadata": {
    "papermill": {
     "duration": 0.054601,
     "end_time": "2022-05-02T04:08:06.582063",
     "exception": false,
     "start_time": "2022-05-02T04:08:06.527462",
     "status": "completed"
    },
    "tags": []
   },
   "source": [
    "---"
   ]
  },
  {
   "cell_type": "markdown",
   "id": "27559801",
   "metadata": {
    "papermill": {
     "duration": 0.054609,
     "end_time": "2022-05-02T04:08:06.691531",
     "exception": false,
     "start_time": "2022-05-02T04:08:06.636922",
     "status": "completed"
    },
    "tags": []
   },
   "source": [
    "# 3. Loading the Information (CSV) Into A Dataframe"
   ]
  },
  {
   "cell_type": "code",
   "execution_count": 5,
   "id": "e36ee007",
   "metadata": {
    "execution": {
     "iopub.execute_input": "2022-05-02T04:08:06.802650Z",
     "iopub.status.busy": "2022-05-02T04:08:06.801934Z",
     "iopub.status.idle": "2022-05-02T04:08:19.523448Z",
     "shell.execute_reply": "2022-05-02T04:08:19.522332Z"
    },
    "papermill": {
     "duration": 12.779517,
     "end_time": "2022-05-02T04:08:19.525727",
     "exception": false,
     "start_time": "2022-05-02T04:08:06.746210",
     "status": "completed"
    },
    "tags": []
   },
   "outputs": [
    {
     "name": "stdout",
     "output_type": "stream",
     "text": [
      "CPU times: user 7.28 s, sys: 760 ms, total: 8.04 s\n",
      "Wall time: 12.7 s\n"
     ]
    }
   ],
   "source": [
    "%%time\n",
    "# Load the CSV information into a Pandas DataFrame...\n",
    "trn_data = pd.read_csv('/kaggle/input/tabular-playground-series-may-2022/train.csv')\n",
    "tst_data = pd.read_csv('/kaggle/input/tabular-playground-series-may-2022/test.csv')\n",
    "\n",
    "sub = pd.read_csv('/kaggle/input/tabular-playground-series-may-2022/sample_submission.csv')"
   ]
  },
  {
   "cell_type": "markdown",
   "id": "22d15f02",
   "metadata": {
    "papermill": {
     "duration": 0.056348,
     "end_time": "2022-05-02T04:08:19.638719",
     "exception": false,
     "start_time": "2022-05-02T04:08:19.582371",
     "status": "completed"
    },
    "tags": []
   },
   "source": [
    "---"
   ]
  },
  {
   "cell_type": "markdown",
   "id": "9f77ee89",
   "metadata": {
    "papermill": {
     "duration": 0.055573,
     "end_time": "2022-05-02T04:08:19.751222",
     "exception": false,
     "start_time": "2022-05-02T04:08:19.695649",
     "status": "completed"
    },
    "tags": []
   },
   "source": [
    "# 4. Exploring the Information Available"
   ]
  },
  {
   "cell_type": "markdown",
   "id": "0c66edbe",
   "metadata": {
    "papermill": {
     "duration": 0.05566,
     "end_time": "2022-05-02T04:08:19.862602",
     "exception": false,
     "start_time": "2022-05-02T04:08:19.806942",
     "status": "completed"
    },
    "tags": []
   },
   "source": [
    "## 4.1. Analysing the Trian Dataset"
   ]
  },
  {
   "cell_type": "code",
   "execution_count": 6,
   "id": "7ff99c9e",
   "metadata": {
    "execution": {
     "iopub.execute_input": "2022-05-02T04:08:19.976623Z",
     "iopub.status.busy": "2022-05-02T04:08:19.975860Z",
     "iopub.status.idle": "2022-05-02T04:08:19.985750Z",
     "shell.execute_reply": "2022-05-02T04:08:19.984882Z"
    },
    "papermill": {
     "duration": 0.070622,
     "end_time": "2022-05-02T04:08:19.989265",
     "exception": false,
     "start_time": "2022-05-02T04:08:19.918643",
     "status": "completed"
    },
    "tags": []
   },
   "outputs": [
    {
     "name": "stdout",
     "output_type": "stream",
     "text": [
      "CPU times: user 26 µs, sys: 2 µs, total: 28 µs\n",
      "Wall time: 32.9 µs\n"
     ]
    },
    {
     "data": {
      "text/plain": [
       "(900000, 33)"
      ]
     },
     "execution_count": 6,
     "metadata": {},
     "output_type": "execute_result"
    }
   ],
   "source": [
    "%%time\n",
    "# Explore the shape of the DataFrame...\n",
    "trn_data.shape"
   ]
  },
  {
   "cell_type": "code",
   "execution_count": 7,
   "id": "4d2fe1c0",
   "metadata": {
    "execution": {
     "iopub.execute_input": "2022-05-02T04:08:20.103964Z",
     "iopub.status.busy": "2022-05-02T04:08:20.103765Z",
     "iopub.status.idle": "2022-05-02T04:08:20.253877Z",
     "shell.execute_reply": "2022-05-02T04:08:20.253148Z"
    },
    "papermill": {
     "duration": 0.209822,
     "end_time": "2022-05-02T04:08:20.255915",
     "exception": false,
     "start_time": "2022-05-02T04:08:20.046093",
     "status": "completed"
    },
    "tags": []
   },
   "outputs": [
    {
     "name": "stdout",
     "output_type": "stream",
     "text": [
      "<class 'pandas.core.frame.DataFrame'>\n",
      "RangeIndex: 900000 entries, 0 to 899999\n",
      "Data columns (total 33 columns):\n",
      " #   Column  Non-Null Count   Dtype  \n",
      "---  ------  --------------   -----  \n",
      " 0   id      900000 non-null  int64  \n",
      " 1   f_00    900000 non-null  float64\n",
      " 2   f_01    900000 non-null  float64\n",
      " 3   f_02    900000 non-null  float64\n",
      " 4   f_03    900000 non-null  float64\n",
      " 5   f_04    900000 non-null  float64\n",
      " 6   f_05    900000 non-null  float64\n",
      " 7   f_06    900000 non-null  float64\n",
      " 8   f_07    900000 non-null  int64  \n",
      " 9   f_08    900000 non-null  int64  \n",
      " 10  f_09    900000 non-null  int64  \n",
      " 11  f_10    900000 non-null  int64  \n",
      " 12  f_11    900000 non-null  int64  \n",
      " 13  f_12    900000 non-null  int64  \n",
      " 14  f_13    900000 non-null  int64  \n",
      " 15  f_14    900000 non-null  int64  \n",
      " 16  f_15    900000 non-null  int64  \n",
      " 17  f_16    900000 non-null  int64  \n",
      " 18  f_17    900000 non-null  int64  \n",
      " 19  f_18    900000 non-null  int64  \n",
      " 20  f_19    900000 non-null  float64\n",
      " 21  f_20    900000 non-null  float64\n",
      " 22  f_21    900000 non-null  float64\n",
      " 23  f_22    900000 non-null  float64\n",
      " 24  f_23    900000 non-null  float64\n",
      " 25  f_24    900000 non-null  float64\n",
      " 26  f_25    900000 non-null  float64\n",
      " 27  f_26    900000 non-null  float64\n",
      " 28  f_27    900000 non-null  object \n",
      " 29  f_28    900000 non-null  float64\n",
      " 30  f_29    900000 non-null  int64  \n",
      " 31  f_30    900000 non-null  int64  \n",
      " 32  target  900000 non-null  int64  \n",
      "dtypes: float64(16), int64(16), object(1)\n",
      "memory usage: 226.6+ MB\n",
      "CPU times: user 135 ms, sys: 1.03 ms, total: 136 ms\n",
      "Wall time: 145 ms\n"
     ]
    }
   ],
   "source": [
    "%%time\n",
    "# Display simple information of the variables in the dataset...\n",
    "trn_data.info()"
   ]
  },
  {
   "cell_type": "code",
   "execution_count": 8,
   "id": "3a50b1fb",
   "metadata": {
    "execution": {
     "iopub.execute_input": "2022-05-02T04:08:20.371675Z",
     "iopub.status.busy": "2022-05-02T04:08:20.371199Z",
     "iopub.status.idle": "2022-05-02T04:08:20.391823Z",
     "shell.execute_reply": "2022-05-02T04:08:20.390697Z"
    },
    "papermill": {
     "duration": 0.080642,
     "end_time": "2022-05-02T04:08:20.393990",
     "exception": false,
     "start_time": "2022-05-02T04:08:20.313348",
     "status": "completed"
    },
    "tags": []
   },
   "outputs": [
    {
     "name": "stdout",
     "output_type": "stream",
     "text": [
      "CPU times: user 75 µs, sys: 7 µs, total: 82 µs\n",
      "Wall time: 85.8 µs\n"
     ]
    },
    {
     "data": {
      "text/html": [
       "<div>\n",
       "<style scoped>\n",
       "    .dataframe tbody tr th:only-of-type {\n",
       "        vertical-align: middle;\n",
       "    }\n",
       "\n",
       "    .dataframe tbody tr th {\n",
       "        vertical-align: top;\n",
       "    }\n",
       "\n",
       "    .dataframe thead th {\n",
       "        text-align: right;\n",
       "    }\n",
       "</style>\n",
       "<table border=\"1\" class=\"dataframe\">\n",
       "  <thead>\n",
       "    <tr style=\"text-align: right;\">\n",
       "      <th></th>\n",
       "      <th>id</th>\n",
       "      <th>f_00</th>\n",
       "      <th>f_01</th>\n",
       "      <th>f_02</th>\n",
       "      <th>f_03</th>\n",
       "      <th>f_04</th>\n",
       "      <th>f_05</th>\n",
       "      <th>...</th>\n",
       "      <th>f_25</th>\n",
       "      <th>f_26</th>\n",
       "      <th>f_27</th>\n",
       "      <th>f_28</th>\n",
       "      <th>f_29</th>\n",
       "      <th>f_30</th>\n",
       "      <th>target</th>\n",
       "    </tr>\n",
       "  </thead>\n",
       "  <tbody>\n",
       "    <tr>\n",
       "      <th>0</th>\n",
       "      <td>0</td>\n",
       "      <td>-1.37</td>\n",
       "      <td>0.24</td>\n",
       "      <td>-0.24</td>\n",
       "      <td>0.57</td>\n",
       "      <td>-0.65</td>\n",
       "      <td>0.84</td>\n",
       "      <td>...</td>\n",
       "      <td>-0.21</td>\n",
       "      <td>1.36</td>\n",
       "      <td>ABABDADBAB</td>\n",
       "      <td>67.61</td>\n",
       "      <td>0</td>\n",
       "      <td>0</td>\n",
       "      <td>0</td>\n",
       "    </tr>\n",
       "    <tr>\n",
       "      <th>1</th>\n",
       "      <td>1</td>\n",
       "      <td>1.70</td>\n",
       "      <td>-1.71</td>\n",
       "      <td>-2.23</td>\n",
       "      <td>-0.55</td>\n",
       "      <td>1.11</td>\n",
       "      <td>-1.55</td>\n",
       "      <td>...</td>\n",
       "      <td>-3.78</td>\n",
       "      <td>-0.06</td>\n",
       "      <td>ACACCADCEB</td>\n",
       "      <td>377.10</td>\n",
       "      <td>0</td>\n",
       "      <td>0</td>\n",
       "      <td>1</td>\n",
       "    </tr>\n",
       "    <tr>\n",
       "      <th>2</th>\n",
       "      <td>2</td>\n",
       "      <td>1.68</td>\n",
       "      <td>0.62</td>\n",
       "      <td>-1.03</td>\n",
       "      <td>0.81</td>\n",
       "      <td>-0.61</td>\n",
       "      <td>0.11</td>\n",
       "      <td>...</td>\n",
       "      <td>2.79</td>\n",
       "      <td>-3.70</td>\n",
       "      <td>AAAEABCKAD</td>\n",
       "      <td>-195.60</td>\n",
       "      <td>0</td>\n",
       "      <td>2</td>\n",
       "      <td>1</td>\n",
       "    </tr>\n",
       "    <tr>\n",
       "      <th>3</th>\n",
       "      <td>3</td>\n",
       "      <td>-0.12</td>\n",
       "      <td>-0.59</td>\n",
       "      <td>-0.80</td>\n",
       "      <td>2.09</td>\n",
       "      <td>0.37</td>\n",
       "      <td>-0.13</td>\n",
       "      <td>...</td>\n",
       "      <td>-2.53</td>\n",
       "      <td>-0.61</td>\n",
       "      <td>BDBBAACBCB</td>\n",
       "      <td>210.83</td>\n",
       "      <td>0</td>\n",
       "      <td>0</td>\n",
       "      <td>1</td>\n",
       "    </tr>\n",
       "    <tr>\n",
       "      <th>4</th>\n",
       "      <td>4</td>\n",
       "      <td>1.15</td>\n",
       "      <td>-0.18</td>\n",
       "      <td>-0.66</td>\n",
       "      <td>-1.10</td>\n",
       "      <td>0.47</td>\n",
       "      <td>0.50</td>\n",
       "      <td>...</td>\n",
       "      <td>-3.31</td>\n",
       "      <td>4.37</td>\n",
       "      <td>BDBCBBCHFE</td>\n",
       "      <td>-217.21</td>\n",
       "      <td>0</td>\n",
       "      <td>1</td>\n",
       "      <td>1</td>\n",
       "    </tr>\n",
       "  </tbody>\n",
       "</table>\n",
       "<p>5 rows × 33 columns</p>\n",
       "</div>"
      ],
      "text/plain": [
       "   id  f_00  f_01  f_02  f_03  f_04  f_05  ...  f_25  f_26        f_27  \\\n",
       "0   0 -1.37  0.24 -0.24  0.57 -0.65  0.84  ... -0.21  1.36  ABABDADBAB   \n",
       "1   1  1.70 -1.71 -2.23 -0.55  1.11 -1.55  ... -3.78 -0.06  ACACCADCEB   \n",
       "2   2  1.68  0.62 -1.03  0.81 -0.61  0.11  ...  2.79 -3.70  AAAEABCKAD   \n",
       "3   3 -0.12 -0.59 -0.80  2.09  0.37 -0.13  ... -2.53 -0.61  BDBBAACBCB   \n",
       "4   4  1.15 -0.18 -0.66 -1.10  0.47  0.50  ... -3.31  4.37  BDBCBBCHFE   \n",
       "\n",
       "     f_28  f_29  f_30  target  \n",
       "0   67.61     0     0       0  \n",
       "1  377.10     0     0       1  \n",
       "2 -195.60     0     2       1  \n",
       "3  210.83     0     0       1  \n",
       "4 -217.21     0     1       1  \n",
       "\n",
       "[5 rows x 33 columns]"
      ]
     },
     "execution_count": 8,
     "metadata": {},
     "output_type": "execute_result"
    }
   ],
   "source": [
    "%%time\n",
    "# Display the first few rows of the DataFrame...\n",
    "trn_data.head()"
   ]
  },
  {
   "cell_type": "code",
   "execution_count": 9,
   "id": "354f0cfb",
   "metadata": {
    "execution": {
     "iopub.execute_input": "2022-05-02T04:08:20.512337Z",
     "iopub.status.busy": "2022-05-02T04:08:20.511033Z",
     "iopub.status.idle": "2022-05-02T04:08:21.432382Z",
     "shell.execute_reply": "2022-05-02T04:08:21.431683Z"
    },
    "papermill": {
     "duration": 0.981368,
     "end_time": "2022-05-02T04:08:21.434044",
     "exception": false,
     "start_time": "2022-05-02T04:08:20.452676",
     "status": "completed"
    },
    "tags": []
   },
   "outputs": [
    {
     "name": "stdout",
     "output_type": "stream",
     "text": [
      "CPU times: user 862 ms, sys: 41.3 ms, total: 903 ms\n",
      "Wall time: 905 ms\n"
     ]
    },
    {
     "data": {
      "text/html": [
       "<div>\n",
       "<style scoped>\n",
       "    .dataframe tbody tr th:only-of-type {\n",
       "        vertical-align: middle;\n",
       "    }\n",
       "\n",
       "    .dataframe tbody tr th {\n",
       "        vertical-align: top;\n",
       "    }\n",
       "\n",
       "    .dataframe thead th {\n",
       "        text-align: right;\n",
       "    }\n",
       "</style>\n",
       "<table border=\"1\" class=\"dataframe\">\n",
       "  <thead>\n",
       "    <tr style=\"text-align: right;\">\n",
       "      <th></th>\n",
       "      <th>id</th>\n",
       "      <th>f_00</th>\n",
       "      <th>f_01</th>\n",
       "      <th>f_02</th>\n",
       "      <th>f_03</th>\n",
       "      <th>f_04</th>\n",
       "      <th>f_05</th>\n",
       "      <th>...</th>\n",
       "      <th>f_24</th>\n",
       "      <th>f_25</th>\n",
       "      <th>f_26</th>\n",
       "      <th>f_28</th>\n",
       "      <th>f_29</th>\n",
       "      <th>f_30</th>\n",
       "      <th>target</th>\n",
       "    </tr>\n",
       "  </thead>\n",
       "  <tbody>\n",
       "    <tr>\n",
       "      <th>count</th>\n",
       "      <td>900,000.00</td>\n",
       "      <td>900,000.00</td>\n",
       "      <td>900,000.00</td>\n",
       "      <td>900,000.00</td>\n",
       "      <td>900,000.00</td>\n",
       "      <td>900,000.00</td>\n",
       "      <td>900,000.00</td>\n",
       "      <td>...</td>\n",
       "      <td>900,000.00</td>\n",
       "      <td>900,000.00</td>\n",
       "      <td>900,000.00</td>\n",
       "      <td>900,000.00</td>\n",
       "      <td>900,000.00</td>\n",
       "      <td>900,000.00</td>\n",
       "      <td>900,000.00</td>\n",
       "    </tr>\n",
       "    <tr>\n",
       "      <th>mean</th>\n",
       "      <td>449,999.50</td>\n",
       "      <td>-0.00</td>\n",
       "      <td>0.00</td>\n",
       "      <td>0.00</td>\n",
       "      <td>-0.00</td>\n",
       "      <td>-0.00</td>\n",
       "      <td>0.00</td>\n",
       "      <td>...</td>\n",
       "      <td>-0.34</td>\n",
       "      <td>0.18</td>\n",
       "      <td>0.36</td>\n",
       "      <td>-0.38</td>\n",
       "      <td>0.35</td>\n",
       "      <td>1.00</td>\n",
       "      <td>0.49</td>\n",
       "    </tr>\n",
       "    <tr>\n",
       "      <th>std</th>\n",
       "      <td>259,807.77</td>\n",
       "      <td>1.00</td>\n",
       "      <td>1.00</td>\n",
       "      <td>1.00</td>\n",
       "      <td>1.00</td>\n",
       "      <td>1.00</td>\n",
       "      <td>1.00</td>\n",
       "      <td>...</td>\n",
       "      <td>2.39</td>\n",
       "      <td>2.42</td>\n",
       "      <td>2.48</td>\n",
       "      <td>238.77</td>\n",
       "      <td>0.48</td>\n",
       "      <td>0.82</td>\n",
       "      <td>0.50</td>\n",
       "    </tr>\n",
       "    <tr>\n",
       "      <th>min</th>\n",
       "      <td>0.00</td>\n",
       "      <td>-4.60</td>\n",
       "      <td>-4.68</td>\n",
       "      <td>-4.64</td>\n",
       "      <td>-4.66</td>\n",
       "      <td>-4.75</td>\n",
       "      <td>-4.75</td>\n",
       "      <td>...</td>\n",
       "      <td>-11.42</td>\n",
       "      <td>-11.92</td>\n",
       "      <td>-14.30</td>\n",
       "      <td>-1,229.75</td>\n",
       "      <td>0.00</td>\n",
       "      <td>0.00</td>\n",
       "      <td>0.00</td>\n",
       "    </tr>\n",
       "    <tr>\n",
       "      <th>25%</th>\n",
       "      <td>224,999.75</td>\n",
       "      <td>-0.68</td>\n",
       "      <td>-0.68</td>\n",
       "      <td>-0.67</td>\n",
       "      <td>-0.68</td>\n",
       "      <td>-0.68</td>\n",
       "      <td>-0.67</td>\n",
       "      <td>...</td>\n",
       "      <td>-1.96</td>\n",
       "      <td>-1.44</td>\n",
       "      <td>-1.26</td>\n",
       "      <td>-159.43</td>\n",
       "      <td>0.00</td>\n",
       "      <td>0.00</td>\n",
       "      <td>0.00</td>\n",
       "    </tr>\n",
       "    <tr>\n",
       "      <th>50%</th>\n",
       "      <td>449,999.50</td>\n",
       "      <td>0.00</td>\n",
       "      <td>0.00</td>\n",
       "      <td>0.00</td>\n",
       "      <td>-0.00</td>\n",
       "      <td>-0.00</td>\n",
       "      <td>-0.00</td>\n",
       "      <td>...</td>\n",
       "      <td>-0.34</td>\n",
       "      <td>0.16</td>\n",
       "      <td>0.40</td>\n",
       "      <td>-0.52</td>\n",
       "      <td>0.00</td>\n",
       "      <td>1.00</td>\n",
       "      <td>0.00</td>\n",
       "    </tr>\n",
       "    <tr>\n",
       "      <th>75%</th>\n",
       "      <td>674,999.25</td>\n",
       "      <td>0.67</td>\n",
       "      <td>0.68</td>\n",
       "      <td>0.68</td>\n",
       "      <td>0.67</td>\n",
       "      <td>0.67</td>\n",
       "      <td>0.68</td>\n",
       "      <td>...</td>\n",
       "      <td>1.27</td>\n",
       "      <td>1.80</td>\n",
       "      <td>2.03</td>\n",
       "      <td>158.99</td>\n",
       "      <td>1.00</td>\n",
       "      <td>2.00</td>\n",
       "      <td>1.00</td>\n",
       "    </tr>\n",
       "    <tr>\n",
       "      <th>max</th>\n",
       "      <td>899,999.00</td>\n",
       "      <td>4.75</td>\n",
       "      <td>4.82</td>\n",
       "      <td>4.96</td>\n",
       "      <td>4.45</td>\n",
       "      <td>4.95</td>\n",
       "      <td>4.97</td>\n",
       "      <td>...</td>\n",
       "      <td>12.39</td>\n",
       "      <td>12.53</td>\n",
       "      <td>12.91</td>\n",
       "      <td>1,229.56</td>\n",
       "      <td>1.00</td>\n",
       "      <td>2.00</td>\n",
       "      <td>1.00</td>\n",
       "    </tr>\n",
       "  </tbody>\n",
       "</table>\n",
       "<p>8 rows × 32 columns</p>\n",
       "</div>"
      ],
      "text/plain": [
       "              id       f_00       f_01       f_02       f_03       f_04  \\\n",
       "count 900,000.00 900,000.00 900,000.00 900,000.00 900,000.00 900,000.00   \n",
       "mean  449,999.50      -0.00       0.00       0.00      -0.00      -0.00   \n",
       "std   259,807.77       1.00       1.00       1.00       1.00       1.00   \n",
       "min         0.00      -4.60      -4.68      -4.64      -4.66      -4.75   \n",
       "25%   224,999.75      -0.68      -0.68      -0.67      -0.68      -0.68   \n",
       "50%   449,999.50       0.00       0.00       0.00      -0.00      -0.00   \n",
       "75%   674,999.25       0.67       0.68       0.68       0.67       0.67   \n",
       "max   899,999.00       4.75       4.82       4.96       4.45       4.95   \n",
       "\n",
       "            f_05  ...       f_24       f_25       f_26       f_28       f_29  \\\n",
       "count 900,000.00  ... 900,000.00 900,000.00 900,000.00 900,000.00 900,000.00   \n",
       "mean        0.00  ...      -0.34       0.18       0.36      -0.38       0.35   \n",
       "std         1.00  ...       2.39       2.42       2.48     238.77       0.48   \n",
       "min        -4.75  ...     -11.42     -11.92     -14.30  -1,229.75       0.00   \n",
       "25%        -0.67  ...      -1.96      -1.44      -1.26    -159.43       0.00   \n",
       "50%        -0.00  ...      -0.34       0.16       0.40      -0.52       0.00   \n",
       "75%         0.68  ...       1.27       1.80       2.03     158.99       1.00   \n",
       "max         4.97  ...      12.39      12.53      12.91   1,229.56       1.00   \n",
       "\n",
       "            f_30     target  \n",
       "count 900,000.00 900,000.00  \n",
       "mean        1.00       0.49  \n",
       "std         0.82       0.50  \n",
       "min         0.00       0.00  \n",
       "25%         0.00       0.00  \n",
       "50%         1.00       0.00  \n",
       "75%         2.00       1.00  \n",
       "max         2.00       1.00  \n",
       "\n",
       "[8 rows x 32 columns]"
      ]
     },
     "execution_count": 9,
     "metadata": {},
     "output_type": "execute_result"
    }
   ],
   "source": [
    "%%time\n",
    "# Generate a simple statistical summary of the DataFrame, Only Numerical...\n",
    "trn_data.describe()"
   ]
  },
  {
   "cell_type": "code",
   "execution_count": 10,
   "id": "77901205",
   "metadata": {
    "execution": {
     "iopub.execute_input": "2022-05-02T04:08:21.554603Z",
     "iopub.status.busy": "2022-05-02T04:08:21.553987Z",
     "iopub.status.idle": "2022-05-02T04:08:21.688402Z",
     "shell.execute_reply": "2022-05-02T04:08:21.687219Z"
    },
    "papermill": {
     "duration": 0.197117,
     "end_time": "2022-05-02T04:08:21.690559",
     "exception": false,
     "start_time": "2022-05-02T04:08:21.493442",
     "status": "completed"
    },
    "tags": []
   },
   "outputs": [
    {
     "name": "stdout",
     "output_type": "stream",
     "text": [
      "CPU times: user 127 ms, sys: 0 ns, total: 127 ms\n",
      "Wall time: 127 ms\n"
     ]
    },
    {
     "data": {
      "text/plain": [
       "0"
      ]
     },
     "execution_count": 10,
     "metadata": {},
     "output_type": "execute_result"
    }
   ],
   "source": [
    "%%time\n",
    "# Calculates the total number of missing values...\n",
    "trn_data.isnull().sum().sum()"
   ]
  },
  {
   "cell_type": "code",
   "execution_count": 11,
   "id": "32fe65ff",
   "metadata": {
    "execution": {
     "iopub.execute_input": "2022-05-02T04:08:21.810525Z",
     "iopub.status.busy": "2022-05-02T04:08:21.809937Z",
     "iopub.status.idle": "2022-05-02T04:08:21.940210Z",
     "shell.execute_reply": "2022-05-02T04:08:21.939213Z"
    },
    "papermill": {
     "duration": 0.192822,
     "end_time": "2022-05-02T04:08:21.942804",
     "exception": false,
     "start_time": "2022-05-02T04:08:21.749982",
     "status": "completed"
    },
    "tags": []
   },
   "outputs": [
    {
     "name": "stdout",
     "output_type": "stream",
     "text": [
      "CPU times: user 123 ms, sys: 38 µs, total: 123 ms\n",
      "Wall time: 123 ms\n"
     ]
    },
    {
     "data": {
      "text/plain": [
       "id        0\n",
       "f_00      0\n",
       "f_01      0\n",
       "f_02      0\n",
       "f_03      0\n",
       "f_04      0\n",
       "f_05      0\n",
       "f_06      0\n",
       "f_07      0\n",
       "f_08      0\n",
       "f_09      0\n",
       "f_10      0\n",
       "f_11      0\n",
       "f_12      0\n",
       "f_13      0\n",
       "f_14      0\n",
       "f_15      0\n",
       "f_16      0\n",
       "f_17      0\n",
       "f_18      0\n",
       "f_19      0\n",
       "f_20      0\n",
       "f_21      0\n",
       "f_22      0\n",
       "f_23      0\n",
       "f_24      0\n",
       "f_25      0\n",
       "f_26      0\n",
       "f_27      0\n",
       "f_28      0\n",
       "f_29      0\n",
       "f_30      0\n",
       "target    0\n",
       "dtype: int64"
      ]
     },
     "execution_count": 11,
     "metadata": {},
     "output_type": "execute_result"
    }
   ],
   "source": [
    "%%time\n",
    "# Display the number of missing values by variable...\n",
    "trn_data.isnull().sum()"
   ]
  },
  {
   "cell_type": "code",
   "execution_count": 12,
   "id": "31b12c99",
   "metadata": {
    "execution": {
     "iopub.execute_input": "2022-05-02T04:08:22.064179Z",
     "iopub.status.busy": "2022-05-02T04:08:22.063983Z",
     "iopub.status.idle": "2022-05-02T04:08:22.961778Z",
     "shell.execute_reply": "2022-05-02T04:08:22.960633Z"
    },
    "papermill": {
     "duration": 0.961522,
     "end_time": "2022-05-02T04:08:22.964170",
     "exception": false,
     "start_time": "2022-05-02T04:08:22.002648",
     "status": "completed"
    },
    "tags": []
   },
   "outputs": [
    {
     "name": "stdout",
     "output_type": "stream",
     "text": [
      "CPU times: user 888 ms, sys: 1.07 ms, total: 889 ms\n",
      "Wall time: 890 ms\n"
     ]
    },
    {
     "data": {
      "text/plain": [
       "id        900000\n",
       "f_00      900000\n",
       "f_01      900000\n",
       "f_02      900000\n",
       "f_03      900000\n",
       "f_04      900000\n",
       "f_05      900000\n",
       "f_06      900000\n",
       "f_07          16\n",
       "f_08          16\n",
       "f_09          15\n",
       "f_10          15\n",
       "f_11          14\n",
       "f_12          16\n",
       "f_13          13\n",
       "f_14          14\n",
       "f_15          15\n",
       "f_16          16\n",
       "f_17          14\n",
       "f_18          14\n",
       "f_19      900000\n",
       "f_20      900000\n",
       "f_21      900000\n",
       "f_22      900000\n",
       "f_23      900000\n",
       "f_24      900000\n",
       "f_25      900000\n",
       "f_26      900000\n",
       "f_27      741354\n",
       "f_28      900000\n",
       "f_29           2\n",
       "f_30           3\n",
       "target         2\n",
       "dtype: int64"
      ]
     },
     "execution_count": 12,
     "metadata": {},
     "output_type": "execute_result"
    }
   ],
   "source": [
    "%%time\n",
    "# Display the number of unique values for each variable...\n",
    "trn_data.nunique()"
   ]
  },
  {
   "cell_type": "code",
   "execution_count": 13,
   "id": "852a635d",
   "metadata": {
    "execution": {
     "iopub.execute_input": "2022-05-02T04:08:23.089039Z",
     "iopub.status.busy": "2022-05-02T04:08:23.088830Z",
     "iopub.status.idle": "2022-05-02T04:08:23.988983Z",
     "shell.execute_reply": "2022-05-02T04:08:23.988195Z"
    },
    "papermill": {
     "duration": 0.963886,
     "end_time": "2022-05-02T04:08:23.990931",
     "exception": false,
     "start_time": "2022-05-02T04:08:23.027045",
     "status": "completed"
    },
    "tags": []
   },
   "outputs": [
    {
     "data": {
      "text/plain": [
       "target         2\n",
       "f_29           2\n",
       "f_30           3\n",
       "f_13          13\n",
       "f_18          14\n",
       "f_17          14\n",
       "f_14          14\n",
       "f_11          14\n",
       "f_10          15\n",
       "f_09          15\n",
       "f_15          15\n",
       "f_07          16\n",
       "f_12          16\n",
       "f_16          16\n",
       "f_08          16\n",
       "f_27      741354\n",
       "f_00      900000\n",
       "f_28      900000\n",
       "f_26      900000\n",
       "f_25      900000\n",
       "f_24      900000\n",
       "f_23      900000\n",
       "f_22      900000\n",
       "f_20      900000\n",
       "f_19      900000\n",
       "f_01      900000\n",
       "f_02      900000\n",
       "f_03      900000\n",
       "f_04      900000\n",
       "f_05      900000\n",
       "f_06      900000\n",
       "f_21      900000\n",
       "id        900000\n",
       "dtype: int64"
      ]
     },
     "execution_count": 13,
     "metadata": {},
     "output_type": "execute_result"
    }
   ],
   "source": [
    "# Display the number of unique values for each variable, sorted by quantity...\n",
    "trn_data.nunique().sort_values(ascending = True)"
   ]
  },
  {
   "cell_type": "code",
   "execution_count": 14,
   "id": "e29448b0",
   "metadata": {
    "execution": {
     "iopub.execute_input": "2022-05-02T04:08:24.120708Z",
     "iopub.status.busy": "2022-05-02T04:08:24.120478Z",
     "iopub.status.idle": "2022-05-02T04:08:24.205148Z",
     "shell.execute_reply": "2022-05-02T04:08:24.204103Z"
    },
    "papermill": {
     "duration": 0.152033,
     "end_time": "2022-05-02T04:08:24.208767",
     "exception": false,
     "start_time": "2022-05-02T04:08:24.056734",
     "status": "completed"
    },
    "tags": []
   },
   "outputs": [
    {
     "name": "stdout",
     "output_type": "stream",
     "text": [
      "CPU times: user 53.3 ms, sys: 17.9 ms, total: 71.2 ms\n",
      "Wall time: 70.9 ms\n"
     ]
    },
    {
     "data": {
      "text/html": [
       "<div>\n",
       "<style scoped>\n",
       "    .dataframe tbody tr th:only-of-type {\n",
       "        vertical-align: middle;\n",
       "    }\n",
       "\n",
       "    .dataframe tbody tr th {\n",
       "        vertical-align: top;\n",
       "    }\n",
       "\n",
       "    .dataframe thead th {\n",
       "        text-align: right;\n",
       "    }\n",
       "</style>\n",
       "<table border=\"1\" class=\"dataframe\">\n",
       "  <thead>\n",
       "    <tr style=\"text-align: right;\">\n",
       "      <th></th>\n",
       "      <th>f_29</th>\n",
       "      <th>f_30</th>\n",
       "      <th>f_13</th>\n",
       "      <th>f_18</th>\n",
       "      <th>f_17</th>\n",
       "      <th>f_14</th>\n",
       "      <th>f_11</th>\n",
       "      <th>f_10</th>\n",
       "      <th>f_09</th>\n",
       "      <th>f_15</th>\n",
       "      <th>f_07</th>\n",
       "      <th>f_12</th>\n",
       "      <th>f_16</th>\n",
       "      <th>f_08</th>\n",
       "      <th>f_27</th>\n",
       "    </tr>\n",
       "  </thead>\n",
       "  <tbody>\n",
       "    <tr>\n",
       "      <th>106041</th>\n",
       "      <td>0</td>\n",
       "      <td>1</td>\n",
       "      <td>4</td>\n",
       "      <td>2</td>\n",
       "      <td>0</td>\n",
       "      <td>1</td>\n",
       "      <td>1</td>\n",
       "      <td>0</td>\n",
       "      <td>1</td>\n",
       "      <td>2</td>\n",
       "      <td>3</td>\n",
       "      <td>3</td>\n",
       "      <td>1</td>\n",
       "      <td>4</td>\n",
       "      <td>BABCBADQBB</td>\n",
       "    </tr>\n",
       "    <tr>\n",
       "      <th>606674</th>\n",
       "      <td>1</td>\n",
       "      <td>2</td>\n",
       "      <td>0</td>\n",
       "      <td>0</td>\n",
       "      <td>1</td>\n",
       "      <td>2</td>\n",
       "      <td>1</td>\n",
       "      <td>1</td>\n",
       "      <td>0</td>\n",
       "      <td>3</td>\n",
       "      <td>1</td>\n",
       "      <td>6</td>\n",
       "      <td>1</td>\n",
       "      <td>0</td>\n",
       "      <td>ABBFBBECEC</td>\n",
       "    </tr>\n",
       "    <tr>\n",
       "      <th>392782</th>\n",
       "      <td>1</td>\n",
       "      <td>1</td>\n",
       "      <td>6</td>\n",
       "      <td>3</td>\n",
       "      <td>1</td>\n",
       "      <td>1</td>\n",
       "      <td>1</td>\n",
       "      <td>2</td>\n",
       "      <td>1</td>\n",
       "      <td>3</td>\n",
       "      <td>1</td>\n",
       "      <td>2</td>\n",
       "      <td>5</td>\n",
       "      <td>1</td>\n",
       "      <td>BABDCBDKAA</td>\n",
       "    </tr>\n",
       "    <tr>\n",
       "      <th>485818</th>\n",
       "      <td>0</td>\n",
       "      <td>1</td>\n",
       "      <td>1</td>\n",
       "      <td>0</td>\n",
       "      <td>2</td>\n",
       "      <td>0</td>\n",
       "      <td>3</td>\n",
       "      <td>0</td>\n",
       "      <td>5</td>\n",
       "      <td>0</td>\n",
       "      <td>0</td>\n",
       "      <td>3</td>\n",
       "      <td>4</td>\n",
       "      <td>2</td>\n",
       "      <td>ADBCDACDDF</td>\n",
       "    </tr>\n",
       "    <tr>\n",
       "      <th>876338</th>\n",
       "      <td>0</td>\n",
       "      <td>0</td>\n",
       "      <td>2</td>\n",
       "      <td>0</td>\n",
       "      <td>0</td>\n",
       "      <td>0</td>\n",
       "      <td>3</td>\n",
       "      <td>2</td>\n",
       "      <td>0</td>\n",
       "      <td>3</td>\n",
       "      <td>1</td>\n",
       "      <td>4</td>\n",
       "      <td>1</td>\n",
       "      <td>4</td>\n",
       "      <td>BDBABBABCE</td>\n",
       "    </tr>\n",
       "  </tbody>\n",
       "</table>\n",
       "</div>"
      ],
      "text/plain": [
       "        f_29  f_30  f_13  f_18  f_17  f_14  f_11  f_10  f_09  f_15  f_07  \\\n",
       "106041     0     1     4     2     0     1     1     0     1     2     3   \n",
       "606674     1     2     0     0     1     2     1     1     0     3     1   \n",
       "392782     1     1     6     3     1     1     1     2     1     3     1   \n",
       "485818     0     1     1     0     2     0     3     0     5     0     0   \n",
       "876338     0     0     2     0     0     0     3     2     0     3     1   \n",
       "\n",
       "        f_12  f_16  f_08        f_27  \n",
       "106041     3     1     4  BABCBADQBB  \n",
       "606674     6     1     0  ABBFBBECEC  \n",
       "392782     2     5     1  BABDCBDKAA  \n",
       "485818     3     4     2  ADBCDACDDF  \n",
       "876338     4     1     4  BDBABBABCE  "
      ]
     },
     "execution_count": 14,
     "metadata": {},
     "output_type": "execute_result"
    }
   ],
   "source": [
    "%%time\n",
    "# Check some of the categorical variables\n",
    "categ_cols = ['f_29','f_30','f_13', 'f_18','f_17','f_14','f_11','f_10','f_09','f_15','f_07','f_12','f_16','f_08','f_27']\n",
    "trn_data[categ_cols].sample(5)"
   ]
  },
  {
   "cell_type": "code",
   "execution_count": 15,
   "id": "e716d27e",
   "metadata": {
    "execution": {
     "iopub.execute_input": "2022-05-02T04:08:24.333104Z",
     "iopub.status.busy": "2022-05-02T04:08:24.332888Z",
     "iopub.status.idle": "2022-05-02T04:08:26.649981Z",
     "shell.execute_reply": "2022-05-02T04:08:26.648632Z"
    },
    "papermill": {
     "duration": 2.381544,
     "end_time": "2022-05-02T04:08:26.652429",
     "exception": false,
     "start_time": "2022-05-02T04:08:24.270885",
     "status": "completed"
    },
    "tags": []
   },
   "outputs": [
    {
     "name": "stdout",
     "output_type": "stream",
     "text": [
      "CPU times: user 2.27 s, sys: 41.3 ms, total: 2.31 s\n",
      "Wall time: 2.31 s\n"
     ]
    }
   ],
   "source": [
    "%%time\n",
    "# Generate a quick correlation matrix to understand the dataset better\n",
    "correlation = trn_data.corr()"
   ]
  },
  {
   "cell_type": "code",
   "execution_count": 16,
   "id": "a0ae9247",
   "metadata": {
    "execution": {
     "iopub.execute_input": "2022-05-02T04:08:26.778826Z",
     "iopub.status.busy": "2022-05-02T04:08:26.778132Z",
     "iopub.status.idle": "2022-05-02T04:08:26.800181Z",
     "shell.execute_reply": "2022-05-02T04:08:26.799502Z"
    },
    "papermill": {
     "duration": 0.08705,
     "end_time": "2022-05-02T04:08:26.802384",
     "exception": false,
     "start_time": "2022-05-02T04:08:26.715334",
     "status": "completed"
    },
    "tags": []
   },
   "outputs": [
    {
     "name": "stdout",
     "output_type": "stream",
     "text": [
      "CPU times: user 3 µs, sys: 0 ns, total: 3 µs\n",
      "Wall time: 5.72 µs\n"
     ]
    },
    {
     "data": {
      "text/html": [
       "<div>\n",
       "<style scoped>\n",
       "    .dataframe tbody tr th:only-of-type {\n",
       "        vertical-align: middle;\n",
       "    }\n",
       "\n",
       "    .dataframe tbody tr th {\n",
       "        vertical-align: top;\n",
       "    }\n",
       "\n",
       "    .dataframe thead th {\n",
       "        text-align: right;\n",
       "    }\n",
       "</style>\n",
       "<table border=\"1\" class=\"dataframe\">\n",
       "  <thead>\n",
       "    <tr style=\"text-align: right;\">\n",
       "      <th></th>\n",
       "      <th>id</th>\n",
       "      <th>f_00</th>\n",
       "      <th>f_01</th>\n",
       "      <th>f_02</th>\n",
       "      <th>f_03</th>\n",
       "      <th>f_04</th>\n",
       "      <th>f_05</th>\n",
       "      <th>...</th>\n",
       "      <th>f_24</th>\n",
       "      <th>f_25</th>\n",
       "      <th>f_26</th>\n",
       "      <th>f_28</th>\n",
       "      <th>f_29</th>\n",
       "      <th>f_30</th>\n",
       "      <th>target</th>\n",
       "    </tr>\n",
       "  </thead>\n",
       "  <tbody>\n",
       "    <tr>\n",
       "      <th>id</th>\n",
       "      <td>1.00</td>\n",
       "      <td>-0.00</td>\n",
       "      <td>0.00</td>\n",
       "      <td>0.00</td>\n",
       "      <td>0.00</td>\n",
       "      <td>0.00</td>\n",
       "      <td>0.00</td>\n",
       "      <td>...</td>\n",
       "      <td>-0.00</td>\n",
       "      <td>-0.00</td>\n",
       "      <td>0.00</td>\n",
       "      <td>0.00</td>\n",
       "      <td>0.00</td>\n",
       "      <td>0.00</td>\n",
       "      <td>0.00</td>\n",
       "    </tr>\n",
       "    <tr>\n",
       "      <th>f_00</th>\n",
       "      <td>-0.00</td>\n",
       "      <td>1.00</td>\n",
       "      <td>-0.00</td>\n",
       "      <td>0.00</td>\n",
       "      <td>-0.00</td>\n",
       "      <td>-0.00</td>\n",
       "      <td>0.00</td>\n",
       "      <td>...</td>\n",
       "      <td>0.00</td>\n",
       "      <td>0.00</td>\n",
       "      <td>0.00</td>\n",
       "      <td>0.19</td>\n",
       "      <td>0.00</td>\n",
       "      <td>-0.00</td>\n",
       "      <td>0.06</td>\n",
       "    </tr>\n",
       "    <tr>\n",
       "      <th>f_01</th>\n",
       "      <td>0.00</td>\n",
       "      <td>-0.00</td>\n",
       "      <td>1.00</td>\n",
       "      <td>0.00</td>\n",
       "      <td>-0.00</td>\n",
       "      <td>-0.00</td>\n",
       "      <td>0.00</td>\n",
       "      <td>...</td>\n",
       "      <td>-0.00</td>\n",
       "      <td>-0.00</td>\n",
       "      <td>0.00</td>\n",
       "      <td>0.19</td>\n",
       "      <td>-0.00</td>\n",
       "      <td>-0.00</td>\n",
       "      <td>0.06</td>\n",
       "    </tr>\n",
       "    <tr>\n",
       "      <th>f_02</th>\n",
       "      <td>0.00</td>\n",
       "      <td>0.00</td>\n",
       "      <td>0.00</td>\n",
       "      <td>1.00</td>\n",
       "      <td>0.00</td>\n",
       "      <td>0.00</td>\n",
       "      <td>-0.00</td>\n",
       "      <td>...</td>\n",
       "      <td>-0.00</td>\n",
       "      <td>-0.00</td>\n",
       "      <td>0.00</td>\n",
       "      <td>0.21</td>\n",
       "      <td>-0.00</td>\n",
       "      <td>-0.00</td>\n",
       "      <td>0.03</td>\n",
       "    </tr>\n",
       "    <tr>\n",
       "      <th>f_03</th>\n",
       "      <td>0.00</td>\n",
       "      <td>-0.00</td>\n",
       "      <td>-0.00</td>\n",
       "      <td>0.00</td>\n",
       "      <td>1.00</td>\n",
       "      <td>0.00</td>\n",
       "      <td>0.00</td>\n",
       "      <td>...</td>\n",
       "      <td>0.00</td>\n",
       "      <td>0.00</td>\n",
       "      <td>0.00</td>\n",
       "      <td>0.33</td>\n",
       "      <td>-0.00</td>\n",
       "      <td>0.00</td>\n",
       "      <td>-0.00</td>\n",
       "    </tr>\n",
       "    <tr>\n",
       "      <th>f_04</th>\n",
       "      <td>0.00</td>\n",
       "      <td>-0.00</td>\n",
       "      <td>-0.00</td>\n",
       "      <td>0.00</td>\n",
       "      <td>0.00</td>\n",
       "      <td>1.00</td>\n",
       "      <td>0.00</td>\n",
       "      <td>...</td>\n",
       "      <td>0.00</td>\n",
       "      <td>-0.00</td>\n",
       "      <td>-0.00</td>\n",
       "      <td>0.17</td>\n",
       "      <td>-0.00</td>\n",
       "      <td>0.00</td>\n",
       "      <td>0.00</td>\n",
       "    </tr>\n",
       "    <tr>\n",
       "      <th>f_05</th>\n",
       "      <td>0.00</td>\n",
       "      <td>0.00</td>\n",
       "      <td>0.00</td>\n",
       "      <td>-0.00</td>\n",
       "      <td>0.00</td>\n",
       "      <td>0.00</td>\n",
       "      <td>1.00</td>\n",
       "      <td>...</td>\n",
       "      <td>-0.00</td>\n",
       "      <td>0.00</td>\n",
       "      <td>0.00</td>\n",
       "      <td>0.30</td>\n",
       "      <td>-0.00</td>\n",
       "      <td>-0.00</td>\n",
       "      <td>0.03</td>\n",
       "    </tr>\n",
       "    <tr>\n",
       "      <th>f_06</th>\n",
       "      <td>0.00</td>\n",
       "      <td>-0.00</td>\n",
       "      <td>-0.00</td>\n",
       "      <td>0.00</td>\n",
       "      <td>-0.00</td>\n",
       "      <td>-0.00</td>\n",
       "      <td>0.00</td>\n",
       "      <td>...</td>\n",
       "      <td>-0.00</td>\n",
       "      <td>0.00</td>\n",
       "      <td>0.00</td>\n",
       "      <td>0.16</td>\n",
       "      <td>0.00</td>\n",
       "      <td>0.00</td>\n",
       "      <td>-0.00</td>\n",
       "    </tr>\n",
       "    <tr>\n",
       "      <th>f_07</th>\n",
       "      <td>-0.00</td>\n",
       "      <td>0.00</td>\n",
       "      <td>-0.00</td>\n",
       "      <td>0.00</td>\n",
       "      <td>0.00</td>\n",
       "      <td>0.00</td>\n",
       "      <td>0.00</td>\n",
       "      <td>...</td>\n",
       "      <td>0.00</td>\n",
       "      <td>-0.00</td>\n",
       "      <td>-0.00</td>\n",
       "      <td>0.00</td>\n",
       "      <td>-0.05</td>\n",
       "      <td>0.00</td>\n",
       "      <td>0.01</td>\n",
       "    </tr>\n",
       "    <tr>\n",
       "      <th>f_08</th>\n",
       "      <td>0.00</td>\n",
       "      <td>-0.00</td>\n",
       "      <td>-0.00</td>\n",
       "      <td>0.00</td>\n",
       "      <td>-0.00</td>\n",
       "      <td>-0.00</td>\n",
       "      <td>-0.00</td>\n",
       "      <td>...</td>\n",
       "      <td>0.00</td>\n",
       "      <td>-0.00</td>\n",
       "      <td>-0.00</td>\n",
       "      <td>-0.00</td>\n",
       "      <td>0.06</td>\n",
       "      <td>0.00</td>\n",
       "      <td>0.04</td>\n",
       "    </tr>\n",
       "    <tr>\n",
       "      <th>f_09</th>\n",
       "      <td>0.00</td>\n",
       "      <td>0.00</td>\n",
       "      <td>-0.00</td>\n",
       "      <td>0.00</td>\n",
       "      <td>0.00</td>\n",
       "      <td>0.00</td>\n",
       "      <td>-0.00</td>\n",
       "      <td>...</td>\n",
       "      <td>0.01</td>\n",
       "      <td>-0.01</td>\n",
       "      <td>-0.01</td>\n",
       "      <td>-0.00</td>\n",
       "      <td>-0.10</td>\n",
       "      <td>-0.00</td>\n",
       "      <td>0.07</td>\n",
       "    </tr>\n",
       "    <tr>\n",
       "      <th>f_10</th>\n",
       "      <td>0.00</td>\n",
       "      <td>0.00</td>\n",
       "      <td>0.00</td>\n",
       "      <td>0.00</td>\n",
       "      <td>-0.00</td>\n",
       "      <td>-0.00</td>\n",
       "      <td>-0.00</td>\n",
       "      <td>...</td>\n",
       "      <td>-0.00</td>\n",
       "      <td>0.00</td>\n",
       "      <td>0.01</td>\n",
       "      <td>-0.00</td>\n",
       "      <td>0.12</td>\n",
       "      <td>-0.00</td>\n",
       "      <td>-0.04</td>\n",
       "    </tr>\n",
       "    <tr>\n",
       "      <th>f_11</th>\n",
       "      <td>0.00</td>\n",
       "      <td>0.00</td>\n",
       "      <td>0.00</td>\n",
       "      <td>-0.00</td>\n",
       "      <td>0.00</td>\n",
       "      <td>0.00</td>\n",
       "      <td>-0.00</td>\n",
       "      <td>...</td>\n",
       "      <td>-0.01</td>\n",
       "      <td>0.00</td>\n",
       "      <td>0.01</td>\n",
       "      <td>0.00</td>\n",
       "      <td>0.08</td>\n",
       "      <td>-0.00</td>\n",
       "      <td>-0.08</td>\n",
       "    </tr>\n",
       "    <tr>\n",
       "      <th>f_12</th>\n",
       "      <td>-0.00</td>\n",
       "      <td>-0.00</td>\n",
       "      <td>-0.00</td>\n",
       "      <td>0.00</td>\n",
       "      <td>0.00</td>\n",
       "      <td>0.00</td>\n",
       "      <td>0.00</td>\n",
       "      <td>...</td>\n",
       "      <td>0.00</td>\n",
       "      <td>-0.00</td>\n",
       "      <td>-0.00</td>\n",
       "      <td>0.00</td>\n",
       "      <td>-0.11</td>\n",
       "      <td>-0.00</td>\n",
       "      <td>-0.00</td>\n",
       "    </tr>\n",
       "    <tr>\n",
       "      <th>f_13</th>\n",
       "      <td>-0.00</td>\n",
       "      <td>0.00</td>\n",
       "      <td>-0.00</td>\n",
       "      <td>-0.00</td>\n",
       "      <td>-0.00</td>\n",
       "      <td>-0.00</td>\n",
       "      <td>0.00</td>\n",
       "      <td>...</td>\n",
       "      <td>-0.00</td>\n",
       "      <td>-0.00</td>\n",
       "      <td>0.00</td>\n",
       "      <td>-0.00</td>\n",
       "      <td>0.01</td>\n",
       "      <td>-0.00</td>\n",
       "      <td>-0.03</td>\n",
       "    </tr>\n",
       "    <tr>\n",
       "      <th>f_14</th>\n",
       "      <td>0.00</td>\n",
       "      <td>0.00</td>\n",
       "      <td>0.00</td>\n",
       "      <td>0.00</td>\n",
       "      <td>-0.00</td>\n",
       "      <td>0.00</td>\n",
       "      <td>0.00</td>\n",
       "      <td>...</td>\n",
       "      <td>-0.00</td>\n",
       "      <td>-0.00</td>\n",
       "      <td>0.00</td>\n",
       "      <td>0.00</td>\n",
       "      <td>-0.04</td>\n",
       "      <td>-0.00</td>\n",
       "      <td>-0.02</td>\n",
       "    </tr>\n",
       "    <tr>\n",
       "      <th>f_15</th>\n",
       "      <td>0.00</td>\n",
       "      <td>-0.00</td>\n",
       "      <td>-0.00</td>\n",
       "      <td>0.00</td>\n",
       "      <td>-0.00</td>\n",
       "      <td>0.00</td>\n",
       "      <td>-0.00</td>\n",
       "      <td>...</td>\n",
       "      <td>0.00</td>\n",
       "      <td>-0.00</td>\n",
       "      <td>-0.00</td>\n",
       "      <td>-0.00</td>\n",
       "      <td>-0.00</td>\n",
       "      <td>0.00</td>\n",
       "      <td>0.04</td>\n",
       "    </tr>\n",
       "    <tr>\n",
       "      <th>f_16</th>\n",
       "      <td>0.00</td>\n",
       "      <td>-0.00</td>\n",
       "      <td>-0.00</td>\n",
       "      <td>-0.00</td>\n",
       "      <td>-0.00</td>\n",
       "      <td>-0.00</td>\n",
       "      <td>-0.00</td>\n",
       "      <td>...</td>\n",
       "      <td>-0.00</td>\n",
       "      <td>0.00</td>\n",
       "      <td>0.00</td>\n",
       "      <td>-0.00</td>\n",
       "      <td>0.09</td>\n",
       "      <td>-0.00</td>\n",
       "      <td>-0.04</td>\n",
       "    </tr>\n",
       "    <tr>\n",
       "      <th>f_17</th>\n",
       "      <td>-0.00</td>\n",
       "      <td>0.00</td>\n",
       "      <td>0.00</td>\n",
       "      <td>0.00</td>\n",
       "      <td>0.00</td>\n",
       "      <td>-0.00</td>\n",
       "      <td>0.00</td>\n",
       "      <td>...</td>\n",
       "      <td>-0.00</td>\n",
       "      <td>0.00</td>\n",
       "      <td>0.00</td>\n",
       "      <td>0.00</td>\n",
       "      <td>-0.08</td>\n",
       "      <td>0.00</td>\n",
       "      <td>0.00</td>\n",
       "    </tr>\n",
       "    <tr>\n",
       "      <th>f_18</th>\n",
       "      <td>0.00</td>\n",
       "      <td>-0.00</td>\n",
       "      <td>0.00</td>\n",
       "      <td>-0.00</td>\n",
       "      <td>0.00</td>\n",
       "      <td>0.00</td>\n",
       "      <td>0.00</td>\n",
       "      <td>...</td>\n",
       "      <td>0.00</td>\n",
       "      <td>0.00</td>\n",
       "      <td>-0.00</td>\n",
       "      <td>-0.00</td>\n",
       "      <td>0.16</td>\n",
       "      <td>-0.00</td>\n",
       "      <td>-0.01</td>\n",
       "    </tr>\n",
       "    <tr>\n",
       "      <th>f_19</th>\n",
       "      <td>-0.00</td>\n",
       "      <td>0.00</td>\n",
       "      <td>-0.00</td>\n",
       "      <td>-0.00</td>\n",
       "      <td>0.00</td>\n",
       "      <td>0.00</td>\n",
       "      <td>-0.00</td>\n",
       "      <td>...</td>\n",
       "      <td>-0.10</td>\n",
       "      <td>-0.02</td>\n",
       "      <td>-0.02</td>\n",
       "      <td>0.00</td>\n",
       "      <td>-0.01</td>\n",
       "      <td>0.10</td>\n",
       "      <td>-0.09</td>\n",
       "    </tr>\n",
       "    <tr>\n",
       "      <th>f_20</th>\n",
       "      <td>0.00</td>\n",
       "      <td>-0.00</td>\n",
       "      <td>0.00</td>\n",
       "      <td>0.00</td>\n",
       "      <td>0.00</td>\n",
       "      <td>0.00</td>\n",
       "      <td>-0.00</td>\n",
       "      <td>...</td>\n",
       "      <td>0.09</td>\n",
       "      <td>-0.06</td>\n",
       "      <td>0.12</td>\n",
       "      <td>0.00</td>\n",
       "      <td>-0.00</td>\n",
       "      <td>0.07</td>\n",
       "      <td>-0.04</td>\n",
       "    </tr>\n",
       "    <tr>\n",
       "      <th>f_21</th>\n",
       "      <td>-0.00</td>\n",
       "      <td>0.00</td>\n",
       "      <td>-0.00</td>\n",
       "      <td>-0.00</td>\n",
       "      <td>-0.00</td>\n",
       "      <td>0.00</td>\n",
       "      <td>0.00</td>\n",
       "      <td>...</td>\n",
       "      <td>0.05</td>\n",
       "      <td>-0.08</td>\n",
       "      <td>0.14</td>\n",
       "      <td>-0.00</td>\n",
       "      <td>0.00</td>\n",
       "      <td>-0.15</td>\n",
       "      <td>0.13</td>\n",
       "    </tr>\n",
       "    <tr>\n",
       "      <th>f_22</th>\n",
       "      <td>-0.00</td>\n",
       "      <td>-0.00</td>\n",
       "      <td>-0.00</td>\n",
       "      <td>-0.00</td>\n",
       "      <td>0.00</td>\n",
       "      <td>0.00</td>\n",
       "      <td>0.00</td>\n",
       "      <td>...</td>\n",
       "      <td>-0.02</td>\n",
       "      <td>0.15</td>\n",
       "      <td>-0.03</td>\n",
       "      <td>0.00</td>\n",
       "      <td>0.00</td>\n",
       "      <td>0.31</td>\n",
       "      <td>0.07</td>\n",
       "    </tr>\n",
       "    <tr>\n",
       "      <th>f_23</th>\n",
       "      <td>-0.00</td>\n",
       "      <td>0.00</td>\n",
       "      <td>-0.00</td>\n",
       "      <td>-0.00</td>\n",
       "      <td>0.00</td>\n",
       "      <td>-0.00</td>\n",
       "      <td>-0.00</td>\n",
       "      <td>...</td>\n",
       "      <td>0.01</td>\n",
       "      <td>-0.23</td>\n",
       "      <td>0.04</td>\n",
       "      <td>-0.00</td>\n",
       "      <td>0.01</td>\n",
       "      <td>-0.17</td>\n",
       "      <td>0.08</td>\n",
       "    </tr>\n",
       "    <tr>\n",
       "      <th>f_24</th>\n",
       "      <td>-0.00</td>\n",
       "      <td>0.00</td>\n",
       "      <td>-0.00</td>\n",
       "      <td>-0.00</td>\n",
       "      <td>0.00</td>\n",
       "      <td>0.00</td>\n",
       "      <td>-0.00</td>\n",
       "      <td>...</td>\n",
       "      <td>1.00</td>\n",
       "      <td>-0.09</td>\n",
       "      <td>0.01</td>\n",
       "      <td>-0.00</td>\n",
       "      <td>0.01</td>\n",
       "      <td>-0.08</td>\n",
       "      <td>0.09</td>\n",
       "    </tr>\n",
       "    <tr>\n",
       "      <th>f_25</th>\n",
       "      <td>-0.00</td>\n",
       "      <td>0.00</td>\n",
       "      <td>-0.00</td>\n",
       "      <td>-0.00</td>\n",
       "      <td>0.00</td>\n",
       "      <td>-0.00</td>\n",
       "      <td>0.00</td>\n",
       "      <td>...</td>\n",
       "      <td>-0.09</td>\n",
       "      <td>1.00</td>\n",
       "      <td>0.01</td>\n",
       "      <td>0.00</td>\n",
       "      <td>-0.00</td>\n",
       "      <td>0.18</td>\n",
       "      <td>-0.03</td>\n",
       "    </tr>\n",
       "    <tr>\n",
       "      <th>f_26</th>\n",
       "      <td>0.00</td>\n",
       "      <td>0.00</td>\n",
       "      <td>0.00</td>\n",
       "      <td>0.00</td>\n",
       "      <td>0.00</td>\n",
       "      <td>-0.00</td>\n",
       "      <td>0.00</td>\n",
       "      <td>...</td>\n",
       "      <td>0.01</td>\n",
       "      <td>0.01</td>\n",
       "      <td>1.00</td>\n",
       "      <td>0.00</td>\n",
       "      <td>-0.01</td>\n",
       "      <td>-0.02</td>\n",
       "      <td>0.06</td>\n",
       "    </tr>\n",
       "    <tr>\n",
       "      <th>f_28</th>\n",
       "      <td>0.00</td>\n",
       "      <td>0.19</td>\n",
       "      <td>0.19</td>\n",
       "      <td>0.21</td>\n",
       "      <td>0.33</td>\n",
       "      <td>0.17</td>\n",
       "      <td>0.30</td>\n",
       "      <td>...</td>\n",
       "      <td>-0.00</td>\n",
       "      <td>0.00</td>\n",
       "      <td>0.00</td>\n",
       "      <td>1.00</td>\n",
       "      <td>-0.00</td>\n",
       "      <td>0.00</td>\n",
       "      <td>0.04</td>\n",
       "    </tr>\n",
       "    <tr>\n",
       "      <th>f_29</th>\n",
       "      <td>0.00</td>\n",
       "      <td>0.00</td>\n",
       "      <td>-0.00</td>\n",
       "      <td>-0.00</td>\n",
       "      <td>-0.00</td>\n",
       "      <td>-0.00</td>\n",
       "      <td>-0.00</td>\n",
       "      <td>...</td>\n",
       "      <td>0.01</td>\n",
       "      <td>-0.00</td>\n",
       "      <td>-0.01</td>\n",
       "      <td>-0.00</td>\n",
       "      <td>1.00</td>\n",
       "      <td>-0.00</td>\n",
       "      <td>0.05</td>\n",
       "    </tr>\n",
       "    <tr>\n",
       "      <th>f_30</th>\n",
       "      <td>0.00</td>\n",
       "      <td>-0.00</td>\n",
       "      <td>-0.00</td>\n",
       "      <td>-0.00</td>\n",
       "      <td>0.00</td>\n",
       "      <td>0.00</td>\n",
       "      <td>-0.00</td>\n",
       "      <td>...</td>\n",
       "      <td>-0.08</td>\n",
       "      <td>0.18</td>\n",
       "      <td>-0.02</td>\n",
       "      <td>0.00</td>\n",
       "      <td>-0.00</td>\n",
       "      <td>1.00</td>\n",
       "      <td>0.02</td>\n",
       "    </tr>\n",
       "    <tr>\n",
       "      <th>target</th>\n",
       "      <td>0.00</td>\n",
       "      <td>0.06</td>\n",
       "      <td>0.06</td>\n",
       "      <td>0.03</td>\n",
       "      <td>-0.00</td>\n",
       "      <td>0.00</td>\n",
       "      <td>0.03</td>\n",
       "      <td>...</td>\n",
       "      <td>0.09</td>\n",
       "      <td>-0.03</td>\n",
       "      <td>0.06</td>\n",
       "      <td>0.04</td>\n",
       "      <td>0.05</td>\n",
       "      <td>0.02</td>\n",
       "      <td>1.00</td>\n",
       "    </tr>\n",
       "  </tbody>\n",
       "</table>\n",
       "<p>32 rows × 32 columns</p>\n",
       "</div>"
      ],
      "text/plain": [
       "          id  f_00  f_01  f_02  f_03  f_04  f_05  ...  f_24  f_25  f_26  f_28  \\\n",
       "id      1.00 -0.00  0.00  0.00  0.00  0.00  0.00  ... -0.00 -0.00  0.00  0.00   \n",
       "f_00   -0.00  1.00 -0.00  0.00 -0.00 -0.00  0.00  ...  0.00  0.00  0.00  0.19   \n",
       "f_01    0.00 -0.00  1.00  0.00 -0.00 -0.00  0.00  ... -0.00 -0.00  0.00  0.19   \n",
       "f_02    0.00  0.00  0.00  1.00  0.00  0.00 -0.00  ... -0.00 -0.00  0.00  0.21   \n",
       "f_03    0.00 -0.00 -0.00  0.00  1.00  0.00  0.00  ...  0.00  0.00  0.00  0.33   \n",
       "f_04    0.00 -0.00 -0.00  0.00  0.00  1.00  0.00  ...  0.00 -0.00 -0.00  0.17   \n",
       "f_05    0.00  0.00  0.00 -0.00  0.00  0.00  1.00  ... -0.00  0.00  0.00  0.30   \n",
       "f_06    0.00 -0.00 -0.00  0.00 -0.00 -0.00  0.00  ... -0.00  0.00  0.00  0.16   \n",
       "f_07   -0.00  0.00 -0.00  0.00  0.00  0.00  0.00  ...  0.00 -0.00 -0.00  0.00   \n",
       "f_08    0.00 -0.00 -0.00  0.00 -0.00 -0.00 -0.00  ...  0.00 -0.00 -0.00 -0.00   \n",
       "f_09    0.00  0.00 -0.00  0.00  0.00  0.00 -0.00  ...  0.01 -0.01 -0.01 -0.00   \n",
       "f_10    0.00  0.00  0.00  0.00 -0.00 -0.00 -0.00  ... -0.00  0.00  0.01 -0.00   \n",
       "f_11    0.00  0.00  0.00 -0.00  0.00  0.00 -0.00  ... -0.01  0.00  0.01  0.00   \n",
       "f_12   -0.00 -0.00 -0.00  0.00  0.00  0.00  0.00  ...  0.00 -0.00 -0.00  0.00   \n",
       "f_13   -0.00  0.00 -0.00 -0.00 -0.00 -0.00  0.00  ... -0.00 -0.00  0.00 -0.00   \n",
       "f_14    0.00  0.00  0.00  0.00 -0.00  0.00  0.00  ... -0.00 -0.00  0.00  0.00   \n",
       "f_15    0.00 -0.00 -0.00  0.00 -0.00  0.00 -0.00  ...  0.00 -0.00 -0.00 -0.00   \n",
       "f_16    0.00 -0.00 -0.00 -0.00 -0.00 -0.00 -0.00  ... -0.00  0.00  0.00 -0.00   \n",
       "f_17   -0.00  0.00  0.00  0.00  0.00 -0.00  0.00  ... -0.00  0.00  0.00  0.00   \n",
       "f_18    0.00 -0.00  0.00 -0.00  0.00  0.00  0.00  ...  0.00  0.00 -0.00 -0.00   \n",
       "f_19   -0.00  0.00 -0.00 -0.00  0.00  0.00 -0.00  ... -0.10 -0.02 -0.02  0.00   \n",
       "f_20    0.00 -0.00  0.00  0.00  0.00  0.00 -0.00  ...  0.09 -0.06  0.12  0.00   \n",
       "f_21   -0.00  0.00 -0.00 -0.00 -0.00  0.00  0.00  ...  0.05 -0.08  0.14 -0.00   \n",
       "f_22   -0.00 -0.00 -0.00 -0.00  0.00  0.00  0.00  ... -0.02  0.15 -0.03  0.00   \n",
       "f_23   -0.00  0.00 -0.00 -0.00  0.00 -0.00 -0.00  ...  0.01 -0.23  0.04 -0.00   \n",
       "f_24   -0.00  0.00 -0.00 -0.00  0.00  0.00 -0.00  ...  1.00 -0.09  0.01 -0.00   \n",
       "f_25   -0.00  0.00 -0.00 -0.00  0.00 -0.00  0.00  ... -0.09  1.00  0.01  0.00   \n",
       "f_26    0.00  0.00  0.00  0.00  0.00 -0.00  0.00  ...  0.01  0.01  1.00  0.00   \n",
       "f_28    0.00  0.19  0.19  0.21  0.33  0.17  0.30  ... -0.00  0.00  0.00  1.00   \n",
       "f_29    0.00  0.00 -0.00 -0.00 -0.00 -0.00 -0.00  ...  0.01 -0.00 -0.01 -0.00   \n",
       "f_30    0.00 -0.00 -0.00 -0.00  0.00  0.00 -0.00  ... -0.08  0.18 -0.02  0.00   \n",
       "target  0.00  0.06  0.06  0.03 -0.00  0.00  0.03  ...  0.09 -0.03  0.06  0.04   \n",
       "\n",
       "        f_29  f_30  target  \n",
       "id      0.00  0.00    0.00  \n",
       "f_00    0.00 -0.00    0.06  \n",
       "f_01   -0.00 -0.00    0.06  \n",
       "f_02   -0.00 -0.00    0.03  \n",
       "f_03   -0.00  0.00   -0.00  \n",
       "f_04   -0.00  0.00    0.00  \n",
       "f_05   -0.00 -0.00    0.03  \n",
       "f_06    0.00  0.00   -0.00  \n",
       "f_07   -0.05  0.00    0.01  \n",
       "f_08    0.06  0.00    0.04  \n",
       "f_09   -0.10 -0.00    0.07  \n",
       "f_10    0.12 -0.00   -0.04  \n",
       "f_11    0.08 -0.00   -0.08  \n",
       "f_12   -0.11 -0.00   -0.00  \n",
       "f_13    0.01 -0.00   -0.03  \n",
       "f_14   -0.04 -0.00   -0.02  \n",
       "f_15   -0.00  0.00    0.04  \n",
       "f_16    0.09 -0.00   -0.04  \n",
       "f_17   -0.08  0.00    0.00  \n",
       "f_18    0.16 -0.00   -0.01  \n",
       "f_19   -0.01  0.10   -0.09  \n",
       "f_20   -0.00  0.07   -0.04  \n",
       "f_21    0.00 -0.15    0.13  \n",
       "f_22    0.00  0.31    0.07  \n",
       "f_23    0.01 -0.17    0.08  \n",
       "f_24    0.01 -0.08    0.09  \n",
       "f_25   -0.00  0.18   -0.03  \n",
       "f_26   -0.01 -0.02    0.06  \n",
       "f_28   -0.00  0.00    0.04  \n",
       "f_29    1.00 -0.00    0.05  \n",
       "f_30   -0.00  1.00    0.02  \n",
       "target  0.05  0.02    1.00  \n",
       "\n",
       "[32 rows x 32 columns]"
      ]
     },
     "execution_count": 16,
     "metadata": {},
     "output_type": "execute_result"
    }
   ],
   "source": [
    "%%time\n",
    "# Diplay the correlation matrix\n",
    "correlation"
   ]
  },
  {
   "cell_type": "code",
   "execution_count": 17,
   "id": "44b80fe4",
   "metadata": {
    "execution": {
     "iopub.execute_input": "2022-05-02T04:08:26.931696Z",
     "iopub.status.busy": "2022-05-02T04:08:26.931040Z",
     "iopub.status.idle": "2022-05-02T04:08:26.939783Z",
     "shell.execute_reply": "2022-05-02T04:08:26.938961Z"
    },
    "papermill": {
     "duration": 0.075605,
     "end_time": "2022-05-02T04:08:26.942257",
     "exception": false,
     "start_time": "2022-05-02T04:08:26.866652",
     "status": "completed"
    },
    "tags": []
   },
   "outputs": [
    {
     "name": "stdout",
     "output_type": "stream",
     "text": [
      "CPU times: user 1.24 ms, sys: 20 µs, total: 1.26 ms\n",
      "Wall time: 1.03 ms\n"
     ]
    },
    {
     "data": {
      "text/plain": [
       "target   1.00\n",
       "f_21     0.13\n",
       "f_24     0.09\n",
       "f_23     0.08\n",
       "f_09     0.07\n",
       "Name: target, dtype: float64"
      ]
     },
     "execution_count": 17,
     "metadata": {},
     "output_type": "execute_result"
    }
   ],
   "source": [
    "%%time\n",
    "# Check the most correlated variables to the target\n",
    "correlation['target'].sort_values(ascending = False)[:5]"
   ]
  },
  {
   "cell_type": "code",
   "execution_count": 18,
   "id": "ccb0df88",
   "metadata": {
    "execution": {
     "iopub.execute_input": "2022-05-02T04:08:27.074941Z",
     "iopub.status.busy": "2022-05-02T04:08:27.074255Z",
     "iopub.status.idle": "2022-05-02T04:08:27.084122Z",
     "shell.execute_reply": "2022-05-02T04:08:27.082995Z"
    },
    "papermill": {
     "duration": 0.07834,
     "end_time": "2022-05-02T04:08:27.086360",
     "exception": false,
     "start_time": "2022-05-02T04:08:27.008020",
     "status": "completed"
    },
    "tags": []
   },
   "outputs": [
    {
     "name": "stdout",
     "output_type": "stream",
     "text": [
      "CPU times: user 0 ns, sys: 634 µs, total: 634 µs\n",
      "Wall time: 535 µs\n"
     ]
    },
    {
     "data": {
      "text/plain": [
       "f_19   -0.09\n",
       "f_11   -0.08\n",
       "f_16   -0.04\n",
       "f_20   -0.04\n",
       "f_10   -0.04\n",
       "Name: target, dtype: float64"
      ]
     },
     "execution_count": 18,
     "metadata": {},
     "output_type": "execute_result"
    }
   ],
   "source": [
    "%%time\n",
    "# Check the least correlated variables to the target\n",
    "correlation['target'].sort_values(ascending = True)[:5]"
   ]
  },
  {
   "cell_type": "markdown",
   "id": "3bc56f9a",
   "metadata": {
    "papermill": {
     "duration": 0.065,
     "end_time": "2022-05-02T04:08:27.218129",
     "exception": false,
     "start_time": "2022-05-02T04:08:27.153129",
     "status": "completed"
    },
    "tags": []
   },
   "source": [
    "---"
   ]
  },
  {
   "cell_type": "markdown",
   "id": "8aaa140e",
   "metadata": {
    "papermill": {
     "duration": 0.064297,
     "end_time": "2022-05-02T04:08:27.347376",
     "exception": false,
     "start_time": "2022-05-02T04:08:27.283079",
     "status": "completed"
    },
    "tags": []
   },
   "source": [
    "## 4.2. Analysing the Trian Labels Dataset"
   ]
  },
  {
   "cell_type": "code",
   "execution_count": 19,
   "id": "d4bcab19",
   "metadata": {
    "execution": {
     "iopub.execute_input": "2022-05-02T04:08:27.477975Z",
     "iopub.status.busy": "2022-05-02T04:08:27.477464Z",
     "iopub.status.idle": "2022-05-02T04:08:27.490023Z",
     "shell.execute_reply": "2022-05-02T04:08:27.488609Z"
    },
    "papermill": {
     "duration": 0.080279,
     "end_time": "2022-05-02T04:08:27.492255",
     "exception": false,
     "start_time": "2022-05-02T04:08:27.411976",
     "status": "completed"
    },
    "tags": []
   },
   "outputs": [
    {
     "name": "stdout",
     "output_type": "stream",
     "text": [
      "CPU times: user 5.08 ms, sys: 7 µs, total: 5.09 ms\n",
      "Wall time: 4.96 ms\n"
     ]
    },
    {
     "data": {
      "text/plain": [
       "0    462161\n",
       "1    437839\n",
       "Name: target, dtype: int64"
      ]
     },
     "execution_count": 19,
     "metadata": {},
     "output_type": "execute_result"
    }
   ],
   "source": [
    "%%time\n",
    "# Check how well balanced is the dataset\n",
    "trn_data['target'].value_counts()"
   ]
  },
  {
   "cell_type": "code",
   "execution_count": 20,
   "id": "0e47fc01",
   "metadata": {
    "execution": {
     "iopub.execute_input": "2022-05-02T04:08:27.626368Z",
     "iopub.status.busy": "2022-05-02T04:08:27.625685Z",
     "iopub.status.idle": "2022-05-02T04:08:27.655184Z",
     "shell.execute_reply": "2022-05-02T04:08:27.654312Z"
    },
    "papermill": {
     "duration": 0.099016,
     "end_time": "2022-05-02T04:08:27.657420",
     "exception": false,
     "start_time": "2022-05-02T04:08:27.558404",
     "status": "completed"
    },
    "tags": []
   },
   "outputs": [
    {
     "name": "stdout",
     "output_type": "stream",
     "text": [
      "CPU times: user 20.9 ms, sys: 0 ns, total: 20.9 ms\n",
      "Wall time: 22 ms\n"
     ]
    },
    {
     "data": {
      "text/plain": [
       "count   900,000.00\n",
       "mean          0.49\n",
       "std           0.50\n",
       "min           0.00\n",
       "25%           0.00\n",
       "50%           0.00\n",
       "75%           1.00\n",
       "max           1.00\n",
       "Name: target, dtype: float64"
      ]
     },
     "execution_count": 20,
     "metadata": {},
     "output_type": "execute_result"
    }
   ],
   "source": [
    "%%time\n",
    "# Check some statistics on the target variable\n",
    "trn_data['target'].describe()"
   ]
  },
  {
   "cell_type": "markdown",
   "id": "eb3cfb4e",
   "metadata": {
    "papermill": {
     "duration": 0.066686,
     "end_time": "2022-05-02T04:08:27.798496",
     "exception": false,
     "start_time": "2022-05-02T04:08:27.731810",
     "status": "completed"
    },
    "tags": []
   },
   "source": [
    "---"
   ]
  },
  {
   "cell_type": "markdown",
   "id": "07ed1685",
   "metadata": {
    "papermill": {
     "duration": 0.066519,
     "end_time": "2022-05-02T04:08:27.933233",
     "exception": false,
     "start_time": "2022-05-02T04:08:27.866714",
     "status": "completed"
    },
    "tags": []
   },
   "source": [
    "# 5. Feature Engineering"
   ]
  },
  {
   "cell_type": "markdown",
   "id": "a42804fe",
   "metadata": {
    "papermill": {
     "duration": 0.066056,
     "end_time": "2022-05-02T04:08:28.066216",
     "exception": false,
     "start_time": "2022-05-02T04:08:28.000160",
     "status": "completed"
    },
    "tags": []
   },
   "source": [
    "## 5.1 Text Base Features"
   ]
  },
  {
   "cell_type": "code",
   "execution_count": 21,
   "id": "c78c0c90",
   "metadata": {
    "execution": {
     "iopub.execute_input": "2022-05-02T04:08:28.200662Z",
     "iopub.status.busy": "2022-05-02T04:08:28.200392Z",
     "iopub.status.idle": "2022-05-02T04:08:28.206828Z",
     "shell.execute_reply": "2022-05-02T04:08:28.206143Z"
    },
    "papermill": {
     "duration": 0.076665,
     "end_time": "2022-05-02T04:08:28.209519",
     "exception": false,
     "start_time": "2022-05-02T04:08:28.132854",
     "status": "completed"
    },
    "tags": []
   },
   "outputs": [
    {
     "name": "stdout",
     "output_type": "stream",
     "text": [
      "CPU times: user 4 µs, sys: 0 ns, total: 4 µs\n",
      "Wall time: 6.91 µs\n"
     ]
    }
   ],
   "source": [
    "%%time\n",
    "# The idea is to create a simple funtion to count the amount of letters on feature 27.\n",
    "# feature 27 seems quite important \n",
    "\n",
    "def count_sequence(df, field):\n",
    "    '''\n",
    "    For each letter of the provided suquence it return new feature with the number of occurences.\n",
    "    '''\n",
    "    alphabet = ['A','B','C','D','E','F','G','H','I','J','K','L','M','N','O','P','Q','R','S','T','U','V','W','X','Y','Z']    \n",
    "    \n",
    "    for letter in alphabet:\n",
    "        df[letter + '_count'] = df[field].str.count(letter)\n",
    "    \n",
    "    df[\"unique_characters\"] = df['f_27'].apply(lambda s: len(set(s)))\n",
    "    return df"
   ]
  },
  {
   "cell_type": "code",
   "execution_count": 22,
   "id": "5da954dd",
   "metadata": {
    "execution": {
     "iopub.execute_input": "2022-05-02T04:08:28.358032Z",
     "iopub.status.busy": "2022-05-02T04:08:28.357795Z",
     "iopub.status.idle": "2022-05-02T04:08:28.362138Z",
     "shell.execute_reply": "2022-05-02T04:08:28.361483Z"
    },
    "papermill": {
     "duration": 0.089017,
     "end_time": "2022-05-02T04:08:28.364802",
     "exception": false,
     "start_time": "2022-05-02T04:08:28.275785",
     "status": "completed"
    },
    "tags": []
   },
   "outputs": [
    {
     "name": "stdout",
     "output_type": "stream",
     "text": [
      "CPU times: user 3 µs, sys: 1 µs, total: 4 µs\n",
      "Wall time: 5.72 µs\n"
     ]
    }
   ],
   "source": [
    "%%time\n",
    "# Utilizes the new created funtions to generate more features.\n",
    "# trn_data = count_sequence(trn_data, 'f_27')\n",
    "# tst_data = count_sequence(tst_data, 'f_27')"
   ]
  },
  {
   "cell_type": "code",
   "execution_count": 23,
   "id": "19c9ea47",
   "metadata": {
    "execution": {
     "iopub.execute_input": "2022-05-02T04:08:28.516936Z",
     "iopub.status.busy": "2022-05-02T04:08:28.516261Z",
     "iopub.status.idle": "2022-05-02T04:08:28.523009Z",
     "shell.execute_reply": "2022-05-02T04:08:28.522165Z"
    },
    "papermill": {
     "duration": 0.08527,
     "end_time": "2022-05-02T04:08:28.525320",
     "exception": false,
     "start_time": "2022-05-02T04:08:28.440050",
     "status": "completed"
    },
    "tags": []
   },
   "outputs": [
    {
     "name": "stdout",
     "output_type": "stream",
     "text": [
      "CPU times: user 4 µs, sys: 0 ns, total: 4 µs\n",
      "Wall time: 8.34 µs\n"
     ]
    }
   ],
   "source": [
    "%%time\n",
    "def count_chars(df, field):\n",
    "    '''\n",
    "    Describes something...\n",
    "    '''\n",
    "    \n",
    "    for i in range(10):\n",
    "        df[f'ch_{i}'] = df[field].str.get(i).apply(ord) - ord('A')\n",
    "        \n",
    "    df[\"unique_characters\"] = df[field].apply(lambda s: len(set(s)))\n",
    "    return df"
   ]
  },
  {
   "cell_type": "code",
   "execution_count": 24,
   "id": "247b0cd8",
   "metadata": {
    "execution": {
     "iopub.execute_input": "2022-05-02T04:08:28.680350Z",
     "iopub.status.busy": "2022-05-02T04:08:28.679662Z",
     "iopub.status.idle": "2022-05-02T04:08:47.193856Z",
     "shell.execute_reply": "2022-05-02T04:08:47.191988Z"
    },
    "papermill": {
     "duration": 18.594152,
     "end_time": "2022-05-02T04:08:47.195673",
     "exception": false,
     "start_time": "2022-05-02T04:08:28.601521",
     "status": "completed"
    },
    "tags": []
   },
   "outputs": [
    {
     "name": "stdout",
     "output_type": "stream",
     "text": [
      "CPU times: user 18.2 s, sys: 246 ms, total: 18.4 s\n",
      "Wall time: 18.5 s\n"
     ]
    }
   ],
   "source": [
    "%%time\n",
    "# Utilizes the new created funtions to generate more features.\n",
    "trn_data = count_chars(trn_data, 'f_27')\n",
    "tst_data = count_chars(tst_data, 'f_27')"
   ]
  },
  {
   "cell_type": "markdown",
   "id": "fcc8bfa4",
   "metadata": {
    "papermill": {
     "duration": 0.066435,
     "end_time": "2022-05-02T04:08:47.329126",
     "exception": false,
     "start_time": "2022-05-02T04:08:47.262691",
     "status": "completed"
    },
    "tags": []
   },
   "source": [
    "---"
   ]
  },
  {
   "cell_type": "markdown",
   "id": "d807f05f",
   "metadata": {
    "papermill": {
     "duration": 0.069022,
     "end_time": "2022-05-02T04:08:47.467866",
     "exception": false,
     "start_time": "2022-05-02T04:08:47.398844",
     "status": "completed"
    },
    "tags": []
   },
   "source": [
    "# 7. Pre-Processing Labels"
   ]
  },
  {
   "cell_type": "code",
   "execution_count": 25,
   "id": "ae0a9609",
   "metadata": {
    "execution": {
     "iopub.execute_input": "2022-05-02T04:08:47.609455Z",
     "iopub.status.busy": "2022-05-02T04:08:47.608691Z",
     "iopub.status.idle": "2022-05-02T04:08:53.575806Z",
     "shell.execute_reply": "2022-05-02T04:08:53.573854Z"
    },
    "papermill": {
     "duration": 6.040071,
     "end_time": "2022-05-02T04:08:53.577900",
     "exception": false,
     "start_time": "2022-05-02T04:08:47.537829",
     "status": "completed"
    },
    "tags": []
   },
   "outputs": [
    {
     "name": "stdout",
     "output_type": "stream",
     "text": [
      "CPU times: user 5.37 s, sys: 276 ms, total: 5.65 s\n",
      "Wall time: 5.96 s\n"
     ]
    }
   ],
   "source": [
    "%%time\n",
    "# Define a label encoding function\n",
    "from sklearn.preprocessing import LabelEncoder\n",
    "encoder = LabelEncoder()\n",
    "def encode_features(df, cols = ['f_27']):\n",
    "    for col in cols:\n",
    "        df[col + '_enc'] = encoder.fit_transform(df[col])\n",
    "    return df\n",
    "\n",
    "trn_data = encode_features(trn_data)\n",
    "tst_data = encode_features(tst_data)"
   ]
  },
  {
   "cell_type": "code",
   "execution_count": 26,
   "id": "be7637d4",
   "metadata": {
    "execution": {
     "iopub.execute_input": "2022-05-02T04:08:53.724919Z",
     "iopub.status.busy": "2022-05-02T04:08:53.724686Z",
     "iopub.status.idle": "2022-05-02T04:08:53.742811Z",
     "shell.execute_reply": "2022-05-02T04:08:53.741977Z"
    },
    "papermill": {
     "duration": 0.093987,
     "end_time": "2022-05-02T04:08:53.744759",
     "exception": false,
     "start_time": "2022-05-02T04:08:53.650772",
     "status": "completed"
    },
    "tags": []
   },
   "outputs": [
    {
     "data": {
      "text/html": [
       "<div>\n",
       "<style scoped>\n",
       "    .dataframe tbody tr th:only-of-type {\n",
       "        vertical-align: middle;\n",
       "    }\n",
       "\n",
       "    .dataframe tbody tr th {\n",
       "        vertical-align: top;\n",
       "    }\n",
       "\n",
       "    .dataframe thead th {\n",
       "        text-align: right;\n",
       "    }\n",
       "</style>\n",
       "<table border=\"1\" class=\"dataframe\">\n",
       "  <thead>\n",
       "    <tr style=\"text-align: right;\">\n",
       "      <th></th>\n",
       "      <th>id</th>\n",
       "      <th>f_00</th>\n",
       "      <th>f_01</th>\n",
       "      <th>f_02</th>\n",
       "      <th>f_03</th>\n",
       "      <th>f_04</th>\n",
       "      <th>f_05</th>\n",
       "      <th>...</th>\n",
       "      <th>ch_5</th>\n",
       "      <th>ch_6</th>\n",
       "      <th>ch_7</th>\n",
       "      <th>ch_8</th>\n",
       "      <th>ch_9</th>\n",
       "      <th>unique_characters</th>\n",
       "      <th>f_27_enc</th>\n",
       "    </tr>\n",
       "  </thead>\n",
       "  <tbody>\n",
       "    <tr>\n",
       "      <th>0</th>\n",
       "      <td>0</td>\n",
       "      <td>-1.37</td>\n",
       "      <td>0.24</td>\n",
       "      <td>-0.24</td>\n",
       "      <td>0.57</td>\n",
       "      <td>-0.65</td>\n",
       "      <td>0.84</td>\n",
       "      <td>...</td>\n",
       "      <td>0</td>\n",
       "      <td>3</td>\n",
       "      <td>1</td>\n",
       "      <td>0</td>\n",
       "      <td>1</td>\n",
       "      <td>3</td>\n",
       "      <td>58066</td>\n",
       "    </tr>\n",
       "    <tr>\n",
       "      <th>1</th>\n",
       "      <td>1</td>\n",
       "      <td>1.70</td>\n",
       "      <td>-1.71</td>\n",
       "      <td>-2.23</td>\n",
       "      <td>-0.55</td>\n",
       "      <td>1.11</td>\n",
       "      <td>-1.55</td>\n",
       "      <td>...</td>\n",
       "      <td>0</td>\n",
       "      <td>3</td>\n",
       "      <td>2</td>\n",
       "      <td>4</td>\n",
       "      <td>1</td>\n",
       "      <td>5</td>\n",
       "      <td>155009</td>\n",
       "    </tr>\n",
       "    <tr>\n",
       "      <th>2</th>\n",
       "      <td>2</td>\n",
       "      <td>1.68</td>\n",
       "      <td>0.62</td>\n",
       "      <td>-1.03</td>\n",
       "      <td>0.81</td>\n",
       "      <td>-0.61</td>\n",
       "      <td>0.11</td>\n",
       "      <td>...</td>\n",
       "      <td>1</td>\n",
       "      <td>2</td>\n",
       "      <td>10</td>\n",
       "      <td>0</td>\n",
       "      <td>3</td>\n",
       "      <td>6</td>\n",
       "      <td>15319</td>\n",
       "    </tr>\n",
       "    <tr>\n",
       "      <th>3</th>\n",
       "      <td>3</td>\n",
       "      <td>-0.12</td>\n",
       "      <td>-0.59</td>\n",
       "      <td>-0.80</td>\n",
       "      <td>2.09</td>\n",
       "      <td>0.37</td>\n",
       "      <td>-0.13</td>\n",
       "      <td>...</td>\n",
       "      <td>0</td>\n",
       "      <td>2</td>\n",
       "      <td>1</td>\n",
       "      <td>2</td>\n",
       "      <td>1</td>\n",
       "      <td>4</td>\n",
       "      <td>658667</td>\n",
       "    </tr>\n",
       "    <tr>\n",
       "      <th>4</th>\n",
       "      <td>4</td>\n",
       "      <td>1.15</td>\n",
       "      <td>-0.18</td>\n",
       "      <td>-0.66</td>\n",
       "      <td>-1.10</td>\n",
       "      <td>0.47</td>\n",
       "      <td>0.50</td>\n",
       "      <td>...</td>\n",
       "      <td>1</td>\n",
       "      <td>2</td>\n",
       "      <td>7</td>\n",
       "      <td>5</td>\n",
       "      <td>4</td>\n",
       "      <td>6</td>\n",
       "      <td>673894</td>\n",
       "    </tr>\n",
       "  </tbody>\n",
       "</table>\n",
       "<p>5 rows × 45 columns</p>\n",
       "</div>"
      ],
      "text/plain": [
       "   id  f_00  f_01  f_02  f_03  f_04  f_05  ...  ch_5  ch_6  ch_7  ch_8  ch_9  \\\n",
       "0   0 -1.37  0.24 -0.24  0.57 -0.65  0.84  ...     0     3     1     0     1   \n",
       "1   1  1.70 -1.71 -2.23 -0.55  1.11 -1.55  ...     0     3     2     4     1   \n",
       "2   2  1.68  0.62 -1.03  0.81 -0.61  0.11  ...     1     2    10     0     3   \n",
       "3   3 -0.12 -0.59 -0.80  2.09  0.37 -0.13  ...     0     2     1     2     1   \n",
       "4   4  1.15 -0.18 -0.66 -1.10  0.47  0.50  ...     1     2     7     5     4   \n",
       "\n",
       "   unique_characters  f_27_enc  \n",
       "0                  3     58066  \n",
       "1                  5    155009  \n",
       "2                  6     15319  \n",
       "3                  4    658667  \n",
       "4                  6    673894  \n",
       "\n",
       "[5 rows x 45 columns]"
      ]
     },
     "execution_count": 26,
     "metadata": {},
     "output_type": "execute_result"
    }
   ],
   "source": [
    "# Check the results of the transformation\n",
    "trn_data.head()"
   ]
  },
  {
   "cell_type": "markdown",
   "id": "2de5976f",
   "metadata": {
    "papermill": {
     "duration": 0.073143,
     "end_time": "2022-05-02T04:08:53.897369",
     "exception": false,
     "start_time": "2022-05-02T04:08:53.824226",
     "status": "completed"
    },
    "tags": []
   },
   "source": [
    "---"
   ]
  },
  {
   "cell_type": "markdown",
   "id": "c91740ac",
   "metadata": {
    "papermill": {
     "duration": 0.067588,
     "end_time": "2022-05-02T04:08:54.036079",
     "exception": false,
     "start_time": "2022-05-02T04:08:53.968491",
     "status": "completed"
    },
    "tags": []
   },
   "source": [
    "# 8. Feature Selection for Baseline Model"
   ]
  },
  {
   "cell_type": "code",
   "execution_count": 27,
   "id": "b54755a7",
   "metadata": {
    "execution": {
     "iopub.execute_input": "2022-05-02T04:08:54.174618Z",
     "iopub.status.busy": "2022-05-02T04:08:54.174058Z",
     "iopub.status.idle": "2022-05-02T04:08:54.179486Z",
     "shell.execute_reply": "2022-05-02T04:08:54.178805Z"
    },
    "papermill": {
     "duration": 0.07807,
     "end_time": "2022-05-02T04:08:54.181814",
     "exception": false,
     "start_time": "2022-05-02T04:08:54.103744",
     "status": "completed"
    },
    "tags": []
   },
   "outputs": [
    {
     "name": "stdout",
     "output_type": "stream",
     "text": [
      "CPU times: user 40 µs, sys: 0 ns, total: 40 µs\n",
      "Wall time: 44.8 µs\n"
     ]
    }
   ],
   "source": [
    "%%time\n",
    "# Define what will be used in the training stage\n",
    "ignore = ['id', 'target', 'f_27',  'f_27_enc'] # f_27 has been label encoded...\n",
    "\n",
    "features = [feat for feat in trn_data.columns if feat not in ignore]\n",
    "target_feature = 'target'"
   ]
  },
  {
   "cell_type": "markdown",
   "id": "b6114751",
   "metadata": {
    "papermill": {
     "duration": 0.067879,
     "end_time": "2022-05-02T04:08:54.318346",
     "exception": false,
     "start_time": "2022-05-02T04:08:54.250467",
     "status": "completed"
    },
    "tags": []
   },
   "source": [
    "---"
   ]
  },
  {
   "cell_type": "markdown",
   "id": "9d05a074",
   "metadata": {
    "papermill": {
     "duration": 0.069851,
     "end_time": "2022-05-02T04:08:54.456140",
     "exception": false,
     "start_time": "2022-05-02T04:08:54.386289",
     "status": "completed"
    },
    "tags": []
   },
   "source": [
    "# 9. Creating a Simple Train / Test Split Strategy"
   ]
  },
  {
   "cell_type": "code",
   "execution_count": 28,
   "id": "55168b21",
   "metadata": {
    "execution": {
     "iopub.execute_input": "2022-05-02T04:08:54.597957Z",
     "iopub.status.busy": "2022-05-02T04:08:54.597291Z",
     "iopub.status.idle": "2022-05-02T04:08:55.254026Z",
     "shell.execute_reply": "2022-05-02T04:08:55.253032Z"
    },
    "papermill": {
     "duration": 0.730173,
     "end_time": "2022-05-02T04:08:55.256486",
     "exception": false,
     "start_time": "2022-05-02T04:08:54.526313",
     "status": "completed"
    },
    "tags": []
   },
   "outputs": [
    {
     "name": "stdout",
     "output_type": "stream",
     "text": [
      "CPU times: user 452 ms, sys: 166 ms, total: 618 ms\n",
      "Wall time: 650 ms\n"
     ]
    }
   ],
   "source": [
    "%%time\n",
    "# Creates a simple train split breakdown for baseline model\n",
    "from sklearn.model_selection import train_test_split\n",
    "test_size_pct = 0.20\n",
    "X_train, X_valid, y_train, y_valid = train_test_split(trn_data[features], trn_data[target_feature], test_size = test_size_pct, random_state = 42)"
   ]
  },
  {
   "cell_type": "markdown",
   "id": "d4a000f0",
   "metadata": {
    "papermill": {
     "duration": 0.084633,
     "end_time": "2022-05-02T04:08:55.423702",
     "exception": false,
     "start_time": "2022-05-02T04:08:55.339069",
     "status": "completed"
    },
    "tags": []
   },
   "source": [
    "---"
   ]
  },
  {
   "cell_type": "markdown",
   "id": "951a01e2",
   "metadata": {
    "papermill": {
     "duration": 0.07511,
     "end_time": "2022-05-02T04:08:55.572256",
     "exception": false,
     "start_time": "2022-05-02T04:08:55.497146",
     "status": "completed"
    },
    "tags": []
   },
   "source": [
    "# 10. Building a Baseline GBT Model, Simple Split"
   ]
  },
  {
   "cell_type": "markdown",
   "id": "b89caddd",
   "metadata": {
    "papermill": {
     "duration": 0.072361,
     "end_time": "2022-05-02T04:08:55.717932",
     "exception": false,
     "start_time": "2022-05-02T04:08:55.645571",
     "status": "completed"
    },
    "tags": []
   },
   "source": [
    "## 10.1 XGBoost Model"
   ]
  },
  {
   "cell_type": "code",
   "execution_count": 29,
   "id": "ada5341a",
   "metadata": {
    "execution": {
     "iopub.execute_input": "2022-05-02T04:08:55.865428Z",
     "iopub.status.busy": "2022-05-02T04:08:55.865147Z",
     "iopub.status.idle": "2022-05-02T04:08:55.892987Z",
     "shell.execute_reply": "2022-05-02T04:08:55.891649Z"
    },
    "papermill": {
     "duration": 0.103197,
     "end_time": "2022-05-02T04:08:55.894857",
     "exception": false,
     "start_time": "2022-05-02T04:08:55.791660",
     "status": "completed"
    },
    "tags": []
   },
   "outputs": [
    {
     "name": "stdout",
     "output_type": "stream",
     "text": [
      "CPU times: user 2.85 ms, sys: 8.08 ms, total: 10.9 ms\n",
      "Wall time: 22.2 ms\n"
     ]
    }
   ],
   "source": [
    "%%time\n",
    "%%script false --no-raise-error\n",
    "# Import the model libraries\n",
    "from xgboost  import XGBClassifier"
   ]
  },
  {
   "cell_type": "code",
   "execution_count": 30,
   "id": "79858df2",
   "metadata": {
    "execution": {
     "iopub.execute_input": "2022-05-02T04:08:56.039424Z",
     "iopub.status.busy": "2022-05-02T04:08:56.038879Z",
     "iopub.status.idle": "2022-05-02T04:08:56.063418Z",
     "shell.execute_reply": "2022-05-02T04:08:56.062487Z"
    },
    "papermill": {
     "duration": 0.100384,
     "end_time": "2022-05-02T04:08:56.065732",
     "exception": false,
     "start_time": "2022-05-02T04:08:55.965348",
     "status": "completed"
    },
    "tags": []
   },
   "outputs": [
    {
     "name": "stdout",
     "output_type": "stream",
     "text": [
      "CPU times: user 2.41 ms, sys: 8.01 ms, total: 10.4 ms\n",
      "Wall time: 16.8 ms\n"
     ]
    }
   ],
   "source": [
    "%%time\n",
    "%%script false --no-raise-error\n",
    "# Define the model parameters to get started we use default values to a certain degree\n",
    "xgb_params = {'n_estimators'     : 8192,\n",
    "              'min_child_weight' : 96,\n",
    "              #'max_depth'        : 6,\n",
    "              #'learning_rate'    : 0.15,\n",
    "              #'subsample'        : 0.95,\n",
    "              #'colsample_bytree' : 0.95,\n",
    "              #'reg_lambda'       : 1.50,\n",
    "              #'reg_alpha'        : 1.50,\n",
    "              #'gamma'            : 1.50,\n",
    "              'max_bin'          : 512,\n",
    "              'random_state'     : 46,\n",
    "              'objective'        : 'binary:logistic',\n",
    "              'tree_method'      : 'gpu_hist',\n",
    "             }"
   ]
  },
  {
   "cell_type": "code",
   "execution_count": 31,
   "id": "08532eb5",
   "metadata": {
    "execution": {
     "iopub.execute_input": "2022-05-02T04:08:56.210749Z",
     "iopub.status.busy": "2022-05-02T04:08:56.210043Z",
     "iopub.status.idle": "2022-05-02T04:08:56.231930Z",
     "shell.execute_reply": "2022-05-02T04:08:56.231007Z"
    },
    "papermill": {
     "duration": 0.096478,
     "end_time": "2022-05-02T04:08:56.234327",
     "exception": false,
     "start_time": "2022-05-02T04:08:56.137849",
     "status": "completed"
    },
    "tags": []
   },
   "outputs": [
    {
     "name": "stdout",
     "output_type": "stream",
     "text": [
      "CPU times: user 1.06 ms, sys: 7.89 ms, total: 8.95 ms\n",
      "Wall time: 15.3 ms\n"
     ]
    }
   ],
   "source": [
    "%%time\n",
    "%%script false --no-raise-error\n",
    "# Instanciate the XGBoost model using the previous parameters\n",
    "xgb = XGBClassifier(**xgb_params)\n",
    "xgb.fit(X_train, y_train, eval_set = [(X_valid, y_valid)], eval_metric = ['auc'], early_stopping_rounds = 256, verbose = 250)"
   ]
  },
  {
   "cell_type": "code",
   "execution_count": 32,
   "id": "4eb4cb19",
   "metadata": {
    "execution": {
     "iopub.execute_input": "2022-05-02T04:08:56.377926Z",
     "iopub.status.busy": "2022-05-02T04:08:56.377687Z",
     "iopub.status.idle": "2022-05-02T04:08:56.399021Z",
     "shell.execute_reply": "2022-05-02T04:08:56.397984Z"
    },
    "papermill": {
     "duration": 0.095597,
     "end_time": "2022-05-02T04:08:56.401260",
     "exception": false,
     "start_time": "2022-05-02T04:08:56.305663",
     "status": "completed"
    },
    "tags": []
   },
   "outputs": [
    {
     "name": "stdout",
     "output_type": "stream",
     "text": [
      "CPU times: user 2 ms, sys: 7.99 ms, total: 10 ms\n",
      "Wall time: 15.9 ms\n"
     ]
    }
   ],
   "source": [
    "%%time\n",
    "%%script false --no-raise-error\n",
    "# Check the model performance in the validation dataset\n",
    "from sklearn.metrics import roc_auc_score\n",
    "val_preds = xgb.predict_proba(X_valid[features])[:, 1]\n",
    "roc_auc_score(y_valid, val_preds)"
   ]
  },
  {
   "cell_type": "code",
   "execution_count": 33,
   "id": "abcedac4",
   "metadata": {
    "execution": {
     "iopub.execute_input": "2022-05-02T04:08:56.542564Z",
     "iopub.status.busy": "2022-05-02T04:08:56.542334Z",
     "iopub.status.idle": "2022-05-02T04:08:56.545700Z",
     "shell.execute_reply": "2022-05-02T04:08:56.545042Z"
    },
    "papermill": {
     "duration": 0.075545,
     "end_time": "2022-05-02T04:08:56.547375",
     "exception": false,
     "start_time": "2022-05-02T04:08:56.471830",
     "status": "completed"
    },
    "tags": []
   },
   "outputs": [],
   "source": [
    "# Record some of the model results for future improvement\n",
    "# Local Score = 0.9454953628406088 First Model Run >>> LB Score = 0.93147\n",
    "# Local Score = 0.9448767329168479 First Model Run >>> LB Score = 0.93205\n",
    "\n",
    "# 0.9816418086418166"
   ]
  },
  {
   "cell_type": "markdown",
   "id": "8fc6ba3e",
   "metadata": {
    "papermill": {
     "duration": 0.069561,
     "end_time": "2022-05-02T04:08:56.686859",
     "exception": false,
     "start_time": "2022-05-02T04:08:56.617298",
     "status": "completed"
    },
    "tags": []
   },
   "source": [
    "---"
   ]
  },
  {
   "cell_type": "markdown",
   "id": "18d119ee",
   "metadata": {
    "papermill": {
     "duration": 0.068953,
     "end_time": "2022-05-02T04:08:56.825221",
     "exception": false,
     "start_time": "2022-05-02T04:08:56.756268",
     "status": "completed"
    },
    "tags": []
   },
   "source": [
    "## 10.2 LGMB Model"
   ]
  },
  {
   "cell_type": "code",
   "execution_count": 34,
   "id": "744d654e",
   "metadata": {
    "execution": {
     "iopub.execute_input": "2022-05-02T04:08:56.966296Z",
     "iopub.status.busy": "2022-05-02T04:08:56.966024Z",
     "iopub.status.idle": "2022-05-02T04:08:56.987885Z",
     "shell.execute_reply": "2022-05-02T04:08:56.986812Z"
    },
    "papermill": {
     "duration": 0.095019,
     "end_time": "2022-05-02T04:08:56.990129",
     "exception": false,
     "start_time": "2022-05-02T04:08:56.895110",
     "status": "completed"
    },
    "tags": []
   },
   "outputs": [
    {
     "name": "stdout",
     "output_type": "stream",
     "text": [
      "CPU times: user 1.32 ms, sys: 8.96 ms, total: 10.3 ms\n",
      "Wall time: 16.4 ms\n"
     ]
    }
   ],
   "source": [
    "%%time\n",
    "%%script false --no-raise-error\n",
    "# Import the model libraries\n",
    "from lightgbm import LGBMClassifier"
   ]
  },
  {
   "cell_type": "code",
   "execution_count": 35,
   "id": "1464c56e",
   "metadata": {
    "execution": {
     "iopub.execute_input": "2022-05-02T04:08:57.132023Z",
     "iopub.status.busy": "2022-05-02T04:08:57.131350Z",
     "iopub.status.idle": "2022-05-02T04:08:57.154135Z",
     "shell.execute_reply": "2022-05-02T04:08:57.153091Z"
    },
    "papermill": {
     "duration": 0.09591,
     "end_time": "2022-05-02T04:08:57.156139",
     "exception": false,
     "start_time": "2022-05-02T04:08:57.060229",
     "status": "completed"
    },
    "tags": []
   },
   "outputs": [
    {
     "name": "stdout",
     "output_type": "stream",
     "text": [
      "CPU times: user 2.97 ms, sys: 9.1 ms, total: 12.1 ms\n",
      "Wall time: 16.7 ms\n"
     ]
    }
   ],
   "source": [
    "%%time\n",
    "%%script false --no-raise-error\n",
    "# Define the model parameters to get started we use default values to a certain degree\n",
    "lgb_params = {'n_estimators'      : 8192,\n",
    "              'min_child_samples' : 96,\n",
    "              'max_bins'          : 512,\n",
    "              'random_state'      : 46,\n",
    "             }"
   ]
  },
  {
   "cell_type": "code",
   "execution_count": 36,
   "id": "a358858f",
   "metadata": {
    "execution": {
     "iopub.execute_input": "2022-05-02T04:08:57.298546Z",
     "iopub.status.busy": "2022-05-02T04:08:57.298322Z",
     "iopub.status.idle": "2022-05-02T04:08:57.319857Z",
     "shell.execute_reply": "2022-05-02T04:08:57.318534Z"
    },
    "papermill": {
     "duration": 0.094839,
     "end_time": "2022-05-02T04:08:57.322234",
     "exception": false,
     "start_time": "2022-05-02T04:08:57.227395",
     "status": "completed"
    },
    "tags": []
   },
   "outputs": [
    {
     "name": "stdout",
     "output_type": "stream",
     "text": [
      "CPU times: user 0 ns, sys: 10.8 ms, total: 10.8 ms\n",
      "Wall time: 15.9 ms\n"
     ]
    }
   ],
   "source": [
    "%%time\n",
    "%%script false --no-raise-error\n",
    "# Instanciate the XGBoost model using the previous parameters\n",
    "lgb = LGBMClassifier(**lgb_params)\n",
    "lgb.fit(X_train, y_train, eval_set = [(X_valid, y_valid)], eval_metric = ['auc'], early_stopping_rounds = 256, verbose = 250)"
   ]
  },
  {
   "cell_type": "code",
   "execution_count": 37,
   "id": "afa87263",
   "metadata": {
    "execution": {
     "iopub.execute_input": "2022-05-02T04:08:57.465889Z",
     "iopub.status.busy": "2022-05-02T04:08:57.465198Z",
     "iopub.status.idle": "2022-05-02T04:08:57.488378Z",
     "shell.execute_reply": "2022-05-02T04:08:57.487070Z"
    },
    "papermill": {
     "duration": 0.097332,
     "end_time": "2022-05-02T04:08:57.490621",
     "exception": false,
     "start_time": "2022-05-02T04:08:57.393289",
     "status": "completed"
    },
    "tags": []
   },
   "outputs": [
    {
     "name": "stdout",
     "output_type": "stream",
     "text": [
      "CPU times: user 3.87 ms, sys: 8.09 ms, total: 12 ms\n",
      "Wall time: 16.9 ms\n"
     ]
    }
   ],
   "source": [
    "%%time\n",
    "%%script false --no-raise-error\n",
    "# Check the model performance in the validation dataset\n",
    "from sklearn.metrics import roc_auc_score\n",
    "val_preds = lgb.predict_proba(X_valid[features])[:, 1]\n",
    "roc_auc_score(y_valid, val_preds)"
   ]
  },
  {
   "cell_type": "markdown",
   "id": "7b1aa596",
   "metadata": {
    "papermill": {
     "duration": 0.074056,
     "end_time": "2022-05-02T04:08:57.639565",
     "exception": false,
     "start_time": "2022-05-02T04:08:57.565509",
     "status": "completed"
    },
    "tags": []
   },
   "source": [
    "---"
   ]
  },
  {
   "cell_type": "markdown",
   "id": "08be035c",
   "metadata": {
    "papermill": {
     "duration": 0.073651,
     "end_time": "2022-05-02T04:08:57.786679",
     "exception": false,
     "start_time": "2022-05-02T04:08:57.713028",
     "status": "completed"
    },
    "tags": []
   },
   "source": [
    "# 11. Building a Baseline GBT Model, Kfold Loop"
   ]
  },
  {
   "cell_type": "code",
   "execution_count": 38,
   "id": "b47ba4a4",
   "metadata": {
    "execution": {
     "iopub.execute_input": "2022-05-02T04:08:57.933437Z",
     "iopub.status.busy": "2022-05-02T04:08:57.933159Z",
     "iopub.status.idle": "2022-05-02T04:09:00.148670Z",
     "shell.execute_reply": "2022-05-02T04:09:00.147887Z"
    },
    "papermill": {
     "duration": 2.291221,
     "end_time": "2022-05-02T04:09:00.151188",
     "exception": false,
     "start_time": "2022-05-02T04:08:57.859967",
     "status": "completed"
    },
    "tags": []
   },
   "outputs": [
    {
     "data": {
      "text/html": [
       "<style type='text/css'>\n",
       ".datatable table.frame { margin-bottom: 0; }\n",
       ".datatable table.frame thead { border-bottom: none; }\n",
       ".datatable table.frame tr.coltypes td {  color: #FFFFFF;  line-height: 6px;  padding: 0 0.5em;}\n",
       ".datatable .bool    { background: #DDDD99; }\n",
       ".datatable .object  { background: #565656; }\n",
       ".datatable .int     { background: #5D9E5D; }\n",
       ".datatable .float   { background: #4040CC; }\n",
       ".datatable .str     { background: #CC4040; }\n",
       ".datatable .time    { background: #40CC40; }\n",
       ".datatable .row_index {  background: var(--jp-border-color3);  border-right: 1px solid var(--jp-border-color0);  color: var(--jp-ui-font-color3);  font-size: 9px;}\n",
       ".datatable .frame tbody td { text-align: left; }\n",
       ".datatable .frame tr.coltypes .row_index {  background: var(--jp-border-color0);}\n",
       ".datatable th:nth-child(2) { padding-left: 12px; }\n",
       ".datatable .hellipsis {  color: var(--jp-cell-editor-border-color);}\n",
       ".datatable .vellipsis {  background: var(--jp-layout-color0);  color: var(--jp-cell-editor-border-color);}\n",
       ".datatable .na {  color: var(--jp-cell-editor-border-color);  font-size: 80%;}\n",
       ".datatable .sp {  opacity: 0.25;}\n",
       ".datatable .footer { font-size: 9px; }\n",
       ".datatable .frame_dimensions {  background: var(--jp-border-color3);  border-top: 1px solid var(--jp-border-color0);  color: var(--jp-ui-font-color3);  display: inline-block;  opacity: 0.6;  padding: 1px 10px 1px 5px;}\n",
       "</style>\n"
      ],
      "text/plain": [
       "<IPython.core.display.HTML object>"
      ]
     },
     "metadata": {},
     "output_type": "display_data"
    },
    {
     "name": "stdout",
     "output_type": "stream",
     "text": [
      "CPU times: user 1.03 s, sys: 175 ms, total: 1.2 s\n",
      "Wall time: 2.21 s\n"
     ]
    }
   ],
   "source": [
    "%%time\n",
    "from lightgbm import LGBMClassifier\n",
    "from xgboost  import XGBClassifier\n",
    "from sklearn.model_selection import KFold\n",
    "from sklearn.metrics import roc_auc_score, roc_curve\n",
    "import math"
   ]
  },
  {
   "cell_type": "code",
   "execution_count": 39,
   "id": "f4f4d3e1",
   "metadata": {
    "execution": {
     "iopub.execute_input": "2022-05-02T04:09:00.297335Z",
     "iopub.status.busy": "2022-05-02T04:09:00.296758Z",
     "iopub.status.idle": "2022-05-02T04:09:00.302480Z",
     "shell.execute_reply": "2022-05-02T04:09:00.301810Z"
    },
    "papermill": {
     "duration": 0.080272,
     "end_time": "2022-05-02T04:09:00.304685",
     "exception": false,
     "start_time": "2022-05-02T04:09:00.224413",
     "status": "completed"
    },
    "tags": []
   },
   "outputs": [
    {
     "name": "stdout",
     "output_type": "stream",
     "text": [
      "CPU times: user 4 µs, sys: 0 ns, total: 4 µs\n",
      "Wall time: 8.11 µs\n"
     ]
    }
   ],
   "source": [
    "%%time\n",
    "# Define the model parameters to get started we use default values to a certain degree\n",
    "lgb_params = {'n_estimators'      : 8192, # Was 8192...\n",
    "              'min_child_samples' : 96,\n",
    "              'max_bins'          : 512,\n",
    "              'random_state'      : 46,\n",
    "             }\n",
    "\n",
    "xgb_params = {'n_estimators'     : 8192,\n",
    "              'min_child_weight' : 96,\n",
    "              'max_depth'        : 6,\n",
    "              'learning_rate'    : 0.15,\n",
    "              'subsample'        : 0.95,\n",
    "              'colsample_bytree' : 0.95,\n",
    "              'reg_lambda'       : 1.50,\n",
    "              'reg_alpha'        : 1.50,\n",
    "              'gamma'            : 1.50,\n",
    "              'max_bin'          : 512,\n",
    "              'random_state'     : 46,\n",
    "              'objective'        : 'binary:logistic',\n",
    "              'tree_method'      : 'gpu_hist',\n",
    "             }"
   ]
  },
  {
   "cell_type": "code",
   "execution_count": 40,
   "id": "ee3e1768",
   "metadata": {
    "execution": {
     "iopub.execute_input": "2022-05-02T04:09:00.450973Z",
     "iopub.status.busy": "2022-05-02T04:09:00.450380Z",
     "iopub.status.idle": "2022-05-02T04:12:38.663178Z",
     "shell.execute_reply": "2022-05-02T04:12:38.662236Z"
    },
    "papermill": {
     "duration": 218.288231,
     "end_time": "2022-05-02T04:12:38.666169",
     "exception": false,
     "start_time": "2022-05-02T04:09:00.377938",
     "status": "completed"
    },
    "tags": []
   },
   "outputs": [
    {
     "name": "stdout",
     "output_type": "stream",
     "text": [
      "Training Fold 0 ...\n",
      "Fold 0, AUC = 0.983\n",
      "\n",
      "Training Fold 1 ...\n",
      "Fold 1, AUC = 0.984\n",
      "\n",
      "Training Fold 2 ...\n",
      "Fold 2, AUC = 0.983\n",
      "\n",
      "Training Fold 3 ...\n",
      "Fold 3, AUC = 0.984\n",
      "\n",
      "Training Fold 4 ...\n",
      "Fold 4, AUC = 0.983\n",
      "\n",
      "OOF AUC: 0.983\n",
      ".........\n",
      "CPU times: user 5min 3s, sys: 3.23 s, total: 5min 7s\n",
      "Wall time: 3min 38s\n"
     ]
    }
   ],
   "source": [
    "%%time\n",
    "# Create empty lists to store NN information...\n",
    "\n",
    "score_list   = []\n",
    "predictions  = [] \n",
    "# Define kfolds for training purposes...\n",
    "kf = KFold(n_splits = 5)\n",
    "\n",
    "for fold, (trn_idx, val_idx) in enumerate(kf.split(trn_data)):\n",
    "    print(f'Training Fold {fold} ...')\n",
    "    X_train, X_valid = trn_data.iloc[trn_idx][features], trn_data.iloc[val_idx][features]\n",
    "    y_train, y_valid = trn_data.iloc[trn_idx][target_feature], trn_data.iloc[val_idx][target_feature]\n",
    "    \n",
    "    # LGBM (Uncomment to use, and Comment the XGBoost Part... LGBM Takes forever)\n",
    "    # model = LGBMClassifier(**lgb_params)\n",
    "    # model.fit(X_train, y_train, eval_set = [(X_valid, y_valid)], eval_metric = ['auc'], early_stopping_rounds = 256, verbose = 0)\n",
    "    \n",
    "    # XGBoost\n",
    "    model = XGBClassifier(**xgb_params)\n",
    "    model.fit(X_train, y_train, eval_set = [(X_valid, y_valid)], eval_metric = ['auc'], early_stopping_rounds = 256, verbose = 0)\n",
    "    \n",
    "    y_valid_pred = model.predict_proba(X_valid.values)[:,1]\n",
    "    score = roc_auc_score(y_valid, y_valid_pred)\n",
    "\n",
    "    score_list.append(score)\n",
    "    print(f\"Fold {fold}, AUC = {score:.3f}\")\n",
    "    print((''))\n",
    "    \n",
    "    tst_pred = model.predict_proba(tst_data[features].values)[:,1]\n",
    "    predictions.append(tst_pred)\n",
    "\n",
    "print(f'OOF AUC: {np.mean(score_list):.3f}')\n",
    "print('.........')"
   ]
  },
  {
   "cell_type": "markdown",
   "id": "3cb6b8bd",
   "metadata": {
    "papermill": {
     "duration": 0.075055,
     "end_time": "2022-05-02T04:12:38.818344",
     "exception": false,
     "start_time": "2022-05-02T04:12:38.743289",
     "status": "completed"
    },
    "tags": []
   },
   "source": [
    "# 11. Undertanding Model Behavior, Feature Importance"
   ]
  },
  {
   "cell_type": "code",
   "execution_count": 41,
   "id": "e96e036a",
   "metadata": {
    "execution": {
     "iopub.execute_input": "2022-05-02T04:12:38.969424Z",
     "iopub.status.busy": "2022-05-02T04:12:38.969173Z",
     "iopub.status.idle": "2022-05-02T04:12:38.976697Z",
     "shell.execute_reply": "2022-05-02T04:12:38.975950Z"
    },
    "papermill": {
     "duration": 0.085526,
     "end_time": "2022-05-02T04:12:38.978596",
     "exception": false,
     "start_time": "2022-05-02T04:12:38.893070",
     "status": "completed"
    },
    "tags": []
   },
   "outputs": [
    {
     "name": "stdout",
     "output_type": "stream",
     "text": [
      "CPU times: user 0 ns, sys: 4 µs, total: 4 µs\n",
      "Wall time: 7.15 µs\n"
     ]
    }
   ],
   "source": [
    "%%time\n",
    "# Define a funtion to plot the feature importance properly\n",
    "def plot_feature_importance(importance, names, model_type, max_features = 10):\n",
    "    #Create arrays from feature importance and feature names\n",
    "    feature_importance = np.array(importance)\n",
    "    feature_names = np.array(names)\n",
    "\n",
    "    #Create a DataFrame using a Dictionary\n",
    "    data={'feature_names':feature_names,'feature_importance':feature_importance}\n",
    "    fi_df = pd.DataFrame(data)\n",
    "\n",
    "    #Sort the DataFrame in order decreasing feature importance\n",
    "    fi_df.sort_values(by=['feature_importance'], ascending=False,inplace=True)\n",
    "    fi_df = fi_df.head(max_features)\n",
    "\n",
    "    #Define size of bar plot\n",
    "    plt.figure(figsize=(8,6))\n",
    "    \n",
    "    #Plot Searborn bar chart\n",
    "    sns.barplot(x=fi_df['feature_importance'], y=fi_df['feature_names'])\n",
    "    #Add chart labels\n",
    "    plt.title(model_type + 'FEATURE IMPORTANCE')\n",
    "    plt.xlabel('FEATURE IMPORTANCE')\n",
    "    plt.ylabel('FEATURE NAMES')"
   ]
  },
  {
   "cell_type": "code",
   "execution_count": 42,
   "id": "caa49324",
   "metadata": {
    "execution": {
     "iopub.execute_input": "2022-05-02T04:12:39.130775Z",
     "iopub.status.busy": "2022-05-02T04:12:39.130056Z",
     "iopub.status.idle": "2022-05-02T04:12:39.601432Z",
     "shell.execute_reply": "2022-05-02T04:12:39.600720Z"
    },
    "papermill": {
     "duration": 0.549223,
     "end_time": "2022-05-02T04:12:39.603339",
     "exception": false,
     "start_time": "2022-05-02T04:12:39.054116",
     "status": "completed"
    },
    "tags": []
   },
   "outputs": [
    {
     "name": "stdout",
     "output_type": "stream",
     "text": [
      "CPU times: user 111 ms, sys: 10.9 ms, total: 122 ms\n",
      "Wall time: 154 ms\n"
     ]
    },
    {
     "data": {
      "image/png": "[encoded data removed]",
      "text/plain": [
       "<Figure size 576x432 with 1 Axes>"
      ]
     },
     "metadata": {
      "needs_background": "light"
     },
     "output_type": "display_data"
    }
   ],
   "source": [
    "%%time\n",
    "# Utilize the feature importance function to visualize the most valueable features\n",
    "import seaborn as sns\n",
    "import matplotlib.pyplot as plt\n",
    "plot_feature_importance(model.feature_importances_,X_train.columns,'LGBM ', max_features = 25)"
   ]
  },
  {
   "cell_type": "markdown",
   "id": "9a9afa0a",
   "metadata": {
    "papermill": {
     "duration": 0.083795,
     "end_time": "2022-05-02T04:12:39.771232",
     "exception": false,
     "start_time": "2022-05-02T04:12:39.687437",
     "status": "completed"
    },
    "tags": []
   },
   "source": [
    "---"
   ]
  },
  {
   "cell_type": "markdown",
   "id": "5f813ee1",
   "metadata": {
    "papermill": {
     "duration": 0.083549,
     "end_time": "2022-05-02T04:12:39.938911",
     "exception": false,
     "start_time": "2022-05-02T04:12:39.855362",
     "status": "completed"
    },
    "tags": []
   },
   "source": [
    "# 12. Baseline Model Submission File Generation"
   ]
  },
  {
   "cell_type": "code",
   "execution_count": 43,
   "id": "32ced0b0",
   "metadata": {
    "execution": {
     "iopub.execute_input": "2022-05-02T04:12:40.096164Z",
     "iopub.status.busy": "2022-05-02T04:12:40.095917Z",
     "iopub.status.idle": "2022-05-02T04:12:40.106881Z",
     "shell.execute_reply": "2022-05-02T04:12:40.105235Z"
    },
    "papermill": {
     "duration": 0.092061,
     "end_time": "2022-05-02T04:12:40.109269",
     "exception": false,
     "start_time": "2022-05-02T04:12:40.017208",
     "status": "completed"
    },
    "tags": []
   },
   "outputs": [
    {
     "name": "stdout",
     "output_type": "stream",
     "text": [
      "CPU times: user 130 µs, sys: 2 µs, total: 132 µs\n",
      "Wall time: 135 µs\n"
     ]
    },
    {
     "data": {
      "text/html": [
       "<div>\n",
       "<style scoped>\n",
       "    .dataframe tbody tr th:only-of-type {\n",
       "        vertical-align: middle;\n",
       "    }\n",
       "\n",
       "    .dataframe tbody tr th {\n",
       "        vertical-align: top;\n",
       "    }\n",
       "\n",
       "    .dataframe thead th {\n",
       "        text-align: right;\n",
       "    }\n",
       "</style>\n",
       "<table border=\"1\" class=\"dataframe\">\n",
       "  <thead>\n",
       "    <tr style=\"text-align: right;\">\n",
       "      <th></th>\n",
       "      <th>id</th>\n",
       "      <th>target</th>\n",
       "    </tr>\n",
       "  </thead>\n",
       "  <tbody>\n",
       "    <tr>\n",
       "      <th>0</th>\n",
       "      <td>900000</td>\n",
       "      <td>0.50</td>\n",
       "    </tr>\n",
       "    <tr>\n",
       "      <th>1</th>\n",
       "      <td>900001</td>\n",
       "      <td>0.50</td>\n",
       "    </tr>\n",
       "    <tr>\n",
       "      <th>2</th>\n",
       "      <td>900002</td>\n",
       "      <td>0.50</td>\n",
       "    </tr>\n",
       "    <tr>\n",
       "      <th>3</th>\n",
       "      <td>900003</td>\n",
       "      <td>0.50</td>\n",
       "    </tr>\n",
       "    <tr>\n",
       "      <th>4</th>\n",
       "      <td>900004</td>\n",
       "      <td>0.50</td>\n",
       "    </tr>\n",
       "  </tbody>\n",
       "</table>\n",
       "</div>"
      ],
      "text/plain": [
       "       id  target\n",
       "0  900000    0.50\n",
       "1  900001    0.50\n",
       "2  900002    0.50\n",
       "3  900003    0.50\n",
       "4  900004    0.50"
      ]
     },
     "execution_count": 43,
     "metadata": {},
     "output_type": "execute_result"
    }
   ],
   "source": [
    "%%time\n",
    "# Review the format of the submission file\n",
    "sub.head()"
   ]
  },
  {
   "cell_type": "code",
   "execution_count": 44,
   "id": "b7090571",
   "metadata": {
    "execution": {
     "iopub.execute_input": "2022-05-02T04:12:40.273216Z",
     "iopub.status.busy": "2022-05-02T04:12:40.273006Z",
     "iopub.status.idle": "2022-05-02T04:12:41.900187Z",
     "shell.execute_reply": "2022-05-02T04:12:41.899187Z"
    },
    "papermill": {
     "duration": 1.709679,
     "end_time": "2022-05-02T04:12:41.902679",
     "exception": false,
     "start_time": "2022-05-02T04:12:40.193000",
     "status": "completed"
    },
    "tags": []
   },
   "outputs": [
    {
     "name": "stdout",
     "output_type": "stream",
     "text": [
      "CPU times: user 1.58 s, sys: 38 ms, total: 1.62 s\n",
      "Wall time: 1.62 s\n"
     ]
    }
   ],
   "source": [
    "%%time\n",
    "# Populated the prediction on the submission dataset and creates an output file\n",
    "sub['target'] = np.array(predictions).mean(axis=0)\n",
    "sub.to_csv('my_submission_043022.csv', index = False)"
   ]
  },
  {
   "cell_type": "code",
   "execution_count": 45,
   "id": "0cdfefdf",
   "metadata": {
    "execution": {
     "iopub.execute_input": "2022-05-02T04:12:42.060786Z",
     "iopub.status.busy": "2022-05-02T04:12:42.060575Z",
     "iopub.status.idle": "2022-05-02T04:12:42.070658Z",
     "shell.execute_reply": "2022-05-02T04:12:42.069155Z"
    },
    "papermill": {
     "duration": 0.090949,
     "end_time": "2022-05-02T04:12:42.072926",
     "exception": false,
     "start_time": "2022-05-02T04:12:41.981977",
     "status": "completed"
    },
    "tags": []
   },
   "outputs": [
    {
     "name": "stdout",
     "output_type": "stream",
     "text": [
      "CPU times: user 73 µs, sys: 2 µs, total: 75 µs\n",
      "Wall time: 78 µs\n"
     ]
    },
    {
     "data": {
      "text/html": [
       "<div>\n",
       "<style scoped>\n",
       "    .dataframe tbody tr th:only-of-type {\n",
       "        vertical-align: middle;\n",
       "    }\n",
       "\n",
       "    .dataframe tbody tr th {\n",
       "        vertical-align: top;\n",
       "    }\n",
       "\n",
       "    .dataframe thead th {\n",
       "        text-align: right;\n",
       "    }\n",
       "</style>\n",
       "<table border=\"1\" class=\"dataframe\">\n",
       "  <thead>\n",
       "    <tr style=\"text-align: right;\">\n",
       "      <th></th>\n",
       "      <th>id</th>\n",
       "      <th>target</th>\n",
       "    </tr>\n",
       "  </thead>\n",
       "  <tbody>\n",
       "    <tr>\n",
       "      <th>0</th>\n",
       "      <td>900000</td>\n",
       "      <td>0.97</td>\n",
       "    </tr>\n",
       "    <tr>\n",
       "      <th>1</th>\n",
       "      <td>900001</td>\n",
       "      <td>0.99</td>\n",
       "    </tr>\n",
       "    <tr>\n",
       "      <th>2</th>\n",
       "      <td>900002</td>\n",
       "      <td>0.00</td>\n",
       "    </tr>\n",
       "    <tr>\n",
       "      <th>3</th>\n",
       "      <td>900003</td>\n",
       "      <td>0.05</td>\n",
       "    </tr>\n",
       "    <tr>\n",
       "      <th>4</th>\n",
       "      <td>900004</td>\n",
       "      <td>0.99</td>\n",
       "    </tr>\n",
       "  </tbody>\n",
       "</table>\n",
       "</div>"
      ],
      "text/plain": [
       "       id  target\n",
       "0  900000    0.97\n",
       "1  900001    0.99\n",
       "2  900002    0.00\n",
       "3  900003    0.05\n",
       "4  900004    0.99"
      ]
     },
     "execution_count": 45,
     "metadata": {},
     "output_type": "execute_result"
    }
   ],
   "source": [
    "%%time\n",
    "# Review the submission file as a final step to upload to Kaggle.\n",
    "sub.head()"
   ]
  },
  {
   "cell_type": "markdown",
   "id": "08318cbe",
   "metadata": {
    "papermill": {
     "duration": 0.077648,
     "end_time": "2022-05-02T04:12:42.229062",
     "exception": false,
     "start_time": "2022-05-02T04:12:42.151414",
     "status": "completed"
    },
    "tags": []
   },
   "source": [
    "---"
   ]
  },
  {
   "cell_type": "code",
   "execution_count": null,
   "id": "c5021e7e",
   "metadata": {
    "papermill": {
     "duration": 0.155442,
     "end_time": "2022-05-02T04:12:42.463925",
     "exception": false,
     "start_time": "2022-05-02T04:12:42.308483",
     "status": "completed"
    },
    "tags": []
   },
   "outputs": [],
   "source": []
  }
 ],
 "metadata": {
  "kernelspec": {
   "display_name": "Python 3",
   "language": "python",
   "name": "python3"
  },
  "language_info": {
   "codemirror_mode": {
    "name": "ipython",
    "version": 3
   },
   "file_extension": ".py",
   "mimetype": "text/x-python",
   "name": "python",
   "nbconvert_exporter": "python",
   "pygments_lexer": "ipython3",
   "version": "3.7.12"
  },
  "papermill": {
   "default_parameters": {},
   "duration": 287.416088,
   "end_time": "2022-05-02T04:12:44.020880",
   "environment_variables": {},
   "exception": null,
   "input_path": "__notebook__.ipynb",
   "output_path": "__notebook__.ipynb",
   "parameters": {},
   "start_time": "2022-05-02T04:07:56.604792",
   "version": "2.3.4"
  }
 },
 "nbformat": 4,
 "nbformat_minor": 5
}
