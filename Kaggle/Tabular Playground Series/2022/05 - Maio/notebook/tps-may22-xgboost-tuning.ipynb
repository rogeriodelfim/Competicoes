{
 "cells": [
  {
   "cell_type": "markdown",
   "id": "e77a1235",
   "metadata": {
    "toc": true
   },
   "source": [
    "<h1>Table of Contents<span class=\"tocSkip\"></span></h1>\n",
    "<div class=\"toc\"><ul class=\"toc-item\"><li><span><a href=\"#Setup\" data-toc-modified-id=\"Setup-1\"><span class=\"toc-item-num\">1&nbsp;&nbsp;</span>Setup</a></span></li><li><span><a href=\"#Data-overview\" data-toc-modified-id=\"Data-overview-2\"><span class=\"toc-item-num\">2&nbsp;&nbsp;</span>Data overview</a></span></li><li><span><a href=\"#Baseline\" data-toc-modified-id=\"Baseline-3\"><span class=\"toc-item-num\">3&nbsp;&nbsp;</span>Baseline</a></span></li><li><span><a href=\"#Hyperparameter-tuning\" data-toc-modified-id=\"Hyperparameter-tuning-4\"><span class=\"toc-item-num\">4&nbsp;&nbsp;</span>Hyperparameter tuning</a></span></li><li><span><a href=\"#Cross-validation\" data-toc-modified-id=\"Cross-validation-5\"><span class=\"toc-item-num\">5&nbsp;&nbsp;</span>Cross-validation</a></span></li><li><span><a href=\"#Submission\" data-toc-modified-id=\"Submission-6\"><span class=\"toc-item-num\">6&nbsp;&nbsp;</span>Submission</a></span></li></ul></div>"
   ]
  },
  {
   "cell_type": "markdown",
   "id": "34cb5b55",
   "metadata": {
    "papermill": {
     "duration": 0.034535,
     "end_time": "2022-05-10T12:43:49.503622",
     "exception": false,
     "start_time": "2022-05-10T12:43:49.469087",
     "status": "completed"
    },
    "tags": []
   },
   "source": [
    "# Setup"
   ]
  },
  {
   "cell_type": "code",
   "execution_count": 1,
   "id": "be6646da",
   "metadata": {
    "execution": {
     "iopub.execute_input": "2022-05-10T12:43:49.576298Z",
     "iopub.status.busy": "2022-05-10T12:43:49.575516Z",
     "iopub.status.idle": "2022-05-10T12:43:49.590555Z",
     "shell.execute_reply": "2022-05-10T12:43:49.589684Z"
    },
    "papermill": {
     "duration": 0.054923,
     "end_time": "2022-05-10T12:43:49.592801",
     "exception": false,
     "start_time": "2022-05-10T12:43:49.537878",
     "status": "completed"
    },
    "tags": []
   },
   "outputs": [],
   "source": [
    "import os\n",
    "import gc\n",
    "import time\n",
    "import warnings\n",
    "import subprocess\n",
    "\n",
    "gc.enable()\n",
    "warnings.filterwarnings('ignore')"
   ]
  },
  {
   "cell_type": "code",
   "execution_count": 2,
   "id": "2d69727a",
   "metadata": {
    "execution": {
     "iopub.execute_input": "2022-05-10T12:43:49.662496Z",
     "iopub.status.busy": "2022-05-10T12:43:49.661859Z",
     "iopub.status.idle": "2022-05-10T12:43:51.626607Z",
     "shell.execute_reply": "2022-05-10T12:43:51.625855Z"
    },
    "papermill": {
     "duration": 2.00227,
     "end_time": "2022-05-10T12:43:51.628965",
     "exception": false,
     "start_time": "2022-05-10T12:43:49.626695",
     "status": "completed"
    },
    "tags": []
   },
   "outputs": [],
   "source": [
    "import numpy as np\n",
    "from scipy.stats import mode\n",
    "import pandas as pd\n",
    "pd.set_option('precision', 4)\n",
    "pd.set_option('display.max_columns', None)\n",
    "\n",
    "import xgboost as xgb\n",
    "import optuna\n",
    "from optuna.samplers import TPESampler\n",
    "from optuna.integration import XGBoostPruningCallback\n",
    "\n",
    "from sklearn.model_selection import StratifiedKFold, train_test_split\n",
    "from sklearn.metrics import roc_auc_score"
   ]
  },
  {
   "cell_type": "code",
   "execution_count": 3,
   "id": "7c1b1aa2",
   "metadata": {
    "execution": {
     "iopub.execute_input": "2022-05-10T12:43:51.682624Z",
     "iopub.status.busy": "2022-05-10T12:43:51.682366Z",
     "iopub.status.idle": "2022-05-10T12:43:51.689521Z",
     "shell.execute_reply": "2022-05-10T12:43:51.688770Z"
    },
    "papermill": {
     "duration": 0.03768,
     "end_time": "2022-05-10T12:43:51.693010",
     "exception": false,
     "start_time": "2022-05-10T12:43:51.655330",
     "status": "completed"
    },
    "tags": []
   },
   "outputs": [
    {
     "data": {
      "text/plain": [
       "('1.6.0', '2.10.0')"
      ]
     },
     "execution_count": 3,
     "metadata": {},
     "output_type": "execute_result"
    }
   ],
   "source": [
    "xgb.__version__, optuna.__version__"
   ]
  },
  {
   "cell_type": "code",
   "execution_count": 4,
   "id": "56e2e3ff",
   "metadata": {
    "execution": {
     "iopub.execute_input": "2022-05-10T12:43:51.749901Z",
     "iopub.status.busy": "2022-05-10T12:43:51.749648Z",
     "iopub.status.idle": "2022-05-10T12:43:51.753781Z",
     "shell.execute_reply": "2022-05-10T12:43:51.752968Z"
    },
    "papermill": {
     "duration": 0.034032,
     "end_time": "2022-05-10T12:43:51.755893",
     "exception": false,
     "start_time": "2022-05-10T12:43:51.721861",
     "status": "completed"
    },
    "tags": []
   },
   "outputs": [],
   "source": [
    "SEED = 2311\n",
    "\n",
    "os.environ['PYTHONHASHSEED'] = str(SEED)\n",
    "np.random.seed(SEED)"
   ]
  },
  {
   "cell_type": "code",
   "execution_count": 5,
   "id": "66360422",
   "metadata": {
    "execution": {
     "iopub.execute_input": "2022-05-10T12:43:51.809866Z",
     "iopub.status.busy": "2022-05-10T12:43:51.809614Z",
     "iopub.status.idle": "2022-05-10T12:43:51.872590Z",
     "shell.execute_reply": "2022-05-10T12:43:51.870759Z"
    },
    "papermill": {
     "duration": 0.092508,
     "end_time": "2022-05-10T12:43:51.874533",
     "exception": false,
     "start_time": "2022-05-10T12:43:51.782025",
     "status": "completed"
    },
    "tags": []
   },
   "outputs": [
    {
     "name": "stdout",
     "output_type": "stream",
     "text": [
      "GPU available: True\n"
     ]
    }
   ],
   "source": [
    "#Check GPU availability\n",
    "try:\n",
    "    subprocess.check_output('nvidia-smi')\n",
    "    GPU = True\n",
    "except Exception:\n",
    "    GPU = False\n",
    "\n",
    "print(f'GPU available: {GPU}')"
   ]
  },
  {
   "cell_type": "markdown",
   "id": "1ef1edd7",
   "metadata": {
    "papermill": {
     "duration": 0.0263,
     "end_time": "2022-05-10T12:43:51.927304",
     "exception": false,
     "start_time": "2022-05-10T12:43:51.901004",
     "status": "completed"
    },
    "tags": []
   },
   "source": [
    "# Data overview"
   ]
  },
  {
   "cell_type": "markdown",
   "id": "b8f17041",
   "metadata": {
    "papermill": {
     "duration": 0.026397,
     "end_time": "2022-05-10T12:43:51.981098",
     "exception": false,
     "start_time": "2022-05-10T12:43:51.954701",
     "status": "completed"
    },
    "tags": []
   },
   "source": [
    "**Data source: [Data preprocessing notebook](https://www.kaggle.com/code/stiwar1/tps-may22-data-preprocessing)**"
   ]
  },
  {
   "cell_type": "code",
   "execution_count": 6,
   "id": "beefe7d7",
   "metadata": {
    "execution": {
     "iopub.execute_input": "2022-05-10T12:43:52.038904Z",
     "iopub.status.busy": "2022-05-10T12:43:52.038203Z",
     "iopub.status.idle": "2022-05-10T12:44:05.201138Z",
     "shell.execute_reply": "2022-05-10T12:44:05.200282Z"
    },
    "papermill": {
     "duration": 13.194981,
     "end_time": "2022-05-10T12:44:05.203611",
     "exception": false,
     "start_time": "2022-05-10T12:43:52.008630",
     "status": "completed"
    },
    "tags": []
   },
   "outputs": [],
   "source": [
    "train = pd.read_csv('../input/tps-may22-data-preprocessing/train_processed.csv')\n",
    "test = pd.read_csv('../input/tps-may22-data-preprocessing/test_processed.csv')"
   ]
  },
  {
   "cell_type": "code",
   "execution_count": 7,
   "id": "53a86e43",
   "metadata": {
    "execution": {
     "iopub.execute_input": "2022-05-10T12:44:05.259473Z",
     "iopub.status.busy": "2022-05-10T12:44:05.259199Z",
     "iopub.status.idle": "2022-05-10T12:44:05.291423Z",
     "shell.execute_reply": "2022-05-10T12:44:05.290588Z"
    },
    "papermill": {
     "duration": 0.062757,
     "end_time": "2022-05-10T12:44:05.293820",
     "exception": false,
     "start_time": "2022-05-10T12:44:05.231063",
     "status": "completed"
    },
    "tags": []
   },
   "outputs": [
    {
     "data": {
      "text/html": [
       "<div>\n",
       "<style scoped>\n",
       "    .dataframe tbody tr th:only-of-type {\n",
       "        vertical-align: middle;\n",
       "    }\n",
       "\n",
       "    .dataframe tbody tr th {\n",
       "        vertical-align: top;\n",
       "    }\n",
       "\n",
       "    .dataframe thead th {\n",
       "        text-align: right;\n",
       "    }\n",
       "</style>\n",
       "<table border=\"1\" class=\"dataframe\">\n",
       "  <thead>\n",
       "    <tr style=\"text-align: right;\">\n",
       "      <th></th>\n",
       "      <th>id</th>\n",
       "      <th>f_00</th>\n",
       "      <th>f_01</th>\n",
       "      <th>f_02</th>\n",
       "      <th>f_03</th>\n",
       "      <th>f_04</th>\n",
       "      <th>f_05</th>\n",
       "      <th>f_06</th>\n",
       "      <th>f_07</th>\n",
       "      <th>f_08</th>\n",
       "      <th>f_09</th>\n",
       "      <th>f_10</th>\n",
       "      <th>f_11</th>\n",
       "      <th>f_12</th>\n",
       "      <th>f_13</th>\n",
       "      <th>f_14</th>\n",
       "      <th>f_15</th>\n",
       "      <th>f_16</th>\n",
       "      <th>f_17</th>\n",
       "      <th>f_18</th>\n",
       "      <th>f_19</th>\n",
       "      <th>f_20</th>\n",
       "      <th>f_21</th>\n",
       "      <th>f_22</th>\n",
       "      <th>f_23</th>\n",
       "      <th>f_24</th>\n",
       "      <th>f_25</th>\n",
       "      <th>f_26</th>\n",
       "      <th>f_28</th>\n",
       "      <th>f_29</th>\n",
       "      <th>f_30</th>\n",
       "      <th>target</th>\n",
       "      <th>f_27_0</th>\n",
       "      <th>f_27_1</th>\n",
       "      <th>f_27_2</th>\n",
       "      <th>f_27_3</th>\n",
       "      <th>f_27_4</th>\n",
       "      <th>f_27_5</th>\n",
       "      <th>f_27_6</th>\n",
       "      <th>f_27_7</th>\n",
       "      <th>f_27_8</th>\n",
       "      <th>f_27_9</th>\n",
       "      <th>f_27_unique</th>\n",
       "      <th>fold</th>\n",
       "    </tr>\n",
       "  </thead>\n",
       "  <tbody>\n",
       "    <tr>\n",
       "      <th>0</th>\n",
       "      <td>0</td>\n",
       "      <td>-1.3732</td>\n",
       "      <td>0.2389</td>\n",
       "      <td>-0.2434</td>\n",
       "      <td>0.5674</td>\n",
       "      <td>-0.6477</td>\n",
       "      <td>0.8393</td>\n",
       "      <td>0.1131</td>\n",
       "      <td>1</td>\n",
       "      <td>5</td>\n",
       "      <td>1</td>\n",
       "      <td>3</td>\n",
       "      <td>3</td>\n",
       "      <td>3</td>\n",
       "      <td>1</td>\n",
       "      <td>6</td>\n",
       "      <td>1</td>\n",
       "      <td>0</td>\n",
       "      <td>7</td>\n",
       "      <td>4</td>\n",
       "      <td>0.2982</td>\n",
       "      <td>-0.9197</td>\n",
       "      <td>3.0585</td>\n",
       "      <td>-2.5407</td>\n",
       "      <td>0.7670</td>\n",
       "      <td>-2.7306</td>\n",
       "      <td>-0.2082</td>\n",
       "      <td>1.3634</td>\n",
       "      <td>67.6092</td>\n",
       "      <td>0</td>\n",
       "      <td>0</td>\n",
       "      <td>0</td>\n",
       "      <td>0</td>\n",
       "      <td>1</td>\n",
       "      <td>0</td>\n",
       "      <td>1</td>\n",
       "      <td>3</td>\n",
       "      <td>0</td>\n",
       "      <td>3</td>\n",
       "      <td>1</td>\n",
       "      <td>0</td>\n",
       "      <td>1</td>\n",
       "      <td>3</td>\n",
       "      <td>2</td>\n",
       "    </tr>\n",
       "    <tr>\n",
       "      <th>1</th>\n",
       "      <td>1</td>\n",
       "      <td>1.6970</td>\n",
       "      <td>-1.7103</td>\n",
       "      <td>-2.2303</td>\n",
       "      <td>-0.5457</td>\n",
       "      <td>1.1132</td>\n",
       "      <td>-1.5522</td>\n",
       "      <td>0.4478</td>\n",
       "      <td>1</td>\n",
       "      <td>3</td>\n",
       "      <td>4</td>\n",
       "      <td>0</td>\n",
       "      <td>2</td>\n",
       "      <td>3</td>\n",
       "      <td>0</td>\n",
       "      <td>1</td>\n",
       "      <td>0</td>\n",
       "      <td>4</td>\n",
       "      <td>6</td>\n",
       "      <td>0</td>\n",
       "      <td>-3.1477</td>\n",
       "      <td>-1.0754</td>\n",
       "      <td>2.1791</td>\n",
       "      <td>2.2783</td>\n",
       "      <td>-0.6337</td>\n",
       "      <td>-1.2171</td>\n",
       "      <td>-3.7822</td>\n",
       "      <td>-0.0583</td>\n",
       "      <td>377.0964</td>\n",
       "      <td>0</td>\n",
       "      <td>0</td>\n",
       "      <td>1</td>\n",
       "      <td>0</td>\n",
       "      <td>2</td>\n",
       "      <td>0</td>\n",
       "      <td>2</td>\n",
       "      <td>2</td>\n",
       "      <td>0</td>\n",
       "      <td>3</td>\n",
       "      <td>2</td>\n",
       "      <td>4</td>\n",
       "      <td>1</td>\n",
       "      <td>5</td>\n",
       "      <td>4</td>\n",
       "    </tr>\n",
       "    <tr>\n",
       "      <th>2</th>\n",
       "      <td>2</td>\n",
       "      <td>1.6817</td>\n",
       "      <td>0.6167</td>\n",
       "      <td>-1.0277</td>\n",
       "      <td>0.8105</td>\n",
       "      <td>-0.6091</td>\n",
       "      <td>0.1140</td>\n",
       "      <td>-0.7087</td>\n",
       "      <td>1</td>\n",
       "      <td>0</td>\n",
       "      <td>2</td>\n",
       "      <td>6</td>\n",
       "      <td>6</td>\n",
       "      <td>4</td>\n",
       "      <td>3</td>\n",
       "      <td>1</td>\n",
       "      <td>2</td>\n",
       "      <td>2</td>\n",
       "      <td>1</td>\n",
       "      <td>4</td>\n",
       "      <td>2.8207</td>\n",
       "      <td>-3.4853</td>\n",
       "      <td>-0.7842</td>\n",
       "      <td>-1.3858</td>\n",
       "      <td>-0.5206</td>\n",
       "      <td>-0.0091</td>\n",
       "      <td>2.7885</td>\n",
       "      <td>-3.7035</td>\n",
       "      <td>-195.5997</td>\n",
       "      <td>0</td>\n",
       "      <td>2</td>\n",
       "      <td>1</td>\n",
       "      <td>0</td>\n",
       "      <td>0</td>\n",
       "      <td>0</td>\n",
       "      <td>4</td>\n",
       "      <td>0</td>\n",
       "      <td>1</td>\n",
       "      <td>2</td>\n",
       "      <td>10</td>\n",
       "      <td>0</td>\n",
       "      <td>3</td>\n",
       "      <td>6</td>\n",
       "      <td>2</td>\n",
       "    </tr>\n",
       "    <tr>\n",
       "      <th>3</th>\n",
       "      <td>3</td>\n",
       "      <td>-0.1182</td>\n",
       "      <td>-0.5878</td>\n",
       "      <td>-0.8046</td>\n",
       "      <td>2.0868</td>\n",
       "      <td>0.3710</td>\n",
       "      <td>-0.1288</td>\n",
       "      <td>-0.2826</td>\n",
       "      <td>3</td>\n",
       "      <td>2</td>\n",
       "      <td>1</td>\n",
       "      <td>0</td>\n",
       "      <td>1</td>\n",
       "      <td>6</td>\n",
       "      <td>4</td>\n",
       "      <td>2</td>\n",
       "      <td>3</td>\n",
       "      <td>3</td>\n",
       "      <td>0</td>\n",
       "      <td>3</td>\n",
       "      <td>1.0811</td>\n",
       "      <td>-2.1002</td>\n",
       "      <td>-2.3438</td>\n",
       "      <td>0.5726</td>\n",
       "      <td>-1.6532</td>\n",
       "      <td>1.6860</td>\n",
       "      <td>-2.5331</td>\n",
       "      <td>-0.6086</td>\n",
       "      <td>210.8262</td>\n",
       "      <td>0</td>\n",
       "      <td>0</td>\n",
       "      <td>1</td>\n",
       "      <td>1</td>\n",
       "      <td>3</td>\n",
       "      <td>1</td>\n",
       "      <td>1</td>\n",
       "      <td>0</td>\n",
       "      <td>0</td>\n",
       "      <td>2</td>\n",
       "      <td>1</td>\n",
       "      <td>2</td>\n",
       "      <td>1</td>\n",
       "      <td>4</td>\n",
       "      <td>0</td>\n",
       "    </tr>\n",
       "    <tr>\n",
       "      <th>4</th>\n",
       "      <td>4</td>\n",
       "      <td>1.1485</td>\n",
       "      <td>-0.1766</td>\n",
       "      <td>-0.6649</td>\n",
       "      <td>-1.1013</td>\n",
       "      <td>0.4679</td>\n",
       "      <td>0.5001</td>\n",
       "      <td>0.4075</td>\n",
       "      <td>3</td>\n",
       "      <td>3</td>\n",
       "      <td>0</td>\n",
       "      <td>4</td>\n",
       "      <td>3</td>\n",
       "      <td>0</td>\n",
       "      <td>6</td>\n",
       "      <td>0</td>\n",
       "      <td>3</td>\n",
       "      <td>3</td>\n",
       "      <td>1</td>\n",
       "      <td>0</td>\n",
       "      <td>-0.1262</td>\n",
       "      <td>0.6050</td>\n",
       "      <td>1.1337</td>\n",
       "      <td>-3.9129</td>\n",
       "      <td>-1.4304</td>\n",
       "      <td>2.1276</td>\n",
       "      <td>-3.3068</td>\n",
       "      <td>4.3714</td>\n",
       "      <td>-217.2118</td>\n",
       "      <td>0</td>\n",
       "      <td>1</td>\n",
       "      <td>1</td>\n",
       "      <td>1</td>\n",
       "      <td>3</td>\n",
       "      <td>1</td>\n",
       "      <td>2</td>\n",
       "      <td>1</td>\n",
       "      <td>1</td>\n",
       "      <td>2</td>\n",
       "      <td>7</td>\n",
       "      <td>5</td>\n",
       "      <td>4</td>\n",
       "      <td>6</td>\n",
       "      <td>4</td>\n",
       "    </tr>\n",
       "  </tbody>\n",
       "</table>\n",
       "</div>"
      ],
      "text/plain": [
       "   id    f_00    f_01    f_02    f_03    f_04    f_05    f_06  f_07  f_08  \\\n",
       "0   0 -1.3732  0.2389 -0.2434  0.5674 -0.6477  0.8393  0.1131     1     5   \n",
       "1   1  1.6970 -1.7103 -2.2303 -0.5457  1.1132 -1.5522  0.4478     1     3   \n",
       "2   2  1.6817  0.6167 -1.0277  0.8105 -0.6091  0.1140 -0.7087     1     0   \n",
       "3   3 -0.1182 -0.5878 -0.8046  2.0868  0.3710 -0.1288 -0.2826     3     2   \n",
       "4   4  1.1485 -0.1766 -0.6649 -1.1013  0.4679  0.5001  0.4075     3     3   \n",
       "\n",
       "   f_09  f_10  f_11  f_12  f_13  f_14  f_15  f_16  f_17  f_18    f_19    f_20  \\\n",
       "0     1     3     3     3     1     6     1     0     7     4  0.2982 -0.9197   \n",
       "1     4     0     2     3     0     1     0     4     6     0 -3.1477 -1.0754   \n",
       "2     2     6     6     4     3     1     2     2     1     4  2.8207 -3.4853   \n",
       "3     1     0     1     6     4     2     3     3     0     3  1.0811 -2.1002   \n",
       "4     0     4     3     0     6     0     3     3     1     0 -0.1262  0.6050   \n",
       "\n",
       "     f_21    f_22    f_23    f_24    f_25    f_26      f_28  f_29  f_30  \\\n",
       "0  3.0585 -2.5407  0.7670 -2.7306 -0.2082  1.3634   67.6092     0     0   \n",
       "1  2.1791  2.2783 -0.6337 -1.2171 -3.7822 -0.0583  377.0964     0     0   \n",
       "2 -0.7842 -1.3858 -0.5206 -0.0091  2.7885 -3.7035 -195.5997     0     2   \n",
       "3 -2.3438  0.5726 -1.6532  1.6860 -2.5331 -0.6086  210.8262     0     0   \n",
       "4  1.1337 -3.9129 -1.4304  2.1276 -3.3068  4.3714 -217.2118     0     1   \n",
       "\n",
       "   target  f_27_0  f_27_1  f_27_2  f_27_3  f_27_4  f_27_5  f_27_6  f_27_7  \\\n",
       "0       0       0       1       0       1       3       0       3       1   \n",
       "1       1       0       2       0       2       2       0       3       2   \n",
       "2       1       0       0       0       4       0       1       2      10   \n",
       "3       1       1       3       1       1       0       0       2       1   \n",
       "4       1       1       3       1       2       1       1       2       7   \n",
       "\n",
       "   f_27_8  f_27_9  f_27_unique  fold  \n",
       "0       0       1            3     2  \n",
       "1       4       1            5     4  \n",
       "2       0       3            6     2  \n",
       "3       2       1            4     0  \n",
       "4       5       4            6     4  "
      ]
     },
     "execution_count": 7,
     "metadata": {},
     "output_type": "execute_result"
    }
   ],
   "source": [
    "train.head()"
   ]
  },
  {
   "cell_type": "code",
   "execution_count": 8,
   "id": "89f16301",
   "metadata": {
    "execution": {
     "iopub.execute_input": "2022-05-10T12:44:05.352017Z",
     "iopub.status.busy": "2022-05-10T12:44:05.351434Z",
     "iopub.status.idle": "2022-05-10T12:44:05.378707Z",
     "shell.execute_reply": "2022-05-10T12:44:05.377945Z"
    },
    "papermill": {
     "duration": 0.057959,
     "end_time": "2022-05-10T12:44:05.380839",
     "exception": false,
     "start_time": "2022-05-10T12:44:05.322880",
     "status": "completed"
    },
    "tags": []
   },
   "outputs": [
    {
     "data": {
      "text/html": [
       "<div>\n",
       "<style scoped>\n",
       "    .dataframe tbody tr th:only-of-type {\n",
       "        vertical-align: middle;\n",
       "    }\n",
       "\n",
       "    .dataframe tbody tr th {\n",
       "        vertical-align: top;\n",
       "    }\n",
       "\n",
       "    .dataframe thead th {\n",
       "        text-align: right;\n",
       "    }\n",
       "</style>\n",
       "<table border=\"1\" class=\"dataframe\">\n",
       "  <thead>\n",
       "    <tr style=\"text-align: right;\">\n",
       "      <th></th>\n",
       "      <th>id</th>\n",
       "      <th>f_00</th>\n",
       "      <th>f_01</th>\n",
       "      <th>f_02</th>\n",
       "      <th>f_03</th>\n",
       "      <th>f_04</th>\n",
       "      <th>f_05</th>\n",
       "      <th>f_06</th>\n",
       "      <th>f_07</th>\n",
       "      <th>f_08</th>\n",
       "      <th>f_09</th>\n",
       "      <th>f_10</th>\n",
       "      <th>f_11</th>\n",
       "      <th>f_12</th>\n",
       "      <th>f_13</th>\n",
       "      <th>f_14</th>\n",
       "      <th>f_15</th>\n",
       "      <th>f_16</th>\n",
       "      <th>f_17</th>\n",
       "      <th>f_18</th>\n",
       "      <th>f_19</th>\n",
       "      <th>f_20</th>\n",
       "      <th>f_21</th>\n",
       "      <th>f_22</th>\n",
       "      <th>f_23</th>\n",
       "      <th>f_24</th>\n",
       "      <th>f_25</th>\n",
       "      <th>f_26</th>\n",
       "      <th>f_28</th>\n",
       "      <th>f_29</th>\n",
       "      <th>f_30</th>\n",
       "      <th>f_27_0</th>\n",
       "      <th>f_27_1</th>\n",
       "      <th>f_27_2</th>\n",
       "      <th>f_27_3</th>\n",
       "      <th>f_27_4</th>\n",
       "      <th>f_27_5</th>\n",
       "      <th>f_27_6</th>\n",
       "      <th>f_27_7</th>\n",
       "      <th>f_27_8</th>\n",
       "      <th>f_27_9</th>\n",
       "      <th>f_27_unique</th>\n",
       "    </tr>\n",
       "  </thead>\n",
       "  <tbody>\n",
       "    <tr>\n",
       "      <th>0</th>\n",
       "      <td>900000</td>\n",
       "      <td>0.4425</td>\n",
       "      <td>0.1744</td>\n",
       "      <td>-0.9998</td>\n",
       "      <td>0.7627</td>\n",
       "      <td>0.1868</td>\n",
       "      <td>-1.0748</td>\n",
       "      <td>0.5019</td>\n",
       "      <td>6</td>\n",
       "      <td>6</td>\n",
       "      <td>0</td>\n",
       "      <td>0</td>\n",
       "      <td>0</td>\n",
       "      <td>5</td>\n",
       "      <td>1</td>\n",
       "      <td>1</td>\n",
       "      <td>2</td>\n",
       "      <td>2</td>\n",
       "      <td>0</td>\n",
       "      <td>1</td>\n",
       "      <td>-1.1284</td>\n",
       "      <td>2.7493</td>\n",
       "      <td>-1.0064</td>\n",
       "      <td>-1.1939</td>\n",
       "      <td>-2.4357</td>\n",
       "      <td>-2.4274</td>\n",
       "      <td>-1.9669</td>\n",
       "      <td>5.7342</td>\n",
       "      <td>99.4784</td>\n",
       "      <td>0</td>\n",
       "      <td>0</td>\n",
       "      <td>1</td>\n",
       "      <td>0</td>\n",
       "      <td>0</td>\n",
       "      <td>0</td>\n",
       "      <td>1</td>\n",
       "      <td>0</td>\n",
       "      <td>3</td>\n",
       "      <td>11</td>\n",
       "      <td>0</td>\n",
       "      <td>2</td>\n",
       "      <td>5</td>\n",
       "    </tr>\n",
       "    <tr>\n",
       "      <th>1</th>\n",
       "      <td>900001</td>\n",
       "      <td>-0.6056</td>\n",
       "      <td>-0.3057</td>\n",
       "      <td>0.6277</td>\n",
       "      <td>-0.5789</td>\n",
       "      <td>-1.7509</td>\n",
       "      <td>1.3556</td>\n",
       "      <td>-0.1909</td>\n",
       "      <td>1</td>\n",
       "      <td>3</td>\n",
       "      <td>4</td>\n",
       "      <td>0</td>\n",
       "      <td>2</td>\n",
       "      <td>1</td>\n",
       "      <td>3</td>\n",
       "      <td>0</td>\n",
       "      <td>0</td>\n",
       "      <td>0</td>\n",
       "      <td>2</td>\n",
       "      <td>0</td>\n",
       "      <td>-4.4241</td>\n",
       "      <td>1.0808</td>\n",
       "      <td>2.3824</td>\n",
       "      <td>0.1494</td>\n",
       "      <td>1.8833</td>\n",
       "      <td>-2.8487</td>\n",
       "      <td>-0.7252</td>\n",
       "      <td>3.1942</td>\n",
       "      <td>-65.9938</td>\n",
       "      <td>1</td>\n",
       "      <td>0</td>\n",
       "      <td>0</td>\n",
       "      <td>5</td>\n",
       "      <td>0</td>\n",
       "      <td>1</td>\n",
       "      <td>1</td>\n",
       "      <td>0</td>\n",
       "      <td>4</td>\n",
       "      <td>6</td>\n",
       "      <td>2</td>\n",
       "      <td>1</td>\n",
       "      <td>6</td>\n",
       "    </tr>\n",
       "    <tr>\n",
       "      <th>2</th>\n",
       "      <td>900002</td>\n",
       "      <td>0.3040</td>\n",
       "      <td>2.4451</td>\n",
       "      <td>0.2465</td>\n",
       "      <td>0.8182</td>\n",
       "      <td>0.3597</td>\n",
       "      <td>-1.3318</td>\n",
       "      <td>1.3586</td>\n",
       "      <td>3</td>\n",
       "      <td>3</td>\n",
       "      <td>4</td>\n",
       "      <td>1</td>\n",
       "      <td>1</td>\n",
       "      <td>3</td>\n",
       "      <td>2</td>\n",
       "      <td>2</td>\n",
       "      <td>4</td>\n",
       "      <td>1</td>\n",
       "      <td>0</td>\n",
       "      <td>3</td>\n",
       "      <td>-1.5239</td>\n",
       "      <td>-1.4067</td>\n",
       "      <td>-7.0261</td>\n",
       "      <td>1.3123</td>\n",
       "      <td>-5.1572</td>\n",
       "      <td>1.7140</td>\n",
       "      <td>0.5850</td>\n",
       "      <td>0.0669</td>\n",
       "      <td>-87.4056</td>\n",
       "      <td>0</td>\n",
       "      <td>1</td>\n",
       "      <td>1</td>\n",
       "      <td>1</td>\n",
       "      <td>0</td>\n",
       "      <td>2</td>\n",
       "      <td>0</td>\n",
       "      <td>1</td>\n",
       "      <td>1</td>\n",
       "      <td>10</td>\n",
       "      <td>4</td>\n",
       "      <td>4</td>\n",
       "      <td>5</td>\n",
       "    </tr>\n",
       "    <tr>\n",
       "      <th>3</th>\n",
       "      <td>900003</td>\n",
       "      <td>0.1541</td>\n",
       "      <td>0.2601</td>\n",
       "      <td>-1.3671</td>\n",
       "      <td>-0.0932</td>\n",
       "      <td>-1.1110</td>\n",
       "      <td>-0.9485</td>\n",
       "      <td>1.1192</td>\n",
       "      <td>0</td>\n",
       "      <td>0</td>\n",
       "      <td>4</td>\n",
       "      <td>2</td>\n",
       "      <td>1</td>\n",
       "      <td>5</td>\n",
       "      <td>0</td>\n",
       "      <td>3</td>\n",
       "      <td>3</td>\n",
       "      <td>1</td>\n",
       "      <td>4</td>\n",
       "      <td>2</td>\n",
       "      <td>-1.4046</td>\n",
       "      <td>3.0111</td>\n",
       "      <td>-0.5945</td>\n",
       "      <td>-3.9395</td>\n",
       "      <td>1.7546</td>\n",
       "      <td>-2.3640</td>\n",
       "      <td>-1.0033</td>\n",
       "      <td>3.8931</td>\n",
       "      <td>-281.2935</td>\n",
       "      <td>0</td>\n",
       "      <td>0</td>\n",
       "      <td>0</td>\n",
       "      <td>4</td>\n",
       "      <td>1</td>\n",
       "      <td>4</td>\n",
       "      <td>0</td>\n",
       "      <td>0</td>\n",
       "      <td>2</td>\n",
       "      <td>16</td>\n",
       "      <td>2</td>\n",
       "      <td>2</td>\n",
       "      <td>5</td>\n",
       "    </tr>\n",
       "    <tr>\n",
       "      <th>4</th>\n",
       "      <td>900004</td>\n",
       "      <td>-1.6519</td>\n",
       "      <td>-0.4243</td>\n",
       "      <td>-0.6674</td>\n",
       "      <td>-0.3221</td>\n",
       "      <td>-0.0895</td>\n",
       "      <td>0.1817</td>\n",
       "      <td>1.7850</td>\n",
       "      <td>2</td>\n",
       "      <td>2</td>\n",
       "      <td>2</td>\n",
       "      <td>0</td>\n",
       "      <td>0</td>\n",
       "      <td>3</td>\n",
       "      <td>0</td>\n",
       "      <td>1</td>\n",
       "      <td>2</td>\n",
       "      <td>0</td>\n",
       "      <td>2</td>\n",
       "      <td>2</td>\n",
       "      <td>-1.9685</td>\n",
       "      <td>0.1006</td>\n",
       "      <td>0.0849</td>\n",
       "      <td>-0.9857</td>\n",
       "      <td>-0.1305</td>\n",
       "      <td>-3.5579</td>\n",
       "      <td>1.2107</td>\n",
       "      <td>1.8619</td>\n",
       "      <td>25.6294</td>\n",
       "      <td>0</td>\n",
       "      <td>2</td>\n",
       "      <td>0</td>\n",
       "      <td>4</td>\n",
       "      <td>1</td>\n",
       "      <td>1</td>\n",
       "      <td>1</td>\n",
       "      <td>1</td>\n",
       "      <td>3</td>\n",
       "      <td>0</td>\n",
       "      <td>1</td>\n",
       "      <td>5</td>\n",
       "      <td>5</td>\n",
       "    </tr>\n",
       "  </tbody>\n",
       "</table>\n",
       "</div>"
      ],
      "text/plain": [
       "       id    f_00    f_01    f_02    f_03    f_04    f_05    f_06  f_07  f_08  \\\n",
       "0  900000  0.4425  0.1744 -0.9998  0.7627  0.1868 -1.0748  0.5019     6     6   \n",
       "1  900001 -0.6056 -0.3057  0.6277 -0.5789 -1.7509  1.3556 -0.1909     1     3   \n",
       "2  900002  0.3040  2.4451  0.2465  0.8182  0.3597 -1.3318  1.3586     3     3   \n",
       "3  900003  0.1541  0.2601 -1.3671 -0.0932 -1.1110 -0.9485  1.1192     0     0   \n",
       "4  900004 -1.6519 -0.4243 -0.6674 -0.3221 -0.0895  0.1817  1.7850     2     2   \n",
       "\n",
       "   f_09  f_10  f_11  f_12  f_13  f_14  f_15  f_16  f_17  f_18    f_19    f_20  \\\n",
       "0     0     0     0     5     1     1     2     2     0     1 -1.1284  2.7493   \n",
       "1     4     0     2     1     3     0     0     0     2     0 -4.4241  1.0808   \n",
       "2     4     1     1     3     2     2     4     1     0     3 -1.5239 -1.4067   \n",
       "3     4     2     1     5     0     3     3     1     4     2 -1.4046  3.0111   \n",
       "4     2     0     0     3     0     1     2     0     2     2 -1.9685  0.1006   \n",
       "\n",
       "     f_21    f_22    f_23    f_24    f_25    f_26      f_28  f_29  f_30  \\\n",
       "0 -1.0064 -1.1939 -2.4357 -2.4274 -1.9669  5.7342   99.4784     0     0   \n",
       "1  2.3824  0.1494  1.8833 -2.8487 -0.7252  3.1942  -65.9938     1     0   \n",
       "2 -7.0261  1.3123 -5.1572  1.7140  0.5850  0.0669  -87.4056     0     1   \n",
       "3 -0.5945 -3.9395  1.7546 -2.3640 -1.0033  3.8931 -281.2935     0     0   \n",
       "4  0.0849 -0.9857 -0.1305 -3.5579  1.2107  1.8619   25.6294     0     2   \n",
       "\n",
       "   f_27_0  f_27_1  f_27_2  f_27_3  f_27_4  f_27_5  f_27_6  f_27_7  f_27_8  \\\n",
       "0       1       0       0       0       1       0       3      11       0   \n",
       "1       0       5       0       1       1       0       4       6       2   \n",
       "2       1       1       0       2       0       1       1      10       4   \n",
       "3       0       4       1       4       0       0       2      16       2   \n",
       "4       0       4       1       1       1       1       3       0       1   \n",
       "\n",
       "   f_27_9  f_27_unique  \n",
       "0       2            5  \n",
       "1       1            6  \n",
       "2       4            5  \n",
       "3       2            5  \n",
       "4       5            5  "
      ]
     },
     "execution_count": 8,
     "metadata": {},
     "output_type": "execute_result"
    }
   ],
   "source": [
    "test.head()"
   ]
  },
  {
   "cell_type": "code",
   "execution_count": 9,
   "id": "dc6caa23",
   "metadata": {
    "execution": {
     "iopub.execute_input": "2022-05-10T12:44:05.439336Z",
     "iopub.status.busy": "2022-05-10T12:44:05.439054Z",
     "iopub.status.idle": "2022-05-10T12:44:05.443375Z",
     "shell.execute_reply": "2022-05-10T12:44:05.442680Z"
    },
    "papermill": {
     "duration": 0.035464,
     "end_time": "2022-05-10T12:44:05.445063",
     "exception": false,
     "start_time": "2022-05-10T12:44:05.409599",
     "status": "completed"
    },
    "tags": []
   },
   "outputs": [],
   "source": [
    "TARGET = 'target'\n",
    "features = [f for f in test.columns if f != 'id']"
   ]
  },
  {
   "cell_type": "markdown",
   "id": "ace09a81",
   "metadata": {
    "papermill": {
     "duration": 0.027843,
     "end_time": "2022-05-10T12:44:05.501143",
     "exception": false,
     "start_time": "2022-05-10T12:44:05.473300",
     "status": "completed"
    },
    "tags": []
   },
   "source": [
    "# Baseline"
   ]
  },
  {
   "cell_type": "code",
   "execution_count": 10,
   "id": "194901e1",
   "metadata": {
    "execution": {
     "iopub.execute_input": "2022-05-10T12:44:05.559040Z",
     "iopub.status.busy": "2022-05-10T12:44:05.558512Z",
     "iopub.status.idle": "2022-05-10T12:44:06.398003Z",
     "shell.execute_reply": "2022-05-10T12:44:06.397214Z"
    },
    "papermill": {
     "duration": 0.871045,
     "end_time": "2022-05-10T12:44:06.400128",
     "exception": false,
     "start_time": "2022-05-10T12:44:05.529083",
     "status": "completed"
    },
    "tags": []
   },
   "outputs": [],
   "source": [
    "xtrain, xval, ytrain, yval = train_test_split(train[features], \n",
    "                                              train[TARGET],\n",
    "                                              test_size=0.2,\n",
    "                                              stratify=train[TARGET],\n",
    "                                              shuffle=True,\n",
    "                                              random_state=SEED)"
   ]
  },
  {
   "cell_type": "code",
   "execution_count": 11,
   "id": "9d8eec27",
   "metadata": {
    "execution": {
     "iopub.execute_input": "2022-05-10T12:44:06.458322Z",
     "iopub.status.busy": "2022-05-10T12:44:06.457674Z",
     "iopub.status.idle": "2022-05-10T12:44:06.462214Z",
     "shell.execute_reply": "2022-05-10T12:44:06.461551Z"
    },
    "papermill": {
     "duration": 0.035264,
     "end_time": "2022-05-10T12:44:06.463907",
     "exception": false,
     "start_time": "2022-05-10T12:44:06.428643",
     "status": "completed"
    },
    "tags": []
   },
   "outputs": [],
   "source": [
    "TREE_METHOD = 'gpu_hist' if GPU else 'hist'\n",
    "\n",
    "baseline = xgb.XGBClassifier(\n",
    "    n_estimators=200,\n",
    "    tree_method=TREE_METHOD,\n",
    "    objective='binary:logistic',\n",
    "    eval_metric='auc',\n",
    "    random_state=SEED)"
   ]
  },
  {
   "cell_type": "code",
   "execution_count": 12,
   "id": "8347b366",
   "metadata": {
    "_kg_hide-output": true,
    "execution": {
     "iopub.execute_input": "2022-05-10T12:44:06.522295Z",
     "iopub.status.busy": "2022-05-10T12:44:06.521712Z",
     "iopub.status.idle": "2022-05-10T12:44:11.774261Z",
     "shell.execute_reply": "2022-05-10T12:44:11.773550Z"
    },
    "papermill": {
     "duration": 5.283684,
     "end_time": "2022-05-10T12:44:11.776021",
     "exception": false,
     "start_time": "2022-05-10T12:44:06.492337",
     "status": "completed"
    },
    "tags": []
   },
   "outputs": [
    {
     "data": {
      "text/plain": [
       "XGBClassifier(base_score=0.5, booster='gbtree', callbacks=None,\n",
       "              colsample_bylevel=1, colsample_bynode=1, colsample_bytree=1,\n",
       "              early_stopping_rounds=None, enable_categorical=False,\n",
       "              eval_metric='auc', gamma=0, gpu_id=0, grow_policy='depthwise',\n",
       "              importance_type=None, interaction_constraints='',\n",
       "              learning_rate=0.300000012, max_bin=256, max_cat_to_onehot=4,\n",
       "              max_delta_step=0, max_depth=6, max_leaves=0, min_child_weight=1,\n",
       "              missing=nan, monotone_constraints='()', n_estimators=200,\n",
       "              n_jobs=0, num_parallel_tree=1, predictor='auto',\n",
       "              random_state=2311, reg_alpha=0, reg_lambda=1, ...)"
      ]
     },
     "execution_count": 12,
     "metadata": {},
     "output_type": "execute_result"
    }
   ],
   "source": [
    "baseline.fit(\n",
    "    xtrain, ytrain,\n",
    "    verbose=0)"
   ]
  },
  {
   "cell_type": "code",
   "execution_count": 13,
   "id": "0e8432ca",
   "metadata": {
    "execution": {
     "iopub.execute_input": "2022-05-10T12:44:11.834972Z",
     "iopub.status.busy": "2022-05-10T12:44:11.834257Z",
     "iopub.status.idle": "2022-05-10T12:44:12.618450Z",
     "shell.execute_reply": "2022-05-10T12:44:12.617702Z"
    },
    "papermill": {
     "duration": 0.818303,
     "end_time": "2022-05-10T12:44:12.622873",
     "exception": false,
     "start_time": "2022-05-10T12:44:11.804570",
     "status": "completed"
    },
    "tags": []
   },
   "outputs": [
    {
     "name": "stdout",
     "output_type": "stream",
     "text": [
      "Baseline AUC: 0.98226\n"
     ]
    }
   ],
   "source": [
    "baseline_auc = roc_auc_score(yval, baseline.predict_proba(xval[features])[:, 1])\n",
    "print(f'Baseline AUC: {baseline_auc:.5f}')"
   ]
  },
  {
   "cell_type": "markdown",
   "id": "33db908a",
   "metadata": {
    "papermill": {
     "duration": 0.057472,
     "end_time": "2022-05-10T12:44:12.741539",
     "exception": false,
     "start_time": "2022-05-10T12:44:12.684067",
     "status": "completed"
    },
    "tags": []
   },
   "source": [
    "# Hyperparameter tuning"
   ]
  },
  {
   "cell_type": "code",
   "execution_count": 14,
   "id": "ebbf800d",
   "metadata": {
    "execution": {
     "iopub.execute_input": "2022-05-10T12:44:12.839169Z",
     "iopub.status.busy": "2022-05-10T12:44:12.838749Z",
     "iopub.status.idle": "2022-05-10T12:44:12.843524Z",
     "shell.execute_reply": "2022-05-10T12:44:12.842659Z"
    },
    "papermill": {
     "duration": 0.055992,
     "end_time": "2022-05-10T12:44:12.847072",
     "exception": false,
     "start_time": "2022-05-10T12:44:12.791080",
     "status": "completed"
    },
    "tags": []
   },
   "outputs": [],
   "source": [
    "N_ESTIMATORS = 10000\n",
    "EARLY_STOPPING_ROUNDS = 200\n",
    "TREE_METHOD = 'gpu_hist' if GPU else 'hist'\n",
    "OBJECTIVE = 'binary:logistic'\n",
    "EVAL_METRIC = 'auc'"
   ]
  },
  {
   "cell_type": "code",
   "execution_count": 15,
   "id": "85b17f97",
   "metadata": {
    "execution": {
     "iopub.execute_input": "2022-05-10T12:44:12.943732Z",
     "iopub.status.busy": "2022-05-10T12:44:12.943309Z",
     "iopub.status.idle": "2022-05-10T12:44:12.949031Z",
     "shell.execute_reply": "2022-05-10T12:44:12.948139Z"
    },
    "papermill": {
     "duration": 0.05742,
     "end_time": "2022-05-10T12:44:12.952758",
     "exception": false,
     "start_time": "2022-05-10T12:44:12.895338",
     "status": "completed"
    },
    "tags": []
   },
   "outputs": [],
   "source": [
    "base_params = {\n",
    "    'n_estimators': N_ESTIMATORS,\n",
    "    'early_stopping_rounds': EARLY_STOPPING_ROUNDS,\n",
    "    'tree_method': TREE_METHOD,\n",
    "    'enable_categorical': GPU, #only available for gpu_hist\n",
    "    'max_cat_to_onehot': 5,\n",
    "    'eval_metric': EVAL_METRIC,\n",
    "    'random_state': SEED,\n",
    "    'verbosity': 0\n",
    "}"
   ]
  },
  {
   "cell_type": "code",
   "execution_count": 16,
   "id": "7edb3f83",
   "metadata": {
    "execution": {
     "iopub.execute_input": "2022-05-10T12:44:13.047983Z",
     "iopub.status.busy": "2022-05-10T12:44:13.047547Z",
     "iopub.status.idle": "2022-05-10T12:44:13.066807Z",
     "shell.execute_reply": "2022-05-10T12:44:13.066104Z"
    },
    "papermill": {
     "duration": 0.069486,
     "end_time": "2022-05-10T12:44:13.069092",
     "exception": false,
     "start_time": "2022-05-10T12:44:12.999606",
     "status": "completed"
    },
    "tags": []
   },
   "outputs": [],
   "source": [
    "def objective(trial, base_params, data):\n",
    "    #Defining hyperparameter search space\n",
    "    param_grid = {\n",
    "        'max_depth': trial.suggest_int('max_depth', 3, 12),\n",
    "        \n",
    "        'max_bin': trial.suggest_int('max_bin', 4, 512),\n",
    "        \n",
    "        'learning_rate': trial.suggest_float('learning_rate', 0.05, 0.3),\n",
    "        \n",
    "        'booster': trial.suggest_categorical('booster', ['gbtree', 'dart']),\n",
    "        \n",
    "        'gamma': trial.suggest_float('gamma', 0.1, 20.0, step=0.1),\n",
    "        \n",
    "        'min_child_weight': trial.suggest_int('min_child_weight', 2, 100),\n",
    "        \n",
    "        'max_delta_step': trial.suggest_float('max_delta_step', 1, 10, step=0.5),\n",
    "        \n",
    "        'subsample': trial.suggest_float('subsample', 0.5, 0.95, step=0.05),\n",
    "        \n",
    "        'colsample_bytree': trial.suggest_float(\n",
    "            'colsample_bytree', 0.5, 0.95, step=0.05),\n",
    "        \n",
    "        'colsample_bylevel': trial.suggest_float(\n",
    "            'colsample_bylevel', 0.5, 0.95, step=0.05),\n",
    "        \n",
    "        'colsample_bynode': trial.suggest_float(\n",
    "            'colsample_bynode', 0.5, 0.95, step=0.05),\n",
    "        \n",
    "        'reg_alpha': trial.suggest_float('reg_alpha', 1e-5, 1e3, log=True),\n",
    "        \n",
    "        'reg_lambda': trial.suggest_float('reg_lambda', 1e-5, 1e3, log=True)\n",
    "    }\n",
    "\n",
    "    if param_grid['booster'] == 'dart':\n",
    "        param_grid['sample_type'] = 'weighted'\n",
    "        param_grid['normalize_type'] = trial.suggest_categorical(\n",
    "            'normalize_type', ['tree', 'forest'])\n",
    "        param_grid['rate_drop'] = trial.suggest_float(\n",
    "            'rate_drop', 0.1, 0.3)\n",
    "        param_grid['skip_drop'] = trial.suggest_float(\n",
    "            'skip_drop', 0.33, 0.67)\n",
    "\n",
    "    model = xgb.XGBClassifier(\n",
    "        **base_params, \n",
    "        **param_grid, \n",
    "        callbacks = [XGBoostPruningCallback(trial, 'validation_0-auc')])\n",
    "    \n",
    "    xtrain, xval, ytrain, yval = data\n",
    "    \n",
    "    model.fit(\n",
    "        xtrain, ytrain,\n",
    "        eval_set=[(xval, yval)],\n",
    "        verbose=False)\n",
    "\n",
    "    predictions = model.predict_proba(xval)[:, 1]\n",
    "    return roc_auc_score(yval, predictions)"
   ]
  },
  {
   "cell_type": "code",
   "execution_count": 17,
   "id": "1a57bedc",
   "metadata": {
    "execution": {
     "iopub.execute_input": "2022-05-10T12:44:13.155827Z",
     "iopub.status.busy": "2022-05-10T12:44:13.155119Z",
     "iopub.status.idle": "2022-05-10T12:44:13.160346Z",
     "shell.execute_reply": "2022-05-10T12:44:13.159625Z"
    },
    "papermill": {
     "duration": 0.046633,
     "end_time": "2022-05-10T12:44:13.162006",
     "exception": false,
     "start_time": "2022-05-10T12:44:13.115373",
     "status": "completed"
    },
    "tags": []
   },
   "outputs": [],
   "source": [
    "def tune_hyperparameters(\n",
    "        base_params,\n",
    "        data,\n",
    "        direction='maximize', \n",
    "        n_trials=5):\n",
    "    \n",
    "    study = optuna.create_study(\n",
    "        sampler=TPESampler(seed=SEED),\n",
    "        direction=direction)\n",
    "    \n",
    "    study.optimize(\n",
    "        lambda trial: objective(trial, base_params, data),\n",
    "        n_trials=n_trials,\n",
    "        gc_after_trial=True)\n",
    "    \n",
    "    return study.best_params, study.best_value"
   ]
  },
  {
   "cell_type": "code",
   "execution_count": 18,
   "id": "3467e02b",
   "metadata": {
    "_kg_hide-output": true,
    "execution": {
     "iopub.execute_input": "2022-05-10T12:44:13.222036Z",
     "iopub.status.busy": "2022-05-10T12:44:13.221490Z",
     "iopub.status.idle": "2022-05-10T13:01:33.791955Z",
     "shell.execute_reply": "2022-05-10T13:01:33.791245Z"
    },
    "papermill": {
     "duration": 1040.603236,
     "end_time": "2022-05-10T13:01:33.794345",
     "exception": false,
     "start_time": "2022-05-10T12:44:13.191109",
     "status": "completed"
    },
    "tags": []
   },
   "outputs": [
    {
     "name": "stderr",
     "output_type": "stream",
     "text": [
      "\u001b[32m[I 2022-05-10 12:44:13,224]\u001b[0m A new study created in memory with name: no-name-471b8e82-90cb-4b2f-86b1-b2304f503113\u001b[0m\n",
      "\u001b[32m[I 2022-05-10 12:44:25,668]\u001b[0m Trial 0 finished with value: 0.9604821680101833 and parameters: {'max_depth': 6, 'max_bin': 434, 'learning_rate': 0.10469290709525571, 'booster': 'gbtree', 'gamma': 14.200000000000001, 'min_child_weight': 3, 'max_delta_step': 2.0, 'subsample': 0.8500000000000001, 'colsample_bytree': 0.75, 'colsample_bylevel': 0.5, 'colsample_bynode': 0.55, 'reg_alpha': 0.00015649840907716483, 'reg_lambda': 41.70581893268244}. Best is trial 0 with value: 0.9604821680101833.\u001b[0m\n",
      "\u001b[32m[I 2022-05-10 12:44:43,795]\u001b[0m Trial 1 finished with value: 0.9723580575683811 and parameters: {'max_depth': 12, 'max_bin': 295, 'learning_rate': 0.07961566681396946, 'booster': 'gbtree', 'gamma': 12.6, 'min_child_weight': 56, 'max_delta_step': 8.0, 'subsample': 0.7, 'colsample_bytree': 0.6, 'colsample_bylevel': 0.5, 'colsample_bynode': 0.8500000000000001, 'reg_alpha': 7.929041231102977e-05, 'reg_lambda': 0.02820597349652578}. Best is trial 1 with value: 0.9723580575683811.\u001b[0m\n",
      "\u001b[32m[I 2022-05-10 12:44:48,200]\u001b[0m Trial 2 finished with value: 0.9492462867122592 and parameters: {'max_depth': 9, 'max_bin': 157, 'learning_rate': 0.22578118750670384, 'booster': 'gbtree', 'gamma': 8.6, 'min_child_weight': 100, 'max_delta_step': 7.5, 'subsample': 0.95, 'colsample_bytree': 0.9, 'colsample_bylevel': 0.7, 'colsample_bynode': 0.9, 'reg_alpha': 762.0977071340545, 'reg_lambda': 164.31459241544079}. Best is trial 1 with value: 0.9723580575683811.\u001b[0m\n",
      "\u001b[32m[I 2022-05-10 12:45:16,327]\u001b[0m Trial 3 finished with value: 0.9852026142008413 and parameters: {'max_depth': 11, 'max_bin': 483, 'learning_rate': 0.2664782791012779, 'booster': 'gbtree', 'gamma': 1.5000000000000002, 'min_child_weight': 14, 'max_delta_step': 5.5, 'subsample': 0.7, 'colsample_bytree': 0.6, 'colsample_bylevel': 0.7, 'colsample_bynode': 0.8, 'reg_alpha': 0.00014669654479888906, 'reg_lambda': 1.979129068512915e-05}. Best is trial 3 with value: 0.9852026142008413.\u001b[0m\n",
      "\u001b[32m[I 2022-05-10 12:49:48,902]\u001b[0m Trial 4 finished with value: 0.960079013070692 and parameters: {'max_depth': 12, 'max_bin': 14, 'learning_rate': 0.24469073308960182, 'booster': 'dart', 'gamma': 10.700000000000001, 'min_child_weight': 13, 'max_delta_step': 10.0, 'subsample': 0.9, 'colsample_bytree': 0.6, 'colsample_bylevel': 0.8500000000000001, 'colsample_bynode': 0.7, 'reg_alpha': 1.3350823652893105, 'reg_lambda': 1.3656575650417195e-05, 'normalize_type': 'forest', 'rate_drop': 0.11508346240445333, 'skip_drop': 0.4207207533232097}. Best is trial 3 with value: 0.9852026142008413.\u001b[0m\n",
      "\u001b[32m[I 2022-05-10 12:49:50,396]\u001b[0m Trial 5 pruned. Trial was pruned at iteration 0.\u001b[0m\n",
      "\u001b[32m[I 2022-05-10 12:49:51,889]\u001b[0m Trial 6 pruned. Trial was pruned at iteration 0.\u001b[0m\n",
      "\u001b[32m[I 2022-05-10 12:49:53,358]\u001b[0m Trial 7 pruned. Trial was pruned at iteration 0.\u001b[0m\n",
      "\u001b[32m[I 2022-05-10 12:49:55,111]\u001b[0m Trial 8 pruned. Trial was pruned at iteration 0.\u001b[0m\n",
      "\u001b[32m[I 2022-05-10 12:49:56,595]\u001b[0m Trial 9 pruned. Trial was pruned at iteration 0.\u001b[0m\n",
      "\u001b[32m[I 2022-05-10 12:49:58,126]\u001b[0m Trial 10 pruned. Trial was pruned at iteration 0.\u001b[0m\n",
      "\u001b[32m[I 2022-05-10 12:50:43,153]\u001b[0m Trial 11 finished with value: 0.984647679604609 and parameters: {'max_depth': 12, 'max_bin': 323, 'learning_rate': 0.1819852461823595, 'booster': 'gbtree', 'gamma': 0.4, 'min_child_weight': 66, 'max_delta_step': 7.0, 'subsample': 0.7, 'colsample_bytree': 0.7, 'colsample_bylevel': 0.5, 'colsample_bynode': 0.8, 'reg_alpha': 0.0077828786819141614, 'reg_lambda': 0.5776565764915014}. Best is trial 3 with value: 0.9852026142008413.\u001b[0m\n",
      "\u001b[32m[I 2022-05-10 12:50:44,727]\u001b[0m Trial 12 pruned. Trial was pruned at iteration 0.\u001b[0m\n",
      "\u001b[32m[I 2022-05-10 12:51:11,828]\u001b[0m Trial 13 finished with value: 0.9851665173490751 and parameters: {'max_depth': 11, 'max_bin': 371, 'learning_rate': 0.1758199292846296, 'booster': 'gbtree', 'gamma': 3.9000000000000004, 'min_child_weight': 29, 'max_delta_step': 4.0, 'subsample': 0.75, 'colsample_bytree': 0.8, 'colsample_bylevel': 0.6, 'colsample_bynode': 0.8, 'reg_alpha': 0.003153561706155658, 'reg_lambda': 0.0006832417871855962}. Best is trial 3 with value: 0.9852026142008413.\u001b[0m\n",
      "\u001b[32m[I 2022-05-10 12:51:13,370]\u001b[0m Trial 14 pruned. Trial was pruned at iteration 0.\u001b[0m\n",
      "\u001b[32m[I 2022-05-10 12:51:14,911]\u001b[0m Trial 15 pruned. Trial was pruned at iteration 0.\u001b[0m\n",
      "\u001b[32m[I 2022-05-10 12:51:16,458]\u001b[0m Trial 16 pruned. Trial was pruned at iteration 0.\u001b[0m\n",
      "\u001b[32m[I 2022-05-10 12:51:18,036]\u001b[0m Trial 17 pruned. Trial was pruned at iteration 0.\u001b[0m\n",
      "\u001b[32m[I 2022-05-10 12:51:19,593]\u001b[0m Trial 18 pruned. Trial was pruned at iteration 0.\u001b[0m\n",
      "\u001b[32m[I 2022-05-10 12:51:21,567]\u001b[0m Trial 19 pruned. Trial was pruned at iteration 5.\u001b[0m\n",
      "\u001b[32m[I 2022-05-10 12:51:23,909]\u001b[0m Trial 20 pruned. Trial was pruned at iteration 0.\u001b[0m\n",
      "\u001b[32m[I 2022-05-10 12:52:24,170]\u001b[0m Trial 21 finished with value: 0.9850151260005686 and parameters: {'max_depth': 12, 'max_bin': 319, 'learning_rate': 0.17867666068829707, 'booster': 'gbtree', 'gamma': 0.2, 'min_child_weight': 61, 'max_delta_step': 6.5, 'subsample': 0.7, 'colsample_bytree': 0.75, 'colsample_bylevel': 0.55, 'colsample_bynode': 0.8, 'reg_alpha': 0.02004552603495991, 'reg_lambda': 0.24029807324435506}. Best is trial 3 with value: 0.9852026142008413.\u001b[0m\n",
      "\u001b[32m[I 2022-05-10 12:52:26,466]\u001b[0m Trial 22 pruned. Trial was pruned at iteration 13.\u001b[0m\n",
      "\u001b[32m[I 2022-05-10 12:52:29,489]\u001b[0m Trial 23 pruned. Trial was pruned at iteration 7.\u001b[0m\n",
      "\u001b[32m[I 2022-05-10 12:52:31,044]\u001b[0m Trial 24 pruned. Trial was pruned at iteration 0.\u001b[0m\n",
      "\u001b[32m[I 2022-05-10 12:52:32,602]\u001b[0m Trial 25 pruned. Trial was pruned at iteration 0.\u001b[0m\n",
      "\u001b[32m[I 2022-05-10 12:52:34,788]\u001b[0m Trial 26 pruned. Trial was pruned at iteration 7.\u001b[0m\n",
      "\u001b[32m[I 2022-05-10 12:52:36,369]\u001b[0m Trial 27 pruned. Trial was pruned at iteration 0.\u001b[0m\n",
      "\u001b[32m[I 2022-05-10 12:52:37,917]\u001b[0m Trial 28 pruned. Trial was pruned at iteration 0.\u001b[0m\n",
      "\u001b[32m[I 2022-05-10 12:52:39,731]\u001b[0m Trial 29 pruned. Trial was pruned at iteration 0.\u001b[0m\n",
      "\u001b[32m[I 2022-05-10 12:52:41,254]\u001b[0m Trial 30 pruned. Trial was pruned at iteration 0.\u001b[0m\n",
      "\u001b[32m[I 2022-05-10 12:52:42,960]\u001b[0m Trial 31 pruned. Trial was pruned at iteration 1.\u001b[0m\n",
      "\u001b[32m[I 2022-05-10 12:52:44,733]\u001b[0m Trial 32 pruned. Trial was pruned at iteration 2.\u001b[0m\n",
      "\u001b[32m[I 2022-05-10 12:52:46,287]\u001b[0m Trial 33 pruned. Trial was pruned at iteration 0.\u001b[0m\n",
      "\u001b[32m[I 2022-05-10 12:52:47,824]\u001b[0m Trial 34 pruned. Trial was pruned at iteration 0.\u001b[0m\n",
      "\u001b[32m[I 2022-05-10 12:52:49,408]\u001b[0m Trial 35 pruned. Trial was pruned at iteration 0.\u001b[0m\n",
      "\u001b[32m[I 2022-05-10 12:52:51,216]\u001b[0m Trial 36 pruned. Trial was pruned at iteration 0.\u001b[0m\n",
      "\u001b[32m[I 2022-05-10 12:52:52,736]\u001b[0m Trial 37 pruned. Trial was pruned at iteration 0.\u001b[0m\n",
      "\u001b[32m[I 2022-05-10 12:52:54,258]\u001b[0m Trial 38 pruned. Trial was pruned at iteration 0.\u001b[0m\n",
      "\u001b[32m[I 2022-05-10 12:52:59,575]\u001b[0m Trial 39 pruned. Trial was pruned at iteration 334.\u001b[0m\n",
      "\u001b[32m[I 2022-05-10 12:53:02,024]\u001b[0m Trial 40 pruned. Trial was pruned at iteration 1.\u001b[0m\n",
      "\u001b[32m[I 2022-05-10 12:53:03,615]\u001b[0m Trial 41 pruned. Trial was pruned at iteration 0.\u001b[0m\n",
      "\u001b[32m[I 2022-05-10 12:53:05,152]\u001b[0m Trial 42 pruned. Trial was pruned at iteration 0.\u001b[0m\n",
      "\u001b[32m[I 2022-05-10 12:53:06,704]\u001b[0m Trial 43 pruned. Trial was pruned at iteration 0.\u001b[0m\n",
      "\u001b[32m[I 2022-05-10 12:53:08,252]\u001b[0m Trial 44 pruned. Trial was pruned at iteration 0.\u001b[0m\n",
      "\u001b[32m[I 2022-05-10 12:53:09,807]\u001b[0m Trial 45 pruned. Trial was pruned at iteration 0.\u001b[0m\n",
      "\u001b[32m[I 2022-05-10 12:53:11,381]\u001b[0m Trial 46 pruned. Trial was pruned at iteration 0.\u001b[0m\n",
      "\u001b[32m[I 2022-05-10 12:53:13,224]\u001b[0m Trial 47 pruned. Trial was pruned at iteration 0.\u001b[0m\n",
      "\u001b[32m[I 2022-05-10 12:53:14,743]\u001b[0m Trial 48 pruned. Trial was pruned at iteration 0.\u001b[0m\n",
      "\u001b[32m[I 2022-05-10 12:53:16,304]\u001b[0m Trial 49 pruned. Trial was pruned at iteration 0.\u001b[0m\n",
      "\u001b[32m[I 2022-05-10 12:53:18,932]\u001b[0m Trial 50 pruned. Trial was pruned at iteration 7.\u001b[0m\n",
      "\u001b[32m[I 2022-05-10 12:53:20,449]\u001b[0m Trial 51 pruned. Trial was pruned at iteration 0.\u001b[0m\n",
      "\u001b[32m[I 2022-05-10 12:53:21,971]\u001b[0m Trial 52 pruned. Trial was pruned at iteration 0.\u001b[0m\n",
      "\u001b[32m[I 2022-05-10 12:53:23,751]\u001b[0m Trial 53 pruned. Trial was pruned at iteration 0.\u001b[0m\n",
      "\u001b[32m[I 2022-05-10 12:53:25,270]\u001b[0m Trial 54 pruned. Trial was pruned at iteration 0.\u001b[0m\n",
      "\u001b[32m[I 2022-05-10 12:53:26,801]\u001b[0m Trial 55 pruned. Trial was pruned at iteration 0.\u001b[0m\n",
      "\u001b[32m[I 2022-05-10 12:53:28,320]\u001b[0m Trial 56 pruned. Trial was pruned at iteration 0.\u001b[0m\n",
      "\u001b[32m[I 2022-05-10 12:53:29,857]\u001b[0m Trial 57 pruned. Trial was pruned at iteration 0.\u001b[0m\n",
      "\u001b[32m[I 2022-05-10 12:53:31,550]\u001b[0m Trial 58 pruned. Trial was pruned at iteration 2.\u001b[0m\n",
      "\u001b[32m[I 2022-05-10 12:53:33,664]\u001b[0m Trial 59 pruned. Trial was pruned at iteration 0.\u001b[0m\n",
      "\u001b[32m[I 2022-05-10 12:53:35,697]\u001b[0m Trial 60 pruned. Trial was pruned at iteration 0.\u001b[0m\n",
      "\u001b[32m[I 2022-05-10 12:53:37,520]\u001b[0m Trial 61 pruned. Trial was pruned at iteration 2.\u001b[0m\n",
      "\u001b[32m[I 2022-05-10 12:54:17,376]\u001b[0m Trial 62 pruned. Trial was pruned at iteration 142.\u001b[0m\n",
      "\u001b[32m[I 2022-05-10 12:54:19,339]\u001b[0m Trial 63 pruned. Trial was pruned at iteration 1.\u001b[0m\n",
      "\u001b[32m[I 2022-05-10 12:54:21,880]\u001b[0m Trial 64 pruned. Trial was pruned at iteration 12.\u001b[0m\n",
      "\u001b[32m[I 2022-05-10 12:54:23,424]\u001b[0m Trial 65 pruned. Trial was pruned at iteration 0.\u001b[0m\n",
      "\u001b[32m[I 2022-05-10 12:54:25,103]\u001b[0m Trial 66 pruned. Trial was pruned at iteration 2.\u001b[0m\n",
      "\u001b[32m[I 2022-05-10 12:54:27,059]\u001b[0m Trial 67 pruned. Trial was pruned at iteration 6.\u001b[0m\n",
      "\u001b[32m[I 2022-05-10 12:54:28,599]\u001b[0m Trial 68 pruned. Trial was pruned at iteration 0.\u001b[0m\n",
      "\u001b[32m[I 2022-05-10 12:54:33,498]\u001b[0m Trial 69 pruned. Trial was pruned at iteration 174.\u001b[0m\n",
      "\u001b[32m[I 2022-05-10 12:54:35,019]\u001b[0m Trial 70 pruned. Trial was pruned at iteration 0.\u001b[0m\n",
      "\u001b[32m[I 2022-05-10 12:54:36,545]\u001b[0m Trial 71 pruned. Trial was pruned at iteration 0.\u001b[0m\n",
      "\u001b[32m[I 2022-05-10 12:54:38,670]\u001b[0m Trial 72 pruned. Trial was pruned at iteration 0.\u001b[0m\n",
      "\u001b[32m[I 2022-05-10 12:54:40,512]\u001b[0m Trial 73 pruned. Trial was pruned at iteration 0.\u001b[0m\n",
      "\u001b[32m[I 2022-05-10 12:55:49,366]\u001b[0m Trial 74 finished with value: 0.9890211615800975 and parameters: {'max_depth': 11, 'max_bin': 497, 'learning_rate': 0.15850193899392595, 'booster': 'gbtree', 'gamma': 0.2, 'min_child_weight': 49, 'max_delta_step': 7.0, 'subsample': 0.9, 'colsample_bytree': 0.95, 'colsample_bylevel': 0.7, 'colsample_bynode': 0.9, 'reg_alpha': 0.0015901912590753843, 'reg_lambda': 21.02972568645695}. Best is trial 74 with value: 0.9890211615800975.\u001b[0m\n",
      "\u001b[32m[I 2022-05-10 12:55:51,435]\u001b[0m Trial 75 pruned. Trial was pruned at iteration 7.\u001b[0m\n",
      "\u001b[32m[I 2022-05-10 12:55:53,430]\u001b[0m Trial 76 pruned. Trial was pruned at iteration 6.\u001b[0m\n",
      "\u001b[32m[I 2022-05-10 12:55:54,997]\u001b[0m Trial 77 pruned. Trial was pruned at iteration 0.\u001b[0m\n",
      "\u001b[32m[I 2022-05-10 12:55:56,791]\u001b[0m Trial 78 pruned. Trial was pruned at iteration 1.\u001b[0m\n",
      "\u001b[32m[I 2022-05-10 12:55:58,468]\u001b[0m Trial 79 pruned. Trial was pruned at iteration 0.\u001b[0m\n",
      "\u001b[32m[I 2022-05-10 12:56:13,032]\u001b[0m Trial 80 finished with value: 0.9853343108596337 and parameters: {'max_depth': 12, 'max_bin': 339, 'learning_rate': 0.1689068544133153, 'booster': 'gbtree', 'gamma': 3.7, 'min_child_weight': 25, 'max_delta_step': 6.0, 'subsample': 0.9, 'colsample_bytree': 0.8500000000000001, 'colsample_bylevel': 0.7, 'colsample_bynode': 0.8, 'reg_alpha': 0.0006865657933974647, 'reg_lambda': 0.23824958683970937}. Best is trial 74 with value: 0.9890211615800975.\u001b[0m\n",
      "\u001b[32m[I 2022-05-10 12:56:30,124]\u001b[0m Trial 81 finished with value: 0.9855830020219445 and parameters: {'max_depth': 12, 'max_bin': 335, 'learning_rate': 0.17641937982337877, 'booster': 'gbtree', 'gamma': 3.7, 'min_child_weight': 23, 'max_delta_step': 6.0, 'subsample': 0.9, 'colsample_bytree': 0.8, 'colsample_bylevel': 0.7, 'colsample_bynode': 0.8, 'reg_alpha': 0.0006917876805376675, 'reg_lambda': 0.18778731952688948}. Best is trial 74 with value: 0.9890211615800975.\u001b[0m\n",
      "\u001b[32m[I 2022-05-10 12:56:42,744]\u001b[0m Trial 82 pruned. Trial was pruned at iteration 688.\u001b[0m\n",
      "\u001b[32m[I 2022-05-10 12:56:44,932]\u001b[0m Trial 83 pruned. Trial was pruned at iteration 7.\u001b[0m\n",
      "\u001b[32m[I 2022-05-10 12:56:46,522]\u001b[0m Trial 84 pruned. Trial was pruned at iteration 0.\u001b[0m\n",
      "\u001b[32m[I 2022-05-10 12:57:18,684]\u001b[0m Trial 85 finished with value: 0.9867608544360379 and parameters: {'max_depth': 12, 'max_bin': 384, 'learning_rate': 0.18798787174327083, 'booster': 'gbtree', 'gamma': 3.3000000000000003, 'min_child_weight': 22, 'max_delta_step': 5.5, 'subsample': 0.65, 'colsample_bytree': 0.8500000000000001, 'colsample_bylevel': 0.65, 'colsample_bynode': 0.8, 'reg_alpha': 0.0030447039655298823, 'reg_lambda': 0.015531967246968342}. Best is trial 74 with value: 0.9890211615800975.\u001b[0m\n",
      "\u001b[32m[I 2022-05-10 12:58:02,225]\u001b[0m Trial 86 finished with value: 0.9872396299023174 and parameters: {'max_depth': 12, 'max_bin': 387, 'learning_rate': 0.18810309178496212, 'booster': 'gbtree', 'gamma': 3.2, 'min_child_weight': 27, 'max_delta_step': 5.5, 'subsample': 0.65, 'colsample_bytree': 0.9, 'colsample_bylevel': 0.65, 'colsample_bynode': 0.8500000000000001, 'reg_alpha': 0.0037125709865791197, 'reg_lambda': 0.016832542787602198}. Best is trial 74 with value: 0.9890211615800975.\u001b[0m\n",
      "\u001b[32m[I 2022-05-10 12:58:34,372]\u001b[0m Trial 87 pruned. Trial was pruned at iteration 3808.\u001b[0m\n",
      "\u001b[32m[I 2022-05-10 12:58:42,923]\u001b[0m Trial 88 pruned. Trial was pruned at iteration 366.\u001b[0m\n",
      "\u001b[32m[I 2022-05-10 12:59:10,463]\u001b[0m Trial 89 finished with value: 0.9870902481693812 and parameters: {'max_depth': 12, 'max_bin': 367, 'learning_rate': 0.18706800261691134, 'booster': 'gbtree', 'gamma': 2.3000000000000003, 'min_child_weight': 33, 'max_delta_step': 5.5, 'subsample': 0.6, 'colsample_bytree': 0.95, 'colsample_bylevel': 0.65, 'colsample_bynode': 0.8500000000000001, 'reg_alpha': 0.01769419204427696, 'reg_lambda': 0.0032755758979142384}. Best is trial 74 with value: 0.9890211615800975.\u001b[0m\n",
      "\u001b[32m[I 2022-05-10 12:59:12,772]\u001b[0m Trial 90 pruned. Trial was pruned at iteration 8.\u001b[0m\n",
      "\u001b[32m[I 2022-05-10 12:59:49,420]\u001b[0m Trial 91 finished with value: 0.9877637167883513 and parameters: {'max_depth': 12, 'max_bin': 346, 'learning_rate': 0.18648383365420343, 'booster': 'gbtree', 'gamma': 2.2, 'min_child_weight': 17, 'max_delta_step': 6.0, 'subsample': 0.55, 'colsample_bytree': 0.95, 'colsample_bylevel': 0.7, 'colsample_bynode': 0.8, 'reg_alpha': 0.015946121207991708, 'reg_lambda': 0.0027827983279193396}. Best is trial 74 with value: 0.9890211615800975.\u001b[0m\n",
      "\u001b[32m[I 2022-05-10 13:00:17,001]\u001b[0m Trial 92 finished with value: 0.9865636855867037 and parameters: {'max_depth': 12, 'max_bin': 363, 'learning_rate': 0.1872420796663333, 'booster': 'gbtree', 'gamma': 2.5000000000000004, 'min_child_weight': 34, 'max_delta_step': 6.0, 'subsample': 0.55, 'colsample_bytree': 0.95, 'colsample_bylevel': 0.7, 'colsample_bynode': 0.8500000000000001, 'reg_alpha': 0.010323201711136426, 'reg_lambda': 0.0020418367142316426}. Best is trial 74 with value: 0.9890211615800975.\u001b[0m\n",
      "\u001b[32m[I 2022-05-10 13:00:46,478]\u001b[0m Trial 93 finished with value: 0.9870232942796179 and parameters: {'max_depth': 12, 'max_bin': 360, 'learning_rate': 0.18780153505578712, 'booster': 'gbtree', 'gamma': 3.7, 'min_child_weight': 28, 'max_delta_step': 5.5, 'subsample': 0.55, 'colsample_bytree': 0.95, 'colsample_bylevel': 0.7, 'colsample_bynode': 0.8500000000000001, 'reg_alpha': 0.011958001934643492, 'reg_lambda': 0.001917393466549561}. Best is trial 74 with value: 0.9890211615800975.\u001b[0m\n",
      "\u001b[32m[I 2022-05-10 13:01:17,625]\u001b[0m Trial 94 finished with value: 0.98662809916474 and parameters: {'max_depth': 12, 'max_bin': 364, 'learning_rate': 0.18686844866838134, 'booster': 'gbtree', 'gamma': 2.3000000000000003, 'min_child_weight': 40, 'max_delta_step': 5.5, 'subsample': 0.55, 'colsample_bytree': 0.95, 'colsample_bylevel': 0.7, 'colsample_bynode': 0.8500000000000001, 'reg_alpha': 0.01341335841637629, 'reg_lambda': 0.002277672128095396}. Best is trial 74 with value: 0.9890211615800975.\u001b[0m\n",
      "\u001b[32m[I 2022-05-10 13:01:19,404]\u001b[0m Trial 95 pruned. Trial was pruned at iteration 2.\u001b[0m\n",
      "\u001b[32m[I 2022-05-10 13:01:22,828]\u001b[0m Trial 96 pruned. Trial was pruned at iteration 23.\u001b[0m\n",
      "\u001b[32m[I 2022-05-10 13:01:29,413]\u001b[0m Trial 97 pruned. Trial was pruned at iteration 165.\u001b[0m\n",
      "\u001b[32m[I 2022-05-10 13:01:31,170]\u001b[0m Trial 98 pruned. Trial was pruned at iteration 2.\u001b[0m\n",
      "\u001b[32m[I 2022-05-10 13:01:33,625]\u001b[0m Trial 99 pruned. Trial was pruned at iteration 10.\u001b[0m\n"
     ]
    }
   ],
   "source": [
    "best_params, best_value = tune_hyperparameters(\n",
    "    base_params=base_params,\n",
    "    data=(xtrain, xval, ytrain, yval),\n",
    "    n_trials=100)"
   ]
  },
  {
   "cell_type": "code",
   "execution_count": 19,
   "id": "251c0060",
   "metadata": {
    "execution": {
     "iopub.execute_input": "2022-05-10T13:01:33.916009Z",
     "iopub.status.busy": "2022-05-10T13:01:33.915744Z",
     "iopub.status.idle": "2022-05-10T13:01:33.924058Z",
     "shell.execute_reply": "2022-05-10T13:01:33.923049Z"
    },
    "papermill": {
     "duration": 0.070783,
     "end_time": "2022-05-10T13:01:33.925827",
     "exception": false,
     "start_time": "2022-05-10T13:01:33.855044",
     "status": "completed"
    },
    "tags": []
   },
   "outputs": [
    {
     "name": "stdout",
     "output_type": "stream",
     "text": [
      "Best AUC: 0.98902\n",
      "Best params:\n",
      "\tmax_depth: 11\n",
      "\tmax_bin: 497\n",
      "\tlearning_rate: 0.15850193899392595\n",
      "\tbooster: gbtree\n",
      "\tgamma: 0.2\n",
      "\tmin_child_weight: 49\n",
      "\tmax_delta_step: 7.0\n",
      "\tsubsample: 0.9\n",
      "\tcolsample_bytree: 0.95\n",
      "\tcolsample_bylevel: 0.7\n",
      "\tcolsample_bynode: 0.9\n",
      "\treg_alpha: 0.0015901912590753843\n",
      "\treg_lambda: 21.02972568645695\n"
     ]
    }
   ],
   "source": [
    "print(f'Best AUC: {best_value:.5f}')\n",
    "print('Best params:')\n",
    "for key, value in best_params.items():\n",
    "    print(f'\\t{key}: {value}')"
   ]
  },
  {
   "cell_type": "code",
   "execution_count": 20,
   "id": "da26d516",
   "metadata": {
    "execution": {
     "iopub.execute_input": "2022-05-10T13:01:34.048892Z",
     "iopub.status.busy": "2022-05-10T13:01:34.048448Z",
     "iopub.status.idle": "2022-05-10T13:01:34.052605Z",
     "shell.execute_reply": "2022-05-10T13:01:34.051759Z"
    },
    "papermill": {
     "duration": 0.069002,
     "end_time": "2022-05-10T13:01:34.054704",
     "exception": false,
     "start_time": "2022-05-10T13:01:33.985702",
     "status": "completed"
    },
    "tags": []
   },
   "outputs": [],
   "source": [
    "model_params = dict(base_params, **best_params)"
   ]
  },
  {
   "cell_type": "markdown",
   "id": "dc3a78bf",
   "metadata": {
    "papermill": {
     "duration": 0.060089,
     "end_time": "2022-05-10T13:01:34.174744",
     "exception": false,
     "start_time": "2022-05-10T13:01:34.114655",
     "status": "completed"
    },
    "tags": []
   },
   "source": [
    "# Cross-validation"
   ]
  },
  {
   "cell_type": "code",
   "execution_count": 21,
   "id": "adc8c26e",
   "metadata": {
    "execution": {
     "iopub.execute_input": "2022-05-10T13:01:34.295966Z",
     "iopub.status.busy": "2022-05-10T13:01:34.295545Z",
     "iopub.status.idle": "2022-05-10T13:01:34.308243Z",
     "shell.execute_reply": "2022-05-10T13:01:34.307509Z"
    },
    "papermill": {
     "duration": 0.07548,
     "end_time": "2022-05-10T13:01:34.309960",
     "exception": false,
     "start_time": "2022-05-10T13:01:34.234480",
     "status": "completed"
    },
    "tags": []
   },
   "outputs": [],
   "source": [
    "def evaluate_model(train, test, features, model_params, n_splits=5):\n",
    "    \n",
    "    oof_proba = {} #probability predictions\n",
    "    test_proba = []\n",
    "    oof_pred = {} #class predictions\n",
    "    test_pred = []\n",
    "    cv_scores = []\n",
    "    \n",
    "    cv_start = time.time()\n",
    "    for fold in range(n_splits):\n",
    "        xtrain = train[train['fold'] != fold].reset_index(drop=True)\n",
    "        ytrain = xtrain[TARGET]\n",
    "\n",
    "        xval = train[train['fold'] == fold].reset_index(drop=True)\n",
    "        yval = xval[TARGET]\n",
    "        val_idx = xval.index.to_list()\n",
    "\n",
    "        fold_start = time.time()\n",
    "\n",
    "        model = xgb.XGBClassifier(**model_params)\n",
    "        \n",
    "        model.fit(\n",
    "            xtrain[features], ytrain,\n",
    "            eval_set=[(xval[features], yval)], \n",
    "            verbose=False)\n",
    "\n",
    "        val_pred = model.predict(xval[features])\n",
    "        oof_pred.update(dict(zip(val_idx, val_pred)))\n",
    "        val_proba = model.predict_proba(xval[features])[:, 1]\n",
    "        oof_proba.update(dict(zip(val_idx, val_proba)))        \n",
    "\n",
    "        score = roc_auc_score(yval, val_proba)\n",
    "        cv_scores.append(score)\n",
    "\n",
    "        fold_end = time.time()\n",
    "\n",
    "        print(f'Fold #{fold}: AUC = {score:.5f} \\\n",
    "        [Time: {fold_end - fold_start:.2f}s]')\n",
    "        \n",
    "        test_pred.append(model.predict(test[features]))\n",
    "        test_proba.append(model.predict_proba(test[features])[:, 1])\n",
    "        \n",
    "    cv_end = time.time()\n",
    "\n",
    "    print(f'Average AUC = {np.mean(cv_scores):.5f} \\\n",
    "    with std. dev. = {np.std(cv_scores):.5f}')\n",
    "    print(f'[Total time: {cv_end - cv_start:.2f}s]')\n",
    "\n",
    "    oof_pred = pd.DataFrame.from_dict(oof_pred, orient='index').reset_index()\n",
    "    oof_proba = pd.DataFrame.from_dict(oof_proba, orient='index').reset_index()\n",
    "    \n",
    "    test_pred = mode(np.column_stack(test_pred), axis=1).mode\n",
    "    test_proba = np.mean(np.column_stack(test_proba), axis=1)\n",
    "    \n",
    "    return oof_pred, oof_proba, test_pred, test_proba"
   ]
  },
  {
   "cell_type": "code",
   "execution_count": 22,
   "id": "c178db5c",
   "metadata": {
    "execution": {
     "iopub.execute_input": "2022-05-10T13:01:34.430788Z",
     "iopub.status.busy": "2022-05-10T13:01:34.430530Z",
     "iopub.status.idle": "2022-05-10T13:14:43.096615Z",
     "shell.execute_reply": "2022-05-10T13:14:43.095822Z"
    },
    "papermill": {
     "duration": 788.729236,
     "end_time": "2022-05-10T13:14:43.098961",
     "exception": false,
     "start_time": "2022-05-10T13:01:34.369725",
     "status": "completed"
    },
    "tags": []
   },
   "outputs": [
    {
     "name": "stdout",
     "output_type": "stream",
     "text": [
      "Fold #0: AUC = 0.98905         [Time: 81.06s]\n",
      "Fold #1: AUC = 0.98941         [Time: 78.89s]\n",
      "Fold #2: AUC = 0.98919         [Time: 58.82s]\n",
      "Fold #3: AUC = 0.98915         [Time: 61.97s]\n",
      "Fold #4: AUC = 0.98888         [Time: 60.34s]\n",
      "Average AUC = 0.98914     with std. dev. = 0.00017\n",
      "[Total time: 769.30s]\n"
     ]
    }
   ],
   "source": [
    "oof_pred, oof_proba, test_pred, test_proba = evaluate_model(train, test, features, model_params)"
   ]
  },
  {
   "cell_type": "markdown",
   "id": "ad406383",
   "metadata": {
    "papermill": {
     "duration": 0.063505,
     "end_time": "2022-05-10T13:14:43.227889",
     "exception": false,
     "start_time": "2022-05-10T13:14:43.164384",
     "status": "completed"
    },
    "tags": []
   },
   "source": [
    "# Submission"
   ]
  },
  {
   "cell_type": "code",
   "execution_count": 23,
   "id": "8a7939ff",
   "metadata": {
    "execution": {
     "iopub.execute_input": "2022-05-10T13:14:43.355751Z",
     "iopub.status.busy": "2022-05-10T13:14:43.355129Z",
     "iopub.status.idle": "2022-05-10T13:14:43.362903Z",
     "shell.execute_reply": "2022-05-10T13:14:43.362092Z"
    },
    "papermill": {
     "duration": 0.074282,
     "end_time": "2022-05-10T13:14:43.365339",
     "exception": false,
     "start_time": "2022-05-10T13:14:43.291057",
     "status": "completed"
    },
    "tags": []
   },
   "outputs": [],
   "source": [
    "xgb_pred = pd.DataFrame({\n",
    "        'id': test.id,\n",
    "        'target': test_pred.ravel()\n",
    "    })"
   ]
  },
  {
   "cell_type": "code",
   "execution_count": 24,
   "id": "6e9d0f71",
   "metadata": {
    "execution": {
     "iopub.execute_input": "2022-05-10T13:14:43.502797Z",
     "iopub.status.busy": "2022-05-10T13:14:43.502096Z",
     "iopub.status.idle": "2022-05-10T13:14:45.243129Z",
     "shell.execute_reply": "2022-05-10T13:14:45.242153Z"
    },
    "papermill": {
     "duration": 1.811331,
     "end_time": "2022-05-10T13:14:45.245373",
     "exception": false,
     "start_time": "2022-05-10T13:14:43.434042",
     "status": "completed"
    },
    "tags": []
   },
   "outputs": [
    {
     "name": "stdout",
     "output_type": "stream",
     "text": [
      "id,target\r\n",
      "900000,1\r\n",
      "900001,1\r\n",
      "900002,0\r\n",
      "900003,0\r\n",
      "900004,1\r\n",
      "900005,0\r\n",
      "900006,0\r\n",
      "900007,1\r\n",
      "900008,0\r\n"
     ]
    }
   ],
   "source": [
    "xgb_pred.to_csv('xgb_pred.csv', index=False)\n",
    "!head xgb_pred.csv"
   ]
  },
  {
   "cell_type": "code",
   "execution_count": 25,
   "id": "d342f546",
   "metadata": {
    "execution": {
     "iopub.execute_input": "2022-05-10T13:14:45.379937Z",
     "iopub.status.busy": "2022-05-10T13:14:45.379121Z",
     "iopub.status.idle": "2022-05-10T13:14:45.387923Z",
     "shell.execute_reply": "2022-05-10T13:14:45.387243Z"
    },
    "papermill": {
     "duration": 0.074811,
     "end_time": "2022-05-10T13:14:45.390038",
     "exception": false,
     "start_time": "2022-05-10T13:14:45.315227",
     "status": "completed"
    },
    "tags": []
   },
   "outputs": [],
   "source": [
    "xgb_proba = pd.DataFrame({\n",
    "        'id': test.id,\n",
    "        'target': test_proba\n",
    "    })"
   ]
  },
  {
   "cell_type": "code",
   "execution_count": 26,
   "id": "d2a3cf40",
   "metadata": {
    "execution": {
     "iopub.execute_input": "2022-05-10T13:14:45.516843Z",
     "iopub.status.busy": "2022-05-10T13:14:45.516287Z",
     "iopub.status.idle": "2022-05-10T13:14:47.898654Z",
     "shell.execute_reply": "2022-05-10T13:14:47.897778Z"
    },
    "papermill": {
     "duration": 2.447523,
     "end_time": "2022-05-10T13:14:47.900946",
     "exception": false,
     "start_time": "2022-05-10T13:14:45.453423",
     "status": "completed"
    },
    "tags": []
   },
   "outputs": [
    {
     "name": "stdout",
     "output_type": "stream",
     "text": [
      "id,target\r\n",
      "900000,0.9988767\r\n",
      "900001,0.9995184\r\n",
      "900002,4.094732e-06\r\n",
      "900003,0.022790318\r\n",
      "900004,0.9985714\r\n",
      "900005,0.082466796\r\n",
      "900006,0.29355544\r\n",
      "900007,0.9999982\r\n",
      "900008,0.19217673\r\n"
     ]
    }
   ],
   "source": [
    "xgb_proba.to_csv('xgb_proba.csv', index=False)\n",
    "!head xgb_proba.csv"
   ]
  },
  {
   "cell_type": "markdown",
   "id": "83a4e721",
   "metadata": {
    "papermill": {
     "duration": 0.063563,
     "end_time": "2022-05-10T13:14:48.026462",
     "exception": false,
     "start_time": "2022-05-10T13:14:47.962899",
     "status": "completed"
    },
    "tags": []
   },
   "source": [
    "**Time to submit!**"
   ]
  }
 ],
 "metadata": {
  "hide_input": false,
  "kernelspec": {
   "display_name": "Python 3 (ipykernel)",
   "language": "python",
   "name": "python3"
  },
  "language_info": {
   "codemirror_mode": {
    "name": "ipython",
    "version": 3
   },
   "file_extension": ".py",
   "mimetype": "text/x-python",
   "name": "python",
   "nbconvert_exporter": "python",
   "pygments_lexer": "ipython3",
   "version": "3.9.7"
  },
  "nbTranslate": {
   "displayLangs": [
    "en",
    "pt-br"
   ],
   "hotkey": "",
   "langInMainMenu": true,
   "sourceLang": "en",
   "targetLang": "pt-br",
   "useGoogleTranslate": true
  },
  "papermill": {
   "default_parameters": {},
   "duration": 1868.635952,
   "end_time": "2022-05-10T13:14:49.516712",
   "environment_variables": {},
   "exception": null,
   "input_path": "__notebook__.ipynb",
   "output_path": "__notebook__.ipynb",
   "parameters": {},
   "start_time": "2022-05-10T12:43:40.880760",
   "version": "2.3.4"
  },
  "toc": {
   "base_numbering": 1,
   "nav_menu": {},
   "number_sections": true,
   "sideBar": true,
   "skip_h1_title": false,
   "title_cell": "Table of Contents",
   "title_sidebar": "Contents",
   "toc_cell": true,
   "toc_position": {},
   "toc_section_display": true,
   "toc_window_display": false
  }
 },
 "nbformat": 4,
 "nbformat_minor": 5
}
