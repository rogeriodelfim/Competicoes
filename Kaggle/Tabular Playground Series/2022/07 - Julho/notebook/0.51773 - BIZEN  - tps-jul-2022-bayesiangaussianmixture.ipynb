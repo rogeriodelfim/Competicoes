{
 "cells": [
  {
   "cell_type": "code",
   "execution_count": 1,
   "id": "5d06f27e",
   "metadata": {
    "_cell_guid": "b1076dfc-b9ad-4769-8c92-a6c4dae69d19",
    "_uuid": "8f2839f25d086af736a60e9eeb907d3b93b6e0e5",
    "execution": {
     "iopub.execute_input": "2022-07-03T01:07:45.948067Z",
     "iopub.status.busy": "2022-07-03T01:07:45.947609Z",
     "iopub.status.idle": "2022-07-03T01:07:47.455236Z",
     "shell.execute_reply": "2022-07-03T01:07:47.454046Z"
    },
    "papermill": {
     "duration": 1.516243,
     "end_time": "2022-07-03T01:07:47.458157",
     "exception": false,
     "start_time": "2022-07-03T01:07:45.941914",
     "status": "completed"
    },
    "tags": []
   },
   "outputs": [],
   "source": [
    "import pandas as pd\n",
    "import numpy as np\n",
    "\n",
    "from sklearn.preprocessing import RobustScaler\n",
    "from sklearn.mixture import BayesianGaussianMixture\n",
    "\n",
    "import warnings\n",
    "warnings.simplefilter('ignore')"
   ]
  },
  {
   "cell_type": "code",
   "execution_count": 2,
   "id": "c86015de",
   "metadata": {
    "execution": {
     "iopub.execute_input": "2022-07-03T01:07:47.466468Z",
     "iopub.status.busy": "2022-07-03T01:07:47.465553Z",
     "iopub.status.idle": "2022-07-03T01:07:47.471235Z",
     "shell.execute_reply": "2022-07-03T01:07:47.470172Z"
    },
    "papermill": {
     "duration": 0.012114,
     "end_time": "2022-07-03T01:07:47.473449",
     "exception": false,
     "start_time": "2022-07-03T01:07:47.461335",
     "status": "completed"
    },
    "tags": []
   },
   "outputs": [],
   "source": [
    "class CFG:\n",
    "    path = \"../input/tabular-playground-series-jul-2022/\"\n",
    "    seed = 42\n",
    "    drop_columns = ['id']\n",
    "    scaler = RobustScaler()\n",
    "    n_components = 7\n",
    "    n_init = 50"
   ]
  },
  {
   "cell_type": "code",
   "execution_count": 3,
   "id": "d1dcc2db",
   "metadata": {
    "execution": {
     "iopub.execute_input": "2022-07-03T01:07:47.481024Z",
     "iopub.status.busy": "2022-07-03T01:07:47.480421Z",
     "iopub.status.idle": "2022-07-03T01:07:48.801769Z",
     "shell.execute_reply": "2022-07-03T01:07:48.800434Z"
    },
    "papermill": {
     "duration": 1.327793,
     "end_time": "2022-07-03T01:07:48.804158",
     "exception": false,
     "start_time": "2022-07-03T01:07:47.476365",
     "status": "completed"
    },
    "tags": []
   },
   "outputs": [
    {
     "data": {
      "text/plain": [
       "(98000, 29)"
      ]
     },
     "execution_count": 3,
     "metadata": {},
     "output_type": "execute_result"
    }
   ],
   "source": [
    "df = pd.read_csv(CFG.path + \"data.csv\").drop(columns=CFG.drop_columns)\n",
    "df.shape"
   ]
  },
  {
   "cell_type": "code",
   "execution_count": 4,
   "id": "3e782a09",
   "metadata": {
    "execution": {
     "iopub.execute_input": "2022-07-03T01:07:48.812104Z",
     "iopub.status.busy": "2022-07-03T01:07:48.811282Z",
     "iopub.status.idle": "2022-07-03T01:07:48.839004Z",
     "shell.execute_reply": "2022-07-03T01:07:48.837748Z"
    },
    "papermill": {
     "duration": 0.034488,
     "end_time": "2022-07-03T01:07:48.841711",
     "exception": false,
     "start_time": "2022-07-03T01:07:48.807223",
     "status": "completed"
    },
    "tags": []
   },
   "outputs": [
    {
     "name": "stdout",
     "output_type": "stream",
     "text": [
      "<class 'pandas.core.frame.DataFrame'>\n",
      "RangeIndex: 98000 entries, 0 to 97999\n",
      "Data columns (total 29 columns):\n",
      " #   Column  Non-Null Count  Dtype  \n",
      "---  ------  --------------  -----  \n",
      " 0   f_00    98000 non-null  float64\n",
      " 1   f_01    98000 non-null  float64\n",
      " 2   f_02    98000 non-null  float64\n",
      " 3   f_03    98000 non-null  float64\n",
      " 4   f_04    98000 non-null  float64\n",
      " 5   f_05    98000 non-null  float64\n",
      " 6   f_06    98000 non-null  float64\n",
      " 7   f_07    98000 non-null  int64  \n",
      " 8   f_08    98000 non-null  int64  \n",
      " 9   f_09    98000 non-null  int64  \n",
      " 10  f_10    98000 non-null  int64  \n",
      " 11  f_11    98000 non-null  int64  \n",
      " 12  f_12    98000 non-null  int64  \n",
      " 13  f_13    98000 non-null  int64  \n",
      " 14  f_14    98000 non-null  float64\n",
      " 15  f_15    98000 non-null  float64\n",
      " 16  f_16    98000 non-null  float64\n",
      " 17  f_17    98000 non-null  float64\n",
      " 18  f_18    98000 non-null  float64\n",
      " 19  f_19    98000 non-null  float64\n",
      " 20  f_20    98000 non-null  float64\n",
      " 21  f_21    98000 non-null  float64\n",
      " 22  f_22    98000 non-null  float64\n",
      " 23  f_23    98000 non-null  float64\n",
      " 24  f_24    98000 non-null  float64\n",
      " 25  f_25    98000 non-null  float64\n",
      " 26  f_26    98000 non-null  float64\n",
      " 27  f_27    98000 non-null  float64\n",
      " 28  f_28    98000 non-null  float64\n",
      "dtypes: float64(22), int64(7)\n",
      "memory usage: 21.7 MB\n"
     ]
    }
   ],
   "source": [
    "df.info()"
   ]
  },
  {
   "cell_type": "code",
   "execution_count": 5,
   "id": "10783364",
   "metadata": {
    "execution": {
     "iopub.execute_input": "2022-07-03T01:07:48.849888Z",
     "iopub.status.busy": "2022-07-03T01:07:48.849489Z",
     "iopub.status.idle": "2022-07-03T02:03:51.118850Z",
     "shell.execute_reply": "2022-07-03T02:03:51.117443Z"
    },
    "papermill": {
     "duration": 3362.278111,
     "end_time": "2022-07-03T02:03:51.123070",
     "exception": false,
     "start_time": "2022-07-03T01:07:48.844959",
     "status": "completed"
    },
    "tags": []
   },
   "outputs": [],
   "source": [
    "X_scaled = CFG.scaler.fit_transform(df)\n",
    "\n",
    "bgm = BayesianGaussianMixture(\n",
    "    n_components=CFG.n_components,\n",
    "    covariance_type='full',\n",
    "    n_init=CFG.n_init,\n",
    "    random_state=CFG.seed)\n",
    "\n",
    "preds = bgm.fit_predict(X_scaled)"
   ]
  },
  {
   "cell_type": "markdown",
   "id": "8df8d5fe",
   "metadata": {
    "papermill": {
     "duration": 0.005164,
     "end_time": "2022-07-03T02:03:51.134640",
     "exception": false,
     "start_time": "2022-07-03T02:03:51.129476",
     "status": "completed"
    },
    "tags": []
   },
   "source": [
    "# Submission"
   ]
  },
  {
   "cell_type": "code",
   "execution_count": 6,
   "id": "a2380ced",
   "metadata": {
    "execution": {
     "iopub.execute_input": "2022-07-03T02:03:51.148266Z",
     "iopub.status.busy": "2022-07-03T02:03:51.147281Z",
     "iopub.status.idle": "2022-07-03T02:03:51.361853Z",
     "shell.execute_reply": "2022-07-03T02:03:51.359068Z"
    },
    "papermill": {
     "duration": 0.224659,
     "end_time": "2022-07-03T02:03:51.364855",
     "exception": false,
     "start_time": "2022-07-03T02:03:51.140196",
     "status": "completed"
    },
    "tags": []
   },
   "outputs": [
    {
     "data": {
      "text/html": [
       "<div>\n",
       "<style scoped>\n",
       "    .dataframe tbody tr th:only-of-type {\n",
       "        vertical-align: middle;\n",
       "    }\n",
       "\n",
       "    .dataframe tbody tr th {\n",
       "        vertical-align: top;\n",
       "    }\n",
       "\n",
       "    .dataframe thead th {\n",
       "        text-align: right;\n",
       "    }\n",
       "</style>\n",
       "<table border=\"1\" class=\"dataframe\">\n",
       "  <thead>\n",
       "    <tr style=\"text-align: right;\">\n",
       "      <th></th>\n",
       "      <th>Id</th>\n",
       "      <th>Predicted</th>\n",
       "    </tr>\n",
       "  </thead>\n",
       "  <tbody>\n",
       "    <tr>\n",
       "      <th>0</th>\n",
       "      <td>0</td>\n",
       "      <td>6</td>\n",
       "    </tr>\n",
       "    <tr>\n",
       "      <th>1</th>\n",
       "      <td>1</td>\n",
       "      <td>3</td>\n",
       "    </tr>\n",
       "    <tr>\n",
       "      <th>2</th>\n",
       "      <td>2</td>\n",
       "      <td>6</td>\n",
       "    </tr>\n",
       "    <tr>\n",
       "      <th>3</th>\n",
       "      <td>3</td>\n",
       "      <td>5</td>\n",
       "    </tr>\n",
       "    <tr>\n",
       "      <th>4</th>\n",
       "      <td>4</td>\n",
       "      <td>0</td>\n",
       "    </tr>\n",
       "    <tr>\n",
       "      <th>...</th>\n",
       "      <td>...</td>\n",
       "      <td>...</td>\n",
       "    </tr>\n",
       "    <tr>\n",
       "      <th>97995</th>\n",
       "      <td>97995</td>\n",
       "      <td>3</td>\n",
       "    </tr>\n",
       "    <tr>\n",
       "      <th>97996</th>\n",
       "      <td>97996</td>\n",
       "      <td>0</td>\n",
       "    </tr>\n",
       "    <tr>\n",
       "      <th>97997</th>\n",
       "      <td>97997</td>\n",
       "      <td>2</td>\n",
       "    </tr>\n",
       "    <tr>\n",
       "      <th>97998</th>\n",
       "      <td>97998</td>\n",
       "      <td>2</td>\n",
       "    </tr>\n",
       "    <tr>\n",
       "      <th>97999</th>\n",
       "      <td>97999</td>\n",
       "      <td>4</td>\n",
       "    </tr>\n",
       "  </tbody>\n",
       "</table>\n",
       "<p>98000 rows × 2 columns</p>\n",
       "</div>"
      ],
      "text/plain": [
       "          Id  Predicted\n",
       "0          0          6\n",
       "1          1          3\n",
       "2          2          6\n",
       "3          3          5\n",
       "4          4          0\n",
       "...      ...        ...\n",
       "97995  97995          3\n",
       "97996  97996          0\n",
       "97997  97997          2\n",
       "97998  97998          2\n",
       "97999  97999          4\n",
       "\n",
       "[98000 rows x 2 columns]"
      ]
     },
     "execution_count": 6,
     "metadata": {},
     "output_type": "execute_result"
    }
   ],
   "source": [
    "submission = pd.read_csv(CFG.path + \"sample_submission.csv\")\n",
    "submission[\"Predicted\"] = preds\n",
    "submission.to_csv('submission.csv', index=False)\n",
    "\n",
    "submission"
   ]
  },
  {
   "cell_type": "code",
   "execution_count": null,
   "id": "32603a5a",
   "metadata": {
    "papermill": {
     "duration": 0.003262,
     "end_time": "2022-07-03T02:03:51.371995",
     "exception": false,
     "start_time": "2022-07-03T02:03:51.368733",
     "status": "completed"
    },
    "tags": []
   },
   "outputs": [],
   "source": []
  }
 ],
 "metadata": {
  "kernelspec": {
   "display_name": "Python 3",
   "language": "python",
   "name": "python3"
  },
  "language_info": {
   "codemirror_mode": {
    "name": "ipython",
    "version": 3
   },
   "file_extension": ".py",
   "mimetype": "text/x-python",
   "name": "python",
   "nbconvert_exporter": "python",
   "pygments_lexer": "ipython3",
   "version": "3.7.12"
  },
  "papermill": {
   "default_parameters": {},
   "duration": 3376.309757,
   "end_time": "2022-07-03T02:03:52.103845",
   "environment_variables": {},
   "exception": null,
   "input_path": "__notebook__.ipynb",
   "output_path": "__notebook__.ipynb",
   "parameters": {},
   "start_time": "2022-07-03T01:07:35.794088",
   "version": "2.3.4"
  }
 },
 "nbformat": 4,
 "nbformat_minor": 5
}
