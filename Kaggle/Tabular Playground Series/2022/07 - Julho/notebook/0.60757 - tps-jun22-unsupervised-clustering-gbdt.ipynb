{
 "cells": [
  {
   "cell_type": "markdown",
   "id": "602e4253",
   "metadata": {
    "papermill": {
     "duration": 0.010159,
     "end_time": "2022-07-17T01:58:44.800273",
     "exception": false,
     "start_time": "2022-07-17T01:58:44.790114",
     "status": "completed"
    },
    "tags": []
   },
   "source": [
    "# 🔥 TPS-JUN22 Unsupervised Clustering + GBDT\n",
    "Hello Kaggle After a few days off from the competition.\n",
    "\n",
    "I saw multiple **Notebooks** using **Classification** models to enhance the predictions provided by the Clustering Algorithm; It took me a while to understand the technique due to majority of the **Notebooks** and **Code** don't have good documentation, in this **Notebbook** I will explain to my best how this type of technique works.\n",
    "\n",
    "**This will be the strategy will follow on this Notebook:**\n",
    "\n",
    "* Loading all the information available, and quickly explore it.\n",
    "* We identify the Clusters using a Clustering Algortihm (Bayesian Gaussian Mixture).\n",
    "* We create a sumset of the dataset, based on the Clusters with the highest probability to be that cluster (Greather than 80%).\n",
    "* We build a ML model passing the high probability records and the cluster number as the target.\n",
    "* We predict the cluster based on the new trained model predictions (GBTD or Other).\n",
    "\n",
    "\n",
    "**Credits and References:**\n",
    "* https://www.kaggle.com/code/adaubas/tps-jul22-lgbm-extratree-qda-soft-voting/notebook?scriptVersionId=100798978\n",
    "* https://www.kaggle.com/code/cv13j0/tps-jun22-unsupervised-clustering-with-keras\n",
    "* ..."
   ]
  },
  {
   "cell_type": "code",
   "execution_count": 1,
   "id": "a3196417",
   "metadata": {
    "_cell_guid": "b1076dfc-b9ad-4769-8c92-a6c4dae69d19",
    "_uuid": "8f2839f25d086af736a60e9eeb907d3b93b6e0e5",
    "execution": {
     "iopub.execute_input": "2022-07-17T01:58:44.820086Z",
     "iopub.status.busy": "2022-07-17T01:58:44.819396Z",
     "iopub.status.idle": "2022-07-17T01:58:44.833977Z",
     "shell.execute_reply": "2022-07-17T01:58:44.832921Z"
    },
    "papermill": {
     "duration": 0.027418,
     "end_time": "2022-07-17T01:58:44.836619",
     "exception": false,
     "start_time": "2022-07-17T01:58:44.809201",
     "status": "completed"
    },
    "tags": []
   },
   "outputs": [
    {
     "name": "stdout",
     "output_type": "stream",
     "text": [
      "/kaggle/input/tabular-playground-series-jul-2022/sample_submission.csv\n",
      "/kaggle/input/tabular-playground-series-jul-2022/data.csv\n"
     ]
    }
   ],
   "source": [
    "# This Python 3 environment comes with many helpful analytics libraries installed\n",
    "# It is defined by the kaggle/python Docker image: https://github.com/kaggle/docker-python\n",
    "# For example, here's several helpful packages to load\n",
    "\n",
    "import numpy as np # linear algebra\n",
    "import pandas as pd # data processing, CSV file I/O (e.g. pd.read_csv)\n",
    "\n",
    "# Input data files are available in the read-only \"../input/\" directory\n",
    "# For example, running this (by clicking run or pressing Shift+Enter) will list all files under the input directory\n",
    "\n",
    "import os\n",
    "for dirname, _, filenames in os.walk('/kaggle/input'):\n",
    "    for filename in filenames:\n",
    "        print(os.path.join(dirname, filename))\n",
    "\n",
    "# You can write up to 20GB to the current directory (/kaggle/working/) that gets preserved as output when you create a version using \"Save & Run All\" \n",
    "# You can also write temporary files to /kaggle/temp/, but they won't be saved outside of the current session"
   ]
  },
  {
   "cell_type": "code",
   "execution_count": 2,
   "id": "3d33933d",
   "metadata": {
    "execution": {
     "iopub.execute_input": "2022-07-17T01:58:44.856711Z",
     "iopub.status.busy": "2022-07-17T01:58:44.855804Z",
     "iopub.status.idle": "2022-07-17T01:58:47.117729Z",
     "shell.execute_reply": "2022-07-17T01:58:47.116383Z"
    },
    "papermill": {
     "duration": 2.275227,
     "end_time": "2022-07-17T01:58:47.120868",
     "exception": false,
     "start_time": "2022-07-17T01:58:44.845641",
     "status": "completed"
    },
    "tags": []
   },
   "outputs": [
    {
     "data": {
      "text/html": [
       "<style type='text/css'>\n",
       ".datatable table.frame { margin-bottom: 0; }\n",
       ".datatable table.frame thead { border-bottom: none; }\n",
       ".datatable table.frame tr.coltypes td {  color: #FFFFFF;  line-height: 6px;  padding: 0 0.5em;}\n",
       ".datatable .bool    { background: #DDDD99; }\n",
       ".datatable .object  { background: #565656; }\n",
       ".datatable .int     { background: #5D9E5D; }\n",
       ".datatable .float   { background: #4040CC; }\n",
       ".datatable .str     { background: #CC4040; }\n",
       ".datatable .time    { background: #40CC40; }\n",
       ".datatable .row_index {  background: var(--jp-border-color3);  border-right: 1px solid var(--jp-border-color0);  color: var(--jp-ui-font-color3);  font-size: 9px;}\n",
       ".datatable .frame tbody td { text-align: left; }\n",
       ".datatable .frame tr.coltypes .row_index {  background: var(--jp-border-color0);}\n",
       ".datatable th:nth-child(2) { padding-left: 12px; }\n",
       ".datatable .hellipsis {  color: var(--jp-cell-editor-border-color);}\n",
       ".datatable .vellipsis {  background: var(--jp-layout-color0);  color: var(--jp-cell-editor-border-color);}\n",
       ".datatable .na {  color: var(--jp-cell-editor-border-color);  font-size: 80%;}\n",
       ".datatable .sp {  opacity: 0.25;}\n",
       ".datatable .footer { font-size: 9px; }\n",
       ".datatable .frame_dimensions {  background: var(--jp-border-color3);  border-top: 1px solid var(--jp-border-color0);  color: var(--jp-ui-font-color3);  display: inline-block;  opacity: 0.6;  padding: 1px 10px 1px 5px;}\n",
       "</style>\n"
      ],
      "text/plain": [
       "<IPython.core.display.HTML object>"
      ]
     },
     "metadata": {},
     "output_type": "display_data"
    },
    {
     "name": "stdout",
     "output_type": "stream",
     "text": [
      "CPU times: user 1.26 s, sys: 468 ms, total: 1.73 s\n",
      "Wall time: 2.25 s\n"
     ]
    }
   ],
   "source": [
    "%%time\n",
    "# Model Libraries for K-Means\n",
    "from sklearn.cluster import KMeans\n",
    "from sklearn import metrics\n",
    "from sklearn.decomposition import PCA\n",
    "from sklearn.mixture import GaussianMixture, BayesianGaussianMixture\n",
    "from sklearn.model_selection import StratifiedKFold\n",
    "from sklearn.metrics import balanced_accuracy_score, roc_auc_score\n",
    "from sklearn.ensemble import ExtraTreesClassifier\n",
    "\n",
    "from sklearn.preprocessing import StandardScaler, RobustScaler, PowerTransformer\n",
    "\n",
    "# Scientific Libraries for Calculations\n",
    "from scipy.spatial.distance import cdist\n",
    "\n",
    "# Visualization Libraries\n",
    "import matplotlib.pyplot as plt\n",
    "import seaborn as sns\n",
    "\n",
    "# Import Machine Learning Model\n",
    "import lightgbm as lgb"
   ]
  },
  {
   "cell_type": "code",
   "execution_count": 3,
   "id": "ddca1807",
   "metadata": {
    "execution": {
     "iopub.execute_input": "2022-07-17T01:58:47.141921Z",
     "iopub.status.busy": "2022-07-17T01:58:47.141548Z",
     "iopub.status.idle": "2022-07-17T01:58:47.147489Z",
     "shell.execute_reply": "2022-07-17T01:58:47.146399Z"
    },
    "papermill": {
     "duration": 0.019218,
     "end_time": "2022-07-17T01:58:47.149973",
     "exception": false,
     "start_time": "2022-07-17T01:58:47.130755",
     "status": "completed"
    },
    "tags": []
   },
   "outputs": [
    {
     "name": "stdout",
     "output_type": "stream",
     "text": [
      "CPU times: user 34 µs, sys: 6 µs, total: 40 µs\n",
      "Wall time: 44.3 µs\n"
     ]
    }
   ],
   "source": [
    "%%time\n",
    "# I like to disable my Notebook Warnings To Reduce Noice.\n",
    "import warnings\n",
    "warnings.filterwarnings('ignore')"
   ]
  },
  {
   "cell_type": "code",
   "execution_count": 4,
   "id": "e418d5ca",
   "metadata": {
    "execution": {
     "iopub.execute_input": "2022-07-17T01:58:47.169927Z",
     "iopub.status.busy": "2022-07-17T01:58:47.169539Z",
     "iopub.status.idle": "2022-07-17T01:58:47.176548Z",
     "shell.execute_reply": "2022-07-17T01:58:47.175052Z"
    },
    "papermill": {
     "duration": 0.019689,
     "end_time": "2022-07-17T01:58:47.178742",
     "exception": false,
     "start_time": "2022-07-17T01:58:47.159053",
     "status": "completed"
    },
    "tags": []
   },
   "outputs": [
    {
     "name": "stdout",
     "output_type": "stream",
     "text": [
      "CPU times: user 4 µs, sys: 1e+03 ns, total: 5 µs\n",
      "Wall time: 7.39 µs\n"
     ]
    }
   ],
   "source": [
    "%%time\n",
    "# Notebook Configuration...\n",
    "\n",
    "# Amount of data we want to load into the Model...\n",
    "DATA_ROWS = None\n",
    "# Dataframe, the amount of rows and cols to visualize...\n",
    "NROWS = 25\n",
    "NCOLS = 20\n",
    "# Main data location path...\n",
    "BASE_PATH = '...'"
   ]
  },
  {
   "cell_type": "code",
   "execution_count": 5,
   "id": "67e6ddd2",
   "metadata": {
    "execution": {
     "iopub.execute_input": "2022-07-17T01:58:47.198981Z",
     "iopub.status.busy": "2022-07-17T01:58:47.198642Z",
     "iopub.status.idle": "2022-07-17T01:58:47.204534Z",
     "shell.execute_reply": "2022-07-17T01:58:47.203401Z"
    },
    "papermill": {
     "duration": 0.019332,
     "end_time": "2022-07-17T01:58:47.207198",
     "exception": false,
     "start_time": "2022-07-17T01:58:47.187866",
     "status": "completed"
    },
    "tags": []
   },
   "outputs": [
    {
     "name": "stdout",
     "output_type": "stream",
     "text": [
      "CPU times: user 72 µs, sys: 13 µs, total: 85 µs\n",
      "Wall time: 89.2 µs\n"
     ]
    }
   ],
   "source": [
    "%%time\n",
    "# Configure notebook display settings to only use 2 decimal places, tables look nicer.\n",
    "pd.options.display.float_format = '{:,.2f}'.format\n",
    "pd.set_option('display.max_columns', NCOLS) \n",
    "pd.set_option('display.max_rows', NROWS)"
   ]
  },
  {
   "cell_type": "code",
   "execution_count": 6,
   "id": "e15fb5f4",
   "metadata": {
    "execution": {
     "iopub.execute_input": "2022-07-17T01:58:47.228147Z",
     "iopub.status.busy": "2022-07-17T01:58:47.227785Z",
     "iopub.status.idle": "2022-07-17T01:58:48.604705Z",
     "shell.execute_reply": "2022-07-17T01:58:48.603901Z"
    },
    "papermill": {
     "duration": 1.391609,
     "end_time": "2022-07-17T01:58:48.608403",
     "exception": false,
     "start_time": "2022-07-17T01:58:47.216794",
     "status": "completed"
    },
    "tags": []
   },
   "outputs": [
    {
     "name": "stdout",
     "output_type": "stream",
     "text": [
      "CPU times: user 703 ms, sys: 86.4 ms, total: 790 ms\n",
      "Wall time: 1.37 s\n"
     ]
    }
   ],
   "source": [
    "%%time\n",
    "# Placeholder, Describe Code...\n",
    "dataset = pd.read_csv('/kaggle/input/tabular-playground-series-jul-2022/data.csv')\n",
    "submission = pd.read_csv(\"../input/tabular-playground-series-jul-2022/sample_submission.csv\")"
   ]
  },
  {
   "cell_type": "code",
   "execution_count": 7,
   "id": "658dcba1",
   "metadata": {
    "execution": {
     "iopub.execute_input": "2022-07-17T01:58:48.629991Z",
     "iopub.status.busy": "2022-07-17T01:58:48.629119Z",
     "iopub.status.idle": "2022-07-17T01:58:48.653951Z",
     "shell.execute_reply": "2022-07-17T01:58:48.652767Z"
    },
    "papermill": {
     "duration": 0.03878,
     "end_time": "2022-07-17T01:58:48.657092",
     "exception": false,
     "start_time": "2022-07-17T01:58:48.618312",
     "status": "completed"
    },
    "tags": []
   },
   "outputs": [
    {
     "name": "stdout",
     "output_type": "stream",
     "text": [
      "<class 'pandas.core.frame.DataFrame'>\n",
      "RangeIndex: 98000 entries, 0 to 97999\n",
      "Columns: 30 entries, id to f_28\n",
      "dtypes: float64(22), int64(8)\n",
      "memory usage: 22.4 MB\n",
      "CPU times: user 7.82 ms, sys: 1.12 ms, total: 8.94 ms\n",
      "Wall time: 18.2 ms\n"
     ]
    }
   ],
   "source": [
    "%%time\n",
    "# Placeholder, Describe Code...\n",
    "dataset.info(verbose = False)"
   ]
  },
  {
   "cell_type": "code",
   "execution_count": 8,
   "id": "138fd00f",
   "metadata": {
    "execution": {
     "iopub.execute_input": "2022-07-17T01:58:48.679003Z",
     "iopub.status.busy": "2022-07-17T01:58:48.678232Z",
     "iopub.status.idle": "2022-07-17T01:58:48.705018Z",
     "shell.execute_reply": "2022-07-17T01:58:48.703823Z"
    },
    "papermill": {
     "duration": 0.040353,
     "end_time": "2022-07-17T01:58:48.707737",
     "exception": false,
     "start_time": "2022-07-17T01:58:48.667384",
     "status": "completed"
    },
    "tags": []
   },
   "outputs": [
    {
     "name": "stdout",
     "output_type": "stream",
     "text": [
      "CPU times: user 113 µs, sys: 19 µs, total: 132 µs\n",
      "Wall time: 137 µs\n"
     ]
    },
    {
     "data": {
      "text/html": [
       "<div>\n",
       "<style scoped>\n",
       "    .dataframe tbody tr th:only-of-type {\n",
       "        vertical-align: middle;\n",
       "    }\n",
       "\n",
       "    .dataframe tbody tr th {\n",
       "        vertical-align: top;\n",
       "    }\n",
       "\n",
       "    .dataframe thead th {\n",
       "        text-align: right;\n",
       "    }\n",
       "</style>\n",
       "<table border=\"1\" class=\"dataframe\">\n",
       "  <thead>\n",
       "    <tr style=\"text-align: right;\">\n",
       "      <th></th>\n",
       "      <th>id</th>\n",
       "      <th>f_00</th>\n",
       "      <th>f_01</th>\n",
       "      <th>f_02</th>\n",
       "      <th>f_03</th>\n",
       "      <th>f_04</th>\n",
       "      <th>f_05</th>\n",
       "      <th>f_06</th>\n",
       "      <th>f_07</th>\n",
       "      <th>f_08</th>\n",
       "      <th>...</th>\n",
       "      <th>f_19</th>\n",
       "      <th>f_20</th>\n",
       "      <th>f_21</th>\n",
       "      <th>f_22</th>\n",
       "      <th>f_23</th>\n",
       "      <th>f_24</th>\n",
       "      <th>f_25</th>\n",
       "      <th>f_26</th>\n",
       "      <th>f_27</th>\n",
       "      <th>f_28</th>\n",
       "    </tr>\n",
       "  </thead>\n",
       "  <tbody>\n",
       "    <tr>\n",
       "      <th>0</th>\n",
       "      <td>0</td>\n",
       "      <td>-0.39</td>\n",
       "      <td>-0.91</td>\n",
       "      <td>0.65</td>\n",
       "      <td>0.59</td>\n",
       "      <td>-0.83</td>\n",
       "      <td>0.73</td>\n",
       "      <td>2.26</td>\n",
       "      <td>2</td>\n",
       "      <td>13</td>\n",
       "      <td>...</td>\n",
       "      <td>-0.48</td>\n",
       "      <td>-0.76</td>\n",
       "      <td>-0.76</td>\n",
       "      <td>-1.09</td>\n",
       "      <td>1.14</td>\n",
       "      <td>-0.88</td>\n",
       "      <td>1.14</td>\n",
       "      <td>1.31</td>\n",
       "      <td>1.46</td>\n",
       "      <td>0.81</td>\n",
       "    </tr>\n",
       "    <tr>\n",
       "      <th>1</th>\n",
       "      <td>1</td>\n",
       "      <td>-0.69</td>\n",
       "      <td>-0.45</td>\n",
       "      <td>0.65</td>\n",
       "      <td>1.00</td>\n",
       "      <td>-1.65</td>\n",
       "      <td>0.86</td>\n",
       "      <td>-0.09</td>\n",
       "      <td>2</td>\n",
       "      <td>3</td>\n",
       "      <td>...</td>\n",
       "      <td>-0.43</td>\n",
       "      <td>-0.09</td>\n",
       "      <td>-1.78</td>\n",
       "      <td>-0.84</td>\n",
       "      <td>0.46</td>\n",
       "      <td>1.76</td>\n",
       "      <td>-0.28</td>\n",
       "      <td>-0.85</td>\n",
       "      <td>0.56</td>\n",
       "      <td>-2.68</td>\n",
       "    </tr>\n",
       "    <tr>\n",
       "      <th>2</th>\n",
       "      <td>2</td>\n",
       "      <td>0.81</td>\n",
       "      <td>0.32</td>\n",
       "      <td>-1.17</td>\n",
       "      <td>-0.62</td>\n",
       "      <td>0.11</td>\n",
       "      <td>0.78</td>\n",
       "      <td>1.99</td>\n",
       "      <td>5</td>\n",
       "      <td>11</td>\n",
       "      <td>...</td>\n",
       "      <td>-0.41</td>\n",
       "      <td>-1.60</td>\n",
       "      <td>1.19</td>\n",
       "      <td>3.27</td>\n",
       "      <td>-0.09</td>\n",
       "      <td>-2.17</td>\n",
       "      <td>-0.97</td>\n",
       "      <td>1.34</td>\n",
       "      <td>-1.11</td>\n",
       "      <td>-3.63</td>\n",
       "    </tr>\n",
       "    <tr>\n",
       "      <th>3</th>\n",
       "      <td>3</td>\n",
       "      <td>-0.50</td>\n",
       "      <td>0.23</td>\n",
       "      <td>0.26</td>\n",
       "      <td>0.23</td>\n",
       "      <td>0.42</td>\n",
       "      <td>-1.22</td>\n",
       "      <td>0.14</td>\n",
       "      <td>6</td>\n",
       "      <td>2</td>\n",
       "      <td>...</td>\n",
       "      <td>0.62</td>\n",
       "      <td>1.29</td>\n",
       "      <td>0.53</td>\n",
       "      <td>1.04</td>\n",
       "      <td>-2.04</td>\n",
       "      <td>1.44</td>\n",
       "      <td>-1.90</td>\n",
       "      <td>-0.63</td>\n",
       "      <td>-0.05</td>\n",
       "      <td>0.24</td>\n",
       "    </tr>\n",
       "    <tr>\n",
       "      <th>4</th>\n",
       "      <td>4</td>\n",
       "      <td>-0.67</td>\n",
       "      <td>-1.04</td>\n",
       "      <td>-0.27</td>\n",
       "      <td>-1.83</td>\n",
       "      <td>-0.29</td>\n",
       "      <td>-1.85</td>\n",
       "      <td>0.78</td>\n",
       "      <td>8</td>\n",
       "      <td>7</td>\n",
       "      <td>...</td>\n",
       "      <td>-1.63</td>\n",
       "      <td>-0.43</td>\n",
       "      <td>0.32</td>\n",
       "      <td>0.28</td>\n",
       "      <td>-2.44</td>\n",
       "      <td>1.47</td>\n",
       "      <td>-1.04</td>\n",
       "      <td>1.60</td>\n",
       "      <td>-0.41</td>\n",
       "      <td>-1.99</td>\n",
       "    </tr>\n",
       "  </tbody>\n",
       "</table>\n",
       "<p>5 rows × 30 columns</p>\n",
       "</div>"
      ],
      "text/plain": [
       "   id  f_00  f_01  f_02  f_03  f_04  f_05  f_06  f_07  f_08  ...  f_19  f_20  \\\n",
       "0   0 -0.39 -0.91  0.65  0.59 -0.83  0.73  2.26     2    13  ... -0.48 -0.76   \n",
       "1   1 -0.69 -0.45  0.65  1.00 -1.65  0.86 -0.09     2     3  ... -0.43 -0.09   \n",
       "2   2  0.81  0.32 -1.17 -0.62  0.11  0.78  1.99     5    11  ... -0.41 -1.60   \n",
       "3   3 -0.50  0.23  0.26  0.23  0.42 -1.22  0.14     6     2  ...  0.62  1.29   \n",
       "4   4 -0.67 -1.04 -0.27 -1.83 -0.29 -1.85  0.78     8     7  ... -1.63 -0.43   \n",
       "\n",
       "   f_21  f_22  f_23  f_24  f_25  f_26  f_27  f_28  \n",
       "0 -0.76 -1.09  1.14 -0.88  1.14  1.31  1.46  0.81  \n",
       "1 -1.78 -0.84  0.46  1.76 -0.28 -0.85  0.56 -2.68  \n",
       "2  1.19  3.27 -0.09 -2.17 -0.97  1.34 -1.11 -3.63  \n",
       "3  0.53  1.04 -2.04  1.44 -1.90 -0.63 -0.05  0.24  \n",
       "4  0.32  0.28 -2.44  1.47 -1.04  1.60 -0.41 -1.99  \n",
       "\n",
       "[5 rows x 30 columns]"
      ]
     },
     "execution_count": 8,
     "metadata": {},
     "output_type": "execute_result"
    }
   ],
   "source": [
    "%%time\n",
    "# Placeholder, Describe Code...\n",
    "dataset.head()"
   ]
  },
  {
   "cell_type": "code",
   "execution_count": 9,
   "id": "74f571cc",
   "metadata": {
    "execution": {
     "iopub.execute_input": "2022-07-17T01:58:48.729814Z",
     "iopub.status.busy": "2022-07-17T01:58:48.728616Z",
     "iopub.status.idle": "2022-07-17T01:58:48.928369Z",
     "shell.execute_reply": "2022-07-17T01:58:48.926965Z"
    },
    "papermill": {
     "duration": 0.213235,
     "end_time": "2022-07-17T01:58:48.930918",
     "exception": false,
     "start_time": "2022-07-17T01:58:48.717683",
     "status": "completed"
    },
    "tags": []
   },
   "outputs": [
    {
     "name": "stdout",
     "output_type": "stream",
     "text": [
      "CPU times: user 175 ms, sys: 1.27 ms, total: 177 ms\n",
      "Wall time: 177 ms\n"
     ]
    },
    {
     "data": {
      "text/html": [
       "<div>\n",
       "<style scoped>\n",
       "    .dataframe tbody tr th:only-of-type {\n",
       "        vertical-align: middle;\n",
       "    }\n",
       "\n",
       "    .dataframe tbody tr th {\n",
       "        vertical-align: top;\n",
       "    }\n",
       "\n",
       "    .dataframe thead th {\n",
       "        text-align: right;\n",
       "    }\n",
       "</style>\n",
       "<table border=\"1\" class=\"dataframe\">\n",
       "  <thead>\n",
       "    <tr style=\"text-align: right;\">\n",
       "      <th></th>\n",
       "      <th>id</th>\n",
       "      <th>f_00</th>\n",
       "      <th>f_01</th>\n",
       "      <th>f_02</th>\n",
       "      <th>f_03</th>\n",
       "      <th>f_04</th>\n",
       "      <th>f_05</th>\n",
       "      <th>f_06</th>\n",
       "      <th>f_07</th>\n",
       "      <th>f_08</th>\n",
       "      <th>...</th>\n",
       "      <th>f_19</th>\n",
       "      <th>f_20</th>\n",
       "      <th>f_21</th>\n",
       "      <th>f_22</th>\n",
       "      <th>f_23</th>\n",
       "      <th>f_24</th>\n",
       "      <th>f_25</th>\n",
       "      <th>f_26</th>\n",
       "      <th>f_27</th>\n",
       "      <th>f_28</th>\n",
       "    </tr>\n",
       "  </thead>\n",
       "  <tbody>\n",
       "    <tr>\n",
       "      <th>count</th>\n",
       "      <td>98,000.00</td>\n",
       "      <td>98,000.00</td>\n",
       "      <td>98,000.00</td>\n",
       "      <td>98,000.00</td>\n",
       "      <td>98,000.00</td>\n",
       "      <td>98,000.00</td>\n",
       "      <td>98,000.00</td>\n",
       "      <td>98,000.00</td>\n",
       "      <td>98,000.00</td>\n",
       "      <td>98,000.00</td>\n",
       "      <td>...</td>\n",
       "      <td>98,000.00</td>\n",
       "      <td>98,000.00</td>\n",
       "      <td>98,000.00</td>\n",
       "      <td>98,000.00</td>\n",
       "      <td>98,000.00</td>\n",
       "      <td>98,000.00</td>\n",
       "      <td>98,000.00</td>\n",
       "      <td>98,000.00</td>\n",
       "      <td>98,000.00</td>\n",
       "      <td>98,000.00</td>\n",
       "    </tr>\n",
       "    <tr>\n",
       "      <th>mean</th>\n",
       "      <td>48,999.50</td>\n",
       "      <td>0.00</td>\n",
       "      <td>0.01</td>\n",
       "      <td>-0.00</td>\n",
       "      <td>-0.00</td>\n",
       "      <td>-0.00</td>\n",
       "      <td>-0.00</td>\n",
       "      <td>-0.00</td>\n",
       "      <td>5.55</td>\n",
       "      <td>6.76</td>\n",
       "      <td>...</td>\n",
       "      <td>-0.00</td>\n",
       "      <td>-0.00</td>\n",
       "      <td>-0.00</td>\n",
       "      <td>-0.04</td>\n",
       "      <td>-0.22</td>\n",
       "      <td>0.17</td>\n",
       "      <td>-0.06</td>\n",
       "      <td>-0.06</td>\n",
       "      <td>0.10</td>\n",
       "      <td>-0.23</td>\n",
       "    </tr>\n",
       "    <tr>\n",
       "      <th>std</th>\n",
       "      <td>28,290.31</td>\n",
       "      <td>1.00</td>\n",
       "      <td>1.00</td>\n",
       "      <td>1.00</td>\n",
       "      <td>1.00</td>\n",
       "      <td>1.00</td>\n",
       "      <td>1.00</td>\n",
       "      <td>1.00</td>\n",
       "      <td>3.69</td>\n",
       "      <td>4.15</td>\n",
       "      <td>...</td>\n",
       "      <td>1.00</td>\n",
       "      <td>1.00</td>\n",
       "      <td>1.00</td>\n",
       "      <td>1.48</td>\n",
       "      <td>1.49</td>\n",
       "      <td>1.54</td>\n",
       "      <td>1.58</td>\n",
       "      <td>1.43</td>\n",
       "      <td>1.31</td>\n",
       "      <td>1.53</td>\n",
       "    </tr>\n",
       "    <tr>\n",
       "      <th>min</th>\n",
       "      <td>0.00</td>\n",
       "      <td>-4.73</td>\n",
       "      <td>-4.20</td>\n",
       "      <td>-4.38</td>\n",
       "      <td>-4.01</td>\n",
       "      <td>-4.54</td>\n",
       "      <td>-4.30</td>\n",
       "      <td>-4.89</td>\n",
       "      <td>0.00</td>\n",
       "      <td>0.00</td>\n",
       "      <td>...</td>\n",
       "      <td>-4.89</td>\n",
       "      <td>-4.73</td>\n",
       "      <td>-4.44</td>\n",
       "      <td>-6.87</td>\n",
       "      <td>-8.23</td>\n",
       "      <td>-7.79</td>\n",
       "      <td>-6.59</td>\n",
       "      <td>-7.38</td>\n",
       "      <td>-7.34</td>\n",
       "      <td>-6.95</td>\n",
       "    </tr>\n",
       "    <tr>\n",
       "      <th>25%</th>\n",
       "      <td>24,499.75</td>\n",
       "      <td>-0.68</td>\n",
       "      <td>-0.67</td>\n",
       "      <td>-0.67</td>\n",
       "      <td>-0.67</td>\n",
       "      <td>-0.68</td>\n",
       "      <td>-0.68</td>\n",
       "      <td>-0.68</td>\n",
       "      <td>3.00</td>\n",
       "      <td>4.00</td>\n",
       "      <td>...</td>\n",
       "      <td>-0.68</td>\n",
       "      <td>-0.68</td>\n",
       "      <td>-0.68</td>\n",
       "      <td>-1.02</td>\n",
       "      <td>-1.20</td>\n",
       "      <td>-0.90</td>\n",
       "      <td>-1.13</td>\n",
       "      <td>-0.98</td>\n",
       "      <td>-0.75</td>\n",
       "      <td>-1.26</td>\n",
       "    </tr>\n",
       "    <tr>\n",
       "      <th>50%</th>\n",
       "      <td>48,999.50</td>\n",
       "      <td>0.00</td>\n",
       "      <td>0.01</td>\n",
       "      <td>-0.00</td>\n",
       "      <td>-0.00</td>\n",
       "      <td>-0.00</td>\n",
       "      <td>0.00</td>\n",
       "      <td>-0.00</td>\n",
       "      <td>5.00</td>\n",
       "      <td>6.00</td>\n",
       "      <td>...</td>\n",
       "      <td>-0.00</td>\n",
       "      <td>-0.00</td>\n",
       "      <td>0.00</td>\n",
       "      <td>-0.06</td>\n",
       "      <td>-0.22</td>\n",
       "      <td>0.17</td>\n",
       "      <td>-0.10</td>\n",
       "      <td>-0.07</td>\n",
       "      <td>0.08</td>\n",
       "      <td>-0.27</td>\n",
       "    </tr>\n",
       "    <tr>\n",
       "      <th>75%</th>\n",
       "      <td>73,499.25</td>\n",
       "      <td>0.68</td>\n",
       "      <td>0.68</td>\n",
       "      <td>0.68</td>\n",
       "      <td>0.67</td>\n",
       "      <td>0.68</td>\n",
       "      <td>0.67</td>\n",
       "      <td>0.67</td>\n",
       "      <td>8.00</td>\n",
       "      <td>9.00</td>\n",
       "      <td>...</td>\n",
       "      <td>0.67</td>\n",
       "      <td>0.68</td>\n",
       "      <td>0.68</td>\n",
       "      <td>0.93</td>\n",
       "      <td>0.76</td>\n",
       "      <td>1.22</td>\n",
       "      <td>0.99</td>\n",
       "      <td>0.84</td>\n",
       "      <td>0.93</td>\n",
       "      <td>0.77</td>\n",
       "    </tr>\n",
       "    <tr>\n",
       "      <th>max</th>\n",
       "      <td>97,999.00</td>\n",
       "      <td>4.49</td>\n",
       "      <td>4.32</td>\n",
       "      <td>4.56</td>\n",
       "      <td>4.40</td>\n",
       "      <td>4.05</td>\n",
       "      <td>4.71</td>\n",
       "      <td>4.00</td>\n",
       "      <td>32.00</td>\n",
       "      <td>30.00</td>\n",
       "      <td>...</td>\n",
       "      <td>4.56</td>\n",
       "      <td>4.40</td>\n",
       "      <td>4.14</td>\n",
       "      <td>6.52</td>\n",
       "      <td>6.05</td>\n",
       "      <td>7.53</td>\n",
       "      <td>7.54</td>\n",
       "      <td>7.01</td>\n",
       "      <td>7.21</td>\n",
       "      <td>6.98</td>\n",
       "    </tr>\n",
       "  </tbody>\n",
       "</table>\n",
       "<p>8 rows × 30 columns</p>\n",
       "</div>"
      ],
      "text/plain": [
       "             id      f_00      f_01      f_02      f_03      f_04      f_05  \\\n",
       "count 98,000.00 98,000.00 98,000.00 98,000.00 98,000.00 98,000.00 98,000.00   \n",
       "mean  48,999.50      0.00      0.01     -0.00     -0.00     -0.00     -0.00   \n",
       "std   28,290.31      1.00      1.00      1.00      1.00      1.00      1.00   \n",
       "min        0.00     -4.73     -4.20     -4.38     -4.01     -4.54     -4.30   \n",
       "25%   24,499.75     -0.68     -0.67     -0.67     -0.67     -0.68     -0.68   \n",
       "50%   48,999.50      0.00      0.01     -0.00     -0.00     -0.00      0.00   \n",
       "75%   73,499.25      0.68      0.68      0.68      0.67      0.68      0.67   \n",
       "max   97,999.00      4.49      4.32      4.56      4.40      4.05      4.71   \n",
       "\n",
       "           f_06      f_07      f_08  ...      f_19      f_20      f_21  \\\n",
       "count 98,000.00 98,000.00 98,000.00  ... 98,000.00 98,000.00 98,000.00   \n",
       "mean      -0.00      5.55      6.76  ...     -0.00     -0.00     -0.00   \n",
       "std        1.00      3.69      4.15  ...      1.00      1.00      1.00   \n",
       "min       -4.89      0.00      0.00  ...     -4.89     -4.73     -4.44   \n",
       "25%       -0.68      3.00      4.00  ...     -0.68     -0.68     -0.68   \n",
       "50%       -0.00      5.00      6.00  ...     -0.00     -0.00      0.00   \n",
       "75%        0.67      8.00      9.00  ...      0.67      0.68      0.68   \n",
       "max        4.00     32.00     30.00  ...      4.56      4.40      4.14   \n",
       "\n",
       "           f_22      f_23      f_24      f_25      f_26      f_27      f_28  \n",
       "count 98,000.00 98,000.00 98,000.00 98,000.00 98,000.00 98,000.00 98,000.00  \n",
       "mean      -0.04     -0.22      0.17     -0.06     -0.06      0.10     -0.23  \n",
       "std        1.48      1.49      1.54      1.58      1.43      1.31      1.53  \n",
       "min       -6.87     -8.23     -7.79     -6.59     -7.38     -7.34     -6.95  \n",
       "25%       -1.02     -1.20     -0.90     -1.13     -0.98     -0.75     -1.26  \n",
       "50%       -0.06     -0.22      0.17     -0.10     -0.07      0.08     -0.27  \n",
       "75%        0.93      0.76      1.22      0.99      0.84      0.93      0.77  \n",
       "max        6.52      6.05      7.53      7.54      7.01      7.21      6.98  \n",
       "\n",
       "[8 rows x 30 columns]"
      ]
     },
     "execution_count": 9,
     "metadata": {},
     "output_type": "execute_result"
    }
   ],
   "source": [
    "%%time\n",
    "# Placeholder, Describe Code...\n",
    "dataset.describe()"
   ]
  },
  {
   "cell_type": "code",
   "execution_count": 10,
   "id": "c03f1bfd",
   "metadata": {
    "execution": {
     "iopub.execute_input": "2022-07-17T01:58:48.954659Z",
     "iopub.status.busy": "2022-07-17T01:58:48.954234Z",
     "iopub.status.idle": "2022-07-17T01:58:49.069223Z",
     "shell.execute_reply": "2022-07-17T01:58:49.067703Z"
    },
    "papermill": {
     "duration": 0.129757,
     "end_time": "2022-07-17T01:58:49.071633",
     "exception": false,
     "start_time": "2022-07-17T01:58:48.941876",
     "status": "completed"
    },
    "tags": []
   },
   "outputs": [
    {
     "name": "stdout",
     "output_type": "stream",
     "text": [
      "CPU times: user 105 ms, sys: 0 ns, total: 105 ms\n",
      "Wall time: 105 ms\n"
     ]
    },
    {
     "data": {
      "text/plain": [
       "id      98000\n",
       "f_00    98000\n",
       "f_01    98000\n",
       "f_02    98000\n",
       "f_03    98000\n",
       "        ...  \n",
       "f_24    98000\n",
       "f_25    98000\n",
       "f_26    98000\n",
       "f_27    98000\n",
       "f_28    98000\n",
       "Length: 30, dtype: int64"
      ]
     },
     "execution_count": 10,
     "metadata": {},
     "output_type": "execute_result"
    }
   ],
   "source": [
    "%%time\n",
    "# Placeholder, Describe Code...\n",
    "dataset.nunique()"
   ]
  },
  {
   "cell_type": "code",
   "execution_count": 11,
   "id": "3fec5890",
   "metadata": {
    "execution": {
     "iopub.execute_input": "2022-07-17T01:58:49.095118Z",
     "iopub.status.busy": "2022-07-17T01:58:49.094321Z",
     "iopub.status.idle": "2022-07-17T01:58:49.109827Z",
     "shell.execute_reply": "2022-07-17T01:58:49.108440Z"
    },
    "papermill": {
     "duration": 0.03042,
     "end_time": "2022-07-17T01:58:49.112633",
     "exception": false,
     "start_time": "2022-07-17T01:58:49.082213",
     "status": "completed"
    },
    "tags": []
   },
   "outputs": [
    {
     "name": "stdout",
     "output_type": "stream",
     "text": [
      "CPU times: user 7.58 ms, sys: 0 ns, total: 7.58 ms\n",
      "Wall time: 6.78 ms\n"
     ]
    },
    {
     "data": {
      "text/plain": [
       "0"
      ]
     },
     "execution_count": 11,
     "metadata": {},
     "output_type": "execute_result"
    }
   ],
   "source": [
    "%%time\n",
    "# Placeholder, Describe Code...\n",
    "dataset.isnull().sum().sum()"
   ]
  },
  {
   "cell_type": "code",
   "execution_count": 12,
   "id": "2d2d126a",
   "metadata": {
    "execution": {
     "iopub.execute_input": "2022-07-17T01:58:49.135961Z",
     "iopub.status.busy": "2022-07-17T01:58:49.135590Z",
     "iopub.status.idle": "2022-07-17T01:58:49.151218Z",
     "shell.execute_reply": "2022-07-17T01:58:49.149490Z"
    },
    "papermill": {
     "duration": 0.030215,
     "end_time": "2022-07-17T01:58:49.153820",
     "exception": false,
     "start_time": "2022-07-17T01:58:49.123605",
     "status": "completed"
    },
    "tags": []
   },
   "outputs": [
    {
     "name": "stdout",
     "output_type": "stream",
     "text": [
      "CPU times: user 7.51 ms, sys: 83 µs, total: 7.59 ms\n",
      "Wall time: 6.68 ms\n"
     ]
    },
    {
     "data": {
      "text/plain": [
       "id      0\n",
       "f_00    0\n",
       "f_01    0\n",
       "f_02    0\n",
       "f_03    0\n",
       "       ..\n",
       "f_24    0\n",
       "f_25    0\n",
       "f_26    0\n",
       "f_27    0\n",
       "f_28    0\n",
       "Length: 30, dtype: int64"
      ]
     },
     "execution_count": 12,
     "metadata": {},
     "output_type": "execute_result"
    }
   ],
   "source": [
    "%%time\n",
    "# Placeholder, Describe Code...\n",
    "dataset.isnull().sum()"
   ]
  },
  {
   "cell_type": "code",
   "execution_count": 13,
   "id": "4e07960f",
   "metadata": {
    "execution": {
     "iopub.execute_input": "2022-07-17T01:58:49.178308Z",
     "iopub.status.busy": "2022-07-17T01:58:49.177290Z",
     "iopub.status.idle": "2022-07-17T01:58:49.183506Z",
     "shell.execute_reply": "2022-07-17T01:58:49.182497Z"
    },
    "papermill": {
     "duration": 0.021232,
     "end_time": "2022-07-17T01:58:49.186327",
     "exception": false,
     "start_time": "2022-07-17T01:58:49.165095",
     "status": "completed"
    },
    "tags": []
   },
   "outputs": [
    {
     "name": "stdout",
     "output_type": "stream",
     "text": [
      "CPU times: user 0 ns, sys: 4 µs, total: 4 µs\n",
      "Wall time: 8.11 µs\n"
     ]
    }
   ],
   "source": [
    "%%time\n",
    "# Placeholder, Describe Code...\n",
    "categorical_cols = ['f_07','f_08','f_09','f_10','f_11','f_12','f_13']"
   ]
  },
  {
   "cell_type": "code",
   "execution_count": 14,
   "id": "c806bf96",
   "metadata": {
    "execution": {
     "iopub.execute_input": "2022-07-17T01:58:49.210507Z",
     "iopub.status.busy": "2022-07-17T01:58:49.210131Z",
     "iopub.status.idle": "2022-07-17T01:58:49.216925Z",
     "shell.execute_reply": "2022-07-17T01:58:49.216183Z"
    },
    "papermill": {
     "duration": 0.02147,
     "end_time": "2022-07-17T01:58:49.219451",
     "exception": false,
     "start_time": "2022-07-17T01:58:49.197981",
     "status": "completed"
    },
    "tags": []
   },
   "outputs": [
    {
     "name": "stdout",
     "output_type": "stream",
     "text": [
      "CPU times: user 33 µs, sys: 5 µs, total: 38 µs\n",
      "Wall time: 42 µs\n"
     ]
    }
   ],
   "source": [
    "%%time\n",
    "# Create a Feature List...\n",
    "ignore = ['id']\n",
    "feat = [feat for feat in dataset.columns if feat not in ignore]\n",
    "\n",
    "# Overwrite the feature by this default list...\n",
    "feat =['f_07','f_08', 'f_09', 'f_10','f_11', 'f_12', 'f_13', 'f_22','f_23', 'f_24', 'f_25','f_26','f_27', 'f_28']"
   ]
  },
  {
   "cell_type": "code",
   "execution_count": 15,
   "id": "7a41bab0",
   "metadata": {
    "execution": {
     "iopub.execute_input": "2022-07-17T01:58:49.243275Z",
     "iopub.status.busy": "2022-07-17T01:58:49.242938Z",
     "iopub.status.idle": "2022-07-17T01:58:51.368556Z",
     "shell.execute_reply": "2022-07-17T01:58:51.367113Z"
    },
    "papermill": {
     "duration": 2.140456,
     "end_time": "2022-07-17T01:58:51.371033",
     "exception": false,
     "start_time": "2022-07-17T01:58:49.230577",
     "status": "completed"
    },
    "tags": []
   },
   "outputs": [
    {
     "name": "stdout",
     "output_type": "stream",
     "text": [
      "CPU times: user 2.11 s, sys: 12.3 ms, total: 2.12 s\n",
      "Wall time: 2.12 s\n"
     ]
    }
   ],
   "source": [
    "%%time\n",
    "# Placeholder, Describe Code...\n",
    "X = dataset.copy(deep = True)\n",
    "X[feat] = StandardScaler().fit(X[feat]).transform(X[feat])\n",
    "X[feat] = PowerTransformer().fit(X[feat]).transform(X[feat])"
   ]
  },
  {
   "cell_type": "code",
   "execution_count": 16,
   "id": "04525f0d",
   "metadata": {
    "execution": {
     "iopub.execute_input": "2022-07-17T01:58:51.395504Z",
     "iopub.status.busy": "2022-07-17T01:58:51.395094Z",
     "iopub.status.idle": "2022-07-17T01:59:21.721584Z",
     "shell.execute_reply": "2022-07-17T01:59:21.720359Z"
    },
    "papermill": {
     "duration": 30.363661,
     "end_time": "2022-07-17T01:59:21.745916",
     "exception": false,
     "start_time": "2022-07-17T01:58:51.382255",
     "status": "completed"
    },
    "tags": []
   },
   "outputs": [
    {
     "name": "stdout",
     "output_type": "stream",
     "text": [
      "CPU times: user 1min 8s, sys: 50.1 s, total: 1min 58s\n",
      "Wall time: 30.3 s\n"
     ]
    }
   ],
   "source": [
    "%%time\n",
    "# Set a baseline with K-Means\n",
    "# 10 clusters\n",
    "n_components = 7\n",
    "# Runs in parallel All CPUs\n",
    "# Train Gaussian Mixture.\n",
    "\n",
    "bgm = BayesianGaussianMixture(n_components = n_components, \n",
    "                              covariance_type = 'full', \n",
    "                              tol = 0.001, \n",
    "                              reg_covar = 1e-06, \n",
    "                              max_iter = 100, \n",
    "                              n_init = 1, \n",
    "                              init_params = 'kmeans', \n",
    "                              weight_concentration_prior_type = 'dirichlet_process', \n",
    "                              weight_concentration_prior = None, \n",
    "                              mean_precision_prior = None, \n",
    "                              mean_prior = None, \n",
    "                              degrees_of_freedom_prior = None, \n",
    "                              covariance_prior = None, \n",
    "                              random_state = 1, \n",
    "                              warm_start = False, \n",
    "                              verbose = 0, \n",
    "                              verbose_interval = 10)\n",
    "\n",
    "bgm.fit(X[feat])\n",
    "bgm_predictions = bgm.predict(X[feat])\n",
    "bgm_predictions_proba = bgm.predict_proba(X[feat])"
   ]
  },
  {
   "cell_type": "code",
   "execution_count": 17,
   "id": "5c920c7c",
   "metadata": {
    "execution": {
     "iopub.execute_input": "2022-07-17T01:59:21.784837Z",
     "iopub.status.busy": "2022-07-17T01:59:21.784140Z",
     "iopub.status.idle": "2022-07-17T01:59:21.952577Z",
     "shell.execute_reply": "2022-07-17T01:59:21.951587Z"
    },
    "papermill": {
     "duration": 0.186364,
     "end_time": "2022-07-17T01:59:21.954750",
     "exception": false,
     "start_time": "2022-07-17T01:59:21.768386",
     "status": "completed"
    },
    "tags": []
   },
   "outputs": [
    {
     "name": "stdout",
     "output_type": "stream",
     "text": [
      "CPU times: user 156 ms, sys: 4.81 ms, total: 161 ms\n",
      "Wall time: 162 ms\n"
     ]
    }
   ],
   "source": [
    "%%time\n",
    "# Placeholder, Describe Code...\n",
    "submission[\"Predicted\"] = bgm_predictions\n",
    "submission.to_csv(\"submission.csv\", index = False)"
   ]
  },
  {
   "cell_type": "code",
   "execution_count": 18,
   "id": "7933b9f6",
   "metadata": {
    "execution": {
     "iopub.execute_input": "2022-07-17T01:59:21.980029Z",
     "iopub.status.busy": "2022-07-17T01:59:21.979470Z",
     "iopub.status.idle": "2022-07-17T01:59:21.989950Z",
     "shell.execute_reply": "2022-07-17T01:59:21.988451Z"
    },
    "papermill": {
     "duration": 0.025837,
     "end_time": "2022-07-17T01:59:21.992208",
     "exception": false,
     "start_time": "2022-07-17T01:59:21.966371",
     "status": "completed"
    },
    "tags": []
   },
   "outputs": [
    {
     "name": "stdout",
     "output_type": "stream",
     "text": [
      "CPU times: user 77 µs, sys: 50 µs, total: 127 µs\n",
      "Wall time: 131 µs\n"
     ]
    },
    {
     "data": {
      "text/html": [
       "<div>\n",
       "<style scoped>\n",
       "    .dataframe tbody tr th:only-of-type {\n",
       "        vertical-align: middle;\n",
       "    }\n",
       "\n",
       "    .dataframe tbody tr th {\n",
       "        vertical-align: top;\n",
       "    }\n",
       "\n",
       "    .dataframe thead th {\n",
       "        text-align: right;\n",
       "    }\n",
       "</style>\n",
       "<table border=\"1\" class=\"dataframe\">\n",
       "  <thead>\n",
       "    <tr style=\"text-align: right;\">\n",
       "      <th></th>\n",
       "      <th>Id</th>\n",
       "      <th>Predicted</th>\n",
       "    </tr>\n",
       "  </thead>\n",
       "  <tbody>\n",
       "    <tr>\n",
       "      <th>0</th>\n",
       "      <td>0</td>\n",
       "      <td>6</td>\n",
       "    </tr>\n",
       "    <tr>\n",
       "      <th>1</th>\n",
       "      <td>1</td>\n",
       "      <td>5</td>\n",
       "    </tr>\n",
       "    <tr>\n",
       "      <th>2</th>\n",
       "      <td>2</td>\n",
       "      <td>6</td>\n",
       "    </tr>\n",
       "    <tr>\n",
       "      <th>3</th>\n",
       "      <td>3</td>\n",
       "      <td>3</td>\n",
       "    </tr>\n",
       "    <tr>\n",
       "      <th>4</th>\n",
       "      <td>4</td>\n",
       "      <td>1</td>\n",
       "    </tr>\n",
       "    <tr>\n",
       "      <th>5</th>\n",
       "      <td>5</td>\n",
       "      <td>5</td>\n",
       "    </tr>\n",
       "    <tr>\n",
       "      <th>6</th>\n",
       "      <td>6</td>\n",
       "      <td>3</td>\n",
       "    </tr>\n",
       "    <tr>\n",
       "      <th>7</th>\n",
       "      <td>7</td>\n",
       "      <td>6</td>\n",
       "    </tr>\n",
       "    <tr>\n",
       "      <th>8</th>\n",
       "      <td>8</td>\n",
       "      <td>5</td>\n",
       "    </tr>\n",
       "    <tr>\n",
       "      <th>9</th>\n",
       "      <td>9</td>\n",
       "      <td>6</td>\n",
       "    </tr>\n",
       "  </tbody>\n",
       "</table>\n",
       "</div>"
      ],
      "text/plain": [
       "   Id  Predicted\n",
       "0   0          6\n",
       "1   1          5\n",
       "2   2          6\n",
       "3   3          3\n",
       "4   4          1\n",
       "5   5          5\n",
       "6   6          3\n",
       "7   7          6\n",
       "8   8          5\n",
       "9   9          6"
      ]
     },
     "execution_count": 18,
     "metadata": {},
     "output_type": "execute_result"
    }
   ],
   "source": [
    "%%time\n",
    "# Placeholder, Describe Code...\n",
    "submission.head(10)"
   ]
  },
  {
   "cell_type": "code",
   "execution_count": 19,
   "id": "f2d1233a",
   "metadata": {
    "execution": {
     "iopub.execute_input": "2022-07-17T01:59:22.017591Z",
     "iopub.status.busy": "2022-07-17T01:59:22.017218Z",
     "iopub.status.idle": "2022-07-17T01:59:22.047898Z",
     "shell.execute_reply": "2022-07-17T01:59:22.046926Z"
    },
    "papermill": {
     "duration": 0.046515,
     "end_time": "2022-07-17T01:59:22.050213",
     "exception": false,
     "start_time": "2022-07-17T01:59:22.003698",
     "status": "completed"
    },
    "tags": []
   },
   "outputs": [
    {
     "name": "stdout",
     "output_type": "stream",
     "text": [
      "CPU times: user 24.8 ms, sys: 460 µs, total: 25.3 ms\n",
      "Wall time: 24.1 ms\n"
     ]
    }
   ],
   "source": [
    "%%time\n",
    "\n",
    "# Building a high confidence dataset for training...\n",
    "X['predictions'] = bgm_predictions\n",
    "X['predict_proba'] = 0\n",
    "\n",
    "CLUSTERS = 7 # Number of Clusters or Components used...\n",
    "\n",
    "for n in range(CLUSTERS):\n",
    "    # Loop over all the clusters, and creates a probability column for each cluster or component...\n",
    "    X[f'predict_proba_{n}'] = bgm_predictions_proba[:,n] # Write the probability for each cluster as a new feature\n",
    "    X.loc[X.predictions == n,'predict_proba'] = X[f'predict_proba_{n}'] # Extract the probility of the estimated cluster."
   ]
  },
  {
   "cell_type": "code",
   "execution_count": 20,
   "id": "71c9e381",
   "metadata": {
    "execution": {
     "iopub.execute_input": "2022-07-17T01:59:22.075752Z",
     "iopub.status.busy": "2022-07-17T01:59:22.075347Z",
     "iopub.status.idle": "2022-07-17T01:59:22.185294Z",
     "shell.execute_reply": "2022-07-17T01:59:22.183695Z"
    },
    "papermill": {
     "duration": 0.125685,
     "end_time": "2022-07-17T01:59:22.187659",
     "exception": false,
     "start_time": "2022-07-17T01:59:22.061974",
     "status": "completed"
    },
    "tags": []
   },
   "outputs": [
    {
     "name": "stdout",
     "output_type": "stream",
     "text": [
      "Cluster: 0, Median Probability:  0.919, Data Pct:  0.67\n",
      "Cluster: 1, Median Probability:  0.885, Data Pct:  0.62\n",
      "Cluster: 2, Median Probability:  0.924, Data Pct:  0.69\n",
      "Cluster: 3, Median Probability:  0.982, Data Pct:  0.82\n",
      "Cluster: 4, Median Probability:  0.859, Data Pct:  0.59\n",
      "Cluster: 5, Median Probability:  0.754, Data Pct:  0.43\n",
      "Cluster: 6, Median Probability:  0.944, Data Pct:  0.71\n",
      "CPU times: user 96.9 ms, sys: 6.35 ms, total: 103 ms\n",
      "Wall time: 102 ms\n"
     ]
    }
   ],
   "source": [
    "%%time\n",
    "\n",
    "pct_data = 0\n",
    "min_probability = 0.8 # Set the minimun probability allowed to create the new training dataset...\n",
    "\n",
    "# Generate a list of indexes with higher confidence or probabilities\n",
    "\n",
    "high_confidence_idx = np.array([])\n",
    "for cluster in range(CLUSTERS):\n",
    "    median_probability = X[X['predictions'] == cluster]['predict_proba'].median()\n",
    "    idx = X[(X['predictions'] == cluster) & (X['predict_proba'] > min_probability)].index\n",
    "    pct_data = len(idx) / len(X[(X['predictions'] == cluster)])\n",
    "    print(f'Cluster: {cluster}, Median Probability: {median_probability : .3f}, Data Pct: {pct_data: .2f}')                           \n",
    "    high_confidence_idx = np.concatenate((high_confidence_idx, idx))\n",
    "                     "
   ]
  },
  {
   "cell_type": "markdown",
   "id": "9926b034",
   "metadata": {
    "papermill": {
     "duration": 0.011335,
     "end_time": "2022-07-17T01:59:22.210878",
     "exception": false,
     "start_time": "2022-07-17T01:59:22.199543",
     "status": "completed"
    },
    "tags": []
   },
   "source": [
    "# LGBM Model ..."
   ]
  },
  {
   "cell_type": "code",
   "execution_count": 21,
   "id": "5c3d1ea9",
   "metadata": {
    "execution": {
     "iopub.execute_input": "2022-07-17T01:59:22.235988Z",
     "iopub.status.busy": "2022-07-17T01:59:22.235577Z",
     "iopub.status.idle": "2022-07-17T02:07:42.162727Z",
     "shell.execute_reply": "2022-07-17T02:07:42.161421Z"
    },
    "papermill": {
     "duration": 499.950058,
     "end_time": "2022-07-17T02:07:42.172553",
     "exception": false,
     "start_time": "2022-07-17T01:59:22.222495",
     "status": "completed"
    },
    "tags": []
   },
   "outputs": [
    {
     "name": "stdout",
     "output_type": "stream",
     "text": [
      "FOLD:0...\n",
      "Training until validation scores don't improve for 300 rounds\n",
      "[200]\tvalid_0's multi_logloss: 0.0207654\n",
      "[400]\tvalid_0's multi_logloss: 0.0136906\n",
      "[600]\tvalid_0's multi_logloss: 0.0130861\n",
      "[800]\tvalid_0's multi_logloss: 0.0137368\n",
      "Early stopping, best iteration is:\n",
      "[563]\tvalid_0's multi_logloss: 0.0128833\n",
      "LGBM AUC : 0.995 | ACC : 100.0%\n",
      "\n",
      "..........\n",
      "\n",
      "FOLD:1...\n",
      "Training until validation scores don't improve for 300 rounds\n",
      "[200]\tvalid_0's multi_logloss: 0.0180453\n",
      "[400]\tvalid_0's multi_logloss: 0.0100428\n",
      "[600]\tvalid_0's multi_logloss: 0.00954692\n",
      "[800]\tvalid_0's multi_logloss: 0.0103506\n",
      "Early stopping, best iteration is:\n",
      "[504]\tvalid_0's multi_logloss: 0.00914013\n",
      "LGBM AUC : 0.996 | ACC : 100.0%\n",
      "\n",
      "..........\n",
      "\n",
      "FOLD:2...\n",
      "Training until validation scores don't improve for 300 rounds\n",
      "[200]\tvalid_0's multi_logloss: 0.0223837\n",
      "[400]\tvalid_0's multi_logloss: 0.0139131\n",
      "[600]\tvalid_0's multi_logloss: 0.0133291\n",
      "Early stopping, best iteration is:\n",
      "[494]\tvalid_0's multi_logloss: 0.0131472\n",
      "LGBM AUC : 0.995 | ACC : 100.0%\n",
      "\n",
      "..........\n",
      "\n",
      "FOLD:3...\n",
      "Training until validation scores don't improve for 300 rounds\n",
      "[200]\tvalid_0's multi_logloss: 0.0192677\n",
      "[400]\tvalid_0's multi_logloss: 0.0102343\n",
      "[600]\tvalid_0's multi_logloss: 0.00912026\n",
      "[800]\tvalid_0's multi_logloss: 0.00956778\n",
      "Early stopping, best iteration is:\n",
      "[566]\tvalid_0's multi_logloss: 0.00902411\n",
      "LGBM AUC : 0.996 | ACC : 100.0%\n",
      "\n",
      "..........\n",
      "\n",
      "FOLD:4...\n",
      "Training until validation scores don't improve for 300 rounds\n",
      "[200]\tvalid_0's multi_logloss: 0.0234216\n",
      "[400]\tvalid_0's multi_logloss: 0.0165014\n",
      "[600]\tvalid_0's multi_logloss: 0.0166434\n",
      "Early stopping, best iteration is:\n",
      "[464]\tvalid_0's multi_logloss: 0.0159218\n",
      "LGBM AUC : 0.994 | ACC : 100.0%\n",
      "\n",
      "..........\n",
      "\n",
      "FOLD:5...\n",
      "Training until validation scores don't improve for 300 rounds\n",
      "[200]\tvalid_0's multi_logloss: 0.0183854\n",
      "[400]\tvalid_0's multi_logloss: 0.00982065\n",
      "[600]\tvalid_0's multi_logloss: 0.00948001\n",
      "[800]\tvalid_0's multi_logloss: 0.00983813\n",
      "Early stopping, best iteration is:\n",
      "[570]\tvalid_0's multi_logloss: 0.00926864\n",
      "LGBM AUC : 0.998 | ACC : 100.0%\n",
      "\n",
      "..........\n",
      "\n",
      "FOLD:6...\n",
      "Training until validation scores don't improve for 300 rounds\n",
      "[200]\tvalid_0's multi_logloss: 0.0177625\n",
      "[400]\tvalid_0's multi_logloss: 0.00784068\n",
      "[600]\tvalid_0's multi_logloss: 0.00558901\n",
      "[800]\tvalid_0's multi_logloss: 0.00517178\n",
      "[1000]\tvalid_0's multi_logloss: 0.00491613\n",
      "[1200]\tvalid_0's multi_logloss: 0.00492342\n",
      "[1400]\tvalid_0's multi_logloss: 0.00489467\n",
      "[1600]\tvalid_0's multi_logloss: 0.00480938\n",
      "[1800]\tvalid_0's multi_logloss: 0.00473944\n",
      "[2000]\tvalid_0's multi_logloss: 0.00469287\n",
      "[2200]\tvalid_0's multi_logloss: 0.00464793\n",
      "[2400]\tvalid_0's multi_logloss: 0.00457878\n",
      "[2600]\tvalid_0's multi_logloss: 0.00450461\n",
      "[2800]\tvalid_0's multi_logloss: 0.00445907\n",
      "[3000]\tvalid_0's multi_logloss: 0.00440854\n",
      "[3200]\tvalid_0's multi_logloss: 0.00437774\n",
      "[3400]\tvalid_0's multi_logloss: 0.00435764\n",
      "[3600]\tvalid_0's multi_logloss: 0.00433181\n",
      "[3800]\tvalid_0's multi_logloss: 0.00430766\n",
      "[4000]\tvalid_0's multi_logloss: 0.00430558\n",
      "Early stopping, best iteration is:\n",
      "[3841]\tvalid_0's multi_logloss: 0.00429987\n",
      "LGBM AUC : 0.999 | ACC : 100.0%\n",
      "\n",
      "..........\n",
      "\n",
      "FOLD:7...\n",
      "Training until validation scores don't improve for 300 rounds\n",
      "[200]\tvalid_0's multi_logloss: 0.0228344\n",
      "[400]\tvalid_0's multi_logloss: 0.0154964\n",
      "[600]\tvalid_0's multi_logloss: 0.0161909\n",
      "Early stopping, best iteration is:\n",
      "[402]\tvalid_0's multi_logloss: 0.0154813\n",
      "LGBM AUC : 0.995 | ACC : 100.0%\n",
      "\n",
      "..........\n",
      "\n",
      "FOLD:8...\n",
      "Training until validation scores don't improve for 300 rounds\n",
      "[200]\tvalid_0's multi_logloss: 0.022248\n",
      "[400]\tvalid_0's multi_logloss: 0.01307\n",
      "[600]\tvalid_0's multi_logloss: 0.0124627\n",
      "[800]\tvalid_0's multi_logloss: 0.0127082\n",
      "Early stopping, best iteration is:\n",
      "[503]\tvalid_0's multi_logloss: 0.0122834\n",
      "LGBM AUC : 0.995 | ACC : 100.0%\n",
      "\n",
      "..........\n",
      "\n",
      "FOLD:9...\n",
      "Training until validation scores don't improve for 300 rounds\n",
      "[200]\tvalid_0's multi_logloss: 0.021766\n",
      "[400]\tvalid_0's multi_logloss: 0.0141267\n",
      "[600]\tvalid_0's multi_logloss: 0.0140737\n",
      "[800]\tvalid_0's multi_logloss: 0.0149168\n",
      "Early stopping, best iteration is:\n",
      "[510]\tvalid_0's multi_logloss: 0.0136747\n",
      "LGBM AUC : 0.996 | ACC : 100.0%\n",
      "\n",
      "..........\n",
      "\n",
      "CPU times: user 32min 23s, sys: 11.2 s, total: 32min 35s\n",
      "Wall time: 8min 19s\n"
     ]
    }
   ],
   "source": [
    "%%time\n",
    "N_FOLDS = 10\n",
    "\n",
    "X_trn = X.loc[high_confidence_idx][feat]\n",
    "label = X.loc[high_confidence_idx]['predictions']\n",
    "\n",
    "\n",
    "params_lgb = {'learning_rate': 0.07,\n",
    "              'objective': 'multiclass',\n",
    "              'boosting': 'gbdt',\n",
    "              'verbosity': -1,\n",
    "              'n_jobs': -1,\n",
    "              'num_classes':CLUSTERS} \n",
    "\n",
    "model_list = []\n",
    "gkf = StratifiedKFold(N_FOLDS)\n",
    "lgbm_predictions_prob = 0\n",
    "\n",
    "for fold, (train_idx, valid_idx) in enumerate(gkf.split(X_trn,label)):  \n",
    "    print(f'FOLD:{fold}...')\n",
    "    trn_dataset = lgb.Dataset(X_trn.iloc[train_idx],label.iloc[train_idx],feature_name = feat)\n",
    "    val_dataset = lgb.Dataset(X_trn.iloc[valid_idx],label.iloc[valid_idx],feature_name = feat)\n",
    "    \n",
    "    model = lgb.train(params = params_lgb, \n",
    "                      train_set = trn_dataset, \n",
    "                      valid_sets = val_dataset, \n",
    "                      num_boost_round = 5000, \n",
    "                      callbacks = [lgb.early_stopping(stopping_rounds = 300, verbose = True), lgb.log_evaluation(period = 200)])  \n",
    "    \n",
    "    model_list.append(model)\n",
    "    \n",
    "    y_pred_proba = model.predict(X_trn.iloc[valid_idx])\n",
    "    y_pred = np.argmax(y_pred_proba, axis = 1)\n",
    "    \n",
    "    score = balanced_accuracy_score(label.iloc[valid_idx], y_pred)\n",
    "    auc = roc_auc_score(label.iloc[valid_idx], y_pred_proba, average = \"weighted\", multi_class = \"ovo\")\n",
    "    \n",
    "    lgbm_predictions_prob += model.predict(X[feat]) / N_FOLDS\n",
    "    \n",
    "    print(f'LGBM AUC : {score:.3f} | ACC : {auc:.1%}\\n')\n",
    "    print('.' * 10)\n",
    "    print('')"
   ]
  },
  {
   "cell_type": "markdown",
   "id": "18f0e2ba",
   "metadata": {
    "papermill": {
     "duration": 0.016834,
     "end_time": "2022-07-17T02:07:42.206830",
     "exception": false,
     "start_time": "2022-07-17T02:07:42.189996",
     "status": "completed"
    },
    "tags": []
   },
   "source": [
    "# Extra Trees ..."
   ]
  },
  {
   "cell_type": "code",
   "execution_count": 22,
   "id": "fb0abf17",
   "metadata": {
    "execution": {
     "iopub.execute_input": "2022-07-17T02:07:42.242591Z",
     "iopub.status.busy": "2022-07-17T02:07:42.241678Z",
     "iopub.status.idle": "2022-07-17T02:09:15.435928Z",
     "shell.execute_reply": "2022-07-17T02:09:15.434694Z"
    },
    "papermill": {
     "duration": 93.214994,
     "end_time": "2022-07-17T02:09:15.438396",
     "exception": false,
     "start_time": "2022-07-17T02:07:42.223402",
     "status": "completed"
    },
    "tags": []
   },
   "outputs": [
    {
     "name": "stdout",
     "output_type": "stream",
     "text": [
      "FOLD:0...\n",
      "Extra Trees AUC : 0.975 | ACC : 99.9%\n",
      "..........\n",
      "\n",
      "FOLD:1...\n",
      "Extra Trees AUC : 0.980 | ACC : 100.0%\n",
      "..........\n",
      "\n",
      "FOLD:2...\n",
      "Extra Trees AUC : 0.974 | ACC : 99.9%\n",
      "..........\n",
      "\n",
      "FOLD:3...\n",
      "Extra Trees AUC : 0.976 | ACC : 99.9%\n",
      "..........\n",
      "\n",
      "FOLD:4...\n",
      "Extra Trees AUC : 0.974 | ACC : 99.9%\n",
      "..........\n",
      "\n",
      "FOLD:5...\n",
      "Extra Trees AUC : 0.978 | ACC : 99.9%\n",
      "..........\n",
      "\n",
      "FOLD:6...\n",
      "Extra Trees AUC : 0.974 | ACC : 99.9%\n",
      "..........\n",
      "\n",
      "FOLD:7...\n",
      "Extra Trees AUC : 0.973 | ACC : 99.9%\n",
      "..........\n",
      "\n",
      "FOLD:8...\n",
      "Extra Trees AUC : 0.973 | ACC : 99.9%\n",
      "..........\n",
      "\n",
      "FOLD:9...\n",
      "Extra Trees AUC : 0.974 | ACC : 100.0%\n",
      "..........\n",
      "\n",
      "CPU times: user 1min 31s, sys: 2.15 s, total: 1min 33s\n",
      "Wall time: 1min 33s\n"
     ]
    }
   ],
   "source": [
    "%%time\n",
    "N_FOLDS = 10\n",
    "SEED = 15\n",
    "\n",
    "X_trn = X.loc[high_confidence_idx][feat]\n",
    "label = X.loc[high_confidence_idx]['predictions']\n",
    "\n",
    "model_list = []\n",
    "gkf = StratifiedKFold(N_FOLDS)\n",
    "extra_trees_predictions_prob = 0\n",
    "\n",
    "for fold, (train_idx, valid_idx) in enumerate(gkf.split(X_trn,label)):  \n",
    "    print(f'FOLD:{fold}...')\n",
    "    X_train, y_train = X_trn.iloc[train_idx], label.iloc[train_idx]\n",
    "    X_valid, y_valid = X_trn.iloc[valid_idx], label.iloc[valid_idx]\n",
    "    \n",
    "    model = ExtraTreesClassifier(n_estimators = 100, random_state = SEED)\n",
    "    model.fit(X_train, y_train)\n",
    "    model_list.append(model)\n",
    "    \n",
    "    y_pred = model.predict(X_valid)\n",
    "    y_pred_proba = model.predict_proba(X_valid)\n",
    "    \n",
    "    score = balanced_accuracy_score(y_valid, y_pred)\n",
    "    auc = roc_auc_score(y_valid, y_pred_proba, average = \"weighted\", multi_class = \"ovo\")\n",
    "    \n",
    "    extra_trees_predictions_prob += model.predict_proba(X[feat]) / N_FOLDS\n",
    "    \n",
    "    print(f'Extra Trees AUC : {score:.3f} | ACC : {auc:.1%}')\n",
    "    print('.' * 10)\n",
    "    print('')"
   ]
  },
  {
   "cell_type": "code",
   "execution_count": 23,
   "id": "36afe3a2",
   "metadata": {
    "execution": {
     "iopub.execute_input": "2022-07-17T02:09:15.475697Z",
     "iopub.status.busy": "2022-07-17T02:09:15.475088Z",
     "iopub.status.idle": "2022-07-17T02:09:15.483485Z",
     "shell.execute_reply": "2022-07-17T02:09:15.482603Z"
    },
    "papermill": {
     "duration": 0.029817,
     "end_time": "2022-07-17T02:09:15.485725",
     "exception": false,
     "start_time": "2022-07-17T02:09:15.455908",
     "status": "completed"
    },
    "tags": []
   },
   "outputs": [
    {
     "name": "stdout",
     "output_type": "stream",
     "text": [
      "CPU times: user 4 µs, sys: 0 ns, total: 4 µs\n",
      "Wall time: 8.58 µs\n"
     ]
    }
   ],
   "source": [
    "%%time\n",
    "def soft_voting_predictions(prediction_prob, df):\n",
    "    '''\n",
    "    \n",
    "    '''\n",
    "    values = list(range(CLUSTERS))\n",
    "    pred_test = pd.DataFrame(np.zeros((dataset.shape[0], 7)), columns = values)\n",
    "    \n",
    "    for model, probability in enumerate(prediction_prob):\n",
    "        max_value = np.argmax(probability, axis = 1)\n",
    "        df[f'pred_model_{model}'] = max_value\n",
    "        \n",
    "        # Sort the Predictions...\n",
    "        pred_keys = df[f'pred_model_{model}'].value_counts().index.to_list()\n",
    "        pred_dict = dict(zip(pred_keys, values))\n",
    "        df[f'pred_model_{model}'] = df[f'pred_model_{model}'].map(pred_dict)\n",
    "        \n",
    "        pred_new = pd.DataFrame(probability).rename(columns = pred_dict)   \n",
    "        pred_new = pred_new.reindex(sorted(pred_new.columns), axis=1)\n",
    "        \n",
    "        # Soft Voting by Probabiliy Addition\n",
    "        pred_test += pred_new \n",
    "                                      \n",
    "    return np.argmax(np.array(pred_test), axis = 1)                                 "
   ]
  },
  {
   "cell_type": "code",
   "execution_count": 24,
   "id": "e1af9869",
   "metadata": {
    "execution": {
     "iopub.execute_input": "2022-07-17T02:09:15.522766Z",
     "iopub.status.busy": "2022-07-17T02:09:15.522053Z",
     "iopub.status.idle": "2022-07-17T02:09:15.562425Z",
     "shell.execute_reply": "2022-07-17T02:09:15.561208Z"
    },
    "papermill": {
     "duration": 0.061528,
     "end_time": "2022-07-17T02:09:15.564824",
     "exception": false,
     "start_time": "2022-07-17T02:09:15.503296",
     "status": "completed"
    },
    "tags": []
   },
   "outputs": [
    {
     "name": "stdout",
     "output_type": "stream",
     "text": [
      "CPU times: user 32.7 ms, sys: 991 µs, total: 33.6 ms\n",
      "Wall time: 33.7 ms\n"
     ]
    }
   ],
   "source": [
    "%%time\n",
    "soft_vote_results = soft_voting_predictions([lgbm_predictions_prob, extra_trees_predictions_prob], dataset)"
   ]
  },
  {
   "cell_type": "code",
   "execution_count": 25,
   "id": "57a63506",
   "metadata": {
    "execution": {
     "iopub.execute_input": "2022-07-17T02:09:15.601756Z",
     "iopub.status.busy": "2022-07-17T02:09:15.601376Z",
     "iopub.status.idle": "2022-07-17T02:09:15.610187Z",
     "shell.execute_reply": "2022-07-17T02:09:15.608701Z"
    },
    "papermill": {
     "duration": 0.030494,
     "end_time": "2022-07-17T02:09:15.612925",
     "exception": false,
     "start_time": "2022-07-17T02:09:15.582431",
     "status": "completed"
    },
    "tags": []
   },
   "outputs": [
    {
     "name": "stdout",
     "output_type": "stream",
     "text": [
      "CPU times: user 4 µs, sys: 0 ns, total: 4 µs\n",
      "Wall time: 9.3 µs\n"
     ]
    },
    {
     "data": {
      "text/plain": [
       "array([3, 6, 3, ..., 1, 5, 2])"
      ]
     },
     "execution_count": 25,
     "metadata": {},
     "output_type": "execute_result"
    }
   ],
   "source": [
    "%%time\n",
    "soft_vote_results"
   ]
  },
  {
   "cell_type": "code",
   "execution_count": 26,
   "id": "b64e13e3",
   "metadata": {
    "execution": {
     "iopub.execute_input": "2022-07-17T02:09:15.651011Z",
     "iopub.status.busy": "2022-07-17T02:09:15.649920Z",
     "iopub.status.idle": "2022-07-17T02:09:15.845940Z",
     "shell.execute_reply": "2022-07-17T02:09:15.844598Z"
    },
    "papermill": {
     "duration": 0.217434,
     "end_time": "2022-07-17T02:09:15.848247",
     "exception": false,
     "start_time": "2022-07-17T02:09:15.630813",
     "status": "completed"
    },
    "tags": []
   },
   "outputs": [
    {
     "name": "stdout",
     "output_type": "stream",
     "text": [
      "CPU times: user 180 ms, sys: 3 ms, total: 183 ms\n",
      "Wall time: 189 ms\n"
     ]
    }
   ],
   "source": [
    "%%time\n",
    "submission_lgbm = pd.read_csv(\"../input/tabular-playground-series-jul-2022/sample_submission.csv\")\n",
    "submission_lgbm['Predicted'] = np.argmax(lgbm_predictions_prob, axis = 1)\n",
    "submission_lgbm.to_csv(\"submission_lgbm.csv\",index = False)"
   ]
  },
  {
   "cell_type": "code",
   "execution_count": 27,
   "id": "0547c62a",
   "metadata": {
    "execution": {
     "iopub.execute_input": "2022-07-17T02:09:15.885852Z",
     "iopub.status.busy": "2022-07-17T02:09:15.885493Z",
     "iopub.status.idle": "2022-07-17T02:09:16.068029Z",
     "shell.execute_reply": "2022-07-17T02:09:16.066792Z"
    },
    "papermill": {
     "duration": 0.215492,
     "end_time": "2022-07-17T02:09:16.081788",
     "exception": false,
     "start_time": "2022-07-17T02:09:15.866296",
     "status": "completed"
    },
    "tags": []
   },
   "outputs": [
    {
     "name": "stdout",
     "output_type": "stream",
     "text": [
      "CPU times: user 171 ms, sys: 4.97 ms, total: 176 ms\n",
      "Wall time: 177 ms\n"
     ]
    }
   ],
   "source": [
    "%%time\n",
    "submission_soft_vote = pd.read_csv(\"../input/tabular-playground-series-jul-2022/sample_submission.csv\")\n",
    "submission_soft_vote['Predicted'] = soft_vote_results\n",
    "submission_soft_vote.to_csv(\"submission_softvote.csv\",index = False)"
   ]
  },
  {
   "cell_type": "code",
   "execution_count": 28,
   "id": "fe151e53",
   "metadata": {
    "execution": {
     "iopub.execute_input": "2022-07-17T02:09:16.121417Z",
     "iopub.status.busy": "2022-07-17T02:09:16.120529Z",
     "iopub.status.idle": "2022-07-17T02:09:16.131987Z",
     "shell.execute_reply": "2022-07-17T02:09:16.130678Z"
    },
    "papermill": {
     "duration": 0.034455,
     "end_time": "2022-07-17T02:09:16.135552",
     "exception": false,
     "start_time": "2022-07-17T02:09:16.101097",
     "status": "completed"
    },
    "tags": []
   },
   "outputs": [
    {
     "name": "stdout",
     "output_type": "stream",
     "text": [
      "CPU times: user 112 µs, sys: 3 µs, total: 115 µs\n",
      "Wall time: 120 µs\n"
     ]
    },
    {
     "data": {
      "text/html": [
       "<div>\n",
       "<style scoped>\n",
       "    .dataframe tbody tr th:only-of-type {\n",
       "        vertical-align: middle;\n",
       "    }\n",
       "\n",
       "    .dataframe tbody tr th {\n",
       "        vertical-align: top;\n",
       "    }\n",
       "\n",
       "    .dataframe thead th {\n",
       "        text-align: right;\n",
       "    }\n",
       "</style>\n",
       "<table border=\"1\" class=\"dataframe\">\n",
       "  <thead>\n",
       "    <tr style=\"text-align: right;\">\n",
       "      <th></th>\n",
       "      <th>Id</th>\n",
       "      <th>Predicted</th>\n",
       "    </tr>\n",
       "  </thead>\n",
       "  <tbody>\n",
       "    <tr>\n",
       "      <th>0</th>\n",
       "      <td>0</td>\n",
       "      <td>3</td>\n",
       "    </tr>\n",
       "    <tr>\n",
       "      <th>1</th>\n",
       "      <td>1</td>\n",
       "      <td>6</td>\n",
       "    </tr>\n",
       "    <tr>\n",
       "      <th>2</th>\n",
       "      <td>2</td>\n",
       "      <td>3</td>\n",
       "    </tr>\n",
       "    <tr>\n",
       "      <th>3</th>\n",
       "      <td>3</td>\n",
       "      <td>4</td>\n",
       "    </tr>\n",
       "    <tr>\n",
       "      <th>4</th>\n",
       "      <td>4</td>\n",
       "      <td>0</td>\n",
       "    </tr>\n",
       "    <tr>\n",
       "      <th>5</th>\n",
       "      <td>5</td>\n",
       "      <td>6</td>\n",
       "    </tr>\n",
       "    <tr>\n",
       "      <th>6</th>\n",
       "      <td>6</td>\n",
       "      <td>4</td>\n",
       "    </tr>\n",
       "    <tr>\n",
       "      <th>7</th>\n",
       "      <td>7</td>\n",
       "      <td>3</td>\n",
       "    </tr>\n",
       "    <tr>\n",
       "      <th>8</th>\n",
       "      <td>8</td>\n",
       "      <td>6</td>\n",
       "    </tr>\n",
       "    <tr>\n",
       "      <th>9</th>\n",
       "      <td>9</td>\n",
       "      <td>2</td>\n",
       "    </tr>\n",
       "  </tbody>\n",
       "</table>\n",
       "</div>"
      ],
      "text/plain": [
       "   Id  Predicted\n",
       "0   0          3\n",
       "1   1          6\n",
       "2   2          3\n",
       "3   3          4\n",
       "4   4          0\n",
       "5   5          6\n",
       "6   6          4\n",
       "7   7          3\n",
       "8   8          6\n",
       "9   9          2"
      ]
     },
     "execution_count": 28,
     "metadata": {},
     "output_type": "execute_result"
    }
   ],
   "source": [
    "%%time\n",
    "# Placeholder, Describe Code...\n",
    "submission_soft_vote.head(10)"
   ]
  },
  {
   "cell_type": "code",
   "execution_count": null,
   "id": "69b5e0e3",
   "metadata": {
    "papermill": {
     "duration": 0.019615,
     "end_time": "2022-07-17T02:09:16.174800",
     "exception": false,
     "start_time": "2022-07-17T02:09:16.155185",
     "status": "completed"
    },
    "tags": []
   },
   "outputs": [],
   "source": []
  }
 ],
 "metadata": {
  "kernelspec": {
   "display_name": "Python 3",
   "language": "python",
   "name": "python3"
  },
  "language_info": {
   "codemirror_mode": {
    "name": "ipython",
    "version": 3
   },
   "file_extension": ".py",
   "mimetype": "text/x-python",
   "name": "python",
   "nbconvert_exporter": "python",
   "pygments_lexer": "ipython3",
   "version": "3.7.12"
  },
  "papermill": {
   "default_parameters": {},
   "duration": 642.25489,
   "end_time": "2022-07-17T02:09:17.218209",
   "environment_variables": {},
   "exception": null,
   "input_path": "__notebook__.ipynb",
   "output_path": "__notebook__.ipynb",
   "parameters": {},
   "start_time": "2022-07-17T01:58:34.963319",
   "version": "2.3.4"
  }
 },
 "nbformat": 4,
 "nbformat_minor": 5
}
