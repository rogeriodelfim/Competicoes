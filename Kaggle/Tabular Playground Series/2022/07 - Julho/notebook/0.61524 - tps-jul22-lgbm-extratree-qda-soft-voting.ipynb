{
 "cells": [
  {
   "cell_type": "markdown",
   "id": "6538675c",
   "metadata": {
    "papermill": {
     "duration": 0.009196,
     "end_time": "2022-07-14T05:47:21.372863",
     "exception": false,
     "start_time": "2022-07-14T05:47:21.363667",
     "status": "completed"
    },
    "tags": []
   },
   "source": [
    "Those notebooks had really inspired me :<br> \n",
    "https://www.kaggle.com/code/pourchot/simple-soft-voting<br>\n",
    "https://www.kaggle.com/code/ricopue/tps-jul22-clusters-and-lgb<br>\n",
    "https://www.kaggle.com/code/ambrosm/tpsjul22-gaussian-mixture-cluster-analysis<br>\n",
    "https://www.kaggle.com/code/thedevastator/how-to-ensemble-clustering-algorithms-updated<br>\n",
    "https://www.kaggle.com/code/eduus710/getting-cluster-ensembles-to-work<br>\n",
    "https://www.kaggle.com/code/plarmuseau/bruteforce-clustering<br>\n",
    "https://www.kaggle.com/code/thedevastator/bruteforce-clustering<br>\n",
    "(and some others, sorry I don't remember everyone)<br>\n",
    "Thank you very much.\n",
    "\n",
    "With Ricopue's notebook [here][2] I get a 0.61419 score on public leaderboard (3rd place on public leaderboard the 13th july).<br>\n",
    "Then I was wondering if I can get a higher score with another method than LGBM which can overfit.<br>\n",
    "I tried a small (and fast) **extratrees on trusted data after BayesianGaussianMixture**, which gave very impressive silhouette / Calinski_Harabasz / Davis_Bouldin scores.<br>\n",
    "And next, **QDA** was much more impressive. <br>\n",
    "And then I tried a **soft voting** like in Laurent Pourchot's notebook [here][1].<br>\n",
    "\n",
    "A high value of AUC score or Accuracy after classification (LGBM or QDA with reg_param == 0) can give a high score on public LeaderBoard. Interesting, isn't ?\n",
    "\n",
    "[1]: https://www.kaggle.com/code/pourchot/simple-soft-voting<br>\n",
    "[2]: https://www.kaggle.com/code/ricopue/tps-jul22-clusters-and-lgb<br>"
   ]
  },
  {
   "cell_type": "markdown",
   "id": "927f7304",
   "metadata": {
    "papermill": {
     "duration": 0.007829,
     "end_time": "2022-07-14T05:47:21.388846",
     "exception": false,
     "start_time": "2022-07-14T05:47:21.381017",
     "status": "completed"
    },
    "tags": []
   },
   "source": [
    "# Librairies / data "
   ]
  },
  {
   "cell_type": "code",
   "execution_count": 1,
   "id": "61e05624",
   "metadata": {
    "execution": {
     "iopub.execute_input": "2022-07-14T05:47:21.406321Z",
     "iopub.status.busy": "2022-07-14T05:47:21.405846Z",
     "iopub.status.idle": "2022-07-14T05:47:24.036129Z",
     "shell.execute_reply": "2022-07-14T05:47:24.034931Z"
    },
    "papermill": {
     "duration": 2.642358,
     "end_time": "2022-07-14T05:47:24.038949",
     "exception": false,
     "start_time": "2022-07-14T05:47:21.396591",
     "status": "completed"
    },
    "tags": []
   },
   "outputs": [
    {
     "data": {
      "text/html": [
       "<style type='text/css'>\n",
       ".datatable table.frame { margin-bottom: 0; }\n",
       ".datatable table.frame thead { border-bottom: none; }\n",
       ".datatable table.frame tr.coltypes td {  color: #FFFFFF;  line-height: 6px;  padding: 0 0.5em;}\n",
       ".datatable .bool    { background: #DDDD99; }\n",
       ".datatable .object  { background: #565656; }\n",
       ".datatable .int     { background: #5D9E5D; }\n",
       ".datatable .float   { background: #4040CC; }\n",
       ".datatable .str     { background: #CC4040; }\n",
       ".datatable .time    { background: #40CC40; }\n",
       ".datatable .row_index {  background: var(--jp-border-color3);  border-right: 1px solid var(--jp-border-color0);  color: var(--jp-ui-font-color3);  font-size: 9px;}\n",
       ".datatable .frame tbody td { text-align: left; }\n",
       ".datatable .frame tr.coltypes .row_index {  background: var(--jp-border-color0);}\n",
       ".datatable th:nth-child(2) { padding-left: 12px; }\n",
       ".datatable .hellipsis {  color: var(--jp-cell-editor-border-color);}\n",
       ".datatable .vellipsis {  background: var(--jp-layout-color0);  color: var(--jp-cell-editor-border-color);}\n",
       ".datatable .na {  color: var(--jp-cell-editor-border-color);  font-size: 80%;}\n",
       ".datatable .sp {  opacity: 0.25;}\n",
       ".datatable .footer { font-size: 9px; }\n",
       ".datatable .frame_dimensions {  background: var(--jp-border-color3);  border-top: 1px solid var(--jp-border-color0);  color: var(--jp-ui-font-color3);  display: inline-block;  opacity: 0.6;  padding: 1px 10px 1px 5px;}\n",
       "</style>\n"
      ],
      "text/plain": [
       "<IPython.core.display.HTML object>"
      ]
     },
     "metadata": {},
     "output_type": "display_data"
    }
   ],
   "source": [
    "import numpy as np\n",
    "import pandas as pd\n",
    "pd.set_option('max_columns', 100)\n",
    "pd.set_option('max_rows', 200)\n",
    "\n",
    "import matplotlib.pyplot as plt\n",
    "import seaborn as sns\n",
    "\n",
    "import gc, random, os\n",
    "\n",
    "from sklearn.model_selection import StratifiedKFold\n",
    "\n",
    "from sklearn.preprocessing import PowerTransformer\n",
    "\n",
    "from sklearn.metrics import silhouette_score, calinski_harabasz_score, davies_bouldin_score\n",
    "from sklearn.metrics import balanced_accuracy_score, roc_auc_score\n",
    "\n",
    "from sklearn.mixture import BayesianGaussianMixture\n",
    "\n",
    "import lightgbm as lgb\n",
    "from sklearn.ensemble import ExtraTreesClassifier\n",
    "from sklearn.discriminant_analysis import LinearDiscriminantAnalysis, QuadraticDiscriminantAnalysis\n",
    "from sklearn.naive_bayes import GaussianNB\n",
    "\n",
    "SEED = 666 # please chose another one than mine\n",
    "N_FOLDS = 10\n",
    "N_CLUSTERS = 7\n",
    "\n",
    "def seed_everything(seed=SEED):\n",
    "    os.environ['PYTHONHASHSEED'] = str(seed)\n",
    "    np.random.seed(seed)\n",
    "\n",
    "seed_everything()"
   ]
  },
  {
   "cell_type": "code",
   "execution_count": 2,
   "id": "846b5f13",
   "metadata": {
    "execution": {
     "iopub.execute_input": "2022-07-14T05:47:24.057469Z",
     "iopub.status.busy": "2022-07-14T05:47:24.056918Z",
     "iopub.status.idle": "2022-07-14T05:47:25.331119Z",
     "shell.execute_reply": "2022-07-14T05:47:25.330171Z"
    },
    "papermill": {
     "duration": 1.286027,
     "end_time": "2022-07-14T05:47:25.333489",
     "exception": false,
     "start_time": "2022-07-14T05:47:24.047462",
     "status": "completed"
    },
    "tags": []
   },
   "outputs": [
    {
     "data": {
      "text/html": [
       "<div>\n",
       "<style scoped>\n",
       "    .dataframe tbody tr th:only-of-type {\n",
       "        vertical-align: middle;\n",
       "    }\n",
       "\n",
       "    .dataframe tbody tr th {\n",
       "        vertical-align: top;\n",
       "    }\n",
       "\n",
       "    .dataframe thead th {\n",
       "        text-align: right;\n",
       "    }\n",
       "</style>\n",
       "<table border=\"1\" class=\"dataframe\">\n",
       "  <thead>\n",
       "    <tr style=\"text-align: right;\">\n",
       "      <th></th>\n",
       "      <th>f_01</th>\n",
       "      <th>f_02</th>\n",
       "      <th>f_03</th>\n",
       "      <th>f_04</th>\n",
       "      <th>f_05</th>\n",
       "      <th>f_06</th>\n",
       "      <th>f_07</th>\n",
       "      <th>f_08</th>\n",
       "      <th>f_09</th>\n",
       "      <th>f_10</th>\n",
       "      <th>f_11</th>\n",
       "      <th>f_12</th>\n",
       "      <th>f_13</th>\n",
       "      <th>f_14</th>\n",
       "      <th>f_15</th>\n",
       "      <th>f_16</th>\n",
       "      <th>f_17</th>\n",
       "      <th>f_18</th>\n",
       "      <th>f_19</th>\n",
       "      <th>f_20</th>\n",
       "      <th>f_21</th>\n",
       "      <th>f_22</th>\n",
       "      <th>f_23</th>\n",
       "      <th>f_24</th>\n",
       "      <th>f_25</th>\n",
       "      <th>f_26</th>\n",
       "      <th>f_27</th>\n",
       "      <th>f_28</th>\n",
       "    </tr>\n",
       "  </thead>\n",
       "  <tbody>\n",
       "    <tr>\n",
       "      <th>0</th>\n",
       "      <td>-0.912791</td>\n",
       "      <td>0.648951</td>\n",
       "      <td>0.589045</td>\n",
       "      <td>-0.830817</td>\n",
       "      <td>0.733624</td>\n",
       "      <td>2.258560</td>\n",
       "      <td>2</td>\n",
       "      <td>13</td>\n",
       "      <td>14</td>\n",
       "      <td>5</td>\n",
       "      <td>13</td>\n",
       "      <td>6</td>\n",
       "      <td>6</td>\n",
       "      <td>-0.469819</td>\n",
       "      <td>0.358126</td>\n",
       "      <td>1.068105</td>\n",
       "      <td>-0.559650</td>\n",
       "      <td>-0.366905</td>\n",
       "      <td>-0.478412</td>\n",
       "      <td>-0.757002</td>\n",
       "      <td>-0.763635</td>\n",
       "      <td>-1.090369</td>\n",
       "      <td>1.142641</td>\n",
       "      <td>-0.884274</td>\n",
       "      <td>1.137896</td>\n",
       "      <td>1.309073</td>\n",
       "      <td>1.463002</td>\n",
       "      <td>0.813527</td>\n",
       "    </tr>\n",
       "    <tr>\n",
       "      <th>1</th>\n",
       "      <td>-0.453954</td>\n",
       "      <td>0.654175</td>\n",
       "      <td>0.995248</td>\n",
       "      <td>-1.653020</td>\n",
       "      <td>0.863810</td>\n",
       "      <td>-0.090651</td>\n",
       "      <td>2</td>\n",
       "      <td>3</td>\n",
       "      <td>6</td>\n",
       "      <td>4</td>\n",
       "      <td>6</td>\n",
       "      <td>16</td>\n",
       "      <td>9</td>\n",
       "      <td>0.591035</td>\n",
       "      <td>-0.396915</td>\n",
       "      <td>0.145834</td>\n",
       "      <td>-0.030798</td>\n",
       "      <td>0.471167</td>\n",
       "      <td>-0.428791</td>\n",
       "      <td>-0.089908</td>\n",
       "      <td>-1.784204</td>\n",
       "      <td>-0.839474</td>\n",
       "      <td>0.459685</td>\n",
       "      <td>1.759412</td>\n",
       "      <td>-0.275422</td>\n",
       "      <td>-0.852168</td>\n",
       "      <td>0.562457</td>\n",
       "      <td>-2.680541</td>\n",
       "    </tr>\n",
       "    <tr>\n",
       "      <th>2</th>\n",
       "      <td>0.324568</td>\n",
       "      <td>-1.170602</td>\n",
       "      <td>-0.624491</td>\n",
       "      <td>0.105448</td>\n",
       "      <td>0.783948</td>\n",
       "      <td>1.988301</td>\n",
       "      <td>5</td>\n",
       "      <td>11</td>\n",
       "      <td>5</td>\n",
       "      <td>8</td>\n",
       "      <td>9</td>\n",
       "      <td>3</td>\n",
       "      <td>11</td>\n",
       "      <td>-0.679875</td>\n",
       "      <td>0.469326</td>\n",
       "      <td>0.349843</td>\n",
       "      <td>-0.288042</td>\n",
       "      <td>0.291470</td>\n",
       "      <td>-0.413534</td>\n",
       "      <td>-1.602377</td>\n",
       "      <td>1.190984</td>\n",
       "      <td>3.267116</td>\n",
       "      <td>-0.088322</td>\n",
       "      <td>-2.168635</td>\n",
       "      <td>-0.974989</td>\n",
       "      <td>1.335763</td>\n",
       "      <td>-1.110655</td>\n",
       "      <td>-3.630723</td>\n",
       "    </tr>\n",
       "    <tr>\n",
       "      <th>3</th>\n",
       "      <td>0.229049</td>\n",
       "      <td>0.264109</td>\n",
       "      <td>0.231520</td>\n",
       "      <td>0.415012</td>\n",
       "      <td>-1.221269</td>\n",
       "      <td>0.138850</td>\n",
       "      <td>6</td>\n",
       "      <td>2</td>\n",
       "      <td>13</td>\n",
       "      <td>8</td>\n",
       "      <td>9</td>\n",
       "      <td>6</td>\n",
       "      <td>4</td>\n",
       "      <td>-0.389456</td>\n",
       "      <td>0.626762</td>\n",
       "      <td>-1.074543</td>\n",
       "      <td>-1.521753</td>\n",
       "      <td>-1.150806</td>\n",
       "      <td>0.619283</td>\n",
       "      <td>1.287801</td>\n",
       "      <td>0.532837</td>\n",
       "      <td>1.036631</td>\n",
       "      <td>-2.041828</td>\n",
       "      <td>1.440490</td>\n",
       "      <td>-1.900191</td>\n",
       "      <td>-0.630771</td>\n",
       "      <td>-0.050641</td>\n",
       "      <td>0.238333</td>\n",
       "    </tr>\n",
       "    <tr>\n",
       "      <th>4</th>\n",
       "      <td>-1.039533</td>\n",
       "      <td>-0.270155</td>\n",
       "      <td>-1.830264</td>\n",
       "      <td>-0.290108</td>\n",
       "      <td>-1.852809</td>\n",
       "      <td>0.781898</td>\n",
       "      <td>8</td>\n",
       "      <td>7</td>\n",
       "      <td>5</td>\n",
       "      <td>3</td>\n",
       "      <td>1</td>\n",
       "      <td>13</td>\n",
       "      <td>11</td>\n",
       "      <td>-0.120743</td>\n",
       "      <td>-0.615578</td>\n",
       "      <td>-1.064359</td>\n",
       "      <td>0.444142</td>\n",
       "      <td>0.428327</td>\n",
       "      <td>-1.628830</td>\n",
       "      <td>-0.434948</td>\n",
       "      <td>0.322505</td>\n",
       "      <td>0.284326</td>\n",
       "      <td>-2.438365</td>\n",
       "      <td>1.473930</td>\n",
       "      <td>-1.044684</td>\n",
       "      <td>1.602686</td>\n",
       "      <td>-0.405263</td>\n",
       "      <td>-1.987263</td>\n",
       "    </tr>\n",
       "  </tbody>\n",
       "</table>\n",
       "</div>"
      ],
      "text/plain": [
       "       f_01      f_02      f_03      f_04      f_05      f_06  f_07  f_08  \\\n",
       "0 -0.912791  0.648951  0.589045 -0.830817  0.733624  2.258560     2    13   \n",
       "1 -0.453954  0.654175  0.995248 -1.653020  0.863810 -0.090651     2     3   \n",
       "2  0.324568 -1.170602 -0.624491  0.105448  0.783948  1.988301     5    11   \n",
       "3  0.229049  0.264109  0.231520  0.415012 -1.221269  0.138850     6     2   \n",
       "4 -1.039533 -0.270155 -1.830264 -0.290108 -1.852809  0.781898     8     7   \n",
       "\n",
       "   f_09  f_10  f_11  f_12  f_13      f_14      f_15      f_16      f_17  \\\n",
       "0    14     5    13     6     6 -0.469819  0.358126  1.068105 -0.559650   \n",
       "1     6     4     6    16     9  0.591035 -0.396915  0.145834 -0.030798   \n",
       "2     5     8     9     3    11 -0.679875  0.469326  0.349843 -0.288042   \n",
       "3    13     8     9     6     4 -0.389456  0.626762 -1.074543 -1.521753   \n",
       "4     5     3     1    13    11 -0.120743 -0.615578 -1.064359  0.444142   \n",
       "\n",
       "       f_18      f_19      f_20      f_21      f_22      f_23      f_24  \\\n",
       "0 -0.366905 -0.478412 -0.757002 -0.763635 -1.090369  1.142641 -0.884274   \n",
       "1  0.471167 -0.428791 -0.089908 -1.784204 -0.839474  0.459685  1.759412   \n",
       "2  0.291470 -0.413534 -1.602377  1.190984  3.267116 -0.088322 -2.168635   \n",
       "3 -1.150806  0.619283  1.287801  0.532837  1.036631 -2.041828  1.440490   \n",
       "4  0.428327 -1.628830 -0.434948  0.322505  0.284326 -2.438365  1.473930   \n",
       "\n",
       "       f_25      f_26      f_27      f_28  \n",
       "0  1.137896  1.309073  1.463002  0.813527  \n",
       "1 -0.275422 -0.852168  0.562457 -2.680541  \n",
       "2 -0.974989  1.335763 -1.110655 -3.630723  \n",
       "3 -1.900191 -0.630771 -0.050641  0.238333  \n",
       "4 -1.044684  1.602686 -0.405263 -1.987263  "
      ]
     },
     "execution_count": 2,
     "metadata": {},
     "output_type": "execute_result"
    }
   ],
   "source": [
    "df = pd.read_csv(\"../input/tabular-playground-series-jul-2022/data.csv\", usecols = [f\"f_{i+1:02d}\" for i in range(28)])\n",
    "df.head()"
   ]
  },
  {
   "cell_type": "code",
   "execution_count": 3,
   "id": "05334ae6",
   "metadata": {
    "execution": {
     "iopub.execute_input": "2022-07-14T05:47:25.352281Z",
     "iopub.status.busy": "2022-07-14T05:47:25.351555Z",
     "iopub.status.idle": "2022-07-14T05:47:25.368808Z",
     "shell.execute_reply": "2022-07-14T05:47:25.367679Z"
    },
    "papermill": {
     "duration": 0.029387,
     "end_time": "2022-07-14T05:47:25.371221",
     "exception": false,
     "start_time": "2022-07-14T05:47:25.341834",
     "status": "completed"
    },
    "tags": []
   },
   "outputs": [],
   "source": [
    "all_scores = []\n",
    "usefull_cols = [f\"f_{i:02d}\" for i in list(range(7, 14)) + list(range(22, 29))]\n",
    "\n",
    "def scores(preds, lib, df=df[usefull_cols], verbose = True, compute_silhouette = True): \n",
    "    \n",
    "    # Silhouette is very slow\n",
    "    sil = 0\n",
    "    if compute_silhouette:\n",
    "        sil = silhouette_score(df, preds, metric='euclidean')\n",
    "    \n",
    "    s = (lib,\n",
    "         sil, \n",
    "         calinski_harabasz_score(df, preds), \n",
    "         davies_bouldin_score(df, preds))\n",
    "    \n",
    "    if verbose:\n",
    "        print(f\"{s[0]} : Silhouette : {s[1]:.1%} | Calinski Harabasz : {s[2]:.1f} | Davis Bouldin : {s[3]:.3f}\")\n",
    "        \n",
    "    return s"
   ]
  },
  {
   "cell_type": "markdown",
   "id": "54ceec83",
   "metadata": {
    "papermill": {
     "duration": 0.008039,
     "end_time": "2022-07-14T05:47:25.387815",
     "exception": false,
     "start_time": "2022-07-14T05:47:25.379776",
     "status": "completed"
    },
    "tags": []
   },
   "source": [
    "# Bayesian Gaussian Mixture"
   ]
  },
  {
   "cell_type": "code",
   "execution_count": 4,
   "id": "9bc9477c",
   "metadata": {
    "execution": {
     "iopub.execute_input": "2022-07-14T05:47:25.406287Z",
     "iopub.status.busy": "2022-07-14T05:47:25.405900Z",
     "iopub.status.idle": "2022-07-14T05:51:55.756280Z",
     "shell.execute_reply": "2022-07-14T05:51:55.754022Z"
    },
    "papermill": {
     "duration": 270.379899,
     "end_time": "2022-07-14T05:51:55.776075",
     "exception": false,
     "start_time": "2022-07-14T05:47:25.396176",
     "status": "completed"
    },
    "tags": []
   },
   "outputs": [
    {
     "name": "stdout",
     "output_type": "stream",
     "text": [
      "BayesianGaussianMixture after powertransformer : Silhouette : 5.0% | Calinski Harabasz : 8157.7 | Davis Bouldin : 2.657\n"
     ]
    }
   ],
   "source": [
    "df_scaled = pd.DataFrame(PowerTransformer().fit_transform(df[usefull_cols]), columns = usefull_cols)\n",
    "\n",
    "BGM = BayesianGaussianMixture(n_components = N_CLUSTERS, covariance_type = 'full', random_state = SEED, n_init = 5, tol=.01)\n",
    "BGM.fit(df_scaled)\n",
    "\n",
    "BGM_predict = BGM.predict(df_scaled)\n",
    "BGM_predict_proba = BGM.predict_proba(df_scaled)\n",
    "\n",
    "all_scores.append(scores(BGM_predict, lib=\"BayesianGaussianMixture after powertransformer\"))"
   ]
  },
  {
   "cell_type": "markdown",
   "id": "089a2091",
   "metadata": {
    "papermill": {
     "duration": 0.019239,
     "end_time": "2022-07-14T05:51:55.811100",
     "exception": false,
     "start_time": "2022-07-14T05:51:55.791861",
     "status": "completed"
    },
    "tags": []
   },
   "source": [
    "# Trusted Data\n",
    "https://www.kaggle.com/code/ricopue/tps-jul22-clusters-and-lgb<br>\n",
    "Thanks to Ricopue"
   ]
  },
  {
   "cell_type": "code",
   "execution_count": 5,
   "id": "10fb732c",
   "metadata": {
    "execution": {
     "iopub.execute_input": "2022-07-14T05:51:55.845303Z",
     "iopub.status.busy": "2022-07-14T05:51:55.844632Z",
     "iopub.status.idle": "2022-07-14T05:51:56.016776Z",
     "shell.execute_reply": "2022-07-14T05:51:56.015507Z"
    },
    "papermill": {
     "duration": 0.192808,
     "end_time": "2022-07-14T05:51:56.019339",
     "exception": false,
     "start_time": "2022-07-14T05:51:55.826531",
     "status": "completed"
    },
    "tags": []
   },
   "outputs": [
    {
     "name": "stdout",
     "output_type": "stream",
     "text": [
      "Class n°0  |  Median : 0.8682  |  Training data : 72.9%\n",
      "Class n°1  |  Median : 0.9376  |  Training data : 79.4%\n",
      "Class n°2  |  Median : 0.7302  |  Training data : 55.5%\n",
      "Class n°3  |  Median : 0.9833  |  Training data : 88.5%\n",
      "Class n°4  |  Median : 0.8670  |  Training data : 73.2%\n",
      "Class n°5  |  Median : 0.9071  |  Training data : 78.0%\n",
      "Class n°6  |  Median : 0.9117  |  Training data : 76.1%\n"
     ]
    }
   ],
   "source": [
    "# get trusted data to train LGB model.\n",
    "proba_threshold = .69\n",
    "\n",
    "df_scaled['predict'] = BGM_predict\n",
    "df_scaled['predict_proba'] = 0\n",
    "for n in range(N_CLUSTERS):\n",
    "    df_scaled[f'predict_proba_{n}'] = BGM_predict_proba[:,n]\n",
    "    df_scaled.loc[df_scaled.predict == n, 'predict_proba'] = df_scaled[f'predict_proba_{n}']\n",
    "    \n",
    "    \n",
    "idxs = np.array([])\n",
    "for n in range(N_CLUSTERS):\n",
    "    median = df_scaled[df_scaled.predict==n]['predict_proba'].median()\n",
    "    idx = df_scaled[(df_scaled.predict==n) & (df_scaled.predict_proba > proba_threshold)].index\n",
    "    idxs = np.concatenate((idxs, idx))\n",
    "    print(f'Class n°{n}  |  Median : {median:.4f}  |  Training data : {len(idx)/len(df_scaled[(df_scaled.predict==n)]):.1%}')\n",
    "    \n",
    "X = df_scaled.loc[idxs][usefull_cols]\n",
    "y = df_scaled.loc[idxs]['predict']"
   ]
  },
  {
   "cell_type": "markdown",
   "id": "9afbee23",
   "metadata": {
    "papermill": {
     "duration": 0.008209,
     "end_time": "2022-07-14T05:51:56.036007",
     "exception": false,
     "start_time": "2022-07-14T05:51:56.027798",
     "status": "completed"
    },
    "tags": []
   },
   "source": [
    "# LightGBM on trusted data after BayesianGaussianMixture\n",
    "https://www.kaggle.com/code/ricopue/tps-jul22-clusters-and-lgb<br>\n",
    "Thanks to Ricopue"
   ]
  },
  {
   "cell_type": "code",
   "execution_count": 6,
   "id": "544efb7b",
   "metadata": {
    "execution": {
     "iopub.execute_input": "2022-07-14T05:51:56.056249Z",
     "iopub.status.busy": "2022-07-14T05:51:56.055456Z",
     "iopub.status.idle": "2022-07-14T06:03:05.279948Z",
     "shell.execute_reply": "2022-07-14T06:03:05.278522Z"
    },
    "papermill": {
     "duration": 669.265131,
     "end_time": "2022-07-14T06:03:05.310415",
     "exception": false,
     "start_time": "2022-07-14T05:51:56.045284",
     "status": "completed"
    },
    "tags": []
   },
   "outputs": [
    {
     "name": "stdout",
     "output_type": "stream",
     "text": [
      "Training until validation scores don't improve for 100 rounds\n",
      "[200]\tvalid_0's multi_logloss: 0.0420435\n",
      "[400]\tvalid_0's multi_logloss: 0.0257652\n",
      "[600]\tvalid_0's multi_logloss: 0.0228872\n",
      "Early stopping, best iteration is:\n",
      "[637]\tvalid_0's multi_logloss: 0.0228498\n",
      "Fold n°1 on LGBM. AUC : 1.000 | Accuracy : 99.1%\n",
      "\n",
      "Training until validation scores don't improve for 100 rounds\n",
      "[200]\tvalid_0's multi_logloss: 0.0421074\n",
      "[400]\tvalid_0's multi_logloss: 0.0231106\n",
      "[600]\tvalid_0's multi_logloss: 0.0188834\n",
      "[800]\tvalid_0's multi_logloss: 0.018073\n",
      "Early stopping, best iteration is:\n",
      "[821]\tvalid_0's multi_logloss: 0.0180097\n",
      "Fold n°2 on LGBM. AUC : 1.000 | Accuracy : 99.3%\n",
      "\n",
      "Training until validation scores don't improve for 100 rounds\n",
      "[200]\tvalid_0's multi_logloss: 0.0456881\n",
      "[400]\tvalid_0's multi_logloss: 0.0297501\n",
      "[600]\tvalid_0's multi_logloss: 0.0278121\n",
      "Early stopping, best iteration is:\n",
      "[607]\tvalid_0's multi_logloss: 0.0277294\n",
      "Fold n°3 on LGBM. AUC : 1.000 | Accuracy : 99.1%\n",
      "\n",
      "Training until validation scores don't improve for 100 rounds\n",
      "[200]\tvalid_0's multi_logloss: 0.0435024\n",
      "[400]\tvalid_0's multi_logloss: 0.0248962\n",
      "[600]\tvalid_0's multi_logloss: 0.0207688\n",
      "[800]\tvalid_0's multi_logloss: 0.0206894\n",
      "Early stopping, best iteration is:\n",
      "[721]\tvalid_0's multi_logloss: 0.0202856\n",
      "Fold n°4 on LGBM. AUC : 1.000 | Accuracy : 99.4%\n",
      "\n",
      "Training until validation scores don't improve for 100 rounds\n",
      "[200]\tvalid_0's multi_logloss: 0.0424876\n",
      "[400]\tvalid_0's multi_logloss: 0.0247357\n",
      "[600]\tvalid_0's multi_logloss: 0.0209574\n",
      "[800]\tvalid_0's multi_logloss: 0.0202484\n",
      "Early stopping, best iteration is:\n",
      "[806]\tvalid_0's multi_logloss: 0.0201711\n",
      "Fold n°5 on LGBM. AUC : 1.000 | Accuracy : 99.3%\n",
      "\n",
      "Training until validation scores don't improve for 100 rounds\n",
      "[200]\tvalid_0's multi_logloss: 0.0408168\n",
      "[400]\tvalid_0's multi_logloss: 0.0222964\n",
      "[600]\tvalid_0's multi_logloss: 0.0176529\n",
      "[800]\tvalid_0's multi_logloss: 0.0166541\n",
      "Early stopping, best iteration is:\n",
      "[861]\tvalid_0's multi_logloss: 0.0165055\n",
      "Fold n°6 on LGBM. AUC : 1.000 | Accuracy : 99.5%\n",
      "\n",
      "Training until validation scores don't improve for 100 rounds\n",
      "[200]\tvalid_0's multi_logloss: 0.0436762\n",
      "[400]\tvalid_0's multi_logloss: 0.0255584\n",
      "[600]\tvalid_0's multi_logloss: 0.0215309\n",
      "[800]\tvalid_0's multi_logloss: 0.0206563\n",
      "Early stopping, best iteration is:\n",
      "[784]\tvalid_0's multi_logloss: 0.0204915\n",
      "Fold n°7 on LGBM. AUC : 1.000 | Accuracy : 99.2%\n",
      "\n",
      "Training until validation scores don't improve for 100 rounds\n",
      "[200]\tvalid_0's multi_logloss: 0.0386148\n",
      "[400]\tvalid_0's multi_logloss: 0.0210699\n",
      "[600]\tvalid_0's multi_logloss: 0.017043\n",
      "[800]\tvalid_0's multi_logloss: 0.0158289\n",
      "[1000]\tvalid_0's multi_logloss: 0.0155935\n",
      "[1200]\tvalid_0's multi_logloss: 0.0151654\n",
      "[1400]\tvalid_0's multi_logloss: 0.0149623\n",
      "[1600]\tvalid_0's multi_logloss: 0.0147811\n",
      "Early stopping, best iteration is:\n",
      "[1620]\tvalid_0's multi_logloss: 0.0147496\n",
      "Fold n°8 on LGBM. AUC : 1.000 | Accuracy : 99.6%\n",
      "\n",
      "Training until validation scores don't improve for 100 rounds\n",
      "[200]\tvalid_0's multi_logloss: 0.0413628\n",
      "[400]\tvalid_0's multi_logloss: 0.0245765\n",
      "[600]\tvalid_0's multi_logloss: 0.0215369\n",
      "[800]\tvalid_0's multi_logloss: 0.0204653\n",
      "Early stopping, best iteration is:\n",
      "[785]\tvalid_0's multi_logloss: 0.0203723\n",
      "Fold n°9 on LGBM. AUC : 1.000 | Accuracy : 99.3%\n",
      "\n",
      "Training until validation scores don't improve for 100 rounds\n",
      "[200]\tvalid_0's multi_logloss: 0.0455276\n",
      "[400]\tvalid_0's multi_logloss: 0.0278705\n",
      "[600]\tvalid_0's multi_logloss: 0.0246957\n",
      "Early stopping, best iteration is:\n",
      "[669]\tvalid_0's multi_logloss: 0.0244076\n",
      "Fold n°10 on LGBM. AUC : 1.000 | Accuracy : 99.1%\n",
      "\n",
      "LGBM after BayesianGaussianMixture - threshold 0.69 : Silhouette : 5.4% | Calinski Harabasz : 8343.6 | Davis Bouldin : 2.590\n"
     ]
    },
    {
     "data": {
      "text/plain": [
       "balanced_accuracy_score    0.992903\n",
       "roc_auc_score              0.999947\n",
       "dtype: float64"
      ]
     },
     "execution_count": 6,
     "metadata": {},
     "output_type": "execute_result"
    }
   ],
   "source": [
    "params_lgb = {'learning_rate': 0.07,'objective': 'multiclass','boosting': 'gbdt','verbosity': -1,'n_jobs': -1, 'num_classes':N_CLUSTERS} \n",
    "\n",
    "lgbm_predict_proba = 0 ; classif_scores = []\n",
    "\n",
    "gkf = StratifiedKFold(N_FOLDS, shuffle=True, random_state = SEED)\n",
    "for fold, (trn_idx, val_idx) in enumerate(gkf.split(X,y)):   \n",
    "\n",
    "    X_trn = lgb.Dataset(X.iloc[trn_idx], y.iloc[trn_idx], feature_name = usefull_cols)\n",
    "    X_val = lgb.Dataset(X.iloc[val_idx], y.iloc[val_idx], feature_name = usefull_cols)\n",
    "    \n",
    "    model = lgb.train(params = params_lgb, \n",
    "                train_set = X_trn, valid_sets =  X_val, \n",
    "                num_boost_round = 5000, \n",
    "                callbacks = [ lgb.early_stopping(stopping_rounds=100, verbose=True), lgb.log_evaluation(period=200)])  \n",
    "    \n",
    "    y_pred_proba = model.predict(X.iloc[val_idx])\n",
    "    y_pred = np.argmax(y_pred_proba, axis=1)\n",
    "    \n",
    "    s = (balanced_accuracy_score(y.iloc[val_idx], y_pred),\n",
    "        roc_auc_score(y.iloc[val_idx], y_pred_proba, average=\"weighted\", multi_class=\"ovo\"))\n",
    "    print(f\"Fold n°{fold+1} on LGBM. AUC : {s[1]:.3f} | Accuracy : {s[0]:.1%}\\n\")\n",
    "    classif_scores.append(s)\n",
    "\n",
    "    lgbm_predict_proba += model.predict(df_scaled[usefull_cols]) / N_FOLDS\n",
    "    \n",
    "all_scores.append(scores(np.argmax(lgbm_predict_proba, axis=1), lib=\"LGBM after BayesianGaussianMixture - threshold 0.69\"))\n",
    "\n",
    "pd.DataFrame(classif_scores, columns = [\"balanced_accuracy_score\", \"roc_auc_score\"]).mean(0)"
   ]
  },
  {
   "cell_type": "markdown",
   "id": "7c2c411d",
   "metadata": {
    "papermill": {
     "duration": 0.025986,
     "end_time": "2022-07-14T06:03:05.363335",
     "exception": false,
     "start_time": "2022-07-14T06:03:05.337349",
     "status": "completed"
    },
    "tags": []
   },
   "source": [
    "High AUC and high Accuracy Score"
   ]
  },
  {
   "cell_type": "markdown",
   "id": "26023a9c",
   "metadata": {
    "papermill": {
     "duration": 0.01406,
     "end_time": "2022-07-14T06:03:05.399810",
     "exception": false,
     "start_time": "2022-07-14T06:03:05.385750",
     "status": "completed"
    },
    "tags": []
   },
   "source": [
    "# Extratree on trusted data after BayesianGaussianMixture"
   ]
  },
  {
   "cell_type": "code",
   "execution_count": 7,
   "id": "74275d4b",
   "metadata": {
    "execution": {
     "iopub.execute_input": "2022-07-14T06:03:05.430617Z",
     "iopub.status.busy": "2022-07-14T06:03:05.430185Z",
     "iopub.status.idle": "2022-07-14T06:06:37.661251Z",
     "shell.execute_reply": "2022-07-14T06:06:37.659865Z"
    },
    "papermill": {
     "duration": 212.278735,
     "end_time": "2022-07-14T06:06:37.693006",
     "exception": false,
     "start_time": "2022-07-14T06:03:05.414271",
     "status": "completed"
    },
    "tags": []
   },
   "outputs": [
    {
     "name": "stdout",
     "output_type": "stream",
     "text": [
      "Fold n°1 on Extratree. AUC : 0.999 | Accuracy : 96.3%\n",
      "Fold n°2 on Extratree. AUC : 0.998 | Accuracy : 95.3%\n",
      "Fold n°3 on Extratree. AUC : 0.999 | Accuracy : 95.8%\n",
      "Fold n°4 on Extratree. AUC : 0.998 | Accuracy : 95.7%\n",
      "Fold n°5 on Extratree. AUC : 0.999 | Accuracy : 96.3%\n",
      "Fold n°6 on Extratree. AUC : 0.999 | Accuracy : 96.0%\n",
      "Fold n°7 on Extratree. AUC : 0.999 | Accuracy : 95.6%\n",
      "Fold n°8 on Extratree. AUC : 0.999 | Accuracy : 95.8%\n",
      "Fold n°9 on Extratree. AUC : 0.999 | Accuracy : 95.6%\n",
      "Fold n°10 on Extratree. AUC : 0.999 | Accuracy : 96.2%\n",
      "Extratree after BayesianGaussianMixture : Silhouette : 6.0% | Calinski Harabasz : 8646.9 | Davis Bouldin : 2.497\n"
     ]
    },
    {
     "data": {
      "text/plain": [
       "balanced_accuracy_score    0.958731\n",
       "roc_auc_score              0.998615\n",
       "dtype: float64"
      ]
     },
     "execution_count": 7,
     "metadata": {},
     "output_type": "execute_result"
    }
   ],
   "source": [
    "et_predict_proba = 0 ; classif_scores = []\n",
    "\n",
    "gkf = StratifiedKFold(N_FOLDS, shuffle=True, random_state = SEED + 1)\n",
    "\n",
    "for fold, (trn_idx, val_idx) in enumerate(gkf.split(X, y)):   \n",
    "\n",
    "    X_trn, y_trn = X.iloc[trn_idx], y.iloc[trn_idx]\n",
    "    X_val, y_val = X.iloc[val_idx], y.iloc[val_idx]\n",
    "    \n",
    "    model = ExtraTreesClassifier(n_estimators=100, random_state=SEED)\n",
    "    model.fit(X_trn, y_trn)\n",
    "    \n",
    "    y_pred = model.predict(X_val)\n",
    "    y_pred_proba = model.predict_proba(X_val)\n",
    "    \n",
    "    s = (balanced_accuracy_score(y_val, y_pred),\n",
    "        roc_auc_score(y_val, y_pred_proba, average=\"weighted\", multi_class=\"ovo\"))\n",
    "    print(f\"Fold n°{fold+1} on Extratree. AUC : {s[1]:.3f} | Accuracy : {s[0]:.1%}\")\n",
    "    classif_scores.append(s)\n",
    "\n",
    "    et_predict_proba += model.predict_proba(df_scaled[usefull_cols]) / N_FOLDS\n",
    "\n",
    "all_scores.append(scores(np.argmax(et_predict_proba, axis=1), lib=\"Extratree after BayesianGaussianMixture\"))\n",
    "\n",
    "pd.DataFrame(classif_scores, columns = [\"balanced_accuracy_score\", \"roc_auc_score\"]).mean(0)"
   ]
  },
  {
   "cell_type": "markdown",
   "id": "bf1e1d68",
   "metadata": {
    "papermill": {
     "duration": 0.02739,
     "end_time": "2022-07-14T06:06:37.748061",
     "exception": false,
     "start_time": "2022-07-14T06:06:37.720671",
     "status": "completed"
    },
    "tags": []
   },
   "source": [
    "Accuracy Score is not so high than with LGBM"
   ]
  },
  {
   "cell_type": "markdown",
   "id": "b837916b",
   "metadata": {
    "papermill": {
     "duration": 0.01446,
     "end_time": "2022-07-14T06:06:37.786171",
     "exception": false,
     "start_time": "2022-07-14T06:06:37.771711",
     "status": "completed"
    },
    "tags": []
   },
   "source": [
    "# QuadraticDiscriminantAnalysis on trusted data after BayesianGaussianMixture\n",
    "First I'm trying to have the better silhouette, ... scores. But AUC and accuracy are very low and it scores only 0.39 on public LB.<br>\n",
    "reg_param = 1 : strong regularization per-class covariances."
   ]
  },
  {
   "cell_type": "code",
   "execution_count": 8,
   "id": "6cfb9743",
   "metadata": {
    "execution": {
     "iopub.execute_input": "2022-07-14T06:06:37.816977Z",
     "iopub.status.busy": "2022-07-14T06:06:37.816593Z",
     "iopub.status.idle": "2022-07-14T06:08:19.338693Z",
     "shell.execute_reply": "2022-07-14T06:08:19.337255Z"
    },
    "papermill": {
     "duration": 101.563225,
     "end_time": "2022-07-14T06:08:19.364030",
     "exception": false,
     "start_time": "2022-07-14T06:06:37.800805",
     "status": "completed"
    },
    "tags": []
   },
   "outputs": [
    {
     "name": "stdout",
     "output_type": "stream",
     "text": [
      "Fold n°1 on QDA. AUC : 0.969 | Accuracy : 78.8%\n",
      "Fold n°2 on QDA. AUC : 0.968 | Accuracy : 77.2%\n",
      "Fold n°3 on QDA. AUC : 0.967 | Accuracy : 77.5%\n",
      "Fold n°4 on QDA. AUC : 0.969 | Accuracy : 78.7%\n",
      "Fold n°5 on QDA. AUC : 0.969 | Accuracy : 78.4%\n",
      "Fold n°6 on QDA. AUC : 0.966 | Accuracy : 77.4%\n",
      "Fold n°7 on QDA. AUC : 0.968 | Accuracy : 77.5%\n",
      "Fold n°8 on QDA. AUC : 0.967 | Accuracy : 78.3%\n",
      "Fold n°9 on QDA. AUC : 0.969 | Accuracy : 78.1%\n",
      "Fold n°10 on QDA. AUC : 0.969 | Accuracy : 77.9%\n",
      "QuadraticDiscriminantAnalysis after BayesianGaussianMixture : Silhouette : 8.1% | Calinski Harabasz : 9938.5 | Davis Bouldin : 2.214\n"
     ]
    },
    {
     "data": {
      "text/plain": [
       "balanced_accuracy_score    0.779673\n",
       "roc_auc_score              0.967990\n",
       "dtype: float64"
      ]
     },
     "execution_count": 8,
     "metadata": {},
     "output_type": "execute_result"
    }
   ],
   "source": [
    "qda_predict_proba = 0 ; classif_scores = []\n",
    "\n",
    "gkf = StratifiedKFold(N_FOLDS, shuffle=True, random_state = SEED + 2)\n",
    "\n",
    "for fold, (trn_idx, val_idx) in enumerate(gkf.split(X, y)):   \n",
    "\n",
    "    X_trn, y_trn = X.iloc[trn_idx], y.iloc[trn_idx]\n",
    "    X_val, y_val = X.iloc[val_idx], y.iloc[val_idx]\n",
    "\n",
    "    model = QuadraticDiscriminantAnalysis(reg_param=1)\n",
    "    model.fit(X_trn, y_trn) # on trusted data only\n",
    "    \n",
    "    y_pred = model.predict(X_val)\n",
    "    y_pred_proba = model.predict_proba(X_val)\n",
    "    \n",
    "    s = (balanced_accuracy_score(y_val, y_pred),\n",
    "        roc_auc_score(y_val, y_pred_proba, average=\"weighted\", multi_class=\"ovo\"))\n",
    "    print(f\"Fold n°{fold+1} on QDA. AUC : {s[1]:.3f} | Accuracy : {s[0]:.1%}\")\n",
    "    classif_scores.append(s)\n",
    "\n",
    "    qda_predict_proba += model.predict_proba(df_scaled[usefull_cols]) / N_FOLDS\n",
    "\n",
    "all_scores.append(scores(np.argmax(qda_predict_proba, axis=1), lib=\"QuadraticDiscriminantAnalysis after BayesianGaussianMixture\"))\n",
    "pd.DataFrame(classif_scores, columns = [\"balanced_accuracy_score\", \"roc_auc_score\"]).mean(0)"
   ]
  },
  {
   "cell_type": "markdown",
   "id": "6f493740",
   "metadata": {
    "papermill": {
     "duration": 0.028056,
     "end_time": "2022-07-14T06:08:19.420404",
     "exception": false,
     "start_time": "2022-07-14T06:08:19.392348",
     "status": "completed"
    },
    "tags": []
   },
   "source": [
    "And I'm trying to have the better AUC and accuracy scores. Score on public LB is higher than 0.615.\n",
    "reg_param = 0 : low regularization per-class covariances."
   ]
  },
  {
   "cell_type": "code",
   "execution_count": 9,
   "id": "740b711c",
   "metadata": {
    "execution": {
     "iopub.execute_input": "2022-07-14T06:08:19.459733Z",
     "iopub.status.busy": "2022-07-14T06:08:19.459368Z",
     "iopub.status.idle": "2022-07-14T06:10:01.131818Z",
     "shell.execute_reply": "2022-07-14T06:10:01.130412Z"
    },
    "papermill": {
     "duration": 101.716469,
     "end_time": "2022-07-14T06:10:01.159007",
     "exception": false,
     "start_time": "2022-07-14T06:08:19.442538",
     "status": "completed"
    },
    "tags": []
   },
   "outputs": [
    {
     "name": "stdout",
     "output_type": "stream",
     "text": [
      "Fold n°1 on QDA. AUC : 1.000 | Accuracy : 99.9%\n",
      "Fold n°2 on QDA. AUC : 1.000 | Accuracy : 99.9%\n",
      "Fold n°3 on QDA. AUC : 1.000 | Accuracy : 100.0%\n",
      "Fold n°4 on QDA. AUC : 1.000 | Accuracy : 100.0%\n",
      "Fold n°5 on QDA. AUC : 1.000 | Accuracy : 99.9%\n",
      "Fold n°6 on QDA. AUC : 1.000 | Accuracy : 100.0%\n",
      "Fold n°7 on QDA. AUC : 1.000 | Accuracy : 100.0%\n",
      "Fold n°8 on QDA. AUC : 1.000 | Accuracy : 99.9%\n",
      "Fold n°9 on QDA. AUC : 1.000 | Accuracy : 100.0%\n",
      "Fold n°10 on QDA. AUC : 1.000 | Accuracy : 99.9%\n",
      "QuadraticDiscriminantAnalysis after BayesianGaussianMixture : Silhouette : 5.4% | Calinski Harabasz : 8324.5 | Davis Bouldin : 2.569\n"
     ]
    },
    {
     "data": {
      "text/plain": [
       "balanced_accuracy_score    0.999432\n",
       "roc_auc_score              0.999999\n",
       "dtype: float64"
      ]
     },
     "execution_count": 9,
     "metadata": {},
     "output_type": "execute_result"
    }
   ],
   "source": [
    "qda_predict_proba = 0 ; classif_scores = []\n",
    "\n",
    "gkf = StratifiedKFold(N_FOLDS, shuffle=True, random_state = SEED + 2)\n",
    "\n",
    "for fold, (trn_idx, val_idx) in enumerate(gkf.split(X, y)):   \n",
    "\n",
    "    X_trn, y_trn = X.iloc[trn_idx], y.iloc[trn_idx]\n",
    "    X_val, y_val = X.iloc[val_idx], y.iloc[val_idx]\n",
    "\n",
    "    model = QuadraticDiscriminantAnalysis(reg_param=0)\n",
    "    model.fit(X_trn, y_trn) # on trusted data only\n",
    "    \n",
    "    y_pred = model.predict(X_val)\n",
    "    y_pred_proba = model.predict_proba(X_val)\n",
    "    \n",
    "    s = (balanced_accuracy_score(y_val, y_pred),\n",
    "        roc_auc_score(y_val, y_pred_proba, average=\"weighted\", multi_class=\"ovo\"))\n",
    "    print(f\"Fold n°{fold+1} on QDA. AUC : {s[1]:.3f} | Accuracy : {s[0]:.1%}\")\n",
    "    classif_scores.append(s)\n",
    "\n",
    "    qda_predict_proba += model.predict_proba(df_scaled[usefull_cols]) / N_FOLDS\n",
    "\n",
    "all_scores.append(scores(np.argmax(qda_predict_proba, axis=1), lib=\"QuadraticDiscriminantAnalysis after BayesianGaussianMixture\"))\n",
    "pd.DataFrame(classif_scores, columns = [\"balanced_accuracy_score\", \"roc_auc_score\"]).mean(0)"
   ]
  },
  {
   "cell_type": "markdown",
   "id": "869b724e",
   "metadata": {
    "papermill": {
     "duration": 0.030322,
     "end_time": "2022-07-14T06:10:01.220506",
     "exception": false,
     "start_time": "2022-07-14T06:10:01.190184",
     "status": "completed"
    },
    "tags": []
   },
   "source": [
    "Better AUC et Accuracy scores than with LGBM. Interesting..."
   ]
  },
  {
   "cell_type": "markdown",
   "id": "e1221c1b",
   "metadata": {
    "papermill": {
     "duration": 0.016053,
     "end_time": "2022-07-14T06:10:01.256587",
     "exception": false,
     "start_time": "2022-07-14T06:10:01.240534",
     "status": "completed"
    },
    "tags": []
   },
   "source": [
    "# Gaussian Naïve Bayes after BayesianGaussianMixture"
   ]
  },
  {
   "cell_type": "code",
   "execution_count": 10,
   "id": "a82e49b0",
   "metadata": {
    "execution": {
     "iopub.execute_input": "2022-07-14T06:10:01.291513Z",
     "iopub.status.busy": "2022-07-14T06:10:01.291080Z",
     "iopub.status.idle": "2022-07-14T06:11:41.345787Z",
     "shell.execute_reply": "2022-07-14T06:11:41.344336Z"
    },
    "papermill": {
     "duration": 100.101446,
     "end_time": "2022-07-14T06:11:41.374518",
     "exception": false,
     "start_time": "2022-07-14T06:10:01.273072",
     "status": "completed"
    },
    "tags": []
   },
   "outputs": [
    {
     "name": "stdout",
     "output_type": "stream",
     "text": [
      "Fold n°1 on GaussianNB. AUC : 0.992 | Accuracy : 90.0%\n",
      "Fold n°2 on GaussianNB. AUC : 0.992 | Accuracy : 88.9%\n",
      "Fold n°3 on GaussianNB. AUC : 0.991 | Accuracy : 89.0%\n",
      "Fold n°4 on GaussianNB. AUC : 0.993 | Accuracy : 89.9%\n",
      "Fold n°5 on GaussianNB. AUC : 0.992 | Accuracy : 89.5%\n",
      "Fold n°6 on GaussianNB. AUC : 0.992 | Accuracy : 90.0%\n",
      "Fold n°7 on GaussianNB. AUC : 0.992 | Accuracy : 89.9%\n",
      "Fold n°8 on GaussianNB. AUC : 0.991 | Accuracy : 89.6%\n",
      "Fold n°9 on GaussianNB. AUC : 0.992 | Accuracy : 89.3%\n",
      "Fold n°10 on GaussianNB. AUC : 0.992 | Accuracy : 89.4%\n",
      "GaussianNaïveBayes after BayesianGaussianMixture : Silhouette : 7.2% | Calinski Harabasz : 9515.1 | Davis Bouldin : 2.317\n"
     ]
    },
    {
     "data": {
      "text/plain": [
       "balanced_accuracy_score    0.895482\n",
       "roc_auc_score              0.991994\n",
       "dtype: float64"
      ]
     },
     "execution_count": 10,
     "metadata": {},
     "output_type": "execute_result"
    }
   ],
   "source": [
    "GNB_predict_proba = 0 ; classif_scores = []\n",
    "\n",
    "gkf = StratifiedKFold(N_FOLDS, shuffle=True, random_state = SEED + 2)\n",
    "\n",
    "for fold, (trn_idx, val_idx) in enumerate(gkf.split(X, y)):   \n",
    "\n",
    "    X_trn, y_trn = X.iloc[trn_idx], y.iloc[trn_idx]\n",
    "    X_val, y_val = X.iloc[val_idx], y.iloc[val_idx]\n",
    "\n",
    "    model = GaussianNB(var_smoothing=.1)\n",
    "    model.fit(X_trn, y_trn) # on trusted data only\n",
    "    \n",
    "    y_pred = model.predict(X_val)\n",
    "    y_pred_proba = model.predict_proba(X_val)\n",
    "    \n",
    "    s = (balanced_accuracy_score(y_val, y_pred),\n",
    "        roc_auc_score(y_val, y_pred_proba, average=\"weighted\", multi_class=\"ovo\"))\n",
    "    print(f\"Fold n°{fold+1} on GaussianNB. AUC : {s[1]:.3f} | Accuracy : {s[0]:.1%}\")\n",
    "    classif_scores.append(s)\n",
    "\n",
    "    GNB_predict_proba += model.predict_proba(df_scaled[usefull_cols]) / N_FOLDS\n",
    "\n",
    "all_scores.append(scores(np.argmax(GNB_predict_proba, axis=1), lib=\"GaussianNaïveBayes after BayesianGaussianMixture\"))\n",
    "pd.DataFrame(classif_scores, columns = [\"balanced_accuracy_score\", \"roc_auc_score\"]).mean(0)"
   ]
  },
  {
   "cell_type": "markdown",
   "id": "b3489f27",
   "metadata": {
    "papermill": {
     "duration": 0.030902,
     "end_time": "2022-07-14T06:11:41.436735",
     "exception": false,
     "start_time": "2022-07-14T06:11:41.405833",
     "status": "completed"
    },
    "tags": []
   },
   "source": [
    "# Linear Discriminant Analysis"
   ]
  },
  {
   "cell_type": "code",
   "execution_count": 11,
   "id": "a70f745e",
   "metadata": {
    "execution": {
     "iopub.execute_input": "2022-07-14T06:11:41.474963Z",
     "iopub.status.busy": "2022-07-14T06:11:41.474581Z",
     "iopub.status.idle": "2022-07-14T06:13:22.653759Z",
     "shell.execute_reply": "2022-07-14T06:13:22.652356Z"
    },
    "papermill": {
     "duration": 101.227656,
     "end_time": "2022-07-14T06:13:22.683987",
     "exception": false,
     "start_time": "2022-07-14T06:11:41.456331",
     "status": "completed"
    },
    "tags": []
   },
   "outputs": [
    {
     "name": "stdout",
     "output_type": "stream",
     "text": [
      "Fold n°1 on LDA. AUC : 0.976 | Accuracy : 81.3%\n",
      "Fold n°2 on LDA. AUC : 0.975 | Accuracy : 79.9%\n",
      "Fold n°3 on LDA. AUC : 0.975 | Accuracy : 80.3%\n",
      "Fold n°4 on LDA. AUC : 0.975 | Accuracy : 79.8%\n",
      "Fold n°5 on LDA. AUC : 0.976 | Accuracy : 80.3%\n",
      "Fold n°6 on LDA. AUC : 0.974 | Accuracy : 79.7%\n",
      "Fold n°7 on LDA. AUC : 0.976 | Accuracy : 80.7%\n",
      "Fold n°8 on LDA. AUC : 0.976 | Accuracy : 81.4%\n",
      "Fold n°9 on LDA. AUC : 0.975 | Accuracy : 80.2%\n",
      "Fold n°10 on LDA. AUC : 0.975 | Accuracy : 80.2%\n",
      "LinearDiscriminantAnalysis after BayesianGaussianMixture : Silhouette : 8.4% | Calinski Harabasz : 10065.7 | Davis Bouldin : 2.192\n"
     ]
    },
    {
     "data": {
      "text/plain": [
       "balanced_accuracy_score    0.803733\n",
       "roc_auc_score              0.975249\n",
       "dtype: float64"
      ]
     },
     "execution_count": 11,
     "metadata": {},
     "output_type": "execute_result"
    }
   ],
   "source": [
    "lda_predict_proba = 0 ; classif_scores = []\n",
    "\n",
    "gkf = StratifiedKFold(N_FOLDS, shuffle=True, random_state = SEED + 2)\n",
    "\n",
    "for fold, (trn_idx, val_idx) in enumerate(gkf.split(X, y)):   \n",
    "\n",
    "    X_trn, y_trn = X.iloc[trn_idx], y.iloc[trn_idx]\n",
    "    X_val, y_val = X.iloc[val_idx], y.iloc[val_idx]\n",
    "\n",
    "    model = LinearDiscriminantAnalysis()\n",
    "    model.fit(X_trn, y_trn) # on trusted data only\n",
    "    \n",
    "    y_pred = model.predict(X_val)\n",
    "    y_pred_proba = model.predict_proba(X_val)\n",
    "    \n",
    "    s = (balanced_accuracy_score(y_val, y_pred),\n",
    "        roc_auc_score(y_val, y_pred_proba, average=\"weighted\", multi_class=\"ovo\"))\n",
    "    print(f\"Fold n°{fold+1} on LDA. AUC : {s[1]:.3f} | Accuracy : {s[0]:.1%}\")\n",
    "    classif_scores.append(s)\n",
    "\n",
    "    lda_predict_proba += model.predict_proba(df_scaled[usefull_cols]) / N_FOLDS\n",
    "\n",
    "all_scores.append(scores(np.argmax(lda_predict_proba, axis=1), lib=\"LinearDiscriminantAnalysis after BayesianGaussianMixture\"))\n",
    "pd.DataFrame(classif_scores, columns = [\"balanced_accuracy_score\", \"roc_auc_score\"]).mean(0)"
   ]
  },
  {
   "cell_type": "markdown",
   "id": "cadca918",
   "metadata": {
    "papermill": {
     "duration": 0.033179,
     "end_time": "2022-07-14T06:13:22.750658",
     "exception": false,
     "start_time": "2022-07-14T06:13:22.717479",
     "status": "completed"
    },
    "tags": []
   },
   "source": [
    "Lowest AUC and accuracy scores."
   ]
  },
  {
   "cell_type": "markdown",
   "id": "fcbb651c",
   "metadata": {
    "papermill": {
     "duration": 0.017516,
     "end_time": "2022-07-14T06:13:22.786113",
     "exception": false,
     "start_time": "2022-07-14T06:13:22.768597",
     "status": "completed"
    },
    "tags": []
   },
   "source": [
    "# Soft voting\n",
    "https://www.kaggle.com/code/pourchot/simple-soft-voting<br>\n",
    "Thanks to Laurent Pourchot"
   ]
  },
  {
   "cell_type": "code",
   "execution_count": 12,
   "id": "b28f07de",
   "metadata": {
    "execution": {
     "iopub.execute_input": "2022-07-14T06:13:22.823675Z",
     "iopub.status.busy": "2022-07-14T06:13:22.823301Z",
     "iopub.status.idle": "2022-07-14T06:13:22.832797Z",
     "shell.execute_reply": "2022-07-14T06:13:22.831602Z"
    },
    "papermill": {
     "duration": 0.031306,
     "end_time": "2022-07-14T06:13:22.835092",
     "exception": false,
     "start_time": "2022-07-14T06:13:22.803786",
     "status": "completed"
    },
    "tags": []
   },
   "outputs": [],
   "source": [
    "def soft_voting(preds_probs):\n",
    "\n",
    "    values = list(range(N_CLUSTERS))\n",
    "    pred_test = pd.DataFrame(np.zeros((df.shape[0], 7)), columns = values)\n",
    "\n",
    "    for i, p in enumerate(preds_probs):\n",
    "    \n",
    "        MAX = np.argmax(p, axis=1)\n",
    "        df[f'pred_{i}'] = MAX\n",
    "    \n",
    "        # Sort of the prediction by same value of cluster\n",
    "        pred_keys = df[f'pred_{i}'].value_counts().index.tolist()\n",
    "        pred_dict = dict(zip(pred_keys, values))\n",
    "        df[f'pred_{i}'] = df[f'pred_{i}'].map(pred_dict)\n",
    "\n",
    "        pred_new = pd.DataFrame(p).rename(columns = pred_dict)\n",
    "        pred_new = pred_new.reindex(sorted(pred_new.columns), axis=1)\n",
    "        pred_test += pred_new # Soft voting by probabiliy addition\n",
    "\n",
    "    return np.argmax(np.array(pred_test), axis=1)"
   ]
  },
  {
   "cell_type": "code",
   "execution_count": 13,
   "id": "6f0934e6",
   "metadata": {
    "execution": {
     "iopub.execute_input": "2022-07-14T06:13:22.872790Z",
     "iopub.status.busy": "2022-07-14T06:13:22.871751Z",
     "iopub.status.idle": "2022-07-14T06:18:19.317904Z",
     "shell.execute_reply": "2022-07-14T06:18:19.316266Z"
    },
    "papermill": {
     "duration": 296.490847,
     "end_time": "2022-07-14T06:18:19.343656",
     "exception": false,
     "start_time": "2022-07-14T06:13:22.852809",
     "status": "completed"
    },
    "tags": []
   },
   "outputs": [
    {
     "name": "stdout",
     "output_type": "stream",
     "text": [
      "Soft voting n°1 : all : Silhouette : 5.9% | Calinski Harabasz : 8634.0 | Davis Bouldin : 2.504\n",
      "Soft voting n°2 : LGBM, extratree and QDA : Silhouette : 5.5% | Calinski Harabasz : 8392.7 | Davis Bouldin : 2.571\n",
      "Soft voting n°3 : LGBM and QDA : Silhouette : 5.4% | Calinski Harabasz : 8360.3 | Davis Bouldin : 2.581\n"
     ]
    }
   ],
   "source": [
    "sv1_predict = soft_voting([et_predict_proba, lgbm_predict_proba, qda_predict_proba, lda_predict_proba, GNB_predict_proba])\n",
    "all_scores.append(scores(sv1_predict, lib=\"Soft voting n°1 : all\"))\n",
    "\n",
    "sv2_predict = soft_voting([et_predict_proba, lgbm_predict_proba, qda_predict_proba])\n",
    "all_scores.append(scores(sv2_predict, lib=\"Soft voting n°2 : LGBM, extratree and QDA\"))\n",
    "\n",
    "sv3_predict = soft_voting([lgbm_predict_proba, qda_predict_proba])\n",
    "all_scores.append(scores(sv3_predict, lib=\"Soft voting n°3 : LGBM and QDA\"))"
   ]
  },
  {
   "cell_type": "code",
   "execution_count": 14,
   "id": "d8f9148e",
   "metadata": {
    "execution": {
     "iopub.execute_input": "2022-07-14T06:18:19.415886Z",
     "iopub.status.busy": "2022-07-14T06:18:19.415257Z",
     "iopub.status.idle": "2022-07-14T06:18:19.433592Z",
     "shell.execute_reply": "2022-07-14T06:18:19.432477Z"
    },
    "papermill": {
     "duration": 0.057321,
     "end_time": "2022-07-14T06:18:19.436234",
     "exception": false,
     "start_time": "2022-07-14T06:18:19.378913",
     "status": "completed"
    },
    "tags": []
   },
   "outputs": [
    {
     "data": {
      "text/html": [
       "<div>\n",
       "<style scoped>\n",
       "    .dataframe tbody tr th:only-of-type {\n",
       "        vertical-align: middle;\n",
       "    }\n",
       "\n",
       "    .dataframe tbody tr th {\n",
       "        vertical-align: top;\n",
       "    }\n",
       "\n",
       "    .dataframe thead th {\n",
       "        text-align: right;\n",
       "    }\n",
       "</style>\n",
       "<table border=\"1\" class=\"dataframe\">\n",
       "  <thead>\n",
       "    <tr style=\"text-align: right;\">\n",
       "      <th></th>\n",
       "      <th>Model</th>\n",
       "      <th>silhouette</th>\n",
       "      <th>Calinski_Harabasz</th>\n",
       "      <th>Davis_Bouldin</th>\n",
       "    </tr>\n",
       "  </thead>\n",
       "  <tbody>\n",
       "    <tr>\n",
       "      <th>0</th>\n",
       "      <td>BayesianGaussianMixture after powertransformer</td>\n",
       "      <td>0.050471</td>\n",
       "      <td>8157.656890</td>\n",
       "      <td>2.656782</td>\n",
       "    </tr>\n",
       "    <tr>\n",
       "      <th>1</th>\n",
       "      <td>LGBM after BayesianGaussianMixture - threshold...</td>\n",
       "      <td>0.053719</td>\n",
       "      <td>8343.593949</td>\n",
       "      <td>2.590150</td>\n",
       "    </tr>\n",
       "    <tr>\n",
       "      <th>2</th>\n",
       "      <td>Extratree after BayesianGaussianMixture</td>\n",
       "      <td>0.059842</td>\n",
       "      <td>8646.900312</td>\n",
       "      <td>2.496678</td>\n",
       "    </tr>\n",
       "    <tr>\n",
       "      <th>3</th>\n",
       "      <td>QuadraticDiscriminantAnalysis after BayesianGa...</td>\n",
       "      <td>0.081142</td>\n",
       "      <td>9938.495708</td>\n",
       "      <td>2.213741</td>\n",
       "    </tr>\n",
       "    <tr>\n",
       "      <th>4</th>\n",
       "      <td>QuadraticDiscriminantAnalysis after BayesianGa...</td>\n",
       "      <td>0.053897</td>\n",
       "      <td>8324.527293</td>\n",
       "      <td>2.569280</td>\n",
       "    </tr>\n",
       "    <tr>\n",
       "      <th>5</th>\n",
       "      <td>GaussianNaïveBayes after BayesianGaussianMixture</td>\n",
       "      <td>0.071833</td>\n",
       "      <td>9515.110303</td>\n",
       "      <td>2.317072</td>\n",
       "    </tr>\n",
       "    <tr>\n",
       "      <th>6</th>\n",
       "      <td>LinearDiscriminantAnalysis after BayesianGauss...</td>\n",
       "      <td>0.083624</td>\n",
       "      <td>10065.664248</td>\n",
       "      <td>2.191927</td>\n",
       "    </tr>\n",
       "    <tr>\n",
       "      <th>7</th>\n",
       "      <td>Soft voting n°1 : all</td>\n",
       "      <td>0.058854</td>\n",
       "      <td>8633.950275</td>\n",
       "      <td>2.504020</td>\n",
       "    </tr>\n",
       "    <tr>\n",
       "      <th>8</th>\n",
       "      <td>Soft voting n°2 : LGBM, extratree and QDA</td>\n",
       "      <td>0.054696</td>\n",
       "      <td>8392.672557</td>\n",
       "      <td>2.570905</td>\n",
       "    </tr>\n",
       "    <tr>\n",
       "      <th>9</th>\n",
       "      <td>Soft voting n°3 : LGBM and QDA</td>\n",
       "      <td>0.054111</td>\n",
       "      <td>8360.295234</td>\n",
       "      <td>2.581185</td>\n",
       "    </tr>\n",
       "  </tbody>\n",
       "</table>\n",
       "</div>"
      ],
      "text/plain": [
       "                                               Model  silhouette  \\\n",
       "0     BayesianGaussianMixture after powertransformer    0.050471   \n",
       "1  LGBM after BayesianGaussianMixture - threshold...    0.053719   \n",
       "2            Extratree after BayesianGaussianMixture    0.059842   \n",
       "3  QuadraticDiscriminantAnalysis after BayesianGa...    0.081142   \n",
       "4  QuadraticDiscriminantAnalysis after BayesianGa...    0.053897   \n",
       "5   GaussianNaïveBayes after BayesianGaussianMixture    0.071833   \n",
       "6  LinearDiscriminantAnalysis after BayesianGauss...    0.083624   \n",
       "7                              Soft voting n°1 : all    0.058854   \n",
       "8          Soft voting n°2 : LGBM, extratree and QDA    0.054696   \n",
       "9                     Soft voting n°3 : LGBM and QDA    0.054111   \n",
       "\n",
       "   Calinski_Harabasz  Davis_Bouldin  \n",
       "0        8157.656890       2.656782  \n",
       "1        8343.593949       2.590150  \n",
       "2        8646.900312       2.496678  \n",
       "3        9938.495708       2.213741  \n",
       "4        8324.527293       2.569280  \n",
       "5        9515.110303       2.317072  \n",
       "6       10065.664248       2.191927  \n",
       "7        8633.950275       2.504020  \n",
       "8        8392.672557       2.570905  \n",
       "9        8360.295234       2.581185  "
      ]
     },
     "execution_count": 14,
     "metadata": {},
     "output_type": "execute_result"
    }
   ],
   "source": [
    "pd.DataFrame(all_scores, columns=[\"Model\", \"silhouette\", \"Calinski_Harabasz\", \"Davis_Bouldin\"])"
   ]
  },
  {
   "cell_type": "markdown",
   "id": "6bd06d79",
   "metadata": {
    "papermill": {
     "duration": 0.01804,
     "end_time": "2022-07-14T06:18:19.472545",
     "exception": false,
     "start_time": "2022-07-14T06:18:19.454505",
     "status": "completed"
    },
    "tags": []
   },
   "source": [
    "# Submissions"
   ]
  },
  {
   "cell_type": "code",
   "execution_count": 15,
   "id": "bd1f8e35",
   "metadata": {
    "execution": {
     "iopub.execute_input": "2022-07-14T06:18:19.511720Z",
     "iopub.status.busy": "2022-07-14T06:18:19.510946Z",
     "iopub.status.idle": "2022-07-14T06:18:20.849704Z",
     "shell.execute_reply": "2022-07-14T06:18:20.848852Z"
    },
    "papermill": {
     "duration": 1.361545,
     "end_time": "2022-07-14T06:18:20.852568",
     "exception": false,
     "start_time": "2022-07-14T06:18:19.491023",
     "status": "completed"
    },
    "tags": []
   },
   "outputs": [],
   "source": [
    "sub = pd.read_csv(\"../input/tabular-playground-series-jul-2022/sample_submission.csv\")\n",
    "\n",
    "sub['Predicted'] = np.argmax(lgbm_predict_proba, axis = 1)\n",
    "sub.to_csv(\"submission_lgbm.csv\",index = False)\n",
    "\n",
    "sub['Predicted'] = np.argmax(et_predict_proba, axis = 1)\n",
    "sub.to_csv(\"submission_extratree.csv\", index = False)\n",
    " \n",
    "sub['Predicted'] = np.argmax(qda_predict_proba, axis = 1)\n",
    "sub.to_csv(\"submission_qda.csv\", index = False)\n",
    " \n",
    "sub['Predicted'] = np.argmax(lda_predict_proba, axis = 1)\n",
    "sub.to_csv(\"submission_lda.csv\", index = False)\n",
    " \n",
    "sub['Predicted'] = np.argmax(GNB_predict_proba, axis = 1)\n",
    "sub.to_csv(\"submission_GNB.csv\", index = False)\n",
    " \n",
    "sub['Predicted'] = sv1_predict\n",
    "sub.to_csv(\"submission_softvote1.csv\", index = False)\n",
    "\n",
    "sub['Predicted'] = sv2_predict\n",
    "sub.to_csv(\"submission_softvote2.csv\", index = False)\n",
    "\n",
    "sub['Predicted'] = sv3_predict\n",
    "sub.to_csv(\"submission_softvote3.csv\", index = False)"
   ]
  },
  {
   "cell_type": "code",
   "execution_count": null,
   "id": "f289c7ac",
   "metadata": {
    "papermill": {
     "duration": 0.017938,
     "end_time": "2022-07-14T06:18:20.889614",
     "exception": false,
     "start_time": "2022-07-14T06:18:20.871676",
     "status": "completed"
    },
    "tags": []
   },
   "outputs": [],
   "source": []
  }
 ],
 "metadata": {
  "kernelspec": {
   "display_name": "Python 3",
   "language": "python",
   "name": "python3"
  },
  "language_info": {
   "codemirror_mode": {
    "name": "ipython",
    "version": 3
   },
   "file_extension": ".py",
   "mimetype": "text/x-python",
   "name": "python",
   "nbconvert_exporter": "python",
   "pygments_lexer": "ipython3",
   "version": "3.7.12"
  },
  "papermill": {
   "default_parameters": {},
   "duration": 1870.655744,
   "end_time": "2022-07-14T06:18:21.936804",
   "environment_variables": {},
   "exception": null,
   "input_path": "__notebook__.ipynb",
   "output_path": "__notebook__.ipynb",
   "parameters": {},
   "start_time": "2022-07-14T05:47:11.281060",
   "version": "2.3.4"
  }
 },
 "nbformat": 4,
 "nbformat_minor": 5
}
