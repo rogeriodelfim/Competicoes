{
 "cells": [
  {
   "cell_type": "markdown",
   "id": "775180ef",
   "metadata": {
    "papermill": {
     "duration": 0.006766,
     "end_time": "2022-07-14T06:28:41.494528",
     "exception": false,
     "start_time": "2022-07-14T06:28:41.487762",
     "status": "completed"
    },
    "tags": []
   },
   "source": [
    "Those notebooks had really inspired me :<br> \n",
    "https://www.kaggle.com/code/pourchot/simple-soft-voting<br>\n",
    "https://www.kaggle.com/code/ricopue/tps-jul22-clusters-and-lgb<br>\n",
    "https://www.kaggle.com/code/ambrosm/tpsjul22-gaussian-mixture-cluster-analysis<br>\n",
    "https://www.kaggle.com/code/thedevastator/how-to-ensemble-clustering-algorithms-updated<br>\n",
    "https://www.kaggle.com/code/eduus710/getting-cluster-ensembles-to-work<br>\n",
    "https://www.kaggle.com/code/plarmuseau/bruteforce-clustering<br>\n",
    "https://www.kaggle.com/code/thedevastator/bruteforce-clustering<br>\n",
    "(and some others, sorry I don't remember everyone)<br>\n",
    "Thank you very much.\n",
    "\n",
    "With Ricopue's notebook [here][2] I get a 0.61419 score on public leaderboard (3rd place on public leaderboard the 13th july).<br>\n",
    "Then I was wondering if I can get a higher score with another method than LGBM.<br>\n",
    "I tried a small (and fast) **extratrees on trusted data after BayesianGaussianMixture**, which gave very impressive silhouette / Calinski_Harabasz / Davis_Bouldin scores, but a poor score on public LB.<br>\n",
    "And then I tried **QDA** was much more impressive. <br>\n",
    "And then I tried a **soft voting** like in Laurent Pourchot's notebook [here][1].<br>\n",
    "\n",
    "A high value of AUC score or Accuracy after classification (LGBM or QDA with reg_param == 0) can give a high score on public LeaderBoard. Interesting, isn't ?\n",
    "\n",
    "My current best score on public LB is with submission_softvote2.csv.\n",
    "\n",
    "[1]: https://www.kaggle.com/code/pourchot/simple-soft-voting<br>\n",
    "[2]: https://www.kaggle.com/code/ricopue/tps-jul22-clusters-and-lgb<br>"
   ]
  },
  {
   "cell_type": "markdown",
   "id": "e40a1ae7",
   "metadata": {
    "papermill": {
     "duration": 0.005545,
     "end_time": "2022-07-14T06:28:41.506095",
     "exception": false,
     "start_time": "2022-07-14T06:28:41.500550",
     "status": "completed"
    },
    "tags": []
   },
   "source": [
    "# Librairies / data "
   ]
  },
  {
   "cell_type": "code",
   "execution_count": 1,
   "id": "2cef9d6f",
   "metadata": {
    "execution": {
     "iopub.execute_input": "2022-07-14T06:28:41.520556Z",
     "iopub.status.busy": "2022-07-14T06:28:41.519587Z",
     "iopub.status.idle": "2022-07-14T06:28:44.209267Z",
     "shell.execute_reply": "2022-07-14T06:28:44.208239Z"
    },
    "papermill": {
     "duration": 2.700086,
     "end_time": "2022-07-14T06:28:44.211925",
     "exception": false,
     "start_time": "2022-07-14T06:28:41.511839",
     "status": "completed"
    },
    "tags": []
   },
   "outputs": [
    {
     "data": {
      "text/html": [
       "<style type='text/css'>\n",
       ".datatable table.frame { margin-bottom: 0; }\n",
       ".datatable table.frame thead { border-bottom: none; }\n",
       ".datatable table.frame tr.coltypes td {  color: #FFFFFF;  line-height: 6px;  padding: 0 0.5em;}\n",
       ".datatable .bool    { background: #DDDD99; }\n",
       ".datatable .object  { background: #565656; }\n",
       ".datatable .int     { background: #5D9E5D; }\n",
       ".datatable .float   { background: #4040CC; }\n",
       ".datatable .str     { background: #CC4040; }\n",
       ".datatable .time    { background: #40CC40; }\n",
       ".datatable .row_index {  background: var(--jp-border-color3);  border-right: 1px solid var(--jp-border-color0);  color: var(--jp-ui-font-color3);  font-size: 9px;}\n",
       ".datatable .frame tbody td { text-align: left; }\n",
       ".datatable .frame tr.coltypes .row_index {  background: var(--jp-border-color0);}\n",
       ".datatable th:nth-child(2) { padding-left: 12px; }\n",
       ".datatable .hellipsis {  color: var(--jp-cell-editor-border-color);}\n",
       ".datatable .vellipsis {  background: var(--jp-layout-color0);  color: var(--jp-cell-editor-border-color);}\n",
       ".datatable .na {  color: var(--jp-cell-editor-border-color);  font-size: 80%;}\n",
       ".datatable .sp {  opacity: 0.25;}\n",
       ".datatable .footer { font-size: 9px; }\n",
       ".datatable .frame_dimensions {  background: var(--jp-border-color3);  border-top: 1px solid var(--jp-border-color0);  color: var(--jp-ui-font-color3);  display: inline-block;  opacity: 0.6;  padding: 1px 10px 1px 5px;}\n",
       "</style>\n"
      ],
      "text/plain": [
       "<IPython.core.display.HTML object>"
      ]
     },
     "metadata": {},
     "output_type": "display_data"
    }
   ],
   "source": [
    "import numpy as np\n",
    "import pandas as pd\n",
    "pd.set_option('max_columns', 100)\n",
    "pd.set_option('max_rows', 200)\n",
    "\n",
    "import matplotlib.pyplot as plt\n",
    "import seaborn as sns\n",
    "\n",
    "import gc, random, os\n",
    "\n",
    "from sklearn.model_selection import StratifiedKFold\n",
    "\n",
    "from sklearn.preprocessing import PowerTransformer\n",
    "\n",
    "from sklearn.metrics import silhouette_score, calinski_harabasz_score, davies_bouldin_score\n",
    "from sklearn.metrics import balanced_accuracy_score, roc_auc_score\n",
    "\n",
    "from sklearn.mixture import BayesianGaussianMixture\n",
    "\n",
    "import lightgbm as lgb\n",
    "from sklearn.ensemble import ExtraTreesClassifier\n",
    "from sklearn.discriminant_analysis import LinearDiscriminantAnalysis, QuadraticDiscriminantAnalysis\n",
    "from sklearn.naive_bayes import GaussianNB\n",
    "\n",
    "SEED = 666 # please chose another one than mine\n",
    "N_FOLDS = 10\n",
    "N_CLUSTERS = 7\n",
    "\n",
    "def seed_everything(seed=SEED):\n",
    "    os.environ['PYTHONHASHSEED'] = str(seed)\n",
    "    np.random.seed(seed)\n",
    "\n",
    "seed_everything()"
   ]
  },
  {
   "cell_type": "code",
   "execution_count": 2,
   "id": "82c556c4",
   "metadata": {
    "execution": {
     "iopub.execute_input": "2022-07-14T06:28:44.228377Z",
     "iopub.status.busy": "2022-07-14T06:28:44.227489Z",
     "iopub.status.idle": "2022-07-14T06:28:45.423061Z",
     "shell.execute_reply": "2022-07-14T06:28:45.421814Z"
    },
    "papermill": {
     "duration": 1.205504,
     "end_time": "2022-07-14T06:28:45.425512",
     "exception": false,
     "start_time": "2022-07-14T06:28:44.220008",
     "status": "completed"
    },
    "tags": []
   },
   "outputs": [
    {
     "data": {
      "text/html": [
       "<div>\n",
       "<style scoped>\n",
       "    .dataframe tbody tr th:only-of-type {\n",
       "        vertical-align: middle;\n",
       "    }\n",
       "\n",
       "    .dataframe tbody tr th {\n",
       "        vertical-align: top;\n",
       "    }\n",
       "\n",
       "    .dataframe thead th {\n",
       "        text-align: right;\n",
       "    }\n",
       "</style>\n",
       "<table border=\"1\" class=\"dataframe\">\n",
       "  <thead>\n",
       "    <tr style=\"text-align: right;\">\n",
       "      <th></th>\n",
       "      <th>f_01</th>\n",
       "      <th>f_02</th>\n",
       "      <th>f_03</th>\n",
       "      <th>f_04</th>\n",
       "      <th>f_05</th>\n",
       "      <th>f_06</th>\n",
       "      <th>f_07</th>\n",
       "      <th>f_08</th>\n",
       "      <th>f_09</th>\n",
       "      <th>f_10</th>\n",
       "      <th>f_11</th>\n",
       "      <th>f_12</th>\n",
       "      <th>f_13</th>\n",
       "      <th>f_14</th>\n",
       "      <th>f_15</th>\n",
       "      <th>f_16</th>\n",
       "      <th>f_17</th>\n",
       "      <th>f_18</th>\n",
       "      <th>f_19</th>\n",
       "      <th>f_20</th>\n",
       "      <th>f_21</th>\n",
       "      <th>f_22</th>\n",
       "      <th>f_23</th>\n",
       "      <th>f_24</th>\n",
       "      <th>f_25</th>\n",
       "      <th>f_26</th>\n",
       "      <th>f_27</th>\n",
       "      <th>f_28</th>\n",
       "    </tr>\n",
       "  </thead>\n",
       "  <tbody>\n",
       "    <tr>\n",
       "      <th>0</th>\n",
       "      <td>-0.912791</td>\n",
       "      <td>0.648951</td>\n",
       "      <td>0.589045</td>\n",
       "      <td>-0.830817</td>\n",
       "      <td>0.733624</td>\n",
       "      <td>2.258560</td>\n",
       "      <td>2</td>\n",
       "      <td>13</td>\n",
       "      <td>14</td>\n",
       "      <td>5</td>\n",
       "      <td>13</td>\n",
       "      <td>6</td>\n",
       "      <td>6</td>\n",
       "      <td>-0.469819</td>\n",
       "      <td>0.358126</td>\n",
       "      <td>1.068105</td>\n",
       "      <td>-0.559650</td>\n",
       "      <td>-0.366905</td>\n",
       "      <td>-0.478412</td>\n",
       "      <td>-0.757002</td>\n",
       "      <td>-0.763635</td>\n",
       "      <td>-1.090369</td>\n",
       "      <td>1.142641</td>\n",
       "      <td>-0.884274</td>\n",
       "      <td>1.137896</td>\n",
       "      <td>1.309073</td>\n",
       "      <td>1.463002</td>\n",
       "      <td>0.813527</td>\n",
       "    </tr>\n",
       "    <tr>\n",
       "      <th>1</th>\n",
       "      <td>-0.453954</td>\n",
       "      <td>0.654175</td>\n",
       "      <td>0.995248</td>\n",
       "      <td>-1.653020</td>\n",
       "      <td>0.863810</td>\n",
       "      <td>-0.090651</td>\n",
       "      <td>2</td>\n",
       "      <td>3</td>\n",
       "      <td>6</td>\n",
       "      <td>4</td>\n",
       "      <td>6</td>\n",
       "      <td>16</td>\n",
       "      <td>9</td>\n",
       "      <td>0.591035</td>\n",
       "      <td>-0.396915</td>\n",
       "      <td>0.145834</td>\n",
       "      <td>-0.030798</td>\n",
       "      <td>0.471167</td>\n",
       "      <td>-0.428791</td>\n",
       "      <td>-0.089908</td>\n",
       "      <td>-1.784204</td>\n",
       "      <td>-0.839474</td>\n",
       "      <td>0.459685</td>\n",
       "      <td>1.759412</td>\n",
       "      <td>-0.275422</td>\n",
       "      <td>-0.852168</td>\n",
       "      <td>0.562457</td>\n",
       "      <td>-2.680541</td>\n",
       "    </tr>\n",
       "    <tr>\n",
       "      <th>2</th>\n",
       "      <td>0.324568</td>\n",
       "      <td>-1.170602</td>\n",
       "      <td>-0.624491</td>\n",
       "      <td>0.105448</td>\n",
       "      <td>0.783948</td>\n",
       "      <td>1.988301</td>\n",
       "      <td>5</td>\n",
       "      <td>11</td>\n",
       "      <td>5</td>\n",
       "      <td>8</td>\n",
       "      <td>9</td>\n",
       "      <td>3</td>\n",
       "      <td>11</td>\n",
       "      <td>-0.679875</td>\n",
       "      <td>0.469326</td>\n",
       "      <td>0.349843</td>\n",
       "      <td>-0.288042</td>\n",
       "      <td>0.291470</td>\n",
       "      <td>-0.413534</td>\n",
       "      <td>-1.602377</td>\n",
       "      <td>1.190984</td>\n",
       "      <td>3.267116</td>\n",
       "      <td>-0.088322</td>\n",
       "      <td>-2.168635</td>\n",
       "      <td>-0.974989</td>\n",
       "      <td>1.335763</td>\n",
       "      <td>-1.110655</td>\n",
       "      <td>-3.630723</td>\n",
       "    </tr>\n",
       "    <tr>\n",
       "      <th>3</th>\n",
       "      <td>0.229049</td>\n",
       "      <td>0.264109</td>\n",
       "      <td>0.231520</td>\n",
       "      <td>0.415012</td>\n",
       "      <td>-1.221269</td>\n",
       "      <td>0.138850</td>\n",
       "      <td>6</td>\n",
       "      <td>2</td>\n",
       "      <td>13</td>\n",
       "      <td>8</td>\n",
       "      <td>9</td>\n",
       "      <td>6</td>\n",
       "      <td>4</td>\n",
       "      <td>-0.389456</td>\n",
       "      <td>0.626762</td>\n",
       "      <td>-1.074543</td>\n",
       "      <td>-1.521753</td>\n",
       "      <td>-1.150806</td>\n",
       "      <td>0.619283</td>\n",
       "      <td>1.287801</td>\n",
       "      <td>0.532837</td>\n",
       "      <td>1.036631</td>\n",
       "      <td>-2.041828</td>\n",
       "      <td>1.440490</td>\n",
       "      <td>-1.900191</td>\n",
       "      <td>-0.630771</td>\n",
       "      <td>-0.050641</td>\n",
       "      <td>0.238333</td>\n",
       "    </tr>\n",
       "    <tr>\n",
       "      <th>4</th>\n",
       "      <td>-1.039533</td>\n",
       "      <td>-0.270155</td>\n",
       "      <td>-1.830264</td>\n",
       "      <td>-0.290108</td>\n",
       "      <td>-1.852809</td>\n",
       "      <td>0.781898</td>\n",
       "      <td>8</td>\n",
       "      <td>7</td>\n",
       "      <td>5</td>\n",
       "      <td>3</td>\n",
       "      <td>1</td>\n",
       "      <td>13</td>\n",
       "      <td>11</td>\n",
       "      <td>-0.120743</td>\n",
       "      <td>-0.615578</td>\n",
       "      <td>-1.064359</td>\n",
       "      <td>0.444142</td>\n",
       "      <td>0.428327</td>\n",
       "      <td>-1.628830</td>\n",
       "      <td>-0.434948</td>\n",
       "      <td>0.322505</td>\n",
       "      <td>0.284326</td>\n",
       "      <td>-2.438365</td>\n",
       "      <td>1.473930</td>\n",
       "      <td>-1.044684</td>\n",
       "      <td>1.602686</td>\n",
       "      <td>-0.405263</td>\n",
       "      <td>-1.987263</td>\n",
       "    </tr>\n",
       "  </tbody>\n",
       "</table>\n",
       "</div>"
      ],
      "text/plain": [
       "       f_01      f_02      f_03      f_04      f_05      f_06  f_07  f_08  \\\n",
       "0 -0.912791  0.648951  0.589045 -0.830817  0.733624  2.258560     2    13   \n",
       "1 -0.453954  0.654175  0.995248 -1.653020  0.863810 -0.090651     2     3   \n",
       "2  0.324568 -1.170602 -0.624491  0.105448  0.783948  1.988301     5    11   \n",
       "3  0.229049  0.264109  0.231520  0.415012 -1.221269  0.138850     6     2   \n",
       "4 -1.039533 -0.270155 -1.830264 -0.290108 -1.852809  0.781898     8     7   \n",
       "\n",
       "   f_09  f_10  f_11  f_12  f_13      f_14      f_15      f_16      f_17  \\\n",
       "0    14     5    13     6     6 -0.469819  0.358126  1.068105 -0.559650   \n",
       "1     6     4     6    16     9  0.591035 -0.396915  0.145834 -0.030798   \n",
       "2     5     8     9     3    11 -0.679875  0.469326  0.349843 -0.288042   \n",
       "3    13     8     9     6     4 -0.389456  0.626762 -1.074543 -1.521753   \n",
       "4     5     3     1    13    11 -0.120743 -0.615578 -1.064359  0.444142   \n",
       "\n",
       "       f_18      f_19      f_20      f_21      f_22      f_23      f_24  \\\n",
       "0 -0.366905 -0.478412 -0.757002 -0.763635 -1.090369  1.142641 -0.884274   \n",
       "1  0.471167 -0.428791 -0.089908 -1.784204 -0.839474  0.459685  1.759412   \n",
       "2  0.291470 -0.413534 -1.602377  1.190984  3.267116 -0.088322 -2.168635   \n",
       "3 -1.150806  0.619283  1.287801  0.532837  1.036631 -2.041828  1.440490   \n",
       "4  0.428327 -1.628830 -0.434948  0.322505  0.284326 -2.438365  1.473930   \n",
       "\n",
       "       f_25      f_26      f_27      f_28  \n",
       "0  1.137896  1.309073  1.463002  0.813527  \n",
       "1 -0.275422 -0.852168  0.562457 -2.680541  \n",
       "2 -0.974989  1.335763 -1.110655 -3.630723  \n",
       "3 -1.900191 -0.630771 -0.050641  0.238333  \n",
       "4 -1.044684  1.602686 -0.405263 -1.987263  "
      ]
     },
     "execution_count": 2,
     "metadata": {},
     "output_type": "execute_result"
    }
   ],
   "source": [
    "df = pd.read_csv(\"../input/tabular-playground-series-jul-2022/data.csv\", usecols = [f\"f_{i+1:02d}\" for i in range(28)])\n",
    "df.head()"
   ]
  },
  {
   "cell_type": "code",
   "execution_count": 3,
   "id": "943a88e6",
   "metadata": {
    "execution": {
     "iopub.execute_input": "2022-07-14T06:28:45.440340Z",
     "iopub.status.busy": "2022-07-14T06:28:45.439351Z",
     "iopub.status.idle": "2022-07-14T06:28:45.459503Z",
     "shell.execute_reply": "2022-07-14T06:28:45.458436Z"
    },
    "papermill": {
     "duration": 0.029922,
     "end_time": "2022-07-14T06:28:45.461754",
     "exception": false,
     "start_time": "2022-07-14T06:28:45.431832",
     "status": "completed"
    },
    "tags": []
   },
   "outputs": [],
   "source": [
    "all_scores = []\n",
    "usefull_cols = [f\"f_{i:02d}\" for i in list(range(7, 14)) + list(range(22, 29))]\n",
    "\n",
    "def scores(preds, lib, df=df[usefull_cols], verbose = True, compute_silhouette = True): \n",
    "    \n",
    "    # Silhouette is very slow\n",
    "    sil = 0\n",
    "    if compute_silhouette:\n",
    "        sil = silhouette_score(df, preds, metric='euclidean')\n",
    "    \n",
    "    s = (lib,\n",
    "         sil, \n",
    "         calinski_harabasz_score(df, preds), \n",
    "         davies_bouldin_score(df, preds))\n",
    "    \n",
    "    if verbose:\n",
    "        print(f\"{s[0]} : Silhouette : {s[1]:.1%} | Calinski Harabasz : {s[2]:.1f} | Davis Bouldin : {s[3]:.3f}\")\n",
    "        \n",
    "    return s"
   ]
  },
  {
   "cell_type": "markdown",
   "id": "d222a657",
   "metadata": {
    "papermill": {
     "duration": 0.005963,
     "end_time": "2022-07-14T06:28:45.473944",
     "exception": false,
     "start_time": "2022-07-14T06:28:45.467981",
     "status": "completed"
    },
    "tags": []
   },
   "source": [
    "# Bayesian Gaussian Mixture"
   ]
  },
  {
   "cell_type": "code",
   "execution_count": 4,
   "id": "e2e1fa42",
   "metadata": {
    "execution": {
     "iopub.execute_input": "2022-07-14T06:28:45.488362Z",
     "iopub.status.busy": "2022-07-14T06:28:45.487317Z",
     "iopub.status.idle": "2022-07-14T06:33:20.770616Z",
     "shell.execute_reply": "2022-07-14T06:33:20.768088Z"
    },
    "papermill": {
     "duration": 275.307362,
     "end_time": "2022-07-14T06:33:20.787469",
     "exception": false,
     "start_time": "2022-07-14T06:28:45.480107",
     "status": "completed"
    },
    "tags": []
   },
   "outputs": [
    {
     "name": "stdout",
     "output_type": "stream",
     "text": [
      "BayesianGaussianMixture after powertransformer : Silhouette : 5.0% | Calinski Harabasz : 8157.7 | Davis Bouldin : 2.657\n"
     ]
    }
   ],
   "source": [
    "df_scaled = pd.DataFrame(PowerTransformer().fit_transform(df[usefull_cols]), columns = usefull_cols)\n",
    "\n",
    "BGM = BayesianGaussianMixture(n_components = N_CLUSTERS, covariance_type = 'full', random_state = SEED, n_init = 5, tol=.01)\n",
    "BGM.fit(df_scaled)\n",
    "\n",
    "BGM_predict = BGM.predict(df_scaled)\n",
    "BGM_predict_proba = BGM.predict_proba(df_scaled)\n",
    "\n",
    "all_scores.append(scores(BGM_predict, lib=\"BayesianGaussianMixture after powertransformer\"))"
   ]
  },
  {
   "cell_type": "markdown",
   "id": "c5290a2a",
   "metadata": {
    "papermill": {
     "duration": 0.014047,
     "end_time": "2022-07-14T06:33:20.815870",
     "exception": false,
     "start_time": "2022-07-14T06:33:20.801823",
     "status": "completed"
    },
    "tags": []
   },
   "source": [
    "# Trusted Data\n",
    "https://www.kaggle.com/code/ricopue/tps-jul22-clusters-and-lgb<br>\n",
    "Thanks to Ricopue"
   ]
  },
  {
   "cell_type": "code",
   "execution_count": 5,
   "id": "e6b13e8f",
   "metadata": {
    "execution": {
     "iopub.execute_input": "2022-07-14T06:33:20.843219Z",
     "iopub.status.busy": "2022-07-14T06:33:20.842848Z",
     "iopub.status.idle": "2022-07-14T06:33:21.010153Z",
     "shell.execute_reply": "2022-07-14T06:33:21.008911Z"
    },
    "papermill": {
     "duration": 0.184106,
     "end_time": "2022-07-14T06:33:21.012699",
     "exception": false,
     "start_time": "2022-07-14T06:33:20.828593",
     "status": "completed"
    },
    "tags": []
   },
   "outputs": [
    {
     "name": "stdout",
     "output_type": "stream",
     "text": [
      "Class n°0  |  Median : 0.8682  |  Training data : 72.9%\n",
      "Class n°1  |  Median : 0.9376  |  Training data : 79.4%\n",
      "Class n°2  |  Median : 0.7302  |  Training data : 55.5%\n",
      "Class n°3  |  Median : 0.9833  |  Training data : 88.5%\n",
      "Class n°4  |  Median : 0.8670  |  Training data : 73.2%\n",
      "Class n°5  |  Median : 0.9071  |  Training data : 78.0%\n",
      "Class n°6  |  Median : 0.9117  |  Training data : 76.1%\n"
     ]
    }
   ],
   "source": [
    "# get trusted data to train LGB model.\n",
    "proba_threshold = .69\n",
    "\n",
    "df_scaled['predict'] = BGM_predict\n",
    "df_scaled['predict_proba'] = 0\n",
    "for n in range(N_CLUSTERS):\n",
    "    df_scaled[f'predict_proba_{n}'] = BGM_predict_proba[:,n]\n",
    "    df_scaled.loc[df_scaled.predict == n, 'predict_proba'] = df_scaled[f'predict_proba_{n}']\n",
    "    \n",
    "    \n",
    "idxs = np.array([])\n",
    "for n in range(N_CLUSTERS):\n",
    "    median = df_scaled[df_scaled.predict==n]['predict_proba'].median()\n",
    "    idx = df_scaled[(df_scaled.predict==n) & (df_scaled.predict_proba > proba_threshold)].index\n",
    "    idxs = np.concatenate((idxs, idx))\n",
    "    print(f'Class n°{n}  |  Median : {median:.4f}  |  Training data : {len(idx)/len(df_scaled[(df_scaled.predict==n)]):.1%}')\n",
    "    \n",
    "X = df_scaled.loc[idxs][usefull_cols]\n",
    "y = df_scaled.loc[idxs]['predict']"
   ]
  },
  {
   "cell_type": "markdown",
   "id": "7e360a00",
   "metadata": {
    "papermill": {
     "duration": 0.006001,
     "end_time": "2022-07-14T06:33:21.025178",
     "exception": false,
     "start_time": "2022-07-14T06:33:21.019177",
     "status": "completed"
    },
    "tags": []
   },
   "source": [
    "# LightGBM on trusted data after BayesianGaussianMixture\n",
    "https://www.kaggle.com/code/ricopue/tps-jul22-clusters-and-lgb<br>\n",
    "Thanks to Ricopue"
   ]
  },
  {
   "cell_type": "code",
   "execution_count": 6,
   "id": "94beac67",
   "metadata": {
    "execution": {
     "iopub.execute_input": "2022-07-14T06:33:21.039140Z",
     "iopub.status.busy": "2022-07-14T06:33:21.038749Z",
     "iopub.status.idle": "2022-07-14T06:44:50.162067Z",
     "shell.execute_reply": "2022-07-14T06:44:50.160670Z"
    },
    "papermill": {
     "duration": 689.149982,
     "end_time": "2022-07-14T06:44:50.181345",
     "exception": false,
     "start_time": "2022-07-14T06:33:21.031363",
     "status": "completed"
    },
    "tags": []
   },
   "outputs": [
    {
     "name": "stdout",
     "output_type": "stream",
     "text": [
      "Training until validation scores don't improve for 100 rounds\n",
      "[200]\tvalid_0's multi_logloss: 0.0420435\n",
      "[400]\tvalid_0's multi_logloss: 0.0257652\n",
      "[600]\tvalid_0's multi_logloss: 0.0228872\n",
      "Early stopping, best iteration is:\n",
      "[637]\tvalid_0's multi_logloss: 0.0228498\n",
      "Fold n°1 on LGBM. AUC : 1.000 | Accuracy : 99.1%\n",
      "\n",
      "Training until validation scores don't improve for 100 rounds\n",
      "[200]\tvalid_0's multi_logloss: 0.0421074\n",
      "[400]\tvalid_0's multi_logloss: 0.0231106\n",
      "[600]\tvalid_0's multi_logloss: 0.0188834\n",
      "[800]\tvalid_0's multi_logloss: 0.018073\n",
      "Early stopping, best iteration is:\n",
      "[821]\tvalid_0's multi_logloss: 0.0180097\n",
      "Fold n°2 on LGBM. AUC : 1.000 | Accuracy : 99.3%\n",
      "\n",
      "Training until validation scores don't improve for 100 rounds\n",
      "[200]\tvalid_0's multi_logloss: 0.0456881\n",
      "[400]\tvalid_0's multi_logloss: 0.0297501\n",
      "[600]\tvalid_0's multi_logloss: 0.0278121\n",
      "Early stopping, best iteration is:\n",
      "[607]\tvalid_0's multi_logloss: 0.0277294\n",
      "Fold n°3 on LGBM. AUC : 1.000 | Accuracy : 99.1%\n",
      "\n",
      "Training until validation scores don't improve for 100 rounds\n",
      "[200]\tvalid_0's multi_logloss: 0.0435024\n",
      "[400]\tvalid_0's multi_logloss: 0.0248962\n",
      "[600]\tvalid_0's multi_logloss: 0.0207688\n",
      "[800]\tvalid_0's multi_logloss: 0.0206894\n",
      "Early stopping, best iteration is:\n",
      "[721]\tvalid_0's multi_logloss: 0.0202856\n",
      "Fold n°4 on LGBM. AUC : 1.000 | Accuracy : 99.4%\n",
      "\n",
      "Training until validation scores don't improve for 100 rounds\n",
      "[200]\tvalid_0's multi_logloss: 0.0424876\n",
      "[400]\tvalid_0's multi_logloss: 0.0247357\n",
      "[600]\tvalid_0's multi_logloss: 0.0209574\n",
      "[800]\tvalid_0's multi_logloss: 0.0202484\n",
      "Early stopping, best iteration is:\n",
      "[806]\tvalid_0's multi_logloss: 0.0201711\n",
      "Fold n°5 on LGBM. AUC : 1.000 | Accuracy : 99.3%\n",
      "\n",
      "Training until validation scores don't improve for 100 rounds\n",
      "[200]\tvalid_0's multi_logloss: 0.0408168\n",
      "[400]\tvalid_0's multi_logloss: 0.0222964\n",
      "[600]\tvalid_0's multi_logloss: 0.0176529\n",
      "[800]\tvalid_0's multi_logloss: 0.0166541\n",
      "Early stopping, best iteration is:\n",
      "[861]\tvalid_0's multi_logloss: 0.0165055\n",
      "Fold n°6 on LGBM. AUC : 1.000 | Accuracy : 99.5%\n",
      "\n",
      "Training until validation scores don't improve for 100 rounds\n",
      "[200]\tvalid_0's multi_logloss: 0.0436762\n",
      "[400]\tvalid_0's multi_logloss: 0.0255584\n",
      "[600]\tvalid_0's multi_logloss: 0.0215309\n",
      "[800]\tvalid_0's multi_logloss: 0.0206563\n",
      "Early stopping, best iteration is:\n",
      "[784]\tvalid_0's multi_logloss: 0.0204915\n",
      "Fold n°7 on LGBM. AUC : 1.000 | Accuracy : 99.2%\n",
      "\n",
      "Training until validation scores don't improve for 100 rounds\n",
      "[200]\tvalid_0's multi_logloss: 0.0386148\n",
      "[400]\tvalid_0's multi_logloss: 0.0210699\n",
      "[600]\tvalid_0's multi_logloss: 0.017043\n",
      "[800]\tvalid_0's multi_logloss: 0.0158289\n",
      "[1000]\tvalid_0's multi_logloss: 0.0155935\n",
      "[1200]\tvalid_0's multi_logloss: 0.0151654\n",
      "[1400]\tvalid_0's multi_logloss: 0.0149623\n",
      "[1600]\tvalid_0's multi_logloss: 0.0147811\n",
      "Early stopping, best iteration is:\n",
      "[1620]\tvalid_0's multi_logloss: 0.0147496\n",
      "Fold n°8 on LGBM. AUC : 1.000 | Accuracy : 99.6%\n",
      "\n",
      "Training until validation scores don't improve for 100 rounds\n",
      "[200]\tvalid_0's multi_logloss: 0.0413628\n",
      "[400]\tvalid_0's multi_logloss: 0.0245765\n",
      "[600]\tvalid_0's multi_logloss: 0.0215369\n",
      "[800]\tvalid_0's multi_logloss: 0.0204653\n",
      "Early stopping, best iteration is:\n",
      "[785]\tvalid_0's multi_logloss: 0.0203723\n",
      "Fold n°9 on LGBM. AUC : 1.000 | Accuracy : 99.3%\n",
      "\n",
      "Training until validation scores don't improve for 100 rounds\n",
      "[200]\tvalid_0's multi_logloss: 0.0455276\n",
      "[400]\tvalid_0's multi_logloss: 0.0278705\n",
      "[600]\tvalid_0's multi_logloss: 0.0246957\n",
      "Early stopping, best iteration is:\n",
      "[669]\tvalid_0's multi_logloss: 0.0244076\n",
      "Fold n°10 on LGBM. AUC : 1.000 | Accuracy : 99.1%\n",
      "\n",
      "LGBM after BayesianGaussianMixture - threshold 0.69 : Silhouette : 5.4% | Calinski Harabasz : 8343.6 | Davis Bouldin : 2.590\n"
     ]
    },
    {
     "data": {
      "text/plain": [
       "balanced_accuracy_score    0.992903\n",
       "roc_auc_score              0.999947\n",
       "dtype: float64"
      ]
     },
     "execution_count": 6,
     "metadata": {},
     "output_type": "execute_result"
    }
   ],
   "source": [
    "params_lgb = {'learning_rate': 0.07,'objective': 'multiclass','boosting': 'gbdt','verbosity': -1,'n_jobs': -1, 'num_classes':N_CLUSTERS} \n",
    "\n",
    "lgbm_predict_proba = 0 ; classif_scores = []\n",
    "\n",
    "gkf = StratifiedKFold(N_FOLDS, shuffle=True, random_state = SEED)\n",
    "for fold, (trn_idx, val_idx) in enumerate(gkf.split(X,y)):   \n",
    "\n",
    "    X_trn = lgb.Dataset(X.iloc[trn_idx], y.iloc[trn_idx], feature_name = usefull_cols)\n",
    "    X_val = lgb.Dataset(X.iloc[val_idx], y.iloc[val_idx], feature_name = usefull_cols)\n",
    "    \n",
    "    model = lgb.train(params = params_lgb, \n",
    "                train_set = X_trn, valid_sets =  X_val, \n",
    "                num_boost_round = 5000, \n",
    "                callbacks = [ lgb.early_stopping(stopping_rounds=100, verbose=True), lgb.log_evaluation(period=200)])  \n",
    "    \n",
    "    y_pred_proba = model.predict(X.iloc[val_idx])\n",
    "    y_pred = np.argmax(y_pred_proba, axis=1)\n",
    "    \n",
    "    s = (balanced_accuracy_score(y.iloc[val_idx], y_pred),\n",
    "        roc_auc_score(y.iloc[val_idx], y_pred_proba, average=\"weighted\", multi_class=\"ovo\"))\n",
    "    print(f\"Fold n°{fold+1} on LGBM. AUC : {s[1]:.3f} | Accuracy : {s[0]:.1%}\\n\")\n",
    "    classif_scores.append(s)\n",
    "\n",
    "    lgbm_predict_proba += model.predict(df_scaled[usefull_cols]) / N_FOLDS\n",
    "    \n",
    "all_scores.append(scores(np.argmax(lgbm_predict_proba, axis=1), lib=\"LGBM after BayesianGaussianMixture - threshold 0.69\"))\n",
    "\n",
    "pd.DataFrame(classif_scores, columns = [\"balanced_accuracy_score\", \"roc_auc_score\"]).mean(0)"
   ]
  },
  {
   "cell_type": "markdown",
   "id": "2e3d498f",
   "metadata": {
    "papermill": {
     "duration": 0.019264,
     "end_time": "2022-07-14T06:44:50.220624",
     "exception": false,
     "start_time": "2022-07-14T06:44:50.201360",
     "status": "completed"
    },
    "tags": []
   },
   "source": [
    "High AUC and high Accuracy Score"
   ]
  },
  {
   "cell_type": "markdown",
   "id": "d93c0a24",
   "metadata": {
    "papermill": {
     "duration": 0.019415,
     "end_time": "2022-07-14T06:44:50.259992",
     "exception": false,
     "start_time": "2022-07-14T06:44:50.240577",
     "status": "completed"
    },
    "tags": []
   },
   "source": [
    "# Extratree on trusted data after BayesianGaussianMixture"
   ]
  },
  {
   "cell_type": "code",
   "execution_count": 7,
   "id": "4474fb62",
   "metadata": {
    "execution": {
     "iopub.execute_input": "2022-07-14T06:44:50.281923Z",
     "iopub.status.busy": "2022-07-14T06:44:50.281574Z",
     "iopub.status.idle": "2022-07-14T06:48:26.400652Z",
     "shell.execute_reply": "2022-07-14T06:48:26.398273Z"
    },
    "papermill": {
     "duration": 216.160986,
     "end_time": "2022-07-14T06:48:26.431226",
     "exception": false,
     "start_time": "2022-07-14T06:44:50.270240",
     "status": "completed"
    },
    "tags": []
   },
   "outputs": [
    {
     "name": "stdout",
     "output_type": "stream",
     "text": [
      "Fold n°1 on Extratree. AUC : 0.999 | Accuracy : 96.3%\n",
      "Fold n°2 on Extratree. AUC : 0.998 | Accuracy : 95.3%\n",
      "Fold n°3 on Extratree. AUC : 0.999 | Accuracy : 95.8%\n",
      "Fold n°4 on Extratree. AUC : 0.998 | Accuracy : 95.7%\n",
      "Fold n°5 on Extratree. AUC : 0.999 | Accuracy : 96.3%\n",
      "Fold n°6 on Extratree. AUC : 0.999 | Accuracy : 96.0%\n",
      "Fold n°7 on Extratree. AUC : 0.999 | Accuracy : 95.6%\n",
      "Fold n°8 on Extratree. AUC : 0.999 | Accuracy : 95.8%\n",
      "Fold n°9 on Extratree. AUC : 0.999 | Accuracy : 95.6%\n",
      "Fold n°10 on Extratree. AUC : 0.999 | Accuracy : 96.2%\n",
      "Extratree after BayesianGaussianMixture : Silhouette : 6.0% | Calinski Harabasz : 8646.9 | Davis Bouldin : 2.497\n"
     ]
    },
    {
     "data": {
      "text/plain": [
       "balanced_accuracy_score    0.958731\n",
       "roc_auc_score              0.998615\n",
       "dtype: float64"
      ]
     },
     "execution_count": 7,
     "metadata": {},
     "output_type": "execute_result"
    }
   ],
   "source": [
    "et_predict_proba = 0 ; classif_scores = []\n",
    "\n",
    "gkf = StratifiedKFold(N_FOLDS, shuffle=True, random_state = SEED + 1)\n",
    "\n",
    "for fold, (trn_idx, val_idx) in enumerate(gkf.split(X, y)):   \n",
    "\n",
    "    X_trn, y_trn = X.iloc[trn_idx], y.iloc[trn_idx]\n",
    "    X_val, y_val = X.iloc[val_idx], y.iloc[val_idx]\n",
    "    \n",
    "    model = ExtraTreesClassifier(n_estimators=100, random_state=SEED)\n",
    "    model.fit(X_trn, y_trn)\n",
    "    \n",
    "    y_pred = model.predict(X_val)\n",
    "    y_pred_proba = model.predict_proba(X_val)\n",
    "    \n",
    "    s = (balanced_accuracy_score(y_val, y_pred),\n",
    "        roc_auc_score(y_val, y_pred_proba, average=\"weighted\", multi_class=\"ovo\"))\n",
    "    print(f\"Fold n°{fold+1} on Extratree. AUC : {s[1]:.3f} | Accuracy : {s[0]:.1%}\")\n",
    "    classif_scores.append(s)\n",
    "\n",
    "    et_predict_proba += model.predict_proba(df_scaled[usefull_cols]) / N_FOLDS\n",
    "\n",
    "all_scores.append(scores(np.argmax(et_predict_proba, axis=1), lib=\"Extratree after BayesianGaussianMixture\"))\n",
    "\n",
    "pd.DataFrame(classif_scores, columns = [\"balanced_accuracy_score\", \"roc_auc_score\"]).mean(0)"
   ]
  },
  {
   "cell_type": "markdown",
   "id": "89bc8e2b",
   "metadata": {
    "papermill": {
     "duration": 0.02174,
     "end_time": "2022-07-14T06:48:26.475584",
     "exception": false,
     "start_time": "2022-07-14T06:48:26.453844",
     "status": "completed"
    },
    "tags": []
   },
   "source": [
    "Accuracy Score is not so high than with LGBM"
   ]
  },
  {
   "cell_type": "markdown",
   "id": "63214332",
   "metadata": {
    "papermill": {
     "duration": 0.010159,
     "end_time": "2022-07-14T06:48:26.503657",
     "exception": false,
     "start_time": "2022-07-14T06:48:26.493498",
     "status": "completed"
    },
    "tags": []
   },
   "source": [
    "# QuadraticDiscriminantAnalysis on trusted data after BayesianGaussianMixture\n",
    "First I'm trying to have the better silhouette, ... scores. But AUC and accuracy are very low and it scores only 0.39 on public LB.<br>\n",
    "reg_param = 1 : strong regularization per-class covariances."
   ]
  },
  {
   "cell_type": "code",
   "execution_count": 8,
   "id": "8fdc29ed",
   "metadata": {
    "execution": {
     "iopub.execute_input": "2022-07-14T06:48:26.526517Z",
     "iopub.status.busy": "2022-07-14T06:48:26.526092Z",
     "iopub.status.idle": "2022-07-14T06:50:09.933052Z",
     "shell.execute_reply": "2022-07-14T06:50:09.931725Z"
    },
    "papermill": {
     "duration": 103.447622,
     "end_time": "2022-07-14T06:50:09.961646",
     "exception": false,
     "start_time": "2022-07-14T06:48:26.514024",
     "status": "completed"
    },
    "tags": []
   },
   "outputs": [
    {
     "name": "stdout",
     "output_type": "stream",
     "text": [
      "Fold n°1 on QDA. AUC : 0.969 | Accuracy : 78.8%\n",
      "Fold n°2 on QDA. AUC : 0.968 | Accuracy : 77.2%\n",
      "Fold n°3 on QDA. AUC : 0.967 | Accuracy : 77.5%\n",
      "Fold n°4 on QDA. AUC : 0.969 | Accuracy : 78.7%\n",
      "Fold n°5 on QDA. AUC : 0.969 | Accuracy : 78.4%\n",
      "Fold n°6 on QDA. AUC : 0.966 | Accuracy : 77.4%\n",
      "Fold n°7 on QDA. AUC : 0.968 | Accuracy : 77.5%\n",
      "Fold n°8 on QDA. AUC : 0.967 | Accuracy : 78.3%\n",
      "Fold n°9 on QDA. AUC : 0.969 | Accuracy : 78.1%\n",
      "Fold n°10 on QDA. AUC : 0.969 | Accuracy : 77.9%\n",
      "QuadraticDiscriminantAnalysis n°1 after BayesianGaussianMixture : Silhouette : 8.1% | Calinski Harabasz : 9938.5 | Davis Bouldin : 2.214\n"
     ]
    },
    {
     "data": {
      "text/plain": [
       "balanced_accuracy_score    0.779673\n",
       "roc_auc_score              0.967990\n",
       "dtype: float64"
      ]
     },
     "execution_count": 8,
     "metadata": {},
     "output_type": "execute_result"
    }
   ],
   "source": [
    "qda_predict_proba = 0 ; classif_scores = []\n",
    "\n",
    "gkf = StratifiedKFold(N_FOLDS, shuffle=True, random_state = SEED + 2)\n",
    "\n",
    "for fold, (trn_idx, val_idx) in enumerate(gkf.split(X, y)):   \n",
    "\n",
    "    X_trn, y_trn = X.iloc[trn_idx], y.iloc[trn_idx]\n",
    "    X_val, y_val = X.iloc[val_idx], y.iloc[val_idx]\n",
    "\n",
    "    model = QuadraticDiscriminantAnalysis(reg_param=1)\n",
    "    model.fit(X_trn, y_trn) # on trusted data only\n",
    "    \n",
    "    y_pred = model.predict(X_val)\n",
    "    y_pred_proba = model.predict_proba(X_val)\n",
    "    \n",
    "    s = (balanced_accuracy_score(y_val, y_pred),\n",
    "        roc_auc_score(y_val, y_pred_proba, average=\"weighted\", multi_class=\"ovo\"))\n",
    "    print(f\"Fold n°{fold+1} on QDA. AUC : {s[1]:.3f} | Accuracy : {s[0]:.1%}\")\n",
    "    classif_scores.append(s)\n",
    "\n",
    "    qda_predict_proba += model.predict_proba(df_scaled[usefull_cols]) / N_FOLDS\n",
    "\n",
    "all_scores.append(scores(np.argmax(qda_predict_proba, axis=1), lib=\"QuadraticDiscriminantAnalysis n°1 after BayesianGaussianMixture\"))\n",
    "pd.DataFrame(classif_scores, columns = [\"balanced_accuracy_score\", \"roc_auc_score\"]).mean(0)"
   ]
  },
  {
   "cell_type": "markdown",
   "id": "b31f46b8",
   "metadata": {
    "papermill": {
     "duration": 0.024836,
     "end_time": "2022-07-14T06:50:10.009735",
     "exception": false,
     "start_time": "2022-07-14T06:50:09.984899",
     "status": "completed"
    },
    "tags": []
   },
   "source": [
    "And I'm trying to have the better AUC and accuracy scores. Score on public LB is higher than 0.615.\n",
    "reg_param = 0 : low regularization per-class covariances."
   ]
  },
  {
   "cell_type": "code",
   "execution_count": 9,
   "id": "9bad9753",
   "metadata": {
    "execution": {
     "iopub.execute_input": "2022-07-14T06:50:10.052375Z",
     "iopub.status.busy": "2022-07-14T06:50:10.051987Z",
     "iopub.status.idle": "2022-07-14T06:51:53.002830Z",
     "shell.execute_reply": "2022-07-14T06:51:53.001417Z"
    },
    "papermill": {
     "duration": 102.994395,
     "end_time": "2022-07-14T06:51:53.030044",
     "exception": false,
     "start_time": "2022-07-14T06:50:10.035649",
     "status": "completed"
    },
    "tags": []
   },
   "outputs": [
    {
     "name": "stdout",
     "output_type": "stream",
     "text": [
      "Fold n°1 on QDA. AUC : 1.000 | Accuracy : 99.9%\n",
      "Fold n°2 on QDA. AUC : 1.000 | Accuracy : 99.9%\n",
      "Fold n°3 on QDA. AUC : 1.000 | Accuracy : 100.0%\n",
      "Fold n°4 on QDA. AUC : 1.000 | Accuracy : 100.0%\n",
      "Fold n°5 on QDA. AUC : 1.000 | Accuracy : 99.9%\n",
      "Fold n°6 on QDA. AUC : 1.000 | Accuracy : 100.0%\n",
      "Fold n°7 on QDA. AUC : 1.000 | Accuracy : 100.0%\n",
      "Fold n°8 on QDA. AUC : 1.000 | Accuracy : 99.9%\n",
      "Fold n°9 on QDA. AUC : 1.000 | Accuracy : 100.0%\n",
      "Fold n°10 on QDA. AUC : 1.000 | Accuracy : 99.9%\n",
      "QuadraticDiscriminantAnalysis n°2 after BayesianGaussianMixture : Silhouette : 5.4% | Calinski Harabasz : 8324.5 | Davis Bouldin : 2.569\n"
     ]
    },
    {
     "data": {
      "text/plain": [
       "balanced_accuracy_score    0.999432\n",
       "roc_auc_score              0.999999\n",
       "dtype: float64"
      ]
     },
     "execution_count": 9,
     "metadata": {},
     "output_type": "execute_result"
    }
   ],
   "source": [
    "qda_predict_proba = 0 ; classif_scores = []\n",
    "\n",
    "gkf = StratifiedKFold(N_FOLDS, shuffle=True, random_state = SEED + 2)\n",
    "\n",
    "for fold, (trn_idx, val_idx) in enumerate(gkf.split(X, y)):   \n",
    "\n",
    "    X_trn, y_trn = X.iloc[trn_idx], y.iloc[trn_idx]\n",
    "    X_val, y_val = X.iloc[val_idx], y.iloc[val_idx]\n",
    "\n",
    "    model = QuadraticDiscriminantAnalysis(reg_param=0)\n",
    "    model.fit(X_trn, y_trn) # on trusted data only\n",
    "    \n",
    "    y_pred = model.predict(X_val)\n",
    "    y_pred_proba = model.predict_proba(X_val)\n",
    "    \n",
    "    s = (balanced_accuracy_score(y_val, y_pred),\n",
    "        roc_auc_score(y_val, y_pred_proba, average=\"weighted\", multi_class=\"ovo\"))\n",
    "    print(f\"Fold n°{fold+1} on QDA. AUC : {s[1]:.3f} | Accuracy : {s[0]:.1%}\")\n",
    "    classif_scores.append(s)\n",
    "\n",
    "    qda_predict_proba += model.predict_proba(df_scaled[usefull_cols]) / N_FOLDS\n",
    "\n",
    "all_scores.append(scores(np.argmax(qda_predict_proba, axis=1), lib=\"QuadraticDiscriminantAnalysis n°2 after BayesianGaussianMixture\"))\n",
    "pd.DataFrame(classif_scores, columns = [\"balanced_accuracy_score\", \"roc_auc_score\"]).mean(0)"
   ]
  },
  {
   "cell_type": "markdown",
   "id": "629a5299",
   "metadata": {
    "papermill": {
     "duration": 0.02352,
     "end_time": "2022-07-14T06:51:53.077229",
     "exception": false,
     "start_time": "2022-07-14T06:51:53.053709",
     "status": "completed"
    },
    "tags": []
   },
   "source": [
    "Better AUC et Accuracy scores than with LGBM. Interesting..."
   ]
  },
  {
   "cell_type": "markdown",
   "id": "558ad8f2",
   "metadata": {
    "papermill": {
     "duration": 0.016091,
     "end_time": "2022-07-14T06:51:53.117710",
     "exception": false,
     "start_time": "2022-07-14T06:51:53.101619",
     "status": "completed"
    },
    "tags": []
   },
   "source": [
    "# Gaussian Naïve Bayes after BayesianGaussianMixture"
   ]
  },
  {
   "cell_type": "code",
   "execution_count": 10,
   "id": "e2be0cf1",
   "metadata": {
    "execution": {
     "iopub.execute_input": "2022-07-14T06:51:53.142532Z",
     "iopub.status.busy": "2022-07-14T06:51:53.142115Z",
     "iopub.status.idle": "2022-07-14T06:53:33.451775Z",
     "shell.execute_reply": "2022-07-14T06:53:33.450679Z"
    },
    "papermill": {
     "duration": 100.351102,
     "end_time": "2022-07-14T06:53:33.480368",
     "exception": false,
     "start_time": "2022-07-14T06:51:53.129266",
     "status": "completed"
    },
    "tags": []
   },
   "outputs": [
    {
     "name": "stdout",
     "output_type": "stream",
     "text": [
      "Fold n°1 on GaussianNB. AUC : 0.992 | Accuracy : 90.0%\n",
      "Fold n°2 on GaussianNB. AUC : 0.992 | Accuracy : 88.9%\n",
      "Fold n°3 on GaussianNB. AUC : 0.991 | Accuracy : 89.0%\n",
      "Fold n°4 on GaussianNB. AUC : 0.993 | Accuracy : 89.9%\n",
      "Fold n°5 on GaussianNB. AUC : 0.992 | Accuracy : 89.5%\n",
      "Fold n°6 on GaussianNB. AUC : 0.992 | Accuracy : 90.0%\n",
      "Fold n°7 on GaussianNB. AUC : 0.992 | Accuracy : 89.9%\n",
      "Fold n°8 on GaussianNB. AUC : 0.991 | Accuracy : 89.6%\n",
      "Fold n°9 on GaussianNB. AUC : 0.992 | Accuracy : 89.3%\n",
      "Fold n°10 on GaussianNB. AUC : 0.992 | Accuracy : 89.4%\n",
      "GaussianNaïveBayes after BayesianGaussianMixture : Silhouette : 7.2% | Calinski Harabasz : 9515.1 | Davis Bouldin : 2.317\n"
     ]
    },
    {
     "data": {
      "text/plain": [
       "balanced_accuracy_score    0.895482\n",
       "roc_auc_score              0.991994\n",
       "dtype: float64"
      ]
     },
     "execution_count": 10,
     "metadata": {},
     "output_type": "execute_result"
    }
   ],
   "source": [
    "GNB_predict_proba = 0 ; classif_scores = []\n",
    "\n",
    "gkf = StratifiedKFold(N_FOLDS, shuffle=True, random_state = SEED + 2)\n",
    "\n",
    "for fold, (trn_idx, val_idx) in enumerate(gkf.split(X, y)):   \n",
    "\n",
    "    X_trn, y_trn = X.iloc[trn_idx], y.iloc[trn_idx]\n",
    "    X_val, y_val = X.iloc[val_idx], y.iloc[val_idx]\n",
    "\n",
    "    model = GaussianNB(var_smoothing=.1)\n",
    "    model.fit(X_trn, y_trn) # on trusted data only\n",
    "    \n",
    "    y_pred = model.predict(X_val)\n",
    "    y_pred_proba = model.predict_proba(X_val)\n",
    "    \n",
    "    s = (balanced_accuracy_score(y_val, y_pred),\n",
    "        roc_auc_score(y_val, y_pred_proba, average=\"weighted\", multi_class=\"ovo\"))\n",
    "    print(f\"Fold n°{fold+1} on GaussianNB. AUC : {s[1]:.3f} | Accuracy : {s[0]:.1%}\")\n",
    "    classif_scores.append(s)\n",
    "\n",
    "    GNB_predict_proba += model.predict_proba(df_scaled[usefull_cols]) / N_FOLDS\n",
    "\n",
    "all_scores.append(scores(np.argmax(GNB_predict_proba, axis=1), lib=\"GaussianNaïveBayes after BayesianGaussianMixture\"))\n",
    "pd.DataFrame(classif_scores, columns = [\"balanced_accuracy_score\", \"roc_auc_score\"]).mean(0)"
   ]
  },
  {
   "cell_type": "markdown",
   "id": "76c08601",
   "metadata": {
    "papermill": {
     "duration": 0.024023,
     "end_time": "2022-07-14T06:53:33.528743",
     "exception": false,
     "start_time": "2022-07-14T06:53:33.504720",
     "status": "completed"
    },
    "tags": []
   },
   "source": [
    "# Linear Discriminant Analysis"
   ]
  },
  {
   "cell_type": "code",
   "execution_count": 11,
   "id": "9d4f92e3",
   "metadata": {
    "execution": {
     "iopub.execute_input": "2022-07-14T06:53:33.570089Z",
     "iopub.status.busy": "2022-07-14T06:53:33.569752Z",
     "iopub.status.idle": "2022-07-14T06:55:16.937178Z",
     "shell.execute_reply": "2022-07-14T06:55:16.935581Z"
    },
    "papermill": {
     "duration": 103.412826,
     "end_time": "2022-07-14T06:55:16.966108",
     "exception": false,
     "start_time": "2022-07-14T06:53:33.553282",
     "status": "completed"
    },
    "tags": []
   },
   "outputs": [
    {
     "name": "stdout",
     "output_type": "stream",
     "text": [
      "Fold n°1 on LDA. AUC : 0.976 | Accuracy : 81.3%\n",
      "Fold n°2 on LDA. AUC : 0.975 | Accuracy : 79.9%\n",
      "Fold n°3 on LDA. AUC : 0.975 | Accuracy : 80.3%\n",
      "Fold n°4 on LDA. AUC : 0.975 | Accuracy : 79.8%\n",
      "Fold n°5 on LDA. AUC : 0.976 | Accuracy : 80.3%\n",
      "Fold n°6 on LDA. AUC : 0.974 | Accuracy : 79.7%\n",
      "Fold n°7 on LDA. AUC : 0.976 | Accuracy : 80.7%\n",
      "Fold n°8 on LDA. AUC : 0.976 | Accuracy : 81.4%\n",
      "Fold n°9 on LDA. AUC : 0.975 | Accuracy : 80.2%\n",
      "Fold n°10 on LDA. AUC : 0.975 | Accuracy : 80.2%\n",
      "LinearDiscriminantAnalysis after BayesianGaussianMixture : Silhouette : 8.4% | Calinski Harabasz : 10065.7 | Davis Bouldin : 2.192\n"
     ]
    },
    {
     "data": {
      "text/plain": [
       "balanced_accuracy_score    0.803733\n",
       "roc_auc_score              0.975249\n",
       "dtype: float64"
      ]
     },
     "execution_count": 11,
     "metadata": {},
     "output_type": "execute_result"
    }
   ],
   "source": [
    "lda_predict_proba = 0 ; classif_scores = []\n",
    "\n",
    "gkf = StratifiedKFold(N_FOLDS, shuffle=True, random_state = SEED + 2)\n",
    "\n",
    "for fold, (trn_idx, val_idx) in enumerate(gkf.split(X, y)):   \n",
    "\n",
    "    X_trn, y_trn = X.iloc[trn_idx], y.iloc[trn_idx]\n",
    "    X_val, y_val = X.iloc[val_idx], y.iloc[val_idx]\n",
    "\n",
    "    model = LinearDiscriminantAnalysis()\n",
    "    model.fit(X_trn, y_trn) # on trusted data only\n",
    "    \n",
    "    y_pred = model.predict(X_val)\n",
    "    y_pred_proba = model.predict_proba(X_val)\n",
    "    \n",
    "    s = (balanced_accuracy_score(y_val, y_pred),\n",
    "        roc_auc_score(y_val, y_pred_proba, average=\"weighted\", multi_class=\"ovo\"))\n",
    "    print(f\"Fold n°{fold+1} on LDA. AUC : {s[1]:.3f} | Accuracy : {s[0]:.1%}\")\n",
    "    classif_scores.append(s)\n",
    "\n",
    "    lda_predict_proba += model.predict_proba(df_scaled[usefull_cols]) / N_FOLDS\n",
    "\n",
    "all_scores.append(scores(np.argmax(lda_predict_proba, axis=1), lib=\"LinearDiscriminantAnalysis after BayesianGaussianMixture\"))\n",
    "pd.DataFrame(classif_scores, columns = [\"balanced_accuracy_score\", \"roc_auc_score\"]).mean(0)"
   ]
  },
  {
   "cell_type": "markdown",
   "id": "c23104cc",
   "metadata": {
    "papermill": {
     "duration": 0.026423,
     "end_time": "2022-07-14T06:55:17.020828",
     "exception": false,
     "start_time": "2022-07-14T06:55:16.994405",
     "status": "completed"
    },
    "tags": []
   },
   "source": [
    "Lowest AUC and accuracy scores."
   ]
  },
  {
   "cell_type": "markdown",
   "id": "a1c8beb7",
   "metadata": {
    "papermill": {
     "duration": 0.012867,
     "end_time": "2022-07-14T06:55:17.053892",
     "exception": false,
     "start_time": "2022-07-14T06:55:17.041025",
     "status": "completed"
    },
    "tags": []
   },
   "source": [
    "# Soft voting\n",
    "https://www.kaggle.com/code/pourchot/simple-soft-voting<br>\n",
    "Thanks to Laurent Pourchot"
   ]
  },
  {
   "cell_type": "code",
   "execution_count": 12,
   "id": "72c6d09a",
   "metadata": {
    "execution": {
     "iopub.execute_input": "2022-07-14T06:55:17.081365Z",
     "iopub.status.busy": "2022-07-14T06:55:17.080920Z",
     "iopub.status.idle": "2022-07-14T06:55:17.089953Z",
     "shell.execute_reply": "2022-07-14T06:55:17.088779Z"
    },
    "papermill": {
     "duration": 0.025234,
     "end_time": "2022-07-14T06:55:17.091972",
     "exception": false,
     "start_time": "2022-07-14T06:55:17.066738",
     "status": "completed"
    },
    "tags": []
   },
   "outputs": [],
   "source": [
    "def soft_voting(preds_probs):\n",
    "\n",
    "    values = list(range(N_CLUSTERS))\n",
    "    pred_test = pd.DataFrame(np.zeros((df.shape[0], 7)), columns = values)\n",
    "\n",
    "    for i, p in enumerate(preds_probs):\n",
    "    \n",
    "        MAX = np.argmax(p, axis=1)\n",
    "        df[f'pred_{i}'] = MAX\n",
    "    \n",
    "        # Sort of the prediction by same value of cluster\n",
    "        pred_keys = df[f'pred_{i}'].value_counts().index.tolist()\n",
    "        pred_dict = dict(zip(pred_keys, values))\n",
    "        df[f'pred_{i}'] = df[f'pred_{i}'].map(pred_dict)\n",
    "\n",
    "        pred_new = pd.DataFrame(p).rename(columns = pred_dict)\n",
    "        pred_new = pred_new.reindex(sorted(pred_new.columns), axis=1)\n",
    "        pred_test += pred_new # Soft voting by probabiliy addition\n",
    "\n",
    "    return np.argmax(np.array(pred_test), axis=1)"
   ]
  },
  {
   "cell_type": "code",
   "execution_count": 13,
   "id": "fe8deeea",
   "metadata": {
    "execution": {
     "iopub.execute_input": "2022-07-14T06:55:17.119736Z",
     "iopub.status.busy": "2022-07-14T06:55:17.119344Z",
     "iopub.status.idle": "2022-07-14T07:00:16.135270Z",
     "shell.execute_reply": "2022-07-14T07:00:16.125568Z"
    },
    "papermill": {
     "duration": 299.058299,
     "end_time": "2022-07-14T07:00:16.162881",
     "exception": false,
     "start_time": "2022-07-14T06:55:17.104582",
     "status": "completed"
    },
    "tags": []
   },
   "outputs": [
    {
     "name": "stdout",
     "output_type": "stream",
     "text": [
      "Soft voting n°1 : all : Silhouette : 5.9% | Calinski Harabasz : 8634.0 | Davis Bouldin : 2.504\n",
      "Soft voting n°2 : LGBM, extratree and QDA : Silhouette : 5.5% | Calinski Harabasz : 8392.7 | Davis Bouldin : 2.571\n",
      "Soft voting n°3 : LGBM and QDA : Silhouette : 5.4% | Calinski Harabasz : 8360.3 | Davis Bouldin : 2.581\n"
     ]
    }
   ],
   "source": [
    "sv1_predict = soft_voting([et_predict_proba, lgbm_predict_proba, qda_predict_proba, lda_predict_proba, GNB_predict_proba])\n",
    "all_scores.append(scores(sv1_predict, lib=\"Soft voting n°1 : all\"))\n",
    "\n",
    "sv2_predict = soft_voting([et_predict_proba, lgbm_predict_proba, qda_predict_proba])\n",
    "all_scores.append(scores(sv2_predict, lib=\"Soft voting n°2 : LGBM, extratree and QDA\"))\n",
    "\n",
    "sv3_predict = soft_voting([lgbm_predict_proba, qda_predict_proba])\n",
    "all_scores.append(scores(sv3_predict, lib=\"Soft voting n°3 : LGBM and QDA\"))"
   ]
  },
  {
   "cell_type": "code",
   "execution_count": 14,
   "id": "487de0cf",
   "metadata": {
    "execution": {
     "iopub.execute_input": "2022-07-14T07:00:16.232064Z",
     "iopub.status.busy": "2022-07-14T07:00:16.231524Z",
     "iopub.status.idle": "2022-07-14T07:00:16.255664Z",
     "shell.execute_reply": "2022-07-14T07:00:16.254805Z"
    },
    "papermill": {
     "duration": 0.060925,
     "end_time": "2022-07-14T07:00:16.257968",
     "exception": false,
     "start_time": "2022-07-14T07:00:16.197043",
     "status": "completed"
    },
    "tags": []
   },
   "outputs": [
    {
     "data": {
      "text/html": [
       "<div>\n",
       "<style scoped>\n",
       "    .dataframe tbody tr th:only-of-type {\n",
       "        vertical-align: middle;\n",
       "    }\n",
       "\n",
       "    .dataframe tbody tr th {\n",
       "        vertical-align: top;\n",
       "    }\n",
       "\n",
       "    .dataframe thead th {\n",
       "        text-align: right;\n",
       "    }\n",
       "</style>\n",
       "<table border=\"1\" class=\"dataframe\">\n",
       "  <thead>\n",
       "    <tr style=\"text-align: right;\">\n",
       "      <th></th>\n",
       "      <th>Model</th>\n",
       "      <th>silhouette</th>\n",
       "      <th>Calinski_Harabasz</th>\n",
       "      <th>Davis_Bouldin</th>\n",
       "    </tr>\n",
       "  </thead>\n",
       "  <tbody>\n",
       "    <tr>\n",
       "      <th>0</th>\n",
       "      <td>BayesianGaussianMixture after powertransformer</td>\n",
       "      <td>0.050471</td>\n",
       "      <td>8157.656890</td>\n",
       "      <td>2.656782</td>\n",
       "    </tr>\n",
       "    <tr>\n",
       "      <th>1</th>\n",
       "      <td>LGBM after BayesianGaussianMixture - threshold...</td>\n",
       "      <td>0.053719</td>\n",
       "      <td>8343.593949</td>\n",
       "      <td>2.590150</td>\n",
       "    </tr>\n",
       "    <tr>\n",
       "      <th>2</th>\n",
       "      <td>Extratree after BayesianGaussianMixture</td>\n",
       "      <td>0.059842</td>\n",
       "      <td>8646.900312</td>\n",
       "      <td>2.496678</td>\n",
       "    </tr>\n",
       "    <tr>\n",
       "      <th>3</th>\n",
       "      <td>QuadraticDiscriminantAnalysis n°1 after Bayesi...</td>\n",
       "      <td>0.081142</td>\n",
       "      <td>9938.495708</td>\n",
       "      <td>2.213741</td>\n",
       "    </tr>\n",
       "    <tr>\n",
       "      <th>4</th>\n",
       "      <td>QuadraticDiscriminantAnalysis n°2 after Bayesi...</td>\n",
       "      <td>0.053897</td>\n",
       "      <td>8324.527293</td>\n",
       "      <td>2.569280</td>\n",
       "    </tr>\n",
       "    <tr>\n",
       "      <th>5</th>\n",
       "      <td>GaussianNaïveBayes after BayesianGaussianMixture</td>\n",
       "      <td>0.071833</td>\n",
       "      <td>9515.110303</td>\n",
       "      <td>2.317072</td>\n",
       "    </tr>\n",
       "    <tr>\n",
       "      <th>6</th>\n",
       "      <td>LinearDiscriminantAnalysis after BayesianGauss...</td>\n",
       "      <td>0.083624</td>\n",
       "      <td>10065.664248</td>\n",
       "      <td>2.191927</td>\n",
       "    </tr>\n",
       "    <tr>\n",
       "      <th>7</th>\n",
       "      <td>Soft voting n°1 : all</td>\n",
       "      <td>0.058854</td>\n",
       "      <td>8633.950275</td>\n",
       "      <td>2.504020</td>\n",
       "    </tr>\n",
       "    <tr>\n",
       "      <th>8</th>\n",
       "      <td>Soft voting n°2 : LGBM, extratree and QDA</td>\n",
       "      <td>0.054696</td>\n",
       "      <td>8392.672557</td>\n",
       "      <td>2.570905</td>\n",
       "    </tr>\n",
       "    <tr>\n",
       "      <th>9</th>\n",
       "      <td>Soft voting n°3 : LGBM and QDA</td>\n",
       "      <td>0.054111</td>\n",
       "      <td>8360.295234</td>\n",
       "      <td>2.581185</td>\n",
       "    </tr>\n",
       "  </tbody>\n",
       "</table>\n",
       "</div>"
      ],
      "text/plain": [
       "                                               Model  silhouette  \\\n",
       "0     BayesianGaussianMixture after powertransformer    0.050471   \n",
       "1  LGBM after BayesianGaussianMixture - threshold...    0.053719   \n",
       "2            Extratree after BayesianGaussianMixture    0.059842   \n",
       "3  QuadraticDiscriminantAnalysis n°1 after Bayesi...    0.081142   \n",
       "4  QuadraticDiscriminantAnalysis n°2 after Bayesi...    0.053897   \n",
       "5   GaussianNaïveBayes after BayesianGaussianMixture    0.071833   \n",
       "6  LinearDiscriminantAnalysis after BayesianGauss...    0.083624   \n",
       "7                              Soft voting n°1 : all    0.058854   \n",
       "8          Soft voting n°2 : LGBM, extratree and QDA    0.054696   \n",
       "9                     Soft voting n°3 : LGBM and QDA    0.054111   \n",
       "\n",
       "   Calinski_Harabasz  Davis_Bouldin  \n",
       "0        8157.656890       2.656782  \n",
       "1        8343.593949       2.590150  \n",
       "2        8646.900312       2.496678  \n",
       "3        9938.495708       2.213741  \n",
       "4        8324.527293       2.569280  \n",
       "5        9515.110303       2.317072  \n",
       "6       10065.664248       2.191927  \n",
       "7        8633.950275       2.504020  \n",
       "8        8392.672557       2.570905  \n",
       "9        8360.295234       2.581185  "
      ]
     },
     "execution_count": 14,
     "metadata": {},
     "output_type": "execute_result"
    }
   ],
   "source": [
    "pd.DataFrame(all_scores, columns=[\"Model\", \"silhouette\", \"Calinski_Harabasz\", \"Davis_Bouldin\"])"
   ]
  },
  {
   "cell_type": "markdown",
   "id": "ab582e4f",
   "metadata": {
    "papermill": {
     "duration": 0.013249,
     "end_time": "2022-07-14T07:00:16.284732",
     "exception": false,
     "start_time": "2022-07-14T07:00:16.271483",
     "status": "completed"
    },
    "tags": []
   },
   "source": [
    "# Submissions"
   ]
  },
  {
   "cell_type": "code",
   "execution_count": 15,
   "id": "bcbb5003",
   "metadata": {
    "execution": {
     "iopub.execute_input": "2022-07-14T07:00:16.314914Z",
     "iopub.status.busy": "2022-07-14T07:00:16.313680Z",
     "iopub.status.idle": "2022-07-14T07:00:17.125915Z",
     "shell.execute_reply": "2022-07-14T07:00:17.124482Z"
    },
    "papermill": {
     "duration": 0.830091,
     "end_time": "2022-07-14T07:00:17.128638",
     "exception": false,
     "start_time": "2022-07-14T07:00:16.298547",
     "status": "completed"
    },
    "tags": []
   },
   "outputs": [],
   "source": [
    "sub = pd.read_csv(\"../input/tabular-playground-series-jul-2022/sample_submission.csv\")\n",
    "\n",
    "sub['Predicted'] = np.argmax(lgbm_predict_proba, axis = 1)\n",
    "sub.to_csv(\"submission_lgbm.csv\",index = False)\n",
    "\n",
    "sub['Predicted'] = np.argmax(et_predict_proba, axis = 1)\n",
    "sub.to_csv(\"submission_extratree.csv\", index = False)\n",
    " \n",
    "sub['Predicted'] = np.argmax(qda_predict_proba, axis = 1)\n",
    "sub.to_csv(\"submission_qda.csv\", index = False)\n",
    " \n",
    "sub['Predicted'] = np.argmax(lda_predict_proba, axis = 1)\n",
    "sub.to_csv(\"submission_lda.csv\", index = False)\n",
    " \n",
    "sub['Predicted'] = np.argmax(GNB_predict_proba, axis = 1)\n",
    "sub.to_csv(\"submission_GNB.csv\", index = False)\n",
    " \n",
    "sub['Predicted'] = sv1_predict\n",
    "sub.to_csv(\"submission_softvote1.csv\", index = False)\n",
    "\n",
    "sub['Predicted'] = sv2_predict\n",
    "sub.to_csv(\"submission_softvote2.csv\", index = False)\n",
    "\n",
    "sub['Predicted'] = sv3_predict\n",
    "sub.to_csv(\"submission_softvote3.csv\", index = False)"
   ]
  },
  {
   "cell_type": "code",
   "execution_count": null,
   "id": "3b09332f",
   "metadata": {
    "papermill": {
     "duration": 0.012687,
     "end_time": "2022-07-14T07:00:17.154430",
     "exception": false,
     "start_time": "2022-07-14T07:00:17.141743",
     "status": "completed"
    },
    "tags": []
   },
   "outputs": [],
   "source": []
  }
 ],
 "metadata": {
  "kernelspec": {
   "display_name": "Python 3",
   "language": "python",
   "name": "python3"
  },
  "language_info": {
   "codemirror_mode": {
    "name": "ipython",
    "version": 3
   },
   "file_extension": ".py",
   "mimetype": "text/x-python",
   "name": "python",
   "nbconvert_exporter": "python",
   "pygments_lexer": "ipython3",
   "version": "3.7.12"
  },
  "papermill": {
   "default_parameters": {},
   "duration": 1906.053101,
   "end_time": "2022-07-14T07:00:18.195474",
   "environment_variables": {},
   "exception": null,
   "input_path": "__notebook__.ipynb",
   "output_path": "__notebook__.ipynb",
   "parameters": {},
   "start_time": "2022-07-14T06:28:32.142373",
   "version": "2.3.4"
  }
 },
 "nbformat": 4,
 "nbformat_minor": 5
}
