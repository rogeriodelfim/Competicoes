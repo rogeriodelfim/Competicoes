{
 "cells": [
  {
   "cell_type": "markdown",
   "id": "08760503",
   "metadata": {
    "papermill": {
     "duration": 0.007066,
     "end_time": "2022-07-21T18:40:20.597209",
     "exception": false,
     "start_time": "2022-07-21T18:40:20.590143",
     "status": "completed"
    },
    "tags": []
   },
   "source": [
    "### **Credits and References:**\n",
    "\n",
    "This is an update of the work made by Bizen :\n",
    "https://www.kaggle.com/code/hiro5299834/tps-jul-2022-unsupervised-and-supervised-learning\n",
    "\n",
    "which was also based upon :\n",
    "* https://www.kaggle.com/code/adaubas/tps-jul22-lgbm-extratree-qda-soft-voting  \n",
    "* https://www.kaggle.com/code/pourchot/simple-soft-voting  \n",
    "* https://www.kaggle.com/code/ricopue/tps-jul22-clusters-and-lgb  \n",
    "* https://www.kaggle.com/code/ambrosm/tpsjul22-gaussian-mixture-cluster-analysis  \n",
    "* https://www.kaggle.com/code/thedevastator/how-to-ensemble-clustering-algorithms-updated  \n",
    "* https://www.kaggle.com/code/eduus710/getting-cluster-ensembles-to-work  \n",
    "* https://www.kaggle.com/code/plarmuseau/bruteforce-clustering  \n",
    "* https://www.kaggle.com/code/thedevastator/bruteforce-clustering  \n",
    "\n",
    "# updates :\n",
    "* Neural Network added\n",
    "* Optimization function for the weighted soft voting\n",
    "\n"
   ]
  },
  {
   "cell_type": "markdown",
   "id": "01372e5a",
   "metadata": {
    "papermill": {
     "duration": 0.005432,
     "end_time": "2022-07-21T18:40:20.608431",
     "exception": false,
     "start_time": "2022-07-21T18:40:20.602999",
     "status": "completed"
    },
    "tags": []
   },
   "source": [
    "# Librairies"
   ]
  },
  {
   "cell_type": "code",
   "execution_count": 1,
   "id": "8ee8e323",
   "metadata": {
    "execution": {
     "iopub.execute_input": "2022-07-21T18:40:20.622583Z",
     "iopub.status.busy": "2022-07-21T18:40:20.621335Z",
     "iopub.status.idle": "2022-07-21T18:40:22.156776Z",
     "shell.execute_reply": "2022-07-21T18:40:22.155403Z"
    },
    "papermill": {
     "duration": 1.545816,
     "end_time": "2022-07-21T18:40:22.160007",
     "exception": false,
     "start_time": "2022-07-21T18:40:20.614191",
     "status": "completed"
    },
    "tags": []
   },
   "outputs": [],
   "source": [
    "import pandas as pd\n",
    "import numpy as np\n",
    "import random\n",
    "import os\n",
    "import gc\n",
    "\n",
    "\n",
    "import xgboost as xgb\n",
    "\n",
    "from sklearn.model_selection import StratifiedKFold\n",
    "from sklearn.preprocessing import PowerTransformer\n",
    "from sklearn.metrics import silhouette_score, calinski_harabasz_score, davies_bouldin_score,balanced_accuracy_score, roc_auc_score\n",
    "from sklearn.mixture import BayesianGaussianMixture\n",
    "from sklearn.ensemble import ExtraTreesClassifier \n",
    "from sklearn.discriminant_analysis import QuadraticDiscriminantAnalysis\n",
    "from sklearn.svm import SVC\n",
    "from sklearn.neighbors import KNeighborsClassifier\n",
    "\n",
    "\n",
    "from scipy.optimize import dual_annealing\n",
    "from numpy.random import rand\n",
    " \n",
    "\n",
    "pd.options.display.max_rows = 100\n",
    "pd.options.display.max_columns = 100"
   ]
  },
  {
   "cell_type": "markdown",
   "id": "63cf96da",
   "metadata": {
    "papermill": {
     "duration": 0.006066,
     "end_time": "2022-07-21T18:40:22.171965",
     "exception": false,
     "start_time": "2022-07-21T18:40:22.165899",
     "status": "completed"
    },
    "tags": []
   },
   "source": [
    "# Parameters"
   ]
  },
  {
   "cell_type": "code",
   "execution_count": 2,
   "id": "ea357055",
   "metadata": {
    "execution": {
     "iopub.execute_input": "2022-07-21T18:40:22.185134Z",
     "iopub.status.busy": "2022-07-21T18:40:22.184806Z",
     "iopub.status.idle": "2022-07-21T18:40:22.190692Z",
     "shell.execute_reply": "2022-07-21T18:40:22.189317Z"
    },
    "papermill": {
     "duration": 0.015858,
     "end_time": "2022-07-21T18:40:22.193703",
     "exception": false,
     "start_time": "2022-07-21T18:40:22.177845",
     "status": "completed"
    },
    "tags": []
   },
   "outputs": [],
   "source": [
    "class CFG:\n",
    "    seed_bgm = 1\n",
    "    seed = 42\n",
    "    n_splits = 10\n",
    "    n_clusters = 7\n",
    "    threshold = 0.7"
   ]
  },
  {
   "cell_type": "code",
   "execution_count": 3,
   "id": "dd9534c9",
   "metadata": {
    "execution": {
     "iopub.execute_input": "2022-07-21T18:40:22.207739Z",
     "iopub.status.busy": "2022-07-21T18:40:22.207404Z",
     "iopub.status.idle": "2022-07-21T18:40:22.213273Z",
     "shell.execute_reply": "2022-07-21T18:40:22.211975Z"
    },
    "papermill": {
     "duration": 0.015781,
     "end_time": "2022-07-21T18:40:22.215867",
     "exception": false,
     "start_time": "2022-07-21T18:40:22.200086",
     "status": "completed"
    },
    "tags": []
   },
   "outputs": [],
   "source": [
    "def seed_everything(seed=42):\n",
    "    random.seed(seed)\n",
    "    os.environ['PYTHONHASHSEED'] = str(seed)\n",
    "    np.random.seed(seed)"
   ]
  },
  {
   "cell_type": "markdown",
   "id": "dc8cc651",
   "metadata": {
    "papermill": {
     "duration": 0.005722,
     "end_time": "2022-07-21T18:40:22.227671",
     "exception": false,
     "start_time": "2022-07-21T18:40:22.221949",
     "status": "completed"
    },
    "tags": []
   },
   "source": [
    "# Load data"
   ]
  },
  {
   "cell_type": "code",
   "execution_count": 4,
   "id": "ab0d9c6f",
   "metadata": {
    "execution": {
     "iopub.execute_input": "2022-07-21T18:40:22.241077Z",
     "iopub.status.busy": "2022-07-21T18:40:22.240751Z",
     "iopub.status.idle": "2022-07-21T18:40:23.233450Z",
     "shell.execute_reply": "2022-07-21T18:40:23.232198Z"
    },
    "papermill": {
     "duration": 1.00252,
     "end_time": "2022-07-21T18:40:23.236172",
     "exception": false,
     "start_time": "2022-07-21T18:40:22.233652",
     "status": "completed"
    },
    "tags": []
   },
   "outputs": [
    {
     "data": {
      "text/html": [
       "<div>\n",
       "<style scoped>\n",
       "    .dataframe tbody tr th:only-of-type {\n",
       "        vertical-align: middle;\n",
       "    }\n",
       "\n",
       "    .dataframe tbody tr th {\n",
       "        vertical-align: top;\n",
       "    }\n",
       "\n",
       "    .dataframe thead th {\n",
       "        text-align: right;\n",
       "    }\n",
       "</style>\n",
       "<table border=\"1\" class=\"dataframe\">\n",
       "  <thead>\n",
       "    <tr style=\"text-align: right;\">\n",
       "      <th></th>\n",
       "      <th>f_00</th>\n",
       "      <th>f_01</th>\n",
       "      <th>f_02</th>\n",
       "      <th>f_03</th>\n",
       "      <th>f_04</th>\n",
       "      <th>f_05</th>\n",
       "      <th>f_06</th>\n",
       "      <th>f_07</th>\n",
       "      <th>f_08</th>\n",
       "      <th>f_09</th>\n",
       "      <th>f_10</th>\n",
       "      <th>f_11</th>\n",
       "      <th>f_12</th>\n",
       "      <th>f_13</th>\n",
       "      <th>f_14</th>\n",
       "      <th>f_15</th>\n",
       "      <th>f_16</th>\n",
       "      <th>f_17</th>\n",
       "      <th>f_18</th>\n",
       "      <th>f_19</th>\n",
       "      <th>f_20</th>\n",
       "      <th>f_21</th>\n",
       "      <th>f_22</th>\n",
       "      <th>f_23</th>\n",
       "      <th>f_24</th>\n",
       "      <th>f_25</th>\n",
       "      <th>f_26</th>\n",
       "      <th>f_27</th>\n",
       "      <th>f_28</th>\n",
       "    </tr>\n",
       "  </thead>\n",
       "  <tbody>\n",
       "    <tr>\n",
       "      <th>0</th>\n",
       "      <td>-0.389420</td>\n",
       "      <td>-0.912791</td>\n",
       "      <td>0.648951</td>\n",
       "      <td>0.589045</td>\n",
       "      <td>-0.830817</td>\n",
       "      <td>0.733624</td>\n",
       "      <td>2.258560</td>\n",
       "      <td>2</td>\n",
       "      <td>13</td>\n",
       "      <td>14</td>\n",
       "      <td>5</td>\n",
       "      <td>13</td>\n",
       "      <td>6</td>\n",
       "      <td>6</td>\n",
       "      <td>-0.469819</td>\n",
       "      <td>0.358126</td>\n",
       "      <td>1.068105</td>\n",
       "      <td>-0.559650</td>\n",
       "      <td>-0.366905</td>\n",
       "      <td>-0.478412</td>\n",
       "      <td>-0.757002</td>\n",
       "      <td>-0.763635</td>\n",
       "      <td>-1.090369</td>\n",
       "      <td>1.142641</td>\n",
       "      <td>-0.884274</td>\n",
       "      <td>1.137896</td>\n",
       "      <td>1.309073</td>\n",
       "      <td>1.463002</td>\n",
       "      <td>0.813527</td>\n",
       "    </tr>\n",
       "    <tr>\n",
       "      <th>1</th>\n",
       "      <td>-0.689249</td>\n",
       "      <td>-0.453954</td>\n",
       "      <td>0.654175</td>\n",
       "      <td>0.995248</td>\n",
       "      <td>-1.653020</td>\n",
       "      <td>0.863810</td>\n",
       "      <td>-0.090651</td>\n",
       "      <td>2</td>\n",
       "      <td>3</td>\n",
       "      <td>6</td>\n",
       "      <td>4</td>\n",
       "      <td>6</td>\n",
       "      <td>16</td>\n",
       "      <td>9</td>\n",
       "      <td>0.591035</td>\n",
       "      <td>-0.396915</td>\n",
       "      <td>0.145834</td>\n",
       "      <td>-0.030798</td>\n",
       "      <td>0.471167</td>\n",
       "      <td>-0.428791</td>\n",
       "      <td>-0.089908</td>\n",
       "      <td>-1.784204</td>\n",
       "      <td>-0.839474</td>\n",
       "      <td>0.459685</td>\n",
       "      <td>1.759412</td>\n",
       "      <td>-0.275422</td>\n",
       "      <td>-0.852168</td>\n",
       "      <td>0.562457</td>\n",
       "      <td>-2.680541</td>\n",
       "    </tr>\n",
       "    <tr>\n",
       "      <th>2</th>\n",
       "      <td>0.809079</td>\n",
       "      <td>0.324568</td>\n",
       "      <td>-1.170602</td>\n",
       "      <td>-0.624491</td>\n",
       "      <td>0.105448</td>\n",
       "      <td>0.783948</td>\n",
       "      <td>1.988301</td>\n",
       "      <td>5</td>\n",
       "      <td>11</td>\n",
       "      <td>5</td>\n",
       "      <td>8</td>\n",
       "      <td>9</td>\n",
       "      <td>3</td>\n",
       "      <td>11</td>\n",
       "      <td>-0.679875</td>\n",
       "      <td>0.469326</td>\n",
       "      <td>0.349843</td>\n",
       "      <td>-0.288042</td>\n",
       "      <td>0.291470</td>\n",
       "      <td>-0.413534</td>\n",
       "      <td>-1.602377</td>\n",
       "      <td>1.190984</td>\n",
       "      <td>3.267116</td>\n",
       "      <td>-0.088322</td>\n",
       "      <td>-2.168635</td>\n",
       "      <td>-0.974989</td>\n",
       "      <td>1.335763</td>\n",
       "      <td>-1.110655</td>\n",
       "      <td>-3.630723</td>\n",
       "    </tr>\n",
       "    <tr>\n",
       "      <th>3</th>\n",
       "      <td>-0.500923</td>\n",
       "      <td>0.229049</td>\n",
       "      <td>0.264109</td>\n",
       "      <td>0.231520</td>\n",
       "      <td>0.415012</td>\n",
       "      <td>-1.221269</td>\n",
       "      <td>0.138850</td>\n",
       "      <td>6</td>\n",
       "      <td>2</td>\n",
       "      <td>13</td>\n",
       "      <td>8</td>\n",
       "      <td>9</td>\n",
       "      <td>6</td>\n",
       "      <td>4</td>\n",
       "      <td>-0.389456</td>\n",
       "      <td>0.626762</td>\n",
       "      <td>-1.074543</td>\n",
       "      <td>-1.521753</td>\n",
       "      <td>-1.150806</td>\n",
       "      <td>0.619283</td>\n",
       "      <td>1.287801</td>\n",
       "      <td>0.532837</td>\n",
       "      <td>1.036631</td>\n",
       "      <td>-2.041828</td>\n",
       "      <td>1.440490</td>\n",
       "      <td>-1.900191</td>\n",
       "      <td>-0.630771</td>\n",
       "      <td>-0.050641</td>\n",
       "      <td>0.238333</td>\n",
       "    </tr>\n",
       "    <tr>\n",
       "      <th>4</th>\n",
       "      <td>-0.671268</td>\n",
       "      <td>-1.039533</td>\n",
       "      <td>-0.270155</td>\n",
       "      <td>-1.830264</td>\n",
       "      <td>-0.290108</td>\n",
       "      <td>-1.852809</td>\n",
       "      <td>0.781898</td>\n",
       "      <td>8</td>\n",
       "      <td>7</td>\n",
       "      <td>5</td>\n",
       "      <td>3</td>\n",
       "      <td>1</td>\n",
       "      <td>13</td>\n",
       "      <td>11</td>\n",
       "      <td>-0.120743</td>\n",
       "      <td>-0.615578</td>\n",
       "      <td>-1.064359</td>\n",
       "      <td>0.444142</td>\n",
       "      <td>0.428327</td>\n",
       "      <td>-1.628830</td>\n",
       "      <td>-0.434948</td>\n",
       "      <td>0.322505</td>\n",
       "      <td>0.284326</td>\n",
       "      <td>-2.438365</td>\n",
       "      <td>1.473930</td>\n",
       "      <td>-1.044684</td>\n",
       "      <td>1.602686</td>\n",
       "      <td>-0.405263</td>\n",
       "      <td>-1.987263</td>\n",
       "    </tr>\n",
       "  </tbody>\n",
       "</table>\n",
       "</div>"
      ],
      "text/plain": [
       "       f_00      f_01      f_02      f_03      f_04      f_05      f_06  f_07  \\\n",
       "0 -0.389420 -0.912791  0.648951  0.589045 -0.830817  0.733624  2.258560     2   \n",
       "1 -0.689249 -0.453954  0.654175  0.995248 -1.653020  0.863810 -0.090651     2   \n",
       "2  0.809079  0.324568 -1.170602 -0.624491  0.105448  0.783948  1.988301     5   \n",
       "3 -0.500923  0.229049  0.264109  0.231520  0.415012 -1.221269  0.138850     6   \n",
       "4 -0.671268 -1.039533 -0.270155 -1.830264 -0.290108 -1.852809  0.781898     8   \n",
       "\n",
       "   f_08  f_09  f_10  f_11  f_12  f_13      f_14      f_15      f_16      f_17  \\\n",
       "0    13    14     5    13     6     6 -0.469819  0.358126  1.068105 -0.559650   \n",
       "1     3     6     4     6    16     9  0.591035 -0.396915  0.145834 -0.030798   \n",
       "2    11     5     8     9     3    11 -0.679875  0.469326  0.349843 -0.288042   \n",
       "3     2    13     8     9     6     4 -0.389456  0.626762 -1.074543 -1.521753   \n",
       "4     7     5     3     1    13    11 -0.120743 -0.615578 -1.064359  0.444142   \n",
       "\n",
       "       f_18      f_19      f_20      f_21      f_22      f_23      f_24  \\\n",
       "0 -0.366905 -0.478412 -0.757002 -0.763635 -1.090369  1.142641 -0.884274   \n",
       "1  0.471167 -0.428791 -0.089908 -1.784204 -0.839474  0.459685  1.759412   \n",
       "2  0.291470 -0.413534 -1.602377  1.190984  3.267116 -0.088322 -2.168635   \n",
       "3 -1.150806  0.619283  1.287801  0.532837  1.036631 -2.041828  1.440490   \n",
       "4  0.428327 -1.628830 -0.434948  0.322505  0.284326 -2.438365  1.473930   \n",
       "\n",
       "       f_25      f_26      f_27      f_28  \n",
       "0  1.137896  1.309073  1.463002  0.813527  \n",
       "1 -0.275422 -0.852168  0.562457 -2.680541  \n",
       "2 -0.974989  1.335763 -1.110655 -3.630723  \n",
       "3 -1.900191 -0.630771 -0.050641  0.238333  \n",
       "4 -1.044684  1.602686 -0.405263 -1.987263  "
      ]
     },
     "execution_count": 4,
     "metadata": {},
     "output_type": "execute_result"
    }
   ],
   "source": [
    "df = pd.read_csv(\"../input/tabular-playground-series-jul-2022/data.csv\").drop('id', axis=1)\n",
    "df.head()"
   ]
  },
  {
   "cell_type": "code",
   "execution_count": 5,
   "id": "7750c5dc",
   "metadata": {
    "execution": {
     "iopub.execute_input": "2022-07-21T18:40:23.253230Z",
     "iopub.status.busy": "2022-07-21T18:40:23.251404Z",
     "iopub.status.idle": "2022-07-21T18:40:23.264627Z",
     "shell.execute_reply": "2022-07-21T18:40:23.263093Z"
    },
    "papermill": {
     "duration": 0.023534,
     "end_time": "2022-07-21T18:40:23.266988",
     "exception": false,
     "start_time": "2022-07-21T18:40:23.243454",
     "status": "completed"
    },
    "tags": []
   },
   "outputs": [],
   "source": [
    "all_scores = []\n",
    "best_features = [f\"f_{i:02d}\" for i in list(range(7, 14)) + list(range(22, 29))]\n",
    "features = df.columns\n",
    "\n",
    "def scores(preds, lib, df=df[best_features], verbose=True, compute_silhouette=None): \n",
    "    # Silhouette is very slow\n",
    "    sil = 0\n",
    "    if compute_silhouette:\n",
    "        sil = silhouette_score(df, preds, metric='euclidean')\n",
    "    \n",
    "    s = (lib,\n",
    "         sil, \n",
    "         calinski_harabasz_score(df, preds), \n",
    "         davies_bouldin_score(df, preds))\n",
    "    \n",
    "    if verbose:\n",
    "        print(f\"{s[0]} : Silhouette : {s[1]:.1%} | Calinski Harabasz : {s[2]:.1f} | Davis Bouldin : {s[3]:.3f}\")\n",
    "        \n",
    "    return s"
   ]
  },
  {
   "cell_type": "markdown",
   "id": "4c97014b",
   "metadata": {
    "papermill": {
     "duration": 0.005829,
     "end_time": "2022-07-21T18:40:23.279403",
     "exception": false,
     "start_time": "2022-07-21T18:40:23.273574",
     "status": "completed"
    },
    "tags": []
   },
   "source": [
    "# Bayesian Gaussian Mixture"
   ]
  },
  {
   "cell_type": "code",
   "execution_count": 6,
   "id": "fa9e822b",
   "metadata": {
    "execution": {
     "iopub.execute_input": "2022-07-21T18:40:23.293140Z",
     "iopub.status.busy": "2022-07-21T18:40:23.292840Z",
     "iopub.status.idle": "2022-07-21T18:41:14.502324Z",
     "shell.execute_reply": "2022-07-21T18:41:14.500772Z"
    },
    "papermill": {
     "duration": 51.23705,
     "end_time": "2022-07-21T18:41:14.522776",
     "exception": false,
     "start_time": "2022-07-21T18:40:23.285726",
     "status": "completed"
    },
    "scrolled": true,
    "tags": []
   },
   "outputs": [
    {
     "name": "stdout",
     "output_type": "stream",
     "text": [
      "BayesianGaussianMixture after powertransformer : Silhouette : 0.0% | Calinski Harabasz : 8156.3 | Davis Bouldin : 2.656\n"
     ]
    }
   ],
   "source": [
    "seed_everything(CFG.seed_bgm)\n",
    "df_scaled = pd.DataFrame(PowerTransformer().fit_transform(df[features]), columns=features)\n",
    "\n",
    "BGM = BayesianGaussianMixture(n_components=CFG.n_clusters, covariance_type='full', random_state=CFG.seed_bgm, max_iter=300, n_init=1, tol=1e-3)\n",
    "BGM.fit(df_scaled[best_features])\n",
    "\n",
    "BGM_predict_proba = BGM.predict_proba(df_scaled[best_features])\n",
    "BGM_predict = np.argmax(BGM_predict_proba, axis=1)\n",
    "\n",
    "all_scores.append(scores(BGM_predict, lib=\"BayesianGaussianMixture after powertransformer\"))"
   ]
  },
  {
   "cell_type": "markdown",
   "id": "f33cb715",
   "metadata": {
    "papermill": {
     "duration": 0.011989,
     "end_time": "2022-07-21T18:41:14.547434",
     "exception": false,
     "start_time": "2022-07-21T18:41:14.535445",
     "status": "completed"
    },
    "tags": []
   },
   "source": [
    "# Trusted Data"
   ]
  },
  {
   "cell_type": "code",
   "execution_count": 7,
   "id": "c8520b6b",
   "metadata": {
    "execution": {
     "iopub.execute_input": "2022-07-21T18:41:14.574387Z",
     "iopub.status.busy": "2022-07-21T18:41:14.573786Z",
     "iopub.status.idle": "2022-07-21T18:41:14.750033Z",
     "shell.execute_reply": "2022-07-21T18:41:14.748712Z"
    },
    "papermill": {
     "duration": 0.19336,
     "end_time": "2022-07-21T18:41:14.753361",
     "exception": false,
     "start_time": "2022-07-21T18:41:14.560001",
     "status": "completed"
    },
    "tags": []
   },
   "outputs": [
    {
     "name": "stdout",
     "output_type": "stream",
     "text": [
      "Class n0  |  Median : 0.9116  |  Training data : 75.2%\n",
      "Class n1  |  Median : 0.8669  |  Training data : 72.0%\n",
      "Class n2  |  Median : 0.8685  |  Training data : 71.8%\n",
      "Class n3  |  Median : 0.9074  |  Training data : 77.1%\n",
      "Class n4  |  Median : 0.7312  |  Training data : 54.3%\n",
      "Class n5  |  Median : 0.9833  |  Training data : 87.9%\n",
      "Class n6  |  Median : 0.9376  |  Training data : 78.6%\n"
     ]
    }
   ],
   "source": [
    "# get trusted data to train LGB model.\n",
    "proba_threshold = CFG.threshold\n",
    "\n",
    "df_scaled['predict'] = BGM_predict\n",
    "df_scaled['predict_proba'] = 0\n",
    "for n in range(CFG.n_clusters):\n",
    "    df_scaled[f'predict_proba_{n}'] = BGM_predict_proba[:, n]\n",
    "    df_scaled.loc[df_scaled['predict']==n, 'predict_proba'] = df_scaled[f'predict_proba_{n}']\n",
    "    \n",
    "    \n",
    "idxs = np.array([])\n",
    "for n in range(CFG.n_clusters):\n",
    "    median = df_scaled[df_scaled.predict==n]['predict_proba'].median()\n",
    "    idx = df_scaled[(df_scaled.predict==n) & (df_scaled.predict_proba > proba_threshold)].index\n",
    "    idxs = np.concatenate((idxs, idx))\n",
    "    print(f'Class n{n}  |  Median : {median:.4f}  |  Training data : {len(idx)/len(df_scaled[(df_scaled.predict==n)]):.1%}')\n",
    "    \n",
    "X = df_scaled.loc[idxs][best_features].reset_index(drop=True)\n",
    "y = df_scaled.loc[idxs]['predict'].reset_index(drop=True)"
   ]
  },
  {
   "cell_type": "markdown",
   "id": "4a4a8c6c",
   "metadata": {
    "papermill": {
     "duration": 0.006324,
     "end_time": "2022-07-21T18:41:14.766521",
     "exception": false,
     "start_time": "2022-07-21T18:41:14.760197",
     "status": "completed"
    },
    "tags": []
   },
   "source": [
    "# Supervised learning\n",
    "### Neural Network / XGBoost / ExtraTreesClassifier / QuadraticDiscriminantAnalysis / SVC / KNeighborsClassifier"
   ]
  },
  {
   "cell_type": "code",
   "execution_count": 8,
   "id": "cd0c969b",
   "metadata": {
    "execution": {
     "iopub.execute_input": "2022-07-21T18:41:14.781971Z",
     "iopub.status.busy": "2022-07-21T18:41:14.780976Z",
     "iopub.status.idle": "2022-07-21T18:41:14.788365Z",
     "shell.execute_reply": "2022-07-21T18:41:14.787209Z"
    },
    "papermill": {
     "duration": 0.017952,
     "end_time": "2022-07-21T18:41:14.790938",
     "exception": false,
     "start_time": "2022-07-21T18:41:14.772986",
     "status": "completed"
    },
    "tags": []
   },
   "outputs": [],
   "source": [
    "def get_score(labels, preds, probas):\n",
    "    s = (balanced_accuracy_score(labels, preds),\n",
    "        roc_auc_score(labels, probas, average=\"weighted\", multi_class=\"ovo\"))\n",
    "    return s"
   ]
  },
  {
   "cell_type": "markdown",
   "id": "2fa0689c",
   "metadata": {
    "papermill": {
     "duration": 0.006009,
     "end_time": "2022-07-21T18:41:14.803322",
     "exception": false,
     "start_time": "2022-07-21T18:41:14.797313",
     "status": "completed"
    },
    "tags": []
   },
   "source": [
    "## Parameters"
   ]
  },
  {
   "cell_type": "code",
   "execution_count": 9,
   "id": "25f7f4cc",
   "metadata": {
    "execution": {
     "iopub.execute_input": "2022-07-21T18:41:14.818535Z",
     "iopub.status.busy": "2022-07-21T18:41:14.818210Z",
     "iopub.status.idle": "2022-07-21T18:41:14.824555Z",
     "shell.execute_reply": "2022-07-21T18:41:14.823121Z"
    },
    "papermill": {
     "duration": 0.016328,
     "end_time": "2022-07-21T18:41:14.827014",
     "exception": false,
     "start_time": "2022-07-21T18:41:14.810686",
     "status": "completed"
    },
    "tags": []
   },
   "outputs": [],
   "source": [
    "params_xgb = {\n",
    "    'booster': 'gbtree',\n",
    "    'objective': 'multi:softprob',\n",
    "    'learning_rate': 4e-2,\n",
    "    'num_class': CFG.n_clusters,\n",
    "    'seed': CFG.seed,\n",
    "    'gpu_id': 0,\n",
    "    'tree_method': 'gpu_hist',\n",
    "    'predictor': 'gpu_predictor'\n",
    "    }\n",
    "\n",
    "\n"
   ]
  },
  {
   "cell_type": "code",
   "execution_count": 10,
   "id": "a3c16d35",
   "metadata": {
    "execution": {
     "iopub.execute_input": "2022-07-21T18:41:14.841846Z",
     "iopub.status.busy": "2022-07-21T18:41:14.841523Z",
     "iopub.status.idle": "2022-07-21T20:11:38.870817Z",
     "shell.execute_reply": "2022-07-21T20:11:38.869547Z"
    },
    "papermill": {
     "duration": 5424.040569,
     "end_time": "2022-07-21T20:11:38.874056",
     "exception": false,
     "start_time": "2022-07-21T18:41:14.833487",
     "status": "completed"
    },
    "tags": []
   },
   "outputs": [
    {
     "name": "stdout",
     "output_type": "stream",
     "text": [
      "===== fold0 =====\n",
      "XGBoost    AUC : 1.000 | Accuracy : 99.1%\n",
      "ExtraTree  AUC : 0.999 | Accuracy : 96.4%\n",
      "QDA        AUC : 1.000 | Accuracy : 99.9%\n",
      "SVC        AUC : 1.000 | Accuracy : 99.7%\n",
      "KNeighbors AUC : 0.999 | Accuracy : 97.4%\n",
      "===== fold1 =====\n",
      "XGBoost    AUC : 1.000 | Accuracy : 99.2%\n",
      "ExtraTree  AUC : 0.999 | Accuracy : 97.2%\n",
      "QDA        AUC : 1.000 | Accuracy : 100.0%\n",
      "SVC        AUC : 1.000 | Accuracy : 99.8%\n",
      "KNeighbors AUC : 1.000 | Accuracy : 97.6%\n",
      "===== fold2 =====\n",
      "XGBoost    AUC : 1.000 | Accuracy : 99.2%\n",
      "ExtraTree  AUC : 0.999 | Accuracy : 96.5%\n",
      "QDA        AUC : 1.000 | Accuracy : 100.0%\n",
      "SVC        AUC : 1.000 | Accuracy : 99.8%\n",
      "KNeighbors AUC : 1.000 | Accuracy : 97.2%\n",
      "===== fold3 =====\n",
      "XGBoost    AUC : 1.000 | Accuracy : 99.2%\n",
      "ExtraTree  AUC : 0.999 | Accuracy : 96.5%\n",
      "QDA        AUC : 1.000 | Accuracy : 99.9%\n",
      "SVC        AUC : 1.000 | Accuracy : 99.8%\n",
      "KNeighbors AUC : 1.000 | Accuracy : 97.4%\n",
      "===== fold4 =====\n",
      "XGBoost    AUC : 1.000 | Accuracy : 99.1%\n",
      "ExtraTree  AUC : 0.999 | Accuracy : 96.4%\n",
      "QDA        AUC : 1.000 | Accuracy : 99.9%\n",
      "SVC        AUC : 1.000 | Accuracy : 99.8%\n",
      "KNeighbors AUC : 1.000 | Accuracy : 97.3%\n",
      "===== fold5 =====\n",
      "XGBoost    AUC : 1.000 | Accuracy : 99.2%\n",
      "ExtraTree  AUC : 0.999 | Accuracy : 96.3%\n",
      "QDA        AUC : 1.000 | Accuracy : 100.0%\n",
      "SVC        AUC : 1.000 | Accuracy : 99.8%\n",
      "KNeighbors AUC : 1.000 | Accuracy : 97.3%\n",
      "===== fold6 =====\n",
      "XGBoost    AUC : 1.000 | Accuracy : 99.1%\n",
      "ExtraTree  AUC : 0.999 | Accuracy : 96.8%\n",
      "QDA        AUC : 1.000 | Accuracy : 99.9%\n",
      "SVC        AUC : 1.000 | Accuracy : 99.8%\n",
      "KNeighbors AUC : 1.000 | Accuracy : 97.9%\n",
      "===== fold7 =====\n",
      "XGBoost    AUC : 1.000 | Accuracy : 99.1%\n",
      "ExtraTree  AUC : 0.999 | Accuracy : 96.3%\n",
      "QDA        AUC : 1.000 | Accuracy : 99.9%\n",
      "SVC        AUC : 1.000 | Accuracy : 99.8%\n",
      "KNeighbors AUC : 1.000 | Accuracy : 96.9%\n",
      "===== fold8 =====\n",
      "XGBoost    AUC : 1.000 | Accuracy : 99.0%\n",
      "ExtraTree  AUC : 0.999 | Accuracy : 96.4%\n",
      "QDA        AUC : 1.000 | Accuracy : 99.9%\n",
      "SVC        AUC : 1.000 | Accuracy : 99.8%\n",
      "KNeighbors AUC : 1.000 | Accuracy : 97.6%\n",
      "===== fold9 =====\n",
      "XGBoost    AUC : 1.000 | Accuracy : 98.9%\n",
      "ExtraTree  AUC : 0.999 | Accuracy : 96.3%\n",
      "QDA        AUC : 1.000 | Accuracy : 100.0%\n",
      "SVC        AUC : 1.000 | Accuracy : 99.8%\n",
      "KNeighbors AUC : 1.000 | Accuracy : 97.3%\n"
     ]
    }
   ],
   "source": [
    "seed_everything(CFG.seed)\n",
    "\n",
    "xgb_predict_proba = 0\n",
    "etc_predict_proba = 0\n",
    "qda_predict_proba = 0\n",
    "svc_predict_proba = 0\n",
    "knc_predict_proba = 0\n",
    "\n",
    "classif_scores = []\n",
    "\n",
    "skf = StratifiedKFold(CFG.n_splits, shuffle=True, random_state=CFG.seed)\n",
    "\n",
    "for fold, (trn_idx, val_idx) in enumerate(skf.split(X, y)):\n",
    "    print(f\"===== fold{fold} =====\")\n",
    "    X_train, y_train = X.iloc[trn_idx], y.iloc[trn_idx]\n",
    "    X_valid, y_valid = X.iloc[val_idx], y.iloc[val_idx]\n",
    "    \n",
    "        \n",
    "    # XGBoost\n",
    "    xgb_train = xgb.DMatrix(X_train, label=y_train)\n",
    "    xgb_valid = xgb.DMatrix(X_valid, label=y_valid)\n",
    "\n",
    "    model = xgb.train(params_xgb,\n",
    "                      dtrain=xgb_train,\n",
    "                      evals=[(xgb_train, 'train'),(xgb_valid, 'eval')],\n",
    "                      verbose_eval=False,\n",
    "                      num_boost_round=20000,\n",
    "                      early_stopping_rounds=200,\n",
    "                     )\n",
    "    \n",
    "    y_pred_proba = model.predict(xgb_valid, iteration_range=(0, model.best_ntree_limit))\n",
    "    y_pred = np.argmax(y_pred_proba, axis=1)\n",
    "    \n",
    "    s = get_score(y_valid, y_pred, y_pred_proba)\n",
    "    print(f\"XGBoost    AUC : {s[1]:.3f} | Accuracy : {s[0]:.1%}\")\n",
    "    classif_scores.append(s)\n",
    "\n",
    "    xgb_predict_proba += model.predict(\n",
    "        xgb.DMatrix(df_scaled[best_features]),\n",
    "        iteration_range=(0, model.best_ntree_limit)\n",
    "    ) / CFG.n_splits\n",
    "    \n",
    "    del xgb_train, xgb_valid, model, s, y_pred, y_pred_proba\n",
    "    gc.collect()\n",
    "    \n",
    "    # ExtraTreesClassifier\n",
    "    model = ExtraTreesClassifier(n_estimators=1000, random_state=CFG.seed)\n",
    "    model.fit(X_train, y_train)\n",
    "    \n",
    "    y_pred = model.predict(X_valid)\n",
    "    y_pred_proba = model.predict_proba(X_valid)\n",
    "    \n",
    "    s = get_score(y_valid, y_pred, y_pred_proba)\n",
    "    print(f\"ExtraTree  AUC : {s[1]:.3f} | Accuracy : {s[0]:.1%}\")\n",
    "    classif_scores.append(s)\n",
    "\n",
    "    etc_predict_proba += model.predict_proba(df_scaled[best_features]) / CFG.n_splits\n",
    "\n",
    "    del model, s, y_pred, y_pred_proba\n",
    "    gc.collect()\n",
    "    \n",
    "    # QuadraticDiscriminantAnalysis\n",
    "    model = QuadraticDiscriminantAnalysis(priors=CFG.n_clusters)\n",
    "    model.fit(X_train, y_train) # on trusted data only\n",
    "    \n",
    "    y_pred = model.predict(X_valid)\n",
    "    y_pred_proba = model.predict_proba(X_valid)\n",
    "    \n",
    "    s = get_score(y_valid, y_pred, y_pred_proba)\n",
    "    print(f\"QDA        AUC : {s[1]:.3f} | Accuracy : {s[0]:.1%}\")\n",
    "    classif_scores.append(s)\n",
    "\n",
    "    qda_predict_proba += model.predict_proba(df_scaled[best_features]) / CFG.n_splits\n",
    "\n",
    "    del model, s, y_pred, y_pred_proba\n",
    "    gc.collect()\n",
    "\n",
    "    # SVC\n",
    "    model = SVC(probability=True)\n",
    "    model.fit(X_train, y_train) # on trusted data only\n",
    "    \n",
    "    y_pred = model.predict(X_valid)\n",
    "    y_pred_proba = model.predict_proba(X_valid)\n",
    "    \n",
    "    s = get_score(y_valid, y_pred, y_pred_proba)\n",
    "    print(f\"SVC        AUC : {s[1]:.3f} | Accuracy : {s[0]:.1%}\")\n",
    "    classif_scores.append(s)\n",
    "\n",
    "    svc_predict_proba += model.predict_proba(df_scaled[best_features]) / CFG.n_splits\n",
    "\n",
    "    del model, s, y_pred, y_pred_proba\n",
    "    gc.collect()\n",
    "\n",
    "    # KNeighborsClassifier\n",
    "    model = KNeighborsClassifier(n_neighbors=20)\n",
    "    model.fit(X_train, y_train) # on trusted data only\n",
    "    \n",
    "    y_pred = model.predict(X_valid)\n",
    "    y_pred_proba = model.predict_proba(X_valid)\n",
    "    \n",
    "    s = get_score(y_valid, y_pred, y_pred_proba)\n",
    "    print(f\"KNeighbors AUC : {s[1]:.3f} | Accuracy : {s[0]:.1%}\")\n",
    "    classif_scores.append(s)\n",
    "\n",
    "    knc_predict_proba += model.predict_proba(df_scaled[best_features]) / CFG.n_splits\n",
    "\n",
    "    del model, s, y_pred, y_pred_proba\n",
    "    gc.collect()"
   ]
  },
  {
   "cell_type": "markdown",
   "id": "492a3d98",
   "metadata": {
    "papermill": {
     "duration": 0.010005,
     "end_time": "2022-07-21T20:11:38.894810",
     "exception": false,
     "start_time": "2022-07-21T20:11:38.884805",
     "status": "completed"
    },
    "tags": []
   },
   "source": [
    "# Soft voting"
   ]
  },
  {
   "cell_type": "code",
   "execution_count": 11,
   "id": "4dc78a37",
   "metadata": {
    "execution": {
     "iopub.execute_input": "2022-07-21T20:11:38.916386Z",
     "iopub.status.busy": "2022-07-21T20:11:38.915962Z",
     "iopub.status.idle": "2022-07-21T20:11:38.924680Z",
     "shell.execute_reply": "2022-07-21T20:11:38.923448Z"
    },
    "papermill": {
     "duration": 0.0225,
     "end_time": "2022-07-21T20:11:38.927405",
     "exception": false,
     "start_time": "2022-07-21T20:11:38.904905",
     "status": "completed"
    },
    "tags": []
   },
   "outputs": [],
   "source": [
    "def soft_voting(preds_probas, weights):\n",
    "    pred_test = np.zeros((df.shape[0], CFG.n_clusters))\n",
    "    \n",
    "    for i, (p, w) in enumerate(zip(preds_probas, weights)):\n",
    "        preds = np.argmax(p, axis=1)\n",
    "        pred_idx = pd.Series(preds).value_counts().index.tolist()\n",
    "        pred_test += p[:, pred_idx] * w\n",
    "    \n",
    "    return np.argmax(pred_test, axis=1)"
   ]
  },
  {
   "cell_type": "markdown",
   "id": "d22867ac",
   "metadata": {
    "papermill": {
     "duration": 0.009673,
     "end_time": "2022-07-21T20:11:38.946851",
     "exception": false,
     "start_time": "2022-07-21T20:11:38.937178",
     "status": "completed"
    },
    "tags": []
   },
   "source": [
    "# Optimization"
   ]
  },
  {
   "cell_type": "markdown",
   "id": "bbe32baa",
   "metadata": {
    "papermill": {
     "duration": 0.01001,
     "end_time": "2022-07-21T20:11:38.966484",
     "exception": false,
     "start_time": "2022-07-21T20:11:38.956474",
     "status": "completed"
    },
    "tags": []
   },
   "source": [
    "We look for an optimization of the blending. The metric chosen is davies_bouldin to decide what are the best blending (maybe there is a better one...)"
   ]
  },
  {
   "cell_type": "code",
   "execution_count": 12,
   "id": "9dd3ccfd",
   "metadata": {
    "execution": {
     "iopub.execute_input": "2022-07-21T20:11:38.986953Z",
     "iopub.status.busy": "2022-07-21T20:11:38.986689Z",
     "iopub.status.idle": "2022-07-21T20:15:03.415882Z",
     "shell.execute_reply": "2022-07-21T20:15:03.414613Z"
    },
    "papermill": {
     "duration": 204.442943,
     "end_time": "2022-07-21T20:15:03.418953",
     "exception": false,
     "start_time": "2022-07-21T20:11:38.976010",
     "status": "completed"
    },
    "tags": []
   },
   "outputs": [
    {
     "name": "stdout",
     "output_type": "stream",
     "text": [
      "\n",
      "------------- maxiter:25 -------------\n",
      "\n",
      "Success : True\n",
      "Total Evaluations: 287\n",
      "Solution Weights : [ 1 94  7  4 65] for minimum davies_bouldin_score = 2.7396752695087256\n",
      "\n",
      "------------- maxiter:50 -------------\n",
      "\n",
      "Success : True\n",
      "Total Evaluations: 537\n",
      "Solution Weights : [ 1 94  7  4 65] for minimum davies_bouldin_score = 2.7396752695087256\n",
      "\n",
      "------------- maxiter:75 -------------\n",
      "\n",
      "Success : True\n",
      "Total Evaluations: 787\n",
      "Solution Weights : [ 1 94  7  4 65] for minimum davies_bouldin_score = 2.7396752695087256\n"
     ]
    }
   ],
   "source": [
    "for ITER in [25,50,75] :\n",
    "\n",
    "    # the weight evaluation function for weighting classifiers (blending coef) :\n",
    "    def objective(w):\n",
    "        w1, w2, w3, w4, w5 = w\n",
    "\n",
    "        sv_predict = soft_voting(\n",
    "        [\n",
    "         xgb_predict_proba, \n",
    "         etc_predict_proba, \n",
    "         qda_predict_proba, \n",
    "         svc_predict_proba, \n",
    "         knc_predict_proba],\n",
    "        [w1, w2, w3, w4, w5])\n",
    "        \n",
    "        score = davies_bouldin_score(df, sv_predict)\n",
    "\n",
    "        return score\n",
    "\n",
    "    # the set of possible values of the variables (definition domain) :\n",
    "    bounds = [[1, 100], \n",
    "              [1, 100],  \n",
    "              [1, 100], \n",
    "              [1, 100], \n",
    "              [1, 100]]\n",
    "\n",
    "    # the Dual Annealing optimization :\n",
    "    result = dual_annealing(objective, bounds, maxiter = ITER, seed = 42 )\n",
    "\n",
    "    # results:\n",
    "    print(f'\\n------------- maxiter:{ITER} -------------\\n')\n",
    "    print('Success :', result['success'])\n",
    "    print('Total Evaluations: %d' % result['nfev'])\n",
    "\n",
    "    solution = result['x']\n",
    "    evaluation = objective(solution)\n",
    "    print('Solution Weights : {} for minimum davies_bouldin_score = {}'.format((result['x'].astype(int)), evaluation))\n",
    "\n",
    "    sv_predict = soft_voting(\n",
    "    [\n",
    "     xgb_predict_proba, \n",
    "     etc_predict_proba, \n",
    "     qda_predict_proba, \n",
    "     svc_predict_proba, \n",
    "     knc_predict_proba],\n",
    "    solution.tolist())\n",
    "\n",
    "    sub = pd.read_csv(\"../input/tabular-playground-series-jul-2022/sample_submission.csv\")\n",
    "    sub['Predicted'] = sv_predict\n",
    "    sub.to_csv(f\"submission_iter-{ITER}.csv\", index=False)"
   ]
  }
 ],
 "metadata": {
  "kernelspec": {
   "display_name": "Python 3",
   "language": "python",
   "name": "python3"
  },
  "language_info": {
   "codemirror_mode": {
    "name": "ipython",
    "version": 3
   },
   "file_extension": ".py",
   "mimetype": "text/x-python",
   "name": "python",
   "nbconvert_exporter": "python",
   "pygments_lexer": "ipython3",
   "version": "3.7.12"
  },
  "papermill": {
   "default_parameters": {},
   "duration": 5693.864573,
   "end_time": "2022-07-21T20:15:04.964122",
   "environment_variables": {},
   "exception": null,
   "input_path": "__notebook__.ipynb",
   "output_path": "__notebook__.ipynb",
   "parameters": {},
   "start_time": "2022-07-21T18:40:11.099549",
   "version": "2.3.4"
  }
 },
 "nbformat": 4,
 "nbformat_minor": 5
}
