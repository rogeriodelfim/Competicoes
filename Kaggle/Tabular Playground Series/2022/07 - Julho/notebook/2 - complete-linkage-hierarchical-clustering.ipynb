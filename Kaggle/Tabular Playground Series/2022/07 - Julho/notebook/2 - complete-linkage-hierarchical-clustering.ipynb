{
 "cells": [
  {
   "cell_type": "code",
   "execution_count": 1,
   "id": "a8a72983",
   "metadata": {
    "_cell_guid": "b1076dfc-b9ad-4769-8c92-a6c4dae69d19",
    "_uuid": "8f2839f25d086af736a60e9eeb907d3b93b6e0e5",
    "execution": {
     "iopub.execute_input": "2021-08-16T06:28:38.190058Z",
     "iopub.status.busy": "2021-08-16T06:28:38.189181Z",
     "iopub.status.idle": "2021-08-16T06:28:38.599420Z",
     "shell.execute_reply": "2021-08-16T06:28:38.598665Z",
     "shell.execute_reply.started": "2021-08-16T06:09:57.907834Z"
    },
    "papermill": {
     "duration": 0.43627,
     "end_time": "2021-08-16T06:28:38.599603",
     "exception": false,
     "start_time": "2021-08-16T06:28:38.163333",
     "status": "completed"
    },
    "tags": []
   },
   "outputs": [],
   "source": [
    "#import libraries\n",
    "from scipy.cluster.hierarchy import dendrogram, linkage\n",
    "from matplotlib import pyplot as plt\n",
    "import pandas as pd\n",
    "import numpy as np"
   ]
  },
  {
   "cell_type": "code",
   "execution_count": 2,
   "id": "7533e51c",
   "metadata": {
    "execution": {
     "iopub.execute_input": "2021-08-16T06:28:38.627482Z",
     "iopub.status.busy": "2021-08-16T06:28:38.626809Z",
     "iopub.status.idle": "2021-08-16T06:28:38.644678Z",
     "shell.execute_reply": "2021-08-16T06:28:38.645213Z",
     "shell.execute_reply.started": "2021-08-16T05:43:32.419780Z"
    },
    "papermill": {
     "duration": 0.033804,
     "end_time": "2021-08-16T06:28:38.645420",
     "exception": false,
     "start_time": "2021-08-16T06:28:38.611616",
     "status": "completed"
    },
    "tags": []
   },
   "outputs": [],
   "source": [
    "#read data from system\n",
    "x=pd.read_csv('../input/wine-dataset-for-clustering/wine-clustering.csv')"
   ]
  },
  {
   "cell_type": "code",
   "execution_count": 3,
   "id": "500ad7bd",
   "metadata": {
    "execution": {
     "iopub.execute_input": "2021-08-16T06:28:38.677822Z",
     "iopub.status.busy": "2021-08-16T06:28:38.676758Z",
     "iopub.status.idle": "2021-08-16T06:28:38.717058Z",
     "shell.execute_reply": "2021-08-16T06:28:38.718662Z",
     "shell.execute_reply.started": "2021-08-16T05:43:32.446698Z"
    },
    "papermill": {
     "duration": 0.06247,
     "end_time": "2021-08-16T06:28:38.718948",
     "exception": false,
     "start_time": "2021-08-16T06:28:38.656478",
     "status": "completed"
    },
    "tags": []
   },
   "outputs": [
    {
     "data": {
      "text/html": [
       "<div>\n",
       "<style scoped>\n",
       "    .dataframe tbody tr th:only-of-type {\n",
       "        vertical-align: middle;\n",
       "    }\n",
       "\n",
       "    .dataframe tbody tr th {\n",
       "        vertical-align: top;\n",
       "    }\n",
       "\n",
       "    .dataframe thead th {\n",
       "        text-align: right;\n",
       "    }\n",
       "</style>\n",
       "<table border=\"1\" class=\"dataframe\">\n",
       "  <thead>\n",
       "    <tr style=\"text-align: right;\">\n",
       "      <th></th>\n",
       "      <th>Alcohol</th>\n",
       "      <th>Malic_Acid</th>\n",
       "      <th>Ash</th>\n",
       "      <th>Ash_Alcanity</th>\n",
       "      <th>Magnesium</th>\n",
       "      <th>Total_Phenols</th>\n",
       "      <th>Flavanoids</th>\n",
       "      <th>Nonflavanoid_Phenols</th>\n",
       "      <th>Proanthocyanins</th>\n",
       "      <th>Color_Intensity</th>\n",
       "      <th>Hue</th>\n",
       "      <th>OD280</th>\n",
       "      <th>Proline</th>\n",
       "    </tr>\n",
       "  </thead>\n",
       "  <tbody>\n",
       "    <tr>\n",
       "      <th>0</th>\n",
       "      <td>14.23</td>\n",
       "      <td>1.71</td>\n",
       "      <td>2.43</td>\n",
       "      <td>15.6</td>\n",
       "      <td>127</td>\n",
       "      <td>2.80</td>\n",
       "      <td>3.06</td>\n",
       "      <td>0.28</td>\n",
       "      <td>2.29</td>\n",
       "      <td>5.64</td>\n",
       "      <td>1.04</td>\n",
       "      <td>3.92</td>\n",
       "      <td>1065</td>\n",
       "    </tr>\n",
       "    <tr>\n",
       "      <th>1</th>\n",
       "      <td>13.20</td>\n",
       "      <td>1.78</td>\n",
       "      <td>2.14</td>\n",
       "      <td>11.2</td>\n",
       "      <td>100</td>\n",
       "      <td>2.65</td>\n",
       "      <td>2.76</td>\n",
       "      <td>0.26</td>\n",
       "      <td>1.28</td>\n",
       "      <td>4.38</td>\n",
       "      <td>1.05</td>\n",
       "      <td>3.40</td>\n",
       "      <td>1050</td>\n",
       "    </tr>\n",
       "    <tr>\n",
       "      <th>2</th>\n",
       "      <td>13.16</td>\n",
       "      <td>2.36</td>\n",
       "      <td>2.67</td>\n",
       "      <td>18.6</td>\n",
       "      <td>101</td>\n",
       "      <td>2.80</td>\n",
       "      <td>3.24</td>\n",
       "      <td>0.30</td>\n",
       "      <td>2.81</td>\n",
       "      <td>5.68</td>\n",
       "      <td>1.03</td>\n",
       "      <td>3.17</td>\n",
       "      <td>1185</td>\n",
       "    </tr>\n",
       "    <tr>\n",
       "      <th>3</th>\n",
       "      <td>14.37</td>\n",
       "      <td>1.95</td>\n",
       "      <td>2.50</td>\n",
       "      <td>16.8</td>\n",
       "      <td>113</td>\n",
       "      <td>3.85</td>\n",
       "      <td>3.49</td>\n",
       "      <td>0.24</td>\n",
       "      <td>2.18</td>\n",
       "      <td>7.80</td>\n",
       "      <td>0.86</td>\n",
       "      <td>3.45</td>\n",
       "      <td>1480</td>\n",
       "    </tr>\n",
       "    <tr>\n",
       "      <th>4</th>\n",
       "      <td>13.24</td>\n",
       "      <td>2.59</td>\n",
       "      <td>2.87</td>\n",
       "      <td>21.0</td>\n",
       "      <td>118</td>\n",
       "      <td>2.80</td>\n",
       "      <td>2.69</td>\n",
       "      <td>0.39</td>\n",
       "      <td>1.82</td>\n",
       "      <td>4.32</td>\n",
       "      <td>1.04</td>\n",
       "      <td>2.93</td>\n",
       "      <td>735</td>\n",
       "    </tr>\n",
       "  </tbody>\n",
       "</table>\n",
       "</div>"
      ],
      "text/plain": [
       "   Alcohol  Malic_Acid   Ash  Ash_Alcanity  Magnesium  Total_Phenols  \\\n",
       "0    14.23        1.71  2.43          15.6        127           2.80   \n",
       "1    13.20        1.78  2.14          11.2        100           2.65   \n",
       "2    13.16        2.36  2.67          18.6        101           2.80   \n",
       "3    14.37        1.95  2.50          16.8        113           3.85   \n",
       "4    13.24        2.59  2.87          21.0        118           2.80   \n",
       "\n",
       "   Flavanoids  Nonflavanoid_Phenols  Proanthocyanins  Color_Intensity   Hue  \\\n",
       "0        3.06                  0.28             2.29             5.64  1.04   \n",
       "1        2.76                  0.26             1.28             4.38  1.05   \n",
       "2        3.24                  0.30             2.81             5.68  1.03   \n",
       "3        3.49                  0.24             2.18             7.80  0.86   \n",
       "4        2.69                  0.39             1.82             4.32  1.04   \n",
       "\n",
       "   OD280  Proline  \n",
       "0   3.92     1065  \n",
       "1   3.40     1050  \n",
       "2   3.17     1185  \n",
       "3   3.45     1480  \n",
       "4   2.93      735  "
      ]
     },
     "execution_count": 3,
     "metadata": {},
     "output_type": "execute_result"
    }
   ],
   "source": [
    "#display top 5 data rows\n",
    "x.head()"
   ]
  },
  {
   "cell_type": "code",
   "execution_count": 4,
   "id": "3c31f08b",
   "metadata": {
    "execution": {
     "iopub.execute_input": "2021-08-16T06:28:38.759440Z",
     "iopub.status.busy": "2021-08-16T06:28:38.758710Z",
     "iopub.status.idle": "2021-08-16T06:28:38.764842Z",
     "shell.execute_reply": "2021-08-16T06:28:38.769438Z",
     "shell.execute_reply.started": "2021-08-16T06:02:28.362704Z"
    },
    "papermill": {
     "duration": 0.034861,
     "end_time": "2021-08-16T06:28:38.769640",
     "exception": false,
     "start_time": "2021-08-16T06:28:38.734779",
     "status": "completed"
    },
    "tags": []
   },
   "outputs": [],
   "source": [
    "#calculate hierachical clusters\n",
    "linked = linkage(x,'complete')"
   ]
  },
  {
   "cell_type": "code",
   "execution_count": 5,
   "id": "eefca342",
   "metadata": {
    "execution": {
     "iopub.execute_input": "2021-08-16T06:28:38.808743Z",
     "iopub.status.busy": "2021-08-16T06:28:38.800019Z",
     "iopub.status.idle": "2021-08-16T06:28:43.098587Z",
     "shell.execute_reply": "2021-08-16T06:28:43.099048Z",
     "shell.execute_reply.started": "2021-08-16T06:24:01.352555Z"
    },
    "papermill": {
     "duration": 4.31444,
     "end_time": "2021-08-16T06:28:43.099221",
     "exception": false,
     "start_time": "2021-08-16T06:28:38.784781",
     "status": "completed"
    },
    "tags": []
   },
   "outputs": [
    {
     "data": {
      "image/png": "[encoded data removed]",
      "text/plain": [
       "<Figure size 2160x1080 with 1 Axes>"
      ]
     },
     "metadata": {
      "needs_background": "light"
     },
     "output_type": "display_data"
    }
   ],
   "source": [
    "#plot dendrogram\n",
    "plt.figure(figsize=(30,15))\n",
    "dendrogram(linked)\n",
    "plt.show()"
   ]
  },
  {
   "cell_type": "code",
   "execution_count": 6,
   "id": "20a84d17",
   "metadata": {
    "execution": {
     "iopub.execute_input": "2021-08-16T06:28:43.127364Z",
     "iopub.status.busy": "2021-08-16T06:28:43.126667Z",
     "iopub.status.idle": "2021-08-16T06:28:44.105986Z",
     "shell.execute_reply": "2021-08-16T06:28:44.106519Z",
     "shell.execute_reply.started": "2021-08-16T06:03:08.182598Z"
    },
    "papermill": {
     "duration": 0.994941,
     "end_time": "2021-08-16T06:28:44.106707",
     "exception": false,
     "start_time": "2021-08-16T06:28:43.111766",
     "status": "completed"
    },
    "tags": []
   },
   "outputs": [],
   "source": [
    "#import cluster generation algorithm function from sklearn\n",
    "from sklearn.cluster import AgglomerativeClustering"
   ]
  },
  {
   "cell_type": "code",
   "execution_count": 7,
   "id": "af29a716",
   "metadata": {
    "execution": {
     "iopub.execute_input": "2021-08-16T06:28:44.135394Z",
     "iopub.status.busy": "2021-08-16T06:28:44.134693Z",
     "iopub.status.idle": "2021-08-16T06:28:44.138897Z",
     "shell.execute_reply": "2021-08-16T06:28:44.139410Z",
     "shell.execute_reply.started": "2021-08-16T06:04:50.122787Z"
    },
    "papermill": {
     "duration": 0.020275,
     "end_time": "2021-08-16T06:28:44.139596",
     "exception": false,
     "start_time": "2021-08-16T06:28:44.119321",
     "status": "completed"
    },
    "tags": []
   },
   "outputs": [],
   "source": [
    "#creating object for generating 3 clusters from data using complete linkage with distance measure euclidean\n",
    "CLC=AgglomerativeClustering(n_clusters=3,affinity='euclidean',linkage='complete',)"
   ]
  },
  {
   "cell_type": "code",
   "execution_count": 8,
   "id": "10cd6cab",
   "metadata": {
    "execution": {
     "iopub.execute_input": "2021-08-16T06:28:44.168434Z",
     "iopub.status.busy": "2021-08-16T06:28:44.167724Z",
     "iopub.status.idle": "2021-08-16T06:28:44.175647Z",
     "shell.execute_reply": "2021-08-16T06:28:44.176180Z",
     "shell.execute_reply.started": "2021-08-16T06:20:05.032163Z"
    },
    "papermill": {
     "duration": 0.023786,
     "end_time": "2021-08-16T06:28:44.176355",
     "exception": false,
     "start_time": "2021-08-16T06:28:44.152569",
     "status": "completed"
    },
    "tags": []
   },
   "outputs": [],
   "source": [
    "#fit data and generate cluster labels corresponding to data\n",
    "pred=CLC.fit_predict(x)"
   ]
  },
  {
   "cell_type": "code",
   "execution_count": 9,
   "id": "4aeeea52",
   "metadata": {
    "execution": {
     "iopub.execute_input": "2021-08-16T06:28:44.205108Z",
     "iopub.status.busy": "2021-08-16T06:28:44.204416Z",
     "iopub.status.idle": "2021-08-16T06:28:44.210571Z",
     "shell.execute_reply": "2021-08-16T06:28:44.211041Z",
     "shell.execute_reply.started": "2021-08-16T06:20:54.742164Z"
    },
    "papermill": {
     "duration": 0.022171,
     "end_time": "2021-08-16T06:28:44.211217",
     "exception": false,
     "start_time": "2021-08-16T06:28:44.189046",
     "status": "completed"
    },
    "tags": []
   },
   "outputs": [],
   "source": [
    "#add predicted cluster label into data points\n",
    "x['cluster']=pd.Series(pred)"
   ]
  },
  {
   "cell_type": "code",
   "execution_count": 10,
   "id": "5eb9c171",
   "metadata": {
    "execution": {
     "iopub.execute_input": "2021-08-16T06:28:44.239864Z",
     "iopub.status.busy": "2021-08-16T06:28:44.239227Z",
     "iopub.status.idle": "2021-08-16T06:28:44.262178Z",
     "shell.execute_reply": "2021-08-16T06:28:44.262742Z",
     "shell.execute_reply.started": "2021-08-16T06:21:06.427146Z"
    },
    "papermill": {
     "duration": 0.039115,
     "end_time": "2021-08-16T06:28:44.262920",
     "exception": false,
     "start_time": "2021-08-16T06:28:44.223805",
     "status": "completed"
    },
    "tags": []
   },
   "outputs": [
    {
     "data": {
      "text/html": [
       "<div>\n",
       "<style scoped>\n",
       "    .dataframe tbody tr th:only-of-type {\n",
       "        vertical-align: middle;\n",
       "    }\n",
       "\n",
       "    .dataframe tbody tr th {\n",
       "        vertical-align: top;\n",
       "    }\n",
       "\n",
       "    .dataframe thead th {\n",
       "        text-align: right;\n",
       "    }\n",
       "</style>\n",
       "<table border=\"1\" class=\"dataframe\">\n",
       "  <thead>\n",
       "    <tr style=\"text-align: right;\">\n",
       "      <th></th>\n",
       "      <th>Alcohol</th>\n",
       "      <th>Malic_Acid</th>\n",
       "      <th>Ash</th>\n",
       "      <th>Ash_Alcanity</th>\n",
       "      <th>Magnesium</th>\n",
       "      <th>Total_Phenols</th>\n",
       "      <th>Flavanoids</th>\n",
       "      <th>Nonflavanoid_Phenols</th>\n",
       "      <th>Proanthocyanins</th>\n",
       "      <th>Color_Intensity</th>\n",
       "      <th>Hue</th>\n",
       "      <th>OD280</th>\n",
       "      <th>Proline</th>\n",
       "      <th>cluster</th>\n",
       "    </tr>\n",
       "  </thead>\n",
       "  <tbody>\n",
       "    <tr>\n",
       "      <th>0</th>\n",
       "      <td>14.23</td>\n",
       "      <td>1.71</td>\n",
       "      <td>2.43</td>\n",
       "      <td>15.6</td>\n",
       "      <td>127</td>\n",
       "      <td>2.80</td>\n",
       "      <td>3.06</td>\n",
       "      <td>0.28</td>\n",
       "      <td>2.29</td>\n",
       "      <td>5.64</td>\n",
       "      <td>1.04</td>\n",
       "      <td>3.92</td>\n",
       "      <td>1065</td>\n",
       "      <td>0</td>\n",
       "    </tr>\n",
       "    <tr>\n",
       "      <th>1</th>\n",
       "      <td>13.20</td>\n",
       "      <td>1.78</td>\n",
       "      <td>2.14</td>\n",
       "      <td>11.2</td>\n",
       "      <td>100</td>\n",
       "      <td>2.65</td>\n",
       "      <td>2.76</td>\n",
       "      <td>0.26</td>\n",
       "      <td>1.28</td>\n",
       "      <td>4.38</td>\n",
       "      <td>1.05</td>\n",
       "      <td>3.40</td>\n",
       "      <td>1050</td>\n",
       "      <td>0</td>\n",
       "    </tr>\n",
       "    <tr>\n",
       "      <th>2</th>\n",
       "      <td>13.16</td>\n",
       "      <td>2.36</td>\n",
       "      <td>2.67</td>\n",
       "      <td>18.6</td>\n",
       "      <td>101</td>\n",
       "      <td>2.80</td>\n",
       "      <td>3.24</td>\n",
       "      <td>0.30</td>\n",
       "      <td>2.81</td>\n",
       "      <td>5.68</td>\n",
       "      <td>1.03</td>\n",
       "      <td>3.17</td>\n",
       "      <td>1185</td>\n",
       "      <td>0</td>\n",
       "    </tr>\n",
       "    <tr>\n",
       "      <th>3</th>\n",
       "      <td>14.37</td>\n",
       "      <td>1.95</td>\n",
       "      <td>2.50</td>\n",
       "      <td>16.8</td>\n",
       "      <td>113</td>\n",
       "      <td>3.85</td>\n",
       "      <td>3.49</td>\n",
       "      <td>0.24</td>\n",
       "      <td>2.18</td>\n",
       "      <td>7.80</td>\n",
       "      <td>0.86</td>\n",
       "      <td>3.45</td>\n",
       "      <td>1480</td>\n",
       "      <td>0</td>\n",
       "    </tr>\n",
       "    <tr>\n",
       "      <th>4</th>\n",
       "      <td>13.24</td>\n",
       "      <td>2.59</td>\n",
       "      <td>2.87</td>\n",
       "      <td>21.0</td>\n",
       "      <td>118</td>\n",
       "      <td>2.80</td>\n",
       "      <td>2.69</td>\n",
       "      <td>0.39</td>\n",
       "      <td>1.82</td>\n",
       "      <td>4.32</td>\n",
       "      <td>1.04</td>\n",
       "      <td>2.93</td>\n",
       "      <td>735</td>\n",
       "      <td>2</td>\n",
       "    </tr>\n",
       "  </tbody>\n",
       "</table>\n",
       "</div>"
      ],
      "text/plain": [
       "   Alcohol  Malic_Acid   Ash  Ash_Alcanity  Magnesium  Total_Phenols  \\\n",
       "0    14.23        1.71  2.43          15.6        127           2.80   \n",
       "1    13.20        1.78  2.14          11.2        100           2.65   \n",
       "2    13.16        2.36  2.67          18.6        101           2.80   \n",
       "3    14.37        1.95  2.50          16.8        113           3.85   \n",
       "4    13.24        2.59  2.87          21.0        118           2.80   \n",
       "\n",
       "   Flavanoids  Nonflavanoid_Phenols  Proanthocyanins  Color_Intensity   Hue  \\\n",
       "0        3.06                  0.28             2.29             5.64  1.04   \n",
       "1        2.76                  0.26             1.28             4.38  1.05   \n",
       "2        3.24                  0.30             2.81             5.68  1.03   \n",
       "3        3.49                  0.24             2.18             7.80  0.86   \n",
       "4        2.69                  0.39             1.82             4.32  1.04   \n",
       "\n",
       "   OD280  Proline  cluster  \n",
       "0   3.92     1065        0  \n",
       "1   3.40     1050        0  \n",
       "2   3.17     1185        0  \n",
       "3   3.45     1480        0  \n",
       "4   2.93      735        2  "
      ]
     },
     "execution_count": 10,
     "metadata": {},
     "output_type": "execute_result"
    }
   ],
   "source": [
    "#display updated data\n",
    "x.head()"
   ]
  },
  {
   "cell_type": "code",
   "execution_count": 11,
   "id": "ba0ffc43",
   "metadata": {
    "execution": {
     "iopub.execute_input": "2021-08-16T06:28:44.292957Z",
     "iopub.status.busy": "2021-08-16T06:28:44.292281Z",
     "iopub.status.idle": "2021-08-16T06:28:44.298941Z",
     "shell.execute_reply": "2021-08-16T06:28:44.298343Z",
     "shell.execute_reply.started": "2021-08-16T06:08:02.327917Z"
    },
    "papermill": {
     "duration": 0.022868,
     "end_time": "2021-08-16T06:28:44.299079",
     "exception": false,
     "start_time": "2021-08-16T06:28:44.276211",
     "status": "completed"
    },
    "tags": []
   },
   "outputs": [
    {
     "data": {
      "text/plain": [
       "{'affinity': 'euclidean',\n",
       " 'compute_full_tree': 'auto',\n",
       " 'connectivity': None,\n",
       " 'distance_threshold': None,\n",
       " 'linkage': 'complete',\n",
       " 'memory': None,\n",
       " 'n_clusters': 3}"
      ]
     },
     "execution_count": 11,
     "metadata": {},
     "output_type": "execute_result"
    }
   ],
   "source": [
    "CLC.get_params()"
   ]
  },
  {
   "cell_type": "code",
   "execution_count": 12,
   "id": "936c0de0",
   "metadata": {
    "execution": {
     "iopub.execute_input": "2021-08-16T06:28:44.331925Z",
     "iopub.status.busy": "2021-08-16T06:28:44.331024Z",
     "iopub.status.idle": "2021-08-16T06:28:44.335327Z",
     "shell.execute_reply": "2021-08-16T06:28:44.334825Z",
     "shell.execute_reply.started": "2021-08-16T06:12:34.237642Z"
    },
    "papermill": {
     "duration": 0.022905,
     "end_time": "2021-08-16T06:28:44.335494",
     "exception": false,
     "start_time": "2021-08-16T06:28:44.312589",
     "status": "completed"
    },
    "tags": []
   },
   "outputs": [
    {
     "data": {
      "text/plain": [
       "178"
      ]
     },
     "execution_count": 12,
     "metadata": {},
     "output_type": "execute_result"
    }
   ],
   "source": [
    "CLC.n_leaves_"
   ]
  }
 ],
 "metadata": {
  "kernelspec": {
   "display_name": "Python 3",
   "language": "python",
   "name": "python3"
  },
  "language_info": {
   "codemirror_mode": {
    "name": "ipython",
    "version": 3
   },
   "file_extension": ".py",
   "mimetype": "text/x-python",
   "name": "python",
   "nbconvert_exporter": "python",
   "pygments_lexer": "ipython3",
   "version": "3.7.10"
  },
  "papermill": {
   "default_parameters": {},
   "duration": 15.925061,
   "end_time": "2021-08-16T06:28:45.610807",
   "environment_variables": {},
   "exception": null,
   "input_path": "__notebook__.ipynb",
   "output_path": "__notebook__.ipynb",
   "parameters": {},
   "start_time": "2021-08-16T06:28:29.685746",
   "version": "2.3.3"
  }
 },
 "nbformat": 4,
 "nbformat_minor": 5
}
