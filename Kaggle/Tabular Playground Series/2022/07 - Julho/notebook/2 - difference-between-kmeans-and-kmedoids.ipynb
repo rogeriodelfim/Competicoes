{
 "cells": [
  {
   "cell_type": "code",
   "execution_count": 1,
   "id": "0e4a759d",
   "metadata": {
    "_cell_guid": "b1076dfc-b9ad-4769-8c92-a6c4dae69d19",
    "_uuid": "8f2839f25d086af736a60e9eeb907d3b93b6e0e5",
    "execution": {
     "iopub.execute_input": "2021-09-12T20:19:13.298552Z",
     "iopub.status.busy": "2021-09-12T20:19:13.297329Z",
     "iopub.status.idle": "2021-09-12T20:19:13.321750Z",
     "shell.execute_reply": "2021-09-12T20:19:13.321122Z",
     "shell.execute_reply.started": "2021-09-12T19:34:52.644766Z"
    },
    "papermill": {
     "duration": 0.060636,
     "end_time": "2021-09-12T20:19:13.321942",
     "exception": false,
     "start_time": "2021-09-12T20:19:13.261306",
     "status": "completed"
    },
    "tags": []
   },
   "outputs": [
    {
     "name": "stdout",
     "output_type": "stream",
     "text": [
      "/kaggle/input/wine-dataset-for-clustering/wine-clustering.csv\n"
     ]
    }
   ],
   "source": [
    "# This Python 3 environment comes with many helpful analytics libraries installed\n",
    "# It is defined by the kaggle/python Docker image: https://github.com/kaggle/docker-python\n",
    "# For example, here's several helpful packages to load\n",
    "\n",
    "import numpy as np # linear algebra\n",
    "import pandas as pd # data processing, CSV file I/O (e.g. pd.read_csv)\n",
    "\n",
    "# Input data files are available in the read-only \"../input/\" directory\n",
    "# For example, running this (by clicking run or pressing Shift+Enter) will list all files under the input directory\n",
    "\n",
    "import os\n",
    "for dirname, _, filenames in os.walk('/kaggle/input'):\n",
    "    for filename in filenames:\n",
    "        print(os.path.join(dirname, filename))\n",
    "\n",
    "# You can write up to 20GB to the current directory (/kaggle/working/) that gets preserved as output when you create a version using \"Save & Run All\" \n",
    "# You can also write temporary files to /kaggle/temp/, but they won't be saved outside of the current session"
   ]
  },
  {
   "cell_type": "markdown",
   "id": "20ed7140",
   "metadata": {
    "papermill": {
     "duration": 0.03075,
     "end_time": "2021-09-12T20:19:13.384992",
     "exception": false,
     "start_time": "2021-09-12T20:19:13.354242",
     "status": "completed"
    },
    "tags": []
   },
   "source": [
    "1. Objective of this notebook\n",
    "\n",
    "The objective of this notebook is to find new segmentations by using other modeling than kmeans.\n",
    "\n",
    "2. Approach\n",
    "\n",
    "1) Data Outlines\n",
    "\n",
    "2) Visualization\n",
    "\n",
    "3) Clustering and PCA\n",
    "\n",
    "First, I tried KMmeans. And I also tried GaussianMixture and KMedoids.\n",
    "\n",
    "3. Insight\n",
    "\n",
    "I got almost same result from GaussianMixture as KMeans. But I got the different segmentations from KMedoids.\n",
    "\n",
    "1) In KMeans, I got 65 cluster2s, 63 cluster1s and 51 cluster0s. In KMedoids, I got 73 cluster2s, 54 cluster1s and 51 cluater0s.\n",
    "\n",
    "2) There are some difference in means and median between KMeans and KMedoids which means I found new segmentation."
   ]
  },
  {
   "cell_type": "code",
   "execution_count": 2,
   "id": "5dac0362",
   "metadata": {
    "execution": {
     "iopub.execute_input": "2021-09-12T20:19:13.454547Z",
     "iopub.status.busy": "2021-09-12T20:19:13.453839Z",
     "iopub.status.idle": "2021-09-12T20:19:23.781789Z",
     "shell.execute_reply": "2021-09-12T20:19:23.781200Z",
     "shell.execute_reply.started": "2021-09-12T19:34:52.678972Z"
    },
    "papermill": {
     "duration": 10.364253,
     "end_time": "2021-09-12T20:19:23.781938",
     "exception": false,
     "start_time": "2021-09-12T20:19:13.417685",
     "status": "completed"
    },
    "tags": []
   },
   "outputs": [
    {
     "name": "stdout",
     "output_type": "stream",
     "text": [
      "Collecting scikit-learn-extra\r\n",
      "  Downloading scikit_learn_extra-0.2.0-cp37-cp37m-manylinux2010_x86_64.whl (1.7 MB)\r\n",
      "\u001b[K     |████████████████████████████████| 1.7 MB 887 kB/s \r\n",
      "\u001b[?25hRequirement already satisfied: scikit-learn>=0.23.0 in /opt/conda/lib/python3.7/site-packages (from scikit-learn-extra) (0.23.2)\r\n",
      "Requirement already satisfied: numpy>=1.13.3 in /opt/conda/lib/python3.7/site-packages (from scikit-learn-extra) (1.19.5)\r\n",
      "Requirement already satisfied: scipy>=0.19.1 in /opt/conda/lib/python3.7/site-packages (from scikit-learn-extra) (1.7.1)\r\n",
      "Requirement already satisfied: joblib>=0.11 in /opt/conda/lib/python3.7/site-packages (from scikit-learn>=0.23.0->scikit-learn-extra) (1.0.1)\r\n",
      "Requirement already satisfied: threadpoolctl>=2.0.0 in /opt/conda/lib/python3.7/site-packages (from scikit-learn>=0.23.0->scikit-learn-extra) (2.2.0)\r\n",
      "Installing collected packages: scikit-learn-extra\r\n",
      "Successfully installed scikit-learn-extra-0.2.0\r\n",
      "\u001b[33mWARNING: Running pip as the 'root' user can result in broken permissions and conflicting behaviour with the system package manager. It is recommended to use a virtual environment instead: https://pip.pypa.io/warnings/venv\u001b[0m\r\n",
      "Note: you may need to restart the kernel to use updated packages.\n"
     ]
    }
   ],
   "source": [
    "pip install scikit-learn-extra"
   ]
  },
  {
   "cell_type": "code",
   "execution_count": 3,
   "id": "11a3c491",
   "metadata": {
    "execution": {
     "iopub.execute_input": "2021-09-12T20:19:23.861216Z",
     "iopub.status.busy": "2021-09-12T20:19:23.860540Z",
     "iopub.status.idle": "2021-09-12T20:19:23.881106Z",
     "shell.execute_reply": "2021-09-12T20:19:23.880393Z",
     "shell.execute_reply.started": "2021-09-12T19:35:03.697891Z"
    },
    "papermill": {
     "duration": 0.063748,
     "end_time": "2021-09-12T20:19:23.881299",
     "exception": false,
     "start_time": "2021-09-12T20:19:23.817551",
     "status": "completed"
    },
    "tags": []
   },
   "outputs": [],
   "source": [
    "df=pd.read_csv('/kaggle/input/wine-dataset-for-clustering/wine-clustering.csv')"
   ]
  },
  {
   "cell_type": "markdown",
   "id": "fe07ff81",
   "metadata": {
    "papermill": {
     "duration": 0.035078,
     "end_time": "2021-09-12T20:19:23.952090",
     "exception": false,
     "start_time": "2021-09-12T20:19:23.917012",
     "status": "completed"
    },
    "tags": []
   },
   "source": [
    "1) Data Outline"
   ]
  },
  {
   "cell_type": "code",
   "execution_count": 4,
   "id": "8e45a623",
   "metadata": {
    "execution": {
     "iopub.execute_input": "2021-09-12T20:19:24.032465Z",
     "iopub.status.busy": "2021-09-12T20:19:24.031805Z",
     "iopub.status.idle": "2021-09-12T20:19:24.060253Z",
     "shell.execute_reply": "2021-09-12T20:19:24.059636Z",
     "shell.execute_reply.started": "2021-09-12T19:35:03.720252Z"
    },
    "papermill": {
     "duration": 0.073036,
     "end_time": "2021-09-12T20:19:24.060397",
     "exception": false,
     "start_time": "2021-09-12T20:19:23.987361",
     "status": "completed"
    },
    "tags": []
   },
   "outputs": [
    {
     "data": {
      "text/html": [
       "<div>\n",
       "<style scoped>\n",
       "    .dataframe tbody tr th:only-of-type {\n",
       "        vertical-align: middle;\n",
       "    }\n",
       "\n",
       "    .dataframe tbody tr th {\n",
       "        vertical-align: top;\n",
       "    }\n",
       "\n",
       "    .dataframe thead th {\n",
       "        text-align: right;\n",
       "    }\n",
       "</style>\n",
       "<table border=\"1\" class=\"dataframe\">\n",
       "  <thead>\n",
       "    <tr style=\"text-align: right;\">\n",
       "      <th></th>\n",
       "      <th>Alcohol</th>\n",
       "      <th>Malic_Acid</th>\n",
       "      <th>Ash</th>\n",
       "      <th>Ash_Alcanity</th>\n",
       "      <th>Magnesium</th>\n",
       "      <th>Total_Phenols</th>\n",
       "      <th>Flavanoids</th>\n",
       "      <th>Nonflavanoid_Phenols</th>\n",
       "      <th>Proanthocyanins</th>\n",
       "      <th>Color_Intensity</th>\n",
       "      <th>Hue</th>\n",
       "      <th>OD280</th>\n",
       "      <th>Proline</th>\n",
       "    </tr>\n",
       "  </thead>\n",
       "  <tbody>\n",
       "    <tr>\n",
       "      <th>0</th>\n",
       "      <td>14.23</td>\n",
       "      <td>1.71</td>\n",
       "      <td>2.43</td>\n",
       "      <td>15.6</td>\n",
       "      <td>127</td>\n",
       "      <td>2.80</td>\n",
       "      <td>3.06</td>\n",
       "      <td>0.28</td>\n",
       "      <td>2.29</td>\n",
       "      <td>5.64</td>\n",
       "      <td>1.04</td>\n",
       "      <td>3.92</td>\n",
       "      <td>1065</td>\n",
       "    </tr>\n",
       "    <tr>\n",
       "      <th>1</th>\n",
       "      <td>13.20</td>\n",
       "      <td>1.78</td>\n",
       "      <td>2.14</td>\n",
       "      <td>11.2</td>\n",
       "      <td>100</td>\n",
       "      <td>2.65</td>\n",
       "      <td>2.76</td>\n",
       "      <td>0.26</td>\n",
       "      <td>1.28</td>\n",
       "      <td>4.38</td>\n",
       "      <td>1.05</td>\n",
       "      <td>3.40</td>\n",
       "      <td>1050</td>\n",
       "    </tr>\n",
       "    <tr>\n",
       "      <th>2</th>\n",
       "      <td>13.16</td>\n",
       "      <td>2.36</td>\n",
       "      <td>2.67</td>\n",
       "      <td>18.6</td>\n",
       "      <td>101</td>\n",
       "      <td>2.80</td>\n",
       "      <td>3.24</td>\n",
       "      <td>0.30</td>\n",
       "      <td>2.81</td>\n",
       "      <td>5.68</td>\n",
       "      <td>1.03</td>\n",
       "      <td>3.17</td>\n",
       "      <td>1185</td>\n",
       "    </tr>\n",
       "    <tr>\n",
       "      <th>3</th>\n",
       "      <td>14.37</td>\n",
       "      <td>1.95</td>\n",
       "      <td>2.50</td>\n",
       "      <td>16.8</td>\n",
       "      <td>113</td>\n",
       "      <td>3.85</td>\n",
       "      <td>3.49</td>\n",
       "      <td>0.24</td>\n",
       "      <td>2.18</td>\n",
       "      <td>7.80</td>\n",
       "      <td>0.86</td>\n",
       "      <td>3.45</td>\n",
       "      <td>1480</td>\n",
       "    </tr>\n",
       "    <tr>\n",
       "      <th>4</th>\n",
       "      <td>13.24</td>\n",
       "      <td>2.59</td>\n",
       "      <td>2.87</td>\n",
       "      <td>21.0</td>\n",
       "      <td>118</td>\n",
       "      <td>2.80</td>\n",
       "      <td>2.69</td>\n",
       "      <td>0.39</td>\n",
       "      <td>1.82</td>\n",
       "      <td>4.32</td>\n",
       "      <td>1.04</td>\n",
       "      <td>2.93</td>\n",
       "      <td>735</td>\n",
       "    </tr>\n",
       "    <tr>\n",
       "      <th>5</th>\n",
       "      <td>14.20</td>\n",
       "      <td>1.76</td>\n",
       "      <td>2.45</td>\n",
       "      <td>15.2</td>\n",
       "      <td>112</td>\n",
       "      <td>3.27</td>\n",
       "      <td>3.39</td>\n",
       "      <td>0.34</td>\n",
       "      <td>1.97</td>\n",
       "      <td>6.75</td>\n",
       "      <td>1.05</td>\n",
       "      <td>2.85</td>\n",
       "      <td>1450</td>\n",
       "    </tr>\n",
       "    <tr>\n",
       "      <th>6</th>\n",
       "      <td>14.39</td>\n",
       "      <td>1.87</td>\n",
       "      <td>2.45</td>\n",
       "      <td>14.6</td>\n",
       "      <td>96</td>\n",
       "      <td>2.50</td>\n",
       "      <td>2.52</td>\n",
       "      <td>0.30</td>\n",
       "      <td>1.98</td>\n",
       "      <td>5.25</td>\n",
       "      <td>1.02</td>\n",
       "      <td>3.58</td>\n",
       "      <td>1290</td>\n",
       "    </tr>\n",
       "    <tr>\n",
       "      <th>7</th>\n",
       "      <td>14.06</td>\n",
       "      <td>2.15</td>\n",
       "      <td>2.61</td>\n",
       "      <td>17.6</td>\n",
       "      <td>121</td>\n",
       "      <td>2.60</td>\n",
       "      <td>2.51</td>\n",
       "      <td>0.31</td>\n",
       "      <td>1.25</td>\n",
       "      <td>5.05</td>\n",
       "      <td>1.06</td>\n",
       "      <td>3.58</td>\n",
       "      <td>1295</td>\n",
       "    </tr>\n",
       "    <tr>\n",
       "      <th>8</th>\n",
       "      <td>14.83</td>\n",
       "      <td>1.64</td>\n",
       "      <td>2.17</td>\n",
       "      <td>14.0</td>\n",
       "      <td>97</td>\n",
       "      <td>2.80</td>\n",
       "      <td>2.98</td>\n",
       "      <td>0.29</td>\n",
       "      <td>1.98</td>\n",
       "      <td>5.20</td>\n",
       "      <td>1.08</td>\n",
       "      <td>2.85</td>\n",
       "      <td>1045</td>\n",
       "    </tr>\n",
       "    <tr>\n",
       "      <th>9</th>\n",
       "      <td>13.86</td>\n",
       "      <td>1.35</td>\n",
       "      <td>2.27</td>\n",
       "      <td>16.0</td>\n",
       "      <td>98</td>\n",
       "      <td>2.98</td>\n",
       "      <td>3.15</td>\n",
       "      <td>0.22</td>\n",
       "      <td>1.85</td>\n",
       "      <td>7.22</td>\n",
       "      <td>1.01</td>\n",
       "      <td>3.55</td>\n",
       "      <td>1045</td>\n",
       "    </tr>\n",
       "  </tbody>\n",
       "</table>\n",
       "</div>"
      ],
      "text/plain": [
       "   Alcohol  Malic_Acid   Ash  Ash_Alcanity  Magnesium  Total_Phenols  \\\n",
       "0    14.23        1.71  2.43          15.6        127           2.80   \n",
       "1    13.20        1.78  2.14          11.2        100           2.65   \n",
       "2    13.16        2.36  2.67          18.6        101           2.80   \n",
       "3    14.37        1.95  2.50          16.8        113           3.85   \n",
       "4    13.24        2.59  2.87          21.0        118           2.80   \n",
       "5    14.20        1.76  2.45          15.2        112           3.27   \n",
       "6    14.39        1.87  2.45          14.6         96           2.50   \n",
       "7    14.06        2.15  2.61          17.6        121           2.60   \n",
       "8    14.83        1.64  2.17          14.0         97           2.80   \n",
       "9    13.86        1.35  2.27          16.0         98           2.98   \n",
       "\n",
       "   Flavanoids  Nonflavanoid_Phenols  Proanthocyanins  Color_Intensity   Hue  \\\n",
       "0        3.06                  0.28             2.29             5.64  1.04   \n",
       "1        2.76                  0.26             1.28             4.38  1.05   \n",
       "2        3.24                  0.30             2.81             5.68  1.03   \n",
       "3        3.49                  0.24             2.18             7.80  0.86   \n",
       "4        2.69                  0.39             1.82             4.32  1.04   \n",
       "5        3.39                  0.34             1.97             6.75  1.05   \n",
       "6        2.52                  0.30             1.98             5.25  1.02   \n",
       "7        2.51                  0.31             1.25             5.05  1.06   \n",
       "8        2.98                  0.29             1.98             5.20  1.08   \n",
       "9        3.15                  0.22             1.85             7.22  1.01   \n",
       "\n",
       "   OD280  Proline  \n",
       "0   3.92     1065  \n",
       "1   3.40     1050  \n",
       "2   3.17     1185  \n",
       "3   3.45     1480  \n",
       "4   2.93      735  \n",
       "5   2.85     1450  \n",
       "6   3.58     1290  \n",
       "7   3.58     1295  \n",
       "8   2.85     1045  \n",
       "9   3.55     1045  "
      ]
     },
     "execution_count": 4,
     "metadata": {},
     "output_type": "execute_result"
    }
   ],
   "source": [
    "df.head(10)"
   ]
  },
  {
   "cell_type": "code",
   "execution_count": 5,
   "id": "47679bde",
   "metadata": {
    "execution": {
     "iopub.execute_input": "2021-09-12T20:19:24.139134Z",
     "iopub.status.busy": "2021-09-12T20:19:24.138424Z",
     "iopub.status.idle": "2021-09-12T20:19:25.474952Z",
     "shell.execute_reply": "2021-09-12T20:19:25.474147Z",
     "shell.execute_reply.started": "2021-09-12T19:35:03.760167Z"
    },
    "papermill": {
     "duration": 1.378254,
     "end_time": "2021-09-12T20:19:25.475178",
     "exception": false,
     "start_time": "2021-09-12T20:19:24.096924",
     "status": "completed"
    },
    "tags": []
   },
   "outputs": [],
   "source": [
    "import matplotlib.pylab as plt\n",
    "import seaborn as sns\n",
    "\n",
    "from sklearn.preprocessing import StandardScaler\n",
    "\n",
    "from sklearn.cluster import KMeans\n",
    "from sklearn.mixture import GaussianMixture\n",
    "from sklearn_extra.cluster import KMedoids\n",
    "\n",
    "from sklearn.metrics import silhouette_score\n",
    "\n",
    "import warnings\n",
    "warnings.filterwarnings('ignore')"
   ]
  },
  {
   "cell_type": "code",
   "execution_count": 6,
   "id": "755c17ff",
   "metadata": {
    "execution": {
     "iopub.execute_input": "2021-09-12T20:19:25.567504Z",
     "iopub.status.busy": "2021-09-12T20:19:25.562722Z",
     "iopub.status.idle": "2021-09-12T20:19:25.590446Z",
     "shell.execute_reply": "2021-09-12T20:19:25.591006Z",
     "shell.execute_reply.started": "2021-09-12T19:35:05.111447Z"
    },
    "papermill": {
     "duration": 0.074265,
     "end_time": "2021-09-12T20:19:25.591218",
     "exception": false,
     "start_time": "2021-09-12T20:19:25.516953",
     "status": "completed"
    },
    "tags": []
   },
   "outputs": [
    {
     "name": "stdout",
     "output_type": "stream",
     "text": [
      "<class 'pandas.core.frame.DataFrame'>\n",
      "RangeIndex: 178 entries, 0 to 177\n",
      "Data columns (total 13 columns):\n",
      " #   Column                Non-Null Count  Dtype  \n",
      "---  ------                --------------  -----  \n",
      " 0   Alcohol               178 non-null    float64\n",
      " 1   Malic_Acid            178 non-null    float64\n",
      " 2   Ash                   178 non-null    float64\n",
      " 3   Ash_Alcanity          178 non-null    float64\n",
      " 4   Magnesium             178 non-null    int64  \n",
      " 5   Total_Phenols         178 non-null    float64\n",
      " 6   Flavanoids            178 non-null    float64\n",
      " 7   Nonflavanoid_Phenols  178 non-null    float64\n",
      " 8   Proanthocyanins       178 non-null    float64\n",
      " 9   Color_Intensity       178 non-null    float64\n",
      " 10  Hue                   178 non-null    float64\n",
      " 11  OD280                 178 non-null    float64\n",
      " 12  Proline               178 non-null    int64  \n",
      "dtypes: float64(11), int64(2)\n",
      "memory usage: 18.2 KB\n"
     ]
    }
   ],
   "source": [
    "df.info()"
   ]
  },
  {
   "cell_type": "code",
   "execution_count": 7,
   "id": "d34c34ff",
   "metadata": {
    "execution": {
     "iopub.execute_input": "2021-09-12T20:19:25.674450Z",
     "iopub.status.busy": "2021-09-12T20:19:25.673254Z",
     "iopub.status.idle": "2021-09-12T20:19:25.682635Z",
     "shell.execute_reply": "2021-09-12T20:19:25.683384Z",
     "shell.execute_reply.started": "2021-09-12T19:35:05.138206Z"
    },
    "papermill": {
     "duration": 0.052028,
     "end_time": "2021-09-12T20:19:25.683611",
     "exception": false,
     "start_time": "2021-09-12T20:19:25.631583",
     "status": "completed"
    },
    "tags": []
   },
   "outputs": [
    {
     "data": {
      "text/plain": [
       "Alcohol                 126\n",
       "Malic_Acid              133\n",
       "Ash                      79\n",
       "Ash_Alcanity             63\n",
       "Magnesium                53\n",
       "Total_Phenols            97\n",
       "Flavanoids              132\n",
       "Nonflavanoid_Phenols     39\n",
       "Proanthocyanins         101\n",
       "Color_Intensity         132\n",
       "Hue                      78\n",
       "OD280                   122\n",
       "Proline                 121\n",
       "dtype: int64"
      ]
     },
     "execution_count": 7,
     "metadata": {},
     "output_type": "execute_result"
    }
   ],
   "source": [
    "df.nunique()"
   ]
  },
  {
   "cell_type": "code",
   "execution_count": 8,
   "id": "ecbb7dad",
   "metadata": {
    "execution": {
     "iopub.execute_input": "2021-09-12T20:19:25.772291Z",
     "iopub.status.busy": "2021-09-12T20:19:25.771337Z",
     "iopub.status.idle": "2021-09-12T20:19:25.828099Z",
     "shell.execute_reply": "2021-09-12T20:19:25.827544Z",
     "shell.execute_reply.started": "2021-09-12T19:35:05.149884Z"
    },
    "papermill": {
     "duration": 0.100406,
     "end_time": "2021-09-12T20:19:25.828246",
     "exception": false,
     "start_time": "2021-09-12T20:19:25.727840",
     "status": "completed"
    },
    "tags": []
   },
   "outputs": [
    {
     "data": {
      "text/html": [
       "<div>\n",
       "<style scoped>\n",
       "    .dataframe tbody tr th:only-of-type {\n",
       "        vertical-align: middle;\n",
       "    }\n",
       "\n",
       "    .dataframe tbody tr th {\n",
       "        vertical-align: top;\n",
       "    }\n",
       "\n",
       "    .dataframe thead th {\n",
       "        text-align: right;\n",
       "    }\n",
       "</style>\n",
       "<table border=\"1\" class=\"dataframe\">\n",
       "  <thead>\n",
       "    <tr style=\"text-align: right;\">\n",
       "      <th></th>\n",
       "      <th>count</th>\n",
       "      <th>mean</th>\n",
       "      <th>std</th>\n",
       "      <th>min</th>\n",
       "      <th>25%</th>\n",
       "      <th>50%</th>\n",
       "      <th>75%</th>\n",
       "      <th>max</th>\n",
       "    </tr>\n",
       "  </thead>\n",
       "  <tbody>\n",
       "    <tr>\n",
       "      <th>Alcohol</th>\n",
       "      <td>178.0</td>\n",
       "      <td>13.000618</td>\n",
       "      <td>0.811827</td>\n",
       "      <td>11.03</td>\n",
       "      <td>12.3625</td>\n",
       "      <td>13.050</td>\n",
       "      <td>13.6775</td>\n",
       "      <td>14.83</td>\n",
       "    </tr>\n",
       "    <tr>\n",
       "      <th>Malic_Acid</th>\n",
       "      <td>178.0</td>\n",
       "      <td>2.336348</td>\n",
       "      <td>1.117146</td>\n",
       "      <td>0.74</td>\n",
       "      <td>1.6025</td>\n",
       "      <td>1.865</td>\n",
       "      <td>3.0825</td>\n",
       "      <td>5.80</td>\n",
       "    </tr>\n",
       "    <tr>\n",
       "      <th>Ash</th>\n",
       "      <td>178.0</td>\n",
       "      <td>2.366517</td>\n",
       "      <td>0.274344</td>\n",
       "      <td>1.36</td>\n",
       "      <td>2.2100</td>\n",
       "      <td>2.360</td>\n",
       "      <td>2.5575</td>\n",
       "      <td>3.23</td>\n",
       "    </tr>\n",
       "    <tr>\n",
       "      <th>Ash_Alcanity</th>\n",
       "      <td>178.0</td>\n",
       "      <td>19.494944</td>\n",
       "      <td>3.339564</td>\n",
       "      <td>10.60</td>\n",
       "      <td>17.2000</td>\n",
       "      <td>19.500</td>\n",
       "      <td>21.5000</td>\n",
       "      <td>30.00</td>\n",
       "    </tr>\n",
       "    <tr>\n",
       "      <th>Magnesium</th>\n",
       "      <td>178.0</td>\n",
       "      <td>99.741573</td>\n",
       "      <td>14.282484</td>\n",
       "      <td>70.00</td>\n",
       "      <td>88.0000</td>\n",
       "      <td>98.000</td>\n",
       "      <td>107.0000</td>\n",
       "      <td>162.00</td>\n",
       "    </tr>\n",
       "    <tr>\n",
       "      <th>Total_Phenols</th>\n",
       "      <td>178.0</td>\n",
       "      <td>2.295112</td>\n",
       "      <td>0.625851</td>\n",
       "      <td>0.98</td>\n",
       "      <td>1.7425</td>\n",
       "      <td>2.355</td>\n",
       "      <td>2.8000</td>\n",
       "      <td>3.88</td>\n",
       "    </tr>\n",
       "    <tr>\n",
       "      <th>Flavanoids</th>\n",
       "      <td>178.0</td>\n",
       "      <td>2.029270</td>\n",
       "      <td>0.998859</td>\n",
       "      <td>0.34</td>\n",
       "      <td>1.2050</td>\n",
       "      <td>2.135</td>\n",
       "      <td>2.8750</td>\n",
       "      <td>5.08</td>\n",
       "    </tr>\n",
       "    <tr>\n",
       "      <th>Nonflavanoid_Phenols</th>\n",
       "      <td>178.0</td>\n",
       "      <td>0.361854</td>\n",
       "      <td>0.124453</td>\n",
       "      <td>0.13</td>\n",
       "      <td>0.2700</td>\n",
       "      <td>0.340</td>\n",
       "      <td>0.4375</td>\n",
       "      <td>0.66</td>\n",
       "    </tr>\n",
       "    <tr>\n",
       "      <th>Proanthocyanins</th>\n",
       "      <td>178.0</td>\n",
       "      <td>1.590899</td>\n",
       "      <td>0.572359</td>\n",
       "      <td>0.41</td>\n",
       "      <td>1.2500</td>\n",
       "      <td>1.555</td>\n",
       "      <td>1.9500</td>\n",
       "      <td>3.58</td>\n",
       "    </tr>\n",
       "    <tr>\n",
       "      <th>Color_Intensity</th>\n",
       "      <td>178.0</td>\n",
       "      <td>5.058090</td>\n",
       "      <td>2.318286</td>\n",
       "      <td>1.28</td>\n",
       "      <td>3.2200</td>\n",
       "      <td>4.690</td>\n",
       "      <td>6.2000</td>\n",
       "      <td>13.00</td>\n",
       "    </tr>\n",
       "    <tr>\n",
       "      <th>Hue</th>\n",
       "      <td>178.0</td>\n",
       "      <td>0.957449</td>\n",
       "      <td>0.228572</td>\n",
       "      <td>0.48</td>\n",
       "      <td>0.7825</td>\n",
       "      <td>0.965</td>\n",
       "      <td>1.1200</td>\n",
       "      <td>1.71</td>\n",
       "    </tr>\n",
       "    <tr>\n",
       "      <th>OD280</th>\n",
       "      <td>178.0</td>\n",
       "      <td>2.611685</td>\n",
       "      <td>0.709990</td>\n",
       "      <td>1.27</td>\n",
       "      <td>1.9375</td>\n",
       "      <td>2.780</td>\n",
       "      <td>3.1700</td>\n",
       "      <td>4.00</td>\n",
       "    </tr>\n",
       "    <tr>\n",
       "      <th>Proline</th>\n",
       "      <td>178.0</td>\n",
       "      <td>746.893258</td>\n",
       "      <td>314.907474</td>\n",
       "      <td>278.00</td>\n",
       "      <td>500.5000</td>\n",
       "      <td>673.500</td>\n",
       "      <td>985.0000</td>\n",
       "      <td>1680.00</td>\n",
       "    </tr>\n",
       "  </tbody>\n",
       "</table>\n",
       "</div>"
      ],
      "text/plain": [
       "                      count        mean         std     min       25%  \\\n",
       "Alcohol               178.0   13.000618    0.811827   11.03   12.3625   \n",
       "Malic_Acid            178.0    2.336348    1.117146    0.74    1.6025   \n",
       "Ash                   178.0    2.366517    0.274344    1.36    2.2100   \n",
       "Ash_Alcanity          178.0   19.494944    3.339564   10.60   17.2000   \n",
       "Magnesium             178.0   99.741573   14.282484   70.00   88.0000   \n",
       "Total_Phenols         178.0    2.295112    0.625851    0.98    1.7425   \n",
       "Flavanoids            178.0    2.029270    0.998859    0.34    1.2050   \n",
       "Nonflavanoid_Phenols  178.0    0.361854    0.124453    0.13    0.2700   \n",
       "Proanthocyanins       178.0    1.590899    0.572359    0.41    1.2500   \n",
       "Color_Intensity       178.0    5.058090    2.318286    1.28    3.2200   \n",
       "Hue                   178.0    0.957449    0.228572    0.48    0.7825   \n",
       "OD280                 178.0    2.611685    0.709990    1.27    1.9375   \n",
       "Proline               178.0  746.893258  314.907474  278.00  500.5000   \n",
       "\n",
       "                          50%       75%      max  \n",
       "Alcohol                13.050   13.6775    14.83  \n",
       "Malic_Acid              1.865    3.0825     5.80  \n",
       "Ash                     2.360    2.5575     3.23  \n",
       "Ash_Alcanity           19.500   21.5000    30.00  \n",
       "Magnesium              98.000  107.0000   162.00  \n",
       "Total_Phenols           2.355    2.8000     3.88  \n",
       "Flavanoids              2.135    2.8750     5.08  \n",
       "Nonflavanoid_Phenols    0.340    0.4375     0.66  \n",
       "Proanthocyanins         1.555    1.9500     3.58  \n",
       "Color_Intensity         4.690    6.2000    13.00  \n",
       "Hue                     0.965    1.1200     1.71  \n",
       "OD280                   2.780    3.1700     4.00  \n",
       "Proline               673.500  985.0000  1680.00  "
      ]
     },
     "execution_count": 8,
     "metadata": {},
     "output_type": "execute_result"
    }
   ],
   "source": [
    "df.describe().T"
   ]
  },
  {
   "cell_type": "markdown",
   "id": "5829d755",
   "metadata": {
    "papermill": {
     "duration": 0.039801,
     "end_time": "2021-09-12T20:19:25.908069",
     "exception": false,
     "start_time": "2021-09-12T20:19:25.868268",
     "status": "completed"
    },
    "tags": []
   },
   "source": [
    "2) Visualization"
   ]
  },
  {
   "cell_type": "code",
   "execution_count": 9,
   "id": "9f0d791f",
   "metadata": {
    "execution": {
     "iopub.execute_input": "2021-09-12T20:19:25.988545Z",
     "iopub.status.busy": "2021-09-12T20:19:25.987537Z",
     "iopub.status.idle": "2021-09-12T20:19:30.382625Z",
     "shell.execute_reply": "2021-09-12T20:19:30.383128Z",
     "shell.execute_reply.started": "2021-09-12T19:35:05.204609Z"
    },
    "papermill": {
     "duration": 4.436699,
     "end_time": "2021-09-12T20:19:30.383321",
     "exception": false,
     "start_time": "2021-09-12T20:19:25.946622",
     "status": "completed"
    },
    "tags": []
   },
   "outputs": [
    {
     "name": "stdout",
     "output_type": "stream",
     "text": [
      "Alcohol\n",
      "Skew : -0.05\n"
     ]
    },
    {
     "data": {
      "image/png": "[encoded data removed]",
      "text/plain": [
       "<Figure size 1080x288 with 2 Axes>"
      ]
     },
     "metadata": {
      "needs_background": "light"
     },
     "output_type": "display_data"
    },
    {
     "name": "stdout",
     "output_type": "stream",
     "text": [
      "Malic_Acid\n",
      "Skew : 1.04\n"
     ]
    },
    {
     "data": {
      "image/png": "[encoded data removed]",
      "text/plain": [
       "<Figure size 1080x288 with 2 Axes>"
      ]
     },
     "metadata": {
      "needs_background": "light"
     },
     "output_type": "display_data"
    },
    {
     "name": "stdout",
     "output_type": "stream",
     "text": [
      "Ash\n",
      "Skew : -0.18\n"
     ]
    },
    {
     "data": {
      "image/png": "[encoded data removed]",
      "text/plain": [
       "<Figure size 1080x288 with 2 Axes>"
      ]
     },
     "metadata": {
      "needs_background": "light"
     },
     "output_type": "display_data"
    },
    {
     "name": "stdout",
     "output_type": "stream",
     "text": [
      "Ash_Alcanity\n",
      "Skew : 0.21\n"
     ]
    },
    {
     "data": {
      "image/png": "[encoded data removed]",
      "text/plain": [
       "<Figure size 1080x288 with 2 Axes>"
      ]
     },
     "metadata": {
      "needs_background": "light"
     },
     "output_type": "display_data"
    },
    {
     "name": "stdout",
     "output_type": "stream",
     "text": [
      "Magnesium\n",
      "Skew : 1.1\n"
     ]
    },
    {
     "data": {
      "image/png": "[encoded data removed]",
      "text/plain": [
       "<Figure size 1080x288 with 2 Axes>"
      ]
     },
     "metadata": {
      "needs_background": "light"
     },
     "output_type": "display_data"
    },
    {
     "name": "stdout",
     "output_type": "stream",
     "text": [
      "Total_Phenols\n",
      "Skew : 0.09\n"
     ]
    },
    {
     "data": {
      "image/png": "[encoded data removed]",
      "text/plain": [
       "<Figure size 1080x288 with 2 Axes>"
      ]
     },
     "metadata": {
      "needs_background": "light"
     },
     "output_type": "display_data"
    },
    {
     "name": "stdout",
     "output_type": "stream",
     "text": [
      "Flavanoids\n",
      "Skew : 0.03\n"
     ]
    },
    {
     "data": {
      "image/png": "[encoded data removed]",
      "text/plain": [
       "<Figure size 1080x288 with 2 Axes>"
      ]
     },
     "metadata": {
      "needs_background": "light"
     },
     "output_type": "display_data"
    },
    {
     "name": "stdout",
     "output_type": "stream",
     "text": [
      "Nonflavanoid_Phenols\n",
      "Skew : 0.45\n"
     ]
    },
    {
     "data": {
      "image/png": "[encoded data removed]",
      "text/plain": [
       "<Figure size 1080x288 with 2 Axes>"
      ]
     },
     "metadata": {
      "needs_background": "light"
     },
     "output_type": "display_data"
    },
    {
     "name": "stdout",
     "output_type": "stream",
     "text": [
      "Proanthocyanins\n",
      "Skew : 0.52\n"
     ]
    },
    {
     "data": {
      "image/png": "[encoded data removed]",
      "text/plain": [
       "<Figure size 1080x288 with 2 Axes>"
      ]
     },
     "metadata": {
      "needs_background": "light"
     },
     "output_type": "display_data"
    },
    {
     "name": "stdout",
     "output_type": "stream",
     "text": [
      "Color_Intensity\n",
      "Skew : 0.87\n"
     ]
    },
    {
     "data": {
      "image/png": "[encoded data removed]",
      "text/plain": [
       "<Figure size 1080x288 with 2 Axes>"
      ]
     },
     "metadata": {
      "needs_background": "light"
     },
     "output_type": "display_data"
    },
    {
     "name": "stdout",
     "output_type": "stream",
     "text": [
      "Hue\n",
      "Skew : 0.02\n"
     ]
    },
    {
     "data": {
      "image/png": "[encoded data removed]",
      "text/plain": [
       "<Figure size 1080x288 with 2 Axes>"
      ]
     },
     "metadata": {
      "needs_background": "light"
     },
     "output_type": "display_data"
    },
    {
     "name": "stdout",
     "output_type": "stream",
     "text": [
      "OD280\n",
      "Skew : -0.31\n"
     ]
    },
    {
     "data": {
      "image/png": "[encoded data removed]",
      "text/plain": [
       "<Figure size 1080x288 with 2 Axes>"
      ]
     },
     "metadata": {
      "needs_background": "light"
     },
     "output_type": "display_data"
    },
    {
     "name": "stdout",
     "output_type": "stream",
     "text": [
      "Proline\n",
      "Skew : 0.77\n"
     ]
    },
    {
     "data": {
      "image/png": "[encoded data removed]",
      "text/plain": [
       "<Figure size 1080x288 with 2 Axes>"
      ]
     },
     "metadata": {
      "needs_background": "light"
     },
     "output_type": "display_data"
    }
   ],
   "source": [
    "for col in df.columns:\n",
    "    print(col)\n",
    "    print('Skew :',round(df[col].skew(),2))\n",
    "    plt.figure(figsize=(15,4))\n",
    "    plt.subplot(1,2,1)\n",
    "    df[col].hist(bins=10, grid=False)\n",
    "    plt.ylabel('count')\n",
    "    plt.subplot(1,2,2)\n",
    "    sns.boxplot(x=df[col])\n",
    "    plt.show()"
   ]
  },
  {
   "cell_type": "code",
   "execution_count": 10,
   "id": "748be26e",
   "metadata": {
    "execution": {
     "iopub.execute_input": "2021-09-12T20:19:30.488140Z",
     "iopub.status.busy": "2021-09-12T20:19:30.487486Z",
     "iopub.status.idle": "2021-09-12T20:19:31.570601Z",
     "shell.execute_reply": "2021-09-12T20:19:31.571098Z",
     "shell.execute_reply.started": "2021-09-12T19:35:09.470553Z"
    },
    "papermill": {
     "duration": 1.136589,
     "end_time": "2021-09-12T20:19:31.571266",
     "exception": false,
     "start_time": "2021-09-12T20:19:30.434677",
     "status": "completed"
    },
    "tags": []
   },
   "outputs": [
    {
     "data": {
      "image/png": "[encoded data removed]",
      "text/plain": [
       "<Figure size 720x720 with 2 Axes>"
      ]
     },
     "metadata": {
      "needs_background": "light"
     },
     "output_type": "display_data"
    }
   ],
   "source": [
    "plt.figure(figsize=(10,10))\n",
    "sns.heatmap(df.corr(), annot=True, fmt='0.2f')\n",
    "plt.show()"
   ]
  },
  {
   "cell_type": "markdown",
   "id": "133d77b6",
   "metadata": {
    "papermill": {
     "duration": 0.05399,
     "end_time": "2021-09-12T20:19:31.680286",
     "exception": false,
     "start_time": "2021-09-12T20:19:31.626296",
     "status": "completed"
    },
    "tags": []
   },
   "source": [
    "3) Clustering"
   ]
  },
  {
   "cell_type": "code",
   "execution_count": 11,
   "id": "344a40e0",
   "metadata": {
    "execution": {
     "iopub.execute_input": "2021-09-12T20:19:31.796123Z",
     "iopub.status.busy": "2021-09-12T20:19:31.791607Z",
     "iopub.status.idle": "2021-09-12T20:19:31.801780Z",
     "shell.execute_reply": "2021-09-12T20:19:31.801273Z",
     "shell.execute_reply.started": "2021-09-12T19:35:10.665200Z"
    },
    "papermill": {
     "duration": 0.067484,
     "end_time": "2021-09-12T20:19:31.801918",
     "exception": false,
     "start_time": "2021-09-12T20:19:31.734434",
     "status": "completed"
    },
    "tags": []
   },
   "outputs": [],
   "source": [
    "scaler=StandardScaler()\n",
    "df_scaled=pd.DataFrame(scaler.fit_transform(df), columns=df.columns)"
   ]
  },
  {
   "cell_type": "code",
   "execution_count": 12,
   "id": "218f9572",
   "metadata": {
    "execution": {
     "iopub.execute_input": "2021-09-12T20:19:31.920065Z",
     "iopub.status.busy": "2021-09-12T20:19:31.919396Z",
     "iopub.status.idle": "2021-09-12T20:19:31.935893Z",
     "shell.execute_reply": "2021-09-12T20:19:31.936361Z",
     "shell.execute_reply.started": "2021-09-12T19:35:10.676622Z"
    },
    "papermill": {
     "duration": 0.0793,
     "end_time": "2021-09-12T20:19:31.936534",
     "exception": false,
     "start_time": "2021-09-12T20:19:31.857234",
     "status": "completed"
    },
    "tags": []
   },
   "outputs": [
    {
     "data": {
      "text/html": [
       "<div>\n",
       "<style scoped>\n",
       "    .dataframe tbody tr th:only-of-type {\n",
       "        vertical-align: middle;\n",
       "    }\n",
       "\n",
       "    .dataframe tbody tr th {\n",
       "        vertical-align: top;\n",
       "    }\n",
       "\n",
       "    .dataframe thead th {\n",
       "        text-align: right;\n",
       "    }\n",
       "</style>\n",
       "<table border=\"1\" class=\"dataframe\">\n",
       "  <thead>\n",
       "    <tr style=\"text-align: right;\">\n",
       "      <th></th>\n",
       "      <th>Alcohol</th>\n",
       "      <th>Malic_Acid</th>\n",
       "      <th>Ash</th>\n",
       "      <th>Ash_Alcanity</th>\n",
       "      <th>Magnesium</th>\n",
       "      <th>Total_Phenols</th>\n",
       "      <th>Flavanoids</th>\n",
       "      <th>Nonflavanoid_Phenols</th>\n",
       "      <th>Proanthocyanins</th>\n",
       "      <th>Color_Intensity</th>\n",
       "      <th>Hue</th>\n",
       "      <th>OD280</th>\n",
       "      <th>Proline</th>\n",
       "    </tr>\n",
       "  </thead>\n",
       "  <tbody>\n",
       "    <tr>\n",
       "      <th>0</th>\n",
       "      <td>1.518613</td>\n",
       "      <td>-0.562250</td>\n",
       "      <td>0.232053</td>\n",
       "      <td>-1.169593</td>\n",
       "      <td>1.913905</td>\n",
       "      <td>0.808997</td>\n",
       "      <td>1.034819</td>\n",
       "      <td>-0.659563</td>\n",
       "      <td>1.224884</td>\n",
       "      <td>0.251717</td>\n",
       "      <td>0.362177</td>\n",
       "      <td>1.847920</td>\n",
       "      <td>1.013009</td>\n",
       "    </tr>\n",
       "    <tr>\n",
       "      <th>1</th>\n",
       "      <td>0.246290</td>\n",
       "      <td>-0.499413</td>\n",
       "      <td>-0.827996</td>\n",
       "      <td>-2.490847</td>\n",
       "      <td>0.018145</td>\n",
       "      <td>0.568648</td>\n",
       "      <td>0.733629</td>\n",
       "      <td>-0.820719</td>\n",
       "      <td>-0.544721</td>\n",
       "      <td>-0.293321</td>\n",
       "      <td>0.406051</td>\n",
       "      <td>1.113449</td>\n",
       "      <td>0.965242</td>\n",
       "    </tr>\n",
       "    <tr>\n",
       "      <th>2</th>\n",
       "      <td>0.196879</td>\n",
       "      <td>0.021231</td>\n",
       "      <td>1.109334</td>\n",
       "      <td>-0.268738</td>\n",
       "      <td>0.088358</td>\n",
       "      <td>0.808997</td>\n",
       "      <td>1.215533</td>\n",
       "      <td>-0.498407</td>\n",
       "      <td>2.135968</td>\n",
       "      <td>0.269020</td>\n",
       "      <td>0.318304</td>\n",
       "      <td>0.788587</td>\n",
       "      <td>1.395148</td>\n",
       "    </tr>\n",
       "    <tr>\n",
       "      <th>3</th>\n",
       "      <td>1.691550</td>\n",
       "      <td>-0.346811</td>\n",
       "      <td>0.487926</td>\n",
       "      <td>-0.809251</td>\n",
       "      <td>0.930918</td>\n",
       "      <td>2.491446</td>\n",
       "      <td>1.466525</td>\n",
       "      <td>-0.981875</td>\n",
       "      <td>1.032155</td>\n",
       "      <td>1.186068</td>\n",
       "      <td>-0.427544</td>\n",
       "      <td>1.184071</td>\n",
       "      <td>2.334574</td>\n",
       "    </tr>\n",
       "    <tr>\n",
       "      <th>4</th>\n",
       "      <td>0.295700</td>\n",
       "      <td>0.227694</td>\n",
       "      <td>1.840403</td>\n",
       "      <td>0.451946</td>\n",
       "      <td>1.281985</td>\n",
       "      <td>0.808997</td>\n",
       "      <td>0.663351</td>\n",
       "      <td>0.226796</td>\n",
       "      <td>0.401404</td>\n",
       "      <td>-0.319276</td>\n",
       "      <td>0.362177</td>\n",
       "      <td>0.449601</td>\n",
       "      <td>-0.037874</td>\n",
       "    </tr>\n",
       "  </tbody>\n",
       "</table>\n",
       "</div>"
      ],
      "text/plain": [
       "    Alcohol  Malic_Acid       Ash  Ash_Alcanity  Magnesium  Total_Phenols  \\\n",
       "0  1.518613   -0.562250  0.232053     -1.169593   1.913905       0.808997   \n",
       "1  0.246290   -0.499413 -0.827996     -2.490847   0.018145       0.568648   \n",
       "2  0.196879    0.021231  1.109334     -0.268738   0.088358       0.808997   \n",
       "3  1.691550   -0.346811  0.487926     -0.809251   0.930918       2.491446   \n",
       "4  0.295700    0.227694  1.840403      0.451946   1.281985       0.808997   \n",
       "\n",
       "   Flavanoids  Nonflavanoid_Phenols  Proanthocyanins  Color_Intensity  \\\n",
       "0    1.034819             -0.659563         1.224884         0.251717   \n",
       "1    0.733629             -0.820719        -0.544721        -0.293321   \n",
       "2    1.215533             -0.498407         2.135968         0.269020   \n",
       "3    1.466525             -0.981875         1.032155         1.186068   \n",
       "4    0.663351              0.226796         0.401404        -0.319276   \n",
       "\n",
       "        Hue     OD280   Proline  \n",
       "0  0.362177  1.847920  1.013009  \n",
       "1  0.406051  1.113449  0.965242  \n",
       "2  0.318304  0.788587  1.395148  \n",
       "3 -0.427544  1.184071  2.334574  \n",
       "4  0.362177  0.449601 -0.037874  "
      ]
     },
     "execution_count": 12,
     "metadata": {},
     "output_type": "execute_result"
    }
   ],
   "source": [
    "df_scaled.head()"
   ]
  },
  {
   "cell_type": "code",
   "execution_count": 13,
   "id": "f6b79907",
   "metadata": {
    "execution": {
     "iopub.execute_input": "2021-09-12T20:19:32.049985Z",
     "iopub.status.busy": "2021-09-12T20:19:32.049347Z",
     "iopub.status.idle": "2021-09-12T20:19:32.053015Z",
     "shell.execute_reply": "2021-09-12T20:19:32.053559Z",
     "shell.execute_reply.started": "2021-09-12T19:35:10.700919Z"
    },
    "papermill": {
     "duration": 0.062852,
     "end_time": "2021-09-12T20:19:32.053730",
     "exception": false,
     "start_time": "2021-09-12T20:19:31.990878",
     "status": "completed"
    },
    "tags": []
   },
   "outputs": [],
   "source": [
    "df_scaled_copy = df_scaled.copy(deep=True)"
   ]
  },
  {
   "cell_type": "markdown",
   "id": "fb47c4d4",
   "metadata": {
    "papermill": {
     "duration": 0.055894,
     "end_time": "2021-09-12T20:19:32.163834",
     "exception": false,
     "start_time": "2021-09-12T20:19:32.107940",
     "status": "completed"
    },
    "tags": []
   },
   "source": [
    "3)-1 KMeans"
   ]
  },
  {
   "cell_type": "code",
   "execution_count": 14,
   "id": "0c57fef7",
   "metadata": {
    "execution": {
     "iopub.execute_input": "2021-09-12T20:19:32.282776Z",
     "iopub.status.busy": "2021-09-12T20:19:32.277492Z",
     "iopub.status.idle": "2021-09-12T20:19:32.975466Z",
     "shell.execute_reply": "2021-09-12T20:19:32.975926Z",
     "shell.execute_reply.started": "2021-09-12T19:35:10.712541Z"
    },
    "papermill": {
     "duration": 0.756367,
     "end_time": "2021-09-12T20:19:32.976118",
     "exception": false,
     "start_time": "2021-09-12T20:19:32.219751",
     "status": "completed"
    },
    "tags": []
   },
   "outputs": [
    {
     "data": {
      "image/png": "[encoded data removed]",
      "text/plain": [
       "<Figure size 432x288 with 1 Axes>"
      ]
     },
     "metadata": {
      "needs_background": "light"
     },
     "output_type": "display_data"
    }
   ],
   "source": [
    "sse = {} \n",
    "\n",
    "for k in range(1, 10):\n",
    "    kmeans = KMeans(n_clusters=k, max_iter=1000, random_state=1).fit(df_scaled)\n",
    "    sse[k] = kmeans.inertia_\n",
    "\n",
    "plt.figure()\n",
    "plt.plot(list(sse.keys()), list(sse.values()), 'bx-')\n",
    "plt.xlabel(\"Number of cluster\")\n",
    "plt.ylabel(\"SSE\")\n",
    "plt.show()"
   ]
  },
  {
   "cell_type": "code",
   "execution_count": 15,
   "id": "9375ae4f",
   "metadata": {
    "execution": {
     "iopub.execute_input": "2021-09-12T20:19:33.095456Z",
     "iopub.status.busy": "2021-09-12T20:19:33.094392Z",
     "iopub.status.idle": "2021-09-12T20:19:33.133391Z",
     "shell.execute_reply": "2021-09-12T20:19:33.132664Z",
     "shell.execute_reply.started": "2021-09-12T19:35:11.471299Z"
    },
    "papermill": {
     "duration": 0.102177,
     "end_time": "2021-09-12T20:19:33.133538",
     "exception": false,
     "start_time": "2021-09-12T20:19:33.031361",
     "status": "completed"
    },
    "tags": []
   },
   "outputs": [],
   "source": [
    "kmeans = KMeans(n_clusters=3, max_iter= 1000, random_state=1)\n",
    "kmeans.fit(df_scaled)\n",
    " \n",
    "df_scaled_copy['Labels'] = kmeans.predict(df_scaled)\n",
    "df['Labels'] = kmeans.predict(df_scaled)"
   ]
  },
  {
   "cell_type": "code",
   "execution_count": 16,
   "id": "1de01179",
   "metadata": {
    "execution": {
     "iopub.execute_input": "2021-09-12T20:19:33.252837Z",
     "iopub.status.busy": "2021-09-12T20:19:33.251989Z",
     "iopub.status.idle": "2021-09-12T20:19:33.255851Z",
     "shell.execute_reply": "2021-09-12T20:19:33.255371Z",
     "shell.execute_reply.started": "2021-09-12T19:35:11.523322Z"
    },
    "papermill": {
     "duration": 0.066519,
     "end_time": "2021-09-12T20:19:33.255986",
     "exception": false,
     "start_time": "2021-09-12T20:19:33.189467",
     "status": "completed"
    },
    "tags": []
   },
   "outputs": [
    {
     "data": {
      "text/plain": [
       "2    65\n",
       "1    62\n",
       "0    51\n",
       "Name: Labels, dtype: int64"
      ]
     },
     "execution_count": 16,
     "metadata": {},
     "output_type": "execute_result"
    }
   ],
   "source": [
    "df.Labels.value_counts()"
   ]
  },
  {
   "cell_type": "code",
   "execution_count": 17,
   "id": "a22c4039",
   "metadata": {
    "execution": {
     "iopub.execute_input": "2021-09-12T20:19:33.393317Z",
     "iopub.status.busy": "2021-09-12T20:19:33.377900Z",
     "iopub.status.idle": "2021-09-12T20:19:33.396801Z",
     "shell.execute_reply": "2021-09-12T20:19:33.396318Z",
     "shell.execute_reply.started": "2021-09-12T19:35:11.532494Z"
    },
    "papermill": {
     "duration": 0.085527,
     "end_time": "2021-09-12T20:19:33.396942",
     "exception": false,
     "start_time": "2021-09-12T20:19:33.311415",
     "status": "completed"
    },
    "tags": []
   },
   "outputs": [
    {
     "data": {
      "text/html": [
       "<div>\n",
       "<style scoped>\n",
       "    .dataframe tbody tr th:only-of-type {\n",
       "        vertical-align: middle;\n",
       "    }\n",
       "\n",
       "    .dataframe tbody tr th {\n",
       "        vertical-align: top;\n",
       "    }\n",
       "\n",
       "    .dataframe thead th {\n",
       "        text-align: right;\n",
       "    }\n",
       "</style>\n",
       "<table border=\"1\" class=\"dataframe\">\n",
       "  <thead>\n",
       "    <tr style=\"text-align: right;\">\n",
       "      <th></th>\n",
       "      <th>clus_0 Mean</th>\n",
       "      <th>clus_1 Mean</th>\n",
       "      <th>clus_2 Mean</th>\n",
       "      <th>clus_0 Median</th>\n",
       "      <th>clus_1 Median</th>\n",
       "      <th>clus_2 Median</th>\n",
       "    </tr>\n",
       "  </thead>\n",
       "  <tbody>\n",
       "    <tr>\n",
       "      <th>Alcohol</th>\n",
       "      <td>13.134118</td>\n",
       "      <td>13.676774</td>\n",
       "      <td>12.250923</td>\n",
       "      <td>13.11</td>\n",
       "      <td>13.735</td>\n",
       "      <td>12.25</td>\n",
       "    </tr>\n",
       "    <tr>\n",
       "      <th>Malic_Acid</th>\n",
       "      <td>3.307255</td>\n",
       "      <td>1.997903</td>\n",
       "      <td>1.897385</td>\n",
       "      <td>3.27</td>\n",
       "      <td>1.765</td>\n",
       "      <td>1.61</td>\n",
       "    </tr>\n",
       "    <tr>\n",
       "      <th>Ash</th>\n",
       "      <td>2.417647</td>\n",
       "      <td>2.466290</td>\n",
       "      <td>2.231231</td>\n",
       "      <td>2.38</td>\n",
       "      <td>2.445</td>\n",
       "      <td>2.24</td>\n",
       "    </tr>\n",
       "    <tr>\n",
       "      <th>Ash_Alcanity</th>\n",
       "      <td>21.241176</td>\n",
       "      <td>17.462903</td>\n",
       "      <td>20.063077</td>\n",
       "      <td>21.00</td>\n",
       "      <td>17.000</td>\n",
       "      <td>20.00</td>\n",
       "    </tr>\n",
       "    <tr>\n",
       "      <th>Magnesium</th>\n",
       "      <td>98.666667</td>\n",
       "      <td>107.967742</td>\n",
       "      <td>92.738462</td>\n",
       "      <td>97.00</td>\n",
       "      <td>105.500</td>\n",
       "      <td>88.00</td>\n",
       "    </tr>\n",
       "    <tr>\n",
       "      <th>Total_Phenols</th>\n",
       "      <td>1.683922</td>\n",
       "      <td>2.847581</td>\n",
       "      <td>2.247692</td>\n",
       "      <td>1.65</td>\n",
       "      <td>2.825</td>\n",
       "      <td>2.20</td>\n",
       "    </tr>\n",
       "    <tr>\n",
       "      <th>Flavanoids</th>\n",
       "      <td>0.818824</td>\n",
       "      <td>3.003226</td>\n",
       "      <td>2.050000</td>\n",
       "      <td>0.70</td>\n",
       "      <td>2.975</td>\n",
       "      <td>2.03</td>\n",
       "    </tr>\n",
       "    <tr>\n",
       "      <th>Nonflavanoid_Phenols</th>\n",
       "      <td>0.451961</td>\n",
       "      <td>0.292097</td>\n",
       "      <td>0.357692</td>\n",
       "      <td>0.47</td>\n",
       "      <td>0.290</td>\n",
       "      <td>0.35</td>\n",
       "    </tr>\n",
       "    <tr>\n",
       "      <th>Proanthocyanins</th>\n",
       "      <td>1.145882</td>\n",
       "      <td>1.922097</td>\n",
       "      <td>1.624154</td>\n",
       "      <td>1.10</td>\n",
       "      <td>1.895</td>\n",
       "      <td>1.56</td>\n",
       "    </tr>\n",
       "    <tr>\n",
       "      <th>Color_Intensity</th>\n",
       "      <td>7.234706</td>\n",
       "      <td>5.453548</td>\n",
       "      <td>2.973077</td>\n",
       "      <td>7.30</td>\n",
       "      <td>5.400</td>\n",
       "      <td>2.90</td>\n",
       "    </tr>\n",
       "    <tr>\n",
       "      <th>Hue</th>\n",
       "      <td>0.691961</td>\n",
       "      <td>1.065484</td>\n",
       "      <td>1.062708</td>\n",
       "      <td>0.67</td>\n",
       "      <td>1.070</td>\n",
       "      <td>1.04</td>\n",
       "    </tr>\n",
       "    <tr>\n",
       "      <th>OD280</th>\n",
       "      <td>1.696667</td>\n",
       "      <td>3.163387</td>\n",
       "      <td>2.803385</td>\n",
       "      <td>1.68</td>\n",
       "      <td>3.170</td>\n",
       "      <td>2.84</td>\n",
       "    </tr>\n",
       "    <tr>\n",
       "      <th>Proline</th>\n",
       "      <td>619.058824</td>\n",
       "      <td>1100.225806</td>\n",
       "      <td>510.169231</td>\n",
       "      <td>620.00</td>\n",
       "      <td>1072.500</td>\n",
       "      <td>495.00</td>\n",
       "    </tr>\n",
       "  </tbody>\n",
       "</table>\n",
       "</div>"
      ],
      "text/plain": [
       "                      clus_0 Mean  clus_1 Mean  clus_2 Mean  clus_0 Median  \\\n",
       "Alcohol                 13.134118    13.676774    12.250923          13.11   \n",
       "Malic_Acid               3.307255     1.997903     1.897385           3.27   \n",
       "Ash                      2.417647     2.466290     2.231231           2.38   \n",
       "Ash_Alcanity            21.241176    17.462903    20.063077          21.00   \n",
       "Magnesium               98.666667   107.967742    92.738462          97.00   \n",
       "Total_Phenols            1.683922     2.847581     2.247692           1.65   \n",
       "Flavanoids               0.818824     3.003226     2.050000           0.70   \n",
       "Nonflavanoid_Phenols     0.451961     0.292097     0.357692           0.47   \n",
       "Proanthocyanins          1.145882     1.922097     1.624154           1.10   \n",
       "Color_Intensity          7.234706     5.453548     2.973077           7.30   \n",
       "Hue                      0.691961     1.065484     1.062708           0.67   \n",
       "OD280                    1.696667     3.163387     2.803385           1.68   \n",
       "Proline                619.058824  1100.225806   510.169231         620.00   \n",
       "\n",
       "                      clus_1 Median  clus_2 Median  \n",
       "Alcohol                      13.735          12.25  \n",
       "Malic_Acid                    1.765           1.61  \n",
       "Ash                           2.445           2.24  \n",
       "Ash_Alcanity                 17.000          20.00  \n",
       "Magnesium                   105.500          88.00  \n",
       "Total_Phenols                 2.825           2.20  \n",
       "Flavanoids                    2.975           2.03  \n",
       "Nonflavanoid_Phenols          0.290           0.35  \n",
       "Proanthocyanins               1.895           1.56  \n",
       "Color_Intensity               5.400           2.90  \n",
       "Hue                           1.070           1.04  \n",
       "OD280                         3.170           2.84  \n",
       "Proline                    1072.500         495.00  "
      ]
     },
     "execution_count": 17,
     "metadata": {},
     "output_type": "execute_result"
    }
   ],
   "source": [
    "mean = df.groupby('Labels').mean()\n",
    "median = df.groupby('Labels').median()\n",
    "df_kmeans = pd.concat([mean, median], axis=0)\n",
    "df_kmeans.index = ['clus_0 Mean', 'clus_1 Mean', 'clus_2 Mean', 'clus_0 Median', 'clus_1 Median', 'clus_2 Median']\n",
    "df_kmeans.T"
   ]
  },
  {
   "cell_type": "code",
   "execution_count": 18,
   "id": "ac26beb3",
   "metadata": {
    "execution": {
     "iopub.execute_input": "2021-09-12T20:19:33.603936Z",
     "iopub.status.busy": "2021-09-12T20:19:33.557744Z",
     "iopub.status.idle": "2021-09-12T20:19:37.379535Z",
     "shell.execute_reply": "2021-09-12T20:19:37.379004Z",
     "shell.execute_reply.started": "2021-09-12T19:35:11.567832Z"
    },
    "papermill": {
     "duration": 3.925645,
     "end_time": "2021-09-12T20:19:37.379685",
     "exception": false,
     "start_time": "2021-09-12T20:19:33.454040",
     "status": "completed"
    },
    "tags": []
   },
   "outputs": [
    {
     "data": {
      "image/png": "[encoded data removed]",
      "text/plain": [
       "<Figure size 1440x504 with 15 Axes>"
      ]
     },
     "metadata": {
      "needs_background": "light"
     },
     "output_type": "display_data"
    }
   ],
   "source": [
    "df_scaled_copy.boxplot(by = 'Labels', layout = (3,5),figsize=(20,7))\n",
    "plt.show()"
   ]
  },
  {
   "cell_type": "markdown",
   "id": "74c8ca89",
   "metadata": {
    "papermill": {
     "duration": 0.057067,
     "end_time": "2021-09-12T20:19:37.494412",
     "exception": false,
     "start_time": "2021-09-12T20:19:37.437345",
     "status": "completed"
    },
    "tags": []
   },
   "source": [
    "3)-2 GaussianMixture"
   ]
  },
  {
   "cell_type": "code",
   "execution_count": 19,
   "id": "1e5f88d4",
   "metadata": {
    "execution": {
     "iopub.execute_input": "2021-09-12T20:19:37.612370Z",
     "iopub.status.busy": "2021-09-12T20:19:37.611711Z",
     "iopub.status.idle": "2021-09-12T20:19:37.635719Z",
     "shell.execute_reply": "2021-09-12T20:19:37.636613Z",
     "shell.execute_reply.started": "2021-09-12T19:35:15.939702Z"
    },
    "papermill": {
     "duration": 0.085389,
     "end_time": "2021-09-12T20:19:37.636891",
     "exception": false,
     "start_time": "2021-09-12T20:19:37.551502",
     "status": "completed"
    },
    "tags": []
   },
   "outputs": [],
   "source": [
    "gmm = GaussianMixture(n_components = 3, random_state = 1)\n",
    "gmm.fit(df_scaled)\n",
    "\n",
    "df_scaled_copy['GmmLabels'] = gmm.predict(df_scaled)\n",
    "df['GmmLabels'] = gmm.predict(df_scaled)"
   ]
  },
  {
   "cell_type": "code",
   "execution_count": 20,
   "id": "2c3e10ed",
   "metadata": {
    "execution": {
     "iopub.execute_input": "2021-09-12T20:19:37.806408Z",
     "iopub.status.busy": "2021-09-12T20:19:37.802602Z",
     "iopub.status.idle": "2021-09-12T20:19:37.809102Z",
     "shell.execute_reply": "2021-09-12T20:19:37.809592Z",
     "shell.execute_reply.started": "2021-09-12T19:35:15.972939Z"
    },
    "papermill": {
     "duration": 0.069502,
     "end_time": "2021-09-12T20:19:37.809754",
     "exception": false,
     "start_time": "2021-09-12T20:19:37.740252",
     "status": "completed"
    },
    "tags": []
   },
   "outputs": [
    {
     "data": {
      "text/plain": [
       "2    64\n",
       "1    63\n",
       "0    51\n",
       "Name: GmmLabels, dtype: int64"
      ]
     },
     "execution_count": 20,
     "metadata": {},
     "output_type": "execute_result"
    }
   ],
   "source": [
    "df.GmmLabels.value_counts()"
   ]
  },
  {
   "cell_type": "code",
   "execution_count": 21,
   "id": "d86b0a8e",
   "metadata": {
    "execution": {
     "iopub.execute_input": "2021-09-12T20:19:37.953400Z",
     "iopub.status.busy": "2021-09-12T20:19:37.937914Z",
     "iopub.status.idle": "2021-09-12T20:19:37.957548Z",
     "shell.execute_reply": "2021-09-12T20:19:37.957010Z",
     "shell.execute_reply.started": "2021-09-12T19:35:15.986553Z"
    },
    "papermill": {
     "duration": 0.088273,
     "end_time": "2021-09-12T20:19:37.957682",
     "exception": false,
     "start_time": "2021-09-12T20:19:37.869409",
     "status": "completed"
    },
    "tags": []
   },
   "outputs": [
    {
     "data": {
      "text/html": [
       "<div>\n",
       "<style scoped>\n",
       "    .dataframe tbody tr th:only-of-type {\n",
       "        vertical-align: middle;\n",
       "    }\n",
       "\n",
       "    .dataframe tbody tr th {\n",
       "        vertical-align: top;\n",
       "    }\n",
       "\n",
       "    .dataframe thead th {\n",
       "        text-align: right;\n",
       "    }\n",
       "</style>\n",
       "<table border=\"1\" class=\"dataframe\">\n",
       "  <thead>\n",
       "    <tr style=\"text-align: right;\">\n",
       "      <th></th>\n",
       "      <th>clus_0 Mean</th>\n",
       "      <th>clus_1 Mean</th>\n",
       "      <th>clus_2 Mean</th>\n",
       "      <th>clus_0 Median</th>\n",
       "      <th>clus_1 Median</th>\n",
       "      <th>clus_2 Median</th>\n",
       "    </tr>\n",
       "  </thead>\n",
       "  <tbody>\n",
       "    <tr>\n",
       "      <th>Alcohol</th>\n",
       "      <td>13.134118</td>\n",
       "      <td>13.665714</td>\n",
       "      <td>12.239531</td>\n",
       "      <td>13.11</td>\n",
       "      <td>13.73</td>\n",
       "      <td>12.235</td>\n",
       "    </tr>\n",
       "    <tr>\n",
       "      <th>Malic_Acid</th>\n",
       "      <td>3.307255</td>\n",
       "      <td>1.968254</td>\n",
       "      <td>1.925000</td>\n",
       "      <td>3.27</td>\n",
       "      <td>1.75</td>\n",
       "      <td>1.620</td>\n",
       "    </tr>\n",
       "    <tr>\n",
       "      <th>Ash</th>\n",
       "      <td>2.417647</td>\n",
       "      <td>2.434603</td>\n",
       "      <td>2.258750</td>\n",
       "      <td>2.38</td>\n",
       "      <td>2.43</td>\n",
       "      <td>2.265</td>\n",
       "    </tr>\n",
       "    <tr>\n",
       "      <th>Ash_Alcanity</th>\n",
       "      <td>21.241176</td>\n",
       "      <td>17.234921</td>\n",
       "      <td>20.328125</td>\n",
       "      <td>21.00</td>\n",
       "      <td>16.80</td>\n",
       "      <td>20.200</td>\n",
       "    </tr>\n",
       "    <tr>\n",
       "      <th>Magnesium</th>\n",
       "      <td>98.666667</td>\n",
       "      <td>108.920635</td>\n",
       "      <td>91.562500</td>\n",
       "      <td>97.00</td>\n",
       "      <td>106.00</td>\n",
       "      <td>88.000</td>\n",
       "    </tr>\n",
       "    <tr>\n",
       "      <th>Total_Phenols</th>\n",
       "      <td>1.683922</td>\n",
       "      <td>2.811429</td>\n",
       "      <td>2.273906</td>\n",
       "      <td>1.65</td>\n",
       "      <td>2.80</td>\n",
       "      <td>2.200</td>\n",
       "    </tr>\n",
       "    <tr>\n",
       "      <th>Flavanoids</th>\n",
       "      <td>0.818824</td>\n",
       "      <td>2.924603</td>\n",
       "      <td>2.112500</td>\n",
       "      <td>0.70</td>\n",
       "      <td>2.94</td>\n",
       "      <td>2.035</td>\n",
       "    </tr>\n",
       "    <tr>\n",
       "      <th>Nonflavanoid_Phenols</th>\n",
       "      <td>0.451961</td>\n",
       "      <td>0.287778</td>\n",
       "      <td>0.362969</td>\n",
       "      <td>0.47</td>\n",
       "      <td>0.29</td>\n",
       "      <td>0.370</td>\n",
       "    </tr>\n",
       "    <tr>\n",
       "      <th>Proanthocyanins</th>\n",
       "      <td>1.145882</td>\n",
       "      <td>1.945397</td>\n",
       "      <td>1.596563</td>\n",
       "      <td>1.10</td>\n",
       "      <td>1.95</td>\n",
       "      <td>1.560</td>\n",
       "    </tr>\n",
       "    <tr>\n",
       "      <th>Color_Intensity</th>\n",
       "      <td>7.234706</td>\n",
       "      <td>5.370952</td>\n",
       "      <td>3.015625</td>\n",
       "      <td>7.30</td>\n",
       "      <td>5.25</td>\n",
       "      <td>2.900</td>\n",
       "    </tr>\n",
       "    <tr>\n",
       "      <th>Hue</th>\n",
       "      <td>0.691961</td>\n",
       "      <td>1.070952</td>\n",
       "      <td>1.057281</td>\n",
       "      <td>0.67</td>\n",
       "      <td>1.07</td>\n",
       "      <td>1.040</td>\n",
       "    </tr>\n",
       "    <tr>\n",
       "      <th>OD280</th>\n",
       "      <td>1.696667</td>\n",
       "      <td>3.140000</td>\n",
       "      <td>2.820781</td>\n",
       "      <td>1.68</td>\n",
       "      <td>3.10</td>\n",
       "      <td>2.855</td>\n",
       "    </tr>\n",
       "    <tr>\n",
       "      <th>Proline</th>\n",
       "      <td>619.058824</td>\n",
       "      <td>1098.682540</td>\n",
       "      <td>502.468750</td>\n",
       "      <td>620.00</td>\n",
       "      <td>1065.00</td>\n",
       "      <td>484.000</td>\n",
       "    </tr>\n",
       "    <tr>\n",
       "      <th>Labels</th>\n",
       "      <td>0.000000</td>\n",
       "      <td>1.031746</td>\n",
       "      <td>1.984375</td>\n",
       "      <td>0.00</td>\n",
       "      <td>1.00</td>\n",
       "      <td>2.000</td>\n",
       "    </tr>\n",
       "  </tbody>\n",
       "</table>\n",
       "</div>"
      ],
      "text/plain": [
       "                      clus_0 Mean  clus_1 Mean  clus_2 Mean  clus_0 Median  \\\n",
       "Alcohol                 13.134118    13.665714    12.239531          13.11   \n",
       "Malic_Acid               3.307255     1.968254     1.925000           3.27   \n",
       "Ash                      2.417647     2.434603     2.258750           2.38   \n",
       "Ash_Alcanity            21.241176    17.234921    20.328125          21.00   \n",
       "Magnesium               98.666667   108.920635    91.562500          97.00   \n",
       "Total_Phenols            1.683922     2.811429     2.273906           1.65   \n",
       "Flavanoids               0.818824     2.924603     2.112500           0.70   \n",
       "Nonflavanoid_Phenols     0.451961     0.287778     0.362969           0.47   \n",
       "Proanthocyanins          1.145882     1.945397     1.596563           1.10   \n",
       "Color_Intensity          7.234706     5.370952     3.015625           7.30   \n",
       "Hue                      0.691961     1.070952     1.057281           0.67   \n",
       "OD280                    1.696667     3.140000     2.820781           1.68   \n",
       "Proline                619.058824  1098.682540   502.468750         620.00   \n",
       "Labels                   0.000000     1.031746     1.984375           0.00   \n",
       "\n",
       "                      clus_1 Median  clus_2 Median  \n",
       "Alcohol                       13.73         12.235  \n",
       "Malic_Acid                     1.75          1.620  \n",
       "Ash                            2.43          2.265  \n",
       "Ash_Alcanity                  16.80         20.200  \n",
       "Magnesium                    106.00         88.000  \n",
       "Total_Phenols                  2.80          2.200  \n",
       "Flavanoids                     2.94          2.035  \n",
       "Nonflavanoid_Phenols           0.29          0.370  \n",
       "Proanthocyanins                1.95          1.560  \n",
       "Color_Intensity                5.25          2.900  \n",
       "Hue                            1.07          1.040  \n",
       "OD280                          3.10          2.855  \n",
       "Proline                     1065.00        484.000  \n",
       "Labels                         1.00          2.000  "
      ]
     },
     "execution_count": 21,
     "metadata": {},
     "output_type": "execute_result"
    }
   ],
   "source": [
    "original_features = ['Alcohol', 'Malic_Acid', 'Ash', 'Ash_Alcanity', 'Magnesium',\n",
    "       'Total_Phenols', 'Flavanoids', 'Nonflavanoid_Phenols',\n",
    "       'Proanthocyanins', 'Color_Intensity', 'Hue', 'OD280', 'Proline',\n",
    "       'Labels']\n",
    "\n",
    "mean = df.groupby('GmmLabels').mean()\n",
    "median = df.groupby('GmmLabels').median()\n",
    "df_gmm = pd.concat([mean, median], axis=0)\n",
    "df_gmm.index = ['clus_0 Mean', 'clus_1 Mean', 'clus_2 Mean', 'clus_0 Median', 'clus_1 Median', 'clus_2 Median']\n",
    "df_gmm[original_features].T"
   ]
  },
  {
   "cell_type": "code",
   "execution_count": 22,
   "id": "857ee7e9",
   "metadata": {
    "execution": {
     "iopub.execute_input": "2021-09-12T20:19:38.079987Z",
     "iopub.status.busy": "2021-09-12T20:19:38.078977Z",
     "iopub.status.idle": "2021-09-12T20:19:42.322651Z",
     "shell.execute_reply": "2021-09-12T20:19:42.322043Z",
     "shell.execute_reply.started": "2021-09-12T19:35:16.042972Z"
    },
    "papermill": {
     "duration": 4.306302,
     "end_time": "2021-09-12T20:19:42.322795",
     "exception": false,
     "start_time": "2021-09-12T20:19:38.016493",
     "status": "completed"
    },
    "tags": []
   },
   "outputs": [
    {
     "data": {
      "image/png": "[encoded data removed]",
      "text/plain": [
       "<Figure size 1440x504 with 15 Axes>"
      ]
     },
     "metadata": {
      "needs_background": "light"
     },
     "output_type": "display_data"
    }
   ],
   "source": [
    "features_with_lables = ['Alcohol', 'Malic_Acid', 'Ash', 'Ash_Alcanity', 'Magnesium',\n",
    "       'Total_Phenols', 'Flavanoids', 'Nonflavanoid_Phenols',\n",
    "       'Proanthocyanins', 'Color_Intensity', 'Hue', 'OD280', 'Proline',\n",
    "       'Labels', 'GmmLabels']\n",
    "\n",
    "df_scaled_copy[features_with_lables].boxplot(by = 'GmmLabels', layout = (3,5),figsize=(20,7))\n",
    "plt.show()"
   ]
  },
  {
   "cell_type": "markdown",
   "id": "ab1aa7a1",
   "metadata": {
    "papermill": {
     "duration": 0.060779,
     "end_time": "2021-09-12T20:19:42.444084",
     "exception": false,
     "start_time": "2021-09-12T20:19:42.383305",
     "status": "completed"
    },
    "tags": []
   },
   "source": [
    "3)-3 KMedois"
   ]
  },
  {
   "cell_type": "code",
   "execution_count": 23,
   "id": "3c71dace",
   "metadata": {
    "execution": {
     "iopub.execute_input": "2021-09-12T20:19:42.580151Z",
     "iopub.status.busy": "2021-09-12T20:19:42.579053Z",
     "iopub.status.idle": "2021-09-12T20:19:42.815481Z",
     "shell.execute_reply": "2021-09-12T20:19:42.816152Z",
     "shell.execute_reply.started": "2021-09-12T19:57:23.451619Z"
    },
    "papermill": {
     "duration": 0.311071,
     "end_time": "2021-09-12T20:19:42.816378",
     "exception": false,
     "start_time": "2021-09-12T20:19:42.505307",
     "status": "completed"
    },
    "tags": []
   },
   "outputs": [
    {
     "data": {
      "image/png": "[encoded data removed]",
      "text/plain": [
       "<Figure size 432x288 with 1 Axes>"
      ]
     },
     "metadata": {
      "needs_background": "light"
     },
     "output_type": "display_data"
    }
   ],
   "source": [
    "sse = {} \n",
    "\n",
    "for k in range(1, 10):\n",
    "    kmedo = KMedoids(n_clusters=k, max_iter=1000, random_state=1).fit(df_scaled)\n",
    "    sse[k] = kmedo.inertia_\n",
    "\n",
    "plt.figure()\n",
    "plt.plot(list(sse.keys()), list(sse.values()), 'bx-')\n",
    "plt.xlabel(\"Number of cluster\")\n",
    "plt.ylabel(\"SSE\")\n",
    "plt.show()"
   ]
  },
  {
   "cell_type": "code",
   "execution_count": 24,
   "id": "14762176",
   "metadata": {
    "execution": {
     "iopub.execute_input": "2021-09-12T20:19:42.952494Z",
     "iopub.status.busy": "2021-09-12T20:19:42.951404Z",
     "iopub.status.idle": "2021-09-12T20:19:42.966175Z",
     "shell.execute_reply": "2021-09-12T20:19:42.967200Z",
     "shell.execute_reply.started": "2021-09-12T19:35:20.726252Z"
    },
    "papermill": {
     "duration": 0.088428,
     "end_time": "2021-09-12T20:19:42.967549",
     "exception": false,
     "start_time": "2021-09-12T20:19:42.879121",
     "status": "completed"
    },
    "tags": []
   },
   "outputs": [],
   "source": [
    "kmedo = KMedoids(n_clusters = 3, random_state=1)\n",
    "kmedo.fit(df_scaled)\n",
    "\n",
    "df_scaled_copy['kmedoLabels'] = kmedo.predict(df_scaled)\n",
    "df['kmedoLabels'] = kmedo.predict(df_scaled)"
   ]
  },
  {
   "cell_type": "code",
   "execution_count": 25,
   "id": "0f7bf328",
   "metadata": {
    "execution": {
     "iopub.execute_input": "2021-09-12T20:19:43.143713Z",
     "iopub.status.busy": "2021-09-12T20:19:43.142882Z",
     "iopub.status.idle": "2021-09-12T20:19:43.146525Z",
     "shell.execute_reply": "2021-09-12T20:19:43.145959Z",
     "shell.execute_reply.started": "2021-09-12T19:35:20.751335Z"
    },
    "papermill": {
     "duration": 0.07214,
     "end_time": "2021-09-12T20:19:43.146664",
     "exception": false,
     "start_time": "2021-09-12T20:19:43.074524",
     "status": "completed"
    },
    "tags": []
   },
   "outputs": [
    {
     "data": {
      "text/plain": [
       "2    73\n",
       "1    54\n",
       "0    51\n",
       "Name: kmedoLabels, dtype: int64"
      ]
     },
     "execution_count": 25,
     "metadata": {},
     "output_type": "execute_result"
    }
   ],
   "source": [
    "df.kmedoLabels.value_counts()"
   ]
  },
  {
   "cell_type": "code",
   "execution_count": 26,
   "id": "8b403ec4",
   "metadata": {
    "execution": {
     "iopub.execute_input": "2021-09-12T20:19:43.272759Z",
     "iopub.status.busy": "2021-09-12T20:19:43.272073Z",
     "iopub.status.idle": "2021-09-12T20:19:43.297222Z",
     "shell.execute_reply": "2021-09-12T20:19:43.296594Z",
     "shell.execute_reply.started": "2021-09-12T19:35:20.764963Z"
    },
    "papermill": {
     "duration": 0.089008,
     "end_time": "2021-09-12T20:19:43.297382",
     "exception": false,
     "start_time": "2021-09-12T20:19:43.208374",
     "status": "completed"
    },
    "tags": []
   },
   "outputs": [
    {
     "data": {
      "text/html": [
       "<div>\n",
       "<style scoped>\n",
       "    .dataframe tbody tr th:only-of-type {\n",
       "        vertical-align: middle;\n",
       "    }\n",
       "\n",
       "    .dataframe tbody tr th {\n",
       "        vertical-align: top;\n",
       "    }\n",
       "\n",
       "    .dataframe thead th {\n",
       "        text-align: right;\n",
       "    }\n",
       "</style>\n",
       "<table border=\"1\" class=\"dataframe\">\n",
       "  <thead>\n",
       "    <tr style=\"text-align: right;\">\n",
       "      <th></th>\n",
       "      <th>clus_0 Mean</th>\n",
       "      <th>clus_1 Mean</th>\n",
       "      <th>clus_2 Mean</th>\n",
       "      <th>clus_0 Median</th>\n",
       "      <th>clus_1 Median</th>\n",
       "      <th>clus_2 Median</th>\n",
       "    </tr>\n",
       "  </thead>\n",
       "  <tbody>\n",
       "    <tr>\n",
       "      <th>Alcohol</th>\n",
       "      <td>13.110980</td>\n",
       "      <td>12.282593</td>\n",
       "      <td>13.454658</td>\n",
       "      <td>13.11</td>\n",
       "      <td>12.290</td>\n",
       "      <td>13.64</td>\n",
       "    </tr>\n",
       "    <tr>\n",
       "      <th>Malic_Acid</th>\n",
       "      <td>3.341765</td>\n",
       "      <td>1.827778</td>\n",
       "      <td>2.010137</td>\n",
       "      <td>3.27</td>\n",
       "      <td>1.610</td>\n",
       "      <td>1.75</td>\n",
       "    </tr>\n",
       "    <tr>\n",
       "      <th>Ash</th>\n",
       "      <td>2.446471</td>\n",
       "      <td>2.190556</td>\n",
       "      <td>2.440822</td>\n",
       "      <td>2.38</td>\n",
       "      <td>2.215</td>\n",
       "      <td>2.42</td>\n",
       "    </tr>\n",
       "    <tr>\n",
       "      <th>Ash_Alcanity</th>\n",
       "      <td>21.539216</td>\n",
       "      <td>19.759259</td>\n",
       "      <td>17.871233</td>\n",
       "      <td>21.50</td>\n",
       "      <td>19.550</td>\n",
       "      <td>17.20</td>\n",
       "    </tr>\n",
       "    <tr>\n",
       "      <th>Magnesium</th>\n",
       "      <td>99.764706</td>\n",
       "      <td>90.388889</td>\n",
       "      <td>106.643836</td>\n",
       "      <td>97.00</td>\n",
       "      <td>88.000</td>\n",
       "      <td>103.00</td>\n",
       "    </tr>\n",
       "    <tr>\n",
       "      <th>Total_Phenols</th>\n",
       "      <td>1.686863</td>\n",
       "      <td>2.107778</td>\n",
       "      <td>2.858630</td>\n",
       "      <td>1.65</td>\n",
       "      <td>2.100</td>\n",
       "      <td>2.85</td>\n",
       "    </tr>\n",
       "    <tr>\n",
       "      <th>Flavanoids</th>\n",
       "      <td>0.827843</td>\n",
       "      <td>1.910000</td>\n",
       "      <td>2.956849</td>\n",
       "      <td>0.70</td>\n",
       "      <td>1.885</td>\n",
       "      <td>2.92</td>\n",
       "    </tr>\n",
       "    <tr>\n",
       "      <th>Nonflavanoid_Phenols</th>\n",
       "      <td>0.444314</td>\n",
       "      <td>0.386481</td>\n",
       "      <td>0.286027</td>\n",
       "      <td>0.47</td>\n",
       "      <td>0.370</td>\n",
       "      <td>0.28</td>\n",
       "    </tr>\n",
       "    <tr>\n",
       "      <th>Proanthocyanins</th>\n",
       "      <td>1.181569</td>\n",
       "      <td>1.464259</td>\n",
       "      <td>1.970548</td>\n",
       "      <td>1.14</td>\n",
       "      <td>1.435</td>\n",
       "      <td>1.95</td>\n",
       "    </tr>\n",
       "    <tr>\n",
       "      <th>Color_Intensity</th>\n",
       "      <td>7.145098</td>\n",
       "      <td>2.975185</td>\n",
       "      <td>5.140822</td>\n",
       "      <td>7.30</td>\n",
       "      <td>2.900</td>\n",
       "      <td>5.10</td>\n",
       "    </tr>\n",
       "    <tr>\n",
       "      <th>Hue</th>\n",
       "      <td>0.695686</td>\n",
       "      <td>1.062148</td>\n",
       "      <td>1.062877</td>\n",
       "      <td>0.67</td>\n",
       "      <td>1.045</td>\n",
       "      <td>1.07</td>\n",
       "    </tr>\n",
       "    <tr>\n",
       "      <th>OD280</th>\n",
       "      <td>1.729412</td>\n",
       "      <td>2.722593</td>\n",
       "      <td>3.146027</td>\n",
       "      <td>1.68</td>\n",
       "      <td>2.780</td>\n",
       "      <td>3.13</td>\n",
       "    </tr>\n",
       "    <tr>\n",
       "      <th>Proline</th>\n",
       "      <td>622.352941</td>\n",
       "      <td>490.944444</td>\n",
       "      <td>1023.232877</td>\n",
       "      <td>625.00</td>\n",
       "      <td>476.000</td>\n",
       "      <td>1045.00</td>\n",
       "    </tr>\n",
       "    <tr>\n",
       "      <th>Labels</th>\n",
       "      <td>0.078431</td>\n",
       "      <td>1.925926</td>\n",
       "      <td>1.150685</td>\n",
       "      <td>0.00</td>\n",
       "      <td>2.000</td>\n",
       "      <td>1.00</td>\n",
       "    </tr>\n",
       "  </tbody>\n",
       "</table>\n",
       "</div>"
      ],
      "text/plain": [
       "                      clus_0 Mean  clus_1 Mean  clus_2 Mean  clus_0 Median  \\\n",
       "Alcohol                 13.110980    12.282593    13.454658          13.11   \n",
       "Malic_Acid               3.341765     1.827778     2.010137           3.27   \n",
       "Ash                      2.446471     2.190556     2.440822           2.38   \n",
       "Ash_Alcanity            21.539216    19.759259    17.871233          21.50   \n",
       "Magnesium               99.764706    90.388889   106.643836          97.00   \n",
       "Total_Phenols            1.686863     2.107778     2.858630           1.65   \n",
       "Flavanoids               0.827843     1.910000     2.956849           0.70   \n",
       "Nonflavanoid_Phenols     0.444314     0.386481     0.286027           0.47   \n",
       "Proanthocyanins          1.181569     1.464259     1.970548           1.14   \n",
       "Color_Intensity          7.145098     2.975185     5.140822           7.30   \n",
       "Hue                      0.695686     1.062148     1.062877           0.67   \n",
       "OD280                    1.729412     2.722593     3.146027           1.68   \n",
       "Proline                622.352941   490.944444  1023.232877         625.00   \n",
       "Labels                   0.078431     1.925926     1.150685           0.00   \n",
       "\n",
       "                      clus_1 Median  clus_2 Median  \n",
       "Alcohol                      12.290          13.64  \n",
       "Malic_Acid                    1.610           1.75  \n",
       "Ash                           2.215           2.42  \n",
       "Ash_Alcanity                 19.550          17.20  \n",
       "Magnesium                    88.000         103.00  \n",
       "Total_Phenols                 2.100           2.85  \n",
       "Flavanoids                    1.885           2.92  \n",
       "Nonflavanoid_Phenols          0.370           0.28  \n",
       "Proanthocyanins               1.435           1.95  \n",
       "Color_Intensity               2.900           5.10  \n",
       "Hue                           1.045           1.07  \n",
       "OD280                         2.780           3.13  \n",
       "Proline                     476.000        1045.00  \n",
       "Labels                        2.000           1.00  "
      ]
     },
     "execution_count": 26,
     "metadata": {},
     "output_type": "execute_result"
    }
   ],
   "source": [
    "mean = df.groupby('kmedoLabels').mean()\n",
    "median = df.groupby('kmedoLabels').median()\n",
    "df_kmedoids = pd.concat([mean, median], axis=0)\n",
    "df_kmedoids.index = ['clus_0 Mean', 'clus_1 Mean', 'clus_2 Mean', 'clus_0 Median', 'clus_1 Median', 'clus_2 Median']\n",
    "df_kmedoids[original_features].T"
   ]
  },
  {
   "cell_type": "code",
   "execution_count": 27,
   "id": "0709b302",
   "metadata": {
    "execution": {
     "iopub.execute_input": "2021-09-12T20:19:43.448492Z",
     "iopub.status.busy": "2021-09-12T20:19:43.447425Z",
     "iopub.status.idle": "2021-09-12T20:19:47.861988Z",
     "shell.execute_reply": "2021-09-12T20:19:47.862527Z",
     "shell.execute_reply.started": "2021-09-12T19:35:20.815395Z"
    },
    "papermill": {
     "duration": 4.502287,
     "end_time": "2021-09-12T20:19:47.862703",
     "exception": false,
     "start_time": "2021-09-12T20:19:43.360416",
     "status": "completed"
    },
    "tags": []
   },
   "outputs": [
    {
     "data": {
      "image/png": "[encoded data removed]",
      "text/plain": [
       "<Figure size 1440x504 with 15 Axes>"
      ]
     },
     "metadata": {
      "needs_background": "light"
     },
     "output_type": "display_data"
    }
   ],
   "source": [
    "features_with_lables = ['Alcohol', 'Malic_Acid', 'Ash', 'Ash_Alcanity', 'Magnesium',\n",
    "       'Total_Phenols', 'Flavanoids', 'Nonflavanoid_Phenols',\n",
    "       'Proanthocyanins', 'Color_Intensity', 'Hue', 'OD280', 'Proline',\n",
    "       'Labels', 'kmedoLabels']\n",
    "\n",
    "df_scaled_copy[features_with_lables].boxplot(by = 'kmedoLabels', layout = (3,5),figsize=(20,7))\n",
    "plt.show()"
   ]
  },
  {
   "cell_type": "markdown",
   "id": "25cbeb28",
   "metadata": {
    "papermill": {
     "duration": 0.06359,
     "end_time": "2021-09-12T20:19:47.991222",
     "exception": false,
     "start_time": "2021-09-12T20:19:47.927632",
     "status": "completed"
    },
    "tags": []
   },
   "source": [
    "3)-4 Comparion between KMeans and KMedoids"
   ]
  },
  {
   "cell_type": "code",
   "execution_count": 28,
   "id": "25e288cc",
   "metadata": {
    "execution": {
     "iopub.execute_input": "2021-09-12T20:19:48.145270Z",
     "iopub.status.busy": "2021-09-12T20:19:48.144569Z",
     "iopub.status.idle": "2021-09-12T20:19:48.147423Z",
     "shell.execute_reply": "2021-09-12T20:19:48.148000Z",
     "shell.execute_reply.started": "2021-09-12T20:16:44.644368Z"
    },
    "papermill": {
     "duration": 0.09195,
     "end_time": "2021-09-12T20:19:48.148184",
     "exception": false,
     "start_time": "2021-09-12T20:19:48.056234",
     "status": "completed"
    },
    "tags": []
   },
   "outputs": [
    {
     "data": {
      "text/html": [
       "<div>\n",
       "<style scoped>\n",
       "    .dataframe tbody tr th:only-of-type {\n",
       "        vertical-align: middle;\n",
       "    }\n",
       "\n",
       "    .dataframe tbody tr th {\n",
       "        vertical-align: top;\n",
       "    }\n",
       "\n",
       "    .dataframe thead th {\n",
       "        text-align: right;\n",
       "    }\n",
       "</style>\n",
       "<table border=\"1\" class=\"dataframe\">\n",
       "  <thead>\n",
       "    <tr style=\"text-align: right;\">\n",
       "      <th></th>\n",
       "      <th>clus_0 Mean</th>\n",
       "      <th>clus_1 Mean</th>\n",
       "      <th>clus_2 Mean</th>\n",
       "      <th>clus_0 Median</th>\n",
       "      <th>clus_1 Median</th>\n",
       "      <th>clus_2 Median</th>\n",
       "    </tr>\n",
       "  </thead>\n",
       "  <tbody>\n",
       "    <tr>\n",
       "      <th>Alcohol</th>\n",
       "      <td>13.110980</td>\n",
       "      <td>12.282593</td>\n",
       "      <td>13.454658</td>\n",
       "      <td>13.11</td>\n",
       "      <td>12.290</td>\n",
       "      <td>13.64</td>\n",
       "    </tr>\n",
       "    <tr>\n",
       "      <th>Alcohol</th>\n",
       "      <td>13.134118</td>\n",
       "      <td>13.676774</td>\n",
       "      <td>12.250923</td>\n",
       "      <td>13.11</td>\n",
       "      <td>13.735</td>\n",
       "      <td>12.25</td>\n",
       "    </tr>\n",
       "    <tr>\n",
       "      <th>Malic_Acid</th>\n",
       "      <td>3.341765</td>\n",
       "      <td>1.827778</td>\n",
       "      <td>2.010137</td>\n",
       "      <td>3.27</td>\n",
       "      <td>1.610</td>\n",
       "      <td>1.75</td>\n",
       "    </tr>\n",
       "    <tr>\n",
       "      <th>Malic_Acid</th>\n",
       "      <td>3.307255</td>\n",
       "      <td>1.997903</td>\n",
       "      <td>1.897385</td>\n",
       "      <td>3.27</td>\n",
       "      <td>1.765</td>\n",
       "      <td>1.61</td>\n",
       "    </tr>\n",
       "    <tr>\n",
       "      <th>Ash</th>\n",
       "      <td>2.446471</td>\n",
       "      <td>2.190556</td>\n",
       "      <td>2.440822</td>\n",
       "      <td>2.38</td>\n",
       "      <td>2.215</td>\n",
       "      <td>2.42</td>\n",
       "    </tr>\n",
       "    <tr>\n",
       "      <th>Ash</th>\n",
       "      <td>2.417647</td>\n",
       "      <td>2.466290</td>\n",
       "      <td>2.231231</td>\n",
       "      <td>2.38</td>\n",
       "      <td>2.445</td>\n",
       "      <td>2.24</td>\n",
       "    </tr>\n",
       "    <tr>\n",
       "      <th>Ash_Alcanity</th>\n",
       "      <td>21.539216</td>\n",
       "      <td>19.759259</td>\n",
       "      <td>17.871233</td>\n",
       "      <td>21.50</td>\n",
       "      <td>19.550</td>\n",
       "      <td>17.20</td>\n",
       "    </tr>\n",
       "    <tr>\n",
       "      <th>Ash_Alcanity</th>\n",
       "      <td>21.241176</td>\n",
       "      <td>17.462903</td>\n",
       "      <td>20.063077</td>\n",
       "      <td>21.00</td>\n",
       "      <td>17.000</td>\n",
       "      <td>20.00</td>\n",
       "    </tr>\n",
       "    <tr>\n",
       "      <th>Magnesium</th>\n",
       "      <td>99.764706</td>\n",
       "      <td>90.388889</td>\n",
       "      <td>106.643836</td>\n",
       "      <td>97.00</td>\n",
       "      <td>88.000</td>\n",
       "      <td>103.00</td>\n",
       "    </tr>\n",
       "    <tr>\n",
       "      <th>Magnesium</th>\n",
       "      <td>98.666667</td>\n",
       "      <td>107.967742</td>\n",
       "      <td>92.738462</td>\n",
       "      <td>97.00</td>\n",
       "      <td>105.500</td>\n",
       "      <td>88.00</td>\n",
       "    </tr>\n",
       "    <tr>\n",
       "      <th>Total_Phenols</th>\n",
       "      <td>1.686863</td>\n",
       "      <td>2.107778</td>\n",
       "      <td>2.858630</td>\n",
       "      <td>1.65</td>\n",
       "      <td>2.100</td>\n",
       "      <td>2.85</td>\n",
       "    </tr>\n",
       "    <tr>\n",
       "      <th>Total_Phenols</th>\n",
       "      <td>1.683922</td>\n",
       "      <td>2.847581</td>\n",
       "      <td>2.247692</td>\n",
       "      <td>1.65</td>\n",
       "      <td>2.825</td>\n",
       "      <td>2.20</td>\n",
       "    </tr>\n",
       "    <tr>\n",
       "      <th>Flavanoids</th>\n",
       "      <td>0.827843</td>\n",
       "      <td>1.910000</td>\n",
       "      <td>2.956849</td>\n",
       "      <td>0.70</td>\n",
       "      <td>1.885</td>\n",
       "      <td>2.92</td>\n",
       "    </tr>\n",
       "    <tr>\n",
       "      <th>Flavanoids</th>\n",
       "      <td>0.818824</td>\n",
       "      <td>3.003226</td>\n",
       "      <td>2.050000</td>\n",
       "      <td>0.70</td>\n",
       "      <td>2.975</td>\n",
       "      <td>2.03</td>\n",
       "    </tr>\n",
       "    <tr>\n",
       "      <th>Nonflavanoid_Phenols</th>\n",
       "      <td>0.444314</td>\n",
       "      <td>0.386481</td>\n",
       "      <td>0.286027</td>\n",
       "      <td>0.47</td>\n",
       "      <td>0.370</td>\n",
       "      <td>0.28</td>\n",
       "    </tr>\n",
       "    <tr>\n",
       "      <th>Nonflavanoid_Phenols</th>\n",
       "      <td>0.451961</td>\n",
       "      <td>0.292097</td>\n",
       "      <td>0.357692</td>\n",
       "      <td>0.47</td>\n",
       "      <td>0.290</td>\n",
       "      <td>0.35</td>\n",
       "    </tr>\n",
       "    <tr>\n",
       "      <th>Proanthocyanins</th>\n",
       "      <td>1.181569</td>\n",
       "      <td>1.464259</td>\n",
       "      <td>1.970548</td>\n",
       "      <td>1.14</td>\n",
       "      <td>1.435</td>\n",
       "      <td>1.95</td>\n",
       "    </tr>\n",
       "    <tr>\n",
       "      <th>Proanthocyanins</th>\n",
       "      <td>1.145882</td>\n",
       "      <td>1.922097</td>\n",
       "      <td>1.624154</td>\n",
       "      <td>1.10</td>\n",
       "      <td>1.895</td>\n",
       "      <td>1.56</td>\n",
       "    </tr>\n",
       "    <tr>\n",
       "      <th>Color_Intensity</th>\n",
       "      <td>7.145098</td>\n",
       "      <td>2.975185</td>\n",
       "      <td>5.140822</td>\n",
       "      <td>7.30</td>\n",
       "      <td>2.900</td>\n",
       "      <td>5.10</td>\n",
       "    </tr>\n",
       "    <tr>\n",
       "      <th>Color_Intensity</th>\n",
       "      <td>7.234706</td>\n",
       "      <td>5.453548</td>\n",
       "      <td>2.973077</td>\n",
       "      <td>7.30</td>\n",
       "      <td>5.400</td>\n",
       "      <td>2.90</td>\n",
       "    </tr>\n",
       "    <tr>\n",
       "      <th>Hue</th>\n",
       "      <td>0.695686</td>\n",
       "      <td>1.062148</td>\n",
       "      <td>1.062877</td>\n",
       "      <td>0.67</td>\n",
       "      <td>1.045</td>\n",
       "      <td>1.07</td>\n",
       "    </tr>\n",
       "    <tr>\n",
       "      <th>Hue</th>\n",
       "      <td>0.691961</td>\n",
       "      <td>1.065484</td>\n",
       "      <td>1.062708</td>\n",
       "      <td>0.67</td>\n",
       "      <td>1.070</td>\n",
       "      <td>1.04</td>\n",
       "    </tr>\n",
       "    <tr>\n",
       "      <th>OD280</th>\n",
       "      <td>1.729412</td>\n",
       "      <td>2.722593</td>\n",
       "      <td>3.146027</td>\n",
       "      <td>1.68</td>\n",
       "      <td>2.780</td>\n",
       "      <td>3.13</td>\n",
       "    </tr>\n",
       "    <tr>\n",
       "      <th>OD280</th>\n",
       "      <td>1.696667</td>\n",
       "      <td>3.163387</td>\n",
       "      <td>2.803385</td>\n",
       "      <td>1.68</td>\n",
       "      <td>3.170</td>\n",
       "      <td>2.84</td>\n",
       "    </tr>\n",
       "    <tr>\n",
       "      <th>Proline</th>\n",
       "      <td>622.352941</td>\n",
       "      <td>490.944444</td>\n",
       "      <td>1023.232877</td>\n",
       "      <td>625.00</td>\n",
       "      <td>476.000</td>\n",
       "      <td>1045.00</td>\n",
       "    </tr>\n",
       "    <tr>\n",
       "      <th>Proline</th>\n",
       "      <td>619.058824</td>\n",
       "      <td>1100.225806</td>\n",
       "      <td>510.169231</td>\n",
       "      <td>620.00</td>\n",
       "      <td>1072.500</td>\n",
       "      <td>495.00</td>\n",
       "    </tr>\n",
       "    <tr>\n",
       "      <th>Labels</th>\n",
       "      <td>0.078431</td>\n",
       "      <td>1.925926</td>\n",
       "      <td>1.150685</td>\n",
       "      <td>0.00</td>\n",
       "      <td>2.000</td>\n",
       "      <td>1.00</td>\n",
       "    </tr>\n",
       "  </tbody>\n",
       "</table>\n",
       "</div>"
      ],
      "text/plain": [
       "                      clus_0 Mean  clus_1 Mean  clus_2 Mean  clus_0 Median  \\\n",
       "Alcohol                 13.110980    12.282593    13.454658          13.11   \n",
       "Alcohol                 13.134118    13.676774    12.250923          13.11   \n",
       "Malic_Acid               3.341765     1.827778     2.010137           3.27   \n",
       "Malic_Acid               3.307255     1.997903     1.897385           3.27   \n",
       "Ash                      2.446471     2.190556     2.440822           2.38   \n",
       "Ash                      2.417647     2.466290     2.231231           2.38   \n",
       "Ash_Alcanity            21.539216    19.759259    17.871233          21.50   \n",
       "Ash_Alcanity            21.241176    17.462903    20.063077          21.00   \n",
       "Magnesium               99.764706    90.388889   106.643836          97.00   \n",
       "Magnesium               98.666667   107.967742    92.738462          97.00   \n",
       "Total_Phenols            1.686863     2.107778     2.858630           1.65   \n",
       "Total_Phenols            1.683922     2.847581     2.247692           1.65   \n",
       "Flavanoids               0.827843     1.910000     2.956849           0.70   \n",
       "Flavanoids               0.818824     3.003226     2.050000           0.70   \n",
       "Nonflavanoid_Phenols     0.444314     0.386481     0.286027           0.47   \n",
       "Nonflavanoid_Phenols     0.451961     0.292097     0.357692           0.47   \n",
       "Proanthocyanins          1.181569     1.464259     1.970548           1.14   \n",
       "Proanthocyanins          1.145882     1.922097     1.624154           1.10   \n",
       "Color_Intensity          7.145098     2.975185     5.140822           7.30   \n",
       "Color_Intensity          7.234706     5.453548     2.973077           7.30   \n",
       "Hue                      0.695686     1.062148     1.062877           0.67   \n",
       "Hue                      0.691961     1.065484     1.062708           0.67   \n",
       "OD280                    1.729412     2.722593     3.146027           1.68   \n",
       "OD280                    1.696667     3.163387     2.803385           1.68   \n",
       "Proline                622.352941   490.944444  1023.232877         625.00   \n",
       "Proline                619.058824  1100.225806   510.169231         620.00   \n",
       "Labels                   0.078431     1.925926     1.150685           0.00   \n",
       "\n",
       "                      clus_1 Median  clus_2 Median  \n",
       "Alcohol                      12.290          13.64  \n",
       "Alcohol                      13.735          12.25  \n",
       "Malic_Acid                    1.610           1.75  \n",
       "Malic_Acid                    1.765           1.61  \n",
       "Ash                           2.215           2.42  \n",
       "Ash                           2.445           2.24  \n",
       "Ash_Alcanity                 19.550          17.20  \n",
       "Ash_Alcanity                 17.000          20.00  \n",
       "Magnesium                    88.000         103.00  \n",
       "Magnesium                   105.500          88.00  \n",
       "Total_Phenols                 2.100           2.85  \n",
       "Total_Phenols                 2.825           2.20  \n",
       "Flavanoids                    1.885           2.92  \n",
       "Flavanoids                    2.975           2.03  \n",
       "Nonflavanoid_Phenols          0.370           0.28  \n",
       "Nonflavanoid_Phenols          0.290           0.35  \n",
       "Proanthocyanins               1.435           1.95  \n",
       "Proanthocyanins               1.895           1.56  \n",
       "Color_Intensity               2.900           5.10  \n",
       "Color_Intensity               5.400           2.90  \n",
       "Hue                           1.045           1.07  \n",
       "Hue                           1.070           1.04  \n",
       "OD280                         2.780           3.13  \n",
       "OD280                         3.170           2.84  \n",
       "Proline                     476.000        1045.00  \n",
       "Proline                    1072.500         495.00  \n",
       "Labels                        2.000           1.00  "
      ]
     },
     "execution_count": 28,
     "metadata": {},
     "output_type": "execute_result"
    }
   ],
   "source": [
    "comparison = pd.concat([df_kmedoids, df_kmeans], axis=1)[original_features]\n",
    "comparison.T\n",
    "# Upperline is KMedoids and Lower line is KMeans"
   ]
  },
  {
   "cell_type": "markdown",
   "id": "f4b8feb9",
   "metadata": {
    "papermill": {
     "duration": 0.063844,
     "end_time": "2021-09-12T20:19:48.276926",
     "exception": false,
     "start_time": "2021-09-12T20:19:48.213082",
     "status": "completed"
    },
    "tags": []
   },
   "source": [
    "3)-5 PCA and Mapping of KMeans and KMedoids"
   ]
  },
  {
   "cell_type": "code",
   "execution_count": 29,
   "id": "05207e0b",
   "metadata": {
    "execution": {
     "iopub.execute_input": "2021-09-12T20:19:48.409627Z",
     "iopub.status.busy": "2021-09-12T20:19:48.408908Z",
     "iopub.status.idle": "2021-09-12T20:19:48.431489Z",
     "shell.execute_reply": "2021-09-12T20:19:48.430803Z",
     "shell.execute_reply.started": "2021-09-12T19:41:08.725412Z"
    },
    "papermill": {
     "duration": 0.089986,
     "end_time": "2021-09-12T20:19:48.431644",
     "exception": false,
     "start_time": "2021-09-12T20:19:48.341658",
     "status": "completed"
    },
    "tags": []
   },
   "outputs": [
    {
     "data": {
      "text/plain": [
       "PCA(n_components=2)"
      ]
     },
     "execution_count": 29,
     "metadata": {},
     "output_type": "execute_result"
    }
   ],
   "source": [
    "from sklearn.decomposition import PCA\n",
    "pca = PCA(n_components=2)\n",
    "pca.fit(df_scaled)"
   ]
  },
  {
   "cell_type": "code",
   "execution_count": 30,
   "id": "a1e45e58",
   "metadata": {
    "execution": {
     "iopub.execute_input": "2021-09-12T20:19:48.568705Z",
     "iopub.status.busy": "2021-09-12T20:19:48.567941Z",
     "iopub.status.idle": "2021-09-12T20:19:48.570673Z",
     "shell.execute_reply": "2021-09-12T20:19:48.570140Z",
     "shell.execute_reply.started": "2021-09-12T19:41:46.290396Z"
    },
    "papermill": {
     "duration": 0.073836,
     "end_time": "2021-09-12T20:19:48.570824",
     "exception": false,
     "start_time": "2021-09-12T20:19:48.496988",
     "status": "completed"
    },
    "tags": []
   },
   "outputs": [],
   "source": [
    "feature = pca.transform(df_scaled)"
   ]
  },
  {
   "cell_type": "code",
   "execution_count": 31,
   "id": "7cf1af36",
   "metadata": {
    "execution": {
     "iopub.execute_input": "2021-09-12T20:19:48.739234Z",
     "iopub.status.busy": "2021-09-12T20:19:48.731794Z",
     "iopub.status.idle": "2021-09-12T20:19:48.920694Z",
     "shell.execute_reply": "2021-09-12T20:19:48.921232Z",
     "shell.execute_reply.started": "2021-09-12T19:49:36.958888Z"
    },
    "papermill": {
     "duration": 0.28533,
     "end_time": "2021-09-12T20:19:48.921448",
     "exception": false,
     "start_time": "2021-09-12T20:19:48.636118",
     "status": "completed"
    },
    "tags": []
   },
   "outputs": [
    {
     "data": {
      "image/png": "[encoded data removed]",
      "text/plain": [
       "<Figure size 432x432 with 1 Axes>"
      ]
     },
     "metadata": {
      "needs_background": "light"
     },
     "output_type": "display_data"
    }
   ],
   "source": [
    "plt.figure(figsize=(6, 6))\n",
    "plt.scatter(feature[:, 0], feature[:, 1], alpha=0.8, c=list(df.iloc[:, 13]))\n",
    "plt.grid()\n",
    "plt.title('KMeans')\n",
    "plt.xlabel(\"PC1\")\n",
    "plt.ylabel(\"PC2\")\n",
    "plt.show()"
   ]
  },
  {
   "cell_type": "code",
   "execution_count": 32,
   "id": "93b89315",
   "metadata": {
    "execution": {
     "iopub.execute_input": "2021-09-12T20:19:49.061630Z",
     "iopub.status.busy": "2021-09-12T20:19:49.057859Z",
     "iopub.status.idle": "2021-09-12T20:19:49.273394Z",
     "shell.execute_reply": "2021-09-12T20:19:49.272791Z",
     "shell.execute_reply.started": "2021-09-12T19:50:49.048904Z"
    },
    "papermill": {
     "duration": 0.285549,
     "end_time": "2021-09-12T20:19:49.273558",
     "exception": false,
     "start_time": "2021-09-12T20:19:48.988009",
     "status": "completed"
    },
    "tags": []
   },
   "outputs": [
    {
     "data": {
      "image/png": "[encoded data removed]",
      "text/plain": [
       "<Figure size 432x432 with 1 Axes>"
      ]
     },
     "metadata": {
      "needs_background": "light"
     },
     "output_type": "display_data"
    }
   ],
   "source": [
    "plt.figure(figsize=(6, 6))\n",
    "plt.scatter(feature[:, 0], feature[:, 1], alpha=0.8, c=list(df.iloc[:, 15]))\n",
    "plt.grid()\n",
    "plt.title('KMedoids')\n",
    "plt.xlabel(\"PC1\")\n",
    "plt.ylabel(\"PC2\")\n",
    "plt.show()"
   ]
  },
  {
   "cell_type": "code",
   "execution_count": null,
   "id": "e45207f1",
   "metadata": {
    "papermill": {
     "duration": 0.067762,
     "end_time": "2021-09-12T20:19:49.409580",
     "exception": false,
     "start_time": "2021-09-12T20:19:49.341818",
     "status": "completed"
    },
    "tags": []
   },
   "outputs": [],
   "source": []
  }
 ],
 "metadata": {
  "kernelspec": {
   "display_name": "Python 3",
   "language": "python",
   "name": "python3"
  },
  "language_info": {
   "codemirror_mode": {
    "name": "ipython",
    "version": 3
   },
   "file_extension": ".py",
   "mimetype": "text/x-python",
   "name": "python",
   "nbconvert_exporter": "python",
   "pygments_lexer": "ipython3",
   "version": "3.7.10"
  },
  "papermill": {
   "default_parameters": {},
   "duration": 45.446661,
   "end_time": "2021-09-12T20:19:50.288465",
   "environment_variables": {},
   "exception": null,
   "input_path": "__notebook__.ipynb",
   "output_path": "__notebook__.ipynb",
   "parameters": {},
   "start_time": "2021-09-12T20:19:04.841804",
   "version": "2.3.3"
  }
 },
 "nbformat": 4,
 "nbformat_minor": 5
}
