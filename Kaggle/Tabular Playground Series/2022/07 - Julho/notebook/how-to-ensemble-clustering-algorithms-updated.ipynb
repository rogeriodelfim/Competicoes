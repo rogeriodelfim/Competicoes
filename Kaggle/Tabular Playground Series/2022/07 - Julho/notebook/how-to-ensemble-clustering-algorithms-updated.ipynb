{
 "cells": [
  {
   "cell_type": "markdown",
   "id": "fb2e832d",
   "metadata": {
    "_cell_guid": "b1076dfc-b9ad-4769-8c92-a6c4dae69d19",
    "_uuid": "8f2839f25d086af736a60e9eeb907d3b93b6e0e5",
    "execution": {
     "iopub.execute_input": "2022-07-04T15:41:53.440308Z",
     "iopub.status.busy": "2022-07-04T15:41:53.439899Z",
     "iopub.status.idle": "2022-07-04T15:41:53.45155Z",
     "shell.execute_reply": "2022-07-04T15:41:53.450577Z",
     "shell.execute_reply.started": "2022-07-04T15:41:53.440276Z"
    },
    "papermill": {
     "duration": 0.006547,
     "end_time": "2022-07-09T07:30:50.922793",
     "exception": false,
     "start_time": "2022-07-09T07:30:50.916246",
     "status": "completed"
    },
    "tags": []
   },
   "source": [
    "### How to ensemble clustering algorithms?\n",
    "\n",
    "> - Since this competition is about clustering \n",
    "> - And since it is necessary to ensemble in order to achieve maximum Kaggling. \n",
    "\n",
    "On this notebook we show how to ensemble multiple clustering algorithms.\n",
    "\n",
    "![](https://i.ibb.co/Sy5xgnQ/Scheme-of-ensemble-clustering-approach.png)\n",
    "\n",
    "[[source](https://www.researchgate.net/figure/Scheme-of-ensemble-clustering-approach_fig1_277589770)]\n",
    "\n",
    "\n",
    "The approach is simple: We create a sparse matrix of all pairs of samples and assign 1 to any pair of samples that are on the same cluster.\n",
    "\n",
    "We then simply take the mean/median of all sparse matrices, apply a threshold, and convert it back to cluster ids.\n",
    "\n",
    "This way we can use multiple clustering algorithms at the same time. \n",
    "\n",
    "\n",
    "_____\n",
    "\n",
    "##### Updated version\n",
    "\n",
    "Multiple upgrades and fixes had been proposed by [ehekatlact](https://www.kaggle.com/ehekatlact/) on the [this](https://www.kaggle.com/code/ehekatlact/tps2207-ultra-fast-ensemble/data) excellent notebook. \n",
    "This notebook had been upgraded with the proposed fixes, it is now extremely fast to run and it also submit to the LB. \n",
    "\n",
    "At the bottom of this notebook you can find a single function that performs the full computation end-to-end. \n",
    "Copy it wherever you want to perform easy clustering ensemble! \n",
    "\n",
    "Have fun! "
   ]
  },
  {
   "cell_type": "code",
   "execution_count": 1,
   "id": "be1ca2ee",
   "metadata": {
    "_cell_guid": "b1076dfc-b9ad-4769-8c92-a6c4dae69d19",
    "_uuid": "8f2839f25d086af736a60e9eeb907d3b93b6e0e5",
    "execution": {
     "iopub.execute_input": "2022-07-09T07:30:50.936759Z",
     "iopub.status.busy": "2022-07-09T07:30:50.936332Z",
     "iopub.status.idle": "2022-07-09T07:30:53.738449Z",
     "shell.execute_reply": "2022-07-09T07:30:53.737449Z"
    },
    "papermill": {
     "duration": 2.812383,
     "end_time": "2022-07-09T07:30:53.741096",
     "exception": false,
     "start_time": "2022-07-09T07:30:50.928713",
     "status": "completed"
    },
    "tags": []
   },
   "outputs": [],
   "source": [
    "import numpy as np\n",
    "import pandas as pd\n",
    "from tqdm import trange\n",
    "import matplotlib.pyplot as plt\n",
    "from sklearn.cluster import KMeans\n",
    "from collections import defaultdict\n",
    "from scipy.sparse import csr_matrix\n",
    "from sklearn.mixture import GaussianMixture\n",
    "from sklearn.metrics import adjusted_rand_score\n",
    "\n",
    "df = pd.read_csv('../input/tabular-playground-series-jul-2022/data.csv')\n",
    "df = df.drop(columns = 'id')"
   ]
  },
  {
   "cell_type": "markdown",
   "id": "056c0193",
   "metadata": {
    "papermill": {
     "duration": 0.005775,
     "end_time": "2022-07-09T07:30:53.752945",
     "exception": false,
     "start_time": "2022-07-09T07:30:53.747170",
     "status": "completed"
    },
    "tags": []
   },
   "source": [
    "#### Now let's say we got two algorithms we want to ensemble\n",
    "\n",
    "- KMeans(n_clusters = 7)\n",
    "- Gaussian Mixture(n_components = 7)"
   ]
  },
  {
   "cell_type": "code",
   "execution_count": 2,
   "id": "d3c509e9",
   "metadata": {
    "_cell_guid": "b1076dfc-b9ad-4769-8c92-a6c4dae69d19",
    "_uuid": "8f2839f25d086af736a60e9eeb907d3b93b6e0e5",
    "execution": {
     "iopub.execute_input": "2022-07-09T07:30:53.768455Z",
     "iopub.status.busy": "2022-07-09T07:30:53.766967Z",
     "iopub.status.idle": "2022-07-09T07:31:05.658562Z",
     "shell.execute_reply": "2022-07-09T07:31:05.657724Z"
    },
    "papermill": {
     "duration": 11.902032,
     "end_time": "2022-07-09T07:31:05.661185",
     "exception": false,
     "start_time": "2022-07-09T07:30:53.759153",
     "status": "completed"
    },
    "tags": []
   },
   "outputs": [
    {
     "name": "stdout",
     "output_type": "stream",
     "text": [
      "(98000,)\n",
      "(98000,)\n"
     ]
    }
   ],
   "source": [
    "clusters_k_means = KMeans(n_clusters = 7).fit_predict(df)\n",
    "clusters_mixture = GaussianMixture(n_components = 7).fit_predict(df)\n",
    "\n",
    "print(clusters_k_means.shape)\n",
    "print(clusters_mixture.shape)\n",
    "\n",
    "clusters_list = [clusters_k_means, clusters_mixture]"
   ]
  },
  {
   "cell_type": "code",
   "execution_count": 3,
   "id": "8a3f8e8c",
   "metadata": {
    "execution": {
     "iopub.execute_input": "2022-07-09T07:31:05.678867Z",
     "iopub.status.busy": "2022-07-09T07:31:05.678474Z",
     "iopub.status.idle": "2022-07-09T07:31:05.971458Z",
     "shell.execute_reply": "2022-07-09T07:31:05.970650Z"
    },
    "papermill": {
     "duration": 0.30467,
     "end_time": "2022-07-09T07:31:05.973875",
     "exception": false,
     "start_time": "2022-07-09T07:31:05.669205",
     "status": "completed"
    },
    "tags": []
   },
   "outputs": [],
   "source": [
    "cls_tup_list = []\n",
    "for cls_tup in zip(*clusters_list):\n",
    "    cls_tup_list.append(cls_tup)\n",
    "zipper = {x: i for i, x in enumerate(sorted(set(cls_tup_list)))}\n",
    "zipped_list = [zipper[x] for x in cls_tup_list]\n",
    "unzipper = defaultdict(set)\n",
    "for idx, cls_tup in enumerate(cls_tup_list):\n",
    "    zipped = zipper[cls_tup]\n",
    "    unzipper[zipped].add(idx)\n",
    "comp_clusters_list = [[-1]*len(zipper) for _ in range(len(clusters_list))]\n",
    "for clusters, comp_clusters in zip(clusters_list, comp_clusters_list):\n",
    "    for i, cluster_i in enumerate(clusters):\n",
    "            value = zipped_list[i]\n",
    "            comp_clusters[value] = cluster_i"
   ]
  },
  {
   "cell_type": "markdown",
   "id": "74228818",
   "metadata": {
    "_cell_guid": "b1076dfc-b9ad-4769-8c92-a6c4dae69d19",
    "_uuid": "8f2839f25d086af736a60e9eeb907d3b93b6e0e5",
    "papermill": {
     "duration": 0.008853,
     "end_time": "2022-07-09T07:31:05.992071",
     "exception": false,
     "start_time": "2022-07-09T07:31:05.983218",
     "status": "completed"
    },
    "tags": []
   },
   "source": [
    "### We create a sparse matrix of all pairs of samples and assign 1 to any pair of samples that are on the same cluster."
   ]
  },
  {
   "cell_type": "code",
   "execution_count": 4,
   "id": "37c3fa4f",
   "metadata": {
    "_cell_guid": "b1076dfc-b9ad-4769-8c92-a6c4dae69d19",
    "_uuid": "8f2839f25d086af736a60e9eeb907d3b93b6e0e5",
    "execution": {
     "iopub.execute_input": "2022-07-09T07:31:06.012895Z",
     "iopub.status.busy": "2022-07-09T07:31:06.011963Z",
     "iopub.status.idle": "2022-07-09T07:31:06.040266Z",
     "shell.execute_reply": "2022-07-09T07:31:06.039197Z"
    },
    "papermill": {
     "duration": 0.041383,
     "end_time": "2022-07-09T07:31:06.042677",
     "exception": false,
     "start_time": "2022-07-09T07:31:06.001294",
     "status": "completed"
    },
    "tags": []
   },
   "outputs": [
    {
     "name": "stderr",
     "output_type": "stream",
     "text": [
      "100%|██████████| 44/44 [00:00<00:00, 193447.98it/s]\n",
      "100%|██████████| 44/44 [00:00<00:00, 72657.23it/s]\n"
     ]
    }
   ],
   "source": [
    "def create_sparse_matrix(clusters):\n",
    "    n = len(clusters)\n",
    "    data = []\n",
    "    row = []\n",
    "    col = []\n",
    "    # O(n**2)\n",
    "    for i in trange(n):\n",
    "        for j in range(i+1, n):\n",
    "            if clusters[i] == clusters[j]:\n",
    "                data.append(1)\n",
    "                row.append(i)\n",
    "                col.append(j)\n",
    "    return csr_matrix((data, (row, col)), shape=(n, n))\n",
    "\n",
    "sparse_matrix_list = [create_sparse_matrix(comp_clusters) for comp_clusters in comp_clusters_list]"
   ]
  },
  {
   "cell_type": "markdown",
   "id": "0ef16332",
   "metadata": {
    "_cell_guid": "b1076dfc-b9ad-4769-8c92-a6c4dae69d19",
    "_uuid": "8f2839f25d086af736a60e9eeb907d3b93b6e0e5",
    "papermill": {
     "duration": 0.009504,
     "end_time": "2022-07-09T07:31:06.062455",
     "exception": false,
     "start_time": "2022-07-09T07:31:06.052951",
     "status": "completed"
    },
    "tags": []
   },
   "source": [
    "### We then simply take the mean/median of all sparse matrices, apply a threshold, and convert it back to cluster ids.\n",
    "\n",
    "![](https://i.ibb.co/84nnT31/1-s2-0-S153204641300021-X-gr1.jpg)\n",
    "[[source](https://www.sciencedirect.com/science/article/pii/S153204641300021X)]\n"
   ]
  },
  {
   "cell_type": "code",
   "execution_count": 5,
   "id": "fca63fe5",
   "metadata": {
    "_cell_guid": "b1076dfc-b9ad-4769-8c92-a6c4dae69d19",
    "_uuid": "8f2839f25d086af736a60e9eeb907d3b93b6e0e5",
    "execution": {
     "iopub.execute_input": "2022-07-09T07:31:06.083848Z",
     "iopub.status.busy": "2022-07-09T07:31:06.083478Z",
     "iopub.status.idle": "2022-07-09T07:31:06.092200Z",
     "shell.execute_reply": "2022-07-09T07:31:06.091433Z"
    },
    "papermill": {
     "duration": 0.022399,
     "end_time": "2022-07-09T07:31:06.094473",
     "exception": false,
     "start_time": "2022-07-09T07:31:06.072074",
     "status": "completed"
    },
    "tags": []
   },
   "outputs": [],
   "source": [
    "sparse_matrix_mean = (sparse_matrix_list[0] * 0.5 + sparse_matrix_list[1] * 0.5)"
   ]
  },
  {
   "cell_type": "markdown",
   "id": "4b663092",
   "metadata": {
    "_cell_guid": "b1076dfc-b9ad-4769-8c92-a6c4dae69d19",
    "_uuid": "8f2839f25d086af736a60e9eeb907d3b93b6e0e5",
    "papermill": {
     "duration": 0.009792,
     "end_time": "2022-07-09T07:31:06.114525",
     "exception": false,
     "start_time": "2022-07-09T07:31:06.104733",
     "status": "completed"
    },
    "tags": []
   },
   "source": [
    "### Now we apply the threshold\n",
    "\n",
    "> Special thanks to [ehekatlact](https://www.kaggle.com/ehekatlact) for coming up with this [fix](https://www.kaggle.com/code/ehekatlact/tps2207-ultra-fast-ensemble)! \n",
    "\n",
    "Use DSU to control the upper limit of each cluster size to prevent clusters from sticking together.\n",
    "If you are interested in this phenomenon, try setting SIZ_MAX to float('inf') and experiment with it!"
   ]
  },
  {
   "cell_type": "code",
   "execution_count": 6,
   "id": "ae06620e",
   "metadata": {
    "_cell_guid": "b1076dfc-b9ad-4769-8c92-a6c4dae69d19",
    "_uuid": "8f2839f25d086af736a60e9eeb907d3b93b6e0e5",
    "execution": {
     "iopub.execute_input": "2022-07-09T07:31:06.136361Z",
     "iopub.status.busy": "2022-07-09T07:31:06.136001Z",
     "iopub.status.idle": "2022-07-09T07:31:06.151907Z",
     "shell.execute_reply": "2022-07-09T07:31:06.150878Z"
    },
    "papermill": {
     "duration": 0.029601,
     "end_time": "2022-07-09T07:31:06.154206",
     "exception": false,
     "start_time": "2022-07-09T07:31:06.124605",
     "status": "completed"
    },
    "tags": []
   },
   "outputs": [
    {
     "name": "stderr",
     "output_type": "stream",
     "text": [
      "/opt/conda/lib/python3.7/site-packages/scipy/sparse/compressed.py:291: SparseEfficiencyWarning: Comparing a sparse matrix with a scalar greater than zero using < is inefficient, try using >= instead.\n",
      "  warn(bad_scalar_msg, SparseEfficiencyWarning)\n",
      "/opt/conda/lib/python3.7/site-packages/scipy/sparse/_index.py:125: SparseEfficiencyWarning: Changing the sparsity structure of a csr_matrix is expensive. lil_matrix is more efficient.\n",
      "  self._set_arrayXarray(i, j, x)\n"
     ]
    }
   ],
   "source": [
    "# The lower the threshold the lower number of clusters: Since we are counting by the connected component.\n",
    "# It seems desirable to set it a little higher.\n",
    "threshold = 0.5\n",
    "sparse_matrix_mean[sparse_matrix_mean < threshold] = 0"
   ]
  },
  {
   "cell_type": "markdown",
   "id": "0da727b8",
   "metadata": {
    "_cell_guid": "b1076dfc-b9ad-4769-8c92-a6c4dae69d19",
    "_uuid": "8f2839f25d086af736a60e9eeb907d3b93b6e0e5",
    "papermill": {
     "duration": 0.009751,
     "end_time": "2022-07-09T07:31:06.174461",
     "exception": false,
     "start_time": "2022-07-09T07:31:06.164710",
     "status": "completed"
    },
    "tags": []
   },
   "source": [
    "### Now we reconstruct our clusters and return an integer column"
   ]
  },
  {
   "cell_type": "code",
   "execution_count": 7,
   "id": "6accd878",
   "metadata": {
    "_cell_guid": "b1076dfc-b9ad-4769-8c92-a6c4dae69d19",
    "_uuid": "8f2839f25d086af736a60e9eeb907d3b93b6e0e5",
    "execution": {
     "iopub.execute_input": "2022-07-09T07:31:06.198752Z",
     "iopub.status.busy": "2022-07-09T07:31:06.197957Z",
     "iopub.status.idle": "2022-07-09T07:31:06.207825Z",
     "shell.execute_reply": "2022-07-09T07:31:06.207150Z"
    },
    "papermill": {
     "duration": 0.02536,
     "end_time": "2022-07-09T07:31:06.210186",
     "exception": false,
     "start_time": "2022-07-09T07:31:06.184826",
     "status": "completed"
    },
    "tags": []
   },
   "outputs": [
    {
     "data": {
      "text/plain": [
       "array([[0. , 0.5, 0.5, ..., 0. , 0. , 0. ],\n",
       "       [0. , 0. , 0.5, ..., 0. , 0. , 0. ],\n",
       "       [0. , 0. , 0. , ..., 0. , 0. , 0. ],\n",
       "       ...,\n",
       "       [0. , 0. , 0. , ..., 0. , 0.5, 0.5],\n",
       "       [0. , 0. , 0. , ..., 0. , 0. , 0.5],\n",
       "       [0. , 0. , 0. , ..., 0. , 0. , 0. ]])"
      ]
     },
     "execution_count": 7,
     "metadata": {},
     "output_type": "execute_result"
    }
   ],
   "source": [
    "sparse_matrix_mean = sparse_matrix_mean.toarray()\n",
    "sparse_matrix_mean"
   ]
  },
  {
   "cell_type": "markdown",
   "id": "38537951",
   "metadata": {
    "papermill": {
     "duration": 0.009752,
     "end_time": "2022-07-09T07:31:06.230206",
     "exception": false,
     "start_time": "2022-07-09T07:31:06.220454",
     "status": "completed"
    },
    "tags": []
   },
   "source": [
    "**Intuition:** The clusters are combined in order of increasing sparse_matrix_mean[node1][node2].\n",
    "\n",
    "Disjoint Set Union(DSU) is useful, with complexity of O(α(N)).\n",
    "\n",
    "Algorithm: Repeat until the size of each cluster reaches SIZ_MAX or the number of clusters reaches CLS_NUM_MIN. This is fast enough: O(log(N)*N)."
   ]
  },
  {
   "cell_type": "code",
   "execution_count": 8,
   "id": "80f85e89",
   "metadata": {
    "_cell_guid": "b1076dfc-b9ad-4769-8c92-a6c4dae69d19",
    "_uuid": "8f2839f25d086af736a60e9eeb907d3b93b6e0e5",
    "execution": {
     "iopub.execute_input": "2022-07-09T07:31:06.252544Z",
     "iopub.status.busy": "2022-07-09T07:31:06.251884Z",
     "iopub.status.idle": "2022-07-09T07:31:06.258780Z",
     "shell.execute_reply": "2022-07-09T07:31:06.257837Z"
    },
    "papermill": {
     "duration": 0.020778,
     "end_time": "2022-07-09T07:31:06.261089",
     "exception": false,
     "start_time": "2022-07-09T07:31:06.240311",
     "status": "completed"
    },
    "tags": []
   },
   "outputs": [],
   "source": [
    "# Sort sparse_matrix_mean[node1][node2] that are non-zero.\n",
    "# It is fast enough because the number of edges is small due to preprocessing (zipper).\n",
    "clusters_final = np.zeros(len(df))\n",
    "clusters_final_next_id = 0\n",
    "\n",
    "node_end = len(comp_clusters_list[0])\n",
    "edge_list = []  # [(w, fr, to), ...]\n",
    "for fr in range(node_end):\n",
    "    for to in range(fr, node_end):\n",
    "        w = sparse_matrix_mean[fr][to]\n",
    "        if w == 0:\n",
    "            continue\n",
    "        edge_list.append((w, fr, to))\n",
    "edge_list.sort(reverse=True)"
   ]
  },
  {
   "cell_type": "code",
   "execution_count": 9,
   "id": "6be5d33f",
   "metadata": {
    "execution": {
     "iopub.execute_input": "2022-07-09T07:31:06.284154Z",
     "iopub.status.busy": "2022-07-09T07:31:06.282944Z",
     "iopub.status.idle": "2022-07-09T07:31:06.287678Z",
     "shell.execute_reply": "2022-07-09T07:31:06.286534Z"
    },
    "papermill": {
     "duration": 0.018664,
     "end_time": "2022-07-09T07:31:06.290195",
     "exception": false,
     "start_time": "2022-07-09T07:31:06.271531",
     "status": "completed"
    },
    "tags": []
   },
   "outputs": [],
   "source": [
    "SIZ_MAX = 18000\n",
    "CLS_NUM_MIN = 7"
   ]
  },
  {
   "cell_type": "markdown",
   "id": "1d74d45f",
   "metadata": {
    "papermill": {
     "duration": 0.010162,
     "end_time": "2022-07-09T07:31:06.310638",
     "exception": false,
     "start_time": "2022-07-09T07:31:06.300476",
     "status": "completed"
    },
    "tags": []
   },
   "source": [
    "#### Disjoint Set Union(DSU)"
   ]
  },
  {
   "cell_type": "code",
   "execution_count": 10,
   "id": "c1bc7492",
   "metadata": {
    "execution": {
     "iopub.execute_input": "2022-07-09T07:31:06.333905Z",
     "iopub.status.busy": "2022-07-09T07:31:06.332507Z",
     "iopub.status.idle": "2022-07-09T07:31:06.362057Z",
     "shell.execute_reply": "2022-07-09T07:31:06.360930Z"
    },
    "papermill": {
     "duration": 0.043339,
     "end_time": "2022-07-09T07:31:06.364161",
     "exception": false,
     "start_time": "2022-07-09T07:31:06.320822",
     "status": "completed"
    },
    "tags": []
   },
   "outputs": [
    {
     "name": "stdout",
     "output_type": "stream",
     "text": [
      "number of clusters reaches CLS_NUM_MIN: 7  break.\n"
     ]
    }
   ],
   "source": [
    "class DSU:\n",
    "    def __init__(self, node_end, unzipper):\n",
    "        self.par = [i for i in range(node_end)]\n",
    "        self.siz = [len(unzipper[i]) for i in range(node_end)]\n",
    "        self.cls_num = node_end  # To use the cls_num variable, we declared this class\n",
    "\n",
    "    def find(self, x):\n",
    "        if self.par[x] == x: return x\n",
    "        self.par[x] = self.find(self.par[x])\n",
    "        return self.par[x]\n",
    "\n",
    "    def union(self, x, y):\n",
    "        x = self.find(x)\n",
    "        y = self.find(y)\n",
    "        if x == y:\n",
    "            return\n",
    "        if self.siz[x] > self.siz[y]: x, y = y, x\n",
    "        self.par[x] = y\n",
    "        self.siz[y] += self.siz[x]\n",
    "        self.cls_num -= 1\n",
    "\n",
    "    def get_siz(self, x):\n",
    "        x = self.find(x)\n",
    "        return self.siz[x]\n",
    "\n",
    "dsu = DSU(node_end, unzipper)\n",
    "for w, fr, to in edge_list:\n",
    "    if (dsu.get_siz(fr)+dsu.get_siz(to)) > SIZ_MAX: continue\n",
    "    dsu.union(fr, to)\n",
    "    if dsu.cls_num <= CLS_NUM_MIN:\n",
    "        print(\"number of clusters reaches CLS_NUM_MIN: {}\".format(CLS_NUM_MIN), \" break.\")\n",
    "        break\n",
    "\n",
    "clusters_final = [0]*len(clusters_list[0])    \n",
    "for node in range(node_end):\n",
    "    cluster_id = dsu.find(node)\n",
    "    idx_list = unzipper[node]\n",
    "    for idx in idx_list:\n",
    "        clusters_final[idx] = cluster_id"
   ]
  },
  {
   "cell_type": "markdown",
   "id": "9f88929f",
   "metadata": {
    "papermill": {
     "duration": 0.010093,
     "end_time": "2022-07-09T07:31:06.384761",
     "exception": false,
     "start_time": "2022-07-09T07:31:06.374668",
     "status": "completed"
    },
    "tags": []
   },
   "source": [
    "compress cluster_final to replace it with an integer starting from 0."
   ]
  },
  {
   "cell_type": "code",
   "execution_count": 11,
   "id": "3af691ef",
   "metadata": {
    "execution": {
     "iopub.execute_input": "2022-07-09T07:31:06.407699Z",
     "iopub.status.busy": "2022-07-09T07:31:06.407001Z",
     "iopub.status.idle": "2022-07-09T07:31:06.419067Z",
     "shell.execute_reply": "2022-07-09T07:31:06.418389Z"
    },
    "papermill": {
     "duration": 0.026293,
     "end_time": "2022-07-09T07:31:06.421392",
     "exception": false,
     "start_time": "2022-07-09T07:31:06.395099",
     "status": "completed"
    },
    "tags": []
   },
   "outputs": [],
   "source": [
    "zipper = {x: i for i, x in enumerate(sorted(set(clusters_final)))}\n",
    "clusters_final = [zipper[x] for x in clusters_final]"
   ]
  },
  {
   "cell_type": "code",
   "execution_count": 12,
   "id": "5e2ab469",
   "metadata": {
    "execution": {
     "iopub.execute_input": "2022-07-09T07:31:06.443712Z",
     "iopub.status.busy": "2022-07-09T07:31:06.443264Z",
     "iopub.status.idle": "2022-07-09T07:31:06.450120Z",
     "shell.execute_reply": "2022-07-09T07:31:06.449476Z"
    },
    "papermill": {
     "duration": 0.020489,
     "end_time": "2022-07-09T07:31:06.452305",
     "exception": false,
     "start_time": "2022-07-09T07:31:06.431816",
     "status": "completed"
    },
    "tags": []
   },
   "outputs": [],
   "source": [
    "# https://www.kaggle.com/code/ambrosm/tpsjul22-gaussian-mixture-cluster-analysis\n",
    "def compare_clusterings(y1, y2, title=''):\n",
    "    \"\"\"Show the adjusted rand score and plot the two clusterings in color\"\"\"\n",
    "    ars = adjusted_rand_score(y1, y2)\n",
    "    n1 = y1.max() + 1\n",
    "    n2 = y2.max() + 1\n",
    "    argsort = np.argsort(y1*100 + y2) if n1 >= n2 else np.argsort(y2*100 + y1)\n",
    "    plt.figure(figsize=(16, 0.5))\n",
    "    for i in range(6, 11):\n",
    "        plt.scatter(np.arange(len(y1)), np.full_like(y1, i), c=y1[argsort], s=1, cmap='tab10')\n",
    "    for i in range(5):\n",
    "        plt.scatter(np.arange(len(y2)), np.full_like(y2, i), c=y2[argsort], s=1, cmap='tab10')\n",
    "    plt.gca().axis('off')\n",
    "    plt.title(f'{title}\\nAdjusted Rand score: {ars:.5f}')\n",
    "    plt.savefig(title + '.png', bbox_inches='tight')\n",
    "    plt.show()"
   ]
  },
  {
   "cell_type": "code",
   "execution_count": 13,
   "id": "db1fdd1e",
   "metadata": {
    "execution": {
     "iopub.execute_input": "2022-07-09T07:31:06.474981Z",
     "iopub.status.busy": "2022-07-09T07:31:06.474456Z",
     "iopub.status.idle": "2022-07-09T07:32:24.251352Z",
     "shell.execute_reply": "2022-07-09T07:32:24.250364Z"
    },
    "papermill": {
     "duration": 77.797106,
     "end_time": "2022-07-09T07:32:24.259811",
     "exception": false,
     "start_time": "2022-07-09T07:31:06.462705",
     "status": "completed"
    },
    "tags": []
   },
   "outputs": [
    {
     "data": {
      "image/png": "[encoded data removed]",
      "text/plain": [
       "<Figure size 1152x36 with 1 Axes>"
      ]
     },
     "metadata": {
      "needs_background": "light"
     },
     "output_type": "display_data"
    },
    {
     "data": {
      "image/png": "[encoded data removed]",
      "text/plain": [
       "<Figure size 1152x36 with 1 Axes>"
      ]
     },
     "metadata": {
      "needs_background": "light"
     },
     "output_type": "display_data"
    }
   ],
   "source": [
    "for clusters in clusters_list: compare_clusterings(np.array(clusters), np.array(clusters_final))"
   ]
  },
  {
   "cell_type": "code",
   "execution_count": 14,
   "id": "dcb00b66",
   "metadata": {
    "_cell_guid": "b1076dfc-b9ad-4769-8c92-a6c4dae69d19",
    "_uuid": "8f2839f25d086af736a60e9eeb907d3b93b6e0e5",
    "execution": {
     "iopub.execute_input": "2022-07-09T07:32:24.274681Z",
     "iopub.status.busy": "2022-07-09T07:32:24.274200Z",
     "iopub.status.idle": "2022-07-09T07:32:24.489883Z",
     "shell.execute_reply": "2022-07-09T07:32:24.488799Z"
    },
    "papermill": {
     "duration": 0.225899,
     "end_time": "2022-07-09T07:32:24.492372",
     "exception": false,
     "start_time": "2022-07-09T07:32:24.266473",
     "status": "completed"
    },
    "tags": []
   },
   "outputs": [
    {
     "data": {
      "text/html": [
       "<div>\n",
       "<style scoped>\n",
       "    .dataframe tbody tr th:only-of-type {\n",
       "        vertical-align: middle;\n",
       "    }\n",
       "\n",
       "    .dataframe tbody tr th {\n",
       "        vertical-align: top;\n",
       "    }\n",
       "\n",
       "    .dataframe thead th {\n",
       "        text-align: right;\n",
       "    }\n",
       "</style>\n",
       "<table border=\"1\" class=\"dataframe\">\n",
       "  <thead>\n",
       "    <tr style=\"text-align: right;\">\n",
       "      <th></th>\n",
       "      <th>Id</th>\n",
       "      <th>Predicted</th>\n",
       "    </tr>\n",
       "  </thead>\n",
       "  <tbody>\n",
       "    <tr>\n",
       "      <th>0</th>\n",
       "      <td>0</td>\n",
       "      <td>6</td>\n",
       "    </tr>\n",
       "    <tr>\n",
       "      <th>1</th>\n",
       "      <td>1</td>\n",
       "      <td>3</td>\n",
       "    </tr>\n",
       "    <tr>\n",
       "      <th>2</th>\n",
       "      <td>2</td>\n",
       "      <td>6</td>\n",
       "    </tr>\n",
       "    <tr>\n",
       "      <th>3</th>\n",
       "      <td>3</td>\n",
       "      <td>5</td>\n",
       "    </tr>\n",
       "    <tr>\n",
       "      <th>4</th>\n",
       "      <td>4</td>\n",
       "      <td>4</td>\n",
       "    </tr>\n",
       "    <tr>\n",
       "      <th>...</th>\n",
       "      <td>...</td>\n",
       "      <td>...</td>\n",
       "    </tr>\n",
       "    <tr>\n",
       "      <th>97995</th>\n",
       "      <td>97995</td>\n",
       "      <td>3</td>\n",
       "    </tr>\n",
       "    <tr>\n",
       "      <th>97996</th>\n",
       "      <td>97996</td>\n",
       "      <td>4</td>\n",
       "    </tr>\n",
       "    <tr>\n",
       "      <th>97997</th>\n",
       "      <td>97997</td>\n",
       "      <td>1</td>\n",
       "    </tr>\n",
       "    <tr>\n",
       "      <th>97998</th>\n",
       "      <td>97998</td>\n",
       "      <td>1</td>\n",
       "    </tr>\n",
       "    <tr>\n",
       "      <th>97999</th>\n",
       "      <td>97999</td>\n",
       "      <td>2</td>\n",
       "    </tr>\n",
       "  </tbody>\n",
       "</table>\n",
       "<p>98000 rows × 2 columns</p>\n",
       "</div>"
      ],
      "text/plain": [
       "          Id  Predicted\n",
       "0          0          6\n",
       "1          1          3\n",
       "2          2          6\n",
       "3          3          5\n",
       "4          4          4\n",
       "...      ...        ...\n",
       "97995  97995          3\n",
       "97996  97996          4\n",
       "97997  97997          1\n",
       "97998  97998          1\n",
       "97999  97999          2\n",
       "\n",
       "[98000 rows x 2 columns]"
      ]
     },
     "execution_count": 14,
     "metadata": {},
     "output_type": "execute_result"
    }
   ],
   "source": [
    "submission = pd.read_csv(\"../input/tabular-playground-series-jul-2022/sample_submission.csv\")\n",
    "submission[\"Predicted\"] = clusters_final\n",
    "submission.to_csv(\"submission.csv\", index=False)\n",
    "submission"
   ]
  },
  {
   "cell_type": "markdown",
   "id": "d99e535c",
   "metadata": {
    "papermill": {
     "duration": 0.010932,
     "end_time": "2022-07-09T07:32:24.514429",
     "exception": false,
     "start_time": "2022-07-09T07:32:24.503497",
     "status": "completed"
    },
    "tags": []
   },
   "source": [
    "_____"
   ]
  },
  {
   "cell_type": "markdown",
   "id": "59b1649c",
   "metadata": {
    "papermill": {
     "duration": 0.011071,
     "end_time": "2022-07-09T07:32:24.536866",
     "exception": false,
     "start_time": "2022-07-09T07:32:24.525795",
     "status": "completed"
    },
    "tags": []
   },
   "source": [
    "### Single Function\n",
    "##### Let's make a single functions out of all of this - for ease of use"
   ]
  },
  {
   "cell_type": "code",
   "execution_count": 15,
   "id": "e25a5c69",
   "metadata": {
    "execution": {
     "iopub.execute_input": "2022-07-09T07:32:24.561836Z",
     "iopub.status.busy": "2022-07-09T07:32:24.561315Z",
     "iopub.status.idle": "2022-07-09T07:32:24.585561Z",
     "shell.execute_reply": "2022-07-09T07:32:24.584898Z"
    },
    "papermill": {
     "duration": 0.039724,
     "end_time": "2022-07-09T07:32:24.587958",
     "exception": false,
     "start_time": "2022-07-09T07:32:24.548234",
     "status": "completed"
    },
    "tags": []
   },
   "outputs": [],
   "source": [
    "# Copy this cell wherever you want without thinking 👌\n",
    "\n",
    "# (I sacrifice readability and devise ways to make memory errors less likely to occur.)\n",
    "import numpy as np\n",
    "import pandas as pd\n",
    "from tqdm import trange\n",
    "from tqdm import tqdm\n",
    "import matplotlib.pyplot as plt\n",
    "from sklearn.cluster import KMeans\n",
    "from collections import defaultdict\n",
    "from scipy.sparse import csr_matrix\n",
    "from sklearn.mixture import GaussianMixture\n",
    "from sklearn.metrics import adjusted_rand_score\n",
    "\n",
    "def clustering_ensemble(clusters_list, weights = None, threshold = 0.5, size_max = 18000, cls_num_min = 7):\n",
    "    \"\"\"\n",
    "    Parameters: \n",
    "                clusters_list:  List of numpy arrays, representing the cluster_id of each data point\n",
    "                weights:        List representing the voting weight, for example = [0.5, 0.5]. default None (uses uniform weights)\n",
    "                threshold:      float(0.0, 1.0), the threshold for determining an edge in the sparse matrix, default 0.5\n",
    "                size_max:       The maximum size of a cluster, default 18000\n",
    "                cls_num_min:    The minimum number of clusters, default 7\n",
    "    Returns: \n",
    "                clusters_final: An ensemble of the clustering algorithms predictions.\n",
    "    weights: Where the ensemble results are the same as before the ensemble, when it does not work, tweaking here may work.\n",
    "    threshold: The larger the larger, the faster; If you don't have enough memory, try making it bigger.\n",
    "    \"\"\"\n",
    "    # zip same cluster.\n",
    "    cls_tup_list = []\n",
    "    for cls_tup in zip(*clusters_list):\n",
    "        cls_tup_list.append(cls_tup)\n",
    "    zipper = {x: i for i, x in enumerate(sorted(set(cls_tup_list)))}\n",
    "    zipped_list = [zipper[x] for x in cls_tup_list]\n",
    "    unzipper = defaultdict(set)\n",
    "    for idx, cls_tup in enumerate(cls_tup_list):\n",
    "        zipped = zipper[cls_tup]\n",
    "        unzipper[zipped].add(idx)\n",
    "    comp_clusters_list = [[-1]*len(zipper) for _ in range(len(clusters_list))]\n",
    "    node_end = len(comp_clusters_list[0])\n",
    "    print(node_end)\n",
    "    for clusters, comp_clusters in zip(clusters_list, comp_clusters_list):\n",
    "        for i, cluster_i in enumerate(clusters):\n",
    "                value = zipped_list[i]\n",
    "                comp_clusters[value] = cluster_i             \n",
    "    # calc adjacency matrix(sparse). and calc score(weighted average)\n",
    "    # memory error. OMG. I created my own simple. I believe that the reduction in space computation by creating the system by oneself is more advantageous than the constant-doubling speed-up by numpy.\n",
    "    def create_sparse_matrix(clusters):\n",
    "        sparse = defaultdict(lambda :defaultdict(int))  # High speed by utilizing cache memory. sparse[(node1, node2)] is slow.\n",
    "        # if clusters[node1] == clusters[node2] then sparse[node1][node2] = 1\n",
    "        cluster_idx_of = defaultdict(set)  # cls_inx_of[clster] = set(idx)\n",
    "        for idx, cluster in enumerate(clusters):\n",
    "            cluster_idx_of[cluster].add(idx)\n",
    "        for cluster, idx_list in cluster_idx_of.items():\n",
    "            for node1 in idx_list:\n",
    "                for node2 in idx_list:\n",
    "                    sparse[node1][node2] = 1\n",
    "        return sparse\n",
    "    sparse_matrix_list = [create_sparse_matrix(comp_clusters) for comp_clusters in tqdm(comp_clusters_list)]\n",
    "    if weights is None: weights = [1 / len(sparse_matrix_list) for i in range(len(sparse_matrix_list))]\n",
    "    weights = np.asarray(weights) / np.sum(weights)\n",
    "    # Define edge_list (val, node1, node2).\n",
    "    # However, if you do it normally, there is not enough memory because sparse_matrix_mean is not sparse. By processing every node1, the amount of space calculation is greatly reduced.\n",
    "    edge_list = []  # [(val, node1, node2), ...]\n",
    "    for node1 in trange(node_end):\n",
    "        sparse_matrix_mean = defaultdict(int)\n",
    "        for sparce_matrix, weight in zip(sparse_matrix_list, weights):\n",
    "            col = sparce_matrix[node1]\n",
    "            for node2, val in col.items():\n",
    "                sparse_matrix_mean[node2] += val*weight\n",
    "            for node2, val in sparse_matrix_mean.items():\n",
    "                if val < threshold or node1 >= node2:\n",
    "                    continue\n",
    "                edge_list.append((val, node1, node2))\n",
    "    edge_list.sort(reverse=True)\n",
    "    class DSU:\n",
    "        def __init__(self, node_end, unzipper):\n",
    "            self.par = [i for i in range(node_end)]\n",
    "            self.siz = [len(unzipper[i]) for i in range(node_end)]\n",
    "            self.cls_num = node_end  # To use the cls_num variable, we declared this class\n",
    "        def find(self, x):\n",
    "            if self.par[x] == x: return x\n",
    "            self.par[x] = self.find(self.par[x])\n",
    "            return self.par[x]\n",
    "        def union(self, x, y):\n",
    "            x = self.find(x)\n",
    "            y = self.find(y)\n",
    "            if x == y:\n",
    "                return\n",
    "            if self.siz[x] > self.siz[y]: x, y = y, x\n",
    "            self.par[x] = y\n",
    "            self.siz[y] += self.siz[x]\n",
    "            self.cls_num -= 1\n",
    "        def get_siz(self, x):\n",
    "            x = self.find(x)\n",
    "            return self.siz[x]\n",
    "    dsu = DSU(node_end, unzipper)\n",
    "    for w, fr, to in edge_list:\n",
    "        if (dsu.get_siz(fr)+dsu.get_siz(to)) > size_max: continue\n",
    "        dsu.union(fr, to)\n",
    "        if dsu.cls_num <= cls_num_min:\n",
    "            print(\"number of clusters reaches cls_num_min: {}\".format(cls_num_min), \" break.\")\n",
    "            break\n",
    "    # Unzip the zipped array.\n",
    "    clusters_final = [0]*len(clusters_list[0])    \n",
    "    for node in range(node_end):\n",
    "        cluster_id = dsu.find(node)\n",
    "        idx_list = unzipper[node]\n",
    "        for idx in idx_list:\n",
    "            clusters_final[idx] = cluster_id\n",
    "    # Renumbered for easier viewing.\n",
    "    zipper = {x: i for i, x in enumerate(sorted(set(clusters_final)))}\n",
    "    clusters_final = [zipper[x] for x in clusters_final]            \n",
    "    return clusters_final\n",
    "\n",
    "# Not relevant for ensembles, but if you want to check the result, copy the following as well\n",
    "# https://www.kaggle.com/code/ambrosm/tpsjul22-gaussian-mixture-cluster-analysis\n",
    "def compare_clusterings(y1, y2, title=''):\n",
    "    \"\"\"Show the adjusted rand score and plot the two clusterings in color\"\"\"\n",
    "    ars = adjusted_rand_score(y1, y2)\n",
    "    n1 = y1.max() + 1\n",
    "    n2 = y2.max() + 1\n",
    "    argsort = np.argsort(y1*100 + y2) if n1 >= n2 else np.argsort(y2*100 + y1)\n",
    "    plt.figure(figsize=(16, 0.5))\n",
    "    for i in range(6, 11):\n",
    "        plt.scatter(np.arange(len(y1)), np.full_like(y1, i), c=y1[argsort], s=1, cmap='tab10')\n",
    "    for i in range(5):\n",
    "        plt.scatter(np.arange(len(y2)), np.full_like(y2, i), c=y2[argsort], s=1, cmap='tab10')\n",
    "    plt.gca().axis('off')\n",
    "    plt.title(f'{title}\\nAdjusted Rand score: {ars:.5f}')\n",
    "    plt.savefig(title + '.png', bbox_inches='tight')\n",
    "    plt.show()"
   ]
  },
  {
   "cell_type": "markdown",
   "id": "1d74a810",
   "metadata": {
    "papermill": {
     "duration": 0.010732,
     "end_time": "2022-07-09T07:32:24.610170",
     "exception": false,
     "start_time": "2022-07-09T07:32:24.599438",
     "status": "completed"
    },
    "tags": []
   },
   "source": [
    "### Simple usage example"
   ]
  },
  {
   "cell_type": "code",
   "execution_count": 16,
   "id": "6676b53f",
   "metadata": {
    "execution": {
     "iopub.execute_input": "2022-07-09T07:32:24.634520Z",
     "iopub.status.busy": "2022-07-09T07:32:24.633979Z",
     "iopub.status.idle": "2022-07-09T07:34:53.866375Z",
     "shell.execute_reply": "2022-07-09T07:34:53.865413Z"
    },
    "papermill": {
     "duration": 149.259643,
     "end_time": "2022-07-09T07:34:53.881059",
     "exception": false,
     "start_time": "2022-07-09T07:32:24.621416",
     "status": "completed"
    },
    "tags": []
   },
   "outputs": [
    {
     "name": "stdout",
     "output_type": "stream",
     "text": [
      "72\n"
     ]
    },
    {
     "name": "stderr",
     "output_type": "stream",
     "text": [
      "100%|██████████| 4/4 [00:00<00:00, 7145.32it/s]\n",
      "100%|██████████| 72/72 [00:00<00:00, 10718.74it/s]"
     ]
    },
    {
     "name": "stdout",
     "output_type": "stream",
     "text": [
      "number of clusters reaches cls_num_min: 7  break.\n"
     ]
    },
    {
     "name": "stderr",
     "output_type": "stream",
     "text": [
      "\n"
     ]
    },
    {
     "data": {
      "image/png": "[encoded data removed]",
      "text/plain": [
       "<Figure size 1152x36 with 1 Axes>"
      ]
     },
     "metadata": {
      "needs_background": "light"
     },
     "output_type": "display_data"
    },
    {
     "data": {
      "image/png": "[encoded data removed]",
      "text/plain": [
       "<Figure size 1152x36 with 1 Axes>"
      ]
     },
     "metadata": {
      "needs_background": "light"
     },
     "output_type": "display_data"
    },
    {
     "data": {
      "image/png": "[encoded data removed]",
      "text/plain": [
       "<Figure size 1152x36 with 1 Axes>"
      ]
     },
     "metadata": {
      "needs_background": "light"
     },
     "output_type": "display_data"
    },
    {
     "data": {
      "image/png": "[encoded data removed]",
      "text/plain": [
       "<Figure size 1152x36 with 1 Axes>"
      ]
     },
     "metadata": {
      "needs_background": "light"
     },
     "output_type": "display_data"
    }
   ],
   "source": [
    "clusters_1 = pd.read_csv(\"../input/tps-high-scoring-subs/sub_1.csv\")[\"Predicted\"]\n",
    "clusters_2 = pd.read_csv(\"../input/tps-high-scoring-subs/sub_2.csv\")[\"Predicted\"]\n",
    "clusters_3 = pd.read_csv(\"../input/tps-high-scoring-subs/sub_3.csv\")[\"Predicted\"]\n",
    "clusters_4 = pd.read_csv(\"../input/tps-high-scoring-subs/sub_4.csv\")[\"Predicted\"]\n",
    "\n",
    "clusters_list = [clusters_1, clusters_2, clusters_3, clusters_4]\n",
    "\n",
    "ensemble_preds = clustering_ensemble(clusters_list, weights = None, threshold=0.1)\n",
    "\n",
    "for clusters in clusters_list: compare_clusterings(np.array(clusters), np.array(ensemble_preds))"
   ]
  },
  {
   "cell_type": "markdown",
   "id": "7f74f6a4",
   "metadata": {
    "papermill": {
     "duration": 0.013009,
     "end_time": "2022-07-09T07:34:53.907513",
     "exception": false,
     "start_time": "2022-07-09T07:34:53.894504",
     "status": "completed"
    },
    "tags": []
   },
   "source": [
    "### Submission"
   ]
  },
  {
   "cell_type": "code",
   "execution_count": 17,
   "id": "7514ae78",
   "metadata": {
    "execution": {
     "iopub.execute_input": "2022-07-09T07:34:53.936179Z",
     "iopub.status.busy": "2022-07-09T07:34:53.935595Z",
     "iopub.status.idle": "2022-07-09T07:34:54.073289Z",
     "shell.execute_reply": "2022-07-09T07:34:54.072256Z"
    },
    "papermill": {
     "duration": 0.15397,
     "end_time": "2022-07-09T07:34:54.075155",
     "exception": false,
     "start_time": "2022-07-09T07:34:53.921185",
     "status": "completed"
    },
    "tags": []
   },
   "outputs": [
    {
     "data": {
      "text/html": [
       "<div>\n",
       "<style scoped>\n",
       "    .dataframe tbody tr th:only-of-type {\n",
       "        vertical-align: middle;\n",
       "    }\n",
       "\n",
       "    .dataframe tbody tr th {\n",
       "        vertical-align: top;\n",
       "    }\n",
       "\n",
       "    .dataframe thead th {\n",
       "        text-align: right;\n",
       "    }\n",
       "</style>\n",
       "<table border=\"1\" class=\"dataframe\">\n",
       "  <thead>\n",
       "    <tr style=\"text-align: right;\">\n",
       "      <th></th>\n",
       "      <th>Id</th>\n",
       "      <th>Predicted</th>\n",
       "    </tr>\n",
       "  </thead>\n",
       "  <tbody>\n",
       "    <tr>\n",
       "      <th>0</th>\n",
       "      <td>0</td>\n",
       "      <td>4</td>\n",
       "    </tr>\n",
       "    <tr>\n",
       "      <th>1</th>\n",
       "      <td>1</td>\n",
       "      <td>6</td>\n",
       "    </tr>\n",
       "    <tr>\n",
       "      <th>2</th>\n",
       "      <td>2</td>\n",
       "      <td>4</td>\n",
       "    </tr>\n",
       "    <tr>\n",
       "      <th>3</th>\n",
       "      <td>3</td>\n",
       "      <td>5</td>\n",
       "    </tr>\n",
       "    <tr>\n",
       "      <th>4</th>\n",
       "      <td>4</td>\n",
       "      <td>3</td>\n",
       "    </tr>\n",
       "    <tr>\n",
       "      <th>...</th>\n",
       "      <td>...</td>\n",
       "      <td>...</td>\n",
       "    </tr>\n",
       "    <tr>\n",
       "      <th>97995</th>\n",
       "      <td>97995</td>\n",
       "      <td>6</td>\n",
       "    </tr>\n",
       "    <tr>\n",
       "      <th>97996</th>\n",
       "      <td>97996</td>\n",
       "      <td>2</td>\n",
       "    </tr>\n",
       "    <tr>\n",
       "      <th>97997</th>\n",
       "      <td>97997</td>\n",
       "      <td>1</td>\n",
       "    </tr>\n",
       "    <tr>\n",
       "      <th>97998</th>\n",
       "      <td>97998</td>\n",
       "      <td>0</td>\n",
       "    </tr>\n",
       "    <tr>\n",
       "      <th>97999</th>\n",
       "      <td>97999</td>\n",
       "      <td>2</td>\n",
       "    </tr>\n",
       "  </tbody>\n",
       "</table>\n",
       "<p>98000 rows × 2 columns</p>\n",
       "</div>"
      ],
      "text/plain": [
       "          Id  Predicted\n",
       "0          0          4\n",
       "1          1          6\n",
       "2          2          4\n",
       "3          3          5\n",
       "4          4          3\n",
       "...      ...        ...\n",
       "97995  97995          6\n",
       "97996  97996          2\n",
       "97997  97997          1\n",
       "97998  97998          0\n",
       "97999  97999          2\n",
       "\n",
       "[98000 rows x 2 columns]"
      ]
     },
     "execution_count": 17,
     "metadata": {},
     "output_type": "execute_result"
    }
   ],
   "source": [
    "submission = pd.read_csv(\"../input/tabular-playground-series-jul-2022/sample_submission.csv\")\n",
    "submission[\"Predicted\"] = ensemble_preds\n",
    "submission.to_csv(\"submission.csv\", index=False)\n",
    "submission"
   ]
  }
 ],
 "metadata": {
  "kernelspec": {
   "display_name": "Python 3",
   "language": "python",
   "name": "python3"
  },
  "language_info": {
   "codemirror_mode": {
    "name": "ipython",
    "version": 3
   },
   "file_extension": ".py",
   "mimetype": "text/x-python",
   "name": "python",
   "nbconvert_exporter": "python",
   "pygments_lexer": "ipython3",
   "version": "3.7.12"
  },
  "papermill": {
   "default_parameters": {},
   "duration": 255.787677,
   "end_time": "2022-07-09T07:34:55.105302",
   "environment_variables": {},
   "exception": null,
   "input_path": "__notebook__.ipynb",
   "output_path": "__notebook__.ipynb",
   "parameters": {},
   "start_time": "2022-07-09T07:30:39.317625",
   "version": "2.3.4"
  }
 },
 "nbformat": 4,
 "nbformat_minor": 5
}
