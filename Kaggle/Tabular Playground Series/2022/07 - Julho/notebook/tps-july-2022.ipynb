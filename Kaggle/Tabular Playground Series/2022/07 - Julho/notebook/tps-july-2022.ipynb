{
 "cells": [
  {
   "cell_type": "markdown",
   "id": "0980e9f5",
   "metadata": {
    "papermill": {
     "duration": 0.007174,
     "end_time": "2022-07-02T16:03:00.598206",
     "exception": false,
     "start_time": "2022-07-02T16:03:00.591032",
     "status": "completed"
    },
    "tags": []
   },
   "source": [
    "# Importing Libraries and Loading datasets"
   ]
  },
  {
   "cell_type": "code",
   "execution_count": 1,
   "id": "1c4f3404",
   "metadata": {
    "_cell_guid": "b1076dfc-b9ad-4769-8c92-a6c4dae69d19",
    "_kg_hide-input": true,
    "_uuid": "8f2839f25d086af736a60e9eeb907d3b93b6e0e5",
    "execution": {
     "iopub.execute_input": "2022-07-02T16:03:00.612793Z",
     "iopub.status.busy": "2022-07-02T16:03:00.612215Z",
     "iopub.status.idle": "2022-07-02T16:03:02.184320Z",
     "shell.execute_reply": "2022-07-02T16:03:02.183423Z"
    },
    "papermill": {
     "duration": 1.582466,
     "end_time": "2022-07-02T16:03:02.187087",
     "exception": false,
     "start_time": "2022-07-02T16:03:00.604621",
     "status": "completed"
    },
    "tags": []
   },
   "outputs": [],
   "source": [
    "import os\n",
    "import random\n",
    "import numpy as np\n",
    "import pandas as pd\n",
    "\n",
    "from sklearn.cluster import KMeans\n",
    "from sklearn.mixture import GaussianMixture\n",
    "from sklearn.preprocessing import StandardScaler\n",
    "from yellowbrick.cluster import KElbowVisualizer"
   ]
  },
  {
   "cell_type": "code",
   "execution_count": 2,
   "id": "da53f28f",
   "metadata": {
    "execution": {
     "iopub.execute_input": "2022-07-02T16:03:02.197584Z",
     "iopub.status.busy": "2022-07-02T16:03:02.197023Z",
     "iopub.status.idle": "2022-07-02T16:03:03.340411Z",
     "shell.execute_reply": "2022-07-02T16:03:03.339433Z"
    },
    "papermill": {
     "duration": 1.150688,
     "end_time": "2022-07-02T16:03:03.342588",
     "exception": false,
     "start_time": "2022-07-02T16:03:02.191900",
     "status": "completed"
    },
    "tags": []
   },
   "outputs": [],
   "source": [
    "data = pd.read_csv(\"../input/tabular-playground-series-jul-2022/data.csv\", index_col=0)\n",
    "submission = pd.read_csv(\"../input/tabular-playground-series-jul-2022/sample_submission.csv\")"
   ]
  },
  {
   "cell_type": "markdown",
   "id": "6c6ac905",
   "metadata": {
    "papermill": {
     "duration": 0.003835,
     "end_time": "2022-07-02T16:03:03.350575",
     "exception": false,
     "start_time": "2022-07-02T16:03:03.346740",
     "status": "completed"
    },
    "tags": []
   },
   "source": [
    "# Explore Data"
   ]
  },
  {
   "cell_type": "code",
   "execution_count": 3,
   "id": "61cf45fb",
   "metadata": {
    "_kg_hide-input": true,
    "execution": {
     "iopub.execute_input": "2022-07-02T16:03:03.361201Z",
     "iopub.status.busy": "2022-07-02T16:03:03.360826Z",
     "iopub.status.idle": "2022-07-02T16:03:03.397191Z",
     "shell.execute_reply": "2022-07-02T16:03:03.395891Z"
    },
    "papermill": {
     "duration": 0.043949,
     "end_time": "2022-07-02T16:03:03.399489",
     "exception": false,
     "start_time": "2022-07-02T16:03:03.355540",
     "status": "completed"
    },
    "tags": []
   },
   "outputs": [
    {
     "data": {
      "text/html": [
       "<div>\n",
       "<style scoped>\n",
       "    .dataframe tbody tr th:only-of-type {\n",
       "        vertical-align: middle;\n",
       "    }\n",
       "\n",
       "    .dataframe tbody tr th {\n",
       "        vertical-align: top;\n",
       "    }\n",
       "\n",
       "    .dataframe thead th {\n",
       "        text-align: right;\n",
       "    }\n",
       "</style>\n",
       "<table border=\"1\" class=\"dataframe\">\n",
       "  <thead>\n",
       "    <tr style=\"text-align: right;\">\n",
       "      <th></th>\n",
       "      <th>f_00</th>\n",
       "      <th>f_01</th>\n",
       "      <th>f_02</th>\n",
       "      <th>f_03</th>\n",
       "      <th>f_04</th>\n",
       "      <th>f_05</th>\n",
       "      <th>f_06</th>\n",
       "      <th>f_07</th>\n",
       "      <th>f_08</th>\n",
       "      <th>f_09</th>\n",
       "      <th>...</th>\n",
       "      <th>f_19</th>\n",
       "      <th>f_20</th>\n",
       "      <th>f_21</th>\n",
       "      <th>f_22</th>\n",
       "      <th>f_23</th>\n",
       "      <th>f_24</th>\n",
       "      <th>f_25</th>\n",
       "      <th>f_26</th>\n",
       "      <th>f_27</th>\n",
       "      <th>f_28</th>\n",
       "    </tr>\n",
       "    <tr>\n",
       "      <th>id</th>\n",
       "      <th></th>\n",
       "      <th></th>\n",
       "      <th></th>\n",
       "      <th></th>\n",
       "      <th></th>\n",
       "      <th></th>\n",
       "      <th></th>\n",
       "      <th></th>\n",
       "      <th></th>\n",
       "      <th></th>\n",
       "      <th></th>\n",
       "      <th></th>\n",
       "      <th></th>\n",
       "      <th></th>\n",
       "      <th></th>\n",
       "      <th></th>\n",
       "      <th></th>\n",
       "      <th></th>\n",
       "      <th></th>\n",
       "      <th></th>\n",
       "      <th></th>\n",
       "    </tr>\n",
       "  </thead>\n",
       "  <tbody>\n",
       "    <tr>\n",
       "      <th>0</th>\n",
       "      <td>-0.389420</td>\n",
       "      <td>-0.912791</td>\n",
       "      <td>0.648951</td>\n",
       "      <td>0.589045</td>\n",
       "      <td>-0.830817</td>\n",
       "      <td>0.733624</td>\n",
       "      <td>2.258560</td>\n",
       "      <td>2</td>\n",
       "      <td>13</td>\n",
       "      <td>14</td>\n",
       "      <td>...</td>\n",
       "      <td>-0.478412</td>\n",
       "      <td>-0.757002</td>\n",
       "      <td>-0.763635</td>\n",
       "      <td>-1.090369</td>\n",
       "      <td>1.142641</td>\n",
       "      <td>-0.884274</td>\n",
       "      <td>1.137896</td>\n",
       "      <td>1.309073</td>\n",
       "      <td>1.463002</td>\n",
       "      <td>0.813527</td>\n",
       "    </tr>\n",
       "    <tr>\n",
       "      <th>1</th>\n",
       "      <td>-0.689249</td>\n",
       "      <td>-0.453954</td>\n",
       "      <td>0.654175</td>\n",
       "      <td>0.995248</td>\n",
       "      <td>-1.653020</td>\n",
       "      <td>0.863810</td>\n",
       "      <td>-0.090651</td>\n",
       "      <td>2</td>\n",
       "      <td>3</td>\n",
       "      <td>6</td>\n",
       "      <td>...</td>\n",
       "      <td>-0.428791</td>\n",
       "      <td>-0.089908</td>\n",
       "      <td>-1.784204</td>\n",
       "      <td>-0.839474</td>\n",
       "      <td>0.459685</td>\n",
       "      <td>1.759412</td>\n",
       "      <td>-0.275422</td>\n",
       "      <td>-0.852168</td>\n",
       "      <td>0.562457</td>\n",
       "      <td>-2.680541</td>\n",
       "    </tr>\n",
       "    <tr>\n",
       "      <th>2</th>\n",
       "      <td>0.809079</td>\n",
       "      <td>0.324568</td>\n",
       "      <td>-1.170602</td>\n",
       "      <td>-0.624491</td>\n",
       "      <td>0.105448</td>\n",
       "      <td>0.783948</td>\n",
       "      <td>1.988301</td>\n",
       "      <td>5</td>\n",
       "      <td>11</td>\n",
       "      <td>5</td>\n",
       "      <td>...</td>\n",
       "      <td>-0.413534</td>\n",
       "      <td>-1.602377</td>\n",
       "      <td>1.190984</td>\n",
       "      <td>3.267116</td>\n",
       "      <td>-0.088322</td>\n",
       "      <td>-2.168635</td>\n",
       "      <td>-0.974989</td>\n",
       "      <td>1.335763</td>\n",
       "      <td>-1.110655</td>\n",
       "      <td>-3.630723</td>\n",
       "    </tr>\n",
       "    <tr>\n",
       "      <th>3</th>\n",
       "      <td>-0.500923</td>\n",
       "      <td>0.229049</td>\n",
       "      <td>0.264109</td>\n",
       "      <td>0.231520</td>\n",
       "      <td>0.415012</td>\n",
       "      <td>-1.221269</td>\n",
       "      <td>0.138850</td>\n",
       "      <td>6</td>\n",
       "      <td>2</td>\n",
       "      <td>13</td>\n",
       "      <td>...</td>\n",
       "      <td>0.619283</td>\n",
       "      <td>1.287801</td>\n",
       "      <td>0.532837</td>\n",
       "      <td>1.036631</td>\n",
       "      <td>-2.041828</td>\n",
       "      <td>1.440490</td>\n",
       "      <td>-1.900191</td>\n",
       "      <td>-0.630771</td>\n",
       "      <td>-0.050641</td>\n",
       "      <td>0.238333</td>\n",
       "    </tr>\n",
       "    <tr>\n",
       "      <th>4</th>\n",
       "      <td>-0.671268</td>\n",
       "      <td>-1.039533</td>\n",
       "      <td>-0.270155</td>\n",
       "      <td>-1.830264</td>\n",
       "      <td>-0.290108</td>\n",
       "      <td>-1.852809</td>\n",
       "      <td>0.781898</td>\n",
       "      <td>8</td>\n",
       "      <td>7</td>\n",
       "      <td>5</td>\n",
       "      <td>...</td>\n",
       "      <td>-1.628830</td>\n",
       "      <td>-0.434948</td>\n",
       "      <td>0.322505</td>\n",
       "      <td>0.284326</td>\n",
       "      <td>-2.438365</td>\n",
       "      <td>1.473930</td>\n",
       "      <td>-1.044684</td>\n",
       "      <td>1.602686</td>\n",
       "      <td>-0.405263</td>\n",
       "      <td>-1.987263</td>\n",
       "    </tr>\n",
       "  </tbody>\n",
       "</table>\n",
       "<p>5 rows × 29 columns</p>\n",
       "</div>"
      ],
      "text/plain": [
       "        f_00      f_01      f_02      f_03      f_04      f_05      f_06  \\\n",
       "id                                                                         \n",
       "0  -0.389420 -0.912791  0.648951  0.589045 -0.830817  0.733624  2.258560   \n",
       "1  -0.689249 -0.453954  0.654175  0.995248 -1.653020  0.863810 -0.090651   \n",
       "2   0.809079  0.324568 -1.170602 -0.624491  0.105448  0.783948  1.988301   \n",
       "3  -0.500923  0.229049  0.264109  0.231520  0.415012 -1.221269  0.138850   \n",
       "4  -0.671268 -1.039533 -0.270155 -1.830264 -0.290108 -1.852809  0.781898   \n",
       "\n",
       "    f_07  f_08  f_09  ...      f_19      f_20      f_21      f_22      f_23  \\\n",
       "id                    ...                                                     \n",
       "0      2    13    14  ... -0.478412 -0.757002 -0.763635 -1.090369  1.142641   \n",
       "1      2     3     6  ... -0.428791 -0.089908 -1.784204 -0.839474  0.459685   \n",
       "2      5    11     5  ... -0.413534 -1.602377  1.190984  3.267116 -0.088322   \n",
       "3      6     2    13  ...  0.619283  1.287801  0.532837  1.036631 -2.041828   \n",
       "4      8     7     5  ... -1.628830 -0.434948  0.322505  0.284326 -2.438365   \n",
       "\n",
       "        f_24      f_25      f_26      f_27      f_28  \n",
       "id                                                    \n",
       "0  -0.884274  1.137896  1.309073  1.463002  0.813527  \n",
       "1   1.759412 -0.275422 -0.852168  0.562457 -2.680541  \n",
       "2  -2.168635 -0.974989  1.335763 -1.110655 -3.630723  \n",
       "3   1.440490 -1.900191 -0.630771 -0.050641  0.238333  \n",
       "4   1.473930 -1.044684  1.602686 -0.405263 -1.987263  \n",
       "\n",
       "[5 rows x 29 columns]"
      ]
     },
     "execution_count": 3,
     "metadata": {},
     "output_type": "execute_result"
    }
   ],
   "source": [
    "data.head()"
   ]
  },
  {
   "cell_type": "code",
   "execution_count": 4,
   "id": "42fe6a4c",
   "metadata": {
    "_kg_hide-input": true,
    "execution": {
     "iopub.execute_input": "2022-07-02T16:03:03.415294Z",
     "iopub.status.busy": "2022-07-02T16:03:03.414994Z",
     "iopub.status.idle": "2022-07-02T16:03:03.597051Z",
     "shell.execute_reply": "2022-07-02T16:03:03.595842Z"
    },
    "papermill": {
     "duration": 0.192818,
     "end_time": "2022-07-02T16:03:03.599418",
     "exception": false,
     "start_time": "2022-07-02T16:03:03.406600",
     "status": "completed"
    },
    "tags": []
   },
   "outputs": [
    {
     "data": {
      "text/html": [
       "<div>\n",
       "<style scoped>\n",
       "    .dataframe tbody tr th:only-of-type {\n",
       "        vertical-align: middle;\n",
       "    }\n",
       "\n",
       "    .dataframe tbody tr th {\n",
       "        vertical-align: top;\n",
       "    }\n",
       "\n",
       "    .dataframe thead th {\n",
       "        text-align: right;\n",
       "    }\n",
       "</style>\n",
       "<table border=\"1\" class=\"dataframe\">\n",
       "  <thead>\n",
       "    <tr style=\"text-align: right;\">\n",
       "      <th></th>\n",
       "      <th>f_00</th>\n",
       "      <th>f_01</th>\n",
       "      <th>f_02</th>\n",
       "      <th>f_03</th>\n",
       "      <th>f_04</th>\n",
       "      <th>f_05</th>\n",
       "      <th>f_06</th>\n",
       "      <th>f_07</th>\n",
       "      <th>f_08</th>\n",
       "      <th>f_09</th>\n",
       "      <th>...</th>\n",
       "      <th>f_19</th>\n",
       "      <th>f_20</th>\n",
       "      <th>f_21</th>\n",
       "      <th>f_22</th>\n",
       "      <th>f_23</th>\n",
       "      <th>f_24</th>\n",
       "      <th>f_25</th>\n",
       "      <th>f_26</th>\n",
       "      <th>f_27</th>\n",
       "      <th>f_28</th>\n",
       "    </tr>\n",
       "  </thead>\n",
       "  <tbody>\n",
       "    <tr>\n",
       "      <th>count</th>\n",
       "      <td>98000.000000</td>\n",
       "      <td>98000.000000</td>\n",
       "      <td>98000.000000</td>\n",
       "      <td>98000.000000</td>\n",
       "      <td>98000.000000</td>\n",
       "      <td>98000.000000</td>\n",
       "      <td>98000.000000</td>\n",
       "      <td>98000.000000</td>\n",
       "      <td>98000.000000</td>\n",
       "      <td>98000.000000</td>\n",
       "      <td>...</td>\n",
       "      <td>98000.000000</td>\n",
       "      <td>98000.000000</td>\n",
       "      <td>98000.000000</td>\n",
       "      <td>98000.000000</td>\n",
       "      <td>98000.000000</td>\n",
       "      <td>98000.000000</td>\n",
       "      <td>98000.000000</td>\n",
       "      <td>98000.000000</td>\n",
       "      <td>98000.000000</td>\n",
       "      <td>98000.000000</td>\n",
       "    </tr>\n",
       "    <tr>\n",
       "      <th>mean</th>\n",
       "      <td>0.001220</td>\n",
       "      <td>0.005580</td>\n",
       "      <td>-0.001042</td>\n",
       "      <td>-0.000700</td>\n",
       "      <td>-0.003522</td>\n",
       "      <td>-0.001612</td>\n",
       "      <td>-0.003042</td>\n",
       "      <td>5.545918</td>\n",
       "      <td>6.763061</td>\n",
       "      <td>8.193163</td>\n",
       "      <td>...</td>\n",
       "      <td>-0.004513</td>\n",
       "      <td>-0.000515</td>\n",
       "      <td>-0.001670</td>\n",
       "      <td>-0.038752</td>\n",
       "      <td>-0.220002</td>\n",
       "      <td>0.166434</td>\n",
       "      <td>-0.064309</td>\n",
       "      <td>-0.062540</td>\n",
       "      <td>0.098472</td>\n",
       "      <td>-0.230910</td>\n",
       "    </tr>\n",
       "    <tr>\n",
       "      <th>std</th>\n",
       "      <td>1.002801</td>\n",
       "      <td>1.000742</td>\n",
       "      <td>1.001373</td>\n",
       "      <td>1.000422</td>\n",
       "      <td>1.003061</td>\n",
       "      <td>1.000532</td>\n",
       "      <td>0.997434</td>\n",
       "      <td>3.691840</td>\n",
       "      <td>4.152348</td>\n",
       "      <td>5.904919</td>\n",
       "      <td>...</td>\n",
       "      <td>1.004372</td>\n",
       "      <td>1.002962</td>\n",
       "      <td>0.999703</td>\n",
       "      <td>1.477858</td>\n",
       "      <td>1.494836</td>\n",
       "      <td>1.543014</td>\n",
       "      <td>1.576086</td>\n",
       "      <td>1.428055</td>\n",
       "      <td>1.305407</td>\n",
       "      <td>1.528476</td>\n",
       "    </tr>\n",
       "    <tr>\n",
       "      <th>min</th>\n",
       "      <td>-4.732235</td>\n",
       "      <td>-4.202795</td>\n",
       "      <td>-4.377021</td>\n",
       "      <td>-4.010826</td>\n",
       "      <td>-4.535903</td>\n",
       "      <td>-4.300767</td>\n",
       "      <td>-4.894525</td>\n",
       "      <td>0.000000</td>\n",
       "      <td>0.000000</td>\n",
       "      <td>0.000000</td>\n",
       "      <td>...</td>\n",
       "      <td>-4.894525</td>\n",
       "      <td>-4.732235</td>\n",
       "      <td>-4.438130</td>\n",
       "      <td>-6.873999</td>\n",
       "      <td>-8.234305</td>\n",
       "      <td>-7.792363</td>\n",
       "      <td>-6.593842</td>\n",
       "      <td>-7.375719</td>\n",
       "      <td>-7.335556</td>\n",
       "      <td>-6.954151</td>\n",
       "    </tr>\n",
       "    <tr>\n",
       "      <th>25%</th>\n",
       "      <td>-0.675226</td>\n",
       "      <td>-0.670985</td>\n",
       "      <td>-0.672779</td>\n",
       "      <td>-0.672540</td>\n",
       "      <td>-0.682510</td>\n",
       "      <td>-0.675066</td>\n",
       "      <td>-0.680421</td>\n",
       "      <td>3.000000</td>\n",
       "      <td>4.000000</td>\n",
       "      <td>4.000000</td>\n",
       "      <td>...</td>\n",
       "      <td>-0.678773</td>\n",
       "      <td>-0.679777</td>\n",
       "      <td>-0.675147</td>\n",
       "      <td>-1.022964</td>\n",
       "      <td>-1.203204</td>\n",
       "      <td>-0.903385</td>\n",
       "      <td>-1.128966</td>\n",
       "      <td>-0.975680</td>\n",
       "      <td>-0.746489</td>\n",
       "      <td>-1.262606</td>\n",
       "    </tr>\n",
       "    <tr>\n",
       "      <th>50%</th>\n",
       "      <td>0.002022</td>\n",
       "      <td>0.006650</td>\n",
       "      <td>-0.000324</td>\n",
       "      <td>-0.003185</td>\n",
       "      <td>-0.003307</td>\n",
       "      <td>0.001024</td>\n",
       "      <td>-0.002053</td>\n",
       "      <td>5.000000</td>\n",
       "      <td>6.000000</td>\n",
       "      <td>7.000000</td>\n",
       "      <td>...</td>\n",
       "      <td>-0.000587</td>\n",
       "      <td>-0.000806</td>\n",
       "      <td>0.000819</td>\n",
       "      <td>-0.056687</td>\n",
       "      <td>-0.219046</td>\n",
       "      <td>0.167074</td>\n",
       "      <td>-0.099221</td>\n",
       "      <td>-0.070852</td>\n",
       "      <td>0.082230</td>\n",
       "      <td>-0.271319</td>\n",
       "    </tr>\n",
       "    <tr>\n",
       "      <th>75%</th>\n",
       "      <td>0.677271</td>\n",
       "      <td>0.677746</td>\n",
       "      <td>0.677086</td>\n",
       "      <td>0.672097</td>\n",
       "      <td>0.677589</td>\n",
       "      <td>0.673344</td>\n",
       "      <td>0.668112</td>\n",
       "      <td>8.000000</td>\n",
       "      <td>9.000000</td>\n",
       "      <td>11.000000</td>\n",
       "      <td>...</td>\n",
       "      <td>0.672149</td>\n",
       "      <td>0.675437</td>\n",
       "      <td>0.676881</td>\n",
       "      <td>0.930158</td>\n",
       "      <td>0.764690</td>\n",
       "      <td>1.217432</td>\n",
       "      <td>0.987684</td>\n",
       "      <td>0.843212</td>\n",
       "      <td>0.925306</td>\n",
       "      <td>0.770516</td>\n",
       "    </tr>\n",
       "    <tr>\n",
       "      <th>max</th>\n",
       "      <td>4.490521</td>\n",
       "      <td>4.324974</td>\n",
       "      <td>4.560247</td>\n",
       "      <td>4.399373</td>\n",
       "      <td>4.050549</td>\n",
       "      <td>4.710316</td>\n",
       "      <td>3.998595</td>\n",
       "      <td>32.000000</td>\n",
       "      <td>30.000000</td>\n",
       "      <td>44.000000</td>\n",
       "      <td>...</td>\n",
       "      <td>4.560247</td>\n",
       "      <td>4.399373</td>\n",
       "      <td>4.135419</td>\n",
       "      <td>6.517721</td>\n",
       "      <td>6.054831</td>\n",
       "      <td>7.527271</td>\n",
       "      <td>7.544731</td>\n",
       "      <td>7.005608</td>\n",
       "      <td>7.205971</td>\n",
       "      <td>6.977150</td>\n",
       "    </tr>\n",
       "  </tbody>\n",
       "</table>\n",
       "<p>8 rows × 29 columns</p>\n",
       "</div>"
      ],
      "text/plain": [
       "               f_00          f_01          f_02          f_03          f_04  \\\n",
       "count  98000.000000  98000.000000  98000.000000  98000.000000  98000.000000   \n",
       "mean       0.001220      0.005580     -0.001042     -0.000700     -0.003522   \n",
       "std        1.002801      1.000742      1.001373      1.000422      1.003061   \n",
       "min       -4.732235     -4.202795     -4.377021     -4.010826     -4.535903   \n",
       "25%       -0.675226     -0.670985     -0.672779     -0.672540     -0.682510   \n",
       "50%        0.002022      0.006650     -0.000324     -0.003185     -0.003307   \n",
       "75%        0.677271      0.677746      0.677086      0.672097      0.677589   \n",
       "max        4.490521      4.324974      4.560247      4.399373      4.050549   \n",
       "\n",
       "               f_05          f_06          f_07          f_08          f_09  \\\n",
       "count  98000.000000  98000.000000  98000.000000  98000.000000  98000.000000   \n",
       "mean      -0.001612     -0.003042      5.545918      6.763061      8.193163   \n",
       "std        1.000532      0.997434      3.691840      4.152348      5.904919   \n",
       "min       -4.300767     -4.894525      0.000000      0.000000      0.000000   \n",
       "25%       -0.675066     -0.680421      3.000000      4.000000      4.000000   \n",
       "50%        0.001024     -0.002053      5.000000      6.000000      7.000000   \n",
       "75%        0.673344      0.668112      8.000000      9.000000     11.000000   \n",
       "max        4.710316      3.998595     32.000000     30.000000     44.000000   \n",
       "\n",
       "       ...          f_19          f_20          f_21          f_22  \\\n",
       "count  ...  98000.000000  98000.000000  98000.000000  98000.000000   \n",
       "mean   ...     -0.004513     -0.000515     -0.001670     -0.038752   \n",
       "std    ...      1.004372      1.002962      0.999703      1.477858   \n",
       "min    ...     -4.894525     -4.732235     -4.438130     -6.873999   \n",
       "25%    ...     -0.678773     -0.679777     -0.675147     -1.022964   \n",
       "50%    ...     -0.000587     -0.000806      0.000819     -0.056687   \n",
       "75%    ...      0.672149      0.675437      0.676881      0.930158   \n",
       "max    ...      4.560247      4.399373      4.135419      6.517721   \n",
       "\n",
       "               f_23          f_24          f_25          f_26          f_27  \\\n",
       "count  98000.000000  98000.000000  98000.000000  98000.000000  98000.000000   \n",
       "mean      -0.220002      0.166434     -0.064309     -0.062540      0.098472   \n",
       "std        1.494836      1.543014      1.576086      1.428055      1.305407   \n",
       "min       -8.234305     -7.792363     -6.593842     -7.375719     -7.335556   \n",
       "25%       -1.203204     -0.903385     -1.128966     -0.975680     -0.746489   \n",
       "50%       -0.219046      0.167074     -0.099221     -0.070852      0.082230   \n",
       "75%        0.764690      1.217432      0.987684      0.843212      0.925306   \n",
       "max        6.054831      7.527271      7.544731      7.005608      7.205971   \n",
       "\n",
       "               f_28  \n",
       "count  98000.000000  \n",
       "mean      -0.230910  \n",
       "std        1.528476  \n",
       "min       -6.954151  \n",
       "25%       -1.262606  \n",
       "50%       -0.271319  \n",
       "75%        0.770516  \n",
       "max        6.977150  \n",
       "\n",
       "[8 rows x 29 columns]"
      ]
     },
     "execution_count": 4,
     "metadata": {},
     "output_type": "execute_result"
    }
   ],
   "source": [
    "data.describe()"
   ]
  },
  {
   "cell_type": "code",
   "execution_count": 5,
   "id": "91dab50b",
   "metadata": {
    "_kg_hide-input": true,
    "execution": {
     "iopub.execute_input": "2022-07-02T16:03:03.615256Z",
     "iopub.status.busy": "2022-07-02T16:03:03.614908Z",
     "iopub.status.idle": "2022-07-02T16:03:03.620362Z",
     "shell.execute_reply": "2022-07-02T16:03:03.619435Z"
    },
    "papermill": {
     "duration": 0.01626,
     "end_time": "2022-07-02T16:03:03.622927",
     "exception": false,
     "start_time": "2022-07-02T16:03:03.606667",
     "status": "completed"
    },
    "tags": []
   },
   "outputs": [
    {
     "name": "stdout",
     "output_type": "stream",
     "text": [
      "Columns: \n",
      "['f_00', 'f_01', 'f_02', 'f_03', 'f_04', 'f_05', 'f_06', 'f_07', 'f_08', 'f_09', 'f_10', 'f_11', 'f_12', 'f_13', 'f_14', 'f_15', 'f_16', 'f_17', 'f_18', 'f_19', 'f_20', 'f_21', 'f_22', 'f_23', 'f_24', 'f_25', 'f_26', 'f_27', 'f_28']\n"
     ]
    }
   ],
   "source": [
    "print(\"Columns: \\n{0}\".format(list(data.columns)))"
   ]
  },
  {
   "cell_type": "markdown",
   "id": "be20bac3",
   "metadata": {
    "papermill": {
     "duration": 0.004235,
     "end_time": "2022-07-02T16:03:03.631890",
     "exception": false,
     "start_time": "2022-07-02T16:03:03.627655",
     "status": "completed"
    },
    "tags": []
   },
   "source": [
    "# Basic Data Check"
   ]
  },
  {
   "cell_type": "code",
   "execution_count": 6,
   "id": "f878fd5f",
   "metadata": {
    "_kg_hide-input": true,
    "execution": {
     "iopub.execute_input": "2022-07-02T16:03:03.642247Z",
     "iopub.status.busy": "2022-07-02T16:03:03.641914Z",
     "iopub.status.idle": "2022-07-02T16:03:03.648493Z",
     "shell.execute_reply": "2022-07-02T16:03:03.646818Z"
    },
    "papermill": {
     "duration": 0.014486,
     "end_time": "2022-07-02T16:03:03.650813",
     "exception": false,
     "start_time": "2022-07-02T16:03:03.636327",
     "status": "completed"
    },
    "tags": []
   },
   "outputs": [
    {
     "name": "stdout",
     "output_type": "stream",
     "text": [
      "Train data shape: (98000, 29)\n"
     ]
    }
   ],
   "source": [
    "print('Train data shape:', data.shape)"
   ]
  },
  {
   "cell_type": "markdown",
   "id": "39e1f0ed",
   "metadata": {
    "papermill": {
     "duration": 0.004415,
     "end_time": "2022-07-02T16:03:03.661050",
     "exception": false,
     "start_time": "2022-07-02T16:03:03.656635",
     "status": "completed"
    },
    "tags": []
   },
   "source": [
    "## Missing values"
   ]
  },
  {
   "cell_type": "code",
   "execution_count": 7,
   "id": "a9dfdbcb",
   "metadata": {
    "execution": {
     "iopub.execute_input": "2022-07-02T16:03:03.672256Z",
     "iopub.status.busy": "2022-07-02T16:03:03.671895Z",
     "iopub.status.idle": "2022-07-02T16:03:03.680244Z",
     "shell.execute_reply": "2022-07-02T16:03:03.679282Z"
    },
    "papermill": {
     "duration": 0.016514,
     "end_time": "2022-07-02T16:03:03.682161",
     "exception": false,
     "start_time": "2022-07-02T16:03:03.665647",
     "status": "completed"
    },
    "tags": []
   },
   "outputs": [
    {
     "name": "stdout",
     "output_type": "stream",
     "text": [
      "Missing values in data: []\n"
     ]
    }
   ],
   "source": [
    "missing_values = data.isna().any().sum()\n",
    "print('Missing values in data: {0}'.format(missing_values[missing_values > 0]))"
   ]
  },
  {
   "cell_type": "markdown",
   "id": "23928566",
   "metadata": {
    "papermill": {
     "duration": 0.007037,
     "end_time": "2022-07-02T16:03:03.696778",
     "exception": false,
     "start_time": "2022-07-02T16:03:03.689741",
     "status": "completed"
    },
    "tags": []
   },
   "source": [
    "## Duplicates"
   ]
  },
  {
   "cell_type": "code",
   "execution_count": 8,
   "id": "993f28b1",
   "metadata": {
    "execution": {
     "iopub.execute_input": "2022-07-02T16:03:03.713124Z",
     "iopub.status.busy": "2022-07-02T16:03:03.712836Z",
     "iopub.status.idle": "2022-07-02T16:03:03.883627Z",
     "shell.execute_reply": "2022-07-02T16:03:03.882328Z"
    },
    "papermill": {
     "duration": 0.18226,
     "end_time": "2022-07-02T16:03:03.886456",
     "exception": false,
     "start_time": "2022-07-02T16:03:03.704196",
     "status": "completed"
    },
    "tags": []
   },
   "outputs": [
    {
     "name": "stdout",
     "output_type": "stream",
     "text": [
      "Duplicates in data: 0\n"
     ]
    }
   ],
   "source": [
    "duplicates = data.duplicated().sum()\n",
    "print('Duplicates in data: {0}'.format(duplicates))"
   ]
  },
  {
   "cell_type": "markdown",
   "id": "bd495a84",
   "metadata": {
    "papermill": {
     "duration": 0.004753,
     "end_time": "2022-07-02T16:03:03.896733",
     "exception": false,
     "start_time": "2022-07-02T16:03:03.891980",
     "status": "completed"
    },
    "tags": []
   },
   "source": [
    "# Modelling"
   ]
  },
  {
   "cell_type": "code",
   "execution_count": 9,
   "id": "0114a80c",
   "metadata": {
    "execution": {
     "iopub.execute_input": "2022-07-02T16:03:03.908296Z",
     "iopub.status.busy": "2022-07-02T16:03:03.908021Z",
     "iopub.status.idle": "2022-07-02T16:03:03.950503Z",
     "shell.execute_reply": "2022-07-02T16:03:03.949281Z"
    },
    "papermill": {
     "duration": 0.051168,
     "end_time": "2022-07-02T16:03:03.952992",
     "exception": false,
     "start_time": "2022-07-02T16:03:03.901824",
     "status": "completed"
    },
    "tags": []
   },
   "outputs": [],
   "source": [
    "scaler = StandardScaler()\n",
    "X_scaled = scaler.fit_transform(data)"
   ]
  },
  {
   "cell_type": "markdown",
   "id": "b4951e92",
   "metadata": {
    "papermill": {
     "duration": 0.004687,
     "end_time": "2022-07-02T16:03:03.962789",
     "exception": false,
     "start_time": "2022-07-02T16:03:03.958102",
     "status": "completed"
    },
    "tags": []
   },
   "source": [
    "## Determine the optimal number of clusters"
   ]
  },
  {
   "cell_type": "code",
   "execution_count": 10,
   "id": "9a43dd24",
   "metadata": {
    "execution": {
     "iopub.execute_input": "2022-07-02T16:03:03.974461Z",
     "iopub.status.busy": "2022-07-02T16:03:03.974129Z",
     "iopub.status.idle": "2022-07-02T16:04:17.774940Z",
     "shell.execute_reply": "2022-07-02T16:04:17.773972Z"
    },
    "papermill": {
     "duration": 73.813372,
     "end_time": "2022-07-02T16:04:17.781180",
     "exception": false,
     "start_time": "2022-07-02T16:03:03.967808",
     "status": "completed"
    },
    "tags": []
   },
   "outputs": [
    {
     "data": {
      "image/png": "[encoded data removed]",
      "text/plain": [
       "<Figure size 576x396 with 2 Axes>"
      ]
     },
     "metadata": {},
     "output_type": "display_data"
    },
    {
     "data": {
      "text/plain": [
       "<AxesSubplot:title={'center':'Distortion Score Elbow for KMeans Clustering'}, xlabel='k', ylabel='distortion score'>"
      ]
     },
     "execution_count": 10,
     "metadata": {},
     "output_type": "execute_result"
    }
   ],
   "source": [
    "# https://www.scikit-yb.org/en/latest/api/cluster/elbow.html\n",
    "km = KMeans(random_state=1)\n",
    "# k is range of number of clusters.\n",
    "visualizer = KElbowVisualizer(km, k=(4,12), timings=True)\n",
    "visualizer.fit(X_scaled)\n",
    "visualizer.show()"
   ]
  },
  {
   "cell_type": "markdown",
   "id": "b0721388",
   "metadata": {
    "papermill": {
     "duration": 0.005369,
     "end_time": "2022-07-02T16:04:17.792419",
     "exception": false,
     "start_time": "2022-07-02T16:04:17.787050",
     "status": "completed"
    },
    "tags": []
   },
   "source": [
    "## Predictions"
   ]
  },
  {
   "cell_type": "code",
   "execution_count": 11,
   "id": "bb1314a2",
   "metadata": {
    "execution": {
     "iopub.execute_input": "2022-07-02T16:04:17.805902Z",
     "iopub.status.busy": "2022-07-02T16:04:17.805518Z",
     "iopub.status.idle": "2022-07-02T16:04:26.072191Z",
     "shell.execute_reply": "2022-07-02T16:04:26.071281Z"
    },
    "papermill": {
     "duration": 8.276952,
     "end_time": "2022-07-02T16:04:26.074861",
     "exception": false,
     "start_time": "2022-07-02T16:04:17.797909",
     "status": "completed"
    },
    "tags": []
   },
   "outputs": [],
   "source": [
    "gmm = GaussianMixture(n_components=7, covariance_type='full', random_state=1)\n",
    "preds = gmm.fit_predict(X_scaled)"
   ]
  },
  {
   "cell_type": "markdown",
   "id": "94b121cb",
   "metadata": {
    "papermill": {
     "duration": 0.007415,
     "end_time": "2022-07-02T16:04:26.090663",
     "exception": false,
     "start_time": "2022-07-02T16:04:26.083248",
     "status": "completed"
    },
    "tags": []
   },
   "source": [
    "# Submission"
   ]
  },
  {
   "cell_type": "code",
   "execution_count": 12,
   "id": "803c580e",
   "metadata": {
    "execution": {
     "iopub.execute_input": "2022-07-02T16:04:26.107893Z",
     "iopub.status.busy": "2022-07-02T16:04:26.106880Z",
     "iopub.status.idle": "2022-07-02T16:04:26.271179Z",
     "shell.execute_reply": "2022-07-02T16:04:26.270147Z"
    },
    "papermill": {
     "duration": 0.175501,
     "end_time": "2022-07-02T16:04:26.273577",
     "exception": false,
     "start_time": "2022-07-02T16:04:26.098076",
     "status": "completed"
    },
    "tags": []
   },
   "outputs": [
    {
     "data": {
      "text/html": [
       "<div>\n",
       "<style scoped>\n",
       "    .dataframe tbody tr th:only-of-type {\n",
       "        vertical-align: middle;\n",
       "    }\n",
       "\n",
       "    .dataframe tbody tr th {\n",
       "        vertical-align: top;\n",
       "    }\n",
       "\n",
       "    .dataframe thead th {\n",
       "        text-align: right;\n",
       "    }\n",
       "</style>\n",
       "<table border=\"1\" class=\"dataframe\">\n",
       "  <thead>\n",
       "    <tr style=\"text-align: right;\">\n",
       "      <th></th>\n",
       "      <th>Id</th>\n",
       "      <th>Predicted</th>\n",
       "    </tr>\n",
       "  </thead>\n",
       "  <tbody>\n",
       "    <tr>\n",
       "      <th>0</th>\n",
       "      <td>0</td>\n",
       "      <td>5</td>\n",
       "    </tr>\n",
       "    <tr>\n",
       "      <th>1</th>\n",
       "      <td>1</td>\n",
       "      <td>2</td>\n",
       "    </tr>\n",
       "    <tr>\n",
       "      <th>2</th>\n",
       "      <td>2</td>\n",
       "      <td>5</td>\n",
       "    </tr>\n",
       "    <tr>\n",
       "      <th>3</th>\n",
       "      <td>3</td>\n",
       "      <td>3</td>\n",
       "    </tr>\n",
       "    <tr>\n",
       "      <th>4</th>\n",
       "      <td>4</td>\n",
       "      <td>6</td>\n",
       "    </tr>\n",
       "    <tr>\n",
       "      <th>...</th>\n",
       "      <td>...</td>\n",
       "      <td>...</td>\n",
       "    </tr>\n",
       "    <tr>\n",
       "      <th>97995</th>\n",
       "      <td>97995</td>\n",
       "      <td>2</td>\n",
       "    </tr>\n",
       "    <tr>\n",
       "      <th>97996</th>\n",
       "      <td>97996</td>\n",
       "      <td>6</td>\n",
       "    </tr>\n",
       "    <tr>\n",
       "      <th>97997</th>\n",
       "      <td>97997</td>\n",
       "      <td>4</td>\n",
       "    </tr>\n",
       "    <tr>\n",
       "      <th>97998</th>\n",
       "      <td>97998</td>\n",
       "      <td>4</td>\n",
       "    </tr>\n",
       "    <tr>\n",
       "      <th>97999</th>\n",
       "      <td>97999</td>\n",
       "      <td>1</td>\n",
       "    </tr>\n",
       "  </tbody>\n",
       "</table>\n",
       "<p>98000 rows × 2 columns</p>\n",
       "</div>"
      ],
      "text/plain": [
       "          Id  Predicted\n",
       "0          0          5\n",
       "1          1          2\n",
       "2          2          5\n",
       "3          3          3\n",
       "4          4          6\n",
       "...      ...        ...\n",
       "97995  97995          2\n",
       "97996  97996          6\n",
       "97997  97997          4\n",
       "97998  97998          4\n",
       "97999  97999          1\n",
       "\n",
       "[98000 rows x 2 columns]"
      ]
     },
     "execution_count": 12,
     "metadata": {},
     "output_type": "execute_result"
    }
   ],
   "source": [
    "submission[\"Predicted\"] = preds\n",
    "submission.to_csv('submission.csv', index=False)\n",
    "submission"
   ]
  }
 ],
 "metadata": {
  "kernelspec": {
   "display_name": "Python 3",
   "language": "python",
   "name": "python3"
  },
  "language_info": {
   "codemirror_mode": {
    "name": "ipython",
    "version": 3
   },
   "file_extension": ".py",
   "mimetype": "text/x-python",
   "name": "python",
   "nbconvert_exporter": "python",
   "pygments_lexer": "ipython3",
   "version": "3.7.12"
  },
  "papermill": {
   "default_parameters": {},
   "duration": 97.09594,
   "end_time": "2022-07-02T16:04:27.204540",
   "environment_variables": {},
   "exception": null,
   "input_path": "__notebook__.ipynb",
   "output_path": "__notebook__.ipynb",
   "parameters": {},
   "start_time": "2022-07-02T16:02:50.108600",
   "version": "2.3.4"
  }
 },
 "nbformat": 4,
 "nbformat_minor": 5
}
