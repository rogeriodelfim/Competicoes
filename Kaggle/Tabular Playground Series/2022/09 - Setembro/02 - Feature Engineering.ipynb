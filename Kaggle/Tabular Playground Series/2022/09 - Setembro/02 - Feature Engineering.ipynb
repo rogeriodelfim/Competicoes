{
 "cells": [
  {
   "cell_type": "markdown",
   "metadata": {
    "id": "dyZU8TQF3EC_"
   },
   "source": [
    "<div style=\"color:white;display:fill;border-radius:8px;\n",
    "            background-color:#a7d5ed;font-size:170%;\n",
    "            font-family:Nexa;letter-spacing:4.5px;\">    \n",
    "    <h1 style=\"padding:15px;color:black;text-align: center\"> Feature Engineering </h1> \n",
    "</div>\n",
    "\n",
    "![](img/header.png?t=2021-04-09-00-57-05)"
   ]
  },
  {
   "cell_type": "markdown",
   "metadata": {
    "id": "-R6jQgXw2abf"
   },
   "source": [
    "<div style=\"color:white;border-radius:8px;background-color:#a7d5ed\">    \n",
    "    <h1 style=\"padding:12px;color:black;\"> OBJETIVO </h1>    \n",
    "</div>"
   ]
  },
  {
   "cell_type": "markdown",
   "metadata": {
    "id": "CQGvPyE42hU_"
   },
   "source": [
    "Neste notebook vamos fazer uma análise (EDA) para conhencer os dados e estabelecer uma linha de base, mostrarei as etapas iniciais de uma competição do Kaggle - desde a compreensão do conjunto de dados até a preparação dos dados para serem usados em um modelo machine learning. Vamos passar pelas seguintes tarefas:\n",
    "\n",
    "- Leitura no conjunto de dados;\n",
    "- Calculando estatísticas sobre o conjunto de dados;\n",
    "- Visualização univariada;\n",
    "- Visualizando multivariada;\n",
    "- Pré-processamento. \n",
    "\n",
    "Outros pontos que vou abordar em relação ao entendimento dos dados: \n",
    "- Variação por estação e dia da semana;\n",
    "- O efeito da Páscoa;\n",
    "- Zoom no pico de fim de ano;\n",
    "- Crescimento anual."
   ]
  },
  {
   "cell_type": "markdown",
   "metadata": {
    "id": "BVBGntvGT4r4"
   },
   "source": [
    "---"
   ]
  },
  {
   "cell_type": "markdown",
   "metadata": {
    "id": "Cjx0CaVr3EDF"
   },
   "source": [
    "<div style=\"color:white;border-radius:8px;background-color:#a7d5ed\">    \n",
    "    <h1 style=\"padding:12px;color:black;\"> 1. IMPORTAÇÕES </h1>    \n",
    "</div>"
   ]
  },
  {
   "cell_type": "markdown",
   "metadata": {
    "id": "HkllrkTTeqs5"
   },
   "source": [
    "## 1.1. Instalações"
   ]
  },
  {
   "cell_type": "code",
   "execution_count": 1,
   "metadata": {
    "ExecuteTime": {
     "end_time": "2022-09-30T21:54:29.028225Z",
     "start_time": "2022-09-30T21:54:29.006171Z"
    },
    "code_folding": [],
    "colab": {
     "base_uri": "https://localhost:8080/"
    },
    "executionInfo": {
     "elapsed": 69471,
     "status": "ok",
     "timestamp": 1662032546566,
     "user": {
      "displayName": "Rogério Delfim",
      "userId": "04235763959036945343"
     },
     "user_tz": 180
    },
    "id": "_O4QLmfE3VfS",
    "outputId": "9bae5ece-3995-428a-dd30-f3101d5f5ea3"
   },
   "outputs": [],
   "source": [
    "# https://pub.towardsai.net/use-google-colab-like-a-pro-39a97184358d\n",
    "COLAB = 'google.colab' in str(get_ipython()) \n",
    "\n",
    "if COLAB:        \n",
    "    !pip install --q scikit-plot\n",
    "    !pip install --q category_encoders\n",
    "    !pip install --q shap\n",
    "    !pip install --q inflection    \n",
    "    !pip install --q catboost\n",
    "    !pip install --q holidays\n",
    "    #!pip install --q optbinning\n",
    "    #!pip install --q catboost\n",
    "    #!pip install --q pandas-profiling\n",
    "    #!pip install --q pycaret\n",
    "        \n",
    "    from google.colab import drive\n",
    "    drive.mount('/content/drive')"
   ]
  },
  {
   "cell_type": "markdown",
   "metadata": {
    "id": "2TUVX7H53EDG"
   },
   "source": [
    "## 1.2. Bibliotecas "
   ]
  },
  {
   "cell_type": "code",
   "execution_count": 2,
   "metadata": {
    "ExecuteTime": {
     "end_time": "2022-09-30T21:54:44.809410Z",
     "start_time": "2022-09-30T21:54:30.789256Z"
    },
    "executionInfo": {
     "elapsed": 2956,
     "status": "ok",
     "timestamp": 1662033463473,
     "user": {
      "displayName": "Rogério Delfim",
      "userId": "04235763959036945343"
     },
     "user_tz": 180
    },
    "id": "7CkqtXYc3EDG"
   },
   "outputs": [],
   "source": [
    "import warnings\n",
    "import random\n",
    "import os\n",
    "import gc\n",
    "import torch\n",
    "import sklearn.exceptions\n",
    "import datetime\n",
    "import multiprocessing\n",
    "import holidays"
   ]
  },
  {
   "cell_type": "code",
   "execution_count": 107,
   "metadata": {
    "ExecuteTime": {
     "end_time": "2022-09-30T22:55:11.930755Z",
     "start_time": "2022-09-30T22:55:11.908747Z"
    },
    "executionInfo": {
     "elapsed": 1075,
     "status": "ok",
     "timestamp": 1662033467005,
     "user": {
      "displayName": "Rogério Delfim",
      "userId": "04235763959036945343"
     },
     "user_tz": 180
    },
    "id": "wlxzri_03EDH"
   },
   "outputs": [],
   "source": [
    "import pandas                 as pd\n",
    "import numpy                  as np\n",
    "import matplotlib.pyplot      as plt \n",
    "import seaborn                as sns\n",
    "import joblib                 as jb\n",
    "import xgboost                as xgb\n",
    "import lightgbm               as lgb\n",
    "import scipy.stats            as stats\n",
    "import statsmodels.api        as sm\n",
    "import dateutil.easter        as easter\n",
    "import plotly.express         as px"
   ]
  },
  {
   "cell_type": "code",
   "execution_count": 4,
   "metadata": {
    "ExecuteTime": {
     "end_time": "2022-09-30T21:54:54.194460Z",
     "start_time": "2022-09-30T21:54:54.180429Z"
    },
    "executionInfo": {
     "elapsed": 4,
     "status": "ok",
     "timestamp": 1662033467005,
     "user": {
      "displayName": "Rogério Delfim",
      "userId": "04235763959036945343"
     },
     "user_tz": 180
    },
    "id": "_FUhUYKk19ew"
   },
   "outputs": [],
   "source": [
    "from sklearn.model_selection  import TimeSeriesSplit\n",
    "from sklearn.preprocessing    import StandardScaler, MinMaxScaler, power_transform\n",
    "from sklearn.preprocessing    import PowerTransformer, RobustScaler, normalize\n",
    "from sklearn.preprocessing    import MaxAbsScaler, QuantileTransformer, LabelEncoder"
   ]
  },
  {
   "cell_type": "code",
   "execution_count": 5,
   "metadata": {
    "ExecuteTime": {
     "end_time": "2022-09-30T21:54:56.002156Z",
     "start_time": "2022-09-30T21:54:54.198431Z"
    },
    "executionInfo": {
     "elapsed": 4,
     "status": "ok",
     "timestamp": 1662033467005,
     "user": {
      "displayName": "Rogério Delfim",
      "userId": "04235763959036945343"
     },
     "user_tz": 180
    },
    "id": "MvrdO4I53EDI"
   },
   "outputs": [],
   "source": [
    "from datetime                 import datetime\n",
    "from pylab                    import rcParams\n",
    "from matplotlib.ticker        import MaxNLocator, FormatStrFormatter, PercentFormatter\n",
    "from feature_engine.selection import DropConstantFeatures, DropDuplicateFeatures\n",
    "from matplotlib.axes._axes    import _log as matplotlib_axes_logger\n",
    "from scipy.stats              import skew, norm\n",
    "from datetime                 import timedelta\n",
    "from sklearn.pipeline         import make_pipeline"
   ]
  },
  {
   "cell_type": "code",
   "execution_count": 6,
   "metadata": {
    "ExecuteTime": {
     "end_time": "2022-09-30T21:54:57.433531Z",
     "start_time": "2022-09-30T21:54:56.003950Z"
    }
   },
   "outputs": [],
   "source": [
    "from sklearn.ensemble         import ExtraTreesRegressor, AdaBoostRegressor\n",
    "from sklearn.ensemble         import RandomForestRegressor, HistGradientBoostingRegressor\n",
    "from sklearn.linear_model     import LinearRegression, Ridge #, Lasso, ElasticNet,SGDRegressor\n",
    "from catboost                 import CatBoostRegressor,Pool"
   ]
  },
  {
   "cell_type": "code",
   "execution_count": 7,
   "metadata": {
    "ExecuteTime": {
     "end_time": "2022-09-30T21:54:57.449529Z",
     "start_time": "2022-09-30T21:54:57.435531Z"
    },
    "executionInfo": {
     "elapsed": 2,
     "status": "ok",
     "timestamp": 1662033468229,
     "user": {
      "displayName": "Rogério Delfim",
      "userId": "04235763959036945343"
     },
     "user_tz": 180
    },
    "id": "ZD-VFfjJ19ey"
   },
   "outputs": [],
   "source": [
    "#from sklearn.ensemble        import RandomForestRegressor, ExtraTreesRegressor\n",
    "#from yellowbrick.regressor   import ResidualsPlot"
   ]
  },
  {
   "cell_type": "markdown",
   "metadata": {
    "id": "e0gRHehq3EDJ"
   },
   "source": [
    "## 1.3. Funções\n",
    "Aqui centralizamos todas as funções desenvolvidas durante o projeto para melhor organização do código."
   ]
  },
  {
   "cell_type": "code",
   "execution_count": 8,
   "metadata": {
    "ExecuteTime": {
     "end_time": "2022-09-30T21:54:57.688533Z",
     "start_time": "2022-09-30T21:54:57.451534Z"
    },
    "code_folding": [
     0,
     60,
     80,
     125,
     148,
     184,
     196,
     247,
     269,
     280,
     285,
     298,
     322,
     330,
     338,
     349,
     364,
     413,
     426,
     442,
     461,
     471,
     488,
     501,
     528,
     543,
     582,
     640,
     662,
     668,
     672,
     691,
     702,
     707,
     731,
     739,
     747
    ],
    "executionInfo": {
     "elapsed": 4,
     "status": "ok",
     "timestamp": 1662033469847,
     "user": {
      "displayName": "Rogério Delfim",
      "userId": "04235763959036945343"
     },
     "user_tz": 180
    },
    "id": "yTX8NxEj3EDK"
   },
   "outputs": [],
   "source": [
    "class Utility():\n",
    "        \n",
    "    def __init__(self):\n",
    "        self.name_ =''\n",
    "       \n",
    "    def jupyter_setting():\n",
    "    \n",
    "        %matplotlib inline\n",
    "\n",
    "        #os.environ[\"WANDB_SILENT\"] = \"true\" \n",
    "        #plt.style.use('bmh') \n",
    "        #plt.rcParams['figure.figsize'] = [20,15]\n",
    "        #plt.rcParams['font.size']      = 13\n",
    "\n",
    "        matplotlib_axes_logger.setLevel('ERROR')\n",
    "\n",
    "        pd.options.display.max_columns = None\n",
    "        #pd.set_option('display.expand_frame_repr', False)\n",
    "\n",
    "        warnings.filterwarnings(action='ignore')\n",
    "        warnings.simplefilter('ignore')\n",
    "        warnings.filterwarnings('ignore')\n",
    "        warnings.filterwarnings('ignore', category=DeprecationWarning)\n",
    "        warnings.filterwarnings('ignore', category=FutureWarning)\n",
    "        warnings.filterwarnings('ignore', category=RuntimeWarning)\n",
    "        warnings.filterwarnings('ignore', category=UserWarning)\n",
    "        warnings.filterwarnings(\"ignore\", category=sklearn.exceptions.UndefinedMetricWarning)\n",
    "        warnings.filterwarnings(\"ignore\", category= sklearn.exceptions.UndefinedMetricWarning)\n",
    "        warnings.simplefilter(action=\"ignore\", category=pd.errors.PerformanceWarning)\n",
    "            \n",
    "        pd.options.mode.chained_assignment = None \n",
    "\n",
    "        #from warnings import simplefilter\n",
    "\n",
    "\n",
    "\n",
    "\n",
    "        pd.set_option('display.max_rows', 200)\n",
    "        pd.set_option('display.max_columns', 500)\n",
    "        pd.set_option('display.max_colwidth', 200)\n",
    "\n",
    "        icecream = [\"#00008b\", \"#960018\",\"#008b00\", \"#00468b\", \"#8b4500\", \"#582c00\"]\n",
    "        #sns.palplot(sns.color_palette(icecream))\n",
    "\n",
    "        colors = [\"lightcoral\", \"sandybrown\", \"darkorange\", \"mediumseagreen\",\n",
    "              \"lightseagreen\", \"cornflowerblue\", \"mediumpurple\", \"palevioletred\",\n",
    "              \"lightskyblue\", \"sandybrown\", \"yellowgreen\", \"indianred\",\n",
    "              \"lightsteelblue\", \"mediumorchid\", \"deepskyblue\"]\n",
    "\n",
    "        # Colors\n",
    "        dark_red   = \"#b20710\"\n",
    "        black      = \"#221f1f\"\n",
    "        green      = \"#009473\"\n",
    "        myred      = '#CD5C5C'\n",
    "        myblue     = '#6495ED'\n",
    "        mygreen    = '#90EE90'    \n",
    "        color_cols = [myred, myblue,mygreen]\n",
    "\n",
    "        return icecream, colors, color_cols\n",
    "\n",
    "    def missing_zero_values_table(self, df):\n",
    "        \n",
    "        mis_val         = df.isnull().sum()\n",
    "        mis_val_percent = round(df.isnull().mean().mul(100), 2)\n",
    "        mz_table        = pd.concat([mis_val, mis_val_percent], axis=1)\n",
    "        mz_table        = mz_table.rename(columns = {df.index.name:'col_name', \n",
    "                                                     0 : 'Valores ausentes', \n",
    "                                                     1 : '% de valores totais'})\n",
    "        \n",
    "        mz_table['Tipo de dados'] = df.dtypes\n",
    "        mz_table                  = mz_table[mz_table.iloc[:,1] != 0 ]. \\\n",
    "                                     sort_values('% de valores totais', ascending=False)\n",
    "        \n",
    "        msg = \"Seu dataframe selecionado tem {} colunas e {} \" + \\\n",
    "              \"linhas. \\nExistem {} colunas com valores ausentes.\"\n",
    "            \n",
    "        print (msg.format(df.shape[1], df.shape[0], mz_table.shape[0]))\n",
    "        \n",
    "        return mz_table.reset_index()\n",
    "    \n",
    "    def reduce_memory_usage(self, df, verbose=True):\n",
    "    \n",
    "        numerics = [\"int8\", \"int16\", \"int32\", \"int64\", \"float16\", \"float32\", \"float64\"]\n",
    "        start_mem = df.memory_usage().sum() / 1024 ** 2\n",
    "\n",
    "        for col in df.columns:\n",
    "\n",
    "            col_type = df[col].dtypes\n",
    "\n",
    "            if col_type in numerics:\n",
    "                c_min = df[col].min()\n",
    "                c_max = df[col].max()\n",
    "\n",
    "                if str(col_type)[:3] == \"int\":\n",
    "                    if c_min > np.iinfo(np.int8).min and c_max < np.iinfo(np.int8).max:\n",
    "                        df[col] = df[col].astype(np.int8)\n",
    "                    elif c_min > np.iinfo(np.int16).min and c_max < np.iinfo(np.int16).max:\n",
    "                        df[col] = df[col].astype(np.int16)\n",
    "                    elif c_min > np.iinfo(np.int32).min and c_max < np.iinfo(np.int32).max:\n",
    "                        df[col] = df[col].astype(np.int32)\n",
    "                    elif c_min > np.iinfo(np.int64).min and c_max < np.iinfo(np.int64).max:\n",
    "                        df[col] = df[col].astype(np.int64)\n",
    "                else:\n",
    "                    if (\n",
    "                        c_min > np.finfo(np.float16).min\n",
    "                        and c_max < np.finfo(np.float16).max\n",
    "                    ):\n",
    "                        df[col] = df[col].astype(np.float16)\n",
    "                    elif (\n",
    "                        c_min > np.finfo(np.float32).min\n",
    "                        and c_max < np.finfo(np.float32).max\n",
    "                    ):\n",
    "                        df[col] = df[col].astype(np.float32)\n",
    "                    else:\n",
    "                        df[col] = df[col].astype(np.float64)\n",
    "        end_mem = df.memory_usage().sum() / 1024 ** 2\n",
    "        if verbose:\n",
    "            print(\n",
    "                \"Mem. usage decreased to {:.2f} Mb ({:.1f}% reduction)\".format(\n",
    "                    end_mem, 100 * (start_mem - end_mem) / start_mem\n",
    "                )\n",
    "            )\n",
    "\n",
    "        return df\n",
    "    \n",
    "    def graf_label(self, ax, total):\n",
    "\n",
    "         for i in ax.patches:\n",
    "            # get_width pulls left or right; get_y pushes up or down\n",
    "            width, height = i.get_width() -.2 , i.get_height()\n",
    "\n",
    "            x, y  = i.get_xy()  \n",
    "            color = 'white'\n",
    "            alt   = .5\n",
    "            soma  = 0 \n",
    "\n",
    "            if height < 70:\n",
    "                color = 'black'\n",
    "                alt   = 1\n",
    "                soma  = 10\n",
    "\n",
    "            ax.annotate(str(round((i.get_height() * 100.0 / total), 1) )+'%', \n",
    "                        (i.get_x()+.55*width, \n",
    "                         i.get_y()+soma + alt*height),\n",
    "                         color   = color,\n",
    "                         weight = 'bold',\n",
    "                         size   = 14)\n",
    "            \n",
    "    def graf_bar(self, df, col, title, xlabel, ylabel, tol = 0):\n",
    "    \n",
    "        #ax    = df.groupby(['churn_cat'])['churn_cat'].count()\n",
    "        ax     = df    \n",
    "        colors = col\n",
    "\n",
    "        if tol == 0: \n",
    "            total  = sum(ax)\n",
    "            ax = (ax).plot(kind    ='bar',\n",
    "                           stacked = True,\n",
    "                           width   = .5,\n",
    "                           rot     = 0,\n",
    "                           color   = colors, \n",
    "                           grid    = False)\n",
    "        else:\n",
    "            total  = tol     \n",
    "            ax = (ax).plot(kind    ='bar',\n",
    "                           stacked = True,\n",
    "                           width   = .5,\n",
    "                           rot     = 0,\n",
    "                           figsize = (10,6),\n",
    "                           color   = colors,\n",
    "                           grid    = False)\n",
    "\n",
    "        title   = title #+ ' \\n'\n",
    "        xlabel  = '\\n ' + xlabel \n",
    "        ylabel  = ylabel + ' \\n'\n",
    "\n",
    "        ax.set_title(title  , fontsize=22)\n",
    "        ax.set_xlabel(xlabel, fontsize=12)\n",
    "        ax.set_ylabel(ylabel, fontsize=12)    \n",
    "\n",
    "        min = [0,23000000]\n",
    "        #ax.set_ylim(min)\n",
    "        self.graf_label(ax, total)\n",
    "\n",
    "    def correlation(self, df_, threshold_):\n",
    "        col_corr    = set()  \n",
    "        corr_matrix = df_.corr()\n",
    "        \n",
    "        for i in range(len(corr_matrix.columns)):\n",
    "            for j in range(i):\n",
    "                if abs(corr_matrix.iloc[i, j]) > threshold_: \n",
    "                    colname = corr_matrix.columns[i]  \n",
    "                    col_corr.add(colname)\n",
    "                    \n",
    "        return col_corr\n",
    "\n",
    "    def __graf_fature_corr(df_, annot_=False, threshold_=.8, print_var_=False, \n",
    "                         print_graf_=True, mask_=True, title_='', method_='pearson'):\n",
    "        \n",
    "        msg_title = '\\n Correlação das variável {} -{} \\n'.format(title_, 'method_')\n",
    "        \n",
    "        df = df_.copy().corr(method =method_).round(5)\n",
    "        \n",
    "        if print_graf_: \n",
    "            # Máscara para ocultar a parte superior direita do gráfico, pois é uma duplicata\n",
    "            mask = np.zeros_like(df)\n",
    "            mask[np.triu_indices_from(mask)] = mask_\n",
    "            \n",
    "            # Making a plot\n",
    "            ax = sns.heatmap(df, annot=annot_, \n",
    "                             mask=mask, \n",
    "                             cmap=\"RdBu\", \n",
    "                             annot_kws={\"weight\": \"bold\", \"fontsize\":13}                              \n",
    "                            )\n",
    "\n",
    "            ax.set_title(msg_title, fontsize=17)\n",
    "            \n",
    "            plt.setp(ax.get_xticklabels(), \n",
    "                     rotation      = 90, \n",
    "                     ha            = \"right\",\n",
    "                     rotation_mode = \"anchor\", \n",
    "                     weight        = \"normal\", style = 'whitegrid', palette= 'pastel')\n",
    "\n",
    "            plt.setp(ax.get_yticklabels(), \n",
    "                     weight        = \"normal\",\n",
    "                     rotation_mode = \"anchor\", \n",
    "                     rotation      = 0, \n",
    "                     ha            = \"right\", style = 'whitegrid', palette= 'pastel')\n",
    "            \n",
    "            \n",
    "            \n",
    "            plt.show();\n",
    "            \n",
    "            \n",
    "            \n",
    "        if print_var_:         \n",
    "            df_corr = df[abs(df)>threshold_][df!=1.0].unstack().dropna().reset_index()\n",
    "            if len(df_corr)>0:            \n",
    "                print('Variáveis autocorrelacionadas threshold={:2.2f}'.format(threshold_))\n",
    "                df_corr.columns =  ['var_1', 'var_2', 'corr']\n",
    "                display(df_corr)\n",
    "            else: \n",
    "                print('Não tem variáveis autocorrelacionadas threshold={:2.2f}'.format(threshold_))\n",
    "        \n",
    "        #sns.set(style=\"darkgrid\")\n",
    "        plt.show();\n",
    "                        \n",
    "    def describe(self, df):\n",
    "        var = df.columns\n",
    "\n",
    "        # Medidas de tendência central, média e mediana \n",
    "        ct1 = pd.DataFrame(df[var].apply(np.mean)).T\n",
    "        ct2 = pd.DataFrame(df[var].apply(np.median)).T\n",
    "\n",
    "        # Dispensão - str, min , max range skew, kurtosis\n",
    "        d1 = pd.DataFrame(df[var].apply(np.std)).T\n",
    "        d2 = pd.DataFrame(df[var].apply(min)).T\n",
    "        d3 = pd.DataFrame(df[var].apply(max)).T\n",
    "        d4 = pd.DataFrame(df[var].apply(lambda x: x.max() - x.min())).T\n",
    "        d5 = pd.DataFrame(df[var].apply(lambda x: x.skew())).T\n",
    "        d6 = pd.DataFrame(df[var].apply(lambda x: x.kurtosis())).T\n",
    "        d7 = pd.DataFrame(df[var].apply(lambda x: (3 *( np.mean(x) - np.median(x)) / np.std(x) ))).T\n",
    "\n",
    "        # concatenete \n",
    "        m = pd.concat([d2, d3, d4, ct1, ct2, d1, d5, d6, d7]).T.reset_index()\n",
    "        m.columns = ['attrobutes', 'min', 'max', 'range', 'mean', 'median', 'std','skew', 'kurtosis','coef_as']\n",
    "\n",
    "        return m\n",
    "\n",
    "    def graf_outlier(self, df, feature):\n",
    "        col = [(0,4), (5,9)]\n",
    "\n",
    "        df_plot = ((df[feature] - df[feature].min())/\n",
    "                   (df[feature].max() - df[feature].min()))\n",
    "\n",
    "        fig, ax = plt.subplots(len(col), 1, figsize=(15,7))\n",
    "\n",
    "        for i, (x) in enumerate(col): \n",
    "            sns.boxplot(data = df_plot.iloc[:, x[0]:x[1] ], ax = ax[i]); \n",
    "\n",
    "    def diff(self, t_a, t_b):\n",
    "        from dateutil.relativedelta import relativedelta\n",
    "        t_diff = relativedelta(t_b, t_a)  # later/end time comes first!\n",
    "        return '{h}h {m}m {s}s'.format(h=t_diff.hours, m=t_diff.minutes, s=t_diff.seconds)\n",
    "\n",
    "    def free_gpu_cache(self):\n",
    "\n",
    "        # https://www.kaggle.com/getting-started/140636\n",
    "        #print(\"Initial GPU Usage\")\n",
    "        #gpu_usage()                             \n",
    "\n",
    "        #cuda.select_device(0)\n",
    "        #cuda.close()\n",
    "        #cuda.select_device(0)   \n",
    "\n",
    "        gc.collect()\n",
    "        torch.cuda.empty_cache()\n",
    "\n",
    "    def graf_eval(self):\n",
    "\n",
    "        results     = model.evals_result()\n",
    "        ntree_limit = model.best_ntree_limit\n",
    "\n",
    "        plt.figure(figsize=(20,7))\n",
    "\n",
    "        for i, error in  enumerate(['mlogloss', 'merror']):#\n",
    "\n",
    "            plt.subplot(1,2,i+1)\n",
    "            plt.plot(results[\"validation_0\"][error], label=\"Treinamento\")\n",
    "            plt.plot(results[\"validation_1\"][error], label=\"Validação\")\n",
    "\n",
    "            plt.axvline(ntree_limit, \n",
    "                        color=\"gray\", \n",
    "                        label=\"N. de árvore ideal {}\".format(ntree_limit))\n",
    "\n",
    "\n",
    "            title_name ='\\n' + error.upper() + ' PLOT \\n'\n",
    "            plt.title(title_name)\n",
    "            plt.xlabel(\"Número de árvores\")\n",
    "            plt.ylabel(error)\n",
    "            plt.legend();\n",
    "\n",
    "    def linear_fit_slope(self, y):\n",
    "        \"\"\"Return the slope of a linear fit to a series.\"\"\"\n",
    "        y_pure = y.dropna()\n",
    "        length = len(y_pure)\n",
    "        x = np.arange(0, length)\n",
    "        slope, intercept = np.polyfit(x, y_pure.values, deg=1)\n",
    "        return slope\n",
    "\n",
    "    def linear_fit_intercept(self, y):\n",
    "        \"\"\"Return the intercept of a linear fit to a series.\"\"\"\n",
    "        y_pure = y.dropna()\n",
    "        length = len(y_pure)\n",
    "        x = np.arange(0, length)\n",
    "        slope, intercept = np.polyfit(x, y_pure.values, deg=1)\n",
    "        return intercept\n",
    "\n",
    "    def cromer_v(self, x, y):\n",
    "        cm       = pd.crosstab(x, y).to_numpy()        \n",
    "        n        = cm.sum()\n",
    "        r, k     = cm.shape\n",
    "        chi2     = stats.chi2_contingency(cm)[0]\n",
    "        chi2corr = max(0, chi2 - (k-1) * (r-1) /(n-1))\n",
    "        kcorr    = k - (k-1) **2/(n-1)\n",
    "        rcorr    = r - (r-1) **2/(n-1)    \n",
    "        v        = np.sqrt((chi2corr/n) / (min(kcorr-1, rcorr-1)))        \n",
    "        return v  \n",
    "\n",
    "    def generate_category_table(self, data):\n",
    "\n",
    "        cols    = data.select_dtypes(include='object').columns\n",
    "        dataset = pd.DataFrame()\n",
    "\n",
    "        for i in cols:\n",
    "            corr = []\n",
    "            for x in cols: \n",
    "                corr.append(self.cromer_v(data[i],data[x]))\n",
    "\n",
    "            aux     = pd.DataFrame({i:corr})\n",
    "            dataset = pd.concat([dataset, aux], axis=1) \n",
    "\n",
    "        return dataset.set_index(dataset.columns)\n",
    "            \n",
    "    def graf_feature_corr(self, df_, annot_=False, threshold_=.8, print_var_=False, \n",
    "                          print_graf_=True, mask_=True, title_='', method_='pearson'):\n",
    "\n",
    "        df = df_.corr(method=method_).round(5)\n",
    "\n",
    "        if print_graf_: \n",
    "            # Máscara para ocultar a parte superior direita do gráfico, pois é uma duplicata\n",
    "            mask = np.zeros_like(df)\n",
    "            mask[np.triu_indices_from(mask)] = mask_\n",
    "\n",
    "            sns.set(style=\"whitegrid\", palette=\"pastel\") \n",
    "            \n",
    "            # Making a plot\n",
    "            ax = sns.heatmap(df, annot = annot_, \n",
    "                             mask      = mask, \n",
    "                             cmap      = \"RdBu\", \n",
    "                             fmt       = \".2f\",\n",
    "                             annot_kws = {\"weight\": \"bold\", \"fontsize\":10}\n",
    "                            )\n",
    "            \n",
    "            ax.set_title(\"\\n Correlação das variável {} - {} \\n\".format(title_, method_.upper()), fontsize=17)\n",
    "\n",
    "            plt.setp(ax.get_xticklabels(), \n",
    "                     rotation      = 90, \n",
    "                     ha            = \"right\",\n",
    "                     rotation_mode = \"anchor\", \n",
    "                     weight        = \"normal\")\n",
    "\n",
    "            plt.setp(ax.get_yticklabels(), \n",
    "                     weight        = \"normal\",\n",
    "                     rotation_mode = \"anchor\", \n",
    "                     rotation      = 0, \n",
    "                     ha            = \"right\")\n",
    "            \n",
    "            sns.set(style=\"darkgrid\")\n",
    "\n",
    "            plt.show();\n",
    "\n",
    "        if print_var_:         \n",
    "            df_corr = df[abs(df)>threshold_][df!=1.0].unstack().dropna().reset_index()\n",
    "            if len(df_corr)>0:            \n",
    "                print('Variáveis autocorrelacionadas threshold={:2.2f}'.format(threshold_))\n",
    "                df_corr.columns =  ['var_1', 'var_2', 'corr']\n",
    "                display(df_corr)\n",
    "            else: \n",
    "                print('Não tem variáveis autocorrelacionadas threshold={:2.2f}'.format(threshold_))\n",
    "                \n",
    "        return self.correlation(df_, threshold_)\n",
    "\n",
    "    def plot_roc_curve(self, fpr, tpr, label=None):\n",
    "        fig, ax = plt.subplots()\n",
    "        ax.plot(fpr, tpr, \"r-\", label=label)\n",
    "        ax.plot([0, 1], [0, 1], transform=ax.transAxes, ls=\"--\", c=\".3\")\n",
    "        plt.xlim([0.0, 1.0])\n",
    "        plt.ylim([0.0, 1.0])\n",
    "        plt.rcParams['font.size'] = 12\n",
    "        plt.title('ROC curve for FLAI 08')\n",
    "        plt.xlabel('False Positive Rate (1 - Specificity)')\n",
    "        plt.ylabel('True Positive Rate (Sensitivity)')\n",
    "        plt.legend(loc=\"lower right\")\n",
    "        plt.grid(True)\n",
    "\n",
    "    def feature_engineering(self, df_):\n",
    "\n",
    "        var_f27 = ''\n",
    "        for col in df_['f_27']: \n",
    "            var_f27 +=col\n",
    "\n",
    "        var_f27 = list(set(var_f27))\n",
    "        var_f27.sort()\n",
    "\n",
    "        df_[\"fe_f_27_unique\"] = df_[\"f_27\"].apply(lambda x: len(set(x)))\n",
    "\n",
    "        for letra in var_f27:             \n",
    "            df_['fe_' + letra.lower() + '_count'] = df2_train[\"f_27\"].str.count(letra)\n",
    "\n",
    "        return df_ \n",
    "\n",
    "    def identifies_outliers(self, df):\n",
    "\n",
    "        cols_num = df.select_dtypes(np.number).columns\n",
    "\n",
    "        for col in cols_num: \n",
    "            if col != 'unnamed':            \n",
    "                Q1  = df[col].quantile(0.25)\n",
    "                Q3  = df[col].quantile(0.75)\n",
    "                IQR = Q3-Q1\n",
    "                lowqe_bound=Q1 - 1.5 * IQR\n",
    "                upper_bound=Q3 + 1.5 * IQR\n",
    "\n",
    "                df['outliers_'+ col] = 0\n",
    "                df['outliers_'+ col][(df[col]<=lowqe_bound)|(df[col]>=upper_bound)] = 1    \n",
    "\n",
    "                df[col] = np.where(df[col] > df[col].quantile(0.95),\n",
    "                                                df[col].median(),\n",
    "                                                df[col])\n",
    "\n",
    "    def evaluation(self, y_, predictions_, smape_base_=100):\n",
    "        from sklearn import metrics\n",
    "        mae   = metrics.mean_absolute_error(y_, predictions_)\n",
    "        mse   = metrics.mean_squared_error(y_, predictions_)\n",
    "        rmse  = metrics.mean_squared_error(y_, predictions_, squared=False) \n",
    "        mape  = metrics.mean_absolute_percentage_error(y_, predictions_)\n",
    "        smape = self.smape(y_, predictions_, smape_base_)\n",
    "        r2    = metrics.r2_score(y_, predictions_)    \n",
    "        return rmse, mae, mse, mape, r2, smape\n",
    "    \n",
    "    def feature_statistic(self, df, feature_float, feature_cat=None):\n",
    "        df['fe_mean']        = df[feature_float].mean(axis=1)   \n",
    "        df['fe_std']         = df[feature_float].std(axis=1)   \n",
    "        df['fe_median']      = df[feature_float].median(axis=1)   \n",
    "        df['fe_var']         = df[feature_float].var(axis=1) \n",
    "        df['fe_min']         = df[feature_float].min(axis=1)   \n",
    "        df['fe_max']         = df[feature_float].max(axis=1)   \n",
    "        df['fe_skew']        = df[feature_float].skew(axis=1)   \n",
    "        df['fe_quantile_25'] = df[feature_float].quantile(q=.25, axis=1)\n",
    "        df['fe_quantile_50'] = df[feature_float].quantile(q=.5, axis=1)\n",
    "        df['fe_quantile_75'] = df[feature_float].quantile(q=.75, axis=1)\n",
    "        \n",
    "        if feature_cat is not None:\n",
    "            df['fe_dammy_count'] = df[feature_cat].sum(axis=1)   \n",
    "        \n",
    "        return df\n",
    "    \n",
    "    def gridSearchCV(self, model_, params_, X_train_, y_train_):\n",
    "        \"\"\"\n",
    "        @param    model: sklearn estimator\n",
    "        @param    params (dict): Dictionary of possible parameters\n",
    "\n",
    "        @return   cv_results (DataFrame)\n",
    "        \"\"\"\n",
    "        model_cv = GridSearchCV(model_, param_grid=params_, scoring='roc_auc', cv=5)\n",
    "        model_cv.fit(X_train_, y_train_)\n",
    "        cv_results = pd.DataFrame(model_cv.cv_results_)[['params', 'mean_test_score']]\n",
    "\n",
    "        return cv_results\n",
    "    \n",
    "    def evaluate(self, model,X_train_, y_train_, X_test_, plotROC=False):\n",
    "\n",
    "        model.fit(X_train_, y_train_)\n",
    "        probs = model.predict_proba(X_train_)\n",
    "        preds = probs[:,1]\n",
    "        fpr, tpr, threshold = roc_curve(y_train_, preds)\n",
    "        roc_auc = auc(fpr, tpr)\n",
    "        print(f'AUC: {roc_auc:.4f}')\n",
    "\n",
    "        rocDf = pd.DataFrame({'fpr': fpr, 'tpr':tpr, 'threshold':threshold})\n",
    "        rocDf['tpr - fpr'] = rocDf.tpr - rocDf.fpr\n",
    "        optimalThreshold = rocDf.threshold[rocDf['tpr - fpr'].idxmax()]\n",
    "\n",
    "        y_pred = np.where(preds >= optimalThreshold, 1, 0)\n",
    "\n",
    "        # Plot ROC AUC\n",
    "        if plotROC:\n",
    "            plt.title('Receiver Operating Characteristic')\n",
    "            plt.plot(fpr, tpr, 'b', label = 'AUC = %0.2f' % roc_auc)\n",
    "            plt.legend(loc = 'lower right')\n",
    "            plt.plot([0, 1], [0, 1],'r--')\n",
    "            plt.xlim([0, 1])\n",
    "            plt.ylim([0, 1])\n",
    "            plt.ylabel('True Positive Rate')\n",
    "            plt.xlabel('False Positive Rate')\n",
    "            plt.show()    \n",
    "\n",
    "    def iqr_outliers(self, df,ft):\n",
    "\n",
    "        q1  = df[ft].quantile(0.25)\n",
    "        q3  = df[ft].quantile(0.75)\n",
    "        iqr = q3-q1\n",
    "        c   = 0 \n",
    "\n",
    "        Lower_tail = q1 - 1.5 * iqr\n",
    "        Upper_tail = q3 + 1.5 * iqr\n",
    "\n",
    "        for i in range(len(df[ft])):\n",
    "            if df[ft][i] > Upper_tail or df[ft][i] < Lower_tail:\n",
    "                c+=1\n",
    "        return c\n",
    "    \n",
    "    def outlier_create_feature_check(self, df_tr_, df_ts_, cols_=[], qt_inferior_=.25, qt_superior_=.75, \n",
    "                                     flg_ts_=True, input_limete_=False, verbose_=True):\n",
    "    \n",
    "        col_oltlier         = 'fe_outlier'\n",
    "        df_tr_[col_oltlier] = 0 \n",
    "        df_ts_[col_oltlier] = 0 \n",
    "\n",
    "        for c in cols_:\n",
    "\n",
    "            percentil25 = df_tr_[c].quantile(qt_inferior_)\n",
    "            percentil75 = df_tr_[c].quantile(qt_superior_)\n",
    "\n",
    "            iqr= percentil75 - percentil25 \n",
    "\n",
    "            limite_inferior = percentil25 - 1.5 * iqr\n",
    "            limite_superior = percentil75 + 1.5 * iqr\n",
    "\n",
    "            df_tr_[col_oltlier][df_tr_[c]>limite_superior] = -1\n",
    "            df_tr_[col_oltlier][df_tr_[c]<limite_inferior] = -1\n",
    "\n",
    "            if input_limete_:\n",
    "                df_tr_[c][df_tr_[c]>limite_superior] = limite_superior\n",
    "                df_tr_[c][df_tr_[c]<limite_inferior] = limite_inferior\n",
    "\n",
    "            if flg_ts_:\n",
    "                df_ts_[col_oltlier][df_ts_[c]>limite_superior] = -1\n",
    "                df_ts_[col_oltlier][df_ts_[c]<limite_inferior] = -1\n",
    "                \n",
    "                if input_limete_:\n",
    "                    df_ts_[c][df_ts_[c]>limite_superior] = limite_superior\n",
    "                    df_ts_[c][df_ts_[c]<limite_inferior] = limite_inferior\n",
    "\n",
    "            if verbose_:\n",
    "                print('Com a variável {}'.format(c))\n",
    "                print(df_tr_[col_oltlier].value_counts())\n",
    "                print()\n",
    "\n",
    "        return df_tr_, df_ts_\n",
    "        \n",
    "    def calibrated_classifier_graf_model(self, mdl_list_, X_, y_, seed_=12359, figsize_=(10, 10), verbose_=False): \n",
    "\n",
    "        fig = plt.figure(1, figsize=figsize_)\n",
    "        ax1 = plt.subplot2grid((3, 1), (0, 0), rowspan=2)\n",
    "        \n",
    "        if verbose_: ax2 = plt.subplot2grid((3, 1), (2, 0))\n",
    "\n",
    "        ax1.plot([0, 1], [0, 1], \"k:\", label=\"Perfeitamente calibrado\")\n",
    "\n",
    "        for name, mdl1 in mdl_list_:  \n",
    "            model_pipeline  = Pipeline(steps=[\n",
    "                ('preprocessor', preprocessor_1),\n",
    "                #('sampler_over', over), \n",
    "                #('sampler_under', under),    \n",
    "                ('variancethreshold', VarianceThreshold(threshold=0.1)),    \n",
    "                ('selectpercentile', SelectPercentile(f_classif, percentile=90)), \n",
    "                ('model', mdl1)\n",
    "                ])\n",
    "\n",
    "            X_train, X_val, y_train, y_val = train_test_split(X_, y_, test_size=0.5, random_state=seed_)\n",
    "\n",
    "            model_calibrated = CalibratedClassifierCV(model_pipeline, method='isotonic', cv=2) \n",
    "            # method='isotonic' sigmoid\n",
    "\n",
    "            model_calibrated.fit(X_train, y_train)\n",
    "\n",
    "            if hasattr(model_calibrated, \"predict_proba\"):\n",
    "                prob_pos = model_calibrated.predict_proba(X_val)[:, 1]\n",
    "            else:  \n",
    "                prob_pos = model_calibrated.decision_function(X_val)\n",
    "                prob_pos = (prob_pos-prob_pos.min()) / (prob_pos.max()-prob_pos.min())\n",
    "\n",
    "            score = brier_score_loss(y_val, prob_pos, pos_label=y_val.max())\n",
    "\n",
    "            frac_of_pos, mean_pred_value = calibration_curve(y_val, prob_pos, n_bins=15, normalize=True)      \n",
    "\n",
    "            ax1.plot(mean_pred_value, frac_of_pos, \"s-\", label=\"%s (%1.3f)\" % (name, score))\n",
    "\n",
    "            ax1.set_ylabel('Fração de positivos')\n",
    "            ax1.set_ylim([-0.05, 1.05])\n",
    "            ax1.legend(loc='upper left' )\n",
    "            ax1.set_title('\\nGráficos de calibração (curva de confiabilidade)\\n', fontsize=18)\n",
    "\n",
    "            if verbose_: \n",
    "                ax2.hist(prob_pos, range=(0, 1), bins=100, label=name, histtype=\"step\", lw=2)    \n",
    "                ax2.set_xlabel('Valor médio previsto')\n",
    "                ax2.set_ylabel('Quantidade')\n",
    "                ax2.legend(loc=\"upper left\", ncol=1)\n",
    "\n",
    "                plt.tight_layout()\n",
    "\n",
    "                msg = 'AUC: {:2.5f} - F1: {:2.5f} - Perda: {:2.3f} -> {}'\n",
    "                auc = roc_auc_score(y_val, prob_pos)\n",
    "                f1  = f1_score(y_val, (prob_pos>.5).astype(int))\n",
    "                print(msg.format(auc,f1, score, name))\n",
    "\n",
    "        plt.show()\n",
    "\n",
    "    def describe(df):\n",
    "        var = df.columns\n",
    "\n",
    "        # Medidas de tendência central, média e mediana \n",
    "        ct1 = pd.DataFrame(df[var].apply(np.mean)).T\n",
    "        ct2 = pd.DataFrame(df[var].apply(np.median)).T\n",
    "\n",
    "        # Dispensão - str, min , max range skew, kurtosis\n",
    "        d1 = pd.DataFrame(df[var].apply(np.std)).T\n",
    "        d2 = pd.DataFrame(df[var].apply(min)).T\n",
    "        d3 = pd.DataFrame(df[var].apply(max)).T\n",
    "        d4 = pd.DataFrame(df[var].apply(lambda x: x.max() - x.min())).T\n",
    "        d5 = pd.DataFrame(df[var].apply(lambda x: x.skew())).T\n",
    "        d6 = pd.DataFrame(df[var].apply(lambda x: x.kurtosis())).T\n",
    "        d7 = pd.DataFrame(df[var].apply(lambda x: (3 *( np.mean(x) - np.median(x)) / np.std(x) ))).T\n",
    "\n",
    "        # concatenete \n",
    "        m = pd.concat([d2, d3, d4, ct1, ct2, d1, d5, d6, d7]).T.reset_index()\n",
    "        m.columns = ['attrobutes', 'min', 'max', 'range', 'mean', 'median', 'std','skew', 'kurtosis','coef_as']\n",
    "        \n",
    "        return m\n",
    "        \n",
    "    def smape(self, y_true, y_pred, base_=100.):\n",
    "        denominator          = (np.abs(y_true)+np.abs(y_pred))/base_\n",
    "        diff                 = np.abs(y_true-y_pred)/denominator\n",
    "        diff[denominator==0] = 0.0\n",
    "        return np.nanmean(diff)\n",
    "    \n",
    "    def smape_loss(y_true, y_pred):\n",
    "        \"\"\"SMAPE Loss\"\"\"\n",
    "        return np.abs(y_true - y_pred) / (y_true + np.abs(y_pred)) * 200\n",
    "    \n",
    "    def calc_erro(y, y_pred, outros=True, ruturn_score=False):\n",
    "        erro   = smape(y, y_pred)    \n",
    "        \n",
    "        \n",
    "        if outros:        \n",
    "            rmse = metrics.mean_squared_error(y, y_pred, squared=False)\n",
    "            mape = metrics.mean_absolute_percentage_error(y, y_pred)\n",
    "            mae  = metrics.mean_absolute_error(y, y_pred)\n",
    "            \n",
    "            print('RMSE : {:2.5f}'.format(rmse))\n",
    "            print('MAE  : {:2.5f}'.format(mae))\n",
    "            print('MAPE : {:2.5f}'.format(mape))\n",
    "            \n",
    "            \n",
    "        if ruturn_score: \n",
    "            return erro\n",
    "        else: \n",
    "            print('SMAPE: {:2.5f}'.format(erro))\n",
    "            \n",
    "    def graf_outlier(df, feature):\n",
    "        col = [(0,4), (5,9)]\n",
    "\n",
    "        df_plot = ((df[feature] - df[feature].min())/\n",
    "                (df[feature].max() - df[feature].min()))\n",
    "\n",
    "        fig, ax = plt.subplots(len(col), 1, figsize=(15,7))\n",
    "\n",
    "        for i, (x) in enumerate(col): \n",
    "            sns.boxplot(data = df_plot.iloc[:, x[0]:x[1] ], ax = ax[i]); \n",
    "            \n",
    "    def diff(t_a, t_b):\n",
    "        from dateutil.relativedelta import relativedelta\n",
    "        t_diff = relativedelta(t_b, t_a)  # later/end time comes first!\n",
    "        return '{h}h {m}m {s}s'.format(h=t_diff.hours, m=t_diff.minutes, s=t_diff.seconds)\n",
    "        \n",
    "    def graf_eval():\n",
    "\n",
    "        results     = model.evals_result()\n",
    "        ntree_limit = model.best_ntree_limit\n",
    "\n",
    "        plt.figure(figsize=(20,7))\n",
    "\n",
    "        for i, error in  enumerate(['mlogloss', 'merror']):#\n",
    "            \n",
    "            plt.subplot(1,2,i+1)\n",
    "            plt.plot(results[\"validation_0\"][error], label=\"Treinamento\")\n",
    "            plt.plot(results[\"validation_1\"][error], label=\"Validação\")\n",
    "\n",
    "            plt.axvline(ntree_limit, \n",
    "                        color=\"gray\", \n",
    "                        label=\"N. de árvore ideal {}\".format(ntree_limit))\n",
    "                        \n",
    "            \n",
    "            title_name ='\\n' + error.upper() + ' PLOT \\n'\n",
    "            plt.title(title_name)\n",
    "            plt.xlabel(\"Número de árvores\")\n",
    "            plt.ylabel(error)\n",
    "            plt.legend();\n",
    "        \n",
    "    def linear_fit_slope(y):\n",
    "        \"\"\"Return the slope of a linear fit to a series.\"\"\"\n",
    "        y_pure = y.dropna()\n",
    "        length = len(y_pure)\n",
    "        x = np.arange(0, length)\n",
    "        slope, intercept = np.polyfit(x, y_pure.values, deg=1)\n",
    "        return slope\n",
    "        \n",
    "    def linear_fit_intercept(y):\n",
    "        \"\"\"Return the intercept of a linear fit to a series.\"\"\"\n",
    "        y_pure = y.dropna()\n",
    "        length = len(y_pure)\n",
    "        x = np.arange(0, length)\n",
    "        slope, intercept = np.polyfit(x, y_pure.values, deg=1)\n",
    "        return intercept\n",
    "    \n",
    "    def create_fold(self, path_): \n",
    "\n",
    "        paths = ['img', 'Data', 'Data/pkl', 'Data/submission', 'Data/tunning', \n",
    "                 'model', 'model/preds', 'model/optuna','model/preds/test', 'Data/shap',\n",
    "                 'model/preds/test/n1', 'model/preds/test/n2', 'model/preds/test/n3', \n",
    "                 'model/preds/train', 'model/preds/train/n1', 'model/preds/train/n2', \n",
    "                 'model/preds/train/n3', 'model/preds/param', 'model/mdl', 'model/preds/folds' ]\n",
    "\n",
    "        for p in paths:\n",
    "            try:\n",
    "                os.mkdir(path_+p)       \n",
    "            except:\n",
    "                #print('Erro ao criar pasta: {} '.format(path+p))\n",
    "                pass \n",
    "        \n",
    "utility = Utility()"
   ]
  },
  {
   "cell_type": "code",
   "execution_count": 9,
   "metadata": {
    "ExecuteTime": {
     "end_time": "2022-09-30T21:54:57.704531Z",
     "start_time": "2022-09-30T21:54:57.689533Z"
    }
   },
   "outputs": [],
   "source": [
    "icecream, colors, color_cols = Utility.jupyter_setting()\n",
    "n_threads = multiprocessing.cpu_count()"
   ]
  },
  {
   "cell_type": "markdown",
   "metadata": {
    "id": "cr_Es_4v4rP_"
   },
   "source": [
    "## 1.4. Estrutura de pasta\n",
    "A finalidade é criar um estrutura de pasta para armazenar os artefatos criados no processo de análise e modelagem."
   ]
  },
  {
   "cell_type": "code",
   "execution_count": 10,
   "metadata": {
    "ExecuteTime": {
     "end_time": "2022-09-30T21:54:57.720530Z",
     "start_time": "2022-09-30T21:54:57.706531Z"
    },
    "executionInfo": {
     "elapsed": 883,
     "status": "ok",
     "timestamp": 1662033581654,
     "user": {
      "displayName": "Rogério Delfim",
      "userId": "04235763959036945343"
     },
     "user_tz": 180
    },
    "id": "8AQI-AZX45rF"
   },
   "outputs": [],
   "source": [
    "path        =  '/content/drive/MyDrive/kaggle/Tabular Playground Series/2022/09 - Setembro/' if COLAB else ''      \n",
    "path_data   = 'Data/'  \n",
    "path_automl = 'automl/'\n",
    "target      = 'num_sold'\n",
    "\n",
    "utility.create_fold(path)"
   ]
  },
  {
   "cell_type": "code",
   "execution_count": 11,
   "metadata": {
    "ExecuteTime": {
     "end_time": "2022-09-30T21:54:57.972853Z",
     "start_time": "2022-09-30T21:54:57.723532Z"
    },
    "colab": {
     "base_uri": "https://localhost:8080/"
    },
    "executionInfo": {
     "elapsed": 3151,
     "status": "ok",
     "timestamp": 1662033591650,
     "user": {
      "displayName": "Rogério Delfim",
      "userId": "04235763959036945343"
     },
     "user_tz": 180
    },
    "id": "BZO_GBDb3EDQ",
    "outputId": "90977df1-8127-4db2-cbfa-e7e93f8bb9b4",
    "scrolled": true
   },
   "outputs": [
    {
     "data": {
      "text/plain": [
       "((70128, 6), (17520, 5), (17520, 2))"
      ]
     },
     "execution_count": 11,
     "metadata": {},
     "output_type": "execute_result"
    }
   ],
   "source": [
    "df1_train     = pd.read_csv(path + 'Data/train.csv')\n",
    "df1_test      = pd.read_csv(path + 'Data/test.csv')\n",
    "df_submission = pd.read_csv(path + 'Data/sample_submission.csv')\n",
    "\n",
    "df1_train.shape, df1_test.shape, df_submission.shape"
   ]
  },
  {
   "cell_type": "code",
   "execution_count": 12,
   "metadata": {
    "ExecuteTime": {
     "end_time": "2022-09-30T21:54:58.036814Z",
     "start_time": "2022-09-30T21:54:57.973824Z"
    },
    "colab": {
     "base_uri": "https://localhost:8080/",
     "height": 206
    },
    "executionInfo": {
     "elapsed": 491,
     "status": "ok",
     "timestamp": 1662033609523,
     "user": {
      "displayName": "Rogério Delfim",
      "userId": "04235763959036945343"
     },
     "user_tz": 180
    },
    "id": "15l3Wg3O3EDQ",
    "outputId": "a884e985-9cc3-4945-faa0-6d1b5c31ae73"
   },
   "outputs": [
    {
     "data": {
      "text/html": [
       "<div><div id=29127e14-83a4-467a-92fc-bd24ace8703c style=\"display:none; background-color:#9D6CFF; color:white; width:200px; height:30px; padding-left:5px; border-radius:4px; flex-direction:row; justify-content:space-around; align-items:center;\" onmouseover=\"this.style.backgroundColor='#BA9BF8'\" onmouseout=\"this.style.backgroundColor='#9D6CFF'\" onclick=\"window.commands?.execute('create-mitosheet-from-dataframe-output');\">See Full Dataframe in Mito</div> <script> if (window.commands?.hasCommand('create-mitosheet-from-dataframe-output')) document.getElementById('29127e14-83a4-467a-92fc-bd24ace8703c').style.display = 'flex' </script> <table border=\"1\" class=\"dataframe\">\n",
       "  <thead>\n",
       "    <tr style=\"text-align: right;\">\n",
       "      <th></th>\n",
       "      <th>row_id</th>\n",
       "      <th>date</th>\n",
       "      <th>country</th>\n",
       "      <th>store</th>\n",
       "      <th>product</th>\n",
       "      <th>num_sold</th>\n",
       "    </tr>\n",
       "  </thead>\n",
       "  <tbody>\n",
       "    <tr>\n",
       "      <th>0</th>\n",
       "      <td>0</td>\n",
       "      <td>2017-01-01</td>\n",
       "      <td>Belgium</td>\n",
       "      <td>KaggleMart</td>\n",
       "      <td>Kaggle Advanced Techniques</td>\n",
       "      <td>663</td>\n",
       "    </tr>\n",
       "    <tr>\n",
       "      <th>1</th>\n",
       "      <td>1</td>\n",
       "      <td>2017-01-01</td>\n",
       "      <td>Belgium</td>\n",
       "      <td>KaggleMart</td>\n",
       "      <td>Kaggle Getting Started</td>\n",
       "      <td>615</td>\n",
       "    </tr>\n",
       "    <tr>\n",
       "      <th>2</th>\n",
       "      <td>2</td>\n",
       "      <td>2017-01-01</td>\n",
       "      <td>Belgium</td>\n",
       "      <td>KaggleMart</td>\n",
       "      <td>Kaggle Recipe Book</td>\n",
       "      <td>480</td>\n",
       "    </tr>\n",
       "    <tr>\n",
       "      <th>3</th>\n",
       "      <td>3</td>\n",
       "      <td>2017-01-01</td>\n",
       "      <td>Belgium</td>\n",
       "      <td>KaggleMart</td>\n",
       "      <td>Kaggle for Kids: One Smart Goose</td>\n",
       "      <td>710</td>\n",
       "    </tr>\n",
       "    <tr>\n",
       "      <th>4</th>\n",
       "      <td>4</td>\n",
       "      <td>2017-01-01</td>\n",
       "      <td>Belgium</td>\n",
       "      <td>KaggleRama</td>\n",
       "      <td>Kaggle Advanced Techniques</td>\n",
       "      <td>240</td>\n",
       "    </tr>\n",
       "  </tbody>\n",
       "</table></div>"
      ],
      "text/plain": [
       "   row_id        date  country       store                           product  \\\n",
       "0       0  2017-01-01  Belgium  KaggleMart        Kaggle Advanced Techniques   \n",
       "1       1  2017-01-01  Belgium  KaggleMart            Kaggle Getting Started   \n",
       "2       2  2017-01-01  Belgium  KaggleMart                Kaggle Recipe Book   \n",
       "3       3  2017-01-01  Belgium  KaggleMart  Kaggle for Kids: One Smart Goose   \n",
       "4       4  2017-01-01  Belgium  KaggleRama        Kaggle Advanced Techniques   \n",
       "\n",
       "   num_sold  \n",
       "0       663  \n",
       "1       615  \n",
       "2       480  \n",
       "3       710  \n",
       "4       240  "
      ]
     },
     "execution_count": 12,
     "metadata": {},
     "output_type": "execute_result"
    }
   ],
   "source": [
    "df1_train.head()"
   ]
  },
  {
   "cell_type": "code",
   "execution_count": 13,
   "metadata": {
    "ExecuteTime": {
     "end_time": "2022-09-30T21:54:58.051814Z",
     "start_time": "2022-09-30T21:54:58.038816Z"
    },
    "colab": {
     "base_uri": "https://localhost:8080/",
     "height": 206
    },
    "executionInfo": {
     "elapsed": 4,
     "status": "ok",
     "timestamp": 1662033609977,
     "user": {
      "displayName": "Rogério Delfim",
      "userId": "04235763959036945343"
     },
     "user_tz": 180
    },
    "id": "W71Ikz803EDR",
    "outputId": "2cf0a87f-76e8-4132-9f70-69b8b6a0ed68"
   },
   "outputs": [
    {
     "data": {
      "text/html": [
       "<div><div id=9fbcfff5-925c-4fab-ba3d-1b3b753efeef style=\"display:none; background-color:#9D6CFF; color:white; width:200px; height:30px; padding-left:5px; border-radius:4px; flex-direction:row; justify-content:space-around; align-items:center;\" onmouseover=\"this.style.backgroundColor='#BA9BF8'\" onmouseout=\"this.style.backgroundColor='#9D6CFF'\" onclick=\"window.commands?.execute('create-mitosheet-from-dataframe-output');\">See Full Dataframe in Mito</div> <script> if (window.commands?.hasCommand('create-mitosheet-from-dataframe-output')) document.getElementById('9fbcfff5-925c-4fab-ba3d-1b3b753efeef').style.display = 'flex' </script> <table border=\"1\" class=\"dataframe\">\n",
       "  <thead>\n",
       "    <tr style=\"text-align: right;\">\n",
       "      <th></th>\n",
       "      <th>row_id</th>\n",
       "      <th>date</th>\n",
       "      <th>country</th>\n",
       "      <th>store</th>\n",
       "      <th>product</th>\n",
       "    </tr>\n",
       "  </thead>\n",
       "  <tbody>\n",
       "    <tr>\n",
       "      <th>0</th>\n",
       "      <td>70128</td>\n",
       "      <td>2021-01-01</td>\n",
       "      <td>Belgium</td>\n",
       "      <td>KaggleMart</td>\n",
       "      <td>Kaggle Advanced Techniques</td>\n",
       "    </tr>\n",
       "    <tr>\n",
       "      <th>1</th>\n",
       "      <td>70129</td>\n",
       "      <td>2021-01-01</td>\n",
       "      <td>Belgium</td>\n",
       "      <td>KaggleMart</td>\n",
       "      <td>Kaggle Getting Started</td>\n",
       "    </tr>\n",
       "    <tr>\n",
       "      <th>2</th>\n",
       "      <td>70130</td>\n",
       "      <td>2021-01-01</td>\n",
       "      <td>Belgium</td>\n",
       "      <td>KaggleMart</td>\n",
       "      <td>Kaggle Recipe Book</td>\n",
       "    </tr>\n",
       "    <tr>\n",
       "      <th>3</th>\n",
       "      <td>70131</td>\n",
       "      <td>2021-01-01</td>\n",
       "      <td>Belgium</td>\n",
       "      <td>KaggleMart</td>\n",
       "      <td>Kaggle for Kids: One Smart Goose</td>\n",
       "    </tr>\n",
       "    <tr>\n",
       "      <th>4</th>\n",
       "      <td>70132</td>\n",
       "      <td>2021-01-01</td>\n",
       "      <td>Belgium</td>\n",
       "      <td>KaggleRama</td>\n",
       "      <td>Kaggle Advanced Techniques</td>\n",
       "    </tr>\n",
       "  </tbody>\n",
       "</table></div>"
      ],
      "text/plain": [
       "   row_id        date  country       store                           product\n",
       "0   70128  2021-01-01  Belgium  KaggleMart        Kaggle Advanced Techniques\n",
       "1   70129  2021-01-01  Belgium  KaggleMart            Kaggle Getting Started\n",
       "2   70130  2021-01-01  Belgium  KaggleMart                Kaggle Recipe Book\n",
       "3   70131  2021-01-01  Belgium  KaggleMart  Kaggle for Kids: One Smart Goose\n",
       "4   70132  2021-01-01  Belgium  KaggleRama        Kaggle Advanced Techniques"
      ]
     },
     "execution_count": 13,
     "metadata": {},
     "output_type": "execute_result"
    }
   ],
   "source": [
    "df1_test.head()"
   ]
  },
  {
   "cell_type": "markdown",
   "metadata": {
    "id": "_RBaByFe19f5"
   },
   "source": [
    "<div style=\"color:white;border-radius:8px;background-color:#a7d5ed\">    \n",
    "    <h1 style=\"padding:12px;color:black;\"> 2. Engenharia de recursos </h1>    \n",
    "</div>\n",
    "\n",
    "Neste parte do processo de modelagem, vamos considerar os seguintes pontos para criarmos novas variáveis (features):    \n",
    "- país, loja, produto;\n",
    "- dias úteis;\n",
    "- páscoa;\n",
    "- variações sazonais por produto. <p><br>\n",
    "\n",
    "Como baseline vamos fazer um modelo com poucas variáveis transformadas em relação ao tempo, no próximo notebook(Feature engineering) vamos criar novas variáveis, com base nos insights desta EDA, abaixo foi criado uma função para gerar as nova variáveis. <br>"
   ]
  },
  {
   "cell_type": "markdown",
   "metadata": {},
   "source": [
    "## 2.1. Feature 01"
   ]
  },
  {
   "cell_type": "code",
   "execution_count": 14,
   "metadata": {
    "ExecuteTime": {
     "end_time": "2022-09-30T21:54:58.067813Z",
     "start_time": "2022-09-30T21:54:58.053815Z"
    }
   },
   "outputs": [],
   "source": [
    "seed = 12359"
   ]
  },
  {
   "cell_type": "code",
   "execution_count": 15,
   "metadata": {
    "ExecuteTime": {
     "end_time": "2022-09-30T21:54:58.083817Z",
     "start_time": "2022-09-30T21:54:58.069814Z"
    },
    "code_folding": [
     0
    ]
   },
   "outputs": [],
   "source": [
    "def feature_time(df_):         \n",
    "\n",
    "    df_['fe_day_of_week']    = df_['date'].dt.dayofweek.astype(int)\n",
    "    df_['fe_day_of_year']    = df_['date'].dt.dayofyear.astype(int) \n",
    "    df_['fe_quarter']        = df_['date'].dt.quarter.astype(int)\n",
    "    df_['fe_month']          = df_['date'].dt.month.astype(int)\n",
    "    df_['fe_year']           = df_['date'].dt.year.astype(int)        \n",
    "    df_['fe_day_of_month']   = df_['date'].dt.day.astype(int)\n",
    "    df_['fe_week_of_year']   = df_['date'].dt.isocalendar().week.astype(int)\n",
    "    df_['fe_week_of_month']  = (df_['fe_week_of_year'].values//4.35).astype(int)        \n",
    "    df_['fe_is_month_start'] = df_['date'].dt.is_month_start.astype(int)\n",
    "    df_['fe_is_month_end']   = df_['date'].dt.is_month_end.astype(int) \n",
    "\n",
    "    '''\n",
    "\n",
    "\n",
    "    \n",
    "\n",
    "    \n",
    "    #df_['fe_days_till_next_holiday'] = df_.apply(lambda x: days_till_next_holiday(x['country'], \n",
    "    #                                                                              x['date']), axis=1)\n",
    "    \n",
    "    \n",
    "    \n",
    "\n",
    "    \n",
    "\n",
    "\n",
    "   \n",
    "\n",
    "    \n",
    "    \n",
    "\n",
    "    \n",
    "\n",
    "    '''\n",
    "    \n",
    "    #df_.set_index('date', inplace=True, drop=True)\n",
    "\n",
    "    return df_"
   ]
  },
  {
   "cell_type": "code",
   "execution_count": 16,
   "metadata": {
    "ExecuteTime": {
     "end_time": "2022-09-30T21:54:58.099817Z",
     "start_time": "2022-09-30T21:54:58.085816Z"
    },
    "code_folding": [
     0
    ]
   },
   "outputs": [],
   "source": [
    "def feature_day_week(df_): \n",
    "    \n",
    "    # Marca o dia da semana\n",
    "    df_['fe_is_mon']     = np.where(df_['date'].dt.dayofweek.astype(int) == 1, 1, 0)\n",
    "    df_['fe_is_tue']     = np.where(df_['date'].dt.dayofweek.astype(int) == 2, 1, 0)\n",
    "    df_['fe_is_wed']     = np.where(df_['date'].dt.dayofweek.astype(int) == 3, 1, 0)\n",
    "    df_['fe_is_thu']     = np.where(df_['date'].dt.dayofweek.astype(int) == 4, 1, 0)\n",
    "    df_['fe_is_fri']     = np.where(df_['date'].dt.dayofweek.astype(int) == 5, 1, 0)\n",
    "    df_['fe_is_sat']     = np.where(df_['date'].dt.dayofweek.astype(int) == 6, 1, 0)  \n",
    "    df_['fe_is_fri_sat'] = (df_['date'].dt.weekday >= 5).astype(int)  \n",
    "    \n",
    "    return df_"
   ]
  },
  {
   "cell_type": "code",
   "execution_count": 17,
   "metadata": {
    "ExecuteTime": {
     "end_time": "2022-09-30T21:54:58.115816Z",
     "start_time": "2022-09-30T21:54:58.101816Z"
    },
    "code_folding": [
     0
    ]
   },
   "outputs": [],
   "source": [
    "def create_feature_dammy(df_, feature_dammy_):            \n",
    "    for col in feature_dammy_:        \n",
    "        for col_ in df_[col].unique()[:-1]:\n",
    "            df_['fe_dm_' + col_] = (df_[col]==col_).astype(int)  \n",
    "        df_.drop(col, axis=1, inplace=True)\n",
    "    \n",
    "    return df_"
   ]
  },
  {
   "cell_type": "code",
   "execution_count": 18,
   "metadata": {
    "ExecuteTime": {
     "end_time": "2022-09-30T21:54:58.131815Z",
     "start_time": "2022-09-30T21:54:58.117816Z"
    },
    "code_folding": [
     0
    ]
   },
   "outputs": [],
   "source": [
    "def feature_gdp(df_):\n",
    "    \n",
    "    df_gdp = pd.read_csv(path+'Data/GDP_data_2017_to_2021.csv')\n",
    "    df_    = df_.merge(df_gdp, left_on=['country', 'fe_year'], right_on=['country', 'year'],how='left')\n",
    "    df_.drop('year', axis=1, inplace=True)\n",
    "    \n",
    "    return df_"
   ]
  },
  {
   "cell_type": "code",
   "execution_count": 19,
   "metadata": {
    "ExecuteTime": {
     "end_time": "2022-09-30T21:54:58.147816Z",
     "start_time": "2022-09-30T21:54:58.133817Z"
    },
    "code_folding": [
     0
    ]
   },
   "outputs": [],
   "source": [
    "def feature_ajustment_date(df_): \n",
    "    \n",
    "    # passo 1\n",
    "    df_.loc[(df_.date.dt.is_leap_year) & (df_.fe_day_of_year >= 60),'fe_day_of_year'] -= 1\n",
    "    \n",
    "    # passo 2 \n",
    "    df_[\"fe_day_of_year\"] = df_.apply(lambda x: x[\"fe_day_of_year\"]-1 \\\n",
    "                                      if (x[\"date\"] > pd.Timestamp(\"2020-02-29\") and x[\"date\"] \\\n",
    "                                      < pd.Timestamp(\"2021-01-01\"))  else x[\"fe_day_of_year\"], axis=1)\n",
    "\n",
    "    # passo 3 \n",
    "    df_['fe_sp_day'] = (df_['date'].dt.month*100 + df_['date'].dt.day).isin([101,1228,1229,1230,1231]).astype(int)    \n",
    "    df_ = pd.get_dummies(df_, columns = ['fe_day_of_week'], drop_first=True)\n",
    "        \n",
    "    # Páscoa \n",
    "    easter_date = df_.date.apply(lambda date: pd.Timestamp(easter.easter(date.year)))\n",
    "    df_['fe_easter'] = 0 \n",
    "    df_['fe_easter'] = (df_.date - easter_date).dt.days.eq(1).astype(int)\n",
    "    \n",
    "    #for day in list(range(1, 5)):\n",
    "    #    df_[f'fe_easter_{day}'] = (df_.date - easter_date).dt.days.eq(day)\n",
    "                      \n",
    "    return df_   "
   ]
  },
  {
   "cell_type": "code",
   "execution_count": 119,
   "metadata": {
    "ExecuteTime": {
     "end_time": "2022-09-30T23:15:52.721239Z",
     "start_time": "2022-09-30T23:15:52.712204Z"
    },
    "code_folding": [],
    "run_control": {
     "marked": false
    }
   },
   "outputs": [],
   "source": [
    "def feature_fourier(df_):\n",
    "    \n",
    "    # Variações sazonais (série Fourier)\n",
    "    # Os três produtos têm padrões sazonais diferentes   \n",
    "    # k=1 -> 2 years, k=2 -> 1 year, k=4 -> 6 months\n",
    "    seasonality_list = [1, 2, 3, 4] # 6,  12, 52, 104\n",
    "    dayofyear        = df_.date.dt.dayofyear\n",
    "        \n",
    "    for k in seasonality_list:\n",
    "        df_[f'fe_sin_{k}'] = np.sin(dayofyear / 365 * 2 * np.pi * k)\n",
    "        df_[f'fe_cos_{k}'] = np.cos(dayofyear / 365 * 2 * np.pi * k)  \n",
    "        for i, p in enumerate(df_['product'].unique()): \n",
    "            product = p            \n",
    "            df_[f'fe_four_sin_{k}_{product}']  = df_[f'fe_sin_{k}'] * (df_['product']==p).astype(int)\n",
    "            df_[f'fe_four_cos_{k}_{product}']  = df_[f'fe_cos_{k}'] * (df_['product']==p).astype(int)\n",
    "        df_.drop([f'fe_sin_{k}'], axis=1, inplace=True)\n",
    "        df_.drop([f'fe_cos_{k}'], axis=1, inplace=True)\n",
    "                \n",
    "    return df_"
   ]
  },
  {
   "cell_type": "code",
   "execution_count": 120,
   "metadata": {
    "ExecuteTime": {
     "end_time": "2022-09-30T23:15:53.132397Z",
     "start_time": "2022-09-30T23:15:53.115401Z"
    },
    "code_folding": [
     0
    ]
   },
   "outputs": [],
   "source": [
    "def feature_cci(df_):\n",
    "\n",
    "    country_location = {'FRA': 'France','POL': 'Poland','ESP': 'Spain','BEL': 'Belgium',\n",
    "                        'ITA': 'Italy','DEU': 'Germany', 'OECD': 'Other'}\n",
    "        \n",
    "    df_cci = pd.read_csv(path + 'Data/consumer_confidence_index_cci.csv')\n",
    "    \n",
    "    df_cci['country'] = df_cci['Location'].map(country_location)\n",
    "    df_cci['year']    = df_cci['Time'].str.split('-', expand = True)[0].astype(int)\n",
    "    df_cci['month']   = df_cci['Time'].str.split('-', expand = True)[1].astype(int)\n",
    "\n",
    "    #df_  = df1_train.copy()\n",
    "    df_['year']  = df_['date'].dt.year\n",
    "    df_['month'] = df_['date'].dt.month\n",
    "\n",
    "    df_ = df_.merge(df_cci[['country', 'year', 'month', 'cci_value']], \n",
    "                    how      = 'left', \n",
    "                    left_on  = ['country', 'year', 'month'], \n",
    "                    right_on = ['country', 'year', 'month'])\n",
    "\n",
    "    df_.drop(['year', 'month'], axis=1, inplace=True)\n",
    "    df_.head()\n",
    "    \n",
    "    return df_ "
   ]
  },
  {
   "cell_type": "code",
   "execution_count": 121,
   "metadata": {
    "ExecuteTime": {
     "end_time": "2022-09-30T23:15:53.461221Z",
     "start_time": "2022-09-30T23:15:53.448219Z"
    },
    "code_folding": [
     0
    ]
   },
   "outputs": [],
   "source": [
    "def feature_season(df_):\n",
    "\n",
    "    years     = df_['date'].dt.year.unique().tolist() \n",
    "    years_min = [np.min(years)-1]\n",
    "    years_max = [np.max(years)+1]\n",
    "    years     = years_min + years + years_max\n",
    "\n",
    "    df_['fe_season'] = np.nan\n",
    "\n",
    "    for year in years: \n",
    "        season = [('fe_winter', str(year) + '-04-21', str(year) + '-06-20'),\n",
    "                  ('fe_spring', str(year) + '-06-21', str(year) + '-09-20'),\n",
    "                  ('fe_summer', str(year) + '-09-21', str(year) + '-12-20'),\n",
    "                  ('fe_autumn', str(year) + '-12-21', str(year+1) + '-04-20')]\n",
    "        for s in season: \n",
    "            df_['fe_season'][(df_['date']>=s[1]) & (df_['date']<=s[2])] = s[0]\n",
    "\n",
    "    df_ =  create_feature_dammy(df_, ['fe_season'])\n",
    "\n",
    "    return df_"
   ]
  },
  {
   "cell_type": "code",
   "execution_count": 122,
   "metadata": {
    "ExecuteTime": {
     "end_time": "2022-09-30T23:15:53.979635Z",
     "start_time": "2022-09-30T23:15:53.964635Z"
    },
    "code_folding": [
     0
    ],
    "run_control": {
     "marked": false
    }
   },
   "outputs": [],
   "source": [
    "def end_year(df_):\n",
    "\n",
    "    df_dec  = pd.DataFrame({f\"fe_dec_{d}\": (df_.date.dt.month==12) & (df_.date.dt.day==d)\n",
    "                           for d in range(26, 32)}).astype(int)\n",
    "\n",
    "    df_jan  = pd.DataFrame({f\"fe_jan_{d}\": (df_.date.dt.month==1) & (df_.date.dt.day==d)\n",
    "                           for d in range(1, 5)}).astype(int)\n",
    "\n",
    "    df_may1 = pd.DataFrame({f\"fe_may_{d}\": (df_.date.dt.month==5) & (df_.date.dt.day==d)\n",
    "                           for d in range(1, 10)}).astype(int)\n",
    "\n",
    "    df_may2 = pd.DataFrame({f\"fe_may_{d}\": (df_.date.dt.month==5) & (df_.date.dt.day==d)\n",
    "                            for d in range(19, 26)}).astype(int)\n",
    "\n",
    "    df_jun  = pd.DataFrame({f\"fe_june_{d}\": (df_.date.dt.month==6) & (df_.date.dt.day==d)\n",
    "                            for d in range(8, 14)}).astype(int)    \n",
    "\n",
    "    df_ = pd.concat([df_, df_dec, df_jan, df_jun], axis=1)    # df_may1, df_may1\n",
    "\n",
    "    df_['fe_week_after_easter']='fe_week_after_easter_99'\n",
    "\n",
    "    for y in df_['date'].dt.year.unique():     \n",
    "        day_easter_i = pd.Timestamp(easter.easter(y))\n",
    "        day_easter_f = pd.Timestamp(easter.easter(y)+timedelta(6))\n",
    "        filtro = (df_['date']>=day_easter_i)  & (df_['date']<=day_easter_f)\n",
    "        for i, d in enumerate(df_[filtro].date.unique()):\n",
    "            df_['fe_week_after_easter'][df_['date']==d] = f'fe_week_after_easter_{i+1}' \n",
    "\n",
    "    df_ =  create_feature_dammy(df_, ['fe_week_after_easter']) \n",
    "\n",
    "    return df_"
   ]
  },
  {
   "cell_type": "code",
   "execution_count": 123,
   "metadata": {
    "ExecuteTime": {
     "end_time": "2022-09-30T23:15:54.325847Z",
     "start_time": "2022-09-30T23:15:54.315836Z"
    },
    "code_folding": [
     0
    ]
   },
   "outputs": [],
   "source": [
    "def feature_map_holydays(df_, years_list_=[], countries_=[]):\n",
    "\n",
    "    countries_  = ['BE', 'FR', 'DE', 'IT', 'PL', 'ES' ]   \n",
    "    years_list_ = [2017, 2018, 2019, 2020, 2021] \n",
    "\n",
    "    df_ = df1_train.copy()\n",
    "\n",
    "\n",
    "    countries = [('Belgium', 'BE'), ('France', 'FR'), \n",
    "                 ('Germany', 'DE'), ('Italy', 'IT'), \n",
    "                 ('Poland', 'PL'), ('Spain', 'ES')]\n",
    "\n",
    "    df_['fe_holiday']      = np.nan\n",
    "    df_['fe_is_holiday']   = np.nan\n",
    "    #df_['fe_holiday_name'] = np.nan\n",
    "\n",
    "    for country in countries:\n",
    "        dic_holidays = holidays.CountryHoliday(country[0], years=years_list_)\n",
    "        df_['fe_holiday'][df_['country']==country[0]]    = df_['date'].map(dic_holidays)\n",
    "        df_['fe_is_holiday'][df_['country']==country[0]] = np.where(df_['fe_holiday'].notnull(), 1, 0)\n",
    "        df_['fe_holiday'][df_['country']==country[0]]    = df_['fe_holiday'].fillna('Not Holiday')\n",
    "\n",
    "    df_['fe_is_holiday'] = df_['fe_is_holiday'].astype(int)\n",
    "    df_.drop(['fe_holiday'], axis=1, inplace=True)\n",
    "\n",
    "    \n",
    "    return df_"
   ]
  },
  {
   "cell_type": "code",
   "execution_count": 124,
   "metadata": {
    "ExecuteTime": {
     "end_time": "2022-09-30T23:15:54.500834Z",
     "start_time": "2022-09-30T23:15:54.486838Z"
    },
    "code_folding": [
     0
    ],
    "run_control": {
     "marked": false
    }
   },
   "outputs": [],
   "source": [
    "def create_feature_engineering(df_, target_, feature_dammy_=[]):\n",
    "\n",
    "    for df in [df_]:\n",
    "        df_['date'] = df_['date'].astype(np.Datetime64)\n",
    "        df_.loc[df_['product']=='Kaggle Advanced Techniques','product']       = 'A'\n",
    "        df_.loc[df_['product']=='Kaggle Getting Started','product']           = 'B'\n",
    "        df_.loc[df_['product']=='Kaggle Recipe Book','product']               = 'C'\n",
    "        df_.loc[df_['product']=='Kaggle for Kids: One Smart Goose','product'] = 'D'    \n",
    "                \n",
    "        df_ = feature_cci(df_)\n",
    "        df_ = feature_time(df_)\n",
    "        df_ = feature_day_week(df_)\n",
    "        df_ = feature_gdp(df_)\n",
    "        df_ = feature_ajustment_date(df_)\n",
    "        df_ = feature_fourier(df_)\n",
    "        \n",
    "        df_ = feature_season(df_)\n",
    "        df_ = end_year(df_)\n",
    "        \n",
    "        # --------------------------------------------\n",
    "        # Feriado \n",
    "        # --------------------------------------------\n",
    "        countries  = ['BE', 'FR', 'DE', 'IT', 'PL', 'ES' ]   \n",
    "        years_list = [2017, 2018, 2019, 2020, 2021] \n",
    "\n",
    "        #df_ = feature_map_holydays(df_, years_list_=[], countries_=[])\n",
    "\n",
    "            \n",
    "    df_ = create_feature_dammy(df_, feature_dammy_)\n",
    "       \n",
    "    df_['fe_dammy_sum'] = df_.filter(regex=r'fe_dm').sum(axis=1)\n",
    "    \n",
    "    # Remover recursos constantes\n",
    "    cols_four = df_.filter(regex=r'fe_four').columns.to_list()\n",
    "    \n",
    "    feature_const = DropConstantFeatures(tol=0.95).fit(df_)  # [cols_four]\n",
    "    feature_drop  = feature_const.features_to_drop_ \n",
    "    \n",
    "    #print(feature_drop)\n",
    "    \n",
    "    feature_corr  = ['fe_quarter', 'fe_week_of_month', 'fe_week_of_year', \n",
    "                     'fe_day_of_week_1','fe_day_of_week_2','fe_day_of_week_3','fe_day_of_week_4',\n",
    "                     'fe_day_of_week_5','fe_day_of_week_6',                      \n",
    "                     \n",
    "                     'fe_is_month_start', 'fe_is_month_end', 'fe_sp_day', 'fe_easter', 'fe_dec_26', \n",
    "                     'fe_dec_27', 'fe_dec_28', 'fe_dec_29', 'fe_dec_30', 'fe_dec_31', 'fe_jan_1', \n",
    "                     'fe_jan_2', 'fe_jan_3', 'fe_jan_4', 'fe_june_8', 'fe_june_9', 'fe_june_10', \n",
    "                     'fe_june_11', 'fe_june_12', 'fe_june_13', 'fe_dm_fe_week_after_easter_99', \n",
    "                     'fe_dm_fe_week_after_easter_1', 'fe_dm_fe_week_after_easter_2', 'fe_dm_fe_week_after_easter_3', \n",
    "                     'fe_dm_fe_week_after_easter_4', 'fe_dm_fe_week_after_easter_5', 'fe_dm_fe_week_after_easter_6'\n",
    "                    ]\n",
    "    \n",
    "    feature_drop  = feature_corr #+ feature_drop      \n",
    "    df_.drop(feature_drop, axis=1, inplace=True)\n",
    "    \n",
    "    if target_ is not None:\n",
    "        y = df_[target]\n",
    "        df_.drop(target_, axis=1, inplace=True)\n",
    "        df_[target] = y\n",
    "\n",
    "    df_.set_index('date', inplace=True, drop=False)\n",
    "    df_.drop('date', axis=1, inplace=True)\n",
    "    \n",
    "    return df_"
   ]
  },
  {
   "cell_type": "code",
   "execution_count": 125,
   "metadata": {
    "ExecuteTime": {
     "end_time": "2022-09-30T23:15:59.212341Z",
     "start_time": "2022-09-30T23:15:54.664101Z"
    }
   },
   "outputs": [
    {
     "data": {
      "text/plain": [
       "(70128, 59)"
      ]
     },
     "metadata": {},
     "output_type": "display_data"
    },
    {
     "data": {
      "text/plain": [
       "(17520, 58)"
      ]
     },
     "metadata": {},
     "output_type": "display_data"
    },
    {
     "data": {
      "text/html": [
       "<div><div id=03aa7b2e-4f58-426b-9f04-e89855f67543 style=\"display:none; background-color:#9D6CFF; color:white; width:200px; height:30px; padding-left:5px; border-radius:4px; flex-direction:row; justify-content:space-around; align-items:center;\" onmouseover=\"this.style.backgroundColor='#BA9BF8'\" onmouseout=\"this.style.backgroundColor='#9D6CFF'\" onclick=\"window.commands?.execute('create-mitosheet-from-dataframe-output');\">See Full Dataframe in Mito</div> <script> if (window.commands?.hasCommand('create-mitosheet-from-dataframe-output')) document.getElementById('03aa7b2e-4f58-426b-9f04-e89855f67543').style.display = 'flex' </script> <table border=\"1\" class=\"dataframe\">\n",
       "  <thead>\n",
       "    <tr style=\"text-align: right;\">\n",
       "      <th></th>\n",
       "      <th>cci_value</th>\n",
       "      <th>fe_day_of_year</th>\n",
       "      <th>fe_month</th>\n",
       "      <th>fe_year</th>\n",
       "      <th>fe_day_of_month</th>\n",
       "      <th>fe_is_mon</th>\n",
       "      <th>fe_is_tue</th>\n",
       "      <th>fe_is_wed</th>\n",
       "      <th>fe_is_thu</th>\n",
       "      <th>fe_is_fri</th>\n",
       "      <th>fe_is_sat</th>\n",
       "      <th>fe_is_fri_sat</th>\n",
       "      <th>GDP</th>\n",
       "      <th>fe_four_sin_1_A</th>\n",
       "      <th>fe_four_cos_1_A</th>\n",
       "      <th>fe_four_sin_1_B</th>\n",
       "      <th>fe_four_cos_1_B</th>\n",
       "      <th>fe_four_sin_1_C</th>\n",
       "      <th>fe_four_cos_1_C</th>\n",
       "      <th>fe_four_sin_1_D</th>\n",
       "      <th>fe_four_cos_1_D</th>\n",
       "      <th>fe_four_sin_2_A</th>\n",
       "      <th>fe_four_cos_2_A</th>\n",
       "      <th>fe_four_sin_2_B</th>\n",
       "      <th>fe_four_cos_2_B</th>\n",
       "      <th>fe_four_sin_2_C</th>\n",
       "      <th>fe_four_cos_2_C</th>\n",
       "      <th>fe_four_sin_2_D</th>\n",
       "      <th>fe_four_cos_2_D</th>\n",
       "      <th>fe_four_sin_3_A</th>\n",
       "      <th>fe_four_cos_3_A</th>\n",
       "      <th>fe_four_sin_3_B</th>\n",
       "      <th>fe_four_cos_3_B</th>\n",
       "      <th>fe_four_sin_3_C</th>\n",
       "      <th>fe_four_cos_3_C</th>\n",
       "      <th>fe_four_sin_3_D</th>\n",
       "      <th>fe_four_cos_3_D</th>\n",
       "      <th>fe_four_sin_4_A</th>\n",
       "      <th>fe_four_cos_4_A</th>\n",
       "      <th>fe_four_sin_4_B</th>\n",
       "      <th>fe_four_cos_4_B</th>\n",
       "      <th>fe_four_sin_4_C</th>\n",
       "      <th>fe_four_cos_4_C</th>\n",
       "      <th>fe_four_sin_4_D</th>\n",
       "      <th>fe_four_cos_4_D</th>\n",
       "      <th>fe_dm_fe_autumn</th>\n",
       "      <th>fe_dm_fe_winter</th>\n",
       "      <th>fe_dm_fe_spring</th>\n",
       "      <th>fe_dm_Belgium</th>\n",
       "      <th>fe_dm_France</th>\n",
       "      <th>fe_dm_Germany</th>\n",
       "      <th>fe_dm_Italy</th>\n",
       "      <th>fe_dm_Poland</th>\n",
       "      <th>fe_dm_A</th>\n",
       "      <th>fe_dm_B</th>\n",
       "      <th>fe_dm_C</th>\n",
       "      <th>fe_dm_KaggleMart</th>\n",
       "      <th>fe_dammy_sum</th>\n",
       "      <th>num_sold</th>\n",
       "    </tr>\n",
       "    <tr>\n",
       "      <th>date</th>\n",
       "      <th></th>\n",
       "      <th></th>\n",
       "      <th></th>\n",
       "      <th></th>\n",
       "      <th></th>\n",
       "      <th></th>\n",
       "      <th></th>\n",
       "      <th></th>\n",
       "      <th></th>\n",
       "      <th></th>\n",
       "      <th></th>\n",
       "      <th></th>\n",
       "      <th></th>\n",
       "      <th></th>\n",
       "      <th></th>\n",
       "      <th></th>\n",
       "      <th></th>\n",
       "      <th></th>\n",
       "      <th></th>\n",
       "      <th></th>\n",
       "      <th></th>\n",
       "      <th></th>\n",
       "      <th></th>\n",
       "      <th></th>\n",
       "      <th></th>\n",
       "      <th></th>\n",
       "      <th></th>\n",
       "      <th></th>\n",
       "      <th></th>\n",
       "      <th></th>\n",
       "      <th></th>\n",
       "      <th></th>\n",
       "      <th></th>\n",
       "      <th></th>\n",
       "      <th></th>\n",
       "      <th></th>\n",
       "      <th></th>\n",
       "      <th></th>\n",
       "      <th></th>\n",
       "      <th></th>\n",
       "      <th></th>\n",
       "      <th></th>\n",
       "      <th></th>\n",
       "      <th></th>\n",
       "      <th></th>\n",
       "      <th></th>\n",
       "      <th></th>\n",
       "      <th></th>\n",
       "      <th></th>\n",
       "      <th></th>\n",
       "      <th></th>\n",
       "      <th></th>\n",
       "      <th></th>\n",
       "      <th></th>\n",
       "      <th></th>\n",
       "      <th></th>\n",
       "      <th></th>\n",
       "      <th></th>\n",
       "      <th></th>\n",
       "    </tr>\n",
       "  </thead>\n",
       "  <tbody>\n",
       "    <tr>\n",
       "      <th>2017-01-01</th>\n",
       "      <td>100.6824</td>\n",
       "      <td>1</td>\n",
       "      <td>1</td>\n",
       "      <td>2017</td>\n",
       "      <td>1</td>\n",
       "      <td>0</td>\n",
       "      <td>0</td>\n",
       "      <td>0</td>\n",
       "      <td>0</td>\n",
       "      <td>0</td>\n",
       "      <td>1</td>\n",
       "      <td>1</td>\n",
       "      <td>0.5015</td>\n",
       "      <td>0.017213</td>\n",
       "      <td>0.999852</td>\n",
       "      <td>0.000000</td>\n",
       "      <td>0.000000</td>\n",
       "      <td>0.000000</td>\n",
       "      <td>0.000000</td>\n",
       "      <td>0.000000</td>\n",
       "      <td>0.000000</td>\n",
       "      <td>0.034422</td>\n",
       "      <td>0.999407</td>\n",
       "      <td>0.000000</td>\n",
       "      <td>0.000000</td>\n",
       "      <td>0.000000</td>\n",
       "      <td>0.000000</td>\n",
       "      <td>0.000000</td>\n",
       "      <td>0.000000</td>\n",
       "      <td>0.05162</td>\n",
       "      <td>0.998667</td>\n",
       "      <td>0.00000</td>\n",
       "      <td>0.000000</td>\n",
       "      <td>0.00000</td>\n",
       "      <td>0.000000</td>\n",
       "      <td>0.00000</td>\n",
       "      <td>0.000000</td>\n",
       "      <td>0.068802</td>\n",
       "      <td>0.99763</td>\n",
       "      <td>0.000000</td>\n",
       "      <td>0.00000</td>\n",
       "      <td>0.000000</td>\n",
       "      <td>0.00000</td>\n",
       "      <td>0.000000</td>\n",
       "      <td>0.00000</td>\n",
       "      <td>1</td>\n",
       "      <td>0</td>\n",
       "      <td>0</td>\n",
       "      <td>1</td>\n",
       "      <td>0</td>\n",
       "      <td>0</td>\n",
       "      <td>0</td>\n",
       "      <td>0</td>\n",
       "      <td>1</td>\n",
       "      <td>0</td>\n",
       "      <td>0</td>\n",
       "      <td>1</td>\n",
       "      <td>5</td>\n",
       "      <td>663</td>\n",
       "    </tr>\n",
       "    <tr>\n",
       "      <th>2017-01-01</th>\n",
       "      <td>100.6824</td>\n",
       "      <td>1</td>\n",
       "      <td>1</td>\n",
       "      <td>2017</td>\n",
       "      <td>1</td>\n",
       "      <td>0</td>\n",
       "      <td>0</td>\n",
       "      <td>0</td>\n",
       "      <td>0</td>\n",
       "      <td>0</td>\n",
       "      <td>1</td>\n",
       "      <td>1</td>\n",
       "      <td>0.5015</td>\n",
       "      <td>0.000000</td>\n",
       "      <td>0.000000</td>\n",
       "      <td>0.017213</td>\n",
       "      <td>0.999852</td>\n",
       "      <td>0.000000</td>\n",
       "      <td>0.000000</td>\n",
       "      <td>0.000000</td>\n",
       "      <td>0.000000</td>\n",
       "      <td>0.000000</td>\n",
       "      <td>0.000000</td>\n",
       "      <td>0.034422</td>\n",
       "      <td>0.999407</td>\n",
       "      <td>0.000000</td>\n",
       "      <td>0.000000</td>\n",
       "      <td>0.000000</td>\n",
       "      <td>0.000000</td>\n",
       "      <td>0.00000</td>\n",
       "      <td>0.000000</td>\n",
       "      <td>0.05162</td>\n",
       "      <td>0.998667</td>\n",
       "      <td>0.00000</td>\n",
       "      <td>0.000000</td>\n",
       "      <td>0.00000</td>\n",
       "      <td>0.000000</td>\n",
       "      <td>0.000000</td>\n",
       "      <td>0.00000</td>\n",
       "      <td>0.068802</td>\n",
       "      <td>0.99763</td>\n",
       "      <td>0.000000</td>\n",
       "      <td>0.00000</td>\n",
       "      <td>0.000000</td>\n",
       "      <td>0.00000</td>\n",
       "      <td>1</td>\n",
       "      <td>0</td>\n",
       "      <td>0</td>\n",
       "      <td>1</td>\n",
       "      <td>0</td>\n",
       "      <td>0</td>\n",
       "      <td>0</td>\n",
       "      <td>0</td>\n",
       "      <td>0</td>\n",
       "      <td>1</td>\n",
       "      <td>0</td>\n",
       "      <td>1</td>\n",
       "      <td>5</td>\n",
       "      <td>615</td>\n",
       "    </tr>\n",
       "    <tr>\n",
       "      <th>2017-01-01</th>\n",
       "      <td>100.6824</td>\n",
       "      <td>1</td>\n",
       "      <td>1</td>\n",
       "      <td>2017</td>\n",
       "      <td>1</td>\n",
       "      <td>0</td>\n",
       "      <td>0</td>\n",
       "      <td>0</td>\n",
       "      <td>0</td>\n",
       "      <td>0</td>\n",
       "      <td>1</td>\n",
       "      <td>1</td>\n",
       "      <td>0.5015</td>\n",
       "      <td>0.000000</td>\n",
       "      <td>0.000000</td>\n",
       "      <td>0.000000</td>\n",
       "      <td>0.000000</td>\n",
       "      <td>0.017213</td>\n",
       "      <td>0.999852</td>\n",
       "      <td>0.000000</td>\n",
       "      <td>0.000000</td>\n",
       "      <td>0.000000</td>\n",
       "      <td>0.000000</td>\n",
       "      <td>0.000000</td>\n",
       "      <td>0.000000</td>\n",
       "      <td>0.034422</td>\n",
       "      <td>0.999407</td>\n",
       "      <td>0.000000</td>\n",
       "      <td>0.000000</td>\n",
       "      <td>0.00000</td>\n",
       "      <td>0.000000</td>\n",
       "      <td>0.00000</td>\n",
       "      <td>0.000000</td>\n",
       "      <td>0.05162</td>\n",
       "      <td>0.998667</td>\n",
       "      <td>0.00000</td>\n",
       "      <td>0.000000</td>\n",
       "      <td>0.000000</td>\n",
       "      <td>0.00000</td>\n",
       "      <td>0.000000</td>\n",
       "      <td>0.00000</td>\n",
       "      <td>0.068802</td>\n",
       "      <td>0.99763</td>\n",
       "      <td>0.000000</td>\n",
       "      <td>0.00000</td>\n",
       "      <td>1</td>\n",
       "      <td>0</td>\n",
       "      <td>0</td>\n",
       "      <td>1</td>\n",
       "      <td>0</td>\n",
       "      <td>0</td>\n",
       "      <td>0</td>\n",
       "      <td>0</td>\n",
       "      <td>0</td>\n",
       "      <td>0</td>\n",
       "      <td>1</td>\n",
       "      <td>1</td>\n",
       "      <td>5</td>\n",
       "      <td>480</td>\n",
       "    </tr>\n",
       "    <tr>\n",
       "      <th>2017-01-01</th>\n",
       "      <td>100.6824</td>\n",
       "      <td>1</td>\n",
       "      <td>1</td>\n",
       "      <td>2017</td>\n",
       "      <td>1</td>\n",
       "      <td>0</td>\n",
       "      <td>0</td>\n",
       "      <td>0</td>\n",
       "      <td>0</td>\n",
       "      <td>0</td>\n",
       "      <td>1</td>\n",
       "      <td>1</td>\n",
       "      <td>0.5015</td>\n",
       "      <td>0.000000</td>\n",
       "      <td>0.000000</td>\n",
       "      <td>0.000000</td>\n",
       "      <td>0.000000</td>\n",
       "      <td>0.000000</td>\n",
       "      <td>0.000000</td>\n",
       "      <td>0.017213</td>\n",
       "      <td>0.999852</td>\n",
       "      <td>0.000000</td>\n",
       "      <td>0.000000</td>\n",
       "      <td>0.000000</td>\n",
       "      <td>0.000000</td>\n",
       "      <td>0.000000</td>\n",
       "      <td>0.000000</td>\n",
       "      <td>0.034422</td>\n",
       "      <td>0.999407</td>\n",
       "      <td>0.00000</td>\n",
       "      <td>0.000000</td>\n",
       "      <td>0.00000</td>\n",
       "      <td>0.000000</td>\n",
       "      <td>0.00000</td>\n",
       "      <td>0.000000</td>\n",
       "      <td>0.05162</td>\n",
       "      <td>0.998667</td>\n",
       "      <td>0.000000</td>\n",
       "      <td>0.00000</td>\n",
       "      <td>0.000000</td>\n",
       "      <td>0.00000</td>\n",
       "      <td>0.000000</td>\n",
       "      <td>0.00000</td>\n",
       "      <td>0.068802</td>\n",
       "      <td>0.99763</td>\n",
       "      <td>1</td>\n",
       "      <td>0</td>\n",
       "      <td>0</td>\n",
       "      <td>1</td>\n",
       "      <td>0</td>\n",
       "      <td>0</td>\n",
       "      <td>0</td>\n",
       "      <td>0</td>\n",
       "      <td>0</td>\n",
       "      <td>0</td>\n",
       "      <td>0</td>\n",
       "      <td>1</td>\n",
       "      <td>4</td>\n",
       "      <td>710</td>\n",
       "    </tr>\n",
       "    <tr>\n",
       "      <th>2017-01-01</th>\n",
       "      <td>100.6824</td>\n",
       "      <td>1</td>\n",
       "      <td>1</td>\n",
       "      <td>2017</td>\n",
       "      <td>1</td>\n",
       "      <td>0</td>\n",
       "      <td>0</td>\n",
       "      <td>0</td>\n",
       "      <td>0</td>\n",
       "      <td>0</td>\n",
       "      <td>1</td>\n",
       "      <td>1</td>\n",
       "      <td>0.5015</td>\n",
       "      <td>0.017213</td>\n",
       "      <td>0.999852</td>\n",
       "      <td>0.000000</td>\n",
       "      <td>0.000000</td>\n",
       "      <td>0.000000</td>\n",
       "      <td>0.000000</td>\n",
       "      <td>0.000000</td>\n",
       "      <td>0.000000</td>\n",
       "      <td>0.034422</td>\n",
       "      <td>0.999407</td>\n",
       "      <td>0.000000</td>\n",
       "      <td>0.000000</td>\n",
       "      <td>0.000000</td>\n",
       "      <td>0.000000</td>\n",
       "      <td>0.000000</td>\n",
       "      <td>0.000000</td>\n",
       "      <td>0.05162</td>\n",
       "      <td>0.998667</td>\n",
       "      <td>0.00000</td>\n",
       "      <td>0.000000</td>\n",
       "      <td>0.00000</td>\n",
       "      <td>0.000000</td>\n",
       "      <td>0.00000</td>\n",
       "      <td>0.000000</td>\n",
       "      <td>0.068802</td>\n",
       "      <td>0.99763</td>\n",
       "      <td>0.000000</td>\n",
       "      <td>0.00000</td>\n",
       "      <td>0.000000</td>\n",
       "      <td>0.00000</td>\n",
       "      <td>0.000000</td>\n",
       "      <td>0.00000</td>\n",
       "      <td>1</td>\n",
       "      <td>0</td>\n",
       "      <td>0</td>\n",
       "      <td>1</td>\n",
       "      <td>0</td>\n",
       "      <td>0</td>\n",
       "      <td>0</td>\n",
       "      <td>0</td>\n",
       "      <td>1</td>\n",
       "      <td>0</td>\n",
       "      <td>0</td>\n",
       "      <td>0</td>\n",
       "      <td>4</td>\n",
       "      <td>240</td>\n",
       "    </tr>\n",
       "  </tbody>\n",
       "</table></div>"
      ],
      "text/plain": [
       "            cci_value  fe_day_of_year  fe_month  fe_year  fe_day_of_month  \\\n",
       "date                                                                        \n",
       "2017-01-01   100.6824               1         1     2017                1   \n",
       "2017-01-01   100.6824               1         1     2017                1   \n",
       "2017-01-01   100.6824               1         1     2017                1   \n",
       "2017-01-01   100.6824               1         1     2017                1   \n",
       "2017-01-01   100.6824               1         1     2017                1   \n",
       "\n",
       "            fe_is_mon  fe_is_tue  fe_is_wed  fe_is_thu  fe_is_fri  fe_is_sat  \\\n",
       "date                                                                           \n",
       "2017-01-01          0          0          0          0          0          1   \n",
       "2017-01-01          0          0          0          0          0          1   \n",
       "2017-01-01          0          0          0          0          0          1   \n",
       "2017-01-01          0          0          0          0          0          1   \n",
       "2017-01-01          0          0          0          0          0          1   \n",
       "\n",
       "            fe_is_fri_sat     GDP  fe_four_sin_1_A  fe_four_cos_1_A  \\\n",
       "date                                                                  \n",
       "2017-01-01              1  0.5015         0.017213         0.999852   \n",
       "2017-01-01              1  0.5015         0.000000         0.000000   \n",
       "2017-01-01              1  0.5015         0.000000         0.000000   \n",
       "2017-01-01              1  0.5015         0.000000         0.000000   \n",
       "2017-01-01              1  0.5015         0.017213         0.999852   \n",
       "\n",
       "            fe_four_sin_1_B  fe_four_cos_1_B  fe_four_sin_1_C  \\\n",
       "date                                                            \n",
       "2017-01-01         0.000000         0.000000         0.000000   \n",
       "2017-01-01         0.017213         0.999852         0.000000   \n",
       "2017-01-01         0.000000         0.000000         0.017213   \n",
       "2017-01-01         0.000000         0.000000         0.000000   \n",
       "2017-01-01         0.000000         0.000000         0.000000   \n",
       "\n",
       "            fe_four_cos_1_C  fe_four_sin_1_D  fe_four_cos_1_D  \\\n",
       "date                                                            \n",
       "2017-01-01         0.000000         0.000000         0.000000   \n",
       "2017-01-01         0.000000         0.000000         0.000000   \n",
       "2017-01-01         0.999852         0.000000         0.000000   \n",
       "2017-01-01         0.000000         0.017213         0.999852   \n",
       "2017-01-01         0.000000         0.000000         0.000000   \n",
       "\n",
       "            fe_four_sin_2_A  fe_four_cos_2_A  fe_four_sin_2_B  \\\n",
       "date                                                            \n",
       "2017-01-01         0.034422         0.999407         0.000000   \n",
       "2017-01-01         0.000000         0.000000         0.034422   \n",
       "2017-01-01         0.000000         0.000000         0.000000   \n",
       "2017-01-01         0.000000         0.000000         0.000000   \n",
       "2017-01-01         0.034422         0.999407         0.000000   \n",
       "\n",
       "            fe_four_cos_2_B  fe_four_sin_2_C  fe_four_cos_2_C  \\\n",
       "date                                                            \n",
       "2017-01-01         0.000000         0.000000         0.000000   \n",
       "2017-01-01         0.999407         0.000000         0.000000   \n",
       "2017-01-01         0.000000         0.034422         0.999407   \n",
       "2017-01-01         0.000000         0.000000         0.000000   \n",
       "2017-01-01         0.000000         0.000000         0.000000   \n",
       "\n",
       "            fe_four_sin_2_D  fe_four_cos_2_D  fe_four_sin_3_A  \\\n",
       "date                                                            \n",
       "2017-01-01         0.000000         0.000000          0.05162   \n",
       "2017-01-01         0.000000         0.000000          0.00000   \n",
       "2017-01-01         0.000000         0.000000          0.00000   \n",
       "2017-01-01         0.034422         0.999407          0.00000   \n",
       "2017-01-01         0.000000         0.000000          0.05162   \n",
       "\n",
       "            fe_four_cos_3_A  fe_four_sin_3_B  fe_four_cos_3_B  \\\n",
       "date                                                            \n",
       "2017-01-01         0.998667          0.00000         0.000000   \n",
       "2017-01-01         0.000000          0.05162         0.998667   \n",
       "2017-01-01         0.000000          0.00000         0.000000   \n",
       "2017-01-01         0.000000          0.00000         0.000000   \n",
       "2017-01-01         0.998667          0.00000         0.000000   \n",
       "\n",
       "            fe_four_sin_3_C  fe_four_cos_3_C  fe_four_sin_3_D  \\\n",
       "date                                                            \n",
       "2017-01-01          0.00000         0.000000          0.00000   \n",
       "2017-01-01          0.00000         0.000000          0.00000   \n",
       "2017-01-01          0.05162         0.998667          0.00000   \n",
       "2017-01-01          0.00000         0.000000          0.05162   \n",
       "2017-01-01          0.00000         0.000000          0.00000   \n",
       "\n",
       "            fe_four_cos_3_D  fe_four_sin_4_A  fe_four_cos_4_A  \\\n",
       "date                                                            \n",
       "2017-01-01         0.000000         0.068802          0.99763   \n",
       "2017-01-01         0.000000         0.000000          0.00000   \n",
       "2017-01-01         0.000000         0.000000          0.00000   \n",
       "2017-01-01         0.998667         0.000000          0.00000   \n",
       "2017-01-01         0.000000         0.068802          0.99763   \n",
       "\n",
       "            fe_four_sin_4_B  fe_four_cos_4_B  fe_four_sin_4_C  \\\n",
       "date                                                            \n",
       "2017-01-01         0.000000          0.00000         0.000000   \n",
       "2017-01-01         0.068802          0.99763         0.000000   \n",
       "2017-01-01         0.000000          0.00000         0.068802   \n",
       "2017-01-01         0.000000          0.00000         0.000000   \n",
       "2017-01-01         0.000000          0.00000         0.000000   \n",
       "\n",
       "            fe_four_cos_4_C  fe_four_sin_4_D  fe_four_cos_4_D  \\\n",
       "date                                                            \n",
       "2017-01-01          0.00000         0.000000          0.00000   \n",
       "2017-01-01          0.00000         0.000000          0.00000   \n",
       "2017-01-01          0.99763         0.000000          0.00000   \n",
       "2017-01-01          0.00000         0.068802          0.99763   \n",
       "2017-01-01          0.00000         0.000000          0.00000   \n",
       "\n",
       "            fe_dm_fe_autumn  fe_dm_fe_winter  fe_dm_fe_spring  fe_dm_Belgium  \\\n",
       "date                                                                           \n",
       "2017-01-01                1                0                0              1   \n",
       "2017-01-01                1                0                0              1   \n",
       "2017-01-01                1                0                0              1   \n",
       "2017-01-01                1                0                0              1   \n",
       "2017-01-01                1                0                0              1   \n",
       "\n",
       "            fe_dm_France  fe_dm_Germany  fe_dm_Italy  fe_dm_Poland  fe_dm_A  \\\n",
       "date                                                                          \n",
       "2017-01-01             0              0            0             0        1   \n",
       "2017-01-01             0              0            0             0        0   \n",
       "2017-01-01             0              0            0             0        0   \n",
       "2017-01-01             0              0            0             0        0   \n",
       "2017-01-01             0              0            0             0        1   \n",
       "\n",
       "            fe_dm_B  fe_dm_C  fe_dm_KaggleMart  fe_dammy_sum  num_sold  \n",
       "date                                                                    \n",
       "2017-01-01        0        0                 1             5       663  \n",
       "2017-01-01        1        0                 1             5       615  \n",
       "2017-01-01        0        1                 1             5       480  \n",
       "2017-01-01        0        0                 1             4       710  \n",
       "2017-01-01        0        0                 0             4       240  "
      ]
     },
     "metadata": {},
     "output_type": "display_data"
    },
    {
     "name": "stdout",
     "output_type": "stream",
     "text": [
      "CPU times: total: 4.48 s\n",
      "Wall time: 4.53 s\n"
     ]
    }
   ],
   "source": [
    "%%time \n",
    "\n",
    "country  = 'Poland' \n",
    "store    = 'KaggleMart'\n",
    "product  = 'Kaggle Advanced Techniques'\n",
    "\n",
    "df2_train = df1_train.drop('row_id', axis=1).copy()\n",
    "df2_test  = df1_test.drop('row_id', axis=1).copy()\n",
    "\n",
    "feature   = ['country','product', 'store']\n",
    "df2_train = create_feature_engineering(df2_train, target, feature)\n",
    "df2_test  = create_feature_engineering(df2_test, None, feature)\n",
    "\n",
    "display(df2_train.shape, df2_test.shape, df2_train.head())"
   ]
  },
  {
   "cell_type": "markdown",
   "metadata": {
    "ExecuteTime": {
     "end_time": "2022-09-30T04:09:44.611421Z",
     "start_time": "2022-09-30T04:09:44.589426Z"
    }
   },
   "source": [
    "### 2.1.1. Correlação"
   ]
  },
  {
   "cell_type": "code",
   "execution_count": 126,
   "metadata": {
    "ExecuteTime": {
     "end_time": "2022-09-30T23:16:16.995722Z",
     "start_time": "2022-09-30T23:16:03.366723Z"
    }
   },
   "outputs": [
    {
     "data": {
      "image/png": "[encoded data removed]",
      "text/plain": [
       "<Figure size 1440x1080 with 2 Axes>"
      ]
     },
     "metadata": {},
     "output_type": "display_data"
    },
    {
     "data": {
      "text/plain": [
       "{'fe_month'}"
      ]
     },
     "execution_count": 126,
     "metadata": {},
     "output_type": "execute_result"
    }
   ],
   "source": [
    "plt.figure(figsize=(20,15))\n",
    "\n",
    "utility.graf_feature_corr(df2_train.copy(),\n",
    "                          annot_      = True,\n",
    "                          threshold_  = 0.8,\n",
    "                          print_var_  = False,\n",
    "                          print_graf_ = True,\n",
    "                          mask_       = False)"
   ]
  },
  {
   "cell_type": "markdown",
   "metadata": {},
   "source": [
    "### 2.1.1. Treine o modelo"
   ]
  },
  {
   "cell_type": "code",
   "execution_count": 127,
   "metadata": {
    "ExecuteTime": {
     "end_time": "2022-09-30T23:16:17.011751Z",
     "start_time": "2022-09-30T23:16:16.999757Z"
    },
    "code_folding": [
     0
    ]
   },
   "outputs": [],
   "source": [
    "def fit_model_feature_engineering(model_, X_tr_, y_tr, X_vl_, y_vl_, target_=target, \n",
    "                                  scaler_=None, feature_scaler_=None):\n",
    "    \n",
    "    cols       = X_tr_.columns\n",
    "    X_train_sc = X_tr_\n",
    "    X_valid_sc = X_vl_\n",
    "    \n",
    "    if scaler_ is not None:         \n",
    "        if feature_scaler_ is not None: \n",
    "            scaler_.fit(X_train_sc[feature_scaler_])\n",
    "            X_train_sc[feature_scaler_] = scaler_.transform(X_train_sc[feature_scaler_])\n",
    "            X_valid_sc[feature_scaler_] = scaler_.transform(X_vl_[feature_scaler_])\n",
    "\n",
    "    X_train_sc.index   = X_tr_.index\n",
    "    X_valid_sc.index   = X_vl_.index\n",
    "    \n",
    "    model_.fit(X_train_sc, np.log(y_tr))\n",
    "    #model_.fit(X_train_sc, y_tr)\n",
    "    \n",
    "    name_pred = target_+'_pred'\n",
    "    \n",
    "    X_valid_sc[name_pred] = np.exp(model_.predict(X_valid_sc)).astype(int)\n",
    "    #X_valid_sc[name_pred] = model_.predict(X_valid_sc).astype(int)\n",
    "    X_valid_sc[target_]   = y_vl_\n",
    "        \n",
    "    rmse, mae, mse, mape, r_squared, smape = \\\n",
    "          utility.evaluation(y_vl_, X_valid_sc.num_sold_pred, smape_base_=200) \n",
    "    \n",
    "    msg = '=> RMSE: {:2.5F} - MAE: {:2.5F} - SMAPE: {:2.5F}'\n",
    "    print(msg.format(rmse, mae, smape))\n",
    "    print()\n",
    "    \n",
    "    plt.figure(figsize=(20, 6))\n",
    "    plt.plot(X_valid_sc.index, X_valid_sc.num_sold, label='Real')\n",
    "    plt.plot(X_valid_sc.index, X_valid_sc.num_sold_pred, label='Prediction')\n",
    "\n",
    "    plt.legend()\n",
    "    plt.title('Previsões e num_sold por cinco anos')\n",
    "    plt.show()\n",
    "        \n",
    "    return model_, scaler_"
   ]
  },
  {
   "cell_type": "code",
   "execution_count": 128,
   "metadata": {
    "ExecuteTime": {
     "end_time": "2022-09-30T23:16:23.536758Z",
     "start_time": "2022-09-30T23:16:17.014775Z"
    }
   },
   "outputs": [
    {
     "name": "stdout",
     "output_type": "stream",
     "text": [
      "=> RMSE: 22.94698 - MAE: 13.78508 - SMAPE: 6.20228\n",
      "\n"
     ]
    },
    {
     "data": {
      "image/png": "[encoded data removed]",
      "text/plain": [
       "<Figure size 1440x432 with 1 Axes>"
      ]
     },
     "metadata": {},
     "output_type": "display_data"
    },
    {
     "name": "stdout",
     "output_type": "stream",
     "text": [
      "CPU times: total: 8.48 s\n",
      "Wall time: 6.5 s\n"
     ]
    }
   ],
   "source": [
    "%%time \n",
    "\n",
    "filtro   = (df2_train['fe_dm_Poland']==1) & \\\n",
    "           (df2_train['fe_dm_A']==1)     & \\\n",
    "           (df2_train['fe_dm_KaggleMart']==1) \n",
    "\n",
    "filtro2  = (df2_test['fe_dm_Poland']==1) & \\\n",
    "           (df2_test['fe_dm_A']==1)     & \\\n",
    "           (df2_test['fe_dm_KaggleMart']==1) \n",
    "\n",
    "df_valid = df2_train[filtro].copy()\n",
    "#df_valid = pd.concat([df_valid, df2_test[filtro2] ])\n",
    "\n",
    "X_train = df2_train.drop([target], axis=1).copy()\n",
    "y_train = df2_train[target]\n",
    "X_valid = df_valid.drop([target], axis=1).copy()\n",
    "y_valid = df_valid[target]\n",
    "\n",
    "feature_scaler = ['fe_day_of_year', 'fe_year', 'cci_value',\n",
    "                  'fe_day_of_month', 'fe_dammy_sum', 'fe_sum_all'] \n",
    "\n",
    "model = xgb.XGBRegressor(**params_xgb)\n",
    "#model = Ridge()\n",
    "#model  = HistGradientBoostingRegressor(random_state=seed)\n",
    "model_, scaler_ = \\\n",
    "    fit_model_feature_engineering(model_          = model , \n",
    "                                  X_tr_           = X_train, \n",
    "                                  y_tr            = y_train, \n",
    "                                  X_vl_           = X_valid, \n",
    "                                  y_vl_           = y_valid, \n",
    "                                  target_         = target, \n",
    "                                  scaler_         = None, \n",
    "                                  feature_scaler_ = feature_scaler)\n",
    "\n",
    "# => RMSE: 109.14371 - MAE: 100.87201- SMAPE: 48.81163 \n",
    "# => RMSE: 101.76855 - MAE: 69.94935 - SMAPE: 32.87798 com transformação de log\n",
    "# => RMSE: 101.49361 - MAE: 69.70089 - SMAPE: 32.71591 com acrescimo da feature dia da semana\n",
    "# => RMSE: 53.08132  - MAE: 36.71937 - SMAPE: 16.38144 com acrescimo da feautre sum de todas as variáveis\n",
    "# => RMSE: 52.96299 - MAE: 36.66051  - SMAPE: 16.36410 com acrescimo da feature gdp com remoção de variáveis \n",
    "# => RMSE: 52.95086 - MAE: 36.65229 - SMAPE: 16.36007 com ajuste de data passo 1 com remoção de variáveis\n",
    "# => RMSE: 52.92516 - MAE: 36.63860 - SMAPE: 16.35500 com ajuste de data passo 2 com remoção de variáveis\n",
    "# => RMSE: 52.92960 - MAE: 36.63792 - SMAPE: 16.35386 com ajuste de data passo 3 com remoção de variáveis\n",
    "# => RMSE: 54.25364 - MAE: 36.88706 - SMAPE: 16.32496 inclusão da variável páscoa e retorno das var excluídas\n",
    "\n",
    "# => RMSE: 57.59983 - MAE: 33.98700 - SMAPE: 13.35260 inclusão das variáveis de tomada de fourier\n",
    "\n",
    "# => RMSE: 7.29373 - MAE: 5.40657 - SMAPE: 3.00997 \n",
    "# => RMSE: 8.25160 - MAE: 5.83984 - SMAPE: 3.18010 \n",
    "# => RMSE: 7.47265 - MAE: 5.42163 - SMAPE: 2.98146 \n",
    "\n",
    "\n",
    "# => RMSE: 57.58516 - MAE: 33.99589 - SMAPE: 13.36059\n",
    "\n",
    "# => RMSE: 6.28733 - MAE: 4.87064 - SMAPE: 3.07405 sem scaler\n",
    "# => RMSE: 6.25020 - MAE: 4.82409 - SMAPE: 3.01762 com scaler\n",
    "\n",
    "# => RMSE: 3.18847 - MAE: 0.82615 - SMAPE: 0.44566 sem scaler \n",
    "# => RMSE: 3.17922 - MAE: 0.83162 - SMAPE: 0.44835 com scaler rigder\n",
    "\n",
    "\n",
    "# => RMSE: 55.76110 - MAE: 32.85695 - SMAPE: 12.89226"
   ]
  },
  {
   "cell_type": "code",
   "execution_count": 129,
   "metadata": {
    "ExecuteTime": {
     "end_time": "2022-09-30T23:16:23.584755Z",
     "start_time": "2022-09-30T23:16:23.539720Z"
    }
   },
   "outputs": [
    {
     "data": {
      "text/html": [
       "<div><div id=9a7e8ecf-11aa-4c88-a4f1-45756e75ab41 style=\"display:none; background-color:#9D6CFF; color:white; width:200px; height:30px; padding-left:5px; border-radius:4px; flex-direction:row; justify-content:space-around; align-items:center;\" onmouseover=\"this.style.backgroundColor='#BA9BF8'\" onmouseout=\"this.style.backgroundColor='#9D6CFF'\" onclick=\"window.commands?.execute('create-mitosheet-from-dataframe-output');\">See Full Dataframe in Mito</div> <script> if (window.commands?.hasCommand('create-mitosheet-from-dataframe-output')) document.getElementById('9a7e8ecf-11aa-4c88-a4f1-45756e75ab41').style.display = 'flex' </script> <table border=\"1\" class=\"dataframe\">\n",
       "  <thead>\n",
       "    <tr style=\"text-align: right;\">\n",
       "      <th></th>\n",
       "      <th>cci_value</th>\n",
       "      <th>fe_day_of_year</th>\n",
       "      <th>fe_month</th>\n",
       "      <th>fe_year</th>\n",
       "      <th>fe_day_of_month</th>\n",
       "      <th>fe_is_mon</th>\n",
       "      <th>fe_is_tue</th>\n",
       "      <th>fe_is_wed</th>\n",
       "      <th>fe_is_thu</th>\n",
       "      <th>fe_is_fri</th>\n",
       "      <th>fe_is_sat</th>\n",
       "      <th>fe_is_fri_sat</th>\n",
       "      <th>GDP</th>\n",
       "      <th>fe_four_sin_1_A</th>\n",
       "      <th>fe_four_cos_1_A</th>\n",
       "      <th>fe_four_sin_1_B</th>\n",
       "      <th>fe_four_cos_1_B</th>\n",
       "      <th>fe_four_sin_1_C</th>\n",
       "      <th>fe_four_cos_1_C</th>\n",
       "      <th>fe_four_sin_1_D</th>\n",
       "      <th>fe_four_cos_1_D</th>\n",
       "      <th>fe_four_sin_2_A</th>\n",
       "      <th>fe_four_cos_2_A</th>\n",
       "      <th>fe_four_sin_2_B</th>\n",
       "      <th>fe_four_cos_2_B</th>\n",
       "      <th>fe_four_sin_2_C</th>\n",
       "      <th>fe_four_cos_2_C</th>\n",
       "      <th>fe_four_sin_2_D</th>\n",
       "      <th>fe_four_cos_2_D</th>\n",
       "      <th>fe_four_sin_3_A</th>\n",
       "      <th>fe_four_cos_3_A</th>\n",
       "      <th>fe_four_sin_3_B</th>\n",
       "      <th>fe_four_cos_3_B</th>\n",
       "      <th>fe_four_sin_3_C</th>\n",
       "      <th>fe_four_cos_3_C</th>\n",
       "      <th>fe_four_sin_3_D</th>\n",
       "      <th>fe_four_cos_3_D</th>\n",
       "      <th>fe_four_sin_4_A</th>\n",
       "      <th>fe_four_cos_4_A</th>\n",
       "      <th>fe_four_sin_4_B</th>\n",
       "      <th>fe_four_cos_4_B</th>\n",
       "      <th>fe_four_sin_4_C</th>\n",
       "      <th>fe_four_cos_4_C</th>\n",
       "      <th>fe_four_sin_4_D</th>\n",
       "      <th>fe_four_cos_4_D</th>\n",
       "      <th>fe_dm_fe_autumn</th>\n",
       "      <th>fe_dm_fe_winter</th>\n",
       "      <th>fe_dm_fe_spring</th>\n",
       "      <th>fe_dm_Belgium</th>\n",
       "      <th>fe_dm_France</th>\n",
       "      <th>fe_dm_Germany</th>\n",
       "      <th>fe_dm_Italy</th>\n",
       "      <th>fe_dm_Poland</th>\n",
       "      <th>fe_dm_A</th>\n",
       "      <th>fe_dm_B</th>\n",
       "      <th>fe_dm_C</th>\n",
       "      <th>fe_dm_KaggleMart</th>\n",
       "      <th>fe_dammy_sum</th>\n",
       "    </tr>\n",
       "    <tr>\n",
       "      <th>date</th>\n",
       "      <th></th>\n",
       "      <th></th>\n",
       "      <th></th>\n",
       "      <th></th>\n",
       "      <th></th>\n",
       "      <th></th>\n",
       "      <th></th>\n",
       "      <th></th>\n",
       "      <th></th>\n",
       "      <th></th>\n",
       "      <th></th>\n",
       "      <th></th>\n",
       "      <th></th>\n",
       "      <th></th>\n",
       "      <th></th>\n",
       "      <th></th>\n",
       "      <th></th>\n",
       "      <th></th>\n",
       "      <th></th>\n",
       "      <th></th>\n",
       "      <th></th>\n",
       "      <th></th>\n",
       "      <th></th>\n",
       "      <th></th>\n",
       "      <th></th>\n",
       "      <th></th>\n",
       "      <th></th>\n",
       "      <th></th>\n",
       "      <th></th>\n",
       "      <th></th>\n",
       "      <th></th>\n",
       "      <th></th>\n",
       "      <th></th>\n",
       "      <th></th>\n",
       "      <th></th>\n",
       "      <th></th>\n",
       "      <th></th>\n",
       "      <th></th>\n",
       "      <th></th>\n",
       "      <th></th>\n",
       "      <th></th>\n",
       "      <th></th>\n",
       "      <th></th>\n",
       "      <th></th>\n",
       "      <th></th>\n",
       "      <th></th>\n",
       "      <th></th>\n",
       "      <th></th>\n",
       "      <th></th>\n",
       "      <th></th>\n",
       "      <th></th>\n",
       "      <th></th>\n",
       "      <th></th>\n",
       "      <th></th>\n",
       "      <th></th>\n",
       "      <th></th>\n",
       "      <th></th>\n",
       "      <th></th>\n",
       "    </tr>\n",
       "  </thead>\n",
       "  <tbody>\n",
       "    <tr>\n",
       "      <th>2017-01-01</th>\n",
       "      <td>100.6824</td>\n",
       "      <td>1</td>\n",
       "      <td>1</td>\n",
       "      <td>2017</td>\n",
       "      <td>1</td>\n",
       "      <td>0</td>\n",
       "      <td>0</td>\n",
       "      <td>0</td>\n",
       "      <td>0</td>\n",
       "      <td>0</td>\n",
       "      <td>1</td>\n",
       "      <td>1</td>\n",
       "      <td>0.5015</td>\n",
       "      <td>0.017213</td>\n",
       "      <td>0.999852</td>\n",
       "      <td>0.000000</td>\n",
       "      <td>0.000000</td>\n",
       "      <td>0.000000</td>\n",
       "      <td>0.000000</td>\n",
       "      <td>0.000000</td>\n",
       "      <td>0.000000</td>\n",
       "      <td>0.034422</td>\n",
       "      <td>0.999407</td>\n",
       "      <td>0.000000</td>\n",
       "      <td>0.000000</td>\n",
       "      <td>0.000000</td>\n",
       "      <td>0.000000</td>\n",
       "      <td>0.000000</td>\n",
       "      <td>0.000000</td>\n",
       "      <td>0.05162</td>\n",
       "      <td>0.998667</td>\n",
       "      <td>0.00000</td>\n",
       "      <td>0.000000</td>\n",
       "      <td>0.00000</td>\n",
       "      <td>0.000000</td>\n",
       "      <td>0.00000</td>\n",
       "      <td>0.000000</td>\n",
       "      <td>0.068802</td>\n",
       "      <td>0.99763</td>\n",
       "      <td>0.000000</td>\n",
       "      <td>0.00000</td>\n",
       "      <td>0.000000</td>\n",
       "      <td>0.00000</td>\n",
       "      <td>0.000000</td>\n",
       "      <td>0.00000</td>\n",
       "      <td>1</td>\n",
       "      <td>0</td>\n",
       "      <td>0</td>\n",
       "      <td>1</td>\n",
       "      <td>0</td>\n",
       "      <td>0</td>\n",
       "      <td>0</td>\n",
       "      <td>0</td>\n",
       "      <td>1</td>\n",
       "      <td>0</td>\n",
       "      <td>0</td>\n",
       "      <td>1</td>\n",
       "      <td>5</td>\n",
       "    </tr>\n",
       "    <tr>\n",
       "      <th>2017-01-01</th>\n",
       "      <td>100.6824</td>\n",
       "      <td>1</td>\n",
       "      <td>1</td>\n",
       "      <td>2017</td>\n",
       "      <td>1</td>\n",
       "      <td>0</td>\n",
       "      <td>0</td>\n",
       "      <td>0</td>\n",
       "      <td>0</td>\n",
       "      <td>0</td>\n",
       "      <td>1</td>\n",
       "      <td>1</td>\n",
       "      <td>0.5015</td>\n",
       "      <td>0.000000</td>\n",
       "      <td>0.000000</td>\n",
       "      <td>0.017213</td>\n",
       "      <td>0.999852</td>\n",
       "      <td>0.000000</td>\n",
       "      <td>0.000000</td>\n",
       "      <td>0.000000</td>\n",
       "      <td>0.000000</td>\n",
       "      <td>0.000000</td>\n",
       "      <td>0.000000</td>\n",
       "      <td>0.034422</td>\n",
       "      <td>0.999407</td>\n",
       "      <td>0.000000</td>\n",
       "      <td>0.000000</td>\n",
       "      <td>0.000000</td>\n",
       "      <td>0.000000</td>\n",
       "      <td>0.00000</td>\n",
       "      <td>0.000000</td>\n",
       "      <td>0.05162</td>\n",
       "      <td>0.998667</td>\n",
       "      <td>0.00000</td>\n",
       "      <td>0.000000</td>\n",
       "      <td>0.00000</td>\n",
       "      <td>0.000000</td>\n",
       "      <td>0.000000</td>\n",
       "      <td>0.00000</td>\n",
       "      <td>0.068802</td>\n",
       "      <td>0.99763</td>\n",
       "      <td>0.000000</td>\n",
       "      <td>0.00000</td>\n",
       "      <td>0.000000</td>\n",
       "      <td>0.00000</td>\n",
       "      <td>1</td>\n",
       "      <td>0</td>\n",
       "      <td>0</td>\n",
       "      <td>1</td>\n",
       "      <td>0</td>\n",
       "      <td>0</td>\n",
       "      <td>0</td>\n",
       "      <td>0</td>\n",
       "      <td>0</td>\n",
       "      <td>1</td>\n",
       "      <td>0</td>\n",
       "      <td>1</td>\n",
       "      <td>5</td>\n",
       "    </tr>\n",
       "    <tr>\n",
       "      <th>2017-01-01</th>\n",
       "      <td>100.6824</td>\n",
       "      <td>1</td>\n",
       "      <td>1</td>\n",
       "      <td>2017</td>\n",
       "      <td>1</td>\n",
       "      <td>0</td>\n",
       "      <td>0</td>\n",
       "      <td>0</td>\n",
       "      <td>0</td>\n",
       "      <td>0</td>\n",
       "      <td>1</td>\n",
       "      <td>1</td>\n",
       "      <td>0.5015</td>\n",
       "      <td>0.000000</td>\n",
       "      <td>0.000000</td>\n",
       "      <td>0.000000</td>\n",
       "      <td>0.000000</td>\n",
       "      <td>0.017213</td>\n",
       "      <td>0.999852</td>\n",
       "      <td>0.000000</td>\n",
       "      <td>0.000000</td>\n",
       "      <td>0.000000</td>\n",
       "      <td>0.000000</td>\n",
       "      <td>0.000000</td>\n",
       "      <td>0.000000</td>\n",
       "      <td>0.034422</td>\n",
       "      <td>0.999407</td>\n",
       "      <td>0.000000</td>\n",
       "      <td>0.000000</td>\n",
       "      <td>0.00000</td>\n",
       "      <td>0.000000</td>\n",
       "      <td>0.00000</td>\n",
       "      <td>0.000000</td>\n",
       "      <td>0.05162</td>\n",
       "      <td>0.998667</td>\n",
       "      <td>0.00000</td>\n",
       "      <td>0.000000</td>\n",
       "      <td>0.000000</td>\n",
       "      <td>0.00000</td>\n",
       "      <td>0.000000</td>\n",
       "      <td>0.00000</td>\n",
       "      <td>0.068802</td>\n",
       "      <td>0.99763</td>\n",
       "      <td>0.000000</td>\n",
       "      <td>0.00000</td>\n",
       "      <td>1</td>\n",
       "      <td>0</td>\n",
       "      <td>0</td>\n",
       "      <td>1</td>\n",
       "      <td>0</td>\n",
       "      <td>0</td>\n",
       "      <td>0</td>\n",
       "      <td>0</td>\n",
       "      <td>0</td>\n",
       "      <td>0</td>\n",
       "      <td>1</td>\n",
       "      <td>1</td>\n",
       "      <td>5</td>\n",
       "    </tr>\n",
       "    <tr>\n",
       "      <th>2017-01-01</th>\n",
       "      <td>100.6824</td>\n",
       "      <td>1</td>\n",
       "      <td>1</td>\n",
       "      <td>2017</td>\n",
       "      <td>1</td>\n",
       "      <td>0</td>\n",
       "      <td>0</td>\n",
       "      <td>0</td>\n",
       "      <td>0</td>\n",
       "      <td>0</td>\n",
       "      <td>1</td>\n",
       "      <td>1</td>\n",
       "      <td>0.5015</td>\n",
       "      <td>0.000000</td>\n",
       "      <td>0.000000</td>\n",
       "      <td>0.000000</td>\n",
       "      <td>0.000000</td>\n",
       "      <td>0.000000</td>\n",
       "      <td>0.000000</td>\n",
       "      <td>0.017213</td>\n",
       "      <td>0.999852</td>\n",
       "      <td>0.000000</td>\n",
       "      <td>0.000000</td>\n",
       "      <td>0.000000</td>\n",
       "      <td>0.000000</td>\n",
       "      <td>0.000000</td>\n",
       "      <td>0.000000</td>\n",
       "      <td>0.034422</td>\n",
       "      <td>0.999407</td>\n",
       "      <td>0.00000</td>\n",
       "      <td>0.000000</td>\n",
       "      <td>0.00000</td>\n",
       "      <td>0.000000</td>\n",
       "      <td>0.00000</td>\n",
       "      <td>0.000000</td>\n",
       "      <td>0.05162</td>\n",
       "      <td>0.998667</td>\n",
       "      <td>0.000000</td>\n",
       "      <td>0.00000</td>\n",
       "      <td>0.000000</td>\n",
       "      <td>0.00000</td>\n",
       "      <td>0.000000</td>\n",
       "      <td>0.00000</td>\n",
       "      <td>0.068802</td>\n",
       "      <td>0.99763</td>\n",
       "      <td>1</td>\n",
       "      <td>0</td>\n",
       "      <td>0</td>\n",
       "      <td>1</td>\n",
       "      <td>0</td>\n",
       "      <td>0</td>\n",
       "      <td>0</td>\n",
       "      <td>0</td>\n",
       "      <td>0</td>\n",
       "      <td>0</td>\n",
       "      <td>0</td>\n",
       "      <td>1</td>\n",
       "      <td>4</td>\n",
       "    </tr>\n",
       "    <tr>\n",
       "      <th>2017-01-01</th>\n",
       "      <td>100.6824</td>\n",
       "      <td>1</td>\n",
       "      <td>1</td>\n",
       "      <td>2017</td>\n",
       "      <td>1</td>\n",
       "      <td>0</td>\n",
       "      <td>0</td>\n",
       "      <td>0</td>\n",
       "      <td>0</td>\n",
       "      <td>0</td>\n",
       "      <td>1</td>\n",
       "      <td>1</td>\n",
       "      <td>0.5015</td>\n",
       "      <td>0.017213</td>\n",
       "      <td>0.999852</td>\n",
       "      <td>0.000000</td>\n",
       "      <td>0.000000</td>\n",
       "      <td>0.000000</td>\n",
       "      <td>0.000000</td>\n",
       "      <td>0.000000</td>\n",
       "      <td>0.000000</td>\n",
       "      <td>0.034422</td>\n",
       "      <td>0.999407</td>\n",
       "      <td>0.000000</td>\n",
       "      <td>0.000000</td>\n",
       "      <td>0.000000</td>\n",
       "      <td>0.000000</td>\n",
       "      <td>0.000000</td>\n",
       "      <td>0.000000</td>\n",
       "      <td>0.05162</td>\n",
       "      <td>0.998667</td>\n",
       "      <td>0.00000</td>\n",
       "      <td>0.000000</td>\n",
       "      <td>0.00000</td>\n",
       "      <td>0.000000</td>\n",
       "      <td>0.00000</td>\n",
       "      <td>0.000000</td>\n",
       "      <td>0.068802</td>\n",
       "      <td>0.99763</td>\n",
       "      <td>0.000000</td>\n",
       "      <td>0.00000</td>\n",
       "      <td>0.000000</td>\n",
       "      <td>0.00000</td>\n",
       "      <td>0.000000</td>\n",
       "      <td>0.00000</td>\n",
       "      <td>1</td>\n",
       "      <td>0</td>\n",
       "      <td>0</td>\n",
       "      <td>1</td>\n",
       "      <td>0</td>\n",
       "      <td>0</td>\n",
       "      <td>0</td>\n",
       "      <td>0</td>\n",
       "      <td>1</td>\n",
       "      <td>0</td>\n",
       "      <td>0</td>\n",
       "      <td>0</td>\n",
       "      <td>4</td>\n",
       "    </tr>\n",
       "  </tbody>\n",
       "</table></div>"
      ],
      "text/plain": [
       "            cci_value  fe_day_of_year  fe_month  fe_year  fe_day_of_month  \\\n",
       "date                                                                        \n",
       "2017-01-01   100.6824               1         1     2017                1   \n",
       "2017-01-01   100.6824               1         1     2017                1   \n",
       "2017-01-01   100.6824               1         1     2017                1   \n",
       "2017-01-01   100.6824               1         1     2017                1   \n",
       "2017-01-01   100.6824               1         1     2017                1   \n",
       "\n",
       "            fe_is_mon  fe_is_tue  fe_is_wed  fe_is_thu  fe_is_fri  fe_is_sat  \\\n",
       "date                                                                           \n",
       "2017-01-01          0          0          0          0          0          1   \n",
       "2017-01-01          0          0          0          0          0          1   \n",
       "2017-01-01          0          0          0          0          0          1   \n",
       "2017-01-01          0          0          0          0          0          1   \n",
       "2017-01-01          0          0          0          0          0          1   \n",
       "\n",
       "            fe_is_fri_sat     GDP  fe_four_sin_1_A  fe_four_cos_1_A  \\\n",
       "date                                                                  \n",
       "2017-01-01              1  0.5015         0.017213         0.999852   \n",
       "2017-01-01              1  0.5015         0.000000         0.000000   \n",
       "2017-01-01              1  0.5015         0.000000         0.000000   \n",
       "2017-01-01              1  0.5015         0.000000         0.000000   \n",
       "2017-01-01              1  0.5015         0.017213         0.999852   \n",
       "\n",
       "            fe_four_sin_1_B  fe_four_cos_1_B  fe_four_sin_1_C  \\\n",
       "date                                                            \n",
       "2017-01-01         0.000000         0.000000         0.000000   \n",
       "2017-01-01         0.017213         0.999852         0.000000   \n",
       "2017-01-01         0.000000         0.000000         0.017213   \n",
       "2017-01-01         0.000000         0.000000         0.000000   \n",
       "2017-01-01         0.000000         0.000000         0.000000   \n",
       "\n",
       "            fe_four_cos_1_C  fe_four_sin_1_D  fe_four_cos_1_D  \\\n",
       "date                                                            \n",
       "2017-01-01         0.000000         0.000000         0.000000   \n",
       "2017-01-01         0.000000         0.000000         0.000000   \n",
       "2017-01-01         0.999852         0.000000         0.000000   \n",
       "2017-01-01         0.000000         0.017213         0.999852   \n",
       "2017-01-01         0.000000         0.000000         0.000000   \n",
       "\n",
       "            fe_four_sin_2_A  fe_four_cos_2_A  fe_four_sin_2_B  \\\n",
       "date                                                            \n",
       "2017-01-01         0.034422         0.999407         0.000000   \n",
       "2017-01-01         0.000000         0.000000         0.034422   \n",
       "2017-01-01         0.000000         0.000000         0.000000   \n",
       "2017-01-01         0.000000         0.000000         0.000000   \n",
       "2017-01-01         0.034422         0.999407         0.000000   \n",
       "\n",
       "            fe_four_cos_2_B  fe_four_sin_2_C  fe_four_cos_2_C  \\\n",
       "date                                                            \n",
       "2017-01-01         0.000000         0.000000         0.000000   \n",
       "2017-01-01         0.999407         0.000000         0.000000   \n",
       "2017-01-01         0.000000         0.034422         0.999407   \n",
       "2017-01-01         0.000000         0.000000         0.000000   \n",
       "2017-01-01         0.000000         0.000000         0.000000   \n",
       "\n",
       "            fe_four_sin_2_D  fe_four_cos_2_D  fe_four_sin_3_A  \\\n",
       "date                                                            \n",
       "2017-01-01         0.000000         0.000000          0.05162   \n",
       "2017-01-01         0.000000         0.000000          0.00000   \n",
       "2017-01-01         0.000000         0.000000          0.00000   \n",
       "2017-01-01         0.034422         0.999407          0.00000   \n",
       "2017-01-01         0.000000         0.000000          0.05162   \n",
       "\n",
       "            fe_four_cos_3_A  fe_four_sin_3_B  fe_four_cos_3_B  \\\n",
       "date                                                            \n",
       "2017-01-01         0.998667          0.00000         0.000000   \n",
       "2017-01-01         0.000000          0.05162         0.998667   \n",
       "2017-01-01         0.000000          0.00000         0.000000   \n",
       "2017-01-01         0.000000          0.00000         0.000000   \n",
       "2017-01-01         0.998667          0.00000         0.000000   \n",
       "\n",
       "            fe_four_sin_3_C  fe_four_cos_3_C  fe_four_sin_3_D  \\\n",
       "date                                                            \n",
       "2017-01-01          0.00000         0.000000          0.00000   \n",
       "2017-01-01          0.00000         0.000000          0.00000   \n",
       "2017-01-01          0.05162         0.998667          0.00000   \n",
       "2017-01-01          0.00000         0.000000          0.05162   \n",
       "2017-01-01          0.00000         0.000000          0.00000   \n",
       "\n",
       "            fe_four_cos_3_D  fe_four_sin_4_A  fe_four_cos_4_A  \\\n",
       "date                                                            \n",
       "2017-01-01         0.000000         0.068802          0.99763   \n",
       "2017-01-01         0.000000         0.000000          0.00000   \n",
       "2017-01-01         0.000000         0.000000          0.00000   \n",
       "2017-01-01         0.998667         0.000000          0.00000   \n",
       "2017-01-01         0.000000         0.068802          0.99763   \n",
       "\n",
       "            fe_four_sin_4_B  fe_four_cos_4_B  fe_four_sin_4_C  \\\n",
       "date                                                            \n",
       "2017-01-01         0.000000          0.00000         0.000000   \n",
       "2017-01-01         0.068802          0.99763         0.000000   \n",
       "2017-01-01         0.000000          0.00000         0.068802   \n",
       "2017-01-01         0.000000          0.00000         0.000000   \n",
       "2017-01-01         0.000000          0.00000         0.000000   \n",
       "\n",
       "            fe_four_cos_4_C  fe_four_sin_4_D  fe_four_cos_4_D  \\\n",
       "date                                                            \n",
       "2017-01-01          0.00000         0.000000          0.00000   \n",
       "2017-01-01          0.00000         0.000000          0.00000   \n",
       "2017-01-01          0.99763         0.000000          0.00000   \n",
       "2017-01-01          0.00000         0.068802          0.99763   \n",
       "2017-01-01          0.00000         0.000000          0.00000   \n",
       "\n",
       "            fe_dm_fe_autumn  fe_dm_fe_winter  fe_dm_fe_spring  fe_dm_Belgium  \\\n",
       "date                                                                           \n",
       "2017-01-01                1                0                0              1   \n",
       "2017-01-01                1                0                0              1   \n",
       "2017-01-01                1                0                0              1   \n",
       "2017-01-01                1                0                0              1   \n",
       "2017-01-01                1                0                0              1   \n",
       "\n",
       "            fe_dm_France  fe_dm_Germany  fe_dm_Italy  fe_dm_Poland  fe_dm_A  \\\n",
       "date                                                                          \n",
       "2017-01-01             0              0            0             0        1   \n",
       "2017-01-01             0              0            0             0        0   \n",
       "2017-01-01             0              0            0             0        0   \n",
       "2017-01-01             0              0            0             0        0   \n",
       "2017-01-01             0              0            0             0        1   \n",
       "\n",
       "            fe_dm_B  fe_dm_C  fe_dm_KaggleMart  fe_dammy_sum  \n",
       "date                                                          \n",
       "2017-01-01        0        0                 1             5  \n",
       "2017-01-01        1        0                 1             5  \n",
       "2017-01-01        0        1                 1             5  \n",
       "2017-01-01        0        0                 1             4  \n",
       "2017-01-01        0        0                 0             4  "
      ]
     },
     "execution_count": 129,
     "metadata": {},
     "output_type": "execute_result"
    }
   ],
   "source": [
    "X_train.head()"
   ]
  },
  {
   "cell_type": "code",
   "execution_count": 130,
   "metadata": {
    "ExecuteTime": {
     "end_time": "2022-09-30T23:16:23.600778Z",
     "start_time": "2022-09-30T23:16:23.586720Z"
    }
   },
   "outputs": [],
   "source": [
    "#CCI: https://www.kaggle.com/code/cv13j0/tps-sep22-baseline-gradient-boosted-trees#7.-Feature-Engineering"
   ]
  },
  {
   "cell_type": "code",
   "execution_count": null,
   "metadata": {
    "ExecuteTime": {
     "end_time": "2022-09-30T21:46:29.586156Z",
     "start_time": "2022-09-30T21:46:29.560160Z"
    },
    "code_folding": [
     0
    ]
   },
   "outputs": [],
   "source": [
    "def create_features_(df, target):\n",
    "\n",
    "    \n",
    "    \n",
    "    df['fe_is_wknd']        = df['date'].dt.weekday // 4\n",
    "    df['fe_is_month_start'] = df['date'].dt.is_month_start.astype(int)\n",
    "    df['fe_is_month_end']   = df['date'].dt.is_month_end.astype(int)\n",
    "    \n",
    "    \n",
    "    \n",
    "    '''\n",
    "    df['lag_6_hrs']   = df[target].shift(6)\n",
    "    df['lag_12_hrs']  = df[target].shift(12)\n",
    "    df['lag_24_hrs']  = df[target].shift(24)\n",
    "    \n",
    "    df['mean_6_hrs']  = df[target].rolling(window = 6).mean()\n",
    "    df['mean_12_hrs'] = df[target].rolling(window = 12).mean()\n",
    "    df['mean_24_hrs'] = df[target].rolling(window = 24).mean()\n",
    "    df['std_6_hrs']   = df[target].rolling(window = 6).std()\n",
    "    df['std_12_hrs']  = df[target].rolling(window = 12).std()\n",
    "    df['std_24_hrs']  = df[target].rolling(window = 24).std()\n",
    "    df['max_6_hrs']   = df[target].rolling(window = 6).max()\n",
    "    df['max_12_hrs']  = df[target].rolling(window = 12).max()\n",
    "    df['max_24_hrs']  = df[target].rolling(window = 24).max()\n",
    "    df['min_6_hrs']   = df[target].rolling(window = 6).min()\n",
    "    df['min_12_hrs']  = df[target].rolling(window = 12).min()\n",
    "    df['min_24_hrs']  = df[target].rolling(window = 24).min()\n",
    "    '''\n",
    "        \n",
    "    # generating some new features from aggregation of sales within different time frames\n",
    "    # https://www.kaggle.com/hikmetsezen/base-model-with-lightgbm-on-demand-forecasting\n",
    "    shift_values = [0, 0, 0, 0, 0, 0, 12, 12]\n",
    "    feat_list    = ['day_of_week', 'week_of_month', 'week_of_year', 'month', \n",
    "                    'quarter', 'is_wknd', 'day_of_week', 'week_of_month']\n",
    "    \n",
    "\n",
    "    #for time_item, shift_val in zip(feat_list, shift_values):\n",
    "        #print(shift_val)\n",
    "        # 'country','store','product'\n",
    "        \n",
    "        #grouped_df = df.groupby(['store', 'item', time_item])['sales'].expanding().mean().shift(shift_val).bfill().reset_index()\n",
    "        #grouped_df.columns = ['store', 'item', time_item, 'date', time_item + f'_ex_avg_sale{str(shift_val)}']\n",
    "        #grouped_df = grouped_df.sort_values(by=['item', 'store', 'date'])\n",
    "        #df[time_item + f'_ex_avg_sale{str(shift_val)}'] = grouped_df[time_item + f'_ex_avg_sale{str(shift_val)}'].values\n",
    "    \n",
    "    # Easter\n",
    "    easter_date = df.date.apply(lambda date: pd.Timestamp(easter.easter(date.year)))\n",
    "    df['fe_days_from_easter'] = (df.date - easter_date).dt.days.clip(-3, 59)\n",
    "    df.loc[df['fe_days_from_easter'].isin(range(12, 39)), 'fe_days_from_easter'] = 12 # reduce overfitting\n",
    "   \n",
    "    '''\n",
    "    # \n",
    "    wed_june_date = df.date.dt.year.map({2015: pd.Timestamp(('2015-06-24')),\n",
    "                                         2016: pd.Timestamp(('2016-06-29')),\n",
    "                                         2017: pd.Timestamp(('2017-06-28')),\n",
    "                                         2018: pd.Timestamp(('2018-06-27')),\n",
    "                                         2019: pd.Timestamp(('2019-06-26'))})\n",
    "\n",
    "    df['days_from_wed_jun'] = (df.date - wed_june_date).dt.days.clip(-5, 5)\n",
    "    \n",
    "    \n",
    "    # First Sunday of November (second Sunday is Father's Day)\n",
    "    sun_nov_date = df.date.dt.year.map({2015: pd.Timestamp(('2015-11-1')),\n",
    "                                         2016: pd.Timestamp(('2016-11-6')),\n",
    "                                         2017: pd.Timestamp(('2017-11-5')),\n",
    "                                         2018: pd.Timestamp(('2018-11-4')),\n",
    "                                         2019: pd.Timestamp(('2019-11-3'))})\n",
    "     '''\n",
    "    #df['days_from_sun_nov'] = (df.date - sun_nov_date).dt.days.clip(-1, 9)\n",
    "\n",
    "    day  = 24*60*60\n",
    "    year = (365.2425)*day\n",
    "\n",
    "    timestamp_s       = pd.to_datetime(df['date'], format='%d.%m.%Y %H:%M:%S')\n",
    "    timestamp_s       = timestamp_s.map(pd.Timestamp.timestamp)\n",
    "    df['fe_day_sin']  = np.sin(timestamp_s*(2*np.pi/day))\n",
    "    df['fe_day_cos']  = np.cos(timestamp_s*(2*np.pi/day))\n",
    "    df['fe_year_sin'] = np.sin(timestamp_s*(2*np.pi/year))\n",
    "    df['fe_year_cos'] = np.cos(timestamp_s*(2*np.pi/year))\n",
    "\n",
    "    # Realizando os limitadores de marcação de outlier\n",
    "    superior         = df[target].quantile(0.95)\n",
    "    inferior         = df[target].quantile(0.05)\n",
    "    df['fe_outlier'] = np.where(df[target]>superior,1,np.where(df[target]<inferior,-1,0))\n",
    "        \n",
    "    # season:\n",
    "    # - Winter -> December (12), January (01) and February (02);\n",
    "    # - Spring -> March (03), April (04) and May (05);\n",
    "    # - Summer -> Jun (06), July (07) and August (08);\n",
    "    # - Autumn -> September (09), October (10) and November (11).\n",
    "    df['fe_season'] = df['date'].apply(lambda x: 'fe_winter' \n",
    "                                              if \n",
    "                                                  x.month == 12 or x.month == 1 or \n",
    "                                                  x.month == 2 else 'fe_spring' \n",
    "                                              if  \n",
    "                                                  x.month == 3 or x.month == 4 or \n",
    "                                                  x.month == 5 else 'fe_summer' \n",
    "                                              if  \n",
    "                                                  x.month == 6 or x.month == 7 or \n",
    "                                                  x.month == 8 else 'fe_autumn' \n",
    "                                              if  \n",
    "                                                  x.month == 9 or x.month == 10 or \n",
    "                                                  x.month == 11 else 'fe_others')\n",
    "\n",
    "\n",
    "    # Feriado:\n",
    "    # Usarei a biblioteca \"feriados\" para identificar se a data representa um feriado. Uma ideia para um próximo ciclo no projeto é diferenciar, de acordo com alguma regra, as diferentes datas dos feriados.\n",
    "    # A documentação desta biblioteca está neste link: https://pypi.org/project/holidays/\n",
    "    # Outra regra que vou usar é considerar a véspera das datas como um \"feriado\".\n",
    "    # \n",
    "    # Bélgica\t\tSER\n",
    "    # França\t\tFR\n",
    "    # Alemanha\tDE\n",
    "    # Itália\t\tISTO\n",
    "    # Polônia\t\tPL\n",
    "    # Espanha\t\tES\n",
    "    \n",
    "    '''\n",
    "    df['holidays'] = df['date'].apply(lambda x: 1 \n",
    "                                      if x in holidays.US() else 1 \n",
    "                                      if x + datetime.timedelta(days=1) \n",
    "                                      in holidays.US() else 0)\n",
    "\n",
    "    '''\n",
    "    col_dammy = ['season', 'country', 'store', 'product']\n",
    "    \n",
    "    df = pd.concat([df, pd.get_dummies(df[col_dammy],  prefix='', prefix_sep='')], axis=1) \n",
    "    \n",
    "    df = df.dropna()\n",
    "    #y = X[target]\n",
    "\n",
    "    # Seasonal variations (Fourier series)\n",
    "    # The three products have different seasonal patterns\n",
    "    dayofyear = df.date.dt.dayofyear\n",
    "    for k in range(1, 3):\n",
    "        df[f'sin{k}'] = np.sin(dayofyear / 365 * 2 * np.math.pi * k)\n",
    "        df[f'cos{k}'] = np.cos(dayofyear / 365 * 2 * np.math.pi * k)\n",
    "        df[f'mug_sin{k}'] = df[f'sin{k}'] * df['Kaggle Mug']\n",
    "        df[f'mug_cos{k}'] = df[f'cos{k}'] * df['Kaggle Mug']\n",
    "        df[f'hat_sin{k}'] = df[f'sin{k}'] * df['Kaggle Hat']\n",
    "        df[f'hat_cos{k}'] = df[f'cos{k}'] * df['Kaggle Hat']\n",
    "        \n",
    "    col_dammy.append('date')\n",
    "    #col_dammy.append(target)\n",
    "    df.drop(col_dammy, axis=1 , inplace=True)\n",
    "    \n",
    "    df = reduce_memory_usage(df)\n",
    "    \n",
    "    return df"
   ]
  },
  {
   "cell_type": "code",
   "execution_count": null,
   "metadata": {
    "ExecuteTime": {
     "end_time": "2022-09-30T21:46:30.260415Z",
     "start_time": "2022-09-30T21:46:30.232385Z"
    },
    "code_folding": [
     0
    ]
   },
   "outputs": [],
   "source": [
    "def feature_time(df_):         \n",
    "    \n",
    "    df_['fe_days_till_next_holiday'] = df_.apply(lambda x: days_till_next_holiday(x['country'], \n",
    "                                                                                  x['date']), axis=1)\n",
    "    \n",
    "    df_['fe_quarter']        = df_['date'].dt.quarter.astype(int)\n",
    "    df_['fe_day_of_year']    = df_['date'].dt.dayofyear.astype(int)        \n",
    "    df_['fe_day_of_week']    = df_['date'].dt.dayofweek.astype(int)        \n",
    "    df_['fe_month']          = df_['date'].dt.month.astype(int)\n",
    "    df_['fe_year']           = df_['date'].dt.year.astype(int)        \n",
    "    df_['fe_day_of_month']   = df_['date'].dt.day.astype(int)\n",
    "    df_['fe_week_of_year']   = df_['date'].dt.isocalendar().week.astype(int)\n",
    "    df_['fe_week_of_month']  = (df_['fe_week_of_year'].values//4.35).astype(int)        \n",
    "    df_['fe_is_month_start'] = df_['date'].dt.is_month_start.astype(int)\n",
    "    df_['fe_is_month_end']   = df_['date'].dt.is_month_end.astype(int) \n",
    "\n",
    "    df_.loc[(df_.date.dt.is_leap_year) & (df_.fe_day_of_year >= 60),'fe_day_of_year'] -= 1\n",
    "    \n",
    "    df_gdp = pd.read_csv(path+'Data/GDP_data_2017_to_2021.csv')\n",
    "    df_    = df_.merge(df_gdp, left_on=['country', 'fe_year'], right_on=['country', 'year'],how='left')\n",
    "    df_.drop('year', axis=1, inplace=True)\n",
    "    \n",
    "    # Marca o dia da semana\n",
    "    #df_['fe_is_mon']     = np.where(df_['fe_day_of_week'] == 1, 1, 0)\n",
    "    #df_['fe_is_tue']     = np.where(df_['fe_day_of_week'] == 2, 1, 0)\n",
    "    #df_['fe_is_wed']     = np.where(df_['fe_day_of_week'] == 3, 1, 0)\n",
    "    #df_['fe_is_thu']     = np.where(df_['fe_day_of_week'] == 4, 1, 0)\n",
    "    #df_['fe_is_fri']     = np.where(df_['fe_day_of_week'] == 5, 1, 0)\n",
    "    #df_['fe_is_sat']     = np.where(df_['fe_day_of_week'] == 6, 1, 0)  \n",
    "    #df_['fe_is_fri_sat'] = (df_['date'].dt.weekday >= 5).astype(int)  \n",
    "#\n",
    "    #dt_impo = [1,2,3,4,5,6,7,8,125,126,360,361,362,363,364,365]\n",
    "    #df_[\"fe_important_dates\"] = df_[\"fe_day_of_year\"].apply(lambda x: x if x in dt_impo else 0)\n",
    "    #df_['fe_sp_day'] = (df_['date'].dt.month*100 + df_['date'].dt.day).isin([101,1228,1229,1230,1231]).astype(int)\n",
    "    \n",
    "    for country in ['Belgium', 'France', 'Germany', 'Italy', 'Poland']:\n",
    "        df_['fe_'+country] = (df_['country']==country).astype(int) \n",
    "        \n",
    "    feature_product = ['Kaggle Advanced Techniques', \n",
    "                       'Kaggle Getting Started',\n",
    "                       'Kaggle Recipe Book']\n",
    "    \n",
    "    for product in feature_product:\n",
    "        df_['fe_'+product] = (df_['product']==product).astype(int) \n",
    "        \n",
    "    for store in ['KaggleMart']:\n",
    "        df_['fe_'+store] = (df_['store']==store).astype(int) \n",
    "    \n",
    "    # Variações sazonais (série Fourier)\n",
    "    # Os três produtos têm padrões sazonais diferentes   \n",
    "    seasonality_list = [1, 2, 3, 4, 6, 12, 52, 104]\n",
    "    dayofyear        = df_.date.dt.dayofyear\n",
    "   \n",
    "    for k in seasonality_list:\n",
    "        df_[f'fe_sin_{k}'] = np.sin(dayofyear / 365 * 2 * np.pi * k)\n",
    "        df_[f'fe_cos_{k}'] = np.cos(dayofyear / 365 * 2 * np.pi * k)        \n",
    "        for i, p in enumerate(feature_product): \n",
    "            product = 'fe_' + p            \n",
    "            df_[f'{product}_sin_{k}']  = df_[f'fe_sin_{k}'] * df_[product]\n",
    "            df_[f'{product}_cos_{k}']  = df_[f'fe_cos_{k}'] * df_[product]\n",
    "       \n",
    "    feature = df_.filter(regex=r'fe_').columns.to_list()\n",
    "    feature.append('GDP')\n",
    "    \n",
    "    df_.set_index('date', inplace=True, drop=True)\n",
    "    \n",
    "    return df_, feature"
   ]
  },
  {
   "cell_type": "code",
   "execution_count": null,
   "metadata": {
    "ExecuteTime": {
     "end_time": "2022-09-30T21:46:30.799074Z",
     "start_time": "2022-09-30T21:46:30.778074Z"
    },
    "code_folding": [
     0
    ]
   },
   "outputs": [],
   "source": [
    "def get_country_holidays(country, years_list):\n",
    "    \n",
    "    #### Till The Next Holiday\n",
    "    \n",
    "    festivities    = holidays.CountryHoliday(country, years=years_list)\n",
    "    festivities_df = pd.DataFrame.from_dict(festivities, orient='index').reset_index() \\\n",
    "                         .rename(columns={'index':'date', 0:'festivity_name'})\n",
    "    \n",
    "    festivities_df['date'] = pd.to_datetime(festivities_df['date'])\n",
    "\n",
    "    additional_dates  = [[pd.to_datetime(f'{year}-12-24'), 'Christmas Eve'] for year in years_list]\n",
    "    additional_dates += [[pd.to_datetime(f'{year}-12-29'), 'Peak in sales 1/2'] for year in years_list]\n",
    "    additional_dates += [[pd.to_datetime(f'{year}-12-30'), 'Peak in sales 2/2'] for year in years_list]\n",
    "    additional_dates += [[pd.to_datetime(f'{year}-12-31'), 'Saint Sylvester'] for year in years_list]\n",
    "    additional_dates += [[pd.to_datetime(f'{year}-01-01'), 'New Year'] for year in years_list]\n",
    "    additional_festivities_df = pd.DataFrame(additional_dates, columns=['date', 'festivity_name'])    \n",
    "\n",
    "    festivities_df = festivities_df.append(additional_festivities_df, ignore_index=True)\n",
    "    \n",
    "    return festivities_df.sort_values('date')"
   ]
  },
  {
   "cell_type": "code",
   "execution_count": null,
   "metadata": {
    "ExecuteTime": {
     "end_time": "2022-09-30T21:46:31.789051Z",
     "start_time": "2022-09-30T21:46:31.777050Z"
    },
    "code_folding": [
     0
    ]
   },
   "outputs": [],
   "source": [
    "def days_till_next_holiday(country, date):\n",
    "    country_holidays_dates = get_country_holidays(country, [date.year, date.year+1])['date']\n",
    "    next_date = min([holidays_date for holidays_date in country_holidays_dates if holidays_date >= date])\n",
    "\n",
    "    return (next_date - date).days"
   ]
  },
  {
   "cell_type": "code",
   "execution_count": null,
   "metadata": {
    "ExecuteTime": {
     "end_time": "2022-09-30T21:46:32.371269Z",
     "start_time": "2022-09-30T21:46:32.344271Z"
    },
    "code_folding": [
     0,
     6,
     16
    ],
    "id": "aZeRe0W719f5",
    "run_control": {
     "marked": false
    }
   },
   "outputs": [],
   "source": [
    "def create_features(df_tr_, df_ts_, feature_lencoder_=[], feature_dammy_=[], target_=target):\n",
    "         \n",
    "    \n",
    "    \n",
    "   \n",
    "     \n",
    "    def feature_calc_mean_encoded(trn_df, tst_df, groups=['country'], target='num_sold', \n",
    "                                  feature_name='mean_enc_country'):\n",
    "\n",
    "        tmp    = trn_df.groupby(groups)[target].mean().reset_index()\n",
    "        tmp    = tmp.rename(columns={target: feature_name})\n",
    "        trn_df = trn_df.merge(tmp, how='left', on=groups)\n",
    "        tst_df = tst_df.merge(tmp, how='left', on=groups)\n",
    "\n",
    "        return trn_df, tst_df\n",
    "\n",
    "    def features_lag(df_tr_, df_ts_, target_): \n",
    "    \n",
    "        cols = ['country','store', 'product', 'prev_year', \n",
    "                'month', 'day', 'fe_num_sold_lag_1']\n",
    "\n",
    "        trn_data = df_tr_.copy()\n",
    "        tst_data = df_ts_.copy()\n",
    "\n",
    "        for df in [trn_data, tst_data]:\n",
    "            df['year']  = df['date'].dt.year.astype(int)\n",
    "            df['month'] = df['date'].dt.month.astype(int)\n",
    "            df['day']   = df['date'].dt.day.astype(int)\n",
    "\n",
    "        trn_data['is_train']  = 1\n",
    "        tst_data['is_train']  = 0    \n",
    "        merge_data            = trn_data.append(tst_data)\n",
    "\n",
    "        tmp = merge_data.copy(deep=True)\n",
    "\n",
    "        tmp['prev_year']         = (tmp['year'] + 1).astype('int') \n",
    "        tmp['fe_num_sold_lag_1'] = tmp[target_]\n",
    "        tmp                      = tmp[cols]\n",
    "\n",
    "        merge_data = merge_data.merge(tmp, \n",
    "                                      how      = 'left', \n",
    "                                      left_on  = ['country', 'store', 'product', 'year'     , 'month', 'day'],\n",
    "                                      right_on = ['country', 'store', 'product', 'prev_year', 'month', 'day'])\n",
    "\n",
    "        merge_data = merge_data.drop(columns=['prev_year'])\n",
    "        trn_data   = merge_data[merge_data['is_train'] == 1] \n",
    "        tst_data   = merge_data[merge_data['is_train'] == 0].drop(columns = ['num_sold'])\n",
    "\n",
    "        cols_drop = ['year','month','day','is_train']\n",
    "        trn_data.drop(cols_drop, axis=1 , inplace=True)\n",
    "        tst_data.drop(cols_drop, axis=1 , inplace=True)\n",
    "        \n",
    "        trn_data = trn_data.dropna()\n",
    "        tst_data = tst_data.dropna() \n",
    "        \n",
    "        return trn_data, tst_data\n",
    "\n",
    "    df_tr_['date'] = df_tr_['date'].astype(np.datetime64)\n",
    "    df_ts_['date'] = df_ts_['date'].astype(np.datetime64)\n",
    "        \n",
    "    #df_tr_, df_ts_ = features_lag(df_tr_.copy(), df_ts_.copy(), target_)\n",
    "    \n",
    "    \n",
    "    \n",
    "    df_tr_ = feature_season(df_tr_)\n",
    "    df_ts_ = feature_season(df_ts_)\n",
    "    \n",
    "                  \n",
    "    # --------------------------------------------\n",
    "    # Conversão da data em variáveis temporais\n",
    "    # --------------------------------------------\n",
    "    df_tr_ = feature_time(df_tr_) \n",
    "    df_ts_ = feature_time(df_ts_)\n",
    "    \n",
    "    \n",
    "    \n",
    "    # --------------------------------------------\n",
    "    # Fim de ano \n",
    "    # --------------------------------------------\n",
    "    df_tr_ = end_year(df_tr_) \n",
    "    df_ts_ = end_year(df_ts_)\n",
    "    \n",
    "    \n",
    "\n",
    "      \n",
    "    # --------------------------------------------\n",
    "    # Fourier 6,34879\n",
    "    # --------------------------------------------\n",
    "    #df_tr_ = get_fourier_features(df_tr_)\n",
    "    #df_ts_ = get_fourier_features(df_ts_)\n",
    "    \n",
    "    for feture in feature_lencoder_: \n",
    "        df_tr_, df_ts_ = feature_label_encoder(df_tr_, df_ts_, feature_lencoder_)\n",
    "    \n",
    "    # --------------------------------------------\n",
    "    # Target encoding \n",
    "    # --------------------------------------------\n",
    "    feature_gr_encoder = [(['country'], 'fe_mean_enc_country'),                            \n",
    "                         # (['product'], 'fe_mean_enc_product'), \n",
    "                          (['fe_month'], 'fe_mean_enc_month'),                           \n",
    "                          #(['store'], 'fe_mean_enc_store'),\n",
    "                          #(['fe_day_of_week'], 'fe_mean_enc_dayofweek'), \n",
    "                          #(['country', 'store', 'product'], 'fe_mean_enc_csp')\n",
    "                         ]\n",
    "     \n",
    "    for fe in feature_gr_encoder:\n",
    "        df_tr_, df_ts_ = feature_calc_mean_encoded(df_tr_,\n",
    "                                                   df_ts_, \n",
    "                                                   groups       = fe[0], \n",
    "                                                   target       = target, \n",
    "                                                   feature_name = fe[1])\n",
    "    \n",
    "    df_tr_ = dammy(df_tr_, feature_dammy_) \n",
    "    df_ts_ = dammy(df_ts_, feature_dammy_) \n",
    "    \n",
    "     \n",
    "    y = df_tr_[target]\n",
    "    \n",
    "    df_tr_ = df_tr_.dropna()\n",
    "    df_ts_ = df_ts_.dropna() \n",
    "    df_tr_ = df_tr_.reset_index()\n",
    "    df_tr_.drop('index', axis=1, inplace=True)\n",
    "    \n",
    "    # To remove constant features\n",
    "    sel = DropConstantFeatures(tol=0.96)\n",
    "    sel.fit(df_tr_)  \n",
    "    feature_drop_corr = sel.features_to_drop_ \n",
    "    \n",
    "    \n",
    "    cols_drop = [] #'fe_cos_1', 'fe_cos_12',] #'A', 'B', 'C'] ['fe_sin_1'] +\n",
    "    \n",
    "    # \n",
    "    feature_drop_corr = ['fe_day_of_year', 'fe_week_of_month', 'fe_week_of_year' ] + \\\n",
    "                        ['date'] + feature_drop_corr #+ cols_drop\n",
    "    \n",
    "    df_tr_.drop(target, axis=1, inplace=True)\n",
    "    df_tr_[target] = y\n",
    "    \n",
    "    df_tr_.drop(feature_drop_corr, axis=1, inplace=True) \n",
    "    df_ts_.drop(feature_drop_corr, axis=1, inplace=True) \n",
    "            \n",
    "    \n",
    "    \n",
    "    return df_tr_, df_ts_"
   ]
  },
  {
   "cell_type": "markdown",
   "metadata": {},
   "source": [
    "---"
   ]
  },
  {
   "cell_type": "markdown",
   "metadata": {},
   "source": [
    "- https://github.com/solegalli/packt_featureengineering_cookbook/blob/master/ch10-transactional-data/R2--aggregate-transactional-data-in-time-windows.ipynb\n",
    "    "
   ]
  },
  {
   "cell_type": "markdown",
   "metadata": {},
   "source": [
    "<div class=\"alert alert-block alert-info\">\n",
    "<p style=\"color: black; font-family: Arial Black\">NOTA:</p>\n",
    "\n",
    "As novas variáveis criadas tem correlação com a variáveis alvo, podemos destar duas dessas variáveis: <b>fe_day_of_weed e fe_important_dates</b> com maiores correlações com a variável alvo. <p><br>\n",
    "    \n",
    "    \n",
    "<b>OBSERVAÇÃO</b>:<br>\n",
    "    \n",
    "Fizemos a remoção de algumas variáveis autotocorrelacionadas (80% de correlação), o que podemos reavaliar no futuro essa exclusão. <p><br>  \n",
    "</div>"
   ]
  },
  {
   "cell_type": "markdown",
   "metadata": {},
   "source": [
    "___"
   ]
  },
  {
   "cell_type": "markdown",
   "metadata": {
    "id": "U_u86Phe19f5"
   },
   "source": [
    "<div style=\"color:white;border-radius:8px;background-color:#a7d5ed\">    \n",
    "    <h1 style=\"padding:12px;color:black;\"> 4. Modelagem (baseline)</h1>    \n",
    "</div>"
   ]
  },
  {
   "cell_type": "markdown",
   "metadata": {},
   "source": [
    "## 4.1. Funções"
   ]
  },
  {
   "cell_type": "code",
   "execution_count": 45,
   "metadata": {
    "ExecuteTime": {
     "end_time": "2022-09-30T22:00:08.707950Z",
     "start_time": "2022-09-30T22:00:08.696937Z"
    },
    "code_folding": [
     0
    ]
   },
   "outputs": [],
   "source": [
    "def delete_files(namefile):\n",
    "\n",
    "        path = ['model/train', 'model/test', 'model/valid', 'model/params', 'model/score',\n",
    "                'model/test_f', 'model/cv_model', 'model/preds', 'model/optuna', \n",
    "                'model/preds/train', 'model/preds/test', 'model/preds/test/n1', \n",
    "                'model/preds/test/n2', 'model/preds/test/n3', 'model/preds/train/n1', \n",
    "                'model/preds/train/n2', 'model/preds/train/n3','model/preds/param', \n",
    "                'Data/submission/tunning', 'Data/submission', 'model/mdl'\n",
    "                \n",
    "               ]\n",
    "\n",
    "        for path_ in path:\n",
    "            for raiz, diretorios, arquivos in os.walk(path_):\n",
    "                for arquivo in arquivos:\n",
    "                    if arquivo.startswith(namefile):                    \n",
    "                        os.remove(os.path.join(raiz, arquivo))"
   ]
  },
  {
   "cell_type": "code",
   "execution_count": 46,
   "metadata": {
    "ExecuteTime": {
     "end_time": "2022-09-30T22:00:09.192768Z",
     "start_time": "2022-09-30T22:00:09.173724Z"
    },
    "code_folding": [
     0
    ]
   },
   "outputs": [],
   "source": [
    "def save_data_model(model_, model_name_, path_, y_pred_train_prob_, y_pred_test_prob_, y_pred_test_, score_, \n",
    "                    seed_, level_='1', target_='target', cutoff_value_=.6, gera_submission_=True):    \n",
    "    \n",
    "    level = 'n' + level_ + '/'\n",
    "\n",
    "    if score_>cutoff_value_:    \n",
    "        \n",
    "        path_name_param = path_ + 'model/preds/param/' + model_name_.format(score_, seed_) + '.pkl.z'\n",
    "        path_name_train = path_ + 'model/preds/train/' + level + model_name_.format(score_, seed_)  + '.pkl.z'\n",
    "        path_name_test  = path_ + 'model/preds/test/'  + level + model_name_.format(score_, seed_)  + '.pkl.z'   \n",
    "        path_name_model = path_ + 'model/mdl/'         + model_name_.format(score_, seed_)  + '.pkl.z'   \n",
    "        \n",
    "        delete_files(model_name_)\n",
    "        \n",
    "        jb.dump(y_pred_train_prob_, path_name_train)\n",
    "        jb.dump(y_pred_test_prob_, path_name_test)\n",
    "        jb.dump(model_, path_name_model)\n",
    "                \n",
    "        if gera_submission_:\n",
    "            df_submission[target] = y_pred_test_\n",
    "            df_submission.to_csv(path_ + 'Data/submission/' + model_name_+ '.csv', index=False)"
   ]
  },
  {
   "cell_type": "code",
   "execution_count": 47,
   "metadata": {
    "ExecuteTime": {
     "end_time": "2022-09-30T22:00:09.665104Z",
     "start_time": "2022-09-30T22:00:09.648090Z"
    },
    "code_folding": [
     0
    ],
    "scrolled": false
   },
   "outputs": [],
   "source": [
    "def kfold_create(df_, year_=2020, folds_=[(4,6), (6,8), (8,10),(10,12)],seed_=0):\n",
    "    \n",
    "    df_['fold']=np.inf\n",
    "    df_['fold'][df_['fe_year']<=year_]=-1\n",
    "    \n",
    "    for i , f in enumerate(folds_): \n",
    "        fold = list(df_[(df_['fe_year'] ==year_) & \\\n",
    "                        (df_['fe_month']> f[0]-seed_) & \\\n",
    "                        (df_['fe_month']<=f[1]+seed_)].index)\n",
    "\n",
    "        df_.loc[fold,\"fold\"] = i+1   \n",
    "        \n",
    "    return df_, len(folds_)"
   ]
  },
  {
   "cell_type": "code",
   "execution_count": 48,
   "metadata": {
    "ExecuteTime": {
     "end_time": "2022-09-30T22:00:10.075286Z",
     "start_time": "2022-09-30T22:00:10.053250Z"
    },
    "code_folding": [
     0
    ]
   },
   "outputs": [],
   "source": [
    "def model_train(models_, X_tr_, y_tr_, X_vl_, y_vl_, X_ts_, scaler_=StandardScaler(), \n",
    "                transfs_target_=[None], path_=path, save_submission_=False): \n",
    "\n",
    "    for t_target in transfs_target_: \n",
    "        \n",
    "        name_transf_target = t_target[0]\n",
    "        transf_target_     = t_target[1]\n",
    "        \n",
    "        print('=> Targer transf: {}'.format(name_transf_target))\n",
    "        print('='*50)\n",
    "        \n",
    "        for i, mdl in enumerate(models):\n",
    "            \n",
    "            # ---------------------------------------------------- \n",
    "            # Processamento e Treinamento \n",
    "            # ----------------------------------------------------     \n",
    "            \n",
    "            model       = make_pipeline(scaler_, mdl[1])\n",
    "            y_tr_transf = np.sqrt(y_tr_.copy()).ravel()\n",
    "            y_vl_transf = np.sqrt(y_vl_.copy()).ravel()\n",
    "\n",
    "            #if transf_target_ is not None:                     \n",
    "            #    transf_target_.fit(y_tr_transf.values.reshape(-1,1))\n",
    "            #    y_tr_transf = transf_target_.transform(y_tr_transf.values.reshape(-1,1))\n",
    "            #    y_vl_transf = transf_target_.transform(y_vl_transf.values.reshape(-1,1))\n",
    "\n",
    "            model.fit(X_tr_, y_tr_transf)\n",
    "\n",
    "                \n",
    "            # ---------------------------------------------------- \n",
    "            # Previsão \n",
    "            # ----------------------------------------------------     \n",
    "            \n",
    "            y_pred_val  = np.round((model.predict(X_valid)**2).reshape(-1, 1))\n",
    "            y_pred_test = np.round((model.predict(X_test)**2).reshape(-1, 1))\n",
    "\n",
    "            # ---------------------------------------------------- \n",
    "            # Score \n",
    "            # ---------------------------------------------------- \n",
    "\n",
    "            #if transf_target_ is not None:                       \n",
    "            #    y_pred_val  = transf_target_.inverse_transform(pd.DataFrame(y_pred_val))\n",
    "            #    y_pred_test = transf_target_.inverse_transform(pd.DataFrame(y_pred_test))\n",
    "            #    y_pred_val  = pd.Series(map(lambda x: x[0], y_pred_val)).astype(np.int16)\n",
    "            #    y_pred_test = pd.Series(map(lambda x: x[0], y_pred_test)).astype(np.int16) \n",
    "            \n",
    "            y_pred_val = pd.DataFrame(y_pred_val, columns=[target]).reset_index()[target]\n",
    "\n",
    "            rmse, mae, mse, mape, r_squared, smape = \\\n",
    "                utility.evaluation(y_valid.reset_index()[target], y_pred_val, smape_base_=200)  \n",
    "\n",
    "            model_name = mdl[1].__class__.__name__\n",
    "            msg        = 'RMSE: {:2.5F} - SMAPE: {:2.5F} => {}'\n",
    "                        \n",
    "                \n",
    "            # ---------------------------------------------------- \n",
    "            # Gerar submission\n",
    "            # ---------------------------------------------------- \n",
    "            \n",
    "            if save_submission_:\n",
    "                submission_name       = mdl[0] + '_bl_score_{:2.5f}.csv'.format(smape) \n",
    "                df_submission[target] = y_pred_test    \n",
    "                df_submission.to_csv(path_ + 'Data/submission/'+submission_name, index=False)\n",
    "            \n",
    "            print(msg.format(rmse, smape, model_name))  \n",
    "            \n",
    "        print(y_pred_val)"
   ]
  },
  {
   "cell_type": "code",
   "execution_count": 169,
   "metadata": {
    "ExecuteTime": {
     "end_time": "2022-09-30T23:55:19.568275Z",
     "start_time": "2022-09-30T23:55:19.529276Z"
    },
    "code_folding": [],
    "run_control": {
     "marked": false
    },
    "scrolled": false
   },
   "outputs": [],
   "source": [
    "def model_train_cv(models_, X_tr_, X_ts_, target_, scaler_=None, gera_submission_=True, \n",
    "                    path_=path, seeds_= [1], year_=2020, folds_=None, transf_target_=None):\n",
    "    \n",
    "    X_tr_          = X_tr_.copy() \n",
    "    X_ts_          = X_ts_.copy()    \n",
    "    \n",
    "    df_feature_imp = pd.DataFrame()\n",
    "    df_pred_test   = pd.DataFrame()\n",
    "    df_pred_train  = pd.DataFrame()\n",
    "    model_best     = ''\n",
    "    scaler_best    = ''\n",
    "    score_best     = np.inf\n",
    "    seed_best      = 0 \n",
    "    model_best_fit = ''\n",
    "    \n",
    "    if folds_ is None: \n",
    "        folds_ = [(4,6), (6,8), (8,10),(10,12)]\n",
    "        \n",
    "    for seed_ in seeds_:\n",
    "\n",
    "        X_tr_, n_folds = kfold_create(X_tr_, year_, folds_=folds_, seed_=seed_)\n",
    "\n",
    "        for mdl in models_: \n",
    "\n",
    "            name_submission_ = mdl[0]\n",
    "            model_           = mdl[1]\n",
    "            model_type       = mdl[2]\n",
    "            model_name       = model_.__class__.__name__\n",
    "            second_level     = np.zeros((X_tr_.shape[0], 7))\n",
    "            cols_level       = ['fold', 'idx_fold', 'y', 'y_pred', 'residuo']\n",
    "            mae_list         = []        \n",
    "            rmse_list        = []\n",
    "            r2_list          = []\n",
    "            mape_list        = []\n",
    "            smape_list       = []\n",
    "            mse_list         = []\n",
    "            y_pred_test      = 0\n",
    "\n",
    "            print('=> {} - seed: {}'.format(model_name, seed_))\n",
    "            print('='*80)\n",
    "\n",
    "            name_submission_ = name_submission_ + '_seed_' + str(seed_)\n",
    "\n",
    "            delete_files(name_submission_)\n",
    "\n",
    "            if scaler_!=None:            \n",
    "                string_scaler = str(scaler_)        \n",
    "                string_scaler = string_scaler[:string_scaler.index('(')]\n",
    "            else:\n",
    "                string_scaler = None \n",
    "\n",
    "            for fold in range(1, n_folds+1):   \n",
    "                \n",
    "                \n",
    "                \n",
    "                \n",
    "            #tscv = TimeSeriesSplit(n_splits=3)\n",
    "            \n",
    "    \n",
    "            #for fold, (train_index, test_index) in enumerate(tscv.split(X_tr_)):\n",
    "\n",
    "                cols = X_tr_.columns.to_list() \n",
    "                cols.remove(target_)\n",
    "                cols.remove('fold')\n",
    "\n",
    "                # ---------------------------------------------------- \n",
    "                # Processamento\n",
    "                # ----------------------------------------------------    \n",
    "\n",
    "                X_train = X_tr_[X_tr_.fold < fold].copy()\n",
    "                X_valid = X_tr_[X_tr_.fold == fold].copy()\n",
    "\n",
    "                y_train = X_train[target_]\n",
    "                y_valid = X_valid[target_]\n",
    "\n",
    "                \n",
    "                #X_train = X_tr_.iloc[train_index]\n",
    "                #X_valid = X_tr_.iloc[test_index]\n",
    "                \n",
    "                #y_train = X_tr_.iloc[train_index][target_]\n",
    "                #y_valid = X_tr_.iloc[test_index][target_]\n",
    "                                \n",
    "                if scaler_ is not None: \n",
    "                    scaler_.fit(X_train[cols])                    \n",
    "                    X_train = pd.DataFrame(scaler_.fit_transform(X_train[cols]), columns=cols)\n",
    "                    X_valid = pd.DataFrame(scaler_.fit_transform(X_valid[cols]), columns=cols)\n",
    "                else:\n",
    "                    X_train.drop([target_, 'fold'], axis=1, inplace=True)\n",
    "                    X_valid.drop([target_, 'fold'], axis=1, inplace=True)\n",
    "                \n",
    "                #y_train_transf = np.log(y_train)\n",
    "                #y_valid_transf = np.log(y_valid)\n",
    "                \n",
    "                y_train_transf = (y_train)\n",
    "                y_valid_transf = (y_valid)\n",
    "\n",
    "                # ---------------------------------------------------- \n",
    "                # Treinamento \n",
    "                # ----------------------------------------------------    \n",
    "                \n",
    "                if model_type==1: \n",
    "                    model_.fit(X_train, \n",
    "                               y_train_transf,        \n",
    "                               eval_set              = [(X_train, y_train_transf), (X_valid, y_valid_transf)], \n",
    "                               early_stopping_rounds = 50,\n",
    "                               verbose               = False )\n",
    "                    \n",
    "                if model_type==2:\n",
    "                    model_.fit(X_train, y_train_transf)\n",
    "                                \n",
    "                # ---------------------------------------------------- \n",
    "                # Predição \n",
    "                # ----------------------------------------------------    \n",
    "\n",
    "                y_pred_val   = np.round((model_.predict(X_valid)))\n",
    "                y_pred_trn   = np.round((model_.predict(X_train)))\n",
    "                y_pred_ts    = np.round((model_.predict(X_ts_))/n_folds)\n",
    "                \n",
    "                y_pred_test += y_pred_ts\n",
    "                \n",
    "                # ---------------------------------------------------- \n",
    "                # Score y_valid.reset_index()[target]\n",
    "                # ----------------------------------------------------                         \n",
    "\n",
    "                rmse, mae, mse, mape, r_squared, smape = \\\n",
    "                    utility.evaluation(y_valid.reset_index()[target], y_pred_val, smape_base_=200)  \n",
    "\n",
    "                rmse_list.append(rmse)     \n",
    "                mae_list.append(mae)      \n",
    "                mse_list.append(mse)   \n",
    "                r2_list.append(r_squared)\n",
    "                mape_list.append(mape)\n",
    "                smape_list.append(smape)\n",
    "\n",
    "                # ---------------------------------------------------- \n",
    "                # Feature Importance\n",
    "                # ----------------------------------------------------             \n",
    "                feat_imp = pd.DataFrame(index   = X_train.columns,\n",
    "                                        #data    = model_.feature_importances_,\n",
    "                                        columns = ['fold_{}'.format(fold)])\n",
    "\n",
    "                feat_imp['score_'+str(fold+1)] = mape\n",
    "                feat_imp['model']              = model_name\n",
    "                feat_imp['seed']               = seed_\n",
    "                feat_imp['scaler']             = string_scaler\n",
    "\n",
    "                df_feature_imp = pd.concat([df_feature_imp, feat_imp], axis=1)\n",
    "\n",
    "                val_idx = X_valid.index\n",
    "\n",
    "                #second_level[val_idx, 0] = fold \n",
    "                #second_level[val_idx, 1] = rmse\n",
    "                #second_level[val_idx, 2] = mae\n",
    "                #second_level[val_idx, 3] = mse\n",
    "                #second_level[val_idx, 4] = smape\n",
    "                #second_level[val_idx, 5] = y_valid.values\n",
    "                #second_level[val_idx, 6] = y_pred_val\n",
    "\n",
    "                msg = '[Fold: {}] RMSE: {:2.5F} - MAE: {:2.5F} - MAPE: {:2.5F} - SMAPE: {:2.5F}'\n",
    "                print(msg.format(fold, rmse, mae, mape, smape))\n",
    "                \n",
    "                utility.free_gpu_cache()\n",
    "\n",
    "            mae_mean   = np.mean(mae_list)        \n",
    "            rmse_mean  = np.mean(rmse_list)\n",
    "            r2_mean    = np.mean(r2_list)\n",
    "            mape_mean  = np.mean(mape_list)\n",
    "            smape_mean = np.mean(smape_list)\n",
    "            score_model= smape_mean\n",
    "\n",
    "            if score_model < score_best:     \n",
    "                score_best     = score_model           \n",
    "                model_best     = model_name    \n",
    "                scaler_best    = scaler_\n",
    "                seed_best      = seed_  \n",
    "                model_best_fit = model_\n",
    "\n",
    "            columns=['fold','rmse', 'mae', 'mse', 'mape','real', 'previsto']\n",
    "\n",
    "            df_pred_tr             = pd.DataFrame(second_level, columns=columns)\n",
    "            df_pred_tr['fold']     = df_pred_tr['fold'].astype(int)\n",
    "            df_pred_tr['real']     = df_pred_tr['real'].astype(int)\n",
    "            df_pred_tr['previsto'] = df_pred_tr['previsto'].astype(int)\n",
    "            df_pred_tr['residuo']  = df_pred_tr['real'] - df_pred_tr['previsto']\n",
    "            df_pred_tr['model']    = model_name\n",
    "            df_pred_tr['seed']     = seed_\n",
    "            df_pred_tr['scaler']   = string_scaler\n",
    "\n",
    "            df_pred_train = pd.concat([df_pred_train, df_pred_tr], axis=0)\n",
    "\n",
    "            model_name = model_name.lower() + '_seed_' + str(seed_) + '_' + str(string_scaler)\n",
    "            df_pred_test[model_name] = y_pred_test.astype(int)\n",
    "\n",
    "            if gera_submission_:\n",
    "                if target_ is None: target_=target\n",
    "                name_submission_ = name_submission_ + '_{:2.5f}_folds_{}_oof.csv'.format(smape_mean, n_folds)\n",
    "\n",
    "                save_data_model(model_             = model_, \n",
    "                                model_name_        = name_submission_, \n",
    "                                path_              = path_, \n",
    "                                y_pred_train_prob_ = df_pred_tr['previsto'].astype(int), \n",
    "                                y_pred_test_prob_  = y_pred_test, \n",
    "                                y_pred_test_       = y_pred_test.astype(int), \n",
    "                                score_             = smape_mean, \n",
    "                                seed_              = seed_, \n",
    "                                level_             = '1', \n",
    "                                target_            = target_, \n",
    "                                cutoff_value_      = .0, \n",
    "                                gera_submission_   = True)\n",
    "\n",
    "\n",
    "            msg = '[Mean Fold] RMSE: {:2.5F} - MAE: {:2.5F} - MAPE: {:2.5F} - SMAPE: {:2.5F}'\n",
    "\n",
    "            print('-'*80)\n",
    "            print(msg.format(rmse_mean, mae_mean, mape_mean, smape_mean))\n",
    "            print('='*80)\n",
    "            print()\n",
    "            \n",
    "    utility.free_gpu_cache()\n",
    "\n",
    "    print()\n",
    "    print('='*40)\n",
    "    print('BEST')\n",
    "    print('='*40)\n",
    "    print('Model : {}'.format(model_best))\n",
    "    print('Score : {:2.5F}'.format(score_best))\n",
    "    print('Scaler: {}'.format(scaler_best))\n",
    "    print('Seed  : {}'.format(seed_best))\n",
    "    print('-'*40)\n",
    "\n",
    "    return df_pred_train, df_pred_test, df_feature_imp, model_best_fit "
   ]
  },
  {
   "cell_type": "markdown",
   "metadata": {},
   "source": [
    "---"
   ]
  },
  {
   "cell_type": "markdown",
   "metadata": {},
   "source": [
    "## 4.2. Classificadores"
   ]
  },
  {
   "cell_type": "code",
   "execution_count": 144,
   "metadata": {
    "ExecuteTime": {
     "end_time": "2022-09-30T23:34:17.165360Z",
     "start_time": "2022-09-30T23:34:17.142361Z"
    },
    "code_folding": [
     12,
     31,
     50,
     56
    ],
    "run_control": {
     "marked": false
    }
   },
   "outputs": [],
   "source": [
    "seed       = 12359\n",
    "params_xgb = {'objective'        : 'reg:squarederror', \n",
    "              'eval_metric'      : 'rmse', \n",
    "              'n_estimators'     : 2000,         \n",
    "              'max_depth'        : 4, \n",
    "              'learning_rate'    : .01, \n",
    "              'subsample'        : 0.7, \n",
    "              'colsample_bytree' : 0.8, \n",
    "              'reg_alpha'        : 0.9,           \n",
    "              'random_state'     : seed}\n",
    "\n",
    "\n",
    "params_xgb_ = {'eta'              : 0.02,\n",
    "                  'n_estimators'     : 1000,\n",
    "                  'max_depth'        : 4,\n",
    "                  'max_leaves'       : 256,\n",
    "                  'colsample_bylevel': 0.75,\n",
    "                  'colsample_bytree' : 0.75,\n",
    "                  'subsample'        : 0.75, # XGBoost would randomly sample 'subsample_value' of the training data prior to growing trees\n",
    "                  'min_child_weight' : 512,\n",
    "                  'min_split_loss'   : 0.002,\n",
    "                  'alpha'            : 0.08,\n",
    "                  'lambda'           : 128,\n",
    "                  'objective'        : 'reg:squarederror',\n",
    "                  'eval_metric'      : 'rmse', # Originally using RMSE, trying new functions...\n",
    "                  'tree_method'      : 'hist',\n",
    "                  'seed'             :  seed\n",
    "                  }\n",
    "\n",
    "\n",
    "\n",
    "if torch.cuda.is_available():           \n",
    "    params_xgb.update({'tree_method': 'gpu_hist','predictor': 'gpu_predictor'})\n",
    "    \n",
    "model_xgb = xgb.XGBRegressor(**params_xgb)\n",
    "\n",
    "params_ctb = {'depth': 6,\n",
    "          'learning_rate': 0.02,\n",
    "          'l2_leaf_reg': 20.0,\n",
    "          'random_strength': 2.0,\n",
    "          'min_data_in_leaf': 2}\n",
    "    \n",
    "model_catboost = CatBoostRegressor(**params_ctb,\n",
    "                                      iterations=5000,\n",
    "                                      bootstrap_type='Bayesian',    #                                   \n",
    "                                      loss_function='MAE',\n",
    "                                      eval_metric='SMAPE', verbose=False,\n",
    "                                      random_state=seed)    \n",
    "    \n",
    "param_lgb = {\"objective\"    : \"regression\",\n",
    "             \"n_estimators\" : 99999, \n",
    "             'random_state' : seed}    \n",
    "    \n",
    "model_lgbm = lgb.LGBMRegressor(**param_lgb)\n",
    "\n",
    "param_rf   = {\n",
    "    'n_estimators'      : 500, \n",
    "    'criterion'         : 'squared_error', \n",
    "    'min_samples_split' : 10, \n",
    "    'max_features'      : .8,      \n",
    "    'max_samples'       : .7, \n",
    "    #'max_depth'         : 7,              \n",
    "    'random_state'      : seed, \n",
    "    'n_jobs'            : -1}\n",
    "\n",
    "model_rf   = RandomForestRegressor(**param_rf)\n",
    "\n",
    "model_ridge = Ridge(tol=1e-2, max_iter=1000000, random_state=seed)\n",
    "\n",
    "model_hgb = HistGradientBoostingRegressor(random_state=seed)\n",
    "\n",
    "model_lr = LinearRegression()\n",
    "\n",
    "#model_lasso = Lasso(tol=1e-2, max_iter=1000000, random_state=seed)\n",
    "\n",
    "#model_electic = ElasticNet(alpha=0.01, l1_ratio=0.01, random_state=seed)"
   ]
  },
  {
   "cell_type": "markdown",
   "metadata": {},
   "source": [
    "---"
   ]
  },
  {
   "cell_type": "markdown",
   "metadata": {},
   "source": [
    "## 4.3. Modelagem"
   ]
  },
  {
   "cell_type": "markdown",
   "metadata": {},
   "source": [
    "<div class=\"alert alert-block alert-info\">\n",
    "<p style=\"color: black; font-family: Arial Black\">NOTA:</p>\n",
    "\n",
    "Obtivemos os seguintes resultados nas submissões:    \n",
    "    \n",
    "- XGB: 6,96526;    \n",
    "- CatBoost: 6.74777;\n",
    "- RandomForest: 7.04803; \n",
    "- LGBM: 7,27186; \n",
    "- HGBoosting: 6,89675. <p><br>\n",
    "    \n",
    "    \n",
    "<b>OBSERVAÇÕES:</b><br>    \n",
    "- Ao fazermos o treinamento com os 4 anos obtivemos uma melhoria significante;    \n",
    "- Precisamos de uma validação mais robusta no ano de 2020 para que os modelos tenham melhor performance. <p> <br>\n",
    "    \n",
    "   \n",
    "- XGB: 6.97481;    \n",
    "- CatBoost: 6.74777;\n",
    "- RandomForest: 7.04803; \n",
    "- LGBM: 7,27186; \n",
    "- HGBoosting: 6,89675. <p><br>\n",
    "    \n",
    "\n",
    "</div>    "
   ]
  },
  {
   "cell_type": "markdown",
   "metadata": {},
   "source": [
    "### 4.3.2. Modelo 2"
   ]
  },
  {
   "cell_type": "code",
   "execution_count": 171,
   "metadata": {
    "ExecuteTime": {
     "end_time": "2022-09-30T23:57:10.588027Z",
     "start_time": "2022-09-30T23:56:18.649475Z"
    },
    "scrolled": false
   },
   "outputs": [
    {
     "name": "stdout",
     "output_type": "stream",
     "text": [
      "=> XGBRegressor - seed: 3\n",
      "================================================================================\n",
      "[Fold: 1] RMSE: 27.70205 - MAE: 20.31563 - MAPE: 0.10130 - SMAPE: 9.49290\n",
      "[Fold: 2] RMSE: 30.02447 - MAE: 22.13525 - MAPE: 0.13261 - SMAPE: 12.49814\n",
      "[Fold: 3] RMSE: 27.77776 - MAE: 18.47746 - MAPE: 0.08384 - SMAPE: 8.53923\n",
      "[Fold: 4] RMSE: 32.51356 - MAE: 20.84804 - MAPE: 0.08523 - SMAPE: 8.97396\n",
      "--------------------------------------------------------------------------------\n",
      "[Mean Fold] RMSE: 29.50446 - MAE: 20.44409 - MAPE: 0.10075 - SMAPE: 9.87606\n",
      "================================================================================\n",
      "\n",
      "=> LGBMRegressor - seed: 3\n",
      "================================================================================\n",
      "[Fold: 1] RMSE: 29.81940 - MAE: 21.53924 - MAPE: 0.10426 - SMAPE: 9.96523\n",
      "[Fold: 2] RMSE: 40.35526 - MAE: 34.73224 - MAPE: 0.29184 - SMAPE: 23.43781\n",
      "[Fold: 3] RMSE: 26.99457 - MAE: 18.36270 - MAPE: 0.08402 - SMAPE: 8.76315\n",
      "[Fold: 4] RMSE: 30.65932 - MAE: 18.42402 - MAPE: 0.07365 - SMAPE: 7.70159\n",
      "--------------------------------------------------------------------------------\n",
      "[Mean Fold] RMSE: 31.95714 - MAE: 23.26455 - MAPE: 0.13844 - SMAPE: 12.46695\n",
      "================================================================================\n",
      "\n",
      "=> HistGradientBoostingRegressor - seed: 3\n",
      "================================================================================\n",
      "[Fold: 1] RMSE: 28.55497 - MAE: 20.52917 - MAPE: 0.09885 - SMAPE: 9.45585\n",
      "[Fold: 2] RMSE: 39.70573 - MAE: 29.69433 - MAPE: 0.16811 - SMAPE: 15.08064\n",
      "[Fold: 3] RMSE: 29.29223 - MAE: 19.79201 - MAPE: 0.09133 - SMAPE: 9.39507\n",
      "[Fold: 4] RMSE: 29.91691 - MAE: 18.67906 - MAPE: 0.07692 - SMAPE: 7.99484\n",
      "--------------------------------------------------------------------------------\n",
      "[Mean Fold] RMSE: 31.86746 - MAE: 22.17364 - MAPE: 0.10880 - SMAPE: 10.48160\n",
      "================================================================================\n",
      "\n",
      "\n",
      "========================================\n",
      "BEST\n",
      "========================================\n",
      "Model : XGBRegressor\n",
      "Score : 9.87606\n",
      "Scaler: None\n",
      "Seed  : 3\n",
      "----------------------------------------\n",
      "CPU times: total: 2min 39s\n",
      "Wall time: 51.9 s\n"
     ]
    }
   ],
   "source": [
    "%%time \n",
    "\n",
    "params_xgb = {'objective'        : 'reg:squarederror', \n",
    "              'eval_metric'      : 'rmse', \n",
    "              'n_estimators'     : 1000,         \n",
    "              'max_depth'        : 5, \n",
    "              'learning_rate'    : .01, \n",
    "              #'subsample'        : 0.95, \n",
    "              #'colsample_bytree' : 0.9, \n",
    "              'reg_alpha'        : 0.3,           \n",
    "              'random_state'     : seed}\n",
    "\n",
    "if torch.cuda.is_available():           \n",
    "    params_xgb.update({'tree_method': 'gpu_hist','predictor': 'gpu_predictor'})\n",
    "    \n",
    "model_xgb = xgb.XGBRegressor(**params_xgb)\n",
    "\n",
    "models = [('xgb', model_xgb, 1),          \n",
    "          #('catboost', model_catboost, 1), \n",
    "          #('RForest', model_rf, 2),          \n",
    "          ('lgbm', model_lgbm, 1), \n",
    "          ('HistGBoosting', model_hgb, 2)\n",
    "         ]\n",
    "\n",
    "df_pred_train, df_pred_test, df_feature_imp, model_best = \\\n",
    "    model_train_cv(models_          = models, \n",
    "                   target_          = target,\n",
    "                   X_tr_            = df2_train,\n",
    "                   X_ts_            = df2_test,\n",
    "                   scaler_          = None,\n",
    "                   gera_submission_ = True,\n",
    "                   path_            = path,\n",
    "                   seeds_           = [3], \n",
    "                   year_            = 2020, \n",
    "                   transf_target_   = None,\n",
    "                   #folds_           = [(4,6), (6,8), (8,10),(10,12), (12, 15)]\n",
    "                  )\n"
   ]
  },
  {
   "cell_type": "code",
   "execution_count": 172,
   "metadata": {
    "ExecuteTime": {
     "end_time": "2022-09-30T23:57:23.951593Z",
     "start_time": "2022-09-30T23:57:23.912587Z"
    }
   },
   "outputs": [],
   "source": [
    "c = ['randomforestregressor_seed_3_None', \n",
    "     'lgbmregressor_seed_3_None', \n",
    "     'histgradientboostingregressor_seed_3_None'\n",
    "    ]\n",
    "\n",
    "#y_pred_1 = df_pred_test.filter(regex=r'seed_3').mean(axis=1).astype(int) #  \n",
    "#y_pred_1 = df_pred_test[cols].mean(axis=1).astype(int) #  \n",
    "y_pred_1 = df_pred_test.mean(axis=1).astype(int) #  \n",
    "# seed 1 -> 6.41199\n",
    "# sedd 2 -> 6.08322\n",
    "# seed 3 -> 5.64171 melhorou a LB\n",
    "\n",
    "df_submission[target] = y_pred_1\n",
    "df_submission.to_csv('Data/submission/ensamble_3000.csv', index=False)"
   ]
  },
  {
   "cell_type": "code",
   "execution_count": 141,
   "metadata": {
    "ExecuteTime": {
     "end_time": "2022-09-30T23:33:41.245821Z",
     "start_time": "2022-09-30T23:33:41.232791Z"
    }
   },
   "outputs": [],
   "source": [
    "df_1 = df_pred_test.copy()"
   ]
  },
  {
   "cell_type": "code",
   "execution_count": null,
   "metadata": {},
   "outputs": [],
   "source": []
  },
  {
   "cell_type": "code",
   "execution_count": null,
   "metadata": {},
   "outputs": [],
   "source": []
  },
  {
   "cell_type": "code",
   "execution_count": null,
   "metadata": {},
   "outputs": [],
   "source": [
    "=> XGBRegressor - seed: 3\n",
    "================================================================================\n",
    "[Fold: 1] RMSE: 26.07222 - MAE: 18.48611 - MAPE: 0.08495 - SMAPE: 8.28923\n",
    "[Fold: 2] RMSE: 31.14255 - MAE: 21.47473 - MAPE: 0.12031 - SMAPE: 11.71349\n",
    "[Fold: 3] RMSE: 29.14487 - MAE: 19.42145 - MAPE: 0.08390 - SMAPE: 8.75895\n",
    "[Fold: 4] RMSE: 32.14501 - MAE: 21.28690 - MAPE: 0.08666 - SMAPE: 9.17098\n",
    "--------------------------------------------------------------------------------\n",
    "[Mean Fold] RMSE: 29.62616 - MAE: 20.16730 - MAPE: 0.09396 - SMAPE: 9.48316\n",
    "================================================================================"
   ]
  },
  {
   "cell_type": "code",
   "execution_count": 115,
   "metadata": {
    "ExecuteTime": {
     "end_time": "2022-09-30T23:05:01.942499Z",
     "start_time": "2022-09-30T23:05:01.922452Z"
    }
   },
   "outputs": [],
   "source": [
    "X_train = df2_train.drop(target, axis=1)\n",
    "y_train = df2_train[target]\n",
    "X_test  = df2_test\n",
    "from sklearn.model_selection import train_test_split, StratifiedKFold, GridSearchCV, TimeSeriesSplit, GroupKFold, cross_validate"
   ]
  },
  {
   "cell_type": "code",
   "execution_count": null,
   "metadata": {},
   "outputs": [],
   "source": [
    "def get_cross_val_score_ts(model_ori, X, y, n_splits=5):\n",
    "    \n",
    "    tscv = TimeSeriesSplit(n_splits=n_splits)\n",
    "    cv_list = []\n",
    "    \n",
    "    for train_index, test_index in tscv.split(X):\n",
    "        \n",
    "        X_train, X_test = X.loc[train_index,:], X.loc[test_index,:]\n",
    "        y_train, y_test = y[train_index], y[test_index]\n",
    "        \n",
    "        model = clone(model_ori)\n",
    "        model.fit(X_train, y_train)\n",
    "        \n",
    "        preds = model.predict(X_test)\n",
    "        \n",
    "        cv_list.append(SMAPE(y_test, preds))\n",
    "        \n",
    "    return cv_list"
   ]
  },
  {
   "cell_type": "code",
   "execution_count": null,
   "metadata": {},
   "outputs": [],
   "source": [
    "get_cross_val_score_ts\n",
    "\n"
   ]
  },
  {
   "cell_type": "code",
   "execution_count": null,
   "metadata": {},
   "outputs": [],
   "source": []
  },
  {
   "cell_type": "code",
   "execution_count": 134,
   "metadata": {
    "ExecuteTime": {
     "end_time": "2022-09-30T23:21:29.759769Z",
     "start_time": "2022-09-30T23:20:32.153362Z"
    }
   },
   "outputs": [
    {
     "ename": "CatBoostError",
     "evalue": "C:/Program Files (x86)/Go Agent/pipelines/BuildMaster/catboost.git/catboost/libs/data/model_dataset_compatibility.cpp:81: At position 43 should be feature with name fe_four_sin_4_D (found fe_dm_Italy).",
     "output_type": "error",
     "traceback": [
      "\u001b[1;31m---------------------------------------------------------------------------\u001b[0m",
      "\u001b[1;31mCatBoostError\u001b[0m                             Traceback (most recent call last)",
      "Input \u001b[1;32mIn [134]\u001b[0m, in \u001b[0;36m<cell line: 21>\u001b[1;34m()\u001b[0m\n\u001b[0;32m     18\u001b[0m grid_model\u001b[38;5;241m.\u001b[39mfit(X_train, y_train)\n\u001b[0;32m     20\u001b[0m \u001b[38;5;66;03m# Make predictions\u001b[39;00m\n\u001b[1;32m---> 21\u001b[0m preds2 \u001b[38;5;241m=\u001b[39m \u001b[43mgrid_model\u001b[49m\u001b[38;5;241;43m.\u001b[39;49m\u001b[43mpredict\u001b[49m\u001b[43m(\u001b[49m\u001b[43mX_test\u001b[49m\u001b[43m)\u001b[49m\n\u001b[0;32m     23\u001b[0m \u001b[38;5;66;03m# Print best parameters\u001b[39;00m\n\u001b[0;32m     24\u001b[0m \u001b[38;5;28mprint\u001b[39m(\u001b[38;5;124m'\u001b[39m\u001b[38;5;124mBest parameters:\u001b[39m\u001b[38;5;124m'\u001b[39m, grid_model\u001b[38;5;241m.\u001b[39mbest_params_)\n",
      "File \u001b[1;32md:\\virtualenv\\kaggle\\lib\\site-packages\\sklearn\\utils\\metaestimators.py:113\u001b[0m, in \u001b[0;36m_AvailableIfDescriptor.__get__.<locals>.<lambda>\u001b[1;34m(*args, **kwargs)\u001b[0m\n\u001b[0;32m    110\u001b[0m         \u001b[38;5;28;01mraise\u001b[39;00m attr_err\n\u001b[0;32m    112\u001b[0m     \u001b[38;5;66;03m# lambda, but not partial, allows help() to work with update_wrapper\u001b[39;00m\n\u001b[1;32m--> 113\u001b[0m     out \u001b[38;5;241m=\u001b[39m \u001b[38;5;28;01mlambda\u001b[39;00m \u001b[38;5;241m*\u001b[39margs, \u001b[38;5;241m*\u001b[39m\u001b[38;5;241m*\u001b[39mkwargs: \u001b[38;5;28mself\u001b[39m\u001b[38;5;241m.\u001b[39mfn(obj, \u001b[38;5;241m*\u001b[39margs, \u001b[38;5;241m*\u001b[39m\u001b[38;5;241m*\u001b[39mkwargs)  \u001b[38;5;66;03m# noqa\u001b[39;00m\n\u001b[0;32m    114\u001b[0m \u001b[38;5;28;01melse\u001b[39;00m:\n\u001b[0;32m    116\u001b[0m     \u001b[38;5;28;01mdef\u001b[39;00m \u001b[38;5;21mfn\u001b[39m(\u001b[38;5;241m*\u001b[39margs, \u001b[38;5;241m*\u001b[39m\u001b[38;5;241m*\u001b[39mkwargs):\n",
      "File \u001b[1;32md:\\virtualenv\\kaggle\\lib\\site-packages\\sklearn\\model_selection\\_search.py:521\u001b[0m, in \u001b[0;36mBaseSearchCV.predict\u001b[1;34m(self, X)\u001b[0m\n\u001b[0;32m    503\u001b[0m \u001b[38;5;124;03m\"\"\"Call predict on the estimator with the best found parameters.\u001b[39;00m\n\u001b[0;32m    504\u001b[0m \n\u001b[0;32m    505\u001b[0m \u001b[38;5;124;03mOnly available if ``refit=True`` and the underlying estimator supports\u001b[39;00m\n\u001b[1;32m   (...)\u001b[0m\n\u001b[0;32m    518\u001b[0m \u001b[38;5;124;03m    the best found parameters.\u001b[39;00m\n\u001b[0;32m    519\u001b[0m \u001b[38;5;124;03m\"\"\"\u001b[39;00m\n\u001b[0;32m    520\u001b[0m check_is_fitted(\u001b[38;5;28mself\u001b[39m)\n\u001b[1;32m--> 521\u001b[0m \u001b[38;5;28;01mreturn\u001b[39;00m \u001b[38;5;28;43mself\u001b[39;49m\u001b[38;5;241;43m.\u001b[39;49m\u001b[43mbest_estimator_\u001b[49m\u001b[38;5;241;43m.\u001b[39;49m\u001b[43mpredict\u001b[49m\u001b[43m(\u001b[49m\u001b[43mX\u001b[49m\u001b[43m)\u001b[49m\n",
      "File \u001b[1;32md:\\virtualenv\\kaggle\\lib\\site-packages\\catboost\\core.py:5775\u001b[0m, in \u001b[0;36mCatBoostRegressor.predict\u001b[1;34m(self, data, prediction_type, ntree_start, ntree_end, thread_count, verbose, task_type)\u001b[0m\n\u001b[0;32m   5773\u001b[0m \u001b[38;5;28;01mif\u001b[39;00m prediction_type \u001b[38;5;129;01mis\u001b[39;00m \u001b[38;5;28;01mNone\u001b[39;00m:\n\u001b[0;32m   5774\u001b[0m     prediction_type \u001b[38;5;241m=\u001b[39m \u001b[38;5;28mself\u001b[39m\u001b[38;5;241m.\u001b[39m_get_default_prediction_type()\n\u001b[1;32m-> 5775\u001b[0m \u001b[38;5;28;01mreturn\u001b[39;00m \u001b[38;5;28;43mself\u001b[39;49m\u001b[38;5;241;43m.\u001b[39;49m\u001b[43m_predict\u001b[49m\u001b[43m(\u001b[49m\u001b[43mdata\u001b[49m\u001b[43m,\u001b[49m\u001b[43m \u001b[49m\u001b[43mprediction_type\u001b[49m\u001b[43m,\u001b[49m\u001b[43m \u001b[49m\u001b[43mntree_start\u001b[49m\u001b[43m,\u001b[49m\u001b[43m \u001b[49m\u001b[43mntree_end\u001b[49m\u001b[43m,\u001b[49m\u001b[43m \u001b[49m\u001b[43mthread_count\u001b[49m\u001b[43m,\u001b[49m\u001b[43m \u001b[49m\u001b[43mverbose\u001b[49m\u001b[43m,\u001b[49m\u001b[43m \u001b[49m\u001b[38;5;124;43m'\u001b[39;49m\u001b[38;5;124;43mpredict\u001b[39;49m\u001b[38;5;124;43m'\u001b[39;49m\u001b[43m,\u001b[49m\u001b[43m \u001b[49m\u001b[43mtask_type\u001b[49m\u001b[43m)\u001b[49m\n",
      "File \u001b[1;32md:\\virtualenv\\kaggle\\lib\\site-packages\\catboost\\core.py:2544\u001b[0m, in \u001b[0;36mCatBoost._predict\u001b[1;34m(self, data, prediction_type, ntree_start, ntree_end, thread_count, verbose, parent_method_name, task_type)\u001b[0m\n\u001b[0;32m   2541\u001b[0m data, data_is_single_object \u001b[38;5;241m=\u001b[39m \u001b[38;5;28mself\u001b[39m\u001b[38;5;241m.\u001b[39m_process_predict_input_data(data, parent_method_name, thread_count)\n\u001b[0;32m   2542\u001b[0m \u001b[38;5;28mself\u001b[39m\u001b[38;5;241m.\u001b[39m_validate_prediction_type(prediction_type)\n\u001b[1;32m-> 2544\u001b[0m predictions \u001b[38;5;241m=\u001b[39m \u001b[38;5;28;43mself\u001b[39;49m\u001b[38;5;241;43m.\u001b[39;49m\u001b[43m_base_predict\u001b[49m\u001b[43m(\u001b[49m\u001b[43mdata\u001b[49m\u001b[43m,\u001b[49m\u001b[43m \u001b[49m\u001b[43mprediction_type\u001b[49m\u001b[43m,\u001b[49m\u001b[43m \u001b[49m\u001b[43mntree_start\u001b[49m\u001b[43m,\u001b[49m\u001b[43m \u001b[49m\u001b[43mntree_end\u001b[49m\u001b[43m,\u001b[49m\u001b[43m \u001b[49m\u001b[43mthread_count\u001b[49m\u001b[43m,\u001b[49m\u001b[43m \u001b[49m\u001b[43mverbose\u001b[49m\u001b[43m,\u001b[49m\u001b[43m \u001b[49m\u001b[43mtask_type\u001b[49m\u001b[43m)\u001b[49m\n\u001b[0;32m   2545\u001b[0m \u001b[38;5;28;01mreturn\u001b[39;00m predictions[\u001b[38;5;241m0\u001b[39m] \u001b[38;5;28;01mif\u001b[39;00m data_is_single_object \u001b[38;5;28;01melse\u001b[39;00m predictions\n",
      "File \u001b[1;32md:\\virtualenv\\kaggle\\lib\\site-packages\\catboost\\core.py:1811\u001b[0m, in \u001b[0;36m_CatBoostBase._base_predict\u001b[1;34m(self, pool, prediction_type, ntree_start, ntree_end, thread_count, verbose, task_type)\u001b[0m\n\u001b[0;32m   1810\u001b[0m \u001b[38;5;28;01mdef\u001b[39;00m \u001b[38;5;21m_base_predict\u001b[39m(\u001b[38;5;28mself\u001b[39m, pool, prediction_type, ntree_start, ntree_end, thread_count, verbose, task_type):\n\u001b[1;32m-> 1811\u001b[0m     \u001b[38;5;28;01mreturn\u001b[39;00m \u001b[38;5;28;43mself\u001b[39;49m\u001b[38;5;241;43m.\u001b[39;49m\u001b[43m_object\u001b[49m\u001b[38;5;241;43m.\u001b[39;49m\u001b[43m_base_predict\u001b[49m\u001b[43m(\u001b[49m\u001b[43mpool\u001b[49m\u001b[43m,\u001b[49m\u001b[43m \u001b[49m\u001b[43mprediction_type\u001b[49m\u001b[43m,\u001b[49m\u001b[43m \u001b[49m\u001b[43mntree_start\u001b[49m\u001b[43m,\u001b[49m\u001b[43m \u001b[49m\u001b[43mntree_end\u001b[49m\u001b[43m,\u001b[49m\u001b[43m \u001b[49m\u001b[43mthread_count\u001b[49m\u001b[43m,\u001b[49m\u001b[43m \u001b[49m\u001b[43mverbose\u001b[49m\u001b[43m,\u001b[49m\u001b[43m \u001b[49m\u001b[43mtask_type\u001b[49m\u001b[43m)\u001b[49m\n",
      "File \u001b[1;32m_catboost.pyx:4758\u001b[0m, in \u001b[0;36m_catboost._CatBoost._base_predict\u001b[1;34m()\u001b[0m\n",
      "File \u001b[1;32m_catboost.pyx:4765\u001b[0m, in \u001b[0;36m_catboost._CatBoost._base_predict\u001b[1;34m()\u001b[0m\n",
      "\u001b[1;31mCatBoostError\u001b[0m: C:/Program Files (x86)/Go Agent/pipelines/BuildMaster/catboost.git/catboost/libs/data/model_dataset_compatibility.cpp:81: At position 43 should be feature with name fe_four_sin_4_D (found fe_dm_Italy)."
     ]
    }
   ],
   "source": [
    "# Cross validation\n",
    "tscv = TimeSeriesSplit(n_splits=3)\n",
    "\n",
    "# Grid for grid search\n",
    "grid = {'n_estimators': [75, 100, 125],\n",
    "        'max_depth': [4, 6],\n",
    "        'learning_rate': [0.075, 0.1, 0.125], \n",
    "        #'l2_leaf_reg': [10., 20.0],\n",
    "        #'min_data_in_leaf': [2, 4, 6]\n",
    "       \n",
    "       }\n",
    "\n",
    "# Model for interactions\n",
    "model2 = CatBoostRegressor(random_state=0, verbose=False)\n",
    "grid_model = GridSearchCV(estimator=model2, cv=tscv, param_grid=grid)\n",
    "\n",
    "# Train model using GridSearch\n",
    "grid_model.fit(X_train, y_train)\n",
    "\n",
    "# Make predictions\n",
    "preds2 = grid_model.predict(X_test)\n",
    "\n",
    "# Print best parameters\n",
    "print('Best parameters:', grid_model.best_params_)"
   ]
  },
  {
   "cell_type": "code",
   "execution_count": 133,
   "metadata": {
    "ExecuteTime": {
     "end_time": "2022-09-30T23:20:14.788638Z",
     "start_time": "2022-09-30T23:20:14.781599Z"
    }
   },
   "outputs": [
    {
     "data": {
      "text/plain": [
       "array([463.47330967, 363.98787471, 278.30535599, ..., 175.43343743,\n",
       "       146.05357777, 233.99264621])"
      ]
     },
     "execution_count": 133,
     "metadata": {},
     "output_type": "execute_result"
    }
   ],
   "source": [
    "preds2"
   ]
  },
  {
   "cell_type": "code",
   "execution_count": null,
   "metadata": {},
   "outputs": [],
   "source": []
  },
  {
   "cell_type": "code",
   "execution_count": null,
   "metadata": {
    "run_control": {
     "marked": false
    }
   },
   "outputs": [],
   "source": [
    "XGB: 7,18810 \n",
    "CatBoost:  6,60767 \n",
    "RandomForest: 6,35440\n",
    "LGBM: 6,60121 \n",
    "HGBoosting: 6,60121 \n",
    "        \n",
    "XGB: 7,18810 \n",
    "CatBoost:  6,60767 \n",
    "RandomForest: 6,35440    \n",
    "LGBM: 6.88250 \n",
    "HGBoosting: 6.19879\n",
    "    \n",
    "    \n",
    "    \n",
    "XGB          : 7.34327    6.90513 6.78097\n",
    "CatBoost     : 6,11292    6.47358\n",
    "RandomForest : 7.30156    \n",
    "LGBM         : 7,29112\n",
    "HGBoosting   : 6,32612"
   ]
  },
  {
   "cell_type": "code",
   "execution_count": null,
   "metadata": {
    "ExecuteTime": {
     "end_time": "2022-09-29T02:24:22.050031Z",
     "start_time": "2022-09-29T02:24:19.321766Z"
    }
   },
   "outputs": [],
   "source": [
    "X = df3_train.copy()\n",
    "y = X[target]\n",
    "X.drop(target, axis=1, inplace=True)\n",
    "\n",
    "preproc = StandardScaler()\n",
    "X_tr_f  = pd. preproc.fit_transform(X)\n",
    "y_tr    = y.values.reshape(-1, 1)\n",
    "\n",
    "#model = Ridge(tol=1e-2, max_iter=1000000, random_state=0)\n",
    "model_xgb.fit(X_tr_f, np.log(y_tr).ravel())\n"
   ]
  },
  {
   "cell_type": "code",
   "execution_count": null,
   "metadata": {
    "ExecuteTime": {
     "end_time": "2022-09-29T02:25:59.401915Z",
     "start_time": "2022-09-29T02:25:59.305875Z"
    }
   },
   "outputs": [],
   "source": [
    "X"
   ]
  },
  {
   "cell_type": "code",
   "execution_count": null,
   "metadata": {
    "ExecuteTime": {
     "end_time": "2022-09-29T02:25:28.170816Z",
     "start_time": "2022-09-29T02:25:27.622785Z"
    }
   },
   "outputs": [],
   "source": [
    "\n",
    "plt.scatter(X.index, y, label='true', alpha=0.5, color='red', s=3)\n",
    "plt.legend()\n",
    "plt.title('Previsões e num_sold por cinco anos')\n",
    "plt.show()"
   ]
  },
  {
   "cell_type": "code",
   "execution_count": null,
   "metadata": {},
   "outputs": [],
   "source": [
    "\n",
    "\n",
    "    \n",
    "\n",
    "    # Treine o modelo\n",
    "    # model = LinearRegression()\n",
    "    # model = HuberRegressor(épsilon=1.20, max_iter=500)\n",
    "    #model = model_ridge#Ridge()\n",
    "    \n",
    "    #model = Ridge(tol=1e-2, max_iter=1000000, random_state=0)\n",
    "    model.fit(X_tr_f, np.log(y_tr).ravel())\n",
    "\n",
    "\n",
    "\n",
    "    #engineer, \n",
    "    country = 'Poland' \n",
    "    store   = 'KaggleMart'\n",
    "    product = 'Kaggle Advanced Techniques'\n",
    "\n",
    "\n",
    "    demo_df = pd.DataFrame({'row_id': 0,                        \n",
    "                            'date': pd.date_range('2017-01-01', '2021-12-31', freq='D'),\n",
    "                            'country': country,\n",
    "                            'store': store,\n",
    "                            'product': product})\n",
    "\n",
    "    demo_df.set_index('date', inplace=True, drop=False)\n",
    "\n",
    "    demo_df, feature = feature_time(demo_df)\n",
    "\n",
    "    demo_df['num_sold'] = np.exp(model.predict(preproc.transform(demo_df[feature])))\n",
    "\n",
    "    plt.figure(figsize=(20, 6))\n",
    "    plt.plot(demo_df.index, demo_df.num_sold, label='prediction')\n",
    "\n",
    "    train_subset = df2_train[(df2_train.country == country) & \\\n",
    "                             (df2_train.store == store) & \\\n",
    "                             (df2_train['product'] == product)]\n",
    "\n",
    "    train_subset.set_index('date', inplace=True, drop=False)\n",
    "\n",
    "    plt.scatter(train_subset.index, train_subset.num_sold, label='true', alpha=0.5, color='red', s=3)\n",
    "    plt.legend()\n",
    "    plt.title('Previsões e num_sold por cinco anos')\n",
    "    plt.show()\n",
    "    \n",
    "    #print(feature)\n",
    "    \n",
    "    return preproc, feature, model"
   ]
  },
  {
   "cell_type": "code",
   "execution_count": null,
   "metadata": {},
   "outputs": [],
   "source": []
  },
  {
   "cell_type": "code",
   "execution_count": null,
   "metadata": {},
   "outputs": [],
   "source": []
  },
  {
   "cell_type": "markdown",
   "metadata": {},
   "source": [
    "<div class=\"alert alert-block alert-info\">\n",
    "<p style=\"color: black; font-family: Arial Black\">NOTA:</p>\n",
    "\n",
    "    \n",
    "Obtivemos os seguintes resultados nas submissões:    \n",
    "    \n",
    "- XGB: 6,61304;    \n",
    "- CatBoost: 5,97850;\n",
    "- RandomForest: 6,38489; \n",
    "- LGBM: 6,18652; \n",
    "- HGBoosting: 6,23651. <p><br>\n",
    "    \n",
    "- xgb  - 7,11051 \n",
    "- ctb  - 6,04950\n",
    "- rf   - 6,32763\n",
    "- HGB  - 6,04390\n",
    "    \n",
    "</div>"
   ]
  },
  {
   "cell_type": "markdown",
   "metadata": {},
   "source": [
    "---"
   ]
  },
  {
   "cell_type": "code",
   "execution_count": null,
   "metadata": {
    "ExecuteTime": {
     "end_time": "2022-09-29T00:00:43.757824Z",
     "start_time": "2022-09-29T00:00:43.652325Z"
    }
   },
   "outputs": [],
   "source": [
    "\n"
   ]
  },
  {
   "cell_type": "code",
   "execution_count": null,
   "metadata": {
    "ExecuteTime": {
     "end_time": "2022-09-26T23:47:36.319660Z",
     "start_time": "2022-09-26T23:47:36.272624Z"
    }
   },
   "outputs": [],
   "source": [
    "df_pred_train[df_pred_train['rmse']>0]"
   ]
  },
  {
   "cell_type": "code",
   "execution_count": null,
   "metadata": {
    "ExecuteTime": {
     "end_time": "2022-09-26T23:47:39.745447Z",
     "start_time": "2022-09-26T23:47:38.346448Z"
    },
    "scrolled": false
   },
   "outputs": [],
   "source": [
    "df = df_pred_train[df_pred_train['rmse']>0]\n",
    "mdl = df['model'].unique() \n",
    "row = int(len(mdl)/3)+1\n",
    "\n",
    "plt.figure(figsize=(20,10))\n",
    "\n",
    "for i, mdl in enumerate(mdl): \n",
    "    plt.subplot(row, 3, i+1)\n",
    "    df_aux = df[df['model']==mdl][['real','previsto','residuo']]\n",
    "    plt.hist(df_aux['real'], bins=30, label='Real', color='c')\n",
    "    plt.hist(df_aux['previsto'], bins=30, label='Previsto', color='b')\n",
    "    plt.legend();    \n",
    "    plt.title(mdl, fontsize=15)\n",
    "\n",
    "plt.tight_layout(h_pad=2.0);"
   ]
  },
  {
   "cell_type": "code",
   "execution_count": null,
   "metadata": {
    "ExecuteTime": {
     "end_time": "2022-09-16T12:57:57.884465Z",
     "start_time": "2022-09-16T12:57:57.847427Z"
    }
   },
   "outputs": [],
   "source": [
    " 5.85495\n",
    "\n",
    "    5.66228\n",
    "\n"
   ]
  },
  {
   "cell_type": "code",
   "execution_count": null,
   "metadata": {
    "ExecuteTime": {
     "end_time": "2022-09-16T12:58:47.729722Z",
     "start_time": "2022-09-16T12:58:47.689680Z"
    }
   },
   "outputs": [],
   "source": []
  },
  {
   "cell_type": "markdown",
   "metadata": {
    "id": "W05qaBD119f8"
   },
   "source": [
    "## 3.3. Gerar Submission "
   ]
  },
  {
   "cell_type": "code",
   "execution_count": null,
   "metadata": {
    "ExecuteTime": {
     "end_time": "2022-09-10T02:53:30.043973Z",
     "start_time": "2022-09-10T02:53:30.043973Z"
    },
    "id": "pnqjDlBw19f9"
   },
   "outputs": [],
   "source": [
    "X_test_sc   = sc.fit_transform(df2_test)\n",
    "df_submission[target] = np.exp(model.predict(X_test_sc)).reshape(-1, 1)\n",
    "df_submission.to_csv('Data/submission/sub_baseline_01.csv', index=False)"
   ]
  },
  {
   "cell_type": "markdown",
   "metadata": {
    "ExecuteTime": {
     "end_time": "2022-02-01T00:33:06.717281Z",
     "start_time": "2022-02-01T00:33:06.701282Z"
    },
    "id": "6hJLRymG19f-"
   },
   "source": [
    "<div class=\"alert alert-info\" role=\"alert\"> \n",
    "    \n",
    "**`NOTA:`** <br>\n",
    "Na primeira submissão obtivemos um smape de 7.26340. \n",
    "    \n",
    "</div>"
   ]
  },
  {
   "cell_type": "markdown",
   "metadata": {
    "id": "77NPcbdr19gd"
   },
   "source": [
    "# OLHAR\n",
    "- https://www.kaggle.com/hiro5299834/tps-jan-2022-blend-stacking-models\n",
    "- https://goldinlocks.github.io/Time-Series-Cross-Validation/\n",
    "- https://www.kaggle.com/samuelcortinhas/tps-jan-22-quick-eda-hybrid-model/notebook\n",
    "\n",
    "- https://github.com/ledmaster/notebooks_tutoriais/blob/master/live12_timeseries_prophet/nb1.ipynb\n",
    "- https://sigmoidal.ai/series-temporais-time-series-com-python/\n",
    "- https://romanorac.github.io/2020/05/22/data-science-is-fun.html\n",
    "- https://romanorac.github.io/\n",
    "\n",
    "- https://www.kdnuggets.com/2020/04/lstm-time-series-prediction.html\n",
    "- https://public.bitmex.com/?prefix=data/trade/\n",
    "- http://localhost:8888/notebooks/Git/Seiries%20Temporais/LSTM/Untitled.ipynb\n",
    "- https://analyticsindiamag.com/tutorial-on-univariate-single-step-style-lstm-in-time-series-forecasting/\n",
    "\n",
    "- https://www.tensorflow.org/tutorials/structured_data/time_series\n",
    "- https://machinelearningmastery.com/how-to-develop-lstm-models-for-time-series-forecasting/\n",
    "- https://towardsdatascience.com/lstm-framework-for-univariate-time-series-prediction-d9e7252699e\n",
    "- \n",
    "\n"
   ]
  },
  {
   "cell_type": "markdown",
   "metadata": {
    "id": "gFwmitzt19gd"
   },
   "source": [
    "# AULA\n",
    "- https://proeducacional.com/ead/curso-cga-modulo-i/capitulos/capitulo-4/aulas/analise-de-series-temporais/\n",
    "- https://medium.com/data-hackers/series-temporais-parte-1-a0e75a512e72\n"
   ]
  },
  {
   "cell_type": "code",
   "execution_count": null,
   "metadata": {
    "id": "uN7QVcG319gd"
   },
   "outputs": [],
   "source": []
  },
  {
   "cell_type": "code",
   "execution_count": null,
   "metadata": {
    "id": "Fq51ZWFb19gd"
   },
   "outputs": [],
   "source": []
  },
  {
   "cell_type": "code",
   "execution_count": null,
   "metadata": {
    "id": "uYQugDI019ge"
   },
   "outputs": [],
   "source": []
  },
  {
   "cell_type": "code",
   "execution_count": null,
   "metadata": {
    "id": "E6CxfWAd19ge"
   },
   "outputs": [],
   "source": []
  },
  {
   "cell_type": "code",
   "execution_count": null,
   "metadata": {
    "id": "7H-zr43P19ge"
   },
   "outputs": [],
   "source": []
  },
  {
   "cell_type": "code",
   "execution_count": null,
   "metadata": {
    "ExecuteTime": {
     "end_time": "2022-01-26T04:10:27.286991Z",
     "start_time": "2022-01-26T04:10:27.249960Z"
    },
    "code_folding": [
     0
    ],
    "id": "HTVSQFRS19ge",
    "run_control": {
     "marked": false
    }
   },
   "outputs": [],
   "source": [
    "\n"
   ]
  },
  {
   "cell_type": "code",
   "execution_count": null,
   "metadata": {
    "ExecuteTime": {
     "end_time": "2022-01-30T17:18:49.577002Z",
     "start_time": "2022-01-30T17:18:49.577002Z"
    },
    "code_folding": [],
    "id": "v4nVzzSm19ge"
   },
   "outputs": [],
   "source": [
    "def create_features(df, target):\n",
    "\n",
    "    def gpd(df):\n",
    "        df_temp = pd.DataFrame()\n",
    "        for col in df_gdp.columns[1:]: \n",
    "            df_ = df_gdp[['year',col]]\n",
    "            df_.columns = ['year', 'gpd']\n",
    "            df_['country'] = str.replace(col, 'GDP_','')\n",
    "            df_temp = pd.concat([df_temp, df_], axis=0)\n",
    "          \n",
    "        df        = pd.merge(df, df_temp, on=['country', 'year'], how='left') \n",
    "        df['gpd'] = np.log(df['gpd'])\n",
    "        \n",
    "        return df\n",
    "    \n",
    "    df['hour']          = df['date'].dt.hour.astype(int)\n",
    "    df['day_of_week']   = df['date'].dt.dayofweek.astype(int)\n",
    "    df['quarter']       = df['date'].dt.quarter.astype(int)\n",
    "    df['month']         = df['date'].dt.month.astype(int)\n",
    "    df['year']          = df['date'].dt.year.astype(int)\n",
    "    df['day_of_year']   = df['date'].dt.dayofyear.astype(int)\n",
    "    df['day_of_month']  = df['date'].dt.day.astype(int)\n",
    "    df['week_of_year']  = df['date'].dt.isocalendar().week.astype(int)\n",
    "    df['week_of_month'] = df['week_of_year'].values // 4.35\n",
    "    df                  = gpd(df)\n",
    "    \n",
    "    col_dammy = ['country', 'store', 'product']\n",
    "    \n",
    "    df = pd.concat([df, pd.get_dummies(df[col_dammy],  prefix='', prefix_sep='')], axis=1) \n",
    "    \n",
    "    df.drop(col_dammy, axis=1 , inplace=True)\n",
    "    df.drop('date', axis=1 , inplace=True)\n",
    "    \n",
    "    return df"
   ]
  },
  {
   "cell_type": "code",
   "execution_count": null,
   "metadata": {
    "ExecuteTime": {
     "end_time": "2022-01-30T17:18:49.578002Z",
     "start_time": "2022-01-30T17:18:49.578002Z"
    },
    "code_folding": [
     1
    ],
    "id": "aa-42s7w19gf"
   },
   "outputs": [],
   "source": [
    "# Feature engineering\n",
    "def engineer(df):\n",
    "    \"\"\"Return a new dataframe with the engineered features\"\"\"\n",
    "    \n",
    "    def get_gdp(row):\n",
    "        country = 'GDP_' + row.country\n",
    "        return gdp_df.loc[row.date.year, country]\n",
    "        \n",
    "    new_df = pd.DataFrame({#'gdp': np.log(df.apply(get_gdp, axis=1)),\n",
    "                           'wd4': df.date.dt.weekday == 4, # Friday\n",
    "                           'wd56': df.date.dt.weekday >= 5, # Saturday and Sunday\n",
    "                          })\n",
    "\n",
    "    # One-hot encoding (no need to encode the last categories)\n",
    "    for country in ['Finland', 'Norway']:\n",
    "        new_df[country] = df.country == country\n",
    "    new_df['KaggleRama'] = df.store == 'KaggleRama'\n",
    "    for product in ['Kaggle Mug', 'Kaggle Hat']:\n",
    "        new_df[product] = df['product'] == product\n",
    "        \n",
    "    # Seasonal variations (Fourier series)\n",
    "    # The three products have different seasonal patterns\n",
    "    dayofyear = df.date.dt.dayofyear\n",
    "    for k in range(1, 3):\n",
    "        new_df[f'sin{k}'] = np.sin(dayofyear / 365 * 2 * np.math.pi * k)\n",
    "        new_df[f'cos{k}'] = np.cos(dayofyear / 365 * 2 * np.math.pi * k)\n",
    "        new_df[f'mug_sin{k}'] = new_df[f'sin{k}'] * new_df['Kaggle Mug']\n",
    "        new_df[f'mug_cos{k}'] = new_df[f'cos{k}'] * new_df['Kaggle Mug']\n",
    "        new_df[f'hat_sin{k}'] = new_df[f'sin{k}'] * new_df['Kaggle Hat']\n",
    "        new_df[f'hat_cos{k}'] = new_df[f'cos{k}'] * new_df['Kaggle Hat']\n",
    "\n",
    "    return new_df"
   ]
  },
  {
   "cell_type": "code",
   "execution_count": null,
   "metadata": {
    "ExecuteTime": {
     "end_time": "2022-01-30T17:18:49.580007Z",
     "start_time": "2022-01-30T17:18:49.580007Z"
    },
    "code_folding": [
     1
    ],
    "id": "4Rh-e7Hw19gf"
   },
   "outputs": [],
   "source": [
    "# Feature engineering for holidays\n",
    "def engineer_more(df):\n",
    "    \"\"\"Return a new dataframe with more engineered features\"\"\"\n",
    "    new_df = engineer(df)\n",
    "\n",
    "    # End of year\n",
    "    new_df = pd.concat([new_df,\n",
    "                        pd.DataFrame({f\"dec{d}\":\n",
    "                                      (df.date.dt.month == 12) & (df.date.dt.day == d)\n",
    "                                      for d in range(24, 32)}),\n",
    "                        pd.DataFrame({f\"n-dec{d}\":\n",
    "                                      (df.date.dt.month == 12) & (df.date.dt.day == d) & (df.country == 'Norway')\n",
    "                                      for d in range(24, 32)}),\n",
    "                        pd.DataFrame({f\"f-jan{d}\":\n",
    "                                      (df.date.dt.month == 1) & (df.date.dt.day == d) & (df.country == 'Finland')\n",
    "                                      for d in range(1, 14)}),\n",
    "                        pd.DataFrame({f\"jan{d}\":\n",
    "                                      (df.date.dt.month == 1) & (df.date.dt.day == d) & (df.country == 'Norway')\n",
    "                                      for d in range(1, 10)}),\n",
    "                        pd.DataFrame({f\"s-jan{d}\":\n",
    "                                      (df.date.dt.month == 1) & (df.date.dt.day == d) & (df.country == 'Sweden')\n",
    "                                      for d in range(1, 15)})],\n",
    "                       axis=1)\n",
    "    \n",
    "    # May\n",
    "    new_df = pd.concat([new_df,\n",
    "                        pd.DataFrame({f\"may{d}\":\n",
    "                                      (df.date.dt.month == 5) & (df.date.dt.day == d) \n",
    "                                      for d in list(range(1, 10))}), #  + list(range(17, 25))\n",
    "                        pd.DataFrame({f\"may{d}\":\n",
    "                                      (df.date.dt.month == 5) & (df.date.dt.day == d) & (df.country == 'Norway')\n",
    "                                      for d in list(range(19, 26))})],\n",
    "                       axis=1)\n",
    "    \n",
    "    # June and July\n",
    "    new_df = pd.concat([new_df,\n",
    "                        pd.DataFrame({f\"june{d}\":\n",
    "                                      (df.date.dt.month == 6) & (df.date.dt.day == d) & (df.country == 'Sweden')\n",
    "                                      for d in list(range(8, 14))}),\n",
    "                        #pd.DataFrame({f\"june{d}\":\n",
    "                        #              (df.date.dt.month == 6) & (df.date.dt.day == d) & (df.country == 'Norway')\n",
    "                        #              for d in list(range(22, 31))}),\n",
    "                        #pd.DataFrame({f\"july{d}\":\n",
    "                        #              (df.date.dt.month == 7) & (df.date.dt.day == d) & (df.country == 'Norway')\n",
    "                        #              for d in list(range(1, 3))})],\n",
    "                       ],\n",
    "                       axis=1)\n",
    "    \n",
    "    # Last Wednesday of June\n",
    "    wed_june_date = df.date.dt.year.map({2015: pd.Timestamp(('2015-06-24')),\n",
    "                                         2016: pd.Timestamp(('2016-06-29')),\n",
    "                                         2017: pd.Timestamp(('2017-06-28')),\n",
    "                                         2018: pd.Timestamp(('2018-06-27')),\n",
    "                                         2019: pd.Timestamp(('2019-06-26'))})\n",
    "    new_df = pd.concat([new_df,\n",
    "                        pd.DataFrame({f\"wed_june{d}\": \n",
    "                                      (df.date - wed_june_date == np.timedelta64(d, \"D\")) & (df.country != 'Norway')\n",
    "                                      for d in list(range(-4, 6))})],\n",
    "                       axis=1)\n",
    "    \n",
    "    # First Sunday of November\n",
    "    sun_nov_date = df.date.dt.year.map({2015: pd.Timestamp(('2015-11-1')),\n",
    "                                         2016: pd.Timestamp(('2016-11-6')),\n",
    "                                         2017: pd.Timestamp(('2017-11-5')),\n",
    "                                         2018: pd.Timestamp(('2018-11-4')),\n",
    "                                         2019: pd.Timestamp(('2019-11-3'))})\n",
    "    new_df = pd.concat([new_df,\n",
    "                        pd.DataFrame({f\"sun_nov{d}\": \n",
    "                                      (df.date - sun_nov_date == np.timedelta64(d, \"D\")) & (df.country != 'Norway')\n",
    "                                      for d in list(range(0, 9))})],\n",
    "                       axis=1)\n",
    "    \n",
    "    # First half of December (Independence Day of Finland, 6th of December)\n",
    "    new_df = pd.concat([new_df,\n",
    "                        pd.DataFrame({f\"dec{d}\":\n",
    "                                      (df.date.dt.month == 12) & (df.date.dt.day == d) & (df.country == 'Finland')\n",
    "                                      for d in list(range(6, 14))})],\n",
    "                       axis=1)\n",
    "\n",
    "    # Easter\n",
    "    easter_date = df.date.apply(lambda date: pd.Timestamp(easter.easter(date.year)))\n",
    "    new_df = pd.concat([new_df,\n",
    "                        pd.DataFrame({f\"easter{d}\": \n",
    "                                      (df.date - easter_date == np.timedelta64(d, \"D\"))\n",
    "                                      for d in list(range(-2, 11)) + list(range(40, 48)) + list(range(50, 59))})],\n",
    "                       axis=1)\n",
    "    \n",
    "    return new_df.astype(np.float32)\n"
   ]
  },
  {
   "cell_type": "code",
   "execution_count": null,
   "metadata": {
    "ExecuteTime": {
     "end_time": "2022-01-30T17:18:49.582003Z",
     "start_time": "2022-01-30T17:18:49.582003Z"
    },
    "id": "x6PNTzIZ19gg"
   },
   "outputs": [],
   "source": [
    "X_train = create_features(df1_train.copy(), target='num_sold')\n",
    "X_test  = create_features(df1_test.copy(), target='num_sold')\n",
    "X_train.shape , X_test.shape"
   ]
  },
  {
   "cell_type": "code",
   "execution_count": null,
   "metadata": {
    "ExecuteTime": {
     "end_time": "2022-01-30T17:18:49.584000Z",
     "start_time": "2022-01-30T17:18:49.584000Z"
    },
    "id": "mBLboJeH19gg"
   },
   "outputs": [],
   "source": [
    "gdp_df = df_gdp\n",
    "X_train = engineer_more(df1_train.copy())\n",
    "X_test  = engineer_more(df1_test.copy())"
   ]
  },
  {
   "cell_type": "code",
   "execution_count": null,
   "metadata": {
    "ExecuteTime": {
     "end_time": "2022-01-30T17:18:49.586000Z",
     "start_time": "2022-01-30T17:18:49.586000Z"
    },
    "id": "R6n3vVHO19gg"
   },
   "outputs": [],
   "source": [
    "X_train.shape, df1_train.shape"
   ]
  },
  {
   "cell_type": "code",
   "execution_count": null,
   "metadata": {
    "ExecuteTime": {
     "end_time": "2022-01-30T17:18:49.587001Z",
     "start_time": "2022-01-30T17:18:49.587001Z"
    },
    "id": "J36goYen19gg"
   },
   "outputs": [],
   "source": [
    "#from matplotlib.ticker import MaxNLocator, FormatStrFormatter, PercentFormatter\n",
    "#from datetime import datetime, date, timedelta\n",
    "#from sklearn.preprocessing import StandardScaler\n",
    "\n"
   ]
  },
  {
   "cell_type": "code",
   "execution_count": null,
   "metadata": {
    "ExecuteTime": {
     "end_time": "2022-01-30T17:18:49.589000Z",
     "start_time": "2022-01-30T17:18:49.589000Z"
    },
    "code_folding": [
     0
    ],
    "id": "YfFZFXgo19gh"
   },
   "outputs": [],
   "source": [
    "def fit_model(X_tr, X_va=None, outliers=False):\n",
    "    \"\"\"Scale the data, fit a model, plot the training history and validate the model\"\"\"\n",
    "    start_time = datetime.now()\n",
    "\n",
    "    # Preprocess the data\n",
    "    X_tr_f = X_tr[features]\n",
    "    preproc = StandardScaler()\n",
    "    X_tr_f = preproc.fit_transform(X_tr_f)\n",
    "    y_tr = X_tr.num_sold.values.reshape(-1, 1)\n",
    "    \n",
    "    # Train the model\n",
    "    #model = LinearRegression()\n",
    "    #model = HuberRegressor(epsilon=1.20, max_iter=500)\n",
    "    model = Ridge()\n",
    "    model.fit(X_tr_f, np.log(y_tr).ravel())\n",
    "\n",
    "    if X_va is not None:\n",
    "        # Preprocess the validation data\n",
    "        X_va_f = X_va[features]\n",
    "        X_va_f = preproc.transform(X_va_f)\n",
    "        y_va = X_va.num_sold.values.reshape(-1, 1)\n",
    "\n",
    "        # Inference for validation\n",
    "        y_va_pred = np.exp(model.predict(X_va_f)).reshape(-1, 1)\n",
    "        oof.update(pd.Series(y_va_pred.ravel(), index=X_va.index))\n",
    "        \n",
    "        # Evaluation: Execution time and SMAPE\n",
    "        smape_before_correction = np.mean(smape_loss(y_va, y_va_pred))\n",
    "        #y_va_pred *= LOSS_CORRECTION\n",
    "        smape = np.mean(smape_loss(y_va, y_va_pred))\n",
    "        print(f\"Fold {run}.{fold} | {str(datetime.now() - start_time)[-12:-7]}\"\n",
    "              f\" | SMAPE: {smape:.5f}   (before correction: {smape_before_correction:.5f})\")\n",
    "        score_list.append(smape)\n",
    "        \n",
    "        # Plot y_true vs. y_pred\n",
    "        if fold == 0:\n",
    "            plt.figure(figsize=(10, 10))\n",
    "            plt.scatter(y_va, y_va_pred, s=1, color='r')\n",
    "            #plt.scatter(np.log(y_va), np.log(y_va_pred), s=1, color='g')\n",
    "            plt.plot([plt.xlim()[0], plt.xlim()[1]], [plt.xlim()[0], plt.xlim()[1]], '--', color='k')\n",
    "            plt.gca().set_aspect('equal')\n",
    "            plt.xlabel('y_true')\n",
    "            plt.ylabel('y_pred')\n",
    "            plt.title('OOF Predictions')\n",
    "            plt.show()\n",
    "        \n",
    "    return preproc, model\n",
    "\n",
    "features = X_test.columns\n",
    "\n",
    "preproc, model = fit_model(X_train)\n"
   ]
  },
  {
   "cell_type": "code",
   "execution_count": null,
   "metadata": {
    "ExecuteTime": {
     "end_time": "2022-01-30T17:18:49.591001Z",
     "start_time": "2022-01-30T17:18:49.591001Z"
    },
    "id": "kRv83OgQ19gh"
   },
   "outputs": [],
   "source": [
    "for df in [X_train, X_test]:\n",
    "    df[features] = df[features].astype(np.float32)\n",
    "\n",
    "print(list(features))\n"
   ]
  },
  {
   "cell_type": "code",
   "execution_count": null,
   "metadata": {
    "ExecuteTime": {
     "end_time": "2022-01-30T17:18:49.593015Z",
     "start_time": "2022-01-30T17:18:49.593015Z"
    },
    "code_folding": [],
    "id": "8IMbIyj719gh",
    "run_control": {
     "marked": false
    }
   },
   "outputs": [],
   "source": [
    "def fit_model(X_tr, X_va=None, outliers=False):\n",
    "    \n",
    "    \"\"\"Scale the data, fit a model, plot the training history and validate the model\"\"\"\n",
    "    start_time = datetime.now()\n",
    "\n",
    "    # Preprocess the data\n",
    "    X_tr_f = X_tr[features]\n",
    "    preproc = StandardScaler()\n",
    "    X_tr_f = preproc.fit_transform(X_tr_f)\n",
    "    y_tr = X_tr.num_sold.values.reshape(-1, 1)\n",
    "    \n",
    "    # Train the model\n",
    "    #model = LinearRegression()\n",
    "    #model = HuberRegressor(epsilon=1.20, max_iter=500)\n",
    "    model = Ridge()\n",
    "    model.fit(X_tr_f, np.log(y_tr).ravel())\n",
    "\n",
    "    if X_va is not None:\n",
    "        # Preprocess the validation data\n",
    "        X_va_f = X_va[features]\n",
    "        X_va_f = preproc.transform(X_va_f)\n",
    "        y_va = X_va.num_sold.values.reshape(-1, 1)\n",
    "\n",
    "        # Inference for validation\n",
    "        y_va_pred = np.exp(model.predict(X_va_f)).reshape(-1, 1)\n",
    "        oof.update(pd.Series(y_va_pred.ravel(), index=X_va.index))\n",
    "        \n",
    "        # Evaluation: Execution time and SMAPE\n",
    "        smape_before_correction = np.mean(smape_loss(y_va, y_va_pred))\n",
    "        #y_va_pred *= LOSS_CORRECTION\n",
    "        smape = np.mean(smape_loss(y_va, y_va_pred))\n",
    "        print(f\"Fold {run}.{fold} | {str(datetime.now() - start_time)[-12:-7]}\"\n",
    "              f\" | SMAPE: {smape:.5f}   (before correction: {smape_before_correction:.5f})\")\n",
    "        score_list.append(smape)\n",
    "        \n",
    "        # Plot y_true vs. y_pred\n",
    "        if fold == 0:\n",
    "            plt.figure(figsize=(10, 10))\n",
    "            plt.scatter(y_va, y_va_pred, s=1, color='r')\n",
    "            #plt.scatter(np.log(y_va), np.log(y_va_pred), s=1, color='g')\n",
    "            plt.plot([plt.xlim()[0], plt.xlim()[1]], [plt.xlim()[0], plt.xlim()[1]], '--', color='k')\n",
    "            plt.gca().set_aspect('equal')\n",
    "            plt.xlabel('y_true')\n",
    "            plt.ylabel('y_pred')\n",
    "            plt.title('OOF Predictions')\n",
    "            plt.show()\n",
    "        \n",
    "    return preproc, model\n",
    "\n",
    "preproc, model = fit_model(X_train)\n"
   ]
  },
  {
   "cell_type": "code",
   "execution_count": null,
   "metadata": {
    "ExecuteTime": {
     "end_time": "2022-01-30T17:18:49.594001Z",
     "start_time": "2022-01-30T17:18:49.594001Z"
    },
    "id": "6qIFH4Z819gi"
   },
   "outputs": [],
   "source": [
    "score_list"
   ]
  },
  {
   "cell_type": "code",
   "execution_count": null,
   "metadata": {
    "ExecuteTime": {
     "end_time": "2022-01-30T17:18:49.596002Z",
     "start_time": "2022-01-30T17:18:49.596002Z"
    },
    "id": "8rtW3Yog19gi"
   },
   "outputs": [],
   "source": [
    "#%%time\n",
    "# deve ser 1. aumente o número de execuções apenas se quiser ver como o resultado depende da semente aleatória\n",
    "RUNS            = 1 \n",
    "OUTLIERS        = True\n",
    "TRAIN_VAL_CUT   = datetime(2018, 1, 1)\n",
    "LOSS_CORRECTION = 1\n",
    "\n",
    "# Make the results reproducible\n",
    "np.random.seed(202100)\n",
    "\n",
    "total_start_time = datetime.now()\n",
    "oof              = pd.Series(0.0, index=X_train.index)\n",
    "score_list       = []\n",
    "\n",
    "for run in range(RUNS):\n",
    "    \n",
    "    kf = GroupKFold(n_splits=4)\n",
    "    \n",
    "    for fold, (train_idx, val_idx) in enumerate(kf.split(X_train, groups=X_train.year)):\n",
    "        \n",
    "        X_tr = X_train.iloc[train_idx]\n",
    "        X_va = X_train.iloc[val_idx]\n",
    "        \n",
    "       # print(f\"Fold {run}.{fold}\")\n",
    "        preproc, model = fit_model(X_tr, X_va)\n",
    "\n",
    "print(f\"Average SMAPE: {sum(score_list) / len(score_list):.5f}\")\n",
    "#with open('oof.pickle', 'wb') as handle: pickle.dump(oof, handle)\n",
    "    "
   ]
  },
  {
   "cell_type": "code",
   "execution_count": null,
   "metadata": {
    "ExecuteTime": {
     "end_time": "2022-01-30T17:18:49.598002Z",
     "start_time": "2022-01-30T17:18:49.598002Z"
    },
    "code_folding": [],
    "id": "JlDXrvP419gj",
    "run_control": {
     "marked": false
    }
   },
   "outputs": [],
   "source": [
    "# \n",
    "lin_slope_df = df1_train.groupby(['country','store','product'])['num_sold'].apply(linear_fit_slope).reset_index()\n",
    "lin_slope_df.columns = ['country','store','product', 'lin_slope']\n",
    "df = df1_train.reset_index().merge(lin_slope_df, how='left', on=['country','store','product']).set_index('date')\n",
    "\n",
    "df"
   ]
  },
  {
   "cell_type": "code",
   "execution_count": null,
   "metadata": {
    "ExecuteTime": {
     "end_time": "2022-01-30T17:18:49.599001Z",
     "start_time": "2022-01-30T17:18:49.599001Z"
    },
    "id": "wrdtvnp019gj"
   },
   "outputs": [],
   "source": [
    "df_submission"
   ]
  },
  {
   "cell_type": "code",
   "execution_count": null,
   "metadata": {
    "id": "948Boqvr19gj"
   },
   "outputs": [],
   "source": []
  },
  {
   "cell_type": "code",
   "execution_count": null,
   "metadata": {
    "ExecuteTime": {
     "end_time": "2022-01-30T17:18:49.601002Z",
     "start_time": "2022-01-30T17:18:49.601002Z"
    },
    "id": "cAUPvUCz19gj"
   },
   "outputs": [],
   "source": [
    "plt.figure(figsize=(20,12));\n",
    "\n",
    "for i, store in enumerate(df1_train['store'].unique()):\n",
    "    \n",
    "    for c, product in enumerate(df1_train['product'].unique()):\n",
    "        \n",
    "        filtro = (df1_train['store']==store) & (df1_train['product']==product)\n",
    "        df_aux = df1_train[filtro][['year', 'month', 'date', 'num_sold']]\n",
    "        df_aux = df_aux.groupby (['year', 'month']).agg({'date': 'min', 'num_sold': 'sum', })\n",
    "\n",
    "        plt.subplot(2,1,i+1)\n",
    "        plt.plot(df_aux.date, df_aux.num_sold, label=product)\n",
    "        #plt.xlabel('data', fontsize = 15)\n",
    "        plt.ylabel('num_sold',fontsize = 15)\n",
    "        plt.title(store, fontsize=20)\n",
    "        plt.legend(loc='best')"
   ]
  },
  {
   "cell_type": "markdown",
   "metadata": {
    "id": "vc7_-yn019gk"
   },
   "source": [
    "# Média Móvel\n",
    "Um algoritmo clássico para este tipo de problema é o da Média Móvel. Ele consiste em utilizar a média de m dias observados para prever o próximo dia. Vamos utilizar esta técnica na empresa A para um m de 10 e de 20 dias."
   ]
  },
  {
   "cell_type": "code",
   "execution_count": null,
   "metadata": {
    "ExecuteTime": {
     "end_time": "2022-01-30T17:18:49.602002Z",
     "start_time": "2022-01-30T17:18:49.602002Z"
    },
    "id": "yb8gN1J819gk",
    "run_control": {
     "marked": false
    }
   },
   "outputs": [],
   "source": [
    "filtro = (df1_train['store']==store) & (df1_train['product']==product) & \\\n",
    "         (df1_train['date']<'2016-02-01')\n",
    "\n",
    "df_aux = df1_train[filtro][[ 'date', 'num_sold']]\n",
    "df_aux = df_aux.groupby (['date']).agg({'date': 'min', 'num_sold': 'sum', })\n"
   ]
  },
  {
   "cell_type": "code",
   "execution_count": null,
   "metadata": {
    "ExecuteTime": {
     "end_time": "2022-01-30T17:18:49.603001Z",
     "start_time": "2022-01-30T17:18:49.603001Z"
    },
    "id": "sD22mqw_19gk"
   },
   "outputs": [],
   "source": [
    "df_aux['ma_num_sold_10'] = df_aux['num_sold'].rolling(1).mean().shift()\n",
    "df_aux['ma_num_sold_20'] = df_aux['num_sold'].rolling(3).mean().shift()\n",
    "\n",
    "plt.figure(figsize=(20,5))\n",
    "plt.plot(df_aux.date, df_aux.num_sold, label=product)\n",
    "plt.plot(df_aux.date, df_aux.ma_num_sold_10, label='1')\n",
    "plt.plot(df_aux.date, df_aux.ma_num_sold_20, label='3');\n",
    "plt.legend(loc='best');"
   ]
  },
  {
   "cell_type": "code",
   "execution_count": null,
   "metadata": {
    "ExecuteTime": {
     "end_time": "2022-01-30T17:18:49.605001Z",
     "start_time": "2022-01-30T17:18:49.605001Z"
    },
    "id": "kuIZ3hWe19gk"
   },
   "outputs": [],
   "source": [
    "df1_train"
   ]
  },
  {
   "cell_type": "code",
   "execution_count": null,
   "metadata": {
    "ExecuteTime": {
     "end_time": "2022-01-30T17:18:49.607002Z",
     "start_time": "2022-01-30T17:18:49.607002Z"
    },
    "id": "IS7fhczf19gl"
   },
   "outputs": [],
   "source": [
    "from statsmodels.tsa.seasonal import seasonal_decompose"
   ]
  },
  {
   "cell_type": "code",
   "execution_count": null,
   "metadata": {
    "ExecuteTime": {
     "end_time": "2022-01-30T17:18:49.608002Z",
     "start_time": "2022-01-30T17:18:49.608002Z"
    },
    "id": "0Gwx9HfY19gl"
   },
   "outputs": [],
   "source": [
    "result = seasonal_decompose(df_aux)\n",
    "# plotar os 4 gr</em>áficos\n",
    "fig, (ax1,ax2,ax3, ax4) = plt.subplots(4,1, figsize=(12,8))\n",
    "result.observed.plot(ax=ax1)\n",
    "result.trend.plot(ax=ax2)\n",
    "result.seasonal.plot(ax=ax3)\n",
    "result.resid.plot(ax=ax4)\n",
    "plt.tight_layout()\n",
    "\n",
    "\n",
    "https://www.kaggle.com/c/store-sales-time-series-forecasting/overview\n",
    "https://www.kaggle.com/karan842/store-sales-forecasting-eda-lstm\n",
    "https://www.kaggle.com/andrej0marinchenko/hyperparamaters\n",
    "    \n",
    "# https://www.vooo.pro/insights/guia-completo-para-criar-time-series-com-codigo-em-python/\n",
    "# https://acervolima.com/como-fazer-um-grafico-de-serie-temporal-com-media-movel-em-python/\n",
    "# https://sigmoidal.ai/series-temporais-time-series-com-python/\n",
    "# https://www.letscode.com.br/blog/python-para-financas-analise-de-series-temporais\n",
    "# https://www.delftstack.com/pt/howto/matplotlib/matplotlib-plot-time-series/\n",
    "# https://www.alura.com.br/conteudo/customizacao-matplot"
   ]
  },
  {
   "cell_type": "code",
   "execution_count": null,
   "metadata": {
    "ExecuteTime": {
     "end_time": "2022-01-30T17:18:49.609001Z",
     "start_time": "2022-01-30T17:18:49.609001Z"
    },
    "id": "-VCwfVjT19gl"
   },
   "outputs": [],
   "source": [
    "df_aux"
   ]
  },
  {
   "cell_type": "code",
   "execution_count": null,
   "metadata": {
    "ExecuteTime": {
     "end_time": "2022-01-30T17:18:49.611002Z",
     "start_time": "2022-01-30T17:18:49.611002Z"
    },
    "id": "7xo26PVx19gl"
   },
   "outputs": [],
   "source": [
    "le = LabelEncoder()\n",
    "cat_cols = ['country','store','product','type','Name']\n",
    "\n",
    "for c in cat_cols:\n",
    "    df[c] = le.fit_transform(df[c])"
   ]
  },
  {
   "cell_type": "markdown",
   "metadata": {
    "id": "hGXn1sXU3EDd"
   },
   "source": [
    "# <div class=\"alert alert-success\"> 3. Modelagem (baseline) </div> "
   ]
  },
  {
   "cell_type": "markdown",
   "metadata": {
    "id": "EIKN30d83EDd"
   },
   "source": []
  },
  {
   "cell_type": "code",
   "execution_count": null,
   "metadata": {
    "ExecuteTime": {
     "end_time": "2022-01-31T01:36:24.624578Z",
     "start_time": "2022-01-31T01:36:24.604580Z"
    },
    "id": "ihF03lwG19hC",
    "outputId": "aebfdf28-bb32-4be9-feb5-dc043d324eed"
   },
   "outputs": [],
   "source": [
    "import numpy as np\n",
    "from sklearn.model_selection import TimeSeriesSplit\n",
    "X = np.array([[1, 2], [3, 4], [1, 2], [3, 4], [1, 2], [3, 4]])\n",
    "y = np.array([1, 2, 3, 4, 5, 6])\n",
    "tscv = TimeSeriesSplit()\n",
    "print(tscv)"
   ]
  },
  {
   "cell_type": "code",
   "execution_count": null,
   "metadata": {
    "ExecuteTime": {
     "end_time": "2022-01-31T01:36:37.270806Z",
     "start_time": "2022-01-31T01:36:36.972968Z"
    },
    "id": "XV48D0x119hD",
    "outputId": "e13c98c1-6140-49ef-e6fa-034d20319142"
   },
   "outputs": [],
   "source": [
    "for train_index, test_index in tscv.split(X):\n",
    "...     print(\"TRAIN:\", train_index, \"TEST:\", test_index)\n",
    "...     X_train, X_test = X[train_index], X[test_index]\n",
    "...     y_train, y_test = y[train_index], y[test_index]"
   ]
  },
  {
   "cell_type": "code",
   "execution_count": null,
   "metadata": {
    "ExecuteTime": {
     "end_time": "2022-01-31T02:17:53.215608Z",
     "start_time": "2022-01-31T02:17:53.193647Z"
    },
    "id": "wDTjKfaP19hD",
    "outputId": "442d400a-a06f-484f-8a6a-99d86d0de574"
   },
   "outputs": [],
   "source": [
    "df1_train"
   ]
  },
  {
   "cell_type": "code",
   "execution_count": null,
   "metadata": {
    "ExecuteTime": {
     "end_time": "2022-01-31T02:26:14.894114Z",
     "start_time": "2022-01-31T02:26:14.874077Z"
    },
    "id": "mJuQorjM19hD",
    "outputId": "c4b109a2-d836-4a0f-bac5-4d382d6aed68"
   },
   "outputs": [],
   "source": [
    "df2_train.year.unique()"
   ]
  },
  {
   "cell_type": "code",
   "execution_count": null,
   "metadata": {
    "ExecuteTime": {
     "end_time": "2022-01-31T02:29:27.797667Z",
     "start_time": "2022-01-31T02:29:27.792630Z"
    },
    "id": "cTrJvvvN19hD",
    "outputId": "4185508d-e4af-4c8b-ac12-9020d4a14211"
   },
   "outputs": [],
   "source": [
    "4 * 12"
   ]
  },
  {
   "cell_type": "code",
   "execution_count": null,
   "metadata": {
    "ExecuteTime": {
     "end_time": "2022-01-31T02:29:33.688054Z",
     "start_time": "2022-01-31T02:29:33.530056Z"
    },
    "id": "JMUhgsxC19hD",
    "outputId": "8cf8fe0a-88d2-4dd4-e46c-06b650f206ab",
    "scrolled": false
   },
   "outputs": [],
   "source": [
    "X      = df1_train.drop([target], axis=1)\n",
    "y      = df1_train[target].astype(int)\n",
    "\n",
    "kf_ts = TimeSeriesSplit(n_splits       = 36,\n",
    "                        gap            = 12,\n",
    "                        #max_train_size = 10000,\n",
    "                       # test_size      = 1461\n",
    "                       )\n",
    "    \n",
    "#kf_ts = TimeSeriesSplit()\n",
    "\n",
    "for fold, (idx_tr, idx_vl) in enumerate(kf_ts.split(X)):\n",
    "    \n",
    "    tr, vl = X.iloc[idx_tr], X.iloc[idx_vl]  \n",
    "    \n",
    "    date_stat_tr = tr['date'].min()\n",
    "    date_end_tr  = tr['date'].max()\n",
    "    date_stat_vl = vl['date'].min()\n",
    "    date_end_vl  = vl['date'].max()\n",
    "      \n",
    "    print('='*20)\n",
    "    print('Fold: {}'.format(fold+1))\n",
    "    print('='*20)\n",
    "    print('Train')\n",
    "    print('Date start: {:%d-%m-%Y}'.format(date_stat_tr))\n",
    "    print('Date end  : {:%d-%m-%Y}'.format(date_end_tr))\n",
    "    print()\n",
    "    \n",
    "    print('Valid')\n",
    "    print('Date start: {:%d-%m-%Y}'.format(date_stat_vl))\n",
    "    print('Date end  : {:%d-%m-%Y}'.format(date_end_vl))\n",
    "    print()\n",
    "    "
   ]
  },
  {
   "cell_type": "code",
   "execution_count": null,
   "metadata": {
    "ExecuteTime": {
     "end_time": "2022-01-30T17:18:49.616002Z",
     "start_time": "2022-01-30T17:18:49.616002Z"
    },
    "id": "1jbN8G7Uf3gJ"
   },
   "outputs": [],
   "source": [
    "df1_train[target].value_counts()"
   ]
  },
  {
   "cell_type": "code",
   "execution_count": null,
   "metadata": {
    "ExecuteTime": {
     "end_time": "2022-01-30T17:18:49.617002Z",
     "start_time": "2022-01-30T17:18:49.617002Z"
    },
    "id": "Azs0tlc6dCNy"
   },
   "outputs": [],
   "source": [
    "df1_train.drop(df1_train[df1_train[target]==5].index, inplace=True)"
   ]
  },
  {
   "cell_type": "code",
   "execution_count": null,
   "metadata": {
    "ExecuteTime": {
     "end_time": "2022-01-30T17:18:49.619002Z",
     "start_time": "2022-01-30T17:18:49.619002Z"
    },
    "id": "cUhounlm83eU"
   },
   "outputs": [],
   "source": [
    "%%time\n",
    "\n",
    "X      = df1_train.drop([target], axis=1)\n",
    "y      = df1_train[target].astype(int)\n",
    "X_test = df1_test\n",
    "\n",
    "X_train, X_valid, y_train, y_valid = train_test_split(X, y, \n",
    "                                                      test_size    = 0.3,\n",
    "                                                      shuffle      = True, \n",
    "                                                      stratify     = y, \n",
    "                                                      random_state = 12359)\n",
    "\n",
    "#del df1_train,df1_test\n",
    "\n",
    "X_train.shape, y_train.shape, X_valid.shape, y_valid.shape , X_test.shape"
   ]
  },
  {
   "cell_type": "markdown",
   "metadata": {
    "id": "7rXW-J5R3EDd"
   },
   "source": [
    "## 3.2. Seleção de Scaler"
   ]
  },
  {
   "cell_type": "code",
   "execution_count": null,
   "metadata": {
    "ExecuteTime": {
     "end_time": "2022-01-31T02:16:09.364913Z",
     "start_time": "2022-01-31T02:16:09.068951Z"
    },
    "colab": {
     "base_uri": "https://localhost:8080/"
    },
    "executionInfo": {
     "elapsed": 38348,
     "status": "ok",
     "timestamp": 1639103200689,
     "user": {
      "displayName": "Rogério Delfim",
      "photoUrl": "https://lh3.googleusercontent.com/a-/AOh14Gj8lDYWTfZHU0U0sMojRPio71Ec7YDcSEpCaOEE=s64",
      "userId": "04235763959036945343"
     },
     "user_tz": 180
    },
    "id": "KFMl9LWK3EDe",
    "outputId": "6abc3486-8e3e-4d00-8843-0f3a2694c690"
   },
   "outputs": [],
   "source": [
    "%%time \n",
    "\n",
    "model_baseline = xgb.XGBClassifier(**params)\n",
    "\n",
    "scalers = [None, \n",
    "           StandardScaler(), \n",
    "           RobustScaler(), \n",
    "           MinMaxScaler(), \n",
    "           MaxAbsScaler(), \n",
    "           QuantileTransformer(output_distribution='normal', random_state=0)\n",
    "           ]\n",
    "\n",
    "for scaler in scalers: \n",
    "    \n",
    "    if scaler!=None:\n",
    "        X_train_s = scaler.fit_transform(X_train)\n",
    "        X_valid_s = scaler.fit_transform(X_valid)\n",
    "    else:\n",
    "        X_train_s = X_train\n",
    "        X_valid_s = X_valid\n",
    "                \n",
    "    model_baseline.fit(X_train_s, y_train, verbose=False)\n",
    "\n",
    "    y_pred = model_baseline.predict(X_valid_s)  \n",
    "    acc    = metrics.accuracy_score(y_valid, y_pred)    \n",
    "        \n",
    "    print('Validaçao ACC: {:2.5f} => {}'.format(acc, scaler))\n",
    "\n",
    "    free_gpu_cache()\n",
    "\n",
    "print()"
   ]
  },
  {
   "cell_type": "markdown",
   "metadata": {
    "id": "xxRnZCNk3EDe"
   },
   "source": [
    "<div class=\"alert alert-info\" role=\"alert\"> \n",
    " \n",
    "**`NOTA:`** <br>\n",
    "    \n",
    "Com scaler  RobustScaler obtivemos uma ACC de 0.92970, como estamos fazer apenas uma validação simples, neste caso a pontuação do score pode ser afetada por aleatoriedade dos dados, sendo assim, vamos fazer uma validação cruzada para termos uma estimativa robusta.  <br>\n",
    "    \n",
    "</div>"
   ]
  },
  {
   "cell_type": "code",
   "execution_count": null,
   "metadata": {
    "ExecuteTime": {
     "end_time": "2022-01-30T17:18:49.621003Z",
     "start_time": "2022-01-30T17:18:49.621003Z"
    },
    "code_folding": [
     0
    ],
    "id": "N7kMcHrWtXtu"
   },
   "outputs": [],
   "source": [
    "def cross_val_model(model_, model_name_, X_, y_, X_test_, target_, scalers_, fold_=5, path_='', \n",
    "                    seed_=12359, feature_scaler_=None, print_report_=False):\n",
    "    \n",
    "    n_estimators = model_.get_params()['n_estimators']\n",
    "         \n",
    "    \n",
    "    valid_preds  = {}\n",
    "    taco         = 76 \n",
    "    acc_best     = 0\n",
    "    col_prob     = y_.unique()    \n",
    "    df_proba     = pd.DataFrame()\n",
    "    test_preds   = []\n",
    "    test_pred_proba = np.zeros((1, 1))\n",
    "\n",
    "    for scaler_ in scalers_: \n",
    "\n",
    "        time_start   = datetime.now()\n",
    "        score        = []\n",
    "        \n",
    "                \n",
    "        if scaler_!=None:\n",
    "            string_scaler = str(scaler_)        \n",
    "            string_scaler = string_scaler[:string_scaler.index('(')]\n",
    "            if feature_scaler_!=None:\n",
    "                X_tst = X_test_.copy()\n",
    "                X_tst[feature_scaler_] = scaler_.fit_transform(X_tst[feature_scaler_].copy())\n",
    "            else: \n",
    "                X_tst = scaler_.fit_transform(X_test_.copy())\n",
    "        else:\n",
    "            string_scaler = None \n",
    "            X_tst = X_test_.copy()\n",
    "            \n",
    "        y_pred_test = np.zeros(len(X_test_))\n",
    "\n",
    "        folds = KFold(n_splits=fold_, shuffle=True, random_state=seed_)\n",
    "        folds = StratifiedKFold(n_splits=fold_, shuffle=True, random_state=seed_)\n",
    "        #folds = StratifiedShuffleSplit(n_splits=fold_, test_size=0.5, random_state=seed_)\n",
    "                \n",
    "        print('='*taco)\n",
    "        print('Scaler: {} - n_estimators: {}'.format(string_scaler, n_estimators))\n",
    "        print('='*taco)\n",
    "\n",
    "        for fold, (trn_idx, val_idx) in enumerate(folds.split(X_, y_, groups=y_)): \n",
    "\n",
    "            time_fold_start = datetime.now()\n",
    "\n",
    "            # ---------------------------------------------------- \n",
    "            # Separar dados para treino \n",
    "            # ----------------------------------------------------     \n",
    "            X_trn, X_val = X_.iloc[trn_idx], X_.iloc[val_idx]\n",
    "            y_trn, y_val = y_.iloc[trn_idx], y_.iloc[val_idx] \n",
    "            \n",
    "            # ---------------------------------------------------- \n",
    "            # Processamento \n",
    "            # ----------------------------------------------------     \n",
    "            if scaler_!=None: \n",
    "                if feature_scaler_!=None: \n",
    "                    X_trn[feature_scaler_] = scaler_.fit_transform(X_trn[feature_scaler_])\n",
    "                    X_val[feature_scaler_] = scaler_.fit_transform(X_val[feature_scaler_])  \n",
    "                else:            \n",
    "                    X_trn = scaler_.fit_transform(X_trn)\n",
    "                    X_val = scaler_.fit_transform(X_val)\n",
    "            \n",
    "            # ---------------------------------------------------- \n",
    "            # Treinar o modelo \n",
    "            # ----------------------------------------------------            \n",
    "            model_.fit(X_trn, y_trn,\n",
    "                       eval_set              = [(X_trn, y_trn), (X_val, y_val)],          \n",
    "                       early_stopping_rounds = int(n_estimators*.1),\n",
    "                       verbose               = False)\n",
    "            \n",
    "            # ---------------------------------------------------- \n",
    "            # Predição \n",
    "            # ----------------------------------------------------     \n",
    "            y_pred_val      = model_.predict(X_val, ntree_limit=model_.best_ntree_limit)    \n",
    "            y_pred_val_prob = model_.predict_proba(X_val, ntree_limit=model_.best_ntree_limit)    \n",
    "            y_pred_test    += model_.predict(X_tst) / folds.n_splits\n",
    "\n",
    "            test_preds.append(model_.predict(X_tst))\n",
    "            \n",
    "            df_prob_temp    = pd.DataFrame(y_pred_val_prob, columns=col_prob)\n",
    "            y_pred_pbro_max = df_prob_temp.max(axis=1)\n",
    "\n",
    "            df_prob_temp['fold']    = fold+1\n",
    "            df_prob_temp['id']      = val_idx\n",
    "            df_prob_temp['y_val']   = y_val.values\n",
    "            df_prob_temp['y_pred']  = y_pred_val            \n",
    "            df_prob_temp['y_proba'] = np.max(y_pred_val_prob, axis=1)\n",
    "            df_prob_temp['scaler']  = str(string_scaler)\n",
    "                        \n",
    "            # ---------------------------------------------------- \n",
    "            # Score \n",
    "            # ---------------------------------------------------- \n",
    "            acc   = metrics.accuracy_score(y_val, y_pred_val)\n",
    "            f1    = metrics.f1_score(y_val, y_pred_val, average='weighted')\n",
    "            prec  = metrics.precision_score(y_val, y_pred_val, average='macro')\n",
    "            \n",
    "            score.append(acc)            \n",
    "\n",
    "            # ---------------------------------------------------- \n",
    "            # Print resultado  \n",
    "            # ---------------------------------------------------- \n",
    "            time_fold_end = diff(time_fold_start, datetime.now())\n",
    "            msg = '[Fold {}] ACC: {:2.5f} - F1-macro: {:2.5f} - Precision: {:2.5f}  - {}'\n",
    "            print(msg.format(fold+1, acc, f1, prec, time_fold_end))\n",
    "\n",
    "        acc_mean = np.mean(score) \n",
    "        acc_std  = np.std(score)\n",
    "\n",
    "        if acc_mean > acc_best:     \n",
    "            acc_best    = acc_mean           \n",
    "            model_best  = model_    \n",
    "            scaler_best = scaler_\n",
    "\n",
    "        time_end = diff(time_start, datetime.now())   \n",
    "\n",
    "        print('-'*taco)\n",
    "        print('[Mean Fold] ACC: {:2.5f} std: {:2.5f} - {}'.format(acc_mean, acc_std, time_end))\n",
    "        print('='*taco)\n",
    "        print()\n",
    "\n",
    "        df_submission[target_] = y_pred_test.astype('int')\n",
    "        name_file_sub = 'Data/submission/' + model_name_ + '_' + str(scaler_).lower()[:4] + '.csv'\n",
    "        df_submission.to_csv(path_ + name_file_sub.format(acc_mean), index = False)\n",
    "\n",
    "        if print_report_:\n",
    "            y_pred = df_prob_temp[df_prob_temp['scaler']==str(string_scaler)]['y_pred']\n",
    "            y_vl   = df_prob_temp[df_prob_temp['scaler']==str(string_scaler)]['y_val']\n",
    "            print(metrics.classification_report(y_vl,y_pred))\n",
    "\n",
    "    print('-'*taco)\n",
    "    print('Scaler Best: {}'.format(scaler_best))\n",
    "    print('Score      : {:2.5f}'.format(acc_best))\n",
    "    print('-'*taco)\n",
    "    print()\n",
    "\n",
    "    return model_ , df_prob_temp.sort_values(by=['scaler','id'])"
   ]
  },
  {
   "cell_type": "code",
   "execution_count": null,
   "metadata": {
    "ExecuteTime": {
     "end_time": "2022-01-30T17:18:49.622999Z",
     "start_time": "2022-01-30T17:18:49.622999Z"
    },
    "id": "mBbCuCddkzeQ"
   },
   "outputs": [],
   "source": [
    "from imblearn.over_sampling import RandomOverSampler\n",
    "from imblearn.under_sampling import RandomUnderSampler\n",
    "sampling_strategy =  {1: 1468136, \n",
    "                      2: 2262087, \n",
    "                      3: 195712, \n",
    "                      4: 377    + 10000, \n",
    "                      6: 11426  + 7000, \n",
    "                      7: 62261  + 10000\n",
    "                      \n",
    "                      }\n",
    "\n",
    "oversample = RandomOverSampler(sampling_strategy=sampling_strategy,  random_state=12359)\n",
    "\n",
    "X_over, y_over = oversample.fit_resample(X, y)\n",
    "\n",
    "# 1\t1468136\t0,38565\n",
    "# 2\t2262087\t0,51259\n",
    "# 3\t 195712\t0,07817\n",
    "\n",
    "y_over.value_counts()"
   ]
  },
  {
   "cell_type": "code",
   "execution_count": null,
   "metadata": {
    "ExecuteTime": {
     "end_time": "2022-01-30T17:18:49.625002Z",
     "start_time": "2022-01-30T17:18:49.625002Z"
    },
    "id": "K4ZmbBh71V3N"
   },
   "outputs": [],
   "source": [
    "%%time \n",
    "scalers = [None,\n",
    "           StandardScaler(), \n",
    "           RobustScaler(), \n",
    "           MinMaxScaler(), \n",
    "           MaxAbsScaler(), \n",
    "           QuantileTransformer(output_distribution='normal', random_state=0)\n",
    "          ] \n",
    "\n",
    "seed     = 12359\n",
    "y_unique = y.unique()\n",
    "\n",
    "sample_weights = compute_sample_weight(class_weight='balanced', y=y)\n",
    "                 \n",
    "eval_metric = ['mlogloss','merror']\n",
    "        \n",
    "params = {\"objective\"        : 'multi:softmax', # multi:softprob', #,    \n",
    "          'eval_metric'      : eval_metric, \n",
    "          'learning_rate'    : 0.4,  \n",
    "          'sample_weight'    : sample_weights, \n",
    "          'num_class'        : len(y.unique()),\n",
    "          'random_state'     : seed, \n",
    "          'n_jobs'           : -1}\n",
    "\n",
    "if torch.cuda.is_available():           \n",
    "    params.update({'tree_method' : 'gpu_hist',                    \n",
    "                   'predictor'   : 'gpu_predictor'})\n",
    "\n",
    "model, df_proba = cross_val_model(model_         = xgb.XGBClassifier(**params),\n",
    "                                  model_name_    = 'xgb_baseline_score_{:2.5f}',\n",
    "                                  X_             = X,\n",
    "                                  y_             = y,\n",
    "                                  X_test_        = X_test,\n",
    "                                  target_        = target,\n",
    "                                  scalers_       = scalers,\n",
    "                                  fold_          = 5, \n",
    "                                  path_          = path,\n",
    "                                  seed_          = seed, \n",
    "                                  feature_scaler_= feature_float_test, \n",
    "                                  print_report_  = True\n",
    "                                  )\n",
    "\n",
    "#graf_eval()\n",
    "print()"
   ]
  },
  {
   "cell_type": "code",
   "execution_count": null,
   "metadata": {
    "ExecuteTime": {
     "end_time": "2022-01-30T17:18:49.627001Z",
     "start_time": "2022-01-30T17:18:49.627001Z"
    },
    "id": "O9Mlgzn4ugJs"
   },
   "outputs": [],
   "source": [
    "from xgboost import plot_importance\n",
    "fig, ax = plt.subplots(1,1,figsize=(20,12))\n",
    "plot_importance(model,ax=ax, xlabel=None)\n",
    "plt.show()"
   ]
  },
  {
   "cell_type": "markdown",
   "metadata": {
    "id": "TSkoZ0bh3EDe"
   },
   "source": [
    "<div class=\"alert alert-info\" role=\"alert\"> \n",
    " \n",
    "**`CONCLUSÃO:`** <br>\n",
    "    \n",
    "1. Verificar os valores negativos identificados na análise descritiva dos dados; \n",
    "2. Transformação das variáveis `Wilderness_Area` em dammy;\n",
    "3. Tratamento de outliers; \n",
    "4. Exclusão das variáveis `Soil_Type_7` e `Soil_Type_15` sem informações para modelagem. \n",
    "    \n",
    "    \n",
    "</div>"
   ]
  },
  {
   "cell_type": "code",
   "execution_count": null,
   "metadata": {
    "id": "cqMtrXbN19hG"
   },
   "outputs": [],
   "source": []
  },
  {
   "cell_type": "code",
   "execution_count": null,
   "metadata": {
    "id": "dyAslzkq19hG"
   },
   "outputs": [],
   "source": []
  },
  {
   "cell_type": "markdown",
   "metadata": {
    "id": "AwNqm-eo19hG"
   },
   "source": [
    "- https://www.kaggle.com/yamqwe/purged-time-series-cv-xgboost-gpu-optuna\n",
    "- https://www.kaggle.com/pathanamjadkhan/eda-hyperparameters-xgboost-92\n",
    "- https://www.kaggle.com/yamqwe/tutorial-let-s-talk-time-series-validation\n",
    "- https://www.kaggle.com/yamqwe/feature-engineering-lgb-blend\n",
    "- https://www.kaggle.com/yamqwe/tutorial-time-series-transformer-time2vec\n",
    "- https://www.kaggle.com/yamqwe/crypto-prediction-volatility-features\n",
    "\n",
    "\n",
    "- https://www.kaggle.com/esratmaria/future-sales-prediction-eda\n"
   ]
  },
  {
   "cell_type": "code",
   "execution_count": null,
   "metadata": {
    "ExecuteTime": {
     "end_time": "2022-09-09T01:19:57.664109Z",
     "start_time": "2022-09-09T01:19:56.641426Z"
    },
    "id": "m84UKS0P19hG"
   },
   "outputs": [],
   "source": [
    "import featuretools as ft\n"
   ]
  },
  {
   "cell_type": "code",
   "execution_count": null,
   "metadata": {
    "ExecuteTime": {
     "end_time": "2022-09-09T01:39:37.930972Z",
     "start_time": "2022-09-09T01:39:37.826930Z"
    }
   },
   "outputs": [],
   "source": [
    "es = ft.demo.load_mock_customer(return_entityset=True)\n",
    "es"
   ]
  },
  {
   "cell_type": "code",
   "execution_count": null,
   "metadata": {
    "ExecuteTime": {
     "end_time": "2022-09-09T01:43:41.604182Z",
     "start_time": "2022-09-09T01:43:41.590183Z"
    }
   },
   "outputs": [],
   "source": [
    "es['sessions']"
   ]
  },
  {
   "cell_type": "code",
   "execution_count": null,
   "metadata": {
    "ExecuteTime": {
     "end_time": "2022-09-09T01:41:48.264759Z",
     "start_time": "2022-09-09T01:41:48.247777Z"
    }
   },
   "outputs": [],
   "source": [
    "es['customers']\n"
   ]
  },
  {
   "cell_type": "code",
   "execution_count": null,
   "metadata": {
    "ExecuteTime": {
     "end_time": "2022-09-09T01:42:18.174386Z",
     "start_time": "2022-09-09T01:42:17.744737Z"
    },
    "id": "weCoWjP719hG"
   },
   "outputs": [],
   "source": [
    "feature_matrix, feature_defs = ft.dfs(\n",
    "    entityset=es,\n",
    "    target_dataframe_name=\"customers\",\n",
    "    agg_primitives=[\"mean\", \"sum\", \"mode\"],\n",
    "    trans_primitives=[\"month\", \"hour\"],\n",
    "    max_depth=2,\n",
    ")\n",
    "feature_matrix"
   ]
  },
  {
   "cell_type": "code",
   "execution_count": null,
   "metadata": {
    "ExecuteTime": {
     "end_time": "2022-09-09T01:25:31.463587Z",
     "start_time": "2022-09-09T01:25:31.437590Z"
    }
   },
   "outputs": [],
   "source": [
    "feature_defs.dataframes[0]"
   ]
  },
  {
   "cell_type": "code",
   "execution_count": null,
   "metadata": {
    "ExecuteTime": {
     "end_time": "2022-09-09T01:27:47.842004Z",
     "start_time": "2022-09-09T01:27:47.641974Z"
    }
   },
   "outputs": [],
   "source": [
    "feature_matrix, feature_defs = ft.dfs(\n",
    "    entityset=es,\n",
    "    target_dataframe_name=\"customers\",\n",
    "    agg_primitives=[\"mean\", \"max\", \"min\", \"std\", \"skew\"],\n",
    "    trans_primitives=[\"time_since_previous\"],\n",
    ")\n",
    "\n",
    "feature_matrix[\n",
    "    [\n",
    "        \"MEAN(sessions.TIME_SINCE_PREVIOUS(session_start))\",\n",
    "        \"MAX(sessions.TIME_SINCE_PREVIOUS(session_start))\",\n",
    "        \"MIN(sessions.TIME_SINCE_PREVIOUS(session_start))\",\n",
    "        \"STD(sessions.TIME_SINCE_PREVIOUS(session_start))\",\n",
    "        \"SKEW(sessions.TIME_SINCE_PREVIOUS(session_start))\",\n",
    "    ]\n",
    "]"
   ]
  },
  {
   "cell_type": "code",
   "execution_count": null,
   "metadata": {
    "ExecuteTime": {
     "end_time": "2022-09-09T01:28:49.842998Z",
     "start_time": "2022-09-09T01:28:49.817961Z"
    }
   },
   "outputs": [],
   "source": [
    "ft.list_primitives().head(5)\n",
    "https://featuretools.alteryx.com/en/stable/getting_started/handling_time.html"
   ]
  },
  {
   "cell_type": "code",
   "execution_count": null,
   "metadata": {},
   "outputs": [],
   "source": []
  },
  {
   "cell_type": "code",
   "execution_count": null,
   "metadata": {
    "id": "8d4T9q5P19hH"
   },
   "outputs": [],
   "source": [
    "Um apelo: mesmos dados, mais ciência\n",
    "no fórum Tabular Playground Series - setembro de 2022\n",
    "Provavelmente receberei votos negativos neste já que estou criticando \"o jeito Kaggle\". Também vou esclarecer que (intencionalmente) não olhei para nenhum caderno de submissão ainda, então não estou destacando nenhum indivíduo ou submissão.\n",
    "\n",
    "Veremos muitos kernels que assumem a forma geral de \"usei 20 truques bacanas e obtive uma pontuação alta, então esses truques devem funcionar\". Eu já vi muitos deles no passado, e periodicamente trabalho com um deles, recriando os \"truques\" e realmente analisando o efeito que esses truques têm. Eles podem ser divididos em várias categorias:\n",
    "\n",
    "Aqueles que melhoram substancialmente as pontuações em relação a um currículo com princípios. Estes são o padrão ouro, e também muito raros.\n",
    "Aqueles que produzem melhorias estatisticamente fracas em relação a um currículo baseado em princípios. Isso é frustrante, porque muitas vezes temos uma grande margem de erro, mas ainda podemos suspeitar que as melhorias são válidas.\n",
    "Aqueles que produzem melhorias no ranking público sem o apoio de um currículo de princípios. Estes são incrivelmente comuns, e os notebooks correspondentes tendem a subir ao topo. As pessoas adoram uma pontuação alta na tabela de classificação.\n",
    "Aqueles que não têm nenhum efeito, mas de alguma forma parecem promissores.\n",
    "Aqueles que realmente diminuem a qualidade, tanto em um currículo de princípios quanto na tabela de classificação pública. Estes são mais comuns do que você pensa. Como eles nunca são mostrados isoladamente, é fácil ignorar seus efeitos negativos.\n",
    "Agora, as pessoas têm todo o direito de incluir as categorias 3-5 em seus kernels compartilhados, mas o resultado principal é perda de tempo. Não apenas para os leitores, que acabarão tentando muitas coisas que não funcionarão, mas também para os criadores que provavelmente continuarão gastando tempo correndo por avenidas improdutivas e, assim, se punindo.\n",
    "\n",
    "Então, o que eu recomendo em vez disso? 1. Descubra a melhor estratégia de validação possível. Para a competição de agosto, as \"melhores práticas\" foram estabelecidas antecipadamente. Para este, ainda não começamos, e será difícil chegar a uma estratégia perfeita. E, no entanto, seus resultados finais dependerão muito de quão boa é sua validação. 2. Reveja periodicamente sua estratégia de validação. Como mencionado acima, este não será óbvio, e nenhum de nós acertará na primeira tentativa. 3. Execute experimentos isolados e reproduzíveis. Você deve ser capaz de declarar com confiança quanto efeito qualquer truque tem em seu conjunto de validação, tanto isoladamente quanto em combinação com outros truques. Você ficará desapontado com o fato de poucos deles realmente produzirem melhorias estatisticamente válidas, mas será melhor saber de fato. 4. Compreender a \"validade estatística\". Se você tiver a sorte de ter um CV com bons princípios e muitas dobras - o que pode não ser possível para esta competição - você pode acompanhar a variação junto com a pontuação e ver se as melhorias estão próximas de um único desvio padrão . Existem muitas outras técnicas que você pode usar, mas há pessoas mais qualificadas do que eu para apresentá-las. 5. Não se distraia com algoritmos, técnicas ou imagens bonitas. Por si só, PCA, TSNE ou MetaFribble não são ciência. Algumas delas são ferramentas que podem ser usadas para a ciência, mas muitas vezes são usadas para desenhar imagens bonitas e depois dizer \"essa forma estranha deve significar alguma coisa\". Qualquer resultado de tais ferramentas deve ser um ponto de partida para sugerir novos experimentos, ou para ser validado por meio de experimentos, e não um fim em si mesmo.\n",
    "\n",
    "Até certo ponto, você terá um passe para esta competição. A validação não será cortada e seca, então haverá espaço para um debate vigoroso (educado). Pior ainda, há fortes indícios de que a sondagem da tabela de classificação pública será uma estratégia válida e útil para esta competição. (Isso me deixa triste, e eu sei que as pessoas vão - como sempre - exagerar.)\n",
    "\n",
    "Finalmente, aqui está um segundo fundamento. Prove-me errado. Deslumbre-me com sua ciência. Surpreenda-me quando seu kernel de alta pontuação realmente se levantar após o shakeup. Ensina-me novas técnicas que realmente fazem a diferença em nosso entendimento. (Por favor! Estou aqui para aprender, e é por isso que li todos esses kernels compartilhados.)\n"
   ]
  },
  {
   "cell_type": "code",
   "execution_count": null,
   "metadata": {},
   "outputs": [],
   "source": [
    "#from sklearn.model_selection import TimeSeriesSplit\n",
    "#kfold = TimeSeriesSplit(n_splits=12, max_train_size=None, test_size=None, gap=0)\n",
    "#\n",
    "#for fold, (train_id, test_id) in enumerate(kfold.split(train2)):\n",
    "#    print('<------- fold', fold+1, '------->')\n",
    "#    \n",
    "#    x_train, y_train = train2.iloc[train_id], y.iloc[train_id]\n",
    "#    x_valid, y_valid = train2.iloc[test_id], y.iloc[test_id]\n",
    "#    \n",
    "#    data_ini = x_train['date'].min()\n",
    "#    data_fim = x_train['date'].max()\n",
    "#\n",
    "#    print('TR incial: {} - Data Final:{}'.format(data_ini, data_fim))\n",
    "#    \n",
    "#    data_ini = x_valid['date'].min()\n",
    "#    data_fim = x_valid['date'].max()\n",
    "#    print('VL incial: {} - Data Final:{}'.format(data_ini, data_fim))\n",
    "#    \n",
    "\n",
    "\n",
    "#    print()"
   ]
  },
  {
   "cell_type": "code",
   "execution_count": null,
   "metadata": {
    "ExecuteTime": {
     "end_time": "2022-09-10T03:20:45.011026Z",
     "start_time": "2022-09-10T03:20:44.788027Z"
    }
   },
   "outputs": [],
   "source": [
    "color_pal = sns.color_palette()\n",
    "plt.style.use('fivethirtyeight')\n",
    "\n",
    "first = df2_train.query('country==\"Belgium\" and store==\"KaggleMart\" and product==\"Kaggle Advanced Techniques\"')\n",
    "\n",
    "first['num_sold'].plot(style='.',\n",
    "                       figsize=(15,5),\n",
    "                       #color=color_pal[0],\n",
    "                       title='Belgium,KaggleMart,Kaggle Advanced Techniques');"
   ]
  },
  {
   "cell_type": "code",
   "execution_count": null,
   "metadata": {
    "ExecuteTime": {
     "end_time": "2022-09-10T03:18:53.083433Z",
     "start_time": "2022-09-10T03:18:53.059435Z"
    }
   },
   "outputs": [],
   "source": [
    "train"
   ]
  },
  {
   "cell_type": "code",
   "execution_count": null,
   "metadata": {
    "ExecuteTime": {
     "end_time": "2022-09-10T03:18:20.484392Z",
     "start_time": "2022-09-10T03:18:19.979401Z"
    },
    "scrolled": true
   },
   "outputs": [],
   "source": [
    "tss = TimeSeriesSplit(n_splits=3, test_size=365)\n",
    "\n",
    "fig, axs = plt.subplots(3,1, figsize=(15,15),sharex=True)\n",
    "\n",
    "fold= 0\n",
    "for train_idx, val_idx in tss.split(first[first['num_sold'].isna()==False]):\n",
    "    train = df.iloc[train_idx]\n",
    "    test = df.iloc[val_idx]\n",
    "    train['num_sold'].plot(ax= axs[fold],\n",
    "                           label='Training Set',\n",
    "                           title = f\"Data Train Test Split Fold {fold}\")\n",
    "    test['num_sold'].plot(ax=axs[fold],\n",
    "                          label='Test Set')\n",
    "    axs[fold].axvline(test.index.min(),color='black',ls='--')\n",
    "    fold +=1\n",
    "plt.show()\n"
   ]
  },
  {
   "cell_type": "markdown",
   "metadata": {},
   "source": [
    "Introdução\n",
    "Este tópico de discussão destina-se a acumular ideias valiosas quanto à engenharia de recursos adicionais para esta competição.\n",
    "\n",
    "Notas:\n",
    "\n",
    "Este tópico é útil se sua estratégia para este concurso for transformar o problema clássico de TS em problema de regressão (e, assim, usar os algoritmos populares de regressão ML). Se você preferir usar as técnicas clássicas de modelagem TS, então não seria de seu interesse.\n",
    "Vou atualizá-lo de tempos em tempos, para agregar as novas ideias que provaram funcionar nos modelos especialistas\n",
    "Recursos adicionais para este concurso\n",
    "O seguinte 'corpo de conhecimento' contém as informações sobre os recursos úteis sugeridos/experimentados pelos especialistas que participam da competição.\n",
    "\n",
    "Dados do PIB 2017-2021: conforme sugerido por @hasanbasriakcay em Recursos Adicionais para a Competição, Dados do PIB 2017-2021, certamente melhorará a pontuação do modelo na tabela de classificação.\n",
    "\n",
    "Índice de educação: conforme demonstrado no concurso com o conjunto de dados semelhante ( TPS-Jan-2022 ), o Índice de educação foi útil. Portanto, @desalegngeb recomendou usá-lo neste concurso também (por este tópico)\n",
    "\n",
    "Índice de Confiança do Consumidor: como mencionado por @xclimx neste tópico, esse recurso provou funcionar para esta competição, assim como para o TPS-Jan-2022. Este segmento de discussão refere-se ao conjunto de dados e notebook relevantes para demonstrá-lo no trabalho.\n",
    "\n",
    "Índice de Confiança de Negócios: como mencionado por @xclimx neste tópico, esse recurso provou adicionar vantagem à precisão de previsão do modelo nesta competição.\n",
    "\n",
    "Datas de bloqueio do Covid: como 2021 (o intervalo de tempo para prever as vendas de livros) caiu na pandemia do COVID-19, a sugestão natural (por @xclimx em Engenharia de recursos - datas de bloqueio do Covid) é adicionar as datas críticas de bloqueio por país como recursos no conjunto de dados. O conjunto de dados externo por Stay At Home COVID 2020-2021 contém os detalhes relevantes para ele. Além disso, o mini-EDA por bloqueio afeta as vendas de livros Kaggle na Itália, Polônia e Espanha? fornece a visualização adicional em apoio a ele.\n",
    "\n",
    "Feriados: Feriados por país provam funcionar para este concurso (como na maioria dos concursos do tipo TS). Você pode verificar Feriados por país e ano para mais detalhes. Também se justifica pela pesquisa mini-EDA de @hasanbasriakcay apresentada em Holiday and The Target Relationship\n",
    "\n",
    "Referências\n",
    "https://www.kaggle.com/competitions/tabular-playground-series-sep-2022/discussion/349371\n",
    "https://www.kaggle.com/competitions/tabular-playground-series-sep-2022/discussion/349377\n",
    "https://www.kaggle.com/competitions/tabular-playground-series-sep-2022/discussion/349513\n",
    "https://www.kaggle.com/competitions/tabular-playground-series-sep-2022/discussion/349426\n",
    "https://www.kaggle.com/competitions/tabular-playground-series-sep-2022/discussion/349908\n",
    "https://www.kaggle.com/competitions/tabular-playground-series-sep-2022/discussion/349549\n",
    "https://www.kaggle.com/competitions/tabular-playground-series-sep-2022/discussion/349703\n",
    "https://www.kaggle.com/competitions/tabular-playground-series-sep-2022/discussion/349799\n",
    "https://www.kaggle.com/competitions/tabular-playground-series-sep-2022/discussion/351280\n",
    "Histórico de Revisão\n",
    "7 de setembro de 2022 - versão original da página publicada\n",
    "10 de setembro de 2022 - detalhes adicionados sobre o Índice de Confiança nos Negócios"
   ]
  },
  {
   "cell_type": "markdown",
   "metadata": {},
   "source": [
    "# covid "
   ]
  },
  {
   "cell_type": "code",
   "execution_count": null,
   "metadata": {},
   "outputs": [],
   "source": [
    "# Drop the data by Country name\n",
    "from covid19dh import covid19\n",
    "x, src = covid19([\"France\",\"Belgium\",\"Italy\",\"Germany\",\"Poland\",\"Spain\"])\n",
    "leakage = x\n",
    "\n",
    "# Some values are not vital for this case I dropped some\n",
    "\n",
    "leakage = leakage[['date','confirmed','deaths','vaccines','workplace_closing','transport_closing','stay_home_restrictions','iso_alpha_3']]\n",
    "\n",
    "# For TPS September 2022\n",
    "\n",
    "train_start = '2017-01-01'\n",
    "train_end = '2020-12-31'\n",
    "eval_start = '2021-01-01'\n",
    "eval_end = '2021-12-31'"
   ]
  },
  {
   "cell_type": "markdown",
   "metadata": {
    "ExecuteTime": {
     "end_time": "2022-09-16T23:39:32.434160Z",
     "start_time": "2022-09-16T23:39:32.411126Z"
    }
   },
   "source": [
    "# Conjunto de cadernos públicos\n",
    "\n",
    "Geralmente, existem muitas abordagens diferentes para competições de aprendizado de máquina no Kaggle, cada uma com seus próprios pontos fortes e fracos. Tirar uma média da saída dessas diferentes técnicas geralmente produz uma solução melhor do que qualquer técnica por conta própria.\n",
    "\n",
    "Claramente, esta abordagem não resolve o problema original por si só - ela apenas ajuda você a combinar várias abordagens existentes que você aprendeu. Já que o foco desta competição é aprender novas técnicas, eu recomendo fortemente que você leia (e aprove) os cadernos de origem.\n",
    "\n",
    "- [cabaxoim](https://www.kaggle.com/code/cabaxiom/tps-sep-22-eda-and-linear-regression-baseline?scriptVersionId=105074018) - Uma ótima introdução, identificando os padrões subjacentes no dados, predizendo vendas totais e razões de produto usando regressão linear e desagregando para as outras variáveis ​​categóricas.\n",
    "- [saumilagrawal10](https://www.kaggle.com/code/saumilagrawal10/high-tps08?scriptVersionId=105490465) - Um garfo de um garfo de um garfo da técnica acima, que é a melhor pontuação nessa linha em a hora de escrever.\n",
    "- [tatudoug](https://www.kaggle.com/code/tatudoug/genetic-programming?scriptVersionId=105450253) - Um método completamente diferente baseado em programação genética.\n",
    "- [cbhavik](https://www.kaggle.com/code/cbhavik/score-5-14-tps-eda-lgbm-baseline?scriptVersionId=104874623) - Uma solução baseada em LGBM.\n",
    "\n",
    "Cada um dos itens acima mostrou uma abordagem diferente e obteve uma pontuação diferente. Este notebook usa a função softmax para ponderar cada saída, para que notebooks com melhor pontuação tenham suas contribuições mais pesadas, mas todos contribuam para o resultado final."
   ]
  },
  {
   "cell_type": "code",
   "execution_count": null,
   "metadata": {},
   "outputs": [],
   "source": [
    "import pandas as pd\n",
    "from scipy.special import softmax\n",
    "\n",
    "contribs = (('saumilagrawal10v11', 4.49631),\n",
    "            ('tatudougv10', 4.60409),\n",
    "            ('cabaxiomv5', 4.77458),\n",
    "            #('vladislavleonovv10', 4.49984),\n",
    "           ('bhavikv2',5.14194),\n",
    "           ('saumilagrawal10ens',4.36230)\n",
    "           )\n",
    "\n",
    "dfs_contrib = []\n",
    "for contrib, _ in contribs:\n",
    "    dfs_contrib.append(pd.read_csv(f'dataset/{contrib}.csv'))\n",
    "    \n",
    "# Use softmax to weight better-scoring contributions more highly.\n",
    "weights = softmax([-score for _, score in contribs])\n",
    "weights\n",
    "\n",
    "# Create the weighted average of the contributions.\n",
    "df_test = pd.read_csv('../Data/test.csv')\n",
    "df_test['num_sold'] = 0\n",
    "\n",
    "for weight, df_contrib in zip(weights, dfs_contrib):\n",
    "    df_test['num_sold'] += (weight * df_contrib.num_sold)  # Should really join on row_id, but all the contributions have them in the same order, so this happens to work.\n",
    "    df_test['num_sold'] = df_test['num_sold'].round()\n",
    "# If the weights weren't known to sum to 1, then divide through by the sum of the weights here.  However, softmax produces weights that sum to 1, so there's no need.\n",
    "# df_test['num_sold'] /= sum(weights)\n",
    "\n",
    "# Create the submission\n",
    "df_test[['row_id', 'num_sold']].to_csv('submission.csv', index=False)\n"
   ]
  },
  {
   "cell_type": "code",
   "execution_count": null,
   "metadata": {},
   "outputs": [],
   "source": []
  },
  {
   "cell_type": "code",
   "execution_count": null,
   "metadata": {},
   "outputs": [],
   "source": [
    "REFERÊNCIA: [ambrosm](https://www.kaggle.com/code/ambrosm/tpsjan22-01-eda-which-makes-sense/notebook)\n",
    "    "
   ]
  }
 ],
 "metadata": {
  "accelerator": "GPU",
  "colab": {
   "collapsed_sections": [],
   "machine_shape": "hm",
   "provenance": []
  },
  "gpuClass": "standard",
  "hide_input": false,
  "kernelspec": {
   "display_name": "Python 3 (ipykernel)",
   "language": "python",
   "name": "python3"
  },
  "language_info": {
   "codemirror_mode": {
    "name": "ipython",
    "version": 3
   },
   "file_extension": ".py",
   "mimetype": "text/x-python",
   "name": "python",
   "nbconvert_exporter": "python",
   "pygments_lexer": "ipython3",
   "version": "3.9.7"
  },
  "nbTranslate": {
   "displayLangs": [
    "en",
    "pt-br"
   ],
   "hotkey": "",
   "langInMainMenu": true,
   "sourceLang": "en",
   "targetLang": "pt-br",
   "useGoogleTranslate": true
  },
  "toc": {
   "base_numbering": 1,
   "nav_menu": {},
   "number_sections": false,
   "sideBar": true,
   "skip_h1_title": false,
   "title_cell": "Table of Contents",
   "title_sidebar": "Contents",
   "toc_cell": false,
   "toc_position": {
    "height": "calc(100% - 180px)",
    "left": "10px",
    "top": "150px",
    "width": "237.688px"
   },
   "toc_section_display": true,
   "toc_window_display": true
  }
 },
 "nbformat": 4,
 "nbformat_minor": 1
}
