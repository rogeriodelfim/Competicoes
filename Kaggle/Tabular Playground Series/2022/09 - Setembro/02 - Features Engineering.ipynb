{
 "cells": [
  {
   "cell_type": "markdown",
   "metadata": {
    "id": "dyZU8TQF3EC_"
   },
   "source": [
    "<h1 div class='alert alert-success'><center> Features Engineering </center></h1>\n",
    "\n",
    "![](https://storage.googleapis.com/kaggle-competitions/kaggle/26480/logos/header.png?t=2021-04-09-00-57-05)"
   ]
  },
  {
   "cell_type": "markdown",
   "metadata": {
    "ExecuteTime": {
     "end_time": "2021-12-17T21:07:28.068848Z",
     "start_time": "2021-12-17T21:07:28.056849Z"
    }
   },
   "source": [
    "# <div class=\"alert alert-success\">  OBJETIVO </div> "
   ]
  },
  {
   "cell_type": "markdown",
   "metadata": {},
   "source": [
    "O objetivo neste notebook é criação novas variáveis (feature) que possam ajudar na identificação de novos padrões, para ajudar os classificadore (modelos) nas previsões. "
   ]
  },
  {
   "cell_type": "markdown",
   "metadata": {
    "id": "Cjx0CaVr3EDF"
   },
   "source": [
    "# <div class=\"alert alert-success\">  1. IMPORTAÇÕES </div> "
   ]
  },
  {
   "cell_type": "markdown",
   "metadata": {
    "ExecuteTime": {
     "end_time": "2021-12-17T20:49:34.792594Z",
     "start_time": "2021-12-17T20:49:34.785596Z"
    }
   },
   "source": [
    "## 1.1. Instalações"
   ]
  },
  {
   "cell_type": "code",
   "execution_count": null,
   "metadata": {
    "executionInfo": {
     "elapsed": 3545,
     "status": "ok",
     "timestamp": 1639752216495,
     "user": {
      "displayName": "Rogério Delfim",
      "photoUrl": "https://lh3.googleusercontent.com/a-/AOh14Gj8lDYWTfZHU0U0sMojRPio71Ec7YDcSEpCaOEE=s64",
      "userId": "04235763959036945343"
     },
     "user_tz": 180
    },
    "id": "_B5L3Q6zrhoq"
   },
   "outputs": [],
   "source": [
    "! pip install --q scikit-plot"
   ]
  },
  {
   "cell_type": "code",
   "execution_count": null,
   "metadata": {
    "colab": {
     "base_uri": "https://localhost:8080/"
    },
    "executionInfo": {
     "elapsed": 30009,
     "status": "ok",
     "timestamp": 1639772785225,
     "user": {
      "displayName": "Rogério Delfim",
      "photoUrl": "https://lh3.googleusercontent.com/a-/AOh14Gj8lDYWTfZHU0U0sMojRPio71Ec7YDcSEpCaOEE=s64",
      "userId": "04235763959036945343"
     },
     "user_tz": 180
    },
    "id": "_O4QLmfE3VfS",
    "outputId": "579b4504-c8f0-4385-bcb1-d9dbc0b45501"
   },
   "outputs": [],
   "source": [
    "from google.colab import drive\n",
    "drive.mount('/content/drive')"
   ]
  },
  {
   "cell_type": "markdown",
   "metadata": {
    "id": "2TUVX7H53EDG"
   },
   "source": [
    "## 1.2. Bibliotecas "
   ]
  },
  {
   "cell_type": "code",
   "execution_count": 1,
   "metadata": {
    "ExecuteTime": {
     "end_time": "2021-12-19T02:10:05.870489Z",
     "start_time": "2021-12-19T02:09:51.813829Z"
    },
    "executionInfo": {
     "elapsed": 4859,
     "status": "ok",
     "timestamp": 1639752224387,
     "user": {
      "displayName": "Rogério Delfim",
      "photoUrl": "https://lh3.googleusercontent.com/a-/AOh14Gj8lDYWTfZHU0U0sMojRPio71Ec7YDcSEpCaOEE=s64",
      "userId": "04235763959036945343"
     },
     "user_tz": 180
    },
    "id": "7CkqtXYc3EDG"
   },
   "outputs": [],
   "source": [
    "import warnings\n",
    "import random\n",
    "import os\n",
    "import gc\n",
    "import torch\n",
    "import math"
   ]
  },
  {
   "cell_type": "code",
   "execution_count": 2,
   "metadata": {
    "ExecuteTime": {
     "end_time": "2021-12-19T02:10:09.975373Z",
     "start_time": "2021-12-19T02:10:05.874482Z"
    },
    "executionInfo": {
     "elapsed": 512,
     "status": "ok",
     "timestamp": 1639752224896,
     "user": {
      "displayName": "Rogério Delfim",
      "photoUrl": "https://lh3.googleusercontent.com/a-/AOh14Gj8lDYWTfZHU0U0sMojRPio71Ec7YDcSEpCaOEE=s64",
      "userId": "04235763959036945343"
     },
     "user_tz": 180
    },
    "id": "wlxzri_03EDH"
   },
   "outputs": [],
   "source": [
    "import pandas            as pd\n",
    "import numpy             as np\n",
    "import matplotlib.pyplot as plt \n",
    "import seaborn           as sns\n",
    "import joblib            as jb\n",
    "import xgboost           as xgb\n",
    "import scikitplot        as skplt"
   ]
  },
  {
   "cell_type": "code",
   "execution_count": 3,
   "metadata": {
    "ExecuteTime": {
     "end_time": "2021-12-19T02:10:10.225258Z",
     "start_time": "2021-12-19T02:10:09.976338Z"
    },
    "executionInfo": {
     "elapsed": 438,
     "status": "ok",
     "timestamp": 1639752225333,
     "user": {
      "displayName": "Rogério Delfim",
      "photoUrl": "https://lh3.googleusercontent.com/a-/AOh14Gj8lDYWTfZHU0U0sMojRPio71Ec7YDcSEpCaOEE=s64",
      "userId": "04235763959036945343"
     },
     "user_tz": 180
    },
    "id": "MvrdO4I53EDI"
   },
   "outputs": [],
   "source": [
    "from sklearn.model_selection import train_test_split,  KFold, StratifiedKFold\n",
    "from sklearn.preprocessing   import StandardScaler, MinMaxScaler, RobustScaler \n",
    "from sklearn.preprocessing   import MaxAbsScaler, QuantileTransformer, LabelEncoder, normalize\n",
    "from sklearn.impute          import SimpleImputer\n",
    "from sklearn                 import metrics\n",
    "from datetime                import datetime\n",
    "from sklearn.cluster         import KMeans\n",
    "from sklearn.decomposition   import PCA"
   ]
  },
  {
   "cell_type": "code",
   "execution_count": 4,
   "metadata": {
    "ExecuteTime": {
     "end_time": "2021-12-19T02:10:10.414176Z",
     "start_time": "2021-12-19T02:10:10.229262Z"
    },
    "executionInfo": {
     "elapsed": 7,
     "status": "ok",
     "timestamp": 1639752225333,
     "user": {
      "displayName": "Rogério Delfim",
      "photoUrl": "https://lh3.googleusercontent.com/a-/AOh14Gj8lDYWTfZHU0U0sMojRPio71Ec7YDcSEpCaOEE=s64",
      "userId": "04235763959036945343"
     },
     "user_tz": 180
    },
    "id": "XkUhurmKnl_x"
   },
   "outputs": [],
   "source": [
    "from yellowbrick.cluster        import KElbowVisualizer, SilhouetteVisualizer\n",
    "from sklearn.utils.class_weight import compute_sample_weight\n",
    "from scipy                      import stats\n",
    "from scipy.cluster              import hierarchy as hc"
   ]
  },
  {
   "cell_type": "markdown",
   "metadata": {
    "id": "e0gRHehq3EDJ"
   },
   "source": [
    "## 1.3. Funções\n",
    "Aqui centralizamos todas as funções desenvolvidas durante o projeto para melhor organização do código."
   ]
  },
  {
   "cell_type": "code",
   "execution_count": 5,
   "metadata": {
    "ExecuteTime": {
     "end_time": "2021-12-19T02:10:10.430174Z",
     "start_time": "2021-12-19T02:10:10.416176Z"
    },
    "code_folding": [
     0
    ],
    "executionInfo": {
     "elapsed": 7,
     "status": "ok",
     "timestamp": 1639752225334,
     "user": {
      "displayName": "Rogério Delfim",
      "photoUrl": "https://lh3.googleusercontent.com/a-/AOh14Gj8lDYWTfZHU0U0sMojRPio71Ec7YDcSEpCaOEE=s64",
      "userId": "04235763959036945343"
     },
     "user_tz": 180
    },
    "id": "yTX8NxEj3EDK"
   },
   "outputs": [],
   "source": [
    "def jupyter_setting():\n",
    "    \n",
    "    %matplotlib inline\n",
    "      \n",
    "    #os.environ[\"WANDB_SILENT\"] = \"true\" \n",
    "    #plt.style.use('bmh') \n",
    "    #plt.rcParams['figure.figsize'] = [20,15]\n",
    "    #plt.rcParams['font.size']      = 13\n",
    "     \n",
    "    pd.options.display.max_columns = None\n",
    "    #pd.set_option('display.expand_frame_repr', False)\n",
    "\n",
    "    warnings.filterwarnings(action='ignore')\n",
    "    warnings.simplefilter('ignore')\n",
    "    warnings.filterwarnings('ignore')\n",
    "    #warnings.filterwarnings(category=UserWarning)\n",
    "\n",
    "    warnings.filterwarnings('ignore', category=DeprecationWarning)\n",
    "    warnings.filterwarnings('ignore', category=FutureWarning)\n",
    "    warnings.filterwarnings('ignore', category=RuntimeWarning)\n",
    "    warnings.filterwarnings('ignore', category=UserWarning)\n",
    "    #warnings.filterwarnings(\"ignore\", category=sklearn.exceptions.UndefinedMetricWarning)\n",
    "\n",
    "    pd.set_option('display.max_rows', 150)\n",
    "    pd.set_option('display.max_columns', 500)\n",
    "    pd.set_option('display.max_colwidth', None)\n",
    "\n",
    "    icecream = [\"#00008b\", \"#960018\",\"#008b00\", \"#00468b\", \"#8b4500\", \"#582c00\"]\n",
    "    #sns.palplot(sns.color_palette(icecream))\n",
    "    \n",
    "    return icecream\n",
    "\n",
    "icecream = jupyter_setting()\n",
    "\n",
    "# Colors\n",
    "dark_red = \"#b20710\"\n",
    "black    = \"#221f1f\"\n",
    "green    = \"#009473\"\n",
    "myred    = '#CD5C5C'\n",
    "myblue   = '#6495ED'\n",
    "mygreen  = '#90EE90'\n",
    "\n",
    "cols= [myred, myblue,mygreen]"
   ]
  },
  {
   "cell_type": "code",
   "execution_count": 6,
   "metadata": {
    "ExecuteTime": {
     "end_time": "2021-12-19T02:10:10.446200Z",
     "start_time": "2021-12-19T02:10:10.432200Z"
    },
    "code_folding": [
     0
    ],
    "executionInfo": {
     "elapsed": 7,
     "status": "ok",
     "timestamp": 1639752225334,
     "user": {
      "displayName": "Rogério Delfim",
      "photoUrl": "https://lh3.googleusercontent.com/a-/AOh14Gj8lDYWTfZHU0U0sMojRPio71Ec7YDcSEpCaOEE=s64",
      "userId": "04235763959036945343"
     },
     "user_tz": 180
    },
    "id": "cYJ5_hPT3EDM"
   },
   "outputs": [],
   "source": [
    "colors = [\"lightcoral\", \"sandybrown\", \"darkorange\", \"mediumseagreen\",\n",
    "          \"lightseagreen\", \"cornflowerblue\", \"mediumpurple\", \"palevioletred\",\n",
    "          \"lightskyblue\", \"sandybrown\", \"yellowgreen\", \"indianred\",\n",
    "          \"lightsteelblue\", \"mediumorchid\", \"deepskyblue\"]"
   ]
  },
  {
   "cell_type": "code",
   "execution_count": 7,
   "metadata": {
    "ExecuteTime": {
     "end_time": "2021-12-19T02:10:10.462175Z",
     "start_time": "2021-12-19T02:10:10.448176Z"
    },
    "code_folding": [
     0
    ],
    "executionInfo": {
     "elapsed": 7,
     "status": "ok",
     "timestamp": 1639752225335,
     "user": {
      "displayName": "Rogério Delfim",
      "photoUrl": "https://lh3.googleusercontent.com/a-/AOh14Gj8lDYWTfZHU0U0sMojRPio71Ec7YDcSEpCaOEE=s64",
      "userId": "04235763959036945343"
     },
     "user_tz": 180
    },
    "id": "b0kN2eT93EDN"
   },
   "outputs": [],
   "source": [
    "def reduce_memory_usage(df, verbose=True):\n",
    "    \n",
    "    numerics = [\"int8\", \"int16\", \"int32\", \"int64\", \"float16\", \"float32\", \"float64\"]\n",
    "    start_mem = df.memory_usage().sum() / 1024 ** 2\n",
    "    \n",
    "    for col in df.columns:\n",
    "        \n",
    "        col_type = df[col].dtypes\n",
    "        \n",
    "        if col_type in numerics:\n",
    "            c_min = df[col].min()\n",
    "            c_max = df[col].max()\n",
    "            \n",
    "            if str(col_type)[:3] == \"int\":\n",
    "                if c_min > np.iinfo(np.int8).min and c_max < np.iinfo(np.int8).max:\n",
    "                    df[col] = df[col].astype(np.int8)\n",
    "                elif c_min > np.iinfo(np.int16).min and c_max < np.iinfo(np.int16).max:\n",
    "                    df[col] = df[col].astype(np.int16)\n",
    "                elif c_min > np.iinfo(np.int32).min and c_max < np.iinfo(np.int32).max:\n",
    "                    df[col] = df[col].astype(np.int32)\n",
    "                elif c_min > np.iinfo(np.int64).min and c_max < np.iinfo(np.int64).max:\n",
    "                    df[col] = df[col].astype(np.int64)\n",
    "            else:\n",
    "                if (\n",
    "                    c_min > np.finfo(np.float16).min\n",
    "                    and c_max < np.finfo(np.float16).max\n",
    "                ):\n",
    "                    df[col] = df[col].astype(np.float16)\n",
    "                elif (\n",
    "                    c_min > np.finfo(np.float32).min\n",
    "                    and c_max < np.finfo(np.float32).max\n",
    "                ):\n",
    "                    df[col] = df[col].astype(np.float32)\n",
    "                else:\n",
    "                    df[col] = df[col].astype(np.float64)\n",
    "    end_mem = df.memory_usage().sum() / 1024 ** 2\n",
    "    if verbose:\n",
    "        print(\n",
    "            \"Mem. usage decreased to {:.2f} Mb ({:.1f}% reduction)\".format(\n",
    "                end_mem, 100 * (start_mem - end_mem) / start_mem\n",
    "            )\n",
    "        )\n",
    "        \n",
    "    return df"
   ]
  },
  {
   "cell_type": "code",
   "execution_count": 8,
   "metadata": {
    "ExecuteTime": {
     "end_time": "2021-12-19T02:10:10.478200Z",
     "start_time": "2021-12-19T02:10:10.463203Z"
    },
    "code_folding": [
     0
    ],
    "executionInfo": {
     "elapsed": 7,
     "status": "ok",
     "timestamp": 1639752225334,
     "user": {
      "displayName": "Rogério Delfim",
      "photoUrl": "https://lh3.googleusercontent.com/a-/AOh14Gj8lDYWTfZHU0U0sMojRPio71Ec7YDcSEpCaOEE=s64",
      "userId": "04235763959036945343"
     },
     "user_tz": 180
    },
    "id": "RSJsVIJL3EDM"
   },
   "outputs": [],
   "source": [
    "def missing_zero_values_table(df):\n",
    "        mis_val         = df.isnull().sum()\n",
    "        mis_val_percent = round(df.isnull().mean().mul(100), 2)\n",
    "        mz_table        = pd.concat([mis_val, mis_val_percent], axis=1)\n",
    "        mz_table        = mz_table.rename(columns = {df.index.name:'col_name', \n",
    "                                                     0 : 'Valores ausentes', \n",
    "                                                     1 : '% de valores totais'})\n",
    "        \n",
    "        mz_table['Tipo de dados'] = df.dtypes\n",
    "        mz_table                  = mz_table[mz_table.iloc[:,1] != 0 ]. \\\n",
    "                                     sort_values('% de valores totais', ascending=False)\n",
    "        \n",
    "        msg = \"Seu dataframe selecionado tem {} colunas e {} \" + \\\n",
    "              \"linhas. \\nExistem {} colunas com valores ausentes.\"\n",
    "            \n",
    "        print (msg.format(df.shape[1], df.shape[0], mz_table.shape[0]))\n",
    "        \n",
    "        return mz_table.reset_index()"
   ]
  },
  {
   "cell_type": "code",
   "execution_count": 9,
   "metadata": {
    "ExecuteTime": {
     "end_time": "2021-12-19T02:10:10.494174Z",
     "start_time": "2021-12-19T02:10:10.479203Z"
    },
    "code_folding": [
     0
    ]
   },
   "outputs": [],
   "source": [
    "def scaler_MaxAbsScaler_StandardScaler(df):    \n",
    "    sc_mm = MaxAbsScaler()\n",
    "    sc_st = StandardScaler()     \n",
    "    col = df.columns\n",
    "    df  = sc_mm.fit_transform(df)\n",
    "    df  = pd.DataFrame(sc_st.fit_transform(df), columns=col)    \n",
    "    return df"
   ]
  },
  {
   "cell_type": "code",
   "execution_count": null,
   "metadata": {
    "ExecuteTime": {
     "end_time": "2021-12-19T01:11:38.644919Z",
     "start_time": "2021-12-19T01:11:38.627879Z"
    },
    "code_folding": [
     0
    ],
    "executionInfo": {
     "elapsed": 8,
     "status": "ok",
     "timestamp": 1639752225335,
     "user": {
      "displayName": "Rogério Delfim",
      "photoUrl": "https://lh3.googleusercontent.com/a-/AOh14Gj8lDYWTfZHU0U0sMojRPio71Ec7YDcSEpCaOEE=s64",
      "userId": "04235763959036945343"
     },
     "user_tz": 180
    },
    "id": "bb_8Biqh3EDN"
   },
   "outputs": [],
   "source": [
    "def describe(df):\n",
    "    var = df.columns\n",
    "\n",
    "    # Medidas de tendência central, média e mediana \n",
    "    ct1 = pd.DataFrame(df[var].apply(np.mean)).T\n",
    "    ct2 = pd.DataFrame(df[var].apply(np.median)).T\n",
    "\n",
    "    # Dispensão - str, min , max range skew, kurtosis\n",
    "    d1 = pd.DataFrame(df[var].apply(np.std)).T\n",
    "    d2 = pd.DataFrame(df[var].apply(min)).T\n",
    "    d3 = pd.DataFrame(df[var].apply(max)).T\n",
    "    d4 = pd.DataFrame(df[var].apply(lambda x: x.max() - x.min())).T\n",
    "    d5 = pd.DataFrame(df[var].apply(lambda x: x.skew())).T\n",
    "    d6 = pd.DataFrame(df[var].apply(lambda x: x.kurtosis())).T\n",
    "    d7 = pd.DataFrame(df[var].apply(lambda x: (3 *( np.mean(x) - np.median(x)) / np.std(x) ))).T\n",
    "\n",
    "    # concatenete \n",
    "    m = pd.concat([d2, d3, d4, ct1, ct2, d1, d5, d6, d7]).T.reset_index()\n",
    "    m.columns = ['attrobutes', 'min', 'max', 'range', 'mean', 'median', 'std','skew', 'kurtosis','coef_as']\n",
    "    \n",
    "    return m"
   ]
  },
  {
   "cell_type": "code",
   "execution_count": null,
   "metadata": {
    "ExecuteTime": {
     "end_time": "2021-12-19T01:11:38.660908Z",
     "start_time": "2021-12-19T01:11:38.647884Z"
    },
    "code_folding": [
     0
    ],
    "executionInfo": {
     "elapsed": 7,
     "status": "ok",
     "timestamp": 1639752225335,
     "user": {
      "displayName": "Rogério Delfim",
      "photoUrl": "https://lh3.googleusercontent.com/a-/AOh14Gj8lDYWTfZHU0U0sMojRPio71Ec7YDcSEpCaOEE=s64",
      "userId": "04235763959036945343"
     },
     "user_tz": 180
    },
    "id": "ElhGo3lt3EDO"
   },
   "outputs": [],
   "source": [
    "def plot_roc_curve(fpr, tpr, label=None):\n",
    "    fig, ax = plt.subplots()\n",
    "    ax.plot(fpr, tpr, \"r-\", label=label)\n",
    "    ax.plot([0, 1], [0, 1], transform=ax.transAxes, ls=\"--\", c=\".3\")\n",
    "    plt.xlim([0.0, 1.0])\n",
    "    plt.ylim([0.0, 1.0])\n",
    "    plt.rcParams['font.size'] = 12\n",
    "    plt.title('ROC curve for TPS 09')\n",
    "    plt.xlabel('False Positive Rate (1 - Specificity)')\n",
    "    plt.ylabel('True Positive Rate (Sensitivity)')\n",
    "    plt.legend(loc=\"lower right\")\n",
    "    plt.grid(True)"
   ]
  },
  {
   "cell_type": "code",
   "execution_count": null,
   "metadata": {
    "ExecuteTime": {
     "end_time": "2021-12-19T01:11:38.676878Z",
     "start_time": "2021-12-19T01:11:38.663881Z"
    },
    "code_folding": [
     0
    ],
    "executionInfo": {
     "elapsed": 7,
     "status": "ok",
     "timestamp": 1639752225335,
     "user": {
      "displayName": "Rogério Delfim",
      "photoUrl": "https://lh3.googleusercontent.com/a-/AOh14Gj8lDYWTfZHU0U0sMojRPio71Ec7YDcSEpCaOEE=s64",
      "userId": "04235763959036945343"
     },
     "user_tz": 180
    },
    "id": "AMWLIJ6O3EDO"
   },
   "outputs": [],
   "source": [
    "def confusion_plot(matrix, labels = None, title = None):\n",
    "        \n",
    "    labels = labels if labels else ['Negative (0)', 'Positive (1)']    \n",
    "    \n",
    "    fig, ax = plt.subplots(nrows=1, ncols=1)\n",
    "    \n",
    "    sns.heatmap(data        = matrix, \n",
    "                cmap        = 'Blues', \n",
    "                annot       = True, \n",
    "                fmt         = 'd',\n",
    "                xticklabels = labels, \n",
    "                yticklabels = labels, \n",
    "                ax          = ax);\n",
    "    \n",
    "    ax.set_xlabel('\\n PREVISTO', fontsize=15)\n",
    "    ax.set_ylabel('REAL \\n', fontsize=15)\n",
    "    ax.set_title(title)\n",
    "    \n",
    "    plt.close();\n",
    "    \n",
    "    return fig;"
   ]
  },
  {
   "cell_type": "code",
   "execution_count": null,
   "metadata": {
    "ExecuteTime": {
     "end_time": "2021-12-19T01:11:38.692923Z",
     "start_time": "2021-12-19T01:11:38.678882Z"
    },
    "code_folding": [
     0
    ],
    "executionInfo": {
     "elapsed": 8,
     "status": "ok",
     "timestamp": 1639752225336,
     "user": {
      "displayName": "Rogério Delfim",
      "photoUrl": "https://lh3.googleusercontent.com/a-/AOh14Gj8lDYWTfZHU0U0sMojRPio71Ec7YDcSEpCaOEE=s64",
      "userId": "04235763959036945343"
     },
     "user_tz": 180
    },
    "id": "thQyW6AF3EDP"
   },
   "outputs": [],
   "source": [
    "def df_corr(df, annot_=False):\n",
    "    \n",
    "    df = df.corr(method ='pearson').round(5)\n",
    "\n",
    "    # Máscara para ocultar a parte superior direita do gráfico, pois é uma duplicata\n",
    "    mask = np.zeros_like(df)\n",
    "    mask[np.triu_indices_from(mask)] = True\n",
    "\n",
    "    # Making a plot\n",
    "    plt.figure(figsize=(15,12))\n",
    "    ax = sns.heatmap(df, annot=annot_, mask=mask, cmap=\"RdBu\", annot_kws={\"weight\": \"bold\", \"fontsize\":13})\n",
    "\n",
    "    ax.set_title(\"Mapa de calor de correlação das variável\", fontsize=17)\n",
    "\n",
    "    plt.setp(ax.get_xticklabels(), \n",
    "             rotation      = 90, \n",
    "             ha            = \"right\",\n",
    "             rotation_mode = \"anchor\", \n",
    "             weight        = \"normal\")\n",
    "\n",
    "    plt.setp(ax.get_yticklabels(), \n",
    "             weight        = \"normal\",\n",
    "             rotation_mode = \"anchor\", \n",
    "             rotation      = 0, \n",
    "             ha            = \"right\");"
   ]
  },
  {
   "cell_type": "code",
   "execution_count": null,
   "metadata": {
    "ExecuteTime": {
     "end_time": "2021-12-19T01:11:38.708881Z",
     "start_time": "2021-12-19T01:11:38.694881Z"
    },
    "code_folding": [
     0
    ],
    "executionInfo": {
     "elapsed": 7,
     "status": "ok",
     "timestamp": 1639752225336,
     "user": {
      "displayName": "Rogério Delfim",
      "photoUrl": "https://lh3.googleusercontent.com/a-/AOh14Gj8lDYWTfZHU0U0sMojRPio71Ec7YDcSEpCaOEE=s64",
      "userId": "04235763959036945343"
     },
     "user_tz": 180
    },
    "id": "wtEel0-T3EDP"
   },
   "outputs": [],
   "source": [
    "def graf_outlier(df, feature):\n",
    "    col = [(0,4), (5,9)]\n",
    "\n",
    "    df_plot = ((df[feature] - df[feature].min())/\n",
    "               (df[feature].max() - df[feature].min()))\n",
    "\n",
    "    fig, ax = plt.subplots(len(col), 1, figsize=(15,7))\n",
    "\n",
    "    for i, (x) in enumerate(col): \n",
    "        sns.boxplot(data = df_plot.iloc[:, x[0]:x[1] ], ax = ax[i]); "
   ]
  },
  {
   "cell_type": "code",
   "execution_count": null,
   "metadata": {
    "ExecuteTime": {
     "end_time": "2021-12-19T01:11:38.724880Z",
     "start_time": "2021-12-19T01:11:38.710886Z"
    },
    "code_folding": [
     0
    ],
    "executionInfo": {
     "elapsed": 7,
     "status": "ok",
     "timestamp": 1639752225336,
     "user": {
      "displayName": "Rogério Delfim",
      "photoUrl": "https://lh3.googleusercontent.com/a-/AOh14Gj8lDYWTfZHU0U0sMojRPio71Ec7YDcSEpCaOEE=s64",
      "userId": "04235763959036945343"
     },
     "user_tz": 180
    },
    "id": "TxcXdVQ53EDP"
   },
   "outputs": [],
   "source": [
    "def diff(t_a, t_b):\n",
    "    from dateutil.relativedelta import relativedelta\n",
    "    t_diff = relativedelta(t_b, t_a)  # later/end time comes first!\n",
    "    return '{h}h {m}m {s}s'.format(h=t_diff.hours, m=t_diff.minutes, s=t_diff.seconds)"
   ]
  },
  {
   "cell_type": "code",
   "execution_count": null,
   "metadata": {
    "ExecuteTime": {
     "end_time": "2021-12-19T01:11:38.740909Z",
     "start_time": "2021-12-19T01:11:38.726880Z"
    },
    "code_folding": [
     0
    ],
    "executionInfo": {
     "elapsed": 8,
     "status": "ok",
     "timestamp": 1639752225337,
     "user": {
      "displayName": "Rogério Delfim",
      "photoUrl": "https://lh3.googleusercontent.com/a-/AOh14Gj8lDYWTfZHU0U0sMojRPio71Ec7YDcSEpCaOEE=s64",
      "userId": "04235763959036945343"
     },
     "user_tz": 180
    },
    "id": "ITXjrwHDJvZ7"
   },
   "outputs": [],
   "source": [
    "def free_gpu_cache():\n",
    "    \n",
    "    # https://www.kaggle.com/getting-started/140636\n",
    "    #print(\"Initial GPU Usage\")\n",
    "    #gpu_usage()                             \n",
    "\n",
    "    #cuda.select_device(0)\n",
    "    #cuda.close()\n",
    "    #cuda.select_device(0)   \n",
    "    \n",
    "    gc.collect()\n",
    "    torch.cuda.empty_cache()"
   ]
  },
  {
   "cell_type": "markdown",
   "metadata": {
    "id": "MocWXt1J3EDP"
   },
   "source": [
    "## 1.4. Dataset"
   ]
  },
  {
   "cell_type": "markdown",
   "metadata": {},
   "source": [
    "## 1.4.1. Descrição das variáveis"
   ]
  },
  {
   "cell_type": "markdown",
   "metadata": {},
   "source": [
    "A área de estudo inclui quatro áreas selvagens localizadas na Floresta Nacional Roosevelt, no norte do Colorado. Cada observação é um patch de 30m x 30m. \n",
    "\n",
    "O conjunto de treinamento (train.csv) tem 4.000.000 observações e 53 variáveis, a variáveis que vamos prever é `Cover_Type` para o conjunto de teste (test.csv) que tem 1.000.000 observações.\n",
    "\n",
    "Os sete tipos que contém a variável `Cover_Type` são:\n",
    "\n",
    "1. Spruce/Fir\n",
    "2. Lodgepole Pine\n",
    "3. Ponderosa Pine\n",
    "4. Cottonwood/Willow\n",
    "5. Aspen\n",
    "6. Douglas-fir\n",
    "7. Krummholz\n",
    "\n",
    "Variáveis do dataset:\n",
    "\n",
    "- **Elevation**: Elevação em metros;\n",
    "- **Aspect**: Aspecto em graus azimuth;\n",
    "- **Slope**: Inclinação em graus;\n",
    "- **Horizontal_Distance_To_Hydrology**: Horz Dist para variável de água de superfície mais próximos;\n",
    "- **Vertical_Distance_To_Hydrology**: Vert Dist para recursos de água de superfície mais próximos;\n",
    "- **Horizontal_Distance_To_Roadways**: Horz Dist para a estrada mais próxima;\n",
    "- **Hillshade_9am**: índice Hillshade às 9h com valores entre 0 e 255;\n",
    "- **Hillshade_Noon**: índice Hillshade ao meio-dia com valores entre 0 e 255;\n",
    "- **Hillshade_3pm**: índice Hillshade às 3pm com valores entre 0 e 255;\n",
    "- **Horizontal_Distance_To_Fire_Points**: Horz Dist para os pontos de ignição do incêndio florestal mais próximos;\n",
    "- **Wilderness_Area**: (4 colunas binárias, 0 = ausência ou 1 = presença) - Designação de área selvagem;\n",
    "- **Soil_Type**: (40 colunas binárias, 0 = ausência ou 1 = presença) - Designação do tipo de solo;\n",
    "- **Cover_Type**: (7 tipos, inteiros 1 a 7) Designação do tipo de cobertura florestal."
   ]
  },
  {
   "cell_type": "markdown",
   "metadata": {},
   "source": [
    "---"
   ]
  },
  {
   "cell_type": "markdown",
   "metadata": {
    "id": "tye_0Gh23EDQ"
   },
   "source": [
    "### 1.4.2. Carregar Dados"
   ]
  },
  {
   "cell_type": "code",
   "execution_count": 12,
   "metadata": {
    "ExecuteTime": {
     "end_time": "2021-12-19T02:10:49.852001Z",
     "start_time": "2021-12-19T02:10:49.847966Z"
    },
    "executionInfo": {
     "elapsed": 381,
     "status": "ok",
     "timestamp": 1639752298025,
     "user": {
      "displayName": "Rogério Delfim",
      "photoUrl": "https://lh3.googleusercontent.com/a-/AOh14Gj8lDYWTfZHU0U0sMojRPio71Ec7YDcSEpCaOEE=s64",
      "userId": "04235763959036945343"
     },
     "user_tz": 180
    },
    "id": "vaTHvoMk3EDQ"
   },
   "outputs": [],
   "source": [
    "path   = '' #'/content/drive/MyDrive/kaggle/Tabular Playground Series/2021/12 - Dezembro/'\n",
    "target = 'Cover_Type'"
   ]
  },
  {
   "cell_type": "code",
   "execution_count": null,
   "metadata": {
    "ExecuteTime": {
     "end_time": "2021-12-19T01:38:45.422669Z",
     "start_time": "2021-12-19T01:38:29.287551Z"
    },
    "colab": {
     "base_uri": "https://localhost:8080/"
    },
    "executionInfo": {
     "elapsed": 18400,
     "status": "ok",
     "timestamp": 1639746215349,
     "user": {
      "displayName": "Rogério Delfim",
      "photoUrl": "https://lh3.googleusercontent.com/a-/AOh14Gj8lDYWTfZHU0U0sMojRPio71Ec7YDcSEpCaOEE=s64",
      "userId": "04235763959036945343"
     },
     "user_tz": 180
    },
    "id": "BZO_GBDb3EDQ",
    "outputId": "16eb1b52-3551-4bd9-ba74-56b30d2f0335"
   },
   "outputs": [],
   "source": [
    "df1_train     = pd.read_csv(path + 'Data/train.csv')\n",
    "df1_test      = pd.read_csv(path + 'Data/test.csv')\n",
    "df_submission = pd.read_csv(path + 'Data/sample_submission.csv')\n",
    "\n",
    "df1_train.drop('Id', axis=1, inplace=True)\n",
    "df1_test.drop('Id', axis=1, inplace=True)\n",
    "\n",
    "df1_train.shape, df1_test.shape, df_submission.shape"
   ]
  },
  {
   "cell_type": "code",
   "execution_count": null,
   "metadata": {
    "ExecuteTime": {
     "end_time": "2021-12-19T01:38:45.454668Z",
     "start_time": "2021-12-19T01:38:45.424668Z"
    },
    "colab": {
     "base_uri": "https://localhost:8080/",
     "height": 270
    },
    "executionInfo": {
     "elapsed": 18,
     "status": "ok",
     "timestamp": 1639699396174,
     "user": {
      "displayName": "Rogério Delfim",
      "photoUrl": "https://lh3.googleusercontent.com/a-/AOh14Gj8lDYWTfZHU0U0sMojRPio71Ec7YDcSEpCaOEE=s64",
      "userId": "04235763959036945343"
     },
     "user_tz": 180
    },
    "id": "15l3Wg3O3EDQ",
    "outputId": "2af9df4d-e52b-4855-ecae-e053bd26ceab"
   },
   "outputs": [],
   "source": [
    "df1_train.head()"
   ]
  },
  {
   "cell_type": "code",
   "execution_count": null,
   "metadata": {
    "ExecuteTime": {
     "end_time": "2021-12-19T01:38:45.485669Z",
     "start_time": "2021-12-19T01:38:45.456675Z"
    },
    "colab": {
     "base_uri": "https://localhost:8080/",
     "height": 270
    },
    "executionInfo": {
     "elapsed": 5,
     "status": "ok",
     "timestamp": 1639699399497,
     "user": {
      "displayName": "Rogério Delfim",
      "photoUrl": "https://lh3.googleusercontent.com/a-/AOh14Gj8lDYWTfZHU0U0sMojRPio71Ec7YDcSEpCaOEE=s64",
      "userId": "04235763959036945343"
     },
     "user_tz": 180
    },
    "id": "W71Ikz803EDR",
    "outputId": "d6c5df35-0211-4d44-a998-f67cfce8a4dd"
   },
   "outputs": [],
   "source": [
    "df1_test.head()"
   ]
  },
  {
   "cell_type": "markdown",
   "metadata": {
    "id": "inpugwK4zW_q"
   },
   "source": [
    "# <div class=\"alert alert-success\"> 2. PROCESSAMENTO </div> "
   ]
  },
  {
   "cell_type": "markdown",
   "metadata": {},
   "source": [
    "Neste processo vamos fazer a exclusão de algumas variáveis e fazer redução dos dataset com a redefinição dos tipos de variáveis."
   ]
  },
  {
   "cell_type": "markdown",
   "metadata": {
    "id": "Eu3YVS_zoLBv"
   },
   "source": [
    "- Excluir variáveis\n",
    "\n",
    "Na analise observamos que as variáveis **Soil_Type7** e **Soil_Type15** não tem valores para, sendo assim, podemos fazer a exclusão. "
   ]
  },
  {
   "cell_type": "code",
   "execution_count": null,
   "metadata": {
    "ExecuteTime": {
     "end_time": "2021-12-19T01:38:45.974668Z",
     "start_time": "2021-12-19T01:38:45.488676Z"
    },
    "executionInfo": {
     "elapsed": 11,
     "status": "ok",
     "timestamp": 1639746248123,
     "user": {
      "displayName": "Rogério Delfim",
      "photoUrl": "https://lh3.googleusercontent.com/a-/AOh14Gj8lDYWTfZHU0U0sMojRPio71Ec7YDcSEpCaOEE=s64",
      "userId": "04235763959036945343"
     },
     "user_tz": 180
    },
    "id": "LrTpDVamzJvI"
   },
   "outputs": [],
   "source": [
    "df1_train.drop(['Soil_Type7','Soil_Type15'], axis=1, inplace=True)\n",
    "df1_test.drop(['Soil_Type7','Soil_Type15'], axis=1, inplace=True)"
   ]
  },
  {
   "cell_type": "markdown",
   "metadata": {
    "id": "kvEN3KLXoS1-"
   },
   "source": [
    "- Excluir algumas linhas com classe raras. "
   ]
  },
  {
   "cell_type": "code",
   "execution_count": null,
   "metadata": {
    "ExecuteTime": {
     "end_time": "2021-12-19T01:38:55.079918Z",
     "start_time": "2021-12-19T01:38:55.064906Z"
    },
    "executionInfo": {
     "elapsed": 1400,
     "status": "ok",
     "timestamp": 1639751940414,
     "user": {
      "displayName": "Rogério Delfim",
      "photoUrl": "https://lh3.googleusercontent.com/a-/AOh14Gj8lDYWTfZHU0U0sMojRPio71Ec7YDcSEpCaOEE=s64",
      "userId": "04235763959036945343"
     },
     "user_tz": 180
    },
    "id": "-5vn1mFToIgv"
   },
   "outputs": [],
   "source": [
    "#df1_train.drop(df1_train[df1_train[target]==5].index, inplace=True)\n",
    "#df1_train.drop(df1_train[df1_train[target]==4].index, inplace=True)\n",
    "#df1_train.drop(df1_train[df1_train[target]==6].index, inplace=True)\n",
    "#df1_train.drop(df1_train[df1_train[target]==7].index, inplace=True)"
   ]
  },
  {
   "cell_type": "markdown",
   "metadata": {
    "id": "U_jnnZ_TpU4y"
   },
   "source": [
    "- Redução dos datasets"
   ]
  },
  {
   "cell_type": "code",
   "execution_count": null,
   "metadata": {
    "ExecuteTime": {
     "end_time": "2021-12-19T01:39:13.008964Z",
     "start_time": "2021-12-19T01:38:56.063936Z"
    },
    "colab": {
     "base_uri": "https://localhost:8080/"
    },
    "executionInfo": {
     "elapsed": 13791,
     "status": "ok",
     "timestamp": 1639746248122,
     "user": {
      "displayName": "Rogério Delfim",
      "photoUrl": "https://lh3.googleusercontent.com/a-/AOh14Gj8lDYWTfZHU0U0sMojRPio71Ec7YDcSEpCaOEE=s64",
      "userId": "04235763959036945343"
     },
     "user_tz": 180
    },
    "id": "y86ha-dlpP3O",
    "outputId": "fcf9a7e7-77e7-4ac0-9c5b-de5d022c1aeb"
   },
   "outputs": [],
   "source": [
    "df1_train = reduce_memory_usage(df1_train)\n",
    "df1_test  = reduce_memory_usage(df1_test)"
   ]
  },
  {
   "cell_type": "markdown",
   "metadata": {},
   "source": [
    "- Vamos criar duas variáveis que armazená os tipos."
   ]
  },
  {
   "cell_type": "code",
   "execution_count": null,
   "metadata": {
    "ExecuteTime": {
     "end_time": "2021-12-19T01:39:13.134992Z",
     "start_time": "2021-12-19T01:39:13.010933Z"
    },
    "code_folding": [
     5
    ],
    "colab": {
     "base_uri": "https://localhost:8080/"
    },
    "executionInfo": {
     "elapsed": 503,
     "status": "ok",
     "timestamp": 1639746274220,
     "user": {
      "displayName": "Rogério Delfim",
      "photoUrl": "https://lh3.googleusercontent.com/a-/AOh14Gj8lDYWTfZHU0U0sMojRPio71Ec7YDcSEpCaOEE=s64",
      "userId": "04235763959036945343"
     },
     "user_tz": 180
    },
    "id": "s61-CK3Mp4u6",
    "outputId": "3870100b-53fe-4508-a2c7-1406dec40061"
   },
   "outputs": [],
   "source": [
    "feature_float = []\n",
    "feature_cat   = df1_test.filter(regex=r'Wilderness_Area').columns.to_list() + \\\n",
    "                df1_test.filter(regex=r'Soil_Type').columns.to_list()\n",
    "\n",
    "for col in df1_test.columns:\n",
    "    if col not in feature_cat: \n",
    "        feature_float.append(col)   \n",
    "\n",
    "feature_float_test = feature_float.copy()\n",
    "\n",
    "print('Temos {} variávies numéricas e {} categóricas.'.format(len(feature_float),len(feature_cat)))"
   ]
  },
  {
   "cell_type": "markdown",
   "metadata": {
    "id": "Z7yB3rGaps8w"
   },
   "source": [
    "# <div class=\"alert alert-success\"> 3. FEATURE ENGINEERING </div> "
   ]
  },
  {
   "cell_type": "markdown",
   "metadata": {
    "id": "VAPcSsCirJJA"
   },
   "source": [
    "## 3.1. Feature Descritivas \n",
    "Nesta etapa vamos criar novar variárias com medidas estatísticas."
   ]
  },
  {
   "cell_type": "code",
   "execution_count": null,
   "metadata": {
    "ExecuteTime": {
     "end_time": "2021-12-19T01:39:13.150974Z",
     "start_time": "2021-12-19T01:39:13.135934Z"
    },
    "executionInfo": {
     "elapsed": 384,
     "status": "ok",
     "timestamp": 1639746276957,
     "user": {
      "displayName": "Rogério Delfim",
      "photoUrl": "https://lh3.googleusercontent.com/a-/AOh14Gj8lDYWTfZHU0U0sMojRPio71Ec7YDcSEpCaOEE=s64",
      "userId": "04235763959036945343"
     },
     "user_tz": 180
    },
    "id": "EoqIJQSCpB42"
   },
   "outputs": [],
   "source": [
    "def feature_statistic(df, feature_float, feature_cat):\n",
    "    df['fe_mean']        = df[feature_float].mean(axis=1)   \n",
    "    df['fe_std']         = df[feature_float].std(axis=1)   \n",
    "    df['fe_median']      = df[feature_float].median(axis=1)   \n",
    "    df['fe_var']         = df[feature_float].var(axis=1) \n",
    "    df['fe_min']         = df[feature_float].min(axis=1)   \n",
    "    df['fe_max']         = df[feature_float].max(axis=1)   \n",
    "    df['fe_skew']        = df[feature_float].skew(axis=1)   \n",
    "    df['fe_quantile_25'] = df[feature_float].quantile(q=.25, axis=1)\n",
    "    df['fe_quantile_50'] = df[feature_float].quantile(q=.5, axis=1)\n",
    "    df['fe_quantile_75'] = df[feature_float].quantile(q=.75, axis=1)\n",
    "    df['fe_dammy_count'] = df[feature_cat].sum(axis=1)   \n",
    "    return df"
   ]
  },
  {
   "cell_type": "code",
   "execution_count": null,
   "metadata": {
    "ExecuteTime": {
     "end_time": "2021-12-19T01:39:21.462963Z",
     "start_time": "2021-12-19T01:39:13.152982Z"
    },
    "colab": {
     "base_uri": "https://localhost:8080/"
    },
    "executionInfo": {
     "elapsed": 4845,
     "status": "ok",
     "timestamp": 1639746283346,
     "user": {
      "displayName": "Rogério Delfim",
      "photoUrl": "https://lh3.googleusercontent.com/a-/AOh14Gj8lDYWTfZHU0U0sMojRPio71Ec7YDcSEpCaOEE=s64",
      "userId": "04235763959036945343"
     },
     "user_tz": 180
    },
    "id": "nyl45nEtpB76",
    "outputId": "5ce6bdb5-54bf-4e6b-d8b4-1180dad89b6b"
   },
   "outputs": [],
   "source": [
    "df1_train = feature_statistic(df1_train, feature_float, feature_cat)  \n",
    "df1_test  = feature_statistic(df1_test, feature_float, feature_cat)\n",
    "df1_train.shape, df1_test.shape"
   ]
  },
  {
   "cell_type": "code",
   "execution_count": null,
   "metadata": {
    "ExecuteTime": {
     "end_time": "2021-12-19T01:39:21.590971Z",
     "start_time": "2021-12-19T01:39:21.464935Z"
    },
    "colab": {
     "base_uri": "https://localhost:8080/",
     "height": 206
    },
    "executionInfo": {
     "elapsed": 6,
     "status": "ok",
     "timestamp": 1639746283346,
     "user": {
      "displayName": "Rogério Delfim",
      "photoUrl": "https://lh3.googleusercontent.com/a-/AOh14Gj8lDYWTfZHU0U0sMojRPio71Ec7YDcSEpCaOEE=s64",
      "userId": "04235763959036945343"
     },
     "user_tz": 180
    },
    "id": "PfdsPCdPpB_M",
    "outputId": "cf770f9c-52d5-4bfe-8e98-3771fac7f278"
   },
   "outputs": [],
   "source": [
    "df1_train.filter(regex=r'fe').head()"
   ]
  },
  {
   "cell_type": "markdown",
   "metadata": {
    "id": "MTXLNOxH5p4Z"
   },
   "source": [
    "## 3.2. Aspect\n",
    "\n",
    "A variável **Aspect** indica a direção e observamos na análise descritiva que a variável tem valores negativos e valores maiores que 360, sendo assim vamos ajustar os valores para a faixa entre 0 e 360, como todos os valares estão entre -360 e 720, vamos adicionar 360 aos ângulos menores que 0 e subrair 360 dos ângulos maiores que 360.\n"
   ]
  },
  {
   "cell_type": "code",
   "execution_count": null,
   "metadata": {
    "ExecuteTime": {
     "end_time": "2021-12-19T01:39:21.781994Z",
     "start_time": "2021-12-19T01:39:21.592933Z"
    },
    "executionInfo": {
     "elapsed": 6,
     "status": "ok",
     "timestamp": 1639746283347,
     "user": {
      "displayName": "Rogério Delfim",
      "photoUrl": "https://lh3.googleusercontent.com/a-/AOh14Gj8lDYWTfZHU0U0sMojRPio71Ec7YDcSEpCaOEE=s64",
      "userId": "04235763959036945343"
     },
     "user_tz": 180
    },
    "id": "j1j3WCl-zQ-y"
   },
   "outputs": [],
   "source": [
    "df1_train[\"Aspect\"][df1_train[\"Aspect\"] < 0]   += 360\n",
    "df1_train[\"Aspect\"][df1_train[\"Aspect\"] > 359] -= 360\n",
    "\n",
    "df1_test[\"Aspect\"][df1_test[\"Aspect\"] < 0]   += 360\n",
    "df1_test[\"Aspect\"][df1_test[\"Aspect\"] > 359] -= 360"
   ]
  },
  {
   "cell_type": "markdown",
   "metadata": {
    "id": "IPbq8cy48dIy"
   },
   "source": [
    "## 3.3. Feature baseada em distância\n",
    "\n",
    "Temos as seguintes variáveis baseadas em distância: \n",
    "- Horizontal_Distance_To_Hydrology\n",
    "- Vertical_Distance_To_Hydrology\n",
    "- Horizontal_Distance_To_Roadways\n",
    "- Horizontal_Distance_To_Fire_Points\n",
    "\n",
    "Em primeiro lugar vamos renomear essas vriáveis e vamos criar novas variáveis.\n",
    "\n",
    "\n",
    "\n"
   ]
  },
  {
   "cell_type": "code",
   "execution_count": null,
   "metadata": {
    "ExecuteTime": {
     "end_time": "2021-12-19T01:39:21.797999Z",
     "start_time": "2021-12-19T01:39:21.783936Z"
    },
    "executionInfo": {
     "elapsed": 1,
     "status": "ok",
     "timestamp": 1639746284943,
     "user": {
      "displayName": "Rogério Delfim",
      "photoUrl": "https://lh3.googleusercontent.com/a-/AOh14Gj8lDYWTfZHU0U0sMojRPio71Ec7YDcSEpCaOEE=s64",
      "userId": "04235763959036945343"
     },
     "user_tz": 180
    },
    "id": "9sWkxdvRbn2Y"
   },
   "outputs": [],
   "source": [
    "new_names = {'Horizontal_Distance_To_Hydrology'   : 'x_dist_hydrlgy',\n",
    "             'Vertical_Distance_To_Hydrology'     : 'y_dist_hydrlgy',\n",
    "             'Horizontal_Distance_To_Roadways'    : 'x_dist_rdwys',\n",
    "             'Horizontal_Distance_To_Fire_Points' : 'x_dist_firepts'}\n",
    "\n",
    "df1_train.rename(new_names, axis=1, inplace=True)\n",
    "df1_test.rename(new_names, axis=1, inplace=True)"
   ]
  },
  {
   "cell_type": "code",
   "execution_count": null,
   "metadata": {
    "ExecuteTime": {
     "end_time": "2021-12-19T01:39:21.813934Z",
     "start_time": "2021-12-19T01:39:21.799936Z"
    }
   },
   "outputs": [],
   "source": [
    "feature_float.remove('Horizontal_Distance_To_Hydrology')\n",
    "feature_float.remove('Vertical_Distance_To_Hydrology')\n",
    "feature_float.remove('Horizontal_Distance_To_Roadways')\n",
    "feature_float.remove('Horizontal_Distance_To_Fire_Points')\n",
    "\n",
    "feature_float.append('x_dist_hydrlgy')\n",
    "feature_float.append('y_dist_hydrlgy')\n",
    "feature_float.append('x_dist_rdwys')\n",
    "feature_float.append('x_dist_firepts')"
   ]
  },
  {
   "cell_type": "code",
   "execution_count": null,
   "metadata": {
    "ExecuteTime": {
     "end_time": "2021-12-19T01:39:21.830003Z",
     "start_time": "2021-12-19T01:39:21.815933Z"
    },
    "executionInfo": {
     "elapsed": 2,
     "status": "ok",
     "timestamp": 1639746287166,
     "user": {
      "displayName": "Rogério Delfim",
      "photoUrl": "https://lh3.googleusercontent.com/a-/AOh14Gj8lDYWTfZHU0U0sMojRPio71Ec7YDcSEpCaOEE=s64",
      "userId": "04235763959036945343"
     },
     "user_tz": 180
    },
    "id": "tMRpkqdyCTyk"
   },
   "outputs": [],
   "source": [
    "def feature_distance(df):\n",
    "    \n",
    "    df['fe_Hydro_Fire_1'] = abs(df['x_dist_hydrlgy'] + df['x_dist_firepts'])    \n",
    "    df['fe_Hydro_Fire_2'] = abs(df['x_dist_hydrlgy'] - df['x_dist_firepts'])    \n",
    "    df['fe_Hydro_Road_1'] = abs(df['x_dist_hydrlgy'] + df['x_dist_rdwys'])    \n",
    "    df['fe_Hydro_Road_2'] = abs(df['x_dist_hydrlgy'] - df['x_dist_rdwys'])    \n",
    "    df['fe_Fire_Road_1']  = abs(df['x_dist_firepts'] + df['x_dist_rdwys'])    \n",
    "    df['fe_Fire_Road_2']  = abs(df['x_dist_firepts'] - df['x_dist_rdwys'])\n",
    "    \n",
    "    #  Manhhattan distance\n",
    "    df['fe_dist_manh_hydrlgy'] = 1+abs(df['x_dist_hydrlgy']) + np.abs(df['y_dist_hydrlgy'])\n",
    "    df['fe_dist_manh_hydrlgy'] = 1+abs(df['x_dist_hydrlgy']) + np.abs(df['y_dist_hydrlgy'])\n",
    "    \n",
    "    # Euclidean distance to Hydrology\n",
    "    df[\"fe_dist_ecldn_hydrlgy\"] = 1+abs(df[\"x_dist_hydrlgy\"]**2 + df[\"y_dist_hydrlgy\"]**2)**0.5\n",
    "    df[\"fe_dist_ecldn_hydrlgy\"] = 1+abs(df[\"x_dist_hydrlgy\"]**2 + df[\"y_dist_hydrlgy\"]**2)**0.5\n",
    "\n",
    "    df['fe_dist_ecldn_hydrlgy'][df[\"fe_dist_ecldn_hydrlgy\"].isnull()]= df['fe_dist_ecldn_hydrlgy'].median()\n",
    "    \n",
    "    return df"
   ]
  },
  {
   "cell_type": "code",
   "execution_count": null,
   "metadata": {
    "ExecuteTime": {
     "end_time": "2021-12-19T01:39:27.154736Z",
     "start_time": "2021-12-19T01:39:26.452926Z"
    },
    "executionInfo": {
     "elapsed": 374,
     "status": "ok",
     "timestamp": 1639746292382,
     "user": {
      "displayName": "Rogério Delfim",
      "photoUrl": "https://lh3.googleusercontent.com/a-/AOh14Gj8lDYWTfZHU0U0sMojRPio71Ec7YDcSEpCaOEE=s64",
      "userId": "04235763959036945343"
     },
     "user_tz": 180
    },
    "id": "Y-NS81bSzRCs"
   },
   "outputs": [],
   "source": [
    "df1_train = feature_distance(df1_train) \n",
    "df1_test  = feature_distance(df1_test) "
   ]
  },
  {
   "cell_type": "code",
   "execution_count": null,
   "metadata": {
    "ExecuteTime": {
     "end_time": "2021-12-19T01:39:27.784700Z",
     "start_time": "2021-12-19T01:39:27.765703Z"
    },
    "colab": {
     "base_uri": "https://localhost:8080/",
     "height": 226
    },
    "executionInfo": {
     "elapsed": 3,
     "status": "ok",
     "timestamp": 1639746294011,
     "user": {
      "displayName": "Rogério Delfim",
      "photoUrl": "https://lh3.googleusercontent.com/a-/AOh14Gj8lDYWTfZHU0U0sMojRPio71Ec7YDcSEpCaOEE=s64",
      "userId": "04235763959036945343"
     },
     "user_tz": 180
    },
    "id": "IfeFlNpPxfsm",
    "outputId": "8ae603dc-eef3-47ea-eacc-c56a0022d354"
   },
   "outputs": [],
   "source": [
    "df1_train.head().filter(regex=r'fe')"
   ]
  },
  {
   "cell_type": "markdown",
   "metadata": {
    "id": "MHSi0QRXzUBn"
   },
   "source": [
    "## 3.4. Hillshade"
   ]
  },
  {
   "cell_type": "markdown",
   "metadata": {
    "id": "yqQKNsMJc9Yo"
   },
   "source": [
    "Uma rápida pesquisa no Google sobre Hillshade leva ao seguinte resultado:\n",
    "\n",
    "> O Hillshading calcula a iluminação da superfície como valores de 0 a 255 com base em uma determinada direção da bússola para o sol (azimute) e uma certa altitude acima do horizonte (altitude). Hillshades são freqüentemente usados ​​para produzir mapas que são visualmente atraentes.\n",
    "\n",
    "Assim, a sombra de colina é uma representação 3D de um terreno que é usada para obter uma visão sobre sua forma medindo a luminosidade de certos trechos desse terreno que resulta quando uma fonte de luz é lançada em um determinado ângulo.\n",
    "\n",
    "Em ambos os conjuntos de dados (treino e teste), existem certas observações com valor de sombra superior a 255 ou inferior a 0. Eles devem ser o resultado de um erro de registro e devem ser recolocados com um valor apropriado. Talvez, valores menores que 0 se refiram ao tom mais escuro e substituí-los por 0 deve ser adequado. Da mesma forma, podemos supor que os valores de tom de colina acima de 255 se referem aos tons mais brilhantes e um valor de 255 deve ser uma boa substituição."
   ]
  },
  {
   "cell_type": "code",
   "execution_count": null,
   "metadata": {
    "ExecuteTime": {
     "end_time": "2021-12-19T01:39:30.069848Z",
     "start_time": "2021-12-19T01:39:30.050811Z"
    },
    "executionInfo": {
     "elapsed": 514,
     "status": "ok",
     "timestamp": 1639746297430,
     "user": {
      "displayName": "Rogério Delfim",
      "photoUrl": "https://lh3.googleusercontent.com/a-/AOh14Gj8lDYWTfZHU0U0sMojRPio71Ec7YDcSEpCaOEE=s64",
      "userId": "04235763959036945343"
     },
     "user_tz": 180
    },
    "id": "xgfQ5pnScZYY"
   },
   "outputs": [],
   "source": [
    "def feature_Hillshade(df):        \n",
    "    df.loc[df[\"Hillshade_9am\"]  < 0, \"Hillshade_9am\"]     = 0\n",
    "    df.loc[df[\"Hillshade_Noon\"] < 0, \"Hillshade_Noon\"]    = 0\n",
    "    df.loc[df[\"Hillshade_3pm\"]  < 0, \"Hillshade_3pm\"]     = 0\n",
    "    df.loc[df[\"Hillshade_9am\"]  > 255, \"Hillshade_9am\"]   = 255\n",
    "    df.loc[df[\"Hillshade_Noon\"] > 255, \"Hillshade_Noon\"]  = 255\n",
    "    df.loc[df[\"Hillshade_3pm\"]  > 255, \"Hillshade_3pm\"]   = 255   \n",
    "    return df"
   ]
  },
  {
   "cell_type": "code",
   "execution_count": null,
   "metadata": {
    "ExecuteTime": {
     "end_time": "2021-12-19T01:39:30.872899Z",
     "start_time": "2021-12-19T01:39:30.774899Z"
    },
    "executionInfo": {
     "elapsed": 452,
     "status": "ok",
     "timestamp": 1639746298328,
     "user": {
      "displayName": "Rogério Delfim",
      "photoUrl": "https://lh3.googleusercontent.com/a-/AOh14Gj8lDYWTfZHU0U0sMojRPio71Ec7YDcSEpCaOEE=s64",
      "userId": "04235763959036945343"
     },
     "user_tz": 180
    },
    "id": "-A7hvPYfnNvN"
   },
   "outputs": [],
   "source": [
    "df1_train = feature_Hillshade(df1_train)\n",
    "df1_test  = feature_Hillshade(df1_test)"
   ]
  },
  {
   "cell_type": "markdown",
   "metadata": {
    "id": "6H09N_ce7zTj"
   },
   "source": [
    "## 3.5. Soil_Type \n",
    "Vamos criar novas variáveis com o somatório dos tipo de solos."
   ]
  },
  {
   "cell_type": "code",
   "execution_count": null,
   "metadata": {
    "ExecuteTime": {
     "end_time": "2021-12-19T01:39:32.146958Z",
     "start_time": "2021-12-19T01:39:32.130949Z"
    },
    "executionInfo": {
     "elapsed": 433,
     "status": "ok",
     "timestamp": 1639746301038,
     "user": {
      "displayName": "Rogério Delfim",
      "photoUrl": "https://lh3.googleusercontent.com/a-/AOh14Gj8lDYWTfZHU0U0sMojRPio71Ec7YDcSEpCaOEE=s64",
      "userId": "04235763959036945343"
     },
     "user_tz": 180
    },
    "id": "b9gKTIIq8eIe"
   },
   "outputs": [],
   "source": [
    "def feature_Soil_type(df):    \n",
    "    df['fe_soil_type_sum']        = df.filter(regex=r'Soil_Type').sum(axis=1)\n",
    "    df['fe_Soil_Type12_32']       = df['Soil_Type32'] + df['Soil_Type12']\n",
    "    df['fe_Soil_Type23_22_32_33'] = df['Soil_Type23'] + df['Soil_Type22'] + \\\n",
    "                                    df['Soil_Type32'] + df['Soil_Type33']    \n",
    "    return df"
   ]
  },
  {
   "cell_type": "code",
   "execution_count": null,
   "metadata": {
    "ExecuteTime": {
     "end_time": "2021-12-19T01:39:33.644738Z",
     "start_time": "2021-12-19T01:39:32.825716Z"
    },
    "executionInfo": {
     "elapsed": 2,
     "status": "ok",
     "timestamp": 1639746302360,
     "user": {
      "displayName": "Rogério Delfim",
      "photoUrl": "https://lh3.googleusercontent.com/a-/AOh14Gj8lDYWTfZHU0U0sMojRPio71Ec7YDcSEpCaOEE=s64",
      "userId": "04235763959036945343"
     },
     "user_tz": 180
    },
    "id": "6rAGz8itjJw0"
   },
   "outputs": [],
   "source": [
    "df1_train = feature_Soil_type(df1_train)\n",
    "df1_test  = feature_Soil_type(df1_test)"
   ]
  },
  {
   "cell_type": "code",
   "execution_count": null,
   "metadata": {
    "ExecuteTime": {
     "end_time": "2021-12-19T01:39:34.024703Z",
     "start_time": "2021-12-19T01:39:33.646737Z"
    }
   },
   "outputs": [],
   "source": [
    "df1_train.filter(regex=r'fe').head()"
   ]
  },
  {
   "cell_type": "markdown",
   "metadata": {
    "id": "Ha9xq2N_8jU9"
   },
   "source": [
    "## 3.6. Hillshade "
   ]
  },
  {
   "cell_type": "code",
   "execution_count": null,
   "metadata": {
    "ExecuteTime": {
     "end_time": "2021-12-19T01:39:36.194708Z",
     "start_time": "2021-12-19T01:39:36.069542Z"
    },
    "executionInfo": {
     "elapsed": 2,
     "status": "ok",
     "timestamp": 1639746304627,
     "user": {
      "displayName": "Rogério Delfim",
      "photoUrl": "https://lh3.googleusercontent.com/a-/AOh14Gj8lDYWTfZHU0U0sMojRPio71Ec7YDcSEpCaOEE=s64",
      "userId": "04235763959036945343"
     },
     "user_tz": 180
    },
    "id": "KFosqy-a4AoS"
   },
   "outputs": [],
   "source": [
    "df1_train['fe_hillshade_mean'] = df1_train.filter(regex=r'Hillshade').mean(axis=1)\n",
    "df1_test['fe_hillshade_mean']  = df1_test.filter(regex=r'Hillshade').mean(axis=1)"
   ]
  },
  {
   "cell_type": "markdown",
   "metadata": {
    "id": "4h8OmJ9B8p3D"
   },
   "source": [
    "## 3.7. Wilderness_Area"
   ]
  },
  {
   "cell_type": "code",
   "execution_count": null,
   "metadata": {
    "ExecuteTime": {
     "end_time": "2021-12-19T01:39:38.843865Z",
     "start_time": "2021-12-19T01:39:38.521860Z"
    },
    "executionInfo": {
     "elapsed": 2,
     "status": "ok",
     "timestamp": 1639746307605,
     "user": {
      "displayName": "Rogério Delfim",
      "photoUrl": "https://lh3.googleusercontent.com/a-/AOh14Gj8lDYWTfZHU0U0sMojRPio71Ec7YDcSEpCaOEE=s64",
      "userId": "04235763959036945343"
     },
     "user_tz": 180
    },
    "id": "JetbnSqA8oFN"
   },
   "outputs": [],
   "source": [
    "df1_train['fe_wilderness_area_sum'] = df1_train.filter(regex=r'Wilderness_Area').sum(axis=1)\n",
    "df1_test['fe_wilderness_area_sum']  = df1_test.filter(regex=r'Wilderness_Area').sum(axis=1)"
   ]
  },
  {
   "cell_type": "code",
   "execution_count": null,
   "metadata": {
    "ExecuteTime": {
     "end_time": "2021-12-19T01:39:39.519820Z",
     "start_time": "2021-12-19T01:39:39.469791Z"
    },
    "executionInfo": {
     "elapsed": 2,
     "status": "ok",
     "timestamp": 1639746308549,
     "user": {
      "displayName": "Rogério Delfim",
      "photoUrl": "https://lh3.googleusercontent.com/a-/AOh14Gj8lDYWTfZHU0U0sMojRPio71Ec7YDcSEpCaOEE=s64",
      "userId": "04235763959036945343"
     },
     "user_tz": 180
    },
    "id": "Ii11C4P1nNvO"
   },
   "outputs": [],
   "source": [
    "df1_train['fe_EVDtH'] = df1_train.Elevation-df1_train.y_dist_hydrlgy\n",
    "df1_test['fe_EVDtH']  = df1_test.Elevation-df1_test.y_dist_hydrlgy\n",
    "\n",
    "df1_train['fe_EHDtH'] = df1_train.Elevation-df1_train.x_dist_hydrlgy*0.2\n",
    "df1_test['fe_EHDtH']  = df1_test.Elevation-df1_test.x_dist_hydrlgy*0.2"
   ]
  },
  {
   "cell_type": "markdown",
   "metadata": {
    "id": "hXIh9NTUgiNL"
   },
   "source": [
    "## 3.9. Elevation"
   ]
  },
  {
   "cell_type": "code",
   "execution_count": null,
   "metadata": {
    "ExecuteTime": {
     "end_time": "2021-12-19T01:39:57.355072Z",
     "start_time": "2021-12-19T01:39:55.251866Z"
    },
    "executionInfo": {
     "elapsed": 2971,
     "status": "ok",
     "timestamp": 1639746315591,
     "user": {
      "displayName": "Rogério Delfim",
      "photoUrl": "https://lh3.googleusercontent.com/a-/AOh14Gj8lDYWTfZHU0U0sMojRPio71Ec7YDcSEpCaOEE=s64",
      "userId": "04235763959036945343"
     },
     "user_tz": 180
    },
    "id": "5koeC84TgIiH"
   },
   "outputs": [],
   "source": [
    "df1_train['fe_binned_elevation'] = [math.floor(v/50.0) for v in df1_train['Elevation']]\n",
    "df1_test['fe_binned_elevation']  = [math.floor(v/50.0) for v in df1_test['Elevation']]"
   ]
  },
  {
   "cell_type": "markdown",
   "metadata": {},
   "source": [
    "Agora vamos fazer uma reducao nos datasets."
   ]
  },
  {
   "cell_type": "code",
   "execution_count": null,
   "metadata": {
    "ExecuteTime": {
     "end_time": "2021-12-19T01:40:00.294074Z",
     "start_time": "2021-12-19T01:39:58.484047Z"
    }
   },
   "outputs": [],
   "source": [
    "df1_train = reduce_memory_usage(df1_train)\n",
    "df1_test  = reduce_memory_usage(df1_test)"
   ]
  },
  {
   "cell_type": "code",
   "execution_count": null,
   "metadata": {
    "ExecuteTime": {
     "end_time": "2021-12-19T01:40:17.444665Z",
     "start_time": "2021-12-19T01:40:00.998063Z"
    },
    "colab": {
     "base_uri": "https://localhost:8080/"
    },
    "executionInfo": {
     "elapsed": 43152,
     "status": "ok",
     "timestamp": 1639746367632,
     "user": {
      "displayName": "Rogério Delfim",
      "photoUrl": "https://lh3.googleusercontent.com/a-/AOh14Gj8lDYWTfZHU0U0sMojRPio71Ec7YDcSEpCaOEE=s64",
      "userId": "04235763959036945343"
     },
     "user_tz": 180
    },
    "id": "PEEDN35ys_Hl",
    "outputId": "ee5dc1b2-1a83-45bf-aba2-43bd91cb48f8"
   },
   "outputs": [],
   "source": [
    "jb.dump(df1_train, path + 'Data/pkl/df_train_fe.pkl.z')\n",
    "jb.dump(df1_test, path + 'Data/pkl/df_test_fe.pkl.z')"
   ]
  },
  {
   "cell_type": "markdown",
   "metadata": {},
   "source": [
    "Vamos ver se gerou missing."
   ]
  },
  {
   "cell_type": "code",
   "execution_count": null,
   "metadata": {
    "ExecuteTime": {
     "end_time": "2021-12-19T01:40:18.429686Z",
     "start_time": "2021-12-19T01:40:17.446670Z"
    }
   },
   "outputs": [],
   "source": [
    "missing_zero_values_table(df1_train)"
   ]
  },
  {
   "cell_type": "markdown",
   "metadata": {},
   "source": [
    "## 3.10 Gerar PCA\n",
    "Nesta etapa vamos utilizar a PCA para gerar novas variáveis para os modelos.\n"
   ]
  },
  {
   "cell_type": "code",
   "execution_count": null,
   "metadata": {
    "ExecuteTime": {
     "end_time": "2021-12-19T01:40:51.798533Z",
     "start_time": "2021-12-19T01:40:34.579535Z"
    }
   },
   "outputs": [],
   "source": [
    "#%%time\n",
    "feature_pca   = feature_float+feature_cat\n",
    "pca           = PCA(random_state=12359)\n",
    "df1_train_pca = pca.fit_transform(df1_train[feature_pca])\n",
    "\n",
    "skplt.decomposition.plot_pca_component_variance(pca, figsize=(8,6));"
   ]
  },
  {
   "cell_type": "code",
   "execution_count": null,
   "metadata": {
    "ExecuteTime": {
     "end_time": "2021-12-19T01:40:51.972533Z",
     "start_time": "2021-12-19T01:40:51.800533Z"
    }
   },
   "outputs": [],
   "source": [
    "#check for optimal number of features\n",
    "\n",
    "features = range(pca.n_components_)\n",
    "\n",
    "plt.figure(figsize=(8,4))\n",
    "plt.bar(features[:15], pca.explained_variance_[:15], color='lightskyblue')\n",
    "plt.xlabel('PCA feature')\n",
    "plt.ylabel('Variance')\n",
    "plt.xticks(features[:15])\n",
    "plt.show()"
   ]
  },
  {
   "cell_type": "code",
   "execution_count": null,
   "metadata": {
    "ExecuteTime": {
     "end_time": "2021-12-19T01:41:13.647841Z",
     "start_time": "2021-12-19T01:40:51.973534Z"
    }
   },
   "outputs": [],
   "source": [
    "n_components  = 2\n",
    "pca           = PCA(n_components=n_components, random_state=123)\n",
    "pca_feats     = [f'fe_pca_{i}' for i in range(n_components)]\n",
    "\n",
    "df1_train[pca_feats] = pd.DataFrame(pca.fit_transform(df1_train[feature_pca]))\n",
    "df1_test[pca_feats]  = pd.DataFrame(pca.fit_transform(df1_test[feature_pca]))"
   ]
  },
  {
   "cell_type": "markdown",
   "metadata": {
    "id": "p9rO7VbTmvpG"
   },
   "source": [
    "## 3.11 Clustering"
   ]
  },
  {
   "cell_type": "code",
   "execution_count": null,
   "metadata": {
    "ExecuteTime": {
     "end_time": "2021-12-19T01:54:33.929160Z",
     "start_time": "2021-12-19T01:54:33.654754Z"
    }
   },
   "outputs": [],
   "source": [
    "df_train_scaler = scaler_MaxAbsScaler_StandardScaler(df1_train[pca_feats])\n",
    "df_test_scaler  = scaler_MaxAbsScaler_StandardScaler(df1_test[pca_feats])"
   ]
  },
  {
   "cell_type": "code",
   "execution_count": null,
   "metadata": {
    "ExecuteTime": {
     "end_time": "2021-12-19T02:02:21.034476Z",
     "start_time": "2021-12-19T02:02:21.022474Z"
    }
   },
   "outputs": [],
   "source": [
    "#https://realpython.com/k-means-clustering-python/\n",
    "#https://scikit-learn.org/stable/auto_examples/cluster/plot_kmeans_silhouette_analysis.html#sphx-glr-auto-examples-cluster-plot-kmeans-silhouette-analysis-py\n"
   ]
  },
  {
   "cell_type": "code",
   "execution_count": null,
   "metadata": {
    "ExecuteTime": {
     "end_time": "2021-12-19T02:02:21.019474Z",
     "start_time": "2021-12-19T01:54:55.429271Z"
    },
    "colab": {
     "base_uri": "https://localhost:8080/",
     "height": 493
    },
    "executionInfo": {
     "elapsed": 1180622,
     "status": "ok",
     "timestamp": 1639748066498,
     "user": {
      "displayName": "Rogério Delfim",
      "photoUrl": "https://lh3.googleusercontent.com/a-/AOh14Gj8lDYWTfZHU0U0sMojRPio71Ec7YDcSEpCaOEE=s64",
      "userId": "04235763959036945343"
     },
     "user_tz": 180
    },
    "id": "4g8-UWaelnYZ",
    "outputId": "c07925cf-5797-4be6-b72b-fdce32ba12cb"
   },
   "outputs": [],
   "source": [
    "%%time \n",
    "plt.figure(figsize=(12, 7))\n",
    "visualizer_1 = KElbowVisualizer(KMeans(random_state=12359), k=(2,10))\n",
    "visualizer_1.fit(df_train_scaler);\n",
    "visualizer_1.poof();"
   ]
  },
  {
   "cell_type": "code",
   "execution_count": null,
   "metadata": {
    "ExecuteTime": {
     "end_time": "2021-12-19T02:04:20.986504Z",
     "start_time": "2021-12-19T02:03:53.854425Z"
    },
    "colab": {
     "base_uri": "https://localhost:8080/"
    },
    "executionInfo": {
     "elapsed": 96702,
     "status": "ok",
     "timestamp": 1639748163197,
     "user": {
      "displayName": "Rogério Delfim",
      "photoUrl": "https://lh3.googleusercontent.com/a-/AOh14Gj8lDYWTfZHU0U0sMojRPio71Ec7YDcSEpCaOEE=s64",
      "userId": "04235763959036945343"
     },
     "user_tz": 180
    },
    "id": "6DmRKHDonxC9",
    "outputId": "90642860-d354-450a-fd68-f69e9d0bac23"
   },
   "outputs": [],
   "source": [
    "model_kmeans = KMeans(n_clusters=4, random_state=12359)\n",
    "model_kmeans.fit(df_train_scaler);\n",
    "\n",
    "clusters_train = model_kmeans.predict(df_train_scaler)\n",
    "clusters_test  = model_kmeans.predict(df_test_scaler)\n",
    "\n",
    "df1_train['fe_cluster'] = clusters_train\n",
    "df1_test['fe_cluster']  = clusters_test\n",
    "\n",
    "df1_train.shape, df1_test.shape"
   ]
  },
  {
   "cell_type": "code",
   "execution_count": null,
   "metadata": {
    "ExecuteTime": {
     "end_time": "2021-12-19T02:04:21.002505Z",
     "start_time": "2021-12-19T02:04:20.988507Z"
    },
    "colab": {
     "base_uri": "https://localhost:8080/",
     "height": 226
    },
    "executionInfo": {
     "elapsed": 59453,
     "status": "ok",
     "timestamp": 1639746701303,
     "user": {
      "displayName": "Rogério Delfim",
      "photoUrl": "https://lh3.googleusercontent.com/a-/AOh14Gj8lDYWTfZHU0U0sMojRPio71Ec7YDcSEpCaOEE=s64",
      "userId": "04235763959036945343"
     },
     "user_tz": 180
    },
    "id": "jocmobvcu5FD",
    "outputId": "0c4859d3-3775-4d27-b337-2978af41cef8"
   },
   "outputs": [],
   "source": [
    "del df_train_scaler, df_test_scaler"
   ]
  },
  {
   "cell_type": "code",
   "execution_count": null,
   "metadata": {
    "ExecuteTime": {
     "end_time": "2021-12-19T02:04:22.546537Z",
     "start_time": "2021-12-19T02:04:21.004509Z"
    },
    "colab": {
     "base_uri": "https://localhost:8080/"
    },
    "executionInfo": {
     "elapsed": 1013,
     "status": "ok",
     "timestamp": 1639748164201,
     "user": {
      "displayName": "Rogério Delfim",
      "photoUrl": "https://lh3.googleusercontent.com/a-/AOh14Gj8lDYWTfZHU0U0sMojRPio71Ec7YDcSEpCaOEE=s64",
      "userId": "04235763959036945343"
     },
     "user_tz": 180
    },
    "id": "V-CN7b9t2mrt",
    "outputId": "48d32cb6-1d24-417b-cb71-43e2fe44ea66"
   },
   "outputs": [],
   "source": [
    "df1_train = pd.get_dummies(df1_train, columns=['fe_cluster'])\n",
    "df1_test = pd.get_dummies(df1_test, columns=['fe_cluster'])\n",
    "\n",
    "df1_train.shape, df1_test.shape"
   ]
  },
  {
   "cell_type": "code",
   "execution_count": null,
   "metadata": {
    "ExecuteTime": {
     "end_time": "2021-12-19T02:04:22.609546Z",
     "start_time": "2021-12-19T02:04:22.549538Z"
    },
    "colab": {
     "base_uri": "https://localhost:8080/",
     "height": 226
    },
    "executionInfo": {
     "elapsed": 5,
     "status": "ok",
     "timestamp": 1639748164202,
     "user": {
      "displayName": "Rogério Delfim",
      "photoUrl": "https://lh3.googleusercontent.com/a-/AOh14Gj8lDYWTfZHU0U0sMojRPio71Ec7YDcSEpCaOEE=s64",
      "userId": "04235763959036945343"
     },
     "user_tz": 180
    },
    "id": "BWW8Blgh1yH2",
    "outputId": "8f06a226-9755-4c6b-d425-057f1a0b22e6"
   },
   "outputs": [],
   "source": [
    "df1_train.head()"
   ]
  },
  {
   "cell_type": "code",
   "execution_count": null,
   "metadata": {
    "ExecuteTime": {
     "end_time": "2021-12-19T02:04:43.404193Z",
     "start_time": "2021-12-19T02:04:22.611525Z"
    },
    "colab": {
     "base_uri": "https://localhost:8080/"
    },
    "executionInfo": {
     "elapsed": 51662,
     "status": "ok",
     "timestamp": 1639748215861,
     "user": {
      "displayName": "Rogério Delfim",
      "photoUrl": "https://lh3.googleusercontent.com/a-/AOh14Gj8lDYWTfZHU0U0sMojRPio71Ec7YDcSEpCaOEE=s64",
      "userId": "04235763959036945343"
     },
     "user_tz": 180
    },
    "id": "dpfdmsqYvXC8",
    "outputId": "2664138e-6eed-4aaf-cb4e-282c221f8a00"
   },
   "outputs": [],
   "source": [
    "jb.dump(df1_train, path + \"Data/pkl/df2_nb_02_train.pkl.z\")\n",
    "jb.dump(df1_test,  path + \"Data/pkl/df2_nb_02_test.pkl.z\")\n",
    "\n",
    "gc.collect()"
   ]
  },
  {
   "cell_type": "markdown",
   "metadata": {
    "id": "kb33vqgu3vjl"
   },
   "source": [
    "# <div class=\"alert alert-success\"> 6. Split Train/Test </div>"
   ]
  },
  {
   "cell_type": "code",
   "execution_count": 13,
   "metadata": {
    "ExecuteTime": {
     "end_time": "2021-12-19T02:11:08.635872Z",
     "start_time": "2021-12-19T02:11:01.096403Z"
    },
    "colab": {
     "base_uri": "https://localhost:8080/"
    },
    "executionInfo": {
     "elapsed": 10473,
     "status": "ok",
     "timestamp": 1639752318941,
     "user": {
      "displayName": "Rogério Delfim",
      "photoUrl": "https://lh3.googleusercontent.com/a-/AOh14Gj8lDYWTfZHU0U0sMojRPio71Ec7YDcSEpCaOEE=s64",
      "userId": "04235763959036945343"
     },
     "user_tz": 180
    },
    "id": "31wv4uNf3ugf",
    "outputId": "8f410c4e-a8fc-4fda-dd9c-ab91e44d14eb"
   },
   "outputs": [
    {
     "data": {
      "text/plain": [
       "((3999999, 86), (1000000, 85))"
      ]
     },
     "execution_count": 13,
     "metadata": {},
     "output_type": "execute_result"
    }
   ],
   "source": [
    "df2_train     = jb.load(path+ 'Data/pkl/df2_nb_02_train.pkl.z')\n",
    "df2_test      = jb.load(path+ 'Data/pkl/df2_nb_02_test.pkl.z')\n",
    "df_submission = pd.read_csv(path + 'Data/sample_submission.csv')\n",
    "df2_train.drop(df2_train[df2_train[target]==5].index, inplace=True)\n",
    "\n",
    "df2_train.shape, df2_test.shape"
   ]
  },
  {
   "cell_type": "code",
   "execution_count": 14,
   "metadata": {
    "ExecuteTime": {
     "end_time": "2021-12-19T02:11:17.478942Z",
     "start_time": "2021-12-19T02:11:13.877949Z"
    },
    "colab": {
     "base_uri": "https://localhost:8080/"
    },
    "executionInfo": {
     "elapsed": 2766,
     "status": "ok",
     "timestamp": 1639752334249,
     "user": {
      "displayName": "Rogério Delfim",
      "photoUrl": "https://lh3.googleusercontent.com/a-/AOh14Gj8lDYWTfZHU0U0sMojRPio71Ec7YDcSEpCaOEE=s64",
      "userId": "04235763959036945343"
     },
     "user_tz": 180
    },
    "id": "yahjxjrH37nM",
    "outputId": "339f6170-b918-4312-fc36-eae86919c835"
   },
   "outputs": [
    {
     "data": {
      "text/plain": [
       "((3199999, 85), (3199999,), (800000, 85), (800000,))"
      ]
     },
     "execution_count": 14,
     "metadata": {},
     "output_type": "execute_result"
    }
   ],
   "source": [
    "X      = df2_train.drop([target], axis=1)\n",
    "y      = df2_train[target]\n",
    "X_test = df2_test\n",
    "\n",
    "X_train, X_valid, y_train, y_valid = train_test_split(X, y, \n",
    "                                                      test_size    = 0.2,\n",
    "                                                      shuffle      = True, \n",
    "                                                      #stratify     = y,\n",
    "                                                      random_state = 0)\n",
    "del df2_train , df2_test\n",
    "\n",
    "X_train.shape, y_train.shape, X_valid.shape, y_valid.shape "
   ]
  },
  {
   "cell_type": "markdown",
   "metadata": {
    "id": "7ILYd_SJ5gIa"
   },
   "source": [
    "# <div class=\"alert alert-success\"> 7. Modelagem </div>"
   ]
  },
  {
   "cell_type": "code",
   "execution_count": 15,
   "metadata": {
    "ExecuteTime": {
     "end_time": "2021-12-19T02:11:21.935823Z",
     "start_time": "2021-12-19T02:11:21.916860Z"
    },
    "executionInfo": {
     "elapsed": 396,
     "status": "ok",
     "timestamp": 1639752353607,
     "user": {
      "displayName": "Rogério Delfim",
      "photoUrl": "https://lh3.googleusercontent.com/a-/AOh14Gj8lDYWTfZHU0U0sMojRPio71Ec7YDcSEpCaOEE=s64",
      "userId": "04235763959036945343"
     },
     "user_tz": 180
    },
    "id": "PcgFDBz837sn"
   },
   "outputs": [],
   "source": [
    "def cross_val_model(model_, model_name_, X_, y_, X_test_, target_, scalers_, fold_=5, path_='', \n",
    "                    seed_=12359, feature_scaler_=None, print_report_=False):\n",
    "    \n",
    "    n_estimators = model_.get_params()['n_estimators']\n",
    "         \n",
    "    \n",
    "    valid_preds  = {}\n",
    "    taco         = 76 \n",
    "    acc_best     = 0\n",
    "    col_prob     = y_.unique()    \n",
    "    df_proba     = pd.DataFrame()\n",
    "    test_preds   = []\n",
    "    test_pred_proba = np.zeros((1, 1))\n",
    "\n",
    "    for scaler_ in scalers_: \n",
    "\n",
    "        time_start   = datetime.now()\n",
    "        score        = []\n",
    "        \n",
    "                \n",
    "        if scaler_!=None:\n",
    "            string_scaler = str(scaler_)        \n",
    "            string_scaler = string_scaler[:string_scaler.index('(')]\n",
    "            if feature_scaler_!=None:\n",
    "                X_tst = X_test_.copy()\n",
    "                X_tst[feature_scaler_] = pd.DataFrame(scaler_.fit_transform(X_tst[feature_scaler_].copy()), columns=X_test_.columns)\n",
    "            else: \n",
    "                X_tst = pd.DataFrame(scaler_.fit_transform(X_test_.copy()), columns=X_test_.columns)\n",
    "        else:\n",
    "            string_scaler = None \n",
    "            X_tst = X_test_.copy()\n",
    "            \n",
    "        y_pred_test = np.zeros(len(X_test_))\n",
    "\n",
    "        folds = KFold(n_splits=fold_, shuffle=True, random_state=seed_)\n",
    "        folds = StratifiedKFold(n_splits=fold_, shuffle=True, random_state=seed_)\n",
    "        #folds = StratifiedShuffleSplit(n_splits=fold_, test_size=0.5, random_state=seed_)\n",
    "                \n",
    "        print('='*taco)\n",
    "        print('Scaler: {} - n_estimators: {}'.format(string_scaler, n_estimators))\n",
    "        print('='*taco)\n",
    "\n",
    "        for fold, (trn_idx, val_idx) in enumerate(folds.split(X_, y_, groups=y_)): \n",
    "\n",
    "            time_fold_start = datetime.now()\n",
    "\n",
    "            # ---------------------------------------------------- \n",
    "            # Separar dados para treino \n",
    "            # ----------------------------------------------------     \n",
    "            X_trn, X_val = X_.iloc[trn_idx], X_.iloc[val_idx]\n",
    "            y_trn, y_val = y_.iloc[trn_idx], y_.iloc[val_idx] \n",
    "            \n",
    "            # ---------------------------------------------------- \n",
    "            # Processamento \n",
    "            # ----------------------------------------------------     \n",
    "            if scaler_!=None: \n",
    "                if feature_scaler_!=None: \n",
    "                    X_trn[feature_scaler_] = pd.DataFrame(scaler_.fit_transform(X_trn[feature_scaler_]), columns=X_trn.columns)\n",
    "                    X_val[feature_scaler_] = pd.DataFrame(scaler_.fit_transform(X_val[feature_scaler_]), columns=X_trn.columns)  \n",
    "                else:            \n",
    "                    X_trn = pd.DataFrame(scaler_.fit_transform(X_trn), columns=X_trn.columns)\n",
    "                    X_val = pd.DataFrame(scaler_.fit_transform(X_val), columns=X_trn.columns)\n",
    "                        \n",
    "            # ---------------------------------------------------- \n",
    "            # Treinar o modelo \n",
    "            # ----------------------------------------------------            \n",
    "            model_.fit(X_trn, y_trn,\n",
    "                       eval_set              = [(X_trn, y_trn), (X_val, y_val)],          \n",
    "                       early_stopping_rounds = int(n_estimators*.1),\n",
    "                       verbose               = False)\n",
    "            \n",
    "            # ---------------------------------------------------- \n",
    "            # Predição \n",
    "            # ----------------------------------------------------     \n",
    "            y_pred_val      = model_.predict(X_val, ntree_limit=model_.best_ntree_limit)    \n",
    "            y_pred_val_prob = model_.predict_proba(X_val, ntree_limit=model_.best_ntree_limit)    \n",
    "            y_pred_test    += model_.predict(X_tst) / folds.n_splits\n",
    "\n",
    "            test_preds.append(model_.predict(X_tst))\n",
    "            \n",
    "            df_prob_temp    = pd.DataFrame(y_pred_val_prob, columns=col_prob)\n",
    "            y_pred_pbro_max = df_prob_temp.max(axis=1)\n",
    "\n",
    "            df_prob_temp['fold']    = fold+1\n",
    "            df_prob_temp['id']      = val_idx\n",
    "            df_prob_temp['y_val']   = y_val.values\n",
    "            df_prob_temp['y_pred']  = y_pred_val            \n",
    "            df_prob_temp['y_proba'] = np.max(y_pred_val_prob, axis=1)\n",
    "            df_prob_temp['scaler']  = str(string_scaler)\n",
    "                        \n",
    "            # ---------------------------------------------------- \n",
    "            # Score \n",
    "            # ---------------------------------------------------- \n",
    "            acc   = metrics.accuracy_score(y_val, y_pred_val)\n",
    "            f1    = metrics.f1_score(y_val, y_pred_val, average='weighted')\n",
    "            prec  = metrics.precision_score(y_val, y_pred_val, average='macro')\n",
    "            \n",
    "            score.append(acc)            \n",
    "\n",
    "            # ---------------------------------------------------- \n",
    "            # Print resultado  \n",
    "            # ---------------------------------------------------- \n",
    "            time_fold_end = diff(time_fold_start, datetime.now())\n",
    "            msg = '[Fold {}] ACC: {:2.5f} - F1-macro: {:2.5f} - Precision: {:2.5f}  - {}'\n",
    "            print(msg.format(fold+1, acc, f1, prec, time_fold_end))\n",
    "\n",
    "        acc_mean = np.mean(score) \n",
    "        acc_std  = np.std(score)\n",
    "\n",
    "        if acc_mean > acc_best:     \n",
    "            acc_best    = acc_mean           \n",
    "            model_best  = model_    \n",
    "            scaler_best = scaler_\n",
    "\n",
    "        time_end = diff(time_start, datetime.now())   \n",
    "\n",
    "        print('-'*taco)\n",
    "        print('[Mean Fold] ACC: {:2.5f} std: {:2.5f} - {}'.format(acc_mean, acc_std, time_end))\n",
    "        print('='*taco)\n",
    "        print()\n",
    "\n",
    "        df_submission[target_] = y_pred_test.astype('int')\n",
    "        name_file_sub = 'Data/submission/' + model_name_ + '_' + str(scaler_).lower()[:4] + '.csv'\n",
    "        df_submission.to_csv(path_ + name_file_sub.format(acc_mean), index = False)\n",
    "\n",
    "        if print_report_:\n",
    "            y_pred = df_prob_temp[df_prob_temp['scaler']==str(string_scaler)]['y_pred']\n",
    "            y_vl   = df_prob_temp[df_prob_temp['scaler']==str(string_scaler)]['y_val']\n",
    "            print(metrics.classification_report(y_vl,y_pred))\n",
    "\n",
    "    print('-'*taco)\n",
    "    print('Scaler Best: {}'.format(scaler_best))\n",
    "    print('Score      : {:2.5f}'.format(acc_best))\n",
    "    print('-'*taco)\n",
    "    print()\n",
    "\n",
    "    return model_ , df_prob_temp.sort_values(by=['scaler','id'])#, test_pred_proba"
   ]
  },
  {
   "cell_type": "code",
   "execution_count": null,
   "metadata": {
    "ExecuteTime": {
     "start_time": "2021-12-19T02:15:49.358Z"
    },
    "colab": {
     "base_uri": "https://localhost:8080/"
    },
    "executionInfo": {
     "elapsed": 4311905,
     "status": "ok",
     "timestamp": 1639756667612,
     "user": {
      "displayName": "Rogério Delfim",
      "photoUrl": "https://lh3.googleusercontent.com/a-/AOh14Gj8lDYWTfZHU0U0sMojRPio71Ec7YDcSEpCaOEE=s64",
      "userId": "04235763959036945343"
     },
     "user_tz": 180
    },
    "id": "7fJgDjMs5wcd",
    "outputId": "37eb40fc-69dd-43e0-f00a-77fe25c9f9c2"
   },
   "outputs": [
    {
     "name": "stdout",
     "output_type": "stream",
     "text": [
      "============================================================================\n",
      "Scaler: StandardScaler - n_estimators: 100\n",
      "============================================================================\n"
     ]
    }
   ],
   "source": [
    "%%time \n",
    "scalers = [#None,\n",
    "           StandardScaler(), \n",
    "           #RobustScaler(), \n",
    "           #MinMaxScaler(), \n",
    "           #MaxAbsScaler(), \n",
    "           #QuantileTransformer(output_distribution='normal', random_state=0)\n",
    "          ] \n",
    "\n",
    "seed     = 12359\n",
    "y_unique = y.unique()\n",
    "\n",
    "sample_weights = compute_sample_weight(class_weight='balanced', y=y)\n",
    "                 \n",
    "eval_metric = ['mlogloss','merror']\n",
    "        \n",
    "params = {\"objective\"        : 'multi:softmax', # multi:softprob', #,    \n",
    "          'eval_metric'      : eval_metric, \n",
    "          'learning_rate'    : 0.4,  \n",
    "          #'sample_weight'    : sample_weights, \n",
    "          'num_class'        : len(y.unique()),\n",
    "          'random_state'     : seed, \n",
    "          'n_jobs'           : -1}\n",
    "\n",
    "if torch.cuda.is_available():           \n",
    "    params.update({'tree_method' : 'gpu_hist',                    \n",
    "                   'predictor'   : 'gpu_predictor'})\n",
    "\n",
    "model, df_proba = cross_val_model(model_         = xgb.XGBClassifier(**params),\n",
    "                                  model_name_    = 'xgb_baseline_score_{:2.5f}',\n",
    "                                  X_             = X.head(3000),\n",
    "                                  y_             = y.head(3000),\n",
    "                                  X_test_        = X_test,\n",
    "                                  target_        = target,\n",
    "                                  scalers_       = scalers,\n",
    "                                  fold_          = 5, \n",
    "                                  path_          = path,\n",
    "                                  seed_          = seed, \n",
    "                                  #feature_scaler_= feature_float_test, \n",
    "                                  print_report_  = False\n",
    "                                  )"
   ]
  },
  {
   "cell_type": "code",
   "execution_count": null,
   "metadata": {
    "colab": {
     "base_uri": "https://localhost:8080/",
     "height": 242
    },
    "executionInfo": {
     "elapsed": 5,
     "status": "error",
     "timestamp": 1639768546065,
     "user": {
      "displayName": "Rogério Delfim",
      "photoUrl": "https://lh3.googleusercontent.com/a-/AOh14Gj8lDYWTfZHU0U0sMojRPio71Ec7YDcSEpCaOEE=s64",
      "userId": "04235763959036945343"
     },
     "user_tz": 180
    },
    "id": "oIi0I3gR5we2",
    "outputId": "9f7be00f-a994-4d6c-a65a-1323394f27e6"
   },
   "outputs": [],
   "source": [
    "feature_imp_     = model.feature_importances_\n",
    "\n",
    "df               = pd.DataFrame()\n",
    "df[\"Feature\"]    = X.columns\n",
    "df[\"Importance\"] = feature_imp_ / feature_imp_.sum()\n",
    "\n",
    "df.sort_values(\"Importance\", axis=0, ascending=False, inplace=True)"
   ]
  },
  {
   "cell_type": "code",
   "execution_count": null,
   "metadata": {
    "colab": {
     "base_uri": "https://localhost:8080/",
     "height": 242
    },
    "executionInfo": {
     "elapsed": 3,
     "status": "error",
     "timestamp": 1639768547341,
     "user": {
      "displayName": "Rogério Delfim",
      "photoUrl": "https://lh3.googleusercontent.com/a-/AOh14Gj8lDYWTfZHU0U0sMojRPio71Ec7YDcSEpCaOEE=s64",
      "userId": "04235763959036945343"
     },
     "user_tz": 180
    },
    "id": "NcgNS8Xa5whZ",
    "outputId": "e165e8eb-854a-460e-f3a9-094dd928fecf"
   },
   "outputs": [],
   "source": [
    "fig, ax = plt.subplots(figsize=(13, 70))\n",
    "bars    = ax.barh(df[\"Feature\"], \n",
    "                  df[\"Importance\"], \n",
    "                  height    = 0.4,\n",
    "                  color     = \"mediumorchid\", \n",
    "                  edgecolor = \"black\")\n",
    "\n",
    "ax.set_title(\"Feature importances\", fontsize=30, pad=15)\n",
    "ax.set_ylabel(\"Feature name\", fontsize=20, labelpad=15)\n",
    "#ax.set_xlabel(\"Feature importance\", fontsize=20, labelpad=15)\n",
    "ax.set_yticks(df[\"Feature\"])\n",
    "ax.set_yticklabels(df[\"Feature\"], fontsize=13)\n",
    "ax.tick_params(axis=\"x\", labelsize=15)\n",
    "ax.grid(axis=\"x\")\n",
    "\n",
    "# Adicionando rótulos na parte superior\n",
    "ax2 = ax.secondary_xaxis('top')\n",
    "#ax2.set_xlabel(\"Feature importance\", fontsize=20, labelpad=13)\n",
    "ax2.tick_params(axis=\"x\", labelsize=15)\n",
    "ax.margins(0.05, 0.01)\n",
    "\n",
    "# Inverter a direção do eixo y \n",
    "plt.gca().invert_yaxis()"
   ]
  },
  {
   "cell_type": "code",
   "execution_count": null,
   "metadata": {
    "executionInfo": {
     "elapsed": 6,
     "status": "ok",
     "timestamp": 1639702793634,
     "user": {
      "displayName": "Rogério Delfim",
      "photoUrl": "https://lh3.googleusercontent.com/a-/AOh14Gj8lDYWTfZHU0U0sMojRPio71Ec7YDcSEpCaOEE=s64",
      "userId": "04235763959036945343"
     },
     "user_tz": 180
    },
    "id": "UACBcfCe5wkP"
   },
   "outputs": [],
   "source": []
  },
  {
   "cell_type": "code",
   "execution_count": null,
   "metadata": {
    "executionInfo": {
     "elapsed": 5,
     "status": "ok",
     "timestamp": 1639702795173,
     "user": {
      "displayName": "Rogério Delfim",
      "photoUrl": "https://lh3.googleusercontent.com/a-/AOh14Gj8lDYWTfZHU0U0sMojRPio71Ec7YDcSEpCaOEE=s64",
      "userId": "04235763959036945343"
     },
     "user_tz": 180
    },
    "id": "rAH5cYXf5wl7"
   },
   "outputs": [],
   "source": []
  },
  {
   "cell_type": "code",
   "execution_count": null,
   "metadata": {
    "executionInfo": {
     "elapsed": 5,
     "status": "ok",
     "timestamp": 1639702795174,
     "user": {
      "displayName": "Rogério Delfim",
      "photoUrl": "https://lh3.googleusercontent.com/a-/AOh14Gj8lDYWTfZHU0U0sMojRPio71Ec7YDcSEpCaOEE=s64",
      "userId": "04235763959036945343"
     },
     "user_tz": 180
    },
    "id": "NUtU9NVD5wo6"
   },
   "outputs": [],
   "source": []
  },
  {
   "cell_type": "code",
   "execution_count": null,
   "metadata": {
    "executionInfo": {
     "elapsed": 4,
     "status": "ok",
     "timestamp": 1639702795174,
     "user": {
      "displayName": "Rogério Delfim",
      "photoUrl": "https://lh3.googleusercontent.com/a-/AOh14Gj8lDYWTfZHU0U0sMojRPio71Ec7YDcSEpCaOEE=s64",
      "userId": "04235763959036945343"
     },
     "user_tz": 180
    },
    "id": "uIMTMx4X5wqT"
   },
   "outputs": [],
   "source": []
  },
  {
   "cell_type": "code",
   "execution_count": null,
   "metadata": {
    "executionInfo": {
     "elapsed": 5,
     "status": "ok",
     "timestamp": 1639702795175,
     "user": {
      "displayName": "Rogério Delfim",
      "photoUrl": "https://lh3.googleusercontent.com/a-/AOh14Gj8lDYWTfZHU0U0sMojRPio71Ec7YDcSEpCaOEE=s64",
      "userId": "04235763959036945343"
     },
     "user_tz": 180
    },
    "id": "NBXOCVlE5wtK"
   },
   "outputs": [],
   "source": []
  },
  {
   "cell_type": "markdown",
   "metadata": {
    "id": "KtF3jCuo5vRM"
   },
   "source": [
    "<div class=\"alert alert-info\" role=\"alert\">\n",
    "    \n",
    "**`NOTA:`** <br>\n",
    "\n",
    "Como podemos obsevar acima, a média de AUC na validação cruzada foi de 0.73142 e nas submissões do kaggle foram os seguintes scores:\n",
    "\n",
    "- **`None`**: No treino obtever AUC  de 0.73179 e no kable AUC de 0.73818; <br>\n",
    "- **`RobustScaler`**: No treino obtever AUC  de 0.73139 e no kable AUC de 0.73534; <br>\n",
    "- **`QuatileTransfomer`**: No treino obtever AUC 0.73048 e no kable AUC de 0.73531 <br> \n",
    "\n",
    "    \n",
    "</div>"
   ]
  },
  {
   "cell_type": "markdown",
   "metadata": {
    "id": "YnVIRX5W54E1"
   },
   "source": [
    "# 8. Feature Import "
   ]
  },
  {
   "cell_type": "code",
   "execution_count": null,
   "metadata": {
    "executionInfo": {
     "elapsed": 457,
     "status": "ok",
     "timestamp": 1639702888467,
     "user": {
      "displayName": "Rogério Delfim",
      "photoUrl": "https://lh3.googleusercontent.com/a-/AOh14Gj8lDYWTfZHU0U0sMojRPio71Ec7YDcSEpCaOEE=s64",
      "userId": "04235763959036945343"
     },
     "user_tz": 180
    },
    "id": "mHNsdg3n5wvY"
   },
   "outputs": [],
   "source": []
  },
  {
   "cell_type": "code",
   "execution_count": null,
   "metadata": {
    "executionInfo": {
     "elapsed": 6,
     "status": "ok",
     "timestamp": 1639702889223,
     "user": {
      "displayName": "Rogério Delfim",
      "photoUrl": "https://lh3.googleusercontent.com/a-/AOh14Gj8lDYWTfZHU0U0sMojRPio71Ec7YDcSEpCaOEE=s64",
      "userId": "04235763959036945343"
     },
     "user_tz": 180
    },
    "id": "1PyolWZG6Hq7"
   },
   "outputs": [],
   "source": []
  },
  {
   "cell_type": "code",
   "execution_count": null,
   "metadata": {
    "executionInfo": {
     "elapsed": 5,
     "status": "ok",
     "timestamp": 1639702889223,
     "user": {
      "displayName": "Rogério Delfim",
      "photoUrl": "https://lh3.googleusercontent.com/a-/AOh14Gj8lDYWTfZHU0U0sMojRPio71Ec7YDcSEpCaOEE=s64",
      "userId": "04235763959036945343"
     },
     "user_tz": 180
    },
    "id": "w77KFpnv6HtZ"
   },
   "outputs": [],
   "source": []
  },
  {
   "cell_type": "code",
   "execution_count": null,
   "metadata": {
    "executionInfo": {
     "elapsed": 5,
     "status": "ok",
     "timestamp": 1639702889224,
     "user": {
      "displayName": "Rogério Delfim",
      "photoUrl": "https://lh3.googleusercontent.com/a-/AOh14Gj8lDYWTfZHU0U0sMojRPio71Ec7YDcSEpCaOEE=s64",
      "userId": "04235763959036945343"
     },
     "user_tz": 180
    },
    "id": "at62KOIc6Hv1"
   },
   "outputs": [],
   "source": []
  },
  {
   "cell_type": "code",
   "execution_count": null,
   "metadata": {
    "executionInfo": {
     "elapsed": 5,
     "status": "ok",
     "timestamp": 1639702889224,
     "user": {
      "displayName": "Rogério Delfim",
      "photoUrl": "https://lh3.googleusercontent.com/a-/AOh14Gj8lDYWTfZHU0U0sMojRPio71Ec7YDcSEpCaOEE=s64",
      "userId": "04235763959036945343"
     },
     "user_tz": 180
    },
    "id": "wa7uA8Pf6HyN"
   },
   "outputs": [],
   "source": []
  },
  {
   "cell_type": "code",
   "execution_count": null,
   "metadata": {
    "executionInfo": {
     "elapsed": 4,
     "status": "ok",
     "timestamp": 1639702889224,
     "user": {
      "displayName": "Rogério Delfim",
      "photoUrl": "https://lh3.googleusercontent.com/a-/AOh14Gj8lDYWTfZHU0U0sMojRPio71Ec7YDcSEpCaOEE=s64",
      "userId": "04235763959036945343"
     },
     "user_tz": 180
    },
    "id": "8VMyIeQL6Hz6"
   },
   "outputs": [],
   "source": []
  },
  {
   "cell_type": "code",
   "execution_count": null,
   "metadata": {
    "executionInfo": {
     "elapsed": 5,
     "status": "ok",
     "timestamp": 1639702889225,
     "user": {
      "displayName": "Rogério Delfim",
      "photoUrl": "https://lh3.googleusercontent.com/a-/AOh14Gj8lDYWTfZHU0U0sMojRPio71Ec7YDcSEpCaOEE=s64",
      "userId": "04235763959036945343"
     },
     "user_tz": 180
    },
    "id": "EHEvjG2v6H1e"
   },
   "outputs": [],
   "source": []
  },
  {
   "cell_type": "code",
   "execution_count": null,
   "metadata": {
    "executionInfo": {
     "elapsed": 5,
     "status": "ok",
     "timestamp": 1639702889225,
     "user": {
      "displayName": "Rogério Delfim",
      "photoUrl": "https://lh3.googleusercontent.com/a-/AOh14Gj8lDYWTfZHU0U0sMojRPio71Ec7YDcSEpCaOEE=s64",
      "userId": "04235763959036945343"
     },
     "user_tz": 180
    },
    "id": "AsSE7Oky6H31"
   },
   "outputs": [],
   "source": []
  },
  {
   "cell_type": "markdown",
   "metadata": {
    "id": "Yl5MEXic6JAt"
   },
   "source": [
    "### 9. SHAP Values\n",
    "Explicar as previsões do modelo usando SHAP."
   ]
  },
  {
   "cell_type": "code",
   "execution_count": null,
   "metadata": {
    "id": "HAbqV-7Y6H5M"
   },
   "outputs": [],
   "source": [
    "explainer = shap.Explainer(model_best)\n",
    "\n",
    "#shap_values = explainer(X)"
   ]
  },
  {
   "cell_type": "code",
   "execution_count": null,
   "metadata": {
    "executionInfo": {
     "elapsed": 378,
     "status": "ok",
     "timestamp": 1639703029996,
     "user": {
      "displayName": "Rogério Delfim",
      "photoUrl": "https://lh3.googleusercontent.com/a-/AOh14Gj8lDYWTfZHU0U0sMojRPio71Ec7YDcSEpCaOEE=s64",
      "userId": "04235763959036945343"
     },
     "user_tz": 180
    },
    "id": "rWKGnOp36aPT"
   },
   "outputs": [],
   "source": []
  },
  {
   "cell_type": "code",
   "execution_count": null,
   "metadata": {
    "executionInfo": {
     "elapsed": 2,
     "status": "ok",
     "timestamp": 1639703031356,
     "user": {
      "displayName": "Rogério Delfim",
      "photoUrl": "https://lh3.googleusercontent.com/a-/AOh14Gj8lDYWTfZHU0U0sMojRPio71Ec7YDcSEpCaOEE=s64",
      "userId": "04235763959036945343"
     },
     "user_tz": 180
    },
    "id": "pN9Jj43t6qVd"
   },
   "outputs": [],
   "source": []
  },
  {
   "cell_type": "code",
   "execution_count": null,
   "metadata": {
    "executionInfo": {
     "elapsed": 3,
     "status": "ok",
     "timestamp": 1639703031357,
     "user": {
      "displayName": "Rogério Delfim",
      "photoUrl": "https://lh3.googleusercontent.com/a-/AOh14Gj8lDYWTfZHU0U0sMojRPio71Ec7YDcSEpCaOEE=s64",
      "userId": "04235763959036945343"
     },
     "user_tz": 180
    },
    "id": "dWJgsUot6qYX"
   },
   "outputs": [],
   "source": []
  },
  {
   "cell_type": "markdown",
   "metadata": {
    "id": "3ds6Spyz6rLY"
   },
   "source": [
    "# <div class=\"alert alert-success\"> 5. Conclusão </div>\n",
    "\n",
    "<div class=\"alert alert-info\" role=\"alert\">    \n",
    "Neste notebook criamos novas variáveis utilizando a clusterização e variáveis estatísticas, com a finalidade de ajudar os modelos a identificar padrões no dados para melhor as previsões, na validação realizada com XGB obtivemos uma melhora, porém nas submissões não tivemos melhora. <br>\n",
    "    \n",
    "Além da criação de novas variávies, utilizamos o SHAP Values para avaliar o impacto das novas variáveis e antigas nas previsões do modelo XGB, podemos destacar que as variáveis: **fe_mean, fe_max, fe_skew** que foram criadas tem impacto negativo nas predições, assim como outras variáveis puxam a predição para baixo, esse talvez seja o favor de não temos melhoria nas nossas submissões, sendo assim, são variáveis contidas a serem removidas do modelo. <br>\n",
    "    \n",
    "Um ponto importante que devemos destacar é que ainda não fizemos os ajuste de parametros e estamos trabalhando apenas com um predito (XGB), sendo assim, essas variáveis podem ter valor preditivos relevantes para outros classificadores, os quais vamos teste em outros notebooks.\n",
    "    \n",
    "Nos próximos notebooks vamos fazer o ajuste de parametros para os seguintes classificadores: \n",
    "- XGB\n",
    "- LGBM; \n",
    "- CatBoost; \n",
    "- Rede Neural; \n",
    "- KNN;\n",
    "- SVN; \n",
    "    \n",
    "<br> \n",
    "    \n",
    "A ideia é criar uma stacking, sendo assim, vamos salvar todos os modelos.     \n",
    "    \n",
    "<br>\n",
    "    \n",
    "Link notebook kaggle: https://www.kaggle.com/rogeriodelfim/tps-nov-2021-02-feature-engenniring-shap\n",
    "    \n",
    "</div>"
   ]
  },
  {
   "cell_type": "code",
   "execution_count": null,
   "metadata": {
    "id": "a3h-NINk6qa3"
   },
   "outputs": [],
   "source": []
  },
  {
   "cell_type": "code",
   "execution_count": null,
   "metadata": {
    "id": "jndtskGYxBng"
   },
   "outputs": [],
   "source": [
    "https://readthedocs.org/projects/scikit-plot/downloads/pdf/stable/"
   ]
  }
 ],
 "metadata": {
  "accelerator": "GPU",
  "colab": {
   "collapsed_sections": [],
   "machine_shape": "hm",
   "name": "02 - Features Engineering.ipynb",
   "provenance": [],
   "toc_visible": true
  },
  "hide_input": false,
  "kernelspec": {
   "display_name": "Python 3 (ipykernel)",
   "language": "python",
   "name": "python3"
  },
  "language_info": {
   "codemirror_mode": {
    "name": "ipython",
    "version": 3
   },
   "file_extension": ".py",
   "mimetype": "text/x-python",
   "name": "python",
   "nbconvert_exporter": "python",
   "pygments_lexer": "ipython3",
   "version": "3.9.7"
  },
  "nbTranslate": {
   "displayLangs": [
    "en",
    "pt-br"
   ],
   "hotkey": "",
   "langInMainMenu": true,
   "sourceLang": "en",
   "targetLang": "pt-br",
   "useGoogleTranslate": true
  },
  "toc": {
   "base_numbering": 1,
   "nav_menu": {},
   "number_sections": false,
   "sideBar": true,
   "skip_h1_title": false,
   "title_cell": "Table of Contents",
   "title_sidebar": "Contents",
   "toc_cell": false,
   "toc_position": {
    "height": "calc(100% - 180px)",
    "left": "10px",
    "top": "150px",
    "width": "213.712px"
   },
   "toc_section_display": true,
   "toc_window_display": true
  }
 },
 "nbformat": 4,
 "nbformat_minor": 1
}
