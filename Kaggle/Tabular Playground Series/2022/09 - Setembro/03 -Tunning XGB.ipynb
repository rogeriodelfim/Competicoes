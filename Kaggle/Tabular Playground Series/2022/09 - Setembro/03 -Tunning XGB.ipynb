{
 "cells": [
  {
   "cell_type": "markdown",
   "metadata": {
    "id": "xFogj-Cdi34f"
   },
   "source": [
    "<h1 div class='alert alert-success'><center> Tunning Hyperparameters XGB\n",
    " </center></h1>\n",
    "\n",
    "![](https://storage.googleapis.com/kaggle-competitions/kaggle/26480/logos/header.png?t=2021-04-09-00-57-05)"
   ]
  },
  {
   "cell_type": "markdown",
   "metadata": {
    "id": "sKJFMrjqi34j"
   },
   "source": [
    "# <div class=\"alert alert-success\">  0. IMPORTAÇÕES </div>"
   ]
  },
  {
   "cell_type": "code",
   "execution_count": null,
   "metadata": {
    "ExecuteTime": {
     "end_time": "2021-11-26T12:38:24.591749Z",
     "start_time": "2021-11-26T12:38:13.845686Z"
    },
    "colab": {
     "base_uri": "https://localhost:8080/"
    },
    "executionInfo": {
     "elapsed": 14180,
     "status": "ok",
     "timestamp": 1640345480987,
     "user": {
      "displayName": "Rogério Delfim",
      "photoUrl": "https://lh3.googleusercontent.com/a-/AOh14Gj8lDYWTfZHU0U0sMojRPio71Ec7YDcSEpCaOEE=s64",
      "userId": "04235763959036945343"
     },
     "user_tz": 180
    },
    "id": "U2CKimxvi34k",
    "outputId": "ba0a8199-e3cd-40b9-a17f-874bccfc9bde"
   },
   "outputs": [],
   "source": [
    "!pip install --quiet optuna\n",
    "!pip install --q GPUtil\n",
    "!pip install --q BorutaShap"
   ]
  },
  {
   "cell_type": "code",
   "execution_count": null,
   "metadata": {
    "colab": {
     "base_uri": "https://localhost:8080/"
    },
    "executionInfo": {
     "elapsed": 33604,
     "status": "ok",
     "timestamp": 1640345514585,
     "user": {
      "displayName": "Rogério Delfim",
      "photoUrl": "https://lh3.googleusercontent.com/a-/AOh14Gj8lDYWTfZHU0U0sMojRPio71Ec7YDcSEpCaOEE=s64",
      "userId": "04235763959036945343"
     },
     "user_tz": 180
    },
    "id": "Fk0qDNyXlyY4",
    "outputId": "35db8a13-7009-4ab9-97be-3c6e6835b99a"
   },
   "outputs": [],
   "source": [
    "from google.colab import drive\n",
    "drive.mount('/content/drive')"
   ]
  },
  {
   "cell_type": "markdown",
   "metadata": {
    "id": "ckrEOEuUi34l"
   },
   "source": [
    "## 0.1. Bibliotecas"
   ]
  },
  {
   "cell_type": "code",
   "execution_count": 1,
   "metadata": {
    "ExecuteTime": {
     "end_time": "2021-12-26T12:33:16.354170Z",
     "start_time": "2021-12-26T12:33:15.065026Z"
    },
    "executionInfo": {
     "elapsed": 2462,
     "status": "ok",
     "timestamp": 1640345539387,
     "user": {
      "displayName": "Rogério Delfim",
      "photoUrl": "https://lh3.googleusercontent.com/a-/AOh14Gj8lDYWTfZHU0U0sMojRPio71Ec7YDcSEpCaOEE=s64",
      "userId": "04235763959036945343"
     },
     "user_tz": 180
    },
    "id": "icBhRH0Si34m"
   },
   "outputs": [],
   "source": [
    "import warnings\n",
    "import os\n",
    "import gc\n",
    "import random\n",
    "import glob\n",
    "import optuna"
   ]
  },
  {
   "cell_type": "code",
   "execution_count": 2,
   "metadata": {
    "ExecuteTime": {
     "end_time": "2021-12-26T12:33:16.417023Z",
     "start_time": "2021-12-26T12:33:16.356996Z"
    },
    "executionInfo": {
     "elapsed": 788,
     "status": "ok",
     "timestamp": 1640345542959,
     "user": {
      "displayName": "Rogério Delfim",
      "photoUrl": "https://lh3.googleusercontent.com/a-/AOh14Gj8lDYWTfZHU0U0sMojRPio71Ec7YDcSEpCaOEE=s64",
      "userId": "04235763959036945343"
     },
     "user_tz": 180
    },
    "id": "OjwX36f3i34m"
   },
   "outputs": [],
   "source": [
    "import pandas               as pd\n",
    "import numpy                as np\n",
    "import matplotlib.pyplot    as plt \n",
    "import seaborn              as sns\n",
    "import joblib               as jb"
   ]
  },
  {
   "cell_type": "code",
   "execution_count": 3,
   "metadata": {
    "ExecuteTime": {
     "end_time": "2021-12-26T12:33:32.605668Z",
     "start_time": "2021-12-26T12:33:18.288110Z"
    },
    "executionInfo": {
     "elapsed": 5413,
     "status": "ok",
     "timestamp": 1640345549068,
     "user": {
      "displayName": "Rogério Delfim",
      "photoUrl": "https://lh3.googleusercontent.com/a-/AOh14Gj8lDYWTfZHU0U0sMojRPio71Ec7YDcSEpCaOEE=s64",
      "userId": "04235763959036945343"
     },
     "user_tz": 180
    },
    "id": "xyxT1_-ei34n"
   },
   "outputs": [],
   "source": [
    "import torch\n",
    "import torch.nn             as nn"
   ]
  },
  {
   "cell_type": "code",
   "execution_count": 4,
   "metadata": {
    "ExecuteTime": {
     "end_time": "2021-12-26T12:33:32.716181Z",
     "start_time": "2021-12-26T12:33:32.607413Z"
    },
    "executionInfo": {
     "elapsed": 5,
     "status": "ok",
     "timestamp": 1640345549069,
     "user": {
      "displayName": "Rogério Delfim",
      "photoUrl": "https://lh3.googleusercontent.com/a-/AOh14Gj8lDYWTfZHU0U0sMojRPio71Ec7YDcSEpCaOEE=s64",
      "userId": "04235763959036945343"
     },
     "user_tz": 180
    },
    "id": "me4iqeW8i34o"
   },
   "outputs": [],
   "source": [
    "import xgboost              as xgb"
   ]
  },
  {
   "cell_type": "code",
   "execution_count": 5,
   "metadata": {
    "ExecuteTime": {
     "end_time": "2021-12-26T12:33:32.748181Z",
     "start_time": "2021-12-26T12:33:32.717181Z"
    },
    "executionInfo": {
     "elapsed": 5,
     "status": "ok",
     "timestamp": 1640345549069,
     "user": {
      "displayName": "Rogério Delfim",
      "photoUrl": "https://lh3.googleusercontent.com/a-/AOh14Gj8lDYWTfZHU0U0sMojRPio71Ec7YDcSEpCaOEE=s64",
      "userId": "04235763959036945343"
     },
     "user_tz": 180
    },
    "id": "RM2RI3_ti34p"
   },
   "outputs": [],
   "source": [
    "from sklearn.model_selection       import train_test_split, KFold, StratifiedKFold\n",
    "from sklearn.preprocessing         import QuantileTransformer, StandardScaler, KBinsDiscretizer\n",
    "from sklearn.preprocessing         import RobustScaler, MinMaxScaler, MaxAbsScaler, LabelEncoder\n",
    "from sklearn                       import metrics\n",
    "from sklearn.feature_selection     import SelectKBest, SelectPercentile, f_classif"
   ]
  },
  {
   "cell_type": "code",
   "execution_count": 6,
   "metadata": {
    "ExecuteTime": {
     "end_time": "2021-12-26T12:33:32.875181Z",
     "start_time": "2021-12-26T12:33:32.860183Z"
    },
    "executionInfo": {
     "elapsed": 5,
     "status": "ok",
     "timestamp": 1640345549070,
     "user": {
      "displayName": "Rogério Delfim",
      "photoUrl": "https://lh3.googleusercontent.com/a-/AOh14Gj8lDYWTfZHU0U0sMojRPio71Ec7YDcSEpCaOEE=s64",
      "userId": "04235763959036945343"
     },
     "user_tz": 180
    },
    "id": "IMnB1bcOi34p"
   },
   "outputs": [],
   "source": [
    "from optuna.samplers               import TPESampler\n",
    "from optuna.visualization          import plot_edf\n",
    "from optuna.visualization          import plot_optimization_history\n",
    "from optuna.visualization          import plot_parallel_coordinate\n",
    "from optuna.visualization          import plot_param_importances\n",
    "from optuna.visualization          import plot_slice\n",
    "from optuna.visualization          import plot_intermediate_values\n",
    "from optuna.visualization          import plot_contour\n",
    "from optuna.pruners                import MedianPruner"
   ]
  },
  {
   "cell_type": "code",
   "execution_count": 7,
   "metadata": {
    "ExecuteTime": {
     "end_time": "2021-12-26T12:34:10.722460Z",
     "start_time": "2021-12-26T12:33:33.827313Z"
    },
    "colab": {
     "base_uri": "https://localhost:8080/"
    },
    "executionInfo": {
     "elapsed": 1083,
     "status": "ok",
     "timestamp": 1640345550148,
     "user": {
      "displayName": "Rogério Delfim",
      "photoUrl": "https://lh3.googleusercontent.com/a-/AOh14Gj8lDYWTfZHU0U0sMojRPio71Ec7YDcSEpCaOEE=s64",
      "userId": "04235763959036945343"
     },
     "user_tz": 180
    },
    "id": "rxIrWu38i34q",
    "outputId": "063b2532-a96c-4d4d-b3ce-adf3406c4c53"
   },
   "outputs": [],
   "source": [
    "from GPUtil                        import showUtilization as gpu_usage\n",
    "from numba                         import cuda\n",
    "from sklearn.ensemble              import IsolationForest\n",
    "from psutil                        import virtual_memory\n",
    "from datetime                      import datetime\n",
    "from psutil                        import virtual_memory\n",
    "from BorutaShap                    import BorutaShap\n",
    "from sklearn.utils.class_weight    import compute_sample_weight"
   ]
  },
  {
   "cell_type": "markdown",
   "metadata": {
    "id": "LwyizAfdi34r"
   },
   "source": [
    "## 0.2. Funções"
   ]
  },
  {
   "cell_type": "code",
   "execution_count": 8,
   "metadata": {
    "ExecuteTime": {
     "end_time": "2021-12-26T12:34:10.738283Z",
     "start_time": "2021-12-26T12:34:10.724296Z"
    },
    "code_folding": [
     0
    ],
    "executionInfo": {
     "elapsed": 4,
     "status": "ok",
     "timestamp": 1640345550149,
     "user": {
      "displayName": "Rogério Delfim",
      "photoUrl": "https://lh3.googleusercontent.com/a-/AOh14Gj8lDYWTfZHU0U0sMojRPio71Ec7YDcSEpCaOEE=s64",
      "userId": "04235763959036945343"
     },
     "user_tz": 180
    },
    "id": "1vHZjDzgi34r"
   },
   "outputs": [],
   "source": [
    "def jupyter_setting():\n",
    "    \n",
    "    %matplotlib inline\n",
    "     \n",
    "    pd.options.display.max_columns = None\n",
    "    \n",
    "    optuna.logging.set_verbosity(optuna.logging.WARNING)\n",
    "      \n",
    "    warnings.filterwarnings(action='ignore')\n",
    "    warnings.simplefilter('ignore')\n",
    "    warnings.filterwarnings('ignore')\n",
    "    warnings.filterwarnings('ignore', category=DeprecationWarning)\n",
    "    warnings.filterwarnings('ignore', category=FutureWarning)\n",
    "    warnings.filterwarnings('ignore', category=RuntimeWarning)\n",
    "    warnings.filterwarnings('ignore', category=UserWarning)\n",
    "    #pd.set_option('display.max_rows', 150)\n",
    "    pd.set_option('display.max_columns', 500)\n",
    "    pd.set_option('display.max_colwidth', None)\n",
    "\n",
    "    icecream = [\"#00008b\", \"#960018\",\"#008b00\", \"#00468b\", \"#8b4500\", \"#582c00\"]\n",
    "    #sns.palplot(sns.color_palette(icecream))\n",
    "    \n",
    "    return icecream\n",
    "\n",
    "icecream = jupyter_setting()"
   ]
  },
  {
   "cell_type": "code",
   "execution_count": 9,
   "metadata": {
    "ExecuteTime": {
     "end_time": "2021-12-26T12:34:10.754285Z",
     "start_time": "2021-12-26T12:34:10.740283Z"
    },
    "code_folding": [
     0
    ],
    "executionInfo": {
     "elapsed": 3,
     "status": "ok",
     "timestamp": 1640345550149,
     "user": {
      "displayName": "Rogério Delfim",
      "photoUrl": "https://lh3.googleusercontent.com/a-/AOh14Gj8lDYWTfZHU0U0sMojRPio71Ec7YDcSEpCaOEE=s64",
      "userId": "04235763959036945343"
     },
     "user_tz": 180
    },
    "id": "m-u-wKS5i34s"
   },
   "outputs": [],
   "source": [
    "def reduce_memory_usage(df, verbose=True):\n",
    "    numerics = [\"int8\", \"int16\", \"int32\", \"int64\", \"float16\", \"float32\", \"float64\"]\n",
    "    start_mem = df.memory_usage().sum() / 1024 ** 2\n",
    "    for col in df.columns:\n",
    "        col_type = df[col].dtypes\n",
    "        if col_type in numerics:\n",
    "            c_min = df[col].min()\n",
    "            c_max = df[col].max()\n",
    "            if str(col_type)[:3] == \"int\":\n",
    "                if c_min > np.iinfo(np.int8).min and c_max < np.iinfo(np.int8).max:\n",
    "                    df[col] = df[col].astype(np.int8)\n",
    "                elif c_min > np.iinfo(np.int16).min and c_max < np.iinfo(np.int16).max:\n",
    "                    df[col] = df[col].astype(np.int16)\n",
    "                elif c_min > np.iinfo(np.int32).min and c_max < np.iinfo(np.int32).max:\n",
    "                    df[col] = df[col].astype(np.int32)\n",
    "                elif c_min > np.iinfo(np.int64).min and c_max < np.iinfo(np.int64).max:\n",
    "                    df[col] = df[col].astype(np.int64)\n",
    "            else:\n",
    "                if (\n",
    "                    c_min > np.finfo(np.float16).min\n",
    "                    and c_max < np.finfo(np.float16).max\n",
    "                ):\n",
    "                    df[col] = df[col].astype(np.float16)\n",
    "                elif (\n",
    "                    c_min > np.finfo(np.float32).min\n",
    "                    and c_max < np.finfo(np.float32).max\n",
    "                ):\n",
    "                    df[col] = df[col].astype(np.float32)\n",
    "                else:\n",
    "                    df[col] = df[col].astype(np.float64)\n",
    "    end_mem = df.memory_usage().sum() / 1024 ** 2\n",
    "    if verbose:\n",
    "        print(\n",
    "            \"Mem. usage decreased to {:.2f} Mb ({:.1f}% reduction)\".format(\n",
    "                end_mem, 100 * (start_mem - end_mem) / start_mem\n",
    "            )\n",
    "        )\n",
    "    return df"
   ]
  },
  {
   "cell_type": "code",
   "execution_count": 10,
   "metadata": {
    "ExecuteTime": {
     "end_time": "2021-12-26T12:34:10.770319Z",
     "start_time": "2021-12-26T12:34:10.756285Z"
    },
    "code_folding": [
     0
    ],
    "executionInfo": {
     "elapsed": 4,
     "status": "ok",
     "timestamp": 1640345550150,
     "user": {
      "displayName": "Rogério Delfim",
      "photoUrl": "https://lh3.googleusercontent.com/a-/AOh14Gj8lDYWTfZHU0U0sMojRPio71Ec7YDcSEpCaOEE=s64",
      "userId": "04235763959036945343"
     },
     "user_tz": 180
    },
    "id": "oT4xvNQxi34t"
   },
   "outputs": [],
   "source": [
    "def plot_precision_recall_vs_threshold(precisions, recalls, thresholds):\n",
    "    plt.plot(thresholds, precisions[:-1], \"b--\", label=\"Precision\")\n",
    "    plt.plot(thresholds, recalls[:-1], \"g-\", label=\"Recall\")\n",
    "    plt.rcParams['font.size'] = 12\n",
    "    plt.title('Precision Recall vs threshold')\n",
    "    plt.xlabel('Threshold')\n",
    "    plt.legend(loc=\"lower left\")\n",
    "    \n",
    "    plt.grid(True)"
   ]
  },
  {
   "cell_type": "code",
   "execution_count": 11,
   "metadata": {
    "ExecuteTime": {
     "end_time": "2021-12-26T12:34:10.786320Z",
     "start_time": "2021-12-26T12:34:10.771283Z"
    },
    "code_folding": [
     0
    ],
    "executionInfo": {
     "elapsed": 2,
     "status": "ok",
     "timestamp": 1640345550736,
     "user": {
      "displayName": "Rogério Delfim",
      "photoUrl": "https://lh3.googleusercontent.com/a-/AOh14Gj8lDYWTfZHU0U0sMojRPio71Ec7YDcSEpCaOEE=s64",
      "userId": "04235763959036945343"
     },
     "user_tz": 180
    },
    "id": "OzJVgUuTi34u"
   },
   "outputs": [],
   "source": [
    "def plot_precision_vs_recall(precisions, recalls):\n",
    "    plt.plot(recalls[:-1], precisions[:-1], \"b-\", label=\"Precision\")\n",
    "    \n",
    "    plt.rcParams['font.size'] = 12\n",
    "    plt.title('Precision vs recall')\n",
    "    plt.xlabel('Recall')\n",
    "    plt.ylabel('Precision')\n",
    "    # plt.legend(loc=\"lower left\")\n",
    "    \n",
    "    plt.grid(True)"
   ]
  },
  {
   "cell_type": "code",
   "execution_count": 12,
   "metadata": {
    "ExecuteTime": {
     "end_time": "2021-12-26T12:34:10.802317Z",
     "start_time": "2021-12-26T12:34:10.788291Z"
    },
    "code_folding": [
     0
    ],
    "executionInfo": {
     "elapsed": 3,
     "status": "ok",
     "timestamp": 1640345551469,
     "user": {
      "displayName": "Rogério Delfim",
      "photoUrl": "https://lh3.googleusercontent.com/a-/AOh14Gj8lDYWTfZHU0U0sMojRPio71Ec7YDcSEpCaOEE=s64",
      "userId": "04235763959036945343"
     },
     "user_tz": 180
    },
    "id": "51KsDDGLi34u",
    "run_control": {
     "marked": false
    }
   },
   "outputs": [],
   "source": [
    "def plot_roc_curve(fpr, tpr, label=None):\n",
    "    fig, ax = plt.subplots()\n",
    "    ax.plot(fpr, tpr, \"r-\", label=label)\n",
    "    ax.plot([0, 1], [0, 1], transform=ax.transAxes, ls=\"--\", c=\".3\")\n",
    "    plt.xlim([0.0, 1.0])\n",
    "    plt.ylim([0.0, 1.0])\n",
    "    plt.rcParams['font.size'] = 12\n",
    "    plt.title('XGBR ROC curve for TPS 09')\n",
    "    plt.xlabel('False Positive Rate (1 - Specificity)')\n",
    "    plt.ylabel('True Positive Rate (Sensitivity)')\n",
    "    plt.legend(loc=\"lower right\")\n",
    "    plt.grid(True)"
   ]
  },
  {
   "cell_type": "code",
   "execution_count": 13,
   "metadata": {
    "ExecuteTime": {
     "end_time": "2021-12-26T12:34:10.818323Z",
     "start_time": "2021-12-26T12:34:10.804319Z"
    },
    "code_folding": [
     0
    ],
    "executionInfo": {
     "elapsed": 3,
     "status": "ok",
     "timestamp": 1640345552607,
     "user": {
      "displayName": "Rogério Delfim",
      "photoUrl": "https://lh3.googleusercontent.com/a-/AOh14Gj8lDYWTfZHU0U0sMojRPio71Ec7YDcSEpCaOEE=s64",
      "userId": "04235763959036945343"
     },
     "user_tz": 180
    },
    "id": "3gf0D8QLi34u"
   },
   "outputs": [],
   "source": [
    "def graf_corr(df):\n",
    "    \n",
    "    df = df.corr().round(5)\n",
    "\n",
    "    # Máscara para ocultar a parte superior direita do gráfico, pois é uma duplicata\n",
    "    mask = np.zeros_like(df)\n",
    "    mask[np.triu_indices_from(mask)] = True\n",
    "\n",
    "    # Making a plot\n",
    "    plt.figure(figsize=(16,16))\n",
    "    ax = sns.heatmap(df, annot=True, mask=mask, cmap=\"RdBu\", annot_kws={\"weight\": \"bold\", \"fontsize\":13})\n",
    "\n",
    "    ax.set_title(\"Mapa de calor de correlação das variável\", fontsize=17)\n",
    "\n",
    "    plt.setp(ax.get_xticklabels(), \n",
    "             rotation      = 90, \n",
    "             ha            = \"right\",\n",
    "             rotation_mode = \"anchor\", \n",
    "             weight        = \"normal\")\n",
    "\n",
    "    plt.setp(ax.get_yticklabels(), \n",
    "             weight        = \"normal\",\n",
    "             rotation_mode = \"anchor\", \n",
    "             rotation      = 0, \n",
    "             ha            = \"right\");"
   ]
  },
  {
   "cell_type": "code",
   "execution_count": 14,
   "metadata": {
    "ExecuteTime": {
     "end_time": "2021-12-26T12:34:10.834323Z",
     "start_time": "2021-12-26T12:34:10.820283Z"
    },
    "code_folding": [
     0
    ],
    "executionInfo": {
     "elapsed": 2,
     "status": "ok",
     "timestamp": 1640345552607,
     "user": {
      "displayName": "Rogério Delfim",
      "photoUrl": "https://lh3.googleusercontent.com/a-/AOh14Gj8lDYWTfZHU0U0sMojRPio71Ec7YDcSEpCaOEE=s64",
      "userId": "04235763959036945343"
     },
     "user_tz": 180
    },
    "id": "YYXsmuJwi34u"
   },
   "outputs": [],
   "source": [
    "def correlation(dataset, threshold):\n",
    "\n",
    "    col_corr    = set()  # Conjunto de todos os nomes de colunas correlacionadas\n",
    "    corr_matrix = dataset.corr()\n",
    "    \n",
    "    for i in range(len(corr_matrix.columns)):\n",
    "        for j in range(i):\n",
    "            if abs(corr_matrix.iloc[i, j]) >= threshold: # estamos interessados no valor coeficiente absoluto\n",
    "                colname = corr_matrix.columns[i]        # obtendo o nome da coluna\n",
    "                col_corr.add(colname)\n",
    "    \n",
    "    return col_corr"
   ]
  },
  {
   "cell_type": "code",
   "execution_count": 15,
   "metadata": {
    "ExecuteTime": {
     "end_time": "2021-12-26T12:34:10.850323Z",
     "start_time": "2021-12-26T12:34:10.835282Z"
    },
    "code_folding": [
     0
    ],
    "executionInfo": {
     "elapsed": 3,
     "status": "ok",
     "timestamp": 1640345553554,
     "user": {
      "displayName": "Rogério Delfim",
      "photoUrl": "https://lh3.googleusercontent.com/a-/AOh14Gj8lDYWTfZHU0U0sMojRPio71Ec7YDcSEpCaOEE=s64",
      "userId": "04235763959036945343"
     },
     "user_tz": 180
    },
    "id": "GuS0Lh52i34v"
   },
   "outputs": [],
   "source": [
    "def free_gpu_cache():\n",
    "    \n",
    "    # https://www.kaggle.com/getting-started/140636\n",
    "    #print(\"Initial GPU Usage\")\n",
    "    #gpu_usage()                             \n",
    "\n",
    "    #cuda.select_device(0)\n",
    "    #cuda.close()\n",
    "    #cuda.select_device(0)   \n",
    "    \n",
    "    gc.collect()\n",
    "    torch.cuda.empty_cache()"
   ]
  },
  {
   "cell_type": "markdown",
   "metadata": {
    "id": "puAI82JpDOJO"
   },
   "source": [
    "## 0.3. GPU"
   ]
  },
  {
   "cell_type": "markdown",
   "metadata": {
    "id": "iISld6GaDyRM"
   },
   "source": [
    "### 0.3.1. Informações"
   ]
  },
  {
   "cell_type": "code",
   "execution_count": 16,
   "metadata": {
    "ExecuteTime": {
     "end_time": "2021-12-26T12:34:11.787975Z",
     "start_time": "2021-12-26T12:34:10.852285Z"
    },
    "colab": {
     "base_uri": "https://localhost:8080/"
    },
    "executionInfo": {
     "elapsed": 10,
     "status": "ok",
     "timestamp": 1640345557713,
     "user": {
      "displayName": "Rogério Delfim",
      "photoUrl": "https://lh3.googleusercontent.com/a-/AOh14Gj8lDYWTfZHU0U0sMojRPio71Ec7YDcSEpCaOEE=s64",
      "userId": "04235763959036945343"
     },
     "user_tz": 180
    },
    "id": "Je1LG7eeDL1s",
    "outputId": "78952977-6a43-410a-8570-afb7834d30c2"
   },
   "outputs": [
    {
     "name": "stdout",
     "output_type": "stream",
     "text": [
      "Sun Dec 26 09:34:11 2021       \n",
      "+-----------------------------------------------------------------------------+\n",
      "| NVIDIA-SMI 510.06       Driver Version: 510.06       CUDA Version: 11.6     |\n",
      "|-------------------------------+----------------------+----------------------+\n",
      "| GPU  Name            TCC/WDDM | Bus-Id        Disp.A | Volatile Uncorr. ECC |\n",
      "| Fan  Temp  Perf  Pwr:Usage/Cap|         Memory-Usage | GPU-Util  Compute M. |\n",
      "|                               |                      |               MIG M. |\n",
      "|===============================+======================+======================|\n",
      "|   0  NVIDIA GeForce ... WDDM  | 00000000:01:00.0 Off |                  N/A |\n",
      "| N/A    0C    P8    N/A /  N/A |     78MiB /  4096MiB |      0%      Default |\n",
      "|                               |                      |                  N/A |\n",
      "+-------------------------------+----------------------+----------------------+\n",
      "                                                                               \n",
      "+-----------------------------------------------------------------------------+\n",
      "| Processes:                                                                  |\n",
      "|  GPU   GI   CI        PID   Type   Process name                  GPU Memory |\n",
      "|        ID   ID                                                   Usage      |\n",
      "|=============================================================================|\n",
      "|  No running processes found                                                 |\n",
      "+-----------------------------------------------------------------------------+\n"
     ]
    }
   ],
   "source": [
    "gpu_info = !nvidia-smi\n",
    "gpu_info = '\\n'.join(gpu_info)\n",
    "\n",
    "if gpu_info.find('failed') >= 0:\n",
    "  print('Not connected to a GPU')\n",
    "else:\n",
    "  print(gpu_info)"
   ]
  },
  {
   "cell_type": "markdown",
   "metadata": {
    "id": "RWJ4r84ZEAIM"
   },
   "source": [
    "## 0.3.2. Memória"
   ]
  },
  {
   "cell_type": "code",
   "execution_count": 17,
   "metadata": {
    "ExecuteTime": {
     "end_time": "2021-12-26T12:34:11.803975Z",
     "start_time": "2021-12-26T12:34:11.788974Z"
    },
    "colab": {
     "base_uri": "https://localhost:8080/"
    },
    "executionInfo": {
     "elapsed": 2,
     "status": "ok",
     "timestamp": 1640345561518,
     "user": {
      "displayName": "Rogério Delfim",
      "photoUrl": "https://lh3.googleusercontent.com/a-/AOh14Gj8lDYWTfZHU0U0sMojRPio71Ec7YDcSEpCaOEE=s64",
      "userId": "04235763959036945343"
     },
     "user_tz": 180
    },
    "id": "OVohZ_xSD33t",
    "outputId": "4cd78248-f1fa-41b2-dda1-303a7b43dc63"
   },
   "outputs": [
    {
     "name": "stdout",
     "output_type": "stream",
     "text": [
      "Your runtime has 17.0 gigabytes of available RAM\n",
      "\n",
      "Not using a high-RAM runtime\n"
     ]
    }
   ],
   "source": [
    "ram_gb = virtual_memory().total / 1e9\n",
    "\n",
    "print('Your runtime has {:.1f} gigabytes of available RAM\\n'.format(ram_gb))\n",
    "\n",
    "if ram_gb < 20:\n",
    "  print('Not using a high-RAM runtime')\n",
    "else:\n",
    "  print('You are using a high-RAM runtime!')"
   ]
  },
  {
   "cell_type": "markdown",
   "metadata": {
    "id": "8_PfcxeGi34v"
   },
   "source": [
    "## 0.4. Carregar Dados"
   ]
  },
  {
   "cell_type": "code",
   "execution_count": 1,
   "metadata": {
    "ExecuteTime": {
     "end_time": "2022-01-01T21:58:45.366953Z",
     "start_time": "2022-01-01T21:58:45.319990Z"
    },
    "code_folding": []
   },
   "outputs": [],
   "source": [
    "def mkdir():\n",
    "    \n",
    "    !mkdir img\n",
    "    !mkdir Data\n",
    "    !mkdir Data\\pkl\n",
    "    !mkdir Data\\submission\n",
    "    !mkdir Data\\submission\\tunning\n",
    "\n",
    "    !mkdir model\n",
    "    !mkdir model\\mdl\n",
    "    !mkdir model\\preds\n",
    "    !mkdir model\\optuna\n",
    "\n",
    "    !mkdir model\\preds\\test\n",
    "    !mkdir model\\preds\\test\\n1\n",
    "    !mkdir model\\preds\\test\\n2\n",
    "    !mkdir model\\preds\\test\\n3\n",
    "\n",
    "    !mkdir model\\preds\\train\n",
    "    !mkdir model\\preds\\train\\n1\n",
    "    !mkdir model\\preds\\train\\n2\n",
    "    !mkdir model\\preds\\train\\n3\n",
    "    !mkdir model\\preds\\param\n",
    "    \n",
    "mkdir "
   ]
  },
  {
   "cell_type": "code",
   "execution_count": 19,
   "metadata": {
    "ExecuteTime": {
     "end_time": "2021-12-26T12:34:12.440973Z",
     "start_time": "2021-12-26T12:34:12.426976Z"
    },
    "executionInfo": {
     "elapsed": 558,
     "status": "ok",
     "timestamp": 1640345565117,
     "user": {
      "displayName": "Rogério Delfim",
      "photoUrl": "https://lh3.googleusercontent.com/a-/AOh14Gj8lDYWTfZHU0U0sMojRPio71Ec7YDcSEpCaOEE=s64",
      "userId": "04235763959036945343"
     },
     "user_tz": 180
    },
    "id": "UaT5Rgjli34v"
   },
   "outputs": [],
   "source": [
    "path   = '' #'/content/drive/MyDrive/kaggle/Tabular Playground Series/2021/12 - Dezembro/'\n",
    "target = 'Cover_Type'"
   ]
  },
  {
   "cell_type": "code",
   "execution_count": 20,
   "metadata": {
    "ExecuteTime": {
     "end_time": "2021-12-26T12:34:27.380710Z",
     "start_time": "2021-12-26T12:34:20.825489Z"
    },
    "colab": {
     "base_uri": "https://localhost:8080/"
    },
    "executionInfo": {
     "elapsed": 10069,
     "status": "ok",
     "timestamp": 1640345656626,
     "user": {
      "displayName": "Rogério Delfim",
      "photoUrl": "https://lh3.googleusercontent.com/a-/AOh14Gj8lDYWTfZHU0U0sMojRPio71Ec7YDcSEpCaOEE=s64",
      "userId": "04235763959036945343"
     },
     "user_tz": 180
    },
    "id": "Ar5Fty2Ei34v",
    "outputId": "8a675449-1ca7-44a1-b29c-c4b758510b52"
   },
   "outputs": [
    {
     "data": {
      "text/plain": [
       "((3999999, 86), (1000000, 85))"
      ]
     },
     "execution_count": 20,
     "metadata": {},
     "output_type": "execute_result"
    }
   ],
   "source": [
    "df3_train     = jb.load(path+ 'Data/pkl/df2_nb_02_train.pkl.z')\n",
    "df3_test      = jb.load(path+ 'Data/pkl/df2_nb_02_test.pkl.z')\n",
    "df_submission = pd.read_csv(path + 'Data/sample_submission.csv')\n",
    "df3_train.drop(df3_train[df3_train[target]==5].index, inplace=True)\n",
    "\n",
    "df3_train.shape, df3_test.shape"
   ]
  },
  {
   "cell_type": "code",
   "execution_count": 21,
   "metadata": {
    "ExecuteTime": {
     "end_time": "2021-12-26T12:34:27.444707Z",
     "start_time": "2021-12-26T12:34:27.382710Z"
    },
    "colab": {
     "base_uri": "https://localhost:8080/",
     "height": 270
    },
    "executionInfo": {
     "elapsed": 17,
     "status": "ok",
     "timestamp": 1640345656626,
     "user": {
      "displayName": "Rogério Delfim",
      "photoUrl": "https://lh3.googleusercontent.com/a-/AOh14Gj8lDYWTfZHU0U0sMojRPio71Ec7YDcSEpCaOEE=s64",
      "userId": "04235763959036945343"
     },
     "user_tz": 180
    },
    "id": "-qfjHtY0i34w",
    "outputId": "bcd571ef-7d69-4733-f8f6-7011d852d2f4"
   },
   "outputs": [
    {
     "data": {
      "text/html": [
       "<div>\n",
       "<style scoped>\n",
       "    .dataframe tbody tr th:only-of-type {\n",
       "        vertical-align: middle;\n",
       "    }\n",
       "\n",
       "    .dataframe tbody tr th {\n",
       "        vertical-align: top;\n",
       "    }\n",
       "\n",
       "    .dataframe thead th {\n",
       "        text-align: right;\n",
       "    }\n",
       "</style>\n",
       "<table border=\"1\" class=\"dataframe\">\n",
       "  <thead>\n",
       "    <tr style=\"text-align: right;\">\n",
       "      <th></th>\n",
       "      <th>Elevation</th>\n",
       "      <th>Aspect</th>\n",
       "      <th>Slope</th>\n",
       "      <th>x_dist_hydrlgy</th>\n",
       "      <th>y_dist_hydrlgy</th>\n",
       "      <th>x_dist_rdwys</th>\n",
       "      <th>Hillshade_9am</th>\n",
       "      <th>Hillshade_Noon</th>\n",
       "      <th>Hillshade_3pm</th>\n",
       "      <th>x_dist_firepts</th>\n",
       "      <th>Wilderness_Area1</th>\n",
       "      <th>Wilderness_Area2</th>\n",
       "      <th>Wilderness_Area3</th>\n",
       "      <th>Wilderness_Area4</th>\n",
       "      <th>Soil_Type1</th>\n",
       "      <th>Soil_Type2</th>\n",
       "      <th>Soil_Type3</th>\n",
       "      <th>Soil_Type4</th>\n",
       "      <th>Soil_Type5</th>\n",
       "      <th>Soil_Type6</th>\n",
       "      <th>Soil_Type8</th>\n",
       "      <th>Soil_Type9</th>\n",
       "      <th>Soil_Type10</th>\n",
       "      <th>Soil_Type11</th>\n",
       "      <th>Soil_Type12</th>\n",
       "      <th>Soil_Type13</th>\n",
       "      <th>Soil_Type14</th>\n",
       "      <th>Soil_Type16</th>\n",
       "      <th>Soil_Type17</th>\n",
       "      <th>Soil_Type18</th>\n",
       "      <th>Soil_Type19</th>\n",
       "      <th>Soil_Type20</th>\n",
       "      <th>Soil_Type21</th>\n",
       "      <th>Soil_Type22</th>\n",
       "      <th>Soil_Type23</th>\n",
       "      <th>Soil_Type24</th>\n",
       "      <th>Soil_Type25</th>\n",
       "      <th>Soil_Type26</th>\n",
       "      <th>Soil_Type27</th>\n",
       "      <th>Soil_Type28</th>\n",
       "      <th>Soil_Type29</th>\n",
       "      <th>Soil_Type30</th>\n",
       "      <th>Soil_Type31</th>\n",
       "      <th>Soil_Type32</th>\n",
       "      <th>Soil_Type33</th>\n",
       "      <th>Soil_Type34</th>\n",
       "      <th>Soil_Type35</th>\n",
       "      <th>Soil_Type36</th>\n",
       "      <th>Soil_Type37</th>\n",
       "      <th>Soil_Type38</th>\n",
       "      <th>Soil_Type39</th>\n",
       "      <th>Soil_Type40</th>\n",
       "      <th>Cover_Type</th>\n",
       "      <th>fe_mean</th>\n",
       "      <th>fe_std</th>\n",
       "      <th>fe_median</th>\n",
       "      <th>fe_var</th>\n",
       "      <th>fe_min</th>\n",
       "      <th>fe_max</th>\n",
       "      <th>fe_skew</th>\n",
       "      <th>fe_quantile_25</th>\n",
       "      <th>fe_quantile_50</th>\n",
       "      <th>fe_quantile_75</th>\n",
       "      <th>fe_dammy_count</th>\n",
       "      <th>fe_Hydro_Fire_1</th>\n",
       "      <th>fe_Hydro_Fire_2</th>\n",
       "      <th>fe_Hydro_Road_1</th>\n",
       "      <th>fe_Hydro_Road_2</th>\n",
       "      <th>fe_Fire_Road_1</th>\n",
       "      <th>fe_Fire_Road_2</th>\n",
       "      <th>fe_dist_manh_hydrlgy</th>\n",
       "      <th>fe_dist_ecldn_hydrlgy</th>\n",
       "      <th>fe_soil_type_sum</th>\n",
       "      <th>fe_Soil_Type12_32</th>\n",
       "      <th>fe_Soil_Type23_22_32_33</th>\n",
       "      <th>fe_hillshade_mean</th>\n",
       "      <th>fe_wilderness_area_sum</th>\n",
       "      <th>fe_EVDtH</th>\n",
       "      <th>fe_EHDtH</th>\n",
       "      <th>fe_binned_elevation</th>\n",
       "      <th>fe_pca_0</th>\n",
       "      <th>fe_pca_1</th>\n",
       "      <th>fe_cluster_0</th>\n",
       "      <th>fe_cluster_1</th>\n",
       "      <th>fe_cluster_2</th>\n",
       "      <th>fe_cluster_3</th>\n",
       "    </tr>\n",
       "  </thead>\n",
       "  <tbody>\n",
       "    <tr>\n",
       "      <th>0</th>\n",
       "      <td>3189</td>\n",
       "      <td>40</td>\n",
       "      <td>8</td>\n",
       "      <td>30</td>\n",
       "      <td>13</td>\n",
       "      <td>3270</td>\n",
       "      <td>206</td>\n",
       "      <td>234</td>\n",
       "      <td>193</td>\n",
       "      <td>4873</td>\n",
       "      <td>1</td>\n",
       "      <td>0</td>\n",
       "      <td>0</td>\n",
       "      <td>0</td>\n",
       "      <td>0</td>\n",
       "      <td>0</td>\n",
       "      <td>0</td>\n",
       "      <td>0</td>\n",
       "      <td>0</td>\n",
       "      <td>0</td>\n",
       "      <td>0</td>\n",
       "      <td>0</td>\n",
       "      <td>0</td>\n",
       "      <td>0</td>\n",
       "      <td>0</td>\n",
       "      <td>0</td>\n",
       "      <td>0</td>\n",
       "      <td>0</td>\n",
       "      <td>0</td>\n",
       "      <td>0</td>\n",
       "      <td>0</td>\n",
       "      <td>0</td>\n",
       "      <td>0</td>\n",
       "      <td>0</td>\n",
       "      <td>0</td>\n",
       "      <td>0</td>\n",
       "      <td>0</td>\n",
       "      <td>0</td>\n",
       "      <td>0</td>\n",
       "      <td>0</td>\n",
       "      <td>1</td>\n",
       "      <td>0</td>\n",
       "      <td>0</td>\n",
       "      <td>0</td>\n",
       "      <td>0</td>\n",
       "      <td>0</td>\n",
       "      <td>0</td>\n",
       "      <td>0</td>\n",
       "      <td>0</td>\n",
       "      <td>0</td>\n",
       "      <td>0</td>\n",
       "      <td>0</td>\n",
       "      <td>1</td>\n",
       "      <td>1206.0</td>\n",
       "      <td>1832.0</td>\n",
       "      <td>199.5</td>\n",
       "      <td>3356801.250</td>\n",
       "      <td>8</td>\n",
       "      <td>4873</td>\n",
       "      <td>1.272461</td>\n",
       "      <td>32.5</td>\n",
       "      <td>199.5</td>\n",
       "      <td>2450.0</td>\n",
       "      <td>2</td>\n",
       "      <td>4903</td>\n",
       "      <td>4843</td>\n",
       "      <td>3300</td>\n",
       "      <td>3240</td>\n",
       "      <td>8143</td>\n",
       "      <td>1603</td>\n",
       "      <td>44</td>\n",
       "      <td>33.6875</td>\n",
       "      <td>1</td>\n",
       "      <td>0</td>\n",
       "      <td>0</td>\n",
       "      <td>211.000</td>\n",
       "      <td>1</td>\n",
       "      <td>3176</td>\n",
       "      <td>3184.0</td>\n",
       "      <td>63</td>\n",
       "      <td>2124.442770</td>\n",
       "      <td>2935.842506</td>\n",
       "      <td>0</td>\n",
       "      <td>0</td>\n",
       "      <td>1</td>\n",
       "      <td>0</td>\n",
       "    </tr>\n",
       "    <tr>\n",
       "      <th>1</th>\n",
       "      <td>3026</td>\n",
       "      <td>182</td>\n",
       "      <td>5</td>\n",
       "      <td>280</td>\n",
       "      <td>29</td>\n",
       "      <td>3270</td>\n",
       "      <td>233</td>\n",
       "      <td>240</td>\n",
       "      <td>106</td>\n",
       "      <td>5423</td>\n",
       "      <td>1</td>\n",
       "      <td>0</td>\n",
       "      <td>0</td>\n",
       "      <td>0</td>\n",
       "      <td>0</td>\n",
       "      <td>0</td>\n",
       "      <td>0</td>\n",
       "      <td>0</td>\n",
       "      <td>0</td>\n",
       "      <td>0</td>\n",
       "      <td>0</td>\n",
       "      <td>0</td>\n",
       "      <td>0</td>\n",
       "      <td>0</td>\n",
       "      <td>0</td>\n",
       "      <td>0</td>\n",
       "      <td>0</td>\n",
       "      <td>0</td>\n",
       "      <td>0</td>\n",
       "      <td>0</td>\n",
       "      <td>0</td>\n",
       "      <td>0</td>\n",
       "      <td>0</td>\n",
       "      <td>0</td>\n",
       "      <td>0</td>\n",
       "      <td>0</td>\n",
       "      <td>0</td>\n",
       "      <td>0</td>\n",
       "      <td>0</td>\n",
       "      <td>0</td>\n",
       "      <td>1</td>\n",
       "      <td>0</td>\n",
       "      <td>0</td>\n",
       "      <td>0</td>\n",
       "      <td>0</td>\n",
       "      <td>0</td>\n",
       "      <td>0</td>\n",
       "      <td>0</td>\n",
       "      <td>0</td>\n",
       "      <td>0</td>\n",
       "      <td>0</td>\n",
       "      <td>0</td>\n",
       "      <td>2</td>\n",
       "      <td>1279.0</td>\n",
       "      <td>1918.0</td>\n",
       "      <td>236.5</td>\n",
       "      <td>3680597.500</td>\n",
       "      <td>5</td>\n",
       "      <td>5423</td>\n",
       "      <td>1.458008</td>\n",
       "      <td>125.0</td>\n",
       "      <td>236.5</td>\n",
       "      <td>2340.0</td>\n",
       "      <td>2</td>\n",
       "      <td>5703</td>\n",
       "      <td>5143</td>\n",
       "      <td>3550</td>\n",
       "      <td>2990</td>\n",
       "      <td>8693</td>\n",
       "      <td>2153</td>\n",
       "      <td>310</td>\n",
       "      <td>118.0625</td>\n",
       "      <td>1</td>\n",
       "      <td>0</td>\n",
       "      <td>0</td>\n",
       "      <td>193.000</td>\n",
       "      <td>1</td>\n",
       "      <td>2997</td>\n",
       "      <td>2970.0</td>\n",
       "      <td>60</td>\n",
       "      <td>2224.754681</td>\n",
       "      <td>3472.999721</td>\n",
       "      <td>0</td>\n",
       "      <td>0</td>\n",
       "      <td>1</td>\n",
       "      <td>0</td>\n",
       "    </tr>\n",
       "    <tr>\n",
       "      <th>2</th>\n",
       "      <td>3106</td>\n",
       "      <td>13</td>\n",
       "      <td>7</td>\n",
       "      <td>351</td>\n",
       "      <td>37</td>\n",
       "      <td>2914</td>\n",
       "      <td>208</td>\n",
       "      <td>234</td>\n",
       "      <td>137</td>\n",
       "      <td>5269</td>\n",
       "      <td>1</td>\n",
       "      <td>0</td>\n",
       "      <td>0</td>\n",
       "      <td>0</td>\n",
       "      <td>0</td>\n",
       "      <td>0</td>\n",
       "      <td>0</td>\n",
       "      <td>0</td>\n",
       "      <td>0</td>\n",
       "      <td>0</td>\n",
       "      <td>0</td>\n",
       "      <td>0</td>\n",
       "      <td>0</td>\n",
       "      <td>0</td>\n",
       "      <td>0</td>\n",
       "      <td>0</td>\n",
       "      <td>0</td>\n",
       "      <td>0</td>\n",
       "      <td>0</td>\n",
       "      <td>0</td>\n",
       "      <td>0</td>\n",
       "      <td>0</td>\n",
       "      <td>0</td>\n",
       "      <td>0</td>\n",
       "      <td>0</td>\n",
       "      <td>0</td>\n",
       "      <td>0</td>\n",
       "      <td>0</td>\n",
       "      <td>0</td>\n",
       "      <td>0</td>\n",
       "      <td>1</td>\n",
       "      <td>0</td>\n",
       "      <td>0</td>\n",
       "      <td>0</td>\n",
       "      <td>0</td>\n",
       "      <td>0</td>\n",
       "      <td>0</td>\n",
       "      <td>0</td>\n",
       "      <td>0</td>\n",
       "      <td>0</td>\n",
       "      <td>0</td>\n",
       "      <td>0</td>\n",
       "      <td>1</td>\n",
       "      <td>1228.0</td>\n",
       "      <td>1858.0</td>\n",
       "      <td>221.0</td>\n",
       "      <td>3452505.750</td>\n",
       "      <td>7</td>\n",
       "      <td>5269</td>\n",
       "      <td>1.474609</td>\n",
       "      <td>62.0</td>\n",
       "      <td>221.0</td>\n",
       "      <td>2274.0</td>\n",
       "      <td>2</td>\n",
       "      <td>5620</td>\n",
       "      <td>4918</td>\n",
       "      <td>3265</td>\n",
       "      <td>2563</td>\n",
       "      <td>8183</td>\n",
       "      <td>2355</td>\n",
       "      <td>389</td>\n",
       "      <td>81.6250</td>\n",
       "      <td>1</td>\n",
       "      <td>0</td>\n",
       "      <td>0</td>\n",
       "      <td>193.000</td>\n",
       "      <td>1</td>\n",
       "      <td>3069</td>\n",
       "      <td>3036.0</td>\n",
       "      <td>62</td>\n",
       "      <td>1849.005268</td>\n",
       "      <td>3392.884040</td>\n",
       "      <td>0</td>\n",
       "      <td>0</td>\n",
       "      <td>1</td>\n",
       "      <td>0</td>\n",
       "    </tr>\n",
       "    <tr>\n",
       "      <th>3</th>\n",
       "      <td>3022</td>\n",
       "      <td>276</td>\n",
       "      <td>13</td>\n",
       "      <td>192</td>\n",
       "      <td>16</td>\n",
       "      <td>3034</td>\n",
       "      <td>207</td>\n",
       "      <td>238</td>\n",
       "      <td>156</td>\n",
       "      <td>2866</td>\n",
       "      <td>1</td>\n",
       "      <td>0</td>\n",
       "      <td>0</td>\n",
       "      <td>0</td>\n",
       "      <td>0</td>\n",
       "      <td>0</td>\n",
       "      <td>0</td>\n",
       "      <td>0</td>\n",
       "      <td>0</td>\n",
       "      <td>0</td>\n",
       "      <td>0</td>\n",
       "      <td>0</td>\n",
       "      <td>0</td>\n",
       "      <td>0</td>\n",
       "      <td>0</td>\n",
       "      <td>0</td>\n",
       "      <td>0</td>\n",
       "      <td>0</td>\n",
       "      <td>0</td>\n",
       "      <td>0</td>\n",
       "      <td>0</td>\n",
       "      <td>0</td>\n",
       "      <td>0</td>\n",
       "      <td>0</td>\n",
       "      <td>0</td>\n",
       "      <td>0</td>\n",
       "      <td>0</td>\n",
       "      <td>0</td>\n",
       "      <td>0</td>\n",
       "      <td>0</td>\n",
       "      <td>1</td>\n",
       "      <td>0</td>\n",
       "      <td>0</td>\n",
       "      <td>0</td>\n",
       "      <td>0</td>\n",
       "      <td>0</td>\n",
       "      <td>0</td>\n",
       "      <td>0</td>\n",
       "      <td>0</td>\n",
       "      <td>0</td>\n",
       "      <td>0</td>\n",
       "      <td>0</td>\n",
       "      <td>2</td>\n",
       "      <td>1002.0</td>\n",
       "      <td>1364.0</td>\n",
       "      <td>222.5</td>\n",
       "      <td>1860983.375</td>\n",
       "      <td>13</td>\n",
       "      <td>3034</td>\n",
       "      <td>1.023438</td>\n",
       "      <td>165.0</td>\n",
       "      <td>222.5</td>\n",
       "      <td>2218.0</td>\n",
       "      <td>2</td>\n",
       "      <td>3058</td>\n",
       "      <td>2674</td>\n",
       "      <td>3226</td>\n",
       "      <td>2842</td>\n",
       "      <td>5900</td>\n",
       "      <td>168</td>\n",
       "      <td>209</td>\n",
       "      <td>169.6250</td>\n",
       "      <td>1</td>\n",
       "      <td>0</td>\n",
       "      <td>0</td>\n",
       "      <td>200.375</td>\n",
       "      <td>1</td>\n",
       "      <td>3006</td>\n",
       "      <td>2984.0</td>\n",
       "      <td>60</td>\n",
       "      <td>1494.519538</td>\n",
       "      <td>1011.880307</td>\n",
       "      <td>0</td>\n",
       "      <td>0</td>\n",
       "      <td>0</td>\n",
       "      <td>1</td>\n",
       "    </tr>\n",
       "    <tr>\n",
       "      <th>4</th>\n",
       "      <td>2906</td>\n",
       "      <td>186</td>\n",
       "      <td>13</td>\n",
       "      <td>266</td>\n",
       "      <td>22</td>\n",
       "      <td>2916</td>\n",
       "      <td>231</td>\n",
       "      <td>231</td>\n",
       "      <td>154</td>\n",
       "      <td>2642</td>\n",
       "      <td>1</td>\n",
       "      <td>0</td>\n",
       "      <td>0</td>\n",
       "      <td>0</td>\n",
       "      <td>0</td>\n",
       "      <td>0</td>\n",
       "      <td>0</td>\n",
       "      <td>0</td>\n",
       "      <td>0</td>\n",
       "      <td>0</td>\n",
       "      <td>0</td>\n",
       "      <td>0</td>\n",
       "      <td>0</td>\n",
       "      <td>0</td>\n",
       "      <td>0</td>\n",
       "      <td>0</td>\n",
       "      <td>0</td>\n",
       "      <td>0</td>\n",
       "      <td>0</td>\n",
       "      <td>0</td>\n",
       "      <td>0</td>\n",
       "      <td>0</td>\n",
       "      <td>0</td>\n",
       "      <td>0</td>\n",
       "      <td>0</td>\n",
       "      <td>0</td>\n",
       "      <td>0</td>\n",
       "      <td>0</td>\n",
       "      <td>0</td>\n",
       "      <td>0</td>\n",
       "      <td>1</td>\n",
       "      <td>0</td>\n",
       "      <td>0</td>\n",
       "      <td>0</td>\n",
       "      <td>0</td>\n",
       "      <td>0</td>\n",
       "      <td>0</td>\n",
       "      <td>0</td>\n",
       "      <td>0</td>\n",
       "      <td>0</td>\n",
       "      <td>0</td>\n",
       "      <td>0</td>\n",
       "      <td>2</td>\n",
       "      <td>956.5</td>\n",
       "      <td>1291.0</td>\n",
       "      <td>231.0</td>\n",
       "      <td>1667972.250</td>\n",
       "      <td>13</td>\n",
       "      <td>2916</td>\n",
       "      <td>1.031250</td>\n",
       "      <td>162.0</td>\n",
       "      <td>231.0</td>\n",
       "      <td>2048.0</td>\n",
       "      <td>2</td>\n",
       "      <td>2908</td>\n",
       "      <td>2376</td>\n",
       "      <td>3182</td>\n",
       "      <td>2650</td>\n",
       "      <td>5558</td>\n",
       "      <td>274</td>\n",
       "      <td>289</td>\n",
       "      <td>76.5000</td>\n",
       "      <td>1</td>\n",
       "      <td>0</td>\n",
       "      <td>0</td>\n",
       "      <td>205.375</td>\n",
       "      <td>1</td>\n",
       "      <td>2884</td>\n",
       "      <td>2852.0</td>\n",
       "      <td>58</td>\n",
       "      <td>1330.183635</td>\n",
       "      <td>813.849468</td>\n",
       "      <td>0</td>\n",
       "      <td>0</td>\n",
       "      <td>0</td>\n",
       "      <td>1</td>\n",
       "    </tr>\n",
       "  </tbody>\n",
       "</table>\n",
       "</div>"
      ],
      "text/plain": [
       "   Elevation  Aspect  Slope  x_dist_hydrlgy  y_dist_hydrlgy  x_dist_rdwys  \\\n",
       "0       3189      40      8              30              13          3270   \n",
       "1       3026     182      5             280              29          3270   \n",
       "2       3106      13      7             351              37          2914   \n",
       "3       3022     276     13             192              16          3034   \n",
       "4       2906     186     13             266              22          2916   \n",
       "\n",
       "   Hillshade_9am  Hillshade_Noon  Hillshade_3pm  x_dist_firepts  \\\n",
       "0            206             234            193            4873   \n",
       "1            233             240            106            5423   \n",
       "2            208             234            137            5269   \n",
       "3            207             238            156            2866   \n",
       "4            231             231            154            2642   \n",
       "\n",
       "   Wilderness_Area1  Wilderness_Area2  Wilderness_Area3  Wilderness_Area4  \\\n",
       "0                 1                 0                 0                 0   \n",
       "1                 1                 0                 0                 0   \n",
       "2                 1                 0                 0                 0   \n",
       "3                 1                 0                 0                 0   \n",
       "4                 1                 0                 0                 0   \n",
       "\n",
       "   Soil_Type1  Soil_Type2  Soil_Type3  Soil_Type4  Soil_Type5  Soil_Type6  \\\n",
       "0           0           0           0           0           0           0   \n",
       "1           0           0           0           0           0           0   \n",
       "2           0           0           0           0           0           0   \n",
       "3           0           0           0           0           0           0   \n",
       "4           0           0           0           0           0           0   \n",
       "\n",
       "   Soil_Type8  Soil_Type9  Soil_Type10  Soil_Type11  Soil_Type12  Soil_Type13  \\\n",
       "0           0           0            0            0            0            0   \n",
       "1           0           0            0            0            0            0   \n",
       "2           0           0            0            0            0            0   \n",
       "3           0           0            0            0            0            0   \n",
       "4           0           0            0            0            0            0   \n",
       "\n",
       "   Soil_Type14  Soil_Type16  Soil_Type17  Soil_Type18  Soil_Type19  \\\n",
       "0            0            0            0            0            0   \n",
       "1            0            0            0            0            0   \n",
       "2            0            0            0            0            0   \n",
       "3            0            0            0            0            0   \n",
       "4            0            0            0            0            0   \n",
       "\n",
       "   Soil_Type20  Soil_Type21  Soil_Type22  Soil_Type23  Soil_Type24  \\\n",
       "0            0            0            0            0            0   \n",
       "1            0            0            0            0            0   \n",
       "2            0            0            0            0            0   \n",
       "3            0            0            0            0            0   \n",
       "4            0            0            0            0            0   \n",
       "\n",
       "   Soil_Type25  Soil_Type26  Soil_Type27  Soil_Type28  Soil_Type29  \\\n",
       "0            0            0            0            0            1   \n",
       "1            0            0            0            0            1   \n",
       "2            0            0            0            0            1   \n",
       "3            0            0            0            0            1   \n",
       "4            0            0            0            0            1   \n",
       "\n",
       "   Soil_Type30  Soil_Type31  Soil_Type32  Soil_Type33  Soil_Type34  \\\n",
       "0            0            0            0            0            0   \n",
       "1            0            0            0            0            0   \n",
       "2            0            0            0            0            0   \n",
       "3            0            0            0            0            0   \n",
       "4            0            0            0            0            0   \n",
       "\n",
       "   Soil_Type35  Soil_Type36  Soil_Type37  Soil_Type38  Soil_Type39  \\\n",
       "0            0            0            0            0            0   \n",
       "1            0            0            0            0            0   \n",
       "2            0            0            0            0            0   \n",
       "3            0            0            0            0            0   \n",
       "4            0            0            0            0            0   \n",
       "\n",
       "   Soil_Type40  Cover_Type  fe_mean  fe_std  fe_median       fe_var  fe_min  \\\n",
       "0            0           1   1206.0  1832.0      199.5  3356801.250       8   \n",
       "1            0           2   1279.0  1918.0      236.5  3680597.500       5   \n",
       "2            0           1   1228.0  1858.0      221.0  3452505.750       7   \n",
       "3            0           2   1002.0  1364.0      222.5  1860983.375      13   \n",
       "4            0           2    956.5  1291.0      231.0  1667972.250      13   \n",
       "\n",
       "   fe_max   fe_skew  fe_quantile_25  fe_quantile_50  fe_quantile_75  \\\n",
       "0    4873  1.272461            32.5           199.5          2450.0   \n",
       "1    5423  1.458008           125.0           236.5          2340.0   \n",
       "2    5269  1.474609            62.0           221.0          2274.0   \n",
       "3    3034  1.023438           165.0           222.5          2218.0   \n",
       "4    2916  1.031250           162.0           231.0          2048.0   \n",
       "\n",
       "   fe_dammy_count  fe_Hydro_Fire_1  fe_Hydro_Fire_2  fe_Hydro_Road_1  \\\n",
       "0               2             4903             4843             3300   \n",
       "1               2             5703             5143             3550   \n",
       "2               2             5620             4918             3265   \n",
       "3               2             3058             2674             3226   \n",
       "4               2             2908             2376             3182   \n",
       "\n",
       "   fe_Hydro_Road_2  fe_Fire_Road_1  fe_Fire_Road_2  fe_dist_manh_hydrlgy  \\\n",
       "0             3240            8143            1603                    44   \n",
       "1             2990            8693            2153                   310   \n",
       "2             2563            8183            2355                   389   \n",
       "3             2842            5900             168                   209   \n",
       "4             2650            5558             274                   289   \n",
       "\n",
       "   fe_dist_ecldn_hydrlgy  fe_soil_type_sum  fe_Soil_Type12_32  \\\n",
       "0                33.6875                 1                  0   \n",
       "1               118.0625                 1                  0   \n",
       "2                81.6250                 1                  0   \n",
       "3               169.6250                 1                  0   \n",
       "4                76.5000                 1                  0   \n",
       "\n",
       "   fe_Soil_Type23_22_32_33  fe_hillshade_mean  fe_wilderness_area_sum  \\\n",
       "0                        0            211.000                       1   \n",
       "1                        0            193.000                       1   \n",
       "2                        0            193.000                       1   \n",
       "3                        0            200.375                       1   \n",
       "4                        0            205.375                       1   \n",
       "\n",
       "   fe_EVDtH  fe_EHDtH  fe_binned_elevation     fe_pca_0     fe_pca_1  \\\n",
       "0      3176    3184.0                   63  2124.442770  2935.842506   \n",
       "1      2997    2970.0                   60  2224.754681  3472.999721   \n",
       "2      3069    3036.0                   62  1849.005268  3392.884040   \n",
       "3      3006    2984.0                   60  1494.519538  1011.880307   \n",
       "4      2884    2852.0                   58  1330.183635   813.849468   \n",
       "\n",
       "   fe_cluster_0  fe_cluster_1  fe_cluster_2  fe_cluster_3  \n",
       "0             0             0             1             0  \n",
       "1             0             0             1             0  \n",
       "2             0             0             1             0  \n",
       "3             0             0             0             1  \n",
       "4             0             0             0             1  "
      ]
     },
     "execution_count": 21,
     "metadata": {},
     "output_type": "execute_result"
    }
   ],
   "source": [
    "df3_train.head()"
   ]
  },
  {
   "cell_type": "code",
   "execution_count": 22,
   "metadata": {
    "ExecuteTime": {
     "end_time": "2021-12-26T12:34:28.855719Z",
     "start_time": "2021-12-26T12:34:27.445707Z"
    },
    "colab": {
     "base_uri": "https://localhost:8080/",
     "height": 270
    },
    "executionInfo": {
     "elapsed": 16,
     "status": "ok",
     "timestamp": 1640345656627,
     "user": {
      "displayName": "Rogério Delfim",
      "photoUrl": "https://lh3.googleusercontent.com/a-/AOh14Gj8lDYWTfZHU0U0sMojRPio71Ec7YDcSEpCaOEE=s64",
      "userId": "04235763959036945343"
     },
     "user_tz": 180
    },
    "id": "_JUntp99QiWX",
    "outputId": "c981eb82-f8a7-4bd7-88de-24041980778d"
   },
   "outputs": [
    {
     "name": "stdout",
     "output_type": "stream",
     "text": [
      "Mem. usage decreased to 488.28 Mb (8.6% reduction)\n",
      "Mem. usage decreased to 113.49 Mb (9.2% reduction)\n"
     ]
    }
   ],
   "source": [
    "df3_train = reduce_memory_usage(df3_train)\n",
    "df3_test  = reduce_memory_usage(df3_test)"
   ]
  },
  {
   "cell_type": "markdown",
   "metadata": {
    "id": "gQ6DBwBLi34z"
   },
   "source": [
    "# <div class=\"alert alert-success\"> 1.  TUNNING </div>"
   ]
  },
  {
   "cell_type": "markdown",
   "metadata": {
    "id": "9cJfauA3i34z"
   },
   "source": [
    "## 1.0. Split Train/Test"
   ]
  },
  {
   "cell_type": "code",
   "execution_count": 23,
   "metadata": {
    "ExecuteTime": {
     "end_time": "2021-12-26T12:34:43.008895Z",
     "start_time": "2021-12-26T12:34:38.274856Z"
    },
    "colab": {
     "base_uri": "https://localhost:8080/"
    },
    "executionInfo": {
     "elapsed": 4698,
     "status": "ok",
     "timestamp": 1640345661310,
     "user": {
      "displayName": "Rogério Delfim",
      "photoUrl": "https://lh3.googleusercontent.com/a-/AOh14Gj8lDYWTfZHU0U0sMojRPio71Ec7YDcSEpCaOEE=s64",
      "userId": "04235763959036945343"
     },
     "user_tz": 180
    },
    "id": "DvwbgoMAi340",
    "outputId": "aa5cb05c-244f-4e3a-b05d-2de99b09770e"
   },
   "outputs": [
    {
     "data": {
      "text/plain": [
       "((3199999, 85), (3199999,), (800000, 85), (800000,))"
      ]
     },
     "execution_count": 23,
     "metadata": {},
     "output_type": "execute_result"
    }
   ],
   "source": [
    "X      = df3_train.drop([target], axis=1)    \n",
    "y      = df3_train[target].copy()\n",
    "X_test = df3_test\n",
    "\n",
    "X_train, X_valid, y_train, y_valid = train_test_split(X, y, \n",
    "                                                      test_size    = 0.2,\n",
    "                                                      shuffle      = True, \n",
    "                                                      stratify     = y,\n",
    "                                                      random_state = 12359)\n",
    "\n",
    "del df3_train , df3_test\n",
    "\n",
    "free_gpu_cache() \n",
    "\n",
    "X_train.shape, y_train.shape, X_valid.shape, y_valid.shape "
   ]
  },
  {
   "cell_type": "markdown",
   "metadata": {
    "id": "8l1vmUmRi340"
   },
   "source": [
    "## 1.1. Classe Tunning "
   ]
  },
  {
   "cell_type": "code",
   "execution_count": 24,
   "metadata": {
    "ExecuteTime": {
     "end_time": "2021-12-26T12:34:45.713235Z",
     "start_time": "2021-12-26T12:34:45.633216Z"
    },
    "code_folding": [
     5,
     23,
     76,
     82,
     117,
     138,
     163,
     190,
     257,
     336,
     359,
     364,
     376,
     576
    ],
    "executionInfo": {
     "elapsed": 2384,
     "status": "ok",
     "timestamp": 1640350096969,
     "user": {
      "displayName": "Rogério Delfim",
      "photoUrl": "https://lh3.googleusercontent.com/a-/AOh14Gj8lDYWTfZHU0U0sMojRPio71Ec7YDcSEpCaOEE=s64",
      "userId": "04235763959036945343"
     },
     "user_tz": 180
    },
    "id": "LpYUOrRpi340"
   },
   "outputs": [],
   "source": [
    "class TunningModels(nn.Module):\n",
    "\n",
    "    from sklearn.preprocessing  import StandardScaler\n",
    "    from sklearn.linear_model import RidgeClassifier\n",
    "    \n",
    "    def __init__(self, name_model_, X_trn_, y_trn_, X_ts_, feature_=None, \n",
    "                 seed_=12359, scaler_=StandardScaler(), feature_bin_=None, \n",
    "                 target_='target', path_='', level_='1'):\n",
    "        \n",
    "        super(TunningModels,self).__init__() \n",
    "\n",
    "        self.name_clf    = name_model\n",
    "        self.X_trn       = X_trn_\n",
    "        self.y_trn       = y_trn_\n",
    "        self.X_ts        = X_ts_         \n",
    "        self.feature     = feature_\n",
    "        self.seed        = seed_\n",
    "        self.scaler      = scaler_\n",
    "        self.feature_bin = feature_bin_ \n",
    "        self.target      = target_\n",
    "        self.path        = path_\n",
    "        self.level       = level_\n",
    "\n",
    "    def recover_prediction_first_level():\n",
    "        \n",
    "        preds_train1 = glob.glob(\"model/train/*.pkl.z\")\n",
    "        preds_test   = glob.glob(\"model/test/*.pkl.z\")\n",
    "        preds_val1   = glob.glob(\"model/valid/*.pkl.z\")\n",
    "\n",
    "        df_train1     = []\n",
    "        scores_traint = dict()\n",
    "\n",
    "        for p_name in preds_train1:    \n",
    "            p    = jb.load(p_name)\n",
    "            p_df = pd.DataFrame(p, columns=[p_name.replace('model/train\\\\', '')])    \n",
    "            df_train1.append(p_df)    \n",
    "            scores_traint[p_name] = f1_score(y_train1, (p_df>.5))\n",
    "\n",
    "        df_val1     = [] \n",
    "        scores_val1 = dict()\n",
    "        for p_name in preds_val1:    \n",
    "            p    = jb.load(p_name)\n",
    "            p_df = pd.DataFrame(p, columns=[p_name.replace('model/valid\\\\', '')])    \n",
    "            df_val1.append(p_df)    \n",
    "            scores_val1[p_name] = f1_score(y_val1, (p_df>.5))\n",
    "\n",
    "        df_test     = [] \n",
    "        scores_test = dict()\n",
    "        for p_name in preds_test:    \n",
    "            p         = jb.load(p_name)\n",
    "            p_df_test = pd.DataFrame(p, columns=[p_name.replace('model/test\\\\', '')])    \n",
    "            df_test.append(p_df_test)\n",
    "\n",
    "        df_train1 = pd.concat(df_train1, axis=1)\n",
    "        df_val1   = pd.concat(df_val1, axis=1)\n",
    "        df_test   = pd.concat(df_test, axis=1)\n",
    "\n",
    "        return df_train1, df_val1, df_test.shape\n",
    "        \n",
    "    def delete_files(namefile):\n",
    "\n",
    "        path = ['model/train', 'model/test', 'model/valid', 'model/params', 'model/score',\n",
    "                'model/test_f', 'model/cv_model', 'model/preds', 'model/optuna', \n",
    "                'model/preds/train', 'model/preds/test', 'model/preds/test/n1', \n",
    "                'model/preds/test/n2', 'model/preds/test/n3', 'model/preds/train/n1', \n",
    "                'model/preds/train/n2', 'model/preds/train/n3','model/preds/param', \n",
    "                'Data/submission/tunning', 'Data/submission', 'model/mdl'\n",
    "                \n",
    "               ]\n",
    "\n",
    "        for path_ in path:\n",
    "            for raiz, diretorios, arquivos in os.walk(path_):\n",
    "                for arquivo in arquivos:\n",
    "                    if arquivo.startswith(namefile):\n",
    "                        os.remove(os.path.join(raiz, arquivo))\n",
    " \n",
    "    def logging_callback(study, frozen_trail):\n",
    "        prev_best = study.user_attrs.get('prev_best', None)\n",
    "        if prev_best != study.best_value:\n",
    "            study.set_user_attr('prev_best', study.best_value)\n",
    "            print(f\"Trail {frozen_trail.number} finished with best value {frozen_trail.value}\")\n",
    "\n",
    "    def df_return_preds_tunning(model_name=None, level=1): \n",
    "    \n",
    "        if level==1: \n",
    "            level_ = 'n1'\n",
    "        else: \n",
    "            if level==2:\n",
    "                level_ = 'n2'\n",
    "            else: \n",
    "                level_ = 'n3'\n",
    "        \n",
    "        paths = ['model/preds/test/n1', 'model/preds/train/' + level_ ]    \n",
    "\n",
    "        if model_name==None: \n",
    "            model_name=''\n",
    "            \n",
    "        for i, path in enumerate(paths): \n",
    "\n",
    "            name_file_pkl     = glob.glob(path + '/'+ model_name + '*.pkl.z')\n",
    "            dic_preds_mdl_pkl = dict()\n",
    "\n",
    "            for p_name in name_file_pkl:    \n",
    "                y_model_pkl_name_col  = p_name.replace(path + '\\\\', '').replace('.pkl.z','') \n",
    "                y_model_pkl           = jb.load(p_name)   \n",
    "\n",
    "                dic_preds_mdl_pkl[y_model_pkl_name_col] = y_model_pkl\n",
    "\n",
    "            if i==0: \n",
    "                X_test_pred_nivel_1 = pd.DataFrame(dic_preds_mdl_pkl)\n",
    "            else: \n",
    "                X_train_pred_nivel_1 = pd.DataFrame(dic_preds_mdl_pkl)\n",
    "\n",
    "        X_train_pred_nivel_1['claim'] = y\n",
    "        \n",
    "        return X_train_pred_nivel_1, X_test_pred_nivel_1\n",
    "    \n",
    "    def feature_select(mdl, feature=[], best_score=0):\n",
    "    \n",
    "        best_feature = ''\n",
    "\n",
    "        for col in df_train1.columns:\n",
    "\n",
    "            if col not in feature:\n",
    "                Xtr  = df_train1[feature+[col]].copy()\n",
    "                Xval = df_val1[feature+[col]].copy()                \n",
    "\n",
    "                mdl.fit(Xtr, y_train1)\n",
    "\n",
    "                p = mdl.predict(Xval)\n",
    "                c = f1_score(y_val1, p)\n",
    "\n",
    "                if c > best_score:\n",
    "                    best_score = c\n",
    "                    best_feature = col \n",
    "\n",
    "        return best_score, best_feature\n",
    "\n",
    "    def permutation_test(mdl, feature_selected):\n",
    "\n",
    "        dist = []\n",
    "\n",
    "        for seed in range(100):\n",
    "\n",
    "            Xtr  = df_train1[feature_selected].copy()\n",
    "            Xval = df_val1[feature_selected].copy()\n",
    "\n",
    "            np.random.seed(seed)\n",
    "\n",
    "            Xtr['random']  = np.random.permutation(Xtr.iloc[:, -1].values)\n",
    "            Xval['random'] = np.random.permutation(Xval.iloc[:, -1].values)\n",
    "\n",
    "            mdl.fit(Xtr, y_train1)\n",
    "\n",
    "            p = mdl.predict(Xval)\n",
    "            c = f1_score(y_val1, p)\n",
    "\n",
    "            dist.append(c)\n",
    "\n",
    "        dist = np.array(dist)\n",
    "\n",
    "        return dist.max()\n",
    "\n",
    "    def feature_selected_model(model = RidgeClassifier(alpha=1.) ):\n",
    "   \n",
    "        score_feature, best_feature =  TunningModels.feature_select(model)\n",
    "        print('Score: {:2.4f} => Feature: {}'. format(score_feature*100 , best_feature))\n",
    "\n",
    "        feature_selected = []\n",
    "        feature_selected.append(best_feature)\n",
    "\n",
    "        loop = True\n",
    "\n",
    "        while loop:\n",
    "\n",
    "            best_score = TunningModels.permutation_test(model, feature_selected) \n",
    "            best_score = best_score + 1e-4\n",
    "\n",
    "            score_feature, best_feature = TunningModels.feature_select(model, feature=feature_selected, best_score=best_score)\n",
    "            \n",
    "\n",
    "            if score_feature <= best_score:  \n",
    "                print('Fim')\n",
    "                loop= False\n",
    "            else: \n",
    "                feature_selected.append(best_feature)\n",
    "                print('Score: {:2.4f} => Feature: {}'. format(score_feature*100 , best_feature))\n",
    "\n",
    "        return feature_selected\n",
    "    \n",
    "    def model_of_diversity_feature_group(model, name_model, X_, y_, X_ts_, feature_imp_num=5, seed_=12359):\n",
    "\n",
    "        TunningModels.delete_files(name_model)\n",
    "\n",
    "        model.fit(X_, y_)\n",
    "\n",
    "        df               = pd.DataFrame()\n",
    "        df[\"feature\"]    = X_.columns.to_list()\n",
    "        df[\"importance\"] = model.feature_importances_\n",
    "        \n",
    "        df.sort_values(\"importance\", axis=0, ascending=False, inplace=True)\n",
    "\n",
    "        feature_import = df[:feature_imp_num]['feature'].to_list()\n",
    "        \n",
    "        for feature_imp in  feature_import:\n",
    "\n",
    "            score_                =  0.09\n",
    "            feature_best          = []\n",
    "            feature               = X_ts_.columns            \n",
    "            feature               = [s for s in feature if s not in feature_import]\n",
    "            feature_number        = len(feature)\n",
    "            feature_select_number = np.round(np.sqrt(len(feature)))\n",
    "            feature_number_sample = int(np.round((feature_number/feature_select_number)))\n",
    "            feature_sample        = []\n",
    "\n",
    "            print('='*60)\n",
    "            print(' Divercidade de Grupos de Features => ({})'.format(feature_imp))\n",
    "            print('='*60)\n",
    "\n",
    "            for i in  range(0,5):\n",
    "\n",
    "                feature            = [s for s in feature if s not in feature_sample]\n",
    "                feature_sample     = pd.Series(feature).sample(feature_number_sample).to_list() \n",
    "                name_model_xgb_div = name_model + 'group_fe_' + str(i)   \n",
    "\n",
    "                feature_sample.append(feature_imp)\n",
    "\n",
    "                score = TunningModels.cross_valid(model       = model, \n",
    "                                                  model_name_ = name_model_xgb_div, \n",
    "                                                  X_          = X_, \n",
    "                                                  y_          = y_, \n",
    "                                                  X_test_     = X_ts_, \n",
    "                                                  type_model  = 2, \n",
    "                                                  feature     = feature_sample,\n",
    "                                                  seed        = seed_, \n",
    "                                                  tunning     = 1, \n",
    "                                                  print_result= False, \n",
    "                                                  n_splits    = 3\n",
    "                                                  )\n",
    "                if score >.59:\n",
    "                    create = '*'\n",
    "                else: \n",
    "                    create = ' '\n",
    "\n",
    "                if score > score_:\n",
    "                    # score_ = np.abs(score)\n",
    "                    feature_best.append(feature)\n",
    "                    print('Score: {:2.5f} =>{} Gr.Feature: {} {}'.format(score, create, i, feature_sample))\n",
    "\n",
    "                gc.collect()\n",
    "\n",
    "            print('')\n",
    "            \n",
    "        print('')\n",
    "        print('FIM')\n",
    "        print('')\n",
    "        \n",
    "    def model_of_diversity_feature_one_(model, name_model, seed_=12359):\n",
    "\n",
    "\n",
    "\n",
    "        score_       =  0.09\n",
    "        feature_best = []\n",
    "\n",
    "        print('')\n",
    "        print('Feature apenas uma')\n",
    "        print('-'*20)\n",
    "\n",
    "        TunningModels.delete_files(name_model)\n",
    "\n",
    "        for feature in X_train.columns:\n",
    "\n",
    "            name_model_xgb_div = name_model + feature \n",
    "\n",
    "            score = TunningModels.cross_valid(model       = model, \n",
    "                                              model_name_ = name_model_xgb_div, \n",
    "                                              X_          = X, \n",
    "                                              y_          = y, \n",
    "                                              X_test_     = X_test_sc_qt, \n",
    "                                              type_model  = 2, \n",
    "                                              feature     = feature,\n",
    "                                              seed        = seed_, \n",
    "                                              tunning     = 1, \n",
    "                                              print_result= False, \n",
    "                                              n_splits    = 2\n",
    "                                              )\n",
    "            if score >.59:\n",
    "                create = '*'\n",
    "            else: \n",
    "                create = ' '\n",
    "\n",
    "            if score > score_:\n",
    "                score_ = np.abs(score)\n",
    "                feature_best.append(feature)\n",
    "                print('F1-score: {:2.5f} => {} feature: {}'.format(score, create, feature ))        \n",
    "\n",
    "        print('')\n",
    "        print('Feature dupla')\n",
    "        print('-'*20)\n",
    "\n",
    "        for feature in feature_best:\n",
    "\n",
    "            for feature_ in feature_best:\n",
    "                if feature != feature_:            \n",
    "                    name_model_xgb_div = name_model + feature + '_' + feature_     \n",
    "\n",
    "                    score = TunningModels.cross_valid(model       = model, \n",
    "                                                      model_name_ = name_model_xgb_div, \n",
    "                                                      X_          = X, \n",
    "                                                      y_          = y, \n",
    "                                                      X_test_     = X_test_sc_qt, \n",
    "                                                      type_model  = 2, \n",
    "                                                      feature     = [feature, feature_],\n",
    "                                                      seed        = seed_, \n",
    "                                                      tunning     = 1, \n",
    "                                                      print_result= False, \n",
    "                                                      n_splits    = 2\n",
    "                                                      )\n",
    "\n",
    "                    if score >.59:\n",
    "                        create = '*'\n",
    "                    else: \n",
    "                        create = ' '\n",
    "\n",
    "                    print('F1-score: {:.4f} => {} feature: {} | {}'.format(score*100, create,  feature, feature_ )) \n",
    "\n",
    "        print('')\n",
    "        print('FIM')\n",
    "        print('')\n",
    "    \n",
    "\n",
    "\n",
    "        from dateutil.relativedelta import relativedelta\n",
    "        t_diff = relativedelta(t_b, t_a)  # later/end time comes first!\n",
    "        return '{h}h {m}m {s}s'.format(h=t_diff.hours, m=t_diff.minutes, s=t_diff.seconds)\n",
    "        \n",
    "    def save_data_model(model_, model_name_, path_, y_pred_train_prob_, y_pred_test_prob_,\n",
    "                        y_pred_test_, score_, seed_, level_='1', target_='target'):\n",
    "        \n",
    "        level_ = 'n'+ level_ + '/'\n",
    "\n",
    "        if score_>.6:          \n",
    "\n",
    "            path_name_param = path_ + 'model/preds/param/' + model_name_.format(score_, seed_)\n",
    "            path_name_train = path_ + 'model/preds/train/' + level_ + model_name_.format(score_, seed_)\n",
    "            path_name_test  = path_ + 'model/preds/test/'  + level_ + model_name_.format(score_, seed_)    \n",
    "            path_name_model = path_ + 'model/mdl/'         + model_name_.format(score_, seed_)    \n",
    "\n",
    "            jb.dump(y_pred_train_prob_, path_name_train)\n",
    "            jb.dump(y_pred_test_prob_, path_name_test)\n",
    "            jb.dump(model_, path_name_model)\n",
    "            jb.dump(pd.DataFrame([model_.get_params()]), path_name_param)   \n",
    "\n",
    "            if score_>.7:\n",
    "                # Gerar o arquivo de submissão \n",
    "                df_submission[target_] = y_pred_test_\n",
    "                name_file_sub =  path_ + 'Data/submission/tunning/' + model_name_.format(score_, seed_) + '.csv'\n",
    "                df_submission.to_csv(name_file_sub, index = False)\n",
    "                \n",
    "    def diff(t_a, t_b):\n",
    "        from dateutil.relativedelta import relativedelta\n",
    "        t_diff = relativedelta(t_b, t_a)  # later/end time comes first!\n",
    "        return '{h}h {m}m {s}s'.format(h=t_diff.hours, m=t_diff.minutes, s=t_diff.seconds)\n",
    "        \n",
    "    def feature_scaler(df_, scaler_=None, feature_bin_=None):\n",
    "    \n",
    "        if scaler_!=None: \n",
    "            \n",
    "            #if feature_bin_!=None:\n",
    "            #    disc = KBinsDiscretizer(n_bins=50, encode='ordinal', strategy='uniform')\n",
    "            #    df_[feature_bin_] = disc.fit_transform(df_[feature_bin_])\n",
    "\n",
    "            df_ = pd.DataFrame(scaler_.fit_transform(df_), columns=df_.columns)\n",
    "    \n",
    "        return df_\n",
    "\n",
    "    def cross_valid(model_, model_name_, X_train_, y_train_, X_test_, fold_=5, target_='target', \n",
    "            path_='', level_='1', save_predict_=True, print_result_=True, seed_=12359, \n",
    "            feature_=None, feature_bin=None, scaler_=StandardScaler(), threshold=.5, print_report_=False \n",
    "            ):\n",
    "\n",
    "        if feature_!=None: \n",
    "            X_train_ = X_train_[feature_]\n",
    "            X_test_  = X_test_[feature_]\n",
    "\n",
    "        #--------------------------------------------------------  \n",
    "        # Scorpo de variáveis\n",
    "        #--------------------------------------------------------\n",
    "\n",
    "        time_pred_start    = datetime.now()\n",
    "        preds_valid_f      = {}\n",
    "        preds_test         = []\n",
    "        total_auc          = []\n",
    "        f_scores           = []\n",
    "        auc_mean           = []\n",
    "        f1_mean            = []\n",
    "        lloss_mean         = []\n",
    "        preds_test         = 0  \n",
    "        pred_test_prob     = 0\n",
    "        df_score_history   = pd.DataFrame()\n",
    "        df_train_pred_fold = pd.DataFrame()\n",
    "        df_pred_fold       = pd.DataFrame()\n",
    "        random             = str(np.random.rand(1)[0]).replace('.','')\n",
    "        model_name_        = model_name_ + '_score_{:2.5f}_{}_' + random + '.pkl.z'\n",
    "        clf_name           = model_.__class__.__name__\n",
    "        pri_result         = 92\n",
    "        learning_rate      = model_.learning_rate         \n",
    "        le                 = LabelEncoder()\n",
    "        y_train_           = pd.DataFrame(le.fit_transform(y_train_), columns=[target_])\n",
    "                                                   \n",
    "        #--------------------------------------------------------  \n",
    "        # Início do process de varilidação\n",
    "        #--------------------------------------------------------\n",
    "        have_observation=''\n",
    "\n",
    "        #if dropout_>0: \n",
    "        #    is_dropout='*'\n",
    "\n",
    "        if print_result_:\n",
    "            num_parallel_tree = 1 #model_.get_params()['num_parallel_tree']\n",
    "            learning_rate     = model_.learning_rate\n",
    "            n_estimators      = model_.n_estimators * num_parallel_tree  \n",
    "            max_depth         = model_.max_depth \n",
    "            msg               = 'Training model: {} - seed {} - n_estimators: {} - learning_rate: {} {:2.5f}'\n",
    "\n",
    "            print('='*pri_result)            \n",
    "            print(msg.format(clf_name, seed_, n_estimators, max_depth, learning_rate))\n",
    "            print('='*pri_result)\n",
    "\n",
    "        kf = StratifiedKFold(n_splits=fold_, random_state=42, shuffle=True)\n",
    "\n",
    "        for fold,(idx_train, idx_val) in enumerate(kf.split(X_train_, y_train_, groups=y_train_)):\n",
    "\n",
    "            time_fold_start = datetime.now()\n",
    "\n",
    "            #--------------------------------------------------------  \n",
    "            # Seleção dos dados\n",
    "            #--------------------------------------------------------\n",
    "            X_trn, X_val = X_train_.iloc[idx_train], X_train_.iloc[idx_val]\n",
    "            y_trn, y_val = y_train_.iloc[idx_train], y_train_.iloc[idx_val]\n",
    "            index_valid  = idx_train\n",
    "\n",
    "            #--------------------------------------------------------  \n",
    "            # Processamento\n",
    "            #--------------------------------------------------------        \n",
    "            X_trn = TunningModels.feature_scaler(X_trn, scaler_, feature_bin) \n",
    "            X_val = TunningModels.feature_scaler(X_val, scaler_, feature_bin) \n",
    "\n",
    "            #--------------------------------------------------------  \n",
    "            # Modelo\n",
    "            #--------------------------------------------------------\n",
    "            model = model_.fit(X_trn, y_trn,\n",
    "                               eval_set              = [(X_trn, y_trn), (X_val, y_val)],          \n",
    "                               early_stopping_rounds = int(n_estimators*.1),\n",
    "                               verbose               = False)\n",
    "\n",
    "            #--------------------------------------------------------  \n",
    "            # oof\n",
    "            #--------------------------------------------------------\n",
    "            preds_valid_proba = model.predict_proba(X_val, ntree_limit=model_.best_ntree_limit)\n",
    "            y_pred_valid      = le.inverse_transform(np.argmax(preds_valid_proba, axis=1))\n",
    "            \n",
    "            #--------------------------------------------------------  \n",
    "            # Obtenha os valores médios de cada fold para a previsão\n",
    "            #--------------------------------------------------------  \n",
    "            y_pred_test_prob = model.predict_proba(X_test_, ntree_limit=model_.best_ntree_limit)\n",
    "            pred_test_prob  += np.max(y_pred_test_prob, axis=1) / fold_\n",
    "            preds_test      += le.inverse_transform(np.argmax(y_pred_test_prob, axis=1)) / fold_\n",
    "\n",
    "            #--------------------------------------------------------  \n",
    "            # Métricas \n",
    "            #-------------------------------------------------------- \n",
    "            y_val = le.inverse_transform(y_val)\n",
    "            acc   = metrics.accuracy_score(y_val, y_pred_valid)\n",
    "            f1    = metrics.f1_score(y_val, y_pred_valid, average='weighted')\n",
    "            prec  = metrics.precision_score(y_val, y_pred_valid, average='macro')\n",
    "\n",
    "            #--------------------------------------------------------  \n",
    "            # Concatenar validação e predição\n",
    "            #--------------------------------------------------------        \n",
    "            df_val_pred_fold = pd.DataFrame({'fold'     : fold+1,\n",
    "                                             'index'    : idx_val, \n",
    "                                             'acc'      : acc, \n",
    "                                             'f1'       : f1,\n",
    "                                             'prec'     : prec,                                              \n",
    "                                             'target'   : y_val, \n",
    "                                             'y_pred'   : y_pred_valid, \n",
    "                                             'pred_val' : np.max(preds_valid_proba, axis=1)\n",
    "                                             })\n",
    "\n",
    "            df_train_pred_fold = pd.concat([df_train_pred_fold, df_val_pred_fold], axis=0)\n",
    "\n",
    "            col_name        = le.inverse_transform(list(model.classes_))\n",
    "            df_prob_temp    = pd.DataFrame(preds_valid_proba, columns=col_name)\n",
    "            y_pred_pbro_max = df_prob_temp.max(axis=1)\n",
    "\n",
    "            \n",
    "            df_prob_temp['y_val']     = y_val\n",
    "            df_prob_temp['y_pred']    = y_pred_valid \n",
    "            df_prob_temp['y_proba']   = np.max(preds_valid_proba, axis=1)            \n",
    "            df_prob_temp['acc']       = acc   \n",
    "            df_prob_temp['f1']        = f1 \n",
    "            df_prob_temp['precision'] = prec              \n",
    "            df_prob_temp['fold']      = fold+1\n",
    "            df_prob_temp['index']     = idx_val   \n",
    "            \n",
    "            df_pred_fold = pd.concat([df_pred_fold, df_prob_temp], axis=0)\n",
    "            \n",
    "            del df_prob_temp\n",
    "            \n",
    "            #df_prob_temp['scaler']  = str(string_scaler)\n",
    "            \n",
    "            #preds_valid_proba = np.max(preds_valid_proba, axis=1)\n",
    "            \n",
    "            \n",
    "            auc_mean.append(acc)   \n",
    "            f1_mean.append(f1)    \n",
    "            lloss_mean.append(prec) \n",
    "\n",
    "            #--------------------------------------------------------  \n",
    "            # Print resultado Fold\n",
    "            #--------------------------------------------------------\n",
    "            if print_result_:\n",
    "                msg = 'Fold: {} - ACC: {:2.5f} - F1-score: {:2.5f} - Precision: {:2.5f} - {}'\n",
    "                time_fold_start_end = TunningModels.diff(time_fold_start, datetime.now())\n",
    "                print(msg.format(fold+1, acc, f1, prec, time_fold_start_end))\n",
    "\n",
    "            free_gpu_cache() \n",
    "        \n",
    "        \n",
    "\n",
    "        del X_trn, y_trn, X_val, y_val \n",
    "\n",
    "        df_train_pred_fold.sort_values(\"index\", axis=0, ascending=True, inplace=True)\n",
    "\n",
    "        #--------------------------------------------------------  \n",
    "        # Salvar predição em disco\n",
    "        #--------------------------------------------------------\n",
    "        X_train_prob      = df_train_pred_fold['pred_val'].to_list()\n",
    "        score             = np.mean(auc_mean)\n",
    "        y_pred_test       = np.int32(preds_test)\n",
    "\n",
    "        if save_predict_:\n",
    "            TunningModels.save_data_model(model_             = model_, \n",
    "                                          model_name_        = model_name_, \n",
    "                                          path_              = path_, \n",
    "                                          y_pred_train_prob_ = X_train_prob, \n",
    "                                          y_pred_test_prob_  = pred_test_prob, \n",
    "                                          y_pred_test_       = y_pred_test,\n",
    "                                          score_             = score, \n",
    "                                          seed_              = seed_, \n",
    "                                          level_             = level_, \n",
    "                                          target_            = target_\n",
    "                                          )  \n",
    "\n",
    "        #--------------------------------------------------------  \n",
    "        # Print média dos Folds\n",
    "        #--------------------------------------------------------\n",
    "        time_pred_end = TunningModels.diff(time_pred_start, datetime.now())\n",
    "\n",
    "        if print_result_:\n",
    "            msg = '[Mean Fold]  ACC: {:.5f}(Std:{:.5f}) - F1: {:.5f} - Precision: {:.5f}  {}'        \n",
    "            print('-'*pri_result)            \n",
    "            print(msg.format(np.mean(auc_mean),np.std(auc_mean) , np.mean(f1_mean), np.mean(lloss_mean), time_pred_end))\n",
    "            print('='*pri_result)\n",
    "            print()\n",
    "            \n",
    "            if print_report_: \n",
    "                y_pred = df_train_pred_fold['y_pred']\n",
    "                y_vl   = df_train_pred_fold['target']\n",
    "                print(metrics.classification_report(y_vl, y_pred))\n",
    "\n",
    "        free_gpu_cache() \n",
    "\n",
    "        return model, score, y_pred_test, df_pred_fold        \n",
    "   \n",
    "    def xgb(self, trial):\n",
    "           \n",
    "        # https://xgboost.readthedocs.io/en/latest/parameter.html\n",
    "        # https://amangupta16.medium.com/xgboost-hyperparameters-explained-bb6ce580501d        \n",
    "        params = {'objective'         : trial.suggest_categorical('objective', ['binary:logistic']), \n",
    "                  'booster'           : trial.suggest_categorical('booster', ['gbtree']), \n",
    "                  'eval_metric'       : trial.suggest_categorical('eval_metric', ['auc']),\n",
    "                  'n_estimators'      : trial.suggest_int('n_estimators', 500, 800),\n",
    "                  'max_depth'         : trial.suggest_int('max_depth', 2, 7),            \n",
    "                  'min_child_weight'  : trial.suggest_int('min_child_weight', 190, 230),  \n",
    "                  'num_parallel_tree' : trial.suggest_int('num_parallel_tree', 1, 3),\n",
    "                  'learning_rate'     : trial.suggest_float('learning_rate', .085, 0.121),\n",
    "                  #'colsample_bylevel' : trial.suggest_float('colsample_bylevel', .90, .95), \n",
    "                  #'subsample'         : trial.suggest_float('subsample', .65, .75),                  \n",
    "                  #'colsample_bynode'  : trial.suggest_float('colsample_bynode', .85, .95),      \n",
    "                  'sampling_method'   : trial.suggest_categorical('sampling_method', ['gradient_based']), \n",
    "                 }\n",
    "                \n",
    "        if torch.cuda.is_available():           \n",
    "            params.update({'predictor'  : trial.suggest_categorical('predictor', ['gpu_predictor']), \n",
    "                           'tree_method': trial.suggest_categorical('tree_method', ['gpu_hist']) , \n",
    "                           'gpu_id'     : trial.suggest_int('gpu_id', 0,0)})\n",
    "                \n",
    "        #pruning_callback = optuna.integration.XGBoostPruningCallback(trial, \"validation-auc\")\n",
    "        \n",
    "        mdl = xgb.XGBClassifier(**params) #, callbacks=[pruning_callback])\n",
    "        \n",
    "        _, score, _, _  = TunningModels.cross_valid(model_         = mdl, \n",
    "                                                    model_name_    = self.name_clf, \n",
    "                                                    X_train_       = self.X_trn, \n",
    "                                                    y_train_       = self.y_trn, \n",
    "                                                    X_test_        = self.X_ts,            \n",
    "                                                    target_        = self.target,\n",
    "                                                    path_          = self.path,\n",
    "                                                    level_         = self.level,            \n",
    "                                                    seed_          = self.seed,\n",
    "                                                    feature_       = self.feature, \n",
    "                                                    feature_bin    = self.feature_bin,\n",
    "                                                    scaler_        = self.scaler                                            \n",
    "                                                    )\n",
    "        \n",
    "        print('param = {}'.format(params))\n",
    "        print()\n",
    "\n",
    "        return score"
   ]
  },
  {
   "cell_type": "markdown",
   "metadata": {
    "id": "RDUypJOfi345"
   },
   "source": [
    "## 1.2. XGB\n"
   ]
  },
  {
   "cell_type": "markdown",
   "metadata": {
    "id": "qt3ys_urulwK"
   },
   "source": [
    "# https://www.kaggle.com/kaaveland/tps202112-reasonable-xgboost-model"
   ]
  },
  {
   "cell_type": "code",
   "execution_count": 25,
   "metadata": {
    "ExecuteTime": {
     "end_time": "2021-12-26T12:34:47.627852Z",
     "start_time": "2021-12-26T12:34:47.619856Z"
    },
    "executionInfo": {
     "elapsed": 2,
     "status": "ok",
     "timestamp": 1640350098819,
     "user": {
      "displayName": "Rogério Delfim",
      "photoUrl": "https://lh3.googleusercontent.com/a-/AOh14Gj8lDYWTfZHU0U0sMojRPio71Ec7YDcSEpCaOEE=s64",
      "userId": "04235763959036945343"
     },
     "user_tz": 180
    },
    "id": "VtWHWmigidQr"
   },
   "outputs": [],
   "source": [
    "#https://www.kaggle.com/kaggleqrdl/qrdl-covtype-tpsdec21-01-keras-quickstart"
   ]
  },
  {
   "cell_type": "code",
   "execution_count": null,
   "metadata": {
    "ExecuteTime": {
     "end_time": "2021-12-25T18:19:52.605411Z",
     "start_time": "2021-12-25T18:19:51.609384Z"
    }
   },
   "outputs": [],
   "source": [
    "params = {\n",
    "   # 'num_class': num_class,\n",
    "    'objective': 'multi:softprob',\n",
    "    'tree_method': 'gpu_hist',\n",
    "    'predictor': 'gpu_predictor',\n",
    "    'eval_metric': ['merror', 'mlogloss'],\n",
    "    'learning_rate': .09,\n",
    "    'max_depth': 0,\n",
    "    'subsample': .15,\n",
    "    'sampling_method': 'gradient_based',\n",
    "    'seed': 64,\n",
    "    'grow_policy': 'lossguide',\n",
    "    'max_leaves': 255,\n",
    "    'lambda': 100,\n",
    "}\n",
    "\n",
    "params = {'objective'         : 'multi:softprob', #'multi:softmax',     \n",
    "          'eval_metric'       : eval_metric,         \n",
    "          #'sample_weight'     : sample_weights, \n",
    "          'num_class'         : len(y.unique()),\n",
    "          'n_estimators'      : 500, # [500, 800]  \n",
    "          'max_depth'         : 0,   # [2, 7]\n",
    "          'max_leaves'        : 255,\n",
    "          'min_child_weight'  : 190, # [200, 230 ]          \n",
    "          'num_parallel_tree' : 1,   # [1,3]\n",
    "          'learning_rate'     : .09,  # [1., .109]\n",
    "          'colsample_bylevel' : .95, # [.85, 95]\n",
    "          'subsample'         : .15, # [.65, .75]          \n",
    "          'colsample_bynode'  : .95, # [.85, .95],  \n",
    "          'lambda'            : 100,\n",
    "          'sampling_method'   : 'gradient_based', \n",
    "          'grow_policy'       : 'lossguide',\n",
    "          'random_state'      : SEED}\n"
   ]
  },
  {
   "cell_type": "markdown",
   "metadata": {},
   "source": [
    "Estamos configurando isso como um classificador de softprob, o que significa que esperaremos que o booster emita probabilidades em vez de classes. Isso é muito útil para fazer ensembles de votação suave, e também é muito útil para fazer análises de quais samples são difíceis e quais não são. Eu escolho softprob para basicamente todos os classificadores multiclasse com xgboost.\n",
    "\n",
    "Configurei o xgboost para usar GPU aqui, se não posso usá-lo com GPU, prefiro usar lightgbm. Mas a GPU permite algumas opções interessantes que sempre gosto de experimentar em problemas tabulares, e torna a velocidade de treinamento do booster competitiva com opções como redes neurais e lightgbm.\n",
    "\n",
    "Quanto ao 'eval_metric', é importante saber que o xgboost usará apenas a última métrica para parada antecipada. Quando fornecido com vários conjuntos de dados de avaliação, ele usará apenas o último conjunto de dados. Nesta competição, descobri que obtenho melhores resultados ao usar logloss para parada antecipada do que erro, mas tentei os dois e você também deve tentar.\n",
    "\n",
    "A taxa de aprendizado é um parâmetro xgboost com o qual sempre vale a pena brincar. .1 não é escolhido arbitrariamente, mas também não fiz uma grande pesquisa para garantir que seja um grande valor. Em geral, quanto menor for esse número, mais iterações serão necessárias e maiores as chances de que você superejuste. Uma taxa de aprendizado baixa permite que o booster seja muito complexo, então você pode querer usar uma regularização forte se precisar de uma taxa de aprendizado baixa.\n",
    "\n",
    "max_depth é a profundidade máxima permitida das árvores de decisão que o booster usa. Normalmente, um bom valor aqui é 3-11. Mas, devido a outras opções que estamos usando aqui, podemos permitir com segurança um max_depth infinito (consulte a discussão sobre grow_policy abaixo), outros limites impedirão o xgboost de criar uma árvore infinitamente profunda.\n",
    "\n",
    "subamostra é definido como .2 aqui, mas provavelmente poderíamos ir tão baixo quanto .1. O significado aqui é a fração das amostras que serão usadas em cada iteração do booster. Ao usar sampling_method = 'gradient_based', você pode definir isso muito baixo, o que é muito útil ao brincar com conjuntos de dados grandes como o que temos aqui. Porém, isso só é possível com tree_method = 'gpu_hist'. É útil definir esse valor baixo, quando você puder - acelera o treinamento significativamente para olhar apenas cerca de 10-20% dos dados em cada iteração.\n",
    "\n",
    "Eu defini a semente para resultados reproduzíveis e grow_policy = 'lossguide'. O que isso faz é que as árvores cresçam no sentido das folhas, em vez de no sentido da profundidade, por exemplo. não é mais necessário preencher um nível inteiro na árvore de decisão antes de descer ainda mais. Isso significa que devemos definir max_leaves = 255 para algum valor, aqui eu escolhi 255 e remover o limite em max_depth, ou defini-lo realmente alto.\n",
    "\n",
    "lambda é para regularização l2. Nós o definimos bem alto aqui, já que max_leaves é alto e nossa taxa de aprendizado não é muito alta. Para esta competição, descobri que é importante regularizar os boosters para obter um bom desempenho do LB\n",
    "\n",
    "Essas configurações que eu escolhi fazem o xgboost agir um pouco como lightgbm, mas como ele roda na GPU, é bastante rápido, mesmo na GTX1660Ti do meu laptop.\n",
    "\n",
    "Eu trato esses parâmetros como padrões razoáveis, eles não são parâmetros que eu ajustei com uma pesquisa de hiperparâmetro e de forma alguma são ideais. Eles estão muito próximos do que tentarei na primeira vez que encontrar um novo problema tabular. Tenho certeza que com alguns ajustes poderemos obter uma pontuação melhor. Provavelmente temos mais a ganhar brincando com learning_rate, lambda e max_leaves ou \"começando de novo\" sem grow_policy = 'lossguide' e sampling_method = 'gradient_based'.\n",
    "\n",
    "Se eu fosse introduzir novas opções, poderia procurar mais regularização aqui, talvez gamma e colsample_bytree. Nesse ponto, pode ser necessário executar mais iterações também.\n",
    "\n",
    "A seguir, vamos escrever uma função de utilidade que irá misturar os pseudo rótulos em um conjunto de trem e embaralhá-los, já que precisaremos disso para treinar:\n"
   ]
  },
  {
   "cell_type": "code",
   "execution_count": 54,
   "metadata": {
    "ExecuteTime": {
     "end_time": "2021-12-26T12:53:31.400814Z",
     "start_time": "2021-12-26T12:53:31.392776Z"
    }
   },
   "outputs": [
    {
     "data": {
      "text/plain": [
       "408565"
      ]
     },
     "execution_count": 54,
     "metadata": {},
     "output_type": "execute_result"
    }
   ],
   "source": [
    "int(107686 * .7 + 34215 * 3 + 6327 * 20 + 208 * 500)"
   ]
  },
  {
   "cell_type": "code",
   "execution_count": 55,
   "metadata": {
    "ExecuteTime": {
     "end_time": "2021-12-26T12:54:11.814658Z",
     "start_time": "2021-12-26T12:53:53.053660Z"
    }
   },
   "outputs": [
    {
     "data": {
      "text/plain": [
       "2    835542\n",
       "1    767457\n",
       "3    183066\n",
       "7    136860\n",
       "6    132867\n",
       "4    104208\n",
       "Name: Cover_Type, dtype: int64"
      ]
     },
     "execution_count": 55,
     "metadata": {},
     "output_type": "execute_result"
    }
   ],
   "source": [
    "from imblearn.over_sampling import RandomOverSampler\n",
    "from imblearn.under_sampling import RandomUnderSampler\n",
    "\n",
    "sampling_strategy_over = {2: 1244107 , \n",
    "                          1: 807457, \n",
    "                          3: 107686  + int(107686 * .7), \n",
    "                          7: 34215   +  34215 * 3, \n",
    "                          6: 6327    +   6327 * 20, \n",
    "                          4: 208     +    208 * 500\n",
    "                         }\n",
    "\n",
    "sampling_strategy_under = {2: 1244107  - 408565, \n",
    "                          1: 807457    - 40000, \n",
    "                          3: 107686    + int(107686 * .7), \n",
    "                          7: 34215     +  34215 * 3, \n",
    "                          6: 6327      +   6327 * 20, \n",
    "                          4: 208       +    208 * 500\n",
    "                         }\n",
    "\n",
    "oversample  = RandomOverSampler(sampling_strategy=sampling_strategy_over,  random_state=12359)\n",
    "undersample = RandomUnderSampler(sampling_strategy=sampling_strategy_under,  random_state=12359)\n",
    "\n",
    "X_over = X.iloc[idx_sample]\n",
    "y_over = y.iloc[idx_sample]\n",
    "\n",
    "X_over, y_over = oversample.fit_resample(X_over, y_over)\n",
    "X_over, y_over = undersample.fit_resample(X_over, y_over)\n",
    "\n",
    "# 1\t1468136\t0,38565\n",
    "# 2\t2262087\t0,51259\n",
    "# 3\t 195712\t0,07817\n",
    "\n",
    "y_over.value_counts()"
   ]
  },
  {
   "cell_type": "code",
   "execution_count": 31,
   "metadata": {
    "ExecuteTime": {
     "end_time": "2021-12-26T12:39:04.456342Z",
     "start_time": "2021-12-26T12:39:04.445343Z"
    }
   },
   "outputs": [
    {
     "data": {
      "text/plain": [
       "Int64Index([ 867670,   30845,   34051, 3119854, 2280978, 1848523, 2927911,\n",
       "            1374148, 3695889, 1747536,\n",
       "            ...\n",
       "            3118091, 1213387, 1151278, 1085235,  795769, 3791592, 1781534,\n",
       "            2815385,  562614, 3882035],\n",
       "           dtype='int64', length=2200000)"
      ]
     },
     "execution_count": 31,
     "metadata": {},
     "output_type": "execute_result"
    }
   ],
   "source": [
    "idx_sample\n"
   ]
  },
  {
   "cell_type": "code",
   "execution_count": 39,
   "metadata": {
    "ExecuteTime": {
     "end_time": "2021-12-26T12:42:21.385230Z",
     "start_time": "2021-12-26T12:42:21.285266Z"
    },
    "scrolled": false
   },
   "outputs": [
    {
     "data": {
      "text/plain": [
       "{2: 1244107, 1: 807457, 3: 107686, 7: 34215, 6: 6327, 4: 208}"
      ]
     },
     "execution_count": 39,
     "metadata": {},
     "output_type": "execute_result"
    }
   ],
   "source": [
    "y.iloc[idx_sample].value_counts().to_dict()"
   ]
  },
  {
   "cell_type": "code",
   "execution_count": null,
   "metadata": {},
   "outputs": [],
   "source": [
    "2    113122\n",
    "1     73335\n",
    "3      9969\n",
    "7      3460\n",
    "4      2010\n",
    "6      1515"
   ]
  },
  {
   "cell_type": "code",
   "execution_count": null,
   "metadata": {
    "ExecuteTime": {
     "start_time": "2021-12-26T12:29:17.295Z"
    }
   },
   "outputs": [],
   "source": [
    "df_pred.y_val.value_counts()"
   ]
  },
  {
   "cell_type": "code",
   "execution_count": null,
   "metadata": {
    "ExecuteTime": {
     "end_time": "2021-12-26T03:42:32.229705Z",
     "start_time": "2021-12-26T03:42:00.137822Z"
    }
   },
   "outputs": [],
   "source": [
    "from imblearn.over_sampling import SMOTE\n",
    "from collections import Counter\n",
    "\n",
    "counter = Counter(y_train)\n",
    "print('Before',counter)\n",
    "# oversampling the train dataset using SMOTE\n",
    "smt = SMOTE()\n",
    "#X_train, y_train = smt.fit_resample(X_train, y_train)\n",
    "\n",
    "\n",
    "X_over = X.iloc[idx_sample]\n",
    "y_over = y.iloc[idx_sample]\n",
    "\n",
    "X_train_sm, y_train_sm = smt.fit_resample(X_train, y_train)\n",
    "\n",
    "counter = Counter(y_train_sm)\n",
    "print('After',counter)\n"
   ]
  },
  {
   "cell_type": "code",
   "execution_count": 35,
   "metadata": {
    "ExecuteTime": {
     "end_time": "2021-12-26T12:41:01.048487Z",
     "start_time": "2021-12-26T12:40:59.257333Z"
    }
   },
   "outputs": [],
   "source": [
    "#idx_sample = X.sample(2200000).index"
   ]
  },
  {
   "cell_type": "code",
   "execution_count": 56,
   "metadata": {
    "ExecuteTime": {
     "end_time": "2021-12-26T14:36:21.961889Z",
     "start_time": "2021-12-26T12:56:07.705706Z"
    },
    "code_folding": [],
    "colab": {
     "base_uri": "https://localhost:8080/",
     "height": 1000
    },
    "executionInfo": {
     "elapsed": 6272,
     "status": "error",
     "timestamp": 1640350107244,
     "user": {
      "displayName": "Rogério Delfim",
      "photoUrl": "https://lh3.googleusercontent.com/a-/AOh14Gj8lDYWTfZHU0U0sMojRPio71Ec7YDcSEpCaOEE=s64",
      "userId": "04235763959036945343"
     },
     "user_tz": 180
    },
    "id": "n4K30XtZoEd2",
    "outputId": "6717ce3b-9c68-4eb8-edb2-a3db231c0238",
    "run_control": {
     "marked": false
    }
   },
   "outputs": [
    {
     "name": "stdout",
     "output_type": "stream",
     "text": [
      "============================================================================================\n",
      "Training model: XGBClassifier - seed 12359 - n_estimators: 500 - learning_rate: 4 0.09000\n",
      "============================================================================================\n",
      "Fold: 1 - ACC: 0.94922 - F1-score: 0.94938 - Precision: 0.93243 - 0h 8m 52s\n",
      "Fold: 2 - ACC: 0.95088 - F1-score: 0.95082 - Precision: 0.93880 - 0h 9m 23s\n",
      "Fold: 3 - ACC: 0.95277 - F1-score: 0.95287 - Precision: 0.93704 - 0h 9m 41s\n",
      "Fold: 4 - ACC: 0.92278 - F1-score: 0.92298 - Precision: 0.91447 - 0h 10m 29s\n",
      "Fold: 5 - ACC: 0.91840 - F1-score: 0.91913 - Precision: 0.90229 - 0h 8m 56s\n",
      "--------------------------------------------------------------------------------------------\n",
      "[Mean Fold]  ACC: 0.93881(Std:0.01498) - F1: 0.93904 - Precision: 0.92501  0h 47m 37s\n",
      "============================================================================================\n",
      "\n",
      "              precision    recall  f1-score   support\n",
      "\n",
      "           1       0.96      0.93      0.95    767457\n",
      "           2       0.95      0.96      0.95    835542\n",
      "           3       0.85      0.92      0.88    183066\n",
      "           4       0.98      0.97      0.97    104208\n",
      "           6       0.91      0.91      0.91    132867\n",
      "           7       0.90      0.91      0.90    136860\n",
      "\n",
      "    accuracy                           0.94   2160000\n",
      "   macro avg       0.92      0.93      0.93   2160000\n",
      "weighted avg       0.94      0.94      0.94   2160000\n",
      "\n",
      "============================================================================================\n",
      "Training model: XGBClassifier - seed 12359 - n_estimators: 500 - learning_rate: 4 0.09000\n",
      "============================================================================================\n",
      "Fold: 1 - ACC: 0.95511 - F1-score: 0.95455 - Precision: 0.71672 - 0h 9m 58s\n",
      "Fold: 2 - ACC: 0.95510 - F1-score: 0.95493 - Precision: 0.71136 - 0h 9m 59s\n",
      "Fold: 3 - ACC: 0.93839 - F1-score: 0.93771 - Precision: 0.70189 - 0h 10m 36s\n",
      "Fold: 4 - ACC: 0.93316 - F1-score: 0.93264 - Precision: 0.69384 - 0h 10m 38s\n",
      "Fold: 5 - ACC: 0.93570 - F1-score: 0.93498 - Precision: 0.70312 - 0h 10m 49s\n",
      "--------------------------------------------------------------------------------------------\n",
      "[Mean Fold]  ACC: 0.94349(Std:0.00963) - F1: 0.94296 - Precision: 0.70538  0h 52m 19s\n",
      "============================================================================================\n",
      "\n",
      "              precision    recall  f1-score   support\n",
      "\n",
      "           1       0.97      0.92      0.94    807457\n",
      "           2       0.94      0.97      0.96   1244107\n",
      "           3       0.82      0.91      0.87    107686\n",
      "           4       0.00      0.00      0.00       208\n",
      "           6       0.67      0.36      0.47      6327\n",
      "           7       0.81      0.73      0.77     34215\n",
      "\n",
      "    accuracy                           0.94   2200000\n",
      "   macro avg       0.70      0.65      0.67   2200000\n",
      "weighted avg       0.94      0.94      0.94   2200000\n",
      "\n",
      "Wall time: 1h 40min 14s\n"
     ]
    }
   ],
   "source": [
    "%%time \n",
    "\n",
    "y_unique       = y.unique()\n",
    "sample_weights = compute_sample_weight(class_weight='balanced', y=y)                 \n",
    "eval_metric    = ['merror', 'mlogloss']\n",
    "    \n",
    "SEED   = 12359\n",
    "params = {'objective'         : 'multi:softmax', #'multi:softprob', #,     \n",
    "          'eval_metric'       : eval_metric,         \n",
    "          #'sample_weight'     : sample_weights, \n",
    "          'num_class'         : len(y.unique()),\n",
    "          'n_estimators'      : 500, # [500, 800]  \n",
    "          'max_depth'         : 4,   # [2, 7]\n",
    "          'max_leaves'        : 255,\n",
    "          'min_child_weight'  : 190, # [200, 230 ]          \n",
    "          'num_parallel_tree' : 1,   # [1,3]\n",
    "          'learning_rate'     : .09,  # [1., .109]\n",
    "          'colsample_bylevel' : .95, # [.85, 95]\n",
    "          'subsample'         : .15, # [.65, .75]          \n",
    "          'colsample_bynode'  : .95, # [.85, .95],  \n",
    "          'lambda'            : 100,\n",
    "          'sampling_method'   : 'gradient_based', \n",
    "          'grow_policy'       : 'lossguide',\n",
    "          'random_state'      : SEED}\n",
    "\n",
    "if torch.cuda.is_available():           \n",
    "    params.update({'predictor'  : 'gpu_predictor', \n",
    "                   'tree_method': 'gpu_hist', \n",
    "                   'gpu_id'     :  0})    \n",
    "\n",
    "\n",
    "scaler = MinMaxScaler()\n",
    "\n",
    "score_best     = 0 \n",
    "name_model_clf = 'xgb_' \n",
    "name_model     = name_model_clf + '001_tunning_under_over_sample' \n",
    "\n",
    "TunningModels.delete_files(name_model)\n",
    "\n",
    "X_test_scaler = TunningModels.feature_scaler(X_test.copy(), scaler)\n",
    "name_mdl      = name_model #+ str(scaler).lower()[:4]\n",
    "\n",
    "model, score, _, df_pred  = TunningModels.cross_valid(model_         = xgb.XGBClassifier(**params), \n",
    "                                                      model_name_    = name_mdl, \n",
    "                                                      X_train_       = X_over, #.iloc[idx_sample], \n",
    "                                                      y_train_       = y_over, #.iloc[idx_sample], \n",
    "                                                      X_test_        = X_test_scaler, \n",
    "                                                      fold_          = 5, \n",
    "                                                      target_        = target,\n",
    "                                                      path_          = path,\n",
    "                                                      level_         = '1',\n",
    "                                                      save_predict_  = True, \n",
    "                                                      print_result_  = True,\n",
    "                                                      seed_          = SEED,\n",
    "                                                      feature_       = None, \n",
    "                                                      feature_bin    = None, \n",
    "                                                      scaler_        = MinMaxScaler(), \n",
    "                                                      threshold      = .5, \n",
    "                                                      print_report_  = True\n",
    "                                                      )\n",
    "\n",
    "name_model     = name_model_clf + '001_tunning'\n",
    "name_mdl      = name_model #+ str(scaler).lower()[:4]\n",
    "model, score, _, df_pred  = TunningModels.cross_valid(model_         = xgb.XGBClassifier(**params), \n",
    "                                                      model_name_    = name_mdl, \n",
    "                                                      X_train_       = X.iloc[idx_sample], \n",
    "                                                      y_train_       = y.iloc[idx_sample], \n",
    "                                                      X_test_        = X_test_scaler, \n",
    "                                                      fold_          = 5, \n",
    "                                                      target_        = target,\n",
    "                                                      path_          = path,\n",
    "                                                      level_         = '1',\n",
    "                                                      save_predict_  = True, \n",
    "                                                      print_result_  = True,\n",
    "                                                      seed_          = SEED,\n",
    "                                                      feature_       = None, \n",
    "                                                      feature_bin    = None, \n",
    "                                                      scaler_        = MinMaxScaler(), \n",
    "                                                      threshold      = .5, \n",
    "                                                      print_report_  = True\n",
    "                                                      )"
   ]
  },
  {
   "cell_type": "code",
   "execution_count": null,
   "metadata": {
    "ExecuteTime": {
     "end_time": "2021-12-26T00:06:42.804743Z",
     "start_time": "2021-12-26T00:06:42.722778Z"
    }
   },
   "outputs": [],
   "source": [
    "y_val = df_pred['y_val'][df_pred.fold ==1 ]\n",
    "y_pre = df_pred['y_pred'][df_pred.fold ==1 ]\n",
    "metrics.accuracy_score(y_val, y_pre), df_pred['acc'][df_pred.fold ==1 ].mean()\n"
   ]
  },
  {
   "cell_type": "code",
   "execution_count": null,
   "metadata": {
    "ExecuteTime": {
     "end_time": "2021-12-25T18:12:40.346958Z",
     "start_time": "2021-12-25T18:12:39.721552Z"
    }
   },
   "outputs": [],
   "source": [
    "df_pred.sort_values(\"index\", axis=0, ascending=True, inplace=True)\n",
    "df_pred"
   ]
  },
  {
   "cell_type": "code",
   "execution_count": null,
   "metadata": {
    "ExecuteTime": {
     "end_time": "2021-12-26T00:07:09.469912Z",
     "start_time": "2021-12-26T00:07:09.447938Z"
    }
   },
   "outputs": [],
   "source": [
    "df_pred.y_pred.value_counts()"
   ]
  },
  {
   "cell_type": "code",
   "execution_count": null,
   "metadata": {},
   "outputs": [],
   "source": [
    "2    16920       17186\n",
    "1    11087       11003\n",
    "3     1464       1745\n",
    "7      445       66\n",
    "6       82\n",
    "4        2"
   ]
  },
  {
   "cell_type": "code",
   "execution_count": null,
   "metadata": {
    "ExecuteTime": {
     "end_time": "2021-12-25T03:46:51.040551Z",
     "start_time": "2021-12-25T03:46:51.024517Z"
    }
   },
   "outputs": [],
   "source": [
    "y_val = df_pred['y_val'][df_pred.fold ==1 ]\n",
    "y_pre = df_pred['y_pred'][df_pred.fold ==1 ]\n",
    "metrics.accuracy_score(y_val, y_pre), df_pred['acc'][df_pred.fold ==1 ].mean()\n"
   ]
  },
  {
   "cell_type": "markdown",
   "metadata": {
    "id": "S5fsZ-O5i345"
   },
   "source": [
    "### 1.2.1. Tunning \n",
    "Nesta etapa de modelagem, vamos criar 20 modelos e salvá-los para a nossa `Stacking`."
   ]
  },
  {
   "cell_type": "code",
   "execution_count": null,
   "metadata": {
    "ExecuteTime": {
     "end_time": "2021-11-26T14:37:59.707799Z",
     "start_time": "2021-11-26T14:06:02.713551Z"
    },
    "code_folding": [],
    "colab": {
     "base_uri": "https://localhost:8080/"
    },
    "executionInfo": {
     "elapsed": 6865419,
     "status": "ok",
     "timestamp": 1637980830880,
     "user": {
      "displayName": "Rogério Delfim",
      "photoUrl": "https://lh3.googleusercontent.com/a-/AOh14Gj8lDYWTfZHU0U0sMojRPio71Ec7YDcSEpCaOEE=s64",
      "userId": "04235763959036945343"
     },
     "user_tz": 180
    },
    "id": "-yNlljM6i345",
    "outputId": "e160c658-75fb-4645-e667-e9ead02492a7",
    "scrolled": false
   },
   "outputs": [],
   "source": [
    "%%time\n",
    "\n",
    "n_trials_  = 50\n",
    "name_model = name_model_clf + '002_tunning_' \n",
    "\n",
    "TunningModels.delete_files(name_model)\n",
    "    \n",
    "modelOpt = TunningModels(name_model_     = name_model, \n",
    "                         X_trn_          = X, \n",
    "                         y_trn_          = y, \n",
    "                         X_ts_           = X_test_scaler,                                     \n",
    "                         feature_        = None,  \n",
    "                         scaler_         = scaler_best, \n",
    "                         seed_           = SEED, \n",
    "                         feature_bin_    = None, \n",
    "                         target_         = 'target', \n",
    "                         path_           = path, \n",
    "                         level_          = '1')\n",
    "\n",
    "pruner = MedianPruner(n_startup_trials = 5,\n",
    "                      n_warmup_steps   = 0,\n",
    "                      interval_steps   = 1,\n",
    "                      n_min_trials     = 5,\n",
    "                      )\n",
    "\n",
    "study = optuna.create_study(direction = 'maximize',\n",
    "                            sampler   = optuna.samplers.TPESampler(seed=SEED),\n",
    "                            pruner    = optuna.pruners.MedianPruner(n_warmup_steps=10),\n",
    "                            #pruner    = pruner,\n",
    "                            study_name= 'xgb_tuning'\n",
    "                            ) \n",
    "\n",
    "study.optimize(modelOpt.xgb, n_trials=n_trials_)\n",
    "\n",
    "score_seed = study.best_value \n",
    "params     = study.best_params \n",
    "path_name  = path + 'model/optuna/' + name_model + '_{:2.5f}.pkl.z'.format(score_seed) \n",
    "  \n",
    "scare_best  = score_seed \n",
    "params_best = params\n",
    "\n",
    "print()\n",
    "print('-'*110)\n",
    "print('Best score: {:2.5f}'.format(scare_best))\n",
    "print('Seed      : {}'.format(SEED))\n",
    "print('Parameters:\\n\\n{}'.format(params_best))\n",
    "print()"
   ]
  },
  {
   "cell_type": "markdown",
   "metadata": {
    "id": "KEQa44wEi346"
   },
   "source": [
    "### 1.2.1. Análise  de Hyperparametros"
   ]
  },
  {
   "cell_type": "code",
   "execution_count": null,
   "metadata": {
    "ExecuteTime": {
     "end_time": "2021-11-26T14:46:55.084442Z",
     "start_time": "2021-11-26T14:46:55.057448Z"
    },
    "colab": {
     "base_uri": "https://localhost:8080/",
     "height": 542
    },
    "executionInfo": {
     "elapsed": 779,
     "status": "ok",
     "timestamp": 1637980831645,
     "user": {
      "displayName": "Rogério Delfim",
      "photoUrl": "https://lh3.googleusercontent.com/a-/AOh14Gj8lDYWTfZHU0U0sMojRPio71Ec7YDcSEpCaOEE=s64",
      "userId": "04235763959036945343"
     },
     "user_tz": 180
    },
    "id": "RD2yIoWTi346",
    "outputId": "d8f3d91a-5cfc-402f-cd64-f8b1676c5527"
   },
   "outputs": [],
   "source": [
    "plot_optimization_history(study)"
   ]
  },
  {
   "cell_type": "code",
   "execution_count": null,
   "metadata": {
    "ExecuteTime": {
     "end_time": "2021-11-26T14:46:56.487585Z",
     "start_time": "2021-11-26T14:46:56.474549Z"
    },
    "colab": {
     "base_uri": "https://localhost:8080/",
     "height": 542
    },
    "executionInfo": {
     "elapsed": 604,
     "status": "ok",
     "timestamp": 1637980832247,
     "user": {
      "displayName": "Rogério Delfim",
      "photoUrl": "https://lh3.googleusercontent.com/a-/AOh14Gj8lDYWTfZHU0U0sMojRPio71Ec7YDcSEpCaOEE=s64",
      "userId": "04235763959036945343"
     },
     "user_tz": 180
    },
    "id": "nIOk6e4Li347",
    "outputId": "c2a38e35-31fa-4f7f-d632-84bdddbb4111"
   },
   "outputs": [],
   "source": [
    "optuna.visualization.plot_optimization_history(study)"
   ]
  },
  {
   "cell_type": "code",
   "execution_count": null,
   "metadata": {
    "ExecuteTime": {
     "end_time": "2021-11-26T14:46:57.227347Z",
     "start_time": "2021-11-26T14:46:57.042353Z"
    },
    "colab": {
     "base_uri": "https://localhost:8080/",
     "height": 562
    },
    "executionInfo": {
     "elapsed": 8,
     "status": "ok",
     "timestamp": 1637980832248,
     "user": {
      "displayName": "Rogério Delfim",
      "photoUrl": "https://lh3.googleusercontent.com/a-/AOh14Gj8lDYWTfZHU0U0sMojRPio71Ec7YDcSEpCaOEE=s64",
      "userId": "04235763959036945343"
     },
     "user_tz": 180
    },
    "id": "EgZlJAMvi347",
    "outputId": "eb2b7b67-8469-4f03-c5d3-8ada8c237a70"
   },
   "outputs": [],
   "source": [
    "plot_slice(study)"
   ]
  },
  {
   "cell_type": "code",
   "execution_count": null,
   "metadata": {
    "ExecuteTime": {
     "end_time": "2021-11-26T14:46:58.638877Z",
     "start_time": "2021-11-26T14:46:58.437728Z"
    },
    "colab": {
     "base_uri": "https://localhost:8080/",
     "height": 562
    },
    "executionInfo": {
     "elapsed": 500,
     "status": "ok",
     "timestamp": 1637980832742,
     "user": {
      "displayName": "Rogério Delfim",
      "photoUrl": "https://lh3.googleusercontent.com/a-/AOh14Gj8lDYWTfZHU0U0sMojRPio71Ec7YDcSEpCaOEE=s64",
      "userId": "04235763959036945343"
     },
     "user_tz": 180
    },
    "id": "nm5AH-AUi347",
    "outputId": "c3fc79bd-f24d-46ff-b5c8-d223bea22f71",
    "scrolled": false
   },
   "outputs": [],
   "source": [
    "optuna.visualization.plot_slice(study)"
   ]
  },
  {
   "cell_type": "markdown",
   "metadata": {
    "id": "5nVNrHHSi347"
   },
   "source": [
    "### 1.2.3. Modelo Final\n",
    "Agora que temos os melhores parametros, vamos treinar uma modelo com esse parametros e fazer algumas análises. "
   ]
  },
  {
   "cell_type": "code",
   "execution_count": null,
   "metadata": {
    "ExecuteTime": {
     "end_time": "2021-11-26T14:47:00.631350Z",
     "start_time": "2021-11-26T14:47:00.616351Z"
    },
    "colab": {
     "base_uri": "https://localhost:8080/"
    },
    "executionInfo": {
     "elapsed": 241,
     "status": "ok",
     "timestamp": 1637982462854,
     "user": {
      "displayName": "Rogério Delfim",
      "photoUrl": "https://lh3.googleusercontent.com/a-/AOh14Gj8lDYWTfZHU0U0sMojRPio71Ec7YDcSEpCaOEE=s64",
      "userId": "04235763959036945343"
     },
     "user_tz": 180
    },
    "id": "GYk6QWP5lUM4",
    "outputId": "5814fa24-0087-4ab2-fab2-c2880e38d50f"
   },
   "outputs": [],
   "source": [
    "params_best "
   ]
  },
  {
   "cell_type": "code",
   "execution_count": null,
   "metadata": {
    "ExecuteTime": {
     "end_time": "2021-11-26T14:56:19.100393Z",
     "start_time": "2021-11-26T14:49:35.514941Z"
    },
    "colab": {
     "base_uri": "https://localhost:8080/"
    },
    "executionInfo": {
     "elapsed": 107906,
     "status": "ok",
     "timestamp": 1637980940984,
     "user": {
      "displayName": "Rogério Delfim",
      "photoUrl": "https://lh3.googleusercontent.com/a-/AOh14Gj8lDYWTfZHU0U0sMojRPio71Ec7YDcSEpCaOEE=s64",
      "userId": "04235763959036945343"
     },
     "user_tz": 180
    },
    "id": "52gsbtwyi348",
    "outputId": "c81b15d6-9168-45fe-b532-9f8ce706b51a",
    "scrolled": true
   },
   "outputs": [],
   "source": [
    "%%time\n",
    "\n",
    "name_model = name_model_clf + '003_tun'\n",
    "\n",
    "model, score, _, _  = TunningModels.cross_valid(model_         = xgb.XGBClassifier(**params_best ), \n",
    "                                                model_name_    = name_mdl, \n",
    "                                                X_train_       = X_train[feature_], \n",
    "                                                y_train_       = y_train, \n",
    "                                                X_test_        = X_test_scaler[feature_], \n",
    "                                                fold_          = 5, \n",
    "                                                target_        = 'target',\n",
    "                                                path_          = path,\n",
    "                                                level_         = '1',\n",
    "                                                save_predict_  = False, \n",
    "                                                print_result_  = True,\n",
    "                                                seed_          = SEED,\n",
    "                                                feature_       = None, \n",
    "                                                #feature_bin    = feature_int, \n",
    "                                                scaler_        = scaler_best, \n",
    "                                                threshold      =.5                                                      \n",
    "                                                ) "
   ]
  },
  {
   "cell_type": "markdown",
   "metadata": {
    "id": "9FAnuS_dlUM5"
   },
   "source": [
    "### 2.1.3. Feature Importances  "
   ]
  },
  {
   "cell_type": "code",
   "execution_count": null,
   "metadata": {
    "ExecuteTime": {
     "end_time": "2021-11-26T15:01:55.070351Z",
     "start_time": "2021-11-26T15:01:53.561889Z"
    },
    "colab": {
     "base_uri": "https://localhost:8080/",
     "height": 1000
    },
    "executionInfo": {
     "elapsed": 2422,
     "status": "ok",
     "timestamp": 1637980943394,
     "user": {
      "displayName": "Rogério Delfim",
      "photoUrl": "https://lh3.googleusercontent.com/a-/AOh14Gj8lDYWTfZHU0U0sMojRPio71Ec7YDcSEpCaOEE=s64",
      "userId": "04235763959036945343"
     },
     "user_tz": 180
    },
    "id": "RvmfIdSslUM6",
    "outputId": "deb8ec22-c7c1-459b-ec87-40dea0a2e080",
    "scrolled": false
   },
   "outputs": [],
   "source": [
    "feature_imp_     = model.feature_importances_\n",
    "\n",
    "df               = pd.DataFrame()\n",
    "df[\"Feature\"]    = X[feature_].columns\n",
    "df[\"Importance\"] = feature_imp_ / feature_imp_.sum()\n",
    "\n",
    "df.sort_values(\"Importance\", axis=0, ascending=False, inplace=True)\n",
    "\n",
    "fig, ax = plt.subplots(figsize=(10, 30))\n",
    "bars    = ax.barh(df[\"Feature\"], \n",
    "                  df[\"Importance\"], \n",
    "                  height    = 0.4,\n",
    "                  color     = \"mediumorchid\", \n",
    "                  edgecolor = \"black\")\n",
    "\n",
    "ax.set_title(\"Feature importances \\n\", fontsize=25, pad=15)\n",
    "ax.set_ylabel(\"Feature name\", fontsize=15, labelpad=15)\n",
    "#ax.set_xlabel(\"Feature importance\", fontsize=20, labelpad=15)\n",
    "ax.set_yticks(df[\"Feature\"])\n",
    "ax.set_yticklabels(df[\"Feature\"], fontsize=13)\n",
    "ax.tick_params(axis=\"x\", labelsize=15)\n",
    "ax.grid(axis=\"x\")\n",
    "\n",
    "# Adicionando rótulos na parte superior\n",
    "ax2 = ax.secondary_xaxis('top')\n",
    "#ax2.set_xlabel(\"Feature importance\", fontsize=20, labelpad=13)\n",
    "ax2.tick_params(axis=\"x\", labelsize=15)\n",
    "ax.margins(0.05, 0.01)\n",
    "\n",
    "# Inverter a direção do eixo y \n",
    "plt.gca().invert_yaxis()"
   ]
  },
  {
   "cell_type": "code",
   "execution_count": null,
   "metadata": {
    "colab": {
     "base_uri": "https://localhost:8080/",
     "height": 49,
     "referenced_widgets": [
      "f53800cc1da14ceda9ea6515dd250da0",
      "e4d691174bfe4c3585050b0a23f2031b",
      "2705c64ab9f243d08b1b7ad52b8ca2c9",
      "199c4563da6847d7a141f8adcb966099",
      "84f8d37d524d4ab7b669ebf3481e7b91",
      "faf9fb11397e4dd891ba5baeebb3e7cd",
      "b0f67fd13bf4409ca95cf1a15be786d3",
      "14d28dbe69764693862ab2cd8dc3afd1",
      "add4ab5f38ee4b90be11c84049bfa208",
      "ecf3fd623e1b4f1b9a8822612a9d81eb",
      "2aabec877940476cb0f12307f63adca2"
     ]
    },
    "id": "GeEoqc1v28_o",
    "outputId": "d77e9dff-2126-4954-c23c-ebe7a3825d16"
   },
   "outputs": [],
   "source": [
    "#    def cross_valid_feature_boruta(model, X_, y_, X_ts_, feature_bin, scaler): \n",
    "idx_sample_X = X.sample(300000, random_state=SEED).index.to_list()  \n",
    "\n",
    "model_         = xgb.XGBClassifier(**params_best)\n",
    "X_train_       = X.iloc[idx_sample_X]\n",
    "y_train_       = y.iloc[idx_sample_X]\n",
    "feature_bin_   = None \n",
    "scaler_        = scaler_best\n",
    "fold_          = 4\n",
    "seed_          = SEED\n",
    "feature_bin_   = None\n",
    "feature_select = []\n",
    "\n",
    "\n",
    "free_gpu_cache()\n",
    "\n",
    "kf = StratifiedKFold(n_splits=fold_, random_state=seed_, shuffle=True)\n",
    "\n",
    "\n",
    "for fold,(idx_train, idx_val) in enumerate(kf.split(X_train_, y_train_, groups=y_train_)):\n",
    "\n",
    "    time_fold_start = datetime.now()\n",
    "\n",
    "    #--------------------------------------------------------  \n",
    "    # Seleção dos dados\n",
    "    #--------------------------------------------------------\n",
    "    X_trn, X_val = X_train_.iloc[idx_train], X_train_.iloc[idx_val]\n",
    "    y_trn, y_val = y_train_.iloc[idx_train], y_train_.iloc[idx_val]\n",
    "    index_valid  = X_val.index.tolist() \n",
    "\n",
    "    #--------------------------------------------------------  \n",
    "    # Processamento\n",
    "    #--------------------------------------------------------        \n",
    "    X_trn = TunningModels.feature_scaler(X_trn, scaler_, feature_bin_) \n",
    "    X_val = TunningModels.feature_scaler(X_val, scaler_, feature_bin_) \n",
    "    \n",
    "    #--------------------------------------------------------  \n",
    "    # Modelo de seleção de variáveis\n",
    "    #--------------------------------------------------------        \n",
    "\n",
    "    model_feature_selctor = BorutaShap(model= model_, importance_measure = 'shap', classification=True)\n",
    "    \n",
    "    model_feature_selctor.fit(X             = X_trn, \n",
    "                              y             = y_trn, \n",
    "                              n_trials      = 50, \n",
    "                              sample        = False,\n",
    "                              train_or_test = 'test', \n",
    "                              normalize     = True,\n",
    "                              random_state  = seed_)\n",
    "    \n",
    "    feature_select.append(sorted(model_feature_selctor.Subset().columns))        "
   ]
  },
  {
   "cell_type": "code",
   "execution_count": null,
   "metadata": {
    "id": "7E-dQBiI-JAQ"
   },
   "outputs": [],
   "source": [
    "final_selection = sorted({item for selection in feature_select for item in selection})\n",
    "print(final_selection)"
   ]
  },
  {
   "cell_type": "markdown",
   "metadata": {
    "id": "4JIaTst1lUM6"
   },
   "source": [
    "# Feature Selection by Boruta-SHAP\n",
    "- https://www.kaggle.com/lucamassaron/feature-selection-by-boruta-shap"
   ]
  },
  {
   "cell_type": "markdown",
   "metadata": {
    "id": "kmA6tODli348"
   },
   "source": [
    "<div class=\"alert alert-info\" role=\"alert\"> \n",
    "    \n",
    "**`NOTA:`** <br>\n",
    "Observando os dados acima do treinamento, parece que temos um AUC boa, vamos dar uma olhada no gráfico de treinamento do modelo.\n",
    "    \n",
    "</div>"
   ]
  },
  {
   "cell_type": "code",
   "execution_count": null,
   "metadata": {
    "ExecuteTime": {
     "end_time": "2021-11-06T00:01:05.981592Z",
     "start_time": "2021-11-06T00:01:05.724564Z"
    },
    "colab": {
     "base_uri": "https://localhost:8080/",
     "height": 341
    },
    "executionInfo": {
     "elapsed": 613,
     "status": "ok",
     "timestamp": 1635049549737,
     "user": {
      "displayName": "Rogério Delfim",
      "photoUrl": "https://lh3.googleusercontent.com/a-/AOh14Gj8lDYWTfZHU0U0sMojRPio71Ec7YDcSEpCaOEE=s64",
      "userId": "04235763959036945343"
     },
     "user_tz": 180
    },
    "id": "mrZgD7Doi349",
    "outputId": "195ac39a-8a06-431d-a318-d590f49a94d9"
   },
   "outputs": [],
   "source": [
    "results     = model_002.evals_result() \n",
    "ntree_limit = int(model_002.best_ntree_limit / model_002.get_params()['num_parallel_tree'] )\n",
    "\n",
    "plt.figure(figsize=(7,5))\n",
    "plt.plot(results[\"validation_0\"][\"auc\"], label=\"Treinamento\")\n",
    "plt.plot(results[\"validation_1\"][\"auc\"], label=\"Validação\")\n",
    "\n",
    "\n",
    "plt.axvline(ntree_limit, \n",
    "            color=\"gray\", \n",
    "            label=\"N. de árvore ideal {}\".format(ntree_limit))\n",
    "\n",
    "plt.xlabel(\"Número de árvores\")\n",
    "plt.ylabel(\"AUC\")\n",
    "plt.legend();"
   ]
  },
  {
   "cell_type": "markdown",
   "metadata": {
    "id": "Se6ms_l6i349"
   },
   "source": [
    "<div class=\"alert alert-info\" role=\"alert\"> \n",
    "    \n",
    "**`NOTA:`** <br>\n",
    "Estamos treinando o modelo com 707 arvores, mas o ideal é que seja 480, então vamos fazer a predição com o ideal de 480 arvores. \n",
    "\n",
    "</div>"
   ]
  },
  {
   "cell_type": "code",
   "execution_count": null,
   "metadata": {
    "ExecuteTime": {
     "end_time": "2021-11-05T00:05:45.504094Z",
     "start_time": "2021-11-05T00:05:40.607613Z"
    },
    "id": "UgWX08Pfi349"
   },
   "outputs": [],
   "source": [
    "y_hat_002 = model_002.predict_proba(X_valid_sc, ntree_limit=ntree_limit)"
   ]
  },
  {
   "cell_type": "markdown",
   "metadata": {
    "id": "S2p1olpsi349"
   },
   "source": [
    "#### 1.2.3.1. Analise do Modelo"
   ]
  },
  {
   "cell_type": "markdown",
   "metadata": {
    "id": "j7HbJ8Tei349"
   },
   "source": [
    "#### 1.2.3.1.1. Curva Roc"
   ]
  },
  {
   "cell_type": "code",
   "execution_count": null,
   "metadata": {
    "ExecuteTime": {
     "end_time": "2021-11-05T00:05:48.572266Z",
     "start_time": "2021-11-05T00:05:48.407266Z"
    },
    "colab": {
     "base_uri": "https://localhost:8080/",
     "height": 302
    },
    "executionInfo": {
     "elapsed": 1175,
     "status": "ok",
     "timestamp": 1635049821888,
     "user": {
      "displayName": "Rogério Delfim",
      "photoUrl": "https://lh3.googleusercontent.com/a-/AOh14Gj8lDYWTfZHU0U0sMojRPio71Ec7YDcSEpCaOEE=s64",
      "userId": "04235763959036945343"
     },
     "user_tz": 180
    },
    "id": "ftidKrDUi34-",
    "outputId": "701bf3ee-74f9-4ce0-c5c9-487c90e26196"
   },
   "outputs": [],
   "source": [
    "fpr, tpr, thresholds = metrics.roc_curve(y_valid, y_hat_002[:,1])\n",
    "\n",
    "plot_roc_curve(fpr, tpr, label=\"XGB\")\n",
    "plt.show()"
   ]
  },
  {
   "cell_type": "markdown",
   "metadata": {
    "id": "Vm2gsRY3i34-"
   },
   "source": [
    "<div class=\"alert alert-info\" role=\"alert\"> \n",
    "    \n",
    "**`NOTA:`** <br>\n",
    " \n",
    "\n",
    "</div>\n"
   ]
  },
  {
   "cell_type": "code",
   "execution_count": null,
   "metadata": {
    "ExecuteTime": {
     "end_time": "2021-11-05T00:05:54.040096Z",
     "start_time": "2021-11-05T00:05:53.782071Z"
    },
    "colab": {
     "base_uri": "https://localhost:8080/"
    },
    "executionInfo": {
     "elapsed": 2973,
     "status": "ok",
     "timestamp": 1635049830065,
     "user": {
      "displayName": "Rogério Delfim",
      "photoUrl": "https://lh3.googleusercontent.com/a-/AOh14Gj8lDYWTfZHU0U0sMojRPio71Ec7YDcSEpCaOEE=s64",
      "userId": "04235763959036945343"
     },
     "user_tz": 180
    },
    "id": "8BcpHgTNi34-",
    "outputId": "1b0cc6d4-360f-49fb-f0f8-d652c40f0cd8"
   },
   "outputs": [],
   "source": [
    "threshold = .5\n",
    "f1_002  = metrics.f1_score (y_valid, (y_hat_002[:,1] > threshold))\n",
    "auc_002 = metrics.roc_auc_score(y_valid, y_hat_002[:,1] )\n",
    "print(metrics.classification_report(y_valid, (y_hat_002 > threshold)[:,1].astype(int) ))\n",
    "print('')\n",
    "print('F1-score: {:2.5f}'.format(f1_002))\n",
    "print('AUC     : {:2.5f}'.format(auc_002))"
   ]
  },
  {
   "cell_type": "code",
   "execution_count": null,
   "metadata": {
    "ExecuteTime": {
     "end_time": "2021-11-05T00:06:17.047478Z",
     "start_time": "2021-11-05T00:06:07.126712Z"
    },
    "colab": {
     "base_uri": "https://localhost:8080/",
     "height": 302
    },
    "executionInfo": {
     "elapsed": 47432,
     "status": "ok",
     "timestamp": 1635049904981,
     "user": {
      "displayName": "Rogério Delfim",
      "photoUrl": "https://lh3.googleusercontent.com/a-/AOh14Gj8lDYWTfZHU0U0sMojRPio71Ec7YDcSEpCaOEE=s64",
      "userId": "04235763959036945343"
     },
     "user_tz": 180
    },
    "id": "m1_DxLR-i34-",
    "outputId": "09839b70-f542-421a-db6a-7a4e371e66a0"
   },
   "outputs": [],
   "source": [
    "plt.figure(figsize=(15,5))\n",
    "ax = plt.subplot(1,2,1)\n",
    "\n",
    "metrics.plot_confusion_matrix(model_002, \n",
    "                              X_valid_sc, \n",
    "                              y_valid, \n",
    "                              cmap          = 'inferno', \n",
    "                              values_format = 'd', \n",
    "                              ax            = ax) #true’, ‘pred’, ‘all’\n",
    "\n",
    "plt.title('Confusion matrix')\n",
    "\n",
    "ax= plt.subplot(1,2,2)\n",
    "metrics.plot_confusion_matrix(model_002, X_valid_sc, y_valid, cmap='inferno', normalize='all', ax=ax) \n",
    "plt.title('Confusion matrix');"
   ]
  },
  {
   "cell_type": "markdown",
   "metadata": {
    "id": "Fu0XSu3Pi34-"
   },
   "source": [
    "#### 1.2.3.2. Gerar Submission "
   ]
  },
  {
   "cell_type": "code",
   "execution_count": null,
   "metadata": {
    "ExecuteTime": {
     "end_time": "2021-11-05T00:06:46.178221Z",
     "start_time": "2021-11-05T00:06:24.574258Z"
    },
    "id": "345srP6Hi34_"
   },
   "outputs": [],
   "source": [
    "y_hat_002 = model_002.predict_proba(X_test_scaler, ntree_limit=ntree_limit)"
   ]
  },
  {
   "cell_type": "code",
   "execution_count": null,
   "metadata": {
    "ExecuteTime": {
     "end_time": "2021-11-05T00:07:20.007977Z",
     "start_time": "2021-11-05T00:07:19.096646Z"
    },
    "id": "MVemebNLi34_"
   },
   "outputs": [],
   "source": [
    "submission = pd.DataFrame({'id': df_submission.id, 'target': y_hat_002[:,1]})\n",
    "submission.to_csv(path + 'Data/submission/xgb_004_0.75420_tunning.csv', index=False)\n",
    "\n",
    "# score kaggle: 0.85523"
   ]
  },
  {
   "cell_type": "markdown",
   "metadata": {
    "id": "SddO5fbXi34_"
   },
   "source": [
    "### 1.2.4. Divercidade"
   ]
  },
  {
   "cell_type": "markdown",
   "metadata": {
    "id": "OGAddqK5i34_"
   },
   "source": [
    "#### 1.2.4.1. SEED\n",
    "Nesta etapa vamos utilizar os melhores parametros, que encontramos na tunagem acima, com `seed` diferentes. "
   ]
  },
  {
   "cell_type": "code",
   "execution_count": null,
   "metadata": {
    "ExecuteTime": {
     "end_time": "2021-11-05T00:23:10.363827Z",
     "start_time": "2021-11-05T00:11:44.140868Z"
    },
    "colab": {
     "base_uri": "https://localhost:8080/"
    },
    "executionInfo": {
     "elapsed": 6901979,
     "status": "ok",
     "timestamp": 1635097238822,
     "user": {
      "displayName": "Rogério Delfim",
      "photoUrl": "https://lh3.googleusercontent.com/a-/AOh14Gj8lDYWTfZHU0U0sMojRPio71Ec7YDcSEpCaOEE=s64",
      "userId": "04235763959036945343"
     },
     "user_tz": 180
    },
    "id": "aD5OMGA2gzKH",
    "outputId": "d7e63970-8980-4b9f-8876-8a9785ada3bd"
   },
   "outputs": [],
   "source": [
    "%%time \n",
    "\n",
    "SEED_      = [42, 59, 1000, 1500, 2020, 2021 ]\n",
    "name_model = 'xgb_001_div_seed'\n",
    "df_seed    = pd.DataFrame()\n",
    "\n",
    "#TunningModels.delete_files(name_model)\n",
    "\n",
    "for i, seed_ in  enumerate (SEED_):     \n",
    "        \n",
    "    y_hat = TunningModels.cross_valid(model          = xgb.XGBClassifier(**params_best),  \n",
    "                                      model_name_    = name_model, \n",
    "                                      X_             = X, \n",
    "                                      y_             = y, \n",
    "                                      X_test_        = X_test_scaler, \n",
    "                                      type_model     = 1, \n",
    "                                      feature        = None,\n",
    "                                      seed           = seed_, \n",
    "                                      tunning        = 2, # \n",
    "                                      scaler         = sc,\n",
    "                                      is_ntree_limit = feature_int\n",
    "                                      )\n",
    "    \n",
    "    df_seed['seed_' + str(seed_)] = y_hat \n",
    "    "
   ]
  },
  {
   "cell_type": "markdown",
   "metadata": {
    "id": "K-TDDYtHi35A"
   },
   "source": [
    "#### 1.2.4.2. Gerar submission "
   ]
  },
  {
   "cell_type": "code",
   "execution_count": null,
   "metadata": {
    "id": "m3xcLm93i35A"
   },
   "outputs": [],
   "source": [
    "df_seed.mean(axis=1)"
   ]
  },
  {
   "cell_type": "code",
   "execution_count": null,
   "metadata": {
    "id": "9Y1wuh0ei35A"
   },
   "outputs": [],
   "source": [
    "submission = pd.DataFrame({'id': df_submission.id, 'target': df_seed.mean(axis=1)})\n",
    "submission.to_csv(path + 'Data/submission/xgb_005_seed_mean.csv', index=False)"
   ]
  },
  {
   "cell_type": "markdown",
   "metadata": {
    "id": "EbOTDdAoiPqh"
   },
   "source": [
    "#### 1.2.4.1. Leaning Rate"
   ]
  },
  {
   "cell_type": "code",
   "execution_count": null,
   "metadata": {
    "colab": {
     "base_uri": "https://localhost:8080/"
    },
    "executionInfo": {
     "elapsed": 7738784,
     "status": "ok",
     "timestamp": 1635124100424,
     "user": {
      "displayName": "Rogério Delfim",
      "photoUrl": "https://lh3.googleusercontent.com/a-/AOh14Gj8lDYWTfZHU0U0sMojRPio71Ec7YDcSEpCaOEE=s64",
      "userId": "04235763959036945343"
     },
     "user_tz": 180
    },
    "id": "OrcthaRaeWuL",
    "outputId": "b6d456b3-825d-4d6a-a416-3d60f5e43076"
   },
   "outputs": [],
   "source": [
    "%%time \n",
    "\n",
    "learning_rate    = [0.01, 0.05, 0.007, ]\n",
    "name_model       = 'xgb_001_div_learning_rate'\n",
    "df_learning_rate = pd.DataFrame()\n",
    "seed             = 1000       \n",
    "\n",
    "params_xgb_2 = {'max_depth'         : 6,\n",
    "                'n_estimators'      : 4500,\n",
    "                'subsample'         : 0.8,\n",
    "                'colsample_bytree'  : 0.2,\n",
    "                'learning_rate'     : 0.01,\n",
    "                'colsample_bylevel' : 0.6000000000000001,\n",
    "                'min_child_weight'  : 56.41980735551558,\n",
    "                'reg_lambda'        : 75.56651890088857,\n",
    "                'reg_alpha'         : 0.11766857055687065,\n",
    "                'gamma'             : 0.6407823221122686,\n",
    "                'num_parallel_tree' : 1,\n",
    "                'booster'           : 'gbtree',\n",
    "                'eval_metric'       : 'auc',\n",
    "                'tree_method'       : 'gpu_hist',\n",
    "                'predictor'         : 'gpu_predictor',\n",
    "                'use_label_encoder' : False\n",
    "                }\n",
    "\n",
    "TunningModels.delete_files(name_model)\n",
    "\n",
    "for i, learning_rate_ in  enumerate (learning_rate):     \n",
    "        \n",
    "    params_xgb_2['learning_rate']=learning_rate_\n",
    "   \n",
    "    y_hat = TunningModels.cross_valid(model          = xgb.XGBClassifier(**params_xgb_2),  \n",
    "                                      model_name_    = name_model, \n",
    "                                      X_             = X, \n",
    "                                      y_             = y, \n",
    "                                      X_test_        = X_test, \n",
    "                                      type_model     = 1, \n",
    "                                      feature        = None,\n",
    "                                      seed           = seed, \n",
    "                                      tunning        = 2, # \n",
    "                                      scaler         = None,\n",
    "                                      is_ntree_limit = False\n",
    "                                      )\n",
    "    \n",
    "    df_learning_rate['learning_rate_' + str(learning_rate_)] = y_hat "
   ]
  },
  {
   "cell_type": "code",
   "execution_count": null,
   "metadata": {
    "colab": {
     "base_uri": "https://localhost:8080/",
     "height": 203
    },
    "executionInfo": {
     "elapsed": 299,
     "status": "ok",
     "timestamp": 1635124486977,
     "user": {
      "displayName": "Rogério Delfim",
      "photoUrl": "https://lh3.googleusercontent.com/a-/AOh14Gj8lDYWTfZHU0U0sMojRPio71Ec7YDcSEpCaOEE=s64",
      "userId": "04235763959036945343"
     },
     "user_tz": 180
    },
    "id": "1mU8lYVfh-pY",
    "outputId": "e0d27460-63e7-431d-9d7f-6f897d7e2afd"
   },
   "outputs": [],
   "source": [
    "df_learning_rate.head() "
   ]
  },
  {
   "cell_type": "code",
   "execution_count": null,
   "metadata": {
    "id": "wLo9ZqcQzpeB"
   },
   "outputs": [],
   "source": [
    "submission = pd.DataFrame({'id': df_submission.id, 'target': df_learning_rate.mean(axis=1)})\n",
    "submission.to_csv(path + 'Data/submission/xgb_006_learning_mean.csv', index=False)"
   ]
  },
  {
   "cell_type": "markdown",
   "metadata": {
    "id": "4RJo7UXZ1HlJ"
   },
   "source": [
    "#### 1.2.4.3. Max Depth"
   ]
  },
  {
   "cell_type": "code",
   "execution_count": null,
   "metadata": {
    "colab": {
     "base_uri": "https://localhost:8080/"
    },
    "executionInfo": {
     "elapsed": 1711617,
     "status": "ok",
     "timestamp": 1635129601671,
     "user": {
      "displayName": "Rogério Delfim",
      "photoUrl": "https://lh3.googleusercontent.com/a-/AOh14Gj8lDYWTfZHU0U0sMojRPio71Ec7YDcSEpCaOEE=s64",
      "userId": "04235763959036945343"
     },
     "user_tz": 180
    },
    "id": "thrRN5DZ1Di3",
    "outputId": "fb4678a8-34c7-4e05-f7cd-29660fc35d47"
   },
   "outputs": [],
   "source": [
    "%%time \n",
    "\n",
    "max_depth    = [1, 2, 4, 8]\n",
    "name_model   = 'xgb_001_div_max_depth'\n",
    "df_max_depth = pd.DataFrame()\n",
    "seed             = 1000       \n",
    "\n",
    "params_xgb_2 = {'max_depth'         : 1,\n",
    "                'n_estimators'      : 1000,\n",
    "                'subsample'         : 0.7,\n",
    "                'colsample_bytree'  : 0.2,\n",
    "                'learning_rate'     : .05,\n",
    "                'colsample_bylevel' : 0.6000000000000001,\n",
    "                'min_child_weight'  : 56.41980735551558,\n",
    "                'reg_lambda'        : 75.56651890088857,\n",
    "                'reg_alpha'         : 0.11766857055687065,\n",
    "                'gamma'             : 0.6407823221122686,\n",
    "                'num_parallel_tree' : 1,\n",
    "                'booster'           : 'gbtree',\n",
    "                'eval_metric'       : 'auc',\n",
    "                'tree_method'       : 'gpu_hist',\n",
    "                'predictor'         : 'gpu_predictor',\n",
    "                'use_label_encoder' : False\n",
    "                }\n",
    "\n",
    "TunningModels.delete_files(name_model)\n",
    "\n",
    "for i, max_depth_  in  enumerate (max_depth):     \n",
    "        \n",
    "    params_xgb_2['max_depth']=max_depth_\n",
    "\n",
    "    y_hat = TunningModels.cross_valid(model          = xgb.XGBClassifier(**params_xgb_2),  \n",
    "                                      model_name_    = name_model, \n",
    "                                      X_             = X, \n",
    "                                      y_             = y, \n",
    "                                      X_test_        = X_test, \n",
    "                                      type_model     = 1, \n",
    "                                      feature        = None,\n",
    "                                      seed           = seed, \n",
    "                                      tunning        = 2, # \n",
    "                                      scaler         = None,\n",
    "                                      is_ntree_limit = False\n",
    "                                      )\n",
    "    \n",
    "    df_max_depth['max_depth_' + str(max_depth_)] = y_hat "
   ]
  },
  {
   "cell_type": "code",
   "execution_count": null,
   "metadata": {
    "colab": {
     "base_uri": "https://localhost:8080/",
     "height": 203
    },
    "executionInfo": {
     "elapsed": 319,
     "status": "ok",
     "timestamp": 1635131698495,
     "user": {
      "displayName": "Rogério Delfim",
      "photoUrl": "https://lh3.googleusercontent.com/a-/AOh14Gj8lDYWTfZHU0U0sMojRPio71Ec7YDcSEpCaOEE=s64",
      "userId": "04235763959036945343"
     },
     "user_tz": 180
    },
    "id": "lMkZ8xD13nv_",
    "outputId": "81e3ba96-fffa-4219-895a-17dc913775a5"
   },
   "outputs": [],
   "source": [
    "df_max_depth.head() "
   ]
  },
  {
   "cell_type": "code",
   "execution_count": null,
   "metadata": {
    "id": "DV5PzbQg3v-n"
   },
   "outputs": [],
   "source": [
    "submission = pd.DataFrame({'id': df_submission.id, 'target': df_max_depth.mean(axis=1)})\n",
    "submission.to_csv(path + 'Data/submission/xgb_007_max_depth_mean.csv', index=False)"
   ]
  },
  {
   "cell_type": "markdown",
   "metadata": {
    "id": "9v1O3S-jjWVV"
   },
   "source": [
    "#### 1.2.4.4. learning_rate e xgb_model"
   ]
  },
  {
   "cell_type": "code",
   "execution_count": null,
   "metadata": {
    "id": "rIZpDuRXg_pK"
   },
   "outputs": [],
   "source": [
    "\n",
    "SEED_  = [12359]\n",
    "score_ = 0 \n",
    "\n",
    "name_model = 'xgb_001_tun'\n",
    "\n",
    "param_xgb_1 = {'objective'         : 'binary:logistic', \n",
    "               'booster'           : 'gbtree', \n",
    "               'eval_metric'       : 'auc', \n",
    "               'n_estimators'      : 4024, \n",
    "               'max_depth'         : 5, \n",
    "               'num_parallel_tree' : 2, \n",
    "               'min_child_weight'  : 223, \n",
    "               'subsample'         : 0.8476534102142796, \n",
    "               'colsample_bynode'  : 0.7492808865792617, \n",
    "               'learning_rate'     : 0.04252390552994845, \n",
    "               'colsample_bytree'  : 0.5165221701938247, \n",
    "               'reg_lambda'        : 13, \n",
    "               'reg_alpha'         : 10, \n",
    "               'gamma'             : 0.5636400620033356, \n",
    "               'random_state'      : 12359, \n",
    "               'use_label_encoder' : False, \n",
    "               'colsample_bylevel' : 0.6079347926363008, \n",
    "               'sampling_method'   : 'gradient_based', \n",
    "               'predictor'         : 'gpu_predictor', \n",
    "               'tree_method'       : 'gpu_hist', \n",
    "               'gpu_id'            : 0\n",
    "               }"
   ]
  },
  {
   "cell_type": "code",
   "execution_count": null,
   "metadata": {
    "colab": {
     "base_uri": "https://localhost:8080/"
    },
    "executionInfo": {
     "elapsed": 317,
     "status": "ok",
     "timestamp": 1635166632777,
     "user": {
      "displayName": "Rogério Delfim",
      "photoUrl": "https://lh3.googleusercontent.com/a-/AOh14Gj8lDYWTfZHU0U0sMojRPio71Ec7YDcSEpCaOEE=s64",
      "userId": "04235763959036945343"
     },
     "user_tz": 180
    },
    "id": "nkYf0r0vhhG-",
    "outputId": "f484a8cd-9c5a-4073-b6c6-95443658baf1"
   },
   "outputs": [],
   "source": [
    "feature_cat = X.select_dtypes(np.int8).columns.to_list()\n",
    "feature_cat.remove('fe_count_dammy')\n",
    "print(feature_cat)"
   ]
  },
  {
   "cell_type": "code",
   "execution_count": null,
   "metadata": {
    "colab": {
     "base_uri": "https://localhost:8080/",
     "height": 455
    },
    "executionInfo": {
     "elapsed": 763979,
     "status": "error",
     "timestamp": 1635167740919,
     "user": {
      "displayName": "Rogério Delfim",
      "photoUrl": "https://lh3.googleusercontent.com/a-/AOh14Gj8lDYWTfZHU0U0sMojRPio71Ec7YDcSEpCaOEE=s64",
      "userId": "04235763959036945343"
     },
     "user_tz": 180
    },
    "id": "DkUnfNashhjN",
    "outputId": "64bb83b5-3f3f-4c26-f653-ff79a5a5e165"
   },
   "outputs": [],
   "source": [
    "time_s    = datetime.now()\n",
    "clf_name  = 'XGBClassifier' #model.__class__.__name__\n",
    "seed      = 1000\n",
    "    \n",
    "msg = 'Training model: {}'#' seed {} - n_estimators: {} - max_depth: {} - {:2.5f} - {}'\n",
    "\n",
    "enc = TargetEncoder(cols=['f22', 'f43', 'f242', 'f243', 'f244', 'f245', 'f246', 'f247', 'f248', 'f249', \n",
    "                          'f250', 'f251', 'f252', 'f253', 'f254', 'f255', 'f256', 'f257', 'f258', 'f259',\n",
    "                          'f260', 'f261', 'f262', 'f263', 'f264', 'f265', 'f266', 'f267', 'f268', 'f269', \n",
    "                          'f270', 'f271', 'f272', 'f273', 'f274', 'f275', 'f276', 'f277', 'f278', 'f279', \n",
    "                          'f280', 'f281', 'f282', 'f283', 'f284'])\n",
    "\n",
    "\n",
    "print('='*90)            \n",
    "#print(msg.format(clf_name, seed, n_estimators, max_depth, learning_rate, num_parallel_tree))\n",
    "print(msg.format(clf_name))\n",
    "print('='*90)\n",
    "\n",
    "free_gpu_cache()\n",
    "\n",
    "X_, y_     = X, y\n",
    "best_ntree = []\n",
    "auc        = []\n",
    "f1         = []\n",
    "lloss      = []\n",
    "level_     = '1'\n",
    "threshold  = .5\n",
    "n_splits   = 5\n",
    "path       = ''\n",
    "\n",
    "n_repeats    = 1\n",
    "y_hat_test   = None\n",
    "print_result = True\n",
    "X_train_prob = []\n",
    "auc          = []\n",
    "lloss        = []\n",
    "f1           = []\n",
    "best_ntree   = []\n",
    "random       = str(np.random.rand(1)[0]).replace('.','')\n",
    "model_name_  = 'xgb_999_score_{:2.5f}_{}_' + random + '.pkl.z'  \n",
    "\n",
    "TunningModels.delete_files('xgb_999_score_')\n",
    "\n",
    "kf = KFold(n_splits=n_splits, random_state=seed, shuffle=True)\n",
    "   \n",
    "for fold, (train_idx, valid_idx) in enumerate(kf.split(X_, y_, groups=y_)): \n",
    "\n",
    "    time_start   = datetime.now()\n",
    "    n_estimators = int(param_xgb_1['n_estimators'] * .1)\n",
    "    \n",
    "    # Obtenha os dados de treino e \n",
    "    # validação através de indice\n",
    "    X_trn, y_trn = X_.iloc[train_idx], y_.iloc[train_idx]\n",
    "    X_val, y_val = X_.iloc[valid_idx], y_.iloc[valid_idx]\n",
    "    \n",
    "    X_trn = enc.fit_transform(X_trn, y_trn)\n",
    "    X_val = enc.fit_transform(X_val, y_val)\n",
    "\n",
    "    model    = xgb.XGBClassifier(**param_xgb_1)\n",
    "    eval_set = [(X_trn,y_trn), (X_val,y_val)]   \n",
    "    model_1  = model.fit(X_trn, y_trn, \n",
    "                              eval_set              = eval_set,\n",
    "                              early_stopping_rounds = n_estimators , \n",
    "                              verbose               = False\n",
    "                             )\n",
    "    \n",
    "    param_xgb_1['learning_rate'] = .05\n",
    "    model_2 = xgb.XGBClassifier(**param_xgb_1)\n",
    "    model_2 = model_2.fit(X_trn, y_trn, \n",
    "                          eval_set              = eval_set,\n",
    "                          early_stopping_rounds = n_estimators, \n",
    "                          verbose               = False, \n",
    "                          xgb_model             = model_1 \n",
    "                          )\n",
    "    \n",
    "    param_xgb_1['learning_rate'] = .007\n",
    "    model_3 = xgb.XGBClassifier(**param_xgb_1)\n",
    "    model   = model_3.fit(X_trn, y_trn, \n",
    "                          eval_set              = eval_set,\n",
    "                          early_stopping_rounds = n_estimators, \n",
    "                          verbose               = False, \n",
    "                          xgb_model             = model_2 \n",
    "                          )\n",
    "    \n",
    "    best_ntree_ = model.best_ntree_limit\n",
    "    best_ntree.append(best_ntree_)\n",
    "\n",
    "    # Predição na validação\n",
    "    y_hat_val_prob = model.predict_proba(X_val, ntree_limit=best_ntree_)[:, 1] #   \n",
    "    y_hat_val      = (y_hat_val_prob > threshold).astype(int) \n",
    "\n",
    "    X_train_prob.extend(y_hat_val_prob)\n",
    "    \n",
    "    # Métricas \n",
    "    auc_      = metrics.roc_auc_score(y_val, y_hat_val_prob)                    \n",
    "    f1_score_ = metrics.f1_score(y_val, y_hat_val)        \n",
    "    log_loss_ = metrics.log_loss(y_val, y_hat_val_prob)\n",
    "\n",
    "    # Salvar as métricas\n",
    "    auc.append(auc_)\n",
    "    f1.append(f1_score_)\n",
    "    lloss.append(log_loss_)\n",
    "    \n",
    "    \n",
    "    X_test_    = enc.transform(X_test)\n",
    "    \n",
    "    # 1 / n_splits das previsões de saída.\n",
    "    if y_hat_test is None:                    \n",
    "        y_hat_test   = model.predict_proba(pd.DataFrame(X_test_))[:, 1]        \n",
    "    else:        \n",
    "        y_hat_test  += model.predict_proba(pd.DataFrame(X_test_))[:, 1]\n",
    "\n",
    "    stop = ' '\n",
    "\n",
    "    if n_estimators > best_ntree_: \n",
    "        stop = '*'\n",
    "    \n",
    "    elapsed  = TunningModels.diff(time_start, datetime.now())\n",
    "\n",
    "    if print_result:\n",
    "        best_ntree_s = str(best_ntree_) + ((5-len(str(best_ntree_))) * ' ')  \n",
    "        msg = 'Fold {}/{} AUC: {:2.5f} - F1: {:2.5f} - L. loss: {:2.5f} {} {} {}'\n",
    "        print(msg.format(fold+1, n_splits*n_repeats, auc_, f1_score_, log_loss_, \n",
    "                         stop, best_ntree_s, elapsed))\n",
    "\n",
    "    del X_trn, y_trn, X_val, y_val              \n",
    "    gc.collect()\n",
    "\n",
    "del  X_, y_, X_test_ \n",
    "gc.collect()\n",
    "\n",
    "y_hat_test      /= (n_splits*n_repeats)\n",
    "auc_mean        = np.mean(auc)\n",
    "auc_std         = np.std(auc)\n",
    "lloss_mean      = np.mean(lloss)\n",
    "f1_mean         = np.mean(f1)\n",
    "f1_std          = np.std(f1)\n",
    "best_ntree_mean = int(np.mean(best_ntree))\n",
    "msg             = '[Mean Fold]  AUC: {:.5f}(Std:{:.5f}) - F1: {:.5f} - L. Loss: {:.5f} * {} {}'\n",
    "\n",
    "score = TunningModels.save_data_model(model, \n",
    "                                      model_name_, \n",
    "                                      path, \n",
    "                                      X_train_prob, \n",
    "                                      y_hat_test, \n",
    "                                      auc_mean, \n",
    "                                      seed, \n",
    "                                      level_ = level_\n",
    "                                     ) \n",
    "\n",
    "elapsed  = TunningModels.diff(time_s, datetime.now())\n",
    "\n",
    "if print_result:\n",
    "    print('-'*90)\n",
    "    print(msg.format(auc_mean, auc_std, f1_mean, lloss_mean, best_ntree_mean, elapsed))\n",
    "    print('='*90)\n",
    "    print('')\n",
    "\n",
    "del X_train_prob, y_hat_test,\n",
    "free_gpu_cache()"
   ]
  },
  {
   "cell_type": "markdown",
   "metadata": {
    "id": "756vftCji35A"
   },
   "source": [
    "#### 1.2.4.3. FEATURE"
   ]
  },
  {
   "cell_type": "code",
   "execution_count": null,
   "metadata": {
    "id": "4vnrB3DXi35A"
   },
   "outputs": [],
   "source": [
    "%%time\n",
    "\n",
    "model_rf_div_04 = RandomForestClassifier(**params_best_seed)\n",
    "TunningModels.model_of_diversity_feature_group(model_rf_div_04, 'rf_003_div_feature_', \n",
    "                                               X, y, X_test, seed_=seed_best)  "
   ]
  },
  {
   "cell_type": "markdown",
   "metadata": {
    "id": "AMJA2EZPi35A"
   },
   "source": [
    "### 1.2.5. Ensable "
   ]
  },
  {
   "cell_type": "markdown",
   "metadata": {
    "id": "yo0Gg8ezi35A"
   },
   "source": [
    "#### 1.2.5.1. Recuparar dataset\n",
    "Vamos recuperar todas as previsões do LGBM para gerar um ensable. "
   ]
  },
  {
   "cell_type": "code",
   "execution_count": null,
   "metadata": {
    "id": "RW7YFOmpi35A"
   },
   "outputs": [],
   "source": [
    "%%time \n",
    "df_train_rf, df_test_rf = TunningModels.df_return_preds_tunning('rf')\n",
    "df_train_rf.shape, df_test_rf.shape"
   ]
  },
  {
   "cell_type": "code",
   "execution_count": null,
   "metadata": {
    "id": "N5YNY8dDi35B"
   },
   "outputs": [],
   "source": [
    "yy = df_train_rf['claim']\n",
    "df_train_rf = df_train_rf.filter(regex=r'.8' , axis=1)\n",
    "df_test_rf  = df_test_rf.filter(regex=r'.8', axis=1)\n",
    "\n",
    "df_train_rf['claim'] = yy\n",
    "df_train_rf.shape, df_test_rf.shape"
   ]
  },
  {
   "cell_type": "code",
   "execution_count": null,
   "metadata": {
    "id": "2h7hCy3li35B"
   },
   "outputs": [],
   "source": [
    "df_train_rf.head()"
   ]
  },
  {
   "cell_type": "markdown",
   "metadata": {
    "id": "bjE0558vi35B"
   },
   "source": [
    "#### 1.2.5.2. Descritiva"
   ]
  },
  {
   "cell_type": "code",
   "execution_count": null,
   "metadata": {
    "id": "ohQgKKpAi35B"
   },
   "outputs": [],
   "source": [
    "df_test_rf.mean(axis=1).describe()"
   ]
  },
  {
   "cell_type": "markdown",
   "metadata": {
    "id": "n-wD5-jqi35B"
   },
   "source": [
    "#### 1.2.5.3. Gerar submission \n",
    "Vamos gerar uma submission com a media das previssões, para termos uma ideia de como estamos. "
   ]
  },
  {
   "cell_type": "code",
   "execution_count": null,
   "metadata": {
    "id": "NRnXoCBli35B"
   },
   "outputs": [],
   "source": [
    "y_hat_rf_mean = df_test_rf.mean(axis=1)\n",
    "submission = pd.DataFrame({'id': df_submission.id, 'claim': y_hat_rf_mean })\n",
    "submission.to_csv(path + 'Data/sumbmission/rf_003_feature_gr.csv', index=False) \n",
    "# score kaggle: 0.60423"
   ]
  },
  {
   "cell_type": "code",
   "execution_count": null,
   "metadata": {
    "id": "ilLCawrmi35B"
   },
   "outputs": [],
   "source": [
    "y_hat_rf_mean"
   ]
  },
  {
   "cell_type": "markdown",
   "metadata": {
    "id": "ABSiqjJ6i35C"
   },
   "source": [
    "#### 1.2.5.4. Correlação"
   ]
  },
  {
   "cell_type": "code",
   "execution_count": null,
   "metadata": {
    "id": "cxfrr8nri35C"
   },
   "outputs": [],
   "source": [
    "graf_corr(df_train_rf)"
   ]
  },
  {
   "cell_type": "markdown",
   "metadata": {
    "id": "VgPjew7ni35C"
   },
   "source": [
    "Temos muitas previsões autocorrelacionadas, vamos fazer a exclusão de algumas."
   ]
  },
  {
   "cell_type": "code",
   "execution_count": null,
   "metadata": {
    "id": "8z8dijuki35C"
   },
   "outputs": [],
   "source": [
    "corr_features = correlation(df_train_rf, 0.9)\n",
    "len(set(corr_features))"
   ]
  },
  {
   "cell_type": "code",
   "execution_count": null,
   "metadata": {
    "id": "uh5ruyM9i35C"
   },
   "outputs": [],
   "source": [
    "#df_train_lgbm.drop(labels=corr_features, axis=1, inplace=True)\n",
    "\n",
    "graf_corr(df_train_rf) "
   ]
  },
  {
   "cell_type": "code",
   "execution_count": null,
   "metadata": {
    "id": "SCUPwohGi35C"
   },
   "outputs": [],
   "source": [
    "X_rf      = df_train_rf.drop(['claim'], axis=1)    \n",
    "y_rf      = df_train_rf[\"claim\"].copy()\n",
    "X_test_rf = df_test_rf\n",
    "\n",
    "X_train_rf, X_valid_rf, y_train_rf, y_valid_rf = train_test_split(X_rf, \n",
    "                                                                      y_rf, \n",
    "                                                                      test_size    = 0.2, \n",
    "                                                                      shuffle      = True, \n",
    "                                                                     # stratify     = y_rf,\n",
    "                                                                      random_state = 12359)\n",
    "\n",
    "print(X_train_rf.shape, y_train_rf.shape, X_valid_rf.shape, y_valid_rf.shape, X_rf.shape, \n",
    "      y_rf.shape, X_test_rf.shape) \n"
   ]
  },
  {
   "cell_type": "code",
   "execution_count": null,
   "metadata": {
    "id": "vKevU9Ksi35C"
   },
   "outputs": [],
   "source": [
    "%%time\n",
    "\n",
    "model_rf_003      = RandomForestClassifier(**params_best_seed)\n",
    "                                        \n",
    "y_hat_test_rf_003 = TunningModels.cross_valid(model       = model_rf_003, \n",
    "                                               model_name_ = name_model_rf, \n",
    "                                               X_          = X_rf, \n",
    "                                               y_          = y_rf, \n",
    "                                               X_test_     = X_test_rf, \n",
    "                                               type_model  = 2, \n",
    "                                               feature     = None,\n",
    "                                               seed        = SEED, \n",
    "                                               tunning     = 0\n",
    "                                               )\n",
    "\n",
    "model_rf_003 = model_rf_003.fit(X_train_rf, y_train_rf)\n",
    "y_hat_rf_003 = model_rf_003.predict_proba (X_valid_rf)"
   ]
  },
  {
   "cell_type": "code",
   "execution_count": null,
   "metadata": {
    "id": "35ftkTPQi35D"
   },
   "outputs": [],
   "source": []
  },
  {
   "cell_type": "code",
   "execution_count": null,
   "metadata": {
    "id": "9yxHm1G1i35D"
   },
   "outputs": [],
   "source": []
  },
  {
   "cell_type": "code",
   "execution_count": null,
   "metadata": {
    "id": "hyo5fACbi35D"
   },
   "outputs": [],
   "source": []
  },
  {
   "cell_type": "code",
   "execution_count": null,
   "metadata": {
    "id": "L9uQt60fi35D"
   },
   "outputs": [],
   "source": []
  },
  {
   "cell_type": "code",
   "execution_count": null,
   "metadata": {
    "id": "jQmZCcWOi35D"
   },
   "outputs": [],
   "source": []
  },
  {
   "cell_type": "code",
   "execution_count": null,
   "metadata": {
    "id": "Km30XSF1i35D"
   },
   "outputs": [],
   "source": []
  },
  {
   "cell_type": "code",
   "execution_count": null,
   "metadata": {
    "id": "0JL9ovOji35D"
   },
   "outputs": [],
   "source": []
  },
  {
   "cell_type": "code",
   "execution_count": null,
   "metadata": {
    "id": "VsCcwuYli35D"
   },
   "outputs": [],
   "source": []
  },
  {
   "cell_type": "code",
   "execution_count": null,
   "metadata": {
    "id": "vZuPiQx0i35D"
   },
   "outputs": [],
   "source": []
  },
  {
   "cell_type": "code",
   "execution_count": null,
   "metadata": {
    "id": "u8D2GU_zi35D"
   },
   "outputs": [],
   "source": []
  },
  {
   "cell_type": "code",
   "execution_count": null,
   "metadata": {
    "id": "8inoxnHoi35E"
   },
   "outputs": [],
   "source": []
  },
  {
   "cell_type": "code",
   "execution_count": null,
   "metadata": {
    "id": "AQtf0EQCi35E"
   },
   "outputs": [],
   "source": []
  },
  {
   "cell_type": "code",
   "execution_count": null,
   "metadata": {
    "id": "BKsnKtP-i35E"
   },
   "outputs": [],
   "source": []
  },
  {
   "cell_type": "code",
   "execution_count": null,
   "metadata": {
    "id": "iYYcJkpWi35F"
   },
   "outputs": [],
   "source": []
  },
  {
   "cell_type": "code",
   "execution_count": null,
   "metadata": {
    "id": "-HD8xVlwi35F"
   },
   "outputs": [],
   "source": []
  },
  {
   "cell_type": "code",
   "execution_count": null,
   "metadata": {
    "id": "f13sutPOi35F"
   },
   "outputs": [],
   "source": []
  },
  {
   "cell_type": "code",
   "execution_count": null,
   "metadata": {
    "id": "TpD7byhji35G"
   },
   "outputs": [],
   "source": []
  },
  {
   "cell_type": "code",
   "execution_count": null,
   "metadata": {
    "id": "TNAFtSx4i35G"
   },
   "outputs": [],
   "source": []
  },
  {
   "cell_type": "code",
   "execution_count": null,
   "metadata": {
    "id": "qWldS0Vci35G"
   },
   "outputs": [],
   "source": []
  },
  {
   "cell_type": "code",
   "execution_count": null,
   "metadata": {
    "id": "MOZqBQYli35G"
   },
   "outputs": [],
   "source": []
  },
  {
   "cell_type": "code",
   "execution_count": null,
   "metadata": {
    "id": "fbnxpM3Ri35G"
   },
   "outputs": [],
   "source": []
  },
  {
   "cell_type": "code",
   "execution_count": null,
   "metadata": {
    "id": "ZhW5FN52i35G"
   },
   "outputs": [],
   "source": []
  },
  {
   "cell_type": "code",
   "execution_count": null,
   "metadata": {
    "id": "nWVKD9FSi35G"
   },
   "outputs": [],
   "source": []
  },
  {
   "cell_type": "code",
   "execution_count": null,
   "metadata": {
    "id": "mVYIn8LEi35G"
   },
   "outputs": [],
   "source": []
  },
  {
   "cell_type": "code",
   "execution_count": null,
   "metadata": {
    "id": "mthkDSY9i35G"
   },
   "outputs": [],
   "source": []
  },
  {
   "cell_type": "code",
   "execution_count": null,
   "metadata": {
    "id": "cBk756-si35G"
   },
   "outputs": [],
   "source": []
  },
  {
   "cell_type": "code",
   "execution_count": null,
   "metadata": {
    "id": "OHjrjwxHi35H"
   },
   "outputs": [],
   "source": []
  },
  {
   "cell_type": "code",
   "execution_count": null,
   "metadata": {
    "id": "AETHT9Mni35H"
   },
   "outputs": [],
   "source": []
  },
  {
   "cell_type": "code",
   "execution_count": null,
   "metadata": {
    "id": "rd-KsX3ti35H"
   },
   "outputs": [],
   "source": []
  },
  {
   "cell_type": "code",
   "execution_count": null,
   "metadata": {
    "id": "NhJnL1UYi35H"
   },
   "outputs": [],
   "source": []
  },
  {
   "cell_type": "code",
   "execution_count": null,
   "metadata": {
    "id": "ulbzMQ7Hi35H"
   },
   "outputs": [],
   "source": []
  },
  {
   "cell_type": "code",
   "execution_count": null,
   "metadata": {
    "id": "23YYz7yOi35H"
   },
   "outputs": [],
   "source": []
  },
  {
   "cell_type": "code",
   "execution_count": null,
   "metadata": {
    "id": "RSUK4QWai35H"
   },
   "outputs": [],
   "source": []
  },
  {
   "cell_type": "code",
   "execution_count": null,
   "metadata": {
    "id": "ql7QYTGKi35H"
   },
   "outputs": [],
   "source": []
  },
  {
   "cell_type": "code",
   "execution_count": null,
   "metadata": {
    "id": "bT14587Mi35H"
   },
   "outputs": [],
   "source": []
  },
  {
   "cell_type": "code",
   "execution_count": null,
   "metadata": {
    "id": "xWapqR4Ci35H",
    "outputId": "6ea43745-717b-4fcd-ad0f-7b240da8aa4b"
   },
   "outputs": [],
   "source": [
    "\n",
    "import numpy as np\n",
    "import pandas as pd\n",
    "train = pd.read_csv('../input/titanic/train.csv')\n",
    "train['Fare'].fillna(train[train.Pclass==3]['Fare'].median(),inplace=True)\n",
    "\n",
    "def Iso_outliers(df):\n",
    "    iso = IsolationForest( behaviour = 'new', random_state = 1, contamination= 'auto')\n",
    "    preds = iso.fit_predict(df.values.reshape(-1,1))\n",
    "    data = pd.DataFrame()\n",
    "    data['cluster'] = preds\n",
    "    print(data['cluster'].value_counts().sort_values(ascending=False))\n",
    "Iso_outliers(train['Fare']) "
   ]
  },
  {
   "cell_type": "code",
   "execution_count": null,
   "metadata": {
    "id": "P4lf5Sm2i35I"
   },
   "outputs": [],
   "source": [
    "from sklearn.ensemble import IsolationForest\n",
    "iso = IsolationForest(random_state = 1, contamination= 'auto')\n",
    "preds = iso.fit_predict(X_train)"
   ]
  },
  {
   "cell_type": "code",
   "execution_count": null,
   "metadata": {
    "id": "q8_Sh0W9i35I"
   },
   "outputs": [],
   "source": [
    "data = pd.DataFrame()\n",
    "data['IsolationForest'] = preds"
   ]
  },
  {
   "cell_type": "code",
   "execution_count": null,
   "metadata": {
    "id": "b-bbTnZSi35I",
    "outputId": "56e9a91e-5a9c-4d55-ec45-32240c98530d"
   },
   "outputs": [],
   "source": [
    "print(data['IsolationForest'].value_counts().sort_values(ascending=False))"
   ]
  },
  {
   "cell_type": "code",
   "execution_count": null,
   "metadata": {
    "id": "vkGixMvgi35I",
    "outputId": "516d0e9b-ebc2-4478-aeb1-1d71f4bba520"
   },
   "outputs": [],
   "source": [
    "db = DBSCAN(eps=3.0, min_samples=10).fit(X)\n",
    "labels = db.labels_"
   ]
  },
  {
   "cell_type": "code",
   "execution_count": null,
   "metadata": {
    "id": "aTBDY4Whi35J",
    "outputId": "494b4b15-134a-4764-d006-0d9739bf16d3"
   },
   "outputs": [],
   "source": [
    "from sklearn.ensemble import IsolationForest\n",
    ">>> X = [[-1.1], [0.3], [0.5], [100]]\n",
    ">>> clf = IsolationForest(random_state=0).fit(X)\n",
    ">>> clf.predict([[0.1], [0], [90]])"
   ]
  },
  {
   "cell_type": "code",
   "execution_count": null,
   "metadata": {
    "id": "8IUQL9uUi35J",
    "outputId": "d41a1d09-709c-4351-cbba-0c193f4718e8"
   },
   "outputs": [],
   "source": [
    "idade   = [10,18,20,36, 31, 56]\n",
    "salario = [100, 122, 100,1000,70, 100]\n",
    "x = {'idade': idade, 'salario':salario}\n",
    "\n",
    "df = pd.DataFrame(x)\n",
    "\n",
    "df"
   ]
  },
  {
   "cell_type": "code",
   "execution_count": null,
   "metadata": {
    "id": "bUsRP2w8i35J"
   },
   "outputs": [],
   "source": [
    "clf = IsolationForest(random_state = 1, contamination= 'auto')\n",
    "pred = clf.fit_predict(df)\n",
    "df['outliers'] =  pred"
   ]
  },
  {
   "cell_type": "code",
   "execution_count": null,
   "metadata": {
    "id": "V7ZUlafBi35J",
    "outputId": "98539696-7327-4158-e85d-32ebf4b27541"
   },
   "outputs": [],
   "source": [
    "df [df.outliers==1].drop('outliers', axis=1)"
   ]
  },
  {
   "cell_type": "code",
   "execution_count": null,
   "metadata": {
    "id": "4ufQOtIei35K"
   },
   "outputs": [],
   "source": []
  }
 ],
 "metadata": {
  "accelerator": "GPU",
  "colab": {
   "collapsed_sections": [
    "S2p1olpsi349",
    "AMJA2EZPi35A",
    "yo0Gg8ezi35A",
    "bjE0558vi35B",
    "n-wD5-jqi35B",
    "ABSiqjJ6i35C"
   ],
   "machine_shape": "hm",
   "name": "03 -Tunning XGB.ipynb",
   "provenance": [],
   "toc_visible": true
  },
  "hide_input": false,
  "kernelspec": {
   "display_name": "Python 3 (ipykernel)",
   "language": "python",
   "name": "python3"
  },
  "language_info": {
   "codemirror_mode": {
    "name": "ipython",
    "version": 3
   },
   "file_extension": ".py",
   "mimetype": "text/x-python",
   "name": "python",
   "nbconvert_exporter": "python",
   "pygments_lexer": "ipython3",
   "version": "3.9.7"
  },
  "latex_envs": {
   "LaTeX_envs_menu_present": true,
   "autoclose": false,
   "autocomplete": true,
   "bibliofile": "biblio.bib",
   "cite_by": "apalike",
   "current_citInitial": 1,
   "eqLabelWithNumbers": true,
   "eqNumInitial": 1,
   "hotkeys": {
    "equation": "Ctrl-E",
    "itemize": "Ctrl-I"
   },
   "labels_anchors": false,
   "latex_user_defs": false,
   "report_style_numbering": false,
   "user_envs_cfg": false
  },
  "nbTranslate": {
   "displayLangs": [
    "*"
   ],
   "hotkey": "alt-t",
   "langInMainMenu": true,
   "sourceLang": "en",
   "targetLang": "fr",
   "useGoogleTranslate": true
  },
  "toc": {
   "base_numbering": 1,
   "nav_menu": {},
   "number_sections": false,
   "sideBar": true,
   "skip_h1_title": false,
   "title_cell": "Table of Contents",
   "title_sidebar": "Contents",
   "toc_cell": false,
   "toc_position": {
    "height": "552.8px",
    "left": "21px",
    "top": "111.6px",
    "width": "200px"
   },
   "toc_section_display": true,
   "toc_window_display": false
  },
  "varInspector": {
   "cols": {
    "lenName": 16,
    "lenType": 16,
    "lenVar": 40
   },
   "kernels_config": {
    "python": {
     "delete_cmd_postfix": "",
     "delete_cmd_prefix": "del ",
     "library": "var_list.py",
     "varRefreshCmd": "print(var_dic_list())"
    },
    "r": {
     "delete_cmd_postfix": ") ",
     "delete_cmd_prefix": "rm(",
     "library": "var_list.r",
     "varRefreshCmd": "cat(var_dic_list()) "
    }
   },
   "types_to_exclude": [
    "module",
    "function",
    "builtin_function_or_method",
    "instance",
    "_Feature"
   ],
   "window_display": false
  },
  "widgets": {
   "application/vnd.jupyter.widget-state+json": {
    "14d28dbe69764693862ab2cd8dc3afd1": {
     "model_module": "@jupyter-widgets/controls",
     "model_module_version": "1.5.0",
     "model_name": "ProgressStyleModel",
     "state": {
      "_model_module": "@jupyter-widgets/controls",
      "_model_module_version": "1.5.0",
      "_model_name": "ProgressStyleModel",
      "_view_count": null,
      "_view_module": "@jupyter-widgets/base",
      "_view_module_version": "1.2.0",
      "_view_name": "StyleView",
      "bar_color": null,
      "description_width": ""
     }
    },
    "199c4563da6847d7a141f8adcb966099": {
     "model_module": "@jupyter-widgets/controls",
     "model_module_version": "1.5.0",
     "model_name": "FloatProgressModel",
     "state": {
      "_dom_classes": [],
      "_model_module": "@jupyter-widgets/controls",
      "_model_module_version": "1.5.0",
      "_model_name": "FloatProgressModel",
      "_view_count": null,
      "_view_module": "@jupyter-widgets/controls",
      "_view_module_version": "1.5.0",
      "_view_name": "ProgressView",
      "bar_style": "",
      "description": "",
      "description_tooltip": null,
      "layout": "IPY_MODEL_add4ab5f38ee4b90be11c84049bfa208",
      "max": 50,
      "min": 0,
      "orientation": "horizontal",
      "style": "IPY_MODEL_14d28dbe69764693862ab2cd8dc3afd1",
      "value": 0
     }
    },
    "2705c64ab9f243d08b1b7ad52b8ca2c9": {
     "model_module": "@jupyter-widgets/controls",
     "model_module_version": "1.5.0",
     "model_name": "HTMLModel",
     "state": {
      "_dom_classes": [],
      "_model_module": "@jupyter-widgets/controls",
      "_model_module_version": "1.5.0",
      "_model_name": "HTMLModel",
      "_view_count": null,
      "_view_module": "@jupyter-widgets/controls",
      "_view_module_version": "1.5.0",
      "_view_name": "HTMLView",
      "description": "",
      "description_tooltip": null,
      "layout": "IPY_MODEL_b0f67fd13bf4409ca95cf1a15be786d3",
      "placeholder": "​",
      "style": "IPY_MODEL_faf9fb11397e4dd891ba5baeebb3e7cd",
      "value": "  0%"
     }
    },
    "2aabec877940476cb0f12307f63adca2": {
     "model_module": "@jupyter-widgets/base",
     "model_module_version": "1.2.0",
     "model_name": "LayoutModel",
     "state": {
      "_model_module": "@jupyter-widgets/base",
      "_model_module_version": "1.2.0",
      "_model_name": "LayoutModel",
      "_view_count": null,
      "_view_module": "@jupyter-widgets/base",
      "_view_module_version": "1.2.0",
      "_view_name": "LayoutView",
      "align_content": null,
      "align_items": null,
      "align_self": null,
      "border": null,
      "bottom": null,
      "display": null,
      "flex": null,
      "flex_flow": null,
      "grid_area": null,
      "grid_auto_columns": null,
      "grid_auto_flow": null,
      "grid_auto_rows": null,
      "grid_column": null,
      "grid_gap": null,
      "grid_row": null,
      "grid_template_areas": null,
      "grid_template_columns": null,
      "grid_template_rows": null,
      "height": null,
      "justify_content": null,
      "justify_items": null,
      "left": null,
      "margin": null,
      "max_height": null,
      "max_width": null,
      "min_height": null,
      "min_width": null,
      "object_fit": null,
      "object_position": null,
      "order": null,
      "overflow": null,
      "overflow_x": null,
      "overflow_y": null,
      "padding": null,
      "right": null,
      "top": null,
      "visibility": null,
      "width": null
     }
    },
    "84f8d37d524d4ab7b669ebf3481e7b91": {
     "model_module": "@jupyter-widgets/controls",
     "model_module_version": "1.5.0",
     "model_name": "HTMLModel",
     "state": {
      "_dom_classes": [],
      "_model_module": "@jupyter-widgets/controls",
      "_model_module_version": "1.5.0",
      "_model_name": "HTMLModel",
      "_view_count": null,
      "_view_module": "@jupyter-widgets/controls",
      "_view_module_version": "1.5.0",
      "_view_name": "HTMLView",
      "description": "",
      "description_tooltip": null,
      "layout": "IPY_MODEL_2aabec877940476cb0f12307f63adca2",
      "placeholder": "​",
      "style": "IPY_MODEL_ecf3fd623e1b4f1b9a8822612a9d81eb",
      "value": " 0/50 [00:00&lt;?, ?it/s]"
     }
    },
    "add4ab5f38ee4b90be11c84049bfa208": {
     "model_module": "@jupyter-widgets/base",
     "model_module_version": "1.2.0",
     "model_name": "LayoutModel",
     "state": {
      "_model_module": "@jupyter-widgets/base",
      "_model_module_version": "1.2.0",
      "_model_name": "LayoutModel",
      "_view_count": null,
      "_view_module": "@jupyter-widgets/base",
      "_view_module_version": "1.2.0",
      "_view_name": "LayoutView",
      "align_content": null,
      "align_items": null,
      "align_self": null,
      "border": null,
      "bottom": null,
      "display": null,
      "flex": null,
      "flex_flow": null,
      "grid_area": null,
      "grid_auto_columns": null,
      "grid_auto_flow": null,
      "grid_auto_rows": null,
      "grid_column": null,
      "grid_gap": null,
      "grid_row": null,
      "grid_template_areas": null,
      "grid_template_columns": null,
      "grid_template_rows": null,
      "height": null,
      "justify_content": null,
      "justify_items": null,
      "left": null,
      "margin": null,
      "max_height": null,
      "max_width": null,
      "min_height": null,
      "min_width": null,
      "object_fit": null,
      "object_position": null,
      "order": null,
      "overflow": null,
      "overflow_x": null,
      "overflow_y": null,
      "padding": null,
      "right": null,
      "top": null,
      "visibility": null,
      "width": null
     }
    },
    "b0f67fd13bf4409ca95cf1a15be786d3": {
     "model_module": "@jupyter-widgets/base",
     "model_module_version": "1.2.0",
     "model_name": "LayoutModel",
     "state": {
      "_model_module": "@jupyter-widgets/base",
      "_model_module_version": "1.2.0",
      "_model_name": "LayoutModel",
      "_view_count": null,
      "_view_module": "@jupyter-widgets/base",
      "_view_module_version": "1.2.0",
      "_view_name": "LayoutView",
      "align_content": null,
      "align_items": null,
      "align_self": null,
      "border": null,
      "bottom": null,
      "display": null,
      "flex": null,
      "flex_flow": null,
      "grid_area": null,
      "grid_auto_columns": null,
      "grid_auto_flow": null,
      "grid_auto_rows": null,
      "grid_column": null,
      "grid_gap": null,
      "grid_row": null,
      "grid_template_areas": null,
      "grid_template_columns": null,
      "grid_template_rows": null,
      "height": null,
      "justify_content": null,
      "justify_items": null,
      "left": null,
      "margin": null,
      "max_height": null,
      "max_width": null,
      "min_height": null,
      "min_width": null,
      "object_fit": null,
      "object_position": null,
      "order": null,
      "overflow": null,
      "overflow_x": null,
      "overflow_y": null,
      "padding": null,
      "right": null,
      "top": null,
      "visibility": null,
      "width": null
     }
    },
    "e4d691174bfe4c3585050b0a23f2031b": {
     "model_module": "@jupyter-widgets/base",
     "model_module_version": "1.2.0",
     "model_name": "LayoutModel",
     "state": {
      "_model_module": "@jupyter-widgets/base",
      "_model_module_version": "1.2.0",
      "_model_name": "LayoutModel",
      "_view_count": null,
      "_view_module": "@jupyter-widgets/base",
      "_view_module_version": "1.2.0",
      "_view_name": "LayoutView",
      "align_content": null,
      "align_items": null,
      "align_self": null,
      "border": null,
      "bottom": null,
      "display": null,
      "flex": null,
      "flex_flow": null,
      "grid_area": null,
      "grid_auto_columns": null,
      "grid_auto_flow": null,
      "grid_auto_rows": null,
      "grid_column": null,
      "grid_gap": null,
      "grid_row": null,
      "grid_template_areas": null,
      "grid_template_columns": null,
      "grid_template_rows": null,
      "height": null,
      "justify_content": null,
      "justify_items": null,
      "left": null,
      "margin": null,
      "max_height": null,
      "max_width": null,
      "min_height": null,
      "min_width": null,
      "object_fit": null,
      "object_position": null,
      "order": null,
      "overflow": null,
      "overflow_x": null,
      "overflow_y": null,
      "padding": null,
      "right": null,
      "top": null,
      "visibility": null,
      "width": null
     }
    },
    "ecf3fd623e1b4f1b9a8822612a9d81eb": {
     "model_module": "@jupyter-widgets/controls",
     "model_module_version": "1.5.0",
     "model_name": "DescriptionStyleModel",
     "state": {
      "_model_module": "@jupyter-widgets/controls",
      "_model_module_version": "1.5.0",
      "_model_name": "DescriptionStyleModel",
      "_view_count": null,
      "_view_module": "@jupyter-widgets/base",
      "_view_module_version": "1.2.0",
      "_view_name": "StyleView",
      "description_width": ""
     }
    },
    "f53800cc1da14ceda9ea6515dd250da0": {
     "model_module": "@jupyter-widgets/controls",
     "model_module_version": "1.5.0",
     "model_name": "HBoxModel",
     "state": {
      "_dom_classes": [],
      "_model_module": "@jupyter-widgets/controls",
      "_model_module_version": "1.5.0",
      "_model_name": "HBoxModel",
      "_view_count": null,
      "_view_module": "@jupyter-widgets/controls",
      "_view_module_version": "1.5.0",
      "_view_name": "HBoxView",
      "box_style": "",
      "children": [
       "IPY_MODEL_2705c64ab9f243d08b1b7ad52b8ca2c9",
       "IPY_MODEL_199c4563da6847d7a141f8adcb966099",
       "IPY_MODEL_84f8d37d524d4ab7b669ebf3481e7b91"
      ],
      "layout": "IPY_MODEL_e4d691174bfe4c3585050b0a23f2031b"
     }
    },
    "faf9fb11397e4dd891ba5baeebb3e7cd": {
     "model_module": "@jupyter-widgets/controls",
     "model_module_version": "1.5.0",
     "model_name": "DescriptionStyleModel",
     "state": {
      "_model_module": "@jupyter-widgets/controls",
      "_model_module_version": "1.5.0",
      "_model_name": "DescriptionStyleModel",
      "_view_count": null,
      "_view_module": "@jupyter-widgets/base",
      "_view_module_version": "1.2.0",
      "_view_name": "StyleView",
      "description_width": ""
     }
    }
   }
  }
 },
 "nbformat": 4,
 "nbformat_minor": 1
}
